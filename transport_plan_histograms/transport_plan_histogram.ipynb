{
 "cells": [
  {
   "cell_type": "markdown",
   "id": "2278c778",
   "metadata": {},
   "source": [
    "### Settings & imports"
   ]
  },
  {
   "cell_type": "code",
   "execution_count": 1,
   "id": "52249722",
   "metadata": {},
   "outputs": [],
   "source": [
    "%matplotlib notebook"
   ]
  },
  {
   "cell_type": "code",
   "execution_count": 2,
   "id": "6af4ae0a",
   "metadata": {},
   "outputs": [],
   "source": [
    "import sys\n",
    "mypath = \"/home/basia/Documents/spectroscopy/wassersteinms\"\n",
    "sys.path.insert(0, mypath)\n",
    "import masserstein "
   ]
  },
  {
   "cell_type": "code",
   "execution_count": 3,
   "id": "55f0baff",
   "metadata": {},
   "outputs": [],
   "source": [
    "import os\n",
    "\n",
    "from masserstein import Spectrum, NMRSpectrum\n",
    "from masserstein import estimate_proportions\n",
    "\n",
    "from matplotlib import pyplot as plt\n",
    "\n",
    "import numpy as np\n",
    "\n",
    "import pulp\n",
    "\n",
    "import pickle\n",
    "\n",
    "import seaborn as sns\n",
    "from textwrap import wrap\n",
    "\n",
    "from pathlib import Path\n",
    "\n",
    "import pandas as pd"
   ]
  },
  {
   "cell_type": "code",
   "execution_count": 4,
   "id": "87bb9eea",
   "metadata": {},
   "outputs": [],
   "source": [
    "nr_of_experiment = 9"
   ]
  },
  {
   "cell_type": "markdown",
   "id": "e7c66ece",
   "metadata": {},
   "source": [
    "### Experiments data"
   ]
  },
  {
   "cell_type": "code",
   "execution_count": 5,
   "id": "f398d617",
   "metadata": {},
   "outputs": [],
   "source": [
    "components_dictionary = {'experiment_1': ['Pinene', 'Benzyl benzoate'],\n",
    "                        'experiment_2': ['Pinene', 'Limonene'],\n",
    "                        'experiment_7': ['Benzyl benzoate', 'm Anisaldehyde'],\n",
    "                        'experiment_3': ['Isopropyl myristate', 'Benzyl benzoate', 'Alpha pinene', 'Limonene'],\n",
    "                        'experiment_6': ['Pinene', 'Benzyl benzoate'],\n",
    "                        'experiment_5': ['Lactate', 'Alanine', 'Creatine', 'Creatinine', 'Choline chloride'],\n",
    "                        'experiment_9': ['Lactate', 'Alanine', 'Creatine', 'Creatinine', 'Choline chloride'],\n",
    "                        'experiment_4': ['Lactate', 'Alanine', 'Creatine', 'Creatinine', 'Choline chloride'],\n",
    "                        'experiment_8': ['Benzyl benzoate', 'm Anisaldehyde']}"
   ]
  },
  {
   "cell_type": "code",
   "execution_count": 6,
   "id": "21e80170",
   "metadata": {},
   "outputs": [],
   "source": [
    "protons_dictionary = {'experiment_1': [16, 12],\n",
    "                        'experiment_2': [16, 16],\n",
    "                        'experiment_7': [12, 8],\n",
    "                        'experiment_3': [34, 12, 16, 16],\n",
    "                        'experiment_6': [16, 12],\n",
    "                        'experiment_5': [4, 4, 5, 5, 13],\n",
    "                        'experiment_9': [4, 4, 5, 5, 13],\n",
    "                        'experiment_4': [4, 4, 5, 5, 13],\n",
    "                        'experiment_8': [12, 8]}"
   ]
  },
  {
   "cell_type": "code",
   "execution_count": 7,
   "id": "2e5c6823",
   "metadata": {},
   "outputs": [],
   "source": [
    "ground_truth_molar_proportions = {'experiment_1': [0.09088457406472417, 0.9091154259352758],\n",
    "                                    'experiment_2': [0.505, 0.495],\n",
    "                                    'experiment_7': [0.8403875207510383, 0.1596124792489616],\n",
    "                                    'experiment_3': [0.7264578344443725, 0.10578603326645526, 0.081968804608116, 0.08578732768105625],\n",
    "                                    'experiment_6': [0.3865, 0.6135],\n",
    "                                    'experiment_5': [0.3022, 0.2240, 0.1253, 0.2028, 0.1457],\n",
    "                                    'experiment_9': [0.3022, 0.2240, 0.1253, 0.2028, 0.1457],\n",
    "                                    'experiment_4': [0.3022, 0.2240, 0.1253, 0.2028, 0.1457],\n",
    "                                    'experiment_8': [0.3702, 0.6298]}"
   ]
  },
  {
   "cell_type": "code",
   "execution_count": 8,
   "id": "613cdeed",
   "metadata": {},
   "outputs": [],
   "source": [
    "experiments_folders = {'experiment_1': 'experiment_1_intensity_difference',\n",
    "                        'experiment_6': 'experiment_6_miniperfumes',\n",
    "                        'experiment_5': 'experiment_5_metabolites',\n",
    "                         'experiment_7': 'experiment_7_overlapping_and_intensity_difference',\n",
    "                         'experiment_9': 'experiment_9_and_4_shim',\n",
    "                       'experiment_4': 'experiment_9_and_4_shim',\n",
    "                        'experiment_8': 'experiment_8_different_solvents',\n",
    "                        'experiment_3': 'experiment_3_perfumes_and_absent_components',\n",
    "                         'experiment_2': 'experiment_2_overlapping'}"
   ]
  },
  {
   "cell_type": "code",
   "execution_count": 9,
   "id": "260993d8",
   "metadata": {},
   "outputs": [],
   "source": [
    "best_kappa_mix = [0.09, 0.05, 0.37, 0.11, 0.03, 0.06, 0.23, 0.2, 0.05]"
   ]
  },
  {
   "cell_type": "code",
   "execution_count": 10,
   "id": "99d93525",
   "metadata": {},
   "outputs": [],
   "source": [
    "best_kappa_model = [0.08, 0.01, 0.24, 0.02, 0.09, 0.2, 0.02, 0.29, 0.02]"
   ]
  },
  {
   "cell_type": "markdown",
   "id": "e84eddc3",
   "metadata": {},
   "source": [
    "### Loading the data"
   ]
  },
  {
   "cell_type": "code",
   "execution_count": 11,
   "id": "0915a07b",
   "metadata": {},
   "outputs": [],
   "source": [
    "cwd = Path(os.getcwd())\n",
    "path = cwd.parent.absolute()"
   ]
  },
  {
   "cell_type": "code",
   "execution_count": 12,
   "id": "a16bd1b8",
   "metadata": {},
   "outputs": [],
   "source": [
    "if (nr_of_experiment != 9 and nr_of_experiment != 4):\n",
    "    filename = str(path)+'/' + experiments_folders['experiment_' + str(nr_of_experiment)] + '/preprocessed_mix.csv'\n",
    "    mix = np.loadtxt(filename, delimiter=',')\n",
    "else:\n",
    "    filename = str(path) + '/' + experiments_folders['experiment_' + str(nr_of_experiment)] + '/preprocessed_exp'+str(nr_of_experiment)+'_mix.csv'\n",
    "    mix = np.loadtxt(filename, delimiter=',')"
   ]
  },
  {
   "cell_type": "code",
   "execution_count": 13,
   "id": "67c8aeb3",
   "metadata": {},
   "outputs": [],
   "source": [
    "how_many_components = len(components_dictionary['experiment_'+str(nr_of_experiment)])\n",
    "names = ['comp' + str(i) for i in range(how_many_components)]"
   ]
  },
  {
   "cell_type": "code",
   "execution_count": 14,
   "id": "4d402de1",
   "metadata": {},
   "outputs": [],
   "source": [
    "spectra = []\n",
    "for i in range(how_many_components):\n",
    "    if (nr_of_experiment != 4 and nr_of_experiment != 9):\n",
    "        filename = str(path) + '/' + experiments_folders['experiment_' + str(nr_of_experiment)] + \\\n",
    "                    '/preprocessed_comp' + str(i) + '.csv'\n",
    "        spectra.append(np.loadtxt(filename, delimiter=','))\n",
    "    else:\n",
    "        filename = str(path) + '/' + experiments_folders['experiment_' + str(nr_of_experiment)] + \\\n",
    "                    '/preprocessed_exp'+str(nr_of_experiment)+ '_comp'+ str(i) + '.csv'\n",
    "        spectra.append(np.loadtxt(filename, delimiter=','))"
   ]
  },
  {
   "cell_type": "code",
   "execution_count": 15,
   "id": "f68d15b6",
   "metadata": {},
   "outputs": [],
   "source": [
    "spectra2 = []\n",
    "names = []\n",
    "for i in range(len(spectra)):\n",
    "    spectra2.append(NMRSpectrum(confs=list(zip(spectra[i][:,0], spectra[i][:,1])), \n",
    "                                protons=protons_dictionary['experiment_'+str(nr_of_experiment)][i]))\n",
    "    names.append('comp'+str(i))\n",
    "\n",
    "spectra = spectra2\n",
    "del(spectra2)\n",
    "mix = NMRSpectrum(confs=list(zip(mix[:,0], mix[:,1])))"
   ]
  },
  {
   "cell_type": "code",
   "execution_count": 16,
   "id": "066513a3",
   "metadata": {},
   "outputs": [],
   "source": [
    "for i, name in enumerate(names):\n",
    "    globals()[name] = spectra[i]"
   ]
  },
  {
   "cell_type": "code",
   "execution_count": 17,
   "id": "56905c27",
   "metadata": {},
   "outputs": [],
   "source": [
    "# mix.plot(profile=True)\n",
    "# comp0.plot(profile=True)\n",
    "# comp1.plot(profile=True)"
   ]
  },
  {
   "cell_type": "markdown",
   "id": "31df385c",
   "metadata": {},
   "source": [
    "### Estimation"
   ]
  },
  {
   "cell_type": "code",
   "execution_count": 18,
   "id": "d44ebf2f",
   "metadata": {},
   "outputs": [
    {
     "name": "stdout",
     "output_type": "stream",
     "text": [
      "Set parameter Username\n",
      "Academic license - for non-commercial use only - expires 2023-11-10\n"
     ]
    },
    {
     "name": "stderr",
     "output_type": "stream",
     "text": [
      "Initial filtering of formulas: 100%|█████████████| 5/5 [00:00<00:00, 290.81it/s]\n"
     ]
    },
    {
     "name": "stdout",
     "output_type": "stream",
     "text": [
      "Removed theoretical spectra due to no matching experimental peaks: []\n",
      "Envelope bounds: [(0.827366, 4.1272, 0), (0.827366, 4.1272, 1), (0.827366, 4.1272, 2), (0.827366, 4.1272, 3), (0.827366, 4.1272, 4)]\n"
     ]
    },
    {
     "name": "stderr",
     "output_type": "stream",
     "text": [
      "Computing chunks: 100%|███████████████████████| 5/5 [00:00<00:00, 235635.06it/s]\n"
     ]
    },
    {
     "name": "stdout",
     "output_type": "stream",
     "text": [
      "Number of chunks: 1\n",
      "ChunkIDs: [0, 0, 0, 0, 0]\n",
      "Chunk bounds: [(0.777366, 4.1772)]\n"
     ]
    },
    {
     "name": "stderr",
     "output_type": "stream",
     "text": [
      "Splitting the experimental spectrum into chunks: 27129it [00:00, 3401508.83it/s]\n"
     ]
    },
    {
     "name": "stdout",
     "output_type": "stream",
     "text": [
      "Ion currents in chunks: [1.0000000000000013]\n"
     ]
    },
    {
     "name": "stderr",
     "output_type": "stream",
     "text": [
      "\r",
      "Deconvolving chunks:   0%|                                | 0/1 [00:00<?, ?it/s]"
     ]
    },
    {
     "name": "stdout",
     "output_type": "stream",
     "text": [
      "Deconvolving chunk 0\n"
     ]
    },
    {
     "name": "stderr",
     "output_type": "stream",
     "text": [
      "/home/basia/.local/lib/python3.10/site-packages/pulp/pulp.py:1352: UserWarning: Spaces are not permitted in the name. Converted to '_'\n",
      "  warnings.warn(\"Spaces are not permitted in the name. Converted to '_'\")\n",
      "Deconvolving chunks: 100%|████████████████████████| 1/1 [00:13<00:00, 13.29s/it]"
     ]
    },
    {
     "name": "stdout",
     "output_type": "stream",
     "text": [
      "Chunk %i deconvolution status: Optimal\n",
      "Signal proportion in experimental spectrum: 1.0\n",
      "Noise proportion in experimental spectrum: 0.0\n",
      "Total explanation: 1.0\n",
      "Noise proportion in combination of theoretical spectra: 0.027127614012\n"
     ]
    },
    {
     "name": "stderr",
     "output_type": "stream",
     "text": [
      "\n"
     ]
    }
   ],
   "source": [
    "estimation_vis = estimate_proportions(mix, spectra,\n",
    "                                        MTD=best_kappa_mix[nr_of_experiment-1], \n",
    "                                        MTD_th=best_kappa_model[nr_of_experiment-1],\n",
    "                                        verbose=True, solver=pulp.GUROBI(msg=False), \n",
    "                                        what_to_compare='area')"
   ]
  },
  {
   "cell_type": "code",
   "execution_count": 19,
   "id": "c58f7242",
   "metadata": {},
   "outputs": [
    {
     "data": {
      "text/plain": [
       "[0.2274974749980003,\n",
       " 0.1505718363740002,\n",
       " 0.11728689957200016,\n",
       " 0.17735592181800025,\n",
       " 0.32728786723800046]"
      ]
     },
     "execution_count": 19,
     "metadata": {},
     "output_type": "execute_result"
    }
   ],
   "source": [
    "estimation_vis['proportions']"
   ]
  },
  {
   "cell_type": "code",
   "execution_count": 20,
   "id": "f463c3dd",
   "metadata": {},
   "outputs": [
    {
     "data": {
      "text/plain": [
       "0.027127614012000034"
      ]
     },
     "execution_count": 20,
     "metadata": {},
     "output_type": "execute_result"
    }
   ],
   "source": [
    "estimation_vis['proportion_of_noise_in_theoretical']"
   ]
  },
  {
   "cell_type": "code",
   "execution_count": 21,
   "id": "ca73a54f",
   "metadata": {},
   "outputs": [
    {
     "name": "stderr",
     "output_type": "stream",
     "text": [
      "Initial filtering of formulas: 100%|█████████████| 5/5 [00:00<00:00, 292.27it/s]\n"
     ]
    },
    {
     "name": "stdout",
     "output_type": "stream",
     "text": [
      "Removed theoretical spectra due to no matching experimental peaks: []\n",
      "Envelope bounds: [(0.827366, 4.1272, 0), (0.827366, 4.1272, 1), (0.827366, 4.1272, 2), (0.827366, 4.1272, 3), (0.827366, 4.1272, 4)]\n"
     ]
    },
    {
     "name": "stderr",
     "output_type": "stream",
     "text": [
      "Computing chunks: 100%|███████████████████████| 5/5 [00:00<00:00, 124830.48it/s]\n"
     ]
    },
    {
     "name": "stdout",
     "output_type": "stream",
     "text": [
      "Number of chunks: 1\n",
      "ChunkIDs: [0, 0, 0, 0, 0]\n",
      "Chunk bounds: [(0.777366, 4.1772)]\n"
     ]
    },
    {
     "name": "stderr",
     "output_type": "stream",
     "text": [
      "Splitting the experimental spectrum into chunks: 27129it [00:00, 3086342.44it/s]\n"
     ]
    },
    {
     "name": "stdout",
     "output_type": "stream",
     "text": [
      "Ion currents in chunks: [1.0000000000000013]\n"
     ]
    },
    {
     "name": "stderr",
     "output_type": "stream",
     "text": [
      "\r",
      "Deconvolving chunks:   0%|                                | 0/1 [00:00<?, ?it/s]"
     ]
    },
    {
     "name": "stdout",
     "output_type": "stream",
     "text": [
      "Deconvolving chunk 0\n"
     ]
    },
    {
     "name": "stderr",
     "output_type": "stream",
     "text": [
      "Deconvolving chunks: 100%|████████████████████████| 1/1 [00:13<00:00, 13.30s/it]"
     ]
    },
    {
     "name": "stdout",
     "output_type": "stream",
     "text": [
      "Chunk %i deconvolution status: Optimal\n",
      "Signal proportion in experimental spectrum: 1.0\n",
      "Noise proportion in experimental spectrum: 0.0\n",
      "Total explanation: 1.0\n",
      "Noise proportion in combination of theoretical spectra: 0.027127614012\n"
     ]
    },
    {
     "name": "stderr",
     "output_type": "stream",
     "text": [
      "\n"
     ]
    }
   ],
   "source": [
    "estimation_molar = estimate_proportions(mix, spectra,\n",
    "                                        MTD=best_kappa_mix[nr_of_experiment-1], \n",
    "                                        MTD_th=best_kappa_model[nr_of_experiment-1],\n",
    "                                        verbose=True, solver=pulp.GUROBI(msg=False), \n",
    "                                        what_to_compare='concentration')"
   ]
  },
  {
   "cell_type": "code",
   "execution_count": 22,
   "id": "354693e3",
   "metadata": {},
   "outputs": [
    {
     "data": {
      "text/plain": [
       "[0.3184065028416952,\n",
       " 0.21074102842995854,\n",
       " 0.1313242233468972,\n",
       " 0.19858252519006975,\n",
       " 0.14094572019137933]"
      ]
     },
     "execution_count": 22,
     "metadata": {},
     "output_type": "execute_result"
    }
   ],
   "source": [
    "estimation_molar['proportions']"
   ]
  },
  {
   "cell_type": "markdown",
   "id": "536cc3bc",
   "metadata": {},
   "source": [
    "### Transport plan histograms"
   ]
  },
  {
   "cell_type": "code",
   "execution_count": 23,
   "id": "6d4e9f69",
   "metadata": {},
   "outputs": [],
   "source": [
    "components_ints = [np.array(sp.confs)[:,1] for sp in spectra]\n",
    "components_ppm = np.array(spectra[0].confs)[:,0]"
   ]
  },
  {
   "cell_type": "code",
   "execution_count": 24,
   "id": "95e79457",
   "metadata": {},
   "outputs": [],
   "source": [
    "ppm = np.array(mix.confs)[:,0]\n",
    "mix_ints = np.array(mix.confs)[:,1]"
   ]
  },
  {
   "cell_type": "code",
   "execution_count": 25,
   "id": "2295473c",
   "metadata": {},
   "outputs": [],
   "source": [
    "assert np.all(ppm == components_ppm)\n",
    "assert np.all(ppm == estimation_vis['global_mass_axis'])"
   ]
  },
  {
   "cell_type": "markdown",
   "id": "62eb7167",
   "metadata": {},
   "source": [
    "#### Removing signal that went to vortex"
   ]
  },
  {
   "cell_type": "markdown",
   "id": "b68f9e7f",
   "metadata": {},
   "source": [
    "##### Mixture"
   ]
  },
  {
   "cell_type": "code",
   "execution_count": 26,
   "id": "4b9d8c23",
   "metadata": {},
   "outputs": [],
   "source": [
    "mix_without_noise = NMRSpectrum(confs = list(zip(ppm, mix_ints - np.array(estimation_vis['noise']))))"
   ]
  },
  {
   "cell_type": "markdown",
   "id": "bb072b96",
   "metadata": {},
   "source": [
    "##### Components"
   ]
  },
  {
   "cell_type": "code",
   "execution_count": 27,
   "id": "96cc519e",
   "metadata": {},
   "outputs": [],
   "source": [
    "p = np.array(estimation_vis['proportions']).reshape(len(estimation_vis['proportions']),1)"
   ]
  },
  {
   "cell_type": "code",
   "execution_count": 28,
   "id": "63eecd04",
   "metadata": {},
   "outputs": [],
   "source": [
    "names_matmul = ['sum_up_to_'+str(i+1) for i in range(len(spectra))]"
   ]
  },
  {
   "cell_type": "code",
   "execution_count": 29,
   "id": "a1a98331",
   "metadata": {},
   "outputs": [],
   "source": [
    "components_ints = [comp_int.reshape(-1, 1) for comp_int in components_ints]"
   ]
  },
  {
   "cell_type": "code",
   "execution_count": 30,
   "id": "b419d507",
   "metadata": {},
   "outputs": [],
   "source": [
    "X = np.concatenate(components_ints, axis=1)"
   ]
  },
  {
   "cell_type": "code",
   "execution_count": 31,
   "id": "88184931",
   "metadata": {},
   "outputs": [],
   "source": [
    "for i, name in enumerate(names_matmul):\n",
    "    globals()[name] = np.dot(X[:,:(i+1)],p[:(i+1),:])[:,0]"
   ]
  },
  {
   "cell_type": "code",
   "execution_count": 32,
   "id": "2fa3a280",
   "metadata": {},
   "outputs": [],
   "source": [
    "mix_estimation = np.concatenate([ppm.reshape(-1,1), globals()[names_matmul[-1]].reshape(-1,1)], axis=1)"
   ]
  },
  {
   "cell_type": "code",
   "execution_count": 33,
   "id": "9d3f00bc",
   "metadata": {},
   "outputs": [],
   "source": [
    "components_without_noise = NMRSpectrum(confs = list(zip(mix_estimation[:,0], mix_estimation[:,1] - np.array(estimation_vis['noise_in_theoretical']))))"
   ]
  },
  {
   "cell_type": "code",
   "execution_count": 34,
   "id": "7079c712",
   "metadata": {},
   "outputs": [],
   "source": [
    "components_without_noise.trim_negative_intensities()\n",
    "mix_without_noise.trim_negative_intensities()"
   ]
  },
  {
   "cell_type": "code",
   "execution_count": 35,
   "id": "0a830394",
   "metadata": {},
   "outputs": [],
   "source": [
    "components_without_noise.normalize()\n",
    "mix_without_noise.normalize()"
   ]
  },
  {
   "cell_type": "code",
   "execution_count": 36,
   "id": "5e5efb16",
   "metadata": {},
   "outputs": [],
   "source": [
    "# components_without_noise.plot(profile=True)\n",
    "# mix_without_noise.plot(profile=True)"
   ]
  },
  {
   "cell_type": "markdown",
   "id": "a151414b",
   "metadata": {},
   "source": [
    "#### Histograms"
   ]
  },
  {
   "cell_type": "code",
   "execution_count": 37,
   "id": "a22fee02",
   "metadata": {},
   "outputs": [
    {
     "data": {
      "text/plain": [
       "0.0038477098438854016"
      ]
     },
     "execution_count": 37,
     "metadata": {},
     "output_type": "execute_result"
    }
   ],
   "source": [
    "mix_without_noise.WSDistance(components_without_noise)"
   ]
  },
  {
   "cell_type": "code",
   "execution_count": 38,
   "id": "dfdace57",
   "metadata": {},
   "outputs": [],
   "source": [
    "#mix_without_noise = mix_without_noise.__mul__(1-sum(estimation_vis['proportions']))"
   ]
  },
  {
   "cell_type": "code",
   "execution_count": 39,
   "id": "93871133",
   "metadata": {},
   "outputs": [],
   "source": [
    "distances = [abs(x[0]-x[1]) for x in list(mix_without_noise.WSDistanceMoves(components_without_noise))]\n",
    "signals = [x[2] for x in list(mix_without_noise.WSDistanceMoves(components_without_noise))]"
   ]
  },
  {
   "cell_type": "code",
   "execution_count": 40,
   "id": "c6207999",
   "metadata": {},
   "outputs": [],
   "source": [
    "distances_signals = list(zip(distances, signals))\n",
    "distances_signals = pd.DataFrame(distances_signals, columns = ['Distances', 'Signals'])\n",
    "distances_signals = distances_signals.groupby('Distances').agg('sum')\n",
    "distances_signals.sort_index(inplace=True)"
   ]
  },
  {
   "cell_type": "code",
   "execution_count": 41,
   "id": "775d107a",
   "metadata": {},
   "outputs": [],
   "source": [
    "MTD=best_kappa_mix[nr_of_experiment-1]\n",
    "MTD_th=best_kappa_model[nr_of_experiment-1]"
   ]
  },
  {
   "cell_type": "code",
   "execution_count": 42,
   "id": "e605abb6",
   "metadata": {},
   "outputs": [],
   "source": [
    "distances_signals.loc[MTD] = (1-sum(estimation_vis['proportions']))\n",
    "distances_signals.loc[MTD_th] = estimation_vis['proportion_of_noise_in_theoretical']\n",
    "#distances_signals.sort_index(inplace=True)"
   ]
  },
  {
   "cell_type": "code",
   "execution_count": 43,
   "id": "7c339885",
   "metadata": {
    "scrolled": false
   },
   "outputs": [
    {
     "data": {
      "application/javascript": [
       "/* Put everything inside the global mpl namespace */\n",
       "/* global mpl */\n",
       "window.mpl = {};\n",
       "\n",
       "mpl.get_websocket_type = function () {\n",
       "    if (typeof WebSocket !== 'undefined') {\n",
       "        return WebSocket;\n",
       "    } else if (typeof MozWebSocket !== 'undefined') {\n",
       "        return MozWebSocket;\n",
       "    } else {\n",
       "        alert(\n",
       "            'Your browser does not have WebSocket support. ' +\n",
       "                'Please try Chrome, Safari or Firefox ≥ 6. ' +\n",
       "                'Firefox 4 and 5 are also supported but you ' +\n",
       "                'have to enable WebSockets in about:config.'\n",
       "        );\n",
       "    }\n",
       "};\n",
       "\n",
       "mpl.figure = function (figure_id, websocket, ondownload, parent_element) {\n",
       "    this.id = figure_id;\n",
       "\n",
       "    this.ws = websocket;\n",
       "\n",
       "    this.supports_binary = this.ws.binaryType !== undefined;\n",
       "\n",
       "    if (!this.supports_binary) {\n",
       "        var warnings = document.getElementById('mpl-warnings');\n",
       "        if (warnings) {\n",
       "            warnings.style.display = 'block';\n",
       "            warnings.textContent =\n",
       "                'This browser does not support binary websocket messages. ' +\n",
       "                'Performance may be slow.';\n",
       "        }\n",
       "    }\n",
       "\n",
       "    this.imageObj = new Image();\n",
       "\n",
       "    this.context = undefined;\n",
       "    this.message = undefined;\n",
       "    this.canvas = undefined;\n",
       "    this.rubberband_canvas = undefined;\n",
       "    this.rubberband_context = undefined;\n",
       "    this.format_dropdown = undefined;\n",
       "\n",
       "    this.image_mode = 'full';\n",
       "\n",
       "    this.root = document.createElement('div');\n",
       "    this.root.setAttribute('style', 'display: inline-block');\n",
       "    this._root_extra_style(this.root);\n",
       "\n",
       "    parent_element.appendChild(this.root);\n",
       "\n",
       "    this._init_header(this);\n",
       "    this._init_canvas(this);\n",
       "    this._init_toolbar(this);\n",
       "\n",
       "    var fig = this;\n",
       "\n",
       "    this.waiting = false;\n",
       "\n",
       "    this.ws.onopen = function () {\n",
       "        fig.send_message('supports_binary', { value: fig.supports_binary });\n",
       "        fig.send_message('send_image_mode', {});\n",
       "        if (fig.ratio !== 1) {\n",
       "            fig.send_message('set_device_pixel_ratio', {\n",
       "                device_pixel_ratio: fig.ratio,\n",
       "            });\n",
       "        }\n",
       "        fig.send_message('refresh', {});\n",
       "    };\n",
       "\n",
       "    this.imageObj.onload = function () {\n",
       "        if (fig.image_mode === 'full') {\n",
       "            // Full images could contain transparency (where diff images\n",
       "            // almost always do), so we need to clear the canvas so that\n",
       "            // there is no ghosting.\n",
       "            fig.context.clearRect(0, 0, fig.canvas.width, fig.canvas.height);\n",
       "        }\n",
       "        fig.context.drawImage(fig.imageObj, 0, 0);\n",
       "    };\n",
       "\n",
       "    this.imageObj.onunload = function () {\n",
       "        fig.ws.close();\n",
       "    };\n",
       "\n",
       "    this.ws.onmessage = this._make_on_message_function(this);\n",
       "\n",
       "    this.ondownload = ondownload;\n",
       "};\n",
       "\n",
       "mpl.figure.prototype._init_header = function () {\n",
       "    var titlebar = document.createElement('div');\n",
       "    titlebar.classList =\n",
       "        'ui-dialog-titlebar ui-widget-header ui-corner-all ui-helper-clearfix';\n",
       "    var titletext = document.createElement('div');\n",
       "    titletext.classList = 'ui-dialog-title';\n",
       "    titletext.setAttribute(\n",
       "        'style',\n",
       "        'width: 100%; text-align: center; padding: 3px;'\n",
       "    );\n",
       "    titlebar.appendChild(titletext);\n",
       "    this.root.appendChild(titlebar);\n",
       "    this.header = titletext;\n",
       "};\n",
       "\n",
       "mpl.figure.prototype._canvas_extra_style = function (_canvas_div) {};\n",
       "\n",
       "mpl.figure.prototype._root_extra_style = function (_canvas_div) {};\n",
       "\n",
       "mpl.figure.prototype._init_canvas = function () {\n",
       "    var fig = this;\n",
       "\n",
       "    var canvas_div = (this.canvas_div = document.createElement('div'));\n",
       "    canvas_div.setAttribute('tabindex', '0');\n",
       "    canvas_div.setAttribute(\n",
       "        'style',\n",
       "        'border: 1px solid #ddd;' +\n",
       "            'box-sizing: content-box;' +\n",
       "            'clear: both;' +\n",
       "            'min-height: 1px;' +\n",
       "            'min-width: 1px;' +\n",
       "            'outline: 0;' +\n",
       "            'overflow: hidden;' +\n",
       "            'position: relative;' +\n",
       "            'resize: both;' +\n",
       "            'z-index: 2;'\n",
       "    );\n",
       "\n",
       "    function on_keyboard_event_closure(name) {\n",
       "        return function (event) {\n",
       "            return fig.key_event(event, name);\n",
       "        };\n",
       "    }\n",
       "\n",
       "    canvas_div.addEventListener(\n",
       "        'keydown',\n",
       "        on_keyboard_event_closure('key_press')\n",
       "    );\n",
       "    canvas_div.addEventListener(\n",
       "        'keyup',\n",
       "        on_keyboard_event_closure('key_release')\n",
       "    );\n",
       "\n",
       "    this._canvas_extra_style(canvas_div);\n",
       "    this.root.appendChild(canvas_div);\n",
       "\n",
       "    var canvas = (this.canvas = document.createElement('canvas'));\n",
       "    canvas.classList.add('mpl-canvas');\n",
       "    canvas.setAttribute(\n",
       "        'style',\n",
       "        'box-sizing: content-box;' +\n",
       "            'pointer-events: none;' +\n",
       "            'position: relative;' +\n",
       "            'z-index: 0;'\n",
       "    );\n",
       "\n",
       "    this.context = canvas.getContext('2d');\n",
       "\n",
       "    var backingStore =\n",
       "        this.context.backingStorePixelRatio ||\n",
       "        this.context.webkitBackingStorePixelRatio ||\n",
       "        this.context.mozBackingStorePixelRatio ||\n",
       "        this.context.msBackingStorePixelRatio ||\n",
       "        this.context.oBackingStorePixelRatio ||\n",
       "        this.context.backingStorePixelRatio ||\n",
       "        1;\n",
       "\n",
       "    this.ratio = (window.devicePixelRatio || 1) / backingStore;\n",
       "\n",
       "    var rubberband_canvas = (this.rubberband_canvas = document.createElement(\n",
       "        'canvas'\n",
       "    ));\n",
       "    rubberband_canvas.setAttribute(\n",
       "        'style',\n",
       "        'box-sizing: content-box;' +\n",
       "            'left: 0;' +\n",
       "            'pointer-events: none;' +\n",
       "            'position: absolute;' +\n",
       "            'top: 0;' +\n",
       "            'z-index: 1;'\n",
       "    );\n",
       "\n",
       "    // Apply a ponyfill if ResizeObserver is not implemented by browser.\n",
       "    if (this.ResizeObserver === undefined) {\n",
       "        if (window.ResizeObserver !== undefined) {\n",
       "            this.ResizeObserver = window.ResizeObserver;\n",
       "        } else {\n",
       "            var obs = _JSXTOOLS_RESIZE_OBSERVER({});\n",
       "            this.ResizeObserver = obs.ResizeObserver;\n",
       "        }\n",
       "    }\n",
       "\n",
       "    this.resizeObserverInstance = new this.ResizeObserver(function (entries) {\n",
       "        var nentries = entries.length;\n",
       "        for (var i = 0; i < nentries; i++) {\n",
       "            var entry = entries[i];\n",
       "            var width, height;\n",
       "            if (entry.contentBoxSize) {\n",
       "                if (entry.contentBoxSize instanceof Array) {\n",
       "                    // Chrome 84 implements new version of spec.\n",
       "                    width = entry.contentBoxSize[0].inlineSize;\n",
       "                    height = entry.contentBoxSize[0].blockSize;\n",
       "                } else {\n",
       "                    // Firefox implements old version of spec.\n",
       "                    width = entry.contentBoxSize.inlineSize;\n",
       "                    height = entry.contentBoxSize.blockSize;\n",
       "                }\n",
       "            } else {\n",
       "                // Chrome <84 implements even older version of spec.\n",
       "                width = entry.contentRect.width;\n",
       "                height = entry.contentRect.height;\n",
       "            }\n",
       "\n",
       "            // Keep the size of the canvas and rubber band canvas in sync with\n",
       "            // the canvas container.\n",
       "            if (entry.devicePixelContentBoxSize) {\n",
       "                // Chrome 84 implements new version of spec.\n",
       "                canvas.setAttribute(\n",
       "                    'width',\n",
       "                    entry.devicePixelContentBoxSize[0].inlineSize\n",
       "                );\n",
       "                canvas.setAttribute(\n",
       "                    'height',\n",
       "                    entry.devicePixelContentBoxSize[0].blockSize\n",
       "                );\n",
       "            } else {\n",
       "                canvas.setAttribute('width', width * fig.ratio);\n",
       "                canvas.setAttribute('height', height * fig.ratio);\n",
       "            }\n",
       "            /* This rescales the canvas back to display pixels, so that it\n",
       "             * appears correct on HiDPI screens. */\n",
       "            canvas.style.width = width + 'px';\n",
       "            canvas.style.height = height + 'px';\n",
       "\n",
       "            rubberband_canvas.setAttribute('width', width);\n",
       "            rubberband_canvas.setAttribute('height', height);\n",
       "\n",
       "            // And update the size in Python. We ignore the initial 0/0 size\n",
       "            // that occurs as the element is placed into the DOM, which should\n",
       "            // otherwise not happen due to the minimum size styling.\n",
       "            if (fig.ws.readyState == 1 && width != 0 && height != 0) {\n",
       "                fig.request_resize(width, height);\n",
       "            }\n",
       "        }\n",
       "    });\n",
       "    this.resizeObserverInstance.observe(canvas_div);\n",
       "\n",
       "    function on_mouse_event_closure(name) {\n",
       "        /* User Agent sniffing is bad, but WebKit is busted:\n",
       "         * https://bugs.webkit.org/show_bug.cgi?id=144526\n",
       "         * https://bugs.webkit.org/show_bug.cgi?id=181818\n",
       "         * The worst that happens here is that they get an extra browser\n",
       "         * selection when dragging, if this check fails to catch them.\n",
       "         */\n",
       "        var UA = navigator.userAgent;\n",
       "        var isWebKit = /AppleWebKit/.test(UA) && !/Chrome/.test(UA);\n",
       "        if(isWebKit) {\n",
       "            return function (event) {\n",
       "                /* This prevents the web browser from automatically changing to\n",
       "                 * the text insertion cursor when the button is pressed. We\n",
       "                 * want to control all of the cursor setting manually through\n",
       "                 * the 'cursor' event from matplotlib */\n",
       "                event.preventDefault()\n",
       "                return fig.mouse_event(event, name);\n",
       "            };\n",
       "        } else {\n",
       "            return function (event) {\n",
       "                return fig.mouse_event(event, name);\n",
       "            };\n",
       "        }\n",
       "    }\n",
       "\n",
       "    canvas_div.addEventListener(\n",
       "        'mousedown',\n",
       "        on_mouse_event_closure('button_press')\n",
       "    );\n",
       "    canvas_div.addEventListener(\n",
       "        'mouseup',\n",
       "        on_mouse_event_closure('button_release')\n",
       "    );\n",
       "    canvas_div.addEventListener(\n",
       "        'dblclick',\n",
       "        on_mouse_event_closure('dblclick')\n",
       "    );\n",
       "    // Throttle sequential mouse events to 1 every 20ms.\n",
       "    canvas_div.addEventListener(\n",
       "        'mousemove',\n",
       "        on_mouse_event_closure('motion_notify')\n",
       "    );\n",
       "\n",
       "    canvas_div.addEventListener(\n",
       "        'mouseenter',\n",
       "        on_mouse_event_closure('figure_enter')\n",
       "    );\n",
       "    canvas_div.addEventListener(\n",
       "        'mouseleave',\n",
       "        on_mouse_event_closure('figure_leave')\n",
       "    );\n",
       "\n",
       "    canvas_div.addEventListener('wheel', function (event) {\n",
       "        if (event.deltaY < 0) {\n",
       "            event.step = 1;\n",
       "        } else {\n",
       "            event.step = -1;\n",
       "        }\n",
       "        on_mouse_event_closure('scroll')(event);\n",
       "    });\n",
       "\n",
       "    canvas_div.appendChild(canvas);\n",
       "    canvas_div.appendChild(rubberband_canvas);\n",
       "\n",
       "    this.rubberband_context = rubberband_canvas.getContext('2d');\n",
       "    this.rubberband_context.strokeStyle = '#000000';\n",
       "\n",
       "    this._resize_canvas = function (width, height, forward) {\n",
       "        if (forward) {\n",
       "            canvas_div.style.width = width + 'px';\n",
       "            canvas_div.style.height = height + 'px';\n",
       "        }\n",
       "    };\n",
       "\n",
       "    // Disable right mouse context menu.\n",
       "    canvas_div.addEventListener('contextmenu', function (_e) {\n",
       "        event.preventDefault();\n",
       "        return false;\n",
       "    });\n",
       "\n",
       "    function set_focus() {\n",
       "        canvas.focus();\n",
       "        canvas_div.focus();\n",
       "    }\n",
       "\n",
       "    window.setTimeout(set_focus, 100);\n",
       "};\n",
       "\n",
       "mpl.figure.prototype._init_toolbar = function () {\n",
       "    var fig = this;\n",
       "\n",
       "    var toolbar = document.createElement('div');\n",
       "    toolbar.classList = 'mpl-toolbar';\n",
       "    this.root.appendChild(toolbar);\n",
       "\n",
       "    function on_click_closure(name) {\n",
       "        return function (_event) {\n",
       "            return fig.toolbar_button_onclick(name);\n",
       "        };\n",
       "    }\n",
       "\n",
       "    function on_mouseover_closure(tooltip) {\n",
       "        return function (event) {\n",
       "            if (!event.currentTarget.disabled) {\n",
       "                return fig.toolbar_button_onmouseover(tooltip);\n",
       "            }\n",
       "        };\n",
       "    }\n",
       "\n",
       "    fig.buttons = {};\n",
       "    var buttonGroup = document.createElement('div');\n",
       "    buttonGroup.classList = 'mpl-button-group';\n",
       "    for (var toolbar_ind in mpl.toolbar_items) {\n",
       "        var name = mpl.toolbar_items[toolbar_ind][0];\n",
       "        var tooltip = mpl.toolbar_items[toolbar_ind][1];\n",
       "        var image = mpl.toolbar_items[toolbar_ind][2];\n",
       "        var method_name = mpl.toolbar_items[toolbar_ind][3];\n",
       "\n",
       "        if (!name) {\n",
       "            /* Instead of a spacer, we start a new button group. */\n",
       "            if (buttonGroup.hasChildNodes()) {\n",
       "                toolbar.appendChild(buttonGroup);\n",
       "            }\n",
       "            buttonGroup = document.createElement('div');\n",
       "            buttonGroup.classList = 'mpl-button-group';\n",
       "            continue;\n",
       "        }\n",
       "\n",
       "        var button = (fig.buttons[name] = document.createElement('button'));\n",
       "        button.classList = 'mpl-widget';\n",
       "        button.setAttribute('role', 'button');\n",
       "        button.setAttribute('aria-disabled', 'false');\n",
       "        button.addEventListener('click', on_click_closure(method_name));\n",
       "        button.addEventListener('mouseover', on_mouseover_closure(tooltip));\n",
       "\n",
       "        var icon_img = document.createElement('img');\n",
       "        icon_img.src = '_images/' + image + '.png';\n",
       "        icon_img.srcset = '_images/' + image + '_large.png 2x';\n",
       "        icon_img.alt = tooltip;\n",
       "        button.appendChild(icon_img);\n",
       "\n",
       "        buttonGroup.appendChild(button);\n",
       "    }\n",
       "\n",
       "    if (buttonGroup.hasChildNodes()) {\n",
       "        toolbar.appendChild(buttonGroup);\n",
       "    }\n",
       "\n",
       "    var fmt_picker = document.createElement('select');\n",
       "    fmt_picker.classList = 'mpl-widget';\n",
       "    toolbar.appendChild(fmt_picker);\n",
       "    this.format_dropdown = fmt_picker;\n",
       "\n",
       "    for (var ind in mpl.extensions) {\n",
       "        var fmt = mpl.extensions[ind];\n",
       "        var option = document.createElement('option');\n",
       "        option.selected = fmt === mpl.default_extension;\n",
       "        option.innerHTML = fmt;\n",
       "        fmt_picker.appendChild(option);\n",
       "    }\n",
       "\n",
       "    var status_bar = document.createElement('span');\n",
       "    status_bar.classList = 'mpl-message';\n",
       "    toolbar.appendChild(status_bar);\n",
       "    this.message = status_bar;\n",
       "};\n",
       "\n",
       "mpl.figure.prototype.request_resize = function (x_pixels, y_pixels) {\n",
       "    // Request matplotlib to resize the figure. Matplotlib will then trigger a resize in the client,\n",
       "    // which will in turn request a refresh of the image.\n",
       "    this.send_message('resize', { width: x_pixels, height: y_pixels });\n",
       "};\n",
       "\n",
       "mpl.figure.prototype.send_message = function (type, properties) {\n",
       "    properties['type'] = type;\n",
       "    properties['figure_id'] = this.id;\n",
       "    this.ws.send(JSON.stringify(properties));\n",
       "};\n",
       "\n",
       "mpl.figure.prototype.send_draw_message = function () {\n",
       "    if (!this.waiting) {\n",
       "        this.waiting = true;\n",
       "        this.ws.send(JSON.stringify({ type: 'draw', figure_id: this.id }));\n",
       "    }\n",
       "};\n",
       "\n",
       "mpl.figure.prototype.handle_save = function (fig, _msg) {\n",
       "    var format_dropdown = fig.format_dropdown;\n",
       "    var format = format_dropdown.options[format_dropdown.selectedIndex].value;\n",
       "    fig.ondownload(fig, format);\n",
       "};\n",
       "\n",
       "mpl.figure.prototype.handle_resize = function (fig, msg) {\n",
       "    var size = msg['size'];\n",
       "    if (size[0] !== fig.canvas.width || size[1] !== fig.canvas.height) {\n",
       "        fig._resize_canvas(size[0], size[1], msg['forward']);\n",
       "        fig.send_message('refresh', {});\n",
       "    }\n",
       "};\n",
       "\n",
       "mpl.figure.prototype.handle_rubberband = function (fig, msg) {\n",
       "    var x0 = msg['x0'] / fig.ratio;\n",
       "    var y0 = (fig.canvas.height - msg['y0']) / fig.ratio;\n",
       "    var x1 = msg['x1'] / fig.ratio;\n",
       "    var y1 = (fig.canvas.height - msg['y1']) / fig.ratio;\n",
       "    x0 = Math.floor(x0) + 0.5;\n",
       "    y0 = Math.floor(y0) + 0.5;\n",
       "    x1 = Math.floor(x1) + 0.5;\n",
       "    y1 = Math.floor(y1) + 0.5;\n",
       "    var min_x = Math.min(x0, x1);\n",
       "    var min_y = Math.min(y0, y1);\n",
       "    var width = Math.abs(x1 - x0);\n",
       "    var height = Math.abs(y1 - y0);\n",
       "\n",
       "    fig.rubberband_context.clearRect(\n",
       "        0,\n",
       "        0,\n",
       "        fig.canvas.width / fig.ratio,\n",
       "        fig.canvas.height / fig.ratio\n",
       "    );\n",
       "\n",
       "    fig.rubberband_context.strokeRect(min_x, min_y, width, height);\n",
       "};\n",
       "\n",
       "mpl.figure.prototype.handle_figure_label = function (fig, msg) {\n",
       "    // Updates the figure title.\n",
       "    fig.header.textContent = msg['label'];\n",
       "};\n",
       "\n",
       "mpl.figure.prototype.handle_cursor = function (fig, msg) {\n",
       "    fig.canvas_div.style.cursor = msg['cursor'];\n",
       "};\n",
       "\n",
       "mpl.figure.prototype.handle_message = function (fig, msg) {\n",
       "    fig.message.textContent = msg['message'];\n",
       "};\n",
       "\n",
       "mpl.figure.prototype.handle_draw = function (fig, _msg) {\n",
       "    // Request the server to send over a new figure.\n",
       "    fig.send_draw_message();\n",
       "};\n",
       "\n",
       "mpl.figure.prototype.handle_image_mode = function (fig, msg) {\n",
       "    fig.image_mode = msg['mode'];\n",
       "};\n",
       "\n",
       "mpl.figure.prototype.handle_history_buttons = function (fig, msg) {\n",
       "    for (var key in msg) {\n",
       "        if (!(key in fig.buttons)) {\n",
       "            continue;\n",
       "        }\n",
       "        fig.buttons[key].disabled = !msg[key];\n",
       "        fig.buttons[key].setAttribute('aria-disabled', !msg[key]);\n",
       "    }\n",
       "};\n",
       "\n",
       "mpl.figure.prototype.handle_navigate_mode = function (fig, msg) {\n",
       "    if (msg['mode'] === 'PAN') {\n",
       "        fig.buttons['Pan'].classList.add('active');\n",
       "        fig.buttons['Zoom'].classList.remove('active');\n",
       "    } else if (msg['mode'] === 'ZOOM') {\n",
       "        fig.buttons['Pan'].classList.remove('active');\n",
       "        fig.buttons['Zoom'].classList.add('active');\n",
       "    } else {\n",
       "        fig.buttons['Pan'].classList.remove('active');\n",
       "        fig.buttons['Zoom'].classList.remove('active');\n",
       "    }\n",
       "};\n",
       "\n",
       "mpl.figure.prototype.updated_canvas_event = function () {\n",
       "    // Called whenever the canvas gets updated.\n",
       "    this.send_message('ack', {});\n",
       "};\n",
       "\n",
       "// A function to construct a web socket function for onmessage handling.\n",
       "// Called in the figure constructor.\n",
       "mpl.figure.prototype._make_on_message_function = function (fig) {\n",
       "    return function socket_on_message(evt) {\n",
       "        if (evt.data instanceof Blob) {\n",
       "            var img = evt.data;\n",
       "            if (img.type !== 'image/png') {\n",
       "                /* FIXME: We get \"Resource interpreted as Image but\n",
       "                 * transferred with MIME type text/plain:\" errors on\n",
       "                 * Chrome.  But how to set the MIME type?  It doesn't seem\n",
       "                 * to be part of the websocket stream */\n",
       "                img.type = 'image/png';\n",
       "            }\n",
       "\n",
       "            /* Free the memory for the previous frames */\n",
       "            if (fig.imageObj.src) {\n",
       "                (window.URL || window.webkitURL).revokeObjectURL(\n",
       "                    fig.imageObj.src\n",
       "                );\n",
       "            }\n",
       "\n",
       "            fig.imageObj.src = (window.URL || window.webkitURL).createObjectURL(\n",
       "                img\n",
       "            );\n",
       "            fig.updated_canvas_event();\n",
       "            fig.waiting = false;\n",
       "            return;\n",
       "        } else if (\n",
       "            typeof evt.data === 'string' &&\n",
       "            evt.data.slice(0, 21) === 'data:image/png;base64'\n",
       "        ) {\n",
       "            fig.imageObj.src = evt.data;\n",
       "            fig.updated_canvas_event();\n",
       "            fig.waiting = false;\n",
       "            return;\n",
       "        }\n",
       "\n",
       "        var msg = JSON.parse(evt.data);\n",
       "        var msg_type = msg['type'];\n",
       "\n",
       "        // Call the  \"handle_{type}\" callback, which takes\n",
       "        // the figure and JSON message as its only arguments.\n",
       "        try {\n",
       "            var callback = fig['handle_' + msg_type];\n",
       "        } catch (e) {\n",
       "            console.log(\n",
       "                \"No handler for the '\" + msg_type + \"' message type: \",\n",
       "                msg\n",
       "            );\n",
       "            return;\n",
       "        }\n",
       "\n",
       "        if (callback) {\n",
       "            try {\n",
       "                // console.log(\"Handling '\" + msg_type + \"' message: \", msg);\n",
       "                callback(fig, msg);\n",
       "            } catch (e) {\n",
       "                console.log(\n",
       "                    \"Exception inside the 'handler_\" + msg_type + \"' callback:\",\n",
       "                    e,\n",
       "                    e.stack,\n",
       "                    msg\n",
       "                );\n",
       "            }\n",
       "        }\n",
       "    };\n",
       "};\n",
       "\n",
       "\n",
       "/*\n",
       " * return a copy of an object with only non-object keys\n",
       " * we need this to avoid circular references\n",
       " * https://stackoverflow.com/a/24161582/3208463\n",
       " */\n",
       "function simpleKeys(original) {\n",
       "    return Object.keys(original).reduce(function (obj, key) {\n",
       "        if (typeof original[key] !== 'object') {\n",
       "            obj[key] = original[key];\n",
       "        }\n",
       "        return obj;\n",
       "    }, {});\n",
       "}\n",
       "\n",
       "mpl.figure.prototype.mouse_event = function (event, name) {\n",
       "    if (name === 'button_press') {\n",
       "        this.canvas.focus();\n",
       "        this.canvas_div.focus();\n",
       "    }\n",
       "\n",
       "    // from https://stackoverflow.com/q/1114465\n",
       "    var boundingRect = this.canvas.getBoundingClientRect();\n",
       "    var x = (event.clientX - boundingRect.left) * this.ratio;\n",
       "    var y = (event.clientY - boundingRect.top) * this.ratio;\n",
       "\n",
       "    this.send_message(name, {\n",
       "        x: x,\n",
       "        y: y,\n",
       "        button: event.button,\n",
       "        step: event.step,\n",
       "        guiEvent: simpleKeys(event),\n",
       "    });\n",
       "\n",
       "    return false;\n",
       "};\n",
       "\n",
       "mpl.figure.prototype._key_event_extra = function (_event, _name) {\n",
       "    // Handle any extra behaviour associated with a key event\n",
       "};\n",
       "\n",
       "mpl.figure.prototype.key_event = function (event, name) {\n",
       "    // Prevent repeat events\n",
       "    if (name === 'key_press') {\n",
       "        if (event.key === this._key) {\n",
       "            return;\n",
       "        } else {\n",
       "            this._key = event.key;\n",
       "        }\n",
       "    }\n",
       "    if (name === 'key_release') {\n",
       "        this._key = null;\n",
       "    }\n",
       "\n",
       "    var value = '';\n",
       "    if (event.ctrlKey && event.key !== 'Control') {\n",
       "        value += 'ctrl+';\n",
       "    }\n",
       "    else if (event.altKey && event.key !== 'Alt') {\n",
       "        value += 'alt+';\n",
       "    }\n",
       "    else if (event.shiftKey && event.key !== 'Shift') {\n",
       "        value += 'shift+';\n",
       "    }\n",
       "\n",
       "    value += 'k' + event.key;\n",
       "\n",
       "    this._key_event_extra(event, name);\n",
       "\n",
       "    this.send_message(name, { key: value, guiEvent: simpleKeys(event) });\n",
       "    return false;\n",
       "};\n",
       "\n",
       "mpl.figure.prototype.toolbar_button_onclick = function (name) {\n",
       "    if (name === 'download') {\n",
       "        this.handle_save(this, null);\n",
       "    } else {\n",
       "        this.send_message('toolbar_button', { name: name });\n",
       "    }\n",
       "};\n",
       "\n",
       "mpl.figure.prototype.toolbar_button_onmouseover = function (tooltip) {\n",
       "    this.message.textContent = tooltip;\n",
       "};\n",
       "\n",
       "///////////////// REMAINING CONTENT GENERATED BY embed_js.py /////////////////\n",
       "// prettier-ignore\n",
       "var _JSXTOOLS_RESIZE_OBSERVER=function(A){var t,i=new WeakMap,n=new WeakMap,a=new WeakMap,r=new WeakMap,o=new Set;function s(e){if(!(this instanceof s))throw new TypeError(\"Constructor requires 'new' operator\");i.set(this,e)}function h(){throw new TypeError(\"Function is not a constructor\")}function c(e,t,i,n){e=0 in arguments?Number(arguments[0]):0,t=1 in arguments?Number(arguments[1]):0,i=2 in arguments?Number(arguments[2]):0,n=3 in arguments?Number(arguments[3]):0,this.right=(this.x=this.left=e)+(this.width=i),this.bottom=(this.y=this.top=t)+(this.height=n),Object.freeze(this)}function d(){t=requestAnimationFrame(d);var s=new WeakMap,p=new Set;o.forEach((function(t){r.get(t).forEach((function(i){var r=t instanceof window.SVGElement,o=a.get(t),d=r?0:parseFloat(o.paddingTop),f=r?0:parseFloat(o.paddingRight),l=r?0:parseFloat(o.paddingBottom),u=r?0:parseFloat(o.paddingLeft),g=r?0:parseFloat(o.borderTopWidth),m=r?0:parseFloat(o.borderRightWidth),w=r?0:parseFloat(o.borderBottomWidth),b=u+f,F=d+l,v=(r?0:parseFloat(o.borderLeftWidth))+m,W=g+w,y=r?0:t.offsetHeight-W-t.clientHeight,E=r?0:t.offsetWidth-v-t.clientWidth,R=b+v,z=F+W,M=r?t.width:parseFloat(o.width)-R-E,O=r?t.height:parseFloat(o.height)-z-y;if(n.has(t)){var k=n.get(t);if(k[0]===M&&k[1]===O)return}n.set(t,[M,O]);var S=Object.create(h.prototype);S.target=t,S.contentRect=new c(u,d,M,O),s.has(i)||(s.set(i,[]),p.add(i)),s.get(i).push(S)}))})),p.forEach((function(e){i.get(e).call(e,s.get(e),e)}))}return s.prototype.observe=function(i){if(i instanceof window.Element){r.has(i)||(r.set(i,new Set),o.add(i),a.set(i,window.getComputedStyle(i)));var n=r.get(i);n.has(this)||n.add(this),cancelAnimationFrame(t),t=requestAnimationFrame(d)}},s.prototype.unobserve=function(i){if(i instanceof window.Element&&r.has(i)){var n=r.get(i);n.has(this)&&(n.delete(this),n.size||(r.delete(i),o.delete(i))),n.size||r.delete(i),o.size||cancelAnimationFrame(t)}},A.DOMRectReadOnly=c,A.ResizeObserver=s,A.ResizeObserverEntry=h,A}; // eslint-disable-line\n",
       "mpl.toolbar_items = [[\"Home\", \"Reset original view\", \"fa fa-home\", \"home\"], [\"Back\", \"Back to previous view\", \"fa fa-arrow-left\", \"back\"], [\"Forward\", \"Forward to next view\", \"fa fa-arrow-right\", \"forward\"], [\"\", \"\", \"\", \"\"], [\"Pan\", \"Left button pans, Right button zooms\\nx/y fixes axis, CTRL fixes aspect\", \"fa fa-arrows\", \"pan\"], [\"Zoom\", \"Zoom to rectangle\\nx/y fixes axis\", \"fa fa-square-o\", \"zoom\"], [\"\", \"\", \"\", \"\"], [\"Download\", \"Download plot\", \"fa fa-floppy-o\", \"download\"]];\n",
       "\n",
       "mpl.extensions = [\"eps\", \"jpeg\", \"pgf\", \"pdf\", \"png\", \"ps\", \"raw\", \"svg\", \"tif\", \"webp\"];\n",
       "\n",
       "mpl.default_extension = \"png\";/* global mpl */\n",
       "\n",
       "var comm_websocket_adapter = function (comm) {\n",
       "    // Create a \"websocket\"-like object which calls the given IPython comm\n",
       "    // object with the appropriate methods. Currently this is a non binary\n",
       "    // socket, so there is still some room for performance tuning.\n",
       "    var ws = {};\n",
       "\n",
       "    ws.binaryType = comm.kernel.ws.binaryType;\n",
       "    ws.readyState = comm.kernel.ws.readyState;\n",
       "    function updateReadyState(_event) {\n",
       "        if (comm.kernel.ws) {\n",
       "            ws.readyState = comm.kernel.ws.readyState;\n",
       "        } else {\n",
       "            ws.readyState = 3; // Closed state.\n",
       "        }\n",
       "    }\n",
       "    comm.kernel.ws.addEventListener('open', updateReadyState);\n",
       "    comm.kernel.ws.addEventListener('close', updateReadyState);\n",
       "    comm.kernel.ws.addEventListener('error', updateReadyState);\n",
       "\n",
       "    ws.close = function () {\n",
       "        comm.close();\n",
       "    };\n",
       "    ws.send = function (m) {\n",
       "        //console.log('sending', m);\n",
       "        comm.send(m);\n",
       "    };\n",
       "    // Register the callback with on_msg.\n",
       "    comm.on_msg(function (msg) {\n",
       "        //console.log('receiving', msg['content']['data'], msg);\n",
       "        var data = msg['content']['data'];\n",
       "        if (data['blob'] !== undefined) {\n",
       "            data = {\n",
       "                data: new Blob(msg['buffers'], { type: data['blob'] }),\n",
       "            };\n",
       "        }\n",
       "        // Pass the mpl event to the overridden (by mpl) onmessage function.\n",
       "        ws.onmessage(data);\n",
       "    });\n",
       "    return ws;\n",
       "};\n",
       "\n",
       "mpl.mpl_figure_comm = function (comm, msg) {\n",
       "    // This is the function which gets called when the mpl process\n",
       "    // starts-up an IPython Comm through the \"matplotlib\" channel.\n",
       "\n",
       "    var id = msg.content.data.id;\n",
       "    // Get hold of the div created by the display call when the Comm\n",
       "    // socket was opened in Python.\n",
       "    var element = document.getElementById(id);\n",
       "    var ws_proxy = comm_websocket_adapter(comm);\n",
       "\n",
       "    function ondownload(figure, _format) {\n",
       "        window.open(figure.canvas.toDataURL());\n",
       "    }\n",
       "\n",
       "    var fig = new mpl.figure(id, ws_proxy, ondownload, element);\n",
       "\n",
       "    // Call onopen now - mpl needs it, as it is assuming we've passed it a real\n",
       "    // web socket which is closed, not our websocket->open comm proxy.\n",
       "    ws_proxy.onopen();\n",
       "\n",
       "    fig.parent_element = element;\n",
       "    fig.cell_info = mpl.find_output_cell(\"<div id='\" + id + \"'></div>\");\n",
       "    if (!fig.cell_info) {\n",
       "        console.error('Failed to find cell for figure', id, fig);\n",
       "        return;\n",
       "    }\n",
       "    fig.cell_info[0].output_area.element.on(\n",
       "        'cleared',\n",
       "        { fig: fig },\n",
       "        fig._remove_fig_handler\n",
       "    );\n",
       "};\n",
       "\n",
       "mpl.figure.prototype.handle_close = function (fig, msg) {\n",
       "    var width = fig.canvas.width / fig.ratio;\n",
       "    fig.cell_info[0].output_area.element.off(\n",
       "        'cleared',\n",
       "        fig._remove_fig_handler\n",
       "    );\n",
       "    fig.resizeObserverInstance.unobserve(fig.canvas_div);\n",
       "\n",
       "    // Update the output cell to use the data from the current canvas.\n",
       "    fig.push_to_output();\n",
       "    var dataURL = fig.canvas.toDataURL();\n",
       "    // Re-enable the keyboard manager in IPython - without this line, in FF,\n",
       "    // the notebook keyboard shortcuts fail.\n",
       "    IPython.keyboard_manager.enable();\n",
       "    fig.parent_element.innerHTML =\n",
       "        '<img src=\"' + dataURL + '\" width=\"' + width + '\">';\n",
       "    fig.close_ws(fig, msg);\n",
       "};\n",
       "\n",
       "mpl.figure.prototype.close_ws = function (fig, msg) {\n",
       "    fig.send_message('closing', msg);\n",
       "    // fig.ws.close()\n",
       "};\n",
       "\n",
       "mpl.figure.prototype.push_to_output = function (_remove_interactive) {\n",
       "    // Turn the data on the canvas into data in the output cell.\n",
       "    var width = this.canvas.width / this.ratio;\n",
       "    var dataURL = this.canvas.toDataURL();\n",
       "    this.cell_info[1]['text/html'] =\n",
       "        '<img src=\"' + dataURL + '\" width=\"' + width + '\">';\n",
       "};\n",
       "\n",
       "mpl.figure.prototype.updated_canvas_event = function () {\n",
       "    // Tell IPython that the notebook contents must change.\n",
       "    IPython.notebook.set_dirty(true);\n",
       "    this.send_message('ack', {});\n",
       "    var fig = this;\n",
       "    // Wait a second, then push the new image to the DOM so\n",
       "    // that it is saved nicely (might be nice to debounce this).\n",
       "    setTimeout(function () {\n",
       "        fig.push_to_output();\n",
       "    }, 1000);\n",
       "};\n",
       "\n",
       "mpl.figure.prototype._init_toolbar = function () {\n",
       "    var fig = this;\n",
       "\n",
       "    var toolbar = document.createElement('div');\n",
       "    toolbar.classList = 'btn-toolbar';\n",
       "    this.root.appendChild(toolbar);\n",
       "\n",
       "    function on_click_closure(name) {\n",
       "        return function (_event) {\n",
       "            return fig.toolbar_button_onclick(name);\n",
       "        };\n",
       "    }\n",
       "\n",
       "    function on_mouseover_closure(tooltip) {\n",
       "        return function (event) {\n",
       "            if (!event.currentTarget.disabled) {\n",
       "                return fig.toolbar_button_onmouseover(tooltip);\n",
       "            }\n",
       "        };\n",
       "    }\n",
       "\n",
       "    fig.buttons = {};\n",
       "    var buttonGroup = document.createElement('div');\n",
       "    buttonGroup.classList = 'btn-group';\n",
       "    var button;\n",
       "    for (var toolbar_ind in mpl.toolbar_items) {\n",
       "        var name = mpl.toolbar_items[toolbar_ind][0];\n",
       "        var tooltip = mpl.toolbar_items[toolbar_ind][1];\n",
       "        var image = mpl.toolbar_items[toolbar_ind][2];\n",
       "        var method_name = mpl.toolbar_items[toolbar_ind][3];\n",
       "\n",
       "        if (!name) {\n",
       "            /* Instead of a spacer, we start a new button group. */\n",
       "            if (buttonGroup.hasChildNodes()) {\n",
       "                toolbar.appendChild(buttonGroup);\n",
       "            }\n",
       "            buttonGroup = document.createElement('div');\n",
       "            buttonGroup.classList = 'btn-group';\n",
       "            continue;\n",
       "        }\n",
       "\n",
       "        button = fig.buttons[name] = document.createElement('button');\n",
       "        button.classList = 'btn btn-default';\n",
       "        button.href = '#';\n",
       "        button.title = name;\n",
       "        button.innerHTML = '<i class=\"fa ' + image + ' fa-lg\"></i>';\n",
       "        button.addEventListener('click', on_click_closure(method_name));\n",
       "        button.addEventListener('mouseover', on_mouseover_closure(tooltip));\n",
       "        buttonGroup.appendChild(button);\n",
       "    }\n",
       "\n",
       "    if (buttonGroup.hasChildNodes()) {\n",
       "        toolbar.appendChild(buttonGroup);\n",
       "    }\n",
       "\n",
       "    // Add the status bar.\n",
       "    var status_bar = document.createElement('span');\n",
       "    status_bar.classList = 'mpl-message pull-right';\n",
       "    toolbar.appendChild(status_bar);\n",
       "    this.message = status_bar;\n",
       "\n",
       "    // Add the close button to the window.\n",
       "    var buttongrp = document.createElement('div');\n",
       "    buttongrp.classList = 'btn-group inline pull-right';\n",
       "    button = document.createElement('button');\n",
       "    button.classList = 'btn btn-mini btn-primary';\n",
       "    button.href = '#';\n",
       "    button.title = 'Stop Interaction';\n",
       "    button.innerHTML = '<i class=\"fa fa-power-off icon-remove icon-large\"></i>';\n",
       "    button.addEventListener('click', function (_evt) {\n",
       "        fig.handle_close(fig, {});\n",
       "    });\n",
       "    button.addEventListener(\n",
       "        'mouseover',\n",
       "        on_mouseover_closure('Stop Interaction')\n",
       "    );\n",
       "    buttongrp.appendChild(button);\n",
       "    var titlebar = this.root.querySelector('.ui-dialog-titlebar');\n",
       "    titlebar.insertBefore(buttongrp, titlebar.firstChild);\n",
       "};\n",
       "\n",
       "mpl.figure.prototype._remove_fig_handler = function (event) {\n",
       "    var fig = event.data.fig;\n",
       "    if (event.target !== this) {\n",
       "        // Ignore bubbled events from children.\n",
       "        return;\n",
       "    }\n",
       "    fig.close_ws(fig, {});\n",
       "};\n",
       "\n",
       "mpl.figure.prototype._root_extra_style = function (el) {\n",
       "    el.style.boxSizing = 'content-box'; // override notebook setting of border-box.\n",
       "};\n",
       "\n",
       "mpl.figure.prototype._canvas_extra_style = function (el) {\n",
       "    // this is important to make the div 'focusable\n",
       "    el.setAttribute('tabindex', 0);\n",
       "    // reach out to IPython and tell the keyboard manager to turn it's self\n",
       "    // off when our div gets focus\n",
       "\n",
       "    // location in version 3\n",
       "    if (IPython.notebook.keyboard_manager) {\n",
       "        IPython.notebook.keyboard_manager.register_events(el);\n",
       "    } else {\n",
       "        // location in version 2\n",
       "        IPython.keyboard_manager.register_events(el);\n",
       "    }\n",
       "};\n",
       "\n",
       "mpl.figure.prototype._key_event_extra = function (event, _name) {\n",
       "    // Check for shift+enter\n",
       "    if (event.shiftKey && event.which === 13) {\n",
       "        this.canvas_div.blur();\n",
       "        // select the cell after this one\n",
       "        var index = IPython.notebook.find_cell_index(this.cell_info[0]);\n",
       "        IPython.notebook.select(index + 1);\n",
       "    }\n",
       "};\n",
       "\n",
       "mpl.figure.prototype.handle_save = function (fig, _msg) {\n",
       "    fig.ondownload(fig, null);\n",
       "};\n",
       "\n",
       "mpl.find_output_cell = function (html_output) {\n",
       "    // Return the cell and output element which can be found *uniquely* in the notebook.\n",
       "    // Note - this is a bit hacky, but it is done because the \"notebook_saving.Notebook\"\n",
       "    // IPython event is triggered only after the cells have been serialised, which for\n",
       "    // our purposes (turning an active figure into a static one), is too late.\n",
       "    var cells = IPython.notebook.get_cells();\n",
       "    var ncells = cells.length;\n",
       "    for (var i = 0; i < ncells; i++) {\n",
       "        var cell = cells[i];\n",
       "        if (cell.cell_type === 'code') {\n",
       "            for (var j = 0; j < cell.output_area.outputs.length; j++) {\n",
       "                var data = cell.output_area.outputs[j];\n",
       "                if (data.data) {\n",
       "                    // IPython >= 3 moved mimebundle to data attribute of output\n",
       "                    data = data.data;\n",
       "                }\n",
       "                if (data['text/html'] === html_output) {\n",
       "                    return [cell, data, j];\n",
       "                }\n",
       "            }\n",
       "        }\n",
       "    }\n",
       "};\n",
       "\n",
       "// Register the function which deals with the matplotlib target/channel.\n",
       "// The kernel may be null if the page has been refreshed.\n",
       "if (IPython.notebook.kernel !== null) {\n",
       "    IPython.notebook.kernel.comm_manager.register_target(\n",
       "        'matplotlib',\n",
       "        mpl.mpl_figure_comm\n",
       "    );\n",
       "}\n"
      ],
      "text/plain": [
       "<IPython.core.display.Javascript object>"
      ]
     },
     "metadata": {},
     "output_type": "display_data"
    },
    {
     "data": {
      "text/html": [
       "<img src=\"data:image/png;base64,iVBORw0KGgoAAAANSUhEUgAAAyAAAAJYCAYAAACadoJwAAAAAXNSR0IArs4c6QAAIABJREFUeF7snQd4ltX5xm9CCCQEkIQwZIOA7OVABAFFEP8qVnFVFKkoaIs4CipYCzhQqKJSyihVUVuhiih1ICCCIBSUyhDZe88wA0kI/K/nxIQkJPnG+50357zvfa6LC/J9ZzzP73n0OnfOKnbu3LlzYCEBEiABEiABEiABEiABEiABFwgUowBxgTKHIAESIAESIAESIAESIAESUAQoQJgIJEACJEACJEACJEACJEACrhGgAHENNQciARIgARIgARIgARIgARKgAGEOkAAJkAAJkAAJkAAJkAAJuEaAAsQ11ByIBEiABEiABEiABEiABEiAAoQ5QAIkQAIkQAIkQAIkQAIk4BoBChDXUHMgEiABEiABEiABEiABEiABChDmAAmQAAmQAAmQAAmQAAmQgGsEKEBcQ82BSIAESIAESIAESIAESIAEKECYAyRAAiRAAiRAAiRAAiRAAq4RoABxDTUHIgESIAESIAESIAESIAESoABhDpAACZAACZAACZAACZAACbhGgALENdQciARIgARIgARIgARIgARIgAKEOUACJEACJEACJEACJEACJOAaAQoQ11BzIBIgARIgARIgARIgARIgAQoQ5gAJkAAJkAAJkAAJkAAJkIBrBChAXEPNgUiABEiABEiABEiABEiABChAmAMkQAIkQAIkQAIkQAIkQAKuEaAAcQ01ByIBEiABEiABEiABEiABEqAACZADGRkZGDVqFCZNmoQdO3agevXq6NOnDwYOHIjixYsHzKCff/4ZgwYNwsKFC1Xddu3aYeTIkWjSpEmhbTt06IDvvvsO9957Lz744IML6i5YsABDhgzBsmXLULJkSXTp0kX1W6NGjYA2sQIJkAAJkAAJkAAJkAAJFBUBCpAA5B999FGMGzcOvXv3Rtu2bfH999/j3XffhXw+duzYQltv2LABl19+ORISEtC/f39V96233sKRI0ewdOlS1KtXL9/277//Ph555BGcPHkyXwEiNnTq1AmNGjXCQw89hKNHj2L06NGIi4tTgqRChQpFlU8clwRIgARIgARIgARIgAQKJUABUgieVatWoXnz5ko8vPnmm9k1BwwYgDFjxmDFihVo2rRpgT306NEDM2fOxJo1a9TKiRRZRWnYsCG6deuGjz766IK2Ik4uvfRSPP7443j22WfzFSCXXXYZ9u3bh19++QVlypRRfYjwELHz1FNPqRUbFhIgARIgARIgARIgARIwkQAFSCFRkS1OL7/8MjZv3ozatWtn19yyZQvq1KmjtkC9+OKL+fZw4sQJJCYm4u6778bkyZNz1enVqxemTp2KQ4cOoXTp0rm++8Mf/oBZs2ZBtm7J1qq8W7BkVaV+/fp4/vnnMWzYsFxtZdvWpk2bsHPnThNzjTaRAAmQAAmQAAmQAAmQAChACkmCrl27qlWOvXv3XlCrUqVKaNmypVrhyK8sXrxYbdmS7Vv9+vXLVUU+ky1cUqdNmzbZ3/3vf/9Tqxj/+c9/cOONN6JYsWIXCJAPP/wQv/3tb/HVV1/hhhtuyNXv008/rc6B7NmzB5UrV2Z6kwAJkAAJkAAJkAAJkIBxBChACgmJbK+KiYlR25vyllatWiE9PR2yTSu/Mm3aNMgWrBkzZuDmm2/OVUU+6969Oz7++GPcfvvt6ruzZ88qwVKxYkXVRkp+AuS1117DH//4R6xcufKC7V9yvkS2h/34449o3bp1gZ6JQJE/OUtycrLaKiaiKjY21rhEpUEkQAIkQAIkQAIkQALBEzh16hS2bt0K+YW6aeeDKUAKiWPdunUhKx2LFi26oJaIhf3792Pjxo359iAHye+//358/fXX6oaqnEW2WEkySJ2ePXuqryZOnIjHHnsMq1evhoxbkAB54YUX1PardevWqa1YOYv00bdvX8gNWXLbVkFl6NChF2zfCj6dWZMESIAESIAESIAESMAWAnKbqmzpN6lQgBQSDbdWQA4ePIgGDRqobVkiMLKKmysgy5cvx4MPPqiu/JVD8iwk4BqBL3YCh9KAxBjg/6q5NiwHIgESCJ3A35fuwd4TaagcH4OHrqgSegdsQQIk4BoB2dkiv+iWpyCuvvpq18YNZiAKkEIouXUGRLZNycRfVi7kKt2sIgffb731VnXFrlzlW7ZsWeg6AyLnT2Tblmw3k+1lLCTgGoH3NwP7TgOVSgH31XFtWA5EAiQQOoEX5m7D9iOpqHFRSfzp2pqhd8AWJEACrhEweW5HAVJIGgwePBgjRowo8BYs+f6ll17Kt4dAt2BNmTJF3YIVHx+vRMZnn31WaELK1bpy9mP9+vVqtaSgW7BkS9iuXbtCTm6TkzRkZ9jALgIUIHbFi9b6mgAFiK/DT+ctI2Dy3I4CpJBkkhuw5FB2Qe+AyLalZs2aqcPocv1tuXLlUKXK+SVpOWAuZ0DWrl2LatUyt5ZkvQMiqytyUF3KkiVLLjgULp//5je/gVytK2+CyMvpl1xyiaovKxVy/iS/d0CeeOIJyEH1UIvJSRqqL6xvGQEKEMsCRnP9TIACxM/Rp++2ETB5bkcBEiCb5ArdCRMmqJfQZf+cvEL+zjvvqMPe48ePV63lhgHZLiXve8gr6VlFDopfccUV6j0QOWAuRW6qkpUPeQldVjIKK/mdAZH63333HTp37qxeQn/44Ydx7NgxvP766+rdEEm2pKSkkP8bMTlJQ3aGDewiQAFiV7xora8JUID4Ovx03jICJs/tKEACJNOZM2fU2xqTJk1SW5uqVq2KPn36YNCgQYiOji5UgMiXcl2uvM8hB4CkyO1Ur776qlo5CVQKEiDSbv78+XjuuefUmQ0RHtdff716Ab1mzfD25JqcpIE48XvLCew/DaSfBUpEARVLWe4MzScBbxOgAPF2fOmdtwiYPLejAPFWroXtjclJGrZTbEgCJEACJBBRAhQgEcXJzkhAKwGT53YUIFpDb0/nJiepPRRpKQmQAAl4mwAFiLfjS++8RcDkuR0FiLdyLWxvTE7SsJ1iQxIgARIggYgSoACJKE52RgJaCZg8t6MA0Rp6ezo3OUntoUhLwyKw+ABwLB0oWwK4KvQLFMIak41IgATCIkABEhY2NiKBIiFg8tyOAqRIUsK8QU1OUvNo0aKIEuAtWBHFyc5IQCcBChCddNk3CUSWgMlzOwqQyMba2t5MTlJrodLw4AhQgATHibVIwAACFCAGBIEmkECQBEye21GABBlEr1czOUm9zt73/lGA+D4FCMAeAhQg9sSKlpKAyXM7ChDmpyJgcpIyRB4nQAHi8QDTPS8RoADxUjTpi9cJmDy3owDxevYF6Z/JSRqkC6xmKwEKEFsjR7t9SIACxIdBp8vWEjB5bkcBYm1aRdZwk5M0sp6yN+MIUIAYFxIaRAIFEaAAYW6QgD0ETJ7bUYDYk0daLTU5SbU6zs6LngAFSNHHgBaQQJAEKECCBMVqJGAAAZPndhQgBiSICSaYnKQm8KENGglQgGiEy65JILIEKEAiy5O9kYBOAibP7ShAdEbeor5NTlKLMNLUcAhQgIRDjW1IoEgIUIAUCXYOSgJhETB5bkcBElZIvdfI5CT1Hm16lIvAmbPnf4yOIhwSIAGDCVCAGBwcmkYCeQiYPLejAGG6KgImJylDRAIkQAIkYAYBChAz4kArSCAYAibP7ShAgomgD+qYnKQ+wE8XSYAESMAKAhQgVoSJRpKA8b9cpgBhkhqfpAwRCZAACZCAGQQoQMyIA60ggWAImPzLZQqQYCLogzomJ6kP8PvbxS92AofTgIQY4P+q+ZsFvScBwwlQgBgeIJpHAjkImDy3owBhqnIFhDlQtAR4C1bR8ufoJBACAQqQEGCxKgkUMQEKkCIOAIcPTMDkJA1sPWtYTYACxOrw0Xh/EaAA8Ve86a3dBEye23EFxO7cipj1JidpxJxkR2YSoAAxMy60igTyIUABwrQgAXsImDy3owCxJ4+0Wmpykmp1nJ0XPQEKkKKPAS0ggSAJUIAECYrVSMAAAibP7ShADEgQE0wwOUlN4EMbNBKgANEIl12TQGQJUIBElid7IwGdBEye21GA6Iy8RX2bnKQWYaSp4RCgAAmHGtuQQJEQoAApEuwclATCImDy3I4CJKyQeq+RyUnqPdr0KBcBChAmBAlYQ4ACxJpQ0VASgMlzOwoQJqgiYHKSMkQeJ0AB4vEA0z0vEaAA8VI06YvXCZg8t6MA8Xr2BemfyUkapAusZiuBGTuAQ2lAYgxwS3VbvaDdJOALAhQgvggznfQIAZPndhQgHkkyp26YnKROfWN7EiABEiCByBCgAIkMR/ZCAm4QMHluRwHiRgZYMIbJSWoBPppIAiRAAr4gQAHiizDTSY8QMHluRwHikSRz6obJSerUN7YnARIgARKIDAEKkMhwZC8k4AYBk+d2FCBuZIAFY5icpBbgo4kkQAIk4AsCFCC+CDOd9AgBk+d2FCAeSTKnbpicpE59Y3vDCfAWLMMDRPNI4DwBChBmAwnYQ8DkuR0FiD15pNVSk5NUq+PsvOgJUIAUfQxoAQkESYACJEhQrEYCBhAweW5HAWJAgphggslJagIf2qCRAAWIRrjsmgQiS4ACJLI82RsJ6CRg8tyOAkRn5C3q2+QktQgjTQ2HAAVIONTYhgSKhAAFSJFg56AkEBYBk+d2FCBhhdR7jUxOUu/Rpke5CFCAMCFIwBoCFCDWhIqGkgBMnttRgDBBFQGTk5Qh8jgBChCPB5jueYkABYiXoklfvE7A5LkdBYjXsy9I/0xO0iBdYDVbCVCA2Bo52u1DAhQgPgw6XbaWgMlzOwoQa9MqsoabnKSR9ZS9GUeAAsS4kNAgEiiIAAUIc4ME7CFg8tyOAsSePNJqqclJqtVxdl70BChAij4GtIAEgiRAARIkKFYjAQMImDy3owAxIEFMMMHkJDWBD23QSGDhfuBYOlC2BNCuosaB2DUJkIBTAhQgTgmyPQm4R8DkuR0FiHt5YPRIJiep0eBoHAmQAAn4iAAFiI+CTVetJ2Dy3C4iAqR48eIRC1KxYsVw5syZiPXHjoIjYHKSBucBa5EACZAACegmQAGimzD7J4HIETB5bhcRARIVFRUxWiJAMjIyItYfOwqOgMlJGpwHrEUCJEACJKCbAAWIbsLsnwQiR8DkuV1EBMjkyZPzpZWWloYRI0Zg69atqFq1Km666SZceumliI+Px4kTJ7B27Vp8/vnn2LVrF2rXro1nn30WJUqUQK9evSJHnz0FRcDkJA3KAVayl8ChVCD9LFAiCkgsaa8ftJwEfECAAsQHQaaLniFg8twuIgIkv0jJNqrrr78eCxYswAsvvIBBgwYhv61astrx6quv4k9/+hOuueYazJkzJ996nskGQx0xOUkNRUazIkWAt2BFiiT7IQHtBChAtCPmACQQMQImz+20CZDXX38df/zjH/Hkk0/iL3/5S0CYUu/NN99UYkTamVJEII0aNQqTJk3Cjh07UL16dfTp0wcDBw4MSij9/PPPSnwtXLhQudSuXTuMHDkSTZo0yeWifDZjxgysX78eR48eReXKlXHllVcqYda0adNcdR944AEUtOokNlarVi1kfCYnacjOsIFdBChA7IoXrfU1AQoQX4efzltGwOS5nTYB0qpVK6xYsQKrV69W264CFdmO1ahRIzRv3hw//fRToOquff/oo49i3Lhx6N27N9q2bYvvv/8e7777LuTzsWPHFmrHhg0bcPnllyMhIQH9+/dXdd966y0cOXIES5cuRb169bLb33HHHShXrhwaNmyI8uXLY+fOnXjnnXewZ88ezJs3D23atMmumyVARITkPX9z2223IS4uLmQ+JidpyM6wgV0EKEDsihet9TUBChBfh5/OW0bA5LmdNgFStmxZnDx5EgcPHlQT6kDl8OHDqFChgjofcuzYsUDVXfl+1apVShCJeJDVmawyYMAAjBkzRgmsvKsTOQ3r0aMHZs6ciTVr1qiVEymyQiEio1u3bvjoo48K9WPv3r2qnfTz4YcfXiBA0tPTER0dHREWJidpRBxkJ+YSoAAxNza0jATyEKAAYUqQgD0ETJ7baRMgIjpESMyfP19tOwpU5KxIhw4d1CpAcnJyoOqufD9kyBC8/PLL2Lx5szokn1W2bNmCOnXqQL5/8cUX87VFDtknJibi7rvvvmC7lByynzp1Kg4dOoTSpUsX6MvZs2dx0UUX4eqrr8ZXX311gQCRQ/6nTp1Sos3pTWQmJ6krweYgRUeAAqTo2HNkEgiRAAVIiMBYnQSKkIDJczttAqRTp0747rvv1MHy2bNnF/qbejmw3rlzZ3VgXUTI3LlzizBc54fu2rWrWuWQlYi8pVKlSmjZsqVa4civLF68WG3Zku1b/fr1y1VFPpMtXFIn59YqqSQrRiI8du/ejdGjR+O9995Tfz/++OMXCJAyZcrg+PHjiI2NVSsqco6kbt26YbEzOUnDcoiN7CFAAWJPrGip7wlQgPg+BQjAIgImz+20CZBp06ZBzjXIux5XXXWVOlwuv8nPW+Rw9tNPP60m41JXtiXJOQYTimyviomJwbJlyy4wR864yBYo2aaVXxH/ZeuUHCy/+eabc1WRz7p3746PP/4Yt99+e67vhEFWEYEh27+GDx+e68D7M888ox5rbN26tbJv0aJF+Otf/wrZ9vbjjz+iZs2aheKTcyXyJ2eRbWI9e/ZUvopvLCTgGgEKENdQcyAScEqAAsQpQbYnAfcI+FKACF75Lf/48eOVsJAih7EbNGigth3J+ZB169ZBzn5IOXfunKovE2lTiqwmyEqHTPDzFlnd2L9/PzZu3Jivue+//z7uv/9+fP311+jSpUuuOrNmzYKsrkgdmfTnLHINsYgL6Ve+F/H2yiuvoFSpUoVikZUYWQWR7V1ySL6wMnToUAwbNizfKhQgpmSfj+ygAPFRsOmq7QQoQGyPIO33EwHfChAJstwUJVfJys1PBRU55yBnKUSAmFSKYgUkp/9yHa/YINvYPvjgg4BoZEVEVjZk+1ZhhSsgAVGygpsEKEDcpM2xSMARAQoQR/jYmARcJeBrASKkT58+rbYiyUqCvIouqx+yClKrVi11TuKWW24J+Bt+VyP262BFcQYkr5+PPPIIJk6cqJgFWgWRrWvysrwcTg+1mJykofrC+pYRWHMUSDkDxEUDDctZZjzNJQF/EaAA8Ve86a3dBEye22k7A2J3yDKtHzx4MEaMGFHgLVjy/UsvvZSvq4FuwZoyZYq6BUtusCqsZL35sW/fPlSsWLHQus2aNVM3iMlVv6EWk5M0VF9YnwRIgARIQA8BChA9XNkrCeggYPLcjgKkkIjLDVhy01VB74AsX74cMumXw+ibNm1SVwhXqVIlu0c5YC5nQOSRxazXybPeAZHVFTmoLkVWN6TkvZJX6rZo0UIdLperfwurK9f6ypW/ffv2VeduQi0mJ2movrA+CZAACZCAHgIUIHq4slcS0EHA5LmdawJk5cqV6oamAwcOIDU1Fc8//7wO1hHvU67QnTBhgnoJXW7xkpfQ5YXynBN92VYm74TkPQAuh+yvuOIK9R7IY489pmyTl9Bl5UNeQpcD+VJEyFx77bXq1jD5TFZFpK2MI9fsTp8+HTfddFOuunfddZeqK7dgyQ1i//znP1GjRg0sWbJEHZwPtZicpKH6wvokQAIkQAJ6CFCA6OHKXklABwGT53baBYjc+PTHP/4Rq1evzsU2IyMj++f169fjsssuQ8mSJbFhwwb1+J4pRW6kkvc1Jk2ahF27dqFq1aro06cPBg0alP22SUECRHwQ4SXXDMt1w1LkUUa5klhWTrKKvP0hgkzeTZFVj5SUFCUipO7AgQPVdbtZRd4keeqpp/DDDz+ow+ay+iKvpctVv/IworwmH04xOUnD8YdtLCKw4RhwKgOILQ7UK2uR4TSVBPxHgALEfzGnx/YSMHlup1WAyFagP/zhD+phPSlJSUlqBUSu5c0pQOQ7WQGQV9OlzUMPPWRvtC213OQktRQpzQ6WAG/BCpYU65FAkROgACnyENAAEgiagMlzO20CRB7ok/MT8r6HvHUhh7VlZUPOM+QnQP72t78psSKP9/373/8OGi4rRoaAyUkaGQ/Zi7EEKECMDQ0NI4G8BChAmBMkYA8Bk+d22gSInJmYPHkybr31VnzyyScqWnLYWl73zk+AyPkQOS9Rv359dWibxV0CJiepuyQ4musEKEBcR84BSSBcAhQg4ZJjOxJwn4DJczttAkQOZW/fvl0d2m7Tpk1AASKvileuXFndBCUHr1ncJWBykrpLgqO5ToACxHXkHJAEwiVAARIuObYjAfcJmDy30yZAYmNj1YN4cuNT1qHywlZA5KX0hIQElChRQt2SxeIuAZOT1F0SHM11AhQgriPngCQQLgEKkHDJsR0JuE/A5LmdNgEiYuLo0aPYuXNn9tsYhQkQ2XbVqFEjdfvTnj173I+Sz0c0OUl9Hhrvu08B4v0Y00PPEKAA8Uwo6YgPCJg8t9MmQOQ8x7Jly9QbFrfccosKc2ECZMyYMRgwYACuu+46zJ492wdpYZaLJiepWaRoTcQJUIBEHCk7JAFdBChAdJFlvyQQeQImz+20CZChQ4di+PDhaNu2LRYsWKAOnhckQJKTk9G8eXP1zsYbb7yhXh5ncZeAyUnqLgmO5joBChDXkXNAEgiXAAVIuOTYjgTcJ2Dy3E6bABFRUadOHRw7dkzdhDVu3Dh1wDzvLVjycvfDDz8Muba3SpUq2LhxI+T8CIu7BExOUndJcDTXCVCAuI6cA5JAuAQoQMIlx3Yk4D4Bk+d22gSIYJatVPJCt7zWXbx4cTRt2hQ//fSTWg255pprsHnzZnVGRN4KKVWqlKp/9dVXux8hjgiTk5Th8TiBfaeA9LNAiSigEn/54PFo0z3LCVCAWB5Amu8rAibP7bQKEImyvO8hb4KsXr26wKA3btxYvRnSqlUrXyWGSc6anKQmcaItJEACJOBnAhQgfo4+fbeNgMlzO+0CJCtY3377Lb755husW7dO3Y4VHx+vtmhdf/316NKli1oVYSk6AiYnadFR4cgkQAIkQAI5CVCAMB9IwB4CJs/tXBMg9oTLn5aanKT+jAi9JgESIAHzCFCAmBcTWkQCBREweW6nTYB89913ikf79u2DXt3IaiPnQ1jcJWBykrpLgqO5TuC/B4DjZ4Ay0UCbJNeH54AkQALBE6AACZ4Va5JAURMweW6nTYBERUVB/sgtWHFxcQFjkJGRoV5BlzZnzpwJWJ8VIkvA5CSNrKfszTgCvAXLuJDQIBIoiAAFCHODBOwhYPLcTqsAkXMdx48fD0mASBsRIyzuEjA5Sd0lwdFcJ0AB4jpyDkgC4RKgAAmXHNuRgPsETJ7bGSNARKiUK1dOrYKkpqa6HyWfj2hykvo8NN53nwLE+zGmh54hQAHimVDSER8QMHluZ4wAmTt3Ljp37qweI5QX0VncJWBykrpLgqO5ToACxHXkHJAEwiVAARIuObYjAfcJmDy3i5gAGT58eC6yQ4cOVYfPn332WcTExBRIXbZb7dmzB5999hkOHjyI7t2745NPPnE/Sj4f0eQk9XlovO8+BYj3Y0wPPUOAAsQzoaQjPiBg8twuYgJEDo/nfMtDXjeXEuz7HlJftl/Nnz8fbdq08UFamOWiyUlqFilaE3ECFCARR8oOSUAXAQoQXWTZLwlEnoDJc7uICZBatWrlEhvbtm1TP1evXr1QESKiIzExUb2C3q9fPzRt2jTyEWCPAQmYnKQBjWcFuwlQgNgdP1rvKwIUIL4KN521nIDJc7uICZC8McpaEQn2FizLY2y9+SYnqfVw6UDhBChAmCEkYA0BChBrQkVDSQAmz+20CZDevXurlY8JEyaorVUsZhMwOUnNJkfrHBOgAHGMkB2QgFsEKEDcIs1xSMA5AZPndtoEyBNPPKEEyJ133skzHc5zSHsPJiepduc5QNESSD8LyJGxYgBKRBWtLRydBEigUAIUIEwQErCHgMlzO20CJDo6GnKwfM2aNahfv7490fKppSYnqU9DQrdJgARIwDgCFCDGhYQGkUCBBEye22kTIPKex/79+9XVuuXLl2d6GE7A5CQ1HB3NIwESIAHfEKAA8U2o6agHCJg8t9MmQG644QbMnj0bixYtwpVXXumBMHrbBZOT1Nvk6R0JkAAJ2EOAAsSeWNFSEjB5bqdNgMjDgr/5zW/UGZApU6YwCwwnYHKSGo6O5jkl8OUu4FAqkFgSuLGq097YngRIQCMBChCNcNk1CUSYgMlzO20CRBgOGjQIr732Gnr16oVXX30VSUlJEUbL7iJFwOQkjZSP7MdQArwFy9DA0CwSuJAABQizggTsIWDy3E6bAPnd736nIjRr1izs2bMHcii9ZcuWqF27NmJjYwuMntyc9Y9//MOe6HrEUpOT1COI6UZBBChAmBskYA0BChBrQkVDScCf74BkPUQo8ZfbsLKKCIyCitST7zMyMpg2LhOgAHEZOIc7T4AChNlAAtYQoACxJlQ0lAT8KUA6duyoxEQ45dtvvw2nGds4IEAB4gAemzojQAHijB9bk4CLBChAXITNoUjAIQGT53batmA5ZMbmLhMwOUldRsHh3CZAAeI2cY5HAmEToAAJGx0bkoDrBEye21GAuJ4OZg5ocpKaSYxWRYwABUjEULIjEtBNgAJEN2H2TwKRI2Dy3I4CJHJxtronk5PUarA0PjABCpDAjFiDBAwhQAFiSCBoBgkEQcDkuZ1rAuTYsWP473//i+3bt+P48eMoU6YMatasqR4pLFu2bBAYWUUnAZOTVKff7NsAAhQgBgSBJpBAcAQoQILjxFokYAIBk+d22gXIjh078PTTT2PatGk4c+bMBfGQ63l79OiBESNGoEaNGibEy5c2mJykvgyIn5z+bMf5hwi7V/eT5/SVBKwjQAFiXchosI8JmDy30ypAvv/+e9x0002Q1Y+cV/GRdy8XAAAgAElEQVTmzQW5LUtWQb788ktcddVVPk6VonPd5CQtOiocmQRIgARIICcBChDmAwnYQ8DkuZ02AXLo0CHUr18fycnJKFmyJPr27Ys77rgDjRs3VtuvTpw4gdWrV+Ojjz7C+PHjkZqaisTERKxbtw4JCQn2RNcjlpqcpB5BTDdIgARIwHoCFCDWh5AO+IiAyXM7bQJkyJAhaluViIo5c+agefPmBYZ85cqVuO6663D48GEMHjwYL7zwgo/SwwxXTU5SMwjRChIgARIgAQoQ5gAJ2EPA5LmdNgEiguPnn39WqxsPPfRQwGj9/e9/V6skzZo1w/LlywPWZ4XIEjA5SSPrKXsjARIgARIIlwAFSLjk2I4E3Cdg8txOmwCRMx0nT55Ut15VrVo1IPVdu3ahevXqiI+PV2dGWNwlYHKSukuCo7lOQG7B2n8aqFgKuK+O68NzQBIggeAJUIAEz4o1SaCoCZg8t9MmQEqXLo3Tp09j7969SEpKChiDAwcOoFKlSoiLi1PnQ1jcJWBykrpLgqO5ToDX8LqOnAOSQLgEKEDCJcd2JOA+AZPndtoESIMGDbBx40Z8/PHH+M1vfhOQ+qefforbbrsN9erVUwfRWdwloDNJn3jiiQucGT16tLsOcjRzCVCAmBsbWkYCeQhQgDAlSMAeAjrndk4paBMgjz76qDr/IYJi0aJF6jB6QUUOn7dt2xYbNmxAv379MHbsWKd+sX2IBHQmKQVIiMHwW3UKEL9FnP5aTIACxOLg0XTfEdA5t3MKU5sA2bRpExo1aqQeH6xWrRqGDh2qVkIuuuiibJuPHj2KTz75BMOGDVNnRWJiYtTVvHXr1nXqF9uHSEBnklKAhBgMv1WnAPFbxOmvxQQoQCwOHk33HQGdczunMLUJEDHs/fffR+/evXM9Qli5cmV10FzOecj5ECnySGFUVBQmT56Me++916lPEW2fkZGBUaNGYdKkSZBX3eWgfJ8+fTBw4EAUL1484FhyE9igQYOwcOFCVbddu3YYOXIkmjRpkqutfDZjxgysX78eIsyE05VXXok//elPaNq06QXjBNtvQAN/raAzSSlAgo2CT+tRgPg08HTbRgIUIDZGjTb7lYDOuZ1TploFiBg3f/589O/fX13JW1CRCfaYMWNwzTXXOPUn4u1lK9m4ceOUkJJtYvK6+7vvvgv5PNBWMdlSdvnll6uHFYWBlLfeegtHjhzB0qVL1fa0rCKPNJYrVw4NGzZE+fLlsXPnTrzzzjvYs2cP5s2bhzZt2mTXDaXfYIHoTFIKkGCj4NN6FCA+DTzdtpEABYiNUaPNfiWgc27nlKl2AZJl4I8//qhWAbZt26ZWP2QVpFatWmpFoHXr1k790NJ+1apV6gFFEQ9vvvlm9hgDBgxQgmnFihX5rk5kVezRowdmzpyJNWvWqJUTKbKKIiKjW7du6hX4woqsEEk76efDDz/Mruq03/zG1JmkFCBa0tM7nVKAeCeW9MTzBChAPB9iOughAjrndk4xuSZAnBpaFO3lNfeXX34ZmzdvRu3atbNN2LJlC+rUqQP5/sUXX8zXNBFZcvD+7rvvVlvLcpZevXph6tSpOHToEOS64oLK2bNn1ZmZq6++Gl999ZWqFol+KUCKIps4ZoEEKECYHCRgDQEKEGtCRUNJABQgliZB165d1SpH1lmVnG7ImyUtW7ZUKxz5lcWLF6stW7J9S272ylnkM9nCJXVybq2SOgcPHoQIj927d0Ouqn3vvffU348//rjqItx+A4VAZ5JyBSQQfZ9/v2A/cCwNKBsDtK/ocxh0nwTMJkABYnZ8aB0J5CSgc27nlLRrKyDLli1T5ydybsGqWbOm+u2+qVuw5GyK3MwltuctrVq1Qnp6OmSbVn5l2rRpauuUHCy/+eabc1WRz7p3767eSLn99ttzfVesWLHsn8uUKaO2fw0fPjz7wHu4/eYcRM6VyJ+cRbaJ9ezZU/kqvkWyUIBEkib7IgESIIGiI0ABUnTsOTIJhErA1wJk9uzZePLJJ/HLL78UyK1x48Z4/fXX0blz51DZaq0v1wHLSoe8Y5K3yOrG/v371WOL+RW5Aez+++/H119/jS5duuSqMmvWLMjqitSRSX/OMmfOHHV1sfQr31911VV45ZVXUKpUKVUt3H5zjiFXIsvVx/kVChCtKcXOSYAESMBqAhQgVoePxvuMgG8FyGuvvaauoJUiV+1KkQl91jW8+/bty04F+c3/X/7yF+T32/KiypeiWAHJ6atcxys2yO1gH3zwgfqKKyBFlQ0clwRIgARIgAKEOUAC9hDwpQCR63evvfZaJTxkq9Wf//xn3HrrrbkeIpTraD/99FO1xWjr1q3qLZBvv/0W7du3NyK6RXEGJK/jjzzyCCZOnIiTJ0+qVRCeATEiNWhEJAkcTgXOnAOiiwEJJSPZM/siARKIMAEKkAgDZXckoJGALwWInHv44osv1IN7IkbkbYuCyuHDh9GhQwf1CvpNN92kzk2YUAYPHowRI0YUeAuWfP/SSy/la2qg26qmTJmibsGS1aDCygMPPKBu0ZLVoooVKwa8BSvYfvOOqTNJeQbEhGw22AbegmVwcGgaCeQmQAHCjCABewjonNs5paDtEHpSUhJEWHz++efqzYtA5csvv1TiQ66uPXDgQKDqrnwvN2DJTVcFvQOyfPlyNGvWTB1G37Rpk3pIsEqVKtm2yQFzOQOydu1aVKtWTX2e9Q6IrK7IdiopsrohJe+VvFK3RYsWKFu2LOTq36wSbL+hQNKZpBQgoUTCh3UpQHwYdLpsKwEKEFsjR7v9SEDn3M4pT20CRCbTp0+fVge1RVQEKrIaIKIlNjY2e0IeqI0b38sVuhMmTFAvocuNXXKTl7xQ3rdvX4wfP16ZINvH5J0Qed9DXknPKuvWrcMVV1yh/H/sscfUx/ISuvgqL6E3aNBAfSZCRraryWvo8pmsikhbGef48eOYPn26Emeh9hsKH51JSgESSiR8WJcCxIdBp8u2EqAAsTVytNuPBHTO7Zzy1CZA5GYr+c2/rAzIi+eBikzi5XG/Sy+9tNAbswL1E+nv5UaqkSNHYtKkSdi1axeqVq2KPn36qMP10dHRhQoQ+XLlypV4+umn1SvwUuTl91dffVWtnGQVefvj+eefx3fffadWSFJSUtRhfak7cODAfK8pDqbfUFjoTFIKkFAi4cO6FCA+DDpdtpUABYitkaPdfiSgc27nlKc2ASKHzl944QV1hkIm4IGKXDUrZyrkdXFpx+IuAZ1JSgHibiytG40CxLqQ0WD/EqAA8W/s6bl9BHTO7ZzS0CZA5FyDbD+SswvydkXeB/dyGi4P8t13332QdzeWLFlywVkIp06yfWACOpOUAiQwf1/XoADxdfjpvF0EKEDsihet9TcBnXM7p2S1CRDZTiRnHZ566in1+rk8qCfX8MoWKzkfIgJFtmh99tln6qE/2aYl74YkJCQU6JO8h8Gih4DOJKUA0RMzz/RKAeKZUNIR7xOgAPF+jOmhdwjonNs5paRNgMibHvK4YKSK9CXnMVj0ENCZpBQgemLmmV4pQDwTSjrifQIUIN6PMT30DgGdczunlLQKEKfG5WwvAiQjIyOSXbKvHAR0JikFCFOtUAIUIEwQErCGAAWINaGioSQAnXM7p3i1CRDZdhXpIi+qs+ghoDNJKUD0xMwzva4+AqRkAHHFgcYXecYtOkICXiRAAeLFqNInrxLQObdzykybAHFqGNu7S0BnklKAuBtLjkYCJEACughQgOgiy35JIPIEdM7tnFpLAeKUoEfa60xSChCPJAndIAES8D0BChDfpwABWERA59zOKYYiFSAnTpxQDxXKS+HVqlVz6gvbOyCgM0kpQBwEhk1JgARIwCACFCAGBYOmkEAAAjrndk7haxMgO3fuxCeffIKYmBj069fvAjufeeYZvPHGG0hPT1fftW3bFu+99x5q167t1Ce2D4OAziSlAAkjIH5qsuEYcDoDKFUcqFfWT57TVxKwjgAFiHUho8E+JqBzbucUqzYBMmrUKIjIuOuuu/Cvf/0rl51jxozBgAEDLrD9kksuwcqVK1GqVCmnfrF9iAR0JikFSIjB8Ft13oLlt4jTX4sJUIBYHDya7jsCOud2TmFqEyBdunTBN998o8SHiJCscvbsWbXdat++fWjfvj1kcrpx40Y899xzSEtLw+uvv56vOHHqKNsXTkBnklKAMPsKJUABwgQhAWsIUIBYEyoaSgL+vIa3Xr162Lx5s3rtXP6dVeSF9I4dOyI+Ph47duxAuXLl1FcjRozAkCFD0KFDB3z77bdMG5cJUIC4DJzDnSdAAcJsIAFrCFCAWBMqGkoC/hQgIizkkPnhw4ezRYbkwvDhwzF06FDceeedmDJlSnZ6rFmzBo0bN0aFChWwf/9+po3LBChAXAbO4ShAmAMkYCEBChALg0aTfUtA59zOKVRtW7BKliyJM2fOYNeuXahcuXK2nZ07d1YrHH/729/Qt2/f7M+Tk5PVbVglSpRAamqqU7/YPkQCOpOUW7BCDIbfqnMFxG8Rp78WE6AAsTh4NN13BHTO7ZzC1CZA5JzHnj17sGDBAnXDlZSUlBS1wiECY/ny5WjatGm2/Xv37sXFF1+sRMiBAwec+sX2IRLQmaQUICEGw2/VKUD8FnH6azEBChCLg0fTfUdA59zOKUxtAuTWW2/Ff/7zH9xzzz344IMPlJ1Zt19VqlRJiZOcZeHChbjmmmvQpEkTdRMWi7sEdCYpBYi7sbRuNAoQ60JGg/1LgALEv7Gn5/YR0Dm3c0pDmwCZMWMGRIQUK1YMrVq1QpUqVfDVV19BbsGS63lfeumlXLZnHULPezbEqYNsHxwBnUlKARJcDHxbiwLEt6Gn4/YRoACxL2a02L8EdM7tnFLVJkDEMDnj8fe//z2XjSJG5s2bp27BylmaNWuG1atXY8KECejTp49Tv9g+RAI6k5QCJMRg+K06BYjfIk5/LSZAAWJx8Gi67wjonNs5halVgIhxc+bMUSsfGRkZaNGiBXr27Ino6Ohcdq9fvx4PP/ywWi2R19CrV6/u1C+2D5GAziSlAAkxGH6rvvcUkHYWiIkCKsf6zXv6SwJWEaAAsSpcNNbnBHTO7Zyi1S5AnBrI9u4Q0JmkFCDuxJCjkAAJkIBuAhQgugmzfxKIHAGdczunVlKAOCXokfY6k5QCxCNJQjdIgAR8T4ACxPcpQAAWEdA5t3OKgQLEKUGPtNeZpBQgHkkSukECJOB7AhQgvk8BArCIgM65nVMM2gWInP2YPXs2fvjhB+zbtw+nTp3CuXPnCrRbzoH84x//cOoX24dIQGeSUoCEGAy/VV9yEDieDpQpAVxZwW/e018SsIoABYhV4aKxPiegc27nFK1WATJz5kw89NBD2L17d1B2ijARASKihcVdAjqTlALE3VhaNxpvwbIuZDTYvwQoQPwbe3puHwGdczunNLQJkCVLlqiHBc+cOaNWPBISElC3bl3ExcUFtPnbb78NWIcVIktAZ5JSgEQ2Vp7rjQLEcyGlQ94lQAHi3djSM+8R0Dm3c0pLmwC55ZZb8PnnnyMpKQlvv/02brzxRrW6wWImAZ1JSgFiZsyNsYoCxJhQ0BASCESAAiQQIX5PAuYQ0Dm3c+qlNgFSoUIFJCcnY8qUKbjjjjuc2sn2mgnoTFIKEM3Bs7X7v/xyoeV/bGSrN7SbBHxBgALEF2Gmkx4hoHNu5xSRNgEiW61SU1Oxf/9+JCYmOrWT7TUT0JmkFCCag2dr9xQgtkaOdvuYAAWIj4NP160joHNu5xSGNgFy6aWXYsOGDdixYwcuvvhip3ayvWYCOpOUAkRz8GztngLE1sjRbh8ToADxcfDpunUEdM7tnMLQJkCGDBmCV155RZ3/6NWrl1M72V4zAZ1JSgGiOXi2dk8BYmvkaLePCVCA+Dj4dN06Ajrndk5haBMgx48fR6tWrdS7HwsXLkStWrWc2sr2GgnoTFIKEI2Bs7lrChCbo0fbfUqAAsSngafbVhLQObdzCkSbANm+fTt27tyJ++67D4cPH8aAAQPQpUsXVKlSBcWLFy/U7ho1ajj1i+1DJKAzSSlAQgyGX6pTgPgl0vTTQwQoQDwUTLrieQI653ZO4WkTIDlFRtYDg8EYK1f1ytshLO4S0JmkFCDuxtKa0ShArAkVDSWBLAIUIMwFErCHgM65nVMK2gRIVFRUWLbxJfSwsDlupDNJKUAch8ebHVCAeDOu9MrTBChAPB1eOucxAjrndk5RaRMg8+fPD9u2Dh06hN2WDcMjoDNJKUDCi4nnW1GAeD7EdNB7BChAvBdTeuRdAjrndk6paRMgTg1je3cJ6ExSChB3Y2nNaBQg1oSKhpJAFgEKEOYCCdhDQOfczikFChCnBD3SXmeSUoB4JEki7QYFSKSJsj8S0E6AAkQ7Yg5AAhEjoHNu59RIChCnBD3SXmeSUoB4JEki7QYFSKSJsj8S0E6AAkQ7Yg5AAhEjoHNu59RIChCnBD3SXmeSUoB4JEki7QYFSKSJsj8S0E6AAkQ7Yg5AAhEjoHNu59RI7QJk9+7dGD9+PL755husX78eR48eRUZGRoF28xpepyENr73OJKUACS8mnm9FAeL5ENNB7xGgAPFeTOmRdwnonNs5paZVgHz++efo2bMn5FV0eQskmMJreIOhFPk6OpOUAiTy8fJEjxQgnggjnfAXAQoQf8Wb3tpNQOfczikZbQJk06ZNaNasGU6dOoX27dvj7rvvxu9//3uIwPjb3/6G06dP4+eff8ann36KQ4cOoVGjRnjqqacg74f06tXLqV9sHyIBnUlKARJiMPxSnQLEL5Gmnx4iQAHioWDSFc8T0Dm3cwpPmwD5wx/+oITGVVddhYULFyrhIeJC/pYVkbi4OGW7CBQRHrJNq0ePHvj3v//t1Ce2D4OAziSlAAkjIH5oQgHihyjTR48RoADxWEDpjqcJ6JzbOQWnTYDIisa6devw0Ucf4bbbblN25idAshy466678PHHH+Ptt9/mCojTqIbRXmeSUoCEERA/NKEA8UOU6aPHCFCAeCygdMfTBHTO7ZyC0yZAypQpg5SUFHXwvG7dusrO4sWLq78PHjyI8uXL57L9hx9+wJVXXqm2azl5Rd0pEL+215mkFCB+zaoAflOAMDFIwDoCFCDWhYwG+5iAzrmdU6zaBEipUqWQnp6eS2yULVsWJ0+exJo1a1C/fv1cth8+fBgVKlRAYmIiDhw44NQvtg+RgM4kpQAJMRh+qU4B4pdI008PEaAA8VAw6YrnCeic2zmFp02A1KhRA7t27cIvv/yCBg0aKDsbNmyoVkTknMftt9+ey/YVK1agZcuWiImJUQfUTSlyZfCoUaMwadIk7NixA9WrV0efPn0wcODA7BWdwmyVg/aDBg1S52CktGvXDiNHjkSTJk2ym8lK0XvvvYcZM2Zg5cqVEDFWq1Yt3HTTTRg8eDAuuuiiXEM88MADmDx5cr7Dio3VqlULGZ/OJKUACTkc/mhAAeKPONNLTxGgAPFUOOmMxwnonNs5RadNgNx888348ssvMWfOHHTq1EnZ+bvf/Q7vvvsurrvuOsyePTuX7ffffz8++OADXHLJJUqkmFIeffRRjBs3Dr1790bbtm3x/fffKx/k87FjxxZq5oYNG3D55ZcjISEB/fv3V3XfeustHDlyBEuXLkW9evXUZyJS5MYw2X7WtWtXVKxYEcuWLVOiR4SI/FtWj7JKlgARESLnanIWOW+TdcA/FIY6k5QCJJRI+KguBYiPgk1XvUKAAsQrkaQffiCgc27nlJ82ASKTdrkJ68UXX8Szzz6r7Fy0aJFaAZCbsORvufVKVhjkvZBvv/1W1XnmmWfw0ksvOfUrIu1XrVqF5s2bK/Hw5ptvZvc5YMAAjBkzBrJq07Rp0wLHEv9mzpyptpzJyokUWaGQlaBu3bqpA/pS5EyMPNgoIiRnkQP5Dz74IF577TU8+eSTFwgQ2eIWHR0dEV91JikFSERC5L1OKEC8F1N65HkCFCCeDzEd9BABnXM7p5i0CRCZUDdu3FhN0L/77rtsO2Ui/cYbbygRkrPIQ4UtWrTAggULULp0aad+RaT9kCFD8PLLL2Pz5s2oXbt2dp9btmxBnTp1IN+LwMqvnDhxQp1nkfdP8m6XkndOpk6dqt4/KcxXua5YVj5EhMhqSFbJWgFJS0tT1xjHx8dfsBISKgCdSeq2AHF7vFBZs/6vBChAmAokYB0BChDrQkaDfUxA59zOKVZtAqQww2Sr1YQJE9R5h9TUVDW5v+OOO/D0008bIz7EftkOJasce/fuvcCdSpUqqTMrssKRX1m8eLHasiUrQf369ctVRT6TLVxSp02bNgWikmuML730UrUqNGLEiAsEiNw0JiIlNjZWrajI2ZKsG8dCTQydSeq2IHB7vFBZsz4FCHOABGwlQAFia+Rotx8J6JzbOeVZJALEqdFutZfVGzkUL2cw8pZWrVqpW75km1Z+Zdq0aWqLmRwsl/MwOYt81r17d/XuSd7D+DnrZZ2L+emnn9RWsKwiguTMmTNo3bq1sk+2tv31r39VqyU//vgjatasWSiiPXv2QP7kLLJNrGfPnspX8S2SxW1B4PZ4kWTlq764AuKrcNNZbxCgAPFGHOmFPwj4UoDIYWspHTt2vOBsgy1hl9UEWemQCX7eIqsb+/fvx8aNG/N15/3334cIiK+//hpdunTJVWfWrFlqdUXqyKQ/vzJx4kT07dsXjz/+OEaPHh0QmazEyCqIbO+SQ/KFlaFDh2LYsGH5VqEACYiaFSJFgAIkUiTZDwm4RoACxDXUHIgEHBPwpQDJevVcfnuf93C1Y6IudVBUKyCffvqpWj254YYbIP8O9qC5rIjIyoacvymscAXEpQTiMIUToABhhpCAdQQoQKwLGQ32MQFfCpCkpCT1nkV+r57bkgtFcQZEVkduueUW9Sq8rGrI+Y5gi1zBKzeKyeH0UIvOJHV7S5Tb44XKmvV/JUABwlQgAesIUIBYFzIa7GMCOud2TrFqOwPSoUMH9fieOJ/z/IJTg91sL48AyuHvgm7Bku8LujI40C1YU6ZMUbdgyQ1WWWX+/PlqG5XcHvbNN9/kevsjGL9lpSk5OVld9Rtq0ZmkbgsCt8cLlTXrU4AwB0jAVgIUILZGjnb7kYDOuZ1TntoEiJxDkIcH5bYnOSBtY8l6nb2gd0CWL1+utpfJYfRNmzahXLlyqFKlSrarcsBczoCsXbs2+3XyrHdAZHVFDqpnlSVLlqBz587q4UERIvJ4YX7l5MmT6uO81/fKtb5y5a+cGxk/fnzIuHUmqduCwO3xQobNBpkEuALCTCAB6whQgFgXMhrsYwI653ZOsWoTIGLYnXfeqSbZf/7znyGrBcGeZXDqVCTbyxW6cmWwvIR+9dVXq5fQ33nnnVwT/a1bt6qrhPMeAJdrdK+44gr1Hshjjz2mzJLD+bLyIS+hN2jQQH22bds2daWvXKkrKy6VK1fO5YIchL/++uvVZyJ6rr32Wtx1112qvdyCJdf5/vOf/0SNGjUgQkbqh1p0JqnbgsDt8UJlzfq/EqAAYSqQgHUEKECsCxkN9jEBnXM7p1i1CZDhw4dDHheUB/TkULRMwmXiLBP1QOcann/+ead+Ray9XHcr72uIH7t27ULVqlXRp08fDBo0KFtQFSRAxAh560TeN5HtaFLkBfhXX30118H8efPmoVOnTgXaLNvZpI4UeZPkqaeewg8//KC4yuqLvLIuV/3Kw4gVKlQIy3edSeq2IHB7vLCAsxFXQJgDJGAhAQoQC4NGk31LQOfczilUbQIk6xYsMVCEiJS8r58XZHxGRoZTv9g+RAI6k9RtQeD2eCGiZvUsAlwBYS6QgHUEKECsCxkN9jEBnXM7p1i1CRA5yxCs4MjrxJYtW5z6xfYhEtCZpG4LArfHCxE1q1OAMAdIwFoCFCDWho6G+5CAzrmdU5zaBIhTw9jeXQI6k9RtQeD2eO5GykOjcQXEQ8GkK34hQAHil0jTTy8Q0Dm3c8qHAsQpQY+015mkbgsCt8fzSAq47wYFiPvMOSIJOCRAAeIQIJuTgIsEdM7tnLqhTYBs375d2SY3MwVbwmkTbN+sVzgBnUnqtiBwezzmVpgEKEDCBMdmJFB0BChAio49RyaBUAnonNuFakve+toEiBxClz/Hjh1DXFxcQDvl4HmJEiVUG7l5isVdAjqT1G1B4PZ47kbKQ6NRgHgomHTFLwQoQPwSafrpBQI653ZO+WgVIHIIXd62CEWASBveguU0rKG315mkbgsCt8cLnTZbKAIUIEwEErCOAAWIdSGjwT4moHNu5xSrMQIkJSUF8fHx6m2NtLQ0p36xfYgEdCap24LA7fFCRM3qWQQoQJgLJGAdAQoQ60JGg31MQOfczilWYwSIvAzepk0bJCUlYd++fU79YvsQCehMUrcFgdvjhYia1b0oQI6mAaczgIql5MEjxpgEPEuAAsSzoaVjHiSgc27nFFfEBMh7772Xy5YHHnhAvQMyfvx4lCxZskA7ZbvVnj17MHnyZGzcuBFdunTBV1995dQvtg+RgM4kdVsQuD1eiKhZ3WYB8tNhYFcKcFO183GcvQdYmZz5c4WSwJ01gdhoxpkEPEmAAsSTYaVTHiWgc27nFFnEBEjOl8/FqFBfP5f6Ilg+//xzdOvWzalfbB8iAZ1J6rYgcHu8EFGzus0C5L3NQJVY4PoqmV7sTAGmbAUalM0UH0sOAi0SgI6VGGcS8CQBChBPhpVOeZSAzrmdU2QRFSA5jcl6BT1LiBRkqJz5SExMRKtWrdC/f3/ccMMNTn1i+zAI6ExStwWB2+OFgZtNhICNZ0D+uhZoWxFolZAZw7l7gfXHgL71MrdezdsHbDoOPHgJY0wCniRAAeLJsNIpjxLQObdziixiAiSvIVkrIsHeguXUEbZ3RkBnkj/1e4sAACAASURBVLotCNwezxl5H7e2UYC8sQa4rjLQtHxm4N7dBFSOBW64OPPnVcnAN3uBxxv6OLB03csEKEC8HF365jUCOud2TllpEyAdO3ZUW6pmzpxZ6BkQpw6wfWQI6ExStwWB2+NFJgI+7MVGAfKPjUCdeKBTZeBYOjBxA9DtYqDxRZkBXHoQ+OEQ8PsGPgwoXfYDAQoQP0SZPnqFgM65nVNG2gSIU8PY3l0COpPUbUHg9njuRspDo9koQBbsA348DDS7CNh9CkhOAx6qB8QWzwzMFzszP+tZx0OBoiskcJ4ABQizgQTsIaBzbueUAgWIU4Ieaa8zSd0WBG6P55EUcN8NGwVI+llgzp7Mcx4li2euhFxSJpNdagYwbj3QOgFoz0Po7icUR3SDAAWIG5Q5BglEhoDOuZ1TCylAnBL0SHudSeq2IHB7PI+kgPtu2ChACqN07hyQdhYoEQVE8S0Q9xOKI7pBgALEDcocgwQiQ0Dn3M6phRQgTgl6pL3OJHVbELg9nkdSwH03bBQgM3cDzS8CqsTlz2vPKWBF8vlD6e5T5YgkoJUABYhWvOycBCJKQOfczqmhFCBOCXqkvc4kdVsQuD2eR1LAfTdsFCBi8/9VBRqWy5/X2qPAF7uApxq5z5MjkoALBChAXIDMIUggQgR0zu2cmkgB4pSgR9rrTFK3BYHb43kkBdx3w4sCRF5Kn7+P1/C6n00c0SUCFCAugeYwJBABAjrndk7NowBxStAj7XUmqduCwO3xPJIC7rthiwDZcRLYkZLJZ9EBoF4ZIKnUhbzkEPraY0CZaN6C5X42cUSXCFCAuASaw5BABAjonNs5NY8CxClBj7TXmaRuCwK3x/NICrjvhi0CRESH/JEiZ8vPFYJKxMeNVYHqpd3nyRFJwAUCFCAuQOYQJBAhAjrndk5NpABxStAj7XUmqduCwO3xPJIC7rthiwA5nQHIHxEe8hBhx0rnr97NSU1uvyod7T5HjkgCLhKgAHERNociAYcEdM7tHJoGChCnBD3SXmeSui0I3B7PIyngvhu2CJCcZGQ7VkJJCg33s4UjGkKAAsSQQNAMEgiCgM65XRDDF1qFAsQpQY+015mkbgsCt8fzSAq474aNAsR9ShyRBIwiQAFiVDhoDAkUSkDn3M4p+ogIkGuvvdapHdntixUrhm+++SZi/bGj4AjoTFK3BYHb4wVHmLUuIGCrAElOA1YlA0fSzm/NyumcnBO5sxYDTgKeJEAB4smw0imPEtA5t3OKLCICJCoqCiIczslLwA6L9JORkeGwFzYPlYDOJHVbELg9XqisWf9XAjYKkHXHgC92AsWKAQkxQKni+YfzLgoQ5rk3CVCAeDOu9MqbBHTO7ZwSi4gAeeCBB5QAiVR55513ItUV+wmSQH5JGqmJfKT6CdIVuD1esHaxXh4CNgoQOYQuh81vr8FzIExoXxKgAPFl2Om0pQQ8L0AsjQvNzkGAAoTp4DoBGwXIG2uADpWAlgmu4+KAJGACAQoQE6JAG0ggOAIUIMFxYq0iJEABUoTw/Tq0jQLk3U3ApWWBNkl+jRr99jkBChCfJwDdt4oABYhV4fKnsRQg/ox7kXptowCRMyDf7gXurQ2UKVGk+Dg4CRQFAQqQoqDOMUkgPAIUIOFxYysXCVCAuAibQ2USsFGALNwPbDkBHE7LfIywbInM19FzFvn56oqMMgl4kgAFiCfDSqc8SsD3AuTEiRNYvHgx1q9fj6NHj+LMmTOFhvr555/3aCqY6xYFiLmx8axlNgqQ/GzOGyARIE818mzY6Ji/CVCA+Dv+9N4uAr4VIKmpqRgyZAgmTJiAlJSUoKPGa3iDRhWxihQgEUPJjoIlYKMAOZoWnHflYoKrx1okYBkBChDLAkZzfU3AlwLk7Nmz6Nq1K+bOnaveB0lKSsKBAwfUdb3VqlXDsWPH1GqIFPmsfPnyKFOmjPp5y5Ytvk6YonCeAqQoqPt8TBsFiM9DRvdJgAKEOUAC9hDwpQCZPHkyevfujdKlS2P69Ono3Lkzsh4sPH78OOLi4rBr1y7885//xIgRIxAbG4upU6eiffv29kTWQ5ZSgHgomLa4YrsAOZQKpJwBkkoV/CChLbGgnSQQJAEKkCBBsRoJGEDAlwJEVj/mzJmDQYMGKYEhJa8AyYrNhg0blPBIS0uDwKpVi68Iu523FCBuE+d4Vh5Cl7CtPQrM3wec+PUs2x01gRqlM8XIB1uAayoCl5ZjgEnAkwQoQDwZVjrlUQK+FCCVKlXCwYMH8cMPP6BVq1a5BMiRI0eyt1tlxfzvf/87+vbti0ceeQRjx471aCqY6xYFiLmx8axlNq6AbD4OTN8BVI4F6sQD3x8A7vxVgEigpm0HihcDbq3u2bDRMX8ToADxd/zpvV0EfClAYmJiIIfJ9+7dq85/SClZsqS6AUu2XlWuXDlXFOWz6tWro06dOti4caNdEfaAtRQgHgiibS7YKED+9ev5tHtqAaczgLHrcwuQxQeAVUeAh+vZFg3aSwJBEaAACQoTK5GAEQR8KUAuuugiyFmPHTt24OKLL1aBENEhB9G///57tGnTJldwdu/erQ6nlypVKqQbs4yIsAeMoADxQBBtc8FGAfLGGuCaSkCrBODUmQsFyKpk4Ju9wOMNbYsG7SWBoAhQgASFiZVIwAgCvhQgrVu3xvLly7FkyRJcdtllKhDXXnst5s+fj2HDhuG5557LFZwPP/wQ9957L8qVK4fk5GQjAucnIyhA/BRtQ3y1UYC8tRZolwS0SsxfgMgKyP8OA79vYAhkmkECkSVAARJZnuyNBHQS8KUAefzxxzFmzBh88MEHuOeeexTf1157DQMHDkTZsmXxySefKEEiZcGCBbj77rvVdq0uXbrgq6++0hkP9p0PAQoQpoXrBGwUIFO2AtHFgB41LxQgZ88Bkzdnvo5+ew3XcXJAEnCDAAWIG5Q5BglEhoAvBci8efOUwOjZsyfee+89RVK2ZDVq1EidAcl6+0POicibIPJWSPHixdXNWR06dIgMefYSNAEKkKBRsWKkCNgoQDb9eghdtmA1Lge8vyXzwHnpaOD7/cC2k0DWrViR4sR+SMAgAhQgBgWDppBAAAK+FCAiLOQ2K3nf46GHHspG9Msvv+D222/HunXrcmGTRwj/+te/4r777mNCFQEBCpAigO73IW0UIBIz2WIl1/DKisc5eUn110BGFQM6VQJaJPg9svTfwwQoQDwcXLrmOQK+FCCFRVHEiayQrFy5Eqmpqahdu7Z6NV0OrrMUDQEKkKLh7utRbRUgErQT6cD6Y8DhtEwRUj4GqF82c/sVCwl4mAAFiIeDS9c8R4ACxHMh9Z5DFCDei6nxHtksQIyHSwNJQA8BChA9XNkrCeggQAGig6pLfcpqzahRozBp0iR1pbC8VdKnTx91mF7OrAQqP//8s3oNfuHChapqu3btMHLkSDRp0iS7aUpKijonM2PGDLUqdPjwYfUa/E033YTBgwfnuzIUTL+BbMv5PQVIKLRYNyIEKEAigpGdkICbBChA3KTNsUjAGQEKEGf8irT1o48+inHjxqF3795o27atesPk3XffhXwe6MX2DRs24PLLL0dCQgL69++v/HjrrbcgL8EvXboU9eplPlYmYqJZs2Zo37692opWsWJFLFu2TIkeESLyb7k5LKsE228o4ChAQqHFuhEhYKsA2X4SWJEMHEnLfIwwv/IQHyKMSI6wE+MIUIAYFxIaRAIFEvC1ADl48CA+/vhj/PDDD9i3bx9OnTqlbrwqqMjtWN98840R6bRq1So0b95ciYc333wz26YBAwaoK4ZXrFiBpk2bFmhrjx49MHPmTKxZs0atnEiRVZSGDRuiW7du+Oijj9RnwkgeYhQRkrO8/fbbePDBB9X1xU8++WT2V8H2GwpECpBQaLFuRAjYKEDkAPq3e4HY4sDFcUDJqPxRdKsaEUTshARMI0ABYlpEaA8JFEzAtwJEfoP/xBNPZL9sXpjwyMInAkS2PZlQhgwZgpdffhmbN29WB+WzypYtW1CnTh3I9y+++GK+pp44cQKJiYnqfZPJkyfnqtOrVy9MnToVhw4dQunSpQt0Va4tlpUPESHCUkok+s1vQAoQEzLOZzbYKEAmbgDKlch8B6R41vVXPosb3fU1AdsEyJmz57Bo21Gs2Z+C46kZuKNpEmqWL4WTaRn4afcJNKoYh4Q4Xh7h66T2sPO+FCDym/8bb7wxO6wtWrRQW47i4uIChvqdd94JWMeNCrIdSlY55IHEvKVSpUpo2bKlWuHIryxevFht2ZLtW/369ctVRT6TLVxSp02bNgW6IlcVX3rppXjmmWcwYsQIVS8S/VKAuJE9HCMgARsFyBtrgI68ajdgbFnBswRsEiAp6Rl4fcFObD+SipjoYkg7cw5PtKuGhhXjcPbcOTwzcwvaVC+D25okeTZedMzfBHwpQDp37oy5c+eibt26mD59eq5D17akg2yviomJUWcw8pZWrVohPT0dsk0rvzJt2jTIVik5WH7zzTfnqiKfde/eXW1NkzdRCir333+/ekn+p59+UlvBpESi3z179kD+5CyyTUwejRRfxTcpsnqVt4wePTrk8EWqn2AHdnu8YO1ivTwEbBQgH2wGasUD7SoynCTgSwI2CZB/Ld+P77cdRb8rq6BW+Vg89cWmbAEiwftwxX5sOHgKz19X05expNPeJ+BLAVK+fHn1wvmXX36pDlbbWEQ8yUrHokWLLjBfVjf279+PjRs35uva+++/DxEQX3/9Nbp06ZKrzqxZsxQTqSOT/vzKxIkT0bdvXzz++OPIOel32q+MNXToUAwbNizfcSlAbMxUS222UYDIAfTPdwK31wAqxVoKnmaTQPgEbBIgA7/cjCuql1Hbrk6kZuDJPALkm03J+M+aQ3jjpkvCB8KWJGAwAV8KkPj4eHXgXA5YixixsRTVCsinn36qVk9uuOEGyL+jo6Oz8XEFJHAmcQUkMCMjatgoQL7cBew/DRxKBarEZp4HKZbPWZAbeQjdiByjEREnYJMAeeTTDfht84poX7tcvgLk201H8PHPBzC2O2+ti3iisEMjCPhSgMiNTqtXr1YHuGvWtHN5syjOgMjqyC233IIrr7xSnS+Jjc39W1aeAQn83zQFSGBGRtSwUYDkZ3NemKJHnmpkBGIaQQKRJmCTAHlm5mZcUa0sbmtSIV8B8u6yvdh0+DReuL5WpDGxPxIwgoAvBcirr76KZ599Vl1fm/UGhhHRCMEIeQRQDn8XdAuWfP/SSy/l22Og26qmTJmibsGSlaKsMn/+fHU9b+PGjdVVxDnf/siqE06/wbjMW7CCocQ6ESVgowCJKAB2RgL2EbBJgExZsR9LdhzDkE41USo6KtcWrHUHUvDG97vQpV55/KZxBfsCQYtJIAgCvhQgaWlp6mG99evXQ36rLw/y2VbkBiy56aqgd0CWL1+u3u6Qw+ibNm1CuXLlUKVKlWw35YC5nAFZu3YtqlWrpj7PegdEVldkO1VWWbJkCeTgvjw8KEJEHi8sqITSb7DMKUCCJcV6ESNAARIxlOyIBNwiYJMAkat2X563Xa1+NK5UGj/uPI6WF8cjLeMsftmfgkrxMRjcsQZKlSjgPR+3oHIcEtBEwJcC5LvvvlOH0OXRvp07d+Kee+5Rh7Flgl68ePFCUV9zzTWaQhF6t3KF7oQJE9RL6FdffbV6CV2uCZYD4uPHj1cdbt26Vb0TIu97yCvpWUWu0b3iiivUeyCPPfaY+lheQpeVD3kJvUGDBuqzbdu2KaEj737IikvlypVzGSoH4a+//vqQ+w3FWwqQUGixbkQI2CxA5DHVfaeBo+mZKOQsSKVS+Z8HiQgsdkICZhCwSYAIsZS0DEz/5aASHyfTziqIsSWicFm1MritcQWUjil8PmIGdVpBAuER8KUAiYqKgjwqKEUeIMz6dyCEUu/MmTOBqrn2vdgycuRI9RDgrl27ULVqVfTp0weDBg3KPhxekAARI1euXImnn34aCxcuVDa3a9cOsj0t56vn8+bNQ6dOnQr0qUOHDpA6OUsw/YYCiQIkFFqsGxECtgqQTceBOXuBE7+Kj3MA5H91ZUoA11UG6paJCB52QgImErBFgMgDhHuPpyGuRFT2Q4PHU89AfndQpmTxoOckJsaANpFAsAR8K0CCBZSznkkvoYdjv61tKEBsjZzFdtsoQOQa3o+3AXHRQPPyQGLJzADIrVgrkoGUM5mvpNcobXFgaDoJFEzAFgGScfYcfv/ZBvRomoTOl9h5EyfzkAScEvClAJFtReEWW2/NCtdfE9pRgJgQBZ/ZYKMAmbI1U2T8tjZQKs/WjdMZwL+2AKWjgbt4q47Pstk37toiQCQgT3+1WYmP6+tRgPgmQeloLgK+FCDMAbsIUIDYFS9PWGujAHlzLXBVBeCKAm7NWXIQ+O9BYMClnggRnSCBvARsEiDTVx/E6n0n8UzHGoiOyue9HoaXBDxOgALE4wH2gnsUIF6IomU+eFGALD0ILKYAsSwTaW4IBGwSIKv2nsS0nw8o7+QxwqS4EihR/MIbrxpWjAuBAKuSgD0EKEDsiZVvLaUA8W3oi85xGwVI1hase2sDJfNswUrNAP65JfN8yN3cglV0icWRdRKwSYA8/Mn6oFBMvK1+UPVYiQRsI+BLAbJ9+/aQ4xQdHY0yZcqoPyzuEqAAcZc3RwNgowDZegKYth2IL+AQ+skzwO01gJrnHxhlrEnASwRsEiCLth0NCn3bmuWCqsdKJGAbAV8KkEBvfRQWRBEgrVq1wp133qne1oiNjbUt5tbZSwFiXcjsN9hGASLU1x8D5so1vGcyr9+VIlfxlokGOlUG6pe1Pzb0gAQKIGCTAGEQScDvBHwpQOQdEKdFruStU6cOPv30UzRu3Nhpd2xfCAEKEKaH6wRsFSAC6mzWQ4RpmdjKxWQ+RMiDrq6nEQd0lwAFiLu8ORoJOCHgSwEyf/58HDlyBE899RQ2b96sXhHv3r076tevj/j4eJw4cQLr16/HjBkz1CN9devWxahRo9Tjfps2bcJ//vMfzJ07V3GXx/9++eUXbs1ykoUB2uZN0ieeeCLfFqNHjw7Zivz6CqefYAd2e7xg7WK9PARsFiAMJgn4lIBNAmTRtmNBRaltTa5aBgWKlawj4EsBcurUKbRp0wYbN27E+++/j9tuu63AwE2fPh09e/ZEvXr1sGjRIsTFZd5IMW3aNNxzzz3IyMjAiy++iGeffda64NtiMAWILZHykJ02C5CDp4FNJ4CjOVZA6sQDSaU8FCC6QgIXErBJgPAQOjPY7wR8KUBeeOEFDB06FCNGjMCgQYMC5sDIkSPxzDPP4M9//rP6k1UGDhyI1157DVdeeSUWL14csB9WCI8ABUh43NjKAQEbBYhsvZqzB1h1JPPcR84i50GaXARcX4VbsRykBZuaTcAmAXIoJf0CmGfPncOBE+mYs+kITqRmoPdllVGlTIzZ0GkdCYRJwJcCpEmTJlizZo3aTlWrVuArKeXl9Nq1a6Nhw4ZYvXp1NmqBd9lllyEhIQEHDx4MMwRsFogABUggQvw+4gRsFCAL9gPy2OClZYHWiUDCrxOXw2nAj4cyD6jLI4XtK0YcFzskARMI2CRAAvH6y3c7UP2ikrirGf97DcSK39tJwJcCRM55yDasAwcOKPEQqBw+fBgVKlRQ26/kfEhWSU5ORmJiImJiYnD69OlA3fD7MAlQgIQJjs3CJ2CjABm/HqgcC9xaPX+/p28H9p4GHuG7AuEnBluaTMBLAmTupmR8sfYwXvu/uiYjp20kEDYBXwoQERMiHr7++mt07tw5ILzZs2eja9euKF++PA4dOpRdf9++fahSpQoqV66M3bt3B+yHFcIjQAESHje2ckDARgHyxhqgYyWgRQG/VFl+GJi3D3i8oQMwbEoC5hLwkgD5Yu0hfLnuMMZ2r2cucFpGAg4I+FKA3HjjjZg5c6Z6z2PevHnq5quCSkpKCq655hr89NNPSoR8+eWX2VXlJiwRMC1atICAZNFDgAJED1f2WggBGwXIh1syD5p3rpK/Y3I+5MBp4J7aDD0JeJKAFwRISnoG1u5PweT/7VNbsP7YvoAVTU9GkE75iYAvBcicOXPQpUsXyFsecvXusGHDIKIkpxA5efIkvvjiC/WdnBeRunlXTB599FFMmDAB/fr1w9ixY/2UN676SgHiKm4OJgRsFCB7TwEfbweuTgKalQeK//oSYcY5YEUysPhA5kvosk2LhQQ8SMAmARLoFqwKpUvgD1ddjIvLlvRgpOgSCUD94r5169ZYtmyZWhAwqRQ7d+5c3rtcImafXJ37/PPPK2EhRf6WrVSlS5eGiI+9e/dChs8yQW7NkvpZRbZwyfshcpZk/PjxanWERQ8BChA9XNlrIQRsFCBTtgLH04Fj6UCJKKBciUwHj6YD6Wczf47/9bOcrt8d+CIO5goJ2EDAJgEy45eDMvHIhVV+iouJQqXSMWhUKQ5Reb63IQa0kQSCJeBbASKA5KFBuUp3w4YNBfK65JJLINfw3nrrrcEyZb0IE6AAiTBQdheYgI0CZGLB/x8r1OGHucc8cEKwhg0EbBIgNvCkjSSgk4CvBUgW2CVLlqhHBuW6XVn9kFWQmjVrom3btuqND5aiJUABUrT8fTm6jQLEl4Gi0yRwnoBNAuTdZXtxTe1yqJOQ/5bILYdPYf6Wo3igdWWGmAQ8SYACxJNh9ZZTFCDeiqcV3lCAWBEmGkkCOQnYJEDkDMiDl1fGldXL5hvEH3Yex9+X7sHE23htNrPcmwQoQLwZV095RQHiqXDa4QwFiB1xopUkkIOAlwTIt5uO4OOfD/AaXma4ZwlQgHg2tN5xjALEO7G0xhNbBcjqI8DKZOBIOnA6A8h7j4ccan2C74BYk4c0NCQCpguQ9QdTsO7AKeXTf9YcQsuL41Gt3IW3XMlVvD/sOI7ycdEY0qlmSAxYmQRsIeB5ATJ8+PDsWGTdYpXzs1ADlfMmrFDbsn54BChAwuPGVg4I2ChAFuwHlh4EShUHKpYCSkblD+AWvivgIDPY1GACpguQGWsO4fM15x8zLgxl+dhotUWrfoU4g4nTNBIIn4DnBUhUVFT2VbsZGRmKVM7PQkWX1Ueo7Vg/fAIUIOGzY8swCdgoQMauy3yI8LbqQHQB4iNMHGxGAjYQMF2AnEzLgPyR8tysrbijaRKaVymdC60sUpYsHoWypaJtQE4bSSBsAp4XILVq1coWIFu2bFGgcn4WKrmsPkJtx/rhE6AACZ8dW4ZJwEYB8tZaoEMloHn5MJ1mMxKwm4DpAiQn3XUHUlClTAyFht0pR+sdEPC8AHHAhk0NIUABYkgg/GSGjQJk+nagbAxwHa/t9FOq0tfzBGwSINuPnEaNi0oVGr7/bj+GNjXyvyWLcScB2wlQgNgeQR/YTwHigyCb5qKNAuRIGvDvbcCVFYCmFwFRuV9ZNg0x7SGBSBOwSYA88ukG3NooEV3rJ1yA4VR6Bt7/aT9+3Hmc1/BGOknYnzEEKECMCQUNKYgABQhzw3UCNgoQgfTzEeDr3ZniIy4ayO8oyEN8+dz1fOKArhCwSYDIGx/y1keDpFj87rLKKB9bQjGSrVnvLNuLo6czcHPDRNzY4EKB4gpMDkICmglQgBQAeN26dVi7di0SExNx1VVXoXjx4ppDwe4pQJgDxhCwUYD8dBiYuzdTfJSPKfgWrHtqG4OZhpBAJAnYJEDE78Xbj+HDFfvVf7L3NK+IHUdTMXtDMiqWLoE+l1dBzfKFb9GKJDv2RQJuE/ClABFxMWHCBMTHxyPvlbzp6em477778NFHH2XHombNmurn1q1bux0fjgeAKyBMA9cJ2ChAJqwHSkcDt9XIXP1gIQGfEbBNgEh4Dp5Mx7j/7lbiQ0r7WuVwV/MkxBTnTXY+S1/fuetLASKiY9iwYXjwwQcxceLEXEEfOnToBaJEKlSsWBFr1qxB+fK8Ycbt/0ooQNwmzvFgowB5Yw3QsRLQgls2mMH+JGCjAJm3+Qg+WnUAUcWKIfXMWdQqXwp9Lq+MivEx/gwivfYNAV8KkA4dOmDhwoWYPn06brnlluxgp6WloXLlyjh69CjuuOMOPPvss9i4cSMefvhhHDlyRAmTIUOG+CY5THGUAsSUSPjIDhsFyJStQJXYzKt4WUjAhwRsEiDHU8/g3WX7sGrvSTStXBoPtK6E9QdP4YOf9iH97Dnc1ayiWg1hIQGvEvClAKlTpw62bdumxEXt2uf3Q3/99dfo1q2bOvexc+dOlCxZUsV97Nix6N+/P9q0aYNFixZ5NReM9YsCxNjQeNcwGwXIvlPA9B3A9VWAumW8Gxt6RgIFELBJgDz5xSa14tGjSRI61b0o26PkU+l4Z9k+rN2fghYXx+PRNhcz3iTgSQK+FCBlypRBSkoKkpOTUbbs+Tu2Bw8ejFdeeQW9evXCO++8kx3wDRs2oEGDBmr71aFDhzyZCCY7RQFicnQ8apuNAkRWQI6nA8fSM8+ClC2R/1W8d9fyaNDolt8J2CRAXvhmG/pcUUU9RphfmbUhGZ+uPoi/3cpb6/ye117135cCJDY2FrLdavv27ahatWp2bNu1a4fFixfj7bffViIkq8j2q4SEBJQoUQKpqZkHxVjcI0AB4h5rjvQrARsFyMQNwYXvYU5oggPFWrYRsEmAnDl7DtEB3urZdTQVVctl7sRgIQGvEfClAJFtVyI+Zs2aheuuu07FVESGHDTPyMhQh83r16+fHetdu3ahevXqqFSpEvbs2eO1HDDeHwoQ40PkPQNtFCDeiwI9IoGQCNgkQEJyjJVJwIMEfClA7rnnHkydOhVdu3bFF198gaioKDz33HN4+eWXUatWLWzevDlXqOfOnYvOnTujRYsW6kpYFncJUIC4y5ujAVbegsXAkYDPCZgsQBZtO6aic1WNMihWrBiyfg4UsrY1z28Tp+2MnQAAIABJREFUD1SX35OATQR8KUDmz5+PTp06qf8JyKpGhQoVsHr1ahW3ESNGYNCgQbli+Kc//QkvvfQS7r//frz77rs2xdcTtmYl6W9/+1u1SlVQGT16dMj+PvHEExe0CaefYAd2e7xg7WK9PARsXgFJzQC2ngSOpmU6dVEMULM0UJKPqTLPvU3AZAHy8CfrFXw50yFbr7J+DhSRibed340RqC6/JwGbCPhSgEiAZLXj+eefx9mzZ7PjdfPNN2PatGmIjj7/iNe5c+dQr149bNmyBe+99x7uvfdem+LrCVspQDwRRrucsFWAyGvo3+0HzpwFzuVAXiIKuKYi0JJvhNiViLQ2FAImC5B1B1KUKw2S4tTfWT8H8i+rfqB6/J4EbCPgWwGi/gewbp06ByLnPmR7VceOHS+In1zVK6sfUkaOHImkpCTbYmy9vRQg1ofQPgdsFCBrjwKf7wIqlgJaJwCJvx5ePZQK/O8wsP80cFM1oAG3dNiXkLQ4GAImC5Bg7GcdEvATAV8LED8F2mZfKUBsjp6lttsoQD749ezaPbWB4sVyg884B/xrCyAf96xjaVBoNgkUToAChBlCAvYQoACxJ1a+tZQCxLehLzrHbRQgb6wB2lcEWifmz23ZIWDBfuDxhkXHlSOTgEYCtgmQ0+ln8cPO4zhwMg0n087m2jUpmOT3Bfe1qqSRGLsmgaIjQAFSdOw5cpAEKECCBMVqkSNgowAZsxa4LBG4qoBtoosPAD8eAvpfGjlO7IkEDCJgkwBZeyAF4/67G6fSz59DzQ8lD6EblGA0JaIEKEAiipOd6SBAAaKDKvsslICNAmTaduDAaeC3tTNfQc9Z5HV02YKVVAq4vQaDTwKeJGCTAPnznK04npqBe1tURJ2EUogrkf8tdSWjozwZKzpFAhQgzAHjCVCAGB8i7xloowDZewqYsjVz30bDckBCjkPoa48B584Bd9cCKsd6L170iAQA2CRAHv10A25tXAFd6pVn7EjAlwQoQHwZdrucpgCxK16esNZGASLgd6cAc/cCe0/nDkOVWKBTJeDizCtAWUjAiwRsEiBD52zFVTXKomt9Xo3txVykT4EJUIAEZmRsDbk+eNSoUZg0aRJ27NiB6tWro0+fPhg4cCCKFw/86NjPP/+sHl1cuHCh8rFdu3bqquEmTZrk8lmuKv7444+xbNkyrFq1Cunp6epdFHk1Pm954IEHMHny5HyZiY3VqlULmScFSMjI2MApAVsFSJbfJ88Ax359iLBsDFD6/NtGTtGwPQmYSsAmAbJ0xzF8+sshPNuxBsrwkVBTU4p2aSRAAaIRru6uH330UYwbNw69e/dG27Zt8f3336uX2uXzsWPHFjr8hg0bcPnllyMhIQH9+/dXdd966y0cOXIES5cuVY8vZhURFR9++CGaNm2K1NRUiHAJJEBEhERF5d67ettttyEuLvTfwFKA6M4k9n8BAdsFCENKAj4kYJMAkfAs2nYUU1ceQMuL41E+NhpRxXJfny0/3dSwgFvtfBhfuuwtAp4XICtXrlQRa9asmaciJysRzZs3V+LhzTffzPZtwIABGDNmDFasWKEEQ0GlR48emDlzJtasWaNWTqTICkXDhg3RrVs3fPTRR9lNd+3ahQoVKqBkyZJ47rnn1MOMgQSIrJLkfFHeCXwKECf02DYsAjYKkI3Hga0ngM5V8nd5zh6gdjxQt0xYSNiIBEwnYJMA2Xk0FW8t2oUjp84UipW3YJmedbQvXAKeFyDyW3j5c+zYsezfvg8fPlzxGjx4cMQmyeEGINx2Q4YMwcsvv4zNmzejdu3a2d2IMKhTpw7k+xdffDHf7k+cOIHExETcfffdF2yX6tWrF6ZOnYpDhw6hdOnSF7QPVoCkpaXh1KlTiI+Pv2AlJFSfKUBCJcb6jgnYKEDkALrcfnVj1fzd/2oXILdh3XXh1knHvNgBCRhAwCYB8ur87dhxNBW/aVQBlyTGIrZE/rddVYyPMYAsTSCByBPwhQApVqwYjh8/ni1ARJDk/SzyaPX22LVrV7XKsXfv3gsGqlSpElq2bKlWOPIrixcvVlu2ZPtWv379clWRz2QLl9Rp06ZN2AKkTJkyinlsbKxaUZGzJXXr1g0Lii4B8sQTT+Rrz+jRo8OyM5hG+Y2pc7xgbGKdfAjYKED+ug5oWwFoVcCWjf8dBuQtkN83YMhJwJMEbBIgv/9sA25s8P/tnQm8TtX6xx8zxzwdZCaJSBS3OOpelShDkwZJKTddV1y5yb/hhluJ7r2KFKUkDRQNqBBNRJGbzPOQ+Zg56HDw//zWsc99z3veYe/9vu/ee73793w+Pjhnrb3W+j7rPWf99rPWs8rJTRdzi1VSTkYOKiqBpBcgRYsWVYemd+/eLampqQpIMggQbK8qXLiwOhgebM2aNVNjxjatUDZt2jTBFqzp06dLx44dcxXB1zp37qwOnd92222WBcigQYMkKytLLr/8ctW/hQsXyiuvvCKlSpWSn3/+WWrWrBlxUsJP+BNo2CbWrVs36dq1a44PQz3E6kKeAiTqzwf/FtBRgPAmdP/OV45cEdBJgDwxe4v8qU4ZuZ5peDl7fUog6QXIhRdeqM4r4HD2vffem0uAYCsS3tDraIgmINKBBX6wIbqRnp4uGzduDDm0SZMmSffu3WX27NnStm3bXGWQ8QrRFZTBoj/Yom3BCtUgIjGIgmB7F/wQyQYPHixDhgwJWYQCRMeZqmmfdRQgEzeJlCgU/qLBqdtEjmWJ9LAXidTUk+y2jwjoJEDmbjwkC7YekSf+VEMKF+Blgz6aphzqeQJJL0Cwxej1119XaWlxEL106dLy7bffqi1YSDtrJl2tMVtQZ968eZ6YPF6NgISDg4gIIhu7du2KyI8REE9ML3ZCRwGy5IDId3tFmpcXaVlRxNhTfvqsyMJ9Ij8fEGmdKtKiAv1LAklJQCcBAvHxzebDkpF5Rt0HUi4lbxYsOCmtVumk9BUHRQJJL0CwoMVZBmR4itUgQHD3hhfMq2dAwrFBCt6ZM2cKDqdbNZ4BsUqM5WMmoKMAOXtO5LPtIpsyRArmEylz/vDq4VMiWedE6pQQubm6SP7cqT5jZsUHkIBHCOgkQB76eL0pasyCZQoTC2lIIOkFCHyCw9Dvv/++OhNx4sQJtQ0IYgJbeqymip0wYYIn3IwMXsOGDQubBQvfR7rcUBYtC9bkyZNVFixksAo2O1uw8AxEnw4dOmRLCFKAeGLK+asTOgoQeOjcOZE1R0TWHRU5dF7sly0sUr+0SINSIkH3DPjLqRxtshPQSYCs23fClDvqV7R+d5apB7MQCbhMwBcCJJhxMhxCRwYsZLoKdw/IsmXL1KIfh9E3bdqktp5VqfK/+wFwwBxnQNauXZtzO7lxDwiiKzioHsoiCZDjx4+rKsHpe5HWFyl/e/XqJWPHjrU85SlALCNjhVgJ6CpAYh0365OAxgR0EiAaY2bXSSAuBHwpQGrVqqUyYa1evVqQJUtXw/mWcePGqZvQW7VqpW5CR4QmcKG/detWdU9I8AHwdevWSYsWLdR9IH379lUIcBM6Ih+4Cb1+/f+l6sRljsiOBZs7d6589913MmDAAClTpoz606dPH/U9iJ42bdrInXfeqeojCxbS+b733ntSo0YN+emnn9TBeatGAWKVGMvHTIACJGaEfAAJOE2AAsRp4myPBOwT8KUAsY/LWzWR7hb3a4wfP15wW3nVqlWlZ8+eMnDgwJytZeEECEYCYfH444/LggUL1MBwKH/48OF5bo3HljWInFCGtLpoA4Y7SSBMlixZog6bI/qCW9aR6hcXI+I2dTtGAWKHGuvERIACJCZ8rEwCbhCgAHGDOtskAXsEKEACuGFBj/MiuETP6tkQe/hZywwBChAzlFgmrgQoQOKKkw8jAScIUIA4QZltkEB8CPhegODeizfffFPmz58ve/fuzaFauXJlFRFAROH666+PD20+xRYBChBb2FgpFgIUILHQY10ScIUABYgr2NkoCdgi4FsBggPTuJjws88+U+DOIXtMkCFTFgw3g+NivuDD1baIs5JlAhQglpGxQqwEKEBiJcj6JOA4AQoQx5GzQRKwTcC3AgRRja+//loJj9TUVHVO4ZJLLlHbr5CmdtWqVTJjxgwVFYEQue6661TWKJrzBChAnGfu+xYpQHw/BQhAPwIUIPr5jD32LwFfChBkZUL0A8ICB7aHDBmiMjYFGy7Ne+aZZ9TBbJR999135e677/bvbHFp5E4LEAxz5MiRCRlt//798zw3UW0lZAB+eSgFiF88zXEmEQEKkCRyJoeS9AR8KUDatWsnX331lTrfgTS20Qxpbd944w1p27atzJo1K1pxfj/OBChA4gyUj4tOQFcB8ttxkcX7Rfb+LvL7mdDjHNAw+vhZggQ0JKCbAFm774TMXn9Qth76XU6cPqvuEQ023oSu4URkl00R8KUAwV0U+/fvV/dWNG7cOCoo3KDepEkTtVULqWZpzhKgAHGWN1sTER0FyOZjIp9sF8HN59WLi/x6SKRB6ezb0TceEylfRKRuSZGWFeliEkhKAjoJkBV7jssri3ZKpRKFpX6FYvLdliPSonpJ9XFdtjtDqpQsLJdWKSGdGpRPSl9xUCTgSwGCywdxRwVESNmyZaPOgkOHDqkL+7BN6/fff49angXiS4ACJL48+TQTBHQUIB9sETl9TuSe2iKZZ0ReXS9yR02RGsVFDmWKvLdV5PoqIvVLmQDAIiSgHwGdBMjw736TzKxz8sSfasjJ02dlwOebpH9aNWmQmiJ7M07JsG9/k26XVZIrqpXUzxHsMQmYIOBLAVKlShVJT09XF+Y1a9YsKiZAuuKKKwSpeXHBHs1ZAhQgzvJma5pGQF5emx3daF5e5OQZkTHrRG6vIVKrRLZLF6SLbMkQubcOXUwCSUlAJwHSZ/oGFd1oW6+cHD91RvrP3CR/a1VVGlYqrnzzyar9snLvcXm6Tc2k9BUHRQK+FCCdOnWSzz//XLp27arS60YzHFjHwfUOHTrI9OnToxXn9+NMgAIkzkD5uOgEdIyAjFor8sdKIpeWFck6K/LSWpGbqmZvw4ItPyTy9R6RvzWIPn6WIAENCegkQB6ZvlG6NK4gV9cuI6fPnJW/frZRHmxeWf5QPTtCOX/LEZm8PF3GdK6noSfYZRKITsCXAmTatGnSpUsXldnqoYcekhEjRqj0u8GGdLyDBg2SV199VZWdOnWq3HLLLdGpskRcCVCAxBUnH2aGgI4C5O1N2Wc8Wqdmj/D1DSLVU0TaV83+/+c7RXYcF+l1kRkCLEMC2hHQSYAMnrtVmlQpIbdcUkFxHjRrs9SvkCI9rqis/j9+yW5Zv/+kjGjPiKV2E5EdNkXAlwIEZCAkcAkhhEVKSoq656Nhw4ZSokQJdQ/ImjVrZO7cuYILC3FXCMpDuNCcJxAvARIqBW640SQqNS7T8Do/f2y1qKMAQXRja4bIAxdmDxlbrn7cL1IjRQTZdXacEGlaTqRN9gKHRgLJRkAnATL513RZtfe4/LNtbeWGz1bvl8/XHpT6FYupg+gQH23qlpG7mpx/oZBszuJ4fE/AtwIkMzNTevfuLRMmTFCTwLj1PHBGGLejP/DAAzJmzBgpUqSI7yeMGwAoQNyg7vM2dRQgGadF9mVmRz0K5hc5cy57y9W6I/gBJ3JhyWzxUSi/z53L4ScrAZ0EyOGTWbLjaKbKgFWoQH7JOntOpvyaLot3HJP8+fJJ0wuKy52XpkoRfJZpJJCEBHwrQAxfAsBbb70lCxYskG3btqnoB6IgtWrVkrS0NIH4aNq0aRK6Xp8hUYDo46uk6amOAiRp4HMgJGCPgE4CxN4IWYsEkoeA7wVI8rgyeUdCAZK8vvXsyChAPOsadowEwhGgAOHcIAF9CFCA6OMr3/aUAsS3rndv4LoKEKTf/Wm/CC4lPHI6m1/pQiJ1Soq0KC+SUtA9pmyZBBJMQDcBgvS7X6w7KMt3Z8j+E1mKToWUguoCwnYXlZOSRQokmBgfTwLuEaAAcY89WzZJwKwACfW4wMPkPIRuEjiL6XkT+uFTIpO3imRkZd96Xq5wticPnhI5kClSoqDInbWyb0qnkUASEtBJgKRnnJIXv98hR37PksolC6s/sD3HTqk/pYsWlMeuriapJfh5TcKpyiGJCAUIp4HnCVCAeN5FyddBHSMg037LTrPbqbpI7fOXDxqeQURkxg6R6sVFbq2RfP7iiEhARHQSIKN+2Cnr95+Qh/9wgTSqnH35oGEr9hyXcT/tkosqpkjflufTaNPDJJBkBChAksyhyTgcCpBk9KrHx6SjAHl5jUizciKtK4WG+/1ekV8OivTjRYQen33snk0COgmQPp9tkDZ1y8qtjbLvAQm2j1fuk683HZZXeBGhzdnAal4nQAHidQ+xfzlhOtxcn5pqLSc6t2BxAtkioKMAGbNO5KqK2SIklP33oMiifSJ/rW8LCSuRgNcJ6CRAHv18k3S4uJwSIaHs602HZObag/Kfm+p6HTv7RwK2CFCA2MLGSk4S0CECYvaCQbPlnOTLtkIQ0FGAfLU7+6zHHTVF8ufLPaiz50SmbBWpUFTk+ip0OQkkJQGdBMikX/bK7qOn5O9XV1P3fgTambPn5F/zd0jVUoWlW9MwEc2k9CAH5ScCFCB+8ramY6UA0dRxOndbRwGS/rvIrF0ihfJl33he7vzFqQczRRD9wMWE7S7IexFhGR5y1Xmqsu//I6CTANl+OFPeXrpHChfMp6IglUoUUgPBAXRsvTp99pz0uLyyFCmYW5xULM7PK+d8chCgAEkOPyb1KChAktq93hycjgIEfcZa5Zxk/x1o+Bos+Ov42oCG3vQBe0UCFgnoJEAe+ni9xdFlF3/91ots1WMlEvAaAQoQr3mE/clDgAKEk8JxAjoKkB/SRYK2cpji1rKiqWIsRAJeJ6CTAJm+er+tz2unBuW97gb2jwRMEfClAGnTpo3ky5dPvvjiCylS5Pw2hQi4zp49K9ddd52qM2/ePFNgWSh+BChA4seSTzJJQEcBYnJoLEYCyUpAJwGSrD7guEjALAFfCpD8+fMrMXHs2DFJSUmJyurMmTNSqFAhVQf/pjlLQFcBAkqBWbjwfx5Cd3bu2G6NAsQ2OlYkAbcIUIC4RZ7tkoB1AhQgJgRIVlaWFC5cmALE+vyKSw0KkLhg5EOsENBVgOCg+fJDIpuOiRw5nT3i0oVE6pYUubSsSIFQh0CsgGFZEvAuAd0ESNbZczJ/yxH5dXeG7D+R/XmtkFJImlQpIa1rl5aCwdnsvIuePSMBywQoQEwIkB07dkiNGjWkePHiKmpCc5YABYizvNmaiOgoQI5niUzdJrIvU6RIfpHS57PlHDklknlWpEIRkS41RYoXpItJICkJ6CRAjv6eJSN/2CE7j5ySYoXyK+EBgxA5efqsXFCqsDyaVk1KFeXnNSknKweVc8fb0qVLpVmzZp4iku/cuXNG7pa4dszYgpWRkSHFihUL+2w0v3v3bnnmmWfkzTfflCZNmsgvv/wS177wYdEJUIBEZ8QScSagowCZuUNk/VGRNpVFGgdEOxAVWXFI5Os9IheVEulQLc6w+DgS8AYBnQTIG4t3y9Kdx+SuJqmSVut/0Q5ERRZsPSKTf02Xy6uWlD+34L093phd7EW8CfgiAlKgQIFc3AxdgzMdVmzw4MHy9NNPW6nCsnEgQAESB4h8hDUCOgqQUWtFGpXJFiChbN5ukdVHRB652BoLliYBTQjoJED6Tt8oLWuWUgIklL2/LF1+3H5URnW8UBP67CYJWCPgCwGCiEcshvpdunSRiRMnqrMgNGcJUIA4y5utaboFa/RakdapIpeVC+3CXw6KLEinAOEET1oCOgmQfjM2yi2XVJA/1ikT0h/fbDosn67eLy9TgCTtfPX7wHwhQCAcAq1Hjx7qQPlrr70WMQ0vMl+VL19eLrvsMqlUqZLf54pr46cAcQ29fxvWMQIyY4fI6bMit9YI7bePf8u+Bb0jt2D5d2In98h1EiDjftolp86ck0daVg3plFELd0rRgvnlIW7BSu5J6+PR+UKABPvXahpeH88PTwydAsQTbvBXJ3QUIBmnRT7eLlK2sMgV5UTKnr/j6GCmyM8HRXAY/ZbqeQ+hW9yK6q+JwNHqREAnAXL4ZJaMXrhTUksUkuvrlZXKJbJ3V+zOOCVfbTgk+46flkeuqiqliubeQp6fn1edpiT7GoGALwXItm3bFJKaNWtycmhAIB4CJNT9G5GGHnx/RzRM4Z7Pe0CikfPo93UUIOgzjrUhdUfw8TYjnUeoY28DGnrUCewWCVgjoJMAeejj9dYGh491PpFxt1xkuR4rkIAXCfhSgHjREexTeAIUIJwdjhPQUYB8udMepvaht4DYexhrkYB7BHQSIG/9vCfPewIz5HpcESbJhJnKLEMCHiJAAeIhZ7AroQlQgHBmOE5ARwHiOCQ2SALeIqCTAPEWOfaGBJwn4GsBsmrVKpk0aZIsWbJE9u7dKydPnpRIV4/g4PqmTZuc95LPW6QA8fkEcGP4FCBuUGebJBATAQqQmPCxMgk4SsC3AgT3ebzwwgty9uzZiKIj0BsQIGfOnHHUQWxMcm7L7Nq1q6Smhs6ZHo6TcQaDZ0A4kywR0F2AnDorknkm+zxIsJXKvnGZRgLJRkBXAfJ71lk5cepMyI9r+fM3pCebrzgeEvClAHn33Xele/fuyvspKSnStm1bqVevnvp3NMOt6DRnCTAC4ixvtqbpPSBw3MrDIov3ixw6Fd6NPHTOKZ6kBHQTID9sOyKz1h+SvcfCf15fv5WHzpN0uvp+WL4UIK1atZJFixbJ5ZdfLp9//rnlt+q+nzUOA6AAcRg4mxPRMQKy+rDIF7tEahQXqVlcZH66yOXlRArmE1l5RKREQZGm5bJvS6eRQBIS0EmA/PjbUcFB9IsrpsjFqSny6ar9ct2FZaVg/nyycNsRKVOsoLSpW0Za1iydhJ7ikEjgf7tbli5dKs2aNfMUknznIh3IiKGrpUqVkuPHj8v3338vECM0bxOgAPG2f5KydzoKkHc2ixTOL3JXLZGTWSJj1ovcUTNbkOD/+P4fKoS/KT0pHclB+YmATgLkn/O2SdFC+eWxq6tLRuYZefTzTdI/rZo0SE1R/8dY2tcvF/amdD/5lWNNTgK+jICULl1aMjIy5MCBA1KmDN8Gen1qJ4sAMXtXiNf94Yv+6ShAXlojcnWqSLPyIr+fEXllnchtNURql8h22aJ9ImuPivSo6wsXcpD+I6CTAPnrZxvk1ksqyLUXlpXjp85I/5mbpG+rqtKoUnHluJlrDsjiHcdk6PW1/OdIjtgXBHwpQFq0aCEI+axdu1ad/aB5mwAFiLf9k5S901GAjF4r0jo1O8Jx5pwIBEm7C0QuOf+S5ddDIt/sEflbg6R0GQdFAjoJkH4zNsotl1RQEY6ss+ek96cb5P7LK0vLmqWUI7/fclimLN8nYzpzjcKZnZwEfClAxo4dK71795ahQ4fKU089lZyeTaJRUYAkkTN1GYqOAmTSZpHqKSJ/PH9R2VsbRcoWFrmlhsi5cyIfbxc5mCnyZy5odJmG7Kc1AjoJkGe/3ib1K6ZIl8YV1SCf/mqrVCpRSPpcVVVl5hy1cKfsOXZahrWrbQ0CS5OAJgR8KUDw4e7UqZPMnTtX3n//fbnllls0cZc/u0kB4k+/uzpqHQXI/L0iq4+IPFRPJF8+kaUHRL7ZK1LmfNrdI6dFrqoo0jJ7wUMjgWQjoJMA+Xjlfvlp+1ElMPLnyydzNx6SD5fvkwrFsz+v+4+flg4NykunBuWTzU0cDwkoAr4UIO+8846cPn1ann/+edm6daukpaXJDTfcIFWqVJECBQpEnBpG+l7OH+cIUIA4x5otnSegowA5dUYkI0ukTGGR/PmyB4KUvDj3gf/WK5l9CB3ihEYCSUhAJwHy++mzcvj3LKlYvJAUOP95nbX+oCzZfkx9RJteUEIdQoc4oZFAMhLwpQDJnz+/4FJBq4Y6WVlZVquxfIwEKEBiBMjq1gnoIkCyzooUzG9+fNsyRGqeP5RuvhZLkoAWBLwuQE6fOSuFCpj/vK5OPy4NU7MPpdNIINkI+FaA2HUkbk73iuFW9hdffFHGjx8v27dvl+rVq0vPnj3lscceixrJwRhWrlwpAwcOlAULFqghIRI0YsQIadSoUa4hzpkzR6ZOnaoO7q9YsUJFj7Zs2SK1aoXOzmH2uWY5UoCYJcVycSOgiwCZui37jEcBEy9UNh0TmbGDh9DjNkn4IK8R8LoAefmHHfLXq6qquz6i2fLdGTJu8W4eQo8Git/XloAvBYi23grqOA7Sv/baa9KjRw9p2bKl/PDDD/L222+rA/ZjxoyJOMwNGzZI8+bNpVy5cvLII4+osqNGjZLDhw/L4sWLc2UHu//+++WDDz6Qxo0bS2ZmphIu4QSIleea9QMFiFlSLBc3AroIEPTzwpIinar9b9tVKAgbjorM3ClSvGD2GREaCSQhAa8LkIc+Xi9NqhSXv1x5QcStVf/deUzeWLJHShctIC+0q5OEnuKQSMCnZ0CSwfGIRDRp0kSJh5dffjlnSP369ZPRo0fLr7/+qgRDOLv99ttl1qxZsmbNGhU5gSGK0qBBA2nfvr189NFHOVV37twpFSpUkCJFiqisYc8991xYAWLluWb9QAFilhTLxY2ALgLEOGhev5RIh6qhz3esPSLyxU6RUoVE7qiV/TeNBJKQgNcFiHHQ/IpqJeXPzSuH3Aq+ZMcxeXPJbimXUkgGtK4m5VP4eU3Cqcoh+fUQejJ4/sknn1SH6Ddv3iy1a/8vTR8iE3Xq1BF8/9lnnw05VFzCWL58ebnrrrtk4sSJucrcd999MmXKFHVJY/HiefeeRhIgsTw3kk8oQJJhxmo2Bl0ECLD+tF9kfrpIw9IiN1bNDXr1YZFZu7IPpndTz/Y+AAAgAElEQVSpKVKSixnNZiK7a4GA1wUIhvLFuoPy6ar9cmWNUvLAFedTZp8f44+/HZW3l+5RB9MfbV1Nyhbj59WC+1lUMwLcgqWZw4zuImsXohx79uzJM4JKlSpJ06ZNVYQjlC1atEht2cL2rYcffjhXEXwNW7hQ5sorr8xTPZIAieW5FCCaTsRk7bZOAgQ+WJAu8uN+kSZlRa6vku2VFYdE5uwWKVdE5I6a2duvaCSQxAR0ECDA/9nq/fL52oPSunZpubdpJeWR+VuPyKT/7pUqpQrLgLRqUqooP69JPFU5NL9GQL7//nvbzr/66qtt141nRWyvKly4sDoYHmzNmjVTB8WxTSuUTZs2TbBVavr06dKxY8dcRfC1zp07q0Pnt912myUBEstzjYZ2794t+BNo2CbWrVs36dq1q6SmplrCOHLkSFW+f//+tuqZrRTu+Ub7kfoQWMZseyyXYAK6CRDg+G6vyJIDIs3KZV9A+PUekQpFsiMfKVzMJHjG8PEeIKCLAAGqqSv2yZwNh6RN3TJSqURh+eDXdKlauog8mlZNShaJfB2AB1CzCyQQMwFfRkCSIQ1v3bp1BZGOhQsX5pkEiG6kp6fLxo0bQ06QSZMmCe4zmT17trRt2zZXGWS8QnQFZbDoD7ZIEZBYnmu0M3jwYBkyZEjIflOAxPx55wPMEtBRgGBs8/aI/HIw+96P1KLZ4qMoFzNm3c5yehPQSYCANETHN5sOK+g1ymSLj5TC/LzqPQvZe7MEfCtAzAIKLueVNLyMgJjzICMg5jixVBABXQQItlkFG7ZiHc8SSUsVKRLizoHGZeluEkhKAl4XIAu2HsnF/RzOhKw9KEczs6RzwwqSUijv5zWtVumk9BUHRQK+FCDbtm2L6HlcNohtQIgGIKMUMkDh7T5uSq9Zs6YnZg3PgJhzAwWIOU4spakAgVBCtAMrGTOGsgMaminJMiSgHQGvCxCk4bVqr996kdUqLE8CWhDwpQCx4hlklWrdurWUKlVKlixZEjIzlJXnxavsE088IcOGDQubBQvfR7rcUBYtW9XkyZNVFqwSJfLemBxLFqxIz43ExetZsCKdL+EZkHjNeIefo0sEZPtx62Cq82Zl69BYQwcCXhcg6/adsIyxfsUUy3VYgQR0IEABYsJLuNzvgQceUHdgDB061ESNxBdBBixkugp3D8iyZcvk0ksvVYfRN23aJKVLl1YRHMNwwBxnQNauXSvVqlVTXzbuAUF0BQfKQ1m0e0DsPpcCJPFzhi1YIKCLALEwJBYlgWQn4HUBkuz8OT4SsEKAAsQErV27dqlF+kUXXaQW7F4xpNAdN26cugm9VatW6ib0CRMmSK9evWTs2LGqm1u3blX3hOB+Dwgpw9atWyctWrRQ94H07dtXfRk3oSPygZvQ69evn1N2+fLlKmMWbO7cufLdd9/JgAEDpEyZMupPnz59bD3XLEdGQMySYrm4EaAAiRtKPogEnCJAAeIUabZDArEToAAxwRCL8ooVK0rRokXlxAnrIVQTTdgqgrMqI0aMkPHjxwtuK69atar07NlTBg4cKAULZqfdDCdA8D0Ii8cff1wWLFigyqalpcnw4cNV5CTQIFwgckIZzsSgjUAz+1yzg6YAMUuK5eJGgAIkbij5IBJwigAFiFOk2Q4JxE6AAsQEQ9yJcccdd6howb59+0zUYJF4EqAAiSdNPssUAQoQU5hYiAS8RIACxEveYF9IIDIBCpAoMwTnJLB9CcIDl/Z9+umnnFMOE6AAcRg4mxOhAOEsIAHtCFCAaOcydtjHBHwpQNq0aRPV5SdPnlQX+R08eFDOnTunbh3HDeo4N0FzlgAFiLO82ZpQgHASkICGBChANHQau+xbAr4UIMZN6BAWZuyCCy6QN954Q9q3b2+mOMvEmUAsAsRuVwLT50Z7BtPwRiOk4fcZAdHQaeyy3wlQgPh9BnD8OhHwpQC5//77JV8+3MgV2vA9HDivXLmyNG/eXK6//vqcQ906OTdZ+upFARJJdARy5z0gms5CChBNHcdu+5kABYifvc+x60bAlwJENyf5vb8UIH6fAS6MnwLEBehskgRiI0ABEhs/1iYBJwlQgDhJm23ZIuA1AWI2+oHBMgJiy+XuV6IAcd8H7AEJWCRAAWIRGIuTgIsEKEBchM+mzRGgADHHiaXiSIACJI4w+SgScIYABYgznNkKCcSDgO8FyNmzZwWpdufPny+//fabHDt2TEqWLCm4YA8X891www2CQ+s09whQgLjH3rctU4D41vUcuL4EKED09R177j8CvhYgn332mfTt21d27NgR1vPVq1eXUaNGSadOnfw3OzwyYgoQjzjCT92gAPGTtznWJCFAAZIkjuQwfEHAtwLklVdekX79+qk7PmDFihWTevXqqehHRkaGrF+/XnAXCAxZsUaPHi29e/f2xaTw2iApQLzmER/0hwLEB07mEJONAAVIsnmU40lmAr4UIKtXr5YmTZrImTNn5KKLLpIXXnhBOnTokCvVLr43c+ZMGTRokKxbt059b9myZdKwYcNkng+eHBsFiCfdktydogBJbv9ydElJgAIkKd3KQSUpAV8KkJ49e8pbb70ljRs3Vrebly5dOqx7cSYEZ0FWrlwpDz74oLz++utJOhW8OywKEO/6Jml7RgGStK7lwJKXAAVI8vqWI0s+Ar4UIHXr1pWtW7fKjBkz5MYbb4zq1S+++EJFSOrUqSMbN26MWp4F4kuAAiS+PPk0EwQoQExAYhES8BYBChBv+YO9IYFIBHwpQFJSUiQzM1PS09OlfPnyUWfI/v37JTU1Vd2OfuLEiajlWSC+BChA4suTTzNBgALEBCQWIQFvEaAA8ZY/2BsSoAAJIlCmTBmVbnfLli1So0aNqDME6Xlr1aolpUqVksOHD0ctzwLxJUABEl+efJoJAhQgJiCxCAl4iwAFiLf8wd6QAAVIEIErrrhCfvnlF3nppZfkkUceiTpDkAELGbOaNWsmP//8c9TyLBBfAhQg8eXJp5kgQAFiAhKLkIC3CFCAeMsf7A0JUIAEERg6dKgMHjxYRTRwvqNly5ZhGf3444/Srl07FTFBnaeffpozymECFCAOA2dzIhQgnAUkoB0BChDtXMYO+5iAL8+AHD16VOrXr6/OgOCW865du8qtt96qUuyWKFFC3QOyZs0amTZtmnzwwQeSlZUlVapUkbVr16p7QmjOEqAAcZY3WxMKEE4CEtCQAAWIhk5jl31LwJcCBN7GnR6IbECE4KLBcIaLCitVqiSzZs1Sd4fQnCdAAeI8c9+3yAiI76cAAehHgAJEP5+xx/4l4FsBApcju9WQIUNk0qRJgqhIsOF+kO7du6ttVxUqVPDvLHF55BQgLjvAj81TgPjR6xyz5gQoQDR3ILvvKwK+FiCGp3Hr+YoVK2Tbtm1q+xW2YSHrFS4qxBYtmrsEKEDc5e/L1ilAfOl2DlpvAhQgevuPvfcXAQoQf/lby9FSgGjpNr07TQGit//Ye18SoADxpds5aE0JUIBo6jg/dZsCxE/e9shYKUA84gh2gwTME6AAMc+KJUnAbQIUIG57gO1HJUABEhURC8SbAAVIvInyeSSQcAIUIAlHzAZIIG4EfC1AZs+eLRMnTpTFixfLnj175OTJkxHBIlsWUvLSnCVAAeIsb7bGNLycAySgIwEKEB29xj77lYAvBQgOnd93333qjg8YUu2aMQgQ1KU5S4ACxFnebI0ChHOABHQkQAGio9fYZ78S8KUAGTFihAwaNEj5vHbt2uoSwrp160qxYsWizgMIF5qzBChAnOXN1ihAOAdIQEcCFCA6eo199isBXwqQBg0ayPr16+Xmm2+WKVOmSMGCBf3qfy3G7aYA6d+/f0yMRo4cmVM/3LMCy8TUGCvHjwDPgMSPJZ9EAg4RoABxCDSbIYE4EPClAEGk49SpU7Jy5UqBGKF5mwAFiLf9k5S9owBJSrdyUMlNgAIkuf3L0SUXAV8KkOrVq8uuXbvkwIEDUqZMmeTyaBKOhgIkCZ3q9SFRgHjdQ+wfCeQhQAHCSUEC+hDwpQDp0qWLfPzxx7Jo0SJp0aKFPt7yaU8pQHzqeDeHTQHiJn22TQK2CFCA2MLGSiTgCgFfChCk3U1LS5ObbrpJPvnkE1fAs1HzBChAzLNiyTgRoACJE0g+hgScI0AB4hxrtkQCsRLwpQABtAkTJkivXr1UBqzhw4dLzZo1Y2XJ+gkiQAGSILB8bHgCFCCcHSSgHQEKEO1cxg77mIBvBQh8PmfOHOnQoYO62+PCCy+UypUrS4ECBcJOB9wDMm/ePB9PF3eGTgHiDndft0oB4mv3c/B6EqAA0dNv7LU/CfhWgLz99tvSr18/ycjI4EWEHp/7bggQIEF6XKbh9fjkSFT3KEASRZbPJYGEEaAASRhaPpgE4k7AlwLkyy+/VJEP3ICeP39+adasmdSpU8fURYTYukVzloBbAiQeo+Q9IPGg6MIzKEBcgM4mSSA2AhQgsfFjbRJwkoAvBcg111wj8+fPl0aNGqlD6LgFneZdAhQg3vVN0vaMAiRpXcuBJS8BCpDk9S1HlnwEfClAypYtK0ePHpVvv/1WWrdunXxeTbIR6SxAzLiCN6GboeRwGQoQh4GzORKInQAFSOwM+QQScIqALwVI+fLl5fDhw7yI0KlZFmM7FCAxAmR16wQoQKwzYw0ScJkABYjLDmDzJGCBgC8FCKIeCxculFWrVsnFF19sAReLukGAAsQN6j5vkwLE5xOAw9eRAAWIjl5jn/1KwJcC5P3335du3brJwIED5YUXXvCr77UZNwWINq5Kno5SgCSPLzkS3xCgAPGNqznQJCDgSwECvz344IMyceJEeemll6RPnz5J4MrkHQIFSPL61rMjowDxrGvYMRIIR4AChHODBPQh4EsBMnToUOUh3AWybds2qVWrllx33XVRLyJEnX/84x/6eDdJekoBErsjQ91nwsPvEbhSgMQ+6fgEEnCYAAWIw8DZHAnEQMCXAgR3f+BWcxjuAoEZ/4/GErem05wlQAESO28KEIsMKUAsAmNxEnCfAAWI+z5gD0jALAFfChBEPMwKjmCQW7ZsMcuW5eJEgAIkdpAUIBYZUoBYBMbiJOA+AQoQ933AHpCAWQK+FCBm4Xi9HKIxL774oowfP162b98u1atXl549e8pjjz0mBQoUiNr9lStXqoP4CxYsUGXT0tJkxIgR6oLGYDNb9v7771dna0IZ+litWrWo/QouQAFiGVmeChQgFhlSgFgExuIk4D4BChD3fcAekIBZAhQgZkl5sFzv3r3ltddekx49ekjLli3lhx9+UOda8PUxY8ZE7PGGDRukefPmUq5cOXnkkUdU2VGjRqn7URYvXiz16tXLqW+lrCFAIEKw1S3Qbr31VklJSbFMkgLEMjIKkFiRUYDESpD1ScBxAhQgjiNngyRgmwAFiEl0uDn9o48+UtmzvGArVqyQJk2aKPHw8ssv53SpX79+Mnr0aPn111+lcePGYbt6++23y6xZs2TNmjUqcgJDhKJBgwbSvn17NVbDrJQ1BMjp06elYMGCcUFFARI7RkZALDKkALEIjMVJwH0CFCDu+4A9IAGzBChAIpDCFqcvvvhCJk2aJDNnzpRTp05JVlaWWbYJLffkk0/K888/L5s3b5batWvntIUzKnXq1BF8/9lnnw3Zh4yMDMFt8HfddVee7VL33XefTJkyRd0SX7x4cbFSFo0ZAgSsTp48KSVKlMgTCbEKhgLEKrG85SlALDKkALEIjMVJwH0CFCDu+4A9IAGzBChAQpD66aeflOj48MMP1UIchmxZOLjulSxYN9xwg4py7NmzJ88IKlWqJE2bNlURjlC2aNEitWUL27cefvjhXEXwNWzhQpkrr7xS/W22bKAAKVmypBw7dkyKFSumIio4W1K3bl2z8zJXOQoQW9hyVaIAsciQAsQiMBYnAfcJUIC47wP2gATMEqAAOU8KkYR3331X/dm0aVOO6MA/ypQpIzi/cPfdd8u1115rlm1Cy2F7VeHChWXp0qV52mnWrJlgCxS2aYWyadOmCbZVTZ8+XTp27JirCL7WuXNnmTp1qtx2221ipSweNGjQIBUluvzyy1X/Fi5cKK+88oqUKlVKfv75Z6lZs2ZELrt37xb8CTRsE8PN9V27dpXU1NSEcnXj4U7cx0EBYtGzFCAWgbE4CbhPgALEfR+wByRgloCvBcihQ4fUdiNEO3788cdcogPRjjvuuEOJDrzBL1SokFmmjpRDNAGRDizwgw0Ri/T0dNm4cWPIvmC83bt3l9mzZ0vbtm1zlZkzZ44guoIyWPRbKRtu4IjEgCG2d+GQfCQbPHiwDBkyJGQRChD7U4sCxCI7ChCLwFicBNwnQAHivg/YAxIwS8B3AgRnE2bMmKEiHV9++aWKFMCwxQpZmxBZwNYmL223CuVMr0ZAwk08REQQ2di1a1fEuenHCAiAJDoKQgFi9kfi+XIUIBaBsTgJuE+AAsR9H7AHJGCWgG8EyPz585XoQHanI0eO5IgO/APZpO655x61xWffvn3q/ITXBYhXz4CEm3jYwmYc5Dc7OY1yyX4GhALE6oxwoDwFiAOQ2QQJxJcABUh8efJpJJBIAkkvQJ566il5//33Zdu2bblEB1LPQnBgm9Ell1ySwxjRDx0EyBNPPCHDhg0LmwUL33/uuedCzp1oma0mT56sDt8jg5WVspEm6qWXXirY8oZUv1aNAsQqsbzlGQGxyJACxCIwFicB9wlQgLjvA/aABMwSSHoBgm1ViGZgixUOk+PwNaId11xzTUhGuggQo5/h7gFZtmyZYNGPLWY4VF+6dGmpUqVKzphxwBxnQNauXZtzO7lxDwiiKzh8bpjZssePH1dVkL430HDOBil/e/XqJWPHjjU7N3PKUYBYRpanAgWIRYYUIBaBsTgJuE+AAsR9H7AHJGCWgG8ECIC0atVKHnjgAZXdCWliQ5kuAgR9RwrdcePGqZvQMTbchD5hwoRcC/2tW7eqe0KCD4CvW7dOWrRooe4D6du3r0KBm9AR+cBN6PXr18/BY7YsRE+bNm3kzjvvVPWRBQtpfN977z2pUaOGIL0xDs5bNQoQq8TylqcAsciQAsQiMBYnAfcJUIC47wP2gATMEkh6AYIF8XfffZdzjwfAFC1aVDp06KC2X914441SoECBHF46CRCku8X9GuPHj5edO3dK1apVpWfPnjJw4MCcW8jDCRAMePny5fL444/LggUL1PjT0tJk+PDhKnISbGbK4k6SAQMGyJIlS9Rhc0RfsNUNqX5xMWKFChXMzstc5ShAbGHLVYkCxCJDChCLwFicBNwnQAHivg/YAxIwSyDpBQhA7NixQx1Ax5v4VatWKTbYlgUrV66cemOP8yBIX6uTADHrZN3LUYDE7kEKEIsMKUAsAmNxEnCfAAWI+z5gD0jALAFfCJBAGNgmhLstPvjgg5xbxA0xgq1KiAK88847ns+CZdbByVCOAiR2L1KAWGRIAWIRGIuTgPsEKEDc9wF7QAJmCfhOgBhgzp49K3PnzlWRkU8++USMA9TGgXX8je1IiI5gGxHNPQIUILGzpwCxyJACxCIwFicB9wlQgLjvA/aABMwS8K0ACQR04sQJJUIQGZk3b56cOXNGfRsiBH+uuuoqtUULGbQqVqxoli3LxYkABUjsIClALDKkALEIjMVJwH0CFCDu+4A9IAGzBChAgkjhIDXuDUFkBNu1DCGCvwsWLCiZmZlm2bJcnAhQgMQOMpwAoTAJw5YCJPZJxyeQgMMEKEAcBs7mSCAGAhQgEeCtXr1anQfBeRHckeH129FjmAeerkoBErt7KEAsMqQAsQiMxUnAfQIUIO77gD0gAbMEKEBMkvrmm29UVOTNN980WYPF4kWAAiR2khQgFhlSgFgExuIk4D4BChD3fcAekIBZAhQgZkmxnGsEKEBiR08BYpEhBYhFYCxOAu4ToABx3wfsAQmYJUABYpYUy7lGgAIkdvQUIBYZUoBYBMbiJOA+AQoQ933AHpCAWQIUIGZJsZxrBChAYkMfSnzgiSNHjhQeQg/DlgIktknH2iTgAgEKEBegs0kSsEmAAsQmOFZzjgAFSGysKUBs8KMAsQGNVUjAXQIUIO7yZ+skYIUABYgVWizrCgEKkNiwhxMg4Z6KyIjvjQLE91OAAPQjQAGin8/YY/8SoADxr++1GTkFSGyuogCxwY8CxAY0ViEBdwlQgLjLn62TgBUCFCBWaLGsKwQoQGLDTgFigx8FiA1orEIC7hKgAHGXP1snASsEKECs0GJZVwhQgMSGnQLEBj8KEBvQWIUE3CVAAeIuf7ZOAlYIUIBYocWyrhCgAIkNOwWIDX4UIDagsQoJuEuAAsRd/mydBKwQoACxQotlXSFAAWIOu5W7PiI9kYfQRYQCxNykYykS8BABChAPOYNdIYEoBChAOEU8T4ACxJyLKEDMcTJVigLEFCYWIgEvEaAA8ZI32BcSiEyAAoQzxPMEKEDMuYgCxBwnU6UoQExhYiES8BIBChAveYN9IQEKEM4BzQlQgIR2oJmzHeFuO480JbgFi1uwNP+Rwe77lAAFiE8dz2FrSYAREC3d5q9OU4DYFyB2ZgoFCAWInXnDOiTgNgEKELc9wPZJwDwBChDzrFjSJQIUIBQgjk89bsFyHDkbJIFYCVCAxEqQ9UnAOQIUIM6xZks2CVCAUIDYnDr2q1GA2GfHmiTgEgEKEJfAs1kSsEGAAsQGNFZxloAfBAiIWt36ZOYMiB1PWe2HnTY8X4cCxPMuYgdJIJgABQjnBAnoQ4ACRB9f+banFCCMgDg++SlAHEfOBkkgVgIUILESZH0ScI4ABYhzrNmSTQIUIBQgNqeO/WoUIPbZsSYJuESAAsQl8GyWBGwQoACxAY1VnCVAASKSqO1WoTzJLVjMguXsJ5ytkUB8CFCAxIcjn0ICThCgAHGCMtuIiQAFCAVITBPITmVGQOxQYx0ScJUABYir+Nk4CVgiQAFiCRcLu0GAAoQCxPF5RwHiOHI2SAKxEqAAiZUg65OAcwQoQJxjzZZsEqAAoQCxOXXsV6MAsc+ONUnAJQIUIC6BZ7MkYIMABYgNaKziLAEKEAoQZ2ccz4A4zpsNkkAcCFCAxAEiH0ECDhGgAHEINJuxT8DvAsTJA+iGl3x/EJ0REPsfWNYkAZcIUIC4BJ7NkoANAhQgNqCxirMEKED6OwvcxqWIjncw0Q1SgCSaMJ9PAnEnQAESd6R8IAkkjAAFSMLQ8sHxIkABQgESr7lk+jkUIKZRsSAJeIUABYhXPMF+kEB0AhQg0RmxhMsE/CJAAjEHboHiFiwXJiAFiAvQ2SQJxEaAAiQ2fqxNAk4SoABxkjbbskWAAoQREFsTJ5ZKFCCx0GNdEnCFAAWIK9jZKAnYIkABYgsbKzlJwI8CxOCLSAgjIE7OtvNtUYC4AJ1NkkBsBChAYuPH2iTgJAEKECdpsy1bBPwsQGwBi0MlZsFanZfi3xvGgSwfQQIkkCgCFCCJIsvnkkD8CVCAxJ8pnxhnAhQgcQZq4nEUIBQgJqYJi5CApwhQgHjKHewMCUQkQAHCCeJ5AhQgzruIAoQCxPlZxxZJIDYCFCCx8WNtEnCSAAWIk7TZli0CFCC2sMVUiQKEAiSmCcTKJOACAQoQF6CzSRKwSYACxCY4VnOOAAWIc6yNlihAKECcn3VskQRiI0ABEhs/1iYBJwlQgDhJm23ZIkABYgtbTJUoQChAYppArEwCLhCgAHEBOpskAZsEKEBsgmM15whQgDjHmhGQ8wSYhtf5SccWSSBGAhQgMQJkdRJwkAAFiIOw2ZQ9AhQg9rjFUosREEZAYpk/rEsCbhCgAHGDOtskAXsEKEDscWMtBwlQgDgI+3xTFCAUIM7POrZIArERoACJjR9rk4CTBChAnKTNtmwRoACxhS2mShQgFCAxTSBWJgEXCFCAuACdTZKATQIUIDbBeaHamTNn5MUXX5Tx48fL9u3bpXr16tKzZ0957LHHpECBAlG7uHLlShk4cKAsWLBAlU1LS5MRI0ZIo0aN8tRNVNmonRQRChAzlOJbhgKEAiS+M4pPI4HEE6AASTxjtkAC8SJAARIvki48p3fv3vLaa69Jjx49pGXLlvLDDz/I22+/Lfj6mDFjIvZow4YN0rx5cylXrpw88sgjquyoUaPk8OHDsnjxYqlXr15O/USVNYuMAsQsqfiVowChAInfbOKTSMAZAhQgznBmKyQQDwIUIPGg6MIzVqxYIU2aNFHi4eWXX87pQb9+/WT06NHy66+/SuPGjcP27Pbbb5dZs2bJmjVrVOQEhihKgwYNpH379vLRRx/l1E1UWbPYKEDMkopfOQoQCpD4zSY+iQScIUAB4gxntkIC8SBAARIPii4848knn5Tnn39eNm/eLLVr187pwZYtW6ROnTqC7z/77LMhe5aRkSHly5eXu+66SyZOnJirzH333SdTpkyRAwcOSPHixSVRZa0gowCxQitxZa2Kkv79++fpjNVnJG40UZ7MNLyuoWfDJGCXAAWIXXKsRwLOE6AAcZ55XFq84YYbVJRjz549eZ5XqVIladq0qYpwhLJFixapLVvYvvXwww/nKoKvYQsXylx55ZXq70SUtQKBAsQKrcSVjSYeQgmO4N5Ee0biem/xyRQgFoGxOAm4T4ACxH0fsAckYJYABYhZUh4rh+1VhQsXlqVLl+bpWbNmzeT06dOCbVqhbNq0aYJtVdOnT5eOHTvmKoKvde7cWaZOnSq33XabJKpsOJy7d+8W/Am0ZcuWyYMPPijt2rVTZ1ZoJDBgwAAF4d///rctGEb9sJXf2Zz3W93r2GorVKVQ/Q7Vp0jlwo096tjiNgo+iAS8ReCNxbtlT8YpqVyisPy5RRVvdY69IQESyEUARwC6deumEiG1atXKU3TynTt37pyneuShztStW1cQ6Veo3pkAACAASURBVFi4cGGeXiFikZ6eLhs3bgzZ40mTJkn37t1l9uzZ0rZt21xl5syZI4iuoAwmRqLKhkM5ePBgGTJkiIdIsyskQAIkQAIkQAIkQAKJIIBzy3369EnEo20/kwIkAjo/RUAOHTokEEZIEfzuu++qg/I08wSMtwxkZ56ZUZLsrDNDDXKzx43s7HMjO7KLjYC92vxZZ48bahm7W+bOnSvXXnut/QcloCYFSASofjoDAgxe3iuYgLkf10eSnX2cZGePHbnZ48afdfa5kR3ZxUbAXm3+rLPHzeufVwqQCH594oknZNiwYWGzYOH7zz33XMgnRMtsNXnyZJUFq0SJElGzYNkta3XK8kNuldj/ypMd2dknYK8m55w9bl7/pWx/VM7U5Lyzz5ns7LEjN3vcvP6zjgIkgl+RAQuZrsLdA4LQ1qWXXqoOo2/atElKly4tVar871AeDpjjDMjatWulWrVqqiXjHhBEV3D43LBElbUybfkht0Ird1myIzv7BOzV5Jyzx83rv5Ttj8qZmpx39jmTnT125GaPm9d/1lGARPErUuiOGzdO3YSODAK4CX3ChAnSq1cvGTt2rKq9detWdU8I7vfALemGrVu3Tlq0aKHuA+nbt6/6Mm5CR+QDN6HXr18/4WWtTFt+yK3QogCxT4vs4sGOn1f7FMmO7OwTsF+T884eO3Kzx40CxD43T9TMyspSB7PHjx8vO3fulKpVq0rPnj1l4MCBUrBgwYgCBN9cvny5PP744yoFGiwtLU2GDx+uIifBlqiyZkEiNS/EFsRVYCTHbH0/lyM7+94nO3vsyM0eN9QiO7KzT8B+Tc47e+zIzR43r/+sYwTEvl9ZkwRIgARIgARIgARIgARIwCIBChCLwFicBEiABEiABEiABEiABEjAPgEKEPvsWJMESIAESIAESIAESIAESMAiAQoQi8BYnARIgARIgARIgARIgARIwD4BChD77FiTBEiABEiABEiABEiABEjAIgEKEIvAWJwESIAESIAESIAESIAESMA+AQoQ++w8V/PMmTPy4osvqpTBuPCwevXqKmXwY489JgUKFIja35UrV6r0woEpg5GCuFGjRnnqWikbtWEPFHCK3Zw5c2Tq1KmydOlSWbFihbrEcsuWLVKrVi0PULDeBSe4nThxQt555x2ZPn26Smt98OBBxatDhw7yxBNPSJkyZax33AM1nGCHYeIzDHbr16+XI0eOSOXKleUPf/iDPP3009K4cWMPkLDeBafYBffsmmuuke+//17uueceeffdd6133AM1nGJ3//33y8SJE0OOGL+fjMt5PYDEVBec4mZ05sMPP5TRo0cLLkQ+e/as1KlTRx588EHp16+fqf56qZAT7Iz72MKNG9cm4PetbuYEO4PJ5MmT5eWXX1aXZ587d04uvPBCeeihh9Q6Mn/+/HFHRwESd6TuPbB3797y2muvqUsTW7ZsqS5NxMWI+PqYMWMidmzDhg3SvHlzKVeunLr5HYZLEw8fPqwuTaxXr15OfStl3aNhrWWn2OGX8gcffKAWfpmZmQIhp7MAcYIbGOHenNatW8sNN9wgqampSsBBaEOI4N+lSpWy5nAPlHaCHYbZpUsXKV26tDRo0EDKli0rO3bsUJepIrf+t99+K1deeaUHaFjrglPsAns1adIk+ctf/iLHjx/XWoA4xc4QIBAhwYuXW2+9VVJSUqw53eXSTnHDMAcMGCAvvfSS3H777fLHP/5R8uXLJ5s2bRIsRv/zn/+4TMJ6806ww+fyk08+ydM5iF28qOrYsaN6EaObOcEOTF544QX5v//7P/U7tlOnTkqATJs2Tb755hs1H//1r3/FHR0FSNyRuvNAvE1v0qSJEg9QsIbhbYnxFiXS2078oJs1a5asWbNGRU5g+OBi0dK+fXv56KOPcp5ppaw7NKy16iQ7XGZZoUIFKVKkiDz11FPy3HPPaStAnOK2f/9+2bVrV57LO9966y31RvDf//63PProo9ac7nJpp9iFG+aePXvU5xyfZQhincwNdngRc/HFF8vf/vY39Uta1wiIk+wMAYK3zsalvTrNs8C+Oslt5syZarGMqO+9996rK7KcfjvJLhSsZ599VkV7sZiG8NXJnGRXqVIlqVGjhnrhDMELQ+StWbNmgugSfgbG2yhA4k3Upec9+eST8vzzz8vmzZuldu3aOb3A23WEbvF9fBBDWUZGhpQvX17uuuuuPCHz++67T6ZMmSIHDhyQ4sWLi5WyLqGw3KxT7II7prsAcYubwfHYsWMq8gERgmiITuY2O/xiwda1Vq1ayZdffqkTOvWzzImfdYFQ+vTpI9g+iWgcXh7oKkCcZGcIkFOnTsnJkyelRIkSCdnG4cTkdZLb1VdfraJsiOzC8HOuZMmSTgwzIW04yS7UAC666CK1bRcvsQoXLpyQMSbqoU6yK1asmFx77bUCARxoiIhACIFfvI0CJN5EXXoeJgn2iuLNZrBB2TZt2lRFOELZokWL1JYtbN96+OGHcxXB1xACRBls1bBS1iUUlpt1il2yCRC3uBkc161bp95KDxo0SIYNG2bZ725WcIMdIkkQHvhFMnLkSPWGFX/jrb5O5jS7//73v2p76owZM+TGG29Ubwd1FSBOsjMECBbPWERjgYNoOs4k1a1bV6cpp7alOPH7FS/4sF0SW/1wVgufTyyesXUSL1ogvAsVKkR2Imq9Erg2CQVl4cKF6iULXiBgJ4hu5tS8Axf8bJs9e7baatW5c2e1BQs7XyCCXnnlFTUn420UIPEm6tLzsL0K6t54axLYDYTQEAaHig1lCE1iKwb2RyL0G2j4GiYjDk7fdtttKoxptqxLKCw36xS7ZBMgbnEzOHbv3l0dBP7ll1/U9kOdzA12RlgdnLAoxHbNoUOHmkpQ4SW2TrKDYMPLGZw7MvaP6yxAnGSHFwNZWVly+eWXq99NWAxiIYOo5c8//yw1a9b00rSK2BenuC1btky9LKxYsaL6nY0oOc65Ye7hhYGOwtcpdqEc2KtXL3n99ddlyZIlcsUVV2gz34yOOskOL6a6deumznwYVrRoUXnjjTfU1xNhFCCJoOrCM/FGCZEO/JAPNvwCTU9Pl40bN4bsGQ5XYjEH9du2bdtcZbDtACocZTAJrZR1AYOtJp1il2wCxC1u4IhfKvjlgrf3eEuom7nBbu7cuWpBiJ8D+BxfddVV6uAhfsnoZE6ywzzr27evrFq1Kuetvc4CxEl2oeYUovCIgmBrLxKk6GJOcUMGSiTbgH399dfypz/9KQcRfv++9957ai42bNhQF3Tqc+PE2iQYyO+//y5VqlSRqlWrqq2TOpqT7JAhEefbkHUS0RAIYIhezEOcE8SL53gbBUi8ibr0PKeUMiMguR0cCw/dz4A4NeeCP1Kffvqp+mHYrl07wb91PODqFjuDJX7ZoA/Yb65bOlmn2GHLWv369dU2j3/+858501BnAeIUu0i/BhERQQa2ROwpT9SvX6e4YQcD3tQjRTGSwATaV199pV4QvvrqqwnZDqM7u+D+I43xnXfeqbb84SoCHc2peYdIL1Kz4/wwuBmGbVhpaWmC7c6Yj9hGGU+jAIknTRef5dReQZ4Bye3kWHjoLkCcmnOBxBGRQ4pA/LDE29R4/0B06iPsBrvgsWFPL97w48CrTlEQp9ghgyDE2fz583OljMUv6ZtvvllF3pC2XKcU0E6xi/Q5QiYiHHTF4XRdzCluOMOJt/YQadimFmh4i48FKTInIq2sLuYUu2AeN910k9rVgYUzmOpoTrH77rvvVLpnJBy64447cqFClsm///3vCdnGRgGi46wM0Wf8QMJB3HBZsPB9/OAKZdEyW+FyGmTBQhYTK2V1QesUu2AeugsQp7nhhyS2b1xyySUyb948rRZ+wb53ml2oz6JxSHjv3r3qjIMu5hQ7iIzPPvssIhZc/IpfzrqYU+wi8cCdPocOHcrzht/LDJ3khvTY2CqJKFGgIVsdtsZgTz4uhtPFnGRnMIGQQxQJEaMvvvhCF1R5+ukUO2yx6tq1q7z//vty99135+rH8OHDVaIXIxFRPGFSgMSTpovPQoYOHF4Ldw8IDrfhBz/29eFCI2TaCHwrgAPmeFuAGzCNG2qNe0CgwrHVyDArZV1EYrppJ9kFdkp3AeIkt59++kmuu+46dSATQgRvnnU2p9ghugFDCu1Aw2f7sssuUyIOqbp1MqfYYc4FLwLB6ZZbbhHciI7zR40aNVK3BetiTrELN+/whhXp3nF+a+zYsbpgUxmwnPr9+vjjj6ttQ7hUDyIYhq0wSAaDxTTOcOHnoC7mJDuDifHWPtQbfV24oZ9OsUMiFyQrwrbmwLTsEMLYEogtWPv27VMvoeNpFCDxpOnys5BCd9y4ceomdKSew03ouPE48Ic9LpTBFoLgQ4CYYC1atFD3geDQJQw3oSPygYtpsBfaMCtlXUZiunmn2C1fvjwnmw4OBWMxjVtGcScD/iBdoE7mBLdt27apX/5I5YkoH9JTBhoOOF5//fU6YVN9dYIdXjy0adNG3YaOzzB+geDzi58L4IlFTocOHcguzM+6UGB0PgPi9LzDHnzMO2TBwhtUHKLGZWcQd/jc6mROfF7BA9EhLPpwRgYvFCE2kAIaW051TDnu1JwLnEt42YqXLIiE4N4enc2peYffA59//rl6uYJtkhAfRpbJZ555RgYPHhx3jBQgcUfq3gMxYfDmBJey4cZtZH9AqHbgwIE5B3XDCRD0GotjvH1BJg4YDh8h/IYPc7BZKeseEfMtO8UOmV8gEEMZ0lLCPzqZE9y+/fbbXNlggvngBybK6GZOsMNB6n/84x/y/fffq1/IyHCChR8+2ziYib3mOpoT7MJx0V2AOMEOCz+8WEH6UyykEXnH1iKkece9AhUqVNBu2jnBzYCCyBsyEiHigYQRiLLh5VQi7mJwwhFOsjPe5mPhjrtCdDen2GVmZqoEB8h8ha38OKOFbGuYc4na8kcBovvsZP9JgARIgARIgARIgARIQCMCFCAaOYtdJQESIAESIAESIAESIAHdCVCA6O5B9p8ESIAESIAESIAESIAENCJAAaKRs9hVEiABEiABEiABEiABEtCdAAWI7h5k/0mABEiABEiABEiABEhAIwIUIBo5i10lARIgARIgARIgARIgAd0JUIDo7kH2nwRIgARIgARIgARIgAQ0IkABopGz2FUSIAESIAESIAESIAES0J0ABYjuHmT/SYAESIAESIAESIAESEAjAhQgGjmLXSUBEiABEiABEiABEiAB3QlQgOjuQfafBEiABEiABEiABEiABDQiQAGikbPYVRIgARIgARIgARIgARLQnQAFiO4eZP9JgARIgARIgARIgARIQCMCFCAaOYtdJQESIAESIAESIAESIAHdCVCA6O5B9p8ESIAESIAESIAESIAENCJAAaKRs9hVEiABEiABEiABEiABEtCdAAWI7h5k/0mABEiABEiABEiABEhAIwIUIBo5i10lARIgARIgARIgARIgAd0JUIDo7kH2nwRIgARIgARIgARIgAQ0IkABopGz2FUSIAESIAESIAESIAES0J0ABYjuHmT/SYAESIAESIAESIAESEAjAhQgGjmLXSUBEiABEiABEiABEiAB3QlQgOjuQfafBEiABEiABEiABEiABDQiQAGikbPYVRIgARIgARIgARIgARLQnQAFiO4eZP9JgARIgARIgARIgARIQCMCFCAaOYtdJQESIAESIAESIAESIAHdCVCA6O5B9p8ESIAESIAESIAESIAENCJAAaKRs9hVEiABEiABEiABEiABEtCdAAWI7h5k/0mABEiABEiABEiABEhAIwIUIBo5i10lARIgARIgARIgARIgAd0JUIDo7kH2nwQ0IZAvX76Yenru3LmY6rOyngT++Mc/ynfffSf33XefvP3227kGMXjwYBkyZIjUrFlTtm7dqucAk7DX999/v0ycODHXyK655hr59ttvk3C05oZ08803y2effUYm5nCxlA8IUID4wMkcIgl4gQAFiBe8EHsfnF70Oy1AnB5f7B7x3hMoQPL6hALEe/OUPXKXAAWIu/zZOgn4hkBGRkbIsc6fP19uvPFG9b2xY8fKPffcE7JciRIlfMPKywN1eoFOAeLl2RC6b4YASUtLky+//FIVKlCggBQrVky/wcSpx7///rtkZWWppz388MPy3nvvid+jQnFCy8doSoACRFPHsdskkCwEsC3jT3/6kxrOhAkTBIsXmncJeEmAJIKS0+NLxBjcfqYhQLjAjizQyMftmcr23SRAAeImfbZNAiSg9oVTgOgzEZxeoEeKgCSCmtPjS8QY3H4mBUhkD5CP2zOU7XuBAAWIF7zAPpCAjwlEEyDBC8Jff/1V/v3vfyvhsmfPHmnYsKEsW7ZMEcQ2h3nz5qnDngsXLlQHk0+dOiUVKlSQK664Qh544AHBXuxwVqtWLdm2bZs888wzgnY//PBDGTNmjCxfvlwyMzOlfv360qNHD/nrX/+qtpSEss2bN8vIkSNVP/AsbLuoWLGiVKpUSbAlBe0bgsuoH7zI/uSTT2T06NGq3RMnTki9evXk3nvvlX79+kmhQoXC9h/jf+2112Tq1KmyZs0aOX78uKSmpkrr1q1Vn1u1ahWyLg53Y1wwHPbfsmWLvPjiizJ79mzZuXOnFC1aVD799NM8/Q5+WKiD4tGm9rFjx2T48OHy0UcfKV6lS5eWFi1ayIABAwRcYtmCtXfvXuWLWbNmCfwCPuXLl1dM/vCHP6itf8Z8CJyH4focPD74Z/r06TJnzhzF+/Dhw4KtghdddJF07NhR+vTpI2XKlAn5uOB5vW7dOnnhhRfkq6++kn379qk+tmvXTs3FatWqRcS4du1aNU+//vpr2bFjh5pzqNOgQQPp3Lmz3H333cqHwXbw4EEZNWqUfP7557Jx40Y5efKkVK5cWTF/9NFH5dJLL43mvpDfN7vADp53mzZtUgzAE77D57Zt27by9NNPS+3atUO2FfiZBau33npLxo8fr/xx5swZueSSS6Rnz57y4IMPSqhzaMF92L59u+rDF198oX6+gAfmCPpQrlw51QdweuWVV9Q2KvS5YMGC6jP27LPPmmJmlo8t+KxEApoQoADRxFHsJgkkKwErAgTCA2dEIAYMa9KkSY4A6d+/v7z00ksRUXXr1k3eeeedkIuRwMUMFkA4kxLKunbtqhYfwQbRgYUnFijhLLC/RpnARTYWPFiQh7KrrrpKLc5CnYfB4v2GG24QLGTD2cCBA0M+O3ARtmDBArnpppvkyJEjOY+BKEiEAIG4wdix+A22/Pnzq0XelClTbGXBWrFihRJMBw4cCMsD44JogFkVIBDCl112WcS5hvkEf0FABlugAMGC+ZZbbpFQ56SqVKkiixYtUpm+Qtlzzz2nRAoW2+Hsm2++UZwDDULnjjvuyBl/OP5/+ctfLP/oMbvADpx3P/74o5q/gfPOaLh48eJKEFx99dV5+hL4mcXcnzx5csj+gi9eKEAsBFpgH5YuXaoET6g5AzGGbGzgDOG6ePHiPO3gc4kyzZo1i8jMLB/L4FmBBDQiQAGikbPYVRJIRgJmBUipUqXk7NmzUrduXfnnP/+p3mBDiKxcuVLat2+v0GBRt3v3brn++uulTp06gsUb3ugjEjJp0iT1ZhRvh19++WXp27dv2MUM3raiziOPPKLenOJtMv7/+OOPy9y5c1W9mTNnqoW6YegbFkN4g3rhhReq9LDoI96aIhKBxREECt6ao26gGQIE9dEOnvvUU0+phSveaCMa8uabb6oqd911l3zwwQe56uPNPiI8q1atksKFC8ugQYOUUEPbWIhjgYrD/rD//Oc/AqEWbhFWtWpV9QwsbLFHHW+NlyxZovoEYfX888/LsGHDpEaNGqq9QEN0pkiRIqamKXi1bNlSfvrpJxVNeuyxx9T5H0QosLh/4okn5JdfflHRo127dllOw4toD6JgiCTgzTQY4406WOGtNeYdohfGQhILSyvjgx8RpcHbcQgRzDUIGsw/LPj/9a9/yW+//aYWoz///HMewWsIENSB2MKcGTp0qFx++eWqHxC4mAPgdPvtt6sIUbCNGDFCzUkY+vB///d/ApGKBTuYwecQ2/BXoABBf8AH0cErr7xSIEwRdcIhcURT8FxEEeF7LPwRibFiZhfYgYt/zH30B21fe+216nOKyAzGdOjQISlbtqysXr1aRSQCzRAgxmcHbSNSWL16dSVsMXYj/S0+F/h/uLmPZ4AB5jjmJuYKIir4LMNQH3wgMjCnOnTooMpDZPbu3VuOHj2qOGJORzKzfKwwZ1kS0I0ABYhuHmN/SSDJCJgVIBg2tlvhl7vdjFivv/669OrVSwkKLA6Dt2QYixm0hS1If//733PRxsIQ22sgCrp06aLeqBqGBSmiGzAsoK1sXzEECOpioY+FMRalgQbBBCECw6K5efPmOd9GZMjoKxauiNAEGhZ2WNQhuoEFE/pvbCdBucCFIBbs6H/wQs94XrzOSOBNNbYGwUIJQmw9wyIQfYFZuQcEC0Es7GFYfHbq1Mn0pyZe4zO2B2LxjGjDddddl6sPRjv4IsQjxELwNin4FL6FsMO2LGNMqAOhCoGKhToE94wZM8KKP5Qx3vxDkGNuQrhje9a0adNCbifs3r27Eu3YwgQRayWNttkFduC8K1mypBKceMEQaJjrmAcQiFjkY6tZoAV+ZhGtefXVV3N9H+OFSMRnCgwQKbzgggtyygT2AS8eEAWB2Ak0gwXqgwMiUhCKgYaXG3/+85/Vl7D96+KLLw4758zyMT1pWZAENCRAAaKh09hlEkgmAlYECM423HbbbbaHj0Ut3g7D8CYTZzpCLWaw3QVnBoJFAMoa27yw8MFZCcOweDK2XmCxiLftZi1QgCBSApETbDgrgYUTtukEL8SwSMTbYbzVhsgIZYH9w9YmnAkxLHARhjf3eLMfzuK1QEfUCmczsOBcv359SNZI4WqkaLYiQLDoNwQWojdY4Ju1eI0P7WGLEyIXod68BwoQRNUgEIMtcJsXPieISBmGyAeiBRAnmIeIXJkxnBNBW4g6IVqHyE0ow/cQ5YJh7kTbbhb4DLML7MB5h0gHIg+hDL5HJAdRUGyPCtxGZQgQCGtEnwJFmvEsfJYRYYIYATNE20LNfUQ7jLNQgf1AJAbRDli4c074fKJttIFLGCFawplZPmb8yTIkoCsBChBdPcd+k0CSEDArQPDmEW+2o0U/jLMb2BYBkYE6Rv79QGR4I4rzGoFmLGaw7QpvNEMZ3rBi8Y4FDwSNYfg3tg9h2wYWKziLEvw2N5zLDAGCQ8MQEuHMuMws8BwJDhKjXVio7VWBz8IiDNuP7rzzzlx75QMXgthWhUhTOIvHAh2LNLxlxn5/CDr0O5ThrTcWnWBrRYDgWRCRiHJhixHO8hjRqWgfGyvjw/YonFHBn//+978qSgH/B9utt96qIg2BZrSDLWsQlcFnE1A2UDCjDQgawxABw1YqnJuAkDNrTz75pFroQ1AY2/LC1cU2RozpjTfeUAe5zZrZBXbgvENkE9uXQhnOH+EMByxYDBmfWQhabBcLZxgvBB2iPnieYYF9QGQwlJBDRMP4TLz77rth7ypCoon09HR1zgrb2sKZWT5mebMcCehIgAJER6+xzySQRATMChBsDYK4iGTYm42FCt6ARzNsL8GB9EAzFjPYe49zJqEsOGtOYJnArVD4OiITyI6DN9fYJmMIheDnGgIEff/444/Ddh1v0rG4QWYlY4zIANa0aVNVBwtRLEjDGRZfEF44J4DzEaEWYVj0RrowzsoCPVw/AiMU48aNk4ceeihsn42Fo1UBgmgZFuwQOzAspuEHHGTGQePAbTiBjZsdH954Q2h+//330aaaijgYZ4eMwkY72A6IaEM4M7Y+Yd6BgWGI8IBjuMQC4Z6H8yTBYijaACBYEKEwa2YX2IGfJYhRiM1QhhcJEOcwiAfMY8OMz2wkIYuyODsFEYf5BBETau7jRUWo7HbY7mZk4QoXrcLzjL7Atzh3Fc7M8jHLm+VIQEcCFCA6eo19JoEkImBWgOCNNhYC4QzZjPCGH1s0cH4B++ex2MRh1JSUFLXFB4tRY5ET6tLD4DS8odqKJEBQHltusM0Db6cDDVtlsCDGFqfg8xWGAIEggjAKZzj4inSgeFt++vRpVQxbriByjH+HS7WL7+P5OCPSqFEjta8/1CLMWLCH64PZBXqkKYo3zfALLNIbZXwfqYt/+OEHyxEQ1MV2IwhJiAREKwzDXMAbc6ToDc5QZXZ8iAggMQAEAiJmWNhjSx+24RipknHe6P333w9547XZdgwBEjxf0QYWzBgfBLNZgxAOFkPR6hppqaOVM75vdoEd+FkKt/jHMyPNFzMvDfAMw1/4GbFhwwZLcz9QgITKKGY8zMzPD5Q1y8csb5YjAR0JUIDo6DX2mQSSiEC8BIhxCBRvMHHANtQhUIgU44BpogSI4RocQsbCGdtccEAY+9BheBOPqAUO3RrmVATE2MIVKQLihABxIgIS+BHBNjVEfOAP7Oc3xBeiCPCFIYZQx4wwQFYzRLOQhQ3ZupAxLJQZvEPdeG2mHTwznACxGwFBlA1RBIhzRAwTYWYX2F6LgISb+xQgiZglfKbfCVCA+H0GcPwk4DKBeAkQI0tU8BaLwOEFRgsSLUAC28XCBmdCcLkbDOdIAu9XiPUMCA68ow280f/b3/4W1qN424/UpMGpfKNFdQIfaHbhHGlaOXEGJFL7iFKBAaIiwVuYzIwP5z2MLEgQMOHOlxhnbhIhQHBeAgfskSIXh/XNGhIM4MxNtK1fZp8XqpwdAeKFMyAUILF4nXVJwBoBChBrvFiaBEggzgTiJUCw3QVpdhs3bqzu2ghlyB6Fm8JhTgoQoy84u4G97hBLSD1rWKxZsLClCofHsV0p3MHiwIxKkbJgWC6/7AAAB29JREFURYuA4G0/tvzEuoA1smBhkY7MX6EyjuFMi3HHi9UzINGmqXG2BCl6jXsiUMfM+JCGFalhYUjbGuriOaSPxT0wsEQIEJzJwI3duLMFWbDCnWkJ5hDIFFEhRMPibXYESKQsWMbzEp0FiwIk3jOBzyOB8AQoQDg7SIAEXCUQLwGCxRgWMdgbj0xSWNgGGrbfYKFvZMSKtwDBrd4QGEaa32CoyI6DlKd4646Lzf7xj3+EFCA42IwFsZV7QPBG20idi/s1kOUq0HBeBPdQ4CwEzsPg0HO4e0CiCRBklEL0BndW4CB2qOxNZiZUIu8B2b9/v9q6FO7QPzJVYdsVyiHtKtKvGmZmfEj3aiz4Qx04xkF+bHGCOEmUAMF9FpjjmM+IgmDOQIyEssB7QDD/cA8IBCuEK7ZhBc6F4PoQh8HpqqP5144AiXQPCM41YQx27wHBtjPwiXYPCAVINM/y+yQQPwIUIPFjySeRAAnYIBAvAYK7JJApBwss3KOBjFS4/wGXByLrDxb9WHQipSYs3gIE25iQiQcHzfHWHpEYLIAR8cCBdLSPswdYBGHbDjJkGWZEQHDQHgtLiBDjJnQIm1GjRuWkBQ53Ezq2BEF4YRGKVKu4jBDnXXAeBoeIjf3+0W5CjyZAAt/s40A8FoXGnScQTaEiGaGmRfBN6NgKBTFgnMuI5SZ0zCncH4L0t2CJLGHIooazG/ABbsM2IkXBmcPMjg8H/7GlD7zBF37HAXRsi4LvEHHCljcs4BMRAQHTwJvQEYVBljTjJnSIJIhu3Elh3ARv+AHCCNEyCDFEsnAvBg6nIzkCLq1E+mJwwOcG44HQtGJ2BAgOcEMoI8sbsoYhBTPO62BMODMEcY/Prpmb0LEN0bgJHRm8zN6ETgFixcssSwKxEaAAiY0fa5MACcRIIF4CBN0wskSF6hKiD8j+Yyz8EyFAQl1iFtgXiA+c/zBuTA4WINhmhLsEsLAMZVhczp49O9cBdqMchAtS8GLBG86w0MQCL/hWaytnQPBs9OPHH3/M00y4S9rC9QfiCuIL51KCDX3EVjHcNg/xZGULVuCcCtc2ng+hMHTo0DxFzIwPwg4iBIkNQvUd2c6wFRACIFECBO1C2GIMgVm+gvsTKnMTBBhEE5IlRDKIWBzit2J2BAi2tWH+4t6eYENUEWIk8CJGo4yReQoRRcx9pNoNZUgIgLM/wRE7M3Ofh9CteJ9lScAcAQoQc5xYigRIIEEE4ilA0EXc/4DzFcj1jzeaeBOKt+BYfGNxHy6rEOqaSaMZbsGCbTdI+/rVV1+pxfmuXbvUvSV4Q47IBhbaffr0ybnPIBCnEQExFtlYKI0ZM0YtYPGWGm/S7733XunXr19OitdQ7kBZnHFBfbwtRp/w5h9vu9F2uBS9ZhZhge3hjTTEHi5+w+LMuHzPqgDBM/F2Hdvn4DeIKOzzxyV7OLCPN+HBbAL7Ee7AON7iY7sZBCeiFEjjioU2ojN44w8ODz/8cM4ZjWCWZseHSx0hAOBzpH9GJAjnPuAn9DvSQtzMYXf0K9J8NfqNqA7EGuYfRB0W2bhQD1utIDJw4Wao7VmICCF7HO6GgaCC0EA5oy6iIl26dIm4RSvUPLQjQPBZRXpcRKfgN3x2wBOiBEIR2eNCWeBnFpEonAPDljrcHYIoCl44QPAjVXKw8MbzzMx9CpAE/fDnY31NgALE1+7n4EmABLxAINIi2wv9Yx9IwAoBuwLEShtGWTMvDew8N5F1zPJJZB/4bBJwmwAFiNseYPskQAK+J0AB4vspkFQAzC6wzUQfooGhAIlGiN8nAW8SoADxpl/YKxIgAR8RoADxkbN9MFRDgAQONdQ5GD8JEONSymhMfDA9OEQSUAQoQDgRSIAESMBlAhQgLjuAzceVAAVIXpwUIHGdYnxYEhCgAEkCJ3IIJEACehOgANHbf+x9bgKZmZkqpW6gFShQQIoVK5bra36KgCBRg3EHkQEhFBPOJRLwCwEKEL94muMkARLwLAEKEM+6hh1LIAE/CZAEYuSjSUBLAhQgWrqNnSYBEiABEiABEiABEiABPQlQgOjpN/aaBEiABEiABEiABEiABLQkQAGipdvYaRIgARIgARIgARIgARLQkwAFiJ5+Y69JgARIgARIgARIgARIQEsCFCBauo2dJgESIAESIAESIAESIAE9CVCA6Ok39poESIAESIAESIAESIAEtCRAAaKl29hpEiABEiABEiABEiABEtCTAAWInn5jr0mABEiABEiABEiABEhASwIUIFq6jZ0mARIgARIgARIgARIgAT0JUIDo6Tf2mgRIgARIgARIgARIgAS0JEABoqXb2GkSIAESIAESIAESIAES0JMABYiefmOvSYAESIAESIAESIAESEBLAhQgWrqNnSYBEiABEiABEiABEiABPQlQgOjpN/aaBEiABEiABEiABEiABLQkQAGipdvYaRIgARIgARIgARIgARLQkwAFiJ5+Y69JgARIgARIgARIgARIQEsCFCBauo2dJgESIAESIAESIAESIAE9Cfw/EKYOefHiglsAAAAASUVORK5CYII=\" width=\"640\">"
      ],
      "text/plain": [
       "<IPython.core.display.HTML object>"
      ]
     },
     "metadata": {},
     "output_type": "display_data"
    }
   ],
   "source": [
    "H, bins = distances_signals['Signals'], distances_signals.index\n",
    "\n",
    "text_position = [0.0025, 0.002, 0.005, 0.005, 0.005, 0.005, 0.005, 0.005, 0.005]\n",
    "text_position_th = [0.005, -0.005, 0.002, 0.005, 0.005, 0.005, 0.005, 0.005, 0.005]\n",
    "xlims = [0.12, 0.07, 0.45, 0.14, 0.12, 0.25, 0.3, 0.35, 0.08]\n",
    "ylims = [0.05, 0.08, 0.045, 0.032, 0.03, 0.05, 0.275, 0.08, 0.04]\n",
    "\n",
    "fig, ax = plt.subplots()\n",
    "#ax.set_yscale(\"log\")\n",
    "ax.set_xlim(-0.0001, xlims[nr_of_experiment-1])\n",
    "ax.set_ylim(0, ylims[nr_of_experiment-1])\n",
    "\n",
    "histogram = ax.bar(bins[:-2], H.iloc[:-2], width = 0.008*xlims[nr_of_experiment-1], color='#707070')\n",
    "histogram = ax.bar(bins[-2], H.iloc[-2], width = 0.008*xlims[nr_of_experiment-1], color='#64add9')\n",
    "histogram = ax.bar(bins[-1], H.iloc[-1], width = 0.008*xlims[nr_of_experiment-1], color='#ff8bd5')\n",
    "\n",
    "plt.xlabel('Transport distance [ppm]', fontsize=15, labelpad=15)\n",
    "plt.ylabel('Amount of signal transported', fontsize=15, labelpad=15)\n",
    "\n",
    "plt.axvline(x=MTD, color='#64add9')\n",
    "plt.text(MTD + text_position[nr_of_experiment-1], 0.01,'Kappa mixture',rotation=90, color='#64add9')\n",
    "\n",
    "plt.axvline(x=MTD_th, color='#ff8bd5', linestyle='--')\n",
    "#plt.text(MTD_th+ text_position_th[nr_of_experiment-1], 0.01,'Kappa components',rotation=90, color='#A35FC1')\n",
    "plt.text(MTD_th+ text_position_th[nr_of_experiment-1], 0.01,'Kappa components',rotation=90, color='#ff8bd5')\n",
    "\n",
    "plt.tight_layout()\n",
    "plt.show()\n",
    "plt.savefig('distances_histogram_exp_'+str(nr_of_experiment)+'.png', dpi=300)"
   ]
  },
  {
   "cell_type": "code",
   "execution_count": 44,
   "id": "94aef01a",
   "metadata": {},
   "outputs": [
    {
     "name": "stdout",
     "output_type": "stream",
     "text": [
      "99.0% of signal is transported on distance smaller than 0.013035921578310973.\n"
     ]
    }
   ],
   "source": [
    "percent = 0.99\n",
    "q = H.quantile(q=percent)\n",
    "print(str(percent*100)+'% of signal is transported on distance smaller than '+str(q)+'.' )"
   ]
  },
  {
   "cell_type": "code",
   "execution_count": 45,
   "id": "07b66ece",
   "metadata": {},
   "outputs": [
    {
     "data": {
      "text/plain": [
       "Signals    1.0\n",
       "dtype: float64"
      ]
     },
     "execution_count": 45,
     "metadata": {},
     "output_type": "execute_result"
    }
   ],
   "source": [
    "(distances_signals.iloc[:-2,:]).sum()"
   ]
  },
  {
   "cell_type": "code",
   "execution_count": 46,
   "id": "de64f782",
   "metadata": {},
   "outputs": [],
   "source": [
    "#len(list(mix_without_noise.WSDistanceMoves(components_without_noise)))"
   ]
  },
  {
   "cell_type": "code",
   "execution_count": 47,
   "id": "521f2dea",
   "metadata": {},
   "outputs": [],
   "source": [
    "#list(mix_without_noise.WSDistanceMoves(components_without_noise))"
   ]
  },
  {
   "cell_type": "code",
   "execution_count": 48,
   "id": "6c113e55",
   "metadata": {},
   "outputs": [],
   "source": [
    "#len(mix_without_noise.confs)*2"
   ]
  },
  {
   "cell_type": "code",
   "execution_count": null,
   "id": "eedeec2c",
   "metadata": {},
   "outputs": [],
   "source": []
  }
 ],
 "metadata": {
  "kernelspec": {
   "display_name": "Python 3 (ipykernel)",
   "language": "python",
   "name": "python3"
  },
  "language_info": {
   "codemirror_mode": {
    "name": "ipython",
    "version": 3
   },
   "file_extension": ".py",
   "mimetype": "text/x-python",
   "name": "python",
   "nbconvert_exporter": "python",
   "pygments_lexer": "ipython3",
   "version": "3.10.6"
  }
 },
 "nbformat": 4,
 "nbformat_minor": 5
}
