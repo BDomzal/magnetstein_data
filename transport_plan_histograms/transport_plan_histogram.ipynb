{
 "cells": [
  {
   "cell_type": "markdown",
   "id": "2278c778",
   "metadata": {},
   "source": [
    "### Settings & imports"
   ]
  },
  {
   "cell_type": "code",
   "execution_count": 1,
   "id": "52249722",
   "metadata": {},
   "outputs": [],
   "source": [
    "%matplotlib notebook"
   ]
  },
  {
   "cell_type": "code",
   "execution_count": 2,
   "id": "6af4ae0a",
   "metadata": {},
   "outputs": [],
   "source": [
    "import sys\n",
    "mypath = \"/home/basia/Documents/spectroscopy/wassersteinms\"\n",
    "sys.path.insert(0, mypath)\n",
    "import masserstein "
   ]
  },
  {
   "cell_type": "code",
   "execution_count": 3,
   "id": "55f0baff",
   "metadata": {},
   "outputs": [],
   "source": [
    "import os\n",
    "\n",
    "from masserstein import Spectrum, NMRSpectrum\n",
    "from masserstein import estimate_proportions\n",
    "\n",
    "from matplotlib import pyplot as plt\n",
    "\n",
    "import numpy as np\n",
    "\n",
    "import pulp\n",
    "\n",
    "import pickle\n",
    "\n",
    "import seaborn as sns\n",
    "from textwrap import wrap\n",
    "\n",
    "from pathlib import Path\n",
    "\n",
    "import pandas as pd"
   ]
  },
  {
   "cell_type": "code",
   "execution_count": 4,
   "id": "87bb9eea",
   "metadata": {},
   "outputs": [],
   "source": [
    "nr_of_experiment = 9"
   ]
  },
  {
   "cell_type": "markdown",
   "id": "e7c66ece",
   "metadata": {},
   "source": [
    "### Experiments data"
   ]
  },
  {
   "cell_type": "code",
   "execution_count": 5,
   "id": "56c33c25",
   "metadata": {},
   "outputs": [],
   "source": [
    "components_dictionary = {'experiment_2': ['Pinene', 'Benzyl benzoate'],\n",
    "                        'experiment_3': ['Pinene', 'Limonene'],\n",
    "                        'experiment_4': ['Benzyl benzoate', 'm Anisaldehyde'],\n",
    "                        'experiment_5': ['Isopropyl myristate', 'Benzyl benzoate', 'Alpha pinene', 'Limonene'],\n",
    "                        'experiment_1': ['Pinene', 'Benzyl benzoate'],\n",
    "                        'experiment_8': ['Lactate', 'Alanine', 'Creatine', 'Creatinine', 'Choline chloride'],\n",
    "                        'experiment_6': ['Lactate', 'Alanine', 'Creatine', 'Creatinine', 'Choline chloride'],\n",
    "                        'experiment_7': ['Lactate', 'Alanine', 'Creatine', 'Creatinine', 'Choline chloride'],\n",
    "                        'experiment_9': ['Benzyl benzoate', 'm Anisaldehyde']}"
   ]
  },
  {
   "cell_type": "code",
   "execution_count": 6,
   "id": "6a227a33",
   "metadata": {},
   "outputs": [],
   "source": [
    "protons_dictionary = {'experiment_2': [16, 12],\n",
    "                        'experiment_3': [16, 16],\n",
    "                        'experiment_4': [12, 8],\n",
    "                        'experiment_5': [34, 12, 16, 16],\n",
    "                        'experiment_1': [16, 12],\n",
    "                        'experiment_8': [4, 4, 5, 5, 13],\n",
    "                        'experiment_6': [4, 4, 5, 5, 13],\n",
    "                        'experiment_7': [4, 4, 5, 5, 13],\n",
    "                        'experiment_9': [12, 8]}"
   ]
  },
  {
   "cell_type": "code",
   "execution_count": 7,
   "id": "418d054f",
   "metadata": {},
   "outputs": [],
   "source": [
    "ground_truth_molar_proportions = {'experiment_2': [0.09088457406472417, 0.9091154259352758],\n",
    "                                    'experiment_3': [0.505, 0.495],\n",
    "                                    'experiment_4': [0.8403875207510383, 0.1596124792489616],\n",
    "                                    'experiment_5': [0.7264578344443725, 0.10578603326645526, 0.081968804608116, 0.08578732768105625],\n",
    "                                    'experiment_1': [0.3865, 0.6135],\n",
    "                                    'experiment_8': [0.3022, 0.2240, 0.1253, 0.2028, 0.1457],\n",
    "                                    'experiment_6': [0.3022, 0.2240, 0.1253, 0.2028, 0.1457],\n",
    "                                    'experiment_7': [0.3022, 0.2240, 0.1253, 0.2028, 0.1457],\n",
    "                                    'experiment_9': [0.3702, 0.6298]}"
   ]
  },
  {
   "cell_type": "code",
   "execution_count": 8,
   "id": "4c99c013",
   "metadata": {},
   "outputs": [],
   "source": [
    "experiments_folders = {'experiment_2': 'experiment_2_intensity_difference',\n",
    "                        'experiment_1': 'experiment_1_miniperfumes',\n",
    "                        'experiment_8': 'experiment_8_metabolites',\n",
    "                         'experiment_4': 'experiment_4_overlapping_and_intensity_difference',\n",
    "                         'experiment_6': 'experiment_6_and_7_shim',\n",
    "                       'experiment_7': 'experiment_6_and_7_shim',\n",
    "                        'experiment_9': 'experiment_9_different_solvents',\n",
    "                        'experiment_5': 'experiment_5_perfumes_and_absent_components',\n",
    "                         'experiment_3': 'experiment_3_overlapping'}"
   ]
  },
  {
   "cell_type": "code",
   "execution_count": 9,
   "id": "5c15336b",
   "metadata": {},
   "outputs": [],
   "source": [
    "best_kappa_mix = [0.06, 0.09, 0.05, 0.23, 0.37, 0.05, 0.11, 0.03, 0.2]"
   ]
  },
  {
   "cell_type": "code",
   "execution_count": 10,
   "id": "53eb8b54",
   "metadata": {},
   "outputs": [],
   "source": [
    "best_kappa_model = [0.2, 0.08, 0.01, 0.02, 0.24, 0.02, 0.02, 0.09, 0.29]"
   ]
  },
  {
   "cell_type": "markdown",
   "id": "e84eddc3",
   "metadata": {},
   "source": [
    "### Loading the data"
   ]
  },
  {
   "cell_type": "code",
   "execution_count": 11,
   "id": "0915a07b",
   "metadata": {},
   "outputs": [],
   "source": [
    "cwd = Path(os.getcwd())\n",
    "path = cwd.parent.absolute()"
   ]
  },
  {
   "cell_type": "code",
   "execution_count": 12,
   "id": "a16bd1b8",
   "metadata": {},
   "outputs": [],
   "source": [
    "if (nr_of_experiment != 6 and nr_of_experiment != 7):\n",
    "    filename = str(path)+'/' + experiments_folders['experiment_' + str(nr_of_experiment)] + '/preprocessed_mix.csv'\n",
    "    mix = np.loadtxt(filename, delimiter=',')\n",
    "else:\n",
    "    filename = str(path) + '/' + experiments_folders['experiment_' + str(nr_of_experiment)] + '/preprocessed_exp'+str(nr_of_experiment)+'_mix.csv'\n",
    "    mix = np.loadtxt(filename, delimiter=',')"
   ]
  },
  {
   "cell_type": "code",
   "execution_count": 13,
   "id": "67c8aeb3",
   "metadata": {},
   "outputs": [],
   "source": [
    "how_many_components = len(components_dictionary['experiment_'+str(nr_of_experiment)])\n",
    "names = ['comp' + str(i) for i in range(how_many_components)]"
   ]
  },
  {
   "cell_type": "code",
   "execution_count": 14,
   "id": "4d402de1",
   "metadata": {},
   "outputs": [],
   "source": [
    "spectra = []\n",
    "for i in range(how_many_components):\n",
    "    if (nr_of_experiment != 6 and nr_of_experiment != 7):\n",
    "        filename = str(path) + '/' + experiments_folders['experiment_' + str(nr_of_experiment)] + \\\n",
    "                    '/preprocessed_comp' + str(i) + '.csv'\n",
    "        spectra.append(np.loadtxt(filename, delimiter=','))\n",
    "    else:\n",
    "        filename = str(path) + '/' + experiments_folders['experiment_' + str(nr_of_experiment)] + \\\n",
    "                    '/preprocessed_exp'+str(nr_of_experiment)+ '_comp'+ str(i) + '.csv'\n",
    "        spectra.append(np.loadtxt(filename, delimiter=','))"
   ]
  },
  {
   "cell_type": "code",
   "execution_count": 15,
   "id": "f68d15b6",
   "metadata": {},
   "outputs": [],
   "source": [
    "spectra2 = []\n",
    "names = []\n",
    "for i in range(len(spectra)):\n",
    "    spectra2.append(NMRSpectrum(confs=list(zip(spectra[i][:,0], spectra[i][:,1])), \n",
    "                                protons=protons_dictionary['experiment_'+str(nr_of_experiment)][i]))\n",
    "    names.append('comp'+str(i))\n",
    "\n",
    "spectra = spectra2\n",
    "del(spectra2)\n",
    "mix = NMRSpectrum(confs=list(zip(mix[:,0], mix[:,1])))"
   ]
  },
  {
   "cell_type": "code",
   "execution_count": 16,
   "id": "066513a3",
   "metadata": {},
   "outputs": [],
   "source": [
    "for i, name in enumerate(names):\n",
    "    globals()[name] = spectra[i]"
   ]
  },
  {
   "cell_type": "code",
   "execution_count": 17,
   "id": "56905c27",
   "metadata": {},
   "outputs": [],
   "source": [
    "# mix.plot(profile=True)\n",
    "# comp0.plot(profile=True)\n",
    "# comp1.plot(profile=True)"
   ]
  },
  {
   "cell_type": "markdown",
   "id": "31df385c",
   "metadata": {},
   "source": [
    "### Estimation"
   ]
  },
  {
   "cell_type": "code",
   "execution_count": 18,
   "id": "d44ebf2f",
   "metadata": {},
   "outputs": [
    {
     "name": "stdout",
     "output_type": "stream",
     "text": [
      "Set parameter Username\n",
      "Academic license - for non-commercial use only - expires 2023-11-10\n"
     ]
    },
    {
     "name": "stderr",
     "output_type": "stream",
     "text": [
      "Initial filtering of formulas: 100%|██████████████| 2/2 [00:00<00:00, 55.58it/s]\n"
     ]
    },
    {
     "name": "stdout",
     "output_type": "stream",
     "text": [
      "Removed theoretical spectra due to no matching experimental peaks: []\n",
      "Envelope bounds: [(3.5000299999999998, 11.99995, 0), (3.5000299999999998, 11.99995, 1)]\n"
     ]
    },
    {
     "name": "stderr",
     "output_type": "stream",
     "text": [
      "Computing chunks: 100%|████████████████████████| 2/2 [00:00<00:00, 67650.06it/s]\n"
     ]
    },
    {
     "name": "stdout",
     "output_type": "stream",
     "text": [
      "Number of chunks: 1\n",
      "ChunkIDs: [0, 0]\n",
      "Chunk bounds: [(3.2100299999999997, 12.28995)]\n"
     ]
    },
    {
     "name": "stderr",
     "output_type": "stream",
     "text": [
      "Splitting the experimental spectrum into chunks: 139577it [00:00, 3198013.60it/s]\n"
     ]
    },
    {
     "name": "stdout",
     "output_type": "stream",
     "text": [
      "Ion currents in chunks: [0.9999999999999973]\n"
     ]
    },
    {
     "name": "stderr",
     "output_type": "stream",
     "text": [
      "\r",
      "Deconvolving chunks:   0%|                                | 0/1 [00:00<?, ?it/s]"
     ]
    },
    {
     "name": "stdout",
     "output_type": "stream",
     "text": [
      "Deconvolving chunk 0\n"
     ]
    },
    {
     "name": "stderr",
     "output_type": "stream",
     "text": [
      "/home/basia/.local/lib/python3.10/site-packages/pulp/pulp.py:1352: UserWarning: Spaces are not permitted in the name. Converted to '_'\n",
      "  warnings.warn(\"Spaces are not permitted in the name. Converted to '_'\")\n",
      "Deconvolving chunks: 100%|███████████████████████| 1/1 [03:16<00:00, 196.28s/it]"
     ]
    },
    {
     "name": "stdout",
     "output_type": "stream",
     "text": [
      "Chunk %i deconvolution status: Optimal\n",
      "Signal proportion in experimental spectrum: 0.9298597180920001\n",
      "Noise proportion in experimental spectrum: 0.07014029297699982\n",
      "Total explanation: 1.000000011069\n",
      "Noise proportion in combination of theoretical spectra: 0.008558474193\n"
     ]
    },
    {
     "name": "stderr",
     "output_type": "stream",
     "text": [
      "\n"
     ]
    }
   ],
   "source": [
    "estimation_vis = estimate_proportions(mix, spectra,\n",
    "                                        MTD=best_kappa_mix[nr_of_experiment-1], \n",
    "                                        MTD_th=best_kappa_model[nr_of_experiment-1],\n",
    "                                        verbose=True, solver=pulp.GUROBI(msg=False), \n",
    "                                        what_to_compare='area')"
   ]
  },
  {
   "cell_type": "code",
   "execution_count": 19,
   "id": "c58f7242",
   "metadata": {},
   "outputs": [
    {
     "data": {
      "text/plain": [
       "[0.43970247519399885, 0.49015724289799867]"
      ]
     },
     "execution_count": 19,
     "metadata": {},
     "output_type": "execute_result"
    }
   ],
   "source": [
    "estimation_vis['proportions']"
   ]
  },
  {
   "cell_type": "code",
   "execution_count": 20,
   "id": "f463c3dd",
   "metadata": {},
   "outputs": [
    {
     "data": {
      "text/plain": [
       "0.008558474192999977"
      ]
     },
     "execution_count": 20,
     "metadata": {},
     "output_type": "execute_result"
    }
   ],
   "source": [
    "estimation_vis['proportion_of_noise_in_theoretical']"
   ]
  },
  {
   "cell_type": "code",
   "execution_count": 21,
   "id": "ca73a54f",
   "metadata": {},
   "outputs": [
    {
     "name": "stderr",
     "output_type": "stream",
     "text": [
      "Initial filtering of formulas: 100%|██████████████| 2/2 [00:00<00:00, 58.66it/s]\n"
     ]
    },
    {
     "name": "stdout",
     "output_type": "stream",
     "text": [
      "Removed theoretical spectra due to no matching experimental peaks: []\n",
      "Envelope bounds: [(3.5000299999999998, 11.99995, 0), (3.5000299999999998, 11.99995, 1)]\n"
     ]
    },
    {
     "name": "stderr",
     "output_type": "stream",
     "text": [
      "Computing chunks: 100%|████████████████████████| 2/2 [00:00<00:00, 55553.70it/s]\n"
     ]
    },
    {
     "name": "stdout",
     "output_type": "stream",
     "text": [
      "Number of chunks: 1\n",
      "ChunkIDs: [0, 0]\n",
      "Chunk bounds: [(3.2100299999999997, 12.28995)]\n"
     ]
    },
    {
     "name": "stderr",
     "output_type": "stream",
     "text": [
      "Splitting the experimental spectrum into chunks: 139577it [00:00, 3425220.25it/s]\n"
     ]
    },
    {
     "name": "stdout",
     "output_type": "stream",
     "text": [
      "Ion currents in chunks: [0.9999999999999973]\n"
     ]
    },
    {
     "name": "stderr",
     "output_type": "stream",
     "text": [
      "\r",
      "Deconvolving chunks:   0%|                                | 0/1 [00:00<?, ?it/s]"
     ]
    },
    {
     "name": "stdout",
     "output_type": "stream",
     "text": [
      "Deconvolving chunk 0\n"
     ]
    },
    {
     "name": "stderr",
     "output_type": "stream",
     "text": [
      "Deconvolving chunks: 100%|███████████████████████| 1/1 [03:14<00:00, 194.71s/it]"
     ]
    },
    {
     "name": "stdout",
     "output_type": "stream",
     "text": [
      "Chunk %i deconvolution status: Optimal\n",
      "Signal proportion in experimental spectrum: 0.9298597180920001\n",
      "Noise proportion in experimental spectrum: 0.07014029297699982\n",
      "Total explanation: 1.000000011069\n",
      "Noise proportion in combination of theoretical spectra: 0.008558474193\n"
     ]
    },
    {
     "name": "stderr",
     "output_type": "stream",
     "text": [
      "\n"
     ]
    }
   ],
   "source": [
    "estimation_molar = estimate_proportions(mix, spectra,\n",
    "                                        MTD=best_kappa_mix[nr_of_experiment-1], \n",
    "                                        MTD_th=best_kappa_model[nr_of_experiment-1],\n",
    "                                        verbose=True, solver=pulp.GUROBI(msg=False), \n",
    "                                        what_to_compare='concentration')"
   ]
  },
  {
   "cell_type": "code",
   "execution_count": 22,
   "id": "354693e3",
   "metadata": {},
   "outputs": [
    {
     "data": {
      "text/plain": [
       "[0.37423451120488055, 0.6257654887951195]"
      ]
     },
     "execution_count": 22,
     "metadata": {},
     "output_type": "execute_result"
    }
   ],
   "source": [
    "estimation_molar['proportions']"
   ]
  },
  {
   "cell_type": "markdown",
   "id": "536cc3bc",
   "metadata": {},
   "source": [
    "### Transport plan histograms"
   ]
  },
  {
   "cell_type": "code",
   "execution_count": 23,
   "id": "6d4e9f69",
   "metadata": {},
   "outputs": [],
   "source": [
    "components_ints = [np.array(sp.confs)[:,1] for sp in spectra]\n",
    "components_ppm = np.array(spectra[0].confs)[:,0]"
   ]
  },
  {
   "cell_type": "code",
   "execution_count": 24,
   "id": "95e79457",
   "metadata": {},
   "outputs": [],
   "source": [
    "ppm = np.array(mix.confs)[:,0]\n",
    "mix_ints = np.array(mix.confs)[:,1]"
   ]
  },
  {
   "cell_type": "code",
   "execution_count": 25,
   "id": "2295473c",
   "metadata": {},
   "outputs": [],
   "source": [
    "assert np.all(ppm == components_ppm)\n",
    "assert np.all(ppm == estimation_vis['global_mass_axis'])"
   ]
  },
  {
   "cell_type": "markdown",
   "id": "62eb7167",
   "metadata": {},
   "source": [
    "#### Removing signal that went to vortex"
   ]
  },
  {
   "cell_type": "markdown",
   "id": "b68f9e7f",
   "metadata": {},
   "source": [
    "##### Mixture"
   ]
  },
  {
   "cell_type": "code",
   "execution_count": 26,
   "id": "4b9d8c23",
   "metadata": {},
   "outputs": [],
   "source": [
    "mix_without_noise = NMRSpectrum(confs = list(zip(ppm, mix_ints - np.array(estimation_vis['noise']))))"
   ]
  },
  {
   "cell_type": "markdown",
   "id": "bb072b96",
   "metadata": {},
   "source": [
    "##### Components"
   ]
  },
  {
   "cell_type": "code",
   "execution_count": 27,
   "id": "96cc519e",
   "metadata": {},
   "outputs": [],
   "source": [
    "p = np.array(estimation_vis['proportions']).reshape(len(estimation_vis['proportions']),1)"
   ]
  },
  {
   "cell_type": "code",
   "execution_count": 28,
   "id": "63eecd04",
   "metadata": {},
   "outputs": [],
   "source": [
    "names_matmul = ['sum_up_to_'+str(i+1) for i in range(len(spectra))]"
   ]
  },
  {
   "cell_type": "code",
   "execution_count": 29,
   "id": "a1a98331",
   "metadata": {},
   "outputs": [],
   "source": [
    "components_ints = [comp_int.reshape(-1, 1) for comp_int in components_ints]"
   ]
  },
  {
   "cell_type": "code",
   "execution_count": 30,
   "id": "b419d507",
   "metadata": {},
   "outputs": [],
   "source": [
    "X = np.concatenate(components_ints, axis=1)"
   ]
  },
  {
   "cell_type": "code",
   "execution_count": 31,
   "id": "88184931",
   "metadata": {},
   "outputs": [],
   "source": [
    "for i, name in enumerate(names_matmul):\n",
    "    globals()[name] = np.dot(X[:,:(i+1)],p[:(i+1),:])[:,0]"
   ]
  },
  {
   "cell_type": "code",
   "execution_count": 32,
   "id": "2fa3a280",
   "metadata": {},
   "outputs": [],
   "source": [
    "mix_estimation = np.concatenate([ppm.reshape(-1,1), globals()[names_matmul[-1]].reshape(-1,1)], axis=1)"
   ]
  },
  {
   "cell_type": "code",
   "execution_count": 33,
   "id": "9d3f00bc",
   "metadata": {},
   "outputs": [],
   "source": [
    "components_without_noise = NMRSpectrum(confs = list(zip(mix_estimation[:,0], mix_estimation[:,1] - np.array(estimation_vis['noise_in_theoretical']))))"
   ]
  },
  {
   "cell_type": "code",
   "execution_count": 34,
   "id": "7079c712",
   "metadata": {},
   "outputs": [],
   "source": [
    "components_without_noise.trim_negative_intensities()\n",
    "mix_without_noise.trim_negative_intensities()"
   ]
  },
  {
   "cell_type": "code",
   "execution_count": 35,
   "id": "0a830394",
   "metadata": {},
   "outputs": [],
   "source": [
    "components_without_noise.normalize()\n",
    "mix_without_noise.normalize()"
   ]
  },
  {
   "cell_type": "code",
   "execution_count": 36,
   "id": "5e5efb16",
   "metadata": {},
   "outputs": [],
   "source": [
    "# components_without_noise.plot(profile=True)\n",
    "# mix_without_noise.plot(profile=True)"
   ]
  },
  {
   "cell_type": "markdown",
   "id": "a151414b",
   "metadata": {},
   "source": [
    "#### Histograms"
   ]
  },
  {
   "cell_type": "code",
   "execution_count": 37,
   "id": "a22fee02",
   "metadata": {},
   "outputs": [
    {
     "data": {
      "text/plain": [
       "0.2703154449229968"
      ]
     },
     "execution_count": 37,
     "metadata": {},
     "output_type": "execute_result"
    }
   ],
   "source": [
    "mix_without_noise.WSDistance(components_without_noise)"
   ]
  },
  {
   "cell_type": "code",
   "execution_count": 38,
   "id": "dfdace57",
   "metadata": {},
   "outputs": [],
   "source": [
    "#mix_without_noise = mix_without_noise.__mul__(1-sum(estimation_vis['proportions']))"
   ]
  },
  {
   "cell_type": "code",
   "execution_count": 39,
   "id": "93871133",
   "metadata": {},
   "outputs": [],
   "source": [
    "distances = [abs(x[0]-x[1]) for x in list(mix_without_noise.WSDistanceMoves(components_without_noise))]\n",
    "signals = [x[2] for x in list(mix_without_noise.WSDistanceMoves(components_without_noise))]"
   ]
  },
  {
   "cell_type": "code",
   "execution_count": 40,
   "id": "c6207999",
   "metadata": {},
   "outputs": [],
   "source": [
    "distances_signals = list(zip(distances, signals))\n",
    "distances_signals = pd.DataFrame(distances_signals, columns = ['Distances', 'Signals'])\n",
    "distances_signals = distances_signals.groupby('Distances').agg('sum')\n",
    "distances_signals.sort_index(inplace=True)"
   ]
  },
  {
   "cell_type": "code",
   "execution_count": 41,
   "id": "775d107a",
   "metadata": {},
   "outputs": [],
   "source": [
    "MTD=best_kappa_mix[nr_of_experiment-1]\n",
    "MTD_th=best_kappa_model[nr_of_experiment-1]"
   ]
  },
  {
   "cell_type": "code",
   "execution_count": 42,
   "id": "e605abb6",
   "metadata": {},
   "outputs": [],
   "source": [
    "distances_signals.loc[MTD] = (1-sum(estimation_vis['proportions']))\n",
    "distances_signals.loc[MTD_th] = estimation_vis['proportion_of_noise_in_theoretical']\n",
    "#distances_signals.sort_index(inplace=True)"
   ]
  },
  {
   "cell_type": "code",
   "execution_count": 43,
   "id": "7c339885",
   "metadata": {
    "scrolled": false
   },
   "outputs": [
    {
     "data": {
      "application/javascript": [
       "/* Put everything inside the global mpl namespace */\n",
       "/* global mpl */\n",
       "window.mpl = {};\n",
       "\n",
       "mpl.get_websocket_type = function () {\n",
       "    if (typeof WebSocket !== 'undefined') {\n",
       "        return WebSocket;\n",
       "    } else if (typeof MozWebSocket !== 'undefined') {\n",
       "        return MozWebSocket;\n",
       "    } else {\n",
       "        alert(\n",
       "            'Your browser does not have WebSocket support. ' +\n",
       "                'Please try Chrome, Safari or Firefox ≥ 6. ' +\n",
       "                'Firefox 4 and 5 are also supported but you ' +\n",
       "                'have to enable WebSockets in about:config.'\n",
       "        );\n",
       "    }\n",
       "};\n",
       "\n",
       "mpl.figure = function (figure_id, websocket, ondownload, parent_element) {\n",
       "    this.id = figure_id;\n",
       "\n",
       "    this.ws = websocket;\n",
       "\n",
       "    this.supports_binary = this.ws.binaryType !== undefined;\n",
       "\n",
       "    if (!this.supports_binary) {\n",
       "        var warnings = document.getElementById('mpl-warnings');\n",
       "        if (warnings) {\n",
       "            warnings.style.display = 'block';\n",
       "            warnings.textContent =\n",
       "                'This browser does not support binary websocket messages. ' +\n",
       "                'Performance may be slow.';\n",
       "        }\n",
       "    }\n",
       "\n",
       "    this.imageObj = new Image();\n",
       "\n",
       "    this.context = undefined;\n",
       "    this.message = undefined;\n",
       "    this.canvas = undefined;\n",
       "    this.rubberband_canvas = undefined;\n",
       "    this.rubberband_context = undefined;\n",
       "    this.format_dropdown = undefined;\n",
       "\n",
       "    this.image_mode = 'full';\n",
       "\n",
       "    this.root = document.createElement('div');\n",
       "    this.root.setAttribute('style', 'display: inline-block');\n",
       "    this._root_extra_style(this.root);\n",
       "\n",
       "    parent_element.appendChild(this.root);\n",
       "\n",
       "    this._init_header(this);\n",
       "    this._init_canvas(this);\n",
       "    this._init_toolbar(this);\n",
       "\n",
       "    var fig = this;\n",
       "\n",
       "    this.waiting = false;\n",
       "\n",
       "    this.ws.onopen = function () {\n",
       "        fig.send_message('supports_binary', { value: fig.supports_binary });\n",
       "        fig.send_message('send_image_mode', {});\n",
       "        if (fig.ratio !== 1) {\n",
       "            fig.send_message('set_device_pixel_ratio', {\n",
       "                device_pixel_ratio: fig.ratio,\n",
       "            });\n",
       "        }\n",
       "        fig.send_message('refresh', {});\n",
       "    };\n",
       "\n",
       "    this.imageObj.onload = function () {\n",
       "        if (fig.image_mode === 'full') {\n",
       "            // Full images could contain transparency (where diff images\n",
       "            // almost always do), so we need to clear the canvas so that\n",
       "            // there is no ghosting.\n",
       "            fig.context.clearRect(0, 0, fig.canvas.width, fig.canvas.height);\n",
       "        }\n",
       "        fig.context.drawImage(fig.imageObj, 0, 0);\n",
       "    };\n",
       "\n",
       "    this.imageObj.onunload = function () {\n",
       "        fig.ws.close();\n",
       "    };\n",
       "\n",
       "    this.ws.onmessage = this._make_on_message_function(this);\n",
       "\n",
       "    this.ondownload = ondownload;\n",
       "};\n",
       "\n",
       "mpl.figure.prototype._init_header = function () {\n",
       "    var titlebar = document.createElement('div');\n",
       "    titlebar.classList =\n",
       "        'ui-dialog-titlebar ui-widget-header ui-corner-all ui-helper-clearfix';\n",
       "    var titletext = document.createElement('div');\n",
       "    titletext.classList = 'ui-dialog-title';\n",
       "    titletext.setAttribute(\n",
       "        'style',\n",
       "        'width: 100%; text-align: center; padding: 3px;'\n",
       "    );\n",
       "    titlebar.appendChild(titletext);\n",
       "    this.root.appendChild(titlebar);\n",
       "    this.header = titletext;\n",
       "};\n",
       "\n",
       "mpl.figure.prototype._canvas_extra_style = function (_canvas_div) {};\n",
       "\n",
       "mpl.figure.prototype._root_extra_style = function (_canvas_div) {};\n",
       "\n",
       "mpl.figure.prototype._init_canvas = function () {\n",
       "    var fig = this;\n",
       "\n",
       "    var canvas_div = (this.canvas_div = document.createElement('div'));\n",
       "    canvas_div.setAttribute('tabindex', '0');\n",
       "    canvas_div.setAttribute(\n",
       "        'style',\n",
       "        'border: 1px solid #ddd;' +\n",
       "            'box-sizing: content-box;' +\n",
       "            'clear: both;' +\n",
       "            'min-height: 1px;' +\n",
       "            'min-width: 1px;' +\n",
       "            'outline: 0;' +\n",
       "            'overflow: hidden;' +\n",
       "            'position: relative;' +\n",
       "            'resize: both;' +\n",
       "            'z-index: 2;'\n",
       "    );\n",
       "\n",
       "    function on_keyboard_event_closure(name) {\n",
       "        return function (event) {\n",
       "            return fig.key_event(event, name);\n",
       "        };\n",
       "    }\n",
       "\n",
       "    canvas_div.addEventListener(\n",
       "        'keydown',\n",
       "        on_keyboard_event_closure('key_press')\n",
       "    );\n",
       "    canvas_div.addEventListener(\n",
       "        'keyup',\n",
       "        on_keyboard_event_closure('key_release')\n",
       "    );\n",
       "\n",
       "    this._canvas_extra_style(canvas_div);\n",
       "    this.root.appendChild(canvas_div);\n",
       "\n",
       "    var canvas = (this.canvas = document.createElement('canvas'));\n",
       "    canvas.classList.add('mpl-canvas');\n",
       "    canvas.setAttribute(\n",
       "        'style',\n",
       "        'box-sizing: content-box;' +\n",
       "            'pointer-events: none;' +\n",
       "            'position: relative;' +\n",
       "            'z-index: 0;'\n",
       "    );\n",
       "\n",
       "    this.context = canvas.getContext('2d');\n",
       "\n",
       "    var backingStore =\n",
       "        this.context.backingStorePixelRatio ||\n",
       "        this.context.webkitBackingStorePixelRatio ||\n",
       "        this.context.mozBackingStorePixelRatio ||\n",
       "        this.context.msBackingStorePixelRatio ||\n",
       "        this.context.oBackingStorePixelRatio ||\n",
       "        this.context.backingStorePixelRatio ||\n",
       "        1;\n",
       "\n",
       "    this.ratio = (window.devicePixelRatio || 1) / backingStore;\n",
       "\n",
       "    var rubberband_canvas = (this.rubberband_canvas = document.createElement(\n",
       "        'canvas'\n",
       "    ));\n",
       "    rubberband_canvas.setAttribute(\n",
       "        'style',\n",
       "        'box-sizing: content-box;' +\n",
       "            'left: 0;' +\n",
       "            'pointer-events: none;' +\n",
       "            'position: absolute;' +\n",
       "            'top: 0;' +\n",
       "            'z-index: 1;'\n",
       "    );\n",
       "\n",
       "    // Apply a ponyfill if ResizeObserver is not implemented by browser.\n",
       "    if (this.ResizeObserver === undefined) {\n",
       "        if (window.ResizeObserver !== undefined) {\n",
       "            this.ResizeObserver = window.ResizeObserver;\n",
       "        } else {\n",
       "            var obs = _JSXTOOLS_RESIZE_OBSERVER({});\n",
       "            this.ResizeObserver = obs.ResizeObserver;\n",
       "        }\n",
       "    }\n",
       "\n",
       "    this.resizeObserverInstance = new this.ResizeObserver(function (entries) {\n",
       "        var nentries = entries.length;\n",
       "        for (var i = 0; i < nentries; i++) {\n",
       "            var entry = entries[i];\n",
       "            var width, height;\n",
       "            if (entry.contentBoxSize) {\n",
       "                if (entry.contentBoxSize instanceof Array) {\n",
       "                    // Chrome 84 implements new version of spec.\n",
       "                    width = entry.contentBoxSize[0].inlineSize;\n",
       "                    height = entry.contentBoxSize[0].blockSize;\n",
       "                } else {\n",
       "                    // Firefox implements old version of spec.\n",
       "                    width = entry.contentBoxSize.inlineSize;\n",
       "                    height = entry.contentBoxSize.blockSize;\n",
       "                }\n",
       "            } else {\n",
       "                // Chrome <84 implements even older version of spec.\n",
       "                width = entry.contentRect.width;\n",
       "                height = entry.contentRect.height;\n",
       "            }\n",
       "\n",
       "            // Keep the size of the canvas and rubber band canvas in sync with\n",
       "            // the canvas container.\n",
       "            if (entry.devicePixelContentBoxSize) {\n",
       "                // Chrome 84 implements new version of spec.\n",
       "                canvas.setAttribute(\n",
       "                    'width',\n",
       "                    entry.devicePixelContentBoxSize[0].inlineSize\n",
       "                );\n",
       "                canvas.setAttribute(\n",
       "                    'height',\n",
       "                    entry.devicePixelContentBoxSize[0].blockSize\n",
       "                );\n",
       "            } else {\n",
       "                canvas.setAttribute('width', width * fig.ratio);\n",
       "                canvas.setAttribute('height', height * fig.ratio);\n",
       "            }\n",
       "            /* This rescales the canvas back to display pixels, so that it\n",
       "             * appears correct on HiDPI screens. */\n",
       "            canvas.style.width = width + 'px';\n",
       "            canvas.style.height = height + 'px';\n",
       "\n",
       "            rubberband_canvas.setAttribute('width', width);\n",
       "            rubberband_canvas.setAttribute('height', height);\n",
       "\n",
       "            // And update the size in Python. We ignore the initial 0/0 size\n",
       "            // that occurs as the element is placed into the DOM, which should\n",
       "            // otherwise not happen due to the minimum size styling.\n",
       "            if (fig.ws.readyState == 1 && width != 0 && height != 0) {\n",
       "                fig.request_resize(width, height);\n",
       "            }\n",
       "        }\n",
       "    });\n",
       "    this.resizeObserverInstance.observe(canvas_div);\n",
       "\n",
       "    function on_mouse_event_closure(name) {\n",
       "        /* User Agent sniffing is bad, but WebKit is busted:\n",
       "         * https://bugs.webkit.org/show_bug.cgi?id=144526\n",
       "         * https://bugs.webkit.org/show_bug.cgi?id=181818\n",
       "         * The worst that happens here is that they get an extra browser\n",
       "         * selection when dragging, if this check fails to catch them.\n",
       "         */\n",
       "        var UA = navigator.userAgent;\n",
       "        var isWebKit = /AppleWebKit/.test(UA) && !/Chrome/.test(UA);\n",
       "        if(isWebKit) {\n",
       "            return function (event) {\n",
       "                /* This prevents the web browser from automatically changing to\n",
       "                 * the text insertion cursor when the button is pressed. We\n",
       "                 * want to control all of the cursor setting manually through\n",
       "                 * the 'cursor' event from matplotlib */\n",
       "                event.preventDefault()\n",
       "                return fig.mouse_event(event, name);\n",
       "            };\n",
       "        } else {\n",
       "            return function (event) {\n",
       "                return fig.mouse_event(event, name);\n",
       "            };\n",
       "        }\n",
       "    }\n",
       "\n",
       "    canvas_div.addEventListener(\n",
       "        'mousedown',\n",
       "        on_mouse_event_closure('button_press')\n",
       "    );\n",
       "    canvas_div.addEventListener(\n",
       "        'mouseup',\n",
       "        on_mouse_event_closure('button_release')\n",
       "    );\n",
       "    canvas_div.addEventListener(\n",
       "        'dblclick',\n",
       "        on_mouse_event_closure('dblclick')\n",
       "    );\n",
       "    // Throttle sequential mouse events to 1 every 20ms.\n",
       "    canvas_div.addEventListener(\n",
       "        'mousemove',\n",
       "        on_mouse_event_closure('motion_notify')\n",
       "    );\n",
       "\n",
       "    canvas_div.addEventListener(\n",
       "        'mouseenter',\n",
       "        on_mouse_event_closure('figure_enter')\n",
       "    );\n",
       "    canvas_div.addEventListener(\n",
       "        'mouseleave',\n",
       "        on_mouse_event_closure('figure_leave')\n",
       "    );\n",
       "\n",
       "    canvas_div.addEventListener('wheel', function (event) {\n",
       "        if (event.deltaY < 0) {\n",
       "            event.step = 1;\n",
       "        } else {\n",
       "            event.step = -1;\n",
       "        }\n",
       "        on_mouse_event_closure('scroll')(event);\n",
       "    });\n",
       "\n",
       "    canvas_div.appendChild(canvas);\n",
       "    canvas_div.appendChild(rubberband_canvas);\n",
       "\n",
       "    this.rubberband_context = rubberband_canvas.getContext('2d');\n",
       "    this.rubberband_context.strokeStyle = '#000000';\n",
       "\n",
       "    this._resize_canvas = function (width, height, forward) {\n",
       "        if (forward) {\n",
       "            canvas_div.style.width = width + 'px';\n",
       "            canvas_div.style.height = height + 'px';\n",
       "        }\n",
       "    };\n",
       "\n",
       "    // Disable right mouse context menu.\n",
       "    canvas_div.addEventListener('contextmenu', function (_e) {\n",
       "        event.preventDefault();\n",
       "        return false;\n",
       "    });\n",
       "\n",
       "    function set_focus() {\n",
       "        canvas.focus();\n",
       "        canvas_div.focus();\n",
       "    }\n",
       "\n",
       "    window.setTimeout(set_focus, 100);\n",
       "};\n",
       "\n",
       "mpl.figure.prototype._init_toolbar = function () {\n",
       "    var fig = this;\n",
       "\n",
       "    var toolbar = document.createElement('div');\n",
       "    toolbar.classList = 'mpl-toolbar';\n",
       "    this.root.appendChild(toolbar);\n",
       "\n",
       "    function on_click_closure(name) {\n",
       "        return function (_event) {\n",
       "            return fig.toolbar_button_onclick(name);\n",
       "        };\n",
       "    }\n",
       "\n",
       "    function on_mouseover_closure(tooltip) {\n",
       "        return function (event) {\n",
       "            if (!event.currentTarget.disabled) {\n",
       "                return fig.toolbar_button_onmouseover(tooltip);\n",
       "            }\n",
       "        };\n",
       "    }\n",
       "\n",
       "    fig.buttons = {};\n",
       "    var buttonGroup = document.createElement('div');\n",
       "    buttonGroup.classList = 'mpl-button-group';\n",
       "    for (var toolbar_ind in mpl.toolbar_items) {\n",
       "        var name = mpl.toolbar_items[toolbar_ind][0];\n",
       "        var tooltip = mpl.toolbar_items[toolbar_ind][1];\n",
       "        var image = mpl.toolbar_items[toolbar_ind][2];\n",
       "        var method_name = mpl.toolbar_items[toolbar_ind][3];\n",
       "\n",
       "        if (!name) {\n",
       "            /* Instead of a spacer, we start a new button group. */\n",
       "            if (buttonGroup.hasChildNodes()) {\n",
       "                toolbar.appendChild(buttonGroup);\n",
       "            }\n",
       "            buttonGroup = document.createElement('div');\n",
       "            buttonGroup.classList = 'mpl-button-group';\n",
       "            continue;\n",
       "        }\n",
       "\n",
       "        var button = (fig.buttons[name] = document.createElement('button'));\n",
       "        button.classList = 'mpl-widget';\n",
       "        button.setAttribute('role', 'button');\n",
       "        button.setAttribute('aria-disabled', 'false');\n",
       "        button.addEventListener('click', on_click_closure(method_name));\n",
       "        button.addEventListener('mouseover', on_mouseover_closure(tooltip));\n",
       "\n",
       "        var icon_img = document.createElement('img');\n",
       "        icon_img.src = '_images/' + image + '.png';\n",
       "        icon_img.srcset = '_images/' + image + '_large.png 2x';\n",
       "        icon_img.alt = tooltip;\n",
       "        button.appendChild(icon_img);\n",
       "\n",
       "        buttonGroup.appendChild(button);\n",
       "    }\n",
       "\n",
       "    if (buttonGroup.hasChildNodes()) {\n",
       "        toolbar.appendChild(buttonGroup);\n",
       "    }\n",
       "\n",
       "    var fmt_picker = document.createElement('select');\n",
       "    fmt_picker.classList = 'mpl-widget';\n",
       "    toolbar.appendChild(fmt_picker);\n",
       "    this.format_dropdown = fmt_picker;\n",
       "\n",
       "    for (var ind in mpl.extensions) {\n",
       "        var fmt = mpl.extensions[ind];\n",
       "        var option = document.createElement('option');\n",
       "        option.selected = fmt === mpl.default_extension;\n",
       "        option.innerHTML = fmt;\n",
       "        fmt_picker.appendChild(option);\n",
       "    }\n",
       "\n",
       "    var status_bar = document.createElement('span');\n",
       "    status_bar.classList = 'mpl-message';\n",
       "    toolbar.appendChild(status_bar);\n",
       "    this.message = status_bar;\n",
       "};\n",
       "\n",
       "mpl.figure.prototype.request_resize = function (x_pixels, y_pixels) {\n",
       "    // Request matplotlib to resize the figure. Matplotlib will then trigger a resize in the client,\n",
       "    // which will in turn request a refresh of the image.\n",
       "    this.send_message('resize', { width: x_pixels, height: y_pixels });\n",
       "};\n",
       "\n",
       "mpl.figure.prototype.send_message = function (type, properties) {\n",
       "    properties['type'] = type;\n",
       "    properties['figure_id'] = this.id;\n",
       "    this.ws.send(JSON.stringify(properties));\n",
       "};\n",
       "\n",
       "mpl.figure.prototype.send_draw_message = function () {\n",
       "    if (!this.waiting) {\n",
       "        this.waiting = true;\n",
       "        this.ws.send(JSON.stringify({ type: 'draw', figure_id: this.id }));\n",
       "    }\n",
       "};\n",
       "\n",
       "mpl.figure.prototype.handle_save = function (fig, _msg) {\n",
       "    var format_dropdown = fig.format_dropdown;\n",
       "    var format = format_dropdown.options[format_dropdown.selectedIndex].value;\n",
       "    fig.ondownload(fig, format);\n",
       "};\n",
       "\n",
       "mpl.figure.prototype.handle_resize = function (fig, msg) {\n",
       "    var size = msg['size'];\n",
       "    if (size[0] !== fig.canvas.width || size[1] !== fig.canvas.height) {\n",
       "        fig._resize_canvas(size[0], size[1], msg['forward']);\n",
       "        fig.send_message('refresh', {});\n",
       "    }\n",
       "};\n",
       "\n",
       "mpl.figure.prototype.handle_rubberband = function (fig, msg) {\n",
       "    var x0 = msg['x0'] / fig.ratio;\n",
       "    var y0 = (fig.canvas.height - msg['y0']) / fig.ratio;\n",
       "    var x1 = msg['x1'] / fig.ratio;\n",
       "    var y1 = (fig.canvas.height - msg['y1']) / fig.ratio;\n",
       "    x0 = Math.floor(x0) + 0.5;\n",
       "    y0 = Math.floor(y0) + 0.5;\n",
       "    x1 = Math.floor(x1) + 0.5;\n",
       "    y1 = Math.floor(y1) + 0.5;\n",
       "    var min_x = Math.min(x0, x1);\n",
       "    var min_y = Math.min(y0, y1);\n",
       "    var width = Math.abs(x1 - x0);\n",
       "    var height = Math.abs(y1 - y0);\n",
       "\n",
       "    fig.rubberband_context.clearRect(\n",
       "        0,\n",
       "        0,\n",
       "        fig.canvas.width / fig.ratio,\n",
       "        fig.canvas.height / fig.ratio\n",
       "    );\n",
       "\n",
       "    fig.rubberband_context.strokeRect(min_x, min_y, width, height);\n",
       "};\n",
       "\n",
       "mpl.figure.prototype.handle_figure_label = function (fig, msg) {\n",
       "    // Updates the figure title.\n",
       "    fig.header.textContent = msg['label'];\n",
       "};\n",
       "\n",
       "mpl.figure.prototype.handle_cursor = function (fig, msg) {\n",
       "    fig.canvas_div.style.cursor = msg['cursor'];\n",
       "};\n",
       "\n",
       "mpl.figure.prototype.handle_message = function (fig, msg) {\n",
       "    fig.message.textContent = msg['message'];\n",
       "};\n",
       "\n",
       "mpl.figure.prototype.handle_draw = function (fig, _msg) {\n",
       "    // Request the server to send over a new figure.\n",
       "    fig.send_draw_message();\n",
       "};\n",
       "\n",
       "mpl.figure.prototype.handle_image_mode = function (fig, msg) {\n",
       "    fig.image_mode = msg['mode'];\n",
       "};\n",
       "\n",
       "mpl.figure.prototype.handle_history_buttons = function (fig, msg) {\n",
       "    for (var key in msg) {\n",
       "        if (!(key in fig.buttons)) {\n",
       "            continue;\n",
       "        }\n",
       "        fig.buttons[key].disabled = !msg[key];\n",
       "        fig.buttons[key].setAttribute('aria-disabled', !msg[key]);\n",
       "    }\n",
       "};\n",
       "\n",
       "mpl.figure.prototype.handle_navigate_mode = function (fig, msg) {\n",
       "    if (msg['mode'] === 'PAN') {\n",
       "        fig.buttons['Pan'].classList.add('active');\n",
       "        fig.buttons['Zoom'].classList.remove('active');\n",
       "    } else if (msg['mode'] === 'ZOOM') {\n",
       "        fig.buttons['Pan'].classList.remove('active');\n",
       "        fig.buttons['Zoom'].classList.add('active');\n",
       "    } else {\n",
       "        fig.buttons['Pan'].classList.remove('active');\n",
       "        fig.buttons['Zoom'].classList.remove('active');\n",
       "    }\n",
       "};\n",
       "\n",
       "mpl.figure.prototype.updated_canvas_event = function () {\n",
       "    // Called whenever the canvas gets updated.\n",
       "    this.send_message('ack', {});\n",
       "};\n",
       "\n",
       "// A function to construct a web socket function for onmessage handling.\n",
       "// Called in the figure constructor.\n",
       "mpl.figure.prototype._make_on_message_function = function (fig) {\n",
       "    return function socket_on_message(evt) {\n",
       "        if (evt.data instanceof Blob) {\n",
       "            var img = evt.data;\n",
       "            if (img.type !== 'image/png') {\n",
       "                /* FIXME: We get \"Resource interpreted as Image but\n",
       "                 * transferred with MIME type text/plain:\" errors on\n",
       "                 * Chrome.  But how to set the MIME type?  It doesn't seem\n",
       "                 * to be part of the websocket stream */\n",
       "                img.type = 'image/png';\n",
       "            }\n",
       "\n",
       "            /* Free the memory for the previous frames */\n",
       "            if (fig.imageObj.src) {\n",
       "                (window.URL || window.webkitURL).revokeObjectURL(\n",
       "                    fig.imageObj.src\n",
       "                );\n",
       "            }\n",
       "\n",
       "            fig.imageObj.src = (window.URL || window.webkitURL).createObjectURL(\n",
       "                img\n",
       "            );\n",
       "            fig.updated_canvas_event();\n",
       "            fig.waiting = false;\n",
       "            return;\n",
       "        } else if (\n",
       "            typeof evt.data === 'string' &&\n",
       "            evt.data.slice(0, 21) === 'data:image/png;base64'\n",
       "        ) {\n",
       "            fig.imageObj.src = evt.data;\n",
       "            fig.updated_canvas_event();\n",
       "            fig.waiting = false;\n",
       "            return;\n",
       "        }\n",
       "\n",
       "        var msg = JSON.parse(evt.data);\n",
       "        var msg_type = msg['type'];\n",
       "\n",
       "        // Call the  \"handle_{type}\" callback, which takes\n",
       "        // the figure and JSON message as its only arguments.\n",
       "        try {\n",
       "            var callback = fig['handle_' + msg_type];\n",
       "        } catch (e) {\n",
       "            console.log(\n",
       "                \"No handler for the '\" + msg_type + \"' message type: \",\n",
       "                msg\n",
       "            );\n",
       "            return;\n",
       "        }\n",
       "\n",
       "        if (callback) {\n",
       "            try {\n",
       "                // console.log(\"Handling '\" + msg_type + \"' message: \", msg);\n",
       "                callback(fig, msg);\n",
       "            } catch (e) {\n",
       "                console.log(\n",
       "                    \"Exception inside the 'handler_\" + msg_type + \"' callback:\",\n",
       "                    e,\n",
       "                    e.stack,\n",
       "                    msg\n",
       "                );\n",
       "            }\n",
       "        }\n",
       "    };\n",
       "};\n",
       "\n",
       "\n",
       "/*\n",
       " * return a copy of an object with only non-object keys\n",
       " * we need this to avoid circular references\n",
       " * https://stackoverflow.com/a/24161582/3208463\n",
       " */\n",
       "function simpleKeys(original) {\n",
       "    return Object.keys(original).reduce(function (obj, key) {\n",
       "        if (typeof original[key] !== 'object') {\n",
       "            obj[key] = original[key];\n",
       "        }\n",
       "        return obj;\n",
       "    }, {});\n",
       "}\n",
       "\n",
       "mpl.figure.prototype.mouse_event = function (event, name) {\n",
       "    if (name === 'button_press') {\n",
       "        this.canvas.focus();\n",
       "        this.canvas_div.focus();\n",
       "    }\n",
       "\n",
       "    // from https://stackoverflow.com/q/1114465\n",
       "    var boundingRect = this.canvas.getBoundingClientRect();\n",
       "    var x = (event.clientX - boundingRect.left) * this.ratio;\n",
       "    var y = (event.clientY - boundingRect.top) * this.ratio;\n",
       "\n",
       "    this.send_message(name, {\n",
       "        x: x,\n",
       "        y: y,\n",
       "        button: event.button,\n",
       "        step: event.step,\n",
       "        guiEvent: simpleKeys(event),\n",
       "    });\n",
       "\n",
       "    return false;\n",
       "};\n",
       "\n",
       "mpl.figure.prototype._key_event_extra = function (_event, _name) {\n",
       "    // Handle any extra behaviour associated with a key event\n",
       "};\n",
       "\n",
       "mpl.figure.prototype.key_event = function (event, name) {\n",
       "    // Prevent repeat events\n",
       "    if (name === 'key_press') {\n",
       "        if (event.key === this._key) {\n",
       "            return;\n",
       "        } else {\n",
       "            this._key = event.key;\n",
       "        }\n",
       "    }\n",
       "    if (name === 'key_release') {\n",
       "        this._key = null;\n",
       "    }\n",
       "\n",
       "    var value = '';\n",
       "    if (event.ctrlKey && event.key !== 'Control') {\n",
       "        value += 'ctrl+';\n",
       "    }\n",
       "    else if (event.altKey && event.key !== 'Alt') {\n",
       "        value += 'alt+';\n",
       "    }\n",
       "    else if (event.shiftKey && event.key !== 'Shift') {\n",
       "        value += 'shift+';\n",
       "    }\n",
       "\n",
       "    value += 'k' + event.key;\n",
       "\n",
       "    this._key_event_extra(event, name);\n",
       "\n",
       "    this.send_message(name, { key: value, guiEvent: simpleKeys(event) });\n",
       "    return false;\n",
       "};\n",
       "\n",
       "mpl.figure.prototype.toolbar_button_onclick = function (name) {\n",
       "    if (name === 'download') {\n",
       "        this.handle_save(this, null);\n",
       "    } else {\n",
       "        this.send_message('toolbar_button', { name: name });\n",
       "    }\n",
       "};\n",
       "\n",
       "mpl.figure.prototype.toolbar_button_onmouseover = function (tooltip) {\n",
       "    this.message.textContent = tooltip;\n",
       "};\n",
       "\n",
       "///////////////// REMAINING CONTENT GENERATED BY embed_js.py /////////////////\n",
       "// prettier-ignore\n",
       "var _JSXTOOLS_RESIZE_OBSERVER=function(A){var t,i=new WeakMap,n=new WeakMap,a=new WeakMap,r=new WeakMap,o=new Set;function s(e){if(!(this instanceof s))throw new TypeError(\"Constructor requires 'new' operator\");i.set(this,e)}function h(){throw new TypeError(\"Function is not a constructor\")}function c(e,t,i,n){e=0 in arguments?Number(arguments[0]):0,t=1 in arguments?Number(arguments[1]):0,i=2 in arguments?Number(arguments[2]):0,n=3 in arguments?Number(arguments[3]):0,this.right=(this.x=this.left=e)+(this.width=i),this.bottom=(this.y=this.top=t)+(this.height=n),Object.freeze(this)}function d(){t=requestAnimationFrame(d);var s=new WeakMap,p=new Set;o.forEach((function(t){r.get(t).forEach((function(i){var r=t instanceof window.SVGElement,o=a.get(t),d=r?0:parseFloat(o.paddingTop),f=r?0:parseFloat(o.paddingRight),l=r?0:parseFloat(o.paddingBottom),u=r?0:parseFloat(o.paddingLeft),g=r?0:parseFloat(o.borderTopWidth),m=r?0:parseFloat(o.borderRightWidth),w=r?0:parseFloat(o.borderBottomWidth),b=u+f,F=d+l,v=(r?0:parseFloat(o.borderLeftWidth))+m,W=g+w,y=r?0:t.offsetHeight-W-t.clientHeight,E=r?0:t.offsetWidth-v-t.clientWidth,R=b+v,z=F+W,M=r?t.width:parseFloat(o.width)-R-E,O=r?t.height:parseFloat(o.height)-z-y;if(n.has(t)){var k=n.get(t);if(k[0]===M&&k[1]===O)return}n.set(t,[M,O]);var S=Object.create(h.prototype);S.target=t,S.contentRect=new c(u,d,M,O),s.has(i)||(s.set(i,[]),p.add(i)),s.get(i).push(S)}))})),p.forEach((function(e){i.get(e).call(e,s.get(e),e)}))}return s.prototype.observe=function(i){if(i instanceof window.Element){r.has(i)||(r.set(i,new Set),o.add(i),a.set(i,window.getComputedStyle(i)));var n=r.get(i);n.has(this)||n.add(this),cancelAnimationFrame(t),t=requestAnimationFrame(d)}},s.prototype.unobserve=function(i){if(i instanceof window.Element&&r.has(i)){var n=r.get(i);n.has(this)&&(n.delete(this),n.size||(r.delete(i),o.delete(i))),n.size||r.delete(i),o.size||cancelAnimationFrame(t)}},A.DOMRectReadOnly=c,A.ResizeObserver=s,A.ResizeObserverEntry=h,A}; // eslint-disable-line\n",
       "mpl.toolbar_items = [[\"Home\", \"Reset original view\", \"fa fa-home\", \"home\"], [\"Back\", \"Back to previous view\", \"fa fa-arrow-left\", \"back\"], [\"Forward\", \"Forward to next view\", \"fa fa-arrow-right\", \"forward\"], [\"\", \"\", \"\", \"\"], [\"Pan\", \"Left button pans, Right button zooms\\nx/y fixes axis, CTRL fixes aspect\", \"fa fa-arrows\", \"pan\"], [\"Zoom\", \"Zoom to rectangle\\nx/y fixes axis\", \"fa fa-square-o\", \"zoom\"], [\"\", \"\", \"\", \"\"], [\"Download\", \"Download plot\", \"fa fa-floppy-o\", \"download\"]];\n",
       "\n",
       "mpl.extensions = [\"eps\", \"jpeg\", \"pgf\", \"pdf\", \"png\", \"ps\", \"raw\", \"svg\", \"tif\", \"webp\"];\n",
       "\n",
       "mpl.default_extension = \"png\";/* global mpl */\n",
       "\n",
       "var comm_websocket_adapter = function (comm) {\n",
       "    // Create a \"websocket\"-like object which calls the given IPython comm\n",
       "    // object with the appropriate methods. Currently this is a non binary\n",
       "    // socket, so there is still some room for performance tuning.\n",
       "    var ws = {};\n",
       "\n",
       "    ws.binaryType = comm.kernel.ws.binaryType;\n",
       "    ws.readyState = comm.kernel.ws.readyState;\n",
       "    function updateReadyState(_event) {\n",
       "        if (comm.kernel.ws) {\n",
       "            ws.readyState = comm.kernel.ws.readyState;\n",
       "        } else {\n",
       "            ws.readyState = 3; // Closed state.\n",
       "        }\n",
       "    }\n",
       "    comm.kernel.ws.addEventListener('open', updateReadyState);\n",
       "    comm.kernel.ws.addEventListener('close', updateReadyState);\n",
       "    comm.kernel.ws.addEventListener('error', updateReadyState);\n",
       "\n",
       "    ws.close = function () {\n",
       "        comm.close();\n",
       "    };\n",
       "    ws.send = function (m) {\n",
       "        //console.log('sending', m);\n",
       "        comm.send(m);\n",
       "    };\n",
       "    // Register the callback with on_msg.\n",
       "    comm.on_msg(function (msg) {\n",
       "        //console.log('receiving', msg['content']['data'], msg);\n",
       "        var data = msg['content']['data'];\n",
       "        if (data['blob'] !== undefined) {\n",
       "            data = {\n",
       "                data: new Blob(msg['buffers'], { type: data['blob'] }),\n",
       "            };\n",
       "        }\n",
       "        // Pass the mpl event to the overridden (by mpl) onmessage function.\n",
       "        ws.onmessage(data);\n",
       "    });\n",
       "    return ws;\n",
       "};\n",
       "\n",
       "mpl.mpl_figure_comm = function (comm, msg) {\n",
       "    // This is the function which gets called when the mpl process\n",
       "    // starts-up an IPython Comm through the \"matplotlib\" channel.\n",
       "\n",
       "    var id = msg.content.data.id;\n",
       "    // Get hold of the div created by the display call when the Comm\n",
       "    // socket was opened in Python.\n",
       "    var element = document.getElementById(id);\n",
       "    var ws_proxy = comm_websocket_adapter(comm);\n",
       "\n",
       "    function ondownload(figure, _format) {\n",
       "        window.open(figure.canvas.toDataURL());\n",
       "    }\n",
       "\n",
       "    var fig = new mpl.figure(id, ws_proxy, ondownload, element);\n",
       "\n",
       "    // Call onopen now - mpl needs it, as it is assuming we've passed it a real\n",
       "    // web socket which is closed, not our websocket->open comm proxy.\n",
       "    ws_proxy.onopen();\n",
       "\n",
       "    fig.parent_element = element;\n",
       "    fig.cell_info = mpl.find_output_cell(\"<div id='\" + id + \"'></div>\");\n",
       "    if (!fig.cell_info) {\n",
       "        console.error('Failed to find cell for figure', id, fig);\n",
       "        return;\n",
       "    }\n",
       "    fig.cell_info[0].output_area.element.on(\n",
       "        'cleared',\n",
       "        { fig: fig },\n",
       "        fig._remove_fig_handler\n",
       "    );\n",
       "};\n",
       "\n",
       "mpl.figure.prototype.handle_close = function (fig, msg) {\n",
       "    var width = fig.canvas.width / fig.ratio;\n",
       "    fig.cell_info[0].output_area.element.off(\n",
       "        'cleared',\n",
       "        fig._remove_fig_handler\n",
       "    );\n",
       "    fig.resizeObserverInstance.unobserve(fig.canvas_div);\n",
       "\n",
       "    // Update the output cell to use the data from the current canvas.\n",
       "    fig.push_to_output();\n",
       "    var dataURL = fig.canvas.toDataURL();\n",
       "    // Re-enable the keyboard manager in IPython - without this line, in FF,\n",
       "    // the notebook keyboard shortcuts fail.\n",
       "    IPython.keyboard_manager.enable();\n",
       "    fig.parent_element.innerHTML =\n",
       "        '<img src=\"' + dataURL + '\" width=\"' + width + '\">';\n",
       "    fig.close_ws(fig, msg);\n",
       "};\n",
       "\n",
       "mpl.figure.prototype.close_ws = function (fig, msg) {\n",
       "    fig.send_message('closing', msg);\n",
       "    // fig.ws.close()\n",
       "};\n",
       "\n",
       "mpl.figure.prototype.push_to_output = function (_remove_interactive) {\n",
       "    // Turn the data on the canvas into data in the output cell.\n",
       "    var width = this.canvas.width / this.ratio;\n",
       "    var dataURL = this.canvas.toDataURL();\n",
       "    this.cell_info[1]['text/html'] =\n",
       "        '<img src=\"' + dataURL + '\" width=\"' + width + '\">';\n",
       "};\n",
       "\n",
       "mpl.figure.prototype.updated_canvas_event = function () {\n",
       "    // Tell IPython that the notebook contents must change.\n",
       "    IPython.notebook.set_dirty(true);\n",
       "    this.send_message('ack', {});\n",
       "    var fig = this;\n",
       "    // Wait a second, then push the new image to the DOM so\n",
       "    // that it is saved nicely (might be nice to debounce this).\n",
       "    setTimeout(function () {\n",
       "        fig.push_to_output();\n",
       "    }, 1000);\n",
       "};\n",
       "\n",
       "mpl.figure.prototype._init_toolbar = function () {\n",
       "    var fig = this;\n",
       "\n",
       "    var toolbar = document.createElement('div');\n",
       "    toolbar.classList = 'btn-toolbar';\n",
       "    this.root.appendChild(toolbar);\n",
       "\n",
       "    function on_click_closure(name) {\n",
       "        return function (_event) {\n",
       "            return fig.toolbar_button_onclick(name);\n",
       "        };\n",
       "    }\n",
       "\n",
       "    function on_mouseover_closure(tooltip) {\n",
       "        return function (event) {\n",
       "            if (!event.currentTarget.disabled) {\n",
       "                return fig.toolbar_button_onmouseover(tooltip);\n",
       "            }\n",
       "        };\n",
       "    }\n",
       "\n",
       "    fig.buttons = {};\n",
       "    var buttonGroup = document.createElement('div');\n",
       "    buttonGroup.classList = 'btn-group';\n",
       "    var button;\n",
       "    for (var toolbar_ind in mpl.toolbar_items) {\n",
       "        var name = mpl.toolbar_items[toolbar_ind][0];\n",
       "        var tooltip = mpl.toolbar_items[toolbar_ind][1];\n",
       "        var image = mpl.toolbar_items[toolbar_ind][2];\n",
       "        var method_name = mpl.toolbar_items[toolbar_ind][3];\n",
       "\n",
       "        if (!name) {\n",
       "            /* Instead of a spacer, we start a new button group. */\n",
       "            if (buttonGroup.hasChildNodes()) {\n",
       "                toolbar.appendChild(buttonGroup);\n",
       "            }\n",
       "            buttonGroup = document.createElement('div');\n",
       "            buttonGroup.classList = 'btn-group';\n",
       "            continue;\n",
       "        }\n",
       "\n",
       "        button = fig.buttons[name] = document.createElement('button');\n",
       "        button.classList = 'btn btn-default';\n",
       "        button.href = '#';\n",
       "        button.title = name;\n",
       "        button.innerHTML = '<i class=\"fa ' + image + ' fa-lg\"></i>';\n",
       "        button.addEventListener('click', on_click_closure(method_name));\n",
       "        button.addEventListener('mouseover', on_mouseover_closure(tooltip));\n",
       "        buttonGroup.appendChild(button);\n",
       "    }\n",
       "\n",
       "    if (buttonGroup.hasChildNodes()) {\n",
       "        toolbar.appendChild(buttonGroup);\n",
       "    }\n",
       "\n",
       "    // Add the status bar.\n",
       "    var status_bar = document.createElement('span');\n",
       "    status_bar.classList = 'mpl-message pull-right';\n",
       "    toolbar.appendChild(status_bar);\n",
       "    this.message = status_bar;\n",
       "\n",
       "    // Add the close button to the window.\n",
       "    var buttongrp = document.createElement('div');\n",
       "    buttongrp.classList = 'btn-group inline pull-right';\n",
       "    button = document.createElement('button');\n",
       "    button.classList = 'btn btn-mini btn-primary';\n",
       "    button.href = '#';\n",
       "    button.title = 'Stop Interaction';\n",
       "    button.innerHTML = '<i class=\"fa fa-power-off icon-remove icon-large\"></i>';\n",
       "    button.addEventListener('click', function (_evt) {\n",
       "        fig.handle_close(fig, {});\n",
       "    });\n",
       "    button.addEventListener(\n",
       "        'mouseover',\n",
       "        on_mouseover_closure('Stop Interaction')\n",
       "    );\n",
       "    buttongrp.appendChild(button);\n",
       "    var titlebar = this.root.querySelector('.ui-dialog-titlebar');\n",
       "    titlebar.insertBefore(buttongrp, titlebar.firstChild);\n",
       "};\n",
       "\n",
       "mpl.figure.prototype._remove_fig_handler = function (event) {\n",
       "    var fig = event.data.fig;\n",
       "    if (event.target !== this) {\n",
       "        // Ignore bubbled events from children.\n",
       "        return;\n",
       "    }\n",
       "    fig.close_ws(fig, {});\n",
       "};\n",
       "\n",
       "mpl.figure.prototype._root_extra_style = function (el) {\n",
       "    el.style.boxSizing = 'content-box'; // override notebook setting of border-box.\n",
       "};\n",
       "\n",
       "mpl.figure.prototype._canvas_extra_style = function (el) {\n",
       "    // this is important to make the div 'focusable\n",
       "    el.setAttribute('tabindex', 0);\n",
       "    // reach out to IPython and tell the keyboard manager to turn it's self\n",
       "    // off when our div gets focus\n",
       "\n",
       "    // location in version 3\n",
       "    if (IPython.notebook.keyboard_manager) {\n",
       "        IPython.notebook.keyboard_manager.register_events(el);\n",
       "    } else {\n",
       "        // location in version 2\n",
       "        IPython.keyboard_manager.register_events(el);\n",
       "    }\n",
       "};\n",
       "\n",
       "mpl.figure.prototype._key_event_extra = function (event, _name) {\n",
       "    // Check for shift+enter\n",
       "    if (event.shiftKey && event.which === 13) {\n",
       "        this.canvas_div.blur();\n",
       "        // select the cell after this one\n",
       "        var index = IPython.notebook.find_cell_index(this.cell_info[0]);\n",
       "        IPython.notebook.select(index + 1);\n",
       "    }\n",
       "};\n",
       "\n",
       "mpl.figure.prototype.handle_save = function (fig, _msg) {\n",
       "    fig.ondownload(fig, null);\n",
       "};\n",
       "\n",
       "mpl.find_output_cell = function (html_output) {\n",
       "    // Return the cell and output element which can be found *uniquely* in the notebook.\n",
       "    // Note - this is a bit hacky, but it is done because the \"notebook_saving.Notebook\"\n",
       "    // IPython event is triggered only after the cells have been serialised, which for\n",
       "    // our purposes (turning an active figure into a static one), is too late.\n",
       "    var cells = IPython.notebook.get_cells();\n",
       "    var ncells = cells.length;\n",
       "    for (var i = 0; i < ncells; i++) {\n",
       "        var cell = cells[i];\n",
       "        if (cell.cell_type === 'code') {\n",
       "            for (var j = 0; j < cell.output_area.outputs.length; j++) {\n",
       "                var data = cell.output_area.outputs[j];\n",
       "                if (data.data) {\n",
       "                    // IPython >= 3 moved mimebundle to data attribute of output\n",
       "                    data = data.data;\n",
       "                }\n",
       "                if (data['text/html'] === html_output) {\n",
       "                    return [cell, data, j];\n",
       "                }\n",
       "            }\n",
       "        }\n",
       "    }\n",
       "};\n",
       "\n",
       "// Register the function which deals with the matplotlib target/channel.\n",
       "// The kernel may be null if the page has been refreshed.\n",
       "if (IPython.notebook.kernel !== null) {\n",
       "    IPython.notebook.kernel.comm_manager.register_target(\n",
       "        'matplotlib',\n",
       "        mpl.mpl_figure_comm\n",
       "    );\n",
       "}\n"
      ],
      "text/plain": [
       "<IPython.core.display.Javascript object>"
      ]
     },
     "metadata": {},
     "output_type": "display_data"
    },
    {
     "data": {
      "text/html": [
       "<img src=\"data:image/png;base64,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\" width=\"640\">"
      ],
      "text/plain": [
       "<IPython.core.display.HTML object>"
      ]
     },
     "metadata": {},
     "output_type": "display_data"
    }
   ],
   "source": [
    "H, bins = distances_signals['Signals'], distances_signals.index\n",
    "\n",
    "text_position = [0.005, 0.0025, 0.002, 0.005, 0.005, 0.005, 0.005, 0.005, 0.005]\n",
    "text_position_th = [0.005, -0.005, 0.002, 0.005, 0.005, 0.005, 0.005, 0.005, 0.005]\n",
    "#xlims = [0.4, 0.1, 0.3, 0.5, 0.3, 0.3, 0.15, 0.15, 0.4]\n",
    "xlims = [0.25, 0.12, 0.07, 0.3, 0.45, 0.08, 0.14, 0.12, 0.35]\n",
    "#xlims = [0.4, 0.4, 0.4, 0.4, 0.4, 0.4, 0.4, 0.4, 0.4]\n",
    "ylims = [0.05, 0.05, 0.08, 0.275, 0.045, 0.04, 0.032, 0.03, 0.08]\n",
    "\n",
    "fig, ax = plt.subplots()\n",
    "#ax.set_yscale(\"log\")\n",
    "ax.set_xlim(-0.0001, xlims[nr_of_experiment-1])\n",
    "ax.set_ylim(0, ylims[nr_of_experiment-1])\n",
    "\n",
    "widths = [0.002, 0.001, 0.001, 0.004, 0.003, 0.001, 0.0015, 0.001, 0.003]\n",
    "\n",
    "histogram = ax.bar(bins[:-2], H.iloc[:-2], width = 0.008*xlims[nr_of_experiment-1], color='#707070')\n",
    "histogram = ax.bar(bins[-2], H.iloc[-2], width = 0.008*xlims[nr_of_experiment-1], color='#64add9')\n",
    "histogram = ax.bar(bins[-1], H.iloc[-1], width = 0.008*xlims[nr_of_experiment-1], color='#ff8bd5')\n",
    "\n",
    "# histogram[-2].set_color('#64add9')\n",
    "# histogram[-1].set_color('#ff8bd5')\n",
    "\n",
    "plt.xlabel('Transport distance [ppm]', fontsize=15, labelpad=15)\n",
    "plt.ylabel('Amount of signal transported', fontsize=15, labelpad=15)\n",
    "\n",
    "plt.axvline(x=MTD, color='#64add9')\n",
    "plt.text(MTD + text_position[nr_of_experiment-1], 0.01,'Kappa mixture',rotation=90, color='#64add9')\n",
    "\n",
    "plt.axvline(x=MTD_th, color='#ff8bd5', linestyle='--')\n",
    "#plt.text(MTD_th+ text_position_th[nr_of_experiment-1], 0.01,'Kappa components',rotation=90, color='#A35FC1')\n",
    "plt.text(MTD_th+ text_position_th[nr_of_experiment-1], 0.01,'Kappa components',rotation=90, color='#ff8bd5')\n",
    "\n",
    "plt.tight_layout()\n",
    "plt.show()\n",
    "plt.savefig('distances_histogram_exp_'+str(nr_of_experiment)+'.png', dpi=300)"
   ]
  },
  {
   "cell_type": "code",
   "execution_count": 45,
   "id": "94aef01a",
   "metadata": {},
   "outputs": [
    {
     "name": "stdout",
     "output_type": "stream",
     "text": [
      "99.0% of signal is transported on distance smaller than 0.00012843583456646147.\n"
     ]
    }
   ],
   "source": [
    "percent = 0.99\n",
    "q = H.quantile(q=percent)\n",
    "print(str(percent*100)+'% of signal is transported on distance smaller than '+str(q)+'.' )"
   ]
  },
  {
   "cell_type": "code",
   "execution_count": 46,
   "id": "07b66ece",
   "metadata": {},
   "outputs": [
    {
     "data": {
      "text/plain": [
       "Signals    1.0\n",
       "dtype: float64"
      ]
     },
     "execution_count": 46,
     "metadata": {},
     "output_type": "execute_result"
    }
   ],
   "source": [
    "(distances_signals.iloc[:-2,:]).sum()"
   ]
  },
  {
   "cell_type": "code",
   "execution_count": 49,
   "id": "9f25c3e4",
   "metadata": {},
   "outputs": [
    {
     "data": {
      "text/plain": [
       "279153"
      ]
     },
     "execution_count": 49,
     "metadata": {},
     "output_type": "execute_result"
    }
   ],
   "source": [
    "#len(list(mix_without_noise.WSDistanceMoves(components_without_noise)))"
   ]
  },
  {
   "cell_type": "code",
   "execution_count": 55,
   "id": "fdf45a25",
   "metadata": {},
   "outputs": [],
   "source": [
    "#list(mix_without_noise.WSDistanceMoves(components_without_noise))"
   ]
  },
  {
   "cell_type": "code",
   "execution_count": 53,
   "id": "e9ecb8a6",
   "metadata": {},
   "outputs": [
    {
     "data": {
      "text/plain": [
       "279154"
      ]
     },
     "execution_count": 53,
     "metadata": {},
     "output_type": "execute_result"
    }
   ],
   "source": [
    "#len(mix_without_noise.confs)*2"
   ]
  },
  {
   "cell_type": "code",
   "execution_count": null,
   "id": "bbc67029",
   "metadata": {},
   "outputs": [],
   "source": []
  }
 ],
 "metadata": {
  "kernelspec": {
   "display_name": "Python 3 (ipykernel)",
   "language": "python",
   "name": "python3"
  },
  "language_info": {
   "codemirror_mode": {
    "name": "ipython",
    "version": 3
   },
   "file_extension": ".py",
   "mimetype": "text/x-python",
   "name": "python",
   "nbconvert_exporter": "python",
   "pygments_lexer": "ipython3",
   "version": "3.10.6"
  }
 },
 "nbformat": 4,
 "nbformat_minor": 5
}
