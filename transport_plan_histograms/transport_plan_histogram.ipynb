{
 "cells": [
  {
   "cell_type": "markdown",
   "id": "2278c778",
   "metadata": {},
   "source": [
    "### Settings & imports"
   ]
  },
  {
   "cell_type": "code",
   "execution_count": 1,
   "id": "52249722",
   "metadata": {},
   "outputs": [],
   "source": [
    "%matplotlib notebook"
   ]
  },
  {
   "cell_type": "code",
   "execution_count": 2,
   "id": "6af4ae0a",
   "metadata": {},
   "outputs": [],
   "source": [
    "import sys\n",
    "mypath = \"/home/basia/Documents/spectroscopy/wassersteinms\"\n",
    "sys.path.insert(0, mypath)\n",
    "import masserstein "
   ]
  },
  {
   "cell_type": "code",
   "execution_count": 3,
   "id": "55f0baff",
   "metadata": {},
   "outputs": [],
   "source": [
    "import os\n",
    "\n",
    "from masserstein import Spectrum, NMRSpectrum\n",
    "from masserstein import estimate_proportions\n",
    "\n",
    "from matplotlib import pyplot as plt\n",
    "\n",
    "import numpy as np\n",
    "\n",
    "import pulp\n",
    "\n",
    "import pickle\n",
    "\n",
    "import seaborn as sns\n",
    "from textwrap import wrap\n",
    "\n",
    "from pathlib import Path\n",
    "\n",
    "import pandas as pd"
   ]
  },
  {
   "cell_type": "code",
   "execution_count": 4,
   "id": "87bb9eea",
   "metadata": {},
   "outputs": [],
   "source": [
    "nr_of_experiment = 5"
   ]
  },
  {
   "cell_type": "markdown",
   "id": "e7c66ece",
   "metadata": {},
   "source": [
    "### Experiments data"
   ]
  },
  {
   "cell_type": "code",
   "execution_count": 5,
   "id": "56c33c25",
   "metadata": {},
   "outputs": [],
   "source": [
    "components_dictionary = {'experiment_2': ['Pinene', 'Benzyl benzoate'],\n",
    "                        'experiment_3': ['Pinene', 'Limonene'],\n",
    "                        'experiment_4': ['Benzyl benzoate', 'm Anisaldehyde'],\n",
    "                        'experiment_5': ['Isopropyl myristate', 'Benzyl benzoate', 'Alpha pinene', 'Limonene'],\n",
    "                        'experiment_1': ['Pinene', 'Benzyl benzoate'],\n",
    "                        'experiment_8': ['Lactate', 'Alanine', 'Creatine', 'Creatinine', 'Choline chloride'],\n",
    "                        'experiment_6': ['Lactate', 'Alanine', 'Creatine', 'Creatinine', 'Choline chloride'],\n",
    "                        'experiment_7': ['Lactate', 'Alanine', 'Creatine', 'Creatinine', 'Choline chloride'],\n",
    "                        'experiment_9': ['Benzyl benzoate', 'm Anisaldehyde']}"
   ]
  },
  {
   "cell_type": "code",
   "execution_count": 6,
   "id": "6a227a33",
   "metadata": {},
   "outputs": [],
   "source": [
    "protons_dictionary = {'experiment_2': [16, 12],\n",
    "                        'experiment_3': [16, 16],\n",
    "                        'experiment_4': [12, 8],\n",
    "                        'experiment_5': [34, 12, 16, 16],\n",
    "                        'experiment_1': [16, 12],\n",
    "                        'experiment_8': [4, 4, 5, 5, 13],\n",
    "                        'experiment_6': [4, 4, 5, 5, 13],\n",
    "                        'experiment_7': [4, 4, 5, 5, 13],\n",
    "                        'experiment_9': [12, 8]}"
   ]
  },
  {
   "cell_type": "code",
   "execution_count": 7,
   "id": "418d054f",
   "metadata": {},
   "outputs": [],
   "source": [
    "ground_truth_molar_proportions = {'experiment_2': [0.09088457406472417, 0.9091154259352758],\n",
    "                                    'experiment_3': [0.505, 0.495],\n",
    "                                    'experiment_4': [0.8403875207510383, 0.1596124792489616],\n",
    "                                    'experiment_5': [0.7264578344443725, 0.10578603326645526, 0.081968804608116, 0.08578732768105625],\n",
    "                                    'experiment_1': [0.3865, 0.6135],\n",
    "                                    'experiment_8': [0.3022, 0.2240, 0.1253, 0.2028, 0.1457],\n",
    "                                    'experiment_6': [0.3022, 0.2240, 0.1253, 0.2028, 0.1457],\n",
    "                                    'experiment_7': [0.3022, 0.2240, 0.1253, 0.2028, 0.1457],\n",
    "                                    'experiment_9': [0.3702, 0.6298]}"
   ]
  },
  {
   "cell_type": "code",
   "execution_count": 8,
   "id": "4c99c013",
   "metadata": {},
   "outputs": [],
   "source": [
    "experiments_folders = {'experiment_2': 'experiment_2_intensity_difference',\n",
    "                        'experiment_1': 'experiment_1_miniperfumes',\n",
    "                        'experiment_8': 'experiment_8_metabolites',\n",
    "                         'experiment_4': 'experiment_4_overlapping_and_intensity_difference',\n",
    "                         'experiment_6': 'experiment_6_and_7_shim',\n",
    "                       'experiment_7': 'experiment_6_and_7_shim',\n",
    "                        'experiment_9': 'experiment_9_different_solvents',\n",
    "                        'experiment_5': 'experiment_5_perfumes_and_absent_components',\n",
    "                         'experiment_3': 'experiment_3_overlapping'}"
   ]
  },
  {
   "cell_type": "code",
   "execution_count": 9,
   "id": "5c15336b",
   "metadata": {},
   "outputs": [],
   "source": [
    "best_kappa_mix = [0.06, 0.09, 0.05, 0.23, 0.37, 0.05, 0.11, 0.03, 0.2]"
   ]
  },
  {
   "cell_type": "code",
   "execution_count": 10,
   "id": "53eb8b54",
   "metadata": {},
   "outputs": [],
   "source": [
    "best_kappa_model = [0.2, 0.08, 0.01, 0.02, 0.24, 0.02, 0.02, 0.09, 0.29]"
   ]
  },
  {
   "cell_type": "markdown",
   "id": "e84eddc3",
   "metadata": {},
   "source": [
    "### Loading the data"
   ]
  },
  {
   "cell_type": "code",
   "execution_count": 11,
   "id": "0915a07b",
   "metadata": {},
   "outputs": [],
   "source": [
    "cwd = Path(os.getcwd())\n",
    "path = cwd.parent.absolute()"
   ]
  },
  {
   "cell_type": "code",
   "execution_count": 12,
   "id": "a16bd1b8",
   "metadata": {},
   "outputs": [],
   "source": [
    "if (nr_of_experiment != 6 and nr_of_experiment != 7):\n",
    "    filename = str(path)+'/' + experiments_folders['experiment_' + str(nr_of_experiment)] + '/preprocessed_mix.csv'\n",
    "    mix = np.loadtxt(filename, delimiter=',')\n",
    "else:\n",
    "    filename = str(path) + '/' + experiments_folders['experiment_' + str(nr_of_experiment)] + '/preprocessed_exp'+str(nr_of_experiment)+'_mix.csv'\n",
    "    mix = np.loadtxt(filename, delimiter=',')"
   ]
  },
  {
   "cell_type": "code",
   "execution_count": 13,
   "id": "67c8aeb3",
   "metadata": {},
   "outputs": [],
   "source": [
    "how_many_components = len(components_dictionary['experiment_'+str(nr_of_experiment)])\n",
    "names = ['comp' + str(i) for i in range(how_many_components)]"
   ]
  },
  {
   "cell_type": "code",
   "execution_count": 14,
   "id": "4d402de1",
   "metadata": {},
   "outputs": [],
   "source": [
    "spectra = []\n",
    "for i in range(how_many_components):\n",
    "    if (nr_of_experiment != 6 and nr_of_experiment != 7):\n",
    "        filename = str(path) + '/' + experiments_folders['experiment_' + str(nr_of_experiment)] + \\\n",
    "                    '/preprocessed_comp' + str(i) + '.csv'\n",
    "        spectra.append(np.loadtxt(filename, delimiter=','))\n",
    "    else:\n",
    "        filename = str(path) + '/' + experiments_folders['experiment_' + str(nr_of_experiment)] + \\\n",
    "                    '/preprocessed_exp'+str(nr_of_experiment)+ '_comp'+ str(i) + '.csv'\n",
    "        spectra.append(np.loadtxt(filename, delimiter=','))"
   ]
  },
  {
   "cell_type": "code",
   "execution_count": 15,
   "id": "f68d15b6",
   "metadata": {},
   "outputs": [],
   "source": [
    "spectra2 = []\n",
    "names = []\n",
    "for i in range(len(spectra)):\n",
    "    spectra2.append(NMRSpectrum(confs=list(zip(spectra[i][:,0], spectra[i][:,1])), \n",
    "                                protons=protons_dictionary['experiment_'+str(nr_of_experiment)][i]))\n",
    "    names.append('comp'+str(i))\n",
    "\n",
    "spectra = spectra2\n",
    "del(spectra2)\n",
    "mix = NMRSpectrum(confs=list(zip(mix[:,0], mix[:,1])))"
   ]
  },
  {
   "cell_type": "code",
   "execution_count": 16,
   "id": "066513a3",
   "metadata": {},
   "outputs": [],
   "source": [
    "for i, name in enumerate(names):\n",
    "    globals()[name] = spectra[i]"
   ]
  },
  {
   "cell_type": "code",
   "execution_count": 17,
   "id": "56905c27",
   "metadata": {},
   "outputs": [],
   "source": [
    "# mix.plot(profile=True)\n",
    "# comp0.plot(profile=True)\n",
    "# comp1.plot(profile=True)"
   ]
  },
  {
   "cell_type": "markdown",
   "id": "31df385c",
   "metadata": {},
   "source": [
    "### Estimation"
   ]
  },
  {
   "cell_type": "code",
   "execution_count": 18,
   "id": "d44ebf2f",
   "metadata": {},
   "outputs": [
    {
     "name": "stdout",
     "output_type": "stream",
     "text": [
      "Set parameter Username\n",
      "Academic license - for non-commercial use only - expires 2023-11-10\n"
     ]
    },
    {
     "name": "stderr",
     "output_type": "stream",
     "text": [
      "Initial filtering of formulas: 100%|███████████| 4/4 [00:00<00:00, 668.89it/s]\n"
     ]
    },
    {
     "name": "stdout",
     "output_type": "stream",
     "text": [
      "Removed theoretical spectra due to no matching experimental peaks: []\n",
      "Envelope bounds: [(-1.49913, 10.4986, 0), (-1.49913, 10.4986, 1), (-1.49913, 10.4986, 2), (-1.49913, 10.4986, 3)]\n"
     ]
    },
    {
     "name": "stderr",
     "output_type": "stream",
     "text": [
      "Computing chunks: 100%|█████████████████████| 4/4 [00:00<00:00, 132104.06it/s]\n"
     ]
    },
    {
     "name": "stdout",
     "output_type": "stream",
     "text": [
      "Number of chunks: 1\n",
      "ChunkIDs: [0, 0, 0, 0]\n",
      "Chunk bounds: [(-1.8691300000000002, 10.868599999999999)]\n"
     ]
    },
    {
     "name": "stderr",
     "output_type": "stream",
     "text": [
      "Splitting the experimental spectrum into chunks: 12449it [00:00, 2726483.76it/s]\n"
     ]
    },
    {
     "name": "stdout",
     "output_type": "stream",
     "text": [
      "Ion currents in chunks: [0.9999999999999991]\n"
     ]
    },
    {
     "name": "stderr",
     "output_type": "stream",
     "text": [
      "\r",
      "Deconvolving chunks:   0%|                              | 0/1 [00:00<?, ?it/s]"
     ]
    },
    {
     "name": "stdout",
     "output_type": "stream",
     "text": [
      "Deconvolving chunk 0\n"
     ]
    },
    {
     "name": "stderr",
     "output_type": "stream",
     "text": [
      "/home/basia/.local/lib/python3.10/site-packages/pulp/pulp.py:1352: UserWarning: Spaces are not permitted in the name. Converted to '_'\n",
      "  warnings.warn(\"Spaces are not permitted in the name. Converted to '_'\")\n",
      "Deconvolving chunks: 100%|██████████████████████| 1/1 [00:04<00:00,  4.65s/it]"
     ]
    },
    {
     "name": "stdout",
     "output_type": "stream",
     "text": [
      "Chunk %i deconvolution status: Optimal\n",
      "Signal proportion in experimental spectrum: 0.982870188361\n",
      "Noise proportion in experimental spectrum: 0.017129811635999997\n",
      "Total explanation: 0.9999999999970001\n",
      "Noise proportion in combination of theoretical spectra: 0.017293384916\n"
     ]
    },
    {
     "name": "stderr",
     "output_type": "stream",
     "text": [
      "\n"
     ]
    }
   ],
   "source": [
    "estimation_vis = estimate_proportions(mix, spectra,\n",
    "                                        MTD=best_kappa_mix[nr_of_experiment-1], \n",
    "                                        MTD_th=best_kappa_model[nr_of_experiment-1],\n",
    "                                        verbose=True, solver=pulp.GUROBI(msg=False), \n",
    "                                        what_to_compare='area')"
   ]
  },
  {
   "cell_type": "code",
   "execution_count": 19,
   "id": "c58f7242",
   "metadata": {},
   "outputs": [
    {
     "data": {
      "text/plain": [
       "[0.8619606023069992,\n",
       " 0.04356239454299996,\n",
       " 0.044259091624999955,\n",
       " 0.03308809988599997]"
      ]
     },
     "execution_count": 19,
     "metadata": {},
     "output_type": "execute_result"
    }
   ],
   "source": [
    "estimation_vis['proportions']"
   ]
  },
  {
   "cell_type": "code",
   "execution_count": 20,
   "id": "f463c3dd",
   "metadata": {},
   "outputs": [
    {
     "data": {
      "text/plain": [
       "0.017293384915999986"
      ]
     },
     "execution_count": 20,
     "metadata": {},
     "output_type": "execute_result"
    }
   ],
   "source": [
    "estimation_vis['proportion_of_noise_in_theoretical']"
   ]
  },
  {
   "cell_type": "code",
   "execution_count": 21,
   "id": "ca73a54f",
   "metadata": {},
   "outputs": [
    {
     "name": "stderr",
     "output_type": "stream",
     "text": [
      "Initial filtering of formulas: 100%|███████████| 4/4 [00:00<00:00, 544.01it/s]\n"
     ]
    },
    {
     "name": "stdout",
     "output_type": "stream",
     "text": [
      "Removed theoretical spectra due to no matching experimental peaks: []\n",
      "Envelope bounds: [(-1.49913, 10.4986, 0), (-1.49913, 10.4986, 1), (-1.49913, 10.4986, 2), (-1.49913, 10.4986, 3)]\n"
     ]
    },
    {
     "name": "stderr",
     "output_type": "stream",
     "text": [
      "Computing chunks: 100%|█████████████████████| 4/4 [00:00<00:00, 158275.62it/s]\n"
     ]
    },
    {
     "name": "stdout",
     "output_type": "stream",
     "text": [
      "Number of chunks: 1\n",
      "ChunkIDs: [0, 0, 0, 0]\n",
      "Chunk bounds: [(-1.8691300000000002, 10.868599999999999)]\n"
     ]
    },
    {
     "name": "stderr",
     "output_type": "stream",
     "text": [
      "Splitting the experimental spectrum into chunks: 12449it [00:00, 2749599.29it/s]\n"
     ]
    },
    {
     "name": "stdout",
     "output_type": "stream",
     "text": [
      "Ion currents in chunks: [0.9999999999999991]\n"
     ]
    },
    {
     "name": "stderr",
     "output_type": "stream",
     "text": [
      "\r",
      "Deconvolving chunks:   0%|                              | 0/1 [00:00<?, ?it/s]"
     ]
    },
    {
     "name": "stdout",
     "output_type": "stream",
     "text": [
      "Deconvolving chunk 0\n"
     ]
    },
    {
     "name": "stderr",
     "output_type": "stream",
     "text": [
      "Deconvolving chunks: 100%|██████████████████████| 1/1 [00:04<00:00,  4.53s/it]"
     ]
    },
    {
     "name": "stdout",
     "output_type": "stream",
     "text": [
      "Chunk %i deconvolution status: Optimal\n",
      "Signal proportion in experimental spectrum: 0.982870188361\n",
      "Noise proportion in experimental spectrum: 0.017129811635999997\n",
      "Total explanation: 0.9999999999970001\n",
      "Noise proportion in combination of theoretical spectra: 0.017293384916\n"
     ]
    },
    {
     "name": "stderr",
     "output_type": "stream",
     "text": [
      "\n"
     ]
    }
   ],
   "source": [
    "estimation_molar = estimate_proportions(mix, spectra,\n",
    "                                        MTD=best_kappa_mix[nr_of_experiment-1], \n",
    "                                        MTD_th=best_kappa_model[nr_of_experiment-1],\n",
    "                                        verbose=True, solver=pulp.GUROBI(msg=False), \n",
    "                                        what_to_compare='concentration')"
   ]
  },
  {
   "cell_type": "code",
   "execution_count": 22,
   "id": "354693e3",
   "metadata": {},
   "outputs": [
    {
     "data": {
      "text/plain": [
       "[0.7496938254002201,\n",
       " 0.10735096013652845,\n",
       " 0.08180087488116186,\n",
       " 0.0611543395820897]"
      ]
     },
     "execution_count": 22,
     "metadata": {},
     "output_type": "execute_result"
    }
   ],
   "source": [
    "estimation_molar['proportions']"
   ]
  },
  {
   "cell_type": "markdown",
   "id": "536cc3bc",
   "metadata": {},
   "source": [
    "### Transport plan histograms"
   ]
  },
  {
   "cell_type": "code",
   "execution_count": 23,
   "id": "6d4e9f69",
   "metadata": {},
   "outputs": [],
   "source": [
    "components_ints = [np.array(sp.confs)[:,1] for sp in spectra]\n",
    "components_ppm = np.array(spectra[0].confs)[:,0]"
   ]
  },
  {
   "cell_type": "code",
   "execution_count": 24,
   "id": "95e79457",
   "metadata": {},
   "outputs": [],
   "source": [
    "ppm = np.array(mix.confs)[:,0]\n",
    "mix_ints = np.array(mix.confs)[:,1]"
   ]
  },
  {
   "cell_type": "code",
   "execution_count": 25,
   "id": "2295473c",
   "metadata": {},
   "outputs": [],
   "source": [
    "assert np.all(ppm == components_ppm)\n",
    "assert np.all(ppm == estimation_vis['global_mass_axis'])"
   ]
  },
  {
   "cell_type": "markdown",
   "id": "62eb7167",
   "metadata": {},
   "source": [
    "#### Removing signal that went to vortex"
   ]
  },
  {
   "cell_type": "markdown",
   "id": "b68f9e7f",
   "metadata": {},
   "source": [
    "##### Mixture"
   ]
  },
  {
   "cell_type": "code",
   "execution_count": 53,
   "id": "4b9d8c23",
   "metadata": {},
   "outputs": [],
   "source": [
    "mix_without_noise = NMRSpectrum(confs = list(zip(ppm, mix_ints - np.array(estimation_vis['noise']))))"
   ]
  },
  {
   "cell_type": "markdown",
   "id": "bb072b96",
   "metadata": {},
   "source": [
    "##### Components"
   ]
  },
  {
   "cell_type": "code",
   "execution_count": 54,
   "id": "96cc519e",
   "metadata": {},
   "outputs": [],
   "source": [
    "p = np.array(estimation_vis['proportions']).reshape(len(estimation_vis['proportions']),1)"
   ]
  },
  {
   "cell_type": "code",
   "execution_count": 55,
   "id": "63eecd04",
   "metadata": {},
   "outputs": [],
   "source": [
    "names_matmul = ['sum_up_to_'+str(i+1) for i in range(len(spectra))]"
   ]
  },
  {
   "cell_type": "code",
   "execution_count": 56,
   "id": "a1a98331",
   "metadata": {},
   "outputs": [],
   "source": [
    "components_ints = [comp_int.reshape(-1, 1) for comp_int in components_ints]"
   ]
  },
  {
   "cell_type": "code",
   "execution_count": 57,
   "id": "b419d507",
   "metadata": {},
   "outputs": [],
   "source": [
    "X = np.concatenate(components_ints, axis=1)"
   ]
  },
  {
   "cell_type": "code",
   "execution_count": 58,
   "id": "88184931",
   "metadata": {},
   "outputs": [],
   "source": [
    "for i, name in enumerate(names_matmul):\n",
    "    globals()[name] = np.dot(X[:,:(i+1)],p[:(i+1),:])[:,0]"
   ]
  },
  {
   "cell_type": "code",
   "execution_count": 59,
   "id": "2fa3a280",
   "metadata": {},
   "outputs": [],
   "source": [
    "mix_estimation = np.concatenate([ppm.reshape(-1,1), globals()[names_matmul[-1]].reshape(-1,1)], axis=1)"
   ]
  },
  {
   "cell_type": "code",
   "execution_count": 60,
   "id": "9d3f00bc",
   "metadata": {},
   "outputs": [],
   "source": [
    "components_without_noise = NMRSpectrum(confs = list(zip(mix_estimation[:,0], mix_estimation[:,1] - np.array(estimation_vis['noise_in_theoretical']))))"
   ]
  },
  {
   "cell_type": "code",
   "execution_count": 61,
   "id": "7079c712",
   "metadata": {},
   "outputs": [],
   "source": [
    "components_without_noise.trim_negative_intensities()\n",
    "mix_without_noise.trim_negative_intensities()"
   ]
  },
  {
   "cell_type": "code",
   "execution_count": 62,
   "id": "0a830394",
   "metadata": {},
   "outputs": [],
   "source": [
    "components_without_noise.normalize()\n",
    "mix_without_noise.normalize()"
   ]
  },
  {
   "cell_type": "code",
   "execution_count": 63,
   "id": "5e5efb16",
   "metadata": {},
   "outputs": [],
   "source": [
    "# components_without_noise.plot(profile=True)\n",
    "# mix_without_noise.plot(profile=True)"
   ]
  },
  {
   "cell_type": "markdown",
   "id": "a151414b",
   "metadata": {},
   "source": [
    "#### Histograms"
   ]
  },
  {
   "cell_type": "code",
   "execution_count": 64,
   "id": "a22fee02",
   "metadata": {},
   "outputs": [
    {
     "data": {
      "text/plain": [
       "0.03603799585847128"
      ]
     },
     "execution_count": 64,
     "metadata": {},
     "output_type": "execute_result"
    }
   ],
   "source": [
    "mix_without_noise.WSDistance(components_without_noise)"
   ]
  },
  {
   "cell_type": "code",
   "execution_count": 65,
   "id": "dfdace57",
   "metadata": {},
   "outputs": [],
   "source": [
    "mix_without_noise = mix_without_noise.__mul__(1-sum(estimation_vis['proportions']))"
   ]
  },
  {
   "cell_type": "code",
   "execution_count": null,
   "id": "93871133",
   "metadata": {},
   "outputs": [],
   "source": [
    "distances = [abs(x[0]-x[1]) for x in list(mix_without_noise.WSDistanceMoves(components_without_noise))]\n",
    "signals = [x[2] for x in list(mix_without_noise.WSDistanceMoves(components_without_noise))]"
   ]
  },
  {
   "cell_type": "code",
   "execution_count": null,
   "id": "c6207999",
   "metadata": {},
   "outputs": [],
   "source": [
    "distances_signals = list(zip(distances, signals))\n",
    "distances_signals = pd.DataFrame(distances_signals, columns = ['Distances', 'Signals'])\n",
    "distances_signals = distances_signals.groupby('Distances').agg('sum')"
   ]
  },
  {
   "cell_type": "code",
   "execution_count": null,
   "id": "775d107a",
   "metadata": {},
   "outputs": [],
   "source": [
    "MTD=best_kappa_mix[nr_of_experiment-1]\n",
    "MTD_th=best_kappa_model[nr_of_experiment-1]"
   ]
  },
  {
   "cell_type": "code",
   "execution_count": null,
   "id": "e605abb6",
   "metadata": {},
   "outputs": [],
   "source": [
    "distances_signals.loc[MTD] = (1-sum(estimation_vis['proportions']))\n",
    "distances_signals.loc[MTD_th] = estimation_vis['proportion_of_noise_in_theoretical']\n",
    "#distances_signals.sort_index(inplace=True)"
   ]
  },
  {
   "cell_type": "code",
   "execution_count": null,
   "id": "7c339885",
   "metadata": {
    "scrolled": true
   },
   "outputs": [],
   "source": [
    "H, bins = distances_signals['Signals'], distances_signals.index\n",
    "\n",
    "text_position = [0.005, 0.0025, 0.002, 0.005, 0.005, 0.005, 0.005, 0.005, 0.005]\n",
    "text_position_th = [0.005, -0.005, 0.002, 0.005, 0.005, 0.005, 0.005, 0.005, 0.005]\n",
    "#xlims = [0.4, 0.1, 0.3, 0.5, 0.3, 0.3, 0.15, 0.15, 0.4]\n",
    "xlims = [0.25, 0.12, 0.07, 0.3, 0.45, 0.08, 0.14, 0.12, 0.35]\n",
    "#xlims = [0.4, 0.4, 0.4, 0.4, 0.4, 0.4, 0.4, 0.4, 0.4]\n",
    "ylims = [0.05, 0.05, 0.08, 0.275, 0.045, 0.04, 0.032, 0.03, 0.08]\n",
    "\n",
    "fig, ax = plt.subplots()\n",
    "#ax.set_yscale(\"log\")\n",
    "ax.set_xlim(-0.0001, xlims[nr_of_experiment-1])\n",
    "ax.set_ylim(0, ylims[nr_of_experiment-1])\n",
    "\n",
    "widths = [0.002, 0.001, 0.001, 0.004, 0.003, 0.001, 0.0015, 0.001, 0.003]\n",
    "histogram = ax.bar(bins, H, width = widths[nr_of_experiment-1], color='#707070')\n",
    "histogram[-2].set_color('#64add9')\n",
    "histogram[-1].set_color('#ff8bd5')\n",
    "\n",
    "plt.xlabel('Transport distance [ppm]', fontsize=15, labelpad=15)\n",
    "plt.ylabel('Amount of signal transported', fontsize=15, labelpad=15)\n",
    "\n",
    "plt.axvline(x=MTD, color='#64add9')\n",
    "plt.text(MTD + text_position[nr_of_experiment-1], 0.01,'Kappa mixture',rotation=90, color='#64add9')\n",
    "\n",
    "plt.axvline(x=MTD_th, color='#ff8bd5', linestyle='--')\n",
    "#plt.text(MTD_th+ text_position_th[nr_of_experiment-1], 0.01,'Kappa components',rotation=90, color='#A35FC1')\n",
    "plt.text(MTD_th+ text_position_th[nr_of_experiment-1], 0.01,'Kappa components',rotation=90, color='#ff8bd5')\n",
    "\n",
    "plt.tight_layout()\n",
    "plt.show()\n",
    "plt.savefig('distances_histogram_exp_'+str(nr_of_experiment)+'.png', dpi=300)"
   ]
  },
  {
   "cell_type": "code",
   "execution_count": null,
   "id": "94aef01a",
   "metadata": {},
   "outputs": [],
   "source": [
    "percent = 0.99\n",
    "q = H.quantile(q=percent)\n",
    "print(str(percent*100)+'% of signal is transported on distance smaller than '+str(q)+'.' )"
   ]
  },
  {
   "cell_type": "code",
   "execution_count": null,
   "id": "07b66ece",
   "metadata": {},
   "outputs": [],
   "source": [
    "(distances_signals.iloc[:-1,:]).sum()"
   ]
  },
  {
   "cell_type": "code",
   "execution_count": null,
   "id": "7a8dc32d",
   "metadata": {},
   "outputs": [],
   "source": []
  }
 ],
 "metadata": {
  "kernelspec": {
   "display_name": "Python 3 (ipykernel)",
   "language": "python",
   "name": "python3"
  },
  "language_info": {
   "codemirror_mode": {
    "name": "ipython",
    "version": 3
   },
   "file_extension": ".py",
   "mimetype": "text/x-python",
   "name": "python",
   "nbconvert_exporter": "python",
   "pygments_lexer": "ipython3",
   "version": "3.10.6"
  }
 },
 "nbformat": 4,
 "nbformat_minor": 5
}
