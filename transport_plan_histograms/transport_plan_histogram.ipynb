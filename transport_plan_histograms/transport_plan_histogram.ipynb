{
 "cells": [
  {
   "cell_type": "markdown",
   "id": "2278c778",
   "metadata": {},
   "source": [
    "### Settings & imports"
   ]
  },
  {
   "cell_type": "code",
   "execution_count": 1,
   "id": "52249722",
   "metadata": {},
   "outputs": [],
   "source": [
    "%matplotlib notebook"
   ]
  },
  {
   "cell_type": "code",
   "execution_count": 2,
   "id": "6af4ae0a",
   "metadata": {},
   "outputs": [],
   "source": [
    "import masserstein "
   ]
  },
  {
   "cell_type": "code",
   "execution_count": 3,
   "id": "55f0baff",
   "metadata": {},
   "outputs": [],
   "source": [
    "import os\n",
    "\n",
    "from masserstein import Spectrum, NMRSpectrum\n",
    "from masserstein import estimate_proportions\n",
    "\n",
    "from matplotlib import pyplot as plt\n",
    "\n",
    "import numpy as np\n",
    "\n",
    "import pulp\n",
    "\n",
    "import pickle\n",
    "\n",
    "import seaborn as sns\n",
    "from textwrap import wrap\n",
    "\n",
    "from pathlib import Path\n",
    "\n",
    "import pandas as pd"
   ]
  },
  {
   "cell_type": "code",
   "execution_count": 4,
   "id": "87bb9eea",
   "metadata": {},
   "outputs": [],
   "source": [
    "nr_of_experiment = 9"
   ]
  },
  {
   "cell_type": "markdown",
   "id": "e7c66ece",
   "metadata": {},
   "source": [
    "### Experiments data"
   ]
  },
  {
   "cell_type": "code",
   "execution_count": 5,
   "id": "f398d617",
   "metadata": {},
   "outputs": [],
   "source": [
    "components_dictionary = {'experiment_1': ['Pinene', 'Benzyl benzoate'],\n",
    "                        'experiment_2': ['Pinene', 'Limonene'],\n",
    "                        'experiment_7': ['Benzyl benzoate', 'm Anisaldehyde'],\n",
    "                        'experiment_3': ['Isopropyl myristate', 'Benzyl benzoate', 'Alpha pinene', 'Limonene'],\n",
    "                        'experiment_6': ['Pinene', 'Benzyl benzoate'],\n",
    "                        'experiment_5': ['Lactate', 'Alanine', 'Creatine', 'Creatinine', 'Choline chloride'],\n",
    "                        'experiment_9': ['Lactate', 'Alanine', 'Creatine', 'Creatinine', 'Choline chloride'],\n",
    "                        'experiment_4': ['Lactate', 'Alanine', 'Creatine', 'Creatinine', 'Choline chloride'],\n",
    "                        'experiment_8': ['Benzyl benzoate', 'm Anisaldehyde']}"
   ]
  },
  {
   "cell_type": "code",
   "execution_count": 6,
   "id": "21e80170",
   "metadata": {},
   "outputs": [],
   "source": [
    "protons_dictionary = {'experiment_1': [16, 12],\n",
    "                        'experiment_2': [16, 16],\n",
    "                        'experiment_7': [12, 8],\n",
    "                        'experiment_3': [34, 12, 16, 16],\n",
    "                        'experiment_6': [16, 12],\n",
    "                        'experiment_5': [4, 4, 5, 5, 13],\n",
    "                        'experiment_9': [4, 4, 5, 5, 13],\n",
    "                        'experiment_4': [4, 4, 5, 5, 13],\n",
    "                        'experiment_8': [12, 8]}"
   ]
  },
  {
   "cell_type": "code",
   "execution_count": 7,
   "id": "2e5c6823",
   "metadata": {},
   "outputs": [],
   "source": [
    "ground_truth_molar_proportions = {'experiment_1': [0.09088457406472417, 0.9091154259352758],\n",
    "                                    'experiment_2': [0.505, 0.495],\n",
    "                                    'experiment_7': [0.8403875207510383, 0.1596124792489616],\n",
    "                                    'experiment_3': [0.7264578344443725, 0.10578603326645526, 0.081968804608116, 0.08578732768105625],\n",
    "                                    'experiment_6': [0.3865, 0.6135],\n",
    "                                    'experiment_5': [0.3022, 0.2240, 0.1253, 0.2028, 0.1457],\n",
    "                                    'experiment_9': [0.3022, 0.2240, 0.1253, 0.2028, 0.1457],\n",
    "                                    'experiment_4': [0.3022, 0.2240, 0.1253, 0.2028, 0.1457],\n",
    "                                    'experiment_8': [0.3702, 0.6298]}"
   ]
  },
  {
   "cell_type": "code",
   "execution_count": 8,
   "id": "613cdeed",
   "metadata": {},
   "outputs": [],
   "source": [
    "experiments_folders = {'experiment_1': 'experiment_1_intensity_difference',\n",
    "                        'experiment_6': 'experiment_6_miniperfumes',\n",
    "                        'experiment_5': 'experiment_5_metabolites',\n",
    "                         'experiment_7': 'experiment_7_overlapping_and_intensity_difference',\n",
    "                         'experiment_9': 'experiment_9_and_4_shim',\n",
    "                       'experiment_4': 'experiment_9_and_4_shim',\n",
    "                        'experiment_8': 'experiment_8_different_solvents',\n",
    "                        'experiment_3': 'experiment_3_perfumes_and_absent_components',\n",
    "                         'experiment_2': 'experiment_2_overlapping'}"
   ]
  },
  {
   "cell_type": "code",
   "execution_count": 9,
   "id": "260993d8",
   "metadata": {},
   "outputs": [],
   "source": [
    "best_kappa_mix = [0.09, 0.05, 0.37, 0.11, 0.03, 0.06, 0.23, 0.2, 0.05]"
   ]
  },
  {
   "cell_type": "code",
   "execution_count": 10,
   "id": "99d93525",
   "metadata": {},
   "outputs": [],
   "source": [
    "best_kappa_model = [0.08, 0.01, 0.24, 0.02, 0.09, 0.2, 0.02, 0.29, 0.02]"
   ]
  },
  {
   "cell_type": "markdown",
   "id": "e84eddc3",
   "metadata": {},
   "source": [
    "### Loading the data"
   ]
  },
  {
   "cell_type": "code",
   "execution_count": 11,
   "id": "0915a07b",
   "metadata": {},
   "outputs": [],
   "source": [
    "cwd = Path(os.getcwd())\n",
    "path = cwd.parent.absolute()"
   ]
  },
  {
   "cell_type": "code",
   "execution_count": 12,
   "id": "a16bd1b8",
   "metadata": {},
   "outputs": [],
   "source": [
    "if (nr_of_experiment != 9 and nr_of_experiment != 4):\n",
    "    filename = str(path)+'/' + experiments_folders['experiment_' + str(nr_of_experiment)] + '/preprocessed_mix.csv'\n",
    "    mix = np.loadtxt(filename, delimiter=',')\n",
    "else:\n",
    "    filename = str(path) + '/' + experiments_folders['experiment_' + str(nr_of_experiment)] + '/preprocessed_exp'+str(nr_of_experiment)+'_mix.csv'\n",
    "    mix = np.loadtxt(filename, delimiter=',')"
   ]
  },
  {
   "cell_type": "code",
   "execution_count": 13,
   "id": "67c8aeb3",
   "metadata": {},
   "outputs": [],
   "source": [
    "how_many_components = len(components_dictionary['experiment_'+str(nr_of_experiment)])\n",
    "names = ['comp' + str(i) for i in range(how_many_components)]"
   ]
  },
  {
   "cell_type": "code",
   "execution_count": 14,
   "id": "4d402de1",
   "metadata": {},
   "outputs": [],
   "source": [
    "spectra = []\n",
    "for i in range(how_many_components):\n",
    "    if (nr_of_experiment != 4 and nr_of_experiment != 9):\n",
    "        filename = str(path) + '/' + experiments_folders['experiment_' + str(nr_of_experiment)] + \\\n",
    "                    '/preprocessed_comp' + str(i) + '.csv'\n",
    "        spectra.append(np.loadtxt(filename, delimiter=','))\n",
    "    else:\n",
    "        filename = str(path) + '/' + experiments_folders['experiment_' + str(nr_of_experiment)] + \\\n",
    "                    '/preprocessed_exp'+str(nr_of_experiment)+ '_comp'+ str(i) + '.csv'\n",
    "        spectra.append(np.loadtxt(filename, delimiter=','))"
   ]
  },
  {
   "cell_type": "code",
   "execution_count": 15,
   "id": "f68d15b6",
   "metadata": {},
   "outputs": [],
   "source": [
    "spectra2 = []\n",
    "names = []\n",
    "for i in range(len(spectra)):\n",
    "    spectra2.append(NMRSpectrum(confs=list(zip(spectra[i][:,0], spectra[i][:,1])), \n",
    "                                protons=protons_dictionary['experiment_'+str(nr_of_experiment)][i]))\n",
    "    names.append('comp'+str(i))\n",
    "\n",
    "spectra = spectra2\n",
    "del(spectra2)\n",
    "mix = NMRSpectrum(confs=list(zip(mix[:,0], mix[:,1])))"
   ]
  },
  {
   "cell_type": "code",
   "execution_count": 16,
   "id": "066513a3",
   "metadata": {},
   "outputs": [],
   "source": [
    "for i, name in enumerate(names):\n",
    "    globals()[name] = spectra[i]"
   ]
  },
  {
   "cell_type": "code",
   "execution_count": 17,
   "id": "56905c27",
   "metadata": {},
   "outputs": [],
   "source": [
    "# mix.plot(profile=True)\n",
    "# comp0.plot(profile=True)\n",
    "# comp1.plot(profile=True)"
   ]
  },
  {
   "cell_type": "markdown",
   "id": "31df385c",
   "metadata": {},
   "source": [
    "### Estimation"
   ]
  },
  {
   "cell_type": "code",
   "execution_count": 18,
   "id": "d44ebf2f",
   "metadata": {},
   "outputs": [
    {
     "name": "stdout",
     "output_type": "stream",
     "text": [
      "Set parameter Username\n",
      "Academic license - for non-commercial use only - expires 2023-11-10\n"
     ]
    },
    {
     "name": "stderr",
     "output_type": "stream",
     "text": [
      "Initial filtering of formulas: 100%|█████████████| 5/5 [00:00<00:00, 278.27it/s]\n"
     ]
    },
    {
     "name": "stdout",
     "output_type": "stream",
     "text": [
      "Removed theoretical spectra due to no matching experimental peaks: []\n",
      "Envelope bounds: [(0.827366, 4.1272, 0), (0.827366, 4.1272, 1), (0.827366, 4.1272, 2), (0.827366, 4.1272, 3), (0.827366, 4.1272, 4)]\n"
     ]
    },
    {
     "name": "stderr",
     "output_type": "stream",
     "text": [
      "Computing chunks: 100%|███████████████████████| 5/5 [00:00<00:00, 192399.27it/s]\n"
     ]
    },
    {
     "name": "stdout",
     "output_type": "stream",
     "text": [
      "Number of chunks: 1\n",
      "ChunkIDs: [0, 0, 0, 0, 0]\n",
      "Chunk bounds: [(0.777366, 4.1772)]\n"
     ]
    },
    {
     "name": "stderr",
     "output_type": "stream",
     "text": [
      "Splitting the experimental spectrum into chunks: 27129it [00:00, 2865384.23it/s]\n"
     ]
    },
    {
     "name": "stdout",
     "output_type": "stream",
     "text": [
      "Ion currents in chunks: [1.0000000000000013]\n"
     ]
    },
    {
     "name": "stderr",
     "output_type": "stream",
     "text": [
      "\r",
      "Deconvolving chunks:   0%|                                | 0/1 [00:00<?, ?it/s]"
     ]
    },
    {
     "name": "stdout",
     "output_type": "stream",
     "text": [
      "Deconvolving chunk 0\n"
     ]
    },
    {
     "name": "stderr",
     "output_type": "stream",
     "text": [
      "/home/basia/.local/lib/python3.10/site-packages/pulp/pulp.py:1352: UserWarning: Spaces are not permitted in the name. Converted to '_'\n",
      "  warnings.warn(\"Spaces are not permitted in the name. Converted to '_'\")\n",
      "Deconvolving chunks: 100%|████████████████████████| 1/1 [00:14<00:00, 14.46s/it]"
     ]
    },
    {
     "name": "stdout",
     "output_type": "stream",
     "text": [
      "Chunk %i deconvolution status: Optimal\n",
      "Signal proportion in experimental spectrum: 1.0\n",
      "Noise proportion in experimental spectrum: 0.0\n",
      "Total explanation: 1.0\n",
      "Noise proportion in combination of theoretical spectra: 0.027127614012\n"
     ]
    },
    {
     "name": "stderr",
     "output_type": "stream",
     "text": [
      "\n"
     ]
    }
   ],
   "source": [
    "estimation_vis = estimate_proportions(mix, spectra,\n",
    "                                        MTD=best_kappa_mix[nr_of_experiment-1], \n",
    "                                        MTD_th=best_kappa_model[nr_of_experiment-1],\n",
    "                                        verbose=True, solver=pulp.GUROBI(msg=False), \n",
    "                                        what_to_compare='area')"
   ]
  },
  {
   "cell_type": "code",
   "execution_count": 19,
   "id": "c58f7242",
   "metadata": {},
   "outputs": [
    {
     "data": {
      "text/plain": [
       "[0.2274974749980003,\n",
       " 0.1505718363740002,\n",
       " 0.11728689957200016,\n",
       " 0.17735592181800025,\n",
       " 0.32728786723800046]"
      ]
     },
     "execution_count": 19,
     "metadata": {},
     "output_type": "execute_result"
    }
   ],
   "source": [
    "estimation_vis['proportions']"
   ]
  },
  {
   "cell_type": "code",
   "execution_count": 20,
   "id": "f463c3dd",
   "metadata": {},
   "outputs": [
    {
     "data": {
      "text/plain": [
       "0.027127614012000034"
      ]
     },
     "execution_count": 20,
     "metadata": {},
     "output_type": "execute_result"
    }
   ],
   "source": [
    "estimation_vis['proportion_of_noise_in_theoretical']"
   ]
  },
  {
   "cell_type": "code",
   "execution_count": 21,
   "id": "ca73a54f",
   "metadata": {},
   "outputs": [
    {
     "name": "stderr",
     "output_type": "stream",
     "text": [
      "Initial filtering of formulas: 100%|█████████████| 5/5 [00:00<00:00, 253.88it/s]\n"
     ]
    },
    {
     "name": "stdout",
     "output_type": "stream",
     "text": [
      "Removed theoretical spectra due to no matching experimental peaks: []\n",
      "Envelope bounds: [(0.827366, 4.1272, 0), (0.827366, 4.1272, 1), (0.827366, 4.1272, 2), (0.827366, 4.1272, 3), (0.827366, 4.1272, 4)]\n"
     ]
    },
    {
     "name": "stderr",
     "output_type": "stream",
     "text": [
      "Computing chunks: 100%|███████████████████████| 5/5 [00:00<00:00, 188932.61it/s]\n"
     ]
    },
    {
     "name": "stdout",
     "output_type": "stream",
     "text": [
      "Number of chunks: 1\n",
      "ChunkIDs: [0, 0, 0, 0, 0]\n",
      "Chunk bounds: [(0.777366, 4.1772)]\n"
     ]
    },
    {
     "name": "stderr",
     "output_type": "stream",
     "text": [
      "Splitting the experimental spectrum into chunks: 27129it [00:00, 2851954.31it/s]\n"
     ]
    },
    {
     "name": "stdout",
     "output_type": "stream",
     "text": [
      "Ion currents in chunks: [1.0000000000000013]\n"
     ]
    },
    {
     "name": "stderr",
     "output_type": "stream",
     "text": [
      "\r",
      "Deconvolving chunks:   0%|                                | 0/1 [00:00<?, ?it/s]"
     ]
    },
    {
     "name": "stdout",
     "output_type": "stream",
     "text": [
      "Deconvolving chunk 0\n"
     ]
    },
    {
     "name": "stderr",
     "output_type": "stream",
     "text": [
      "Deconvolving chunks: 100%|████████████████████████| 1/1 [00:14<00:00, 14.52s/it]"
     ]
    },
    {
     "name": "stdout",
     "output_type": "stream",
     "text": [
      "Chunk %i deconvolution status: Optimal\n",
      "Signal proportion in experimental spectrum: 1.0\n",
      "Noise proportion in experimental spectrum: 0.0\n",
      "Total explanation: 1.0\n",
      "Noise proportion in combination of theoretical spectra: 0.027127614012\n"
     ]
    },
    {
     "name": "stderr",
     "output_type": "stream",
     "text": [
      "\n"
     ]
    }
   ],
   "source": [
    "estimation_molar = estimate_proportions(mix, spectra,\n",
    "                                        MTD=best_kappa_mix[nr_of_experiment-1], \n",
    "                                        MTD_th=best_kappa_model[nr_of_experiment-1],\n",
    "                                        verbose=True, solver=pulp.GUROBI(msg=False), \n",
    "                                        what_to_compare='concentration')"
   ]
  },
  {
   "cell_type": "code",
   "execution_count": 22,
   "id": "354693e3",
   "metadata": {},
   "outputs": [
    {
     "data": {
      "text/plain": [
       "[0.3184065028416952,\n",
       " 0.21074102842995854,\n",
       " 0.1313242233468972,\n",
       " 0.19858252519006975,\n",
       " 0.14094572019137933]"
      ]
     },
     "execution_count": 22,
     "metadata": {},
     "output_type": "execute_result"
    }
   ],
   "source": [
    "estimation_molar['proportions']"
   ]
  },
  {
   "cell_type": "markdown",
   "id": "536cc3bc",
   "metadata": {},
   "source": [
    "### Transport plan histograms"
   ]
  },
  {
   "cell_type": "code",
   "execution_count": 23,
   "id": "6d4e9f69",
   "metadata": {},
   "outputs": [],
   "source": [
    "components_ints = [np.array(sp.confs)[:,1] for sp in spectra]\n",
    "components_ppm = np.array(spectra[0].confs)[:,0]"
   ]
  },
  {
   "cell_type": "code",
   "execution_count": 24,
   "id": "95e79457",
   "metadata": {},
   "outputs": [],
   "source": [
    "ppm = np.array(mix.confs)[:,0]\n",
    "mix_ints = np.array(mix.confs)[:,1]"
   ]
  },
  {
   "cell_type": "code",
   "execution_count": 25,
   "id": "2295473c",
   "metadata": {},
   "outputs": [],
   "source": [
    "assert np.all(ppm == components_ppm)\n",
    "assert np.all(ppm == estimation_vis['global_mass_axis'])"
   ]
  },
  {
   "cell_type": "markdown",
   "id": "62eb7167",
   "metadata": {},
   "source": [
    "#### Removing signal that went to vortex"
   ]
  },
  {
   "cell_type": "markdown",
   "id": "b68f9e7f",
   "metadata": {},
   "source": [
    "##### Mixture"
   ]
  },
  {
   "cell_type": "code",
   "execution_count": 26,
   "id": "4b9d8c23",
   "metadata": {},
   "outputs": [],
   "source": [
    "mix_without_noise = NMRSpectrum(confs = list(zip(ppm, mix_ints - np.array(estimation_vis['noise']))))"
   ]
  },
  {
   "cell_type": "markdown",
   "id": "bb072b96",
   "metadata": {},
   "source": [
    "##### Components"
   ]
  },
  {
   "cell_type": "code",
   "execution_count": 27,
   "id": "96cc519e",
   "metadata": {},
   "outputs": [],
   "source": [
    "p = np.array(estimation_vis['proportions']).reshape(len(estimation_vis['proportions']),1)"
   ]
  },
  {
   "cell_type": "code",
   "execution_count": 28,
   "id": "63eecd04",
   "metadata": {},
   "outputs": [],
   "source": [
    "names_matmul = ['sum_up_to_'+str(i+1) for i in range(len(spectra))]"
   ]
  },
  {
   "cell_type": "code",
   "execution_count": 29,
   "id": "a1a98331",
   "metadata": {},
   "outputs": [],
   "source": [
    "components_ints = [comp_int.reshape(-1, 1) for comp_int in components_ints]"
   ]
  },
  {
   "cell_type": "code",
   "execution_count": 30,
   "id": "b419d507",
   "metadata": {},
   "outputs": [],
   "source": [
    "X = np.concatenate(components_ints, axis=1)"
   ]
  },
  {
   "cell_type": "code",
   "execution_count": 31,
   "id": "88184931",
   "metadata": {},
   "outputs": [],
   "source": [
    "for i, name in enumerate(names_matmul):\n",
    "    globals()[name] = np.dot(X[:,:(i+1)],p[:(i+1),:])[:,0]"
   ]
  },
  {
   "cell_type": "code",
   "execution_count": 32,
   "id": "2fa3a280",
   "metadata": {},
   "outputs": [],
   "source": [
    "mix_estimation = np.concatenate([ppm.reshape(-1,1), globals()[names_matmul[-1]].reshape(-1,1)], axis=1)"
   ]
  },
  {
   "cell_type": "code",
   "execution_count": 33,
   "id": "9d3f00bc",
   "metadata": {},
   "outputs": [],
   "source": [
    "components_without_noise = NMRSpectrum(confs = list(zip(mix_estimation[:,0], mix_estimation[:,1] - np.array(estimation_vis['noise_in_theoretical']))))"
   ]
  },
  {
   "cell_type": "code",
   "execution_count": 34,
   "id": "7079c712",
   "metadata": {},
   "outputs": [],
   "source": [
    "components_without_noise.trim_negative_intensities()\n",
    "mix_without_noise.trim_negative_intensities()"
   ]
  },
  {
   "cell_type": "code",
   "execution_count": 35,
   "id": "0a830394",
   "metadata": {},
   "outputs": [],
   "source": [
    "components_without_noise.normalize()\n",
    "mix_without_noise.normalize()"
   ]
  },
  {
   "cell_type": "code",
   "execution_count": 36,
   "id": "5e5efb16",
   "metadata": {},
   "outputs": [],
   "source": [
    "# components_without_noise.plot(profile=True)\n",
    "# mix_without_noise.plot(profile=True)"
   ]
  },
  {
   "cell_type": "markdown",
   "id": "a151414b",
   "metadata": {},
   "source": [
    "#### Histograms"
   ]
  },
  {
   "cell_type": "code",
   "execution_count": 37,
   "id": "a22fee02",
   "metadata": {},
   "outputs": [
    {
     "data": {
      "text/plain": [
       "0.0038477098438854016"
      ]
     },
     "execution_count": 37,
     "metadata": {},
     "output_type": "execute_result"
    }
   ],
   "source": [
    "mix_without_noise.WSDistance(components_without_noise)"
   ]
  },
  {
   "cell_type": "code",
   "execution_count": 38,
   "id": "dfdace57",
   "metadata": {},
   "outputs": [],
   "source": [
    "#mix_without_noise = mix_without_noise.__mul__(1-sum(estimation_vis['proportions']))"
   ]
  },
  {
   "cell_type": "code",
   "execution_count": 39,
   "id": "93871133",
   "metadata": {},
   "outputs": [],
   "source": [
    "distances = [abs(x[0]-x[1]) for x in list(mix_without_noise.WSDistanceMoves(components_without_noise))]\n",
    "signals = [x[2] for x in list(mix_without_noise.WSDistanceMoves(components_without_noise))]"
   ]
  },
  {
   "cell_type": "code",
   "execution_count": 40,
   "id": "c6207999",
   "metadata": {},
   "outputs": [],
   "source": [
    "distances_signals = list(zip(distances, signals))\n",
    "distances_signals = pd.DataFrame(distances_signals, columns = ['Distances', 'Signals'])\n",
    "distances_signals = distances_signals.groupby('Distances').agg('sum')\n",
    "distances_signals.sort_index(inplace=True)"
   ]
  },
  {
   "cell_type": "code",
   "execution_count": 41,
   "id": "775d107a",
   "metadata": {},
   "outputs": [],
   "source": [
    "MTD=best_kappa_mix[nr_of_experiment-1]\n",
    "MTD_th=best_kappa_model[nr_of_experiment-1]"
   ]
  },
  {
   "cell_type": "code",
   "execution_count": 42,
   "id": "e605abb6",
   "metadata": {},
   "outputs": [],
   "source": [
    "distances_signals.loc[MTD] = (1-sum(estimation_vis['proportions']))\n",
    "distances_signals.loc[MTD_th] = estimation_vis['proportion_of_noise_in_theoretical']\n",
    "#distances_signals.sort_index(inplace=True)"
   ]
  },
  {
   "cell_type": "code",
   "execution_count": 49,
   "id": "7c339885",
   "metadata": {
    "scrolled": false
   },
   "outputs": [
    {
     "data": {
      "application/javascript": [
       "/* Put everything inside the global mpl namespace */\n",
       "/* global mpl */\n",
       "window.mpl = {};\n",
       "\n",
       "mpl.get_websocket_type = function () {\n",
       "    if (typeof WebSocket !== 'undefined') {\n",
       "        return WebSocket;\n",
       "    } else if (typeof MozWebSocket !== 'undefined') {\n",
       "        return MozWebSocket;\n",
       "    } else {\n",
       "        alert(\n",
       "            'Your browser does not have WebSocket support. ' +\n",
       "                'Please try Chrome, Safari or Firefox ≥ 6. ' +\n",
       "                'Firefox 4 and 5 are also supported but you ' +\n",
       "                'have to enable WebSockets in about:config.'\n",
       "        );\n",
       "    }\n",
       "};\n",
       "\n",
       "mpl.figure = function (figure_id, websocket, ondownload, parent_element) {\n",
       "    this.id = figure_id;\n",
       "\n",
       "    this.ws = websocket;\n",
       "\n",
       "    this.supports_binary = this.ws.binaryType !== undefined;\n",
       "\n",
       "    if (!this.supports_binary) {\n",
       "        var warnings = document.getElementById('mpl-warnings');\n",
       "        if (warnings) {\n",
       "            warnings.style.display = 'block';\n",
       "            warnings.textContent =\n",
       "                'This browser does not support binary websocket messages. ' +\n",
       "                'Performance may be slow.';\n",
       "        }\n",
       "    }\n",
       "\n",
       "    this.imageObj = new Image();\n",
       "\n",
       "    this.context = undefined;\n",
       "    this.message = undefined;\n",
       "    this.canvas = undefined;\n",
       "    this.rubberband_canvas = undefined;\n",
       "    this.rubberband_context = undefined;\n",
       "    this.format_dropdown = undefined;\n",
       "\n",
       "    this.image_mode = 'full';\n",
       "\n",
       "    this.root = document.createElement('div');\n",
       "    this.root.setAttribute('style', 'display: inline-block');\n",
       "    this._root_extra_style(this.root);\n",
       "\n",
       "    parent_element.appendChild(this.root);\n",
       "\n",
       "    this._init_header(this);\n",
       "    this._init_canvas(this);\n",
       "    this._init_toolbar(this);\n",
       "\n",
       "    var fig = this;\n",
       "\n",
       "    this.waiting = false;\n",
       "\n",
       "    this.ws.onopen = function () {\n",
       "        fig.send_message('supports_binary', { value: fig.supports_binary });\n",
       "        fig.send_message('send_image_mode', {});\n",
       "        if (fig.ratio !== 1) {\n",
       "            fig.send_message('set_device_pixel_ratio', {\n",
       "                device_pixel_ratio: fig.ratio,\n",
       "            });\n",
       "        }\n",
       "        fig.send_message('refresh', {});\n",
       "    };\n",
       "\n",
       "    this.imageObj.onload = function () {\n",
       "        if (fig.image_mode === 'full') {\n",
       "            // Full images could contain transparency (where diff images\n",
       "            // almost always do), so we need to clear the canvas so that\n",
       "            // there is no ghosting.\n",
       "            fig.context.clearRect(0, 0, fig.canvas.width, fig.canvas.height);\n",
       "        }\n",
       "        fig.context.drawImage(fig.imageObj, 0, 0);\n",
       "    };\n",
       "\n",
       "    this.imageObj.onunload = function () {\n",
       "        fig.ws.close();\n",
       "    };\n",
       "\n",
       "    this.ws.onmessage = this._make_on_message_function(this);\n",
       "\n",
       "    this.ondownload = ondownload;\n",
       "};\n",
       "\n",
       "mpl.figure.prototype._init_header = function () {\n",
       "    var titlebar = document.createElement('div');\n",
       "    titlebar.classList =\n",
       "        'ui-dialog-titlebar ui-widget-header ui-corner-all ui-helper-clearfix';\n",
       "    var titletext = document.createElement('div');\n",
       "    titletext.classList = 'ui-dialog-title';\n",
       "    titletext.setAttribute(\n",
       "        'style',\n",
       "        'width: 100%; text-align: center; padding: 3px;'\n",
       "    );\n",
       "    titlebar.appendChild(titletext);\n",
       "    this.root.appendChild(titlebar);\n",
       "    this.header = titletext;\n",
       "};\n",
       "\n",
       "mpl.figure.prototype._canvas_extra_style = function (_canvas_div) {};\n",
       "\n",
       "mpl.figure.prototype._root_extra_style = function (_canvas_div) {};\n",
       "\n",
       "mpl.figure.prototype._init_canvas = function () {\n",
       "    var fig = this;\n",
       "\n",
       "    var canvas_div = (this.canvas_div = document.createElement('div'));\n",
       "    canvas_div.setAttribute('tabindex', '0');\n",
       "    canvas_div.setAttribute(\n",
       "        'style',\n",
       "        'border: 1px solid #ddd;' +\n",
       "            'box-sizing: content-box;' +\n",
       "            'clear: both;' +\n",
       "            'min-height: 1px;' +\n",
       "            'min-width: 1px;' +\n",
       "            'outline: 0;' +\n",
       "            'overflow: hidden;' +\n",
       "            'position: relative;' +\n",
       "            'resize: both;' +\n",
       "            'z-index: 2;'\n",
       "    );\n",
       "\n",
       "    function on_keyboard_event_closure(name) {\n",
       "        return function (event) {\n",
       "            return fig.key_event(event, name);\n",
       "        };\n",
       "    }\n",
       "\n",
       "    canvas_div.addEventListener(\n",
       "        'keydown',\n",
       "        on_keyboard_event_closure('key_press')\n",
       "    );\n",
       "    canvas_div.addEventListener(\n",
       "        'keyup',\n",
       "        on_keyboard_event_closure('key_release')\n",
       "    );\n",
       "\n",
       "    this._canvas_extra_style(canvas_div);\n",
       "    this.root.appendChild(canvas_div);\n",
       "\n",
       "    var canvas = (this.canvas = document.createElement('canvas'));\n",
       "    canvas.classList.add('mpl-canvas');\n",
       "    canvas.setAttribute(\n",
       "        'style',\n",
       "        'box-sizing: content-box;' +\n",
       "            'pointer-events: none;' +\n",
       "            'position: relative;' +\n",
       "            'z-index: 0;'\n",
       "    );\n",
       "\n",
       "    this.context = canvas.getContext('2d');\n",
       "\n",
       "    var backingStore =\n",
       "        this.context.backingStorePixelRatio ||\n",
       "        this.context.webkitBackingStorePixelRatio ||\n",
       "        this.context.mozBackingStorePixelRatio ||\n",
       "        this.context.msBackingStorePixelRatio ||\n",
       "        this.context.oBackingStorePixelRatio ||\n",
       "        this.context.backingStorePixelRatio ||\n",
       "        1;\n",
       "\n",
       "    this.ratio = (window.devicePixelRatio || 1) / backingStore;\n",
       "\n",
       "    var rubberband_canvas = (this.rubberband_canvas = document.createElement(\n",
       "        'canvas'\n",
       "    ));\n",
       "    rubberband_canvas.setAttribute(\n",
       "        'style',\n",
       "        'box-sizing: content-box;' +\n",
       "            'left: 0;' +\n",
       "            'pointer-events: none;' +\n",
       "            'position: absolute;' +\n",
       "            'top: 0;' +\n",
       "            'z-index: 1;'\n",
       "    );\n",
       "\n",
       "    // Apply a ponyfill if ResizeObserver is not implemented by browser.\n",
       "    if (this.ResizeObserver === undefined) {\n",
       "        if (window.ResizeObserver !== undefined) {\n",
       "            this.ResizeObserver = window.ResizeObserver;\n",
       "        } else {\n",
       "            var obs = _JSXTOOLS_RESIZE_OBSERVER({});\n",
       "            this.ResizeObserver = obs.ResizeObserver;\n",
       "        }\n",
       "    }\n",
       "\n",
       "    this.resizeObserverInstance = new this.ResizeObserver(function (entries) {\n",
       "        var nentries = entries.length;\n",
       "        for (var i = 0; i < nentries; i++) {\n",
       "            var entry = entries[i];\n",
       "            var width, height;\n",
       "            if (entry.contentBoxSize) {\n",
       "                if (entry.contentBoxSize instanceof Array) {\n",
       "                    // Chrome 84 implements new version of spec.\n",
       "                    width = entry.contentBoxSize[0].inlineSize;\n",
       "                    height = entry.contentBoxSize[0].blockSize;\n",
       "                } else {\n",
       "                    // Firefox implements old version of spec.\n",
       "                    width = entry.contentBoxSize.inlineSize;\n",
       "                    height = entry.contentBoxSize.blockSize;\n",
       "                }\n",
       "            } else {\n",
       "                // Chrome <84 implements even older version of spec.\n",
       "                width = entry.contentRect.width;\n",
       "                height = entry.contentRect.height;\n",
       "            }\n",
       "\n",
       "            // Keep the size of the canvas and rubber band canvas in sync with\n",
       "            // the canvas container.\n",
       "            if (entry.devicePixelContentBoxSize) {\n",
       "                // Chrome 84 implements new version of spec.\n",
       "                canvas.setAttribute(\n",
       "                    'width',\n",
       "                    entry.devicePixelContentBoxSize[0].inlineSize\n",
       "                );\n",
       "                canvas.setAttribute(\n",
       "                    'height',\n",
       "                    entry.devicePixelContentBoxSize[0].blockSize\n",
       "                );\n",
       "            } else {\n",
       "                canvas.setAttribute('width', width * fig.ratio);\n",
       "                canvas.setAttribute('height', height * fig.ratio);\n",
       "            }\n",
       "            /* This rescales the canvas back to display pixels, so that it\n",
       "             * appears correct on HiDPI screens. */\n",
       "            canvas.style.width = width + 'px';\n",
       "            canvas.style.height = height + 'px';\n",
       "\n",
       "            rubberband_canvas.setAttribute('width', width);\n",
       "            rubberband_canvas.setAttribute('height', height);\n",
       "\n",
       "            // And update the size in Python. We ignore the initial 0/0 size\n",
       "            // that occurs as the element is placed into the DOM, which should\n",
       "            // otherwise not happen due to the minimum size styling.\n",
       "            if (fig.ws.readyState == 1 && width != 0 && height != 0) {\n",
       "                fig.request_resize(width, height);\n",
       "            }\n",
       "        }\n",
       "    });\n",
       "    this.resizeObserverInstance.observe(canvas_div);\n",
       "\n",
       "    function on_mouse_event_closure(name) {\n",
       "        /* User Agent sniffing is bad, but WebKit is busted:\n",
       "         * https://bugs.webkit.org/show_bug.cgi?id=144526\n",
       "         * https://bugs.webkit.org/show_bug.cgi?id=181818\n",
       "         * The worst that happens here is that they get an extra browser\n",
       "         * selection when dragging, if this check fails to catch them.\n",
       "         */\n",
       "        var UA = navigator.userAgent;\n",
       "        var isWebKit = /AppleWebKit/.test(UA) && !/Chrome/.test(UA);\n",
       "        if(isWebKit) {\n",
       "            return function (event) {\n",
       "                /* This prevents the web browser from automatically changing to\n",
       "                 * the text insertion cursor when the button is pressed. We\n",
       "                 * want to control all of the cursor setting manually through\n",
       "                 * the 'cursor' event from matplotlib */\n",
       "                event.preventDefault()\n",
       "                return fig.mouse_event(event, name);\n",
       "            };\n",
       "        } else {\n",
       "            return function (event) {\n",
       "                return fig.mouse_event(event, name);\n",
       "            };\n",
       "        }\n",
       "    }\n",
       "\n",
       "    canvas_div.addEventListener(\n",
       "        'mousedown',\n",
       "        on_mouse_event_closure('button_press')\n",
       "    );\n",
       "    canvas_div.addEventListener(\n",
       "        'mouseup',\n",
       "        on_mouse_event_closure('button_release')\n",
       "    );\n",
       "    canvas_div.addEventListener(\n",
       "        'dblclick',\n",
       "        on_mouse_event_closure('dblclick')\n",
       "    );\n",
       "    // Throttle sequential mouse events to 1 every 20ms.\n",
       "    canvas_div.addEventListener(\n",
       "        'mousemove',\n",
       "        on_mouse_event_closure('motion_notify')\n",
       "    );\n",
       "\n",
       "    canvas_div.addEventListener(\n",
       "        'mouseenter',\n",
       "        on_mouse_event_closure('figure_enter')\n",
       "    );\n",
       "    canvas_div.addEventListener(\n",
       "        'mouseleave',\n",
       "        on_mouse_event_closure('figure_leave')\n",
       "    );\n",
       "\n",
       "    canvas_div.addEventListener('wheel', function (event) {\n",
       "        if (event.deltaY < 0) {\n",
       "            event.step = 1;\n",
       "        } else {\n",
       "            event.step = -1;\n",
       "        }\n",
       "        on_mouse_event_closure('scroll')(event);\n",
       "    });\n",
       "\n",
       "    canvas_div.appendChild(canvas);\n",
       "    canvas_div.appendChild(rubberband_canvas);\n",
       "\n",
       "    this.rubberband_context = rubberband_canvas.getContext('2d');\n",
       "    this.rubberband_context.strokeStyle = '#000000';\n",
       "\n",
       "    this._resize_canvas = function (width, height, forward) {\n",
       "        if (forward) {\n",
       "            canvas_div.style.width = width + 'px';\n",
       "            canvas_div.style.height = height + 'px';\n",
       "        }\n",
       "    };\n",
       "\n",
       "    // Disable right mouse context menu.\n",
       "    canvas_div.addEventListener('contextmenu', function (_e) {\n",
       "        event.preventDefault();\n",
       "        return false;\n",
       "    });\n",
       "\n",
       "    function set_focus() {\n",
       "        canvas.focus();\n",
       "        canvas_div.focus();\n",
       "    }\n",
       "\n",
       "    window.setTimeout(set_focus, 100);\n",
       "};\n",
       "\n",
       "mpl.figure.prototype._init_toolbar = function () {\n",
       "    var fig = this;\n",
       "\n",
       "    var toolbar = document.createElement('div');\n",
       "    toolbar.classList = 'mpl-toolbar';\n",
       "    this.root.appendChild(toolbar);\n",
       "\n",
       "    function on_click_closure(name) {\n",
       "        return function (_event) {\n",
       "            return fig.toolbar_button_onclick(name);\n",
       "        };\n",
       "    }\n",
       "\n",
       "    function on_mouseover_closure(tooltip) {\n",
       "        return function (event) {\n",
       "            if (!event.currentTarget.disabled) {\n",
       "                return fig.toolbar_button_onmouseover(tooltip);\n",
       "            }\n",
       "        };\n",
       "    }\n",
       "\n",
       "    fig.buttons = {};\n",
       "    var buttonGroup = document.createElement('div');\n",
       "    buttonGroup.classList = 'mpl-button-group';\n",
       "    for (var toolbar_ind in mpl.toolbar_items) {\n",
       "        var name = mpl.toolbar_items[toolbar_ind][0];\n",
       "        var tooltip = mpl.toolbar_items[toolbar_ind][1];\n",
       "        var image = mpl.toolbar_items[toolbar_ind][2];\n",
       "        var method_name = mpl.toolbar_items[toolbar_ind][3];\n",
       "\n",
       "        if (!name) {\n",
       "            /* Instead of a spacer, we start a new button group. */\n",
       "            if (buttonGroup.hasChildNodes()) {\n",
       "                toolbar.appendChild(buttonGroup);\n",
       "            }\n",
       "            buttonGroup = document.createElement('div');\n",
       "            buttonGroup.classList = 'mpl-button-group';\n",
       "            continue;\n",
       "        }\n",
       "\n",
       "        var button = (fig.buttons[name] = document.createElement('button'));\n",
       "        button.classList = 'mpl-widget';\n",
       "        button.setAttribute('role', 'button');\n",
       "        button.setAttribute('aria-disabled', 'false');\n",
       "        button.addEventListener('click', on_click_closure(method_name));\n",
       "        button.addEventListener('mouseover', on_mouseover_closure(tooltip));\n",
       "\n",
       "        var icon_img = document.createElement('img');\n",
       "        icon_img.src = '_images/' + image + '.png';\n",
       "        icon_img.srcset = '_images/' + image + '_large.png 2x';\n",
       "        icon_img.alt = tooltip;\n",
       "        button.appendChild(icon_img);\n",
       "\n",
       "        buttonGroup.appendChild(button);\n",
       "    }\n",
       "\n",
       "    if (buttonGroup.hasChildNodes()) {\n",
       "        toolbar.appendChild(buttonGroup);\n",
       "    }\n",
       "\n",
       "    var fmt_picker = document.createElement('select');\n",
       "    fmt_picker.classList = 'mpl-widget';\n",
       "    toolbar.appendChild(fmt_picker);\n",
       "    this.format_dropdown = fmt_picker;\n",
       "\n",
       "    for (var ind in mpl.extensions) {\n",
       "        var fmt = mpl.extensions[ind];\n",
       "        var option = document.createElement('option');\n",
       "        option.selected = fmt === mpl.default_extension;\n",
       "        option.innerHTML = fmt;\n",
       "        fmt_picker.appendChild(option);\n",
       "    }\n",
       "\n",
       "    var status_bar = document.createElement('span');\n",
       "    status_bar.classList = 'mpl-message';\n",
       "    toolbar.appendChild(status_bar);\n",
       "    this.message = status_bar;\n",
       "};\n",
       "\n",
       "mpl.figure.prototype.request_resize = function (x_pixels, y_pixels) {\n",
       "    // Request matplotlib to resize the figure. Matplotlib will then trigger a resize in the client,\n",
       "    // which will in turn request a refresh of the image.\n",
       "    this.send_message('resize', { width: x_pixels, height: y_pixels });\n",
       "};\n",
       "\n",
       "mpl.figure.prototype.send_message = function (type, properties) {\n",
       "    properties['type'] = type;\n",
       "    properties['figure_id'] = this.id;\n",
       "    this.ws.send(JSON.stringify(properties));\n",
       "};\n",
       "\n",
       "mpl.figure.prototype.send_draw_message = function () {\n",
       "    if (!this.waiting) {\n",
       "        this.waiting = true;\n",
       "        this.ws.send(JSON.stringify({ type: 'draw', figure_id: this.id }));\n",
       "    }\n",
       "};\n",
       "\n",
       "mpl.figure.prototype.handle_save = function (fig, _msg) {\n",
       "    var format_dropdown = fig.format_dropdown;\n",
       "    var format = format_dropdown.options[format_dropdown.selectedIndex].value;\n",
       "    fig.ondownload(fig, format);\n",
       "};\n",
       "\n",
       "mpl.figure.prototype.handle_resize = function (fig, msg) {\n",
       "    var size = msg['size'];\n",
       "    if (size[0] !== fig.canvas.width || size[1] !== fig.canvas.height) {\n",
       "        fig._resize_canvas(size[0], size[1], msg['forward']);\n",
       "        fig.send_message('refresh', {});\n",
       "    }\n",
       "};\n",
       "\n",
       "mpl.figure.prototype.handle_rubberband = function (fig, msg) {\n",
       "    var x0 = msg['x0'] / fig.ratio;\n",
       "    var y0 = (fig.canvas.height - msg['y0']) / fig.ratio;\n",
       "    var x1 = msg['x1'] / fig.ratio;\n",
       "    var y1 = (fig.canvas.height - msg['y1']) / fig.ratio;\n",
       "    x0 = Math.floor(x0) + 0.5;\n",
       "    y0 = Math.floor(y0) + 0.5;\n",
       "    x1 = Math.floor(x1) + 0.5;\n",
       "    y1 = Math.floor(y1) + 0.5;\n",
       "    var min_x = Math.min(x0, x1);\n",
       "    var min_y = Math.min(y0, y1);\n",
       "    var width = Math.abs(x1 - x0);\n",
       "    var height = Math.abs(y1 - y0);\n",
       "\n",
       "    fig.rubberband_context.clearRect(\n",
       "        0,\n",
       "        0,\n",
       "        fig.canvas.width / fig.ratio,\n",
       "        fig.canvas.height / fig.ratio\n",
       "    );\n",
       "\n",
       "    fig.rubberband_context.strokeRect(min_x, min_y, width, height);\n",
       "};\n",
       "\n",
       "mpl.figure.prototype.handle_figure_label = function (fig, msg) {\n",
       "    // Updates the figure title.\n",
       "    fig.header.textContent = msg['label'];\n",
       "};\n",
       "\n",
       "mpl.figure.prototype.handle_cursor = function (fig, msg) {\n",
       "    fig.canvas_div.style.cursor = msg['cursor'];\n",
       "};\n",
       "\n",
       "mpl.figure.prototype.handle_message = function (fig, msg) {\n",
       "    fig.message.textContent = msg['message'];\n",
       "};\n",
       "\n",
       "mpl.figure.prototype.handle_draw = function (fig, _msg) {\n",
       "    // Request the server to send over a new figure.\n",
       "    fig.send_draw_message();\n",
       "};\n",
       "\n",
       "mpl.figure.prototype.handle_image_mode = function (fig, msg) {\n",
       "    fig.image_mode = msg['mode'];\n",
       "};\n",
       "\n",
       "mpl.figure.prototype.handle_history_buttons = function (fig, msg) {\n",
       "    for (var key in msg) {\n",
       "        if (!(key in fig.buttons)) {\n",
       "            continue;\n",
       "        }\n",
       "        fig.buttons[key].disabled = !msg[key];\n",
       "        fig.buttons[key].setAttribute('aria-disabled', !msg[key]);\n",
       "    }\n",
       "};\n",
       "\n",
       "mpl.figure.prototype.handle_navigate_mode = function (fig, msg) {\n",
       "    if (msg['mode'] === 'PAN') {\n",
       "        fig.buttons['Pan'].classList.add('active');\n",
       "        fig.buttons['Zoom'].classList.remove('active');\n",
       "    } else if (msg['mode'] === 'ZOOM') {\n",
       "        fig.buttons['Pan'].classList.remove('active');\n",
       "        fig.buttons['Zoom'].classList.add('active');\n",
       "    } else {\n",
       "        fig.buttons['Pan'].classList.remove('active');\n",
       "        fig.buttons['Zoom'].classList.remove('active');\n",
       "    }\n",
       "};\n",
       "\n",
       "mpl.figure.prototype.updated_canvas_event = function () {\n",
       "    // Called whenever the canvas gets updated.\n",
       "    this.send_message('ack', {});\n",
       "};\n",
       "\n",
       "// A function to construct a web socket function for onmessage handling.\n",
       "// Called in the figure constructor.\n",
       "mpl.figure.prototype._make_on_message_function = function (fig) {\n",
       "    return function socket_on_message(evt) {\n",
       "        if (evt.data instanceof Blob) {\n",
       "            var img = evt.data;\n",
       "            if (img.type !== 'image/png') {\n",
       "                /* FIXME: We get \"Resource interpreted as Image but\n",
       "                 * transferred with MIME type text/plain:\" errors on\n",
       "                 * Chrome.  But how to set the MIME type?  It doesn't seem\n",
       "                 * to be part of the websocket stream */\n",
       "                img.type = 'image/png';\n",
       "            }\n",
       "\n",
       "            /* Free the memory for the previous frames */\n",
       "            if (fig.imageObj.src) {\n",
       "                (window.URL || window.webkitURL).revokeObjectURL(\n",
       "                    fig.imageObj.src\n",
       "                );\n",
       "            }\n",
       "\n",
       "            fig.imageObj.src = (window.URL || window.webkitURL).createObjectURL(\n",
       "                img\n",
       "            );\n",
       "            fig.updated_canvas_event();\n",
       "            fig.waiting = false;\n",
       "            return;\n",
       "        } else if (\n",
       "            typeof evt.data === 'string' &&\n",
       "            evt.data.slice(0, 21) === 'data:image/png;base64'\n",
       "        ) {\n",
       "            fig.imageObj.src = evt.data;\n",
       "            fig.updated_canvas_event();\n",
       "            fig.waiting = false;\n",
       "            return;\n",
       "        }\n",
       "\n",
       "        var msg = JSON.parse(evt.data);\n",
       "        var msg_type = msg['type'];\n",
       "\n",
       "        // Call the  \"handle_{type}\" callback, which takes\n",
       "        // the figure and JSON message as its only arguments.\n",
       "        try {\n",
       "            var callback = fig['handle_' + msg_type];\n",
       "        } catch (e) {\n",
       "            console.log(\n",
       "                \"No handler for the '\" + msg_type + \"' message type: \",\n",
       "                msg\n",
       "            );\n",
       "            return;\n",
       "        }\n",
       "\n",
       "        if (callback) {\n",
       "            try {\n",
       "                // console.log(\"Handling '\" + msg_type + \"' message: \", msg);\n",
       "                callback(fig, msg);\n",
       "            } catch (e) {\n",
       "                console.log(\n",
       "                    \"Exception inside the 'handler_\" + msg_type + \"' callback:\",\n",
       "                    e,\n",
       "                    e.stack,\n",
       "                    msg\n",
       "                );\n",
       "            }\n",
       "        }\n",
       "    };\n",
       "};\n",
       "\n",
       "\n",
       "/*\n",
       " * return a copy of an object with only non-object keys\n",
       " * we need this to avoid circular references\n",
       " * https://stackoverflow.com/a/24161582/3208463\n",
       " */\n",
       "function simpleKeys(original) {\n",
       "    return Object.keys(original).reduce(function (obj, key) {\n",
       "        if (typeof original[key] !== 'object') {\n",
       "            obj[key] = original[key];\n",
       "        }\n",
       "        return obj;\n",
       "    }, {});\n",
       "}\n",
       "\n",
       "mpl.figure.prototype.mouse_event = function (event, name) {\n",
       "    if (name === 'button_press') {\n",
       "        this.canvas.focus();\n",
       "        this.canvas_div.focus();\n",
       "    }\n",
       "\n",
       "    // from https://stackoverflow.com/q/1114465\n",
       "    var boundingRect = this.canvas.getBoundingClientRect();\n",
       "    var x = (event.clientX - boundingRect.left) * this.ratio;\n",
       "    var y = (event.clientY - boundingRect.top) * this.ratio;\n",
       "\n",
       "    this.send_message(name, {\n",
       "        x: x,\n",
       "        y: y,\n",
       "        button: event.button,\n",
       "        step: event.step,\n",
       "        guiEvent: simpleKeys(event),\n",
       "    });\n",
       "\n",
       "    return false;\n",
       "};\n",
       "\n",
       "mpl.figure.prototype._key_event_extra = function (_event, _name) {\n",
       "    // Handle any extra behaviour associated with a key event\n",
       "};\n",
       "\n",
       "mpl.figure.prototype.key_event = function (event, name) {\n",
       "    // Prevent repeat events\n",
       "    if (name === 'key_press') {\n",
       "        if (event.key === this._key) {\n",
       "            return;\n",
       "        } else {\n",
       "            this._key = event.key;\n",
       "        }\n",
       "    }\n",
       "    if (name === 'key_release') {\n",
       "        this._key = null;\n",
       "    }\n",
       "\n",
       "    var value = '';\n",
       "    if (event.ctrlKey && event.key !== 'Control') {\n",
       "        value += 'ctrl+';\n",
       "    }\n",
       "    else if (event.altKey && event.key !== 'Alt') {\n",
       "        value += 'alt+';\n",
       "    }\n",
       "    else if (event.shiftKey && event.key !== 'Shift') {\n",
       "        value += 'shift+';\n",
       "    }\n",
       "\n",
       "    value += 'k' + event.key;\n",
       "\n",
       "    this._key_event_extra(event, name);\n",
       "\n",
       "    this.send_message(name, { key: value, guiEvent: simpleKeys(event) });\n",
       "    return false;\n",
       "};\n",
       "\n",
       "mpl.figure.prototype.toolbar_button_onclick = function (name) {\n",
       "    if (name === 'download') {\n",
       "        this.handle_save(this, null);\n",
       "    } else {\n",
       "        this.send_message('toolbar_button', { name: name });\n",
       "    }\n",
       "};\n",
       "\n",
       "mpl.figure.prototype.toolbar_button_onmouseover = function (tooltip) {\n",
       "    this.message.textContent = tooltip;\n",
       "};\n",
       "\n",
       "///////////////// REMAINING CONTENT GENERATED BY embed_js.py /////////////////\n",
       "// prettier-ignore\n",
       "var _JSXTOOLS_RESIZE_OBSERVER=function(A){var t,i=new WeakMap,n=new WeakMap,a=new WeakMap,r=new WeakMap,o=new Set;function s(e){if(!(this instanceof s))throw new TypeError(\"Constructor requires 'new' operator\");i.set(this,e)}function h(){throw new TypeError(\"Function is not a constructor\")}function c(e,t,i,n){e=0 in arguments?Number(arguments[0]):0,t=1 in arguments?Number(arguments[1]):0,i=2 in arguments?Number(arguments[2]):0,n=3 in arguments?Number(arguments[3]):0,this.right=(this.x=this.left=e)+(this.width=i),this.bottom=(this.y=this.top=t)+(this.height=n),Object.freeze(this)}function d(){t=requestAnimationFrame(d);var s=new WeakMap,p=new Set;o.forEach((function(t){r.get(t).forEach((function(i){var r=t instanceof window.SVGElement,o=a.get(t),d=r?0:parseFloat(o.paddingTop),f=r?0:parseFloat(o.paddingRight),l=r?0:parseFloat(o.paddingBottom),u=r?0:parseFloat(o.paddingLeft),g=r?0:parseFloat(o.borderTopWidth),m=r?0:parseFloat(o.borderRightWidth),w=r?0:parseFloat(o.borderBottomWidth),b=u+f,F=d+l,v=(r?0:parseFloat(o.borderLeftWidth))+m,W=g+w,y=r?0:t.offsetHeight-W-t.clientHeight,E=r?0:t.offsetWidth-v-t.clientWidth,R=b+v,z=F+W,M=r?t.width:parseFloat(o.width)-R-E,O=r?t.height:parseFloat(o.height)-z-y;if(n.has(t)){var k=n.get(t);if(k[0]===M&&k[1]===O)return}n.set(t,[M,O]);var S=Object.create(h.prototype);S.target=t,S.contentRect=new c(u,d,M,O),s.has(i)||(s.set(i,[]),p.add(i)),s.get(i).push(S)}))})),p.forEach((function(e){i.get(e).call(e,s.get(e),e)}))}return s.prototype.observe=function(i){if(i instanceof window.Element){r.has(i)||(r.set(i,new Set),o.add(i),a.set(i,window.getComputedStyle(i)));var n=r.get(i);n.has(this)||n.add(this),cancelAnimationFrame(t),t=requestAnimationFrame(d)}},s.prototype.unobserve=function(i){if(i instanceof window.Element&&r.has(i)){var n=r.get(i);n.has(this)&&(n.delete(this),n.size||(r.delete(i),o.delete(i))),n.size||r.delete(i),o.size||cancelAnimationFrame(t)}},A.DOMRectReadOnly=c,A.ResizeObserver=s,A.ResizeObserverEntry=h,A}; // eslint-disable-line\n",
       "mpl.toolbar_items = [[\"Home\", \"Reset original view\", \"fa fa-home\", \"home\"], [\"Back\", \"Back to previous view\", \"fa fa-arrow-left\", \"back\"], [\"Forward\", \"Forward to next view\", \"fa fa-arrow-right\", \"forward\"], [\"\", \"\", \"\", \"\"], [\"Pan\", \"Left button pans, Right button zooms\\nx/y fixes axis, CTRL fixes aspect\", \"fa fa-arrows\", \"pan\"], [\"Zoom\", \"Zoom to rectangle\\nx/y fixes axis\", \"fa fa-square-o\", \"zoom\"], [\"\", \"\", \"\", \"\"], [\"Download\", \"Download plot\", \"fa fa-floppy-o\", \"download\"]];\n",
       "\n",
       "mpl.extensions = [\"eps\", \"jpeg\", \"pgf\", \"pdf\", \"png\", \"ps\", \"raw\", \"svg\", \"tif\", \"webp\"];\n",
       "\n",
       "mpl.default_extension = \"png\";/* global mpl */\n",
       "\n",
       "var comm_websocket_adapter = function (comm) {\n",
       "    // Create a \"websocket\"-like object which calls the given IPython comm\n",
       "    // object with the appropriate methods. Currently this is a non binary\n",
       "    // socket, so there is still some room for performance tuning.\n",
       "    var ws = {};\n",
       "\n",
       "    ws.binaryType = comm.kernel.ws.binaryType;\n",
       "    ws.readyState = comm.kernel.ws.readyState;\n",
       "    function updateReadyState(_event) {\n",
       "        if (comm.kernel.ws) {\n",
       "            ws.readyState = comm.kernel.ws.readyState;\n",
       "        } else {\n",
       "            ws.readyState = 3; // Closed state.\n",
       "        }\n",
       "    }\n",
       "    comm.kernel.ws.addEventListener('open', updateReadyState);\n",
       "    comm.kernel.ws.addEventListener('close', updateReadyState);\n",
       "    comm.kernel.ws.addEventListener('error', updateReadyState);\n",
       "\n",
       "    ws.close = function () {\n",
       "        comm.close();\n",
       "    };\n",
       "    ws.send = function (m) {\n",
       "        //console.log('sending', m);\n",
       "        comm.send(m);\n",
       "    };\n",
       "    // Register the callback with on_msg.\n",
       "    comm.on_msg(function (msg) {\n",
       "        //console.log('receiving', msg['content']['data'], msg);\n",
       "        var data = msg['content']['data'];\n",
       "        if (data['blob'] !== undefined) {\n",
       "            data = {\n",
       "                data: new Blob(msg['buffers'], { type: data['blob'] }),\n",
       "            };\n",
       "        }\n",
       "        // Pass the mpl event to the overridden (by mpl) onmessage function.\n",
       "        ws.onmessage(data);\n",
       "    });\n",
       "    return ws;\n",
       "};\n",
       "\n",
       "mpl.mpl_figure_comm = function (comm, msg) {\n",
       "    // This is the function which gets called when the mpl process\n",
       "    // starts-up an IPython Comm through the \"matplotlib\" channel.\n",
       "\n",
       "    var id = msg.content.data.id;\n",
       "    // Get hold of the div created by the display call when the Comm\n",
       "    // socket was opened in Python.\n",
       "    var element = document.getElementById(id);\n",
       "    var ws_proxy = comm_websocket_adapter(comm);\n",
       "\n",
       "    function ondownload(figure, _format) {\n",
       "        window.open(figure.canvas.toDataURL());\n",
       "    }\n",
       "\n",
       "    var fig = new mpl.figure(id, ws_proxy, ondownload, element);\n",
       "\n",
       "    // Call onopen now - mpl needs it, as it is assuming we've passed it a real\n",
       "    // web socket which is closed, not our websocket->open comm proxy.\n",
       "    ws_proxy.onopen();\n",
       "\n",
       "    fig.parent_element = element;\n",
       "    fig.cell_info = mpl.find_output_cell(\"<div id='\" + id + \"'></div>\");\n",
       "    if (!fig.cell_info) {\n",
       "        console.error('Failed to find cell for figure', id, fig);\n",
       "        return;\n",
       "    }\n",
       "    fig.cell_info[0].output_area.element.on(\n",
       "        'cleared',\n",
       "        { fig: fig },\n",
       "        fig._remove_fig_handler\n",
       "    );\n",
       "};\n",
       "\n",
       "mpl.figure.prototype.handle_close = function (fig, msg) {\n",
       "    var width = fig.canvas.width / fig.ratio;\n",
       "    fig.cell_info[0].output_area.element.off(\n",
       "        'cleared',\n",
       "        fig._remove_fig_handler\n",
       "    );\n",
       "    fig.resizeObserverInstance.unobserve(fig.canvas_div);\n",
       "\n",
       "    // Update the output cell to use the data from the current canvas.\n",
       "    fig.push_to_output();\n",
       "    var dataURL = fig.canvas.toDataURL();\n",
       "    // Re-enable the keyboard manager in IPython - without this line, in FF,\n",
       "    // the notebook keyboard shortcuts fail.\n",
       "    IPython.keyboard_manager.enable();\n",
       "    fig.parent_element.innerHTML =\n",
       "        '<img src=\"' + dataURL + '\" width=\"' + width + '\">';\n",
       "    fig.close_ws(fig, msg);\n",
       "};\n",
       "\n",
       "mpl.figure.prototype.close_ws = function (fig, msg) {\n",
       "    fig.send_message('closing', msg);\n",
       "    // fig.ws.close()\n",
       "};\n",
       "\n",
       "mpl.figure.prototype.push_to_output = function (_remove_interactive) {\n",
       "    // Turn the data on the canvas into data in the output cell.\n",
       "    var width = this.canvas.width / this.ratio;\n",
       "    var dataURL = this.canvas.toDataURL();\n",
       "    this.cell_info[1]['text/html'] =\n",
       "        '<img src=\"' + dataURL + '\" width=\"' + width + '\">';\n",
       "};\n",
       "\n",
       "mpl.figure.prototype.updated_canvas_event = function () {\n",
       "    // Tell IPython that the notebook contents must change.\n",
       "    IPython.notebook.set_dirty(true);\n",
       "    this.send_message('ack', {});\n",
       "    var fig = this;\n",
       "    // Wait a second, then push the new image to the DOM so\n",
       "    // that it is saved nicely (might be nice to debounce this).\n",
       "    setTimeout(function () {\n",
       "        fig.push_to_output();\n",
       "    }, 1000);\n",
       "};\n",
       "\n",
       "mpl.figure.prototype._init_toolbar = function () {\n",
       "    var fig = this;\n",
       "\n",
       "    var toolbar = document.createElement('div');\n",
       "    toolbar.classList = 'btn-toolbar';\n",
       "    this.root.appendChild(toolbar);\n",
       "\n",
       "    function on_click_closure(name) {\n",
       "        return function (_event) {\n",
       "            return fig.toolbar_button_onclick(name);\n",
       "        };\n",
       "    }\n",
       "\n",
       "    function on_mouseover_closure(tooltip) {\n",
       "        return function (event) {\n",
       "            if (!event.currentTarget.disabled) {\n",
       "                return fig.toolbar_button_onmouseover(tooltip);\n",
       "            }\n",
       "        };\n",
       "    }\n",
       "\n",
       "    fig.buttons = {};\n",
       "    var buttonGroup = document.createElement('div');\n",
       "    buttonGroup.classList = 'btn-group';\n",
       "    var button;\n",
       "    for (var toolbar_ind in mpl.toolbar_items) {\n",
       "        var name = mpl.toolbar_items[toolbar_ind][0];\n",
       "        var tooltip = mpl.toolbar_items[toolbar_ind][1];\n",
       "        var image = mpl.toolbar_items[toolbar_ind][2];\n",
       "        var method_name = mpl.toolbar_items[toolbar_ind][3];\n",
       "\n",
       "        if (!name) {\n",
       "            /* Instead of a spacer, we start a new button group. */\n",
       "            if (buttonGroup.hasChildNodes()) {\n",
       "                toolbar.appendChild(buttonGroup);\n",
       "            }\n",
       "            buttonGroup = document.createElement('div');\n",
       "            buttonGroup.classList = 'btn-group';\n",
       "            continue;\n",
       "        }\n",
       "\n",
       "        button = fig.buttons[name] = document.createElement('button');\n",
       "        button.classList = 'btn btn-default';\n",
       "        button.href = '#';\n",
       "        button.title = name;\n",
       "        button.innerHTML = '<i class=\"fa ' + image + ' fa-lg\"></i>';\n",
       "        button.addEventListener('click', on_click_closure(method_name));\n",
       "        button.addEventListener('mouseover', on_mouseover_closure(tooltip));\n",
       "        buttonGroup.appendChild(button);\n",
       "    }\n",
       "\n",
       "    if (buttonGroup.hasChildNodes()) {\n",
       "        toolbar.appendChild(buttonGroup);\n",
       "    }\n",
       "\n",
       "    // Add the status bar.\n",
       "    var status_bar = document.createElement('span');\n",
       "    status_bar.classList = 'mpl-message pull-right';\n",
       "    toolbar.appendChild(status_bar);\n",
       "    this.message = status_bar;\n",
       "\n",
       "    // Add the close button to the window.\n",
       "    var buttongrp = document.createElement('div');\n",
       "    buttongrp.classList = 'btn-group inline pull-right';\n",
       "    button = document.createElement('button');\n",
       "    button.classList = 'btn btn-mini btn-primary';\n",
       "    button.href = '#';\n",
       "    button.title = 'Stop Interaction';\n",
       "    button.innerHTML = '<i class=\"fa fa-power-off icon-remove icon-large\"></i>';\n",
       "    button.addEventListener('click', function (_evt) {\n",
       "        fig.handle_close(fig, {});\n",
       "    });\n",
       "    button.addEventListener(\n",
       "        'mouseover',\n",
       "        on_mouseover_closure('Stop Interaction')\n",
       "    );\n",
       "    buttongrp.appendChild(button);\n",
       "    var titlebar = this.root.querySelector('.ui-dialog-titlebar');\n",
       "    titlebar.insertBefore(buttongrp, titlebar.firstChild);\n",
       "};\n",
       "\n",
       "mpl.figure.prototype._remove_fig_handler = function (event) {\n",
       "    var fig = event.data.fig;\n",
       "    if (event.target !== this) {\n",
       "        // Ignore bubbled events from children.\n",
       "        return;\n",
       "    }\n",
       "    fig.close_ws(fig, {});\n",
       "};\n",
       "\n",
       "mpl.figure.prototype._root_extra_style = function (el) {\n",
       "    el.style.boxSizing = 'content-box'; // override notebook setting of border-box.\n",
       "};\n",
       "\n",
       "mpl.figure.prototype._canvas_extra_style = function (el) {\n",
       "    // this is important to make the div 'focusable\n",
       "    el.setAttribute('tabindex', 0);\n",
       "    // reach out to IPython and tell the keyboard manager to turn it's self\n",
       "    // off when our div gets focus\n",
       "\n",
       "    // location in version 3\n",
       "    if (IPython.notebook.keyboard_manager) {\n",
       "        IPython.notebook.keyboard_manager.register_events(el);\n",
       "    } else {\n",
       "        // location in version 2\n",
       "        IPython.keyboard_manager.register_events(el);\n",
       "    }\n",
       "};\n",
       "\n",
       "mpl.figure.prototype._key_event_extra = function (event, _name) {\n",
       "    // Check for shift+enter\n",
       "    if (event.shiftKey && event.which === 13) {\n",
       "        this.canvas_div.blur();\n",
       "        // select the cell after this one\n",
       "        var index = IPython.notebook.find_cell_index(this.cell_info[0]);\n",
       "        IPython.notebook.select(index + 1);\n",
       "    }\n",
       "};\n",
       "\n",
       "mpl.figure.prototype.handle_save = function (fig, _msg) {\n",
       "    fig.ondownload(fig, null);\n",
       "};\n",
       "\n",
       "mpl.find_output_cell = function (html_output) {\n",
       "    // Return the cell and output element which can be found *uniquely* in the notebook.\n",
       "    // Note - this is a bit hacky, but it is done because the \"notebook_saving.Notebook\"\n",
       "    // IPython event is triggered only after the cells have been serialised, which for\n",
       "    // our purposes (turning an active figure into a static one), is too late.\n",
       "    var cells = IPython.notebook.get_cells();\n",
       "    var ncells = cells.length;\n",
       "    for (var i = 0; i < ncells; i++) {\n",
       "        var cell = cells[i];\n",
       "        if (cell.cell_type === 'code') {\n",
       "            for (var j = 0; j < cell.output_area.outputs.length; j++) {\n",
       "                var data = cell.output_area.outputs[j];\n",
       "                if (data.data) {\n",
       "                    // IPython >= 3 moved mimebundle to data attribute of output\n",
       "                    data = data.data;\n",
       "                }\n",
       "                if (data['text/html'] === html_output) {\n",
       "                    return [cell, data, j];\n",
       "                }\n",
       "            }\n",
       "        }\n",
       "    }\n",
       "};\n",
       "\n",
       "// Register the function which deals with the matplotlib target/channel.\n",
       "// The kernel may be null if the page has been refreshed.\n",
       "if (IPython.notebook.kernel !== null) {\n",
       "    IPython.notebook.kernel.comm_manager.register_target(\n",
       "        'matplotlib',\n",
       "        mpl.mpl_figure_comm\n",
       "    );\n",
       "}\n"
      ],
      "text/plain": [
       "<IPython.core.display.Javascript object>"
      ]
     },
     "metadata": {},
     "output_type": "display_data"
    },
    {
     "data": {
      "text/html": [
       "<img src=\"data:image/png;base64,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\" width=\"640\">"
      ],
      "text/plain": [
       "<IPython.core.display.HTML object>"
      ]
     },
     "metadata": {},
     "output_type": "display_data"
    }
   ],
   "source": [
    "H, bins = distances_signals['Signals'], distances_signals.index\n",
    "\n",
    "text_position = [0.0025, 0.002, 0.005, 0.005, 0.005, 0.005, 0.005, 0.005, 0.005]\n",
    "text_position_th = [0.005, -0.005, 0.002, 0.005, 0.005, 0.005, 0.005, 0.005, 0.005]\n",
    "xlims = [0.12, 0.07, 0.45, 0.14, 0.12, 0.25, 0.3, 0.35, 0.08]\n",
    "ylims = [0.05, 0.08, 0.045, 0.032, 0.03, 0.05, 0.275, 0.08, 0.04]\n",
    "\n",
    "fig, ax = plt.subplots()\n",
    "#ax.set_yscale(\"log\")\n",
    "ax.set_xlim(-0.0001, xlims[nr_of_experiment-1])\n",
    "ax.set_ylim(0, ylims[nr_of_experiment-1])\n",
    "\n",
    "histogram = ax.bar(bins[:-2], H.iloc[:-2], width = 0.008*xlims[nr_of_experiment-1], color='#707070')\n",
    "histogram = ax.bar(bins[-2], H.iloc[-2], width = 0.008*xlims[nr_of_experiment-1], color='#64add9')\n",
    "histogram = ax.bar(bins[-1], H.iloc[-1], width = 0.008*xlims[nr_of_experiment-1], color='#ff8bd5')\n",
    "\n",
    "plt.xlabel('Transport distance, ppm', fontsize=15, labelpad=15)\n",
    "plt.ylabel('Amount of signal transported', fontsize=15, labelpad=15)\n",
    "\n",
    "plt.axvline(x=MTD, color='#64add9')\n",
    "plt.text(MTD + text_position[nr_of_experiment-1], 0.01,'Kappa mixture',rotation=90, color='#64add9')\n",
    "\n",
    "plt.axvline(x=MTD_th, color='#ff8bd5', linestyle='--')\n",
    "#plt.text(MTD_th+ text_position_th[nr_of_experiment-1], 0.01,'Kappa components',rotation=90, color='#A35FC1')\n",
    "plt.text(MTD_th+ text_position_th[nr_of_experiment-1], 0.01,'Kappa components',rotation=90, color='#ff8bd5')\n",
    "\n",
    "plt.tight_layout()\n",
    "plt.show()\n",
    "plt.savefig('distances_histogram_exp_'+str(nr_of_experiment)+'.png', dpi=300)"
   ]
  },
  {
   "cell_type": "code",
   "execution_count": 44,
   "id": "94aef01a",
   "metadata": {},
   "outputs": [
    {
     "name": "stdout",
     "output_type": "stream",
     "text": [
      "99.0% of signal is transported on distance smaller than 0.013035921578310973.\n"
     ]
    }
   ],
   "source": [
    "percent = 0.99\n",
    "q = H.quantile(q=percent)\n",
    "print(str(percent*100)+'% of signal is transported on distance smaller than '+str(q)+'.' )"
   ]
  },
  {
   "cell_type": "code",
   "execution_count": 45,
   "id": "07b66ece",
   "metadata": {},
   "outputs": [
    {
     "data": {
      "text/plain": [
       "Signals    1.0\n",
       "dtype: float64"
      ]
     },
     "execution_count": 45,
     "metadata": {},
     "output_type": "execute_result"
    }
   ],
   "source": [
    "(distances_signals.iloc[:-2,:]).sum()"
   ]
  },
  {
   "cell_type": "code",
   "execution_count": 46,
   "id": "de64f782",
   "metadata": {},
   "outputs": [],
   "source": [
    "#len(list(mix_without_noise.WSDistanceMoves(components_without_noise)))"
   ]
  },
  {
   "cell_type": "code",
   "execution_count": 47,
   "id": "521f2dea",
   "metadata": {},
   "outputs": [],
   "source": [
    "#list(mix_without_noise.WSDistanceMoves(components_without_noise))"
   ]
  },
  {
   "cell_type": "code",
   "execution_count": 48,
   "id": "6c113e55",
   "metadata": {},
   "outputs": [],
   "source": [
    "#len(mix_without_noise.confs)*2"
   ]
  },
  {
   "cell_type": "code",
   "execution_count": null,
   "id": "eedeec2c",
   "metadata": {},
   "outputs": [],
   "source": []
  }
 ],
 "metadata": {
  "kernelspec": {
   "display_name": "Python 3 (ipykernel)",
   "language": "python",
   "name": "python3"
  },
  "language_info": {
   "codemirror_mode": {
    "name": "ipython",
    "version": 3
   },
   "file_extension": ".py",
   "mimetype": "text/x-python",
   "name": "python",
   "nbconvert_exporter": "python",
   "pygments_lexer": "ipython3",
   "version": "3.10.6"
  }
 },
 "nbformat": 4,
 "nbformat_minor": 5
}
