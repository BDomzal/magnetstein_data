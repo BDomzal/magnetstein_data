{
 "cells": [
  {
   "cell_type": "markdown",
   "id": "2278c778",
   "metadata": {},
   "source": [
    "### Settings & imports"
   ]
  },
  {
   "cell_type": "code",
   "execution_count": 1,
   "id": "52249722",
   "metadata": {},
   "outputs": [],
   "source": [
    "%matplotlib notebook"
   ]
  },
  {
   "cell_type": "code",
   "execution_count": 2,
   "id": "6af4ae0a",
   "metadata": {},
   "outputs": [],
   "source": [
    "import sys\n",
    "mypath = \"/home/basia/Documents/spectroscopy/wassersteinms\"\n",
    "sys.path.insert(0, mypath)\n",
    "import masserstein "
   ]
  },
  {
   "cell_type": "code",
   "execution_count": 3,
   "id": "55f0baff",
   "metadata": {},
   "outputs": [],
   "source": [
    "import os\n",
    "\n",
    "from masserstein import Spectrum, NMRSpectrum\n",
    "from masserstein import estimate_proportions\n",
    "\n",
    "from matplotlib import pyplot as plt\n",
    "\n",
    "import numpy as np\n",
    "\n",
    "import pulp\n",
    "\n",
    "import pickle\n",
    "\n",
    "import seaborn as sns\n",
    "from textwrap import wrap\n",
    "\n",
    "from pathlib import Path\n",
    "\n",
    "import pandas as pd"
   ]
  },
  {
   "cell_type": "code",
   "execution_count": 4,
   "id": "87bb9eea",
   "metadata": {},
   "outputs": [],
   "source": [
    "nr_of_experiment = 9"
   ]
  },
  {
   "cell_type": "markdown",
   "id": "e7c66ece",
   "metadata": {},
   "source": [
    "### Experiments data"
   ]
  },
  {
   "cell_type": "code",
   "execution_count": 5,
   "id": "a808defa",
   "metadata": {},
   "outputs": [],
   "source": [
    "components_dictionary = {'experiment_1': ['Pinene', 'Benzyl_benzoate'],\n",
    "                        'experiment_2': ['Pinene', 'Limonene'],\n",
    "                        'experiment_3': ['Benzyl_benzoate', 'm Anisaldehyde'],\n",
    "                        'experiment_4': ['Isopropyl_myristate', 'Benzyl_benzoate', 'Alpha_pinene', 'Limonene'],\n",
    "                        'experiment_5': ['Pinene', 'Benzyl_benzoate'],\n",
    "                        'experiment_6': ['Lactate', 'Alanine', 'Creatine', 'Creatinine', 'Choline chloride'],\n",
    "                        'experiment_7': ['Lactate', 'Alanine', 'Creatine', 'Creatinine', 'Choline chloride'],\n",
    "                        'experiment_8': ['Lactate', 'Alanine', 'Creatine', 'Creatinine', 'Choline chloride'],\n",
    "                        'experiment_9': ['Benzyl_benzoate', 'm Anisaldehyde']}"
   ]
  },
  {
   "cell_type": "code",
   "execution_count": 6,
   "id": "f4e9fdec",
   "metadata": {},
   "outputs": [],
   "source": [
    "protons_dictionary = {'experiment_1': [16, 12],\n",
    "                        'experiment_2': [16, 16],\n",
    "                        'experiment_3': [12, 8],\n",
    "                        'experiment_4': [34, 12, 16, 16],\n",
    "                        'experiment_5': [16, 12],\n",
    "                        'experiment_6': [4, 4, 5, 5, 13],\n",
    "                        'experiment_7': [4, 4, 5, 5, 13],\n",
    "                        'experiment_8': [4, 4, 5, 5, 13],\n",
    "                        'experiment_9': [12, 8]}"
   ]
  },
  {
   "cell_type": "code",
   "execution_count": 7,
   "id": "19fd49cf",
   "metadata": {},
   "outputs": [],
   "source": [
    "ground_truth_molar_proportions = {'experiment_1': [0.09088457406472417, 0.9091154259352758],\n",
    "                                    'experiment_2': [0.505, 0.495],\n",
    "                                    'experiment_3': [0.8403875207510383, 0.1596124792489616],\n",
    "                                    'experiment_4': [0.7264578344443725, 0.10578603326645526, 0.081968804608116, 0.08578732768105625],\n",
    "                                    'experiment_5': [0.3865, 0.6135],\n",
    "                                    'experiment_6': [0.3022, 0.2240, 0.1253, 0.2028, 0.1457],\n",
    "                                    'experiment_7': [0.3022, 0.2240, 0.1253, 0.2028, 0.1457],\n",
    "                                    'experiment_8': [0.3022, 0.2240, 0.1253, 0.2028, 0.1457],\n",
    "                                    'experiment_9': [0.3702, 0.6298]}"
   ]
  },
  {
   "cell_type": "code",
   "execution_count": 8,
   "id": "6280f16d",
   "metadata": {},
   "outputs": [],
   "source": [
    "experiments_folders = {'experiment_1': 'experiment_1_intensity_difference',\n",
    "                        'experiment_5': 'experiment_5_miniperfumes',\n",
    "                        'experiment_6': 'experiment_6_metabolites',\n",
    "                         'experiment_3': 'experiment_3_overlapping_and_intensity_difference',\n",
    "                         'experiment_7': 'experiment_7_and_8_shim',\n",
    "                       'experiment_8': 'experiment_7_and_8_shim',\n",
    "                        'experiment_9': 'experiment_9_different_solvents',\n",
    "                        'experiment_4': 'experiment_4_perfumes_and_absent_components',\n",
    "                         'experiment_2': 'experiment_2_overlapping'}"
   ]
  },
  {
   "cell_type": "code",
   "execution_count": 9,
   "id": "5c15336b",
   "metadata": {},
   "outputs": [],
   "source": [
    "best_kappa_mix = [0.09, 0.05, 0.23, 0.37, 0.06, 0.03, 0.05, 0.11, 0.2]"
   ]
  },
  {
   "cell_type": "code",
   "execution_count": 10,
   "id": "53eb8b54",
   "metadata": {},
   "outputs": [],
   "source": [
    "best_kappa_model = [0.08, 0.01, 0.02, 0.24, 0.2, 0.09, 0.02, 0.02, 0.29]"
   ]
  },
  {
   "cell_type": "markdown",
   "id": "e84eddc3",
   "metadata": {},
   "source": [
    "### Loading the data"
   ]
  },
  {
   "cell_type": "code",
   "execution_count": 11,
   "id": "0915a07b",
   "metadata": {},
   "outputs": [],
   "source": [
    "cwd = Path(os.getcwd())\n",
    "path = cwd.parent.absolute()"
   ]
  },
  {
   "cell_type": "code",
   "execution_count": 12,
   "id": "a16bd1b8",
   "metadata": {},
   "outputs": [],
   "source": [
    "if (nr_of_experiment != 7 and nr_of_experiment != 8):\n",
    "    filename = str(path)+'/' + experiments_folders['experiment_' + str(nr_of_experiment)] + '/preprocessed_mix.csv'\n",
    "    mix = np.loadtxt(filename, delimiter=',')\n",
    "else:\n",
    "    filename = str(path) + '/' + experiments_folders['experiment_' + str(nr_of_experiment)] + '/preprocessed_exp'+str(nr_of_experiment)+'_mix.csv'\n",
    "    mix = np.loadtxt(filename, delimiter=',')"
   ]
  },
  {
   "cell_type": "code",
   "execution_count": 13,
   "id": "67c8aeb3",
   "metadata": {},
   "outputs": [],
   "source": [
    "how_many_components = len(components_dictionary['experiment_'+str(nr_of_experiment)])\n",
    "names = ['comp' + str(i) for i in range(how_many_components)]"
   ]
  },
  {
   "cell_type": "code",
   "execution_count": 14,
   "id": "4d402de1",
   "metadata": {},
   "outputs": [],
   "source": [
    "spectra = []\n",
    "for i in range(how_many_components):\n",
    "    if (nr_of_experiment != 7 and nr_of_experiment != 8):\n",
    "        filename = str(path) + '/' + experiments_folders['experiment_' + str(nr_of_experiment)] + \\\n",
    "                    '/preprocessed_comp' + str(i) + '.csv'\n",
    "        spectra.append(np.loadtxt(filename, delimiter=','))\n",
    "    else:\n",
    "        filename = str(path) + '/' + experiments_folders['experiment_' + str(nr_of_experiment)] + \\\n",
    "                    '/preprocessed_exp'+str(nr_of_experiment)+ '_comp'+ str(i) + '.csv'\n",
    "        spectra.append(np.loadtxt(filename, delimiter=','))"
   ]
  },
  {
   "cell_type": "code",
   "execution_count": 15,
   "id": "f68d15b6",
   "metadata": {},
   "outputs": [],
   "source": [
    "spectra2 = []\n",
    "names = []\n",
    "for i in range(len(spectra)):\n",
    "    spectra2.append(NMRSpectrum(confs=list(zip(spectra[i][:,0], spectra[i][:,1])), \n",
    "                                protons=protons_dictionary['experiment_'+str(nr_of_experiment)][i]))\n",
    "    names.append('comp'+str(i))\n",
    "\n",
    "spectra = spectra2\n",
    "del(spectra2)\n",
    "mix = NMRSpectrum(confs=list(zip(mix[:,0], mix[:,1])))"
   ]
  },
  {
   "cell_type": "code",
   "execution_count": 16,
   "id": "066513a3",
   "metadata": {},
   "outputs": [],
   "source": [
    "for i, name in enumerate(names):\n",
    "    globals()[name] = spectra[i]"
   ]
  },
  {
   "cell_type": "code",
   "execution_count": 17,
   "id": "56905c27",
   "metadata": {},
   "outputs": [],
   "source": [
    "# mix.plot(profile=True)\n",
    "# comp0.plot(profile=True)\n",
    "# comp1.plot(profile=True)"
   ]
  },
  {
   "cell_type": "markdown",
   "id": "31df385c",
   "metadata": {},
   "source": [
    "### Estimation"
   ]
  },
  {
   "cell_type": "code",
   "execution_count": 18,
   "id": "d44ebf2f",
   "metadata": {},
   "outputs": [
    {
     "name": "stdout",
     "output_type": "stream",
     "text": [
      "Set parameter Username\n",
      "Academic license - for non-commercial use only - expires 2023-11-10\n"
     ]
    },
    {
     "name": "stderr",
     "output_type": "stream",
     "text": [
      "Initial filtering of formulas: 100%|██████████████| 2/2 [00:00<00:00, 54.10it/s]\n"
     ]
    },
    {
     "name": "stdout",
     "output_type": "stream",
     "text": [
      "Removed theoretical spectra due to no matching experimental peaks: []\n",
      "Envelope bounds: [(3.5000299999999998, 11.99995, 0), (3.5000299999999998, 11.99995, 1)]\n"
     ]
    },
    {
     "name": "stderr",
     "output_type": "stream",
     "text": [
      "Computing chunks: 100%|████████████████████████| 2/2 [00:00<00:00, 66052.03it/s]\n"
     ]
    },
    {
     "name": "stdout",
     "output_type": "stream",
     "text": [
      "Number of chunks: 1\n",
      "ChunkIDs: [0, 0]\n",
      "Chunk bounds: [(3.2100299999999997, 12.28995)]\n"
     ]
    },
    {
     "name": "stderr",
     "output_type": "stream",
     "text": [
      "Splitting the experimental spectrum into chunks: 139577it [00:00, 3593017.89it/s]\n"
     ]
    },
    {
     "name": "stdout",
     "output_type": "stream",
     "text": [
      "Ion currents in chunks: [0.9999999999999973]\n"
     ]
    },
    {
     "name": "stderr",
     "output_type": "stream",
     "text": [
      "\r",
      "Deconvolving chunks:   0%|                                | 0/1 [00:00<?, ?it/s]"
     ]
    },
    {
     "name": "stdout",
     "output_type": "stream",
     "text": [
      "Deconvolving chunk 0\n"
     ]
    },
    {
     "name": "stderr",
     "output_type": "stream",
     "text": [
      "/home/basia/.local/lib/python3.10/site-packages/pulp/pulp.py:1352: UserWarning: Spaces are not permitted in the name. Converted to '_'\n",
      "  warnings.warn(\"Spaces are not permitted in the name. Converted to '_'\")\n",
      "Deconvolving chunks: 100%|███████████████████████| 1/1 [03:12<00:00, 192.21s/it]"
     ]
    },
    {
     "name": "stdout",
     "output_type": "stream",
     "text": [
      "Chunk %i deconvolution status: Optimal\n",
      "Signal proportion in experimental spectrum: 0.9298597180920001\n",
      "Noise proportion in experimental spectrum: 0.07014029297699982\n",
      "Total explanation: 1.000000011069\n",
      "Noise proportion in combination of theoretical spectra: 0.008558474193\n"
     ]
    },
    {
     "name": "stderr",
     "output_type": "stream",
     "text": [
      "\n"
     ]
    }
   ],
   "source": [
    "estimation_vis = estimate_proportions(mix, spectra,\n",
    "                                        MTD=best_kappa_mix[nr_of_experiment-1], \n",
    "                                        MTD_th=best_kappa_model[nr_of_experiment-1],\n",
    "                                        verbose=True, solver=pulp.GUROBI(msg=False), \n",
    "                                        what_to_compare='area')"
   ]
  },
  {
   "cell_type": "code",
   "execution_count": 19,
   "id": "c58f7242",
   "metadata": {},
   "outputs": [
    {
     "data": {
      "text/plain": [
       "[0.43970247519399885, 0.49015724289799867]"
      ]
     },
     "execution_count": 19,
     "metadata": {},
     "output_type": "execute_result"
    }
   ],
   "source": [
    "estimation_vis['proportions']"
   ]
  },
  {
   "cell_type": "code",
   "execution_count": 21,
   "id": "f463c3dd",
   "metadata": {},
   "outputs": [
    {
     "data": {
      "text/plain": [
       "0.008558474192999977"
      ]
     },
     "execution_count": 21,
     "metadata": {},
     "output_type": "execute_result"
    }
   ],
   "source": [
    "estimation_vis['proportion_of_noise_in_theoretical']"
   ]
  },
  {
   "cell_type": "code",
   "execution_count": 21,
   "id": "ca73a54f",
   "metadata": {},
   "outputs": [
    {
     "name": "stderr",
     "output_type": "stream",
     "text": [
      "Initial filtering of formulas: 100%|█████████████| 5/5 [00:00<00:00, 299.96it/s]\n"
     ]
    },
    {
     "name": "stdout",
     "output_type": "stream",
     "text": [
      "Removed theoretical spectra due to no matching experimental peaks: []\n",
      "Envelope bounds: [(0.827366, 4.1272, 0), (0.827366, 4.1272, 1), (0.827366, 4.1272, 2), (0.827366, 4.1272, 3), (0.827366, 4.1272, 4)]\n"
     ]
    },
    {
     "name": "stderr",
     "output_type": "stream",
     "text": [
      "Computing chunks: 100%|███████████████████████| 5/5 [00:00<00:00, 209715.20it/s]\n"
     ]
    },
    {
     "name": "stdout",
     "output_type": "stream",
     "text": [
      "Number of chunks: 1\n",
      "ChunkIDs: [0, 0, 0, 0, 0]\n",
      "Chunk bounds: [(0.7173660000000001, 4.2372000000000005)]\n"
     ]
    },
    {
     "name": "stderr",
     "output_type": "stream",
     "text": [
      "Splitting the experimental spectrum into chunks: 27129it [00:00, 3144424.05it/s]\n"
     ]
    },
    {
     "name": "stdout",
     "output_type": "stream",
     "text": [
      "Ion currents in chunks: [0.9999999999999996]\n"
     ]
    },
    {
     "name": "stderr",
     "output_type": "stream",
     "text": [
      "\r",
      "Deconvolving chunks:   0%|                                | 0/1 [00:00<?, ?it/s]"
     ]
    },
    {
     "name": "stdout",
     "output_type": "stream",
     "text": [
      "Deconvolving chunk 0\n"
     ]
    },
    {
     "name": "stderr",
     "output_type": "stream",
     "text": [
      "Deconvolving chunks: 100%|████████████████████████| 1/1 [00:12<00:00, 12.87s/it]"
     ]
    },
    {
     "name": "stdout",
     "output_type": "stream",
     "text": [
      "Chunk %i deconvolution status: Optimal\n",
      "Signal proportion in experimental spectrum: 1.0\n",
      "Noise proportion in experimental spectrum: 0.0\n",
      "Total explanation: 1.0\n",
      "Noise proportion in combination of theoretical spectra: 0.024876849655\n"
     ]
    },
    {
     "name": "stderr",
     "output_type": "stream",
     "text": [
      "\n"
     ]
    }
   ],
   "source": [
    "estimation_molar = estimate_proportions(mix, spectra,\n",
    "                                        MTD=best_kappa_mix[nr_of_experiment-1], \n",
    "                                        MTD_th=best_kappa_model[nr_of_experiment-1],\n",
    "                                        verbose=True, solver=pulp.GUROBI(msg=False), \n",
    "                                        what_to_compare='concentration')"
   ]
  },
  {
   "cell_type": "code",
   "execution_count": 22,
   "id": "354693e3",
   "metadata": {},
   "outputs": [
    {
     "data": {
      "text/plain": [
       "[0.31770096865088626,\n",
       " 0.21196331538085228,\n",
       " 0.13209747879635073,\n",
       " 0.197528802988393,\n",
       " 0.14070943418351764]"
      ]
     },
     "execution_count": 22,
     "metadata": {},
     "output_type": "execute_result"
    }
   ],
   "source": [
    "estimation_molar['proportions']"
   ]
  },
  {
   "cell_type": "markdown",
   "id": "536cc3bc",
   "metadata": {},
   "source": [
    "### Transport plan histograms"
   ]
  },
  {
   "cell_type": "code",
   "execution_count": 22,
   "id": "6d4e9f69",
   "metadata": {},
   "outputs": [],
   "source": [
    "components_ints = [np.array(sp.confs)[:,1] for sp in spectra]\n",
    "components_ppm = np.array(spectra[0].confs)[:,0]"
   ]
  },
  {
   "cell_type": "code",
   "execution_count": 23,
   "id": "95e79457",
   "metadata": {},
   "outputs": [],
   "source": [
    "ppm = np.array(mix.confs)[:,0]\n",
    "mix_ints = np.array(mix.confs)[:,1]"
   ]
  },
  {
   "cell_type": "code",
   "execution_count": 24,
   "id": "2295473c",
   "metadata": {},
   "outputs": [],
   "source": [
    "assert np.all(ppm == components_ppm)\n",
    "assert np.all(ppm == estimation_vis['global_mass_axis'])"
   ]
  },
  {
   "cell_type": "markdown",
   "id": "62eb7167",
   "metadata": {},
   "source": [
    "#### Removing signal that went to vortex"
   ]
  },
  {
   "cell_type": "markdown",
   "id": "b68f9e7f",
   "metadata": {},
   "source": [
    "##### Mixture"
   ]
  },
  {
   "cell_type": "code",
   "execution_count": 25,
   "id": "4b9d8c23",
   "metadata": {},
   "outputs": [],
   "source": [
    "mix_without_noise = NMRSpectrum(confs = list(zip(ppm, mix_ints - np.array(estimation_vis['noise']))))"
   ]
  },
  {
   "cell_type": "markdown",
   "id": "bb072b96",
   "metadata": {},
   "source": [
    "##### Components"
   ]
  },
  {
   "cell_type": "code",
   "execution_count": 26,
   "id": "96cc519e",
   "metadata": {},
   "outputs": [],
   "source": [
    "p = np.array(estimation_vis['proportions']).reshape(len(estimation_vis['proportions']),1)"
   ]
  },
  {
   "cell_type": "code",
   "execution_count": 27,
   "id": "63eecd04",
   "metadata": {},
   "outputs": [],
   "source": [
    "names_matmul = ['sum_up_to_'+str(i+1) for i in range(len(spectra))]"
   ]
  },
  {
   "cell_type": "code",
   "execution_count": 28,
   "id": "a1a98331",
   "metadata": {},
   "outputs": [],
   "source": [
    "components_ints = [comp_int.reshape(-1, 1) for comp_int in components_ints]"
   ]
  },
  {
   "cell_type": "code",
   "execution_count": 29,
   "id": "b419d507",
   "metadata": {},
   "outputs": [],
   "source": [
    "X = np.concatenate(components_ints, axis=1)"
   ]
  },
  {
   "cell_type": "code",
   "execution_count": 30,
   "id": "88184931",
   "metadata": {},
   "outputs": [],
   "source": [
    "for i, name in enumerate(names_matmul):\n",
    "    globals()[name] = np.dot(X[:,:(i+1)],p[:(i+1),:])[:,0]"
   ]
  },
  {
   "cell_type": "code",
   "execution_count": 31,
   "id": "2fa3a280",
   "metadata": {},
   "outputs": [],
   "source": [
    "mix_estimation = np.concatenate([ppm.reshape(-1,1), globals()[names_matmul[-1]].reshape(-1,1)], axis=1)"
   ]
  },
  {
   "cell_type": "code",
   "execution_count": 32,
   "id": "9d3f00bc",
   "metadata": {},
   "outputs": [],
   "source": [
    "components_without_noise = NMRSpectrum(confs = list(zip(mix_estimation[:,0], mix_estimation[:,1] - np.array(estimation_vis['noise_in_theoretical']))))"
   ]
  },
  {
   "cell_type": "code",
   "execution_count": 33,
   "id": "ae6c44d6",
   "metadata": {},
   "outputs": [],
   "source": [
    "# components_without_noise.plot(profile=True)\n",
    "# mix_without_noise.plot(profile=True)"
   ]
  },
  {
   "cell_type": "code",
   "execution_count": 34,
   "id": "7079c712",
   "metadata": {},
   "outputs": [],
   "source": [
    "components_without_noise.trim_negative_intensities()\n",
    "mix_without_noise.trim_negative_intensities()"
   ]
  },
  {
   "cell_type": "code",
   "execution_count": 35,
   "id": "0a830394",
   "metadata": {},
   "outputs": [],
   "source": [
    "components_without_noise.normalize()\n",
    "mix_without_noise.normalize()"
   ]
  },
  {
   "cell_type": "code",
   "execution_count": 36,
   "id": "5e5efb16",
   "metadata": {},
   "outputs": [],
   "source": [
    "# components_without_noise.plot(profile=True)\n",
    "# mix_without_noise.plot(profile=True)"
   ]
  },
  {
   "cell_type": "markdown",
   "id": "a151414b",
   "metadata": {},
   "source": [
    "#### Histograms"
   ]
  },
  {
   "cell_type": "code",
   "execution_count": 37,
   "id": "a22fee02",
   "metadata": {},
   "outputs": [
    {
     "data": {
      "text/plain": [
       "0.2703154449229968"
      ]
     },
     "execution_count": 37,
     "metadata": {},
     "output_type": "execute_result"
    }
   ],
   "source": [
    "mix_without_noise.WSDistance(components_without_noise)"
   ]
  },
  {
   "cell_type": "code",
   "execution_count": 38,
   "id": "93871133",
   "metadata": {},
   "outputs": [],
   "source": [
    "distances = [abs(x[0]-x[1]) for x in list(mix_without_noise.WSDistanceMoves(components_without_noise))]\n",
    "signals = [x[2] for x in list(mix_without_noise.WSDistanceMoves(components_without_noise))]"
   ]
  },
  {
   "cell_type": "code",
   "execution_count": 39,
   "id": "c6207999",
   "metadata": {},
   "outputs": [],
   "source": [
    "distances_signals = list(zip(distances, signals))\n",
    "distances_signals = pd.DataFrame(distances_signals, columns = ['Distances', 'Signals'])\n",
    "distances_signals = distances_signals.groupby('Distances').agg('sum')\n",
    "distances_signals.sort_index(inplace=True)"
   ]
  },
  {
   "cell_type": "code",
   "execution_count": 40,
   "id": "775d107a",
   "metadata": {},
   "outputs": [],
   "source": [
    "MTD=best_kappa_mix[nr_of_experiment-1]\n",
    "MTD_th=best_kappa_model[nr_of_experiment-1]"
   ]
  },
  {
   "cell_type": "code",
   "execution_count": 41,
   "id": "7c339885",
   "metadata": {
    "scrolled": true
   },
   "outputs": [
    {
     "data": {
      "application/javascript": [
       "/* Put everything inside the global mpl namespace */\n",
       "/* global mpl */\n",
       "window.mpl = {};\n",
       "\n",
       "mpl.get_websocket_type = function () {\n",
       "    if (typeof WebSocket !== 'undefined') {\n",
       "        return WebSocket;\n",
       "    } else if (typeof MozWebSocket !== 'undefined') {\n",
       "        return MozWebSocket;\n",
       "    } else {\n",
       "        alert(\n",
       "            'Your browser does not have WebSocket support. ' +\n",
       "                'Please try Chrome, Safari or Firefox ≥ 6. ' +\n",
       "                'Firefox 4 and 5 are also supported but you ' +\n",
       "                'have to enable WebSockets in about:config.'\n",
       "        );\n",
       "    }\n",
       "};\n",
       "\n",
       "mpl.figure = function (figure_id, websocket, ondownload, parent_element) {\n",
       "    this.id = figure_id;\n",
       "\n",
       "    this.ws = websocket;\n",
       "\n",
       "    this.supports_binary = this.ws.binaryType !== undefined;\n",
       "\n",
       "    if (!this.supports_binary) {\n",
       "        var warnings = document.getElementById('mpl-warnings');\n",
       "        if (warnings) {\n",
       "            warnings.style.display = 'block';\n",
       "            warnings.textContent =\n",
       "                'This browser does not support binary websocket messages. ' +\n",
       "                'Performance may be slow.';\n",
       "        }\n",
       "    }\n",
       "\n",
       "    this.imageObj = new Image();\n",
       "\n",
       "    this.context = undefined;\n",
       "    this.message = undefined;\n",
       "    this.canvas = undefined;\n",
       "    this.rubberband_canvas = undefined;\n",
       "    this.rubberband_context = undefined;\n",
       "    this.format_dropdown = undefined;\n",
       "\n",
       "    this.image_mode = 'full';\n",
       "\n",
       "    this.root = document.createElement('div');\n",
       "    this.root.setAttribute('style', 'display: inline-block');\n",
       "    this._root_extra_style(this.root);\n",
       "\n",
       "    parent_element.appendChild(this.root);\n",
       "\n",
       "    this._init_header(this);\n",
       "    this._init_canvas(this);\n",
       "    this._init_toolbar(this);\n",
       "\n",
       "    var fig = this;\n",
       "\n",
       "    this.waiting = false;\n",
       "\n",
       "    this.ws.onopen = function () {\n",
       "        fig.send_message('supports_binary', { value: fig.supports_binary });\n",
       "        fig.send_message('send_image_mode', {});\n",
       "        if (fig.ratio !== 1) {\n",
       "            fig.send_message('set_device_pixel_ratio', {\n",
       "                device_pixel_ratio: fig.ratio,\n",
       "            });\n",
       "        }\n",
       "        fig.send_message('refresh', {});\n",
       "    };\n",
       "\n",
       "    this.imageObj.onload = function () {\n",
       "        if (fig.image_mode === 'full') {\n",
       "            // Full images could contain transparency (where diff images\n",
       "            // almost always do), so we need to clear the canvas so that\n",
       "            // there is no ghosting.\n",
       "            fig.context.clearRect(0, 0, fig.canvas.width, fig.canvas.height);\n",
       "        }\n",
       "        fig.context.drawImage(fig.imageObj, 0, 0);\n",
       "    };\n",
       "\n",
       "    this.imageObj.onunload = function () {\n",
       "        fig.ws.close();\n",
       "    };\n",
       "\n",
       "    this.ws.onmessage = this._make_on_message_function(this);\n",
       "\n",
       "    this.ondownload = ondownload;\n",
       "};\n",
       "\n",
       "mpl.figure.prototype._init_header = function () {\n",
       "    var titlebar = document.createElement('div');\n",
       "    titlebar.classList =\n",
       "        'ui-dialog-titlebar ui-widget-header ui-corner-all ui-helper-clearfix';\n",
       "    var titletext = document.createElement('div');\n",
       "    titletext.classList = 'ui-dialog-title';\n",
       "    titletext.setAttribute(\n",
       "        'style',\n",
       "        'width: 100%; text-align: center; padding: 3px;'\n",
       "    );\n",
       "    titlebar.appendChild(titletext);\n",
       "    this.root.appendChild(titlebar);\n",
       "    this.header = titletext;\n",
       "};\n",
       "\n",
       "mpl.figure.prototype._canvas_extra_style = function (_canvas_div) {};\n",
       "\n",
       "mpl.figure.prototype._root_extra_style = function (_canvas_div) {};\n",
       "\n",
       "mpl.figure.prototype._init_canvas = function () {\n",
       "    var fig = this;\n",
       "\n",
       "    var canvas_div = (this.canvas_div = document.createElement('div'));\n",
       "    canvas_div.setAttribute('tabindex', '0');\n",
       "    canvas_div.setAttribute(\n",
       "        'style',\n",
       "        'border: 1px solid #ddd;' +\n",
       "            'box-sizing: content-box;' +\n",
       "            'clear: both;' +\n",
       "            'min-height: 1px;' +\n",
       "            'min-width: 1px;' +\n",
       "            'outline: 0;' +\n",
       "            'overflow: hidden;' +\n",
       "            'position: relative;' +\n",
       "            'resize: both;' +\n",
       "            'z-index: 2;'\n",
       "    );\n",
       "\n",
       "    function on_keyboard_event_closure(name) {\n",
       "        return function (event) {\n",
       "            return fig.key_event(event, name);\n",
       "        };\n",
       "    }\n",
       "\n",
       "    canvas_div.addEventListener(\n",
       "        'keydown',\n",
       "        on_keyboard_event_closure('key_press')\n",
       "    );\n",
       "    canvas_div.addEventListener(\n",
       "        'keyup',\n",
       "        on_keyboard_event_closure('key_release')\n",
       "    );\n",
       "\n",
       "    this._canvas_extra_style(canvas_div);\n",
       "    this.root.appendChild(canvas_div);\n",
       "\n",
       "    var canvas = (this.canvas = document.createElement('canvas'));\n",
       "    canvas.classList.add('mpl-canvas');\n",
       "    canvas.setAttribute(\n",
       "        'style',\n",
       "        'box-sizing: content-box;' +\n",
       "            'pointer-events: none;' +\n",
       "            'position: relative;' +\n",
       "            'z-index: 0;'\n",
       "    );\n",
       "\n",
       "    this.context = canvas.getContext('2d');\n",
       "\n",
       "    var backingStore =\n",
       "        this.context.backingStorePixelRatio ||\n",
       "        this.context.webkitBackingStorePixelRatio ||\n",
       "        this.context.mozBackingStorePixelRatio ||\n",
       "        this.context.msBackingStorePixelRatio ||\n",
       "        this.context.oBackingStorePixelRatio ||\n",
       "        this.context.backingStorePixelRatio ||\n",
       "        1;\n",
       "\n",
       "    this.ratio = (window.devicePixelRatio || 1) / backingStore;\n",
       "\n",
       "    var rubberband_canvas = (this.rubberband_canvas = document.createElement(\n",
       "        'canvas'\n",
       "    ));\n",
       "    rubberband_canvas.setAttribute(\n",
       "        'style',\n",
       "        'box-sizing: content-box;' +\n",
       "            'left: 0;' +\n",
       "            'pointer-events: none;' +\n",
       "            'position: absolute;' +\n",
       "            'top: 0;' +\n",
       "            'z-index: 1;'\n",
       "    );\n",
       "\n",
       "    // Apply a ponyfill if ResizeObserver is not implemented by browser.\n",
       "    if (this.ResizeObserver === undefined) {\n",
       "        if (window.ResizeObserver !== undefined) {\n",
       "            this.ResizeObserver = window.ResizeObserver;\n",
       "        } else {\n",
       "            var obs = _JSXTOOLS_RESIZE_OBSERVER({});\n",
       "            this.ResizeObserver = obs.ResizeObserver;\n",
       "        }\n",
       "    }\n",
       "\n",
       "    this.resizeObserverInstance = new this.ResizeObserver(function (entries) {\n",
       "        var nentries = entries.length;\n",
       "        for (var i = 0; i < nentries; i++) {\n",
       "            var entry = entries[i];\n",
       "            var width, height;\n",
       "            if (entry.contentBoxSize) {\n",
       "                if (entry.contentBoxSize instanceof Array) {\n",
       "                    // Chrome 84 implements new version of spec.\n",
       "                    width = entry.contentBoxSize[0].inlineSize;\n",
       "                    height = entry.contentBoxSize[0].blockSize;\n",
       "                } else {\n",
       "                    // Firefox implements old version of spec.\n",
       "                    width = entry.contentBoxSize.inlineSize;\n",
       "                    height = entry.contentBoxSize.blockSize;\n",
       "                }\n",
       "            } else {\n",
       "                // Chrome <84 implements even older version of spec.\n",
       "                width = entry.contentRect.width;\n",
       "                height = entry.contentRect.height;\n",
       "            }\n",
       "\n",
       "            // Keep the size of the canvas and rubber band canvas in sync with\n",
       "            // the canvas container.\n",
       "            if (entry.devicePixelContentBoxSize) {\n",
       "                // Chrome 84 implements new version of spec.\n",
       "                canvas.setAttribute(\n",
       "                    'width',\n",
       "                    entry.devicePixelContentBoxSize[0].inlineSize\n",
       "                );\n",
       "                canvas.setAttribute(\n",
       "                    'height',\n",
       "                    entry.devicePixelContentBoxSize[0].blockSize\n",
       "                );\n",
       "            } else {\n",
       "                canvas.setAttribute('width', width * fig.ratio);\n",
       "                canvas.setAttribute('height', height * fig.ratio);\n",
       "            }\n",
       "            /* This rescales the canvas back to display pixels, so that it\n",
       "             * appears correct on HiDPI screens. */\n",
       "            canvas.style.width = width + 'px';\n",
       "            canvas.style.height = height + 'px';\n",
       "\n",
       "            rubberband_canvas.setAttribute('width', width);\n",
       "            rubberband_canvas.setAttribute('height', height);\n",
       "\n",
       "            // And update the size in Python. We ignore the initial 0/0 size\n",
       "            // that occurs as the element is placed into the DOM, which should\n",
       "            // otherwise not happen due to the minimum size styling.\n",
       "            if (fig.ws.readyState == 1 && width != 0 && height != 0) {\n",
       "                fig.request_resize(width, height);\n",
       "            }\n",
       "        }\n",
       "    });\n",
       "    this.resizeObserverInstance.observe(canvas_div);\n",
       "\n",
       "    function on_mouse_event_closure(name) {\n",
       "        /* User Agent sniffing is bad, but WebKit is busted:\n",
       "         * https://bugs.webkit.org/show_bug.cgi?id=144526\n",
       "         * https://bugs.webkit.org/show_bug.cgi?id=181818\n",
       "         * The worst that happens here is that they get an extra browser\n",
       "         * selection when dragging, if this check fails to catch them.\n",
       "         */\n",
       "        var UA = navigator.userAgent;\n",
       "        var isWebKit = /AppleWebKit/.test(UA) && !/Chrome/.test(UA);\n",
       "        if(isWebKit) {\n",
       "            return function (event) {\n",
       "                /* This prevents the web browser from automatically changing to\n",
       "                 * the text insertion cursor when the button is pressed. We\n",
       "                 * want to control all of the cursor setting manually through\n",
       "                 * the 'cursor' event from matplotlib */\n",
       "                event.preventDefault()\n",
       "                return fig.mouse_event(event, name);\n",
       "            };\n",
       "        } else {\n",
       "            return function (event) {\n",
       "                return fig.mouse_event(event, name);\n",
       "            };\n",
       "        }\n",
       "    }\n",
       "\n",
       "    canvas_div.addEventListener(\n",
       "        'mousedown',\n",
       "        on_mouse_event_closure('button_press')\n",
       "    );\n",
       "    canvas_div.addEventListener(\n",
       "        'mouseup',\n",
       "        on_mouse_event_closure('button_release')\n",
       "    );\n",
       "    canvas_div.addEventListener(\n",
       "        'dblclick',\n",
       "        on_mouse_event_closure('dblclick')\n",
       "    );\n",
       "    // Throttle sequential mouse events to 1 every 20ms.\n",
       "    canvas_div.addEventListener(\n",
       "        'mousemove',\n",
       "        on_mouse_event_closure('motion_notify')\n",
       "    );\n",
       "\n",
       "    canvas_div.addEventListener(\n",
       "        'mouseenter',\n",
       "        on_mouse_event_closure('figure_enter')\n",
       "    );\n",
       "    canvas_div.addEventListener(\n",
       "        'mouseleave',\n",
       "        on_mouse_event_closure('figure_leave')\n",
       "    );\n",
       "\n",
       "    canvas_div.addEventListener('wheel', function (event) {\n",
       "        if (event.deltaY < 0) {\n",
       "            event.step = 1;\n",
       "        } else {\n",
       "            event.step = -1;\n",
       "        }\n",
       "        on_mouse_event_closure('scroll')(event);\n",
       "    });\n",
       "\n",
       "    canvas_div.appendChild(canvas);\n",
       "    canvas_div.appendChild(rubberband_canvas);\n",
       "\n",
       "    this.rubberband_context = rubberband_canvas.getContext('2d');\n",
       "    this.rubberband_context.strokeStyle = '#000000';\n",
       "\n",
       "    this._resize_canvas = function (width, height, forward) {\n",
       "        if (forward) {\n",
       "            canvas_div.style.width = width + 'px';\n",
       "            canvas_div.style.height = height + 'px';\n",
       "        }\n",
       "    };\n",
       "\n",
       "    // Disable right mouse context menu.\n",
       "    canvas_div.addEventListener('contextmenu', function (_e) {\n",
       "        event.preventDefault();\n",
       "        return false;\n",
       "    });\n",
       "\n",
       "    function set_focus() {\n",
       "        canvas.focus();\n",
       "        canvas_div.focus();\n",
       "    }\n",
       "\n",
       "    window.setTimeout(set_focus, 100);\n",
       "};\n",
       "\n",
       "mpl.figure.prototype._init_toolbar = function () {\n",
       "    var fig = this;\n",
       "\n",
       "    var toolbar = document.createElement('div');\n",
       "    toolbar.classList = 'mpl-toolbar';\n",
       "    this.root.appendChild(toolbar);\n",
       "\n",
       "    function on_click_closure(name) {\n",
       "        return function (_event) {\n",
       "            return fig.toolbar_button_onclick(name);\n",
       "        };\n",
       "    }\n",
       "\n",
       "    function on_mouseover_closure(tooltip) {\n",
       "        return function (event) {\n",
       "            if (!event.currentTarget.disabled) {\n",
       "                return fig.toolbar_button_onmouseover(tooltip);\n",
       "            }\n",
       "        };\n",
       "    }\n",
       "\n",
       "    fig.buttons = {};\n",
       "    var buttonGroup = document.createElement('div');\n",
       "    buttonGroup.classList = 'mpl-button-group';\n",
       "    for (var toolbar_ind in mpl.toolbar_items) {\n",
       "        var name = mpl.toolbar_items[toolbar_ind][0];\n",
       "        var tooltip = mpl.toolbar_items[toolbar_ind][1];\n",
       "        var image = mpl.toolbar_items[toolbar_ind][2];\n",
       "        var method_name = mpl.toolbar_items[toolbar_ind][3];\n",
       "\n",
       "        if (!name) {\n",
       "            /* Instead of a spacer, we start a new button group. */\n",
       "            if (buttonGroup.hasChildNodes()) {\n",
       "                toolbar.appendChild(buttonGroup);\n",
       "            }\n",
       "            buttonGroup = document.createElement('div');\n",
       "            buttonGroup.classList = 'mpl-button-group';\n",
       "            continue;\n",
       "        }\n",
       "\n",
       "        var button = (fig.buttons[name] = document.createElement('button'));\n",
       "        button.classList = 'mpl-widget';\n",
       "        button.setAttribute('role', 'button');\n",
       "        button.setAttribute('aria-disabled', 'false');\n",
       "        button.addEventListener('click', on_click_closure(method_name));\n",
       "        button.addEventListener('mouseover', on_mouseover_closure(tooltip));\n",
       "\n",
       "        var icon_img = document.createElement('img');\n",
       "        icon_img.src = '_images/' + image + '.png';\n",
       "        icon_img.srcset = '_images/' + image + '_large.png 2x';\n",
       "        icon_img.alt = tooltip;\n",
       "        button.appendChild(icon_img);\n",
       "\n",
       "        buttonGroup.appendChild(button);\n",
       "    }\n",
       "\n",
       "    if (buttonGroup.hasChildNodes()) {\n",
       "        toolbar.appendChild(buttonGroup);\n",
       "    }\n",
       "\n",
       "    var fmt_picker = document.createElement('select');\n",
       "    fmt_picker.classList = 'mpl-widget';\n",
       "    toolbar.appendChild(fmt_picker);\n",
       "    this.format_dropdown = fmt_picker;\n",
       "\n",
       "    for (var ind in mpl.extensions) {\n",
       "        var fmt = mpl.extensions[ind];\n",
       "        var option = document.createElement('option');\n",
       "        option.selected = fmt === mpl.default_extension;\n",
       "        option.innerHTML = fmt;\n",
       "        fmt_picker.appendChild(option);\n",
       "    }\n",
       "\n",
       "    var status_bar = document.createElement('span');\n",
       "    status_bar.classList = 'mpl-message';\n",
       "    toolbar.appendChild(status_bar);\n",
       "    this.message = status_bar;\n",
       "};\n",
       "\n",
       "mpl.figure.prototype.request_resize = function (x_pixels, y_pixels) {\n",
       "    // Request matplotlib to resize the figure. Matplotlib will then trigger a resize in the client,\n",
       "    // which will in turn request a refresh of the image.\n",
       "    this.send_message('resize', { width: x_pixels, height: y_pixels });\n",
       "};\n",
       "\n",
       "mpl.figure.prototype.send_message = function (type, properties) {\n",
       "    properties['type'] = type;\n",
       "    properties['figure_id'] = this.id;\n",
       "    this.ws.send(JSON.stringify(properties));\n",
       "};\n",
       "\n",
       "mpl.figure.prototype.send_draw_message = function () {\n",
       "    if (!this.waiting) {\n",
       "        this.waiting = true;\n",
       "        this.ws.send(JSON.stringify({ type: 'draw', figure_id: this.id }));\n",
       "    }\n",
       "};\n",
       "\n",
       "mpl.figure.prototype.handle_save = function (fig, _msg) {\n",
       "    var format_dropdown = fig.format_dropdown;\n",
       "    var format = format_dropdown.options[format_dropdown.selectedIndex].value;\n",
       "    fig.ondownload(fig, format);\n",
       "};\n",
       "\n",
       "mpl.figure.prototype.handle_resize = function (fig, msg) {\n",
       "    var size = msg['size'];\n",
       "    if (size[0] !== fig.canvas.width || size[1] !== fig.canvas.height) {\n",
       "        fig._resize_canvas(size[0], size[1], msg['forward']);\n",
       "        fig.send_message('refresh', {});\n",
       "    }\n",
       "};\n",
       "\n",
       "mpl.figure.prototype.handle_rubberband = function (fig, msg) {\n",
       "    var x0 = msg['x0'] / fig.ratio;\n",
       "    var y0 = (fig.canvas.height - msg['y0']) / fig.ratio;\n",
       "    var x1 = msg['x1'] / fig.ratio;\n",
       "    var y1 = (fig.canvas.height - msg['y1']) / fig.ratio;\n",
       "    x0 = Math.floor(x0) + 0.5;\n",
       "    y0 = Math.floor(y0) + 0.5;\n",
       "    x1 = Math.floor(x1) + 0.5;\n",
       "    y1 = Math.floor(y1) + 0.5;\n",
       "    var min_x = Math.min(x0, x1);\n",
       "    var min_y = Math.min(y0, y1);\n",
       "    var width = Math.abs(x1 - x0);\n",
       "    var height = Math.abs(y1 - y0);\n",
       "\n",
       "    fig.rubberband_context.clearRect(\n",
       "        0,\n",
       "        0,\n",
       "        fig.canvas.width / fig.ratio,\n",
       "        fig.canvas.height / fig.ratio\n",
       "    );\n",
       "\n",
       "    fig.rubberband_context.strokeRect(min_x, min_y, width, height);\n",
       "};\n",
       "\n",
       "mpl.figure.prototype.handle_figure_label = function (fig, msg) {\n",
       "    // Updates the figure title.\n",
       "    fig.header.textContent = msg['label'];\n",
       "};\n",
       "\n",
       "mpl.figure.prototype.handle_cursor = function (fig, msg) {\n",
       "    fig.canvas_div.style.cursor = msg['cursor'];\n",
       "};\n",
       "\n",
       "mpl.figure.prototype.handle_message = function (fig, msg) {\n",
       "    fig.message.textContent = msg['message'];\n",
       "};\n",
       "\n",
       "mpl.figure.prototype.handle_draw = function (fig, _msg) {\n",
       "    // Request the server to send over a new figure.\n",
       "    fig.send_draw_message();\n",
       "};\n",
       "\n",
       "mpl.figure.prototype.handle_image_mode = function (fig, msg) {\n",
       "    fig.image_mode = msg['mode'];\n",
       "};\n",
       "\n",
       "mpl.figure.prototype.handle_history_buttons = function (fig, msg) {\n",
       "    for (var key in msg) {\n",
       "        if (!(key in fig.buttons)) {\n",
       "            continue;\n",
       "        }\n",
       "        fig.buttons[key].disabled = !msg[key];\n",
       "        fig.buttons[key].setAttribute('aria-disabled', !msg[key]);\n",
       "    }\n",
       "};\n",
       "\n",
       "mpl.figure.prototype.handle_navigate_mode = function (fig, msg) {\n",
       "    if (msg['mode'] === 'PAN') {\n",
       "        fig.buttons['Pan'].classList.add('active');\n",
       "        fig.buttons['Zoom'].classList.remove('active');\n",
       "    } else if (msg['mode'] === 'ZOOM') {\n",
       "        fig.buttons['Pan'].classList.remove('active');\n",
       "        fig.buttons['Zoom'].classList.add('active');\n",
       "    } else {\n",
       "        fig.buttons['Pan'].classList.remove('active');\n",
       "        fig.buttons['Zoom'].classList.remove('active');\n",
       "    }\n",
       "};\n",
       "\n",
       "mpl.figure.prototype.updated_canvas_event = function () {\n",
       "    // Called whenever the canvas gets updated.\n",
       "    this.send_message('ack', {});\n",
       "};\n",
       "\n",
       "// A function to construct a web socket function for onmessage handling.\n",
       "// Called in the figure constructor.\n",
       "mpl.figure.prototype._make_on_message_function = function (fig) {\n",
       "    return function socket_on_message(evt) {\n",
       "        if (evt.data instanceof Blob) {\n",
       "            var img = evt.data;\n",
       "            if (img.type !== 'image/png') {\n",
       "                /* FIXME: We get \"Resource interpreted as Image but\n",
       "                 * transferred with MIME type text/plain:\" errors on\n",
       "                 * Chrome.  But how to set the MIME type?  It doesn't seem\n",
       "                 * to be part of the websocket stream */\n",
       "                img.type = 'image/png';\n",
       "            }\n",
       "\n",
       "            /* Free the memory for the previous frames */\n",
       "            if (fig.imageObj.src) {\n",
       "                (window.URL || window.webkitURL).revokeObjectURL(\n",
       "                    fig.imageObj.src\n",
       "                );\n",
       "            }\n",
       "\n",
       "            fig.imageObj.src = (window.URL || window.webkitURL).createObjectURL(\n",
       "                img\n",
       "            );\n",
       "            fig.updated_canvas_event();\n",
       "            fig.waiting = false;\n",
       "            return;\n",
       "        } else if (\n",
       "            typeof evt.data === 'string' &&\n",
       "            evt.data.slice(0, 21) === 'data:image/png;base64'\n",
       "        ) {\n",
       "            fig.imageObj.src = evt.data;\n",
       "            fig.updated_canvas_event();\n",
       "            fig.waiting = false;\n",
       "            return;\n",
       "        }\n",
       "\n",
       "        var msg = JSON.parse(evt.data);\n",
       "        var msg_type = msg['type'];\n",
       "\n",
       "        // Call the  \"handle_{type}\" callback, which takes\n",
       "        // the figure and JSON message as its only arguments.\n",
       "        try {\n",
       "            var callback = fig['handle_' + msg_type];\n",
       "        } catch (e) {\n",
       "            console.log(\n",
       "                \"No handler for the '\" + msg_type + \"' message type: \",\n",
       "                msg\n",
       "            );\n",
       "            return;\n",
       "        }\n",
       "\n",
       "        if (callback) {\n",
       "            try {\n",
       "                // console.log(\"Handling '\" + msg_type + \"' message: \", msg);\n",
       "                callback(fig, msg);\n",
       "            } catch (e) {\n",
       "                console.log(\n",
       "                    \"Exception inside the 'handler_\" + msg_type + \"' callback:\",\n",
       "                    e,\n",
       "                    e.stack,\n",
       "                    msg\n",
       "                );\n",
       "            }\n",
       "        }\n",
       "    };\n",
       "};\n",
       "\n",
       "\n",
       "/*\n",
       " * return a copy of an object with only non-object keys\n",
       " * we need this to avoid circular references\n",
       " * https://stackoverflow.com/a/24161582/3208463\n",
       " */\n",
       "function simpleKeys(original) {\n",
       "    return Object.keys(original).reduce(function (obj, key) {\n",
       "        if (typeof original[key] !== 'object') {\n",
       "            obj[key] = original[key];\n",
       "        }\n",
       "        return obj;\n",
       "    }, {});\n",
       "}\n",
       "\n",
       "mpl.figure.prototype.mouse_event = function (event, name) {\n",
       "    if (name === 'button_press') {\n",
       "        this.canvas.focus();\n",
       "        this.canvas_div.focus();\n",
       "    }\n",
       "\n",
       "    // from https://stackoverflow.com/q/1114465\n",
       "    var boundingRect = this.canvas.getBoundingClientRect();\n",
       "    var x = (event.clientX - boundingRect.left) * this.ratio;\n",
       "    var y = (event.clientY - boundingRect.top) * this.ratio;\n",
       "\n",
       "    this.send_message(name, {\n",
       "        x: x,\n",
       "        y: y,\n",
       "        button: event.button,\n",
       "        step: event.step,\n",
       "        guiEvent: simpleKeys(event),\n",
       "    });\n",
       "\n",
       "    return false;\n",
       "};\n",
       "\n",
       "mpl.figure.prototype._key_event_extra = function (_event, _name) {\n",
       "    // Handle any extra behaviour associated with a key event\n",
       "};\n",
       "\n",
       "mpl.figure.prototype.key_event = function (event, name) {\n",
       "    // Prevent repeat events\n",
       "    if (name === 'key_press') {\n",
       "        if (event.key === this._key) {\n",
       "            return;\n",
       "        } else {\n",
       "            this._key = event.key;\n",
       "        }\n",
       "    }\n",
       "    if (name === 'key_release') {\n",
       "        this._key = null;\n",
       "    }\n",
       "\n",
       "    var value = '';\n",
       "    if (event.ctrlKey && event.key !== 'Control') {\n",
       "        value += 'ctrl+';\n",
       "    }\n",
       "    else if (event.altKey && event.key !== 'Alt') {\n",
       "        value += 'alt+';\n",
       "    }\n",
       "    else if (event.shiftKey && event.key !== 'Shift') {\n",
       "        value += 'shift+';\n",
       "    }\n",
       "\n",
       "    value += 'k' + event.key;\n",
       "\n",
       "    this._key_event_extra(event, name);\n",
       "\n",
       "    this.send_message(name, { key: value, guiEvent: simpleKeys(event) });\n",
       "    return false;\n",
       "};\n",
       "\n",
       "mpl.figure.prototype.toolbar_button_onclick = function (name) {\n",
       "    if (name === 'download') {\n",
       "        this.handle_save(this, null);\n",
       "    } else {\n",
       "        this.send_message('toolbar_button', { name: name });\n",
       "    }\n",
       "};\n",
       "\n",
       "mpl.figure.prototype.toolbar_button_onmouseover = function (tooltip) {\n",
       "    this.message.textContent = tooltip;\n",
       "};\n",
       "\n",
       "///////////////// REMAINING CONTENT GENERATED BY embed_js.py /////////////////\n",
       "// prettier-ignore\n",
       "var _JSXTOOLS_RESIZE_OBSERVER=function(A){var t,i=new WeakMap,n=new WeakMap,a=new WeakMap,r=new WeakMap,o=new Set;function s(e){if(!(this instanceof s))throw new TypeError(\"Constructor requires 'new' operator\");i.set(this,e)}function h(){throw new TypeError(\"Function is not a constructor\")}function c(e,t,i,n){e=0 in arguments?Number(arguments[0]):0,t=1 in arguments?Number(arguments[1]):0,i=2 in arguments?Number(arguments[2]):0,n=3 in arguments?Number(arguments[3]):0,this.right=(this.x=this.left=e)+(this.width=i),this.bottom=(this.y=this.top=t)+(this.height=n),Object.freeze(this)}function d(){t=requestAnimationFrame(d);var s=new WeakMap,p=new Set;o.forEach((function(t){r.get(t).forEach((function(i){var r=t instanceof window.SVGElement,o=a.get(t),d=r?0:parseFloat(o.paddingTop),f=r?0:parseFloat(o.paddingRight),l=r?0:parseFloat(o.paddingBottom),u=r?0:parseFloat(o.paddingLeft),g=r?0:parseFloat(o.borderTopWidth),m=r?0:parseFloat(o.borderRightWidth),w=r?0:parseFloat(o.borderBottomWidth),b=u+f,F=d+l,v=(r?0:parseFloat(o.borderLeftWidth))+m,W=g+w,y=r?0:t.offsetHeight-W-t.clientHeight,E=r?0:t.offsetWidth-v-t.clientWidth,R=b+v,z=F+W,M=r?t.width:parseFloat(o.width)-R-E,O=r?t.height:parseFloat(o.height)-z-y;if(n.has(t)){var k=n.get(t);if(k[0]===M&&k[1]===O)return}n.set(t,[M,O]);var S=Object.create(h.prototype);S.target=t,S.contentRect=new c(u,d,M,O),s.has(i)||(s.set(i,[]),p.add(i)),s.get(i).push(S)}))})),p.forEach((function(e){i.get(e).call(e,s.get(e),e)}))}return s.prototype.observe=function(i){if(i instanceof window.Element){r.has(i)||(r.set(i,new Set),o.add(i),a.set(i,window.getComputedStyle(i)));var n=r.get(i);n.has(this)||n.add(this),cancelAnimationFrame(t),t=requestAnimationFrame(d)}},s.prototype.unobserve=function(i){if(i instanceof window.Element&&r.has(i)){var n=r.get(i);n.has(this)&&(n.delete(this),n.size||(r.delete(i),o.delete(i))),n.size||r.delete(i),o.size||cancelAnimationFrame(t)}},A.DOMRectReadOnly=c,A.ResizeObserver=s,A.ResizeObserverEntry=h,A}; // eslint-disable-line\n",
       "mpl.toolbar_items = [[\"Home\", \"Reset original view\", \"fa fa-home\", \"home\"], [\"Back\", \"Back to previous view\", \"fa fa-arrow-left\", \"back\"], [\"Forward\", \"Forward to next view\", \"fa fa-arrow-right\", \"forward\"], [\"\", \"\", \"\", \"\"], [\"Pan\", \"Left button pans, Right button zooms\\nx/y fixes axis, CTRL fixes aspect\", \"fa fa-arrows\", \"pan\"], [\"Zoom\", \"Zoom to rectangle\\nx/y fixes axis\", \"fa fa-square-o\", \"zoom\"], [\"\", \"\", \"\", \"\"], [\"Download\", \"Download plot\", \"fa fa-floppy-o\", \"download\"]];\n",
       "\n",
       "mpl.extensions = [\"eps\", \"jpeg\", \"pgf\", \"pdf\", \"png\", \"ps\", \"raw\", \"svg\", \"tif\", \"webp\"];\n",
       "\n",
       "mpl.default_extension = \"png\";/* global mpl */\n",
       "\n",
       "var comm_websocket_adapter = function (comm) {\n",
       "    // Create a \"websocket\"-like object which calls the given IPython comm\n",
       "    // object with the appropriate methods. Currently this is a non binary\n",
       "    // socket, so there is still some room for performance tuning.\n",
       "    var ws = {};\n",
       "\n",
       "    ws.binaryType = comm.kernel.ws.binaryType;\n",
       "    ws.readyState = comm.kernel.ws.readyState;\n",
       "    function updateReadyState(_event) {\n",
       "        if (comm.kernel.ws) {\n",
       "            ws.readyState = comm.kernel.ws.readyState;\n",
       "        } else {\n",
       "            ws.readyState = 3; // Closed state.\n",
       "        }\n",
       "    }\n",
       "    comm.kernel.ws.addEventListener('open', updateReadyState);\n",
       "    comm.kernel.ws.addEventListener('close', updateReadyState);\n",
       "    comm.kernel.ws.addEventListener('error', updateReadyState);\n",
       "\n",
       "    ws.close = function () {\n",
       "        comm.close();\n",
       "    };\n",
       "    ws.send = function (m) {\n",
       "        //console.log('sending', m);\n",
       "        comm.send(m);\n",
       "    };\n",
       "    // Register the callback with on_msg.\n",
       "    comm.on_msg(function (msg) {\n",
       "        //console.log('receiving', msg['content']['data'], msg);\n",
       "        var data = msg['content']['data'];\n",
       "        if (data['blob'] !== undefined) {\n",
       "            data = {\n",
       "                data: new Blob(msg['buffers'], { type: data['blob'] }),\n",
       "            };\n",
       "        }\n",
       "        // Pass the mpl event to the overridden (by mpl) onmessage function.\n",
       "        ws.onmessage(data);\n",
       "    });\n",
       "    return ws;\n",
       "};\n",
       "\n",
       "mpl.mpl_figure_comm = function (comm, msg) {\n",
       "    // This is the function which gets called when the mpl process\n",
       "    // starts-up an IPython Comm through the \"matplotlib\" channel.\n",
       "\n",
       "    var id = msg.content.data.id;\n",
       "    // Get hold of the div created by the display call when the Comm\n",
       "    // socket was opened in Python.\n",
       "    var element = document.getElementById(id);\n",
       "    var ws_proxy = comm_websocket_adapter(comm);\n",
       "\n",
       "    function ondownload(figure, _format) {\n",
       "        window.open(figure.canvas.toDataURL());\n",
       "    }\n",
       "\n",
       "    var fig = new mpl.figure(id, ws_proxy, ondownload, element);\n",
       "\n",
       "    // Call onopen now - mpl needs it, as it is assuming we've passed it a real\n",
       "    // web socket which is closed, not our websocket->open comm proxy.\n",
       "    ws_proxy.onopen();\n",
       "\n",
       "    fig.parent_element = element;\n",
       "    fig.cell_info = mpl.find_output_cell(\"<div id='\" + id + \"'></div>\");\n",
       "    if (!fig.cell_info) {\n",
       "        console.error('Failed to find cell for figure', id, fig);\n",
       "        return;\n",
       "    }\n",
       "    fig.cell_info[0].output_area.element.on(\n",
       "        'cleared',\n",
       "        { fig: fig },\n",
       "        fig._remove_fig_handler\n",
       "    );\n",
       "};\n",
       "\n",
       "mpl.figure.prototype.handle_close = function (fig, msg) {\n",
       "    var width = fig.canvas.width / fig.ratio;\n",
       "    fig.cell_info[0].output_area.element.off(\n",
       "        'cleared',\n",
       "        fig._remove_fig_handler\n",
       "    );\n",
       "    fig.resizeObserverInstance.unobserve(fig.canvas_div);\n",
       "\n",
       "    // Update the output cell to use the data from the current canvas.\n",
       "    fig.push_to_output();\n",
       "    var dataURL = fig.canvas.toDataURL();\n",
       "    // Re-enable the keyboard manager in IPython - without this line, in FF,\n",
       "    // the notebook keyboard shortcuts fail.\n",
       "    IPython.keyboard_manager.enable();\n",
       "    fig.parent_element.innerHTML =\n",
       "        '<img src=\"' + dataURL + '\" width=\"' + width + '\">';\n",
       "    fig.close_ws(fig, msg);\n",
       "};\n",
       "\n",
       "mpl.figure.prototype.close_ws = function (fig, msg) {\n",
       "    fig.send_message('closing', msg);\n",
       "    // fig.ws.close()\n",
       "};\n",
       "\n",
       "mpl.figure.prototype.push_to_output = function (_remove_interactive) {\n",
       "    // Turn the data on the canvas into data in the output cell.\n",
       "    var width = this.canvas.width / this.ratio;\n",
       "    var dataURL = this.canvas.toDataURL();\n",
       "    this.cell_info[1]['text/html'] =\n",
       "        '<img src=\"' + dataURL + '\" width=\"' + width + '\">';\n",
       "};\n",
       "\n",
       "mpl.figure.prototype.updated_canvas_event = function () {\n",
       "    // Tell IPython that the notebook contents must change.\n",
       "    IPython.notebook.set_dirty(true);\n",
       "    this.send_message('ack', {});\n",
       "    var fig = this;\n",
       "    // Wait a second, then push the new image to the DOM so\n",
       "    // that it is saved nicely (might be nice to debounce this).\n",
       "    setTimeout(function () {\n",
       "        fig.push_to_output();\n",
       "    }, 1000);\n",
       "};\n",
       "\n",
       "mpl.figure.prototype._init_toolbar = function () {\n",
       "    var fig = this;\n",
       "\n",
       "    var toolbar = document.createElement('div');\n",
       "    toolbar.classList = 'btn-toolbar';\n",
       "    this.root.appendChild(toolbar);\n",
       "\n",
       "    function on_click_closure(name) {\n",
       "        return function (_event) {\n",
       "            return fig.toolbar_button_onclick(name);\n",
       "        };\n",
       "    }\n",
       "\n",
       "    function on_mouseover_closure(tooltip) {\n",
       "        return function (event) {\n",
       "            if (!event.currentTarget.disabled) {\n",
       "                return fig.toolbar_button_onmouseover(tooltip);\n",
       "            }\n",
       "        };\n",
       "    }\n",
       "\n",
       "    fig.buttons = {};\n",
       "    var buttonGroup = document.createElement('div');\n",
       "    buttonGroup.classList = 'btn-group';\n",
       "    var button;\n",
       "    for (var toolbar_ind in mpl.toolbar_items) {\n",
       "        var name = mpl.toolbar_items[toolbar_ind][0];\n",
       "        var tooltip = mpl.toolbar_items[toolbar_ind][1];\n",
       "        var image = mpl.toolbar_items[toolbar_ind][2];\n",
       "        var method_name = mpl.toolbar_items[toolbar_ind][3];\n",
       "\n",
       "        if (!name) {\n",
       "            /* Instead of a spacer, we start a new button group. */\n",
       "            if (buttonGroup.hasChildNodes()) {\n",
       "                toolbar.appendChild(buttonGroup);\n",
       "            }\n",
       "            buttonGroup = document.createElement('div');\n",
       "            buttonGroup.classList = 'btn-group';\n",
       "            continue;\n",
       "        }\n",
       "\n",
       "        button = fig.buttons[name] = document.createElement('button');\n",
       "        button.classList = 'btn btn-default';\n",
       "        button.href = '#';\n",
       "        button.title = name;\n",
       "        button.innerHTML = '<i class=\"fa ' + image + ' fa-lg\"></i>';\n",
       "        button.addEventListener('click', on_click_closure(method_name));\n",
       "        button.addEventListener('mouseover', on_mouseover_closure(tooltip));\n",
       "        buttonGroup.appendChild(button);\n",
       "    }\n",
       "\n",
       "    if (buttonGroup.hasChildNodes()) {\n",
       "        toolbar.appendChild(buttonGroup);\n",
       "    }\n",
       "\n",
       "    // Add the status bar.\n",
       "    var status_bar = document.createElement('span');\n",
       "    status_bar.classList = 'mpl-message pull-right';\n",
       "    toolbar.appendChild(status_bar);\n",
       "    this.message = status_bar;\n",
       "\n",
       "    // Add the close button to the window.\n",
       "    var buttongrp = document.createElement('div');\n",
       "    buttongrp.classList = 'btn-group inline pull-right';\n",
       "    button = document.createElement('button');\n",
       "    button.classList = 'btn btn-mini btn-primary';\n",
       "    button.href = '#';\n",
       "    button.title = 'Stop Interaction';\n",
       "    button.innerHTML = '<i class=\"fa fa-power-off icon-remove icon-large\"></i>';\n",
       "    button.addEventListener('click', function (_evt) {\n",
       "        fig.handle_close(fig, {});\n",
       "    });\n",
       "    button.addEventListener(\n",
       "        'mouseover',\n",
       "        on_mouseover_closure('Stop Interaction')\n",
       "    );\n",
       "    buttongrp.appendChild(button);\n",
       "    var titlebar = this.root.querySelector('.ui-dialog-titlebar');\n",
       "    titlebar.insertBefore(buttongrp, titlebar.firstChild);\n",
       "};\n",
       "\n",
       "mpl.figure.prototype._remove_fig_handler = function (event) {\n",
       "    var fig = event.data.fig;\n",
       "    if (event.target !== this) {\n",
       "        // Ignore bubbled events from children.\n",
       "        return;\n",
       "    }\n",
       "    fig.close_ws(fig, {});\n",
       "};\n",
       "\n",
       "mpl.figure.prototype._root_extra_style = function (el) {\n",
       "    el.style.boxSizing = 'content-box'; // override notebook setting of border-box.\n",
       "};\n",
       "\n",
       "mpl.figure.prototype._canvas_extra_style = function (el) {\n",
       "    // this is important to make the div 'focusable\n",
       "    el.setAttribute('tabindex', 0);\n",
       "    // reach out to IPython and tell the keyboard manager to turn it's self\n",
       "    // off when our div gets focus\n",
       "\n",
       "    // location in version 3\n",
       "    if (IPython.notebook.keyboard_manager) {\n",
       "        IPython.notebook.keyboard_manager.register_events(el);\n",
       "    } else {\n",
       "        // location in version 2\n",
       "        IPython.keyboard_manager.register_events(el);\n",
       "    }\n",
       "};\n",
       "\n",
       "mpl.figure.prototype._key_event_extra = function (event, _name) {\n",
       "    // Check for shift+enter\n",
       "    if (event.shiftKey && event.which === 13) {\n",
       "        this.canvas_div.blur();\n",
       "        // select the cell after this one\n",
       "        var index = IPython.notebook.find_cell_index(this.cell_info[0]);\n",
       "        IPython.notebook.select(index + 1);\n",
       "    }\n",
       "};\n",
       "\n",
       "mpl.figure.prototype.handle_save = function (fig, _msg) {\n",
       "    fig.ondownload(fig, null);\n",
       "};\n",
       "\n",
       "mpl.find_output_cell = function (html_output) {\n",
       "    // Return the cell and output element which can be found *uniquely* in the notebook.\n",
       "    // Note - this is a bit hacky, but it is done because the \"notebook_saving.Notebook\"\n",
       "    // IPython event is triggered only after the cells have been serialised, which for\n",
       "    // our purposes (turning an active figure into a static one), is too late.\n",
       "    var cells = IPython.notebook.get_cells();\n",
       "    var ncells = cells.length;\n",
       "    for (var i = 0; i < ncells; i++) {\n",
       "        var cell = cells[i];\n",
       "        if (cell.cell_type === 'code') {\n",
       "            for (var j = 0; j < cell.output_area.outputs.length; j++) {\n",
       "                var data = cell.output_area.outputs[j];\n",
       "                if (data.data) {\n",
       "                    // IPython >= 3 moved mimebundle to data attribute of output\n",
       "                    data = data.data;\n",
       "                }\n",
       "                if (data['text/html'] === html_output) {\n",
       "                    return [cell, data, j];\n",
       "                }\n",
       "            }\n",
       "        }\n",
       "    }\n",
       "};\n",
       "\n",
       "// Register the function which deals with the matplotlib target/channel.\n",
       "// The kernel may be null if the page has been refreshed.\n",
       "if (IPython.notebook.kernel !== null) {\n",
       "    IPython.notebook.kernel.comm_manager.register_target(\n",
       "        'matplotlib',\n",
       "        mpl.mpl_figure_comm\n",
       "    );\n",
       "}\n"
      ],
      "text/plain": [
       "<IPython.core.display.Javascript object>"
      ]
     },
     "metadata": {},
     "output_type": "display_data"
    },
    {
     "data": {
      "text/html": [
       "<img src=\"data:image/png;base64,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\" width=\"640\">"
      ],
      "text/plain": [
       "<IPython.core.display.HTML object>"
      ]
     },
     "metadata": {},
     "output_type": "display_data"
    }
   ],
   "source": [
    "H, bins = distances_signals['Signals'], distances_signals.index\n",
    "\n",
    "text_position = [0.005, 0.005, 0.005, 0.005, 0.005, 0.005, 0.005, 0.005, 0.005]\n",
    "text_position_th = [-0.015, 0.005, 0.005, 0.005, 0.005, 0.005, 0.005, 0.005, 0.005]\n",
    "xlims = [0.4, 0.1, 0.3, 0.5, 0.3, 0.3, 0.15, 0.15, 0.4]\n",
    "xlims = [0.4, 0.4, 0.4, 0.4, 0.4, 0.4, 0.4, 0.4, 0.4]\n",
    "\n",
    "fig, ax = plt.subplots()\n",
    "#ax.set_yscale(\"log\")\n",
    "ax.set_xlim(-0.001, xlims[nr_of_experiment-1])\n",
    "ax.set_ylim(0, 0.05)\n",
    "\n",
    "ax.bar(bins, H, width = 0.005, color='#707070')\n",
    "\n",
    "plt.xlabel('Transport distance [ppm]', fontsize=15, labelpad=15)\n",
    "plt.ylabel('Amount of signal transported', fontsize=15, labelpad=15)\n",
    "\n",
    "plt.axvline(x=MTD, color='#7EBCE1')\n",
    "plt.text(MTD + text_position[nr_of_experiment-1], 0.01,'Kappa mixture',rotation=90, color='#7EBCE1')\n",
    "\n",
    "plt.axvline(x=MTD_th, color='#A35FC1', linestyle='--')\n",
    "plt.text(MTD_th+ text_position_th[nr_of_experiment-1], 0.01,'Kappa components',rotation=90, color='#A35FC1')\n",
    "\n",
    "plt.tight_layout()\n",
    "plt.show()\n",
    "plt.savefig('distances_histogram_exp_'+str(nr_of_experiment)+'.png', dpi=300)"
   ]
  },
  {
   "cell_type": "code",
   "execution_count": 44,
   "id": "94aef01a",
   "metadata": {},
   "outputs": [
    {
     "name": "stdout",
     "output_type": "stream",
     "text": [
      "99.0% of signal is transported on distance smaller than 0.00012810135156687014.\n"
     ]
    }
   ],
   "source": [
    "percent = 0.99\n",
    "q = H.quantile(q=percent)\n",
    "print(str(percent*100)+'% of signal is transported on distance smaller than '+str(q)+'.' )"
   ]
  },
  {
   "cell_type": "code",
   "execution_count": null,
   "id": "a79edd92",
   "metadata": {},
   "outputs": [],
   "source": []
  }
 ],
 "metadata": {
  "kernelspec": {
   "display_name": "Python 3 (ipykernel)",
   "language": "python",
   "name": "python3"
  },
  "language_info": {
   "codemirror_mode": {
    "name": "ipython",
    "version": 3
   },
   "file_extension": ".py",
   "mimetype": "text/x-python",
   "name": "python",
   "nbconvert_exporter": "python",
   "pygments_lexer": "ipython3",
   "version": "3.10.6"
  }
 },
 "nbformat": 4,
 "nbformat_minor": 5
}
