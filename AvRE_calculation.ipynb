{
 "cells": [
  {
   "cell_type": "code",
   "execution_count": 1,
   "id": "84a1a83d",
   "metadata": {},
   "outputs": [],
   "source": [
    "import numpy as np"
   ]
  },
  {
   "cell_type": "code",
   "execution_count": null,
   "id": "01f8b036",
   "metadata": {},
   "outputs": [],
   "source": [
    "#Columns: Ground truth, Magnetstein, ACD/TP, MANIQ"
   ]
  },
  {
   "cell_type": "code",
   "execution_count": 2,
   "id": "5170a3a5",
   "metadata": {},
   "outputs": [],
   "source": [
    "#Exp. 1\n",
    "est = np.array([[0.0909, 0.0937, 0.0570, 0.1135],[0.9091, 0.9063, 0.9430, 0.8946]])"
   ]
  },
  {
   "cell_type": "code",
   "execution_count": 3,
   "id": "3652121d",
   "metadata": {},
   "outputs": [],
   "source": [
    "#Exp. 2\n",
    "est = np.array([[0.4950, 0.4760, 0.4588, 0.4864],\n",
    "[0.5050, 0.5240, 0.5412, 0.5136]])"
   ]
  },
  {
   "cell_type": "code",
   "execution_count": 4,
   "id": "b506963d",
   "metadata": {},
   "outputs": [],
   "source": [
    "#Exp. 3\n",
    "est = np.array([[0.1058, 0.1059, 0.1086, 0.1110],\n",
    "[0.7265, 0.7511, 0.7133, 0.7578],\n",
    "[0.0858, 0.0621, 0, 0.0951],\n",
    "[0.0820, 0.0809, 0.1781, 0.0025]])"
   ]
  },
  {
   "cell_type": "code",
   "execution_count": 5,
   "id": "bd93b588",
   "metadata": {},
   "outputs": [],
   "source": [
    "#Exp. 4\n",
    "est = np.array([[0.3022, 0.3165, 0.3488, 0.3311],\n",
    "[0.2240, 0.2137, 0.2793, 0.2660],\n",
    "[0.1253, 0.1341, 0.1921, 0],\n",
    "[0.2028, 0.1960, 0.0109, 0.2717],\n",
    "[0.1457, 0.1397, 0.1689, 0.1578]])"
   ]
  },
  {
   "cell_type": "code",
   "execution_count": 6,
   "id": "ff453535",
   "metadata": {},
   "outputs": [],
   "source": [
    "#Exp. 5\n",
    "est = np.array([[0.3022, 0.3180, 0.0478, 0],\n",
    "[0.2240, 0.2113, 0.0481, 0.0604],\n",
    "[0.1253, 0.1293, 0.0734, 0],\n",
    "[0.2028, 0.2018, 0.6203, 0.9561],\n",
    "[0.1457, 0.1397, 0.2103, 0]])"
   ]
  },
  {
   "cell_type": "code",
   "execution_count": 7,
   "id": "20049985",
   "metadata": {},
   "outputs": [],
   "source": [
    "avre_error = []\n",
    "for i in range(1,4):\n",
    "    error = np.abs(est[:,0]-est[:,i])/est[:,0]\n",
    "    avre_error.append(np.mean(error))"
   ]
  },
  {
   "cell_type": "code",
   "execution_count": 8,
   "id": "7eab999e",
   "metadata": {},
   "outputs": [
    {
     "data": {
      "text/plain": [
       "[0.03740290858685043, 0.9086711340999415, 1.4889708368554522]"
      ]
     },
     "execution_count": 8,
     "metadata": {},
     "output_type": "execute_result"
    }
   ],
   "source": [
    "avre_error"
   ]
  }
 ],
 "metadata": {
  "kernelspec": {
   "display_name": "Python 3 (ipykernel)",
   "language": "python",
   "name": "python3"
  },
  "language_info": {
   "codemirror_mode": {
    "name": "ipython",
    "version": 3
   },
   "file_extension": ".py",
   "mimetype": "text/x-python",
   "name": "python",
   "nbconvert_exporter": "python",
   "pygments_lexer": "ipython3",
   "version": "3.10.6"
  }
 },
 "nbformat": 4,
 "nbformat_minor": 5
}
