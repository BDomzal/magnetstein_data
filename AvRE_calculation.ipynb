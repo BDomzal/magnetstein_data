{
 "cells": [
  {
   "cell_type": "code",
   "execution_count": 2,
   "id": "84a1a83d",
   "metadata": {},
   "outputs": [],
   "source": [
    "import numpy as np"
   ]
  },
  {
   "cell_type": "code",
   "execution_count": 3,
   "id": "01f8b036",
   "metadata": {},
   "outputs": [],
   "source": [
    "#Columns: Ground truth, Magnetstein, ACD/TP, MANIQ"
   ]
  },
  {
   "cell_type": "code",
   "execution_count": 4,
   "id": "5170a3a5",
   "metadata": {},
   "outputs": [],
   "source": [
    "#Exp. 1\n",
    "#est = np.array([[0.0909, 0.0937, 0.0570, 0.1135],[0.9091, 0.9063, 0.9430, 0.8946]])\n",
    "\n",
    "#after reducing to two significant figures\n",
    "est = np.array([[0.09, 0.09, 0.06, 0.11],[0.91, 0.91, 0.94, 0.89]])"
   ]
  },
  {
   "cell_type": "code",
   "execution_count": 7,
   "id": "3652121d",
   "metadata": {},
   "outputs": [],
   "source": [
    "#Exp. 2\n",
    "# est = np.array([[0.4950, 0.4760, 0.4588, 0.4864],\n",
    "# [0.5050, 0.5240, 0.5412, 0.5136]])\n",
    "\n",
    "#after reducing to two significant figures\n",
    "est = np.array([[0.50, 0.48, 0.46, 0.49],\n",
    "[0.51, 0.52, 0.54, 0.51]])"
   ]
  },
  {
   "cell_type": "code",
   "execution_count": 18,
   "id": "b506963d",
   "metadata": {},
   "outputs": [],
   "source": [
    "#Exp. 3\n",
    "# est = np.array([[0.1058, 0.1059, 0.1086, 0.1110],\n",
    "# [0.7265, 0.7511, 0.7133, 0.7578],\n",
    "# [0.0858, 0.0621, 0, 0.0951],\n",
    "# [0.0820, 0.0809, 0.1781, 0.0025]])\n",
    "\n",
    "#after reducing to two significant figures\n",
    "est = np.array([[0.11, 0.11, 0.11, 0.11],\n",
    "[0.73, 0.75, 0.71, 0.76],\n",
    "[0.09, 0.06, 0, 0.10],\n",
    "[0.08, 0.08, 0.18, 0.00]])"
   ]
  },
  {
   "cell_type": "code",
   "execution_count": 23,
   "id": "bd93b588",
   "metadata": {},
   "outputs": [],
   "source": [
    "#Exp. 4\n",
    "# est = np.array([[0.3022, 0.3165, 0.3488, 0.3311],\n",
    "# [0.2240, 0.2137, 0.2793, 0.2660],\n",
    "# [0.1253, 0.1341, 0.1921, 0],\n",
    "# [0.2028, 0.1960, 0.0109, 0.2717],\n",
    "# [0.1457, 0.1397, 0.1689, 0.1578]])\n",
    "\n",
    "#after reducing to two significant figures\n",
    "est = np.array([[0.30, 0.32, 0.35, 0.33],\n",
    "[0.22, 0.21, 0.28, 0.27],\n",
    "[0.13, 0.13, 0.19, 0.00],\n",
    "[0.20, 0.20, 0.01, 0.27],\n",
    "[0.15, 0.14, 0.17, 0.16]])"
   ]
  },
  {
   "cell_type": "code",
   "execution_count": 29,
   "id": "ff453535",
   "metadata": {},
   "outputs": [],
   "source": [
    "#Exp. 5\n",
    "# est = np.array([[0.3022, 0.3180, 0.3052, 0.2780],\n",
    "# [0.2240, 0.2113, 0.2377, 0.2175],\n",
    "# [0.1253, 0.1293, 0.0006, 0.1407],\n",
    "# [0.2028, 0.2018, 0.3156, 0.2255],\n",
    "# [0.1457, 0.1397, 0.1409, 0.1368]])\n",
    "\n",
    "#after reducing to two significant figures\n",
    "est = np.array([[0.30, 0.32, 0.31, 0.28],\n",
    "[0.22, 0.21, 0.24, 0.22],\n",
    "[0.13, 0.13, 0.00, 0.14],\n",
    "[0.20, 0.20, 0.32, 0.23],\n",
    "[0.15, 0.14, 0.14, 0.14]])"
   ]
  },
  {
   "cell_type": "code",
   "execution_count": 30,
   "id": "4ba45d28",
   "metadata": {},
   "outputs": [],
   "source": [
    "avre_error = []\n",
    "for i in range(1,4):\n",
    "    error = np.abs(est[:,0]-est[:,i])/est[:,0]\n",
    "    avre_error.append(np.mean(error))"
   ]
  },
  {
   "cell_type": "code",
   "execution_count": 28,
   "id": "7eab999e",
   "metadata": {},
   "outputs": [
    {
     "data": {
      "text/plain": [
       "[0.03575757575757575, 0.3581818181818181, 0.07205128205128201]"
      ]
     },
     "execution_count": 28,
     "metadata": {},
     "output_type": "execute_result"
    }
   ],
   "source": [
    "avre_error"
   ]
  },
  {
   "cell_type": "code",
   "execution_count": null,
   "id": "38b328e9",
   "metadata": {},
   "outputs": [],
   "source": []
  }
 ],
 "metadata": {
  "kernelspec": {
   "display_name": "Python 3 (ipykernel)",
   "language": "python",
   "name": "python3"
  },
  "language_info": {
   "codemirror_mode": {
    "name": "ipython",
    "version": 3
   },
   "file_extension": ".py",
   "mimetype": "text/x-python",
   "name": "python",
   "nbconvert_exporter": "python",
   "pygments_lexer": "ipython3",
   "version": "3.10.12"
  }
 },
 "nbformat": 4,
 "nbformat_minor": 5
}
