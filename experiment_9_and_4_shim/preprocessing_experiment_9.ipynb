{
 "cells": [
  {
   "cell_type": "markdown",
   "id": "c0dda7bc",
   "metadata": {},
   "source": [
    "### Settings and imports"
   ]
  },
  {
   "cell_type": "code",
   "execution_count": 1,
   "id": "6490deb8",
   "metadata": {},
   "outputs": [],
   "source": [
    "%matplotlib notebook"
   ]
  },
  {
   "cell_type": "code",
   "execution_count": 2,
   "id": "18168f35",
   "metadata": {},
   "outputs": [],
   "source": [
    "import masserstein "
   ]
  },
  {
   "cell_type": "code",
   "execution_count": 3,
   "id": "547dfce4",
   "metadata": {},
   "outputs": [],
   "source": [
    "import os\n",
    "\n",
    "from masserstein import Spectrum, NMRSpectrum, estimate_proportions\n",
    "\n",
    "from matplotlib import pyplot as plt\n",
    "\n",
    "import numpy as np\n",
    "\n",
    "import pulp\n",
    "\n",
    "import pickle\n",
    "\n",
    "import seaborn as sns\n",
    "\n",
    "from textwrap import wrap\n",
    "\n",
    "import pandas as pd"
   ]
  },
  {
   "cell_type": "markdown",
   "id": "b9e9d10f",
   "metadata": {},
   "source": [
    "### Ground truth"
   ]
  },
  {
   "cell_type": "code",
   "execution_count": 4,
   "id": "d3dc96a1",
   "metadata": {},
   "outputs": [],
   "source": [
    "official_names = ['Lactate', 'Alanine', 'Creatine', 'Creatinine', 'Choline chloride']\n",
    "protons = [4, 4, 5, 5, 13]\n",
    "molar_proportions = [0.3022, 0.2240, 0.1253, 0.2028, 0.1457]"
   ]
  },
  {
   "cell_type": "code",
   "execution_count": 5,
   "id": "23389699",
   "metadata": {},
   "outputs": [
    {
     "data": {
      "text/plain": [
       "[0.2143490442245629,\n",
       " 0.1588821505833954,\n",
       " 0.11109337872823348,\n",
       " 0.1798063623789765,\n",
       " 0.3358690640848317]"
      ]
     },
     "execution_count": 5,
     "metadata": {},
     "output_type": "execute_result"
    }
   ],
   "source": [
    "real_visible_proportions = [prop*prot for prop, prot in zip(molar_proportions, protons)]\n",
    "real_visible_proportions = [p/sum(real_visible_proportions) for p in real_visible_proportions]\n",
    "real_visible_proportions"
   ]
  },
  {
   "cell_type": "markdown",
   "id": "0a43c3c3",
   "metadata": {},
   "source": [
    "### Loading the data"
   ]
  },
  {
   "cell_type": "code",
   "execution_count": 6,
   "id": "9b6a3dd3",
   "metadata": {},
   "outputs": [],
   "source": [
    "components = np.loadtxt('metabolity.csv', delimiter=',', skiprows=1)\n",
    "ppm_components = components[:,0]\n",
    "components = components[:,1:]\n",
    "\n",
    "mix = np.loadtxt('metabolity_shimy.csv', delimiter=',', skiprows=1)\n",
    "ppm = mix[:,0]\n",
    "mix = mix[:,1]"
   ]
  },
  {
   "cell_type": "code",
   "execution_count": 7,
   "id": "e2922ee0",
   "metadata": {},
   "outputs": [],
   "source": [
    "# ppm = #np.array with shape (number_of_points on frequency axis for mixture,)\n",
    "# mix = #np.array with shape (number_of_points on frequency axis,)\n",
    "# ppm_comp = #np.array with shape (number_of_points on frequency axis for components, )\n",
    "# components = #np.array with shape (number_of_points on frequency axis for components, number of components)\n",
    "# real_visible_proportions = #np.array with shape (number of components,)"
   ]
  },
  {
   "cell_type": "code",
   "execution_count": 8,
   "id": "68d81855",
   "metadata": {},
   "outputs": [],
   "source": [
    "components_ints = []\n",
    "names = []\n",
    "for i in range(components.shape[1]):\n",
    "    components_ints.append(components[:,i])\n",
    "    names.append('comp'+str(i))"
   ]
  },
  {
   "cell_type": "code",
   "execution_count": 9,
   "id": "d54f971c",
   "metadata": {},
   "outputs": [],
   "source": [
    "spectra = []\n",
    "for comp_ints in components_ints:\n",
    "    spectra.append(NMRSpectrum(confs=list(zip(ppm_components, comp_ints))))"
   ]
  },
  {
   "cell_type": "code",
   "execution_count": 10,
   "id": "19aa278a",
   "metadata": {},
   "outputs": [],
   "source": [
    "mix = NMRSpectrum(confs=list(zip(ppm,mix)))"
   ]
  },
  {
   "cell_type": "code",
   "execution_count": 11,
   "id": "abd6b8aa",
   "metadata": {},
   "outputs": [],
   "source": [
    "for i, name in enumerate(names):\n",
    "    globals()[name] = spectra[i]"
   ]
  },
  {
   "cell_type": "code",
   "execution_count": 12,
   "id": "7551001c",
   "metadata": {},
   "outputs": [],
   "source": [
    "# mix.plot(profile=True)\n",
    "# comp0.plot(profile=True)\n",
    "# comp1.plot(profile=True) \n",
    "# comp2.plot(profile=True)\n",
    "# comp3.plot(profile=True)\n",
    "# comp4.plot(profile=True)"
   ]
  },
  {
   "cell_type": "markdown",
   "id": "8529cd13",
   "metadata": {},
   "source": [
    "### Additional preprocessing: removing peak from solvent"
   ]
  },
  {
   "cell_type": "code",
   "execution_count": 13,
   "id": "91ca34dd",
   "metadata": {},
   "outputs": [],
   "source": [
    "def remove_peak_from_region(spectrum, region):\n",
    "    \n",
    "    lower_bound = region[0]\n",
    "    upper_bound = region[1]\n",
    "    \n",
    "    new_confs = np.array(spectrum.confs)\n",
    "    in_region = np.logical_and(lower_bound < new_confs[:,0], new_confs[:,0] < upper_bound)\n",
    "    new_confs[in_region, 1] = 0\n",
    "    \n",
    "    return Spectrum(confs=list(zip(new_confs[:,0], new_confs[:,1])))"
   ]
  },
  {
   "cell_type": "code",
   "execution_count": 14,
   "id": "b6b6c6f3",
   "metadata": {},
   "outputs": [],
   "source": [
    "preprocessed_spectra = []\n",
    "for sp in [mix] + spectra:\n",
    "    no_solvent_peak = remove_peak_from_region(sp, (4.4, 4.8))\n",
    "    no_solvent_peak.normalize()\n",
    "    preprocessed_spectra.append(no_solvent_peak)\n",
    "mix = preprocessed_spectra[0]\n",
    "spectra = preprocessed_spectra[1:]\n",
    "del(preprocessed_spectra)"
   ]
  },
  {
   "cell_type": "markdown",
   "id": "908c85b2",
   "metadata": {},
   "source": [
    "### Alignment"
   ]
  },
  {
   "cell_type": "code",
   "execution_count": 15,
   "id": "fde0055f",
   "metadata": {},
   "outputs": [],
   "source": [
    "# def shift_one_spectrum(sp, how_much):\n",
    "#     res = sp\n",
    "#     old_confs = np.array(sp.confs)\n",
    "\n",
    "#     new_ppm_non_unique = old_confs[:,0] + how_much\n",
    "#     resampled = sp.resample(np.unique(new_ppm_non_unique) + how_much)\n",
    "#     new_ppm_unique = np.array(resampled.confs)[:,0]\n",
    "#     new_ints = np.array(resampled.confs)[:,1]\n",
    "#     res = Spectrum(confs=list(zip(new_ppm_unique + how_much, new_ints)))\n",
    "#     return(res)"
   ]
  },
  {
   "cell_type": "code",
   "execution_count": 16,
   "id": "27f58bc1",
   "metadata": {},
   "outputs": [],
   "source": [
    "#shift_right = [0.14, 0.15, 0.14, 0.14, 0.14] #equivalently, we can shift mixture 0.14 to the left\n",
    "#mix = shift_one_spectrum(mix, -0.14)"
   ]
  },
  {
   "cell_type": "markdown",
   "id": "8f15b9b2",
   "metadata": {},
   "source": [
    "### Preprocessing"
   ]
  },
  {
   "cell_type": "code",
   "execution_count": 17,
   "id": "dbe49fc3",
   "metadata": {},
   "outputs": [],
   "source": [
    "def shift(list_of_spectra, epsilon=0.001):\n",
    "    res = list_of_spectra\n",
    "    shifted_unique = []\n",
    "    old_confs = [np.array(sp.confs) for sp in list_of_spectra]\n",
    "    min_of_min = min([min(old_conf[:,0]) for old_conf in old_confs])\n",
    "    if min_of_min<0:\n",
    "        return (min_of_min - epsilon)*(-1)\n",
    "    else:\n",
    "        return(0)"
   ]
  },
  {
   "cell_type": "code",
   "execution_count": 18,
   "id": "88c18cb9",
   "metadata": {},
   "outputs": [],
   "source": [
    "def make_nonnegative(spectrum):\n",
    "    confs = np.array(spectrum.confs)\n",
    "    neg = confs[:,1]<0\n",
    "    confs[:,1][neg]=0\n",
    "    new_confs = list(zip(confs[:,0],confs[:,1]))\n",
    "    result = NMRSpectrum(confs=new_confs)\n",
    "    return(result)"
   ]
  },
  {
   "cell_type": "code",
   "execution_count": 19,
   "id": "f04d69ce",
   "metadata": {},
   "outputs": [],
   "source": [
    "def common_mass_axis(list_of_spectra):\n",
    "    all_mz = set()\n",
    "    for sp in list_of_spectra:\n",
    "        mz_set = set(np.array(sp.confs, np.dtype('float'))[:,0])\n",
    "        all_mz = all_mz.union(mz_set)\n",
    "    all_mz = np.array(sorted(all_mz))\n",
    "    return all_mz"
   ]
  },
  {
   "cell_type": "code",
   "execution_count": 20,
   "id": "bf723195",
   "metadata": {},
   "outputs": [],
   "source": [
    "spectra_and_mixture = spectra + [mix]"
   ]
  },
  {
   "cell_type": "code",
   "execution_count": 21,
   "id": "ae20e7e0",
   "metadata": {},
   "outputs": [],
   "source": [
    "shift_coef = shift(spectra_and_mixture)"
   ]
  },
  {
   "cell_type": "code",
   "execution_count": 22,
   "id": "e7181f9e",
   "metadata": {},
   "outputs": [],
   "source": [
    "preprocessed_spectra = []\n",
    "for sp in spectra_and_mixture:\n",
    "    sp2 = make_nonnegative(sp)\n",
    "    sp2.sort_confs()\n",
    "    sp2.merge_confs()\n",
    "    sp2.normalize()\n",
    "    preprocessed_spectra.append(sp2)"
   ]
  },
  {
   "cell_type": "code",
   "execution_count": 23,
   "id": "01ffe3c0",
   "metadata": {},
   "outputs": [],
   "source": [
    "spectra_and_mixture = preprocessed_spectra\n",
    "spectra = spectra_and_mixture[:-1]\n",
    "mix = preprocessed_spectra[-1]\n",
    "del(preprocessed_spectra)"
   ]
  },
  {
   "cell_type": "code",
   "execution_count": 24,
   "id": "1b91ab40",
   "metadata": {},
   "outputs": [],
   "source": [
    "cma = common_mass_axis(spectra_and_mixture)"
   ]
  },
  {
   "cell_type": "code",
   "execution_count": 25,
   "id": "5924da86",
   "metadata": {},
   "outputs": [],
   "source": [
    "preprocessed_spectra = []\n",
    "for sp in spectra_and_mixture:\n",
    "    preprocessed_spectra.append(sp.resample(cma))"
   ]
  },
  {
   "cell_type": "code",
   "execution_count": 26,
   "id": "eb8e429b",
   "metadata": {},
   "outputs": [],
   "source": [
    "spectra_and_mixture = preprocessed_spectra\n",
    "del(preprocessed_spectra)"
   ]
  },
  {
   "cell_type": "code",
   "execution_count": 27,
   "id": "25d7fb75",
   "metadata": {},
   "outputs": [],
   "source": [
    "preprocessed_spectra = []\n",
    "for sp in spectra_and_mixture:\n",
    "    sp = make_nonnegative(sp)\n",
    "    sp.sort_confs()\n",
    "    sp.merge_confs()\n",
    "    sp.normalize()\n",
    "    preprocessed_spectra.append(sp)"
   ]
  },
  {
   "cell_type": "code",
   "execution_count": 28,
   "id": "dc3d4186",
   "metadata": {},
   "outputs": [],
   "source": [
    "spectra_and_mixture = preprocessed_spectra\n",
    "spectra = spectra_and_mixture[:-1]\n",
    "mix = preprocessed_spectra[-1]\n",
    "del(preprocessed_spectra)"
   ]
  },
  {
   "cell_type": "code",
   "execution_count": 29,
   "id": "4febd7a3",
   "metadata": {},
   "outputs": [],
   "source": [
    "for i, name in enumerate(names):\n",
    "    globals()[name] = spectra[i]"
   ]
  },
  {
   "cell_type": "code",
   "execution_count": 30,
   "id": "e47868e7",
   "metadata": {},
   "outputs": [
    {
     "data": {
      "application/javascript": [
       "/* Put everything inside the global mpl namespace */\n",
       "/* global mpl */\n",
       "window.mpl = {};\n",
       "\n",
       "mpl.get_websocket_type = function () {\n",
       "    if (typeof WebSocket !== 'undefined') {\n",
       "        return WebSocket;\n",
       "    } else if (typeof MozWebSocket !== 'undefined') {\n",
       "        return MozWebSocket;\n",
       "    } else {\n",
       "        alert(\n",
       "            'Your browser does not have WebSocket support. ' +\n",
       "                'Please try Chrome, Safari or Firefox ≥ 6. ' +\n",
       "                'Firefox 4 and 5 are also supported but you ' +\n",
       "                'have to enable WebSockets in about:config.'\n",
       "        );\n",
       "    }\n",
       "};\n",
       "\n",
       "mpl.figure = function (figure_id, websocket, ondownload, parent_element) {\n",
       "    this.id = figure_id;\n",
       "\n",
       "    this.ws = websocket;\n",
       "\n",
       "    this.supports_binary = this.ws.binaryType !== undefined;\n",
       "\n",
       "    if (!this.supports_binary) {\n",
       "        var warnings = document.getElementById('mpl-warnings');\n",
       "        if (warnings) {\n",
       "            warnings.style.display = 'block';\n",
       "            warnings.textContent =\n",
       "                'This browser does not support binary websocket messages. ' +\n",
       "                'Performance may be slow.';\n",
       "        }\n",
       "    }\n",
       "\n",
       "    this.imageObj = new Image();\n",
       "\n",
       "    this.context = undefined;\n",
       "    this.message = undefined;\n",
       "    this.canvas = undefined;\n",
       "    this.rubberband_canvas = undefined;\n",
       "    this.rubberband_context = undefined;\n",
       "    this.format_dropdown = undefined;\n",
       "\n",
       "    this.image_mode = 'full';\n",
       "\n",
       "    this.root = document.createElement('div');\n",
       "    this.root.setAttribute('style', 'display: inline-block');\n",
       "    this._root_extra_style(this.root);\n",
       "\n",
       "    parent_element.appendChild(this.root);\n",
       "\n",
       "    this._init_header(this);\n",
       "    this._init_canvas(this);\n",
       "    this._init_toolbar(this);\n",
       "\n",
       "    var fig = this;\n",
       "\n",
       "    this.waiting = false;\n",
       "\n",
       "    this.ws.onopen = function () {\n",
       "        fig.send_message('supports_binary', { value: fig.supports_binary });\n",
       "        fig.send_message('send_image_mode', {});\n",
       "        if (fig.ratio !== 1) {\n",
       "            fig.send_message('set_device_pixel_ratio', {\n",
       "                device_pixel_ratio: fig.ratio,\n",
       "            });\n",
       "        }\n",
       "        fig.send_message('refresh', {});\n",
       "    };\n",
       "\n",
       "    this.imageObj.onload = function () {\n",
       "        if (fig.image_mode === 'full') {\n",
       "            // Full images could contain transparency (where diff images\n",
       "            // almost always do), so we need to clear the canvas so that\n",
       "            // there is no ghosting.\n",
       "            fig.context.clearRect(0, 0, fig.canvas.width, fig.canvas.height);\n",
       "        }\n",
       "        fig.context.drawImage(fig.imageObj, 0, 0);\n",
       "    };\n",
       "\n",
       "    this.imageObj.onunload = function () {\n",
       "        fig.ws.close();\n",
       "    };\n",
       "\n",
       "    this.ws.onmessage = this._make_on_message_function(this);\n",
       "\n",
       "    this.ondownload = ondownload;\n",
       "};\n",
       "\n",
       "mpl.figure.prototype._init_header = function () {\n",
       "    var titlebar = document.createElement('div');\n",
       "    titlebar.classList =\n",
       "        'ui-dialog-titlebar ui-widget-header ui-corner-all ui-helper-clearfix';\n",
       "    var titletext = document.createElement('div');\n",
       "    titletext.classList = 'ui-dialog-title';\n",
       "    titletext.setAttribute(\n",
       "        'style',\n",
       "        'width: 100%; text-align: center; padding: 3px;'\n",
       "    );\n",
       "    titlebar.appendChild(titletext);\n",
       "    this.root.appendChild(titlebar);\n",
       "    this.header = titletext;\n",
       "};\n",
       "\n",
       "mpl.figure.prototype._canvas_extra_style = function (_canvas_div) {};\n",
       "\n",
       "mpl.figure.prototype._root_extra_style = function (_canvas_div) {};\n",
       "\n",
       "mpl.figure.prototype._init_canvas = function () {\n",
       "    var fig = this;\n",
       "\n",
       "    var canvas_div = (this.canvas_div = document.createElement('div'));\n",
       "    canvas_div.setAttribute('tabindex', '0');\n",
       "    canvas_div.setAttribute(\n",
       "        'style',\n",
       "        'border: 1px solid #ddd;' +\n",
       "            'box-sizing: content-box;' +\n",
       "            'clear: both;' +\n",
       "            'min-height: 1px;' +\n",
       "            'min-width: 1px;' +\n",
       "            'outline: 0;' +\n",
       "            'overflow: hidden;' +\n",
       "            'position: relative;' +\n",
       "            'resize: both;' +\n",
       "            'z-index: 2;'\n",
       "    );\n",
       "\n",
       "    function on_keyboard_event_closure(name) {\n",
       "        return function (event) {\n",
       "            return fig.key_event(event, name);\n",
       "        };\n",
       "    }\n",
       "\n",
       "    canvas_div.addEventListener(\n",
       "        'keydown',\n",
       "        on_keyboard_event_closure('key_press')\n",
       "    );\n",
       "    canvas_div.addEventListener(\n",
       "        'keyup',\n",
       "        on_keyboard_event_closure('key_release')\n",
       "    );\n",
       "\n",
       "    this._canvas_extra_style(canvas_div);\n",
       "    this.root.appendChild(canvas_div);\n",
       "\n",
       "    var canvas = (this.canvas = document.createElement('canvas'));\n",
       "    canvas.classList.add('mpl-canvas');\n",
       "    canvas.setAttribute(\n",
       "        'style',\n",
       "        'box-sizing: content-box;' +\n",
       "            'pointer-events: none;' +\n",
       "            'position: relative;' +\n",
       "            'z-index: 0;'\n",
       "    );\n",
       "\n",
       "    this.context = canvas.getContext('2d');\n",
       "\n",
       "    var backingStore =\n",
       "        this.context.backingStorePixelRatio ||\n",
       "        this.context.webkitBackingStorePixelRatio ||\n",
       "        this.context.mozBackingStorePixelRatio ||\n",
       "        this.context.msBackingStorePixelRatio ||\n",
       "        this.context.oBackingStorePixelRatio ||\n",
       "        this.context.backingStorePixelRatio ||\n",
       "        1;\n",
       "\n",
       "    this.ratio = (window.devicePixelRatio || 1) / backingStore;\n",
       "\n",
       "    var rubberband_canvas = (this.rubberband_canvas = document.createElement(\n",
       "        'canvas'\n",
       "    ));\n",
       "    rubberband_canvas.setAttribute(\n",
       "        'style',\n",
       "        'box-sizing: content-box;' +\n",
       "            'left: 0;' +\n",
       "            'pointer-events: none;' +\n",
       "            'position: absolute;' +\n",
       "            'top: 0;' +\n",
       "            'z-index: 1;'\n",
       "    );\n",
       "\n",
       "    // Apply a ponyfill if ResizeObserver is not implemented by browser.\n",
       "    if (this.ResizeObserver === undefined) {\n",
       "        if (window.ResizeObserver !== undefined) {\n",
       "            this.ResizeObserver = window.ResizeObserver;\n",
       "        } else {\n",
       "            var obs = _JSXTOOLS_RESIZE_OBSERVER({});\n",
       "            this.ResizeObserver = obs.ResizeObserver;\n",
       "        }\n",
       "    }\n",
       "\n",
       "    this.resizeObserverInstance = new this.ResizeObserver(function (entries) {\n",
       "        var nentries = entries.length;\n",
       "        for (var i = 0; i < nentries; i++) {\n",
       "            var entry = entries[i];\n",
       "            var width, height;\n",
       "            if (entry.contentBoxSize) {\n",
       "                if (entry.contentBoxSize instanceof Array) {\n",
       "                    // Chrome 84 implements new version of spec.\n",
       "                    width = entry.contentBoxSize[0].inlineSize;\n",
       "                    height = entry.contentBoxSize[0].blockSize;\n",
       "                } else {\n",
       "                    // Firefox implements old version of spec.\n",
       "                    width = entry.contentBoxSize.inlineSize;\n",
       "                    height = entry.contentBoxSize.blockSize;\n",
       "                }\n",
       "            } else {\n",
       "                // Chrome <84 implements even older version of spec.\n",
       "                width = entry.contentRect.width;\n",
       "                height = entry.contentRect.height;\n",
       "            }\n",
       "\n",
       "            // Keep the size of the canvas and rubber band canvas in sync with\n",
       "            // the canvas container.\n",
       "            if (entry.devicePixelContentBoxSize) {\n",
       "                // Chrome 84 implements new version of spec.\n",
       "                canvas.setAttribute(\n",
       "                    'width',\n",
       "                    entry.devicePixelContentBoxSize[0].inlineSize\n",
       "                );\n",
       "                canvas.setAttribute(\n",
       "                    'height',\n",
       "                    entry.devicePixelContentBoxSize[0].blockSize\n",
       "                );\n",
       "            } else {\n",
       "                canvas.setAttribute('width', width * fig.ratio);\n",
       "                canvas.setAttribute('height', height * fig.ratio);\n",
       "            }\n",
       "            /* This rescales the canvas back to display pixels, so that it\n",
       "             * appears correct on HiDPI screens. */\n",
       "            canvas.style.width = width + 'px';\n",
       "            canvas.style.height = height + 'px';\n",
       "\n",
       "            rubberband_canvas.setAttribute('width', width);\n",
       "            rubberband_canvas.setAttribute('height', height);\n",
       "\n",
       "            // And update the size in Python. We ignore the initial 0/0 size\n",
       "            // that occurs as the element is placed into the DOM, which should\n",
       "            // otherwise not happen due to the minimum size styling.\n",
       "            if (fig.ws.readyState == 1 && width != 0 && height != 0) {\n",
       "                fig.request_resize(width, height);\n",
       "            }\n",
       "        }\n",
       "    });\n",
       "    this.resizeObserverInstance.observe(canvas_div);\n",
       "\n",
       "    function on_mouse_event_closure(name) {\n",
       "        /* User Agent sniffing is bad, but WebKit is busted:\n",
       "         * https://bugs.webkit.org/show_bug.cgi?id=144526\n",
       "         * https://bugs.webkit.org/show_bug.cgi?id=181818\n",
       "         * The worst that happens here is that they get an extra browser\n",
       "         * selection when dragging, if this check fails to catch them.\n",
       "         */\n",
       "        var UA = navigator.userAgent;\n",
       "        var isWebKit = /AppleWebKit/.test(UA) && !/Chrome/.test(UA);\n",
       "        if(isWebKit) {\n",
       "            return function (event) {\n",
       "                /* This prevents the web browser from automatically changing to\n",
       "                 * the text insertion cursor when the button is pressed. We\n",
       "                 * want to control all of the cursor setting manually through\n",
       "                 * the 'cursor' event from matplotlib */\n",
       "                event.preventDefault()\n",
       "                return fig.mouse_event(event, name);\n",
       "            };\n",
       "        } else {\n",
       "            return function (event) {\n",
       "                return fig.mouse_event(event, name);\n",
       "            };\n",
       "        }\n",
       "    }\n",
       "\n",
       "    canvas_div.addEventListener(\n",
       "        'mousedown',\n",
       "        on_mouse_event_closure('button_press')\n",
       "    );\n",
       "    canvas_div.addEventListener(\n",
       "        'mouseup',\n",
       "        on_mouse_event_closure('button_release')\n",
       "    );\n",
       "    canvas_div.addEventListener(\n",
       "        'dblclick',\n",
       "        on_mouse_event_closure('dblclick')\n",
       "    );\n",
       "    // Throttle sequential mouse events to 1 every 20ms.\n",
       "    canvas_div.addEventListener(\n",
       "        'mousemove',\n",
       "        on_mouse_event_closure('motion_notify')\n",
       "    );\n",
       "\n",
       "    canvas_div.addEventListener(\n",
       "        'mouseenter',\n",
       "        on_mouse_event_closure('figure_enter')\n",
       "    );\n",
       "    canvas_div.addEventListener(\n",
       "        'mouseleave',\n",
       "        on_mouse_event_closure('figure_leave')\n",
       "    );\n",
       "\n",
       "    canvas_div.addEventListener('wheel', function (event) {\n",
       "        if (event.deltaY < 0) {\n",
       "            event.step = 1;\n",
       "        } else {\n",
       "            event.step = -1;\n",
       "        }\n",
       "        on_mouse_event_closure('scroll')(event);\n",
       "    });\n",
       "\n",
       "    canvas_div.appendChild(canvas);\n",
       "    canvas_div.appendChild(rubberband_canvas);\n",
       "\n",
       "    this.rubberband_context = rubberband_canvas.getContext('2d');\n",
       "    this.rubberband_context.strokeStyle = '#000000';\n",
       "\n",
       "    this._resize_canvas = function (width, height, forward) {\n",
       "        if (forward) {\n",
       "            canvas_div.style.width = width + 'px';\n",
       "            canvas_div.style.height = height + 'px';\n",
       "        }\n",
       "    };\n",
       "\n",
       "    // Disable right mouse context menu.\n",
       "    canvas_div.addEventListener('contextmenu', function (_e) {\n",
       "        event.preventDefault();\n",
       "        return false;\n",
       "    });\n",
       "\n",
       "    function set_focus() {\n",
       "        canvas.focus();\n",
       "        canvas_div.focus();\n",
       "    }\n",
       "\n",
       "    window.setTimeout(set_focus, 100);\n",
       "};\n",
       "\n",
       "mpl.figure.prototype._init_toolbar = function () {\n",
       "    var fig = this;\n",
       "\n",
       "    var toolbar = document.createElement('div');\n",
       "    toolbar.classList = 'mpl-toolbar';\n",
       "    this.root.appendChild(toolbar);\n",
       "\n",
       "    function on_click_closure(name) {\n",
       "        return function (_event) {\n",
       "            return fig.toolbar_button_onclick(name);\n",
       "        };\n",
       "    }\n",
       "\n",
       "    function on_mouseover_closure(tooltip) {\n",
       "        return function (event) {\n",
       "            if (!event.currentTarget.disabled) {\n",
       "                return fig.toolbar_button_onmouseover(tooltip);\n",
       "            }\n",
       "        };\n",
       "    }\n",
       "\n",
       "    fig.buttons = {};\n",
       "    var buttonGroup = document.createElement('div');\n",
       "    buttonGroup.classList = 'mpl-button-group';\n",
       "    for (var toolbar_ind in mpl.toolbar_items) {\n",
       "        var name = mpl.toolbar_items[toolbar_ind][0];\n",
       "        var tooltip = mpl.toolbar_items[toolbar_ind][1];\n",
       "        var image = mpl.toolbar_items[toolbar_ind][2];\n",
       "        var method_name = mpl.toolbar_items[toolbar_ind][3];\n",
       "\n",
       "        if (!name) {\n",
       "            /* Instead of a spacer, we start a new button group. */\n",
       "            if (buttonGroup.hasChildNodes()) {\n",
       "                toolbar.appendChild(buttonGroup);\n",
       "            }\n",
       "            buttonGroup = document.createElement('div');\n",
       "            buttonGroup.classList = 'mpl-button-group';\n",
       "            continue;\n",
       "        }\n",
       "\n",
       "        var button = (fig.buttons[name] = document.createElement('button'));\n",
       "        button.classList = 'mpl-widget';\n",
       "        button.setAttribute('role', 'button');\n",
       "        button.setAttribute('aria-disabled', 'false');\n",
       "        button.addEventListener('click', on_click_closure(method_name));\n",
       "        button.addEventListener('mouseover', on_mouseover_closure(tooltip));\n",
       "\n",
       "        var icon_img = document.createElement('img');\n",
       "        icon_img.src = '_images/' + image + '.png';\n",
       "        icon_img.srcset = '_images/' + image + '_large.png 2x';\n",
       "        icon_img.alt = tooltip;\n",
       "        button.appendChild(icon_img);\n",
       "\n",
       "        buttonGroup.appendChild(button);\n",
       "    }\n",
       "\n",
       "    if (buttonGroup.hasChildNodes()) {\n",
       "        toolbar.appendChild(buttonGroup);\n",
       "    }\n",
       "\n",
       "    var fmt_picker = document.createElement('select');\n",
       "    fmt_picker.classList = 'mpl-widget';\n",
       "    toolbar.appendChild(fmt_picker);\n",
       "    this.format_dropdown = fmt_picker;\n",
       "\n",
       "    for (var ind in mpl.extensions) {\n",
       "        var fmt = mpl.extensions[ind];\n",
       "        var option = document.createElement('option');\n",
       "        option.selected = fmt === mpl.default_extension;\n",
       "        option.innerHTML = fmt;\n",
       "        fmt_picker.appendChild(option);\n",
       "    }\n",
       "\n",
       "    var status_bar = document.createElement('span');\n",
       "    status_bar.classList = 'mpl-message';\n",
       "    toolbar.appendChild(status_bar);\n",
       "    this.message = status_bar;\n",
       "};\n",
       "\n",
       "mpl.figure.prototype.request_resize = function (x_pixels, y_pixels) {\n",
       "    // Request matplotlib to resize the figure. Matplotlib will then trigger a resize in the client,\n",
       "    // which will in turn request a refresh of the image.\n",
       "    this.send_message('resize', { width: x_pixels, height: y_pixels });\n",
       "};\n",
       "\n",
       "mpl.figure.prototype.send_message = function (type, properties) {\n",
       "    properties['type'] = type;\n",
       "    properties['figure_id'] = this.id;\n",
       "    this.ws.send(JSON.stringify(properties));\n",
       "};\n",
       "\n",
       "mpl.figure.prototype.send_draw_message = function () {\n",
       "    if (!this.waiting) {\n",
       "        this.waiting = true;\n",
       "        this.ws.send(JSON.stringify({ type: 'draw', figure_id: this.id }));\n",
       "    }\n",
       "};\n",
       "\n",
       "mpl.figure.prototype.handle_save = function (fig, _msg) {\n",
       "    var format_dropdown = fig.format_dropdown;\n",
       "    var format = format_dropdown.options[format_dropdown.selectedIndex].value;\n",
       "    fig.ondownload(fig, format);\n",
       "};\n",
       "\n",
       "mpl.figure.prototype.handle_resize = function (fig, msg) {\n",
       "    var size = msg['size'];\n",
       "    if (size[0] !== fig.canvas.width || size[1] !== fig.canvas.height) {\n",
       "        fig._resize_canvas(size[0], size[1], msg['forward']);\n",
       "        fig.send_message('refresh', {});\n",
       "    }\n",
       "};\n",
       "\n",
       "mpl.figure.prototype.handle_rubberband = function (fig, msg) {\n",
       "    var x0 = msg['x0'] / fig.ratio;\n",
       "    var y0 = (fig.canvas.height - msg['y0']) / fig.ratio;\n",
       "    var x1 = msg['x1'] / fig.ratio;\n",
       "    var y1 = (fig.canvas.height - msg['y1']) / fig.ratio;\n",
       "    x0 = Math.floor(x0) + 0.5;\n",
       "    y0 = Math.floor(y0) + 0.5;\n",
       "    x1 = Math.floor(x1) + 0.5;\n",
       "    y1 = Math.floor(y1) + 0.5;\n",
       "    var min_x = Math.min(x0, x1);\n",
       "    var min_y = Math.min(y0, y1);\n",
       "    var width = Math.abs(x1 - x0);\n",
       "    var height = Math.abs(y1 - y0);\n",
       "\n",
       "    fig.rubberband_context.clearRect(\n",
       "        0,\n",
       "        0,\n",
       "        fig.canvas.width / fig.ratio,\n",
       "        fig.canvas.height / fig.ratio\n",
       "    );\n",
       "\n",
       "    fig.rubberband_context.strokeRect(min_x, min_y, width, height);\n",
       "};\n",
       "\n",
       "mpl.figure.prototype.handle_figure_label = function (fig, msg) {\n",
       "    // Updates the figure title.\n",
       "    fig.header.textContent = msg['label'];\n",
       "};\n",
       "\n",
       "mpl.figure.prototype.handle_cursor = function (fig, msg) {\n",
       "    fig.canvas_div.style.cursor = msg['cursor'];\n",
       "};\n",
       "\n",
       "mpl.figure.prototype.handle_message = function (fig, msg) {\n",
       "    fig.message.textContent = msg['message'];\n",
       "};\n",
       "\n",
       "mpl.figure.prototype.handle_draw = function (fig, _msg) {\n",
       "    // Request the server to send over a new figure.\n",
       "    fig.send_draw_message();\n",
       "};\n",
       "\n",
       "mpl.figure.prototype.handle_image_mode = function (fig, msg) {\n",
       "    fig.image_mode = msg['mode'];\n",
       "};\n",
       "\n",
       "mpl.figure.prototype.handle_history_buttons = function (fig, msg) {\n",
       "    for (var key in msg) {\n",
       "        if (!(key in fig.buttons)) {\n",
       "            continue;\n",
       "        }\n",
       "        fig.buttons[key].disabled = !msg[key];\n",
       "        fig.buttons[key].setAttribute('aria-disabled', !msg[key]);\n",
       "    }\n",
       "};\n",
       "\n",
       "mpl.figure.prototype.handle_navigate_mode = function (fig, msg) {\n",
       "    if (msg['mode'] === 'PAN') {\n",
       "        fig.buttons['Pan'].classList.add('active');\n",
       "        fig.buttons['Zoom'].classList.remove('active');\n",
       "    } else if (msg['mode'] === 'ZOOM') {\n",
       "        fig.buttons['Pan'].classList.remove('active');\n",
       "        fig.buttons['Zoom'].classList.add('active');\n",
       "    } else {\n",
       "        fig.buttons['Pan'].classList.remove('active');\n",
       "        fig.buttons['Zoom'].classList.remove('active');\n",
       "    }\n",
       "};\n",
       "\n",
       "mpl.figure.prototype.updated_canvas_event = function () {\n",
       "    // Called whenever the canvas gets updated.\n",
       "    this.send_message('ack', {});\n",
       "};\n",
       "\n",
       "// A function to construct a web socket function for onmessage handling.\n",
       "// Called in the figure constructor.\n",
       "mpl.figure.prototype._make_on_message_function = function (fig) {\n",
       "    return function socket_on_message(evt) {\n",
       "        if (evt.data instanceof Blob) {\n",
       "            var img = evt.data;\n",
       "            if (img.type !== 'image/png') {\n",
       "                /* FIXME: We get \"Resource interpreted as Image but\n",
       "                 * transferred with MIME type text/plain:\" errors on\n",
       "                 * Chrome.  But how to set the MIME type?  It doesn't seem\n",
       "                 * to be part of the websocket stream */\n",
       "                img.type = 'image/png';\n",
       "            }\n",
       "\n",
       "            /* Free the memory for the previous frames */\n",
       "            if (fig.imageObj.src) {\n",
       "                (window.URL || window.webkitURL).revokeObjectURL(\n",
       "                    fig.imageObj.src\n",
       "                );\n",
       "            }\n",
       "\n",
       "            fig.imageObj.src = (window.URL || window.webkitURL).createObjectURL(\n",
       "                img\n",
       "            );\n",
       "            fig.updated_canvas_event();\n",
       "            fig.waiting = false;\n",
       "            return;\n",
       "        } else if (\n",
       "            typeof evt.data === 'string' &&\n",
       "            evt.data.slice(0, 21) === 'data:image/png;base64'\n",
       "        ) {\n",
       "            fig.imageObj.src = evt.data;\n",
       "            fig.updated_canvas_event();\n",
       "            fig.waiting = false;\n",
       "            return;\n",
       "        }\n",
       "\n",
       "        var msg = JSON.parse(evt.data);\n",
       "        var msg_type = msg['type'];\n",
       "\n",
       "        // Call the  \"handle_{type}\" callback, which takes\n",
       "        // the figure and JSON message as its only arguments.\n",
       "        try {\n",
       "            var callback = fig['handle_' + msg_type];\n",
       "        } catch (e) {\n",
       "            console.log(\n",
       "                \"No handler for the '\" + msg_type + \"' message type: \",\n",
       "                msg\n",
       "            );\n",
       "            return;\n",
       "        }\n",
       "\n",
       "        if (callback) {\n",
       "            try {\n",
       "                // console.log(\"Handling '\" + msg_type + \"' message: \", msg);\n",
       "                callback(fig, msg);\n",
       "            } catch (e) {\n",
       "                console.log(\n",
       "                    \"Exception inside the 'handler_\" + msg_type + \"' callback:\",\n",
       "                    e,\n",
       "                    e.stack,\n",
       "                    msg\n",
       "                );\n",
       "            }\n",
       "        }\n",
       "    };\n",
       "};\n",
       "\n",
       "\n",
       "/*\n",
       " * return a copy of an object with only non-object keys\n",
       " * we need this to avoid circular references\n",
       " * https://stackoverflow.com/a/24161582/3208463\n",
       " */\n",
       "function simpleKeys(original) {\n",
       "    return Object.keys(original).reduce(function (obj, key) {\n",
       "        if (typeof original[key] !== 'object') {\n",
       "            obj[key] = original[key];\n",
       "        }\n",
       "        return obj;\n",
       "    }, {});\n",
       "}\n",
       "\n",
       "mpl.figure.prototype.mouse_event = function (event, name) {\n",
       "    if (name === 'button_press') {\n",
       "        this.canvas.focus();\n",
       "        this.canvas_div.focus();\n",
       "    }\n",
       "\n",
       "    // from https://stackoverflow.com/q/1114465\n",
       "    var boundingRect = this.canvas.getBoundingClientRect();\n",
       "    var x = (event.clientX - boundingRect.left) * this.ratio;\n",
       "    var y = (event.clientY - boundingRect.top) * this.ratio;\n",
       "\n",
       "    this.send_message(name, {\n",
       "        x: x,\n",
       "        y: y,\n",
       "        button: event.button,\n",
       "        step: event.step,\n",
       "        guiEvent: simpleKeys(event),\n",
       "    });\n",
       "\n",
       "    return false;\n",
       "};\n",
       "\n",
       "mpl.figure.prototype._key_event_extra = function (_event, _name) {\n",
       "    // Handle any extra behaviour associated with a key event\n",
       "};\n",
       "\n",
       "mpl.figure.prototype.key_event = function (event, name) {\n",
       "    // Prevent repeat events\n",
       "    if (name === 'key_press') {\n",
       "        if (event.key === this._key) {\n",
       "            return;\n",
       "        } else {\n",
       "            this._key = event.key;\n",
       "        }\n",
       "    }\n",
       "    if (name === 'key_release') {\n",
       "        this._key = null;\n",
       "    }\n",
       "\n",
       "    var value = '';\n",
       "    if (event.ctrlKey && event.key !== 'Control') {\n",
       "        value += 'ctrl+';\n",
       "    }\n",
       "    else if (event.altKey && event.key !== 'Alt') {\n",
       "        value += 'alt+';\n",
       "    }\n",
       "    else if (event.shiftKey && event.key !== 'Shift') {\n",
       "        value += 'shift+';\n",
       "    }\n",
       "\n",
       "    value += 'k' + event.key;\n",
       "\n",
       "    this._key_event_extra(event, name);\n",
       "\n",
       "    this.send_message(name, { key: value, guiEvent: simpleKeys(event) });\n",
       "    return false;\n",
       "};\n",
       "\n",
       "mpl.figure.prototype.toolbar_button_onclick = function (name) {\n",
       "    if (name === 'download') {\n",
       "        this.handle_save(this, null);\n",
       "    } else {\n",
       "        this.send_message('toolbar_button', { name: name });\n",
       "    }\n",
       "};\n",
       "\n",
       "mpl.figure.prototype.toolbar_button_onmouseover = function (tooltip) {\n",
       "    this.message.textContent = tooltip;\n",
       "};\n",
       "\n",
       "///////////////// REMAINING CONTENT GENERATED BY embed_js.py /////////////////\n",
       "// prettier-ignore\n",
       "var _JSXTOOLS_RESIZE_OBSERVER=function(A){var t,i=new WeakMap,n=new WeakMap,a=new WeakMap,r=new WeakMap,o=new Set;function s(e){if(!(this instanceof s))throw new TypeError(\"Constructor requires 'new' operator\");i.set(this,e)}function h(){throw new TypeError(\"Function is not a constructor\")}function c(e,t,i,n){e=0 in arguments?Number(arguments[0]):0,t=1 in arguments?Number(arguments[1]):0,i=2 in arguments?Number(arguments[2]):0,n=3 in arguments?Number(arguments[3]):0,this.right=(this.x=this.left=e)+(this.width=i),this.bottom=(this.y=this.top=t)+(this.height=n),Object.freeze(this)}function d(){t=requestAnimationFrame(d);var s=new WeakMap,p=new Set;o.forEach((function(t){r.get(t).forEach((function(i){var r=t instanceof window.SVGElement,o=a.get(t),d=r?0:parseFloat(o.paddingTop),f=r?0:parseFloat(o.paddingRight),l=r?0:parseFloat(o.paddingBottom),u=r?0:parseFloat(o.paddingLeft),g=r?0:parseFloat(o.borderTopWidth),m=r?0:parseFloat(o.borderRightWidth),w=r?0:parseFloat(o.borderBottomWidth),b=u+f,F=d+l,v=(r?0:parseFloat(o.borderLeftWidth))+m,W=g+w,y=r?0:t.offsetHeight-W-t.clientHeight,E=r?0:t.offsetWidth-v-t.clientWidth,R=b+v,z=F+W,M=r?t.width:parseFloat(o.width)-R-E,O=r?t.height:parseFloat(o.height)-z-y;if(n.has(t)){var k=n.get(t);if(k[0]===M&&k[1]===O)return}n.set(t,[M,O]);var S=Object.create(h.prototype);S.target=t,S.contentRect=new c(u,d,M,O),s.has(i)||(s.set(i,[]),p.add(i)),s.get(i).push(S)}))})),p.forEach((function(e){i.get(e).call(e,s.get(e),e)}))}return s.prototype.observe=function(i){if(i instanceof window.Element){r.has(i)||(r.set(i,new Set),o.add(i),a.set(i,window.getComputedStyle(i)));var n=r.get(i);n.has(this)||n.add(this),cancelAnimationFrame(t),t=requestAnimationFrame(d)}},s.prototype.unobserve=function(i){if(i instanceof window.Element&&r.has(i)){var n=r.get(i);n.has(this)&&(n.delete(this),n.size||(r.delete(i),o.delete(i))),n.size||r.delete(i),o.size||cancelAnimationFrame(t)}},A.DOMRectReadOnly=c,A.ResizeObserver=s,A.ResizeObserverEntry=h,A}; // eslint-disable-line\n",
       "mpl.toolbar_items = [[\"Home\", \"Reset original view\", \"fa fa-home\", \"home\"], [\"Back\", \"Back to previous view\", \"fa fa-arrow-left\", \"back\"], [\"Forward\", \"Forward to next view\", \"fa fa-arrow-right\", \"forward\"], [\"\", \"\", \"\", \"\"], [\"Pan\", \"Left button pans, Right button zooms\\nx/y fixes axis, CTRL fixes aspect\", \"fa fa-arrows\", \"pan\"], [\"Zoom\", \"Zoom to rectangle\\nx/y fixes axis\", \"fa fa-square-o\", \"zoom\"], [\"\", \"\", \"\", \"\"], [\"Download\", \"Download plot\", \"fa fa-floppy-o\", \"download\"]];\n",
       "\n",
       "mpl.extensions = [\"eps\", \"jpeg\", \"pgf\", \"pdf\", \"png\", \"ps\", \"raw\", \"svg\", \"tif\", \"webp\"];\n",
       "\n",
       "mpl.default_extension = \"png\";/* global mpl */\n",
       "\n",
       "var comm_websocket_adapter = function (comm) {\n",
       "    // Create a \"websocket\"-like object which calls the given IPython comm\n",
       "    // object with the appropriate methods. Currently this is a non binary\n",
       "    // socket, so there is still some room for performance tuning.\n",
       "    var ws = {};\n",
       "\n",
       "    ws.binaryType = comm.kernel.ws.binaryType;\n",
       "    ws.readyState = comm.kernel.ws.readyState;\n",
       "    function updateReadyState(_event) {\n",
       "        if (comm.kernel.ws) {\n",
       "            ws.readyState = comm.kernel.ws.readyState;\n",
       "        } else {\n",
       "            ws.readyState = 3; // Closed state.\n",
       "        }\n",
       "    }\n",
       "    comm.kernel.ws.addEventListener('open', updateReadyState);\n",
       "    comm.kernel.ws.addEventListener('close', updateReadyState);\n",
       "    comm.kernel.ws.addEventListener('error', updateReadyState);\n",
       "\n",
       "    ws.close = function () {\n",
       "        comm.close();\n",
       "    };\n",
       "    ws.send = function (m) {\n",
       "        //console.log('sending', m);\n",
       "        comm.send(m);\n",
       "    };\n",
       "    // Register the callback with on_msg.\n",
       "    comm.on_msg(function (msg) {\n",
       "        //console.log('receiving', msg['content']['data'], msg);\n",
       "        var data = msg['content']['data'];\n",
       "        if (data['blob'] !== undefined) {\n",
       "            data = {\n",
       "                data: new Blob(msg['buffers'], { type: data['blob'] }),\n",
       "            };\n",
       "        }\n",
       "        // Pass the mpl event to the overridden (by mpl) onmessage function.\n",
       "        ws.onmessage(data);\n",
       "    });\n",
       "    return ws;\n",
       "};\n",
       "\n",
       "mpl.mpl_figure_comm = function (comm, msg) {\n",
       "    // This is the function which gets called when the mpl process\n",
       "    // starts-up an IPython Comm through the \"matplotlib\" channel.\n",
       "\n",
       "    var id = msg.content.data.id;\n",
       "    // Get hold of the div created by the display call when the Comm\n",
       "    // socket was opened in Python.\n",
       "    var element = document.getElementById(id);\n",
       "    var ws_proxy = comm_websocket_adapter(comm);\n",
       "\n",
       "    function ondownload(figure, _format) {\n",
       "        window.open(figure.canvas.toDataURL());\n",
       "    }\n",
       "\n",
       "    var fig = new mpl.figure(id, ws_proxy, ondownload, element);\n",
       "\n",
       "    // Call onopen now - mpl needs it, as it is assuming we've passed it a real\n",
       "    // web socket which is closed, not our websocket->open comm proxy.\n",
       "    ws_proxy.onopen();\n",
       "\n",
       "    fig.parent_element = element;\n",
       "    fig.cell_info = mpl.find_output_cell(\"<div id='\" + id + \"'></div>\");\n",
       "    if (!fig.cell_info) {\n",
       "        console.error('Failed to find cell for figure', id, fig);\n",
       "        return;\n",
       "    }\n",
       "    fig.cell_info[0].output_area.element.on(\n",
       "        'cleared',\n",
       "        { fig: fig },\n",
       "        fig._remove_fig_handler\n",
       "    );\n",
       "};\n",
       "\n",
       "mpl.figure.prototype.handle_close = function (fig, msg) {\n",
       "    var width = fig.canvas.width / fig.ratio;\n",
       "    fig.cell_info[0].output_area.element.off(\n",
       "        'cleared',\n",
       "        fig._remove_fig_handler\n",
       "    );\n",
       "    fig.resizeObserverInstance.unobserve(fig.canvas_div);\n",
       "\n",
       "    // Update the output cell to use the data from the current canvas.\n",
       "    fig.push_to_output();\n",
       "    var dataURL = fig.canvas.toDataURL();\n",
       "    // Re-enable the keyboard manager in IPython - without this line, in FF,\n",
       "    // the notebook keyboard shortcuts fail.\n",
       "    IPython.keyboard_manager.enable();\n",
       "    fig.parent_element.innerHTML =\n",
       "        '<img src=\"' + dataURL + '\" width=\"' + width + '\">';\n",
       "    fig.close_ws(fig, msg);\n",
       "};\n",
       "\n",
       "mpl.figure.prototype.close_ws = function (fig, msg) {\n",
       "    fig.send_message('closing', msg);\n",
       "    // fig.ws.close()\n",
       "};\n",
       "\n",
       "mpl.figure.prototype.push_to_output = function (_remove_interactive) {\n",
       "    // Turn the data on the canvas into data in the output cell.\n",
       "    var width = this.canvas.width / this.ratio;\n",
       "    var dataURL = this.canvas.toDataURL();\n",
       "    this.cell_info[1]['text/html'] =\n",
       "        '<img src=\"' + dataURL + '\" width=\"' + width + '\">';\n",
       "};\n",
       "\n",
       "mpl.figure.prototype.updated_canvas_event = function () {\n",
       "    // Tell IPython that the notebook contents must change.\n",
       "    IPython.notebook.set_dirty(true);\n",
       "    this.send_message('ack', {});\n",
       "    var fig = this;\n",
       "    // Wait a second, then push the new image to the DOM so\n",
       "    // that it is saved nicely (might be nice to debounce this).\n",
       "    setTimeout(function () {\n",
       "        fig.push_to_output();\n",
       "    }, 1000);\n",
       "};\n",
       "\n",
       "mpl.figure.prototype._init_toolbar = function () {\n",
       "    var fig = this;\n",
       "\n",
       "    var toolbar = document.createElement('div');\n",
       "    toolbar.classList = 'btn-toolbar';\n",
       "    this.root.appendChild(toolbar);\n",
       "\n",
       "    function on_click_closure(name) {\n",
       "        return function (_event) {\n",
       "            return fig.toolbar_button_onclick(name);\n",
       "        };\n",
       "    }\n",
       "\n",
       "    function on_mouseover_closure(tooltip) {\n",
       "        return function (event) {\n",
       "            if (!event.currentTarget.disabled) {\n",
       "                return fig.toolbar_button_onmouseover(tooltip);\n",
       "            }\n",
       "        };\n",
       "    }\n",
       "\n",
       "    fig.buttons = {};\n",
       "    var buttonGroup = document.createElement('div');\n",
       "    buttonGroup.classList = 'btn-group';\n",
       "    var button;\n",
       "    for (var toolbar_ind in mpl.toolbar_items) {\n",
       "        var name = mpl.toolbar_items[toolbar_ind][0];\n",
       "        var tooltip = mpl.toolbar_items[toolbar_ind][1];\n",
       "        var image = mpl.toolbar_items[toolbar_ind][2];\n",
       "        var method_name = mpl.toolbar_items[toolbar_ind][3];\n",
       "\n",
       "        if (!name) {\n",
       "            /* Instead of a spacer, we start a new button group. */\n",
       "            if (buttonGroup.hasChildNodes()) {\n",
       "                toolbar.appendChild(buttonGroup);\n",
       "            }\n",
       "            buttonGroup = document.createElement('div');\n",
       "            buttonGroup.classList = 'btn-group';\n",
       "            continue;\n",
       "        }\n",
       "\n",
       "        button = fig.buttons[name] = document.createElement('button');\n",
       "        button.classList = 'btn btn-default';\n",
       "        button.href = '#';\n",
       "        button.title = name;\n",
       "        button.innerHTML = '<i class=\"fa ' + image + ' fa-lg\"></i>';\n",
       "        button.addEventListener('click', on_click_closure(method_name));\n",
       "        button.addEventListener('mouseover', on_mouseover_closure(tooltip));\n",
       "        buttonGroup.appendChild(button);\n",
       "    }\n",
       "\n",
       "    if (buttonGroup.hasChildNodes()) {\n",
       "        toolbar.appendChild(buttonGroup);\n",
       "    }\n",
       "\n",
       "    // Add the status bar.\n",
       "    var status_bar = document.createElement('span');\n",
       "    status_bar.classList = 'mpl-message pull-right';\n",
       "    toolbar.appendChild(status_bar);\n",
       "    this.message = status_bar;\n",
       "\n",
       "    // Add the close button to the window.\n",
       "    var buttongrp = document.createElement('div');\n",
       "    buttongrp.classList = 'btn-group inline pull-right';\n",
       "    button = document.createElement('button');\n",
       "    button.classList = 'btn btn-mini btn-primary';\n",
       "    button.href = '#';\n",
       "    button.title = 'Stop Interaction';\n",
       "    button.innerHTML = '<i class=\"fa fa-power-off icon-remove icon-large\"></i>';\n",
       "    button.addEventListener('click', function (_evt) {\n",
       "        fig.handle_close(fig, {});\n",
       "    });\n",
       "    button.addEventListener(\n",
       "        'mouseover',\n",
       "        on_mouseover_closure('Stop Interaction')\n",
       "    );\n",
       "    buttongrp.appendChild(button);\n",
       "    var titlebar = this.root.querySelector('.ui-dialog-titlebar');\n",
       "    titlebar.insertBefore(buttongrp, titlebar.firstChild);\n",
       "};\n",
       "\n",
       "mpl.figure.prototype._remove_fig_handler = function (event) {\n",
       "    var fig = event.data.fig;\n",
       "    if (event.target !== this) {\n",
       "        // Ignore bubbled events from children.\n",
       "        return;\n",
       "    }\n",
       "    fig.close_ws(fig, {});\n",
       "};\n",
       "\n",
       "mpl.figure.prototype._root_extra_style = function (el) {\n",
       "    el.style.boxSizing = 'content-box'; // override notebook setting of border-box.\n",
       "};\n",
       "\n",
       "mpl.figure.prototype._canvas_extra_style = function (el) {\n",
       "    // this is important to make the div 'focusable\n",
       "    el.setAttribute('tabindex', 0);\n",
       "    // reach out to IPython and tell the keyboard manager to turn it's self\n",
       "    // off when our div gets focus\n",
       "\n",
       "    // location in version 3\n",
       "    if (IPython.notebook.keyboard_manager) {\n",
       "        IPython.notebook.keyboard_manager.register_events(el);\n",
       "    } else {\n",
       "        // location in version 2\n",
       "        IPython.keyboard_manager.register_events(el);\n",
       "    }\n",
       "};\n",
       "\n",
       "mpl.figure.prototype._key_event_extra = function (event, _name) {\n",
       "    // Check for shift+enter\n",
       "    if (event.shiftKey && event.which === 13) {\n",
       "        this.canvas_div.blur();\n",
       "        // select the cell after this one\n",
       "        var index = IPython.notebook.find_cell_index(this.cell_info[0]);\n",
       "        IPython.notebook.select(index + 1);\n",
       "    }\n",
       "};\n",
       "\n",
       "mpl.figure.prototype.handle_save = function (fig, _msg) {\n",
       "    fig.ondownload(fig, null);\n",
       "};\n",
       "\n",
       "mpl.find_output_cell = function (html_output) {\n",
       "    // Return the cell and output element which can be found *uniquely* in the notebook.\n",
       "    // Note - this is a bit hacky, but it is done because the \"notebook_saving.Notebook\"\n",
       "    // IPython event is triggered only after the cells have been serialised, which for\n",
       "    // our purposes (turning an active figure into a static one), is too late.\n",
       "    var cells = IPython.notebook.get_cells();\n",
       "    var ncells = cells.length;\n",
       "    for (var i = 0; i < ncells; i++) {\n",
       "        var cell = cells[i];\n",
       "        if (cell.cell_type === 'code') {\n",
       "            for (var j = 0; j < cell.output_area.outputs.length; j++) {\n",
       "                var data = cell.output_area.outputs[j];\n",
       "                if (data.data) {\n",
       "                    // IPython >= 3 moved mimebundle to data attribute of output\n",
       "                    data = data.data;\n",
       "                }\n",
       "                if (data['text/html'] === html_output) {\n",
       "                    return [cell, data, j];\n",
       "                }\n",
       "            }\n",
       "        }\n",
       "    }\n",
       "};\n",
       "\n",
       "// Register the function which deals with the matplotlib target/channel.\n",
       "// The kernel may be null if the page has been refreshed.\n",
       "if (IPython.notebook.kernel !== null) {\n",
       "    IPython.notebook.kernel.comm_manager.register_target(\n",
       "        'matplotlib',\n",
       "        mpl.mpl_figure_comm\n",
       "    );\n",
       "}\n"
      ],
      "text/plain": [
       "<IPython.core.display.Javascript object>"
      ]
     },
     "metadata": {},
     "output_type": "display_data"
    },
    {
     "data": {
      "text/html": [
       "<img src=\"data:image/png;base64,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\" width=\"640\">"
      ],
      "text/plain": [
       "<IPython.core.display.HTML object>"
      ]
     },
     "metadata": {},
     "output_type": "display_data"
    }
   ],
   "source": [
    "mix.plot(profile=True)\n",
    "comp0.plot(profile=True)\n",
    "comp1.plot(profile=True) \n",
    "comp2.plot(profile=True)\n",
    "comp3.plot(profile=True)\n",
    "comp4.plot(profile=True)"
   ]
  },
  {
   "cell_type": "markdown",
   "id": "d02e78fc",
   "metadata": {},
   "source": [
    "### Removing unnecessary data points"
   ]
  },
  {
   "cell_type": "code",
   "execution_count": 31,
   "id": "5a43cbe9",
   "metadata": {},
   "outputs": [],
   "source": [
    "def cut_spectra_to_region(list_of_spectra, lower_bound, upper_bound):\n",
    "    res = []\n",
    "    for sp in list_of_spectra:\n",
    "        ppm = np.array(sp.confs)[:,0]\n",
    "        ints = np.array(sp.confs)[:,1]\n",
    "        ppm_in_region = np.logical_and(ppm>lower_bound, ppm<upper_bound)\n",
    "        new_ppm = ppm[ppm_in_region]\n",
    "        new_ints = ints[ppm_in_region]\n",
    "        res.append(masserstein.Spectrum(confs=list(zip(new_ppm, new_ints))))\n",
    "    return res"
   ]
  },
  {
   "cell_type": "code",
   "execution_count": 32,
   "id": "11c1870e",
   "metadata": {},
   "outputs": [],
   "source": [
    "#2.8, 6.1\n",
    "preprocessed_spectra = cut_spectra_to_region(spectra_and_mixture, 2.8-shift_coef, 6.1-shift_coef)"
   ]
  },
  {
   "cell_type": "code",
   "execution_count": 33,
   "id": "82045ee1",
   "metadata": {},
   "outputs": [],
   "source": [
    "spectra_and_mixture = preprocessed_spectra\n",
    "spectra = spectra_and_mixture[:-1]\n",
    "mix = preprocessed_spectra[-1]\n",
    "del(preprocessed_spectra)"
   ]
  },
  {
   "cell_type": "code",
   "execution_count": 34,
   "id": "e81de59f",
   "metadata": {},
   "outputs": [],
   "source": [
    "preprocessed_spectra = []\n",
    "for sp in spectra_and_mixture:\n",
    "    sp2 = make_nonnegative(sp)\n",
    "    sp2.sort_confs()\n",
    "    sp2.merge_confs()\n",
    "    sp2.normalize()\n",
    "    preprocessed_spectra.append(sp2)"
   ]
  },
  {
   "cell_type": "code",
   "execution_count": 35,
   "id": "970e9ade",
   "metadata": {},
   "outputs": [],
   "source": [
    "spectra_and_mixture = preprocessed_spectra\n",
    "spectra = spectra_and_mixture[:-1]\n",
    "mix = preprocessed_spectra[-1]\n",
    "del(preprocessed_spectra)"
   ]
  },
  {
   "cell_type": "code",
   "execution_count": 36,
   "id": "6af56952",
   "metadata": {},
   "outputs": [],
   "source": [
    "for i, sp in enumerate(spectra):\n",
    "    sp.protons = protons[i]"
   ]
  },
  {
   "cell_type": "code",
   "execution_count": 37,
   "id": "219c7efd",
   "metadata": {},
   "outputs": [],
   "source": [
    "for i, name in enumerate(names):\n",
    "    globals()[name] = spectra[i]"
   ]
  },
  {
   "cell_type": "code",
   "execution_count": 38,
   "id": "d2c529bd",
   "metadata": {},
   "outputs": [],
   "source": [
    "components_ints = []\n",
    "for spectrum in spectra:\n",
    "    components_ints.append(np.array(spectrum.confs)[:,1])#.reshape(-1,1))"
   ]
  },
  {
   "cell_type": "code",
   "execution_count": 39,
   "id": "d20be659",
   "metadata": {},
   "outputs": [],
   "source": [
    "ppm = np.array(mix.confs)[:,0]\n",
    "mix_ints = np.array(mix.confs)[:,1]"
   ]
  },
  {
   "cell_type": "code",
   "execution_count": 40,
   "id": "bc638811",
   "metadata": {},
   "outputs": [],
   "source": [
    "labels = ['Lactate', 'Alanine', 'Creatine', 'Creatinine', 'Choline chloride', 'Mixture']\n",
    "for i, sp in enumerate(spectra_and_mixture):\n",
    "    sp.label = labels[i]"
   ]
  },
  {
   "cell_type": "code",
   "execution_count": 41,
   "id": "cec10f4f",
   "metadata": {},
   "outputs": [
    {
     "data": {
      "application/javascript": [
       "/* Put everything inside the global mpl namespace */\n",
       "/* global mpl */\n",
       "window.mpl = {};\n",
       "\n",
       "mpl.get_websocket_type = function () {\n",
       "    if (typeof WebSocket !== 'undefined') {\n",
       "        return WebSocket;\n",
       "    } else if (typeof MozWebSocket !== 'undefined') {\n",
       "        return MozWebSocket;\n",
       "    } else {\n",
       "        alert(\n",
       "            'Your browser does not have WebSocket support. ' +\n",
       "                'Please try Chrome, Safari or Firefox ≥ 6. ' +\n",
       "                'Firefox 4 and 5 are also supported but you ' +\n",
       "                'have to enable WebSockets in about:config.'\n",
       "        );\n",
       "    }\n",
       "};\n",
       "\n",
       "mpl.figure = function (figure_id, websocket, ondownload, parent_element) {\n",
       "    this.id = figure_id;\n",
       "\n",
       "    this.ws = websocket;\n",
       "\n",
       "    this.supports_binary = this.ws.binaryType !== undefined;\n",
       "\n",
       "    if (!this.supports_binary) {\n",
       "        var warnings = document.getElementById('mpl-warnings');\n",
       "        if (warnings) {\n",
       "            warnings.style.display = 'block';\n",
       "            warnings.textContent =\n",
       "                'This browser does not support binary websocket messages. ' +\n",
       "                'Performance may be slow.';\n",
       "        }\n",
       "    }\n",
       "\n",
       "    this.imageObj = new Image();\n",
       "\n",
       "    this.context = undefined;\n",
       "    this.message = undefined;\n",
       "    this.canvas = undefined;\n",
       "    this.rubberband_canvas = undefined;\n",
       "    this.rubberband_context = undefined;\n",
       "    this.format_dropdown = undefined;\n",
       "\n",
       "    this.image_mode = 'full';\n",
       "\n",
       "    this.root = document.createElement('div');\n",
       "    this.root.setAttribute('style', 'display: inline-block');\n",
       "    this._root_extra_style(this.root);\n",
       "\n",
       "    parent_element.appendChild(this.root);\n",
       "\n",
       "    this._init_header(this);\n",
       "    this._init_canvas(this);\n",
       "    this._init_toolbar(this);\n",
       "\n",
       "    var fig = this;\n",
       "\n",
       "    this.waiting = false;\n",
       "\n",
       "    this.ws.onopen = function () {\n",
       "        fig.send_message('supports_binary', { value: fig.supports_binary });\n",
       "        fig.send_message('send_image_mode', {});\n",
       "        if (fig.ratio !== 1) {\n",
       "            fig.send_message('set_device_pixel_ratio', {\n",
       "                device_pixel_ratio: fig.ratio,\n",
       "            });\n",
       "        }\n",
       "        fig.send_message('refresh', {});\n",
       "    };\n",
       "\n",
       "    this.imageObj.onload = function () {\n",
       "        if (fig.image_mode === 'full') {\n",
       "            // Full images could contain transparency (where diff images\n",
       "            // almost always do), so we need to clear the canvas so that\n",
       "            // there is no ghosting.\n",
       "            fig.context.clearRect(0, 0, fig.canvas.width, fig.canvas.height);\n",
       "        }\n",
       "        fig.context.drawImage(fig.imageObj, 0, 0);\n",
       "    };\n",
       "\n",
       "    this.imageObj.onunload = function () {\n",
       "        fig.ws.close();\n",
       "    };\n",
       "\n",
       "    this.ws.onmessage = this._make_on_message_function(this);\n",
       "\n",
       "    this.ondownload = ondownload;\n",
       "};\n",
       "\n",
       "mpl.figure.prototype._init_header = function () {\n",
       "    var titlebar = document.createElement('div');\n",
       "    titlebar.classList =\n",
       "        'ui-dialog-titlebar ui-widget-header ui-corner-all ui-helper-clearfix';\n",
       "    var titletext = document.createElement('div');\n",
       "    titletext.classList = 'ui-dialog-title';\n",
       "    titletext.setAttribute(\n",
       "        'style',\n",
       "        'width: 100%; text-align: center; padding: 3px;'\n",
       "    );\n",
       "    titlebar.appendChild(titletext);\n",
       "    this.root.appendChild(titlebar);\n",
       "    this.header = titletext;\n",
       "};\n",
       "\n",
       "mpl.figure.prototype._canvas_extra_style = function (_canvas_div) {};\n",
       "\n",
       "mpl.figure.prototype._root_extra_style = function (_canvas_div) {};\n",
       "\n",
       "mpl.figure.prototype._init_canvas = function () {\n",
       "    var fig = this;\n",
       "\n",
       "    var canvas_div = (this.canvas_div = document.createElement('div'));\n",
       "    canvas_div.setAttribute('tabindex', '0');\n",
       "    canvas_div.setAttribute(\n",
       "        'style',\n",
       "        'border: 1px solid #ddd;' +\n",
       "            'box-sizing: content-box;' +\n",
       "            'clear: both;' +\n",
       "            'min-height: 1px;' +\n",
       "            'min-width: 1px;' +\n",
       "            'outline: 0;' +\n",
       "            'overflow: hidden;' +\n",
       "            'position: relative;' +\n",
       "            'resize: both;' +\n",
       "            'z-index: 2;'\n",
       "    );\n",
       "\n",
       "    function on_keyboard_event_closure(name) {\n",
       "        return function (event) {\n",
       "            return fig.key_event(event, name);\n",
       "        };\n",
       "    }\n",
       "\n",
       "    canvas_div.addEventListener(\n",
       "        'keydown',\n",
       "        on_keyboard_event_closure('key_press')\n",
       "    );\n",
       "    canvas_div.addEventListener(\n",
       "        'keyup',\n",
       "        on_keyboard_event_closure('key_release')\n",
       "    );\n",
       "\n",
       "    this._canvas_extra_style(canvas_div);\n",
       "    this.root.appendChild(canvas_div);\n",
       "\n",
       "    var canvas = (this.canvas = document.createElement('canvas'));\n",
       "    canvas.classList.add('mpl-canvas');\n",
       "    canvas.setAttribute(\n",
       "        'style',\n",
       "        'box-sizing: content-box;' +\n",
       "            'pointer-events: none;' +\n",
       "            'position: relative;' +\n",
       "            'z-index: 0;'\n",
       "    );\n",
       "\n",
       "    this.context = canvas.getContext('2d');\n",
       "\n",
       "    var backingStore =\n",
       "        this.context.backingStorePixelRatio ||\n",
       "        this.context.webkitBackingStorePixelRatio ||\n",
       "        this.context.mozBackingStorePixelRatio ||\n",
       "        this.context.msBackingStorePixelRatio ||\n",
       "        this.context.oBackingStorePixelRatio ||\n",
       "        this.context.backingStorePixelRatio ||\n",
       "        1;\n",
       "\n",
       "    this.ratio = (window.devicePixelRatio || 1) / backingStore;\n",
       "\n",
       "    var rubberband_canvas = (this.rubberband_canvas = document.createElement(\n",
       "        'canvas'\n",
       "    ));\n",
       "    rubberband_canvas.setAttribute(\n",
       "        'style',\n",
       "        'box-sizing: content-box;' +\n",
       "            'left: 0;' +\n",
       "            'pointer-events: none;' +\n",
       "            'position: absolute;' +\n",
       "            'top: 0;' +\n",
       "            'z-index: 1;'\n",
       "    );\n",
       "\n",
       "    // Apply a ponyfill if ResizeObserver is not implemented by browser.\n",
       "    if (this.ResizeObserver === undefined) {\n",
       "        if (window.ResizeObserver !== undefined) {\n",
       "            this.ResizeObserver = window.ResizeObserver;\n",
       "        } else {\n",
       "            var obs = _JSXTOOLS_RESIZE_OBSERVER({});\n",
       "            this.ResizeObserver = obs.ResizeObserver;\n",
       "        }\n",
       "    }\n",
       "\n",
       "    this.resizeObserverInstance = new this.ResizeObserver(function (entries) {\n",
       "        var nentries = entries.length;\n",
       "        for (var i = 0; i < nentries; i++) {\n",
       "            var entry = entries[i];\n",
       "            var width, height;\n",
       "            if (entry.contentBoxSize) {\n",
       "                if (entry.contentBoxSize instanceof Array) {\n",
       "                    // Chrome 84 implements new version of spec.\n",
       "                    width = entry.contentBoxSize[0].inlineSize;\n",
       "                    height = entry.contentBoxSize[0].blockSize;\n",
       "                } else {\n",
       "                    // Firefox implements old version of spec.\n",
       "                    width = entry.contentBoxSize.inlineSize;\n",
       "                    height = entry.contentBoxSize.blockSize;\n",
       "                }\n",
       "            } else {\n",
       "                // Chrome <84 implements even older version of spec.\n",
       "                width = entry.contentRect.width;\n",
       "                height = entry.contentRect.height;\n",
       "            }\n",
       "\n",
       "            // Keep the size of the canvas and rubber band canvas in sync with\n",
       "            // the canvas container.\n",
       "            if (entry.devicePixelContentBoxSize) {\n",
       "                // Chrome 84 implements new version of spec.\n",
       "                canvas.setAttribute(\n",
       "                    'width',\n",
       "                    entry.devicePixelContentBoxSize[0].inlineSize\n",
       "                );\n",
       "                canvas.setAttribute(\n",
       "                    'height',\n",
       "                    entry.devicePixelContentBoxSize[0].blockSize\n",
       "                );\n",
       "            } else {\n",
       "                canvas.setAttribute('width', width * fig.ratio);\n",
       "                canvas.setAttribute('height', height * fig.ratio);\n",
       "            }\n",
       "            /* This rescales the canvas back to display pixels, so that it\n",
       "             * appears correct on HiDPI screens. */\n",
       "            canvas.style.width = width + 'px';\n",
       "            canvas.style.height = height + 'px';\n",
       "\n",
       "            rubberband_canvas.setAttribute('width', width);\n",
       "            rubberband_canvas.setAttribute('height', height);\n",
       "\n",
       "            // And update the size in Python. We ignore the initial 0/0 size\n",
       "            // that occurs as the element is placed into the DOM, which should\n",
       "            // otherwise not happen due to the minimum size styling.\n",
       "            if (fig.ws.readyState == 1 && width != 0 && height != 0) {\n",
       "                fig.request_resize(width, height);\n",
       "            }\n",
       "        }\n",
       "    });\n",
       "    this.resizeObserverInstance.observe(canvas_div);\n",
       "\n",
       "    function on_mouse_event_closure(name) {\n",
       "        /* User Agent sniffing is bad, but WebKit is busted:\n",
       "         * https://bugs.webkit.org/show_bug.cgi?id=144526\n",
       "         * https://bugs.webkit.org/show_bug.cgi?id=181818\n",
       "         * The worst that happens here is that they get an extra browser\n",
       "         * selection when dragging, if this check fails to catch them.\n",
       "         */\n",
       "        var UA = navigator.userAgent;\n",
       "        var isWebKit = /AppleWebKit/.test(UA) && !/Chrome/.test(UA);\n",
       "        if(isWebKit) {\n",
       "            return function (event) {\n",
       "                /* This prevents the web browser from automatically changing to\n",
       "                 * the text insertion cursor when the button is pressed. We\n",
       "                 * want to control all of the cursor setting manually through\n",
       "                 * the 'cursor' event from matplotlib */\n",
       "                event.preventDefault()\n",
       "                return fig.mouse_event(event, name);\n",
       "            };\n",
       "        } else {\n",
       "            return function (event) {\n",
       "                return fig.mouse_event(event, name);\n",
       "            };\n",
       "        }\n",
       "    }\n",
       "\n",
       "    canvas_div.addEventListener(\n",
       "        'mousedown',\n",
       "        on_mouse_event_closure('button_press')\n",
       "    );\n",
       "    canvas_div.addEventListener(\n",
       "        'mouseup',\n",
       "        on_mouse_event_closure('button_release')\n",
       "    );\n",
       "    canvas_div.addEventListener(\n",
       "        'dblclick',\n",
       "        on_mouse_event_closure('dblclick')\n",
       "    );\n",
       "    // Throttle sequential mouse events to 1 every 20ms.\n",
       "    canvas_div.addEventListener(\n",
       "        'mousemove',\n",
       "        on_mouse_event_closure('motion_notify')\n",
       "    );\n",
       "\n",
       "    canvas_div.addEventListener(\n",
       "        'mouseenter',\n",
       "        on_mouse_event_closure('figure_enter')\n",
       "    );\n",
       "    canvas_div.addEventListener(\n",
       "        'mouseleave',\n",
       "        on_mouse_event_closure('figure_leave')\n",
       "    );\n",
       "\n",
       "    canvas_div.addEventListener('wheel', function (event) {\n",
       "        if (event.deltaY < 0) {\n",
       "            event.step = 1;\n",
       "        } else {\n",
       "            event.step = -1;\n",
       "        }\n",
       "        on_mouse_event_closure('scroll')(event);\n",
       "    });\n",
       "\n",
       "    canvas_div.appendChild(canvas);\n",
       "    canvas_div.appendChild(rubberband_canvas);\n",
       "\n",
       "    this.rubberband_context = rubberband_canvas.getContext('2d');\n",
       "    this.rubberband_context.strokeStyle = '#000000';\n",
       "\n",
       "    this._resize_canvas = function (width, height, forward) {\n",
       "        if (forward) {\n",
       "            canvas_div.style.width = width + 'px';\n",
       "            canvas_div.style.height = height + 'px';\n",
       "        }\n",
       "    };\n",
       "\n",
       "    // Disable right mouse context menu.\n",
       "    canvas_div.addEventListener('contextmenu', function (_e) {\n",
       "        event.preventDefault();\n",
       "        return false;\n",
       "    });\n",
       "\n",
       "    function set_focus() {\n",
       "        canvas.focus();\n",
       "        canvas_div.focus();\n",
       "    }\n",
       "\n",
       "    window.setTimeout(set_focus, 100);\n",
       "};\n",
       "\n",
       "mpl.figure.prototype._init_toolbar = function () {\n",
       "    var fig = this;\n",
       "\n",
       "    var toolbar = document.createElement('div');\n",
       "    toolbar.classList = 'mpl-toolbar';\n",
       "    this.root.appendChild(toolbar);\n",
       "\n",
       "    function on_click_closure(name) {\n",
       "        return function (_event) {\n",
       "            return fig.toolbar_button_onclick(name);\n",
       "        };\n",
       "    }\n",
       "\n",
       "    function on_mouseover_closure(tooltip) {\n",
       "        return function (event) {\n",
       "            if (!event.currentTarget.disabled) {\n",
       "                return fig.toolbar_button_onmouseover(tooltip);\n",
       "            }\n",
       "        };\n",
       "    }\n",
       "\n",
       "    fig.buttons = {};\n",
       "    var buttonGroup = document.createElement('div');\n",
       "    buttonGroup.classList = 'mpl-button-group';\n",
       "    for (var toolbar_ind in mpl.toolbar_items) {\n",
       "        var name = mpl.toolbar_items[toolbar_ind][0];\n",
       "        var tooltip = mpl.toolbar_items[toolbar_ind][1];\n",
       "        var image = mpl.toolbar_items[toolbar_ind][2];\n",
       "        var method_name = mpl.toolbar_items[toolbar_ind][3];\n",
       "\n",
       "        if (!name) {\n",
       "            /* Instead of a spacer, we start a new button group. */\n",
       "            if (buttonGroup.hasChildNodes()) {\n",
       "                toolbar.appendChild(buttonGroup);\n",
       "            }\n",
       "            buttonGroup = document.createElement('div');\n",
       "            buttonGroup.classList = 'mpl-button-group';\n",
       "            continue;\n",
       "        }\n",
       "\n",
       "        var button = (fig.buttons[name] = document.createElement('button'));\n",
       "        button.classList = 'mpl-widget';\n",
       "        button.setAttribute('role', 'button');\n",
       "        button.setAttribute('aria-disabled', 'false');\n",
       "        button.addEventListener('click', on_click_closure(method_name));\n",
       "        button.addEventListener('mouseover', on_mouseover_closure(tooltip));\n",
       "\n",
       "        var icon_img = document.createElement('img');\n",
       "        icon_img.src = '_images/' + image + '.png';\n",
       "        icon_img.srcset = '_images/' + image + '_large.png 2x';\n",
       "        icon_img.alt = tooltip;\n",
       "        button.appendChild(icon_img);\n",
       "\n",
       "        buttonGroup.appendChild(button);\n",
       "    }\n",
       "\n",
       "    if (buttonGroup.hasChildNodes()) {\n",
       "        toolbar.appendChild(buttonGroup);\n",
       "    }\n",
       "\n",
       "    var fmt_picker = document.createElement('select');\n",
       "    fmt_picker.classList = 'mpl-widget';\n",
       "    toolbar.appendChild(fmt_picker);\n",
       "    this.format_dropdown = fmt_picker;\n",
       "\n",
       "    for (var ind in mpl.extensions) {\n",
       "        var fmt = mpl.extensions[ind];\n",
       "        var option = document.createElement('option');\n",
       "        option.selected = fmt === mpl.default_extension;\n",
       "        option.innerHTML = fmt;\n",
       "        fmt_picker.appendChild(option);\n",
       "    }\n",
       "\n",
       "    var status_bar = document.createElement('span');\n",
       "    status_bar.classList = 'mpl-message';\n",
       "    toolbar.appendChild(status_bar);\n",
       "    this.message = status_bar;\n",
       "};\n",
       "\n",
       "mpl.figure.prototype.request_resize = function (x_pixels, y_pixels) {\n",
       "    // Request matplotlib to resize the figure. Matplotlib will then trigger a resize in the client,\n",
       "    // which will in turn request a refresh of the image.\n",
       "    this.send_message('resize', { width: x_pixels, height: y_pixels });\n",
       "};\n",
       "\n",
       "mpl.figure.prototype.send_message = function (type, properties) {\n",
       "    properties['type'] = type;\n",
       "    properties['figure_id'] = this.id;\n",
       "    this.ws.send(JSON.stringify(properties));\n",
       "};\n",
       "\n",
       "mpl.figure.prototype.send_draw_message = function () {\n",
       "    if (!this.waiting) {\n",
       "        this.waiting = true;\n",
       "        this.ws.send(JSON.stringify({ type: 'draw', figure_id: this.id }));\n",
       "    }\n",
       "};\n",
       "\n",
       "mpl.figure.prototype.handle_save = function (fig, _msg) {\n",
       "    var format_dropdown = fig.format_dropdown;\n",
       "    var format = format_dropdown.options[format_dropdown.selectedIndex].value;\n",
       "    fig.ondownload(fig, format);\n",
       "};\n",
       "\n",
       "mpl.figure.prototype.handle_resize = function (fig, msg) {\n",
       "    var size = msg['size'];\n",
       "    if (size[0] !== fig.canvas.width || size[1] !== fig.canvas.height) {\n",
       "        fig._resize_canvas(size[0], size[1], msg['forward']);\n",
       "        fig.send_message('refresh', {});\n",
       "    }\n",
       "};\n",
       "\n",
       "mpl.figure.prototype.handle_rubberband = function (fig, msg) {\n",
       "    var x0 = msg['x0'] / fig.ratio;\n",
       "    var y0 = (fig.canvas.height - msg['y0']) / fig.ratio;\n",
       "    var x1 = msg['x1'] / fig.ratio;\n",
       "    var y1 = (fig.canvas.height - msg['y1']) / fig.ratio;\n",
       "    x0 = Math.floor(x0) + 0.5;\n",
       "    y0 = Math.floor(y0) + 0.5;\n",
       "    x1 = Math.floor(x1) + 0.5;\n",
       "    y1 = Math.floor(y1) + 0.5;\n",
       "    var min_x = Math.min(x0, x1);\n",
       "    var min_y = Math.min(y0, y1);\n",
       "    var width = Math.abs(x1 - x0);\n",
       "    var height = Math.abs(y1 - y0);\n",
       "\n",
       "    fig.rubberband_context.clearRect(\n",
       "        0,\n",
       "        0,\n",
       "        fig.canvas.width / fig.ratio,\n",
       "        fig.canvas.height / fig.ratio\n",
       "    );\n",
       "\n",
       "    fig.rubberband_context.strokeRect(min_x, min_y, width, height);\n",
       "};\n",
       "\n",
       "mpl.figure.prototype.handle_figure_label = function (fig, msg) {\n",
       "    // Updates the figure title.\n",
       "    fig.header.textContent = msg['label'];\n",
       "};\n",
       "\n",
       "mpl.figure.prototype.handle_cursor = function (fig, msg) {\n",
       "    fig.canvas_div.style.cursor = msg['cursor'];\n",
       "};\n",
       "\n",
       "mpl.figure.prototype.handle_message = function (fig, msg) {\n",
       "    fig.message.textContent = msg['message'];\n",
       "};\n",
       "\n",
       "mpl.figure.prototype.handle_draw = function (fig, _msg) {\n",
       "    // Request the server to send over a new figure.\n",
       "    fig.send_draw_message();\n",
       "};\n",
       "\n",
       "mpl.figure.prototype.handle_image_mode = function (fig, msg) {\n",
       "    fig.image_mode = msg['mode'];\n",
       "};\n",
       "\n",
       "mpl.figure.prototype.handle_history_buttons = function (fig, msg) {\n",
       "    for (var key in msg) {\n",
       "        if (!(key in fig.buttons)) {\n",
       "            continue;\n",
       "        }\n",
       "        fig.buttons[key].disabled = !msg[key];\n",
       "        fig.buttons[key].setAttribute('aria-disabled', !msg[key]);\n",
       "    }\n",
       "};\n",
       "\n",
       "mpl.figure.prototype.handle_navigate_mode = function (fig, msg) {\n",
       "    if (msg['mode'] === 'PAN') {\n",
       "        fig.buttons['Pan'].classList.add('active');\n",
       "        fig.buttons['Zoom'].classList.remove('active');\n",
       "    } else if (msg['mode'] === 'ZOOM') {\n",
       "        fig.buttons['Pan'].classList.remove('active');\n",
       "        fig.buttons['Zoom'].classList.add('active');\n",
       "    } else {\n",
       "        fig.buttons['Pan'].classList.remove('active');\n",
       "        fig.buttons['Zoom'].classList.remove('active');\n",
       "    }\n",
       "};\n",
       "\n",
       "mpl.figure.prototype.updated_canvas_event = function () {\n",
       "    // Called whenever the canvas gets updated.\n",
       "    this.send_message('ack', {});\n",
       "};\n",
       "\n",
       "// A function to construct a web socket function for onmessage handling.\n",
       "// Called in the figure constructor.\n",
       "mpl.figure.prototype._make_on_message_function = function (fig) {\n",
       "    return function socket_on_message(evt) {\n",
       "        if (evt.data instanceof Blob) {\n",
       "            var img = evt.data;\n",
       "            if (img.type !== 'image/png') {\n",
       "                /* FIXME: We get \"Resource interpreted as Image but\n",
       "                 * transferred with MIME type text/plain:\" errors on\n",
       "                 * Chrome.  But how to set the MIME type?  It doesn't seem\n",
       "                 * to be part of the websocket stream */\n",
       "                img.type = 'image/png';\n",
       "            }\n",
       "\n",
       "            /* Free the memory for the previous frames */\n",
       "            if (fig.imageObj.src) {\n",
       "                (window.URL || window.webkitURL).revokeObjectURL(\n",
       "                    fig.imageObj.src\n",
       "                );\n",
       "            }\n",
       "\n",
       "            fig.imageObj.src = (window.URL || window.webkitURL).createObjectURL(\n",
       "                img\n",
       "            );\n",
       "            fig.updated_canvas_event();\n",
       "            fig.waiting = false;\n",
       "            return;\n",
       "        } else if (\n",
       "            typeof evt.data === 'string' &&\n",
       "            evt.data.slice(0, 21) === 'data:image/png;base64'\n",
       "        ) {\n",
       "            fig.imageObj.src = evt.data;\n",
       "            fig.updated_canvas_event();\n",
       "            fig.waiting = false;\n",
       "            return;\n",
       "        }\n",
       "\n",
       "        var msg = JSON.parse(evt.data);\n",
       "        var msg_type = msg['type'];\n",
       "\n",
       "        // Call the  \"handle_{type}\" callback, which takes\n",
       "        // the figure and JSON message as its only arguments.\n",
       "        try {\n",
       "            var callback = fig['handle_' + msg_type];\n",
       "        } catch (e) {\n",
       "            console.log(\n",
       "                \"No handler for the '\" + msg_type + \"' message type: \",\n",
       "                msg\n",
       "            );\n",
       "            return;\n",
       "        }\n",
       "\n",
       "        if (callback) {\n",
       "            try {\n",
       "                // console.log(\"Handling '\" + msg_type + \"' message: \", msg);\n",
       "                callback(fig, msg);\n",
       "            } catch (e) {\n",
       "                console.log(\n",
       "                    \"Exception inside the 'handler_\" + msg_type + \"' callback:\",\n",
       "                    e,\n",
       "                    e.stack,\n",
       "                    msg\n",
       "                );\n",
       "            }\n",
       "        }\n",
       "    };\n",
       "};\n",
       "\n",
       "\n",
       "/*\n",
       " * return a copy of an object with only non-object keys\n",
       " * we need this to avoid circular references\n",
       " * https://stackoverflow.com/a/24161582/3208463\n",
       " */\n",
       "function simpleKeys(original) {\n",
       "    return Object.keys(original).reduce(function (obj, key) {\n",
       "        if (typeof original[key] !== 'object') {\n",
       "            obj[key] = original[key];\n",
       "        }\n",
       "        return obj;\n",
       "    }, {});\n",
       "}\n",
       "\n",
       "mpl.figure.prototype.mouse_event = function (event, name) {\n",
       "    if (name === 'button_press') {\n",
       "        this.canvas.focus();\n",
       "        this.canvas_div.focus();\n",
       "    }\n",
       "\n",
       "    // from https://stackoverflow.com/q/1114465\n",
       "    var boundingRect = this.canvas.getBoundingClientRect();\n",
       "    var x = (event.clientX - boundingRect.left) * this.ratio;\n",
       "    var y = (event.clientY - boundingRect.top) * this.ratio;\n",
       "\n",
       "    this.send_message(name, {\n",
       "        x: x,\n",
       "        y: y,\n",
       "        button: event.button,\n",
       "        step: event.step,\n",
       "        guiEvent: simpleKeys(event),\n",
       "    });\n",
       "\n",
       "    return false;\n",
       "};\n",
       "\n",
       "mpl.figure.prototype._key_event_extra = function (_event, _name) {\n",
       "    // Handle any extra behaviour associated with a key event\n",
       "};\n",
       "\n",
       "mpl.figure.prototype.key_event = function (event, name) {\n",
       "    // Prevent repeat events\n",
       "    if (name === 'key_press') {\n",
       "        if (event.key === this._key) {\n",
       "            return;\n",
       "        } else {\n",
       "            this._key = event.key;\n",
       "        }\n",
       "    }\n",
       "    if (name === 'key_release') {\n",
       "        this._key = null;\n",
       "    }\n",
       "\n",
       "    var value = '';\n",
       "    if (event.ctrlKey && event.key !== 'Control') {\n",
       "        value += 'ctrl+';\n",
       "    }\n",
       "    else if (event.altKey && event.key !== 'Alt') {\n",
       "        value += 'alt+';\n",
       "    }\n",
       "    else if (event.shiftKey && event.key !== 'Shift') {\n",
       "        value += 'shift+';\n",
       "    }\n",
       "\n",
       "    value += 'k' + event.key;\n",
       "\n",
       "    this._key_event_extra(event, name);\n",
       "\n",
       "    this.send_message(name, { key: value, guiEvent: simpleKeys(event) });\n",
       "    return false;\n",
       "};\n",
       "\n",
       "mpl.figure.prototype.toolbar_button_onclick = function (name) {\n",
       "    if (name === 'download') {\n",
       "        this.handle_save(this, null);\n",
       "    } else {\n",
       "        this.send_message('toolbar_button', { name: name });\n",
       "    }\n",
       "};\n",
       "\n",
       "mpl.figure.prototype.toolbar_button_onmouseover = function (tooltip) {\n",
       "    this.message.textContent = tooltip;\n",
       "};\n",
       "\n",
       "///////////////// REMAINING CONTENT GENERATED BY embed_js.py /////////////////\n",
       "// prettier-ignore\n",
       "var _JSXTOOLS_RESIZE_OBSERVER=function(A){var t,i=new WeakMap,n=new WeakMap,a=new WeakMap,r=new WeakMap,o=new Set;function s(e){if(!(this instanceof s))throw new TypeError(\"Constructor requires 'new' operator\");i.set(this,e)}function h(){throw new TypeError(\"Function is not a constructor\")}function c(e,t,i,n){e=0 in arguments?Number(arguments[0]):0,t=1 in arguments?Number(arguments[1]):0,i=2 in arguments?Number(arguments[2]):0,n=3 in arguments?Number(arguments[3]):0,this.right=(this.x=this.left=e)+(this.width=i),this.bottom=(this.y=this.top=t)+(this.height=n),Object.freeze(this)}function d(){t=requestAnimationFrame(d);var s=new WeakMap,p=new Set;o.forEach((function(t){r.get(t).forEach((function(i){var r=t instanceof window.SVGElement,o=a.get(t),d=r?0:parseFloat(o.paddingTop),f=r?0:parseFloat(o.paddingRight),l=r?0:parseFloat(o.paddingBottom),u=r?0:parseFloat(o.paddingLeft),g=r?0:parseFloat(o.borderTopWidth),m=r?0:parseFloat(o.borderRightWidth),w=r?0:parseFloat(o.borderBottomWidth),b=u+f,F=d+l,v=(r?0:parseFloat(o.borderLeftWidth))+m,W=g+w,y=r?0:t.offsetHeight-W-t.clientHeight,E=r?0:t.offsetWidth-v-t.clientWidth,R=b+v,z=F+W,M=r?t.width:parseFloat(o.width)-R-E,O=r?t.height:parseFloat(o.height)-z-y;if(n.has(t)){var k=n.get(t);if(k[0]===M&&k[1]===O)return}n.set(t,[M,O]);var S=Object.create(h.prototype);S.target=t,S.contentRect=new c(u,d,M,O),s.has(i)||(s.set(i,[]),p.add(i)),s.get(i).push(S)}))})),p.forEach((function(e){i.get(e).call(e,s.get(e),e)}))}return s.prototype.observe=function(i){if(i instanceof window.Element){r.has(i)||(r.set(i,new Set),o.add(i),a.set(i,window.getComputedStyle(i)));var n=r.get(i);n.has(this)||n.add(this),cancelAnimationFrame(t),t=requestAnimationFrame(d)}},s.prototype.unobserve=function(i){if(i instanceof window.Element&&r.has(i)){var n=r.get(i);n.has(this)&&(n.delete(this),n.size||(r.delete(i),o.delete(i))),n.size||r.delete(i),o.size||cancelAnimationFrame(t)}},A.DOMRectReadOnly=c,A.ResizeObserver=s,A.ResizeObserverEntry=h,A}; // eslint-disable-line\n",
       "mpl.toolbar_items = [[\"Home\", \"Reset original view\", \"fa fa-home\", \"home\"], [\"Back\", \"Back to previous view\", \"fa fa-arrow-left\", \"back\"], [\"Forward\", \"Forward to next view\", \"fa fa-arrow-right\", \"forward\"], [\"\", \"\", \"\", \"\"], [\"Pan\", \"Left button pans, Right button zooms\\nx/y fixes axis, CTRL fixes aspect\", \"fa fa-arrows\", \"pan\"], [\"Zoom\", \"Zoom to rectangle\\nx/y fixes axis\", \"fa fa-square-o\", \"zoom\"], [\"\", \"\", \"\", \"\"], [\"Download\", \"Download plot\", \"fa fa-floppy-o\", \"download\"]];\n",
       "\n",
       "mpl.extensions = [\"eps\", \"jpeg\", \"pgf\", \"pdf\", \"png\", \"ps\", \"raw\", \"svg\", \"tif\", \"webp\"];\n",
       "\n",
       "mpl.default_extension = \"png\";/* global mpl */\n",
       "\n",
       "var comm_websocket_adapter = function (comm) {\n",
       "    // Create a \"websocket\"-like object which calls the given IPython comm\n",
       "    // object with the appropriate methods. Currently this is a non binary\n",
       "    // socket, so there is still some room for performance tuning.\n",
       "    var ws = {};\n",
       "\n",
       "    ws.binaryType = comm.kernel.ws.binaryType;\n",
       "    ws.readyState = comm.kernel.ws.readyState;\n",
       "    function updateReadyState(_event) {\n",
       "        if (comm.kernel.ws) {\n",
       "            ws.readyState = comm.kernel.ws.readyState;\n",
       "        } else {\n",
       "            ws.readyState = 3; // Closed state.\n",
       "        }\n",
       "    }\n",
       "    comm.kernel.ws.addEventListener('open', updateReadyState);\n",
       "    comm.kernel.ws.addEventListener('close', updateReadyState);\n",
       "    comm.kernel.ws.addEventListener('error', updateReadyState);\n",
       "\n",
       "    ws.close = function () {\n",
       "        comm.close();\n",
       "    };\n",
       "    ws.send = function (m) {\n",
       "        //console.log('sending', m);\n",
       "        comm.send(m);\n",
       "    };\n",
       "    // Register the callback with on_msg.\n",
       "    comm.on_msg(function (msg) {\n",
       "        //console.log('receiving', msg['content']['data'], msg);\n",
       "        var data = msg['content']['data'];\n",
       "        if (data['blob'] !== undefined) {\n",
       "            data = {\n",
       "                data: new Blob(msg['buffers'], { type: data['blob'] }),\n",
       "            };\n",
       "        }\n",
       "        // Pass the mpl event to the overridden (by mpl) onmessage function.\n",
       "        ws.onmessage(data);\n",
       "    });\n",
       "    return ws;\n",
       "};\n",
       "\n",
       "mpl.mpl_figure_comm = function (comm, msg) {\n",
       "    // This is the function which gets called when the mpl process\n",
       "    // starts-up an IPython Comm through the \"matplotlib\" channel.\n",
       "\n",
       "    var id = msg.content.data.id;\n",
       "    // Get hold of the div created by the display call when the Comm\n",
       "    // socket was opened in Python.\n",
       "    var element = document.getElementById(id);\n",
       "    var ws_proxy = comm_websocket_adapter(comm);\n",
       "\n",
       "    function ondownload(figure, _format) {\n",
       "        window.open(figure.canvas.toDataURL());\n",
       "    }\n",
       "\n",
       "    var fig = new mpl.figure(id, ws_proxy, ondownload, element);\n",
       "\n",
       "    // Call onopen now - mpl needs it, as it is assuming we've passed it a real\n",
       "    // web socket which is closed, not our websocket->open comm proxy.\n",
       "    ws_proxy.onopen();\n",
       "\n",
       "    fig.parent_element = element;\n",
       "    fig.cell_info = mpl.find_output_cell(\"<div id='\" + id + \"'></div>\");\n",
       "    if (!fig.cell_info) {\n",
       "        console.error('Failed to find cell for figure', id, fig);\n",
       "        return;\n",
       "    }\n",
       "    fig.cell_info[0].output_area.element.on(\n",
       "        'cleared',\n",
       "        { fig: fig },\n",
       "        fig._remove_fig_handler\n",
       "    );\n",
       "};\n",
       "\n",
       "mpl.figure.prototype.handle_close = function (fig, msg) {\n",
       "    var width = fig.canvas.width / fig.ratio;\n",
       "    fig.cell_info[0].output_area.element.off(\n",
       "        'cleared',\n",
       "        fig._remove_fig_handler\n",
       "    );\n",
       "    fig.resizeObserverInstance.unobserve(fig.canvas_div);\n",
       "\n",
       "    // Update the output cell to use the data from the current canvas.\n",
       "    fig.push_to_output();\n",
       "    var dataURL = fig.canvas.toDataURL();\n",
       "    // Re-enable the keyboard manager in IPython - without this line, in FF,\n",
       "    // the notebook keyboard shortcuts fail.\n",
       "    IPython.keyboard_manager.enable();\n",
       "    fig.parent_element.innerHTML =\n",
       "        '<img src=\"' + dataURL + '\" width=\"' + width + '\">';\n",
       "    fig.close_ws(fig, msg);\n",
       "};\n",
       "\n",
       "mpl.figure.prototype.close_ws = function (fig, msg) {\n",
       "    fig.send_message('closing', msg);\n",
       "    // fig.ws.close()\n",
       "};\n",
       "\n",
       "mpl.figure.prototype.push_to_output = function (_remove_interactive) {\n",
       "    // Turn the data on the canvas into data in the output cell.\n",
       "    var width = this.canvas.width / this.ratio;\n",
       "    var dataURL = this.canvas.toDataURL();\n",
       "    this.cell_info[1]['text/html'] =\n",
       "        '<img src=\"' + dataURL + '\" width=\"' + width + '\">';\n",
       "};\n",
       "\n",
       "mpl.figure.prototype.updated_canvas_event = function () {\n",
       "    // Tell IPython that the notebook contents must change.\n",
       "    IPython.notebook.set_dirty(true);\n",
       "    this.send_message('ack', {});\n",
       "    var fig = this;\n",
       "    // Wait a second, then push the new image to the DOM so\n",
       "    // that it is saved nicely (might be nice to debounce this).\n",
       "    setTimeout(function () {\n",
       "        fig.push_to_output();\n",
       "    }, 1000);\n",
       "};\n",
       "\n",
       "mpl.figure.prototype._init_toolbar = function () {\n",
       "    var fig = this;\n",
       "\n",
       "    var toolbar = document.createElement('div');\n",
       "    toolbar.classList = 'btn-toolbar';\n",
       "    this.root.appendChild(toolbar);\n",
       "\n",
       "    function on_click_closure(name) {\n",
       "        return function (_event) {\n",
       "            return fig.toolbar_button_onclick(name);\n",
       "        };\n",
       "    }\n",
       "\n",
       "    function on_mouseover_closure(tooltip) {\n",
       "        return function (event) {\n",
       "            if (!event.currentTarget.disabled) {\n",
       "                return fig.toolbar_button_onmouseover(tooltip);\n",
       "            }\n",
       "        };\n",
       "    }\n",
       "\n",
       "    fig.buttons = {};\n",
       "    var buttonGroup = document.createElement('div');\n",
       "    buttonGroup.classList = 'btn-group';\n",
       "    var button;\n",
       "    for (var toolbar_ind in mpl.toolbar_items) {\n",
       "        var name = mpl.toolbar_items[toolbar_ind][0];\n",
       "        var tooltip = mpl.toolbar_items[toolbar_ind][1];\n",
       "        var image = mpl.toolbar_items[toolbar_ind][2];\n",
       "        var method_name = mpl.toolbar_items[toolbar_ind][3];\n",
       "\n",
       "        if (!name) {\n",
       "            /* Instead of a spacer, we start a new button group. */\n",
       "            if (buttonGroup.hasChildNodes()) {\n",
       "                toolbar.appendChild(buttonGroup);\n",
       "            }\n",
       "            buttonGroup = document.createElement('div');\n",
       "            buttonGroup.classList = 'btn-group';\n",
       "            continue;\n",
       "        }\n",
       "\n",
       "        button = fig.buttons[name] = document.createElement('button');\n",
       "        button.classList = 'btn btn-default';\n",
       "        button.href = '#';\n",
       "        button.title = name;\n",
       "        button.innerHTML = '<i class=\"fa ' + image + ' fa-lg\"></i>';\n",
       "        button.addEventListener('click', on_click_closure(method_name));\n",
       "        button.addEventListener('mouseover', on_mouseover_closure(tooltip));\n",
       "        buttonGroup.appendChild(button);\n",
       "    }\n",
       "\n",
       "    if (buttonGroup.hasChildNodes()) {\n",
       "        toolbar.appendChild(buttonGroup);\n",
       "    }\n",
       "\n",
       "    // Add the status bar.\n",
       "    var status_bar = document.createElement('span');\n",
       "    status_bar.classList = 'mpl-message pull-right';\n",
       "    toolbar.appendChild(status_bar);\n",
       "    this.message = status_bar;\n",
       "\n",
       "    // Add the close button to the window.\n",
       "    var buttongrp = document.createElement('div');\n",
       "    buttongrp.classList = 'btn-group inline pull-right';\n",
       "    button = document.createElement('button');\n",
       "    button.classList = 'btn btn-mini btn-primary';\n",
       "    button.href = '#';\n",
       "    button.title = 'Stop Interaction';\n",
       "    button.innerHTML = '<i class=\"fa fa-power-off icon-remove icon-large\"></i>';\n",
       "    button.addEventListener('click', function (_evt) {\n",
       "        fig.handle_close(fig, {});\n",
       "    });\n",
       "    button.addEventListener(\n",
       "        'mouseover',\n",
       "        on_mouseover_closure('Stop Interaction')\n",
       "    );\n",
       "    buttongrp.appendChild(button);\n",
       "    var titlebar = this.root.querySelector('.ui-dialog-titlebar');\n",
       "    titlebar.insertBefore(buttongrp, titlebar.firstChild);\n",
       "};\n",
       "\n",
       "mpl.figure.prototype._remove_fig_handler = function (event) {\n",
       "    var fig = event.data.fig;\n",
       "    if (event.target !== this) {\n",
       "        // Ignore bubbled events from children.\n",
       "        return;\n",
       "    }\n",
       "    fig.close_ws(fig, {});\n",
       "};\n",
       "\n",
       "mpl.figure.prototype._root_extra_style = function (el) {\n",
       "    el.style.boxSizing = 'content-box'; // override notebook setting of border-box.\n",
       "};\n",
       "\n",
       "mpl.figure.prototype._canvas_extra_style = function (el) {\n",
       "    // this is important to make the div 'focusable\n",
       "    el.setAttribute('tabindex', 0);\n",
       "    // reach out to IPython and tell the keyboard manager to turn it's self\n",
       "    // off when our div gets focus\n",
       "\n",
       "    // location in version 3\n",
       "    if (IPython.notebook.keyboard_manager) {\n",
       "        IPython.notebook.keyboard_manager.register_events(el);\n",
       "    } else {\n",
       "        // location in version 2\n",
       "        IPython.keyboard_manager.register_events(el);\n",
       "    }\n",
       "};\n",
       "\n",
       "mpl.figure.prototype._key_event_extra = function (event, _name) {\n",
       "    // Check for shift+enter\n",
       "    if (event.shiftKey && event.which === 13) {\n",
       "        this.canvas_div.blur();\n",
       "        // select the cell after this one\n",
       "        var index = IPython.notebook.find_cell_index(this.cell_info[0]);\n",
       "        IPython.notebook.select(index + 1);\n",
       "    }\n",
       "};\n",
       "\n",
       "mpl.figure.prototype.handle_save = function (fig, _msg) {\n",
       "    fig.ondownload(fig, null);\n",
       "};\n",
       "\n",
       "mpl.find_output_cell = function (html_output) {\n",
       "    // Return the cell and output element which can be found *uniquely* in the notebook.\n",
       "    // Note - this is a bit hacky, but it is done because the \"notebook_saving.Notebook\"\n",
       "    // IPython event is triggered only after the cells have been serialised, which for\n",
       "    // our purposes (turning an active figure into a static one), is too late.\n",
       "    var cells = IPython.notebook.get_cells();\n",
       "    var ncells = cells.length;\n",
       "    for (var i = 0; i < ncells; i++) {\n",
       "        var cell = cells[i];\n",
       "        if (cell.cell_type === 'code') {\n",
       "            for (var j = 0; j < cell.output_area.outputs.length; j++) {\n",
       "                var data = cell.output_area.outputs[j];\n",
       "                if (data.data) {\n",
       "                    // IPython >= 3 moved mimebundle to data attribute of output\n",
       "                    data = data.data;\n",
       "                }\n",
       "                if (data['text/html'] === html_output) {\n",
       "                    return [cell, data, j];\n",
       "                }\n",
       "            }\n",
       "        }\n",
       "    }\n",
       "};\n",
       "\n",
       "// Register the function which deals with the matplotlib target/channel.\n",
       "// The kernel may be null if the page has been refreshed.\n",
       "if (IPython.notebook.kernel !== null) {\n",
       "    IPython.notebook.kernel.comm_manager.register_target(\n",
       "        'matplotlib',\n",
       "        mpl.mpl_figure_comm\n",
       "    );\n",
       "}\n"
      ],
      "text/plain": [
       "<IPython.core.display.Javascript object>"
      ]
     },
     "metadata": {},
     "output_type": "display_data"
    },
    {
     "data": {
      "text/html": [
       "<img src=\"data:image/png;base64,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\" width=\"2500\">"
      ],
      "text/plain": [
       "<IPython.core.display.HTML object>"
      ]
     },
     "metadata": {},
     "output_type": "display_data"
    },
    {
     "data": {
      "text/plain": [
       "<matplotlib.legend.Legend at 0x7fc48fb89f60>"
      ]
     },
     "execution_count": 41,
     "metadata": {},
     "output_type": "execute_result"
    }
   ],
   "source": [
    "fig, ax = plt.subplots()\n",
    "fig.set_size_inches(25, 4, forward=True)\n",
    "mix.plot(profile=True, color='black')\n",
    "comp0.plot(profile=True)\n",
    "comp1.plot(profile=True) \n",
    "comp2.plot(profile=True)\n",
    "comp3.plot(profile=True)\n",
    "comp4.plot(profile=True)\n",
    "ax.legend()\n",
    "#plt.savefig('aligned_spectra.png', dpi=300)"
   ]
  },
  {
   "cell_type": "markdown",
   "id": "7e5e044d",
   "metadata": {},
   "source": [
    "### Finding optimal values of parameters"
   ]
  },
  {
   "cell_type": "code",
   "execution_count": 42,
   "id": "e6b5ed08",
   "metadata": {},
   "outputs": [],
   "source": [
    "import time\n",
    "import pandas as pd\n",
    "import pulp"
   ]
  },
  {
   "cell_type": "code",
   "execution_count": 43,
   "id": "f0a83884",
   "metadata": {},
   "outputs": [],
   "source": [
    "lower_limit = 0.01\n",
    "upper_limit = 0.31\n",
    "step = 0.01"
   ]
  },
  {
   "cell_type": "code",
   "execution_count": 43,
   "id": "2d7660c9",
   "metadata": {},
   "outputs": [
    {
     "name": "stdout",
     "output_type": "stream",
     "text": [
      "Set parameter Username\n",
      "Academic license - for non-commercial use only - expires 2023-11-10\n"
     ]
    },
    {
     "name": "stderr",
     "output_type": "stream",
     "text": [
      "Initial filtering of formulas: 100%|█████████████| 5/5 [00:00<00:00, 116.13it/s]\n",
      "Computing chunks: 100%|████████████████████████| 5/5 [00:00<00:00, 59747.92it/s]\n",
      "Splitting the experimental spectrum into chunks: 27129it [00:00, 1467257.33it/s]\n",
      "Deconvolving chunks:   0%|                                | 0/1 [00:00<?, ?it/s]/home/basia/.local/lib/python3.10/site-packages/pulp/pulp.py:1352: UserWarning: Spaces are not permitted in the name. Converted to '_'\n",
      "  warnings.warn(\"Spaces are not permitted in the name. Converted to '_'\")\n",
      "Deconvolving chunks: 100%|████████████████████████| 1/1 [00:23<00:00, 23.27s/it]\n"
     ]
    },
    {
     "name": "stdout",
     "output_type": "stream",
     "text": [
      "Estimation for 0.01 and 0.01 done\n",
      "It took: 23.406173944473267 seconds.\n",
      "[0.22046182856900015, 0.10259832063900007, 0.06581448343700004, 0.16425592775100012, 0.3227830424860002]\n"
     ]
    },
    {
     "name": "stderr",
     "output_type": "stream",
     "text": [
      "Initial filtering of formulas: 100%|█████████████| 5/5 [00:00<00:00, 221.65it/s]\n",
      "Computing chunks: 100%|███████████████████████| 5/5 [00:00<00:00, 167772.16it/s]\n",
      "Splitting the experimental spectrum into chunks: 27129it [00:00, 1806147.19it/s]\n",
      "Deconvolving chunks: 100%|████████████████████████| 1/1 [00:18<00:00, 18.60s/it]\n"
     ]
    },
    {
     "name": "stdout",
     "output_type": "stream",
     "text": [
      "Estimation for 0.01 and 0.02 done\n",
      "It took: 18.674657583236694 seconds.\n",
      "[0.22425526812600013, 0.08707364012000006, 0.06860563268000004, 0.1570739486010001, 0.3264037318330002]\n"
     ]
    },
    {
     "name": "stderr",
     "output_type": "stream",
     "text": [
      "Initial filtering of formulas: 100%|█████████████| 5/5 [00:00<00:00, 215.94it/s]\n",
      "Computing chunks: 100%|████████████████████████| 5/5 [00:00<00:00, 94893.76it/s]\n",
      "Splitting the experimental spectrum into chunks: 27129it [00:00, 2402298.55it/s]\n",
      "Deconvolving chunks: 100%|████████████████████████| 1/1 [00:16<00:00, 16.88s/it]\n"
     ]
    },
    {
     "name": "stdout",
     "output_type": "stream",
     "text": [
      "Estimation for 0.01 and 0.03 done\n",
      "It took: 16.956629991531372 seconds.\n",
      "[0.22378876126500014, 0.08599632301500006, 0.06560739175800004, 0.15732205972900012, 0.3257794101100002]\n"
     ]
    },
    {
     "name": "stderr",
     "output_type": "stream",
     "text": [
      "Initial filtering of formulas: 100%|█████████████| 5/5 [00:00<00:00, 225.12it/s]\n",
      "Computing chunks: 100%|███████████████████████| 5/5 [00:00<00:00, 161319.38it/s]\n",
      "Splitting the experimental spectrum into chunks: 27129it [00:00, 2256833.20it/s]\n",
      "Deconvolving chunks: 100%|████████████████████████| 1/1 [00:20<00:00, 20.13s/it]\n"
     ]
    },
    {
     "name": "stdout",
     "output_type": "stream",
     "text": [
      "Estimation for 0.01 and 0.04 done\n",
      "It took: 20.206804275512695 seconds.\n",
      "[0.22340356823900015, 0.08482710180700005, 0.06359170776300004, 0.1573733391600001, 0.32501066070000023]\n"
     ]
    },
    {
     "name": "stderr",
     "output_type": "stream",
     "text": [
      "Initial filtering of formulas: 100%|█████████████| 5/5 [00:00<00:00, 174.08it/s]\n",
      "Computing chunks: 100%|███████████████████████| 5/5 [00:00<00:00, 136178.70it/s]\n",
      "Splitting the experimental spectrum into chunks: 27129it [00:00, 2018471.13it/s]\n",
      "Deconvolving chunks: 100%|████████████████████████| 1/1 [00:15<00:00, 15.21s/it]\n"
     ]
    },
    {
     "name": "stdout",
     "output_type": "stream",
     "text": [
      "Estimation for 0.01 and 0.05 done\n",
      "It took: 15.302174806594849 seconds.\n",
      "[0.22288083888900015, 0.08357849023400006, 0.061427088772000045, 0.15758019536500012, 0.3242794421280002]\n"
     ]
    },
    {
     "name": "stderr",
     "output_type": "stream",
     "text": [
      "Initial filtering of formulas: 100%|█████████████| 5/5 [00:00<00:00, 241.04it/s]\n",
      "Computing chunks: 100%|███████████████████████| 5/5 [00:00<00:00, 166440.63it/s]\n",
      "Splitting the experimental spectrum into chunks: 27129it [00:00, 2741333.56it/s]\n",
      "Deconvolving chunks: 100%|████████████████████████| 1/1 [00:15<00:00, 15.90s/it]\n"
     ]
    },
    {
     "name": "stdout",
     "output_type": "stream",
     "text": [
      "Estimation for 0.01 and 0.060000000000000005 done\n",
      "It took: 15.967336893081665 seconds.\n",
      "[0.22240815083200013, 0.08294333669200006, 0.05972398344300004, 0.15734572403300012, 0.32346802433600025]\n"
     ]
    },
    {
     "name": "stderr",
     "output_type": "stream",
     "text": [
      "Initial filtering of formulas: 100%|█████████████| 5/5 [00:00<00:00, 255.86it/s]\n",
      "Computing chunks: 100%|███████████████████████| 5/5 [00:00<00:00, 165130.08it/s]\n",
      "Splitting the experimental spectrum into chunks: 27129it [00:00, 2781540.85it/s]\n",
      "Deconvolving chunks: 100%|████████████████████████| 1/1 [00:15<00:00, 15.96s/it]\n"
     ]
    },
    {
     "name": "stdout",
     "output_type": "stream",
     "text": [
      "Estimation for 0.01 and 0.06999999999999999 done\n",
      "It took: 16.024593353271484 seconds.\n",
      "[0.22213762190300013, 0.08157835110900005, 0.05787940139800004, 0.1572692509990001, 0.3228781923350002]\n"
     ]
    },
    {
     "name": "stderr",
     "output_type": "stream",
     "text": [
      "Initial filtering of formulas: 100%|█████████████| 5/5 [00:00<00:00, 238.02it/s]\n",
      "Computing chunks: 100%|███████████████████████| 5/5 [00:00<00:00, 137970.53it/s]\n",
      "Splitting the experimental spectrum into chunks: 27129it [00:00, 2647693.44it/s]\n",
      "Deconvolving chunks: 100%|████████████████████████| 1/1 [00:19<00:00, 19.67s/it]\n"
     ]
    },
    {
     "name": "stdout",
     "output_type": "stream",
     "text": [
      "Estimation for 0.01 and 0.08 done\n",
      "It took: 19.74241352081299 seconds.\n",
      "[0.22157220673100014, 0.08014368837600006, 0.056792944913000035, 0.15741186232900012, 0.3219250939490002]\n"
     ]
    },
    {
     "name": "stderr",
     "output_type": "stream",
     "text": [
      "Initial filtering of formulas: 100%|█████████████| 5/5 [00:00<00:00, 138.86it/s]\n",
      "Computing chunks: 100%|████████████████████████| 5/5 [00:00<00:00, 50051.36it/s]\n",
      "Splitting the experimental spectrum into chunks: 27129it [00:00, 2133924.82it/s]\n",
      "Deconvolving chunks: 100%|████████████████████████| 1/1 [00:18<00:00, 18.09s/it]\n"
     ]
    },
    {
     "name": "stdout",
     "output_type": "stream",
     "text": [
      "Estimation for 0.01 and 0.09 done\n",
      "It took: 18.179928064346313 seconds.\n",
      "[0.22134497863800015, 0.07942215735500005, 0.05516109259900003, 0.15748922576800012, 0.32100018055700025]\n"
     ]
    },
    {
     "name": "stderr",
     "output_type": "stream",
     "text": [
      "Initial filtering of formulas: 100%|█████████████| 5/5 [00:00<00:00, 250.30it/s]\n",
      "Computing chunks: 100%|████████████████████████| 5/5 [00:00<00:00, 91180.52it/s]\n",
      "Splitting the experimental spectrum into chunks: 27129it [00:00, 2750677.43it/s]\n",
      "Deconvolving chunks: 100%|████████████████████████| 1/1 [00:15<00:00, 15.43s/it]\n"
     ]
    },
    {
     "name": "stdout",
     "output_type": "stream",
     "text": [
      "Estimation for 0.01 and 0.09999999999999999 done\n",
      "It took: 15.499067544937134 seconds.\n",
      "[0.22009582189100013, 0.07778742085300006, 0.05395890705500003, 0.15741556131000012, 0.32012243842400023]\n"
     ]
    },
    {
     "name": "stderr",
     "output_type": "stream",
     "text": [
      "Initial filtering of formulas: 100%|█████████████| 5/5 [00:00<00:00, 207.44it/s]\n",
      "Computing chunks: 100%|███████████████████████| 5/5 [00:00<00:00, 161319.38it/s]\n",
      "Splitting the experimental spectrum into chunks: 27129it [00:00, 2569315.45it/s]\n",
      "Deconvolving chunks: 100%|████████████████████████| 1/1 [00:15<00:00, 15.51s/it]\n"
     ]
    },
    {
     "name": "stdout",
     "output_type": "stream",
     "text": [
      "Estimation for 0.01 and 0.11 done\n",
      "It took: 15.578397035598755 seconds.\n",
      "[0.21909347559100015, 0.07694522687500005, 0.05245554768100003, 0.1572216541780001, 0.3191382598130002]\n"
     ]
    },
    {
     "name": "stderr",
     "output_type": "stream",
     "text": [
      "Initial filtering of formulas: 100%|█████████████| 5/5 [00:00<00:00, 230.99it/s]\n",
      "Computing chunks: 100%|████████████████████████| 5/5 [00:00<00:00, 79437.58it/s]\n",
      "Splitting the experimental spectrum into chunks: 27129it [00:00, 2393908.80it/s]\n",
      "Deconvolving chunks: 100%|████████████████████████| 1/1 [00:28<00:00, 28.96s/it]\n"
     ]
    },
    {
     "name": "stdout",
     "output_type": "stream",
     "text": [
      "Estimation for 0.01 and 0.12 done\n",
      "It took: 29.033071279525757 seconds.\n",
      "[0.21848942473200014, 0.07608476625700006, 0.05225558726800004, 0.15728467657000011, 0.31813245676000024]\n"
     ]
    },
    {
     "name": "stderr",
     "output_type": "stream",
     "text": [
      "Initial filtering of formulas: 100%|█████████████| 5/5 [00:00<00:00, 119.09it/s]\n",
      "Computing chunks: 100%|████████████████████████| 5/5 [00:00<00:00, 54189.97it/s]\n",
      "Splitting the experimental spectrum into chunks: 27129it [00:00, 1315611.90it/s]\n",
      "Deconvolving chunks: 100%|████████████████████████| 1/1 [00:22<00:00, 22.02s/it]\n"
     ]
    },
    {
     "name": "stdout",
     "output_type": "stream",
     "text": [
      "Estimation for 0.01 and 0.13 done\n",
      "It took: 22.164162158966064 seconds.\n",
      "[0.21693371647100013, 0.07520196177200006, 0.05076821838900004, 0.1568183588530001, 0.3174928250390002]\n"
     ]
    },
    {
     "name": "stderr",
     "output_type": "stream",
     "text": [
      "Initial filtering of formulas: 100%|█████████████| 5/5 [00:00<00:00, 216.40it/s]\n",
      "Computing chunks: 100%|████████████████████████| 5/5 [00:00<00:00, 97541.95it/s]\n",
      "Splitting the experimental spectrum into chunks: 27129it [00:00, 2387329.23it/s]\n",
      "Deconvolving chunks: 100%|████████████████████████| 1/1 [00:17<00:00, 17.65s/it]\n"
     ]
    },
    {
     "name": "stdout",
     "output_type": "stream",
     "text": [
      "Estimation for 0.01 and 0.14 done\n",
      "It took: 17.74055814743042 seconds.\n",
      "[0.21646295042500013, 0.07429209648000006, 0.04974443176800004, 0.15698173518200012, 0.3171056431930002]\n"
     ]
    },
    {
     "name": "stderr",
     "output_type": "stream",
     "text": [
      "Initial filtering of formulas: 100%|█████████████| 5/5 [00:00<00:00, 225.33it/s]\n",
      "Computing chunks: 100%|████████████████████████| 5/5 [00:00<00:00, 20460.02it/s]\n",
      "Splitting the experimental spectrum into chunks: 27129it [00:00, 1390872.43it/s]\n",
      "Deconvolving chunks: 100%|████████████████████████| 1/1 [00:18<00:00, 18.55s/it]\n"
     ]
    },
    {
     "name": "stdout",
     "output_type": "stream",
     "text": [
      "Estimation for 0.01 and 0.15000000000000002 done\n",
      "It took: 18.64948797225952 seconds.\n",
      "[0.21499563875200015, 0.07338211768500005, 0.049639361867000034, 0.15611103870900012, 0.31653941900100024]\n"
     ]
    },
    {
     "name": "stderr",
     "output_type": "stream",
     "text": [
      "Initial filtering of formulas: 100%|█████████████| 5/5 [00:00<00:00, 229.32it/s]\n",
      "Computing chunks: 100%|████████████████████████| 5/5 [00:00<00:00, 28416.69it/s]\n",
      "Splitting the experimental spectrum into chunks: 27129it [00:00, 1443854.34it/s]\n",
      "Deconvolving chunks: 100%|████████████████████████| 1/1 [00:21<00:00, 21.30s/it]\n"
     ]
    },
    {
     "name": "stdout",
     "output_type": "stream",
     "text": [
      "Estimation for 0.01 and 0.16 done\n",
      "It took: 21.411099910736084 seconds.\n",
      "[0.21336158286400014, 0.07246140495400004, 0.04827753113400003, 0.1560130360540001, 0.3163247543180002]\n"
     ]
    },
    {
     "name": "stderr",
     "output_type": "stream",
     "text": [
      "Initial filtering of formulas: 100%|█████████████| 5/5 [00:00<00:00, 150.61it/s]\n",
      "Computing chunks: 100%|████████████████████████| 5/5 [00:00<00:00, 50291.41it/s]\n",
      "Splitting the experimental spectrum into chunks: 27129it [00:00, 1724493.78it/s]\n",
      "Deconvolving chunks: 100%|████████████████████████| 1/1 [00:24<00:00, 24.09s/it]\n"
     ]
    },
    {
     "name": "stdout",
     "output_type": "stream",
     "text": [
      "Estimation for 0.01 and 0.17 done\n",
      "It took: 24.22807002067566 seconds.\n",
      "[0.21294562131600014, 0.07199803868900004, 0.047690986386000035, 0.1560293100530001, 0.3163536951050002]\n"
     ]
    },
    {
     "name": "stderr",
     "output_type": "stream",
     "text": [
      "Initial filtering of formulas: 100%|█████████████| 5/5 [00:00<00:00, 253.06it/s]\n",
      "Computing chunks: 100%|███████████████████████| 5/5 [00:00<00:00, 128659.63it/s]\n",
      "Splitting the experimental spectrum into chunks: 27129it [00:00, 2163379.53it/s]\n",
      "Deconvolving chunks: 100%|████████████████████████| 1/1 [00:17<00:00, 17.32s/it]\n"
     ]
    },
    {
     "name": "stdout",
     "output_type": "stream",
     "text": [
      "Estimation for 0.01 and 0.18000000000000002 done\n",
      "It took: 17.4019615650177 seconds.\n",
      "[0.21102833034100013, 0.07140078517900005, 0.04718551968000004, 0.1552857427260001, 0.3164278133920002]\n"
     ]
    },
    {
     "name": "stderr",
     "output_type": "stream",
     "text": [
      "Initial filtering of formulas: 100%|█████████████| 5/5 [00:00<00:00, 219.06it/s]\n",
      "Computing chunks: 100%|████████████████████████| 5/5 [00:00<00:00, 77101.18it/s]\n",
      "Splitting the experimental spectrum into chunks: 27129it [00:00, 2068934.75it/s]\n",
      "Deconvolving chunks: 100%|████████████████████████| 1/1 [00:23<00:00, 23.22s/it]\n"
     ]
    },
    {
     "name": "stdout",
     "output_type": "stream",
     "text": [
      "Estimation for 0.01 and 0.19 done\n",
      "It took: 23.30306053161621 seconds.\n",
      "[0.21043170909200015, 0.07067455981600004, 0.04680637703900003, 0.1548200692890001, 0.3164886490260002]\n"
     ]
    },
    {
     "name": "stderr",
     "output_type": "stream",
     "text": [
      "Initial filtering of formulas: 100%|█████████████| 5/5 [00:00<00:00, 124.53it/s]\n",
      "Computing chunks: 100%|████████████████████████| 5/5 [00:00<00:00, 40485.56it/s]\n",
      "Splitting the experimental spectrum into chunks: 27129it [00:00, 1578668.57it/s]\n",
      "Deconvolving chunks: 100%|████████████████████████| 1/1 [00:18<00:00, 18.48s/it]\n"
     ]
    },
    {
     "name": "stdout",
     "output_type": "stream",
     "text": [
      "Estimation for 0.01 and 0.2 done\n",
      "It took: 18.62539315223694 seconds.\n",
      "[0.20934202074300015, 0.06981458878500005, 0.04544934799800003, 0.1544439996650001, 0.3165533933930002]\n"
     ]
    },
    {
     "name": "stderr",
     "output_type": "stream",
     "text": [
      "Initial filtering of formulas: 100%|█████████████| 5/5 [00:00<00:00, 206.58it/s]\n",
      "Computing chunks: 100%|████████████████████████| 5/5 [00:00<00:00, 66156.21it/s]\n",
      "Splitting the experimental spectrum into chunks: 27129it [00:00, 1353096.22it/s]\n",
      "Deconvolving chunks: 100%|████████████████████████| 1/1 [00:22<00:00, 22.62s/it]\n"
     ]
    },
    {
     "name": "stdout",
     "output_type": "stream",
     "text": [
      "Estimation for 0.01 and 0.21000000000000002 done\n",
      "It took: 22.716434955596924 seconds.\n",
      "[0.20761803199300014, 0.06979579402100004, 0.04519460381100003, 0.1544607153650001, 0.31662176220600025]\n"
     ]
    },
    {
     "name": "stderr",
     "output_type": "stream",
     "text": [
      "Initial filtering of formulas: 100%|█████████████| 5/5 [00:00<00:00, 137.37it/s]\n",
      "Computing chunks: 100%|████████████████████████| 5/5 [00:00<00:00, 35128.17it/s]\n",
      "Splitting the experimental spectrum into chunks: 27129it [00:00, 1591007.61it/s]\n",
      "Deconvolving chunks: 100%|████████████████████████| 1/1 [00:16<00:00, 16.38s/it]\n"
     ]
    },
    {
     "name": "stdout",
     "output_type": "stream",
     "text": [
      "Estimation for 0.01 and 0.22 done\n",
      "It took: 16.52323269844055 seconds.\n",
      "[0.20655151927900015, 0.06898846131600005, 0.04461126224400003, 0.1534735915170001, 0.3166878086960002]\n"
     ]
    },
    {
     "name": "stderr",
     "output_type": "stream",
     "text": [
      "Initial filtering of formulas: 100%|█████████████| 5/5 [00:00<00:00, 275.65it/s]\n",
      "Computing chunks: 100%|███████████████████████| 5/5 [00:00<00:00, 166440.63it/s]\n",
      "Splitting the experimental spectrum into chunks: 27129it [00:00, 2122738.48it/s]\n",
      "Deconvolving chunks: 100%|████████████████████████| 1/1 [00:14<00:00, 14.39s/it]\n"
     ]
    },
    {
     "name": "stdout",
     "output_type": "stream",
     "text": [
      "Estimation for 0.01 and 0.23 done\n",
      "It took: 14.45132064819336 seconds.\n",
      "[0.20454169228700014, 0.06853776027500004, 0.04419392442200003, 0.1534942835450001, 0.3167885878890002]\n"
     ]
    },
    {
     "name": "stderr",
     "output_type": "stream",
     "text": [
      "Initial filtering of formulas: 100%|█████████████| 5/5 [00:00<00:00, 261.43it/s]\n",
      "Computing chunks: 100%|████████████████████████| 5/5 [00:00<00:00, 87746.95it/s]\n",
      "Splitting the experimental spectrum into chunks: 27129it [00:00, 2982628.39it/s]\n",
      "Deconvolving chunks: 100%|████████████████████████| 1/1 [00:16<00:00, 16.61s/it]\n"
     ]
    },
    {
     "name": "stdout",
     "output_type": "stream",
     "text": [
      "Estimation for 0.01 and 0.24000000000000002 done\n",
      "It took: 16.677449703216553 seconds.\n",
      "[0.20414967843700013, 0.06819760286300004, 0.044131729312000025, 0.1535100481210001, 0.31683518454300025]\n"
     ]
    },
    {
     "name": "stderr",
     "output_type": "stream",
     "text": [
      "Initial filtering of formulas: 100%|█████████████| 5/5 [00:00<00:00, 175.93it/s]\n",
      "Computing chunks: 100%|███████████████████████| 5/5 [00:00<00:00, 119156.36it/s]\n",
      "Splitting the experimental spectrum into chunks: 27129it [00:00, 2107952.45it/s]\n",
      "Deconvolving chunks: 100%|████████████████████████| 1/1 [00:18<00:00, 18.08s/it]\n"
     ]
    },
    {
     "name": "stdout",
     "output_type": "stream",
     "text": [
      "Estimation for 0.01 and 0.25 done\n",
      "It took: 18.165366172790527 seconds.\n",
      "[0.20213686618300014, 0.06764327834400004, 0.04318096045800003, 0.15258913897400012, 0.3169382573770002]\n"
     ]
    },
    {
     "name": "stderr",
     "output_type": "stream",
     "text": [
      "Initial filtering of formulas: 100%|█████████████| 5/5 [00:00<00:00, 231.67it/s]\n",
      "Computing chunks: 100%|████████████████████████| 5/5 [00:00<00:00, 92385.55it/s]\n",
      "Splitting the experimental spectrum into chunks: 27129it [00:00, 2097964.00it/s]\n",
      "Deconvolving chunks: 100%|████████████████████████| 1/1 [00:15<00:00, 15.25s/it]\n"
     ]
    },
    {
     "name": "stdout",
     "output_type": "stream",
     "text": [
      "Estimation for 0.01 and 0.26 done\n",
      "It took: 15.332913637161255 seconds.\n",
      "[0.20079913453500015, 0.06744826046400004, 0.04274605900700003, 0.1524154826450001, 0.31701893133800024]\n"
     ]
    },
    {
     "name": "stderr",
     "output_type": "stream",
     "text": [
      "Initial filtering of formulas: 100%|█████████████| 5/5 [00:00<00:00, 272.42it/s]\n",
      "Computing chunks: 100%|███████████████████████| 5/5 [00:00<00:00, 106454.42it/s]\n",
      "Splitting the experimental spectrum into chunks: 27129it [00:00, 2713873.14it/s]\n",
      "Deconvolving chunks: 100%|████████████████████████| 1/1 [00:14<00:00, 14.44s/it]\n"
     ]
    },
    {
     "name": "stdout",
     "output_type": "stream",
     "text": [
      "Estimation for 0.01 and 0.27 done\n",
      "It took: 14.505263805389404 seconds.\n",
      "[0.19969738236400014, 0.06744352845900004, 0.04236272131800003, 0.15155682862700012, 0.31707001875500024]\n"
     ]
    },
    {
     "name": "stderr",
     "output_type": "stream",
     "text": [
      "Initial filtering of formulas: 100%|█████████████| 5/5 [00:00<00:00, 259.20it/s]\n",
      "Computing chunks: 100%|████████████████████████| 5/5 [00:00<00:00, 81920.00it/s]\n",
      "Splitting the experimental spectrum into chunks: 27129it [00:00, 2905998.40it/s]\n",
      "Deconvolving chunks: 100%|████████████████████████| 1/1 [00:15<00:00, 15.40s/it]\n"
     ]
    },
    {
     "name": "stdout",
     "output_type": "stream",
     "text": [
      "Estimation for 0.01 and 0.28 done\n",
      "It took: 15.464882373809814 seconds.\n",
      "[0.19744089797900014, 0.06735445124000004, 0.04234652488000003, 0.15158268490900012, 0.3171424345460002]\n"
     ]
    },
    {
     "name": "stderr",
     "output_type": "stream",
     "text": [
      "Initial filtering of formulas: 100%|█████████████| 5/5 [00:00<00:00, 160.21it/s]\n",
      "Computing chunks: 100%|███████████████████████| 5/5 [00:00<00:00, 113359.57it/s]\n",
      "Splitting the experimental spectrum into chunks: 27129it [00:00, 1782214.60it/s]\n",
      "Deconvolving chunks: 100%|████████████████████████| 1/1 [00:20<00:00, 20.54s/it]\n"
     ]
    },
    {
     "name": "stdout",
     "output_type": "stream",
     "text": [
      "Estimation for 0.01 and 0.29000000000000004 done\n",
      "It took: 20.64214777946472 seconds.\n",
      "[0.19688691321700014, 0.06733902894900004, 0.04156187397300003, 0.1511430472060001, 0.31722789084800024]\n"
     ]
    },
    {
     "name": "stderr",
     "output_type": "stream",
     "text": [
      "Initial filtering of formulas: 100%|█████████████| 5/5 [00:00<00:00, 151.76it/s]\n",
      "Computing chunks: 100%|████████████████████████| 5/5 [00:00<00:00, 72565.81it/s]\n",
      "Splitting the experimental spectrum into chunks: 27129it [00:00, 1810630.66it/s]\n",
      "Deconvolving chunks: 100%|████████████████████████| 1/1 [00:15<00:00, 15.16s/it]\n"
     ]
    },
    {
     "name": "stdout",
     "output_type": "stream",
     "text": [
      "Estimation for 0.01 and 0.3 done\n",
      "It took: 15.249368667602539 seconds.\n",
      "[0.19511371249100015, 0.06729128759400003, 0.04096703933700003, 0.1511571100820001, 0.3173052983280002]\n"
     ]
    },
    {
     "name": "stderr",
     "output_type": "stream",
     "text": [
      "Initial filtering of formulas: 100%|█████████████| 5/5 [00:00<00:00, 271.30it/s]\n",
      "Computing chunks: 100%|███████████████████████| 5/5 [00:00<00:00, 117817.53it/s]\n",
      "Splitting the experimental spectrum into chunks: 27129it [00:00, 2880325.86it/s]\n",
      "Deconvolving chunks: 100%|████████████████████████| 1/1 [00:14<00:00, 14.55s/it]\n"
     ]
    },
    {
     "name": "stdout",
     "output_type": "stream",
     "text": [
      "Estimation for 0.02 and 0.01 done\n",
      "It took: 14.614359140396118 seconds.\n",
      "[0.21844639678300015, 0.17572648702300012, 0.11264763478400007, 0.1715505663610001, 0.3152135959200002]\n"
     ]
    },
    {
     "name": "stderr",
     "output_type": "stream",
     "text": [
      "Initial filtering of formulas: 100%|█████████████| 5/5 [00:00<00:00, 269.67it/s]\n",
      "Computing chunks: 100%|███████████████████████| 5/5 [00:00<00:00, 192399.27it/s]\n",
      "Splitting the experimental spectrum into chunks: 27129it [00:00, 2847315.60it/s]\n",
      "Deconvolving chunks: 100%|████████████████████████| 1/1 [00:14<00:00, 14.30s/it]\n"
     ]
    },
    {
     "name": "stdout",
     "output_type": "stream",
     "text": [
      "Estimation for 0.02 and 0.02 done\n",
      "It took: 14.356125354766846 seconds.\n",
      "[0.22759885645400013, 0.14542711999500008, 0.11749948673400008, 0.17007819617200012, 0.32684098834000025]\n"
     ]
    },
    {
     "name": "stderr",
     "output_type": "stream",
     "text": [
      "Initial filtering of formulas: 100%|█████████████| 5/5 [00:00<00:00, 264.55it/s]\n",
      "Computing chunks: 100%|███████████████████████| 5/5 [00:00<00:00, 180788.97it/s]\n",
      "Splitting the experimental spectrum into chunks: 27129it [00:00, 2741003.38it/s]\n",
      "Deconvolving chunks: 100%|████████████████████████| 1/1 [00:20<00:00, 20.00s/it]\n"
     ]
    },
    {
     "name": "stdout",
     "output_type": "stream",
     "text": [
      "Estimation for 0.02 and 0.03 done\n",
      "It took: 20.068106412887573 seconds.\n",
      "[0.22927611031500017, 0.1380090549290001, 0.11804945301500008, 0.1635771650050001, 0.32827535223400023]\n"
     ]
    },
    {
     "name": "stderr",
     "output_type": "stream",
     "text": [
      "Initial filtering of formulas: 100%|█████████████| 5/5 [00:00<00:00, 191.68it/s]\n",
      "Computing chunks: 100%|████████████████████████| 5/5 [00:00<00:00, 97541.95it/s]\n",
      "Splitting the experimental spectrum into chunks: 27129it [00:00, 2000796.07it/s]\n",
      "Deconvolving chunks: 100%|████████████████████████| 1/1 [00:15<00:00, 15.78s/it]\n"
     ]
    },
    {
     "name": "stdout",
     "output_type": "stream",
     "text": [
      "Estimation for 0.02 and 0.04 done\n",
      "It took: 15.870096921920776 seconds.\n",
      "[0.22961079371500018, 0.1371367062770001, 0.11787248028400009, 0.1642288248360001, 0.32683207347600024]\n"
     ]
    },
    {
     "name": "stderr",
     "output_type": "stream",
     "text": [
      "Initial filtering of formulas: 100%|█████████████| 5/5 [00:00<00:00, 258.79it/s]\n",
      "Computing chunks: 100%|███████████████████████| 5/5 [00:00<00:00, 188932.61it/s]\n",
      "Splitting the experimental spectrum into chunks: 27129it [00:00, 2796786.86it/s]\n",
      "Deconvolving chunks: 100%|████████████████████████| 1/1 [00:14<00:00, 14.56s/it]\n"
     ]
    },
    {
     "name": "stdout",
     "output_type": "stream",
     "text": [
      "Estimation for 0.02 and 0.05 done\n",
      "It took: 14.621481657028198 seconds.\n",
      "[0.22975145691900017, 0.1363350464070001, 0.11785248175800009, 0.16455060042200012, 0.32607490410500023]\n"
     ]
    },
    {
     "name": "stderr",
     "output_type": "stream",
     "text": [
      "Initial filtering of formulas: 100%|█████████████| 5/5 [00:00<00:00, 251.06it/s]\n",
      "Computing chunks: 100%|████████████████████████| 5/5 [00:00<00:00, 88487.43it/s]\n",
      "Splitting the experimental spectrum into chunks: 27129it [00:00, 2566475.85it/s]\n",
      "Deconvolving chunks: 100%|████████████████████████| 1/1 [00:17<00:00, 17.74s/it]\n"
     ]
    },
    {
     "name": "stdout",
     "output_type": "stream",
     "text": [
      "Estimation for 0.02 and 0.060000000000000005 done\n",
      "It took: 17.81477403640747 seconds.\n",
      "[0.22983815065600016, 0.13574135375500007, 0.11789266530600008, 0.16485606626300012, 0.32537922829400023]\n"
     ]
    },
    {
     "name": "stderr",
     "output_type": "stream",
     "text": [
      "Initial filtering of formulas: 100%|█████████████| 5/5 [00:00<00:00, 128.33it/s]\n",
      "Computing chunks: 100%|████████████████████████| 5/5 [00:00<00:00, 47662.55it/s]\n",
      "Splitting the experimental spectrum into chunks: 27129it [00:00, 1439252.13it/s]\n",
      "Deconvolving chunks: 100%|████████████████████████| 1/1 [00:29<00:00, 29.65s/it]\n"
     ]
    },
    {
     "name": "stdout",
     "output_type": "stream",
     "text": [
      "Estimation for 0.02 and 0.06999999999999999 done\n",
      "It took: 29.7819881439209 seconds.\n",
      "[0.22979504806400017, 0.1351403383760001, 0.11802069108000009, 0.1653427208920001, 0.3246773517660002]\n"
     ]
    },
    {
     "name": "stderr",
     "output_type": "stream",
     "text": [
      "Initial filtering of formulas: 100%|█████████████| 5/5 [00:00<00:00, 141.08it/s]\n",
      "Computing chunks: 100%|████████████████████████| 5/5 [00:00<00:00, 45294.86it/s]\n",
      "Splitting the experimental spectrum into chunks: 27129it [00:00, 1442938.87it/s]\n",
      "Deconvolving chunks: 100%|████████████████████████| 1/1 [00:27<00:00, 27.72s/it]\n"
     ]
    },
    {
     "name": "stdout",
     "output_type": "stream",
     "text": [
      "Estimation for 0.02 and 0.08 done\n",
      "It took: 27.85450053215027 seconds.\n",
      "[0.22962253106000016, 0.1345769894090001, 0.11815463162700009, 0.16582006567400012, 0.32395781726900025]\n"
     ]
    },
    {
     "name": "stderr",
     "output_type": "stream",
     "text": [
      "Initial filtering of formulas: 100%|█████████████| 5/5 [00:00<00:00, 226.50it/s]\n",
      "Computing chunks: 100%|████████████████████████| 5/5 [00:00<00:00, 59409.41it/s]\n",
      "Splitting the experimental spectrum into chunks: 27129it [00:00, 2176205.81it/s]\n",
      "Deconvolving chunks: 100%|████████████████████████| 1/1 [00:16<00:00, 16.76s/it]\n"
     ]
    },
    {
     "name": "stdout",
     "output_type": "stream",
     "text": [
      "Estimation for 0.02 and 0.09 done\n",
      "It took: 16.85245132446289 seconds.\n",
      "[0.22966141519500016, 0.13369013381500008, 0.11824580015400009, 0.16613698796500012, 0.3231796378400002]\n"
     ]
    },
    {
     "name": "stderr",
     "output_type": "stream",
     "text": [
      "Initial filtering of formulas: 100%|█████████████| 5/5 [00:00<00:00, 227.91it/s]\n",
      "Computing chunks: 100%|████████████████████████| 5/5 [00:00<00:00, 90006.52it/s]\n",
      "Splitting the experimental spectrum into chunks: 27129it [00:00, 2268893.41it/s]\n",
      "Deconvolving chunks: 100%|████████████████████████| 1/1 [00:16<00:00, 16.75s/it]\n"
     ]
    },
    {
     "name": "stdout",
     "output_type": "stream",
     "text": [
      "Estimation for 0.02 and 0.09999999999999999 done\n",
      "It took: 16.827897310256958 seconds.\n",
      "[0.22974983020000017, 0.1328073066880001, 0.11832684686900008, 0.1664275686310001, 0.32251746487400024]\n"
     ]
    },
    {
     "name": "stderr",
     "output_type": "stream",
     "text": [
      "Initial filtering of formulas: 100%|█████████████| 5/5 [00:00<00:00, 206.35it/s]\n",
      "Computing chunks: 100%|███████████████████████| 5/5 [00:00<00:00, 119837.26it/s]\n",
      "Splitting the experimental spectrum into chunks: 27129it [00:00, 2430832.58it/s]\n",
      "Deconvolving chunks: 100%|████████████████████████| 1/1 [00:16<00:00, 16.93s/it]\n"
     ]
    },
    {
     "name": "stdout",
     "output_type": "stream",
     "text": [
      "Estimation for 0.02 and 0.11 done\n",
      "It took: 17.02154850959778 seconds.\n",
      "[0.22981655630400016, 0.13188165724700007, 0.11840990902700008, 0.1665337427590001, 0.32183837047000025]\n"
     ]
    },
    {
     "name": "stderr",
     "output_type": "stream",
     "text": [
      "Initial filtering of formulas: 100%|█████████████| 5/5 [00:00<00:00, 188.74it/s]\n",
      "Computing chunks: 100%|███████████████████████| 5/5 [00:00<00:00, 105384.52it/s]\n",
      "Splitting the experimental spectrum into chunks: 27129it [00:00, 2363330.49it/s]\n",
      "Deconvolving chunks: 100%|████████████████████████| 1/1 [00:16<00:00, 16.67s/it]\n"
     ]
    },
    {
     "name": "stdout",
     "output_type": "stream",
     "text": [
      "Estimation for 0.02 and 0.12 done\n",
      "It took: 16.760855674743652 seconds.\n",
      "[0.22987603446400018, 0.1309831060580001, 0.11852161871400008, 0.1668476775990001, 0.32085551294600023]\n"
     ]
    },
    {
     "name": "stderr",
     "output_type": "stream",
     "text": [
      "Initial filtering of formulas: 100%|█████████████| 5/5 [00:00<00:00, 227.85it/s]\n",
      "Computing chunks: 100%|███████████████████████| 5/5 [00:00<00:00, 155344.59it/s]\n",
      "Splitting the experimental spectrum into chunks: 27129it [00:00, 2392147.35it/s]\n",
      "Deconvolving chunks: 100%|████████████████████████| 1/1 [00:33<00:00, 33.17s/it]\n"
     ]
    },
    {
     "name": "stdout",
     "output_type": "stream",
     "text": [
      "Estimation for 0.02 and 0.13 done\n",
      "It took: 33.254770040512085 seconds.\n",
      "[0.22985558322000016, 0.13001317466700008, 0.11863060998700008, 0.1672722945480001, 0.31996890109300025]\n"
     ]
    },
    {
     "name": "stderr",
     "output_type": "stream",
     "text": [
      "Initial filtering of formulas: 100%|█████████████| 5/5 [00:00<00:00, 141.08it/s]\n",
      "Computing chunks: 100%|████████████████████████| 5/5 [00:00<00:00, 26749.39it/s]\n",
      "Splitting the experimental spectrum into chunks: 27129it [00:00, 1509355.25it/s]\n",
      "Deconvolving chunks: 100%|████████████████████████| 1/1 [00:20<00:00, 20.99s/it]\n"
     ]
    },
    {
     "name": "stdout",
     "output_type": "stream",
     "text": [
      "Estimation for 0.02 and 0.14 done\n",
      "It took: 21.12731957435608 seconds.\n",
      "[0.22973282602000017, 0.1290944009190001, 0.11873705736400009, 0.16760308677700012, 0.3190721095780002]\n"
     ]
    },
    {
     "name": "stderr",
     "output_type": "stream",
     "text": [
      "Initial filtering of formulas: 100%|█████████████| 5/5 [00:00<00:00, 226.45it/s]\n",
      "Computing chunks: 100%|████████████████████████| 5/5 [00:00<00:00, 95325.09it/s]\n",
      "Splitting the experimental spectrum into chunks: 27129it [00:00, 2347823.65it/s]\n",
      "Deconvolving chunks: 100%|████████████████████████| 1/1 [00:17<00:00, 17.97s/it]\n"
     ]
    },
    {
     "name": "stdout",
     "output_type": "stream",
     "text": [
      "Estimation for 0.02 and 0.15000000000000002 done\n",
      "It took: 18.04876136779785 seconds.\n",
      "[0.22967377530500016, 0.12828276708900008, 0.11882579935700008, 0.16783568547700012, 0.31824432851000023]\n"
     ]
    },
    {
     "name": "stderr",
     "output_type": "stream",
     "text": [
      "Initial filtering of formulas: 100%|█████████████| 5/5 [00:00<00:00, 222.17it/s]\n",
      "Computing chunks: 100%|████████████████████████| 5/5 [00:00<00:00, 40960.00it/s]\n",
      "Splitting the experimental spectrum into chunks: 27129it [00:00, 2276246.24it/s]\n",
      "Deconvolving chunks: 100%|████████████████████████| 1/1 [00:17<00:00, 17.93s/it]\n"
     ]
    },
    {
     "name": "stdout",
     "output_type": "stream",
     "text": [
      "Estimation for 0.02 and 0.16 done\n",
      "It took: 18.033310413360596 seconds.\n",
      "[0.22956495841600016, 0.12738013368200007, 0.11888578112200009, 0.16801086856200012, 0.3176698477290002]\n"
     ]
    },
    {
     "name": "stderr",
     "output_type": "stream",
     "text": [
      "Initial filtering of formulas: 100%|█████████████| 5/5 [00:00<00:00, 203.56it/s]\n",
      "Computing chunks: 100%|████████████████████████| 5/5 [00:00<00:00, 74367.09it/s]\n",
      "Splitting the experimental spectrum into chunks: 27129it [00:00, 1895285.79it/s]\n",
      "Deconvolving chunks: 100%|████████████████████████| 1/1 [00:20<00:00, 20.51s/it]\n"
     ]
    },
    {
     "name": "stdout",
     "output_type": "stream",
     "text": [
      "Estimation for 0.02 and 0.17 done\n",
      "It took: 20.6021888256073 seconds.\n",
      "[0.22925458957300016, 0.1269539703910001, 0.11894031735800008, 0.16816139825000012, 0.3171647309340002]\n"
     ]
    },
    {
     "name": "stderr",
     "output_type": "stream",
     "text": [
      "Initial filtering of formulas: 100%|█████████████| 5/5 [00:00<00:00, 188.50it/s]\n",
      "Computing chunks: 100%|████████████████████████| 5/5 [00:00<00:00, 26579.87it/s]\n",
      "Splitting the experimental spectrum into chunks: 27129it [00:00, 1591808.87it/s]\n",
      "Deconvolving chunks: 100%|████████████████████████| 1/1 [00:20<00:00, 20.28s/it]\n"
     ]
    },
    {
     "name": "stdout",
     "output_type": "stream",
     "text": [
      "Estimation for 0.02 and 0.18000000000000002 done\n",
      "It took: 20.383304357528687 seconds.\n",
      "[0.22910277576300014, 0.12648131528300008, 0.11895203607300009, 0.16829633751000012, 0.3172080760840002]\n"
     ]
    },
    {
     "name": "stderr",
     "output_type": "stream",
     "text": [
      "Initial filtering of formulas: 100%|█████████████| 5/5 [00:00<00:00, 242.68it/s]\n",
      "Computing chunks: 100%|███████████████████████| 5/5 [00:00<00:00, 180788.97it/s]\n",
      "Splitting the experimental spectrum into chunks: 27129it [00:00, 2720881.71it/s]\n",
      "Deconvolving chunks: 100%|████████████████████████| 1/1 [00:14<00:00, 14.41s/it]\n"
     ]
    },
    {
     "name": "stdout",
     "output_type": "stream",
     "text": [
      "Estimation for 0.02 and 0.19 done\n",
      "It took: 14.47954773902893 seconds.\n",
      "[0.22885589666000014, 0.1255259544500001, 0.11896471398000008, 0.16843510082900012, 0.3172694922690002]\n"
     ]
    },
    {
     "name": "stderr",
     "output_type": "stream",
     "text": [
      "Initial filtering of formulas: 100%|█████████████| 5/5 [00:00<00:00, 273.53it/s]\n",
      "Computing chunks: 100%|███████████████████████| 5/5 [00:00<00:00, 119156.36it/s]\n",
      "Splitting the experimental spectrum into chunks: 27129it [00:00, 2871458.18it/s]\n",
      "Deconvolving chunks: 100%|████████████████████████| 1/1 [00:17<00:00, 17.74s/it]\n"
     ]
    },
    {
     "name": "stdout",
     "output_type": "stream",
     "text": [
      "Estimation for 0.02 and 0.2 done\n",
      "It took: 17.799967288970947 seconds.\n",
      "[0.22860513702600013, 0.12463166431700008, 0.11898659587500009, 0.16822223324800012, 0.3173387892120002]\n"
     ]
    },
    {
     "name": "stderr",
     "output_type": "stream",
     "text": [
      "Initial filtering of formulas: 100%|█████████████| 5/5 [00:00<00:00, 264.72it/s]\n",
      "Computing chunks: 100%|███████████████████████| 5/5 [00:00<00:00, 101311.69it/s]\n",
      "Splitting the experimental spectrum into chunks: 27129it [00:00, 2777670.53it/s]\n",
      "Deconvolving chunks: 100%|████████████████████████| 1/1 [00:17<00:00, 17.58s/it]\n"
     ]
    },
    {
     "name": "stdout",
     "output_type": "stream",
     "text": [
      "Estimation for 0.02 and 0.21000000000000002 done\n",
      "It took: 17.649017095565796 seconds.\n",
      "[0.22828707731500014, 0.12459716492400008, 0.11899776193600008, 0.1681431417690001, 0.3173711822650002]\n"
     ]
    },
    {
     "name": "stderr",
     "output_type": "stream",
     "text": [
      "Initial filtering of formulas: 100%|█████████████| 5/5 [00:00<00:00, 220.15it/s]\n",
      "Computing chunks: 100%|███████████████████████| 5/5 [00:00<00:00, 108100.62it/s]\n",
      "Splitting the experimental spectrum into chunks: 27129it [00:00, 2217081.49it/s]\n",
      "Deconvolving chunks: 100%|████████████████████████| 1/1 [00:16<00:00, 16.48s/it]\n"
     ]
    },
    {
     "name": "stdout",
     "output_type": "stream",
     "text": [
      "Estimation for 0.02 and 0.22 done\n",
      "It took: 16.562737226486206 seconds.\n",
      "[0.22800199739300014, 0.12365789601800008, 0.11901582405600009, 0.16806834608800011, 0.3174357443020002]\n"
     ]
    },
    {
     "name": "stderr",
     "output_type": "stream",
     "text": [
      "Initial filtering of formulas: 100%|█████████████| 5/5 [00:00<00:00, 269.92it/s]\n",
      "Computing chunks: 100%|███████████████████████| 5/5 [00:00<00:00, 165130.08it/s]\n",
      "Splitting the experimental spectrum into chunks: 27129it [00:00, 2509478.27it/s]\n",
      "Deconvolving chunks: 100%|████████████████████████| 1/1 [00:14<00:00, 14.55s/it]\n"
     ]
    },
    {
     "name": "stdout",
     "output_type": "stream",
     "text": [
      "Estimation for 0.02 and 0.23 done\n",
      "It took: 14.613630294799805 seconds.\n",
      "[0.22763876513700013, 0.12286598063500008, 0.11903198917400008, 0.1680085050920001, 0.31749514928200023]\n"
     ]
    },
    {
     "name": "stderr",
     "output_type": "stream",
     "text": [
      "Initial filtering of formulas: 100%|█████████████| 5/5 [00:00<00:00, 222.65it/s]\n",
      "Computing chunks: 100%|███████████████████████| 5/5 [00:00<00:00, 173318.35it/s]\n",
      "Splitting the experimental spectrum into chunks: 27129it [00:00, 2873270.88it/s]\n",
      "Deconvolving chunks: 100%|████████████████████████| 1/1 [00:17<00:00, 17.37s/it]\n"
     ]
    },
    {
     "name": "stdout",
     "output_type": "stream",
     "text": [
      "Estimation for 0.02 and 0.24000000000000002 done\n",
      "It took: 17.440186500549316 seconds.\n",
      "[0.22727063448900015, 0.12274544744900008, 0.11904733591600009, 0.16796633568700012, 0.3175482548950002]\n"
     ]
    },
    {
     "name": "stderr",
     "output_type": "stream",
     "text": [
      "Initial filtering of formulas: 100%|█████████████| 5/5 [00:00<00:00, 226.68it/s]\n",
      "Computing chunks: 100%|████████████████████████| 5/5 [00:00<00:00, 62788.98it/s]\n",
      "Splitting the experimental spectrum into chunks: 27129it [00:00, 1984396.39it/s]\n",
      "Deconvolving chunks: 100%|████████████████████████| 1/1 [00:18<00:00, 18.52s/it]\n"
     ]
    },
    {
     "name": "stdout",
     "output_type": "stream",
     "text": [
      "Estimation for 0.02 and 0.25 done\n",
      "It took: 18.59605073928833 seconds.\n",
      "[0.22686890261600015, 0.12182066779800009, 0.11906371556200009, 0.16798896926400012, 0.31760356288000025]\n"
     ]
    },
    {
     "name": "stderr",
     "output_type": "stream",
     "text": [
      "Initial filtering of formulas: 100%|█████████████| 5/5 [00:00<00:00, 234.70it/s]\n",
      "Computing chunks: 100%|████████████████████████| 5/5 [00:00<00:00, 57143.11it/s]\n",
      "Splitting the experimental spectrum into chunks: 27129it [00:00, 1837412.37it/s]\n",
      "Deconvolving chunks: 100%|████████████████████████| 1/1 [00:16<00:00, 16.24s/it]\n"
     ]
    },
    {
     "name": "stdout",
     "output_type": "stream",
     "text": [
      "Estimation for 0.02 and 0.26 done\n",
      "It took: 16.323305130004883 seconds.\n",
      "[0.22649888534900015, 0.12152160179900008, 0.11908207186900008, 0.1680109797570001, 0.3176581881860002]\n"
     ]
    },
    {
     "name": "stderr",
     "output_type": "stream",
     "text": [
      "Initial filtering of formulas: 100%|█████████████| 5/5 [00:00<00:00, 216.87it/s]\n",
      "Computing chunks: 100%|███████████████████████| 5/5 [00:00<00:00, 197844.53it/s]\n",
      "Splitting the experimental spectrum into chunks: 27129it [00:00, 2394009.54it/s]\n",
      "Deconvolving chunks: 100%|████████████████████████| 1/1 [00:14<00:00, 14.40s/it]\n"
     ]
    },
    {
     "name": "stdout",
     "output_type": "stream",
     "text": [
      "Estimation for 0.02 and 0.27 done\n",
      "It took: 14.469088554382324 seconds.\n",
      "[0.22641293111600014, 0.12080612342800008, 0.11909814668200008, 0.16802611975500012, 0.3176955329690002]\n"
     ]
    },
    {
     "name": "stderr",
     "output_type": "stream",
     "text": [
      "Initial filtering of formulas: 100%|█████████████| 5/5 [00:00<00:00, 272.35it/s]\n",
      "Computing chunks: 100%|███████████████████████| 5/5 [00:00<00:00, 180788.97it/s]\n",
      "Splitting the experimental spectrum into chunks: 27129it [00:00, 2813243.83it/s]\n",
      "Deconvolving chunks: 100%|████████████████████████| 1/1 [00:14<00:00, 14.37s/it]\n"
     ]
    },
    {
     "name": "stdout",
     "output_type": "stream",
     "text": [
      "Estimation for 0.02 and 0.28 done\n",
      "It took: 14.430171728134155 seconds.\n",
      "[0.22600886368500014, 0.11999716245100009, 0.11910908682000008, 0.1680392114300001, 0.3177517784920002]\n"
     ]
    },
    {
     "name": "stderr",
     "output_type": "stream",
     "text": [
      "Initial filtering of formulas: 100%|█████████████| 5/5 [00:00<00:00, 263.98it/s]\n",
      "Computing chunks: 100%|███████████████████████| 5/5 [00:00<00:00, 136178.70it/s]\n",
      "Splitting the experimental spectrum into chunks: 27129it [00:00, 2721076.91it/s]\n",
      "Deconvolving chunks: 100%|████████████████████████| 1/1 [00:18<00:00, 18.36s/it]\n"
     ]
    },
    {
     "name": "stdout",
     "output_type": "stream",
     "text": [
      "Estimation for 0.02 and 0.29000000000000004 done\n",
      "It took: 18.42706608772278 seconds.\n",
      "[0.22565712327900014, 0.11936838579300009, 0.11912130750300008, 0.1680466396500001, 0.3177982435270002]\n"
     ]
    },
    {
     "name": "stderr",
     "output_type": "stream",
     "text": [
      "Initial filtering of formulas: 100%|█████████████| 5/5 [00:00<00:00, 243.79it/s]\n",
      "Computing chunks: 100%|████████████████████████| 5/5 [00:00<00:00, 94466.31it/s]\n",
      "Splitting the experimental spectrum into chunks: 27129it [00:00, 2579391.42it/s]\n",
      "Deconvolving chunks: 100%|████████████████████████| 1/1 [00:23<00:00, 23.66s/it]\n"
     ]
    },
    {
     "name": "stdout",
     "output_type": "stream",
     "text": [
      "Estimation for 0.02 and 0.3 done\n",
      "It took: 23.735896587371826 seconds.\n",
      "[0.22565838404000013, 0.11909881968000008, 0.11913403817300008, 0.1680645199610001, 0.31783709746200023]\n"
     ]
    },
    {
     "name": "stderr",
     "output_type": "stream",
     "text": [
      "Initial filtering of formulas: 100%|█████████████| 5/5 [00:00<00:00, 157.03it/s]\n",
      "Computing chunks: 100%|████████████████████████| 5/5 [00:00<00:00, 68985.26it/s]\n",
      "Splitting the experimental spectrum into chunks: 27129it [00:00, 1678030.87it/s]\n",
      "Deconvolving chunks: 100%|████████████████████████| 1/1 [00:23<00:00, 23.93s/it]\n"
     ]
    },
    {
     "name": "stdout",
     "output_type": "stream",
     "text": [
      "Estimation for 0.03 and 0.01 done\n",
      "It took: 24.036097526550293 seconds.\n",
      "[0.21755198948700014, 0.1842529100780001, 0.11203859383900007, 0.1721541700920001, 0.3139630784670002]\n"
     ]
    },
    {
     "name": "stderr",
     "output_type": "stream",
     "text": [
      "Initial filtering of formulas: 100%|█████████████| 5/5 [00:00<00:00, 229.03it/s]\n",
      "Computing chunks: 100%|████████████████████████| 5/5 [00:00<00:00, 46811.43it/s]\n",
      "Splitting the experimental spectrum into chunks: 27129it [00:00, 2363870.56it/s]\n",
      "Deconvolving chunks: 100%|████████████████████████| 1/1 [00:16<00:00, 16.77s/it]\n"
     ]
    },
    {
     "name": "stdout",
     "output_type": "stream",
     "text": [
      "Estimation for 0.03 and 0.02 done\n",
      "It took: 16.849955320358276 seconds.\n",
      "[0.22743831352000013, 0.15044021348200012, 0.11725617862000008, 0.17730898056700012, 0.3271528692850002]\n"
     ]
    },
    {
     "name": "stderr",
     "output_type": "stream",
     "text": [
      "Initial filtering of formulas: 100%|█████████████| 5/5 [00:00<00:00, 202.89it/s]\n",
      "Computing chunks: 100%|████████████████████████| 5/5 [00:00<00:00, 90394.48it/s]\n",
      "Splitting the experimental spectrum into chunks: 27129it [00:00, 2027245.69it/s]\n",
      "Deconvolving chunks: 100%|████████████████████████| 1/1 [00:17<00:00, 17.12s/it]\n"
     ]
    },
    {
     "name": "stdout",
     "output_type": "stream",
     "text": [
      "Estimation for 0.03 and 0.03 done\n",
      "It took: 17.21759796142578 seconds.\n",
      "[0.22775051834400015, 0.15051339591900012, 0.11755388516500008, 0.17706630571900012, 0.3266124882130002]\n"
     ]
    },
    {
     "name": "stderr",
     "output_type": "stream",
     "text": [
      "Initial filtering of formulas: 100%|█████████████| 5/5 [00:00<00:00, 140.14it/s]\n",
      "Computing chunks: 100%|████████████████████████| 5/5 [00:00<00:00, 37117.73it/s]\n",
      "Splitting the experimental spectrum into chunks: 27129it [00:00, 1536191.94it/s]\n",
      "Deconvolving chunks: 100%|████████████████████████| 1/1 [00:15<00:00, 15.27s/it]\n"
     ]
    },
    {
     "name": "stdout",
     "output_type": "stream",
     "text": [
      "Estimation for 0.03 and 0.04 done\n",
      "It took: 15.369187355041504 seconds.\n",
      "[0.22934992083000016, 0.1514968186180001, 0.11823521023400008, 0.16384260088300012, 0.32764706504300023]\n"
     ]
    },
    {
     "name": "stderr",
     "output_type": "stream",
     "text": [
      "Initial filtering of formulas: 100%|█████████████| 5/5 [00:00<00:00, 267.81it/s]\n",
      "Computing chunks: 100%|███████████████████████| 5/5 [00:00<00:00, 183960.70it/s]\n",
      "Splitting the experimental spectrum into chunks: 27129it [00:00, 2863437.35it/s]\n",
      "Deconvolving chunks: 100%|████████████████████████| 1/1 [00:19<00:00, 19.67s/it]\n"
     ]
    },
    {
     "name": "stdout",
     "output_type": "stream",
     "text": [
      "Estimation for 0.03 and 0.05 done\n",
      "It took: 19.730426788330078 seconds.\n",
      "[0.22963989609500016, 0.14901706468100012, 0.11798332841400008, 0.1641321296430001, 0.32739998380000024]\n"
     ]
    },
    {
     "name": "stderr",
     "output_type": "stream",
     "text": [
      "Initial filtering of formulas: 100%|█████████████| 5/5 [00:00<00:00, 213.31it/s]\n",
      "Computing chunks: 100%|████████████████████████| 5/5 [00:00<00:00, 71820.27it/s]\n",
      "Splitting the experimental spectrum into chunks: 27129it [00:00, 2066605.03it/s]\n",
      "Deconvolving chunks: 100%|████████████████████████| 1/1 [00:15<00:00, 15.66s/it]\n"
     ]
    },
    {
     "name": "stdout",
     "output_type": "stream",
     "text": [
      "Estimation for 0.03 and 0.060000000000000005 done\n",
      "It took: 15.735809087753296 seconds.\n",
      "[0.22968835283800015, 0.14776759164100012, 0.11791123703300008, 0.1645396134370001, 0.3267769737070002]\n"
     ]
    },
    {
     "name": "stderr",
     "output_type": "stream",
     "text": [
      "Initial filtering of formulas: 100%|█████████████| 5/5 [00:00<00:00, 252.82it/s]\n",
      "Computing chunks: 100%|███████████████████████| 5/5 [00:00<00:00, 141699.46it/s]\n",
      "Splitting the experimental spectrum into chunks: 27129it [00:00, 2318026.26it/s]\n",
      "Deconvolving chunks: 100%|████████████████████████| 1/1 [00:14<00:00, 14.32s/it]\n"
     ]
    },
    {
     "name": "stdout",
     "output_type": "stream",
     "text": [
      "Estimation for 0.03 and 0.06999999999999999 done\n",
      "It took: 14.393950939178467 seconds.\n",
      "[0.22961419123600016, 0.14733852946500012, 0.11789113777100009, 0.16486041334000012, 0.32635346283700023]\n"
     ]
    },
    {
     "name": "stderr",
     "output_type": "stream",
     "text": [
      "Initial filtering of formulas: 100%|█████████████| 5/5 [00:00<00:00, 262.40it/s]\n",
      "Computing chunks: 100%|████████████████████████| 5/5 [00:00<00:00, 96642.95it/s]\n",
      "Splitting the experimental spectrum into chunks: 27129it [00:00, 2679806.72it/s]\n",
      "Deconvolving chunks: 100%|████████████████████████| 1/1 [00:14<00:00, 14.51s/it]\n"
     ]
    },
    {
     "name": "stdout",
     "output_type": "stream",
     "text": [
      "Estimation for 0.03 and 0.08 done\n",
      "It took: 14.57861852645874 seconds.\n",
      "[0.22957487480900016, 0.1471744524990001, 0.11800836017100008, 0.16530239675600011, 0.3257094509670002]\n"
     ]
    },
    {
     "name": "stderr",
     "output_type": "stream",
     "text": [
      "Initial filtering of formulas: 100%|█████████████| 5/5 [00:00<00:00, 253.85it/s]\n",
      "Computing chunks: 100%|████████████████████████| 5/5 [00:00<00:00, 30840.47it/s]\n",
      "Splitting the experimental spectrum into chunks: 27129it [00:00, 2762899.99it/s]\n",
      "Deconvolving chunks: 100%|████████████████████████| 1/1 [00:18<00:00, 18.87s/it]\n"
     ]
    },
    {
     "name": "stdout",
     "output_type": "stream",
     "text": [
      "Estimation for 0.03 and 0.09 done\n",
      "It took: 18.936089515686035 seconds.\n",
      "[0.22958003177700018, 0.1469071763000001, 0.11811074723200009, 0.16544380289300012, 0.32533519222000024]\n"
     ]
    },
    {
     "name": "stderr",
     "output_type": "stream",
     "text": [
      "Initial filtering of formulas: 100%|█████████████| 5/5 [00:00<00:00, 157.81it/s]\n",
      "Computing chunks: 100%|███████████████████████| 5/5 [00:00<00:00, 103307.98it/s]\n",
      "Splitting the experimental spectrum into chunks: 27129it [00:00, 1103070.85it/s]\n",
      "Deconvolving chunks: 100%|████████████████████████| 1/1 [00:15<00:00, 15.95s/it]\n"
     ]
    },
    {
     "name": "stdout",
     "output_type": "stream",
     "text": [
      "Estimation for 0.03 and 0.09999999999999999 done\n",
      "It took: 16.06704068183899 seconds.\n",
      "[0.22959195421400017, 0.1466498032160001, 0.11819393985700008, 0.16564902641500012, 0.3246249107800002]\n"
     ]
    },
    {
     "name": "stderr",
     "output_type": "stream",
     "text": [
      "Initial filtering of formulas: 100%|█████████████| 5/5 [00:00<00:00, 243.63it/s]\n",
      "Computing chunks: 100%|███████████████████████| 5/5 [00:00<00:00, 101311.69it/s]\n",
      "Splitting the experimental spectrum into chunks: 27129it [00:00, 2736652.47it/s]\n",
      "Deconvolving chunks: 100%|████████████████████████| 1/1 [00:13<00:00, 13.80s/it]\n"
     ]
    },
    {
     "name": "stdout",
     "output_type": "stream",
     "text": [
      "Estimation for 0.03 and 0.11 done\n",
      "It took: 13.865668058395386 seconds.\n",
      "[0.22961300656900016, 0.14633578260800012, 0.11827925840200008, 0.1659293576880001, 0.3239879223560002]\n"
     ]
    },
    {
     "name": "stderr",
     "output_type": "stream",
     "text": [
      "Initial filtering of formulas: 100%|█████████████| 5/5 [00:00<00:00, 260.64it/s]\n",
      "Computing chunks: 100%|████████████████████████| 5/5 [00:00<00:00, 60963.72it/s]\n",
      "Splitting the experimental spectrum into chunks: 27129it [00:00, 2595631.03it/s]\n",
      "Deconvolving chunks: 100%|████████████████████████| 1/1 [00:15<00:00, 15.49s/it]\n"
     ]
    },
    {
     "name": "stdout",
     "output_type": "stream",
     "text": [
      "Estimation for 0.03 and 0.12 done\n",
      "It took: 15.559958934783936 seconds.\n",
      "[0.22961999987200016, 0.1461194757090001, 0.11837375850000008, 0.1662098259880001, 0.3232224412330002]\n"
     ]
    },
    {
     "name": "stderr",
     "output_type": "stream",
     "text": [
      "Initial filtering of formulas: 100%|█████████████| 5/5 [00:00<00:00, 223.53it/s]\n",
      "Computing chunks: 100%|███████████████████████| 5/5 [00:00<00:00, 194180.74it/s]\n",
      "Splitting the experimental spectrum into chunks: 27129it [00:00, 2214104.79it/s]\n",
      "Deconvolving chunks: 100%|████████████████████████| 1/1 [00:19<00:00, 19.66s/it]\n"
     ]
    },
    {
     "name": "stdout",
     "output_type": "stream",
     "text": [
      "Estimation for 0.03 and 0.13 done\n",
      "It took: 19.740767002105713 seconds.\n",
      "[0.22961612825100017, 0.14591016629500012, 0.11847570991600008, 0.16633105279800012, 0.32256764747900024]\n"
     ]
    },
    {
     "name": "stderr",
     "output_type": "stream",
     "text": [
      "Initial filtering of formulas: 100%|█████████████| 5/5 [00:00<00:00, 107.25it/s]\n",
      "Computing chunks: 100%|████████████████████████| 5/5 [00:00<00:00, 31823.25it/s]\n",
      "Splitting the experimental spectrum into chunks: 27129it [00:00, 1686836.95it/s]\n",
      "Deconvolving chunks: 100%|████████████████████████| 1/1 [00:19<00:00, 19.10s/it]\n"
     ]
    },
    {
     "name": "stdout",
     "output_type": "stream",
     "text": [
      "Estimation for 0.03 and 0.14 done\n",
      "It took: 19.23343586921692 seconds.\n",
      "[0.22970184538100016, 0.1453333853800001, 0.11857239410000009, 0.1665617218130001, 0.32182846997300024]\n"
     ]
    },
    {
     "name": "stderr",
     "output_type": "stream",
     "text": [
      "Initial filtering of formulas: 100%|█████████████| 5/5 [00:00<00:00, 237.47it/s]\n",
      "Computing chunks: 100%|███████████████████████| 5/5 [00:00<00:00, 109226.67it/s]\n",
      "Splitting the experimental spectrum into chunks: 27129it [00:00, 2571173.27it/s]\n",
      "Deconvolving chunks: 100%|████████████████████████| 1/1 [00:15<00:00, 15.41s/it]\n"
     ]
    },
    {
     "name": "stdout",
     "output_type": "stream",
     "text": [
      "Estimation for 0.03 and 0.15000000000000002 done\n",
      "It took: 15.47666072845459 seconds.\n",
      "[0.22979744590300016, 0.14471497575700007, 0.11866920266600009, 0.1668518180950001, 0.32082437543600023]\n"
     ]
    },
    {
     "name": "stderr",
     "output_type": "stream",
     "text": [
      "Initial filtering of formulas: 100%|█████████████| 5/5 [00:00<00:00, 254.96it/s]\n",
      "Computing chunks: 100%|████████████████████████| 5/5 [00:00<00:00, 83886.08it/s]\n",
      "Splitting the experimental spectrum into chunks: 27129it [00:00, 2758613.10it/s]\n",
      "Deconvolving chunks: 100%|████████████████████████| 1/1 [00:17<00:00, 17.94s/it]\n"
     ]
    },
    {
     "name": "stdout",
     "output_type": "stream",
     "text": [
      "Estimation for 0.03 and 0.16 done\n",
      "It took: 18.004328966140747 seconds.\n",
      "[0.22990669630300017, 0.14424022034400008, 0.11875533745100009, 0.1669333607420001, 0.3200142718020002]\n"
     ]
    },
    {
     "name": "stderr",
     "output_type": "stream",
     "text": [
      "Initial filtering of formulas: 100%|█████████████| 5/5 [00:00<00:00, 189.11it/s]\n",
      "Computing chunks: 100%|████████████████████████| 5/5 [00:00<00:00, 47127.01it/s]\n",
      "Splitting the experimental spectrum into chunks: 27129it [00:00, 2066417.38it/s]\n",
      "Deconvolving chunks: 100%|████████████████████████| 1/1 [00:25<00:00, 25.79s/it]\n"
     ]
    },
    {
     "name": "stdout",
     "output_type": "stream",
     "text": [
      "Estimation for 0.03 and 0.17 done\n",
      "It took: 25.88390612602234 seconds.\n",
      "[0.22997639877700016, 0.1439080257160001, 0.11884342769100008, 0.16720976198400012, 0.3190568703390002]\n"
     ]
    },
    {
     "name": "stderr",
     "output_type": "stream",
     "text": [
      "Initial filtering of formulas: 100%|█████████████| 5/5 [00:00<00:00, 109.57it/s]\n",
      "Computing chunks: 100%|████████████████████████| 5/5 [00:00<00:00, 40252.44it/s]\n",
      "Splitting the experimental spectrum into chunks: 27129it [00:00, 1165578.53it/s]\n",
      "Deconvolving chunks: 100%|████████████████████████| 1/1 [00:26<00:00, 26.63s/it]\n"
     ]
    },
    {
     "name": "stdout",
     "output_type": "stream",
     "text": [
      "Estimation for 0.03 and 0.18000000000000002 done\n",
      "It took: 26.763853311538696 seconds.\n",
      "[0.23000919916900017, 0.14383447775900007, 0.11890535851200008, 0.1671556968530001, 0.3187498950000002]\n"
     ]
    },
    {
     "name": "stderr",
     "output_type": "stream",
     "text": [
      "Initial filtering of formulas: 100%|█████████████| 5/5 [00:00<00:00, 182.23it/s]\n",
      "Computing chunks: 100%|████████████████████████| 5/5 [00:00<00:00, 43419.30it/s]\n",
      "Splitting the experimental spectrum into chunks: 27129it [00:00, 1102130.64it/s]\n",
      "Deconvolving chunks: 100%|████████████████████████| 1/1 [00:22<00:00, 22.46s/it]\n"
     ]
    },
    {
     "name": "stdout",
     "output_type": "stream",
     "text": [
      "Estimation for 0.03 and 0.19 done\n",
      "It took: 22.583507776260376 seconds.\n",
      "[0.22997433039900017, 0.14387267424800007, 0.11894886913900009, 0.1669336718260001, 0.31885490623200025]\n"
     ]
    },
    {
     "name": "stderr",
     "output_type": "stream",
     "text": [
      "Initial filtering of formulas: 100%|█████████████| 5/5 [00:00<00:00, 219.93it/s]\n",
      "Computing chunks: 100%|████████████████████████| 5/5 [00:00<00:00, 82891.38it/s]\n",
      "Splitting the experimental spectrum into chunks: 27129it [00:00, 2138215.45it/s]\n",
      "Deconvolving chunks: 100%|████████████████████████| 1/1 [00:21<00:00, 21.09s/it]\n"
     ]
    },
    {
     "name": "stdout",
     "output_type": "stream",
     "text": [
      "Estimation for 0.03 and 0.2 done\n",
      "It took: 21.172054052352905 seconds.\n",
      "[0.22991769316600016, 0.14387185141400008, 0.11896758032900008, 0.16700894848600012, 0.3189120766900002]\n"
     ]
    },
    {
     "name": "stderr",
     "output_type": "stream",
     "text": [
      "Initial filtering of formulas: 100%|█████████████| 5/5 [00:00<00:00, 181.73it/s]\n",
      "Computing chunks: 100%|████████████████████████| 5/5 [00:00<00:00, 67216.41it/s]\n",
      "Splitting the experimental spectrum into chunks: 27129it [00:00, 1027220.54it/s]\n",
      "Deconvolving chunks: 100%|████████████████████████| 1/1 [00:18<00:00, 18.76s/it]\n"
     ]
    },
    {
     "name": "stdout",
     "output_type": "stream",
     "text": [
      "Estimation for 0.03 and 0.21000000000000002 done\n",
      "It took: 18.86666703224182 seconds.\n",
      "[0.22985919740800018, 0.1438861883570001, 0.11898219447600009, 0.16708543801000011, 0.31895864395200024]\n"
     ]
    },
    {
     "name": "stderr",
     "output_type": "stream",
     "text": [
      "Initial filtering of formulas: 100%|█████████████| 5/5 [00:00<00:00, 253.36it/s]\n",
      "Computing chunks: 100%|███████████████████████| 5/5 [00:00<00:00, 146653.99it/s]\n",
      "Splitting the experimental spectrum into chunks: 27129it [00:00, 2798231.19it/s]\n",
      "Deconvolving chunks: 100%|████████████████████████| 1/1 [00:15<00:00, 15.82s/it]\n"
     ]
    },
    {
     "name": "stdout",
     "output_type": "stream",
     "text": [
      "Estimation for 0.03 and 0.22 done\n",
      "It took: 15.8903648853302 seconds.\n",
      "[0.22980533897400016, 0.1438881813940001, 0.11900610610100008, 0.16716137995300012, 0.3190113646540002]\n"
     ]
    },
    {
     "name": "stderr",
     "output_type": "stream",
     "text": [
      "Initial filtering of formulas: 100%|█████████████| 5/5 [00:00<00:00, 161.34it/s]\n",
      "Computing chunks: 100%|████████████████████████| 5/5 [00:00<00:00, 84904.94it/s]\n",
      "Splitting the experimental spectrum into chunks: 27129it [00:00, 1607891.61it/s]\n",
      "Deconvolving chunks: 100%|████████████████████████| 1/1 [00:26<00:00, 26.20s/it]\n"
     ]
    },
    {
     "name": "stdout",
     "output_type": "stream",
     "text": [
      "Estimation for 0.03 and 0.23 done\n",
      "It took: 26.314003944396973 seconds.\n",
      "[0.22974240037300017, 0.1438946692770001, 0.11901994369300008, 0.1672424413000001, 0.31907888409500024]\n"
     ]
    },
    {
     "name": "stderr",
     "output_type": "stream",
     "text": [
      "Initial filtering of formulas: 100%|█████████████| 5/5 [00:00<00:00, 248.43it/s]\n",
      "Computing chunks: 100%|███████████████████████| 5/5 [00:00<00:00, 147686.76it/s]\n",
      "Splitting the experimental spectrum into chunks: 27129it [00:00, 2763906.66it/s]\n",
      "Deconvolving chunks: 100%|████████████████████████| 1/1 [00:15<00:00, 15.88s/it]\n"
     ]
    },
    {
     "name": "stdout",
     "output_type": "stream",
     "text": [
      "Estimation for 0.03 and 0.24000000000000002 done\n",
      "It took: 15.974302768707275 seconds.\n",
      "[0.22969286205800016, 0.14390083433900008, 0.11904232285500008, 0.1673162478650001, 0.31912646419700025]\n"
     ]
    },
    {
     "name": "stderr",
     "output_type": "stream",
     "text": [
      "Initial filtering of formulas: 100%|█████████████| 5/5 [00:00<00:00, 257.78it/s]\n",
      "Computing chunks: 100%|███████████████████████| 5/5 [00:00<00:00, 103307.98it/s]\n",
      "Splitting the experimental spectrum into chunks: 27129it [00:00, 2695742.08it/s]\n",
      "Deconvolving chunks: 100%|████████████████████████| 1/1 [00:15<00:00, 15.36s/it]\n"
     ]
    },
    {
     "name": "stdout",
     "output_type": "stream",
     "text": [
      "Estimation for 0.03 and 0.25 done\n",
      "It took: 15.430036306381226 seconds.\n",
      "[0.22964611644200017, 0.14391779784500008, 0.11905751083800008, 0.1673875793880001, 0.3191712612740002]\n"
     ]
    },
    {
     "name": "stderr",
     "output_type": "stream",
     "text": [
      "Initial filtering of formulas: 100%|█████████████| 5/5 [00:00<00:00, 244.65it/s]\n",
      "Computing chunks: 100%|███████████████████████| 5/5 [00:00<00:00, 183960.70it/s]\n",
      "Splitting the experimental spectrum into chunks: 27129it [00:00, 2541312.63it/s]\n",
      "Deconvolving chunks: 100%|████████████████████████| 1/1 [00:17<00:00, 17.98s/it]\n"
     ]
    },
    {
     "name": "stdout",
     "output_type": "stream",
     "text": [
      "Estimation for 0.03 and 0.26 done\n",
      "It took: 18.056063413619995 seconds.\n",
      "[0.22960299326000017, 0.14393748039300008, 0.11907195625700008, 0.16746406244100012, 0.31921983023200023]\n"
     ]
    },
    {
     "name": "stderr",
     "output_type": "stream",
     "text": [
      "Initial filtering of formulas: 100%|██████████████| 5/5 [00:00<00:00, 92.49it/s]\n",
      "Computing chunks: 100%|████████████████████████| 5/5 [00:00<00:00, 26579.87it/s]\n",
      "Splitting the experimental spectrum into chunks: 27129it [00:00, 1235944.97it/s]\n",
      "Deconvolving chunks: 100%|████████████████████████| 1/1 [00:22<00:00, 22.92s/it]\n"
     ]
    },
    {
     "name": "stdout",
     "output_type": "stream",
     "text": [
      "Estimation for 0.03 and 0.27 done\n",
      "It took: 23.09023666381836 seconds.\n",
      "[0.22958845269600017, 0.14393936559300008, 0.11908554802400008, 0.1674982632730001, 0.3192569671060002]\n"
     ]
    },
    {
     "name": "stderr",
     "output_type": "stream",
     "text": [
      "Initial filtering of formulas: 100%|█████████████| 5/5 [00:00<00:00, 153.89it/s]\n",
      "Computing chunks: 100%|████████████████████████| 5/5 [00:00<00:00, 61141.46it/s]\n",
      "Splitting the experimental spectrum into chunks: 27129it [00:00, 2168533.18it/s]\n",
      "Deconvolving chunks: 100%|████████████████████████| 1/1 [00:16<00:00, 16.32s/it]\n"
     ]
    },
    {
     "name": "stdout",
     "output_type": "stream",
     "text": [
      "Estimation for 0.03 and 0.28 done\n",
      "It took: 16.415056228637695 seconds.\n",
      "[0.22954573462900016, 0.1439510244340001, 0.11909793848700008, 0.16755822361600012, 0.3192970426520002]\n"
     ]
    },
    {
     "name": "stderr",
     "output_type": "stream",
     "text": [
      "Initial filtering of formulas: 100%|█████████████| 5/5 [00:00<00:00, 256.73it/s]\n",
      "Computing chunks: 100%|███████████████████████| 5/5 [00:00<00:00, 180788.97it/s]\n",
      "Splitting the experimental spectrum into chunks: 27129it [00:00, 2602458.05it/s]\n",
      "Deconvolving chunks: 100%|████████████████████████| 1/1 [00:15<00:00, 15.62s/it]\n"
     ]
    },
    {
     "name": "stdout",
     "output_type": "stream",
     "text": [
      "Estimation for 0.03 and 0.29000000000000004 done\n",
      "It took: 15.683927774429321 seconds.\n",
      "[0.22951355792500017, 0.14396252117400007, 0.11911374577100009, 0.1676165578960001, 0.3193447192210002]\n"
     ]
    },
    {
     "name": "stderr",
     "output_type": "stream",
     "text": [
      "Initial filtering of formulas: 100%|█████████████| 5/5 [00:00<00:00, 237.65it/s]\n",
      "Computing chunks: 100%|███████████████████████| 5/5 [00:00<00:00, 142663.40it/s]\n",
      "Splitting the experimental spectrum into chunks: 27129it [00:00, 2480971.42it/s]\n",
      "Deconvolving chunks: 100%|████████████████████████| 1/1 [00:17<00:00, 17.46s/it]\n"
     ]
    },
    {
     "name": "stdout",
     "output_type": "stream",
     "text": [
      "Estimation for 0.03 and 0.3 done\n",
      "It took: 17.526623725891113 seconds.\n",
      "[0.22948402148600017, 0.1439724834140001, 0.11912600295200008, 0.16767163965500012, 0.3193944840340002]\n"
     ]
    },
    {
     "name": "stderr",
     "output_type": "stream",
     "text": [
      "Initial filtering of formulas: 100%|█████████████| 5/5 [00:00<00:00, 160.55it/s]\n",
      "Computing chunks: 100%|████████████████████████| 5/5 [00:00<00:00, 85250.08it/s]\n",
      "Splitting the experimental spectrum into chunks: 27129it [00:00, 1856902.53it/s]\n",
      "Deconvolving chunks: 100%|████████████████████████| 1/1 [00:19<00:00, 19.60s/it]\n"
     ]
    },
    {
     "name": "stdout",
     "output_type": "stream",
     "text": [
      "Estimation for 0.04 and 0.01 done\n",
      "It took: 19.70329213142395 seconds.\n",
      "[0.21755084554200013, 0.1842519119180001, 0.11203796674500006, 0.1721534951830001, 0.31400578061200024]\n"
     ]
    },
    {
     "name": "stderr",
     "output_type": "stream",
     "text": [
      "Initial filtering of formulas: 100%|█████████████| 5/5 [00:00<00:00, 253.98it/s]\n",
      "Computing chunks: 100%|███████████████████████| 5/5 [00:00<00:00, 122640.47it/s]\n",
      "Splitting the experimental spectrum into chunks: 27129it [00:00, 2535423.54it/s]\n",
      "Deconvolving chunks: 100%|████████████████████████| 1/1 [00:15<00:00, 15.33s/it]\n"
     ]
    },
    {
     "name": "stdout",
     "output_type": "stream",
     "text": [
      "Estimation for 0.04 and 0.02 done\n",
      "It took: 15.400107383728027 seconds.\n",
      "[0.22749300180000015, 0.1505666996050001, 0.11728458598400009, 0.17735241846300012, 0.32728140612200024]\n"
     ]
    },
    {
     "name": "stderr",
     "output_type": "stream",
     "text": [
      "Initial filtering of formulas: 100%|█████████████| 5/5 [00:00<00:00, 255.17it/s]\n",
      "Computing chunks: 100%|████████████████████████| 5/5 [00:00<00:00, 56833.39it/s]\n",
      "Splitting the experimental spectrum into chunks: 27129it [00:00, 2509478.27it/s]\n",
      "Deconvolving chunks: 100%|████████████████████████| 1/1 [00:19<00:00, 19.84s/it]\n"
     ]
    },
    {
     "name": "stdout",
     "output_type": "stream",
     "text": [
      "Estimation for 0.04 and 0.03 done\n",
      "It took: 19.918761253356934 seconds.\n",
      "[0.22774203726800013, 0.1508016955040001, 0.11754122475000009, 0.17704801360700012, 0.3268254282420002]\n"
     ]
    },
    {
     "name": "stderr",
     "output_type": "stream",
     "text": [
      "Initial filtering of formulas: 100%|█████████████| 5/5 [00:00<00:00, 118.23it/s]\n",
      "Computing chunks: 100%|████████████████████████| 5/5 [00:00<00:00, 59747.92it/s]\n",
      "Splitting the experimental spectrum into chunks: 27129it [00:00, 1521688.13it/s]\n",
      "Deconvolving chunks: 100%|████████████████████████| 1/1 [00:27<00:00, 27.75s/it]\n"
     ]
    },
    {
     "name": "stdout",
     "output_type": "stream",
     "text": [
      "Estimation for 0.04 and 0.04 done\n",
      "It took: 27.89624047279358 seconds.\n",
      "[0.22793103453600014, 0.1510091432770001, 0.11773313244900008, 0.17717374081500012, 0.3261021303130002]\n"
     ]
    },
    {
     "name": "stderr",
     "output_type": "stream",
     "text": [
      "Initial filtering of formulas: 100%|█████████████| 5/5 [00:00<00:00, 115.64it/s]\n",
      "Computing chunks: 100%|████████████████████████| 5/5 [00:00<00:00, 32564.47it/s]\n",
      "Splitting the experimental spectrum into chunks: 27129it [00:00, 882975.40it/s]\n",
      "Deconvolving chunks: 100%|████████████████████████| 1/1 [00:29<00:00, 29.12s/it]\n"
     ]
    },
    {
     "name": "stdout",
     "output_type": "stream",
     "text": [
      "Estimation for 0.04 and 0.05 done\n",
      "It took: 29.306782722473145 seconds.\n",
      "[0.22920522492900017, 0.1518570042170001, 0.11850682666800008, 0.16567999191300012, 0.3273566644600002]\n"
     ]
    },
    {
     "name": "stderr",
     "output_type": "stream",
     "text": [
      "Initial filtering of formulas: 100%|█████████████| 5/5 [00:00<00:00, 110.19it/s]\n",
      "Computing chunks: 100%|████████████████████████| 5/5 [00:00<00:00, 23858.38it/s]\n",
      "Splitting the experimental spectrum into chunks: 27129it [00:00, 1233158.92it/s]\n",
      "Deconvolving chunks: 100%|████████████████████████| 1/1 [00:20<00:00, 20.02s/it]\n"
     ]
    },
    {
     "name": "stdout",
     "output_type": "stream",
     "text": [
      "Estimation for 0.04 and 0.060000000000000005 done\n",
      "It took: 20.18105459213257 seconds.\n",
      "[0.22934401522900016, 0.1518824263180001, 0.11822115771100009, 0.1646685188920001, 0.3270392063850002]\n"
     ]
    },
    {
     "name": "stderr",
     "output_type": "stream",
     "text": [
      "Initial filtering of formulas: 100%|█████████████| 5/5 [00:00<00:00, 199.95it/s]\n",
      "Computing chunks: 100%|████████████████████████| 5/5 [00:00<00:00, 31726.96it/s]\n",
      "Splitting the experimental spectrum into chunks: 27129it [00:00, 2022633.15it/s]\n",
      "Deconvolving chunks: 100%|████████████████████████| 1/1 [00:19<00:00, 19.04s/it]\n"
     ]
    },
    {
     "name": "stdout",
     "output_type": "stream",
     "text": [
      "Estimation for 0.04 and 0.06999999999999999 done\n",
      "It took: 19.13841462135315 seconds.\n",
      "[0.22923304812100018, 0.15181196887100012, 0.11797645648800008, 0.1648749155930001, 0.3266981180820002]\n"
     ]
    },
    {
     "name": "stderr",
     "output_type": "stream",
     "text": [
      "Initial filtering of formulas: 100%|█████████████| 5/5 [00:00<00:00, 210.42it/s]\n",
      "Computing chunks: 100%|████████████████████████| 5/5 [00:00<00:00, 68534.38it/s]\n",
      "Splitting the experimental spectrum into chunks: 27129it [00:00, 2228894.11it/s]\n",
      "Deconvolving chunks: 100%|████████████████████████| 1/1 [00:18<00:00, 18.92s/it]\n"
     ]
    },
    {
     "name": "stdout",
     "output_type": "stream",
     "text": [
      "Estimation for 0.04 and 0.08 done\n",
      "It took: 19.016432523727417 seconds.\n",
      "[0.22950014815000017, 0.1487589742470001, 0.11802401118100009, 0.1650852072290001, 0.3267978476370002]\n"
     ]
    },
    {
     "name": "stderr",
     "output_type": "stream",
     "text": [
      "Initial filtering of formulas: 100%|█████████████| 5/5 [00:00<00:00, 158.87it/s]\n",
      "Computing chunks: 100%|████████████████████████| 5/5 [00:00<00:00, 65741.44it/s]\n",
      "Splitting the experimental spectrum into chunks: 27129it [00:00, 2026307.06it/s]\n",
      "Deconvolving chunks: 100%|████████████████████████| 1/1 [00:20<00:00, 20.48s/it]\n"
     ]
    },
    {
     "name": "stdout",
     "output_type": "stream",
     "text": [
      "Estimation for 0.04 and 0.09 done\n",
      "It took: 20.581352710723877 seconds.\n",
      "[0.22954919543000016, 0.14796462652600012, 0.11792763174500008, 0.16520904494300012, 0.3266067880650002]\n"
     ]
    },
    {
     "name": "stderr",
     "output_type": "stream",
     "text": [
      "Initial filtering of formulas: 100%|█████████████| 5/5 [00:00<00:00, 133.51it/s]\n",
      "Computing chunks: 100%|████████████████████████| 5/5 [00:00<00:00, 32313.59it/s]\n",
      "Splitting the experimental spectrum into chunks: 27129it [00:00, 1453110.53it/s]\n",
      "Deconvolving chunks: 100%|████████████████████████| 1/1 [00:22<00:00, 22.23s/it]\n"
     ]
    },
    {
     "name": "stdout",
     "output_type": "stream",
     "text": [
      "Estimation for 0.04 and 0.09999999999999999 done\n",
      "It took: 22.35629963874817 seconds.\n",
      "[0.22962842577900017, 0.14771776268500011, 0.11801442133900009, 0.16529534240900012, 0.3261450479630002]\n"
     ]
    },
    {
     "name": "stderr",
     "output_type": "stream",
     "text": [
      "Initial filtering of formulas: 100%|█████████████| 5/5 [00:00<00:00, 201.99it/s]\n",
      "Computing chunks: 100%|████████████████████████| 5/5 [00:00<00:00, 55775.32it/s]\n",
      "Splitting the experimental spectrum into chunks: 27129it [00:00, 2139300.86it/s]\n",
      "Deconvolving chunks: 100%|████████████████████████| 1/1 [00:16<00:00, 16.90s/it]\n"
     ]
    },
    {
     "name": "stdout",
     "output_type": "stream",
     "text": [
      "Estimation for 0.04 and 0.11 done\n",
      "It took: 16.975638389587402 seconds.\n",
      "[0.22967749294200016, 0.1475061167690001, 0.11810270008000008, 0.1654020441030001, 0.32566474156800024]\n"
     ]
    },
    {
     "name": "stderr",
     "output_type": "stream",
     "text": [
      "Initial filtering of formulas: 100%|█████████████| 5/5 [00:00<00:00, 211.53it/s]\n",
      "Computing chunks: 100%|███████████████████████| 5/5 [00:00<00:00, 117159.33it/s]\n",
      "Splitting the experimental spectrum into chunks: 27129it [00:00, 2534971.67it/s]\n",
      "Deconvolving chunks: 100%|████████████████████████| 1/1 [00:15<00:00, 15.04s/it]\n"
     ]
    },
    {
     "name": "stdout",
     "output_type": "stream",
     "text": [
      "Estimation for 0.04 and 0.12 done\n",
      "It took: 15.112473726272583 seconds.\n",
      "[0.22967172116700016, 0.1472530647890001, 0.11819673992700008, 0.16561856956900012, 0.32514456814600023]\n"
     ]
    },
    {
     "name": "stderr",
     "output_type": "stream",
     "text": [
      "Initial filtering of formulas: 100%|█████████████| 5/5 [00:00<00:00, 238.60it/s]\n",
      "Computing chunks: 100%|████████████████████████| 5/5 [00:00<00:00, 90394.48it/s]\n",
      "Splitting the experimental spectrum into chunks: 27129it [00:00, 2632623.97it/s]\n",
      "Deconvolving chunks: 100%|████████████████████████| 1/1 [00:18<00:00, 18.33s/it]\n"
     ]
    },
    {
     "name": "stdout",
     "output_type": "stream",
     "text": [
      "Estimation for 0.04 and 0.13 done\n",
      "It took: 18.40428876876831 seconds.\n",
      "[0.22965047352500018, 0.1469719253490001, 0.11828281384400008, 0.16590279125400012, 0.3245821049080002]\n"
     ]
    },
    {
     "name": "stderr",
     "output_type": "stream",
     "text": [
      "Initial filtering of formulas: 100%|█████████████| 5/5 [00:00<00:00, 116.19it/s]\n",
      "Computing chunks: 100%|████████████████████████| 5/5 [00:00<00:00, 64329.82it/s]\n",
      "Splitting the experimental spectrum into chunks: 27129it [00:00, 1360148.14it/s]\n",
      "Deconvolving chunks: 100%|████████████████████████| 1/1 [00:21<00:00, 21.54s/it]\n"
     ]
    },
    {
     "name": "stdout",
     "output_type": "stream",
     "text": [
      "Estimation for 0.04 and 0.14 done\n",
      "It took: 21.66516423225403 seconds.\n",
      "[0.22971363941900017, 0.1466744591070001, 0.11836646301800008, 0.16593997235700012, 0.3239959733110002]\n"
     ]
    },
    {
     "name": "stderr",
     "output_type": "stream",
     "text": [
      "Initial filtering of formulas: 100%|█████████████| 5/5 [00:00<00:00, 228.63it/s]\n",
      "Computing chunks: 100%|███████████████████████| 5/5 [00:00<00:00, 171897.70it/s]\n",
      "Splitting the experimental spectrum into chunks: 27129it [00:00, 2696253.10it/s]\n",
      "Deconvolving chunks: 100%|████████████████████████| 1/1 [00:14<00:00, 14.55s/it]\n"
     ]
    },
    {
     "name": "stdout",
     "output_type": "stream",
     "text": [
      "Estimation for 0.04 and 0.15000000000000002 done\n",
      "It took: 14.616237163543701 seconds.\n",
      "[0.22978633133300017, 0.1463899899050001, 0.11844375449400009, 0.1659847389080001, 0.3233618808000002]\n"
     ]
    },
    {
     "name": "stderr",
     "output_type": "stream",
     "text": [
      "Initial filtering of formulas: 100%|█████████████| 5/5 [00:00<00:00, 265.92it/s]\n",
      "Computing chunks: 100%|███████████████████████| 5/5 [00:00<00:00, 156503.88it/s]\n",
      "Splitting the experimental spectrum into chunks: 27129it [00:00, 2797955.97it/s]\n",
      "Deconvolving chunks: 100%|████████████████████████| 1/1 [00:14<00:00, 14.71s/it]\n"
     ]
    },
    {
     "name": "stdout",
     "output_type": "stream",
     "text": [
      "Estimation for 0.04 and 0.16 done\n",
      "It took: 14.776596784591675 seconds.\n",
      "[0.22983371466400015, 0.1460651183300001, 0.11852608134100008, 0.1661672495190001, 0.32270141620300025]\n"
     ]
    },
    {
     "name": "stderr",
     "output_type": "stream",
     "text": [
      "Initial filtering of formulas: 100%|█████████████| 5/5 [00:00<00:00, 240.41it/s]\n",
      "Computing chunks: 100%|███████████████████████| 5/5 [00:00<00:00, 169125.16it/s]\n",
      "Splitting the experimental spectrum into chunks: 27129it [00:00, 2585780.55it/s]\n",
      "Deconvolving chunks: 100%|████████████████████████| 1/1 [00:18<00:00, 18.55s/it]\n"
     ]
    },
    {
     "name": "stdout",
     "output_type": "stream",
     "text": [
      "Estimation for 0.04 and 0.17 done\n",
      "It took: 18.61576271057129 seconds.\n",
      "[0.22993302460800016, 0.1454123780930001, 0.11863092964600008, 0.1662557862330001, 0.32199621074000023]\n"
     ]
    },
    {
     "name": "stderr",
     "output_type": "stream",
     "text": [
      "Initial filtering of formulas: 100%|█████████████| 5/5 [00:00<00:00, 207.22it/s]\n",
      "Computing chunks: 100%|████████████████████████| 5/5 [00:00<00:00, 96642.95it/s]\n",
      "Splitting the experimental spectrum into chunks: 27129it [00:00, 2133524.71it/s]\n",
      "Deconvolving chunks: 100%|████████████████████████| 1/1 [00:20<00:00, 20.26s/it]\n"
     ]
    },
    {
     "name": "stdout",
     "output_type": "stream",
     "text": [
      "Estimation for 0.04 and 0.18000000000000002 done\n",
      "It took: 20.342644691467285 seconds.\n",
      "[0.23002015128000017, 0.1448785434010001, 0.11872899487900009, 0.16645929212400012, 0.3211025710680002]\n"
     ]
    },
    {
     "name": "stderr",
     "output_type": "stream",
     "text": [
      "Initial filtering of formulas: 100%|█████████████| 5/5 [00:00<00:00, 244.33it/s]\n",
      "Computing chunks: 100%|████████████████████████| 5/5 [00:00<00:00, 84904.94it/s]\n",
      "Splitting the experimental spectrum into chunks: 27129it [00:00, 2653497.35it/s]\n",
      "Deconvolving chunks: 100%|████████████████████████| 1/1 [00:14<00:00, 14.92s/it]\n"
     ]
    },
    {
     "name": "stdout",
     "output_type": "stream",
     "text": [
      "Estimation for 0.04 and 0.19 done\n",
      "It took: 14.98511004447937 seconds.\n",
      "[0.23005543878000018, 0.14445270780500008, 0.11879861812300008, 0.16659969524000012, 0.3205007401940002]\n"
     ]
    },
    {
     "name": "stderr",
     "output_type": "stream",
     "text": [
      "Initial filtering of formulas: 100%|█████████████| 5/5 [00:00<00:00, 212.08it/s]\n",
      "Computing chunks: 100%|████████████████████████| 5/5 [00:00<00:00, 83220.32it/s]\n",
      "Splitting the experimental spectrum into chunks: 27129it [00:00, 2390740.06it/s]\n",
      "Deconvolving chunks: 100%|████████████████████████| 1/1 [00:15<00:00, 15.20s/it]\n"
     ]
    },
    {
     "name": "stdout",
     "output_type": "stream",
     "text": [
      "Estimation for 0.04 and 0.2 done\n",
      "It took: 15.275519132614136 seconds.\n",
      "[0.23002578011500016, 0.14413813742900008, 0.11885567496400008, 0.1666960122350001, 0.32000091792000024]\n"
     ]
    },
    {
     "name": "stderr",
     "output_type": "stream",
     "text": [
      "Initial filtering of formulas: 100%|█████████████| 5/5 [00:00<00:00, 246.26it/s]\n",
      "Computing chunks: 100%|███████████████████████| 5/5 [00:00<00:00, 139810.13it/s]\n",
      "Splitting the experimental spectrum into chunks: 27129it [00:00, 2651024.49it/s]\n",
      "Deconvolving chunks: 100%|████████████████████████| 1/1 [00:17<00:00, 17.71s/it]\n"
     ]
    },
    {
     "name": "stdout",
     "output_type": "stream",
     "text": [
      "Estimation for 0.04 and 0.21000000000000002 done\n",
      "It took: 17.7810218334198 seconds.\n",
      "[0.22995639158900016, 0.14409807210900008, 0.11888701214600009, 0.1666662936250001, 0.32000136020800024]\n"
     ]
    },
    {
     "name": "stderr",
     "output_type": "stream",
     "text": [
      "Initial filtering of formulas: 100%|█████████████| 5/5 [00:00<00:00, 192.45it/s]\n",
      "Computing chunks: 100%|████████████████████████| 5/5 [00:00<00:00, 52958.38it/s]\n",
      "Splitting the experimental spectrum into chunks: 27129it [00:00, 2199595.47it/s]\n",
      "Deconvolving chunks: 100%|████████████████████████| 1/1 [00:33<00:00, 33.73s/it]\n"
     ]
    },
    {
     "name": "stdout",
     "output_type": "stream",
     "text": [
      "Estimation for 0.04 and 0.22 done\n",
      "It took: 33.82251000404358 seconds.\n",
      "[0.22987512654600017, 0.1441093253650001, 0.11890550166800008, 0.16676177991900012, 0.32005822165800024]\n"
     ]
    },
    {
     "name": "stderr",
     "output_type": "stream",
     "text": [
      "Initial filtering of formulas: 100%|█████████████| 5/5 [00:00<00:00, 191.29it/s]\n",
      "Computing chunks: 100%|████████████████████████| 5/5 [00:00<00:00, 68985.26it/s]\n",
      "Splitting the experimental spectrum into chunks: 27129it [00:00, 1847885.95it/s]\n",
      "Deconvolving chunks: 100%|████████████████████████| 1/1 [00:20<00:00, 20.89s/it]\n"
     ]
    },
    {
     "name": "stdout",
     "output_type": "stream",
     "text": [
      "Estimation for 0.04 and 0.23 done\n",
      "It took: 20.982726335525513 seconds.\n",
      "[0.22982839947400016, 0.1441229304090001, 0.11891896320900008, 0.16683393698400012, 0.3201103910360002]\n"
     ]
    },
    {
     "name": "stderr",
     "output_type": "stream",
     "text": [
      "Initial filtering of formulas: 100%|█████████████| 5/5 [00:00<00:00, 204.18it/s]\n",
      "Computing chunks: 100%|███████████████████████| 5/5 [00:00<00:00, 143640.55it/s]\n",
      "Splitting the experimental spectrum into chunks: 27129it [00:00, 1942557.93it/s]\n",
      "Deconvolving chunks: 100%|████████████████████████| 1/1 [00:19<00:00, 19.94s/it]\n"
     ]
    },
    {
     "name": "stdout",
     "output_type": "stream",
     "text": [
      "Estimation for 0.04 and 0.24000000000000002 done\n",
      "It took: 20.03656530380249 seconds.\n",
      "[0.22979781071500016, 0.14413786243700008, 0.11893648922000008, 0.16689677198600011, 0.32015847681800025]\n"
     ]
    },
    {
     "name": "stderr",
     "output_type": "stream",
     "text": [
      "Initial filtering of formulas: 100%|█████████████| 5/5 [00:00<00:00, 169.95it/s]\n",
      "Computing chunks: 100%|███████████████████████| 5/5 [00:00<00:00, 102300.10it/s]\n",
      "Splitting the experimental spectrum into chunks: 27129it [00:00, 1361124.35it/s]\n",
      "Deconvolving chunks: 100%|████████████████████████| 1/1 [00:20<00:00, 20.13s/it]\n"
     ]
    },
    {
     "name": "stdout",
     "output_type": "stream",
     "text": [
      "Estimation for 0.04 and 0.25 done\n",
      "It took: 20.231033325195312 seconds.\n",
      "[0.22976970716200015, 0.14415217152600007, 0.11895606625700009, 0.16695997700000012, 0.32020946568800024]\n"
     ]
    },
    {
     "name": "stderr",
     "output_type": "stream",
     "text": [
      "Initial filtering of formulas: 100%|█████████████| 5/5 [00:00<00:00, 170.24it/s]\n",
      "Computing chunks: 100%|████████████████████████| 5/5 [00:00<00:00, 65536.00it/s]\n",
      "Splitting the experimental spectrum into chunks: 27129it [00:00, 1904262.03it/s]\n",
      "Deconvolving chunks: 100%|████████████████████████| 1/1 [00:30<00:00, 30.72s/it]\n"
     ]
    },
    {
     "name": "stdout",
     "output_type": "stream",
     "text": [
      "Estimation for 0.04 and 0.26 done\n",
      "It took: 30.82506823539734 seconds.\n",
      "[0.22973537754700016, 0.14416355700500008, 0.11896565522500008, 0.1670158945940001, 0.32024838497800023]\n"
     ]
    },
    {
     "name": "stderr",
     "output_type": "stream",
     "text": [
      "Initial filtering of formulas: 100%|█████████████| 5/5 [00:00<00:00, 103.52it/s]\n",
      "Computing chunks: 100%|████████████████████████| 5/5 [00:00<00:00, 19257.59it/s]\n",
      "Splitting the experimental spectrum into chunks: 27129it [00:00, 1157350.95it/s]\n",
      "Deconvolving chunks: 100%|████████████████████████| 1/1 [00:30<00:00, 30.27s/it]\n"
     ]
    },
    {
     "name": "stdout",
     "output_type": "stream",
     "text": [
      "Estimation for 0.04 and 0.27 done\n",
      "It took: 30.471023082733154 seconds.\n",
      "[0.22970488892200017, 0.1441717091370001, 0.11897742661800008, 0.16706366703100012, 0.3202864700070002]\n"
     ]
    },
    {
     "name": "stderr",
     "output_type": "stream",
     "text": [
      "Initial filtering of formulas: 100%|█████████████| 5/5 [00:00<00:00, 251.46it/s]\n",
      "Computing chunks: 100%|███████████████████████| 5/5 [00:00<00:00, 156503.88it/s]\n",
      "Splitting the experimental spectrum into chunks: 27129it [00:00, 2413099.06it/s]\n",
      "Deconvolving chunks: 100%|████████████████████████| 1/1 [00:15<00:00, 15.73s/it]\n"
     ]
    },
    {
     "name": "stdout",
     "output_type": "stream",
     "text": [
      "Estimation for 0.04 and 0.28 done\n",
      "It took: 15.795817613601685 seconds.\n",
      "[0.22965535987100016, 0.14418027148600007, 0.11899189467300009, 0.1671303395090001, 0.32034100692400025]\n"
     ]
    },
    {
     "name": "stderr",
     "output_type": "stream",
     "text": [
      "Initial filtering of formulas: 100%|█████████████| 5/5 [00:00<00:00, 255.87it/s]\n",
      "Computing chunks: 100%|████████████████████████| 5/5 [00:00<00:00, 73584.28it/s]\n",
      "Splitting the experimental spectrum into chunks: 27129it [00:00, 2653806.78it/s]\n",
      "Deconvolving chunks: 100%|████████████████████████| 1/1 [00:15<00:00, 15.06s/it]\n"
     ]
    },
    {
     "name": "stdout",
     "output_type": "stream",
     "text": [
      "Estimation for 0.04 and 0.29000000000000004 done\n",
      "It took: 15.118918657302856 seconds.\n",
      "[0.22962576559300016, 0.14419067327100007, 0.11900384715800008, 0.1671868645380001, 0.32038752949100024]\n"
     ]
    },
    {
     "name": "stderr",
     "output_type": "stream",
     "text": [
      "Initial filtering of formulas: 100%|█████████████| 5/5 [00:00<00:00, 242.94it/s]\n",
      "Computing chunks: 100%|███████████████████████| 5/5 [00:00<00:00, 110376.42it/s]\n",
      "Splitting the experimental spectrum into chunks: 27129it [00:00, 2173545.36it/s]\n",
      "Deconvolving chunks: 100%|████████████████████████| 1/1 [00:20<00:00, 20.67s/it]\n"
     ]
    },
    {
     "name": "stdout",
     "output_type": "stream",
     "text": [
      "Estimation for 0.04 and 0.3 done\n",
      "It took: 20.748950719833374 seconds.\n",
      "[0.22958954719600017, 0.1442028502530001, 0.11901651472400009, 0.16724408566000012, 0.3204332848730002]\n"
     ]
    },
    {
     "name": "stderr",
     "output_type": "stream",
     "text": [
      "Initial filtering of formulas: 100%|█████████████| 5/5 [00:00<00:00, 142.37it/s]\n",
      "Computing chunks: 100%|████████████████████████| 5/5 [00:00<00:00, 33554.43it/s]\n",
      "Splitting the experimental spectrum into chunks: 27129it [00:00, 1651652.17it/s]\n",
      "Deconvolving chunks: 100%|████████████████████████| 1/1 [00:20<00:00, 20.63s/it]\n"
     ]
    },
    {
     "name": "stdout",
     "output_type": "stream",
     "text": [
      "Estimation for 0.05 and 0.01 done\n",
      "It took: 20.742623805999756 seconds.\n",
      "[0.21755084554200013, 0.1842519119180001, 0.11203796674500006, 0.1721534951830001, 0.31400578061200024]\n"
     ]
    },
    {
     "name": "stderr",
     "output_type": "stream",
     "text": [
      "Initial filtering of formulas: 100%|█████████████| 5/5 [00:00<00:00, 221.31it/s]\n",
      "Computing chunks: 100%|████████████████████████| 5/5 [00:00<00:00, 84562.58it/s]\n",
      "Splitting the experimental spectrum into chunks: 27129it [00:00, 2166015.14it/s]\n",
      "Deconvolving chunks: 100%|████████████████████████| 1/1 [00:15<00:00, 15.88s/it]\n"
     ]
    },
    {
     "name": "stdout",
     "output_type": "stream",
     "text": [
      "Estimation for 0.05 and 0.02 done\n",
      "It took: 15.952759981155396 seconds.\n",
      "[0.22749747499800013, 0.15057183637400012, 0.11728689957200009, 0.1773559218180001, 0.32728786723800024]\n"
     ]
    },
    {
     "name": "stderr",
     "output_type": "stream",
     "text": [
      "Initial filtering of formulas: 100%|█████████████| 5/5 [00:00<00:00, 208.48it/s]\n",
      "Computing chunks: 100%|████████████████████████| 5/5 [00:00<00:00, 86659.17it/s]\n",
      "Splitting the experimental spectrum into chunks: 27129it [00:00, 2117878.78it/s]\n",
      "Deconvolving chunks: 100%|████████████████████████| 1/1 [00:15<00:00, 15.03s/it]\n"
     ]
    },
    {
     "name": "stdout",
     "output_type": "stream",
     "text": [
      "Estimation for 0.05 and 0.03 done\n",
      "It took: 15.110808610916138 seconds.\n",
      "[0.22773846947000015, 0.15085527514200012, 0.11753960541000008, 0.1770456446430001, 0.32682100533500025]\n"
     ]
    },
    {
     "name": "stderr",
     "output_type": "stream",
     "text": [
      "Initial filtering of formulas: 100%|█████████████| 5/5 [00:00<00:00, 241.54it/s]\n",
      "Computing chunks: 100%|████████████████████████| 5/5 [00:00<00:00, 62230.03it/s]\n",
      "Splitting the experimental spectrum into chunks: 27129it [00:00, 2501258.97it/s]\n",
      "Deconvolving chunks: 100%|████████████████████████| 1/1 [00:14<00:00, 14.57s/it]\n"
     ]
    },
    {
     "name": "stdout",
     "output_type": "stream",
     "text": [
      "Estimation for 0.05 and 0.04 done\n",
      "It took: 14.637699842453003 seconds.\n",
      "[0.22792690637900015, 0.15107391778000012, 0.11773124674100008, 0.17717095468800012, 0.3260969744120002]\n"
     ]
    },
    {
     "name": "stderr",
     "output_type": "stream",
     "text": [
      "Initial filtering of formulas: 100%|█████████████| 5/5 [00:00<00:00, 255.91it/s]\n",
      "Computing chunks: 100%|███████████████████████| 5/5 [00:00<00:00, 187245.71it/s]\n",
      "Splitting the experimental spectrum into chunks: 27129it [00:00, 2749414.61it/s]\n",
      "Deconvolving chunks: 100%|████████████████████████| 1/1 [00:24<00:00, 24.45s/it]\n"
     ]
    },
    {
     "name": "stdout",
     "output_type": "stream",
     "text": [
      "Estimation for 0.05 and 0.05 done\n",
      "It took: 24.51910424232483 seconds.\n",
      "[0.22800614495500013, 0.1511773893160001, 0.11784200944000009, 0.1771073672140001, 0.3258670890750002]\n"
     ]
    },
    {
     "name": "stderr",
     "output_type": "stream",
     "text": [
      "Initial filtering of formulas: 100%|█████████████| 5/5 [00:00<00:00, 214.19it/s]\n",
      "Computing chunks: 100%|████████████████████████| 5/5 [00:00<00:00, 53092.46it/s]\n",
      "Splitting the experimental spectrum into chunks: 27129it [00:00, 1392370.15it/s]\n",
      "Deconvolving chunks: 100%|████████████████████████| 1/1 [00:16<00:00, 16.69s/it]\n"
     ]
    },
    {
     "name": "stdout",
     "output_type": "stream",
     "text": [
      "Estimation for 0.05 and 0.060000000000000005 done\n",
      "It took: 16.779022693634033 seconds.\n",
      "[0.22791221959800015, 0.15132962175000012, 0.11800448271200008, 0.1772380903960001, 0.3255003098260002]\n"
     ]
    },
    {
     "name": "stderr",
     "output_type": "stream",
     "text": [
      "Initial filtering of formulas: 100%|█████████████| 5/5 [00:00<00:00, 264.12it/s]\n",
      "Computing chunks: 100%|███████████████████████| 5/5 [00:00<00:00, 153076.79it/s]\n",
      "Splitting the experimental spectrum into chunks: 27129it [00:00, 2837163.35it/s]\n",
      "Deconvolving chunks: 100%|████████████████████████| 1/1 [00:15<00:00, 15.54s/it]\n"
     ]
    },
    {
     "name": "stdout",
     "output_type": "stream",
     "text": [
      "Estimation for 0.05 and 0.06999999999999999 done\n",
      "It took: 15.601402759552002 seconds.\n",
      "[0.22910828045400014, 0.15237344963300012, 0.11852733189000009, 0.1654065151750001, 0.3269830875030002]\n"
     ]
    },
    {
     "name": "stderr",
     "output_type": "stream",
     "text": [
      "Initial filtering of formulas: 100%|█████████████| 5/5 [00:00<00:00, 238.01it/s]\n",
      "Computing chunks: 100%|███████████████████████| 5/5 [00:00<00:00, 167772.16it/s]\n",
      "Splitting the experimental spectrum into chunks: 27129it [00:00, 2052328.94it/s]\n",
      "Deconvolving chunks: 100%|████████████████████████| 1/1 [00:15<00:00, 15.61s/it]\n"
     ]
    },
    {
     "name": "stdout",
     "output_type": "stream",
     "text": [
      "Estimation for 0.05 and 0.08 done\n",
      "It took: 15.675548553466797 seconds.\n",
      "[0.22913103742900015, 0.15237917883900012, 0.11815532706100008, 0.1652395181450001, 0.3268900910750002]\n"
     ]
    },
    {
     "name": "stderr",
     "output_type": "stream",
     "text": [
      "Initial filtering of formulas: 100%|█████████████| 5/5 [00:00<00:00, 246.31it/s]\n",
      "Computing chunks: 100%|███████████████████████| 5/5 [00:00<00:00, 158875.15it/s]\n",
      "Splitting the experimental spectrum into chunks: 27129it [00:00, 2662188.79it/s]\n",
      "Deconvolving chunks: 100%|████████████████████████| 1/1 [00:23<00:00, 23.12s/it]\n"
     ]
    },
    {
     "name": "stdout",
     "output_type": "stream",
     "text": [
      "Estimation for 0.05 and 0.09 done\n",
      "It took: 23.194305419921875 seconds.\n",
      "[0.22919696352700017, 0.1522131742930001, 0.11799252901800009, 0.16514007820000012, 0.3267128029070002]\n"
     ]
    },
    {
     "name": "stderr",
     "output_type": "stream",
     "text": [
      "Initial filtering of formulas: 100%|██████████████| 5/5 [00:00<00:00, 89.81it/s]\n",
      "Computing chunks: 100%|████████████████████████| 5/5 [00:00<00:00, 73584.28it/s]\n",
      "Splitting the experimental spectrum into chunks: 27129it [00:00, 1327878.93it/s]\n",
      "Deconvolving chunks: 100%|████████████████████████| 1/1 [00:27<00:00, 27.88s/it]\n"
     ]
    },
    {
     "name": "stdout",
     "output_type": "stream",
     "text": [
      "Estimation for 0.05 and 0.09999999999999999 done\n",
      "It took: 28.042451858520508 seconds.\n",
      "[0.22927448317500015, 0.1518021680710001, 0.11790074016200008, 0.1652261245550001, 0.3264912567230002]\n"
     ]
    },
    {
     "name": "stderr",
     "output_type": "stream",
     "text": [
      "Initial filtering of formulas: 100%|█████████████| 5/5 [00:00<00:00, 215.15it/s]\n",
      "Computing chunks: 100%|████████████████████████| 5/5 [00:00<00:00, 58743.75it/s]\n",
      "Splitting the experimental spectrum into chunks: 27129it [00:00, 1469227.64it/s]\n",
      "Deconvolving chunks: 100%|████████████████████████| 1/1 [00:18<00:00, 18.01s/it]\n"
     ]
    },
    {
     "name": "stdout",
     "output_type": "stream",
     "text": [
      "Estimation for 0.05 and 0.11 done\n",
      "It took: 18.1094012260437 seconds.\n",
      "[0.22951318441400018, 0.1487473007040001, 0.11797357440900008, 0.1655020904000001, 0.32647028056100025]\n"
     ]
    },
    {
     "name": "stderr",
     "output_type": "stream",
     "text": [
      "Initial filtering of formulas: 100%|█████████████| 5/5 [00:00<00:00, 210.99it/s]\n",
      "Computing chunks: 100%|███████████████████████| 5/5 [00:00<00:00, 119837.26it/s]\n",
      "Splitting the experimental spectrum into chunks: 27129it [00:00, 2234452.78it/s]\n",
      "Deconvolving chunks: 100%|████████████████████████| 1/1 [00:18<00:00, 18.63s/it]\n"
     ]
    },
    {
     "name": "stdout",
     "output_type": "stream",
     "text": [
      "Estimation for 0.05 and 0.12 done\n",
      "It took: 18.721848249435425 seconds.\n",
      "[0.22951985218500018, 0.1482953216630001, 0.11804672396100008, 0.1655129715160001, 0.3262576416480002]\n"
     ]
    },
    {
     "name": "stderr",
     "output_type": "stream",
     "text": [
      "Initial filtering of formulas: 100%|█████████████| 5/5 [00:00<00:00, 204.29it/s]\n",
      "Computing chunks: 100%|████████████████████████| 5/5 [00:00<00:00, 81920.00it/s]\n",
      "Splitting the experimental spectrum into chunks: 27129it [00:00, 1687887.88it/s]\n",
      "Deconvolving chunks: 100%|████████████████████████| 1/1 [00:17<00:00, 17.23s/it]\n"
     ]
    },
    {
     "name": "stdout",
     "output_type": "stream",
     "text": [
      "Estimation for 0.05 and 0.13 done\n",
      "It took: 17.32709836959839 seconds.\n",
      "[0.22954215062500016, 0.14803020965800012, 0.11812092999400009, 0.1656021117500001, 0.32592742104200023]\n"
     ]
    },
    {
     "name": "stderr",
     "output_type": "stream",
     "text": [
      "Initial filtering of formulas: 100%|█████████████| 5/5 [00:00<00:00, 202.45it/s]\n",
      "Computing chunks: 100%|███████████████████████| 5/5 [00:00<00:00, 135300.13it/s]\n",
      "Splitting the experimental spectrum into chunks: 27129it [00:00, 2461968.78it/s]\n",
      "Deconvolving chunks: 100%|████████████████████████| 1/1 [00:22<00:00, 22.69s/it]\n"
     ]
    },
    {
     "name": "stdout",
     "output_type": "stream",
     "text": [
      "Estimation for 0.05 and 0.14 done\n",
      "It took: 22.777084589004517 seconds.\n",
      "[0.22959520963400018, 0.14781086650700012, 0.11818890135100009, 0.1657233018820001, 0.32552240905300023]\n"
     ]
    },
    {
     "name": "stderr",
     "output_type": "stream",
     "text": [
      "Initial filtering of formulas: 100%|█████████████| 5/5 [00:00<00:00, 126.30it/s]\n",
      "Computing chunks: 100%|████████████████████████| 5/5 [00:00<00:00, 38836.15it/s]\n",
      "Splitting the experimental spectrum into chunks: 27129it [00:00, 1475878.40it/s]\n",
      "Deconvolving chunks: 100%|████████████████████████| 1/1 [00:40<00:00, 40.02s/it]\n"
     ]
    },
    {
     "name": "stdout",
     "output_type": "stream",
     "text": [
      "Estimation for 0.05 and 0.15000000000000002 done\n",
      "It took: 40.1718053817749 seconds.\n",
      "[0.22967414685700016, 0.1475475554280001, 0.11826238622600008, 0.16571754311000012, 0.3250491038670002]\n"
     ]
    },
    {
     "name": "stderr",
     "output_type": "stream",
     "text": [
      "Initial filtering of formulas: 100%|█████████████| 5/5 [00:00<00:00, 244.49it/s]\n",
      "Computing chunks: 100%|███████████████████████| 5/5 [00:00<00:00, 103819.41it/s]\n",
      "Splitting the experimental spectrum into chunks: 27129it [00:00, 2491237.51it/s]\n",
      "Deconvolving chunks: 100%|████████████████████████| 1/1 [00:15<00:00, 15.68s/it]\n"
     ]
    },
    {
     "name": "stdout",
     "output_type": "stream",
     "text": [
      "Estimation for 0.05 and 0.16 done\n",
      "It took: 15.750122308731079 seconds.\n",
      "[0.22974858228200018, 0.1471818059060001, 0.11835327630700009, 0.1657129130220001, 0.32457783242100025]\n"
     ]
    },
    {
     "name": "stderr",
     "output_type": "stream",
     "text": [
      "Initial filtering of formulas: 100%|█████████████| 5/5 [00:00<00:00, 253.20it/s]\n",
      "Computing chunks: 100%|████████████████████████| 5/5 [00:00<00:00, 61680.94it/s]\n",
      "Splitting the experimental spectrum into chunks: 27129it [00:00, 2492874.87it/s]\n",
      "Deconvolving chunks: 100%|████████████████████████| 1/1 [00:15<00:00, 15.28s/it]\n"
     ]
    },
    {
     "name": "stdout",
     "output_type": "stream",
     "text": [
      "Estimation for 0.05 and 0.17 done\n",
      "It took: 15.355491876602173 seconds.\n",
      "[0.22981213450600016, 0.1469549070000001, 0.11843023367000008, 0.1658333091100001, 0.3240030192190002]\n"
     ]
    },
    {
     "name": "stderr",
     "output_type": "stream",
     "text": [
      "Initial filtering of formulas: 100%|█████████████| 5/5 [00:00<00:00, 208.65it/s]\n",
      "Computing chunks: 100%|███████████████████████| 5/5 [00:00<00:00, 167772.16it/s]\n",
      "Splitting the experimental spectrum into chunks: 27129it [00:00, 2116972.52it/s]\n",
      "Deconvolving chunks: 100%|████████████████████████| 1/1 [00:20<00:00, 20.72s/it]\n"
     ]
    },
    {
     "name": "stdout",
     "output_type": "stream",
     "text": [
      "Estimation for 0.05 and 0.18000000000000002 done\n",
      "It took: 20.801103591918945 seconds.\n",
      "[0.22985787518400017, 0.14664583090700012, 0.11851100427000008, 0.1658744865040001, 0.32350531929100024]\n"
     ]
    },
    {
     "name": "stderr",
     "output_type": "stream",
     "text": [
      "Initial filtering of formulas: 100%|█████████████| 5/5 [00:00<00:00, 132.74it/s]\n",
      "Computing chunks: 100%|████████████████████████| 5/5 [00:00<00:00, 33825.03it/s]\n",
      "Splitting the experimental spectrum into chunks: 27129it [00:00, 1511440.32it/s]\n",
      "Deconvolving chunks: 100%|████████████████████████| 1/1 [00:22<00:00, 22.83s/it]\n"
     ]
    },
    {
     "name": "stdout",
     "output_type": "stream",
     "text": [
      "Estimation for 0.05 and 0.19 done\n",
      "It took: 22.95407795906067 seconds.\n",
      "[0.22992106811100016, 0.1462667177240001, 0.11859430149700008, 0.16587012575800011, 0.32297196566500025]\n"
     ]
    },
    {
     "name": "stderr",
     "output_type": "stream",
     "text": [
      "Initial filtering of formulas: 100%|█████████████| 5/5 [00:00<00:00, 238.74it/s]\n",
      "Computing chunks: 100%|███████████████████████| 5/5 [00:00<00:00, 135300.13it/s]\n",
      "Splitting the experimental spectrum into chunks: 27129it [00:00, 2504507.15it/s]\n",
      "Deconvolving chunks: 100%|████████████████████████| 1/1 [00:15<00:00, 15.03s/it]\n"
     ]
    },
    {
     "name": "stdout",
     "output_type": "stream",
     "text": [
      "Estimation for 0.05 and 0.2 done\n",
      "It took: 15.106186151504517 seconds.\n",
      "[0.22997111628700018, 0.14557303975500008, 0.11866667816200008, 0.1659049800660001, 0.3225637736310002]\n"
     ]
    },
    {
     "name": "stderr",
     "output_type": "stream",
     "text": [
      "Initial filtering of formulas: 100%|█████████████| 5/5 [00:00<00:00, 254.17it/s]\n",
      "Computing chunks: 100%|███████████████████████| 5/5 [00:00<00:00, 110376.42it/s]\n",
      "Splitting the experimental spectrum into chunks: 27129it [00:00, 2522384.19it/s]\n",
      "Deconvolving chunks: 100%|████████████████████████| 1/1 [00:14<00:00, 14.89s/it]\n"
     ]
    },
    {
     "name": "stdout",
     "output_type": "stream",
     "text": [
      "Estimation for 0.05 and 0.21000000000000002 done\n",
      "It took: 14.955702304840088 seconds.\n",
      "[0.23000429157700017, 0.1450220959050001, 0.11873523893400008, 0.1659609418280001, 0.32209336009400025]\n"
     ]
    },
    {
     "name": "stderr",
     "output_type": "stream",
     "text": [
      "Initial filtering of formulas: 100%|█████████████| 5/5 [00:00<00:00, 259.97it/s]\n",
      "Computing chunks: 100%|████████████████████████| 5/5 [00:00<00:00, 66576.25it/s]\n",
      "Splitting the experimental spectrum into chunks: 27129it [00:00, 2316374.68it/s]\n",
      "Deconvolving chunks: 100%|████████████████████████| 1/1 [00:17<00:00, 17.68s/it]\n"
     ]
    },
    {
     "name": "stdout",
     "output_type": "stream",
     "text": [
      "Estimation for 0.05 and 0.22 done\n",
      "It took: 17.747180461883545 seconds.\n",
      "[0.23002331733100018, 0.1446223520300001, 0.11880302873000008, 0.1660657485000001, 0.32153689587700024]\n"
     ]
    },
    {
     "name": "stderr",
     "output_type": "stream",
     "text": [
      "Initial filtering of formulas: 100%|█████████████| 5/5 [00:00<00:00, 140.19it/s]\n",
      "Computing chunks: 100%|████████████████████████| 5/5 [00:00<00:00, 68534.38it/s]\n",
      "Splitting the experimental spectrum into chunks: 27129it [00:00, 1378988.95it/s]\n",
      "Deconvolving chunks: 100%|████████████████████████| 1/1 [00:22<00:00, 22.22s/it]\n"
     ]
    },
    {
     "name": "stdout",
     "output_type": "stream",
     "text": [
      "Estimation for 0.05 and 0.23 done\n",
      "It took: 22.32989239692688 seconds.\n",
      "[0.23000773634400018, 0.1443095330530001, 0.11884038540800008, 0.1663798370520001, 0.3211169354820002]\n"
     ]
    },
    {
     "name": "stderr",
     "output_type": "stream",
     "text": [
      "Initial filtering of formulas: 100%|█████████████| 5/5 [00:00<00:00, 248.87it/s]\n",
      "Computing chunks: 100%|████████████████████████| 5/5 [00:00<00:00, 21312.52it/s]\n",
      "Splitting the experimental spectrum into chunks: 27129it [00:00, 2496868.10it/s]\n",
      "Deconvolving chunks: 100%|████████████████████████| 1/1 [00:15<00:00, 15.76s/it]\n"
     ]
    },
    {
     "name": "stdout",
     "output_type": "stream",
     "text": [
      "Estimation for 0.05 and 0.24000000000000002 done\n",
      "It took: 15.82546091079712 seconds.\n",
      "[0.22995958627600016, 0.14432512074400008, 0.11885833894900008, 0.1664557388070001, 0.3211701294490002]\n"
     ]
    },
    {
     "name": "stderr",
     "output_type": "stream",
     "text": [
      "Initial filtering of formulas: 100%|█████████████| 5/5 [00:00<00:00, 261.37it/s]\n",
      "Computing chunks: 100%|███████████████████████| 5/5 [00:00<00:00, 119837.26it/s]\n",
      "Splitting the experimental spectrum into chunks: 27129it [00:00, 2757409.81it/s]\n",
      "Deconvolving chunks: 100%|████████████████████████| 1/1 [00:15<00:00, 15.39s/it]\n"
     ]
    },
    {
     "name": "stdout",
     "output_type": "stream",
     "text": [
      "Estimation for 0.05 and 0.25 done\n",
      "It took: 15.45359206199646 seconds.\n",
      "[0.22991580877000017, 0.14434088737400008, 0.11887156434700008, 0.1665206829850001, 0.32120756715100024]\n"
     ]
    },
    {
     "name": "stderr",
     "output_type": "stream",
     "text": [
      "Initial filtering of formulas: 100%|█████████████| 5/5 [00:00<00:00, 233.15it/s]\n",
      "Computing chunks: 100%|████████████████████████| 5/5 [00:00<00:00, 94466.31it/s]\n",
      "Splitting the experimental spectrum into chunks: 27129it [00:00, 2301196.70it/s]\n",
      "Deconvolving chunks: 100%|████████████████████████| 1/1 [00:18<00:00, 18.01s/it]\n"
     ]
    },
    {
     "name": "stdout",
     "output_type": "stream",
     "text": [
      "Estimation for 0.05 and 0.26 done\n",
      "It took: 18.081343173980713 seconds.\n",
      "[0.22989356078600018, 0.1443457880650001, 0.11888141098600008, 0.1665622344910001, 0.3212362859140002]\n"
     ]
    },
    {
     "name": "stderr",
     "output_type": "stream",
     "text": [
      "Initial filtering of formulas: 100%|█████████████| 5/5 [00:00<00:00, 233.09it/s]\n",
      "Computing chunks: 100%|███████████████████████| 5/5 [00:00<00:00, 101803.50it/s]\n",
      "Splitting the experimental spectrum into chunks: 27129it [00:00, 2042346.15it/s]\n",
      "Deconvolving chunks: 100%|████████████████████████| 1/1 [00:27<00:00, 27.62s/it]\n"
     ]
    },
    {
     "name": "stdout",
     "output_type": "stream",
     "text": [
      "Estimation for 0.05 and 0.27 done\n",
      "It took: 27.7115797996521 seconds.\n",
      "[0.22986917494200015, 0.1443610575360001, 0.11889677627700009, 0.16661961735700012, 0.32128004473400024]\n"
     ]
    },
    {
     "name": "stderr",
     "output_type": "stream",
     "text": [
      "Initial filtering of formulas: 100%|█████████████| 5/5 [00:00<00:00, 134.57it/s]\n",
      "Computing chunks: 100%|████████████████████████| 5/5 [00:00<00:00, 29248.98it/s]\n",
      "Splitting the experimental spectrum into chunks: 27129it [00:00, 1259084.83it/s]\n",
      "Deconvolving chunks: 100%|████████████████████████| 1/1 [00:20<00:00, 20.24s/it]\n"
     ]
    },
    {
     "name": "stdout",
     "output_type": "stream",
     "text": [
      "Estimation for 0.05 and 0.28 done\n",
      "It took: 20.38538432121277 seconds.\n",
      "[0.22984376870100018, 0.14436854004100008, 0.11891240805700008, 0.16667027699500012, 0.32132945880300023]\n"
     ]
    },
    {
     "name": "stderr",
     "output_type": "stream",
     "text": [
      "Initial filtering of formulas: 100%|█████████████| 5/5 [00:00<00:00, 215.89it/s]\n",
      "Computing chunks: 100%|████████████████████████| 5/5 [00:00<00:00, 36220.24it/s]\n",
      "Splitting the experimental spectrum into chunks: 27129it [00:00, 1872363.48it/s]\n",
      "Deconvolving chunks: 100%|████████████████████████| 1/1 [00:18<00:00, 18.15s/it]\n"
     ]
    },
    {
     "name": "stdout",
     "output_type": "stream",
     "text": [
      "Estimation for 0.05 and 0.29000000000000004 done\n",
      "It took: 18.25002360343933 seconds.\n",
      "[0.22981492033000017, 0.14437915727900008, 0.11892407989500009, 0.1667251641250001, 0.3213777970110002]\n"
     ]
    },
    {
     "name": "stderr",
     "output_type": "stream",
     "text": [
      "Initial filtering of formulas: 100%|█████████████| 5/5 [00:00<00:00, 206.89it/s]\n",
      "Computing chunks: 100%|███████████████████████| 5/5 [00:00<00:00, 112147.17it/s]\n",
      "Splitting the experimental spectrum into chunks: 27129it [00:00, 2024252.35it/s]\n",
      "Deconvolving chunks: 100%|████████████████████████| 1/1 [00:18<00:00, 18.65s/it]\n"
     ]
    },
    {
     "name": "stdout",
     "output_type": "stream",
     "text": [
      "Estimation for 0.05 and 0.3 done\n",
      "It took: 18.74061393737793 seconds.\n",
      "[0.22977537503800016, 0.14439331155000007, 0.11893931608000008, 0.16679006310200012, 0.3214275898240002]\n"
     ]
    },
    {
     "name": "stderr",
     "output_type": "stream",
     "text": [
      "Initial filtering of formulas: 100%|█████████████| 5/5 [00:00<00:00, 200.85it/s]\n",
      "Computing chunks: 100%|███████████████████████| 5/5 [00:00<00:00, 120525.98it/s]\n",
      "Splitting the experimental spectrum into chunks: 27129it [00:00, 2205863.70it/s]\n",
      "Deconvolving chunks: 100%|████████████████████████| 1/1 [00:19<00:00, 19.42s/it]\n"
     ]
    },
    {
     "name": "stdout",
     "output_type": "stream",
     "text": [
      "Estimation for 0.060000000000000005 and 0.01 done\n",
      "It took: 19.499416828155518 seconds.\n",
      "[0.21755084554200013, 0.1842519119180001, 0.11203796674500006, 0.1721534951830001, 0.31400578061200024]\n"
     ]
    },
    {
     "name": "stderr",
     "output_type": "stream",
     "text": [
      "Initial filtering of formulas: 100%|█████████████| 5/5 [00:00<00:00, 202.57it/s]\n",
      "Computing chunks: 100%|████████████████████████| 5/5 [00:00<00:00, 70374.23it/s]\n",
      "Splitting the experimental spectrum into chunks: 27129it [00:00, 2207875.38it/s]\n",
      "Deconvolving chunks: 100%|████████████████████████| 1/1 [00:27<00:00, 27.11s/it]\n"
     ]
    },
    {
     "name": "stdout",
     "output_type": "stream",
     "text": [
      "Estimation for 0.060000000000000005 and 0.02 done\n",
      "It took: 27.213936805725098 seconds.\n",
      "[0.22749747499800013, 0.15057183637400012, 0.11728689957200009, 0.1773559218180001, 0.32728786723800024]\n"
     ]
    },
    {
     "name": "stderr",
     "output_type": "stream",
     "text": [
      "Initial filtering of formulas: 100%|█████████████| 5/5 [00:00<00:00, 119.91it/s]\n",
      "Computing chunks: 100%|████████████████████████| 5/5 [00:00<00:00, 22192.08it/s]\n",
      "Splitting the experimental spectrum into chunks: 27129it [00:00, 1051861.98it/s]\n",
      "Deconvolving chunks: 100%|████████████████████████| 1/1 [00:19<00:00, 19.70s/it]\n"
     ]
    },
    {
     "name": "stdout",
     "output_type": "stream",
     "text": [
      "Estimation for 0.060000000000000005 and 0.03 done\n",
      "It took: 19.868075132369995 seconds.\n",
      "[0.22773846947000015, 0.15085527514200012, 0.11753960541000008, 0.1770456446430001, 0.32682100533500025]\n"
     ]
    },
    {
     "name": "stderr",
     "output_type": "stream",
     "text": [
      "Initial filtering of formulas: 100%|█████████████| 5/5 [00:00<00:00, 242.46it/s]\n",
      "Computing chunks: 100%|████████████████████████| 5/5 [00:00<00:00, 71575.15it/s]\n",
      "Splitting the experimental spectrum into chunks: 27129it [00:00, 2481674.84it/s]\n",
      "Deconvolving chunks: 100%|████████████████████████| 1/1 [00:16<00:00, 16.37s/it]\n"
     ]
    },
    {
     "name": "stdout",
     "output_type": "stream",
     "text": [
      "Estimation for 0.060000000000000005 and 0.04 done\n",
      "It took: 16.43780279159546 seconds.\n",
      "[0.22792690637900015, 0.15107391778000012, 0.11773124674100008, 0.17717095468800012, 0.3260969744120002]\n"
     ]
    },
    {
     "name": "stderr",
     "output_type": "stream",
     "text": [
      "Initial filtering of formulas: 100%|█████████████| 5/5 [00:00<00:00, 250.43it/s]\n",
      "Computing chunks: 100%|███████████████████████| 5/5 [00:00<00:00, 129453.83it/s]\n",
      "Splitting the experimental spectrum into chunks: 27129it [00:00, 2584958.16it/s]\n",
      "Deconvolving chunks: 100%|████████████████████████| 1/1 [00:15<00:00, 15.53s/it]\n"
     ]
    },
    {
     "name": "stdout",
     "output_type": "stream",
     "text": [
      "Estimation for 0.060000000000000005 and 0.05 done\n",
      "It took: 15.59243655204773 seconds.\n",
      "[0.22800614495500013, 0.1511773893160001, 0.11784200944000009, 0.1771073672140001, 0.3258670890750002]\n"
     ]
    },
    {
     "name": "stderr",
     "output_type": "stream",
     "text": [
      "Initial filtering of formulas: 100%|█████████████| 5/5 [00:00<00:00, 240.14it/s]\n",
      "Computing chunks: 100%|███████████████████████| 5/5 [00:00<00:00, 171897.70it/s]\n",
      "Splitting the experimental spectrum into chunks: 27129it [00:00, 2552256.99it/s]\n",
      "Deconvolving chunks: 100%|████████████████████████| 1/1 [00:27<00:00, 27.98s/it]\n"
     ]
    },
    {
     "name": "stdout",
     "output_type": "stream",
     "text": [
      "Estimation for 0.060000000000000005 and 0.060000000000000005 done\n",
      "It took: 28.04411482810974 seconds.\n",
      "[0.22791342622200014, 0.15134016525300012, 0.11800515032200008, 0.1772390948450001, 0.3255021633580002]\n"
     ]
    },
    {
     "name": "stderr",
     "output_type": "stream",
     "text": [
      "Initial filtering of formulas: 100%|█████████████| 5/5 [00:00<00:00, 234.78it/s]\n",
      "Computing chunks: 100%|████████████████████████| 5/5 [00:00<00:00, 94042.69it/s]\n",
      "Splitting the experimental spectrum into chunks: 27129it [00:00, 2356380.82it/s]\n",
      "Deconvolving chunks: 100%|████████████████████████| 1/1 [00:16<00:00, 16.23s/it]\n"
     ]
    },
    {
     "name": "stdout",
     "output_type": "stream",
     "text": [
      "Estimation for 0.060000000000000005 and 0.06999999999999999 done\n",
      "It took: 16.30404305458069 seconds.\n",
      "[0.22785881068300015, 0.1515704520090001, 0.11822816222900008, 0.1770364514150001, 0.3253061236630002]\n"
     ]
    },
    {
     "name": "stderr",
     "output_type": "stream",
     "text": [
      "Initial filtering of formulas: 100%|█████████████| 5/5 [00:00<00:00, 225.98it/s]\n",
      "Computing chunks: 100%|████████████████████████| 5/5 [00:00<00:00, 79739.62it/s]\n",
      "Splitting the experimental spectrum into chunks: 27129it [00:00, 2201893.94it/s]\n",
      "Deconvolving chunks: 100%|████████████████████████| 1/1 [00:15<00:00, 15.15s/it]\n"
     ]
    },
    {
     "name": "stdout",
     "output_type": "stream",
     "text": [
      "Estimation for 0.060000000000000005 and 0.08 done\n",
      "It took: 15.220669984817505 seconds.\n",
      "[0.22896678892200015, 0.15238268504200012, 0.11890611286800008, 0.16564719936200012, 0.3269234470240002]\n"
     ]
    },
    {
     "name": "stderr",
     "output_type": "stream",
     "text": [
      "Initial filtering of formulas: 100%|█████████████| 5/5 [00:00<00:00, 259.47it/s]\n",
      "Computing chunks: 100%|███████████████████████| 5/5 [00:00<00:00, 160087.94it/s]\n",
      "Splitting the experimental spectrum into chunks: 27129it [00:00, 2766796.51it/s]\n",
      "Deconvolving chunks: 100%|████████████████████████| 1/1 [00:14<00:00, 14.89s/it]\n"
     ]
    },
    {
     "name": "stdout",
     "output_type": "stream",
     "text": [
      "Estimation for 0.060000000000000005 and 0.09 done\n",
      "It took: 14.957736253738403 seconds.\n",
      "[0.22906121139100014, 0.1524646488450001, 0.11842838117400008, 0.1656662332220001, 0.3268329640490002]\n"
     ]
    },
    {
     "name": "stderr",
     "output_type": "stream",
     "text": [
      "Initial filtering of formulas: 100%|█████████████| 5/5 [00:00<00:00, 270.07it/s]\n",
      "Computing chunks: 100%|████████████████████████| 5/5 [00:00<00:00, 95760.37it/s]\n",
      "Splitting the experimental spectrum into chunks: 27129it [00:00, 2762967.08it/s]\n",
      "Deconvolving chunks: 100%|████████████████████████| 1/1 [00:19<00:00, 19.87s/it]\n"
     ]
    },
    {
     "name": "stdout",
     "output_type": "stream",
     "text": [
      "Estimation for 0.060000000000000005 and 0.09999999999999999 done\n",
      "It took: 19.938466548919678 seconds.\n",
      "[0.22914335904000013, 0.1525746728560001, 0.11812625595400009, 0.1654565701660001, 0.32673791185500023]\n"
     ]
    },
    {
     "name": "stderr",
     "output_type": "stream",
     "text": [
      "Initial filtering of formulas: 100%|█████████████| 5/5 [00:00<00:00, 123.41it/s]\n",
      "Computing chunks: 100%|████████████████████████| 5/5 [00:00<00:00, 58416.49it/s]\n",
      "Splitting the experimental spectrum into chunks: 27129it [00:00, 1585244.61it/s]\n",
      "Deconvolving chunks: 100%|████████████████████████| 1/1 [00:17<00:00, 17.82s/it]\n"
     ]
    },
    {
     "name": "stdout",
     "output_type": "stream",
     "text": [
      "Estimation for 0.060000000000000005 and 0.11 done\n",
      "It took: 17.942938327789307 seconds.\n",
      "[0.22913840472500013, 0.1525731364580001, 0.11807271252800008, 0.1655543958370001, 0.3265043613580002]\n"
     ]
    },
    {
     "name": "stderr",
     "output_type": "stream",
     "text": [
      "Initial filtering of formulas: 100%|█████████████| 5/5 [00:00<00:00, 260.04it/s]\n",
      "Computing chunks: 100%|████████████████████████| 5/5 [00:00<00:00, 97997.76it/s]\n",
      "Splitting the experimental spectrum into chunks: 27129it [00:00, 2739485.58it/s]\n",
      "Deconvolving chunks: 100%|████████████████████████| 1/1 [00:14<00:00, 14.81s/it]\n"
     ]
    },
    {
     "name": "stdout",
     "output_type": "stream",
     "text": [
      "Estimation for 0.060000000000000005 and 0.12 done\n",
      "It took: 14.879365921020508 seconds.\n",
      "[0.22912231755300014, 0.1524409302090001, 0.11795299145800009, 0.1656916985160001, 0.3262975417020002]\n"
     ]
    },
    {
     "name": "stderr",
     "output_type": "stream",
     "text": [
      "Initial filtering of formulas: 100%|█████████████| 5/5 [00:00<00:00, 200.81it/s]\n",
      "Computing chunks: 100%|███████████████████████| 5/5 [00:00<00:00, 156503.88it/s]\n",
      "Splitting the experimental spectrum into chunks: 27129it [00:00, 2538194.81it/s]\n",
      "Deconvolving chunks: 100%|████████████████████████| 1/1 [00:15<00:00, 15.71s/it]\n"
     ]
    },
    {
     "name": "stdout",
     "output_type": "stream",
     "text": [
      "Estimation for 0.060000000000000005 and 0.13 done\n",
      "It took: 15.781259059906006 seconds.\n",
      "[0.22925974074800018, 0.1515543925500001, 0.11792232356000008, 0.1656554787990001, 0.32615297064100024]\n"
     ]
    },
    {
     "name": "stderr",
     "output_type": "stream",
     "text": [
      "Initial filtering of formulas: 100%|█████████████| 5/5 [00:00<00:00, 259.07it/s]\n",
      "Computing chunks: 100%|███████████████████████| 5/5 [00:00<00:00, 119837.26it/s]\n",
      "Splitting the experimental spectrum into chunks: 27129it [00:00, 2626304.60it/s]\n",
      "Deconvolving chunks: 100%|████████████████████████| 1/1 [00:22<00:00, 22.19s/it]\n"
     ]
    },
    {
     "name": "stdout",
     "output_type": "stream",
     "text": [
      "Estimation for 0.060000000000000005 and 0.14 done\n",
      "It took: 22.25997257232666 seconds.\n",
      "[0.22949258725300017, 0.14893512007000012, 0.11802004513400008, 0.1656750948410001, 0.32618991590000024]\n"
     ]
    },
    {
     "name": "stderr",
     "output_type": "stream",
     "text": [
      "Initial filtering of formulas: 100%|█████████████| 5/5 [00:00<00:00, 127.39it/s]\n",
      "Computing chunks: 100%|████████████████████████| 5/5 [00:00<00:00, 43062.67it/s]\n",
      "Splitting the experimental spectrum into chunks: 27129it [00:00, 1491998.60it/s]\n",
      "Deconvolving chunks: 100%|████████████████████████| 1/1 [00:26<00:00, 26.47s/it]\n"
     ]
    },
    {
     "name": "stdout",
     "output_type": "stream",
     "text": [
      "Estimation for 0.060000000000000005 and 0.15000000000000002 done\n",
      "It took: 26.601975440979004 seconds.\n",
      "[0.22954264772500016, 0.1485871695580001, 0.11808740779700008, 0.1657047008740001, 0.32600474633400023]\n"
     ]
    },
    {
     "name": "stderr",
     "output_type": "stream",
     "text": [
      "Initial filtering of formulas: 100%|█████████████| 5/5 [00:00<00:00, 137.76it/s]\n",
      "Computing chunks: 100%|████████████████████████| 5/5 [00:00<00:00, 58416.49it/s]\n",
      "Splitting the experimental spectrum into chunks: 27129it [00:00, 1697886.70it/s]\n",
      "Deconvolving chunks: 100%|████████████████████████| 1/1 [00:21<00:00, 21.59s/it]\n"
     ]
    },
    {
     "name": "stdout",
     "output_type": "stream",
     "text": [
      "Estimation for 0.060000000000000005 and 0.16 done\n",
      "It took: 21.711350679397583 seconds.\n",
      "[0.22960018750900016, 0.14835119916600012, 0.11815945368800009, 0.16580240262000012, 0.32569657119700024]\n"
     ]
    },
    {
     "name": "stderr",
     "output_type": "stream",
     "text": [
      "Initial filtering of formulas: 100%|█████████████| 5/5 [00:00<00:00, 204.54it/s]\n",
      "Computing chunks: 100%|███████████████████████| 5/5 [00:00<00:00, 110960.42it/s]\n",
      "Splitting the experimental spectrum into chunks: 27129it [00:00, 1902097.44it/s]\n",
      "Deconvolving chunks: 100%|████████████████████████| 1/1 [00:17<00:00, 17.69s/it]\n"
     ]
    },
    {
     "name": "stdout",
     "output_type": "stream",
     "text": [
      "Estimation for 0.060000000000000005 and 0.17 done\n",
      "It took: 17.808974027633667 seconds.\n",
      "[0.22965587628000017, 0.1481056312710001, 0.11824493646900008, 0.1656728774770001, 0.3254200306790002]\n"
     ]
    },
    {
     "name": "stderr",
     "output_type": "stream",
     "text": [
      "Initial filtering of formulas: 100%|█████████████| 5/5 [00:00<00:00, 228.79it/s]\n",
      "Computing chunks: 100%|████████████████████████| 5/5 [00:00<00:00, 92794.34it/s]\n",
      "Splitting the experimental spectrum into chunks: 27129it [00:00, 2332949.38it/s]\n",
      "Deconvolving chunks: 100%|████████████████████████| 1/1 [00:17<00:00, 17.86s/it]\n"
     ]
    },
    {
     "name": "stdout",
     "output_type": "stream",
     "text": [
      "Estimation for 0.060000000000000005 and 0.18000000000000002 done\n",
      "It took: 17.93678593635559 seconds.\n",
      "[0.22970899445900017, 0.1478643935770001, 0.11831629152500009, 0.16565058292400012, 0.3250637545220002]\n"
     ]
    },
    {
     "name": "stderr",
     "output_type": "stream",
     "text": [
      "Initial filtering of formulas: 100%|█████████████| 5/5 [00:00<00:00, 220.95it/s]\n",
      "Computing chunks: 100%|███████████████████████| 5/5 [00:00<00:00, 160087.94it/s]\n",
      "Splitting the experimental spectrum into chunks: 27129it [00:00, 2439535.90it/s]\n",
      "Deconvolving chunks: 100%|████████████████████████| 1/1 [00:16<00:00, 16.56s/it]\n"
     ]
    },
    {
     "name": "stdout",
     "output_type": "stream",
     "text": [
      "Estimation for 0.060000000000000005 and 0.19 done\n",
      "It took: 16.632052183151245 seconds.\n",
      "[0.22975321079900016, 0.14745978827000011, 0.11838681907800008, 0.16570236384600012, 0.3246264046250002]\n"
     ]
    },
    {
     "name": "stderr",
     "output_type": "stream",
     "text": [
      "Initial filtering of formulas: 100%|█████████████| 5/5 [00:00<00:00, 225.39it/s]\n",
      "Computing chunks: 100%|████████████████████████| 5/5 [00:00<00:00, 60611.33it/s]\n",
      "Splitting the experimental spectrum into chunks: 27129it [00:00, 2329653.65it/s]\n",
      "Deconvolving chunks: 100%|████████████████████████| 1/1 [00:21<00:00, 21.09s/it]\n"
     ]
    },
    {
     "name": "stdout",
     "output_type": "stream",
     "text": [
      "Estimation for 0.060000000000000005 and 0.2 done\n",
      "It took: 21.162933111190796 seconds.\n",
      "[0.22978304434200017, 0.1472617245110001, 0.11845562234600009, 0.1655328761980001, 0.3243142479620002]\n"
     ]
    },
    {
     "name": "stderr",
     "output_type": "stream",
     "text": [
      "Initial filtering of formulas: 100%|█████████████| 5/5 [00:00<00:00, 253.24it/s]\n",
      "Computing chunks: 100%|███████████████████████| 5/5 [00:00<00:00, 117159.33it/s]\n",
      "Splitting the experimental spectrum into chunks: 27129it [00:00, 2551799.09it/s]\n",
      "Deconvolving chunks: 100%|████████████████████████| 1/1 [00:15<00:00, 15.37s/it]\n"
     ]
    },
    {
     "name": "stdout",
     "output_type": "stream",
     "text": [
      "Estimation for 0.060000000000000005 and 0.21000000000000002 done\n",
      "It took: 15.434823274612427 seconds.\n",
      "[0.22979316159900018, 0.1469343429740001, 0.11852862335500008, 0.1654541666950001, 0.3240282856440002]\n"
     ]
    },
    {
     "name": "stderr",
     "output_type": "stream",
     "text": [
      "Initial filtering of formulas: 100%|█████████████| 5/5 [00:00<00:00, 242.72it/s]\n",
      "Computing chunks: 100%|███████████████████████| 5/5 [00:00<00:00, 102300.10it/s]\n",
      "Splitting the experimental spectrum into chunks: 27129it [00:00, 2632441.25it/s]\n",
      "Deconvolving chunks: 100%|████████████████████████| 1/1 [00:14<00:00, 14.55s/it]\n"
     ]
    },
    {
     "name": "stdout",
     "output_type": "stream",
     "text": [
      "Estimation for 0.060000000000000005 and 0.22 done\n",
      "It took: 14.615401268005371 seconds.\n",
      "[0.22982959713500017, 0.1464521110920001, 0.11858826817200008, 0.1654473622440001, 0.32372305805200025]\n"
     ]
    },
    {
     "name": "stderr",
     "output_type": "stream",
     "text": [
      "Initial filtering of formulas: 100%|█████████████| 5/5 [00:00<00:00, 249.96it/s]\n",
      "Computing chunks: 100%|███████████████████████| 5/5 [00:00<00:00, 188932.61it/s]\n",
      "Splitting the experimental spectrum into chunks: 27129it [00:00, 2665993.61it/s]\n",
      "Deconvolving chunks: 100%|████████████████████████| 1/1 [00:17<00:00, 17.54s/it]\n"
     ]
    },
    {
     "name": "stdout",
     "output_type": "stream",
     "text": [
      "Estimation for 0.060000000000000005 and 0.23 done\n",
      "It took: 17.610363960266113 seconds.\n",
      "[0.22986709221700016, 0.1458212240510001, 0.11865964014200009, 0.1655043140250001, 0.32332230077000024]\n"
     ]
    },
    {
     "name": "stderr",
     "output_type": "stream",
     "text": [
      "Initial filtering of formulas: 100%|█████████████| 5/5 [00:00<00:00, 182.70it/s]\n",
      "Computing chunks: 100%|███████████████████████| 5/5 [00:00<00:00, 117817.53it/s]\n",
      "Splitting the experimental spectrum into chunks: 27129it [00:00, 2140991.46it/s]\n",
      "Deconvolving chunks: 100%|████████████████████████| 1/1 [00:20<00:00, 20.57s/it]\n"
     ]
    },
    {
     "name": "stdout",
     "output_type": "stream",
     "text": [
      "Estimation for 0.060000000000000005 and 0.24000000000000002 done\n",
      "It took: 20.654492378234863 seconds.\n",
      "[0.22988965310200016, 0.14521140842600008, 0.11871332016100009, 0.1657132683800001, 0.32289742237500024]\n"
     ]
    },
    {
     "name": "stderr",
     "output_type": "stream",
     "text": [
      "Initial filtering of formulas: 100%|█████████████| 5/5 [00:00<00:00, 195.46it/s]\n",
      "Computing chunks: 100%|███████████████████████| 5/5 [00:00<00:00, 121222.66it/s]\n",
      "Splitting the experimental spectrum into chunks: 27129it [00:00, 1441695.68it/s]\n",
      "Deconvolving chunks: 100%|████████████████████████| 1/1 [00:16<00:00, 16.90s/it]\n"
     ]
    },
    {
     "name": "stdout",
     "output_type": "stream",
     "text": [
      "Estimation for 0.060000000000000005 and 0.25 done\n",
      "It took: 16.995410680770874 seconds.\n",
      "[0.22991341380300018, 0.14481422992600007, 0.11875220133500008, 0.16608335624500012, 0.3222727858160002]\n"
     ]
    },
    {
     "name": "stderr",
     "output_type": "stream",
     "text": [
      "Initial filtering of formulas: 100%|█████████████| 5/5 [00:00<00:00, 249.05it/s]\n",
      "Computing chunks: 100%|████████████████████████| 5/5 [00:00<00:00, 61320.23it/s]\n",
      "Splitting the experimental spectrum into chunks: 27129it [00:00, 2463247.89it/s]\n",
      "Deconvolving chunks: 100%|████████████████████████| 1/1 [00:15<00:00, 15.70s/it]\n"
     ]
    },
    {
     "name": "stdout",
     "output_type": "stream",
     "text": [
      "Estimation for 0.060000000000000005 and 0.26 done\n",
      "It took: 15.769407987594604 seconds.\n",
      "[0.22992041710400016, 0.14457160338900008, 0.11878124860200008, 0.1663221590130001, 0.3219461546750002]\n"
     ]
    },
    {
     "name": "stderr",
     "output_type": "stream",
     "text": [
      "Initial filtering of formulas: 100%|█████████████| 5/5 [00:00<00:00, 245.37it/s]\n",
      "Computing chunks: 100%|████████████████████████| 5/5 [00:00<00:00, 83886.08it/s]\n",
      "Splitting the experimental spectrum into chunks: 27129it [00:00, 2551398.57it/s]\n",
      "Deconvolving chunks: 100%|████████████████████████| 1/1 [00:17<00:00, 17.30s/it]\n"
     ]
    },
    {
     "name": "stdout",
     "output_type": "stream",
     "text": [
      "Estimation for 0.060000000000000005 and 0.27 done\n",
      "It took: 17.3636691570282 seconds.\n",
      "[0.22989508116800017, 0.14458323223900008, 0.11879495943600009, 0.16637303982400012, 0.3219926873360002]\n"
     ]
    },
    {
     "name": "stderr",
     "output_type": "stream",
     "text": [
      "Initial filtering of formulas: 100%|█████████████| 5/5 [00:00<00:00, 242.07it/s]\n",
      "Computing chunks: 100%|███████████████████████| 5/5 [00:00<00:00, 128659.63it/s]\n",
      "Splitting the experimental spectrum into chunks: 27129it [00:00, 2656036.82it/s]\n",
      "Deconvolving chunks: 100%|████████████████████████| 1/1 [00:19<00:00, 19.76s/it]\n"
     ]
    },
    {
     "name": "stdout",
     "output_type": "stream",
     "text": [
      "Estimation for 0.060000000000000005 and 0.28 done\n",
      "It took: 19.828144073486328 seconds.\n",
      "[0.22987252931200017, 0.14459365274600008, 0.11881023259600008, 0.16642299195300012, 0.32203877352400023]\n"
     ]
    },
    {
     "name": "stderr",
     "output_type": "stream",
     "text": [
      "Initial filtering of formulas: 100%|█████████████| 5/5 [00:00<00:00, 124.20it/s]\n",
      "Computing chunks: 100%|████████████████████████| 5/5 [00:00<00:00, 57932.38it/s]\n",
      "Splitting the experimental spectrum into chunks: 27129it [00:00, 1970171.82it/s]\n",
      "Deconvolving chunks: 100%|████████████████████████| 1/1 [00:15<00:00, 15.33s/it]\n"
     ]
    },
    {
     "name": "stdout",
     "output_type": "stream",
     "text": [
      "Estimation for 0.060000000000000005 and 0.29000000000000004 done\n",
      "It took: 15.438472032546997 seconds.\n",
      "[0.22985082399900017, 0.14460392759500007, 0.11882321573900008, 0.16647259097700012, 0.3220892932090002]\n"
     ]
    },
    {
     "name": "stderr",
     "output_type": "stream",
     "text": [
      "Initial filtering of formulas: 100%|█████████████| 5/5 [00:00<00:00, 266.36it/s]\n",
      "Computing chunks: 100%|████████████████████████| 5/5 [00:00<00:00, 47446.88it/s]\n",
      "Splitting the experimental spectrum into chunks: 27129it [00:00, 2819028.67it/s]\n",
      "Deconvolving chunks: 100%|████████████████████████| 1/1 [00:16<00:00, 16.62s/it]\n"
     ]
    },
    {
     "name": "stdout",
     "output_type": "stream",
     "text": [
      "Estimation for 0.060000000000000005 and 0.3 done\n",
      "It took: 16.694382667541504 seconds.\n",
      "[0.22980300477300017, 0.14461650164800008, 0.11883722980200008, 0.1665378502470001, 0.3221240144070002]\n"
     ]
    },
    {
     "name": "stderr",
     "output_type": "stream",
     "text": [
      "Initial filtering of formulas: 100%|█████████████| 5/5 [00:00<00:00, 180.42it/s]\n",
      "Computing chunks: 100%|████████████████████████| 5/5 [00:00<00:00, 88862.37it/s]\n",
      "Splitting the experimental spectrum into chunks: 27129it [00:00, 2308151.92it/s]\n",
      "Deconvolving chunks: 100%|████████████████████████| 1/1 [00:27<00:00, 27.48s/it]\n"
     ]
    },
    {
     "name": "stdout",
     "output_type": "stream",
     "text": [
      "Estimation for 0.06999999999999999 and 0.01 done\n",
      "It took: 27.574658393859863 seconds.\n",
      "[0.21755084554200013, 0.1842519119180001, 0.11203796674500006, 0.1721534951830001, 0.31400578061200024]\n"
     ]
    },
    {
     "name": "stderr",
     "output_type": "stream",
     "text": [
      "Initial filtering of formulas: 100%|█████████████| 5/5 [00:00<00:00, 133.25it/s]\n",
      "Computing chunks: 100%|████████████████████████| 5/5 [00:00<00:00, 27165.18it/s]\n",
      "Splitting the experimental spectrum into chunks: 27129it [00:00, 1601667.63it/s]\n",
      "Deconvolving chunks: 100%|████████████████████████| 1/1 [00:28<00:00, 28.87s/it]\n"
     ]
    },
    {
     "name": "stdout",
     "output_type": "stream",
     "text": [
      "Estimation for 0.06999999999999999 and 0.02 done\n",
      "It took: 29.009857892990112 seconds.\n",
      "[0.22749747499800013, 0.15057183637400012, 0.11728689957200009, 0.1773559218180001, 0.32728786723800024]\n"
     ]
    },
    {
     "name": "stderr",
     "output_type": "stream",
     "text": [
      "Initial filtering of formulas: 100%|█████████████| 5/5 [00:00<00:00, 209.68it/s]\n",
      "Computing chunks: 100%|████████████████████████| 5/5 [00:00<00:00, 59074.70it/s]\n",
      "Splitting the experimental spectrum into chunks: 27129it [00:00, 2137572.76it/s]\n",
      "Deconvolving chunks: 100%|████████████████████████| 1/1 [00:20<00:00, 20.28s/it]\n"
     ]
    },
    {
     "name": "stdout",
     "output_type": "stream",
     "text": [
      "Estimation for 0.06999999999999999 and 0.03 done\n",
      "It took: 20.373319387435913 seconds.\n",
      "[0.22773846947000015, 0.15085527514200012, 0.11753960541000008, 0.1770456446430001, 0.32682100533500025]\n"
     ]
    },
    {
     "name": "stderr",
     "output_type": "stream",
     "text": [
      "Initial filtering of formulas: 100%|█████████████| 5/5 [00:00<00:00, 222.01it/s]\n",
      "Computing chunks: 100%|████████████████████████| 5/5 [00:00<00:00, 89621.88it/s]\n",
      "Splitting the experimental spectrum into chunks: 27129it [00:00, 2131286.84it/s]\n",
      "Deconvolving chunks: 100%|████████████████████████| 1/1 [00:18<00:00, 18.36s/it]\n"
     ]
    },
    {
     "name": "stdout",
     "output_type": "stream",
     "text": [
      "Estimation for 0.06999999999999999 and 0.04 done\n",
      "It took: 18.44385266304016 seconds.\n",
      "[0.22792690637900015, 0.15107391778000012, 0.11773124674100008, 0.17717095468800012, 0.3260969744120002]\n"
     ]
    },
    {
     "name": "stderr",
     "output_type": "stream",
     "text": [
      "Initial filtering of formulas: 100%|█████████████| 5/5 [00:00<00:00, 132.93it/s]\n",
      "Computing chunks: 100%|████████████████████████| 5/5 [00:00<00:00, 41282.52it/s]\n",
      "Splitting the experimental spectrum into chunks: 27129it [00:00, 1443597.89it/s]\n",
      "Deconvolving chunks: 100%|████████████████████████| 1/1 [00:18<00:00, 18.99s/it]\n"
     ]
    },
    {
     "name": "stdout",
     "output_type": "stream",
     "text": [
      "Estimation for 0.06999999999999999 and 0.05 done\n",
      "It took: 19.106377124786377 seconds.\n",
      "[0.22800614495500013, 0.1511773893160001, 0.11784200944000009, 0.1771073672140001, 0.3258670890750002]\n"
     ]
    },
    {
     "name": "stderr",
     "output_type": "stream",
     "text": [
      "Initial filtering of formulas: 100%|█████████████| 5/5 [00:00<00:00, 214.88it/s]\n",
      "Computing chunks: 100%|███████████████████████| 5/5 [00:00<00:00, 107546.26it/s]\n",
      "Splitting the experimental spectrum into chunks: 27129it [00:00, 2315431.97it/s]\n",
      "Deconvolving chunks: 100%|████████████████████████| 1/1 [00:19<00:00, 19.10s/it]\n"
     ]
    },
    {
     "name": "stdout",
     "output_type": "stream",
     "text": [
      "Estimation for 0.06999999999999999 and 0.060000000000000005 done\n",
      "It took: 19.19334840774536 seconds.\n",
      "[0.22791342622200014, 0.15134016525300012, 0.11800515032200008, 0.1772390948450001, 0.3255021633580002]\n"
     ]
    },
    {
     "name": "stderr",
     "output_type": "stream",
     "text": [
      "Initial filtering of formulas: 100%|█████████████| 5/5 [00:00<00:00, 165.97it/s]\n",
      "Computing chunks: 100%|████████████████████████| 5/5 [00:00<00:00, 99864.38it/s]\n",
      "Splitting the experimental spectrum into chunks: 27129it [00:00, 1508754.85it/s]\n",
      "Deconvolving chunks: 100%|████████████████████████| 1/1 [00:19<00:00, 19.85s/it]\n"
     ]
    },
    {
     "name": "stdout",
     "output_type": "stream",
     "text": [
      "Estimation for 0.06999999999999999 and 0.06999999999999999 done\n",
      "It took: 19.948540210723877 seconds.\n",
      "[0.22785881068300015, 0.1515704520090001, 0.11822816222900008, 0.1770364514150001, 0.3253061236630002]\n"
     ]
    },
    {
     "name": "stderr",
     "output_type": "stream",
     "text": [
      "Initial filtering of formulas: 100%|█████████████| 5/5 [00:00<00:00, 108.06it/s]\n",
      "Computing chunks: 100%|████████████████████████| 5/5 [00:00<00:00, 85598.04it/s]\n",
      "Splitting the experimental spectrum into chunks: 27129it [00:00, 1246587.64it/s]\n",
      "Deconvolving chunks: 100%|████████████████████████| 1/1 [00:16<00:00, 16.64s/it]\n"
     ]
    },
    {
     "name": "stdout",
     "output_type": "stream",
     "text": [
      "Estimation for 0.06999999999999999 and 0.08 done\n",
      "It took: 16.76778507232666 seconds.\n",
      "[0.22780351728000015, 0.15160544045800012, 0.11831141473700009, 0.17701688002900012, 0.32526274749700024]\n"
     ]
    },
    {
     "name": "stderr",
     "output_type": "stream",
     "text": [
      "Initial filtering of formulas: 100%|█████████████| 5/5 [00:00<00:00, 256.90it/s]\n",
      "Computing chunks: 100%|████████████████████████| 5/5 [00:00<00:00, 96199.63it/s]\n",
      "Splitting the experimental spectrum into chunks: 27129it [00:00, 2326367.21it/s]\n",
      "Deconvolving chunks: 100%|████████████████████████| 1/1 [00:15<00:00, 15.28s/it]\n"
     ]
    },
    {
     "name": "stdout",
     "output_type": "stream",
     "text": [
      "Estimation for 0.06999999999999999 and 0.09 done\n",
      "It took: 15.347726583480835 seconds.\n",
      "[0.22785200819900014, 0.1516908056930001, 0.11841772928000008, 0.1768479980710001, 0.3251139711910002]\n"
     ]
    },
    {
     "name": "stderr",
     "output_type": "stream",
     "text": [
      "Initial filtering of formulas: 100%|█████████████| 5/5 [00:00<00:00, 255.84it/s]\n",
      "Computing chunks: 100%|███████████████████████| 5/5 [00:00<00:00, 122640.47it/s]\n",
      "Splitting the experimental spectrum into chunks: 27129it [00:00, 2760620.92it/s]\n",
      "Deconvolving chunks: 100%|████████████████████████| 1/1 [00:17<00:00, 17.13s/it]\n"
     ]
    },
    {
     "name": "stdout",
     "output_type": "stream",
     "text": [
      "Estimation for 0.06999999999999999 and 0.09999999999999999 done\n",
      "It took: 17.19785785675049 seconds.\n",
      "[0.22898105450800013, 0.1525240101740001, 0.11868724151000008, 0.16621766070200011, 0.3265439725580002]\n"
     ]
    },
    {
     "name": "stderr",
     "output_type": "stream",
     "text": [
      "Initial filtering of formulas: 100%|█████████████| 5/5 [00:00<00:00, 190.95it/s]\n",
      "Computing chunks: 100%|████████████████████████| 5/5 [00:00<00:00, 43240.25it/s]\n",
      "Splitting the experimental spectrum into chunks: 27129it [00:00, 1556789.12it/s]\n",
      "Deconvolving chunks: 100%|████████████████████████| 1/1 [00:20<00:00, 20.06s/it]\n"
     ]
    },
    {
     "name": "stdout",
     "output_type": "stream",
     "text": [
      "Estimation for 0.06999999999999999 and 0.11 done\n",
      "It took: 20.156535625457764 seconds.\n",
      "[0.22900685810500013, 0.15263210072300012, 0.11833030490000009, 0.1660477243140001, 0.3264975273620002]\n"
     ]
    },
    {
     "name": "stderr",
     "output_type": "stream",
     "text": [
      "Initial filtering of formulas: 100%|█████████████| 5/5 [00:00<00:00, 259.41it/s]\n",
      "Computing chunks: 100%|███████████████████████| 5/5 [00:00<00:00, 130257.89it/s]\n",
      "Splitting the experimental spectrum into chunks: 27129it [00:00, 2704970.12it/s]\n",
      "Deconvolving chunks: 100%|████████████████████████| 1/1 [00:14<00:00, 14.28s/it]\n"
     ]
    },
    {
     "name": "stdout",
     "output_type": "stream",
     "text": [
      "Estimation for 0.06999999999999999 and 0.12 done\n",
      "It took: 14.35096263885498 seconds.\n",
      "[0.22904143567100013, 0.15271586690600011, 0.11817224946700008, 0.1659538795110001, 0.3263921429840002]\n"
     ]
    },
    {
     "name": "stderr",
     "output_type": "stream",
     "text": [
      "Initial filtering of formulas: 100%|█████████████| 5/5 [00:00<00:00, 261.04it/s]\n",
      "Computing chunks: 100%|███████████████████████| 5/5 [00:00<00:00, 121222.66it/s]\n",
      "Splitting the experimental spectrum into chunks: 27129it [00:00, 2778891.57it/s]\n",
      "Deconvolving chunks: 100%|████████████████████████| 1/1 [00:14<00:00, 14.77s/it]\n"
     ]
    },
    {
     "name": "stdout",
     "output_type": "stream",
     "text": [
      "Estimation for 0.06999999999999999 and 0.13 done\n",
      "It took: 14.836321830749512 seconds.\n",
      "[0.22909055104900014, 0.15276866330800012, 0.11804771572200008, 0.1659320202730001, 0.3262912998330002]\n"
     ]
    },
    {
     "name": "stderr",
     "output_type": "stream",
     "text": [
      "Initial filtering of formulas: 100%|█████████████| 5/5 [00:00<00:00, 253.52it/s]\n",
      "Computing chunks: 100%|███████████████████████| 5/5 [00:00<00:00, 195995.51it/s]\n",
      "Splitting the experimental spectrum into chunks: 27129it [00:00, 2590961.89it/s]\n",
      "Deconvolving chunks: 100%|████████████████████████| 1/1 [00:16<00:00, 16.24s/it]\n"
     ]
    },
    {
     "name": "stdout",
     "output_type": "stream",
     "text": [
      "Estimation for 0.06999999999999999 and 0.14 done\n",
      "It took: 16.306997299194336 seconds.\n",
      "[0.22916051867900014, 0.15273037361100011, 0.11797835287000008, 0.16582506836200012, 0.32620736652400023]\n"
     ]
    },
    {
     "name": "stderr",
     "output_type": "stream",
     "text": [
      "Initial filtering of formulas: 100%|█████████████| 5/5 [00:00<00:00, 131.13it/s]\n",
      "Computing chunks: 100%|████████████████████████| 5/5 [00:00<00:00, 52038.51it/s]\n",
      "Splitting the experimental spectrum into chunks: 27129it [00:00, 1602615.08it/s]\n",
      "Deconvolving chunks: 100%|████████████████████████| 1/1 [00:18<00:00, 18.30s/it]\n"
     ]
    },
    {
     "name": "stdout",
     "output_type": "stream",
     "text": [
      "Estimation for 0.06999999999999999 and 0.15000000000000002 done\n",
      "It took: 18.421579599380493 seconds.\n",
      "[0.22922359582400018, 0.15263040179900011, 0.11792461926500009, 0.16574015540000012, 0.3260555292550002]\n"
     ]
    },
    {
     "name": "stderr",
     "output_type": "stream",
     "text": [
      "Initial filtering of formulas: 100%|█████████████| 5/5 [00:00<00:00, 193.23it/s]\n",
      "Computing chunks: 100%|████████████████████████| 5/5 [00:00<00:00, 58092.85it/s]\n",
      "Splitting the experimental spectrum into chunks: 27129it [00:00, 1785654.68it/s]\n",
      "Deconvolving chunks: 100%|████████████████████████| 1/1 [00:15<00:00, 15.36s/it]\n"
     ]
    },
    {
     "name": "stdout",
     "output_type": "stream",
     "text": [
      "Estimation for 0.06999999999999999 and 0.16 done\n",
      "It took: 15.454833507537842 seconds.\n",
      "[0.22935971101000016, 0.1512600639490001, 0.11798339425600009, 0.1658175135710001, 0.32596081256300025]\n"
     ]
    },
    {
     "name": "stderr",
     "output_type": "stream",
     "text": [
      "Initial filtering of formulas: 100%|█████████████| 5/5 [00:00<00:00, 256.10it/s]\n",
      "Computing chunks: 100%|███████████████████████| 5/5 [00:00<00:00, 144631.17it/s]\n",
      "Splitting the experimental spectrum into chunks: 27129it [00:00, 2750212.05it/s]\n",
      "Deconvolving chunks: 100%|████████████████████████| 1/1 [00:15<00:00, 15.41s/it]\n"
     ]
    },
    {
     "name": "stdout",
     "output_type": "stream",
     "text": [
      "Estimation for 0.06999999999999999 and 0.17 done\n",
      "It took: 15.474112510681152 seconds.\n",
      "[0.22950134779700015, 0.1491738585170001, 0.11810167279700008, 0.1659410455150001, 0.3259663727480002]\n"
     ]
    },
    {
     "name": "stderr",
     "output_type": "stream",
     "text": [
      "Initial filtering of formulas: 100%|█████████████| 5/5 [00:00<00:00, 233.35it/s]\n",
      "Computing chunks: 100%|███████████████████████| 5/5 [00:00<00:00, 108660.73it/s]\n",
      "Splitting the experimental spectrum into chunks: 27129it [00:00, 2434473.11it/s]\n",
      "Deconvolving chunks: 100%|████████████████████████| 1/1 [00:15<00:00, 15.82s/it]\n"
     ]
    },
    {
     "name": "stdout",
     "output_type": "stream",
     "text": [
      "Estimation for 0.06999999999999999 and 0.18000000000000002 done\n",
      "It took: 15.894310474395752 seconds.\n",
      "[0.22955181710600017, 0.1488502979500001, 0.11817602402900008, 0.16582607502400012, 0.32582798061500023]\n"
     ]
    },
    {
     "name": "stderr",
     "output_type": "stream",
     "text": [
      "Initial filtering of formulas: 100%|█████████████| 5/5 [00:00<00:00, 156.40it/s]\n",
      "Computing chunks: 100%|████████████████████████| 5/5 [00:00<00:00, 44243.71it/s]\n",
      "Splitting the experimental spectrum into chunks: 27129it [00:00, 1616411.30it/s]\n",
      "Deconvolving chunks: 100%|████████████████████████| 1/1 [00:21<00:00, 21.57s/it]\n"
     ]
    },
    {
     "name": "stdout",
     "output_type": "stream",
     "text": [
      "Estimation for 0.06999999999999999 and 0.19 done\n",
      "It took: 21.70427107810974 seconds.\n",
      "[0.22959094822000017, 0.14861712889600012, 0.11824678938500008, 0.1656588987590001, 0.3256596629090002]\n"
     ]
    },
    {
     "name": "stderr",
     "output_type": "stream",
     "text": [
      "Initial filtering of formulas: 100%|█████████████| 5/5 [00:00<00:00, 147.69it/s]\n",
      "Computing chunks: 100%|████████████████████████| 5/5 [00:00<00:00, 55924.05it/s]\n",
      "Splitting the experimental spectrum into chunks: 27129it [00:00, 1623978.10it/s]\n",
      "Deconvolving chunks: 100%|████████████████████████| 1/1 [00:23<00:00, 23.84s/it]\n"
     ]
    },
    {
     "name": "stdout",
     "output_type": "stream",
     "text": [
      "Estimation for 0.06999999999999999 and 0.2 done\n",
      "It took: 23.963369131088257 seconds.\n",
      "[0.22961145550100018, 0.1483088185480001, 0.11830546080600009, 0.16558554629700012, 0.32550195214200023]\n"
     ]
    },
    {
     "name": "stderr",
     "output_type": "stream",
     "text": [
      "Initial filtering of formulas: 100%|█████████████| 5/5 [00:00<00:00, 146.69it/s]\n",
      "Computing chunks: 100%|████████████████████████| 5/5 [00:00<00:00, 84904.94it/s]\n",
      "Splitting the experimental spectrum into chunks: 27129it [00:00, 1738032.86it/s]\n",
      "Deconvolving chunks: 100%|████████████████████████| 1/1 [00:20<00:00, 20.17s/it]\n"
     ]
    },
    {
     "name": "stdout",
     "output_type": "stream",
     "text": [
      "Estimation for 0.06999999999999999 and 0.21000000000000002 done\n",
      "It took: 20.292388200759888 seconds.\n",
      "[0.22961957951000017, 0.14806217082100012, 0.11836813015000008, 0.1654235402990001, 0.3253390511080002]\n"
     ]
    },
    {
     "name": "stderr",
     "output_type": "stream",
     "text": [
      "Initial filtering of formulas: 100%|█████████████| 5/5 [00:00<00:00, 205.93it/s]\n",
      "Computing chunks: 100%|████████████████████████| 5/5 [00:00<00:00, 81920.00it/s]\n",
      "Splitting the experimental spectrum into chunks: 27129it [00:00, 2247516.66it/s]\n",
      "Deconvolving chunks: 100%|████████████████████████| 1/1 [00:18<00:00, 18.24s/it]\n"
     ]
    },
    {
     "name": "stdout",
     "output_type": "stream",
     "text": [
      "Estimation for 0.06999999999999999 and 0.22 done\n",
      "It took: 18.33248805999756 seconds.\n",
      "[0.22965585790800017, 0.1476780275330001, 0.11843573920900008, 0.1652500317450001, 0.3251723282490002]\n"
     ]
    },
    {
     "name": "stderr",
     "output_type": "stream",
     "text": [
      "Initial filtering of formulas: 100%|█████████████| 5/5 [00:00<00:00, 219.78it/s]\n",
      "Computing chunks: 100%|███████████████████████| 5/5 [00:00<00:00, 100342.20it/s]\n",
      "Splitting the experimental spectrum into chunks: 27129it [00:00, 2094372.78it/s]\n",
      "Deconvolving chunks: 100%|████████████████████████| 1/1 [00:17<00:00, 17.97s/it]\n"
     ]
    },
    {
     "name": "stdout",
     "output_type": "stream",
     "text": [
      "Estimation for 0.06999999999999999 and 0.23 done\n",
      "It took: 18.062848329544067 seconds.\n",
      "[0.22967147200100016, 0.1474316078130001, 0.11849105129900009, 0.1651847815270001, 0.32488229434600024]\n"
     ]
    },
    {
     "name": "stderr",
     "output_type": "stream",
     "text": [
      "Initial filtering of formulas: 100%|█████████████| 5/5 [00:00<00:00, 217.31it/s]\n",
      "Computing chunks: 100%|████████████████████████| 5/5 [00:00<00:00, 47339.77it/s]\n",
      "Splitting the experimental spectrum into chunks: 27129it [00:00, 1726744.36it/s]\n",
      "Deconvolving chunks: 100%|████████████████████████| 1/1 [00:21<00:00, 21.55s/it]\n"
     ]
    },
    {
     "name": "stdout",
     "output_type": "stream",
     "text": [
      "Estimation for 0.06999999999999999 and 0.24000000000000002 done\n",
      "It took: 21.65614128112793 seconds.\n",
      "[0.22970240003800016, 0.14713564503000012, 0.11854672812100009, 0.1651177704780001, 0.3245595994130002]\n"
     ]
    },
    {
     "name": "stderr",
     "output_type": "stream",
     "text": [
      "Initial filtering of formulas: 100%|█████████████| 5/5 [00:00<00:00, 123.99it/s]\n",
      "Computing chunks: 100%|████████████████████████| 5/5 [00:00<00:00, 43062.67it/s]\n",
      "Splitting the experimental spectrum into chunks: 27129it [00:00, 1648923.63it/s]\n",
      "Deconvolving chunks: 100%|████████████████████████| 1/1 [00:20<00:00, 20.54s/it]\n"
     ]
    },
    {
     "name": "stdout",
     "output_type": "stream",
     "text": [
      "Estimation for 0.06999999999999999 and 0.25 done\n",
      "It took: 20.697373390197754 seconds.\n",
      "[0.22976532341100017, 0.1466082860330001, 0.11860655214000008, 0.1651380361130001, 0.3242244340960002]\n"
     ]
    },
    {
     "name": "stderr",
     "output_type": "stream",
     "text": [
      "Initial filtering of formulas: 100%|█████████████| 5/5 [00:00<00:00, 257.71it/s]\n",
      "Computing chunks: 100%|███████████████████████| 5/5 [00:00<00:00, 162569.92it/s]\n",
      "Splitting the experimental spectrum into chunks: 27129it [00:00, 2605616.52it/s]\n",
      "Deconvolving chunks: 100%|████████████████████████| 1/1 [00:15<00:00, 15.32s/it]\n"
     ]
    },
    {
     "name": "stdout",
     "output_type": "stream",
     "text": [
      "Estimation for 0.06999999999999999 and 0.26 done\n",
      "It took: 15.38256549835205 seconds.\n",
      "[0.22979342553600016, 0.1459598744700001, 0.11865601959700009, 0.16546721008500012, 0.3237938565090002]\n"
     ]
    },
    {
     "name": "stderr",
     "output_type": "stream",
     "text": [
      "Initial filtering of formulas: 100%|█████████████| 5/5 [00:00<00:00, 174.76it/s]\n",
      "Computing chunks: 100%|███████████████████████| 5/5 [00:00<00:00, 105384.52it/s]\n",
      "Splitting the experimental spectrum into chunks: 27129it [00:00, 2464261.47it/s]\n",
      "Deconvolving chunks: 100%|████████████████████████| 1/1 [00:15<00:00, 15.55s/it]\n"
     ]
    },
    {
     "name": "stdout",
     "output_type": "stream",
     "text": [
      "Estimation for 0.06999999999999999 and 0.27 done\n",
      "It took: 15.639323472976685 seconds.\n",
      "[0.22983851073900016, 0.1453382734020001, 0.11870394734900008, 0.1657927628700001, 0.32333256111300024]\n"
     ]
    },
    {
     "name": "stderr",
     "output_type": "stream",
     "text": [
      "Initial filtering of formulas: 100%|█████████████| 5/5 [00:00<00:00, 244.60it/s]\n",
      "Computing chunks: 100%|███████████████████████| 5/5 [00:00<00:00, 169125.16it/s]\n",
      "Splitting the experimental spectrum into chunks: 27129it [00:00, 2520819.54it/s]\n",
      "Deconvolving chunks: 100%|████████████████████████| 1/1 [00:23<00:00, 23.45s/it]\n"
     ]
    },
    {
     "name": "stdout",
     "output_type": "stream",
     "text": [
      "Estimation for 0.06999999999999999 and 0.28 done\n",
      "It took: 23.52111554145813 seconds.\n",
      "[0.22987246367600017, 0.14493586214200008, 0.11874359116000008, 0.16612806419600012, 0.3228040322570002]\n"
     ]
    },
    {
     "name": "stderr",
     "output_type": "stream",
     "text": [
      "Initial filtering of formulas: 100%|█████████████| 5/5 [00:00<00:00, 156.14it/s]\n",
      "Computing chunks: 100%|████████████████████████| 5/5 [00:00<00:00, 85948.85it/s]\n",
      "Splitting the experimental spectrum into chunks: 27129it [00:00, 1795176.67it/s]\n",
      "Deconvolving chunks: 100%|████████████████████████| 1/1 [00:16<00:00, 16.46s/it]\n"
     ]
    },
    {
     "name": "stdout",
     "output_type": "stream",
     "text": [
      "Estimation for 0.06999999999999999 and 0.29000000000000004 done\n",
      "It took: 16.56014060974121 seconds.\n",
      "[0.22985867337200017, 0.1447499666940001, 0.11876828235200008, 0.16632165689500011, 0.3225604981580002]\n"
     ]
    },
    {
     "name": "stderr",
     "output_type": "stream",
     "text": [
      "Initial filtering of formulas: 100%|█████████████| 5/5 [00:00<00:00, 249.96it/s]\n",
      "Computing chunks: 100%|███████████████████████| 5/5 [00:00<00:00, 150874.24it/s]\n",
      "Splitting the experimental spectrum into chunks: 27129it [00:00, 2505168.83it/s]\n",
      "Deconvolving chunks: 100%|████████████████████████| 1/1 [00:15<00:00, 15.77s/it]\n"
     ]
    },
    {
     "name": "stdout",
     "output_type": "stream",
     "text": [
      "Estimation for 0.06999999999999999 and 0.3 done\n",
      "It took: 15.842304706573486 seconds.\n",
      "[0.22984620763100017, 0.14475759635200008, 0.11877854510600008, 0.16635404783300012, 0.3225921884050002]\n"
     ]
    },
    {
     "name": "stderr",
     "output_type": "stream",
     "text": [
      "Initial filtering of formulas: 100%|█████████████| 5/5 [00:00<00:00, 235.71it/s]\n",
      "Computing chunks: 100%|███████████████████████| 5/5 [00:00<00:00, 107546.26it/s]\n",
      "Splitting the experimental spectrum into chunks: 27129it [00:00, 2415968.26it/s]\n",
      "Deconvolving chunks: 100%|████████████████████████| 1/1 [00:15<00:00, 15.58s/it]\n"
     ]
    },
    {
     "name": "stdout",
     "output_type": "stream",
     "text": [
      "Estimation for 0.08 and 0.01 done\n",
      "It took: 15.6445951461792 seconds.\n",
      "[0.21755084554200013, 0.1842519119180001, 0.11203796674500006, 0.1721534951830001, 0.31400578061200024]\n"
     ]
    },
    {
     "name": "stderr",
     "output_type": "stream",
     "text": [
      "Initial filtering of formulas: 100%|█████████████| 5/5 [00:00<00:00, 251.61it/s]\n",
      "Computing chunks: 100%|███████████████████████| 5/5 [00:00<00:00, 187245.71it/s]\n",
      "Splitting the experimental spectrum into chunks: 27129it [00:00, 2541255.88it/s]\n",
      "Deconvolving chunks: 100%|████████████████████████| 1/1 [00:21<00:00, 21.47s/it]\n"
     ]
    },
    {
     "name": "stdout",
     "output_type": "stream",
     "text": [
      "Estimation for 0.08 and 0.02 done\n",
      "It took: 21.536787509918213 seconds.\n",
      "[0.22749747499800013, 0.15057183637400012, 0.11728689957200009, 0.1773559218180001, 0.32728786723800024]\n"
     ]
    },
    {
     "name": "stderr",
     "output_type": "stream",
     "text": [
      "Initial filtering of formulas: 100%|█████████████| 5/5 [00:00<00:00, 191.72it/s]\n",
      "Computing chunks: 100%|████████████████████████| 5/5 [00:00<00:00, 57772.78it/s]\n",
      "Splitting the experimental spectrum into chunks: 27129it [00:00, 2094449.88it/s]\n",
      "Deconvolving chunks: 100%|████████████████████████| 1/1 [00:17<00:00, 17.20s/it]\n"
     ]
    },
    {
     "name": "stdout",
     "output_type": "stream",
     "text": [
      "Estimation for 0.08 and 0.03 done\n",
      "It took: 17.28994607925415 seconds.\n",
      "[0.22773846947000015, 0.15085527514200012, 0.11753960541000008, 0.1770456446430001, 0.32682100533500025]\n"
     ]
    },
    {
     "name": "stderr",
     "output_type": "stream",
     "text": [
      "Initial filtering of formulas: 100%|█████████████| 5/5 [00:00<00:00, 250.82it/s]\n",
      "Computing chunks: 100%|████████████████████████| 5/5 [00:00<00:00, 95760.37it/s]\n",
      "Splitting the experimental spectrum into chunks: 27129it [00:00, 2685435.50it/s]\n",
      "Deconvolving chunks: 100%|████████████████████████| 1/1 [00:16<00:00, 16.11s/it]\n"
     ]
    },
    {
     "name": "stdout",
     "output_type": "stream",
     "text": [
      "Estimation for 0.08 and 0.04 done\n",
      "It took: 16.18271279335022 seconds.\n",
      "[0.22792690637900015, 0.15107391778000012, 0.11773124674100008, 0.17717095468800012, 0.3260969744120002]\n"
     ]
    },
    {
     "name": "stderr",
     "output_type": "stream",
     "text": [
      "Initial filtering of formulas: 100%|█████████████| 5/5 [00:00<00:00, 247.72it/s]\n",
      "Computing chunks: 100%|███████████████████████| 5/5 [00:00<00:00, 130257.89it/s]\n",
      "Splitting the experimental spectrum into chunks: 27129it [00:00, 2569199.42it/s]\n",
      "Deconvolving chunks: 100%|████████████████████████| 1/1 [00:18<00:00, 18.45s/it]\n"
     ]
    },
    {
     "name": "stdout",
     "output_type": "stream",
     "text": [
      "Estimation for 0.08 and 0.05 done\n",
      "It took: 18.51239252090454 seconds.\n",
      "[0.22800614495500013, 0.1511773893160001, 0.11784200944000009, 0.1771073672140001, 0.3258670890750002]\n"
     ]
    },
    {
     "name": "stderr",
     "output_type": "stream",
     "text": [
      "Initial filtering of formulas: 100%|█████████████| 5/5 [00:00<00:00, 216.40it/s]\n",
      "Computing chunks: 100%|████████████████████████| 5/5 [00:00<00:00, 51909.70it/s]\n",
      "Splitting the experimental spectrum into chunks: 27129it [00:00, 1331889.00it/s]\n",
      "Deconvolving chunks: 100%|████████████████████████| 1/1 [00:25<00:00, 25.35s/it]\n"
     ]
    },
    {
     "name": "stdout",
     "output_type": "stream",
     "text": [
      "Estimation for 0.08 and 0.060000000000000005 done\n",
      "It took: 25.4478862285614 seconds.\n",
      "[0.22791342622200014, 0.15134016525300012, 0.11800515032200008, 0.1772390948450001, 0.3255021633580002]\n"
     ]
    },
    {
     "name": "stderr",
     "output_type": "stream",
     "text": [
      "Initial filtering of formulas: 100%|█████████████| 5/5 [00:00<00:00, 134.41it/s]\n",
      "Computing chunks: 100%|████████████████████████| 5/5 [00:00<00:00, 76818.75it/s]\n",
      "Splitting the experimental spectrum into chunks: 27129it [00:00, 1576044.67it/s]\n",
      "Deconvolving chunks: 100%|████████████████████████| 1/1 [00:20<00:00, 20.24s/it]\n"
     ]
    },
    {
     "name": "stdout",
     "output_type": "stream",
     "text": [
      "Estimation for 0.08 and 0.06999999999999999 done\n",
      "It took: 20.368550062179565 seconds.\n",
      "[0.22785881068300015, 0.1515704520090001, 0.11822816222900008, 0.1770364514150001, 0.3253061236630002]\n"
     ]
    },
    {
     "name": "stderr",
     "output_type": "stream",
     "text": [
      "Initial filtering of formulas: 100%|█████████████| 5/5 [00:00<00:00, 182.46it/s]\n",
      "Computing chunks: 100%|████████████████████████| 5/5 [00:00<00:00, 67869.00it/s]\n",
      "Splitting the experimental spectrum into chunks: 27129it [00:00, 1815657.78it/s]\n",
      "Deconvolving chunks: 100%|████████████████████████| 1/1 [00:18<00:00, 18.61s/it]\n"
     ]
    },
    {
     "name": "stdout",
     "output_type": "stream",
     "text": [
      "Estimation for 0.08 and 0.08 done\n",
      "It took: 18.71190118789673 seconds.\n",
      "[0.22780351728000015, 0.15160544045800012, 0.11831141473700009, 0.17701688002900012, 0.32526274749700024]\n"
     ]
    },
    {
     "name": "stderr",
     "output_type": "stream",
     "text": [
      "Initial filtering of formulas: 100%|█████████████| 5/5 [00:00<00:00, 202.46it/s]\n",
      "Computing chunks: 100%|███████████████████████| 5/5 [00:00<00:00, 109226.67it/s]\n",
      "Splitting the experimental spectrum into chunks: 27129it [00:00, 1804028.18it/s]\n",
      "Deconvolving chunks: 100%|████████████████████████| 1/1 [00:16<00:00, 16.64s/it]\n"
     ]
    },
    {
     "name": "stdout",
     "output_type": "stream",
     "text": [
      "Estimation for 0.08 and 0.09 done\n",
      "It took: 16.735015869140625 seconds.\n",
      "[0.22783946788900014, 0.1516823182740001, 0.11841013928600008, 0.17697185787600012, 0.32509621667600025]\n"
     ]
    },
    {
     "name": "stderr",
     "output_type": "stream",
     "text": [
      "Initial filtering of formulas: 100%|█████████████| 5/5 [00:00<00:00, 211.91it/s]\n",
      "Computing chunks: 100%|███████████████████████| 5/5 [00:00<00:00, 167772.16it/s]\n",
      "Splitting the experimental spectrum into chunks: 27129it [00:00, 2641853.53it/s]\n",
      "Deconvolving chunks: 100%|████████████████████████| 1/1 [00:15<00:00, 15.24s/it]\n"
     ]
    },
    {
     "name": "stdout",
     "output_type": "stream",
     "text": [
      "Estimation for 0.08 and 0.09999999999999999 done\n",
      "It took: 15.310909032821655 seconds.\n",
      "[0.22779881892800014, 0.15178184622400012, 0.11852733117800009, 0.17697409719400012, 0.3249179064770002]\n"
     ]
    },
    {
     "name": "stderr",
     "output_type": "stream",
     "text": [
      "Initial filtering of formulas: 100%|█████████████| 5/5 [00:00<00:00, 213.53it/s]\n",
      "Computing chunks: 100%|███████████████████████| 5/5 [00:00<00:00, 144631.17it/s]\n",
      "Splitting the experimental spectrum into chunks: 27129it [00:00, 2695231.26it/s]\n",
      "Deconvolving chunks: 100%|████████████████████████| 1/1 [00:18<00:00, 18.03s/it]\n"
     ]
    },
    {
     "name": "stdout",
     "output_type": "stream",
     "text": [
      "Estimation for 0.08 and 0.11 done\n",
      "It took: 18.110442638397217 seconds.\n",
      "[0.22881276077500015, 0.15257356191400012, 0.11907622396100008, 0.1666701084460001, 0.3263106159880002]\n"
     ]
    },
    {
     "name": "stderr",
     "output_type": "stream",
     "text": [
      "Initial filtering of formulas: 100%|█████████████| 5/5 [00:00<00:00, 148.54it/s]\n",
      "Computing chunks: 100%|████████████████████████| 5/5 [00:00<00:00, 75983.77it/s]\n",
      "Splitting the experimental spectrum into chunks: 27129it [00:00, 1734403.46it/s]\n",
      "Deconvolving chunks: 100%|████████████████████████| 1/1 [00:17<00:00, 17.52s/it]\n"
     ]
    },
    {
     "name": "stdout",
     "output_type": "stream",
     "text": [
      "Estimation for 0.08 and 0.12 done\n",
      "It took: 17.634802103042603 seconds.\n",
      "[0.22892109819500014, 0.1526662504810001, 0.11860847634500009, 0.1665827224050001, 0.32624359914500023]\n"
     ]
    },
    {
     "name": "stderr",
     "output_type": "stream",
     "text": [
      "Initial filtering of formulas: 100%|█████████████| 5/5 [00:00<00:00, 259.41it/s]\n",
      "Computing chunks: 100%|███████████████████████| 5/5 [00:00<00:00, 113359.57it/s]\n",
      "Splitting the experimental spectrum into chunks: 27129it [00:00, 2765787.74it/s]\n",
      "Deconvolving chunks: 100%|████████████████████████| 1/1 [00:14<00:00, 14.78s/it]\n"
     ]
    },
    {
     "name": "stdout",
     "output_type": "stream",
     "text": [
      "Estimation for 0.08 and 0.13 done\n",
      "It took: 14.843369722366333 seconds.\n",
      "[0.22902061928200013, 0.1527510797460001, 0.11830328941900008, 0.16633525161500012, 0.32620207545000024]\n"
     ]
    },
    {
     "name": "stderr",
     "output_type": "stream",
     "text": [
      "Initial filtering of formulas: 100%|█████████████| 5/5 [00:00<00:00, 252.00it/s]\n",
      "Computing chunks: 100%|███████████████████████| 5/5 [00:00<00:00, 113975.65it/s]\n",
      "Splitting the experimental spectrum into chunks: 27129it [00:00, 2541482.92it/s]\n",
      "Deconvolving chunks: 100%|████████████████████████| 1/1 [00:16<00:00, 16.64s/it]\n"
     ]
    },
    {
     "name": "stdout",
     "output_type": "stream",
     "text": [
      "Estimation for 0.08 and 0.14 done\n",
      "It took: 16.71014428138733 seconds.\n",
      "[0.22906631287700013, 0.15279721497000012, 0.11822836582500008, 0.1662430465150001, 0.32616304248200023]\n"
     ]
    },
    {
     "name": "stderr",
     "output_type": "stream",
     "text": [
      "Initial filtering of formulas: 100%|█████████████| 5/5 [00:00<00:00, 152.38it/s]\n",
      "Computing chunks: 100%|████████████████████████| 5/5 [00:00<00:00, 82891.38it/s]\n",
      "Splitting the experimental spectrum into chunks: 27129it [00:00, 1504068.22it/s]\n",
      "Deconvolving chunks: 100%|████████████████████████| 1/1 [00:18<00:00, 18.65s/it]\n"
     ]
    },
    {
     "name": "stdout",
     "output_type": "stream",
     "text": [
      "Estimation for 0.08 and 0.15000000000000002 done\n",
      "It took: 18.760910034179688 seconds.\n",
      "[0.22911708198600014, 0.1528429387520001, 0.11809928832700008, 0.1662655805260001, 0.32606300502800023]\n"
     ]
    },
    {
     "name": "stderr",
     "output_type": "stream",
     "text": [
      "Initial filtering of formulas: 100%|█████████████| 5/5 [00:00<00:00, 169.63it/s]\n",
      "Computing chunks: 100%|███████████████████████| 5/5 [00:00<00:00, 117817.53it/s]\n",
      "Splitting the experimental spectrum into chunks: 27129it [00:00, 1772387.43it/s]\n",
      "Deconvolving chunks: 100%|████████████████████████| 1/1 [00:15<00:00, 15.98s/it]\n"
     ]
    },
    {
     "name": "stdout",
     "output_type": "stream",
     "text": [
      "Estimation for 0.08 and 0.16 done\n",
      "It took: 16.085201263427734 seconds.\n",
      "[0.22915632736400013, 0.15288044356800012, 0.11802513180300009, 0.1660637037080001, 0.3260438048280002]\n"
     ]
    },
    {
     "name": "stderr",
     "output_type": "stream",
     "text": [
      "Initial filtering of formulas: 100%|█████████████| 5/5 [00:00<00:00, 251.21it/s]\n",
      "Computing chunks: 100%|████████████████████████| 5/5 [00:00<00:00, 79739.62it/s]\n",
      "Splitting the experimental spectrum into chunks: 27129it [00:00, 2425082.01it/s]\n",
      "Deconvolving chunks: 100%|████████████████████████| 1/1 [00:14<00:00, 14.22s/it]\n"
     ]
    },
    {
     "name": "stdout",
     "output_type": "stream",
     "text": [
      "Estimation for 0.08 and 0.17 done\n",
      "It took: 14.283283710479736 seconds.\n",
      "[0.22919464936300016, 0.1529024168970001, 0.11798878143800008, 0.1659671929980001, 0.3259756549120002]\n"
     ]
    },
    {
     "name": "stderr",
     "output_type": "stream",
     "text": [
      "Initial filtering of formulas: 100%|█████████████| 5/5 [00:00<00:00, 252.46it/s]\n",
      "Computing chunks: 100%|████████████████████████| 5/5 [00:00<00:00, 88862.37it/s]\n",
      "Splitting the experimental spectrum into chunks: 27129it [00:00, 2604244.92it/s]\n",
      "Deconvolving chunks: 100%|████████████████████████| 1/1 [00:16<00:00, 16.16s/it]\n"
     ]
    },
    {
     "name": "stdout",
     "output_type": "stream",
     "text": [
      "Estimation for 0.08 and 0.18000000000000002 done\n",
      "It took: 16.225653886795044 seconds.\n",
      "[0.22919789647600017, 0.15277215273200012, 0.11800207753500008, 0.16594198018500012, 0.3259322385450002]\n"
     ]
    },
    {
     "name": "stderr",
     "output_type": "stream",
     "text": [
      "Initial filtering of formulas: 100%|█████████████| 5/5 [00:00<00:00, 217.96it/s]\n",
      "Computing chunks: 100%|███████████████████████| 5/5 [00:00<00:00, 125577.96it/s]\n",
      "Splitting the experimental spectrum into chunks: 27129it [00:00, 2415557.96it/s]\n",
      "Deconvolving chunks: 100%|████████████████████████| 1/1 [00:19<00:00, 19.25s/it]\n"
     ]
    },
    {
     "name": "stdout",
     "output_type": "stream",
     "text": [
      "Estimation for 0.08 and 0.19 done\n",
      "It took: 19.33022141456604 seconds.\n",
      "[0.22934923783700017, 0.1508331999880001, 0.11809311675200009, 0.16600764526600012, 0.32594204777000024]\n"
     ]
    },
    {
     "name": "stderr",
     "output_type": "stream",
     "text": [
      "Initial filtering of formulas: 100%|█████████████| 5/5 [00:00<00:00, 114.77it/s]\n",
      "Computing chunks: 100%|████████████████████████| 5/5 [00:00<00:00, 39568.91it/s]\n",
      "Splitting the experimental spectrum into chunks: 27129it [00:00, 1756111.94it/s]\n",
      "Deconvolving chunks: 100%|████████████████████████| 1/1 [00:15<00:00, 15.66s/it]\n"
     ]
    },
    {
     "name": "stdout",
     "output_type": "stream",
     "text": [
      "Estimation for 0.08 and 0.2 done\n",
      "It took: 15.79020881652832 seconds.\n",
      "[0.22944879436100016, 0.14937490386400012, 0.11819332571900008, 0.1658252257800001, 0.3260034689020002]\n"
     ]
    },
    {
     "name": "stderr",
     "output_type": "stream",
     "text": [
      "Initial filtering of formulas: 100%|█████████████| 5/5 [00:00<00:00, 257.08it/s]\n",
      "Computing chunks: 100%|███████████████████████| 5/5 [00:00<00:00, 169125.16it/s]\n",
      "Splitting the experimental spectrum into chunks: 27129it [00:00, 2804991.20it/s]\n",
      "Deconvolving chunks: 100%|████████████████████████| 1/1 [00:15<00:00, 15.04s/it]\n"
     ]
    },
    {
     "name": "stdout",
     "output_type": "stream",
     "text": [
      "Estimation for 0.08 and 0.21000000000000002 done\n",
      "It took: 15.10801649093628 seconds.\n",
      "[0.22946883688100017, 0.1490285784630001, 0.11825486355200009, 0.1656471341860001, 0.32597623014600025]\n"
     ]
    },
    {
     "name": "stderr",
     "output_type": "stream",
     "text": [
      "Initial filtering of formulas: 100%|█████████████| 5/5 [00:00<00:00, 240.52it/s]\n",
      "Computing chunks: 100%|███████████████████████| 5/5 [00:00<00:00, 143640.55it/s]\n",
      "Splitting the experimental spectrum into chunks: 27129it [00:00, 2496265.56it/s]\n",
      "Deconvolving chunks: 100%|████████████████████████| 1/1 [00:18<00:00, 18.67s/it]\n"
     ]
    },
    {
     "name": "stdout",
     "output_type": "stream",
     "text": [
      "Estimation for 0.08 and 0.22 done\n",
      "It took: 18.74450659751892 seconds.\n",
      "[0.22947283814600017, 0.14877154137000012, 0.11830770014900008, 0.1654805397450001, 0.32594352015200023]\n"
     ]
    },
    {
     "name": "stderr",
     "output_type": "stream",
     "text": [
      "Initial filtering of formulas: 100%|█████████████| 5/5 [00:00<00:00, 104.65it/s]\n",
      "Computing chunks: 100%|████████████████████████| 5/5 [00:00<00:00, 32564.47it/s]\n",
      "Splitting the experimental spectrum into chunks: 27129it [00:00, 1313273.55it/s]\n",
      "Deconvolving chunks: 100%|████████████████████████| 1/1 [00:28<00:00, 28.27s/it]\n"
     ]
    },
    {
     "name": "stdout",
     "output_type": "stream",
     "text": [
      "Estimation for 0.08 and 0.23 done\n",
      "It took: 28.430904388427734 seconds.\n",
      "[0.22951057810200018, 0.14844486343900012, 0.11836748431200009, 0.1652064274350001, 0.3258598711800002]\n"
     ]
    },
    {
     "name": "stderr",
     "output_type": "stream",
     "text": [
      "Initial filtering of formulas: 100%|█████████████| 5/5 [00:00<00:00, 154.81it/s]\n",
      "Computing chunks: 100%|████████████████████████| 5/5 [00:00<00:00, 96199.63it/s]\n",
      "Splitting the experimental spectrum into chunks: 27129it [00:00, 1559285.13it/s]\n",
      "Deconvolving chunks: 100%|████████████████████████| 1/1 [00:22<00:00, 22.49s/it]\n"
     ]
    },
    {
     "name": "stdout",
     "output_type": "stream",
     "text": [
      "Estimation for 0.08 and 0.24000000000000002 done\n",
      "It took: 22.621925830841064 seconds.\n",
      "[0.22954413790600017, 0.1482041627230001, 0.11842363758000009, 0.16502329666900012, 0.3257298717180002]\n"
     ]
    },
    {
     "name": "stderr",
     "output_type": "stream",
     "text": [
      "Initial filtering of formulas: 100%|█████████████| 5/5 [00:00<00:00, 234.73it/s]\n",
      "Computing chunks: 100%|███████████████████████| 5/5 [00:00<00:00, 125577.96it/s]\n",
      "Splitting the experimental spectrum into chunks: 27129it [00:00, 2224449.66it/s]\n",
      "Deconvolving chunks: 100%|████████████████████████| 1/1 [00:17<00:00, 17.77s/it]\n"
     ]
    },
    {
     "name": "stdout",
     "output_type": "stream",
     "text": [
      "Estimation for 0.08 and 0.25 done\n",
      "It took: 17.849284172058105 seconds.\n",
      "[0.22959491275600016, 0.1478057693890001, 0.11847771775900008, 0.1649221381490001, 0.32555554093400024]\n"
     ]
    },
    {
     "name": "stderr",
     "output_type": "stream",
     "text": [
      "Initial filtering of formulas: 100%|█████████████| 5/5 [00:00<00:00, 205.82it/s]\n",
      "Computing chunks: 100%|███████████████████████| 5/5 [00:00<00:00, 114598.47it/s]\n",
      "Splitting the experimental spectrum into chunks: 27129it [00:00, 2133324.71it/s]\n",
      "Deconvolving chunks: 100%|████████████████████████| 1/1 [00:18<00:00, 18.94s/it]\n"
     ]
    },
    {
     "name": "stdout",
     "output_type": "stream",
     "text": [
      "Estimation for 0.08 and 0.26 done\n",
      "It took: 19.042158126831055 seconds.\n",
      "[0.22963767787300016, 0.1475587888090001, 0.11853733714700009, 0.1647853307160001, 0.3253134897180002]\n"
     ]
    },
    {
     "name": "stderr",
     "output_type": "stream",
     "text": [
      "Initial filtering of formulas: 100%|█████████████| 5/5 [00:00<00:00, 163.77it/s]\n",
      "Computing chunks: 100%|████████████████████████| 5/5 [00:00<00:00, 89240.51it/s]\n",
      "Splitting the experimental spectrum into chunks: 27129it [00:00, 1896802.30it/s]\n",
      "Deconvolving chunks: 100%|████████████████████████| 1/1 [00:16<00:00, 16.03s/it]\n"
     ]
    },
    {
     "name": "stdout",
     "output_type": "stream",
     "text": [
      "Estimation for 0.08 and 0.27 done\n",
      "It took: 16.131505012512207 seconds.\n",
      "[0.22965902316400016, 0.1472838824620001, 0.11857338162400008, 0.1649754355070001, 0.3249937855470002]\n"
     ]
    },
    {
     "name": "stderr",
     "output_type": "stream",
     "text": [
      "Initial filtering of formulas: 100%|█████████████| 5/5 [00:00<00:00, 265.87it/s]\n",
      "Computing chunks: 100%|███████████████████████| 5/5 [00:00<00:00, 197844.53it/s]\n",
      "Splitting the experimental spectrum into chunks: 27129it [00:00, 2857182.00it/s]\n",
      "Deconvolving chunks: 100%|████████████████████████| 1/1 [00:20<00:00, 20.59s/it]\n"
     ]
    },
    {
     "name": "stdout",
     "output_type": "stream",
     "text": [
      "Estimation for 0.08 and 0.28 done\n",
      "It took: 20.660584211349487 seconds.\n",
      "[0.22969431124400017, 0.1467098119170001, 0.11861514272800008, 0.16524756597500012, 0.3246205585380002]\n"
     ]
    },
    {
     "name": "stderr",
     "output_type": "stream",
     "text": [
      "Initial filtering of formulas: 100%|█████████████| 5/5 [00:00<00:00, 151.02it/s]\n",
      "Computing chunks: 100%|████████████████████████| 5/5 [00:00<00:00, 45889.54it/s]\n",
      "Splitting the experimental spectrum into chunks: 27129it [00:00, 1691802.81it/s]\n",
      "Deconvolving chunks: 100%|████████████████████████| 1/1 [00:19<00:00, 19.54s/it]\n"
     ]
    },
    {
     "name": "stdout",
     "output_type": "stream",
     "text": [
      "Estimation for 0.08 and 0.29000000000000004 done\n",
      "It took: 19.6587872505188 seconds.\n",
      "[0.22971787742700017, 0.1460610366200001, 0.11866149356500008, 0.16555431702500012, 0.32422638883400023]\n"
     ]
    },
    {
     "name": "stderr",
     "output_type": "stream",
     "text": [
      "Initial filtering of formulas: 100%|█████████████| 5/5 [00:00<00:00, 229.35it/s]\n",
      "Computing chunks: 100%|████████████████████████| 5/5 [00:00<00:00, 96199.63it/s]\n",
      "Splitting the experimental spectrum into chunks: 27129it [00:00, 2281815.09it/s]\n",
      "Deconvolving chunks: 100%|████████████████████████| 1/1 [00:17<00:00, 17.93s/it]\n"
     ]
    },
    {
     "name": "stdout",
     "output_type": "stream",
     "text": [
      "Estimation for 0.08 and 0.3 done\n",
      "It took: 18.002660751342773 seconds.\n",
      "[0.22980350209400016, 0.14543867248400008, 0.11870304254600009, 0.16583169763200012, 0.3237591621550002]\n"
     ]
    },
    {
     "name": "stderr",
     "output_type": "stream",
     "text": [
      "Initial filtering of formulas: 100%|█████████████| 5/5 [00:00<00:00, 235.57it/s]\n",
      "Computing chunks: 100%|████████████████████████| 5/5 [00:00<00:00, 97997.76it/s]\n",
      "Splitting the experimental spectrum into chunks: 27129it [00:00, 2346419.62it/s]\n",
      "Deconvolving chunks: 100%|████████████████████████| 1/1 [00:17<00:00, 17.16s/it]\n"
     ]
    },
    {
     "name": "stdout",
     "output_type": "stream",
     "text": [
      "Estimation for 0.09 and 0.01 done\n",
      "It took: 17.250089168548584 seconds.\n",
      "[0.21755084554200013, 0.1842519119180001, 0.11203796674500006, 0.1721534951830001, 0.31400578061200024]\n"
     ]
    },
    {
     "name": "stderr",
     "output_type": "stream",
     "text": [
      "Initial filtering of formulas: 100%|█████████████| 5/5 [00:00<00:00, 193.30it/s]\n",
      "Computing chunks: 100%|████████████████████████| 5/5 [00:00<00:00, 91180.52it/s]\n",
      "Splitting the experimental spectrum into chunks: 27129it [00:00, 2371704.63it/s]\n",
      "Deconvolving chunks: 100%|████████████████████████| 1/1 [00:15<00:00, 15.59s/it]\n"
     ]
    },
    {
     "name": "stdout",
     "output_type": "stream",
     "text": [
      "Estimation for 0.09 and 0.02 done\n",
      "It took: 15.671738862991333 seconds.\n",
      "[0.22749747499800013, 0.15057183637400012, 0.11728689957200009, 0.1773559218180001, 0.32728786723800024]\n"
     ]
    },
    {
     "name": "stderr",
     "output_type": "stream",
     "text": [
      "Initial filtering of formulas: 100%|█████████████| 5/5 [00:00<00:00, 216.45it/s]\n",
      "Computing chunks: 100%|████████████████████████| 5/5 [00:00<00:00, 91180.52it/s]\n",
      "Splitting the experimental spectrum into chunks: 27129it [00:00, 2245387.82it/s]\n",
      "Deconvolving chunks: 100%|████████████████████████| 1/1 [00:15<00:00, 15.60s/it]\n"
     ]
    },
    {
     "name": "stdout",
     "output_type": "stream",
     "text": [
      "Estimation for 0.09 and 0.03 done\n",
      "It took: 15.680824995040894 seconds.\n",
      "[0.22773846947000015, 0.15085527514200012, 0.11753960541000008, 0.1770456446430001, 0.32682100533500025]\n"
     ]
    },
    {
     "name": "stderr",
     "output_type": "stream",
     "text": [
      "Initial filtering of formulas: 100%|█████████████| 5/5 [00:00<00:00, 238.42it/s]\n",
      "Computing chunks: 100%|███████████████████████| 5/5 [00:00<00:00, 140748.46it/s]\n",
      "Splitting the experimental spectrum into chunks: 27129it [00:00, 2635123.62it/s]\n",
      "Deconvolving chunks: 100%|████████████████████████| 1/1 [00:20<00:00, 20.15s/it]\n"
     ]
    },
    {
     "name": "stdout",
     "output_type": "stream",
     "text": [
      "Estimation for 0.09 and 0.04 done\n",
      "It took: 20.22529935836792 seconds.\n",
      "[0.22792690637900015, 0.15107391778000012, 0.11773124674100008, 0.17717095468800012, 0.3260969744120002]\n"
     ]
    },
    {
     "name": "stderr",
     "output_type": "stream",
     "text": [
      "Initial filtering of formulas: 100%|█████████████| 5/5 [00:00<00:00, 223.89it/s]\n",
      "Computing chunks: 100%|███████████████████████| 5/5 [00:00<00:00, 125577.96it/s]\n",
      "Splitting the experimental spectrum into chunks: 27129it [00:00, 2404532.21it/s]\n",
      "Deconvolving chunks: 100%|████████████████████████| 1/1 [00:16<00:00, 16.63s/it]\n"
     ]
    },
    {
     "name": "stdout",
     "output_type": "stream",
     "text": [
      "Estimation for 0.09 and 0.05 done\n",
      "It took: 16.70814609527588 seconds.\n",
      "[0.22800614495500013, 0.1511773893160001, 0.11784200944000009, 0.1771073672140001, 0.3258670890750002]\n"
     ]
    },
    {
     "name": "stderr",
     "output_type": "stream",
     "text": [
      "Initial filtering of formulas: 100%|█████████████| 5/5 [00:00<00:00, 245.45it/s]\n",
      "Computing chunks: 100%|███████████████████████| 5/5 [00:00<00:00, 142663.40it/s]\n",
      "Splitting the experimental spectrum into chunks: 27129it [00:00, 2755673.57it/s]\n",
      "Deconvolving chunks: 100%|████████████████████████| 1/1 [00:15<00:00, 15.59s/it]\n"
     ]
    },
    {
     "name": "stdout",
     "output_type": "stream",
     "text": [
      "Estimation for 0.09 and 0.060000000000000005 done\n",
      "It took: 15.655844926834106 seconds.\n",
      "[0.22791342622200014, 0.15134016525300012, 0.11800515032200008, 0.1772390948450001, 0.3255021633580002]\n"
     ]
    },
    {
     "name": "stderr",
     "output_type": "stream",
     "text": [
      "Initial filtering of formulas: 100%|█████████████| 5/5 [00:00<00:00, 249.93it/s]\n",
      "Computing chunks: 100%|███████████████████████| 5/5 [00:00<00:00, 190650.18it/s]\n",
      "Splitting the experimental spectrum into chunks: 27129it [00:00, 2362300.14it/s]\n",
      "Deconvolving chunks: 100%|████████████████████████| 1/1 [00:16<00:00, 16.91s/it]\n"
     ]
    },
    {
     "name": "stdout",
     "output_type": "stream",
     "text": [
      "Estimation for 0.09 and 0.06999999999999999 done\n",
      "It took: 16.973715782165527 seconds.\n",
      "[0.22785881068300015, 0.1515704520090001, 0.11822816222900008, 0.1770364514150001, 0.3253061236630002]\n"
     ]
    },
    {
     "name": "stderr",
     "output_type": "stream",
     "text": [
      "Initial filtering of formulas: 100%|█████████████| 5/5 [00:00<00:00, 212.25it/s]\n",
      "Computing chunks: 100%|███████████████████████| 5/5 [00:00<00:00, 114598.47it/s]\n",
      "Splitting the experimental spectrum into chunks: 27129it [00:00, 2424668.61it/s]\n",
      "Deconvolving chunks: 100%|████████████████████████| 1/1 [00:17<00:00, 17.95s/it]\n"
     ]
    },
    {
     "name": "stdout",
     "output_type": "stream",
     "text": [
      "Estimation for 0.09 and 0.08 done\n",
      "It took: 18.0268394947052 seconds.\n",
      "[0.22780351728000015, 0.15160544045800012, 0.11831141473700009, 0.17701688002900012, 0.32526274749700024]\n"
     ]
    },
    {
     "name": "stderr",
     "output_type": "stream",
     "text": [
      "Initial filtering of formulas: 100%|█████████████| 5/5 [00:00<00:00, 115.22it/s]\n",
      "Computing chunks: 100%|████████████████████████| 5/5 [00:00<00:00, 67650.06it/s]\n",
      "Splitting the experimental spectrum into chunks: 27129it [00:00, 2088031.44it/s]\n",
      "Deconvolving chunks: 100%|████████████████████████| 1/1 [00:21<00:00, 21.11s/it]\n"
     ]
    },
    {
     "name": "stdout",
     "output_type": "stream",
     "text": [
      "Estimation for 0.09 and 0.09 done\n",
      "It took: 21.22098422050476 seconds.\n",
      "[0.22783946788900014, 0.1516823182740001, 0.11841013928600008, 0.17697185787600012, 0.32509621667600025]\n"
     ]
    },
    {
     "name": "stderr",
     "output_type": "stream",
     "text": [
      "Initial filtering of formulas: 100%|█████████████| 5/5 [00:00<00:00, 154.03it/s]\n",
      "Computing chunks: 100%|███████████████████████| 5/5 [00:00<00:00, 111550.64it/s]\n",
      "Splitting the experimental spectrum into chunks: 27129it [00:00, 1744614.90it/s]\n",
      "Deconvolving chunks: 100%|████████████████████████| 1/1 [00:19<00:00, 19.70s/it]\n"
     ]
    },
    {
     "name": "stdout",
     "output_type": "stream",
     "text": [
      "Estimation for 0.09 and 0.09999999999999999 done\n",
      "It took: 19.814560413360596 seconds.\n",
      "[0.22779881892800014, 0.15178184622400012, 0.11852733117800009, 0.17697409719400012, 0.3249179064770002]\n"
     ]
    },
    {
     "name": "stderr",
     "output_type": "stream",
     "text": [
      "Initial filtering of formulas: 100%|█████████████| 5/5 [00:00<00:00, 209.75it/s]\n",
      "Computing chunks: 100%|███████████████████████| 5/5 [00:00<00:00, 104335.92it/s]\n",
      "Splitting the experimental spectrum into chunks: 27129it [00:00, 2193489.60it/s]\n",
      "Deconvolving chunks: 100%|████████████████████████| 1/1 [00:17<00:00, 17.50s/it]\n"
     ]
    },
    {
     "name": "stdout",
     "output_type": "stream",
     "text": [
      "Estimation for 0.09 and 0.11 done\n",
      "It took: 17.595853328704834 seconds.\n",
      "[0.22774682495400014, 0.1518660946840001, 0.11860870270100009, 0.1769868547910001, 0.32479152287000024]\n"
     ]
    },
    {
     "name": "stderr",
     "output_type": "stream",
     "text": [
      "Initial filtering of formulas: 100%|█████████████| 5/5 [00:00<00:00, 221.84it/s]\n",
      "Computing chunks: 100%|████████████████████████| 5/5 [00:00<00:00, 67869.00it/s]\n",
      "Splitting the experimental spectrum into chunks: 27129it [00:00, 2032605.23it/s]\n",
      "Deconvolving chunks: 100%|████████████████████████| 1/1 [00:16<00:00, 16.88s/it]\n"
     ]
    },
    {
     "name": "stdout",
     "output_type": "stream",
     "text": [
      "Estimation for 0.09 and 0.12 done\n",
      "It took: 16.966190576553345 seconds.\n",
      "[0.22785155762300013, 0.1519816078340001, 0.11873425299200008, 0.1762801439700001, 0.32473676701300025]\n"
     ]
    },
    {
     "name": "stderr",
     "output_type": "stream",
     "text": [
      "Initial filtering of formulas: 100%|█████████████| 5/5 [00:00<00:00, 214.90it/s]\n",
      "Computing chunks: 100%|████████████████████████| 5/5 [00:00<00:00, 65948.18it/s]\n",
      "Splitting the experimental spectrum into chunks: 27129it [00:00, 1935783.22it/s]\n",
      "Deconvolving chunks: 100%|████████████████████████| 1/1 [00:22<00:00, 22.68s/it]\n"
     ]
    },
    {
     "name": "stdout",
     "output_type": "stream",
     "text": [
      "Estimation for 0.09 and 0.13 done\n",
      "It took: 22.775816917419434 seconds.\n",
      "[0.22889835200000014, 0.1526886332560001, 0.11885322385200009, 0.1670279296750001, 0.32604424121800024]\n"
     ]
    },
    {
     "name": "stderr",
     "output_type": "stream",
     "text": [
      "Initial filtering of formulas: 100%|█████████████| 5/5 [00:00<00:00, 133.55it/s]\n",
      "Computing chunks: 100%|████████████████████████| 5/5 [00:00<00:00, 50051.36it/s]\n",
      "Splitting the experimental spectrum into chunks: 27129it [00:00, 1423337.25it/s]\n",
      "Deconvolving chunks: 100%|████████████████████████| 1/1 [00:28<00:00, 28.08s/it]\n"
     ]
    },
    {
     "name": "stdout",
     "output_type": "stream",
     "text": [
      "Estimation for 0.09 and 0.14 done\n",
      "It took: 28.216729164123535 seconds.\n",
      "[0.22898617959800013, 0.1527683091000001, 0.11847850581400009, 0.1667598015450001, 0.3260624292210002]\n"
     ]
    },
    {
     "name": "stderr",
     "output_type": "stream",
     "text": [
      "Initial filtering of formulas: 100%|█████████████| 5/5 [00:00<00:00, 112.94it/s]\n",
      "Computing chunks: 100%|█████████████████████████| 5/5 [00:00<00:00, 8240.28it/s]\n",
      "Splitting the experimental spectrum into chunks: 27129it [00:00, 1567317.81it/s]\n",
      "Deconvolving chunks: 100%|████████████████████████| 1/1 [00:22<00:00, 22.53s/it]\n"
     ]
    },
    {
     "name": "stdout",
     "output_type": "stream",
     "text": [
      "Estimation for 0.09 and 0.15000000000000002 done\n",
      "It took: 22.67894673347473 seconds.\n",
      "[0.22904685457400015, 0.15282747192900012, 0.11832469680300009, 0.1666191973480001, 0.3259933164430002]\n"
     ]
    },
    {
     "name": "stderr",
     "output_type": "stream",
     "text": [
      "Initial filtering of formulas: 100%|█████████████| 5/5 [00:00<00:00, 229.68it/s]\n",
      "Computing chunks: 100%|███████████████████████| 5/5 [00:00<00:00, 144631.17it/s]\n",
      "Splitting the experimental spectrum into chunks: 27129it [00:00, 1615929.24it/s]\n",
      "Deconvolving chunks: 100%|████████████████████████| 1/1 [00:17<00:00, 17.98s/it]\n"
     ]
    },
    {
     "name": "stdout",
     "output_type": "stream",
     "text": [
      "Estimation for 0.09 and 0.16 done\n",
      "It took: 18.07099723815918 seconds.\n",
      "[0.22906576976800014, 0.15286011421500012, 0.11819693730700008, 0.16660595772600012, 0.3259571257760002]\n"
     ]
    },
    {
     "name": "stderr",
     "output_type": "stream",
     "text": [
      "Initial filtering of formulas: 100%|█████████████| 5/5 [00:00<00:00, 213.42it/s]\n",
      "Computing chunks: 100%|███████████████████████| 5/5 [00:00<00:00, 104335.92it/s]\n",
      "Splitting the experimental spectrum into chunks: 27129it [00:00, 2411871.49it/s]\n",
      "Deconvolving chunks: 100%|████████████████████████| 1/1 [00:16<00:00, 16.89s/it]\n"
     ]
    },
    {
     "name": "stdout",
     "output_type": "stream",
     "text": [
      "Estimation for 0.09 and 0.17 done\n",
      "It took: 16.978665590286255 seconds.\n",
      "[0.22911636810600014, 0.1528843293330001, 0.11814223104100008, 0.1664779788870001, 0.3259215168650002]\n"
     ]
    },
    {
     "name": "stderr",
     "output_type": "stream",
     "text": [
      "Initial filtering of formulas: 100%|█████████████| 5/5 [00:00<00:00, 209.93it/s]\n",
      "Computing chunks: 100%|████████████████████████| 5/5 [00:00<00:00, 56987.83it/s]\n",
      "Splitting the experimental spectrum into chunks: 27129it [00:00, 1827937.37it/s]\n",
      "Deconvolving chunks: 100%|████████████████████████| 1/1 [00:18<00:00, 18.55s/it]\n"
     ]
    },
    {
     "name": "stdout",
     "output_type": "stream",
     "text": [
      "Estimation for 0.09 and 0.18000000000000002 done\n",
      "It took: 18.62822914123535 seconds.\n",
      "[0.22913312160400015, 0.1529334781450001, 0.11805469868500008, 0.1662604436880001, 0.32596389977700024]\n"
     ]
    },
    {
     "name": "stderr",
     "output_type": "stream",
     "text": [
      "Initial filtering of formulas: 100%|█████████████| 5/5 [00:00<00:00, 231.12it/s]\n",
      "Computing chunks: 100%|████████████████████████| 5/5 [00:00<00:00, 74631.74it/s]\n",
      "Splitting the experimental spectrum into chunks: 27129it [00:00, 2303292.85it/s]\n",
      "Deconvolving chunks: 100%|████████████████████████| 1/1 [00:33<00:00, 33.97s/it]\n"
     ]
    },
    {
     "name": "stdout",
     "output_type": "stream",
     "text": [
      "Estimation for 0.09 and 0.19 done\n",
      "It took: 34.057748556137085 seconds.\n",
      "[0.22913406830400013, 0.15295656078700012, 0.11805234511800008, 0.1661499155440001, 0.3259628596480002]\n"
     ]
    },
    {
     "name": "stderr",
     "output_type": "stream",
     "text": [
      "Initial filtering of formulas: 100%|█████████████| 5/5 [00:00<00:00, 192.03it/s]\n",
      "Computing chunks: 100%|████████████████████████| 5/5 [00:00<00:00, 24244.53it/s]\n",
      "Splitting the experimental spectrum into chunks: 27129it [00:00, 1931347.57it/s]\n",
      "Deconvolving chunks: 100%|████████████████████████| 1/1 [00:22<00:00, 22.10s/it]\n"
     ]
    },
    {
     "name": "stdout",
     "output_type": "stream",
     "text": [
      "Estimation for 0.09 and 0.2 done\n",
      "It took: 22.221760034561157 seconds.\n",
      "[0.22910513770500013, 0.1529650586650001, 0.11806006989700009, 0.1661056847140001, 0.3259933827710002]\n"
     ]
    },
    {
     "name": "stderr",
     "output_type": "stream",
     "text": [
      "Initial filtering of formulas: 100%|█████████████| 5/5 [00:00<00:00, 140.37it/s]\n",
      "Computing chunks: 100%|████████████████████████| 5/5 [00:00<00:00, 34155.57it/s]\n",
      "Splitting the experimental spectrum into chunks: 27129it [00:00, 2188048.48it/s]\n",
      "Deconvolving chunks: 100%|████████████████████████| 1/1 [00:18<00:00, 18.62s/it]\n"
     ]
    },
    {
     "name": "stdout",
     "output_type": "stream",
     "text": [
      "Estimation for 0.09 and 0.21000000000000002 done\n",
      "It took: 18.729588985443115 seconds.\n",
      "[0.22911009290900014, 0.1528939412580001, 0.11807513487200008, 0.1658547889650001, 0.3260488374260002]\n"
     ]
    },
    {
     "name": "stderr",
     "output_type": "stream",
     "text": [
      "Initial filtering of formulas: 100%|█████████████| 5/5 [00:00<00:00, 219.48it/s]\n",
      "Computing chunks: 100%|███████████████████████| 5/5 [00:00<00:00, 119837.26it/s]\n",
      "Splitting the experimental spectrum into chunks: 27129it [00:00, 2379939.20it/s]\n",
      "Deconvolving chunks: 100%|████████████████████████| 1/1 [00:18<00:00, 18.63s/it]\n"
     ]
    },
    {
     "name": "stdout",
     "output_type": "stream",
     "text": [
      "Estimation for 0.09 and 0.22 done\n",
      "It took: 18.722386598587036 seconds.\n",
      "[0.22928210444900016, 0.1504462956220001, 0.11817206075400008, 0.1657061916940001, 0.3262462642320002]\n"
     ]
    },
    {
     "name": "stderr",
     "output_type": "stream",
     "text": [
      "Initial filtering of formulas: 100%|█████████████| 5/5 [00:00<00:00, 213.25it/s]\n",
      "Computing chunks: 100%|████████████████████████| 5/5 [00:00<00:00, 84904.94it/s]\n",
      "Splitting the experimental spectrum into chunks: 27129it [00:00, 2236692.81it/s]\n",
      "Deconvolving chunks: 100%|████████████████████████| 1/1 [00:18<00:00, 18.09s/it]\n"
     ]
    },
    {
     "name": "stdout",
     "output_type": "stream",
     "text": [
      "Estimation for 0.09 and 0.23 done\n",
      "It took: 18.176483392715454 seconds.\n",
      "[0.22935291334500016, 0.14946897815300011, 0.11824477479700009, 0.1655919431880001, 0.3262645275740002]\n"
     ]
    },
    {
     "name": "stderr",
     "output_type": "stream",
     "text": [
      "Initial filtering of formulas: 100%|█████████████| 5/5 [00:00<00:00, 213.35it/s]\n",
      "Computing chunks: 100%|████████████████████████| 5/5 [00:00<00:00, 92385.55it/s]\n",
      "Splitting the experimental spectrum into chunks: 27129it [00:00, 2181462.65it/s]\n",
      "Deconvolving chunks: 100%|████████████████████████| 1/1 [00:22<00:00, 22.97s/it]\n"
     ]
    },
    {
     "name": "stdout",
     "output_type": "stream",
     "text": [
      "Estimation for 0.09 and 0.24000000000000002 done\n",
      "It took: 23.068706035614014 seconds.\n",
      "[0.22941474982300017, 0.14916885597900012, 0.11830210790600008, 0.1653085120310001, 0.32623436760800023]\n"
     ]
    },
    {
     "name": "stderr",
     "output_type": "stream",
     "text": [
      "Initial filtering of formulas: 100%|█████████████| 5/5 [00:00<00:00, 119.38it/s]\n",
      "Computing chunks: 100%|████████████████████████| 5/5 [00:00<00:00, 39053.11it/s]\n",
      "Splitting the experimental spectrum into chunks: 27129it [00:00, 1376520.01it/s]\n",
      "Deconvolving chunks: 100%|████████████████████████| 1/1 [00:26<00:00, 26.46s/it]\n"
     ]
    },
    {
     "name": "stdout",
     "output_type": "stream",
     "text": [
      "Estimation for 0.09 and 0.25 done\n",
      "It took: 26.62583065032959 seconds.\n",
      "[0.22944931096000018, 0.1489234841390001, 0.11835949899600008, 0.1650625466920001, 0.32621844304100023]\n"
     ]
    },
    {
     "name": "stderr",
     "output_type": "stream",
     "text": [
      "Initial filtering of formulas: 100%|█████████████| 5/5 [00:00<00:00, 195.62it/s]\n",
      "Computing chunks: 100%|████████████████████████| 5/5 [00:00<00:00, 27094.99it/s]\n",
      "Splitting the experimental spectrum into chunks: 27129it [00:00, 1473909.32it/s]\n",
      "Deconvolving chunks: 100%|████████████████████████| 1/1 [00:18<00:00, 18.02s/it]\n"
     ]
    },
    {
     "name": "stdout",
     "output_type": "stream",
     "text": [
      "Estimation for 0.09 and 0.26 done\n",
      "It took: 18.126841068267822 seconds.\n",
      "[0.22948856597200018, 0.1485977521230001, 0.11841294586400009, 0.16487610519900012, 0.3261658002320002]\n"
     ]
    },
    {
     "name": "stderr",
     "output_type": "stream",
     "text": [
      "Initial filtering of formulas: 100%|█████████████| 5/5 [00:00<00:00, 238.65it/s]\n",
      "Computing chunks: 100%|████████████████████████| 5/5 [00:00<00:00, 42711.85it/s]\n",
      "Splitting the experimental spectrum into chunks: 27129it [00:00, 2353018.59it/s]\n",
      "Deconvolving chunks: 100%|████████████████████████| 1/1 [00:18<00:00, 18.50s/it]\n"
     ]
    },
    {
     "name": "stdout",
     "output_type": "stream",
     "text": [
      "Estimation for 0.09 and 0.27 done\n",
      "It took: 18.586406230926514 seconds.\n",
      "[0.22952280758200017, 0.14834321955900012, 0.11846296144400008, 0.1646901789900001, 0.32603827655500023]\n"
     ]
    },
    {
     "name": "stderr",
     "output_type": "stream",
     "text": [
      "Initial filtering of formulas: 100%|█████████████| 5/5 [00:00<00:00, 194.78it/s]\n",
      "Computing chunks: 100%|███████████████████████| 5/5 [00:00<00:00, 101311.69it/s]\n",
      "Splitting the experimental spectrum into chunks: 27129it [00:00, 2059945.57it/s]\n",
      "Deconvolving chunks: 100%|████████████████████████| 1/1 [00:19<00:00, 19.07s/it]\n"
     ]
    },
    {
     "name": "stdout",
     "output_type": "stream",
     "text": [
      "Estimation for 0.09 and 0.28 done\n",
      "It took: 19.160986185073853 seconds.\n",
      "[0.22954824834600016, 0.1479656769160001, 0.11850929795300008, 0.16465387344400012, 0.3259239073730002]\n"
     ]
    },
    {
     "name": "stderr",
     "output_type": "stream",
     "text": [
      "Initial filtering of formulas: 100%|█████████████| 5/5 [00:00<00:00, 178.92it/s]\n",
      "Computing chunks: 100%|████████████████████████| 5/5 [00:00<00:00, 59241.58it/s]\n",
      "Splitting the experimental spectrum into chunks: 27129it [00:00, 1590518.35it/s]\n",
      "Deconvolving chunks: 100%|████████████████████████| 1/1 [00:22<00:00, 22.58s/it]\n"
     ]
    },
    {
     "name": "stdout",
     "output_type": "stream",
     "text": [
      "Estimation for 0.09 and 0.29000000000000004 done\n",
      "It took: 22.67407512664795 seconds.\n",
      "[0.22959116425900017, 0.1476804601840001, 0.11854449815700008, 0.16478908249800012, 0.3258529415930002]\n"
     ]
    },
    {
     "name": "stderr",
     "output_type": "stream",
     "text": [
      "Initial filtering of formulas: 100%|█████████████| 5/5 [00:00<00:00, 126.84it/s]\n",
      "Computing chunks: 100%|████████████████████████| 5/5 [00:00<00:00, 35665.85it/s]\n",
      "Splitting the experimental spectrum into chunks: 27129it [00:00, 1265062.07it/s]\n",
      "Deconvolving chunks: 100%|████████████████████████| 1/1 [00:23<00:00, 23.96s/it]\n"
     ]
    },
    {
     "name": "stdout",
     "output_type": "stream",
     "text": [
      "Estimation for 0.09 and 0.3 done\n",
      "It took: 24.0956871509552 seconds.\n",
      "[0.22965991703700017, 0.14742328944700012, 0.11857945446900009, 0.1648939646680001, 0.3257963561260002]\n"
     ]
    },
    {
     "name": "stderr",
     "output_type": "stream",
     "text": [
      "Initial filtering of formulas: 100%|█████████████| 5/5 [00:00<00:00, 201.83it/s]\n",
      "Computing chunks: 100%|███████████████████████| 5/5 [00:00<00:00, 127100.12it/s]\n",
      "Splitting the experimental spectrum into chunks: 27129it [00:00, 2246584.79it/s]\n",
      "Deconvolving chunks: 100%|████████████████████████| 1/1 [00:23<00:00, 23.49s/it]\n"
     ]
    },
    {
     "name": "stdout",
     "output_type": "stream",
     "text": [
      "Estimation for 0.09999999999999999 and 0.01 done\n",
      "It took: 23.578023433685303 seconds.\n",
      "[0.21755084554200013, 0.1842519119180001, 0.11203796674500006, 0.1721534951830001, 0.31400578061200024]\n"
     ]
    },
    {
     "name": "stderr",
     "output_type": "stream",
     "text": [
      "Initial filtering of formulas: 100%|█████████████| 5/5 [00:00<00:00, 147.81it/s]\n",
      "Computing chunks: 100%|████████████████████████| 5/5 [00:00<00:00, 71331.70it/s]\n",
      "Splitting the experimental spectrum into chunks: 27129it [00:00, 1374989.71it/s]\n",
      "Deconvolving chunks: 100%|████████████████████████| 1/1 [00:19<00:00, 19.02s/it]\n"
     ]
    },
    {
     "name": "stdout",
     "output_type": "stream",
     "text": [
      "Estimation for 0.09999999999999999 and 0.02 done\n",
      "It took: 19.14581298828125 seconds.\n",
      "[0.22749747499800013, 0.15057183637400012, 0.11728689957200009, 0.1773559218180001, 0.32728786723800024]\n"
     ]
    },
    {
     "name": "stderr",
     "output_type": "stream",
     "text": [
      "Initial filtering of formulas: 100%|█████████████| 5/5 [00:00<00:00, 215.98it/s]\n",
      "Computing chunks: 100%|████████████████████████| 5/5 [00:00<00:00, 65536.00it/s]\n",
      "Splitting the experimental spectrum into chunks: 27129it [00:00, 2029921.92it/s]\n",
      "Deconvolving chunks: 100%|████████████████████████| 1/1 [00:18<00:00, 18.67s/it]\n"
     ]
    },
    {
     "name": "stdout",
     "output_type": "stream",
     "text": [
      "Estimation for 0.09999999999999999 and 0.03 done\n",
      "It took: 18.752702474594116 seconds.\n",
      "[0.22773846947000015, 0.15085527514200012, 0.11753960541000008, 0.1770456446430001, 0.32682100533500025]\n"
     ]
    },
    {
     "name": "stderr",
     "output_type": "stream",
     "text": [
      "Initial filtering of formulas: 100%|█████████████| 5/5 [00:00<00:00, 188.28it/s]\n",
      "Computing chunks: 100%|████████████████████████| 5/5 [00:00<00:00, 89240.51it/s]\n",
      "Splitting the experimental spectrum into chunks: 27129it [00:00, 2084550.49it/s]\n",
      "Deconvolving chunks: 100%|████████████████████████| 1/1 [00:21<00:00, 21.72s/it]\n"
     ]
    },
    {
     "name": "stdout",
     "output_type": "stream",
     "text": [
      "Estimation for 0.09999999999999999 and 0.04 done\n",
      "It took: 21.817500114440918 seconds.\n",
      "[0.22792690637900015, 0.15107391778000012, 0.11773124674100008, 0.17717095468800012, 0.3260969744120002]\n"
     ]
    },
    {
     "name": "stderr",
     "output_type": "stream",
     "text": [
      "Initial filtering of formulas: 100%|█████████████| 5/5 [00:00<00:00, 123.58it/s]\n",
      "Computing chunks: 100%|████████████████████████| 5/5 [00:00<00:00, 26346.13it/s]\n",
      "Splitting the experimental spectrum into chunks: 27129it [00:00, 1000222.16it/s]\n",
      "Deconvolving chunks: 100%|████████████████████████| 1/1 [00:23<00:00, 23.47s/it]\n"
     ]
    },
    {
     "name": "stdout",
     "output_type": "stream",
     "text": [
      "Estimation for 0.09999999999999999 and 0.05 done\n",
      "It took: 23.640899658203125 seconds.\n",
      "[0.22800614495500013, 0.1511773893160001, 0.11784200944000009, 0.1771073672140001, 0.3258670890750002]\n"
     ]
    },
    {
     "name": "stderr",
     "output_type": "stream",
     "text": [
      "Initial filtering of formulas: 100%|█████████████| 5/5 [00:00<00:00, 176.08it/s]\n",
      "Computing chunks: 100%|████████████████████████| 5/5 [00:00<00:00, 67001.66it/s]\n",
      "Splitting the experimental spectrum into chunks: 27129it [00:00, 2004638.19it/s]\n",
      "Deconvolving chunks: 100%|████████████████████████| 1/1 [00:17<00:00, 17.18s/it]\n"
     ]
    },
    {
     "name": "stdout",
     "output_type": "stream",
     "text": [
      "Estimation for 0.09999999999999999 and 0.060000000000000005 done\n",
      "It took: 17.270954608917236 seconds.\n",
      "[0.22791342622200014, 0.15134016525300012, 0.11800515032200008, 0.1772390948450001, 0.3255021633580002]\n"
     ]
    },
    {
     "name": "stderr",
     "output_type": "stream",
     "text": [
      "Initial filtering of formulas: 100%|█████████████| 5/5 [00:00<00:00, 131.09it/s]\n",
      "Computing chunks: 100%|███████████████████████| 5/5 [00:00<00:00, 101803.50it/s]\n",
      "Splitting the experimental spectrum into chunks: 27129it [00:00, 2264153.00it/s]\n",
      "Deconvolving chunks: 100%|████████████████████████| 1/1 [00:21<00:00, 21.74s/it]\n"
     ]
    },
    {
     "name": "stdout",
     "output_type": "stream",
     "text": [
      "Estimation for 0.09999999999999999 and 0.06999999999999999 done\n",
      "It took: 21.878111839294434 seconds.\n",
      "[0.22785881068300015, 0.1515704520090001, 0.11822816222900008, 0.1770364514150001, 0.3253061236630002]\n"
     ]
    },
    {
     "name": "stderr",
     "output_type": "stream",
     "text": [
      "Initial filtering of formulas: 100%|█████████████| 5/5 [00:00<00:00, 153.50it/s]\n",
      "Computing chunks: 100%|████████████████████████| 5/5 [00:00<00:00, 31823.25it/s]\n",
      "Splitting the experimental spectrum into chunks: 27129it [00:00, 1226896.33it/s]\n",
      "Deconvolving chunks: 100%|████████████████████████| 1/1 [00:19<00:00, 19.34s/it]\n"
     ]
    },
    {
     "name": "stdout",
     "output_type": "stream",
     "text": [
      "Estimation for 0.09999999999999999 and 0.08 done\n",
      "It took: 19.456678867340088 seconds.\n",
      "[0.22780351728000015, 0.15160544045800012, 0.11831141473700009, 0.17701688002900012, 0.32526274749700024]\n"
     ]
    },
    {
     "name": "stderr",
     "output_type": "stream",
     "text": [
      "Initial filtering of formulas: 100%|█████████████| 5/5 [00:00<00:00, 223.72it/s]\n",
      "Computing chunks: 100%|████████████████████████| 5/5 [00:00<00:00, 22869.71it/s]\n",
      "Splitting the experimental spectrum into chunks: 27129it [00:00, 1260409.77it/s]\n",
      "Deconvolving chunks: 100%|████████████████████████| 1/1 [00:23<00:00, 23.99s/it]\n"
     ]
    },
    {
     "name": "stdout",
     "output_type": "stream",
     "text": [
      "Estimation for 0.09999999999999999 and 0.09 done\n",
      "It took: 24.0868923664093 seconds.\n",
      "[0.22783946788900014, 0.1516823182740001, 0.11841013928600008, 0.17697185787600012, 0.32509621667600025]\n"
     ]
    },
    {
     "name": "stderr",
     "output_type": "stream",
     "text": [
      "Initial filtering of formulas: 100%|█████████████| 5/5 [00:00<00:00, 181.88it/s]\n",
      "Computing chunks: 100%|████████████████████████| 5/5 [00:00<00:00, 52692.26it/s]\n",
      "Splitting the experimental spectrum into chunks: 27129it [00:00, 1893047.07it/s]\n",
      "Deconvolving chunks: 100%|████████████████████████| 1/1 [00:20<00:00, 20.79s/it]\n"
     ]
    },
    {
     "name": "stdout",
     "output_type": "stream",
     "text": [
      "Estimation for 0.09999999999999999 and 0.09999999999999999 done\n",
      "It took: 20.90334129333496 seconds.\n",
      "[0.22779971472800015, 0.15178166800000012, 0.11852719681500008, 0.17697388810100012, 0.3249175323570002]\n"
     ]
    },
    {
     "name": "stderr",
     "output_type": "stream",
     "text": [
      "Initial filtering of formulas: 100%|█████████████| 5/5 [00:00<00:00, 199.57it/s]\n",
      "Computing chunks: 100%|████████████████████████| 5/5 [00:00<00:00, 87381.33it/s]\n",
      "Splitting the experimental spectrum into chunks: 27129it [00:00, 2053143.63it/s]\n",
      "Deconvolving chunks: 100%|████████████████████████| 1/1 [00:17<00:00, 17.79s/it]\n"
     ]
    },
    {
     "name": "stdout",
     "output_type": "stream",
     "text": [
      "Estimation for 0.09999999999999999 and 0.11 done\n",
      "It took: 17.87605357170105 seconds.\n",
      "[0.22774682495400014, 0.1518660946840001, 0.11860870270100009, 0.1769868547910001, 0.32479152287000024]\n"
     ]
    },
    {
     "name": "stderr",
     "output_type": "stream",
     "text": [
      "Initial filtering of formulas: 100%|█████████████| 5/5 [00:00<00:00, 209.63it/s]\n",
      "Computing chunks: 100%|████████████████████████| 5/5 [00:00<00:00, 47989.75it/s]\n",
      "Splitting the experimental spectrum into chunks: 27129it [00:00, 1932626.89it/s]\n",
      "Deconvolving chunks: 100%|████████████████████████| 1/1 [00:17<00:00, 17.13s/it]\n"
     ]
    },
    {
     "name": "stdout",
     "output_type": "stream",
     "text": [
      "Estimation for 0.09999999999999999 and 0.12 done\n",
      "It took: 17.216814517974854 seconds.\n",
      "[0.22778351470900013, 0.1519366452690001, 0.11869303255000008, 0.1769430273430001, 0.3246437801280002]\n"
     ]
    },
    {
     "name": "stderr",
     "output_type": "stream",
     "text": [
      "Initial filtering of formulas: 100%|█████████████| 5/5 [00:00<00:00, 225.50it/s]\n",
      "Computing chunks: 100%|███████████████████████| 5/5 [00:00<00:00, 118483.16it/s]\n",
      "Splitting the experimental spectrum into chunks: 27129it [00:00, 2028402.11it/s]\n",
      "Deconvolving chunks: 100%|████████████████████████| 1/1 [00:18<00:00, 18.77s/it]\n"
     ]
    },
    {
     "name": "stdout",
     "output_type": "stream",
     "text": [
      "Estimation for 0.09999999999999999 and 0.13 done\n",
      "It took: 18.86374020576477 seconds.\n",
      "[0.22784033540100013, 0.1519960632920001, 0.11879097076500009, 0.1768049714760001, 0.32456765906500024]\n"
     ]
    },
    {
     "name": "stderr",
     "output_type": "stream",
     "text": [
      "Initial filtering of formulas: 100%|█████████████| 5/5 [00:00<00:00, 174.70it/s]\n",
      "Computing chunks: 100%|████████████████████████| 5/5 [00:00<00:00, 46707.17it/s]\n",
      "Splitting the experimental spectrum into chunks: 27129it [00:00, 1938718.62it/s]\n",
      "Deconvolving chunks: 100%|████████████████████████| 1/1 [00:25<00:00, 25.38s/it]\n"
     ]
    },
    {
     "name": "stdout",
     "output_type": "stream",
     "text": [
      "Estimation for 0.09999999999999999 and 0.14 done\n",
      "It took: 25.495280981063843 seconds.\n",
      "[0.22882410269600015, 0.15270104548200011, 0.11921781870100008, 0.1673995720600001, 0.32586391083900024]\n"
     ]
    },
    {
     "name": "stderr",
     "output_type": "stream",
     "text": [
      "Initial filtering of formulas: 100%|█████████████| 5/5 [00:00<00:00, 158.50it/s]\n",
      "Computing chunks: 100%|████████████████████████| 5/5 [00:00<00:00, 71331.70it/s]\n",
      "Splitting the experimental spectrum into chunks: 27129it [00:00, 1429775.75it/s]\n",
      "Deconvolving chunks: 100%|████████████████████████| 1/1 [00:22<00:00, 22.12s/it]\n"
     ]
    },
    {
     "name": "stdout",
     "output_type": "stream",
     "text": [
      "Estimation for 0.09999999999999999 and 0.15000000000000002 done\n",
      "It took: 22.24605703353882 seconds.\n",
      "[0.22892447514700015, 0.1527830259080001, 0.11875464446700008, 0.1672723309860001, 0.3258338838860002]\n"
     ]
    },
    {
     "name": "stderr",
     "output_type": "stream",
     "text": [
      "Initial filtering of formulas: 100%|█████████████| 5/5 [00:00<00:00, 131.34it/s]\n",
      "Computing chunks: 100%|████████████████████████| 5/5 [00:00<00:00, 51025.60it/s]\n",
      "Splitting the experimental spectrum into chunks: 27129it [00:00, 1046878.09it/s]\n",
      "Deconvolving chunks: 100%|████████████████████████| 1/1 [00:17<00:00, 17.64s/it]\n"
     ]
    },
    {
     "name": "stdout",
     "output_type": "stream",
     "text": [
      "Estimation for 0.09999999999999999 and 0.16 done\n",
      "It took: 17.777114629745483 seconds.\n",
      "[0.22898719349300015, 0.15284215720800012, 0.11844983120700009, 0.1669957286070001, 0.3258997866410002]\n"
     ]
    },
    {
     "name": "stderr",
     "output_type": "stream",
     "text": [
      "Initial filtering of formulas: 100%|█████████████| 5/5 [00:00<00:00, 218.05it/s]\n",
      "Computing chunks: 100%|███████████████████████| 5/5 [00:00<00:00, 104335.92it/s]\n",
      "Splitting the experimental spectrum into chunks: 27129it [00:00, 1895475.22it/s]\n",
      "Deconvolving chunks: 100%|████████████████████████| 1/1 [00:15<00:00, 15.58s/it]\n"
     ]
    },
    {
     "name": "stdout",
     "output_type": "stream",
     "text": [
      "Estimation for 0.09999999999999999 and 0.17 done\n",
      "It took: 15.673330068588257 seconds.\n",
      "[0.22902658080300015, 0.1528644922020001, 0.11838022767700009, 0.16690683777400012, 0.3258637147770002]\n"
     ]
    },
    {
     "name": "stderr",
     "output_type": "stream",
     "text": [
      "Initial filtering of formulas: 100%|█████████████| 5/5 [00:00<00:00, 243.36it/s]\n",
      "Computing chunks: 100%|███████████████████████| 5/5 [00:00<00:00, 114598.47it/s]\n",
      "Splitting the experimental spectrum into chunks: 27129it [00:00, 2479511.74it/s]\n",
      "Deconvolving chunks: 100%|████████████████████████| 1/1 [00:15<00:00, 15.93s/it]\n"
     ]
    },
    {
     "name": "stdout",
     "output_type": "stream",
     "text": [
      "Estimation for 0.09999999999999999 and 0.18000000000000002 done\n",
      "It took: 16.0053813457489 seconds.\n",
      "[0.22903527442100013, 0.15291003607500012, 0.11823836528100008, 0.1668170859280001, 0.3258793461140002]\n"
     ]
    },
    {
     "name": "stderr",
     "output_type": "stream",
     "text": [
      "Initial filtering of formulas: 100%|█████████████| 5/5 [00:00<00:00, 184.50it/s]\n",
      "Computing chunks: 100%|████████████████████████| 5/5 [00:00<00:00, 57143.11it/s]\n",
      "Splitting the experimental spectrum into chunks: 27129it [00:00, 1652635.70it/s]\n",
      "Deconvolving chunks: 100%|████████████████████████| 1/1 [00:20<00:00, 20.54s/it]\n"
     ]
    },
    {
     "name": "stdout",
     "output_type": "stream",
     "text": [
      "Estimation for 0.09999999999999999 and 0.19 done\n",
      "It took: 20.635910511016846 seconds.\n",
      "[0.22905931697700013, 0.15294385177200012, 0.11815972091100008, 0.1666005181510001, 0.32592362811100023]\n"
     ]
    },
    {
     "name": "stderr",
     "output_type": "stream",
     "text": [
      "Initial filtering of formulas: 100%|█████████████| 5/5 [00:00<00:00, 223.49it/s]\n",
      "Computing chunks: 100%|███████████████████████| 5/5 [00:00<00:00, 128659.63it/s]\n",
      "Splitting the experimental spectrum into chunks: 27129it [00:00, 2267446.61it/s]\n",
      "Deconvolving chunks: 100%|████████████████████████| 1/1 [00:16<00:00, 16.01s/it]\n"
     ]
    },
    {
     "name": "stdout",
     "output_type": "stream",
     "text": [
      "Estimation for 0.09999999999999999 and 0.2 done\n",
      "It took: 16.085675716400146 seconds.\n",
      "[0.22904318718400013, 0.1529557228940001, 0.11810306741700008, 0.16642022263500011, 0.32599255313600023]\n"
     ]
    },
    {
     "name": "stderr",
     "output_type": "stream",
     "text": [
      "Initial filtering of formulas: 100%|█████████████| 5/5 [00:00<00:00, 263.53it/s]\n",
      "Computing chunks: 100%|███████████████████████| 5/5 [00:00<00:00, 162569.92it/s]\n",
      "Splitting the experimental spectrum into chunks: 27129it [00:00, 2704712.94it/s]\n",
      "Deconvolving chunks: 100%|████████████████████████| 1/1 [00:15<00:00, 15.04s/it]\n"
     ]
    },
    {
     "name": "stdout",
     "output_type": "stream",
     "text": [
      "Estimation for 0.09999999999999999 and 0.21000000000000002 done\n",
      "It took: 15.104799509048462 seconds.\n",
      "[0.22901525014800014, 0.1529395583340001, 0.11809881798100008, 0.1663163886520001, 0.3260544656680002]\n"
     ]
    },
    {
     "name": "stderr",
     "output_type": "stream",
     "text": [
      "Initial filtering of formulas: 100%|█████████████| 5/5 [00:00<00:00, 177.32it/s]\n",
      "Computing chunks: 100%|███████████████████████| 5/5 [00:00<00:00, 138884.24it/s]\n",
      "Splitting the experimental spectrum into chunks: 27129it [00:00, 1810227.39it/s]\n",
      "Deconvolving chunks: 100%|████████████████████████| 1/1 [00:15<00:00, 15.76s/it]\n"
     ]
    },
    {
     "name": "stdout",
     "output_type": "stream",
     "text": [
      "Estimation for 0.09999999999999999 and 0.22 done\n",
      "It took: 15.8363516330719 seconds.\n",
      "[0.22900911536100013, 0.1529321590820001, 0.11810085461300009, 0.16617643242800012, 0.3261206169760002]\n"
     ]
    },
    {
     "name": "stderr",
     "output_type": "stream",
     "text": [
      "Initial filtering of formulas: 100%|█████████████| 5/5 [00:00<00:00, 238.72it/s]\n",
      "Computing chunks: 100%|███████████████████████| 5/5 [00:00<00:00, 169125.16it/s]\n",
      "Splitting the experimental spectrum into chunks: 27129it [00:00, 2176580.46it/s]\n",
      "Deconvolving chunks: 100%|████████████████████████| 1/1 [00:20<00:00, 20.11s/it]\n"
     ]
    },
    {
     "name": "stdout",
     "output_type": "stream",
     "text": [
      "Estimation for 0.09999999999999999 and 0.23 done\n",
      "It took: 20.181976556777954 seconds.\n",
      "[0.22903206048600014, 0.15293824099100012, 0.11812155945400009, 0.16581168100900012, 0.32620715953200025]\n"
     ]
    },
    {
     "name": "stderr",
     "output_type": "stream",
     "text": [
      "Initial filtering of formulas: 100%|█████████████| 5/5 [00:00<00:00, 150.07it/s]\n",
      "Computing chunks: 100%|████████████████████████| 5/5 [00:00<00:00, 54755.93it/s]\n",
      "Splitting the experimental spectrum into chunks: 27129it [00:00, 1784618.46it/s]\n",
      "Deconvolving chunks: 100%|████████████████████████| 1/1 [00:17<00:00, 17.26s/it]\n"
     ]
    },
    {
     "name": "stdout",
     "output_type": "stream",
     "text": [
      "Estimation for 0.09999999999999999 and 0.24000000000000002 done\n",
      "It took: 17.366215467453003 seconds.\n",
      "[0.22906957369300013, 0.15291827839200012, 0.11811415220400008, 0.1655813021000001, 0.3262645073390002]\n"
     ]
    },
    {
     "name": "stderr",
     "output_type": "stream",
     "text": [
      "Initial filtering of formulas: 100%|█████████████| 5/5 [00:00<00:00, 246.79it/s]\n",
      "Computing chunks: 100%|███████████████████████| 5/5 [00:00<00:00, 177724.75it/s]\n",
      "Splitting the experimental spectrum into chunks: 27129it [00:00, 2689879.28it/s]\n",
      "Deconvolving chunks: 100%|████████████████████████| 1/1 [00:14<00:00, 14.86s/it]\n"
     ]
    },
    {
     "name": "stdout",
     "output_type": "stream",
     "text": [
      "Estimation for 0.09999999999999999 and 0.25 done\n",
      "It took: 14.922035455703735 seconds.\n",
      "[0.22928510967300017, 0.15027418157200012, 0.11821778784800008, 0.1654600213130001, 0.32651486069500024]\n"
     ]
    },
    {
     "name": "stderr",
     "output_type": "stream",
     "text": [
      "Initial filtering of formulas: 100%|█████████████| 5/5 [00:00<00:00, 264.96it/s]\n",
      "Computing chunks: 100%|███████████████████████| 5/5 [00:00<00:00, 118483.16it/s]\n",
      "Splitting the experimental spectrum into chunks: 27129it [00:00, 2719386.12it/s]\n",
      "Deconvolving chunks: 100%|████████████████████████| 1/1 [00:14<00:00, 14.95s/it]\n"
     ]
    },
    {
     "name": "stdout",
     "output_type": "stream",
     "text": [
      "Estimation for 0.09999999999999999 and 0.26 done\n",
      "It took: 15.010263919830322 seconds.\n",
      "[0.22934354158100018, 0.1496267879880001, 0.11828270696700008, 0.1651751691540001, 0.3265206888540002]\n"
     ]
    },
    {
     "name": "stderr",
     "output_type": "stream",
     "text": [
      "Initial filtering of formulas: 100%|█████████████| 5/5 [00:00<00:00, 254.91it/s]\n",
      "Computing chunks: 100%|███████████████████████| 5/5 [00:00<00:00, 132731.14it/s]\n",
      "Splitting the experimental spectrum into chunks: 27129it [00:00, 2753872.87it/s]\n",
      "Deconvolving chunks: 100%|████████████████████████| 1/1 [00:19<00:00, 19.13s/it]\n"
     ]
    },
    {
     "name": "stdout",
     "output_type": "stream",
     "text": [
      "Estimation for 0.09999999999999999 and 0.27 done\n",
      "It took: 19.20202898979187 seconds.\n",
      "[0.22940394191800018, 0.1493393584160001, 0.11834642176900008, 0.1649168049290001, 0.3265212246910002]\n"
     ]
    },
    {
     "name": "stderr",
     "output_type": "stream",
     "text": [
      "Initial filtering of formulas: 100%|█████████████| 5/5 [00:00<00:00, 154.06it/s]\n",
      "Computing chunks: 100%|███████████████████████| 5/5 [00:00<00:00, 113359.57it/s]\n",
      "Splitting the experimental spectrum into chunks: 27129it [00:00, 1417221.20it/s]\n",
      "Deconvolving chunks: 100%|████████████████████████| 1/1 [00:17<00:00, 17.21s/it]\n"
     ]
    },
    {
     "name": "stdout",
     "output_type": "stream",
     "text": [
      "Estimation for 0.09999999999999999 and 0.28 done\n",
      "It took: 17.325600624084473 seconds.\n",
      "[0.22943619353400016, 0.14910296583300012, 0.11840202687200008, 0.1647806769290001, 0.32651669641300024]\n"
     ]
    },
    {
     "name": "stderr",
     "output_type": "stream",
     "text": [
      "Initial filtering of formulas: 100%|█████████████| 5/5 [00:00<00:00, 229.62it/s]\n",
      "Computing chunks: 100%|████████████████████████| 5/5 [00:00<00:00, 86659.17it/s]\n",
      "Splitting the experimental spectrum into chunks: 27129it [00:00, 2211522.84it/s]\n",
      "Deconvolving chunks: 100%|████████████████████████| 1/1 [00:15<00:00, 15.02s/it]\n"
     ]
    },
    {
     "name": "stdout",
     "output_type": "stream",
     "text": [
      "Estimation for 0.09999999999999999 and 0.29000000000000004 done\n",
      "It took: 15.0923171043396 seconds.\n",
      "[0.22954487630600018, 0.1488054044530001, 0.11846475057600009, 0.1644821204160001, 0.3265246436210002]\n"
     ]
    },
    {
     "name": "stderr",
     "output_type": "stream",
     "text": [
      "Initial filtering of formulas: 100%|█████████████| 5/5 [00:00<00:00, 259.10it/s]\n",
      "Computing chunks: 100%|███████████████████████| 5/5 [00:00<00:00, 151967.54it/s]\n",
      "Splitting the experimental spectrum into chunks: 27129it [00:00, 2722053.33it/s]\n",
      "Deconvolving chunks: 100%|████████████████████████| 1/1 [00:15<00:00, 15.79s/it]\n"
     ]
    },
    {
     "name": "stdout",
     "output_type": "stream",
     "text": [
      "Estimation for 0.09999999999999999 and 0.3 done\n",
      "It took: 15.861007452011108 seconds.\n",
      "[0.22961721891500017, 0.14851929111500012, 0.11850092072200008, 0.1645841905320001, 0.3264758596250002]\n"
     ]
    },
    {
     "name": "stderr",
     "output_type": "stream",
     "text": [
      "Initial filtering of formulas: 100%|█████████████| 5/5 [00:00<00:00, 254.00it/s]\n",
      "Computing chunks: 100%|███████████████████████| 5/5 [00:00<00:00, 129453.83it/s]\n",
      "Splitting the experimental spectrum into chunks: 27129it [00:00, 2543698.68it/s]\n",
      "Deconvolving chunks: 100%|████████████████████████| 1/1 [00:18<00:00, 18.70s/it]\n"
     ]
    },
    {
     "name": "stdout",
     "output_type": "stream",
     "text": [
      "Estimation for 0.11 and 0.01 done\n",
      "It took: 18.76682686805725 seconds.\n",
      "[0.21755084554200013, 0.1842519119180001, 0.11203796674500006, 0.1721534951830001, 0.31400578061200024]\n"
     ]
    },
    {
     "name": "stderr",
     "output_type": "stream",
     "text": [
      "Initial filtering of formulas: 100%|█████████████| 5/5 [00:00<00:00, 156.94it/s]\n",
      "Computing chunks: 100%|███████████████████████| 5/5 [00:00<00:00, 102300.10it/s]\n",
      "Splitting the experimental spectrum into chunks: 27129it [00:00, 1833917.95it/s]\n",
      "Deconvolving chunks: 100%|████████████████████████| 1/1 [00:19<00:00, 19.39s/it]\n"
     ]
    },
    {
     "name": "stdout",
     "output_type": "stream",
     "text": [
      "Estimation for 0.11 and 0.02 done\n",
      "It took: 19.49044418334961 seconds.\n",
      "[0.22749747499800013, 0.15057183637400012, 0.11728689957200009, 0.1773559218180001, 0.32728786723800024]\n"
     ]
    },
    {
     "name": "stderr",
     "output_type": "stream",
     "text": [
      "Initial filtering of formulas: 100%|█████████████| 5/5 [00:00<00:00, 251.83it/s]\n",
      "Computing chunks: 100%|████████████████████████| 5/5 [00:00<00:00, 69212.94it/s]\n",
      "Splitting the experimental spectrum into chunks: 27129it [00:00, 2535593.04it/s]\n",
      "Deconvolving chunks: 100%|████████████████████████| 1/1 [00:15<00:00, 15.87s/it]\n"
     ]
    },
    {
     "name": "stdout",
     "output_type": "stream",
     "text": [
      "Estimation for 0.11 and 0.03 done\n",
      "It took: 15.937754392623901 seconds.\n",
      "[0.22773846947000015, 0.15085527514200012, 0.11753960541000008, 0.1770456446430001, 0.32682100533500025]\n"
     ]
    },
    {
     "name": "stderr",
     "output_type": "stream",
     "text": [
      "Initial filtering of formulas: 100%|█████████████| 5/5 [00:00<00:00, 239.34it/s]\n",
      "Computing chunks: 100%|████████████████████████| 5/5 [00:00<00:00, 50171.10it/s]\n",
      "Splitting the experimental spectrum into chunks: 27129it [00:00, 2167046.42it/s]\n",
      "Deconvolving chunks: 100%|████████████████████████| 1/1 [00:16<00:00, 16.28s/it]\n"
     ]
    },
    {
     "name": "stdout",
     "output_type": "stream",
     "text": [
      "Estimation for 0.11 and 0.04 done\n",
      "It took: 16.35426354408264 seconds.\n",
      "[0.22792690637900015, 0.15107391778000012, 0.11773124674100008, 0.17717095468800012, 0.3260969744120002]\n"
     ]
    },
    {
     "name": "stderr",
     "output_type": "stream",
     "text": [
      "Initial filtering of formulas: 100%|█████████████| 5/5 [00:00<00:00, 257.91it/s]\n",
      "Computing chunks: 100%|███████████████████████| 5/5 [00:00<00:00, 177724.75it/s]\n",
      "Splitting the experimental spectrum into chunks: 27129it [00:00, 2887855.27it/s]\n",
      "Deconvolving chunks: 100%|████████████████████████| 1/1 [00:20<00:00, 20.24s/it]\n"
     ]
    },
    {
     "name": "stdout",
     "output_type": "stream",
     "text": [
      "Estimation for 0.11 and 0.05 done\n",
      "It took: 20.31105089187622 seconds.\n",
      "[0.22800614495500013, 0.1511773893160001, 0.11784200944000009, 0.1771073672140001, 0.3258670890750002]\n"
     ]
    },
    {
     "name": "stderr",
     "output_type": "stream",
     "text": [
      "Initial filtering of formulas: 100%|█████████████| 5/5 [00:00<00:00, 146.94it/s]\n",
      "Computing chunks: 100%|████████████████████████| 5/5 [00:00<00:00, 38130.04it/s]\n",
      "Splitting the experimental spectrum into chunks: 27129it [00:00, 1358686.45it/s]\n",
      "Deconvolving chunks: 100%|████████████████████████| 1/1 [00:28<00:00, 28.29s/it]\n"
     ]
    },
    {
     "name": "stdout",
     "output_type": "stream",
     "text": [
      "Estimation for 0.11 and 0.060000000000000005 done\n",
      "It took: 28.41715097427368 seconds.\n",
      "[0.22791342622200014, 0.15134016525300012, 0.11800515032200008, 0.1772390948450001, 0.3255021633580002]\n"
     ]
    },
    {
     "name": "stderr",
     "output_type": "stream",
     "text": [
      "Initial filtering of formulas: 100%|█████████████| 5/5 [00:00<00:00, 116.06it/s]\n",
      "Computing chunks: 100%|████████████████████████| 5/5 [00:00<00:00, 26280.10it/s]\n",
      "Splitting the experimental spectrum into chunks: 27129it [00:00, 1309932.35it/s]\n",
      "Deconvolving chunks: 100%|████████████████████████| 1/1 [00:18<00:00, 18.64s/it]\n"
     ]
    },
    {
     "name": "stdout",
     "output_type": "stream",
     "text": [
      "Estimation for 0.11 and 0.06999999999999999 done\n",
      "It took: 18.803143978118896 seconds.\n",
      "[0.22785881068300015, 0.1515704520090001, 0.11822816222900008, 0.1770364514150001, 0.3253061236630002]\n"
     ]
    },
    {
     "name": "stderr",
     "output_type": "stream",
     "text": [
      "Initial filtering of formulas: 100%|█████████████| 5/5 [00:00<00:00, 236.55it/s]\n",
      "Computing chunks: 100%|████████████████████████| 5/5 [00:00<00:00, 62045.92it/s]\n",
      "Splitting the experimental spectrum into chunks: 27129it [00:00, 2449144.93it/s]\n",
      "Deconvolving chunks: 100%|████████████████████████| 1/1 [00:17<00:00, 17.60s/it]\n"
     ]
    },
    {
     "name": "stdout",
     "output_type": "stream",
     "text": [
      "Estimation for 0.11 and 0.08 done\n",
      "It took: 17.683255195617676 seconds.\n",
      "[0.22780351728000015, 0.15160544045800012, 0.11831141473700009, 0.17701688002900012, 0.32526274749700024]\n"
     ]
    },
    {
     "name": "stderr",
     "output_type": "stream",
     "text": [
      "Initial filtering of formulas: 100%|█████████████| 5/5 [00:00<00:00, 192.11it/s]\n",
      "Computing chunks: 100%|████████████████████████| 5/5 [00:00<00:00, 53362.65it/s]\n",
      "Splitting the experimental spectrum into chunks: 27129it [00:00, 1813545.31it/s]\n",
      "Deconvolving chunks: 100%|████████████████████████| 1/1 [00:17<00:00, 17.61s/it]\n"
     ]
    },
    {
     "name": "stdout",
     "output_type": "stream",
     "text": [
      "Estimation for 0.11 and 0.09 done\n",
      "It took: 17.712156295776367 seconds.\n",
      "[0.22783946788900014, 0.1516823182740001, 0.11841013928600008, 0.17697185787600012, 0.32509621667600025]\n"
     ]
    },
    {
     "name": "stderr",
     "output_type": "stream",
     "text": [
      "Initial filtering of formulas: 100%|█████████████| 5/5 [00:00<00:00, 214.35it/s]\n",
      "Computing chunks: 100%|███████████████████████| 5/5 [00:00<00:00, 122640.47it/s]\n",
      "Splitting the experimental spectrum into chunks: 27129it [00:00, 2164367.13it/s]\n",
      "Deconvolving chunks: 100%|████████████████████████| 1/1 [00:15<00:00, 15.71s/it]\n"
     ]
    },
    {
     "name": "stdout",
     "output_type": "stream",
     "text": [
      "Estimation for 0.11 and 0.09999999999999999 done\n",
      "It took: 15.80162239074707 seconds.\n",
      "[0.22779971472800015, 0.15178166800000012, 0.11852719681500008, 0.17697388810100012, 0.3249175323570002]\n"
     ]
    },
    {
     "name": "stderr",
     "output_type": "stream",
     "text": [
      "Initial filtering of formulas: 100%|█████████████| 5/5 [00:00<00:00, 249.57it/s]\n",
      "Computing chunks: 100%|███████████████████████| 5/5 [00:00<00:00, 183960.70it/s]\n",
      "Splitting the experimental spectrum into chunks: 27129it [00:00, 2554548.94it/s]\n",
      "Deconvolving chunks: 100%|████████████████████████| 1/1 [00:20<00:00, 20.36s/it]\n"
     ]
    },
    {
     "name": "stdout",
     "output_type": "stream",
     "text": [
      "Estimation for 0.11 and 0.11 done\n",
      "It took: 20.438903331756592 seconds.\n",
      "[0.22774682495400014, 0.1518660946840001, 0.11860870270100009, 0.1769868547910001, 0.32479152287000024]\n"
     ]
    },
    {
     "name": "stderr",
     "output_type": "stream",
     "text": [
      "Initial filtering of formulas: 100%|█████████████| 5/5 [00:00<00:00, 117.51it/s]\n",
      "Computing chunks: 100%|████████████████████████| 5/5 [00:00<00:00, 40880.16it/s]\n",
      "Splitting the experimental spectrum into chunks: 27129it [00:00, 1545015.12it/s]\n",
      "Deconvolving chunks: 100%|████████████████████████| 1/1 [00:17<00:00, 17.23s/it]\n"
     ]
    },
    {
     "name": "stdout",
     "output_type": "stream",
     "text": [
      "Estimation for 0.11 and 0.12 done\n",
      "It took: 17.363317728042603 seconds.\n",
      "[0.22778351470900013, 0.1519366452690001, 0.11869303255000008, 0.1769430273430001, 0.3246437801280002]\n"
     ]
    },
    {
     "name": "stderr",
     "output_type": "stream",
     "text": [
      "Initial filtering of formulas: 100%|█████████████| 5/5 [00:00<00:00, 251.41it/s]\n",
      "Computing chunks: 100%|████████████████████████| 5/5 [00:00<00:00, 99391.09it/s]\n",
      "Splitting the experimental spectrum into chunks: 27129it [00:00, 2612856.17it/s]\n",
      "Deconvolving chunks: 100%|████████████████████████| 1/1 [00:13<00:00, 13.93s/it]\n"
     ]
    },
    {
     "name": "stdout",
     "output_type": "stream",
     "text": [
      "Estimation for 0.11 and 0.13 done\n",
      "It took: 13.995800018310547 seconds.\n",
      "[0.22784033540100013, 0.1519960632920001, 0.11879097076500009, 0.1768049714760001, 0.32456765906500024]\n"
     ]
    },
    {
     "name": "stderr",
     "output_type": "stream",
     "text": [
      "Initial filtering of formulas: 100%|█████████████| 5/5 [00:00<00:00, 246.67it/s]\n",
      "Computing chunks: 100%|███████████████████████| 5/5 [00:00<00:00, 158875.15it/s]\n",
      "Splitting the experimental spectrum into chunks: 27129it [00:00, 2486555.65it/s]\n",
      "Deconvolving chunks: 100%|████████████████████████| 1/1 [00:15<00:00, 15.78s/it]\n"
     ]
    },
    {
     "name": "stdout",
     "output_type": "stream",
     "text": [
      "Estimation for 0.11 and 0.14 done\n",
      "It took: 15.851587057113647 seconds.\n",
      "[0.22785092688500014, 0.15205401439700011, 0.11888470730900008, 0.17673466250700012, 0.32447568890200024]\n"
     ]
    },
    {
     "name": "stderr",
     "output_type": "stream",
     "text": [
      "Initial filtering of formulas: 100%|█████████████| 5/5 [00:00<00:00, 245.27it/s]\n",
      "Computing chunks: 100%|███████████████████████| 5/5 [00:00<00:00, 102300.10it/s]\n",
      "Splitting the experimental spectrum into chunks: 27129it [00:00, 2514024.73it/s]\n",
      "Deconvolving chunks: 100%|████████████████████████| 1/1 [00:16<00:00, 16.29s/it]\n"
     ]
    },
    {
     "name": "stdout",
     "output_type": "stream",
     "text": [
      "Estimation for 0.11 and 0.15000000000000002 done\n",
      "It took: 16.362288236618042 seconds.\n",
      "[0.22802081483400014, 0.15220660567200012, 0.11904889668400008, 0.17520285689400011, 0.3246035572000002]\n"
     ]
    },
    {
     "name": "stderr",
     "output_type": "stream",
     "text": [
      "Initial filtering of formulas: 100%|█████████████| 5/5 [00:00<00:00, 127.08it/s]\n",
      "Computing chunks: 100%|████████████████████████| 5/5 [00:00<00:00, 53773.13it/s]\n",
      "Splitting the experimental spectrum into chunks: 27129it [00:00, 1554747.06it/s]\n",
      "Deconvolving chunks: 100%|████████████████████████| 1/1 [00:17<00:00, 18.00s/it]\n"
     ]
    },
    {
     "name": "stdout",
     "output_type": "stream",
     "text": [
      "Estimation for 0.11 and 0.16 done\n",
      "It took: 18.12319254875183 seconds.\n",
      "[0.22884813562200013, 0.15278454914600012, 0.11900212264700008, 0.1677009746060001, 0.3257237459020002]\n"
     ]
    },
    {
     "name": "stderr",
     "output_type": "stream",
     "text": [
      "Initial filtering of formulas: 100%|█████████████| 5/5 [00:00<00:00, 255.85it/s]\n",
      "Computing chunks: 100%|███████████████████████| 5/5 [00:00<00:00, 194180.74it/s]\n",
      "Splitting the experimental spectrum into chunks: 27129it [00:00, 2768344.72it/s]\n",
      "Deconvolving chunks: 100%|████████████████████████| 1/1 [00:14<00:00, 14.30s/it]\n"
     ]
    },
    {
     "name": "stdout",
     "output_type": "stream",
     "text": [
      "Estimation for 0.11 and 0.17 done\n",
      "It took: 14.367426872253418 seconds.\n",
      "[0.22893430974400014, 0.15283512511600011, 0.11862758838300008, 0.16737384740100011, 0.3258035537790002]\n"
     ]
    },
    {
     "name": "stderr",
     "output_type": "stream",
     "text": [
      "Initial filtering of formulas: 100%|█████████████| 5/5 [00:00<00:00, 259.80it/s]\n",
      "Computing chunks: 100%|████████████████████████| 5/5 [00:00<00:00, 84562.58it/s]\n",
      "Splitting the experimental spectrum into chunks: 27129it [00:00, 2792257.20it/s]\n",
      "Deconvolving chunks: 100%|████████████████████████| 1/1 [00:14<00:00, 14.74s/it]\n"
     ]
    },
    {
     "name": "stdout",
     "output_type": "stream",
     "text": [
      "Estimation for 0.11 and 0.18000000000000002 done\n",
      "It took: 14.806190013885498 seconds.\n",
      "[0.22896233798200014, 0.1528966695330001, 0.11846425704500008, 0.1672146331760001, 0.3258150565520002]\n"
     ]
    },
    {
     "name": "stderr",
     "output_type": "stream",
     "text": [
      "Initial filtering of formulas: 100%|█████████████| 5/5 [00:00<00:00, 259.58it/s]\n",
      "Computing chunks: 100%|███████████████████████| 5/5 [00:00<00:00, 154202.35it/s]\n",
      "Splitting the experimental spectrum into chunks: 27129it [00:00, 2251474.57it/s]\n",
      "Deconvolving chunks: 100%|████████████████████████| 1/1 [00:16<00:00, 16.15s/it]\n"
     ]
    },
    {
     "name": "stdout",
     "output_type": "stream",
     "text": [
      "Estimation for 0.11 and 0.19 done\n",
      "It took: 16.217095851898193 seconds.\n",
      "[0.22894748725600014, 0.15291575274300012, 0.11832348342800009, 0.1671521904770001, 0.32585698894300025]\n"
     ]
    },
    {
     "name": "stderr",
     "output_type": "stream",
     "text": [
      "Initial filtering of formulas: 100%|█████████████| 5/5 [00:00<00:00, 254.35it/s]\n",
      "Computing chunks: 100%|███████████████████████| 5/5 [00:00<00:00, 157680.60it/s]\n",
      "Splitting the experimental spectrum into chunks: 27129it [00:00, 2597171.40it/s]\n",
      "Deconvolving chunks: 100%|████████████████████████| 1/1 [00:17<00:00, 17.26s/it]\n"
     ]
    },
    {
     "name": "stdout",
     "output_type": "stream",
     "text": [
      "Estimation for 0.11 and 0.2 done\n",
      "It took: 17.32896089553833 seconds.\n",
      "[0.22895120515500014, 0.1529279084230001, 0.11824299470800008, 0.1669083624080001, 0.3259329082450002]\n"
     ]
    },
    {
     "name": "stderr",
     "output_type": "stream",
     "text": [
      "Initial filtering of formulas: 100%|█████████████| 5/5 [00:00<00:00, 251.57it/s]\n",
      "Computing chunks: 100%|███████████████████████| 5/5 [00:00<00:00, 121927.44it/s]\n",
      "Splitting the experimental spectrum into chunks: 27129it [00:00, 2511527.68it/s]\n",
      "Deconvolving chunks: 100%|████████████████████████| 1/1 [00:14<00:00, 14.80s/it]\n"
     ]
    },
    {
     "name": "stdout",
     "output_type": "stream",
     "text": [
      "Estimation for 0.11 and 0.21000000000000002 done\n",
      "It took: 14.88724160194397 seconds.\n",
      "[0.22895841551300014, 0.1529320486330001, 0.11815872476300009, 0.1666516890040001, 0.32603937861100024]\n"
     ]
    },
    {
     "name": "stderr",
     "output_type": "stream",
     "text": [
      "Initial filtering of formulas: 100%|█████████████| 5/5 [00:00<00:00, 256.62it/s]\n",
      "Computing chunks: 100%|███████████████████████| 5/5 [00:00<00:00, 183960.70it/s]\n",
      "Splitting the experimental spectrum into chunks: 27129it [00:00, 2580502.85it/s]\n",
      "Deconvolving chunks: 100%|████████████████████████| 1/1 [00:17<00:00, 17.91s/it]\n"
     ]
    },
    {
     "name": "stdout",
     "output_type": "stream",
     "text": [
      "Estimation for 0.11 and 0.22 done\n",
      "It took: 17.976709842681885 seconds.\n",
      "[0.22895258319700013, 0.1529230249010001, 0.11813945761700008, 0.16651070156100012, 0.3261133957690002]\n"
     ]
    },
    {
     "name": "stderr",
     "output_type": "stream",
     "text": [
      "Initial filtering of formulas: 100%|█████████████| 5/5 [00:00<00:00, 157.14it/s]\n",
      "Computing chunks: 100%|████████████████████████| 5/5 [00:00<00:00, 52428.80it/s]\n",
      "Splitting the experimental spectrum into chunks: 27129it [00:00, 1436708.00it/s]\n",
      "Deconvolving chunks: 100%|████████████████████████| 1/1 [00:35<00:00, 35.16s/it]\n"
     ]
    },
    {
     "name": "stdout",
     "output_type": "stream",
     "text": [
      "Estimation for 0.11 and 0.23 done\n",
      "It took: 35.28854584693909 seconds.\n",
      "[0.22896856872200014, 0.1529120356190001, 0.11814049472700008, 0.1663836726660001, 0.32616300633400025]\n"
     ]
    },
    {
     "name": "stderr",
     "output_type": "stream",
     "text": [
      "Initial filtering of formulas: 100%|█████████████| 5/5 [00:00<00:00, 112.97it/s]\n",
      "Computing chunks: 100%|████████████████████████| 5/5 [00:00<00:00, 17593.56it/s]\n",
      "Splitting the experimental spectrum into chunks: 27129it [00:00, 1269437.20it/s]\n",
      "Deconvolving chunks: 100%|████████████████████████| 1/1 [00:22<00:00, 22.74s/it]\n"
     ]
    },
    {
     "name": "stdout",
     "output_type": "stream",
     "text": [
      "Estimation for 0.11 and 0.24000000000000002 done\n",
      "It took: 22.895540237426758 seconds.\n",
      "[0.22898605974700015, 0.1528924472370001, 0.11815505298300008, 0.1661336023060001, 0.3262410994030002]\n"
     ]
    },
    {
     "name": "stderr",
     "output_type": "stream",
     "text": [
      "Initial filtering of formulas: 100%|█████████████| 5/5 [00:00<00:00, 221.86it/s]\n",
      "Computing chunks: 100%|███████████████████████| 5/5 [00:00<00:00, 117817.53it/s]\n",
      "Splitting the experimental spectrum into chunks: 27129it [00:00, 2262037.52it/s]\n",
      "Deconvolving chunks: 100%|████████████████████████| 1/1 [00:18<00:00, 18.08s/it]\n"
     ]
    },
    {
     "name": "stdout",
     "output_type": "stream",
     "text": [
      "Estimation for 0.11 and 0.25 done\n",
      "It took: 18.171154975891113 seconds.\n",
      "[0.22900653799500015, 0.1528712445080001, 0.11815436055800008, 0.1657991702910001, 0.3263369085520002]\n"
     ]
    },
    {
     "name": "stderr",
     "output_type": "stream",
     "text": [
      "Initial filtering of formulas: 100%|█████████████| 5/5 [00:00<00:00, 204.20it/s]\n",
      "Computing chunks: 100%|████████████████████████| 5/5 [00:00<00:00, 53227.21it/s]\n",
      "Splitting the experimental spectrum into chunks: 27129it [00:00, 2008530.56it/s]\n",
      "Deconvolving chunks: 100%|████████████████████████| 1/1 [00:16<00:00, 16.70s/it]\n"
     ]
    },
    {
     "name": "stdout",
     "output_type": "stream",
     "text": [
      "Estimation for 0.11 and 0.26 done\n",
      "It took: 16.798935890197754 seconds.\n",
      "[0.22903593652600013, 0.1528431403660001, 0.11815064946400008, 0.16559690236200011, 0.32637923689600024]\n"
     ]
    },
    {
     "name": "stderr",
     "output_type": "stream",
     "text": [
      "Initial filtering of formulas: 100%|█████████████| 5/5 [00:00<00:00, 241.45it/s]\n",
      "Computing chunks: 100%|███████████████████████| 5/5 [00:00<00:00, 160087.94it/s]\n",
      "Splitting the experimental spectrum into chunks: 27129it [00:00, 2549512.07it/s]\n",
      "Deconvolving chunks: 100%|████████████████████████| 1/1 [00:14<00:00, 14.31s/it]\n"
     ]
    },
    {
     "name": "stdout",
     "output_type": "stream",
     "text": [
      "Estimation for 0.11 and 0.27 done\n",
      "It took: 14.376370429992676 seconds.\n",
      "[0.22910979153800015, 0.1528630631480001, 0.11796795920300009, 0.1653286212450001, 0.3264153402540002]\n"
     ]
    },
    {
     "name": "stderr",
     "output_type": "stream",
     "text": [
      "Initial filtering of formulas: 100%|█████████████| 5/5 [00:00<00:00, 270.23it/s]\n",
      "Computing chunks: 100%|███████████████████████| 5/5 [00:00<00:00, 213995.10it/s]\n",
      "Splitting the experimental spectrum into chunks: 27129it [00:00, 2769422.77it/s]\n",
      "Deconvolving chunks: 100%|████████████████████████| 1/1 [00:18<00:00, 18.08s/it]\n"
     ]
    },
    {
     "name": "stdout",
     "output_type": "stream",
     "text": [
      "Estimation for 0.11 and 0.28 done\n",
      "It took: 18.152817964553833 seconds.\n",
      "[0.22933496080600016, 0.1507952895550001, 0.11796294995400008, 0.1651409760590001, 0.32661913657000025]\n"
     ]
    },
    {
     "name": "stderr",
     "output_type": "stream",
     "text": [
      "Initial filtering of formulas: 100%|█████████████| 5/5 [00:00<00:00, 136.96it/s]\n",
      "Computing chunks: 100%|████████████████████████| 5/5 [00:00<00:00, 52824.99it/s]\n",
      "Splitting the experimental spectrum into chunks: 27129it [00:00, 1583832.43it/s]\n",
      "Deconvolving chunks: 100%|████████████████████████| 1/1 [00:20<00:00, 20.58s/it]\n"
     ]
    },
    {
     "name": "stdout",
     "output_type": "stream",
     "text": [
      "Estimation for 0.11 and 0.29000000000000004 done\n",
      "It took: 20.719684839248657 seconds.\n",
      "[0.22945295117200018, 0.15034058809000012, 0.11802163891600008, 0.1649259912220001, 0.3266432165610002]\n"
     ]
    },
    {
     "name": "stderr",
     "output_type": "stream",
     "text": [
      "Initial filtering of formulas: 100%|█████████████| 5/5 [00:00<00:00, 271.30it/s]\n",
      "Computing chunks: 100%|███████████████████████| 5/5 [00:00<00:00, 120525.98it/s]\n",
      "Splitting the experimental spectrum into chunks: 27129it [00:00, 2723551.86it/s]\n",
      "Deconvolving chunks: 100%|████████████████████████| 1/1 [00:15<00:00, 15.07s/it]\n"
     ]
    },
    {
     "name": "stdout",
     "output_type": "stream",
     "text": [
      "Estimation for 0.11 and 0.3 done\n",
      "It took: 15.132042169570923 seconds.\n",
      "[0.22956093908200018, 0.1500544269670001, 0.11808119999700008, 0.16467422299100012, 0.3266456666960002]\n"
     ]
    },
    {
     "name": "stderr",
     "output_type": "stream",
     "text": [
      "Initial filtering of formulas: 100%|█████████████| 5/5 [00:00<00:00, 240.05it/s]\n",
      "Computing chunks: 100%|███████████████████████| 5/5 [00:00<00:00, 153076.79it/s]\n",
      "Splitting the experimental spectrum into chunks: 27129it [00:00, 2471487.25it/s]\n",
      "Deconvolving chunks: 100%|████████████████████████| 1/1 [00:15<00:00, 15.51s/it]\n"
     ]
    },
    {
     "name": "stdout",
     "output_type": "stream",
     "text": [
      "Estimation for 0.12 and 0.01 done\n",
      "It took: 15.576849460601807 seconds.\n",
      "[0.21755084554200013, 0.1842519119180001, 0.11203796674500006, 0.1721534951830001, 0.31400578061200024]\n"
     ]
    },
    {
     "name": "stderr",
     "output_type": "stream",
     "text": [
      "Initial filtering of formulas: 100%|█████████████| 5/5 [00:00<00:00, 201.42it/s]\n",
      "Computing chunks: 100%|███████████████████████| 5/5 [00:00<00:00, 180788.97it/s]\n",
      "Splitting the experimental spectrum into chunks: 27129it [00:00, 2495280.22it/s]\n",
      "Deconvolving chunks: 100%|████████████████████████| 1/1 [00:16<00:00, 16.64s/it]\n"
     ]
    },
    {
     "name": "stdout",
     "output_type": "stream",
     "text": [
      "Estimation for 0.12 and 0.02 done\n",
      "It took: 16.710750341415405 seconds.\n",
      "[0.22749747499800013, 0.15057183637400012, 0.11728689957200009, 0.1773559218180001, 0.32728786723800024]\n"
     ]
    },
    {
     "name": "stderr",
     "output_type": "stream",
     "text": [
      "Initial filtering of formulas: 100%|█████████████| 5/5 [00:00<00:00, 254.73it/s]\n",
      "Computing chunks: 100%|███████████████████████| 5/5 [00:00<00:00, 160087.94it/s]\n",
      "Splitting the experimental spectrum into chunks: 27129it [00:00, 2583725.55it/s]\n",
      "Deconvolving chunks: 100%|████████████████████████| 1/1 [00:19<00:00, 19.39s/it]\n"
     ]
    },
    {
     "name": "stdout",
     "output_type": "stream",
     "text": [
      "Estimation for 0.12 and 0.03 done\n",
      "It took: 19.46062707901001 seconds.\n",
      "[0.22773846947000015, 0.15085527514200012, 0.11753960541000008, 0.1770456446430001, 0.32682100533500025]\n"
     ]
    },
    {
     "name": "stderr",
     "output_type": "stream",
     "text": [
      "Initial filtering of formulas: 100%|█████████████| 5/5 [00:00<00:00, 226.31it/s]\n",
      "Computing chunks: 100%|████████████████████████| 5/5 [00:00<00:00, 44715.39it/s]\n",
      "Splitting the experimental spectrum into chunks: 27129it [00:00, 1674647.49it/s]\n",
      "Deconvolving chunks: 100%|████████████████████████| 1/1 [00:15<00:00, 15.44s/it]\n"
     ]
    },
    {
     "name": "stdout",
     "output_type": "stream",
     "text": [
      "Estimation for 0.12 and 0.04 done\n",
      "It took: 15.521899223327637 seconds.\n",
      "[0.22792690637900015, 0.15107391778000012, 0.11773124674100008, 0.17717095468800012, 0.3260969744120002]\n"
     ]
    },
    {
     "name": "stderr",
     "output_type": "stream",
     "text": [
      "Initial filtering of formulas: 100%|█████████████| 5/5 [00:00<00:00, 250.23it/s]\n",
      "Computing chunks: 100%|███████████████████████| 5/5 [00:00<00:00, 179243.76it/s]\n",
      "Splitting the experimental spectrum into chunks: 27129it [00:00, 2711932.72it/s]\n",
      "Deconvolving chunks: 100%|████████████████████████| 1/1 [00:14<00:00, 14.48s/it]\n"
     ]
    },
    {
     "name": "stdout",
     "output_type": "stream",
     "text": [
      "Estimation for 0.12 and 0.05 done\n",
      "It took: 14.549295663833618 seconds.\n",
      "[0.22800614495500013, 0.1511773893160001, 0.11784200944000009, 0.1771073672140001, 0.3258670890750002]\n"
     ]
    },
    {
     "name": "stderr",
     "output_type": "stream",
     "text": [
      "Initial filtering of formulas: 100%|█████████████| 5/5 [00:00<00:00, 250.95it/s]\n",
      "Computing chunks: 100%|███████████████████████| 5/5 [00:00<00:00, 123361.88it/s]\n",
      "Splitting the experimental spectrum into chunks: 27129it [00:00, 2783786.50it/s]\n",
      "Deconvolving chunks: 100%|████████████████████████| 1/1 [00:16<00:00, 16.73s/it]\n"
     ]
    },
    {
     "name": "stdout",
     "output_type": "stream",
     "text": [
      "Estimation for 0.12 and 0.060000000000000005 done\n",
      "It took: 16.79088306427002 seconds.\n",
      "[0.22791342622200014, 0.15134016525300012, 0.11800515032200008, 0.1772390948450001, 0.3255021633580002]\n"
     ]
    },
    {
     "name": "stderr",
     "output_type": "stream",
     "text": [
      "Initial filtering of formulas: 100%|█████████████| 5/5 [00:00<00:00, 254.14it/s]\n",
      "Computing chunks: 100%|███████████████████████| 5/5 [00:00<00:00, 174762.67it/s]\n",
      "Splitting the experimental spectrum into chunks: 27129it [00:00, 2603410.74it/s]\n",
      "Deconvolving chunks: 100%|████████████████████████| 1/1 [00:19<00:00, 19.02s/it]\n"
     ]
    },
    {
     "name": "stdout",
     "output_type": "stream",
     "text": [
      "Estimation for 0.12 and 0.06999999999999999 done\n",
      "It took: 19.086090087890625 seconds.\n",
      "[0.22785881068300015, 0.1515704520090001, 0.11822816222900008, 0.1770364514150001, 0.3253061236630002]\n"
     ]
    },
    {
     "name": "stderr",
     "output_type": "stream",
     "text": [
      "Initial filtering of formulas: 100%|█████████████| 5/5 [00:00<00:00, 195.51it/s]\n",
      "Computing chunks: 100%|███████████████████████| 5/5 [00:00<00:00, 102801.57it/s]\n",
      "Splitting the experimental spectrum into chunks: 27129it [00:00, 2287043.46it/s]\n",
      "Deconvolving chunks: 100%|████████████████████████| 1/1 [00:19<00:00, 19.49s/it]\n"
     ]
    },
    {
     "name": "stdout",
     "output_type": "stream",
     "text": [
      "Estimation for 0.12 and 0.08 done\n",
      "It took: 19.579326391220093 seconds.\n",
      "[0.22780351728000015, 0.15160544045800012, 0.11831141473700009, 0.17701688002900012, 0.32526274749700024]\n"
     ]
    },
    {
     "name": "stderr",
     "output_type": "stream",
     "text": [
      "Initial filtering of formulas: 100%|█████████████| 5/5 [00:00<00:00, 150.53it/s]\n",
      "Computing chunks: 100%|████████████████████████| 5/5 [00:00<00:00, 60611.33it/s]\n",
      "Splitting the experimental spectrum into chunks: 27129it [00:00, 1868581.55it/s]\n",
      "Deconvolving chunks: 100%|████████████████████████| 1/1 [00:22<00:00, 22.32s/it]\n"
     ]
    },
    {
     "name": "stdout",
     "output_type": "stream",
     "text": [
      "Estimation for 0.12 and 0.09 done\n",
      "It took: 22.437485456466675 seconds.\n",
      "[0.22783946788900014, 0.1516823182740001, 0.11841013928600008, 0.17697185787600012, 0.32509621667600025]\n"
     ]
    },
    {
     "name": "stderr",
     "output_type": "stream",
     "text": [
      "Initial filtering of formulas: 100%|█████████████| 5/5 [00:00<00:00, 170.45it/s]\n",
      "Computing chunks: 100%|████████████████████████| 5/5 [00:00<00:00, 97997.76it/s]\n",
      "Splitting the experimental spectrum into chunks: 27129it [00:00, 1802285.15it/s]\n",
      "Deconvolving chunks: 100%|████████████████████████| 1/1 [00:18<00:00, 18.09s/it]\n"
     ]
    },
    {
     "name": "stdout",
     "output_type": "stream",
     "text": [
      "Estimation for 0.12 and 0.09999999999999999 done\n",
      "It took: 18.20149827003479 seconds.\n",
      "[0.22779971472800015, 0.15178166800000012, 0.11852719681500008, 0.17697388810100012, 0.3249175323570002]\n"
     ]
    },
    {
     "name": "stderr",
     "output_type": "stream",
     "text": [
      "Initial filtering of formulas: 100%|█████████████| 5/5 [00:00<00:00, 231.61it/s]\n",
      "Computing chunks: 100%|████████████████████████| 5/5 [00:00<00:00, 82565.04it/s]\n",
      "Splitting the experimental spectrum into chunks: 27129it [00:00, 2346274.48it/s]\n",
      "Deconvolving chunks: 100%|████████████████████████| 1/1 [00:27<00:00, 27.89s/it]\n"
     ]
    },
    {
     "name": "stdout",
     "output_type": "stream",
     "text": [
      "Estimation for 0.12 and 0.11 done\n",
      "It took: 27.9824481010437 seconds.\n",
      "[0.22774682495400014, 0.1518660946840001, 0.11860870270100009, 0.1769868547910001, 0.32479152287000024]\n"
     ]
    },
    {
     "name": "stderr",
     "output_type": "stream",
     "text": [
      "Initial filtering of formulas: 100%|█████████████| 5/5 [00:00<00:00, 116.83it/s]\n",
      "Computing chunks: 100%|████████████████████████| 5/5 [00:00<00:00, 33447.40it/s]\n",
      "Splitting the experimental spectrum into chunks: 27129it [00:00, 1225918.18it/s]\n",
      "Deconvolving chunks: 100%|████████████████████████| 1/1 [00:25<00:00, 25.64s/it]\n"
     ]
    },
    {
     "name": "stdout",
     "output_type": "stream",
     "text": [
      "Estimation for 0.12 and 0.12 done\n",
      "It took: 25.794392347335815 seconds.\n",
      "[0.22778351470900013, 0.1519366452690001, 0.11869303255000008, 0.1769430273430001, 0.3246437801280002]\n"
     ]
    },
    {
     "name": "stderr",
     "output_type": "stream",
     "text": [
      "Initial filtering of formulas: 100%|█████████████| 5/5 [00:00<00:00, 227.36it/s]\n",
      "Computing chunks: 100%|████████████████████████| 5/5 [00:00<00:00, 87381.33it/s]\n",
      "Splitting the experimental spectrum into chunks: 27129it [00:00, 2248005.08it/s]\n",
      "Deconvolving chunks: 100%|████████████████████████| 1/1 [00:14<00:00, 14.82s/it]\n"
     ]
    },
    {
     "name": "stdout",
     "output_type": "stream",
     "text": [
      "Estimation for 0.12 and 0.13 done\n",
      "It took: 14.894752025604248 seconds.\n",
      "[0.22784033540100013, 0.1519960632920001, 0.11879097076500009, 0.1768049714760001, 0.32456765906500024]\n"
     ]
    },
    {
     "name": "stderr",
     "output_type": "stream",
     "text": [
      "Initial filtering of formulas: 100%|█████████████| 5/5 [00:00<00:00, 247.78it/s]\n",
      "Computing chunks: 100%|███████████████████████| 5/5 [00:00<00:00, 116508.44it/s]\n",
      "Splitting the experimental spectrum into chunks: 27129it [00:00, 2144865.76it/s]\n",
      "Deconvolving chunks: 100%|████████████████████████| 1/1 [00:14<00:00, 14.23s/it]\n"
     ]
    },
    {
     "name": "stdout",
     "output_type": "stream",
     "text": [
      "Estimation for 0.12 and 0.14 done\n",
      "It took: 14.298347473144531 seconds.\n",
      "[0.22785092688500014, 0.15205401439700011, 0.11888470730900008, 0.17673466250700012, 0.32447568890200024]\n"
     ]
    },
    {
     "name": "stderr",
     "output_type": "stream",
     "text": [
      "Initial filtering of formulas: 100%|█████████████| 5/5 [00:00<00:00, 246.68it/s]\n",
      "Computing chunks: 100%|███████████████████████| 5/5 [00:00<00:00, 141699.46it/s]\n",
      "Splitting the experimental spectrum into chunks: 27129it [00:00, 2459839.88it/s]\n",
      "Deconvolving chunks: 100%|████████████████████████| 1/1 [00:15<00:00, 15.32s/it]\n"
     ]
    },
    {
     "name": "stdout",
     "output_type": "stream",
     "text": [
      "Estimation for 0.12 and 0.15000000000000002 done\n",
      "It took: 15.387184143066406 seconds.\n",
      "[0.22787256685500015, 0.15210606437800012, 0.11896650278300008, 0.1766644126840001, 0.32439045330100025]\n"
     ]
    },
    {
     "name": "stderr",
     "output_type": "stream",
     "text": [
      "Initial filtering of formulas: 100%|█████████████| 5/5 [00:00<00:00, 245.26it/s]\n",
      "Computing chunks: 100%|███████████████████████| 5/5 [00:00<00:00, 137068.76it/s]\n",
      "Splitting the experimental spectrum into chunks: 27129it [00:00, 2660943.67it/s]\n",
      "Deconvolving chunks: 100%|████████████████████████| 1/1 [00:19<00:00, 19.91s/it]\n"
     ]
    },
    {
     "name": "stdout",
     "output_type": "stream",
     "text": [
      "Estimation for 0.12 and 0.16 done\n",
      "It took: 19.973048210144043 seconds.\n",
      "[0.22788341798300013, 0.1521508221640001, 0.11904964934400009, 0.17656052551400012, 0.3243555849950002]\n"
     ]
    },
    {
     "name": "stderr",
     "output_type": "stream",
     "text": [
      "Initial filtering of formulas: 100%|█████████████| 5/5 [00:00<00:00, 259.85it/s]\n",
      "Computing chunks: 100%|███████████████████████| 5/5 [00:00<00:00, 137970.53it/s]\n",
      "Splitting the experimental spectrum into chunks: 27129it [00:00, 2705420.32it/s]\n",
      "Deconvolving chunks: 100%|████████████████████████| 1/1 [00:14<00:00, 14.22s/it]\n"
     ]
    },
    {
     "name": "stdout",
     "output_type": "stream",
     "text": [
      "Estimation for 0.12 and 0.17 done\n",
      "It took: 14.286904573440552 seconds.\n",
      "[0.22876470152700012, 0.15275972979700012, 0.11936182697100009, 0.16806250804100012, 0.32562236908800024]\n"
     ]
    },
    {
     "name": "stderr",
     "output_type": "stream",
     "text": [
      "Initial filtering of formulas: 100%|█████████████| 5/5 [00:00<00:00, 219.85it/s]\n",
      "Computing chunks: 100%|███████████████████████| 5/5 [00:00<00:00, 132731.14it/s]\n",
      "Splitting the experimental spectrum into chunks: 27129it [00:00, 2541710.00it/s]\n",
      "Deconvolving chunks: 100%|████████████████████████| 1/1 [00:14<00:00, 14.39s/it]\n"
     ]
    },
    {
     "name": "stdout",
     "output_type": "stream",
     "text": [
      "Estimation for 0.12 and 0.18000000000000002 done\n",
      "It took: 14.459863662719727 seconds.\n",
      "[0.22882534939700014, 0.1528439736410001, 0.11889880601200008, 0.16781338113200012, 0.32569126738300025]\n"
     ]
    },
    {
     "name": "stderr",
     "output_type": "stream",
     "text": [
      "Initial filtering of formulas: 100%|█████████████| 5/5 [00:00<00:00, 259.95it/s]\n",
      "Computing chunks: 100%|███████████████████████| 5/5 [00:00<00:00, 197844.53it/s]\n",
      "Splitting the experimental spectrum into chunks: 27129it [00:00, 2745765.62it/s]\n",
      "Deconvolving chunks: 100%|████████████████████████| 1/1 [00:16<00:00, 16.67s/it]\n"
     ]
    },
    {
     "name": "stdout",
     "output_type": "stream",
     "text": [
      "Estimation for 0.12 and 0.19 done\n",
      "It took: 16.734461545944214 seconds.\n",
      "[0.22885616584300014, 0.1528913993210001, 0.11856639039100009, 0.1675039475470001, 0.32580488554600023]\n"
     ]
    },
    {
     "name": "stderr",
     "output_type": "stream",
     "text": [
      "Initial filtering of formulas: 100%|█████████████| 5/5 [00:00<00:00, 241.89it/s]\n",
      "Computing chunks: 100%|███████████████████████| 5/5 [00:00<00:00, 149796.57it/s]\n",
      "Splitting the experimental spectrum into chunks: 27129it [00:00, 2545121.08it/s]\n",
      "Deconvolving chunks: 100%|████████████████████████| 1/1 [00:18<00:00, 18.92s/it]\n"
     ]
    },
    {
     "name": "stdout",
     "output_type": "stream",
     "text": [
      "Estimation for 0.12 and 0.2 done\n",
      "It took: 18.985530138015747 seconds.\n",
      "[0.22885098872000015, 0.15290358756600012, 0.11847793662000008, 0.1673472320990001, 0.3258867191550002]\n"
     ]
    },
    {
     "name": "stderr",
     "output_type": "stream",
     "text": [
      "Initial filtering of formulas: 100%|█████████████| 5/5 [00:00<00:00, 217.45it/s]\n",
      "Computing chunks: 100%|███████████████████████| 5/5 [00:00<00:00, 116508.44it/s]\n",
      "Splitting the experimental spectrum into chunks: 27129it [00:00, 2293820.77it/s]\n",
      "Deconvolving chunks: 100%|████████████████████████| 1/1 [00:14<00:00, 14.57s/it]\n"
     ]
    },
    {
     "name": "stdout",
     "output_type": "stream",
     "text": [
      "Estimation for 0.12 and 0.21000000000000002 done\n",
      "It took: 14.652166366577148 seconds.\n",
      "[0.22886316748900015, 0.1528993532170001, 0.11833299159400008, 0.1671992323730001, 0.3259799880750002]\n"
     ]
    },
    {
     "name": "stderr",
     "output_type": "stream",
     "text": [
      "Initial filtering of formulas: 100%|█████████████| 5/5 [00:00<00:00, 250.11it/s]\n",
      "Computing chunks: 100%|███████████████████████| 5/5 [00:00<00:00, 105916.77it/s]\n",
      "Splitting the experimental spectrum into chunks: 27129it [00:00, 2682713.03it/s]\n",
      "Deconvolving chunks: 100%|████████████████████████| 1/1 [00:14<00:00, 14.10s/it]\n"
     ]
    },
    {
     "name": "stdout",
     "output_type": "stream",
     "text": [
      "Estimation for 0.12 and 0.22 done\n",
      "It took: 14.163629293441772 seconds.\n",
      "[0.22888670652800014, 0.1529065352630001, 0.11824674896700009, 0.1668965013430001, 0.3260878734140002]\n"
     ]
    },
    {
     "name": "stderr",
     "output_type": "stream",
     "text": [
      "Initial filtering of formulas: 100%|█████████████| 5/5 [00:00<00:00, 242.79it/s]\n",
      "Computing chunks: 100%|███████████████████████| 5/5 [00:00<00:00, 140748.46it/s]\n",
      "Splitting the experimental spectrum into chunks: 27129it [00:00, 1949213.26it/s]\n",
      "Deconvolving chunks: 100%|████████████████████████| 1/1 [00:17<00:00, 17.48s/it]\n"
     ]
    },
    {
     "name": "stdout",
     "output_type": "stream",
     "text": [
      "Estimation for 0.12 and 0.23 done\n",
      "It took: 17.551356315612793 seconds.\n",
      "[0.22892057038300015, 0.1529024462060001, 0.11818439075000009, 0.1666852548790001, 0.3261502917850002]\n"
     ]
    },
    {
     "name": "stderr",
     "output_type": "stream",
     "text": [
      "Initial filtering of formulas: 100%|█████████████| 5/5 [00:00<00:00, 162.84it/s]\n",
      "Computing chunks: 100%|████████████████████████| 5/5 [00:00<00:00, 49228.92it/s]\n",
      "Splitting the experimental spectrum into chunks: 27129it [00:00, 2083024.08it/s]\n",
      "Deconvolving chunks: 100%|████████████████████████| 1/1 [00:19<00:00, 19.65s/it]\n"
     ]
    },
    {
     "name": "stdout",
     "output_type": "stream",
     "text": [
      "Estimation for 0.12 and 0.24000000000000002 done\n",
      "It took: 19.756789684295654 seconds.\n",
      "[0.22891902916400014, 0.1528692143140001, 0.11818040209100009, 0.1665806086650001, 0.32620238334500024]\n"
     ]
    },
    {
     "name": "stderr",
     "output_type": "stream",
     "text": [
      "Initial filtering of formulas: 100%|█████████████| 5/5 [00:00<00:00, 154.37it/s]\n",
      "Computing chunks: 100%|████████████████████████| 5/5 [00:00<00:00, 42711.85it/s]\n",
      "Splitting the experimental spectrum into chunks: 27129it [00:00, 1661904.44it/s]\n",
      "Deconvolving chunks: 100%|████████████████████████| 1/1 [00:18<00:00, 18.21s/it]\n"
     ]
    },
    {
     "name": "stdout",
     "output_type": "stream",
     "text": [
      "Estimation for 0.12 and 0.25 done\n",
      "It took: 18.33057999610901 seconds.\n",
      "[0.22892415311300013, 0.1528414512230001, 0.11818151691600008, 0.1663700309390001, 0.3262794990750002]\n"
     ]
    },
    {
     "name": "stderr",
     "output_type": "stream",
     "text": [
      "Initial filtering of formulas: 100%|█████████████| 5/5 [00:00<00:00, 136.69it/s]\n",
      "Computing chunks: 100%|████████████████████████| 5/5 [00:00<00:00, 46811.43it/s]\n",
      "Splitting the experimental spectrum into chunks: 27129it [00:00, 1580488.55it/s]\n",
      "Deconvolving chunks: 100%|████████████████████████| 1/1 [00:23<00:00, 23.14s/it]\n"
     ]
    },
    {
     "name": "stdout",
     "output_type": "stream",
     "text": [
      "Estimation for 0.12 and 0.26 done\n",
      "It took: 23.26935839653015 seconds.\n",
      "[0.22897962146900014, 0.1528267976760001, 0.11820468075100009, 0.1660699890230001, 0.3263159095680002]\n"
     ]
    },
    {
     "name": "stderr",
     "output_type": "stream",
     "text": [
      "Initial filtering of formulas: 100%|█████████████| 5/5 [00:00<00:00, 197.86it/s]\n",
      "Computing chunks: 100%|████████████████████████| 5/5 [00:00<00:00, 98457.84it/s]\n",
      "Splitting the experimental spectrum into chunks: 27129it [00:00, 2142281.34it/s]\n",
      "Deconvolving chunks: 100%|████████████████████████| 1/1 [00:17<00:00, 17.43s/it]\n"
     ]
    },
    {
     "name": "stdout",
     "output_type": "stream",
     "text": [
      "Estimation for 0.12 and 0.27 done\n",
      "It took: 17.51756453514099 seconds.\n",
      "[0.22900349462100014, 0.1528306025110001, 0.11820513760600009, 0.16590464172700012, 0.32632457203600024]\n"
     ]
    },
    {
     "name": "stderr",
     "output_type": "stream",
     "text": [
      "Initial filtering of formulas: 100%|█████████████| 5/5 [00:00<00:00, 228.26it/s]\n",
      "Computing chunks: 100%|████████████████████████| 5/5 [00:00<00:00, 68759.08it/s]\n",
      "Splitting the experimental spectrum into chunks: 27129it [00:00, 2356673.64it/s]\n",
      "Deconvolving chunks: 100%|████████████████████████| 1/1 [00:17<00:00, 17.10s/it]\n"
     ]
    },
    {
     "name": "stdout",
     "output_type": "stream",
     "text": [
      "Estimation for 0.12 and 0.28 done\n",
      "It took: 17.18077063560486 seconds.\n",
      "[0.22910125593400013, 0.15281501134700012, 0.11818422523300008, 0.1656713363230001, 0.3263245469380002]\n"
     ]
    },
    {
     "name": "stderr",
     "output_type": "stream",
     "text": [
      "Initial filtering of formulas: 100%|█████████████| 5/5 [00:00<00:00, 236.22it/s]\n",
      "Computing chunks: 100%|███████████████████████| 5/5 [00:00<00:00, 131896.35it/s]\n",
      "Splitting the experimental spectrum into chunks: 27129it [00:00, 2369580.87it/s]\n",
      "Deconvolving chunks: 100%|████████████████████████| 1/1 [00:31<00:00, 31.55s/it]\n"
     ]
    },
    {
     "name": "stdout",
     "output_type": "stream",
     "text": [
      "Estimation for 0.12 and 0.29000000000000004 done\n",
      "It took: 31.64378309249878 seconds.\n",
      "[0.22924014618300018, 0.1528081643110001, 0.11794121278600009, 0.16536882147900012, 0.32636691406500024]\n"
     ]
    },
    {
     "name": "stderr",
     "output_type": "stream",
     "text": [
      "Initial filtering of formulas: 100%|█████████████| 5/5 [00:00<00:00, 107.89it/s]\n",
      "Computing chunks: 100%|████████████████████████| 5/5 [00:00<00:00, 24188.60it/s]\n",
      "Splitting the experimental spectrum into chunks: 27129it [00:00, 1209653.58it/s]\n",
      "Deconvolving chunks: 100%|████████████████████████| 1/1 [00:23<00:00, 23.17s/it]\n"
     ]
    },
    {
     "name": "stdout",
     "output_type": "stream",
     "text": [
      "Estimation for 0.12 and 0.3 done\n",
      "It took: 23.360023975372314 seconds.\n",
      "[0.22934634063900017, 0.1528220748990001, 0.11789802423800008, 0.16506705658000012, 0.3263590499970002]\n"
     ]
    },
    {
     "name": "stderr",
     "output_type": "stream",
     "text": [
      "Initial filtering of formulas: 100%|█████████████| 5/5 [00:00<00:00, 253.70it/s]\n",
      "Computing chunks: 100%|███████████████████████| 5/5 [00:00<00:00, 174762.67it/s]\n",
      "Splitting the experimental spectrum into chunks: 27129it [00:00, 2482053.77it/s]\n",
      "Deconvolving chunks: 100%|████████████████████████| 1/1 [00:16<00:00, 16.35s/it]\n"
     ]
    },
    {
     "name": "stdout",
     "output_type": "stream",
     "text": [
      "Estimation for 0.13 and 0.01 done\n",
      "It took: 16.41983675956726 seconds.\n",
      "[0.21755084554200013, 0.1842519119180001, 0.11203796674500006, 0.1721534951830001, 0.31400578061200024]\n"
     ]
    },
    {
     "name": "stderr",
     "output_type": "stream",
     "text": [
      "Initial filtering of formulas: 100%|█████████████| 5/5 [00:00<00:00, 258.65it/s]\n",
      "Computing chunks: 100%|███████████████████████| 5/5 [00:00<00:00, 155344.59it/s]\n",
      "Splitting the experimental spectrum into chunks: 27129it [00:00, 2639953.44it/s]\n",
      "Deconvolving chunks: 100%|████████████████████████| 1/1 [00:14<00:00, 14.92s/it]\n"
     ]
    },
    {
     "name": "stdout",
     "output_type": "stream",
     "text": [
      "Estimation for 0.13 and 0.02 done\n",
      "It took: 14.986361265182495 seconds.\n",
      "[0.22749747499800013, 0.15057183637400012, 0.11728689957200009, 0.1773559218180001, 0.32728786723800024]\n"
     ]
    },
    {
     "name": "stderr",
     "output_type": "stream",
     "text": [
      "Initial filtering of formulas: 100%|█████████████| 5/5 [00:00<00:00, 258.75it/s]\n",
      "Computing chunks: 100%|███████████████████████| 5/5 [00:00<00:00, 209715.20it/s]\n",
      "Splitting the experimental spectrum into chunks: 27129it [00:00, 2811506.06it/s]\n",
      "Deconvolving chunks: 100%|████████████████████████| 1/1 [00:19<00:00, 19.09s/it]\n"
     ]
    },
    {
     "name": "stdout",
     "output_type": "stream",
     "text": [
      "Estimation for 0.13 and 0.03 done\n",
      "It took: 19.1568922996521 seconds.\n",
      "[0.22773846947000015, 0.15085527514200012, 0.11753960541000008, 0.1770456446430001, 0.32682100533500025]\n"
     ]
    },
    {
     "name": "stderr",
     "output_type": "stream",
     "text": [
      "Initial filtering of formulas: 100%|█████████████| 5/5 [00:00<00:00, 153.33it/s]\n",
      "Computing chunks: 100%|████████████████████████| 5/5 [00:00<00:00, 48210.39it/s]\n",
      "Splitting the experimental spectrum into chunks: 27129it [00:00, 1729605.30it/s]\n",
      "Deconvolving chunks: 100%|████████████████████████| 1/1 [00:20<00:00, 20.93s/it]\n"
     ]
    },
    {
     "name": "stdout",
     "output_type": "stream",
     "text": [
      "Estimation for 0.13 and 0.04 done\n",
      "It took: 21.054497241973877 seconds.\n",
      "[0.22792690637900015, 0.15107391778000012, 0.11773124674100008, 0.17717095468800012, 0.3260969744120002]\n"
     ]
    },
    {
     "name": "stderr",
     "output_type": "stream",
     "text": [
      "Initial filtering of formulas: 100%|█████████████| 5/5 [00:00<00:00, 258.21it/s]\n",
      "Computing chunks: 100%|████████████████████████| 5/5 [00:00<00:00, 92385.55it/s]\n",
      "Splitting the experimental spectrum into chunks: 27129it [00:00, 2202362.74it/s]\n",
      "Deconvolving chunks: 100%|████████████████████████| 1/1 [00:14<00:00, 14.50s/it]\n"
     ]
    },
    {
     "name": "stdout",
     "output_type": "stream",
     "text": [
      "Estimation for 0.13 and 0.05 done\n",
      "It took: 14.580380201339722 seconds.\n",
      "[0.22800614495500013, 0.1511773893160001, 0.11784200944000009, 0.1771073672140001, 0.3258670890750002]\n"
     ]
    },
    {
     "name": "stderr",
     "output_type": "stream",
     "text": [
      "Initial filtering of formulas: 100%|█████████████| 5/5 [00:00<00:00, 252.06it/s]\n",
      "Computing chunks: 100%|████████████████████████| 5/5 [00:00<00:00, 64329.82it/s]\n",
      "Splitting the experimental spectrum into chunks: 27129it [00:00, 2016682.44it/s]\n",
      "Deconvolving chunks: 100%|████████████████████████| 1/1 [00:16<00:00, 16.06s/it]\n"
     ]
    },
    {
     "name": "stdout",
     "output_type": "stream",
     "text": [
      "Estimation for 0.13 and 0.060000000000000005 done\n",
      "It took: 16.127975702285767 seconds.\n",
      "[0.22791342622200014, 0.15134016525300012, 0.11800515032200008, 0.1772390948450001, 0.3255021633580002]\n"
     ]
    },
    {
     "name": "stderr",
     "output_type": "stream",
     "text": [
      "Initial filtering of formulas: 100%|█████████████| 5/5 [00:00<00:00, 252.00it/s]\n",
      "Computing chunks: 100%|███████████████████████| 5/5 [00:00<00:00, 133576.56it/s]\n",
      "Splitting the experimental spectrum into chunks: 27129it [00:00, 2671940.85it/s]\n",
      "Deconvolving chunks: 100%|████████████████████████| 1/1 [00:17<00:00, 17.14s/it]\n"
     ]
    },
    {
     "name": "stdout",
     "output_type": "stream",
     "text": [
      "Estimation for 0.13 and 0.06999999999999999 done\n",
      "It took: 17.208946466445923 seconds.\n",
      "[0.22785881068300015, 0.1515704520090001, 0.11822816222900008, 0.1770364514150001, 0.3253061236630002]\n"
     ]
    },
    {
     "name": "stderr",
     "output_type": "stream",
     "text": [
      "Initial filtering of formulas: 100%|█████████████| 5/5 [00:00<00:00, 116.69it/s]\n",
      "Computing chunks: 100%|████████████████████████| 5/5 [00:00<00:00, 48657.82it/s]\n",
      "Splitting the experimental spectrum into chunks: 27129it [00:00, 1404035.80it/s]\n",
      "Deconvolving chunks: 100%|████████████████████████| 1/1 [00:20<00:00, 20.53s/it]\n"
     ]
    },
    {
     "name": "stdout",
     "output_type": "stream",
     "text": [
      "Estimation for 0.13 and 0.08 done\n",
      "It took: 20.649781703948975 seconds.\n",
      "[0.22780351728000015, 0.15160544045800012, 0.11831141473700009, 0.17701688002900012, 0.32526274749700024]\n"
     ]
    },
    {
     "name": "stderr",
     "output_type": "stream",
     "text": [
      "Initial filtering of formulas: 100%|█████████████| 5/5 [00:00<00:00, 270.29it/s]\n",
      "Computing chunks: 100%|███████████████████████| 5/5 [00:00<00:00, 131072.00it/s]\n",
      "Splitting the experimental spectrum into chunks: 27129it [00:00, 2731921.76it/s]\n",
      "Deconvolving chunks: 100%|████████████████████████| 1/1 [00:15<00:00, 15.25s/it]\n"
     ]
    },
    {
     "name": "stdout",
     "output_type": "stream",
     "text": [
      "Estimation for 0.13 and 0.09 done\n",
      "It took: 15.313117265701294 seconds.\n",
      "[0.22783946788900014, 0.1516823182740001, 0.11841013928600008, 0.17697185787600012, 0.32509621667600025]\n"
     ]
    },
    {
     "name": "stderr",
     "output_type": "stream",
     "text": [
      "Initial filtering of formulas: 100%|█████████████| 5/5 [00:00<00:00, 271.20it/s]\n",
      "Computing chunks: 100%|███████████████████████| 5/5 [00:00<00:00, 109226.67it/s]\n",
      "Splitting the experimental spectrum into chunks: 27129it [00:00, 2849383.31it/s]\n",
      "Deconvolving chunks: 100%|████████████████████████| 1/1 [00:15<00:00, 15.22s/it]\n"
     ]
    },
    {
     "name": "stdout",
     "output_type": "stream",
     "text": [
      "Estimation for 0.13 and 0.09999999999999999 done\n",
      "It took: 15.277580261230469 seconds.\n",
      "[0.22779971472800015, 0.15178166800000012, 0.11852719681500008, 0.17697388810100012, 0.3249175323570002]\n"
     ]
    },
    {
     "name": "stderr",
     "output_type": "stream",
     "text": [
      "Initial filtering of formulas: 100%|█████████████| 5/5 [00:00<00:00, 239.08it/s]\n",
      "Computing chunks: 100%|███████████████████████| 5/5 [00:00<00:00, 171897.70it/s]\n",
      "Splitting the experimental spectrum into chunks: 27129it [00:00, 2510474.86it/s]\n",
      "Deconvolving chunks: 100%|████████████████████████| 1/1 [00:16<00:00, 16.40s/it]\n"
     ]
    },
    {
     "name": "stdout",
     "output_type": "stream",
     "text": [
      "Estimation for 0.13 and 0.11 done\n",
      "It took: 16.46998381614685 seconds.\n",
      "[0.22774682495400014, 0.1518660946840001, 0.11860870270100009, 0.1769868547910001, 0.32479152287000024]\n"
     ]
    },
    {
     "name": "stderr",
     "output_type": "stream",
     "text": [
      "Initial filtering of formulas: 100%|█████████████| 5/5 [00:00<00:00, 237.83it/s]\n",
      "Computing chunks: 100%|███████████████████████| 5/5 [00:00<00:00, 104857.60it/s]\n",
      "Splitting the experimental spectrum into chunks: 27129it [00:00, 1611443.85it/s]\n",
      "Deconvolving chunks: 100%|████████████████████████| 1/1 [00:17<00:00, 17.95s/it]\n"
     ]
    },
    {
     "name": "stdout",
     "output_type": "stream",
     "text": [
      "Estimation for 0.13 and 0.12 done\n",
      "It took: 18.03426241874695 seconds.\n",
      "[0.22778351470900013, 0.1519366452690001, 0.11869303255000008, 0.1769430273430001, 0.3246437801280002]\n"
     ]
    },
    {
     "name": "stderr",
     "output_type": "stream",
     "text": [
      "Initial filtering of formulas: 100%|██████████████| 5/5 [00:00<00:00, 80.21it/s]\n",
      "Computing chunks: 100%|████████████████████████| 5/5 [00:00<00:00, 39945.75it/s]\n",
      "Splitting the experimental spectrum into chunks: 27129it [00:00, 942220.62it/s]\n",
      "Deconvolving chunks: 100%|████████████████████████| 1/1 [00:21<00:00, 21.78s/it]\n"
     ]
    },
    {
     "name": "stdout",
     "output_type": "stream",
     "text": [
      "Estimation for 0.13 and 0.13 done\n",
      "It took: 22.002039432525635 seconds.\n",
      "[0.22784033540100013, 0.1519960632920001, 0.11879097076500009, 0.1768049714760001, 0.32456765906500024]\n"
     ]
    },
    {
     "name": "stderr",
     "output_type": "stream",
     "text": [
      "Initial filtering of formulas: 100%|█████████████| 5/5 [00:00<00:00, 147.37it/s]\n",
      "Computing chunks: 100%|███████████████████████| 5/5 [00:00<00:00, 119156.36it/s]\n",
      "Splitting the experimental spectrum into chunks: 27129it [00:00, 1648780.28it/s]\n",
      "Deconvolving chunks: 100%|████████████████████████| 1/1 [00:18<00:00, 18.89s/it]\n"
     ]
    },
    {
     "name": "stdout",
     "output_type": "stream",
     "text": [
      "Estimation for 0.13 and 0.14 done\n",
      "It took: 19.007478952407837 seconds.\n",
      "[0.22785092688500014, 0.15205401439700011, 0.11888470730900008, 0.17673466250700012, 0.32447568890200024]\n"
     ]
    },
    {
     "name": "stderr",
     "output_type": "stream",
     "text": [
      "Initial filtering of formulas: 100%|█████████████| 5/5 [00:00<00:00, 218.08it/s]\n",
      "Computing chunks: 100%|███████████████████████| 5/5 [00:00<00:00, 100342.20it/s]\n",
      "Splitting the experimental spectrum into chunks: 27129it [00:00, 2323422.09it/s]\n",
      "Deconvolving chunks: 100%|████████████████████████| 1/1 [00:16<00:00, 16.64s/it]\n"
     ]
    },
    {
     "name": "stdout",
     "output_type": "stream",
     "text": [
      "Estimation for 0.13 and 0.15000000000000002 done\n",
      "It took: 16.73155403137207 seconds.\n",
      "[0.22787256685500015, 0.15210606437800012, 0.11896650278300008, 0.1766644126840001, 0.32439045330100025]\n"
     ]
    },
    {
     "name": "stderr",
     "output_type": "stream",
     "text": [
      "Initial filtering of formulas: 100%|█████████████| 5/5 [00:00<00:00, 226.44it/s]\n",
      "Computing chunks: 100%|███████████████████████| 5/5 [00:00<00:00, 108660.73it/s]\n",
      "Splitting the experimental spectrum into chunks: 27129it [00:00, 1991864.88it/s]\n",
      "Deconvolving chunks: 100%|████████████████████████| 1/1 [00:17<00:00, 17.52s/it]\n"
     ]
    },
    {
     "name": "stdout",
     "output_type": "stream",
     "text": [
      "Estimation for 0.13 and 0.16 done\n",
      "It took: 17.60235023498535 seconds.\n",
      "[0.22788341798300013, 0.1521508221640001, 0.11904964934400009, 0.17656052551400012, 0.3243555849950002]\n"
     ]
    },
    {
     "name": "stderr",
     "output_type": "stream",
     "text": [
      "Initial filtering of formulas: 100%|█████████████| 5/5 [00:00<00:00, 226.48it/s]\n",
      "Computing chunks: 100%|███████████████████████| 5/5 [00:00<00:00, 144631.17it/s]\n",
      "Splitting the experimental spectrum into chunks: 27129it [00:00, 1546043.74it/s]\n",
      "Deconvolving chunks: 100%|████████████████████████| 1/1 [00:22<00:00, 22.78s/it]\n"
     ]
    },
    {
     "name": "stdout",
     "output_type": "stream",
     "text": [
      "Estimation for 0.13 and 0.17 done\n",
      "It took: 22.873390436172485 seconds.\n",
      "[0.22787621375700015, 0.15217248439100012, 0.11912340125600009, 0.17645452118800012, 0.32437337940700023]\n"
     ]
    },
    {
     "name": "stderr",
     "output_type": "stream",
     "text": [
      "Initial filtering of formulas: 100%|█████████████| 5/5 [00:00<00:00, 137.72it/s]\n",
      "Computing chunks: 100%|████████████████████████| 5/5 [00:00<00:00, 52038.51it/s]\n",
      "Splitting the experimental spectrum into chunks: 27129it [00:00, 1529768.94it/s]\n",
      "Deconvolving chunks: 100%|████████████████████████| 1/1 [00:16<00:00, 16.00s/it]\n"
     ]
    },
    {
     "name": "stdout",
     "output_type": "stream",
     "text": [
      "Estimation for 0.13 and 0.18000000000000002 done\n",
      "It took: 16.11764144897461 seconds.\n",
      "[0.22805412279200013, 0.1523653929420001, 0.11931140328800008, 0.1742134518820001, 0.3246790210240002]\n"
     ]
    },
    {
     "name": "stderr",
     "output_type": "stream",
     "text": [
      "Initial filtering of formulas: 100%|█████████████| 5/5 [00:00<00:00, 251.74it/s]\n",
      "Computing chunks: 100%|███████████████████████| 5/5 [00:00<00:00, 102300.10it/s]\n",
      "Splitting the experimental spectrum into chunks: 27129it [00:00, 2170228.93it/s]\n",
      "Deconvolving chunks: 100%|████████████████████████| 1/1 [00:14<00:00, 14.16s/it]\n"
     ]
    },
    {
     "name": "stdout",
     "output_type": "stream",
     "text": [
      "Estimation for 0.13 and 0.19 done\n",
      "It took: 14.23390817642212 seconds.\n",
      "[0.22870421242900013, 0.1528256822610001, 0.11911282644700008, 0.16817773131700012, 0.32566088112500025]\n"
     ]
    },
    {
     "name": "stderr",
     "output_type": "stream",
     "text": [
      "Initial filtering of formulas: 100%|█████████████| 5/5 [00:00<00:00, 245.36it/s]\n",
      "Computing chunks: 100%|███████████████████████| 5/5 [00:00<00:00, 153076.79it/s]\n",
      "Splitting the experimental spectrum into chunks: 27129it [00:00, 2459520.86it/s]\n",
      "Deconvolving chunks: 100%|████████████████████████| 1/1 [00:15<00:00, 15.44s/it]\n"
     ]
    },
    {
     "name": "stdout",
     "output_type": "stream",
     "text": [
      "Estimation for 0.13 and 0.2 done\n",
      "It took: 15.516167640686035 seconds.\n",
      "[0.22875038818900015, 0.1528727935800001, 0.11873820212300008, 0.1678121466300001, 0.3258180212770002]\n"
     ]
    },
    {
     "name": "stderr",
     "output_type": "stream",
     "text": [
      "Initial filtering of formulas: 100%|█████████████| 5/5 [00:00<00:00, 246.23it/s]\n",
      "Computing chunks: 100%|███████████████████████| 5/5 [00:00<00:00, 140748.46it/s]\n",
      "Splitting the experimental spectrum into chunks: 27129it [00:00, 2345113.93it/s]\n",
      "Deconvolving chunks: 100%|████████████████████████| 1/1 [00:20<00:00, 20.04s/it]\n"
     ]
    },
    {
     "name": "stdout",
     "output_type": "stream",
     "text": [
      "Estimation for 0.13 and 0.21000000000000002 done\n",
      "It took: 20.1087806224823 seconds.\n",
      "[0.22877776546000014, 0.1528807751660001, 0.11855295936600008, 0.1675725267960001, 0.3259346362260002]\n"
     ]
    },
    {
     "name": "stderr",
     "output_type": "stream",
     "text": [
      "Initial filtering of formulas: 100%|█████████████| 5/5 [00:00<00:00, 177.87it/s]\n",
      "Computing chunks: 100%|████████████████████████| 5/5 [00:00<00:00, 52038.51it/s]\n",
      "Splitting the experimental spectrum into chunks: 27129it [00:00, 2213157.37it/s]\n",
      "Deconvolving chunks: 100%|████████████████████████| 1/1 [00:15<00:00, 15.85s/it]\n"
     ]
    },
    {
     "name": "stdout",
     "output_type": "stream",
     "text": [
      "Estimation for 0.13 and 0.22 done\n",
      "It took: 15.945268154144287 seconds.\n",
      "[0.22879627373400013, 0.1528713452460001, 0.11840616946400008, 0.16745708159600012, 0.3260166368530002]\n"
     ]
    },
    {
     "name": "stderr",
     "output_type": "stream",
     "text": [
      "Initial filtering of formulas: 100%|█████████████| 5/5 [00:00<00:00, 179.21it/s]\n",
      "Computing chunks: 100%|████████████████████████| 5/5 [00:00<00:00, 97090.37it/s]\n",
      "Splitting the experimental spectrum into chunks: 27129it [00:00, 1911170.57it/s]\n",
      "Deconvolving chunks: 100%|████████████████████████| 1/1 [00:14<00:00, 14.15s/it]\n"
     ]
    },
    {
     "name": "stdout",
     "output_type": "stream",
     "text": [
      "Estimation for 0.13 and 0.23 done\n",
      "It took: 14.235822200775146 seconds.\n",
      "[0.22882900187600014, 0.1528728739990001, 0.11832578059500008, 0.1671807941680001, 0.3260889014120002]\n"
     ]
    },
    {
     "name": "stderr",
     "output_type": "stream",
     "text": [
      "Initial filtering of formulas: 100%|█████████████| 5/5 [00:00<00:00, 213.53it/s]\n",
      "Computing chunks: 100%|████████████████████████| 5/5 [00:00<00:00, 84904.94it/s]\n",
      "Splitting the experimental spectrum into chunks: 27129it [00:00, 2535706.05it/s]\n",
      "Deconvolving chunks: 100%|████████████████████████| 1/1 [00:14<00:00, 14.37s/it]\n"
     ]
    },
    {
     "name": "stdout",
     "output_type": "stream",
     "text": [
      "Estimation for 0.13 and 0.24000000000000002 done\n",
      "It took: 14.442264080047607 seconds.\n",
      "[0.22885720593800013, 0.1528543669160001, 0.11823393590400008, 0.1669043919130001, 0.32618679441100024]\n"
     ]
    },
    {
     "name": "stderr",
     "output_type": "stream",
     "text": [
      "Initial filtering of formulas: 100%|█████████████| 5/5 [00:00<00:00, 247.68it/s]\n",
      "Computing chunks: 100%|███████████████████████| 5/5 [00:00<00:00, 123361.88it/s]\n",
      "Splitting the experimental spectrum into chunks: 27129it [00:00, 2574314.45it/s]\n",
      "Deconvolving chunks: 100%|████████████████████████| 1/1 [00:16<00:00, 16.85s/it]\n"
     ]
    },
    {
     "name": "stdout",
     "output_type": "stream",
     "text": [
      "Estimation for 0.13 and 0.25 done\n",
      "It took: 16.923558712005615 seconds.\n",
      "[0.22886581387300015, 0.1528258897250001, 0.11821155733100008, 0.1667530891290001, 0.3262644868340002]\n"
     ]
    },
    {
     "name": "stderr",
     "output_type": "stream",
     "text": [
      "Initial filtering of formulas: 100%|█████████████| 5/5 [00:00<00:00, 145.70it/s]\n",
      "Computing chunks: 100%|████████████████████████| 5/5 [00:00<00:00, 74898.29it/s]\n",
      "Splitting the experimental spectrum into chunks: 27129it [00:00, 1789108.07it/s]\n",
      "Deconvolving chunks: 100%|████████████████████████| 1/1 [00:18<00:00, 18.90s/it]\n"
     ]
    },
    {
     "name": "stdout",
     "output_type": "stream",
     "text": [
      "Estimation for 0.13 and 0.26 done\n",
      "It took: 19.001779794692993 seconds.\n",
      "[0.22890665841600014, 0.1528063754130001, 0.11822795995700008, 0.1666601851840001, 0.32624746649300024]\n"
     ]
    },
    {
     "name": "stderr",
     "output_type": "stream",
     "text": [
      "Initial filtering of formulas: 100%|█████████████| 5/5 [00:00<00:00, 204.57it/s]\n",
      "Computing chunks: 100%|███████████████████████| 5/5 [00:00<00:00, 140748.46it/s]\n",
      "Splitting the experimental spectrum into chunks: 27129it [00:00, 2624426.81it/s]\n",
      "Deconvolving chunks: 100%|████████████████████████| 1/1 [00:14<00:00, 14.31s/it]\n"
     ]
    },
    {
     "name": "stdout",
     "output_type": "stream",
     "text": [
      "Estimation for 0.13 and 0.27 done\n",
      "It took: 14.382220268249512 seconds.\n",
      "[0.22894641758800013, 0.15280892612200012, 0.11825050378300009, 0.1664601185680001, 0.3262583757630002]\n"
     ]
    },
    {
     "name": "stderr",
     "output_type": "stream",
     "text": [
      "Initial filtering of formulas: 100%|█████████████| 5/5 [00:00<00:00, 260.67it/s]\n",
      "Computing chunks: 100%|███████████████████████| 5/5 [00:00<00:00, 179243.76it/s]\n",
      "Splitting the experimental spectrum into chunks: 27129it [00:00, 2714973.95it/s]\n",
      "Deconvolving chunks: 100%|████████████████████████| 1/1 [00:13<00:00, 13.85s/it]\n"
     ]
    },
    {
     "name": "stdout",
     "output_type": "stream",
     "text": [
      "Estimation for 0.13 and 0.28 done\n",
      "It took: 13.912227869033813 seconds.\n",
      "[0.22905051810100013, 0.1527975912200001, 0.11826215293300009, 0.1661718486120001, 0.3262543057490002]\n"
     ]
    },
    {
     "name": "stderr",
     "output_type": "stream",
     "text": [
      "Initial filtering of formulas: 100%|█████████████| 5/5 [00:00<00:00, 252.83it/s]\n",
      "Computing chunks: 100%|███████████████████████| 5/5 [00:00<00:00, 127875.12it/s]\n",
      "Splitting the experimental spectrum into chunks: 27129it [00:00, 2775163.97it/s]\n",
      "Deconvolving chunks: 100%|████████████████████████| 1/1 [00:15<00:00, 15.16s/it]\n"
     ]
    },
    {
     "name": "stdout",
     "output_type": "stream",
     "text": [
      "Estimation for 0.13 and 0.29000000000000004 done\n",
      "It took: 15.222933530807495 seconds.\n",
      "[0.22915316702000013, 0.1527664322880001, 0.11826551562800008, 0.16597015423700012, 0.32623294112000023]\n"
     ]
    },
    {
     "name": "stderr",
     "output_type": "stream",
     "text": [
      "Initial filtering of formulas: 100%|█████████████| 5/5 [00:00<00:00, 255.44it/s]\n",
      "Computing chunks: 100%|███████████████████████| 5/5 [00:00<00:00, 180788.97it/s]\n",
      "Splitting the experimental spectrum into chunks: 27129it [00:00, 2105573.05it/s]\n",
      "Deconvolving chunks: 100%|████████████████████████| 1/1 [00:24<00:00, 24.38s/it]\n"
     ]
    },
    {
     "name": "stdout",
     "output_type": "stream",
     "text": [
      "Estimation for 0.13 and 0.3 done\n",
      "It took: 24.448824167251587 seconds.\n",
      "[0.22927503670400018, 0.1527956251670001, 0.11808587718000009, 0.1656484830410001, 0.3262558670870002]\n"
     ]
    },
    {
     "name": "stderr",
     "output_type": "stream",
     "text": [
      "Initial filtering of formulas: 100%|█████████████| 5/5 [00:00<00:00, 153.19it/s]\n",
      "Computing chunks: 100%|████████████████████████| 5/5 [00:00<00:00, 59074.70it/s]\n",
      "Splitting the experimental spectrum into chunks: 27129it [00:00, 1802228.06it/s]\n",
      "Deconvolving chunks: 100%|████████████████████████| 1/1 [00:22<00:00, 22.83s/it]\n"
     ]
    },
    {
     "name": "stdout",
     "output_type": "stream",
     "text": [
      "Estimation for 0.14 and 0.01 done\n",
      "It took: 22.94880485534668 seconds.\n",
      "[0.21755084554200013, 0.1842519119180001, 0.11203796674500006, 0.1721534951830001, 0.31400578061200024]\n"
     ]
    },
    {
     "name": "stderr",
     "output_type": "stream",
     "text": [
      "Initial filtering of formulas: 100%|██████████████| 5/5 [00:00<00:00, 95.28it/s]\n",
      "Computing chunks: 100%|████████████████████████| 5/5 [00:00<00:00, 58908.76it/s]\n",
      "Splitting the experimental spectrum into chunks: 27129it [00:00, 950881.82it/s]\n",
      "Deconvolving chunks: 100%|████████████████████████| 1/1 [00:17<00:00, 17.53s/it]\n"
     ]
    },
    {
     "name": "stdout",
     "output_type": "stream",
     "text": [
      "Estimation for 0.14 and 0.02 done\n",
      "It took: 17.682599544525146 seconds.\n",
      "[0.22749747499800013, 0.15057183637400012, 0.11728689957200009, 0.1773559218180001, 0.32728786723800024]\n"
     ]
    },
    {
     "name": "stderr",
     "output_type": "stream",
     "text": [
      "Initial filtering of formulas: 100%|█████████████| 5/5 [00:00<00:00, 207.31it/s]\n",
      "Computing chunks: 100%|████████████████████████| 5/5 [00:00<00:00, 52824.99it/s]\n",
      "Splitting the experimental spectrum into chunks: 27129it [00:00, 2281037.47it/s]\n",
      "Deconvolving chunks: 100%|████████████████████████| 1/1 [00:18<00:00, 18.61s/it]\n"
     ]
    },
    {
     "name": "stdout",
     "output_type": "stream",
     "text": [
      "Estimation for 0.14 and 0.03 done\n",
      "It took: 18.69577693939209 seconds.\n",
      "[0.22773846947000015, 0.15085527514200012, 0.11753960541000008, 0.1770456446430001, 0.32682100533500025]\n"
     ]
    },
    {
     "name": "stderr",
     "output_type": "stream",
     "text": [
      "Initial filtering of formulas: 100%|█████████████| 5/5 [00:00<00:00, 220.90it/s]\n",
      "Computing chunks: 100%|████████████████████████| 5/5 [00:00<00:00, 59074.70it/s]\n",
      "Splitting the experimental spectrum into chunks: 27129it [00:00, 2221670.02it/s]\n",
      "Deconvolving chunks: 100%|████████████████████████| 1/1 [00:18<00:00, 18.11s/it]\n"
     ]
    },
    {
     "name": "stdout",
     "output_type": "stream",
     "text": [
      "Estimation for 0.14 and 0.04 done\n",
      "It took: 18.204910039901733 seconds.\n",
      "[0.22792690637900015, 0.15107391778000012, 0.11773124674100008, 0.17717095468800012, 0.3260969744120002]\n"
     ]
    },
    {
     "name": "stderr",
     "output_type": "stream",
     "text": [
      "Initial filtering of formulas: 100%|█████████████| 5/5 [00:00<00:00, 211.62it/s]\n",
      "Computing chunks: 100%|████████████████████████| 5/5 [00:00<00:00, 98457.84it/s]\n",
      "Splitting the experimental spectrum into chunks: 27129it [00:00, 2101567.55it/s]\n",
      "Deconvolving chunks: 100%|████████████████████████| 1/1 [00:25<00:00, 25.55s/it]\n"
     ]
    },
    {
     "name": "stdout",
     "output_type": "stream",
     "text": [
      "Estimation for 0.14 and 0.05 done\n",
      "It took: 25.641712427139282 seconds.\n",
      "[0.22800614495500013, 0.1511773893160001, 0.11784200944000009, 0.1771073672140001, 0.3258670890750002]\n"
     ]
    },
    {
     "name": "stderr",
     "output_type": "stream",
     "text": [
      "Initial filtering of formulas: 100%|█████████████| 5/5 [00:00<00:00, 181.68it/s]\n",
      "Computing chunks: 100%|████████████████████████| 5/5 [00:00<00:00, 42886.54it/s]\n",
      "Splitting the experimental spectrum into chunks: 27129it [00:00, 1603269.93it/s]\n",
      "Deconvolving chunks: 100%|████████████████████████| 1/1 [00:18<00:00, 18.12s/it]\n"
     ]
    },
    {
     "name": "stdout",
     "output_type": "stream",
     "text": [
      "Estimation for 0.14 and 0.060000000000000005 done\n",
      "It took: 18.233286142349243 seconds.\n",
      "[0.22791342622200014, 0.15134016525300012, 0.11800515032200008, 0.1772390948450001, 0.3255021633580002]\n"
     ]
    },
    {
     "name": "stderr",
     "output_type": "stream",
     "text": [
      "Initial filtering of formulas: 100%|█████████████| 5/5 [00:00<00:00, 254.23it/s]\n",
      "Computing chunks: 100%|████████████████████████| 5/5 [00:00<00:00, 54755.93it/s]\n",
      "Splitting the experimental spectrum into chunks: 27129it [00:00, 2130209.55it/s]\n",
      "Deconvolving chunks: 100%|████████████████████████| 1/1 [00:14<00:00, 14.89s/it]\n"
     ]
    },
    {
     "name": "stdout",
     "output_type": "stream",
     "text": [
      "Estimation for 0.14 and 0.06999999999999999 done\n",
      "It took: 14.956147193908691 seconds.\n",
      "[0.22785881068300015, 0.1515704520090001, 0.11822816222900008, 0.1770364514150001, 0.3253061236630002]\n"
     ]
    },
    {
     "name": "stderr",
     "output_type": "stream",
     "text": [
      "Initial filtering of formulas: 100%|█████████████| 5/5 [00:00<00:00, 241.02it/s]\n",
      "Computing chunks: 100%|███████████████████████| 5/5 [00:00<00:00, 190650.18it/s]\n",
      "Splitting the experimental spectrum into chunks: 27129it [00:00, 2435828.09it/s]\n",
      "Deconvolving chunks: 100%|████████████████████████| 1/1 [00:16<00:00, 16.11s/it]\n"
     ]
    },
    {
     "name": "stdout",
     "output_type": "stream",
     "text": [
      "Estimation for 0.14 and 0.08 done\n",
      "It took: 16.177613496780396 seconds.\n",
      "[0.22780351728000015, 0.15160544045800012, 0.11831141473700009, 0.17701688002900012, 0.32526274749700024]\n"
     ]
    },
    {
     "name": "stderr",
     "output_type": "stream",
     "text": [
      "Initial filtering of formulas: 100%|█████████████| 5/5 [00:00<00:00, 242.02it/s]\n",
      "Computing chunks: 100%|███████████████████████| 5/5 [00:00<00:00, 201649.23it/s]\n",
      "Splitting the experimental spectrum into chunks: 27129it [00:00, 2184855.48it/s]\n",
      "Deconvolving chunks: 100%|████████████████████████| 1/1 [00:20<00:00, 20.42s/it]\n"
     ]
    },
    {
     "name": "stdout",
     "output_type": "stream",
     "text": [
      "Estimation for 0.14 and 0.09 done\n",
      "It took: 20.48924970626831 seconds.\n",
      "[0.22783946788900014, 0.1516823182740001, 0.11841013928600008, 0.17697185787600012, 0.32509621667600025]\n"
     ]
    },
    {
     "name": "stderr",
     "output_type": "stream",
     "text": [
      "Initial filtering of formulas: 100%|█████████████| 5/5 [00:00<00:00, 164.73it/s]\n",
      "Computing chunks: 100%|███████████████████████| 5/5 [00:00<00:00, 112750.11it/s]\n",
      "Splitting the experimental spectrum into chunks: 27129it [00:00, 1754162.72it/s]\n",
      "Deconvolving chunks: 100%|████████████████████████| 1/1 [00:16<00:00, 16.10s/it]\n"
     ]
    },
    {
     "name": "stdout",
     "output_type": "stream",
     "text": [
      "Estimation for 0.14 and 0.09999999999999999 done\n",
      "It took: 16.19457745552063 seconds.\n",
      "[0.22779971472800015, 0.15178166800000012, 0.11852719681500008, 0.17697388810100012, 0.3249175323570002]\n"
     ]
    },
    {
     "name": "stderr",
     "output_type": "stream",
     "text": [
      "Initial filtering of formulas: 100%|█████████████| 5/5 [00:00<00:00, 260.41it/s]\n",
      "Computing chunks: 100%|███████████████████████| 5/5 [00:00<00:00, 160087.94it/s]\n",
      "Splitting the experimental spectrum into chunks: 27129it [00:00, 2587132.76it/s]\n",
      "Deconvolving chunks: 100%|████████████████████████| 1/1 [00:14<00:00, 14.58s/it]\n"
     ]
    },
    {
     "name": "stdout",
     "output_type": "stream",
     "text": [
      "Estimation for 0.14 and 0.11 done\n",
      "It took: 14.646042108535767 seconds.\n",
      "[0.22774682495400014, 0.1518660946840001, 0.11860870270100009, 0.1769868547910001, 0.32479152287000024]\n"
     ]
    },
    {
     "name": "stderr",
     "output_type": "stream",
     "text": [
      "Initial filtering of formulas: 100%|█████████████| 5/5 [00:00<00:00, 249.23it/s]\n",
      "Computing chunks: 100%|███████████████████████| 5/5 [00:00<00:00, 134432.82it/s]\n",
      "Splitting the experimental spectrum into chunks: 27129it [00:00, 2702143.75it/s]\n",
      "Deconvolving chunks: 100%|████████████████████████| 1/1 [00:13<00:00, 13.87s/it]\n"
     ]
    },
    {
     "name": "stdout",
     "output_type": "stream",
     "text": [
      "Estimation for 0.14 and 0.12 done\n",
      "It took: 13.931186437606812 seconds.\n",
      "[0.22778351470900013, 0.1519366452690001, 0.11869303255000008, 0.1769430273430001, 0.3246437801280002]\n"
     ]
    },
    {
     "name": "stderr",
     "output_type": "stream",
     "text": [
      "Initial filtering of formulas: 100%|█████████████| 5/5 [00:00<00:00, 262.87it/s]\n",
      "Computing chunks: 100%|███████████████████████| 5/5 [00:00<00:00, 207638.81it/s]\n",
      "Splitting the experimental spectrum into chunks: 27129it [00:00, 2717567.61it/s]\n",
      "Deconvolving chunks: 100%|████████████████████████| 1/1 [00:18<00:00, 18.46s/it]\n"
     ]
    },
    {
     "name": "stdout",
     "output_type": "stream",
     "text": [
      "Estimation for 0.14 and 0.13 done\n",
      "It took: 18.529064416885376 seconds.\n",
      "[0.22784033540100013, 0.1519960632920001, 0.11879097076500009, 0.1768049714760001, 0.32456765906500024]\n"
     ]
    },
    {
     "name": "stderr",
     "output_type": "stream",
     "text": [
      "Initial filtering of formulas: 100%|█████████████| 5/5 [00:00<00:00, 117.99it/s]\n",
      "Computing chunks: 100%|████████████████████████| 5/5 [00:00<00:00, 52298.05it/s]\n",
      "Splitting the experimental spectrum into chunks: 27129it [00:00, 1387869.70it/s]\n",
      "Deconvolving chunks: 100%|████████████████████████| 1/1 [00:17<00:00, 17.52s/it]\n"
     ]
    },
    {
     "name": "stdout",
     "output_type": "stream",
     "text": [
      "Estimation for 0.14 and 0.14 done\n",
      "It took: 17.64559316635132 seconds.\n",
      "[0.22785092688500014, 0.15205401439700011, 0.11888470730900008, 0.17673466250700012, 0.32447568890200024]\n"
     ]
    },
    {
     "name": "stderr",
     "output_type": "stream",
     "text": [
      "Initial filtering of formulas: 100%|█████████████| 5/5 [00:00<00:00, 244.13it/s]\n",
      "Computing chunks: 100%|███████████████████████| 5/5 [00:00<00:00, 165130.08it/s]\n",
      "Splitting the experimental spectrum into chunks: 27129it [00:00, 2588663.05it/s]\n",
      "Deconvolving chunks: 100%|████████████████████████| 1/1 [00:14<00:00, 14.69s/it]\n"
     ]
    },
    {
     "name": "stdout",
     "output_type": "stream",
     "text": [
      "Estimation for 0.14 and 0.15000000000000002 done\n",
      "It took: 14.758292436599731 seconds.\n",
      "[0.22787256685500015, 0.15210606437800012, 0.11896650278300008, 0.1766644126840001, 0.32439045330100025]\n"
     ]
    },
    {
     "name": "stderr",
     "output_type": "stream",
     "text": [
      "Initial filtering of formulas: 100%|█████████████| 5/5 [00:00<00:00, 245.76it/s]\n",
      "Computing chunks: 100%|███████████████████████| 5/5 [00:00<00:00, 190650.18it/s]\n",
      "Splitting the experimental spectrum into chunks: 27129it [00:00, 2583432.24it/s]\n",
      "Deconvolving chunks: 100%|████████████████████████| 1/1 [00:14<00:00, 14.98s/it]\n"
     ]
    },
    {
     "name": "stdout",
     "output_type": "stream",
     "text": [
      "Estimation for 0.14 and 0.16 done\n",
      "It took: 15.045725345611572 seconds.\n",
      "[0.22788341798300013, 0.1521508221640001, 0.11904964934400009, 0.17656052551400012, 0.3243555849950002]\n"
     ]
    },
    {
     "name": "stderr",
     "output_type": "stream",
     "text": [
      "Initial filtering of formulas: 100%|█████████████| 5/5 [00:00<00:00, 235.08it/s]\n",
      "Computing chunks: 100%|███████████████████████| 5/5 [00:00<00:00, 141699.46it/s]\n",
      "Splitting the experimental spectrum into chunks: 27129it [00:00, 2233093.38it/s]\n",
      "Deconvolving chunks: 100%|████████████████████████| 1/1 [00:15<00:00, 15.94s/it]\n"
     ]
    },
    {
     "name": "stdout",
     "output_type": "stream",
     "text": [
      "Estimation for 0.14 and 0.17 done\n",
      "It took: 16.017843008041382 seconds.\n",
      "[0.22787621375700015, 0.15217248439100012, 0.11912340125600009, 0.17645452118800012, 0.32437337940700023]\n"
     ]
    },
    {
     "name": "stderr",
     "output_type": "stream",
     "text": [
      "Initial filtering of formulas: 100%|█████████████| 5/5 [00:00<00:00, 185.56it/s]\n",
      "Computing chunks: 100%|████████████████████████| 5/5 [00:00<00:00, 60787.01it/s]\n",
      "Splitting the experimental spectrum into chunks: 27129it [00:00, 1862403.61it/s]\n",
      "Deconvolving chunks: 100%|████████████████████████| 1/1 [00:25<00:00, 25.01s/it]\n"
     ]
    },
    {
     "name": "stdout",
     "output_type": "stream",
     "text": [
      "Estimation for 0.14 and 0.18000000000000002 done\n",
      "It took: 25.107068061828613 seconds.\n",
      "[0.22783150985400014, 0.1522134155370001, 0.11917947778200008, 0.17641476749000012, 0.32436082933600024]\n"
     ]
    },
    {
     "name": "stderr",
     "output_type": "stream",
     "text": [
      "Initial filtering of formulas: 100%|█████████████| 5/5 [00:00<00:00, 107.59it/s]\n",
      "Computing chunks: 100%|████████████████████████| 5/5 [00:00<00:00, 49695.55it/s]\n",
      "Splitting the experimental spectrum into chunks: 27129it [00:00, 1171217.29it/s]\n",
      "Deconvolving chunks: 100%|████████████████████████| 1/1 [00:21<00:00, 21.07s/it]\n"
     ]
    },
    {
     "name": "stdout",
     "output_type": "stream",
     "text": [
      "Estimation for 0.14 and 0.19 done\n",
      "It took: 21.24156904220581 seconds.\n",
      "[0.22780306398700015, 0.1522326516930001, 0.11922764354200008, 0.1763266389200001, 0.3244100018570002]\n"
     ]
    },
    {
     "name": "stderr",
     "output_type": "stream",
     "text": [
      "Initial filtering of formulas: 100%|█████████████| 5/5 [00:00<00:00, 210.52it/s]\n",
      "Computing chunks: 100%|████████████████████████| 5/5 [00:00<00:00, 84222.97it/s]\n",
      "Splitting the experimental spectrum into chunks: 27129it [00:00, 2326605.05it/s]\n",
      "Deconvolving chunks: 100%|████████████████████████| 1/1 [00:17<00:00, 17.35s/it]\n"
     ]
    },
    {
     "name": "stdout",
     "output_type": "stream",
     "text": [
      "Estimation for 0.14 and 0.2 done\n",
      "It took: 17.44676923751831 seconds.\n",
      "[0.22858693180100015, 0.1527947196100001, 0.11945575011500008, 0.1684696580090001, 0.3256549838110002]\n"
     ]
    },
    {
     "name": "stderr",
     "output_type": "stream",
     "text": [
      "Initial filtering of formulas: 100%|█████████████| 5/5 [00:00<00:00, 224.74it/s]\n",
      "Computing chunks: 100%|███████████████████████| 5/5 [00:00<00:00, 125577.96it/s]\n",
      "Splitting the experimental spectrum into chunks: 27129it [00:00, 2187207.31it/s]\n",
      "Deconvolving chunks: 100%|████████████████████████| 1/1 [00:17<00:00, 17.72s/it]\n"
     ]
    },
    {
     "name": "stdout",
     "output_type": "stream",
     "text": [
      "Estimation for 0.14 and 0.21000000000000002 done\n",
      "It took: 17.801936388015747 seconds.\n",
      "[0.22865182974100015, 0.1528233343190001, 0.11898193639300009, 0.1681652528530001, 0.32581651585600024]\n"
     ]
    },
    {
     "name": "stderr",
     "output_type": "stream",
     "text": [
      "Initial filtering of formulas: 100%|█████████████| 5/5 [00:00<00:00, 231.61it/s]\n",
      "Computing chunks: 100%|███████████████████████| 5/5 [00:00<00:00, 153076.79it/s]\n",
      "Splitting the experimental spectrum into chunks: 27129it [00:00, 2477298.47it/s]\n",
      "Deconvolving chunks: 100%|████████████████████████| 1/1 [00:16<00:00, 16.64s/it]\n"
     ]
    },
    {
     "name": "stdout",
     "output_type": "stream",
     "text": [
      "Estimation for 0.14 and 0.22 done\n",
      "It took: 16.728250980377197 seconds.\n",
      "[0.22872810440400013, 0.1528430717990001, 0.11864974672500009, 0.16779791211500011, 0.3259476914570002]\n"
     ]
    },
    {
     "name": "stderr",
     "output_type": "stream",
     "text": [
      "Initial filtering of formulas: 100%|█████████████| 5/5 [00:00<00:00, 250.81it/s]\n",
      "Computing chunks: 100%|███████████████████████| 5/5 [00:00<00:00, 161319.38it/s]\n",
      "Splitting the experimental spectrum into chunks: 27129it [00:00, 2446985.51it/s]\n",
      "Deconvolving chunks: 100%|████████████████████████| 1/1 [00:20<00:00, 20.78s/it]\n"
     ]
    },
    {
     "name": "stdout",
     "output_type": "stream",
     "text": [
      "Estimation for 0.14 and 0.23 done\n",
      "It took: 20.85821843147278 seconds.\n",
      "[0.22873731045600013, 0.1528391567680001, 0.11855869678000008, 0.1676366800620001, 0.32601026073900025]\n"
     ]
    },
    {
     "name": "stderr",
     "output_type": "stream",
     "text": [
      "Initial filtering of formulas: 100%|█████████████| 5/5 [00:00<00:00, 134.12it/s]\n",
      "Computing chunks: 100%|████████████████████████| 5/5 [00:00<00:00, 33716.27it/s]\n",
      "Splitting the experimental spectrum into chunks: 27129it [00:00, 1456216.14it/s]\n",
      "Deconvolving chunks: 100%|████████████████████████| 1/1 [00:18<00:00, 18.27s/it]\n"
     ]
    },
    {
     "name": "stdout",
     "output_type": "stream",
     "text": [
      "Estimation for 0.14 and 0.24000000000000002 done\n",
      "It took: 18.397780895233154 seconds.\n",
      "[0.22876505299000013, 0.1528194135140001, 0.11840738498400008, 0.16744166692400012, 0.3261149583970002]\n"
     ]
    },
    {
     "name": "stderr",
     "output_type": "stream",
     "text": [
      "Initial filtering of formulas: 100%|█████████████| 5/5 [00:00<00:00, 266.10it/s]\n",
      "Computing chunks: 100%|███████████████████████| 5/5 [00:00<00:00, 187245.71it/s]\n",
      "Splitting the experimental spectrum into chunks: 27129it [00:00, 2778348.75it/s]\n",
      "Deconvolving chunks: 100%|████████████████████████| 1/1 [00:14<00:00, 14.57s/it]\n"
     ]
    },
    {
     "name": "stdout",
     "output_type": "stream",
     "text": [
      "Estimation for 0.14 and 0.25 done\n",
      "It took: 14.633378744125366 seconds.\n",
      "[0.22881033562200015, 0.15281323499300012, 0.11832287848300008, 0.1671392217310001, 0.32620499598500025]\n"
     ]
    },
    {
     "name": "stderr",
     "output_type": "stream",
     "text": [
      "Initial filtering of formulas: 100%|█████████████| 5/5 [00:00<00:00, 258.88it/s]\n",
      "Computing chunks: 100%|███████████████████████| 5/5 [00:00<00:00, 216201.24it/s]\n",
      "Splitting the experimental spectrum into chunks: 27129it [00:00, 2566417.96it/s]\n",
      "Deconvolving chunks: 100%|████████████████████████| 1/1 [00:13<00:00, 13.97s/it]\n"
     ]
    },
    {
     "name": "stdout",
     "output_type": "stream",
     "text": [
      "Estimation for 0.14 and 0.26 done\n",
      "It took: 14.029716730117798 seconds.\n",
      "[0.22884839090700013, 0.1528023606260001, 0.11827553381200008, 0.16702051537900012, 0.3262147668780002]\n"
     ]
    },
    {
     "name": "stderr",
     "output_type": "stream",
     "text": [
      "Initial filtering of formulas: 100%|█████████████| 5/5 [00:00<00:00, 228.74it/s]\n",
      "Computing chunks: 100%|████████████████████████| 5/5 [00:00<00:00, 88487.43it/s]\n",
      "Splitting the experimental spectrum into chunks: 27129it [00:00, 2125792.09it/s]\n",
      "Deconvolving chunks: 100%|████████████████████████| 1/1 [00:18<00:00, 18.30s/it]\n"
     ]
    },
    {
     "name": "stdout",
     "output_type": "stream",
     "text": [
      "Estimation for 0.14 and 0.27 done\n",
      "It took: 18.37529706954956 seconds.\n",
      "[0.22891063284600013, 0.1527932060320001, 0.11827924300200009, 0.1669325892960001, 0.3261867266400002]\n"
     ]
    },
    {
     "name": "stderr",
     "output_type": "stream",
     "text": [
      "Initial filtering of formulas: 100%|█████████████| 5/5 [00:00<00:00, 151.10it/s]\n",
      "Computing chunks: 100%|███████████████████████| 5/5 [00:00<00:00, 115864.75it/s]\n",
      "Splitting the experimental spectrum into chunks: 27129it [00:00, 1753892.34it/s]\n",
      "Deconvolving chunks: 100%|████████████████████████| 1/1 [00:17<00:00, 17.68s/it]\n"
     ]
    },
    {
     "name": "stdout",
     "output_type": "stream",
     "text": [
      "Estimation for 0.14 and 0.28 done\n",
      "It took: 17.79015302658081 seconds.\n",
      "[0.22900076917700013, 0.1527736769700001, 0.11829193795000008, 0.16672385356700012, 0.3261717888490002]\n"
     ]
    },
    {
     "name": "stderr",
     "output_type": "stream",
     "text": [
      "Initial filtering of formulas: 100%|█████████████| 5/5 [00:00<00:00, 264.19it/s]\n",
      "Computing chunks: 100%|███████████████████████| 5/5 [00:00<00:00, 112147.17it/s]\n",
      "Splitting the experimental spectrum into chunks: 27129it [00:00, 2263477.42it/s]\n",
      "Deconvolving chunks: 100%|████████████████████████| 1/1 [00:14<00:00, 14.49s/it]\n"
     ]
    },
    {
     "name": "stdout",
     "output_type": "stream",
     "text": [
      "Estimation for 0.14 and 0.29000000000000004 done\n",
      "It took: 14.557094097137451 seconds.\n",
      "[0.22910742146400015, 0.15274615332200012, 0.11831600786900008, 0.1664428656350001, 0.3261772145900002]\n"
     ]
    },
    {
     "name": "stderr",
     "output_type": "stream",
     "text": [
      "Initial filtering of formulas: 100%|█████████████| 5/5 [00:00<00:00, 254.97it/s]\n",
      "Computing chunks: 100%|███████████████████████| 5/5 [00:00<00:00, 197844.53it/s]\n",
      "Splitting the experimental spectrum into chunks: 27129it [00:00, 2844966.33it/s]\n",
      "Deconvolving chunks: 100%|████████████████████████| 1/1 [00:14<00:00, 14.07s/it]\n"
     ]
    },
    {
     "name": "stdout",
     "output_type": "stream",
     "text": [
      "Estimation for 0.14 and 0.3 done\n",
      "It took: 14.136354684829712 seconds.\n",
      "[0.22920277197000016, 0.15276347480200012, 0.11831617685000008, 0.16623410623000012, 0.32615133022300025]\n"
     ]
    },
    {
     "name": "stderr",
     "output_type": "stream",
     "text": [
      "Initial filtering of formulas: 100%|█████████████| 5/5 [00:00<00:00, 265.41it/s]\n",
      "Computing chunks: 100%|███████████████████████| 5/5 [00:00<00:00, 151967.54it/s]\n",
      "Splitting the experimental spectrum into chunks: 27129it [00:00, 2700027.84it/s]\n",
      "Deconvolving chunks: 100%|████████████████████████| 1/1 [00:18<00:00, 18.07s/it]\n"
     ]
    },
    {
     "name": "stdout",
     "output_type": "stream",
     "text": [
      "Estimation for 0.15000000000000002 and 0.01 done\n",
      "It took: 18.140440225601196 seconds.\n",
      "[0.21755084554200013, 0.1842519119180001, 0.11203796674500006, 0.1721534951830001, 0.31400578061200024]\n"
     ]
    },
    {
     "name": "stderr",
     "output_type": "stream",
     "text": [
      "Initial filtering of formulas: 100%|█████████████| 5/5 [00:00<00:00, 211.05it/s]\n",
      "Computing chunks: 100%|████████████████████████| 5/5 [00:00<00:00, 85250.08it/s]\n",
      "Splitting the experimental spectrum into chunks: 27129it [00:00, 2286170.40it/s]\n",
      "Deconvolving chunks: 100%|████████████████████████| 1/1 [00:19<00:00, 19.99s/it]\n"
     ]
    },
    {
     "name": "stdout",
     "output_type": "stream",
     "text": [
      "Estimation for 0.15000000000000002 and 0.02 done\n",
      "It took: 20.07284188270569 seconds.\n",
      "[0.22749747499800013, 0.15057183637400012, 0.11728689957200009, 0.1773559218180001, 0.32728786723800024]\n"
     ]
    },
    {
     "name": "stderr",
     "output_type": "stream",
     "text": [
      "Initial filtering of formulas: 100%|█████████████| 5/5 [00:00<00:00, 265.03it/s]\n",
      "Computing chunks: 100%|███████████████████████| 5/5 [00:00<00:00, 197844.53it/s]\n",
      "Splitting the experimental spectrum into chunks: 27129it [00:00, 2822384.99it/s]\n",
      "Deconvolving chunks: 100%|████████████████████████| 1/1 [00:15<00:00, 15.61s/it]\n"
     ]
    },
    {
     "name": "stdout",
     "output_type": "stream",
     "text": [
      "Estimation for 0.15000000000000002 and 0.03 done\n",
      "It took: 15.677637100219727 seconds.\n",
      "[0.22773846947000015, 0.15085527514200012, 0.11753960541000008, 0.1770456446430001, 0.32682100533500025]\n"
     ]
    },
    {
     "name": "stderr",
     "output_type": "stream",
     "text": [
      "Initial filtering of formulas: 100%|█████████████| 5/5 [00:00<00:00, 248.95it/s]\n",
      "Computing chunks: 100%|███████████████████████| 5/5 [00:00<00:00, 109226.67it/s]\n",
      "Splitting the experimental spectrum into chunks: 27129it [00:00, 2686576.79it/s]\n",
      "Deconvolving chunks: 100%|████████████████████████| 1/1 [00:15<00:00, 15.36s/it]\n"
     ]
    },
    {
     "name": "stdout",
     "output_type": "stream",
     "text": [
      "Estimation for 0.15000000000000002 and 0.04 done\n",
      "It took: 15.425097227096558 seconds.\n",
      "[0.22792690637900015, 0.15107391778000012, 0.11773124674100008, 0.17717095468800012, 0.3260969744120002]\n"
     ]
    },
    {
     "name": "stderr",
     "output_type": "stream",
     "text": [
      "Initial filtering of formulas: 100%|█████████████| 5/5 [00:00<00:00, 249.09it/s]\n",
      "Computing chunks: 100%|████████████████████████| 5/5 [00:00<00:00, 97090.37it/s]\n",
      "Splitting the experimental spectrum into chunks: 27129it [00:00, 2374872.65it/s]\n",
      "Deconvolving chunks: 100%|████████████████████████| 1/1 [00:17<00:00, 17.44s/it]\n"
     ]
    },
    {
     "name": "stdout",
     "output_type": "stream",
     "text": [
      "Estimation for 0.15000000000000002 and 0.05 done\n",
      "It took: 17.502240419387817 seconds.\n",
      "[0.22800614495500013, 0.1511773893160001, 0.11784200944000009, 0.1771073672140001, 0.3258670890750002]\n"
     ]
    },
    {
     "name": "stderr",
     "output_type": "stream",
     "text": [
      "Initial filtering of formulas: 100%|█████████████| 5/5 [00:00<00:00, 243.43it/s]\n",
      "Computing chunks: 100%|███████████████████████| 5/5 [00:00<00:00, 108660.73it/s]\n",
      "Splitting the experimental spectrum into chunks: 27129it [00:00, 2569025.40it/s]\n",
      "Deconvolving chunks: 100%|████████████████████████| 1/1 [00:19<00:00, 19.43s/it]\n"
     ]
    },
    {
     "name": "stdout",
     "output_type": "stream",
     "text": [
      "Estimation for 0.15000000000000002 and 0.060000000000000005 done\n",
      "It took: 19.502805709838867 seconds.\n",
      "[0.22791342622200014, 0.15134016525300012, 0.11800515032200008, 0.1772390948450001, 0.3255021633580002]\n"
     ]
    },
    {
     "name": "stderr",
     "output_type": "stream",
     "text": [
      "Initial filtering of formulas: 100%|█████████████| 5/5 [00:00<00:00, 228.56it/s]\n",
      "Computing chunks: 100%|████████████████████████| 5/5 [00:00<00:00, 88487.43it/s]\n",
      "Splitting the experimental spectrum into chunks: 27129it [00:00, 2308994.99it/s]\n",
      "Deconvolving chunks: 100%|████████████████████████| 1/1 [00:24<00:00, 24.67s/it]\n"
     ]
    },
    {
     "name": "stdout",
     "output_type": "stream",
     "text": [
      "Estimation for 0.15000000000000002 and 0.06999999999999999 done\n",
      "It took: 24.756338357925415 seconds.\n",
      "[0.22785881068300015, 0.1515704520090001, 0.11822816222900008, 0.1770364514150001, 0.3253061236630002]\n"
     ]
    },
    {
     "name": "stderr",
     "output_type": "stream",
     "text": [
      "Initial filtering of formulas: 100%|█████████████| 5/5 [00:00<00:00, 161.20it/s]\n",
      "Computing chunks: 100%|████████████████████████| 5/5 [00:00<00:00, 77672.30it/s]\n",
      "Splitting the experimental spectrum into chunks: 27129it [00:00, 1681229.20it/s]\n",
      "Deconvolving chunks: 100%|████████████████████████| 1/1 [00:20<00:00, 20.11s/it]\n"
     ]
    },
    {
     "name": "stdout",
     "output_type": "stream",
     "text": [
      "Estimation for 0.15000000000000002 and 0.08 done\n",
      "It took: 20.21614384651184 seconds.\n",
      "[0.22780351728000015, 0.15160544045800012, 0.11831141473700009, 0.17701688002900012, 0.32526274749700024]\n"
     ]
    },
    {
     "name": "stderr",
     "output_type": "stream",
     "text": [
      "Initial filtering of formulas: 100%|█████████████| 5/5 [00:00<00:00, 233.42it/s]\n",
      "Computing chunks: 100%|████████████████████████| 5/5 [00:00<00:00, 52958.38it/s]\n",
      "Splitting the experimental spectrum into chunks: 27129it [00:00, 2285665.25it/s]\n",
      "Deconvolving chunks: 100%|████████████████████████| 1/1 [00:17<00:00, 17.19s/it]\n"
     ]
    },
    {
     "name": "stdout",
     "output_type": "stream",
     "text": [
      "Estimation for 0.15000000000000002 and 0.09 done\n",
      "It took: 17.27894377708435 seconds.\n",
      "[0.22783946788900014, 0.1516823182740001, 0.11841013928600008, 0.17697185787600012, 0.32509621667600025]\n"
     ]
    },
    {
     "name": "stderr",
     "output_type": "stream",
     "text": [
      "Initial filtering of formulas: 100%|█████████████| 5/5 [00:00<00:00, 152.40it/s]\n",
      "Computing chunks: 100%|███████████████████████| 5/5 [00:00<00:00, 131896.35it/s]\n",
      "Splitting the experimental spectrum into chunks: 27129it [00:00, 1834627.60it/s]\n",
      "Deconvolving chunks: 100%|████████████████████████| 1/1 [00:16<00:00, 16.76s/it]\n"
     ]
    },
    {
     "name": "stdout",
     "output_type": "stream",
     "text": [
      "Estimation for 0.15000000000000002 and 0.09999999999999999 done\n",
      "It took: 16.85360884666443 seconds.\n",
      "[0.22779881892800014, 0.15178184622400012, 0.11852733117800009, 0.17697409719400012, 0.3249179064770002]\n"
     ]
    },
    {
     "name": "stderr",
     "output_type": "stream",
     "text": [
      "Initial filtering of formulas: 100%|█████████████| 5/5 [00:00<00:00, 231.78it/s]\n",
      "Computing chunks: 100%|████████████████████████| 5/5 [00:00<00:00, 52038.51it/s]\n",
      "Splitting the experimental spectrum into chunks: 27129it [00:00, 2220672.78it/s]\n",
      "Deconvolving chunks: 100%|████████████████████████| 1/1 [00:27<00:00, 27.74s/it]\n"
     ]
    },
    {
     "name": "stdout",
     "output_type": "stream",
     "text": [
      "Estimation for 0.15000000000000002 and 0.11 done\n",
      "It took: 27.823463439941406 seconds.\n",
      "[0.22774682495400014, 0.1518660946840001, 0.11860870270100009, 0.1769868547910001, 0.32479152287000024]\n"
     ]
    },
    {
     "name": "stderr",
     "output_type": "stream",
     "text": [
      "Initial filtering of formulas: 100%|█████████████| 5/5 [00:00<00:00, 160.42it/s]\n",
      "Computing chunks: 100%|████████████████████████| 5/5 [00:00<00:00, 18125.77it/s]\n",
      "Splitting the experimental spectrum into chunks: 27129it [00:00, 1642378.59it/s]\n",
      "Deconvolving chunks: 100%|████████████████████████| 1/1 [00:19<00:00, 19.42s/it]\n"
     ]
    },
    {
     "name": "stdout",
     "output_type": "stream",
     "text": [
      "Estimation for 0.15000000000000002 and 0.12 done\n",
      "It took: 19.542115449905396 seconds.\n",
      "[0.22778351470900013, 0.1519366452690001, 0.11869303255000008, 0.1769430273430001, 0.3246437801280002]\n"
     ]
    },
    {
     "name": "stderr",
     "output_type": "stream",
     "text": [
      "Initial filtering of formulas: 100%|█████████████| 5/5 [00:00<00:00, 215.84it/s]\n",
      "Computing chunks: 100%|███████████████████████| 5/5 [00:00<00:00, 106454.42it/s]\n",
      "Splitting the experimental spectrum into chunks: 27129it [00:00, 1831497.44it/s]\n",
      "Deconvolving chunks: 100%|████████████████████████| 1/1 [00:18<00:00, 18.06s/it]\n"
     ]
    },
    {
     "name": "stdout",
     "output_type": "stream",
     "text": [
      "Estimation for 0.15000000000000002 and 0.13 done\n",
      "It took: 18.150317668914795 seconds.\n",
      "[0.22784033540100013, 0.1519960632920001, 0.11879097076500009, 0.1768049714760001, 0.32456765906500024]\n"
     ]
    },
    {
     "name": "stderr",
     "output_type": "stream",
     "text": [
      "Initial filtering of formulas: 100%|█████████████| 5/5 [00:00<00:00, 229.79it/s]\n",
      "Computing chunks: 100%|███████████████████████| 5/5 [00:00<00:00, 136178.70it/s]\n",
      "Splitting the experimental spectrum into chunks: 27129it [00:00, 1886518.89it/s]\n",
      "Deconvolving chunks: 100%|████████████████████████| 1/1 [00:18<00:00, 18.99s/it]\n"
     ]
    },
    {
     "name": "stdout",
     "output_type": "stream",
     "text": [
      "Estimation for 0.15000000000000002 and 0.14 done\n",
      "It took: 19.078784942626953 seconds.\n",
      "[0.22785092688500014, 0.15205401439700011, 0.11888470730900008, 0.17673466250700012, 0.32447568890200024]\n"
     ]
    },
    {
     "name": "stderr",
     "output_type": "stream",
     "text": [
      "Initial filtering of formulas: 100%|█████████████| 5/5 [00:00<00:00, 169.28it/s]\n",
      "Computing chunks: 100%|████████████████████████| 5/5 [00:00<00:00, 35910.14it/s]\n",
      "Splitting the experimental spectrum into chunks: 27129it [00:00, 1049127.07it/s]\n",
      "Deconvolving chunks: 100%|████████████████████████| 1/1 [00:16<00:00, 16.59s/it]\n"
     ]
    },
    {
     "name": "stdout",
     "output_type": "stream",
     "text": [
      "Estimation for 0.15000000000000002 and 0.15000000000000002 done\n",
      "It took: 16.702250480651855 seconds.\n",
      "[0.22787256685500015, 0.15210606437800012, 0.11896650278300008, 0.1766644126840001, 0.32439045330100025]\n"
     ]
    },
    {
     "name": "stderr",
     "output_type": "stream",
     "text": [
      "Initial filtering of formulas: 100%|█████████████| 5/5 [00:00<00:00, 241.69it/s]\n",
      "Computing chunks: 100%|███████████████████████| 5/5 [00:00<00:00, 119156.36it/s]\n",
      "Splitting the experimental spectrum into chunks: 27129it [00:00, 2673133.49it/s]\n",
      "Deconvolving chunks: 100%|████████████████████████| 1/1 [00:17<00:00, 17.30s/it]\n"
     ]
    },
    {
     "name": "stdout",
     "output_type": "stream",
     "text": [
      "Estimation for 0.15000000000000002 and 0.16 done\n",
      "It took: 17.371006727218628 seconds.\n",
      "[0.22788341798300013, 0.1521508221640001, 0.11904964934400009, 0.17656052551400012, 0.3243555849950002]\n"
     ]
    },
    {
     "name": "stderr",
     "output_type": "stream",
     "text": [
      "Initial filtering of formulas: 100%|█████████████| 5/5 [00:00<00:00, 155.00it/s]\n",
      "Computing chunks: 100%|████████████████████████| 5/5 [00:00<00:00, 98457.84it/s]\n",
      "Splitting the experimental spectrum into chunks: 27129it [00:00, 2178080.34it/s]\n",
      "Deconvolving chunks: 100%|████████████████████████| 1/1 [00:19<00:00, 19.26s/it]\n"
     ]
    },
    {
     "name": "stdout",
     "output_type": "stream",
     "text": [
      "Estimation for 0.15000000000000002 and 0.17 done\n",
      "It took: 19.35032033920288 seconds.\n",
      "[0.22787621375700015, 0.15217248439100012, 0.11912340125600009, 0.17645452118800012, 0.32437337940700023]\n"
     ]
    },
    {
     "name": "stderr",
     "output_type": "stream",
     "text": [
      "Initial filtering of formulas: 100%|█████████████| 5/5 [00:00<00:00, 256.45it/s]\n",
      "Computing chunks: 100%|███████████████████████| 5/5 [00:00<00:00, 173318.35it/s]\n",
      "Splitting the experimental spectrum into chunks: 27129it [00:00, 2653868.67it/s]\n",
      "Deconvolving chunks: 100%|████████████████████████| 1/1 [00:14<00:00, 14.55s/it]\n"
     ]
    },
    {
     "name": "stdout",
     "output_type": "stream",
     "text": [
      "Estimation for 0.15000000000000002 and 0.18000000000000002 done\n",
      "It took: 14.61542010307312 seconds.\n",
      "[0.22783150985400014, 0.1522134155370001, 0.11917947778200008, 0.17641476749000012, 0.32436082933600024]\n"
     ]
    },
    {
     "name": "stderr",
     "output_type": "stream",
     "text": [
      "Initial filtering of formulas: 100%|█████████████| 5/5 [00:00<00:00, 239.01it/s]\n",
      "Computing chunks: 100%|████████████████████████| 5/5 [00:00<00:00, 46294.75it/s]\n",
      "Splitting the experimental spectrum into chunks: 27129it [00:00, 2336158.52it/s]\n",
      "Deconvolving chunks: 100%|████████████████████████| 1/1 [00:14<00:00, 14.19s/it]\n"
     ]
    },
    {
     "name": "stdout",
     "output_type": "stream",
     "text": [
      "Estimation for 0.15000000000000002 and 0.19 done\n",
      "It took: 14.262845277786255 seconds.\n",
      "[0.22780306398700015, 0.1522326516930001, 0.11922764354200008, 0.1763266389200001, 0.3244100018570002]\n"
     ]
    },
    {
     "name": "stderr",
     "output_type": "stream",
     "text": [
      "Initial filtering of formulas: 100%|█████████████| 5/5 [00:00<00:00, 249.70it/s]\n",
      "Computing chunks: 100%|███████████████████████| 5/5 [00:00<00:00, 133576.56it/s]\n",
      "Splitting the experimental spectrum into chunks: 27129it [00:00, 2010979.86it/s]\n",
      "Deconvolving chunks: 100%|████████████████████████| 1/1 [00:16<00:00, 16.77s/it]\n"
     ]
    },
    {
     "name": "stdout",
     "output_type": "stream",
     "text": [
      "Estimation for 0.15000000000000002 and 0.2 done\n",
      "It took: 16.846039295196533 seconds.\n",
      "[0.22776246757900015, 0.1522477878570001, 0.11926837176200009, 0.1762298060690001, 0.32449156673200025]\n"
     ]
    },
    {
     "name": "stderr",
     "output_type": "stream",
     "text": [
      "Initial filtering of formulas: 100%|█████████████| 5/5 [00:00<00:00, 140.58it/s]\n",
      "Computing chunks: 100%|████████████████████████| 5/5 [00:00<00:00, 60611.33it/s]\n",
      "Splitting the experimental spectrum into chunks: 27129it [00:00, 1343700.82it/s]\n",
      "Deconvolving chunks: 100%|████████████████████████| 1/1 [00:20<00:00, 20.35s/it]\n"
     ]
    },
    {
     "name": "stdout",
     "output_type": "stream",
     "text": [
      "Estimation for 0.15000000000000002 and 0.21000000000000002 done\n",
      "It took: 20.46532392501831 seconds.\n",
      "[0.22805177531300014, 0.1524414192900001, 0.11948721454600009, 0.1730525095180001, 0.3250215628580002]\n"
     ]
    },
    {
     "name": "stderr",
     "output_type": "stream",
     "text": [
      "Initial filtering of formulas: 100%|█████████████| 5/5 [00:00<00:00, 248.83it/s]\n",
      "Computing chunks: 100%|███████████████████████| 5/5 [00:00<00:00, 190650.18it/s]\n",
      "Splitting the experimental spectrum into chunks: 27129it [00:00, 2626365.22it/s]\n",
      "Deconvolving chunks: 100%|████████████████████████| 1/1 [00:14<00:00, 14.75s/it]\n"
     ]
    },
    {
     "name": "stdout",
     "output_type": "stream",
     "text": [
      "Estimation for 0.15000000000000002 and 0.22 done\n",
      "It took: 14.81714940071106 seconds.\n",
      "[0.22857301604700014, 0.1527745390000001, 0.11919512613600008, 0.1684418744350001, 0.3258004897540002]\n"
     ]
    },
    {
     "name": "stderr",
     "output_type": "stream",
     "text": [
      "Initial filtering of formulas: 100%|█████████████| 5/5 [00:00<00:00, 245.30it/s]\n",
      "Computing chunks: 100%|███████████████████████| 5/5 [00:00<00:00, 132731.14it/s]\n",
      "Splitting the experimental spectrum into chunks: 27129it [00:00, 2604662.21it/s]\n",
      "Deconvolving chunks: 100%|████████████████████████| 1/1 [00:14<00:00, 14.44s/it]\n"
     ]
    },
    {
     "name": "stdout",
     "output_type": "stream",
     "text": [
      "Estimation for 0.15000000000000002 and 0.23 done\n",
      "It took: 14.505026578903198 seconds.\n",
      "[0.22864686821100014, 0.15280865789000012, 0.11881134889900008, 0.16804892004800012, 0.3259505473560002]\n"
     ]
    },
    {
     "name": "stderr",
     "output_type": "stream",
     "text": [
      "Initial filtering of formulas: 100%|█████████████| 5/5 [00:00<00:00, 178.46it/s]\n",
      "Computing chunks: 100%|████████████████████████| 5/5 [00:00<00:00, 89240.51it/s]\n",
      "Splitting the experimental spectrum into chunks: 27129it [00:00, 2577872.07it/s]\n",
      "Deconvolving chunks: 100%|████████████████████████| 1/1 [00:16<00:00, 16.30s/it]\n"
     ]
    },
    {
     "name": "stdout",
     "output_type": "stream",
     "text": [
      "Estimation for 0.15000000000000002 and 0.24000000000000002 done\n",
      "It took: 16.378871202468872 seconds.\n",
      "[0.22868548244300013, 0.15279548748300012, 0.11862193240500009, 0.16781583916900011, 0.3260655824660002]\n"
     ]
    },
    {
     "name": "stderr",
     "output_type": "stream",
     "text": [
      "Initial filtering of formulas: 100%|█████████████| 5/5 [00:00<00:00, 140.55it/s]\n",
      "Computing chunks: 100%|████████████████████████| 5/5 [00:00<00:00, 71331.70it/s]\n",
      "Splitting the experimental spectrum into chunks: 27129it [00:00, 1705930.54it/s]\n",
      "Deconvolving chunks: 100%|████████████████████████| 1/1 [00:23<00:00, 23.25s/it]\n"
     ]
    },
    {
     "name": "stdout",
     "output_type": "stream",
     "text": [
      "Estimation for 0.15000000000000002 and 0.25 done\n",
      "It took: 23.355847120285034 seconds.\n",
      "[0.22872803180400014, 0.1527842960960001, 0.11849149789500009, 0.1677258782210001, 0.32610566341300024]\n"
     ]
    },
    {
     "name": "stderr",
     "output_type": "stream",
     "text": [
      "Initial filtering of formulas: 100%|█████████████| 5/5 [00:00<00:00, 269.54it/s]\n",
      "Computing chunks: 100%|███████████████████████| 5/5 [00:00<00:00, 147686.76it/s]\n",
      "Splitting the experimental spectrum into chunks: 27129it [00:00, 2784399.58it/s]\n",
      "Deconvolving chunks: 100%|████████████████████████| 1/1 [00:14<00:00, 14.80s/it]\n"
     ]
    },
    {
     "name": "stdout",
     "output_type": "stream",
     "text": [
      "Estimation for 0.15000000000000002 and 0.26 done\n",
      "It took: 14.863824605941772 seconds.\n",
      "[0.22878036690300013, 0.1527817949020001, 0.11842269456000008, 0.16749843947500012, 0.3261387522600002]\n"
     ]
    },
    {
     "name": "stderr",
     "output_type": "stream",
     "text": [
      "Initial filtering of formulas: 100%|█████████████| 5/5 [00:00<00:00, 239.67it/s]\n",
      "Computing chunks: 100%|████████████████████████| 5/5 [00:00<00:00, 89240.51it/s]\n",
      "Splitting the experimental spectrum into chunks: 27129it [00:00, 2603351.18it/s]\n",
      "Deconvolving chunks: 100%|████████████████████████| 1/1 [00:14<00:00, 14.58s/it]\n"
     ]
    },
    {
     "name": "stdout",
     "output_type": "stream",
     "text": [
      "Estimation for 0.15000000000000002 and 0.27 done\n",
      "It took: 14.651196002960205 seconds.\n",
      "[0.22888057147200014, 0.1527829585910001, 0.11833840065800008, 0.1672595568160001, 0.32613921323900025]\n"
     ]
    },
    {
     "name": "stderr",
     "output_type": "stream",
     "text": [
      "Initial filtering of formulas: 100%|█████████████| 5/5 [00:00<00:00, 248.68it/s]\n",
      "Computing chunks: 100%|███████████████████████| 5/5 [00:00<00:00, 148734.18it/s]\n",
      "Splitting the experimental spectrum into chunks: 27129it [00:00, 2602696.16it/s]\n",
      "Deconvolving chunks: 100%|████████████████████████| 1/1 [00:23<00:00, 23.87s/it]\n"
     ]
    },
    {
     "name": "stdout",
     "output_type": "stream",
     "text": [
      "Estimation for 0.15000000000000002 and 0.28 done\n",
      "It took: 23.94573950767517 seconds.\n",
      "[0.22896893163600013, 0.1527580032390001, 0.11832237944300009, 0.1671506533710001, 0.3261163249440002]\n"
     ]
    },
    {
     "name": "stderr",
     "output_type": "stream",
     "text": [
      "Initial filtering of formulas: 100%|█████████████| 5/5 [00:00<00:00, 142.19it/s]\n",
      "Computing chunks: 100%|████████████████████████| 5/5 [00:00<00:00, 41282.52it/s]\n",
      "Splitting the experimental spectrum into chunks: 27129it [00:00, 1558580.32it/s]\n",
      "Deconvolving chunks: 100%|████████████████████████| 1/1 [00:24<00:00, 24.02s/it]\n"
     ]
    },
    {
     "name": "stdout",
     "output_type": "stream",
     "text": [
      "Estimation for 0.15000000000000002 and 0.29000000000000004 done\n",
      "It took: 24.183525562286377 seconds.\n",
      "[0.22906452274700015, 0.15272650509800012, 0.11834190647000008, 0.16701278673200012, 0.32610218085600023]\n"
     ]
    },
    {
     "name": "stderr",
     "output_type": "stream",
     "text": [
      "Initial filtering of formulas: 100%|█████████████| 5/5 [00:00<00:00, 154.75it/s]\n",
      "Computing chunks: 100%|████████████████████████| 5/5 [00:00<00:00, 22995.09it/s]\n",
      "Splitting the experimental spectrum into chunks: 27129it [00:00, 1672579.75it/s]\n",
      "Deconvolving chunks: 100%|████████████████████████| 1/1 [00:24<00:00, 24.42s/it]\n"
     ]
    },
    {
     "name": "stdout",
     "output_type": "stream",
     "text": [
      "Estimation for 0.15000000000000002 and 0.3 done\n",
      "It took: 24.546417474746704 seconds.\n",
      "[0.22915427021300014, 0.15274022168000012, 0.11836034346700008, 0.16678211133000012, 0.3260591689670002]\n"
     ]
    },
    {
     "name": "stderr",
     "output_type": "stream",
     "text": [
      "Initial filtering of formulas: 100%|█████████████| 5/5 [00:00<00:00, 216.69it/s]\n",
      "Computing chunks: 100%|████████████████████████| 5/5 [00:00<00:00, 85598.04it/s]\n",
      "Splitting the experimental spectrum into chunks: 27129it [00:00, 2223276.15it/s]\n",
      "Deconvolving chunks: 100%|████████████████████████| 1/1 [00:20<00:00, 20.02s/it]\n"
     ]
    },
    {
     "name": "stdout",
     "output_type": "stream",
     "text": [
      "Estimation for 0.16 and 0.01 done\n",
      "It took: 20.10379123687744 seconds.\n",
      "[0.21755084554200013, 0.1842519119180001, 0.11203796674500006, 0.1721534951830001, 0.31400578061200024]\n"
     ]
    },
    {
     "name": "stderr",
     "output_type": "stream",
     "text": [
      "Initial filtering of formulas: 100%|█████████████| 5/5 [00:00<00:00, 207.41it/s]\n",
      "Computing chunks: 100%|████████████████████████| 5/5 [00:00<00:00, 72315.59it/s]\n",
      "Splitting the experimental spectrum into chunks: 27129it [00:00, 1809162.46it/s]\n",
      "Deconvolving chunks: 100%|████████████████████████| 1/1 [00:16<00:00, 16.08s/it]\n"
     ]
    },
    {
     "name": "stdout",
     "output_type": "stream",
     "text": [
      "Estimation for 0.16 and 0.02 done\n",
      "It took: 16.16103744506836 seconds.\n",
      "[0.22749747499800013, 0.15057183637400012, 0.11728689957200009, 0.1773559218180001, 0.32728786723800024]\n"
     ]
    },
    {
     "name": "stderr",
     "output_type": "stream",
     "text": [
      "Initial filtering of formulas: 100%|█████████████| 5/5 [00:00<00:00, 250.19it/s]\n",
      "Computing chunks: 100%|███████████████████████| 5/5 [00:00<00:00, 177724.75it/s]\n",
      "Splitting the experimental spectrum into chunks: 27129it [00:00, 2735205.24it/s]\n",
      "Deconvolving chunks: 100%|████████████████████████| 1/1 [00:16<00:00, 16.19s/it]\n"
     ]
    },
    {
     "name": "stdout",
     "output_type": "stream",
     "text": [
      "Estimation for 0.16 and 0.03 done\n",
      "It took: 16.253141164779663 seconds.\n",
      "[0.22773846947000015, 0.15085527514200012, 0.11753960541000008, 0.1770456446430001, 0.32682100533500025]\n"
     ]
    },
    {
     "name": "stderr",
     "output_type": "stream",
     "text": [
      "Initial filtering of formulas: 100%|█████████████| 5/5 [00:00<00:00, 255.03it/s]\n",
      "Computing chunks: 100%|███████████████████████| 5/5 [00:00<00:00, 155344.59it/s]\n",
      "Splitting the experimental spectrum into chunks: 27129it [00:00, 2769894.67it/s]\n",
      "Deconvolving chunks: 100%|████████████████████████| 1/1 [00:20<00:00, 20.97s/it]\n"
     ]
    },
    {
     "name": "stdout",
     "output_type": "stream",
     "text": [
      "Estimation for 0.16 and 0.04 done\n",
      "It took: 21.033991813659668 seconds.\n",
      "[0.22792690637900015, 0.15107391778000012, 0.11773124674100008, 0.17717095468800012, 0.3260969744120002]\n"
     ]
    },
    {
     "name": "stderr",
     "output_type": "stream",
     "text": [
      "Initial filtering of formulas: 100%|█████████████| 5/5 [00:00<00:00, 220.62it/s]\n",
      "Computing chunks: 100%|████████████████████████| 5/5 [00:00<00:00, 68089.35it/s]\n",
      "Splitting the experimental spectrum into chunks: 27129it [00:00, 2555409.48it/s]\n",
      "Deconvolving chunks: 100%|████████████████████████| 1/1 [00:15<00:00, 15.38s/it]\n"
     ]
    },
    {
     "name": "stdout",
     "output_type": "stream",
     "text": [
      "Estimation for 0.16 and 0.05 done\n",
      "It took: 15.461396932601929 seconds.\n",
      "[0.22800614495500013, 0.1511773893160001, 0.11784200944000009, 0.1771073672140001, 0.3258670890750002]\n"
     ]
    },
    {
     "name": "stderr",
     "output_type": "stream",
     "text": [
      "Initial filtering of formulas: 100%|█████████████| 5/5 [00:00<00:00, 264.94it/s]\n",
      "Computing chunks: 100%|███████████████████████| 5/5 [00:00<00:00, 163840.00it/s]\n",
      "Splitting the experimental spectrum into chunks: 27129it [00:00, 2727534.24it/s]\n",
      "Deconvolving chunks: 100%|████████████████████████| 1/1 [00:15<00:00, 15.46s/it]\n"
     ]
    },
    {
     "name": "stdout",
     "output_type": "stream",
     "text": [
      "Estimation for 0.16 and 0.060000000000000005 done\n",
      "It took: 15.526256561279297 seconds.\n",
      "[0.22791342622200014, 0.15134016525300012, 0.11800515032200008, 0.1772390948450001, 0.3255021633580002]\n"
     ]
    },
    {
     "name": "stderr",
     "output_type": "stream",
     "text": [
      "Initial filtering of formulas: 100%|█████████████| 5/5 [00:00<00:00, 245.40it/s]\n",
      "Computing chunks: 100%|███████████████████████| 5/5 [00:00<00:00, 111550.64it/s]\n",
      "Splitting the experimental spectrum into chunks: 27129it [00:00, 2662562.55it/s]\n",
      "Deconvolving chunks: 100%|████████████████████████| 1/1 [00:17<00:00, 17.23s/it]\n"
     ]
    },
    {
     "name": "stdout",
     "output_type": "stream",
     "text": [
      "Estimation for 0.16 and 0.06999999999999999 done\n",
      "It took: 17.30187177658081 seconds.\n",
      "[0.22785881068300015, 0.1515704520090001, 0.11822816222900008, 0.1770364514150001, 0.3253061236630002]\n"
     ]
    },
    {
     "name": "stderr",
     "output_type": "stream",
     "text": [
      "Initial filtering of formulas: 100%|█████████████| 5/5 [00:00<00:00, 262.64it/s]\n",
      "Computing chunks: 100%|███████████████████████| 5/5 [00:00<00:00, 146653.99it/s]\n",
      "Splitting the experimental spectrum into chunks: 27129it [00:00, 2694082.61it/s]\n",
      "Deconvolving chunks: 100%|████████████████████████| 1/1 [00:18<00:00, 18.04s/it]\n"
     ]
    },
    {
     "name": "stdout",
     "output_type": "stream",
     "text": [
      "Estimation for 0.16 and 0.08 done\n",
      "It took: 18.109795808792114 seconds.\n",
      "[0.22780351728000015, 0.15160544045800012, 0.11831141473700009, 0.17701688002900012, 0.32526274749700024]\n"
     ]
    },
    {
     "name": "stderr",
     "output_type": "stream",
     "text": [
      "Initial filtering of formulas: 100%|█████████████| 5/5 [00:00<00:00, 221.84it/s]\n",
      "Computing chunks: 100%|████████████████████████| 5/5 [00:00<00:00, 52038.51it/s]\n",
      "Splitting the experimental spectrum into chunks: 27129it [00:00, 1141537.07it/s]\n",
      "Deconvolving chunks: 100%|████████████████████████| 1/1 [00:15<00:00, 15.60s/it]\n"
     ]
    },
    {
     "name": "stdout",
     "output_type": "stream",
     "text": [
      "Estimation for 0.16 and 0.09 done\n",
      "It took: 15.697246789932251 seconds.\n",
      "[0.22783946788900014, 0.1516823182740001, 0.11841013928600008, 0.17697185787600012, 0.32509621667600025]\n"
     ]
    },
    {
     "name": "stderr",
     "output_type": "stream",
     "text": [
      "Initial filtering of formulas: 100%|█████████████| 5/5 [00:00<00:00, 239.94it/s]\n",
      "Computing chunks: 100%|████████████████████████| 5/5 [00:00<00:00, 86659.17it/s]\n",
      "Splitting the experimental spectrum into chunks: 27129it [00:00, 2180793.71it/s]\n",
      "Deconvolving chunks: 100%|████████████████████████| 1/1 [00:15<00:00, 15.98s/it]\n"
     ]
    },
    {
     "name": "stdout",
     "output_type": "stream",
     "text": [
      "Estimation for 0.16 and 0.09999999999999999 done\n",
      "It took: 16.048372268676758 seconds.\n",
      "[0.22779971472800015, 0.15178166800000012, 0.11852719681500008, 0.17697388810100012, 0.3249175323570002]\n"
     ]
    },
    {
     "name": "stderr",
     "output_type": "stream",
     "text": [
      "Initial filtering of formulas: 100%|█████████████| 5/5 [00:00<00:00, 243.08it/s]\n",
      "Computing chunks: 100%|███████████████████████| 5/5 [00:00<00:00, 185588.67it/s]\n",
      "Splitting the experimental spectrum into chunks: 27129it [00:00, 2540461.56it/s]\n",
      "Deconvolving chunks: 100%|████████████████████████| 1/1 [00:15<00:00, 15.52s/it]\n"
     ]
    },
    {
     "name": "stdout",
     "output_type": "stream",
     "text": [
      "Estimation for 0.16 and 0.11 done\n",
      "It took: 15.584943056106567 seconds.\n",
      "[0.22774682495400014, 0.1518660946840001, 0.11860870270100009, 0.1769868547910001, 0.32479152287000024]\n"
     ]
    },
    {
     "name": "stderr",
     "output_type": "stream",
     "text": [
      "Initial filtering of formulas: 100%|█████████████| 5/5 [00:00<00:00, 256.98it/s]\n",
      "Computing chunks: 100%|███████████████████████| 5/5 [00:00<00:00, 195995.51it/s]\n",
      "Splitting the experimental spectrum into chunks: 27129it [00:00, 2685182.02it/s]\n",
      "Deconvolving chunks: 100%|████████████████████████| 1/1 [00:16<00:00, 16.23s/it]\n"
     ]
    },
    {
     "name": "stdout",
     "output_type": "stream",
     "text": [
      "Estimation for 0.16 and 0.12 done\n",
      "It took: 16.293941974639893 seconds.\n",
      "[0.22778351470900013, 0.1519366452690001, 0.11869303255000008, 0.1769430273430001, 0.3246437801280002]\n"
     ]
    },
    {
     "name": "stderr",
     "output_type": "stream",
     "text": [
      "Initial filtering of formulas: 100%|█████████████| 5/5 [00:00<00:00, 241.30it/s]\n",
      "Computing chunks: 100%|████████████████████████| 5/5 [00:00<00:00, 55043.36it/s]\n",
      "Splitting the experimental spectrum into chunks: 27129it [00:00, 2059982.86it/s]\n",
      "Deconvolving chunks: 100%|████████████████████████| 1/1 [00:16<00:00, 16.58s/it]\n"
     ]
    },
    {
     "name": "stdout",
     "output_type": "stream",
     "text": [
      "Estimation for 0.16 and 0.13 done\n",
      "It took: 16.662795543670654 seconds.\n",
      "[0.22784033540100013, 0.1519960632920001, 0.11879097076500009, 0.1768049714760001, 0.32456765906500024]\n"
     ]
    },
    {
     "name": "stderr",
     "output_type": "stream",
     "text": [
      "Initial filtering of formulas: 100%|█████████████| 5/5 [00:00<00:00, 257.80it/s]\n",
      "Computing chunks: 100%|███████████████████████| 5/5 [00:00<00:00, 151967.54it/s]\n",
      "Splitting the experimental spectrum into chunks: 27129it [00:00, 2706063.72it/s]\n",
      "Deconvolving chunks: 100%|████████████████████████| 1/1 [00:14<00:00, 14.72s/it]\n"
     ]
    },
    {
     "name": "stdout",
     "output_type": "stream",
     "text": [
      "Estimation for 0.16 and 0.14 done\n",
      "It took: 14.784632205963135 seconds.\n",
      "[0.22785092688500014, 0.15205401439700011, 0.11888470730900008, 0.17673466250700012, 0.32447568890200024]\n"
     ]
    },
    {
     "name": "stderr",
     "output_type": "stream",
     "text": [
      "Initial filtering of formulas: 100%|█████████████| 5/5 [00:00<00:00, 263.04it/s]\n",
      "Computing chunks: 100%|███████████████████████| 5/5 [00:00<00:00, 150874.24it/s]\n",
      "Splitting the experimental spectrum into chunks: 27129it [00:00, 2574314.45it/s]\n",
      "Deconvolving chunks: 100%|████████████████████████| 1/1 [00:16<00:00, 16.03s/it]\n"
     ]
    },
    {
     "name": "stdout",
     "output_type": "stream",
     "text": [
      "Estimation for 0.16 and 0.15000000000000002 done\n",
      "It took: 16.09844398498535 seconds.\n",
      "[0.22787256685500015, 0.15210606437800012, 0.11896650278300008, 0.1766644126840001, 0.32439045330100025]\n"
     ]
    },
    {
     "name": "stderr",
     "output_type": "stream",
     "text": [
      "Initial filtering of formulas: 100%|█████████████| 5/5 [00:00<00:00, 106.82it/s]\n",
      "Computing chunks: 100%|████████████████████████| 5/5 [00:00<00:00, 47339.77it/s]\n",
      "Splitting the experimental spectrum into chunks: 27129it [00:00, 1186594.29it/s]\n",
      "Deconvolving chunks: 100%|████████████████████████| 1/1 [00:26<00:00, 26.97s/it]\n"
     ]
    },
    {
     "name": "stdout",
     "output_type": "stream",
     "text": [
      "Estimation for 0.16 and 0.16 done\n",
      "It took: 27.15154504776001 seconds.\n",
      "[0.22788341798300013, 0.1521508221640001, 0.11904964934400009, 0.17656052551400012, 0.3243555849950002]\n"
     ]
    },
    {
     "name": "stderr",
     "output_type": "stream",
     "text": [
      "Initial filtering of formulas: 100%|█████████████| 5/5 [00:00<00:00, 132.73it/s]\n",
      "Computing chunks: 100%|████████████████████████| 5/5 [00:00<00:00, 36282.91it/s]\n",
      "Splitting the experimental spectrum into chunks: 27129it [00:00, 1431160.44it/s]\n",
      "Deconvolving chunks: 100%|████████████████████████| 1/1 [00:21<00:00, 21.47s/it]\n"
     ]
    },
    {
     "name": "stdout",
     "output_type": "stream",
     "text": [
      "Estimation for 0.16 and 0.17 done\n",
      "It took: 21.624879598617554 seconds.\n",
      "[0.22787621375700015, 0.15217248439100012, 0.11912340125600009, 0.17645452118800012, 0.32437337940700023]\n"
     ]
    },
    {
     "name": "stderr",
     "output_type": "stream",
     "text": [
      "Initial filtering of formulas: 100%|█████████████| 5/5 [00:00<00:00, 217.86it/s]\n",
      "Computing chunks: 100%|███████████████████████| 5/5 [00:00<00:00, 151967.54it/s]\n",
      "Splitting the experimental spectrum into chunks: 27129it [00:00, 2208218.15it/s]\n",
      "Deconvolving chunks: 100%|████████████████████████| 1/1 [00:16<00:00, 16.82s/it]\n"
     ]
    },
    {
     "name": "stdout",
     "output_type": "stream",
     "text": [
      "Estimation for 0.16 and 0.18000000000000002 done\n",
      "It took: 16.903733253479004 seconds.\n",
      "[0.22783152227900014, 0.1522134238930001, 0.11917948470300008, 0.1764147218780001, 0.32436084724800024]\n"
     ]
    },
    {
     "name": "stderr",
     "output_type": "stream",
     "text": [
      "Initial filtering of formulas: 100%|█████████████| 5/5 [00:00<00:00, 228.99it/s]\n",
      "Computing chunks: 100%|████████████████████████| 5/5 [00:00<00:00, 94466.31it/s]\n",
      "Splitting the experimental spectrum into chunks: 27129it [00:00, 2150540.97it/s]\n",
      "Deconvolving chunks: 100%|████████████████████████| 1/1 [00:17<00:00, 17.19s/it]\n"
     ]
    },
    {
     "name": "stdout",
     "output_type": "stream",
     "text": [
      "Estimation for 0.16 and 0.19 done\n",
      "It took: 17.280360460281372 seconds.\n",
      "[0.22780306398700015, 0.1522326516930001, 0.11922764354200008, 0.1763266389200001, 0.3244100018570002]\n"
     ]
    },
    {
     "name": "stderr",
     "output_type": "stream",
     "text": [
      "Initial filtering of formulas: 100%|█████████████| 5/5 [00:00<00:00, 175.12it/s]\n",
      "Computing chunks: 100%|████████████████████████| 5/5 [00:00<00:00, 45689.59it/s]\n",
      "Splitting the experimental spectrum into chunks: 27129it [00:00, 1004158.93it/s]\n",
      "Deconvolving chunks: 100%|████████████████████████| 1/1 [00:18<00:00, 18.33s/it]\n"
     ]
    },
    {
     "name": "stdout",
     "output_type": "stream",
     "text": [
      "Estimation for 0.16 and 0.2 done\n",
      "It took: 18.443831205368042 seconds.\n",
      "[0.22776246757900015, 0.1522477878570001, 0.11926837176200009, 0.1762298060690001, 0.32449156673200025]\n"
     ]
    },
    {
     "name": "stderr",
     "output_type": "stream",
     "text": [
      "Initial filtering of formulas: 100%|█████████████| 5/5 [00:00<00:00, 231.19it/s]\n",
      "Computing chunks: 100%|████████████████████████| 5/5 [00:00<00:00, 36921.69it/s]\n",
      "Splitting the experimental spectrum into chunks: 27129it [00:00, 1557918.80it/s]\n",
      "Deconvolving chunks: 100%|████████████████████████| 1/1 [00:21<00:00, 21.85s/it]\n"
     ]
    },
    {
     "name": "stdout",
     "output_type": "stream",
     "text": [
      "Estimation for 0.16 and 0.21000000000000002 done\n",
      "It took: 21.944807767868042 seconds.\n",
      "[0.22773573701700014, 0.15222751912300012, 0.11930434740600009, 0.1761614202980001, 0.32457097615500025]\n"
     ]
    },
    {
     "name": "stderr",
     "output_type": "stream",
     "text": [
      "Initial filtering of formulas: 100%|██████████████| 5/5 [00:00<00:00, 92.05it/s]\n",
      "Computing chunks: 100%|████████████████████████| 5/5 [00:00<00:00, 23484.34it/s]\n",
      "Splitting the experimental spectrum into chunks: 27129it [00:00, 1123392.21it/s]\n",
      "Deconvolving chunks: 100%|████████████████████████| 1/1 [00:22<00:00, 22.41s/it]\n"
     ]
    },
    {
     "name": "stdout",
     "output_type": "stream",
     "text": [
      "Estimation for 0.16 and 0.22 done\n",
      "It took: 22.596805810928345 seconds.\n",
      "[0.22771710009600013, 0.1522124113910001, 0.11933745204700008, 0.17611454357600012, 0.32461849288900024]\n"
     ]
    },
    {
     "name": "stderr",
     "output_type": "stream",
     "text": [
      "Initial filtering of formulas: 100%|█████████████| 5/5 [00:00<00:00, 212.48it/s]\n",
      "Computing chunks: 100%|████████████████████████| 5/5 [00:00<00:00, 32463.65it/s]\n",
      "Splitting the experimental spectrum into chunks: 27129it [00:00, 2072099.52it/s]\n",
      "Deconvolving chunks: 100%|████████████████████████| 1/1 [00:18<00:00, 18.21s/it]\n"
     ]
    },
    {
     "name": "stdout",
     "output_type": "stream",
     "text": [
      "Estimation for 0.16 and 0.23 done\n",
      "It took: 18.299713850021362 seconds.\n",
      "[0.22848062276700015, 0.1527227652620001, 0.11954260053600008, 0.16872694889000012, 0.3257774077840002]\n"
     ]
    },
    {
     "name": "stderr",
     "output_type": "stream",
     "text": [
      "Initial filtering of formulas: 100%|█████████████| 5/5 [00:00<00:00, 207.17it/s]\n",
      "Computing chunks: 100%|███████████████████████| 5/5 [00:00<00:00, 121222.66it/s]\n",
      "Splitting the experimental spectrum into chunks: 27129it [00:00, 1787141.09it/s]\n",
      "Deconvolving chunks: 100%|████████████████████████| 1/1 [00:18<00:00, 18.10s/it]\n"
     ]
    },
    {
     "name": "stdout",
     "output_type": "stream",
     "text": [
      "Estimation for 0.16 and 0.24000000000000002 done\n",
      "It took: 18.20128893852234 seconds.\n",
      "[0.22856446914600015, 0.1527393064150001, 0.11907695716500008, 0.1683666272680001, 0.32596041417900024]\n"
     ]
    },
    {
     "name": "stderr",
     "output_type": "stream",
     "text": [
      "Initial filtering of formulas: 100%|█████████████| 5/5 [00:00<00:00, 213.40it/s]\n",
      "Computing chunks: 100%|███████████████████████| 5/5 [00:00<00:00, 112750.11it/s]\n",
      "Splitting the experimental spectrum into chunks: 27129it [00:00, 1279155.45it/s]\n",
      "Deconvolving chunks: 100%|████████████████████████| 1/1 [00:17<00:00, 17.70s/it]\n"
     ]
    },
    {
     "name": "stdout",
     "output_type": "stream",
     "text": [
      "Estimation for 0.16 and 0.25 done\n",
      "It took: 17.80886483192444 seconds.\n",
      "[0.22865369613600015, 0.1527675118290001, 0.11874348597400008, 0.1680901861470001, 0.3260358804240002]\n"
     ]
    },
    {
     "name": "stderr",
     "output_type": "stream",
     "text": [
      "Initial filtering of formulas: 100%|█████████████| 5/5 [00:00<00:00, 141.13it/s]\n",
      "Computing chunks: 100%|████████████████████████| 5/5 [00:00<00:00, 68534.38it/s]\n",
      "Splitting the experimental spectrum into chunks: 27129it [00:00, 2279986.24it/s]\n",
      "Deconvolving chunks: 100%|████████████████████████| 1/1 [00:23<00:00, 23.97s/it]\n"
     ]
    },
    {
     "name": "stdout",
     "output_type": "stream",
     "text": [
      "Estimation for 0.16 and 0.26 done\n",
      "It took: 24.075972318649292 seconds.\n",
      "[0.22871151293500014, 0.1527473497220001, 0.11867334706800009, 0.1679779945510001, 0.3260421908040002]\n"
     ]
    },
    {
     "name": "stderr",
     "output_type": "stream",
     "text": [
      "Initial filtering of formulas: 100%|█████████████| 5/5 [00:00<00:00, 123.02it/s]\n",
      "Computing chunks: 100%|████████████████████████| 5/5 [00:00<00:00, 26149.03it/s]\n",
      "Splitting the experimental spectrum into chunks: 27129it [00:00, 1208061.08it/s]\n",
      "Deconvolving chunks: 100%|████████████████████████| 1/1 [00:24<00:00, 24.74s/it]\n"
     ]
    },
    {
     "name": "stdout",
     "output_type": "stream",
     "text": [
      "Estimation for 0.16 and 0.27 done\n",
      "It took: 24.883015155792236 seconds.\n",
      "[0.22881809347900015, 0.1527532400160001, 0.11851510526500009, 0.16779307855100012, 0.3260474376230002]\n"
     ]
    },
    {
     "name": "stderr",
     "output_type": "stream",
     "text": [
      "Initial filtering of formulas: 100%|█████████████| 5/5 [00:00<00:00, 176.47it/s]\n",
      "Computing chunks: 100%|███████████████████████| 5/5 [00:00<00:00, 100342.20it/s]\n",
      "Splitting the experimental spectrum into chunks: 27129it [00:00, 2381832.27it/s]\n",
      "Deconvolving chunks: 100%|████████████████████████| 1/1 [00:18<00:00, 18.77s/it]\n"
     ]
    },
    {
     "name": "stdout",
     "output_type": "stream",
     "text": [
      "Estimation for 0.16 and 0.28 done\n",
      "It took: 18.86447501182556 seconds.\n",
      "[0.22893691886800013, 0.1527477269140001, 0.11844095359800008, 0.1675229231590001, 0.3260614056160002]\n"
     ]
    },
    {
     "name": "stderr",
     "output_type": "stream",
     "text": [
      "Initial filtering of formulas: 100%|█████████████| 5/5 [00:00<00:00, 216.09it/s]\n",
      "Computing chunks: 100%|████████████████████████| 5/5 [00:00<00:00, 41282.52it/s]\n",
      "Splitting the experimental spectrum into chunks: 27129it [00:00, 1369907.70it/s]\n",
      "Deconvolving chunks: 100%|████████████████████████| 1/1 [00:14<00:00, 14.84s/it]\n"
     ]
    },
    {
     "name": "stdout",
     "output_type": "stream",
     "text": [
      "Estimation for 0.16 and 0.29000000000000004 done\n",
      "It took: 14.932629108428955 seconds.\n",
      "[0.22903764616200015, 0.1527170546710001, 0.11838964898100009, 0.1673513489230001, 0.3260510738920002]\n"
     ]
    },
    {
     "name": "stderr",
     "output_type": "stream",
     "text": [
      "Initial filtering of formulas: 100%|█████████████| 5/5 [00:00<00:00, 248.97it/s]\n",
      "Computing chunks: 100%|███████████████████████| 5/5 [00:00<00:00, 176231.26it/s]\n",
      "Splitting the experimental spectrum into chunks: 27129it [00:00, 2624063.68it/s]\n",
      "Deconvolving chunks: 100%|████████████████████████| 1/1 [00:14<00:00, 14.71s/it]\n"
     ]
    },
    {
     "name": "stdout",
     "output_type": "stream",
     "text": [
      "Estimation for 0.16 and 0.3 done\n",
      "It took: 14.780181169509888 seconds.\n",
      "[0.22912295735400015, 0.15272493818700011, 0.11839362149600008, 0.16725168415200012, 0.32600957254000024]\n"
     ]
    },
    {
     "name": "stderr",
     "output_type": "stream",
     "text": [
      "Initial filtering of formulas: 100%|█████████████| 5/5 [00:00<00:00, 248.66it/s]\n",
      "Computing chunks: 100%|███████████████████████| 5/5 [00:00<00:00, 188932.61it/s]\n",
      "Splitting the experimental spectrum into chunks: 27129it [00:00, 2583960.24it/s]\n",
      "Deconvolving chunks: 100%|████████████████████████| 1/1 [00:22<00:00, 22.97s/it]\n"
     ]
    },
    {
     "name": "stdout",
     "output_type": "stream",
     "text": [
      "Estimation for 0.17 and 0.01 done\n",
      "It took: 23.03609538078308 seconds.\n",
      "[0.21755084554200013, 0.1842519119180001, 0.11203796674500006, 0.1721534951830001, 0.31400578061200024]\n"
     ]
    },
    {
     "name": "stderr",
     "output_type": "stream",
     "text": [
      "Initial filtering of formulas: 100%|█████████████| 5/5 [00:00<00:00, 211.83it/s]\n",
      "Computing chunks: 100%|███████████████████████| 5/5 [00:00<00:00, 105384.52it/s]\n",
      "Splitting the experimental spectrum into chunks: 27129it [00:00, 1926279.79it/s]\n",
      "Deconvolving chunks: 100%|████████████████████████| 1/1 [00:15<00:00, 16.00s/it]\n"
     ]
    },
    {
     "name": "stdout",
     "output_type": "stream",
     "text": [
      "Estimation for 0.17 and 0.02 done\n",
      "It took: 16.07959008216858 seconds.\n",
      "[0.22749747499800013, 0.15057183637400012, 0.11728689957200009, 0.1773559218180001, 0.32728786723800024]\n"
     ]
    },
    {
     "name": "stderr",
     "output_type": "stream",
     "text": [
      "Initial filtering of formulas: 100%|█████████████| 5/5 [00:00<00:00, 246.87it/s]\n",
      "Computing chunks: 100%|███████████████████████| 5/5 [00:00<00:00, 101311.69it/s]\n",
      "Splitting the experimental spectrum into chunks: 27129it [00:00, 2656098.81it/s]\n",
      "Deconvolving chunks: 100%|████████████████████████| 1/1 [00:15<00:00, 15.83s/it]\n"
     ]
    },
    {
     "name": "stdout",
     "output_type": "stream",
     "text": [
      "Estimation for 0.17 and 0.03 done\n",
      "It took: 15.896944284439087 seconds.\n",
      "[0.22773846947000015, 0.15085527514200012, 0.11753960541000008, 0.1770456446430001, 0.32682100533500025]\n"
     ]
    },
    {
     "name": "stderr",
     "output_type": "stream",
     "text": [
      "Initial filtering of formulas: 100%|█████████████| 5/5 [00:00<00:00, 242.78it/s]\n",
      "Computing chunks: 100%|███████████████████████| 5/5 [00:00<00:00, 166440.63it/s]\n",
      "Splitting the experimental spectrum into chunks: 27129it [00:00, 2614477.12it/s]\n",
      "Deconvolving chunks: 100%|████████████████████████| 1/1 [00:16<00:00, 16.31s/it]\n"
     ]
    },
    {
     "name": "stdout",
     "output_type": "stream",
     "text": [
      "Estimation for 0.17 and 0.04 done\n",
      "It took: 16.380414962768555 seconds.\n",
      "[0.22792690637900015, 0.15107391778000012, 0.11773124674100008, 0.17717095468800012, 0.3260969744120002]\n"
     ]
    },
    {
     "name": "stderr",
     "output_type": "stream",
     "text": [
      "Initial filtering of formulas: 100%|█████████████| 5/5 [00:00<00:00, 258.24it/s]\n",
      "Computing chunks: 100%|███████████████████████| 5/5 [00:00<00:00, 114598.47it/s]\n",
      "Splitting the experimental spectrum into chunks: 27129it [00:00, 2645354.38it/s]\n",
      "Deconvolving chunks: 100%|████████████████████████| 1/1 [00:22<00:00, 22.09s/it]\n"
     ]
    },
    {
     "name": "stdout",
     "output_type": "stream",
     "text": [
      "Estimation for 0.17 and 0.05 done\n",
      "It took: 22.154565572738647 seconds.\n",
      "[0.22800614495500013, 0.1511773893160001, 0.11784200944000009, 0.1771073672140001, 0.3258670890750002]\n"
     ]
    },
    {
     "name": "stderr",
     "output_type": "stream",
     "text": [
      "Initial filtering of formulas: 100%|█████████████| 5/5 [00:00<00:00, 221.74it/s]\n",
      "Computing chunks: 100%|████████████████████████| 5/5 [00:00<00:00, 90394.48it/s]\n",
      "Splitting the experimental spectrum into chunks: 27129it [00:00, 1042466.22it/s]\n",
      "Deconvolving chunks: 100%|████████████████████████| 1/1 [00:18<00:00, 18.02s/it]\n"
     ]
    },
    {
     "name": "stdout",
     "output_type": "stream",
     "text": [
      "Estimation for 0.17 and 0.060000000000000005 done\n",
      "It took: 18.124279499053955 seconds.\n",
      "[0.22791342622200014, 0.15134016525300012, 0.11800515032200008, 0.1772390948450001, 0.3255021633580002]\n"
     ]
    },
    {
     "name": "stderr",
     "output_type": "stream",
     "text": [
      "Initial filtering of formulas: 100%|█████████████| 5/5 [00:00<00:00, 244.30it/s]\n",
      "Computing chunks: 100%|███████████████████████| 5/5 [00:00<00:00, 167772.16it/s]\n",
      "Splitting the experimental spectrum into chunks: 27129it [00:00, 2577696.88it/s]\n",
      "Deconvolving chunks: 100%|████████████████████████| 1/1 [00:15<00:00, 15.01s/it]\n"
     ]
    },
    {
     "name": "stdout",
     "output_type": "stream",
     "text": [
      "Estimation for 0.17 and 0.06999999999999999 done\n",
      "It took: 15.076199054718018 seconds.\n",
      "[0.22785881068300015, 0.1515704520090001, 0.11822816222900008, 0.1770364514150001, 0.3253061236630002]\n"
     ]
    },
    {
     "name": "stderr",
     "output_type": "stream",
     "text": [
      "Initial filtering of formulas: 100%|█████████████| 5/5 [00:00<00:00, 250.49it/s]\n",
      "Computing chunks: 100%|███████████████████████| 5/5 [00:00<00:00, 192399.27it/s]\n",
      "Splitting the experimental spectrum into chunks: 27129it [00:00, 2667618.64it/s]\n",
      "Deconvolving chunks: 100%|████████████████████████| 1/1 [00:15<00:00, 15.07s/it]\n"
     ]
    },
    {
     "name": "stdout",
     "output_type": "stream",
     "text": [
      "Estimation for 0.17 and 0.08 done\n",
      "It took: 15.141227722167969 seconds.\n",
      "[0.22780351728000015, 0.15160544045800012, 0.11831141473700009, 0.17701688002900012, 0.32526274749700024]\n"
     ]
    },
    {
     "name": "stderr",
     "output_type": "stream",
     "text": [
      "Initial filtering of formulas: 100%|█████████████| 5/5 [00:00<00:00, 185.85it/s]\n",
      "Computing chunks: 100%|████████████████████████| 5/5 [00:00<00:00, 44715.39it/s]\n",
      "Splitting the experimental spectrum into chunks: 27129it [00:00, 2257280.91it/s]\n",
      "Deconvolving chunks: 100%|████████████████████████| 1/1 [00:20<00:00, 20.06s/it]\n"
     ]
    },
    {
     "name": "stdout",
     "output_type": "stream",
     "text": [
      "Estimation for 0.17 and 0.09 done\n",
      "It took: 20.153988361358643 seconds.\n",
      "[0.22783946788900014, 0.1516823182740001, 0.11841013928600008, 0.17697185787600012, 0.32509621667600025]\n"
     ]
    },
    {
     "name": "stderr",
     "output_type": "stream",
     "text": [
      "Initial filtering of formulas: 100%|█████████████| 5/5 [00:00<00:00, 214.88it/s]\n",
      "Computing chunks: 100%|████████████████████████| 5/5 [00:00<00:00, 29831.47it/s]\n",
      "Splitting the experimental spectrum into chunks: 27129it [00:00, 1778732.13it/s]\n",
      "Deconvolving chunks: 100%|████████████████████████| 1/1 [00:17<00:00, 17.56s/it]\n"
     ]
    },
    {
     "name": "stdout",
     "output_type": "stream",
     "text": [
      "Estimation for 0.17 and 0.09999999999999999 done\n",
      "It took: 17.64343237876892 seconds.\n",
      "[0.22779881892800014, 0.15178184622400012, 0.11852733117800009, 0.17697409719400012, 0.3249179064770002]\n"
     ]
    },
    {
     "name": "stderr",
     "output_type": "stream",
     "text": [
      "Initial filtering of formulas: 100%|█████████████| 5/5 [00:00<00:00, 226.33it/s]\n",
      "Computing chunks: 100%|████████████████████████| 5/5 [00:00<00:00, 72565.81it/s]\n",
      "Splitting the experimental spectrum into chunks: 27129it [00:00, 2235155.05it/s]\n",
      "Deconvolving chunks: 100%|████████████████████████| 1/1 [00:14<00:00, 14.62s/it]\n"
     ]
    },
    {
     "name": "stdout",
     "output_type": "stream",
     "text": [
      "Estimation for 0.17 and 0.11 done\n",
      "It took: 14.690706968307495 seconds.\n",
      "[0.22774682495400014, 0.1518660946840001, 0.11860870270100009, 0.1769868547910001, 0.32479152287000024]\n"
     ]
    },
    {
     "name": "stderr",
     "output_type": "stream",
     "text": [
      "Initial filtering of formulas: 100%|█████████████| 5/5 [00:00<00:00, 253.75it/s]\n",
      "Computing chunks: 100%|███████████████████████| 5/5 [00:00<00:00, 194180.74it/s]\n",
      "Splitting the experimental spectrum into chunks: 27129it [00:00, 2192855.53it/s]\n",
      "Deconvolving chunks: 100%|████████████████████████| 1/1 [00:14<00:00, 14.03s/it]\n"
     ]
    },
    {
     "name": "stdout",
     "output_type": "stream",
     "text": [
      "Estimation for 0.17 and 0.12 done\n",
      "It took: 14.096789360046387 seconds.\n",
      "[0.22778351470900013, 0.1519366452690001, 0.11869303255000008, 0.1769430273430001, 0.3246437801280002]\n"
     ]
    },
    {
     "name": "stderr",
     "output_type": "stream",
     "text": [
      "Initial filtering of formulas: 100%|█████████████| 5/5 [00:00<00:00, 245.27it/s]\n",
      "Computing chunks: 100%|███████████████████████| 5/5 [00:00<00:00, 195995.51it/s]\n",
      "Splitting the experimental spectrum into chunks: 27129it [00:00, 2440791.81it/s]\n",
      "Deconvolving chunks: 100%|████████████████████████| 1/1 [00:25<00:00, 25.84s/it]\n"
     ]
    },
    {
     "name": "stdout",
     "output_type": "stream",
     "text": [
      "Estimation for 0.17 and 0.13 done\n",
      "It took: 25.91759943962097 seconds.\n",
      "[0.22784033540100013, 0.1519960632920001, 0.11879097076500009, 0.1768049714760001, 0.32456765906500024]\n"
     ]
    },
    {
     "name": "stderr",
     "output_type": "stream",
     "text": [
      "Initial filtering of formulas: 100%|█████████████| 5/5 [00:00<00:00, 135.41it/s]\n",
      "Computing chunks: 100%|████████████████████████| 5/5 [00:00<00:00, 28767.52it/s]\n",
      "Splitting the experimental spectrum into chunks: 27129it [00:00, 1495430.06it/s]\n",
      "Deconvolving chunks: 100%|████████████████████████| 1/1 [00:24<00:00, 24.96s/it]\n"
     ]
    },
    {
     "name": "stdout",
     "output_type": "stream",
     "text": [
      "Estimation for 0.17 and 0.14 done\n",
      "It took: 25.08702826499939 seconds.\n",
      "[0.22785092688500014, 0.15205401439700011, 0.11888470730900008, 0.17673466250700012, 0.32447568890200024]\n"
     ]
    },
    {
     "name": "stderr",
     "output_type": "stream",
     "text": [
      "Initial filtering of formulas: 100%|█████████████| 5/5 [00:00<00:00, 175.45it/s]\n",
      "Computing chunks: 100%|████████████████████████| 5/5 [00:00<00:00, 74898.29it/s]\n",
      "Splitting the experimental spectrum into chunks: 27129it [00:00, 2004779.47it/s]\n",
      "Deconvolving chunks: 100%|████████████████████████| 1/1 [00:18<00:00, 18.79s/it]\n"
     ]
    },
    {
     "name": "stdout",
     "output_type": "stream",
     "text": [
      "Estimation for 0.17 and 0.15000000000000002 done\n",
      "It took: 18.9044451713562 seconds.\n",
      "[0.22787256685500015, 0.15210606437800012, 0.11896650278300008, 0.1766644126840001, 0.32439045330100025]\n"
     ]
    },
    {
     "name": "stderr",
     "output_type": "stream",
     "text": [
      "Initial filtering of formulas: 100%|█████████████| 5/5 [00:00<00:00, 208.00it/s]\n",
      "Computing chunks: 100%|████████████████████████| 5/5 [00:00<00:00, 49461.13it/s]\n",
      "Splitting the experimental spectrum into chunks: 27129it [00:00, 2025874.15it/s]\n",
      "Deconvolving chunks: 100%|████████████████████████| 1/1 [00:17<00:00, 17.56s/it]\n"
     ]
    },
    {
     "name": "stdout",
     "output_type": "stream",
     "text": [
      "Estimation for 0.17 and 0.16 done\n",
      "It took: 17.654002904891968 seconds.\n",
      "[0.22788341798300013, 0.1521508221640001, 0.11904964934400009, 0.17656052551400012, 0.3243555849950002]\n"
     ]
    },
    {
     "name": "stderr",
     "output_type": "stream",
     "text": [
      "Initial filtering of formulas: 100%|█████████████| 5/5 [00:00<00:00, 179.39it/s]\n",
      "Computing chunks: 100%|████████████████████████| 5/5 [00:00<00:00, 72817.78it/s]\n",
      "Splitting the experimental spectrum into chunks: 27129it [00:00, 2042052.93it/s]\n",
      "Deconvolving chunks: 100%|████████████████████████| 1/1 [00:17<00:00, 17.92s/it]\n"
     ]
    },
    {
     "name": "stdout",
     "output_type": "stream",
     "text": [
      "Estimation for 0.17 and 0.17 done\n",
      "It took: 18.024958848953247 seconds.\n",
      "[0.22787621375700015, 0.15217248439100012, 0.11912340125600009, 0.17645452118800012, 0.32437337940700023]\n"
     ]
    },
    {
     "name": "stderr",
     "output_type": "stream",
     "text": [
      "Initial filtering of formulas: 100%|█████████████| 5/5 [00:00<00:00, 132.83it/s]\n",
      "Computing chunks: 100%|████████████████████████| 5/5 [00:00<00:00, 47989.75it/s]\n",
      "Splitting the experimental spectrum into chunks: 27129it [00:00, 1399838.51it/s]\n",
      "Deconvolving chunks: 100%|████████████████████████| 1/1 [00:16<00:00, 16.95s/it]\n"
     ]
    },
    {
     "name": "stdout",
     "output_type": "stream",
     "text": [
      "Estimation for 0.17 and 0.18000000000000002 done\n",
      "It took: 17.074224710464478 seconds.\n",
      "[0.22783150985400014, 0.1522134155370001, 0.11917947778200008, 0.17641476749000012, 0.32436082933600024]\n"
     ]
    },
    {
     "name": "stderr",
     "output_type": "stream",
     "text": [
      "Initial filtering of formulas: 100%|█████████████| 5/5 [00:00<00:00, 238.84it/s]\n",
      "Computing chunks: 100%|████████████████████████| 5/5 [00:00<00:00, 91578.69it/s]\n",
      "Splitting the experimental spectrum into chunks: 27129it [00:00, 2474389.45it/s]\n",
      "Deconvolving chunks: 100%|████████████████████████| 1/1 [00:24<00:00, 24.69s/it]\n"
     ]
    },
    {
     "name": "stdout",
     "output_type": "stream",
     "text": [
      "Estimation for 0.17 and 0.19 done\n",
      "It took: 24.757853746414185 seconds.\n",
      "[0.22780306398700015, 0.1522326516930001, 0.11922764354200008, 0.1763266389200001, 0.3244100018570002]\n"
     ]
    },
    {
     "name": "stderr",
     "output_type": "stream",
     "text": [
      "Initial filtering of formulas: 100%|█████████████| 5/5 [00:00<00:00, 208.88it/s]\n",
      "Computing chunks: 100%|████████████████████████| 5/5 [00:00<00:00, 32922.32it/s]\n",
      "Splitting the experimental spectrum into chunks: 27129it [00:00, 1555044.53it/s]\n",
      "Deconvolving chunks: 100%|████████████████████████| 1/1 [00:15<00:00, 15.56s/it]\n"
     ]
    },
    {
     "name": "stdout",
     "output_type": "stream",
     "text": [
      "Estimation for 0.17 and 0.2 done\n",
      "It took: 15.659472942352295 seconds.\n",
      "[0.22776246757900015, 0.1522477878570001, 0.11926837176200009, 0.1762298060690001, 0.32449156673200025]\n"
     ]
    },
    {
     "name": "stderr",
     "output_type": "stream",
     "text": [
      "Initial filtering of formulas: 100%|█████████████| 5/5 [00:00<00:00, 272.47it/s]\n",
      "Computing chunks: 100%|████████████████████████| 5/5 [00:00<00:00, 77961.04it/s]\n",
      "Splitting the experimental spectrum into chunks: 27129it [00:00, 2773337.72it/s]\n",
      "Deconvolving chunks: 100%|████████████████████████| 1/1 [00:13<00:00, 13.75s/it]\n"
     ]
    },
    {
     "name": "stdout",
     "output_type": "stream",
     "text": [
      "Estimation for 0.17 and 0.21000000000000002 done\n",
      "It took: 13.817156553268433 seconds.\n",
      "[0.22773573701700014, 0.15222751912300012, 0.11930434740600009, 0.1761614202980001, 0.32457097615500025]\n"
     ]
    },
    {
     "name": "stderr",
     "output_type": "stream",
     "text": [
      "Initial filtering of formulas: 100%|█████████████| 5/5 [00:00<00:00, 245.78it/s]\n",
      "Computing chunks: 100%|████████████████████████| 5/5 [00:00<00:00, 79137.81it/s]\n",
      "Splitting the experimental spectrum into chunks: 27129it [00:00, 2694146.40it/s]\n",
      "Deconvolving chunks: 100%|████████████████████████| 1/1 [00:14<00:00, 14.34s/it]\n"
     ]
    },
    {
     "name": "stdout",
     "output_type": "stream",
     "text": [
      "Estimation for 0.17 and 0.22 done\n",
      "It took: 14.407660007476807 seconds.\n",
      "[0.22771710009600013, 0.1522124113910001, 0.11933745204700008, 0.17611454357600012, 0.32461849288900024]\n"
     ]
    },
    {
     "name": "stderr",
     "output_type": "stream",
     "text": [
      "Initial filtering of formulas: 100%|█████████████| 5/5 [00:00<00:00, 259.13it/s]\n",
      "Computing chunks: 100%|███████████████████████| 5/5 [00:00<00:00, 101311.69it/s]\n",
      "Splitting the experimental spectrum into chunks: 27129it [00:00, 2704327.25it/s]\n",
      "Deconvolving chunks: 100%|████████████████████████| 1/1 [00:18<00:00, 18.52s/it]\n"
     ]
    },
    {
     "name": "stdout",
     "output_type": "stream",
     "text": [
      "Estimation for 0.17 and 0.23 done\n",
      "It took: 18.590091943740845 seconds.\n",
      "[0.22770747215200013, 0.15220767635400012, 0.11937316464300009, 0.1760150500970001, 0.32469663675400023]\n"
     ]
    },
    {
     "name": "stderr",
     "output_type": "stream",
     "text": [
      "Initial filtering of formulas: 100%|█████████████| 5/5 [00:00<00:00, 163.77it/s]\n",
      "Computing chunks: 100%|████████████████████████| 5/5 [00:00<00:00, 38621.58it/s]\n",
      "Splitting the experimental spectrum into chunks: 27129it [00:00, 1707799.62it/s]\n",
      "Deconvolving chunks: 100%|████████████████████████| 1/1 [00:18<00:00, 18.33s/it]\n"
     ]
    },
    {
     "name": "stdout",
     "output_type": "stream",
     "text": [
      "Estimation for 0.17 and 0.24000000000000002 done\n",
      "It took: 18.432751417160034 seconds.\n",
      "[0.22807861710600014, 0.15242814727000012, 0.11962421374500008, 0.17229240707300011, 0.32530428714100024]\n"
     ]
    },
    {
     "name": "stderr",
     "output_type": "stream",
     "text": [
      "Initial filtering of formulas: 100%|█████████████| 5/5 [00:00<00:00, 253.42it/s]\n",
      "Computing chunks: 100%|███████████████████████| 5/5 [00:00<00:00, 199728.76it/s]\n",
      "Splitting the experimental spectrum into chunks: 27129it [00:00, 2549169.37it/s]\n",
      "Deconvolving chunks: 100%|████████████████████████| 1/1 [00:14<00:00, 14.13s/it]\n"
     ]
    },
    {
     "name": "stdout",
     "output_type": "stream",
     "text": [
      "Estimation for 0.17 and 0.25 done\n",
      "It took: 14.19398808479309 seconds.\n",
      "[0.22850819951500015, 0.15270468917800012, 0.11929214041100009, 0.1687514674980001, 0.3258708840270002]\n"
     ]
    },
    {
     "name": "stderr",
     "output_type": "stream",
     "text": [
      "Initial filtering of formulas: 100%|█████████████| 5/5 [00:00<00:00, 242.68it/s]\n",
      "Computing chunks: 100%|███████████████████████| 5/5 [00:00<00:00, 169125.16it/s]\n",
      "Splitting the experimental spectrum into chunks: 27129it [00:00, 2260689.27it/s]\n",
      "Deconvolving chunks: 100%|████████████████████████| 1/1 [00:14<00:00, 14.58s/it]\n"
     ]
    },
    {
     "name": "stdout",
     "output_type": "stream",
     "text": [
      "Estimation for 0.17 and 0.26 done\n",
      "It took: 14.653529405593872 seconds.\n",
      "[0.22865380926100015, 0.1527181980470001, 0.11893712602600008, 0.16839725863300012, 0.32594876560000025]\n"
     ]
    },
    {
     "name": "stderr",
     "output_type": "stream",
     "text": [
      "Initial filtering of formulas: 100%|█████████████| 5/5 [00:00<00:00, 252.02it/s]\n",
      "Computing chunks: 100%|████████████████████████| 5/5 [00:00<00:00, 56375.05it/s]\n",
      "Splitting the experimental spectrum into chunks: 27129it [00:00, 2182341.26it/s]\n",
      "Deconvolving chunks: 100%|████████████████████████| 1/1 [00:17<00:00, 17.05s/it]\n"
     ]
    },
    {
     "name": "stdout",
     "output_type": "stream",
     "text": [
      "Estimation for 0.17 and 0.27 done\n",
      "It took: 17.11598300933838 seconds.\n",
      "[0.22877364766100014, 0.15273683274300012, 0.11873225509400008, 0.1681705221590001, 0.3259736161770002]\n"
     ]
    },
    {
     "name": "stderr",
     "output_type": "stream",
     "text": [
      "Initial filtering of formulas: 100%|█████████████| 5/5 [00:00<00:00, 224.16it/s]\n",
      "Computing chunks: 100%|███████████████████████| 5/5 [00:00<00:00, 139810.13it/s]\n",
      "Splitting the experimental spectrum into chunks: 27129it [00:00, 2430988.38it/s]\n",
      "Deconvolving chunks: 100%|████████████████████████| 1/1 [00:17<00:00, 17.64s/it]\n"
     ]
    },
    {
     "name": "stdout",
     "output_type": "stream",
     "text": [
      "Estimation for 0.17 and 0.28 done\n",
      "It took: 17.71847891807556 seconds.\n",
      "[0.22887244214300015, 0.1527152374760001, 0.11861410139400008, 0.1680852378920001, 0.32594883655200024]\n"
     ]
    },
    {
     "name": "stderr",
     "output_type": "stream",
     "text": [
      "Initial filtering of formulas: 100%|█████████████| 5/5 [00:00<00:00, 215.99it/s]\n",
      "Computing chunks: 100%|███████████████████████| 5/5 [00:00<00:00, 113359.57it/s]\n",
      "Splitting the experimental spectrum into chunks: 27129it [00:00, 2207575.53it/s]\n",
      "Deconvolving chunks: 100%|████████████████████████| 1/1 [00:14<00:00, 14.49s/it]\n"
     ]
    },
    {
     "name": "stdout",
     "output_type": "stream",
     "text": [
      "Estimation for 0.17 and 0.29000000000000004 done\n",
      "It took: 14.567639589309692 seconds.\n",
      "[0.22899307713200015, 0.15269729414300012, 0.11854101624400008, 0.1678261500090001, 0.3259705519240002]\n"
     ]
    },
    {
     "name": "stderr",
     "output_type": "stream",
     "text": [
      "Initial filtering of formulas: 100%|█████████████| 5/5 [00:00<00:00, 250.13it/s]\n",
      "Computing chunks: 100%|████████████████████████| 5/5 [00:00<00:00, 95325.09it/s]\n",
      "Splitting the experimental spectrum into chunks: 27129it [00:00, 2627032.21it/s]\n",
      "Deconvolving chunks: 100%|████████████████████████| 1/1 [00:14<00:00, 14.20s/it]\n"
     ]
    },
    {
     "name": "stdout",
     "output_type": "stream",
     "text": [
      "Estimation for 0.17 and 0.3 done\n",
      "It took: 14.266688108444214 seconds.\n",
      "[0.22909235980300013, 0.15271373659000012, 0.11845922759400009, 0.16757269096700012, 0.3259685505340002]\n"
     ]
    },
    {
     "name": "stderr",
     "output_type": "stream",
     "text": [
      "Initial filtering of formulas: 100%|█████████████| 5/5 [00:00<00:00, 269.57it/s]\n",
      "Computing chunks: 100%|███████████████████████| 5/5 [00:00<00:00, 218453.33it/s]\n",
      "Splitting the experimental spectrum into chunks: 27129it [00:00, 2817911.67it/s]\n",
      "Deconvolving chunks: 100%|████████████████████████| 1/1 [00:22<00:00, 22.64s/it]\n"
     ]
    },
    {
     "name": "stdout",
     "output_type": "stream",
     "text": [
      "Estimation for 0.18000000000000002 and 0.01 done\n",
      "It took: 22.707942247390747 seconds.\n",
      "[0.21755084554200013, 0.1842519119180001, 0.11203796674500006, 0.1721534951830001, 0.31400578061200024]\n"
     ]
    },
    {
     "name": "stderr",
     "output_type": "stream",
     "text": [
      "Initial filtering of formulas: 100%|█████████████| 5/5 [00:00<00:00, 154.38it/s]\n",
      "Computing chunks: 100%|████████████████████████| 5/5 [00:00<00:00, 16513.01it/s]\n",
      "Splitting the experimental spectrum into chunks: 27129it [00:00, 1307403.78it/s]\n",
      "Deconvolving chunks: 100%|████████████████████████| 1/1 [00:29<00:00, 29.28s/it]\n"
     ]
    },
    {
     "name": "stdout",
     "output_type": "stream",
     "text": [
      "Estimation for 0.18000000000000002 and 0.02 done\n",
      "It took: 29.40180802345276 seconds.\n",
      "[0.22749747499800013, 0.15057183637400012, 0.11728689957200009, 0.1773559218180001, 0.32728786723800024]\n"
     ]
    },
    {
     "name": "stderr",
     "output_type": "stream",
     "text": [
      "Initial filtering of formulas: 100%|█████████████| 5/5 [00:00<00:00, 199.92it/s]\n",
      "Computing chunks: 100%|████████████████████████| 5/5 [00:00<00:00, 61320.23it/s]\n",
      "Splitting the experimental spectrum into chunks: 27129it [00:00, 1716895.86it/s]\n",
      "Deconvolving chunks: 100%|████████████████████████| 1/1 [00:21<00:00, 21.96s/it]\n"
     ]
    },
    {
     "name": "stdout",
     "output_type": "stream",
     "text": [
      "Estimation for 0.18000000000000002 and 0.03 done\n",
      "It took: 22.07151770591736 seconds.\n",
      "[0.22773846947000015, 0.15085527514200012, 0.11753960541000008, 0.1770456446430001, 0.32682100533500025]\n"
     ]
    },
    {
     "name": "stderr",
     "output_type": "stream",
     "text": [
      "Initial filtering of formulas: 100%|█████████████| 5/5 [00:00<00:00, 165.37it/s]\n",
      "Computing chunks: 100%|████████████████████████| 5/5 [00:00<00:00, 37249.59it/s]\n",
      "Splitting the experimental spectrum into chunks: 27129it [00:00, 1232264.17it/s]\n",
      "Deconvolving chunks: 100%|████████████████████████| 1/1 [00:19<00:00, 19.82s/it]\n"
     ]
    },
    {
     "name": "stdout",
     "output_type": "stream",
     "text": [
      "Estimation for 0.18000000000000002 and 0.04 done\n",
      "It took: 19.925182819366455 seconds.\n",
      "[0.22792690637900015, 0.15107391778000012, 0.11773124674100008, 0.17717095468800012, 0.3260969744120002]\n"
     ]
    },
    {
     "name": "stderr",
     "output_type": "stream",
     "text": [
      "Initial filtering of formulas: 100%|█████████████| 5/5 [00:00<00:00, 126.78it/s]\n",
      "Computing chunks: 100%|████████████████████████| 5/5 [00:00<00:00, 45392.90it/s]\n",
      "Splitting the experimental spectrum into chunks: 27129it [00:00, 1885893.55it/s]\n",
      "Deconvolving chunks: 100%|████████████████████████| 1/1 [00:17<00:00, 17.75s/it]\n"
     ]
    },
    {
     "name": "stdout",
     "output_type": "stream",
     "text": [
      "Estimation for 0.18000000000000002 and 0.05 done\n",
      "It took: 17.87850856781006 seconds.\n",
      "[0.22800614495500013, 0.1511773893160001, 0.11784200944000009, 0.1771073672140001, 0.3258670890750002]\n"
     ]
    },
    {
     "name": "stderr",
     "output_type": "stream",
     "text": [
      "Initial filtering of formulas: 100%|█████████████| 5/5 [00:00<00:00, 234.27it/s]\n",
      "Computing chunks: 100%|███████████████████████| 5/5 [00:00<00:00, 123361.88it/s]\n",
      "Splitting the experimental spectrum into chunks: 27129it [00:00, 1934861.56it/s]\n",
      "Deconvolving chunks: 100%|████████████████████████| 1/1 [00:21<00:00, 21.41s/it]\n"
     ]
    },
    {
     "name": "stdout",
     "output_type": "stream",
     "text": [
      "Estimation for 0.18000000000000002 and 0.060000000000000005 done\n",
      "It took: 21.507015705108643 seconds.\n",
      "[0.22791342622200014, 0.15134016525300012, 0.11800515032200008, 0.1772390948450001, 0.3255021633580002]\n"
     ]
    },
    {
     "name": "stderr",
     "output_type": "stream",
     "text": [
      "Initial filtering of formulas: 100%|█████████████| 5/5 [00:00<00:00, 103.21it/s]\n",
      "Computing chunks: 100%|████████████████████████| 5/5 [00:00<00:00, 37249.59it/s]\n",
      "Splitting the experimental spectrum into chunks: 27129it [00:00, 1222703.93it/s]\n",
      "Deconvolving chunks: 100%|████████████████████████| 1/1 [00:34<00:00, 34.02s/it]\n"
     ]
    },
    {
     "name": "stdout",
     "output_type": "stream",
     "text": [
      "Estimation for 0.18000000000000002 and 0.06999999999999999 done\n",
      "It took: 34.198437452316284 seconds.\n",
      "[0.22785881068300015, 0.1515704520090001, 0.11822816222900008, 0.1770364514150001, 0.3253061236630002]\n"
     ]
    },
    {
     "name": "stderr",
     "output_type": "stream",
     "text": [
      "Initial filtering of formulas: 100%|█████████████| 5/5 [00:00<00:00, 209.13it/s]\n",
      "Computing chunks: 100%|████████████████████████| 5/5 [00:00<00:00, 96642.95it/s]\n",
      "Splitting the experimental spectrum into chunks: 27129it [00:00, 2005662.90it/s]\n",
      "Deconvolving chunks: 100%|████████████████████████| 1/1 [00:19<00:00, 19.80s/it]\n"
     ]
    },
    {
     "name": "stdout",
     "output_type": "stream",
     "text": [
      "Estimation for 0.18000000000000002 and 0.08 done\n",
      "It took: 19.896602392196655 seconds.\n",
      "[0.22780351728000015, 0.15160544045800012, 0.11831141473700009, 0.17701688002900012, 0.32526274749700024]\n"
     ]
    },
    {
     "name": "stderr",
     "output_type": "stream",
     "text": [
      "Initial filtering of formulas: 100%|█████████████| 5/5 [00:00<00:00, 230.14it/s]\n",
      "Computing chunks: 100%|████████████████████████| 5/5 [00:00<00:00, 93206.76it/s]\n",
      "Splitting the experimental spectrum into chunks: 27129it [00:00, 2318309.63it/s]\n",
      "Deconvolving chunks: 100%|████████████████████████| 1/1 [00:17<00:00, 17.58s/it]\n"
     ]
    },
    {
     "name": "stdout",
     "output_type": "stream",
     "text": [
      "Estimation for 0.18000000000000002 and 0.09 done\n",
      "It took: 17.66531991958618 seconds.\n",
      "[0.22783946788900014, 0.1516823182740001, 0.11841013928600008, 0.17697185787600012, 0.32509621667600025]\n"
     ]
    },
    {
     "name": "stderr",
     "output_type": "stream",
     "text": [
      "Initial filtering of formulas: 100%|█████████████| 5/5 [00:00<00:00, 264.91it/s]\n",
      "Computing chunks: 100%|███████████████████████| 5/5 [00:00<00:00, 162569.92it/s]\n",
      "Splitting the experimental spectrum into chunks: 27129it [00:00, 2838437.27it/s]\n",
      "Deconvolving chunks: 100%|████████████████████████| 1/1 [00:14<00:00, 14.34s/it]\n"
     ]
    },
    {
     "name": "stdout",
     "output_type": "stream",
     "text": [
      "Estimation for 0.18000000000000002 and 0.09999999999999999 done\n",
      "It took: 14.408700942993164 seconds.\n",
      "[0.22779971472800015, 0.15178166800000012, 0.11852719681500008, 0.17697388810100012, 0.3249175323570002]\n"
     ]
    },
    {
     "name": "stderr",
     "output_type": "stream",
     "text": [
      "Initial filtering of formulas: 100%|█████████████| 5/5 [00:00<00:00, 246.03it/s]\n",
      "Computing chunks: 100%|███████████████████████| 5/5 [00:00<00:00, 117159.33it/s]\n",
      "Splitting the experimental spectrum into chunks: 27129it [00:00, 2567807.94it/s]\n",
      "Deconvolving chunks: 100%|████████████████████████| 1/1 [00:14<00:00, 14.51s/it]\n"
     ]
    },
    {
     "name": "stdout",
     "output_type": "stream",
     "text": [
      "Estimation for 0.18000000000000002 and 0.11 done\n",
      "It took: 14.577496528625488 seconds.\n",
      "[0.22774682495400014, 0.1518660946840001, 0.11860870270100009, 0.1769868547910001, 0.32479152287000024]\n"
     ]
    },
    {
     "name": "stderr",
     "output_type": "stream",
     "text": [
      "Initial filtering of formulas: 100%|█████████████| 5/5 [00:00<00:00, 206.63it/s]\n",
      "Computing chunks: 100%|████████████████████████| 5/5 [00:00<00:00, 67869.00it/s]\n",
      "Splitting the experimental spectrum into chunks: 27129it [00:00, 2253347.19it/s]\n",
      "Deconvolving chunks: 100%|████████████████████████| 1/1 [00:20<00:00, 20.45s/it]\n"
     ]
    },
    {
     "name": "stdout",
     "output_type": "stream",
     "text": [
      "Estimation for 0.18000000000000002 and 0.12 done\n",
      "It took: 20.544485330581665 seconds.\n",
      "[0.22778351470900013, 0.1519366452690001, 0.11869303255000008, 0.1769430273430001, 0.3246437801280002]\n"
     ]
    },
    {
     "name": "stderr",
     "output_type": "stream",
     "text": [
      "Initial filtering of formulas: 100%|█████████████| 5/5 [00:00<00:00, 207.21it/s]\n",
      "Computing chunks: 100%|████████████████████████| 5/5 [00:00<00:00, 64329.82it/s]\n",
      "Splitting the experimental spectrum into chunks: 27129it [00:00, 2138697.71it/s]\n",
      "Deconvolving chunks: 100%|████████████████████████| 1/1 [00:15<00:00, 15.03s/it]\n"
     ]
    },
    {
     "name": "stdout",
     "output_type": "stream",
     "text": [
      "Estimation for 0.18000000000000002 and 0.13 done\n",
      "It took: 15.10986065864563 seconds.\n",
      "[0.22784033540100013, 0.1519960632920001, 0.11879097076500009, 0.1768049714760001, 0.32456765906500024]\n"
     ]
    },
    {
     "name": "stderr",
     "output_type": "stream",
     "text": [
      "Initial filtering of formulas: 100%|█████████████| 5/5 [00:00<00:00, 247.10it/s]\n",
      "Computing chunks: 100%|███████████████████████| 5/5 [00:00<00:00, 169125.16it/s]\n",
      "Splitting the experimental spectrum into chunks: 27129it [00:00, 2477783.97it/s]\n",
      "Deconvolving chunks: 100%|████████████████████████| 1/1 [00:15<00:00, 15.24s/it]\n"
     ]
    },
    {
     "name": "stdout",
     "output_type": "stream",
     "text": [
      "Estimation for 0.18000000000000002 and 0.14 done\n",
      "It took: 15.309886693954468 seconds.\n",
      "[0.22785092688500014, 0.15205401439700011, 0.11888470730900008, 0.17673466250700012, 0.32447568890200024]\n"
     ]
    },
    {
     "name": "stderr",
     "output_type": "stream",
     "text": [
      "Initial filtering of formulas: 100%|█████████████| 5/5 [00:00<00:00, 241.14it/s]\n",
      "Computing chunks: 100%|███████████████████████| 5/5 [00:00<00:00, 106997.55it/s]\n",
      "Splitting the experimental spectrum into chunks: 27129it [00:00, 2536553.94it/s]\n",
      "Deconvolving chunks: 100%|████████████████████████| 1/1 [00:13<00:00, 13.99s/it]\n"
     ]
    },
    {
     "name": "stdout",
     "output_type": "stream",
     "text": [
      "Estimation for 0.18000000000000002 and 0.15000000000000002 done\n",
      "It took: 14.058483839035034 seconds.\n",
      "[0.22787256685500015, 0.15210606437800012, 0.11896650278300008, 0.1766644126840001, 0.32439045330100025]\n"
     ]
    },
    {
     "name": "stderr",
     "output_type": "stream",
     "text": [
      "Initial filtering of formulas: 100%|█████████████| 5/5 [00:00<00:00, 238.26it/s]\n",
      "Computing chunks: 100%|████████████████████████| 5/5 [00:00<00:00, 48770.98it/s]\n",
      "Splitting the experimental spectrum into chunks: 27129it [00:00, 2261947.58it/s]\n",
      "Deconvolving chunks: 100%|████████████████████████| 1/1 [00:18<00:00, 18.53s/it]\n"
     ]
    },
    {
     "name": "stdout",
     "output_type": "stream",
     "text": [
      "Estimation for 0.18000000000000002 and 0.16 done\n",
      "It took: 18.60281538963318 seconds.\n",
      "[0.22788341798300013, 0.1521508221640001, 0.11904964934400009, 0.17656052551400012, 0.3243555849950002]\n"
     ]
    },
    {
     "name": "stderr",
     "output_type": "stream",
     "text": [
      "Initial filtering of formulas: 100%|█████████████| 5/5 [00:00<00:00, 222.93it/s]\n",
      "Computing chunks: 100%|████████████████████████| 5/5 [00:00<00:00, 90006.52it/s]\n",
      "Splitting the experimental spectrum into chunks: 27129it [00:00, 2191630.68it/s]\n",
      "Deconvolving chunks: 100%|████████████████████████| 1/1 [00:17<00:00, 17.94s/it]\n"
     ]
    },
    {
     "name": "stdout",
     "output_type": "stream",
     "text": [
      "Estimation for 0.18000000000000002 and 0.17 done\n",
      "It took: 18.02444362640381 seconds.\n",
      "[0.22787621375700015, 0.15217248439100012, 0.11912340125600009, 0.17645452118800012, 0.32437337940700023]\n"
     ]
    },
    {
     "name": "stderr",
     "output_type": "stream",
     "text": [
      "Initial filtering of formulas: 100%|█████████████| 5/5 [00:00<00:00, 249.04it/s]\n",
      "Computing chunks: 100%|████████████████████████| 5/5 [00:00<00:00, 56527.01it/s]\n",
      "Splitting the experimental spectrum into chunks: 27129it [00:00, 2546944.07it/s]\n",
      "Deconvolving chunks: 100%|████████████████████████| 1/1 [00:15<00:00, 15.62s/it]\n"
     ]
    },
    {
     "name": "stdout",
     "output_type": "stream",
     "text": [
      "Estimation for 0.18000000000000002 and 0.18000000000000002 done\n",
      "It took: 15.686456680297852 seconds.\n",
      "[0.22783150985400014, 0.1522134155370001, 0.11917947778200008, 0.17641476749000012, 0.32436082933600024]\n"
     ]
    },
    {
     "name": "stderr",
     "output_type": "stream",
     "text": [
      "Initial filtering of formulas: 100%|█████████████| 5/5 [00:00<00:00, 221.51it/s]\n",
      "Computing chunks: 100%|███████████████████████| 5/5 [00:00<00:00, 113975.65it/s]\n",
      "Splitting the experimental spectrum into chunks: 27129it [00:00, 2540064.59it/s]\n",
      "Deconvolving chunks: 100%|████████████████████████| 1/1 [00:14<00:00, 14.95s/it]\n"
     ]
    },
    {
     "name": "stdout",
     "output_type": "stream",
     "text": [
      "Estimation for 0.18000000000000002 and 0.19 done\n",
      "It took: 15.017921924591064 seconds.\n",
      "[0.22780306398700015, 0.1522326516930001, 0.11922764354200008, 0.1763266389200001, 0.3244100018570002]\n"
     ]
    },
    {
     "name": "stderr",
     "output_type": "stream",
     "text": [
      "Initial filtering of formulas: 100%|█████████████| 5/5 [00:00<00:00, 238.03it/s]\n",
      "Computing chunks: 100%|███████████████████████| 5/5 [00:00<00:00, 129453.83it/s]\n",
      "Splitting the experimental spectrum into chunks: 27129it [00:00, 2548998.06it/s]\n",
      "Deconvolving chunks: 100%|████████████████████████| 1/1 [00:15<00:00, 15.78s/it]\n"
     ]
    },
    {
     "name": "stdout",
     "output_type": "stream",
     "text": [
      "Estimation for 0.18000000000000002 and 0.2 done\n",
      "It took: 15.849759340286255 seconds.\n",
      "[0.22776246757900015, 0.1522477878570001, 0.11926837176200009, 0.1762298060690001, 0.32449156673200025]\n"
     ]
    },
    {
     "name": "stderr",
     "output_type": "stream",
     "text": [
      "Initial filtering of formulas: 100%|█████████████| 5/5 [00:00<00:00, 216.77it/s]\n",
      "Computing chunks: 100%|████████████████████████| 5/5 [00:00<00:00, 93206.76it/s]\n",
      "Splitting the experimental spectrum into chunks: 27129it [00:00, 2036024.00it/s]\n",
      "Deconvolving chunks: 100%|████████████████████████| 1/1 [00:16<00:00, 16.83s/it]\n"
     ]
    },
    {
     "name": "stdout",
     "output_type": "stream",
     "text": [
      "Estimation for 0.18000000000000002 and 0.21000000000000002 done\n",
      "It took: 16.90640616416931 seconds.\n",
      "[0.22773573701700014, 0.15222751912300012, 0.11930434740600009, 0.1761614202980001, 0.32457097615500025]\n"
     ]
    },
    {
     "name": "stderr",
     "output_type": "stream",
     "text": [
      "Initial filtering of formulas: 100%|█████████████| 5/5 [00:00<00:00, 202.14it/s]\n",
      "Computing chunks: 100%|████████████████████████| 5/5 [00:00<00:00, 31161.25it/s]\n",
      "Splitting the experimental spectrum into chunks: 27129it [00:00, 2209504.52it/s]\n",
      "Deconvolving chunks: 100%|████████████████████████| 1/1 [00:15<00:00, 15.12s/it]\n"
     ]
    },
    {
     "name": "stdout",
     "output_type": "stream",
     "text": [
      "Estimation for 0.18000000000000002 and 0.22 done\n",
      "It took: 15.20471739768982 seconds.\n",
      "[0.22771710009600013, 0.1522124113910001, 0.11933745204700008, 0.17611454357600012, 0.32461849288900024]\n"
     ]
    },
    {
     "name": "stderr",
     "output_type": "stream",
     "text": [
      "Initial filtering of formulas: 100%|█████████████| 5/5 [00:00<00:00, 254.78it/s]\n",
      "Computing chunks: 100%|████████████████████████| 5/5 [00:00<00:00, 89240.51it/s]\n",
      "Splitting the experimental spectrum into chunks: 27129it [00:00, 2727795.78it/s]\n",
      "Deconvolving chunks: 100%|████████████████████████| 1/1 [00:14<00:00, 14.31s/it]\n"
     ]
    },
    {
     "name": "stdout",
     "output_type": "stream",
     "text": [
      "Estimation for 0.18000000000000002 and 0.23 done\n",
      "It took: 14.379214525222778 seconds.\n",
      "[0.22770747215200013, 0.15220767635400012, 0.11937316464300009, 0.1760150500970001, 0.32469663675400023]\n"
     ]
    },
    {
     "name": "stderr",
     "output_type": "stream",
     "text": [
      "Initial filtering of formulas: 100%|█████████████| 5/5 [00:00<00:00, 191.81it/s]\n",
      "Computing chunks: 100%|███████████████████████| 5/5 [00:00<00:00, 145635.56it/s]\n",
      "Splitting the experimental spectrum into chunks: 27129it [00:00, 2565029.49it/s]\n",
      "Deconvolving chunks: 100%|████████████████████████| 1/1 [00:22<00:00, 22.51s/it]\n"
     ]
    },
    {
     "name": "stdout",
     "output_type": "stream",
     "text": [
      "Estimation for 0.18000000000000002 and 0.24000000000000002 done\n",
      "It took: 22.58768129348755 seconds.\n",
      "[0.22770803335500014, 0.1521777697000001, 0.11940912418000009, 0.1759238086870001, 0.3247812640770002]\n"
     ]
    },
    {
     "name": "stderr",
     "output_type": "stream",
     "text": [
      "Initial filtering of formulas: 100%|█████████████| 5/5 [00:00<00:00, 153.25it/s]\n",
      "Computing chunks: 100%|████████████████████████| 5/5 [00:00<00:00, 81920.00it/s]\n",
      "Splitting the experimental spectrum into chunks: 27129it [00:00, 1732080.15it/s]\n",
      "Deconvolving chunks: 100%|████████████████████████| 1/1 [00:30<00:00, 30.38s/it]\n"
     ]
    },
    {
     "name": "stdout",
     "output_type": "stream",
     "text": [
      "Estimation for 0.18000000000000002 and 0.25 done\n",
      "It took: 30.523927450180054 seconds.\n",
      "[0.22772886180200014, 0.1521818492400001, 0.11946644571500008, 0.1758593706820001, 0.3247634725620002]\n"
     ]
    },
    {
     "name": "stderr",
     "output_type": "stream",
     "text": [
      "Initial filtering of formulas: 100%|█████████████| 5/5 [00:00<00:00, 117.92it/s]\n",
      "Computing chunks: 100%|████████████████████████| 5/5 [00:00<00:00, 39945.75it/s]\n",
      "Splitting the experimental spectrum into chunks: 27129it [00:00, 1230558.39it/s]\n",
      "Deconvolving chunks: 100%|████████████████████████| 1/1 [00:17<00:00, 17.55s/it]\n"
     ]
    },
    {
     "name": "stdout",
     "output_type": "stream",
     "text": [
      "Estimation for 0.18000000000000002 and 0.26 done\n",
      "It took: 17.71296238899231 seconds.\n",
      "[0.22852667066100013, 0.1526396903610001, 0.11966873264700008, 0.1690697823250001, 0.3257503168030002]\n"
     ]
    },
    {
     "name": "stderr",
     "output_type": "stream",
     "text": [
      "Initial filtering of formulas: 100%|█████████████| 5/5 [00:00<00:00, 199.53it/s]\n",
      "Computing chunks: 100%|████████████████████████| 5/5 [00:00<00:00, 94042.69it/s]\n",
      "Splitting the experimental spectrum into chunks: 27129it [00:00, 1102483.03it/s]\n",
      "Deconvolving chunks: 100%|████████████████████████| 1/1 [00:17<00:00, 17.94s/it]\n"
     ]
    },
    {
     "name": "stdout",
     "output_type": "stream",
     "text": [
      "Estimation for 0.18000000000000002 and 0.27 done\n",
      "It took: 18.049392700195312 seconds.\n",
      "[0.22867731225900015, 0.15268184437800011, 0.11919912764000008, 0.16872318535700012, 0.3258231502970002]\n"
     ]
    },
    {
     "name": "stderr",
     "output_type": "stream",
     "text": [
      "Initial filtering of formulas: 100%|█████████████| 5/5 [00:00<00:00, 216.39it/s]\n",
      "Computing chunks: 100%|███████████████████████| 5/5 [00:00<00:00, 146653.99it/s]\n",
      "Splitting the experimental spectrum into chunks: 27129it [00:00, 2130887.72it/s]\n",
      "Deconvolving chunks: 100%|████████████████████████| 1/1 [00:18<00:00, 18.16s/it]\n"
     ]
    },
    {
     "name": "stdout",
     "output_type": "stream",
     "text": [
      "Estimation for 0.18000000000000002 and 0.28 done\n",
      "It took: 18.25874137878418 seconds.\n",
      "[0.22882461011700014, 0.15269430950800011, 0.11886363688700008, 0.1684364468430001, 0.32588638468600023]\n"
     ]
    },
    {
     "name": "stderr",
     "output_type": "stream",
     "text": [
      "Initial filtering of formulas: 100%|█████████████| 5/5 [00:00<00:00, 233.79it/s]\n",
      "Computing chunks: 100%|███████████████████████| 5/5 [00:00<00:00, 108660.73it/s]\n",
      "Splitting the experimental spectrum into chunks: 27129it [00:00, 2011584.22it/s]\n",
      "Deconvolving chunks: 100%|████████████████████████| 1/1 [00:15<00:00, 15.73s/it]\n"
     ]
    },
    {
     "name": "stdout",
     "output_type": "stream",
     "text": [
      "Estimation for 0.18000000000000002 and 0.29000000000000004 done\n",
      "It took: 15.80757999420166 seconds.\n",
      "[0.22892797063200013, 0.1526647039420001, 0.11878869167700008, 0.1683106345280001, 0.32586728354700023]\n"
     ]
    },
    {
     "name": "stderr",
     "output_type": "stream",
     "text": [
      "Initial filtering of formulas: 100%|█████████████| 5/5 [00:00<00:00, 249.04it/s]\n",
      "Computing chunks: 100%|████████████████████████| 5/5 [00:00<00:00, 94893.76it/s]\n",
      "Splitting the experimental spectrum into chunks: 27129it [00:00, 2267220.71it/s]\n",
      "Deconvolving chunks: 100%|████████████████████████| 1/1 [00:21<00:00, 21.81s/it]\n"
     ]
    },
    {
     "name": "stdout",
     "output_type": "stream",
     "text": [
      "Estimation for 0.18000000000000002 and 0.3 done\n",
      "It took: 21.887859344482422 seconds.\n",
      "[0.22902780223700014, 0.1526814004830001, 0.11863096387100008, 0.1680991528470001, 0.32587476159000023]\n"
     ]
    },
    {
     "name": "stderr",
     "output_type": "stream",
     "text": [
      "Initial filtering of formulas: 100%|█████████████| 5/5 [00:00<00:00, 127.95it/s]\n",
      "Computing chunks: 100%|████████████████████████| 5/5 [00:00<00:00, 34952.53it/s]\n",
      "Splitting the experimental spectrum into chunks: 27129it [00:00, 1425816.34it/s]\n",
      "Deconvolving chunks: 100%|████████████████████████| 1/1 [00:18<00:00, 18.75s/it]\n"
     ]
    },
    {
     "name": "stdout",
     "output_type": "stream",
     "text": [
      "Estimation for 0.19 and 0.01 done\n",
      "It took: 18.89083242416382 seconds.\n",
      "[0.21755084554200013, 0.1842519119180001, 0.11203796674500006, 0.1721534951830001, 0.31400578061200024]\n"
     ]
    },
    {
     "name": "stderr",
     "output_type": "stream",
     "text": [
      "Initial filtering of formulas: 100%|█████████████| 5/5 [00:00<00:00, 242.32it/s]\n",
      "Computing chunks: 100%|████████████████████████| 5/5 [00:00<00:00, 91980.35it/s]\n",
      "Splitting the experimental spectrum into chunks: 27129it [00:00, 2324038.99it/s]\n",
      "Deconvolving chunks: 100%|████████████████████████| 1/1 [00:16<00:00, 16.50s/it]\n"
     ]
    },
    {
     "name": "stdout",
     "output_type": "stream",
     "text": [
      "Estimation for 0.19 and 0.02 done\n",
      "It took: 16.566630363464355 seconds.\n",
      "[0.22749747499800013, 0.15057183637400012, 0.11728689957200009, 0.1773559218180001, 0.32728786723800024]\n"
     ]
    },
    {
     "name": "stderr",
     "output_type": "stream",
     "text": [
      "Initial filtering of formulas: 100%|█████████████| 5/5 [00:00<00:00, 237.68it/s]\n",
      "Computing chunks: 100%|███████████████████████| 5/5 [00:00<00:00, 195995.51it/s]\n",
      "Splitting the experimental spectrum into chunks: 27129it [00:00, 2520819.54it/s]\n",
      "Deconvolving chunks: 100%|████████████████████████| 1/1 [00:16<00:00, 16.59s/it]\n"
     ]
    },
    {
     "name": "stdout",
     "output_type": "stream",
     "text": [
      "Estimation for 0.19 and 0.03 done\n",
      "It took: 16.662769317626953 seconds.\n",
      "[0.22773846947000015, 0.15085527514200012, 0.11753960541000008, 0.1770456446430001, 0.32682100533500025]\n"
     ]
    },
    {
     "name": "stderr",
     "output_type": "stream",
     "text": [
      "Initial filtering of formulas: 100%|█████████████| 5/5 [00:00<00:00, 251.81it/s]\n",
      "Computing chunks: 100%|████████████████████████| 5/5 [00:00<00:00, 80350.65it/s]\n",
      "Splitting the experimental spectrum into chunks: 27129it [00:00, 2309041.85it/s]\n",
      "Deconvolving chunks: 100%|████████████████████████| 1/1 [00:19<00:00, 19.60s/it]\n"
     ]
    },
    {
     "name": "stdout",
     "output_type": "stream",
     "text": [
      "Estimation for 0.19 and 0.04 done\n",
      "It took: 19.667154550552368 seconds.\n",
      "[0.22792690637900015, 0.15107391778000012, 0.11773124674100008, 0.17717095468800012, 0.3260969744120002]\n"
     ]
    },
    {
     "name": "stderr",
     "output_type": "stream",
     "text": [
      "Initial filtering of formulas: 100%|█████████████| 5/5 [00:00<00:00, 217.99it/s]\n",
      "Computing chunks: 100%|████████████████████████| 5/5 [00:00<00:00, 45990.18it/s]\n",
      "Splitting the experimental spectrum into chunks: 27129it [00:00, 2206762.08it/s]\n",
      "Deconvolving chunks: 100%|████████████████████████| 1/1 [00:16<00:00, 16.21s/it]\n"
     ]
    },
    {
     "name": "stdout",
     "output_type": "stream",
     "text": [
      "Estimation for 0.19 and 0.05 done\n",
      "It took: 16.29775309562683 seconds.\n",
      "[0.22800614495500013, 0.1511773893160001, 0.11784200944000009, 0.1771073672140001, 0.3258670890750002]\n"
     ]
    },
    {
     "name": "stderr",
     "output_type": "stream",
     "text": [
      "Initial filtering of formulas: 100%|█████████████| 5/5 [00:00<00:00, 253.85it/s]\n",
      "Computing chunks: 100%|███████████████████████| 5/5 [00:00<00:00, 167772.16it/s]\n",
      "Splitting the experimental spectrum into chunks: 27129it [00:00, 2579332.95it/s]\n",
      "Deconvolving chunks: 100%|████████████████████████| 1/1 [00:15<00:00, 15.40s/it]\n"
     ]
    },
    {
     "name": "stdout",
     "output_type": "stream",
     "text": [
      "Estimation for 0.19 and 0.060000000000000005 done\n",
      "It took: 15.463797330856323 seconds.\n",
      "[0.22791342622200014, 0.15134016525300012, 0.11800515032200008, 0.1772390948450001, 0.3255021633580002]\n"
     ]
    },
    {
     "name": "stderr",
     "output_type": "stream",
     "text": [
      "Initial filtering of formulas: 100%|█████████████| 5/5 [00:00<00:00, 258.70it/s]\n",
      "Computing chunks: 100%|███████████████████████| 5/5 [00:00<00:00, 145635.56it/s]\n",
      "Splitting the experimental spectrum into chunks: 27129it [00:00, 2673510.33it/s]\n",
      "Deconvolving chunks: 100%|████████████████████████| 1/1 [00:14<00:00, 14.38s/it]\n"
     ]
    },
    {
     "name": "stdout",
     "output_type": "stream",
     "text": [
      "Estimation for 0.19 and 0.06999999999999999 done\n",
      "It took: 14.440860986709595 seconds.\n",
      "[0.22785881068300015, 0.1515704520090001, 0.11822816222900008, 0.1770364514150001, 0.3253061236630002]\n"
     ]
    },
    {
     "name": "stderr",
     "output_type": "stream",
     "text": [
      "Initial filtering of formulas: 100%|█████████████| 5/5 [00:00<00:00, 239.25it/s]\n",
      "Computing chunks: 100%|████████████████████████| 5/5 [00:00<00:00, 77101.18it/s]\n",
      "Splitting the experimental spectrum into chunks: 27129it [00:00, 2354527.97it/s]\n",
      "Deconvolving chunks: 100%|████████████████████████| 1/1 [00:20<00:00, 20.16s/it]\n"
     ]
    },
    {
     "name": "stdout",
     "output_type": "stream",
     "text": [
      "Estimation for 0.19 and 0.08 done\n",
      "It took: 20.22812581062317 seconds.\n",
      "[0.22780351728000015, 0.15160544045800012, 0.11831141473700009, 0.17701688002900012, 0.32526274749700024]\n"
     ]
    },
    {
     "name": "stderr",
     "output_type": "stream",
     "text": [
      "Initial filtering of formulas: 100%|█████████████| 5/5 [00:00<00:00, 199.48it/s]\n",
      "Computing chunks: 100%|████████████████████████| 5/5 [00:00<00:00, 22894.67it/s]\n",
      "Splitting the experimental spectrum into chunks: 27129it [00:00, 2129531.81it/s]\n",
      "Deconvolving chunks: 100%|████████████████████████| 1/1 [00:17<00:00, 17.02s/it]\n"
     ]
    },
    {
     "name": "stdout",
     "output_type": "stream",
     "text": [
      "Estimation for 0.19 and 0.09 done\n",
      "It took: 17.106699228286743 seconds.\n",
      "[0.22783946788900014, 0.1516823182740001, 0.11841013928600008, 0.17697185787600012, 0.32509621667600025]\n"
     ]
    },
    {
     "name": "stderr",
     "output_type": "stream",
     "text": [
      "Initial filtering of formulas: 100%|█████████████| 5/5 [00:00<00:00, 263.32it/s]\n",
      "Computing chunks: 100%|███████████████████████| 5/5 [00:00<00:00, 102300.10it/s]\n",
      "Splitting the experimental spectrum into chunks: 27129it [00:00, 2586133.17it/s]\n",
      "Deconvolving chunks: 100%|████████████████████████| 1/1 [00:15<00:00, 15.06s/it]\n"
     ]
    },
    {
     "name": "stdout",
     "output_type": "stream",
     "text": [
      "Estimation for 0.19 and 0.09999999999999999 done\n",
      "It took: 15.126365900039673 seconds.\n",
      "[0.22779971472800015, 0.15178166800000012, 0.11852719681500008, 0.17697388810100012, 0.3249175323570002]\n"
     ]
    },
    {
     "name": "stderr",
     "output_type": "stream",
     "text": [
      "Initial filtering of formulas: 100%|█████████████| 5/5 [00:00<00:00, 248.09it/s]\n",
      "Computing chunks: 100%|███████████████████████| 5/5 [00:00<00:00, 190650.18it/s]\n",
      "Splitting the experimental spectrum into chunks: 27129it [00:00, 2596104.80it/s]\n",
      "Deconvolving chunks: 100%|████████████████████████| 1/1 [00:15<00:00, 15.44s/it]\n"
     ]
    },
    {
     "name": "stdout",
     "output_type": "stream",
     "text": [
      "Estimation for 0.19 and 0.11 done\n",
      "It took: 15.509683609008789 seconds.\n",
      "[0.22774682495400014, 0.1518660946840001, 0.11860870270100009, 0.1769868547910001, 0.32479152287000024]\n"
     ]
    },
    {
     "name": "stderr",
     "output_type": "stream",
     "text": [
      "Initial filtering of formulas: 100%|█████████████| 5/5 [00:00<00:00, 221.22it/s]\n",
      "Computing chunks: 100%|████████████████████████| 5/5 [00:00<00:00, 75983.77it/s]\n",
      "Splitting the experimental spectrum into chunks: 27129it [00:00, 2348938.38it/s]\n",
      "Deconvolving chunks: 100%|████████████████████████| 1/1 [00:19<00:00, 19.35s/it]\n"
     ]
    },
    {
     "name": "stdout",
     "output_type": "stream",
     "text": [
      "Estimation for 0.19 and 0.12 done\n",
      "It took: 19.432358026504517 seconds.\n",
      "[0.22778351470900013, 0.1519366452690001, 0.11869303255000008, 0.1769430273430001, 0.3246437801280002]\n"
     ]
    },
    {
     "name": "stderr",
     "output_type": "stream",
     "text": [
      "Initial filtering of formulas: 100%|█████████████| 5/5 [00:00<00:00, 157.44it/s]\n",
      "Computing chunks: 100%|████████████████████████| 5/5 [00:00<00:00, 99864.38it/s]\n",
      "Splitting the experimental spectrum into chunks: 27129it [00:00, 1851614.62it/s]\n",
      "Deconvolving chunks: 100%|████████████████████████| 1/1 [00:21<00:00, 21.61s/it]\n"
     ]
    },
    {
     "name": "stdout",
     "output_type": "stream",
     "text": [
      "Estimation for 0.19 and 0.13 done\n",
      "It took: 21.71404719352722 seconds.\n",
      "[0.22784033540100013, 0.1519960632920001, 0.11879097076500009, 0.1768049714760001, 0.32456765906500024]\n"
     ]
    },
    {
     "name": "stderr",
     "output_type": "stream",
     "text": [
      "Initial filtering of formulas: 100%|█████████████| 5/5 [00:00<00:00, 203.15it/s]\n",
      "Computing chunks: 100%|████████████████████████| 5/5 [00:00<00:00, 77385.68it/s]\n",
      "Splitting the experimental spectrum into chunks: 27129it [00:00, 1247421.27it/s]\n",
      "Deconvolving chunks: 100%|████████████████████████| 1/1 [00:19<00:00, 19.81s/it]\n"
     ]
    },
    {
     "name": "stdout",
     "output_type": "stream",
     "text": [
      "Estimation for 0.19 and 0.14 done\n",
      "It took: 19.926663637161255 seconds.\n",
      "[0.22785092688500014, 0.15205401439700011, 0.11888470730900008, 0.17673466250700012, 0.32447568890200024]\n"
     ]
    },
    {
     "name": "stderr",
     "output_type": "stream",
     "text": [
      "Initial filtering of formulas: 100%|█████████████| 5/5 [00:00<00:00, 201.50it/s]\n",
      "Computing chunks: 100%|████████████████████████| 5/5 [00:00<00:00, 81601.25it/s]\n",
      "Splitting the experimental spectrum into chunks: 27129it [00:00, 1656099.34it/s]\n",
      "Deconvolving chunks: 100%|████████████████████████| 1/1 [00:18<00:00, 18.00s/it]\n"
     ]
    },
    {
     "name": "stdout",
     "output_type": "stream",
     "text": [
      "Estimation for 0.19 and 0.15000000000000002 done\n",
      "It took: 18.095207452774048 seconds.\n",
      "[0.22787256685500015, 0.15210606437800012, 0.11896650278300008, 0.1766644126840001, 0.32439045330100025]\n"
     ]
    },
    {
     "name": "stderr",
     "output_type": "stream",
     "text": [
      "Initial filtering of formulas: 100%|█████████████| 5/5 [00:00<00:00, 232.22it/s]\n",
      "Computing chunks: 100%|████████████████████████| 5/5 [00:00<00:00, 75983.77it/s]\n",
      "Splitting the experimental spectrum into chunks: 27129it [00:00, 2196792.73it/s]\n",
      "Deconvolving chunks: 100%|████████████████████████| 1/1 [00:17<00:00, 17.47s/it]\n"
     ]
    },
    {
     "name": "stdout",
     "output_type": "stream",
     "text": [
      "Estimation for 0.19 and 0.16 done\n",
      "It took: 17.56375741958618 seconds.\n",
      "[0.22788341798300013, 0.1521508221640001, 0.11904964934400009, 0.17656052551400012, 0.3243555849950002]\n"
     ]
    },
    {
     "name": "stderr",
     "output_type": "stream",
     "text": [
      "Initial filtering of formulas: 100%|█████████████| 5/5 [00:00<00:00, 109.46it/s]\n",
      "Computing chunks: 100%|████████████████████████| 5/5 [00:00<00:00, 55333.83it/s]\n",
      "Splitting the experimental spectrum into chunks: 27129it [00:00, 1322323.66it/s]\n",
      "Deconvolving chunks: 100%|████████████████████████| 1/1 [00:23<00:00, 23.13s/it]\n"
     ]
    },
    {
     "name": "stdout",
     "output_type": "stream",
     "text": [
      "Estimation for 0.19 and 0.17 done\n",
      "It took: 23.263681173324585 seconds.\n",
      "[0.22787621375700015, 0.15217248439100012, 0.11912340125600009, 0.17645452118800012, 0.32437337940700023]\n"
     ]
    },
    {
     "name": "stderr",
     "output_type": "stream",
     "text": [
      "Initial filtering of formulas: 100%|█████████████| 5/5 [00:00<00:00, 105.64it/s]\n",
      "Computing chunks: 100%|████████████████████████| 5/5 [00:00<00:00, 10517.31it/s]\n",
      "Splitting the experimental spectrum into chunks: 27129it [00:00, 1274584.69it/s]\n",
      "Deconvolving chunks: 100%|████████████████████████| 1/1 [00:16<00:00, 16.79s/it]\n"
     ]
    },
    {
     "name": "stdout",
     "output_type": "stream",
     "text": [
      "Estimation for 0.19 and 0.18000000000000002 done\n",
      "It took: 16.972509622573853 seconds.\n",
      "[0.22783150985400014, 0.1522134155370001, 0.11917947778200008, 0.17641476749000012, 0.32436082933600024]\n"
     ]
    },
    {
     "name": "stderr",
     "output_type": "stream",
     "text": [
      "Initial filtering of formulas: 100%|█████████████| 5/5 [00:00<00:00, 269.72it/s]\n",
      "Computing chunks: 100%|███████████████████████| 5/5 [00:00<00:00, 113975.65it/s]\n",
      "Splitting the experimental spectrum into chunks: 27129it [00:00, 2797268.14it/s]\n",
      "Deconvolving chunks: 100%|████████████████████████| 1/1 [00:14<00:00, 14.76s/it]\n"
     ]
    },
    {
     "name": "stdout",
     "output_type": "stream",
     "text": [
      "Estimation for 0.19 and 0.19 done\n",
      "It took: 14.819169759750366 seconds.\n",
      "[0.22780306398700015, 0.1522326516930001, 0.11922764354200008, 0.1763266389200001, 0.3244100018570002]\n"
     ]
    },
    {
     "name": "stderr",
     "output_type": "stream",
     "text": [
      "Initial filtering of formulas: 100%|█████████████| 5/5 [00:00<00:00, 232.09it/s]\n",
      "Computing chunks: 100%|███████████████████████| 5/5 [00:00<00:00, 158875.15it/s]\n",
      "Splitting the experimental spectrum into chunks: 27129it [00:00, 2490474.15it/s]\n",
      "Deconvolving chunks: 100%|████████████████████████| 1/1 [00:15<00:00, 15.34s/it]\n"
     ]
    },
    {
     "name": "stdout",
     "output_type": "stream",
     "text": [
      "Estimation for 0.19 and 0.2 done\n",
      "It took: 15.415809869766235 seconds.\n",
      "[0.22776246757900015, 0.1522477878570001, 0.11926837176200009, 0.1762298060690001, 0.32449156673200025]\n"
     ]
    },
    {
     "name": "stderr",
     "output_type": "stream",
     "text": [
      "Initial filtering of formulas: 100%|█████████████| 5/5 [00:00<00:00, 198.60it/s]\n",
      "Computing chunks: 100%|████████████████████████| 5/5 [00:00<00:00, 95325.09it/s]\n",
      "Splitting the experimental spectrum into chunks: 27129it [00:00, 2672380.12it/s]\n",
      "Deconvolving chunks: 100%|████████████████████████| 1/1 [00:17<00:00, 17.30s/it]\n"
     ]
    },
    {
     "name": "stdout",
     "output_type": "stream",
     "text": [
      "Estimation for 0.19 and 0.21000000000000002 done\n",
      "It took: 17.380356311798096 seconds.\n",
      "[0.22773573701700014, 0.15222751912300012, 0.11930434740600009, 0.1761614202980001, 0.32457097615500025]\n"
     ]
    },
    {
     "name": "stderr",
     "output_type": "stream",
     "text": [
      "Initial filtering of formulas: 100%|█████████████| 5/5 [00:00<00:00, 154.97it/s]\n",
      "Computing chunks: 100%|████████████████████████| 5/5 [00:00<00:00, 36986.81it/s]\n",
      "Splitting the experimental spectrum into chunks: 27129it [00:00, 1744454.42it/s]\n",
      "Deconvolving chunks: 100%|████████████████████████| 1/1 [00:17<00:00, 17.87s/it]\n"
     ]
    },
    {
     "name": "stdout",
     "output_type": "stream",
     "text": [
      "Estimation for 0.19 and 0.22 done\n",
      "It took: 17.973387956619263 seconds.\n",
      "[0.22771710009600013, 0.1522124113910001, 0.11933745204700008, 0.17611454357600012, 0.32461849288900024]\n"
     ]
    },
    {
     "name": "stderr",
     "output_type": "stream",
     "text": [
      "Initial filtering of formulas: 100%|█████████████| 5/5 [00:00<00:00, 255.61it/s]\n",
      "Computing chunks: 100%|███████████████████████| 5/5 [00:00<00:00, 108100.62it/s]\n",
      "Splitting the experimental spectrum into chunks: 27129it [00:00, 2655788.85it/s]\n",
      "Deconvolving chunks: 100%|████████████████████████| 1/1 [00:14<00:00, 14.02s/it]\n"
     ]
    },
    {
     "name": "stdout",
     "output_type": "stream",
     "text": [
      "Estimation for 0.19 and 0.23 done\n",
      "It took: 14.08394455909729 seconds.\n",
      "[0.22770731212400014, 0.1522078328980001, 0.11937316477800008, 0.1760150523690001, 0.3246966378310002]\n"
     ]
    },
    {
     "name": "stderr",
     "output_type": "stream",
     "text": [
      "Initial filtering of formulas: 100%|█████████████| 5/5 [00:00<00:00, 243.23it/s]\n",
      "Computing chunks: 100%|███████████████████████| 5/5 [00:00<00:00, 190650.18it/s]\n",
      "Splitting the experimental spectrum into chunks: 27129it [00:00, 2415814.38it/s]\n",
      "Deconvolving chunks: 100%|████████████████████████| 1/1 [00:14<00:00, 14.93s/it]\n"
     ]
    },
    {
     "name": "stdout",
     "output_type": "stream",
     "text": [
      "Estimation for 0.19 and 0.24000000000000002 done\n",
      "It took: 14.996251821517944 seconds.\n",
      "[0.22770803335500014, 0.1521777697000001, 0.11940912418000009, 0.1759238086870001, 0.3247812640770002]\n"
     ]
    },
    {
     "name": "stderr",
     "output_type": "stream",
     "text": [
      "Initial filtering of formulas: 100%|█████████████| 5/5 [00:00<00:00, 248.21it/s]\n",
      "Computing chunks: 100%|███████████████████████| 5/5 [00:00<00:00, 205603.14it/s]\n",
      "Splitting the experimental spectrum into chunks: 27129it [00:00, 2443255.03it/s]\n",
      "Deconvolving chunks: 100%|████████████████████████| 1/1 [00:16<00:00, 16.50s/it]\n"
     ]
    },
    {
     "name": "stdout",
     "output_type": "stream",
     "text": [
      "Estimation for 0.19 and 0.25 done\n",
      "It took: 16.5727059841156 seconds.\n",
      "[0.22772886180200014, 0.1521818492400001, 0.11946644571500008, 0.1758593706820001, 0.3247634725620002]\n"
     ]
    },
    {
     "name": "stderr",
     "output_type": "stream",
     "text": [
      "Initial filtering of formulas: 100%|█████████████| 5/5 [00:00<00:00, 132.98it/s]\n",
      "Computing chunks: 100%|████████████████████████| 5/5 [00:00<00:00, 57772.78it/s]\n",
      "Splitting the experimental spectrum into chunks: 27129it [00:00, 1464952.73it/s]\n",
      "Deconvolving chunks: 100%|████████████████████████| 1/1 [00:18<00:00, 18.13s/it]\n"
     ]
    },
    {
     "name": "stdout",
     "output_type": "stream",
     "text": [
      "Estimation for 0.19 and 0.26 done\n",
      "It took: 18.258816957473755 seconds.\n",
      "[0.22782527962900015, 0.1521657836290001, 0.11951809049000009, 0.17573872007800012, 0.32475212617400023]\n"
     ]
    },
    {
     "name": "stderr",
     "output_type": "stream",
     "text": [
      "Initial filtering of formulas: 100%|█████████████| 5/5 [00:00<00:00, 223.15it/s]\n",
      "Computing chunks: 100%|███████████████████████| 5/5 [00:00<00:00, 103307.98it/s]\n",
      "Splitting the experimental spectrum into chunks: 27129it [00:00, 1859998.58it/s]\n",
      "Deconvolving chunks: 100%|████████████████████████| 1/1 [00:14<00:00, 14.42s/it]\n"
     ]
    },
    {
     "name": "stdout",
     "output_type": "stream",
     "text": [
      "Estimation for 0.19 and 0.27 done\n",
      "It took: 14.502017736434937 seconds.\n",
      "[0.22834127647600014, 0.15246078646700012, 0.11981088965400008, 0.1714329339920001, 0.32533214947900024]\n"
     ]
    },
    {
     "name": "stderr",
     "output_type": "stream",
     "text": [
      "Initial filtering of formulas: 100%|█████████████| 5/5 [00:00<00:00, 237.41it/s]\n",
      "Computing chunks: 100%|████████████████████████| 5/5 [00:00<00:00, 96199.63it/s]\n",
      "Splitting the experimental spectrum into chunks: 27129it [00:00, 2556040.91it/s]\n",
      "Deconvolving chunks: 100%|████████████████████████| 1/1 [00:14<00:00, 14.28s/it]\n"
     ]
    },
    {
     "name": "stdout",
     "output_type": "stream",
     "text": [
      "Estimation for 0.19 and 0.28 done\n",
      "It took: 14.351766347885132 seconds.\n",
      "[0.22871665933500013, 0.15263056405600012, 0.11940631469100009, 0.1690623145120001, 0.3257079706540002]\n"
     ]
    },
    {
     "name": "stderr",
     "output_type": "stream",
     "text": [
      "Initial filtering of formulas: 100%|█████████████| 5/5 [00:00<00:00, 252.80it/s]\n",
      "Computing chunks: 100%|███████████████████████| 5/5 [00:00<00:00, 146653.99it/s]\n",
      "Splitting the experimental spectrum into chunks: 27129it [00:00, 2656967.10it/s]\n",
      "Deconvolving chunks: 100%|████████████████████████| 1/1 [00:16<00:00, 16.08s/it]\n"
     ]
    },
    {
     "name": "stdout",
     "output_type": "stream",
     "text": [
      "Estimation for 0.19 and 0.29000000000000004 done\n",
      "It took: 16.149829626083374 seconds.\n",
      "[0.22887185597100013, 0.1526373391730001, 0.11905911060500009, 0.1687260303330001, 0.3257568004780002]\n"
     ]
    },
    {
     "name": "stderr",
     "output_type": "stream",
     "text": [
      "Initial filtering of formulas: 100%|█████████████| 5/5 [00:00<00:00, 167.09it/s]\n",
      "Computing chunks: 100%|████████████████████████| 5/5 [00:00<00:00, 87381.33it/s]\n",
      "Splitting the experimental spectrum into chunks: 27129it [00:00, 1881434.44it/s]\n",
      "Deconvolving chunks: 100%|████████████████████████| 1/1 [00:25<00:00, 25.34s/it]\n"
     ]
    },
    {
     "name": "stdout",
     "output_type": "stream",
     "text": [
      "Estimation for 0.19 and 0.3 done\n",
      "It took: 25.458507537841797 seconds.\n",
      "[0.22897683971000013, 0.1526583909050001, 0.11884496245700009, 0.1684827539870001, 0.32579978451500025]\n"
     ]
    },
    {
     "name": "stderr",
     "output_type": "stream",
     "text": [
      "Initial filtering of formulas: 100%|█████████████| 5/5 [00:00<00:00, 130.79it/s]\n",
      "Computing chunks: 100%|████████████████████████| 5/5 [00:00<00:00, 29086.71it/s]\n",
      "Splitting the experimental spectrum into chunks: 27129it [00:00, 1295200.77it/s]\n",
      "Deconvolving chunks: 100%|████████████████████████| 1/1 [00:25<00:00, 25.74s/it]\n"
     ]
    },
    {
     "name": "stdout",
     "output_type": "stream",
     "text": [
      "Estimation for 0.2 and 0.01 done\n",
      "It took: 25.899827003479004 seconds.\n",
      "[0.21755084554200013, 0.1842519119180001, 0.11203796674500006, 0.1721534951830001, 0.31400578061200024]\n"
     ]
    },
    {
     "name": "stderr",
     "output_type": "stream",
     "text": [
      "Initial filtering of formulas: 100%|█████████████| 5/5 [00:00<00:00, 219.16it/s]\n",
      "Computing chunks: 100%|████████████████████████| 5/5 [00:00<00:00, 63550.06it/s]\n",
      "Splitting the experimental spectrum into chunks: 27129it [00:00, 2262217.40it/s]\n",
      "Deconvolving chunks: 100%|████████████████████████| 1/1 [00:19<00:00, 19.72s/it]\n"
     ]
    },
    {
     "name": "stdout",
     "output_type": "stream",
     "text": [
      "Estimation for 0.2 and 0.02 done\n",
      "It took: 19.807143449783325 seconds.\n",
      "[0.22749747499800013, 0.15057183637400012, 0.11728689957200009, 0.1773559218180001, 0.32728786723800024]\n"
     ]
    },
    {
     "name": "stderr",
     "output_type": "stream",
     "text": [
      "Initial filtering of formulas: 100%|█████████████| 5/5 [00:00<00:00, 151.92it/s]\n",
      "Computing chunks: 100%|███████████████████████| 5/5 [00:00<00:00, 137970.53it/s]\n",
      "Splitting the experimental spectrum into chunks: 27129it [00:00, 2177996.96it/s]\n",
      "Deconvolving chunks: 100%|████████████████████████| 1/1 [00:18<00:00, 18.83s/it]\n"
     ]
    },
    {
     "name": "stdout",
     "output_type": "stream",
     "text": [
      "Estimation for 0.2 and 0.03 done\n",
      "It took: 18.930386781692505 seconds.\n",
      "[0.22773846947000015, 0.15085527514200012, 0.11753960541000008, 0.1770456446430001, 0.32682100533500025]\n"
     ]
    },
    {
     "name": "stderr",
     "output_type": "stream",
     "text": [
      "Initial filtering of formulas: 100%|█████████████| 5/5 [00:00<00:00, 144.04it/s]\n",
      "Computing chunks: 100%|████████████████████████| 5/5 [00:00<00:00, 41445.69it/s]\n",
      "Splitting the experimental spectrum into chunks: 27129it [00:00, 1059028.09it/s]\n",
      "Deconvolving chunks: 100%|████████████████████████| 1/1 [00:18<00:00, 18.88s/it]\n"
     ]
    },
    {
     "name": "stdout",
     "output_type": "stream",
     "text": [
      "Estimation for 0.2 and 0.04 done\n",
      "It took: 19.00089406967163 seconds.\n",
      "[0.22792690637900015, 0.15107391778000012, 0.11773124674100008, 0.17717095468800012, 0.3260969744120002]\n"
     ]
    },
    {
     "name": "stderr",
     "output_type": "stream",
     "text": [
      "Initial filtering of formulas: 100%|█████████████| 5/5 [00:00<00:00, 208.46it/s]\n",
      "Computing chunks: 100%|███████████████████████| 5/5 [00:00<00:00, 116508.44it/s]\n",
      "Splitting the experimental spectrum into chunks: 27129it [00:00, 1929808.07it/s]\n",
      "Deconvolving chunks: 100%|████████████████████████| 1/1 [00:22<00:00, 22.17s/it]\n"
     ]
    },
    {
     "name": "stdout",
     "output_type": "stream",
     "text": [
      "Estimation for 0.2 and 0.05 done\n",
      "It took: 22.263717889785767 seconds.\n",
      "[0.22800614495500013, 0.1511773893160001, 0.11784200944000009, 0.1771073672140001, 0.3258670890750002]\n"
     ]
    },
    {
     "name": "stderr",
     "output_type": "stream",
     "text": [
      "Initial filtering of formulas: 100%|█████████████| 5/5 [00:00<00:00, 178.22it/s]\n",
      "Computing chunks: 100%|████████████████████████| 5/5 [00:00<00:00, 54330.36it/s]\n",
      "Splitting the experimental spectrum into chunks: 27129it [00:00, 1830112.96it/s]\n",
      "Deconvolving chunks: 100%|████████████████████████| 1/1 [00:27<00:00, 27.63s/it]\n"
     ]
    },
    {
     "name": "stdout",
     "output_type": "stream",
     "text": [
      "Estimation for 0.2 and 0.060000000000000005 done\n",
      "It took: 27.74319863319397 seconds.\n",
      "[0.22791342622200014, 0.15134016525300012, 0.11800515032200008, 0.1772390948450001, 0.3255021633580002]\n"
     ]
    },
    {
     "name": "stderr",
     "output_type": "stream",
     "text": [
      "Initial filtering of formulas: 100%|█████████████| 5/5 [00:00<00:00, 194.60it/s]\n",
      "Computing chunks: 100%|████████████████████████| 5/5 [00:00<00:00, 77101.18it/s]\n",
      "Splitting the experimental spectrum into chunks: 27129it [00:00, 1985608.37it/s]\n",
      "Deconvolving chunks: 100%|████████████████████████| 1/1 [00:18<00:00, 18.56s/it]\n"
     ]
    },
    {
     "name": "stdout",
     "output_type": "stream",
     "text": [
      "Estimation for 0.2 and 0.06999999999999999 done\n",
      "It took: 18.658520936965942 seconds.\n",
      "[0.22785881068300015, 0.1515704520090001, 0.11822816222900008, 0.1770364514150001, 0.3253061236630002]\n"
     ]
    },
    {
     "name": "stderr",
     "output_type": "stream",
     "text": [
      "Initial filtering of formulas: 100%|█████████████| 5/5 [00:00<00:00, 215.47it/s]\n",
      "Computing chunks: 100%|███████████████████████| 5/5 [00:00<00:00, 108660.73it/s]\n",
      "Splitting the experimental spectrum into chunks: 27129it [00:00, 2166675.04it/s]\n",
      "Deconvolving chunks: 100%|████████████████████████| 1/1 [00:17<00:00, 17.88s/it]\n"
     ]
    },
    {
     "name": "stdout",
     "output_type": "stream",
     "text": [
      "Estimation for 0.2 and 0.08 done\n",
      "It took: 17.96606183052063 seconds.\n",
      "[0.22780351728000015, 0.15160544045800012, 0.11831141473700009, 0.17701688002900012, 0.32526274749700024]\n"
     ]
    },
    {
     "name": "stderr",
     "output_type": "stream",
     "text": [
      "Initial filtering of formulas: 100%|█████████████| 5/5 [00:00<00:00, 252.74it/s]\n",
      "Computing chunks: 100%|███████████████████████| 5/5 [00:00<00:00, 131896.35it/s]\n",
      "Splitting the experimental spectrum into chunks: 27129it [00:00, 2536440.86it/s]\n",
      "Deconvolving chunks: 100%|████████████████████████| 1/1 [00:15<00:00, 15.84s/it]\n"
     ]
    },
    {
     "name": "stdout",
     "output_type": "stream",
     "text": [
      "Estimation for 0.2 and 0.09 done\n",
      "It took: 15.906080722808838 seconds.\n",
      "[0.22783946788900014, 0.1516823182740001, 0.11841013928600008, 0.17697185787600012, 0.32509621667600025]\n"
     ]
    },
    {
     "name": "stderr",
     "output_type": "stream",
     "text": [
      "Initial filtering of formulas: 100%|█████████████| 5/5 [00:00<00:00, 264.10it/s]\n",
      "Computing chunks: 100%|███████████████████████| 5/5 [00:00<00:00, 177724.75it/s]\n",
      "Splitting the experimental spectrum into chunks: 27129it [00:00, 2802987.39it/s]\n",
      "Deconvolving chunks: 100%|████████████████████████| 1/1 [00:16<00:00, 16.71s/it]\n"
     ]
    },
    {
     "name": "stdout",
     "output_type": "stream",
     "text": [
      "Estimation for 0.2 and 0.09999999999999999 done\n",
      "It took: 16.775115728378296 seconds.\n",
      "[0.22779971472800015, 0.15178166800000012, 0.11852719681500008, 0.17697388810100012, 0.3249175323570002]\n"
     ]
    },
    {
     "name": "stderr",
     "output_type": "stream",
     "text": [
      "Initial filtering of formulas: 100%|█████████████| 5/5 [00:00<00:00, 149.47it/s]\n",
      "Computing chunks: 100%|████████████████████████| 5/5 [00:00<00:00, 25827.00it/s]\n",
      "Splitting the experimental spectrum into chunks: 27129it [00:00, 1756979.65it/s]\n",
      "Deconvolving chunks: 100%|████████████████████████| 1/1 [00:21<00:00, 21.99s/it]\n"
     ]
    },
    {
     "name": "stdout",
     "output_type": "stream",
     "text": [
      "Estimation for 0.2 and 0.11 done\n",
      "It took: 22.094417095184326 seconds.\n",
      "[0.22774682495400014, 0.1518660946840001, 0.11860870270100009, 0.1769868547910001, 0.32479152287000024]\n"
     ]
    },
    {
     "name": "stderr",
     "output_type": "stream",
     "text": [
      "Initial filtering of formulas: 100%|█████████████| 5/5 [00:00<00:00, 232.94it/s]\n",
      "Computing chunks: 100%|███████████████████████| 5/5 [00:00<00:00, 174762.67it/s]\n",
      "Splitting the experimental spectrum into chunks: 27129it [00:00, 2454427.81it/s]\n",
      "Deconvolving chunks: 100%|████████████████████████| 1/1 [00:15<00:00, 15.52s/it]\n"
     ]
    },
    {
     "name": "stdout",
     "output_type": "stream",
     "text": [
      "Estimation for 0.2 and 0.12 done\n",
      "It took: 15.592145442962646 seconds.\n",
      "[0.22778351470900013, 0.1519366452690001, 0.11869303255000008, 0.1769430273430001, 0.3246437801280002]\n"
     ]
    },
    {
     "name": "stderr",
     "output_type": "stream",
     "text": [
      "Initial filtering of formulas: 100%|█████████████| 5/5 [00:00<00:00, 236.06it/s]\n",
      "Computing chunks: 100%|███████████████████████| 5/5 [00:00<00:00, 138884.24it/s]\n",
      "Splitting the experimental spectrum into chunks: 27129it [00:00, 2478323.64it/s]\n",
      "Deconvolving chunks: 100%|████████████████████████| 1/1 [00:15<00:00, 15.70s/it]\n"
     ]
    },
    {
     "name": "stdout",
     "output_type": "stream",
     "text": [
      "Estimation for 0.2 and 0.13 done\n",
      "It took: 15.778773546218872 seconds.\n",
      "[0.22784033540100013, 0.1519960632920001, 0.11879097076500009, 0.1768049714760001, 0.32456765906500024]\n"
     ]
    },
    {
     "name": "stderr",
     "output_type": "stream",
     "text": [
      "Initial filtering of formulas: 100%|█████████████| 5/5 [00:00<00:00, 259.17it/s]\n",
      "Computing chunks: 100%|███████████████████████| 5/5 [00:00<00:00, 135300.13it/s]\n",
      "Splitting the experimental spectrum into chunks: 27129it [00:00, 2679869.84it/s]\n",
      "Deconvolving chunks: 100%|████████████████████████| 1/1 [00:13<00:00, 13.91s/it]\n"
     ]
    },
    {
     "name": "stdout",
     "output_type": "stream",
     "text": [
      "Estimation for 0.2 and 0.14 done\n",
      "It took: 13.974002361297607 seconds.\n",
      "[0.22785092688500014, 0.15205401439700011, 0.11888470730900008, 0.17673466250700012, 0.32447568890200024]\n"
     ]
    },
    {
     "name": "stderr",
     "output_type": "stream",
     "text": [
      "Initial filtering of formulas: 100%|█████████████| 5/5 [00:00<00:00, 174.66it/s]\n",
      "Computing chunks: 100%|████████████████████████| 5/5 [00:00<00:00, 53498.78it/s]\n",
      "Splitting the experimental spectrum into chunks: 27129it [00:00, 1613546.13it/s]\n",
      "Deconvolving chunks: 100%|████████████████████████| 1/1 [00:19<00:00, 19.84s/it]\n"
     ]
    },
    {
     "name": "stdout",
     "output_type": "stream",
     "text": [
      "Estimation for 0.2 and 0.15000000000000002 done\n",
      "It took: 19.94069266319275 seconds.\n",
      "[0.22787256685500015, 0.15210606437800012, 0.11896650278300008, 0.1766644126840001, 0.32439045330100025]\n"
     ]
    },
    {
     "name": "stderr",
     "output_type": "stream",
     "text": [
      "Initial filtering of formulas: 100%|█████████████| 5/5 [00:00<00:00, 217.41it/s]\n",
      "Computing chunks: 100%|███████████████████████| 5/5 [00:00<00:00, 105916.77it/s]\n",
      "Splitting the experimental spectrum into chunks: 27129it [00:00, 2290957.42it/s]\n",
      "Deconvolving chunks: 100%|████████████████████████| 1/1 [00:16<00:00, 16.58s/it]\n"
     ]
    },
    {
     "name": "stdout",
     "output_type": "stream",
     "text": [
      "Estimation for 0.2 and 0.16 done\n",
      "It took: 16.663014888763428 seconds.\n",
      "[0.22788341798300013, 0.1521508221640001, 0.11904964934400009, 0.17656052551400012, 0.3243555849950002]\n"
     ]
    },
    {
     "name": "stderr",
     "output_type": "stream",
     "text": [
      "Initial filtering of formulas: 100%|█████████████| 5/5 [00:00<00:00, 218.45it/s]\n",
      "Computing chunks: 100%|███████████████████████| 5/5 [00:00<00:00, 106454.42it/s]\n",
      "Splitting the experimental spectrum into chunks: 27129it [00:00, 1913806.40it/s]\n",
      "Deconvolving chunks: 100%|████████████████████████| 1/1 [00:13<00:00, 13.61s/it]\n"
     ]
    },
    {
     "name": "stdout",
     "output_type": "stream",
     "text": [
      "Estimation for 0.2 and 0.17 done\n",
      "It took: 13.69153618812561 seconds.\n",
      "[0.22787621375700015, 0.15217248439100012, 0.11912340125600009, 0.17645452118800012, 0.32437337940700023]\n"
     ]
    },
    {
     "name": "stderr",
     "output_type": "stream",
     "text": [
      "Initial filtering of formulas: 100%|█████████████| 5/5 [00:00<00:00, 251.11it/s]\n",
      "Computing chunks: 100%|███████████████████████| 5/5 [00:00<00:00, 194180.74it/s]\n",
      "Splitting the experimental spectrum into chunks: 27129it [00:00, 2719256.14it/s]\n",
      "Deconvolving chunks: 100%|████████████████████████| 1/1 [00:13<00:00, 13.98s/it]\n"
     ]
    },
    {
     "name": "stdout",
     "output_type": "stream",
     "text": [
      "Estimation for 0.2 and 0.18000000000000002 done\n",
      "It took: 14.04630422592163 seconds.\n",
      "[0.22783150985400014, 0.1522134155370001, 0.11917947778200008, 0.17641476749000012, 0.32436082933600024]\n"
     ]
    },
    {
     "name": "stderr",
     "output_type": "stream",
     "text": [
      "Initial filtering of formulas: 100%|█████████████| 5/5 [00:00<00:00, 245.59it/s]\n",
      "Computing chunks: 100%|████████████████████████| 5/5 [00:00<00:00, 92385.55it/s]\n",
      "Splitting the experimental spectrum into chunks: 27129it [00:00, 2426892.32it/s]\n",
      "Deconvolving chunks: 100%|████████████████████████| 1/1 [00:17<00:00, 17.69s/it]\n"
     ]
    },
    {
     "name": "stdout",
     "output_type": "stream",
     "text": [
      "Estimation for 0.2 and 0.19 done\n",
      "It took: 17.758357286453247 seconds.\n",
      "[0.22780306398700015, 0.1522326516930001, 0.11922764354200008, 0.1763266389200001, 0.3244100018570002]\n"
     ]
    },
    {
     "name": "stderr",
     "output_type": "stream",
     "text": [
      "Initial filtering of formulas: 100%|█████████████| 5/5 [00:00<00:00, 117.09it/s]\n",
      "Computing chunks: 100%|████████████████████████| 5/5 [00:00<00:00, 69442.12it/s]\n",
      "Splitting the experimental spectrum into chunks: 27129it [00:00, 1818763.06it/s]\n",
      "Deconvolving chunks: 100%|████████████████████████| 1/1 [00:17<00:00, 17.27s/it]\n"
     ]
    },
    {
     "name": "stdout",
     "output_type": "stream",
     "text": [
      "Estimation for 0.2 and 0.2 done\n",
      "It took: 17.374600172042847 seconds.\n",
      "[0.22776246757900015, 0.1522477878570001, 0.11926837176200009, 0.1762298060690001, 0.32449156673200025]\n"
     ]
    },
    {
     "name": "stderr",
     "output_type": "stream",
     "text": [
      "Initial filtering of formulas: 100%|█████████████| 5/5 [00:00<00:00, 213.79it/s]\n",
      "Computing chunks: 100%|████████████████████████| 5/5 [00:00<00:00, 92794.34it/s]\n",
      "Splitting the experimental spectrum into chunks: 27129it [00:00, 2823996.06it/s]\n",
      "Deconvolving chunks: 100%|████████████████████████| 1/1 [00:16<00:00, 16.13s/it]\n"
     ]
    },
    {
     "name": "stdout",
     "output_type": "stream",
     "text": [
      "Estimation for 0.2 and 0.21000000000000002 done\n",
      "It took: 16.20331621170044 seconds.\n",
      "[0.22773573701700014, 0.15222751912300012, 0.11930434740600009, 0.1761614202980001, 0.32457097615500025]\n"
     ]
    },
    {
     "name": "stderr",
     "output_type": "stream",
     "text": [
      "Initial filtering of formulas: 100%|█████████████| 5/5 [00:00<00:00, 191.46it/s]\n",
      "Computing chunks: 100%|████████████████████████| 5/5 [00:00<00:00, 59747.92it/s]\n",
      "Splitting the experimental spectrum into chunks: 27129it [00:00, 2336542.29it/s]\n",
      "Deconvolving chunks: 100%|████████████████████████| 1/1 [00:21<00:00, 21.53s/it]\n"
     ]
    },
    {
     "name": "stdout",
     "output_type": "stream",
     "text": [
      "Estimation for 0.2 and 0.22 done\n",
      "It took: 21.62605905532837 seconds.\n",
      "[0.22771710009600013, 0.1522124113910001, 0.11933745204700008, 0.17611454357600012, 0.32461849288900024]\n"
     ]
    },
    {
     "name": "stderr",
     "output_type": "stream",
     "text": [
      "Initial filtering of formulas: 100%|█████████████| 5/5 [00:00<00:00, 191.83it/s]\n",
      "Computing chunks: 100%|███████████████████████| 5/5 [00:00<00:00, 101803.50it/s]\n",
      "Splitting the experimental spectrum into chunks: 27129it [00:00, 1913645.47it/s]\n",
      "Deconvolving chunks: 100%|████████████████████████| 1/1 [00:20<00:00, 20.15s/it]\n"
     ]
    },
    {
     "name": "stdout",
     "output_type": "stream",
     "text": [
      "Estimation for 0.2 and 0.23 done\n",
      "It took: 20.24579668045044 seconds.\n",
      "[0.22770731212400014, 0.1522078328980001, 0.11937316477800008, 0.1760150523690001, 0.3246966378310002]\n"
     ]
    },
    {
     "name": "stderr",
     "output_type": "stream",
     "text": [
      "Initial filtering of formulas: 100%|█████████████| 5/5 [00:00<00:00, 191.55it/s]\n",
      "Computing chunks: 100%|███████████████████████| 5/5 [00:00<00:00, 119837.26it/s]\n",
      "Splitting the experimental spectrum into chunks: 27129it [00:00, 2143249.76it/s]\n",
      "Deconvolving chunks: 100%|████████████████████████| 1/1 [00:27<00:00, 27.15s/it]\n"
     ]
    },
    {
     "name": "stdout",
     "output_type": "stream",
     "text": [
      "Estimation for 0.2 and 0.24000000000000002 done\n",
      "It took: 27.24174213409424 seconds.\n",
      "[0.22770803335500014, 0.1521777697000001, 0.11940912418000009, 0.1759238086870001, 0.3247812640770002]\n"
     ]
    },
    {
     "name": "stderr",
     "output_type": "stream",
     "text": [
      "Initial filtering of formulas: 100%|█████████████| 5/5 [00:00<00:00, 106.18it/s]\n",
      "Computing chunks: 100%|████████████████████████| 5/5 [00:00<00:00, 41363.94it/s]\n",
      "Splitting the experimental spectrum into chunks: 27129it [00:00, 1001569.18it/s]\n",
      "Deconvolving chunks: 100%|████████████████████████| 1/1 [00:17<00:00, 17.86s/it]\n"
     ]
    },
    {
     "name": "stdout",
     "output_type": "stream",
     "text": [
      "Estimation for 0.2 and 0.25 done\n",
      "It took: 18.007019519805908 seconds.\n",
      "[0.22772886180200014, 0.1521818492400001, 0.11946644571500008, 0.1758593706820001, 0.3247634725620002]\n"
     ]
    },
    {
     "name": "stderr",
     "output_type": "stream",
     "text": [
      "Initial filtering of formulas: 100%|█████████████| 5/5 [00:00<00:00, 217.92it/s]\n",
      "Computing chunks: 100%|████████████████████████| 5/5 [00:00<00:00, 75166.74it/s]\n",
      "Splitting the experimental spectrum into chunks: 27129it [00:00, 2264603.61it/s]\n",
      "Deconvolving chunks: 100%|████████████████████████| 1/1 [00:16<00:00, 16.66s/it]\n"
     ]
    },
    {
     "name": "stdout",
     "output_type": "stream",
     "text": [
      "Estimation for 0.2 and 0.26 done\n",
      "It took: 16.751709461212158 seconds.\n",
      "[0.22782544344600014, 0.15216589354000012, 0.11951817571300008, 0.17573884799600012, 0.3247516393040002]\n"
     ]
    },
    {
     "name": "stderr",
     "output_type": "stream",
     "text": [
      "Initial filtering of formulas: 100%|█████████████| 5/5 [00:00<00:00, 196.35it/s]\n",
      "Computing chunks: 100%|████████████████████████| 5/5 [00:00<00:00, 57932.38it/s]\n",
      "Splitting the experimental spectrum into chunks: 27129it [00:00, 1552710.36it/s]\n",
      "Deconvolving chunks: 100%|████████████████████████| 1/1 [00:17<00:00, 17.20s/it]\n"
     ]
    },
    {
     "name": "stdout",
     "output_type": "stream",
     "text": [
      "Estimation for 0.2 and 0.27 done\n",
      "It took: 17.311786651611328 seconds.\n",
      "[0.22791411451500013, 0.1521715697220001, 0.11956562842200008, 0.1756237865650001, 0.32472490077600025]\n"
     ]
    },
    {
     "name": "stderr",
     "output_type": "stream",
     "text": [
      "Initial filtering of formulas: 100%|█████████████| 5/5 [00:00<00:00, 226.56it/s]\n",
      "Computing chunks: 100%|████████████████████████| 5/5 [00:00<00:00, 65128.94it/s]\n",
      "Splitting the experimental spectrum into chunks: 27129it [00:00, 2316799.15it/s]\n",
      "Deconvolving chunks: 100%|████████████████████████| 1/1 [00:16<00:00, 16.85s/it]\n"
     ]
    },
    {
     "name": "stdout",
     "output_type": "stream",
     "text": [
      "Estimation for 0.2 and 0.28 done\n",
      "It took: 16.93262767791748 seconds.\n",
      "[0.22800375479400015, 0.15215051239700011, 0.11961429280000008, 0.1755478191290001, 0.32468362088000025]\n"
     ]
    },
    {
     "name": "stderr",
     "output_type": "stream",
     "text": [
      "Initial filtering of formulas: 100%|█████████████| 5/5 [00:00<00:00, 271.22it/s]\n",
      "Computing chunks: 100%|███████████████████████| 5/5 [00:00<00:00, 199728.76it/s]\n",
      "Splitting the experimental spectrum into chunks: 27129it [00:00, 2823575.60it/s]\n",
      "Deconvolving chunks: 100%|████████████████████████| 1/1 [00:17<00:00, 17.36s/it]\n"
     ]
    },
    {
     "name": "stdout",
     "output_type": "stream",
     "text": [
      "Estimation for 0.2 and 0.29000000000000004 done\n",
      "It took: 17.420692920684814 seconds.\n",
      "[0.22873522847200015, 0.15255318763600012, 0.11981897536100009, 0.1693938369060001, 0.32555118090000024]\n"
     ]
    },
    {
     "name": "stderr",
     "output_type": "stream",
     "text": [
      "Initial filtering of formulas: 100%|█████████████| 5/5 [00:00<00:00, 139.93it/s]\n",
      "Computing chunks: 100%|████████████████████████| 5/5 [00:00<00:00, 31536.12it/s]\n",
      "Splitting the experimental spectrum into chunks: 27129it [00:00, 2207918.22it/s]\n",
      "Deconvolving chunks: 100%|████████████████████████| 1/1 [00:23<00:00, 23.86s/it]\n"
     ]
    },
    {
     "name": "stdout",
     "output_type": "stream",
     "text": [
      "Estimation for 0.2 and 0.3 done\n",
      "It took: 23.96285581588745 seconds.\n",
      "[0.22887738599300014, 0.1526015674830001, 0.11931885975900008, 0.1690298769750001, 0.32565634214200023]\n"
     ]
    },
    {
     "name": "stderr",
     "output_type": "stream",
     "text": [
      "Initial filtering of formulas: 100%|█████████████| 5/5 [00:00<00:00, 250.32it/s]\n",
      "Computing chunks: 100%|███████████████████████| 5/5 [00:00<00:00, 192399.27it/s]\n",
      "Splitting the experimental spectrum into chunks: 27129it [00:00, 2756608.20it/s]\n",
      "Deconvolving chunks: 100%|████████████████████████| 1/1 [00:15<00:00, 15.70s/it]\n"
     ]
    },
    {
     "name": "stdout",
     "output_type": "stream",
     "text": [
      "Estimation for 0.21000000000000002 and 0.01 done\n",
      "It took: 15.76722526550293 seconds.\n",
      "[0.21755084554200013, 0.1842519119180001, 0.11203796674500006, 0.1721534951830001, 0.31400578061200024]\n"
     ]
    },
    {
     "name": "stderr",
     "output_type": "stream",
     "text": [
      "Initial filtering of formulas: 100%|█████████████| 5/5 [00:00<00:00, 246.46it/s]\n",
      "Computing chunks: 100%|████████████████████████| 5/5 [00:00<00:00, 51025.60it/s]\n",
      "Splitting the experimental spectrum into chunks: 27129it [00:00, 1962154.01it/s]\n",
      "Deconvolving chunks: 100%|████████████████████████| 1/1 [00:16<00:00, 16.09s/it]\n"
     ]
    },
    {
     "name": "stdout",
     "output_type": "stream",
     "text": [
      "Estimation for 0.21000000000000002 and 0.02 done\n",
      "It took: 16.15958833694458 seconds.\n",
      "[0.22749747499800013, 0.15057183637400012, 0.11728689957200009, 0.1773559218180001, 0.32728786723800024]\n"
     ]
    },
    {
     "name": "stderr",
     "output_type": "stream",
     "text": [
      "Initial filtering of formulas: 100%|█████████████| 5/5 [00:00<00:00, 244.63it/s]\n",
      "Computing chunks: 100%|███████████████████████| 5/5 [00:00<00:00, 139810.13it/s]\n",
      "Splitting the experimental spectrum into chunks: 27129it [00:00, 2677095.64it/s]\n",
      "Deconvolving chunks: 100%|████████████████████████| 1/1 [00:16<00:00, 16.83s/it]\n"
     ]
    },
    {
     "name": "stdout",
     "output_type": "stream",
     "text": [
      "Estimation for 0.21000000000000002 and 0.03 done\n",
      "It took: 16.900089979171753 seconds.\n",
      "[0.22773846947000015, 0.15085527514200012, 0.11753960541000008, 0.1770456446430001, 0.32682100533500025]\n"
     ]
    },
    {
     "name": "stderr",
     "output_type": "stream",
     "text": [
      "Initial filtering of formulas: 100%|█████████████| 5/5 [00:00<00:00, 144.13it/s]\n",
      "Computing chunks: 100%|████████████████████████| 5/5 [00:00<00:00, 27413.75it/s]\n",
      "Splitting the experimental spectrum into chunks: 27129it [00:00, 1617629.20it/s]\n",
      "Deconvolving chunks: 100%|████████████████████████| 1/1 [00:20<00:00, 20.56s/it]\n"
     ]
    },
    {
     "name": "stdout",
     "output_type": "stream",
     "text": [
      "Estimation for 0.21000000000000002 and 0.04 done\n",
      "It took: 20.678306341171265 seconds.\n",
      "[0.22792690637900015, 0.15107391778000012, 0.11773124674100008, 0.17717095468800012, 0.3260969744120002]\n"
     ]
    },
    {
     "name": "stderr",
     "output_type": "stream",
     "text": [
      "Initial filtering of formulas: 100%|█████████████| 5/5 [00:00<00:00, 257.85it/s]\n",
      "Computing chunks: 100%|████████████████████████| 5/5 [00:00<00:00, 58092.85it/s]\n",
      "Splitting the experimental spectrum into chunks: 27129it [00:00, 2698107.16it/s]\n",
      "Deconvolving chunks: 100%|████████████████████████| 1/1 [00:14<00:00, 14.70s/it]\n"
     ]
    },
    {
     "name": "stdout",
     "output_type": "stream",
     "text": [
      "Estimation for 0.21000000000000002 and 0.05 done\n",
      "It took: 14.768407583236694 seconds.\n",
      "[0.22800614495500013, 0.1511773893160001, 0.11784200944000009, 0.1771073672140001, 0.3258670890750002]\n"
     ]
    },
    {
     "name": "stderr",
     "output_type": "stream",
     "text": [
      "Initial filtering of formulas: 100%|█████████████| 5/5 [00:00<00:00, 267.65it/s]\n",
      "Computing chunks: 100%|███████████████████████| 5/5 [00:00<00:00, 151967.54it/s]\n",
      "Splitting the experimental spectrum into chunks: 27129it [00:00, 2850668.23it/s]\n",
      "Deconvolving chunks: 100%|████████████████████████| 1/1 [00:15<00:00, 15.23s/it]\n"
     ]
    },
    {
     "name": "stdout",
     "output_type": "stream",
     "text": [
      "Estimation for 0.21000000000000002 and 0.060000000000000005 done\n",
      "It took: 15.297437191009521 seconds.\n",
      "[0.22791342622200014, 0.15134016525300012, 0.11800515032200008, 0.1772390948450001, 0.3255021633580002]\n"
     ]
    },
    {
     "name": "stderr",
     "output_type": "stream",
     "text": [
      "Initial filtering of formulas: 100%|█████████████| 5/5 [00:00<00:00, 129.20it/s]\n",
      "Computing chunks: 100%|███████████████████████| 5/5 [00:00<00:00, 199728.76it/s]\n",
      "Splitting the experimental spectrum into chunks: 27129it [00:00, 2785490.16it/s]\n",
      "Deconvolving chunks: 100%|████████████████████████| 1/1 [00:16<00:00, 16.33s/it]\n"
     ]
    },
    {
     "name": "stdout",
     "output_type": "stream",
     "text": [
      "Estimation for 0.21000000000000002 and 0.06999999999999999 done\n",
      "It took: 16.425861120224 seconds.\n",
      "[0.22785881068300015, 0.1515704520090001, 0.11822816222900008, 0.1770364514150001, 0.3253061236630002]\n"
     ]
    },
    {
     "name": "stderr",
     "output_type": "stream",
     "text": [
      "Initial filtering of formulas: 100%|█████████████| 5/5 [00:00<00:00, 194.80it/s]\n",
      "Computing chunks: 100%|███████████████████████| 5/5 [00:00<00:00, 167772.16it/s]\n",
      "Splitting the experimental spectrum into chunks: 27129it [00:00, 1815339.15it/s]\n",
      "Deconvolving chunks: 100%|████████████████████████| 1/1 [00:16<00:00, 16.69s/it]\n"
     ]
    },
    {
     "name": "stdout",
     "output_type": "stream",
     "text": [
      "Estimation for 0.21000000000000002 and 0.08 done\n",
      "It took: 16.780357599258423 seconds.\n",
      "[0.22780351728000015, 0.15160544045800012, 0.11831141473700009, 0.17701688002900012, 0.32526274749700024]\n"
     ]
    },
    {
     "name": "stderr",
     "output_type": "stream",
     "text": [
      "Initial filtering of formulas: 100%|█████████████| 5/5 [00:00<00:00, 230.69it/s]\n",
      "Computing chunks: 100%|███████████████████████| 5/5 [00:00<00:00, 106997.55it/s]\n",
      "Splitting the experimental spectrum into chunks: 27129it [00:00, 2396833.49it/s]\n",
      "Deconvolving chunks: 100%|████████████████████████| 1/1 [00:14<00:00, 14.30s/it]\n"
     ]
    },
    {
     "name": "stdout",
     "output_type": "stream",
     "text": [
      "Estimation for 0.21000000000000002 and 0.09 done\n",
      "It took: 14.383249044418335 seconds.\n",
      "[0.22783946788900014, 0.1516823182740001, 0.11841013928600008, 0.17697185787600012, 0.32509621667600025]\n"
     ]
    },
    {
     "name": "stderr",
     "output_type": "stream",
     "text": [
      "Initial filtering of formulas: 100%|█████████████| 5/5 [00:00<00:00, 247.86it/s]\n",
      "Computing chunks: 100%|███████████████████████| 5/5 [00:00<00:00, 115228.13it/s]\n",
      "Splitting the experimental spectrum into chunks: 27129it [00:00, 2758880.64it/s]\n",
      "Deconvolving chunks: 100%|████████████████████████| 1/1 [00:15<00:00, 15.24s/it]\n"
     ]
    },
    {
     "name": "stdout",
     "output_type": "stream",
     "text": [
      "Estimation for 0.21000000000000002 and 0.09999999999999999 done\n",
      "It took: 15.30411148071289 seconds.\n",
      "[0.22779971472800015, 0.15178166800000012, 0.11852719681500008, 0.17697388810100012, 0.3249175323570002]\n"
     ]
    },
    {
     "name": "stderr",
     "output_type": "stream",
     "text": [
      "Initial filtering of formulas: 100%|█████████████| 5/5 [00:00<00:00, 246.47it/s]\n",
      "Computing chunks: 100%|███████████████████████| 5/5 [00:00<00:00, 190650.18it/s]\n",
      "Splitting the experimental spectrum into chunks: 27129it [00:00, 2712191.29it/s]\n",
      "Deconvolving chunks: 100%|████████████████████████| 1/1 [00:17<00:00, 17.78s/it]\n"
     ]
    },
    {
     "name": "stdout",
     "output_type": "stream",
     "text": [
      "Estimation for 0.21000000000000002 and 0.11 done\n",
      "It took: 17.84204411506653 seconds.\n",
      "[0.22774682495400014, 0.1518660946840001, 0.11860870270100009, 0.1769868547910001, 0.32479152287000024]\n"
     ]
    },
    {
     "name": "stderr",
     "output_type": "stream",
     "text": [
      "Initial filtering of formulas: 100%|█████████████| 5/5 [00:00<00:00, 227.10it/s]\n",
      "Computing chunks: 100%|███████████████████████| 5/5 [00:00<00:00, 119156.36it/s]\n",
      "Splitting the experimental spectrum into chunks: 27129it [00:00, 2438908.44it/s]\n",
      "Deconvolving chunks: 100%|████████████████████████| 1/1 [00:20<00:00, 20.94s/it]\n"
     ]
    },
    {
     "name": "stdout",
     "output_type": "stream",
     "text": [
      "Estimation for 0.21000000000000002 and 0.12 done\n",
      "It took: 21.033499479293823 seconds.\n",
      "[0.22778351470900013, 0.1519366452690001, 0.11869303255000008, 0.1769430273430001, 0.3246437801280002]\n"
     ]
    },
    {
     "name": "stderr",
     "output_type": "stream",
     "text": [
      "Initial filtering of formulas: 100%|█████████████| 5/5 [00:00<00:00, 157.72it/s]\n",
      "Computing chunks: 100%|████████████████████████| 5/5 [00:00<00:00, 41527.76it/s]\n",
      "Splitting the experimental spectrum into chunks: 27129it [00:00, 1499865.20it/s]\n",
      "Deconvolving chunks: 100%|████████████████████████| 1/1 [00:24<00:00, 24.47s/it]\n"
     ]
    },
    {
     "name": "stdout",
     "output_type": "stream",
     "text": [
      "Estimation for 0.21000000000000002 and 0.13 done\n",
      "It took: 24.59805417060852 seconds.\n",
      "[0.22784033540100013, 0.1519960632920001, 0.11879097076500009, 0.1768049714760001, 0.32456765906500024]\n"
     ]
    },
    {
     "name": "stderr",
     "output_type": "stream",
     "text": [
      "Initial filtering of formulas: 100%|█████████████| 5/5 [00:00<00:00, 137.24it/s]\n",
      "Computing chunks: 100%|████████████████████████| 5/5 [00:00<00:00, 59241.58it/s]\n",
      "Splitting the experimental spectrum into chunks: 27129it [00:00, 2148997.59it/s]\n",
      "Deconvolving chunks: 100%|████████████████████████| 1/1 [00:17<00:00, 17.64s/it]\n"
     ]
    },
    {
     "name": "stdout",
     "output_type": "stream",
     "text": [
      "Estimation for 0.21000000000000002 and 0.14 done\n",
      "It took: 17.73708939552307 seconds.\n",
      "[0.22785092688500014, 0.15205401439700011, 0.11888470730900008, 0.17673466250700012, 0.32447568890200024]\n"
     ]
    },
    {
     "name": "stderr",
     "output_type": "stream",
     "text": [
      "Initial filtering of formulas: 100%|█████████████| 5/5 [00:00<00:00, 231.98it/s]\n",
      "Computing chunks: 100%|███████████████████████| 5/5 [00:00<00:00, 131896.35it/s]\n",
      "Splitting the experimental spectrum into chunks: 27129it [00:00, 2400423.46it/s]\n",
      "Deconvolving chunks: 100%|████████████████████████| 1/1 [00:17<00:00, 17.28s/it]\n"
     ]
    },
    {
     "name": "stdout",
     "output_type": "stream",
     "text": [
      "Estimation for 0.21000000000000002 and 0.15000000000000002 done\n",
      "It took: 17.3564293384552 seconds.\n",
      "[0.22787256685500015, 0.15210606437800012, 0.11896650278300008, 0.1766644126840001, 0.32439045330100025]\n"
     ]
    },
    {
     "name": "stderr",
     "output_type": "stream",
     "text": [
      "Initial filtering of formulas: 100%|█████████████| 5/5 [00:00<00:00, 220.26it/s]\n",
      "Computing chunks: 100%|███████████████████████| 5/5 [00:00<00:00, 117817.53it/s]\n",
      "Splitting the experimental spectrum into chunks: 27129it [00:00, 2229418.16it/s]\n",
      "Deconvolving chunks: 100%|████████████████████████| 1/1 [00:18<00:00, 18.41s/it]\n"
     ]
    },
    {
     "name": "stdout",
     "output_type": "stream",
     "text": [
      "Estimation for 0.21000000000000002 and 0.16 done\n",
      "It took: 18.498021841049194 seconds.\n",
      "[0.22788341798300013, 0.1521508221640001, 0.11904964934400009, 0.17656052551400012, 0.3243555849950002]\n"
     ]
    },
    {
     "name": "stderr",
     "output_type": "stream",
     "text": [
      "Initial filtering of formulas: 100%|█████████████| 5/5 [00:00<00:00, 197.80it/s]\n",
      "Computing chunks: 100%|████████████████████████| 5/5 [00:00<00:00, 62415.24it/s]\n",
      "Splitting the experimental spectrum into chunks: 27129it [00:00, 2076902.79it/s]\n",
      "Deconvolving chunks: 100%|████████████████████████| 1/1 [00:31<00:00, 31.23s/it]\n"
     ]
    },
    {
     "name": "stdout",
     "output_type": "stream",
     "text": [
      "Estimation for 0.21000000000000002 and 0.17 done\n",
      "It took: 31.314900875091553 seconds.\n",
      "[0.22787621375700015, 0.15217248439100012, 0.11912340125600009, 0.17645452118800012, 0.32437337940700023]\n"
     ]
    },
    {
     "name": "stderr",
     "output_type": "stream",
     "text": [
      "Initial filtering of formulas: 100%|█████████████| 5/5 [00:00<00:00, 159.97it/s]\n",
      "Computing chunks: 100%|████████████████████████| 5/5 [00:00<00:00, 68534.38it/s]\n",
      "Splitting the experimental spectrum into chunks: 27129it [00:00, 1532385.34it/s]\n",
      "Deconvolving chunks: 100%|████████████████████████| 1/1 [00:23<00:00, 23.36s/it]\n"
     ]
    },
    {
     "name": "stdout",
     "output_type": "stream",
     "text": [
      "Estimation for 0.21000000000000002 and 0.18000000000000002 done\n",
      "It took: 23.45988154411316 seconds.\n",
      "[0.22783150985400014, 0.1522134155370001, 0.11917947778200008, 0.17641476749000012, 0.32436082933600024]\n"
     ]
    },
    {
     "name": "stderr",
     "output_type": "stream",
     "text": [
      "Initial filtering of formulas: 100%|█████████████| 5/5 [00:00<00:00, 128.05it/s]\n",
      "Computing chunks: 100%|████████████████████████| 5/5 [00:00<00:00, 63937.56it/s]\n",
      "Splitting the experimental spectrum into chunks: 27129it [00:00, 1220474.44it/s]\n",
      "Deconvolving chunks: 100%|████████████████████████| 1/1 [00:18<00:00, 18.92s/it]\n"
     ]
    },
    {
     "name": "stdout",
     "output_type": "stream",
     "text": [
      "Estimation for 0.21000000000000002 and 0.19 done\n",
      "It took: 19.036296606063843 seconds.\n",
      "[0.22780306398700015, 0.1522326516930001, 0.11922764354200008, 0.1763266389200001, 0.3244100018570002]\n"
     ]
    },
    {
     "name": "stderr",
     "output_type": "stream",
     "text": [
      "Initial filtering of formulas: 100%|█████████████| 5/5 [00:00<00:00, 198.40it/s]\n",
      "Computing chunks: 100%|████████████████████████| 5/5 [00:00<00:00, 48998.88it/s]\n",
      "Splitting the experimental spectrum into chunks: 27129it [00:00, 1951821.22it/s]\n",
      "Deconvolving chunks: 100%|████████████████████████| 1/1 [00:19<00:00, 19.08s/it]\n"
     ]
    },
    {
     "name": "stdout",
     "output_type": "stream",
     "text": [
      "Estimation for 0.21000000000000002 and 0.2 done\n",
      "It took: 19.1822772026062 seconds.\n",
      "[0.22776246757900015, 0.1522477878570001, 0.11926837176200009, 0.1762298060690001, 0.32449156673200025]\n"
     ]
    },
    {
     "name": "stderr",
     "output_type": "stream",
     "text": [
      "Initial filtering of formulas: 100%|█████████████| 5/5 [00:00<00:00, 188.04it/s]\n",
      "Computing chunks: 100%|████████████████████████| 5/5 [00:00<00:00, 66156.21it/s]\n",
      "Splitting the experimental spectrum into chunks: 27129it [00:00, 1828524.86it/s]\n",
      "Deconvolving chunks: 100%|████████████████████████| 1/1 [00:16<00:00, 16.59s/it]\n"
     ]
    },
    {
     "name": "stdout",
     "output_type": "stream",
     "text": [
      "Estimation for 0.21000000000000002 and 0.21000000000000002 done\n",
      "It took: 16.68096661567688 seconds.\n",
      "[0.22773573701700014, 0.15222751912300012, 0.11930434740600009, 0.1761614202980001, 0.32457097615500025]\n"
     ]
    },
    {
     "name": "stderr",
     "output_type": "stream",
     "text": [
      "Initial filtering of formulas: 100%|█████████████| 5/5 [00:00<00:00, 236.20it/s]\n",
      "Computing chunks: 100%|███████████████████████| 5/5 [00:00<00:00, 124830.48it/s]\n",
      "Splitting the experimental spectrum into chunks: 27129it [00:00, 2502028.96it/s]\n",
      "Deconvolving chunks: 100%|████████████████████████| 1/1 [00:16<00:00, 16.12s/it]\n"
     ]
    },
    {
     "name": "stdout",
     "output_type": "stream",
     "text": [
      "Estimation for 0.21000000000000002 and 0.22 done\n",
      "It took: 16.1935076713562 seconds.\n",
      "[0.22771710047500013, 0.1522124115860001, 0.11933757262300008, 0.1761144221920001, 0.3246184931240002]\n"
     ]
    },
    {
     "name": "stderr",
     "output_type": "stream",
     "text": [
      "Initial filtering of formulas: 100%|█████████████| 5/5 [00:00<00:00, 111.73it/s]\n",
      "Computing chunks: 100%|████████████████████████| 5/5 [00:00<00:00, 70611.18it/s]\n",
      "Splitting the experimental spectrum into chunks: 27129it [00:00, 1634029.43it/s]\n",
      "Deconvolving chunks: 100%|████████████████████████| 1/1 [00:23<00:00, 23.24s/it]\n"
     ]
    },
    {
     "name": "stdout",
     "output_type": "stream",
     "text": [
      "Estimation for 0.21000000000000002 and 0.23 done\n",
      "It took: 23.359461307525635 seconds.\n",
      "[0.22770731212400014, 0.1522078328980001, 0.11937316477800008, 0.1760150523690001, 0.3246966378310002]\n"
     ]
    },
    {
     "name": "stderr",
     "output_type": "stream",
     "text": [
      "Initial filtering of formulas: 100%|█████████████| 5/5 [00:00<00:00, 205.74it/s]\n",
      "Computing chunks: 100%|████████████████████████| 5/5 [00:00<00:00, 27666.91it/s]\n",
      "Splitting the experimental spectrum into chunks: 27129it [00:00, 2123966.80it/s]\n",
      "Deconvolving chunks: 100%|████████████████████████| 1/1 [00:15<00:00, 15.66s/it]\n"
     ]
    },
    {
     "name": "stdout",
     "output_type": "stream",
     "text": [
      "Estimation for 0.21000000000000002 and 0.24000000000000002 done\n",
      "It took: 15.73689579963684 seconds.\n",
      "[0.22770803335500014, 0.1521777697000001, 0.11940912418000009, 0.1759238086870001, 0.3247812640770002]\n"
     ]
    },
    {
     "name": "stderr",
     "output_type": "stream",
     "text": [
      "Initial filtering of formulas: 100%|█████████████| 5/5 [00:00<00:00, 261.18it/s]\n",
      "Computing chunks: 100%|████████████████████████| 5/5 [00:00<00:00, 71331.70it/s]\n",
      "Splitting the experimental spectrum into chunks: 27129it [00:00, 2426633.54it/s]\n",
      "Deconvolving chunks: 100%|████████████████████████| 1/1 [00:14<00:00, 14.25s/it]\n"
     ]
    },
    {
     "name": "stdout",
     "output_type": "stream",
     "text": [
      "Estimation for 0.21000000000000002 and 0.25 done\n",
      "It took: 14.321741342544556 seconds.\n",
      "[0.22772886180200014, 0.1521818492400001, 0.11946644571500008, 0.1758593706820001, 0.3247634725620002]\n"
     ]
    },
    {
     "name": "stderr",
     "output_type": "stream",
     "text": [
      "Initial filtering of formulas: 100%|█████████████| 5/5 [00:00<00:00, 244.69it/s]\n",
      "Computing chunks: 100%|████████████████████████| 5/5 [00:00<00:00, 80350.65it/s]\n",
      "Splitting the experimental spectrum into chunks: 27129it [00:00, 2235155.05it/s]\n",
      "Deconvolving chunks: 100%|████████████████████████| 1/1 [00:14<00:00, 14.95s/it]\n"
     ]
    },
    {
     "name": "stdout",
     "output_type": "stream",
     "text": [
      "Estimation for 0.21000000000000002 and 0.26 done\n",
      "It took: 15.024505138397217 seconds.\n",
      "[0.22782544344600014, 0.15216589354000012, 0.11951817571300008, 0.17573884799600012, 0.3247516393040002]\n"
     ]
    },
    {
     "name": "stderr",
     "output_type": "stream",
     "text": [
      "Initial filtering of formulas: 100%|█████████████| 5/5 [00:00<00:00, 203.42it/s]\n",
      "Computing chunks: 100%|████████████████████████| 5/5 [00:00<00:00, 93206.76it/s]\n",
      "Splitting the experimental spectrum into chunks: 27129it [00:00, 2223102.40it/s]\n",
      "Deconvolving chunks: 100%|████████████████████████| 1/1 [00:19<00:00, 19.91s/it]\n"
     ]
    },
    {
     "name": "stdout",
     "output_type": "stream",
     "text": [
      "Estimation for 0.21000000000000002 and 0.27 done\n",
      "It took: 19.999258041381836 seconds.\n",
      "[0.22791411451500013, 0.1521715697220001, 0.11956562842200008, 0.1756237865650001, 0.32472490077600025]\n"
     ]
    },
    {
     "name": "stderr",
     "output_type": "stream",
     "text": [
      "Initial filtering of formulas: 100%|█████████████| 5/5 [00:00<00:00, 223.59it/s]\n",
      "Computing chunks: 100%|████████████████████████| 5/5 [00:00<00:00, 56987.83it/s]\n",
      "Splitting the experimental spectrum into chunks: 27129it [00:00, 1541686.74it/s]\n",
      "Deconvolving chunks: 100%|████████████████████████| 1/1 [00:16<00:00, 16.59s/it]\n"
     ]
    },
    {
     "name": "stdout",
     "output_type": "stream",
     "text": [
      "Estimation for 0.21000000000000002 and 0.28 done\n",
      "It took: 16.684717416763306 seconds.\n",
      "[0.22800375479400015, 0.15215051239700011, 0.11961429280000008, 0.1755478191290001, 0.32468362088000025]\n"
     ]
    },
    {
     "name": "stderr",
     "output_type": "stream",
     "text": [
      "Initial filtering of formulas: 100%|█████████████| 5/5 [00:00<00:00, 245.02it/s]\n",
      "Computing chunks: 100%|███████████████████████| 5/5 [00:00<00:00, 188932.61it/s]\n",
      "Splitting the experimental spectrum into chunks: 27129it [00:00, 2733759.54it/s]\n",
      "Deconvolving chunks: 100%|████████████████████████| 1/1 [00:15<00:00, 15.30s/it]\n"
     ]
    },
    {
     "name": "stdout",
     "output_type": "stream",
     "text": [
      "Estimation for 0.21000000000000002 and 0.29000000000000004 done\n",
      "It took: 15.361156702041626 seconds.\n",
      "[0.22809941287700014, 0.15212366909200012, 0.11966622541100008, 0.1754658630820001, 0.3246448295380002]\n"
     ]
    },
    {
     "name": "stderr",
     "output_type": "stream",
     "text": [
      "Initial filtering of formulas: 100%|█████████████| 5/5 [00:00<00:00, 255.80it/s]\n",
      "Computing chunks: 100%|███████████████████████| 5/5 [00:00<00:00, 176231.26it/s]\n",
      "Splitting the experimental spectrum into chunks: 27129it [00:00, 2710576.08it/s]\n",
      "Deconvolving chunks: 100%|████████████████████████| 1/1 [00:17<00:00, 17.16s/it]\n"
     ]
    },
    {
     "name": "stdout",
     "output_type": "stream",
     "text": [
      "Estimation for 0.21000000000000002 and 0.3 done\n",
      "It took: 17.22931432723999 seconds.\n",
      "[0.22864911573100014, 0.1524513586720001, 0.11998010027100009, 0.1705848343790001, 0.32532353476300024]\n"
     ]
    },
    {
     "name": "stderr",
     "output_type": "stream",
     "text": [
      "Initial filtering of formulas: 100%|█████████████| 5/5 [00:00<00:00, 140.83it/s]\n",
      "Computing chunks: 100%|███████████████████████| 5/5 [00:00<00:00, 133576.56it/s]\n",
      "Splitting the experimental spectrum into chunks: 27129it [00:00, 1732185.62it/s]\n",
      "Deconvolving chunks: 100%|████████████████████████| 1/1 [00:21<00:00, 21.06s/it]\n"
     ]
    },
    {
     "name": "stdout",
     "output_type": "stream",
     "text": [
      "Estimation for 0.22 and 0.01 done\n",
      "It took: 21.16842484474182 seconds.\n",
      "[0.21755084554200013, 0.1842519119180001, 0.11203796674500006, 0.1721534951830001, 0.31400578061200024]\n"
     ]
    },
    {
     "name": "stderr",
     "output_type": "stream",
     "text": [
      "Initial filtering of formulas: 100%|█████████████| 5/5 [00:00<00:00, 136.95it/s]\n",
      "Computing chunks: 100%|████████████████████████| 5/5 [00:00<00:00, 46603.38it/s]\n",
      "Splitting the experimental spectrum into chunks: 27129it [00:00, 1763214.32it/s]\n",
      "Deconvolving chunks: 100%|████████████████████████| 1/1 [00:18<00:00, 18.94s/it]\n"
     ]
    },
    {
     "name": "stdout",
     "output_type": "stream",
     "text": [
      "Estimation for 0.22 and 0.02 done\n",
      "It took: 19.043447732925415 seconds.\n",
      "[0.22749747499800013, 0.15057183637400012, 0.11728689957200009, 0.1773559218180001, 0.32728786723800024]\n"
     ]
    },
    {
     "name": "stderr",
     "output_type": "stream",
     "text": [
      "Initial filtering of formulas: 100%|█████████████| 5/5 [00:00<00:00, 249.16it/s]\n",
      "Computing chunks: 100%|███████████████████████| 5/5 [00:00<00:00, 127875.12it/s]\n",
      "Splitting the experimental spectrum into chunks: 27129it [00:00, 2723877.85it/s]\n",
      "Deconvolving chunks: 100%|████████████████████████| 1/1 [00:15<00:00, 15.50s/it]\n"
     ]
    },
    {
     "name": "stdout",
     "output_type": "stream",
     "text": [
      "Estimation for 0.22 and 0.03 done\n",
      "It took: 15.567992687225342 seconds.\n",
      "[0.22773846947000015, 0.15085527514200012, 0.11753960541000008, 0.1770456446430001, 0.32682100533500025]\n"
     ]
    },
    {
     "name": "stderr",
     "output_type": "stream",
     "text": [
      "Initial filtering of formulas: 100%|█████████████| 5/5 [00:00<00:00, 245.97it/s]\n",
      "Computing chunks: 100%|████████████████████████| 5/5 [00:00<00:00, 40563.87it/s]\n",
      "Splitting the experimental spectrum into chunks: 27129it [00:00, 2717632.51it/s]\n",
      "Deconvolving chunks: 100%|████████████████████████| 1/1 [00:26<00:00, 26.31s/it]\n"
     ]
    },
    {
     "name": "stdout",
     "output_type": "stream",
     "text": [
      "Estimation for 0.22 and 0.04 done\n",
      "It took: 26.38543677330017 seconds.\n",
      "[0.22792690637900015, 0.15107391778000012, 0.11773124674100008, 0.17717095468800012, 0.3260969744120002]\n"
     ]
    },
    {
     "name": "stderr",
     "output_type": "stream",
     "text": [
      "Initial filtering of formulas: 100%|█████████████| 5/5 [00:00<00:00, 132.69it/s]\n",
      "Computing chunks: 100%|████████████████████████| 5/5 [00:00<00:00, 42625.04it/s]\n",
      "Splitting the experimental spectrum into chunks: 27129it [00:00, 1364863.12it/s]\n",
      "Deconvolving chunks: 100%|████████████████████████| 1/1 [00:33<00:00, 33.76s/it]\n"
     ]
    },
    {
     "name": "stdout",
     "output_type": "stream",
     "text": [
      "Estimation for 0.22 and 0.05 done\n",
      "It took: 33.912893295288086 seconds.\n",
      "[0.22800614495500013, 0.1511773893160001, 0.11784200944000009, 0.1771073672140001, 0.3258670890750002]\n"
     ]
    },
    {
     "name": "stderr",
     "output_type": "stream",
     "text": [
      "Initial filtering of formulas: 100%|█████████████| 5/5 [00:00<00:00, 207.02it/s]\n",
      "Computing chunks: 100%|████████████████████████| 5/5 [00:00<00:00, 47446.88it/s]\n",
      "Splitting the experimental spectrum into chunks: 27129it [00:00, 1986544.34it/s]\n",
      "Deconvolving chunks: 100%|████████████████████████| 1/1 [00:21<00:00, 21.39s/it]\n"
     ]
    },
    {
     "name": "stdout",
     "output_type": "stream",
     "text": [
      "Estimation for 0.22 and 0.060000000000000005 done\n",
      "It took: 21.490785360336304 seconds.\n",
      "[0.22791342622200014, 0.15134016525300012, 0.11800515032200008, 0.1772390948450001, 0.3255021633580002]\n"
     ]
    },
    {
     "name": "stderr",
     "output_type": "stream",
     "text": [
      "Initial filtering of formulas: 100%|█████████████| 5/5 [00:00<00:00, 227.89it/s]\n",
      "Computing chunks: 100%|████████████████████████| 5/5 [00:00<00:00, 98922.26it/s]\n",
      "Splitting the experimental spectrum into chunks: 27129it [00:00, 2163832.07it/s]\n",
      "Deconvolving chunks: 100%|████████████████████████| 1/1 [00:19<00:00, 19.55s/it]\n"
     ]
    },
    {
     "name": "stdout",
     "output_type": "stream",
     "text": [
      "Estimation for 0.22 and 0.06999999999999999 done\n",
      "It took: 19.636341333389282 seconds.\n",
      "[0.22785881068300015, 0.1515704520090001, 0.11822816222900008, 0.1770364514150001, 0.3253061236630002]\n"
     ]
    },
    {
     "name": "stderr",
     "output_type": "stream",
     "text": [
      "Initial filtering of formulas: 100%|█████████████| 5/5 [00:00<00:00, 212.43it/s]\n",
      "Computing chunks: 100%|███████████████████████| 5/5 [00:00<00:00, 115864.75it/s]\n",
      "Splitting the experimental spectrum into chunks: 27129it [00:00, 2018363.72it/s]\n",
      "Deconvolving chunks: 100%|████████████████████████| 1/1 [00:19<00:00, 19.51s/it]\n"
     ]
    },
    {
     "name": "stdout",
     "output_type": "stream",
     "text": [
      "Estimation for 0.22 and 0.08 done\n",
      "It took: 19.601468563079834 seconds.\n",
      "[0.22780351728000015, 0.15160544045800012, 0.11831141473700009, 0.17701688002900012, 0.32526274749700024]\n"
     ]
    },
    {
     "name": "stderr",
     "output_type": "stream",
     "text": [
      "Initial filtering of formulas: 100%|█████████████| 5/5 [00:00<00:00, 166.69it/s]\n",
      "Computing chunks: 100%|███████████████████████| 5/5 [00:00<00:00, 142663.40it/s]\n",
      "Splitting the experimental spectrum into chunks: 27129it [00:00, 2041173.77it/s]\n",
      "Deconvolving chunks: 100%|████████████████████████| 1/1 [00:20<00:00, 20.43s/it]\n"
     ]
    },
    {
     "name": "stdout",
     "output_type": "stream",
     "text": [
      "Estimation for 0.22 and 0.09 done\n",
      "It took: 20.51012945175171 seconds.\n",
      "[0.22783946788900014, 0.1516823182740001, 0.11841013928600008, 0.17697185787600012, 0.32509621667600025]\n"
     ]
    },
    {
     "name": "stderr",
     "output_type": "stream",
     "text": [
      "Initial filtering of formulas: 100%|█████████████| 5/5 [00:00<00:00, 114.48it/s]\n",
      "Computing chunks: 100%|████████████████████████| 5/5 [00:00<00:00, 27413.75it/s]\n",
      "Splitting the experimental spectrum into chunks: 27129it [00:00, 1365862.50it/s]\n",
      "Deconvolving chunks: 100%|████████████████████████| 1/1 [00:21<00:00, 21.79s/it]\n"
     ]
    },
    {
     "name": "stdout",
     "output_type": "stream",
     "text": [
      "Estimation for 0.22 and 0.09999999999999999 done\n",
      "It took: 21.944509506225586 seconds.\n",
      "[0.22779971472800015, 0.15178166800000012, 0.11852719681500008, 0.17697388810100012, 0.3249175323570002]\n"
     ]
    },
    {
     "name": "stderr",
     "output_type": "stream",
     "text": [
      "Initial filtering of formulas: 100%|█████████████| 5/5 [00:00<00:00, 260.56it/s]\n",
      "Computing chunks: 100%|████████████████████████| 5/5 [00:00<00:00, 66156.21it/s]\n",
      "Splitting the experimental spectrum into chunks: 27129it [00:00, 2318545.82it/s]\n",
      "Deconvolving chunks: 100%|████████████████████████| 1/1 [00:15<00:00, 15.21s/it]\n"
     ]
    },
    {
     "name": "stdout",
     "output_type": "stream",
     "text": [
      "Estimation for 0.22 and 0.11 done\n",
      "It took: 15.2772057056427 seconds.\n",
      "[0.22774682495400014, 0.1518660946840001, 0.11860870270100009, 0.1769868547910001, 0.32479152287000024]\n"
     ]
    },
    {
     "name": "stderr",
     "output_type": "stream",
     "text": [
      "Initial filtering of formulas: 100%|█████████████| 5/5 [00:00<00:00, 258.77it/s]\n",
      "Computing chunks: 100%|███████████████████████| 5/5 [00:00<00:00, 158875.15it/s]\n",
      "Splitting the experimental spectrum into chunks: 27129it [00:00, 2665743.78it/s]\n",
      "Deconvolving chunks: 100%|████████████████████████| 1/1 [00:14<00:00, 14.87s/it]\n"
     ]
    },
    {
     "name": "stdout",
     "output_type": "stream",
     "text": [
      "Estimation for 0.22 and 0.12 done\n",
      "It took: 14.93886113166809 seconds.\n",
      "[0.22778351470900013, 0.1519366452690001, 0.11869303255000008, 0.1769430273430001, 0.3246437801280002]\n"
     ]
    },
    {
     "name": "stderr",
     "output_type": "stream",
     "text": [
      "Initial filtering of formulas: 100%|█████████████| 5/5 [00:00<00:00, 210.47it/s]\n",
      "Computing chunks: 100%|███████████████████████| 5/5 [00:00<00:00, 123361.88it/s]\n",
      "Splitting the experimental spectrum into chunks: 27129it [00:00, 2656780.99it/s]\n",
      "Deconvolving chunks: 100%|████████████████████████| 1/1 [00:18<00:00, 18.21s/it]\n"
     ]
    },
    {
     "name": "stdout",
     "output_type": "stream",
     "text": [
      "Estimation for 0.22 and 0.13 done\n",
      "It took: 18.287729263305664 seconds.\n",
      "[0.22784033540100013, 0.1519960632920001, 0.11879097076500009, 0.1768049714760001, 0.32456765906500024]\n"
     ]
    },
    {
     "name": "stderr",
     "output_type": "stream",
     "text": [
      "Initial filtering of formulas: 100%|█████████████| 5/5 [00:00<00:00, 143.79it/s]\n",
      "Computing chunks: 100%|████████████████████████| 5/5 [00:00<00:00, 61680.94it/s]\n",
      "Splitting the experimental spectrum into chunks: 27129it [00:00, 1426638.66it/s]\n",
      "Deconvolving chunks: 100%|████████████████████████| 1/1 [00:19<00:00, 19.70s/it]\n"
     ]
    },
    {
     "name": "stdout",
     "output_type": "stream",
     "text": [
      "Estimation for 0.22 and 0.14 done\n",
      "It took: 19.806944370269775 seconds.\n",
      "[0.22785092688500014, 0.15205401439700011, 0.11888470730900008, 0.17673466250700012, 0.32447568890200024]\n"
     ]
    },
    {
     "name": "stderr",
     "output_type": "stream",
     "text": [
      "Initial filtering of formulas: 100%|█████████████| 5/5 [00:00<00:00, 228.19it/s]\n",
      "Computing chunks: 100%|████████████████████████| 5/5 [00:00<00:00, 80971.12it/s]\n",
      "Splitting the experimental spectrum into chunks: 27129it [00:00, 2457714.66it/s]\n",
      "Deconvolving chunks: 100%|████████████████████████| 1/1 [00:14<00:00, 14.26s/it]\n"
     ]
    },
    {
     "name": "stdout",
     "output_type": "stream",
     "text": [
      "Estimation for 0.22 and 0.15000000000000002 done\n",
      "It took: 14.326785802841187 seconds.\n",
      "[0.22787256685500015, 0.15210606437800012, 0.11896650278300008, 0.1766644126840001, 0.32439045330100025]\n"
     ]
    },
    {
     "name": "stderr",
     "output_type": "stream",
     "text": [
      "Initial filtering of formulas: 100%|█████████████| 5/5 [00:00<00:00, 246.49it/s]\n",
      "Computing chunks: 100%|███████████████████████| 5/5 [00:00<00:00, 113975.65it/s]\n",
      "Splitting the experimental spectrum into chunks: 27129it [00:00, 2563527.01it/s]\n",
      "Deconvolving chunks: 100%|████████████████████████| 1/1 [00:14<00:00, 14.80s/it]\n"
     ]
    },
    {
     "name": "stdout",
     "output_type": "stream",
     "text": [
      "Estimation for 0.22 and 0.16 done\n",
      "It took: 14.86810564994812 seconds.\n",
      "[0.22788341798300013, 0.1521508221640001, 0.11904964934400009, 0.17656052551400012, 0.3243555849950002]\n"
     ]
    },
    {
     "name": "stderr",
     "output_type": "stream",
     "text": [
      "Initial filtering of formulas: 100%|█████████████| 5/5 [00:00<00:00, 253.20it/s]\n",
      "Computing chunks: 100%|███████████████████████| 5/5 [00:00<00:00, 146653.99it/s]\n",
      "Splitting the experimental spectrum into chunks: 27129it [00:00, 2663559.77it/s]\n",
      "Deconvolving chunks: 100%|████████████████████████| 1/1 [00:17<00:00, 17.17s/it]\n"
     ]
    },
    {
     "name": "stdout",
     "output_type": "stream",
     "text": [
      "Estimation for 0.22 and 0.17 done\n",
      "It took: 17.235459089279175 seconds.\n",
      "[0.22787621375700015, 0.15217248439100012, 0.11912340125600009, 0.17645452118800012, 0.32437337940700023]\n"
     ]
    },
    {
     "name": "stderr",
     "output_type": "stream",
     "text": [
      "Initial filtering of formulas: 100%|█████████████| 5/5 [00:00<00:00, 214.88it/s]\n",
      "Computing chunks: 100%|███████████████████████| 5/5 [00:00<00:00, 114598.47it/s]\n",
      "Splitting the experimental spectrum into chunks: 27129it [00:00, 2234584.42it/s]\n",
      "Deconvolving chunks: 100%|████████████████████████| 1/1 [00:17<00:00, 17.78s/it]\n"
     ]
    },
    {
     "name": "stdout",
     "output_type": "stream",
     "text": [
      "Estimation for 0.22 and 0.18000000000000002 done\n",
      "It took: 17.85743761062622 seconds.\n",
      "[0.22783150985400014, 0.1522134155370001, 0.11917947778200008, 0.17641476749000012, 0.32436082933600024]\n"
     ]
    },
    {
     "name": "stderr",
     "output_type": "stream",
     "text": [
      "Initial filtering of formulas: 100%|█████████████| 5/5 [00:00<00:00, 210.86it/s]\n",
      "Computing chunks: 100%|████████████████████████| 5/5 [00:00<00:00, 58579.66it/s]\n",
      "Splitting the experimental spectrum into chunks: 27129it [00:00, 1390549.48it/s]\n",
      "Deconvolving chunks: 100%|████████████████████████| 1/1 [00:16<00:00, 16.05s/it]\n"
     ]
    },
    {
     "name": "stdout",
     "output_type": "stream",
     "text": [
      "Estimation for 0.22 and 0.19 done\n",
      "It took: 16.137139320373535 seconds.\n",
      "[0.22780306398700015, 0.1522326516930001, 0.11922764354200008, 0.1763266389200001, 0.3244100018570002]\n"
     ]
    },
    {
     "name": "stderr",
     "output_type": "stream",
     "text": [
      "Initial filtering of formulas: 100%|█████████████| 5/5 [00:00<00:00, 227.24it/s]\n",
      "Computing chunks: 100%|████████████████████████| 5/5 [00:00<00:00, 73584.28it/s]\n",
      "Splitting the experimental spectrum into chunks: 27129it [00:00, 2577696.88it/s]\n",
      "Deconvolving chunks: 100%|████████████████████████| 1/1 [00:15<00:00, 15.46s/it]\n"
     ]
    },
    {
     "name": "stdout",
     "output_type": "stream",
     "text": [
      "Estimation for 0.22 and 0.2 done\n",
      "It took: 15.532131671905518 seconds.\n",
      "[0.22776246757900015, 0.1522477878570001, 0.11926837176200009, 0.1762298060690001, 0.32449156673200025]\n"
     ]
    },
    {
     "name": "stderr",
     "output_type": "stream",
     "text": [
      "Initial filtering of formulas: 100%|█████████████| 5/5 [00:00<00:00, 248.57it/s]\n",
      "Computing chunks: 100%|███████████████████████| 5/5 [00:00<00:00, 142663.40it/s]\n",
      "Splitting the experimental spectrum into chunks: 27129it [00:00, 2621826.57it/s]\n",
      "Deconvolving chunks: 100%|████████████████████████| 1/1 [00:15<00:00, 15.27s/it]\n"
     ]
    },
    {
     "name": "stdout",
     "output_type": "stream",
     "text": [
      "Estimation for 0.22 and 0.21000000000000002 done\n",
      "It took: 15.334855556488037 seconds.\n",
      "[0.22773573701700014, 0.15222751912300012, 0.11930434740600009, 0.1761614202980001, 0.32457097615500025]\n"
     ]
    },
    {
     "name": "stderr",
     "output_type": "stream",
     "text": [
      "Initial filtering of formulas: 100%|█████████████| 5/5 [00:00<00:00, 145.39it/s]\n",
      "Computing chunks: 100%|███████████████████████| 5/5 [00:00<00:00, 111550.64it/s]\n",
      "Splitting the experimental spectrum into chunks: 27129it [00:00, 2246584.79it/s]\n",
      "Deconvolving chunks: 100%|████████████████████████| 1/1 [00:23<00:00, 23.57s/it]\n"
     ]
    },
    {
     "name": "stdout",
     "output_type": "stream",
     "text": [
      "Estimation for 0.22 and 0.22 done\n",
      "It took: 23.68108034133911 seconds.\n",
      "[0.22771710009600013, 0.1522124113910001, 0.11933745204700008, 0.17611454357600012, 0.32461849288900024]\n"
     ]
    },
    {
     "name": "stderr",
     "output_type": "stream",
     "text": [
      "Initial filtering of formulas: 100%|█████████████| 5/5 [00:00<00:00, 117.93it/s]\n",
      "Computing chunks: 100%|████████████████████████| 5/5 [00:00<00:00, 25358.55it/s]\n",
      "Splitting the experimental spectrum into chunks: 27129it [00:00, 1355320.33it/s]\n",
      "Deconvolving chunks: 100%|████████████████████████| 1/1 [00:29<00:00, 29.56s/it]\n"
     ]
    },
    {
     "name": "stdout",
     "output_type": "stream",
     "text": [
      "Estimation for 0.22 and 0.23 done\n",
      "It took: 29.713456869125366 seconds.\n",
      "[0.22770747215200013, 0.15220767635400012, 0.11937316464300009, 0.1760150500970001, 0.32469663675400023]\n"
     ]
    },
    {
     "name": "stderr",
     "output_type": "stream",
     "text": [
      "Initial filtering of formulas: 100%|█████████████| 5/5 [00:00<00:00, 107.92it/s]\n",
      "Computing chunks: 100%|████████████████████████| 5/5 [00:00<00:00, 23994.87it/s]\n",
      "Splitting the experimental spectrum into chunks: 27129it [00:00, 1123713.94it/s]\n",
      "Deconvolving chunks: 100%|████████████████████████| 1/1 [00:26<00:00, 26.45s/it]\n"
     ]
    },
    {
     "name": "stdout",
     "output_type": "stream",
     "text": [
      "Estimation for 0.22 and 0.24000000000000002 done\n",
      "It took: 26.61398673057556 seconds.\n",
      "[0.22770803335500014, 0.1521777697000001, 0.11940912418000009, 0.1759238086870001, 0.3247812640770002]\n"
     ]
    },
    {
     "name": "stderr",
     "output_type": "stream",
     "text": [
      "Initial filtering of formulas: 100%|█████████████| 5/5 [00:00<00:00, 149.53it/s]\n",
      "Computing chunks: 100%|████████████████████████| 5/5 [00:00<00:00, 34267.19it/s]\n",
      "Splitting the experimental spectrum into chunks: 27129it [00:00, 1733769.21it/s]\n",
      "Deconvolving chunks: 100%|████████████████████████| 1/1 [00:17<00:00, 17.78s/it]\n"
     ]
    },
    {
     "name": "stdout",
     "output_type": "stream",
     "text": [
      "Estimation for 0.22 and 0.25 done\n",
      "It took: 17.905891180038452 seconds.\n",
      "[0.22772886180200014, 0.1521818492400001, 0.11946644571500008, 0.1758593706820001, 0.3247634725620002]\n"
     ]
    },
    {
     "name": "stderr",
     "output_type": "stream",
     "text": [
      "Initial filtering of formulas: 100%|█████████████| 5/5 [00:00<00:00, 101.12it/s]\n",
      "Computing chunks: 100%|████████████████████████| 5/5 [00:00<00:00, 61500.06it/s]\n",
      "Splitting the experimental spectrum into chunks: 27129it [00:00, 2011122.03it/s]\n",
      "Deconvolving chunks: 100%|████████████████████████| 1/1 [00:18<00:00, 18.04s/it]\n"
     ]
    },
    {
     "name": "stdout",
     "output_type": "stream",
     "text": [
      "Estimation for 0.22 and 0.26 done\n",
      "It took: 18.16531014442444 seconds.\n",
      "[0.22782544344600014, 0.15216589354000012, 0.11951817571300008, 0.17573884799600012, 0.3247516393040002]\n"
     ]
    },
    {
     "name": "stderr",
     "output_type": "stream",
     "text": [
      "Initial filtering of formulas: 100%|█████████████| 5/5 [00:00<00:00, 211.02it/s]\n",
      "Computing chunks: 100%|████████████████████████| 5/5 [00:00<00:00, 48433.07it/s]\n",
      "Splitting the experimental spectrum into chunks: 27129it [00:00, 1505043.03it/s]\n",
      "Deconvolving chunks: 100%|████████████████████████| 1/1 [00:17<00:00, 17.24s/it]\n"
     ]
    },
    {
     "name": "stdout",
     "output_type": "stream",
     "text": [
      "Estimation for 0.22 and 0.27 done\n",
      "It took: 17.332499742507935 seconds.\n",
      "[0.22791411451500013, 0.1521715697220001, 0.11956562842200008, 0.1756237865650001, 0.32472490077600025]\n"
     ]
    },
    {
     "name": "stderr",
     "output_type": "stream",
     "text": [
      "Initial filtering of formulas: 100%|█████████████| 5/5 [00:00<00:00, 222.65it/s]\n",
      "Computing chunks: 100%|████████████████████████| 5/5 [00:00<00:00, 57614.07it/s]\n",
      "Splitting the experimental spectrum into chunks: 27129it [00:00, 1375787.70it/s]\n",
      "Deconvolving chunks: 100%|████████████████████████| 1/1 [00:22<00:00, 22.35s/it]\n"
     ]
    },
    {
     "name": "stdout",
     "output_type": "stream",
     "text": [
      "Estimation for 0.22 and 0.28 done\n",
      "It took: 22.43822741508484 seconds.\n",
      "[0.22800375479400015, 0.15215051239700011, 0.11961429280000008, 0.1755478191290001, 0.32468362088000025]\n"
     ]
    },
    {
     "name": "stderr",
     "output_type": "stream",
     "text": [
      "Initial filtering of formulas: 100%|█████████████| 5/5 [00:00<00:00, 234.46it/s]\n",
      "Computing chunks: 100%|███████████████████████| 5/5 [00:00<00:00, 110960.42it/s]\n",
      "Splitting the experimental spectrum into chunks: 27129it [00:00, 2326367.21it/s]\n",
      "Deconvolving chunks: 100%|████████████████████████| 1/1 [00:23<00:00, 23.15s/it]\n"
     ]
    },
    {
     "name": "stdout",
     "output_type": "stream",
     "text": [
      "Estimation for 0.22 and 0.29000000000000004 done\n",
      "It took: 23.233744144439697 seconds.\n",
      "[0.22809941287700014, 0.15212366909200012, 0.11966622541100008, 0.1754658630820001, 0.3246448295380002]\n"
     ]
    },
    {
     "name": "stderr",
     "output_type": "stream",
     "text": [
      "Initial filtering of formulas: 100%|█████████████| 5/5 [00:00<00:00, 128.57it/s]\n",
      "Computing chunks: 100%|████████████████████████| 5/5 [00:00<00:00, 51025.60it/s]\n",
      "Splitting the experimental spectrum into chunks: 27129it [00:00, 1341910.17it/s]\n",
      "Deconvolving chunks: 100%|████████████████████████| 1/1 [00:16<00:00, 16.44s/it]\n"
     ]
    },
    {
     "name": "stdout",
     "output_type": "stream",
     "text": [
      "Estimation for 0.22 and 0.3 done\n",
      "It took: 16.577560901641846 seconds.\n",
      "[0.22815864652600013, 0.1521179926380001, 0.11970635970500008, 0.1753981384460001, 0.3246188626840002]\n"
     ]
    },
    {
     "name": "stderr",
     "output_type": "stream",
     "text": [
      "Initial filtering of formulas: 100%|█████████████| 5/5 [00:00<00:00, 246.39it/s]\n",
      "Computing chunks: 100%|███████████████████████| 5/5 [00:00<00:00, 117159.33it/s]\n",
      "Splitting the experimental spectrum into chunks: 27129it [00:00, 2583608.22it/s]\n",
      "Deconvolving chunks: 100%|████████████████████████| 1/1 [00:16<00:00, 16.68s/it]\n"
     ]
    },
    {
     "name": "stdout",
     "output_type": "stream",
     "text": [
      "Estimation for 0.23 and 0.01 done\n",
      "It took: 16.74552607536316 seconds.\n",
      "[0.21755084554200013, 0.1842519119180001, 0.11203796674500006, 0.1721534951830001, 0.31400578061200024]\n"
     ]
    },
    {
     "name": "stderr",
     "output_type": "stream",
     "text": [
      "Initial filtering of formulas: 100%|█████████████| 5/5 [00:00<00:00, 242.68it/s]\n",
      "Computing chunks: 100%|███████████████████████| 5/5 [00:00<00:00, 173318.35it/s]\n",
      "Splitting the experimental spectrum into chunks: 27129it [00:00, 2491783.06it/s]\n",
      "Deconvolving chunks: 100%|████████████████████████| 1/1 [00:16<00:00, 16.83s/it]\n"
     ]
    },
    {
     "name": "stdout",
     "output_type": "stream",
     "text": [
      "Estimation for 0.23 and 0.02 done\n",
      "It took: 16.892894506454468 seconds.\n",
      "[0.22749747499800013, 0.15057183637400012, 0.11728689957200009, 0.1773559218180001, 0.32728786723800024]\n"
     ]
    },
    {
     "name": "stderr",
     "output_type": "stream",
     "text": [
      "Initial filtering of formulas: 100%|█████████████| 5/5 [00:00<00:00, 197.48it/s]\n",
      "Computing chunks: 100%|███████████████████████| 5/5 [00:00<00:00, 102801.57it/s]\n",
      "Splitting the experimental spectrum into chunks: 27129it [00:00, 2538364.67it/s]\n",
      "Deconvolving chunks: 100%|████████████████████████| 1/1 [00:19<00:00, 19.31s/it]\n"
     ]
    },
    {
     "name": "stdout",
     "output_type": "stream",
     "text": [
      "Estimation for 0.23 and 0.03 done\n",
      "It took: 19.389285802841187 seconds.\n",
      "[0.22773846947000015, 0.15085527514200012, 0.11753960541000008, 0.1770456446430001, 0.32682100533500025]\n"
     ]
    },
    {
     "name": "stderr",
     "output_type": "stream",
     "text": [
      "Initial filtering of formulas: 100%|█████████████| 5/5 [00:00<00:00, 198.27it/s]\n",
      "Computing chunks: 100%|████████████████████████| 5/5 [00:00<00:00, 50901.75it/s]\n",
      "Splitting the experimental spectrum into chunks: 27129it [00:00, 1918679.25it/s]\n",
      "Deconvolving chunks: 100%|████████████████████████| 1/1 [00:15<00:00, 15.62s/it]\n"
     ]
    },
    {
     "name": "stdout",
     "output_type": "stream",
     "text": [
      "Estimation for 0.23 and 0.04 done\n",
      "It took: 15.722288608551025 seconds.\n",
      "[0.22792690637900015, 0.15107391778000012, 0.11773124674100008, 0.17717095468800012, 0.3260969744120002]\n"
     ]
    },
    {
     "name": "stderr",
     "output_type": "stream",
     "text": [
      "Initial filtering of formulas: 100%|█████████████| 5/5 [00:00<00:00, 199.56it/s]\n",
      "Computing chunks: 100%|████████████████████████| 5/5 [00:00<00:00, 61500.06it/s]\n",
      "Splitting the experimental spectrum into chunks: 27129it [00:00, 2156532.36it/s]\n",
      "Deconvolving chunks: 100%|████████████████████████| 1/1 [00:16<00:00, 16.66s/it]\n"
     ]
    },
    {
     "name": "stdout",
     "output_type": "stream",
     "text": [
      "Estimation for 0.23 and 0.05 done\n",
      "It took: 16.737919807434082 seconds.\n",
      "[0.22800614495500013, 0.1511773893160001, 0.11784200944000009, 0.1771073672140001, 0.3258670890750002]\n"
     ]
    },
    {
     "name": "stderr",
     "output_type": "stream",
     "text": [
      "Initial filtering of formulas: 100%|█████████████| 5/5 [00:00<00:00, 247.18it/s]\n",
      "Computing chunks: 100%|███████████████████████| 5/5 [00:00<00:00, 149796.57it/s]\n",
      "Splitting the experimental spectrum into chunks: 27129it [00:00, 2641056.38it/s]\n",
      "Deconvolving chunks: 100%|████████████████████████| 1/1 [00:18<00:00, 18.92s/it]\n"
     ]
    },
    {
     "name": "stdout",
     "output_type": "stream",
     "text": [
      "Estimation for 0.23 and 0.060000000000000005 done\n",
      "It took: 18.98415493965149 seconds.\n",
      "[0.22791342622200014, 0.15134016525300012, 0.11800515032200008, 0.1772390948450001, 0.3255021633580002]\n"
     ]
    },
    {
     "name": "stderr",
     "output_type": "stream",
     "text": [
      "Initial filtering of formulas: 100%|█████████████| 5/5 [00:00<00:00, 239.34it/s]\n",
      "Computing chunks: 100%|████████████████████████| 5/5 [00:00<00:00, 84222.97it/s]\n",
      "Splitting the experimental spectrum into chunks: 27129it [00:00, 2541142.37it/s]\n",
      "Deconvolving chunks: 100%|████████████████████████| 1/1 [00:18<00:00, 18.79s/it]\n"
     ]
    },
    {
     "name": "stdout",
     "output_type": "stream",
     "text": [
      "Estimation for 0.23 and 0.06999999999999999 done\n",
      "It took: 18.85715413093567 seconds.\n",
      "[0.22785881068300015, 0.1515704520090001, 0.11822816222900008, 0.1770364514150001, 0.3253061236630002]\n"
     ]
    },
    {
     "name": "stderr",
     "output_type": "stream",
     "text": [
      "Initial filtering of formulas: 100%|█████████████| 5/5 [00:00<00:00, 236.65it/s]\n",
      "Computing chunks: 100%|████████████████████████| 5/5 [00:00<00:00, 63937.56it/s]\n",
      "Splitting the experimental spectrum into chunks: 27129it [00:00, 1716015.52it/s]\n",
      "Deconvolving chunks: 100%|████████████████████████| 1/1 [00:15<00:00, 15.75s/it]\n"
     ]
    },
    {
     "name": "stdout",
     "output_type": "stream",
     "text": [
      "Estimation for 0.23 and 0.08 done\n",
      "It took: 15.832020044326782 seconds.\n",
      "[0.22780351728000015, 0.15160544045800012, 0.11831141473700009, 0.17701688002900012, 0.32526274749700024]\n"
     ]
    },
    {
     "name": "stderr",
     "output_type": "stream",
     "text": [
      "Initial filtering of formulas: 100%|█████████████| 5/5 [00:00<00:00, 258.09it/s]\n",
      "Computing chunks: 100%|███████████████████████| 5/5 [00:00<00:00, 180788.97it/s]\n",
      "Splitting the experimental spectrum into chunks: 27129it [00:00, 2787332.46it/s]\n",
      "Deconvolving chunks: 100%|████████████████████████| 1/1 [00:15<00:00, 15.86s/it]\n"
     ]
    },
    {
     "name": "stdout",
     "output_type": "stream",
     "text": [
      "Estimation for 0.23 and 0.09 done\n",
      "It took: 15.91924262046814 seconds.\n",
      "[0.22783946788900014, 0.1516823182740001, 0.11841013928600008, 0.17697185787600012, 0.32509621667600025]\n"
     ]
    },
    {
     "name": "stderr",
     "output_type": "stream",
     "text": [
      "Initial filtering of formulas: 100%|█████████████| 5/5 [00:00<00:00, 265.13it/s]\n",
      "Computing chunks: 100%|███████████████████████| 5/5 [00:00<00:00, 173318.35it/s]\n",
      "Splitting the experimental spectrum into chunks: 27129it [00:00, 2748750.44it/s]\n",
      "Deconvolving chunks: 100%|████████████████████████| 1/1 [00:17<00:00, 17.46s/it]\n"
     ]
    },
    {
     "name": "stdout",
     "output_type": "stream",
     "text": [
      "Estimation for 0.23 and 0.09999999999999999 done\n",
      "It took: 17.52370595932007 seconds.\n",
      "[0.22779881892800014, 0.15178184622400012, 0.11852733117800009, 0.17697409719400012, 0.3249179064770002]\n"
     ]
    },
    {
     "name": "stderr",
     "output_type": "stream",
     "text": [
      "Initial filtering of formulas: 100%|█████████████| 5/5 [00:00<00:00, 193.06it/s]\n",
      "Computing chunks: 100%|████████████████████████| 5/5 [00:00<00:00, 60090.32it/s]\n",
      "Splitting the experimental spectrum into chunks: 27129it [00:00, 1908221.92it/s]\n",
      "Deconvolving chunks: 100%|████████████████████████| 1/1 [00:20<00:00, 20.11s/it]\n"
     ]
    },
    {
     "name": "stdout",
     "output_type": "stream",
     "text": [
      "Estimation for 0.23 and 0.11 done\n",
      "It took: 20.19939088821411 seconds.\n",
      "[0.22774682495400014, 0.1518660946840001, 0.11860870270100009, 0.1769868547910001, 0.32479152287000024]\n"
     ]
    },
    {
     "name": "stderr",
     "output_type": "stream",
     "text": [
      "Initial filtering of formulas: 100%|█████████████| 5/5 [00:00<00:00, 210.40it/s]\n",
      "Computing chunks: 100%|███████████████████████| 5/5 [00:00<00:00, 166440.63it/s]\n",
      "Splitting the experimental spectrum into chunks: 27129it [00:00, 2539101.02it/s]\n",
      "Deconvolving chunks: 100%|████████████████████████| 1/1 [00:21<00:00, 21.49s/it]\n"
     ]
    },
    {
     "name": "stdout",
     "output_type": "stream",
     "text": [
      "Estimation for 0.23 and 0.12 done\n",
      "It took: 21.564804792404175 seconds.\n",
      "[0.22778351470900013, 0.1519366452690001, 0.11869303255000008, 0.1769430273430001, 0.3246437801280002]\n"
     ]
    },
    {
     "name": "stderr",
     "output_type": "stream",
     "text": [
      "Initial filtering of formulas: 100%|█████████████| 5/5 [00:00<00:00, 217.06it/s]\n",
      "Computing chunks: 100%|████████████████████████| 5/5 [00:00<00:00, 88862.37it/s]\n",
      "Splitting the experimental spectrum into chunks: 27129it [00:00, 2033622.38it/s]\n",
      "Deconvolving chunks: 100%|████████████████████████| 1/1 [00:19<00:00, 19.32s/it]\n"
     ]
    },
    {
     "name": "stdout",
     "output_type": "stream",
     "text": [
      "Estimation for 0.23 and 0.13 done\n",
      "It took: 19.40527105331421 seconds.\n",
      "[0.22784033540100013, 0.1519960632920001, 0.11879097076500009, 0.1768049714760001, 0.32456765906500024]\n"
     ]
    },
    {
     "name": "stderr",
     "output_type": "stream",
     "text": [
      "Initial filtering of formulas: 100%|█████████████| 5/5 [00:00<00:00, 185.61it/s]\n",
      "Computing chunks: 100%|████████████████████████| 5/5 [00:00<00:00, 78251.94it/s]\n",
      "Splitting the experimental spectrum into chunks: 27129it [00:00, 2026956.79it/s]\n",
      "Deconvolving chunks: 100%|████████████████████████| 1/1 [00:17<00:00, 17.66s/it]\n"
     ]
    },
    {
     "name": "stdout",
     "output_type": "stream",
     "text": [
      "Estimation for 0.23 and 0.14 done\n",
      "It took: 17.748800039291382 seconds.\n",
      "[0.22785092688500014, 0.15205401439700011, 0.11888470730900008, 0.17673466250700012, 0.32447568890200024]\n"
     ]
    },
    {
     "name": "stderr",
     "output_type": "stream",
     "text": [
      "Initial filtering of formulas: 100%|█████████████| 5/5 [00:00<00:00, 233.95it/s]\n",
      "Computing chunks: 100%|████████████████████████| 5/5 [00:00<00:00, 88487.43it/s]\n",
      "Splitting the experimental spectrum into chunks: 27129it [00:00, 2430365.31it/s]\n",
      "Deconvolving chunks: 100%|████████████████████████| 1/1 [00:21<00:00, 21.76s/it]\n"
     ]
    },
    {
     "name": "stdout",
     "output_type": "stream",
     "text": [
      "Estimation for 0.23 and 0.15000000000000002 done\n",
      "It took: 21.842052459716797 seconds.\n",
      "[0.22787256685500015, 0.15210606437800012, 0.11896650278300008, 0.1766644126840001, 0.32439045330100025]\n"
     ]
    },
    {
     "name": "stderr",
     "output_type": "stream",
     "text": [
      "Initial filtering of formulas: 100%|█████████████| 5/5 [00:00<00:00, 109.90it/s]\n",
      "Computing chunks: 100%|████████████████████████| 5/5 [00:00<00:00, 23858.38it/s]\n",
      "Splitting the experimental spectrum into chunks: 27129it [00:00, 952083.21it/s]\n",
      "Deconvolving chunks: 100%|████████████████████████| 1/1 [00:26<00:00, 26.65s/it]\n"
     ]
    },
    {
     "name": "stdout",
     "output_type": "stream",
     "text": [
      "Estimation for 0.23 and 0.16 done\n",
      "It took: 26.839070081710815 seconds.\n",
      "[0.22788341798300013, 0.1521508221640001, 0.11904964934400009, 0.17656052551400012, 0.3243555849950002]\n"
     ]
    },
    {
     "name": "stderr",
     "output_type": "stream",
     "text": [
      "Initial filtering of formulas: 100%|█████████████| 5/5 [00:00<00:00, 152.87it/s]\n",
      "Computing chunks: 100%|████████████████████████| 5/5 [00:00<00:00, 70849.73it/s]\n",
      "Splitting the experimental spectrum into chunks: 27129it [00:00, 1816324.38it/s]\n",
      "Deconvolving chunks: 100%|████████████████████████| 1/1 [00:17<00:00, 17.70s/it]\n"
     ]
    },
    {
     "name": "stdout",
     "output_type": "stream",
     "text": [
      "Estimation for 0.23 and 0.17 done\n",
      "It took: 17.82048988342285 seconds.\n",
      "[0.22787621375700015, 0.15217248439100012, 0.11912340125600009, 0.17645452118800012, 0.32437337940700023]\n"
     ]
    },
    {
     "name": "stderr",
     "output_type": "stream",
     "text": [
      "Initial filtering of formulas: 100%|█████████████| 5/5 [00:00<00:00, 245.70it/s]\n",
      "Computing chunks: 100%|███████████████████████| 5/5 [00:00<00:00, 145635.56it/s]\n",
      "Splitting the experimental spectrum into chunks: 27129it [00:00, 2627517.51it/s]\n",
      "Deconvolving chunks: 100%|████████████████████████| 1/1 [00:15<00:00, 15.28s/it]\n"
     ]
    },
    {
     "name": "stdout",
     "output_type": "stream",
     "text": [
      "Estimation for 0.23 and 0.18000000000000002 done\n",
      "It took: 15.352399110794067 seconds.\n",
      "[0.22783152227900014, 0.1522134238930001, 0.11917948470300008, 0.1764147218780001, 0.32436084724800024]\n"
     ]
    },
    {
     "name": "stderr",
     "output_type": "stream",
     "text": [
      "Initial filtering of formulas: 100%|█████████████| 5/5 [00:00<00:00, 216.24it/s]\n",
      "Computing chunks: 100%|████████████████████████| 5/5 [00:00<00:00, 90006.52it/s]\n",
      "Splitting the experimental spectrum into chunks: 27129it [00:00, 2136489.10it/s]\n",
      "Deconvolving chunks: 100%|████████████████████████| 1/1 [00:14<00:00, 14.87s/it]\n"
     ]
    },
    {
     "name": "stdout",
     "output_type": "stream",
     "text": [
      "Estimation for 0.23 and 0.19 done\n",
      "It took: 14.941744565963745 seconds.\n",
      "[0.22780306398700015, 0.1522326516930001, 0.11922764354200008, 0.1763266389200001, 0.3244100018570002]\n"
     ]
    },
    {
     "name": "stderr",
     "output_type": "stream",
     "text": [
      "Initial filtering of formulas: 100%|█████████████| 5/5 [00:00<00:00, 242.64it/s]\n",
      "Computing chunks: 100%|███████████████████████| 5/5 [00:00<00:00, 135300.13it/s]\n",
      "Splitting the experimental spectrum into chunks: 27129it [00:00, 2589193.19it/s]\n",
      "Deconvolving chunks: 100%|████████████████████████| 1/1 [00:17<00:00, 17.52s/it]\n"
     ]
    },
    {
     "name": "stdout",
     "output_type": "stream",
     "text": [
      "Estimation for 0.23 and 0.2 done\n",
      "It took: 17.59436583518982 seconds.\n",
      "[0.22776246757900015, 0.1522477878570001, 0.11926837176200009, 0.1762298060690001, 0.32449156673200025]\n"
     ]
    },
    {
     "name": "stderr",
     "output_type": "stream",
     "text": [
      "Initial filtering of formulas: 100%|█████████████| 5/5 [00:00<00:00, 120.31it/s]\n",
      "Computing chunks: 100%|████████████████████████| 5/5 [00:00<00:00, 51275.11it/s]\n",
      "Splitting the experimental spectrum into chunks: 27129it [00:00, 1690520.93it/s]\n",
      "Deconvolving chunks: 100%|████████████████████████| 1/1 [00:17<00:00, 17.65s/it]\n"
     ]
    },
    {
     "name": "stdout",
     "output_type": "stream",
     "text": [
      "Estimation for 0.23 and 0.21000000000000002 done\n",
      "It took: 17.77867865562439 seconds.\n",
      "[0.22773573701700014, 0.15222751912300012, 0.11930434740600009, 0.1761614202980001, 0.32457097615500025]\n"
     ]
    },
    {
     "name": "stderr",
     "output_type": "stream",
     "text": [
      "Initial filtering of formulas: 100%|█████████████| 5/5 [00:00<00:00, 253.93it/s]\n",
      "Computing chunks: 100%|███████████████████████| 5/5 [00:00<00:00, 124830.48it/s]\n",
      "Splitting the experimental spectrum into chunks: 27129it [00:00, 2635184.65it/s]\n",
      "Deconvolving chunks: 100%|████████████████████████| 1/1 [00:14<00:00, 14.93s/it]\n"
     ]
    },
    {
     "name": "stdout",
     "output_type": "stream",
     "text": [
      "Estimation for 0.23 and 0.22 done\n",
      "It took: 14.996589660644531 seconds.\n",
      "[0.22771710047500013, 0.1522124115860001, 0.11933757262300008, 0.1761144221920001, 0.3246184931240002]\n"
     ]
    },
    {
     "name": "stderr",
     "output_type": "stream",
     "text": [
      "Initial filtering of formulas: 100%|█████████████| 5/5 [00:00<00:00, 260.40it/s]\n",
      "Computing chunks: 100%|███████████████████████| 5/5 [00:00<00:00, 194180.74it/s]\n",
      "Splitting the experimental spectrum into chunks: 27129it [00:00, 2586309.51it/s]\n",
      "Deconvolving chunks: 100%|████████████████████████| 1/1 [00:13<00:00, 13.84s/it]\n"
     ]
    },
    {
     "name": "stdout",
     "output_type": "stream",
     "text": [
      "Estimation for 0.23 and 0.23 done\n",
      "It took: 13.907996416091919 seconds.\n",
      "[0.22770747215200013, 0.15220767635400012, 0.11937316464300009, 0.1760150500970001, 0.32469663675400023]\n"
     ]
    },
    {
     "name": "stderr",
     "output_type": "stream",
     "text": [
      "Initial filtering of formulas: 100%|█████████████| 5/5 [00:00<00:00, 217.46it/s]\n",
      "Computing chunks: 100%|███████████████████████| 5/5 [00:00<00:00, 158875.15it/s]\n",
      "Splitting the experimental spectrum into chunks: 27129it [00:00, 2594684.02it/s]\n",
      "Deconvolving chunks: 100%|████████████████████████| 1/1 [00:18<00:00, 18.99s/it]\n"
     ]
    },
    {
     "name": "stdout",
     "output_type": "stream",
     "text": [
      "Estimation for 0.23 and 0.24000000000000002 done\n",
      "It took: 19.062639236450195 seconds.\n",
      "[0.22770803335500014, 0.1521777697000001, 0.11940912418000009, 0.1759238086870001, 0.3247812640770002]\n"
     ]
    },
    {
     "name": "stderr",
     "output_type": "stream",
     "text": [
      "Initial filtering of formulas: 100%|█████████████| 5/5 [00:00<00:00, 142.79it/s]\n",
      "Computing chunks: 100%|████████████████████████| 5/5 [00:00<00:00, 43965.45it/s]\n",
      "Splitting the experimental spectrum into chunks: 27129it [00:00, 1562904.65it/s]\n",
      "Deconvolving chunks: 100%|████████████████████████| 1/1 [00:20<00:00, 20.09s/it]\n"
     ]
    },
    {
     "name": "stdout",
     "output_type": "stream",
     "text": [
      "Estimation for 0.23 and 0.25 done\n",
      "It took: 20.203760862350464 seconds.\n",
      "[0.22772886180200014, 0.1521818492400001, 0.11946644571500008, 0.1758593706820001, 0.3247634725620002]\n"
     ]
    },
    {
     "name": "stderr",
     "output_type": "stream",
     "text": [
      "Initial filtering of formulas: 100%|█████████████| 5/5 [00:00<00:00, 209.52it/s]\n",
      "Computing chunks: 100%|████████████████████████| 5/5 [00:00<00:00, 61862.89it/s]\n",
      "Splitting the experimental spectrum into chunks: 27129it [00:00, 2083443.62it/s]\n",
      "Deconvolving chunks: 100%|████████████████████████| 1/1 [00:16<00:00, 16.10s/it]\n"
     ]
    },
    {
     "name": "stdout",
     "output_type": "stream",
     "text": [
      "Estimation for 0.23 and 0.26 done\n",
      "It took: 16.188982248306274 seconds.\n",
      "[0.22782527962900015, 0.1521657836290001, 0.11951809049000009, 0.17573872007800012, 0.32475212617400023]\n"
     ]
    },
    {
     "name": "stderr",
     "output_type": "stream",
     "text": [
      "Initial filtering of formulas: 100%|█████████████| 5/5 [00:00<00:00, 243.19it/s]\n",
      "Computing chunks: 100%|████████████████████████| 5/5 [00:00<00:00, 99864.38it/s]\n",
      "Splitting the experimental spectrum into chunks: 27129it [00:00, 2347194.05it/s]\n",
      "Deconvolving chunks: 100%|████████████████████████| 1/1 [00:14<00:00, 14.49s/it]\n"
     ]
    },
    {
     "name": "stdout",
     "output_type": "stream",
     "text": [
      "Estimation for 0.23 and 0.27 done\n",
      "It took: 14.562877416610718 seconds.\n",
      "[0.22791411451500013, 0.1521715697220001, 0.11956562842200008, 0.1756237865650001, 0.32472490077600025]\n"
     ]
    },
    {
     "name": "stderr",
     "output_type": "stream",
     "text": [
      "Initial filtering of formulas: 100%|█████████████| 5/5 [00:00<00:00, 221.30it/s]\n",
      "Computing chunks: 100%|███████████████████████| 5/5 [00:00<00:00, 170500.16it/s]\n",
      "Splitting the experimental spectrum into chunks: 27129it [00:00, 2606690.95it/s]\n",
      "Deconvolving chunks: 100%|████████████████████████| 1/1 [00:16<00:00, 16.90s/it]\n"
     ]
    },
    {
     "name": "stdout",
     "output_type": "stream",
     "text": [
      "Estimation for 0.23 and 0.28 done\n",
      "It took: 16.967602252960205 seconds.\n",
      "[0.22800375479400015, 0.15215051239700011, 0.11961429280000008, 0.1755478191290001, 0.32468362088000025]\n"
     ]
    },
    {
     "name": "stderr",
     "output_type": "stream",
     "text": [
      "Initial filtering of formulas: 100%|█████████████| 5/5 [00:00<00:00, 158.72it/s]\n",
      "Computing chunks: 100%|███████████████████████| 5/5 [00:00<00:00, 149796.57it/s]\n",
      "Splitting the experimental spectrum into chunks: 27129it [00:00, 1876655.83it/s]\n",
      "Deconvolving chunks: 100%|████████████████████████| 1/1 [00:18<00:00, 18.13s/it]\n"
     ]
    },
    {
     "name": "stdout",
     "output_type": "stream",
     "text": [
      "Estimation for 0.23 and 0.29000000000000004 done\n",
      "It took: 18.235357761383057 seconds.\n",
      "[0.22809941287700014, 0.15212366909200012, 0.11966622541100008, 0.1754658630820001, 0.3246448295380002]\n"
     ]
    },
    {
     "name": "stderr",
     "output_type": "stream",
     "text": [
      "Initial filtering of formulas: 100%|█████████████| 5/5 [00:00<00:00, 202.51it/s]\n",
      "Computing chunks: 100%|████████████████████████| 5/5 [00:00<00:00, 47771.12it/s]\n",
      "Splitting the experimental spectrum into chunks: 27129it [00:00, 2088759.70it/s]\n",
      "Deconvolving chunks: 100%|████████████████████████| 1/1 [00:15<00:00, 15.05s/it]\n"
     ]
    },
    {
     "name": "stdout",
     "output_type": "stream",
     "text": [
      "Estimation for 0.23 and 0.3 done\n",
      "It took: 15.135014057159424 seconds.\n",
      "[0.22815864652600013, 0.1521179926380001, 0.11970635970500008, 0.1753981384460001, 0.3246188626840002]\n"
     ]
    },
    {
     "name": "stderr",
     "output_type": "stream",
     "text": [
      "Initial filtering of formulas: 100%|█████████████| 5/5 [00:00<00:00, 238.85it/s]\n",
      "Computing chunks: 100%|████████████████████████| 5/5 [00:00<00:00, 40642.48it/s]\n",
      "Splitting the experimental spectrum into chunks: 27129it [00:00, 2648063.14it/s]\n",
      "Deconvolving chunks: 100%|████████████████████████| 1/1 [00:17<00:00, 17.71s/it]\n"
     ]
    },
    {
     "name": "stdout",
     "output_type": "stream",
     "text": [
      "Estimation for 0.24000000000000002 and 0.01 done\n",
      "It took: 17.787452936172485 seconds.\n",
      "[0.21755084554200013, 0.1842519119180001, 0.11203796674500006, 0.1721534951830001, 0.31400578061200024]\n"
     ]
    },
    {
     "name": "stderr",
     "output_type": "stream",
     "text": [
      "Initial filtering of formulas: 100%|█████████████| 5/5 [00:00<00:00, 159.18it/s]\n",
      "Computing chunks: 100%|████████████████████████| 5/5 [00:00<00:00, 49461.13it/s]\n",
      "Splitting the experimental spectrum into chunks: 27129it [00:00, 1573494.76it/s]\n",
      "Deconvolving chunks: 100%|████████████████████████| 1/1 [00:23<00:00, 23.92s/it]\n"
     ]
    },
    {
     "name": "stdout",
     "output_type": "stream",
     "text": [
      "Estimation for 0.24000000000000002 and 0.02 done\n",
      "It took: 24.045072555541992 seconds.\n",
      "[0.22749747499800013, 0.15057183637400012, 0.11728689957200009, 0.1773559218180001, 0.32728786723800024]\n"
     ]
    },
    {
     "name": "stderr",
     "output_type": "stream",
     "text": [
      "Initial filtering of formulas: 100%|█████████████| 5/5 [00:00<00:00, 143.98it/s]\n",
      "Computing chunks: 100%|███████████████████████| 5/5 [00:00<00:00, 103307.98it/s]\n",
      "Splitting the experimental spectrum into chunks: 27129it [00:00, 1331125.54it/s]\n",
      "Deconvolving chunks: 100%|████████████████████████| 1/1 [00:24<00:00, 24.96s/it]\n"
     ]
    },
    {
     "name": "stdout",
     "output_type": "stream",
     "text": [
      "Estimation for 0.24000000000000002 and 0.03 done\n",
      "It took: 25.09437894821167 seconds.\n",
      "[0.22773846947000015, 0.15085527514200012, 0.11753960541000008, 0.1770456446430001, 0.32682100533500025]\n"
     ]
    },
    {
     "name": "stderr",
     "output_type": "stream",
     "text": [
      "Initial filtering of formulas: 100%|█████████████| 5/5 [00:00<00:00, 171.83it/s]\n",
      "Computing chunks: 100%|████████████████████████| 5/5 [00:00<00:00, 52298.05it/s]\n",
      "Splitting the experimental spectrum into chunks: 27129it [00:00, 1362623.92it/s]\n",
      "Deconvolving chunks: 100%|████████████████████████| 1/1 [00:18<00:00, 18.96s/it]\n"
     ]
    },
    {
     "name": "stdout",
     "output_type": "stream",
     "text": [
      "Estimation for 0.24000000000000002 and 0.04 done\n",
      "It took: 19.08132266998291 seconds.\n",
      "[0.22792690637900015, 0.15107391778000012, 0.11773124674100008, 0.17717095468800012, 0.3260969744120002]\n"
     ]
    },
    {
     "name": "stderr",
     "output_type": "stream",
     "text": [
      "Initial filtering of formulas: 100%|█████████████| 5/5 [00:00<00:00, 207.28it/s]\n",
      "Computing chunks: 100%|████████████████████████| 5/5 [00:00<00:00, 55188.21it/s]\n",
      "Splitting the experimental spectrum into chunks: 27129it [00:00, 1118665.25it/s]\n",
      "Deconvolving chunks: 100%|████████████████████████| 1/1 [00:19<00:00, 19.16s/it]\n"
     ]
    },
    {
     "name": "stdout",
     "output_type": "stream",
     "text": [
      "Estimation for 0.24000000000000002 and 0.05 done\n",
      "It took: 19.266555070877075 seconds.\n",
      "[0.22800614495500013, 0.1511773893160001, 0.11784200944000009, 0.1771073672140001, 0.3258670890750002]\n"
     ]
    },
    {
     "name": "stderr",
     "output_type": "stream",
     "text": [
      "Initial filtering of formulas: 100%|█████████████| 5/5 [00:00<00:00, 229.22it/s]\n",
      "Computing chunks: 100%|████████████████████████| 5/5 [00:00<00:00, 48545.19it/s]\n",
      "Splitting the experimental spectrum into chunks: 27129it [00:00, 1476606.19it/s]\n",
      "Deconvolving chunks: 100%|████████████████████████| 1/1 [00:19<00:00, 19.67s/it]\n"
     ]
    },
    {
     "name": "stdout",
     "output_type": "stream",
     "text": [
      "Estimation for 0.24000000000000002 and 0.060000000000000005 done\n",
      "It took: 19.761922597885132 seconds.\n",
      "[0.22791342622200014, 0.15134016525300012, 0.11800515032200008, 0.1772390948450001, 0.3255021633580002]\n"
     ]
    },
    {
     "name": "stderr",
     "output_type": "stream",
     "text": [
      "Initial filtering of formulas: 100%|█████████████| 5/5 [00:00<00:00, 232.04it/s]\n",
      "Computing chunks: 100%|████████████████████████| 5/5 [00:00<00:00, 92385.55it/s]\n",
      "Splitting the experimental spectrum into chunks: 27129it [00:00, 2587426.91it/s]\n",
      "Deconvolving chunks: 100%|████████████████████████| 1/1 [00:22<00:00, 22.95s/it]\n"
     ]
    },
    {
     "name": "stdout",
     "output_type": "stream",
     "text": [
      "Estimation for 0.24000000000000002 and 0.06999999999999999 done\n",
      "It took: 23.036274671554565 seconds.\n",
      "[0.22785881068300015, 0.1515704520090001, 0.11822816222900008, 0.1770364514150001, 0.3253061236630002]\n"
     ]
    },
    {
     "name": "stderr",
     "output_type": "stream",
     "text": [
      "Initial filtering of formulas: 100%|█████████████| 5/5 [00:00<00:00, 143.22it/s]\n",
      "Computing chunks: 100%|████████████████████████| 5/5 [00:00<00:00, 40800.62it/s]\n",
      "Splitting the experimental spectrum into chunks: 27129it [00:00, 1533851.95it/s]\n",
      "Deconvolving chunks: 100%|████████████████████████| 1/1 [00:26<00:00, 26.24s/it]\n"
     ]
    },
    {
     "name": "stdout",
     "output_type": "stream",
     "text": [
      "Estimation for 0.24000000000000002 and 0.08 done\n",
      "It took: 26.374858379364014 seconds.\n",
      "[0.22780351728000015, 0.15160544045800012, 0.11831141473700009, 0.17701688002900012, 0.32526274749700024]\n"
     ]
    },
    {
     "name": "stderr",
     "output_type": "stream",
     "text": [
      "Initial filtering of formulas: 100%|█████████████| 5/5 [00:00<00:00, 196.25it/s]\n",
      "Computing chunks: 100%|███████████████████████| 5/5 [00:00<00:00, 135300.13it/s]\n",
      "Splitting the experimental spectrum into chunks: 27129it [00:00, 2331754.20it/s]\n",
      "Deconvolving chunks: 100%|████████████████████████| 1/1 [00:18<00:00, 18.99s/it]\n"
     ]
    },
    {
     "name": "stdout",
     "output_type": "stream",
     "text": [
      "Estimation for 0.24000000000000002 and 0.09 done\n",
      "It took: 19.091771841049194 seconds.\n",
      "[0.22783946788900014, 0.1516823182740001, 0.11841013928600008, 0.17697185787600012, 0.32509621667600025]\n"
     ]
    },
    {
     "name": "stderr",
     "output_type": "stream",
     "text": [
      "Initial filtering of formulas: 100%|█████████████| 5/5 [00:00<00:00, 218.98it/s]\n",
      "Computing chunks: 100%|████████████████████████| 5/5 [00:00<00:00, 97541.95it/s]\n",
      "Splitting the experimental spectrum into chunks: 27129it [00:00, 2185149.18it/s]\n",
      "Deconvolving chunks: 100%|████████████████████████| 1/1 [00:16<00:00, 16.75s/it]\n"
     ]
    },
    {
     "name": "stdout",
     "output_type": "stream",
     "text": [
      "Estimation for 0.24000000000000002 and 0.09999999999999999 done\n",
      "It took: 16.850637435913086 seconds.\n",
      "[0.22779971472800015, 0.15178166800000012, 0.11852719681500008, 0.17697388810100012, 0.3249175323570002]\n"
     ]
    },
    {
     "name": "stderr",
     "output_type": "stream",
     "text": [
      "Initial filtering of formulas: 100%|█████████████| 5/5 [00:00<00:00, 223.37it/s]\n",
      "Computing chunks: 100%|████████████████████████| 5/5 [00:00<00:00, 66156.21it/s]\n",
      "Splitting the experimental spectrum into chunks: 27129it [00:00, 2283097.04it/s]\n",
      "Deconvolving chunks: 100%|████████████████████████| 1/1 [00:15<00:00, 15.24s/it]\n"
     ]
    },
    {
     "name": "stdout",
     "output_type": "stream",
     "text": [
      "Estimation for 0.24000000000000002 and 0.11 done\n",
      "It took: 15.312804460525513 seconds.\n",
      "[0.22774682495400014, 0.1518660946840001, 0.11860870270100009, 0.1769868547910001, 0.32479152287000024]\n"
     ]
    },
    {
     "name": "stderr",
     "output_type": "stream",
     "text": [
      "Initial filtering of formulas: 100%|█████████████| 5/5 [00:00<00:00, 236.02it/s]\n",
      "Computing chunks: 100%|███████████████████████| 5/5 [00:00<00:00, 176231.26it/s]\n",
      "Splitting the experimental spectrum into chunks: 27129it [00:00, 2472883.76it/s]\n",
      "Deconvolving chunks: 100%|████████████████████████| 1/1 [00:20<00:00, 20.62s/it]\n"
     ]
    },
    {
     "name": "stdout",
     "output_type": "stream",
     "text": [
      "Estimation for 0.24000000000000002 and 0.12 done\n",
      "It took: 20.712045192718506 seconds.\n",
      "[0.22778351470900013, 0.1519366452690001, 0.11869303255000008, 0.1769430273430001, 0.3246437801280002]\n"
     ]
    },
    {
     "name": "stderr",
     "output_type": "stream",
     "text": [
      "Initial filtering of formulas: 100%|█████████████| 5/5 [00:00<00:00, 138.27it/s]\n",
      "Computing chunks: 100%|████████████████████████| 5/5 [00:00<00:00, 49461.13it/s]\n",
      "Splitting the experimental spectrum into chunks: 27129it [00:00, 1709749.87it/s]\n",
      "Deconvolving chunks: 100%|████████████████████████| 1/1 [00:22<00:00, 22.95s/it]\n"
     ]
    },
    {
     "name": "stdout",
     "output_type": "stream",
     "text": [
      "Estimation for 0.24000000000000002 and 0.13 done\n",
      "It took: 23.073216438293457 seconds.\n",
      "[0.22784033540100013, 0.1519960632920001, 0.11879097076500009, 0.1768049714760001, 0.32456765906500024]\n"
     ]
    },
    {
     "name": "stderr",
     "output_type": "stream",
     "text": [
      "Initial filtering of formulas: 100%|█████████████| 5/5 [00:00<00:00, 254.44it/s]\n",
      "Computing chunks: 100%|███████████████████████| 5/5 [00:00<00:00, 167772.16it/s]\n",
      "Splitting the experimental spectrum into chunks: 27129it [00:00, 2708382.48it/s]\n",
      "Deconvolving chunks: 100%|████████████████████████| 1/1 [00:13<00:00, 13.95s/it]\n"
     ]
    },
    {
     "name": "stdout",
     "output_type": "stream",
     "text": [
      "Estimation for 0.24000000000000002 and 0.14 done\n",
      "It took: 14.02194356918335 seconds.\n",
      "[0.22785092688500014, 0.15205401439700011, 0.11888470730900008, 0.17673466250700012, 0.32447568890200024]\n"
     ]
    },
    {
     "name": "stderr",
     "output_type": "stream",
     "text": [
      "Initial filtering of formulas: 100%|█████████████| 5/5 [00:00<00:00, 255.46it/s]\n",
      "Computing chunks: 100%|███████████████████████| 5/5 [00:00<00:00, 187245.71it/s]\n",
      "Splitting the experimental spectrum into chunks: 27129it [00:00, 2711544.97it/s]\n",
      "Deconvolving chunks: 100%|████████████████████████| 1/1 [00:14<00:00, 14.43s/it]\n"
     ]
    },
    {
     "name": "stdout",
     "output_type": "stream",
     "text": [
      "Estimation for 0.24000000000000002 and 0.15000000000000002 done\n",
      "It took: 14.495800018310547 seconds.\n",
      "[0.22787256685500015, 0.15210606437800012, 0.11896650278300008, 0.1766644126840001, 0.32439045330100025]\n"
     ]
    },
    {
     "name": "stderr",
     "output_type": "stream",
     "text": [
      "Initial filtering of formulas: 100%|█████████████| 5/5 [00:00<00:00, 249.95it/s]\n",
      "Computing chunks: 100%|███████████████████████| 5/5 [00:00<00:00, 190650.18it/s]\n",
      "Splitting the experimental spectrum into chunks: 27129it [00:00, 2768344.72it/s]\n",
      "Deconvolving chunks: 100%|████████████████████████| 1/1 [00:15<00:00, 15.07s/it]\n"
     ]
    },
    {
     "name": "stdout",
     "output_type": "stream",
     "text": [
      "Estimation for 0.24000000000000002 and 0.16 done\n",
      "It took: 15.137547016143799 seconds.\n",
      "[0.22788341798300013, 0.1521508221640001, 0.11904964934400009, 0.17656052551400012, 0.3243555849950002]\n"
     ]
    },
    {
     "name": "stderr",
     "output_type": "stream",
     "text": [
      "Initial filtering of formulas: 100%|█████████████| 5/5 [00:00<00:00, 150.95it/s]\n",
      "Computing chunks: 100%|████████████████████████| 5/5 [00:00<00:00, 68759.08it/s]\n",
      "Splitting the experimental spectrum into chunks: 27129it [00:00, 1821703.97it/s]\n",
      "Deconvolving chunks: 100%|████████████████████████| 1/1 [00:22<00:00, 22.08s/it]\n"
     ]
    },
    {
     "name": "stdout",
     "output_type": "stream",
     "text": [
      "Estimation for 0.24000000000000002 and 0.17 done\n",
      "It took: 22.187124729156494 seconds.\n",
      "[0.22787621375700015, 0.15217248439100012, 0.11912340125600009, 0.17645452118800012, 0.32437337940700023]\n"
     ]
    },
    {
     "name": "stderr",
     "output_type": "stream",
     "text": [
      "Initial filtering of formulas: 100%|█████████████| 5/5 [00:00<00:00, 256.37it/s]\n",
      "Computing chunks: 100%|███████████████████████| 5/5 [00:00<00:00, 158875.15it/s]\n",
      "Splitting the experimental spectrum into chunks: 27129it [00:00, 2669809.32it/s]\n",
      "Deconvolving chunks: 100%|████████████████████████| 1/1 [00:14<00:00, 14.63s/it]\n"
     ]
    },
    {
     "name": "stdout",
     "output_type": "stream",
     "text": [
      "Estimation for 0.24000000000000002 and 0.18000000000000002 done\n",
      "It took: 14.701171398162842 seconds.\n",
      "[0.22783150985400014, 0.1522134155370001, 0.11917947778200008, 0.17641476749000012, 0.32436082933600024]\n"
     ]
    },
    {
     "name": "stderr",
     "output_type": "stream",
     "text": [
      "Initial filtering of formulas: 100%|█████████████| 5/5 [00:00<00:00, 235.22it/s]\n",
      "Computing chunks: 100%|███████████████████████| 5/5 [00:00<00:00, 100342.20it/s]\n",
      "Splitting the experimental spectrum into chunks: 27129it [00:00, 2460584.58it/s]\n",
      "Deconvolving chunks: 100%|████████████████████████| 1/1 [00:14<00:00, 14.62s/it]\n"
     ]
    },
    {
     "name": "stdout",
     "output_type": "stream",
     "text": [
      "Estimation for 0.24000000000000002 and 0.19 done\n",
      "It took: 14.690562009811401 seconds.\n",
      "[0.22780306398700015, 0.1522326516930001, 0.11922764354200008, 0.1763266389200001, 0.3244100018570002]\n"
     ]
    },
    {
     "name": "stderr",
     "output_type": "stream",
     "text": [
      "Initial filtering of formulas: 100%|█████████████| 5/5 [00:00<00:00, 245.79it/s]\n",
      "Computing chunks: 100%|███████████████████████| 5/5 [00:00<00:00, 188932.61it/s]\n",
      "Splitting the experimental spectrum into chunks: 27129it [00:00, 2608902.29it/s]\n",
      "Deconvolving chunks: 100%|████████████████████████| 1/1 [00:14<00:00, 14.84s/it]\n"
     ]
    },
    {
     "name": "stdout",
     "output_type": "stream",
     "text": [
      "Estimation for 0.24000000000000002 and 0.2 done\n",
      "It took: 14.912694692611694 seconds.\n",
      "[0.22776246757900015, 0.1522477878570001, 0.11926837176200009, 0.1762298060690001, 0.32449156673200025]\n"
     ]
    },
    {
     "name": "stderr",
     "output_type": "stream",
     "text": [
      "Initial filtering of formulas: 100%|█████████████| 5/5 [00:00<00:00, 241.01it/s]\n",
      "Computing chunks: 100%|███████████████████████| 5/5 [00:00<00:00, 155344.59it/s]\n",
      "Splitting the experimental spectrum into chunks: 27129it [00:00, 2357357.17it/s]\n",
      "Deconvolving chunks: 100%|████████████████████████| 1/1 [00:20<00:00, 20.84s/it]\n"
     ]
    },
    {
     "name": "stdout",
     "output_type": "stream",
     "text": [
      "Estimation for 0.24000000000000002 and 0.21000000000000002 done\n",
      "It took: 20.908653497695923 seconds.\n",
      "[0.22773573701700014, 0.15222751912300012, 0.11930434740600009, 0.1761614202980001, 0.32457097615500025]\n"
     ]
    },
    {
     "name": "stderr",
     "output_type": "stream",
     "text": [
      "Initial filtering of formulas: 100%|█████████████| 5/5 [00:00<00:00, 212.82it/s]\n",
      "Computing chunks: 100%|████████████████████████| 5/5 [00:00<00:00, 36599.51it/s]\n",
      "Splitting the experimental spectrum into chunks: 27129it [00:00, 2183639.55it/s]\n",
      "Deconvolving chunks: 100%|████████████████████████| 1/1 [00:19<00:00, 19.21s/it]\n"
     ]
    },
    {
     "name": "stdout",
     "output_type": "stream",
     "text": [
      "Estimation for 0.24000000000000002 and 0.22 done\n",
      "It took: 19.298662662506104 seconds.\n",
      "[0.22771710009600013, 0.1522124113910001, 0.11933745204700008, 0.17611454357600012, 0.32461849288900024]\n"
     ]
    },
    {
     "name": "stderr",
     "output_type": "stream",
     "text": [
      "Initial filtering of formulas: 100%|█████████████| 5/5 [00:00<00:00, 133.66it/s]\n",
      "Computing chunks: 100%|████████████████████████| 5/5 [00:00<00:00, 79137.81it/s]\n",
      "Splitting the experimental spectrum into chunks: 27129it [00:00, 1874646.17it/s]\n",
      "Deconvolving chunks: 100%|████████████████████████| 1/1 [00:19<00:00, 19.85s/it]\n"
     ]
    },
    {
     "name": "stdout",
     "output_type": "stream",
     "text": [
      "Estimation for 0.24000000000000002 and 0.23 done\n",
      "It took: 19.96124792098999 seconds.\n",
      "[0.22770747215200013, 0.15220767635400012, 0.11937316464300009, 0.1760150500970001, 0.32469663675400023]\n"
     ]
    },
    {
     "name": "stderr",
     "output_type": "stream",
     "text": [
      "Initial filtering of formulas: 100%|█████████████| 5/5 [00:00<00:00, 186.20it/s]\n",
      "Computing chunks: 100%|███████████████████████| 5/5 [00:00<00:00, 130257.89it/s]\n",
      "Splitting the experimental spectrum into chunks: 27129it [00:00, 2163297.27it/s]\n",
      "Deconvolving chunks: 100%|████████████████████████| 1/1 [00:18<00:00, 18.81s/it]\n"
     ]
    },
    {
     "name": "stdout",
     "output_type": "stream",
     "text": [
      "Estimation for 0.24000000000000002 and 0.24000000000000002 done\n",
      "It took: 18.904820919036865 seconds.\n",
      "[0.22770803335500014, 0.1521777697000001, 0.11940912418000009, 0.1759238086870001, 0.3247812640770002]\n"
     ]
    },
    {
     "name": "stderr",
     "output_type": "stream",
     "text": [
      "Initial filtering of formulas: 100%|█████████████| 5/5 [00:00<00:00, 154.84it/s]\n",
      "Computing chunks: 100%|███████████████████████| 5/5 [00:00<00:00, 100342.20it/s]\n",
      "Splitting the experimental spectrum into chunks: 27129it [00:00, 1106137.64it/s]\n",
      "Deconvolving chunks: 100%|████████████████████████| 1/1 [00:17<00:00, 17.61s/it]\n"
     ]
    },
    {
     "name": "stdout",
     "output_type": "stream",
     "text": [
      "Estimation for 0.24000000000000002 and 0.25 done\n",
      "It took: 17.72449541091919 seconds.\n",
      "[0.22772886180200014, 0.1521818492400001, 0.11946644571500008, 0.1758593706820001, 0.3247634725620002]\n"
     ]
    },
    {
     "name": "stderr",
     "output_type": "stream",
     "text": [
      "Initial filtering of formulas: 100%|█████████████| 5/5 [00:00<00:00, 127.59it/s]\n",
      "Computing chunks: 100%|████████████████████████| 5/5 [00:00<00:00, 74898.29it/s]\n",
      "Splitting the experimental spectrum into chunks: 27129it [00:00, 1427300.79it/s]\n",
      "Deconvolving chunks: 100%|████████████████████████| 1/1 [00:27<00:00, 27.11s/it]\n"
     ]
    },
    {
     "name": "stdout",
     "output_type": "stream",
     "text": [
      "Estimation for 0.24000000000000002 and 0.26 done\n",
      "It took: 27.247552394866943 seconds.\n",
      "[0.22782527962900015, 0.1521657836290001, 0.11951809049000009, 0.17573872007800012, 0.32475212617400023]\n"
     ]
    },
    {
     "name": "stderr",
     "output_type": "stream",
     "text": [
      "Initial filtering of formulas: 100%|█████████████| 5/5 [00:00<00:00, 119.54it/s]\n",
      "Computing chunks: 100%|████████████████████████| 5/5 [00:00<00:00, 26886.56it/s]\n",
      "Splitting the experimental spectrum into chunks: 27129it [00:00, 1157386.26it/s]\n",
      "Deconvolving chunks: 100%|████████████████████████| 1/1 [00:24<00:00, 24.11s/it]\n"
     ]
    },
    {
     "name": "stdout",
     "output_type": "stream",
     "text": [
      "Estimation for 0.24000000000000002 and 0.27 done\n",
      "It took: 24.295804738998413 seconds.\n",
      "[0.22791411451500013, 0.1521715697220001, 0.11956562842200008, 0.1756237865650001, 0.32472490077600025]\n"
     ]
    },
    {
     "name": "stderr",
     "output_type": "stream",
     "text": [
      "Initial filtering of formulas: 100%|█████████████| 5/5 [00:00<00:00, 124.79it/s]\n",
      "Computing chunks: 100%|████████████████████████| 5/5 [00:00<00:00, 23563.51it/s]\n",
      "Splitting the experimental spectrum into chunks: 27129it [00:00, 1351906.58it/s]\n",
      "Deconvolving chunks: 100%|████████████████████████| 1/1 [00:17<00:00, 17.83s/it]\n"
     ]
    },
    {
     "name": "stdout",
     "output_type": "stream",
     "text": [
      "Estimation for 0.24000000000000002 and 0.28 done\n",
      "It took: 17.998231172561646 seconds.\n",
      "[0.22800375479400015, 0.15215051239700011, 0.11961429280000008, 0.1755478191290001, 0.32468362088000025]\n"
     ]
    },
    {
     "name": "stderr",
     "output_type": "stream",
     "text": [
      "Initial filtering of formulas: 100%|█████████████| 5/5 [00:00<00:00, 218.08it/s]\n",
      "Computing chunks: 100%|███████████████████████| 5/5 [00:00<00:00, 139810.13it/s]\n",
      "Splitting the experimental spectrum into chunks: 27129it [00:00, 2330083.00it/s]\n",
      "Deconvolving chunks: 100%|████████████████████████| 1/1 [00:16<00:00, 16.95s/it]\n"
     ]
    },
    {
     "name": "stdout",
     "output_type": "stream",
     "text": [
      "Estimation for 0.24000000000000002 and 0.29000000000000004 done\n",
      "It took: 17.032206058502197 seconds.\n",
      "[0.22809941287700014, 0.15212366909200012, 0.11966622541100008, 0.1754658630820001, 0.3246448295380002]\n"
     ]
    },
    {
     "name": "stderr",
     "output_type": "stream",
     "text": [
      "Initial filtering of formulas: 100%|█████████████| 5/5 [00:00<00:00, 211.72it/s]\n",
      "Computing chunks: 100%|███████████████████████| 5/5 [00:00<00:00, 146653.99it/s]\n",
      "Splitting the experimental spectrum into chunks: 27129it [00:00, 2153797.45it/s]\n",
      "Deconvolving chunks: 100%|████████████████████████| 1/1 [00:18<00:00, 18.44s/it]\n"
     ]
    },
    {
     "name": "stdout",
     "output_type": "stream",
     "text": [
      "Estimation for 0.24000000000000002 and 0.3 done\n",
      "It took: 18.53222370147705 seconds.\n",
      "[0.22815864652600013, 0.1521179926380001, 0.11970635970500008, 0.1753981384460001, 0.3246188626840002]\n"
     ]
    },
    {
     "name": "stderr",
     "output_type": "stream",
     "text": [
      "Initial filtering of formulas: 100%|█████████████| 5/5 [00:00<00:00, 198.53it/s]\n",
      "Computing chunks: 100%|████████████████████████| 5/5 [00:00<00:00, 75709.46it/s]\n",
      "Splitting the experimental spectrum into chunks: 27129it [00:00, 2059759.12it/s]\n",
      "Deconvolving chunks: 100%|████████████████████████| 1/1 [00:18<00:00, 18.66s/it]\n"
     ]
    },
    {
     "name": "stdout",
     "output_type": "stream",
     "text": [
      "Estimation for 0.25 and 0.01 done\n",
      "It took: 18.753889322280884 seconds.\n",
      "[0.21755094309500014, 0.1842519948350001, 0.11203801736600007, 0.17215357005900012, 0.3140054746460002]\n"
     ]
    },
    {
     "name": "stderr",
     "output_type": "stream",
     "text": [
      "Initial filtering of formulas: 100%|█████████████| 5/5 [00:00<00:00, 223.78it/s]\n",
      "Computing chunks: 100%|███████████████████████| 5/5 [00:00<00:00, 158875.15it/s]\n",
      "Splitting the experimental spectrum into chunks: 27129it [00:00, 2483408.05it/s]\n",
      "Deconvolving chunks: 100%|████████████████████████| 1/1 [00:31<00:00, 31.01s/it]\n"
     ]
    },
    {
     "name": "stdout",
     "output_type": "stream",
     "text": [
      "Estimation for 0.25 and 0.02 done\n",
      "It took: 31.096556901931763 seconds.\n",
      "[0.22749747499800013, 0.15057183637400012, 0.11728689957200009, 0.1773559218180001, 0.32728786723800024]\n"
     ]
    },
    {
     "name": "stderr",
     "output_type": "stream",
     "text": [
      "Initial filtering of formulas: 100%|█████████████| 5/5 [00:00<00:00, 149.69it/s]\n",
      "Computing chunks: 100%|████████████████████████| 5/5 [00:00<00:00, 67869.00it/s]\n",
      "Splitting the experimental spectrum into chunks: 27129it [00:00, 1636732.40it/s]\n",
      "Deconvolving chunks: 100%|████████████████████████| 1/1 [00:17<00:00, 17.42s/it]\n"
     ]
    },
    {
     "name": "stdout",
     "output_type": "stream",
     "text": [
      "Estimation for 0.25 and 0.03 done\n",
      "It took: 17.547927141189575 seconds.\n",
      "[0.22773846947000015, 0.15085527514200012, 0.11753960541000008, 0.1770456446430001, 0.32682100533500025]\n"
     ]
    },
    {
     "name": "stderr",
     "output_type": "stream",
     "text": [
      "Initial filtering of formulas: 100%|█████████████| 5/5 [00:00<00:00, 251.96it/s]\n",
      "Computing chunks: 100%|████████████████████████| 5/5 [00:00<00:00, 65536.00it/s]\n",
      "Splitting the experimental spectrum into chunks: 27129it [00:00, 2728319.02it/s]\n",
      "Deconvolving chunks: 100%|████████████████████████| 1/1 [00:15<00:00, 15.62s/it]\n"
     ]
    },
    {
     "name": "stdout",
     "output_type": "stream",
     "text": [
      "Estimation for 0.25 and 0.04 done\n",
      "It took: 15.687999725341797 seconds.\n",
      "[0.22792690637900015, 0.15107391778000012, 0.11773124674100008, 0.17717095468800012, 0.3260969744120002]\n"
     ]
    },
    {
     "name": "stderr",
     "output_type": "stream",
     "text": [
      "Initial filtering of formulas: 100%|█████████████| 5/5 [00:00<00:00, 265.37it/s]\n",
      "Computing chunks: 100%|███████████████████████| 5/5 [00:00<00:00, 131072.00it/s]\n",
      "Splitting the experimental spectrum into chunks: 27129it [00:00, 2860126.51it/s]\n",
      "Deconvolving chunks: 100%|████████████████████████| 1/1 [00:16<00:00, 16.63s/it]\n"
     ]
    },
    {
     "name": "stdout",
     "output_type": "stream",
     "text": [
      "Estimation for 0.25 and 0.05 done\n",
      "It took: 16.692890644073486 seconds.\n",
      "[0.22800614495500013, 0.1511773893160001, 0.11784200944000009, 0.1771073672140001, 0.3258670890750002]\n"
     ]
    },
    {
     "name": "stderr",
     "output_type": "stream",
     "text": [
      "Initial filtering of formulas: 100%|█████████████| 5/5 [00:00<00:00, 163.18it/s]\n",
      "Computing chunks: 100%|████████████████████████| 5/5 [00:00<00:00, 97541.95it/s]\n",
      "Splitting the experimental spectrum into chunks: 27129it [00:00, 1808156.26it/s]\n",
      "Deconvolving chunks: 100%|████████████████████████| 1/1 [00:22<00:00, 22.86s/it]\n"
     ]
    },
    {
     "name": "stdout",
     "output_type": "stream",
     "text": [
      "Estimation for 0.25 and 0.060000000000000005 done\n",
      "It took: 22.96780800819397 seconds.\n",
      "[0.22791342622200014, 0.15134016525300012, 0.11800515032200008, 0.1772390948450001, 0.3255021633580002]\n"
     ]
    },
    {
     "name": "stderr",
     "output_type": "stream",
     "text": [
      "Initial filtering of formulas: 100%|█████████████| 5/5 [00:00<00:00, 254.46it/s]\n",
      "Computing chunks: 100%|████████████████████████| 5/5 [00:00<00:00, 74104.31it/s]\n",
      "Splitting the experimental spectrum into chunks: 27129it [00:00, 2535367.05it/s]\n",
      "Deconvolving chunks: 100%|████████████████████████| 1/1 [00:15<00:00, 15.25s/it]\n"
     ]
    },
    {
     "name": "stdout",
     "output_type": "stream",
     "text": [
      "Estimation for 0.25 and 0.06999999999999999 done\n",
      "It took: 15.317912817001343 seconds.\n",
      "[0.22785881068300015, 0.1515704520090001, 0.11822816222900008, 0.1770364514150001, 0.3253061236630002]\n"
     ]
    },
    {
     "name": "stderr",
     "output_type": "stream",
     "text": [
      "Initial filtering of formulas: 100%|█████████████| 5/5 [00:00<00:00, 250.97it/s]\n",
      "Computing chunks: 100%|███████████████████████| 5/5 [00:00<00:00, 145635.56it/s]\n",
      "Splitting the experimental spectrum into chunks: 27129it [00:00, 2626486.47it/s]\n",
      "Deconvolving chunks: 100%|████████████████████████| 1/1 [00:14<00:00, 14.37s/it]\n"
     ]
    },
    {
     "name": "stdout",
     "output_type": "stream",
     "text": [
      "Estimation for 0.25 and 0.08 done\n",
      "It took: 14.446266651153564 seconds.\n",
      "[0.22780351728000015, 0.15160544045800012, 0.11831141473700009, 0.17701688002900012, 0.32526274749700024]\n"
     ]
    },
    {
     "name": "stderr",
     "output_type": "stream",
     "text": [
      "Initial filtering of formulas: 100%|█████████████| 5/5 [00:00<00:00, 248.16it/s]\n",
      "Computing chunks: 100%|███████████████████████| 5/5 [00:00<00:00, 180788.97it/s]\n",
      "Splitting the experimental spectrum into chunks: 27129it [00:00, 2578280.95it/s]\n",
      "Deconvolving chunks: 100%|████████████████████████| 1/1 [00:16<00:00, 16.77s/it]\n"
     ]
    },
    {
     "name": "stdout",
     "output_type": "stream",
     "text": [
      "Estimation for 0.25 and 0.09 done\n",
      "It took: 16.842216730117798 seconds.\n",
      "[0.22783946788900014, 0.1516823182740001, 0.11841013928600008, 0.17697185787600012, 0.32509621667600025]\n"
     ]
    },
    {
     "name": "stderr",
     "output_type": "stream",
     "text": [
      "Initial filtering of formulas: 100%|█████████████| 5/5 [00:00<00:00, 157.00it/s]\n",
      "Computing chunks: 100%|████████████████████████| 5/5 [00:00<00:00, 54189.97it/s]\n",
      "Splitting the experimental spectrum into chunks: 27129it [00:00, 1807409.51it/s]\n",
      "Deconvolving chunks: 100%|████████████████████████| 1/1 [00:18<00:00, 18.90s/it]\n"
     ]
    },
    {
     "name": "stdout",
     "output_type": "stream",
     "text": [
      "Estimation for 0.25 and 0.09999999999999999 done\n",
      "It took: 19.007797479629517 seconds.\n",
      "[0.22779971472800015, 0.15178166800000012, 0.11852719681500008, 0.17697388810100012, 0.3249175323570002]\n"
     ]
    },
    {
     "name": "stderr",
     "output_type": "stream",
     "text": [
      "Initial filtering of formulas: 100%|█████████████| 5/5 [00:00<00:00, 141.08it/s]\n",
      "Computing chunks: 100%|████████████████████████| 5/5 [00:00<00:00, 62415.24it/s]\n",
      "Splitting the experimental spectrum into chunks: 27129it [00:00, 2057524.42it/s]\n",
      "Deconvolving chunks: 100%|████████████████████████| 1/1 [00:15<00:00, 15.61s/it]\n"
     ]
    },
    {
     "name": "stdout",
     "output_type": "stream",
     "text": [
      "Estimation for 0.25 and 0.11 done\n",
      "It took: 15.718315362930298 seconds.\n",
      "[0.22774682495400014, 0.1518660946840001, 0.11860870270100009, 0.1769868547910001, 0.32479152287000024]\n"
     ]
    },
    {
     "name": "stderr",
     "output_type": "stream",
     "text": [
      "Initial filtering of formulas: 100%|█████████████| 5/5 [00:00<00:00, 255.30it/s]\n",
      "Computing chunks: 100%|███████████████████████| 5/5 [00:00<00:00, 106997.55it/s]\n",
      "Splitting the experimental spectrum into chunks: 27129it [00:00, 2735599.79it/s]\n",
      "Deconvolving chunks: 100%|████████████████████████| 1/1 [00:14<00:00, 14.22s/it]\n"
     ]
    },
    {
     "name": "stdout",
     "output_type": "stream",
     "text": [
      "Estimation for 0.25 and 0.12 done\n",
      "It took: 14.288508653640747 seconds.\n",
      "[0.22778351470900013, 0.1519366452690001, 0.11869303255000008, 0.1769430273430001, 0.3246437801280002]\n"
     ]
    },
    {
     "name": "stderr",
     "output_type": "stream",
     "text": [
      "Initial filtering of formulas: 100%|█████████████| 5/5 [00:00<00:00, 254.10it/s]\n",
      "Computing chunks: 100%|███████████████████████| 5/5 [00:00<00:00, 182361.04it/s]\n",
      "Splitting the experimental spectrum into chunks: 27129it [00:00, 2657215.29it/s]\n",
      "Deconvolving chunks: 100%|████████████████████████| 1/1 [00:17<00:00, 17.83s/it]\n"
     ]
    },
    {
     "name": "stdout",
     "output_type": "stream",
     "text": [
      "Estimation for 0.25 and 0.13 done\n",
      "It took: 17.894747495651245 seconds.\n",
      "[0.22784033540100013, 0.1519960632920001, 0.11879097076500009, 0.1768049714760001, 0.32456765906500024]\n"
     ]
    },
    {
     "name": "stderr",
     "output_type": "stream",
     "text": [
      "Initial filtering of formulas: 100%|█████████████| 5/5 [00:00<00:00, 227.10it/s]\n",
      "Computing chunks: 100%|████████████████████████| 5/5 [00:00<00:00, 72067.08it/s]\n",
      "Splitting the experimental spectrum into chunks: 27129it [00:00, 2410236.67it/s]\n",
      "Deconvolving chunks: 100%|████████████████████████| 1/1 [00:16<00:00, 16.48s/it]\n"
     ]
    },
    {
     "name": "stdout",
     "output_type": "stream",
     "text": [
      "Estimation for 0.25 and 0.14 done\n",
      "It took: 16.558255195617676 seconds.\n",
      "[0.22785092688500014, 0.15205401439700011, 0.11888470730900008, 0.17673466250700012, 0.32447568890200024]\n"
     ]
    },
    {
     "name": "stderr",
     "output_type": "stream",
     "text": [
      "Initial filtering of formulas: 100%|█████████████| 5/5 [00:00<00:00, 247.70it/s]\n",
      "Computing chunks: 100%|███████████████████████| 5/5 [00:00<00:00, 109226.67it/s]\n",
      "Splitting the experimental spectrum into chunks: 27129it [00:00, 2581556.67it/s]\n",
      "Deconvolving chunks: 100%|████████████████████████| 1/1 [00:14<00:00, 14.36s/it]\n"
     ]
    },
    {
     "name": "stdout",
     "output_type": "stream",
     "text": [
      "Estimation for 0.25 and 0.15000000000000002 done\n",
      "It took: 14.423397302627563 seconds.\n",
      "[0.22787256685500015, 0.15210606437800012, 0.11896650278300008, 0.1766644126840001, 0.32439045330100025]\n"
     ]
    },
    {
     "name": "stderr",
     "output_type": "stream",
     "text": [
      "Initial filtering of formulas: 100%|█████████████| 5/5 [00:00<00:00, 252.96it/s]\n",
      "Computing chunks: 100%|████████████████████████| 5/5 [00:00<00:00, 49228.92it/s]\n",
      "Splitting the experimental spectrum into chunks: 27129it [00:00, 2636772.33it/s]\n",
      "Deconvolving chunks: 100%|████████████████████████| 1/1 [00:14<00:00, 14.29s/it]\n"
     ]
    },
    {
     "name": "stdout",
     "output_type": "stream",
     "text": [
      "Estimation for 0.25 and 0.16 done\n",
      "It took: 14.361672639846802 seconds.\n",
      "[0.22788341798300013, 0.1521508221640001, 0.11904964934400009, 0.17656052551400012, 0.3243555849950002]\n"
     ]
    },
    {
     "name": "stderr",
     "output_type": "stream",
     "text": [
      "Initial filtering of formulas: 100%|█████████████| 5/5 [00:00<00:00, 182.27it/s]\n",
      "Computing chunks: 100%|████████████████████████| 5/5 [00:00<00:00, 50051.36it/s]\n",
      "Splitting the experimental spectrum into chunks: 27129it [00:00, 2045577.13it/s]\n",
      "Deconvolving chunks: 100%|████████████████████████| 1/1 [00:19<00:00, 19.70s/it]\n"
     ]
    },
    {
     "name": "stdout",
     "output_type": "stream",
     "text": [
      "Estimation for 0.25 and 0.17 done\n",
      "It took: 19.787290811538696 seconds.\n",
      "[0.22787621375700015, 0.15217248439100012, 0.11912340125600009, 0.17645452118800012, 0.32437337940700023]\n"
     ]
    },
    {
     "name": "stderr",
     "output_type": "stream",
     "text": [
      "Initial filtering of formulas: 100%|█████████████| 5/5 [00:00<00:00, 102.40it/s]\n",
      "Computing chunks: 100%|████████████████████████| 5/5 [00:00<00:00, 56833.39it/s]\n",
      "Splitting the experimental spectrum into chunks: 27129it [00:00, 984267.89it/s]\n",
      "Deconvolving chunks: 100%|████████████████████████| 1/1 [00:25<00:00, 25.40s/it]\n"
     ]
    },
    {
     "name": "stdout",
     "output_type": "stream",
     "text": [
      "Estimation for 0.25 and 0.18000000000000002 done\n",
      "It took: 25.564247608184814 seconds.\n",
      "[0.22783150985400014, 0.1522134155370001, 0.11917947778200008, 0.17641476749000012, 0.32436082933600024]\n"
     ]
    },
    {
     "name": "stderr",
     "output_type": "stream",
     "text": [
      "Initial filtering of formulas: 100%|█████████████| 5/5 [00:00<00:00, 199.10it/s]\n",
      "Computing chunks: 100%|████████████████████████| 5/5 [00:00<00:00, 91578.69it/s]\n",
      "Splitting the experimental spectrum into chunks: 27129it [00:00, 1933644.99it/s]\n",
      "Deconvolving chunks: 100%|████████████████████████| 1/1 [00:20<00:00, 20.28s/it]\n"
     ]
    },
    {
     "name": "stdout",
     "output_type": "stream",
     "text": [
      "Estimation for 0.25 and 0.19 done\n",
      "It took: 20.386054754257202 seconds.\n",
      "[0.22780306398700015, 0.1522326516930001, 0.11922764354200008, 0.1763266389200001, 0.3244100018570002]\n"
     ]
    },
    {
     "name": "stderr",
     "output_type": "stream",
     "text": [
      "Initial filtering of formulas: 100%|█████████████| 5/5 [00:00<00:00, 149.55it/s]\n",
      "Computing chunks: 100%|████████████████████████| 5/5 [00:00<00:00, 60963.72it/s]\n",
      "Splitting the experimental spectrum into chunks: 27129it [00:00, 2192771.01it/s]\n",
      "Deconvolving chunks: 100%|████████████████████████| 1/1 [00:19<00:00, 19.04s/it]\n"
     ]
    },
    {
     "name": "stdout",
     "output_type": "stream",
     "text": [
      "Estimation for 0.25 and 0.2 done\n",
      "It took: 19.14182424545288 seconds.\n",
      "[0.22776246757900015, 0.1522477878570001, 0.11926837176200009, 0.1762298060690001, 0.32449156673200025]\n"
     ]
    },
    {
     "name": "stderr",
     "output_type": "stream",
     "text": [
      "Initial filtering of formulas: 100%|█████████████| 5/5 [00:00<00:00, 199.76it/s]\n",
      "Computing chunks: 100%|████████████████████████| 5/5 [00:00<00:00, 70374.23it/s]\n",
      "Splitting the experimental spectrum into chunks: 27129it [00:00, 1998757.63it/s]\n",
      "Deconvolving chunks: 100%|████████████████████████| 1/1 [00:17<00:00, 17.17s/it]\n"
     ]
    },
    {
     "name": "stdout",
     "output_type": "stream",
     "text": [
      "Estimation for 0.25 and 0.21000000000000002 done\n",
      "It took: 17.2693829536438 seconds.\n",
      "[0.22773573701700014, 0.15222751912300012, 0.11930434740600009, 0.1761614202980001, 0.32457097615500025]\n"
     ]
    },
    {
     "name": "stderr",
     "output_type": "stream",
     "text": [
      "Initial filtering of formulas: 100%|█████████████| 5/5 [00:00<00:00, 143.15it/s]\n",
      "Computing chunks: 100%|████████████████████████| 5/5 [00:00<00:00, 72817.78it/s]\n",
      "Splitting the experimental spectrum into chunks: 27129it [00:00, 2258894.11it/s]\n",
      "Deconvolving chunks: 100%|████████████████████████| 1/1 [00:18<00:00, 18.45s/it]\n"
     ]
    },
    {
     "name": "stdout",
     "output_type": "stream",
     "text": [
      "Estimation for 0.25 and 0.22 done\n",
      "It took: 18.555384635925293 seconds.\n",
      "[0.22771699981100013, 0.1522123439050001, 0.11933751746600009, 0.1761147884680001, 0.32461835035100023]\n"
     ]
    },
    {
     "name": "stderr",
     "output_type": "stream",
     "text": [
      "Initial filtering of formulas: 100%|█████████████| 5/5 [00:00<00:00, 210.77it/s]\n",
      "Computing chunks: 100%|████████████████████████| 5/5 [00:00<00:00, 92794.34it/s]\n",
      "Splitting the experimental spectrum into chunks: 27129it [00:00, 2318498.58it/s]\n",
      "Deconvolving chunks: 100%|████████████████████████| 1/1 [00:21<00:00, 21.73s/it]\n"
     ]
    },
    {
     "name": "stdout",
     "output_type": "stream",
     "text": [
      "Estimation for 0.25 and 0.23 done\n",
      "It took: 21.822392463684082 seconds.\n",
      "[0.22770731212400014, 0.1522078328980001, 0.11937316477800008, 0.1760150523690001, 0.3246966378310002]\n"
     ]
    },
    {
     "name": "stderr",
     "output_type": "stream",
     "text": [
      "Initial filtering of formulas: 100%|█████████████| 5/5 [00:00<00:00, 135.00it/s]\n",
      "Computing chunks: 100%|████████████████████████| 5/5 [00:00<00:00, 49344.75it/s]\n",
      "Splitting the experimental spectrum into chunks: 27129it [00:00, 1642354.88it/s]\n",
      "Deconvolving chunks: 100%|████████████████████████| 1/1 [00:26<00:00, 26.96s/it]\n"
     ]
    },
    {
     "name": "stdout",
     "output_type": "stream",
     "text": [
      "Estimation for 0.25 and 0.24000000000000002 done\n",
      "It took: 27.10693645477295 seconds.\n",
      "[0.22770803335500014, 0.1521777697000001, 0.11940912418000009, 0.1759238086870001, 0.3247812640770002]\n"
     ]
    },
    {
     "name": "stderr",
     "output_type": "stream",
     "text": [
      "Initial filtering of formulas: 100%|█████████████| 5/5 [00:00<00:00, 157.56it/s]\n",
      "Computing chunks: 100%|███████████████████████| 5/5 [00:00<00:00, 127100.12it/s]\n",
      "Splitting the experimental spectrum into chunks: 27129it [00:00, 1748878.37it/s]\n",
      "Deconvolving chunks: 100%|████████████████████████| 1/1 [00:17<00:00, 17.68s/it]\n"
     ]
    },
    {
     "name": "stdout",
     "output_type": "stream",
     "text": [
      "Estimation for 0.25 and 0.25 done\n",
      "It took: 17.79674243927002 seconds.\n",
      "[0.22772886180200014, 0.1521818492400001, 0.11946644571500008, 0.1758593706820001, 0.3247634725620002]\n"
     ]
    },
    {
     "name": "stderr",
     "output_type": "stream",
     "text": [
      "Initial filtering of formulas: 100%|█████████████| 5/5 [00:00<00:00, 228.51it/s]\n",
      "Computing chunks: 100%|████████████████████████| 5/5 [00:00<00:00, 66156.21it/s]\n",
      "Splitting the experimental spectrum into chunks: 27129it [00:00, 2133964.84it/s]\n",
      "Deconvolving chunks: 100%|████████████████████████| 1/1 [00:18<00:00, 18.23s/it]\n"
     ]
    },
    {
     "name": "stdout",
     "output_type": "stream",
     "text": [
      "Estimation for 0.25 and 0.26 done\n",
      "It took: 18.32316017150879 seconds.\n",
      "[0.22782544344600014, 0.15216589354000012, 0.11951817571300008, 0.17573884799600012, 0.3247516393040002]\n"
     ]
    },
    {
     "name": "stderr",
     "output_type": "stream",
     "text": [
      "Initial filtering of formulas: 100%|█████████████| 5/5 [00:00<00:00, 211.65it/s]\n",
      "Computing chunks: 100%|████████████████████████| 5/5 [00:00<00:00, 99864.38it/s]\n",
      "Splitting the experimental spectrum into chunks: 27129it [00:00, 2248893.67it/s]\n",
      "Deconvolving chunks: 100%|████████████████████████| 1/1 [00:18<00:00, 18.58s/it]\n"
     ]
    },
    {
     "name": "stdout",
     "output_type": "stream",
     "text": [
      "Estimation for 0.25 and 0.27 done\n",
      "It took: 18.67439842224121 seconds.\n",
      "[0.22791411451500013, 0.1521715697220001, 0.11956562842200008, 0.1756237865650001, 0.32472490077600025]\n"
     ]
    },
    {
     "name": "stderr",
     "output_type": "stream",
     "text": [
      "Initial filtering of formulas: 100%|█████████████| 5/5 [00:00<00:00, 155.25it/s]\n",
      "Computing chunks: 100%|████████████████████████| 5/5 [00:00<00:00, 45889.54it/s]\n",
      "Splitting the experimental spectrum into chunks: 27129it [00:00, 1630143.45it/s]\n",
      "Deconvolving chunks: 100%|████████████████████████| 1/1 [00:25<00:00, 25.03s/it]\n"
     ]
    },
    {
     "name": "stdout",
     "output_type": "stream",
     "text": [
      "Estimation for 0.25 and 0.28 done\n",
      "It took: 25.15410614013672 seconds.\n",
      "[0.22800375479400015, 0.15215051239700011, 0.11961429280000008, 0.1755478191290001, 0.32468362088000025]\n"
     ]
    },
    {
     "name": "stderr",
     "output_type": "stream",
     "text": [
      "Initial filtering of formulas: 100%|█████████████| 5/5 [00:00<00:00, 111.56it/s]\n",
      "Computing chunks: 100%|████████████████████████| 5/5 [00:00<00:00, 26313.07it/s]\n",
      "Splitting the experimental spectrum into chunks: 27129it [00:00, 1299698.15it/s]\n",
      "Deconvolving chunks: 100%|████████████████████████| 1/1 [00:23<00:00, 23.54s/it]\n"
     ]
    },
    {
     "name": "stdout",
     "output_type": "stream",
     "text": [
      "Estimation for 0.25 and 0.29000000000000004 done\n",
      "It took: 23.70110535621643 seconds.\n",
      "[0.22809941287700014, 0.15212366909200012, 0.11966622541100008, 0.1754658630820001, 0.3246448295380002]\n"
     ]
    },
    {
     "name": "stderr",
     "output_type": "stream",
     "text": [
      "Initial filtering of formulas: 100%|█████████████| 5/5 [00:00<00:00, 127.17it/s]\n",
      "Computing chunks: 100%|████████████████████████| 5/5 [00:00<00:00, 64726.91it/s]\n",
      "Splitting the experimental spectrum into chunks: 27129it [00:00, 1370204.63it/s]\n",
      "Deconvolving chunks: 100%|████████████████████████| 1/1 [00:20<00:00, 20.74s/it]\n"
     ]
    },
    {
     "name": "stdout",
     "output_type": "stream",
     "text": [
      "Estimation for 0.25 and 0.3 done\n",
      "It took: 20.873476028442383 seconds.\n",
      "[0.22815864652600013, 0.1521179926380001, 0.11970635970500008, 0.1753981384460001, 0.3246188626840002]\n"
     ]
    },
    {
     "name": "stderr",
     "output_type": "stream",
     "text": [
      "Initial filtering of formulas: 100%|█████████████| 5/5 [00:00<00:00, 209.00it/s]\n",
      "Computing chunks: 100%|████████████████████████| 5/5 [00:00<00:00, 87746.95it/s]\n",
      "Splitting the experimental spectrum into chunks: 27129it [00:00, 2074819.90it/s]\n",
      "Deconvolving chunks: 100%|████████████████████████| 1/1 [00:20<00:00, 20.15s/it]\n"
     ]
    },
    {
     "name": "stdout",
     "output_type": "stream",
     "text": [
      "Estimation for 0.26 and 0.01 done\n",
      "It took: 20.245701789855957 seconds.\n",
      "[0.21755084554200013, 0.1842519119180001, 0.11203796674500006, 0.1721534951830001, 0.31400578061200024]\n"
     ]
    },
    {
     "name": "stderr",
     "output_type": "stream",
     "text": [
      "Initial filtering of formulas: 100%|█████████████| 5/5 [00:00<00:00, 216.64it/s]\n",
      "Computing chunks: 100%|████████████████████████| 5/5 [00:00<00:00, 72565.81it/s]\n",
      "Splitting the experimental spectrum into chunks: 27129it [00:00, 1919682.71it/s]\n",
      "Deconvolving chunks: 100%|████████████████████████| 1/1 [00:20<00:00, 20.59s/it]\n"
     ]
    },
    {
     "name": "stdout",
     "output_type": "stream",
     "text": [
      "Estimation for 0.26 and 0.02 done\n",
      "It took: 20.688127040863037 seconds.\n",
      "[0.22749747499800013, 0.15057183637400012, 0.11728689957200009, 0.1773559218180001, 0.32728786723800024]\n"
     ]
    },
    {
     "name": "stderr",
     "output_type": "stream",
     "text": [
      "Initial filtering of formulas: 100%|█████████████| 5/5 [00:00<00:00, 216.69it/s]\n",
      "Computing chunks: 100%|███████████████████████| 5/5 [00:00<00:00, 127100.12it/s]\n",
      "Splitting the experimental spectrum into chunks: 27129it [00:00, 2103004.66it/s]\n",
      "Deconvolving chunks: 100%|████████████████████████| 1/1 [00:25<00:00, 25.11s/it]\n"
     ]
    },
    {
     "name": "stdout",
     "output_type": "stream",
     "text": [
      "Estimation for 0.26 and 0.03 done\n",
      "It took: 25.205660343170166 seconds.\n",
      "[0.22773846947000015, 0.15085527514200012, 0.11753960541000008, 0.1770456446430001, 0.32682100533500025]\n"
     ]
    },
    {
     "name": "stderr",
     "output_type": "stream",
     "text": [
      "Initial filtering of formulas: 100%|█████████████| 5/5 [00:00<00:00, 140.43it/s]\n",
      "Computing chunks: 100%|████████████████████████| 5/5 [00:00<00:00, 25236.49it/s]\n",
      "Splitting the experimental spectrum into chunks: 27129it [00:00, 877020.52it/s]\n",
      "Deconvolving chunks: 100%|████████████████████████| 1/1 [00:23<00:00, 23.76s/it]\n"
     ]
    },
    {
     "name": "stdout",
     "output_type": "stream",
     "text": [
      "Estimation for 0.26 and 0.04 done\n",
      "It took: 23.93204927444458 seconds.\n",
      "[0.22792690637900015, 0.15107391778000012, 0.11773124674100008, 0.17717095468800012, 0.3260969744120002]\n"
     ]
    },
    {
     "name": "stderr",
     "output_type": "stream",
     "text": [
      "Initial filtering of formulas: 100%|█████████████| 5/5 [00:00<00:00, 213.76it/s]\n",
      "Computing chunks: 100%|████████████████████████| 5/5 [00:00<00:00, 55775.32it/s]\n",
      "Splitting the experimental spectrum into chunks: 27129it [00:00, 1538559.88it/s]\n",
      "Deconvolving chunks: 100%|████████████████████████| 1/1 [00:20<00:00, 20.00s/it]\n"
     ]
    },
    {
     "name": "stdout",
     "output_type": "stream",
     "text": [
      "Estimation for 0.26 and 0.05 done\n",
      "It took: 20.10112428665161 seconds.\n",
      "[0.22800614495500013, 0.1511773893160001, 0.11784200944000009, 0.1771073672140001, 0.3258670890750002]\n"
     ]
    },
    {
     "name": "stderr",
     "output_type": "stream",
     "text": [
      "Initial filtering of formulas: 100%|█████████████| 5/5 [00:00<00:00, 216.19it/s]\n",
      "Computing chunks: 100%|████████████████████████| 5/5 [00:00<00:00, 86659.17it/s]\n",
      "Splitting the experimental spectrum into chunks: 27129it [00:00, 2376509.47it/s]\n",
      "Deconvolving chunks: 100%|████████████████████████| 1/1 [00:22<00:00, 22.29s/it]\n"
     ]
    },
    {
     "name": "stdout",
     "output_type": "stream",
     "text": [
      "Estimation for 0.26 and 0.060000000000000005 done\n",
      "It took: 22.381369590759277 seconds.\n",
      "[0.22791342622200014, 0.15134016525300012, 0.11800515032200008, 0.1772390948450001, 0.3255021633580002]\n"
     ]
    },
    {
     "name": "stderr",
     "output_type": "stream",
     "text": [
      "Initial filtering of formulas: 100%|█████████████| 5/5 [00:00<00:00, 194.80it/s]\n",
      "Computing chunks: 100%|████████████████████████| 5/5 [00:00<00:00, 71089.90it/s]\n",
      "Splitting the experimental spectrum into chunks: 27129it [00:00, 2251652.78it/s]\n",
      "Deconvolving chunks: 100%|████████████████████████| 1/1 [00:18<00:00, 18.55s/it]\n"
     ]
    },
    {
     "name": "stdout",
     "output_type": "stream",
     "text": [
      "Estimation for 0.26 and 0.06999999999999999 done\n",
      "It took: 18.644835710525513 seconds.\n",
      "[0.22785881068300015, 0.1515704520090001, 0.11822816222900008, 0.1770364514150001, 0.3253061236630002]\n"
     ]
    },
    {
     "name": "stderr",
     "output_type": "stream",
     "text": [
      "Initial filtering of formulas: 100%|█████████████| 5/5 [00:00<00:00, 114.72it/s]\n",
      "Computing chunks: 100%|███████████████████████| 5/5 [00:00<00:00, 143640.55it/s]\n",
      "Splitting the experimental spectrum into chunks: 27129it [00:00, 2310448.40it/s]\n",
      "Deconvolving chunks: 100%|████████████████████████| 1/1 [00:23<00:00, 23.22s/it]\n"
     ]
    },
    {
     "name": "stdout",
     "output_type": "stream",
     "text": [
      "Estimation for 0.26 and 0.08 done\n",
      "It took: 23.34824299812317 seconds.\n",
      "[0.22780351728000015, 0.15160544045800012, 0.11831141473700009, 0.17701688002900012, 0.32526274749700024]\n"
     ]
    },
    {
     "name": "stderr",
     "output_type": "stream",
     "text": [
      "Initial filtering of formulas: 100%|█████████████| 5/5 [00:00<00:00, 207.68it/s]\n",
      "Computing chunks: 100%|████████████████████████| 5/5 [00:00<00:00, 41282.52it/s]\n",
      "Splitting the experimental spectrum into chunks: 27129it [00:00, 2271701.84it/s]\n",
      "Deconvolving chunks: 100%|████████████████████████| 1/1 [00:16<00:00, 16.25s/it]\n"
     ]
    },
    {
     "name": "stdout",
     "output_type": "stream",
     "text": [
      "Estimation for 0.26 and 0.09 done\n",
      "It took: 16.348134517669678 seconds.\n",
      "[0.22783946788900014, 0.1516823182740001, 0.11841013928600008, 0.17697185787600012, 0.32509621667600025]\n"
     ]
    },
    {
     "name": "stderr",
     "output_type": "stream",
     "text": [
      "Initial filtering of formulas: 100%|█████████████| 5/5 [00:00<00:00, 217.85it/s]\n",
      "Computing chunks: 100%|████████████████████████| 5/5 [00:00<00:00, 70138.86it/s]\n",
      "Splitting the experimental spectrum into chunks: 27129it [00:00, 2293358.46it/s]\n",
      "Deconvolving chunks: 100%|████████████████████████| 1/1 [00:16<00:00, 16.08s/it]\n"
     ]
    },
    {
     "name": "stdout",
     "output_type": "stream",
     "text": [
      "Estimation for 0.26 and 0.09999999999999999 done\n",
      "It took: 16.15225648880005 seconds.\n",
      "[0.22779971472800015, 0.15178166800000012, 0.11852719681500008, 0.17697388810100012, 0.3249175323570002]\n"
     ]
    },
    {
     "name": "stderr",
     "output_type": "stream",
     "text": [
      "Initial filtering of formulas: 100%|█████████████| 5/5 [00:00<00:00, 262.44it/s]\n",
      "Computing chunks: 100%|███████████████████████| 5/5 [00:00<00:00, 154202.35it/s]\n",
      "Splitting the experimental spectrum into chunks: 27129it [00:00, 2834689.55it/s]\n",
      "Deconvolving chunks: 100%|████████████████████████| 1/1 [00:15<00:00, 15.78s/it]\n"
     ]
    },
    {
     "name": "stdout",
     "output_type": "stream",
     "text": [
      "Estimation for 0.26 and 0.11 done\n",
      "It took: 15.838046312332153 seconds.\n",
      "[0.22774682495400014, 0.1518660946840001, 0.11860870270100009, 0.1769868547910001, 0.32479152287000024]\n"
     ]
    },
    {
     "name": "stderr",
     "output_type": "stream",
     "text": [
      "Initial filtering of formulas: 100%|█████████████| 5/5 [00:00<00:00, 235.86it/s]\n",
      "Computing chunks: 100%|████████████████████████| 5/5 [00:00<00:00, 77385.68it/s]\n",
      "Splitting the experimental spectrum into chunks: 27129it [00:00, 1723605.64it/s]\n",
      "Deconvolving chunks: 100%|████████████████████████| 1/1 [00:18<00:00, 18.32s/it]\n"
     ]
    },
    {
     "name": "stdout",
     "output_type": "stream",
     "text": [
      "Estimation for 0.26 and 0.12 done\n",
      "It took: 18.397329330444336 seconds.\n",
      "[0.22778351470900013, 0.1519366452690001, 0.11869303255000008, 0.1769430273430001, 0.3246437801280002]\n"
     ]
    },
    {
     "name": "stderr",
     "output_type": "stream",
     "text": [
      "Initial filtering of formulas: 100%|█████████████| 5/5 [00:00<00:00, 150.66it/s]\n",
      "Computing chunks: 100%|████████████████████████| 5/5 [00:00<00:00, 66788.28it/s]\n",
      "Splitting the experimental spectrum into chunks: 27129it [00:00, 1764253.18it/s]\n",
      "Deconvolving chunks: 100%|████████████████████████| 1/1 [00:16<00:00, 16.43s/it]\n"
     ]
    },
    {
     "name": "stdout",
     "output_type": "stream",
     "text": [
      "Estimation for 0.26 and 0.13 done\n",
      "It took: 16.538677215576172 seconds.\n",
      "[0.22784033540100013, 0.1519960632920001, 0.11879097076500009, 0.1768049714760001, 0.32456765906500024]\n"
     ]
    },
    {
     "name": "stderr",
     "output_type": "stream",
     "text": [
      "Initial filtering of formulas: 100%|█████████████| 5/5 [00:00<00:00, 261.01it/s]\n",
      "Computing chunks: 100%|███████████████████████| 5/5 [00:00<00:00, 148734.18it/s]\n",
      "Splitting the experimental spectrum into chunks: 27129it [00:00, 2844539.60it/s]\n",
      "Deconvolving chunks: 100%|████████████████████████| 1/1 [00:14<00:00, 14.81s/it]\n"
     ]
    },
    {
     "name": "stdout",
     "output_type": "stream",
     "text": [
      "Estimation for 0.26 and 0.14 done\n",
      "It took: 14.874383449554443 seconds.\n",
      "[0.22785092688500014, 0.15205401439700011, 0.11888470730900008, 0.17673466250700012, 0.32447568890200024]\n"
     ]
    },
    {
     "name": "stderr",
     "output_type": "stream",
     "text": [
      "Initial filtering of formulas: 100%|█████████████| 5/5 [00:00<00:00, 271.80it/s]\n",
      "Computing chunks: 100%|████████████████████████| 5/5 [00:00<00:00, 63743.22it/s]\n",
      "Splitting the experimental spectrum into chunks: 27129it [00:00, 1763788.28it/s]\n",
      "Deconvolving chunks: 100%|████████████████████████| 1/1 [00:17<00:00, 17.87s/it]\n"
     ]
    },
    {
     "name": "stdout",
     "output_type": "stream",
     "text": [
      "Estimation for 0.26 and 0.15000000000000002 done\n",
      "It took: 17.946235179901123 seconds.\n",
      "[0.22787256685500015, 0.15210606437800012, 0.11896650278300008, 0.1766644126840001, 0.32439045330100025]\n"
     ]
    },
    {
     "name": "stderr",
     "output_type": "stream",
     "text": [
      "Initial filtering of formulas: 100%|█████████████| 5/5 [00:00<00:00, 225.53it/s]\n",
      "Computing chunks: 100%|████████████████████████| 5/5 [00:00<00:00, 55775.32it/s]\n",
      "Splitting the experimental spectrum into chunks: 27129it [00:00, 1179888.56it/s]\n",
      "Deconvolving chunks: 100%|████████████████████████| 1/1 [00:18<00:00, 18.38s/it]\n"
     ]
    },
    {
     "name": "stdout",
     "output_type": "stream",
     "text": [
      "Estimation for 0.26 and 0.16 done\n",
      "It took: 18.49403738975525 seconds.\n",
      "[0.22788341798300013, 0.1521508221640001, 0.11904964934400009, 0.17656052551400012, 0.3243555849950002]\n"
     ]
    },
    {
     "name": "stderr",
     "output_type": "stream",
     "text": [
      "Initial filtering of formulas: 100%|█████████████| 5/5 [00:00<00:00, 228.30it/s]\n",
      "Computing chunks: 100%|████████████████████████| 5/5 [00:00<00:00, 71820.27it/s]\n",
      "Splitting the experimental spectrum into chunks: 27129it [00:00, 2190449.37it/s]\n",
      "Deconvolving chunks: 100%|████████████████████████| 1/1 [00:16<00:00, 16.41s/it]\n"
     ]
    },
    {
     "name": "stdout",
     "output_type": "stream",
     "text": [
      "Estimation for 0.26 and 0.17 done\n",
      "It took: 16.497682809829712 seconds.\n",
      "[0.22787621375700015, 0.15217248439100012, 0.11912340125600009, 0.17645452118800012, 0.32437337940700023]\n"
     ]
    },
    {
     "name": "stderr",
     "output_type": "stream",
     "text": [
      "Initial filtering of formulas: 100%|█████████████| 5/5 [00:00<00:00, 241.39it/s]\n",
      "Computing chunks: 100%|████████████████████████| 5/5 [00:00<00:00, 41040.16it/s]\n",
      "Splitting the experimental spectrum into chunks: 27129it [00:00, 1395563.54it/s]\n",
      "Deconvolving chunks: 100%|████████████████████████| 1/1 [00:14<00:00, 14.69s/it]\n"
     ]
    },
    {
     "name": "stdout",
     "output_type": "stream",
     "text": [
      "Estimation for 0.26 and 0.18000000000000002 done\n",
      "It took: 14.768274545669556 seconds.\n",
      "[0.22783150985400014, 0.1522134155370001, 0.11917947778200008, 0.17641476749000012, 0.32436082933600024]\n"
     ]
    },
    {
     "name": "stderr",
     "output_type": "stream",
     "text": [
      "Initial filtering of formulas: 100%|█████████████| 5/5 [00:00<00:00, 244.96it/s]\n",
      "Computing chunks: 100%|████████████████████████| 5/5 [00:00<00:00, 98457.84it/s]\n",
      "Splitting the experimental spectrum into chunks: 27129it [00:00, 1712271.24it/s]\n",
      "Deconvolving chunks: 100%|████████████████████████| 1/1 [00:13<00:00, 14.00s/it]\n"
     ]
    },
    {
     "name": "stdout",
     "output_type": "stream",
     "text": [
      "Estimation for 0.26 and 0.19 done\n",
      "It took: 14.068114757537842 seconds.\n",
      "[0.22780306398700015, 0.1522326516930001, 0.11922764354200008, 0.1763266389200001, 0.3244100018570002]\n"
     ]
    },
    {
     "name": "stderr",
     "output_type": "stream",
     "text": [
      "Initial filtering of formulas: 100%|█████████████| 5/5 [00:00<00:00, 251.86it/s]\n",
      "Computing chunks: 100%|███████████████████████| 5/5 [00:00<00:00, 199728.76it/s]\n",
      "Splitting the experimental spectrum into chunks: 27129it [00:00, 2671125.45it/s]\n",
      "Deconvolving chunks: 100%|████████████████████████| 1/1 [00:17<00:00, 17.24s/it]\n"
     ]
    },
    {
     "name": "stdout",
     "output_type": "stream",
     "text": [
      "Estimation for 0.26 and 0.2 done\n",
      "It took: 17.310483932495117 seconds.\n",
      "[0.22776246757900015, 0.1522477878570001, 0.11926837176200009, 0.1762298060690001, 0.32449156673200025]\n"
     ]
    },
    {
     "name": "stderr",
     "output_type": "stream",
     "text": [
      "Initial filtering of formulas: 100%|█████████████| 5/5 [00:00<00:00, 145.80it/s]\n",
      "Computing chunks: 100%|████████████████████████| 5/5 [00:00<00:00, 91980.35it/s]\n",
      "Splitting the experimental spectrum into chunks: 27129it [00:00, 1744481.17it/s]\n",
      "Deconvolving chunks: 100%|████████████████████████| 1/1 [00:18<00:00, 18.88s/it]\n"
     ]
    },
    {
     "name": "stdout",
     "output_type": "stream",
     "text": [
      "Estimation for 0.26 and 0.21000000000000002 done\n",
      "It took: 19.005078077316284 seconds.\n",
      "[0.22773573701700014, 0.15222751912300012, 0.11930434740600009, 0.1761614202980001, 0.32457097615500025]\n"
     ]
    },
    {
     "name": "stderr",
     "output_type": "stream",
     "text": [
      "Initial filtering of formulas: 100%|█████████████| 5/5 [00:00<00:00, 261.15it/s]\n",
      "Computing chunks: 100%|███████████████████████| 5/5 [00:00<00:00, 205603.14it/s]\n",
      "Splitting the experimental spectrum into chunks: 27129it [00:00, 2857684.29it/s]\n",
      "Deconvolving chunks: 100%|████████████████████████| 1/1 [00:14<00:00, 14.84s/it]\n"
     ]
    },
    {
     "name": "stdout",
     "output_type": "stream",
     "text": [
      "Estimation for 0.26 and 0.22 done\n",
      "It took: 14.908719539642334 seconds.\n",
      "[0.22771710047500013, 0.1522124115860001, 0.11933757262300008, 0.1761144221920001, 0.3246184931240002]\n"
     ]
    },
    {
     "name": "stderr",
     "output_type": "stream",
     "text": [
      "Initial filtering of formulas: 100%|█████████████| 5/5 [00:00<00:00, 148.65it/s]\n",
      "Computing chunks: 100%|████████████████████████| 5/5 [00:00<00:00, 93622.86it/s]\n",
      "Splitting the experimental spectrum into chunks: 27129it [00:00, 1707850.89it/s]\n",
      "Deconvolving chunks: 100%|████████████████████████| 1/1 [00:27<00:00, 27.37s/it]\n"
     ]
    },
    {
     "name": "stdout",
     "output_type": "stream",
     "text": [
      "Estimation for 0.26 and 0.23 done\n",
      "It took: 27.48247790336609 seconds.\n",
      "[0.22770747215200013, 0.15220767635400012, 0.11937316464300009, 0.1760150500970001, 0.32469663675400023]\n"
     ]
    },
    {
     "name": "stderr",
     "output_type": "stream",
     "text": [
      "Initial filtering of formulas: 100%|█████████████| 5/5 [00:00<00:00, 108.43it/s]\n",
      "Computing chunks: 100%|████████████████████████| 5/5 [00:00<00:00, 34492.63it/s]\n",
      "Splitting the experimental spectrum into chunks: 27129it [00:00, 1257957.34it/s]\n",
      "Deconvolving chunks: 100%|████████████████████████| 1/1 [00:26<00:00, 26.65s/it]\n"
     ]
    },
    {
     "name": "stdout",
     "output_type": "stream",
     "text": [
      "Estimation for 0.26 and 0.24000000000000002 done\n",
      "It took: 26.819664001464844 seconds.\n",
      "[0.22770803335500014, 0.1521777697000001, 0.11940912418000009, 0.1759238086870001, 0.3247812640770002]\n"
     ]
    },
    {
     "name": "stderr",
     "output_type": "stream",
     "text": [
      "Initial filtering of formulas: 100%|█████████████| 5/5 [00:00<00:00, 176.85it/s]\n",
      "Computing chunks: 100%|████████████████████████| 5/5 [00:00<00:00, 58908.76it/s]\n",
      "Splitting the experimental spectrum into chunks: 27129it [00:00, 1810688.29it/s]\n",
      "Deconvolving chunks: 100%|████████████████████████| 1/1 [00:17<00:00, 18.00s/it]\n"
     ]
    },
    {
     "name": "stdout",
     "output_type": "stream",
     "text": [
      "Estimation for 0.26 and 0.25 done\n",
      "It took: 18.112674474716187 seconds.\n",
      "[0.22772886180200014, 0.1521818492400001, 0.11946644571500008, 0.1758593706820001, 0.3247634725620002]\n"
     ]
    },
    {
     "name": "stderr",
     "output_type": "stream",
     "text": [
      "Initial filtering of formulas: 100%|█████████████| 5/5 [00:00<00:00, 201.82it/s]\n",
      "Computing chunks: 100%|████████████████████████| 5/5 [00:00<00:00, 79739.62it/s]\n",
      "Splitting the experimental spectrum into chunks: 27129it [00:00, 1607959.77it/s]\n",
      "Deconvolving chunks: 100%|████████████████████████| 1/1 [00:17<00:00, 17.08s/it]\n"
     ]
    },
    {
     "name": "stdout",
     "output_type": "stream",
     "text": [
      "Estimation for 0.26 and 0.26 done\n",
      "It took: 17.17771816253662 seconds.\n",
      "[0.22782544344600014, 0.15216589354000012, 0.11951817571300008, 0.17573884799600012, 0.3247516393040002]\n"
     ]
    },
    {
     "name": "stderr",
     "output_type": "stream",
     "text": [
      "Initial filtering of formulas: 100%|█████████████| 5/5 [00:00<00:00, 117.61it/s]\n",
      "Computing chunks: 100%|████████████████████████| 5/5 [00:00<00:00, 48884.66it/s]\n",
      "Splitting the experimental spectrum into chunks: 27129it [00:00, 1484214.09it/s]\n",
      "Deconvolving chunks: 100%|████████████████████████| 1/1 [00:17<00:00, 17.46s/it]\n"
     ]
    },
    {
     "name": "stdout",
     "output_type": "stream",
     "text": [
      "Estimation for 0.26 and 0.27 done\n",
      "It took: 17.583411931991577 seconds.\n",
      "[0.22791411451500013, 0.1521715697220001, 0.11956562842200008, 0.1756237865650001, 0.32472490077600025]\n"
     ]
    },
    {
     "name": "stderr",
     "output_type": "stream",
     "text": [
      "Initial filtering of formulas: 100%|█████████████| 5/5 [00:00<00:00, 214.40it/s]\n",
      "Computing chunks: 100%|████████████████████████| 5/5 [00:00<00:00, 61141.46it/s]\n",
      "Splitting the experimental spectrum into chunks: 27129it [00:00, 1492879.47it/s]\n",
      "Deconvolving chunks: 100%|████████████████████████| 1/1 [00:18<00:00, 18.15s/it]\n"
     ]
    },
    {
     "name": "stdout",
     "output_type": "stream",
     "text": [
      "Estimation for 0.26 and 0.28 done\n",
      "It took: 18.241095304489136 seconds.\n",
      "[0.22800375479400015, 0.15215051239700011, 0.11961429280000008, 0.1755478191290001, 0.32468362088000025]\n"
     ]
    },
    {
     "name": "stderr",
     "output_type": "stream",
     "text": [
      "Initial filtering of formulas: 100%|█████████████| 5/5 [00:00<00:00, 189.40it/s]\n",
      "Computing chunks: 100%|████████████████████████| 5/5 [00:00<00:00, 34778.64it/s]\n",
      "Splitting the experimental spectrum into chunks: 27129it [00:00, 2036169.73it/s]\n",
      "Deconvolving chunks: 100%|████████████████████████| 1/1 [00:26<00:00, 26.14s/it]\n"
     ]
    },
    {
     "name": "stdout",
     "output_type": "stream",
     "text": [
      "Estimation for 0.26 and 0.29000000000000004 done\n",
      "It took: 26.23605442047119 seconds.\n",
      "[0.22809941287700014, 0.15212366909200012, 0.11966622541100008, 0.1754658630820001, 0.3246448295380002]\n"
     ]
    },
    {
     "name": "stderr",
     "output_type": "stream",
     "text": [
      "Initial filtering of formulas: 100%|█████████████| 5/5 [00:00<00:00, 122.03it/s]\n",
      "Computing chunks: 100%|████████████████████████| 5/5 [00:00<00:00, 19526.55it/s]\n",
      "Splitting the experimental spectrum into chunks: 27129it [00:00, 1561060.67it/s]\n",
      "Deconvolving chunks: 100%|████████████████████████| 1/1 [00:24<00:00, 24.39s/it]\n"
     ]
    },
    {
     "name": "stdout",
     "output_type": "stream",
     "text": [
      "Estimation for 0.26 and 0.3 done\n",
      "It took: 24.56368398666382 seconds.\n",
      "[0.22815864652600013, 0.1521179926380001, 0.11970635970500008, 0.1753981384460001, 0.3246188626840002]\n"
     ]
    },
    {
     "name": "stderr",
     "output_type": "stream",
     "text": [
      "Initial filtering of formulas: 100%|█████████████| 5/5 [00:00<00:00, 227.59it/s]\n",
      "Computing chunks: 100%|████████████████████████| 5/5 [00:00<00:00, 86659.17it/s]\n",
      "Splitting the experimental spectrum into chunks: 27129it [00:00, 2620075.83it/s]\n",
      "Deconvolving chunks: 100%|████████████████████████| 1/1 [00:19<00:00, 19.87s/it]\n"
     ]
    },
    {
     "name": "stdout",
     "output_type": "stream",
     "text": [
      "Estimation for 0.27 and 0.01 done\n",
      "It took: 19.953014373779297 seconds.\n",
      "[0.21755084554200013, 0.1842519119180001, 0.11203796674500006, 0.1721534951830001, 0.31400578061200024]\n"
     ]
    },
    {
     "name": "stderr",
     "output_type": "stream",
     "text": [
      "Initial filtering of formulas: 100%|█████████████| 5/5 [00:00<00:00, 211.48it/s]\n",
      "Computing chunks: 100%|████████████████████████| 5/5 [00:00<00:00, 42027.09it/s]\n",
      "Splitting the experimental spectrum into chunks: 27129it [00:00, 2248627.02it/s]\n",
      "Deconvolving chunks: 100%|████████████████████████| 1/1 [00:18<00:00, 18.74s/it]\n"
     ]
    },
    {
     "name": "stdout",
     "output_type": "stream",
     "text": [
      "Estimation for 0.27 and 0.02 done\n",
      "It took: 18.838275909423828 seconds.\n",
      "[0.22749747499800013, 0.15057183637400012, 0.11728689957200009, 0.1773559218180001, 0.32728786723800024]\n"
     ]
    },
    {
     "name": "stderr",
     "output_type": "stream",
     "text": [
      "Initial filtering of formulas: 100%|██████████████| 5/5 [00:00<00:00, 96.68it/s]\n",
      "Computing chunks: 100%|████████████████████████| 5/5 [00:00<00:00, 51150.05it/s]\n",
      "Splitting the experimental spectrum into chunks: 27129it [00:00, 1601960.77it/s]\n",
      "Deconvolving chunks: 100%|████████████████████████| 1/1 [00:19<00:00, 19.02s/it]\n"
     ]
    },
    {
     "name": "stdout",
     "output_type": "stream",
     "text": [
      "Estimation for 0.27 and 0.03 done\n",
      "It took: 19.154085397720337 seconds.\n",
      "[0.22773846947000015, 0.15085527514200012, 0.11753960541000008, 0.1770456446430001, 0.32682100533500025]\n"
     ]
    },
    {
     "name": "stderr",
     "output_type": "stream",
     "text": [
      "Initial filtering of formulas: 100%|█████████████| 5/5 [00:00<00:00, 133.13it/s]\n",
      "Computing chunks: 100%|████████████████████████| 5/5 [00:00<00:00, 32768.00it/s]\n",
      "Splitting the experimental spectrum into chunks: 27129it [00:00, 1603947.92it/s]\n",
      "Deconvolving chunks: 100%|████████████████████████| 1/1 [00:21<00:00, 21.68s/it]\n"
     ]
    },
    {
     "name": "stdout",
     "output_type": "stream",
     "text": [
      "Estimation for 0.27 and 0.04 done\n",
      "It took: 21.799736499786377 seconds.\n",
      "[0.22792690637900015, 0.15107391778000012, 0.11773124674100008, 0.17717095468800012, 0.3260969744120002]\n"
     ]
    },
    {
     "name": "stderr",
     "output_type": "stream",
     "text": [
      "Initial filtering of formulas: 100%|█████████████| 5/5 [00:00<00:00, 137.45it/s]\n",
      "Computing chunks: 100%|████████████████████████| 5/5 [00:00<00:00, 34836.41it/s]\n",
      "Splitting the experimental spectrum into chunks: 27129it [00:00, 1612722.85it/s]\n",
      "Deconvolving chunks: 100%|████████████████████████| 1/1 [00:28<00:00, 28.12s/it]\n"
     ]
    },
    {
     "name": "stdout",
     "output_type": "stream",
     "text": [
      "Estimation for 0.27 and 0.05 done\n",
      "It took: 28.257351398468018 seconds.\n",
      "[0.22800614495500013, 0.1511773893160001, 0.11784200944000009, 0.1771073672140001, 0.3258670890750002]\n"
     ]
    },
    {
     "name": "stderr",
     "output_type": "stream",
     "text": [
      "Initial filtering of formulas: 100%|█████████████| 5/5 [00:00<00:00, 200.82it/s]\n",
      "Computing chunks: 100%|████████████████████████| 5/5 [00:00<00:00, 24906.79it/s]\n",
      "Splitting the experimental spectrum into chunks: 27129it [00:00, 1542501.81it/s]\n",
      "Deconvolving chunks: 100%|████████████████████████| 1/1 [00:19<00:00, 19.94s/it]\n"
     ]
    },
    {
     "name": "stdout",
     "output_type": "stream",
     "text": [
      "Estimation for 0.27 and 0.060000000000000005 done\n",
      "It took: 20.078763961791992 seconds.\n",
      "[0.22791342622200014, 0.15134016525300012, 0.11800515032200008, 0.1772390948450001, 0.3255021633580002]\n"
     ]
    },
    {
     "name": "stderr",
     "output_type": "stream",
     "text": [
      "Initial filtering of formulas: 100%|█████████████| 5/5 [00:00<00:00, 204.10it/s]\n",
      "Computing chunks: 100%|███████████████████████| 5/5 [00:00<00:00, 107546.26it/s]\n",
      "Splitting the experimental spectrum into chunks: 27129it [00:00, 1856629.84it/s]\n",
      "Deconvolving chunks: 100%|████████████████████████| 1/1 [00:19<00:00, 19.66s/it]\n"
     ]
    },
    {
     "name": "stdout",
     "output_type": "stream",
     "text": [
      "Estimation for 0.27 and 0.06999999999999999 done\n",
      "It took: 19.75635266304016 seconds.\n",
      "[0.22785881068300015, 0.1515704520090001, 0.11822816222900008, 0.1770364514150001, 0.3253061236630002]\n"
     ]
    },
    {
     "name": "stderr",
     "output_type": "stream",
     "text": [
      "Initial filtering of formulas: 100%|█████████████| 5/5 [00:00<00:00, 201.84it/s]\n",
      "Computing chunks: 100%|████████████████████████| 5/5 [00:00<00:00, 45491.37it/s]\n",
      "Splitting the experimental spectrum into chunks: 27129it [00:00, 1487745.95it/s]\n",
      "Deconvolving chunks: 100%|████████████████████████| 1/1 [00:19<00:00, 19.10s/it]\n"
     ]
    },
    {
     "name": "stdout",
     "output_type": "stream",
     "text": [
      "Estimation for 0.27 and 0.08 done\n",
      "It took: 19.20388126373291 seconds.\n",
      "[0.22780351728000015, 0.15160544045800012, 0.11831141473700009, 0.17701688002900012, 0.32526274749700024]\n"
     ]
    },
    {
     "name": "stderr",
     "output_type": "stream",
     "text": [
      "Initial filtering of formulas: 100%|█████████████| 5/5 [00:00<00:00, 220.14it/s]\n",
      "Computing chunks: 100%|████████████████████████| 5/5 [00:00<00:00, 63550.06it/s]\n",
      "Splitting the experimental spectrum into chunks: 27129it [00:00, 2289482.36it/s]\n",
      "Deconvolving chunks: 100%|████████████████████████| 1/1 [00:21<00:00, 21.99s/it]\n"
     ]
    },
    {
     "name": "stdout",
     "output_type": "stream",
     "text": [
      "Estimation for 0.27 and 0.09 done\n",
      "It took: 22.081557035446167 seconds.\n",
      "[0.22783946788900014, 0.1516823182740001, 0.11841013928600008, 0.17697185787600012, 0.32509621667600025]\n"
     ]
    },
    {
     "name": "stderr",
     "output_type": "stream",
     "text": [
      "Initial filtering of formulas: 100%|█████████████| 5/5 [00:00<00:00, 121.55it/s]\n",
      "Computing chunks: 100%|████████████████████████| 5/5 [00:00<00:00, 18396.07it/s]\n",
      "Splitting the experimental spectrum into chunks: 27129it [00:00, 1396711.26it/s]\n",
      "Deconvolving chunks: 100%|████████████████████████| 1/1 [00:26<00:00, 26.04s/it]\n"
     ]
    },
    {
     "name": "stdout",
     "output_type": "stream",
     "text": [
      "Estimation for 0.27 and 0.09999999999999999 done\n",
      "It took: 26.21310257911682 seconds.\n",
      "[0.22779881892800014, 0.15178184622400012, 0.11852733117800009, 0.17697409719400012, 0.3249179064770002]\n"
     ]
    },
    {
     "name": "stderr",
     "output_type": "stream",
     "text": [
      "Initial filtering of formulas: 100%|█████████████| 5/5 [00:00<00:00, 126.77it/s]\n",
      "Computing chunks: 100%|████████████████████████| 5/5 [00:00<00:00, 57772.78it/s]\n",
      "Splitting the experimental spectrum into chunks: 27129it [00:00, 1391808.12it/s]\n",
      "Deconvolving chunks: 100%|████████████████████████| 1/1 [00:18<00:00, 18.70s/it]\n"
     ]
    },
    {
     "name": "stdout",
     "output_type": "stream",
     "text": [
      "Estimation for 0.27 and 0.11 done\n",
      "It took: 18.810643434524536 seconds.\n",
      "[0.22774682495400014, 0.1518660946840001, 0.11860870270100009, 0.1769868547910001, 0.32479152287000024]\n"
     ]
    },
    {
     "name": "stderr",
     "output_type": "stream",
     "text": [
      "Initial filtering of formulas: 100%|█████████████| 5/5 [00:00<00:00, 214.91it/s]\n",
      "Computing chunks: 100%|████████████████████████| 5/5 [00:00<00:00, 33770.56it/s]\n",
      "Splitting the experimental spectrum into chunks: 27129it [00:00, 1725252.04it/s]\n",
      "Deconvolving chunks: 100%|████████████████████████| 1/1 [00:20<00:00, 20.71s/it]\n"
     ]
    },
    {
     "name": "stdout",
     "output_type": "stream",
     "text": [
      "Estimation for 0.27 and 0.12 done\n",
      "It took: 20.81375741958618 seconds.\n",
      "[0.22778351470900013, 0.1519366452690001, 0.11869303255000008, 0.1769430273430001, 0.3246437801280002]\n"
     ]
    },
    {
     "name": "stderr",
     "output_type": "stream",
     "text": [
      "Initial filtering of formulas: 100%|█████████████| 5/5 [00:00<00:00, 255.10it/s]\n",
      "Computing chunks: 100%|███████████████████████| 5/5 [00:00<00:00, 163840.00it/s]\n",
      "Splitting the experimental spectrum into chunks: 27129it [00:00, 2635062.60it/s]\n",
      "Deconvolving chunks: 100%|████████████████████████| 1/1 [00:16<00:00, 16.09s/it]\n"
     ]
    },
    {
     "name": "stdout",
     "output_type": "stream",
     "text": [
      "Estimation for 0.27 and 0.13 done\n",
      "It took: 16.155370235443115 seconds.\n",
      "[0.22784033540100013, 0.1519960632920001, 0.11879097076500009, 0.1768049714760001, 0.32456765906500024]\n"
     ]
    },
    {
     "name": "stderr",
     "output_type": "stream",
     "text": [
      "Initial filtering of formulas: 100%|█████████████| 5/5 [00:00<00:00, 186.83it/s]\n",
      "Computing chunks: 100%|████████████████████████| 5/5 [00:00<00:00, 93622.86it/s]\n",
      "Splitting the experimental spectrum into chunks: 27129it [00:00, 1778176.20it/s]\n",
      "Deconvolving chunks: 100%|████████████████████████| 1/1 [00:17<00:00, 17.76s/it]\n"
     ]
    },
    {
     "name": "stdout",
     "output_type": "stream",
     "text": [
      "Estimation for 0.27 and 0.14 done\n",
      "It took: 17.84320092201233 seconds.\n",
      "[0.22785092688500014, 0.15205401439700011, 0.11888470730900008, 0.17673466250700012, 0.32447568890200024]\n"
     ]
    },
    {
     "name": "stderr",
     "output_type": "stream",
     "text": [
      "Initial filtering of formulas: 100%|█████████████| 5/5 [00:00<00:00, 233.65it/s]\n",
      "Computing chunks: 100%|████████████████████████| 5/5 [00:00<00:00, 80971.12it/s]\n",
      "Splitting the experimental spectrum into chunks: 27129it [00:00, 1697481.44it/s]\n",
      "Deconvolving chunks: 100%|████████████████████████| 1/1 [00:18<00:00, 18.08s/it]\n"
     ]
    },
    {
     "name": "stdout",
     "output_type": "stream",
     "text": [
      "Estimation for 0.27 and 0.15000000000000002 done\n",
      "It took: 18.1615891456604 seconds.\n",
      "[0.22787256685500015, 0.15210606437800012, 0.11896650278300008, 0.1766644126840001, 0.32439045330100025]\n"
     ]
    },
    {
     "name": "stderr",
     "output_type": "stream",
     "text": [
      "Initial filtering of formulas: 100%|█████████████| 5/5 [00:00<00:00, 117.84it/s]\n",
      "Computing chunks: 100%|████████████████████████| 5/5 [00:00<00:00, 78840.30it/s]\n",
      "Splitting the experimental spectrum into chunks: 27129it [00:00, 1336849.40it/s]\n",
      "Deconvolving chunks: 100%|████████████████████████| 1/1 [00:15<00:00, 15.07s/it]\n"
     ]
    },
    {
     "name": "stdout",
     "output_type": "stream",
     "text": [
      "Estimation for 0.27 and 0.16 done\n",
      "It took: 15.19841718673706 seconds.\n",
      "[0.22788341798300013, 0.1521508221640001, 0.11904964934400009, 0.17656052551400012, 0.3243555849950002]\n"
     ]
    },
    {
     "name": "stderr",
     "output_type": "stream",
     "text": [
      "Initial filtering of formulas: 100%|█████████████| 5/5 [00:00<00:00, 246.99it/s]\n",
      "Computing chunks: 100%|███████████████████████| 5/5 [00:00<00:00, 155344.59it/s]\n",
      "Splitting the experimental spectrum into chunks: 27129it [00:00, 2578573.09it/s]\n",
      "Deconvolving chunks: 100%|████████████████████████| 1/1 [00:14<00:00, 14.39s/it]\n"
     ]
    },
    {
     "name": "stdout",
     "output_type": "stream",
     "text": [
      "Estimation for 0.27 and 0.17 done\n",
      "It took: 14.458554744720459 seconds.\n",
      "[0.22787621375700015, 0.15217248439100012, 0.11912340125600009, 0.17645452118800012, 0.32437337940700023]\n"
     ]
    },
    {
     "name": "stderr",
     "output_type": "stream",
     "text": [
      "Initial filtering of formulas: 100%|█████████████| 5/5 [00:00<00:00, 239.53it/s]\n",
      "Computing chunks: 100%|███████████████████████| 5/5 [00:00<00:00, 119837.26it/s]\n",
      "Splitting the experimental spectrum into chunks: 27129it [00:00, 2630980.44it/s]\n",
      "Deconvolving chunks: 100%|████████████████████████| 1/1 [00:19<00:00, 19.30s/it]\n"
     ]
    },
    {
     "name": "stdout",
     "output_type": "stream",
     "text": [
      "Estimation for 0.27 and 0.18000000000000002 done\n",
      "It took: 19.367608070373535 seconds.\n",
      "[0.22783150985400014, 0.1522134155370001, 0.11917947778200008, 0.17641476749000012, 0.32436082933600024]\n"
     ]
    },
    {
     "name": "stderr",
     "output_type": "stream",
     "text": [
      "Initial filtering of formulas: 100%|█████████████| 5/5 [00:00<00:00, 233.31it/s]\n",
      "Computing chunks: 100%|████████████████████████| 5/5 [00:00<00:00, 79739.62it/s]\n",
      "Splitting the experimental spectrum into chunks: 27129it [00:00, 2164078.99it/s]\n",
      "Deconvolving chunks: 100%|████████████████████████| 1/1 [00:18<00:00, 18.91s/it]\n"
     ]
    },
    {
     "name": "stdout",
     "output_type": "stream",
     "text": [
      "Estimation for 0.27 and 0.19 done\n",
      "It took: 18.991863250732422 seconds.\n",
      "[0.22780306398700015, 0.1522326516930001, 0.11922764354200008, 0.1763266389200001, 0.3244100018570002]\n"
     ]
    },
    {
     "name": "stderr",
     "output_type": "stream",
     "text": [
      "Initial filtering of formulas: 100%|█████████████| 5/5 [00:00<00:00, 240.21it/s]\n",
      "Computing chunks: 100%|███████████████████████| 5/5 [00:00<00:00, 113975.65it/s]\n",
      "Splitting the experimental spectrum into chunks: 27129it [00:00, 2797749.58it/s]\n",
      "Deconvolving chunks: 100%|████████████████████████| 1/1 [00:14<00:00, 14.37s/it]\n"
     ]
    },
    {
     "name": "stdout",
     "output_type": "stream",
     "text": [
      "Estimation for 0.27 and 0.2 done\n",
      "It took: 14.438967943191528 seconds.\n",
      "[0.22776246757900015, 0.1522477878570001, 0.11926837176200009, 0.1762298060690001, 0.32449156673200025]\n"
     ]
    },
    {
     "name": "stderr",
     "output_type": "stream",
     "text": [
      "Initial filtering of formulas: 100%|█████████████| 5/5 [00:00<00:00, 249.22it/s]\n",
      "Computing chunks: 100%|███████████████████████| 5/5 [00:00<00:00, 119156.36it/s]\n",
      "Splitting the experimental spectrum into chunks: 27129it [00:00, 2686957.43it/s]\n",
      "Deconvolving chunks: 100%|████████████████████████| 1/1 [00:15<00:00, 15.03s/it]\n"
     ]
    },
    {
     "name": "stdout",
     "output_type": "stream",
     "text": [
      "Estimation for 0.27 and 0.21000000000000002 done\n",
      "It took: 15.103395938873291 seconds.\n",
      "[0.22773573701700014, 0.15222751912300012, 0.11930434740600009, 0.1761614202980001, 0.32457097615500025]\n"
     ]
    },
    {
     "name": "stderr",
     "output_type": "stream",
     "text": [
      "Initial filtering of formulas: 100%|█████████████| 5/5 [00:00<00:00, 239.67it/s]\n",
      "Computing chunks: 100%|████████████████████████| 5/5 [00:00<00:00, 99864.38it/s]\n",
      "Splitting the experimental spectrum into chunks: 27129it [00:00, 2676402.99it/s]\n",
      "Deconvolving chunks: 100%|████████████████████████| 1/1 [00:15<00:00, 15.36s/it]\n"
     ]
    },
    {
     "name": "stdout",
     "output_type": "stream",
     "text": [
      "Estimation for 0.27 and 0.22 done\n",
      "It took: 15.428471565246582 seconds.\n",
      "[0.22771710009600013, 0.1522124113910001, 0.11933745204700008, 0.17611454357600012, 0.32461849288900024]\n"
     ]
    },
    {
     "name": "stderr",
     "output_type": "stream",
     "text": [
      "Initial filtering of formulas: 100%|█████████████| 5/5 [00:00<00:00, 135.49it/s]\n",
      "Computing chunks: 100%|████████████████████████| 5/5 [00:00<00:00, 60787.01it/s]\n",
      "Splitting the experimental spectrum into chunks: 27129it [00:00, 1608709.96it/s]\n",
      "Deconvolving chunks: 100%|████████████████████████| 1/1 [00:20<00:00, 20.97s/it]\n"
     ]
    },
    {
     "name": "stdout",
     "output_type": "stream",
     "text": [
      "Estimation for 0.27 and 0.23 done\n",
      "It took: 21.12236785888672 seconds.\n",
      "[0.22770731212400014, 0.1522078328980001, 0.11937316477800008, 0.1760150523690001, 0.3246966378310002]\n"
     ]
    },
    {
     "name": "stderr",
     "output_type": "stream",
     "text": [
      "Initial filtering of formulas: 100%|█████████████| 5/5 [00:00<00:00, 221.17it/s]\n",
      "Computing chunks: 100%|████████████████████████| 5/5 [00:00<00:00, 52560.20it/s]\n",
      "Splitting the experimental spectrum into chunks: 27129it [00:00, 2111747.18it/s]\n",
      "Deconvolving chunks: 100%|████████████████████████| 1/1 [00:15<00:00, 15.24s/it]\n"
     ]
    },
    {
     "name": "stdout",
     "output_type": "stream",
     "text": [
      "Estimation for 0.27 and 0.24000000000000002 done\n",
      "It took: 15.319344997406006 seconds.\n",
      "[0.22770803335500014, 0.1521777697000001, 0.11940912418000009, 0.1759238086870001, 0.3247812640770002]\n"
     ]
    },
    {
     "name": "stderr",
     "output_type": "stream",
     "text": [
      "Initial filtering of formulas: 100%|█████████████| 5/5 [00:00<00:00, 236.36it/s]\n",
      "Computing chunks: 100%|████████████████████████| 5/5 [00:00<00:00, 90785.80it/s]\n",
      "Splitting the experimental spectrum into chunks: 27129it [00:00, 2268576.76it/s]\n",
      "Deconvolving chunks: 100%|████████████████████████| 1/1 [00:14<00:00, 14.45s/it]\n"
     ]
    },
    {
     "name": "stdout",
     "output_type": "stream",
     "text": [
      "Estimation for 0.27 and 0.25 done\n",
      "It took: 14.52596139907837 seconds.\n",
      "[0.22772886180200014, 0.1521818492400001, 0.11946644571500008, 0.1758593706820001, 0.3247634725620002]\n"
     ]
    },
    {
     "name": "stderr",
     "output_type": "stream",
     "text": [
      "Initial filtering of formulas: 100%|█████████████| 5/5 [00:00<00:00, 246.00it/s]\n",
      "Computing chunks: 100%|███████████████████████| 5/5 [00:00<00:00, 133576.56it/s]\n",
      "Splitting the experimental spectrum into chunks: 27129it [00:00, 2310307.67it/s]\n",
      "Deconvolving chunks: 100%|████████████████████████| 1/1 [00:16<00:00, 16.71s/it]\n"
     ]
    },
    {
     "name": "stdout",
     "output_type": "stream",
     "text": [
      "Estimation for 0.27 and 0.26 done\n",
      "It took: 16.785459280014038 seconds.\n",
      "[0.22782544344600014, 0.15216589354000012, 0.11951817571300008, 0.17573884799600012, 0.3247516393040002]\n"
     ]
    },
    {
     "name": "stderr",
     "output_type": "stream",
     "text": [
      "Initial filtering of formulas: 100%|█████████████| 5/5 [00:00<00:00, 111.06it/s]\n",
      "Computing chunks: 100%|████████████████████████| 5/5 [00:00<00:00, 34435.99it/s]\n",
      "Splitting the experimental spectrum into chunks: 27129it [00:00, 1436653.58it/s]\n",
      "Deconvolving chunks: 100%|████████████████████████| 1/1 [00:26<00:00, 26.09s/it]\n"
     ]
    },
    {
     "name": "stdout",
     "output_type": "stream",
     "text": [
      "Estimation for 0.27 and 0.27 done\n",
      "It took: 26.25060200691223 seconds.\n",
      "[0.22791411451500013, 0.1521715697220001, 0.11956562842200008, 0.1756237865650001, 0.32472490077600025]\n"
     ]
    },
    {
     "name": "stderr",
     "output_type": "stream",
     "text": [
      "Initial filtering of formulas: 100%|█████████████| 5/5 [00:00<00:00, 113.80it/s]\n",
      "Computing chunks: 100%|████████████████████████| 5/5 [00:00<00:00, 39945.75it/s]\n",
      "Splitting the experimental spectrum into chunks: 27129it [00:00, 1387074.54it/s]\n",
      "Deconvolving chunks: 100%|████████████████████████| 1/1 [00:22<00:00, 22.79s/it]\n"
     ]
    },
    {
     "name": "stdout",
     "output_type": "stream",
     "text": [
      "Estimation for 0.27 and 0.28 done\n",
      "It took: 22.949267864227295 seconds.\n",
      "[0.22800375479400015, 0.15215051239700011, 0.11961429280000008, 0.1755478191290001, 0.32468362088000025]\n"
     ]
    },
    {
     "name": "stderr",
     "output_type": "stream",
     "text": [
      "Initial filtering of formulas: 100%|█████████████| 5/5 [00:00<00:00, 239.31it/s]\n",
      "Computing chunks: 100%|████████████████████████| 5/5 [00:00<00:00, 71089.90it/s]\n",
      "Splitting the experimental spectrum into chunks: 27129it [00:00, 1585708.54it/s]\n",
      "Deconvolving chunks: 100%|████████████████████████| 1/1 [00:17<00:00, 17.57s/it]\n"
     ]
    },
    {
     "name": "stdout",
     "output_type": "stream",
     "text": [
      "Estimation for 0.27 and 0.29000000000000004 done\n",
      "It took: 17.662041187286377 seconds.\n",
      "[0.22809941287700014, 0.15212366909200012, 0.11966622541100008, 0.1754658630820001, 0.3246448295380002]\n"
     ]
    },
    {
     "name": "stderr",
     "output_type": "stream",
     "text": [
      "Initial filtering of formulas: 100%|█████████████| 5/5 [00:00<00:00, 230.11it/s]\n",
      "Computing chunks: 100%|████████████████████████| 5/5 [00:00<00:00, 53362.65it/s]\n",
      "Splitting the experimental spectrum into chunks: 27129it [00:00, 2145512.84it/s]\n",
      "Deconvolving chunks: 100%|████████████████████████| 1/1 [00:18<00:00, 18.64s/it]\n"
     ]
    },
    {
     "name": "stdout",
     "output_type": "stream",
     "text": [
      "Estimation for 0.27 and 0.3 done\n",
      "It took: 18.728208303451538 seconds.\n",
      "[0.22815864652600013, 0.1521179926380001, 0.11970635970500008, 0.1753981384460001, 0.3246188626840002]\n"
     ]
    },
    {
     "name": "stderr",
     "output_type": "stream",
     "text": [
      "Initial filtering of formulas: 100%|█████████████| 5/5 [00:00<00:00, 209.63it/s]\n",
      "Computing chunks: 100%|███████████████████████| 5/5 [00:00<00:00, 131896.35it/s]\n",
      "Splitting the experimental spectrum into chunks: 27129it [00:00, 2102149.92it/s]\n",
      "Deconvolving chunks: 100%|████████████████████████| 1/1 [00:20<00:00, 20.99s/it]\n"
     ]
    },
    {
     "name": "stdout",
     "output_type": "stream",
     "text": [
      "Estimation for 0.28 and 0.01 done\n",
      "It took: 21.079548597335815 seconds.\n",
      "[0.21755084554200013, 0.1842519119180001, 0.11203796674500006, 0.1721534951830001, 0.31400578061200024]\n"
     ]
    },
    {
     "name": "stderr",
     "output_type": "stream",
     "text": [
      "Initial filtering of formulas: 100%|█████████████| 5/5 [00:00<00:00, 232.72it/s]\n",
      "Computing chunks: 100%|███████████████████████| 5/5 [00:00<00:00, 104335.92it/s]\n",
      "Splitting the experimental spectrum into chunks: 27129it [00:00, 2419101.41it/s]\n",
      "Deconvolving chunks: 100%|████████████████████████| 1/1 [00:25<00:00, 25.29s/it]\n"
     ]
    },
    {
     "name": "stdout",
     "output_type": "stream",
     "text": [
      "Estimation for 0.28 and 0.02 done\n",
      "It took: 25.379127025604248 seconds.\n",
      "[0.22749747499800013, 0.15057183637400012, 0.11728689957200009, 0.1773559218180001, 0.32728786723800024]\n"
     ]
    },
    {
     "name": "stderr",
     "output_type": "stream",
     "text": [
      "Initial filtering of formulas: 100%|█████████████| 5/5 [00:00<00:00, 122.57it/s]\n",
      "Computing chunks: 100%|████████████████████████| 5/5 [00:00<00:00, 32513.98it/s]\n",
      "Splitting the experimental spectrum into chunks: 27129it [00:00, 1319578.72it/s]\n",
      "Deconvolving chunks: 100%|████████████████████████| 1/1 [00:20<00:00, 20.23s/it]\n"
     ]
    },
    {
     "name": "stdout",
     "output_type": "stream",
     "text": [
      "Estimation for 0.28 and 0.03 done\n",
      "It took: 20.389586687088013 seconds.\n",
      "[0.22773846947000015, 0.15085527514200012, 0.11753960541000008, 0.1770456446430001, 0.32682100533500025]\n"
     ]
    },
    {
     "name": "stderr",
     "output_type": "stream",
     "text": [
      "Initial filtering of formulas: 100%|█████████████| 5/5 [00:00<00:00, 218.08it/s]\n",
      "Computing chunks: 100%|████████████████████████| 5/5 [00:00<00:00, 71820.27it/s]\n",
      "Splitting the experimental spectrum into chunks: 27129it [00:00, 2498293.44it/s]\n",
      "Deconvolving chunks: 100%|████████████████████████| 1/1 [00:17<00:00, 17.48s/it]\n"
     ]
    },
    {
     "name": "stdout",
     "output_type": "stream",
     "text": [
      "Estimation for 0.28 and 0.04 done\n",
      "It took: 17.5461688041687 seconds.\n",
      "[0.22792690637900015, 0.15107391778000012, 0.11773124674100008, 0.17717095468800012, 0.3260969744120002]\n"
     ]
    },
    {
     "name": "stderr",
     "output_type": "stream",
     "text": [
      "Initial filtering of formulas: 100%|█████████████| 5/5 [00:00<00:00, 231.57it/s]\n",
      "Computing chunks: 100%|███████████████████████| 5/5 [00:00<00:00, 140748.46it/s]\n",
      "Splitting the experimental spectrum into chunks: 27129it [00:00, 2488295.68it/s]\n",
      "Deconvolving chunks: 100%|████████████████████████| 1/1 [00:15<00:00, 15.53s/it]\n"
     ]
    },
    {
     "name": "stdout",
     "output_type": "stream",
     "text": [
      "Estimation for 0.28 and 0.05 done\n",
      "It took: 15.598030090332031 seconds.\n",
      "[0.22800614495500013, 0.1511773893160001, 0.11784200944000009, 0.1771073672140001, 0.3258670890750002]\n"
     ]
    },
    {
     "name": "stderr",
     "output_type": "stream",
     "text": [
      "Initial filtering of formulas: 100%|█████████████| 5/5 [00:00<00:00, 244.37it/s]\n",
      "Computing chunks: 100%|███████████████████████| 5/5 [00:00<00:00, 174762.67it/s]\n",
      "Splitting the experimental spectrum into chunks: 27129it [00:00, 2584371.06it/s]\n",
      "Deconvolving chunks: 100%|████████████████████████| 1/1 [00:18<00:00, 18.49s/it]\n"
     ]
    },
    {
     "name": "stdout",
     "output_type": "stream",
     "text": [
      "Estimation for 0.28 and 0.060000000000000005 done\n",
      "It took: 18.562811851501465 seconds.\n",
      "[0.22791342622200014, 0.15134016525300012, 0.11800515032200008, 0.1772390948450001, 0.3255021633580002]\n"
     ]
    },
    {
     "name": "stderr",
     "output_type": "stream",
     "text": [
      "Initial filtering of formulas: 100%|█████████████| 5/5 [00:00<00:00, 172.37it/s]\n",
      "Computing chunks: 100%|████████████████████████| 5/5 [00:00<00:00, 47233.15it/s]\n",
      "Splitting the experimental spectrum into chunks: 27129it [00:00, 1540121.72it/s]\n",
      "Deconvolving chunks: 100%|████████████████████████| 1/1 [00:19<00:00, 19.77s/it]\n"
     ]
    },
    {
     "name": "stdout",
     "output_type": "stream",
     "text": [
      "Estimation for 0.28 and 0.06999999999999999 done\n",
      "It took: 19.870444774627686 seconds.\n",
      "[0.22785881068300015, 0.1515704520090001, 0.11822816222900008, 0.1770364514150001, 0.3253061236630002]\n"
     ]
    },
    {
     "name": "stderr",
     "output_type": "stream",
     "text": [
      "Initial filtering of formulas: 100%|█████████████| 5/5 [00:00<00:00, 224.19it/s]\n",
      "Computing chunks: 100%|████████████████████████| 5/5 [00:00<00:00, 90785.80it/s]\n",
      "Splitting the experimental spectrum into chunks: 27129it [00:00, 2511195.12it/s]\n",
      "Deconvolving chunks: 100%|████████████████████████| 1/1 [00:15<00:00, 15.90s/it]\n"
     ]
    },
    {
     "name": "stdout",
     "output_type": "stream",
     "text": [
      "Estimation for 0.28 and 0.08 done\n",
      "It took: 15.987325668334961 seconds.\n",
      "[0.22780351728000015, 0.15160544045800012, 0.11831141473700009, 0.17701688002900012, 0.32526274749700024]\n"
     ]
    },
    {
     "name": "stderr",
     "output_type": "stream",
     "text": [
      "Initial filtering of formulas: 100%|█████████████| 5/5 [00:00<00:00, 179.04it/s]\n",
      "Computing chunks: 100%|████████████████████████| 5/5 [00:00<00:00, 69905.07it/s]\n",
      "Splitting the experimental spectrum into chunks: 27129it [00:00, 1746569.76it/s]\n",
      "Deconvolving chunks: 100%|████████████████████████| 1/1 [00:15<00:00, 15.77s/it]\n"
     ]
    },
    {
     "name": "stdout",
     "output_type": "stream",
     "text": [
      "Estimation for 0.28 and 0.09 done\n",
      "It took: 15.859243154525757 seconds.\n",
      "[0.22783946788900014, 0.1516823182740001, 0.11841013928600008, 0.17697185787600012, 0.32509621667600025]\n"
     ]
    },
    {
     "name": "stderr",
     "output_type": "stream",
     "text": [
      "Initial filtering of formulas: 100%|█████████████| 5/5 [00:00<00:00, 271.32it/s]\n",
      "Computing chunks: 100%|███████████████████████| 5/5 [00:00<00:00, 109226.67it/s]\n",
      "Splitting the experimental spectrum into chunks: 27129it [00:00, 2815610.65it/s]\n",
      "Deconvolving chunks: 100%|████████████████████████| 1/1 [00:15<00:00, 15.40s/it]\n"
     ]
    },
    {
     "name": "stdout",
     "output_type": "stream",
     "text": [
      "Estimation for 0.28 and 0.09999999999999999 done\n",
      "It took: 15.45601224899292 seconds.\n",
      "[0.22779971472800015, 0.15178166800000012, 0.11852719681500008, 0.17697388810100012, 0.3249175323570002]\n"
     ]
    },
    {
     "name": "stderr",
     "output_type": "stream",
     "text": [
      "Initial filtering of formulas: 100%|█████████████| 5/5 [00:00<00:00, 251.30it/s]\n",
      "Computing chunks: 100%|███████████████████████| 5/5 [00:00<00:00, 174762.67it/s]\n",
      "Splitting the experimental spectrum into chunks: 27129it [00:00, 2667055.91it/s]\n",
      "Deconvolving chunks: 100%|████████████████████████| 1/1 [00:18<00:00, 18.38s/it]\n"
     ]
    },
    {
     "name": "stdout",
     "output_type": "stream",
     "text": [
      "Estimation for 0.28 and 0.11 done\n",
      "It took: 18.454885244369507 seconds.\n",
      "[0.22774682495400014, 0.1518660946840001, 0.11860870270100009, 0.1769868547910001, 0.32479152287000024]\n"
     ]
    },
    {
     "name": "stderr",
     "output_type": "stream",
     "text": [
      "Initial filtering of formulas: 100%|█████████████| 5/5 [00:00<00:00, 223.80it/s]\n",
      "Computing chunks: 100%|████████████████████████| 5/5 [00:00<00:00, 64133.09it/s]\n",
      "Splitting the experimental spectrum into chunks: 27129it [00:00, 2427461.83it/s]\n",
      "Deconvolving chunks: 100%|████████████████████████| 1/1 [00:15<00:00, 15.95s/it]\n"
     ]
    },
    {
     "name": "stdout",
     "output_type": "stream",
     "text": [
      "Estimation for 0.28 and 0.12 done\n",
      "It took: 16.0339035987854 seconds.\n",
      "[0.22778351470900013, 0.1519366452690001, 0.11869303255000008, 0.1769430273430001, 0.3246437801280002]\n"
     ]
    },
    {
     "name": "stderr",
     "output_type": "stream",
     "text": [
      "Initial filtering of formulas: 100%|█████████████| 5/5 [00:00<00:00, 250.45it/s]\n",
      "Computing chunks: 100%|███████████████████████| 5/5 [00:00<00:00, 156503.88it/s]\n",
      "Splitting the experimental spectrum into chunks: 27129it [00:00, 2668807.42it/s]\n",
      "Deconvolving chunks: 100%|████████████████████████| 1/1 [00:15<00:00, 15.67s/it]\n"
     ]
    },
    {
     "name": "stdout",
     "output_type": "stream",
     "text": [
      "Estimation for 0.28 and 0.13 done\n",
      "It took: 15.738790512084961 seconds.\n",
      "[0.22784033540100013, 0.1519960632920001, 0.11879097076500009, 0.1768049714760001, 0.32456765906500024]\n"
     ]
    },
    {
     "name": "stderr",
     "output_type": "stream",
     "text": [
      "Initial filtering of formulas: 100%|█████████████| 5/5 [00:00<00:00, 241.16it/s]\n",
      "Computing chunks: 100%|███████████████████████| 5/5 [00:00<00:00, 170500.16it/s]\n",
      "Splitting the experimental spectrum into chunks: 27129it [00:00, 2527033.69it/s]\n",
      "Deconvolving chunks: 100%|████████████████████████| 1/1 [00:17<00:00, 17.45s/it]\n"
     ]
    },
    {
     "name": "stdout",
     "output_type": "stream",
     "text": [
      "Estimation for 0.28 and 0.14 done\n",
      "It took: 17.51672673225403 seconds.\n",
      "[0.22785092688500014, 0.15205401439700011, 0.11888470730900008, 0.17673466250700012, 0.32447568890200024]\n"
     ]
    },
    {
     "name": "stderr",
     "output_type": "stream",
     "text": [
      "Initial filtering of formulas: 100%|█████████████| 5/5 [00:00<00:00, 191.53it/s]\n",
      "Computing chunks: 100%|████████████████████████| 5/5 [00:00<00:00, 59578.18it/s]\n",
      "Splitting the experimental spectrum into chunks: 27129it [00:00, 1798041.74it/s]\n",
      "Deconvolving chunks: 100%|████████████████████████| 1/1 [00:22<00:00, 22.67s/it]\n"
     ]
    },
    {
     "name": "stdout",
     "output_type": "stream",
     "text": [
      "Estimation for 0.28 and 0.15000000000000002 done\n",
      "It took: 22.761748552322388 seconds.\n",
      "[0.22787256685500015, 0.15210606437800012, 0.11896650278300008, 0.1766644126840001, 0.32439045330100025]\n"
     ]
    },
    {
     "name": "stderr",
     "output_type": "stream",
     "text": [
      "Initial filtering of formulas: 100%|█████████████| 5/5 [00:00<00:00, 114.18it/s]\n",
      "Computing chunks: 100%|████████████████████████| 5/5 [00:00<00:00, 32974.09it/s]\n",
      "Splitting the experimental spectrum into chunks: 27129it [00:00, 1067512.95it/s]\n",
      "Deconvolving chunks: 100%|████████████████████████| 1/1 [00:23<00:00, 23.35s/it]\n"
     ]
    },
    {
     "name": "stdout",
     "output_type": "stream",
     "text": [
      "Estimation for 0.28 and 0.16 done\n",
      "It took: 23.514667749404907 seconds.\n",
      "[0.22788341798300013, 0.1521508221640001, 0.11904964934400009, 0.17656052551400012, 0.3243555849950002]\n"
     ]
    },
    {
     "name": "stderr",
     "output_type": "stream",
     "text": [
      "Initial filtering of formulas: 100%|██████████████| 5/5 [00:00<00:00, 97.68it/s]\n",
      "Computing chunks: 100%|████████████████████████| 5/5 [00:00<00:00, 51275.11it/s]\n",
      "Splitting the experimental spectrum into chunks: 27129it [00:00, 881907.81it/s]\n",
      "Deconvolving chunks: 100%|████████████████████████| 1/1 [00:23<00:00, 23.01s/it]\n"
     ]
    },
    {
     "name": "stdout",
     "output_type": "stream",
     "text": [
      "Estimation for 0.28 and 0.17 done\n",
      "It took: 23.174965858459473 seconds.\n",
      "[0.22787621375700015, 0.15217248439100012, 0.11912340125600009, 0.17645452118800012, 0.32437337940700023]\n"
     ]
    },
    {
     "name": "stderr",
     "output_type": "stream",
     "text": [
      "Initial filtering of formulas: 100%|█████████████| 5/5 [00:00<00:00, 172.57it/s]\n",
      "Computing chunks: 100%|████████████████████████| 5/5 [00:00<00:00, 98457.84it/s]\n",
      "Splitting the experimental spectrum into chunks: 27129it [00:00, 2136328.66it/s]\n",
      "Deconvolving chunks: 100%|████████████████████████| 1/1 [00:18<00:00, 18.29s/it]\n"
     ]
    },
    {
     "name": "stdout",
     "output_type": "stream",
     "text": [
      "Estimation for 0.28 and 0.18000000000000002 done\n",
      "It took: 18.388092279434204 seconds.\n",
      "[0.22783150985400014, 0.1522134155370001, 0.11917947778200008, 0.17641476749000012, 0.32436082933600024]\n"
     ]
    },
    {
     "name": "stderr",
     "output_type": "stream",
     "text": [
      "Initial filtering of formulas: 100%|█████████████| 5/5 [00:00<00:00, 200.79it/s]\n",
      "Computing chunks: 100%|███████████████████████| 5/5 [00:00<00:00, 109226.67it/s]\n",
      "Splitting the experimental spectrum into chunks: 27129it [00:00, 1674105.45it/s]\n",
      "Deconvolving chunks: 100%|████████████████████████| 1/1 [00:17<00:00, 17.97s/it]\n"
     ]
    },
    {
     "name": "stdout",
     "output_type": "stream",
     "text": [
      "Estimation for 0.28 and 0.19 done\n",
      "It took: 18.064013242721558 seconds.\n",
      "[0.22780306398700015, 0.1522326516930001, 0.11922764354200008, 0.1763266389200001, 0.3244100018570002]\n"
     ]
    },
    {
     "name": "stderr",
     "output_type": "stream",
     "text": [
      "Initial filtering of formulas: 100%|█████████████| 5/5 [00:00<00:00, 193.31it/s]\n",
      "Computing chunks: 100%|████████████████████████| 5/5 [00:00<00:00, 70611.18it/s]\n",
      "Splitting the experimental spectrum into chunks: 27129it [00:00, 2072439.18it/s]\n",
      "Deconvolving chunks: 100%|████████████████████████| 1/1 [00:28<00:00, 28.81s/it]\n"
     ]
    },
    {
     "name": "stdout",
     "output_type": "stream",
     "text": [
      "Estimation for 0.28 and 0.2 done\n",
      "It took: 28.912235975265503 seconds.\n",
      "[0.22776246757900015, 0.1522477878570001, 0.11926837176200009, 0.1762298060690001, 0.32449156673200025]\n"
     ]
    },
    {
     "name": "stderr",
     "output_type": "stream",
     "text": [
      "Initial filtering of formulas: 100%|█████████████| 5/5 [00:00<00:00, 167.68it/s]\n",
      "Computing chunks: 100%|████████████████████████| 5/5 [00:00<00:00, 91180.52it/s]\n",
      "Splitting the experimental spectrum into chunks: 27129it [00:00, 1407282.99it/s]\n",
      "Deconvolving chunks: 100%|████████████████████████| 1/1 [00:21<00:00, 21.38s/it]\n"
     ]
    },
    {
     "name": "stdout",
     "output_type": "stream",
     "text": [
      "Estimation for 0.28 and 0.21000000000000002 done\n",
      "It took: 21.514895915985107 seconds.\n",
      "[0.22773573701700014, 0.15222751912300012, 0.11930434740600009, 0.1761614202980001, 0.32457097615500025]\n"
     ]
    },
    {
     "name": "stderr",
     "output_type": "stream",
     "text": [
      "Initial filtering of formulas: 100%|█████████████| 5/5 [00:00<00:00, 240.60it/s]\n",
      "Computing chunks: 100%|███████████████████████| 5/5 [00:00<00:00, 153076.79it/s]\n",
      "Splitting the experimental spectrum into chunks: 27129it [00:00, 2507763.77it/s]\n",
      "Deconvolving chunks: 100%|████████████████████████| 1/1 [00:15<00:00, 15.34s/it]\n"
     ]
    },
    {
     "name": "stdout",
     "output_type": "stream",
     "text": [
      "Estimation for 0.28 and 0.22 done\n",
      "It took: 15.406330585479736 seconds.\n",
      "[0.22771710009600013, 0.1522124113910001, 0.11933745204700008, 0.17611454357600012, 0.32461849288900024]\n"
     ]
    },
    {
     "name": "stderr",
     "output_type": "stream",
     "text": [
      "Initial filtering of formulas: 100%|█████████████| 5/5 [00:00<00:00, 220.58it/s]\n",
      "Computing chunks: 100%|████████████████████████| 5/5 [00:00<00:00, 69672.82it/s]\n",
      "Splitting the experimental spectrum into chunks: 27129it [00:00, 1647849.06it/s]\n",
      "Deconvolving chunks: 100%|████████████████████████| 1/1 [00:15<00:00, 15.18s/it]\n"
     ]
    },
    {
     "name": "stdout",
     "output_type": "stream",
     "text": [
      "Estimation for 0.28 and 0.23 done\n",
      "It took: 15.259283542633057 seconds.\n",
      "[0.22770747215200013, 0.15220767635400012, 0.11937316464300009, 0.1760150500970001, 0.32469663675400023]\n"
     ]
    },
    {
     "name": "stderr",
     "output_type": "stream",
     "text": [
      "Initial filtering of formulas: 100%|█████████████| 5/5 [00:00<00:00, 205.73it/s]\n",
      "Computing chunks: 100%|███████████████████████| 5/5 [00:00<00:00, 195995.51it/s]\n",
      "Splitting the experimental spectrum into chunks: 27129it [00:00, 2556328.03it/s]\n",
      "Deconvolving chunks: 100%|████████████████████████| 1/1 [00:16<00:00, 16.99s/it]\n"
     ]
    },
    {
     "name": "stdout",
     "output_type": "stream",
     "text": [
      "Estimation for 0.28 and 0.24000000000000002 done\n",
      "It took: 17.074798107147217 seconds.\n",
      "[0.22770803335500014, 0.1521777697000001, 0.11940912418000009, 0.1759238086870001, 0.3247812640770002]\n"
     ]
    },
    {
     "name": "stderr",
     "output_type": "stream",
     "text": [
      "Initial filtering of formulas: 100%|█████████████| 5/5 [00:00<00:00, 231.93it/s]\n",
      "Computing chunks: 100%|████████████████████████| 5/5 [00:00<00:00, 71820.27it/s]\n",
      "Splitting the experimental spectrum into chunks: 27129it [00:00, 2507100.72it/s]\n",
      "Deconvolving chunks: 100%|████████████████████████| 1/1 [00:20<00:00, 20.79s/it]\n"
     ]
    },
    {
     "name": "stdout",
     "output_type": "stream",
     "text": [
      "Estimation for 0.28 and 0.25 done\n",
      "It took: 20.86387586593628 seconds.\n",
      "[0.22772886180200014, 0.1521818492400001, 0.11946644571500008, 0.1758593706820001, 0.3247634725620002]\n"
     ]
    },
    {
     "name": "stderr",
     "output_type": "stream",
     "text": [
      "Initial filtering of formulas: 100%|█████████████| 5/5 [00:00<00:00, 253.65it/s]\n",
      "Computing chunks: 100%|███████████████████████| 5/5 [00:00<00:00, 107546.26it/s]\n",
      "Splitting the experimental spectrum into chunks: 27129it [00:00, 2492383.43it/s]\n",
      "Deconvolving chunks: 100%|████████████████████████| 1/1 [00:14<00:00, 14.75s/it]\n"
     ]
    },
    {
     "name": "stdout",
     "output_type": "stream",
     "text": [
      "Estimation for 0.28 and 0.26 done\n",
      "It took: 14.815237522125244 seconds.\n",
      "[0.22782544344600014, 0.15216589354000012, 0.11951817571300008, 0.17573884799600012, 0.3247516393040002]\n"
     ]
    },
    {
     "name": "stderr",
     "output_type": "stream",
     "text": [
      "Initial filtering of formulas: 100%|█████████████| 5/5 [00:00<00:00, 247.55it/s]\n",
      "Computing chunks: 100%|███████████████████████| 5/5 [00:00<00:00, 153076.79it/s]\n",
      "Splitting the experimental spectrum into chunks: 27129it [00:00, 2519982.13it/s]\n",
      "Deconvolving chunks: 100%|████████████████████████| 1/1 [00:14<00:00, 14.81s/it]\n"
     ]
    },
    {
     "name": "stdout",
     "output_type": "stream",
     "text": [
      "Estimation for 0.28 and 0.27 done\n",
      "It took: 14.876458406448364 seconds.\n",
      "[0.22791411451500013, 0.1521715697220001, 0.11956562842200008, 0.1756237865650001, 0.32472490077600025]\n"
     ]
    },
    {
     "name": "stderr",
     "output_type": "stream",
     "text": [
      "Initial filtering of formulas: 100%|█████████████| 5/5 [00:00<00:00, 245.50it/s]\n",
      "Computing chunks: 100%|███████████████████████| 5/5 [00:00<00:00, 183960.70it/s]\n",
      "Splitting the experimental spectrum into chunks: 27129it [00:00, 2485740.85it/s]\n",
      "Deconvolving chunks: 100%|████████████████████████| 1/1 [00:18<00:00, 18.31s/it]\n"
     ]
    },
    {
     "name": "stdout",
     "output_type": "stream",
     "text": [
      "Estimation for 0.28 and 0.28 done\n",
      "It took: 18.380528450012207 seconds.\n",
      "[0.22800375479400015, 0.15215051239700011, 0.11961429280000008, 0.1755478191290001, 0.32468362088000025]\n"
     ]
    },
    {
     "name": "stderr",
     "output_type": "stream",
     "text": [
      "Initial filtering of formulas: 100%|█████████████| 5/5 [00:00<00:00, 234.50it/s]\n",
      "Computing chunks: 100%|███████████████████████| 5/5 [00:00<00:00, 194180.74it/s]\n",
      "Splitting the experimental spectrum into chunks: 27129it [00:00, 2395975.52it/s]\n",
      "Deconvolving chunks: 100%|████████████████████████| 1/1 [00:20<00:00, 20.39s/it]\n"
     ]
    },
    {
     "name": "stdout",
     "output_type": "stream",
     "text": [
      "Estimation for 0.28 and 0.29000000000000004 done\n",
      "It took: 20.465242385864258 seconds.\n",
      "[0.22809941287700014, 0.15212366909200012, 0.11966622541100008, 0.1754658630820001, 0.3246448295380002]\n"
     ]
    },
    {
     "name": "stderr",
     "output_type": "stream",
     "text": [
      "Initial filtering of formulas: 100%|█████████████| 5/5 [00:00<00:00, 205.60it/s]\n",
      "Computing chunks: 100%|████████████████████████| 5/5 [00:00<00:00, 75166.74it/s]\n",
      "Splitting the experimental spectrum into chunks: 27129it [00:00, 2267536.98it/s]\n",
      "Deconvolving chunks: 100%|████████████████████████| 1/1 [00:15<00:00, 15.76s/it]\n"
     ]
    },
    {
     "name": "stdout",
     "output_type": "stream",
     "text": [
      "Estimation for 0.28 and 0.3 done\n",
      "It took: 15.85245966911316 seconds.\n",
      "[0.22815864652600013, 0.1521179926380001, 0.11970635970500008, 0.1753981384460001, 0.3246188626840002]\n"
     ]
    },
    {
     "name": "stderr",
     "output_type": "stream",
     "text": [
      "Initial filtering of formulas: 100%|█████████████| 5/5 [00:00<00:00, 253.24it/s]\n",
      "Computing chunks: 100%|███████████████████████| 5/5 [00:00<00:00, 113975.65it/s]\n",
      "Splitting the experimental spectrum into chunks: 27129it [00:00, 2719646.10it/s]\n",
      "Deconvolving chunks: 100%|████████████████████████| 1/1 [00:15<00:00, 15.57s/it]\n"
     ]
    },
    {
     "name": "stdout",
     "output_type": "stream",
     "text": [
      "Estimation for 0.29000000000000004 and 0.01 done\n",
      "It took: 15.632797241210938 seconds.\n",
      "[0.21755084554200013, 0.1842519119180001, 0.11203796674500006, 0.1721534951830001, 0.31400578061200024]\n"
     ]
    },
    {
     "name": "stderr",
     "output_type": "stream",
     "text": [
      "Initial filtering of formulas: 100%|█████████████| 5/5 [00:00<00:00, 251.24it/s]\n",
      "Computing chunks: 100%|███████████████████████| 5/5 [00:00<00:00, 119156.36it/s]\n",
      "Splitting the experimental spectrum into chunks: 27129it [00:00, 2628185.08it/s]\n",
      "Deconvolving chunks: 100%|████████████████████████| 1/1 [00:18<00:00, 18.01s/it]\n"
     ]
    },
    {
     "name": "stdout",
     "output_type": "stream",
     "text": [
      "Estimation for 0.29000000000000004 and 0.02 done\n",
      "It took: 18.076934814453125 seconds.\n",
      "[0.22749747499800013, 0.15057183637400012, 0.11728689957200009, 0.1773559218180001, 0.32728786723800024]\n"
     ]
    },
    {
     "name": "stderr",
     "output_type": "stream",
     "text": [
      "Initial filtering of formulas: 100%|█████████████| 5/5 [00:00<00:00, 226.12it/s]\n",
      "Computing chunks: 100%|████████████████████████| 5/5 [00:00<00:00, 37991.88it/s]\n",
      "Splitting the experimental spectrum into chunks: 27129it [00:00, 1424370.64it/s]\n",
      "Deconvolving chunks: 100%|████████████████████████| 1/1 [00:21<00:00, 21.83s/it]\n"
     ]
    },
    {
     "name": "stdout",
     "output_type": "stream",
     "text": [
      "Estimation for 0.29000000000000004 and 0.03 done\n",
      "It took: 21.926151275634766 seconds.\n",
      "[0.22773846947000015, 0.15085527514200012, 0.11753960541000008, 0.1770456446430001, 0.32682100533500025]\n"
     ]
    },
    {
     "name": "stderr",
     "output_type": "stream",
     "text": [
      "Initial filtering of formulas: 100%|█████████████| 5/5 [00:00<00:00, 205.05it/s]\n",
      "Computing chunks: 100%|███████████████████████| 5/5 [00:00<00:00, 108660.73it/s]\n",
      "Splitting the experimental spectrum into chunks: 27129it [00:00, 1875882.38it/s]\n",
      "Deconvolving chunks: 100%|████████████████████████| 1/1 [00:16<00:00, 16.51s/it]\n"
     ]
    },
    {
     "name": "stdout",
     "output_type": "stream",
     "text": [
      "Estimation for 0.29000000000000004 and 0.04 done\n",
      "It took: 16.604787349700928 seconds.\n",
      "[0.22792690637900015, 0.15107391778000012, 0.11773124674100008, 0.17717095468800012, 0.3260969744120002]\n"
     ]
    },
    {
     "name": "stderr",
     "output_type": "stream",
     "text": [
      "Initial filtering of formulas: 100%|█████████████| 5/5 [00:00<00:00, 211.00it/s]\n",
      "Computing chunks: 100%|████████████████████████| 5/5 [00:00<00:00, 66156.21it/s]\n",
      "Splitting the experimental spectrum into chunks: 27129it [00:00, 1310943.49it/s]\n",
      "Deconvolving chunks: 100%|████████████████████████| 1/1 [00:17<00:00, 17.76s/it]\n"
     ]
    },
    {
     "name": "stdout",
     "output_type": "stream",
     "text": [
      "Estimation for 0.29000000000000004 and 0.05 done\n",
      "It took: 17.855329513549805 seconds.\n",
      "[0.22800614495500013, 0.1511773893160001, 0.11784200944000009, 0.1771073672140001, 0.3258670890750002]\n"
     ]
    },
    {
     "name": "stderr",
     "output_type": "stream",
     "text": [
      "Initial filtering of formulas: 100%|█████████████| 5/5 [00:00<00:00, 120.56it/s]\n",
      "Computing chunks: 100%|████████████████████████| 5/5 [00:00<00:00, 56073.58it/s]\n",
      "Splitting the experimental spectrum into chunks: 27129it [00:00, 1386398.53it/s]\n",
      "Deconvolving chunks: 100%|████████████████████████| 1/1 [00:25<00:00, 25.50s/it]\n"
     ]
    },
    {
     "name": "stdout",
     "output_type": "stream",
     "text": [
      "Estimation for 0.29000000000000004 and 0.060000000000000005 done\n",
      "It took: 25.647053241729736 seconds.\n",
      "[0.22791342622200014, 0.15134016525300012, 0.11800515032200008, 0.1772390948450001, 0.3255021633580002]\n"
     ]
    },
    {
     "name": "stderr",
     "output_type": "stream",
     "text": [
      "Initial filtering of formulas: 100%|█████████████| 5/5 [00:00<00:00, 125.73it/s]\n",
      "Computing chunks: 100%|████████████████████████| 5/5 [00:00<00:00, 45590.26it/s]\n",
      "Splitting the experimental spectrum into chunks: 27129it [00:00, 1354416.91it/s]\n",
      "Deconvolving chunks: 100%|████████████████████████| 1/1 [00:28<00:00, 28.53s/it]\n"
     ]
    },
    {
     "name": "stdout",
     "output_type": "stream",
     "text": [
      "Estimation for 0.29000000000000004 and 0.06999999999999999 done\n",
      "It took: 28.681393146514893 seconds.\n",
      "[0.22785881068300015, 0.1515704520090001, 0.11822816222900008, 0.1770364514150001, 0.3253061236630002]\n"
     ]
    },
    {
     "name": "stderr",
     "output_type": "stream",
     "text": [
      "Initial filtering of formulas: 100%|█████████████| 5/5 [00:00<00:00, 196.18it/s]\n",
      "Computing chunks: 100%|████████████████████████| 5/5 [00:00<00:00, 81601.25it/s]\n",
      "Splitting the experimental spectrum into chunks: 27129it [00:00, 1906176.05it/s]\n",
      "Deconvolving chunks: 100%|████████████████████████| 1/1 [00:19<00:00, 19.92s/it]\n"
     ]
    },
    {
     "name": "stdout",
     "output_type": "stream",
     "text": [
      "Estimation for 0.29000000000000004 and 0.08 done\n",
      "It took: 20.032642126083374 seconds.\n",
      "[0.22780351728000015, 0.15160544045800012, 0.11831141473700009, 0.17701688002900012, 0.32526274749700024]\n"
     ]
    },
    {
     "name": "stderr",
     "output_type": "stream",
     "text": [
      "Initial filtering of formulas: 100%|█████████████| 5/5 [00:00<00:00, 137.12it/s]\n",
      "Computing chunks: 100%|████████████████████████| 5/5 [00:00<00:00, 33825.03it/s]\n",
      "Splitting the experimental spectrum into chunks: 27129it [00:00, 1527838.14it/s]\n",
      "Deconvolving chunks: 100%|████████████████████████| 1/1 [00:19<00:00, 19.21s/it]\n"
     ]
    },
    {
     "name": "stdout",
     "output_type": "stream",
     "text": [
      "Estimation for 0.29000000000000004 and 0.09 done\n",
      "It took: 19.331944942474365 seconds.\n",
      "[0.22783946788900014, 0.1516823182740001, 0.11841013928600008, 0.17697185787600012, 0.32509621667600025]\n"
     ]
    },
    {
     "name": "stderr",
     "output_type": "stream",
     "text": [
      "Initial filtering of formulas: 100%|█████████████| 5/5 [00:00<00:00, 156.00it/s]\n",
      "Computing chunks: 100%|████████████████████████| 5/5 [00:00<00:00, 60963.72it/s]\n",
      "Splitting the experimental spectrum into chunks: 27129it [00:00, 1687212.13it/s]\n",
      "Deconvolving chunks: 100%|████████████████████████| 1/1 [00:18<00:00, 18.80s/it]\n"
     ]
    },
    {
     "name": "stdout",
     "output_type": "stream",
     "text": [
      "Estimation for 0.29000000000000004 and 0.09999999999999999 done\n",
      "It took: 18.90292000770569 seconds.\n",
      "[0.22779971472800015, 0.15178166800000012, 0.11852719681500008, 0.17697388810100012, 0.3249175323570002]\n"
     ]
    },
    {
     "name": "stderr",
     "output_type": "stream",
     "text": [
      "Initial filtering of formulas: 100%|█████████████| 5/5 [00:00<00:00, 223.11it/s]\n",
      "Computing chunks: 100%|███████████████████████| 5/5 [00:00<00:00, 115228.13it/s]\n",
      "Splitting the experimental spectrum into chunks: 27129it [00:00, 2077319.87it/s]\n",
      "Deconvolving chunks: 100%|████████████████████████| 1/1 [00:16<00:00, 16.46s/it]\n"
     ]
    },
    {
     "name": "stdout",
     "output_type": "stream",
     "text": [
      "Estimation for 0.29000000000000004 and 0.11 done\n",
      "It took: 16.54766273498535 seconds.\n",
      "[0.22774682495400014, 0.1518660946840001, 0.11860870270100009, 0.1769868547910001, 0.32479152287000024]\n"
     ]
    },
    {
     "name": "stderr",
     "output_type": "stream",
     "text": [
      "Initial filtering of formulas: 100%|█████████████| 5/5 [00:00<00:00, 158.77it/s]\n",
      "Computing chunks: 100%|███████████████████████| 5/5 [00:00<00:00, 103307.98it/s]\n",
      "Splitting the experimental spectrum into chunks: 27129it [00:00, 1863165.99it/s]\n",
      "Deconvolving chunks: 100%|████████████████████████| 1/1 [00:18<00:00, 18.37s/it]\n"
     ]
    },
    {
     "name": "stdout",
     "output_type": "stream",
     "text": [
      "Estimation for 0.29000000000000004 and 0.12 done\n",
      "It took: 18.460222482681274 seconds.\n",
      "[0.22778351470900013, 0.1519366452690001, 0.11869303255000008, 0.1769430273430001, 0.3246437801280002]\n"
     ]
    },
    {
     "name": "stderr",
     "output_type": "stream",
     "text": [
      "Initial filtering of formulas: 100%|█████████████| 5/5 [00:00<00:00, 254.63it/s]\n",
      "Computing chunks: 100%|███████████████████████| 5/5 [00:00<00:00, 170500.16it/s]\n",
      "Splitting the experimental spectrum into chunks: 27129it [00:00, 2635611.92it/s]\n",
      "Deconvolving chunks: 100%|████████████████████████| 1/1 [00:18<00:00, 18.71s/it]\n"
     ]
    },
    {
     "name": "stdout",
     "output_type": "stream",
     "text": [
      "Estimation for 0.29000000000000004 and 0.13 done\n",
      "It took: 18.77997660636902 seconds.\n",
      "[0.22784033540100013, 0.1519960632920001, 0.11879097076500009, 0.1768049714760001, 0.32456765906500024]\n"
     ]
    },
    {
     "name": "stderr",
     "output_type": "stream",
     "text": [
      "Initial filtering of formulas: 100%|█████████████| 5/5 [00:00<00:00, 210.73it/s]\n",
      "Computing chunks: 100%|████████████████████████| 5/5 [00:00<00:00, 52428.80it/s]\n",
      "Splitting the experimental spectrum into chunks: 27129it [00:00, 2369827.62it/s]\n",
      "Deconvolving chunks: 100%|████████████████████████| 1/1 [00:14<00:00, 14.43s/it]\n"
     ]
    },
    {
     "name": "stdout",
     "output_type": "stream",
     "text": [
      "Estimation for 0.29000000000000004 and 0.14 done\n",
      "It took: 14.518397569656372 seconds.\n",
      "[0.22785092688500014, 0.15205401439700011, 0.11888470730900008, 0.17673466250700012, 0.32447568890200024]\n"
     ]
    },
    {
     "name": "stderr",
     "output_type": "stream",
     "text": [
      "Initial filtering of formulas: 100%|█████████████| 5/5 [00:00<00:00, 265.75it/s]\n",
      "Computing chunks: 100%|███████████████████████| 5/5 [00:00<00:00, 107546.26it/s]\n",
      "Splitting the experimental spectrum into chunks: 27129it [00:00, 2843473.35it/s]\n",
      "Deconvolving chunks: 100%|████████████████████████| 1/1 [00:13<00:00, 13.64s/it]\n"
     ]
    },
    {
     "name": "stdout",
     "output_type": "stream",
     "text": [
      "Estimation for 0.29000000000000004 and 0.15000000000000002 done\n",
      "It took: 13.699523687362671 seconds.\n",
      "[0.22787256685500015, 0.15210606437800012, 0.11896650278300008, 0.1766644126840001, 0.32439045330100025]\n"
     ]
    },
    {
     "name": "stderr",
     "output_type": "stream",
     "text": [
      "Initial filtering of formulas: 100%|█████████████| 5/5 [00:00<00:00, 251.98it/s]\n",
      "Computing chunks: 100%|███████████████████████| 5/5 [00:00<00:00, 130257.89it/s]\n",
      "Splitting the experimental spectrum into chunks: 27129it [00:00, 2665618.88it/s]\n",
      "Deconvolving chunks: 100%|████████████████████████| 1/1 [00:18<00:00, 18.08s/it]\n"
     ]
    },
    {
     "name": "stdout",
     "output_type": "stream",
     "text": [
      "Estimation for 0.29000000000000004 and 0.16 done\n",
      "It took: 18.161471843719482 seconds.\n",
      "[0.22788341798300013, 0.1521508221640001, 0.11904964934400009, 0.17656052551400012, 0.3243555849950002]\n"
     ]
    },
    {
     "name": "stderr",
     "output_type": "stream",
     "text": [
      "Initial filtering of formulas: 100%|█████████████| 5/5 [00:00<00:00, 152.54it/s]\n",
      "Computing chunks: 100%|████████████████████████| 5/5 [00:00<00:00, 61862.89it/s]\n",
      "Splitting the experimental spectrum into chunks: 27129it [00:00, 1925986.34it/s]\n",
      "Deconvolving chunks: 100%|████████████████████████| 1/1 [00:17<00:00, 17.34s/it]\n"
     ]
    },
    {
     "name": "stdout",
     "output_type": "stream",
     "text": [
      "Estimation for 0.29000000000000004 and 0.17 done\n",
      "It took: 17.45379638671875 seconds.\n",
      "[0.22787621375700015, 0.15217248439100012, 0.11912340125600009, 0.17645452118800012, 0.32437337940700023]\n"
     ]
    },
    {
     "name": "stderr",
     "output_type": "stream",
     "text": [
      "Initial filtering of formulas: 100%|█████████████| 5/5 [00:00<00:00, 259.52it/s]\n",
      "Computing chunks: 100%|████████████████████████| 5/5 [00:00<00:00, 85250.08it/s]\n",
      "Splitting the experimental spectrum into chunks: 27129it [00:00, 2705999.36it/s]\n",
      "Deconvolving chunks: 100%|████████████████████████| 1/1 [00:14<00:00, 14.57s/it]\n"
     ]
    },
    {
     "name": "stdout",
     "output_type": "stream",
     "text": [
      "Estimation for 0.29000000000000004 and 0.18000000000000002 done\n",
      "It took: 14.643798112869263 seconds.\n",
      "[0.22783150985400014, 0.1522134155370001, 0.11917947778200008, 0.17641476749000012, 0.32436082933600024]\n"
     ]
    },
    {
     "name": "stderr",
     "output_type": "stream",
     "text": [
      "Initial filtering of formulas: 100%|█████████████| 5/5 [00:00<00:00, 218.94it/s]\n",
      "Computing chunks: 100%|███████████████████████| 5/5 [00:00<00:00, 106997.55it/s]\n",
      "Splitting the experimental spectrum into chunks: 27129it [00:00, 2184897.43it/s]\n",
      "Deconvolving chunks: 100%|████████████████████████| 1/1 [00:13<00:00, 13.62s/it]\n"
     ]
    },
    {
     "name": "stdout",
     "output_type": "stream",
     "text": [
      "Estimation for 0.29000000000000004 and 0.19 done\n",
      "It took: 13.706435441970825 seconds.\n",
      "[0.22780306398700015, 0.1522326516930001, 0.11922764354200008, 0.1763266389200001, 0.3244100018570002]\n"
     ]
    },
    {
     "name": "stderr",
     "output_type": "stream",
     "text": [
      "Initial filtering of formulas: 100%|█████████████| 5/5 [00:00<00:00, 265.08it/s]\n",
      "Computing chunks: 100%|███████████████████████| 5/5 [00:00<00:00, 211833.54it/s]\n",
      "Splitting the experimental spectrum into chunks: 27129it [00:00, 2879596.94it/s]\n",
      "Deconvolving chunks: 100%|████████████████████████| 1/1 [00:14<00:00, 14.74s/it]\n"
     ]
    },
    {
     "name": "stdout",
     "output_type": "stream",
     "text": [
      "Estimation for 0.29000000000000004 and 0.2 done\n",
      "It took: 14.816032409667969 seconds.\n",
      "[0.22776246757900015, 0.1522477878570001, 0.11926837176200009, 0.1762298060690001, 0.32449156673200025]\n"
     ]
    },
    {
     "name": "stderr",
     "output_type": "stream",
     "text": [
      "Initial filtering of formulas: 100%|█████████████| 5/5 [00:00<00:00, 238.68it/s]\n",
      "Computing chunks: 100%|███████████████████████| 5/5 [00:00<00:00, 122640.47it/s]\n",
      "Splitting the experimental spectrum into chunks: 27129it [00:00, 2528325.15it/s]\n",
      "Deconvolving chunks: 100%|████████████████████████| 1/1 [00:21<00:00, 21.16s/it]\n"
     ]
    },
    {
     "name": "stdout",
     "output_type": "stream",
     "text": [
      "Estimation for 0.29000000000000004 and 0.21000000000000002 done\n",
      "It took: 21.226781368255615 seconds.\n",
      "[0.22773573701700014, 0.15222751912300012, 0.11930434740600009, 0.1761614202980001, 0.32457097615500025]\n"
     ]
    },
    {
     "name": "stderr",
     "output_type": "stream",
     "text": [
      "Initial filtering of formulas: 100%|█████████████| 5/5 [00:00<00:00, 201.83it/s]\n",
      "Computing chunks: 100%|████████████████████████| 5/5 [00:00<00:00, 76818.75it/s]\n",
      "Splitting the experimental spectrum into chunks: 27129it [00:00, 1888773.54it/s]\n",
      "Deconvolving chunks: 100%|████████████████████████| 1/1 [00:15<00:00, 15.10s/it]\n"
     ]
    },
    {
     "name": "stdout",
     "output_type": "stream",
     "text": [
      "Estimation for 0.29000000000000004 and 0.22 done\n",
      "It took: 15.187862396240234 seconds.\n",
      "[0.22771710047500013, 0.1522124115860001, 0.11933757262300008, 0.1761144221920001, 0.3246184931240002]\n"
     ]
    },
    {
     "name": "stderr",
     "output_type": "stream",
     "text": [
      "Initial filtering of formulas: 100%|█████████████| 5/5 [00:00<00:00, 252.09it/s]\n",
      "Computing chunks: 100%|███████████████████████| 5/5 [00:00<00:00, 120525.98it/s]\n",
      "Splitting the experimental spectrum into chunks: 27129it [00:00, 2582142.49it/s]\n",
      "Deconvolving chunks: 100%|████████████████████████| 1/1 [00:14<00:00, 14.03s/it]\n"
     ]
    },
    {
     "name": "stdout",
     "output_type": "stream",
     "text": [
      "Estimation for 0.29000000000000004 and 0.23 done\n",
      "It took: 14.100003004074097 seconds.\n",
      "[0.22770731212400014, 0.1522078328980001, 0.11937316477800008, 0.1760150523690001, 0.3246966378310002]\n"
     ]
    },
    {
     "name": "stderr",
     "output_type": "stream",
     "text": [
      "Initial filtering of formulas: 100%|█████████████| 5/5 [00:00<00:00, 214.67it/s]\n",
      "Computing chunks: 100%|███████████████████████| 5/5 [00:00<00:00, 141699.46it/s]\n",
      "Splitting the experimental spectrum into chunks: 27129it [00:00, 2691469.91it/s]\n",
      "Deconvolving chunks: 100%|████████████████████████| 1/1 [00:16<00:00, 16.06s/it]\n"
     ]
    },
    {
     "name": "stdout",
     "output_type": "stream",
     "text": [
      "Estimation for 0.29000000000000004 and 0.24000000000000002 done\n",
      "It took: 16.135775089263916 seconds.\n",
      "[0.22770803335500014, 0.1521777697000001, 0.11940912418000009, 0.1759238086870001, 0.3247812640770002]\n"
     ]
    },
    {
     "name": "stderr",
     "output_type": "stream",
     "text": [
      "Initial filtering of formulas: 100%|█████████████| 5/5 [00:00<00:00, 152.61it/s]\n",
      "Computing chunks: 100%|████████████████████████| 5/5 [00:00<00:00, 89621.88it/s]\n",
      "Splitting the experimental spectrum into chunks: 27129it [00:00, 1989461.90it/s]\n",
      "Deconvolving chunks: 100%|████████████████████████| 1/1 [00:18<00:00, 18.93s/it]\n"
     ]
    },
    {
     "name": "stdout",
     "output_type": "stream",
     "text": [
      "Estimation for 0.29000000000000004 and 0.25 done\n",
      "It took: 19.03499484062195 seconds.\n",
      "[0.22772886180200014, 0.1521818492400001, 0.11946644571500008, 0.1758593706820001, 0.3247634725620002]\n"
     ]
    },
    {
     "name": "stderr",
     "output_type": "stream",
     "text": [
      "Initial filtering of formulas: 100%|█████████████| 5/5 [00:00<00:00, 137.02it/s]\n",
      "Computing chunks: 100%|████████████████████████| 5/5 [00:00<00:00, 40175.33it/s]\n",
      "Splitting the experimental spectrum into chunks: 27129it [00:00, 1349837.75it/s]\n",
      "Deconvolving chunks: 100%|████████████████████████| 1/1 [00:24<00:00, 24.72s/it]\n"
     ]
    },
    {
     "name": "stdout",
     "output_type": "stream",
     "text": [
      "Estimation for 0.29000000000000004 and 0.26 done\n",
      "It took: 24.846668004989624 seconds.\n",
      "[0.22782527962900015, 0.1521657836290001, 0.11951809049000009, 0.17573872007800012, 0.32475212617400023]\n"
     ]
    },
    {
     "name": "stderr",
     "output_type": "stream",
     "text": [
      "Initial filtering of formulas: 100%|█████████████| 5/5 [00:00<00:00, 157.04it/s]\n",
      "Computing chunks: 100%|███████████████████████| 5/5 [00:00<00:00, 122640.47it/s]\n",
      "Splitting the experimental spectrum into chunks: 27129it [00:00, 1645585.10it/s]\n",
      "Deconvolving chunks: 100%|████████████████████████| 1/1 [00:22<00:00, 22.17s/it]\n"
     ]
    },
    {
     "name": "stdout",
     "output_type": "stream",
     "text": [
      "Estimation for 0.29000000000000004 and 0.27 done\n",
      "It took: 22.281835317611694 seconds.\n",
      "[0.22791411451500013, 0.1521715697220001, 0.11956562842200008, 0.1756237865650001, 0.32472490077600025]\n"
     ]
    },
    {
     "name": "stderr",
     "output_type": "stream",
     "text": [
      "Initial filtering of formulas: 100%|█████████████| 5/5 [00:00<00:00, 143.05it/s]\n",
      "Computing chunks: 100%|████████████████████████| 5/5 [00:00<00:00, 73584.28it/s]\n",
      "Splitting the experimental spectrum into chunks: 27129it [00:00, 1811524.26it/s]\n",
      "Deconvolving chunks: 100%|████████████████████████| 1/1 [00:20<00:00, 20.36s/it]\n"
     ]
    },
    {
     "name": "stdout",
     "output_type": "stream",
     "text": [
      "Estimation for 0.29000000000000004 and 0.28 done\n",
      "It took: 20.487046718597412 seconds.\n",
      "[0.22800375479400015, 0.15215051239700011, 0.11961429280000008, 0.1755478191290001, 0.32468362088000025]\n"
     ]
    },
    {
     "name": "stderr",
     "output_type": "stream",
     "text": [
      "Initial filtering of formulas: 100%|█████████████| 5/5 [00:00<00:00, 215.27it/s]\n",
      "Computing chunks: 100%|███████████████████████| 5/5 [00:00<00:00, 124830.48it/s]\n",
      "Splitting the experimental spectrum into chunks: 27129it [00:00, 2175082.64it/s]\n",
      "Deconvolving chunks: 100%|████████████████████████| 1/1 [00:18<00:00, 18.18s/it]\n"
     ]
    },
    {
     "name": "stdout",
     "output_type": "stream",
     "text": [
      "Estimation for 0.29000000000000004 and 0.29000000000000004 done\n",
      "It took: 18.270134925842285 seconds.\n",
      "[0.22809941287700014, 0.15212366909200012, 0.11966622541100008, 0.1754658630820001, 0.3246448295380002]\n"
     ]
    },
    {
     "name": "stderr",
     "output_type": "stream",
     "text": [
      "Initial filtering of formulas: 100%|█████████████| 5/5 [00:00<00:00, 211.37it/s]\n",
      "Computing chunks: 100%|███████████████████████| 5/5 [00:00<00:00, 106997.55it/s]\n",
      "Splitting the experimental spectrum into chunks: 27129it [00:00, 2434264.79it/s]\n",
      "Deconvolving chunks: 100%|████████████████████████| 1/1 [00:27<00:00, 27.80s/it]\n"
     ]
    },
    {
     "name": "stdout",
     "output_type": "stream",
     "text": [
      "Estimation for 0.29000000000000004 and 0.3 done\n",
      "It took: 27.888951778411865 seconds.\n",
      "[0.22815864652600013, 0.1521179926380001, 0.11970635970500008, 0.1753981384460001, 0.3246188626840002]\n"
     ]
    },
    {
     "name": "stderr",
     "output_type": "stream",
     "text": [
      "Initial filtering of formulas: 100%|█████████████| 5/5 [00:00<00:00, 118.04it/s]\n",
      "Computing chunks: 100%|████████████████████████| 5/5 [00:00<00:00, 42196.22it/s]\n",
      "Splitting the experimental spectrum into chunks: 27129it [00:00, 1190629.53it/s]\n",
      "Deconvolving chunks: 100%|████████████████████████| 1/1 [00:23<00:00, 23.83s/it]\n"
     ]
    },
    {
     "name": "stdout",
     "output_type": "stream",
     "text": [
      "Estimation for 0.3 and 0.01 done\n",
      "It took: 24.00012469291687 seconds.\n",
      "[0.21755084554200013, 0.1842519119180001, 0.11203796674500006, 0.1721534951830001, 0.31400578061200024]\n"
     ]
    },
    {
     "name": "stderr",
     "output_type": "stream",
     "text": [
      "Initial filtering of formulas: 100%|█████████████| 5/5 [00:00<00:00, 217.80it/s]\n",
      "Computing chunks: 100%|████████████████████████| 5/5 [00:00<00:00, 95760.37it/s]\n",
      "Splitting the experimental spectrum into chunks: 27129it [00:00, 1633912.11it/s]\n",
      "Deconvolving chunks: 100%|████████████████████████| 1/1 [00:16<00:00, 16.01s/it]\n"
     ]
    },
    {
     "name": "stdout",
     "output_type": "stream",
     "text": [
      "Estimation for 0.3 and 0.02 done\n",
      "It took: 16.110069274902344 seconds.\n",
      "[0.22749747499800013, 0.15057183637400012, 0.11728689957200009, 0.1773559218180001, 0.32728786723800024]\n"
     ]
    },
    {
     "name": "stderr",
     "output_type": "stream",
     "text": [
      "Initial filtering of formulas: 100%|█████████████| 5/5 [00:00<00:00, 254.47it/s]\n",
      "Computing chunks: 100%|███████████████████████| 5/5 [00:00<00:00, 162569.92it/s]\n",
      "Splitting the experimental spectrum into chunks: 27129it [00:00, 2703748.92it/s]\n",
      "Deconvolving chunks: 100%|████████████████████████| 1/1 [00:16<00:00, 16.42s/it]\n"
     ]
    },
    {
     "name": "stdout",
     "output_type": "stream",
     "text": [
      "Estimation for 0.3 and 0.03 done\n",
      "It took: 16.492136478424072 seconds.\n",
      "[0.22773846947000015, 0.15085527514200012, 0.11753960541000008, 0.1770456446430001, 0.32682100533500025]\n"
     ]
    },
    {
     "name": "stderr",
     "output_type": "stream",
     "text": [
      "Initial filtering of formulas: 100%|█████████████| 5/5 [00:00<00:00, 231.11it/s]\n",
      "Computing chunks: 100%|███████████████████████| 5/5 [00:00<00:00, 114598.47it/s]\n",
      "Splitting the experimental spectrum into chunks: 27129it [00:00, 2166138.84it/s]\n",
      "Deconvolving chunks: 100%|████████████████████████| 1/1 [00:18<00:00, 18.99s/it]\n"
     ]
    },
    {
     "name": "stdout",
     "output_type": "stream",
     "text": [
      "Estimation for 0.3 and 0.04 done\n",
      "It took: 19.069857358932495 seconds.\n",
      "[0.22792690637900015, 0.15107391778000012, 0.11773124674100008, 0.17717095468800012, 0.3260969744120002]\n"
     ]
    },
    {
     "name": "stderr",
     "output_type": "stream",
     "text": [
      "Initial filtering of formulas: 100%|█████████████| 5/5 [00:00<00:00, 122.45it/s]\n",
      "Computing chunks: 100%|████████████████████████| 5/5 [00:00<00:00, 30393.51it/s]\n",
      "Splitting the experimental spectrum into chunks: 27129it [00:00, 1457652.55it/s]\n",
      "Deconvolving chunks: 100%|████████████████████████| 1/1 [00:20<00:00, 20.64s/it]\n"
     ]
    },
    {
     "name": "stdout",
     "output_type": "stream",
     "text": [
      "Estimation for 0.3 and 0.05 done\n",
      "It took: 20.789737224578857 seconds.\n",
      "[0.22800614495500013, 0.1511773893160001, 0.11784200944000009, 0.1771073672140001, 0.3258670890750002]\n"
     ]
    },
    {
     "name": "stderr",
     "output_type": "stream",
     "text": [
      "Initial filtering of formulas: 100%|█████████████| 5/5 [00:00<00:00, 230.49it/s]\n",
      "Computing chunks: 100%|████████████████████████| 5/5 [00:00<00:00, 89240.51it/s]\n",
      "Splitting the experimental spectrum into chunks: 27129it [00:00, 1794780.25it/s]\n",
      "Deconvolving chunks: 100%|████████████████████████| 1/1 [00:15<00:00, 15.91s/it]\n"
     ]
    },
    {
     "name": "stdout",
     "output_type": "stream",
     "text": [
      "Estimation for 0.3 and 0.060000000000000005 done\n",
      "It took: 15.989302635192871 seconds.\n",
      "[0.22791342622200014, 0.15134016525300012, 0.11800515032200008, 0.1772390948450001, 0.3255021633580002]\n"
     ]
    },
    {
     "name": "stderr",
     "output_type": "stream",
     "text": [
      "Initial filtering of formulas: 100%|█████████████| 5/5 [00:00<00:00, 269.56it/s]\n",
      "Computing chunks: 100%|███████████████████████| 5/5 [00:00<00:00, 201649.23it/s]\n",
      "Splitting the experimental spectrum into chunks: 27129it [00:00, 2834830.79it/s]\n",
      "Deconvolving chunks: 100%|████████████████████████| 1/1 [00:15<00:00, 15.76s/it]\n"
     ]
    },
    {
     "name": "stdout",
     "output_type": "stream",
     "text": [
      "Estimation for 0.3 and 0.06999999999999999 done\n",
      "It took: 15.832647562026978 seconds.\n",
      "[0.22785881068300015, 0.1515704520090001, 0.11822816222900008, 0.1770364514150001, 0.3253061236630002]\n"
     ]
    },
    {
     "name": "stderr",
     "output_type": "stream",
     "text": [
      "Initial filtering of formulas: 100%|█████████████| 5/5 [00:00<00:00, 237.72it/s]\n",
      "Computing chunks: 100%|███████████████████████| 5/5 [00:00<00:00, 182361.04it/s]\n",
      "Splitting the experimental spectrum into chunks: 27129it [00:00, 1748233.49it/s]\n",
      "Deconvolving chunks: 100%|████████████████████████| 1/1 [00:18<00:00, 18.20s/it]\n"
     ]
    },
    {
     "name": "stdout",
     "output_type": "stream",
     "text": [
      "Estimation for 0.3 and 0.08 done\n",
      "It took: 18.276132345199585 seconds.\n",
      "[0.22780351728000015, 0.15160544045800012, 0.11831141473700009, 0.17701688002900012, 0.32526274749700024]\n"
     ]
    },
    {
     "name": "stderr",
     "output_type": "stream",
     "text": [
      "Initial filtering of formulas: 100%|█████████████| 5/5 [00:00<00:00, 125.47it/s]\n",
      "Computing chunks: 100%|████████████████████████| 5/5 [00:00<00:00, 22550.02it/s]\n",
      "Splitting the experimental spectrum into chunks: 27129it [00:00, 1221981.73it/s]\n",
      "Deconvolving chunks: 100%|████████████████████████| 1/1 [00:23<00:00, 23.63s/it]\n"
     ]
    },
    {
     "name": "stdout",
     "output_type": "stream",
     "text": [
      "Estimation for 0.3 and 0.09 done\n",
      "It took: 23.751099348068237 seconds.\n",
      "[0.22783946788900014, 0.1516823182740001, 0.11841013928600008, 0.17697185787600012, 0.32509621667600025]\n"
     ]
    },
    {
     "name": "stderr",
     "output_type": "stream",
     "text": [
      "Initial filtering of formulas: 100%|█████████████| 5/5 [00:00<00:00, 206.74it/s]\n",
      "Computing chunks: 100%|████████████████████████| 5/5 [00:00<00:00, 64329.82it/s]\n",
      "Splitting the experimental spectrum into chunks: 27129it [00:00, 2045319.74it/s]\n",
      "Deconvolving chunks: 100%|████████████████████████| 1/1 [00:20<00:00, 20.43s/it]\n"
     ]
    },
    {
     "name": "stdout",
     "output_type": "stream",
     "text": [
      "Estimation for 0.3 and 0.09999999999999999 done\n",
      "It took: 20.52087116241455 seconds.\n",
      "[0.22779971472800015, 0.15178166800000012, 0.11852719681500008, 0.17697388810100012, 0.3249175323570002]\n"
     ]
    },
    {
     "name": "stderr",
     "output_type": "stream",
     "text": [
      "Initial filtering of formulas: 100%|█████████████| 5/5 [00:00<00:00, 246.99it/s]\n",
      "Computing chunks: 100%|███████████████████████| 5/5 [00:00<00:00, 149796.57it/s]\n",
      "Splitting the experimental spectrum into chunks: 27129it [00:00, 2633416.03it/s]\n",
      "Deconvolving chunks: 100%|████████████████████████| 1/1 [00:15<00:00, 15.34s/it]\n"
     ]
    },
    {
     "name": "stdout",
     "output_type": "stream",
     "text": [
      "Estimation for 0.3 and 0.11 done\n",
      "It took: 15.406641244888306 seconds.\n",
      "[0.22774682495400014, 0.1518660946840001, 0.11860870270100009, 0.1769868547910001, 0.32479152287000024]\n"
     ]
    },
    {
     "name": "stderr",
     "output_type": "stream",
     "text": [
      "Initial filtering of formulas: 100%|█████████████| 5/5 [00:00<00:00, 252.20it/s]\n",
      "Computing chunks: 100%|███████████████████████| 5/5 [00:00<00:00, 165130.08it/s]\n",
      "Splitting the experimental spectrum into chunks: 27129it [00:00, 2590313.09it/s]\n",
      "Deconvolving chunks: 100%|████████████████████████| 1/1 [00:15<00:00, 15.74s/it]\n"
     ]
    },
    {
     "name": "stdout",
     "output_type": "stream",
     "text": [
      "Estimation for 0.3 and 0.12 done\n",
      "It took: 15.81133508682251 seconds.\n",
      "[0.22778351470900013, 0.1519366452690001, 0.11869303255000008, 0.1769430273430001, 0.3246437801280002]\n"
     ]
    },
    {
     "name": "stderr",
     "output_type": "stream",
     "text": [
      "Initial filtering of formulas: 100%|█████████████| 5/5 [00:00<00:00, 251.18it/s]\n",
      "Computing chunks: 100%|███████████████████████| 5/5 [00:00<00:00, 180788.97it/s]\n",
      "Splitting the experimental spectrum into chunks: 27129it [00:00, 2611117.38it/s]\n",
      "Deconvolving chunks: 100%|████████████████████████| 1/1 [00:17<00:00, 17.69s/it]\n"
     ]
    },
    {
     "name": "stdout",
     "output_type": "stream",
     "text": [
      "Estimation for 0.3 and 0.13 done\n",
      "It took: 17.752403497695923 seconds.\n",
      "[0.22784033540100013, 0.1519960632920001, 0.11879097076500009, 0.1768049714760001, 0.32456765906500024]\n"
     ]
    },
    {
     "name": "stderr",
     "output_type": "stream",
     "text": [
      "Initial filtering of formulas: 100%|█████████████| 5/5 [00:00<00:00, 252.36it/s]\n",
      "Computing chunks: 100%|███████████████████████| 5/5 [00:00<00:00, 185588.67it/s]\n",
      "Splitting the experimental spectrum into chunks: 27129it [00:00, 2221930.31it/s]\n",
      "Deconvolving chunks: 100%|████████████████████████| 1/1 [00:20<00:00, 20.87s/it]\n"
     ]
    },
    {
     "name": "stdout",
     "output_type": "stream",
     "text": [
      "Estimation for 0.3 and 0.14 done\n",
      "It took: 20.94630742073059 seconds.\n",
      "[0.22785092688500014, 0.15205401439700011, 0.11888470730900008, 0.17673466250700012, 0.32447568890200024]\n"
     ]
    },
    {
     "name": "stderr",
     "output_type": "stream",
     "text": [
      "Initial filtering of formulas: 100%|█████████████| 5/5 [00:00<00:00, 200.38it/s]\n",
      "Computing chunks: 100%|████████████████████████| 5/5 [00:00<00:00, 47771.12it/s]\n",
      "Splitting the experimental spectrum into chunks: 27129it [00:00, 2023136.63it/s]\n",
      "Deconvolving chunks: 100%|████████████████████████| 1/1 [00:20<00:00, 20.20s/it]\n"
     ]
    },
    {
     "name": "stdout",
     "output_type": "stream",
     "text": [
      "Estimation for 0.3 and 0.15000000000000002 done\n",
      "It took: 20.30395531654358 seconds.\n",
      "[0.22787256685500015, 0.15210606437800012, 0.11896650278300008, 0.1766644126840001, 0.32439045330100025]\n"
     ]
    },
    {
     "name": "stderr",
     "output_type": "stream",
     "text": [
      "Initial filtering of formulas: 100%|█████████████| 5/5 [00:00<00:00, 197.98it/s]\n",
      "Computing chunks: 100%|████████████████████████| 5/5 [00:00<00:00, 42886.54it/s]\n",
      "Splitting the experimental spectrum into chunks: 27129it [00:00, 1662754.42it/s]\n",
      "Deconvolving chunks: 100%|████████████████████████| 1/1 [00:20<00:00, 20.84s/it]\n"
     ]
    },
    {
     "name": "stdout",
     "output_type": "stream",
     "text": [
      "Estimation for 0.3 and 0.16 done\n",
      "It took: 20.9392671585083 seconds.\n",
      "[0.22788341798300013, 0.1521508221640001, 0.11904964934400009, 0.17656052551400012, 0.3243555849950002]\n"
     ]
    },
    {
     "name": "stderr",
     "output_type": "stream",
     "text": [
      "Initial filtering of formulas: 100%|█████████████| 5/5 [00:00<00:00, 106.57it/s]\n",
      "Computing chunks: 100%|████████████████████████| 5/5 [00:00<00:00, 51275.11it/s]\n",
      "Splitting the experimental spectrum into chunks: 27129it [00:00, 1299401.31it/s]\n",
      "Deconvolving chunks: 100%|████████████████████████| 1/1 [00:24<00:00, 24.72s/it]\n"
     ]
    },
    {
     "name": "stdout",
     "output_type": "stream",
     "text": [
      "Estimation for 0.3 and 0.17 done\n",
      "It took: 24.88084888458252 seconds.\n",
      "[0.22787621375700015, 0.15217248439100012, 0.11912340125600009, 0.17645452118800012, 0.32437337940700023]\n"
     ]
    },
    {
     "name": "stderr",
     "output_type": "stream",
     "text": [
      "Initial filtering of formulas: 100%|█████████████| 5/5 [00:00<00:00, 118.65it/s]\n",
      "Computing chunks: 100%|████████████████████████| 5/5 [00:00<00:00, 30885.89it/s]\n",
      "Splitting the experimental spectrum into chunks: 27129it [00:00, 1327832.44it/s]\n",
      "Deconvolving chunks: 100%|████████████████████████| 1/1 [00:28<00:00, 28.34s/it]\n"
     ]
    },
    {
     "name": "stdout",
     "output_type": "stream",
     "text": [
      "Estimation for 0.3 and 0.18000000000000002 done\n",
      "It took: 28.515514850616455 seconds.\n",
      "[0.22783152227900014, 0.1522134238930001, 0.11917948470300008, 0.1764147218780001, 0.32436084724800024]\n"
     ]
    },
    {
     "name": "stderr",
     "output_type": "stream",
     "text": [
      "Initial filtering of formulas: 100%|██████████████| 5/5 [00:00<00:00, 63.67it/s]\n",
      "Computing chunks: 100%|████████████████████████| 5/5 [00:00<00:00, 27025.15it/s]\n",
      "Splitting the experimental spectrum into chunks: 27129it [00:00, 923223.31it/s]\n",
      "Deconvolving chunks: 100%|████████████████████████| 1/1 [00:33<00:00, 33.65s/it]\n"
     ]
    },
    {
     "name": "stdout",
     "output_type": "stream",
     "text": [
      "Estimation for 0.3 and 0.19 done\n",
      "It took: 33.88812470436096 seconds.\n",
      "[0.22780306398700015, 0.1522326516930001, 0.11922764354200008, 0.1763266389200001, 0.3244100018570002]\n"
     ]
    },
    {
     "name": "stderr",
     "output_type": "stream",
     "text": [
      "Initial filtering of formulas: 100%|█████████████| 5/5 [00:00<00:00, 112.16it/s]\n",
      "Computing chunks: 100%|████████████████████████| 5/5 [00:00<00:00, 24077.52it/s]\n",
      "Splitting the experimental spectrum into chunks: 27129it [00:00, 1355853.26it/s]\n",
      "Deconvolving chunks: 100%|████████████████████████| 1/1 [00:31<00:00, 31.22s/it]\n"
     ]
    },
    {
     "name": "stdout",
     "output_type": "stream",
     "text": [
      "Estimation for 0.3 and 0.2 done\n",
      "It took: 31.379177570343018 seconds.\n",
      "[0.22776246757900015, 0.1522477878570001, 0.11926837176200009, 0.1762298060690001, 0.32449156673200025]\n"
     ]
    },
    {
     "name": "stderr",
     "output_type": "stream",
     "text": [
      "Initial filtering of formulas: 100%|█████████████| 5/5 [00:00<00:00, 133.55it/s]\n",
      "Computing chunks: 100%|███████████████████████| 5/5 [00:00<00:00, 104335.92it/s]\n",
      "Splitting the experimental spectrum into chunks: 27129it [00:00, 1462317.01it/s]\n",
      "Deconvolving chunks: 100%|████████████████████████| 1/1 [00:24<00:00, 24.42s/it]\n"
     ]
    },
    {
     "name": "stdout",
     "output_type": "stream",
     "text": [
      "Estimation for 0.3 and 0.21000000000000002 done\n",
      "It took: 24.55517578125 seconds.\n",
      "[0.22773573701700014, 0.15222751912300012, 0.11930434740600009, 0.1761614202980001, 0.32457097615500025]\n"
     ]
    },
    {
     "name": "stderr",
     "output_type": "stream",
     "text": [
      "Initial filtering of formulas: 100%|█████████████| 5/5 [00:00<00:00, 184.41it/s]\n",
      "Computing chunks: 100%|████████████████████████| 5/5 [00:00<00:00, 63358.07it/s]\n",
      "Splitting the experimental spectrum into chunks: 27129it [00:00, 1952457.54it/s]\n",
      "Deconvolving chunks: 100%|████████████████████████| 1/1 [00:19<00:00, 19.63s/it]\n"
     ]
    },
    {
     "name": "stdout",
     "output_type": "stream",
     "text": [
      "Estimation for 0.3 and 0.22 done\n",
      "It took: 19.72956943511963 seconds.\n",
      "[0.22771710009600013, 0.1522124113910001, 0.11933745204700008, 0.17611454357600012, 0.32461849288900024]\n"
     ]
    },
    {
     "name": "stderr",
     "output_type": "stream",
     "text": [
      "Initial filtering of formulas: 100%|█████████████| 5/5 [00:00<00:00, 196.14it/s]\n",
      "Computing chunks: 100%|████████████████████████| 5/5 [00:00<00:00, 45590.26it/s]\n",
      "Splitting the experimental spectrum into chunks: 27129it [00:00, 1289958.88it/s]\n",
      "Deconvolving chunks: 100%|████████████████████████| 1/1 [00:21<00:00, 21.50s/it]\n"
     ]
    },
    {
     "name": "stdout",
     "output_type": "stream",
     "text": [
      "Estimation for 0.3 and 0.23 done\n",
      "It took: 21.609679460525513 seconds.\n",
      "[0.22770747215200013, 0.15220767635400012, 0.11937316464300009, 0.1760150500970001, 0.32469663675400023]\n"
     ]
    },
    {
     "name": "stderr",
     "output_type": "stream",
     "text": [
      "Initial filtering of formulas: 100%|█████████████| 5/5 [00:00<00:00, 202.52it/s]\n",
      "Computing chunks: 100%|███████████████████████| 5/5 [00:00<00:00, 121222.66it/s]\n",
      "Splitting the experimental spectrum into chunks: 27129it [00:00, 2378794.86it/s]\n",
      "Deconvolving chunks: 100%|████████████████████████| 1/1 [00:26<00:00, 26.17s/it]\n"
     ]
    },
    {
     "name": "stdout",
     "output_type": "stream",
     "text": [
      "Estimation for 0.3 and 0.24000000000000002 done\n",
      "It took: 26.276386737823486 seconds.\n",
      "[0.22770803335500014, 0.1521777697000001, 0.11940912418000009, 0.1759238086870001, 0.3247812640770002]\n"
     ]
    },
    {
     "name": "stderr",
     "output_type": "stream",
     "text": [
      "Initial filtering of formulas: 100%|█████████████| 5/5 [00:00<00:00, 161.91it/s]\n",
      "Computing chunks: 100%|████████████████████████| 5/5 [00:00<00:00, 19991.92it/s]\n",
      "Splitting the experimental spectrum into chunks: 27129it [00:00, 1453964.65it/s]\n",
      "Deconvolving chunks: 100%|████████████████████████| 1/1 [00:26<00:00, 26.10s/it]\n"
     ]
    },
    {
     "name": "stdout",
     "output_type": "stream",
     "text": [
      "Estimation for 0.3 and 0.25 done\n",
      "It took: 26.240213632583618 seconds.\n",
      "[0.22772886180200014, 0.1521818492400001, 0.11946644571500008, 0.1758593706820001, 0.3247634725620002]\n"
     ]
    },
    {
     "name": "stderr",
     "output_type": "stream",
     "text": [
      "Initial filtering of formulas: 100%|█████████████| 5/5 [00:00<00:00, 110.07it/s]\n",
      "Computing chunks: 100%|████████████████████████| 5/5 [00:00<00:00, 50778.50it/s]\n",
      "Splitting the experimental spectrum into chunks: 27129it [00:00, 1218592.29it/s]\n",
      "Deconvolving chunks: 100%|████████████████████████| 1/1 [00:26<00:00, 26.99s/it]\n"
     ]
    },
    {
     "name": "stdout",
     "output_type": "stream",
     "text": [
      "Estimation for 0.3 and 0.26 done\n",
      "It took: 27.15328359603882 seconds.\n",
      "[0.22782544344600014, 0.15216589354000012, 0.11951817571300008, 0.17573884799600012, 0.3247516393040002]\n"
     ]
    },
    {
     "name": "stderr",
     "output_type": "stream",
     "text": [
      "Initial filtering of formulas: 100%|██████████████| 5/5 [00:00<00:00, 96.01it/s]\n",
      "Computing chunks: 100%|████████████████████████| 5/5 [00:00<00:00, 40485.56it/s]\n",
      "Splitting the experimental spectrum into chunks: 27129it [00:00, 1137793.09it/s]\n",
      "Deconvolving chunks: 100%|████████████████████████| 1/1 [00:20<00:00, 20.45s/it]\n"
     ]
    },
    {
     "name": "stdout",
     "output_type": "stream",
     "text": [
      "Estimation for 0.3 and 0.27 done\n",
      "It took: 20.62040066719055 seconds.\n",
      "[0.22791411451500013, 0.1521715697220001, 0.11956562842200008, 0.1756237865650001, 0.32472490077600025]\n"
     ]
    },
    {
     "name": "stderr",
     "output_type": "stream",
     "text": [
      "Initial filtering of formulas: 100%|█████████████| 5/5 [00:00<00:00, 141.38it/s]\n",
      "Computing chunks: 100%|████████████████████████| 5/5 [00:00<00:00, 31536.12it/s]\n",
      "Splitting the experimental spectrum into chunks: 27129it [00:00, 1917450.64it/s]\n",
      "Deconvolving chunks: 100%|████████████████████████| 1/1 [00:19<00:00, 19.34s/it]\n"
     ]
    },
    {
     "name": "stdout",
     "output_type": "stream",
     "text": [
      "Estimation for 0.3 and 0.28 done\n",
      "It took: 19.45890998840332 seconds.\n",
      "[0.22800375479400015, 0.15215051239700011, 0.11961429280000008, 0.1755478191290001, 0.32468362088000025]\n"
     ]
    },
    {
     "name": "stderr",
     "output_type": "stream",
     "text": [
      "Initial filtering of formulas: 100%|█████████████| 5/5 [00:00<00:00, 203.81it/s]\n",
      "Computing chunks: 100%|████████████████████████| 5/5 [00:00<00:00, 89240.51it/s]\n",
      "Splitting the experimental spectrum into chunks: 27129it [00:00, 1995462.76it/s]\n",
      "Deconvolving chunks: 100%|████████████████████████| 1/1 [00:19<00:00, 19.18s/it]\n"
     ]
    },
    {
     "name": "stdout",
     "output_type": "stream",
     "text": [
      "Estimation for 0.3 and 0.29000000000000004 done\n",
      "It took: 19.266314268112183 seconds.\n",
      "[0.22809941287700014, 0.15212366909200012, 0.11966622541100008, 0.1754658630820001, 0.3246448295380002]\n"
     ]
    },
    {
     "name": "stderr",
     "output_type": "stream",
     "text": [
      "Initial filtering of formulas: 100%|█████████████| 5/5 [00:00<00:00, 209.30it/s]\n",
      "Computing chunks: 100%|████████████████████████| 5/5 [00:00<00:00, 79437.58it/s]\n",
      "Splitting the experimental spectrum into chunks: 27129it [00:00, 1853998.00it/s]\n",
      "Deconvolving chunks: 100%|████████████████████████| 1/1 [00:23<00:00, 23.60s/it]"
     ]
    },
    {
     "name": "stdout",
     "output_type": "stream",
     "text": [
      "Estimation for 0.3 and 0.3 done\n",
      "It took: 23.699270009994507 seconds.\n",
      "[0.22815864652600013, 0.1521179926380001, 0.11970635970500008, 0.1753981384460001, 0.3246188626840002]\n"
     ]
    },
    {
     "name": "stderr",
     "output_type": "stream",
     "text": [
      "\n"
     ]
    }
   ],
   "source": [
    "# list_of_estimation_results = []\n",
    "# for kappa in np.arange(start=lower_limit, stop=upper_limit, step=step):\n",
    "#     fixed_kappa = []\n",
    "#     for kappa_prime in np.arange(start=lower_limit, stop=upper_limit, step=step):\n",
    "#         start = time.time()\n",
    "#         estimation = estimate_proportions(mix, [comp0, comp1, comp2, comp3, comp4], \n",
    "#                                    MTD=kappa, MTD_th=kappa_prime, verbose=False, solver=pulp.GUROBI(msg=False),\n",
    "#                                        what_to_compare='area')\n",
    "#         end = time.time()\n",
    "#         fixed_kappa.append(estimation['proportions'])\n",
    "#         print('Estimation for '+str(kappa)+' and '+str(kappa_prime)+' done')\n",
    "#         print('It took: '+str(end-start)+' seconds.')\n",
    "#         print(estimation['proportions'])\n",
    "#     list_of_estimation_results.append(fixed_kappa)"
   ]
  },
  {
   "cell_type": "code",
   "execution_count": 44,
   "id": "88f9b855",
   "metadata": {},
   "outputs": [],
   "source": [
    "# list_of_dataframes_with_results = []\n",
    "# for component_number in range(len([comp0, comp1, comp2, comp3, comp4])):\n",
    "#     results_for_component = pd.DataFrame(columns=np.arange(start=lower_limit, stop=upper_limit, step=step),\n",
    "#                                    index=np.arange(start=lower_limit, stop=upper_limit, step=step))\n",
    "#     for i in range(results_for_component.shape[0]):\n",
    "#         for j in range(results_for_component.shape[1]):\n",
    "#             results_for_component.iloc[i,j] = list_of_estimation_results[i][j][component_number]\n",
    "    \n",
    "#     list_of_dataframes_with_results.append(results_for_component)"
   ]
  },
  {
   "cell_type": "code",
   "execution_count": 47,
   "id": "63b7284b",
   "metadata": {},
   "outputs": [],
   "source": [
    "# with open('results_for_different_kappas_exp7.pkl', 'wb') as f:\n",
    "#     pickle.dump(list_of_dataframes_with_results, f)"
   ]
  },
  {
   "cell_type": "markdown",
   "id": "296d37e5",
   "metadata": {},
   "source": [
    "#### Molar proportions"
   ]
  },
  {
   "cell_type": "code",
   "execution_count": 45,
   "id": "da6df796",
   "metadata": {},
   "outputs": [],
   "source": [
    "with open('results_for_different_kappas_exp9.pkl', 'rb') as f:\n",
    "    list_of_dataframes_with_results = pickle.load(f)\n",
    "#first coordinate: kappa,\n",
    "#second coordinate: kappa_prime"
   ]
  },
  {
   "cell_type": "code",
   "execution_count": 46,
   "id": "5196e5f5",
   "metadata": {},
   "outputs": [],
   "source": [
    "temp = []\n",
    "for nr_of_component, df in enumerate(list_of_dataframes_with_results):\n",
    "    temp.append(df/protons[nr_of_component])\n",
    "temp2 = []\n",
    "for df in temp:\n",
    "    temp2.append(df/sum(temp))\n",
    "list_of_dataframes_with_results = temp2\n",
    "del(temp)\n",
    "del(temp2)"
   ]
  },
  {
   "cell_type": "code",
   "execution_count": 47,
   "id": "6d1be00b",
   "metadata": {},
   "outputs": [],
   "source": [
    "dataframes_ready_for_heatmap = []\n",
    "for i, df in enumerate(list_of_dataframes_with_results):\n",
    "    preprocessed_df = abs(df - molar_proportions[i])\n",
    "    dataframes_ready_for_heatmap.append(preprocessed_df)"
   ]
  },
  {
   "cell_type": "code",
   "execution_count": 48,
   "id": "8500fb85",
   "metadata": {},
   "outputs": [],
   "source": [
    "all_components_results_molar = sum(dataframes_ready_for_heatmap)"
   ]
  },
  {
   "cell_type": "markdown",
   "id": "85796171",
   "metadata": {},
   "source": [
    "#### Visible proportions"
   ]
  },
  {
   "cell_type": "code",
   "execution_count": 50,
   "id": "fbc74968",
   "metadata": {},
   "outputs": [],
   "source": [
    "with open('results_for_different_kappas_exp9.pkl', 'rb') as f:\n",
    "    list_of_dataframes_with_results = pickle.load(f)\n",
    "#first coordinate: kappa,\n",
    "#second coordinate: kappa_prime"
   ]
  },
  {
   "cell_type": "code",
   "execution_count": 51,
   "id": "49c80d93",
   "metadata": {},
   "outputs": [],
   "source": [
    "dataframes_ready_for_heatmap = []\n",
    "for i, df in enumerate(list_of_dataframes_with_results):\n",
    "    preprocessed_df = abs(df - real_visible_proportions[i])\n",
    "    dataframes_ready_for_heatmap.append(preprocessed_df)"
   ]
  },
  {
   "cell_type": "code",
   "execution_count": 52,
   "id": "5d827ac1",
   "metadata": {},
   "outputs": [],
   "source": [
    "all_components_results_vis = sum(dataframes_ready_for_heatmap)"
   ]
  },
  {
   "cell_type": "markdown",
   "id": "92b9e2d7",
   "metadata": {},
   "source": [
    "#### Both"
   ]
  },
  {
   "cell_type": "code",
   "execution_count": 53,
   "id": "93e679dc",
   "metadata": {},
   "outputs": [],
   "source": [
    "all_components_results_both = all_components_results_vis + all_components_results_molar"
   ]
  },
  {
   "cell_type": "code",
   "execution_count": 54,
   "id": "1d31185d",
   "metadata": {},
   "outputs": [],
   "source": [
    "all_components_results_both = all_components_results_both.apply(pd.to_numeric, errors = 'coerce', axis=0)"
   ]
  },
  {
   "cell_type": "code",
   "execution_count": 55,
   "id": "407fca2f",
   "metadata": {},
   "outputs": [
    {
     "data": {
      "text/plain": [
       "0.08314535561159168"
      ]
     },
     "execution_count": 55,
     "metadata": {},
     "output_type": "execute_result"
    }
   ],
   "source": [
    "all_components_results_both.min().min()"
   ]
  },
  {
   "cell_type": "code",
   "execution_count": 56,
   "id": "76aab6a7",
   "metadata": {},
   "outputs": [
    {
     "data": {
      "text/plain": [
       "0.08314535561159168"
      ]
     },
     "execution_count": 56,
     "metadata": {},
     "output_type": "execute_result"
    }
   ],
   "source": [
    "all_components_results_both[0.02][0.05]"
   ]
  },
  {
   "cell_type": "markdown",
   "id": "403a0df0",
   "metadata": {},
   "source": [
    "### Saving preprocessed spectra"
   ]
  },
  {
   "cell_type": "code",
   "execution_count": 55,
   "id": "829d8f0b",
   "metadata": {},
   "outputs": [],
   "source": [
    "# for i, sp in enumerate(spectra_and_mixture):\n",
    "#     try:\n",
    "#         np.savetxt('preprocessed_exp7_'+str(names[i])+'.csv', np.array(sp.confs), delimiter=',')\n",
    "#     except IndexError:\n",
    "#         np.savetxt('preprocessed_exp7_mix.csv', np.array(sp.confs), delimiter=',')"
   ]
  }
 ],
 "metadata": {
  "kernelspec": {
   "display_name": "Python 3 (ipykernel)",
   "language": "python",
   "name": "python3"
  },
  "language_info": {
   "codemirror_mode": {
    "name": "ipython",
    "version": 3
   },
   "file_extension": ".py",
   "mimetype": "text/x-python",
   "name": "python",
   "nbconvert_exporter": "python",
   "pygments_lexer": "ipython3",
   "version": "3.10.12"
  }
 },
 "nbformat": 4,
 "nbformat_minor": 5
}
