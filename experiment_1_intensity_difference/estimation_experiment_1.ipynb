{
 "cells": [
  {
   "cell_type": "markdown",
   "id": "c0dda7bc",
   "metadata": {},
   "source": [
    "### Settings and imports"
   ]
  },
  {
   "cell_type": "code",
   "execution_count": 1,
   "id": "6490deb8",
   "metadata": {},
   "outputs": [],
   "source": [
    "%matplotlib notebook"
   ]
  },
  {
   "cell_type": "code",
   "execution_count": 2,
   "id": "18168f35",
   "metadata": {},
   "outputs": [],
   "source": [
    "import sys\n",
    "mypath = \"/home/basia/Documents/spectroscopy/wassersteinms\"\n",
    "sys.path.insert(0, mypath)\n",
    "import masserstein "
   ]
  },
  {
   "cell_type": "code",
   "execution_count": 3,
   "id": "547dfce4",
   "metadata": {},
   "outputs": [],
   "source": [
    "import os\n",
    "\n",
    "from masserstein import Spectrum, NMRSpectrum\n",
    "from masserstein import estimate_proportions\n",
    "\n",
    "from matplotlib import pyplot as plt\n",
    "\n",
    "import numpy as np\n",
    "\n",
    "import pulp\n",
    "\n",
    "import pickle\n",
    "\n",
    "import seaborn as sns\n",
    "from textwrap import wrap\n",
    "\n",
    "from pathlib import Path"
   ]
  },
  {
   "cell_type": "markdown",
   "id": "0a43c3c3",
   "metadata": {},
   "source": [
    "### Loading the data"
   ]
  },
  {
   "cell_type": "code",
   "execution_count": 4,
   "id": "d3dc96a1",
   "metadata": {},
   "outputs": [],
   "source": [
    "official_names = ['Pinene', 'Benzyl benzoate']"
   ]
  },
  {
   "cell_type": "code",
   "execution_count": 5,
   "id": "b83dd525",
   "metadata": {},
   "outputs": [
    {
     "data": {
      "text/plain": [
       "'/home/basia/Documents/spectroscopy/new_magnetstein_data/experiment_1_intensity_difference'"
      ]
     },
     "execution_count": 5,
     "metadata": {},
     "output_type": "execute_result"
    }
   ],
   "source": [
    "os.getcwd()"
   ]
  },
  {
   "cell_type": "code",
   "execution_count": 6,
   "id": "1872b8e9",
   "metadata": {},
   "outputs": [],
   "source": [
    "mix = np.loadtxt(os.getcwd()+'/benzyl_benzoate_pinene_duza_roznica_intensywnosci_pikow.csv', skiprows=0, usecols=range(2), \n",
    "                      delimiter='\\t',dtype=float)\n",
    "ppm = mix[:,0]\n",
    "mix = mix[:,1]\n",
    "\n",
    "comp = np.loadtxt(os.getcwd()+'/library.csv', skiprows=1, usecols=[0, 1, 2],\n",
    "                      delimiter='\\t',dtype=float)\n",
    "ppm_components = comp[:,0]\n",
    "components = comp[:,1:]"
   ]
  },
  {
   "cell_type": "code",
   "execution_count": 7,
   "id": "68d81855",
   "metadata": {},
   "outputs": [],
   "source": [
    "components_ints = []\n",
    "names = []\n",
    "for i in range(components.shape[1]):\n",
    "    components_ints.append(components[:,i])\n",
    "    names.append('comp'+str(i))"
   ]
  },
  {
   "cell_type": "code",
   "execution_count": 8,
   "id": "b085acfc",
   "metadata": {},
   "outputs": [],
   "source": [
    "protons = [16, 12]\n",
    "mass_proportions = [0.0603, 0.9397]\n",
    "molar_masses = [136.24, 212.25]"
   ]
  },
  {
   "cell_type": "code",
   "execution_count": 9,
   "id": "d54f971c",
   "metadata": {},
   "outputs": [],
   "source": [
    "spectra = []\n",
    "for i, comp_ints in enumerate(components_ints):\n",
    "    spectra.append(NMRSpectrum(confs=list(zip(ppm_components, comp_ints)), protons = protons[i]))"
   ]
  },
  {
   "cell_type": "code",
   "execution_count": 10,
   "id": "19aa278a",
   "metadata": {},
   "outputs": [],
   "source": [
    "mix = NMRSpectrum(confs=list(zip(ppm,mix)))"
   ]
  },
  {
   "cell_type": "code",
   "execution_count": 11,
   "id": "1f2c6229",
   "metadata": {},
   "outputs": [],
   "source": [
    "# mix.plot(profile=True)\n",
    "# spectra[0].plot(profile=True)\n",
    "# spectra[1].plot(profile=True)"
   ]
  },
  {
   "cell_type": "markdown",
   "id": "60920a16",
   "metadata": {},
   "source": [
    "### Ground truth"
   ]
  },
  {
   "cell_type": "code",
   "execution_count": 12,
   "id": "9125fc72",
   "metadata": {},
   "outputs": [],
   "source": [
    "protons = [16, 12]\n",
    "mass_proportions = [0.0603, 0.9397]\n",
    "molar_masses = [136.24, 212.25]"
   ]
  },
  {
   "cell_type": "code",
   "execution_count": 13,
   "id": "8a796026",
   "metadata": {},
   "outputs": [],
   "source": [
    "molar_proportions = [mass_prop/mol_mass for mass_prop, mol_mass in zip(mass_proportions, molar_masses)]\n",
    "molar_proportions = [mol_prop/sum(molar_proportions) for mol_prop in molar_proportions]"
   ]
  },
  {
   "cell_type": "code",
   "execution_count": 14,
   "id": "d27bbf93",
   "metadata": {},
   "outputs": [
    {
     "data": {
      "text/plain": [
       "[0.09088457406472417, 0.9091154259352758]"
      ]
     },
     "execution_count": 14,
     "metadata": {},
     "output_type": "execute_result"
    }
   ],
   "source": [
    "molar_proportions"
   ]
  },
  {
   "cell_type": "code",
   "execution_count": 15,
   "id": "a6896bb6",
   "metadata": {},
   "outputs": [],
   "source": [
    "real_visible_proportions = [prot*prop for prot, prop in zip(protons, molar_proportions)]\n",
    "real_visible_proportions = [prop/sum(real_visible_proportions) for prop in real_visible_proportions]"
   ]
  },
  {
   "cell_type": "code",
   "execution_count": 16,
   "id": "9a31627e",
   "metadata": {},
   "outputs": [
    {
     "data": {
      "text/plain": [
       "[0.11761626406540927, 0.8823837359345907]"
      ]
     },
     "execution_count": 16,
     "metadata": {},
     "output_type": "execute_result"
    }
   ],
   "source": [
    "real_visible_proportions"
   ]
  },
  {
   "cell_type": "code",
   "execution_count": 17,
   "id": "99b12153",
   "metadata": {},
   "outputs": [
    {
     "data": {
      "text/plain": [
       "[0.0603, 0.9397]"
      ]
     },
     "execution_count": 17,
     "metadata": {},
     "output_type": "execute_result"
    }
   ],
   "source": [
    "mass_proportions"
   ]
  },
  {
   "cell_type": "markdown",
   "id": "8f15b9b2",
   "metadata": {},
   "source": [
    "### Preprocessing"
   ]
  },
  {
   "cell_type": "code",
   "execution_count": 18,
   "id": "6ba2cbdd",
   "metadata": {},
   "outputs": [],
   "source": [
    "def shift_coef(list_of_spectra, epsilon=0.001):\n",
    "    res = list_of_spectra\n",
    "    shifted_unique = []\n",
    "    old_confs = [np.array(sp.confs) for sp in list_of_spectra]\n",
    "    min_of_min = min([min(old_conf[:,0]) for old_conf in old_confs])\n",
    "    if min_of_min<0:\n",
    "        shift_coef = (min_of_min - epsilon)*(-1)\n",
    "        return shift_coef\n",
    "    else:\n",
    "        return 0"
   ]
  },
  {
   "cell_type": "code",
   "execution_count": 19,
   "id": "88c18cb9",
   "metadata": {},
   "outputs": [],
   "source": [
    "def make_nonnegative(spectrum):\n",
    "    confs = np.array(spectrum.confs)\n",
    "    neg = confs[:,1]<0\n",
    "    confs[:,1][neg]=0\n",
    "    new_confs = list(zip(confs[:,0],confs[:,1]))\n",
    "    result = NMRSpectrum(confs=new_confs)\n",
    "    return(result)"
   ]
  },
  {
   "cell_type": "code",
   "execution_count": 20,
   "id": "f04d69ce",
   "metadata": {},
   "outputs": [],
   "source": [
    "def common_mass_axis(list_of_spectra):\n",
    "    all_mz = set()\n",
    "    for sp in list_of_spectra:\n",
    "        mz_set = set(np.array(sp.confs, np.dtype('float'))[:,0])\n",
    "        all_mz = all_mz.union(mz_set)\n",
    "    all_mz = np.array(sorted(all_mz))\n",
    "    return all_mz"
   ]
  },
  {
   "cell_type": "code",
   "execution_count": 21,
   "id": "bf723195",
   "metadata": {},
   "outputs": [],
   "source": [
    "spectra_and_mixture = spectra + [mix]"
   ]
  },
  {
   "cell_type": "code",
   "execution_count": 22,
   "id": "bdf9384e",
   "metadata": {},
   "outputs": [
    {
     "data": {
      "text/plain": [
       "1.9726499999999998"
      ]
     },
     "execution_count": 22,
     "metadata": {},
     "output_type": "execute_result"
    }
   ],
   "source": [
    "shift_coef = shift_coef(spectra_and_mixture)\n",
    "shift_coef"
   ]
  },
  {
   "cell_type": "code",
   "execution_count": 23,
   "id": "e7181f9e",
   "metadata": {},
   "outputs": [],
   "source": [
    "preprocessed_spectra = []\n",
    "for sp in spectra_and_mixture:\n",
    "    sp2 = make_nonnegative(sp)\n",
    "    sp2.sort_confs()\n",
    "    sp2.merge_confs()\n",
    "    sp2.normalize()\n",
    "    preprocessed_spectra.append(sp2)"
   ]
  },
  {
   "cell_type": "code",
   "execution_count": 24,
   "id": "01ffe3c0",
   "metadata": {},
   "outputs": [],
   "source": [
    "spectra_and_mixture = preprocessed_spectra\n",
    "spectra = spectra_and_mixture[:-1]\n",
    "mix = preprocessed_spectra[-1]\n",
    "del(preprocessed_spectra)"
   ]
  },
  {
   "cell_type": "code",
   "execution_count": 25,
   "id": "16a50881",
   "metadata": {},
   "outputs": [
    {
     "data": {
      "text/plain": [
       "[<masserstein.nmr_spectrum.NMRSpectrum at 0x7f571700ba30>,\n",
       " <masserstein.nmr_spectrum.NMRSpectrum at 0x7f571700bc10>,\n",
       " <masserstein.nmr_spectrum.NMRSpectrum at 0x7f579f27f190>]"
      ]
     },
     "execution_count": 25,
     "metadata": {},
     "output_type": "execute_result"
    }
   ],
   "source": [
    "spectra_and_mixture"
   ]
  },
  {
   "cell_type": "code",
   "execution_count": 26,
   "id": "1b91ab40",
   "metadata": {},
   "outputs": [],
   "source": [
    "cma = common_mass_axis(spectra_and_mixture)"
   ]
  },
  {
   "cell_type": "code",
   "execution_count": 27,
   "id": "5924da86",
   "metadata": {},
   "outputs": [],
   "source": [
    "preprocessed_spectra = []\n",
    "for sp in spectra_and_mixture:\n",
    "    preprocessed_spectra.append(sp.resample(cma))"
   ]
  },
  {
   "cell_type": "code",
   "execution_count": 28,
   "id": "eb8e429b",
   "metadata": {},
   "outputs": [],
   "source": [
    "spectra_and_mixture = preprocessed_spectra\n",
    "del(preprocessed_spectra)"
   ]
  },
  {
   "cell_type": "code",
   "execution_count": 29,
   "id": "25d7fb75",
   "metadata": {},
   "outputs": [],
   "source": [
    "preprocessed_spectra = []\n",
    "for sp in spectra_and_mixture:\n",
    "    sp = make_nonnegative(sp)\n",
    "    sp.sort_confs()\n",
    "    sp.merge_confs()\n",
    "    sp.normalize()\n",
    "    preprocessed_spectra.append(sp)"
   ]
  },
  {
   "cell_type": "code",
   "execution_count": 30,
   "id": "dc3d4186",
   "metadata": {},
   "outputs": [],
   "source": [
    "spectra_and_mixture = preprocessed_spectra\n",
    "spectra = spectra_and_mixture[:-1]\n",
    "mix = preprocessed_spectra[-1]\n",
    "del(preprocessed_spectra)"
   ]
  },
  {
   "cell_type": "code",
   "execution_count": 31,
   "id": "ccadedd8",
   "metadata": {},
   "outputs": [],
   "source": [
    "for i, sp in enumerate(spectra):\n",
    "    sp.protons = protons[i]"
   ]
  },
  {
   "cell_type": "code",
   "execution_count": 32,
   "id": "3f202d1a",
   "metadata": {},
   "outputs": [],
   "source": [
    "for i, name in enumerate(names):\n",
    "    globals()[name] = spectra[i]"
   ]
  },
  {
   "cell_type": "code",
   "execution_count": 33,
   "id": "e47868e7",
   "metadata": {},
   "outputs": [],
   "source": [
    "# mix.plot(profile=True)\n",
    "# comp0.plot(profile=True)\n",
    "# comp1.plot(profile=True)"
   ]
  },
  {
   "cell_type": "markdown",
   "id": "1c6a35c0",
   "metadata": {},
   "source": [
    "### Finding best values of the parameters"
   ]
  },
  {
   "cell_type": "code",
   "execution_count": 34,
   "id": "73c8e946",
   "metadata": {},
   "outputs": [],
   "source": [
    "import time\n",
    "import pandas as pd\n",
    "import pulp"
   ]
  },
  {
   "cell_type": "code",
   "execution_count": 35,
   "id": "80540a8d",
   "metadata": {},
   "outputs": [],
   "source": [
    "lower_limit = 0.01\n",
    "upper_limit = 0.3\n",
    "step = 0.01"
   ]
  },
  {
   "cell_type": "code",
   "execution_count": 34,
   "id": "a4a68bf3",
   "metadata": {},
   "outputs": [
    {
     "name": "stdout",
     "output_type": "stream",
     "text": [
      "Set parameter Username\n",
      "Academic license - for non-commercial use only - expires 2023-11-10\n"
     ]
    },
    {
     "name": "stderr",
     "output_type": "stream",
     "text": [
      "Initial filtering of formulas: 100%|██████████████| 2/2 [00:00<00:00, 58.66it/s]\n",
      "Computing chunks: 100%|████████████████████████| 2/2 [00:00<00:00, 76260.07it/s]\n",
      "Splitting the experimental spectrum into chunks: 131072it [00:00, 3446269.57it/s]\n",
      "Deconvolving chunks:   0%|                                | 0/1 [00:00<?, ?it/s]/home/basia/.local/lib/python3.10/site-packages/pulp/pulp.py:1352: UserWarning: Spaces are not permitted in the name. Converted to '_'\n",
      "  warnings.warn(\"Spaces are not permitted in the name. Converted to '_'\")\n",
      "Deconvolving chunks: 100%|███████████████████████| 1/1 [03:09<00:00, 189.12s/it]\n"
     ]
    },
    {
     "name": "stdout",
     "output_type": "stream",
     "text": [
      "Estimation for 0.01 and 0.01 done\n",
      "It took: 189.27106976509094 seconds.\n",
      "[0.004978539199000028, 0.6327822619960035]\n"
     ]
    },
    {
     "name": "stderr",
     "output_type": "stream",
     "text": [
      "Initial filtering of formulas: 100%|██████████████| 2/2 [00:00<00:00, 61.90it/s]\n",
      "Computing chunks: 100%|████████████████████████| 2/2 [00:00<00:00, 78398.21it/s]\n",
      "Splitting the experimental spectrum into chunks: 131072it [00:00, 3591320.91it/s]\n",
      "Deconvolving chunks: 100%|███████████████████████| 1/1 [03:12<00:00, 192.32s/it]\n"
     ]
    },
    {
     "name": "stdout",
     "output_type": "stream",
     "text": [
      "Estimation for 0.01 and 0.02 done\n",
      "It took: 192.46171641349792 seconds.\n",
      "[0.002270173790000013, 0.547106646037003]\n"
     ]
    },
    {
     "name": "stderr",
     "output_type": "stream",
     "text": [
      "Initial filtering of formulas: 100%|██████████████| 2/2 [00:00<00:00, 60.20it/s]\n",
      "Computing chunks: 100%|████████████████████████| 2/2 [00:00<00:00, 88301.14it/s]\n",
      "Splitting the experimental spectrum into chunks: 131072it [00:00, 3516726.67it/s]\n",
      "Deconvolving chunks: 100%|███████████████████████| 1/1 [14:29<00:00, 869.52s/it]\n"
     ]
    },
    {
     "name": "stdout",
     "output_type": "stream",
     "text": [
      "Estimation for 0.01 and 0.03 done\n",
      "It took: 869.6638581752777 seconds.\n",
      "[0.0021703224320000123, 0.47530895180000265]\n"
     ]
    },
    {
     "name": "stderr",
     "output_type": "stream",
     "text": [
      "Initial filtering of formulas: 100%|██████████████| 2/2 [00:00<00:00, 61.30it/s]\n",
      "Computing chunks: 100%|████████████████████████| 2/2 [00:00<00:00, 54120.05it/s]\n",
      "Splitting the experimental spectrum into chunks: 131072it [00:00, 3407225.37it/s]\n",
      "Deconvolving chunks: 100%|███████████████████| 1/1 [3:39:28<00:00, 13168.45s/it]\n"
     ]
    },
    {
     "name": "stdout",
     "output_type": "stream",
     "text": [
      "Estimation for 0.01 and 0.04 done\n",
      "It took: 13168.592165708542 seconds.\n",
      "[0.0021228843240000115, 0.46496188578400255]\n"
     ]
    },
    {
     "name": "stderr",
     "output_type": "stream",
     "text": [
      "Initial filtering of formulas: 100%|██████████████| 2/2 [00:00<00:00, 61.92it/s]\n",
      "Computing chunks: 100%|████████████████████████| 2/2 [00:00<00:00, 93206.76it/s]\n",
      "Splitting the experimental spectrum into chunks: 131072it [00:00, 3451483.94it/s]\n",
      "Deconvolving chunks: 100%|███████████████████████| 1/1 [02:48<00:00, 168.06s/it]\n"
     ]
    },
    {
     "name": "stdout",
     "output_type": "stream",
     "text": [
      "Estimation for 0.01 and 0.05 done\n",
      "It took: 168.21915483474731 seconds.\n",
      "[0.0019673489720000107, 0.4544039270820025]\n"
     ]
    },
    {
     "name": "stderr",
     "output_type": "stream",
     "text": [
      "Initial filtering of formulas: 100%|██████████████| 2/2 [00:00<00:00, 61.02it/s]\n",
      "Computing chunks: 100%|████████████████████████| 2/2 [00:00<00:00, 57065.36it/s]\n",
      "Splitting the experimental spectrum into chunks: 131072it [00:00, 3487501.67it/s]\n",
      "Deconvolving chunks: 100%|███████████████████████| 1/1 [15:03<00:00, 903.89s/it]\n"
     ]
    },
    {
     "name": "stdout",
     "output_type": "stream",
     "text": [
      "Estimation for 0.01 and 0.060000000000000005 done\n",
      "It took: 904.0341403484344 seconds.\n",
      "[0.00181231766500001, 0.44408892340900247]\n"
     ]
    },
    {
     "name": "stderr",
     "output_type": "stream",
     "text": [
      "Initial filtering of formulas: 100%|██████████████| 2/2 [00:00<00:00, 61.09it/s]\n",
      "Computing chunks: 100%|████████████████████████| 2/2 [00:00<00:00, 59918.63it/s]\n",
      "Splitting the experimental spectrum into chunks: 131072it [00:00, 3547773.03it/s]\n",
      "Deconvolving chunks: 100%|███████████████████████| 1/1 [14:06<00:00, 846.29s/it]\n"
     ]
    },
    {
     "name": "stdout",
     "output_type": "stream",
     "text": [
      "Estimation for 0.01 and 0.06999999999999999 done\n",
      "It took: 846.4292216300964 seconds.\n",
      "[0.0014875013440000082, 0.4318170187400024]\n"
     ]
    },
    {
     "name": "stderr",
     "output_type": "stream",
     "text": [
      "Initial filtering of formulas: 100%|██████████████| 2/2 [00:00<00:00, 61.89it/s]\n",
      "Computing chunks: 100%|████████████████████████| 2/2 [00:00<00:00, 79137.81it/s]\n",
      "Splitting the experimental spectrum into chunks: 131072it [00:00, 3640694.65it/s]\n",
      "Deconvolving chunks: 100%|███████████████████████| 1/1 [14:02<00:00, 842.43s/it]\n"
     ]
    },
    {
     "name": "stdout",
     "output_type": "stream",
     "text": [
      "Estimation for 0.01 and 0.08 done\n",
      "It took: 842.5687580108643 seconds.\n",
      "[0.0009856983310000055, 0.4242723334580023]\n"
     ]
    },
    {
     "name": "stderr",
     "output_type": "stream",
     "text": [
      "Initial filtering of formulas: 100%|██████████████| 2/2 [00:00<00:00, 61.53it/s]\n",
      "Computing chunks: 100%|████████████████████████| 2/2 [00:00<00:00, 97541.95it/s]\n",
      "Splitting the experimental spectrum into chunks: 131072it [00:00, 3617457.14it/s]\n",
      "Deconvolving chunks: 100%|███████████████████████| 1/1 [14:20<00:00, 860.53s/it]\n"
     ]
    },
    {
     "name": "stdout",
     "output_type": "stream",
     "text": [
      "Estimation for 0.01 and 0.09 done\n",
      "It took: 860.6697914600372 seconds.\n",
      "[0.0006496267530000035, 0.4215525191900023]\n"
     ]
    },
    {
     "name": "stderr",
     "output_type": "stream",
     "text": [
      "Initial filtering of formulas: 100%|██████████████| 2/2 [00:00<00:00, 63.82it/s]\n",
      "Computing chunks: 100%|████████████████████████| 2/2 [00:00<00:00, 98689.51it/s]\n",
      "Splitting the experimental spectrum into chunks: 131072it [00:00, 3531274.10it/s]\n",
      "Deconvolving chunks: 100%|███████████████████████| 1/1 [15:51<00:00, 951.37s/it]\n"
     ]
    },
    {
     "name": "stdout",
     "output_type": "stream",
     "text": [
      "Estimation for 0.01 and 0.09999999999999999 done\n",
      "It took: 951.5193448066711 seconds.\n",
      "[0.0005881793490000032, 0.41999213220300236]\n"
     ]
    },
    {
     "name": "stderr",
     "output_type": "stream",
     "text": [
      "Initial filtering of formulas: 100%|██████████████| 2/2 [00:00<00:00, 60.92it/s]\n",
      "Computing chunks: 100%|████████████████████████| 2/2 [00:00<00:00, 97541.95it/s]\n",
      "Splitting the experimental spectrum into chunks: 131072it [00:00, 3437090.89it/s]\n",
      "Deconvolving chunks: 100%|███████████████████████| 1/1 [05:25<00:00, 325.99s/it]\n"
     ]
    },
    {
     "name": "stdout",
     "output_type": "stream",
     "text": [
      "Estimation for 0.01 and 0.11 done\n",
      "It took: 326.1400601863861 seconds.\n",
      "[0.0005780989430000033, 0.4199014387270023]\n"
     ]
    },
    {
     "name": "stderr",
     "output_type": "stream",
     "text": [
      "Initial filtering of formulas: 100%|██████████████| 2/2 [00:00<00:00, 61.13it/s]\n",
      "Computing chunks: 100%|████████████████████████| 2/2 [00:00<00:00, 96420.78it/s]\n",
      "Splitting the experimental spectrum into chunks: 131072it [00:00, 3394602.12it/s]\n",
      "Deconvolving chunks: 100%|███████████████████████| 1/1 [05:35<00:00, 335.71s/it]\n"
     ]
    },
    {
     "name": "stdout",
     "output_type": "stream",
     "text": [
      "Estimation for 0.01 and 0.12 done\n",
      "It took: 335.85532569885254 seconds.\n",
      "[0.0005782255670000033, 0.41820298330700234]\n"
     ]
    },
    {
     "name": "stderr",
     "output_type": "stream",
     "text": [
      "Initial filtering of formulas: 100%|██████████████| 2/2 [00:00<00:00, 53.27it/s]\n",
      "Computing chunks: 100%|████████████████████████| 2/2 [00:00<00:00, 76959.71it/s]\n",
      "Splitting the experimental spectrum into chunks: 131072it [00:00, 3147324.81it/s]\n",
      "Deconvolving chunks: 100%|███████████████████████| 1/1 [06:00<00:00, 360.91s/it]\n"
     ]
    },
    {
     "name": "stdout",
     "output_type": "stream",
     "text": [
      "Estimation for 0.01 and 0.13 done\n",
      "It took: 361.07029151916504 seconds.\n",
      "[0.0005783289850000032, 0.41683198200900234]\n"
     ]
    },
    {
     "name": "stderr",
     "output_type": "stream",
     "text": [
      "Initial filtering of formulas: 100%|██████████████| 2/2 [00:00<00:00, 59.68it/s]\n",
      "Computing chunks: 100%|████████████████████████| 2/2 [00:00<00:00, 93206.76it/s]\n",
      "Splitting the experimental spectrum into chunks: 131072it [00:00, 3435952.36it/s]\n",
      "Deconvolving chunks: 100%|███████████████████████| 1/1 [06:05<00:00, 365.77s/it]\n"
     ]
    },
    {
     "name": "stdout",
     "output_type": "stream",
     "text": [
      "Estimation for 0.01 and 0.14 done\n",
      "It took: 365.91277027130127 seconds.\n",
      "[0.0005783316210000032, 0.41683388186300235]\n"
     ]
    },
    {
     "name": "stderr",
     "output_type": "stream",
     "text": [
      "Initial filtering of formulas: 100%|██████████████| 2/2 [00:00<00:00, 60.63it/s]\n",
      "Computing chunks: 100%|████████████████████████| 2/2 [00:00<00:00, 62137.84it/s]\n",
      "Splitting the experimental spectrum into chunks: 131072it [00:00, 3412343.36it/s]\n",
      "Deconvolving chunks: 100%|███████████████████████| 1/1 [06:21<00:00, 381.89s/it]\n"
     ]
    },
    {
     "name": "stdout",
     "output_type": "stream",
     "text": [
      "Estimation for 0.01 and 0.15000000000000002 done\n",
      "It took: 382.03670597076416 seconds.\n",
      "[0.0005726312710000031, 0.4152166243030023]\n"
     ]
    },
    {
     "name": "stderr",
     "output_type": "stream",
     "text": [
      "Initial filtering of formulas: 100%|██████████████| 2/2 [00:00<00:00, 43.75it/s]\n",
      "Computing chunks: 100%|████████████████████████| 2/2 [00:00<00:00, 78398.21it/s]\n",
      "Splitting the experimental spectrum into chunks: 131072it [00:00, 3137660.74it/s]\n",
      "Deconvolving chunks: 100%|███████████████████████| 1/1 [06:25<00:00, 385.51s/it]\n"
     ]
    },
    {
     "name": "stdout",
     "output_type": "stream",
     "text": [
      "Estimation for 0.01 and 0.16 done\n",
      "It took: 385.6786296367645 seconds.\n",
      "[0.0005718110610000031, 0.4146457677050023]\n"
     ]
    },
    {
     "name": "stderr",
     "output_type": "stream",
     "text": [
      "Initial filtering of formulas: 100%|██████████████| 2/2 [00:00<00:00, 62.19it/s]\n",
      "Computing chunks: 100%|████████████████████████| 2/2 [00:00<00:00, 91180.52it/s]\n",
      "Splitting the experimental spectrum into chunks: 131072it [00:00, 3456974.96it/s]\n",
      "Deconvolving chunks: 100%|███████████████████████| 1/1 [06:32<00:00, 392.22s/it]\n"
     ]
    },
    {
     "name": "stdout",
     "output_type": "stream",
     "text": [
      "Estimation for 0.01 and 0.17 done\n",
      "It took: 392.374228477478 seconds.\n",
      "[0.0005727668940000031, 0.41366067025400227]\n"
     ]
    },
    {
     "name": "stderr",
     "output_type": "stream",
     "text": [
      "Initial filtering of formulas: 100%|██████████████| 2/2 [00:00<00:00, 61.02it/s]\n",
      "Computing chunks: 100%|████████████████████████| 2/2 [00:00<00:00, 67650.06it/s]\n",
      "Splitting the experimental spectrum into chunks: 131072it [00:00, 3450617.39it/s]\n",
      "Deconvolving chunks: 100%|███████████████████████| 1/1 [06:55<00:00, 415.65s/it]\n"
     ]
    },
    {
     "name": "stdout",
     "output_type": "stream",
     "text": [
      "Estimation for 0.01 and 0.18000000000000002 done\n",
      "It took: 415.80996656417847 seconds.\n",
      "[0.0005727549130000032, 0.41351141828000226]\n"
     ]
    },
    {
     "name": "stderr",
     "output_type": "stream",
     "text": [
      "Initial filtering of formulas: 100%|██████████████| 2/2 [00:00<00:00, 49.91it/s]\n",
      "Computing chunks: 100%|████████████████████████| 2/2 [00:00<00:00, 82241.25it/s]\n",
      "Splitting the experimental spectrum into chunks: 131072it [00:00, 3162697.05it/s]\n",
      "Deconvolving chunks: 100%|███████████████████████| 1/1 [07:06<00:00, 426.93s/it]\n"
     ]
    },
    {
     "name": "stdout",
     "output_type": "stream",
     "text": [
      "Estimation for 0.01 and 0.19 done\n",
      "It took: 427.09934735298157 seconds.\n",
      "[0.0005713190080000031, 0.41275528759900226]\n"
     ]
    },
    {
     "name": "stderr",
     "output_type": "stream",
     "text": [
      "Initial filtering of formulas: 100%|██████████████| 2/2 [00:00<00:00, 55.90it/s]\n",
      "Computing chunks: 100%|████████████████████████| 2/2 [00:00<00:00, 75573.05it/s]\n",
      "Splitting the experimental spectrum into chunks: 131072it [00:00, 3114781.47it/s]\n",
      "Deconvolving chunks: 100%|███████████████████████| 1/1 [07:03<00:00, 423.92s/it]\n"
     ]
    },
    {
     "name": "stdout",
     "output_type": "stream",
     "text": [
      "Estimation for 0.01 and 0.2 done\n",
      "It took: 424.08743357658386 seconds.\n",
      "[0.0005713804170000031, 0.4113796814810023]\n"
     ]
    },
    {
     "name": "stderr",
     "output_type": "stream",
     "text": [
      "Initial filtering of formulas: 100%|██████████████| 2/2 [00:00<00:00, 52.18it/s]\n",
      "Computing chunks: 100%|████████████████████████| 2/2 [00:00<00:00, 62137.84it/s]\n",
      "Splitting the experimental spectrum into chunks: 131072it [00:00, 3256287.81it/s]\n",
      "Deconvolving chunks: 100%|███████████████████████| 1/1 [07:01<00:00, 421.68s/it]\n"
     ]
    },
    {
     "name": "stdout",
     "output_type": "stream",
     "text": [
      "Estimation for 0.01 and 0.21000000000000002 done\n",
      "It took: 421.8381118774414 seconds.\n",
      "[0.0005671389940000031, 0.4102502067380023]\n"
     ]
    },
    {
     "name": "stderr",
     "output_type": "stream",
     "text": [
      "Initial filtering of formulas: 100%|██████████████| 2/2 [00:00<00:00, 60.89it/s]\n",
      "Computing chunks: 100%|████████████████████████| 2/2 [00:00<00:00, 84733.41it/s]\n",
      "Splitting the experimental spectrum into chunks: 131072it [00:00, 3494462.40it/s]\n",
      "Deconvolving chunks: 100%|███████████████████████| 1/1 [07:02<00:00, 422.92s/it]\n"
     ]
    },
    {
     "name": "stdout",
     "output_type": "stream",
     "text": [
      "Estimation for 0.01 and 0.22 done\n",
      "It took: 423.0662624835968 seconds.\n",
      "[0.0005669321740000031, 0.40995754294200226]\n"
     ]
    },
    {
     "name": "stderr",
     "output_type": "stream",
     "text": [
      "Initial filtering of formulas: 100%|██████████████| 2/2 [00:00<00:00, 60.56it/s]\n",
      "Computing chunks: 100%|████████████████████████| 2/2 [00:00<00:00, 84733.41it/s]\n",
      "Splitting the experimental spectrum into chunks: 131072it [00:00, 3436768.59it/s]\n",
      "Deconvolving chunks: 100%|███████████████████████| 1/1 [07:20<00:00, 440.65s/it]\n"
     ]
    },
    {
     "name": "stdout",
     "output_type": "stream",
     "text": [
      "Estimation for 0.01 and 0.23 done\n",
      "It took: 440.79376339912415 seconds.\n",
      "[0.0005670196160000032, 0.4085125650090023]\n"
     ]
    },
    {
     "name": "stderr",
     "output_type": "stream",
     "text": [
      "Initial filtering of formulas: 100%|██████████████| 2/2 [00:00<00:00, 57.83it/s]\n",
      "Computing chunks: 100%|████████████████████████| 2/2 [00:00<00:00, 55188.21it/s]\n",
      "Splitting the experimental spectrum into chunks: 131072it [00:00, 3318759.40it/s]\n",
      "Deconvolving chunks: 100%|███████████████████████| 1/1 [07:35<00:00, 455.45s/it]\n"
     ]
    },
    {
     "name": "stdout",
     "output_type": "stream",
     "text": [
      "Estimation for 0.01 and 0.24000000000000002 done\n",
      "It took: 455.60539507865906 seconds.\n",
      "[0.0005670898690000031, 0.4073537113330023]\n"
     ]
    },
    {
     "name": "stderr",
     "output_type": "stream",
     "text": [
      "Initial filtering of formulas: 100%|██████████████| 2/2 [00:00<00:00, 56.67it/s]\n",
      "Computing chunks: 100%|████████████████████████| 2/2 [00:00<00:00, 74235.47it/s]\n",
      "Splitting the experimental spectrum into chunks: 131072it [00:00, 3189930.51it/s]\n",
      "Deconvolving chunks: 100%|███████████████████████| 1/1 [07:37<00:00, 457.99s/it]\n"
     ]
    },
    {
     "name": "stdout",
     "output_type": "stream",
     "text": [
      "Estimation for 0.01 and 0.25 done\n",
      "It took: 458.14528465270996 seconds.\n",
      "[0.0005635093200000032, 0.4070439123140023]\n"
     ]
    },
    {
     "name": "stderr",
     "output_type": "stream",
     "text": [
      "Initial filtering of formulas: 100%|██████████████| 2/2 [00:00<00:00, 59.26it/s]\n",
      "Computing chunks: 100%|████████████████████████| 2/2 [00:00<00:00, 97541.95it/s]\n",
      "Splitting the experimental spectrum into chunks: 131072it [00:00, 3398526.32it/s]\n",
      "Deconvolving chunks: 100%|███████████████████████| 1/1 [08:26<00:00, 507.00s/it]\n"
     ]
    },
    {
     "name": "stdout",
     "output_type": "stream",
     "text": [
      "Estimation for 0.01 and 0.26 done\n",
      "It took: 507.1431212425232 seconds.\n",
      "[0.0005619052090000032, 0.40633325311400226]\n"
     ]
    },
    {
     "name": "stderr",
     "output_type": "stream",
     "text": [
      "Initial filtering of formulas: 100%|██████████████| 2/2 [00:00<00:00, 55.91it/s]\n",
      "Computing chunks: 100%|████████████████████████| 2/2 [00:00<00:00, 90200.09it/s]\n",
      "Splitting the experimental spectrum into chunks: 131072it [00:00, 2974144.90it/s]\n",
      "Deconvolving chunks: 100%|███████████████████████| 1/1 [08:26<00:00, 506.53s/it]\n"
     ]
    },
    {
     "name": "stdout",
     "output_type": "stream",
     "text": [
      "Estimation for 0.01 and 0.27 done\n",
      "It took: 506.6854341030121 seconds.\n",
      "[0.0005561264220000031, 0.40610571927800226]\n"
     ]
    },
    {
     "name": "stderr",
     "output_type": "stream",
     "text": [
      "Initial filtering of formulas: 100%|██████████████| 2/2 [00:00<00:00, 59.92it/s]\n",
      "Computing chunks: 100%|████████████████████████| 2/2 [00:00<00:00, 37117.73it/s]\n",
      "Splitting the experimental spectrum into chunks: 131072it [00:00, 3497241.13it/s]\n",
      "Deconvolving chunks: 100%|███████████████████████| 1/1 [08:21<00:00, 501.13s/it]\n"
     ]
    },
    {
     "name": "stdout",
     "output_type": "stream",
     "text": [
      "Estimation for 0.01 and 0.28 done\n",
      "It took: 501.2763683795929 seconds.\n",
      "[0.000556154631000003, 0.4056419394190023]\n"
     ]
    },
    {
     "name": "stderr",
     "output_type": "stream",
     "text": [
      "Initial filtering of formulas: 100%|██████████████| 2/2 [00:00<00:00, 50.22it/s]\n",
      "Computing chunks: 100%|█████████████████████████| 2/2 [00:00<00:00, 6574.14it/s]\n",
      "Splitting the experimental spectrum into chunks: 131072it [00:00, 3085326.48it/s]\n",
      "Deconvolving chunks: 100%|███████████████████████| 1/1 [09:02<00:00, 542.63s/it]\n"
     ]
    },
    {
     "name": "stdout",
     "output_type": "stream",
     "text": [
      "Estimation for 0.01 and 0.29000000000000004 done\n",
      "It took: 542.8039553165436 seconds.\n",
      "[0.000556207927000003, 0.4047506605140022]\n"
     ]
    },
    {
     "name": "stderr",
     "output_type": "stream",
     "text": [
      "Initial filtering of formulas: 100%|██████████████| 2/2 [00:00<00:00, 53.59it/s]\n",
      "Computing chunks: 100%|████████████████████████| 2/2 [00:00<00:00, 88301.14it/s]\n",
      "Splitting the experimental spectrum into chunks: 131072it [00:00, 3118544.94it/s]\n",
      "Deconvolving chunks: 100%|███████████████████████| 1/1 [02:42<00:00, 162.83s/it]\n"
     ]
    },
    {
     "name": "stdout",
     "output_type": "stream",
     "text": [
      "Estimation for 0.02 and 0.01 done\n",
      "It took: 163.01865458488464 seconds.\n",
      "[0.09294500923200051, 0.8410241054210047]\n"
     ]
    },
    {
     "name": "stderr",
     "output_type": "stream",
     "text": [
      "Initial filtering of formulas: 100%|██████████████| 2/2 [00:00<00:00, 55.74it/s]\n",
      "Computing chunks: 100%|████████████████████████| 2/2 [00:00<00:00, 47127.01it/s]\n",
      "Splitting the experimental spectrum into chunks: 131072it [00:00, 3048237.97it/s]\n",
      "Deconvolving chunks: 100%|███████████████████████| 1/1 [03:09<00:00, 189.33s/it]\n"
     ]
    },
    {
     "name": "stdout",
     "output_type": "stream",
     "text": [
      "Estimation for 0.02 and 0.02 done\n",
      "It took: 189.51624631881714 seconds.\n",
      "[0.005313500971000029, 0.7900773021440044]\n"
     ]
    },
    {
     "name": "stderr",
     "output_type": "stream",
     "text": [
      "Initial filtering of formulas: 100%|██████████████| 2/2 [00:00<00:00, 56.57it/s]\n",
      "Computing chunks: 100%|████████████████████████| 2/2 [00:00<00:00, 11865.07it/s]\n",
      "Splitting the experimental spectrum into chunks: 131072it [00:00, 3096308.77it/s]\n",
      "Deconvolving chunks: 100%|███████████████████████| 1/1 [03:17<00:00, 197.01s/it]\n"
     ]
    },
    {
     "name": "stdout",
     "output_type": "stream",
     "text": [
      "Estimation for 0.02 and 0.03 done\n",
      "It took: 197.17271876335144 seconds.\n",
      "[0.004946544730000028, 0.7868597462260043]\n"
     ]
    },
    {
     "name": "stderr",
     "output_type": "stream",
     "text": [
      "Initial filtering of formulas: 100%|██████████████| 2/2 [00:00<00:00, 52.07it/s]\n",
      "Computing chunks: 100%|████████████████████████| 2/2 [00:00<00:00, 33288.13it/s]\n",
      "Splitting the experimental spectrum into chunks: 131072it [00:00, 2816429.71it/s]\n",
      "Deconvolving chunks: 100%|███████████████████████| 1/1 [03:29<00:00, 209.25s/it]\n"
     ]
    },
    {
     "name": "stdout",
     "output_type": "stream",
     "text": [
      "Estimation for 0.02 and 0.04 done\n",
      "It took: 209.42135405540466 seconds.\n",
      "[0.004826824271000027, 0.7616303245500042]\n"
     ]
    },
    {
     "name": "stderr",
     "output_type": "stream",
     "text": [
      "Initial filtering of formulas: 100%|██████████████| 2/2 [00:00<00:00, 54.14it/s]\n",
      "Computing chunks: 100%|████████████████████████| 2/2 [00:00<00:00, 29537.35it/s]\n",
      "Splitting the experimental spectrum into chunks: 131072it [00:00, 1475375.28it/s]\n",
      "Deconvolving chunks: 100%|███████████████████████| 1/1 [13:05<00:00, 785.47s/it]\n"
     ]
    },
    {
     "name": "stdout",
     "output_type": "stream",
     "text": [
      "Estimation for 0.02 and 0.05 done\n",
      "It took: 785.6953167915344 seconds.\n",
      "[0.004691813699000026, 0.7547275017670042]\n"
     ]
    },
    {
     "name": "stderr",
     "output_type": "stream",
     "text": [
      "Initial filtering of formulas: 100%|██████████████| 2/2 [00:00<00:00, 60.23it/s]\n",
      "Computing chunks: 100%|████████████████████████| 2/2 [00:00<00:00, 50533.78it/s]\n",
      "Splitting the experimental spectrum into chunks: 131072it [00:00, 3445923.94it/s]\n",
      "Deconvolving chunks: 100%|███████████████████████| 1/1 [03:11<00:00, 191.34s/it]\n"
     ]
    },
    {
     "name": "stdout",
     "output_type": "stream",
     "text": [
      "Estimation for 0.02 and 0.060000000000000005 done\n",
      "It took: 191.48467445373535 seconds.\n",
      "[0.004610336600000026, 0.7519109981590042]\n"
     ]
    },
    {
     "name": "stderr",
     "output_type": "stream",
     "text": [
      "Initial filtering of formulas: 100%|██████████████| 2/2 [00:00<00:00, 63.09it/s]\n",
      "Computing chunks: 100%|████████████████████████| 2/2 [00:00<00:00, 93206.76it/s]\n",
      "Splitting the experimental spectrum into chunks: 131072it [00:00, 3515647.19it/s]\n",
      "Deconvolving chunks: 100%|███████████████████████| 1/1 [02:58<00:00, 178.27s/it]\n"
     ]
    },
    {
     "name": "stdout",
     "output_type": "stream",
     "text": [
      "Estimation for 0.02 and 0.06999999999999999 done\n",
      "It took: 178.43466114997864 seconds.\n",
      "[0.004334218763000024, 0.7487204298720042]\n"
     ]
    },
    {
     "name": "stderr",
     "output_type": "stream",
     "text": [
      "Initial filtering of formulas: 100%|██████████████| 2/2 [00:00<00:00, 61.88it/s]\n",
      "Computing chunks: 100%|████████████████████████| 2/2 [00:00<00:00, 94254.02it/s]\n",
      "Splitting the experimental spectrum into chunks: 131072it [00:00, 3551050.05it/s]\n",
      "Deconvolving chunks: 100%|███████████████████████| 1/1 [03:12<00:00, 192.77s/it]\n"
     ]
    },
    {
     "name": "stdout",
     "output_type": "stream",
     "text": [
      "Estimation for 0.02 and 0.08 done\n",
      "It took: 192.93453168869019 seconds.\n",
      "[0.0039009476530000218, 0.7482102628530041]\n"
     ]
    },
    {
     "name": "stderr",
     "output_type": "stream",
     "text": [
      "Initial filtering of formulas: 100%|██████████████| 2/2 [00:00<00:00, 59.89it/s]\n",
      "Computing chunks: 100%|████████████████████████| 2/2 [00:00<00:00, 52758.54it/s]\n",
      "Splitting the experimental spectrum into chunks: 131072it [00:00, 3411940.98it/s]\n",
      "Deconvolving chunks: 100%|███████████████████████| 1/1 [03:27<00:00, 207.89s/it]\n"
     ]
    },
    {
     "name": "stdout",
     "output_type": "stream",
     "text": [
      "Estimation for 0.02 and 0.09 done\n",
      "It took: 208.0633945465088 seconds.\n",
      "[0.003416686100000019, 0.7513695186910042]\n"
     ]
    },
    {
     "name": "stderr",
     "output_type": "stream",
     "text": [
      "Initial filtering of formulas: 100%|██████████████| 2/2 [00:00<00:00, 63.17it/s]\n",
      "Computing chunks: 100%|████████████████████████| 2/2 [00:00<00:00, 91180.52it/s]\n",
      "Splitting the experimental spectrum into chunks: 131072it [00:00, 3462221.81it/s]\n",
      "Deconvolving chunks: 100%|███████████████████████| 1/1 [03:05<00:00, 185.85s/it]\n"
     ]
    },
    {
     "name": "stdout",
     "output_type": "stream",
     "text": [
      "Estimation for 0.02 and 0.09999999999999999 done\n",
      "It took: 185.9905025959015 seconds.\n",
      "[0.0032686920950000184, 0.7505240966490042]\n"
     ]
    },
    {
     "name": "stderr",
     "output_type": "stream",
     "text": [
      "Initial filtering of formulas: 100%|██████████████| 2/2 [00:00<00:00, 61.87it/s]\n",
      "Computing chunks: 100%|████████████████████████| 2/2 [00:00<00:00, 95325.09it/s]\n",
      "Splitting the experimental spectrum into chunks: 131072it [00:00, 3377417.85it/s]\n",
      "Deconvolving chunks: 100%|███████████████████████| 1/1 [03:10<00:00, 190.28s/it]\n"
     ]
    },
    {
     "name": "stdout",
     "output_type": "stream",
     "text": [
      "Estimation for 0.02 and 0.11 done\n",
      "It took: 190.4245023727417 seconds.\n",
      "[0.003201219947000018, 0.7498109095640041]\n"
     ]
    },
    {
     "name": "stderr",
     "output_type": "stream",
     "text": [
      "Initial filtering of formulas: 100%|██████████████| 2/2 [00:00<00:00, 62.40it/s]\n",
      "Computing chunks: 100%|████████████████████████| 2/2 [00:00<00:00, 88301.14it/s]\n",
      "Splitting the experimental spectrum into chunks: 131072it [00:00, 3426273.20it/s]\n",
      "Deconvolving chunks: 100%|███████████████████████| 1/1 [03:03<00:00, 183.79s/it]\n"
     ]
    },
    {
     "name": "stdout",
     "output_type": "stream",
     "text": [
      "Estimation for 0.02 and 0.12 done\n",
      "It took: 183.9326355457306 seconds.\n",
      "[0.0031981361120000176, 0.7452626922070041]\n"
     ]
    },
    {
     "name": "stderr",
     "output_type": "stream",
     "text": [
      "Initial filtering of formulas: 100%|██████████████| 2/2 [00:00<00:00, 57.44it/s]\n",
      "Computing chunks: 100%|████████████████████████| 2/2 [00:00<00:00, 92182.51it/s]\n",
      "Splitting the experimental spectrum into chunks: 131072it [00:00, 3428944.50it/s]\n",
      "Deconvolving chunks: 100%|███████████████████████| 1/1 [03:03<00:00, 183.54s/it]\n"
     ]
    },
    {
     "name": "stdout",
     "output_type": "stream",
     "text": [
      "Estimation for 0.02 and 0.13 done\n",
      "It took: 183.68828582763672 seconds.\n",
      "[0.0032043951460000177, 0.741227455147004]\n"
     ]
    },
    {
     "name": "stderr",
     "output_type": "stream",
     "text": [
      "Initial filtering of formulas: 100%|██████████████| 2/2 [00:00<00:00, 61.12it/s]\n",
      "Computing chunks: 100%|████████████████████████| 2/2 [00:00<00:00, 91180.52it/s]\n",
      "Splitting the experimental spectrum into chunks: 131072it [00:00, 3494484.61it/s]\n",
      "Deconvolving chunks: 100%|███████████████████████| 1/1 [03:04<00:00, 184.65s/it]\n"
     ]
    },
    {
     "name": "stdout",
     "output_type": "stream",
     "text": [
      "Estimation for 0.02 and 0.14 done\n",
      "It took: 184.79122638702393 seconds.\n",
      "[0.003203468110000018, 0.7412315749360041]\n"
     ]
    },
    {
     "name": "stderr",
     "output_type": "stream",
     "text": [
      "Initial filtering of formulas: 100%|██████████████| 2/2 [00:00<00:00, 62.08it/s]\n",
      "Computing chunks: 100%|████████████████████████| 2/2 [00:00<00:00, 91180.52it/s]\n",
      "Splitting the experimental spectrum into chunks: 131072it [00:00, 3554631.89it/s]\n",
      "Deconvolving chunks: 100%|███████████████████████| 1/1 [03:05<00:00, 185.28s/it]\n"
     ]
    },
    {
     "name": "stdout",
     "output_type": "stream",
     "text": [
      "Estimation for 0.02 and 0.15000000000000002 done\n",
      "It took: 185.41693377494812 seconds.\n",
      "[0.0032035279760000176, 0.7408829761260041]\n"
     ]
    },
    {
     "name": "stderr",
     "output_type": "stream",
     "text": [
      "Initial filtering of formulas: 100%|██████████████| 2/2 [00:00<00:00, 62.40it/s]\n",
      "Computing chunks: 100%|████████████████████████| 2/2 [00:00<00:00, 94254.02it/s]\n",
      "Splitting the experimental spectrum into chunks: 131072it [00:00, 3427405.32it/s]\n",
      "Deconvolving chunks: 100%|███████████████████████| 1/1 [03:08<00:00, 188.41s/it]\n"
     ]
    },
    {
     "name": "stdout",
     "output_type": "stream",
     "text": [
      "Estimation for 0.02 and 0.16 done\n",
      "It took: 188.54859137535095 seconds.\n",
      "[0.003202855115000018, 0.7405535161400041]\n"
     ]
    },
    {
     "name": "stderr",
     "output_type": "stream",
     "text": [
      "Initial filtering of formulas: 100%|██████████████| 2/2 [00:00<00:00, 62.74it/s]\n",
      "Computing chunks: 100%|████████████████████████| 2/2 [00:00<00:00, 93206.76it/s]\n",
      "Splitting the experimental spectrum into chunks: 131072it [00:00, 3507236.50it/s]\n",
      "Deconvolving chunks: 100%|███████████████████████| 1/1 [03:08<00:00, 188.47s/it]\n"
     ]
    },
    {
     "name": "stdout",
     "output_type": "stream",
     "text": [
      "Estimation for 0.02 and 0.17 done\n",
      "It took: 188.61049032211304 seconds.\n",
      "[0.0032025460510000177, 0.740448770950004]\n"
     ]
    },
    {
     "name": "stderr",
     "output_type": "stream",
     "text": [
      "Initial filtering of formulas: 100%|██████████████| 2/2 [00:00<00:00, 62.42it/s]\n",
      "Computing chunks: 100%|████████████████████████| 2/2 [00:00<00:00, 91180.52it/s]\n",
      "Splitting the experimental spectrum into chunks: 131072it [00:00, 3422902.63it/s]\n",
      "Deconvolving chunks: 100%|███████████████████████| 1/1 [03:09<00:00, 189.76s/it]\n"
     ]
    },
    {
     "name": "stdout",
     "output_type": "stream",
     "text": [
      "Estimation for 0.02 and 0.18000000000000002 done\n",
      "It took: 189.92091393470764 seconds.\n",
      "[0.0032002596920000176, 0.7404522881750041]\n"
     ]
    },
    {
     "name": "stderr",
     "output_type": "stream",
     "text": [
      "Initial filtering of formulas: 100%|██████████████| 2/2 [00:00<00:00, 61.74it/s]\n",
      "Computing chunks: 100%|████████████████████████| 2/2 [00:00<00:00, 55188.21it/s]\n",
      "Splitting the experimental spectrum into chunks: 131072it [00:00, 3430463.65it/s]\n",
      "Deconvolving chunks: 100%|███████████████████████| 1/1 [03:10<00:00, 190.28s/it]\n"
     ]
    },
    {
     "name": "stdout",
     "output_type": "stream",
     "text": [
      "Estimation for 0.02 and 0.19 done\n",
      "It took: 190.4193525314331 seconds.\n",
      "[0.003201178687000018, 0.7402479746730041]\n"
     ]
    },
    {
     "name": "stderr",
     "output_type": "stream",
     "text": [
      "Initial filtering of formulas: 100%|██████████████| 2/2 [00:00<00:00, 61.19it/s]\n",
      "Computing chunks: 100%|████████████████████████| 2/2 [00:00<00:00, 79137.81it/s]\n",
      "Splitting the experimental spectrum into chunks: 131072it [00:00, 3469760.63it/s]\n",
      "Deconvolving chunks: 100%|███████████████████████| 1/1 [03:06<00:00, 186.44s/it]\n"
     ]
    },
    {
     "name": "stdout",
     "output_type": "stream",
     "text": [
      "Estimation for 0.02 and 0.2 done\n",
      "It took: 186.60567808151245 seconds.\n",
      "[0.003199433887000018, 0.7399522575680041]\n"
     ]
    },
    {
     "name": "stderr",
     "output_type": "stream",
     "text": [
      "Initial filtering of formulas: 100%|██████████████| 2/2 [00:00<00:00, 61.45it/s]\n",
      "Computing chunks: 100%|████████████████████████| 2/2 [00:00<00:00, 90200.09it/s]\n",
      "Splitting the experimental spectrum into chunks: 131072it [00:00, 3548185.19it/s]\n",
      "Deconvolving chunks: 100%|███████████████████████| 1/1 [03:02<00:00, 182.22s/it]\n"
     ]
    },
    {
     "name": "stdout",
     "output_type": "stream",
     "text": [
      "Estimation for 0.02 and 0.21000000000000002 done\n",
      "It took: 182.35628151893616 seconds.\n",
      "[0.0031962373820000178, 0.7396665642250041]\n"
     ]
    },
    {
     "name": "stderr",
     "output_type": "stream",
     "text": [
      "Initial filtering of formulas: 100%|██████████████| 2/2 [00:00<00:00, 61.60it/s]\n",
      "Computing chunks: 100%|████████████████████████| 2/2 [00:00<00:00, 74898.29it/s]\n",
      "Splitting the experimental spectrum into chunks: 131072it [00:00, 3489361.06it/s]\n",
      "Deconvolving chunks: 100%|███████████████████████| 1/1 [03:08<00:00, 188.84s/it]\n"
     ]
    },
    {
     "name": "stdout",
     "output_type": "stream",
     "text": [
      "Estimation for 0.02 and 0.22 done\n",
      "It took: 188.98342490196228 seconds.\n",
      "[0.0031948106030000177, 0.7396711239040041]\n"
     ]
    },
    {
     "name": "stderr",
     "output_type": "stream",
     "text": [
      "Initial filtering of formulas: 100%|██████████████| 2/2 [00:00<00:00, 61.06it/s]\n",
      "Computing chunks: 100%|████████████████████████| 2/2 [00:00<00:00, 56679.78it/s]\n",
      "Splitting the experimental spectrum into chunks: 131072it [00:00, 3340965.14it/s]\n",
      "Deconvolving chunks: 100%|███████████████████████| 1/1 [03:12<00:00, 192.44s/it]\n"
     ]
    },
    {
     "name": "stdout",
     "output_type": "stream",
     "text": [
      "Estimation for 0.02 and 0.23 done\n",
      "It took: 192.5803198814392 seconds.\n",
      "[0.003193199156000018, 0.7396647668080041]\n"
     ]
    },
    {
     "name": "stderr",
     "output_type": "stream",
     "text": [
      "Initial filtering of formulas: 100%|██████████████| 2/2 [00:00<00:00, 61.39it/s]\n",
      "Computing chunks: 100%|████████████████████████| 2/2 [00:00<00:00, 95325.09it/s]\n",
      "Splitting the experimental spectrum into chunks: 131072it [00:00, 3487855.69it/s]\n",
      "Deconvolving chunks: 100%|███████████████████████| 1/1 [03:00<00:00, 180.26s/it]\n"
     ]
    },
    {
     "name": "stdout",
     "output_type": "stream",
     "text": [
      "Estimation for 0.02 and 0.24000000000000002 done\n",
      "It took: 180.42600631713867 seconds.\n",
      "[0.0031895908590000178, 0.7393952567110041]\n"
     ]
    },
    {
     "name": "stderr",
     "output_type": "stream",
     "text": [
      "Initial filtering of formulas: 100%|██████████████| 2/2 [00:00<00:00, 60.99it/s]\n",
      "Computing chunks: 100%|████████████████████████| 2/2 [00:00<00:00, 84733.41it/s]\n",
      "Splitting the experimental spectrum into chunks: 131072it [00:00, 3415077.83it/s]\n",
      "Deconvolving chunks: 100%|███████████████████████| 1/1 [03:00<00:00, 180.14s/it]\n"
     ]
    },
    {
     "name": "stdout",
     "output_type": "stream",
     "text": [
      "Estimation for 0.02 and 0.25 done\n",
      "It took: 180.29371809959412 seconds.\n",
      "[0.0031896650340000176, 0.7391120200960041]\n"
     ]
    },
    {
     "name": "stderr",
     "output_type": "stream",
     "text": [
      "Initial filtering of formulas: 100%|██████████████| 2/2 [00:00<00:00, 59.55it/s]\n",
      "Computing chunks: 100%|████████████████████████| 2/2 [00:00<00:00, 90200.09it/s]\n",
      "Splitting the experimental spectrum into chunks: 131072it [00:00, 3337051.13it/s]\n",
      "Deconvolving chunks: 100%|███████████████████████| 1/1 [03:10<00:00, 190.74s/it]\n"
     ]
    },
    {
     "name": "stdout",
     "output_type": "stream",
     "text": [
      "Estimation for 0.02 and 0.26 done\n",
      "It took: 190.88173532485962 seconds.\n",
      "[0.003184109558000018, 0.739114630750004]\n"
     ]
    },
    {
     "name": "stderr",
     "output_type": "stream",
     "text": [
      "Initial filtering of formulas: 100%|██████████████| 2/2 [00:00<00:00, 61.34it/s]\n",
      "Computing chunks: 100%|████████████████████████| 2/2 [00:00<00:00, 86480.49it/s]\n",
      "Splitting the experimental spectrum into chunks: 131072it [00:00, 3487767.18it/s]\n",
      "Deconvolving chunks: 100%|███████████████████████| 1/1 [03:58<00:00, 238.17s/it]\n"
     ]
    },
    {
     "name": "stdout",
     "output_type": "stream",
     "text": [
      "Estimation for 0.02 and 0.27 done\n",
      "It took: 238.3123483657837 seconds.\n",
      "[0.0031784466200000176, 0.7389465751040041]\n"
     ]
    },
    {
     "name": "stderr",
     "output_type": "stream",
     "text": [
      "Initial filtering of formulas: 100%|██████████████| 2/2 [00:00<00:00, 61.37it/s]\n",
      "Computing chunks: 100%|████████████████████████| 2/2 [00:00<00:00, 89240.51it/s]\n",
      "Splitting the experimental spectrum into chunks: 131072it [00:00, 3399808.38it/s]\n",
      "Deconvolving chunks: 100%|███████████████████████| 1/1 [04:19<00:00, 259.78s/it]\n"
     ]
    },
    {
     "name": "stdout",
     "output_type": "stream",
     "text": [
      "Estimation for 0.02 and 0.28 done\n",
      "It took: 259.9431357383728 seconds.\n",
      "[0.0031725082940000176, 0.738834633884004]\n"
     ]
    },
    {
     "name": "stderr",
     "output_type": "stream",
     "text": [
      "Initial filtering of formulas: 100%|██████████████| 2/2 [00:00<00:00, 60.75it/s]\n",
      "Computing chunks: 100%|████████████████████████| 2/2 [00:00<00:00, 96420.78it/s]\n",
      "Splitting the experimental spectrum into chunks: 131072it [00:00, 3505514.48it/s]\n",
      "Deconvolving chunks: 100%|███████████████████████| 1/1 [04:15<00:00, 255.42s/it]\n"
     ]
    },
    {
     "name": "stdout",
     "output_type": "stream",
     "text": [
      "Estimation for 0.02 and 0.29000000000000004 done\n",
      "It took: 255.5847225189209 seconds.\n",
      "[0.003172527523000018, 0.7388391121990041]\n"
     ]
    },
    {
     "name": "stderr",
     "output_type": "stream",
     "text": [
      "Initial filtering of formulas: 100%|██████████████| 2/2 [00:00<00:00, 60.91it/s]\n",
      "Computing chunks: 100%|████████████████████████| 2/2 [00:00<00:00, 92182.51it/s]\n",
      "Splitting the experimental spectrum into chunks: 131072it [00:00, 3413763.04it/s]\n",
      "Deconvolving chunks: 100%|███████████████████████| 1/1 [04:43<00:00, 283.34s/it]\n"
     ]
    },
    {
     "name": "stdout",
     "output_type": "stream",
     "text": [
      "Estimation for 0.03 and 0.01 done\n",
      "It took: 283.4833676815033 seconds.\n",
      "[0.2542578795810014, 0.728765153290004]\n"
     ]
    },
    {
     "name": "stderr",
     "output_type": "stream",
     "text": [
      "Initial filtering of formulas: 100%|██████████████| 2/2 [00:00<00:00, 56.42it/s]\n",
      "Computing chunks: 100%|████████████████████████| 2/2 [00:00<00:00, 76959.71it/s]\n",
      "Splitting the experimental spectrum into chunks: 131072it [00:00, 3443635.93it/s]\n",
      "Deconvolving chunks: 100%|███████████████████████| 1/1 [02:44<00:00, 164.37s/it]\n"
     ]
    },
    {
     "name": "stdout",
     "output_type": "stream",
     "text": [
      "Estimation for 0.03 and 0.02 done\n",
      "It took: 164.51666378974915 seconds.\n",
      "[0.04281990290200024, 0.8628598851720047]\n"
     ]
    },
    {
     "name": "stderr",
     "output_type": "stream",
     "text": [
      "Initial filtering of formulas: 100%|██████████████| 2/2 [00:00<00:00, 62.12it/s]\n",
      "Computing chunks: 100%|████████████████████████| 2/2 [00:00<00:00, 92182.51it/s]\n",
      "Splitting the experimental spectrum into chunks: 131072it [00:00, 3411686.89it/s]\n",
      "Deconvolving chunks: 100%|███████████████████████| 1/1 [02:38<00:00, 158.71s/it]\n"
     ]
    },
    {
     "name": "stdout",
     "output_type": "stream",
     "text": [
      "Estimation for 0.03 and 0.03 done\n",
      "It took: 158.8539822101593 seconds.\n",
      "[0.027465596009000153, 0.8514950964640048]\n"
     ]
    },
    {
     "name": "stderr",
     "output_type": "stream",
     "text": [
      "Initial filtering of formulas: 100%|██████████████| 2/2 [00:00<00:00, 56.49it/s]\n",
      "Computing chunks: 100%|████████████████████████| 2/2 [00:00<00:00, 63550.06it/s]\n",
      "Splitting the experimental spectrum into chunks: 131072it [00:00, 3454390.05it/s]\n",
      "Deconvolving chunks: 100%|███████████████████████| 1/1 [02:52<00:00, 172.34s/it]\n"
     ]
    },
    {
     "name": "stdout",
     "output_type": "stream",
     "text": [
      "Estimation for 0.03 and 0.04 done\n",
      "It took: 172.48095512390137 seconds.\n",
      "[0.026028699438000145, 0.8487932420280047]\n"
     ]
    },
    {
     "name": "stderr",
     "output_type": "stream",
     "text": [
      "Initial filtering of formulas: 100%|██████████████| 2/2 [00:00<00:00, 62.16it/s]\n",
      "Computing chunks: 100%|████████████████████████| 2/2 [00:00<00:00, 92182.51it/s]\n",
      "Splitting the experimental spectrum into chunks: 131072it [00:00, 3491865.51it/s]\n",
      "Deconvolving chunks: 100%|███████████████████████| 1/1 [02:42<00:00, 162.23s/it]\n"
     ]
    },
    {
     "name": "stdout",
     "output_type": "stream",
     "text": [
      "Estimation for 0.03 and 0.05 done\n",
      "It took: 162.3999924659729 seconds.\n",
      "[0.024370192446000135, 0.8427777606180047]\n"
     ]
    },
    {
     "name": "stderr",
     "output_type": "stream",
     "text": [
      "Initial filtering of formulas: 100%|██████████████| 2/2 [00:00<00:00, 62.18it/s]\n",
      "Computing chunks: 100%|████████████████████████| 2/2 [00:00<00:00, 87381.33it/s]\n",
      "Splitting the experimental spectrum into chunks: 131072it [00:00, 3451722.32it/s]\n",
      "Deconvolving chunks: 100%|███████████████████████| 1/1 [02:54<00:00, 174.03s/it]\n"
     ]
    },
    {
     "name": "stdout",
     "output_type": "stream",
     "text": [
      "Estimation for 0.03 and 0.060000000000000005 done\n",
      "It took: 174.19394636154175 seconds.\n",
      "[0.02333145487000013, 0.8272491733460046]\n"
     ]
    },
    {
     "name": "stderr",
     "output_type": "stream",
     "text": [
      "Initial filtering of formulas: 100%|██████████████| 2/2 [00:00<00:00, 60.03it/s]\n",
      "Computing chunks: 100%|████████████████████████| 2/2 [00:00<00:00, 89240.51it/s]\n",
      "Splitting the experimental spectrum into chunks: 131072it [00:00, 3460173.42it/s]\n",
      "Deconvolving chunks: 100%|███████████████████████| 1/1 [02:51<00:00, 171.47s/it]\n"
     ]
    },
    {
     "name": "stdout",
     "output_type": "stream",
     "text": [
      "Estimation for 0.03 and 0.06999999999999999 done\n",
      "It took: 171.64259791374207 seconds.\n",
      "[0.02181842625400012, 0.8234694717720046]\n"
     ]
    },
    {
     "name": "stderr",
     "output_type": "stream",
     "text": [
      "Initial filtering of formulas: 100%|██████████████| 2/2 [00:00<00:00, 62.11it/s]\n",
      "Computing chunks: 100%|████████████████████████| 2/2 [00:00<00:00, 96420.78it/s]\n",
      "Splitting the experimental spectrum into chunks: 131072it [00:00, 3455497.40it/s]\n",
      "Deconvolving chunks: 100%|███████████████████████| 1/1 [02:48<00:00, 168.99s/it]\n"
     ]
    },
    {
     "name": "stdout",
     "output_type": "stream",
     "text": [
      "Estimation for 0.03 and 0.08 done\n",
      "It took: 169.12795996665955 seconds.\n",
      "[0.017688283838000095, 0.8275901273290045]\n"
     ]
    },
    {
     "name": "stderr",
     "output_type": "stream",
     "text": [
      "Initial filtering of formulas: 100%|██████████████| 2/2 [00:00<00:00, 63.05it/s]\n",
      "Computing chunks: 100%|████████████████████████| 2/2 [00:00<00:00, 89240.51it/s]\n",
      "Splitting the experimental spectrum into chunks: 131072it [00:00, 3451505.61it/s]\n",
      "Deconvolving chunks: 100%|███████████████████████| 1/1 [02:55<00:00, 175.42s/it]\n"
     ]
    },
    {
     "name": "stdout",
     "output_type": "stream",
     "text": [
      "Estimation for 0.03 and 0.09 done\n",
      "It took: 175.55938291549683 seconds.\n",
      "[0.01609001908500009, 0.8288886742210045]\n"
     ]
    },
    {
     "name": "stderr",
     "output_type": "stream",
     "text": [
      "Initial filtering of formulas: 100%|██████████████| 2/2 [00:00<00:00, 61.86it/s]\n",
      "Computing chunks: 100%|████████████████████████| 2/2 [00:00<00:00, 93206.76it/s]\n",
      "Splitting the experimental spectrum into chunks: 131072it [00:00, 3432112.71it/s]\n",
      "Deconvolving chunks: 100%|███████████████████████| 1/1 [02:50<00:00, 170.99s/it]\n"
     ]
    },
    {
     "name": "stdout",
     "output_type": "stream",
     "text": [
      "Estimation for 0.03 and 0.09999999999999999 done\n",
      "It took: 171.1322159767151 seconds.\n",
      "[0.015468631653000085, 0.8285980167420045]\n"
     ]
    },
    {
     "name": "stderr",
     "output_type": "stream",
     "text": [
      "Initial filtering of formulas: 100%|██████████████| 2/2 [00:00<00:00, 61.20it/s]\n",
      "Computing chunks: 100%|████████████████████████| 2/2 [00:00<00:00, 89240.51it/s]\n",
      "Splitting the experimental spectrum into chunks: 131072it [00:00, 3544639.18it/s]\n",
      "Deconvolving chunks: 100%|███████████████████████| 1/1 [02:49<00:00, 169.46s/it]\n"
     ]
    },
    {
     "name": "stdout",
     "output_type": "stream",
     "text": [
      "Estimation for 0.03 and 0.11 done\n",
      "It took: 169.62795400619507 seconds.\n",
      "[0.014867795251000083, 0.8281852941260045]\n"
     ]
    },
    {
     "name": "stderr",
     "output_type": "stream",
     "text": [
      "Initial filtering of formulas: 100%|██████████████| 2/2 [00:00<00:00, 62.34it/s]\n",
      "Computing chunks: 100%|████████████████████████| 2/2 [00:00<00:00, 95325.09it/s]\n",
      "Splitting the experimental spectrum into chunks: 131072it [00:00, 3470527.27it/s]\n",
      "Deconvolving chunks: 100%|███████████████████████| 1/1 [02:50<00:00, 171.00s/it]\n"
     ]
    },
    {
     "name": "stdout",
     "output_type": "stream",
     "text": [
      "Estimation for 0.03 and 0.12 done\n",
      "It took: 171.13739013671875 seconds.\n",
      "[0.014537203627000082, 0.8259927208200045]\n"
     ]
    },
    {
     "name": "stderr",
     "output_type": "stream",
     "text": [
      "Initial filtering of formulas: 100%|██████████████| 2/2 [00:00<00:00, 60.81it/s]\n",
      "Computing chunks: 100%|████████████████████████| 2/2 [00:00<00:00, 90200.09it/s]\n",
      "Splitting the experimental spectrum into chunks: 131072it [00:00, 3451613.96it/s]\n",
      "Deconvolving chunks: 100%|███████████████████████| 1/1 [02:54<00:00, 174.21s/it]\n"
     ]
    },
    {
     "name": "stdout",
     "output_type": "stream",
     "text": [
      "Estimation for 0.03 and 0.13 done\n",
      "It took: 174.35806131362915 seconds.\n",
      "[0.014126198792000078, 0.8252591214570045]\n"
     ]
    },
    {
     "name": "stderr",
     "output_type": "stream",
     "text": [
      "Initial filtering of formulas: 100%|██████████████| 2/2 [00:00<00:00, 52.96it/s]\n",
      "Computing chunks: 100%|████████████████████████| 2/2 [00:00<00:00, 39383.14it/s]\n",
      "Splitting the experimental spectrum into chunks: 131072it [00:00, 3396321.78it/s]\n",
      "Deconvolving chunks: 100%|███████████████████████| 1/1 [03:00<00:00, 180.70s/it]\n"
     ]
    },
    {
     "name": "stdout",
     "output_type": "stream",
     "text": [
      "Estimation for 0.03 and 0.14 done\n",
      "It took: 180.84668588638306 seconds.\n",
      "[0.013705846819000077, 0.8233946664900046]\n"
     ]
    },
    {
     "name": "stderr",
     "output_type": "stream",
     "text": [
      "Initial filtering of formulas: 100%|██████████████| 2/2 [00:00<00:00, 63.24it/s]\n",
      "Computing chunks: 100%|████████████████████████| 2/2 [00:00<00:00, 93206.76it/s]\n",
      "Splitting the experimental spectrum into chunks: 131072it [00:00, 3430035.59it/s]\n",
      "Deconvolving chunks: 100%|███████████████████████| 1/1 [02:51<00:00, 171.58s/it]\n"
     ]
    },
    {
     "name": "stdout",
     "output_type": "stream",
     "text": [
      "Estimation for 0.03 and 0.15000000000000002 done\n",
      "It took: 171.7251079082489 seconds.\n",
      "[0.013779319919000076, 0.8149430463400046]\n"
     ]
    },
    {
     "name": "stderr",
     "output_type": "stream",
     "text": [
      "Initial filtering of formulas: 100%|██████████████| 2/2 [00:00<00:00, 61.50it/s]\n",
      "Computing chunks: 100%|████████████████████████| 2/2 [00:00<00:00, 93206.76it/s]\n",
      "Splitting the experimental spectrum into chunks: 131072it [00:00, 3436295.99it/s]\n",
      "Deconvolving chunks: 100%|███████████████████████| 1/1 [02:59<00:00, 179.09s/it]\n"
     ]
    },
    {
     "name": "stdout",
     "output_type": "stream",
     "text": [
      "Estimation for 0.03 and 0.16 done\n",
      "It took: 179.25417518615723 seconds.\n",
      "[0.013676168280000076, 0.8149510007460046]\n"
     ]
    },
    {
     "name": "stderr",
     "output_type": "stream",
     "text": [
      "Initial filtering of formulas: 100%|██████████████| 2/2 [00:00<00:00, 63.40it/s]\n",
      "Computing chunks: 100%|████████████████████████| 2/2 [00:00<00:00, 95325.09it/s]\n",
      "Splitting the experimental spectrum into chunks: 131072it [00:00, 3405452.47it/s]\n",
      "Deconvolving chunks: 100%|███████████████████████| 1/1 [03:02<00:00, 182.37s/it]\n"
     ]
    },
    {
     "name": "stdout",
     "output_type": "stream",
     "text": [
      "Estimation for 0.03 and 0.17 done\n",
      "It took: 182.51451969146729 seconds.\n",
      "[0.013518475263000075, 0.8149567588700045]\n"
     ]
    },
    {
     "name": "stderr",
     "output_type": "stream",
     "text": [
      "Initial filtering of formulas: 100%|██████████████| 2/2 [00:00<00:00, 62.68it/s]\n",
      "Computing chunks: 100%|████████████████████████| 2/2 [00:00<00:00, 96420.78it/s]\n",
      "Splitting the experimental spectrum into chunks: 131072it [00:00, 3451288.93it/s]\n",
      "Deconvolving chunks: 100%|███████████████████████| 1/1 [02:55<00:00, 175.28s/it]\n"
     ]
    },
    {
     "name": "stdout",
     "output_type": "stream",
     "text": [
      "Estimation for 0.03 and 0.18000000000000002 done\n",
      "It took: 175.42536783218384 seconds.\n",
      "[0.013426621548000074, 0.8146848348630046]\n"
     ]
    },
    {
     "name": "stderr",
     "output_type": "stream",
     "text": [
      "Initial filtering of formulas: 100%|██████████████| 2/2 [00:00<00:00, 62.52it/s]\n",
      "Computing chunks: 100%|████████████████████████| 2/2 [00:00<00:00, 91180.52it/s]\n",
      "Splitting the experimental spectrum into chunks: 131072it [00:00, 3465102.35it/s]\n",
      "Deconvolving chunks: 100%|███████████████████████| 1/1 [02:52<00:00, 172.33s/it]\n"
     ]
    },
    {
     "name": "stdout",
     "output_type": "stream",
     "text": [
      "Estimation for 0.03 and 0.19 done\n",
      "It took: 172.49153447151184 seconds.\n",
      "[0.013349560240000075, 0.8146895930520045]\n"
     ]
    },
    {
     "name": "stderr",
     "output_type": "stream",
     "text": [
      "Initial filtering of formulas: 100%|██████████████| 2/2 [00:00<00:00, 61.32it/s]\n",
      "Computing chunks: 100%|████████████████████████| 2/2 [00:00<00:00, 86480.49it/s]\n",
      "Splitting the experimental spectrum into chunks: 131072it [00:00, 3448431.29it/s]\n",
      "Deconvolving chunks: 100%|███████████████████████| 1/1 [02:56<00:00, 176.68s/it]\n"
     ]
    },
    {
     "name": "stdout",
     "output_type": "stream",
     "text": [
      "Estimation for 0.03 and 0.2 done\n",
      "It took: 176.82209014892578 seconds.\n",
      "[0.013240834743000073, 0.8146971802080045]\n"
     ]
    },
    {
     "name": "stderr",
     "output_type": "stream",
     "text": [
      "Initial filtering of formulas: 100%|██████████████| 2/2 [00:00<00:00, 61.63it/s]\n",
      "Computing chunks: 100%|████████████████████████| 2/2 [00:00<00:00, 83055.52it/s]\n",
      "Splitting the experimental spectrum into chunks: 131072it [00:00, 3471820.38it/s]\n",
      "Deconvolving chunks: 100%|███████████████████████| 1/1 [02:52<00:00, 172.82s/it]\n"
     ]
    },
    {
     "name": "stdout",
     "output_type": "stream",
     "text": [
      "Estimation for 0.03 and 0.21000000000000002 done\n",
      "It took: 172.98704385757446 seconds.\n",
      "[0.013156265176000072, 0.8145504234980045]\n"
     ]
    },
    {
     "name": "stderr",
     "output_type": "stream",
     "text": [
      "Initial filtering of formulas: 100%|██████████████| 2/2 [00:00<00:00, 61.79it/s]\n",
      "Computing chunks: 100%|████████████████████████| 2/2 [00:00<00:00, 95325.09it/s]\n",
      "Splitting the experimental spectrum into chunks: 131072it [00:00, 3447177.16it/s]\n",
      "Deconvolving chunks: 100%|███████████████████████| 1/1 [03:00<00:00, 180.09s/it]\n"
     ]
    },
    {
     "name": "stdout",
     "output_type": "stream",
     "text": [
      "Estimation for 0.03 and 0.22 done\n",
      "It took: 180.253657579422 seconds.\n",
      "[0.013106073058000073, 0.8144428868780046]\n"
     ]
    },
    {
     "name": "stderr",
     "output_type": "stream",
     "text": [
      "Initial filtering of formulas: 100%|██████████████| 2/2 [00:00<00:00, 61.61it/s]\n",
      "Computing chunks: 100%|████████████████████████| 2/2 [00:00<00:00, 94254.02it/s]\n",
      "Splitting the experimental spectrum into chunks: 131072it [00:00, 3423840.60it/s]\n",
      "Deconvolving chunks: 100%|███████████████████████| 1/1 [03:02<00:00, 182.77s/it]\n"
     ]
    },
    {
     "name": "stdout",
     "output_type": "stream",
     "text": [
      "Estimation for 0.03 and 0.23 done\n",
      "It took: 182.9102280139923 seconds.\n",
      "[0.012953469508000071, 0.8144259730400045]\n"
     ]
    },
    {
     "name": "stderr",
     "output_type": "stream",
     "text": [
      "Initial filtering of formulas: 100%|██████████████| 2/2 [00:00<00:00, 62.80it/s]\n",
      "Computing chunks: 100%|████████████████████████| 2/2 [00:00<00:00, 64527.75it/s]\n",
      "Splitting the experimental spectrum into chunks: 131072it [00:00, 3367838.26it/s]\n",
      "Deconvolving chunks: 100%|███████████████████████| 1/1 [03:01<00:00, 181.99s/it]\n"
     ]
    },
    {
     "name": "stdout",
     "output_type": "stream",
     "text": [
      "Estimation for 0.03 and 0.24000000000000002 done\n",
      "It took: 182.14057803153992 seconds.\n",
      "[0.012795930343000072, 0.8142010518080045]\n"
     ]
    },
    {
     "name": "stderr",
     "output_type": "stream",
     "text": [
      "Initial filtering of formulas: 100%|██████████████| 2/2 [00:00<00:00, 61.19it/s]\n",
      "Computing chunks: 100%|████████████████████████| 2/2 [00:00<00:00, 85598.04it/s]\n",
      "Splitting the experimental spectrum into chunks: 131072it [00:00, 3461175.52it/s]\n",
      "Deconvolving chunks: 100%|███████████████████████| 1/1 [02:56<00:00, 176.62s/it]\n"
     ]
    },
    {
     "name": "stdout",
     "output_type": "stream",
     "text": [
      "Estimation for 0.03 and 0.25 done\n",
      "It took: 176.78872799873352 seconds.\n",
      "[0.012771440876000071, 0.8142050613340045]\n"
     ]
    },
    {
     "name": "stderr",
     "output_type": "stream",
     "text": [
      "Initial filtering of formulas: 100%|██████████████| 2/2 [00:00<00:00, 60.88it/s]\n",
      "Computing chunks: 100%|████████████████████████| 2/2 [00:00<00:00, 87381.33it/s]\n",
      "Splitting the experimental spectrum into chunks: 131072it [00:00, 3402438.55it/s]\n",
      "Deconvolving chunks: 100%|███████████████████████| 1/1 [02:58<00:00, 178.34s/it]\n"
     ]
    },
    {
     "name": "stdout",
     "output_type": "stream",
     "text": [
      "Estimation for 0.03 and 0.26 done\n",
      "It took: 178.48436164855957 seconds.\n",
      "[0.012735698678000071, 0.8142088840990046]\n"
     ]
    },
    {
     "name": "stderr",
     "output_type": "stream",
     "text": [
      "Initial filtering of formulas: 100%|██████████████| 2/2 [00:00<00:00, 62.14it/s]\n",
      "Computing chunks: 100%|████████████████████████| 2/2 [00:00<00:00, 90200.09it/s]\n",
      "Splitting the experimental spectrum into chunks: 131072it [00:00, 3474804.78it/s]\n",
      "Deconvolving chunks: 100%|███████████████████████| 1/1 [02:53<00:00, 173.00s/it]\n"
     ]
    },
    {
     "name": "stdout",
     "output_type": "stream",
     "text": [
      "Estimation for 0.03 and 0.27 done\n",
      "It took: 173.14646768569946 seconds.\n",
      "[0.012734310566000072, 0.8137242997290045]\n"
     ]
    },
    {
     "name": "stderr",
     "output_type": "stream",
     "text": [
      "Initial filtering of formulas: 100%|██████████████| 2/2 [00:00<00:00, 61.90it/s]\n",
      "Computing chunks: 100%|████████████████████████| 2/2 [00:00<00:00, 93206.76it/s]\n",
      "Splitting the experimental spectrum into chunks: 131072it [00:00, 3423797.96it/s]\n",
      "Deconvolving chunks: 100%|███████████████████████| 1/1 [03:14<00:00, 194.33s/it]\n"
     ]
    },
    {
     "name": "stdout",
     "output_type": "stream",
     "text": [
      "Estimation for 0.03 and 0.28 done\n",
      "It took: 194.46891617774963 seconds.\n",
      "[0.01262382302700007, 0.8137318369490045]\n"
     ]
    },
    {
     "name": "stderr",
     "output_type": "stream",
     "text": [
      "Initial filtering of formulas: 100%|██████████████| 2/2 [00:00<00:00, 61.65it/s]\n",
      "Computing chunks: 100%|████████████████████████| 2/2 [00:00<00:00, 99864.38it/s]\n",
      "Splitting the experimental spectrum into chunks: 131072it [00:00, 3479357.07it/s]\n",
      "Deconvolving chunks: 100%|███████████████████████| 1/1 [02:58<00:00, 178.29s/it]\n"
     ]
    },
    {
     "name": "stdout",
     "output_type": "stream",
     "text": [
      "Estimation for 0.03 and 0.29000000000000004 done\n",
      "It took: 178.45273089408875 seconds.\n",
      "[0.012570725637000069, 0.8137363386260046]\n"
     ]
    },
    {
     "name": "stderr",
     "output_type": "stream",
     "text": [
      "Initial filtering of formulas: 100%|██████████████| 2/2 [00:00<00:00, 60.49it/s]\n",
      "Computing chunks: 100%|████████████████████████| 2/2 [00:00<00:00, 94254.02it/s]\n",
      "Splitting the experimental spectrum into chunks: 131072it [00:00, 3408725.34it/s]\n",
      "Deconvolving chunks: 100%|███████████████████████| 1/1 [02:31<00:00, 151.03s/it]\n"
     ]
    },
    {
     "name": "stdout",
     "output_type": "stream",
     "text": [
      "Estimation for 0.04 and 0.01 done\n",
      "It took: 151.1975085735321 seconds.\n",
      "[0.3789109729250021, 0.6206794446830034]\n"
     ]
    },
    {
     "name": "stderr",
     "output_type": "stream",
     "text": [
      "Initial filtering of formulas: 100%|██████████████| 2/2 [00:00<00:00, 60.15it/s]\n",
      "Computing chunks: 100%|████████████████████████| 2/2 [00:00<00:00, 88301.14it/s]\n",
      "Splitting the experimental spectrum into chunks: 131072it [00:00, 3317978.24it/s]\n",
      "Deconvolving chunks: 100%|███████████████████████| 1/1 [02:55<00:00, 175.28s/it]\n"
     ]
    },
    {
     "name": "stdout",
     "output_type": "stream",
     "text": [
      "Estimation for 0.04 and 0.02 done\n",
      "It took: 175.44975113868713 seconds.\n",
      "[0.11569259375000064, 0.8621621655850048]\n"
     ]
    },
    {
     "name": "stderr",
     "output_type": "stream",
     "text": [
      "Initial filtering of formulas: 100%|██████████████| 2/2 [00:00<00:00, 60.22it/s]\n",
      "Computing chunks: 100%|████████████████████████| 2/2 [00:00<00:00, 88301.14it/s]\n",
      "Splitting the experimental spectrum into chunks: 131072it [00:00, 3429650.42it/s]\n",
      "Deconvolving chunks: 100%|███████████████████████| 1/1 [02:45<00:00, 165.54s/it]\n"
     ]
    },
    {
     "name": "stdout",
     "output_type": "stream",
     "text": [
      "Estimation for 0.04 and 0.03 done\n",
      "It took: 165.68384194374084 seconds.\n",
      "[0.10462193059500058, 0.8603098458560048]\n"
     ]
    },
    {
     "name": "stderr",
     "output_type": "stream",
     "text": [
      "Initial filtering of formulas: 100%|██████████████| 2/2 [00:00<00:00, 59.76it/s]\n",
      "Computing chunks: 100%|████████████████████████| 2/2 [00:00<00:00, 94254.02it/s]\n",
      "Splitting the experimental spectrum into chunks: 131072it [00:00, 3589116.97it/s]\n",
      "Deconvolving chunks: 100%|███████████████████████| 1/1 [02:44<00:00, 164.68s/it]\n"
     ]
    },
    {
     "name": "stdout",
     "output_type": "stream",
     "text": [
      "Estimation for 0.04 and 0.04 done\n",
      "It took: 164.8232865333557 seconds.\n",
      "[0.09619184026800053, 0.8593892238140047]\n"
     ]
    },
    {
     "name": "stderr",
     "output_type": "stream",
     "text": [
      "Initial filtering of formulas: 100%|██████████████| 2/2 [00:00<00:00, 61.09it/s]\n",
      "Computing chunks: 100%|████████████████████████| 2/2 [00:00<00:00, 87381.33it/s]\n",
      "Splitting the experimental spectrum into chunks: 131072it [00:00, 3474826.74it/s]\n",
      "Deconvolving chunks: 100%|███████████████████████| 1/1 [02:48<00:00, 168.54s/it]\n"
     ]
    },
    {
     "name": "stdout",
     "output_type": "stream",
     "text": [
      "Estimation for 0.04 and 0.05 done\n",
      "It took: 168.6805317401886 seconds.\n",
      "[0.09398242270400052, 0.8614750469350048]\n"
     ]
    },
    {
     "name": "stderr",
     "output_type": "stream",
     "text": [
      "Initial filtering of formulas: 100%|██████████████| 2/2 [00:00<00:00, 61.93it/s]\n",
      "Computing chunks: 100%|████████████████████████| 2/2 [00:00<00:00, 94254.02it/s]\n",
      "Splitting the experimental spectrum into chunks: 131072it [00:00, 3413657.05it/s]\n",
      "Deconvolving chunks: 100%|███████████████████████| 1/1 [02:36<00:00, 156.57s/it]\n"
     ]
    },
    {
     "name": "stdout",
     "output_type": "stream",
     "text": [
      "Estimation for 0.04 and 0.060000000000000005 done\n",
      "It took: 156.71884059906006 seconds.\n",
      "[0.09401262340200053, 0.8617188660840047]\n"
     ]
    },
    {
     "name": "stderr",
     "output_type": "stream",
     "text": [
      "Initial filtering of formulas: 100%|██████████████| 2/2 [00:00<00:00, 61.30it/s]\n",
      "Computing chunks: 100%|████████████████████████| 2/2 [00:00<00:00, 88301.14it/s]\n",
      "Splitting the experimental spectrum into chunks: 131072it [00:00, 3408049.13it/s]\n",
      "Deconvolving chunks: 100%|███████████████████████| 1/1 [02:42<00:00, 162.24s/it]\n"
     ]
    },
    {
     "name": "stdout",
     "output_type": "stream",
     "text": [
      "Estimation for 0.04 and 0.06999999999999999 done\n",
      "It took: 162.39407563209534 seconds.\n",
      "[0.09420949355200053, 0.8623963572760047]\n"
     ]
    },
    {
     "name": "stderr",
     "output_type": "stream",
     "text": [
      "Initial filtering of formulas: 100%|██████████████| 2/2 [00:00<00:00, 60.43it/s]\n",
      "Computing chunks: 100%|████████████████████████| 2/2 [00:00<00:00, 83055.52it/s]\n",
      "Splitting the experimental spectrum into chunks: 131072it [00:00, 3312300.81it/s]\n",
      "Deconvolving chunks: 100%|███████████████████████| 1/1 [02:49<00:00, 169.83s/it]\n"
     ]
    },
    {
     "name": "stdout",
     "output_type": "stream",
     "text": [
      "Estimation for 0.04 and 0.08 done\n",
      "It took: 169.98884105682373 seconds.\n",
      "[0.0896656322760005, 0.8595787080560048]\n"
     ]
    },
    {
     "name": "stderr",
     "output_type": "stream",
     "text": [
      "Initial filtering of formulas: 100%|██████████████| 2/2 [00:00<00:00, 63.04it/s]\n",
      "Computing chunks: 100%|████████████████████████| 2/2 [00:00<00:00, 72944.42it/s]\n",
      "Splitting the experimental spectrum into chunks: 131072it [00:00, 3464643.76it/s]\n",
      "Deconvolving chunks: 100%|███████████████████████| 1/1 [02:45<00:00, 165.64s/it]\n"
     ]
    },
    {
     "name": "stdout",
     "output_type": "stream",
     "text": [
      "Estimation for 0.04 and 0.09 done\n",
      "It took: 165.80759239196777 seconds.\n",
      "[0.07518838836800042, 0.8605361466720047]\n"
     ]
    },
    {
     "name": "stderr",
     "output_type": "stream",
     "text": [
      "Initial filtering of formulas: 100%|██████████████| 2/2 [00:00<00:00, 62.36it/s]\n",
      "Computing chunks: 100%|████████████████████████| 2/2 [00:00<00:00, 87381.33it/s]\n",
      "Splitting the experimental spectrum into chunks: 131072it [00:00, 3504620.59it/s]\n",
      "Deconvolving chunks: 100%|███████████████████████| 1/1 [02:40<00:00, 160.99s/it]\n"
     ]
    },
    {
     "name": "stdout",
     "output_type": "stream",
     "text": [
      "Estimation for 0.04 and 0.09999999999999999 done\n",
      "It took: 161.13005948066711 seconds.\n",
      "[0.06306680320100035, 0.8621733326350047]\n"
     ]
    },
    {
     "name": "stderr",
     "output_type": "stream",
     "text": [
      "Initial filtering of formulas: 100%|██████████████| 2/2 [00:00<00:00, 61.39it/s]\n",
      "Computing chunks: 100%|████████████████████████| 2/2 [00:00<00:00, 81442.80it/s]\n",
      "Splitting the experimental spectrum into chunks: 131072it [00:00, 3356365.05it/s]\n",
      "Deconvolving chunks: 100%|███████████████████████| 1/1 [02:39<00:00, 159.95s/it]\n"
     ]
    },
    {
     "name": "stdout",
     "output_type": "stream",
     "text": [
      "Estimation for 0.04 and 0.11 done\n",
      "It took: 160.09783673286438 seconds.\n",
      "[0.060209062776000334, 0.8625964699460048]\n"
     ]
    },
    {
     "name": "stderr",
     "output_type": "stream",
     "text": [
      "Initial filtering of formulas: 100%|██████████████| 2/2 [00:00<00:00, 61.50it/s]\n",
      "Computing chunks: 100%|████████████████████████| 2/2 [00:00<00:00, 95325.09it/s]\n",
      "Splitting the experimental spectrum into chunks: 131072it [00:00, 3385883.92it/s]\n",
      "Deconvolving chunks: 100%|███████████████████████| 1/1 [02:44<00:00, 164.36s/it]\n"
     ]
    },
    {
     "name": "stdout",
     "output_type": "stream",
     "text": [
      "Estimation for 0.04 and 0.12 done\n",
      "It took: 164.5258846282959 seconds.\n",
      "[0.059041791263000326, 0.8625656191070048]\n"
     ]
    },
    {
     "name": "stderr",
     "output_type": "stream",
     "text": [
      "Initial filtering of formulas: 100%|██████████████| 2/2 [00:00<00:00, 60.99it/s]\n",
      "Computing chunks: 100%|████████████████████████| 2/2 [00:00<00:00, 83055.52it/s]\n",
      "Splitting the experimental spectrum into chunks: 131072it [00:00, 3465692.15it/s]\n",
      "Deconvolving chunks: 100%|███████████████████████| 1/1 [02:49<00:00, 169.14s/it]\n"
     ]
    },
    {
     "name": "stdout",
     "output_type": "stream",
     "text": [
      "Estimation for 0.04 and 0.13 done\n",
      "It took: 169.29049015045166 seconds.\n",
      "[0.05825058730000032, 0.8625065898460048]\n"
     ]
    },
    {
     "name": "stderr",
     "output_type": "stream",
     "text": [
      "Initial filtering of formulas: 100%|██████████████| 2/2 [00:00<00:00, 59.57it/s]\n",
      "Computing chunks: 100%|████████████████████████| 2/2 [00:00<00:00, 90200.09it/s]\n",
      "Splitting the experimental spectrum into chunks: 131072it [00:00, 3353171.46it/s]\n",
      "Deconvolving chunks: 100%|███████████████████████| 1/1 [02:50<00:00, 170.95s/it]\n"
     ]
    },
    {
     "name": "stdout",
     "output_type": "stream",
     "text": [
      "Estimation for 0.04 and 0.14 done\n",
      "It took: 171.10061740875244 seconds.\n",
      "[0.057586738549000316, 0.8621843622000048]\n"
     ]
    },
    {
     "name": "stderr",
     "output_type": "stream",
     "text": [
      "Initial filtering of formulas: 100%|██████████████| 2/2 [00:00<00:00, 60.46it/s]\n",
      "Computing chunks: 100%|████████████████████████| 2/2 [00:00<00:00, 95325.09it/s]\n",
      "Splitting the experimental spectrum into chunks: 131072it [00:00, 3410565.13it/s]\n",
      "Deconvolving chunks: 100%|███████████████████████| 1/1 [02:51<00:00, 171.22s/it]\n"
     ]
    },
    {
     "name": "stdout",
     "output_type": "stream",
     "text": [
      "Estimation for 0.04 and 0.15000000000000002 done\n",
      "It took: 171.36011171340942 seconds.\n",
      "[0.05713916717000032, 0.8621327431710047]\n"
     ]
    },
    {
     "name": "stderr",
     "output_type": "stream",
     "text": [
      "Initial filtering of formulas: 100%|██████████████| 2/2 [00:00<00:00, 61.08it/s]\n",
      "Computing chunks: 100%|████████████████████████| 2/2 [00:00<00:00, 92182.51it/s]\n",
      "Splitting the experimental spectrum into chunks: 131072it [00:00, 3390164.24it/s]\n",
      "Deconvolving chunks: 100%|███████████████████████| 1/1 [02:49<00:00, 169.41s/it]\n"
     ]
    },
    {
     "name": "stdout",
     "output_type": "stream",
     "text": [
      "Estimation for 0.04 and 0.16 done\n",
      "It took: 169.55319476127625 seconds.\n",
      "[0.05717381556900032, 0.8605860815920048]\n"
     ]
    },
    {
     "name": "stderr",
     "output_type": "stream",
     "text": [
      "Initial filtering of formulas: 100%|██████████████| 2/2 [00:00<00:00, 59.37it/s]\n",
      "Computing chunks: 100%|████████████████████████| 2/2 [00:00<00:00, 84733.41it/s]\n",
      "Splitting the experimental spectrum into chunks: 131072it [00:00, 3278112.24it/s]\n",
      "Deconvolving chunks: 100%|███████████████████████| 1/1 [02:47<00:00, 167.96s/it]\n"
     ]
    },
    {
     "name": "stdout",
     "output_type": "stream",
     "text": [
      "Estimation for 0.04 and 0.17 done\n",
      "It took: 168.1052601337433 seconds.\n",
      "[0.05764476710100032, 0.8546926152750047]\n"
     ]
    },
    {
     "name": "stderr",
     "output_type": "stream",
     "text": [
      "Initial filtering of formulas: 100%|██████████████| 2/2 [00:00<00:00, 61.44it/s]\n",
      "Computing chunks: 100%|████████████████████████| 2/2 [00:00<00:00, 96420.78it/s]\n",
      "Splitting the experimental spectrum into chunks: 131072it [00:00, 3358476.98it/s]\n",
      "Deconvolving chunks: 100%|███████████████████████| 1/1 [02:50<00:00, 170.16s/it]\n"
     ]
    },
    {
     "name": "stdout",
     "output_type": "stream",
     "text": [
      "Estimation for 0.04 and 0.18000000000000002 done\n",
      "It took: 170.30073046684265 seconds.\n",
      "[0.05809080754300032, 0.8489381998980047]\n"
     ]
    },
    {
     "name": "stderr",
     "output_type": "stream",
     "text": [
      "Initial filtering of formulas: 100%|██████████████| 2/2 [00:00<00:00, 60.85it/s]\n",
      "Computing chunks: 100%|████████████████████████| 2/2 [00:00<00:00, 94254.02it/s]\n",
      "Splitting the experimental spectrum into chunks: 131072it [00:00, 3368601.80it/s]\n",
      "Deconvolving chunks: 100%|███████████████████████| 1/1 [03:06<00:00, 186.55s/it]\n"
     ]
    },
    {
     "name": "stdout",
     "output_type": "stream",
     "text": [
      "Estimation for 0.04 and 0.19 done\n",
      "It took: 186.69572138786316 seconds.\n",
      "[0.05807302649900032, 0.8487235964140046]\n"
     ]
    },
    {
     "name": "stderr",
     "output_type": "stream",
     "text": [
      "Initial filtering of formulas: 100%|██████████████| 2/2 [00:00<00:00, 60.66it/s]\n",
      "Computing chunks: 100%|████████████████████████| 2/2 [00:00<00:00, 66052.03it/s]\n",
      "Splitting the experimental spectrum into chunks: 131072it [00:00, 3357061.90it/s]\n",
      "Deconvolving chunks: 100%|███████████████████████| 1/1 [03:14<00:00, 194.47s/it]\n"
     ]
    },
    {
     "name": "stdout",
     "output_type": "stream",
     "text": [
      "Estimation for 0.04 and 0.2 done\n",
      "It took: 194.6102650165558 seconds.\n",
      "[0.05803626381700032, 0.8487279036630047]\n"
     ]
    },
    {
     "name": "stderr",
     "output_type": "stream",
     "text": [
      "Initial filtering of formulas: 100%|██████████████| 2/2 [00:00<00:00, 62.68it/s]\n",
      "Computing chunks: 100%|████████████████████████| 2/2 [00:00<00:00, 92182.51it/s]\n",
      "Splitting the experimental spectrum into chunks: 131072it [00:00, 3474255.79it/s]\n",
      "Deconvolving chunks: 100%|███████████████████████| 1/1 [03:05<00:00, 185.52s/it]\n"
     ]
    },
    {
     "name": "stdout",
     "output_type": "stream",
     "text": [
      "Estimation for 0.04 and 0.21000000000000002 done\n",
      "It took: 185.65717792510986 seconds.\n",
      "[0.058041938487000316, 0.8482391205620047]\n"
     ]
    },
    {
     "name": "stderr",
     "output_type": "stream",
     "text": [
      "Initial filtering of formulas: 100%|██████████████| 2/2 [00:00<00:00, 62.44it/s]\n",
      "Computing chunks: 100%|████████████████████████| 2/2 [00:00<00:00, 97541.95it/s]\n",
      "Splitting the experimental spectrum into chunks: 131072it [00:00, 3386843.44it/s]\n",
      "Deconvolving chunks: 100%|███████████████████████| 1/1 [02:59<00:00, 179.93s/it]\n"
     ]
    },
    {
     "name": "stdout",
     "output_type": "stream",
     "text": [
      "Estimation for 0.04 and 0.22 done\n",
      "It took: 180.0723521709442 seconds.\n",
      "[0.05801168161800032, 0.8482449303700047]\n"
     ]
    },
    {
     "name": "stderr",
     "output_type": "stream",
     "text": [
      "Initial filtering of formulas: 100%|██████████████| 2/2 [00:00<00:00, 61.79it/s]\n",
      "Computing chunks: 100%|████████████████████████| 2/2 [00:00<00:00, 56299.38it/s]\n",
      "Splitting the experimental spectrum into chunks: 131072it [00:00, 3438144.17it/s]\n",
      "Deconvolving chunks: 100%|███████████████████████| 1/1 [02:48<00:00, 168.58s/it]\n"
     ]
    },
    {
     "name": "stdout",
     "output_type": "stream",
     "text": [
      "Estimation for 0.04 and 0.23 done\n",
      "It took: 168.734441280365 seconds.\n",
      "[0.05798297443000032, 0.8482462599030046]\n"
     ]
    },
    {
     "name": "stderr",
     "output_type": "stream",
     "text": [
      "Initial filtering of formulas: 100%|██████████████| 2/2 [00:00<00:00, 61.00it/s]\n",
      "Computing chunks: 100%|████████████████████████| 2/2 [00:00<00:00, 83886.08it/s]\n",
      "Splitting the experimental spectrum into chunks: 131072it [00:00, 3378621.73it/s]\n",
      "Deconvolving chunks: 100%|███████████████████████| 1/1 [02:53<00:00, 173.34s/it]\n"
     ]
    },
    {
     "name": "stdout",
     "output_type": "stream",
     "text": [
      "Estimation for 0.04 and 0.24000000000000002 done\n",
      "It took: 173.5121729373932 seconds.\n",
      "[0.05795150361300032, 0.8482499404230046]\n"
     ]
    },
    {
     "name": "stderr",
     "output_type": "stream",
     "text": [
      "Initial filtering of formulas: 100%|██████████████| 2/2 [00:00<00:00, 62.59it/s]\n",
      "Computing chunks: 100%|████████████████████████| 2/2 [00:00<00:00, 15087.42it/s]\n",
      "Splitting the experimental spectrum into chunks: 131072it [00:00, 3404376.96it/s]\n",
      "Deconvolving chunks: 100%|███████████████████████| 1/1 [03:10<00:00, 190.59s/it]\n"
     ]
    },
    {
     "name": "stdout",
     "output_type": "stream",
     "text": [
      "Estimation for 0.04 and 0.25 done\n",
      "It took: 190.73699569702148 seconds.\n",
      "[0.05795029216800032, 0.8482312299390047]\n"
     ]
    },
    {
     "name": "stderr",
     "output_type": "stream",
     "text": [
      "Initial filtering of formulas: 100%|██████████████| 2/2 [00:00<00:00, 62.49it/s]\n",
      "Computing chunks: 100%|████████████████████████| 2/2 [00:00<00:00, 89240.51it/s]\n",
      "Splitting the experimental spectrum into chunks: 131072it [00:00, 3502722.59it/s]\n",
      "Deconvolving chunks: 100%|███████████████████████| 1/1 [02:50<00:00, 170.87s/it]\n"
     ]
    },
    {
     "name": "stdout",
     "output_type": "stream",
     "text": [
      "Estimation for 0.04 and 0.26 done\n",
      "It took: 171.00991821289062 seconds.\n",
      "[0.05793621709400032, 0.8481356610210047]\n"
     ]
    },
    {
     "name": "stderr",
     "output_type": "stream",
     "text": [
      "Initial filtering of formulas: 100%|██████████████| 2/2 [00:00<00:00, 62.19it/s]\n",
      "Computing chunks: 100%|████████████████████████| 2/2 [00:00<00:00, 93206.76it/s]\n",
      "Splitting the experimental spectrum into chunks: 131072it [00:00, 3462200.00it/s]\n",
      "Deconvolving chunks: 100%|███████████████████████| 1/1 [02:44<00:00, 164.32s/it]\n"
     ]
    },
    {
     "name": "stdout",
     "output_type": "stream",
     "text": [
      "Estimation for 0.04 and 0.27 done\n",
      "It took: 164.46084809303284 seconds.\n",
      "[0.05791224413300032, 0.8481423292440047]\n"
     ]
    },
    {
     "name": "stderr",
     "output_type": "stream",
     "text": [
      "Initial filtering of formulas: 100%|██████████████| 2/2 [00:00<00:00, 61.12it/s]\n",
      "Computing chunks: 100%|████████████████████████| 2/2 [00:00<00:00, 91180.52it/s]\n",
      "Splitting the experimental spectrum into chunks: 131072it [00:00, 3119235.02it/s]\n",
      "Deconvolving chunks: 100%|███████████████████████| 1/1 [03:08<00:00, 188.45s/it]\n"
     ]
    },
    {
     "name": "stdout",
     "output_type": "stream",
     "text": [
      "Estimation for 0.04 and 0.28 done\n",
      "It took: 188.60017347335815 seconds.\n",
      "[0.05788262707700032, 0.8481486120800047]\n"
     ]
    },
    {
     "name": "stderr",
     "output_type": "stream",
     "text": [
      "Initial filtering of formulas: 100%|██████████████| 2/2 [00:00<00:00, 60.76it/s]\n",
      "Computing chunks: 100%|████████████████████████| 2/2 [00:00<00:00, 89240.51it/s]\n",
      "Splitting the experimental spectrum into chunks: 131072it [00:00, 3399955.56it/s]\n",
      "Deconvolving chunks: 100%|███████████████████████| 1/1 [02:51<00:00, 171.18s/it]\n"
     ]
    },
    {
     "name": "stdout",
     "output_type": "stream",
     "text": [
      "Estimation for 0.04 and 0.29000000000000004 done\n",
      "It took: 171.32468104362488 seconds.\n",
      "[0.05786394771300032, 0.8480893208840047]\n"
     ]
    },
    {
     "name": "stderr",
     "output_type": "stream",
     "text": [
      "Initial filtering of formulas: 100%|██████████████| 2/2 [00:00<00:00, 61.45it/s]\n",
      "Computing chunks: 100%|████████████████████████| 2/2 [00:00<00:00, 94254.02it/s]\n",
      "Splitting the experimental spectrum into chunks: 131072it [00:00, 3416053.97it/s]\n",
      "Deconvolving chunks: 100%|███████████████████████| 1/1 [03:26<00:00, 206.28s/it]\n"
     ]
    },
    {
     "name": "stdout",
     "output_type": "stream",
     "text": [
      "Estimation for 0.05 and 0.01 done\n",
      "It took: 206.42563724517822 seconds.\n",
      "[0.3817026467870021, 0.6181717374150034]\n"
     ]
    },
    {
     "name": "stderr",
     "output_type": "stream",
     "text": [
      "Initial filtering of formulas: 100%|██████████████| 2/2 [00:00<00:00, 61.60it/s]\n",
      "Computing chunks: 100%|████████████████████████| 2/2 [00:00<00:00, 94254.02it/s]\n",
      "Splitting the experimental spectrum into chunks: 131072it [00:00, 3435802.05it/s]\n",
      "Deconvolving chunks: 100%|███████████████████████| 1/1 [03:07<00:00, 187.72s/it]\n"
     ]
    },
    {
     "name": "stdout",
     "output_type": "stream",
     "text": [
      "Estimation for 0.05 and 0.02 done\n",
      "It took: 187.8578324317932 seconds.\n",
      "[0.13527476710600075, 0.8547065097420048]\n"
     ]
    },
    {
     "name": "stderr",
     "output_type": "stream",
     "text": [
      "Initial filtering of formulas: 100%|██████████████| 2/2 [00:00<00:00, 61.42it/s]\n",
      "Computing chunks: 100%|████████████████████████| 2/2 [00:00<00:00, 87381.33it/s]\n",
      "Splitting the experimental spectrum into chunks: 131072it [00:00, 3415990.29it/s]\n",
      "Deconvolving chunks: 100%|███████████████████████| 1/1 [03:04<00:00, 184.28s/it]\n"
     ]
    },
    {
     "name": "stdout",
     "output_type": "stream",
     "text": [
      "Estimation for 0.05 and 0.03 done\n",
      "It took: 184.4253969192505 seconds.\n",
      "[0.11409718431700064, 0.8704987470480049]\n"
     ]
    },
    {
     "name": "stderr",
     "output_type": "stream",
     "text": [
      "Initial filtering of formulas: 100%|██████████████| 2/2 [00:00<00:00, 62.31it/s]\n",
      "Computing chunks: 100%|████████████████████████| 2/2 [00:00<00:00, 90200.09it/s]\n",
      "Splitting the experimental spectrum into chunks: 131072it [00:00, 3406570.87it/s]\n",
      "Deconvolving chunks: 100%|███████████████████████| 1/1 [02:33<00:00, 153.89s/it]\n"
     ]
    },
    {
     "name": "stdout",
     "output_type": "stream",
     "text": [
      "Estimation for 0.05 and 0.04 done\n",
      "It took: 154.03852200508118 seconds.\n",
      "[0.11380011431200064, 0.8692508357940048]\n"
     ]
    },
    {
     "name": "stderr",
     "output_type": "stream",
     "text": [
      "Initial filtering of formulas: 100%|██████████████| 2/2 [00:00<00:00, 60.15it/s]\n",
      "Computing chunks: 100%|████████████████████████| 2/2 [00:00<00:00, 40136.88it/s]\n",
      "Splitting the experimental spectrum into chunks: 131072it [00:00, 3235570.68it/s]\n",
      "Deconvolving chunks: 100%|███████████████████████| 1/1 [03:10<00:00, 190.13s/it]\n"
     ]
    },
    {
     "name": "stdout",
     "output_type": "stream",
     "text": [
      "Estimation for 0.05 and 0.05 done\n",
      "It took: 190.30134105682373 seconds.\n",
      "[0.11443980686200064, 0.8675596443940048]\n"
     ]
    },
    {
     "name": "stderr",
     "output_type": "stream",
     "text": [
      "Initial filtering of formulas: 100%|██████████████| 2/2 [00:00<00:00, 62.18it/s]\n",
      "Computing chunks: 100%|████████████████████████| 2/2 [00:00<00:00, 89240.51it/s]\n",
      "Splitting the experimental spectrum into chunks: 131072it [00:00, 3461894.77it/s]\n",
      "Deconvolving chunks: 100%|███████████████████████| 1/1 [03:34<00:00, 214.75s/it]\n"
     ]
    },
    {
     "name": "stdout",
     "output_type": "stream",
     "text": [
      "Estimation for 0.05 and 0.060000000000000005 done\n",
      "It took: 214.89023232460022 seconds.\n",
      "[0.11456708672700064, 0.8670906683170048]\n"
     ]
    },
    {
     "name": "stderr",
     "output_type": "stream",
     "text": [
      "Initial filtering of formulas: 100%|██████████████| 2/2 [00:00<00:00, 61.53it/s]\n",
      "Computing chunks: 100%|████████████████████████| 2/2 [00:00<00:00, 91180.52it/s]\n",
      "Splitting the experimental spectrum into chunks: 131072it [00:00, 3374515.47it/s]\n",
      "Deconvolving chunks: 100%|███████████████████████| 1/1 [02:53<00:00, 173.28s/it]\n"
     ]
    },
    {
     "name": "stdout",
     "output_type": "stream",
     "text": [
      "Estimation for 0.05 and 0.06999999999999999 done\n",
      "It took: 173.42601561546326 seconds.\n",
      "[0.1109140926530006, 0.8686145208970047]\n"
     ]
    },
    {
     "name": "stderr",
     "output_type": "stream",
     "text": [
      "Initial filtering of formulas: 100%|██████████████| 2/2 [00:00<00:00, 61.73it/s]\n",
      "Computing chunks: 100%|████████████████████████| 2/2 [00:00<00:00, 92182.51it/s]\n",
      "Splitting the experimental spectrum into chunks: 131072it [00:00, 3440381.83it/s]\n",
      "Deconvolving chunks: 100%|███████████████████████| 1/1 [03:31<00:00, 211.66s/it]\n"
     ]
    },
    {
     "name": "stdout",
     "output_type": "stream",
     "text": [
      "Estimation for 0.05 and 0.08 done\n",
      "It took: 211.80885982513428 seconds.\n",
      "[0.11027049349400062, 0.8674438714180047]\n"
     ]
    },
    {
     "name": "stderr",
     "output_type": "stream",
     "text": [
      "Initial filtering of formulas: 100%|██████████████| 2/2 [00:00<00:00, 62.56it/s]\n",
      "Computing chunks: 100%|████████████████████████| 2/2 [00:00<00:00, 93206.76it/s]\n",
      "Splitting the experimental spectrum into chunks: 131072it [00:00, 3499177.73it/s]\n",
      "Deconvolving chunks: 100%|███████████████████████| 1/1 [02:54<00:00, 174.17s/it]\n"
     ]
    },
    {
     "name": "stdout",
     "output_type": "stream",
     "text": [
      "Estimation for 0.05 and 0.09 done\n",
      "It took: 174.31413793563843 seconds.\n",
      "[0.1078083812990006, 0.8677398310420048]\n"
     ]
    },
    {
     "name": "stderr",
     "output_type": "stream",
     "text": [
      "Initial filtering of formulas: 100%|██████████████| 2/2 [00:00<00:00, 60.74it/s]\n",
      "Computing chunks: 100%|████████████████████████| 2/2 [00:00<00:00, 91180.52it/s]\n",
      "Splitting the experimental spectrum into chunks: 131072it [00:00, 3392821.39it/s]\n",
      "Deconvolving chunks: 100%|███████████████████████| 1/1 [02:45<00:00, 165.03s/it]\n"
     ]
    },
    {
     "name": "stdout",
     "output_type": "stream",
     "text": [
      "Estimation for 0.05 and 0.09999999999999999 done\n",
      "It took: 165.17957258224487 seconds.\n",
      "[0.10037363574900056, 0.8704701382530049]\n"
     ]
    },
    {
     "name": "stderr",
     "output_type": "stream",
     "text": [
      "Initial filtering of formulas: 100%|██████████████| 2/2 [00:00<00:00, 61.85it/s]\n",
      "Computing chunks: 100%|████████████████████████| 2/2 [00:00<00:00, 88301.14it/s]\n",
      "Splitting the experimental spectrum into chunks: 131072it [00:00, 3426593.54it/s]\n",
      "Deconvolving chunks: 100%|███████████████████████| 1/1 [02:36<00:00, 156.24s/it]\n"
     ]
    },
    {
     "name": "stdout",
     "output_type": "stream",
     "text": [
      "Estimation for 0.05 and 0.11 done\n",
      "It took: 156.38269329071045 seconds.\n",
      "[0.09579248187000053, 0.8718171122530048]\n"
     ]
    },
    {
     "name": "stderr",
     "output_type": "stream",
     "text": [
      "Initial filtering of formulas: 100%|██████████████| 2/2 [00:00<00:00, 63.22it/s]\n",
      "Computing chunks: 100%|████████████████████████| 2/2 [00:00<00:00, 97541.95it/s]\n",
      "Splitting the experimental spectrum into chunks: 131072it [00:00, 3484716.31it/s]\n",
      "Deconvolving chunks: 100%|███████████████████████| 1/1 [02:55<00:00, 175.32s/it]\n"
     ]
    },
    {
     "name": "stdout",
     "output_type": "stream",
     "text": [
      "Estimation for 0.05 and 0.12 done\n",
      "It took: 175.4599597454071 seconds.\n",
      "[0.09315276177400052, 0.8724191309410049]\n"
     ]
    },
    {
     "name": "stderr",
     "output_type": "stream",
     "text": [
      "Initial filtering of formulas: 100%|██████████████| 2/2 [00:00<00:00, 61.49it/s]\n",
      "Computing chunks: 100%|████████████████████████| 2/2 [00:00<00:00, 91180.52it/s]\n",
      "Splitting the experimental spectrum into chunks: 131072it [00:00, 3429222.55it/s]\n",
      "Deconvolving chunks: 100%|███████████████████████| 1/1 [03:00<00:00, 180.26s/it]\n"
     ]
    },
    {
     "name": "stdout",
     "output_type": "stream",
     "text": [
      "Estimation for 0.05 and 0.13 done\n",
      "It took: 180.40358304977417 seconds.\n",
      "[0.08530976206400047, 0.8741634614250049]\n"
     ]
    },
    {
     "name": "stderr",
     "output_type": "stream",
     "text": [
      "Initial filtering of formulas: 100%|██████████████| 2/2 [00:00<00:00, 57.56it/s]\n",
      "Computing chunks: 100%|████████████████████████| 2/2 [00:00<00:00, 41323.19it/s]\n",
      "Splitting the experimental spectrum into chunks: 131072it [00:00, 3191560.17it/s]\n",
      "Deconvolving chunks: 100%|███████████████████████| 1/1 [02:52<00:00, 172.63s/it]\n"
     ]
    },
    {
     "name": "stdout",
     "output_type": "stream",
     "text": [
      "Estimation for 0.05 and 0.14 done\n",
      "It took: 172.78379344940186 seconds.\n",
      "[0.08074102581600044, 0.8751065036880049]\n"
     ]
    },
    {
     "name": "stderr",
     "output_type": "stream",
     "text": [
      "Initial filtering of formulas: 100%|██████████████| 2/2 [00:00<00:00, 61.39it/s]\n",
      "Computing chunks: 100%|████████████████████████| 2/2 [00:00<00:00, 89240.51it/s]\n",
      "Splitting the experimental spectrum into chunks: 131072it [00:00, 3441889.58it/s]\n",
      "Deconvolving chunks: 100%|███████████████████████| 1/1 [02:52<00:00, 172.58s/it]\n"
     ]
    },
    {
     "name": "stdout",
     "output_type": "stream",
     "text": [
      "Estimation for 0.05 and 0.15000000000000002 done\n",
      "It took: 172.74315667152405 seconds.\n",
      "[0.07967481725800045, 0.8752951044220049]\n"
     ]
    },
    {
     "name": "stderr",
     "output_type": "stream",
     "text": [
      "Initial filtering of formulas: 100%|██████████████| 2/2 [00:00<00:00, 61.02it/s]\n",
      "Computing chunks: 100%|████████████████████████| 2/2 [00:00<00:00, 89240.51it/s]\n",
      "Splitting the experimental spectrum into chunks: 131072it [00:00, 3380844.93it/s]\n",
      "Deconvolving chunks: 100%|███████████████████████| 1/1 [02:53<00:00, 173.19s/it]\n"
     ]
    },
    {
     "name": "stdout",
     "output_type": "stream",
     "text": [
      "Estimation for 0.05 and 0.16 done\n",
      "It took: 173.33091759681702 seconds.\n",
      "[0.07887515819800045, 0.8753830325810049]\n"
     ]
    },
    {
     "name": "stderr",
     "output_type": "stream",
     "text": [
      "Initial filtering of formulas: 100%|██████████████| 2/2 [00:00<00:00, 62.12it/s]\n",
      "Computing chunks: 100%|████████████████████████| 2/2 [00:00<00:00, 76260.07it/s]\n",
      "Splitting the experimental spectrum into chunks: 131072it [00:00, 3447306.86it/s]\n",
      "Deconvolving chunks: 100%|███████████████████████| 1/1 [02:56<00:00, 176.91s/it]\n"
     ]
    },
    {
     "name": "stdout",
     "output_type": "stream",
     "text": [
      "Estimation for 0.05 and 0.17 done\n",
      "It took: 177.04718112945557 seconds.\n",
      "[0.07817898849200043, 0.8751380249610049]\n"
     ]
    },
    {
     "name": "stderr",
     "output_type": "stream",
     "text": [
      "Initial filtering of formulas: 100%|██████████████| 2/2 [00:00<00:00, 59.57it/s]\n",
      "Computing chunks: 100%|████████████████████████| 2/2 [00:00<00:00, 93206.76it/s]\n",
      "Splitting the experimental spectrum into chunks: 131072it [00:00, 3401133.48it/s]\n",
      "Deconvolving chunks: 100%|███████████████████████| 1/1 [02:51<00:00, 171.75s/it]\n"
     ]
    },
    {
     "name": "stdout",
     "output_type": "stream",
     "text": [
      "Estimation for 0.05 and 0.18000000000000002 done\n",
      "It took: 171.8926646709442 seconds.\n",
      "[0.07732001736600043, 0.8749029525020049]\n"
     ]
    },
    {
     "name": "stderr",
     "output_type": "stream",
     "text": [
      "Initial filtering of formulas: 100%|██████████████| 2/2 [00:00<00:00, 62.06it/s]\n",
      "Computing chunks: 100%|████████████████████████| 2/2 [00:00<00:00, 88301.14it/s]\n",
      "Splitting the experimental spectrum into chunks: 131072it [00:00, 3388471.70it/s]\n",
      "Deconvolving chunks: 100%|███████████████████████| 1/1 [02:57<00:00, 177.88s/it]\n"
     ]
    },
    {
     "name": "stdout",
     "output_type": "stream",
     "text": [
      "Estimation for 0.05 and 0.19 done\n",
      "It took: 178.0181438922882 seconds.\n",
      "[0.07732715606300043, 0.8732998715780049]\n"
     ]
    },
    {
     "name": "stderr",
     "output_type": "stream",
     "text": [
      "Initial filtering of formulas: 100%|██████████████| 2/2 [00:00<00:00, 63.30it/s]\n",
      "Computing chunks: 100%|████████████████████████| 2/2 [00:00<00:00, 64527.75it/s]\n",
      "Splitting the experimental spectrum into chunks: 131072it [00:00, 3412301.00it/s]\n",
      "Deconvolving chunks: 100%|███████████████████████| 1/1 [02:54<00:00, 174.48s/it]\n"
     ]
    },
    {
     "name": "stdout",
     "output_type": "stream",
     "text": [
      "Estimation for 0.05 and 0.2 done\n",
      "It took: 174.6470546722412 seconds.\n",
      "[0.07768377262600043, 0.8707660716810048]\n"
     ]
    },
    {
     "name": "stderr",
     "output_type": "stream",
     "text": [
      "Initial filtering of formulas: 100%|██████████████| 2/2 [00:00<00:00, 63.09it/s]\n",
      "Computing chunks: 100%|████████████████████████| 2/2 [00:00<00:00, 74235.47it/s]\n",
      "Splitting the experimental spectrum into chunks: 131072it [00:00, 3457605.48it/s]\n",
      "Deconvolving chunks: 100%|███████████████████████| 1/1 [02:52<00:00, 172.56s/it]\n"
     ]
    },
    {
     "name": "stdout",
     "output_type": "stream",
     "text": [
      "Estimation for 0.05 and 0.21000000000000002 done\n",
      "It took: 172.70714664459229 seconds.\n",
      "[0.07766824770400044, 0.8707073829450049]\n"
     ]
    },
    {
     "name": "stderr",
     "output_type": "stream",
     "text": [
      "Initial filtering of formulas: 100%|██████████████| 2/2 [00:00<00:00, 61.48it/s]\n",
      "Computing chunks: 100%|████████████████████████| 2/2 [00:00<00:00, 91180.52it/s]\n",
      "Splitting the experimental spectrum into chunks: 131072it [00:00, 3488121.25it/s]\n",
      "Deconvolving chunks: 100%|███████████████████████| 1/1 [02:56<00:00, 176.39s/it]\n"
     ]
    },
    {
     "name": "stdout",
     "output_type": "stream",
     "text": [
      "Estimation for 0.05 and 0.22 done\n",
      "It took: 176.55112314224243 seconds.\n",
      "[0.07765796126400043, 0.8707112740620049]\n"
     ]
    },
    {
     "name": "stderr",
     "output_type": "stream",
     "text": [
      "Initial filtering of formulas: 100%|██████████████| 2/2 [00:00<00:00, 61.34it/s]\n",
      "Computing chunks: 100%|████████████████████████| 2/2 [00:00<00:00, 92182.51it/s]\n",
      "Splitting the experimental spectrum into chunks: 131072it [00:00, 3361249.07it/s]\n",
      "Deconvolving chunks: 100%|███████████████████████| 1/1 [03:16<00:00, 196.78s/it]\n"
     ]
    },
    {
     "name": "stdout",
     "output_type": "stream",
     "text": [
      "Estimation for 0.05 and 0.23 done\n",
      "It took: 196.92839646339417 seconds.\n",
      "[0.07763590286800043, 0.8707140298570049]\n"
     ]
    },
    {
     "name": "stderr",
     "output_type": "stream",
     "text": [
      "Initial filtering of formulas: 100%|██████████████| 2/2 [00:00<00:00, 58.74it/s]\n",
      "Computing chunks: 100%|████████████████████████| 2/2 [00:00<00:00, 69905.07it/s]\n",
      "Splitting the experimental spectrum into chunks: 131072it [00:00, 3289370.70it/s]\n",
      "Deconvolving chunks: 100%|███████████████████████| 1/1 [02:54<00:00, 174.30s/it]\n"
     ]
    },
    {
     "name": "stdout",
     "output_type": "stream",
     "text": [
      "Estimation for 0.05 and 0.24000000000000002 done\n",
      "It took: 174.4524314403534 seconds.\n",
      "[0.07760623041800042, 0.8707038019700049]\n"
     ]
    },
    {
     "name": "stderr",
     "output_type": "stream",
     "text": [
      "Initial filtering of formulas: 100%|██████████████| 2/2 [00:00<00:00, 60.96it/s]\n",
      "Computing chunks: 100%|████████████████████████| 2/2 [00:00<00:00, 95325.09it/s]\n",
      "Splitting the experimental spectrum into chunks: 131072it [00:00, 3419474.87it/s]\n",
      "Deconvolving chunks: 100%|███████████████████████| 1/1 [02:44<00:00, 164.05s/it]\n"
     ]
    },
    {
     "name": "stdout",
     "output_type": "stream",
     "text": [
      "Estimation for 0.05 and 0.25 done\n",
      "It took: 164.1894552707672 seconds.\n",
      "[0.07758316489500043, 0.8706466750770049]\n"
     ]
    },
    {
     "name": "stderr",
     "output_type": "stream",
     "text": [
      "Initial filtering of formulas: 100%|██████████████| 2/2 [00:00<00:00, 61.45it/s]\n",
      "Computing chunks: 100%|████████████████████████| 2/2 [00:00<00:00, 83055.52it/s]\n",
      "Splitting the experimental spectrum into chunks: 131072it [00:00, 3376339.24it/s]\n",
      "Deconvolving chunks: 100%|███████████████████████| 1/1 [02:54<00:00, 174.09s/it]\n"
     ]
    },
    {
     "name": "stdout",
     "output_type": "stream",
     "text": [
      "Estimation for 0.05 and 0.26 done\n",
      "It took: 174.23742055892944 seconds.\n",
      "[0.07755450745300042, 0.8706545501920049]\n"
     ]
    },
    {
     "name": "stderr",
     "output_type": "stream",
     "text": [
      "Initial filtering of formulas: 100%|██████████████| 2/2 [00:00<00:00, 61.89it/s]\n",
      "Computing chunks: 100%|████████████████████████| 2/2 [00:00<00:00, 90200.09it/s]\n",
      "Splitting the experimental spectrum into chunks: 131072it [00:00, 3466850.47it/s]\n",
      "Deconvolving chunks: 100%|███████████████████████| 1/1 [03:15<00:00, 195.94s/it]\n"
     ]
    },
    {
     "name": "stdout",
     "output_type": "stream",
     "text": [
      "Estimation for 0.05 and 0.27 done\n",
      "It took: 196.08036923408508 seconds.\n",
      "[0.07752769723400044, 0.8706615908590049]\n"
     ]
    },
    {
     "name": "stderr",
     "output_type": "stream",
     "text": [
      "Initial filtering of formulas: 100%|██████████████| 2/2 [00:00<00:00, 54.60it/s]\n",
      "Computing chunks: 100%|████████████████████████| 2/2 [00:00<00:00, 87381.33it/s]\n",
      "Splitting the experimental spectrum into chunks: 131072it [00:00, 3139936.68it/s]\n",
      "Deconvolving chunks: 100%|███████████████████████| 1/1 [02:55<00:00, 175.49s/it]\n"
     ]
    },
    {
     "name": "stdout",
     "output_type": "stream",
     "text": [
      "Estimation for 0.05 and 0.28 done\n",
      "It took: 175.66830778121948 seconds.\n",
      "[0.07749911160300044, 0.8706616743020049]\n"
     ]
    },
    {
     "name": "stderr",
     "output_type": "stream",
     "text": [
      "Initial filtering of formulas: 100%|██████████████| 2/2 [00:00<00:00, 59.94it/s]\n",
      "Computing chunks: 100%|████████████████████████| 2/2 [00:00<00:00, 84733.41it/s]\n",
      "Splitting the experimental spectrum into chunks: 131072it [00:00, 3238753.96it/s]\n",
      "Deconvolving chunks: 100%|███████████████████████| 1/1 [02:59<00:00, 179.15s/it]\n"
     ]
    },
    {
     "name": "stdout",
     "output_type": "stream",
     "text": [
      "Estimation for 0.05 and 0.29000000000000004 done\n",
      "It took: 179.30748176574707 seconds.\n",
      "[0.07747878183500043, 0.8705795326840049]\n"
     ]
    },
    {
     "name": "stderr",
     "output_type": "stream",
     "text": [
      "Initial filtering of formulas: 100%|██████████████| 2/2 [00:00<00:00, 61.29it/s]\n",
      "Computing chunks: 100%|████████████████████████| 2/2 [00:00<00:00, 93206.76it/s]\n",
      "Splitting the experimental spectrum into chunks: 131072it [00:00, 3377563.10it/s]\n",
      "Deconvolving chunks: 100%|███████████████████████| 1/1 [02:48<00:00, 168.75s/it]\n"
     ]
    },
    {
     "name": "stdout",
     "output_type": "stream",
     "text": [
      "Estimation for 0.060000000000000005 and 0.01 done\n",
      "It took: 168.90927934646606 seconds.\n",
      "[0.3822875493520021, 0.6176618002760035]\n"
     ]
    },
    {
     "name": "stderr",
     "output_type": "stream",
     "text": [
      "Initial filtering of formulas: 100%|██████████████| 2/2 [00:00<00:00, 62.36it/s]\n",
      "Computing chunks: 100%|████████████████████████| 2/2 [00:00<00:00, 91180.52it/s]\n",
      "Splitting the experimental spectrum into chunks: 131072it [00:00, 3352762.46it/s]\n",
      "Deconvolving chunks: 100%|███████████████████████| 1/1 [02:20<00:00, 140.38s/it]\n"
     ]
    },
    {
     "name": "stdout",
     "output_type": "stream",
     "text": [
      "Estimation for 0.060000000000000005 and 0.02 done\n",
      "It took: 140.5268530845642 seconds.\n",
      "[0.13889883862900076, 0.8526614638850047]\n"
     ]
    },
    {
     "name": "stderr",
     "output_type": "stream",
     "text": [
      "Initial filtering of formulas: 100%|██████████████| 2/2 [00:00<00:00, 61.28it/s]\n",
      "Computing chunks: 100%|████████████████████████| 2/2 [00:00<00:00, 15563.28it/s]\n",
      "Splitting the experimental spectrum into chunks: 131072it [00:00, 3437327.28it/s]\n",
      "Deconvolving chunks: 100%|███████████████████████| 1/1 [03:21<00:00, 201.08s/it]\n"
     ]
    },
    {
     "name": "stdout",
     "output_type": "stream",
     "text": [
      "Estimation for 0.060000000000000005 and 0.03 done\n",
      "It took: 201.2304449081421 seconds.\n",
      "[0.11840064174000066, 0.8693535859020047]\n"
     ]
    },
    {
     "name": "stderr",
     "output_type": "stream",
     "text": [
      "Initial filtering of formulas: 100%|██████████████| 2/2 [00:00<00:00, 62.12it/s]\n",
      "Computing chunks: 100%|████████████████████████| 2/2 [00:00<00:00, 88301.14it/s]\n",
      "Splitting the experimental spectrum into chunks: 131072it [00:00, 3461916.57it/s]\n",
      "Deconvolving chunks: 100%|███████████████████████| 1/1 [02:19<00:00, 139.20s/it]\n"
     ]
    },
    {
     "name": "stdout",
     "output_type": "stream",
     "text": [
      "Estimation for 0.060000000000000005 and 0.04 done\n",
      "It took: 139.34301900863647 seconds.\n",
      "[0.11668104049000065, 0.8698183416070048]\n"
     ]
    },
    {
     "name": "stderr",
     "output_type": "stream",
     "text": [
      "Initial filtering of formulas: 100%|██████████████| 2/2 [00:00<00:00, 63.16it/s]\n",
      "Computing chunks: 100%|████████████████████████| 2/2 [00:00<00:00, 76959.71it/s]\n",
      "Splitting the experimental spectrum into chunks: 131072it [00:00, 3450292.55it/s]\n",
      "Deconvolving chunks: 100%|███████████████████████| 1/1 [02:49<00:00, 169.87s/it]\n"
     ]
    },
    {
     "name": "stdout",
     "output_type": "stream",
     "text": [
      "Estimation for 0.060000000000000005 and 0.05 done\n",
      "It took: 170.03339886665344 seconds.\n",
      "[0.11494924390300064, 0.8697294959960048]\n"
     ]
    },
    {
     "name": "stderr",
     "output_type": "stream",
     "text": [
      "Initial filtering of formulas: 100%|██████████████| 2/2 [00:00<00:00, 62.37it/s]\n",
      "Computing chunks: 100%|████████████████████████| 2/2 [00:00<00:00, 92182.51it/s]\n",
      "Splitting the experimental spectrum into chunks: 131072it [00:00, 3454259.82it/s]\n",
      "Deconvolving chunks: 100%|███████████████████████| 1/1 [02:51<00:00, 171.08s/it]\n"
     ]
    },
    {
     "name": "stdout",
     "output_type": "stream",
     "text": [
      "Estimation for 0.060000000000000005 and 0.060000000000000005 done\n",
      "It took: 171.2251799106598 seconds.\n",
      "[0.11533232198700064, 0.8686269847060047]\n"
     ]
    },
    {
     "name": "stderr",
     "output_type": "stream",
     "text": [
      "Initial filtering of formulas: 100%|██████████████| 2/2 [00:00<00:00, 62.33it/s]\n",
      "Computing chunks: 100%|████████████████████████| 2/2 [00:00<00:00, 81442.80it/s]\n",
      "Splitting the experimental spectrum into chunks: 131072it [00:00, 3489826.22it/s]\n",
      "Deconvolving chunks: 100%|███████████████████████| 1/1 [03:11<00:00, 191.56s/it]\n"
     ]
    },
    {
     "name": "stdout",
     "output_type": "stream",
     "text": [
      "Estimation for 0.060000000000000005 and 0.06999999999999999 done\n",
      "It took: 191.73148703575134 seconds.\n",
      "[0.11536665619000064, 0.8687781849220048]\n"
     ]
    },
    {
     "name": "stderr",
     "output_type": "stream",
     "text": [
      "Initial filtering of formulas: 100%|██████████████| 2/2 [00:00<00:00, 62.23it/s]\n",
      "Computing chunks: 100%|████████████████████████| 2/2 [00:00<00:00, 89240.51it/s]\n",
      "Splitting the experimental spectrum into chunks: 131072it [00:00, 3425013.79it/s]\n",
      "Deconvolving chunks: 100%|███████████████████████| 1/1 [03:08<00:00, 188.97s/it]\n"
     ]
    },
    {
     "name": "stdout",
     "output_type": "stream",
     "text": [
      "Estimation for 0.060000000000000005 and 0.08 done\n",
      "It took: 189.11167073249817 seconds.\n",
      "[0.11522464220000064, 0.8691629406430048]\n"
     ]
    },
    {
     "name": "stderr",
     "output_type": "stream",
     "text": [
      "Initial filtering of formulas: 100%|██████████████| 2/2 [00:00<00:00, 61.38it/s]\n",
      "Computing chunks: 100%|████████████████████████| 2/2 [00:00<00:00, 87381.33it/s]\n",
      "Splitting the experimental spectrum into chunks: 131072it [00:00, 3353682.84it/s]\n",
      "Deconvolving chunks: 100%|███████████████████████| 1/1 [03:08<00:00, 188.07s/it]\n"
     ]
    },
    {
     "name": "stdout",
     "output_type": "stream",
     "text": [
      "Estimation for 0.060000000000000005 and 0.09 done\n",
      "It took: 188.21317100524902 seconds.\n",
      "[0.11448861217100063, 0.8688014075210048]\n"
     ]
    },
    {
     "name": "stderr",
     "output_type": "stream",
     "text": [
      "Initial filtering of formulas: 100%|██████████████| 2/2 [00:00<00:00, 61.75it/s]\n",
      "Computing chunks: 100%|████████████████████████| 2/2 [00:00<00:00, 97541.95it/s]\n",
      "Splitting the experimental spectrum into chunks: 131072it [00:00, 3423606.06it/s]\n",
      "Deconvolving chunks: 100%|███████████████████████| 1/1 [03:02<00:00, 182.84s/it]\n"
     ]
    },
    {
     "name": "stdout",
     "output_type": "stream",
     "text": [
      "Estimation for 0.060000000000000005 and 0.09999999999999999 done\n",
      "It took: 182.98237943649292 seconds.\n",
      "[0.11297478116600063, 0.8688552308040047]\n"
     ]
    },
    {
     "name": "stderr",
     "output_type": "stream",
     "text": [
      "Initial filtering of formulas: 100%|██████████████| 2/2 [00:00<00:00, 62.27it/s]\n",
      "Computing chunks: 100%|████████████████████████| 2/2 [00:00<00:00, 73584.28it/s]\n",
      "Splitting the experimental spectrum into chunks: 131072it [00:00, 3435651.74it/s]\n",
      "Deconvolving chunks: 100%|███████████████████████| 1/1 [02:56<00:00, 176.27s/it]\n"
     ]
    },
    {
     "name": "stdout",
     "output_type": "stream",
     "text": [
      "Estimation for 0.060000000000000005 and 0.11 done\n",
      "It took: 176.41513586044312 seconds.\n",
      "[0.11212745200800063, 0.8691712872690047]\n"
     ]
    },
    {
     "name": "stderr",
     "output_type": "stream",
     "text": [
      "Initial filtering of formulas: 100%|██████████████| 2/2 [00:00<00:00, 60.89it/s]\n",
      "Computing chunks: 100%|████████████████████████| 2/2 [00:00<00:00, 74898.29it/s]\n",
      "Splitting the experimental spectrum into chunks: 131072it [00:00, 3394308.70it/s]\n",
      "Deconvolving chunks: 100%|███████████████████████| 1/1 [02:49<00:00, 169.13s/it]\n"
     ]
    },
    {
     "name": "stdout",
     "output_type": "stream",
     "text": [
      "Estimation for 0.060000000000000005 and 0.12 done\n",
      "It took: 169.2766819000244 seconds.\n",
      "[0.11125015118500063, 0.8696267323650048]\n"
     ]
    },
    {
     "name": "stderr",
     "output_type": "stream",
     "text": [
      "Initial filtering of formulas: 100%|██████████████| 2/2 [00:00<00:00, 63.61it/s]\n",
      "Computing chunks: 100%|████████████████████████| 2/2 [00:00<00:00, 73584.28it/s]\n",
      "Splitting the experimental spectrum into chunks: 131072it [00:00, 3437628.20it/s]\n",
      "Deconvolving chunks: 100%|███████████████████████| 1/1 [02:59<00:00, 179.65s/it]\n"
     ]
    },
    {
     "name": "stdout",
     "output_type": "stream",
     "text": [
      "Estimation for 0.060000000000000005 and 0.13 done\n",
      "It took: 179.81086921691895 seconds.\n",
      "[0.10889823979900061, 0.8701865498680049]\n"
     ]
    },
    {
     "name": "stderr",
     "output_type": "stream",
     "text": [
      "Initial filtering of formulas: 100%|██████████████| 2/2 [00:00<00:00, 63.41it/s]\n",
      "Computing chunks: 100%|████████████████████████| 2/2 [00:00<00:00, 89240.51it/s]\n",
      "Splitting the experimental spectrum into chunks: 131072it [00:00, 3467440.86it/s]\n",
      "Deconvolving chunks: 100%|███████████████████████| 1/1 [02:48<00:00, 168.18s/it]\n"
     ]
    },
    {
     "name": "stdout",
     "output_type": "stream",
     "text": [
      "Estimation for 0.060000000000000005 and 0.14 done\n",
      "It took: 168.32775044441223 seconds.\n",
      "[0.10069419981600056, 0.8719131159380049]\n"
     ]
    },
    {
     "name": "stderr",
     "output_type": "stream",
     "text": [
      "Initial filtering of formulas: 100%|██████████████| 2/2 [00:00<00:00, 63.26it/s]\n",
      "Computing chunks: 100%|████████████████████████| 2/2 [00:00<00:00, 93206.76it/s]\n",
      "Splitting the experimental spectrum into chunks: 131072it [00:00, 3454737.38it/s]\n",
      "Deconvolving chunks: 100%|███████████████████████| 1/1 [02:41<00:00, 161.13s/it]\n"
     ]
    },
    {
     "name": "stdout",
     "output_type": "stream",
     "text": [
      "Estimation for 0.060000000000000005 and 0.15000000000000002 done\n",
      "It took: 161.27583503723145 seconds.\n",
      "[0.09593666935900053, 0.8730129375660048]\n"
     ]
    },
    {
     "name": "stderr",
     "output_type": "stream",
     "text": [
      "Initial filtering of formulas: 100%|██████████████| 2/2 [00:00<00:00, 58.22it/s]\n",
      "Computing chunks: 100%|████████████████████████| 2/2 [00:00<00:00, 86480.49it/s]\n",
      "Splitting the experimental spectrum into chunks: 131072it [00:00, 3326007.71it/s]\n",
      "Deconvolving chunks: 100%|███████████████████████| 1/1 [02:54<00:00, 174.43s/it]\n"
     ]
    },
    {
     "name": "stdout",
     "output_type": "stream",
     "text": [
      "Estimation for 0.060000000000000005 and 0.16 done\n",
      "It took: 174.59846878051758 seconds.\n",
      "[0.09318017842600052, 0.8735889633430048]\n"
     ]
    },
    {
     "name": "stderr",
     "output_type": "stream",
     "text": [
      "Initial filtering of formulas: 100%|██████████████| 2/2 [00:00<00:00, 61.30it/s]\n",
      "Computing chunks: 100%|████████████████████████| 2/2 [00:00<00:00, 94254.02it/s]\n",
      "Splitting the experimental spectrum into chunks: 131072it [00:00, 3406781.97it/s]\n",
      "Deconvolving chunks: 100%|███████████████████████| 1/1 [02:49<00:00, 169.94s/it]\n"
     ]
    },
    {
     "name": "stdout",
     "output_type": "stream",
     "text": [
      "Estimation for 0.060000000000000005 and 0.17 done\n",
      "It took: 170.0797266960144 seconds.\n",
      "[0.08711458250200048, 0.8746969481310048]\n"
     ]
    },
    {
     "name": "stderr",
     "output_type": "stream",
     "text": [
      "Initial filtering of formulas: 100%|██████████████| 2/2 [00:00<00:00, 62.48it/s]\n",
      "Computing chunks: 100%|████████████████████████| 2/2 [00:00<00:00, 95325.09it/s]\n",
      "Splitting the experimental spectrum into chunks: 131072it [00:00, 3424096.50it/s]\n",
      "Deconvolving chunks: 100%|███████████████████████| 1/1 [02:54<00:00, 174.71s/it]\n"
     ]
    },
    {
     "name": "stdout",
     "output_type": "stream",
     "text": [
      "Estimation for 0.060000000000000005 and 0.18000000000000002 done\n",
      "It took: 174.8504180908203 seconds.\n",
      "[0.08468058463800048, 0.8746829003390049]\n"
     ]
    },
    {
     "name": "stderr",
     "output_type": "stream",
     "text": [
      "Initial filtering of formulas: 100%|██████████████| 2/2 [00:00<00:00, 61.69it/s]\n",
      "Computing chunks: 100%|████████████████████████| 2/2 [00:00<00:00, 85598.04it/s]\n",
      "Splitting the experimental spectrum into chunks: 131072it [00:00, 3387093.84it/s]\n",
      "Deconvolving chunks: 100%|███████████████████████| 1/1 [02:57<00:00, 177.36s/it]\n"
     ]
    },
    {
     "name": "stdout",
     "output_type": "stream",
     "text": [
      "Estimation for 0.060000000000000005 and 0.19 done\n",
      "It took: 177.53136348724365 seconds.\n",
      "[0.08391125649900047, 0.8746281578830049]\n"
     ]
    },
    {
     "name": "stderr",
     "output_type": "stream",
     "text": [
      "Initial filtering of formulas: 100%|██████████████| 2/2 [00:00<00:00, 58.33it/s]\n",
      "Computing chunks: 100%|████████████████████████| 2/2 [00:00<00:00, 87381.33it/s]\n",
      "Splitting the experimental spectrum into chunks: 131072it [00:00, 3339341.64it/s]\n",
      "Deconvolving chunks: 100%|███████████████████████| 1/1 [02:54<00:00, 174.46s/it]\n"
     ]
    },
    {
     "name": "stdout",
     "output_type": "stream",
     "text": [
      "Estimation for 0.060000000000000005 and 0.2 done\n",
      "It took: 174.60954356193542 seconds.\n",
      "[0.08391398162000047, 0.8731124585940049]\n"
     ]
    },
    {
     "name": "stderr",
     "output_type": "stream",
     "text": [
      "Initial filtering of formulas: 100%|██████████████| 2/2 [00:00<00:00, 61.59it/s]\n",
      "Computing chunks: 100%|████████████████████████| 2/2 [00:00<00:00, 76959.71it/s]\n",
      "Splitting the experimental spectrum into chunks: 131072it [00:00, 3353355.54it/s]\n",
      "Deconvolving chunks: 100%|███████████████████████| 1/1 [03:15<00:00, 195.51s/it]\n"
     ]
    },
    {
     "name": "stdout",
     "output_type": "stream",
     "text": [
      "Estimation for 0.060000000000000005 and 0.21000000000000002 done\n",
      "It took: 195.67589926719666 seconds.\n",
      "[0.08398394906200048, 0.8717992046350049]\n"
     ]
    },
    {
     "name": "stderr",
     "output_type": "stream",
     "text": [
      "Initial filtering of formulas: 100%|██████████████| 2/2 [00:00<00:00, 59.96it/s]\n",
      "Computing chunks: 100%|████████████████████████| 2/2 [00:00<00:00, 95325.09it/s]\n",
      "Splitting the experimental spectrum into chunks: 131072it [00:00, 3455497.40it/s]\n",
      "Deconvolving chunks: 100%|███████████████████████| 1/1 [05:01<00:00, 301.65s/it]\n"
     ]
    },
    {
     "name": "stdout",
     "output_type": "stream",
     "text": [
      "Estimation for 0.060000000000000005 and 0.22 done\n",
      "It took: 301.7910866737366 seconds.\n",
      "[0.08398069840700047, 0.8718017088560048]\n"
     ]
    },
    {
     "name": "stderr",
     "output_type": "stream",
     "text": [
      "Initial filtering of formulas: 100%|██████████████| 2/2 [00:00<00:00, 55.06it/s]\n",
      "Computing chunks: 100%|████████████████████████| 2/2 [00:00<00:00, 83055.52it/s]\n",
      "Splitting the experimental spectrum into chunks: 131072it [00:00, 3020968.31it/s]\n",
      "Deconvolving chunks: 100%|███████████████████████| 1/1 [02:56<00:00, 176.69s/it]\n"
     ]
    },
    {
     "name": "stdout",
     "output_type": "stream",
     "text": [
      "Estimation for 0.060000000000000005 and 0.23 done\n",
      "It took: 176.84544587135315 seconds.\n",
      "[0.08398080572200047, 0.8718035999900049]\n"
     ]
    },
    {
     "name": "stderr",
     "output_type": "stream",
     "text": [
      "Initial filtering of formulas: 100%|██████████████| 2/2 [00:00<00:00, 59.99it/s]\n",
      "Computing chunks: 100%|████████████████████████| 2/2 [00:00<00:00, 78398.21it/s]\n",
      "Splitting the experimental spectrum into chunks: 131072it [00:00, 3328686.12it/s]\n",
      "Deconvolving chunks: 100%|███████████████████████| 1/1 [02:57<00:00, 177.50s/it]\n"
     ]
    },
    {
     "name": "stdout",
     "output_type": "stream",
     "text": [
      "Estimation for 0.060000000000000005 and 0.24000000000000002 done\n",
      "It took: 177.65440011024475 seconds.\n",
      "[0.08397803310100047, 0.8718111072040049]\n"
     ]
    },
    {
     "name": "stderr",
     "output_type": "stream",
     "text": [
      "Initial filtering of formulas: 100%|██████████████| 2/2 [00:00<00:00, 62.02it/s]\n",
      "Computing chunks: 100%|████████████████████████| 2/2 [00:00<00:00, 93206.76it/s]\n",
      "Splitting the experimental spectrum into chunks: 131072it [00:00, 3434428.34it/s]\n",
      "Deconvolving chunks: 100%|███████████████████████| 1/1 [02:51<00:00, 171.56s/it]\n"
     ]
    },
    {
     "name": "stdout",
     "output_type": "stream",
     "text": [
      "Estimation for 0.060000000000000005 and 0.25 done\n",
      "It took: 171.70606875419617 seconds.\n",
      "[0.08397867409300047, 0.8718179326140049]\n"
     ]
    },
    {
     "name": "stderr",
     "output_type": "stream",
     "text": [
      "Initial filtering of formulas: 100%|██████████████| 2/2 [00:00<00:00, 62.49it/s]\n",
      "Computing chunks: 100%|████████████████████████| 2/2 [00:00<00:00, 96420.78it/s]\n",
      "Splitting the experimental spectrum into chunks: 131072it [00:00, 3477068.44it/s]\n",
      "Deconvolving chunks: 100%|███████████████████████| 1/1 [03:00<00:00, 180.63s/it]\n"
     ]
    },
    {
     "name": "stdout",
     "output_type": "stream",
     "text": [
      "Estimation for 0.060000000000000005 and 0.26 done\n",
      "It took: 180.79026556015015 seconds.\n",
      "[0.08397564304400047, 0.8718236630960049]\n"
     ]
    },
    {
     "name": "stderr",
     "output_type": "stream",
     "text": [
      "Initial filtering of formulas: 100%|██████████████| 2/2 [00:00<00:00, 59.35it/s]\n",
      "Computing chunks: 100%|████████████████████████| 2/2 [00:00<00:00, 40329.85it/s]\n",
      "Splitting the experimental spectrum into chunks: 131072it [00:00, 2947783.96it/s]\n",
      "Deconvolving chunks: 100%|███████████████████████| 1/1 [02:54<00:00, 174.57s/it]\n"
     ]
    },
    {
     "name": "stdout",
     "output_type": "stream",
     "text": [
      "Estimation for 0.060000000000000005 and 0.27 done\n",
      "It took: 174.72886538505554 seconds.\n",
      "[0.08397615497500047, 0.8718296407620049]\n"
     ]
    },
    {
     "name": "stderr",
     "output_type": "stream",
     "text": [
      "Initial filtering of formulas: 100%|██████████████| 2/2 [00:00<00:00, 60.04it/s]\n",
      "Computing chunks: 100%|████████████████████████| 2/2 [00:00<00:00, 83886.08it/s]\n",
      "Splitting the experimental spectrum into chunks: 131072it [00:00, 3556655.61it/s]\n",
      "Deconvolving chunks: 100%|███████████████████████| 1/1 [02:51<00:00, 171.57s/it]\n"
     ]
    },
    {
     "name": "stdout",
     "output_type": "stream",
     "text": [
      "Estimation for 0.060000000000000005 and 0.28 done\n",
      "It took: 171.70978260040283 seconds.\n",
      "[0.08397286069600048, 0.8718361429290049]\n"
     ]
    },
    {
     "name": "stderr",
     "output_type": "stream",
     "text": [
      "Initial filtering of formulas: 100%|██████████████| 2/2 [00:00<00:00, 62.00it/s]\n",
      "Computing chunks: 100%|████████████████████████| 2/2 [00:00<00:00, 86480.49it/s]\n",
      "Splitting the experimental spectrum into chunks: 131072it [00:00, 3413233.17it/s]\n",
      "Deconvolving chunks: 100%|███████████████████████| 1/1 [02:59<00:00, 179.60s/it]\n"
     ]
    },
    {
     "name": "stdout",
     "output_type": "stream",
     "text": [
      "Estimation for 0.060000000000000005 and 0.29000000000000004 done\n",
      "It took: 179.74720692634583 seconds.\n",
      "[0.08397373969100047, 0.8718444473040049]\n"
     ]
    },
    {
     "name": "stderr",
     "output_type": "stream",
     "text": [
      "Initial filtering of formulas: 100%|██████████████| 2/2 [00:00<00:00, 61.48it/s]\n",
      "Computing chunks: 100%|████████████████████████| 2/2 [00:00<00:00, 90200.09it/s]\n",
      "Splitting the experimental spectrum into chunks: 131072it [00:00, 3411030.67it/s]\n",
      "Deconvolving chunks: 100%|███████████████████████| 1/1 [02:46<00:00, 166.43s/it]\n"
     ]
    },
    {
     "name": "stdout",
     "output_type": "stream",
     "text": [
      "Estimation for 0.06999999999999999 and 0.01 done\n",
      "It took: 166.5744707584381 seconds.\n",
      "[0.3828147877800021, 0.6171824972740034]\n"
     ]
    },
    {
     "name": "stderr",
     "output_type": "stream",
     "text": [
      "Initial filtering of formulas: 100%|██████████████| 2/2 [00:00<00:00, 60.77it/s]\n",
      "Computing chunks: 100%|████████████████████████| 2/2 [00:00<00:00, 84733.41it/s]\n",
      "Splitting the experimental spectrum into chunks: 131072it [00:00, 3400102.75it/s]\n",
      "Deconvolving chunks: 100%|███████████████████████| 1/1 [03:42<00:00, 222.42s/it]\n"
     ]
    },
    {
     "name": "stdout",
     "output_type": "stream",
     "text": [
      "Estimation for 0.06999999999999999 and 0.02 done\n",
      "It took: 222.5621840953827 seconds.\n",
      "[0.14118794083400077, 0.8524446657460047]\n"
     ]
    },
    {
     "name": "stderr",
     "output_type": "stream",
     "text": [
      "Initial filtering of formulas: 100%|██████████████| 2/2 [00:00<00:00, 61.37it/s]\n",
      "Computing chunks: 100%|████████████████████████| 2/2 [00:00<00:00, 95325.09it/s]\n",
      "Splitting the experimental spectrum into chunks: 131072it [00:00, 3443571.22it/s]\n",
      "Deconvolving chunks: 100%|███████████████████████| 1/1 [02:45<00:00, 165.21s/it]\n"
     ]
    },
    {
     "name": "stdout",
     "output_type": "stream",
     "text": [
      "Estimation for 0.06999999999999999 and 0.03 done\n",
      "It took: 165.36756443977356 seconds.\n",
      "[0.12245388661400068, 0.8677241464030048]\n"
     ]
    },
    {
     "name": "stderr",
     "output_type": "stream",
     "text": [
      "Initial filtering of formulas: 100%|██████████████| 2/2 [00:00<00:00, 61.03it/s]\n",
      "Computing chunks: 100%|████████████████████████| 2/2 [00:00<00:00, 89240.51it/s]\n",
      "Splitting the experimental spectrum into chunks: 131072it [00:00, 3467550.22it/s]\n",
      "Deconvolving chunks: 100%|███████████████████████| 1/1 [03:31<00:00, 211.75s/it]\n"
     ]
    },
    {
     "name": "stdout",
     "output_type": "stream",
     "text": [
      "Estimation for 0.06999999999999999 and 0.04 done\n",
      "It took: 211.92273354530334 seconds.\n",
      "[0.11859385057200066, 0.8699385364030048]\n"
     ]
    },
    {
     "name": "stderr",
     "output_type": "stream",
     "text": [
      "Initial filtering of formulas: 100%|██████████████| 2/2 [00:00<00:00, 61.10it/s]\n",
      "Computing chunks: 100%|████████████████████████| 2/2 [00:00<00:00, 76260.07it/s]\n",
      "Splitting the experimental spectrum into chunks: 131072it [00:00, 3385091.68it/s]\n",
      "Deconvolving chunks: 100%|███████████████████████| 1/1 [02:54<00:00, 174.06s/it]\n"
     ]
    },
    {
     "name": "stdout",
     "output_type": "stream",
     "text": [
      "Estimation for 0.06999999999999999 and 0.05 done\n",
      "It took: 174.2067415714264 seconds.\n",
      "[0.11687724878300065, 0.8694609024400047]\n"
     ]
    },
    {
     "name": "stderr",
     "output_type": "stream",
     "text": [
      "Initial filtering of formulas: 100%|██████████████| 2/2 [00:00<00:00, 62.76it/s]\n",
      "Computing chunks: 100%|████████████████████████| 2/2 [00:00<00:00, 91180.52it/s]\n",
      "Splitting the experimental spectrum into chunks: 131072it [00:00, 3443096.74it/s]\n",
      "Deconvolving chunks: 100%|███████████████████████| 1/1 [02:39<00:00, 159.36s/it]\n"
     ]
    },
    {
     "name": "stdout",
     "output_type": "stream",
     "text": [
      "Estimation for 0.06999999999999999 and 0.060000000000000005 done\n",
      "It took: 159.4986596107483 seconds.\n",
      "[0.11557968785400063, 0.8698186667340048]\n"
     ]
    },
    {
     "name": "stderr",
     "output_type": "stream",
     "text": [
      "Initial filtering of formulas: 100%|██████████████| 2/2 [00:00<00:00, 62.08it/s]\n",
      "Computing chunks: 100%|████████████████████████| 2/2 [00:00<00:00, 98689.51it/s]\n",
      "Splitting the experimental spectrum into chunks: 131072it [00:00, 3424288.45it/s]\n",
      "Deconvolving chunks: 100%|███████████████████████| 1/1 [03:06<00:00, 186.99s/it]\n"
     ]
    },
    {
     "name": "stdout",
     "output_type": "stream",
     "text": [
      "Estimation for 0.06999999999999999 and 0.06999999999999999 done\n",
      "It took: 187.15672063827515 seconds.\n",
      "[0.11581643194100064, 0.8707741833550049]\n"
     ]
    },
    {
     "name": "stderr",
     "output_type": "stream",
     "text": [
      "Initial filtering of formulas: 100%|██████████████| 2/2 [00:00<00:00, 62.40it/s]\n",
      "Computing chunks: 100%|████████████████████████| 2/2 [00:00<00:00, 97541.95it/s]\n",
      "Splitting the experimental spectrum into chunks: 131072it [00:00, 3438230.18it/s]\n",
      "Deconvolving chunks: 100%|███████████████████████| 1/1 [02:56<00:00, 176.49s/it]\n"
     ]
    },
    {
     "name": "stdout",
     "output_type": "stream",
     "text": [
      "Estimation for 0.06999999999999999 and 0.08 done\n",
      "It took: 176.62772727012634 seconds.\n",
      "[0.11608650526700064, 0.8707967071770049]\n"
     ]
    },
    {
     "name": "stderr",
     "output_type": "stream",
     "text": [
      "Initial filtering of formulas: 100%|██████████████| 2/2 [00:00<00:00, 61.93it/s]\n",
      "Computing chunks: 100%|████████████████████████| 2/2 [00:00<00:00, 94254.02it/s]\n",
      "Splitting the experimental spectrum into chunks: 131072it [00:00, 3416053.97it/s]\n",
      "Deconvolving chunks: 100%|███████████████████████| 1/1 [02:57<00:00, 177.79s/it]\n"
     ]
    },
    {
     "name": "stdout",
     "output_type": "stream",
     "text": [
      "Estimation for 0.06999999999999999 and 0.09 done\n",
      "It took: 177.93770265579224 seconds.\n",
      "[0.11624151362100064, 0.8700936848160049]\n"
     ]
    },
    {
     "name": "stderr",
     "output_type": "stream",
     "text": [
      "Initial filtering of formulas: 100%|██████████████| 2/2 [00:00<00:00, 60.39it/s]\n",
      "Computing chunks: 100%|████████████████████████| 2/2 [00:00<00:00, 86480.49it/s]\n",
      "Splitting the experimental spectrum into chunks: 131072it [00:00, 3374101.26it/s]\n",
      "Deconvolving chunks: 100%|███████████████████████| 1/1 [03:01<00:00, 181.76s/it]\n"
     ]
    },
    {
     "name": "stdout",
     "output_type": "stream",
     "text": [
      "Estimation for 0.06999999999999999 and 0.09999999999999999 done\n",
      "It took: 181.9108293056488 seconds.\n",
      "[0.11649000755000065, 0.8685538883260048]\n"
     ]
    },
    {
     "name": "stderr",
     "output_type": "stream",
     "text": [
      "Initial filtering of formulas: 100%|██████████████| 2/2 [00:00<00:00, 60.98it/s]\n",
      "Computing chunks: 100%|████████████████████████| 2/2 [00:00<00:00, 78398.21it/s]\n",
      "Splitting the experimental spectrum into chunks: 131072it [00:00, 3434836.05it/s]\n",
      "Deconvolving chunks: 100%|███████████████████████| 1/1 [02:55<00:00, 175.35s/it]\n"
     ]
    },
    {
     "name": "stdout",
     "output_type": "stream",
     "text": [
      "Estimation for 0.06999999999999999 and 0.11 done\n",
      "It took: 175.49445962905884 seconds.\n",
      "[0.11639813978700066, 0.8687896923490048]\n"
     ]
    },
    {
     "name": "stderr",
     "output_type": "stream",
     "text": [
      "Initial filtering of formulas: 100%|██████████████| 2/2 [00:00<00:00, 60.14it/s]\n",
      "Computing chunks: 100%|████████████████████████| 2/2 [00:00<00:00, 63072.24it/s]\n",
      "Splitting the experimental spectrum into chunks: 131072it [00:00, 3382425.81it/s]\n",
      "Deconvolving chunks: 100%|███████████████████████| 1/1 [02:46<00:00, 166.57s/it]\n"
     ]
    },
    {
     "name": "stdout",
     "output_type": "stream",
     "text": [
      "Estimation for 0.06999999999999999 and 0.12 done\n",
      "It took: 166.73525881767273 seconds.\n",
      "[0.11596029371900064, 0.8690203949900047]\n"
     ]
    },
    {
     "name": "stderr",
     "output_type": "stream",
     "text": [
      "Initial filtering of formulas: 100%|██████████████| 2/2 [00:00<00:00, 60.63it/s]\n",
      "Computing chunks: 100%|████████████████████████| 2/2 [00:00<00:00, 79137.81it/s]\n",
      "Splitting the experimental spectrum into chunks: 131072it [00:00, 3379847.25it/s]\n",
      "Deconvolving chunks: 100%|███████████████████████| 1/1 [03:12<00:00, 192.03s/it]\n"
     ]
    },
    {
     "name": "stdout",
     "output_type": "stream",
     "text": [
      "Estimation for 0.06999999999999999 and 0.13 done\n",
      "It took: 192.17359447479248 seconds.\n",
      "[0.11476341620300064, 0.8694831627450048]\n"
     ]
    },
    {
     "name": "stderr",
     "output_type": "stream",
     "text": [
      "Initial filtering of formulas: 100%|██████████████| 2/2 [00:00<00:00, 60.27it/s]\n",
      "Computing chunks: 100%|████████████████████████| 2/2 [00:00<00:00, 93206.76it/s]\n",
      "Splitting the experimental spectrum into chunks: 131072it [00:00, 3341716.54it/s]\n",
      "Deconvolving chunks: 100%|███████████████████████| 1/1 [02:55<00:00, 175.49s/it]\n"
     ]
    },
    {
     "name": "stdout",
     "output_type": "stream",
     "text": [
      "Estimation for 0.06999999999999999 and 0.14 done\n",
      "It took: 175.64036226272583 seconds.\n",
      "[0.11308576848800063, 0.8699935431180048]\n"
     ]
    },
    {
     "name": "stderr",
     "output_type": "stream",
     "text": [
      "Initial filtering of formulas: 100%|██████████████| 2/2 [00:00<00:00, 61.64it/s]\n",
      "Computing chunks: 100%|████████████████████████| 2/2 [00:00<00:00, 95325.09it/s]\n",
      "Splitting the experimental spectrum into chunks: 131072it [00:00, 3368952.73it/s]\n",
      "Deconvolving chunks: 100%|███████████████████████| 1/1 [02:51<00:00, 171.91s/it]\n"
     ]
    },
    {
     "name": "stdout",
     "output_type": "stream",
     "text": [
      "Estimation for 0.06999999999999999 and 0.15000000000000002 done\n",
      "It took: 172.0839774608612 seconds.\n",
      "[0.11223873774200062, 0.8702034988690048]\n"
     ]
    },
    {
     "name": "stderr",
     "output_type": "stream",
     "text": [
      "Initial filtering of formulas: 100%|██████████████| 2/2 [00:00<00:00, 61.76it/s]\n",
      "Computing chunks: 100%|████████████████████████| 2/2 [00:00<00:00, 90200.09it/s]\n",
      "Splitting the experimental spectrum into chunks: 131072it [00:00, 3381094.45it/s]\n",
      "Deconvolving chunks: 100%|███████████████████████| 1/1 [02:59<00:00, 179.47s/it]\n"
     ]
    },
    {
     "name": "stdout",
     "output_type": "stream",
     "text": [
      "Estimation for 0.06999999999999999 and 0.16 done\n",
      "It took: 179.6282148361206 seconds.\n",
      "[0.11121395462200061, 0.8704145910750049]\n"
     ]
    },
    {
     "name": "stderr",
     "output_type": "stream",
     "text": [
      "Initial filtering of formulas: 100%|██████████████| 2/2 [00:00<00:00, 61.61it/s]\n",
      "Computing chunks: 100%|████████████████████████| 2/2 [00:00<00:00, 88301.14it/s]\n",
      "Splitting the experimental spectrum into chunks: 131072it [00:00, 3391816.62it/s]\n",
      "Deconvolving chunks: 100%|███████████████████████| 1/1 [02:55<00:00, 175.86s/it]\n"
     ]
    },
    {
     "name": "stdout",
     "output_type": "stream",
     "text": [
      "Estimation for 0.06999999999999999 and 0.17 done\n",
      "It took: 176.01727676391602 seconds.\n",
      "[0.1083748479220006, 0.8709440343950049]\n"
     ]
    },
    {
     "name": "stderr",
     "output_type": "stream",
     "text": [
      "Initial filtering of formulas: 100%|██████████████| 2/2 [00:00<00:00, 62.37it/s]\n",
      "Computing chunks: 100%|████████████████████████| 2/2 [00:00<00:00, 92182.51it/s]\n",
      "Splitting the experimental spectrum into chunks: 131072it [00:00, 3401912.19it/s]\n",
      "Deconvolving chunks: 100%|███████████████████████| 1/1 [02:44<00:00, 164.64s/it]\n"
     ]
    },
    {
     "name": "stdout",
     "output_type": "stream",
     "text": [
      "Estimation for 0.06999999999999999 and 0.18000000000000002 done\n",
      "It took: 164.78303384780884 seconds.\n",
      "[0.10040937575700055, 0.8725311916960049]\n"
     ]
    },
    {
     "name": "stderr",
     "output_type": "stream",
     "text": [
      "Initial filtering of formulas: 100%|██████████████| 2/2 [00:00<00:00, 60.00it/s]\n",
      "Computing chunks: 100%|████████████████████████| 2/2 [00:00<00:00, 91180.52it/s]\n",
      "Splitting the experimental spectrum into chunks: 131072it [00:00, 3418688.10it/s]\n",
      "Deconvolving chunks: 100%|███████████████████████| 1/1 [02:52<00:00, 172.74s/it]\n"
     ]
    },
    {
     "name": "stdout",
     "output_type": "stream",
     "text": [
      "Estimation for 0.06999999999999999 and 0.19 done\n",
      "It took: 172.89544558525085 seconds.\n",
      "[0.09617023205100053, 0.8731588333890049]\n"
     ]
    },
    {
     "name": "stderr",
     "output_type": "stream",
     "text": [
      "Initial filtering of formulas: 100%|██████████████| 2/2 [00:00<00:00, 52.41it/s]\n",
      "Computing chunks: 100%|████████████████████████| 2/2 [00:00<00:00, 84733.41it/s]\n",
      "Splitting the experimental spectrum into chunks: 131072it [00:00, 3115911.32it/s]\n",
      "Deconvolving chunks: 100%|███████████████████████| 1/1 [02:44<00:00, 164.29s/it]\n"
     ]
    },
    {
     "name": "stdout",
     "output_type": "stream",
     "text": [
      "Estimation for 0.06999999999999999 and 0.2 done\n",
      "It took: 164.44707083702087 seconds.\n",
      "[0.09445724810800053, 0.8731507575170049]\n"
     ]
    },
    {
     "name": "stderr",
     "output_type": "stream",
     "text": [
      "Initial filtering of formulas: 100%|██████████████| 2/2 [00:00<00:00, 60.60it/s]\n",
      "Computing chunks: 100%|████████████████████████| 2/2 [00:00<00:00, 86480.49it/s]\n",
      "Splitting the experimental spectrum into chunks: 131072it [00:00, 3369840.71it/s]\n",
      "Deconvolving chunks: 100%|███████████████████████| 1/1 [02:44<00:00, 164.45s/it]\n"
     ]
    },
    {
     "name": "stdout",
     "output_type": "stream",
     "text": [
      "Estimation for 0.06999999999999999 and 0.21000000000000002 done\n",
      "It took: 164.59153413772583 seconds.\n",
      "[0.0894172145910005, 0.8717115418990049]\n"
     ]
    },
    {
     "name": "stderr",
     "output_type": "stream",
     "text": [
      "Initial filtering of formulas: 100%|██████████████| 2/2 [00:00<00:00, 60.13it/s]\n",
      "Computing chunks: 100%|████████████████████████| 2/2 [00:00<00:00, 92182.51it/s]\n",
      "Splitting the experimental spectrum into chunks: 131072it [00:00, 3392360.80it/s]\n",
      "Deconvolving chunks: 100%|███████████████████████| 1/1 [02:59<00:00, 179.98s/it]\n"
     ]
    },
    {
     "name": "stdout",
     "output_type": "stream",
     "text": [
      "Estimation for 0.06999999999999999 and 0.22 done\n",
      "It took: 180.12368321418762 seconds.\n",
      "[0.08792511922500049, 0.8717142704720049]\n"
     ]
    },
    {
     "name": "stderr",
     "output_type": "stream",
     "text": [
      "Initial filtering of formulas: 100%|██████████████| 2/2 [00:00<00:00, 62.13it/s]\n",
      "Computing chunks: 100%|████████████████████████| 2/2 [00:00<00:00, 91180.52it/s]\n",
      "Splitting the experimental spectrum into chunks: 131072it [00:00, 3407309.84it/s]\n",
      "Deconvolving chunks: 100%|███████████████████████| 1/1 [02:51<00:00, 171.59s/it]\n"
     ]
    },
    {
     "name": "stdout",
     "output_type": "stream",
     "text": [
      "Estimation for 0.06999999999999999 and 0.23 done\n",
      "It took: 171.7540831565857 seconds.\n",
      "[0.08758415755300049, 0.8718256480550048]\n"
     ]
    },
    {
     "name": "stderr",
     "output_type": "stream",
     "text": [
      "Initial filtering of formulas: 100%|██████████████| 2/2 [00:00<00:00, 62.29it/s]\n",
      "Computing chunks: 100%|████████████████████████| 2/2 [00:00<00:00, 82241.25it/s]\n",
      "Splitting the experimental spectrum into chunks: 131072it [00:00, 3441738.75it/s]\n",
      "Deconvolving chunks: 100%|███████████████████████| 1/1 [02:57<00:00, 177.02s/it]\n"
     ]
    },
    {
     "name": "stdout",
     "output_type": "stream",
     "text": [
      "Estimation for 0.06999999999999999 and 0.24000000000000002 done\n",
      "It took: 177.16676926612854 seconds.\n",
      "[0.08757603895500049, 0.8718333103410049]\n"
     ]
    },
    {
     "name": "stderr",
     "output_type": "stream",
     "text": [
      "Initial filtering of formulas: 100%|██████████████| 2/2 [00:00<00:00, 61.28it/s]\n",
      "Computing chunks: 100%|████████████████████████| 2/2 [00:00<00:00, 88301.14it/s]\n",
      "Splitting the experimental spectrum into chunks: 131072it [00:00, 3389934.29it/s]\n",
      "Deconvolving chunks: 100%|███████████████████████| 1/1 [02:56<00:00, 176.65s/it]\n"
     ]
    },
    {
     "name": "stdout",
     "output_type": "stream",
     "text": [
      "Estimation for 0.06999999999999999 and 0.25 done\n",
      "It took: 176.8035135269165 seconds.\n",
      "[0.08756142042700049, 0.8718382053900049]\n"
     ]
    },
    {
     "name": "stderr",
     "output_type": "stream",
     "text": [
      "Initial filtering of formulas: 100%|██████████████| 2/2 [00:00<00:00, 61.89it/s]\n",
      "Computing chunks: 100%|████████████████████████| 2/2 [00:00<00:00, 90200.09it/s]\n",
      "Splitting the experimental spectrum into chunks: 131072it [00:00, 3396111.97it/s]\n",
      "Deconvolving chunks: 100%|███████████████████████| 1/1 [02:54<00:00, 174.92s/it]\n"
     ]
    },
    {
     "name": "stdout",
     "output_type": "stream",
     "text": [
      "Estimation for 0.06999999999999999 and 0.26 done\n",
      "It took: 175.0921926498413 seconds.\n",
      "[0.08755524614900048, 0.8718429567950049]\n"
     ]
    },
    {
     "name": "stderr",
     "output_type": "stream",
     "text": [
      "Initial filtering of formulas: 100%|██████████████| 2/2 [00:00<00:00, 62.74it/s]\n",
      "Computing chunks: 100%|████████████████████████| 2/2 [00:00<00:00, 93206.76it/s]\n",
      "Splitting the experimental spectrum into chunks: 131072it [00:00, 3386050.75it/s]\n",
      "Deconvolving chunks: 100%|███████████████████████| 1/1 [02:52<00:00, 172.75s/it]\n"
     ]
    },
    {
     "name": "stdout",
     "output_type": "stream",
     "text": [
      "Estimation for 0.06999999999999999 and 0.27 done\n",
      "It took: 172.8906810283661 seconds.\n",
      "[0.08754305713500049, 0.8718496973130049]\n"
     ]
    },
    {
     "name": "stderr",
     "output_type": "stream",
     "text": [
      "Initial filtering of formulas: 100%|██████████████| 2/2 [00:00<00:00, 61.89it/s]\n",
      "Computing chunks: 100%|████████████████████████| 2/2 [00:00<00:00, 94254.02it/s]\n",
      "Splitting the experimental spectrum into chunks: 131072it [00:00, 3440963.23it/s]\n",
      "Deconvolving chunks: 100%|███████████████████████| 1/1 [02:41<00:00, 161.55s/it]\n"
     ]
    },
    {
     "name": "stdout",
     "output_type": "stream",
     "text": [
      "Estimation for 0.06999999999999999 and 0.28 done\n",
      "It took: 161.6987509727478 seconds.\n",
      "[0.08753413939000049, 0.8718572291110049]\n"
     ]
    },
    {
     "name": "stderr",
     "output_type": "stream",
     "text": [
      "Initial filtering of formulas: 100%|██████████████| 2/2 [00:00<00:00, 61.09it/s]\n",
      "Computing chunks: 100%|████████████████████████| 2/2 [00:00<00:00, 95325.09it/s]\n",
      "Splitting the experimental spectrum into chunks: 131072it [00:00, 3365611.52it/s]\n",
      "Deconvolving chunks: 100%|███████████████████████| 1/1 [02:47<00:00, 167.44s/it]\n"
     ]
    },
    {
     "name": "stdout",
     "output_type": "stream",
     "text": [
      "Estimation for 0.06999999999999999 and 0.29000000000000004 done\n",
      "It took: 167.5931360721588 seconds.\n",
      "[0.08752926338300049, 0.8718686197400048]\n"
     ]
    },
    {
     "name": "stderr",
     "output_type": "stream",
     "text": [
      "Initial filtering of formulas: 100%|██████████████| 2/2 [00:00<00:00, 61.89it/s]\n",
      "Computing chunks: 100%|████████████████████████| 2/2 [00:00<00:00, 66576.25it/s]\n",
      "Splitting the experimental spectrum into chunks: 131072it [00:00, 3451765.66it/s]\n",
      "Deconvolving chunks: 100%|███████████████████████| 1/1 [02:15<00:00, 135.56s/it]\n"
     ]
    },
    {
     "name": "stdout",
     "output_type": "stream",
     "text": [
      "Estimation for 0.08 and 0.01 done\n",
      "It took: 135.70900654792786 seconds.\n",
      "[0.3828158271040021, 0.6171841728960035]\n"
     ]
    },
    {
     "name": "stderr",
     "output_type": "stream",
     "text": [
      "Initial filtering of formulas: 100%|██████████████| 2/2 [00:00<00:00, 54.88it/s]\n",
      "Computing chunks: 100%|████████████████████████| 2/2 [00:00<00:00, 94254.02it/s]\n",
      "Splitting the experimental spectrum into chunks: 131072it [00:00, 3157937.20it/s]\n",
      "Deconvolving chunks: 100%|███████████████████████| 1/1 [02:51<00:00, 171.18s/it]\n"
     ]
    },
    {
     "name": "stdout",
     "output_type": "stream",
     "text": [
      "Estimation for 0.08 and 0.02 done\n",
      "It took: 171.33456683158875 seconds.\n",
      "[0.1444583411360008, 0.8508789526210048]\n"
     ]
    },
    {
     "name": "stderr",
     "output_type": "stream",
     "text": [
      "Initial filtering of formulas: 100%|██████████████| 2/2 [00:00<00:00, 61.70it/s]\n",
      "Computing chunks: 100%|████████████████████████| 2/2 [00:00<00:00, 90200.09it/s]\n",
      "Splitting the experimental spectrum into chunks: 131072it [00:00, 3330440.50it/s]\n",
      "Deconvolving chunks: 100%|███████████████████████| 1/1 [03:03<00:00, 183.29s/it]\n"
     ]
    },
    {
     "name": "stdout",
     "output_type": "stream",
     "text": [
      "Estimation for 0.08 and 0.03 done\n",
      "It took: 183.45852732658386 seconds.\n",
      "[0.12854242726800072, 0.8646364952230048]\n"
     ]
    },
    {
     "name": "stderr",
     "output_type": "stream",
     "text": [
      "Initial filtering of formulas: 100%|██████████████| 2/2 [00:00<00:00, 62.80it/s]\n",
      "Computing chunks: 100%|████████████████████████| 2/2 [00:00<00:00, 86480.49it/s]\n",
      "Splitting the experimental spectrum into chunks: 131072it [00:00, 3426508.11it/s]\n",
      "Deconvolving chunks: 100%|███████████████████████| 1/1 [02:53<00:00, 173.58s/it]\n"
     ]
    },
    {
     "name": "stdout",
     "output_type": "stream",
     "text": [
      "Estimation for 0.08 and 0.04 done\n",
      "It took: 173.72044682502747 seconds.\n",
      "[0.12076605276900067, 0.8691464885650048]\n"
     ]
    },
    {
     "name": "stderr",
     "output_type": "stream",
     "text": [
      "Initial filtering of formulas: 100%|██████████████| 2/2 [00:00<00:00, 61.10it/s]\n",
      "Computing chunks: 100%|████████████████████████| 2/2 [00:00<00:00, 99864.38it/s]\n",
      "Splitting the experimental spectrum into chunks: 131072it [00:00, 3470220.58it/s]\n",
      "Deconvolving chunks: 100%|███████████████████████| 1/1 [02:40<00:00, 160.80s/it]\n"
     ]
    },
    {
     "name": "stdout",
     "output_type": "stream",
     "text": [
      "Estimation for 0.08 and 0.05 done\n",
      "It took: 160.9480276107788 seconds.\n",
      "[0.11940413080500066, 0.8693326648880048]\n"
     ]
    },
    {
     "name": "stderr",
     "output_type": "stream",
     "text": [
      "Initial filtering of formulas: 100%|██████████████| 2/2 [00:00<00:00, 60.82it/s]\n",
      "Computing chunks: 100%|████████████████████████| 2/2 [00:00<00:00, 89240.51it/s]\n",
      "Splitting the experimental spectrum into chunks: 131072it [00:00, 3409867.04it/s]\n",
      "Deconvolving chunks: 100%|███████████████████████| 1/1 [02:45<00:00, 165.89s/it]\n"
     ]
    },
    {
     "name": "stdout",
     "output_type": "stream",
     "text": [
      "Estimation for 0.08 and 0.060000000000000005 done\n",
      "It took: 166.04408597946167 seconds.\n",
      "[0.11712364587700065, 0.8709711452350049]\n"
     ]
    },
    {
     "name": "stderr",
     "output_type": "stream",
     "text": [
      "Initial filtering of formulas: 100%|██████████████| 2/2 [00:00<00:00, 60.01it/s]\n",
      "Computing chunks: 100%|████████████████████████| 2/2 [00:00<00:00, 90200.09it/s]\n",
      "Splitting the experimental spectrum into chunks: 131072it [00:00, 3398652.39it/s]\n",
      "Deconvolving chunks: 100%|████████████████████| 1/1 [1:30:29<00:00, 5429.27s/it]\n"
     ]
    },
    {
     "name": "stdout",
     "output_type": "stream",
     "text": [
      "Estimation for 0.08 and 0.06999999999999999 done\n",
      "It took: 5429.421314001083 seconds.\n",
      "[0.11624248796100063, 0.8721938335300049]\n"
     ]
    },
    {
     "name": "stderr",
     "output_type": "stream",
     "text": [
      "Initial filtering of formulas: 100%|██████████████| 2/2 [00:00<00:00, 64.00it/s]\n",
      "Computing chunks: 100%|████████████████████████| 2/2 [00:00<00:00, 81442.80it/s]\n",
      "Splitting the experimental spectrum into chunks: 131072it [00:00, 3507370.75it/s]\n",
      "Deconvolving chunks: 100%|███████████████████████| 1/1 [03:07<00:00, 187.27s/it]\n"
     ]
    },
    {
     "name": "stdout",
     "output_type": "stream",
     "text": [
      "Estimation for 0.08 and 0.08 done\n",
      "It took: 187.40547704696655 seconds.\n",
      "[0.11629640757400066, 0.8719290337900049]\n"
     ]
    },
    {
     "name": "stderr",
     "output_type": "stream",
     "text": [
      "Initial filtering of formulas: 100%|██████████████| 2/2 [00:00<00:00, 61.67it/s]\n",
      "Computing chunks: 100%|████████████████████████| 2/2 [00:00<00:00, 94254.02it/s]\n",
      "Splitting the experimental spectrum into chunks: 131072it [00:00, 3431941.31it/s]\n",
      "Deconvolving chunks: 100%|███████████████████████| 1/1 [03:05<00:00, 185.17s/it]\n"
     ]
    },
    {
     "name": "stdout",
     "output_type": "stream",
     "text": [
      "Estimation for 0.08 and 0.09 done\n",
      "It took: 185.33029222488403 seconds.\n",
      "[0.11638292838000065, 0.8710009037620049]\n"
     ]
    },
    {
     "name": "stderr",
     "output_type": "stream",
     "text": [
      "Initial filtering of formulas: 100%|██████████████| 2/2 [00:00<00:00, 62.06it/s]\n",
      "Computing chunks: 100%|████████████████████████| 2/2 [00:00<00:00, 76260.07it/s]\n",
      "Splitting the experimental spectrum into chunks: 131072it [00:00, 3263284.88it/s]\n",
      "Deconvolving chunks: 100%|███████████████████████| 1/1 [03:01<00:00, 181.87s/it]\n"
     ]
    },
    {
     "name": "stdout",
     "output_type": "stream",
     "text": [
      "Estimation for 0.08 and 0.09999999999999999 done\n",
      "It took: 182.01254296302795 seconds.\n",
      "[0.11657341066000065, 0.8698530538050048]\n"
     ]
    },
    {
     "name": "stderr",
     "output_type": "stream",
     "text": [
      "Initial filtering of formulas: 100%|██████████████| 2/2 [00:00<00:00, 61.51it/s]\n",
      "Computing chunks: 100%|████████████████████████| 2/2 [00:00<00:00, 55188.21it/s]\n",
      "Splitting the experimental spectrum into chunks: 131072it [00:00, 3391774.77it/s]\n",
      "Deconvolving chunks: 100%|███████████████████████| 1/1 [03:23<00:00, 203.75s/it]\n"
     ]
    },
    {
     "name": "stdout",
     "output_type": "stream",
     "text": [
      "Estimation for 0.08 and 0.11 done\n",
      "It took: 203.9191927909851 seconds.\n",
      "[0.11671234810100065, 0.8689845036370047]\n"
     ]
    },
    {
     "name": "stderr",
     "output_type": "stream",
     "text": [
      "Initial filtering of formulas: 100%|██████████████| 2/2 [00:00<00:00, 61.55it/s]\n",
      "Computing chunks: 100%|████████████████████████| 2/2 [00:00<00:00, 76260.07it/s]\n",
      "Splitting the experimental spectrum into chunks: 131072it [00:00, 3415480.95it/s]\n",
      "Deconvolving chunks: 100%|███████████████████████| 1/1 [02:56<00:00, 176.20s/it]\n"
     ]
    },
    {
     "name": "stdout",
     "output_type": "stream",
     "text": [
      "Estimation for 0.08 and 0.12 done\n",
      "It took: 176.35289072990417 seconds.\n",
      "[0.11665632026800066, 0.8692201650230048]\n"
     ]
    },
    {
     "name": "stderr",
     "output_type": "stream",
     "text": [
      "Initial filtering of formulas: 100%|██████████████| 2/2 [00:00<00:00, 60.32it/s]\n",
      "Computing chunks: 100%|████████████████████████| 2/2 [00:00<00:00, 95325.09it/s]\n",
      "Splitting the experimental spectrum into chunks: 131072it [00:00, 3405051.71it/s]\n",
      "Deconvolving chunks: 100%|███████████████████████| 1/1 [03:15<00:00, 195.50s/it]\n"
     ]
    },
    {
     "name": "stdout",
     "output_type": "stream",
     "text": [
      "Estimation for 0.08 and 0.13 done\n",
      "It took: 195.6513156890869 seconds.\n",
      "[0.11654003489900065, 0.8694024060900047]\n"
     ]
    },
    {
     "name": "stderr",
     "output_type": "stream",
     "text": [
      "Initial filtering of formulas: 100%|██████████████| 2/2 [00:00<00:00, 65.33it/s]\n",
      "Computing chunks: 100%|████████████████████████| 2/2 [00:00<00:00, 53430.62it/s]\n",
      "Splitting the experimental spectrum into chunks: 131072it [00:00, 3449772.93it/s]\n",
      "Deconvolving chunks: 100%|███████████████████████| 1/1 [03:00<00:00, 180.56s/it]\n"
     ]
    },
    {
     "name": "stdout",
     "output_type": "stream",
     "text": [
      "Estimation for 0.08 and 0.14 done\n",
      "It took: 180.69701409339905 seconds.\n",
      "[0.11636997670000065, 0.8694720202340048]\n"
     ]
    },
    {
     "name": "stderr",
     "output_type": "stream",
     "text": [
      "Initial filtering of formulas: 100%|██████████████| 2/2 [00:00<00:00, 58.83it/s]\n",
      "Computing chunks: 100%|████████████████████████| 2/2 [00:00<00:00, 91180.52it/s]\n",
      "Splitting the experimental spectrum into chunks: 131072it [00:00, 3305549.26it/s]\n",
      "Deconvolving chunks: 100%|███████████████████████| 1/1 [02:59<00:00, 179.46s/it]\n"
     ]
    },
    {
     "name": "stdout",
     "output_type": "stream",
     "text": [
      "Estimation for 0.08 and 0.15000000000000002 done\n",
      "It took: 179.6046233177185 seconds.\n",
      "[0.11586583043600064, 0.8696516686500048]\n"
     ]
    },
    {
     "name": "stderr",
     "output_type": "stream",
     "text": [
      "Initial filtering of formulas: 100%|██████████████| 2/2 [00:00<00:00, 62.57it/s]\n",
      "Computing chunks: 100%|████████████████████████| 2/2 [00:00<00:00, 79137.81it/s]\n",
      "Splitting the experimental spectrum into chunks: 131072it [00:00, 3474343.62it/s]\n",
      "Deconvolving chunks: 100%|███████████████████████| 1/1 [02:56<00:00, 176.00s/it]\n"
     ]
    },
    {
     "name": "stdout",
     "output_type": "stream",
     "text": [
      "Estimation for 0.08 and 0.16 done\n",
      "It took: 176.14713597297668 seconds.\n",
      "[0.11560420909700064, 0.8697306864220048]\n"
     ]
    },
    {
     "name": "stderr",
     "output_type": "stream",
     "text": [
      "Initial filtering of formulas: 100%|██████████████| 2/2 [00:00<00:00, 54.85it/s]\n",
      "Computing chunks: 100%|████████████████████████| 2/2 [00:00<00:00, 83055.52it/s]\n",
      "Splitting the experimental spectrum into chunks: 131072it [00:00, 3114957.95it/s]\n",
      "Deconvolving chunks: 100%|███████████████████████| 1/1 [02:57<00:00, 177.37s/it]\n"
     ]
    },
    {
     "name": "stdout",
     "output_type": "stream",
     "text": [
      "Estimation for 0.08 and 0.17 done\n",
      "It took: 177.5270595550537 seconds.\n",
      "[0.11382458631500064, 0.8703070752030049]\n"
     ]
    },
    {
     "name": "stderr",
     "output_type": "stream",
     "text": [
      "Initial filtering of formulas: 100%|██████████████| 2/2 [00:00<00:00, 57.60it/s]\n",
      "Computing chunks: 100%|████████████████████████| 2/2 [00:00<00:00, 53773.13it/s]\n",
      "Splitting the experimental spectrum into chunks: 131072it [00:00, 3391147.11it/s]\n",
      "Deconvolving chunks: 100%|███████████████████████| 1/1 [02:59<00:00, 179.81s/it]\n"
     ]
    },
    {
     "name": "stdout",
     "output_type": "stream",
     "text": [
      "Estimation for 0.08 and 0.18000000000000002 done\n",
      "It took: 179.96859431266785 seconds.\n",
      "[0.11254893869600062, 0.8708904546600049]\n"
     ]
    },
    {
     "name": "stderr",
     "output_type": "stream",
     "text": [
      "Initial filtering of formulas: 100%|██████████████| 2/2 [00:00<00:00, 60.58it/s]\n",
      "Computing chunks: 100%|████████████████████████| 2/2 [00:00<00:00, 93206.76it/s]\n",
      "Splitting the experimental spectrum into chunks: 131072it [00:00, 3369778.75it/s]\n",
      "Deconvolving chunks: 100%|███████████████████████| 1/1 [02:41<00:00, 161.85s/it]\n"
     ]
    },
    {
     "name": "stdout",
     "output_type": "stream",
     "text": [
      "Estimation for 0.08 and 0.19 done\n",
      "It took: 161.99702310562134 seconds.\n",
      "[0.11174447870900063, 0.8708147390760049]\n"
     ]
    },
    {
     "name": "stderr",
     "output_type": "stream",
     "text": [
      "Initial filtering of formulas: 100%|██████████████| 2/2 [00:00<00:00, 62.05it/s]\n",
      "Computing chunks: 100%|████████████████████████| 2/2 [00:00<00:00, 93206.76it/s]\n",
      "Splitting the experimental spectrum into chunks: 131072it [00:00, 3406486.44it/s]\n",
      "Deconvolving chunks: 100%|███████████████████████| 1/1 [02:41<00:00, 161.64s/it]\n"
     ]
    },
    {
     "name": "stdout",
     "output_type": "stream",
     "text": [
      "Estimation for 0.08 and 0.2 done\n",
      "It took: 161.7849247455597 seconds.\n",
      "[0.1107107664690006, 0.8708778119820049]\n"
     ]
    },
    {
     "name": "stderr",
     "output_type": "stream",
     "text": [
      "Initial filtering of formulas: 100%|██████████████| 2/2 [00:00<00:00, 62.96it/s]\n",
      "Computing chunks: 100%|████████████████████████| 2/2 [00:00<00:00, 50533.78it/s]\n",
      "Splitting the experimental spectrum into chunks: 131072it [00:00, 3603136.87it/s]\n",
      "Deconvolving chunks: 100%|███████████████████████| 1/1 [02:54<00:00, 174.04s/it]\n"
     ]
    },
    {
     "name": "stdout",
     "output_type": "stream",
     "text": [
      "Estimation for 0.08 and 0.21000000000000002 done\n",
      "It took: 174.18312811851501 seconds.\n",
      "[0.10984256184500062, 0.8700689122930049]\n"
     ]
    },
    {
     "name": "stderr",
     "output_type": "stream",
     "text": [
      "Initial filtering of formulas: 100%|██████████████| 2/2 [00:00<00:00, 61.73it/s]\n",
      "Computing chunks: 100%|████████████████████████| 2/2 [00:00<00:00, 86480.49it/s]\n",
      "Splitting the experimental spectrum into chunks: 131072it [00:00, 3391314.46it/s]\n",
      "Deconvolving chunks: 100%|███████████████████████| 1/1 [03:09<00:00, 189.54s/it]\n"
     ]
    },
    {
     "name": "stdout",
     "output_type": "stream",
     "text": [
      "Estimation for 0.08 and 0.22 done\n",
      "It took: 189.70752120018005 seconds.\n",
      "[0.10330104587000057, 0.8693324955620048]\n"
     ]
    },
    {
     "name": "stderr",
     "output_type": "stream",
     "text": [
      "Initial filtering of formulas: 100%|██████████████| 2/2 [00:00<00:00, 62.13it/s]\n",
      "Computing chunks: 100%|████████████████████████| 2/2 [00:00<00:00, 66052.03it/s]\n",
      "Splitting the experimental spectrum into chunks: 131072it [00:00, 3427854.11it/s]\n",
      "Deconvolving chunks: 100%|███████████████████████| 1/1 [02:59<00:00, 179.38s/it]\n"
     ]
    },
    {
     "name": "stdout",
     "output_type": "stream",
     "text": [
      "Estimation for 0.08 and 0.23 done\n",
      "It took: 179.52581644058228 seconds.\n",
      "[0.09746232551300055, 0.8707796962350048]\n"
     ]
    },
    {
     "name": "stderr",
     "output_type": "stream",
     "text": [
      "Initial filtering of formulas: 100%|██████████████| 2/2 [00:00<00:00, 59.94it/s]\n",
      "Computing chunks: 100%|████████████████████████| 2/2 [00:00<00:00, 92182.51it/s]\n",
      "Splitting the experimental spectrum into chunks: 131072it [00:00, 3391105.28it/s]\n",
      "Deconvolving chunks: 100%|███████████████████████| 1/1 [02:54<00:00, 174.17s/it]\n"
     ]
    },
    {
     "name": "stdout",
     "output_type": "stream",
     "text": [
      "Estimation for 0.08 and 0.24000000000000002 done\n",
      "It took: 174.31950998306274 seconds.\n",
      "[0.09655620398800054, 0.8718165710200049]\n"
     ]
    },
    {
     "name": "stderr",
     "output_type": "stream",
     "text": [
      "Initial filtering of formulas: 100%|██████████████| 2/2 [00:00<00:00, 63.34it/s]\n",
      "Computing chunks: 100%|████████████████████████| 2/2 [00:00<00:00, 86480.49it/s]\n",
      "Splitting the experimental spectrum into chunks: 131072it [00:00, 3409021.26it/s]\n",
      "Deconvolving chunks: 100%|███████████████████████| 1/1 [02:56<00:00, 176.64s/it]\n"
     ]
    },
    {
     "name": "stdout",
     "output_type": "stream",
     "text": [
      "Estimation for 0.08 and 0.25 done\n",
      "It took: 176.78198885917664 seconds.\n",
      "[0.09655452891700055, 0.8718213898800049]\n"
     ]
    },
    {
     "name": "stderr",
     "output_type": "stream",
     "text": [
      "Initial filtering of formulas: 100%|██████████████| 2/2 [00:00<00:00, 60.67it/s]\n",
      "Computing chunks: 100%|████████████████████████| 2/2 [00:00<00:00, 86480.49it/s]\n",
      "Splitting the experimental spectrum into chunks: 131072it [00:00, 3408344.94it/s]\n",
      "Deconvolving chunks: 100%|███████████████████████| 1/1 [02:57<00:00, 177.52s/it]\n"
     ]
    },
    {
     "name": "stdout",
     "output_type": "stream",
     "text": [
      "Estimation for 0.08 and 0.26 done\n",
      "It took: 177.66852641105652 seconds.\n",
      "[0.09655219080800054, 0.8718262903810049]\n"
     ]
    },
    {
     "name": "stderr",
     "output_type": "stream",
     "text": [
      "Initial filtering of formulas: 100%|██████████████| 2/2 [00:00<00:00, 61.40it/s]\n",
      "Computing chunks: 100%|████████████████████████| 2/2 [00:00<00:00, 56679.78it/s]\n",
      "Splitting the experimental spectrum into chunks: 131072it [00:00, 3391042.52it/s]\n",
      "Deconvolving chunks: 100%|███████████████████████| 1/1 [02:52<00:00, 172.68s/it]\n"
     ]
    },
    {
     "name": "stdout",
     "output_type": "stream",
     "text": [
      "Estimation for 0.08 and 0.27 done\n",
      "It took: 172.82522225379944 seconds.\n",
      "[0.09652178430300054, 0.8718362242460049]\n"
     ]
    },
    {
     "name": "stderr",
     "output_type": "stream",
     "text": [
      "Initial filtering of formulas: 100%|██████████████| 2/2 [00:00<00:00, 59.58it/s]\n",
      "Computing chunks: 100%|████████████████████████| 2/2 [00:00<00:00, 87381.33it/s]\n",
      "Splitting the experimental spectrum into chunks: 131072it [00:00, 3396363.74it/s]\n",
      "Deconvolving chunks: 100%|███████████████████████| 1/1 [02:49<00:00, 169.36s/it]\n"
     ]
    },
    {
     "name": "stdout",
     "output_type": "stream",
     "text": [
      "Estimation for 0.08 and 0.28 done\n",
      "It took: 169.52847480773926 seconds.\n",
      "[0.09649031771000054, 0.8718463170530049]\n"
     ]
    },
    {
     "name": "stderr",
     "output_type": "stream",
     "text": [
      "Initial filtering of formulas: 100%|██████████████| 2/2 [00:00<00:00, 60.28it/s]\n",
      "Computing chunks: 100%|████████████████████████| 2/2 [00:00<00:00, 90200.09it/s]\n",
      "Splitting the experimental spectrum into chunks: 131072it [00:00, 3297558.81it/s]\n",
      "Deconvolving chunks: 100%|███████████████████████| 1/1 [02:44<00:00, 164.66s/it]\n"
     ]
    },
    {
     "name": "stdout",
     "output_type": "stream",
     "text": [
      "Estimation for 0.08 and 0.29000000000000004 done\n",
      "It took: 164.81694674491882 seconds.\n",
      "[0.09646276689200053, 0.8718528063080049]\n"
     ]
    },
    {
     "name": "stderr",
     "output_type": "stream",
     "text": [
      "Initial filtering of formulas: 100%|██████████████| 2/2 [00:00<00:00, 60.10it/s]\n",
      "Computing chunks: 100%|████████████████████████| 2/2 [00:00<00:00, 49932.19it/s]\n",
      "Splitting the experimental spectrum into chunks: 131072it [00:00, 3348861.58it/s]\n",
      "Deconvolving chunks: 100%|███████████████████████| 1/1 [02:43<00:00, 163.48s/it]\n"
     ]
    },
    {
     "name": "stdout",
     "output_type": "stream",
     "text": [
      "Estimation for 0.09 and 0.01 done\n",
      "It took: 163.6315038204193 seconds.\n",
      "[0.3828183695700021, 0.6171816304300034]\n"
     ]
    },
    {
     "name": "stderr",
     "output_type": "stream",
     "text": [
      "Initial filtering of formulas: 100%|██████████████| 2/2 [00:00<00:00, 62.08it/s]\n",
      "Computing chunks: 100%|████████████████████████| 2/2 [00:00<00:00, 96420.78it/s]\n",
      "Splitting the experimental spectrum into chunks: 131072it [00:00, 3462723.37it/s]\n",
      "Deconvolving chunks: 100%|███████████████████████| 1/1 [03:25<00:00, 205.71s/it]\n"
     ]
    },
    {
     "name": "stdout",
     "output_type": "stream",
     "text": [
      "Estimation for 0.09 and 0.02 done\n",
      "It took: 205.87487840652466 seconds.\n",
      "[0.14810676904800082, 0.8480710289220047]\n"
     ]
    },
    {
     "name": "stderr",
     "output_type": "stream",
     "text": [
      "Initial filtering of formulas: 100%|██████████████| 2/2 [00:00<00:00, 56.72it/s]\n",
      "Computing chunks: 100%|████████████████████████| 2/2 [00:00<00:00, 83886.08it/s]\n",
      "Splitting the experimental spectrum into chunks: 131072it [00:00, 3098944.28it/s]\n",
      "Deconvolving chunks: 100%|███████████████████████| 1/1 [03:30<00:00, 210.10s/it]\n"
     ]
    },
    {
     "name": "stdout",
     "output_type": "stream",
     "text": [
      "Estimation for 0.09 and 0.03 done\n",
      "It took: 210.2739098072052 seconds.\n",
      "[0.13397669186800074, 0.8610601824740047]\n"
     ]
    },
    {
     "name": "stderr",
     "output_type": "stream",
     "text": [
      "Initial filtering of formulas: 100%|██████████████| 2/2 [00:00<00:00, 62.36it/s]\n",
      "Computing chunks: 100%|████████████████████████| 2/2 [00:00<00:00, 91180.52it/s]\n",
      "Splitting the experimental spectrum into chunks: 131072it [00:00, 3455193.35it/s]\n",
      "Deconvolving chunks: 100%|███████████████████████| 1/1 [03:05<00:00, 185.44s/it]\n"
     ]
    },
    {
     "name": "stdout",
     "output_type": "stream",
     "text": [
      "Estimation for 0.09 and 0.04 done\n",
      "It took: 185.6031858921051 seconds.\n",
      "[0.12382021591600069, 0.8679565368870048]\n"
     ]
    },
    {
     "name": "stderr",
     "output_type": "stream",
     "text": [
      "Initial filtering of formulas: 100%|██████████████| 2/2 [00:00<00:00, 62.19it/s]\n",
      "Computing chunks: 100%|████████████████████████| 2/2 [00:00<00:00, 92182.51it/s]\n",
      "Splitting the experimental spectrum into chunks: 131072it [00:00, 3442816.43it/s]\n",
      "Deconvolving chunks: 100%|███████████████████████| 1/1 [03:45<00:00, 225.39s/it]\n"
     ]
    },
    {
     "name": "stdout",
     "output_type": "stream",
     "text": [
      "Estimation for 0.09 and 0.05 done\n",
      "It took: 225.53151321411133 seconds.\n",
      "[0.11974299051200067, 0.8709888876300049]\n"
     ]
    },
    {
     "name": "stderr",
     "output_type": "stream",
     "text": [
      "Initial filtering of formulas: 100%|██████████████| 2/2 [00:00<00:00, 63.17it/s]\n",
      "Computing chunks: 100%|████████████████████████| 2/2 [00:00<00:00, 98689.51it/s]\n",
      "Splitting the experimental spectrum into chunks: 131072it [00:00, 3465998.04it/s]\n",
      "Deconvolving chunks: 100%|███████████████████████| 1/1 [02:57<00:00, 177.81s/it]\n"
     ]
    },
    {
     "name": "stdout",
     "output_type": "stream",
     "text": [
      "Estimation for 0.09 and 0.060000000000000005 done\n",
      "It took: 177.95178866386414 seconds.\n",
      "[0.11990949025600067, 0.8711709160810048]\n"
     ]
    },
    {
     "name": "stderr",
     "output_type": "stream",
     "text": [
      "Initial filtering of formulas: 100%|██████████████| 2/2 [00:00<00:00, 61.08it/s]\n",
      "Computing chunks: 100%|████████████████████████| 2/2 [00:00<00:00, 91180.52it/s]\n",
      "Splitting the experimental spectrum into chunks: 131072it [00:00, 3429393.69it/s]\n",
      "Deconvolving chunks: 100%|███████████████████████| 1/1 [02:57<00:00, 177.48s/it]\n"
     ]
    },
    {
     "name": "stdout",
     "output_type": "stream",
     "text": [
      "Estimation for 0.09 and 0.06999999999999999 done\n",
      "It took: 177.64243388175964 seconds.\n",
      "[0.11716894016400065, 0.8722995620820049]\n"
     ]
    },
    {
     "name": "stderr",
     "output_type": "stream",
     "text": [
      "Initial filtering of formulas: 100%|██████████████| 2/2 [00:00<00:00, 63.62it/s]\n",
      "Computing chunks: 100%|████████████████████████| 2/2 [00:00<00:00, 93206.76it/s]\n",
      "Splitting the experimental spectrum into chunks: 131072it [00:00, 3423115.76it/s]\n",
      "Deconvolving chunks: 100%|███████████████████████| 1/1 [02:52<00:00, 172.84s/it]\n"
     ]
    },
    {
     "name": "stdout",
     "output_type": "stream",
     "text": [
      "Estimation for 0.09 and 0.08 done\n",
      "It took: 172.98264908790588 seconds.\n",
      "[0.11641497594500065, 0.8727030298990048]\n"
     ]
    },
    {
     "name": "stderr",
     "output_type": "stream",
     "text": [
      "Initial filtering of formulas: 100%|██████████████| 2/2 [00:00<00:00, 61.02it/s]\n",
      "Computing chunks: 100%|████████████████████████| 2/2 [00:00<00:00, 84733.41it/s]\n",
      "Splitting the experimental spectrum into chunks: 131072it [00:00, 3448128.49it/s]\n",
      "Deconvolving chunks: 100%|███████████████████████| 1/1 [02:59<00:00, 179.84s/it]\n"
     ]
    },
    {
     "name": "stdout",
     "output_type": "stream",
     "text": [
      "Estimation for 0.09 and 0.09 done\n",
      "It took: 179.98098158836365 seconds.\n",
      "[0.11663973229000066, 0.8716032147220049]\n"
     ]
    },
    {
     "name": "stderr",
     "output_type": "stream",
     "text": [
      "Initial filtering of formulas: 100%|██████████████| 2/2 [00:00<00:00, 57.00it/s]\n",
      "Computing chunks: 100%|████████████████████████| 2/2 [00:00<00:00, 82241.25it/s]\n",
      "Splitting the experimental spectrum into chunks: 131072it [00:00, 3411009.51it/s]\n",
      "Deconvolving chunks: 100%|███████████████████████| 1/1 [03:00<00:00, 180.24s/it]\n"
     ]
    },
    {
     "name": "stdout",
     "output_type": "stream",
     "text": [
      "Estimation for 0.09 and 0.09999999999999999 done\n",
      "It took: 180.3968210220337 seconds.\n",
      "[0.11679495778700065, 0.8706336147400049]\n"
     ]
    },
    {
     "name": "stderr",
     "output_type": "stream",
     "text": [
      "Initial filtering of formulas: 100%|██████████████| 2/2 [00:00<00:00, 62.85it/s]\n",
      "Computing chunks: 100%|████████████████████████| 2/2 [00:00<00:00, 88301.14it/s]\n",
      "Splitting the experimental spectrum into chunks: 131072it [00:00, 3412767.02it/s]\n",
      "Deconvolving chunks: 100%|███████████████████████| 1/1 [02:44<00:00, 164.98s/it]\n"
     ]
    },
    {
     "name": "stdout",
     "output_type": "stream",
     "text": [
      "Estimation for 0.09 and 0.11 done\n",
      "It took: 165.12549257278442 seconds.\n",
      "[0.11696369975400066, 0.8695920363140047]\n"
     ]
    },
    {
     "name": "stderr",
     "output_type": "stream",
     "text": [
      "Initial filtering of formulas: 100%|██████████████| 2/2 [00:00<00:00, 61.90it/s]\n",
      "Computing chunks: 100%|████████████████████████| 2/2 [00:00<00:00, 94254.02it/s]\n",
      "Splitting the experimental spectrum into chunks: 131072it [00:00, 3458432.03it/s]\n",
      "Deconvolving chunks: 100%|███████████████████████| 1/1 [02:38<00:00, 158.83s/it]\n"
     ]
    },
    {
     "name": "stdout",
     "output_type": "stream",
     "text": [
      "Estimation for 0.09 and 0.12 done\n",
      "It took: 158.9729859828949 seconds.\n",
      "[0.11697553149100065, 0.8693338962950048]\n"
     ]
    },
    {
     "name": "stderr",
     "output_type": "stream",
     "text": [
      "Initial filtering of formulas: 100%|██████████████| 2/2 [00:00<00:00, 60.71it/s]\n",
      "Computing chunks: 100%|████████████████████████| 2/2 [00:00<00:00, 94254.02it/s]\n",
      "Splitting the experimental spectrum into chunks: 131072it [00:00, 3433763.35it/s]\n",
      "Deconvolving chunks: 100%|███████████████████████| 1/1 [03:29<00:00, 209.19s/it]\n"
     ]
    },
    {
     "name": "stdout",
     "output_type": "stream",
     "text": [
      "Estimation for 0.09 and 0.13 done\n",
      "It took: 209.33229732513428 seconds.\n",
      "[0.11680056878600065, 0.8693744207000048]\n"
     ]
    },
    {
     "name": "stderr",
     "output_type": "stream",
     "text": [
      "Initial filtering of formulas: 100%|██████████████| 2/2 [00:00<00:00, 61.78it/s]\n",
      "Computing chunks: 100%|████████████████████████| 2/2 [00:00<00:00, 79891.50it/s]\n",
      "Splitting the experimental spectrum into chunks: 131072it [00:00, 3468950.55it/s]\n",
      "Deconvolving chunks: 100%|███████████████████████| 1/1 [03:06<00:00, 186.35s/it]\n"
     ]
    },
    {
     "name": "stdout",
     "output_type": "stream",
     "text": [
      "Estimation for 0.09 and 0.14 done\n",
      "It took: 186.49608874320984 seconds.\n",
      "[0.11667634850300065, 0.8694203825230048]\n"
     ]
    },
    {
     "name": "stderr",
     "output_type": "stream",
     "text": [
      "Initial filtering of formulas: 100%|██████████████| 2/2 [00:00<00:00, 61.39it/s]\n",
      "Computing chunks: 100%|████████████████████████| 2/2 [00:00<00:00, 64527.75it/s]\n",
      "Splitting the experimental spectrum into chunks: 131072it [00:00, 3439004.46it/s]\n",
      "Deconvolving chunks: 100%|███████████████████████| 1/1 [03:09<00:00, 189.44s/it]\n"
     ]
    },
    {
     "name": "stdout",
     "output_type": "stream",
     "text": [
      "Estimation for 0.09 and 0.15000000000000002 done\n",
      "It took: 189.58326315879822 seconds.\n",
      "[0.11658444802400066, 0.8694529561640048]\n"
     ]
    },
    {
     "name": "stderr",
     "output_type": "stream",
     "text": [
      "Initial filtering of formulas: 100%|██████████████| 2/2 [00:00<00:00, 62.04it/s]\n",
      "Computing chunks: 100%|████████████████████████| 2/2 [00:00<00:00, 89240.51it/s]\n",
      "Splitting the experimental spectrum into chunks: 131072it [00:00, 3477948.33it/s]\n",
      "Deconvolving chunks: 100%|███████████████████████| 1/1 [03:06<00:00, 186.46s/it]\n"
     ]
    },
    {
     "name": "stdout",
     "output_type": "stream",
     "text": [
      "Estimation for 0.09 and 0.16 done\n",
      "It took: 186.61575174331665 seconds.\n",
      "[0.11611590080500064, 0.8696710246730047]\n"
     ]
    },
    {
     "name": "stderr",
     "output_type": "stream",
     "text": [
      "Initial filtering of formulas: 100%|██████████████| 2/2 [00:00<00:00, 62.49it/s]\n",
      "Computing chunks: 100%|████████████████████████| 2/2 [00:00<00:00, 94254.02it/s]\n",
      "Splitting the experimental spectrum into chunks: 131072it [00:00, 3463661.48it/s]\n",
      "Deconvolving chunks: 100%|███████████████████████| 1/1 [03:02<00:00, 182.32s/it]\n"
     ]
    },
    {
     "name": "stdout",
     "output_type": "stream",
     "text": [
      "Estimation for 0.09 and 0.17 done\n",
      "It took: 182.46018815040588 seconds.\n",
      "[0.11585747902300064, 0.8698539789040047]\n"
     ]
    },
    {
     "name": "stderr",
     "output_type": "stream",
     "text": [
      "Initial filtering of formulas: 100%|██████████████| 2/2 [00:00<00:00, 63.23it/s]\n",
      "Computing chunks: 100%|████████████████████████| 2/2 [00:00<00:00, 93206.76it/s]\n",
      "Splitting the experimental spectrum into chunks: 131072it [00:00, 3496129.11it/s]\n",
      "Deconvolving chunks: 100%|███████████████████████| 1/1 [03:10<00:00, 190.36s/it]\n"
     ]
    },
    {
     "name": "stdout",
     "output_type": "stream",
     "text": [
      "Estimation for 0.09 and 0.18000000000000002 done\n",
      "It took: 190.49962496757507 seconds.\n",
      "[0.11487811587300063, 0.8703285491700049]\n"
     ]
    },
    {
     "name": "stderr",
     "output_type": "stream",
     "text": [
      "Initial filtering of formulas: 100%|██████████████| 2/2 [00:00<00:00, 61.01it/s]\n",
      "Computing chunks: 100%|████████████████████████| 2/2 [00:00<00:00, 84733.41it/s]\n",
      "Splitting the experimental spectrum into chunks: 131072it [00:00, 3407056.45it/s]\n",
      "Deconvolving chunks: 100%|███████████████████████| 1/1 [02:59<00:00, 179.18s/it]\n"
     ]
    },
    {
     "name": "stdout",
     "output_type": "stream",
     "text": [
      "Estimation for 0.09 and 0.19 done\n",
      "It took: 179.3280532360077 seconds.\n",
      "[0.11366414426100062, 0.8708500053140049]\n"
     ]
    },
    {
     "name": "stderr",
     "output_type": "stream",
     "text": [
      "Initial filtering of formulas: 100%|██████████████| 2/2 [00:00<00:00, 59.71it/s]\n",
      "Computing chunks: 100%|████████████████████████| 2/2 [00:00<00:00, 91180.52it/s]\n",
      "Splitting the experimental spectrum into chunks: 131072it [00:00, 3395986.10it/s]\n",
      "Deconvolving chunks: 100%|███████████████████████| 1/1 [03:05<00:00, 185.37s/it]\n"
     ]
    },
    {
     "name": "stdout",
     "output_type": "stream",
     "text": [
      "Estimation for 0.09 and 0.2 done\n",
      "It took: 185.5174708366394 seconds.\n",
      "[0.11303088646500062, 0.8706573811550049]\n"
     ]
    },
    {
     "name": "stderr",
     "output_type": "stream",
     "text": [
      "Initial filtering of formulas: 100%|██████████████| 2/2 [00:00<00:00, 62.51it/s]\n",
      "Computing chunks: 100%|████████████████████████| 2/2 [00:00<00:00, 96420.78it/s]\n",
      "Splitting the experimental spectrum into chunks: 131072it [00:00, 3396930.37it/s]\n",
      "Deconvolving chunks: 100%|███████████████████████| 1/1 [03:02<00:00, 182.13s/it]\n"
     ]
    },
    {
     "name": "stdout",
     "output_type": "stream",
     "text": [
      "Estimation for 0.09 and 0.21000000000000002 done\n",
      "It took: 182.27763271331787 seconds.\n",
      "[0.11251045181100063, 0.8706348486180049]\n"
     ]
    },
    {
     "name": "stderr",
     "output_type": "stream",
     "text": [
      "Initial filtering of formulas: 100%|██████████████| 2/2 [00:00<00:00, 61.03it/s]\n",
      "Computing chunks: 100%|████████████████████████| 2/2 [00:00<00:00, 91180.52it/s]\n",
      "Splitting the experimental spectrum into chunks: 131072it [00:00, 3378974.76it/s]\n",
      "Deconvolving chunks: 100%|███████████████████████| 1/1 [03:01<00:00, 181.06s/it]\n"
     ]
    },
    {
     "name": "stdout",
     "output_type": "stream",
     "text": [
      "Estimation for 0.09 and 0.22 done\n",
      "It took: 181.2019681930542 seconds.\n",
      "[0.11227783590400063, 0.8693148140800048]\n"
     ]
    },
    {
     "name": "stderr",
     "output_type": "stream",
     "text": [
      "Initial filtering of formulas: 100%|██████████████| 2/2 [00:00<00:00, 62.70it/s]\n",
      "Computing chunks: 100%|████████████████████████| 2/2 [00:00<00:00, 83886.08it/s]\n",
      "Splitting the experimental spectrum into chunks: 131072it [00:00, 3499756.91it/s]\n",
      "Deconvolving chunks: 100%|███████████████████████| 1/1 [03:08<00:00, 188.98s/it]\n"
     ]
    },
    {
     "name": "stdout",
     "output_type": "stream",
     "text": [
      "Estimation for 0.09 and 0.23 done\n",
      "It took: 189.11970686912537 seconds.\n",
      "[0.11149043204400062, 0.8680948952030048]\n"
     ]
    },
    {
     "name": "stderr",
     "output_type": "stream",
     "text": [
      "Initial filtering of formulas: 100%|██████████████| 2/2 [00:00<00:00, 62.46it/s]\n",
      "Computing chunks: 100%|████████████████████████| 2/2 [00:00<00:00, 89240.51it/s]\n",
      "Splitting the experimental spectrum into chunks: 131072it [00:00, 3469016.22it/s]\n",
      "Deconvolving chunks: 100%|███████████████████████| 1/1 [02:58<00:00, 178.52s/it]\n"
     ]
    },
    {
     "name": "stdout",
     "output_type": "stream",
     "text": [
      "Estimation for 0.09 and 0.24000000000000002 done\n",
      "It took: 178.68006420135498 seconds.\n",
      "[0.1083958917780006, 0.8694071945000048]\n"
     ]
    },
    {
     "name": "stderr",
     "output_type": "stream",
     "text": [
      "Initial filtering of formulas: 100%|██████████████| 2/2 [00:00<00:00, 59.88it/s]\n",
      "Computing chunks: 100%|████████████████████████| 2/2 [00:00<00:00, 87381.33it/s]\n",
      "Splitting the experimental spectrum into chunks: 131072it [00:00, 3283476.86it/s]\n",
      "Deconvolving chunks: 100%|███████████████████████| 1/1 [03:05<00:00, 185.94s/it]\n"
     ]
    },
    {
     "name": "stdout",
     "output_type": "stream",
     "text": [
      "Estimation for 0.09 and 0.25 done\n",
      "It took: 186.08865213394165 seconds.\n",
      "[0.10246054627700057, 0.8718452510900049]\n"
     ]
    },
    {
     "name": "stderr",
     "output_type": "stream",
     "text": [
      "Initial filtering of formulas: 100%|██████████████| 2/2 [00:00<00:00, 54.83it/s]\n",
      "Computing chunks: 100%|████████████████████████| 2/2 [00:00<00:00, 76260.07it/s]\n",
      "Splitting the experimental spectrum into chunks: 131072it [00:00, 3129391.28it/s]\n",
      "Deconvolving chunks: 100%|███████████████████████| 1/1 [02:51<00:00, 171.11s/it]\n"
     ]
    },
    {
     "name": "stdout",
     "output_type": "stream",
     "text": [
      "Estimation for 0.09 and 0.26 done\n",
      "It took: 171.26333689689636 seconds.\n",
      "[0.10245443528300056, 0.8718532974620049]\n"
     ]
    },
    {
     "name": "stderr",
     "output_type": "stream",
     "text": [
      "Initial filtering of formulas: 100%|██████████████| 2/2 [00:00<00:00, 61.49it/s]\n",
      "Computing chunks: 100%|████████████████████████| 2/2 [00:00<00:00, 92182.51it/s]\n",
      "Splitting the experimental spectrum into chunks: 131072it [00:00, 3397329.22it/s]\n",
      "Deconvolving chunks: 100%|███████████████████████| 1/1 [02:51<00:00, 171.24s/it]\n"
     ]
    },
    {
     "name": "stdout",
     "output_type": "stream",
     "text": [
      "Estimation for 0.09 and 0.27 done\n",
      "It took: 171.4010510444641 seconds.\n",
      "[0.10245566734600058, 0.8718637819110049]\n"
     ]
    },
    {
     "name": "stderr",
     "output_type": "stream",
     "text": [
      "Initial filtering of formulas: 100%|██████████████| 2/2 [00:00<00:00, 63.58it/s]\n",
      "Computing chunks: 100%|███████████████████████| 2/2 [00:00<00:00, 101067.57it/s]\n",
      "Splitting the experimental spectrum into chunks: 131072it [00:00, 3465604.76it/s]\n",
      "Deconvolving chunks: 100%|███████████████████████| 1/1 [02:49<00:00, 169.21s/it]\n"
     ]
    },
    {
     "name": "stdout",
     "output_type": "stream",
     "text": [
      "Estimation for 0.09 and 0.28 done\n",
      "It took: 169.35739850997925 seconds.\n",
      "[0.10237366790800057, 0.8718726602570049]\n"
     ]
    },
    {
     "name": "stderr",
     "output_type": "stream",
     "text": [
      "Initial filtering of formulas: 100%|██████████████| 2/2 [00:00<00:00, 61.36it/s]\n",
      "Computing chunks: 100%|████████████████████████| 2/2 [00:00<00:00, 83886.08it/s]\n",
      "Splitting the experimental spectrum into chunks: 131072it [00:00, 3351229.62it/s]\n",
      "Deconvolving chunks: 100%|███████████████████████| 1/1 [02:55<00:00, 175.39s/it]\n"
     ]
    },
    {
     "name": "stdout",
     "output_type": "stream",
     "text": [
      "Estimation for 0.09 and 0.29000000000000004 done\n",
      "It took: 175.55511665344238 seconds.\n",
      "[0.10228073093500056, 0.8718800115820049]\n"
     ]
    },
    {
     "name": "stderr",
     "output_type": "stream",
     "text": [
      "Initial filtering of formulas: 100%|██████████████| 2/2 [00:00<00:00, 61.90it/s]\n",
      "Computing chunks: 100%|████████████████████████| 2/2 [00:00<00:00, 79891.50it/s]\n",
      "Splitting the experimental spectrum into chunks: 131072it [00:00, 3423691.34it/s]\n",
      "Deconvolving chunks: 100%|███████████████████████| 1/1 [02:15<00:00, 135.98s/it]\n"
     ]
    },
    {
     "name": "stdout",
     "output_type": "stream",
     "text": [
      "Estimation for 0.09999999999999999 and 0.01 done\n",
      "It took: 136.14058375358582 seconds.\n",
      "[0.3828183695700021, 0.6171816304300034]\n"
     ]
    },
    {
     "name": "stderr",
     "output_type": "stream",
     "text": [
      "Initial filtering of formulas: 100%|██████████████| 2/2 [00:00<00:00, 61.92it/s]\n",
      "Computing chunks: 100%|████████████████████████| 2/2 [00:00<00:00, 94254.02it/s]\n",
      "Splitting the experimental spectrum into chunks: 131072it [00:00, 3400944.11it/s]\n",
      "Deconvolving chunks: 100%|███████████████████████| 1/1 [03:04<00:00, 184.50s/it]\n"
     ]
    },
    {
     "name": "stdout",
     "output_type": "stream",
     "text": [
      "Estimation for 0.09999999999999999 and 0.02 done\n",
      "It took: 184.64162945747375 seconds.\n",
      "[0.15090571194300084, 0.8457377772720046]\n"
     ]
    },
    {
     "name": "stderr",
     "output_type": "stream",
     "text": [
      "Initial filtering of formulas: 100%|██████████████| 2/2 [00:00<00:00, 60.92it/s]\n",
      "Computing chunks: 100%|████████████████████████| 2/2 [00:00<00:00, 94254.02it/s]\n",
      "Splitting the experimental spectrum into chunks: 131072it [00:00, 3458279.74it/s]\n",
      "Deconvolving chunks: 100%|███████████████████████| 1/1 [03:39<00:00, 219.62s/it]\n"
     ]
    },
    {
     "name": "stdout",
     "output_type": "stream",
     "text": [
      "Estimation for 0.09999999999999999 and 0.03 done\n",
      "It took: 219.76346111297607 seconds.\n",
      "[0.13522486309900075, 0.8602638478880048]\n"
     ]
    },
    {
     "name": "stderr",
     "output_type": "stream",
     "text": [
      "Initial filtering of formulas: 100%|██████████████| 2/2 [00:00<00:00, 63.21it/s]\n",
      "Computing chunks: 100%|████████████████████████| 2/2 [00:00<00:00, 91180.52it/s]\n",
      "Splitting the experimental spectrum into chunks: 131072it [00:00, 3430677.73it/s]\n",
      "Deconvolving chunks: 100%|███████████████████████| 1/1 [03:13<00:00, 193.53s/it]\n"
     ]
    },
    {
     "name": "stdout",
     "output_type": "stream",
     "text": [
      "Estimation for 0.09999999999999999 and 0.04 done\n",
      "It took: 193.66919136047363 seconds.\n",
      "[0.1279677781990007, 0.8661411368480048]\n"
     ]
    },
    {
     "name": "stderr",
     "output_type": "stream",
     "text": [
      "Initial filtering of formulas: 100%|██████████████| 2/2 [00:00<00:00, 61.20it/s]\n",
      "Computing chunks: 100%|████████████████████████| 2/2 [00:00<00:00, 82241.25it/s]\n",
      "Splitting the experimental spectrum into chunks: 131072it [00:00, 3465626.60it/s]\n",
      "Deconvolving chunks: 100%|███████████████████████| 1/1 [02:44<00:00, 164.43s/it]\n"
     ]
    },
    {
     "name": "stdout",
     "output_type": "stream",
     "text": [
      "Estimation for 0.09999999999999999 and 0.05 done\n",
      "It took: 164.57150101661682 seconds.\n",
      "[0.12048532441400067, 0.8723305272930049]\n"
     ]
    },
    {
     "name": "stderr",
     "output_type": "stream",
     "text": [
      "Initial filtering of formulas: 100%|██████████████| 2/2 [00:00<00:00, 54.44it/s]\n",
      "Computing chunks: 100%|████████████████████████| 2/2 [00:00<00:00, 87381.33it/s]\n",
      "Splitting the experimental spectrum into chunks: 131072it [00:00, 3128821.36it/s]\n",
      "Deconvolving chunks: 100%|███████████████████████| 1/1 [02:56<00:00, 176.09s/it]\n"
     ]
    },
    {
     "name": "stdout",
     "output_type": "stream",
     "text": [
      "Estimation for 0.09999999999999999 and 0.060000000000000005 done\n",
      "It took: 176.24109029769897 seconds.\n",
      "[0.12015486062400067, 0.8716838986580049]\n"
     ]
    },
    {
     "name": "stderr",
     "output_type": "stream",
     "text": [
      "Initial filtering of formulas: 100%|██████████████| 2/2 [00:00<00:00, 62.30it/s]\n",
      "Computing chunks: 100%|████████████████████████| 2/2 [00:00<00:00, 82241.25it/s]\n",
      "Splitting the experimental spectrum into chunks: 131072it [00:00, 3447825.74it/s]\n",
      "Deconvolving chunks: 100%|███████████████████████| 1/1 [02:55<00:00, 175.39s/it]\n"
     ]
    },
    {
     "name": "stdout",
     "output_type": "stream",
     "text": [
      "Estimation for 0.09999999999999999 and 0.06999999999999999 done\n",
      "It took: 175.52967643737793 seconds.\n",
      "[0.11852510643200065, 0.8719771170480048]\n"
     ]
    },
    {
     "name": "stderr",
     "output_type": "stream",
     "text": [
      "Initial filtering of formulas: 100%|██████████████| 2/2 [00:00<00:00, 56.34it/s]\n",
      "Computing chunks: 100%|████████████████████████| 2/2 [00:00<00:00, 81442.80it/s]\n",
      "Splitting the experimental spectrum into chunks: 131072it [00:00, 3034843.41it/s]\n",
      "Deconvolving chunks: 100%|███████████████████████| 1/1 [03:11<00:00, 191.57s/it]\n"
     ]
    },
    {
     "name": "stdout",
     "output_type": "stream",
     "text": [
      "Estimation for 0.09999999999999999 and 0.08 done\n",
      "It took: 191.74370312690735 seconds.\n",
      "[0.11749175885900065, 0.8726445462880049]\n"
     ]
    },
    {
     "name": "stderr",
     "output_type": "stream",
     "text": [
      "Initial filtering of formulas: 100%|██████████████| 2/2 [00:00<00:00, 63.75it/s]\n",
      "Computing chunks: 100%|████████████████████████| 2/2 [00:00<00:00, 91180.52it/s]\n",
      "Splitting the experimental spectrum into chunks: 131072it [00:00, 3529392.44it/s]\n",
      "Deconvolving chunks: 100%|███████████████████████| 1/1 [02:49<00:00, 169.87s/it]\n"
     ]
    },
    {
     "name": "stdout",
     "output_type": "stream",
     "text": [
      "Estimation for 0.09999999999999999 and 0.09 done\n",
      "It took: 170.0257670879364 seconds.\n",
      "[0.11666721254200066, 0.8724958689050049]\n"
     ]
    },
    {
     "name": "stderr",
     "output_type": "stream",
     "text": [
      "Initial filtering of formulas: 100%|██████████████| 2/2 [00:00<00:00, 62.26it/s]\n",
      "Computing chunks: 100%|████████████████████████| 2/2 [00:00<00:00, 89240.51it/s]\n",
      "Splitting the experimental spectrum into chunks: 131072it [00:00, 3445297.67it/s]\n",
      "Deconvolving chunks: 100%|███████████████████████| 1/1 [02:44<00:00, 164.43s/it]\n"
     ]
    },
    {
     "name": "stdout",
     "output_type": "stream",
     "text": [
      "Estimation for 0.09999999999999999 and 0.09999999999999999 done\n",
      "It took: 164.57599782943726 seconds.\n",
      "[0.11683922786900065, 0.8716005466430049]\n"
     ]
    },
    {
     "name": "stderr",
     "output_type": "stream",
     "text": [
      "Initial filtering of formulas: 100%|██████████████| 2/2 [00:00<00:00, 62.35it/s]\n",
      "Computing chunks: 100%|████████████████████████| 2/2 [00:00<00:00, 94254.02it/s]\n",
      "Splitting the experimental spectrum into chunks: 131072it [00:00, 3475353.94it/s]\n",
      "Deconvolving chunks: 100%|███████████████████████| 1/1 [03:20<00:00, 200.44s/it]\n"
     ]
    },
    {
     "name": "stdout",
     "output_type": "stream",
     "text": [
      "Estimation for 0.09999999999999999 and 0.11 done\n",
      "It took: 200.5858917236328 seconds.\n",
      "[0.11700863340100065, 0.8704683937870049]\n"
     ]
    },
    {
     "name": "stderr",
     "output_type": "stream",
     "text": [
      "Initial filtering of formulas: 100%|██████████████| 2/2 [00:00<00:00, 61.91it/s]\n",
      "Computing chunks: 100%|████████████████████████| 2/2 [00:00<00:00, 83055.52it/s]\n",
      "Splitting the experimental spectrum into chunks: 131072it [00:00, 3402417.49it/s]\n",
      "Deconvolving chunks: 100%|███████████████████████| 1/1 [02:56<00:00, 176.01s/it]\n"
     ]
    },
    {
     "name": "stdout",
     "output_type": "stream",
     "text": [
      "Estimation for 0.09999999999999999 and 0.12 done\n",
      "It took: 176.1515462398529 seconds.\n",
      "[0.11710416474000065, 0.8694242410140047]\n"
     ]
    },
    {
     "name": "stderr",
     "output_type": "stream",
     "text": [
      "Initial filtering of formulas: 100%|██████████████| 2/2 [00:00<00:00, 61.71it/s]\n",
      "Computing chunks: 100%|████████████████████████| 2/2 [00:00<00:00, 90200.09it/s]\n",
      "Splitting the experimental spectrum into chunks: 131072it [00:00, 3430763.36it/s]\n",
      "Deconvolving chunks: 100%|███████████████████████| 1/1 [03:31<00:00, 211.03s/it]\n"
     ]
    },
    {
     "name": "stdout",
     "output_type": "stream",
     "text": [
      "Estimation for 0.09999999999999999 and 0.13 done\n",
      "It took: 211.1882152557373 seconds.\n",
      "[0.11703060563700066, 0.8694032986200048]\n"
     ]
    },
    {
     "name": "stderr",
     "output_type": "stream",
     "text": [
      "Initial filtering of formulas: 100%|██████████████| 2/2 [00:00<00:00, 62.70it/s]\n",
      "Computing chunks: 100%|████████████████████████| 2/2 [00:00<00:00, 98689.51it/s]\n",
      "Splitting the experimental spectrum into chunks: 131072it [00:00, 3477640.31it/s]\n",
      "Deconvolving chunks: 100%|███████████████████████| 1/1 [02:58<00:00, 178.29s/it]\n"
     ]
    },
    {
     "name": "stdout",
     "output_type": "stream",
     "text": [
      "Estimation for 0.09999999999999999 and 0.14 done\n",
      "It took: 178.43560552597046 seconds.\n",
      "[0.11700638452000066, 0.8694122605070048]\n"
     ]
    },
    {
     "name": "stderr",
     "output_type": "stream",
     "text": [
      "Initial filtering of formulas: 100%|██████████████| 2/2 [00:00<00:00, 61.91it/s]\n",
      "Computing chunks: 100%|████████████████████████| 2/2 [00:00<00:00, 89240.51it/s]\n",
      "Splitting the experimental spectrum into chunks: 131072it [00:00, 3416351.17it/s]\n",
      "Deconvolving chunks: 100%|███████████████████████| 1/1 [03:05<00:00, 185.39s/it]\n"
     ]
    },
    {
     "name": "stdout",
     "output_type": "stream",
     "text": [
      "Estimation for 0.09999999999999999 and 0.15000000000000002 done\n",
      "It took: 185.5307273864746 seconds.\n",
      "[0.11688638827900065, 0.8694648908310048]\n"
     ]
    },
    {
     "name": "stderr",
     "output_type": "stream",
     "text": [
      "Initial filtering of formulas: 100%|██████████████| 2/2 [00:00<00:00, 62.05it/s]\n",
      "Computing chunks: 100%|████████████████████████| 2/2 [00:00<00:00, 98689.51it/s]\n",
      "Splitting the experimental spectrum into chunks: 131072it [00:00, 3443528.08it/s]\n",
      "Deconvolving chunks: 100%|███████████████████████| 1/1 [02:59<00:00, 179.50s/it]\n"
     ]
    },
    {
     "name": "stdout",
     "output_type": "stream",
     "text": [
      "Estimation for 0.09999999999999999 and 0.16 done\n",
      "It took: 179.64025688171387 seconds.\n",
      "[0.11678313570200065, 0.8695724862490047]\n"
     ]
    },
    {
     "name": "stderr",
     "output_type": "stream",
     "text": [
      "Initial filtering of formulas: 100%|██████████████| 2/2 [00:00<00:00, 63.02it/s]\n",
      "Computing chunks: 100%|████████████████████████| 2/2 [00:00<00:00, 94254.02it/s]\n",
      "Splitting the experimental spectrum into chunks: 131072it [00:00, 3414144.65it/s]\n",
      "Deconvolving chunks: 100%|███████████████████████| 1/1 [03:06<00:00, 186.41s/it]\n"
     ]
    },
    {
     "name": "stdout",
     "output_type": "stream",
     "text": [
      "Estimation for 0.09999999999999999 and 0.17 done\n",
      "It took: 186.55298447608948 seconds.\n",
      "[0.11619988261300064, 0.8698500176730047]\n"
     ]
    },
    {
     "name": "stderr",
     "output_type": "stream",
     "text": [
      "Initial filtering of formulas: 100%|██████████████| 2/2 [00:00<00:00, 62.04it/s]\n",
      "Computing chunks: 100%|████████████████████████| 2/2 [00:00<00:00, 94254.02it/s]\n",
      "Splitting the experimental spectrum into chunks: 131072it [00:00, 3419007.01it/s]\n",
      "Deconvolving chunks: 100%|███████████████████████| 1/1 [03:21<00:00, 201.01s/it]\n"
     ]
    },
    {
     "name": "stdout",
     "output_type": "stream",
     "text": [
      "Estimation for 0.09999999999999999 and 0.18000000000000002 done\n",
      "It took: 201.15169715881348 seconds.\n",
      "[0.11595963791100064, 0.8700004566280048]\n"
     ]
    },
    {
     "name": "stderr",
     "output_type": "stream",
     "text": [
      "Initial filtering of formulas: 100%|██████████████| 2/2 [00:00<00:00, 61.26it/s]\n",
      "Computing chunks: 100%|████████████████████████| 2/2 [00:00<00:00, 94254.02it/s]\n",
      "Splitting the experimental spectrum into chunks: 131072it [00:00, 3443312.40it/s]\n",
      "Deconvolving chunks: 100%|███████████████████████| 1/1 [03:00<00:00, 180.99s/it]\n"
     ]
    },
    {
     "name": "stdout",
     "output_type": "stream",
     "text": [
      "Estimation for 0.09999999999999999 and 0.19 done\n",
      "It took: 181.13214421272278 seconds.\n",
      "[0.11518160172800064, 0.8703595546830049]\n"
     ]
    },
    {
     "name": "stderr",
     "output_type": "stream",
     "text": [
      "Initial filtering of formulas: 100%|██████████████| 2/2 [00:00<00:00, 61.24it/s]\n",
      "Computing chunks: 100%|████████████████████████| 2/2 [00:00<00:00, 15335.66it/s]\n",
      "Splitting the experimental spectrum into chunks: 131072it [00:00, 3464752.94it/s]\n",
      "Deconvolving chunks: 100%|███████████████████████| 1/1 [02:51<00:00, 171.39s/it]\n"
     ]
    },
    {
     "name": "stdout",
     "output_type": "stream",
     "text": [
      "Estimation for 0.09999999999999999 and 0.2 done\n",
      "It took: 171.54690742492676 seconds.\n",
      "[0.11401950029900064, 0.8706456311660049]\n"
     ]
    },
    {
     "name": "stderr",
     "output_type": "stream",
     "text": [
      "Initial filtering of formulas: 100%|██████████████| 2/2 [00:00<00:00, 62.57it/s]\n",
      "Computing chunks: 100%|████████████████████████| 2/2 [00:00<00:00, 87381.33it/s]\n",
      "Splitting the experimental spectrum into chunks: 131072it [00:00, 3376608.83it/s]\n",
      "Deconvolving chunks: 100%|███████████████████████| 1/1 [02:49<00:00, 169.57s/it]\n"
     ]
    },
    {
     "name": "stdout",
     "output_type": "stream",
     "text": [
      "Estimation for 0.09999999999999999 and 0.21000000000000002 done\n",
      "It took: 169.71518230438232 seconds.\n",
      "[0.11326635326800062, 0.8706417499910049]\n"
     ]
    },
    {
     "name": "stderr",
     "output_type": "stream",
     "text": [
      "Initial filtering of formulas: 100%|██████████████| 2/2 [00:00<00:00, 59.62it/s]\n",
      "Computing chunks: 100%|████████████████████████| 2/2 [00:00<00:00, 96420.78it/s]\n",
      "Splitting the experimental spectrum into chunks: 131072it [00:00, 3430677.73it/s]\n",
      "Deconvolving chunks: 100%|███████████████████████| 1/1 [02:54<00:00, 174.10s/it]\n"
     ]
    },
    {
     "name": "stdout",
     "output_type": "stream",
     "text": [
      "Estimation for 0.09999999999999999 and 0.22 done\n",
      "It took: 174.2498652935028 seconds.\n",
      "[0.11275683115200062, 0.8704873652330049]\n"
     ]
    },
    {
     "name": "stderr",
     "output_type": "stream",
     "text": [
      "Initial filtering of formulas: 100%|██████████████| 2/2 [00:00<00:00, 61.32it/s]\n",
      "Computing chunks: 100%|████████████████████████| 2/2 [00:00<00:00, 68200.07it/s]\n",
      "Splitting the experimental spectrum into chunks: 131072it [00:00, 3416053.97it/s]\n",
      "Deconvolving chunks: 100%|███████████████████████| 1/1 [02:53<00:00, 173.66s/it]\n"
     ]
    },
    {
     "name": "stdout",
     "output_type": "stream",
     "text": [
      "Estimation for 0.09999999999999999 and 0.23 done\n",
      "It took: 173.82746863365173 seconds.\n",
      "[0.11242594508400063, 0.8694590186690048]\n"
     ]
    },
    {
     "name": "stderr",
     "output_type": "stream",
     "text": [
      "Initial filtering of formulas: 100%|██████████████| 2/2 [00:00<00:00, 61.01it/s]\n",
      "Computing chunks: 100%|████████████████████████| 2/2 [00:00<00:00, 94254.02it/s]\n",
      "Splitting the experimental spectrum into chunks: 131072it [00:00, 3379265.54it/s]\n",
      "Deconvolving chunks: 100%|███████████████████████| 1/1 [02:57<00:00, 177.97s/it]\n"
     ]
    },
    {
     "name": "stdout",
     "output_type": "stream",
     "text": [
      "Estimation for 0.09999999999999999 and 0.24000000000000002 done\n",
      "It took: 178.11476302146912 seconds.\n",
      "[0.11205380057900062, 0.8684138890820048]\n"
     ]
    },
    {
     "name": "stderr",
     "output_type": "stream",
     "text": [
      "Initial filtering of formulas: 100%|██████████████| 2/2 [00:00<00:00, 53.05it/s]\n",
      "Computing chunks: 100%|████████████████████████| 2/2 [00:00<00:00, 47934.90it/s]\n",
      "Splitting the experimental spectrum into chunks: 131072it [00:00, 3435565.86it/s]\n",
      "Deconvolving chunks: 100%|███████████████████████| 1/1 [02:52<00:00, 172.14s/it]\n"
     ]
    },
    {
     "name": "stdout",
     "output_type": "stream",
     "text": [
      "Estimation for 0.09999999999999999 and 0.25 done\n",
      "It took: 172.30984497070312 seconds.\n",
      "[0.11007880151600061, 0.8693121452940048]\n"
     ]
    },
    {
     "name": "stderr",
     "output_type": "stream",
     "text": [
      "Initial filtering of formulas: 100%|██████████████| 2/2 [00:00<00:00, 62.35it/s]\n",
      "Computing chunks: 100%|████████████████████████| 2/2 [00:00<00:00, 87381.33it/s]\n",
      "Splitting the experimental spectrum into chunks: 131072it [00:00, 3494218.08it/s]\n",
      "Deconvolving chunks: 100%|███████████████████████| 1/1 [02:54<00:00, 174.34s/it]\n"
     ]
    },
    {
     "name": "stdout",
     "output_type": "stream",
     "text": [
      "Estimation for 0.09999999999999999 and 0.26 done\n",
      "It took: 174.4819996356964 seconds.\n",
      "[0.10326002560900056, 0.8722150981480049]\n"
     ]
    },
    {
     "name": "stderr",
     "output_type": "stream",
     "text": [
      "Initial filtering of formulas: 100%|██████████████| 2/2 [00:00<00:00, 62.91it/s]\n",
      "Computing chunks: 100%|████████████████████████| 2/2 [00:00<00:00, 79137.81it/s]\n",
      "Splitting the experimental spectrum into chunks: 131072it [00:00, 3384383.15it/s]\n",
      "Deconvolving chunks: 100%|███████████████████████| 1/1 [02:52<00:00, 172.08s/it]\n"
     ]
    },
    {
     "name": "stdout",
     "output_type": "stream",
     "text": [
      "Estimation for 0.09999999999999999 and 0.27 done\n",
      "It took: 172.2205309867859 seconds.\n",
      "[0.10325950391500056, 0.8722219213120049]\n"
     ]
    },
    {
     "name": "stderr",
     "output_type": "stream",
     "text": [
      "Initial filtering of formulas: 100%|██████████████| 2/2 [00:00<00:00, 62.47it/s]\n",
      "Computing chunks: 100%|████████████████████████| 2/2 [00:00<00:00, 90200.09it/s]\n",
      "Splitting the experimental spectrum into chunks: 131072it [00:00, 3430570.69it/s]\n",
      "Deconvolving chunks: 100%|███████████████████████| 1/1 [02:53<00:00, 173.71s/it]\n"
     ]
    },
    {
     "name": "stdout",
     "output_type": "stream",
     "text": [
      "Estimation for 0.09999999999999999 and 0.28 done\n",
      "It took: 173.85794615745544 seconds.\n",
      "[0.10326106900200056, 0.8722191228630048]\n"
     ]
    },
    {
     "name": "stderr",
     "output_type": "stream",
     "text": [
      "Initial filtering of formulas: 100%|██████████████| 2/2 [00:00<00:00, 55.32it/s]\n",
      "Computing chunks: 100%|████████████████████████| 2/2 [00:00<00:00, 34807.50it/s]\n",
      "Splitting the experimental spectrum into chunks: 131072it [00:00, 3464512.76it/s]\n",
      "Deconvolving chunks: 100%|███████████████████████| 1/1 [02:46<00:00, 166.94s/it]\n"
     ]
    },
    {
     "name": "stdout",
     "output_type": "stream",
     "text": [
      "Estimation for 0.09999999999999999 and 0.29000000000000004 done\n",
      "It took: 167.10580277442932 seconds.\n",
      "[0.10326028855800057, 0.8722264368870049]\n"
     ]
    },
    {
     "name": "stderr",
     "output_type": "stream",
     "text": [
      "Initial filtering of formulas: 100%|██████████████| 2/2 [00:00<00:00, 60.76it/s]\n",
      "Computing chunks: 100%|████████████████████████| 2/2 [00:00<00:00, 77672.30it/s]\n",
      "Splitting the experimental spectrum into chunks: 131072it [00:00, 3437327.28it/s]\n",
      "Deconvolving chunks: 100%|███████████████████████| 1/1 [04:20<00:00, 260.01s/it]\n"
     ]
    },
    {
     "name": "stdout",
     "output_type": "stream",
     "text": [
      "Estimation for 0.11 and 0.01 done\n",
      "It took: 260.16916584968567 seconds.\n",
      "[0.3828158271040021, 0.6171841728960035]\n"
     ]
    },
    {
     "name": "stderr",
     "output_type": "stream",
     "text": [
      "Initial filtering of formulas: 100%|██████████████| 2/2 [00:00<00:00, 61.82it/s]\n",
      "Computing chunks: 100%|████████████████████████| 2/2 [00:00<00:00, 92182.51it/s]\n",
      "Splitting the experimental spectrum into chunks: 131072it [00:00, 3440015.86it/s]\n",
      "Deconvolving chunks: 100%|███████████████████████| 1/1 [03:06<00:00, 186.10s/it]\n"
     ]
    },
    {
     "name": "stdout",
     "output_type": "stream",
     "text": [
      "Estimation for 0.11 and 0.02 done\n",
      "It took: 186.24582767486572 seconds.\n",
      "[0.15272382619500086, 0.8441856699870046]\n"
     ]
    },
    {
     "name": "stderr",
     "output_type": "stream",
     "text": [
      "Initial filtering of formulas: 100%|██████████████| 2/2 [00:00<00:00, 62.49it/s]\n",
      "Computing chunks: 100%|████████████████████████| 2/2 [00:00<00:00, 93206.76it/s]\n",
      "Splitting the experimental spectrum into chunks: 131072it [00:00, 3449469.89it/s]\n",
      "Deconvolving chunks: 100%|███████████████████████| 1/1 [02:38<00:00, 158.81s/it]\n"
     ]
    },
    {
     "name": "stdout",
     "output_type": "stream",
     "text": [
      "Estimation for 0.11 and 0.03 done\n",
      "It took: 158.95259070396423 seconds.\n",
      "[0.13623462576800074, 0.8599359388970048]\n"
     ]
    },
    {
     "name": "stderr",
     "output_type": "stream",
     "text": [
      "Initial filtering of formulas: 100%|██████████████| 2/2 [00:00<00:00, 61.04it/s]\n",
      "Computing chunks: 100%|████████████████████████| 2/2 [00:00<00:00, 49344.75it/s]\n",
      "Splitting the experimental spectrum into chunks: 131072it [00:00, 3343952.45it/s]\n",
      "Deconvolving chunks: 100%|███████████████████████| 1/1 [02:48<00:00, 168.89s/it]\n"
     ]
    },
    {
     "name": "stdout",
     "output_type": "stream",
     "text": [
      "Estimation for 0.11 and 0.04 done\n",
      "It took: 169.03475999832153 seconds.\n",
      "[0.12874310967300073, 0.8664980025980048]\n"
     ]
    },
    {
     "name": "stderr",
     "output_type": "stream",
     "text": [
      "Initial filtering of formulas: 100%|██████████████| 2/2 [00:00<00:00, 62.80it/s]\n",
      "Computing chunks: 100%|████████████████████████| 2/2 [00:00<00:00, 88301.14it/s]\n",
      "Splitting the experimental spectrum into chunks: 131072it [00:00, 3453283.42it/s]\n",
      "Deconvolving chunks: 100%|███████████████████████| 1/1 [02:56<00:00, 176.87s/it]\n"
     ]
    },
    {
     "name": "stdout",
     "output_type": "stream",
     "text": [
      "Estimation for 0.11 and 0.05 done\n",
      "It took: 177.00858449935913 seconds.\n",
      "[0.12073904140600067, 0.8730198669360049]\n"
     ]
    },
    {
     "name": "stderr",
     "output_type": "stream",
     "text": [
      "Initial filtering of formulas: 100%|██████████████| 2/2 [00:00<00:00, 61.01it/s]\n",
      "Computing chunks: 100%|████████████████████████| 2/2 [00:00<00:00, 92182.51it/s]\n",
      "Splitting the experimental spectrum into chunks: 131072it [00:00, 3543633.86it/s]\n",
      "Deconvolving chunks: 100%|███████████████████████| 1/1 [02:55<00:00, 175.85s/it]\n"
     ]
    },
    {
     "name": "stdout",
     "output_type": "stream",
     "text": [
      "Estimation for 0.11 and 0.060000000000000005 done\n",
      "It took: 175.99155449867249 seconds.\n",
      "[0.12045203053400066, 0.8720768104460049]\n"
     ]
    },
    {
     "name": "stderr",
     "output_type": "stream",
     "text": [
      "Initial filtering of formulas: 100%|██████████████| 2/2 [00:00<00:00, 61.37it/s]\n",
      "Computing chunks: 100%|████████████████████████| 2/2 [00:00<00:00, 98689.51it/s]\n",
      "Splitting the experimental spectrum into chunks: 131072it [00:00, 3448258.26it/s]\n",
      "Deconvolving chunks: 100%|███████████████████████| 1/1 [02:51<00:00, 171.18s/it]\n"
     ]
    },
    {
     "name": "stdout",
     "output_type": "stream",
     "text": [
      "Estimation for 0.11 and 0.06999999999999999 done\n",
      "It took: 171.31965398788452 seconds.\n",
      "[0.12048532822900067, 0.8715386180950049]\n"
     ]
    },
    {
     "name": "stderr",
     "output_type": "stream",
     "text": [
      "Initial filtering of formulas: 100%|██████████████| 2/2 [00:00<00:00, 61.55it/s]\n",
      "Computing chunks: 100%|████████████████████████| 2/2 [00:00<00:00, 90200.09it/s]\n",
      "Splitting the experimental spectrum into chunks: 131072it [00:00, 3404967.35it/s]\n",
      "Deconvolving chunks: 100%|███████████████████████| 1/1 [03:13<00:00, 193.04s/it]\n"
     ]
    },
    {
     "name": "stdout",
     "output_type": "stream",
     "text": [
      "Estimation for 0.11 and 0.08 done\n",
      "It took: 193.18927931785583 seconds.\n",
      "[0.11841192483600065, 0.8724784817630049]\n"
     ]
    },
    {
     "name": "stderr",
     "output_type": "stream",
     "text": [
      "Initial filtering of formulas: 100%|██████████████| 2/2 [00:00<00:00, 61.49it/s]\n",
      "Computing chunks: 100%|████████████████████████| 2/2 [00:00<00:00, 93206.76it/s]\n",
      "Splitting the experimental spectrum into chunks: 131072it [00:00, 3433334.46it/s]\n",
      "Deconvolving chunks: 100%|███████████████████████| 1/1 [03:04<00:00, 184.57s/it]\n"
     ]
    },
    {
     "name": "stdout",
     "output_type": "stream",
     "text": [
      "Estimation for 0.11 and 0.09 done\n",
      "It took: 184.71155190467834 seconds.\n",
      "[0.11774385058400065, 0.8729155657770049]\n"
     ]
    },
    {
     "name": "stderr",
     "output_type": "stream",
     "text": [
      "Initial filtering of formulas: 100%|██████████████| 2/2 [00:00<00:00, 62.00it/s]\n",
      "Computing chunks: 100%|████████████████████████| 2/2 [00:00<00:00, 89240.51it/s]\n",
      "Splitting the experimental spectrum into chunks: 131072it [00:00, 3449621.40it/s]\n",
      "Deconvolving chunks: 100%|███████████████████████| 1/1 [03:02<00:00, 182.77s/it]\n"
     ]
    },
    {
     "name": "stdout",
     "output_type": "stream",
     "text": [
      "Estimation for 0.11 and 0.09999999999999999 done\n",
      "It took: 182.91583037376404 seconds.\n",
      "[0.11735071728100065, 0.8720757829230049]\n"
     ]
    },
    {
     "name": "stderr",
     "output_type": "stream",
     "text": [
      "Initial filtering of formulas: 100%|██████████████| 2/2 [00:00<00:00, 58.38it/s]\n",
      "Computing chunks: 100%|████████████████████████| 2/2 [00:00<00:00, 83886.08it/s]\n",
      "Splitting the experimental spectrum into chunks: 131072it [00:00, 3429372.30it/s]\n",
      "Deconvolving chunks: 100%|███████████████████████| 1/1 [03:10<00:00, 190.07s/it]\n"
     ]
    },
    {
     "name": "stdout",
     "output_type": "stream",
     "text": [
      "Estimation for 0.11 and 0.11 done\n",
      "It took: 190.21284985542297 seconds.\n",
      "[0.11719715020900065, 0.8710454297710049]\n"
     ]
    },
    {
     "name": "stderr",
     "output_type": "stream",
     "text": [
      "Initial filtering of formulas: 100%|██████████████| 2/2 [00:00<00:00, 61.53it/s]\n",
      "Computing chunks: 100%|████████████████████████| 2/2 [00:00<00:00, 14290.64it/s]\n",
      "Splitting the experimental spectrum into chunks: 131072it [00:00, 3461131.94it/s]\n",
      "Deconvolving chunks: 100%|███████████████████████| 1/1 [03:07<00:00, 187.72s/it]\n"
     ]
    },
    {
     "name": "stdout",
     "output_type": "stream",
     "text": [
      "Estimation for 0.11 and 0.12 done\n",
      "It took: 187.86602878570557 seconds.\n",
      "[0.11718649984000065, 0.8700031824920049]\n"
     ]
    },
    {
     "name": "stderr",
     "output_type": "stream",
     "text": [
      "Initial filtering of formulas: 100%|██████████████| 2/2 [00:00<00:00, 62.90it/s]\n",
      "Computing chunks: 100%|████████████████████████| 2/2 [00:00<00:00, 96420.78it/s]\n",
      "Splitting the experimental spectrum into chunks: 131072it [00:00, 3430656.32it/s]\n",
      "Deconvolving chunks: 100%|███████████████████████| 1/1 [02:52<00:00, 172.35s/it]\n"
     ]
    },
    {
     "name": "stdout",
     "output_type": "stream",
     "text": [
      "Estimation for 0.11 and 0.13 done\n",
      "It took: 172.49431729316711 seconds.\n",
      "[0.11716824675500065, 0.8694528450050047]\n"
     ]
    },
    {
     "name": "stderr",
     "output_type": "stream",
     "text": [
      "Initial filtering of formulas: 100%|██████████████| 2/2 [00:00<00:00, 61.86it/s]\n",
      "Computing chunks: 100%|████████████████████████| 2/2 [00:00<00:00, 88301.14it/s]\n",
      "Splitting the experimental spectrum into chunks: 131072it [00:00, 3428559.58it/s]\n",
      "Deconvolving chunks: 100%|███████████████████████| 1/1 [03:01<00:00, 181.88s/it]\n"
     ]
    },
    {
     "name": "stdout",
     "output_type": "stream",
     "text": [
      "Estimation for 0.11 and 0.14 done\n",
      "It took: 182.01871752738953 seconds.\n",
      "[0.11708133906300065, 0.8694850498470048]\n"
     ]
    },
    {
     "name": "stderr",
     "output_type": "stream",
     "text": [
      "Initial filtering of formulas: 100%|██████████████| 2/2 [00:00<00:00, 61.69it/s]\n",
      "Computing chunks: 100%|████████████████████████| 2/2 [00:00<00:00, 92182.51it/s]\n",
      "Splitting the experimental spectrum into chunks: 131072it [00:00, 3344644.15it/s]\n",
      "Deconvolving chunks: 100%|███████████████████████| 1/1 [03:03<00:00, 183.84s/it]\n"
     ]
    },
    {
     "name": "stdout",
     "output_type": "stream",
     "text": [
      "Estimation for 0.11 and 0.15000000000000002 done\n",
      "It took: 183.9904375076294 seconds.\n",
      "[0.11705591983600065, 0.8695721225890047]\n"
     ]
    },
    {
     "name": "stderr",
     "output_type": "stream",
     "text": [
      "Initial filtering of formulas: 100%|██████████████| 2/2 [00:00<00:00, 61.89it/s]\n",
      "Computing chunks: 100%|████████████████████████| 2/2 [00:00<00:00, 98689.51it/s]\n",
      "Splitting the experimental spectrum into chunks: 131072it [00:00, 3471162.75it/s]\n",
      "Deconvolving chunks: 100%|███████████████████████| 1/1 [03:07<00:00, 187.81s/it]\n"
     ]
    },
    {
     "name": "stdout",
     "output_type": "stream",
     "text": [
      "Estimation for 0.11 and 0.16 done\n",
      "It took: 187.9715166091919 seconds.\n",
      "[0.11696352498400066, 0.8696746846150047]\n"
     ]
    },
    {
     "name": "stderr",
     "output_type": "stream",
     "text": [
      "Initial filtering of formulas: 100%|██████████████| 2/2 [00:00<00:00, 60.90it/s]\n",
      "Computing chunks: 100%|████████████████████████| 2/2 [00:00<00:00, 69327.34it/s]\n",
      "Splitting the experimental spectrum into chunks: 131072it [00:00, 3398211.21it/s]\n",
      "Deconvolving chunks: 100%|███████████████████████| 1/1 [02:57<00:00, 177.92s/it]\n"
     ]
    },
    {
     "name": "stdout",
     "output_type": "stream",
     "text": [
      "Estimation for 0.11 and 0.17 done\n",
      "It took: 178.06292963027954 seconds.\n",
      "[0.11685240046500066, 0.8697779004910048]\n"
     ]
    },
    {
     "name": "stderr",
     "output_type": "stream",
     "text": [
      "Initial filtering of formulas: 100%|██████████████| 2/2 [00:00<00:00, 62.21it/s]\n",
      "Computing chunks: 100%|████████████████████████| 2/2 [00:00<00:00, 93206.76it/s]\n",
      "Splitting the experimental spectrum into chunks: 131072it [00:00, 3412385.72it/s]\n",
      "Deconvolving chunks: 100%|███████████████████████| 1/1 [03:11<00:00, 191.53s/it]\n"
     ]
    },
    {
     "name": "stdout",
     "output_type": "stream",
     "text": [
      "Estimation for 0.11 and 0.18000000000000002 done\n",
      "It took: 191.6935088634491 seconds.\n",
      "[0.11645752004900065, 0.8699831025700048]\n"
     ]
    },
    {
     "name": "stderr",
     "output_type": "stream",
     "text": [
      "Initial filtering of formulas: 100%|██████████████| 2/2 [00:00<00:00, 62.42it/s]\n",
      "Computing chunks: 100%|████████████████████████| 2/2 [00:00<00:00, 94254.02it/s]\n",
      "Splitting the experimental spectrum into chunks: 131072it [00:00, 3403449.62it/s]\n",
      "Deconvolving chunks: 100%|███████████████████████| 1/1 [03:18<00:00, 198.14s/it]\n"
     ]
    },
    {
     "name": "stdout",
     "output_type": "stream",
     "text": [
      "Estimation for 0.11 and 0.19 done\n",
      "It took: 198.30155205726624 seconds.\n",
      "[0.11623891013400064, 0.8701028683230049]\n"
     ]
    },
    {
     "name": "stderr",
     "output_type": "stream",
     "text": [
      "Initial filtering of formulas: 100%|██████████████| 2/2 [00:00<00:00, 62.58it/s]\n",
      "Computing chunks: 100%|████████████████████████| 2/2 [00:00<00:00, 93206.76it/s]\n",
      "Splitting the experimental spectrum into chunks: 131072it [00:00, 3478058.34it/s]\n",
      "Deconvolving chunks: 100%|███████████████████████| 1/1 [02:58<00:00, 178.54s/it]\n"
     ]
    },
    {
     "name": "stdout",
     "output_type": "stream",
     "text": [
      "Estimation for 0.11 and 0.2 done\n",
      "It took: 178.68365573883057 seconds.\n",
      "[0.11526266011900063, 0.8705066086300048]\n"
     ]
    },
    {
     "name": "stderr",
     "output_type": "stream",
     "text": [
      "Initial filtering of formulas: 100%|██████████████| 2/2 [00:00<00:00, 62.20it/s]\n",
      "Computing chunks: 100%|████████████████████████| 2/2 [00:00<00:00, 65027.97it/s]\n",
      "Splitting the experimental spectrum into chunks: 131072it [00:00, 3388722.34it/s]\n",
      "Deconvolving chunks: 100%|███████████████████████| 1/1 [02:59<00:00, 179.01s/it]\n"
     ]
    },
    {
     "name": "stdout",
     "output_type": "stream",
     "text": [
      "Estimation for 0.11 and 0.21000000000000002 done\n",
      "It took: 179.14918684959412 seconds.\n",
      "[0.11428173698900064, 0.8704908576820048]\n"
     ]
    },
    {
     "name": "stderr",
     "output_type": "stream",
     "text": [
      "Initial filtering of formulas: 100%|██████████████| 2/2 [00:00<00:00, 62.37it/s]\n",
      "Computing chunks: 100%|████████████████████████| 2/2 [00:00<00:00, 91180.52it/s]\n",
      "Splitting the experimental spectrum into chunks: 131072it [00:00, 3426081.03it/s]\n",
      "Deconvolving chunks: 100%|███████████████████████| 1/1 [03:08<00:00, 188.42s/it]\n"
     ]
    },
    {
     "name": "stdout",
     "output_type": "stream",
     "text": [
      "Estimation for 0.11 and 0.22 done\n",
      "It took: 188.5697250366211 seconds.\n",
      "[0.11349219256700062, 0.8705610997280049]\n"
     ]
    },
    {
     "name": "stderr",
     "output_type": "stream",
     "text": [
      "Initial filtering of formulas: 100%|██████████████| 2/2 [00:00<00:00, 63.20it/s]\n",
      "Computing chunks: 100%|████████████████████████| 2/2 [00:00<00:00, 83886.08it/s]\n",
      "Splitting the experimental spectrum into chunks: 131072it [00:00, 3428303.01it/s]\n",
      "Deconvolving chunks: 100%|███████████████████████| 1/1 [02:55<00:00, 175.93s/it]\n"
     ]
    },
    {
     "name": "stdout",
     "output_type": "stream",
     "text": [
      "Estimation for 0.11 and 0.23 done\n",
      "It took: 176.07239532470703 seconds.\n",
      "[0.11314046021600062, 0.8695958305380048]\n"
     ]
    },
    {
     "name": "stderr",
     "output_type": "stream",
     "text": [
      "Initial filtering of formulas: 100%|██████████████| 2/2 [00:00<00:00, 62.92it/s]\n",
      "Computing chunks: 100%|████████████████████████| 2/2 [00:00<00:00, 81442.80it/s]\n",
      "Splitting the experimental spectrum into chunks: 131072it [00:00, 3407415.44it/s]\n",
      "Deconvolving chunks: 100%|███████████████████████| 1/1 [02:52<00:00, 172.41s/it]\n"
     ]
    },
    {
     "name": "stdout",
     "output_type": "stream",
     "text": [
      "Estimation for 0.11 and 0.24000000000000002 done\n",
      "It took: 172.55451154708862 seconds.\n",
      "[0.11286097532500063, 0.8683607006310048]\n"
     ]
    },
    {
     "name": "stderr",
     "output_type": "stream",
     "text": [
      "Initial filtering of formulas: 100%|██████████████| 2/2 [00:00<00:00, 62.71it/s]\n",
      "Computing chunks: 100%|████████████████████████| 2/2 [00:00<00:00, 96420.78it/s]\n",
      "Splitting the experimental spectrum into chunks: 131072it [00:00, 3471666.91it/s]\n",
      "Deconvolving chunks: 100%|███████████████████████| 1/1 [02:54<00:00, 174.58s/it]\n"
     ]
    },
    {
     "name": "stdout",
     "output_type": "stream",
     "text": [
      "Estimation for 0.11 and 0.25 done\n",
      "It took: 174.72166895866394 seconds.\n",
      "[0.11212910854600062, 0.8687422304760047]\n"
     ]
    },
    {
     "name": "stderr",
     "output_type": "stream",
     "text": [
      "Initial filtering of formulas: 100%|██████████████| 2/2 [00:00<00:00, 61.45it/s]\n",
      "Computing chunks: 100%|████████████████████████| 2/2 [00:00<00:00, 94254.02it/s]\n",
      "Splitting the experimental spectrum into chunks: 131072it [00:00, 3404608.88it/s]\n",
      "Deconvolving chunks: 100%|███████████████████████| 1/1 [02:58<00:00, 178.01s/it]\n"
     ]
    },
    {
     "name": "stdout",
     "output_type": "stream",
     "text": [
      "Estimation for 0.11 and 0.26 done\n",
      "It took: 178.1507556438446 seconds.\n",
      "[0.11044083569500061, 0.8695347838580048]\n"
     ]
    },
    {
     "name": "stderr",
     "output_type": "stream",
     "text": [
      "Initial filtering of formulas: 100%|██████████████| 2/2 [00:00<00:00, 62.56it/s]\n",
      "Computing chunks: 100%|████████████████████████| 2/2 [00:00<00:00, 68759.08it/s]\n",
      "Splitting the experimental spectrum into chunks: 131072it [00:00, 3476474.77it/s]\n",
      "Deconvolving chunks: 100%|███████████████████████| 1/1 [02:45<00:00, 165.57s/it]\n"
     ]
    },
    {
     "name": "stdout",
     "output_type": "stream",
     "text": [
      "Estimation for 0.11 and 0.27 done\n",
      "It took: 165.74184679985046 seconds.\n",
      "[0.10388585113800058, 0.8723123613950049]\n"
     ]
    },
    {
     "name": "stderr",
     "output_type": "stream",
     "text": [
      "Initial filtering of formulas: 100%|██████████████| 2/2 [00:00<00:00, 57.48it/s]\n",
      "Computing chunks: 100%|████████████████████████| 2/2 [00:00<00:00, 47934.90it/s]\n",
      "Splitting the experimental spectrum into chunks: 131072it [00:00, 3259512.01it/s]\n",
      "Deconvolving chunks: 100%|███████████████████████| 1/1 [02:49<00:00, 169.83s/it]\n"
     ]
    },
    {
     "name": "stdout",
     "output_type": "stream",
     "text": [
      "Estimation for 0.11 and 0.28 done\n",
      "It took: 169.98091197013855 seconds.\n",
      "[0.10346618589800056, 0.8724951234180048]\n"
     ]
    },
    {
     "name": "stderr",
     "output_type": "stream",
     "text": [
      "Initial filtering of formulas: 100%|██████████████| 2/2 [00:00<00:00, 59.70it/s]\n",
      "Computing chunks: 100%|████████████████████████| 2/2 [00:00<00:00, 49344.75it/s]\n",
      "Splitting the experimental spectrum into chunks: 131072it [00:00, 3356508.50it/s]\n",
      "Deconvolving chunks: 100%|███████████████████████| 1/1 [02:49<00:00, 169.06s/it]\n"
     ]
    },
    {
     "name": "stdout",
     "output_type": "stream",
     "text": [
      "Estimation for 0.11 and 0.29000000000000004 done\n",
      "It took: 169.20233464241028 seconds.\n",
      "[0.10346728282100057, 0.8725007490480049]\n"
     ]
    },
    {
     "name": "stderr",
     "output_type": "stream",
     "text": [
      "Initial filtering of formulas: 100%|██████████████| 2/2 [00:00<00:00, 62.05it/s]\n",
      "Computing chunks: 100%|████████████████████████| 2/2 [00:00<00:00, 99864.38it/s]\n",
      "Splitting the experimental spectrum into chunks: 131072it [00:00, 3490889.90it/s]\n",
      "Deconvolving chunks: 100%|███████████████████████| 1/1 [02:29<00:00, 149.16s/it]\n"
     ]
    },
    {
     "name": "stdout",
     "output_type": "stream",
     "text": [
      "Estimation for 0.12 and 0.01 done\n",
      "It took: 149.32216572761536 seconds.\n",
      "[0.3828183695700021, 0.6171816304300034]\n"
     ]
    },
    {
     "name": "stderr",
     "output_type": "stream",
     "text": [
      "Initial filtering of formulas: 100%|██████████████| 2/2 [00:00<00:00, 61.95it/s]\n",
      "Computing chunks: 100%|████████████████████████| 2/2 [00:00<00:00, 98689.51it/s]\n",
      "Splitting the experimental spectrum into chunks: 131072it [00:00, 3383779.05it/s]\n",
      "Deconvolving chunks: 100%|███████████████████████| 1/1 [03:09<00:00, 189.32s/it]\n"
     ]
    },
    {
     "name": "stdout",
     "output_type": "stream",
     "text": [
      "Estimation for 0.12 and 0.02 done\n",
      "It took: 189.464049577713 seconds.\n",
      "[0.15458399244800086, 0.8428280888190046]\n"
     ]
    },
    {
     "name": "stderr",
     "output_type": "stream",
     "text": [
      "Initial filtering of formulas: 100%|██████████████| 2/2 [00:00<00:00, 62.34it/s]\n",
      "Computing chunks: 100%|████████████████████████| 2/2 [00:00<00:00, 93206.76it/s]\n",
      "Splitting the experimental spectrum into chunks: 131072it [00:00, 3465735.84it/s]\n",
      "Deconvolving chunks: 100%|███████████████████████| 1/1 [02:58<00:00, 178.63s/it]\n"
     ]
    },
    {
     "name": "stdout",
     "output_type": "stream",
     "text": [
      "Estimation for 0.12 and 0.03 done\n",
      "It took: 178.77060079574585 seconds.\n",
      "[0.13743162586100074, 0.8591457324020048]\n"
     ]
    },
    {
     "name": "stderr",
     "output_type": "stream",
     "text": [
      "Initial filtering of formulas: 100%|██████████████| 2/2 [00:00<00:00, 46.44it/s]\n",
      "Computing chunks: 100%|████████████████████████| 2/2 [00:00<00:00, 85598.04it/s]\n",
      "Splitting the experimental spectrum into chunks: 131072it [00:00, 2882755.11it/s]\n",
      "Deconvolving chunks: 100%|███████████████████████| 1/1 [02:44<00:00, 164.40s/it]\n"
     ]
    },
    {
     "name": "stdout",
     "output_type": "stream",
     "text": [
      "Estimation for 0.12 and 0.04 done\n",
      "It took: 164.56738686561584 seconds.\n",
      "[0.1294541479360007, 0.8661140078820048]\n"
     ]
    },
    {
     "name": "stderr",
     "output_type": "stream",
     "text": [
      "Initial filtering of formulas: 100%|██████████████| 2/2 [00:00<00:00, 53.02it/s]\n",
      "Computing chunks: 100%|████████████████████████| 2/2 [00:00<00:00, 92182.51it/s]\n",
      "Splitting the experimental spectrum into chunks: 131072it [00:00, 3027856.61it/s]\n",
      "Deconvolving chunks: 100%|███████████████████████| 1/1 [03:00<00:00, 180.84s/it]\n"
     ]
    },
    {
     "name": "stdout",
     "output_type": "stream",
     "text": [
      "Estimation for 0.12 and 0.05 done\n",
      "It took: 180.99884676933289 seconds.\n",
      "[0.12174842639500068, 0.8728732158600049]\n"
     ]
    },
    {
     "name": "stderr",
     "output_type": "stream",
     "text": [
      "Initial filtering of formulas: 100%|██████████████| 2/2 [00:00<00:00, 61.88it/s]\n",
      "Computing chunks: 100%|████████████████████████| 2/2 [00:00<00:00, 51463.85it/s]\n",
      "Splitting the experimental spectrum into chunks: 131072it [00:00, 3353171.46it/s]\n",
      "Deconvolving chunks: 100%|███████████████████████| 1/1 [02:51<00:00, 171.52s/it]\n"
     ]
    },
    {
     "name": "stdout",
     "output_type": "stream",
     "text": [
      "Estimation for 0.12 and 0.060000000000000005 done\n",
      "It took: 171.66549682617188 seconds.\n",
      "[0.12122017879700067, 0.8723939776010049]\n"
     ]
    },
    {
     "name": "stderr",
     "output_type": "stream",
     "text": [
      "Initial filtering of formulas: 100%|██████████████| 2/2 [00:00<00:00, 59.58it/s]\n",
      "Computing chunks: 100%|████████████████████████| 2/2 [00:00<00:00, 99864.38it/s]\n",
      "Splitting the experimental spectrum into chunks: 131072it [00:00, 3375613.65it/s]\n",
      "Deconvolving chunks: 100%|███████████████████████| 1/1 [03:08<00:00, 188.94s/it]\n"
     ]
    },
    {
     "name": "stdout",
     "output_type": "stream",
     "text": [
      "Estimation for 0.12 and 0.06999999999999999 done\n",
      "It took: 189.08631539344788 seconds.\n",
      "[0.12083239118700066, 0.8721429582270049]\n"
     ]
    },
    {
     "name": "stderr",
     "output_type": "stream",
     "text": [
      "Initial filtering of formulas: 100%|██████████████| 2/2 [00:00<00:00, 60.81it/s]\n",
      "Computing chunks: 100%|████████████████████████| 2/2 [00:00<00:00, 89240.51it/s]\n",
      "Splitting the experimental spectrum into chunks: 131072it [00:00, 3398862.51it/s]\n",
      "Deconvolving chunks: 100%|███████████████████████| 1/1 [03:09<00:00, 189.75s/it]\n"
     ]
    },
    {
     "name": "stdout",
     "output_type": "stream",
     "text": [
      "Estimation for 0.12 and 0.08 done\n",
      "It took: 189.91902208328247 seconds.\n",
      "[0.12060009560700066, 0.8718935199250049]\n"
     ]
    },
    {
     "name": "stderr",
     "output_type": "stream",
     "text": [
      "Initial filtering of formulas: 100%|██████████████| 2/2 [00:00<00:00, 58.96it/s]\n",
      "Computing chunks: 100%|████████████████████████| 2/2 [00:00<00:00, 90200.09it/s]\n",
      "Splitting the experimental spectrum into chunks: 131072it [00:00, 3256577.14it/s]\n",
      "Deconvolving chunks: 100%|███████████████████████| 1/1 [03:01<00:00, 181.77s/it]\n"
     ]
    },
    {
     "name": "stdout",
     "output_type": "stream",
     "text": [
      "Estimation for 0.12 and 0.09 done\n",
      "It took: 181.9135546684265 seconds.\n",
      "[0.11873868677100065, 0.8728383619970049]\n"
     ]
    },
    {
     "name": "stderr",
     "output_type": "stream",
     "text": [
      "Initial filtering of formulas: 100%|██████████████| 2/2 [00:00<00:00, 61.53it/s]\n",
      "Computing chunks: 100%|████████████████████████| 2/2 [00:00<00:00, 94254.02it/s]\n",
      "Splitting the experimental spectrum into chunks: 131072it [00:00, 3453999.40it/s]\n",
      "Deconvolving chunks: 100%|███████████████████████| 1/1 [03:40<00:00, 220.78s/it]\n"
     ]
    },
    {
     "name": "stdout",
     "output_type": "stream",
     "text": [
      "Estimation for 0.12 and 0.09999999999999999 done\n",
      "It took: 220.92430591583252 seconds.\n",
      "[0.11804593740300065, 0.8726189253900049]\n"
     ]
    },
    {
     "name": "stderr",
     "output_type": "stream",
     "text": [
      "Initial filtering of formulas: 100%|██████████████| 2/2 [00:00<00:00, 61.13it/s]\n",
      "Computing chunks: 100%|████████████████████████| 2/2 [00:00<00:00, 93206.76it/s]\n",
      "Splitting the experimental spectrum into chunks: 131072it [00:00, 3403407.48it/s]\n",
      "Deconvolving chunks: 100%|███████████████████████| 1/1 [02:45<00:00, 165.94s/it]\n"
     ]
    },
    {
     "name": "stdout",
     "output_type": "stream",
     "text": [
      "Estimation for 0.12 and 0.11 done\n",
      "It took: 166.10395288467407 seconds.\n",
      "[0.11798632764700065, 0.8715692883020049]\n"
     ]
    },
    {
     "name": "stderr",
     "output_type": "stream",
     "text": [
      "Initial filtering of formulas: 100%|██████████████| 2/2 [00:00<00:00, 60.05it/s]\n",
      "Computing chunks: 100%|████████████████████████| 2/2 [00:00<00:00, 91180.52it/s]\n",
      "Splitting the experimental spectrum into chunks: 131072it [00:00, 3388137.57it/s]\n",
      "Deconvolving chunks: 100%|███████████████████████| 1/1 [03:19<00:00, 199.80s/it]\n"
     ]
    },
    {
     "name": "stdout",
     "output_type": "stream",
     "text": [
      "Estimation for 0.12 and 0.12 done\n",
      "It took: 199.9693820476532 seconds.\n",
      "[0.11808450072800065, 0.8703879610040048]\n"
     ]
    },
    {
     "name": "stderr",
     "output_type": "stream",
     "text": [
      "Initial filtering of formulas: 100%|██████████████| 2/2 [00:00<00:00, 62.30it/s]\n",
      "Computing chunks: 100%|████████████████████████| 2/2 [00:00<00:00, 99864.38it/s]\n",
      "Splitting the experimental spectrum into chunks: 131072it [00:00, 3488674.63it/s]\n",
      "Deconvolving chunks: 100%|███████████████████████| 1/1 [03:09<00:00, 189.11s/it]\n"
     ]
    },
    {
     "name": "stdout",
     "output_type": "stream",
     "text": [
      "Estimation for 0.12 and 0.13 done\n",
      "It took: 189.25686955451965 seconds.\n",
      "[0.11791037391200065, 0.8696310073320048]\n"
     ]
    },
    {
     "name": "stderr",
     "output_type": "stream",
     "text": [
      "Initial filtering of formulas: 100%|██████████████| 2/2 [00:00<00:00, 61.89it/s]\n",
      "Computing chunks: 100%|████████████████████████| 2/2 [00:00<00:00, 84733.41it/s]\n",
      "Splitting the experimental spectrum into chunks: 131072it [00:00, 3411644.55it/s]\n",
      "Deconvolving chunks: 100%|███████████████████████| 1/1 [03:04<00:00, 185.00s/it]\n"
     ]
    },
    {
     "name": "stdout",
     "output_type": "stream",
     "text": [
      "Estimation for 0.12 and 0.14 done\n",
      "It took: 185.1483919620514 seconds.\n",
      "[0.11763911061200065, 0.8694967657520047]\n"
     ]
    },
    {
     "name": "stderr",
     "output_type": "stream",
     "text": [
      "Initial filtering of formulas: 100%|██████████████| 2/2 [00:00<00:00, 58.28it/s]\n",
      "Computing chunks: 100%|████████████████████████| 2/2 [00:00<00:00, 91180.52it/s]\n",
      "Splitting the experimental spectrum into chunks: 131072it [00:00, 3423158.39it/s]\n",
      "Deconvolving chunks: 100%|███████████████████████| 1/1 [02:56<00:00, 176.17s/it]\n"
     ]
    },
    {
     "name": "stdout",
     "output_type": "stream",
     "text": [
      "Estimation for 0.12 and 0.15000000000000002 done\n",
      "It took: 176.31312489509583 seconds.\n",
      "[0.11723542075000065, 0.8696487875060048]\n"
     ]
    },
    {
     "name": "stderr",
     "output_type": "stream",
     "text": [
      "Initial filtering of formulas: 100%|██████████████| 2/2 [00:00<00:00, 61.95it/s]\n",
      "Computing chunks: 100%|████████████████████████| 2/2 [00:00<00:00, 88301.14it/s]\n",
      "Splitting the experimental spectrum into chunks: 131072it [00:00, 3476672.64it/s]\n",
      "Deconvolving chunks: 100%|███████████████████████| 1/1 [03:02<00:00, 182.55s/it]\n"
     ]
    },
    {
     "name": "stdout",
     "output_type": "stream",
     "text": [
      "Estimation for 0.12 and 0.16 done\n",
      "It took: 182.69456720352173 seconds.\n",
      "[0.11710789759300065, 0.8697349899790048]\n"
     ]
    },
    {
     "name": "stderr",
     "output_type": "stream",
     "text": [
      "Initial filtering of formulas: 100%|██████████████| 2/2 [00:00<00:00, 62.20it/s]\n",
      "Computing chunks: 100%|████████████████████████| 2/2 [00:00<00:00, 85598.04it/s]\n",
      "Splitting the experimental spectrum into chunks: 131072it [00:00, 3408767.61it/s]\n",
      "Deconvolving chunks: 100%|███████████████████████| 1/1 [03:08<00:00, 188.85s/it]\n"
     ]
    },
    {
     "name": "stdout",
     "output_type": "stream",
     "text": [
      "Estimation for 0.12 and 0.17 done\n",
      "It took: 188.99327087402344 seconds.\n",
      "[0.11701189195900065, 0.8698223423400048]\n"
     ]
    },
    {
     "name": "stderr",
     "output_type": "stream",
     "text": [
      "Initial filtering of formulas: 100%|██████████████| 2/2 [00:00<00:00, 55.34it/s]\n",
      "Computing chunks: 100%|████████████████████████| 2/2 [00:00<00:00, 84733.41it/s]\n",
      "Splitting the experimental spectrum into chunks: 131072it [00:00, 3126081.47it/s]\n",
      "Deconvolving chunks: 100%|███████████████████████| 1/1 [03:06<00:00, 186.91s/it]\n"
     ]
    },
    {
     "name": "stdout",
     "output_type": "stream",
     "text": [
      "Estimation for 0.12 and 0.18000000000000002 done\n",
      "It took: 187.06466507911682 seconds.\n",
      "[0.11690183675400065, 0.8698954154070048]\n"
     ]
    },
    {
     "name": "stderr",
     "output_type": "stream",
     "text": [
      "Initial filtering of formulas: 100%|██████████████| 2/2 [00:00<00:00, 61.60it/s]\n",
      "Computing chunks: 100%|████████████████████████| 2/2 [00:00<00:00, 94254.02it/s]\n",
      "Splitting the experimental spectrum into chunks: 131072it [00:00, 3472302.80it/s]\n",
      "Deconvolving chunks: 100%|███████████████████████| 1/1 [02:59<00:00, 179.61s/it]\n"
     ]
    },
    {
     "name": "stdout",
     "output_type": "stream",
     "text": [
      "Estimation for 0.12 and 0.19 done\n",
      "It took: 179.77869510650635 seconds.\n",
      "[0.11655699413100065, 0.8700595627790049]\n"
     ]
    },
    {
     "name": "stderr",
     "output_type": "stream",
     "text": [
      "Initial filtering of formulas: 100%|██████████████| 2/2 [00:00<00:00, 59.26it/s]\n",
      "Computing chunks: 100%|████████████████████████| 2/2 [00:00<00:00, 84733.41it/s]\n",
      "Splitting the experimental spectrum into chunks: 131072it [00:00, 3280439.98it/s]\n",
      "Deconvolving chunks: 100%|███████████████████████| 1/1 [03:02<00:00, 182.85s/it]\n"
     ]
    },
    {
     "name": "stdout",
     "output_type": "stream",
     "text": [
      "Estimation for 0.12 and 0.2 done\n",
      "It took: 182.992999792099 seconds.\n",
      "[0.11633685975200066, 0.8701626907490049]\n"
     ]
    },
    {
     "name": "stderr",
     "output_type": "stream",
     "text": [
      "Initial filtering of formulas: 100%|██████████████| 2/2 [00:00<00:00, 61.09it/s]\n",
      "Computing chunks: 100%|████████████████████████| 2/2 [00:00<00:00, 87381.33it/s]\n",
      "Splitting the experimental spectrum into chunks: 131072it [00:00, 3338895.45it/s]\n",
      "Deconvolving chunks: 100%|███████████████████████| 1/1 [02:58<00:00, 178.18s/it]\n"
     ]
    },
    {
     "name": "stdout",
     "output_type": "stream",
     "text": [
      "Estimation for 0.12 and 0.21000000000000002 done\n",
      "It took: 178.35110425949097 seconds.\n",
      "[0.11570131175300064, 0.8704363809570049]\n"
     ]
    },
    {
     "name": "stderr",
     "output_type": "stream",
     "text": [
      "Initial filtering of formulas: 100%|██████████████| 2/2 [00:00<00:00, 61.15it/s]\n",
      "Computing chunks: 100%|████████████████████████| 2/2 [00:00<00:00, 41323.19it/s]\n",
      "Splitting the experimental spectrum into chunks: 131072it [00:00, 3543040.08it/s]\n",
      "Deconvolving chunks: 100%|███████████████████████| 1/1 [02:55<00:00, 175.71s/it]\n"
     ]
    },
    {
     "name": "stdout",
     "output_type": "stream",
     "text": [
      "Estimation for 0.12 and 0.22 done\n",
      "It took: 175.84953689575195 seconds.\n",
      "[0.11459641315900064, 0.8703799631910049]\n"
     ]
    },
    {
     "name": "stderr",
     "output_type": "stream",
     "text": [
      "Initial filtering of formulas: 100%|██████████████| 2/2 [00:00<00:00, 62.29it/s]\n",
      "Computing chunks: 100%|████████████████████████| 2/2 [00:00<00:00, 92182.51it/s]\n",
      "Splitting the experimental spectrum into chunks: 131072it [00:00, 3423904.57it/s]\n",
      "Deconvolving chunks: 100%|███████████████████████| 1/1 [02:57<00:00, 177.22s/it]\n"
     ]
    },
    {
     "name": "stdout",
     "output_type": "stream",
     "text": [
      "Estimation for 0.12 and 0.23 done\n",
      "It took: 177.36188220977783 seconds.\n",
      "[0.11378540218900064, 0.8705269839680049]\n"
     ]
    },
    {
     "name": "stderr",
     "output_type": "stream",
     "text": [
      "Initial filtering of formulas: 100%|██████████████| 2/2 [00:00<00:00, 61.42it/s]\n",
      "Computing chunks: 100%|████████████████████████| 2/2 [00:00<00:00, 98689.51it/s]\n",
      "Splitting the experimental spectrum into chunks: 131072it [00:00, 3480590.66it/s]\n",
      "Deconvolving chunks: 100%|███████████████████████| 1/1 [02:59<00:00, 179.15s/it]\n"
     ]
    },
    {
     "name": "stdout",
     "output_type": "stream",
     "text": [
      "Estimation for 0.12 and 0.24000000000000002 done\n",
      "It took: 179.31856107711792 seconds.\n",
      "[0.11348857017400063, 0.8695364996920047]\n"
     ]
    },
    {
     "name": "stderr",
     "output_type": "stream",
     "text": [
      "Initial filtering of formulas: 100%|██████████████| 2/2 [00:00<00:00, 62.66it/s]\n",
      "Computing chunks: 100%|████████████████████████| 2/2 [00:00<00:00, 56679.78it/s]\n",
      "Splitting the experimental spectrum into chunks: 131072it [00:00, 3442687.08it/s]\n",
      "Deconvolving chunks: 100%|███████████████████████| 1/1 [02:54<00:00, 174.13s/it]\n"
     ]
    },
    {
     "name": "stdout",
     "output_type": "stream",
     "text": [
      "Estimation for 0.12 and 0.25 done\n",
      "It took: 174.27046966552734 seconds.\n",
      "[0.11313999416100062, 0.8685384568110047]\n"
     ]
    },
    {
     "name": "stderr",
     "output_type": "stream",
     "text": [
      "Initial filtering of formulas: 100%|██████████████| 2/2 [00:00<00:00, 62.27it/s]\n",
      "Computing chunks: 100%|████████████████████████| 2/2 [00:00<00:00, 97541.95it/s]\n",
      "Splitting the experimental spectrum into chunks: 131072it [00:00, 3426358.62it/s]\n",
      "Deconvolving chunks: 100%|███████████████████████| 1/1 [02:45<00:00, 165.48s/it]\n"
     ]
    },
    {
     "name": "stdout",
     "output_type": "stream",
     "text": [
      "Estimation for 0.12 and 0.26 done\n",
      "It took: 165.62553763389587 seconds.\n",
      "[0.11235962307300063, 0.8689045389820048]\n"
     ]
    },
    {
     "name": "stderr",
     "output_type": "stream",
     "text": [
      "Initial filtering of formulas: 100%|██████████████| 2/2 [00:00<00:00, 61.45it/s]\n",
      "Computing chunks: 100%|████████████████████████| 2/2 [00:00<00:00, 93206.76it/s]\n",
      "Splitting the experimental spectrum into chunks: 131072it [00:00, 3400418.21it/s]\n",
      "Deconvolving chunks: 100%|███████████████████████| 1/1 [02:58<00:00, 178.33s/it]\n"
     ]
    },
    {
     "name": "stdout",
     "output_type": "stream",
     "text": [
      "Estimation for 0.12 and 0.27 done\n",
      "It took: 178.4761564731598 seconds.\n",
      "[0.1109663644380006, 0.8695705501210048]\n"
     ]
    },
    {
     "name": "stderr",
     "output_type": "stream",
     "text": [
      "Initial filtering of formulas: 100%|██████████████| 2/2 [00:00<00:00, 58.91it/s]\n",
      "Computing chunks: 100%|████████████████████████| 2/2 [00:00<00:00, 83055.52it/s]\n",
      "Splitting the experimental spectrum into chunks: 131072it [00:00, 3415671.94it/s]\n",
      "Deconvolving chunks: 100%|███████████████████████| 1/1 [02:50<00:00, 170.89s/it]\n"
     ]
    },
    {
     "name": "stdout",
     "output_type": "stream",
     "text": [
      "Estimation for 0.12 and 0.28 done\n",
      "It took: 171.0545151233673 seconds.\n",
      "[0.10563461189600058, 0.8723418146420049]\n"
     ]
    },
    {
     "name": "stderr",
     "output_type": "stream",
     "text": [
      "Initial filtering of formulas: 100%|██████████████| 2/2 [00:00<00:00, 62.34it/s]\n",
      "Computing chunks: 100%|████████████████████████| 2/2 [00:00<00:00, 99864.38it/s]\n",
      "Splitting the experimental spectrum into chunks: 131072it [00:00, 3435608.80it/s]\n",
      "Deconvolving chunks: 100%|███████████████████████| 1/1 [02:53<00:00, 173.41s/it]\n"
     ]
    },
    {
     "name": "stdout",
     "output_type": "stream",
     "text": [
      "Estimation for 0.12 and 0.29000000000000004 done\n",
      "It took: 173.5510663986206 seconds.\n",
      "[0.10510673141100059, 0.8726367104940049]\n"
     ]
    },
    {
     "name": "stderr",
     "output_type": "stream",
     "text": [
      "Initial filtering of formulas: 100%|██████████████| 2/2 [00:00<00:00, 60.95it/s]\n",
      "Computing chunks: 100%|████████████████████████| 2/2 [00:00<00:00, 55924.05it/s]\n",
      "Splitting the experimental spectrum into chunks: 131072it [00:00, 3419581.22it/s]\n",
      "Deconvolving chunks: 100%|███████████████████████| 1/1 [02:28<00:00, 148.29s/it]\n"
     ]
    },
    {
     "name": "stdout",
     "output_type": "stream",
     "text": [
      "Estimation for 0.13 and 0.01 done\n",
      "It took: 148.44062757492065 seconds.\n",
      "[0.3828158271040021, 0.6171841728960035]\n"
     ]
    },
    {
     "name": "stderr",
     "output_type": "stream",
     "text": [
      "Initial filtering of formulas: 100%|██████████████| 2/2 [00:00<00:00, 62.33it/s]\n",
      "Computing chunks: 100%|████████████████████████| 2/2 [00:00<00:00, 92182.51it/s]\n",
      "Splitting the experimental spectrum into chunks: 131072it [00:00, 3422455.14it/s]\n",
      "Deconvolving chunks: 100%|███████████████████████| 1/1 [03:06<00:00, 186.64s/it]\n"
     ]
    },
    {
     "name": "stdout",
     "output_type": "stream",
     "text": [
      "Estimation for 0.13 and 0.02 done\n",
      "It took: 186.8055455684662 seconds.\n",
      "[0.15697387988200087, 0.8407625502220046]\n"
     ]
    },
    {
     "name": "stderr",
     "output_type": "stream",
     "text": [
      "Initial filtering of formulas: 100%|██████████████| 2/2 [00:00<00:00, 62.91it/s]\n",
      "Computing chunks: 100%|████████████████████████| 2/2 [00:00<00:00, 97541.95it/s]\n",
      "Splitting the experimental spectrum into chunks: 131072it [00:00, 3302749.19it/s]\n",
      "Deconvolving chunks: 100%|███████████████████████| 1/1 [03:02<00:00, 182.11s/it]\n"
     ]
    },
    {
     "name": "stdout",
     "output_type": "stream",
     "text": [
      "Estimation for 0.13 and 0.03 done\n",
      "It took: 182.25456428527832 seconds.\n",
      "[0.13806405088900078, 0.8590805966940048]\n"
     ]
    },
    {
     "name": "stderr",
     "output_type": "stream",
     "text": [
      "Initial filtering of formulas: 100%|██████████████| 2/2 [00:00<00:00, 61.75it/s]\n",
      "Computing chunks: 100%|████████████████████████| 2/2 [00:00<00:00, 90200.09it/s]\n",
      "Splitting the experimental spectrum into chunks: 131072it [00:00, 3409507.53it/s]\n",
      "Deconvolving chunks: 100%|███████████████████████| 1/1 [03:00<00:00, 180.71s/it]\n"
     ]
    },
    {
     "name": "stdout",
     "output_type": "stream",
     "text": [
      "Estimation for 0.13 and 0.04 done\n",
      "It took: 180.85480570793152 seconds.\n",
      "[0.13065897042100072, 0.8655319901460048]\n"
     ]
    },
    {
     "name": "stderr",
     "output_type": "stream",
     "text": [
      "Initial filtering of formulas: 100%|██████████████| 2/2 [00:00<00:00, 62.58it/s]\n",
      "Computing chunks: 100%|████████████████████████| 2/2 [00:00<00:00, 62601.55it/s]\n",
      "Splitting the experimental spectrum into chunks: 131072it [00:00, 3411369.34it/s]\n",
      "Deconvolving chunks: 100%|███████████████████████| 1/1 [03:06<00:00, 186.97s/it]\n"
     ]
    },
    {
     "name": "stdout",
     "output_type": "stream",
     "text": [
      "Estimation for 0.13 and 0.05 done\n",
      "It took: 187.10838675498962 seconds.\n",
      "[0.12425194556800069, 0.8713853500830049]\n"
     ]
    },
    {
     "name": "stderr",
     "output_type": "stream",
     "text": [
      "Initial filtering of formulas: 100%|██████████████| 2/2 [00:00<00:00, 60.44it/s]\n",
      "Computing chunks: 100%|████████████████████████| 2/2 [00:00<00:00, 91180.52it/s]\n",
      "Splitting the experimental spectrum into chunks: 131072it [00:00, 3218880.47it/s]\n",
      "Deconvolving chunks: 100%|███████████████████████| 1/1 [02:38<00:00, 158.88s/it]\n"
     ]
    },
    {
     "name": "stdout",
     "output_type": "stream",
     "text": [
      "Estimation for 0.13 and 0.060000000000000005 done\n",
      "It took: 159.05443143844604 seconds.\n",
      "[0.12129872359300067, 0.8732657419760049]\n"
     ]
    },
    {
     "name": "stderr",
     "output_type": "stream",
     "text": [
      "Initial filtering of formulas: 100%|██████████████| 2/2 [00:00<00:00, 60.52it/s]\n",
      "Computing chunks: 100%|████████████████████████| 2/2 [00:00<00:00, 87381.33it/s]\n",
      "Splitting the experimental spectrum into chunks: 131072it [00:00, 3387365.15it/s]\n",
      "Deconvolving chunks: 100%|███████████████████████| 1/1 [02:39<00:00, 159.94s/it]\n"
     ]
    },
    {
     "name": "stdout",
     "output_type": "stream",
     "text": [
      "Estimation for 0.13 and 0.06999999999999999 done\n",
      "It took: 160.08721780776978 seconds.\n",
      "[0.12115636123700066, 0.8727978651120049]\n"
     ]
    },
    {
     "name": "stderr",
     "output_type": "stream",
     "text": [
      "Initial filtering of formulas: 100%|██████████████| 2/2 [00:00<00:00, 62.72it/s]\n",
      "Computing chunks: 100%|████████████████████████| 2/2 [00:00<00:00, 94254.02it/s]\n",
      "Splitting the experimental spectrum into chunks: 131072it [00:00, 3461829.37it/s]\n",
      "Deconvolving chunks: 100%|███████████████████████| 1/1 [02:56<00:00, 176.71s/it]\n"
     ]
    },
    {
     "name": "stdout",
     "output_type": "stream",
     "text": [
      "Estimation for 0.13 and 0.08 done\n",
      "It took: 176.84777855873108 seconds.\n",
      "[0.12090065997900067, 0.8722852223980049]\n"
     ]
    },
    {
     "name": "stderr",
     "output_type": "stream",
     "text": [
      "Initial filtering of formulas: 100%|██████████████| 2/2 [00:00<00:00, 61.72it/s]\n",
      "Computing chunks: 100%|████████████████████████| 2/2 [00:00<00:00, 89240.51it/s]\n",
      "Splitting the experimental spectrum into chunks: 131072it [00:00, 3402333.27it/s]\n",
      "Deconvolving chunks: 100%|███████████████████████| 1/1 [03:12<00:00, 192.88s/it]\n"
     ]
    },
    {
     "name": "stdout",
     "output_type": "stream",
     "text": [
      "Estimation for 0.13 and 0.09 done\n",
      "It took: 193.04653692245483 seconds.\n",
      "[0.12052688388300066, 0.8722052880930049]\n"
     ]
    },
    {
     "name": "stderr",
     "output_type": "stream",
     "text": [
      "Initial filtering of formulas: 100%|██████████████| 2/2 [00:00<00:00, 61.93it/s]\n",
      "Computing chunks: 100%|████████████████████████| 2/2 [00:00<00:00, 92182.51it/s]\n",
      "Splitting the experimental spectrum into chunks: 131072it [00:00, 3409211.53it/s]\n",
      "Deconvolving chunks: 100%|███████████████████████| 1/1 [03:03<00:00, 183.80s/it]\n"
     ]
    },
    {
     "name": "stdout",
     "output_type": "stream",
     "text": [
      "Estimation for 0.13 and 0.09999999999999999 done\n",
      "It took: 183.9656674861908 seconds.\n",
      "[0.11899059882500067, 0.8728270722330049]\n"
     ]
    },
    {
     "name": "stderr",
     "output_type": "stream",
     "text": [
      "Initial filtering of formulas: 100%|██████████████| 2/2 [00:00<00:00, 61.98it/s]\n",
      "Computing chunks: 100%|███████████████████████| 2/2 [00:00<00:00, 101067.57it/s]\n",
      "Splitting the experimental spectrum into chunks: 131072it [00:00, 3491688.08it/s]\n",
      "Deconvolving chunks: 100%|███████████████████████| 1/1 [02:55<00:00, 175.18s/it]\n"
     ]
    },
    {
     "name": "stdout",
     "output_type": "stream",
     "text": [
      "Estimation for 0.13 and 0.11 done\n",
      "It took: 175.32555103302002 seconds.\n",
      "[0.11829093536200065, 0.8719630742090049]\n"
     ]
    },
    {
     "name": "stderr",
     "output_type": "stream",
     "text": [
      "Initial filtering of formulas: 100%|██████████████| 2/2 [00:00<00:00, 61.08it/s]\n",
      "Computing chunks: 100%|████████████████████████| 2/2 [00:00<00:00, 96420.78it/s]\n",
      "Splitting the experimental spectrum into chunks: 131072it [00:00, 3435995.31it/s]\n",
      "Deconvolving chunks: 100%|███████████████████████| 1/1 [02:53<00:00, 173.06s/it]\n"
     ]
    },
    {
     "name": "stdout",
     "output_type": "stream",
     "text": [
      "Estimation for 0.13 and 0.12 done\n",
      "It took: 173.19858860969543 seconds.\n",
      "[0.11837460716200066, 0.8708880336460049]\n"
     ]
    },
    {
     "name": "stderr",
     "output_type": "stream",
     "text": [
      "Initial filtering of formulas: 100%|██████████████| 2/2 [00:00<00:00, 60.46it/s]\n",
      "Computing chunks: 100%|████████████████████████| 2/2 [00:00<00:00, 92182.51it/s]\n",
      "Splitting the experimental spectrum into chunks: 131072it [00:00, 3238887.53it/s]\n",
      "Deconvolving chunks: 100%|███████████████████████| 1/1 [02:56<00:00, 176.84s/it]\n"
     ]
    },
    {
     "name": "stdout",
     "output_type": "stream",
     "text": [
      "Estimation for 0.13 and 0.13 done\n",
      "It took: 176.9891390800476 seconds.\n",
      "[0.11849179188600065, 0.8699529842150048]\n"
     ]
    },
    {
     "name": "stderr",
     "output_type": "stream",
     "text": [
      "Initial filtering of formulas: 100%|██████████████| 2/2 [00:00<00:00, 61.31it/s]\n",
      "Computing chunks: 100%|████████████████████████| 2/2 [00:00<00:00, 94254.02it/s]\n",
      "Splitting the experimental spectrum into chunks: 131072it [00:00, 3532817.19it/s]\n",
      "Deconvolving chunks: 100%|███████████████████████| 1/1 [02:56<00:00, 177.00s/it]\n"
     ]
    },
    {
     "name": "stdout",
     "output_type": "stream",
     "text": [
      "Estimation for 0.13 and 0.14 done\n",
      "It took: 177.14370703697205 seconds.\n",
      "[0.11842882957600065, 0.8694371182360048]\n"
     ]
    },
    {
     "name": "stderr",
     "output_type": "stream",
     "text": [
      "Initial filtering of formulas: 100%|██████████████| 2/2 [00:00<00:00, 61.04it/s]\n",
      "Computing chunks: 100%|████████████████████████| 2/2 [00:00<00:00, 93206.76it/s]\n",
      "Splitting the experimental spectrum into chunks: 131072it [00:00, 3401722.74it/s]\n",
      "Deconvolving chunks: 100%|███████████████████████| 1/1 [02:54<00:00, 174.86s/it]\n"
     ]
    },
    {
     "name": "stdout",
     "output_type": "stream",
     "text": [
      "Estimation for 0.13 and 0.15000000000000002 done\n",
      "It took: 175.03066039085388 seconds.\n",
      "[0.11821941660400065, 0.8695304545860048]\n"
     ]
    },
    {
     "name": "stderr",
     "output_type": "stream",
     "text": [
      "Initial filtering of formulas: 100%|██████████████| 2/2 [00:00<00:00, 58.65it/s]\n",
      "Computing chunks: 100%|████████████████████████| 2/2 [00:00<00:00, 39568.91it/s]\n",
      "Splitting the experimental spectrum into chunks: 131072it [00:00, 3344745.89it/s]\n",
      "Deconvolving chunks: 100%|███████████████████████| 1/1 [02:47<00:00, 167.46s/it]\n"
     ]
    },
    {
     "name": "stdout",
     "output_type": "stream",
     "text": [
      "Estimation for 0.13 and 0.16 done\n",
      "It took: 167.61015939712524 seconds.\n",
      "[0.11791247470900065, 0.8696824910960048]\n"
     ]
    },
    {
     "name": "stderr",
     "output_type": "stream",
     "text": [
      "Initial filtering of formulas: 100%|██████████████| 2/2 [00:00<00:00, 62.68it/s]\n",
      "Computing chunks: 100%|████████████████████████| 2/2 [00:00<00:00, 94254.02it/s]\n",
      "Splitting the experimental spectrum into chunks: 131072it [00:00, 3336808.07it/s]\n",
      "Deconvolving chunks: 100%|███████████████████████| 1/1 [03:05<00:00, 185.29s/it]\n"
     ]
    },
    {
     "name": "stdout",
     "output_type": "stream",
     "text": [
      "Estimation for 0.13 and 0.17 done\n",
      "It took: 185.43752264976501 seconds.\n",
      "[0.11760245565400065, 0.8698010243840048]\n"
     ]
    },
    {
     "name": "stderr",
     "output_type": "stream",
     "text": [
      "Initial filtering of formulas: 100%|██████████████| 2/2 [00:00<00:00, 60.81it/s]\n",
      "Computing chunks: 100%|████████████████████████| 2/2 [00:00<00:00, 93206.76it/s]\n",
      "Splitting the experimental spectrum into chunks: 131072it [00:00, 3430613.50it/s]\n",
      "Deconvolving chunks: 100%|███████████████████████| 1/1 [02:52<00:00, 172.74s/it]\n"
     ]
    },
    {
     "name": "stdout",
     "output_type": "stream",
     "text": [
      "Estimation for 0.13 and 0.18000000000000002 done\n",
      "It took: 172.88764262199402 seconds.\n",
      "[0.11718863186300066, 0.8699358452270047]\n"
     ]
    },
    {
     "name": "stderr",
     "output_type": "stream",
     "text": [
      "Initial filtering of formulas: 100%|██████████████| 2/2 [00:00<00:00, 62.68it/s]\n",
      "Computing chunks: 100%|████████████████████████| 2/2 [00:00<00:00, 95325.09it/s]\n",
      "Splitting the experimental spectrum into chunks: 131072it [00:00, 3476672.64it/s]\n",
      "Deconvolving chunks: 100%|███████████████████████| 1/1 [02:56<00:00, 176.09s/it]\n"
     ]
    },
    {
     "name": "stdout",
     "output_type": "stream",
     "text": [
      "Estimation for 0.13 and 0.19 done\n",
      "It took: 176.2283697128296 seconds.\n",
      "[0.11696452423800065, 0.8700291015910049]\n"
     ]
    },
    {
     "name": "stderr",
     "output_type": "stream",
     "text": [
      "Initial filtering of formulas: 100%|██████████████| 2/2 [00:00<00:00, 61.73it/s]\n",
      "Computing chunks: 100%|████████████████████████| 2/2 [00:00<00:00, 89240.51it/s]\n",
      "Splitting the experimental spectrum into chunks: 131072it [00:00, 3505581.54it/s]\n",
      "Deconvolving chunks: 100%|███████████████████████| 1/1 [02:58<00:00, 178.24s/it]\n"
     ]
    },
    {
     "name": "stdout",
     "output_type": "stream",
     "text": [
      "Estimation for 0.13 and 0.2 done\n",
      "It took: 178.40579438209534 seconds.\n",
      "[0.11663565079200065, 0.8701845443440049]\n"
     ]
    },
    {
     "name": "stderr",
     "output_type": "stream",
     "text": [
      "Initial filtering of formulas: 100%|██████████████| 2/2 [00:00<00:00, 59.95it/s]\n",
      "Computing chunks: 100%|████████████████████████| 2/2 [00:00<00:00, 90200.09it/s]\n",
      "Splitting the experimental spectrum into chunks: 131072it [00:00, 3391712.00it/s]\n",
      "Deconvolving chunks: 100%|███████████████████████| 1/1 [02:56<00:00, 176.72s/it]\n"
     ]
    },
    {
     "name": "stdout",
     "output_type": "stream",
     "text": [
      "Estimation for 0.13 and 0.21000000000000002 done\n",
      "It took: 176.86093282699585 seconds.\n",
      "[0.11640382543900066, 0.8702975992880049]\n"
     ]
    },
    {
     "name": "stderr",
     "output_type": "stream",
     "text": [
      "Initial filtering of formulas: 100%|██████████████| 2/2 [00:00<00:00, 61.73it/s]\n",
      "Computing chunks: 100%|████████████████████████| 2/2 [00:00<00:00, 89240.51it/s]\n",
      "Splitting the experimental spectrum into chunks: 131072it [00:00, 3456496.79it/s]\n",
      "Deconvolving chunks: 100%|███████████████████████| 1/1 [02:57<00:00, 177.03s/it]\n"
     ]
    },
    {
     "name": "stdout",
     "output_type": "stream",
     "text": [
      "Estimation for 0.13 and 0.22 done\n",
      "It took: 177.17561769485474 seconds.\n",
      "[0.11604201373900064, 0.8701802528750049]\n"
     ]
    },
    {
     "name": "stderr",
     "output_type": "stream",
     "text": [
      "Initial filtering of formulas: 100%|██████████████| 2/2 [00:00<00:00, 65.39it/s]\n",
      "Computing chunks: 100%|████████████████████████| 2/2 [00:00<00:00, 88301.14it/s]\n",
      "Splitting the experimental spectrum into chunks: 131072it [00:00, 3525409.06it/s]\n",
      "Deconvolving chunks: 100%|███████████████████████| 1/1 [02:58<00:00, 178.15s/it]\n"
     ]
    },
    {
     "name": "stdout",
     "output_type": "stream",
     "text": [
      "Estimation for 0.13 and 0.23 done\n",
      "It took: 178.28878116607666 seconds.\n",
      "[0.11471556797200064, 0.8704538925320049]\n"
     ]
    },
    {
     "name": "stderr",
     "output_type": "stream",
     "text": [
      "Initial filtering of formulas: 100%|██████████████| 2/2 [00:00<00:00, 61.23it/s]\n",
      "Computing chunks: 100%|████████████████████████| 2/2 [00:00<00:00, 96420.78it/s]\n",
      "Splitting the experimental spectrum into chunks: 131072it [00:00, 3433999.29it/s]\n",
      "Deconvolving chunks: 100%|███████████████████████| 1/1 [02:58<00:00, 178.18s/it]\n"
     ]
    },
    {
     "name": "stdout",
     "output_type": "stream",
     "text": [
      "Estimation for 0.13 and 0.24000000000000002 done\n",
      "It took: 178.32010054588318 seconds.\n",
      "[0.11411005918200064, 0.8697235674860048]\n"
     ]
    },
    {
     "name": "stderr",
     "output_type": "stream",
     "text": [
      "Initial filtering of formulas: 100%|██████████████| 2/2 [00:00<00:00, 62.04it/s]\n",
      "Computing chunks: 100%|████████████████████████| 2/2 [00:00<00:00, 94254.02it/s]\n",
      "Splitting the experimental spectrum into chunks: 131072it [00:00, 3435802.05it/s]\n",
      "Deconvolving chunks: 100%|███████████████████████| 1/1 [03:13<00:00, 193.03s/it]\n"
     ]
    },
    {
     "name": "stdout",
     "output_type": "stream",
     "text": [
      "Estimation for 0.13 and 0.25 done\n",
      "It took: 193.17733359336853 seconds.\n",
      "[0.11387160155000065, 0.8684405442850047]\n"
     ]
    },
    {
     "name": "stderr",
     "output_type": "stream",
     "text": [
      "Initial filtering of formulas: 100%|██████████████| 2/2 [00:00<00:00, 61.68it/s]\n",
      "Computing chunks: 100%|████████████████████████| 2/2 [00:00<00:00, 90200.09it/s]\n",
      "Splitting the experimental spectrum into chunks: 131072it [00:00, 3455193.35it/s]\n",
      "Deconvolving chunks: 100%|███████████████████████| 1/1 [02:53<00:00, 173.81s/it]\n"
     ]
    },
    {
     "name": "stdout",
     "output_type": "stream",
     "text": [
      "Estimation for 0.13 and 0.26 done\n",
      "It took: 173.94850420951843 seconds.\n",
      "[0.11327638681900062, 0.8687257372510048]\n"
     ]
    },
    {
     "name": "stderr",
     "output_type": "stream",
     "text": [
      "Initial filtering of formulas: 100%|██████████████| 2/2 [00:00<00:00, 62.32it/s]\n",
      "Computing chunks: 100%|████████████████████████| 2/2 [00:00<00:00, 92182.51it/s]\n",
      "Splitting the experimental spectrum into chunks: 131072it [00:00, 3483347.36it/s]\n",
      "Deconvolving chunks: 100%|███████████████████████| 1/1 [02:55<00:00, 175.61s/it]\n"
     ]
    },
    {
     "name": "stdout",
     "output_type": "stream",
     "text": [
      "Estimation for 0.13 and 0.27 done\n",
      "It took: 175.77783846855164 seconds.\n",
      "[0.11249700141600062, 0.8690998233360048]\n"
     ]
    },
    {
     "name": "stderr",
     "output_type": "stream",
     "text": [
      "Initial filtering of formulas: 100%|██████████████| 2/2 [00:00<00:00, 59.38it/s]\n",
      "Computing chunks: 100%|████████████████████████| 2/2 [00:00<00:00, 47127.01it/s]\n",
      "Splitting the experimental spectrum into chunks: 131072it [00:00, 3454845.93it/s]\n",
      "Deconvolving chunks: 100%|███████████████████████| 1/1 [02:56<00:00, 176.17s/it]\n"
     ]
    },
    {
     "name": "stdout",
     "output_type": "stream",
     "text": [
      "Estimation for 0.13 and 0.28 done\n",
      "It took: 176.34034776687622 seconds.\n",
      "[0.11129123982000062, 0.8696448031860048]\n"
     ]
    },
    {
     "name": "stderr",
     "output_type": "stream",
     "text": [
      "Initial filtering of formulas: 100%|██████████████| 2/2 [00:00<00:00, 63.02it/s]\n",
      "Computing chunks: 100%|████████████████████████| 2/2 [00:00<00:00, 94254.02it/s]\n",
      "Splitting the experimental spectrum into chunks: 131072it [00:00, 3464949.48it/s]\n",
      "Deconvolving chunks: 100%|███████████████████████| 1/1 [02:40<00:00, 160.13s/it]\n"
     ]
    },
    {
     "name": "stdout",
     "output_type": "stream",
     "text": [
      "Estimation for 0.13 and 0.29000000000000004 done\n",
      "It took: 160.27192997932434 seconds.\n",
      "[0.10557953718400058, 0.8727977738780048]\n"
     ]
    },
    {
     "name": "stderr",
     "output_type": "stream",
     "text": [
      "Initial filtering of formulas: 100%|██████████████| 2/2 [00:00<00:00, 62.70it/s]\n",
      "Computing chunks: 100%|████████████████████████| 2/2 [00:00<00:00, 95325.09it/s]\n",
      "Splitting the experimental spectrum into chunks: 131072it [00:00, 3414971.76it/s]\n",
      "Deconvolving chunks: 100%|███████████████████████| 1/1 [02:15<00:00, 135.59s/it]\n"
     ]
    },
    {
     "name": "stdout",
     "output_type": "stream",
     "text": [
      "Estimation for 0.14 and 0.01 done\n",
      "It took: 135.75296807289124 seconds.\n",
      "[0.3828158271040021, 0.6171841728960035]\n"
     ]
    },
    {
     "name": "stderr",
     "output_type": "stream",
     "text": [
      "Initial filtering of formulas: 100%|██████████████| 2/2 [00:00<00:00, 61.68it/s]\n",
      "Computing chunks: 100%|████████████████████████| 2/2 [00:00<00:00, 68200.07it/s]\n",
      "Splitting the experimental spectrum into chunks: 131072it [00:00, 3388492.58it/s]\n",
      "Deconvolving chunks: 100%|███████████████████████| 1/1 [03:13<00:00, 193.93s/it]\n"
     ]
    },
    {
     "name": "stdout",
     "output_type": "stream",
     "text": [
      "Estimation for 0.14 and 0.02 done\n",
      "It took: 194.09566497802734 seconds.\n",
      "[0.1585440877790009, 0.8393698942800046]\n"
     ]
    },
    {
     "name": "stderr",
     "output_type": "stream",
     "text": [
      "Initial filtering of formulas: 100%|██████████████| 2/2 [00:00<00:00, 60.68it/s]\n",
      "Computing chunks: 100%|████████████████████████| 2/2 [00:00<00:00, 88301.14it/s]\n",
      "Splitting the experimental spectrum into chunks: 131072it [00:00, 3371928.27it/s]\n",
      "Deconvolving chunks: 100%|███████████████████████| 1/1 [03:00<00:00, 180.63s/it]\n"
     ]
    },
    {
     "name": "stdout",
     "output_type": "stream",
     "text": [
      "Estimation for 0.14 and 0.03 done\n",
      "It took: 180.77212929725647 seconds.\n",
      "[0.13818977918300077, 0.8591843120510048]\n"
     ]
    },
    {
     "name": "stderr",
     "output_type": "stream",
     "text": [
      "Initial filtering of formulas: 100%|██████████████| 2/2 [00:00<00:00, 61.87it/s]\n",
      "Computing chunks: 100%|████████████████████████| 2/2 [00:00<00:00, 94254.02it/s]\n",
      "Splitting the experimental spectrum into chunks: 131072it [00:00, 3401133.48it/s]\n",
      "Deconvolving chunks: 100%|███████████████████████| 1/1 [03:04<00:00, 184.56s/it]\n"
     ]
    },
    {
     "name": "stdout",
     "output_type": "stream",
     "text": [
      "Estimation for 0.14 and 0.04 done\n",
      "It took: 184.7011649608612 seconds.\n",
      "[0.13128067714100072, 0.8656513174170047]\n"
     ]
    },
    {
     "name": "stderr",
     "output_type": "stream",
     "text": [
      "Initial filtering of formulas: 100%|██████████████| 2/2 [00:00<00:00, 61.58it/s]\n",
      "Computing chunks: 100%|████████████████████████| 2/2 [00:00<00:00, 83886.08it/s]\n",
      "Splitting the experimental spectrum into chunks: 131072it [00:00, 3406022.13it/s]\n",
      "Deconvolving chunks: 100%|███████████████████████| 1/1 [02:53<00:00, 173.37s/it]\n"
     ]
    },
    {
     "name": "stdout",
     "output_type": "stream",
     "text": [
      "Estimation for 0.14 and 0.05 done\n",
      "It took: 173.53348922729492 seconds.\n",
      "[0.1254864065580007, 0.8708831020120049]\n"
     ]
    },
    {
     "name": "stderr",
     "output_type": "stream",
     "text": [
      "Initial filtering of formulas: 100%|██████████████| 2/2 [00:00<00:00, 60.20it/s]\n",
      "Computing chunks: 100%|████████████████████████| 2/2 [00:00<00:00, 93206.76it/s]\n",
      "Splitting the experimental spectrum into chunks: 131072it [00:00, 3393030.79it/s]\n",
      "Deconvolving chunks: 100%|███████████████████████| 1/1 [03:08<00:00, 188.91s/it]\n"
     ]
    },
    {
     "name": "stdout",
     "output_type": "stream",
     "text": [
      "Estimation for 0.14 and 0.060000000000000005 done\n",
      "It took: 189.0800964832306 seconds.\n",
      "[0.12117996676900067, 0.8741363304920049]\n"
     ]
    },
    {
     "name": "stderr",
     "output_type": "stream",
     "text": [
      "Initial filtering of formulas: 100%|██████████████| 2/2 [00:00<00:00, 50.78it/s]\n",
      "Computing chunks: 100%|████████████████████████| 2/2 [00:00<00:00, 82241.25it/s]\n",
      "Splitting the experimental spectrum into chunks: 131072it [00:00, 3033587.42it/s]\n",
      "Deconvolving chunks: 100%|███████████████████████| 1/1 [03:16<00:00, 196.07s/it]\n"
     ]
    },
    {
     "name": "stdout",
     "output_type": "stream",
     "text": [
      "Estimation for 0.14 and 0.06999999999999999 done\n",
      "It took: 196.237384557724 seconds.\n",
      "[0.12147926161100069, 0.8730887348350049]\n"
     ]
    },
    {
     "name": "stderr",
     "output_type": "stream",
     "text": [
      "Initial filtering of formulas: 100%|██████████████| 2/2 [00:00<00:00, 47.80it/s]\n",
      "Computing chunks: 100%|████████████████████████| 2/2 [00:00<00:00, 47393.27it/s]\n",
      "Splitting the experimental spectrum into chunks: 131072it [00:00, 3409359.52it/s]\n",
      "Deconvolving chunks: 100%|███████████████████████| 1/1 [03:44<00:00, 224.47s/it]\n"
     ]
    },
    {
     "name": "stdout",
     "output_type": "stream",
     "text": [
      "Estimation for 0.14 and 0.08 done\n",
      "It took: 224.66289973258972 seconds.\n",
      "[0.12106831439500067, 0.8725875621550049]\n"
     ]
    },
    {
     "name": "stderr",
     "output_type": "stream",
     "text": [
      "Initial filtering of formulas: 100%|██████████████| 2/2 [00:00<00:00, 56.44it/s]\n",
      "Computing chunks: 100%|████████████████████████| 2/2 [00:00<00:00, 82241.25it/s]\n",
      "Splitting the experimental spectrum into chunks: 131072it [00:00, 3144678.35it/s]\n",
      "Deconvolving chunks: 100%|███████████████████████| 1/1 [03:56<00:00, 236.84s/it]\n"
     ]
    },
    {
     "name": "stdout",
     "output_type": "stream",
     "text": [
      "Estimation for 0.14 and 0.09 done\n",
      "It took: 236.99942255020142 seconds.\n",
      "[0.12088587393100067, 0.8722060826380049]\n"
     ]
    },
    {
     "name": "stderr",
     "output_type": "stream",
     "text": [
      "Initial filtering of formulas: 100%|██████████████| 2/2 [00:00<00:00, 51.77it/s]\n",
      "Computing chunks: 100%|████████████████████████| 2/2 [00:00<00:00, 80659.69it/s]\n",
      "Splitting the experimental spectrum into chunks: 131072it [00:00, 3234885.28it/s]\n",
      "Deconvolving chunks: 100%|███████████████████████| 1/1 [03:20<00:00, 200.20s/it]\n"
     ]
    },
    {
     "name": "stdout",
     "output_type": "stream",
     "text": [
      "Estimation for 0.14 and 0.09999999999999999 done\n",
      "It took: 200.39011216163635 seconds.\n",
      "[0.12056906152100066, 0.8722878211130048]\n"
     ]
    },
    {
     "name": "stderr",
     "output_type": "stream",
     "text": [
      "Initial filtering of formulas: 100%|██████████████| 2/2 [00:00<00:00, 53.97it/s]\n",
      "Computing chunks: 100%|████████████████████████| 2/2 [00:00<00:00, 95325.09it/s]\n",
      "Splitting the experimental spectrum into chunks: 131072it [00:00, 3083855.38it/s]\n",
      "Deconvolving chunks: 100%|███████████████████████| 1/1 [03:40<00:00, 220.13s/it]\n"
     ]
    },
    {
     "name": "stdout",
     "output_type": "stream",
     "text": [
      "Estimation for 0.14 and 0.11 done\n",
      "It took: 220.29444074630737 seconds.\n",
      "[0.11934708825000066, 0.8722231796490049]\n"
     ]
    },
    {
     "name": "stderr",
     "output_type": "stream",
     "text": [
      "Initial filtering of formulas: 100%|██████████████| 2/2 [00:00<00:00, 53.72it/s]\n",
      "Computing chunks: 100%|████████████████████████| 2/2 [00:00<00:00, 49932.19it/s]\n",
      "Splitting the experimental spectrum into chunks: 131072it [00:00, 3249493.53it/s]\n",
      "Deconvolving chunks: 100%|███████████████████████| 1/1 [03:16<00:00, 196.29s/it]\n"
     ]
    },
    {
     "name": "stdout",
     "output_type": "stream",
     "text": [
      "Estimation for 0.14 and 0.12 done\n",
      "It took: 196.45077443122864 seconds.\n",
      "[0.11872642158800065, 0.8715338824510049]\n"
     ]
    },
    {
     "name": "stderr",
     "output_type": "stream",
     "text": [
      "Initial filtering of formulas: 100%|██████████████| 2/2 [00:00<00:00, 53.03it/s]\n",
      "Computing chunks: 100%|████████████████████████| 2/2 [00:00<00:00, 68759.08it/s]\n",
      "Splitting the experimental spectrum into chunks: 131072it [00:00, 3145200.09it/s]\n",
      "Deconvolving chunks: 100%|███████████████████████| 1/1 [03:26<00:00, 206.22s/it]\n"
     ]
    },
    {
     "name": "stdout",
     "output_type": "stream",
     "text": [
      "Estimation for 0.14 and 0.13 done\n",
      "It took: 206.40338706970215 seconds.\n",
      "[0.11863864827100065, 0.8704100697580048]\n"
     ]
    },
    {
     "name": "stderr",
     "output_type": "stream",
     "text": [
      "Initial filtering of formulas: 100%|██████████████| 2/2 [00:00<00:00, 56.30it/s]\n",
      "Computing chunks: 100%|████████████████████████| 2/2 [00:00<00:00, 44858.87it/s]\n",
      "Splitting the experimental spectrum into chunks: 131072it [00:00, 3283006.26it/s]\n",
      "Deconvolving chunks: 100%|███████████████████████| 1/1 [03:28<00:00, 208.49s/it]\n"
     ]
    },
    {
     "name": "stdout",
     "output_type": "stream",
     "text": [
      "Estimation for 0.14 and 0.14 done\n",
      "It took: 208.6460280418396 seconds.\n",
      "[0.11865749266700065, 0.8696909396610047]\n"
     ]
    },
    {
     "name": "stderr",
     "output_type": "stream",
     "text": [
      "Initial filtering of formulas: 100%|██████████████| 2/2 [00:00<00:00, 53.18it/s]\n",
      "Computing chunks: 100%|████████████████████████| 2/2 [00:00<00:00, 86480.49it/s]\n",
      "Splitting the experimental spectrum into chunks: 131072it [00:00, 3176971.26it/s]\n",
      "Deconvolving chunks: 100%|███████████████████████| 1/1 [03:38<00:00, 218.80s/it]\n"
     ]
    },
    {
     "name": "stdout",
     "output_type": "stream",
     "text": [
      "Estimation for 0.14 and 0.15000000000000002 done\n",
      "It took: 218.98114395141602 seconds.\n",
      "[0.11859349087200065, 0.8694981414410048]\n"
     ]
    },
    {
     "name": "stderr",
     "output_type": "stream",
     "text": [
      "Initial filtering of formulas: 100%|██████████████| 2/2 [00:00<00:00, 53.13it/s]\n",
      "Computing chunks: 100%|████████████████████████| 2/2 [00:00<00:00, 83886.08it/s]\n",
      "Splitting the experimental spectrum into chunks: 131072it [00:00, 2766707.33it/s]\n",
      "Deconvolving chunks: 100%|███████████████████████| 1/1 [03:16<00:00, 196.02s/it]\n"
     ]
    },
    {
     "name": "stdout",
     "output_type": "stream",
     "text": [
      "Estimation for 0.14 and 0.16 done\n",
      "It took: 196.18592596054077 seconds.\n",
      "[0.11845283991200065, 0.8696020880410048]\n"
     ]
    },
    {
     "name": "stderr",
     "output_type": "stream",
     "text": [
      "Initial filtering of formulas: 100%|██████████████| 2/2 [00:00<00:00, 54.91it/s]\n",
      "Computing chunks: 100%|████████████████████████| 2/2 [00:00<00:00, 64035.18it/s]\n",
      "Splitting the experimental spectrum into chunks: 131072it [00:00, 3264195.55it/s]\n",
      "Deconvolving chunks: 100%|███████████████████████| 1/1 [03:16<00:00, 196.78s/it]\n"
     ]
    },
    {
     "name": "stdout",
     "output_type": "stream",
     "text": [
      "Estimation for 0.14 and 0.17 done\n",
      "It took: 196.9462423324585 seconds.\n",
      "[0.11824997828600065, 0.8696999275270048]\n"
     ]
    },
    {
     "name": "stderr",
     "output_type": "stream",
     "text": [
      "Initial filtering of formulas: 100%|██████████████| 2/2 [00:00<00:00, 53.46it/s]\n",
      "Computing chunks: 100%|████████████████████████| 2/2 [00:00<00:00, 97541.95it/s]\n",
      "Splitting the experimental spectrum into chunks: 131072it [00:00, 3115310.98it/s]\n",
      "Deconvolving chunks: 100%|███████████████████████| 1/1 [03:09<00:00, 189.52s/it]\n"
     ]
    },
    {
     "name": "stdout",
     "output_type": "stream",
     "text": [
      "Estimation for 0.14 and 0.18000000000000002 done\n",
      "It took: 189.6974217891693 seconds.\n",
      "[0.11812079974000066, 0.8697616047790048]\n"
     ]
    },
    {
     "name": "stderr",
     "output_type": "stream",
     "text": [
      "Initial filtering of formulas: 100%|██████████████| 2/2 [00:00<00:00, 55.45it/s]\n",
      "Computing chunks: 100%|████████████████████████| 2/2 [00:00<00:00, 60787.01it/s]\n",
      "Splitting the experimental spectrum into chunks: 131072it [00:00, 3183465.34it/s]\n",
      "Deconvolving chunks: 100%|███████████████████████| 1/1 [03:18<00:00, 198.78s/it]\n"
     ]
    },
    {
     "name": "stdout",
     "output_type": "stream",
     "text": [
      "Estimation for 0.14 and 0.19 done\n",
      "It took: 198.9413390159607 seconds.\n",
      "[0.11781722858700065, 0.8698756285900048]\n"
     ]
    },
    {
     "name": "stderr",
     "output_type": "stream",
     "text": [
      "Initial filtering of formulas: 100%|██████████████| 2/2 [00:00<00:00, 49.13it/s]\n",
      "Computing chunks: 100%|████████████████████████| 2/2 [00:00<00:00, 83055.52it/s]\n",
      "Splitting the experimental spectrum into chunks: 131072it [00:00, 3184498.01it/s]\n",
      "Deconvolving chunks: 100%|███████████████████████| 1/1 [03:20<00:00, 200.08s/it]\n"
     ]
    },
    {
     "name": "stdout",
     "output_type": "stream",
     "text": [
      "Estimation for 0.14 and 0.2 done\n",
      "It took: 200.24561667442322 seconds.\n",
      "[0.11753849048800065, 0.8699693491310048]\n"
     ]
    },
    {
     "name": "stderr",
     "output_type": "stream",
     "text": [
      "Initial filtering of formulas: 100%|██████████████| 2/2 [00:00<00:00, 54.90it/s]\n",
      "Computing chunks: 100%|████████████████████████| 2/2 [00:00<00:00, 79137.81it/s]\n",
      "Splitting the experimental spectrum into chunks: 131072it [00:00, 3183170.42it/s]\n",
      "Deconvolving chunks: 100%|███████████████████████| 1/1 [03:23<00:00, 203.68s/it]\n"
     ]
    },
    {
     "name": "stdout",
     "output_type": "stream",
     "text": [
      "Estimation for 0.14 and 0.21000000000000002 done\n",
      "It took: 203.84277439117432 seconds.\n",
      "[0.11705070254100065, 0.8701721753730048]\n"
     ]
    },
    {
     "name": "stderr",
     "output_type": "stream",
     "text": [
      "Initial filtering of formulas: 100%|██████████████| 2/2 [00:00<00:00, 49.65it/s]\n",
      "Computing chunks: 100%|████████████████████████| 2/2 [00:00<00:00, 33961.98it/s]\n",
      "Splitting the experimental spectrum into chunks: 131072it [00:00, 3200702.22it/s]\n",
      "Deconvolving chunks: 100%|███████████████████████| 1/1 [03:24<00:00, 204.70s/it]\n"
     ]
    },
    {
     "name": "stdout",
     "output_type": "stream",
     "text": [
      "Estimation for 0.14 and 0.22 done\n",
      "It took: 204.86761736869812 seconds.\n",
      "[0.11662438508900065, 0.8702922535210049]\n"
     ]
    },
    {
     "name": "stderr",
     "output_type": "stream",
     "text": [
      "Initial filtering of formulas: 100%|██████████████| 2/2 [00:00<00:00, 51.49it/s]\n",
      "Computing chunks: 100%|████████████████████████| 2/2 [00:00<00:00, 43464.29it/s]\n",
      "Splitting the experimental spectrum into chunks: 131072it [00:00, 3188284.02it/s]\n",
      "Deconvolving chunks: 100%|███████████████████████| 1/1 [03:26<00:00, 206.12s/it]\n"
     ]
    },
    {
     "name": "stdout",
     "output_type": "stream",
     "text": [
      "Estimation for 0.14 and 0.23 done\n",
      "It took: 206.3051016330719 seconds.\n",
      "[0.11633958782900065, 0.8699959002310048]\n"
     ]
    },
    {
     "name": "stderr",
     "output_type": "stream",
     "text": [
      "Initial filtering of formulas: 100%|██████████████| 2/2 [00:00<00:00, 51.94it/s]\n",
      "Computing chunks: 100%|████████████████████████| 2/2 [00:00<00:00, 43690.67it/s]\n",
      "Splitting the experimental spectrum into chunks: 131072it [00:00, 2945635.92it/s]\n",
      "Deconvolving chunks: 100%|███████████████████████| 1/1 [03:07<00:00, 187.99s/it]\n"
     ]
    },
    {
     "name": "stdout",
     "output_type": "stream",
     "text": [
      "Estimation for 0.14 and 0.24000000000000002 done\n",
      "It took: 188.15356588363647 seconds.\n",
      "[0.11494988399900063, 0.8704024876030049]\n"
     ]
    },
    {
     "name": "stderr",
     "output_type": "stream",
     "text": [
      "Initial filtering of formulas: 100%|██████████████| 2/2 [00:00<00:00, 53.22it/s]\n",
      "Computing chunks: 100%|████████████████████████| 2/2 [00:00<00:00, 37117.73it/s]\n",
      "Splitting the experimental spectrum into chunks: 131072it [00:00, 3245024.43it/s]\n",
      "Deconvolving chunks: 100%|███████████████████████| 1/1 [03:23<00:00, 203.48s/it]\n"
     ]
    },
    {
     "name": "stdout",
     "output_type": "stream",
     "text": [
      "Estimation for 0.14 and 0.25 done\n",
      "It took: 203.6703064441681 seconds.\n",
      "[0.11424808924000064, 0.8696798827710047]\n"
     ]
    },
    {
     "name": "stderr",
     "output_type": "stream",
     "text": [
      "Initial filtering of formulas: 100%|██████████████| 2/2 [00:00<00:00, 43.66it/s]\n",
      "Computing chunks: 100%|████████████████████████| 2/2 [00:00<00:00, 78398.21it/s]\n",
      "Splitting the experimental spectrum into chunks: 131072it [00:00, 2551734.16it/s]\n",
      "Deconvolving chunks: 100%|███████████████████████| 1/1 [03:25<00:00, 205.49s/it]\n"
     ]
    },
    {
     "name": "stdout",
     "output_type": "stream",
     "text": [
      "Estimation for 0.14 and 0.26 done\n",
      "It took: 205.69652771949768 seconds.\n",
      "[0.11395784101100064, 0.8686862915320048]\n"
     ]
    },
    {
     "name": "stderr",
     "output_type": "stream",
     "text": [
      "Initial filtering of formulas: 100%|██████████████| 2/2 [00:00<00:00, 50.77it/s]\n",
      "Computing chunks: 100%|████████████████████████| 2/2 [00:00<00:00, 61680.94it/s]\n",
      "Splitting the experimental spectrum into chunks: 131072it [00:00, 2744429.15it/s]\n",
      "Deconvolving chunks: 100%|███████████████████████| 1/1 [03:11<00:00, 191.30s/it]\n"
     ]
    },
    {
     "name": "stdout",
     "output_type": "stream",
     "text": [
      "Estimation for 0.14 and 0.27 done\n",
      "It took: 191.48257660865784 seconds.\n",
      "[0.11339552670200062, 0.8689623047030047]\n"
     ]
    },
    {
     "name": "stderr",
     "output_type": "stream",
     "text": [
      "Initial filtering of formulas: 100%|██████████████| 2/2 [00:00<00:00, 51.82it/s]\n",
      "Computing chunks: 100%|████████████████████████| 2/2 [00:00<00:00, 68200.07it/s]\n",
      "Splitting the experimental spectrum into chunks: 131072it [00:00, 2939131.95it/s]\n",
      "Deconvolving chunks: 100%|███████████████████████| 1/1 [03:24<00:00, 204.07s/it]\n"
     ]
    },
    {
     "name": "stdout",
     "output_type": "stream",
     "text": [
      "Estimation for 0.14 and 0.28 done\n",
      "It took: 204.24771904945374 seconds.\n",
      "[0.11270229801800062, 0.8692802897860048]\n"
     ]
    },
    {
     "name": "stderr",
     "output_type": "stream",
     "text": [
      "Initial filtering of formulas: 100%|██████████████| 2/2 [00:00<00:00, 46.74it/s]\n",
      "Computing chunks: 100%|████████████████████████| 2/2 [00:00<00:00, 63550.06it/s]\n",
      "Splitting the experimental spectrum into chunks: 131072it [00:00, 2621567.51it/s]\n",
      "Deconvolving chunks: 100%|███████████████████████| 1/1 [04:26<00:00, 266.69s/it]\n"
     ]
    },
    {
     "name": "stdout",
     "output_type": "stream",
     "text": [
      "Estimation for 0.14 and 0.29000000000000004 done\n",
      "It took: 266.87903594970703 seconds.\n",
      "[0.11001840097500061, 0.8707854799160049]\n"
     ]
    },
    {
     "name": "stderr",
     "output_type": "stream",
     "text": [
      "Initial filtering of formulas: 100%|██████████████| 2/2 [00:00<00:00, 53.02it/s]\n",
      "Computing chunks: 100%|████████████████████████| 2/2 [00:00<00:00, 69327.34it/s]\n",
      "Splitting the experimental spectrum into chunks: 131072it [00:00, 3193859.34it/s]\n",
      "Deconvolving chunks: 100%|███████████████████████| 1/1 [06:19<00:00, 379.85s/it]\n"
     ]
    },
    {
     "name": "stdout",
     "output_type": "stream",
     "text": [
      "Estimation for 0.15000000000000002 and 0.01 done\n",
      "It took: 380.02501153945923 seconds.\n",
      "[0.3828158271040021, 0.6171841728960035]\n"
     ]
    },
    {
     "name": "stderr",
     "output_type": "stream",
     "text": [
      "Initial filtering of formulas: 100%|██████████████| 2/2 [00:00<00:00, 51.21it/s]\n",
      "Computing chunks: 100%|████████████████████████| 2/2 [00:00<00:00, 83886.08it/s]\n",
      "Splitting the experimental spectrum into chunks: 131072it [00:00, 3185752.86it/s]\n",
      "Deconvolving chunks: 100%|███████████████████████| 1/1 [03:06<00:00, 186.14s/it]\n"
     ]
    },
    {
     "name": "stdout",
     "output_type": "stream",
     "text": [
      "Estimation for 0.15000000000000002 and 0.02 done\n",
      "It took: 186.30600953102112 seconds.\n",
      "[0.15980931970800089, 0.8382628048000047]\n"
     ]
    },
    {
     "name": "stderr",
     "output_type": "stream",
     "text": [
      "Initial filtering of formulas: 100%|██████████████| 2/2 [00:00<00:00, 55.00it/s]\n",
      "Computing chunks: 100%|████████████████████████| 2/2 [00:00<00:00, 57456.22it/s]\n",
      "Splitting the experimental spectrum into chunks: 131072it [00:00, 3140187.77it/s]\n",
      "Deconvolving chunks: 100%|███████████████████████| 1/1 [04:25<00:00, 265.31s/it]\n"
     ]
    },
    {
     "name": "stdout",
     "output_type": "stream",
     "text": [
      "Estimation for 0.15000000000000002 and 0.03 done\n",
      "It took: 265.4758367538452 seconds.\n",
      "[0.13821025953700078, 0.8594531385270048]\n"
     ]
    },
    {
     "name": "stderr",
     "output_type": "stream",
     "text": [
      "Initial filtering of formulas: 100%|██████████████| 2/2 [00:00<00:00, 49.77it/s]\n",
      "Computing chunks: 100%|████████████████████████| 2/2 [00:00<00:00, 31655.12it/s]\n",
      "Splitting the experimental spectrum into chunks: 131072it [00:00, 3118916.48it/s]\n",
      "Deconvolving chunks: 100%|███████████████████████| 1/1 [03:28<00:00, 208.56s/it]\n"
     ]
    },
    {
     "name": "stdout",
     "output_type": "stream",
     "text": [
      "Estimation for 0.15000000000000002 and 0.04 done\n",
      "It took: 208.75940823554993 seconds.\n",
      "[0.13177996798100072, 0.8654906484540048]\n"
     ]
    },
    {
     "name": "stderr",
     "output_type": "stream",
     "text": [
      "Initial filtering of formulas: 100%|██████████████| 2/2 [00:00<00:00, 50.57it/s]\n",
      "Computing chunks: 100%|████████████████████████| 2/2 [00:00<00:00, 72315.59it/s]\n",
      "Splitting the experimental spectrum into chunks: 131072it [00:00, 3076882.43it/s]\n",
      "Deconvolving chunks: 100%|███████████████████████| 1/1 [03:18<00:00, 198.54s/it]\n"
     ]
    },
    {
     "name": "stdout",
     "output_type": "stream",
     "text": [
      "Estimation for 0.15000000000000002 and 0.05 done\n",
      "It took: 198.70462322235107 seconds.\n",
      "[0.1269018602060007, 0.8699840072630047]\n"
     ]
    },
    {
     "name": "stderr",
     "output_type": "stream",
     "text": [
      "Initial filtering of formulas: 100%|██████████████| 2/2 [00:00<00:00, 56.00it/s]\n",
      "Computing chunks: 100%|████████████████████████| 2/2 [00:00<00:00, 86480.49it/s]\n",
      "Splitting the experimental spectrum into chunks: 131072it [00:00, 3185106.86it/s]\n",
      "Deconvolving chunks: 100%|███████████████████████| 1/1 [03:07<00:00, 187.01s/it]\n"
     ]
    },
    {
     "name": "stdout",
     "output_type": "stream",
     "text": [
      "Estimation for 0.15000000000000002 and 0.060000000000000005 done\n",
      "It took: 187.16765069961548 seconds.\n",
      "[0.12098746368900067, 0.8748679678950049]\n"
     ]
    },
    {
     "name": "stderr",
     "output_type": "stream",
     "text": [
      "Initial filtering of formulas: 100%|██████████████| 2/2 [00:00<00:00, 55.61it/s]\n",
      "Computing chunks: 100%|████████████████████████| 2/2 [00:00<00:00, 42581.77it/s]\n",
      "Splitting the experimental spectrum into chunks: 131072it [00:00, 3177246.67it/s]\n",
      "Deconvolving chunks: 100%|███████████████████████| 1/1 [02:59<00:00, 179.87s/it]\n"
     ]
    },
    {
     "name": "stdout",
     "output_type": "stream",
     "text": [
      "Estimation for 0.15000000000000002 and 0.06999999999999999 done\n",
      "It took: 180.02094841003418 seconds.\n",
      "[0.12151194711000068, 0.8732941953550049]\n"
     ]
    },
    {
     "name": "stderr",
     "output_type": "stream",
     "text": [
      "Initial filtering of formulas: 100%|██████████████| 2/2 [00:00<00:00, 60.49it/s]\n",
      "Computing chunks: 100%|████████████████████████| 2/2 [00:00<00:00, 87381.33it/s]\n",
      "Splitting the experimental spectrum into chunks: 131072it [00:00, 3201783.39it/s]\n",
      "Deconvolving chunks: 100%|███████████████████████| 1/1 [03:04<00:00, 185.00s/it]\n"
     ]
    },
    {
     "name": "stdout",
     "output_type": "stream",
     "text": [
      "Estimation for 0.15000000000000002 and 0.08 done\n",
      "It took: 185.14612078666687 seconds.\n",
      "[0.12105378430700067, 0.8730874515540049]\n"
     ]
    },
    {
     "name": "stderr",
     "output_type": "stream",
     "text": [
      "Initial filtering of formulas: 100%|██████████████| 2/2 [00:00<00:00, 59.70it/s]\n",
      "Computing chunks: 100%|████████████████████████| 2/2 [00:00<00:00, 87381.33it/s]\n",
      "Splitting the experimental spectrum into chunks: 131072it [00:00, 3416202.56it/s]\n",
      "Deconvolving chunks: 100%|███████████████████████| 1/1 [03:11<00:00, 191.31s/it]\n"
     ]
    },
    {
     "name": "stdout",
     "output_type": "stream",
     "text": [
      "Estimation for 0.15000000000000002 and 0.09 done\n",
      "It took: 191.45594835281372 seconds.\n",
      "[0.12089106325300067, 0.8725710905400049]\n"
     ]
    },
    {
     "name": "stderr",
     "output_type": "stream",
     "text": [
      "Initial filtering of formulas: 100%|██████████████| 2/2 [00:00<00:00, 59.92it/s]\n",
      "Computing chunks: 100%|████████████████████████| 2/2 [00:00<00:00, 60787.01it/s]\n",
      "Splitting the experimental spectrum into chunks: 131072it [00:00, 3316196.95it/s]\n",
      "Deconvolving chunks: 100%|███████████████████████| 1/1 [03:15<00:00, 195.54s/it]\n"
     ]
    },
    {
     "name": "stdout",
     "output_type": "stream",
     "text": [
      "Estimation for 0.15000000000000002 and 0.09999999999999999 done\n",
      "It took: 195.69005155563354 seconds.\n",
      "[0.12076144811600066, 0.8722558723730048]\n"
     ]
    },
    {
     "name": "stderr",
     "output_type": "stream",
     "text": [
      "Initial filtering of formulas: 100%|██████████████| 2/2 [00:00<00:00, 62.12it/s]\n",
      "Computing chunks: 100%|████████████████████████| 2/2 [00:00<00:00, 75573.05it/s]\n",
      "Splitting the experimental spectrum into chunks: 131072it [00:00, 3248591.04it/s]\n",
      "Deconvolving chunks: 100%|███████████████████████| 1/1 [03:15<00:00, 195.09s/it]\n"
     ]
    },
    {
     "name": "stdout",
     "output_type": "stream",
     "text": [
      "Estimation for 0.15000000000000002 and 0.11 done\n",
      "It took: 195.24096965789795 seconds.\n",
      "[0.12054103282400067, 0.8723228037600049]\n"
     ]
    },
    {
     "name": "stderr",
     "output_type": "stream",
     "text": [
      "Initial filtering of formulas: 100%|██████████████| 2/2 [00:00<00:00, 60.16it/s]\n",
      "Computing chunks: 100%|████████████████████████| 2/2 [00:00<00:00, 94254.02it/s]\n",
      "Splitting the experimental spectrum into chunks: 131072it [00:00, 3287266.14it/s]\n",
      "Deconvolving chunks: 100%|███████████████████████| 1/1 [03:20<00:00, 200.50s/it]\n"
     ]
    },
    {
     "name": "stdout",
     "output_type": "stream",
     "text": [
      "Estimation for 0.15000000000000002 and 0.12 done\n",
      "It took: 200.64612793922424 seconds.\n",
      "[0.11940712284900067, 0.8719408710170049]\n"
     ]
    },
    {
     "name": "stderr",
     "output_type": "stream",
     "text": [
      "Initial filtering of formulas: 100%|██████████████| 2/2 [00:00<00:00, 61.69it/s]\n",
      "Computing chunks: 100%|████████████████████████| 2/2 [00:00<00:00, 91180.52it/s]\n",
      "Splitting the experimental spectrum into chunks: 131072it [00:00, 3454042.80it/s]\n",
      "Deconvolving chunks: 100%|███████████████████████| 1/1 [03:13<00:00, 193.72s/it]\n"
     ]
    },
    {
     "name": "stdout",
     "output_type": "stream",
     "text": [
      "Estimation for 0.15000000000000002 and 0.13 done\n",
      "It took: 193.8655812740326 seconds.\n",
      "[0.11958021018700067, 0.8707965980020049]\n"
     ]
    },
    {
     "name": "stderr",
     "output_type": "stream",
     "text": [
      "Initial filtering of formulas: 100%|██████████████| 2/2 [00:00<00:00, 62.89it/s]\n",
      "Computing chunks: 100%|████████████████████████| 2/2 [00:00<00:00, 86480.49it/s]\n",
      "Splitting the experimental spectrum into chunks: 131072it [00:00, 3446312.78it/s]\n",
      "Deconvolving chunks: 100%|███████████████████████| 1/1 [03:01<00:00, 181.79s/it]\n"
     ]
    },
    {
     "name": "stdout",
     "output_type": "stream",
     "text": [
      "Estimation for 0.15000000000000002 and 0.14 done\n",
      "It took: 181.95264530181885 seconds.\n",
      "[0.11965633483900066, 0.8698634598520048]\n"
     ]
    },
    {
     "name": "stderr",
     "output_type": "stream",
     "text": [
      "Initial filtering of formulas: 100%|██████████████| 2/2 [00:00<00:00, 61.39it/s]\n",
      "Computing chunks: 100%|████████████████████████| 2/2 [00:00<00:00, 89240.51it/s]\n",
      "Splitting the experimental spectrum into chunks: 131072it [00:00, 3412110.39it/s]\n",
      "Deconvolving chunks: 100%|███████████████████████| 1/1 [03:08<00:00, 188.12s/it]\n"
     ]
    },
    {
     "name": "stdout",
     "output_type": "stream",
     "text": [
      "Estimation for 0.15000000000000002 and 0.15000000000000002 done\n",
      "It took: 188.26672172546387 seconds.\n",
      "[0.11920211991700067, 0.8694391004580048]\n"
     ]
    },
    {
     "name": "stderr",
     "output_type": "stream",
     "text": [
      "Initial filtering of formulas: 100%|██████████████| 2/2 [00:00<00:00, 60.15it/s]\n",
      "Computing chunks: 100%|████████████████████████| 2/2 [00:00<00:00, 90200.09it/s]\n",
      "Splitting the experimental spectrum into chunks: 131072it [00:00, 3290945.96it/s]\n",
      "Deconvolving chunks: 100%|███████████████████████| 1/1 [03:07<00:00, 187.35s/it]\n"
     ]
    },
    {
     "name": "stdout",
     "output_type": "stream",
     "text": [
      "Estimation for 0.15000000000000002 and 0.16 done\n",
      "It took: 187.4939742088318 seconds.\n",
      "[0.11875308017700066, 0.8695908904530048]\n"
     ]
    },
    {
     "name": "stderr",
     "output_type": "stream",
     "text": [
      "Initial filtering of formulas: 100%|██████████████| 2/2 [00:00<00:00, 52.98it/s]\n",
      "Computing chunks: 100%|████████████████████████| 2/2 [00:00<00:00, 96420.78it/s]\n",
      "Splitting the experimental spectrum into chunks: 131072it [00:00, 3019491.59it/s]\n",
      "Deconvolving chunks: 100%|███████████████████████| 1/1 [03:05<00:00, 185.75s/it]\n"
     ]
    },
    {
     "name": "stdout",
     "output_type": "stream",
     "text": [
      "Estimation for 0.15000000000000002 and 0.17 done\n",
      "It took: 185.91030025482178 seconds.\n",
      "[0.11854726723200065, 0.8696811161540048]\n"
     ]
    },
    {
     "name": "stderr",
     "output_type": "stream",
     "text": [
      "Initial filtering of formulas: 100%|██████████████| 2/2 [00:00<00:00, 60.22it/s]\n",
      "Computing chunks: 100%|████████████████████████| 2/2 [00:00<00:00, 76959.71it/s]\n",
      "Splitting the experimental spectrum into chunks: 131072it [00:00, 3432155.56it/s]\n",
      "Deconvolving chunks: 100%|███████████████████████| 1/1 [03:16<00:00, 196.56s/it]\n"
     ]
    },
    {
     "name": "stdout",
     "output_type": "stream",
     "text": [
      "Estimation for 0.15000000000000002 and 0.18000000000000002 done\n",
      "It took: 196.7307164669037 seconds.\n",
      "[0.11846474378500066, 0.8697340514990047]\n"
     ]
    },
    {
     "name": "stderr",
     "output_type": "stream",
     "text": [
      "Initial filtering of formulas: 100%|██████████████| 2/2 [00:00<00:00, 57.61it/s]\n",
      "Computing chunks: 100%|████████████████████████| 2/2 [00:00<00:00, 93206.76it/s]\n",
      "Splitting the experimental spectrum into chunks: 131072it [00:00, 3340417.03it/s]\n",
      "Deconvolving chunks: 100%|███████████████████████| 1/1 [03:17<00:00, 197.22s/it]\n"
     ]
    },
    {
     "name": "stdout",
     "output_type": "stream",
     "text": [
      "Estimation for 0.15000000000000002 and 0.19 done\n",
      "It took: 197.3701286315918 seconds.\n",
      "[0.11838637590500065, 0.8697835021340048]\n"
     ]
    },
    {
     "name": "stderr",
     "output_type": "stream",
     "text": [
      "Initial filtering of formulas: 100%|██████████████| 2/2 [00:00<00:00, 60.34it/s]\n",
      "Computing chunks: 100%|████████████████████████| 2/2 [00:00<00:00, 86480.49it/s]\n",
      "Splitting the experimental spectrum into chunks: 131072it [00:00, 3348453.63it/s]\n",
      "Deconvolving chunks: 100%|███████████████████████| 1/1 [03:29<00:00, 209.79s/it]\n"
     ]
    },
    {
     "name": "stdout",
     "output_type": "stream",
     "text": [
      "Estimation for 0.15000000000000002 and 0.2 done\n",
      "It took: 209.96837854385376 seconds.\n",
      "[0.11821247337400065, 0.8698630573790048]\n"
     ]
    },
    {
     "name": "stderr",
     "output_type": "stream",
     "text": [
      "Initial filtering of formulas: 100%|██████████████| 2/2 [00:00<00:00, 61.33it/s]\n",
      "Computing chunks: 100%|████████████████████████| 2/2 [00:00<00:00, 68200.07it/s]\n",
      "Splitting the experimental spectrum into chunks: 131072it [00:00, 3437413.25it/s]\n",
      "Deconvolving chunks: 100%|███████████████████████| 1/1 [03:16<00:00, 196.70s/it]\n"
     ]
    },
    {
     "name": "stdout",
     "output_type": "stream",
     "text": [
      "Estimation for 0.15000000000000002 and 0.21000000000000002 done\n",
      "It took: 196.84833407402039 seconds.\n",
      "[0.11786503918600065, 0.8700047291960049]\n"
     ]
    },
    {
     "name": "stderr",
     "output_type": "stream",
     "text": [
      "Initial filtering of formulas: 100%|██████████████| 2/2 [00:00<00:00, 59.49it/s]\n",
      "Computing chunks: 100%|███████████████████████| 2/2 [00:00<00:00, 101067.57it/s]\n",
      "Splitting the experimental spectrum into chunks: 131072it [00:00, 3320623.67it/s]\n",
      "Deconvolving chunks: 100%|███████████████████████| 1/1 [03:16<00:00, 196.44s/it]\n"
     ]
    },
    {
     "name": "stdout",
     "output_type": "stream",
     "text": [
      "Estimation for 0.15000000000000002 and 0.22 done\n",
      "It took: 196.58958768844604 seconds.\n",
      "[0.11750435481400065, 0.8701603840700048]\n"
     ]
    },
    {
     "name": "stderr",
     "output_type": "stream",
     "text": [
      "Initial filtering of formulas: 100%|██████████████| 2/2 [00:00<00:00, 61.18it/s]\n",
      "Computing chunks: 100%|████████████████████████| 2/2 [00:00<00:00, 72315.59it/s]\n",
      "Splitting the experimental spectrum into chunks: 131072it [00:00, 3357512.96it/s]\n",
      "Deconvolving chunks: 100%|███████████████████████| 1/1 [02:50<00:00, 170.33s/it]\n"
     ]
    },
    {
     "name": "stdout",
     "output_type": "stream",
     "text": [
      "Estimation for 0.15000000000000002 and 0.23 done\n",
      "It took: 170.47039413452148 seconds.\n",
      "[0.11726610227900065, 0.8700161293200049]\n"
     ]
    },
    {
     "name": "stderr",
     "output_type": "stream",
     "text": [
      "Initial filtering of formulas: 100%|██████████████| 2/2 [00:00<00:00, 57.16it/s]\n",
      "Computing chunks: 100%|████████████████████████| 2/2 [00:00<00:00, 87381.33it/s]\n",
      "Splitting the experimental spectrum into chunks: 131072it [00:00, 3199770.76it/s]\n",
      "Deconvolving chunks: 100%|███████████████████████| 1/1 [03:09<00:00, 189.92s/it]\n"
     ]
    },
    {
     "name": "stdout",
     "output_type": "stream",
     "text": [
      "Estimation for 0.15000000000000002 and 0.24000000000000002 done\n",
      "It took: 190.08183765411377 seconds.\n",
      "[0.11694236470800065, 0.8699026864750048]\n"
     ]
    },
    {
     "name": "stderr",
     "output_type": "stream",
     "text": [
      "Initial filtering of formulas: 100%|██████████████| 2/2 [00:00<00:00, 60.13it/s]\n",
      "Computing chunks: 100%|████████████████████████| 2/2 [00:00<00:00, 75573.05it/s]\n",
      "Splitting the experimental spectrum into chunks: 131072it [00:00, 3121165.30it/s]\n",
      "Deconvolving chunks: 100%|███████████████████████| 1/1 [03:12<00:00, 192.06s/it]\n"
     ]
    },
    {
     "name": "stdout",
     "output_type": "stream",
     "text": [
      "Estimation for 0.15000000000000002 and 0.25 done\n",
      "It took: 192.21272540092468 seconds.\n",
      "[0.11577951270100063, 0.8696646991210047]\n"
     ]
    },
    {
     "name": "stderr",
     "output_type": "stream",
     "text": [
      "Initial filtering of formulas: 100%|██████████████| 2/2 [00:00<00:00, 59.52it/s]\n",
      "Computing chunks: 100%|████████████████████████| 2/2 [00:00<00:00, 92182.51it/s]\n",
      "Splitting the experimental spectrum into chunks: 131072it [00:00, 3326752.40it/s]\n",
      "Deconvolving chunks: 100%|███████████████████████| 1/1 [03:11<00:00, 191.30s/it]\n"
     ]
    },
    {
     "name": "stdout",
     "output_type": "stream",
     "text": [
      "Estimation for 0.15000000000000002 and 0.26 done\n",
      "It took: 191.44933080673218 seconds.\n",
      "[0.11503977171000064, 0.8684800941270048]\n"
     ]
    },
    {
     "name": "stderr",
     "output_type": "stream",
     "text": [
      "Initial filtering of formulas: 100%|██████████████| 2/2 [00:00<00:00, 60.58it/s]\n",
      "Computing chunks: 100%|████████████████████████| 2/2 [00:00<00:00, 75573.05it/s]\n",
      "Splitting the experimental spectrum into chunks: 131072it [00:00, 3381052.86it/s]\n",
      "Deconvolving chunks: 100%|███████████████████████| 1/1 [03:32<00:00, 212.42s/it]\n"
     ]
    },
    {
     "name": "stdout",
     "output_type": "stream",
     "text": [
      "Estimation for 0.15000000000000002 and 0.27 done\n",
      "It took: 212.59005641937256 seconds.\n",
      "[0.11420362696000064, 0.8687977219010048]\n"
     ]
    },
    {
     "name": "stderr",
     "output_type": "stream",
     "text": [
      "Initial filtering of formulas: 100%|██████████████| 2/2 [00:00<00:00, 59.10it/s]\n",
      "Computing chunks: 100%|████████████████████████| 2/2 [00:00<00:00, 93206.76it/s]\n",
      "Splitting the experimental spectrum into chunks: 131072it [00:00, 3277193.80it/s]\n",
      "Deconvolving chunks: 100%|███████████████████████| 1/1 [03:30<00:00, 210.90s/it]\n"
     ]
    },
    {
     "name": "stdout",
     "output_type": "stream",
     "text": [
      "Estimation for 0.15000000000000002 and 0.28 done\n",
      "It took: 211.04404211044312 seconds.\n",
      "[0.11365316803300063, 0.8690518573700048]\n"
     ]
    },
    {
     "name": "stderr",
     "output_type": "stream",
     "text": [
      "Initial filtering of formulas: 100%|██████████████| 2/2 [00:00<00:00, 58.38it/s]\n",
      "Computing chunks: 100%|████████████████████████| 2/2 [00:00<00:00, 88301.14it/s]\n",
      "Splitting the experimental spectrum into chunks: 131072it [00:00, 3208379.42it/s]\n",
      "Deconvolving chunks: 100%|███████████████████████| 1/1 [03:11<00:00, 191.34s/it]\n"
     ]
    },
    {
     "name": "stdout",
     "output_type": "stream",
     "text": [
      "Estimation for 0.15000000000000002 and 0.29000000000000004 done\n",
      "It took: 191.50868010520935 seconds.\n",
      "[0.11275933519000063, 0.8694966301130048]\n"
     ]
    },
    {
     "name": "stderr",
     "output_type": "stream",
     "text": [
      "Initial filtering of formulas: 100%|██████████████| 2/2 [00:00<00:00, 58.84it/s]\n",
      "Computing chunks: 100%|████████████████████████| 2/2 [00:00<00:00, 90200.09it/s]\n",
      "Splitting the experimental spectrum into chunks: 131072it [00:00, 3286519.37it/s]\n",
      "Deconvolving chunks: 100%|███████████████████████| 1/1 [03:15<00:00, 195.80s/it]\n"
     ]
    },
    {
     "name": "stdout",
     "output_type": "stream",
     "text": [
      "Estimation for 0.16 and 0.01 done\n",
      "It took: 195.9530725479126 seconds.\n",
      "[0.3828158271040021, 0.6171841728960035]\n"
     ]
    },
    {
     "name": "stderr",
     "output_type": "stream",
     "text": [
      "Initial filtering of formulas: 100%|██████████████| 2/2 [00:00<00:00, 57.63it/s]\n",
      "Computing chunks: 100%|████████████████████████| 2/2 [00:00<00:00, 86480.49it/s]\n",
      "Splitting the experimental spectrum into chunks: 131072it [00:00, 3520374.82it/s]\n",
      "Deconvolving chunks: 100%|███████████████████████| 1/1 [03:21<00:00, 201.90s/it]\n"
     ]
    },
    {
     "name": "stdout",
     "output_type": "stream",
     "text": [
      "Estimation for 0.16 and 0.02 done\n",
      "It took: 202.04584860801697 seconds.\n",
      "[0.16134382736500089, 0.8370106319830046]\n"
     ]
    },
    {
     "name": "stderr",
     "output_type": "stream",
     "text": [
      "Initial filtering of formulas: 100%|██████████████| 2/2 [00:00<00:00, 56.89it/s]\n",
      "Computing chunks: 100%|████████████████████████| 2/2 [00:00<00:00, 84733.41it/s]\n",
      "Splitting the experimental spectrum into chunks: 131072it [00:00, 3178826.63it/s]\n",
      "Deconvolving chunks: 100%|███████████████████████| 1/1 [04:03<00:00, 243.96s/it]\n"
     ]
    },
    {
     "name": "stdout",
     "output_type": "stream",
     "text": [
      "Estimation for 0.16 and 0.03 done\n",
      "It took: 244.1110816001892 seconds.\n",
      "[0.13820383876500078, 0.8597556330050048]\n"
     ]
    },
    {
     "name": "stderr",
     "output_type": "stream",
     "text": [
      "Initial filtering of formulas: 100%|██████████████| 2/2 [00:00<00:00, 57.93it/s]\n",
      "Computing chunks: 100%|████████████████████████| 2/2 [00:00<00:00, 39016.78it/s]\n",
      "Splitting the experimental spectrum into chunks: 131072it [00:00, 3497330.12it/s]\n",
      "Deconvolving chunks: 100%|███████████████████████| 1/1 [03:17<00:00, 197.10s/it]\n"
     ]
    },
    {
     "name": "stdout",
     "output_type": "stream",
     "text": [
      "Estimation for 0.16 and 0.04 done\n",
      "It took: 197.2534110546112 seconds.\n",
      "[0.13193251397100073, 0.8656208497180048]\n"
     ]
    },
    {
     "name": "stderr",
     "output_type": "stream",
     "text": [
      "Initial filtering of formulas: 100%|██████████████| 2/2 [00:00<00:00, 57.84it/s]\n",
      "Computing chunks: 100%|████████████████████████| 2/2 [00:00<00:00, 67650.06it/s]\n",
      "Splitting the experimental spectrum into chunks: 131072it [00:00, 3159225.67it/s]\n",
      "Deconvolving chunks: 100%|███████████████████████| 1/1 [03:34<00:00, 214.11s/it]\n"
     ]
    },
    {
     "name": "stdout",
     "output_type": "stream",
     "text": [
      "Estimation for 0.16 and 0.05 done\n",
      "It took: 214.2650887966156 seconds.\n",
      "[0.1269488582580007, 0.8701368338450048]\n"
     ]
    },
    {
     "name": "stderr",
     "output_type": "stream",
     "text": [
      "Initial filtering of formulas: 100%|██████████████| 2/2 [00:00<00:00, 58.53it/s]\n",
      "Computing chunks: 100%|████████████████████████| 2/2 [00:00<00:00, 87381.33it/s]\n",
      "Splitting the experimental spectrum into chunks: 131072it [00:00, 3256712.19it/s]\n",
      "Deconvolving chunks: 100%|███████████████████████| 1/1 [03:17<00:00, 197.27s/it]\n"
     ]
    },
    {
     "name": "stdout",
     "output_type": "stream",
     "text": [
      "Estimation for 0.16 and 0.060000000000000005 done\n",
      "It took: 197.423259973526 seconds.\n",
      "[0.12081817482000066, 0.8754907884760049]\n"
     ]
    },
    {
     "name": "stderr",
     "output_type": "stream",
     "text": [
      "Initial filtering of formulas: 100%|██████████████| 2/2 [00:00<00:00, 59.87it/s]\n",
      "Computing chunks: 100%|████████████████████████| 2/2 [00:00<00:00, 62601.55it/s]\n",
      "Splitting the experimental spectrum into chunks: 131072it [00:00, 3505290.97it/s]\n",
      "Deconvolving chunks: 100%|███████████████████████| 1/1 [03:18<00:00, 198.47s/it]\n"
     ]
    },
    {
     "name": "stdout",
     "output_type": "stream",
     "text": [
      "Estimation for 0.16 and 0.06999999999999999 done\n",
      "It took: 198.61547589302063 seconds.\n",
      "[0.12152951194100069, 0.8734030088640049]\n"
     ]
    },
    {
     "name": "stderr",
     "output_type": "stream",
     "text": [
      "Initial filtering of formulas: 100%|██████████████| 2/2 [00:00<00:00, 58.24it/s]\n",
      "Computing chunks: 100%|████████████████████████| 2/2 [00:00<00:00, 44150.57it/s]\n",
      "Splitting the experimental spectrum into chunks: 131072it [00:00, 3253204.73it/s]\n",
      "Deconvolving chunks: 100%|███████████████████████| 1/1 [03:03<00:00, 183.55s/it]\n"
     ]
    },
    {
     "name": "stdout",
     "output_type": "stream",
     "text": [
      "Estimation for 0.16 and 0.08 done\n",
      "It took: 183.7016739845276 seconds.\n",
      "[0.12111041417500067, 0.8734569606490049]\n"
     ]
    },
    {
     "name": "stderr",
     "output_type": "stream",
     "text": [
      "Initial filtering of formulas: 100%|██████████████| 2/2 [00:00<00:00, 57.06it/s]\n",
      "Computing chunks: 100%|████████████████████████| 2/2 [00:00<00:00, 81442.80it/s]\n",
      "Splitting the experimental spectrum into chunks: 131072it [00:00, 3219445.97it/s]\n",
      "Deconvolving chunks: 100%|███████████████████████| 1/1 [03:26<00:00, 206.32s/it]\n"
     ]
    },
    {
     "name": "stdout",
     "output_type": "stream",
     "text": [
      "Estimation for 0.16 and 0.09 done\n",
      "It took: 206.4770565032959 seconds.\n",
      "[0.12089013353700066, 0.8728684395870049]\n"
     ]
    },
    {
     "name": "stderr",
     "output_type": "stream",
     "text": [
      "Initial filtering of formulas: 100%|██████████████| 2/2 [00:00<00:00, 61.19it/s]\n",
      "Computing chunks: 100%|████████████████████████| 2/2 [00:00<00:00, 97541.95it/s]\n",
      "Splitting the experimental spectrum into chunks: 131072it [00:00, 2765802.58it/s]\n",
      "Deconvolving chunks: 100%|███████████████████████| 1/1 [02:51<00:00, 171.49s/it]\n"
     ]
    },
    {
     "name": "stdout",
     "output_type": "stream",
     "text": [
      "Estimation for 0.16 and 0.09999999999999999 done\n",
      "It took: 171.63847279548645 seconds.\n",
      "[0.12091725730000066, 0.8723486115910049]\n"
     ]
    },
    {
     "name": "stderr",
     "output_type": "stream",
     "text": [
      "Initial filtering of formulas: 100%|██████████████| 2/2 [00:00<00:00, 59.43it/s]\n",
      "Computing chunks: 100%|████████████████████████| 2/2 [00:00<00:00, 95325.09it/s]\n",
      "Splitting the experimental spectrum into chunks: 131072it [00:00, 3319560.98it/s]\n",
      "Deconvolving chunks: 100%|███████████████████████| 1/1 [03:44<00:00, 224.98s/it]\n"
     ]
    },
    {
     "name": "stdout",
     "output_type": "stream",
     "text": [
      "Estimation for 0.16 and 0.11 done\n",
      "It took: 225.15098094940186 seconds.\n",
      "[0.12063958478800067, 0.8723977924670049]\n"
     ]
    },
    {
     "name": "stderr",
     "output_type": "stream",
     "text": [
      "Initial filtering of formulas: 100%|██████████████| 2/2 [00:00<00:00, 61.43it/s]\n",
      "Computing chunks: 100%|████████████████████████| 2/2 [00:00<00:00, 88301.14it/s]\n",
      "Splitting the experimental spectrum into chunks: 131072it [00:00, 3401428.08it/s]\n",
      "Deconvolving chunks: 100%|███████████████████████| 1/1 [03:31<00:00, 211.45s/it]\n"
     ]
    },
    {
     "name": "stdout",
     "output_type": "stream",
     "text": [
      "Estimation for 0.16 and 0.12 done\n",
      "It took: 211.59118103981018 seconds.\n",
      "[0.12012292757900067, 0.8721384180700049]\n"
     ]
    },
    {
     "name": "stderr",
     "output_type": "stream",
     "text": [
      "Initial filtering of formulas: 100%|██████████████| 2/2 [00:00<00:00, 60.37it/s]\n",
      "Computing chunks: 100%|████████████████████████| 2/2 [00:00<00:00, 93206.76it/s]\n",
      "Splitting the experimental spectrum into chunks: 131072it [00:00, 3327739.12it/s]\n",
      "Deconvolving chunks: 100%|███████████████████████| 1/1 [02:53<00:00, 173.17s/it]\n"
     ]
    },
    {
     "name": "stdout",
     "output_type": "stream",
     "text": [
      "Estimation for 0.16 and 0.13 done\n",
      "It took: 173.3159897327423 seconds.\n",
      "[0.11949220254400067, 0.8714871584330048]\n"
     ]
    },
    {
     "name": "stderr",
     "output_type": "stream",
     "text": [
      "Initial filtering of formulas: 100%|██████████████| 2/2 [00:00<00:00, 59.10it/s]\n",
      "Computing chunks: 100%|████████████████████████| 2/2 [00:00<00:00, 84733.41it/s]\n",
      "Splitting the experimental spectrum into chunks: 131072it [00:00, 3338996.85it/s]\n",
      "Deconvolving chunks: 100%|███████████████████████| 1/1 [03:21<00:00, 201.19s/it]\n"
     ]
    },
    {
     "name": "stdout",
     "output_type": "stream",
     "text": [
      "Estimation for 0.16 and 0.14 done\n",
      "It took: 201.3374581336975 seconds.\n",
      "[0.11969697721100067, 0.8703544281980049]\n"
     ]
    },
    {
     "name": "stderr",
     "output_type": "stream",
     "text": [
      "Initial filtering of formulas: 100%|██████████████| 2/2 [00:00<00:00, 60.24it/s]\n",
      "Computing chunks: 100%|████████████████████████| 2/2 [00:00<00:00, 88301.14it/s]\n",
      "Splitting the experimental spectrum into chunks: 131072it [00:00, 3398211.21it/s]\n",
      "Deconvolving chunks: 100%|███████████████████████| 1/1 [03:03<00:00, 183.80s/it]\n"
     ]
    },
    {
     "name": "stdout",
     "output_type": "stream",
     "text": [
      "Estimation for 0.16 and 0.15000000000000002 done\n",
      "It took: 183.94750213623047 seconds.\n",
      "[0.11981026649800067, 0.8696619698800048]\n"
     ]
    },
    {
     "name": "stderr",
     "output_type": "stream",
     "text": [
      "Initial filtering of formulas: 100%|██████████████| 2/2 [00:00<00:00, 58.34it/s]\n",
      "Computing chunks: 100%|████████████████████████| 2/2 [00:00<00:00, 52428.80it/s]\n",
      "Splitting the experimental spectrum into chunks: 131072it [00:00, 3294397.12it/s]\n",
      "Deconvolving chunks: 100%|███████████████████████| 1/1 [02:50<00:00, 170.89s/it]\n"
     ]
    },
    {
     "name": "stdout",
     "output_type": "stream",
     "text": [
      "Estimation for 0.16 and 0.16 done\n",
      "It took: 171.03939199447632 seconds.\n",
      "[0.11983399719200066, 0.8694152769200048]\n"
     ]
    },
    {
     "name": "stderr",
     "output_type": "stream",
     "text": [
      "Initial filtering of formulas: 100%|██████████████| 2/2 [00:00<00:00, 61.07it/s]\n",
      "Computing chunks: 100%|████████████████████████| 2/2 [00:00<00:00, 95325.09it/s]\n",
      "Splitting the experimental spectrum into chunks: 131072it [00:00, 3353478.27it/s]\n",
      "Deconvolving chunks: 100%|███████████████████████| 1/1 [03:20<00:00, 200.05s/it]\n"
     ]
    },
    {
     "name": "stdout",
     "output_type": "stream",
     "text": [
      "Estimation for 0.16 and 0.17 done\n",
      "It took: 200.1965401172638 seconds.\n",
      "[0.11964705250300067, 0.8694918063010048]\n"
     ]
    },
    {
     "name": "stderr",
     "output_type": "stream",
     "text": [
      "Initial filtering of formulas: 100%|██████████████| 2/2 [00:00<00:00, 60.65it/s]\n",
      "Computing chunks: 100%|████████████████████████| 2/2 [00:00<00:00, 98689.51it/s]\n",
      "Splitting the experimental spectrum into chunks: 131072it [00:00, 3403070.40it/s]\n",
      "Deconvolving chunks: 100%|███████████████████████| 1/1 [03:07<00:00, 187.74s/it]\n"
     ]
    },
    {
     "name": "stdout",
     "output_type": "stream",
     "text": [
      "Estimation for 0.16 and 0.18000000000000002 done\n",
      "It took: 187.8828206062317 seconds.\n",
      "[0.11907760506100067, 0.8696537205020047]\n"
     ]
    },
    {
     "name": "stderr",
     "output_type": "stream",
     "text": [
      "Initial filtering of formulas: 100%|██████████████| 2/2 [00:00<00:00, 62.04it/s]\n",
      "Computing chunks: 100%|████████████████████████| 2/2 [00:00<00:00, 90200.09it/s]\n",
      "Splitting the experimental spectrum into chunks: 131072it [00:00, 3448625.98it/s]\n",
      "Deconvolving chunks: 100%|███████████████████████| 1/1 [02:57<00:00, 177.16s/it]\n"
     ]
    },
    {
     "name": "stdout",
     "output_type": "stream",
     "text": [
      "Estimation for 0.16 and 0.19 done\n",
      "It took: 177.3368616104126 seconds.\n",
      "[0.11871581025000065, 0.8697640657920048]\n"
     ]
    },
    {
     "name": "stderr",
     "output_type": "stream",
     "text": [
      "Initial filtering of formulas: 100%|██████████████| 2/2 [00:00<00:00, 54.28it/s]\n",
      "Computing chunks: 100%|████████████████████████| 2/2 [00:00<00:00, 69905.07it/s]\n",
      "Splitting the experimental spectrum into chunks: 131072it [00:00, 3102914.73it/s]\n",
      "Deconvolving chunks: 100%|███████████████████████| 1/1 [03:01<00:00, 181.67s/it]\n"
     ]
    },
    {
     "name": "stdout",
     "output_type": "stream",
     "text": [
      "Estimation for 0.16 and 0.2 done\n",
      "It took: 181.82243251800537 seconds.\n",
      "[0.11846563053800065, 0.8698466512080048]\n"
     ]
    },
    {
     "name": "stderr",
     "output_type": "stream",
     "text": [
      "Initial filtering of formulas: 100%|██████████████| 2/2 [00:00<00:00, 60.98it/s]\n",
      "Computing chunks: 100%|████████████████████████| 2/2 [00:00<00:00, 55924.05it/s]\n",
      "Splitting the experimental spectrum into chunks: 131072it [00:00, 3372631.60it/s]\n",
      "Deconvolving chunks: 100%|███████████████████████| 1/1 [03:01<00:00, 181.63s/it]\n"
     ]
    },
    {
     "name": "stdout",
     "output_type": "stream",
     "text": [
      "Estimation for 0.16 and 0.21000000000000002 done\n",
      "It took: 181.77150774002075 seconds.\n",
      "[0.11833649720900065, 0.8699206434430048]\n"
     ]
    },
    {
     "name": "stderr",
     "output_type": "stream",
     "text": [
      "Initial filtering of formulas: 100%|██████████████| 2/2 [00:00<00:00, 59.30it/s]\n",
      "Computing chunks: 100%|████████████████████████| 2/2 [00:00<00:00, 88301.14it/s]\n",
      "Splitting the experimental spectrum into chunks: 131072it [00:00, 3323594.79it/s]\n",
      "Deconvolving chunks: 100%|███████████████████████| 1/1 [03:16<00:00, 196.18s/it]\n"
     ]
    },
    {
     "name": "stdout",
     "output_type": "stream",
     "text": [
      "Estimation for 0.16 and 0.22 done\n",
      "It took: 196.3576476573944 seconds.\n",
      "[0.11812328745600065, 0.8700267973690049]\n"
     ]
    },
    {
     "name": "stderr",
     "output_type": "stream",
     "text": [
      "Initial filtering of formulas: 100%|██████████████| 2/2 [00:00<00:00, 59.43it/s]\n",
      "Computing chunks: 100%|████████████████████████| 2/2 [00:00<00:00, 69905.07it/s]\n",
      "Splitting the experimental spectrum into chunks: 131072it [00:00, 3396007.08it/s]\n",
      "Deconvolving chunks: 100%|███████████████████████| 1/1 [03:03<00:00, 183.05s/it]\n"
     ]
    },
    {
     "name": "stdout",
     "output_type": "stream",
     "text": [
      "Estimation for 0.16 and 0.23 done\n",
      "It took: 183.19320631027222 seconds.\n",
      "[0.11779387965000065, 0.8701768055820048]\n"
     ]
    },
    {
     "name": "stderr",
     "output_type": "stream",
     "text": [
      "Initial filtering of formulas: 100%|██████████████| 2/2 [00:00<00:00, 52.04it/s]\n",
      "Computing chunks: 100%|████████████████████████| 2/2 [00:00<00:00, 82241.25it/s]\n",
      "Splitting the experimental spectrum into chunks: 131072it [00:00, 2972456.41it/s]\n",
      "Deconvolving chunks: 100%|███████████████████████| 1/1 [03:00<00:00, 180.44s/it]\n"
     ]
    },
    {
     "name": "stdout",
     "output_type": "stream",
     "text": [
      "Estimation for 0.16 and 0.24000000000000002 done\n",
      "It took: 180.59980416297913 seconds.\n",
      "[0.11765769884500066, 0.8698533001660048]\n"
     ]
    },
    {
     "name": "stderr",
     "output_type": "stream",
     "text": [
      "Initial filtering of formulas: 100%|██████████████| 2/2 [00:00<00:00, 60.02it/s]\n",
      "Computing chunks: 100%|████████████████████████| 2/2 [00:00<00:00, 91180.52it/s]\n",
      "Splitting the experimental spectrum into chunks: 131072it [00:00, 3326853.06it/s]\n",
      "Deconvolving chunks: 100%|███████████████████████| 1/1 [02:54<00:00, 174.01s/it]\n"
     ]
    },
    {
     "name": "stdout",
     "output_type": "stream",
     "text": [
      "Estimation for 0.16 and 0.25 done\n",
      "It took: 174.1537914276123 seconds.\n",
      "[0.11716254245800065, 0.8698823033220048]\n"
     ]
    },
    {
     "name": "stderr",
     "output_type": "stream",
     "text": [
      "Initial filtering of formulas: 100%|██████████████| 2/2 [00:00<00:00, 59.94it/s]\n",
      "Computing chunks: 100%|████████████████████████| 2/2 [00:00<00:00, 83886.08it/s]\n",
      "Splitting the experimental spectrum into chunks: 131072it [00:00, 3383633.26it/s]\n",
      "Deconvolving chunks: 100%|███████████████████████| 1/1 [03:04<00:00, 184.57s/it]\n"
     ]
    },
    {
     "name": "stdout",
     "output_type": "stream",
     "text": [
      "Estimation for 0.16 and 0.26 done\n",
      "It took: 184.72035241127014 seconds.\n",
      "[0.11641931482400066, 0.8692556281370047]\n"
     ]
    },
    {
     "name": "stderr",
     "output_type": "stream",
     "text": [
      "Initial filtering of formulas: 100%|██████████████| 2/2 [00:00<00:00, 59.17it/s]\n",
      "Computing chunks: 100%|████████████████████████| 2/2 [00:00<00:00, 54471.48it/s]\n",
      "Splitting the experimental spectrum into chunks: 131072it [00:00, 3341086.97it/s]\n",
      "Deconvolving chunks: 100%|███████████████████████| 1/1 [03:09<00:00, 189.58s/it]\n"
     ]
    },
    {
     "name": "stdout",
     "output_type": "stream",
     "text": [
      "Estimation for 0.16 and 0.27 done\n",
      "It took: 189.74736762046814 seconds.\n",
      "[0.11564559056700063, 0.8684330690590047]\n"
     ]
    },
    {
     "name": "stderr",
     "output_type": "stream",
     "text": [
      "Initial filtering of formulas: 100%|██████████████| 2/2 [00:00<00:00, 60.52it/s]\n",
      "Computing chunks: 100%|████████████████████████| 2/2 [00:00<00:00, 93206.76it/s]\n",
      "Splitting the experimental spectrum into chunks: 131072it [00:00, 3317818.04it/s]\n",
      "Deconvolving chunks: 100%|███████████████████████| 1/1 [03:03<00:00, 183.87s/it]\n"
     ]
    },
    {
     "name": "stdout",
     "output_type": "stream",
     "text": [
      "Estimation for 0.16 and 0.28 done\n",
      "It took: 184.01787543296814 seconds.\n",
      "[0.11498393536600064, 0.8687041501700048]\n"
     ]
    },
    {
     "name": "stderr",
     "output_type": "stream",
     "text": [
      "Initial filtering of formulas: 100%|██████████████| 2/2 [00:00<00:00, 58.21it/s]\n",
      "Computing chunks: 100%|████████████████████████| 2/2 [00:00<00:00, 89240.51it/s]\n",
      "Splitting the experimental spectrum into chunks: 131072it [00:00, 3356324.07it/s]\n",
      "Deconvolving chunks: 100%|███████████████████████| 1/1 [03:04<00:00, 184.66s/it]\n"
     ]
    },
    {
     "name": "stdout",
     "output_type": "stream",
     "text": [
      "Estimation for 0.16 and 0.29000000000000004 done\n",
      "It took: 184.81518697738647 seconds.\n",
      "[0.11432958691200064, 0.8689850537340048]\n"
     ]
    },
    {
     "name": "stderr",
     "output_type": "stream",
     "text": [
      "Initial filtering of formulas: 100%|██████████████| 2/2 [00:00<00:00, 54.08it/s]\n",
      "Computing chunks: 100%|████████████████████████| 2/2 [00:00<00:00, 79891.50it/s]\n",
      "Splitting the experimental spectrum into chunks: 131072it [00:00, 3105368.54it/s]\n",
      "Deconvolving chunks: 100%|███████████████████████| 1/1 [04:50<00:00, 290.72s/it]\n"
     ]
    },
    {
     "name": "stdout",
     "output_type": "stream",
     "text": [
      "Estimation for 0.17 and 0.01 done\n",
      "It took: 290.9092137813568 seconds.\n",
      "[0.3828158271040021, 0.6171841728960035]\n"
     ]
    },
    {
     "name": "stderr",
     "output_type": "stream",
     "text": [
      "Initial filtering of formulas: 100%|██████████████| 2/2 [00:00<00:00, 55.43it/s]\n",
      "Computing chunks: 100%|████████████████████████| 2/2 [00:00<00:00, 78398.21it/s]\n",
      "Splitting the experimental spectrum into chunks: 131072it [00:00, 3031947.84it/s]\n",
      "Deconvolving chunks: 100%|███████████████████████| 1/1 [03:38<00:00, 218.40s/it]\n"
     ]
    },
    {
     "name": "stdout",
     "output_type": "stream",
     "text": [
      "Estimation for 0.17 and 0.02 done\n",
      "It took: 218.56434869766235 seconds.\n",
      "[0.16293913827400092, 0.8357094261770046]\n"
     ]
    },
    {
     "name": "stderr",
     "output_type": "stream",
     "text": [
      "Initial filtering of formulas: 100%|██████████████| 2/2 [00:00<00:00, 53.24it/s]\n",
      "Computing chunks: 100%|████████████████████████| 2/2 [00:00<00:00, 89240.51it/s]\n",
      "Splitting the experimental spectrum into chunks: 131072it [00:00, 2907361.08it/s]\n",
      "Deconvolving chunks: 100%|███████████████████████| 1/1 [03:55<00:00, 235.42s/it]\n"
     ]
    },
    {
     "name": "stdout",
     "output_type": "stream",
     "text": [
      "Estimation for 0.17 and 0.03 done\n",
      "It took: 235.61844444274902 seconds.\n",
      "[0.13833078842100077, 0.8599697223140048]\n"
     ]
    },
    {
     "name": "stderr",
     "output_type": "stream",
     "text": [
      "Initial filtering of formulas: 100%|██████████████| 2/2 [00:00<00:00, 54.28it/s]\n",
      "Computing chunks: 100%|████████████████████████| 2/2 [00:00<00:00, 91180.52it/s]\n",
      "Splitting the experimental spectrum into chunks: 131072it [00:00, 3077209.66it/s]\n",
      "Deconvolving chunks: 100%|███████████████████████| 1/1 [04:03<00:00, 243.68s/it]\n"
     ]
    },
    {
     "name": "stdout",
     "output_type": "stream",
     "text": [
      "Estimation for 0.17 and 0.04 done\n",
      "It took: 243.83992910385132 seconds.\n",
      "[0.13209923822600073, 0.8656605179410047]\n"
     ]
    },
    {
     "name": "stderr",
     "output_type": "stream",
     "text": [
      "Initial filtering of formulas: 100%|██████████████| 2/2 [00:00<00:00, 58.05it/s]\n",
      "Computing chunks: 100%|████████████████████████| 2/2 [00:00<00:00, 69327.34it/s]\n",
      "Splitting the experimental spectrum into chunks: 131072it [00:00, 3186787.01it/s]\n",
      "Deconvolving chunks: 100%|███████████████████████| 1/1 [03:33<00:00, 213.40s/it]\n"
     ]
    },
    {
     "name": "stdout",
     "output_type": "stream",
     "text": [
      "Estimation for 0.17 and 0.05 done\n",
      "It took: 213.55876350402832 seconds.\n",
      "[0.1270711104530007, 0.8701312053000049]\n"
     ]
    },
    {
     "name": "stderr",
     "output_type": "stream",
     "text": [
      "Initial filtering of formulas: 100%|██████████████| 2/2 [00:00<00:00, 53.08it/s]\n",
      "Computing chunks: 100%|████████████████████████| 2/2 [00:00<00:00, 84733.41it/s]\n",
      "Splitting the experimental spectrum into chunks: 131072it [00:00, 2974337.99it/s]\n",
      "Deconvolving chunks: 100%|███████████████████████| 1/1 [03:27<00:00, 207.82s/it]\n"
     ]
    },
    {
     "name": "stdout",
     "output_type": "stream",
     "text": [
      "Estimation for 0.17 and 0.060000000000000005 done\n",
      "It took: 207.98453450202942 seconds.\n",
      "[0.12083043623400067, 0.8755602142960048]\n"
     ]
    },
    {
     "name": "stderr",
     "output_type": "stream",
     "text": [
      "Initial filtering of formulas: 100%|██████████████| 2/2 [00:00<00:00, 57.41it/s]\n",
      "Computing chunks: 100%|████████████████████████| 2/2 [00:00<00:00, 71697.50it/s]\n",
      "Splitting the experimental spectrum into chunks: 131072it [00:00, 3244086.14it/s]\n",
      "Deconvolving chunks: 100%|███████████████████████| 1/1 [03:53<00:00, 233.29s/it]\n"
     ]
    },
    {
     "name": "stdout",
     "output_type": "stream",
     "text": [
      "Estimation for 0.17 and 0.06999999999999999 done\n",
      "It took: 233.44388341903687 seconds.\n",
      "[0.12141642027300067, 0.8737720618170048]\n"
     ]
    },
    {
     "name": "stderr",
     "output_type": "stream",
     "text": [
      "Initial filtering of formulas: 100%|██████████████| 2/2 [00:00<00:00, 51.03it/s]\n",
      "Computing chunks: 100%|████████████████████████| 2/2 [00:00<00:00, 26051.58it/s]\n",
      "Splitting the experimental spectrum into chunks: 131072it [00:00, 2988274.31it/s]\n",
      "Deconvolving chunks: 100%|███████████████████████| 1/1 [03:29<00:00, 209.81s/it]\n"
     ]
    },
    {
     "name": "stdout",
     "output_type": "stream",
     "text": [
      "Estimation for 0.17 and 0.08 done\n",
      "It took: 209.98060750961304 seconds.\n",
      "[0.12112660303500067, 0.8735502102650049]\n"
     ]
    },
    {
     "name": "stderr",
     "output_type": "stream",
     "text": [
      "Initial filtering of formulas: 100%|██████████████| 2/2 [00:00<00:00, 57.03it/s]\n",
      "Computing chunks: 100%|████████████████████████| 2/2 [00:00<00:00, 88301.14it/s]\n",
      "Splitting the experimental spectrum into chunks: 131072it [00:00, 3224582.31it/s]\n",
      "Deconvolving chunks: 100%|███████████████████████| 1/1 [03:31<00:00, 211.56s/it]\n"
     ]
    },
    {
     "name": "stdout",
     "output_type": "stream",
     "text": [
      "Estimation for 0.17 and 0.09 done\n",
      "It took: 211.71108555793762 seconds.\n",
      "[0.12088565655200066, 0.8734123461050048]\n"
     ]
    },
    {
     "name": "stderr",
     "output_type": "stream",
     "text": [
      "Initial filtering of formulas: 100%|██████████████| 2/2 [00:00<00:00, 51.42it/s]\n",
      "Computing chunks: 100%|████████████████████████| 2/2 [00:00<00:00, 54827.50it/s]\n",
      "Splitting the experimental spectrum into chunks: 131072it [00:00, 2863028.21it/s]\n",
      "Deconvolving chunks: 100%|███████████████████████| 1/1 [03:21<00:00, 201.19s/it]\n"
     ]
    },
    {
     "name": "stdout",
     "output_type": "stream",
     "text": [
      "Estimation for 0.17 and 0.09999999999999999 done\n",
      "It took: 201.36085486412048 seconds.\n",
      "[0.12088410386400067, 0.8727196862320049]\n"
     ]
    },
    {
     "name": "stderr",
     "output_type": "stream",
     "text": [
      "Initial filtering of formulas: 100%|██████████████| 2/2 [00:00<00:00, 57.33it/s]\n",
      "Computing chunks: 100%|████████████████████████| 2/2 [00:00<00:00, 95325.09it/s]\n",
      "Splitting the experimental spectrum into chunks: 131072it [00:00, 3292562.18it/s]\n",
      "Deconvolving chunks: 100%|███████████████████████| 1/1 [03:34<00:00, 214.90s/it]\n"
     ]
    },
    {
     "name": "stdout",
     "output_type": "stream",
     "text": [
      "Estimation for 0.17 and 0.11 done\n",
      "It took: 215.0662224292755 seconds.\n",
      "[0.12081722328300067, 0.8723664348120049]\n"
     ]
    },
    {
     "name": "stderr",
     "output_type": "stream",
     "text": [
      "Initial filtering of formulas: 100%|██████████████| 2/2 [00:00<00:00, 53.66it/s]\n",
      "Computing chunks: 100%|████████████████████████| 2/2 [00:00<00:00, 65536.00it/s]\n",
      "Splitting the experimental spectrum into chunks: 131072it [00:00, 3308573.09it/s]\n",
      "Deconvolving chunks: 100%|███████████████████████| 1/1 [03:29<00:00, 209.61s/it]\n"
     ]
    },
    {
     "name": "stdout",
     "output_type": "stream",
     "text": [
      "Estimation for 0.17 and 0.12 done\n",
      "It took: 209.79463005065918 seconds.\n",
      "[0.12058486074500066, 0.8724060959150048]\n"
     ]
    },
    {
     "name": "stderr",
     "output_type": "stream",
     "text": [
      "Initial filtering of formulas: 100%|██████████████| 2/2 [00:00<00:00, 54.78it/s]\n",
      "Computing chunks: 100%|████████████████████████| 2/2 [00:00<00:00, 71697.50it/s]\n",
      "Splitting the experimental spectrum into chunks: 131072it [00:00, 2954294.57it/s]\n",
      "Deconvolving chunks: 100%|███████████████████████| 1/1 [03:23<00:00, 203.67s/it]\n"
     ]
    },
    {
     "name": "stdout",
     "output_type": "stream",
     "text": [
      "Estimation for 0.17 and 0.13 done\n",
      "It took: 203.8506419658661 seconds.\n",
      "[0.11962970816900066, 0.8719459316050049]\n"
     ]
    },
    {
     "name": "stderr",
     "output_type": "stream",
     "text": [
      "Initial filtering of formulas: 100%|██████████████| 2/2 [00:00<00:00, 52.94it/s]\n",
      "Computing chunks: 100%|████████████████████████| 2/2 [00:00<00:00, 92182.51it/s]\n",
      "Splitting the experimental spectrum into chunks: 131072it [00:00, 2957107.28it/s]\n",
      "Deconvolving chunks: 100%|███████████████████████| 1/1 [04:37<00:00, 277.34s/it]\n"
     ]
    },
    {
     "name": "stdout",
     "output_type": "stream",
     "text": [
      "Estimation for 0.17 and 0.14 done\n",
      "It took: 277.5077123641968 seconds.\n",
      "[0.11961190624500066, 0.8709558118920049]\n"
     ]
    },
    {
     "name": "stderr",
     "output_type": "stream",
     "text": [
      "Initial filtering of formulas: 100%|██████████████| 2/2 [00:00<00:00, 53.78it/s]\n",
      "Computing chunks: 100%|████████████████████████| 2/2 [00:00<00:00, 89240.51it/s]\n",
      "Splitting the experimental spectrum into chunks: 131072it [00:00, 3020105.33it/s]\n",
      "Deconvolving chunks: 100%|███████████████████████| 1/1 [03:24<00:00, 204.20s/it]\n"
     ]
    },
    {
     "name": "stdout",
     "output_type": "stream",
     "text": [
      "Estimation for 0.17 and 0.15000000000000002 done\n",
      "It took: 204.36744117736816 seconds.\n",
      "[0.11978798764300067, 0.8700325899410049]\n"
     ]
    },
    {
     "name": "stderr",
     "output_type": "stream",
     "text": [
      "Initial filtering of formulas: 100%|██████████████| 2/2 [00:00<00:00, 52.00it/s]\n",
      "Computing chunks: 100%|████████████████████████| 2/2 [00:00<00:00, 76260.07it/s]\n",
      "Splitting the experimental spectrum into chunks: 131072it [00:00, 2966761.90it/s]\n",
      "Deconvolving chunks: 100%|███████████████████████| 1/1 [03:31<00:00, 211.43s/it]\n"
     ]
    },
    {
     "name": "stdout",
     "output_type": "stream",
     "text": [
      "Estimation for 0.17 and 0.16 done\n",
      "It took: 211.5909287929535 seconds.\n",
      "[0.11988246586900067, 0.8694782109730048]\n"
     ]
    },
    {
     "name": "stderr",
     "output_type": "stream",
     "text": [
      "Initial filtering of formulas: 100%|██████████████| 2/2 [00:00<00:00, 53.96it/s]\n",
      "Computing chunks: 100%|████████████████████████| 2/2 [00:00<00:00, 52428.80it/s]\n",
      "Splitting the experimental spectrum into chunks: 131072it [00:00, 2867239.05it/s]\n",
      "Deconvolving chunks: 100%|███████████████████████| 1/1 [03:18<00:00, 198.10s/it]\n"
     ]
    },
    {
     "name": "stdout",
     "output_type": "stream",
     "text": [
      "Estimation for 0.17 and 0.17 done\n",
      "It took: 198.26226043701172 seconds.\n",
      "[0.11983939876300066, 0.8695010723520048]\n"
     ]
    },
    {
     "name": "stderr",
     "output_type": "stream",
     "text": [
      "Initial filtering of formulas: 100%|██████████████| 2/2 [00:00<00:00, 53.13it/s]\n",
      "Computing chunks: 100%|████████████████████████| 2/2 [00:00<00:00, 95325.09it/s]\n",
      "Splitting the experimental spectrum into chunks: 131072it [00:00, 3049692.20it/s]\n",
      "Deconvolving chunks: 100%|██████████████████████| 1/1 [20:47<00:00, 1247.15s/it]\n"
     ]
    },
    {
     "name": "stdout",
     "output_type": "stream",
     "text": [
      "Estimation for 0.17 and 0.18000000000000002 done\n",
      "It took: 1247.3065950870514 seconds.\n",
      "[0.11980667343500066, 0.8695510426440047]\n"
     ]
    },
    {
     "name": "stderr",
     "output_type": "stream",
     "text": [
      "Initial filtering of formulas: 100%|██████████████| 2/2 [00:00<00:00, 62.83it/s]\n",
      "Computing chunks: 100%|███████████████████████| 2/2 [00:00<00:00, 101067.57it/s]\n",
      "Splitting the experimental spectrum into chunks: 131072it [00:00, 3490579.59it/s]\n",
      "Deconvolving chunks: 100%|███████████████████████| 1/1 [02:53<00:00, 173.85s/it]\n"
     ]
    },
    {
     "name": "stdout",
     "output_type": "stream",
     "text": [
      "Estimation for 0.17 and 0.19 done\n",
      "It took: 173.99534511566162 seconds.\n",
      "[0.11977768189000067, 0.8695967710310047]\n"
     ]
    },
    {
     "name": "stderr",
     "output_type": "stream",
     "text": [
      "Initial filtering of formulas: 100%|██████████████| 2/2 [00:00<00:00, 57.20it/s]\n",
      "Computing chunks: 100%|████████████████████████| 2/2 [00:00<00:00, 52428.80it/s]\n",
      "Splitting the experimental spectrum into chunks: 131072it [00:00, 3494195.88it/s]\n",
      "Deconvolving chunks: 100%|███████████████████████| 1/1 [03:02<00:00, 182.96s/it]\n"
     ]
    },
    {
     "name": "stdout",
     "output_type": "stream",
     "text": [
      "Estimation for 0.17 and 0.2 done\n",
      "It took: 183.12546038627625 seconds.\n",
      "[0.11971270606400067, 0.8696269545870048]\n"
     ]
    },
    {
     "name": "stderr",
     "output_type": "stream",
     "text": [
      "Initial filtering of formulas: 100%|██████████████| 2/2 [00:00<00:00, 61.47it/s]\n",
      "Computing chunks: 100%|████████████████████████| 2/2 [00:00<00:00, 87381.33it/s]\n",
      "Splitting the experimental spectrum into chunks: 131072it [00:00, 3451743.99it/s]\n",
      "Deconvolving chunks: 100%|███████████████████████| 1/1 [02:55<00:00, 175.78s/it]\n"
     ]
    },
    {
     "name": "stdout",
     "output_type": "stream",
     "text": [
      "Estimation for 0.17 and 0.21000000000000002 done\n",
      "It took: 175.9273316860199 seconds.\n",
      "[0.11914420265000067, 0.8698140681730048]\n"
     ]
    },
    {
     "name": "stderr",
     "output_type": "stream",
     "text": [
      "Initial filtering of formulas: 100%|██████████████| 2/2 [00:00<00:00, 62.39it/s]\n",
      "Computing chunks: 100%|████████████████████████| 2/2 [00:00<00:00, 95325.09it/s]\n",
      "Splitting the experimental spectrum into chunks: 131072it [00:00, 3445124.95it/s]\n",
      "Deconvolving chunks: 100%|███████████████████████| 1/1 [03:32<00:00, 212.62s/it]\n"
     ]
    },
    {
     "name": "stdout",
     "output_type": "stream",
     "text": [
      "Estimation for 0.17 and 0.22 done\n",
      "It took: 212.75770568847656 seconds.\n",
      "[0.11879058845100067, 0.8699351521290047]\n"
     ]
    },
    {
     "name": "stderr",
     "output_type": "stream",
     "text": [
      "Initial filtering of formulas: 100%|██████████████| 2/2 [00:00<00:00, 61.62it/s]\n",
      "Computing chunks: 100%|████████████████████████| 2/2 [00:00<00:00, 99864.38it/s]\n",
      "Splitting the experimental spectrum into chunks: 131072it [00:00, 3372445.40it/s]\n",
      "Deconvolving chunks: 100%|███████████████████████| 1/1 [03:03<00:00, 183.59s/it]\n"
     ]
    },
    {
     "name": "stdout",
     "output_type": "stream",
     "text": [
      "Estimation for 0.17 and 0.23 done\n",
      "It took: 183.73524069786072 seconds.\n",
      "[0.11845498883700065, 0.8700634825110048]\n"
     ]
    },
    {
     "name": "stderr",
     "output_type": "stream",
     "text": [
      "Initial filtering of formulas: 100%|██████████████| 2/2 [00:00<00:00, 60.10it/s]\n",
      "Computing chunks: 100%|████████████████████████| 2/2 [00:00<00:00, 96420.78it/s]\n",
      "Splitting the experimental spectrum into chunks: 131072it [00:00, 3050216.74it/s]\n",
      "Deconvolving chunks: 100%|███████████████████████| 1/1 [03:02<00:00, 182.74s/it]\n"
     ]
    },
    {
     "name": "stdout",
     "output_type": "stream",
     "text": [
      "Estimation for 0.17 and 0.24000000000000002 done\n",
      "It took: 182.89037132263184 seconds.\n",
      "[0.11807137971900065, 0.8699458454900048]\n"
     ]
    },
    {
     "name": "stderr",
     "output_type": "stream",
     "text": [
      "Initial filtering of formulas: 100%|██████████████| 2/2 [00:00<00:00, 61.50it/s]\n",
      "Computing chunks: 100%|████████████████████████| 2/2 [00:00<00:00, 94254.02it/s]\n",
      "Splitting the experimental spectrum into chunks: 131072it [00:00, 3444714.80it/s]\n",
      "Deconvolving chunks: 100%|███████████████████████| 1/1 [03:02<00:00, 182.72s/it]\n"
     ]
    },
    {
     "name": "stdout",
     "output_type": "stream",
     "text": [
      "Estimation for 0.17 and 0.25 done\n",
      "It took: 182.8668098449707 seconds.\n",
      "[0.11779385657600065, 0.8698022324580048]\n"
     ]
    },
    {
     "name": "stderr",
     "output_type": "stream",
     "text": [
      "Initial filtering of formulas: 100%|██████████████| 2/2 [00:00<00:00, 61.73it/s]\n",
      "Computing chunks: 100%|████████████████████████| 2/2 [00:00<00:00, 93206.76it/s]\n",
      "Splitting the experimental spectrum into chunks: 131072it [00:00, 3435608.80it/s]\n",
      "Deconvolving chunks: 100%|███████████████████████| 1/1 [03:08<00:00, 188.92s/it]\n"
     ]
    },
    {
     "name": "stdout",
     "output_type": "stream",
     "text": [
      "Estimation for 0.17 and 0.26 done\n",
      "It took: 189.06603503227234 seconds.\n",
      "[0.11736712033200065, 0.8692657502000047]\n"
     ]
    },
    {
     "name": "stderr",
     "output_type": "stream",
     "text": [
      "Initial filtering of formulas: 100%|██████████████| 2/2 [00:00<00:00, 60.17it/s]\n",
      "Computing chunks: 100%|███████████████████████| 2/2 [00:00<00:00, 102300.10it/s]\n",
      "Splitting the experimental spectrum into chunks: 131072it [00:00, 3432605.59it/s]\n",
      "Deconvolving chunks: 100%|███████████████████████| 1/1 [02:54<00:00, 174.00s/it]\n"
     ]
    },
    {
     "name": "stdout",
     "output_type": "stream",
     "text": [
      "Estimation for 0.17 and 0.27 done\n",
      "It took: 174.1453492641449 seconds.\n",
      "[0.11683247964400065, 0.8679904318610048]\n"
     ]
    },
    {
     "name": "stderr",
     "output_type": "stream",
     "text": [
      "Initial filtering of formulas: 100%|██████████████| 2/2 [00:00<00:00, 60.80it/s]\n",
      "Computing chunks: 100%|████████████████████████| 2/2 [00:00<00:00, 98689.51it/s]\n",
      "Splitting the experimental spectrum into chunks: 131072it [00:00, 3366064.88it/s]\n",
      "Deconvolving chunks: 100%|███████████████████████| 1/1 [02:53<00:00, 173.60s/it]\n"
     ]
    },
    {
     "name": "stdout",
     "output_type": "stream",
     "text": [
      "Estimation for 0.17 and 0.28 done\n",
      "It took: 173.76926159858704 seconds.\n",
      "[0.11589004063300064, 0.8684225658900048]\n"
     ]
    },
    {
     "name": "stderr",
     "output_type": "stream",
     "text": [
      "Initial filtering of formulas: 100%|██████████████| 2/2 [00:00<00:00, 61.20it/s]\n",
      "Computing chunks: 100%|████████████████████████| 2/2 [00:00<00:00, 93206.76it/s]\n",
      "Splitting the experimental spectrum into chunks: 131072it [00:00, 3452611.11it/s]\n",
      "Deconvolving chunks: 100%|███████████████████████| 1/1 [02:55<00:00, 175.49s/it]\n"
     ]
    },
    {
     "name": "stdout",
     "output_type": "stream",
     "text": [
      "Estimation for 0.17 and 0.29000000000000004 done\n",
      "It took: 175.62943077087402 seconds.\n",
      "[0.11531988946700064, 0.8687183246270048]\n"
     ]
    },
    {
     "name": "stderr",
     "output_type": "stream",
     "text": [
      "Initial filtering of formulas: 100%|██████████████| 2/2 [00:00<00:00, 59.77it/s]\n",
      "Computing chunks: 100%|████████████████████████| 2/2 [00:00<00:00, 94254.02it/s]\n",
      "Splitting the experimental spectrum into chunks: 131072it [00:00, 3380408.37it/s]\n",
      "Deconvolving chunks: 100%|███████████████████████| 1/1 [04:29<00:00, 269.87s/it]\n"
     ]
    },
    {
     "name": "stdout",
     "output_type": "stream",
     "text": [
      "Estimation for 0.18000000000000002 and 0.01 done\n",
      "It took: 270.01711225509644 seconds.\n",
      "[0.3828158271040021, 0.6171841728960035]\n"
     ]
    },
    {
     "name": "stderr",
     "output_type": "stream",
     "text": [
      "Initial filtering of formulas: 100%|██████████████| 2/2 [00:00<00:00, 60.50it/s]\n",
      "Computing chunks: 100%|████████████████████████| 2/2 [00:00<00:00, 97541.95it/s]\n",
      "Splitting the experimental spectrum into chunks: 131072it [00:00, 3388304.63it/s]\n",
      "Deconvolving chunks: 100%|███████████████████████| 1/1 [03:20<00:00, 200.37s/it]\n"
     ]
    },
    {
     "name": "stdout",
     "output_type": "stream",
     "text": [
      "Estimation for 0.18000000000000002 and 0.02 done\n",
      "It took: 200.53820896148682 seconds.\n",
      "[0.1633260575220009, 0.8356343797040047]\n"
     ]
    },
    {
     "name": "stderr",
     "output_type": "stream",
     "text": [
      "Initial filtering of formulas: 100%|██████████████| 2/2 [00:00<00:00, 60.80it/s]\n",
      "Computing chunks: 100%|████████████████████████| 2/2 [00:00<00:00, 90200.09it/s]\n",
      "Splitting the experimental spectrum into chunks: 131072it [00:00, 3337172.67it/s]\n",
      "Deconvolving chunks: 100%|███████████████████████| 1/1 [03:04<00:00, 184.11s/it]\n"
     ]
    },
    {
     "name": "stdout",
     "output_type": "stream",
     "text": [
      "Estimation for 0.18000000000000002 and 0.03 done\n",
      "It took: 184.25248050689697 seconds.\n",
      "[0.13837715044300078, 0.8601100300690048]\n"
     ]
    },
    {
     "name": "stderr",
     "output_type": "stream",
     "text": [
      "Initial filtering of formulas: 100%|██████████████| 2/2 [00:00<00:00, 59.75it/s]\n",
      "Computing chunks: 100%|████████████████████████| 2/2 [00:00<00:00, 88301.14it/s]\n",
      "Splitting the experimental spectrum into chunks: 131072it [00:00, 3356057.71it/s]\n",
      "Deconvolving chunks: 100%|███████████████████████| 1/1 [03:03<00:00, 183.65s/it]\n"
     ]
    },
    {
     "name": "stdout",
     "output_type": "stream",
     "text": [
      "Estimation for 0.18000000000000002 and 0.04 done\n",
      "It took: 183.819322347641 seconds.\n",
      "[0.1323119138060007, 0.8657434941920048]\n"
     ]
    },
    {
     "name": "stderr",
     "output_type": "stream",
     "text": [
      "Initial filtering of formulas: 100%|██████████████| 2/2 [00:00<00:00, 61.39it/s]\n",
      "Computing chunks: 100%|████████████████████████| 2/2 [00:00<00:00, 93206.76it/s]\n",
      "Splitting the experimental spectrum into chunks: 131072it [00:00, 3329593.33it/s]\n",
      "Deconvolving chunks: 100%|███████████████████████| 1/1 [02:53<00:00, 173.08s/it]\n"
     ]
    },
    {
     "name": "stdout",
     "output_type": "stream",
     "text": [
      "Estimation for 0.18000000000000002 and 0.05 done\n",
      "It took: 173.2257981300354 seconds.\n",
      "[0.1271646727430007, 0.8700656288170049]\n"
     ]
    },
    {
     "name": "stderr",
     "output_type": "stream",
     "text": [
      "Initial filtering of formulas: 100%|██████████████| 2/2 [00:00<00:00, 52.06it/s]\n",
      "Computing chunks: 100%|████████████████████████| 2/2 [00:00<00:00, 77672.30it/s]\n",
      "Splitting the experimental spectrum into chunks: 131072it [00:00, 2962413.52it/s]\n",
      "Deconvolving chunks: 100%|███████████████████████| 1/1 [02:59<00:00, 179.17s/it]\n"
     ]
    },
    {
     "name": "stdout",
     "output_type": "stream",
     "text": [
      "Estimation for 0.18000000000000002 and 0.060000000000000005 done\n",
      "It took: 179.33369302749634 seconds.\n",
      "[0.12124508196900066, 0.8752302075060049]\n"
     ]
    },
    {
     "name": "stderr",
     "output_type": "stream",
     "text": [
      "Initial filtering of formulas: 100%|██████████████| 2/2 [00:00<00:00, 60.92it/s]\n",
      "Computing chunks: 100%|████████████████████████| 2/2 [00:00<00:00, 15114.61it/s]\n",
      "Splitting the experimental spectrum into chunks: 131072it [00:00, 3454715.67it/s]\n",
      "Deconvolving chunks: 100%|███████████████████████| 1/1 [02:50<00:00, 170.64s/it]\n"
     ]
    },
    {
     "name": "stdout",
     "output_type": "stream",
     "text": [
      "Estimation for 0.18000000000000002 and 0.06999999999999999 done\n",
      "It took: 170.78342747688293 seconds.\n",
      "[0.12129331555300069, 0.8741978736950049]\n"
     ]
    },
    {
     "name": "stderr",
     "output_type": "stream",
     "text": [
      "Initial filtering of formulas: 100%|██████████████| 2/2 [00:00<00:00, 61.11it/s]\n",
      "Computing chunks: 100%|████████████████████████| 2/2 [00:00<00:00, 95325.09it/s]\n",
      "Splitting the experimental spectrum into chunks: 131072it [00:00, 3380637.03it/s]\n",
      "Deconvolving chunks: 100%|███████████████████████| 1/1 [02:56<00:00, 176.72s/it]\n"
     ]
    },
    {
     "name": "stdout",
     "output_type": "stream",
     "text": [
      "Estimation for 0.18000000000000002 and 0.08 done\n",
      "It took: 176.86788249015808 seconds.\n",
      "[0.12117979513400066, 0.8736155009760049]\n"
     ]
    },
    {
     "name": "stderr",
     "output_type": "stream",
     "text": [
      "Initial filtering of formulas: 100%|██████████████| 2/2 [00:00<00:00, 60.23it/s]\n",
      "Computing chunks: 100%|████████████████████████| 2/2 [00:00<00:00, 74898.29it/s]\n",
      "Splitting the experimental spectrum into chunks: 131072it [00:00, 3337942.63it/s]\n",
      "Deconvolving chunks: 100%|███████████████████████| 1/1 [02:59<00:00, 179.26s/it]\n"
     ]
    },
    {
     "name": "stdout",
     "output_type": "stream",
     "text": [
      "Estimation for 0.18000000000000002 and 0.09 done\n",
      "It took: 179.41053891181946 seconds.\n",
      "[0.12085506385900066, 0.8738473603640049]\n"
     ]
    },
    {
     "name": "stderr",
     "output_type": "stream",
     "text": [
      "Initial filtering of formulas: 100%|██████████████| 2/2 [00:00<00:00, 61.36it/s]\n",
      "Computing chunks: 100%|████████████████████████| 2/2 [00:00<00:00, 96420.78it/s]\n",
      "Splitting the experimental spectrum into chunks: 131072it [00:00, 3366930.71it/s]\n",
      "Deconvolving chunks: 100%|███████████████████████| 1/1 [02:58<00:00, 178.59s/it]\n"
     ]
    },
    {
     "name": "stdout",
     "output_type": "stream",
     "text": [
      "Estimation for 0.18000000000000002 and 0.09999999999999999 done\n",
      "It took: 178.73697996139526 seconds.\n",
      "[0.12089137618000066, 0.8730177945410049]\n"
     ]
    },
    {
     "name": "stderr",
     "output_type": "stream",
     "text": [
      "Initial filtering of formulas: 100%|██████████████| 2/2 [00:00<00:00, 60.13it/s]\n",
      "Computing chunks: 100%|████████████████████████| 2/2 [00:00<00:00, 87381.33it/s]\n",
      "Splitting the experimental spectrum into chunks: 131072it [00:00, 3345356.49it/s]\n",
      "Deconvolving chunks: 100%|███████████████████████| 1/1 [03:00<00:00, 180.78s/it]\n"
     ]
    },
    {
     "name": "stdout",
     "output_type": "stream",
     "text": [
      "Estimation for 0.18000000000000002 and 0.11 done\n",
      "It took: 180.92408227920532 seconds.\n",
      "[0.12090915549100066, 0.8724674931390048]\n"
     ]
    },
    {
     "name": "stderr",
     "output_type": "stream",
     "text": [
      "Initial filtering of formulas: 100%|██████████████| 2/2 [00:00<00:00, 61.96it/s]\n",
      "Computing chunks: 100%|████████████████████████| 2/2 [00:00<00:00, 90200.09it/s]\n",
      "Splitting the experimental spectrum into chunks: 131072it [00:00, 3443937.94it/s]\n",
      "Deconvolving chunks: 100%|███████████████████████| 1/1 [03:08<00:00, 188.07s/it]\n"
     ]
    },
    {
     "name": "stdout",
     "output_type": "stream",
     "text": [
      "Estimation for 0.18000000000000002 and 0.12 done\n",
      "It took: 188.23056626319885 seconds.\n",
      "[0.12069212111200067, 0.8724686277910049]\n"
     ]
    },
    {
     "name": "stderr",
     "output_type": "stream",
     "text": [
      "Initial filtering of formulas: 100%|██████████████| 2/2 [00:00<00:00, 62.19it/s]\n",
      "Computing chunks: 100%|████████████████████████| 2/2 [00:00<00:00, 18436.50it/s]\n",
      "Splitting the experimental spectrum into chunks: 131072it [00:00, 3440532.54it/s]\n",
      "Deconvolving chunks: 100%|███████████████████████| 1/1 [02:57<00:00, 177.13s/it]\n"
     ]
    },
    {
     "name": "stdout",
     "output_type": "stream",
     "text": [
      "Estimation for 0.18000000000000002 and 0.13 done\n",
      "It took: 177.26928663253784 seconds.\n",
      "[0.12033055522800067, 0.8721275044840049]\n"
     ]
    },
    {
     "name": "stderr",
     "output_type": "stream",
     "text": [
      "Initial filtering of formulas: 100%|██████████████| 2/2 [00:00<00:00, 62.10it/s]\n",
      "Computing chunks: 100%|████████████████████████| 2/2 [00:00<00:00, 88301.14it/s]\n",
      "Splitting the experimental spectrum into chunks: 131072it [00:00, 3402249.04it/s]\n",
      "Deconvolving chunks: 100%|███████████████████████| 1/1 [03:00<00:00, 180.96s/it]\n"
     ]
    },
    {
     "name": "stdout",
     "output_type": "stream",
     "text": [
      "Estimation for 0.18000000000000002 and 0.14 done\n",
      "It took: 181.10398888587952 seconds.\n",
      "[0.11952152334200067, 0.8716799878670048]\n"
     ]
    },
    {
     "name": "stderr",
     "output_type": "stream",
     "text": [
      "Initial filtering of formulas: 100%|██████████████| 2/2 [00:00<00:00, 61.54it/s]\n",
      "Computing chunks: 100%|████████████████████████| 2/2 [00:00<00:00, 15391.94it/s]\n",
      "Splitting the experimental spectrum into chunks: 131072it [00:00, 3486020.01it/s]\n",
      "Deconvolving chunks: 100%|███████████████████████| 1/1 [03:00<00:00, 180.08s/it]\n"
     ]
    },
    {
     "name": "stdout",
     "output_type": "stream",
     "text": [
      "Estimation for 0.18000000000000002 and 0.15000000000000002 done\n",
      "It took: 180.22862792015076 seconds.\n",
      "[0.11972718397200066, 0.8705447144230049]\n"
     ]
    },
    {
     "name": "stderr",
     "output_type": "stream",
     "text": [
      "Initial filtering of formulas: 100%|██████████████| 2/2 [00:00<00:00, 58.87it/s]\n",
      "Computing chunks: 100%|████████████████████████| 2/2 [00:00<00:00, 90200.09it/s]\n",
      "Splitting the experimental spectrum into chunks: 131072it [00:00, 3324499.22it/s]\n",
      "Deconvolving chunks: 100%|███████████████████████| 1/1 [04:19<00:00, 259.03s/it]\n"
     ]
    },
    {
     "name": "stdout",
     "output_type": "stream",
     "text": [
      "Estimation for 0.18000000000000002 and 0.16 done\n",
      "It took: 259.1765913963318 seconds.\n",
      "[0.11983904383700067, 0.8698294432110047]\n"
     ]
    },
    {
     "name": "stderr",
     "output_type": "stream",
     "text": [
      "Initial filtering of formulas: 100%|██████████████| 2/2 [00:00<00:00, 61.31it/s]\n",
      "Computing chunks: 100%|████████████████████████| 2/2 [00:00<00:00, 52103.16it/s]\n",
      "Splitting the experimental spectrum into chunks: 131072it [00:00, 3424032.52it/s]\n",
      "Deconvolving chunks: 100%|███████████████████████| 1/1 [03:04<00:00, 184.17s/it]\n"
     ]
    },
    {
     "name": "stdout",
     "output_type": "stream",
     "text": [
      "Estimation for 0.18000000000000002 and 0.17 done\n",
      "It took: 184.338693857193 seconds.\n",
      "[0.11986789375700066, 0.8695480384680048]\n"
     ]
    },
    {
     "name": "stderr",
     "output_type": "stream",
     "text": [
      "Initial filtering of formulas: 100%|██████████████| 2/2 [00:00<00:00, 61.46it/s]\n",
      "Computing chunks: 100%|████████████████████████| 2/2 [00:00<00:00, 49932.19it/s]\n",
      "Splitting the experimental spectrum into chunks: 131072it [00:00, 3416436.09it/s]\n",
      "Deconvolving chunks: 100%|███████████████████████| 1/1 [03:03<00:00, 183.42s/it]\n"
     ]
    },
    {
     "name": "stdout",
     "output_type": "stream",
     "text": [
      "Estimation for 0.18000000000000002 and 0.18000000000000002 done\n",
      "It took: 183.58795022964478 seconds.\n",
      "[0.11983724501200066, 0.8695881765080048]\n"
     ]
    },
    {
     "name": "stderr",
     "output_type": "stream",
     "text": [
      "Initial filtering of formulas: 100%|██████████████| 2/2 [00:00<00:00, 59.44it/s]\n",
      "Computing chunks: 100%|████████████████████████| 2/2 [00:00<00:00, 80659.69it/s]\n",
      "Splitting the experimental spectrum into chunks: 131072it [00:00, 3405452.47it/s]\n",
      "Deconvolving chunks: 100%|███████████████████████| 1/1 [03:02<00:00, 182.90s/it]\n"
     ]
    },
    {
     "name": "stdout",
     "output_type": "stream",
     "text": [
      "Estimation for 0.18000000000000002 and 0.19 done\n",
      "It took: 183.04945540428162 seconds.\n",
      "[0.11980999988600066, 0.8696217486030048]\n"
     ]
    },
    {
     "name": "stderr",
     "output_type": "stream",
     "text": [
      "Initial filtering of formulas: 100%|██████████████| 2/2 [00:00<00:00, 59.35it/s]\n",
      "Computing chunks: 100%|████████████████████████| 2/2 [00:00<00:00, 88301.14it/s]\n",
      "Splitting the experimental spectrum into chunks: 131072it [00:00, 3391314.46it/s]\n",
      "Deconvolving chunks: 100%|███████████████████████| 1/1 [02:57<00:00, 177.54s/it]\n"
     ]
    },
    {
     "name": "stdout",
     "output_type": "stream",
     "text": [
      "Estimation for 0.18000000000000002 and 0.2 done\n",
      "It took: 177.69216990470886 seconds.\n",
      "[0.11979493812400066, 0.8696719582590048]\n"
     ]
    },
    {
     "name": "stderr",
     "output_type": "stream",
     "text": [
      "Initial filtering of formulas: 100%|██████████████| 2/2 [00:00<00:00, 60.87it/s]\n",
      "Computing chunks: 100%|████████████████████████| 2/2 [00:00<00:00, 13508.23it/s]\n",
      "Splitting the experimental spectrum into chunks: 131072it [00:00, 3427084.84it/s]\n",
      "Deconvolving chunks: 100%|███████████████████████| 1/1 [03:34<00:00, 214.15s/it]\n"
     ]
    },
    {
     "name": "stdout",
     "output_type": "stream",
     "text": [
      "Estimation for 0.18000000000000002 and 0.21000000000000002 done\n",
      "It took: 214.2934114933014 seconds.\n",
      "[0.11973648519600066, 0.8697491275960048]\n"
     ]
    },
    {
     "name": "stderr",
     "output_type": "stream",
     "text": [
      "Initial filtering of formulas: 100%|██████████████| 2/2 [00:00<00:00, 60.99it/s]\n",
      "Computing chunks: 100%|████████████████████████| 2/2 [00:00<00:00, 96420.78it/s]\n",
      "Splitting the experimental spectrum into chunks: 131072it [00:00, 3440855.55it/s]\n",
      "Deconvolving chunks: 100%|███████████████████████| 1/1 [04:16<00:00, 256.14s/it]\n"
     ]
    },
    {
     "name": "stdout",
     "output_type": "stream",
     "text": [
      "Estimation for 0.18000000000000002 and 0.22 done\n",
      "It took: 256.2827138900757 seconds.\n",
      "[0.11969184584000067, 0.8697925157860048]\n"
     ]
    },
    {
     "name": "stderr",
     "output_type": "stream",
     "text": [
      "Initial filtering of formulas: 100%|██████████████| 2/2 [00:00<00:00, 60.34it/s]\n",
      "Computing chunks: 100%|████████████████████████| 2/2 [00:00<00:00, 95325.09it/s]\n",
      "Splitting the experimental spectrum into chunks: 131072it [00:00, 3408133.65it/s]\n",
      "Deconvolving chunks: 100%|███████████████████████| 1/1 [03:05<00:00, 185.14s/it]\n"
     ]
    },
    {
     "name": "stdout",
     "output_type": "stream",
     "text": [
      "Estimation for 0.18000000000000002 and 0.23 done\n",
      "It took: 185.2858180999756 seconds.\n",
      "[0.11956024523900066, 0.8698760001870047]\n"
     ]
    },
    {
     "name": "stderr",
     "output_type": "stream",
     "text": [
      "Initial filtering of formulas: 100%|██████████████| 2/2 [00:00<00:00, 60.54it/s]\n",
      "Computing chunks: 100%|████████████████████████| 2/2 [00:00<00:00, 41527.76it/s]\n",
      "Splitting the experimental spectrum into chunks: 131072it [00:00, 3403260.00it/s]\n",
      "Deconvolving chunks: 100%|███████████████████████| 1/1 [02:59<00:00, 179.47s/it]\n"
     ]
    },
    {
     "name": "stdout",
     "output_type": "stream",
     "text": [
      "Estimation for 0.18000000000000002 and 0.24000000000000002 done\n",
      "It took: 179.61201739311218 seconds.\n",
      "[0.11917575973000066, 0.8699890407080048]\n"
     ]
    },
    {
     "name": "stderr",
     "output_type": "stream",
     "text": [
      "Initial filtering of formulas: 100%|██████████████| 2/2 [00:00<00:00, 60.69it/s]\n",
      "Computing chunks: 100%|████████████████████████| 2/2 [00:00<00:00, 92182.51it/s]\n",
      "Splitting the experimental spectrum into chunks: 131072it [00:00, 3409528.68it/s]\n",
      "Deconvolving chunks: 100%|███████████████████████| 1/1 [03:00<00:00, 180.87s/it]\n"
     ]
    },
    {
     "name": "stdout",
     "output_type": "stream",
     "text": [
      "Estimation for 0.18000000000000002 and 0.25 done\n",
      "It took: 181.01576972007751 seconds.\n",
      "[0.11889971434000067, 0.8696873117410048]\n"
     ]
    },
    {
     "name": "stderr",
     "output_type": "stream",
     "text": [
      "Initial filtering of formulas: 100%|██████████████| 2/2 [00:00<00:00, 60.00it/s]\n",
      "Computing chunks: 100%|████████████████████████| 2/2 [00:00<00:00, 90200.09it/s]\n",
      "Splitting the experimental spectrum into chunks: 131072it [00:00, 3393386.83it/s]\n",
      "Deconvolving chunks: 100%|███████████████████████| 1/1 [03:03<00:00, 183.73s/it]\n"
     ]
    },
    {
     "name": "stdout",
     "output_type": "stream",
     "text": [
      "Estimation for 0.18000000000000002 and 0.26 done\n",
      "It took: 183.87878584861755 seconds.\n",
      "[0.11854502765000065, 0.8696300268680047]\n"
     ]
    },
    {
     "name": "stderr",
     "output_type": "stream",
     "text": [
      "Initial filtering of formulas: 100%|██████████████| 2/2 [00:00<00:00, 59.23it/s]\n",
      "Computing chunks: 100%|████████████████████████| 2/2 [00:00<00:00, 85598.04it/s]\n",
      "Splitting the experimental spectrum into chunks: 131072it [00:00, 3416372.40it/s]\n",
      "Deconvolving chunks: 100%|███████████████████████| 1/1 [03:05<00:00, 185.49s/it]\n"
     ]
    },
    {
     "name": "stdout",
     "output_type": "stream",
     "text": [
      "Estimation for 0.18000000000000002 and 0.27 done\n",
      "It took: 185.6340868473053 seconds.\n",
      "[0.11786924266200065, 0.8690391898290047]\n"
     ]
    },
    {
     "name": "stderr",
     "output_type": "stream",
     "text": [
      "Initial filtering of formulas: 100%|██████████████| 2/2 [00:00<00:00, 58.02it/s]\n",
      "Computing chunks: 100%|████████████████████████| 2/2 [00:00<00:00, 61680.94it/s]\n",
      "Splitting the experimental spectrum into chunks: 131072it [00:00, 3251703.84it/s]\n",
      "Deconvolving chunks: 100%|███████████████████████| 1/1 [03:03<00:00, 183.78s/it]\n"
     ]
    },
    {
     "name": "stdout",
     "output_type": "stream",
     "text": [
      "Estimation for 0.18000000000000002 and 0.28 done\n",
      "It took: 183.95317697525024 seconds.\n",
      "[0.11742350843400065, 0.8680865104110048]\n"
     ]
    },
    {
     "name": "stderr",
     "output_type": "stream",
     "text": [
      "Initial filtering of formulas: 100%|██████████████| 2/2 [00:00<00:00, 60.94it/s]\n",
      "Computing chunks: 100%|████████████████████████| 2/2 [00:00<00:00, 66052.03it/s]\n",
      "Splitting the experimental spectrum into chunks: 131072it [00:00, 3381905.62it/s]\n",
      "Deconvolving chunks: 100%|███████████████████████| 1/1 [03:04<00:00, 184.51s/it]\n"
     ]
    },
    {
     "name": "stdout",
     "output_type": "stream",
     "text": [
      "Estimation for 0.18000000000000002 and 0.29000000000000004 done\n",
      "It took: 184.65521478652954 seconds.\n",
      "[0.11688259621400066, 0.8683413041790048]\n"
     ]
    },
    {
     "name": "stderr",
     "output_type": "stream",
     "text": [
      "Initial filtering of formulas: 100%|██████████████| 2/2 [00:00<00:00, 60.95it/s]\n",
      "Computing chunks: 100%|████████████████████████| 2/2 [00:00<00:00, 96420.78it/s]\n",
      "Splitting the experimental spectrum into chunks: 131072it [00:00, 3332075.56it/s]\n",
      "Deconvolving chunks: 100%|███████████████████████| 1/1 [04:24<00:00, 264.14s/it]\n"
     ]
    },
    {
     "name": "stdout",
     "output_type": "stream",
     "text": [
      "Estimation for 0.19 and 0.01 done\n",
      "It took: 264.3142445087433 seconds.\n",
      "[0.3828158271040021, 0.6171841728960035]\n"
     ]
    },
    {
     "name": "stderr",
     "output_type": "stream",
     "text": [
      "Initial filtering of formulas: 100%|██████████████| 2/2 [00:00<00:00, 60.45it/s]\n",
      "Computing chunks: 100%|████████████████████████| 2/2 [00:00<00:00, 89240.51it/s]\n",
      "Splitting the experimental spectrum into chunks: 131072it [00:00, 3355340.80it/s]\n",
      "Deconvolving chunks: 100%|███████████████████████| 1/1 [03:03<00:00, 183.72s/it]\n"
     ]
    },
    {
     "name": "stdout",
     "output_type": "stream",
     "text": [
      "Estimation for 0.19 and 0.02 done\n",
      "It took: 183.87027883529663 seconds.\n",
      "[0.16390507487600092, 0.8351864748320047]\n"
     ]
    },
    {
     "name": "stderr",
     "output_type": "stream",
     "text": [
      "Initial filtering of formulas: 100%|██████████████| 2/2 [00:00<00:00, 59.54it/s]\n",
      "Computing chunks: 100%|████████████████████████| 2/2 [00:00<00:00, 87381.33it/s]\n",
      "Splitting the experimental spectrum into chunks: 131072it [00:00, 3296550.36it/s]\n",
      "Deconvolving chunks: 100%|███████████████████████| 1/1 [02:58<00:00, 178.83s/it]\n"
     ]
    },
    {
     "name": "stdout",
     "output_type": "stream",
     "text": [
      "Estimation for 0.19 and 0.03 done\n",
      "It took: 178.9727964401245 seconds.\n",
      "[0.13844094565600076, 0.8601742353620048]\n"
     ]
    },
    {
     "name": "stderr",
     "output_type": "stream",
     "text": [
      "Initial filtering of formulas: 100%|██████████████| 2/2 [00:00<00:00, 58.95it/s]\n",
      "Computing chunks: 100%|████████████████████████| 2/2 [00:00<00:00, 87381.33it/s]\n",
      "Splitting the experimental spectrum into chunks: 131072it [00:00, 3302273.06it/s]\n",
      "Deconvolving chunks: 100%|███████████████████████| 1/1 [03:07<00:00, 187.92s/it]\n"
     ]
    },
    {
     "name": "stdout",
     "output_type": "stream",
     "text": [
      "Estimation for 0.19 and 0.04 done\n",
      "It took: 188.0673315525055 seconds.\n",
      "[0.13254164189800074, 0.8656872621680047]\n"
     ]
    },
    {
     "name": "stderr",
     "output_type": "stream",
     "text": [
      "Initial filtering of formulas: 100%|██████████████| 2/2 [00:00<00:00, 59.84it/s]\n",
      "Computing chunks: 100%|████████████████████████| 2/2 [00:00<00:00, 86480.49it/s]\n",
      "Splitting the experimental spectrum into chunks: 131072it [00:00, 3287954.25it/s]\n",
      "Deconvolving chunks: 100%|███████████████████████| 1/1 [03:21<00:00, 201.77s/it]\n"
     ]
    },
    {
     "name": "stdout",
     "output_type": "stream",
     "text": [
      "Estimation for 0.19 and 0.05 done\n",
      "It took: 201.92055869102478 seconds.\n",
      "[0.1272169387030007, 0.8704043248840049]\n"
     ]
    },
    {
     "name": "stderr",
     "output_type": "stream",
     "text": [
      "Initial filtering of formulas: 100%|██████████████| 2/2 [00:00<00:00, 58.00it/s]\n",
      "Computing chunks: 100%|████████████████████████| 2/2 [00:00<00:00, 34379.54it/s]\n",
      "Splitting the experimental spectrum into chunks: 131072it [00:00, 2906638.61it/s]\n",
      "Deconvolving chunks: 100%|███████████████████████| 1/1 [02:56<00:00, 176.34s/it]\n"
     ]
    },
    {
     "name": "stdout",
     "output_type": "stream",
     "text": [
      "Estimation for 0.19 and 0.060000000000000005 done\n",
      "It took: 176.49578094482422 seconds.\n",
      "[0.12159221118900068, 0.8750597125500049]\n"
     ]
    },
    {
     "name": "stderr",
     "output_type": "stream",
     "text": [
      "Initial filtering of formulas: 100%|██████████████| 2/2 [00:00<00:00, 54.96it/s]\n",
      "Computing chunks: 100%|████████████████████████| 2/2 [00:00<00:00, 14538.32it/s]\n",
      "Splitting the experimental spectrum into chunks: 131072it [00:00, 3250684.80it/s]\n",
      "Deconvolving chunks: 100%|███████████████████████| 1/1 [03:03<00:00, 183.54s/it]\n"
     ]
    },
    {
     "name": "stdout",
     "output_type": "stream",
     "text": [
      "Estimation for 0.19 and 0.06999999999999999 done\n",
      "It took: 183.6970818042755 seconds.\n",
      "[0.12114296607900067, 0.8747521196230049]\n"
     ]
    },
    {
     "name": "stderr",
     "output_type": "stream",
     "text": [
      "Initial filtering of formulas: 100%|██████████████| 2/2 [00:00<00:00, 60.14it/s]\n",
      "Computing chunks: 100%|████████████████████████| 2/2 [00:00<00:00, 73584.28it/s]\n",
      "Splitting the experimental spectrum into chunks: 131072it [00:00, 3339524.20it/s]\n",
      "Deconvolving chunks: 100%|███████████████████████| 1/1 [03:11<00:00, 191.70s/it]\n"
     ]
    },
    {
     "name": "stdout",
     "output_type": "stream",
     "text": [
      "Estimation for 0.19 and 0.08 done\n",
      "It took: 191.8496172428131 seconds.\n",
      "[0.12119173341900066, 0.8737994854660048]\n"
     ]
    },
    {
     "name": "stderr",
     "output_type": "stream",
     "text": [
      "Initial filtering of formulas: 100%|██████████████| 2/2 [00:00<00:00, 60.23it/s]\n",
      "Computing chunks: 100%|████████████████████████| 2/2 [00:00<00:00, 66576.25it/s]\n",
      "Splitting the experimental spectrum into chunks: 131072it [00:00, 3353887.44it/s]\n",
      "Deconvolving chunks: 100%|███████████████████████| 1/1 [02:55<00:00, 175.55s/it]\n"
     ]
    },
    {
     "name": "stdout",
     "output_type": "stream",
     "text": [
      "Estimation for 0.19 and 0.09 done\n",
      "It took: 175.70241332054138 seconds.\n",
      "[0.12086733760500067, 0.8739209707520049]\n"
     ]
    },
    {
     "name": "stderr",
     "output_type": "stream",
     "text": [
      "Initial filtering of formulas: 100%|██████████████| 2/2 [00:00<00:00, 58.42it/s]\n",
      "Computing chunks: 100%|████████████████████████| 2/2 [00:00<00:00, 98689.51it/s]\n",
      "Splitting the experimental spectrum into chunks: 131072it [00:00, 3313818.21it/s]\n",
      "Deconvolving chunks: 100%|███████████████████████| 1/1 [02:55<00:00, 175.64s/it]\n"
     ]
    },
    {
     "name": "stdout",
     "output_type": "stream",
     "text": [
      "Estimation for 0.19 and 0.09999999999999999 done\n",
      "It took: 175.8162841796875 seconds.\n",
      "[0.12087562186500067, 0.8735325832510049]\n"
     ]
    },
    {
     "name": "stderr",
     "output_type": "stream",
     "text": [
      "Initial filtering of formulas: 100%|██████████████| 2/2 [00:00<00:00, 61.86it/s]\n",
      "Computing chunks: 100%|████████████████████████| 2/2 [00:00<00:00, 53773.13it/s]\n",
      "Splitting the experimental spectrum into chunks: 131072it [00:00, 3277740.90it/s]\n",
      "Deconvolving chunks: 100%|███████████████████████| 1/1 [03:11<00:00, 191.05s/it]\n"
     ]
    },
    {
     "name": "stdout",
     "output_type": "stream",
     "text": [
      "Estimation for 0.19 and 0.11 done\n",
      "It took: 191.22445106506348 seconds.\n",
      "[0.12088936392300066, 0.8728047961440049]\n"
     ]
    },
    {
     "name": "stderr",
     "output_type": "stream",
     "text": [
      "Initial filtering of formulas: 100%|██████████████| 2/2 [00:00<00:00, 54.27it/s]\n",
      "Computing chunks: 100%|████████████████████████| 2/2 [00:00<00:00, 87381.33it/s]\n",
      "Splitting the experimental spectrum into chunks: 131072it [00:00, 3532000.09it/s]\n",
      "Deconvolving chunks: 100%|███████████████████████| 1/1 [03:09<00:00, 189.91s/it]\n"
     ]
    },
    {
     "name": "stdout",
     "output_type": "stream",
     "text": [
      "Estimation for 0.19 and 0.12 done\n",
      "It took: 190.06588625907898 seconds.\n",
      "[0.12088008012200066, 0.8724249780840049]\n"
     ]
    },
    {
     "name": "stderr",
     "output_type": "stream",
     "text": [
      "Initial filtering of formulas: 100%|██████████████| 2/2 [00:00<00:00, 61.19it/s]\n",
      "Computing chunks: 100%|████████████████████████| 2/2 [00:00<00:00, 91180.52it/s]\n",
      "Splitting the experimental spectrum into chunks: 131072it [00:00, 3367982.69it/s]\n",
      "Deconvolving chunks: 100%|███████████████████████| 1/1 [02:59<00:00, 179.20s/it]\n"
     ]
    },
    {
     "name": "stdout",
     "output_type": "stream",
     "text": [
      "Estimation for 0.19 and 0.13 done\n",
      "It took: 179.3417649269104 seconds.\n",
      "[0.12061946811200067, 0.8725119180480049]\n"
     ]
    },
    {
     "name": "stderr",
     "output_type": "stream",
     "text": [
      "Initial filtering of formulas: 100%|██████████████| 2/2 [00:00<00:00, 61.78it/s]\n",
      "Computing chunks: 100%|████████████████████████| 2/2 [00:00<00:00, 91180.52it/s]\n",
      "Splitting the experimental spectrum into chunks: 131072it [00:00, 3404482.37it/s]\n",
      "Deconvolving chunks: 100%|███████████████████████| 1/1 [02:47<00:00, 167.19s/it]\n"
     ]
    },
    {
     "name": "stdout",
     "output_type": "stream",
     "text": [
      "Estimation for 0.19 and 0.14 done\n",
      "It took: 167.33547019958496 seconds.\n",
      "[0.11955755666000066, 0.8722303942230049]\n"
     ]
    },
    {
     "name": "stderr",
     "output_type": "stream",
     "text": [
      "Initial filtering of formulas: 100%|██████████████| 2/2 [00:00<00:00, 62.01it/s]\n",
      "Computing chunks: 100%|████████████████████████| 2/2 [00:00<00:00, 44150.57it/s]\n",
      "Splitting the experimental spectrum into chunks: 131072it [00:00, 3453608.83it/s]\n",
      "Deconvolving chunks: 100%|███████████████████████| 1/1 [02:51<00:00, 171.45s/it]\n"
     ]
    },
    {
     "name": "stdout",
     "output_type": "stream",
     "text": [
      "Estimation for 0.19 and 0.15000000000000002 done\n",
      "It took: 171.6001660823822 seconds.\n",
      "[0.11962827062400067, 0.8711956089690048]\n"
     ]
    },
    {
     "name": "stderr",
     "output_type": "stream",
     "text": [
      "Initial filtering of formulas: 100%|██████████████| 2/2 [00:00<00:00, 60.66it/s]\n",
      "Computing chunks: 100%|████████████████████████| 2/2 [00:00<00:00, 77672.30it/s]\n",
      "Splitting the experimental spectrum into chunks: 131072it [00:00, 3380387.59it/s]\n",
      "Deconvolving chunks: 100%|███████████████████████| 1/1 [03:21<00:00, 201.54s/it]\n"
     ]
    },
    {
     "name": "stdout",
     "output_type": "stream",
     "text": [
      "Estimation for 0.19 and 0.16 done\n",
      "It took: 201.68080759048462 seconds.\n",
      "[0.11981352734600066, 0.8701715072450049]\n"
     ]
    },
    {
     "name": "stderr",
     "output_type": "stream",
     "text": [
      "Initial filtering of formulas: 100%|██████████████| 2/2 [00:00<00:00, 61.53it/s]\n",
      "Computing chunks: 100%|████████████████████████| 2/2 [00:00<00:00, 97541.95it/s]\n",
      "Splitting the experimental spectrum into chunks: 131072it [00:00, 3386801.71it/s]\n",
      "Deconvolving chunks: 100%|███████████████████████| 1/1 [02:48<00:00, 168.73s/it]\n"
     ]
    },
    {
     "name": "stdout",
     "output_type": "stream",
     "text": [
      "Estimation for 0.19 and 0.17 done\n",
      "It took: 168.8741331100464 seconds.\n",
      "[0.11990945400400066, 0.8695977672210048]\n"
     ]
    },
    {
     "name": "stderr",
     "output_type": "stream",
     "text": [
      "Initial filtering of formulas: 100%|██████████████| 2/2 [00:00<00:00, 60.08it/s]\n",
      "Computing chunks: 100%|████████████████████████| 2/2 [00:00<00:00, 89240.51it/s]\n",
      "Splitting the experimental spectrum into chunks: 131072it [00:00, 3437305.79it/s]\n",
      "Deconvolving chunks: 100%|███████████████████████| 1/1 [03:08<00:00, 188.12s/it]\n"
     ]
    },
    {
     "name": "stdout",
     "output_type": "stream",
     "text": [
      "Estimation for 0.19 and 0.18000000000000002 done\n",
      "It took: 188.28218030929565 seconds.\n",
      "[0.11986793255900066, 0.8696121314220048]\n"
     ]
    },
    {
     "name": "stderr",
     "output_type": "stream",
     "text": [
      "Initial filtering of formulas: 100%|██████████████| 2/2 [00:00<00:00, 60.73it/s]\n",
      "Computing chunks: 100%|████████████████████████| 2/2 [00:00<00:00, 85598.04it/s]\n",
      "Splitting the experimental spectrum into chunks: 131072it [00:00, 3345010.46it/s]\n",
      "Deconvolving chunks: 100%|███████████████████████| 1/1 [03:02<00:00, 182.55s/it]\n"
     ]
    },
    {
     "name": "stdout",
     "output_type": "stream",
     "text": [
      "Estimation for 0.19 and 0.19 done\n",
      "It took: 182.69630241394043 seconds.\n",
      "[0.11983549016700067, 0.8696734635290048]\n"
     ]
    },
    {
     "name": "stderr",
     "output_type": "stream",
     "text": [
      "Initial filtering of formulas: 100%|██████████████| 2/2 [00:00<00:00, 59.36it/s]\n",
      "Computing chunks: 100%|████████████████████████| 2/2 [00:00<00:00, 80659.69it/s]\n",
      "Splitting the experimental spectrum into chunks: 131072it [00:00, 3324599.75it/s]\n",
      "Deconvolving chunks: 100%|███████████████████████| 1/1 [02:55<00:00, 175.61s/it]\n"
     ]
    },
    {
     "name": "stdout",
     "output_type": "stream",
     "text": [
      "Estimation for 0.19 and 0.2 done\n",
      "It took: 175.7572660446167 seconds.\n",
      "[0.11981005687000067, 0.8697346820840047]\n"
     ]
    },
    {
     "name": "stderr",
     "output_type": "stream",
     "text": [
      "Initial filtering of formulas: 100%|██████████████| 2/2 [00:00<00:00, 59.88it/s]\n",
      "Computing chunks: 100%|████████████████████████| 2/2 [00:00<00:00, 97541.95it/s]\n",
      "Splitting the experimental spectrum into chunks: 131072it [00:00, 3346557.99it/s]\n",
      "Deconvolving chunks: 100%|███████████████████████| 1/1 [03:07<00:00, 187.37s/it]\n"
     ]
    },
    {
     "name": "stdout",
     "output_type": "stream",
     "text": [
      "Estimation for 0.19 and 0.21000000000000002 done\n",
      "It took: 187.51602602005005 seconds.\n",
      "[0.11980246112100067, 0.8697596317540047]\n"
     ]
    },
    {
     "name": "stderr",
     "output_type": "stream",
     "text": [
      "Initial filtering of formulas: 100%|██████████████| 2/2 [00:00<00:00, 61.83it/s]\n",
      "Computing chunks: 100%|████████████████████████| 2/2 [00:00<00:00, 90200.09it/s]\n",
      "Splitting the experimental spectrum into chunks: 131072it [00:00, 3396300.80it/s]\n",
      "Deconvolving chunks: 100%|███████████████████████| 1/1 [02:53<00:00, 173.59s/it]\n"
     ]
    },
    {
     "name": "stdout",
     "output_type": "stream",
     "text": [
      "Estimation for 0.19 and 0.22 done\n",
      "It took: 173.76267099380493 seconds.\n",
      "[0.11973287371800066, 0.8698176451350048]\n"
     ]
    },
    {
     "name": "stderr",
     "output_type": "stream",
     "text": [
      "Initial filtering of formulas: 100%|██████████████| 2/2 [00:00<00:00, 60.63it/s]\n",
      "Computing chunks: 100%|████████████████████████| 2/2 [00:00<00:00, 98689.51it/s]\n",
      "Splitting the experimental spectrum into chunks: 131072it [00:00, 3384549.83it/s]\n",
      "Deconvolving chunks: 100%|███████████████████████| 1/1 [03:13<00:00, 193.38s/it]\n"
     ]
    },
    {
     "name": "stdout",
     "output_type": "stream",
     "text": [
      "Estimation for 0.19 and 0.23 done\n",
      "It took: 193.54796314239502 seconds.\n",
      "[0.11969599227700066, 0.8698400546310048]\n"
     ]
    },
    {
     "name": "stderr",
     "output_type": "stream",
     "text": [
      "Initial filtering of formulas: 100%|██████████████| 2/2 [00:00<00:00, 61.54it/s]\n",
      "Computing chunks: 100%|████████████████████████| 2/2 [00:00<00:00, 15534.46it/s]\n",
      "Splitting the experimental spectrum into chunks: 131072it [00:00, 3424267.12it/s]\n",
      "Deconvolving chunks: 100%|███████████████████████| 1/1 [03:04<00:00, 184.90s/it]\n"
     ]
    },
    {
     "name": "stdout",
     "output_type": "stream",
     "text": [
      "Estimation for 0.19 and 0.24000000000000002 done\n",
      "It took: 185.04258108139038 seconds.\n",
      "[0.11953250979500067, 0.8699313259990048]\n"
     ]
    },
    {
     "name": "stderr",
     "output_type": "stream",
     "text": [
      "Initial filtering of formulas: 100%|██████████████| 2/2 [00:00<00:00, 59.60it/s]\n",
      "Computing chunks: 100%|████████████████████████| 2/2 [00:00<00:00, 90200.09it/s]\n",
      "Splitting the experimental spectrum into chunks: 131072it [00:00, 3335674.28it/s]\n",
      "Deconvolving chunks: 100%|███████████████████████| 1/1 [03:01<00:00, 181.14s/it]\n"
     ]
    },
    {
     "name": "stdout",
     "output_type": "stream",
     "text": [
      "Estimation for 0.19 and 0.25 done\n",
      "It took: 181.29406189918518 seconds.\n",
      "[0.11948025612900066, 0.8697575540870047]\n"
     ]
    },
    {
     "name": "stderr",
     "output_type": "stream",
     "text": [
      "Initial filtering of formulas: 100%|██████████████| 2/2 [00:00<00:00, 60.81it/s]\n",
      "Computing chunks: 100%|████████████████████████| 2/2 [00:00<00:00, 59074.70it/s]\n",
      "Splitting the experimental spectrum into chunks: 131072it [00:00, 3369675.47it/s]\n",
      "Deconvolving chunks: 100%|███████████████████████| 1/1 [03:18<00:00, 198.24s/it]\n"
     ]
    },
    {
     "name": "stdout",
     "output_type": "stream",
     "text": [
      "Estimation for 0.19 and 0.26 done\n",
      "It took: 198.3879415988922 seconds.\n",
      "[0.11933519166300066, 0.8695869389980048]\n"
     ]
    },
    {
     "name": "stderr",
     "output_type": "stream",
     "text": [
      "Initial filtering of formulas: 100%|██████████████| 2/2 [00:00<00:00, 59.76it/s]\n",
      "Computing chunks: 100%|████████████████████████| 2/2 [00:00<00:00, 95325.09it/s]\n",
      "Splitting the experimental spectrum into chunks: 131072it [00:00, 3289134.54it/s]\n",
      "Deconvolving chunks: 100%|███████████████████████| 1/1 [03:03<00:00, 183.95s/it]\n"
     ]
    },
    {
     "name": "stdout",
     "output_type": "stream",
     "text": [
      "Estimation for 0.19 and 0.27 done\n",
      "It took: 184.10181856155396 seconds.\n",
      "[0.11884012528300067, 0.8691444591460048]\n"
     ]
    },
    {
     "name": "stderr",
     "output_type": "stream",
     "text": [
      "Initial filtering of formulas: 100%|██████████████| 2/2 [00:00<00:00, 61.25it/s]\n",
      "Computing chunks: 100%|████████████████████████| 2/2 [00:00<00:00, 99864.38it/s]\n",
      "Splitting the experimental spectrum into chunks: 131072it [00:00, 3419240.93it/s]\n",
      "Deconvolving chunks: 100%|███████████████████████| 1/1 [03:01<00:00, 181.57s/it]\n"
     ]
    },
    {
     "name": "stdout",
     "output_type": "stream",
     "text": [
      "Estimation for 0.19 and 0.28 done\n",
      "It took: 181.71027374267578 seconds.\n",
      "[0.11850732411900065, 0.8677532433490047]\n"
     ]
    },
    {
     "name": "stderr",
     "output_type": "stream",
     "text": [
      "Initial filtering of formulas: 100%|██████████████| 2/2 [00:00<00:00, 60.34it/s]\n",
      "Computing chunks: 100%|████████████████████████| 2/2 [00:00<00:00, 81442.80it/s]\n",
      "Splitting the experimental spectrum into chunks: 131072it [00:00, 3357082.40it/s]\n",
      "Deconvolving chunks: 100%|███████████████████████| 1/1 [02:56<00:00, 176.33s/it]\n"
     ]
    },
    {
     "name": "stdout",
     "output_type": "stream",
     "text": [
      "Estimation for 0.19 and 0.29000000000000004 done\n",
      "It took: 176.49704337120056 seconds.\n",
      "[0.11786468034800066, 0.8680945133460047]\n"
     ]
    },
    {
     "name": "stderr",
     "output_type": "stream",
     "text": [
      "Initial filtering of formulas: 100%|██████████████| 2/2 [00:00<00:00, 54.69it/s]\n",
      "Computing chunks: 100%|████████████████████████| 2/2 [00:00<00:00, 86480.49it/s]\n",
      "Splitting the experimental spectrum into chunks: 131072it [00:00, 3359770.05it/s]\n",
      "Deconvolving chunks: 100%|███████████████████████| 1/1 [04:20<00:00, 260.14s/it]\n"
     ]
    },
    {
     "name": "stdout",
     "output_type": "stream",
     "text": [
      "Estimation for 0.2 and 0.01 done\n",
      "It took: 260.2955198287964 seconds.\n",
      "[0.3828158271040021, 0.6171841728960035]\n"
     ]
    },
    {
     "name": "stderr",
     "output_type": "stream",
     "text": [
      "Initial filtering of formulas: 100%|██████████████| 2/2 [00:00<00:00, 60.57it/s]\n",
      "Computing chunks: 100%|████████████████████████| 2/2 [00:00<00:00, 79137.81it/s]\n",
      "Splitting the experimental spectrum into chunks: 131072it [00:00, 3371597.40it/s]\n",
      "Deconvolving chunks: 100%|███████████████████████| 1/1 [03:28<00:00, 208.09s/it]\n"
     ]
    },
    {
     "name": "stdout",
     "output_type": "stream",
     "text": [
      "Estimation for 0.2 and 0.02 done\n",
      "It took: 208.23243880271912 seconds.\n",
      "[0.1646227798170009, 0.8345660812280047]\n"
     ]
    },
    {
     "name": "stderr",
     "output_type": "stream",
     "text": [
      "Initial filtering of formulas: 100%|██████████████| 2/2 [00:00<00:00, 60.19it/s]\n",
      "Computing chunks: 100%|████████████████████████| 2/2 [00:00<00:00, 90200.09it/s]\n",
      "Splitting the experimental spectrum into chunks: 131072it [00:00, 3360612.11it/s]\n",
      "Deconvolving chunks: 100%|███████████████████████| 1/1 [03:15<00:00, 195.43s/it]\n"
     ]
    },
    {
     "name": "stdout",
     "output_type": "stream",
     "text": [
      "Estimation for 0.2 and 0.03 done\n",
      "It took: 195.57796430587769 seconds.\n",
      "[0.13846813352300077, 0.8601849704570048]\n"
     ]
    },
    {
     "name": "stderr",
     "output_type": "stream",
     "text": [
      "Initial filtering of formulas: 100%|██████████████| 2/2 [00:00<00:00, 60.53it/s]\n",
      "Computing chunks: 100%|████████████████████████| 2/2 [00:00<00:00, 77672.30it/s]\n",
      "Splitting the experimental spectrum into chunks: 131072it [00:00, 3364561.03it/s]\n",
      "Deconvolving chunks: 100%|███████████████████████| 1/1 [02:59<00:00, 179.29s/it]\n"
     ]
    },
    {
     "name": "stdout",
     "output_type": "stream",
     "text": [
      "Estimation for 0.2 and 0.04 done\n",
      "It took: 179.43181204795837 seconds.\n",
      "[0.13285762658800074, 0.8655425923140048]\n"
     ]
    },
    {
     "name": "stderr",
     "output_type": "stream",
     "text": [
      "Initial filtering of formulas: 100%|██████████████| 2/2 [00:00<00:00, 60.86it/s]\n",
      "Computing chunks: 100%|████████████████████████| 2/2 [00:00<00:00, 83886.08it/s]\n",
      "Splitting the experimental spectrum into chunks: 131072it [00:00, 3405515.76it/s]\n",
      "Deconvolving chunks: 100%|███████████████████████| 1/1 [03:00<00:00, 180.65s/it]\n"
     ]
    },
    {
     "name": "stdout",
     "output_type": "stream",
     "text": [
      "Estimation for 0.2 and 0.05 done\n",
      "It took: 180.7939326763153 seconds.\n",
      "[0.1274527014960007, 0.8703108526870049]\n"
     ]
    },
    {
     "name": "stderr",
     "output_type": "stream",
     "text": [
      "Initial filtering of formulas: 100%|██████████████| 2/2 [00:00<00:00, 59.85it/s]\n",
      "Computing chunks: 100%|████████████████████████| 2/2 [00:00<00:00, 96420.78it/s]\n",
      "Splitting the experimental spectrum into chunks: 131072it [00:00, 3314477.52it/s]\n",
      "Deconvolving chunks: 100%|███████████████████████| 1/1 [02:58<00:00, 178.16s/it]\n"
     ]
    },
    {
     "name": "stdout",
     "output_type": "stream",
     "text": [
      "Estimation for 0.2 and 0.060000000000000005 done\n",
      "It took: 178.31036615371704 seconds.\n",
      "[0.12168204264700068, 0.8752834667320049]\n"
     ]
    },
    {
     "name": "stderr",
     "output_type": "stream",
     "text": [
      "Initial filtering of formulas: 100%|██████████████| 2/2 [00:00<00:00, 58.54it/s]\n",
      "Computing chunks: 100%|████████████████████████| 2/2 [00:00<00:00, 92182.51it/s]\n",
      "Splitting the experimental spectrum into chunks: 131072it [00:00, 3338915.73it/s]\n",
      "Deconvolving chunks: 100%|███████████████████████| 1/1 [03:23<00:00, 203.88s/it]\n"
     ]
    },
    {
     "name": "stdout",
     "output_type": "stream",
     "text": [
      "Estimation for 0.2 and 0.06999999999999999 done\n",
      "It took: 204.05703353881836 seconds.\n",
      "[0.12096551127600066, 0.8753269851800048]\n"
     ]
    },
    {
     "name": "stderr",
     "output_type": "stream",
     "text": [
      "Initial filtering of formulas: 100%|██████████████| 2/2 [00:00<00:00, 59.66it/s]\n",
      "Computing chunks: 100%|████████████████████████| 2/2 [00:00<00:00, 91180.52it/s]\n",
      "Splitting the experimental spectrum into chunks: 131072it [00:00, 3348351.66it/s]\n",
      "Deconvolving chunks: 100%|███████████████████████| 1/1 [02:52<00:00, 172.64s/it]\n"
     ]
    },
    {
     "name": "stdout",
     "output_type": "stream",
     "text": [
      "Estimation for 0.2 and 0.08 done\n",
      "It took: 172.7947542667389 seconds.\n",
      "[0.12125168031000068, 0.8738437340730049]\n"
     ]
    },
    {
     "name": "stderr",
     "output_type": "stream",
     "text": [
      "Initial filtering of formulas: 100%|██████████████| 2/2 [00:00<00:00, 59.06it/s]\n",
      "Computing chunks: 100%|████████████████████████| 2/2 [00:00<00:00, 93206.76it/s]\n",
      "Splitting the experimental spectrum into chunks: 131072it [00:00, 3057222.22it/s]\n",
      "Deconvolving chunks: 100%|███████████████████████| 1/1 [02:57<00:00, 177.93s/it]\n"
     ]
    },
    {
     "name": "stdout",
     "output_type": "stream",
     "text": [
      "Estimation for 0.2 and 0.09 done\n",
      "It took: 178.08460402488708 seconds.\n",
      "[0.12089116344800066, 0.8739762340370049]\n"
     ]
    },
    {
     "name": "stderr",
     "output_type": "stream",
     "text": [
      "Initial filtering of formulas: 100%|██████████████| 2/2 [00:00<00:00, 59.93it/s]\n",
      "Computing chunks: 100%|████████████████████████| 2/2 [00:00<00:00, 95325.09it/s]\n",
      "Splitting the experimental spectrum into chunks: 131072it [00:00, 3359544.21it/s]\n",
      "Deconvolving chunks: 100%|███████████████████████| 1/1 [03:02<00:00, 182.41s/it]\n"
     ]
    },
    {
     "name": "stdout",
     "output_type": "stream",
     "text": [
      "Estimation for 0.2 and 0.09999999999999999 done\n",
      "It took: 182.56088137626648 seconds.\n",
      "[0.12081672003600066, 0.8739779721870049]\n"
     ]
    },
    {
     "name": "stderr",
     "output_type": "stream",
     "text": [
      "Initial filtering of formulas: 100%|██████████████| 2/2 [00:00<00:00, 62.10it/s]\n",
      "Computing chunks: 100%|████████████████████████| 2/2 [00:00<00:00, 93206.76it/s]\n",
      "Splitting the experimental spectrum into chunks: 131072it [00:00, 3415099.04it/s]\n",
      "Deconvolving chunks: 100%|███████████████████████| 1/1 [03:11<00:00, 191.79s/it]\n"
     ]
    },
    {
     "name": "stdout",
     "output_type": "stream",
     "text": [
      "Estimation for 0.2 and 0.11 done\n",
      "It took: 191.95536589622498 seconds.\n",
      "[0.12090640747400067, 0.8731045868160049]\n"
     ]
    },
    {
     "name": "stderr",
     "output_type": "stream",
     "text": [
      "Initial filtering of formulas: 100%|██████████████| 2/2 [00:00<00:00, 61.77it/s]\n",
      "Computing chunks: 100%|████████████████████████| 2/2 [00:00<00:00, 84733.41it/s]\n",
      "Splitting the experimental spectrum into chunks: 131072it [00:00, 3374950.51it/s]\n",
      "Deconvolving chunks: 100%|███████████████████████| 1/1 [03:19<00:00, 199.14s/it]\n"
     ]
    },
    {
     "name": "stdout",
     "output_type": "stream",
     "text": [
      "Estimation for 0.2 and 0.12 done\n",
      "It took: 199.29955768585205 seconds.\n",
      "[0.12090880292400066, 0.8725564784670049]\n"
     ]
    },
    {
     "name": "stderr",
     "output_type": "stream",
     "text": [
      "Initial filtering of formulas: 100%|██████████████| 2/2 [00:00<00:00, 60.23it/s]\n",
      "Computing chunks: 100%|████████████████████████| 2/2 [00:00<00:00, 88301.14it/s]\n",
      "Splitting the experimental spectrum into chunks: 131072it [00:00, 3345417.57it/s]\n",
      "Deconvolving chunks: 100%|███████████████████████| 1/1 [03:04<00:00, 184.11s/it]\n"
     ]
    },
    {
     "name": "stdout",
     "output_type": "stream",
     "text": [
      "Estimation for 0.2 and 0.13 done\n",
      "It took: 184.25785160064697 seconds.\n",
      "[0.12069485304700067, 0.8726259364880049]\n"
     ]
    },
    {
     "name": "stderr",
     "output_type": "stream",
     "text": [
      "Initial filtering of formulas: 100%|██████████████| 2/2 [00:00<00:00, 61.98it/s]\n",
      "Computing chunks: 100%|████████████████████████| 2/2 [00:00<00:00, 89240.51it/s]\n",
      "Splitting the experimental spectrum into chunks: 131072it [00:00, 3444693.22it/s]\n",
      "Deconvolving chunks: 100%|███████████████████████| 1/1 [03:48<00:00, 228.96s/it]\n"
     ]
    },
    {
     "name": "stdout",
     "output_type": "stream",
     "text": [
      "Estimation for 0.2 and 0.14 done\n",
      "It took: 229.1265697479248 seconds.\n",
      "[0.12018940657200067, 0.8724628414420049]\n"
     ]
    },
    {
     "name": "stderr",
     "output_type": "stream",
     "text": [
      "Initial filtering of formulas: 100%|██████████████| 2/2 [00:00<00:00, 61.76it/s]\n",
      "Computing chunks: 100%|████████████████████████| 2/2 [00:00<00:00, 47934.90it/s]\n",
      "Splitting the experimental spectrum into chunks: 131072it [00:00, 3394706.93it/s]\n",
      "Deconvolving chunks: 100%|███████████████████████| 1/1 [03:20<00:00, 200.16s/it]\n"
     ]
    },
    {
     "name": "stdout",
     "output_type": "stream",
     "text": [
      "Estimation for 0.2 and 0.15000000000000002 done\n",
      "It took: 200.30733489990234 seconds.\n",
      "[0.11954488883500067, 0.8718686494540049]\n"
     ]
    },
    {
     "name": "stderr",
     "output_type": "stream",
     "text": [
      "Initial filtering of formulas: 100%|██████████████| 2/2 [00:00<00:00, 61.23it/s]\n",
      "Computing chunks: 100%|████████████████████████| 2/2 [00:00<00:00, 89240.51it/s]\n",
      "Splitting the experimental spectrum into chunks: 131072it [00:00, 3402017.45it/s]\n",
      "Deconvolving chunks: 100%|███████████████████████| 1/1 [02:53<00:00, 173.36s/it]\n"
     ]
    },
    {
     "name": "stdout",
     "output_type": "stream",
     "text": [
      "Estimation for 0.2 and 0.16 done\n",
      "It took: 173.50284481048584 seconds.\n",
      "[0.11974380430400067, 0.8707071790260049]\n"
     ]
    },
    {
     "name": "stderr",
     "output_type": "stream",
     "text": [
      "Initial filtering of formulas: 100%|██████████████| 2/2 [00:00<00:00, 59.30it/s]\n",
      "Computing chunks: 100%|████████████████████████| 2/2 [00:00<00:00, 93206.76it/s]\n",
      "Splitting the experimental spectrum into chunks: 131072it [00:00, 3372135.10it/s]\n",
      "Deconvolving chunks: 100%|███████████████████████| 1/1 [03:05<00:00, 185.05s/it]\n"
     ]
    },
    {
     "name": "stdout",
     "output_type": "stream",
     "text": [
      "Estimation for 0.2 and 0.17 done\n",
      "It took: 185.20083928108215 seconds.\n",
      "[0.11986266613900066, 0.8699485971390047]\n"
     ]
    },
    {
     "name": "stderr",
     "output_type": "stream",
     "text": [
      "Initial filtering of formulas: 100%|██████████████| 2/2 [00:00<00:00, 61.85it/s]\n",
      "Computing chunks: 100%|████████████████████████| 2/2 [00:00<00:00, 89240.51it/s]\n",
      "Splitting the experimental spectrum into chunks: 131072it [00:00, 3426166.44it/s]\n",
      "Deconvolving chunks: 100%|███████████████████████| 1/1 [02:59<00:00, 179.19s/it]\n"
     ]
    },
    {
     "name": "stdout",
     "output_type": "stream",
     "text": [
      "Estimation for 0.2 and 0.18000000000000002 done\n",
      "It took: 179.33331298828125 seconds.\n",
      "[0.11989690422500067, 0.8696710630570048]\n"
     ]
    },
    {
     "name": "stderr",
     "output_type": "stream",
     "text": [
      "Initial filtering of formulas: 100%|██████████████| 2/2 [00:00<00:00, 60.20it/s]\n",
      "Computing chunks: 100%|████████████████████████| 2/2 [00:00<00:00, 88301.14it/s]\n",
      "Splitting the experimental spectrum into chunks: 131072it [00:00, 3350759.83it/s]\n",
      "Deconvolving chunks: 100%|███████████████████████| 1/1 [02:38<00:00, 158.94s/it]\n"
     ]
    },
    {
     "name": "stdout",
     "output_type": "stream",
     "text": [
      "Estimation for 0.2 and 0.19 done\n",
      "It took: 159.08926153182983 seconds.\n",
      "[0.11986746908900067, 0.8697248422490048]\n"
     ]
    },
    {
     "name": "stderr",
     "output_type": "stream",
     "text": [
      "Initial filtering of formulas: 100%|██████████████| 2/2 [00:00<00:00, 61.43it/s]\n",
      "Computing chunks: 100%|████████████████████████| 2/2 [00:00<00:00, 69327.34it/s]\n",
      "Splitting the experimental spectrum into chunks: 131072it [00:00, 3406824.20it/s]\n",
      "Deconvolving chunks: 100%|███████████████████████| 1/1 [03:09<00:00, 189.31s/it]\n"
     ]
    },
    {
     "name": "stdout",
     "output_type": "stream",
     "text": [
      "Estimation for 0.2 and 0.2 done\n",
      "It took: 189.47589898109436 seconds.\n",
      "[0.11984102791500066, 0.8697680226350047]\n"
     ]
    },
    {
     "name": "stderr",
     "output_type": "stream",
     "text": [
      "Initial filtering of formulas: 100%|██████████████| 2/2 [00:00<00:00, 60.23it/s]\n",
      "Computing chunks: 100%|████████████████████████| 2/2 [00:00<00:00, 87381.33it/s]\n",
      "Splitting the experimental spectrum into chunks: 131072it [00:00, 3366497.74it/s]\n",
      "Deconvolving chunks: 100%|███████████████████████| 1/1 [02:49<00:00, 169.05s/it]\n"
     ]
    },
    {
     "name": "stdout",
     "output_type": "stream",
     "text": [
      "Estimation for 0.2 and 0.21000000000000002 done\n",
      "It took: 169.19394993782043 seconds.\n",
      "[0.11982309961600067, 0.8697947862790048]\n"
     ]
    },
    {
     "name": "stderr",
     "output_type": "stream",
     "text": [
      "Initial filtering of formulas: 100%|██████████████| 2/2 [00:00<00:00, 61.32it/s]\n",
      "Computing chunks: 100%|████████████████████████| 2/2 [00:00<00:00, 97541.95it/s]\n",
      "Splitting the experimental spectrum into chunks: 131072it [00:00, 3462832.43it/s]\n",
      "Deconvolving chunks: 100%|███████████████████████| 1/1 [03:05<00:00, 185.17s/it]\n"
     ]
    },
    {
     "name": "stdout",
     "output_type": "stream",
     "text": [
      "Estimation for 0.2 and 0.22 done\n",
      "It took: 185.30903315544128 seconds.\n",
      "[0.11976678375400067, 0.8698281365170047]\n"
     ]
    },
    {
     "name": "stderr",
     "output_type": "stream",
     "text": [
      "Initial filtering of formulas: 100%|██████████████| 2/2 [00:00<00:00, 63.85it/s]\n",
      "Computing chunks: 100%|████████████████████████| 2/2 [00:00<00:00, 89240.51it/s]\n",
      "Splitting the experimental spectrum into chunks: 131072it [00:00, 3510259.71it/s]\n",
      "Deconvolving chunks: 100%|███████████████████████| 1/1 [02:56<00:00, 176.18s/it]\n"
     ]
    },
    {
     "name": "stdout",
     "output_type": "stream",
     "text": [
      "Estimation for 0.2 and 0.23 done\n",
      "It took: 176.35022568702698 seconds.\n",
      "[0.11971931045300066, 0.8698613790240047]\n"
     ]
    },
    {
     "name": "stderr",
     "output_type": "stream",
     "text": [
      "Initial filtering of formulas: 100%|██████████████| 2/2 [00:00<00:00, 62.00it/s]\n",
      "Computing chunks: 100%|████████████████████████| 2/2 [00:00<00:00, 97541.95it/s]\n",
      "Splitting the experimental spectrum into chunks: 131072it [00:00, 3448085.24it/s]\n",
      "Deconvolving chunks: 100%|███████████████████████| 1/1 [03:13<00:00, 193.69s/it]\n"
     ]
    },
    {
     "name": "stdout",
     "output_type": "stream",
     "text": [
      "Estimation for 0.2 and 0.24000000000000002 done\n",
      "It took: 193.8313009738922 seconds.\n",
      "[0.11962876602500067, 0.8699191509110048]\n"
     ]
    },
    {
     "name": "stderr",
     "output_type": "stream",
     "text": [
      "Initial filtering of formulas: 100%|██████████████| 2/2 [00:00<00:00, 60.66it/s]\n",
      "Computing chunks: 100%|████████████████████████| 2/2 [00:00<00:00, 86480.49it/s]\n",
      "Splitting the experimental spectrum into chunks: 131072it [00:00, 3425888.88it/s]\n",
      "Deconvolving chunks: 100%|███████████████████████| 1/1 [03:01<00:00, 181.16s/it]\n"
     ]
    },
    {
     "name": "stdout",
     "output_type": "stream",
     "text": [
      "Estimation for 0.2 and 0.25 done\n",
      "It took: 181.3096432685852 seconds.\n",
      "[0.11947477391600067, 0.8700221955570049]\n"
     ]
    },
    {
     "name": "stderr",
     "output_type": "stream",
     "text": [
      "Initial filtering of formulas: 100%|██████████████| 2/2 [00:00<00:00, 61.11it/s]\n",
      "Computing chunks: 100%|████████████████████████| 2/2 [00:00<00:00, 95325.09it/s]\n",
      "Splitting the experimental spectrum into chunks: 131072it [00:00, 3470658.73it/s]\n",
      "Deconvolving chunks: 100%|███████████████████████| 1/1 [03:15<00:00, 195.56s/it]\n"
     ]
    },
    {
     "name": "stdout",
     "output_type": "stream",
     "text": [
      "Estimation for 0.2 and 0.26 done\n",
      "It took: 195.70047068595886 seconds.\n",
      "[0.11950253035900067, 0.8696485798750048]\n"
     ]
    },
    {
     "name": "stderr",
     "output_type": "stream",
     "text": [
      "Initial filtering of formulas: 100%|██████████████| 2/2 [00:00<00:00, 60.59it/s]\n",
      "Computing chunks: 100%|████████████████████████| 2/2 [00:00<00:00, 92182.51it/s]\n",
      "Splitting the experimental spectrum into chunks: 131072it [00:00, 3148117.81it/s]\n",
      "Deconvolving chunks: 100%|███████████████████████| 1/1 [02:53<00:00, 173.60s/it]\n"
     ]
    },
    {
     "name": "stdout",
     "output_type": "stream",
     "text": [
      "Estimation for 0.2 and 0.27 done\n",
      "It took: 173.74773287773132 seconds.\n",
      "[0.11946548102800067, 0.8694853938910048]\n"
     ]
    },
    {
     "name": "stderr",
     "output_type": "stream",
     "text": [
      "Initial filtering of formulas: 100%|██████████████| 2/2 [00:00<00:00, 59.36it/s]\n",
      "Computing chunks: 100%|████████████████████████| 2/2 [00:00<00:00, 88301.14it/s]\n",
      "Splitting the experimental spectrum into chunks: 131072it [00:00, 3326611.48it/s]\n",
      "Deconvolving chunks: 100%|███████████████████████| 1/1 [03:04<00:00, 184.18s/it]\n"
     ]
    },
    {
     "name": "stdout",
     "output_type": "stream",
     "text": [
      "Estimation for 0.2 and 0.28 done\n",
      "It took: 184.36142468452454 seconds.\n",
      "[0.11881655142000067, 0.8688840700680047]\n"
     ]
    },
    {
     "name": "stderr",
     "output_type": "stream",
     "text": [
      "Initial filtering of formulas: 100%|██████████████| 2/2 [00:00<00:00, 62.81it/s]\n",
      "Computing chunks: 100%|████████████████████████| 2/2 [00:00<00:00, 92182.51it/s]\n",
      "Splitting the experimental spectrum into chunks: 131072it [00:00, 3426251.85it/s]\n",
      "Deconvolving chunks: 100%|███████████████████████| 1/1 [02:50<00:00, 170.13s/it]\n"
     ]
    },
    {
     "name": "stdout",
     "output_type": "stream",
     "text": [
      "Estimation for 0.2 and 0.29000000000000004 done\n",
      "It took: 170.27046155929565 seconds.\n",
      "[0.11847589721800066, 0.8679375688580048]\n"
     ]
    },
    {
     "name": "stderr",
     "output_type": "stream",
     "text": [
      "Initial filtering of formulas: 100%|██████████████| 2/2 [00:00<00:00, 60.05it/s]\n",
      "Computing chunks: 100%|████████████████████████| 2/2 [00:00<00:00, 88301.14it/s]\n",
      "Splitting the experimental spectrum into chunks: 131072it [00:00, 3336119.61it/s]\n",
      "Deconvolving chunks: 100%|███████████████████████| 1/1 [02:30<00:00, 150.67s/it]\n"
     ]
    },
    {
     "name": "stdout",
     "output_type": "stream",
     "text": [
      "Estimation for 0.21000000000000002 and 0.01 done\n",
      "It took: 150.81505250930786 seconds.\n",
      "[0.3828158271040021, 0.6171841728960035]\n"
     ]
    },
    {
     "name": "stderr",
     "output_type": "stream",
     "text": [
      "Initial filtering of formulas: 100%|██████████████| 2/2 [00:00<00:00, 60.86it/s]\n",
      "Computing chunks: 100%|████████████████████████| 2/2 [00:00<00:00, 90200.09it/s]\n",
      "Splitting the experimental spectrum into chunks: 131072it [00:00, 3224185.17it/s]\n",
      "Deconvolving chunks: 100%|███████████████████████| 1/1 [03:12<00:00, 192.01s/it]\n"
     ]
    },
    {
     "name": "stdout",
     "output_type": "stream",
     "text": [
      "Estimation for 0.21000000000000002 and 0.02 done\n",
      "It took: 192.16171550750732 seconds.\n",
      "[0.1658394996740009, 0.8333930773370046]\n"
     ]
    },
    {
     "name": "stderr",
     "output_type": "stream",
     "text": [
      "Initial filtering of formulas: 100%|██████████████| 2/2 [00:00<00:00, 59.76it/s]\n",
      "Computing chunks: 100%|████████████████████████| 2/2 [00:00<00:00, 92182.51it/s]\n",
      "Splitting the experimental spectrum into chunks: 131072it [00:00, 3478872.69it/s]\n",
      "Deconvolving chunks: 100%|███████████████████████| 1/1 [04:06<00:00, 246.72s/it]\n"
     ]
    },
    {
     "name": "stdout",
     "output_type": "stream",
     "text": [
      "Estimation for 0.21000000000000002 and 0.03 done\n",
      "It took: 246.89044523239136 seconds.\n",
      "[0.1384698679630008, 0.8602422780690048]\n"
     ]
    },
    {
     "name": "stderr",
     "output_type": "stream",
     "text": [
      "Initial filtering of formulas: 100%|██████████████| 2/2 [00:00<00:00, 62.59it/s]\n",
      "Computing chunks: 100%|████████████████████████| 2/2 [00:00<00:00, 74898.29it/s]\n",
      "Splitting the experimental spectrum into chunks: 131072it [00:00, 3416860.77it/s]\n",
      "Deconvolving chunks: 100%|███████████████████████| 1/1 [03:44<00:00, 224.73s/it]\n"
     ]
    },
    {
     "name": "stdout",
     "output_type": "stream",
     "text": [
      "Estimation for 0.21000000000000002 and 0.04 done\n",
      "It took: 224.8737597465515 seconds.\n",
      "[0.13304756178000074, 0.8655434007890048]\n"
     ]
    },
    {
     "name": "stderr",
     "output_type": "stream",
     "text": [
      "Initial filtering of formulas: 100%|██████████████| 2/2 [00:00<00:00, 61.12it/s]\n",
      "Computing chunks: 100%|████████████████████████| 2/2 [00:00<00:00, 68759.08it/s]\n",
      "Splitting the experimental spectrum into chunks: 131072it [00:00, 3406613.09it/s]\n",
      "Deconvolving chunks: 100%|███████████████████████| 1/1 [02:53<00:00, 173.05s/it]\n"
     ]
    },
    {
     "name": "stdout",
     "output_type": "stream",
     "text": [
      "Estimation for 0.21000000000000002 and 0.05 done\n",
      "It took: 173.21987962722778 seconds.\n",
      "[0.1276424648390007, 0.8703369615650048]\n"
     ]
    },
    {
     "name": "stderr",
     "output_type": "stream",
     "text": [
      "Initial filtering of formulas: 100%|██████████████| 2/2 [00:00<00:00, 59.71it/s]\n",
      "Computing chunks: 100%|████████████████████████| 2/2 [00:00<00:00, 93206.76it/s]\n",
      "Splitting the experimental spectrum into chunks: 131072it [00:00, 3018049.44it/s]\n",
      "Deconvolving chunks: 100%|███████████████████████| 1/1 [03:02<00:00, 182.18s/it]\n"
     ]
    },
    {
     "name": "stdout",
     "output_type": "stream",
     "text": [
      "Estimation for 0.21000000000000002 and 0.060000000000000005 done\n",
      "It took: 182.35511445999146 seconds.\n",
      "[0.12167462811400068, 0.8756591184540049]\n"
     ]
    },
    {
     "name": "stderr",
     "output_type": "stream",
     "text": [
      "Initial filtering of formulas: 100%|██████████████| 2/2 [00:00<00:00, 61.80it/s]\n",
      "Computing chunks: 100%|████████████████████████| 2/2 [00:00<00:00, 87381.33it/s]\n",
      "Splitting the experimental spectrum into chunks: 131072it [00:00, 3468666.01it/s]\n",
      "Deconvolving chunks: 100%|███████████████████████| 1/1 [03:16<00:00, 196.01s/it]\n"
     ]
    },
    {
     "name": "stdout",
     "output_type": "stream",
     "text": [
      "Estimation for 0.21000000000000002 and 0.06999999999999999 done\n",
      "It took: 196.16051602363586 seconds.\n",
      "[0.12081387375800066, 0.8758080319200049]\n"
     ]
    },
    {
     "name": "stderr",
     "output_type": "stream",
     "text": [
      "Initial filtering of formulas: 100%|██████████████| 2/2 [00:00<00:00, 54.25it/s]\n",
      "Computing chunks: 100%|████████████████████████| 2/2 [00:00<00:00, 92182.51it/s]\n",
      "Splitting the experimental spectrum into chunks: 131072it [00:00, 3092094.30it/s]\n",
      "Deconvolving chunks: 100%|███████████████████████| 1/1 [02:58<00:00, 178.50s/it]\n"
     ]
    },
    {
     "name": "stdout",
     "output_type": "stream",
     "text": [
      "Estimation for 0.21000000000000002 and 0.08 done\n",
      "It took: 178.6606113910675 seconds.\n",
      "[0.12129125411900069, 0.8739420627740049]\n"
     ]
    },
    {
     "name": "stderr",
     "output_type": "stream",
     "text": [
      "Initial filtering of formulas: 100%|██████████████| 2/2 [00:00<00:00, 60.11it/s]\n",
      "Computing chunks: 100%|████████████████████████| 2/2 [00:00<00:00, 89240.51it/s]\n",
      "Splitting the experimental spectrum into chunks: 131072it [00:00, 3364972.91it/s]\n",
      "Deconvolving chunks: 100%|███████████████████████| 1/1 [03:01<00:00, 181.36s/it]\n"
     ]
    },
    {
     "name": "stdout",
     "output_type": "stream",
     "text": [
      "Estimation for 0.21000000000000002 and 0.09 done\n",
      "It took: 181.50528502464294 seconds.\n",
      "[0.12089772292000067, 0.8740801207970049]\n"
     ]
    },
    {
     "name": "stderr",
     "output_type": "stream",
     "text": [
      "Initial filtering of formulas: 100%|██████████████| 2/2 [00:00<00:00, 63.12it/s]\n",
      "Computing chunks: 100%|████████████████████████| 2/2 [00:00<00:00, 93206.76it/s]\n",
      "Splitting the experimental spectrum into chunks: 131072it [00:00, 3286322.91it/s]\n",
      "Deconvolving chunks: 100%|███████████████████████| 1/1 [03:03<00:00, 183.51s/it]\n"
     ]
    },
    {
     "name": "stdout",
     "output_type": "stream",
     "text": [
      "Estimation for 0.21000000000000002 and 0.09999999999999999 done\n",
      "It took: 183.6509177684784 seconds.\n",
      "[0.12082016263800066, 0.8740360318700049]\n"
     ]
    },
    {
     "name": "stderr",
     "output_type": "stream",
     "text": [
      "Initial filtering of formulas: 100%|██████████████| 2/2 [00:00<00:00, 61.66it/s]\n",
      "Computing chunks: 100%|████████████████████████| 2/2 [00:00<00:00, 92182.51it/s]\n",
      "Splitting the experimental spectrum into chunks: 131072it [00:00, 3390812.45it/s]\n",
      "Deconvolving chunks: 100%|███████████████████████| 1/1 [03:06<00:00, 186.53s/it]\n"
     ]
    },
    {
     "name": "stdout",
     "output_type": "stream",
     "text": [
      "Estimation for 0.21000000000000002 and 0.11 done\n",
      "It took: 186.6705892086029 seconds.\n",
      "[0.12085946245800067, 0.8736243477430049]\n"
     ]
    },
    {
     "name": "stderr",
     "output_type": "stream",
     "text": [
      "Initial filtering of formulas: 100%|██████████████| 2/2 [00:00<00:00, 62.01it/s]\n",
      "Computing chunks: 100%|████████████████████████| 2/2 [00:00<00:00, 90200.09it/s]\n",
      "Splitting the experimental spectrum into chunks: 131072it [00:00, 3406233.16it/s]\n",
      "Deconvolving chunks: 100%|███████████████████████| 1/1 [03:20<00:00, 200.74s/it]\n"
     ]
    },
    {
     "name": "stdout",
     "output_type": "stream",
     "text": [
      "Estimation for 0.21000000000000002 and 0.12 done\n",
      "It took: 200.8913209438324 seconds.\n",
      "[0.12092113501900066, 0.8728218441630049]\n"
     ]
    },
    {
     "name": "stderr",
     "output_type": "stream",
     "text": [
      "Initial filtering of formulas: 100%|██████████████| 2/2 [00:00<00:00, 60.13it/s]\n",
      "Computing chunks: 100%|████████████████████████| 2/2 [00:00<00:00, 94254.02it/s]\n",
      "Splitting the experimental spectrum into chunks: 131072it [00:00, 3423009.19it/s]\n",
      "Deconvolving chunks: 100%|███████████████████████| 1/1 [03:01<00:00, 181.92s/it]\n"
     ]
    },
    {
     "name": "stdout",
     "output_type": "stream",
     "text": [
      "Estimation for 0.21000000000000002 and 0.13 done\n",
      "It took: 182.09657192230225 seconds.\n",
      "[0.12072748237300067, 0.8726695496890049]\n"
     ]
    },
    {
     "name": "stderr",
     "output_type": "stream",
     "text": [
      "Initial filtering of formulas: 100%|██████████████| 2/2 [00:00<00:00, 64.35it/s]\n",
      "Computing chunks: 100%|████████████████████████| 2/2 [00:00<00:00, 89240.51it/s]\n",
      "Splitting the experimental spectrum into chunks: 131072it [00:00, 3510977.08it/s]\n",
      "Deconvolving chunks: 100%|███████████████████████| 1/1 [02:55<00:00, 175.88s/it]\n"
     ]
    },
    {
     "name": "stdout",
     "output_type": "stream",
     "text": [
      "Estimation for 0.21000000000000002 and 0.14 done\n",
      "It took: 176.01852655410767 seconds.\n",
      "[0.12043449841700067, 0.8728151741360048]\n"
     ]
    },
    {
     "name": "stderr",
     "output_type": "stream",
     "text": [
      "Initial filtering of formulas: 100%|██████████████| 2/2 [00:00<00:00, 60.86it/s]\n",
      "Computing chunks: 100%|████████████████████████| 2/2 [00:00<00:00, 38130.04it/s]\n",
      "Splitting the experimental spectrum into chunks: 131072it [00:00, 3147541.04it/s]\n",
      "Deconvolving chunks: 100%|███████████████████████| 1/1 [03:00<00:00, 180.89s/it]\n"
     ]
    },
    {
     "name": "stdout",
     "output_type": "stream",
     "text": [
      "Estimation for 0.21000000000000002 and 0.15000000000000002 done\n",
      "It took: 181.04881286621094 seconds.\n",
      "[0.11962367727100066, 0.8723556032440049]\n"
     ]
    },
    {
     "name": "stderr",
     "output_type": "stream",
     "text": [
      "Initial filtering of formulas: 100%|██████████████| 2/2 [00:00<00:00, 59.88it/s]\n",
      "Computing chunks: 100%|████████████████████████| 2/2 [00:00<00:00, 60349.70it/s]\n",
      "Splitting the experimental spectrum into chunks: 131072it [00:00, 3380886.52it/s]\n",
      "Deconvolving chunks: 100%|███████████████████████| 1/1 [02:44<00:00, 164.61s/it]\n"
     ]
    },
    {
     "name": "stdout",
     "output_type": "stream",
     "text": [
      "Estimation for 0.21000000000000002 and 0.16 done\n",
      "It took: 164.75418829917908 seconds.\n",
      "[0.11962216497200066, 0.8714884802010049]\n"
     ]
    },
    {
     "name": "stderr",
     "output_type": "stream",
     "text": [
      "Initial filtering of formulas: 100%|██████████████| 2/2 [00:00<00:00, 58.76it/s]\n",
      "Computing chunks: 100%|████████████████████████| 2/2 [00:00<00:00, 67108.86it/s]\n",
      "Splitting the experimental spectrum into chunks: 131072it [00:00, 3284398.83it/s]\n",
      "Deconvolving chunks: 100%|███████████████████████| 1/1 [03:01<00:00, 181.50s/it]\n"
     ]
    },
    {
     "name": "stdout",
     "output_type": "stream",
     "text": [
      "Estimation for 0.21000000000000002 and 0.17 done\n",
      "It took: 181.65404534339905 seconds.\n",
      "[0.11983005679300067, 0.8703373814450048]\n"
     ]
    },
    {
     "name": "stderr",
     "output_type": "stream",
     "text": [
      "Initial filtering of formulas: 100%|██████████████| 2/2 [00:00<00:00, 59.00it/s]\n",
      "Computing chunks: 100%|████████████████████████| 2/2 [00:00<00:00, 82241.25it/s]\n",
      "Splitting the experimental spectrum into chunks: 131072it [00:00, 3441674.11it/s]\n",
      "Deconvolving chunks: 100%|███████████████████████| 1/1 [02:53<00:00, 173.19s/it]\n"
     ]
    },
    {
     "name": "stdout",
     "output_type": "stream",
     "text": [
      "Estimation for 0.21000000000000002 and 0.18000000000000002 done\n",
      "It took: 173.3387062549591 seconds.\n",
      "[0.11993332365800066, 0.8697412214760047]\n"
     ]
    },
    {
     "name": "stderr",
     "output_type": "stream",
     "text": [
      "Initial filtering of formulas: 100%|██████████████| 2/2 [00:00<00:00, 60.30it/s]\n",
      "Computing chunks: 100%|████████████████████████| 2/2 [00:00<00:00, 14691.08it/s]\n",
      "Splitting the experimental spectrum into chunks: 131072it [00:00, 3357574.47it/s]\n",
      "Deconvolving chunks: 100%|███████████████████████| 1/1 [03:04<00:00, 184.16s/it]\n"
     ]
    },
    {
     "name": "stdout",
     "output_type": "stream",
     "text": [
      "Estimation for 0.21000000000000002 and 0.19 done\n",
      "It took: 184.31099557876587 seconds.\n",
      "[0.11989480050400067, 0.8697595301740048]\n"
     ]
    },
    {
     "name": "stderr",
     "output_type": "stream",
     "text": [
      "Initial filtering of formulas: 100%|██████████████| 2/2 [00:00<00:00, 51.90it/s]\n",
      "Computing chunks: 100%|████████████████████████| 2/2 [00:00<00:00, 83055.52it/s]\n",
      "Splitting the experimental spectrum into chunks: 131072it [00:00, 3262374.72it/s]\n",
      "Deconvolving chunks: 100%|███████████████████████| 1/1 [02:43<00:00, 163.06s/it]\n"
     ]
    },
    {
     "name": "stdout",
     "output_type": "stream",
     "text": [
      "Estimation for 0.21000000000000002 and 0.2 done\n",
      "It took: 163.22593355178833 seconds.\n",
      "[0.11986414840100067, 0.8697973252260047]\n"
     ]
    },
    {
     "name": "stderr",
     "output_type": "stream",
     "text": [
      "Initial filtering of formulas: 100%|██████████████| 2/2 [00:00<00:00, 60.54it/s]\n",
      "Computing chunks: 100%|████████████████████████| 2/2 [00:00<00:00, 51781.53it/s]\n",
      "Splitting the experimental spectrum into chunks: 131072it [00:00, 3360571.02it/s]\n",
      "Deconvolving chunks: 100%|███████████████████████| 1/1 [03:06<00:00, 186.12s/it]\n"
     ]
    },
    {
     "name": "stdout",
     "output_type": "stream",
     "text": [
      "Estimation for 0.21000000000000002 and 0.21000000000000002 done\n",
      "It took: 186.27723217010498 seconds.\n",
      "[0.11983277017400067, 0.8698191013330048]\n"
     ]
    },
    {
     "name": "stderr",
     "output_type": "stream",
     "text": [
      "Initial filtering of formulas: 100%|██████████████| 2/2 [00:00<00:00, 60.22it/s]\n",
      "Computing chunks: 100%|████████████████████████| 2/2 [00:00<00:00, 98689.51it/s]\n",
      "Splitting the experimental spectrum into chunks: 131072it [00:00, 3366848.23it/s]\n",
      "Deconvolving chunks: 100%|███████████████████████| 1/1 [02:52<00:00, 172.47s/it]\n"
     ]
    },
    {
     "name": "stdout",
     "output_type": "stream",
     "text": [
      "Estimation for 0.21000000000000002 and 0.22 done\n",
      "It took: 172.61277532577515 seconds.\n",
      "[0.11982745270200067, 0.8698278757000047]\n"
     ]
    },
    {
     "name": "stderr",
     "output_type": "stream",
     "text": [
      "Initial filtering of formulas: 100%|██████████████| 2/2 [00:00<00:00, 61.96it/s]\n",
      "Computing chunks: 100%|████████████████████████| 2/2 [00:00<00:00, 91180.52it/s]\n",
      "Splitting the experimental spectrum into chunks: 131072it [00:00, 3446939.41it/s]\n",
      "Deconvolving chunks: 100%|███████████████████████| 1/1 [03:05<00:00, 185.59s/it]\n"
     ]
    },
    {
     "name": "stdout",
     "output_type": "stream",
     "text": [
      "Estimation for 0.21000000000000002 and 0.23 done\n",
      "It took: 185.73793244361877 seconds.\n",
      "[0.11975625679800067, 0.8698735707030048]\n"
     ]
    },
    {
     "name": "stderr",
     "output_type": "stream",
     "text": [
      "Initial filtering of formulas: 100%|██████████████| 2/2 [00:00<00:00, 62.22it/s]\n",
      "Computing chunks: 100%|████████████████████████| 2/2 [00:00<00:00, 95325.09it/s]\n",
      "Splitting the experimental spectrum into chunks: 131072it [00:00, 3465255.24it/s]\n",
      "Deconvolving chunks: 100%|███████████████████████| 1/1 [03:18<00:00, 198.48s/it]\n"
     ]
    },
    {
     "name": "stdout",
     "output_type": "stream",
     "text": [
      "Estimation for 0.21000000000000002 and 0.24000000000000002 done\n",
      "It took: 198.62676763534546 seconds.\n",
      "[0.11971920457100067, 0.8699204310280048]\n"
     ]
    },
    {
     "name": "stderr",
     "output_type": "stream",
     "text": [
      "Initial filtering of formulas: 100%|██████████████| 2/2 [00:00<00:00, 59.23it/s]\n",
      "Computing chunks: 100%|████████████████████████| 2/2 [00:00<00:00, 85598.04it/s]\n",
      "Splitting the experimental spectrum into chunks: 131072it [00:00, 3441717.20it/s]\n",
      "Deconvolving chunks: 100%|███████████████████████| 1/1 [02:59<00:00, 179.41s/it]\n"
     ]
    },
    {
     "name": "stdout",
     "output_type": "stream",
     "text": [
      "Estimation for 0.21000000000000002 and 0.25 done\n",
      "It took: 179.55145072937012 seconds.\n",
      "[0.11956122234100067, 0.8700204297670049]\n"
     ]
    },
    {
     "name": "stderr",
     "output_type": "stream",
     "text": [
      "Initial filtering of formulas: 100%|██████████████| 2/2 [00:00<00:00, 60.80it/s]\n",
      "Computing chunks: 100%|████████████████████████| 2/2 [00:00<00:00, 90200.09it/s]\n",
      "Splitting the experimental spectrum into chunks: 131072it [00:00, 3328847.37it/s]\n",
      "Deconvolving chunks: 100%|███████████████████████| 1/1 [04:29<00:00, 269.37s/it]\n"
     ]
    },
    {
     "name": "stdout",
     "output_type": "stream",
     "text": [
      "Estimation for 0.21000000000000002 and 0.26 done\n",
      "It took: 269.515615940094 seconds.\n",
      "[0.11951049155000067, 0.8698592461440048]\n"
     ]
    },
    {
     "name": "stderr",
     "output_type": "stream",
     "text": [
      "Initial filtering of formulas: 100%|██████████████| 2/2 [00:00<00:00, 62.85it/s]\n",
      "Computing chunks: 100%|████████████████████████| 2/2 [00:00<00:00, 49636.73it/s]\n",
      "Splitting the experimental spectrum into chunks: 131072it [00:00, 3434986.28it/s]\n",
      "Deconvolving chunks: 100%|███████████████████████| 1/1 [02:58<00:00, 178.13s/it]\n"
     ]
    },
    {
     "name": "stdout",
     "output_type": "stream",
     "text": [
      "Estimation for 0.21000000000000002 and 0.27 done\n",
      "It took: 178.27766609191895 seconds.\n",
      "[0.11948031399900066, 0.8696419106460048]\n"
     ]
    },
    {
     "name": "stderr",
     "output_type": "stream",
     "text": [
      "Initial filtering of formulas: 100%|██████████████| 2/2 [00:00<00:00, 60.69it/s]\n",
      "Computing chunks: 100%|████████████████████████| 2/2 [00:00<00:00, 89240.51it/s]\n",
      "Splitting the experimental spectrum into chunks: 131072it [00:00, 3354337.64it/s]\n",
      "Deconvolving chunks: 100%|███████████████████████| 1/1 [03:21<00:00, 201.32s/it]\n"
     ]
    },
    {
     "name": "stdout",
     "output_type": "stream",
     "text": [
      "Estimation for 0.21000000000000002 and 0.28 done\n",
      "It took: 201.47250628471375 seconds.\n",
      "[0.11936654329300067, 0.8690625684510048]\n"
     ]
    },
    {
     "name": "stderr",
     "output_type": "stream",
     "text": [
      "Initial filtering of formulas: 100%|██████████████| 2/2 [00:00<00:00, 50.78it/s]\n",
      "Computing chunks: 100%|████████████████████████| 2/2 [00:00<00:00, 76959.71it/s]\n",
      "Splitting the experimental spectrum into chunks: 131072it [00:00, 2879735.02it/s]\n",
      "Deconvolving chunks: 100%|███████████████████████| 1/1 [03:11<00:00, 191.49s/it]\n"
     ]
    },
    {
     "name": "stdout",
     "output_type": "stream",
     "text": [
      "Estimation for 0.21000000000000002 and 0.29000000000000004 done\n",
      "It took: 191.68116569519043 seconds.\n",
      "[0.11910547639000067, 0.8676913988930047]\n"
     ]
    },
    {
     "name": "stderr",
     "output_type": "stream",
     "text": [
      "Initial filtering of formulas: 100%|██████████████| 2/2 [00:00<00:00, 62.01it/s]\n",
      "Computing chunks: 100%|████████████████████████| 2/2 [00:00<00:00, 95325.09it/s]\n",
      "Splitting the experimental spectrum into chunks: 131072it [00:00, 3398022.18it/s]\n",
      "Deconvolving chunks: 100%|███████████████████████| 1/1 [02:31<00:00, 151.49s/it]\n"
     ]
    },
    {
     "name": "stdout",
     "output_type": "stream",
     "text": [
      "Estimation for 0.22 and 0.01 done\n",
      "It took: 151.6368486881256 seconds.\n",
      "[0.3828183695700021, 0.6171816304300034]\n"
     ]
    },
    {
     "name": "stderr",
     "output_type": "stream",
     "text": [
      "Initial filtering of formulas: 100%|██████████████| 2/2 [00:00<00:00, 59.52it/s]\n",
      "Computing chunks: 100%|████████████████████████| 2/2 [00:00<00:00, 90200.09it/s]\n",
      "Splitting the experimental spectrum into chunks: 131072it [00:00, 3295404.25it/s]\n",
      "Deconvolving chunks: 100%|███████████████████████| 1/1 [03:10<00:00, 190.02s/it]\n"
     ]
    },
    {
     "name": "stdout",
     "output_type": "stream",
     "text": [
      "Estimation for 0.22 and 0.02 done\n",
      "It took: 190.17045283317566 seconds.\n",
      "[0.16625956306900092, 0.8330236903710047]\n"
     ]
    },
    {
     "name": "stderr",
     "output_type": "stream",
     "text": [
      "Initial filtering of formulas: 100%|██████████████| 2/2 [00:00<00:00, 59.68it/s]\n",
      "Computing chunks: 100%|████████████████████████| 2/2 [00:00<00:00, 86480.49it/s]\n",
      "Splitting the experimental spectrum into chunks: 131072it [00:00, 3368416.04it/s]\n",
      "Deconvolving chunks: 100%|███████████████████████| 1/1 [03:19<00:00, 199.92s/it]\n"
     ]
    },
    {
     "name": "stdout",
     "output_type": "stream",
     "text": [
      "Estimation for 0.22 and 0.03 done\n",
      "It took: 200.08697605133057 seconds.\n",
      "[0.13835631638600077, 0.8604485620470048]\n"
     ]
    },
    {
     "name": "stderr",
     "output_type": "stream",
     "text": [
      "Initial filtering of formulas: 100%|██████████████| 2/2 [00:00<00:00, 59.29it/s]\n",
      "Computing chunks: 100%|████████████████████████| 2/2 [00:00<00:00, 87381.33it/s]\n",
      "Splitting the experimental spectrum into chunks: 131072it [00:00, 3402396.44it/s]\n",
      "Deconvolving chunks: 100%|███████████████████████| 1/1 [02:38<00:00, 158.38s/it]\n"
     ]
    },
    {
     "name": "stdout",
     "output_type": "stream",
     "text": [
      "Estimation for 0.22 and 0.04 done\n",
      "It took: 158.53062653541565 seconds.\n",
      "[0.13314525701500074, 0.8655836575190048]\n"
     ]
    },
    {
     "name": "stderr",
     "output_type": "stream",
     "text": [
      "Initial filtering of formulas: 100%|██████████████| 2/2 [00:00<00:00, 57.52it/s]\n",
      "Computing chunks: 100%|████████████████████████| 2/2 [00:00<00:00, 55924.05it/s]\n",
      "Splitting the experimental spectrum into chunks: 131072it [00:00, 3357266.91it/s]\n",
      "Deconvolving chunks: 100%|███████████████████████| 1/1 [03:05<00:00, 185.36s/it]\n"
     ]
    },
    {
     "name": "stdout",
     "output_type": "stream",
     "text": [
      "Estimation for 0.22 and 0.05 done\n",
      "It took: 185.50604271888733 seconds.\n",
      "[0.1279709392680007, 0.8701667630330049]\n"
     ]
    },
    {
     "name": "stderr",
     "output_type": "stream",
     "text": [
      "Initial filtering of formulas: 100%|██████████████| 2/2 [00:00<00:00, 58.74it/s]\n",
      "Computing chunks: 100%|████████████████████████| 2/2 [00:00<00:00, 52428.80it/s]\n",
      "Splitting the experimental spectrum into chunks: 131072it [00:00, 3299339.92it/s]\n",
      "Deconvolving chunks: 100%|███████████████████████| 1/1 [02:55<00:00, 175.51s/it]\n"
     ]
    },
    {
     "name": "stdout",
     "output_type": "stream",
     "text": [
      "Estimation for 0.22 and 0.060000000000000005 done\n",
      "It took: 175.6551067829132 seconds.\n",
      "[0.12186592944200068, 0.8755477393830049]\n"
     ]
    },
    {
     "name": "stderr",
     "output_type": "stream",
     "text": [
      "Initial filtering of formulas: 100%|██████████████| 2/2 [00:00<00:00, 59.64it/s]\n",
      "Computing chunks: 100%|████████████████████████| 2/2 [00:00<00:00, 65536.00it/s]\n",
      "Splitting the experimental spectrum into chunks: 131072it [00:00, 3384403.98it/s]\n",
      "Deconvolving chunks: 100%|███████████████████████| 1/1 [02:48<00:00, 168.11s/it]\n"
     ]
    },
    {
     "name": "stdout",
     "output_type": "stream",
     "text": [
      "Estimation for 0.22 and 0.06999999999999999 done\n",
      "It took: 168.28109765052795 seconds.\n",
      "[0.12081991203500067, 0.8758819524590049]\n"
     ]
    },
    {
     "name": "stderr",
     "output_type": "stream",
     "text": [
      "Initial filtering of formulas: 100%|██████████████| 2/2 [00:00<00:00, 61.24it/s]\n",
      "Computing chunks: 100%|████████████████████████| 2/2 [00:00<00:00, 94254.02it/s]\n",
      "Splitting the experimental spectrum into chunks: 131072it [00:00, 3441695.66it/s]\n",
      "Deconvolving chunks: 100%|███████████████████████| 1/1 [02:56<00:00, 176.32s/it]\n"
     ]
    },
    {
     "name": "stdout",
     "output_type": "stream",
     "text": [
      "Estimation for 0.22 and 0.08 done\n",
      "It took: 176.468505859375 seconds.\n",
      "[0.12125315798500068, 0.8742980663560049]\n"
     ]
    },
    {
     "name": "stderr",
     "output_type": "stream",
     "text": [
      "Initial filtering of formulas: 100%|██████████████| 2/2 [00:00<00:00, 58.67it/s]\n",
      "Computing chunks: 100%|████████████████████████| 2/2 [00:00<00:00, 96420.78it/s]\n",
      "Splitting the experimental spectrum into chunks: 131072it [00:00, 3455215.07it/s]\n",
      "Deconvolving chunks: 100%|███████████████████████| 1/1 [03:00<00:00, 180.36s/it]\n"
     ]
    },
    {
     "name": "stdout",
     "output_type": "stream",
     "text": [
      "Estimation for 0.22 and 0.09 done\n",
      "It took: 180.5040590763092 seconds.\n",
      "[0.12092157961800067, 0.8740864326360049]\n"
     ]
    },
    {
     "name": "stderr",
     "output_type": "stream",
     "text": [
      "Initial filtering of formulas: 100%|██████████████| 2/2 [00:00<00:00, 60.14it/s]\n",
      "Computing chunks: 100%|████████████████████████| 2/2 [00:00<00:00, 77672.30it/s]\n",
      "Splitting the experimental spectrum into chunks: 131072it [00:00, 3382675.56it/s]\n",
      "Deconvolving chunks: 100%|███████████████████████| 1/1 [03:26<00:00, 206.58s/it]\n"
     ]
    },
    {
     "name": "stdout",
     "output_type": "stream",
     "text": [
      "Estimation for 0.22 and 0.09999999999999999 done\n",
      "It took: 206.74104976654053 seconds.\n",
      "[0.12082442594300066, 0.8740971604970049]\n"
     ]
    },
    {
     "name": "stderr",
     "output_type": "stream",
     "text": [
      "Initial filtering of formulas: 100%|██████████████| 2/2 [00:00<00:00, 59.86it/s]\n",
      "Computing chunks: 100%|████████████████████████| 2/2 [00:00<00:00, 54827.50it/s]\n",
      "Splitting the experimental spectrum into chunks: 131072it [00:00, 3381094.45it/s]\n",
      "Deconvolving chunks: 100%|███████████████████████| 1/1 [02:56<00:00, 176.17s/it]\n"
     ]
    },
    {
     "name": "stdout",
     "output_type": "stream",
     "text": [
      "Estimation for 0.22 and 0.11 done\n",
      "It took: 176.31521153450012 seconds.\n",
      "[0.12079039773500067, 0.8740533541690049]\n"
     ]
    },
    {
     "name": "stderr",
     "output_type": "stream",
     "text": [
      "Initial filtering of formulas: 100%|██████████████| 2/2 [00:00<00:00, 58.64it/s]\n",
      "Computing chunks: 100%|████████████████████████| 2/2 [00:00<00:00, 90200.09it/s]\n",
      "Splitting the experimental spectrum into chunks: 131072it [00:00, 3364231.60it/s]\n",
      "Deconvolving chunks: 100%|███████████████████████| 1/1 [03:20<00:00, 200.10s/it]\n"
     ]
    },
    {
     "name": "stdout",
     "output_type": "stream",
     "text": [
      "Estimation for 0.22 and 0.12 done\n",
      "It took: 200.24796772003174 seconds.\n",
      "[0.12091115320400067, 0.8731628761300049]\n"
     ]
    },
    {
     "name": "stderr",
     "output_type": "stream",
     "text": [
      "Initial filtering of formulas: 100%|██████████████| 2/2 [00:00<00:00, 61.63it/s]\n",
      "Computing chunks: 100%|████████████████████████| 2/2 [00:00<00:00, 82241.25it/s]\n",
      "Splitting the experimental spectrum into chunks: 131072it [00:00, 3431641.39it/s]\n",
      "Deconvolving chunks: 100%|███████████████████████| 1/1 [03:24<00:00, 204.44s/it]\n"
     ]
    },
    {
     "name": "stdout",
     "output_type": "stream",
     "text": [
      "Estimation for 0.22 and 0.13 done\n",
      "It took: 204.59175062179565 seconds.\n",
      "[0.12081571797400066, 0.8726877589710049]\n"
     ]
    },
    {
     "name": "stderr",
     "output_type": "stream",
     "text": [
      "Initial filtering of formulas: 100%|██████████████| 2/2 [00:00<00:00, 61.91it/s]\n",
      "Computing chunks: 100%|████████████████████████| 2/2 [00:00<00:00, 77672.30it/s]\n",
      "Splitting the experimental spectrum into chunks: 131072it [00:00, 3405811.12it/s]\n",
      "Deconvolving chunks: 100%|███████████████████████| 1/1 [03:07<00:00, 187.28s/it]\n"
     ]
    },
    {
     "name": "stdout",
     "output_type": "stream",
     "text": [
      "Estimation for 0.22 and 0.14 done\n",
      "It took: 187.42774605751038 seconds.\n",
      "[0.12055584577200067, 0.8728553492630049]\n"
     ]
    },
    {
     "name": "stderr",
     "output_type": "stream",
     "text": [
      "Initial filtering of formulas: 100%|██████████████| 2/2 [00:00<00:00, 60.83it/s]\n",
      "Computing chunks: 100%|████████████████████████| 2/2 [00:00<00:00, 90200.09it/s]\n",
      "Splitting the experimental spectrum into chunks: 131072it [00:00, 3352782.91it/s]\n",
      "Deconvolving chunks: 100%|███████████████████████| 1/1 [03:10<00:00, 190.86s/it]\n"
     ]
    },
    {
     "name": "stdout",
     "output_type": "stream",
     "text": [
      "Estimation for 0.22 and 0.15000000000000002 done\n",
      "It took: 191.00261163711548 seconds.\n",
      "[0.12014145556100067, 0.8726426650220049]\n"
     ]
    },
    {
     "name": "stderr",
     "output_type": "stream",
     "text": [
      "Initial filtering of formulas: 100%|██████████████| 2/2 [00:00<00:00, 61.93it/s]\n",
      "Computing chunks: 100%|████████████████████████| 2/2 [00:00<00:00, 87381.33it/s]\n",
      "Splitting the experimental spectrum into chunks: 131072it [00:00, 3439434.77it/s]\n",
      "Deconvolving chunks: 100%|███████████████████████| 1/1 [04:01<00:00, 241.79s/it]\n"
     ]
    },
    {
     "name": "stdout",
     "output_type": "stream",
     "text": [
      "Estimation for 0.22 and 0.16 done\n",
      "It took: 241.9368052482605 seconds.\n",
      "[0.11956844256800067, 0.8720226280750049]\n"
     ]
    },
    {
     "name": "stderr",
     "output_type": "stream",
     "text": [
      "Initial filtering of formulas: 100%|██████████████| 2/2 [00:00<00:00, 61.14it/s]\n",
      "Computing chunks: 100%|████████████████████████| 2/2 [00:00<00:00, 97541.95it/s]\n",
      "Splitting the experimental spectrum into chunks: 131072it [00:00, 3375261.32it/s]\n",
      "Deconvolving chunks: 100%|███████████████████████| 1/1 [03:07<00:00, 187.75s/it]\n"
     ]
    },
    {
     "name": "stdout",
     "output_type": "stream",
     "text": [
      "Estimation for 0.22 and 0.17 done\n",
      "It took: 187.92128086090088 seconds.\n",
      "[0.11975577546000067, 0.8709503024800049]\n"
     ]
    },
    {
     "name": "stderr",
     "output_type": "stream",
     "text": [
      "Initial filtering of formulas: 100%|██████████████| 2/2 [00:00<00:00, 60.03it/s]\n",
      "Computing chunks: 100%|████████████████████████| 2/2 [00:00<00:00, 90200.09it/s]\n",
      "Splitting the experimental spectrum into chunks: 131072it [00:00, 3404208.32it/s]\n",
      "Deconvolving chunks: 100%|███████████████████████| 1/1 [04:14<00:00, 254.50s/it]\n"
     ]
    },
    {
     "name": "stdout",
     "output_type": "stream",
     "text": [
      "Estimation for 0.22 and 0.18000000000000002 done\n",
      "It took: 254.6434028148651 seconds.\n",
      "[0.11988386395200067, 0.8701194480270049]\n"
     ]
    },
    {
     "name": "stderr",
     "output_type": "stream",
     "text": [
      "Initial filtering of formulas: 100%|██████████████| 2/2 [00:00<00:00, 58.82it/s]\n",
      "Computing chunks: 100%|████████████████████████| 2/2 [00:00<00:00, 87381.33it/s]\n",
      "Splitting the experimental spectrum into chunks: 131072it [00:00, 3419857.76it/s]\n",
      "Deconvolving chunks: 100%|███████████████████████| 1/1 [02:47<00:00, 167.87s/it]\n"
     ]
    },
    {
     "name": "stdout",
     "output_type": "stream",
     "text": [
      "Estimation for 0.22 and 0.19 done\n",
      "It took: 168.01736736297607 seconds.\n",
      "[0.11992299487600067, 0.8697926312600047]\n"
     ]
    },
    {
     "name": "stderr",
     "output_type": "stream",
     "text": [
      "Initial filtering of formulas: 100%|██████████████| 2/2 [00:00<00:00, 60.60it/s]\n",
      "Computing chunks: 100%|████████████████████████| 2/2 [00:00<00:00, 89240.51it/s]\n",
      "Splitting the experimental spectrum into chunks: 131072it [00:00, 3347271.15it/s]\n",
      "Deconvolving chunks: 100%|███████████████████████| 1/1 [03:13<00:00, 193.75s/it]\n"
     ]
    },
    {
     "name": "stdout",
     "output_type": "stream",
     "text": [
      "Estimation for 0.22 and 0.2 done\n",
      "It took: 193.89300799369812 seconds.\n",
      "[0.11988585560000066, 0.8698092125070048]\n"
     ]
    },
    {
     "name": "stderr",
     "output_type": "stream",
     "text": [
      "Initial filtering of formulas: 100%|██████████████| 2/2 [00:00<00:00, 61.71it/s]\n",
      "Computing chunks: 100%|████████████████████████| 2/2 [00:00<00:00, 90200.09it/s]\n",
      "Splitting the experimental spectrum into chunks: 131072it [00:00, 3396237.85it/s]\n",
      "Deconvolving chunks: 100%|███████████████████████| 1/1 [03:11<00:00, 191.50s/it]\n"
     ]
    },
    {
     "name": "stdout",
     "output_type": "stream",
     "text": [
      "Estimation for 0.22 and 0.21000000000000002 done\n",
      "It took: 191.673508644104 seconds.\n",
      "[0.11985966045000067, 0.8698377373140048]\n"
     ]
    },
    {
     "name": "stderr",
     "output_type": "stream",
     "text": [
      "Initial filtering of formulas: 100%|██████████████| 2/2 [00:00<00:00, 60.82it/s]\n",
      "Computing chunks: 100%|████████████████████████| 2/2 [00:00<00:00, 89240.51it/s]\n",
      "Splitting the experimental spectrum into chunks: 131072it [00:00, 3403934.31it/s]\n",
      "Deconvolving chunks: 100%|███████████████████████| 1/1 [03:07<00:00, 187.63s/it]\n"
     ]
    },
    {
     "name": "stdout",
     "output_type": "stream",
     "text": [
      "Estimation for 0.22 and 0.22 done\n",
      "It took: 187.7782301902771 seconds.\n",
      "[0.11983752086300066, 0.8698550089410048]\n"
     ]
    },
    {
     "name": "stderr",
     "output_type": "stream",
     "text": [
      "Initial filtering of formulas: 100%|██████████████| 2/2 [00:00<00:00, 49.12it/s]\n",
      "Computing chunks: 100%|████████████████████████| 2/2 [00:00<00:00, 62137.84it/s]\n",
      "Splitting the experimental spectrum into chunks: 131072it [00:00, 3070849.80it/s]\n",
      "Deconvolving chunks: 100%|███████████████████████| 1/1 [03:00<00:00, 180.46s/it]\n"
     ]
    },
    {
     "name": "stdout",
     "output_type": "stream",
     "text": [
      "Estimation for 0.22 and 0.23 done\n",
      "It took: 180.6208052635193 seconds.\n",
      "[0.11979164317900066, 0.8699085139290048]\n"
     ]
    },
    {
     "name": "stderr",
     "output_type": "stream",
     "text": [
      "Initial filtering of formulas: 100%|██████████████| 2/2 [00:00<00:00, 58.21it/s]\n",
      "Computing chunks: 100%|████████████████████████| 2/2 [00:00<00:00, 75573.05it/s]\n",
      "Splitting the experimental spectrum into chunks: 131072it [00:00, 3300548.22it/s]\n",
      "Deconvolving chunks: 100%|███████████████████████| 1/1 [02:55<00:00, 175.24s/it]\n"
     ]
    },
    {
     "name": "stdout",
     "output_type": "stream",
     "text": [
      "Estimation for 0.22 and 0.24000000000000002 done\n",
      "It took: 175.38849139213562 seconds.\n",
      "[0.11974259966300066, 0.8699517505300047]\n"
     ]
    },
    {
     "name": "stderr",
     "output_type": "stream",
     "text": [
      "Initial filtering of formulas: 100%|██████████████| 2/2 [00:00<00:00, 59.89it/s]\n",
      "Computing chunks: 100%|████████████████████████| 2/2 [00:00<00:00, 91180.52it/s]\n",
      "Splitting the experimental spectrum into chunks: 131072it [00:00, 3380928.10it/s]\n",
      "Deconvolving chunks: 100%|███████████████████████| 1/1 [04:15<00:00, 255.71s/it]\n"
     ]
    },
    {
     "name": "stdout",
     "output_type": "stream",
     "text": [
      "Estimation for 0.22 and 0.25 done\n",
      "It took: 255.85672235488892 seconds.\n",
      "[0.11966070487200067, 0.8700044114160049]\n"
     ]
    },
    {
     "name": "stderr",
     "output_type": "stream",
     "text": [
      "Initial filtering of formulas: 100%|██████████████| 2/2 [00:00<00:00, 61.62it/s]\n",
      "Computing chunks: 100%|████████████████████████| 2/2 [00:00<00:00, 79137.81it/s]\n",
      "Splitting the experimental spectrum into chunks: 131072it [00:00, 3399009.61it/s]\n",
      "Deconvolving chunks: 100%|███████████████████████| 1/1 [03:01<00:00, 181.16s/it]\n"
     ]
    },
    {
     "name": "stdout",
     "output_type": "stream",
     "text": [
      "Estimation for 0.22 and 0.26 done\n",
      "It took: 181.30158758163452 seconds.\n",
      "[0.11950238698500067, 0.8701070340100049]\n"
     ]
    },
    {
     "name": "stderr",
     "output_type": "stream",
     "text": [
      "Initial filtering of formulas: 100%|██████████████| 2/2 [00:00<00:00, 59.79it/s]\n",
      "Computing chunks: 100%|████████████████████████| 2/2 [00:00<00:00, 96420.78it/s]\n",
      "Splitting the experimental spectrum into chunks: 131072it [00:00, 3376090.43it/s]\n",
      "Deconvolving chunks: 100%|███████████████████████| 1/1 [02:55<00:00, 175.28s/it]\n"
     ]
    },
    {
     "name": "stdout",
     "output_type": "stream",
     "text": [
      "Estimation for 0.22 and 0.27 done\n",
      "It took: 175.42142391204834 seconds.\n",
      "[0.11952396918100067, 0.8697426909850048]\n"
     ]
    },
    {
     "name": "stderr",
     "output_type": "stream",
     "text": [
      "Initial filtering of formulas: 100%|██████████████| 2/2 [00:00<00:00, 61.79it/s]\n",
      "Computing chunks: 100%|████████████████████████| 2/2 [00:00<00:00, 95325.09it/s]\n",
      "Splitting the experimental spectrum into chunks: 131072it [00:00, 3398421.28it/s]\n",
      "Deconvolving chunks: 100%|███████████████████████| 1/1 [03:00<00:00, 180.29s/it]\n"
     ]
    },
    {
     "name": "stdout",
     "output_type": "stream",
     "text": [
      "Estimation for 0.22 and 0.28 done\n",
      "It took: 180.43280148506165 seconds.\n",
      "[0.11949124003700066, 0.8695648715330048]\n"
     ]
    },
    {
     "name": "stderr",
     "output_type": "stream",
     "text": [
      "Initial filtering of formulas: 100%|██████████████| 2/2 [00:00<00:00, 59.24it/s]\n",
      "Computing chunks: 100%|████████████████████████| 2/2 [00:00<00:00, 38479.85it/s]\n",
      "Splitting the experimental spectrum into chunks: 131072it [00:00, 3213104.85it/s]\n",
      "Deconvolving chunks: 100%|███████████████████████| 1/1 [03:04<00:00, 184.23s/it]\n"
     ]
    },
    {
     "name": "stdout",
     "output_type": "stream",
     "text": [
      "Estimation for 0.22 and 0.29000000000000004 done\n",
      "It took: 184.40461659431458 seconds.\n",
      "[0.11913439641100067, 0.8688572330680048]\n"
     ]
    },
    {
     "name": "stderr",
     "output_type": "stream",
     "text": [
      "Initial filtering of formulas: 100%|██████████████| 2/2 [00:00<00:00, 60.94it/s]\n",
      "Computing chunks: 100%|████████████████████████| 2/2 [00:00<00:00, 91180.52it/s]\n",
      "Splitting the experimental spectrum into chunks: 131072it [00:00, 3358620.61it/s]\n",
      "Deconvolving chunks: 100%|███████████████████████| 1/1 [02:31<00:00, 151.23s/it]\n"
     ]
    },
    {
     "name": "stdout",
     "output_type": "stream",
     "text": [
      "Estimation for 0.23 and 0.01 done\n",
      "It took: 151.37800359725952 seconds.\n",
      "[0.3828183695700021, 0.6171816304300034]\n"
     ]
    },
    {
     "name": "stderr",
     "output_type": "stream",
     "text": [
      "Initial filtering of formulas: 100%|██████████████| 2/2 [00:00<00:00, 61.83it/s]\n",
      "Computing chunks: 100%|████████████████████████| 2/2 [00:00<00:00, 86480.49it/s]\n",
      "Splitting the experimental spectrum into chunks: 131072it [00:00, 3379701.80it/s]\n",
      "Deconvolving chunks: 100%|███████████████████████| 1/1 [03:02<00:00, 182.36s/it]\n"
     ]
    },
    {
     "name": "stdout",
     "output_type": "stream",
     "text": [
      "Estimation for 0.23 and 0.02 done\n",
      "It took: 182.50141310691833 seconds.\n",
      "[0.16642301468000092, 0.8329260725910047]\n"
     ]
    },
    {
     "name": "stderr",
     "output_type": "stream",
     "text": [
      "Initial filtering of formulas: 100%|██████████████| 2/2 [00:00<00:00, 61.49it/s]\n",
      "Computing chunks: 100%|████████████████████████| 2/2 [00:00<00:00, 97541.95it/s]\n",
      "Splitting the experimental spectrum into chunks: 131072it [00:00, 3348066.17it/s]\n",
      "Deconvolving chunks: 100%|███████████████████████| 1/1 [03:16<00:00, 196.65s/it]\n"
     ]
    },
    {
     "name": "stdout",
     "output_type": "stream",
     "text": [
      "Estimation for 0.23 and 0.03 done\n",
      "It took: 196.8205590248108 seconds.\n",
      "[0.13837828454700077, 0.8605859201720047]\n"
     ]
    },
    {
     "name": "stderr",
     "output_type": "stream",
     "text": [
      "Initial filtering of formulas: 100%|██████████████| 2/2 [00:00<00:00, 61.57it/s]\n",
      "Computing chunks: 100%|████████████████████████| 2/2 [00:00<00:00, 87381.33it/s]\n",
      "Splitting the experimental spectrum into chunks: 131072it [00:00, 3393533.46it/s]\n",
      "Deconvolving chunks: 100%|███████████████████████| 1/1 [03:03<00:00, 183.19s/it]\n"
     ]
    },
    {
     "name": "stdout",
     "output_type": "stream",
     "text": [
      "Estimation for 0.23 and 0.04 done\n",
      "It took: 183.33654499053955 seconds.\n",
      "[0.13334199771100075, 0.8654365038060048]\n"
     ]
    },
    {
     "name": "stderr",
     "output_type": "stream",
     "text": [
      "Initial filtering of formulas: 100%|██████████████| 2/2 [00:00<00:00, 61.32it/s]\n",
      "Computing chunks: 100%|████████████████████████| 2/2 [00:00<00:00, 88301.14it/s]\n",
      "Splitting the experimental spectrum into chunks: 131072it [00:00, 3397077.30it/s]\n",
      "Deconvolving chunks: 100%|███████████████████████| 1/1 [02:53<00:00, 173.05s/it]\n"
     ]
    },
    {
     "name": "stdout",
     "output_type": "stream",
     "text": [
      "Estimation for 0.23 and 0.05 done\n",
      "It took: 173.18959283828735 seconds.\n",
      "[0.12801923586100072, 0.8703427828060049]\n"
     ]
    },
    {
     "name": "stderr",
     "output_type": "stream",
     "text": [
      "Initial filtering of formulas: 100%|██████████████| 2/2 [00:00<00:00, 59.50it/s]\n",
      "Computing chunks: 100%|████████████████████████| 2/2 [00:00<00:00, 65536.00it/s]\n",
      "Splitting the experimental spectrum into chunks: 131072it [00:00, 3389370.00it/s]\n",
      "Deconvolving chunks: 100%|███████████████████████| 1/1 [03:36<00:00, 216.80s/it]\n"
     ]
    },
    {
     "name": "stdout",
     "output_type": "stream",
     "text": [
      "Estimation for 0.23 and 0.060000000000000005 done\n",
      "It took: 216.94531989097595 seconds.\n",
      "[0.12201703184500068, 0.8754640948390049]\n"
     ]
    },
    {
     "name": "stderr",
     "output_type": "stream",
     "text": [
      "Initial filtering of formulas: 100%|██████████████| 2/2 [00:00<00:00, 61.10it/s]\n",
      "Computing chunks: 100%|████████████████████████| 2/2 [00:00<00:00, 62601.55it/s]\n",
      "Splitting the experimental spectrum into chunks: 131072it [00:00, 3504732.30it/s]\n",
      "Deconvolving chunks: 100%|███████████████████████| 1/1 [02:44<00:00, 164.58s/it]\n"
     ]
    },
    {
     "name": "stdout",
     "output_type": "stream",
     "text": [
      "Estimation for 0.23 and 0.06999999999999999 done\n",
      "It took: 164.72591280937195 seconds.\n",
      "[0.12082593993800067, 0.8759600203020049]\n"
     ]
    },
    {
     "name": "stderr",
     "output_type": "stream",
     "text": [
      "Initial filtering of formulas: 100%|██████████████| 2/2 [00:00<00:00, 59.23it/s]\n",
      "Computing chunks: 100%|████████████████████████| 2/2 [00:00<00:00, 59918.63it/s]\n",
      "Splitting the experimental spectrum into chunks: 131072it [00:00, 3405811.12it/s]\n",
      "Deconvolving chunks: 100%|███████████████████████| 1/1 [03:11<00:00, 191.91s/it]\n"
     ]
    },
    {
     "name": "stdout",
     "output_type": "stream",
     "text": [
      "Estimation for 0.23 and 0.08 done\n",
      "It took: 192.06025958061218 seconds.\n",
      "[0.12118115832900067, 0.8746628652330048]\n"
     ]
    },
    {
     "name": "stderr",
     "output_type": "stream",
     "text": [
      "Initial filtering of formulas: 100%|██████████████| 2/2 [00:00<00:00, 61.60it/s]\n",
      "Computing chunks: 100%|████████████████████████| 2/2 [00:00<00:00, 92182.51it/s]\n",
      "Splitting the experimental spectrum into chunks: 131072it [00:00, 3438423.71it/s]\n",
      "Deconvolving chunks: 100%|███████████████████████| 1/1 [02:45<00:00, 165.77s/it]\n"
     ]
    },
    {
     "name": "stdout",
     "output_type": "stream",
     "text": [
      "Estimation for 0.23 and 0.09 done\n",
      "It took: 165.91811609268188 seconds.\n",
      "[0.12100175169000067, 0.8740606371940048]\n"
     ]
    },
    {
     "name": "stderr",
     "output_type": "stream",
     "text": [
      "Initial filtering of formulas: 100%|██████████████| 2/2 [00:00<00:00, 60.68it/s]\n",
      "Computing chunks: 100%|████████████████████████| 2/2 [00:00<00:00, 89240.51it/s]\n",
      "Splitting the experimental spectrum into chunks: 131072it [00:00, 3390582.41it/s]\n",
      "Deconvolving chunks: 100%|███████████████████████| 1/1 [03:05<00:00, 185.51s/it]\n"
     ]
    },
    {
     "name": "stdout",
     "output_type": "stream",
     "text": [
      "Estimation for 0.23 and 0.09999999999999999 done\n",
      "It took: 185.66423654556274 seconds.\n",
      "[0.12082066234200066, 0.8741951742530049]\n"
     ]
    },
    {
     "name": "stderr",
     "output_type": "stream",
     "text": [
      "Initial filtering of formulas: 100%|██████████████| 2/2 [00:00<00:00, 49.20it/s]\n",
      "Computing chunks: 100%|████████████████████████| 2/2 [00:00<00:00, 36792.14it/s]\n",
      "Splitting the experimental spectrum into chunks: 131072it [00:00, 2926069.63it/s]\n",
      "Deconvolving chunks: 100%|███████████████████████| 1/1 [03:37<00:00, 217.86s/it]\n"
     ]
    },
    {
     "name": "stdout",
     "output_type": "stream",
     "text": [
      "Estimation for 0.23 and 0.11 done\n",
      "It took: 218.04031014442444 seconds.\n",
      "[0.12079428746200066, 0.8741008475400048]\n"
     ]
    },
    {
     "name": "stderr",
     "output_type": "stream",
     "text": [
      "Initial filtering of formulas: 100%|██████████████| 2/2 [00:00<00:00, 53.76it/s]\n",
      "Computing chunks: 100%|████████████████████████| 2/2 [00:00<00:00, 25970.92it/s]\n",
      "Splitting the experimental spectrum into chunks: 131072it [00:00, 3238811.20it/s]\n",
      "Deconvolving chunks: 100%|███████████████████████| 1/1 [03:31<00:00, 211.55s/it]\n"
     ]
    },
    {
     "name": "stdout",
     "output_type": "stream",
     "text": [
      "Estimation for 0.23 and 0.12 done\n",
      "It took: 211.71724700927734 seconds.\n",
      "[0.12082946857700066, 0.8737139371550049]\n"
     ]
    },
    {
     "name": "stderr",
     "output_type": "stream",
     "text": [
      "Initial filtering of formulas: 100%|██████████████| 2/2 [00:00<00:00, 52.80it/s]\n",
      "Computing chunks: 100%|████████████████████████| 2/2 [00:00<00:00, 69905.07it/s]\n",
      "Splitting the experimental spectrum into chunks: 131072it [00:00, 3112982.45it/s]\n",
      "Deconvolving chunks: 100%|███████████████████████| 1/1 [03:31<00:00, 211.29s/it]\n"
     ]
    },
    {
     "name": "stdout",
     "output_type": "stream",
     "text": [
      "Estimation for 0.23 and 0.13 done\n",
      "It took: 211.45286107063293 seconds.\n",
      "[0.12081006379700067, 0.8729579375950048]\n"
     ]
    },
    {
     "name": "stderr",
     "output_type": "stream",
     "text": [
      "Initial filtering of formulas: 100%|██████████████| 2/2 [00:00<00:00, 43.81it/s]\n",
      "Computing chunks: 100%|████████████████████████| 2/2 [00:00<00:00, 81442.80it/s]\n",
      "Splitting the experimental spectrum into chunks: 131072it [00:00, 2878393.11it/s]\n",
      "Deconvolving chunks: 100%|███████████████████████| 1/1 [04:09<00:00, 249.48s/it]\n"
     ]
    },
    {
     "name": "stdout",
     "output_type": "stream",
     "text": [
      "Estimation for 0.23 and 0.14 done\n",
      "It took: 249.6548101902008 seconds.\n",
      "[0.12061765786600066, 0.8728678792410048]\n"
     ]
    },
    {
     "name": "stderr",
     "output_type": "stream",
     "text": [
      "Initial filtering of formulas: 100%|██████████████| 2/2 [00:00<00:00, 41.64it/s]\n",
      "Computing chunks: 100%|████████████████████████| 2/2 [00:00<00:00, 67108.86it/s]\n",
      "Splitting the experimental spectrum into chunks: 131072it [00:00, 3094130.44it/s]\n",
      "Deconvolving chunks: 100%|███████████████████████| 1/1 [03:18<00:00, 198.91s/it]\n"
     ]
    },
    {
     "name": "stdout",
     "output_type": "stream",
     "text": [
      "Estimation for 0.23 and 0.15000000000000002 done\n",
      "It took: 199.08963346481323 seconds.\n",
      "[0.12022525409100067, 0.8730996021530049]\n"
     ]
    },
    {
     "name": "stderr",
     "output_type": "stream",
     "text": [
      "Initial filtering of formulas: 100%|██████████████| 2/2 [00:00<00:00, 53.84it/s]\n",
      "Computing chunks: 100%|████████████████████████| 2/2 [00:00<00:00, 77672.30it/s]\n",
      "Splitting the experimental spectrum into chunks: 131072it [00:00, 2966938.02it/s]\n",
      "Deconvolving chunks: 100%|███████████████████████| 1/1 [03:37<00:00, 217.60s/it]\n"
     ]
    },
    {
     "name": "stdout",
     "output_type": "stream",
     "text": [
      "Estimation for 0.23 and 0.16 done\n",
      "It took: 217.7649166584015 seconds.\n",
      "[0.11964827957300067, 0.8725424722630049]\n"
     ]
    },
    {
     "name": "stderr",
     "output_type": "stream",
     "text": [
      "Initial filtering of formulas: 100%|██████████████| 2/2 [00:00<00:00, 47.01it/s]\n",
      "Computing chunks: 100%|████████████████████████| 2/2 [00:00<00:00, 49344.75it/s]\n",
      "Splitting the experimental spectrum into chunks: 131072it [00:00, 2828151.13it/s]\n",
      "Deconvolving chunks: 100%|███████████████████████| 1/1 [03:30<00:00, 210.04s/it]\n"
     ]
    },
    {
     "name": "stdout",
     "output_type": "stream",
     "text": [
      "Estimation for 0.23 and 0.17 done\n",
      "It took: 210.2424600124359 seconds.\n",
      "[0.11962479759300067, 0.8717845866960049]\n"
     ]
    },
    {
     "name": "stderr",
     "output_type": "stream",
     "text": [
      "Initial filtering of formulas: 100%|██████████████| 2/2 [00:00<00:00, 55.79it/s]\n",
      "Computing chunks: 100%|████████████████████████| 2/2 [00:00<00:00, 40136.88it/s]\n",
      "Splitting the experimental spectrum into chunks: 131072it [00:00, 3229109.04it/s]\n",
      "Deconvolving chunks: 100%|███████████████████████| 1/1 [02:54<00:00, 174.32s/it]\n"
     ]
    },
    {
     "name": "stdout",
     "output_type": "stream",
     "text": [
      "Estimation for 0.23 and 0.18000000000000002 done\n",
      "It took: 174.4700949192047 seconds.\n",
      "[0.11982145902200067, 0.8706753190240049]\n"
     ]
    },
    {
     "name": "stderr",
     "output_type": "stream",
     "text": [
      "Initial filtering of formulas: 100%|██████████████| 2/2 [00:00<00:00, 59.35it/s]\n",
      "Computing chunks: 100%|████████████████████████| 2/2 [00:00<00:00, 74898.29it/s]\n",
      "Splitting the experimental spectrum into chunks: 131072it [00:00, 3301499.63it/s]\n",
      "Deconvolving chunks: 100%|███████████████████████| 1/1 [03:18<00:00, 198.86s/it]\n"
     ]
    },
    {
     "name": "stdout",
     "output_type": "stream",
     "text": [
      "Estimation for 0.23 and 0.19 done\n",
      "It took: 199.0152244567871 seconds.\n",
      "[0.11994887854800067, 0.8698398384320047]\n"
     ]
    },
    {
     "name": "stderr",
     "output_type": "stream",
     "text": [
      "Initial filtering of formulas: 100%|██████████████| 2/2 [00:00<00:00, 54.73it/s]\n",
      "Computing chunks: 100%|████████████████████████| 2/2 [00:00<00:00, 82241.25it/s]\n",
      "Splitting the experimental spectrum into chunks: 131072it [00:00, 3199435.57it/s]\n",
      "Deconvolving chunks: 100%|███████████████████████| 1/1 [03:27<00:00, 207.19s/it]\n"
     ]
    },
    {
     "name": "stdout",
     "output_type": "stream",
     "text": [
      "Estimation for 0.23 and 0.2 done\n",
      "It took: 207.34914374351501 seconds.\n",
      "[0.11991130860400066, 0.8698365093970047]\n"
     ]
    },
    {
     "name": "stderr",
     "output_type": "stream",
     "text": [
      "Initial filtering of formulas: 100%|██████████████| 2/2 [00:00<00:00, 59.31it/s]\n",
      "Computing chunks: 100%|████████████████████████| 2/2 [00:00<00:00, 72315.59it/s]\n",
      "Splitting the experimental spectrum into chunks: 131072it [00:00, 3194193.36it/s]\n",
      "Deconvolving chunks: 100%|███████████████████████| 1/1 [03:25<00:00, 205.14s/it]\n"
     ]
    },
    {
     "name": "stdout",
     "output_type": "stream",
     "text": [
      "Estimation for 0.23 and 0.21000000000000002 done\n",
      "It took: 205.3250789642334 seconds.\n",
      "[0.11987971001400066, 0.8698600200380048]\n"
     ]
    },
    {
     "name": "stderr",
     "output_type": "stream",
     "text": [
      "Initial filtering of formulas: 100%|██████████████| 2/2 [00:00<00:00, 58.86it/s]\n",
      "Computing chunks: 100%|████████████████████████| 2/2 [00:00<00:00, 90200.09it/s]\n",
      "Splitting the experimental spectrum into chunks: 131072it [00:00, 3135692.12it/s]\n",
      "Deconvolving chunks: 100%|███████████████████████| 1/1 [04:53<00:00, 293.74s/it]\n"
     ]
    },
    {
     "name": "stdout",
     "output_type": "stream",
     "text": [
      "Estimation for 0.23 and 0.22 done\n",
      "It took: 293.8928339481354 seconds.\n",
      "[0.11984909195900066, 0.8699041346320048]\n"
     ]
    },
    {
     "name": "stderr",
     "output_type": "stream",
     "text": [
      "Initial filtering of formulas: 100%|██████████████| 2/2 [00:00<00:00, 55.60it/s]\n",
      "Computing chunks: 100%|████████████████████████| 2/2 [00:00<00:00, 56299.38it/s]\n",
      "Splitting the experimental spectrum into chunks: 131072it [00:00, 3202548.11it/s]\n",
      "Deconvolving chunks: 100%|██████████████████████| 1/1 [31:37<00:00, 1897.10s/it]\n"
     ]
    },
    {
     "name": "stdout",
     "output_type": "stream",
     "text": [
      "Estimation for 0.23 and 0.23 done\n",
      "It took: 1897.278754234314 seconds.\n",
      "[0.11984381489600067, 0.8699258689800048]\n"
     ]
    },
    {
     "name": "stderr",
     "output_type": "stream",
     "text": [
      "Initial filtering of formulas: 100%|██████████████| 2/2 [00:00<00:00, 60.30it/s]\n",
      "Computing chunks: 100%|████████████████████████| 2/2 [00:00<00:00, 15448.63it/s]\n",
      "Splitting the experimental spectrum into chunks: 131072it [00:00, 3339524.20it/s]\n",
      "Deconvolving chunks: 100%|███████████████████████| 1/1 [02:57<00:00, 177.74s/it]\n"
     ]
    },
    {
     "name": "stdout",
     "output_type": "stream",
     "text": [
      "Estimation for 0.23 and 0.24000000000000002 done\n",
      "It took: 177.8840847015381 seconds.\n",
      "[0.11977107345000067, 0.8699685561720047]\n"
     ]
    },
    {
     "name": "stderr",
     "output_type": "stream",
     "text": [
      "Initial filtering of formulas: 100%|██████████████| 2/2 [00:00<00:00, 57.98it/s]\n",
      "Computing chunks: 100%|████████████████████████| 2/2 [00:00<00:00, 54471.48it/s]\n",
      "Splitting the experimental spectrum into chunks: 131072it [00:00, 3291359.72it/s]\n",
      "Deconvolving chunks: 100%|███████████████████████| 1/1 [03:56<00:00, 236.39s/it]\n"
     ]
    },
    {
     "name": "stdout",
     "output_type": "stream",
     "text": [
      "Estimation for 0.23 and 0.25 done\n",
      "It took: 236.5369942188263 seconds.\n",
      "[0.11973545453300066, 0.8700131130030049]\n"
     ]
    },
    {
     "name": "stderr",
     "output_type": "stream",
     "text": [
      "Initial filtering of formulas: 100%|██████████████| 2/2 [00:00<00:00, 59.95it/s]\n",
      "Computing chunks: 100%|████████████████████████| 2/2 [00:00<00:00, 15196.75it/s]\n",
      "Splitting the experimental spectrum into chunks: 131072it [00:00, 3350494.35it/s]\n",
      "Deconvolving chunks: 100%|███████████████████████| 1/1 [03:00<00:00, 180.76s/it]\n"
     ]
    },
    {
     "name": "stdout",
     "output_type": "stream",
     "text": [
      "Estimation for 0.23 and 0.26 done\n",
      "It took: 180.90976548194885 seconds.\n",
      "[0.11957725840800067, 0.8701121058670049]\n"
     ]
    },
    {
     "name": "stderr",
     "output_type": "stream",
     "text": [
      "Initial filtering of formulas: 100%|██████████████| 2/2 [00:00<00:00, 60.03it/s]\n",
      "Computing chunks: 100%|████████████████████████| 2/2 [00:00<00:00, 90200.09it/s]\n",
      "Splitting the experimental spectrum into chunks: 131072it [00:00, 3420943.07it/s]\n",
      "Deconvolving chunks: 100%|███████████████████████| 1/1 [03:51<00:00, 231.64s/it]\n"
     ]
    },
    {
     "name": "stdout",
     "output_type": "stream",
     "text": [
      "Estimation for 0.23 and 0.27 done\n",
      "It took: 231.7988977432251 seconds.\n",
      "[0.11953427628900067, 0.8699407390870048]\n"
     ]
    },
    {
     "name": "stderr",
     "output_type": "stream",
     "text": [
      "Initial filtering of formulas: 100%|██████████████| 2/2 [00:00<00:00, 60.28it/s]\n",
      "Computing chunks: 100%|████████████████████████| 2/2 [00:00<00:00, 89240.51it/s]\n",
      "Splitting the experimental spectrum into chunks: 131072it [00:00, 3327859.99it/s]\n",
      "Deconvolving chunks: 100%|███████████████████████| 1/1 [03:17<00:00, 197.90s/it]\n"
     ]
    },
    {
     "name": "stdout",
     "output_type": "stream",
     "text": [
      "Estimation for 0.23 and 0.28 done\n",
      "It took: 198.0461618900299 seconds.\n",
      "[0.11950779468500067, 0.8697043881670048]\n"
     ]
    },
    {
     "name": "stderr",
     "output_type": "stream",
     "text": [
      "Initial filtering of formulas: 100%|██████████████| 2/2 [00:00<00:00, 61.52it/s]\n",
      "Computing chunks: 100%|████████████████████████| 2/2 [00:00<00:00, 95325.09it/s]\n",
      "Splitting the experimental spectrum into chunks: 131072it [00:00, 3443290.83it/s]\n",
      "Deconvolving chunks: 100%|███████████████████████| 1/1 [03:07<00:00, 187.11s/it]\n"
     ]
    },
    {
     "name": "stdout",
     "output_type": "stream",
     "text": [
      "Estimation for 0.23 and 0.29000000000000004 done\n",
      "It took: 187.2576243877411 seconds.\n",
      "[0.11941323376400066, 0.8691350877180047]\n"
     ]
    },
    {
     "name": "stderr",
     "output_type": "stream",
     "text": [
      "Initial filtering of formulas: 100%|██████████████| 2/2 [00:00<00:00, 55.38it/s]\n",
      "Computing chunks: 100%|████████████████████████| 2/2 [00:00<00:00, 43018.50it/s]\n",
      "Splitting the experimental spectrum into chunks: 131072it [00:00, 3084737.87it/s]\n",
      "Deconvolving chunks: 100%|███████████████████████| 1/1 [03:11<00:00, 191.26s/it]\n"
     ]
    },
    {
     "name": "stdout",
     "output_type": "stream",
     "text": [
      "Estimation for 0.24000000000000002 and 0.01 done\n",
      "It took: 191.42307806015015 seconds.\n",
      "[0.3828158271040021, 0.6171841728960035]\n"
     ]
    },
    {
     "name": "stderr",
     "output_type": "stream",
     "text": [
      "Initial filtering of formulas: 100%|██████████████| 2/2 [00:00<00:00, 58.32it/s]\n",
      "Computing chunks: 100%|████████████████████████| 2/2 [00:00<00:00, 41734.37it/s]\n",
      "Splitting the experimental spectrum into chunks: 131072it [00:00, 2856007.89it/s]\n",
      "Deconvolving chunks: 100%|███████████████████████| 1/1 [03:44<00:00, 224.06s/it]\n"
     ]
    },
    {
     "name": "stdout",
     "output_type": "stream",
     "text": [
      "Estimation for 0.24000000000000002 and 0.02 done\n",
      "It took: 224.2170741558075 seconds.\n",
      "[0.1664408267210009, 0.8330152102410047]\n"
     ]
    },
    {
     "name": "stderr",
     "output_type": "stream",
     "text": [
      "Initial filtering of formulas: 100%|██████████████| 2/2 [00:00<00:00, 58.91it/s]\n",
      "Computing chunks: 100%|████████████████████████| 2/2 [00:00<00:00, 56679.78it/s]\n",
      "Splitting the experimental spectrum into chunks: 131072it [00:00, 3311462.83it/s]\n",
      "Deconvolving chunks: 100%|███████████████████████| 1/1 [04:13<00:00, 253.54s/it]\n"
     ]
    },
    {
     "name": "stdout",
     "output_type": "stream",
     "text": [
      "Estimation for 0.24000000000000002 and 0.03 done\n",
      "It took: 253.6892387866974 seconds.\n",
      "[0.13840646786700078, 0.8606021310370048]\n"
     ]
    },
    {
     "name": "stderr",
     "output_type": "stream",
     "text": [
      "Initial filtering of formulas: 100%|██████████████| 2/2 [00:00<00:00, 58.20it/s]\n",
      "Computing chunks: 100%|████████████████████████| 2/2 [00:00<00:00, 96420.78it/s]\n",
      "Splitting the experimental spectrum into chunks: 131072it [00:00, 3283025.87it/s]\n",
      "Deconvolving chunks: 100%|███████████████████████| 1/1 [03:13<00:00, 193.30s/it]\n"
     ]
    },
    {
     "name": "stdout",
     "output_type": "stream",
     "text": [
      "Estimation for 0.24000000000000002 and 0.04 done\n",
      "It took: 193.45085453987122 seconds.\n",
      "[0.13345993781800075, 0.8653638064720047]\n"
     ]
    },
    {
     "name": "stderr",
     "output_type": "stream",
     "text": [
      "Initial filtering of formulas: 100%|██████████████| 2/2 [00:00<00:00, 58.70it/s]\n",
      "Computing chunks: 100%|████████████████████████| 2/2 [00:00<00:00, 72944.42it/s]\n",
      "Splitting the experimental spectrum into chunks: 131072it [00:00, 3003604.91it/s]\n",
      "Deconvolving chunks: 100%|███████████████████████| 1/1 [03:40<00:00, 220.13s/it]\n"
     ]
    },
    {
     "name": "stdout",
     "output_type": "stream",
     "text": [
      "Estimation for 0.24000000000000002 and 0.05 done\n",
      "It took: 220.29742980003357 seconds.\n",
      "[0.12803247829400072, 0.8704773045540048]\n"
     ]
    },
    {
     "name": "stderr",
     "output_type": "stream",
     "text": [
      "Initial filtering of formulas: 100%|██████████████| 2/2 [00:00<00:00, 57.02it/s]\n",
      "Computing chunks: 100%|████████████████████████| 2/2 [00:00<00:00, 85598.04it/s]\n",
      "Splitting the experimental spectrum into chunks: 131072it [00:00, 3138323.47it/s]\n",
      "Deconvolving chunks: 100%|███████████████████████| 1/1 [04:19<00:00, 259.53s/it]\n"
     ]
    },
    {
     "name": "stdout",
     "output_type": "stream",
     "text": [
      "Estimation for 0.24000000000000002 and 0.060000000000000005 done\n",
      "It took: 259.68563175201416 seconds.\n",
      "[0.12194363077200068, 0.8759702955590049]\n"
     ]
    },
    {
     "name": "stderr",
     "output_type": "stream",
     "text": [
      "Initial filtering of formulas: 100%|██████████████| 2/2 [00:00<00:00, 52.66it/s]\n",
      "Computing chunks: 100%|████████████████████████| 2/2 [00:00<00:00, 79891.50it/s]\n",
      "Splitting the experimental spectrum into chunks: 131072it [00:00, 2869319.17it/s]\n",
      "Deconvolving chunks: 100%|███████████████████████| 1/1 [03:16<00:00, 196.53s/it]\n"
     ]
    },
    {
     "name": "stdout",
     "output_type": "stream",
     "text": [
      "Estimation for 0.24000000000000002 and 0.06999999999999999 done\n",
      "It took: 196.69954228401184 seconds.\n",
      "[0.12078318224900067, 0.8761278380980049]\n"
     ]
    },
    {
     "name": "stderr",
     "output_type": "stream",
     "text": [
      "Initial filtering of formulas: 100%|██████████████| 2/2 [00:00<00:00, 59.65it/s]\n",
      "Computing chunks: 100%|████████████████████████| 2/2 [00:00<00:00, 43240.25it/s]\n",
      "Splitting the experimental spectrum into chunks: 131072it [00:00, 3116688.57it/s]\n",
      "Deconvolving chunks: 100%|███████████████████████| 1/1 [02:56<00:00, 176.52s/it]\n"
     ]
    },
    {
     "name": "stdout",
     "output_type": "stream",
     "text": [
      "Estimation for 0.24000000000000002 and 0.08 done\n",
      "It took: 176.66671299934387 seconds.\n",
      "[0.12103989492800067, 0.8752021973410049]\n"
     ]
    },
    {
     "name": "stderr",
     "output_type": "stream",
     "text": [
      "Initial filtering of formulas: 100%|██████████████| 2/2 [00:00<00:00, 62.62it/s]\n",
      "Computing chunks: 100%|████████████████████████| 2/2 [00:00<00:00, 92182.51it/s]\n",
      "Splitting the experimental spectrum into chunks: 131072it [00:00, 3452632.79it/s]\n",
      "Deconvolving chunks: 100%|███████████████████████| 1/1 [03:13<00:00, 193.40s/it]\n"
     ]
    },
    {
     "name": "stdout",
     "output_type": "stream",
     "text": [
      "Estimation for 0.24000000000000002 and 0.09 done\n",
      "It took: 193.54711842536926 seconds.\n",
      "[0.12106590238200067, 0.8741229972620049]\n"
     ]
    },
    {
     "name": "stderr",
     "output_type": "stream",
     "text": [
      "Initial filtering of formulas: 100%|██████████████| 2/2 [00:00<00:00, 58.73it/s]\n",
      "Computing chunks: 100%|████████████████████████| 2/2 [00:00<00:00, 71697.50it/s]\n",
      "Splitting the experimental spectrum into chunks: 131072it [00:00, 3359605.80it/s]\n",
      "Deconvolving chunks: 100%|███████████████████████| 1/1 [04:09<00:00, 249.70s/it]\n"
     ]
    },
    {
     "name": "stdout",
     "output_type": "stream",
     "text": [
      "Estimation for 0.24000000000000002 and 0.09999999999999999 done\n",
      "It took: 249.85427570343018 seconds.\n",
      "[0.12085682738800066, 0.8741975224110049]\n"
     ]
    },
    {
     "name": "stderr",
     "output_type": "stream",
     "text": [
      "Initial filtering of formulas: 100%|██████████████| 2/2 [00:00<00:00, 60.19it/s]\n",
      "Computing chunks: 100%|████████████████████████| 2/2 [00:00<00:00, 56679.78it/s]\n",
      "Splitting the experimental spectrum into chunks: 131072it [00:00, 3435630.27it/s]\n",
      "Deconvolving chunks: 100%|███████████████████████| 1/1 [03:15<00:00, 195.49s/it]\n"
     ]
    },
    {
     "name": "stdout",
     "output_type": "stream",
     "text": [
      "Estimation for 0.24000000000000002 and 0.11 done\n",
      "It took: 195.6425178050995 seconds.\n",
      "[0.12079466322400066, 0.8741653806920049]\n"
     ]
    },
    {
     "name": "stderr",
     "output_type": "stream",
     "text": [
      "Initial filtering of formulas: 100%|██████████████| 2/2 [00:00<00:00, 60.82it/s]\n",
      "Computing chunks: 100%|████████████████████████| 2/2 [00:00<00:00, 81442.80it/s]\n",
      "Splitting the experimental spectrum into chunks: 131072it [00:00, 2915625.75it/s]\n",
      "Deconvolving chunks: 100%|███████████████████████| 1/1 [03:39<00:00, 219.73s/it]\n"
     ]
    },
    {
     "name": "stdout",
     "output_type": "stream",
     "text": [
      "Estimation for 0.24000000000000002 and 0.12 done\n",
      "It took: 219.8985254764557 seconds.\n",
      "[0.12076082456700067, 0.8741215540760049]\n"
     ]
    },
    {
     "name": "stderr",
     "output_type": "stream",
     "text": [
      "Initial filtering of formulas: 100%|██████████████| 2/2 [00:00<00:00, 38.36it/s]\n",
      "Computing chunks: 100%|████████████████████████| 2/2 [00:00<00:00, 58254.22it/s]\n",
      "Splitting the experimental spectrum into chunks: 131072it [00:00, 2247864.86it/s]\n",
      "Deconvolving chunks: 100%|███████████████████████| 1/1 [04:24<00:00, 264.31s/it]\n"
     ]
    },
    {
     "name": "stdout",
     "output_type": "stream",
     "text": [
      "Estimation for 0.24000000000000002 and 0.13 done\n",
      "It took: 264.5388603210449 seconds.\n",
      "[0.12076001021900067, 0.8733872369960048]\n"
     ]
    },
    {
     "name": "stderr",
     "output_type": "stream",
     "text": [
      "Initial filtering of formulas: 100%|██████████████| 2/2 [00:00<00:00, 58.36it/s]\n",
      "Computing chunks: 100%|████████████████████████| 2/2 [00:00<00:00, 90200.09it/s]\n",
      "Splitting the experimental spectrum into chunks: 131072it [00:00, 3267280.08it/s]\n",
      "Deconvolving chunks: 100%|███████████████████████| 1/1 [03:45<00:00, 225.20s/it]\n"
     ]
    },
    {
     "name": "stdout",
     "output_type": "stream",
     "text": [
      "Estimation for 0.24000000000000002 and 0.14 done\n",
      "It took: 225.35010409355164 seconds.\n",
      "[0.12063108242900067, 0.8729674937510049]\n"
     ]
    },
    {
     "name": "stderr",
     "output_type": "stream",
     "text": [
      "Initial filtering of formulas: 100%|██████████████| 2/2 [00:00<00:00, 60.59it/s]\n",
      "Computing chunks: 100%|███████████████████████| 2/2 [00:00<00:00, 101067.57it/s]\n",
      "Splitting the experimental spectrum into chunks: 131072it [00:00, 3282967.05it/s]\n",
      "Deconvolving chunks: 100%|███████████████████████| 1/1 [03:06<00:00, 186.10s/it]\n"
     ]
    },
    {
     "name": "stdout",
     "output_type": "stream",
     "text": [
      "Estimation for 0.24000000000000002 and 0.15000000000000002 done\n",
      "It took: 186.27107787132263 seconds.\n",
      "[0.12034075554800067, 0.8731309238680048]\n"
     ]
    },
    {
     "name": "stderr",
     "output_type": "stream",
     "text": [
      "Initial filtering of formulas: 100%|██████████████| 2/2 [00:00<00:00, 59.44it/s]\n",
      "Computing chunks: 100%|████████████████████████| 2/2 [00:00<00:00, 62137.84it/s]\n",
      "Splitting the experimental spectrum into chunks: 131072it [00:00, 3368354.13it/s]\n",
      "Deconvolving chunks: 100%|███████████████████████| 1/1 [03:45<00:00, 225.17s/it]\n"
     ]
    },
    {
     "name": "stdout",
     "output_type": "stream",
     "text": [
      "Estimation for 0.24000000000000002 and 0.16 done\n",
      "It took: 225.32006359100342 seconds.\n",
      "[0.12003217411700066, 0.8728833133000049]\n"
     ]
    },
    {
     "name": "stderr",
     "output_type": "stream",
     "text": [
      "Initial filtering of formulas: 100%|██████████████| 2/2 [00:00<00:00, 62.02it/s]\n",
      "Computing chunks: 100%|████████████████████████| 2/2 [00:00<00:00, 58254.22it/s]\n",
      "Splitting the experimental spectrum into chunks: 131072it [00:00, 3438251.68it/s]\n",
      "Deconvolving chunks: 100%|███████████████████████| 1/1 [03:06<00:00, 186.07s/it]\n"
     ]
    },
    {
     "name": "stdout",
     "output_type": "stream",
     "text": [
      "Estimation for 0.24000000000000002 and 0.17 done\n",
      "It took: 186.21252536773682 seconds.\n",
      "[0.11959086492700066, 0.8721626678970049]\n"
     ]
    },
    {
     "name": "stderr",
     "output_type": "stream",
     "text": [
      "Initial filtering of formulas: 100%|██████████████| 2/2 [00:00<00:00, 58.37it/s]\n",
      "Computing chunks: 100%|████████████████████████| 2/2 [00:00<00:00, 80659.69it/s]\n",
      "Splitting the experimental spectrum into chunks: 131072it [00:00, 3089279.45it/s]\n",
      "Deconvolving chunks: 100%|███████████████████████| 1/1 [04:04<00:00, 244.18s/it]\n"
     ]
    },
    {
     "name": "stdout",
     "output_type": "stream",
     "text": [
      "Estimation for 0.24000000000000002 and 0.18000000000000002 done\n",
      "It took: 244.35979461669922 seconds.\n",
      "[0.11975021731300067, 0.8711976587180049]\n"
     ]
    },
    {
     "name": "stderr",
     "output_type": "stream",
     "text": [
      "Initial filtering of formulas: 100%|██████████████| 2/2 [00:00<00:00, 62.32it/s]\n",
      "Computing chunks: 100%|████████████████████████| 2/2 [00:00<00:00, 94254.02it/s]\n",
      "Splitting the experimental spectrum into chunks: 131072it [00:00, 3612916.42it/s]\n",
      "Deconvolving chunks: 100%|███████████████████████| 1/1 [03:47<00:00, 227.78s/it]\n"
     ]
    },
    {
     "name": "stdout",
     "output_type": "stream",
     "text": [
      "Estimation for 0.24000000000000002 and 0.19 done\n",
      "It took: 227.9286344051361 seconds.\n",
      "[0.11988296780100066, 0.8703148361980049]\n"
     ]
    },
    {
     "name": "stderr",
     "output_type": "stream",
     "text": [
      "Initial filtering of formulas: 100%|██████████████| 2/2 [00:00<00:00, 50.98it/s]\n",
      "Computing chunks: 100%|████████████████████████| 2/2 [00:00<00:00, 71089.90it/s]\n",
      "Splitting the experimental spectrum into chunks: 131072it [00:00, 2802245.92it/s]\n",
      "Deconvolving chunks: 100%|███████████████████████| 1/1 [05:35<00:00, 335.45s/it]\n"
     ]
    },
    {
     "name": "stdout",
     "output_type": "stream",
     "text": [
      "Estimation for 0.24000000000000002 and 0.2 done\n",
      "It took: 335.6273648738861 seconds.\n",
      "[0.11994417829400067, 0.8698528809170047]\n"
     ]
    },
    {
     "name": "stderr",
     "output_type": "stream",
     "text": [
      "Initial filtering of formulas: 100%|██████████████| 2/2 [00:00<00:00, 61.87it/s]\n",
      "Computing chunks: 100%|████████████████████████| 2/2 [00:00<00:00, 96420.78it/s]\n",
      "Splitting the experimental spectrum into chunks: 131072it [00:00, 3215491.60it/s]\n",
      "Deconvolving chunks: 100%|███████████████████████| 1/1 [04:08<00:00, 248.81s/it]\n"
     ]
    },
    {
     "name": "stdout",
     "output_type": "stream",
     "text": [
      "Estimation for 0.24000000000000002 and 0.21000000000000002 done\n",
      "It took: 248.95917344093323 seconds.\n",
      "[0.11990154539400066, 0.8698913069340047]\n"
     ]
    },
    {
     "name": "stderr",
     "output_type": "stream",
     "text": [
      "Initial filtering of formulas: 100%|██████████████| 2/2 [00:00<00:00, 61.35it/s]\n",
      "Computing chunks: 100%|████████████████████████| 2/2 [00:00<00:00, 99864.38it/s]\n",
      "Splitting the experimental spectrum into chunks: 131072it [00:00, 3419879.03it/s]\n",
      "Deconvolving chunks: 100%|███████████████████████| 1/1 [03:43<00:00, 223.87s/it]\n"
     ]
    },
    {
     "name": "stdout",
     "output_type": "stream",
     "text": [
      "Estimation for 0.24000000000000002 and 0.22 done\n",
      "It took: 224.03758668899536 seconds.\n",
      "[0.11987601760000066, 0.8699326777930048]\n"
     ]
    },
    {
     "name": "stderr",
     "output_type": "stream",
     "text": [
      "Initial filtering of formulas: 100%|██████████████| 2/2 [00:00<00:00, 30.65it/s]\n",
      "Computing chunks: 100%|████████████████████████| 2/2 [00:00<00:00, 37117.73it/s]\n",
      "Splitting the experimental spectrum into chunks: 131072it [00:00, 1936216.69it/s]\n",
      "Deconvolving chunks: 100%|███████████████████████| 1/1 [03:43<00:00, 223.59s/it]\n"
     ]
    },
    {
     "name": "stdout",
     "output_type": "stream",
     "text": [
      "Estimation for 0.24000000000000002 and 0.23 done\n",
      "It took: 223.8456587791443 seconds.\n",
      "[0.11985336220500066, 0.8699453527700047]\n"
     ]
    },
    {
     "name": "stderr",
     "output_type": "stream",
     "text": [
      "Initial filtering of formulas: 100%|██████████████| 2/2 [00:00<00:00, 63.22it/s]\n",
      "Computing chunks: 100%|████████████████████████| 2/2 [00:00<00:00, 95325.09it/s]\n",
      "Splitting the experimental spectrum into chunks: 131072it [00:00, 3278816.08it/s]\n",
      "Deconvolving chunks: 100%|███████████████████████| 1/1 [04:54<00:00, 294.23s/it]\n"
     ]
    },
    {
     "name": "stdout",
     "output_type": "stream",
     "text": [
      "Estimation for 0.24000000000000002 and 0.24000000000000002 done\n",
      "It took: 294.38960337638855 seconds.\n",
      "[0.11980245211600067, 0.8699993942710048]\n"
     ]
    },
    {
     "name": "stderr",
     "output_type": "stream",
     "text": [
      "Initial filtering of formulas: 100%|██████████████| 2/2 [00:00<00:00, 43.09it/s]\n",
      "Computing chunks: 100%|████████████████████████| 2/2 [00:00<00:00, 43690.67it/s]\n",
      "Splitting the experimental spectrum into chunks: 131072it [00:00, 2199199.19it/s]\n",
      "Deconvolving chunks: 100%|███████████████████████| 1/1 [04:30<00:00, 270.98s/it]\n"
     ]
    },
    {
     "name": "stdout",
     "output_type": "stream",
     "text": [
      "Estimation for 0.24000000000000002 and 0.25 done\n",
      "It took: 271.1869161128998 seconds.\n",
      "[0.11975339173300066, 0.8700420845570049]\n"
     ]
    },
    {
     "name": "stderr",
     "output_type": "stream",
     "text": [
      "Initial filtering of formulas: 100%|██████████████| 2/2 [00:00<00:00, 61.05it/s]\n",
      "Computing chunks: 100%|████████████████████████| 2/2 [00:00<00:00, 48770.98it/s]\n",
      "Splitting the experimental spectrum into chunks: 131072it [00:00, 3442083.54it/s]\n",
      "Deconvolving chunks: 100%|███████████████████████| 1/1 [04:26<00:00, 266.74s/it]\n"
     ]
    },
    {
     "name": "stdout",
     "output_type": "stream",
     "text": [
      "Estimation for 0.24000000000000002 and 0.26 done\n",
      "It took: 266.8789415359497 seconds.\n",
      "[0.11965885594600066, 0.8701042442580049]\n"
     ]
    },
    {
     "name": "stderr",
     "output_type": "stream",
     "text": [
      "Initial filtering of formulas: 100%|██████████████| 2/2 [00:00<00:00, 60.14it/s]\n",
      "Computing chunks: 100%|████████████████████████| 2/2 [00:00<00:00, 52758.54it/s]\n",
      "Splitting the experimental spectrum into chunks: 131072it [00:00, 3521209.10it/s]\n",
      "Deconvolving chunks: 100%|███████████████████████| 1/1 [03:13<00:00, 193.27s/it]\n"
     ]
    },
    {
     "name": "stdout",
     "output_type": "stream",
     "text": [
      "Estimation for 0.24000000000000002 and 0.27 done\n",
      "It took: 193.42479729652405 seconds.\n",
      "[0.11951898425500067, 0.8701722879590049]\n"
     ]
    },
    {
     "name": "stderr",
     "output_type": "stream",
     "text": [
      "Initial filtering of formulas: 100%|██████████████| 2/2 [00:00<00:00, 61.90it/s]\n",
      "Computing chunks: 100%|████████████████████████| 2/2 [00:00<00:00, 96420.78it/s]\n",
      "Splitting the experimental spectrum into chunks: 131072it [00:00, 3415714.38it/s]\n",
      "Deconvolving chunks: 100%|███████████████████████| 1/1 [02:59<00:00, 179.04s/it]\n"
     ]
    },
    {
     "name": "stdout",
     "output_type": "stream",
     "text": [
      "Estimation for 0.24000000000000002 and 0.28 done\n",
      "It took: 179.18680095672607 seconds.\n",
      "[0.11954806712800066, 0.8697903748330048]\n"
     ]
    },
    {
     "name": "stderr",
     "output_type": "stream",
     "text": [
      "Initial filtering of formulas: 100%|██████████████| 2/2 [00:00<00:00, 61.40it/s]\n",
      "Computing chunks: 100%|████████████████████████| 2/2 [00:00<00:00, 92182.51it/s]\n",
      "Splitting the experimental spectrum into chunks: 131072it [00:00, 3392528.27it/s]\n",
      "Deconvolving chunks: 100%|███████████████████████| 1/1 [03:13<00:00, 193.44s/it]\n"
     ]
    },
    {
     "name": "stdout",
     "output_type": "stream",
     "text": [
      "Estimation for 0.24000000000000002 and 0.29000000000000004 done\n",
      "It took: 193.5867302417755 seconds.\n",
      "[0.11949596190400066, 0.8696643769370048]\n"
     ]
    },
    {
     "name": "stderr",
     "output_type": "stream",
     "text": [
      "Initial filtering of formulas: 100%|██████████████| 2/2 [00:00<00:00, 61.51it/s]\n",
      "Computing chunks: 100%|████████████████████████| 2/2 [00:00<00:00, 96420.78it/s]\n",
      "Splitting the experimental spectrum into chunks: 131072it [00:00, 3263013.72it/s]\n",
      "Deconvolving chunks: 100%|███████████████████████| 1/1 [02:16<00:00, 136.88s/it]\n"
     ]
    },
    {
     "name": "stdout",
     "output_type": "stream",
     "text": [
      "Estimation for 0.25 and 0.01 done\n",
      "It took: 137.02894687652588 seconds.\n",
      "[0.3828158271040021, 0.6171841728960035]\n"
     ]
    },
    {
     "name": "stderr",
     "output_type": "stream",
     "text": [
      "Initial filtering of formulas: 100%|██████████████| 2/2 [00:00<00:00, 60.91it/s]\n",
      "Computing chunks: 100%|████████████████████████| 2/2 [00:00<00:00, 89240.51it/s]\n",
      "Splitting the experimental spectrum into chunks: 131072it [00:00, 3399493.03it/s]\n",
      "Deconvolving chunks: 100%|███████████████████████| 1/1 [03:10<00:00, 190.53s/it]\n"
     ]
    },
    {
     "name": "stdout",
     "output_type": "stream",
     "text": [
      "Estimation for 0.25 and 0.02 done\n",
      "It took: 190.67761707305908 seconds.\n",
      "[0.16674852329900092, 0.8327396936000047]\n"
     ]
    },
    {
     "name": "stderr",
     "output_type": "stream",
     "text": [
      "Initial filtering of formulas: 100%|██████████████| 2/2 [00:00<00:00, 60.19it/s]\n",
      "Computing chunks: 100%|████████████████████████| 2/2 [00:00<00:00, 85598.04it/s]\n",
      "Splitting the experimental spectrum into chunks: 131072it [00:00, 3430806.18it/s]\n",
      "Deconvolving chunks: 100%|███████████████████████| 1/1 [03:28<00:00, 208.31s/it]\n"
     ]
    },
    {
     "name": "stdout",
     "output_type": "stream",
     "text": [
      "Estimation for 0.25 and 0.03 done\n",
      "It took: 208.48319506645203 seconds.\n",
      "[0.13845736281800078, 0.8606120888410048]\n"
     ]
    },
    {
     "name": "stderr",
     "output_type": "stream",
     "text": [
      "Initial filtering of formulas: 100%|██████████████| 2/2 [00:00<00:00, 60.08it/s]\n",
      "Computing chunks: 100%|████████████████████████| 2/2 [00:00<00:00, 86480.49it/s]\n",
      "Splitting the experimental spectrum into chunks: 131072it [00:00, 3124926.47it/s]\n",
      "Deconvolving chunks: 100%|███████████████████████| 1/1 [03:11<00:00, 191.04s/it]\n"
     ]
    },
    {
     "name": "stdout",
     "output_type": "stream",
     "text": [
      "Estimation for 0.25 and 0.04 done\n",
      "It took: 191.19209456443787 seconds.\n",
      "[0.13353837665200075, 0.8653531806470047]\n"
     ]
    },
    {
     "name": "stderr",
     "output_type": "stream",
     "text": [
      "Initial filtering of formulas: 100%|██████████████| 2/2 [00:00<00:00, 60.78it/s]\n",
      "Computing chunks: 100%|████████████████████████| 2/2 [00:00<00:00, 80659.69it/s]\n",
      "Splitting the experimental spectrum into chunks: 131072it [00:00, 3416393.63it/s]\n",
      "Deconvolving chunks: 100%|███████████████████████| 1/1 [03:00<00:00, 180.90s/it]\n"
     ]
    },
    {
     "name": "stdout",
     "output_type": "stream",
     "text": [
      "Estimation for 0.25 and 0.05 done\n",
      "It took: 181.04378628730774 seconds.\n",
      "[0.1280541099640007, 0.8706198938420049]\n"
     ]
    },
    {
     "name": "stderr",
     "output_type": "stream",
     "text": [
      "Initial filtering of formulas: 100%|██████████████| 2/2 [00:00<00:00, 62.29it/s]\n",
      "Computing chunks: 100%|████████████████████████| 2/2 [00:00<00:00, 66052.03it/s]\n",
      "Splitting the experimental spectrum into chunks: 131072it [00:00, 3402270.10it/s]\n",
      "Deconvolving chunks: 100%|███████████████████████| 1/1 [02:58<00:00, 178.48s/it]\n"
     ]
    },
    {
     "name": "stdout",
     "output_type": "stream",
     "text": [
      "Estimation for 0.25 and 0.060000000000000005 done\n",
      "It took: 178.657484292984 seconds.\n",
      "[0.12219152263400068, 0.8757963978890049]\n"
     ]
    },
    {
     "name": "stderr",
     "output_type": "stream",
     "text": [
      "Initial filtering of formulas: 100%|██████████████| 2/2 [00:00<00:00, 49.78it/s]\n",
      "Computing chunks: 100%|████████████████████████| 2/2 [00:00<00:00, 60787.01it/s]\n",
      "Splitting the experimental spectrum into chunks: 131072it [00:00, 3409993.95it/s]\n",
      "Deconvolving chunks: 100%|███████████████████| 1/1 [3:33:22<00:00, 12802.82s/it]\n"
     ]
    },
    {
     "name": "stdout",
     "output_type": "stream",
     "text": [
      "Estimation for 0.25 and 0.06999999999999999 done\n",
      "It took: 12802.978342533112 seconds.\n",
      "[0.12057581499400066, 0.8767307746600049]\n"
     ]
    },
    {
     "name": "stderr",
     "output_type": "stream",
     "text": [
      "Initial filtering of formulas: 100%|██████████████| 2/2 [00:00<00:00, 63.62it/s]\n",
      "Computing chunks: 100%|████████████████████████| 2/2 [00:00<00:00, 97541.95it/s]\n",
      "Splitting the experimental spectrum into chunks: 131072it [00:00, 3525454.27it/s]\n",
      "Deconvolving chunks: 100%|███████████████████████| 1/1 [02:57<00:00, 177.10s/it]\n"
     ]
    },
    {
     "name": "stdout",
     "output_type": "stream",
     "text": [
      "Estimation for 0.25 and 0.08 done\n",
      "It took: 177.2449390888214 seconds.\n",
      "[0.12091704901100067, 0.8756548100270048]\n"
     ]
    },
    {
     "name": "stderr",
     "output_type": "stream",
     "text": [
      "Initial filtering of formulas: 100%|██████████████| 2/2 [00:00<00:00, 59.72it/s]\n",
      "Computing chunks: 100%|████████████████████████| 2/2 [00:00<00:00, 95325.09it/s]\n",
      "Splitting the experimental spectrum into chunks: 131072it [00:00, 3228369.50it/s]\n",
      "Deconvolving chunks: 100%|███████████████████████| 1/1 [03:11<00:00, 191.98s/it]\n"
     ]
    },
    {
     "name": "stdout",
     "output_type": "stream",
     "text": [
      "Estimation for 0.25 and 0.09 done\n",
      "It took: 192.13011193275452 seconds.\n",
      "[0.12106874611500067, 0.8742198304570049]\n"
     ]
    },
    {
     "name": "stderr",
     "output_type": "stream",
     "text": [
      "Initial filtering of formulas: 100%|██████████████| 2/2 [00:00<00:00, 52.50it/s]\n",
      "Computing chunks: 100%|████████████████████████| 2/2 [00:00<00:00, 59918.63it/s]\n",
      "Splitting the experimental spectrum into chunks: 131072it [00:00, 2694009.85it/s]\n",
      "Deconvolving chunks: 100%|███████████████████████| 1/1 [02:57<00:00, 177.84s/it]\n"
     ]
    },
    {
     "name": "stdout",
     "output_type": "stream",
     "text": [
      "Estimation for 0.25 and 0.09999999999999999 done\n",
      "It took: 178.0139443874359 seconds.\n",
      "[0.12092175190100067, 0.8741857639000049]\n"
     ]
    },
    {
     "name": "stderr",
     "output_type": "stream",
     "text": [
      "Initial filtering of formulas: 100%|██████████████| 2/2 [00:00<00:00, 60.45it/s]\n",
      "Computing chunks: 100%|████████████████████████| 2/2 [00:00<00:00, 85598.04it/s]\n",
      "Splitting the experimental spectrum into chunks: 131072it [00:00, 3390185.15it/s]\n",
      "Deconvolving chunks: 100%|███████████████████████| 1/1 [02:50<00:00, 170.74s/it]\n"
     ]
    },
    {
     "name": "stdout",
     "output_type": "stream",
     "text": [
      "Estimation for 0.25 and 0.11 done\n",
      "It took: 170.91638088226318 seconds.\n",
      "[0.12080027662100067, 0.8742601522590049]\n"
     ]
    },
    {
     "name": "stderr",
     "output_type": "stream",
     "text": [
      "Initial filtering of formulas: 100%|██████████████| 2/2 [00:00<00:00, 60.04it/s]\n",
      "Computing chunks: 100%|███████████████████████| 2/2 [00:00<00:00, 101067.57it/s]\n",
      "Splitting the experimental spectrum into chunks: 131072it [00:00, 3455345.37it/s]\n",
      "Deconvolving chunks: 100%|███████████████████████| 1/1 [03:11<00:00, 191.96s/it]\n"
     ]
    },
    {
     "name": "stdout",
     "output_type": "stream",
     "text": [
      "Estimation for 0.25 and 0.12 done\n",
      "It took: 192.1081235408783 seconds.\n",
      "[0.12076525391700067, 0.8741609956250049]\n"
     ]
    },
    {
     "name": "stderr",
     "output_type": "stream",
     "text": [
      "Initial filtering of formulas: 100%|██████████████| 2/2 [00:00<00:00, 59.32it/s]\n",
      "Computing chunks: 100%|████████████████████████| 2/2 [00:00<00:00, 80659.69it/s]\n",
      "Splitting the experimental spectrum into chunks: 131072it [00:00, 3522043.78it/s]\n",
      "Deconvolving chunks: 100%|███████████████████████| 1/1 [03:09<00:00, 189.73s/it]\n"
     ]
    },
    {
     "name": "stdout",
     "output_type": "stream",
     "text": [
      "Estimation for 0.25 and 0.13 done\n",
      "It took: 189.88096499443054 seconds.\n",
      "[0.12068814310400067, 0.8739381421420049]\n"
     ]
    },
    {
     "name": "stderr",
     "output_type": "stream",
     "text": [
      "Initial filtering of formulas: 100%|██████████████| 2/2 [00:00<00:00, 60.99it/s]\n",
      "Computing chunks: 100%|████████████████████████| 2/2 [00:00<00:00, 51150.05it/s]\n",
      "Splitting the experimental spectrum into chunks: 131072it [00:00, 3412406.90it/s]\n",
      "Deconvolving chunks: 100%|███████████████████████| 1/1 [03:54<00:00, 234.94s/it]\n"
     ]
    },
    {
     "name": "stdout",
     "output_type": "stream",
     "text": [
      "Estimation for 0.25 and 0.14 done\n",
      "It took: 235.11302709579468 seconds.\n",
      "[0.12061643907300067, 0.8732110789980049]\n"
     ]
    },
    {
     "name": "stderr",
     "output_type": "stream",
     "text": [
      "Initial filtering of formulas: 100%|██████████████| 2/2 [00:00<00:00, 61.41it/s]\n",
      "Computing chunks: 100%|████████████████████████| 2/2 [00:00<00:00, 96420.78it/s]\n",
      "Splitting the experimental spectrum into chunks: 131072it [00:00, 3370915.17it/s]\n",
      "Deconvolving chunks: 100%|███████████████████████| 1/1 [03:12<00:00, 192.02s/it]\n"
     ]
    },
    {
     "name": "stdout",
     "output_type": "stream",
     "text": [
      "Estimation for 0.25 and 0.15000000000000002 done\n",
      "It took: 192.1677281856537 seconds.\n",
      "[0.12042007692700067, 0.8731378350500049]\n"
     ]
    },
    {
     "name": "stderr",
     "output_type": "stream",
     "text": [
      "Initial filtering of formulas: 100%|██████████████| 2/2 [00:00<00:00, 60.12it/s]\n",
      "Computing chunks: 100%|████████████████████████| 2/2 [00:00<00:00, 93206.76it/s]\n",
      "Splitting the experimental spectrum into chunks: 131072it [00:00, 3383820.70it/s]\n",
      "Deconvolving chunks: 100%|███████████████████████| 1/1 [03:00<00:00, 180.85s/it]\n"
     ]
    },
    {
     "name": "stdout",
     "output_type": "stream",
     "text": [
      "Estimation for 0.25 and 0.16 done\n",
      "It took: 180.99861764907837 seconds.\n",
      "[0.12000781957200067, 0.8733850047700049]\n"
     ]
    },
    {
     "name": "stderr",
     "output_type": "stream",
     "text": [
      "Initial filtering of formulas: 100%|██████████████| 2/2 [00:00<00:00, 61.13it/s]\n",
      "Computing chunks: 100%|████████████████████████| 2/2 [00:00<00:00, 71697.50it/s]\n",
      "Splitting the experimental spectrum into chunks: 131072it [00:00, 3368003.32it/s]\n",
      "Deconvolving chunks: 100%|███████████████████████| 1/1 [02:55<00:00, 175.41s/it]\n"
     ]
    },
    {
     "name": "stdout",
     "output_type": "stream",
     "text": [
      "Estimation for 0.25 and 0.17 done\n",
      "It took: 175.5544502735138 seconds.\n",
      "[0.11968564723600067, 0.8726491215650048]\n"
     ]
    },
    {
     "name": "stderr",
     "output_type": "stream",
     "text": [
      "Initial filtering of formulas: 100%|██████████████| 2/2 [00:00<00:00, 59.25it/s]\n",
      "Computing chunks: 100%|████████████████████████| 2/2 [00:00<00:00, 74898.29it/s]\n",
      "Splitting the experimental spectrum into chunks: 131072it [00:00, 3287895.25it/s]\n",
      "Deconvolving chunks: 100%|███████████████████████| 1/1 [03:05<00:00, 185.71s/it]\n"
     ]
    },
    {
     "name": "stdout",
     "output_type": "stream",
     "text": [
      "Estimation for 0.25 and 0.18000000000000002 done\n",
      "It took: 185.8833954334259 seconds.\n",
      "[0.11964332479000067, 0.8718679384440049]\n"
     ]
    },
    {
     "name": "stderr",
     "output_type": "stream",
     "text": [
      "Initial filtering of formulas: 100%|██████████████| 2/2 [00:00<00:00, 59.26it/s]\n",
      "Computing chunks: 100%|████████████████████████| 2/2 [00:00<00:00, 79891.50it/s]\n",
      "Splitting the experimental spectrum into chunks: 131072it [00:00, 3241408.30it/s]\n",
      "Deconvolving chunks: 100%|███████████████████████| 1/1 [03:06<00:00, 186.52s/it]\n"
     ]
    },
    {
     "name": "stdout",
     "output_type": "stream",
     "text": [
      "Estimation for 0.25 and 0.19 done\n",
      "It took: 186.6893355846405 seconds.\n",
      "[0.11982094266400066, 0.8708447456860049]\n"
     ]
    },
    {
     "name": "stderr",
     "output_type": "stream",
     "text": [
      "Initial filtering of formulas: 100%|██████████████| 2/2 [00:00<00:00, 60.27it/s]\n",
      "Computing chunks: 100%|████████████████████████| 2/2 [00:00<00:00, 96420.78it/s]\n",
      "Splitting the experimental spectrum into chunks: 131072it [00:00, 3290236.91it/s]\n",
      "Deconvolving chunks: 100%|███████████████████████| 1/1 [03:08<00:00, 188.85s/it]\n"
     ]
    },
    {
     "name": "stdout",
     "output_type": "stream",
     "text": [
      "Estimation for 0.25 and 0.2 done\n",
      "It took: 188.99803042411804 seconds.\n",
      "[0.11995498901100067, 0.8699895145800047]\n"
     ]
    },
    {
     "name": "stderr",
     "output_type": "stream",
     "text": [
      "Initial filtering of formulas: 100%|██████████████| 2/2 [00:00<00:00, 58.89it/s]\n",
      "Computing chunks: 100%|████████████████████████| 2/2 [00:00<00:00, 99864.38it/s]\n",
      "Splitting the experimental spectrum into chunks: 131072it [00:00, 3144084.86it/s]\n",
      "Deconvolving chunks: 100%|███████████████████████| 1/1 [02:56<00:00, 176.74s/it]\n"
     ]
    },
    {
     "name": "stdout",
     "output_type": "stream",
     "text": [
      "Estimation for 0.25 and 0.21000000000000002 done\n",
      "It took: 176.88905930519104 seconds.\n",
      "[0.11992455906300066, 0.8699528450360048]\n"
     ]
    },
    {
     "name": "stderr",
     "output_type": "stream",
     "text": [
      "Initial filtering of formulas: 100%|██████████████| 2/2 [00:00<00:00, 59.23it/s]\n",
      "Computing chunks: 100%|████████████████████████| 2/2 [00:00<00:00, 93206.76it/s]\n",
      "Splitting the experimental spectrum into chunks: 131072it [00:00, 3293311.69it/s]\n",
      "Deconvolving chunks: 100%|███████████████████████| 1/1 [03:04<00:00, 184.76s/it]\n"
     ]
    },
    {
     "name": "stdout",
     "output_type": "stream",
     "text": [
      "Estimation for 0.25 and 0.22 done\n",
      "It took: 184.90567922592163 seconds.\n",
      "[0.11989150561200067, 0.8699715192880048]\n"
     ]
    },
    {
     "name": "stderr",
     "output_type": "stream",
     "text": [
      "Initial filtering of formulas: 100%|██████████████| 2/2 [00:00<00:00, 59.67it/s]\n",
      "Computing chunks: 100%|████████████████████████| 2/2 [00:00<00:00, 92182.51it/s]\n",
      "Splitting the experimental spectrum into chunks: 131072it [00:00, 2704918.81it/s]\n",
      "Deconvolving chunks: 100%|███████████████████████| 1/1 [03:06<00:00, 186.35s/it]\n"
     ]
    },
    {
     "name": "stdout",
     "output_type": "stream",
     "text": [
      "Estimation for 0.25 and 0.23 done\n",
      "It took: 186.5377116203308 seconds.\n",
      "[0.11986007002400066, 0.8700087088230049]\n"
     ]
    },
    {
     "name": "stderr",
     "output_type": "stream",
     "text": [
      "Initial filtering of formulas: 100%|██████████████| 2/2 [00:00<00:00, 59.45it/s]\n",
      "Computing chunks: 100%|████████████████████████| 2/2 [00:00<00:00, 86480.49it/s]\n",
      "Splitting the experimental spectrum into chunks: 131072it [00:00, 3376069.70it/s]\n",
      "Deconvolving chunks: 100%|███████████████████████| 1/1 [03:02<00:00, 182.51s/it]\n"
     ]
    },
    {
     "name": "stdout",
     "output_type": "stream",
     "text": [
      "Estimation for 0.25 and 0.24000000000000002 done\n",
      "It took: 182.6608111858368 seconds.\n",
      "[0.11984942372800067, 0.8700296518760049]\n"
     ]
    },
    {
     "name": "stderr",
     "output_type": "stream",
     "text": [
      "Initial filtering of formulas: 100%|██████████████| 2/2 [00:00<00:00, 60.00it/s]\n",
      "Computing chunks: 100%|████████████████████████| 2/2 [00:00<00:00, 99864.38it/s]\n",
      "Splitting the experimental spectrum into chunks: 131072it [00:00, 3348535.21it/s]\n",
      "Deconvolving chunks: 100%|███████████████████████| 1/1 [03:06<00:00, 186.36s/it]\n"
     ]
    },
    {
     "name": "stdout",
     "output_type": "stream",
     "text": [
      "Estimation for 0.25 and 0.25 done\n",
      "It took: 186.52884340286255 seconds.\n",
      "[0.11977954499600067, 0.8700784142840049]\n"
     ]
    },
    {
     "name": "stderr",
     "output_type": "stream",
     "text": [
      "Initial filtering of formulas: 100%|██████████████| 2/2 [00:00<00:00, 59.81it/s]\n",
      "Computing chunks: 100%|████████████████████████| 2/2 [00:00<00:00, 52758.54it/s]\n",
      "Splitting the experimental spectrum into chunks: 131072it [00:00, 3098298.08it/s]\n",
      "Deconvolving chunks: 100%|███████████████████████| 1/1 [03:05<00:00, 185.32s/it]\n"
     ]
    },
    {
     "name": "stdout",
     "output_type": "stream",
     "text": [
      "Estimation for 0.25 and 0.26 done\n",
      "It took: 185.4859583377838 seconds.\n",
      "[0.11973676154200066, 0.8701035030480049]\n"
     ]
    },
    {
     "name": "stderr",
     "output_type": "stream",
     "text": [
      "Initial filtering of formulas: 100%|██████████████| 2/2 [00:00<00:00, 59.26it/s]\n",
      "Computing chunks: 100%|████████████████████████| 2/2 [00:00<00:00, 93206.76it/s]\n",
      "Splitting the experimental spectrum into chunks: 131072it [00:00, 3304277.72it/s]\n",
      "Deconvolving chunks: 100%|███████████████████████| 1/1 [03:06<00:00, 186.93s/it]\n"
     ]
    },
    {
     "name": "stdout",
     "output_type": "stream",
     "text": [
      "Estimation for 0.25 and 0.27 done\n",
      "It took: 187.08514857292175 seconds.\n",
      "[0.11959039356400067, 0.8701793911210048]\n"
     ]
    },
    {
     "name": "stderr",
     "output_type": "stream",
     "text": [
      "Initial filtering of formulas: 100%|██████████████| 2/2 [00:00<00:00, 51.15it/s]\n",
      "Computing chunks: 100%|████████████████████████| 2/2 [00:00<00:00, 79137.81it/s]\n",
      "Splitting the experimental spectrum into chunks: 131072it [00:00, 2773560.84it/s]\n",
      "Deconvolving chunks: 100%|███████████████████████| 1/1 [02:56<00:00, 176.74s/it]\n"
     ]
    },
    {
     "name": "stdout",
     "output_type": "stream",
     "text": [
      "Estimation for 0.25 and 0.28 done\n",
      "It took: 176.90696501731873 seconds.\n",
      "[0.11953368091000066, 0.8700505912190049]\n"
     ]
    },
    {
     "name": "stderr",
     "output_type": "stream",
     "text": [
      "Initial filtering of formulas: 100%|██████████████| 2/2 [00:00<00:00, 58.09it/s]\n",
      "Computing chunks: 100%|████████████████████████| 2/2 [00:00<00:00, 65536.00it/s]\n",
      "Splitting the experimental spectrum into chunks: 131072it [00:00, 3228995.24it/s]\n",
      "Deconvolving chunks: 100%|███████████████████████| 1/1 [04:19<00:00, 259.56s/it]\n"
     ]
    },
    {
     "name": "stdout",
     "output_type": "stream",
     "text": [
      "Estimation for 0.25 and 0.29000000000000004 done\n",
      "It took: 259.7429518699646 seconds.\n",
      "[0.11949368187200067, 0.8698342932020048]\n"
     ]
    },
    {
     "name": "stderr",
     "output_type": "stream",
     "text": [
      "Initial filtering of formulas: 100%|██████████████| 2/2 [00:00<00:00, 58.79it/s]\n",
      "Computing chunks: 100%|████████████████████████| 2/2 [00:00<00:00, 84733.41it/s]\n",
      "Splitting the experimental spectrum into chunks: 131072it [00:00, 3290926.26it/s]\n",
      "Deconvolving chunks: 100%|███████████████████████| 1/1 [02:59<00:00, 179.83s/it]\n"
     ]
    },
    {
     "name": "stdout",
     "output_type": "stream",
     "text": [
      "Estimation for 0.26 and 0.01 done\n",
      "It took: 179.98720407485962 seconds.\n",
      "[0.3828158271040021, 0.6171841728960035]\n"
     ]
    },
    {
     "name": "stderr",
     "output_type": "stream",
     "text": [
      "Initial filtering of formulas: 100%|██████████████| 2/2 [00:00<00:00, 59.00it/s]\n",
      "Computing chunks: 100%|████████████████████████| 2/2 [00:00<00:00, 65536.00it/s]\n",
      "Splitting the experimental spectrum into chunks: 131072it [00:00, 3307458.41it/s]\n",
      "Deconvolving chunks: 100%|███████████████████████| 1/1 [03:13<00:00, 193.26s/it]\n"
     ]
    },
    {
     "name": "stdout",
     "output_type": "stream",
     "text": [
      "Estimation for 0.26 and 0.02 done\n",
      "It took: 193.41105699539185 seconds.\n",
      "[0.1671573254670009, 0.8323535051470047]\n"
     ]
    },
    {
     "name": "stderr",
     "output_type": "stream",
     "text": [
      "Initial filtering of formulas: 100%|██████████████| 2/2 [00:00<00:00, 58.39it/s]\n",
      "Computing chunks: 100%|████████████████████████| 2/2 [00:00<00:00, 74898.29it/s]\n",
      "Splitting the experimental spectrum into chunks: 131072it [00:00, 3341493.12it/s]\n",
      "Deconvolving chunks: 100%|███████████████████████| 1/1 [03:47<00:00, 227.25s/it]\n"
     ]
    },
    {
     "name": "stdout",
     "output_type": "stream",
     "text": [
      "Estimation for 0.26 and 0.03 done\n",
      "It took: 227.40946006774902 seconds.\n",
      "[0.13850152641100077, 0.8606479004510048]\n"
     ]
    },
    {
     "name": "stderr",
     "output_type": "stream",
     "text": [
      "Initial filtering of formulas: 100%|██████████████| 2/2 [00:00<00:00, 59.60it/s]\n",
      "Computing chunks: 100%|████████████████████████| 2/2 [00:00<00:00, 91180.52it/s]\n",
      "Splitting the experimental spectrum into chunks: 131072it [00:00, 3302669.83it/s]\n",
      "Deconvolving chunks: 100%|███████████████████████| 1/1 [03:16<00:00, 196.62s/it]\n"
     ]
    },
    {
     "name": "stdout",
     "output_type": "stream",
     "text": [
      "Estimation for 0.26 and 0.04 done\n",
      "It took: 196.7692003250122 seconds.\n",
      "[0.13366377568400076, 0.8653157510560048]\n"
     ]
    },
    {
     "name": "stderr",
     "output_type": "stream",
     "text": [
      "Initial filtering of formulas: 100%|██████████████| 2/2 [00:00<00:00, 60.24it/s]\n",
      "Computing chunks: 100%|████████████████████████| 2/2 [00:00<00:00, 88301.14it/s]\n",
      "Splitting the experimental spectrum into chunks: 131072it [00:00, 3285380.22it/s]\n",
      "Deconvolving chunks: 100%|███████████████████████| 1/1 [03:46<00:00, 226.60s/it]\n"
     ]
    },
    {
     "name": "stdout",
     "output_type": "stream",
     "text": [
      "Estimation for 0.26 and 0.05 done\n",
      "It took: 226.77101278305054 seconds.\n",
      "[0.1280604987130007, 0.8707261779590049]\n"
     ]
    },
    {
     "name": "stderr",
     "output_type": "stream",
     "text": [
      "Initial filtering of formulas: 100%|██████████████| 2/2 [00:00<00:00, 60.68it/s]\n",
      "Computing chunks: 100%|████████████████████████| 2/2 [00:00<00:00, 60349.70it/s]\n",
      "Splitting the experimental spectrum into chunks: 131072it [00:00, 3343037.40it/s]\n",
      "Deconvolving chunks: 100%|███████████████████████| 1/1 [04:49<00:00, 289.56s/it]\n"
     ]
    },
    {
     "name": "stdout",
     "output_type": "stream",
     "text": [
      "Estimation for 0.26 and 0.060000000000000005 done\n",
      "It took: 289.73374223709106 seconds.\n",
      "[0.12231259146800068, 0.8757986923180049]\n"
     ]
    },
    {
     "name": "stderr",
     "output_type": "stream",
     "text": [
      "Initial filtering of formulas: 100%|██████████████| 2/2 [00:00<00:00, 58.10it/s]\n",
      "Computing chunks: 100%|████████████████████████| 2/2 [00:00<00:00, 64527.75it/s]\n",
      "Splitting the experimental spectrum into chunks: 131072it [00:00, 3252915.99it/s]\n",
      "Deconvolving chunks: 100%|███████████████████████| 1/1 [02:53<00:00, 173.92s/it]\n"
     ]
    },
    {
     "name": "stdout",
     "output_type": "stream",
     "text": [
      "Estimation for 0.26 and 0.06999999999999999 done\n",
      "It took: 174.07267236709595 seconds.\n",
      "[0.12060615393800067, 0.8769283082360049]\n"
     ]
    },
    {
     "name": "stderr",
     "output_type": "stream",
     "text": [
      "Initial filtering of formulas: 100%|██████████████| 2/2 [00:00<00:00, 59.48it/s]\n",
      "Computing chunks: 100%|████████████████████████| 2/2 [00:00<00:00, 87381.33it/s]\n",
      "Splitting the experimental spectrum into chunks: 131072it [00:00, 3354214.85it/s]\n",
      "Deconvolving chunks: 100%|███████████████████████| 1/1 [02:59<00:00, 179.19s/it]\n"
     ]
    },
    {
     "name": "stdout",
     "output_type": "stream",
     "text": [
      "Estimation for 0.26 and 0.08 done\n",
      "It took: 179.33821177482605 seconds.\n",
      "[0.12081120708400067, 0.8760468447530049]\n"
     ]
    },
    {
     "name": "stderr",
     "output_type": "stream",
     "text": [
      "Initial filtering of formulas: 100%|██████████████| 2/2 [00:00<00:00, 59.11it/s]\n",
      "Computing chunks: 100%|████████████████████████| 2/2 [00:00<00:00, 96420.78it/s]\n",
      "Splitting the experimental spectrum into chunks: 131072it [00:00, 3349351.24it/s]\n",
      "Deconvolving chunks: 100%|███████████████████████| 1/1 [03:02<00:00, 182.83s/it]\n"
     ]
    },
    {
     "name": "stdout",
     "output_type": "stream",
     "text": [
      "Estimation for 0.26 and 0.09 done\n",
      "It took: 182.9825119972229 seconds.\n",
      "[0.12109314480000066, 0.8743367771870049]\n"
     ]
    },
    {
     "name": "stderr",
     "output_type": "stream",
     "text": [
      "Initial filtering of formulas: 100%|██████████████| 2/2 [00:00<00:00, 60.43it/s]\n",
      "Computing chunks: 100%|████████████████████████| 2/2 [00:00<00:00, 76959.71it/s]\n",
      "Splitting the experimental spectrum into chunks: 131072it [00:00, 3388367.28it/s]\n",
      "Deconvolving chunks: 100%|███████████████████████| 1/1 [03:05<00:00, 185.44s/it]\n"
     ]
    },
    {
     "name": "stdout",
     "output_type": "stream",
     "text": [
      "Estimation for 0.26 and 0.09999999999999999 done\n",
      "It took: 185.58303833007812 seconds.\n",
      "[0.12097560515400066, 0.8741815114340049]\n"
     ]
    },
    {
     "name": "stderr",
     "output_type": "stream",
     "text": [
      "Initial filtering of formulas: 100%|██████████████| 2/2 [00:00<00:00, 59.88it/s]\n",
      "Computing chunks: 100%|████████████████████████| 2/2 [00:00<00:00, 88301.14it/s]\n",
      "Splitting the experimental spectrum into chunks: 131072it [00:00, 3276373.49it/s]\n",
      "Deconvolving chunks: 100%|███████████████████████| 1/1 [03:06<00:00, 186.74s/it]\n"
     ]
    },
    {
     "name": "stdout",
     "output_type": "stream",
     "text": [
      "Estimation for 0.26 and 0.11 done\n",
      "It took: 186.91491031646729 seconds.\n",
      "[0.12085398058500067, 0.8742533704530049]\n"
     ]
    },
    {
     "name": "stderr",
     "output_type": "stream",
     "text": [
      "Initial filtering of formulas: 100%|██████████████| 2/2 [00:00<00:00, 60.37it/s]\n",
      "Computing chunks: 100%|████████████████████████| 2/2 [00:00<00:00, 83886.08it/s]\n",
      "Splitting the experimental spectrum into chunks: 131072it [00:00, 3402059.56it/s]\n",
      "Deconvolving chunks: 100%|███████████████████████| 1/1 [03:03<00:00, 183.38s/it]\n"
     ]
    },
    {
     "name": "stdout",
     "output_type": "stream",
     "text": [
      "Estimation for 0.26 and 0.12 done\n",
      "It took: 183.52963304519653 seconds.\n",
      "[0.12076201743100066, 0.8742599896510049]\n"
     ]
    },
    {
     "name": "stderr",
     "output_type": "stream",
     "text": [
      "Initial filtering of formulas: 100%|██████████████| 2/2 [00:00<00:00, 52.92it/s]\n",
      "Computing chunks: 100%|████████████████████████| 2/2 [00:00<00:00, 82241.25it/s]\n",
      "Splitting the experimental spectrum into chunks: 131072it [00:00, 2976125.28it/s]\n",
      "Deconvolving chunks: 100%|███████████████████████| 1/1 [03:04<00:00, 184.53s/it]\n"
     ]
    },
    {
     "name": "stdout",
     "output_type": "stream",
     "text": [
      "Estimation for 0.26 and 0.13 done\n",
      "It took: 184.69461679458618 seconds.\n",
      "[0.12066041012000067, 0.8742654282590049]\n"
     ]
    },
    {
     "name": "stderr",
     "output_type": "stream",
     "text": [
      "Initial filtering of formulas: 100%|██████████████| 2/2 [00:00<00:00, 59.12it/s]\n",
      "Computing chunks: 100%|████████████████████████| 2/2 [00:00<00:00, 76260.07it/s]\n",
      "Splitting the experimental spectrum into chunks: 131072it [00:00, 3267726.76it/s]\n",
      "Deconvolving chunks: 100%|███████████████████████| 1/1 [03:03<00:00, 183.41s/it]\n"
     ]
    },
    {
     "name": "stdout",
     "output_type": "stream",
     "text": [
      "Estimation for 0.26 and 0.14 done\n",
      "It took: 183.56056761741638 seconds.\n",
      "[0.12054531561900067, 0.8736963843270049]\n"
     ]
    },
    {
     "name": "stderr",
     "output_type": "stream",
     "text": [
      "Initial filtering of formulas: 100%|██████████████| 2/2 [00:00<00:00, 59.67it/s]\n",
      "Computing chunks: 100%|████████████████████████| 2/2 [00:00<00:00, 75573.05it/s]\n",
      "Splitting the experimental spectrum into chunks: 131072it [00:00, 3309230.32it/s]\n",
      "Deconvolving chunks: 100%|███████████████████████| 1/1 [02:53<00:00, 173.40s/it]\n"
     ]
    },
    {
     "name": "stdout",
     "output_type": "stream",
     "text": [
      "Estimation for 0.26 and 0.15000000000000002 done\n",
      "It took: 173.55122804641724 seconds.\n",
      "[0.12043725938100067, 0.8732420471650049]\n"
     ]
    },
    {
     "name": "stderr",
     "output_type": "stream",
     "text": [
      "Initial filtering of formulas: 100%|██████████████| 2/2 [00:00<00:00, 61.41it/s]\n",
      "Computing chunks: 100%|████████████████████████| 2/2 [00:00<00:00, 92182.51it/s]\n",
      "Splitting the experimental spectrum into chunks: 131072it [00:00, 3326329.69it/s]\n",
      "Deconvolving chunks: 100%|███████████████████████| 1/1 [02:59<00:00, 179.49s/it]\n"
     ]
    },
    {
     "name": "stdout",
     "output_type": "stream",
     "text": [
      "Estimation for 0.26 and 0.16 done\n",
      "It took: 179.6323163509369 seconds.\n",
      "[0.12013984081700066, 0.8733622024180049]\n"
     ]
    },
    {
     "name": "stderr",
     "output_type": "stream",
     "text": [
      "Initial filtering of formulas: 100%|██████████████| 2/2 [00:00<00:00, 58.77it/s]\n",
      "Computing chunks: 100%|████████████████████████| 2/2 [00:00<00:00, 86480.49it/s]\n",
      "Splitting the experimental spectrum into chunks: 131072it [00:00, 3289114.86it/s]\n",
      "Deconvolving chunks: 100%|███████████████████████| 1/1 [03:01<00:00, 181.61s/it]\n"
     ]
    },
    {
     "name": "stdout",
     "output_type": "stream",
     "text": [
      "Estimation for 0.26 and 0.17 done\n",
      "It took: 181.7861270904541 seconds.\n",
      "[0.11988540548000066, 0.8730634375900049]\n"
     ]
    },
    {
     "name": "stderr",
     "output_type": "stream",
     "text": [
      "Initial filtering of formulas: 100%|██████████████| 2/2 [00:00<00:00, 59.59it/s]\n",
      "Computing chunks: 100%|████████████████████████| 2/2 [00:00<00:00, 86480.49it/s]\n",
      "Splitting the experimental spectrum into chunks: 131072it [00:00, 3181549.32it/s]\n",
      "Deconvolving chunks: 100%|███████████████████████| 1/1 [03:07<00:00, 187.24s/it]\n"
     ]
    },
    {
     "name": "stdout",
     "output_type": "stream",
     "text": [
      "Estimation for 0.26 and 0.18000000000000002 done\n",
      "It took: 187.42121410369873 seconds.\n",
      "[0.11960090674200066, 0.8722278781920049]\n"
     ]
    },
    {
     "name": "stderr",
     "output_type": "stream",
     "text": [
      "Initial filtering of formulas: 100%|██████████████| 2/2 [00:00<00:00, 58.89it/s]\n",
      "Computing chunks: 100%|████████████████████████| 2/2 [00:00<00:00, 86480.49it/s]\n",
      "Splitting the experimental spectrum into chunks: 131072it [00:00, 3313318.91it/s]\n",
      "Deconvolving chunks: 100%|███████████████████████| 1/1 [02:58<00:00, 178.22s/it]\n"
     ]
    },
    {
     "name": "stdout",
     "output_type": "stream",
     "text": [
      "Estimation for 0.26 and 0.19 done\n",
      "It took: 178.37071084976196 seconds.\n",
      "[0.11975503514200067, 0.8713152730100049]\n"
     ]
    },
    {
     "name": "stderr",
     "output_type": "stream",
     "text": [
      "Initial filtering of formulas: 100%|██████████████| 2/2 [00:00<00:00, 61.14it/s]\n",
      "Computing chunks: 100%|████████████████████████| 2/2 [00:00<00:00, 88301.14it/s]\n",
      "Splitting the experimental spectrum into chunks: 131072it [00:00, 3366951.33it/s]\n",
      "Deconvolving chunks: 100%|███████████████████████| 1/1 [03:05<00:00, 185.45s/it]\n"
     ]
    },
    {
     "name": "stdout",
     "output_type": "stream",
     "text": [
      "Estimation for 0.26 and 0.2 done\n",
      "It took: 185.62062072753906 seconds.\n",
      "[0.11987561336000066, 0.8705270743890049]\n"
     ]
    },
    {
     "name": "stderr",
     "output_type": "stream",
     "text": [
      "Initial filtering of formulas: 100%|██████████████| 2/2 [00:00<00:00, 60.72it/s]\n",
      "Computing chunks: 100%|████████████████████████| 2/2 [00:00<00:00, 94254.02it/s]\n",
      "Splitting the experimental spectrum into chunks: 131072it [00:00, 3389328.21it/s]\n",
      "Deconvolving chunks: 100%|███████████████████████| 1/1 [03:08<00:00, 188.04s/it]\n"
     ]
    },
    {
     "name": "stdout",
     "output_type": "stream",
     "text": [
      "Estimation for 0.26 and 0.21000000000000002 done\n",
      "It took: 188.19029903411865 seconds.\n",
      "[0.11995099998900066, 0.8700075704880049]\n"
     ]
    },
    {
     "name": "stderr",
     "output_type": "stream",
     "text": [
      "Initial filtering of formulas: 100%|██████████████| 2/2 [00:00<00:00, 57.21it/s]\n",
      "Computing chunks: 100%|████████████████████████| 2/2 [00:00<00:00, 94254.02it/s]\n",
      "Splitting the experimental spectrum into chunks: 131072it [00:00, 3459346.04it/s]\n",
      "Deconvolving chunks: 100%|███████████████████████| 1/1 [03:11<00:00, 191.01s/it]\n"
     ]
    },
    {
     "name": "stdout",
     "output_type": "stream",
     "text": [
      "Estimation for 0.26 and 0.22 done\n",
      "It took: 191.1572711467743 seconds.\n",
      "[0.11991015225700066, 0.8700386344530049]\n"
     ]
    },
    {
     "name": "stderr",
     "output_type": "stream",
     "text": [
      "Initial filtering of formulas: 100%|██████████████| 2/2 [00:00<00:00, 52.95it/s]\n",
      "Computing chunks: 100%|████████████████████████| 2/2 [00:00<00:00, 81442.80it/s]\n",
      "Splitting the experimental spectrum into chunks: 131072it [00:00, 2715594.50it/s]\n",
      "Deconvolving chunks: 100%|███████████████████████| 1/1 [03:05<00:00, 185.10s/it]\n"
     ]
    },
    {
     "name": "stdout",
     "output_type": "stream",
     "text": [
      "Estimation for 0.26 and 0.23 done\n",
      "It took: 185.26350474357605 seconds.\n",
      "[0.11988026055500067, 0.8700802642670049]\n"
     ]
    },
    {
     "name": "stderr",
     "output_type": "stream",
     "text": [
      "Initial filtering of formulas: 100%|██████████████| 2/2 [00:00<00:00, 57.08it/s]\n",
      "Computing chunks: 100%|████████████████████████| 2/2 [00:00<00:00, 95325.09it/s]\n",
      "Splitting the experimental spectrum into chunks: 131072it [00:00, 3299339.92it/s]\n",
      "Deconvolving chunks: 100%|███████████████████████| 1/1 [03:05<00:00, 185.60s/it]\n"
     ]
    },
    {
     "name": "stdout",
     "output_type": "stream",
     "text": [
      "Estimation for 0.26 and 0.24000000000000002 done\n",
      "It took: 185.7450180053711 seconds.\n",
      "[0.11986254358600067, 0.8700962092190049]\n"
     ]
    },
    {
     "name": "stderr",
     "output_type": "stream",
     "text": [
      "Initial filtering of formulas: 100%|██████████████| 2/2 [00:00<00:00, 51.68it/s]\n",
      "Computing chunks: 100%|████████████████████████| 2/2 [00:00<00:00, 82241.25it/s]\n",
      "Splitting the experimental spectrum into chunks: 131072it [00:00, 2740598.38it/s]\n",
      "Deconvolving chunks: 100%|███████████████████████| 1/1 [02:47<00:00, 167.35s/it]\n"
     ]
    },
    {
     "name": "stdout",
     "output_type": "stream",
     "text": [
      "Estimation for 0.26 and 0.25 done\n",
      "It took: 167.5157380104065 seconds.\n",
      "[0.11979683524400067, 0.8701369475990048]\n"
     ]
    },
    {
     "name": "stderr",
     "output_type": "stream",
     "text": [
      "Initial filtering of formulas: 100%|██████████████| 2/2 [00:00<00:00, 61.21it/s]\n",
      "Computing chunks: 100%|████████████████████████| 2/2 [00:00<00:00, 83886.08it/s]\n",
      "Splitting the experimental spectrum into chunks: 131072it [00:00, 3368787.58it/s]\n",
      "Deconvolving chunks: 100%|███████████████████████| 1/1 [15:41<00:00, 941.88s/it]\n"
     ]
    },
    {
     "name": "stdout",
     "output_type": "stream",
     "text": [
      "Estimation for 0.26 and 0.26 done\n",
      "It took: 942.0225927829742 seconds.\n",
      "[0.11975602820200067, 0.8701557479420049]\n"
     ]
    },
    {
     "name": "stderr",
     "output_type": "stream",
     "text": [
      "Initial filtering of formulas: 100%|██████████████| 2/2 [00:00<00:00, 59.01it/s]\n",
      "Computing chunks: 100%|████████████████████████| 2/2 [00:00<00:00, 75573.05it/s]\n",
      "Splitting the experimental spectrum into chunks: 131072it [00:00, 3319861.67it/s]\n",
      "Deconvolving chunks: 100%|███████████████████████| 1/1 [03:14<00:00, 194.82s/it]\n"
     ]
    },
    {
     "name": "stdout",
     "output_type": "stream",
     "text": [
      "Estimation for 0.26 and 0.27 done\n",
      "It took: 194.99931716918945 seconds.\n",
      "[0.11966046642900066, 0.8702059810550049]\n"
     ]
    },
    {
     "name": "stderr",
     "output_type": "stream",
     "text": [
      "Initial filtering of formulas: 100%|██████████████| 2/2 [00:00<00:00, 59.70it/s]\n",
      "Computing chunks: 100%|████████████████████████| 2/2 [00:00<00:00, 88301.14it/s]\n",
      "Splitting the experimental spectrum into chunks: 131072it [00:00, 3307378.81it/s]\n",
      "Deconvolving chunks: 100%|███████████████████████| 1/1 [03:04<00:00, 184.32s/it]\n"
     ]
    },
    {
     "name": "stdout",
     "output_type": "stream",
     "text": [
      "Estimation for 0.26 and 0.28 done\n",
      "It took: 184.46655750274658 seconds.\n",
      "[0.11950680971900067, 0.8703279076100049]\n"
     ]
    },
    {
     "name": "stderr",
     "output_type": "stream",
     "text": [
      "Initial filtering of formulas: 100%|██████████████| 2/2 [00:00<00:00, 60.88it/s]\n",
      "Computing chunks: 100%|████████████████████████| 2/2 [00:00<00:00, 87381.33it/s]\n",
      "Splitting the experimental spectrum into chunks: 131072it [00:00, 3346333.92it/s]\n",
      "Deconvolving chunks: 100%|███████████████████████| 1/1 [05:52<00:00, 352.18s/it]\n"
     ]
    },
    {
     "name": "stdout",
     "output_type": "stream",
     "text": [
      "Estimation for 0.26 and 0.29000000000000004 done\n",
      "It took: 352.327597618103 seconds.\n",
      "[0.11948866229700067, 0.8699938509320048]\n"
     ]
    },
    {
     "name": "stderr",
     "output_type": "stream",
     "text": [
      "Initial filtering of formulas: 100%|██████████████| 2/2 [00:00<00:00, 58.58it/s]\n",
      "Computing chunks: 100%|████████████████████████| 2/2 [00:00<00:00, 72944.42it/s]\n",
      "Splitting the experimental spectrum into chunks: 131072it [00:00, 3262258.57it/s]\n",
      "Deconvolving chunks: 100%|███████████████████████| 1/1 [03:02<00:00, 182.02s/it]\n"
     ]
    },
    {
     "name": "stdout",
     "output_type": "stream",
     "text": [
      "Estimation for 0.27 and 0.01 done\n",
      "It took: 182.19872760772705 seconds.\n",
      "[0.3828158271040021, 0.6171841728960035]\n"
     ]
    },
    {
     "name": "stderr",
     "output_type": "stream",
     "text": [
      "Initial filtering of formulas: 100%|██████████████| 2/2 [00:00<00:00, 59.23it/s]\n",
      "Computing chunks: 100%|████████████████████████| 2/2 [00:00<00:00, 86480.49it/s]\n",
      "Splitting the experimental spectrum into chunks: 131072it [00:00, 3305867.30it/s]\n",
      "Deconvolving chunks: 100%|███████████████████████| 1/1 [04:30<00:00, 270.73s/it]\n"
     ]
    },
    {
     "name": "stdout",
     "output_type": "stream",
     "text": [
      "Estimation for 0.27 and 0.02 done\n",
      "It took: 270.9044678211212 seconds.\n",
      "[0.16737921460700092, 0.8321723024410047]\n"
     ]
    },
    {
     "name": "stderr",
     "output_type": "stream",
     "text": [
      "Initial filtering of formulas: 100%|██████████████| 2/2 [00:00<00:00, 58.05it/s]\n",
      "Computing chunks: 100%|████████████████████████| 2/2 [00:00<00:00, 74235.47it/s]\n",
      "Splitting the experimental spectrum into chunks: 131072it [00:00, 3196793.73it/s]\n",
      "Deconvolving chunks: 100%|███████████████████████| 1/1 [03:10<00:00, 190.16s/it]\n"
     ]
    },
    {
     "name": "stdout",
     "output_type": "stream",
     "text": [
      "Estimation for 0.27 and 0.03 done\n",
      "It took: 190.3293581008911 seconds.\n",
      "[0.13842681459300077, 0.8607909183390048]\n"
     ]
    },
    {
     "name": "stderr",
     "output_type": "stream",
     "text": [
      "Initial filtering of formulas: 100%|██████████████| 2/2 [00:00<00:00, 60.41it/s]\n",
      "Computing chunks: 100%|████████████████████████| 2/2 [00:00<00:00, 87381.33it/s]\n",
      "Splitting the experimental spectrum into chunks: 131072it [00:00, 3363449.46it/s]\n",
      "Deconvolving chunks: 100%|███████████████████████| 1/1 [03:07<00:00, 187.16s/it]\n"
     ]
    },
    {
     "name": "stdout",
     "output_type": "stream",
     "text": [
      "Estimation for 0.27 and 0.04 done\n",
      "It took: 187.31312608718872 seconds.\n",
      "[0.13383497263400074, 0.8652285717660048]\n"
     ]
    },
    {
     "name": "stderr",
     "output_type": "stream",
     "text": [
      "Initial filtering of formulas: 100%|██████████████| 2/2 [00:00<00:00, 60.09it/s]\n",
      "Computing chunks: 100%|████████████████████████| 2/2 [00:00<00:00, 83055.52it/s]\n",
      "Splitting the experimental spectrum into chunks: 131072it [00:00, 3337861.57it/s]\n",
      "Deconvolving chunks: 100%|███████████████████████| 1/1 [03:01<00:00, 181.14s/it]\n"
     ]
    },
    {
     "name": "stdout",
     "output_type": "stream",
     "text": [
      "Estimation for 0.27 and 0.05 done\n",
      "It took: 181.28572511672974 seconds.\n",
      "[0.12809281570200073, 0.8707247841950049]\n"
     ]
    },
    {
     "name": "stderr",
     "output_type": "stream",
     "text": [
      "Initial filtering of formulas: 100%|██████████████| 2/2 [00:00<00:00, 61.07it/s]\n",
      "Computing chunks: 100%|████████████████████████| 2/2 [00:00<00:00, 96420.78it/s]\n",
      "Splitting the experimental spectrum into chunks: 131072it [00:00, 3368333.49it/s]\n",
      "Deconvolving chunks: 100%|███████████████████████| 1/1 [02:51<00:00, 171.67s/it]\n"
     ]
    },
    {
     "name": "stdout",
     "output_type": "stream",
     "text": [
      "Estimation for 0.27 and 0.060000000000000005 done\n",
      "It took: 171.81771874427795 seconds.\n",
      "[0.12268360830500068, 0.8755605876620048]\n"
     ]
    },
    {
     "name": "stderr",
     "output_type": "stream",
     "text": [
      "Initial filtering of formulas: 100%|██████████████| 2/2 [00:00<00:00, 57.25it/s]\n",
      "Computing chunks: 100%|████████████████████████| 2/2 [00:00<00:00, 90200.09it/s]\n",
      "Splitting the experimental spectrum into chunks: 131072it [00:00, 3144804.27it/s]\n",
      "Deconvolving chunks: 100%|███████████████████████| 1/1 [03:17<00:00, 197.51s/it]\n"
     ]
    },
    {
     "name": "stdout",
     "output_type": "stream",
     "text": [
      "Estimation for 0.27 and 0.06999999999999999 done\n",
      "It took: 197.65741276741028 seconds.\n",
      "[0.12070629621300066, 0.8768701405620049]\n"
     ]
    },
    {
     "name": "stderr",
     "output_type": "stream",
     "text": [
      "Initial filtering of formulas: 100%|██████████████| 2/2 [00:00<00:00, 58.39it/s]\n",
      "Computing chunks: 100%|████████████████████████| 2/2 [00:00<00:00, 93206.76it/s]\n",
      "Splitting the experimental spectrum into chunks: 131072it [00:00, 3152721.51it/s]\n",
      "Deconvolving chunks: 100%|███████████████████████| 1/1 [03:03<00:00, 183.34s/it]\n"
     ]
    },
    {
     "name": "stdout",
     "output_type": "stream",
     "text": [
      "Estimation for 0.27 and 0.08 done\n",
      "It took: 183.49046301841736 seconds.\n",
      "[0.12083302067700066, 0.8760757793510049]\n"
     ]
    },
    {
     "name": "stderr",
     "output_type": "stream",
     "text": [
      "Initial filtering of formulas: 100%|██████████████| 2/2 [00:00<00:00, 59.49it/s]\n",
      "Computing chunks: 100%|████████████████████████| 2/2 [00:00<00:00, 90200.09it/s]\n",
      "Splitting the experimental spectrum into chunks: 131072it [00:00, 3267882.15it/s]\n",
      "Deconvolving chunks: 100%|███████████████████████| 1/1 [03:02<00:00, 182.60s/it]\n"
     ]
    },
    {
     "name": "stdout",
     "output_type": "stream",
     "text": [
      "Estimation for 0.27 and 0.09 done\n",
      "It took: 182.75565457344055 seconds.\n",
      "[0.12105946713100067, 0.8746786613180049]\n"
     ]
    },
    {
     "name": "stderr",
     "output_type": "stream",
     "text": [
      "Initial filtering of formulas: 100%|██████████████| 2/2 [00:00<00:00, 55.52it/s]\n",
      "Computing chunks: 100%|████████████████████████| 2/2 [00:00<00:00, 52758.54it/s]\n",
      "Splitting the experimental spectrum into chunks: 131072it [00:00, 3352905.60it/s]\n",
      "Deconvolving chunks: 100%|███████████████████████| 1/1 [03:02<00:00, 182.50s/it]\n"
     ]
    },
    {
     "name": "stdout",
     "output_type": "stream",
     "text": [
      "Estimation for 0.27 and 0.09999999999999999 done\n",
      "It took: 182.65249752998352 seconds.\n",
      "[0.12102170322200066, 0.8741735163660049]\n"
     ]
    },
    {
     "name": "stderr",
     "output_type": "stream",
     "text": [
      "Initial filtering of formulas: 100%|██████████████| 2/2 [00:00<00:00, 59.83it/s]\n",
      "Computing chunks: 100%|████████████████████████| 2/2 [00:00<00:00, 90200.09it/s]\n",
      "Splitting the experimental spectrum into chunks: 131072it [00:00, 3320924.56it/s]\n",
      "Deconvolving chunks: 100%|███████████████████████| 1/1 [03:04<00:00, 184.55s/it]\n"
     ]
    },
    {
     "name": "stdout",
     "output_type": "stream",
     "text": [
      "Estimation for 0.27 and 0.11 done\n",
      "It took: 184.70019721984863 seconds.\n",
      "[0.12091336016900067, 0.8742624038910048]\n"
     ]
    },
    {
     "name": "stderr",
     "output_type": "stream",
     "text": [
      "Initial filtering of formulas: 100%|██████████████| 2/2 [00:00<00:00, 60.84it/s]\n",
      "Computing chunks: 100%|████████████████████████| 2/2 [00:00<00:00, 19418.07it/s]\n",
      "Splitting the experimental spectrum into chunks: 131072it [00:00, 3358497.50it/s]\n",
      "Deconvolving chunks: 100%|███████████████████████| 1/1 [03:02<00:00, 182.96s/it]\n"
     ]
    },
    {
     "name": "stdout",
     "output_type": "stream",
     "text": [
      "Estimation for 0.27 and 0.12 done\n",
      "It took: 183.1036570072174 seconds.\n",
      "[0.12078269308900066, 0.8743587749460049]\n"
     ]
    },
    {
     "name": "stderr",
     "output_type": "stream",
     "text": [
      "Initial filtering of formulas: 100%|██████████████| 2/2 [00:00<00:00, 60.82it/s]\n",
      "Computing chunks: 100%|████████████████████████| 2/2 [00:00<00:00, 91180.52it/s]\n",
      "Splitting the experimental spectrum into chunks: 131072it [00:00, 3378600.97it/s]\n",
      "Deconvolving chunks: 100%|███████████████████████| 1/1 [02:57<00:00, 177.82s/it]\n"
     ]
    },
    {
     "name": "stdout",
     "output_type": "stream",
     "text": [
      "Estimation for 0.27 and 0.13 done\n",
      "It took: 177.9665560722351 seconds.\n",
      "[0.12068207044700066, 0.8743015719770049]\n"
     ]
    },
    {
     "name": "stderr",
     "output_type": "stream",
     "text": [
      "Initial filtering of formulas: 100%|██████████████| 2/2 [00:00<00:00, 51.42it/s]\n",
      "Computing chunks: 100%|████████████████████████| 2/2 [00:00<00:00, 79137.81it/s]\n",
      "Splitting the experimental spectrum into chunks: 131072it [00:00, 3321767.32it/s]\n",
      "Deconvolving chunks: 100%|███████████████████████| 1/1 [03:20<00:00, 200.99s/it]\n"
     ]
    },
    {
     "name": "stdout",
     "output_type": "stream",
     "text": [
      "Estimation for 0.27 and 0.14 done\n",
      "It took: 201.14562273025513 seconds.\n",
      "[0.12045525111400067, 0.8742565994870048]\n"
     ]
    },
    {
     "name": "stderr",
     "output_type": "stream",
     "text": [
      "Initial filtering of formulas: 100%|██████████████| 2/2 [00:00<00:00, 58.17it/s]\n",
      "Computing chunks: 100%|████████████████████████| 2/2 [00:00<00:00, 51781.53it/s]\n",
      "Splitting the experimental spectrum into chunks: 131072it [00:00, 3260865.37it/s]\n",
      "Deconvolving chunks: 100%|███████████████████████| 1/1 [03:16<00:00, 196.43s/it]\n"
     ]
    },
    {
     "name": "stdout",
     "output_type": "stream",
     "text": [
      "Estimation for 0.27 and 0.15000000000000002 done\n",
      "It took: 196.58290767669678 seconds.\n",
      "[0.12042669561200067, 0.8734316001310048]\n"
     ]
    },
    {
     "name": "stderr",
     "output_type": "stream",
     "text": [
      "Initial filtering of formulas: 100%|██████████████| 2/2 [00:00<00:00, 59.07it/s]\n",
      "Computing chunks: 100%|████████████████████████| 2/2 [00:00<00:00, 89240.51it/s]\n",
      "Splitting the experimental spectrum into chunks: 131072it [00:00, 3354501.38it/s]\n",
      "Deconvolving chunks: 100%|███████████████████████| 1/1 [03:19<00:00, 199.95s/it]\n"
     ]
    },
    {
     "name": "stdout",
     "output_type": "stream",
     "text": [
      "Estimation for 0.27 and 0.16 done\n",
      "It took: 200.09959936141968 seconds.\n",
      "[0.12021326142100067, 0.8733477683620049]\n"
     ]
    },
    {
     "name": "stderr",
     "output_type": "stream",
     "text": [
      "Initial filtering of formulas: 100%|██████████████| 2/2 [00:00<00:00, 58.39it/s]\n",
      "Computing chunks: 100%|████████████████████████| 2/2 [00:00<00:00, 90200.09it/s]\n",
      "Splitting the experimental spectrum into chunks: 131072it [00:00, 3101986.80it/s]\n",
      "Deconvolving chunks: 100%|███████████████████████| 1/1 [03:05<00:00, 185.30s/it]\n"
     ]
    },
    {
     "name": "stdout",
     "output_type": "stream",
     "text": [
      "Estimation for 0.27 and 0.17 done\n",
      "It took: 185.44955253601074 seconds.\n",
      "[0.11985038834200067, 0.8735545954500049]\n"
     ]
    },
    {
     "name": "stderr",
     "output_type": "stream",
     "text": [
      "Initial filtering of formulas: 100%|██████████████| 2/2 [00:00<00:00, 58.95it/s]\n",
      "Computing chunks: 100%|████████████████████████| 2/2 [00:00<00:00, 49056.19it/s]\n",
      "Splitting the experimental spectrum into chunks: 131072it [00:00, 3377148.14it/s]\n",
      "Deconvolving chunks: 100%|███████████████████████| 1/1 [02:58<00:00, 178.88s/it]\n"
     ]
    },
    {
     "name": "stdout",
     "output_type": "stream",
     "text": [
      "Estimation for 0.27 and 0.18000000000000002 done\n",
      "It took: 179.0237898826599 seconds.\n",
      "[0.11971459589600067, 0.8727345189810048]\n"
     ]
    },
    {
     "name": "stderr",
     "output_type": "stream",
     "text": [
      "Initial filtering of formulas: 100%|██████████████| 2/2 [00:00<00:00, 59.90it/s]\n",
      "Computing chunks: 100%|████████████████████████| 2/2 [00:00<00:00, 90200.09it/s]\n",
      "Splitting the experimental spectrum into chunks: 131072it [00:00, 3344094.83it/s]\n",
      "Deconvolving chunks: 100%|███████████████████████| 1/1 [03:13<00:00, 193.25s/it]\n"
     ]
    },
    {
     "name": "stdout",
     "output_type": "stream",
     "text": [
      "Estimation for 0.27 and 0.19 done\n",
      "It took: 193.40517592430115 seconds.\n",
      "[0.11964640744800066, 0.8719825879300049]\n"
     ]
    },
    {
     "name": "stderr",
     "output_type": "stream",
     "text": [
      "Initial filtering of formulas: 100%|██████████████| 2/2 [00:00<00:00, 47.39it/s]\n",
      "Computing chunks: 100%|████████████████████████| 2/2 [00:00<00:00, 75573.05it/s]\n",
      "Splitting the experimental spectrum into chunks: 131072it [00:00, 3378891.69it/s]\n",
      "Deconvolving chunks: 100%|███████████████████████| 1/1 [04:00<00:00, 240.55s/it]\n"
     ]
    },
    {
     "name": "stdout",
     "output_type": "stream",
     "text": [
      "Estimation for 0.27 and 0.2 done\n",
      "It took: 240.7091999053955 seconds.\n",
      "[0.11980729550200067, 0.8710601593620049]\n"
     ]
    },
    {
     "name": "stderr",
     "output_type": "stream",
     "text": [
      "Initial filtering of formulas: 100%|██████████████| 2/2 [00:00<00:00, 58.94it/s]\n",
      "Computing chunks: 100%|████████████████████████| 2/2 [00:00<00:00, 51781.53it/s]\n",
      "Splitting the experimental spectrum into chunks: 131072it [00:00, 3271032.05it/s]\n",
      "Deconvolving chunks: 100%|███████████████████████| 1/1 [02:58<00:00, 178.02s/it]\n"
     ]
    },
    {
     "name": "stdout",
     "output_type": "stream",
     "text": [
      "Estimation for 0.27 and 0.21000000000000002 done\n",
      "It took: 178.17696619033813 seconds.\n",
      "[0.11996425052400067, 0.8701062971330049]\n"
     ]
    },
    {
     "name": "stderr",
     "output_type": "stream",
     "text": [
      "Initial filtering of formulas: 100%|██████████████| 2/2 [00:00<00:00, 59.32it/s]\n",
      "Computing chunks: 100%|████████████████████████| 2/2 [00:00<00:00, 93206.76it/s]\n",
      "Splitting the experimental spectrum into chunks: 131072it [00:00, 3279129.00it/s]\n",
      "Deconvolving chunks: 100%|███████████████████████| 1/1 [03:11<00:00, 191.71s/it]\n"
     ]
    },
    {
     "name": "stdout",
     "output_type": "stream",
     "text": [
      "Estimation for 0.27 and 0.22 done\n",
      "It took: 191.86192965507507 seconds.\n",
      "[0.11992731291400066, 0.8700743530920049]\n"
     ]
    },
    {
     "name": "stderr",
     "output_type": "stream",
     "text": [
      "Initial filtering of formulas: 100%|██████████████| 2/2 [00:00<00:00, 60.69it/s]\n",
      "Computing chunks: 100%|████████████████████████| 2/2 [00:00<00:00, 88301.14it/s]\n",
      "Splitting the experimental spectrum into chunks: 131072it [00:00, 3352455.78it/s]\n",
      "Deconvolving chunks: 100%|███████████████████████| 1/1 [03:04<00:00, 184.41s/it]\n"
     ]
    },
    {
     "name": "stdout",
     "output_type": "stream",
     "text": [
      "Estimation for 0.27 and 0.23 done\n",
      "It took: 184.58617663383484 seconds.\n",
      "[0.11989485714900067, 0.8701043766470049]\n"
     ]
    },
    {
     "name": "stderr",
     "output_type": "stream",
     "text": [
      "Initial filtering of formulas: 100%|██████████████| 2/2 [00:00<00:00, 57.15it/s]\n",
      "Computing chunks: 100%|████████████████████████| 2/2 [00:00<00:00, 79137.81it/s]\n",
      "Splitting the experimental spectrum into chunks: 131072it [00:00, 3335127.91it/s]\n",
      "Deconvolving chunks: 100%|███████████████████████| 1/1 [03:09<00:00, 189.28s/it]\n"
     ]
    },
    {
     "name": "stdout",
     "output_type": "stream",
     "text": [
      "Estimation for 0.27 and 0.24000000000000002 done\n",
      "It took: 189.4258189201355 seconds.\n",
      "[0.11986631484100066, 0.8701232940050049]\n"
     ]
    },
    {
     "name": "stderr",
     "output_type": "stream",
     "text": [
      "Initial filtering of formulas: 100%|██████████████| 2/2 [00:00<00:00, 58.69it/s]\n",
      "Computing chunks: 100%|████████████████████████| 2/2 [00:00<00:00, 54827.50it/s]\n",
      "Splitting the experimental spectrum into chunks: 131072it [00:00, 3316477.02it/s]\n",
      "Deconvolving chunks: 100%|███████████████████████| 1/1 [03:08<00:00, 188.85s/it]\n"
     ]
    },
    {
     "name": "stdout",
     "output_type": "stream",
     "text": [
      "Estimation for 0.27 and 0.25 done\n",
      "It took: 188.99686789512634 seconds.\n",
      "[0.11984034043500066, 0.8701349744280049]\n"
     ]
    },
    {
     "name": "stderr",
     "output_type": "stream",
     "text": [
      "Initial filtering of formulas: 100%|██████████████| 2/2 [00:00<00:00, 60.32it/s]\n",
      "Computing chunks: 100%|████████████████████████| 2/2 [00:00<00:00, 92182.51it/s]\n",
      "Splitting the experimental spectrum into chunks: 131072it [00:00, 3356467.51it/s]\n",
      "Deconvolving chunks: 100%|███████████████████████| 1/1 [03:02<00:00, 182.67s/it]\n"
     ]
    },
    {
     "name": "stdout",
     "output_type": "stream",
     "text": [
      "Estimation for 0.27 and 0.26 done\n",
      "It took: 182.8164143562317 seconds.\n",
      "[0.11977717321300066, 0.8701710250710049]\n"
     ]
    },
    {
     "name": "stderr",
     "output_type": "stream",
     "text": [
      "Initial filtering of formulas: 100%|██████████████| 2/2 [00:00<00:00, 57.39it/s]\n",
      "Computing chunks: 100%|████████████████████████| 2/2 [00:00<00:00, 79137.81it/s]\n",
      "Splitting the experimental spectrum into chunks: 131072it [00:00, 3309090.88it/s]\n",
      "Deconvolving chunks: 100%|███████████████████████| 1/1 [03:08<00:00, 188.08s/it]\n"
     ]
    },
    {
     "name": "stdout",
     "output_type": "stream",
     "text": [
      "Estimation for 0.27 and 0.27 done\n",
      "It took: 188.2301847934723 seconds.\n",
      "[0.11970683075900067, 0.8702180813590049]\n"
     ]
    },
    {
     "name": "stderr",
     "output_type": "stream",
     "text": [
      "Initial filtering of formulas: 100%|██████████████| 2/2 [00:00<00:00, 57.56it/s]\n",
      "Computing chunks: 100%|████████████████████████| 2/2 [00:00<00:00, 84733.41it/s]\n",
      "Splitting the experimental spectrum into chunks: 131072it [00:00, 3274519.56it/s]\n",
      "Deconvolving chunks: 100%|███████████████████████| 1/1 [03:01<00:00, 181.18s/it]\n"
     ]
    },
    {
     "name": "stdout",
     "output_type": "stream",
     "text": [
      "Estimation for 0.27 and 0.28 done\n",
      "It took: 181.32750725746155 seconds.\n",
      "[0.11951070752800066, 0.8703593070690049]\n"
     ]
    },
    {
     "name": "stderr",
     "output_type": "stream",
     "text": [
      "Initial filtering of formulas: 100%|██████████████| 2/2 [00:00<00:00, 58.88it/s]\n",
      "Computing chunks: 100%|████████████████████████| 2/2 [00:00<00:00, 90200.09it/s]\n",
      "Splitting the experimental spectrum into chunks: 131072it [00:00, 3251165.40it/s]\n",
      "Deconvolving chunks: 100%|███████████████████████| 1/1 [03:01<00:00, 181.08s/it]\n"
     ]
    },
    {
     "name": "stdout",
     "output_type": "stream",
     "text": [
      "Estimation for 0.27 and 0.29000000000000004 done\n",
      "It took: 181.26162910461426 seconds.\n",
      "[0.11946561037600066, 0.8702185041590049]\n"
     ]
    },
    {
     "name": "stderr",
     "output_type": "stream",
     "text": [
      "Initial filtering of formulas: 100%|██████████████| 2/2 [00:00<00:00, 59.33it/s]\n",
      "Computing chunks: 100%|████████████████████████| 2/2 [00:00<00:00, 93206.76it/s]\n",
      "Splitting the experimental spectrum into chunks: 131072it [00:00, 3260285.22it/s]\n",
      "Deconvolving chunks: 100%|███████████████████████| 1/1 [02:46<00:00, 166.04s/it]\n"
     ]
    },
    {
     "name": "stdout",
     "output_type": "stream",
     "text": [
      "Estimation for 0.28 and 0.01 done\n",
      "It took: 166.21287775039673 seconds.\n",
      "[0.3828158271040021, 0.6171841728960035]\n"
     ]
    },
    {
     "name": "stderr",
     "output_type": "stream",
     "text": [
      "Initial filtering of formulas: 100%|██████████████| 2/2 [00:00<00:00, 60.48it/s]\n",
      "Computing chunks: 100%|████████████████████████| 2/2 [00:00<00:00, 90200.09it/s]\n",
      "Splitting the experimental spectrum into chunks: 131072it [00:00, 3330743.17it/s]\n",
      "Deconvolving chunks: 100%|███████████████████████| 1/1 [05:06<00:00, 306.42s/it]\n"
     ]
    },
    {
     "name": "stdout",
     "output_type": "stream",
     "text": [
      "Estimation for 0.28 and 0.02 done\n",
      "It took: 306.5666139125824 seconds.\n",
      "[0.16769721315900094, 0.8318779586790047]\n"
     ]
    },
    {
     "name": "stderr",
     "output_type": "stream",
     "text": [
      "Initial filtering of formulas: 100%|██████████████| 2/2 [00:00<00:00, 59.01it/s]\n",
      "Computing chunks: 100%|████████████████████████| 2/2 [00:00<00:00, 92182.51it/s]\n",
      "Splitting the experimental spectrum into chunks: 131072it [00:00, 3402880.82it/s]\n",
      "Deconvolving chunks: 100%|███████████████████████| 1/1 [03:01<00:00, 181.25s/it]\n"
     ]
    },
    {
     "name": "stdout",
     "output_type": "stream",
     "text": [
      "Estimation for 0.28 and 0.03 done\n",
      "It took: 181.39452195167542 seconds.\n",
      "[0.13846273393800076, 0.8607896828710048]\n"
     ]
    },
    {
     "name": "stderr",
     "output_type": "stream",
     "text": [
      "Initial filtering of formulas: 100%|██████████████| 2/2 [00:00<00:00, 60.56it/s]\n",
      "Computing chunks: 100%|████████████████████████| 2/2 [00:00<00:00, 89240.51it/s]\n",
      "Splitting the experimental spectrum into chunks: 131072it [00:00, 3335310.01it/s]\n",
      "Deconvolving chunks: 100%|███████████████████████| 1/1 [03:01<00:00, 181.62s/it]\n"
     ]
    },
    {
     "name": "stdout",
     "output_type": "stream",
     "text": [
      "Estimation for 0.28 and 0.04 done\n",
      "It took: 181.7723033428192 seconds.\n",
      "[0.13401179850700076, 0.8651140777830048]\n"
     ]
    },
    {
     "name": "stderr",
     "output_type": "stream",
     "text": [
      "Initial filtering of formulas: 100%|██████████████| 2/2 [00:00<00:00, 56.95it/s]\n",
      "Computing chunks: 100%|████████████████████████| 2/2 [00:00<00:00, 61680.94it/s]\n",
      "Splitting the experimental spectrum into chunks: 131072it [00:00, 3286165.76it/s]\n",
      "Deconvolving chunks: 100%|███████████████████████| 1/1 [02:40<00:00, 160.06s/it]\n"
     ]
    },
    {
     "name": "stdout",
     "output_type": "stream",
     "text": [
      "Estimation for 0.28 and 0.05 done\n",
      "It took: 160.21071243286133 seconds.\n",
      "[0.12829835901000072, 0.8705881210900048]\n"
     ]
    },
    {
     "name": "stderr",
     "output_type": "stream",
     "text": [
      "Initial filtering of formulas: 100%|██████████████| 2/2 [00:00<00:00, 58.90it/s]\n",
      "Computing chunks: 100%|████████████████████████| 2/2 [00:00<00:00, 93206.76it/s]\n",
      "Splitting the experimental spectrum into chunks: 131072it [00:00, 3373894.18it/s]\n",
      "Deconvolving chunks: 100%|███████████████████████| 1/1 [03:03<00:00, 183.80s/it]\n"
     ]
    },
    {
     "name": "stdout",
     "output_type": "stream",
     "text": [
      "Estimation for 0.28 and 0.060000000000000005 done\n",
      "It took: 183.9446940422058 seconds.\n",
      "[0.12276097586800068, 0.8757110835020049]\n"
     ]
    },
    {
     "name": "stderr",
     "output_type": "stream",
     "text": [
      "Initial filtering of formulas: 100%|██████████████| 2/2 [00:00<00:00, 58.16it/s]\n",
      "Computing chunks: 100%|████████████████████████| 2/2 [00:00<00:00, 46345.90it/s]\n",
      "Splitting the experimental spectrum into chunks: 131072it [00:00, 3235075.64it/s]\n",
      "Deconvolving chunks: 100%|███████████████████████| 1/1 [03:05<00:00, 185.14s/it]\n"
     ]
    },
    {
     "name": "stdout",
     "output_type": "stream",
     "text": [
      "Estimation for 0.28 and 0.06999999999999999 done\n",
      "It took: 185.29743146896362 seconds.\n",
      "[0.12077731165600067, 0.8768340905750048]\n"
     ]
    },
    {
     "name": "stderr",
     "output_type": "stream",
     "text": [
      "Initial filtering of formulas: 100%|██████████████| 2/2 [00:00<00:00, 55.63it/s]\n",
      "Computing chunks: 100%|████████████████████████| 2/2 [00:00<00:00, 91180.52it/s]\n",
      "Splitting the experimental spectrum into chunks: 131072it [00:00, 3334278.35it/s]\n",
      "Deconvolving chunks: 100%|███████████████████████| 1/1 [02:44<00:00, 164.70s/it]\n"
     ]
    },
    {
     "name": "stdout",
     "output_type": "stream",
     "text": [
      "Estimation for 0.28 and 0.08 done\n",
      "It took: 164.85236763954163 seconds.\n",
      "[0.12082164072100067, 0.8761555111420049]\n"
     ]
    },
    {
     "name": "stderr",
     "output_type": "stream",
     "text": [
      "Initial filtering of formulas: 100%|██████████████| 2/2 [00:00<00:00, 59.34it/s]\n",
      "Computing chunks: 100%|████████████████████████| 2/2 [00:00<00:00, 89240.51it/s]\n",
      "Splitting the experimental spectrum into chunks: 131072it [00:00, 3353069.20it/s]\n",
      "Deconvolving chunks: 100%|███████████████████████| 1/1 [02:42<00:00, 162.69s/it]\n"
     ]
    },
    {
     "name": "stdout",
     "output_type": "stream",
     "text": [
      "Estimation for 0.28 and 0.09 done\n",
      "It took: 162.83439135551453 seconds.\n",
      "[0.12107010258800066, 0.8750203386730049]\n"
     ]
    },
    {
     "name": "stderr",
     "output_type": "stream",
     "text": [
      "Initial filtering of formulas: 100%|██████████████| 2/2 [00:00<00:00, 60.04it/s]\n",
      "Computing chunks: 100%|████████████████████████| 2/2 [00:00<00:00, 92182.51it/s]\n",
      "Splitting the experimental spectrum into chunks: 131072it [00:00, 3387219.05it/s]\n",
      "Deconvolving chunks: 100%|███████████████████████| 1/1 [03:00<00:00, 180.96s/it]\n"
     ]
    },
    {
     "name": "stdout",
     "output_type": "stream",
     "text": [
      "Estimation for 0.28 and 0.09999999999999999 done\n",
      "It took: 181.10848116874695 seconds.\n",
      "[0.12106300511200066, 0.8742641269300049]\n"
     ]
    },
    {
     "name": "stderr",
     "output_type": "stream",
     "text": [
      "Initial filtering of formulas: 100%|██████████████| 2/2 [00:00<00:00, 60.49it/s]\n",
      "Computing chunks: 100%|████████████████████████| 2/2 [00:00<00:00, 93206.76it/s]\n",
      "Splitting the experimental spectrum into chunks: 131072it [00:00, 3375364.94it/s]\n",
      "Deconvolving chunks: 100%|███████████████████████| 1/1 [02:58<00:00, 178.39s/it]\n"
     ]
    },
    {
     "name": "stdout",
     "output_type": "stream",
     "text": [
      "Estimation for 0.28 and 0.11 done\n",
      "It took: 178.53577160835266 seconds.\n",
      "[0.12095541283500066, 0.8742806462340049]\n"
     ]
    },
    {
     "name": "stderr",
     "output_type": "stream",
     "text": [
      "Initial filtering of formulas: 100%|██████████████| 2/2 [00:00<00:00, 54.03it/s]\n",
      "Computing chunks: 100%|████████████████████████| 2/2 [00:00<00:00, 76260.07it/s]\n",
      "Splitting the experimental spectrum into chunks: 131072it [00:00, 3532295.11it/s]\n",
      "Deconvolving chunks: 100%|███████████████████████| 1/1 [02:59<00:00, 179.37s/it]\n"
     ]
    },
    {
     "name": "stdout",
     "output_type": "stream",
     "text": [
      "Estimation for 0.28 and 0.12 done\n",
      "It took: 179.51823115348816 seconds.\n",
      "[0.12084981339600066, 0.8743538974470049]\n"
     ]
    },
    {
     "name": "stderr",
     "output_type": "stream",
     "text": [
      "Initial filtering of formulas: 100%|██████████████| 2/2 [00:00<00:00, 60.56it/s]\n",
      "Computing chunks: 100%|████████████████████████| 2/2 [00:00<00:00, 92182.51it/s]\n",
      "Splitting the experimental spectrum into chunks: 131072it [00:00, 3296866.67it/s]\n",
      "Deconvolving chunks: 100%|███████████████████████| 1/1 [04:07<00:00, 247.39s/it]\n"
     ]
    },
    {
     "name": "stdout",
     "output_type": "stream",
     "text": [
      "Estimation for 0.28 and 0.13 done\n",
      "It took: 247.55905985832214 seconds.\n",
      "[0.12067170616200067, 0.8744180879370049]\n"
     ]
    },
    {
     "name": "stderr",
     "output_type": "stream",
     "text": [
      "Initial filtering of formulas: 100%|██████████████| 2/2 [00:00<00:00, 58.72it/s]\n",
      "Computing chunks: 100%|████████████████████████| 2/2 [00:00<00:00, 86480.49it/s]\n",
      "Splitting the experimental spectrum into chunks: 131072it [00:00, 3297954.44it/s]\n",
      "Deconvolving chunks: 100%|███████████████████████| 1/1 [03:26<00:00, 206.59s/it]\n"
     ]
    },
    {
     "name": "stdout",
     "output_type": "stream",
     "text": [
      "Estimation for 0.28 and 0.14 done\n",
      "It took: 206.73835110664368 seconds.\n",
      "[0.12042634686000067, 0.8745160854600049]\n"
     ]
    },
    {
     "name": "stderr",
     "output_type": "stream",
     "text": [
      "Initial filtering of formulas: 100%|██████████████| 2/2 [00:00<00:00, 56.01it/s]\n",
      "Computing chunks: 100%|████████████████████████| 2/2 [00:00<00:00, 79891.50it/s]\n",
      "Splitting the experimental spectrum into chunks: 131072it [00:00, 3325504.73it/s]\n",
      "Deconvolving chunks: 100%|███████████████████████| 1/1 [03:02<00:00, 182.31s/it]\n"
     ]
    },
    {
     "name": "stdout",
     "output_type": "stream",
     "text": [
      "Estimation for 0.28 and 0.15000000000000002 done\n",
      "It took: 182.46890568733215 seconds.\n",
      "[0.12036805646300067, 0.8739187698610049]\n"
     ]
    },
    {
     "name": "stderr",
     "output_type": "stream",
     "text": [
      "Initial filtering of formulas: 100%|██████████████| 2/2 [00:00<00:00, 60.55it/s]\n",
      "Computing chunks: 100%|████████████████████████| 2/2 [00:00<00:00, 65027.97it/s]\n",
      "Splitting the experimental spectrum into chunks: 131072it [00:00, 3376442.93it/s]\n",
      "Deconvolving chunks: 100%|███████████████████████| 1/1 [03:15<00:00, 195.77s/it]\n"
     ]
    },
    {
     "name": "stdout",
     "output_type": "stream",
     "text": [
      "Estimation for 0.28 and 0.16 done\n",
      "It took: 195.91156220436096 seconds.\n",
      "[0.12023728019600066, 0.8734524559640049]\n"
     ]
    },
    {
     "name": "stderr",
     "output_type": "stream",
     "text": [
      "Initial filtering of formulas: 100%|██████████████| 2/2 [00:00<00:00, 61.02it/s]\n",
      "Computing chunks: 100%|████████████████████████| 2/2 [00:00<00:00, 96420.78it/s]\n",
      "Splitting the experimental spectrum into chunks: 131072it [00:00, 3410099.71it/s]\n",
      "Deconvolving chunks: 100%|███████████████████████| 1/1 [03:03<00:00, 183.98s/it]\n"
     ]
    },
    {
     "name": "stdout",
     "output_type": "stream",
     "text": [
      "Estimation for 0.28 and 0.17 done\n",
      "It took: 184.15711283683777 seconds.\n",
      "[0.11991372058200067, 0.8735868858430049]\n"
     ]
    },
    {
     "name": "stderr",
     "output_type": "stream",
     "text": [
      "Initial filtering of formulas: 100%|██████████████| 2/2 [00:00<00:00, 60.00it/s]\n",
      "Computing chunks: 100%|████████████████████████| 2/2 [00:00<00:00, 93206.76it/s]\n",
      "Splitting the experimental spectrum into chunks: 131072it [00:00, 3397161.27it/s]\n",
      "Deconvolving chunks: 100%|███████████████████████| 1/1 [02:54<00:00, 174.93s/it]\n"
     ]
    },
    {
     "name": "stdout",
     "output_type": "stream",
     "text": [
      "Estimation for 0.28 and 0.18000000000000002 done\n",
      "It took: 175.0769338607788 seconds.\n",
      "[0.11978506298200067, 0.8731821813980049]\n"
     ]
    },
    {
     "name": "stderr",
     "output_type": "stream",
     "text": [
      "Initial filtering of formulas: 100%|██████████████| 2/2 [00:00<00:00, 61.04it/s]\n",
      "Computing chunks: 100%|████████████████████████| 2/2 [00:00<00:00, 87381.33it/s]\n",
      "Splitting the experimental spectrum into chunks: 131072it [00:00, 3368477.96it/s]\n",
      "Deconvolving chunks: 100%|███████████████████████| 1/1 [03:06<00:00, 186.17s/it]\n"
     ]
    },
    {
     "name": "stdout",
     "output_type": "stream",
     "text": [
      "Estimation for 0.28 and 0.19 done\n",
      "It took: 186.31699991226196 seconds.\n",
      "[0.11960883803600067, 0.8723239766190048]\n"
     ]
    },
    {
     "name": "stderr",
     "output_type": "stream",
     "text": [
      "Initial filtering of formulas: 100%|██████████████| 2/2 [00:00<00:00, 60.66it/s]\n",
      "Computing chunks: 100%|████████████████████████| 2/2 [00:00<00:00, 92182.51it/s]\n",
      "Splitting the experimental spectrum into chunks: 131072it [00:00, 3400712.70it/s]\n",
      "Deconvolving chunks: 100%|███████████████████████| 1/1 [03:47<00:00, 227.15s/it]\n"
     ]
    },
    {
     "name": "stdout",
     "output_type": "stream",
     "text": [
      "Estimation for 0.28 and 0.2 done\n",
      "It took: 227.29856610298157 seconds.\n",
      "[0.11976301049000067, 0.8713899084940049]\n"
     ]
    },
    {
     "name": "stderr",
     "output_type": "stream",
     "text": [
      "Initial filtering of formulas: 100%|██████████████| 2/2 [00:00<00:00, 59.33it/s]\n",
      "Computing chunks: 100%|████████████████████████| 2/2 [00:00<00:00, 38657.18it/s]\n",
      "Splitting the experimental spectrum into chunks: 131072it [00:00, 3454780.80it/s]\n",
      "Deconvolving chunks: 100%|███████████████████████| 1/1 [03:02<00:00, 182.46s/it]\n"
     ]
    },
    {
     "name": "stdout",
     "output_type": "stream",
     "text": [
      "Estimation for 0.28 and 0.21000000000000002 done\n",
      "It took: 182.6041042804718 seconds.\n",
      "[0.11985661784600067, 0.8707630753460048]\n"
     ]
    },
    {
     "name": "stderr",
     "output_type": "stream",
     "text": [
      "Initial filtering of formulas: 100%|██████████████| 2/2 [00:00<00:00, 54.70it/s]\n",
      "Computing chunks: 100%|████████████████████████| 2/2 [00:00<00:00, 71697.50it/s]\n",
      "Splitting the experimental spectrum into chunks: 131072it [00:00, 3377915.91it/s]\n",
      "Deconvolving chunks: 100%|███████████████████████| 1/1 [02:59<00:00, 179.95s/it]\n"
     ]
    },
    {
     "name": "stdout",
     "output_type": "stream",
     "text": [
      "Estimation for 0.28 and 0.22 done\n",
      "It took: 180.10260033607483 seconds.\n",
      "[0.11994407804900066, 0.8701358602040049]\n"
     ]
    },
    {
     "name": "stderr",
     "output_type": "stream",
     "text": [
      "Initial filtering of formulas: 100%|██████████████| 2/2 [00:00<00:00, 60.57it/s]\n",
      "Computing chunks: 100%|████████████████████████| 2/2 [00:00<00:00, 67108.86it/s]\n",
      "Splitting the experimental spectrum into chunks: 131072it [00:00, 3312640.10it/s]\n",
      "Deconvolving chunks: 100%|███████████████████████| 1/1 [02:59<00:00, 179.19s/it]\n"
     ]
    },
    {
     "name": "stdout",
     "output_type": "stream",
     "text": [
      "Estimation for 0.28 and 0.23 done\n",
      "It took: 179.33800625801086 seconds.\n",
      "[0.11990782932000067, 0.8701479385850048]\n"
     ]
    },
    {
     "name": "stderr",
     "output_type": "stream",
     "text": [
      "Initial filtering of formulas: 100%|██████████████| 2/2 [00:00<00:00, 59.46it/s]\n",
      "Computing chunks: 100%|████████████████████████| 2/2 [00:00<00:00, 89240.51it/s]\n",
      "Splitting the experimental spectrum into chunks: 131072it [00:00, 3345458.28it/s]\n",
      "Deconvolving chunks: 100%|███████████████████████| 1/1 [03:04<00:00, 184.66s/it]\n"
     ]
    },
    {
     "name": "stdout",
     "output_type": "stream",
     "text": [
      "Estimation for 0.28 and 0.24000000000000002 done\n",
      "It took: 184.80910325050354 seconds.\n",
      "[0.11986890056600066, 0.8701707411380049]\n"
     ]
    },
    {
     "name": "stderr",
     "output_type": "stream",
     "text": [
      "Initial filtering of formulas: 100%|██████████████| 2/2 [00:00<00:00, 58.12it/s]\n",
      "Computing chunks: 100%|████████████████████████| 2/2 [00:00<00:00, 95325.09it/s]\n",
      "Splitting the experimental spectrum into chunks: 131072it [00:00, 3348943.18it/s]\n",
      "Deconvolving chunks: 100%|███████████████████████| 1/1 [02:41<00:00, 161.23s/it]\n"
     ]
    },
    {
     "name": "stdout",
     "output_type": "stream",
     "text": [
      "Estimation for 0.28 and 0.25 done\n",
      "It took: 161.37604355812073 seconds.\n",
      "[0.11985643210900067, 0.8701662125730049]\n"
     ]
    },
    {
     "name": "stderr",
     "output_type": "stream",
     "text": [
      "Initial filtering of formulas: 100%|██████████████| 2/2 [00:00<00:00, 59.03it/s]\n",
      "Computing chunks: 100%|████████████████████████| 2/2 [00:00<00:00, 87381.33it/s]\n",
      "Splitting the experimental spectrum into chunks: 131072it [00:00, 3329855.50it/s]\n",
      "Deconvolving chunks: 100%|███████████████████████| 1/1 [03:00<00:00, 180.99s/it]\n"
     ]
    },
    {
     "name": "stdout",
     "output_type": "stream",
     "text": [
      "Estimation for 0.28 and 0.26 done\n",
      "It took: 181.14010882377625 seconds.\n",
      "[0.11978874780500066, 0.8702065591580049]\n"
     ]
    },
    {
     "name": "stderr",
     "output_type": "stream",
     "text": [
      "Initial filtering of formulas: 100%|██████████████| 2/2 [00:00<00:00, 59.61it/s]\n",
      "Computing chunks: 100%|████████████████████████| 2/2 [00:00<00:00, 95325.09it/s]\n",
      "Splitting the experimental spectrum into chunks: 131072it [00:00, 3220596.45it/s]\n",
      "Deconvolving chunks: 100%|███████████████████████| 1/1 [03:15<00:00, 195.75s/it]\n"
     ]
    },
    {
     "name": "stdout",
     "output_type": "stream",
     "text": [
      "Estimation for 0.28 and 0.27 done\n",
      "It took: 195.89536499977112 seconds.\n",
      "[0.11973951324700066, 0.8702317456060049]\n"
     ]
    },
    {
     "name": "stderr",
     "output_type": "stream",
     "text": [
      "Initial filtering of formulas: 100%|██████████████| 2/2 [00:00<00:00, 58.91it/s]\n",
      "Computing chunks: 100%|████████████████████████| 2/2 [00:00<00:00, 94254.02it/s]\n",
      "Splitting the experimental spectrum into chunks: 131072it [00:00, 3351147.91it/s]\n",
      "Deconvolving chunks: 100%|███████████████████████| 1/1 [03:12<00:00, 192.55s/it]\n"
     ]
    },
    {
     "name": "stdout",
     "output_type": "stream",
     "text": [
      "Estimation for 0.28 and 0.28 done\n",
      "It took: 192.6969509124756 seconds.\n",
      "[0.11954088703300067, 0.8703875566730049]\n"
     ]
    },
    {
     "name": "stderr",
     "output_type": "stream",
     "text": [
      "Initial filtering of formulas: 100%|██████████████| 2/2 [00:00<00:00, 61.65it/s]\n",
      "Computing chunks: 100%|████████████████████████| 2/2 [00:00<00:00, 95325.09it/s]\n",
      "Splitting the experimental spectrum into chunks: 131072it [00:00, 3404060.77it/s]\n",
      "Deconvolving chunks: 100%|███████████████████████| 1/1 [02:56<00:00, 176.85s/it]\n"
     ]
    },
    {
     "name": "stdout",
     "output_type": "stream",
     "text": [
      "Estimation for 0.28 and 0.29000000000000004 done\n",
      "It took: 176.99829244613647 seconds.\n",
      "[0.11946008972600067, 0.8704434165360049]\n"
     ]
    },
    {
     "name": "stderr",
     "output_type": "stream",
     "text": [
      "Initial filtering of formulas: 100%|██████████████| 2/2 [00:00<00:00, 59.48it/s]\n",
      "Computing chunks: 100%|████████████████████████| 2/2 [00:00<00:00, 90200.09it/s]\n",
      "Splitting the experimental spectrum into chunks: 131072it [00:00, 3379223.99it/s]\n",
      "Deconvolving chunks: 100%|███████████████████████| 1/1 [04:11<00:00, 251.34s/it]\n"
     ]
    },
    {
     "name": "stdout",
     "output_type": "stream",
     "text": [
      "Estimation for 0.29000000000000004 and 0.01 done\n",
      "It took: 251.48896861076355 seconds.\n",
      "[0.3828158271040021, 0.6171841728960035]\n"
     ]
    },
    {
     "name": "stderr",
     "output_type": "stream",
     "text": [
      "Initial filtering of formulas: 100%|██████████████| 2/2 [00:00<00:00, 58.02it/s]\n",
      "Computing chunks: 100%|████████████████████████| 2/2 [00:00<00:00, 50231.19it/s]\n",
      "Splitting the experimental spectrum into chunks: 131072it [00:00, 3270701.22it/s]\n",
      "Deconvolving chunks: 100%|███████████████████████| 1/1 [03:04<00:00, 184.82s/it]\n"
     ]
    },
    {
     "name": "stdout",
     "output_type": "stream",
     "text": [
      "Estimation for 0.29000000000000004 and 0.02 done\n",
      "It took: 184.96716284751892 seconds.\n",
      "[0.16786639129200095, 0.8317222825200047]\n"
     ]
    },
    {
     "name": "stderr",
     "output_type": "stream",
     "text": [
      "Initial filtering of formulas: 100%|██████████████| 2/2 [00:00<00:00, 59.30it/s]\n",
      "Computing chunks: 100%|████████████████████████| 2/2 [00:00<00:00, 85598.04it/s]\n",
      "Splitting the experimental spectrum into chunks: 131072it [00:00, 3260227.21it/s]\n",
      "Deconvolving chunks: 100%|███████████████████████| 1/1 [03:19<00:00, 199.59s/it]\n"
     ]
    },
    {
     "name": "stdout",
     "output_type": "stream",
     "text": [
      "Estimation for 0.29000000000000004 and 0.03 done\n",
      "It took: 199.7723433971405 seconds.\n",
      "[0.13849879703100076, 0.8607823845050048]\n"
     ]
    },
    {
     "name": "stderr",
     "output_type": "stream",
     "text": [
      "Initial filtering of formulas: 100%|██████████████| 2/2 [00:00<00:00, 59.60it/s]\n",
      "Computing chunks: 100%|████████████████████████| 2/2 [00:00<00:00, 92182.51it/s]\n",
      "Splitting the experimental spectrum into chunks: 131072it [00:00, 3320102.27it/s]\n",
      "Deconvolving chunks: 100%|███████████████████████| 1/1 [03:00<00:00, 180.04s/it]\n"
     ]
    },
    {
     "name": "stdout",
     "output_type": "stream",
     "text": [
      "Estimation for 0.29000000000000004 and 0.04 done\n",
      "It took: 180.18710350990295 seconds.\n",
      "[0.13413341674900076, 0.8650380770320047]\n"
     ]
    },
    {
     "name": "stderr",
     "output_type": "stream",
     "text": [
      "Initial filtering of formulas: 100%|██████████████| 2/2 [00:00<00:00, 58.95it/s]\n",
      "Computing chunks: 100%|████████████████████████| 2/2 [00:00<00:00, 82241.25it/s]\n",
      "Splitting the experimental spectrum into chunks: 131072it [00:00, 3321787.40it/s]\n",
      "Deconvolving chunks: 100%|███████████████████████| 1/1 [03:08<00:00, 188.59s/it]\n"
     ]
    },
    {
     "name": "stdout",
     "output_type": "stream",
     "text": [
      "Estimation for 0.29000000000000004 and 0.05 done\n",
      "It took: 188.7337987422943 seconds.\n",
      "[0.12850501698500072, 0.8704802967940048]\n"
     ]
    },
    {
     "name": "stderr",
     "output_type": "stream",
     "text": [
      "Initial filtering of formulas: 100%|██████████████| 2/2 [00:00<00:00, 59.52it/s]\n",
      "Computing chunks: 100%|████████████████████████| 2/2 [00:00<00:00, 90200.09it/s]\n",
      "Splitting the experimental spectrum into chunks: 131072it [00:00, 3302035.04it/s]\n",
      "Deconvolving chunks: 100%|███████████████████████| 1/1 [02:58<00:00, 178.34s/it]\n"
     ]
    },
    {
     "name": "stdout",
     "output_type": "stream",
     "text": [
      "Estimation for 0.29000000000000004 and 0.060000000000000005 done\n",
      "It took: 178.48770952224731 seconds.\n",
      "[0.12281491528700068, 0.8757898711560049]\n"
     ]
    },
    {
     "name": "stderr",
     "output_type": "stream",
     "text": [
      "Initial filtering of formulas: 100%|██████████████| 2/2 [00:00<00:00, 56.35it/s]\n",
      "Computing chunks: 100%|████████████████████████| 2/2 [00:00<00:00, 86480.49it/s]\n",
      "Splitting the experimental spectrum into chunks: 131072it [00:00, 3084287.91it/s]\n",
      "Deconvolving chunks: 100%|███████████████████████| 1/1 [02:31<00:00, 151.94s/it]\n"
     ]
    },
    {
     "name": "stdout",
     "output_type": "stream",
     "text": [
      "Estimation for 0.29000000000000004 and 0.06999999999999999 done\n",
      "It took: 152.08848881721497 seconds.\n",
      "[0.12071851643600066, 0.8773020242050049]\n"
     ]
    },
    {
     "name": "stderr",
     "output_type": "stream",
     "text": [
      "Initial filtering of formulas: 100%|██████████████| 2/2 [00:00<00:00, 59.97it/s]\n",
      "Computing chunks: 100%|████████████████████████| 2/2 [00:00<00:00, 49636.73it/s]\n",
      "Splitting the experimental spectrum into chunks: 131072it [00:00, 3354828.91it/s]\n",
      "Deconvolving chunks: 100%|███████████████████████| 1/1 [02:57<00:00, 177.21s/it]\n"
     ]
    },
    {
     "name": "stdout",
     "output_type": "stream",
     "text": [
      "Estimation for 0.29000000000000004 and 0.08 done\n",
      "It took: 177.3880774974823 seconds.\n",
      "[0.12078031160800067, 0.8763424826610049]\n"
     ]
    },
    {
     "name": "stderr",
     "output_type": "stream",
     "text": [
      "Initial filtering of formulas: 100%|██████████████| 2/2 [00:00<00:00, 55.23it/s]\n",
      "Computing chunks: 100%|████████████████████████| 2/2 [00:00<00:00, 49056.19it/s]\n",
      "Splitting the experimental spectrum into chunks: 131072it [00:00, 3090356.13it/s]\n",
      "Deconvolving chunks: 100%|███████████████████████| 1/1 [02:56<00:00, 176.39s/it]\n"
     ]
    },
    {
     "name": "stdout",
     "output_type": "stream",
     "text": [
      "Estimation for 0.29000000000000004 and 0.09 done\n",
      "It took: 176.5710792541504 seconds.\n",
      "[0.12092620929800067, 0.8756212291060049]\n"
     ]
    },
    {
     "name": "stderr",
     "output_type": "stream",
     "text": [
      "Initial filtering of formulas: 100%|██████████████| 2/2 [00:00<00:00, 61.12it/s]\n",
      "Computing chunks: 100%|████████████████████████| 2/2 [00:00<00:00, 87381.33it/s]\n",
      "Splitting the experimental spectrum into chunks: 131072it [00:00, 3336342.31it/s]\n",
      "Deconvolving chunks: 100%|███████████████████████| 1/1 [03:13<00:00, 193.58s/it]\n"
     ]
    },
    {
     "name": "stdout",
     "output_type": "stream",
     "text": [
      "Estimation for 0.29000000000000004 and 0.09999999999999999 done\n",
      "It took: 193.7254123687744 seconds.\n",
      "[0.12110324374900067, 0.8743392807750049]\n"
     ]
    },
    {
     "name": "stderr",
     "output_type": "stream",
     "text": [
      "Initial filtering of formulas: 100%|██████████████| 2/2 [00:00<00:00, 58.20it/s]\n",
      "Computing chunks: 100%|████████████████████████| 2/2 [00:00<00:00, 93206.76it/s]\n",
      "Splitting the experimental spectrum into chunks: 131072it [00:00, 3404629.96it/s]\n",
      "Deconvolving chunks: 100%|███████████████████████| 1/1 [03:15<00:00, 195.58s/it]\n"
     ]
    },
    {
     "name": "stdout",
     "output_type": "stream",
     "text": [
      "Estimation for 0.29000000000000004 and 0.11 done\n",
      "It took: 195.72305727005005 seconds.\n",
      "[0.12097923494900066, 0.8743026823020049]\n"
     ]
    },
    {
     "name": "stderr",
     "output_type": "stream",
     "text": [
      "Initial filtering of formulas: 100%|██████████████| 2/2 [00:00<00:00, 62.11it/s]\n",
      "Computing chunks: 100%|████████████████████████| 2/2 [00:00<00:00, 98689.51it/s]\n",
      "Splitting the experimental spectrum into chunks: 131072it [00:00, 3445923.94it/s]\n",
      "Deconvolving chunks: 100%|███████████████████████| 1/1 [03:27<00:00, 207.11s/it]\n"
     ]
    },
    {
     "name": "stdout",
     "output_type": "stream",
     "text": [
      "Estimation for 0.29000000000000004 and 0.12 done\n",
      "It took: 207.2506549358368 seconds.\n",
      "[0.12089842902900066, 0.8743540843350048]\n"
     ]
    },
    {
     "name": "stderr",
     "output_type": "stream",
     "text": [
      "Initial filtering of formulas: 100%|██████████████| 2/2 [00:00<00:00, 62.54it/s]\n",
      "Computing chunks: 100%|████████████████████████| 2/2 [00:00<00:00, 96420.78it/s]\n",
      "Splitting the experimental spectrum into chunks: 131072it [00:00, 3466282.14it/s]\n",
      "Deconvolving chunks: 100%|███████████████████████| 1/1 [04:06<00:00, 246.59s/it]\n"
     ]
    },
    {
     "name": "stdout",
     "output_type": "stream",
     "text": [
      "Estimation for 0.29000000000000004 and 0.13 done\n",
      "It took: 246.72878575325012 seconds.\n",
      "[0.12068203598500067, 0.8744963754940048]\n"
     ]
    },
    {
     "name": "stderr",
     "output_type": "stream",
     "text": [
      "Initial filtering of formulas: 100%|██████████████| 2/2 [00:00<00:00, 61.37it/s]\n",
      "Computing chunks: 100%|████████████████████████| 2/2 [00:00<00:00, 90200.09it/s]\n",
      "Splitting the experimental spectrum into chunks: 131072it [00:00, 3434063.64it/s]\n",
      "Deconvolving chunks: 100%|███████████████████████| 1/1 [04:52<00:00, 292.41s/it]\n"
     ]
    },
    {
     "name": "stdout",
     "output_type": "stream",
     "text": [
      "Estimation for 0.29000000000000004 and 0.14 done\n",
      "It took: 292.5900354385376 seconds.\n",
      "[0.12046703264900066, 0.8745316235980048]\n"
     ]
    },
    {
     "name": "stderr",
     "output_type": "stream",
     "text": [
      "Initial filtering of formulas: 100%|██████████████| 2/2 [00:00<00:00, 41.03it/s]\n",
      "Computing chunks: 100%|████████████████████████| 2/2 [00:00<00:00, 59493.67it/s]\n",
      "Splitting the experimental spectrum into chunks: 131072it [00:00, 2193600.67it/s]\n",
      "Deconvolving chunks: 100%|███████████████████████| 1/1 [04:08<00:00, 248.67s/it]\n"
     ]
    },
    {
     "name": "stdout",
     "output_type": "stream",
     "text": [
      "Estimation for 0.29000000000000004 and 0.15000000000000002 done\n",
      "It took: 248.89751982688904 seconds.\n",
      "[0.12029975674000067, 0.8744388965270049]\n"
     ]
    },
    {
     "name": "stderr",
     "output_type": "stream",
     "text": [
      "Initial filtering of formulas: 100%|██████████████| 2/2 [00:00<00:00, 49.38it/s]\n",
      "Computing chunks: 100%|████████████████████████| 2/2 [00:00<00:00, 28149.69it/s]\n",
      "Splitting the experimental spectrum into chunks: 131072it [00:00, 2393864.69it/s]\n",
      "Deconvolving chunks: 100%|███████████████████████| 1/1 [04:16<00:00, 256.14s/it]\n"
     ]
    },
    {
     "name": "stdout",
     "output_type": "stream",
     "text": [
      "Estimation for 0.29000000000000004 and 0.16 done\n",
      "It took: 256.41373562812805 seconds.\n",
      "[0.12021628199900067, 0.8736645105370049]\n"
     ]
    },
    {
     "name": "stderr",
     "output_type": "stream",
     "text": [
      "Initial filtering of formulas: 100%|██████████████| 2/2 [00:00<00:00, 47.28it/s]\n",
      "Computing chunks: 100%|████████████████████████| 2/2 [00:00<00:00, 15887.52it/s]\n",
      "Splitting the experimental spectrum into chunks: 131072it [00:00, 2226985.28it/s]\n",
      "Deconvolving chunks: 100%|███████████████████████| 1/1 [04:19<00:00, 259.16s/it]\n"
     ]
    },
    {
     "name": "stdout",
     "output_type": "stream",
     "text": [
      "Estimation for 0.29000000000000004 and 0.17 done\n",
      "It took: 259.37865567207336 seconds.\n",
      "[0.11998369373300066, 0.8735729731540048]\n"
     ]
    },
    {
     "name": "stderr",
     "output_type": "stream",
     "text": [
      "Initial filtering of formulas: 100%|██████████████| 2/2 [00:00<00:00, 52.86it/s]\n",
      "Computing chunks: 100%|████████████████████████| 2/2 [00:00<00:00, 56679.78it/s]\n",
      "Splitting the experimental spectrum into chunks: 131072it [00:00, 2826043.09it/s]\n",
      "Deconvolving chunks: 100%|███████████████████████| 1/1 [04:20<00:00, 260.15s/it]\n"
     ]
    },
    {
     "name": "stdout",
     "output_type": "stream",
     "text": [
      "Estimation for 0.29000000000000004 and 0.18000000000000002 done\n",
      "It took: 260.33259105682373 seconds.\n",
      "[0.11975500983400067, 0.8736611963870049]\n"
     ]
    },
    {
     "name": "stderr",
     "output_type": "stream",
     "text": [
      "Initial filtering of formulas: 100%|██████████████| 2/2 [00:00<00:00, 49.60it/s]\n",
      "Computing chunks: 100%|████████████████████████| 2/2 [00:00<00:00, 30066.70it/s]\n",
      "Splitting the experimental spectrum into chunks: 131072it [00:00, 2645766.16it/s]\n",
      "Deconvolving chunks: 100%|███████████████████████| 1/1 [03:57<00:00, 237.58s/it]\n"
     ]
    },
    {
     "name": "stdout",
     "output_type": "stream",
     "text": [
      "Estimation for 0.29000000000000004 and 0.19 done\n",
      "It took: 237.8028621673584 seconds.\n",
      "[0.11957420916600067, 0.8729269961920049]\n"
     ]
    },
    {
     "name": "stderr",
     "output_type": "stream",
     "text": [
      "Initial filtering of formulas: 100%|██████████████| 2/2 [00:00<00:00, 24.60it/s]\n",
      "Computing chunks: 100%|████████████████████████| 2/2 [00:00<00:00, 19831.22it/s]\n",
      "Splitting the experimental spectrum into chunks: 131072it [00:00, 1312702.37it/s]\n",
      "Deconvolving chunks: 100%|███████████████████████| 1/1 [04:42<00:00, 282.01s/it]\n"
     ]
    },
    {
     "name": "stdout",
     "output_type": "stream",
     "text": [
      "Estimation for 0.29000000000000004 and 0.2 done\n",
      "It took: 282.3981702327728 seconds.\n",
      "[0.11964009059000066, 0.8720638190140049]\n"
     ]
    },
    {
     "name": "stderr",
     "output_type": "stream",
     "text": [
      "Initial filtering of formulas: 100%|██████████████| 2/2 [00:00<00:00, 54.03it/s]\n",
      "Computing chunks: 100%|████████████████████████| 2/2 [00:00<00:00, 54471.48it/s]\n",
      "Splitting the experimental spectrum into chunks: 131072it [00:00, 2828427.59it/s]\n",
      "Deconvolving chunks: 100%|███████████████████████| 1/1 [04:11<00:00, 251.28s/it]\n"
     ]
    },
    {
     "name": "stdout",
     "output_type": "stream",
     "text": [
      "Estimation for 0.29000000000000004 and 0.21000000000000002 done\n",
      "It took: 251.4801540374756 seconds.\n",
      "[0.11979389841100066, 0.8711573764850049]\n"
     ]
    },
    {
     "name": "stderr",
     "output_type": "stream",
     "text": [
      "Initial filtering of formulas: 100%|██████████████| 2/2 [00:00<00:00, 25.93it/s]\n",
      "Computing chunks: 100%|████████████████████████| 2/2 [00:00<00:00, 29228.60it/s]\n",
      "Splitting the experimental spectrum into chunks: 131072it [00:00, 2234461.82it/s]\n",
      "Deconvolving chunks: 100%|███████████████████████| 1/1 [04:14<00:00, 254.64s/it]\n"
     ]
    },
    {
     "name": "stdout",
     "output_type": "stream",
     "text": [
      "Estimation for 0.29000000000000004 and 0.22 done\n",
      "It took: 254.87788724899292 seconds.\n",
      "[0.11993725714300067, 0.8702714072470049]\n"
     ]
    },
    {
     "name": "stderr",
     "output_type": "stream",
     "text": [
      "Initial filtering of formulas: 100%|██████████████| 2/2 [00:00<00:00, 36.77it/s]\n",
      "Computing chunks: 100%|████████████████████████| 2/2 [00:00<00:00, 25731.93it/s]\n",
      "Splitting the experimental spectrum into chunks: 131072it [00:00, 1977325.52it/s]\n",
      "Deconvolving chunks: 100%|███████████████████████| 1/1 [04:31<00:00, 271.67s/it]\n"
     ]
    },
    {
     "name": "stdout",
     "output_type": "stream",
     "text": [
      "Estimation for 0.29000000000000004 and 0.23 done\n",
      "It took: 271.90264081954956 seconds.\n",
      "[0.11991311140600067, 0.8701826978270049]\n"
     ]
    },
    {
     "name": "stderr",
     "output_type": "stream",
     "text": [
      "Initial filtering of formulas: 100%|██████████████| 2/2 [00:00<00:00, 35.23it/s]\n",
      "Computing chunks: 100%|████████████████████████| 2/2 [00:00<00:00, 37786.52it/s]\n",
      "Splitting the experimental spectrum into chunks: 131072it [00:00, 2863236.97it/s]\n",
      "Deconvolving chunks: 100%|███████████████████████| 1/1 [04:15<00:00, 255.64s/it]\n"
     ]
    },
    {
     "name": "stdout",
     "output_type": "stream",
     "text": [
      "Estimation for 0.29000000000000004 and 0.24000000000000002 done\n",
      "It took: 255.8779411315918 seconds.\n",
      "[0.11987823118300067, 0.8701976128360048]\n"
     ]
    },
    {
     "name": "stderr",
     "output_type": "stream",
     "text": [
      "Initial filtering of formulas: 100%|██████████████| 2/2 [00:00<00:00, 54.10it/s]\n",
      "Computing chunks: 100%|████████████████████████| 2/2 [00:00<00:00, 60787.01it/s]\n",
      "Splitting the experimental spectrum into chunks: 131072it [00:00, 2921389.36it/s]\n",
      "Deconvolving chunks: 100%|███████████████████████| 1/1 [05:40<00:00, 340.82s/it]\n"
     ]
    },
    {
     "name": "stdout",
     "output_type": "stream",
     "text": [
      "Estimation for 0.29000000000000004 and 0.25 done\n",
      "It took: 340.9900326728821 seconds.\n",
      "[0.11986254243800067, 0.8702034362490049]\n"
     ]
    },
    {
     "name": "stderr",
     "output_type": "stream",
     "text": [
      "Initial filtering of formulas: 100%|██████████████| 2/2 [00:00<00:00, 59.07it/s]\n",
      "Computing chunks: 100%|████████████████████████| 2/2 [00:00<00:00, 79891.50it/s]\n",
      "Splitting the experimental spectrum into chunks: 131072it [00:00, 3219238.60it/s]\n",
      "Deconvolving chunks: 100%|███████████████████████| 1/1 [03:51<00:00, 231.45s/it]\n"
     ]
    },
    {
     "name": "stdout",
     "output_type": "stream",
     "text": [
      "Estimation for 0.29000000000000004 and 0.26 done\n",
      "It took: 231.60606169700623 seconds.\n",
      "[0.11979768454000067, 0.8702420470860048]\n"
     ]
    },
    {
     "name": "stderr",
     "output_type": "stream",
     "text": [
      "Initial filtering of formulas: 100%|██████████████| 2/2 [00:00<00:00, 56.48it/s]\n",
      "Computing chunks: 100%|████████████████████████| 2/2 [00:00<00:00, 84733.41it/s]\n",
      "Splitting the experimental spectrum into chunks: 131072it [00:00, 3070609.67it/s]\n",
      "Deconvolving chunks: 100%|███████████████████████| 1/1 [04:20<00:00, 260.71s/it]\n"
     ]
    },
    {
     "name": "stdout",
     "output_type": "stream",
     "text": [
      "Estimation for 0.29000000000000004 and 0.27 done\n",
      "It took: 260.87420630455017 seconds.\n",
      "[0.11975341765500067, 0.8702754283270049]\n"
     ]
    },
    {
     "name": "stderr",
     "output_type": "stream",
     "text": [
      "Initial filtering of formulas: 100%|██████████████| 2/2 [00:00<00:00, 56.97it/s]\n",
      "Computing chunks: 100%|████████████████████████| 2/2 [00:00<00:00, 73584.28it/s]\n",
      "Splitting the experimental spectrum into chunks: 131072it [00:00, 3120545.22it/s]\n",
      "Deconvolving chunks: 100%|███████████████████████| 1/1 [04:06<00:00, 246.28s/it]\n"
     ]
    },
    {
     "name": "stdout",
     "output_type": "stream",
     "text": [
      "Estimation for 0.29000000000000004 and 0.28 done\n",
      "It took: 246.46186447143555 seconds.\n",
      "[0.11957072391700066, 0.8704346193330049]\n"
     ]
    },
    {
     "name": "stderr",
     "output_type": "stream",
     "text": [
      "Initial filtering of formulas: 100%|██████████████| 2/2 [00:00<00:00, 59.84it/s]\n",
      "Computing chunks: 100%|████████████████████████| 2/2 [00:00<00:00, 84733.41it/s]\n",
      "Splitting the experimental spectrum into chunks: 131072it [00:00, 3237685.82it/s]\n",
      "Deconvolving chunks: 100%|███████████████████████| 1/1 [04:12<00:00, 252.95s/it]"
     ]
    },
    {
     "name": "stdout",
     "output_type": "stream",
     "text": [
      "Estimation for 0.29000000000000004 and 0.29000000000000004 done\n",
      "It took: 253.10333514213562 seconds.\n",
      "[0.11949059176000067, 0.8704987890740049]\n"
     ]
    },
    {
     "name": "stderr",
     "output_type": "stream",
     "text": [
      "\n"
     ]
    }
   ],
   "source": [
    "# list_of_estimation_results = []\n",
    "# for kappa in np.arange(start=lower_limit, stop=upper_limit, step=step):\n",
    "#     fixed_kappa = []\n",
    "#     for kappa_prime in np.arange(start=lower_limit, stop=upper_limit, step=step):\n",
    "#         start = time.time()\n",
    "#         estimation = estimate_proportions(mix, [comp0, comp1], \n",
    "#                                    MTD=kappa, MTD_th=kappa_prime, verbose=False, solver=pulp.GUROBI(msg=False))\n",
    "#         end = time.time()\n",
    "#         fixed_kappa.append(estimation['proportions'])\n",
    "#         print('Estimation for '+str(kappa)+' and '+str(kappa_prime)+' done')\n",
    "#         print('It took: '+str(end-start)+' seconds.')\n",
    "#         print(estimation['proportions'])\n",
    "#     list_of_estimation_results.append(fixed_kappa)"
   ]
  },
  {
   "cell_type": "code",
   "execution_count": 37,
   "id": "09d93410",
   "metadata": {},
   "outputs": [],
   "source": [
    "# list_of_dataframes_with_results = []\n",
    "# for component_number in range(len([comp0, comp1])):\n",
    "#     results_for_component = pd.DataFrame(columns=np.arange(start=lower_limit, stop=upper_limit, step=step),\n",
    "#                                    index=np.arange(start=lower_limit, stop=upper_limit, step=step))\n",
    "#     for i in range(results_for_component.shape[0]):\n",
    "#         for j in range(results_for_component.shape[1]):\n",
    "#             results_for_component.iloc[i,j] = list_of_estimation_results[i][j][component_number]\n",
    "    \n",
    "#     list_of_dataframes_with_results.append(results_for_component)"
   ]
  },
  {
   "cell_type": "code",
   "execution_count": 38,
   "id": "83786863",
   "metadata": {},
   "outputs": [],
   "source": [
    "# with open('results_for_different_kappas.pkl', 'wb') as f:\n",
    "#     pickle.dump(list_of_dataframes_with_results, f)"
   ]
  },
  {
   "cell_type": "markdown",
   "id": "d4c80db0",
   "metadata": {},
   "source": [
    "#### Molar proportions"
   ]
  },
  {
   "cell_type": "code",
   "execution_count": 36,
   "id": "f3f90ded",
   "metadata": {},
   "outputs": [],
   "source": [
    "with open('results_for_different_kappas.pkl', 'rb') as f:\n",
    "    list_of_dataframes_with_results = pickle.load(f)\n",
    "#first coordinate: kappa,\n",
    "#second coordinate: kappa_prime"
   ]
  },
  {
   "cell_type": "code",
   "execution_count": 37,
   "id": "8dd641a4",
   "metadata": {},
   "outputs": [],
   "source": [
    "temp = []\n",
    "for nr_of_component, df in enumerate(list_of_dataframes_with_results):\n",
    "    temp.append(df/protons[nr_of_component])\n",
    "temp2 = []\n",
    "for df in temp:\n",
    "    temp2.append(df/sum(temp))\n",
    "list_of_dataframes_with_results = temp2\n",
    "del(temp)\n",
    "del(temp2)"
   ]
  },
  {
   "cell_type": "code",
   "execution_count": 38,
   "id": "70bc1109",
   "metadata": {},
   "outputs": [],
   "source": [
    "dataframes_ready_for_heatmap = []\n",
    "for i, df in enumerate(list_of_dataframes_with_results):\n",
    "    preprocessed_df = abs(df - molar_proportions[i])\n",
    "    dataframes_ready_for_heatmap.append(preprocessed_df)"
   ]
  },
  {
   "cell_type": "code",
   "execution_count": 39,
   "id": "a1618e29",
   "metadata": {},
   "outputs": [],
   "source": [
    "all_components_results_molar = sum(dataframes_ready_for_heatmap)"
   ]
  },
  {
   "cell_type": "markdown",
   "id": "7702cf7e",
   "metadata": {},
   "source": [
    "#### Visible proportions"
   ]
  },
  {
   "cell_type": "code",
   "execution_count": 40,
   "id": "37455dcb",
   "metadata": {},
   "outputs": [],
   "source": [
    "with open('results_for_different_kappas.pkl', 'rb') as f:\n",
    "    list_of_dataframes_with_results = pickle.load(f)\n",
    "#first coordinate: kappa,\n",
    "#second coordinate: kappa_prime"
   ]
  },
  {
   "cell_type": "code",
   "execution_count": 41,
   "id": "50e244e5",
   "metadata": {},
   "outputs": [],
   "source": [
    "dataframes_ready_for_heatmap = []\n",
    "for i, df in enumerate(list_of_dataframes_with_results):\n",
    "    preprocessed_df = abs(df - real_visible_proportions[i])\n",
    "    dataframes_ready_for_heatmap.append(preprocessed_df)"
   ]
  },
  {
   "cell_type": "code",
   "execution_count": 42,
   "id": "3a3d963c",
   "metadata": {},
   "outputs": [],
   "source": [
    "all_components_results_vis = sum(dataframes_ready_for_heatmap)"
   ]
  },
  {
   "cell_type": "code",
   "execution_count": 43,
   "id": "694f621c",
   "metadata": {},
   "outputs": [],
   "source": [
    "all_components_results_vis = all_components_results_vis.apply(pd.to_numeric, errors = 'coerce', axis=0)"
   ]
  },
  {
   "cell_type": "markdown",
   "id": "27d7ab4b",
   "metadata": {},
   "source": [
    "#### Both"
   ]
  },
  {
   "cell_type": "code",
   "execution_count": 44,
   "id": "aff3a793",
   "metadata": {},
   "outputs": [],
   "source": [
    "all_components_results_both = all_components_results_vis + all_components_results_molar"
   ]
  },
  {
   "cell_type": "code",
   "execution_count": 45,
   "id": "17aaeeb8",
   "metadata": {},
   "outputs": [],
   "source": [
    "all_components_results_both = all_components_results_both.apply(pd.to_numeric, errors = 'coerce', axis=0)"
   ]
  },
  {
   "cell_type": "code",
   "execution_count": 46,
   "id": "092a3a37",
   "metadata": {},
   "outputs": [
    {
     "data": {
      "text/plain": [
       "0.011008543679603217"
      ]
     },
     "execution_count": 46,
     "metadata": {},
     "output_type": "execute_result"
    }
   ],
   "source": [
    "all_components_results_both.min().min()"
   ]
  },
  {
   "cell_type": "code",
   "execution_count": 47,
   "id": "77048e53",
   "metadata": {},
   "outputs": [
    {
     "data": {
      "text/plain": [
       "0.011008543679603217"
      ]
     },
     "execution_count": 47,
     "metadata": {},
     "output_type": "execute_result"
    }
   ],
   "source": [
    "all_components_results_both[0.08][0.09]"
   ]
  },
  {
   "cell_type": "markdown",
   "id": "a929b49b",
   "metadata": {},
   "source": [
    "### Saving preprocessed spectra"
   ]
  },
  {
   "cell_type": "code",
   "execution_count": null,
   "id": "4491795e",
   "metadata": {},
   "outputs": [],
   "source": [
    "# for i, sp in enumerate(spectra_and_mixture):\n",
    "#     try:\n",
    "#         np.savetxt('preprocessed_'+str(names[i])+'.csv', np.array(sp.confs), delimiter=',')\n",
    "#     except IndexError:\n",
    "#         np.savetxt('preprocessed_mix.csv', np.array(sp.confs), delimiter=',')"
   ]
  },
  {
   "cell_type": "markdown",
   "id": "33704c2a",
   "metadata": {},
   "source": [
    "### Estimation"
   ]
  },
  {
   "cell_type": "markdown",
   "id": "73c60bbc",
   "metadata": {},
   "source": [
    "#### Area"
   ]
  },
  {
   "cell_type": "code",
   "execution_count": 48,
   "id": "27bcaa90",
   "metadata": {},
   "outputs": [
    {
     "name": "stdout",
     "output_type": "stream",
     "text": [
      "Set parameter Username\n",
      "Academic license - for non-commercial use only - expires 2023-11-10\n"
     ]
    },
    {
     "name": "stderr",
     "output_type": "stream",
     "text": [
      "Initial filtering of formulas: 100%|██████████████| 2/2 [00:00<00:00, 49.34it/s]\n"
     ]
    },
    {
     "name": "stdout",
     "output_type": "stream",
     "text": [
      "Removed theoretical spectra due to no matching experimental peaks: []\n",
      "Envelope bounds: [(-1.97165, 13.9718, 0), (-1.97165, 13.9718, 1)]\n"
     ]
    },
    {
     "name": "stderr",
     "output_type": "stream",
     "text": [
      "Computing chunks: 100%|████████████████████████| 2/2 [00:00<00:00, 83055.52it/s]\n"
     ]
    },
    {
     "name": "stdout",
     "output_type": "stream",
     "text": [
      "Number of chunks: 1\n",
      "ChunkIDs: [0, 0]\n",
      "Chunk bounds: [(-2.0616499999999998, 14.0618)]\n"
     ]
    },
    {
     "name": "stderr",
     "output_type": "stream",
     "text": [
      "Splitting the experimental spectrum into chunks: 131072it [00:00, 3121289.35it/s]\n"
     ]
    },
    {
     "name": "stdout",
     "output_type": "stream",
     "text": [
      "Ion currents in chunks: [1.0000000000000042]\n"
     ]
    },
    {
     "name": "stderr",
     "output_type": "stream",
     "text": [
      "\r",
      "Deconvolving chunks:   0%|                                | 0/1 [00:00<?, ?it/s]"
     ]
    },
    {
     "name": "stdout",
     "output_type": "stream",
     "text": [
      "Deconvolving chunk 0\n"
     ]
    },
    {
     "name": "stderr",
     "output_type": "stream",
     "text": [
      "/home/basia/.local/lib/python3.10/site-packages/pulp/pulp.py:1352: UserWarning: Spaces are not permitted in the name. Converted to '_'\n",
      "  warnings.warn(\"Spaces are not permitted in the name. Converted to '_'\")\n",
      "Deconvolving chunks: 100%|███████████████████████| 1/1 [02:42<00:00, 162.96s/it]"
     ]
    },
    {
     "name": "stdout",
     "output_type": "stream",
     "text": [
      "Chunk %i deconvolution status: Optimal\n",
      "Signal proportion in experimental spectrum: 0.9891180058439999\n",
      "Noise proportion in experimental spectrum: 0.010881994155000015\n",
      "Total explanation: 0.9999999999989999\n",
      "Noise proportion in combination of theoretical spectra: 0.021767335575\n"
     ]
    },
    {
     "name": "stderr",
     "output_type": "stream",
     "text": [
      "\n"
     ]
    }
   ],
   "source": [
    "estimation = estimate_proportions(mix, [comp0, comp1],\n",
    "                                   MTD=0.09, MTD_th=0.08, verbose=True, solver=pulp.GUROBI(msg=False), \n",
    "                                  what_to_compare='area')"
   ]
  },
  {
   "cell_type": "code",
   "execution_count": 49,
   "id": "7eafd1eb",
   "metadata": {},
   "outputs": [
    {
     "data": {
      "text/plain": [
       "0.02176733557500009"
      ]
     },
     "execution_count": 49,
     "metadata": {},
     "output_type": "execute_result"
    }
   ],
   "source": [
    "estimation['proportion_of_noise_in_theoretical']"
   ]
  },
  {
   "cell_type": "code",
   "execution_count": 51,
   "id": "f6326454",
   "metadata": {},
   "outputs": [
    {
     "data": {
      "text/plain": [
       "[0.11641497594500048, 0.8727030298990036]"
      ]
     },
     "execution_count": 51,
     "metadata": {},
     "output_type": "execute_result"
    }
   ],
   "source": [
    "estimated_visible_proportions = estimation['proportions']\n",
    "estimated_visible_proportions"
   ]
  },
  {
   "cell_type": "code",
   "execution_count": 53,
   "id": "6e0486da",
   "metadata": {},
   "outputs": [
    {
     "data": {
      "text/plain": [
       "[0.11761626406540927, 0.8823837359345907]"
      ]
     },
     "execution_count": 53,
     "metadata": {},
     "output_type": "execute_result"
    }
   ],
   "source": [
    "real_visible_proportions"
   ]
  },
  {
   "cell_type": "code",
   "execution_count": 50,
   "id": "5b863703",
   "metadata": {},
   "outputs": [
    {
     "data": {
      "text/plain": [
       "True"
      ]
     },
     "execution_count": 50,
     "metadata": {},
     "output_type": "execute_result"
    }
   ],
   "source": [
    "old_prop = 0.021767335575000123\n",
    "vortex_th_ok = np.isclose(estimation['proportion_of_noise_in_theoretical'], old_prop)\n",
    "vortex_th_ok"
   ]
  },
  {
   "cell_type": "code",
   "execution_count": 52,
   "id": "40a6a4c8",
   "metadata": {},
   "outputs": [
    {
     "data": {
      "text/plain": [
       "True"
      ]
     },
     "execution_count": 52,
     "metadata": {},
     "output_type": "execute_result"
    }
   ],
   "source": [
    "old_estimation = [0.11641497594500065, 0.8727030298990048]\n",
    "estimation_vis_ok = True\n",
    "for new_est, old_est in list(zip(estimated_visible_proportions, old_estimation)):\n",
    "    estimation_vis_ok = estimation_vis_ok and np.isclose(new_est, old_est)\n",
    "estimation_vis_ok"
   ]
  },
  {
   "cell_type": "markdown",
   "id": "d19a6aba",
   "metadata": {},
   "source": [
    "#### Concentration"
   ]
  },
  {
   "cell_type": "code",
   "execution_count": 54,
   "id": "53a186d7",
   "metadata": {},
   "outputs": [
    {
     "name": "stderr",
     "output_type": "stream",
     "text": [
      "Initial filtering of formulas: 100%|██████████████| 2/2 [00:00<00:00, 66.37it/s]\n"
     ]
    },
    {
     "name": "stdout",
     "output_type": "stream",
     "text": [
      "Removed theoretical spectra due to no matching experimental peaks: []\n",
      "Envelope bounds: [(-1.97165, 13.9718, 0), (-1.97165, 13.9718, 1)]\n"
     ]
    },
    {
     "name": "stderr",
     "output_type": "stream",
     "text": [
      "Computing chunks: 100%|████████████████████████| 2/2 [00:00<00:00, 96420.78it/s]\n"
     ]
    },
    {
     "name": "stdout",
     "output_type": "stream",
     "text": [
      "Number of chunks: 1\n",
      "ChunkIDs: [0, 0]\n",
      "Chunk bounds: [(-2.0616499999999998, 14.0618)]\n"
     ]
    },
    {
     "name": "stderr",
     "output_type": "stream",
     "text": [
      "Splitting the experimental spectrum into chunks: 131072it [00:00, 3553368.24it/s]\n"
     ]
    },
    {
     "name": "stdout",
     "output_type": "stream",
     "text": [
      "Ion currents in chunks: [1.0000000000000042]\n"
     ]
    },
    {
     "name": "stderr",
     "output_type": "stream",
     "text": [
      "\r",
      "Deconvolving chunks:   0%|                                | 0/1 [00:00<?, ?it/s]"
     ]
    },
    {
     "name": "stdout",
     "output_type": "stream",
     "text": [
      "Deconvolving chunk 0\n"
     ]
    },
    {
     "name": "stderr",
     "output_type": "stream",
     "text": [
      "Deconvolving chunks: 100%|███████████████████████| 1/1 [02:43<00:00, 163.48s/it]"
     ]
    },
    {
     "name": "stdout",
     "output_type": "stream",
     "text": [
      "Chunk %i deconvolution status: Optimal\n",
      "Signal proportion in experimental spectrum: 0.9891180058439999\n",
      "Noise proportion in experimental spectrum: 0.010881994155000015\n",
      "Total explanation: 0.9999999999989999\n",
      "Noise proportion in combination of theoretical spectra: 0.021767335575\n"
     ]
    },
    {
     "name": "stderr",
     "output_type": "stream",
     "text": [
      "\n"
     ]
    }
   ],
   "source": [
    "estimation = estimate_proportions(mix, [comp0, comp1],\n",
    "                                   MTD=0.09, MTD_th=0.08, verbose=True, solver=pulp.GUROBI(msg=False), \n",
    "                                  what_to_compare='concentration')"
   ]
  },
  {
   "cell_type": "code",
   "execution_count": 55,
   "id": "8eb8b604",
   "metadata": {},
   "outputs": [
    {
     "data": {
      "text/plain": [
       "[0.09094784882652851, 0.9090521511734716]"
      ]
     },
     "execution_count": 55,
     "metadata": {},
     "output_type": "execute_result"
    }
   ],
   "source": [
    "estimated_molar_proportions = estimation['proportions']\n",
    "estimated_molar_proportions"
   ]
  },
  {
   "cell_type": "code",
   "execution_count": 57,
   "id": "3b635cb8",
   "metadata": {},
   "outputs": [
    {
     "data": {
      "text/plain": [
       "[0.09088457406472417, 0.9091154259352758]"
      ]
     },
     "execution_count": 57,
     "metadata": {},
     "output_type": "execute_result"
    }
   ],
   "source": [
    "molar_proportions"
   ]
  },
  {
   "cell_type": "code",
   "execution_count": 56,
   "id": "66e1cc6b",
   "metadata": {},
   "outputs": [
    {
     "data": {
      "text/plain": [
       "True"
      ]
     },
     "execution_count": 56,
     "metadata": {},
     "output_type": "execute_result"
    }
   ],
   "source": [
    "old_estimation_molar = [0.09094784882652851, 0.9090521511734715]\n",
    "estimation_molar_ok = True\n",
    "for new_est, old_est in list(zip(estimated_molar_proportions, old_estimation_molar)):\n",
    "    estimation_molar_ok = estimation_molar_ok and np.isclose(new_est, old_est)\n",
    "estimation_molar_ok"
   ]
  },
  {
   "cell_type": "code",
   "execution_count": 68,
   "id": "0a5a1ed7",
   "metadata": {},
   "outputs": [
    {
     "name": "stdout",
     "output_type": "stream",
     "text": [
      "Everything ok with estimation.\n"
     ]
    }
   ],
   "source": [
    "everything_ok = (vortex_th_ok and estimation_vis_ok) and estimation_molar_ok\n",
    "if everything_ok:\n",
    "    print('Everything ok with estimation.')\n",
    "else:\n",
    "    print('Problem with:')\n",
    "    print([el for el in ['vortex_th_ok', \n",
    "                        'estimation_vis_ok', \n",
    "                        'estimation_molar_ok'] if not globals()[el]])"
   ]
  },
  {
   "cell_type": "markdown",
   "id": "1db115f1",
   "metadata": {},
   "source": [
    "### Visualisation of our estimation"
   ]
  },
  {
   "cell_type": "code",
   "execution_count": 59,
   "id": "b2e46450",
   "metadata": {},
   "outputs": [],
   "source": [
    "ppm = np.array(mix.confs)[:,0]\n",
    "mix_ints = np.array(mix.confs)[:,1]"
   ]
  },
  {
   "cell_type": "code",
   "execution_count": 60,
   "id": "64bd6763",
   "metadata": {},
   "outputs": [],
   "source": [
    "components_ints = []\n",
    "for spectrum in spectra:\n",
    "    components_ints.append(np.array(spectrum.confs)[:,1])#.reshape(-1,1))"
   ]
  },
  {
   "cell_type": "code",
   "execution_count": 61,
   "id": "2323037d",
   "metadata": {},
   "outputs": [],
   "source": [
    "p = estimated_visible_proportions"
   ]
  },
  {
   "cell_type": "code",
   "execution_count": 62,
   "id": "f2276417",
   "metadata": {},
   "outputs": [],
   "source": [
    "p = np.array(p).reshape(len(p),1)"
   ]
  },
  {
   "cell_type": "code",
   "execution_count": 63,
   "id": "7817f481",
   "metadata": {},
   "outputs": [],
   "source": [
    "names_matmul = ['sum_up_to_'+str(i+1) for i in range(len(spectra))]"
   ]
  },
  {
   "cell_type": "code",
   "execution_count": 64,
   "id": "f9c512a9",
   "metadata": {},
   "outputs": [],
   "source": [
    "components_ints = [comp_int.reshape(-1,1) for comp_int in components_ints]"
   ]
  },
  {
   "cell_type": "code",
   "execution_count": 65,
   "id": "0baf8639",
   "metadata": {},
   "outputs": [],
   "source": [
    "X = np.concatenate(components_ints, axis=1)"
   ]
  },
  {
   "cell_type": "code",
   "execution_count": 66,
   "id": "7c892e46",
   "metadata": {},
   "outputs": [],
   "source": [
    "for i, name in enumerate(names_matmul):\n",
    "    globals()[name] = np.dot(X[:,:(i+1)],p[:(i+1),:])[:,0]"
   ]
  },
  {
   "cell_type": "code",
   "execution_count": 67,
   "id": "03012a9e",
   "metadata": {},
   "outputs": [
    {
     "data": {
      "application/javascript": [
       "/* Put everything inside the global mpl namespace */\n",
       "/* global mpl */\n",
       "window.mpl = {};\n",
       "\n",
       "mpl.get_websocket_type = function () {\n",
       "    if (typeof WebSocket !== 'undefined') {\n",
       "        return WebSocket;\n",
       "    } else if (typeof MozWebSocket !== 'undefined') {\n",
       "        return MozWebSocket;\n",
       "    } else {\n",
       "        alert(\n",
       "            'Your browser does not have WebSocket support. ' +\n",
       "                'Please try Chrome, Safari or Firefox ≥ 6. ' +\n",
       "                'Firefox 4 and 5 are also supported but you ' +\n",
       "                'have to enable WebSockets in about:config.'\n",
       "        );\n",
       "    }\n",
       "};\n",
       "\n",
       "mpl.figure = function (figure_id, websocket, ondownload, parent_element) {\n",
       "    this.id = figure_id;\n",
       "\n",
       "    this.ws = websocket;\n",
       "\n",
       "    this.supports_binary = this.ws.binaryType !== undefined;\n",
       "\n",
       "    if (!this.supports_binary) {\n",
       "        var warnings = document.getElementById('mpl-warnings');\n",
       "        if (warnings) {\n",
       "            warnings.style.display = 'block';\n",
       "            warnings.textContent =\n",
       "                'This browser does not support binary websocket messages. ' +\n",
       "                'Performance may be slow.';\n",
       "        }\n",
       "    }\n",
       "\n",
       "    this.imageObj = new Image();\n",
       "\n",
       "    this.context = undefined;\n",
       "    this.message = undefined;\n",
       "    this.canvas = undefined;\n",
       "    this.rubberband_canvas = undefined;\n",
       "    this.rubberband_context = undefined;\n",
       "    this.format_dropdown = undefined;\n",
       "\n",
       "    this.image_mode = 'full';\n",
       "\n",
       "    this.root = document.createElement('div');\n",
       "    this.root.setAttribute('style', 'display: inline-block');\n",
       "    this._root_extra_style(this.root);\n",
       "\n",
       "    parent_element.appendChild(this.root);\n",
       "\n",
       "    this._init_header(this);\n",
       "    this._init_canvas(this);\n",
       "    this._init_toolbar(this);\n",
       "\n",
       "    var fig = this;\n",
       "\n",
       "    this.waiting = false;\n",
       "\n",
       "    this.ws.onopen = function () {\n",
       "        fig.send_message('supports_binary', { value: fig.supports_binary });\n",
       "        fig.send_message('send_image_mode', {});\n",
       "        if (fig.ratio !== 1) {\n",
       "            fig.send_message('set_device_pixel_ratio', {\n",
       "                device_pixel_ratio: fig.ratio,\n",
       "            });\n",
       "        }\n",
       "        fig.send_message('refresh', {});\n",
       "    };\n",
       "\n",
       "    this.imageObj.onload = function () {\n",
       "        if (fig.image_mode === 'full') {\n",
       "            // Full images could contain transparency (where diff images\n",
       "            // almost always do), so we need to clear the canvas so that\n",
       "            // there is no ghosting.\n",
       "            fig.context.clearRect(0, 0, fig.canvas.width, fig.canvas.height);\n",
       "        }\n",
       "        fig.context.drawImage(fig.imageObj, 0, 0);\n",
       "    };\n",
       "\n",
       "    this.imageObj.onunload = function () {\n",
       "        fig.ws.close();\n",
       "    };\n",
       "\n",
       "    this.ws.onmessage = this._make_on_message_function(this);\n",
       "\n",
       "    this.ondownload = ondownload;\n",
       "};\n",
       "\n",
       "mpl.figure.prototype._init_header = function () {\n",
       "    var titlebar = document.createElement('div');\n",
       "    titlebar.classList =\n",
       "        'ui-dialog-titlebar ui-widget-header ui-corner-all ui-helper-clearfix';\n",
       "    var titletext = document.createElement('div');\n",
       "    titletext.classList = 'ui-dialog-title';\n",
       "    titletext.setAttribute(\n",
       "        'style',\n",
       "        'width: 100%; text-align: center; padding: 3px;'\n",
       "    );\n",
       "    titlebar.appendChild(titletext);\n",
       "    this.root.appendChild(titlebar);\n",
       "    this.header = titletext;\n",
       "};\n",
       "\n",
       "mpl.figure.prototype._canvas_extra_style = function (_canvas_div) {};\n",
       "\n",
       "mpl.figure.prototype._root_extra_style = function (_canvas_div) {};\n",
       "\n",
       "mpl.figure.prototype._init_canvas = function () {\n",
       "    var fig = this;\n",
       "\n",
       "    var canvas_div = (this.canvas_div = document.createElement('div'));\n",
       "    canvas_div.setAttribute('tabindex', '0');\n",
       "    canvas_div.setAttribute(\n",
       "        'style',\n",
       "        'border: 1px solid #ddd;' +\n",
       "            'box-sizing: content-box;' +\n",
       "            'clear: both;' +\n",
       "            'min-height: 1px;' +\n",
       "            'min-width: 1px;' +\n",
       "            'outline: 0;' +\n",
       "            'overflow: hidden;' +\n",
       "            'position: relative;' +\n",
       "            'resize: both;' +\n",
       "            'z-index: 2;'\n",
       "    );\n",
       "\n",
       "    function on_keyboard_event_closure(name) {\n",
       "        return function (event) {\n",
       "            return fig.key_event(event, name);\n",
       "        };\n",
       "    }\n",
       "\n",
       "    canvas_div.addEventListener(\n",
       "        'keydown',\n",
       "        on_keyboard_event_closure('key_press')\n",
       "    );\n",
       "    canvas_div.addEventListener(\n",
       "        'keyup',\n",
       "        on_keyboard_event_closure('key_release')\n",
       "    );\n",
       "\n",
       "    this._canvas_extra_style(canvas_div);\n",
       "    this.root.appendChild(canvas_div);\n",
       "\n",
       "    var canvas = (this.canvas = document.createElement('canvas'));\n",
       "    canvas.classList.add('mpl-canvas');\n",
       "    canvas.setAttribute(\n",
       "        'style',\n",
       "        'box-sizing: content-box;' +\n",
       "            'pointer-events: none;' +\n",
       "            'position: relative;' +\n",
       "            'z-index: 0;'\n",
       "    );\n",
       "\n",
       "    this.context = canvas.getContext('2d');\n",
       "\n",
       "    var backingStore =\n",
       "        this.context.backingStorePixelRatio ||\n",
       "        this.context.webkitBackingStorePixelRatio ||\n",
       "        this.context.mozBackingStorePixelRatio ||\n",
       "        this.context.msBackingStorePixelRatio ||\n",
       "        this.context.oBackingStorePixelRatio ||\n",
       "        this.context.backingStorePixelRatio ||\n",
       "        1;\n",
       "\n",
       "    this.ratio = (window.devicePixelRatio || 1) / backingStore;\n",
       "\n",
       "    var rubberband_canvas = (this.rubberband_canvas = document.createElement(\n",
       "        'canvas'\n",
       "    ));\n",
       "    rubberband_canvas.setAttribute(\n",
       "        'style',\n",
       "        'box-sizing: content-box;' +\n",
       "            'left: 0;' +\n",
       "            'pointer-events: none;' +\n",
       "            'position: absolute;' +\n",
       "            'top: 0;' +\n",
       "            'z-index: 1;'\n",
       "    );\n",
       "\n",
       "    // Apply a ponyfill if ResizeObserver is not implemented by browser.\n",
       "    if (this.ResizeObserver === undefined) {\n",
       "        if (window.ResizeObserver !== undefined) {\n",
       "            this.ResizeObserver = window.ResizeObserver;\n",
       "        } else {\n",
       "            var obs = _JSXTOOLS_RESIZE_OBSERVER({});\n",
       "            this.ResizeObserver = obs.ResizeObserver;\n",
       "        }\n",
       "    }\n",
       "\n",
       "    this.resizeObserverInstance = new this.ResizeObserver(function (entries) {\n",
       "        var nentries = entries.length;\n",
       "        for (var i = 0; i < nentries; i++) {\n",
       "            var entry = entries[i];\n",
       "            var width, height;\n",
       "            if (entry.contentBoxSize) {\n",
       "                if (entry.contentBoxSize instanceof Array) {\n",
       "                    // Chrome 84 implements new version of spec.\n",
       "                    width = entry.contentBoxSize[0].inlineSize;\n",
       "                    height = entry.contentBoxSize[0].blockSize;\n",
       "                } else {\n",
       "                    // Firefox implements old version of spec.\n",
       "                    width = entry.contentBoxSize.inlineSize;\n",
       "                    height = entry.contentBoxSize.blockSize;\n",
       "                }\n",
       "            } else {\n",
       "                // Chrome <84 implements even older version of spec.\n",
       "                width = entry.contentRect.width;\n",
       "                height = entry.contentRect.height;\n",
       "            }\n",
       "\n",
       "            // Keep the size of the canvas and rubber band canvas in sync with\n",
       "            // the canvas container.\n",
       "            if (entry.devicePixelContentBoxSize) {\n",
       "                // Chrome 84 implements new version of spec.\n",
       "                canvas.setAttribute(\n",
       "                    'width',\n",
       "                    entry.devicePixelContentBoxSize[0].inlineSize\n",
       "                );\n",
       "                canvas.setAttribute(\n",
       "                    'height',\n",
       "                    entry.devicePixelContentBoxSize[0].blockSize\n",
       "                );\n",
       "            } else {\n",
       "                canvas.setAttribute('width', width * fig.ratio);\n",
       "                canvas.setAttribute('height', height * fig.ratio);\n",
       "            }\n",
       "            /* This rescales the canvas back to display pixels, so that it\n",
       "             * appears correct on HiDPI screens. */\n",
       "            canvas.style.width = width + 'px';\n",
       "            canvas.style.height = height + 'px';\n",
       "\n",
       "            rubberband_canvas.setAttribute('width', width);\n",
       "            rubberband_canvas.setAttribute('height', height);\n",
       "\n",
       "            // And update the size in Python. We ignore the initial 0/0 size\n",
       "            // that occurs as the element is placed into the DOM, which should\n",
       "            // otherwise not happen due to the minimum size styling.\n",
       "            if (fig.ws.readyState == 1 && width != 0 && height != 0) {\n",
       "                fig.request_resize(width, height);\n",
       "            }\n",
       "        }\n",
       "    });\n",
       "    this.resizeObserverInstance.observe(canvas_div);\n",
       "\n",
       "    function on_mouse_event_closure(name) {\n",
       "        /* User Agent sniffing is bad, but WebKit is busted:\n",
       "         * https://bugs.webkit.org/show_bug.cgi?id=144526\n",
       "         * https://bugs.webkit.org/show_bug.cgi?id=181818\n",
       "         * The worst that happens here is that they get an extra browser\n",
       "         * selection when dragging, if this check fails to catch them.\n",
       "         */\n",
       "        var UA = navigator.userAgent;\n",
       "        var isWebKit = /AppleWebKit/.test(UA) && !/Chrome/.test(UA);\n",
       "        if(isWebKit) {\n",
       "            return function (event) {\n",
       "                /* This prevents the web browser from automatically changing to\n",
       "                 * the text insertion cursor when the button is pressed. We\n",
       "                 * want to control all of the cursor setting manually through\n",
       "                 * the 'cursor' event from matplotlib */\n",
       "                event.preventDefault()\n",
       "                return fig.mouse_event(event, name);\n",
       "            };\n",
       "        } else {\n",
       "            return function (event) {\n",
       "                return fig.mouse_event(event, name);\n",
       "            };\n",
       "        }\n",
       "    }\n",
       "\n",
       "    canvas_div.addEventListener(\n",
       "        'mousedown',\n",
       "        on_mouse_event_closure('button_press')\n",
       "    );\n",
       "    canvas_div.addEventListener(\n",
       "        'mouseup',\n",
       "        on_mouse_event_closure('button_release')\n",
       "    );\n",
       "    canvas_div.addEventListener(\n",
       "        'dblclick',\n",
       "        on_mouse_event_closure('dblclick')\n",
       "    );\n",
       "    // Throttle sequential mouse events to 1 every 20ms.\n",
       "    canvas_div.addEventListener(\n",
       "        'mousemove',\n",
       "        on_mouse_event_closure('motion_notify')\n",
       "    );\n",
       "\n",
       "    canvas_div.addEventListener(\n",
       "        'mouseenter',\n",
       "        on_mouse_event_closure('figure_enter')\n",
       "    );\n",
       "    canvas_div.addEventListener(\n",
       "        'mouseleave',\n",
       "        on_mouse_event_closure('figure_leave')\n",
       "    );\n",
       "\n",
       "    canvas_div.addEventListener('wheel', function (event) {\n",
       "        if (event.deltaY < 0) {\n",
       "            event.step = 1;\n",
       "        } else {\n",
       "            event.step = -1;\n",
       "        }\n",
       "        on_mouse_event_closure('scroll')(event);\n",
       "    });\n",
       "\n",
       "    canvas_div.appendChild(canvas);\n",
       "    canvas_div.appendChild(rubberband_canvas);\n",
       "\n",
       "    this.rubberband_context = rubberband_canvas.getContext('2d');\n",
       "    this.rubberband_context.strokeStyle = '#000000';\n",
       "\n",
       "    this._resize_canvas = function (width, height, forward) {\n",
       "        if (forward) {\n",
       "            canvas_div.style.width = width + 'px';\n",
       "            canvas_div.style.height = height + 'px';\n",
       "        }\n",
       "    };\n",
       "\n",
       "    // Disable right mouse context menu.\n",
       "    canvas_div.addEventListener('contextmenu', function (_e) {\n",
       "        event.preventDefault();\n",
       "        return false;\n",
       "    });\n",
       "\n",
       "    function set_focus() {\n",
       "        canvas.focus();\n",
       "        canvas_div.focus();\n",
       "    }\n",
       "\n",
       "    window.setTimeout(set_focus, 100);\n",
       "};\n",
       "\n",
       "mpl.figure.prototype._init_toolbar = function () {\n",
       "    var fig = this;\n",
       "\n",
       "    var toolbar = document.createElement('div');\n",
       "    toolbar.classList = 'mpl-toolbar';\n",
       "    this.root.appendChild(toolbar);\n",
       "\n",
       "    function on_click_closure(name) {\n",
       "        return function (_event) {\n",
       "            return fig.toolbar_button_onclick(name);\n",
       "        };\n",
       "    }\n",
       "\n",
       "    function on_mouseover_closure(tooltip) {\n",
       "        return function (event) {\n",
       "            if (!event.currentTarget.disabled) {\n",
       "                return fig.toolbar_button_onmouseover(tooltip);\n",
       "            }\n",
       "        };\n",
       "    }\n",
       "\n",
       "    fig.buttons = {};\n",
       "    var buttonGroup = document.createElement('div');\n",
       "    buttonGroup.classList = 'mpl-button-group';\n",
       "    for (var toolbar_ind in mpl.toolbar_items) {\n",
       "        var name = mpl.toolbar_items[toolbar_ind][0];\n",
       "        var tooltip = mpl.toolbar_items[toolbar_ind][1];\n",
       "        var image = mpl.toolbar_items[toolbar_ind][2];\n",
       "        var method_name = mpl.toolbar_items[toolbar_ind][3];\n",
       "\n",
       "        if (!name) {\n",
       "            /* Instead of a spacer, we start a new button group. */\n",
       "            if (buttonGroup.hasChildNodes()) {\n",
       "                toolbar.appendChild(buttonGroup);\n",
       "            }\n",
       "            buttonGroup = document.createElement('div');\n",
       "            buttonGroup.classList = 'mpl-button-group';\n",
       "            continue;\n",
       "        }\n",
       "\n",
       "        var button = (fig.buttons[name] = document.createElement('button'));\n",
       "        button.classList = 'mpl-widget';\n",
       "        button.setAttribute('role', 'button');\n",
       "        button.setAttribute('aria-disabled', 'false');\n",
       "        button.addEventListener('click', on_click_closure(method_name));\n",
       "        button.addEventListener('mouseover', on_mouseover_closure(tooltip));\n",
       "\n",
       "        var icon_img = document.createElement('img');\n",
       "        icon_img.src = '_images/' + image + '.png';\n",
       "        icon_img.srcset = '_images/' + image + '_large.png 2x';\n",
       "        icon_img.alt = tooltip;\n",
       "        button.appendChild(icon_img);\n",
       "\n",
       "        buttonGroup.appendChild(button);\n",
       "    }\n",
       "\n",
       "    if (buttonGroup.hasChildNodes()) {\n",
       "        toolbar.appendChild(buttonGroup);\n",
       "    }\n",
       "\n",
       "    var fmt_picker = document.createElement('select');\n",
       "    fmt_picker.classList = 'mpl-widget';\n",
       "    toolbar.appendChild(fmt_picker);\n",
       "    this.format_dropdown = fmt_picker;\n",
       "\n",
       "    for (var ind in mpl.extensions) {\n",
       "        var fmt = mpl.extensions[ind];\n",
       "        var option = document.createElement('option');\n",
       "        option.selected = fmt === mpl.default_extension;\n",
       "        option.innerHTML = fmt;\n",
       "        fmt_picker.appendChild(option);\n",
       "    }\n",
       "\n",
       "    var status_bar = document.createElement('span');\n",
       "    status_bar.classList = 'mpl-message';\n",
       "    toolbar.appendChild(status_bar);\n",
       "    this.message = status_bar;\n",
       "};\n",
       "\n",
       "mpl.figure.prototype.request_resize = function (x_pixels, y_pixels) {\n",
       "    // Request matplotlib to resize the figure. Matplotlib will then trigger a resize in the client,\n",
       "    // which will in turn request a refresh of the image.\n",
       "    this.send_message('resize', { width: x_pixels, height: y_pixels });\n",
       "};\n",
       "\n",
       "mpl.figure.prototype.send_message = function (type, properties) {\n",
       "    properties['type'] = type;\n",
       "    properties['figure_id'] = this.id;\n",
       "    this.ws.send(JSON.stringify(properties));\n",
       "};\n",
       "\n",
       "mpl.figure.prototype.send_draw_message = function () {\n",
       "    if (!this.waiting) {\n",
       "        this.waiting = true;\n",
       "        this.ws.send(JSON.stringify({ type: 'draw', figure_id: this.id }));\n",
       "    }\n",
       "};\n",
       "\n",
       "mpl.figure.prototype.handle_save = function (fig, _msg) {\n",
       "    var format_dropdown = fig.format_dropdown;\n",
       "    var format = format_dropdown.options[format_dropdown.selectedIndex].value;\n",
       "    fig.ondownload(fig, format);\n",
       "};\n",
       "\n",
       "mpl.figure.prototype.handle_resize = function (fig, msg) {\n",
       "    var size = msg['size'];\n",
       "    if (size[0] !== fig.canvas.width || size[1] !== fig.canvas.height) {\n",
       "        fig._resize_canvas(size[0], size[1], msg['forward']);\n",
       "        fig.send_message('refresh', {});\n",
       "    }\n",
       "};\n",
       "\n",
       "mpl.figure.prototype.handle_rubberband = function (fig, msg) {\n",
       "    var x0 = msg['x0'] / fig.ratio;\n",
       "    var y0 = (fig.canvas.height - msg['y0']) / fig.ratio;\n",
       "    var x1 = msg['x1'] / fig.ratio;\n",
       "    var y1 = (fig.canvas.height - msg['y1']) / fig.ratio;\n",
       "    x0 = Math.floor(x0) + 0.5;\n",
       "    y0 = Math.floor(y0) + 0.5;\n",
       "    x1 = Math.floor(x1) + 0.5;\n",
       "    y1 = Math.floor(y1) + 0.5;\n",
       "    var min_x = Math.min(x0, x1);\n",
       "    var min_y = Math.min(y0, y1);\n",
       "    var width = Math.abs(x1 - x0);\n",
       "    var height = Math.abs(y1 - y0);\n",
       "\n",
       "    fig.rubberband_context.clearRect(\n",
       "        0,\n",
       "        0,\n",
       "        fig.canvas.width / fig.ratio,\n",
       "        fig.canvas.height / fig.ratio\n",
       "    );\n",
       "\n",
       "    fig.rubberband_context.strokeRect(min_x, min_y, width, height);\n",
       "};\n",
       "\n",
       "mpl.figure.prototype.handle_figure_label = function (fig, msg) {\n",
       "    // Updates the figure title.\n",
       "    fig.header.textContent = msg['label'];\n",
       "};\n",
       "\n",
       "mpl.figure.prototype.handle_cursor = function (fig, msg) {\n",
       "    fig.canvas_div.style.cursor = msg['cursor'];\n",
       "};\n",
       "\n",
       "mpl.figure.prototype.handle_message = function (fig, msg) {\n",
       "    fig.message.textContent = msg['message'];\n",
       "};\n",
       "\n",
       "mpl.figure.prototype.handle_draw = function (fig, _msg) {\n",
       "    // Request the server to send over a new figure.\n",
       "    fig.send_draw_message();\n",
       "};\n",
       "\n",
       "mpl.figure.prototype.handle_image_mode = function (fig, msg) {\n",
       "    fig.image_mode = msg['mode'];\n",
       "};\n",
       "\n",
       "mpl.figure.prototype.handle_history_buttons = function (fig, msg) {\n",
       "    for (var key in msg) {\n",
       "        if (!(key in fig.buttons)) {\n",
       "            continue;\n",
       "        }\n",
       "        fig.buttons[key].disabled = !msg[key];\n",
       "        fig.buttons[key].setAttribute('aria-disabled', !msg[key]);\n",
       "    }\n",
       "};\n",
       "\n",
       "mpl.figure.prototype.handle_navigate_mode = function (fig, msg) {\n",
       "    if (msg['mode'] === 'PAN') {\n",
       "        fig.buttons['Pan'].classList.add('active');\n",
       "        fig.buttons['Zoom'].classList.remove('active');\n",
       "    } else if (msg['mode'] === 'ZOOM') {\n",
       "        fig.buttons['Pan'].classList.remove('active');\n",
       "        fig.buttons['Zoom'].classList.add('active');\n",
       "    } else {\n",
       "        fig.buttons['Pan'].classList.remove('active');\n",
       "        fig.buttons['Zoom'].classList.remove('active');\n",
       "    }\n",
       "};\n",
       "\n",
       "mpl.figure.prototype.updated_canvas_event = function () {\n",
       "    // Called whenever the canvas gets updated.\n",
       "    this.send_message('ack', {});\n",
       "};\n",
       "\n",
       "// A function to construct a web socket function for onmessage handling.\n",
       "// Called in the figure constructor.\n",
       "mpl.figure.prototype._make_on_message_function = function (fig) {\n",
       "    return function socket_on_message(evt) {\n",
       "        if (evt.data instanceof Blob) {\n",
       "            var img = evt.data;\n",
       "            if (img.type !== 'image/png') {\n",
       "                /* FIXME: We get \"Resource interpreted as Image but\n",
       "                 * transferred with MIME type text/plain:\" errors on\n",
       "                 * Chrome.  But how to set the MIME type?  It doesn't seem\n",
       "                 * to be part of the websocket stream */\n",
       "                img.type = 'image/png';\n",
       "            }\n",
       "\n",
       "            /* Free the memory for the previous frames */\n",
       "            if (fig.imageObj.src) {\n",
       "                (window.URL || window.webkitURL).revokeObjectURL(\n",
       "                    fig.imageObj.src\n",
       "                );\n",
       "            }\n",
       "\n",
       "            fig.imageObj.src = (window.URL || window.webkitURL).createObjectURL(\n",
       "                img\n",
       "            );\n",
       "            fig.updated_canvas_event();\n",
       "            fig.waiting = false;\n",
       "            return;\n",
       "        } else if (\n",
       "            typeof evt.data === 'string' &&\n",
       "            evt.data.slice(0, 21) === 'data:image/png;base64'\n",
       "        ) {\n",
       "            fig.imageObj.src = evt.data;\n",
       "            fig.updated_canvas_event();\n",
       "            fig.waiting = false;\n",
       "            return;\n",
       "        }\n",
       "\n",
       "        var msg = JSON.parse(evt.data);\n",
       "        var msg_type = msg['type'];\n",
       "\n",
       "        // Call the  \"handle_{type}\" callback, which takes\n",
       "        // the figure and JSON message as its only arguments.\n",
       "        try {\n",
       "            var callback = fig['handle_' + msg_type];\n",
       "        } catch (e) {\n",
       "            console.log(\n",
       "                \"No handler for the '\" + msg_type + \"' message type: \",\n",
       "                msg\n",
       "            );\n",
       "            return;\n",
       "        }\n",
       "\n",
       "        if (callback) {\n",
       "            try {\n",
       "                // console.log(\"Handling '\" + msg_type + \"' message: \", msg);\n",
       "                callback(fig, msg);\n",
       "            } catch (e) {\n",
       "                console.log(\n",
       "                    \"Exception inside the 'handler_\" + msg_type + \"' callback:\",\n",
       "                    e,\n",
       "                    e.stack,\n",
       "                    msg\n",
       "                );\n",
       "            }\n",
       "        }\n",
       "    };\n",
       "};\n",
       "\n",
       "\n",
       "/*\n",
       " * return a copy of an object with only non-object keys\n",
       " * we need this to avoid circular references\n",
       " * https://stackoverflow.com/a/24161582/3208463\n",
       " */\n",
       "function simpleKeys(original) {\n",
       "    return Object.keys(original).reduce(function (obj, key) {\n",
       "        if (typeof original[key] !== 'object') {\n",
       "            obj[key] = original[key];\n",
       "        }\n",
       "        return obj;\n",
       "    }, {});\n",
       "}\n",
       "\n",
       "mpl.figure.prototype.mouse_event = function (event, name) {\n",
       "    if (name === 'button_press') {\n",
       "        this.canvas.focus();\n",
       "        this.canvas_div.focus();\n",
       "    }\n",
       "\n",
       "    // from https://stackoverflow.com/q/1114465\n",
       "    var boundingRect = this.canvas.getBoundingClientRect();\n",
       "    var x = (event.clientX - boundingRect.left) * this.ratio;\n",
       "    var y = (event.clientY - boundingRect.top) * this.ratio;\n",
       "\n",
       "    this.send_message(name, {\n",
       "        x: x,\n",
       "        y: y,\n",
       "        button: event.button,\n",
       "        step: event.step,\n",
       "        guiEvent: simpleKeys(event),\n",
       "    });\n",
       "\n",
       "    return false;\n",
       "};\n",
       "\n",
       "mpl.figure.prototype._key_event_extra = function (_event, _name) {\n",
       "    // Handle any extra behaviour associated with a key event\n",
       "};\n",
       "\n",
       "mpl.figure.prototype.key_event = function (event, name) {\n",
       "    // Prevent repeat events\n",
       "    if (name === 'key_press') {\n",
       "        if (event.key === this._key) {\n",
       "            return;\n",
       "        } else {\n",
       "            this._key = event.key;\n",
       "        }\n",
       "    }\n",
       "    if (name === 'key_release') {\n",
       "        this._key = null;\n",
       "    }\n",
       "\n",
       "    var value = '';\n",
       "    if (event.ctrlKey && event.key !== 'Control') {\n",
       "        value += 'ctrl+';\n",
       "    }\n",
       "    else if (event.altKey && event.key !== 'Alt') {\n",
       "        value += 'alt+';\n",
       "    }\n",
       "    else if (event.shiftKey && event.key !== 'Shift') {\n",
       "        value += 'shift+';\n",
       "    }\n",
       "\n",
       "    value += 'k' + event.key;\n",
       "\n",
       "    this._key_event_extra(event, name);\n",
       "\n",
       "    this.send_message(name, { key: value, guiEvent: simpleKeys(event) });\n",
       "    return false;\n",
       "};\n",
       "\n",
       "mpl.figure.prototype.toolbar_button_onclick = function (name) {\n",
       "    if (name === 'download') {\n",
       "        this.handle_save(this, null);\n",
       "    } else {\n",
       "        this.send_message('toolbar_button', { name: name });\n",
       "    }\n",
       "};\n",
       "\n",
       "mpl.figure.prototype.toolbar_button_onmouseover = function (tooltip) {\n",
       "    this.message.textContent = tooltip;\n",
       "};\n",
       "\n",
       "///////////////// REMAINING CONTENT GENERATED BY embed_js.py /////////////////\n",
       "// prettier-ignore\n",
       "var _JSXTOOLS_RESIZE_OBSERVER=function(A){var t,i=new WeakMap,n=new WeakMap,a=new WeakMap,r=new WeakMap,o=new Set;function s(e){if(!(this instanceof s))throw new TypeError(\"Constructor requires 'new' operator\");i.set(this,e)}function h(){throw new TypeError(\"Function is not a constructor\")}function c(e,t,i,n){e=0 in arguments?Number(arguments[0]):0,t=1 in arguments?Number(arguments[1]):0,i=2 in arguments?Number(arguments[2]):0,n=3 in arguments?Number(arguments[3]):0,this.right=(this.x=this.left=e)+(this.width=i),this.bottom=(this.y=this.top=t)+(this.height=n),Object.freeze(this)}function d(){t=requestAnimationFrame(d);var s=new WeakMap,p=new Set;o.forEach((function(t){r.get(t).forEach((function(i){var r=t instanceof window.SVGElement,o=a.get(t),d=r?0:parseFloat(o.paddingTop),f=r?0:parseFloat(o.paddingRight),l=r?0:parseFloat(o.paddingBottom),u=r?0:parseFloat(o.paddingLeft),g=r?0:parseFloat(o.borderTopWidth),m=r?0:parseFloat(o.borderRightWidth),w=r?0:parseFloat(o.borderBottomWidth),b=u+f,F=d+l,v=(r?0:parseFloat(o.borderLeftWidth))+m,W=g+w,y=r?0:t.offsetHeight-W-t.clientHeight,E=r?0:t.offsetWidth-v-t.clientWidth,R=b+v,z=F+W,M=r?t.width:parseFloat(o.width)-R-E,O=r?t.height:parseFloat(o.height)-z-y;if(n.has(t)){var k=n.get(t);if(k[0]===M&&k[1]===O)return}n.set(t,[M,O]);var S=Object.create(h.prototype);S.target=t,S.contentRect=new c(u,d,M,O),s.has(i)||(s.set(i,[]),p.add(i)),s.get(i).push(S)}))})),p.forEach((function(e){i.get(e).call(e,s.get(e),e)}))}return s.prototype.observe=function(i){if(i instanceof window.Element){r.has(i)||(r.set(i,new Set),o.add(i),a.set(i,window.getComputedStyle(i)));var n=r.get(i);n.has(this)||n.add(this),cancelAnimationFrame(t),t=requestAnimationFrame(d)}},s.prototype.unobserve=function(i){if(i instanceof window.Element&&r.has(i)){var n=r.get(i);n.has(this)&&(n.delete(this),n.size||(r.delete(i),o.delete(i))),n.size||r.delete(i),o.size||cancelAnimationFrame(t)}},A.DOMRectReadOnly=c,A.ResizeObserver=s,A.ResizeObserverEntry=h,A}; // eslint-disable-line\n",
       "mpl.toolbar_items = [[\"Home\", \"Reset original view\", \"fa fa-home\", \"home\"], [\"Back\", \"Back to previous view\", \"fa fa-arrow-left\", \"back\"], [\"Forward\", \"Forward to next view\", \"fa fa-arrow-right\", \"forward\"], [\"\", \"\", \"\", \"\"], [\"Pan\", \"Left button pans, Right button zooms\\nx/y fixes axis, CTRL fixes aspect\", \"fa fa-arrows\", \"pan\"], [\"Zoom\", \"Zoom to rectangle\\nx/y fixes axis\", \"fa fa-square-o\", \"zoom\"], [\"\", \"\", \"\", \"\"], [\"Download\", \"Download plot\", \"fa fa-floppy-o\", \"download\"]];\n",
       "\n",
       "mpl.extensions = [\"eps\", \"jpeg\", \"pgf\", \"pdf\", \"png\", \"ps\", \"raw\", \"svg\", \"tif\", \"webp\"];\n",
       "\n",
       "mpl.default_extension = \"png\";/* global mpl */\n",
       "\n",
       "var comm_websocket_adapter = function (comm) {\n",
       "    // Create a \"websocket\"-like object which calls the given IPython comm\n",
       "    // object with the appropriate methods. Currently this is a non binary\n",
       "    // socket, so there is still some room for performance tuning.\n",
       "    var ws = {};\n",
       "\n",
       "    ws.binaryType = comm.kernel.ws.binaryType;\n",
       "    ws.readyState = comm.kernel.ws.readyState;\n",
       "    function updateReadyState(_event) {\n",
       "        if (comm.kernel.ws) {\n",
       "            ws.readyState = comm.kernel.ws.readyState;\n",
       "        } else {\n",
       "            ws.readyState = 3; // Closed state.\n",
       "        }\n",
       "    }\n",
       "    comm.kernel.ws.addEventListener('open', updateReadyState);\n",
       "    comm.kernel.ws.addEventListener('close', updateReadyState);\n",
       "    comm.kernel.ws.addEventListener('error', updateReadyState);\n",
       "\n",
       "    ws.close = function () {\n",
       "        comm.close();\n",
       "    };\n",
       "    ws.send = function (m) {\n",
       "        //console.log('sending', m);\n",
       "        comm.send(m);\n",
       "    };\n",
       "    // Register the callback with on_msg.\n",
       "    comm.on_msg(function (msg) {\n",
       "        //console.log('receiving', msg['content']['data'], msg);\n",
       "        var data = msg['content']['data'];\n",
       "        if (data['blob'] !== undefined) {\n",
       "            data = {\n",
       "                data: new Blob(msg['buffers'], { type: data['blob'] }),\n",
       "            };\n",
       "        }\n",
       "        // Pass the mpl event to the overridden (by mpl) onmessage function.\n",
       "        ws.onmessage(data);\n",
       "    });\n",
       "    return ws;\n",
       "};\n",
       "\n",
       "mpl.mpl_figure_comm = function (comm, msg) {\n",
       "    // This is the function which gets called when the mpl process\n",
       "    // starts-up an IPython Comm through the \"matplotlib\" channel.\n",
       "\n",
       "    var id = msg.content.data.id;\n",
       "    // Get hold of the div created by the display call when the Comm\n",
       "    // socket was opened in Python.\n",
       "    var element = document.getElementById(id);\n",
       "    var ws_proxy = comm_websocket_adapter(comm);\n",
       "\n",
       "    function ondownload(figure, _format) {\n",
       "        window.open(figure.canvas.toDataURL());\n",
       "    }\n",
       "\n",
       "    var fig = new mpl.figure(id, ws_proxy, ondownload, element);\n",
       "\n",
       "    // Call onopen now - mpl needs it, as it is assuming we've passed it a real\n",
       "    // web socket which is closed, not our websocket->open comm proxy.\n",
       "    ws_proxy.onopen();\n",
       "\n",
       "    fig.parent_element = element;\n",
       "    fig.cell_info = mpl.find_output_cell(\"<div id='\" + id + \"'></div>\");\n",
       "    if (!fig.cell_info) {\n",
       "        console.error('Failed to find cell for figure', id, fig);\n",
       "        return;\n",
       "    }\n",
       "    fig.cell_info[0].output_area.element.on(\n",
       "        'cleared',\n",
       "        { fig: fig },\n",
       "        fig._remove_fig_handler\n",
       "    );\n",
       "};\n",
       "\n",
       "mpl.figure.prototype.handle_close = function (fig, msg) {\n",
       "    var width = fig.canvas.width / fig.ratio;\n",
       "    fig.cell_info[0].output_area.element.off(\n",
       "        'cleared',\n",
       "        fig._remove_fig_handler\n",
       "    );\n",
       "    fig.resizeObserverInstance.unobserve(fig.canvas_div);\n",
       "\n",
       "    // Update the output cell to use the data from the current canvas.\n",
       "    fig.push_to_output();\n",
       "    var dataURL = fig.canvas.toDataURL();\n",
       "    // Re-enable the keyboard manager in IPython - without this line, in FF,\n",
       "    // the notebook keyboard shortcuts fail.\n",
       "    IPython.keyboard_manager.enable();\n",
       "    fig.parent_element.innerHTML =\n",
       "        '<img src=\"' + dataURL + '\" width=\"' + width + '\">';\n",
       "    fig.close_ws(fig, msg);\n",
       "};\n",
       "\n",
       "mpl.figure.prototype.close_ws = function (fig, msg) {\n",
       "    fig.send_message('closing', msg);\n",
       "    // fig.ws.close()\n",
       "};\n",
       "\n",
       "mpl.figure.prototype.push_to_output = function (_remove_interactive) {\n",
       "    // Turn the data on the canvas into data in the output cell.\n",
       "    var width = this.canvas.width / this.ratio;\n",
       "    var dataURL = this.canvas.toDataURL();\n",
       "    this.cell_info[1]['text/html'] =\n",
       "        '<img src=\"' + dataURL + '\" width=\"' + width + '\">';\n",
       "};\n",
       "\n",
       "mpl.figure.prototype.updated_canvas_event = function () {\n",
       "    // Tell IPython that the notebook contents must change.\n",
       "    IPython.notebook.set_dirty(true);\n",
       "    this.send_message('ack', {});\n",
       "    var fig = this;\n",
       "    // Wait a second, then push the new image to the DOM so\n",
       "    // that it is saved nicely (might be nice to debounce this).\n",
       "    setTimeout(function () {\n",
       "        fig.push_to_output();\n",
       "    }, 1000);\n",
       "};\n",
       "\n",
       "mpl.figure.prototype._init_toolbar = function () {\n",
       "    var fig = this;\n",
       "\n",
       "    var toolbar = document.createElement('div');\n",
       "    toolbar.classList = 'btn-toolbar';\n",
       "    this.root.appendChild(toolbar);\n",
       "\n",
       "    function on_click_closure(name) {\n",
       "        return function (_event) {\n",
       "            return fig.toolbar_button_onclick(name);\n",
       "        };\n",
       "    }\n",
       "\n",
       "    function on_mouseover_closure(tooltip) {\n",
       "        return function (event) {\n",
       "            if (!event.currentTarget.disabled) {\n",
       "                return fig.toolbar_button_onmouseover(tooltip);\n",
       "            }\n",
       "        };\n",
       "    }\n",
       "\n",
       "    fig.buttons = {};\n",
       "    var buttonGroup = document.createElement('div');\n",
       "    buttonGroup.classList = 'btn-group';\n",
       "    var button;\n",
       "    for (var toolbar_ind in mpl.toolbar_items) {\n",
       "        var name = mpl.toolbar_items[toolbar_ind][0];\n",
       "        var tooltip = mpl.toolbar_items[toolbar_ind][1];\n",
       "        var image = mpl.toolbar_items[toolbar_ind][2];\n",
       "        var method_name = mpl.toolbar_items[toolbar_ind][3];\n",
       "\n",
       "        if (!name) {\n",
       "            /* Instead of a spacer, we start a new button group. */\n",
       "            if (buttonGroup.hasChildNodes()) {\n",
       "                toolbar.appendChild(buttonGroup);\n",
       "            }\n",
       "            buttonGroup = document.createElement('div');\n",
       "            buttonGroup.classList = 'btn-group';\n",
       "            continue;\n",
       "        }\n",
       "\n",
       "        button = fig.buttons[name] = document.createElement('button');\n",
       "        button.classList = 'btn btn-default';\n",
       "        button.href = '#';\n",
       "        button.title = name;\n",
       "        button.innerHTML = '<i class=\"fa ' + image + ' fa-lg\"></i>';\n",
       "        button.addEventListener('click', on_click_closure(method_name));\n",
       "        button.addEventListener('mouseover', on_mouseover_closure(tooltip));\n",
       "        buttonGroup.appendChild(button);\n",
       "    }\n",
       "\n",
       "    if (buttonGroup.hasChildNodes()) {\n",
       "        toolbar.appendChild(buttonGroup);\n",
       "    }\n",
       "\n",
       "    // Add the status bar.\n",
       "    var status_bar = document.createElement('span');\n",
       "    status_bar.classList = 'mpl-message pull-right';\n",
       "    toolbar.appendChild(status_bar);\n",
       "    this.message = status_bar;\n",
       "\n",
       "    // Add the close button to the window.\n",
       "    var buttongrp = document.createElement('div');\n",
       "    buttongrp.classList = 'btn-group inline pull-right';\n",
       "    button = document.createElement('button');\n",
       "    button.classList = 'btn btn-mini btn-primary';\n",
       "    button.href = '#';\n",
       "    button.title = 'Stop Interaction';\n",
       "    button.innerHTML = '<i class=\"fa fa-power-off icon-remove icon-large\"></i>';\n",
       "    button.addEventListener('click', function (_evt) {\n",
       "        fig.handle_close(fig, {});\n",
       "    });\n",
       "    button.addEventListener(\n",
       "        'mouseover',\n",
       "        on_mouseover_closure('Stop Interaction')\n",
       "    );\n",
       "    buttongrp.appendChild(button);\n",
       "    var titlebar = this.root.querySelector('.ui-dialog-titlebar');\n",
       "    titlebar.insertBefore(buttongrp, titlebar.firstChild);\n",
       "};\n",
       "\n",
       "mpl.figure.prototype._remove_fig_handler = function (event) {\n",
       "    var fig = event.data.fig;\n",
       "    if (event.target !== this) {\n",
       "        // Ignore bubbled events from children.\n",
       "        return;\n",
       "    }\n",
       "    fig.close_ws(fig, {});\n",
       "};\n",
       "\n",
       "mpl.figure.prototype._root_extra_style = function (el) {\n",
       "    el.style.boxSizing = 'content-box'; // override notebook setting of border-box.\n",
       "};\n",
       "\n",
       "mpl.figure.prototype._canvas_extra_style = function (el) {\n",
       "    // this is important to make the div 'focusable\n",
       "    el.setAttribute('tabindex', 0);\n",
       "    // reach out to IPython and tell the keyboard manager to turn it's self\n",
       "    // off when our div gets focus\n",
       "\n",
       "    // location in version 3\n",
       "    if (IPython.notebook.keyboard_manager) {\n",
       "        IPython.notebook.keyboard_manager.register_events(el);\n",
       "    } else {\n",
       "        // location in version 2\n",
       "        IPython.keyboard_manager.register_events(el);\n",
       "    }\n",
       "};\n",
       "\n",
       "mpl.figure.prototype._key_event_extra = function (event, _name) {\n",
       "    // Check for shift+enter\n",
       "    if (event.shiftKey && event.which === 13) {\n",
       "        this.canvas_div.blur();\n",
       "        // select the cell after this one\n",
       "        var index = IPython.notebook.find_cell_index(this.cell_info[0]);\n",
       "        IPython.notebook.select(index + 1);\n",
       "    }\n",
       "};\n",
       "\n",
       "mpl.figure.prototype.handle_save = function (fig, _msg) {\n",
       "    fig.ondownload(fig, null);\n",
       "};\n",
       "\n",
       "mpl.find_output_cell = function (html_output) {\n",
       "    // Return the cell and output element which can be found *uniquely* in the notebook.\n",
       "    // Note - this is a bit hacky, but it is done because the \"notebook_saving.Notebook\"\n",
       "    // IPython event is triggered only after the cells have been serialised, which for\n",
       "    // our purposes (turning an active figure into a static one), is too late.\n",
       "    var cells = IPython.notebook.get_cells();\n",
       "    var ncells = cells.length;\n",
       "    for (var i = 0; i < ncells; i++) {\n",
       "        var cell = cells[i];\n",
       "        if (cell.cell_type === 'code') {\n",
       "            for (var j = 0; j < cell.output_area.outputs.length; j++) {\n",
       "                var data = cell.output_area.outputs[j];\n",
       "                if (data.data) {\n",
       "                    // IPython >= 3 moved mimebundle to data attribute of output\n",
       "                    data = data.data;\n",
       "                }\n",
       "                if (data['text/html'] === html_output) {\n",
       "                    return [cell, data, j];\n",
       "                }\n",
       "            }\n",
       "        }\n",
       "    }\n",
       "};\n",
       "\n",
       "// Register the function which deals with the matplotlib target/channel.\n",
       "// The kernel may be null if the page has been refreshed.\n",
       "if (IPython.notebook.kernel !== null) {\n",
       "    IPython.notebook.kernel.comm_manager.register_target(\n",
       "        'matplotlib',\n",
       "        mpl.mpl_figure_comm\n",
       "    );\n",
       "}\n"
      ],
      "text/plain": [
       "<IPython.core.display.Javascript object>"
      ]
     },
     "metadata": {},
     "output_type": "display_data"
    },
    {
     "data": {
      "text/html": [
       "<img src=\"data:image/png;base64,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\" width=\"1000\">"
      ],
      "text/plain": [
       "<IPython.core.display.HTML object>"
      ]
     },
     "metadata": {},
     "output_type": "display_data"
    }
   ],
   "source": [
    "colors = ['blue', 'orange', 'green', 'red', 'pink']\n",
    "fig, ax = plt.subplots()\n",
    "fig.set_size_inches(10, 4, forward=True)\n",
    "\n",
    "ax.set_xlim(0,9)\n",
    "# ax.set_ylim(-0.0001,0.0042)\n",
    "\n",
    "plt.xlabel('ppm', fontsize=15, labelpad=5)\n",
    "plt.ylabel('Relative intensity', fontsize=15, labelpad=10)\n",
    "\n",
    "for i, name in enumerate(names_matmul):\n",
    "    ax.plot(ppm, globals()[name], alpha=1.0, color = colors[i], label=official_names[i])\n",
    "    if i==0:\n",
    "        ax.fill_between(ppm, 0, globals()[name], color=colors[0], alpha=1.0)\n",
    "    else:\n",
    "        predecessor = name[:-1]+str(i)\n",
    "        ax.fill_between(ppm, globals()[predecessor] , globals()[name], color=colors[i], alpha=1.0)\n",
    "ax.plot(ppm, mix_ints, color='black', alpha=1.0, label='Mixture', linewidth=0.5)\n",
    "ax.legend(prop={'size': 15}, loc='upper left')\n",
    "plt.tight_layout()"
   ]
  },
  {
   "cell_type": "code",
   "execution_count": null,
   "id": "9be5f2ff",
   "metadata": {},
   "outputs": [],
   "source": []
  }
 ],
 "metadata": {
  "kernelspec": {
   "display_name": "Python 3 (ipykernel)",
   "language": "python",
   "name": "python3"
  },
  "language_info": {
   "codemirror_mode": {
    "name": "ipython",
    "version": 3
   },
   "file_extension": ".py",
   "mimetype": "text/x-python",
   "name": "python",
   "nbconvert_exporter": "python",
   "pygments_lexer": "ipython3",
   "version": "3.10.6"
  }
 },
 "nbformat": 4,
 "nbformat_minor": 5
}
