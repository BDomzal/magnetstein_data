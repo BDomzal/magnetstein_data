{
 "cells": [
  {
   "cell_type": "markdown",
   "id": "c0dda7bc",
   "metadata": {},
   "source": [
    "### Settings and imports"
   ]
  },
  {
   "cell_type": "code",
   "execution_count": null,
   "id": "6490deb8",
   "metadata": {},
   "outputs": [],
   "source": [
    "%matplotlib notebook"
   ]
  },
  {
   "cell_type": "code",
   "execution_count": null,
   "id": "18168f35",
   "metadata": {},
   "outputs": [],
   "source": [
    "import masserstein "
   ]
  },
  {
   "cell_type": "code",
   "execution_count": null,
   "id": "547dfce4",
   "metadata": {},
   "outputs": [],
   "source": [
    "import os\n",
    "\n",
    "from masserstein import Spectrum, estimate_proportions\n",
    "\n",
    "from matplotlib import pyplot as plt\n",
    "\n",
    "import numpy as np\n",
    "\n",
    "import pulp\n",
    "\n",
    "import pickle\n",
    "\n",
    "import seaborn as sns\n",
    "\n",
    "from textwrap import wrap"
   ]
  },
  {
   "cell_type": "markdown",
   "id": "ae555a7c",
   "metadata": {},
   "source": [
    "### Ground truth"
   ]
  },
  {
   "cell_type": "code",
   "execution_count": null,
   "id": "4dd53918",
   "metadata": {},
   "outputs": [],
   "source": [
    "protons = [16, 12]"
   ]
  },
  {
   "cell_type": "code",
   "execution_count": null,
   "id": "77cc2b88",
   "metadata": {},
   "outputs": [],
   "source": [
    "molar_proportions = [0.3865, 0.6135]"
   ]
  },
  {
   "cell_type": "code",
   "execution_count": null,
   "id": "948cfffc",
   "metadata": {},
   "outputs": [],
   "source": [
    "real_visible_proportions = [prop*prot for prop, prot in zip(molar_proportions, protons)]\n",
    "real_visible_proportions = [rp/sum(real_visible_proportions) for rp in real_visible_proportions]\n",
    "real_visible_proportions"
   ]
  },
  {
   "cell_type": "markdown",
   "id": "0a43c3c3",
   "metadata": {},
   "source": [
    "### Loading the data"
   ]
  },
  {
   "cell_type": "code",
   "execution_count": null,
   "id": "d3dc96a1",
   "metadata": {},
   "outputs": [],
   "source": [
    "official_names = ['Pinene', 'Benzyl_benzoate']"
   ]
  },
  {
   "cell_type": "code",
   "execution_count": null,
   "id": "e2922ee0",
   "metadata": {},
   "outputs": [],
   "source": [
    "# ppm = #np.array with shape (number_of_points on frequency axis for mixture,)\n",
    "# mix = #np.array with shape (number_of_points on frequency axis,)\n",
    "# ppm_comp = #np.array with shape (number_of_points on frequency axis for components, )\n",
    "# components = #np.array with shape (number_of_points on frequency axis for components, number of components)\n",
    "# real_visible_proportions = #np.array with shape (number of components,)"
   ]
  },
  {
   "cell_type": "code",
   "execution_count": null,
   "id": "988cc54c",
   "metadata": {},
   "outputs": [],
   "source": [
    "data = np.loadtxt(os.getcwd()+'/mini_perfumy_duze_pole_CDCl3.csv', skiprows=1, usecols=range(5),\n",
    "                      delimiter='\\t',dtype=float)\n",
    "ppm = data[:,0]\n",
    "mix = data[:,4]\n",
    "ppm_components = data[:,0]\n",
    "components = data[:,1:3]"
   ]
  },
  {
   "cell_type": "code",
   "execution_count": null,
   "id": "68d81855",
   "metadata": {},
   "outputs": [],
   "source": [
    "components_ints = []\n",
    "names = []\n",
    "for i in range(components.shape[1]):\n",
    "    components_ints.append(components[:,i])\n",
    "    names.append('comp'+str(i))"
   ]
  },
  {
   "cell_type": "code",
   "execution_count": null,
   "id": "d54f971c",
   "metadata": {},
   "outputs": [],
   "source": [
    "spectra = []\n",
    "for comp_ints in components_ints:\n",
    "    spectra.append(Spectrum(confs=list(zip(ppm_components, comp_ints))))"
   ]
  },
  {
   "cell_type": "code",
   "execution_count": null,
   "id": "19aa278a",
   "metadata": {},
   "outputs": [],
   "source": [
    "mix = Spectrum(confs=list(zip(ppm,mix)))"
   ]
  },
  {
   "cell_type": "markdown",
   "id": "8f15b9b2",
   "metadata": {},
   "source": [
    "### Preprocessing"
   ]
  },
  {
   "cell_type": "code",
   "execution_count": null,
   "id": "88c18cb9",
   "metadata": {},
   "outputs": [],
   "source": [
    "def make_nonnegative(spectrum):\n",
    "    confs = np.array(spectrum.confs)\n",
    "    neg = confs[:,1]<0\n",
    "    confs[:,1][neg]=0\n",
    "    new_confs = list(zip(confs[:,0],confs[:,1]))\n",
    "    result = Spectrum(confs=new_confs)\n",
    "    return(result)"
   ]
  },
  {
   "cell_type": "code",
   "execution_count": null,
   "id": "f04d69ce",
   "metadata": {},
   "outputs": [],
   "source": [
    "def common_mass_axis(list_of_spectra):\n",
    "    all_mz = set()\n",
    "    for sp in list_of_spectra:\n",
    "        mz_set = set(np.array(sp.confs, np.dtype('float'))[:,0])\n",
    "        all_mz = all_mz.union(mz_set)\n",
    "    all_mz = np.array(sorted(all_mz))\n",
    "    return all_mz"
   ]
  },
  {
   "cell_type": "code",
   "execution_count": null,
   "id": "bf723195",
   "metadata": {},
   "outputs": [],
   "source": [
    "spectra_and_mixture = spectra + [mix]"
   ]
  },
  {
   "cell_type": "code",
   "execution_count": null,
   "id": "e7181f9e",
   "metadata": {},
   "outputs": [],
   "source": [
    "preprocessed_spectra = []\n",
    "for sp in spectra_and_mixture:\n",
    "    sp2 = make_nonnegative(sp)\n",
    "    sp2.sort_confs()\n",
    "    sp2.merge_confs()\n",
    "    sp2.normalize()\n",
    "    preprocessed_spectra.append(sp2)"
   ]
  },
  {
   "cell_type": "code",
   "execution_count": null,
   "id": "01ffe3c0",
   "metadata": {},
   "outputs": [],
   "source": [
    "spectra_and_mixture = preprocessed_spectra\n",
    "spectra = spectra_and_mixture[:-1]\n",
    "mix = preprocessed_spectra[-1]\n",
    "del(preprocessed_spectra)"
   ]
  },
  {
   "cell_type": "code",
   "execution_count": null,
   "id": "1b91ab40",
   "metadata": {},
   "outputs": [],
   "source": [
    "cma = common_mass_axis(spectra_and_mixture)"
   ]
  },
  {
   "cell_type": "code",
   "execution_count": null,
   "id": "5924da86",
   "metadata": {},
   "outputs": [],
   "source": [
    "preprocessed_spectra = []\n",
    "for sp in spectra_and_mixture:\n",
    "    preprocessed_spectra.append(sp.resample(cma))"
   ]
  },
  {
   "cell_type": "code",
   "execution_count": null,
   "id": "eb8e429b",
   "metadata": {},
   "outputs": [],
   "source": [
    "spectra_and_mixture = preprocessed_spectra\n",
    "del(preprocessed_spectra)"
   ]
  },
  {
   "cell_type": "code",
   "execution_count": null,
   "id": "25d7fb75",
   "metadata": {},
   "outputs": [],
   "source": [
    "preprocessed_spectra = []\n",
    "for sp in spectra_and_mixture:\n",
    "    sp = make_nonnegative(sp)\n",
    "    sp.sort_confs()\n",
    "    sp.merge_confs()\n",
    "    sp.normalize()\n",
    "    preprocessed_spectra.append(sp)"
   ]
  },
  {
   "cell_type": "code",
   "execution_count": null,
   "id": "dc3d4186",
   "metadata": {},
   "outputs": [],
   "source": [
    "spectra_and_mixture = preprocessed_spectra\n",
    "spectra = spectra_and_mixture[:-1]\n",
    "mix = preprocessed_spectra[-1]\n",
    "del(preprocessed_spectra)"
   ]
  },
  {
   "cell_type": "code",
   "execution_count": null,
   "id": "3f202d1a",
   "metadata": {},
   "outputs": [],
   "source": [
    "for i, name in enumerate(names):\n",
    "    globals()[name] = spectra[i]"
   ]
  },
  {
   "cell_type": "code",
   "execution_count": null,
   "id": "eb41084e",
   "metadata": {},
   "outputs": [],
   "source": [
    "components_ints = []\n",
    "for spectrum in spectra:\n",
    "    components_ints.append(np.array(spectrum.confs)[:,1])#.reshape(-1,1))"
   ]
  },
  {
   "cell_type": "code",
   "execution_count": null,
   "id": "620b113f",
   "metadata": {},
   "outputs": [],
   "source": [
    "ppm = np.array(mix.confs)[:,0]\n",
    "mix_ints = np.array(mix.confs)[:,1]"
   ]
  },
  {
   "cell_type": "code",
   "execution_count": null,
   "id": "e47868e7",
   "metadata": {},
   "outputs": [],
   "source": [
    "mix.plot(profile=True)\n",
    "comp0.plot(profile=True)\n",
    "comp1.plot(profile=True) "
   ]
  },
  {
   "cell_type": "markdown",
   "id": "658ca867",
   "metadata": {},
   "source": [
    "### Finding best parameters"
   ]
  },
  {
   "cell_type": "code",
   "execution_count": null,
   "id": "929602d7",
   "metadata": {},
   "outputs": [],
   "source": [
    "import time\n",
    "import pandas as pd\n",
    "import pulp"
   ]
  },
  {
   "cell_type": "code",
   "execution_count": null,
   "id": "8e065067",
   "metadata": {},
   "outputs": [],
   "source": [
    "lower_limit = 0.01\n",
    "upper_limit = 0.51\n",
    "step = 0.01"
   ]
  },
  {
   "cell_type": "code",
   "execution_count": null,
   "id": "d47bd07a",
   "metadata": {},
   "outputs": [],
   "source": [
    "# list_of_estimation_results = []\n",
    "# for kappa in np.arange(start=lower_limit, stop=upper_limit, step=step):\n",
    "#     fixed_kappa = []\n",
    "#     for kappa_prime in np.arange(start=lower_limit, stop=upper_limit, step=step):\n",
    "#         start = time.time()\n",
    "#         estimation = estimate_proportions(mix, [comp0, comp1], \n",
    "#                                    MTD=kappa, MTD_th=kappa_prime, verbose=False, solver=pulp.GUROBI(msg=False))\n",
    "#         end = time.time()\n",
    "#         fixed_kappa.append(estimation['proportions'])\n",
    "#         print('Estimation for '+str(kappa)+' and '+str(kappa_prime)+' done')\n",
    "#         print('It took: '+str(end-start)+' seconds.')\n",
    "#         print(estimation['proportions'])\n",
    "#     list_of_estimation_results.append(fixed_kappa)"
   ]
  },
  {
   "cell_type": "code",
   "execution_count": null,
   "id": "9ef7a758",
   "metadata": {},
   "outputs": [],
   "source": [
    "# list_of_dataframes_with_results = []\n",
    "# for component_number in range(len([comp0, comp1])):\n",
    "#     results_for_component = pd.DataFrame(columns=np.arange(start=lower_limit, stop=upper_limit, step=step),\n",
    "#                                    index=np.arange(start=lower_limit, stop=upper_limit, step=step))\n",
    "#     for i in range(results_for_component.shape[0]):\n",
    "#         for j in range(results_for_component.shape[1]):\n",
    "#             results_for_component.iloc[i,j] = list_of_estimation_results[i][j][component_number]\n",
    "    \n",
    "#     list_of_dataframes_with_results.append(results_for_component)"
   ]
  },
  {
   "cell_type": "code",
   "execution_count": null,
   "id": "3c00a9f8",
   "metadata": {},
   "outputs": [],
   "source": [
    "# with open('results_for_different_kappas.pkl', 'wb') as f:\n",
    "#     pickle.dump(list_of_dataframes_with_results, f)"
   ]
  },
  {
   "cell_type": "markdown",
   "id": "11253614",
   "metadata": {},
   "source": [
    "#### Molar proportions"
   ]
  },
  {
   "cell_type": "code",
   "execution_count": null,
   "id": "30b7a294",
   "metadata": {},
   "outputs": [],
   "source": [
    "with open('results_for_different_kappas.pkl', 'rb') as f:\n",
    "    list_of_dataframes_with_results = pickle.load(f)\n",
    "#first coordinate: kappa,\n",
    "#second coordinate: kappa_prime"
   ]
  },
  {
   "cell_type": "code",
   "execution_count": null,
   "id": "cd947d6d",
   "metadata": {},
   "outputs": [],
   "source": [
    "temp = []\n",
    "for nr_of_component, df in enumerate(list_of_dataframes_with_results):\n",
    "    temp.append(df/protons[nr_of_component])\n",
    "temp2 = []\n",
    "for df in temp:\n",
    "    temp2.append(df/sum(temp))\n",
    "list_of_dataframes_with_results = temp2\n",
    "del(temp)\n",
    "del(temp2)"
   ]
  },
  {
   "cell_type": "code",
   "execution_count": null,
   "id": "d520c5fb",
   "metadata": {},
   "outputs": [],
   "source": [
    "dataframes_ready_for_heatmap = []\n",
    "for i, df in enumerate(list_of_dataframes_with_results):\n",
    "    preprocessed_df = abs(df - molar_proportions[i])\n",
    "    dataframes_ready_for_heatmap.append(preprocessed_df)"
   ]
  },
  {
   "cell_type": "code",
   "execution_count": null,
   "id": "fda38b7b",
   "metadata": {},
   "outputs": [],
   "source": [
    "all_components_results_molar = sum(dataframes_ready_for_heatmap)"
   ]
  },
  {
   "cell_type": "markdown",
   "id": "b97ab3c8",
   "metadata": {},
   "source": [
    "#### Visible proportions"
   ]
  },
  {
   "cell_type": "code",
   "execution_count": null,
   "id": "1b422c9b",
   "metadata": {},
   "outputs": [],
   "source": [
    "with open('results_for_different_kappas.pkl', 'rb') as f:\n",
    "    list_of_dataframes_with_results = pickle.load(f)\n",
    "#first coordinate: kappa,\n",
    "#second coordinate: kappa_prime"
   ]
  },
  {
   "cell_type": "code",
   "execution_count": null,
   "id": "17c40543",
   "metadata": {},
   "outputs": [],
   "source": [
    "dataframes_ready_for_heatmap = []\n",
    "for i, df in enumerate(list_of_dataframes_with_results):\n",
    "    preprocessed_df = abs(df - real_visible_proportions[i])\n",
    "    dataframes_ready_for_heatmap.append(preprocessed_df)"
   ]
  },
  {
   "cell_type": "code",
   "execution_count": null,
   "id": "1b920fc3",
   "metadata": {},
   "outputs": [],
   "source": [
    "all_components_results_vis = sum(dataframes_ready_for_heatmap)"
   ]
  },
  {
   "cell_type": "markdown",
   "id": "2e6bcddd",
   "metadata": {},
   "source": [
    "#### Both"
   ]
  },
  {
   "cell_type": "code",
   "execution_count": null,
   "id": "87cb5817",
   "metadata": {},
   "outputs": [],
   "source": [
    "all_components_results_both = all_components_results_vis + all_components_results_molar"
   ]
  },
  {
   "cell_type": "code",
   "execution_count": null,
   "id": "5c271b4f",
   "metadata": {},
   "outputs": [],
   "source": [
    "all_components_results_both = all_components_results_both.apply(pd.to_numeric, errors = 'coerce', axis=0)"
   ]
  },
  {
   "cell_type": "code",
   "execution_count": null,
   "id": "686793f1",
   "metadata": {},
   "outputs": [],
   "source": [
    "all_components_results_both.min().min()"
   ]
  },
  {
   "cell_type": "code",
   "execution_count": null,
   "id": "daf531d4",
   "metadata": {},
   "outputs": [],
   "source": [
    "all_components_results_both[0.2][0.060000000000000005]"
   ]
  },
  {
   "cell_type": "markdown",
   "id": "a34cf8c9",
   "metadata": {},
   "source": [
    "### Saving preprocessed spectra"
   ]
  },
  {
   "cell_type": "code",
   "execution_count": null,
   "id": "89ff17d1",
   "metadata": {},
   "outputs": [],
   "source": [
    "# for i, sp in enumerate(spectra_and_mixture):\n",
    "#     try:\n",
    "#         np.savetxt('preprocessed_'+str(names[i])+'.csv', np.array(sp.confs), delimiter=',')\n",
    "#     except IndexError:\n",
    "#         np.savetxt('preprocessed_mix.csv', np.array(sp.confs), delimiter=',')"
   ]
  }
 ],
 "metadata": {
  "kernelspec": {
   "display_name": "Python 3 (ipykernel)",
   "language": "python",
   "name": "python3"
  },
  "language_info": {
   "codemirror_mode": {
    "name": "ipython",
    "version": 3
   },
   "file_extension": ".py",
   "mimetype": "text/x-python",
   "name": "python",
   "nbconvert_exporter": "python",
   "pygments_lexer": "ipython3",
   "version": "3.10.6"
  }
 },
 "nbformat": 4,
 "nbformat_minor": 5
}
