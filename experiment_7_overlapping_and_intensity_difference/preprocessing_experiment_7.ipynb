{
 "cells": [
  {
   "cell_type": "markdown",
   "id": "c0dda7bc",
   "metadata": {},
   "source": [
    "### Settings and imports"
   ]
  },
  {
   "cell_type": "code",
   "execution_count": 1,
   "id": "6490deb8",
   "metadata": {},
   "outputs": [],
   "source": [
    "%matplotlib notebook"
   ]
  },
  {
   "cell_type": "code",
   "execution_count": 3,
   "id": "18168f35",
   "metadata": {},
   "outputs": [],
   "source": [
    "import masserstein "
   ]
  },
  {
   "cell_type": "code",
   "execution_count": 4,
   "id": "547dfce4",
   "metadata": {},
   "outputs": [],
   "source": [
    "import os\n",
    "\n",
    "from masserstein import Spectrum, NMRSpectrum, estimate_proportions\n",
    "\n",
    "from matplotlib import pyplot as plt\n",
    "\n",
    "import numpy as np\n",
    "\n",
    "import pulp\n",
    "\n",
    "import pickle\n",
    "\n",
    "import seaborn as sns\n",
    "from textwrap import wrap\n",
    "\n",
    "import pandas as pd"
   ]
  },
  {
   "cell_type": "markdown",
   "id": "0a43c3c3",
   "metadata": {},
   "source": [
    "### Loading the data"
   ]
  },
  {
   "cell_type": "code",
   "execution_count": 5,
   "id": "d3dc96a1",
   "metadata": {},
   "outputs": [],
   "source": [
    "official_names = ['Benzyl_benzoate', 'm Anisaldehyde']"
   ]
  },
  {
   "cell_type": "code",
   "execution_count": 6,
   "id": "b83dd525",
   "metadata": {},
   "outputs": [
    {
     "data": {
      "text/plain": [
       "'/home/basia/Documents/spectroscopy/new_magnetstein_data/experiment_7_overlapping_and_intensity_difference'"
      ]
     },
     "execution_count": 6,
     "metadata": {},
     "output_type": "execute_result"
    }
   ],
   "source": [
    "os.getcwd()"
   ]
  },
  {
   "cell_type": "code",
   "execution_count": 7,
   "id": "1872b8e9",
   "metadata": {},
   "outputs": [],
   "source": [
    "mix = np.loadtxt(os.getcwd()+'/m_anisaldehyde_benzylbenzoate_nakrywajace_sie_I_dyzy_zakres+intensywnosci_pikow.csv', skiprows=0, usecols=range(2), \n",
    "                      delimiter='\\t',dtype=float)\n",
    "ppm = mix[:,0]\n",
    "mix = mix[:,1]\n",
    "\n",
    "comp = np.loadtxt(os.getcwd()+'/library.csv', skiprows=1, usecols=[0, 2, 4],\n",
    "                      delimiter='\\t',dtype=float)\n",
    "ppm_components = comp[:,0]\n",
    "components = comp[:,1:]"
   ]
  },
  {
   "cell_type": "code",
   "execution_count": 8,
   "id": "68d81855",
   "metadata": {},
   "outputs": [],
   "source": [
    "components_ints = []\n",
    "names = []\n",
    "for i in range(components.shape[1]):\n",
    "    components_ints.append(components[:,i])\n",
    "    names.append('comp'+str(i))"
   ]
  },
  {
   "cell_type": "code",
   "execution_count": 9,
   "id": "d54f971c",
   "metadata": {},
   "outputs": [],
   "source": [
    "spectra = []\n",
    "for comp_ints in components_ints:\n",
    "    spectra.append(NMRSpectrum(confs=list(zip(ppm_components, comp_ints))))"
   ]
  },
  {
   "cell_type": "code",
   "execution_count": 10,
   "id": "19aa278a",
   "metadata": {},
   "outputs": [],
   "source": [
    "mix = NMRSpectrum(confs=list(zip(ppm,mix)))"
   ]
  },
  {
   "cell_type": "code",
   "execution_count": 12,
   "id": "1f2c6229",
   "metadata": {},
   "outputs": [
    {
     "data": {
      "application/javascript": [
       "/* Put everything inside the global mpl namespace */\n",
       "/* global mpl */\n",
       "window.mpl = {};\n",
       "\n",
       "mpl.get_websocket_type = function () {\n",
       "    if (typeof WebSocket !== 'undefined') {\n",
       "        return WebSocket;\n",
       "    } else if (typeof MozWebSocket !== 'undefined') {\n",
       "        return MozWebSocket;\n",
       "    } else {\n",
       "        alert(\n",
       "            'Your browser does not have WebSocket support. ' +\n",
       "                'Please try Chrome, Safari or Firefox ≥ 6. ' +\n",
       "                'Firefox 4 and 5 are also supported but you ' +\n",
       "                'have to enable WebSockets in about:config.'\n",
       "        );\n",
       "    }\n",
       "};\n",
       "\n",
       "mpl.figure = function (figure_id, websocket, ondownload, parent_element) {\n",
       "    this.id = figure_id;\n",
       "\n",
       "    this.ws = websocket;\n",
       "\n",
       "    this.supports_binary = this.ws.binaryType !== undefined;\n",
       "\n",
       "    if (!this.supports_binary) {\n",
       "        var warnings = document.getElementById('mpl-warnings');\n",
       "        if (warnings) {\n",
       "            warnings.style.display = 'block';\n",
       "            warnings.textContent =\n",
       "                'This browser does not support binary websocket messages. ' +\n",
       "                'Performance may be slow.';\n",
       "        }\n",
       "    }\n",
       "\n",
       "    this.imageObj = new Image();\n",
       "\n",
       "    this.context = undefined;\n",
       "    this.message = undefined;\n",
       "    this.canvas = undefined;\n",
       "    this.rubberband_canvas = undefined;\n",
       "    this.rubberband_context = undefined;\n",
       "    this.format_dropdown = undefined;\n",
       "\n",
       "    this.image_mode = 'full';\n",
       "\n",
       "    this.root = document.createElement('div');\n",
       "    this.root.setAttribute('style', 'display: inline-block');\n",
       "    this._root_extra_style(this.root);\n",
       "\n",
       "    parent_element.appendChild(this.root);\n",
       "\n",
       "    this._init_header(this);\n",
       "    this._init_canvas(this);\n",
       "    this._init_toolbar(this);\n",
       "\n",
       "    var fig = this;\n",
       "\n",
       "    this.waiting = false;\n",
       "\n",
       "    this.ws.onopen = function () {\n",
       "        fig.send_message('supports_binary', { value: fig.supports_binary });\n",
       "        fig.send_message('send_image_mode', {});\n",
       "        if (fig.ratio !== 1) {\n",
       "            fig.send_message('set_device_pixel_ratio', {\n",
       "                device_pixel_ratio: fig.ratio,\n",
       "            });\n",
       "        }\n",
       "        fig.send_message('refresh', {});\n",
       "    };\n",
       "\n",
       "    this.imageObj.onload = function () {\n",
       "        if (fig.image_mode === 'full') {\n",
       "            // Full images could contain transparency (where diff images\n",
       "            // almost always do), so we need to clear the canvas so that\n",
       "            // there is no ghosting.\n",
       "            fig.context.clearRect(0, 0, fig.canvas.width, fig.canvas.height);\n",
       "        }\n",
       "        fig.context.drawImage(fig.imageObj, 0, 0);\n",
       "    };\n",
       "\n",
       "    this.imageObj.onunload = function () {\n",
       "        fig.ws.close();\n",
       "    };\n",
       "\n",
       "    this.ws.onmessage = this._make_on_message_function(this);\n",
       "\n",
       "    this.ondownload = ondownload;\n",
       "};\n",
       "\n",
       "mpl.figure.prototype._init_header = function () {\n",
       "    var titlebar = document.createElement('div');\n",
       "    titlebar.classList =\n",
       "        'ui-dialog-titlebar ui-widget-header ui-corner-all ui-helper-clearfix';\n",
       "    var titletext = document.createElement('div');\n",
       "    titletext.classList = 'ui-dialog-title';\n",
       "    titletext.setAttribute(\n",
       "        'style',\n",
       "        'width: 100%; text-align: center; padding: 3px;'\n",
       "    );\n",
       "    titlebar.appendChild(titletext);\n",
       "    this.root.appendChild(titlebar);\n",
       "    this.header = titletext;\n",
       "};\n",
       "\n",
       "mpl.figure.prototype._canvas_extra_style = function (_canvas_div) {};\n",
       "\n",
       "mpl.figure.prototype._root_extra_style = function (_canvas_div) {};\n",
       "\n",
       "mpl.figure.prototype._init_canvas = function () {\n",
       "    var fig = this;\n",
       "\n",
       "    var canvas_div = (this.canvas_div = document.createElement('div'));\n",
       "    canvas_div.setAttribute('tabindex', '0');\n",
       "    canvas_div.setAttribute(\n",
       "        'style',\n",
       "        'border: 1px solid #ddd;' +\n",
       "            'box-sizing: content-box;' +\n",
       "            'clear: both;' +\n",
       "            'min-height: 1px;' +\n",
       "            'min-width: 1px;' +\n",
       "            'outline: 0;' +\n",
       "            'overflow: hidden;' +\n",
       "            'position: relative;' +\n",
       "            'resize: both;' +\n",
       "            'z-index: 2;'\n",
       "    );\n",
       "\n",
       "    function on_keyboard_event_closure(name) {\n",
       "        return function (event) {\n",
       "            return fig.key_event(event, name);\n",
       "        };\n",
       "    }\n",
       "\n",
       "    canvas_div.addEventListener(\n",
       "        'keydown',\n",
       "        on_keyboard_event_closure('key_press')\n",
       "    );\n",
       "    canvas_div.addEventListener(\n",
       "        'keyup',\n",
       "        on_keyboard_event_closure('key_release')\n",
       "    );\n",
       "\n",
       "    this._canvas_extra_style(canvas_div);\n",
       "    this.root.appendChild(canvas_div);\n",
       "\n",
       "    var canvas = (this.canvas = document.createElement('canvas'));\n",
       "    canvas.classList.add('mpl-canvas');\n",
       "    canvas.setAttribute(\n",
       "        'style',\n",
       "        'box-sizing: content-box;' +\n",
       "            'pointer-events: none;' +\n",
       "            'position: relative;' +\n",
       "            'z-index: 0;'\n",
       "    );\n",
       "\n",
       "    this.context = canvas.getContext('2d');\n",
       "\n",
       "    var backingStore =\n",
       "        this.context.backingStorePixelRatio ||\n",
       "        this.context.webkitBackingStorePixelRatio ||\n",
       "        this.context.mozBackingStorePixelRatio ||\n",
       "        this.context.msBackingStorePixelRatio ||\n",
       "        this.context.oBackingStorePixelRatio ||\n",
       "        this.context.backingStorePixelRatio ||\n",
       "        1;\n",
       "\n",
       "    this.ratio = (window.devicePixelRatio || 1) / backingStore;\n",
       "\n",
       "    var rubberband_canvas = (this.rubberband_canvas = document.createElement(\n",
       "        'canvas'\n",
       "    ));\n",
       "    rubberband_canvas.setAttribute(\n",
       "        'style',\n",
       "        'box-sizing: content-box;' +\n",
       "            'left: 0;' +\n",
       "            'pointer-events: none;' +\n",
       "            'position: absolute;' +\n",
       "            'top: 0;' +\n",
       "            'z-index: 1;'\n",
       "    );\n",
       "\n",
       "    // Apply a ponyfill if ResizeObserver is not implemented by browser.\n",
       "    if (this.ResizeObserver === undefined) {\n",
       "        if (window.ResizeObserver !== undefined) {\n",
       "            this.ResizeObserver = window.ResizeObserver;\n",
       "        } else {\n",
       "            var obs = _JSXTOOLS_RESIZE_OBSERVER({});\n",
       "            this.ResizeObserver = obs.ResizeObserver;\n",
       "        }\n",
       "    }\n",
       "\n",
       "    this.resizeObserverInstance = new this.ResizeObserver(function (entries) {\n",
       "        var nentries = entries.length;\n",
       "        for (var i = 0; i < nentries; i++) {\n",
       "            var entry = entries[i];\n",
       "            var width, height;\n",
       "            if (entry.contentBoxSize) {\n",
       "                if (entry.contentBoxSize instanceof Array) {\n",
       "                    // Chrome 84 implements new version of spec.\n",
       "                    width = entry.contentBoxSize[0].inlineSize;\n",
       "                    height = entry.contentBoxSize[0].blockSize;\n",
       "                } else {\n",
       "                    // Firefox implements old version of spec.\n",
       "                    width = entry.contentBoxSize.inlineSize;\n",
       "                    height = entry.contentBoxSize.blockSize;\n",
       "                }\n",
       "            } else {\n",
       "                // Chrome <84 implements even older version of spec.\n",
       "                width = entry.contentRect.width;\n",
       "                height = entry.contentRect.height;\n",
       "            }\n",
       "\n",
       "            // Keep the size of the canvas and rubber band canvas in sync with\n",
       "            // the canvas container.\n",
       "            if (entry.devicePixelContentBoxSize) {\n",
       "                // Chrome 84 implements new version of spec.\n",
       "                canvas.setAttribute(\n",
       "                    'width',\n",
       "                    entry.devicePixelContentBoxSize[0].inlineSize\n",
       "                );\n",
       "                canvas.setAttribute(\n",
       "                    'height',\n",
       "                    entry.devicePixelContentBoxSize[0].blockSize\n",
       "                );\n",
       "            } else {\n",
       "                canvas.setAttribute('width', width * fig.ratio);\n",
       "                canvas.setAttribute('height', height * fig.ratio);\n",
       "            }\n",
       "            /* This rescales the canvas back to display pixels, so that it\n",
       "             * appears correct on HiDPI screens. */\n",
       "            canvas.style.width = width + 'px';\n",
       "            canvas.style.height = height + 'px';\n",
       "\n",
       "            rubberband_canvas.setAttribute('width', width);\n",
       "            rubberband_canvas.setAttribute('height', height);\n",
       "\n",
       "            // And update the size in Python. We ignore the initial 0/0 size\n",
       "            // that occurs as the element is placed into the DOM, which should\n",
       "            // otherwise not happen due to the minimum size styling.\n",
       "            if (fig.ws.readyState == 1 && width != 0 && height != 0) {\n",
       "                fig.request_resize(width, height);\n",
       "            }\n",
       "        }\n",
       "    });\n",
       "    this.resizeObserverInstance.observe(canvas_div);\n",
       "\n",
       "    function on_mouse_event_closure(name) {\n",
       "        /* User Agent sniffing is bad, but WebKit is busted:\n",
       "         * https://bugs.webkit.org/show_bug.cgi?id=144526\n",
       "         * https://bugs.webkit.org/show_bug.cgi?id=181818\n",
       "         * The worst that happens here is that they get an extra browser\n",
       "         * selection when dragging, if this check fails to catch them.\n",
       "         */\n",
       "        var UA = navigator.userAgent;\n",
       "        var isWebKit = /AppleWebKit/.test(UA) && !/Chrome/.test(UA);\n",
       "        if(isWebKit) {\n",
       "            return function (event) {\n",
       "                /* This prevents the web browser from automatically changing to\n",
       "                 * the text insertion cursor when the button is pressed. We\n",
       "                 * want to control all of the cursor setting manually through\n",
       "                 * the 'cursor' event from matplotlib */\n",
       "                event.preventDefault()\n",
       "                return fig.mouse_event(event, name);\n",
       "            };\n",
       "        } else {\n",
       "            return function (event) {\n",
       "                return fig.mouse_event(event, name);\n",
       "            };\n",
       "        }\n",
       "    }\n",
       "\n",
       "    canvas_div.addEventListener(\n",
       "        'mousedown',\n",
       "        on_mouse_event_closure('button_press')\n",
       "    );\n",
       "    canvas_div.addEventListener(\n",
       "        'mouseup',\n",
       "        on_mouse_event_closure('button_release')\n",
       "    );\n",
       "    canvas_div.addEventListener(\n",
       "        'dblclick',\n",
       "        on_mouse_event_closure('dblclick')\n",
       "    );\n",
       "    // Throttle sequential mouse events to 1 every 20ms.\n",
       "    canvas_div.addEventListener(\n",
       "        'mousemove',\n",
       "        on_mouse_event_closure('motion_notify')\n",
       "    );\n",
       "\n",
       "    canvas_div.addEventListener(\n",
       "        'mouseenter',\n",
       "        on_mouse_event_closure('figure_enter')\n",
       "    );\n",
       "    canvas_div.addEventListener(\n",
       "        'mouseleave',\n",
       "        on_mouse_event_closure('figure_leave')\n",
       "    );\n",
       "\n",
       "    canvas_div.addEventListener('wheel', function (event) {\n",
       "        if (event.deltaY < 0) {\n",
       "            event.step = 1;\n",
       "        } else {\n",
       "            event.step = -1;\n",
       "        }\n",
       "        on_mouse_event_closure('scroll')(event);\n",
       "    });\n",
       "\n",
       "    canvas_div.appendChild(canvas);\n",
       "    canvas_div.appendChild(rubberband_canvas);\n",
       "\n",
       "    this.rubberband_context = rubberband_canvas.getContext('2d');\n",
       "    this.rubberband_context.strokeStyle = '#000000';\n",
       "\n",
       "    this._resize_canvas = function (width, height, forward) {\n",
       "        if (forward) {\n",
       "            canvas_div.style.width = width + 'px';\n",
       "            canvas_div.style.height = height + 'px';\n",
       "        }\n",
       "    };\n",
       "\n",
       "    // Disable right mouse context menu.\n",
       "    canvas_div.addEventListener('contextmenu', function (_e) {\n",
       "        event.preventDefault();\n",
       "        return false;\n",
       "    });\n",
       "\n",
       "    function set_focus() {\n",
       "        canvas.focus();\n",
       "        canvas_div.focus();\n",
       "    }\n",
       "\n",
       "    window.setTimeout(set_focus, 100);\n",
       "};\n",
       "\n",
       "mpl.figure.prototype._init_toolbar = function () {\n",
       "    var fig = this;\n",
       "\n",
       "    var toolbar = document.createElement('div');\n",
       "    toolbar.classList = 'mpl-toolbar';\n",
       "    this.root.appendChild(toolbar);\n",
       "\n",
       "    function on_click_closure(name) {\n",
       "        return function (_event) {\n",
       "            return fig.toolbar_button_onclick(name);\n",
       "        };\n",
       "    }\n",
       "\n",
       "    function on_mouseover_closure(tooltip) {\n",
       "        return function (event) {\n",
       "            if (!event.currentTarget.disabled) {\n",
       "                return fig.toolbar_button_onmouseover(tooltip);\n",
       "            }\n",
       "        };\n",
       "    }\n",
       "\n",
       "    fig.buttons = {};\n",
       "    var buttonGroup = document.createElement('div');\n",
       "    buttonGroup.classList = 'mpl-button-group';\n",
       "    for (var toolbar_ind in mpl.toolbar_items) {\n",
       "        var name = mpl.toolbar_items[toolbar_ind][0];\n",
       "        var tooltip = mpl.toolbar_items[toolbar_ind][1];\n",
       "        var image = mpl.toolbar_items[toolbar_ind][2];\n",
       "        var method_name = mpl.toolbar_items[toolbar_ind][3];\n",
       "\n",
       "        if (!name) {\n",
       "            /* Instead of a spacer, we start a new button group. */\n",
       "            if (buttonGroup.hasChildNodes()) {\n",
       "                toolbar.appendChild(buttonGroup);\n",
       "            }\n",
       "            buttonGroup = document.createElement('div');\n",
       "            buttonGroup.classList = 'mpl-button-group';\n",
       "            continue;\n",
       "        }\n",
       "\n",
       "        var button = (fig.buttons[name] = document.createElement('button'));\n",
       "        button.classList = 'mpl-widget';\n",
       "        button.setAttribute('role', 'button');\n",
       "        button.setAttribute('aria-disabled', 'false');\n",
       "        button.addEventListener('click', on_click_closure(method_name));\n",
       "        button.addEventListener('mouseover', on_mouseover_closure(tooltip));\n",
       "\n",
       "        var icon_img = document.createElement('img');\n",
       "        icon_img.src = '_images/' + image + '.png';\n",
       "        icon_img.srcset = '_images/' + image + '_large.png 2x';\n",
       "        icon_img.alt = tooltip;\n",
       "        button.appendChild(icon_img);\n",
       "\n",
       "        buttonGroup.appendChild(button);\n",
       "    }\n",
       "\n",
       "    if (buttonGroup.hasChildNodes()) {\n",
       "        toolbar.appendChild(buttonGroup);\n",
       "    }\n",
       "\n",
       "    var fmt_picker = document.createElement('select');\n",
       "    fmt_picker.classList = 'mpl-widget';\n",
       "    toolbar.appendChild(fmt_picker);\n",
       "    this.format_dropdown = fmt_picker;\n",
       "\n",
       "    for (var ind in mpl.extensions) {\n",
       "        var fmt = mpl.extensions[ind];\n",
       "        var option = document.createElement('option');\n",
       "        option.selected = fmt === mpl.default_extension;\n",
       "        option.innerHTML = fmt;\n",
       "        fmt_picker.appendChild(option);\n",
       "    }\n",
       "\n",
       "    var status_bar = document.createElement('span');\n",
       "    status_bar.classList = 'mpl-message';\n",
       "    toolbar.appendChild(status_bar);\n",
       "    this.message = status_bar;\n",
       "};\n",
       "\n",
       "mpl.figure.prototype.request_resize = function (x_pixels, y_pixels) {\n",
       "    // Request matplotlib to resize the figure. Matplotlib will then trigger a resize in the client,\n",
       "    // which will in turn request a refresh of the image.\n",
       "    this.send_message('resize', { width: x_pixels, height: y_pixels });\n",
       "};\n",
       "\n",
       "mpl.figure.prototype.send_message = function (type, properties) {\n",
       "    properties['type'] = type;\n",
       "    properties['figure_id'] = this.id;\n",
       "    this.ws.send(JSON.stringify(properties));\n",
       "};\n",
       "\n",
       "mpl.figure.prototype.send_draw_message = function () {\n",
       "    if (!this.waiting) {\n",
       "        this.waiting = true;\n",
       "        this.ws.send(JSON.stringify({ type: 'draw', figure_id: this.id }));\n",
       "    }\n",
       "};\n",
       "\n",
       "mpl.figure.prototype.handle_save = function (fig, _msg) {\n",
       "    var format_dropdown = fig.format_dropdown;\n",
       "    var format = format_dropdown.options[format_dropdown.selectedIndex].value;\n",
       "    fig.ondownload(fig, format);\n",
       "};\n",
       "\n",
       "mpl.figure.prototype.handle_resize = function (fig, msg) {\n",
       "    var size = msg['size'];\n",
       "    if (size[0] !== fig.canvas.width || size[1] !== fig.canvas.height) {\n",
       "        fig._resize_canvas(size[0], size[1], msg['forward']);\n",
       "        fig.send_message('refresh', {});\n",
       "    }\n",
       "};\n",
       "\n",
       "mpl.figure.prototype.handle_rubberband = function (fig, msg) {\n",
       "    var x0 = msg['x0'] / fig.ratio;\n",
       "    var y0 = (fig.canvas.height - msg['y0']) / fig.ratio;\n",
       "    var x1 = msg['x1'] / fig.ratio;\n",
       "    var y1 = (fig.canvas.height - msg['y1']) / fig.ratio;\n",
       "    x0 = Math.floor(x0) + 0.5;\n",
       "    y0 = Math.floor(y0) + 0.5;\n",
       "    x1 = Math.floor(x1) + 0.5;\n",
       "    y1 = Math.floor(y1) + 0.5;\n",
       "    var min_x = Math.min(x0, x1);\n",
       "    var min_y = Math.min(y0, y1);\n",
       "    var width = Math.abs(x1 - x0);\n",
       "    var height = Math.abs(y1 - y0);\n",
       "\n",
       "    fig.rubberband_context.clearRect(\n",
       "        0,\n",
       "        0,\n",
       "        fig.canvas.width / fig.ratio,\n",
       "        fig.canvas.height / fig.ratio\n",
       "    );\n",
       "\n",
       "    fig.rubberband_context.strokeRect(min_x, min_y, width, height);\n",
       "};\n",
       "\n",
       "mpl.figure.prototype.handle_figure_label = function (fig, msg) {\n",
       "    // Updates the figure title.\n",
       "    fig.header.textContent = msg['label'];\n",
       "};\n",
       "\n",
       "mpl.figure.prototype.handle_cursor = function (fig, msg) {\n",
       "    fig.canvas_div.style.cursor = msg['cursor'];\n",
       "};\n",
       "\n",
       "mpl.figure.prototype.handle_message = function (fig, msg) {\n",
       "    fig.message.textContent = msg['message'];\n",
       "};\n",
       "\n",
       "mpl.figure.prototype.handle_draw = function (fig, _msg) {\n",
       "    // Request the server to send over a new figure.\n",
       "    fig.send_draw_message();\n",
       "};\n",
       "\n",
       "mpl.figure.prototype.handle_image_mode = function (fig, msg) {\n",
       "    fig.image_mode = msg['mode'];\n",
       "};\n",
       "\n",
       "mpl.figure.prototype.handle_history_buttons = function (fig, msg) {\n",
       "    for (var key in msg) {\n",
       "        if (!(key in fig.buttons)) {\n",
       "            continue;\n",
       "        }\n",
       "        fig.buttons[key].disabled = !msg[key];\n",
       "        fig.buttons[key].setAttribute('aria-disabled', !msg[key]);\n",
       "    }\n",
       "};\n",
       "\n",
       "mpl.figure.prototype.handle_navigate_mode = function (fig, msg) {\n",
       "    if (msg['mode'] === 'PAN') {\n",
       "        fig.buttons['Pan'].classList.add('active');\n",
       "        fig.buttons['Zoom'].classList.remove('active');\n",
       "    } else if (msg['mode'] === 'ZOOM') {\n",
       "        fig.buttons['Pan'].classList.remove('active');\n",
       "        fig.buttons['Zoom'].classList.add('active');\n",
       "    } else {\n",
       "        fig.buttons['Pan'].classList.remove('active');\n",
       "        fig.buttons['Zoom'].classList.remove('active');\n",
       "    }\n",
       "};\n",
       "\n",
       "mpl.figure.prototype.updated_canvas_event = function () {\n",
       "    // Called whenever the canvas gets updated.\n",
       "    this.send_message('ack', {});\n",
       "};\n",
       "\n",
       "// A function to construct a web socket function for onmessage handling.\n",
       "// Called in the figure constructor.\n",
       "mpl.figure.prototype._make_on_message_function = function (fig) {\n",
       "    return function socket_on_message(evt) {\n",
       "        if (evt.data instanceof Blob) {\n",
       "            var img = evt.data;\n",
       "            if (img.type !== 'image/png') {\n",
       "                /* FIXME: We get \"Resource interpreted as Image but\n",
       "                 * transferred with MIME type text/plain:\" errors on\n",
       "                 * Chrome.  But how to set the MIME type?  It doesn't seem\n",
       "                 * to be part of the websocket stream */\n",
       "                img.type = 'image/png';\n",
       "            }\n",
       "\n",
       "            /* Free the memory for the previous frames */\n",
       "            if (fig.imageObj.src) {\n",
       "                (window.URL || window.webkitURL).revokeObjectURL(\n",
       "                    fig.imageObj.src\n",
       "                );\n",
       "            }\n",
       "\n",
       "            fig.imageObj.src = (window.URL || window.webkitURL).createObjectURL(\n",
       "                img\n",
       "            );\n",
       "            fig.updated_canvas_event();\n",
       "            fig.waiting = false;\n",
       "            return;\n",
       "        } else if (\n",
       "            typeof evt.data === 'string' &&\n",
       "            evt.data.slice(0, 21) === 'data:image/png;base64'\n",
       "        ) {\n",
       "            fig.imageObj.src = evt.data;\n",
       "            fig.updated_canvas_event();\n",
       "            fig.waiting = false;\n",
       "            return;\n",
       "        }\n",
       "\n",
       "        var msg = JSON.parse(evt.data);\n",
       "        var msg_type = msg['type'];\n",
       "\n",
       "        // Call the  \"handle_{type}\" callback, which takes\n",
       "        // the figure and JSON message as its only arguments.\n",
       "        try {\n",
       "            var callback = fig['handle_' + msg_type];\n",
       "        } catch (e) {\n",
       "            console.log(\n",
       "                \"No handler for the '\" + msg_type + \"' message type: \",\n",
       "                msg\n",
       "            );\n",
       "            return;\n",
       "        }\n",
       "\n",
       "        if (callback) {\n",
       "            try {\n",
       "                // console.log(\"Handling '\" + msg_type + \"' message: \", msg);\n",
       "                callback(fig, msg);\n",
       "            } catch (e) {\n",
       "                console.log(\n",
       "                    \"Exception inside the 'handler_\" + msg_type + \"' callback:\",\n",
       "                    e,\n",
       "                    e.stack,\n",
       "                    msg\n",
       "                );\n",
       "            }\n",
       "        }\n",
       "    };\n",
       "};\n",
       "\n",
       "\n",
       "/*\n",
       " * return a copy of an object with only non-object keys\n",
       " * we need this to avoid circular references\n",
       " * https://stackoverflow.com/a/24161582/3208463\n",
       " */\n",
       "function simpleKeys(original) {\n",
       "    return Object.keys(original).reduce(function (obj, key) {\n",
       "        if (typeof original[key] !== 'object') {\n",
       "            obj[key] = original[key];\n",
       "        }\n",
       "        return obj;\n",
       "    }, {});\n",
       "}\n",
       "\n",
       "mpl.figure.prototype.mouse_event = function (event, name) {\n",
       "    if (name === 'button_press') {\n",
       "        this.canvas.focus();\n",
       "        this.canvas_div.focus();\n",
       "    }\n",
       "\n",
       "    // from https://stackoverflow.com/q/1114465\n",
       "    var boundingRect = this.canvas.getBoundingClientRect();\n",
       "    var x = (event.clientX - boundingRect.left) * this.ratio;\n",
       "    var y = (event.clientY - boundingRect.top) * this.ratio;\n",
       "\n",
       "    this.send_message(name, {\n",
       "        x: x,\n",
       "        y: y,\n",
       "        button: event.button,\n",
       "        step: event.step,\n",
       "        guiEvent: simpleKeys(event),\n",
       "    });\n",
       "\n",
       "    return false;\n",
       "};\n",
       "\n",
       "mpl.figure.prototype._key_event_extra = function (_event, _name) {\n",
       "    // Handle any extra behaviour associated with a key event\n",
       "};\n",
       "\n",
       "mpl.figure.prototype.key_event = function (event, name) {\n",
       "    // Prevent repeat events\n",
       "    if (name === 'key_press') {\n",
       "        if (event.key === this._key) {\n",
       "            return;\n",
       "        } else {\n",
       "            this._key = event.key;\n",
       "        }\n",
       "    }\n",
       "    if (name === 'key_release') {\n",
       "        this._key = null;\n",
       "    }\n",
       "\n",
       "    var value = '';\n",
       "    if (event.ctrlKey && event.key !== 'Control') {\n",
       "        value += 'ctrl+';\n",
       "    }\n",
       "    else if (event.altKey && event.key !== 'Alt') {\n",
       "        value += 'alt+';\n",
       "    }\n",
       "    else if (event.shiftKey && event.key !== 'Shift') {\n",
       "        value += 'shift+';\n",
       "    }\n",
       "\n",
       "    value += 'k' + event.key;\n",
       "\n",
       "    this._key_event_extra(event, name);\n",
       "\n",
       "    this.send_message(name, { key: value, guiEvent: simpleKeys(event) });\n",
       "    return false;\n",
       "};\n",
       "\n",
       "mpl.figure.prototype.toolbar_button_onclick = function (name) {\n",
       "    if (name === 'download') {\n",
       "        this.handle_save(this, null);\n",
       "    } else {\n",
       "        this.send_message('toolbar_button', { name: name });\n",
       "    }\n",
       "};\n",
       "\n",
       "mpl.figure.prototype.toolbar_button_onmouseover = function (tooltip) {\n",
       "    this.message.textContent = tooltip;\n",
       "};\n",
       "\n",
       "///////////////// REMAINING CONTENT GENERATED BY embed_js.py /////////////////\n",
       "// prettier-ignore\n",
       "var _JSXTOOLS_RESIZE_OBSERVER=function(A){var t,i=new WeakMap,n=new WeakMap,a=new WeakMap,r=new WeakMap,o=new Set;function s(e){if(!(this instanceof s))throw new TypeError(\"Constructor requires 'new' operator\");i.set(this,e)}function h(){throw new TypeError(\"Function is not a constructor\")}function c(e,t,i,n){e=0 in arguments?Number(arguments[0]):0,t=1 in arguments?Number(arguments[1]):0,i=2 in arguments?Number(arguments[2]):0,n=3 in arguments?Number(arguments[3]):0,this.right=(this.x=this.left=e)+(this.width=i),this.bottom=(this.y=this.top=t)+(this.height=n),Object.freeze(this)}function d(){t=requestAnimationFrame(d);var s=new WeakMap,p=new Set;o.forEach((function(t){r.get(t).forEach((function(i){var r=t instanceof window.SVGElement,o=a.get(t),d=r?0:parseFloat(o.paddingTop),f=r?0:parseFloat(o.paddingRight),l=r?0:parseFloat(o.paddingBottom),u=r?0:parseFloat(o.paddingLeft),g=r?0:parseFloat(o.borderTopWidth),m=r?0:parseFloat(o.borderRightWidth),w=r?0:parseFloat(o.borderBottomWidth),b=u+f,F=d+l,v=(r?0:parseFloat(o.borderLeftWidth))+m,W=g+w,y=r?0:t.offsetHeight-W-t.clientHeight,E=r?0:t.offsetWidth-v-t.clientWidth,R=b+v,z=F+W,M=r?t.width:parseFloat(o.width)-R-E,O=r?t.height:parseFloat(o.height)-z-y;if(n.has(t)){var k=n.get(t);if(k[0]===M&&k[1]===O)return}n.set(t,[M,O]);var S=Object.create(h.prototype);S.target=t,S.contentRect=new c(u,d,M,O),s.has(i)||(s.set(i,[]),p.add(i)),s.get(i).push(S)}))})),p.forEach((function(e){i.get(e).call(e,s.get(e),e)}))}return s.prototype.observe=function(i){if(i instanceof window.Element){r.has(i)||(r.set(i,new Set),o.add(i),a.set(i,window.getComputedStyle(i)));var n=r.get(i);n.has(this)||n.add(this),cancelAnimationFrame(t),t=requestAnimationFrame(d)}},s.prototype.unobserve=function(i){if(i instanceof window.Element&&r.has(i)){var n=r.get(i);n.has(this)&&(n.delete(this),n.size||(r.delete(i),o.delete(i))),n.size||r.delete(i),o.size||cancelAnimationFrame(t)}},A.DOMRectReadOnly=c,A.ResizeObserver=s,A.ResizeObserverEntry=h,A}; // eslint-disable-line\n",
       "mpl.toolbar_items = [[\"Home\", \"Reset original view\", \"fa fa-home\", \"home\"], [\"Back\", \"Back to previous view\", \"fa fa-arrow-left\", \"back\"], [\"Forward\", \"Forward to next view\", \"fa fa-arrow-right\", \"forward\"], [\"\", \"\", \"\", \"\"], [\"Pan\", \"Left button pans, Right button zooms\\nx/y fixes axis, CTRL fixes aspect\", \"fa fa-arrows\", \"pan\"], [\"Zoom\", \"Zoom to rectangle\\nx/y fixes axis\", \"fa fa-square-o\", \"zoom\"], [\"\", \"\", \"\", \"\"], [\"Download\", \"Download plot\", \"fa fa-floppy-o\", \"download\"]];\n",
       "\n",
       "mpl.extensions = [\"eps\", \"jpeg\", \"pgf\", \"pdf\", \"png\", \"ps\", \"raw\", \"svg\", \"tif\", \"webp\"];\n",
       "\n",
       "mpl.default_extension = \"png\";/* global mpl */\n",
       "\n",
       "var comm_websocket_adapter = function (comm) {\n",
       "    // Create a \"websocket\"-like object which calls the given IPython comm\n",
       "    // object with the appropriate methods. Currently this is a non binary\n",
       "    // socket, so there is still some room for performance tuning.\n",
       "    var ws = {};\n",
       "\n",
       "    ws.binaryType = comm.kernel.ws.binaryType;\n",
       "    ws.readyState = comm.kernel.ws.readyState;\n",
       "    function updateReadyState(_event) {\n",
       "        if (comm.kernel.ws) {\n",
       "            ws.readyState = comm.kernel.ws.readyState;\n",
       "        } else {\n",
       "            ws.readyState = 3; // Closed state.\n",
       "        }\n",
       "    }\n",
       "    comm.kernel.ws.addEventListener('open', updateReadyState);\n",
       "    comm.kernel.ws.addEventListener('close', updateReadyState);\n",
       "    comm.kernel.ws.addEventListener('error', updateReadyState);\n",
       "\n",
       "    ws.close = function () {\n",
       "        comm.close();\n",
       "    };\n",
       "    ws.send = function (m) {\n",
       "        //console.log('sending', m);\n",
       "        comm.send(m);\n",
       "    };\n",
       "    // Register the callback with on_msg.\n",
       "    comm.on_msg(function (msg) {\n",
       "        //console.log('receiving', msg['content']['data'], msg);\n",
       "        var data = msg['content']['data'];\n",
       "        if (data['blob'] !== undefined) {\n",
       "            data = {\n",
       "                data: new Blob(msg['buffers'], { type: data['blob'] }),\n",
       "            };\n",
       "        }\n",
       "        // Pass the mpl event to the overridden (by mpl) onmessage function.\n",
       "        ws.onmessage(data);\n",
       "    });\n",
       "    return ws;\n",
       "};\n",
       "\n",
       "mpl.mpl_figure_comm = function (comm, msg) {\n",
       "    // This is the function which gets called when the mpl process\n",
       "    // starts-up an IPython Comm through the \"matplotlib\" channel.\n",
       "\n",
       "    var id = msg.content.data.id;\n",
       "    // Get hold of the div created by the display call when the Comm\n",
       "    // socket was opened in Python.\n",
       "    var element = document.getElementById(id);\n",
       "    var ws_proxy = comm_websocket_adapter(comm);\n",
       "\n",
       "    function ondownload(figure, _format) {\n",
       "        window.open(figure.canvas.toDataURL());\n",
       "    }\n",
       "\n",
       "    var fig = new mpl.figure(id, ws_proxy, ondownload, element);\n",
       "\n",
       "    // Call onopen now - mpl needs it, as it is assuming we've passed it a real\n",
       "    // web socket which is closed, not our websocket->open comm proxy.\n",
       "    ws_proxy.onopen();\n",
       "\n",
       "    fig.parent_element = element;\n",
       "    fig.cell_info = mpl.find_output_cell(\"<div id='\" + id + \"'></div>\");\n",
       "    if (!fig.cell_info) {\n",
       "        console.error('Failed to find cell for figure', id, fig);\n",
       "        return;\n",
       "    }\n",
       "    fig.cell_info[0].output_area.element.on(\n",
       "        'cleared',\n",
       "        { fig: fig },\n",
       "        fig._remove_fig_handler\n",
       "    );\n",
       "};\n",
       "\n",
       "mpl.figure.prototype.handle_close = function (fig, msg) {\n",
       "    var width = fig.canvas.width / fig.ratio;\n",
       "    fig.cell_info[0].output_area.element.off(\n",
       "        'cleared',\n",
       "        fig._remove_fig_handler\n",
       "    );\n",
       "    fig.resizeObserverInstance.unobserve(fig.canvas_div);\n",
       "\n",
       "    // Update the output cell to use the data from the current canvas.\n",
       "    fig.push_to_output();\n",
       "    var dataURL = fig.canvas.toDataURL();\n",
       "    // Re-enable the keyboard manager in IPython - without this line, in FF,\n",
       "    // the notebook keyboard shortcuts fail.\n",
       "    IPython.keyboard_manager.enable();\n",
       "    fig.parent_element.innerHTML =\n",
       "        '<img src=\"' + dataURL + '\" width=\"' + width + '\">';\n",
       "    fig.close_ws(fig, msg);\n",
       "};\n",
       "\n",
       "mpl.figure.prototype.close_ws = function (fig, msg) {\n",
       "    fig.send_message('closing', msg);\n",
       "    // fig.ws.close()\n",
       "};\n",
       "\n",
       "mpl.figure.prototype.push_to_output = function (_remove_interactive) {\n",
       "    // Turn the data on the canvas into data in the output cell.\n",
       "    var width = this.canvas.width / this.ratio;\n",
       "    var dataURL = this.canvas.toDataURL();\n",
       "    this.cell_info[1]['text/html'] =\n",
       "        '<img src=\"' + dataURL + '\" width=\"' + width + '\">';\n",
       "};\n",
       "\n",
       "mpl.figure.prototype.updated_canvas_event = function () {\n",
       "    // Tell IPython that the notebook contents must change.\n",
       "    IPython.notebook.set_dirty(true);\n",
       "    this.send_message('ack', {});\n",
       "    var fig = this;\n",
       "    // Wait a second, then push the new image to the DOM so\n",
       "    // that it is saved nicely (might be nice to debounce this).\n",
       "    setTimeout(function () {\n",
       "        fig.push_to_output();\n",
       "    }, 1000);\n",
       "};\n",
       "\n",
       "mpl.figure.prototype._init_toolbar = function () {\n",
       "    var fig = this;\n",
       "\n",
       "    var toolbar = document.createElement('div');\n",
       "    toolbar.classList = 'btn-toolbar';\n",
       "    this.root.appendChild(toolbar);\n",
       "\n",
       "    function on_click_closure(name) {\n",
       "        return function (_event) {\n",
       "            return fig.toolbar_button_onclick(name);\n",
       "        };\n",
       "    }\n",
       "\n",
       "    function on_mouseover_closure(tooltip) {\n",
       "        return function (event) {\n",
       "            if (!event.currentTarget.disabled) {\n",
       "                return fig.toolbar_button_onmouseover(tooltip);\n",
       "            }\n",
       "        };\n",
       "    }\n",
       "\n",
       "    fig.buttons = {};\n",
       "    var buttonGroup = document.createElement('div');\n",
       "    buttonGroup.classList = 'btn-group';\n",
       "    var button;\n",
       "    for (var toolbar_ind in mpl.toolbar_items) {\n",
       "        var name = mpl.toolbar_items[toolbar_ind][0];\n",
       "        var tooltip = mpl.toolbar_items[toolbar_ind][1];\n",
       "        var image = mpl.toolbar_items[toolbar_ind][2];\n",
       "        var method_name = mpl.toolbar_items[toolbar_ind][3];\n",
       "\n",
       "        if (!name) {\n",
       "            /* Instead of a spacer, we start a new button group. */\n",
       "            if (buttonGroup.hasChildNodes()) {\n",
       "                toolbar.appendChild(buttonGroup);\n",
       "            }\n",
       "            buttonGroup = document.createElement('div');\n",
       "            buttonGroup.classList = 'btn-group';\n",
       "            continue;\n",
       "        }\n",
       "\n",
       "        button = fig.buttons[name] = document.createElement('button');\n",
       "        button.classList = 'btn btn-default';\n",
       "        button.href = '#';\n",
       "        button.title = name;\n",
       "        button.innerHTML = '<i class=\"fa ' + image + ' fa-lg\"></i>';\n",
       "        button.addEventListener('click', on_click_closure(method_name));\n",
       "        button.addEventListener('mouseover', on_mouseover_closure(tooltip));\n",
       "        buttonGroup.appendChild(button);\n",
       "    }\n",
       "\n",
       "    if (buttonGroup.hasChildNodes()) {\n",
       "        toolbar.appendChild(buttonGroup);\n",
       "    }\n",
       "\n",
       "    // Add the status bar.\n",
       "    var status_bar = document.createElement('span');\n",
       "    status_bar.classList = 'mpl-message pull-right';\n",
       "    toolbar.appendChild(status_bar);\n",
       "    this.message = status_bar;\n",
       "\n",
       "    // Add the close button to the window.\n",
       "    var buttongrp = document.createElement('div');\n",
       "    buttongrp.classList = 'btn-group inline pull-right';\n",
       "    button = document.createElement('button');\n",
       "    button.classList = 'btn btn-mini btn-primary';\n",
       "    button.href = '#';\n",
       "    button.title = 'Stop Interaction';\n",
       "    button.innerHTML = '<i class=\"fa fa-power-off icon-remove icon-large\"></i>';\n",
       "    button.addEventListener('click', function (_evt) {\n",
       "        fig.handle_close(fig, {});\n",
       "    });\n",
       "    button.addEventListener(\n",
       "        'mouseover',\n",
       "        on_mouseover_closure('Stop Interaction')\n",
       "    );\n",
       "    buttongrp.appendChild(button);\n",
       "    var titlebar = this.root.querySelector('.ui-dialog-titlebar');\n",
       "    titlebar.insertBefore(buttongrp, titlebar.firstChild);\n",
       "};\n",
       "\n",
       "mpl.figure.prototype._remove_fig_handler = function (event) {\n",
       "    var fig = event.data.fig;\n",
       "    if (event.target !== this) {\n",
       "        // Ignore bubbled events from children.\n",
       "        return;\n",
       "    }\n",
       "    fig.close_ws(fig, {});\n",
       "};\n",
       "\n",
       "mpl.figure.prototype._root_extra_style = function (el) {\n",
       "    el.style.boxSizing = 'content-box'; // override notebook setting of border-box.\n",
       "};\n",
       "\n",
       "mpl.figure.prototype._canvas_extra_style = function (el) {\n",
       "    // this is important to make the div 'focusable\n",
       "    el.setAttribute('tabindex', 0);\n",
       "    // reach out to IPython and tell the keyboard manager to turn it's self\n",
       "    // off when our div gets focus\n",
       "\n",
       "    // location in version 3\n",
       "    if (IPython.notebook.keyboard_manager) {\n",
       "        IPython.notebook.keyboard_manager.register_events(el);\n",
       "    } else {\n",
       "        // location in version 2\n",
       "        IPython.keyboard_manager.register_events(el);\n",
       "    }\n",
       "};\n",
       "\n",
       "mpl.figure.prototype._key_event_extra = function (event, _name) {\n",
       "    // Check for shift+enter\n",
       "    if (event.shiftKey && event.which === 13) {\n",
       "        this.canvas_div.blur();\n",
       "        // select the cell after this one\n",
       "        var index = IPython.notebook.find_cell_index(this.cell_info[0]);\n",
       "        IPython.notebook.select(index + 1);\n",
       "    }\n",
       "};\n",
       "\n",
       "mpl.figure.prototype.handle_save = function (fig, _msg) {\n",
       "    fig.ondownload(fig, null);\n",
       "};\n",
       "\n",
       "mpl.find_output_cell = function (html_output) {\n",
       "    // Return the cell and output element which can be found *uniquely* in the notebook.\n",
       "    // Note - this is a bit hacky, but it is done because the \"notebook_saving.Notebook\"\n",
       "    // IPython event is triggered only after the cells have been serialised, which for\n",
       "    // our purposes (turning an active figure into a static one), is too late.\n",
       "    var cells = IPython.notebook.get_cells();\n",
       "    var ncells = cells.length;\n",
       "    for (var i = 0; i < ncells; i++) {\n",
       "        var cell = cells[i];\n",
       "        if (cell.cell_type === 'code') {\n",
       "            for (var j = 0; j < cell.output_area.outputs.length; j++) {\n",
       "                var data = cell.output_area.outputs[j];\n",
       "                if (data.data) {\n",
       "                    // IPython >= 3 moved mimebundle to data attribute of output\n",
       "                    data = data.data;\n",
       "                }\n",
       "                if (data['text/html'] === html_output) {\n",
       "                    return [cell, data, j];\n",
       "                }\n",
       "            }\n",
       "        }\n",
       "    }\n",
       "};\n",
       "\n",
       "// Register the function which deals with the matplotlib target/channel.\n",
       "// The kernel may be null if the page has been refreshed.\n",
       "if (IPython.notebook.kernel !== null) {\n",
       "    IPython.notebook.kernel.comm_manager.register_target(\n",
       "        'matplotlib',\n",
       "        mpl.mpl_figure_comm\n",
       "    );\n",
       "}\n"
      ],
      "text/plain": [
       "<IPython.core.display.Javascript object>"
      ]
     },
     "metadata": {},
     "output_type": "display_data"
    },
    {
     "data": {
      "text/html": [
       "<img src=\"data:image/png;base64,iVBORw0KGgoAAAANSUhEUgAAAoAAAAHgCAYAAAA10dzkAAAAAXNSR0IArs4c6QAAIABJREFUeF7tnQmYFNXV/k/PsCOLKIvIsIgguADKIqifiiiLIrK5L0hMRBAQxQVNVPhiosZEBRUEzV9MFHEDUcEVBGQRF1zwU4jEqOyLwgBGBmem/8+tmW5mBmaqum/PdJ2qX+chwkydqnN/560+b99bVR2JRqNR4QUBCEAAAhCAAAQgEBoCEQxgaGrNQCEAAQhAAAIQgIBDAAOIECAAAQhAAAIQgEDICGAAQ1ZwhgsBCEAAAhCAAAQwgGgAAhCAAAQgAAEIhIwABjBkBWe4EIAABCAAAQhAAAOIBiAAAQhAAAIQgEDICGAAQ1ZwhgsBCEAAAhCAAAQwgGgAAhCAAAQgAAEIhIwABjBkBWe4EIAABCAAAQhAAAOIBiAAAQhAAAIQgEDICGAAQ1ZwhgsBCEAAAhCAAAQwgGgAAhCAAAQgAAEIhIwABjBkBWe4EIAABCAAAQhAAAOIBiAAAQhAAAIQgEDICGAAQ1ZwhgsBCEAAAhCAAAQwgGgAAhCAAAQgAAEIhIwABjBkBWe4EIAABCAAAQhAAAOIBiAAAQhAAAIQgEDICGAAQ1ZwhgsBCEAAAhCAAAQwgGgAAhCAAAQgAAEIhIwABjBkBWe4EIAABCAAAQhAAAOIBiAAAQhAAAIQgEDICGAAQ1ZwhgsBCEAAAhCAAAQwgGgAAhCAAAQgAAEIhIwABjBkBWe4EIAABCAAAQhAAAOIBiAAAQhAAAIQgEDICGAAQ1ZwhgsBCEAAAhCAAAQwgGgAAhCAAAQgAAEIhIwABjBkBWe4EIAABCAAAQhAAAOIBiAAAQhAAAIQgEDICGAAQ1ZwhgsBCEAAAhCAAAQwgGgAAhCAAAQgAAEIhIwABjBkBWe4EIAABCAAAQhAAAOIBiAAAQhAAAIQgEDICGAAQ1ZwhgsBCEAAAhCAAAQwgGgAAhCAAAQgAAEIhIwABjBkBWe4EIAABCAAAQhAAAOIBiAAAQhAAAIQgEDICGAAQ1ZwhgsBCEAAAhCAAAQwgGgAAhCAAAQgAAEIhIwABjBkBWe4EIAABCAAAQhAAAOIBiAAAQhAAAIQgEDICGAAQ1ZwhgsBCEAAAhCAAAQwgGgAAhCAAAQgAAEIhIwABjBkBWe4EIAABCAAAQhAAAOIBiAAAQhAAAIQgEDICGAAQ1ZwhgsBCEAAAhCAAAQwgGgAAhCAAAQgAAEIhIwABjBkBWe4EIAABCAAAQhAAAOIBiAAAQhAAAIQgEDICGAAQ1ZwhgsBCEAAAhCAAAQwgGgAAhCAAAQgAAEIhIwABjBkBWe4EIAABCAAAQhAAAOIBiAAAQhAAAIQgEDICGAAQ1ZwhgsBCEAAAhCAAAQwgGgAAhCAAAQgAAEIhIwABtCi4Pn5+bJx40apVauWRCIRiz0RCgEIQAACEIBARRGIRqOye/duady4sWRkZFTUYX11HAygRTnWr18vWVlZFnsgFAIQgAAEIACBdBFYt26dNGnSJF2HT+txMYAW+LOzs6Vu3bpiBFS7dm2LPREKAQhAAAIQgEBFEdi1a5czgbNz506pU6dORR3WV8fBAFqUwwjICMcYQQygBUhCIQABCEAAAhVIgP4tggG0EBwCsoBHKAQgAAEIQCBNBOjfGEAr6SEgK3wEQwACEIAABNJCgP6NAbQSHgKywkcwBCAAAQhAIC0E6N8YQCvhISArfARDAAIQgAAE0kKA/o0BtBIeArLCRzAEIAABCEAgLQTo3xhAK+EhICt8BEMAAhCAAATSQoD+jQG0Eh4CssJHMAQgAAEIQCAtBOjfGEAr4SEgK3wEQwACEIAABNJCgP6NAbQSHgKywkcwBCAAAQhAIC0E6N8YQCvhISArfARDAAIQgAAE0kKA/o0BtBIeArLCRzAEIAABCEAgLQTo3xhAK+EhICt8BEMAAhCAAATSQoD+jQG0Eh4CssJHsCICu/ftlp9//Vka1WykKGtShQAEIHBwAvRvDKDVuYGArPARrIhA75d7y4Y9G2TVkFWKsiZVCEAAAhjA0jQQiUajUQSSHAEMYHLciNJH4ISnT3CSxgDqqx0ZQwACBxKgfzMDaHVeICArfAQrIoABVFQsUoUABFwJ0L9DYgDvu+8+uf322+WGG26Qhx9+2BHG3r17ZezYsTJz5kzJycmRXr16yeTJk6Vhw4auwoltgIA8o2JD5QQwgMoLSPoQgEAxAvTvEBjAjz76SC666CKpXbu2dO/ePW4Ahw8fLnPnzpXp06dLnTp1ZOTIkZKRkSFLly71fJogIM+o2FA5AQyg8gKSPgQggAEsoYFAXwO4Z88eOemkk5yZvXvuuUc6dOjgGMDs7GypX7++zJgxQwYPHuwgWb16tbRt21aWL18uXbt29XSqYAA9YWKjABDAAAagiAwBAhCIE6B/B3wGcMiQIVKvXj156KGH5Mwzz4wbwAULFkiPHj1kx44dUrdu3bggmjVrJmPGjJEbb7zR02mCgDxhYqMAEMAABqCIDAECEMAAFtFAYGcAzbV9f/rTn8QsAVerVq2YATQzf0OHDnWu/Sv66tKli7NMfP/99x/0NDHbF40xBjArK8uZUTRLzLwgEFQCGMCgVpZxQSCcBJjACegM4Lp166RTp07yzjvvSLt27Rx1F50BTNYAjh8/XiZMmHDA2YIBDOcbSJhGjQEMU7UZKwSCTwADGFAD+Morr8iAAQMkMzMzruK8vDyJRCLOjR5vvfWWnH322QkvATMDGPw3BUZ4cAIYQJQBAQgEiQAGMKAGcPfu3fL9998X06pZ8m3Tpo3cdtttzrKtuQnkueeek0GDBjnbrVmzxvk9N4EE6RRnLKkigAFMFUn2AwEI+IEABjCgBvBg4iq6BGx+bx4DM2/ePOcxMOb6vVGjRjlhy5Yt86xNBOQZFRsqJ4ABVF5A0ocABIoRoH+H2ADGHgRtZgGLPgi6USPvX3aPgHhHCQsBDGBYKs04IRAOAvTvEBnA8pA0AioPquzTjwQwgH6sCjlBAALJEqB/YwCT1Y4Th4Cs8BGsiAAGUFGxSBUCEHAlQP/GALqKpKwNEJAVPoIVEcAAKioWqUIAAq4E6N8YQFeRYACtEBEcEAIYwIAUkmFAAAKs4BVqILDfBFIRGucTREVQ5hh+IIAB9EMVyAECEEgVAfo3M4BWWkJAVvgIVkQAA6ioWKQKAQi4EqB/YwBdRcISsBUiggNCAAMYkEIyDAhAgCVgloDtzwI+QdgzZA86CGAAddSJLCEAAW8E6N/MAHpTSilbISArfAQrIoABVFQsUoUABFwJ0L8xgK4iYQnYChHBASGAAQxIIRkGBCDAEjBLwPZnAZ8g7BmyBx0EMIA66kSWEICANwL0b2YAvSmFJWArTgTrJ4AB1F9DRgABCOwngAHEAFqdDwjICh/BighgABUVi1QhAAFXAvRvDKCrSMraAAFZ4SNYEQEMoKJikSoEIOBKgP6NAXQVCQbQChHBASGAAQxIIRkGBCDgEMAAYgCtTgUEZIWPYEUEMICKikWqEICAKwH6NwbQVSTMAFohIjggBDCAASkkw4AABJgBLNRAJBqNRtFDcgT4BJEcN6L0EcAA6qsZGUMAAqUToH8zA2h1fiAgK3wEKyKAAVRULFKFAARcCdC/MYCuImEJ2AoRwQEhgAEMSCEZBgQgwBIwS8D2ZwGfIOwZsgcdBDCAOupElhCAgDcC9G9mAL0ppZStEJAVPoIVEcAAKioWqUIAAq4E6N8YQFeRsARshYjggBDAAAakkAwDAhBgCZglYPuzgE8Q9gzZgw4CGEAddSJLCEDAGwH6NzOA3pTCErAVJ4L1E8AA6q8hI4AABPYTwABiAK3OBwRkhY9gRQQwgIqKRaoQgIArAfo3BtBVJGVtgICs8BGsiAAGUFGxSBUCEHAlQP/GALqKBANohYjggBDAAAakkAwDAhBwCGAAMYBWpwICssJHsCICGEBFxSJVCEDAlQD9GwPoKhJmAK0QERwQAhjAgBSSYUAAAswAFmogEo1Go+ghOQJ8gkiOG1H6CGAA9dWMjCEAgdIJ0L+ZAbQ6PxCQFT6CFRHAACoqFqlCAAKuBOjfGEBXkbAEbIWI4IAQwAAGpJAMAwIQYAmYJWD7s4BPEPYM2YMOAhhAHXUiSwhAwBsB+jczgN6UUspWCMgKH8GKCGAAFRWLVCEAAVcC9G8MoKtIWAK2QkRwQAhgAANSSIYBAQiwBMwSsP1ZwCcIe4bsQQcBDKCOOpElBCDgjQD9mxlAb0phCdiKE8H6CWAA9deQEUAAAvsJYAAxgFbnAwKywkewIgIYQEXFIlUIQMCVAP0bA+gqkrI2QEBW+AhWRAADqKhYpAoBCLgSoH9jAF1FggG0QkRwQAhgAANSSIYBAQg4BDCAGECrUwEBWeEjWBEBDKCiYpEqBCDgSoD+jQF0FQkzgFaICA4IAQxgQArJMCAAAWYACzUQiUajUfSQHAE+QSTHjSh9BDCA+mpGxhCAQOkE6N/MAFqdHwjICh/BighgABUVi1QhAAFXAvRvDKCrSFgCtkJEcEAIYAADUkiGAQEIsATMErD9WcAnCHuG7EEHAQygjjqRJQQg4I0A/ZsZQG9KKWUrBGSFj2BFBDCAiopFqhCAgCsB+jcG0FUkLAFbISI4IAQwgAEpJMOAAARYAmYJ2P4s4BOEPUP2oIMABlBHncgSAhDwRoD+zQygN6WwBGzFiWD9BDCA+mvICCAAgf0EMIAYQKvzAQFZ4SNYEQEMoKJikSoEIOBKgP6NAXQVSVkbICArfAQrIoABVFQsUoUABFwJ0L8xgK4iwQBaISI4IAQwgAEpJMOAAAQcAhhADKDVqYCArPARrIgABlBRsUgVAhBwJUD/xgC6ioQZQCtEBAeEAAYwIIVkGBCAADOAhRqIRKPRKHpIjgCfIJLjRpQ+AhhAfTUjYwhAoHQC9G9mAK3ODwRkhY9gRQQwgIqKRaoQgIArAfo3BtBVJCwBWyEiOCAEMIABKSTDgAAEWAJmCdj+LOAThD1D9qCDAAZQR53IEgIQ8EaA/s0MoDellLIVArLCR7AiAhhARcUiVQhAwJUA/RsD6CoSloCtEBEcEAIYwIAUkmFAAAIsAbMEbH8W8AnCniF70EEAA6ijTmQJAQh4I0D/ZgbQm1JYArbiRLB+AhhA/TVkBBCAwH4CGEAMoNX5gICs8BGsiAAGUFGxSBUCEHAlQP/GALqKpKwNEJAVPoIVEcAAKioWqUIAAq4E6N8YQFeRYACtEBEcEAIYwIAUkmFAAAIOAQwgBtDqVEBAVvgIVkQAA6ioWKQKAQi4EqB/YwBdRcIMoBUiggNCAAMYkEIyDAhAgBnAQg1EotFoFD0kR4BPEMlxI0ofAQygvpqRMQQgUDoB+jczgFbnBwKywkewIgIYQEXFIlUIQMCVAP0bA+gqEpaArRARHBACGMCAFJJhQAACLAEHfQl4ypQpYv589913zlCPO+44ueuuu6RPnz7Ov/fu3Stjx46VmTNnSk5OjvTq1UsmT54sDRs29Hx68AnCMyo2VE4AA6i8gKQPAQgUI0D/DvAM4GuvvSaZmZnSqlUrMZc5Pv300/LAAw/Ip59+6pjB4cOHy9y5c2X69OlSp04dGTlypGRkZMjSpUs9nyYIyDMqNlROAAOovICkDwEIYABLaCBUN4HUq1fPMYGDBw+W+vXry4wZM5y/m9fq1aulbdu2snz5cunataunUwUD6AkTGwWAAAYwAEVkCBCAQJwA/TvAM4BFdZ6XlycvvviiDBkyxJkB3Lx5s/To0UN27NghdevWjW/arFkzGTNmjNx4440HPU3MUrH5E3sZAWVlZUl2drbUrl2bUwsCgSWAAQxsaRkYBEJJAAMYcAO4atUq6datm3O93yGHHOLM+J177rnOf4cOHVrMzJkzoEuXLtK9e3e5//77D3pCjB8/XiZMmHDA7zCAoXz/CNWgMYChKjeDhUDgCWAAA24A9+3bJz/88IMzQ/fSSy/Jk08+KYsWLZLPPvssKQPIDGDg3xMYYCkEMIBIAwIQCBIBDGDADWBJsZ599tnSsmVLufjii5NaAi65PwQUpLcDxlIWAQwg+oAABIJEgP4dMgN41llnSdOmTWXixInOTSDPPfecDBo0yNH0mjVrpE2bNtwEEqQznLGkjAAGMGUo2REEIOADAhjAABvA22+/3XnmnzF8u3fvdq77M9f2vfXWW3LOOec4j4GZN2+e8xgYcwPHqFGjHEkuW7bMszQRkGdUbKicAAZQeQFJHwIQKEaA/h1gA3jNNdfI/PnzZdOmTc5z/tq1aye33XabY/7MK/YgaDMLWPRB0I0aNfJ8miAgz6jYUDkBDKDyApI+BCCAASyhgVA9BzDV+scAppoo+/MrAQygXytDXhCAQDIE6N8BngFMRhCJxiCgRImxvVYCGECtlSNvCEDgYATo3xhAqzMDAVnhI1gRAQygomKRKgQg4EqA/o0BdBVJWRsgICt8BCsigAFUVCxShQAEXAnQvzGAriLBAFohIjggBDCAASkkw4AABBwCGEAMoNWpgICs8BGsiAAGUFGxSBUCEHAlQP/GALqKhBlAK0QEB4QABjAghWQYEIAAM4CFGuAxMBYnA58gLOARqooABlBVuUgWAhBwIUD/ZgbQ6iRBQFb4CFZEAAOoqFikCgEIuBKgf2MAXUXCErAVIoIDQgADGJBCMgwIQIAlYJaA7c8CPkHYM2QPOghgAHXUiSwhAAFvBOjfzAB6U0opWyEgK3wEKyKAAVRULFKFAARcCdC/MYCuImEJ2AoRwQEhgAEMSCEZBgQgwBIwS8D2ZwGfIOwZsgcdBDCAOupElhCAgDcC9G9mAL0phSVgK04E6yeAAdRfQ0YAAQjsJ4ABxABanQ8IyAofwYoIYAAVFYtUIQABVwL0bwygq0jK2gABWeEjWBEBDKCiYpEqBCDgSoD+jQF0FQkG0AoRwQEhgAEMSCEZBgQg4BDAAGIArU4FBGSFj2BFBDCAiopFqhCAgCsB+jcG0FUkzABaISI4IAQwgAEpJMOAAASYASzUQCQajUbRQ3IE+ASRHDei9BHAAOqrGRlDAAKlE6B/MwNodX4gICt8BCsigAFUVCxShQAEXAnQvzGAriJhCdgKEcEBIYABDEghGQYEIMASMEvA9mcBnyDsGbIHHQQwgDrqRJYQgIA3AvRvZgC9KaWUrRCQFT6CFRHAACoqFqlCAAKuBOjfGEBXkbAEbIWI4IAQwAAGpJAMAwIQYAmYJWD7s4BPEPYM2YMOAhhAHXUiSwhAwBsB+jczgN6UwhKwFSeC9RPAAOqvISOAAAT2E8AAYgCtzgcEZIWPYEUENBnA3Lx8mTT/Gxl+5tFSvUqmIsqkCgEIVBQB+jcG0EprCMgKH8GKCGgygAtWb5HfTP9Ybul1jFzf/WhFlEkVAhCoKAL0bwygldYQkBU+ghUR0GQA3/1qi/z2Hx/LzT1by8izWimiTKoQgEBFEaB/YwCttIaArPARrIgABlBRsUgVAhBwJUD/xgC6iqSsDRCQFT6CFRHAACoqFqlCAAKuBOjfGEBXkWAArRARHBACGMCAFJJhQAACDgEMIAbQ6lRAQFb4CFZEAAOoqFikCgEIuBKgf2MAXUXCDKAVIoIDQgADGJBCMgwIQIAZwEINRKLRaBQ9JEeATxDJcSNKHwEMoL6akTEEIFA6Afo3M4BW5wcCssJHsCICGEBFxSJVCEDAlQD9GwPoKhKWgK0QERwQAhjAgBSSYUAAAiwBswRsfxbwCcKeIXvQQQADqKNOZAkBCHgjQP9mBtCbUkrZCgFZ4SNYEQEMoKJikSoEIOBKgP6NAXQVCUvAVogIDggBDGBACskwIAABloBZArY/C/gEYc+QPegggAHUUSeyhAAEvBGgfzMD6E0pLAFbcSJYPwEMoP4aMgIIQGA/AQwgBtDqfEBAVvgIVkQAA6ioWKQKAQi4EqB/YwBdRVLWBgjICh/BighgABUVi1QhAAFXAvRvDKCrSDCAVogIDggBDGBACskwIAABhwAGEANodSogICt8BCsigAFUVCxShQAEXAnQvzGAriJhBtAKEcEBIYABDEghGQYEIMAMYKEGItFoNIoekiPAJ4jkuBGljwAGUF/NyBgCECidAP2bGUCr8wMBWeEjWBEBDKCiYpEqBCDgSoD+jQF0FQlLwFaICA4IAQxgQArJMCAAAZaAWQK2Pwv4BGHPkD3oIIAB1FEnsoQABLwRoH8zA+hNKaVshYCs8BGsiAAGUFGxSBUCEHAlQP/GALqKhCVgK0QEB4QABjAghWQYEIAAS8AsAdufBXyCsGfIHnQQwADqqBNZQgAC3gjQv5kB9KYUloCtOBGsnwAGUH8NGQEEILCfAAYQA2h1PiAgK3wEKyKAAVRULFKFAARcCdC/MYCuIilrAwRkhY9gRQQwgIqKRaoQgIArAfo3BtBVJBhAK0QEB4QABjAghWQYEICAQwADiAG0OhUQkBU+ghURwAAqKhapQgACrgTo3xhAV5EwA2iFiOCAEMAABqSQDAMCEGAGsFADkWg0GkUPyRHgE0Ry3IjSRwADqK9mZAwBCJROgP7NDKDV+YGArPARrIgABlBRsUgVAhBwJUD/xgC6ioQlYCtEBAeEAAYwIIVkGBCAAEvALAHbnwV8grBnyB50EMAA6qgTWUIAAt4I0L+ZAfSmlFK2QkBW+AhWRAADqKhYpAoBCLgSoH9jAF1FwhKwFSKCA0IAAxiQQjIMCECAJWCWgO3PAj5B2DNkDzoIYAB11IksIQABbwTo38wAelMKS8BWnAjWTwADqL+GjAACENhPAAOIAbQ6HxCQFT6CFRHAACoqFqlCAAKuBOjfATaA9957r8yaNUtWr14t1atXl1NOOUXuv/9+OeaYY+LC2Lt3r4wdO1ZmzpwpOTk50qtXL5k8ebI0bNjQVTxmAwTkCRMbBYAABjAARWQIEIBAnAD9O8AGsHfv3nLJJZdI586dJTc3V+644w758ssv5auvvpKaNWs6Ihg+fLjMnTtXpk+fLnXq1JGRI0dKRkaGLF261NNpgoA8YWKjABDAAAagiAwBAhDAABbRQGi+Cm7btm3SoEEDWbRokZx++umSnZ0t9evXlxkzZsjgwYMdJGa2sG3btrJ8+XLp2rWr66mCAXRFxAYBIYABDEghGQYEIOAQoH8HeAawpMbXrl0rrVq1klWrVsnxxx8vCxYskB49esiOHTukbt268c2bNWsmY8aMkRtvvPGA08QsE5s/sZcRUFZWlmMma9euzWkFgcASwAAGtrQMDAKhJIABDIkBzM/Pl379+snOnTtlyZIljtjNzN/QoUOLGTrz8y5dukj37t2d6wVLvsaPHy8TJkw44OcYwFC+f4Rq0BjAUJWbwUIg8AQwgCExgOZavzfeeMMxf02aNEnaADIDGPj3BAZYCgEMINKAAASCRAADGAIDaG7smDNnjixevFhatGgR128yS8AlxY+AgvR2wFjKIoABRB8QgECQCNC/A2wAo9GojBo1SmbPni0LFy50rv8r+ordBPLcc8/JoEGDnF+tWbNG2rRpw00gQTrLGUtKCGAAU4KRnUAAAj4hgAEMsAEcMWKEc52fmf0r+uw/87gX81xA8zJLw/PmzXMeA2Nu4jCG0byWLVvmSaIIyBMmNgoAAQxgAIrIECAAgTgB+neADWAkEjmo1J966im5+uqrnd/FHgRtZgGLPgi6UaNGnk4TBOQJExsFgAAGMABFZAgQgAAGsIgGQvMcwPLQPQawPKiyTz8SwAD6sSrkBAEIJEuA/h3gGcBkRZFIHAJKhBbbaiaAAdRcPXKHAARKEqB/YwCtzgoEZIWPYEUEMICKikWqEICAKwH6NwbQVSRlbYCArPARrIgABlBRsUgVAhBwJUD/xgC6igQDaIWI4IAQwAAGpJAMAwIQcAhgADGAVqcCArLCR7AiAhhARcUiVQhAwJUA/RsD6CoSZgCtEBEcEAIYwIAUkmFAAALMABZqgMfAWJwMfIKwgEeoKgIYQFXlIlkIQMCFAP2bGUCrkwQBWeEjWBEBDKCiYpEqBCDgSoD+jQF0FQlLwFaICA4IAQxgQArJMCAAAZaAWQK2Pwv4BGHPkD3oIIAB1FEnsoQABLwRoH8zA+hNKaVshYCs8BGsiIBGAzj2nNYyqkcrRZRJFQIQqCgC9G8MoJXWEJAVPoIVEcAAKioWqUIAAq4E6N8YQFeRlLUBArLCR7AiAhoN4M09W8vIs5gBVCQzUoVAhRGgf2MArcSGgKzwEayIAAZQUbFIFQIQcCVA/8YAuoqEGUArRAQHhAAGMCCFZBgQgIBDAAOIAbQ6FRCQFT6CFRHAACoqFqlCAAKuBOjfGEBXkTADaIWI4IAQwAAGpJAMAwIQYAawUAN8FZzFycAnCAt4hKoigAFUVS6ShQAEXAjQv5kBtDpJEJAVPoIVEcAAKioWqUIAAq4E6N8YQFeRsARshYjggBDAAAakkAwDAhBgCZglYPuzgE8Q9gzZgw4CGEAddSJLCEDAGwH6NzOA3pRSylYIyAofwYoIYAAVFYtUIQABVwL0bwygq0hYArZCRHBACGg0gHwXcEDExzAgUA4EMIAYQCtZISArfAQrIqDRAPJVcIoERqoQqGAC9G8MoJXkEJAVPoIVEcAAKioWqUIAAq4E6N8YQFeRsARshYjggBDQaABZAg6I+BgGBMqBAAYQA2glKwRkhY9gRQQ0GcD5X2+Ra57+WDCAigRGqhCoYAL0bwygleQQkBU+ghURwAAqKhapQgACrgTo3xhAV5GwBGyFiOCAEMAABqSQDAMCEHAIYAAxgFanAgKywkewIgIYQEXFIlUIQMCVAP0bA+gqEmYArRARHBACGMCAFJJhQAACzAAWaiASjUaj6CE5AnyCSI4bUfoIaDSAN53TWkb3aKUPNhlDAALlToD+zQyglcgQkBU+ghUR0GQAl37ymXw4a5Jkdh8no89urYi1lOjvAAAgAElEQVQyqUIAAhVFgP6NAbTSGgKywkewIgKaDOBPU3pLvS3LZfIpS2REzxMUUSZVCECgogjQvzGAVlpDQFb4CFZEQJUBnNxL6m39QB47ZYlcjwFUpDJShUDFEaB/YwCt1IaArPARrIgABlBRsUgVAhBwJUD/xgC6iqSsDRCQFT6CFRHQZAB3TO4lhzIDqEhdpAqBiidA/8YAWqkOAVnhI1gRAY0G8NFuS2RkL64BVCQzUoVAhRGgf2MArcSGgKzwEayIAAZQUbFIFQIQcCVA/8YAuoqEJWArRAQHhIAuA9hbDt26XJgBDIj4GAYEyoEABhADaCUrBGSFj2BFBHQZwIJrADGAigRGqhCoYAL0bwygleQQkBU+ghURwAAqKhapOgTOeekcaVarmTzZ60mIQOAAAvRvDKDVaYGArPARrIiASgN4ylIZ2fN4RZRJNZUENGk2leNmX94I0L8xgN6UUspWCMgKH8GKCGhqpjsm95RDt66QR05ZIqN4ELQilaU2VU2aTe3I2ZsXAvRvDKAXnZS6DQKywkewIgKammncAHZ7X0b1aqeIMqmmkoAmzaZy3OzLGwH6NwbQm1KYAbTiRLB+ApqaaexB0I9gAPULz2IEmjRrMUxCkySAAcQAJimdgjAEZIWPYEUENDVTDKAiYZVjqpo0W44Y2DUTOKVqIBKNRqMoJDkCGMDkuBGlj4CmZso1gPr0VR4Za9JseYyffZZNgP7NDKDVOYKArPARrIiApmaKAVQkrHJMVZNmyxEDu2YGkBnA8jgLMIDlQZV9+pGApmYaJgO4dddeqV+rqkQiET/KJq05adJsWkGF9OD0b2YAraSPgKzwEayIgKZmGjOAk7q+L6N7B/cu4B/35EjHe96V/73gOLmqW3NFaqqYVDVptmKIcJSiBOjfGECrMwIBWeEjWBEBTc00bgC7LZHRvU5QRDmxVP+z/Wfp/teFUqVShvzrnj6JBYdga02aDUE5fDdE+jcG0EqUCMgKH8GKCGhqpmFZAo4ZQCOj7+47T5GaKiZVTZqtGCIchRnA4hrgLmCLcwIDaAGPUFUENDXTsM0AYgAPfipp0qyqN4OAJEv/ZgbQSsoIyAofwYoIaGqmGEBFwirHVDVpthwxsOtSCNC/MYBWJwcCssJHsCICmpopBlCRsMoxVU2aLUcM7BoDWKoGWAK2OD0wgBbwCFVFQFMzDctdwFwDWPYppEmzqt4MApIs/ZsZQCspIyArfAQrIqCpmWIAFQmrHFPVpNlyxMCumQFkBrA8zgIMYHlQZZ9+JKCpmWIA/aigis9Jk2Yrng5HpH8zA2h1FiAgK3wEKyKgqZliABUJqxxT1aTZcsTArpkBZAawPM4CDGB5UGWffiSgqZnunNxT6m5dIUH/JhCuASz7TNGkWT+e80HPif7NDKCVxhGQFT6CFRHQ1EyZAUxcWF9uyJbXv9gk4/q0STzYpxGaNOtThIFOi/6NAbQSOAKywkewIgKamikGMHFhnfznd2XLrhxZ+6c+UikzI/Ed+DBCk2Z9iC/wKdG/MYBWIkdAVvgIVkRAUzNlCThxYTUfN9cJuq13Gxl+ZsvEd+DDCE2a9SG+wKdE/8YAWokcAVnhI1gRAU3NNCwGcOUPO2Tg5GWOimy/CzhmAH9zagu56/xjFSmz9FQ1aTYQwJUNgv6NAbSSLAKywkewIgKammkYDODarbvl7AcXxxWEATzwZNKkWUVvBYFJlf6NAbQSMwKywkewIgKammkYDOB7a7bK0Kc+wgCWcQ5p0qyit4LApEr/xgBaiRkBWeEjWBEBTc105+RzpO7WDwP9GJj3Vm+VodMxgGWdQpo0q+itIDCp0r8xgFZiRkBW+AhWREBTM40bwJMXyeg+HRRR9p4qBtCdlSbNuo+GLVJNgP6NAbTSFAKywkewIgKamml8CRgD6Flh3ATiGRUbBoQA/TvABnDx4sXywAMPyCeffCKbNm2S2bNnS//+/ePSjUajcvfdd8sTTzwhO3fulFNPPVWmTJkirVq18ixvBOQZFRsqJ4AB9FcBmQF0r4cmzbqPhi1STYD+HWAD+MYbb8jSpUulY8eOMnDgwAMM4P333y/33nuvPP3009KiRQu58847ZdWqVfLVV19JtWrVPGkNAXnCxEYBIKCpmTIDmLjgmAFMnBkRugnQvwNsAItKMxKJFDOAZvavcePGMnbsWLn55pudTbOzs6Vhw4Yyffp0ueSSSzwpGwF5wsRGASCAAfRXEZkBdK+HJs26j4YtUk2A/h1SA/jtt99Ky5Yt5dNPP5UOHfZfJH7GGWc4/544caInrSEgT5jYKAAENDVTbgJJXHDMACbOjAjdBOjfITWAy5Ytc67527hxoxxxxBFxFV900UViZguff/75gyo7JydHzJ/YywgoKyvLmT2sXbu27rOB7CFQBgGdBnChjO5zYiDrygyge1k1adZ9NGyRagIYQAxgQgZw/PjxMmHChAN0iAFM9anJ/vxGQFMz3X8NYHAN4ILVW+Q30z+Oy4RvAjnwjNGkWb+d72HIBwMYUgOY7BIwM4BheFtgjAcjoKmZxgzgIycvlFEBnQHEALqfp5o06z4atkg1AQxgSA1g7CYQcwOIuRHEvIwYGjRowE0gqT7L2F8gCGhqpswAJi45rgFMnBkRuglgAANsAPfs2SNr1651FHriiSfKgw8+KN27d5d69epJ06ZNxTwG5r777iv2GJgvvviCx8DoPqfJvpwIqDKAU3pK3S0rZNLJLAF7lQMG0CsptgsKAQxggA3gwoULHcNX8jVkyBBnli/2IOhp06Y5D4I+7bTTZPLkydK6dWvP+kZAnlGxoXICqgxg7LuAMYCeVYcB9IyKDQNCgP4dYANYERpFQBVBmWP4gYBOA/iejO5zkh/wpTwHrgF0R6pJs+6jYYtUE6B/YwCtNIWArPARrIiApma6M74EHB4DuOae3lK1UmbSimIGMGl0BColQP/GAFpJFwFZ4SNYEQEMoL+KFZsBjFTaKdHcOnJb77Yy/MyWSSeJAUwaHYFKCdC/MYBW0kVAVvgIVkRAowGc2OU9ueHc4C4BX/Ps23LI0X+RXzYOkhEdL5Wbeh6TtKIwgEmjI1ApAfo3BtBKugjICh/BigioMoCFN4EE3QD+duYsqdlisuz76RQZdtxNKTGAQ09tLneff5wiZZaeqibNBgK4skHQvzGAVpJFQFb4CFZEINZMl1y4UurUqOzrzPd/F3BwrwGc//UW+d3zqTeAV5/SXMb3wwD6WuAklxIC9G8MoJWQEJAVPoIVEVBpADsvkNHndVRE2XuqJQ3gtcfdJGNTsASMAfReA7bUTYD+jQG0UjACssJHsCICqgxg7C5gDKBnhcWuARzSrZlMuOB4z3F+3pAlYD9XJ/250b8xgFYqREBW+AhWRAAD6K9iFZ8BPFWuPe7GlMwAYgD9VWeyKT8C9G8MoJW6EJAVPoIVEcAA+qtYRQ3guTujUr/Ny3JzL/u7gDGA/qoz2ZQfAfo3BtBKXQjICh/BigjEDeBFK6VOdX/fBJI9uafU2bpCJoVkCfiK7F2SccxbckuvNkkrKrYEfFW3ZvK/LAEnzZFAPQTo3xhAK7UiICt8BCsigAH0V7GcGcAXXpaazadIKg3glV2byR/7cw2gv6pNNuVBgP6NAbTSFQKywkewIgIaDeDEzvPlhvM6KaLsPdWSBjDS+i25tbf9DCAG0HsN2FI3Afo3BtBKwQjICh/BigioMoBTekqdLSsEA+hdYLEl4Cu6NpV7+p/gPdDHW3IXsI+L44PU6N8YQCsZIiArfAQrIhBrpksvXim1q/n7GsCdhY+BwQB6FxgG0DsrtgwGAfo3BtBKyQjICh/BighgAP1VrJJLwNL6LbktBUvAl5/cVP40gBlAf1WbbMqDAP0bA2ilKwRkhY9gRQQ0GcDYXcBhmQG8MnuX5Ld6S8b1sb8GEAOo6KQkVSsC9G8MIAKyIkBwWAhgAP1V6aIzgMYA5rV6U27v0zbpJGNLwJed3FT+zAxg0hwJ1EMAA4gBtFIrArLCR7AiAhoN4KTO78ro8zorouw9VQygOytuAnFnFOYt6N8YQCv9IyArfAQrIqDJAMZuAgmVATz6Tbn9XPsZwEu7NJV7B3INoKJTk1STJED/xgAmKZ2CMARkhY9gRQQ0GcDswsfAhMkA5h79ptyREgOYJfcObKdImaWnygxgIMpYboOgf2MArcSFgKzwEayIQKyZLrt4pdTy+WNg9n8VXHiWgH9t+Yb8/rxjk1ZU7BrASzpnyX2DMIBJgyRQDQH6NwbQSqwIyAofwYoIaDSAEzu9Kzf0Dcc1gPuOekP+0NfeAF7cKUvuH4wBVHRqkmqSBOjfGMAkpcMSsBU4gtURwAD6q2R3zflSnvlssfNdwFdl75K9R70hd2IAixWJJWB/adZv2WAAMYBWmkRAVvgIVkRAowGc1PkdGX1eF0WUvadqlmwrVf+PVG8+1TGAv7R4Q+46334G8KJOTeQvg9t7T8THW2IAfVwcH6RG/8YAWskQAVnhI1gRAU03gcS/Cq7TO3JD32AawGF33C3X1ZosVzVu5BjA/7aYJ3eff1zSiopdA3hhxybywIUYwKRBEqiGAP0bA2glVgRkhY9gRQQwgP4q1rN/GCjH1nwfA1hGWZgB9Jdm/ZYN/RsDaKVJBGSFj2BFBDQZwPhXwQV4BrCkAfy5+TxZ/M02ObJudfnnNScnrKzYDODgjk3kr8wAJsyPAH0E6N8YQCvVIiArfAQrIqDJAO6cfI7U3fqhTAywAZzxhwHStuaS+AzgnmZz5enl3zuK+u6+8xJWVswADjqpifztIpaAEwZIgDoC9G8MoJVoEZAVPoIVEYgZwCUXrZQ61Sv7OvOwGcAh2btkd4oM4MCTjpQHL+rg6/p6TY4lYK+kwrkd/RsDaKV8BGSFj2BFBDQawEmd3pbRfRNfDtVQFjMD2KbmUhnSuKEYA7ir2Vz5h8UM4Dd3HSsf57eWj9qNxwBqEAA5WhOgf2MArUSEgKzwEayIgCoDOKWn1N2yQiZ2fFtuOD8cBjC76Vz55wfJLwHL+DqOGm9qu0gevJgZQEWnJqkmSYD+jQFMUjoFYQjICh/BigjEDeCFK6VODZ8vAU/pJXW3fBB4A9j8kGUy7IgGzgzgzqavyzMf/OAoKplrAGMG8Ma2i+QhDKCiM5NUkyVA/8YAJqsdDKAVOYK1EdBoACd1fEtGn99VG2pP+Zol4CdarJHtlTLl6p275Kemr8uzK+wN4Jg2C+XhS070lIPfN+IaQL9XKL35YQAxgFYKREBW+AhWRECnAXxTRp/fTRFl76kaA3hvq7VOgDGAPzZ9XWakwADe0GahTMQAei8EW6olQP/GAFqJFwFZ4SNYEQFNBnDHlN5y6Jbl8kjHN2TU+acoouwt1ec+/EGir46We1v9O24At2e9Lubn5mWzBDz6mIUy6VJmAL1Vgq00E6B/YwCt9IuArPARrIhAzAC+f+EnUrdGFV9nvmNKHzl0yzJ55KR5Mqrfqb7ONZnkzDP7/lzpCQygCzyWgJNRV3hi6N8YQCu1IyArfAQrIqDKAD5+rhy6eak8etI8GRlQA9ilyT3yda09joKG7twl27Jek+c+XGc9AzjqmIXyCDOAis5MUk2WAP0bA5isdpw4BGSFj2BFBDCA/imWmQGs1XZcPCFzDeD2FBnAka3fk0cvO8k/g7XIhBlAC3ghCKV/YwCtZI6ArPARrIhArJkuHvyJHFrT50vA8RnAuTKy32mKKHtL9WAGcFuT12TmR/YzgNe3fk8ewwB6KwRbqSZA/8YAWgkYAVnhI1gRAU0G8KfHz5V6Zgn4xNdl5AX/o4iyt1QxgN44MQPojVNYt6J/YwCttI+ArPARrIiALgN4ntTbvEQePfE1GXnB6Yooe0u1pAE0D4LedsSr8vwn650d2NwFfH2r9+Sxy1kC9lYJttJMgP6NAbTSLwKywkewIgK6DGBfqbf5fXmsw6tyff8zFFH2lurBDOD2I2bJzE82WxvAEa0WyOTLO3pLxOdbMQPo8wKlOT36NwbQSoIIyAofwYoIxJrpwkEfy2GHVPV15j89Hi4DeFX2LtlY/yWZ/flWawM4/OgFMuUKDKCvBU5yKSFA/8YAWgkJAVnhI1gRgZgBfG/Qx3K4zw3gj1PPl8M2LQ7NDKAxgN/Umilvr/nJ2gAyA6jopCRVKwL0bwwgArIiQHBYCMQM4IKBH0v9Wv6eAYwZwMkd5siI/mcGrkQll4ALDOAMeXvNTmsDyAxg4OTCgEohgAHEAFqdHAjICh/BigjEDOD8gR9Jg1rVfJ35j1P7yWGbFsljHWbL9f3P8nWuySR3MAP4r0OelXf+lY0BLAKUawCTUVd4YujfGEArtSMgK3wEKyIQa6bvDvhIGtb2uQGc1k8O27hIJneYJSP691BE2VuqJQ3gldm7JHLUK/LYko0YQAygNxGxFV/kIBhAq9MAA2iFj2BFBGIG8J3+H0mjOjoM4JT2s2X4gODPABoDWOOYV+Wv79k/BoYlYEUnJalaEaB/YwARkBUBgsNCIGYA3+7/oRxRp7qvh7192gVy+MaFMrn9LBkxIPgzgFcYA9h6jsxa9LFUllx5+97rEq/P+DpOzHUtF8jjV3IXcOIAidBGAAOIAbTSLAKywkewIgIxA/jmBR/KkXX9bgD7y+Eb35Mp7V+W4QPOVkTZW6oll4CNAax59CwZ+WHhbOf4gmsBE3phABPCxcb6CdC/MYBWKkZAVvgIVkQgZgDf6LdCmhxaw9eZb58WM4AvyfAB5/g6V7fkNv+8WapmVpVDqx0a3/RgBrB6y1ky+iMMYFGeMc2uvOJzqZyZ4Yaa34eMAP0bA2gleQRkhY9gRQRizXTe+Sskq57fDeAAOXzjAnm8/Yty3YCeiigfmKrhnhHJkM+v+jz+y4V3ni6jjt4R/7eZAaze8iUZ/VHhbCczgA6bmGZvOGqO/PZ/jlKtA5JPPQH6NwbQSlUIyAofwYoIxJrp3L4rpOlhWgzgC3LdgF6KKBdPdcOeDdL75d7OD1cNWbX/l+PryAktmhYzgNWOekFu+LjQ7GIAixnAa458Wcac3VqtDki8fAjQvzGAVspCQFb4CFZEIGYAX+/7gTQ7rKavM9/2xECpv2G+PN5etwFcu2OtDHh1gKsBvDx7t1RrPlPGrCw0uxjAYgbwd01myegerXytWZKreAL0bwygleoQkBU+ghURiBnA1877QJof7ncDOEjqb3hXpp7wggwbpHcGcM1Pa2Twa4NdDaBZAq7SbKbc+GnBbKFYGMBhLefL1Cs7KVJm6anGNHttk1kyCgMYiJqmchD0bwyglZ4QkBU+ghURiDXTOecul6PqH+LrzGMzgFNPeF6GDSo0Rb7O+ODJ/d/2/5NL5l7iyQBWznpWbvr8PGsDGMTHwFzXdLZc3/1ohQog5fIkQP/GAFrpCwFZ4SNYEYGYAXzl3OXS0ucGcOu0gdJg43yZ1u55uXagXgO4eP1iuX7+9Z4MYGaTf8rNX5xvbQCndl8pw85oqUiZ7jOAw5vNlhFnYgADUdQUDoL+jQG0khMCssJHsCICMQM4u89yObqBv2cAt0wbJA03vit/bz9TrhnQRxHl4qnO/36+jFk4xpMBrNT4aRn75QXWBnDaWSvl2tODZQBHNHtFhp8ZjDGpFbMPE6d/YwCtZImArPARrIhAzADO6r1MWjWs5evMN08bLI02viNPdZgpQ/vrNYBvffeW3LzoZk8GMKPRU3LLVwU3jNhcAzj1zE9kWEBmy2KaxQD6+nRNW3L0bwyglfgQkBU+ghURiDXTl3svk9Y+N4Cbpg2WIza+I0+f+LwMuUDvEvDcb+fKuPfHeTKAkYZPyq1fF9wwYmcAP5ZhZwbjjlkMoKI3mDSkSv/GAFrJDgFZ4SNYEYFYM32p1zI5ppG/ZwA3Th0sjTe9I8+c9Lxc0U+vAXz136/K75f83psBbDBVbl19sb0BPONDGdb9GEXKLD1VDGAgylhug6B/YwCtxIWArPARrIhArJm+0HOptD2itq8z3zB1kBy56V2Z0XGmXHa+3iXg2d/MlruW3eXJAMphj8tt3xTcMRy9e6dEIpHEalT4XcBTT18hw85qk1isT7eOafb65q/IdQG5scWnqFWmRf/GAFoJFwFZ4SNYEYFYM33+nKVybGN/G8D1jw+SJpvflZmdZsolffUawBfWvCB//OCPrgbQPAg6Uu9RuW3t5c62uXfukEqJfvdt3AB+IMPOaqtIme4zgNwFHIhypnwQ9G8MoJWoEJAVPoIVEYgZwOfOXiLHH1nH15nHDOCLnWfKhecFxAD2mC7y8m9Erv9I5J76xb4K7rLs3SKHTpLb/32lU5e947ZItWrVEqtRzAD+zzIZ1uO4xGJ9unVMszwH0KcFSnNa9G8MoJUEEZAVPoIVEdBkANdNGShZW+bLS51nymDFBvDrH7+Wi16/yFHJy1XbyPzNH8jwq5eJPHx8MQNofn955I8y7tshzrY/3/Sd1Kx9aGLqihnA05bIsLNPSCzWp1vzTSA+LYxP0qJ/YwCtpIiArPARrIhArJnO6LFETmji7xnAdVMGSNaWBfJy55kySLEB/OrHr+Ti1wtu7GgYqSxbor/KqgvmHdQAXhG9W2777hpn2+wx/5E6deslpq4AG8BrjnxZxpzdOjEebB14AvRvDKCVyBGQFT6CFRGIGcBnznpf2mfV9XXmP0zuL023vqfeABb9KrgGUlm2ijGAc0UePuHAGcC838u4H4Y5ddkx+t9yaL3DE6tRoQGcdtr7cu3Z7RKL9enWMc0Obfyy3HQOBtCnZUpbWvRvDKCV+BCQFT6CFRGINdN/nvW+dPC5Afz+sf7SbJsxgDNk0HmF34+riHUs1VXbVsll8y5z/llfKss2YwD7vS4ysd0BBvDK3HFy67oRzrbbRqyW+g2OSGzEsRnAUxbKsJ4nJhbr061jmh3S6CW5uVcwHm3jU9Qq06J/YwCthIuArPDpCt6zreAi/IufFanm77tgywNsrJn+o/tiObFpgteXlUdCZezzu8f6S3PHAD4rg87rW8FHT93hvtj2hVw+r+DO3nr5leSnjFzHAEYntpN2LZoWO9BV+26WWzaMdn62ZdiX0vCIrMQSiRnAbgtlWK9gGcArG74ot/YOxqNtEisqW5dFgP6NAbQ6QxCQFT5dwUsnibxzp8hF/xA5tvA7V3WNwCrbmAF87NS5cvrRxc2H1Y7LIfi7R/tL8+3vyaxOz8jAvueXwxEqZpefbf1Mrnyj4M7eQ/MzZUdGnqzq95rkTWwvHUoYwMt/GSPjNt/kbLvxmpXSOCvB776NLQF3XSDX9u5YMQMs56PENHtZgxfk9j7BeLRNOSML1e7p3xhAeeyxx+SBBx6QzZs3S/v27eWRRx6RLl26eDoREJAnTMHYCAMYr+OqIat8XdP/PHqBtNi+UF7u9IwMCoABzM+tIXVkr+yulC+rzn9Vfp3UQU4qYQAvzB4ud/10u1OXDVd9IEcelaDhic0Adp0vw3p38nV9vSYXM4CX1n9B7jg3QR5eD8J2agnQv0NuAJ9//nm56qqr5PHHH5eTTz5ZHn74YXnxxRdlzZo10qBBA1dhIyBXRMHZYNmjIm//XuTC6SLHDQjOuDyOJNZMzea+N4CP9JMWPy6S83PukdfuHeVxhP7bbOWWlTLkzSESza0htWSv7DEGsO8rkvPoSdKpefFZ2I5rLpHpVf7iDOKHyxZJ09YdEhtQzACe/K4M69M5sVifbs0MoE8L45O06N8hN4DG9HXu3FkeffRRR5L5+fmSlZUlo0aNknHjCr6EvawXAnIjFKDff/C4yJu3iQz6u8gJgwM0sNKHMmftHPl066dybbtrpdfLveIbzrlgjlTOqCxZtRO8zqyCqH07qa8c9dP70i/nj84S8Lfbf5a7+h6b+LdjVFC+pR1m6Yalct271xU3gOe+LP+d3EVObl6cfZc1F8rfq/zN2dWTx/9Tfju4X2LZFxrAk/Y+Lp/ce0niXyWX2NEqZOuYAby4/jPyh3PbV8gxOYgeAvTvEBvAffv2SY0aNeSll16S/v37x1U7ZMgQ2blzp8yZM8dVyeUloGh+vuRHRcy3eRZ8pWdUIs6/RKLR/HheRf9e1u/MdtH9UWYnpewjKuZ/hQeSaJHtCrIoyKNgf7F9ROP7i337aHzv0SL7MxHx/RVsUXT/RWMKE3COGN+uMLbYOApzio2nYH/7Y8w/I5HCfzu5x/ZckEteflR+zNkhmzevlEN+rCX1OgyQlo3qyaL358v2Xb/IYOcGgsLxfThVMt6+Q/L7PCDS6RrZl5cvlTIznX3mR6POn1/25cn6Hf+V73/8r9SumilZ9apKjaoRycjIl315eyUnL0f25v0iGZGIHFKpplTNrOoYqaqZlSVDIs7PY1/hGikcbyz/+De7lmBYtJaxscd+lp8flYyMiFMfM96oFGjHHMu88qN58t3u9XJUrSzJzc+TnLy9UjmjkuTm50pO3j45fd6FZZ4DU05/Vo6oVUuqRipLZjQi1TIqGXVIhtFofq5kSlR+zdsnGbm58sYn/5LuZ/aUGlUrSV5+vlTKMOPNiKtoy7Yt8t67r0v/wVdJzapV4lo3TCpniJhzwrAwY8qMmPHkSwGjqOTk5srW/3wlzz03XfpcdYscNeM0qRnJkRm5Z8n/y+stp2escv47vm9bOeOYBvJzTp5UqZThGMLKmRmSGSk41zIyI1IpI8OpQ2ZmRDLNf508peDn5i9lvAxjt+/gNeNw6lNY6Pj2sZ8V+Q7fmxbeJO98/06xI05rOlA++/z/yeRDiz+K5/RNLWRwxoeyoVIleSpngGze3UUOafiZnHvUldLisDpyZN1qUrVSJalXs4qj1ZpVK0l092bZ9GtN6dgoU6o91Mo5zuk5D8n6aH05TLLlrI4nyIWds6Ra5QypXjnT4f6z/sgAABMKSURBVOSkmRFxuFWKiMMnM9MoyujcDCvivHcZVI6eDVfzc0ff+88/U3vn/c15Jyng4fyt8D2j2N9jPyvxuwINF7wXmbjtv2yXt/7zjnRr3FVe+/ZVmb12dpzdaxfMkyUb3pcLjhokNSpXcmppYky8c05EMpz/OvkXqjL2s9hOYrUq9r4VP0+9f/eym0aMxmPncmxb89/YcYvGH+xnZYo0Bb8s7Zgl+8XBxllym5JsD5ZeeY2xvPp3ChBX2C4i0dIqUmEppOdAGzdulCOPPFKWLVsm3bp1iydx6623yqJFi2TFihUHJJaTkyPmT+xlBGRmDLOzs6V27dTdGbr8izfl2k9vSQ+YkB81brzib8EHAjnYW73zll2keSeL0Rw/tv+ix9lvfOM2L36IosfNLIzPK8ynUjQquSXyMj+L/T7ZPMuKM2NIBQsvuZWsV0Ud10tuXrfJOODDTWq0VNrxY8w0svLK1C/6TEW+7ENk2ol/lW7t9q9CpIIJBjDEM4DJGMDx48fLhAkTDtBeqg3ghm3fyXPz73OOs7/xF7UD+/9e7FOW80H6wO0KflJKvPOrIvs7YLtYBoXbmP9EzZSJmQ4oQFHkr/tnKuNHPJidOfgxCyZBStirwlkEc6jYLGjhUYvUoXhMJPZpvnCLkgwLZh4KxmBmD37M/VFq5+2T/IwMycvPldzd26XSr9ki9Y4u3EPEMTT7KteRSrl7JCP/1/3jdgxXQWZmRqlGlUxndmVfbr7k/BqVvDyRjKiZLcmUKlJJKksl57g/5++TXMmTX6N5kiv5klc47+B4gcKZlsK/Osd2JjIL2cR+XjB/UlDbGAGzn4KXmckSyYuaGbOCGZrYvEJuNE8yI5mSE90n2/KzpWHGobJ83yrZmLc94ffVwzIOkR/z98Tj+tboKvUya0skYub/DONMkfx9csjGZfLz4e2cmRczM+RMchSZlTVzqbk/b5dIzcOkYFKmYFbIzFaZ/USjZmZGnFnbjIyMwr8XjG/L7n2ybdcvUi+yW6pInpyV8Wmcx78O7yHNakUlr/rhsjsnz5nBqpIZcfZjjpEXLZjBLZjJ3T85vn8Gysw+Fsx+m+M7n5dNLoWzUU6M+V1+bHZc4ts5mzqzUwX7dmZi48cpqFxeNL9w+4JtzYbmOLnRXFlyyJfONkf/1FzW1vvO+fuxu2vKV7V+jvPudNgJsmbnWqmdmyMbIvkyOqu3ZP+8RVpWbyhzf/xM+tRrLz//+quTg/mTk1cwA2lmq7dv/kHW/1JNWmWsl1aR9fLPvHNk8PGHOrOz1fZuk7ya9WX33l+d3B1ecUEWsjLjLqxjwRj3q3H/CkHEYVPwKvhgYLQc+33svI69R5nfOX8v1HpsnjCu9GhM67Gzzii94BwwJKfse69UDTeTw6VTZnOpUalKwYxk/Mzd/z5r9mG06NS66ICL7DU2g170QAUqjY2y+LttoZqdvRXkWvxV9MNdwUj2/38htXgmJWMLzuuS6yIHP745duw94GC5lninL6zY/n0550hhfkVzLt5Z9v8rtmJUakFKYXGw3C7tMU4a12+WyK5ct8UAhtgAJrMEXFEzgK7KZQMIVBABs0TW/h/Fr5/67MrPJDMjs4Iy8H6Yz9ftlDmfbZR/Lv3GaXRv3tRDjm5wiPcd+HzLN7/cLNc984mTZa2qleThSzpIj7YNrbP+NS9fpi3+Vn77Py2kaiX/1TWZAX6z4xsZ+OpAefSsR+WMrDOS2QUxASeAAQyxATTaNjeBmEe+mEe/mJe5CaRp06YycuRIbgIJ+MnP8LwT+NvHf5Pp/zfdCVh26TKpVaWW9+A0bPnCR+ukRf2a0rl5gt+Hm4ZcEz3kzzm58p/tP8vxR/r7+5gTHRfbQ6CiCWAAQ24AzWNgzE0fU6dOdYygeQzMCy+8IKtXr5aGDd0/WSOgij5lOV46CKzYtEJ++/ZvZUT7ETK8w/B0pMAxIQABCKSUAP075AbQqMk8Aib2IOgOHTrIpEmTnJlBLy8E5IUS2wSBgFkKLnlXZBDGxRggAIFwEqB/YwCtlI+ArPARDAEIQAACEEgLAfo3BtBKeAjICh/BEIAABCAAgbQQoH9jAK2Eh4Cs8BEMAQhAAAIQSAsB+jcG0Ep4CMgKH8EQgAAEIACBtBCgf2MArYSHgKzwEQwBCEAAAhBICwH6NwbQSngIyAofwRCAAAQgAIG0EKB/YwCthIeArPARDAEIQAACEEgLAfo3BtBKeAjICh/BEIAABCAAgbQQoH9jAK2Eh4Cs8BEMAQhAAAIQSAsB+jcG0Ep4CMgKH8EQgAAEIACBtBCgf2MArYSHgKzwEQwBCEAAAhBICwH6NwbQSngIyAofwRCAAAQgAIG0EKB/YwCthIeArPARDAEIQAACEEgLAfo3BtBKeAjICh/BEIAABCAAgbQQoH9jAK2El52dLXXr1pV169ZJ7dq1rfZFMAQgAAEIQAACFUPAGMCsrCzZuXOn1KlTp2IO6rOjRKLRaNRnOalJZ/369Y6AeEEAAhCAAAQgoI+AmcBp0qSJvsRTkDEG0AJifn6+bNy4UWrVqiWRSMRiT8VDY59MgjqzGPTxmWoGfYxBH18YahiGMaLTlLWltO2ovGpo5r52794tjRs3loyMjLSNL50HxgCmk34pxw76tQlBH1+ssZplBXOZQBAvD6CGPnzjSCKloNcx6OPjvSYJ0RMSJ4AB9KEYgv6mFfTx8absw5MqiZTQaRLQfBZCDX1WkCTSCUMNk8CSkhAMYEowpnYnQRd80MeHAUzt+ZCuvaHTdJFP3XGpYepYpmtPYahhuthiANNFvozj5uTkyL333iu33367VK1a1YcZ2qUU9PEZOkEfY9DHF4YahmGM6NTuvdoP0WGoYbo4YwDTRZ7jQgACEIAABCAAgTQRwACmCTyHhQAEIAABCEAAAukigAFMF3mOCwEIQAACEIAABNJEAAOYJvAcFgIQgAAEIAABCKSLAAYwXeQ5LgQgAAEIQAACEEgTAQxgmsB7Oex3330nf/zjH2XBggWyefNm54nlV1xxhfz+97+XKlWqeNmFL7d57LHH5IEHHnDG1L59e3nkkUekS5cuvsw1kaTMnduzZs2S1atXS/Xq1eWUU06R+++/X4455phEdqNq2/vuu8+5W/2GG26Qhx9+WFXuZSW7YcMGue222+SNN96Q//73v3L00UfLU089JZ06dVI/xry8PBk/frw888wz8feVq6++Wv7whz+k9BuNKhLU4sWLnfeUTz75RDZt2iSzZ8+W/v37x1Mw3/pw9913yxNPPOF89+upp54qU6ZMkVatWlVkmkkfq6zx/frrr07t5s2bJ99++63zvbZnn322mHPT9AwtL7caFh3HddddJ1OnTpWHHnpIxowZo2WIvssTA+i7kuxP6M0335Tnn39eLr30UqcBffnll/K73/1OrrzySvnrX//q48xLT82M56qrrpLHH39cTj75ZMc0vPjii7JmzRpp0KCByjHFku7du7dccskl0rlzZ8nNzZU77rjDqdlXX30lNWvWVD22gyX/0UcfyUUXXeR800n37t0DYwB37NghJ554ojOm4cOHS/369eWbb76Rli1bOn+0v/785z/Lgw8+KE8//bQcd9xx8vHHH8vQoUPlT3/6k4wePVrl8IxRX7p0qXTs2FEGDhx4gAE0H8TMBzQz5hYtWsidd94pq1atcs7NatWq+X7MZY3PfNvQ4MGDnd5gPlAb/ZoPZMbom9pqebnVMDYOY+4nTJgg27Ztk1tuuQUDaFFgDKAFvHSEmk+55pOr+aSn8WVMnzFIjz76qJO++T7lrKwsGTVqlIwbN07jkErN2bxBGVO7aNEiOf300wM1tj179shJJ50kkydPlnvuuUc6dOgQGANodGjMxPvvvx+omsUG07dvX2nYsKH8/e9/j49v0KBBzqy1mRXU/jLfy150BtDM/pmZsLFjx8rNN9/sDM+YJsNg+vTpzoc2Ta+S4yvtw5lZVfn++++ladOmmobn5FraGM3MvOkhb731lpx33nmO+WMGMPnyYgCTZ5eWSDPVb2YGNX2yi4Hat2+f1KhRQ1566aViyzNDhgxxlmXmzJmTFqblddC1a9c6S0xmpuH4448vr8OkZb+mZvXq1XOWYM4888xAGcBjjz1WevXqJevXr3fM+5FHHikjRoxwZliC8DIzgNOmTZO3335bWrduLZ9//rn07NnTmRW8/PLL1Q+xpHkwH5bNzO2nn37q6DT2OuOMM5x/T5w4UdWYvRjAd99916mpeV/V+F3kBxujmSwwS9sXXHCBM8PZvHlzDKClcjGAlgArMtwYCrPEYZZ/NTajjRs3Os102bJl0q1btzi6W2+91Wm0K1asqEic5Xos82bVr18/5w14yZIl5Xqsit75zJkzneVCswRsls+CZgBjS4I33XSTXHjhhc44TcMxly0Y46v9ZbRpLk/4y1/+IpmZmc5SoamnuZYzCK+S5sG835hr/sz7zxFHHBEforl8wWxrLkvR9HIzgHv37nXG26ZNG3n22Wc1DS2e68HGaJbw33vvPWf2z/weA2hfWgygPcOE92CWmMw1KWW9vv76a+cEjr3M1Lf5xGqa7ZNPPpnwMf0QECYDaK4dM9e0GPPXpEkTP+BPSQ7r1q1zboR45513pF27ds4+g2YAzQ1WZozGOMRe5to4YwSXL1+eEo7p3Ikx8ObaKXM5ibkG8LPPPnNmUswMYBAMbpgNoLkhxCznm9nrhQsXqpz9M+dGyRqam3vMku/KlSvjN7ZgAO3fRTCA9gwT3oO5NuzHH38sM+6oo46K3+lrjJNpsl27dnWuWcnIyEj4mH4ICMsS8MiRI53lbHNXm7ngPEivV155RQYMGODMHMVeZgbJvGEbXZrv7Sz6O41jb9asmZxzzjnFPmiZ627NtY7mg5j2l7nm1nwIvf766+NDMWMz1/+ZO9i1v8K6BGzMn5nVNEve5skRhx12mNpSlqyhuVnQzMgX7X3mfcf82+jZPDGDV+IEMICJM6vQCNNwzN2IZunXvEFrb67mAl5zcbJ59It5meUoc5GyMU3abwIxF5ubm1nMBejm07eWR0wkIujdu3c7F5YXfZk7SM1stXlsShCudbzsssvEzHQWvQnkxhtvdC5RKDormAg3P21rjIExfGaWOvYyy2vmMTf/+te//JRqUrmUdhOIuQHE3AhiXrt27XJu0ArKTSAx82fuVjfLpObOdc2vkjU0Eybm8T5FX+Y6XfNEDPP+E+RHbZVnHTGA5UnXct/G/JmZPzMjYR5fUNT8NWrUyHLv6Qk319uYZSbzDCdjBM0nuxdeeMGZeTB35Wl+mRsFZsyY4cz+FX1DMs/lMndYBvUVtCVgs9RrnuFoHjVhZlQ+/PBD55pbc+NEEG6SMM/8MzcJmHPQLAGbmyOuvfZa+c1vfuN6aYpfNWzuSjfXSJuXeYSPWc42H5zNjUrmA6a55MY8F6/oY2C++OILNY+BKWt85rpG8xgYszz6+uuvF3sfNePX8sxYtxqW1B5LwPZnIwbQnmG57cF8OjWfbg72MrNNWl/mETCxB0Gbu/AmTZrk3Nqv/WU+tR7sZWZWTNMN6itoBtDUyTRSc1OEmVExy/hm+UnjjVcH05yZxTXPwTMz1Vu3bnWuqTLPGr3rrrvUmIWS4zIz7sbwlXyZD5vmfTT2IGhj4s2NWaeddprzCCNzF7SGV1njMw/1Lu1SEzMbaM5PDS+3GmIAU19FDGDqmbJHCEAAAhCAAAQg4GsCGEBfl4fkIAABCEAAAhCAQOoJYABTz5Q9QgACEIAABCAAAV8TwAD6ujwkBwEIQAACEIAABFJPAAOYeqbsEQIQgAAEIAABCPiaAAbQ1+UhOQhAAAIQgAAEIJB6AhjA1DNljxCAAAQgAAEIQMDXBDCAvi4PyUEAAhCAAAQgAIHUE8AApp4pe4QABCAAAQhAAAK+JoAB9HV5SA4CEIAABCAAAQikngAGMPVM2SMEIAABCEAAAhDwNQEMoK/LQ3IQgAAEIAABCEAg9QQwgKlnyh4hAAEIQAACEICArwlgAH1dHpKDAAQgAAEIQAACqSeAAUw9U/YIAQhAAAIQgAAEfE0AA+jr8pAcBCAAAQhAAAIQSD0BDGDqmbJHCEAAAhCAAAQg4GsCGEBfl4fkIAABCEAAAhCAQOoJYABTz5Q9QgACEIAABCAAAV8TwAD6ujwkBwEIQAACEIAABFJPAAOYeqbsEQIQgAAEIAABCPiaAAbQ1+UhOQhAAAIQgAAEIJB6AhjA1DNljxCAAAQgAAEIQMDXBDCAvi4PyUEAAhCAAAQgAIHUE8AApp4pe4QABCAAAQhAAAK+JoAB9HV5SA4CEIAABCAAAQikngAGMPVM2SMEIAABCEAAAhDwNQEMoK/LQ3IQgAAEIAABCEAg9QQwgKlnyh4hAAEIQAACEICArwlgAH1dHpKDAAQgAAEIQAACqSeAAUw9U/YIAQhAAAIQgAAEfE0AA+jr8pAcBCAAAQhAAAIQSD2B/w8s9ZNeWldqSgAAAABJRU5ErkJggg==\" width=\"640\">"
      ],
      "text/plain": [
       "<IPython.core.display.HTML object>"
      ]
     },
     "metadata": {},
     "output_type": "display_data"
    }
   ],
   "source": [
    "mix.plot(profile=True)\n",
    "spectra[0].plot(profile=True)\n",
    "spectra[1].plot(profile=True)"
   ]
  },
  {
   "cell_type": "markdown",
   "id": "17b48f56",
   "metadata": {},
   "source": [
    "### Ground truth"
   ]
  },
  {
   "cell_type": "code",
   "execution_count": 13,
   "id": "fba9b85c",
   "metadata": {},
   "outputs": [],
   "source": [
    "protons = [12, 8]\n",
    "mass_proportions = [0.8914, 0.1086]\n",
    "molar_masses = [212.25, 136.15]"
   ]
  },
  {
   "cell_type": "code",
   "execution_count": 14,
   "id": "442f7255",
   "metadata": {},
   "outputs": [
    {
     "data": {
      "text/plain": [
       "[0.8403875207510383, 0.1596124792489616]"
      ]
     },
     "execution_count": 14,
     "metadata": {},
     "output_type": "execute_result"
    }
   ],
   "source": [
    "molar_proportions = [mass_prop/mol_mass for mass_prop, mol_mass in zip(mass_proportions, molar_masses)]\n",
    "molar_proportions = [mol_prop/sum(molar_proportions) for mol_prop in molar_proportions]\n",
    "molar_proportions"
   ]
  },
  {
   "cell_type": "code",
   "execution_count": 15,
   "id": "8702815b",
   "metadata": {},
   "outputs": [
    {
     "data": {
      "text/plain": [
       "[0.8876121810260892, 0.1123878189739109]"
      ]
     },
     "execution_count": 15,
     "metadata": {},
     "output_type": "execute_result"
    }
   ],
   "source": [
    "real_visible_proportions = [prot*prop for prot, prop in zip(protons, molar_proportions)]\n",
    "real_visible_proportions = [prop/sum(real_visible_proportions) for prop in real_visible_proportions]\n",
    "real_visible_proportions"
   ]
  },
  {
   "cell_type": "markdown",
   "id": "8f15b9b2",
   "metadata": {},
   "source": [
    "### Preprocessing"
   ]
  },
  {
   "cell_type": "code",
   "execution_count": 16,
   "id": "88c18cb9",
   "metadata": {},
   "outputs": [],
   "source": [
    "def make_nonnegative(spectrum):\n",
    "    confs = np.array(spectrum.confs)\n",
    "    neg = confs[:,1]<0\n",
    "    confs[:,1][neg]=0\n",
    "    new_confs = list(zip(confs[:,0],confs[:,1]))\n",
    "    result = NMRSpectrum(confs=new_confs)\n",
    "    return(result)"
   ]
  },
  {
   "cell_type": "code",
   "execution_count": 17,
   "id": "f04d69ce",
   "metadata": {},
   "outputs": [],
   "source": [
    "def common_mass_axis(list_of_spectra):\n",
    "    all_mz = set()\n",
    "    for sp in list_of_spectra:\n",
    "        mz_set = set(np.array(sp.confs, np.dtype('float'))[:,0])\n",
    "        all_mz = all_mz.union(mz_set)\n",
    "    all_mz = np.array(sorted(all_mz))\n",
    "    return all_mz"
   ]
  },
  {
   "cell_type": "code",
   "execution_count": 18,
   "id": "bf723195",
   "metadata": {},
   "outputs": [],
   "source": [
    "spectra_and_mixture = spectra + [mix]"
   ]
  },
  {
   "cell_type": "code",
   "execution_count": 19,
   "id": "e7181f9e",
   "metadata": {},
   "outputs": [],
   "source": [
    "preprocessed_spectra = []\n",
    "for sp in spectra_and_mixture:\n",
    "    sp2 = make_nonnegative(sp)\n",
    "    sp2.sort_confs()\n",
    "    sp2.merge_confs()\n",
    "    sp2.normalize()\n",
    "    preprocessed_spectra.append(sp2)"
   ]
  },
  {
   "cell_type": "code",
   "execution_count": 20,
   "id": "01ffe3c0",
   "metadata": {},
   "outputs": [],
   "source": [
    "spectra_and_mixture = preprocessed_spectra\n",
    "spectra = spectra_and_mixture[:-1]\n",
    "mix = preprocessed_spectra[-1]\n",
    "del(preprocessed_spectra)"
   ]
  },
  {
   "cell_type": "code",
   "execution_count": 21,
   "id": "1b91ab40",
   "metadata": {},
   "outputs": [],
   "source": [
    "cma = common_mass_axis(spectra_and_mixture)"
   ]
  },
  {
   "cell_type": "code",
   "execution_count": 22,
   "id": "5924da86",
   "metadata": {},
   "outputs": [],
   "source": [
    "preprocessed_spectra = []\n",
    "for sp in spectra_and_mixture:\n",
    "    preprocessed_spectra.append(sp.resample(cma))"
   ]
  },
  {
   "cell_type": "code",
   "execution_count": 23,
   "id": "eb8e429b",
   "metadata": {},
   "outputs": [],
   "source": [
    "spectra_and_mixture = preprocessed_spectra\n",
    "del(preprocessed_spectra)"
   ]
  },
  {
   "cell_type": "code",
   "execution_count": 24,
   "id": "25d7fb75",
   "metadata": {},
   "outputs": [],
   "source": [
    "preprocessed_spectra = []\n",
    "for sp in spectra_and_mixture:\n",
    "    sp = make_nonnegative(sp)\n",
    "    sp.sort_confs()\n",
    "    sp.merge_confs()\n",
    "    sp.normalize()\n",
    "    preprocessed_spectra.append(sp)"
   ]
  },
  {
   "cell_type": "code",
   "execution_count": 25,
   "id": "dc3d4186",
   "metadata": {},
   "outputs": [],
   "source": [
    "spectra_and_mixture = preprocessed_spectra\n",
    "spectra = spectra_and_mixture[:-1]\n",
    "mix = preprocessed_spectra[-1]\n",
    "del(preprocessed_spectra)"
   ]
  },
  {
   "cell_type": "code",
   "execution_count": 26,
   "id": "24a6fd3f",
   "metadata": {},
   "outputs": [],
   "source": [
    "for i, sp in enumerate(spectra):\n",
    "    sp.protons = protons[i]"
   ]
  },
  {
   "cell_type": "code",
   "execution_count": 27,
   "id": "3f202d1a",
   "metadata": {},
   "outputs": [],
   "source": [
    "for i, name in enumerate(names):\n",
    "    globals()[name] = spectra[i]"
   ]
  },
  {
   "cell_type": "code",
   "execution_count": 28,
   "id": "eb41084e",
   "metadata": {},
   "outputs": [],
   "source": [
    "components_ints = []\n",
    "for spectrum in spectra:\n",
    "    components_ints.append(np.array(spectrum.confs)[:,1])#.reshape(-1,1))"
   ]
  },
  {
   "cell_type": "code",
   "execution_count": 29,
   "id": "620b113f",
   "metadata": {},
   "outputs": [],
   "source": [
    "ppm = np.array(mix.confs)[:,0]\n",
    "mix_ints = np.array(mix.confs)[:,1]"
   ]
  },
  {
   "cell_type": "code",
   "execution_count": 30,
   "id": "e47868e7",
   "metadata": {},
   "outputs": [],
   "source": [
    "# mix.plot(profile=True)\n",
    "# comp0.plot(profile=True)\n",
    "# comp1.plot(profile=True) "
   ]
  },
  {
   "cell_type": "markdown",
   "id": "b109921c",
   "metadata": {},
   "source": [
    "### Finding best kappa"
   ]
  },
  {
   "cell_type": "code",
   "execution_count": 31,
   "id": "38906d6a",
   "metadata": {},
   "outputs": [],
   "source": [
    "import time\n",
    "import pandas as pd\n",
    "import pulp"
   ]
  },
  {
   "cell_type": "code",
   "execution_count": 32,
   "id": "80604968",
   "metadata": {},
   "outputs": [],
   "source": [
    "lower_limit = 0.01\n",
    "upper_limit = 0.3\n",
    "step = 0.01"
   ]
  },
  {
   "cell_type": "code",
   "execution_count": 49,
   "id": "aa3f1fac",
   "metadata": {},
   "outputs": [
    {
     "name": "stderr",
     "output_type": "stream",
     "text": [
      "Initial filtering of formulas: 100%|██████████████| 2/2 [00:00<00:00, 62.04it/s]\n",
      "Computing chunks: 100%|████████████████████████| 2/2 [00:00<00:00, 28149.69it/s]\n",
      "Splitting the experimental spectrum into chunks: 131072it [00:00, 3232906.87it/s]\n",
      "Deconvolving chunks: 100%|███████████████████████| 1/1 [02:30<00:00, 150.29s/it]\n"
     ]
    },
    {
     "name": "stdout",
     "output_type": "stream",
     "text": [
      "Estimation for 0.01 and 0.01 done\n",
      "It took: 150.44320917129517 seconds.\n",
      "[0.7131499470590109, 0.061583023606000944]\n"
     ]
    },
    {
     "name": "stderr",
     "output_type": "stream",
     "text": [
      "Initial filtering of formulas: 100%|██████████████| 2/2 [00:00<00:00, 58.44it/s]\n",
      "Computing chunks: 100%|████████████████████████| 2/2 [00:00<00:00, 89240.51it/s]\n",
      "Splitting the experimental spectrum into chunks: 131072it [00:00, 3159734.08it/s]\n",
      "Deconvolving chunks: 100%|███████████████████████| 1/1 [02:38<00:00, 158.09s/it]\n"
     ]
    },
    {
     "name": "stdout",
     "output_type": "stream",
     "text": [
      "Estimation for 0.01 and 0.02 done\n",
      "It took: 158.23815989494324 seconds.\n",
      "[0.6818430517780104, 0.03988604873600061]\n"
     ]
    },
    {
     "name": "stderr",
     "output_type": "stream",
     "text": [
      "Initial filtering of formulas: 100%|██████████████| 2/2 [00:00<00:00, 63.18it/s]\n",
      "Computing chunks: 100%|████████████████████████| 2/2 [00:00<00:00, 86480.49it/s]\n",
      "Splitting the experimental spectrum into chunks: 131072it [00:00, 3440360.30it/s]\n",
      "Deconvolving chunks: 100%|███████████████████████| 1/1 [02:32<00:00, 152.74s/it]\n"
     ]
    },
    {
     "name": "stdout",
     "output_type": "stream",
     "text": [
      "Estimation for 0.01 and 0.03 done\n",
      "It took: 152.88273572921753 seconds.\n",
      "[0.6756350670660103, 0.03570759514600055]\n"
     ]
    },
    {
     "name": "stderr",
     "output_type": "stream",
     "text": [
      "Initial filtering of formulas: 100%|██████████████| 2/2 [00:00<00:00, 61.45it/s]\n",
      "Computing chunks: 100%|████████████████████████| 2/2 [00:00<00:00, 87381.33it/s]\n",
      "Splitting the experimental spectrum into chunks: 131072it [00:00, 3470395.83it/s]\n",
      "Deconvolving chunks: 100%|███████████████████████| 1/1 [02:46<00:00, 166.32s/it]\n"
     ]
    },
    {
     "name": "stdout",
     "output_type": "stream",
     "text": [
      "Estimation for 0.01 and 0.04 done\n",
      "It took: 166.4679479598999 seconds.\n",
      "[0.6736811395120104, 0.02936411848600045]\n"
     ]
    },
    {
     "name": "stderr",
     "output_type": "stream",
     "text": [
      "Initial filtering of formulas: 100%|██████████████| 2/2 [00:00<00:00, 60.98it/s]\n",
      "Computing chunks: 100%|████████████████████████| 2/2 [00:00<00:00, 77672.30it/s]\n",
      "Splitting the experimental spectrum into chunks: 131072it [00:00, 3534747.95it/s]\n",
      "Deconvolving chunks: 100%|███████████████████████| 1/1 [02:48<00:00, 168.88s/it]\n"
     ]
    },
    {
     "name": "stdout",
     "output_type": "stream",
     "text": [
      "Estimation for 0.01 and 0.05 done\n",
      "It took: 169.0271077156067 seconds.\n",
      "[0.6648899683840103, 0.023161998115000353]\n"
     ]
    },
    {
     "name": "stderr",
     "output_type": "stream",
     "text": [
      "Initial filtering of formulas: 100%|██████████████| 2/2 [00:00<00:00, 64.08it/s]\n",
      "Computing chunks: 100%|████████████████████████| 2/2 [00:00<00:00, 91180.52it/s]\n",
      "Splitting the experimental spectrum into chunks: 131072it [00:00, 3490779.07it/s]\n",
      "Deconvolving chunks: 100%|███████████████████████| 1/1 [02:36<00:00, 156.85s/it]\n"
     ]
    },
    {
     "name": "stdout",
     "output_type": "stream",
     "text": [
      "Estimation for 0.01 and 0.060000000000000005 done\n",
      "It took: 157.00356912612915 seconds.\n",
      "[0.65299448930501, 0.019674234804000303]\n"
     ]
    },
    {
     "name": "stderr",
     "output_type": "stream",
     "text": [
      "Initial filtering of formulas: 100%|██████████████| 2/2 [00:00<00:00, 65.03it/s]\n",
      "Computing chunks: 100%|████████████████████████| 2/2 [00:00<00:00, 95325.09it/s]\n",
      "Splitting the experimental spectrum into chunks: 131072it [00:00, 3662841.05it/s]\n",
      "Deconvolving chunks: 100%|███████████████████████| 1/1 [02:25<00:00, 145.54s/it]\n"
     ]
    },
    {
     "name": "stdout",
     "output_type": "stream",
     "text": [
      "Estimation for 0.01 and 0.06999999999999999 done\n",
      "It took: 145.67477202415466 seconds.\n",
      "[0.6417060171550099, 0.018272143282000282]\n"
     ]
    },
    {
     "name": "stderr",
     "output_type": "stream",
     "text": [
      "Initial filtering of formulas: 100%|██████████████| 2/2 [00:00<00:00, 65.36it/s]\n",
      "Computing chunks: 100%|████████████████████████| 2/2 [00:00<00:00, 94254.02it/s]\n",
      "Splitting the experimental spectrum into chunks: 131072it [00:00, 3623155.09it/s]\n",
      "Deconvolving chunks: 100%|███████████████████████| 1/1 [02:41<00:00, 161.09s/it]\n"
     ]
    },
    {
     "name": "stdout",
     "output_type": "stream",
     "text": [
      "Estimation for 0.01 and 0.08 done\n",
      "It took: 161.2395842075348 seconds.\n",
      "[0.6308872284800097, 0.01697428194800026]\n"
     ]
    },
    {
     "name": "stderr",
     "output_type": "stream",
     "text": [
      "Initial filtering of formulas: 100%|██████████████| 2/2 [00:00<00:00, 64.11it/s]\n",
      "Computing chunks: 100%|████████████████████████| 2/2 [00:00<00:00, 92182.51it/s]\n",
      "Splitting the experimental spectrum into chunks: 131072it [00:00, 3590617.23it/s]\n",
      "Deconvolving chunks: 100%|███████████████████████| 1/1 [02:34<00:00, 154.95s/it]\n"
     ]
    },
    {
     "name": "stdout",
     "output_type": "stream",
     "text": [
      "Estimation for 0.01 and 0.09 done\n",
      "It took: 155.0872483253479 seconds.\n",
      "[0.6209603634900095, 0.015835508742000244]\n"
     ]
    },
    {
     "name": "stderr",
     "output_type": "stream",
     "text": [
      "Initial filtering of formulas: 100%|██████████████| 2/2 [00:00<00:00, 65.17it/s]\n",
      "Computing chunks: 100%|████████████████████████| 2/2 [00:00<00:00, 92182.51it/s]\n",
      "Splitting the experimental spectrum into chunks: 131072it [00:00, 3539686.66it/s]\n",
      "Deconvolving chunks: 100%|███████████████████████| 1/1 [02:43<00:00, 163.95s/it]\n"
     ]
    },
    {
     "name": "stdout",
     "output_type": "stream",
     "text": [
      "Estimation for 0.01 and 0.09999999999999999 done\n",
      "It took: 164.09250330924988 seconds.\n",
      "[0.6125844686020094, 0.014761612802000225]\n"
     ]
    },
    {
     "name": "stderr",
     "output_type": "stream",
     "text": [
      "Initial filtering of formulas: 100%|██████████████| 2/2 [00:00<00:00, 62.80it/s]\n",
      "Computing chunks: 100%|████████████████████████| 2/2 [00:00<00:00, 69905.07it/s]\n",
      "Splitting the experimental spectrum into chunks: 131072it [00:00, 3519924.02it/s]\n",
      "Deconvolving chunks: 100%|███████████████████████| 1/1 [14:37<00:00, 877.70s/it]\n"
     ]
    },
    {
     "name": "stdout",
     "output_type": "stream",
     "text": [
      "Estimation for 0.01 and 0.11 done\n",
      "It took: 877.8355631828308 seconds.\n",
      "[0.5978096598140091, 0.014075572377000216]\n"
     ]
    },
    {
     "name": "stderr",
     "output_type": "stream",
     "text": [
      "Initial filtering of formulas: 100%|██████████████| 2/2 [00:00<00:00, 63.16it/s]\n",
      "Computing chunks: 100%|████████████████████████| 2/2 [00:00<00:00, 79137.81it/s]\n",
      "Splitting the experimental spectrum into chunks: 131072it [00:00, 3567919.98it/s]\n",
      "Deconvolving chunks: 100%|███████████████████████| 1/1 [02:43<00:00, 163.89s/it]\n"
     ]
    },
    {
     "name": "stdout",
     "output_type": "stream",
     "text": [
      "Estimation for 0.01 and 0.12 done\n",
      "It took: 164.0304205417633 seconds.\n",
      "[0.5828511027170089, 0.013434241440000206]\n"
     ]
    },
    {
     "name": "stderr",
     "output_type": "stream",
     "text": [
      "Initial filtering of formulas: 100%|██████████████| 2/2 [00:00<00:00, 60.42it/s]\n",
      "Computing chunks: 100%|████████████████████████| 2/2 [00:00<00:00, 70492.50it/s]\n",
      "Splitting the experimental spectrum into chunks: 131072it [00:00, 3046785.12it/s]\n",
      "Deconvolving chunks: 100%|███████████████████████| 1/1 [03:49<00:00, 229.68s/it]\n"
     ]
    },
    {
     "name": "stdout",
     "output_type": "stream",
     "text": [
      "Estimation for 0.01 and 0.13 done\n",
      "It took: 229.84480595588684 seconds.\n",
      "[0.5679465599010086, 0.012898453444000198]\n"
     ]
    },
    {
     "name": "stderr",
     "output_type": "stream",
     "text": [
      "Initial filtering of formulas: 100%|██████████████| 2/2 [00:00<00:00, 63.25it/s]\n",
      "Computing chunks: 100%|████████████████████████| 2/2 [00:00<00:00, 46863.73it/s]\n",
      "Splitting the experimental spectrum into chunks: 131072it [00:00, 3555896.44it/s]\n",
      "Deconvolving chunks: 100%|███████████████████████| 1/1 [03:00<00:00, 180.08s/it]\n"
     ]
    },
    {
     "name": "stdout",
     "output_type": "stream",
     "text": [
      "Estimation for 0.01 and 0.14 done\n",
      "It took: 180.2343249320984 seconds.\n",
      "[0.5512881064570084, 0.012747086864000196]\n"
     ]
    },
    {
     "name": "stderr",
     "output_type": "stream",
     "text": [
      "Initial filtering of formulas: 100%|██████████████| 2/2 [00:00<00:00, 59.86it/s]\n",
      "Computing chunks: 100%|████████████████████████| 2/2 [00:00<00:00, 87381.33it/s]\n",
      "Splitting the experimental spectrum into chunks: 131072it [00:00, 3466413.28it/s]\n",
      "Deconvolving chunks: 100%|███████████████████████| 1/1 [02:51<00:00, 171.03s/it]\n"
     ]
    },
    {
     "name": "stdout",
     "output_type": "stream",
     "text": [
      "Estimation for 0.01 and 0.15000000000000002 done\n",
      "It took: 171.18220281600952 seconds.\n",
      "[0.5385447016460082, 0.012553689273000192]\n"
     ]
    },
    {
     "name": "stderr",
     "output_type": "stream",
     "text": [
      "Initial filtering of formulas: 100%|██████████████| 2/2 [00:00<00:00, 59.01it/s]\n",
      "Computing chunks: 100%|████████████████████████| 2/2 [00:00<00:00, 69905.07it/s]\n",
      "Splitting the experimental spectrum into chunks: 131072it [00:00, 3451440.61it/s]\n",
      "Deconvolving chunks: 100%|███████████████████████| 1/1 [03:03<00:00, 183.02s/it]\n"
     ]
    },
    {
     "name": "stdout",
     "output_type": "stream",
     "text": [
      "Estimation for 0.01 and 0.16 done\n",
      "It took: 183.186265707016 seconds.\n",
      "[0.523265957659008, 0.01232645291700019]\n"
     ]
    },
    {
     "name": "stderr",
     "output_type": "stream",
     "text": [
      "Initial filtering of formulas: 100%|██████████████| 2/2 [00:00<00:00, 51.59it/s]\n",
      "Computing chunks: 100%|████████████████████████| 2/2 [00:00<00:00, 64527.75it/s]\n",
      "Splitting the experimental spectrum into chunks: 131072it [00:00, 3062194.70it/s]\n",
      "Deconvolving chunks: 100%|███████████████████████| 1/1 [05:55<00:00, 355.40s/it]\n"
     ]
    },
    {
     "name": "stdout",
     "output_type": "stream",
     "text": [
      "Estimation for 0.01 and 0.17 done\n",
      "It took: 355.5725543498993 seconds.\n",
      "[0.5100928432560078, 0.012221787074000188]\n"
     ]
    },
    {
     "name": "stderr",
     "output_type": "stream",
     "text": [
      "Initial filtering of formulas: 100%|██████████████| 2/2 [00:00<00:00, 63.30it/s]\n",
      "Computing chunks: 100%|████████████████████████| 2/2 [00:00<00:00, 99864.38it/s]\n",
      "Splitting the experimental spectrum into chunks: 131072it [00:00, 3542309.54it/s]\n",
      "Deconvolving chunks: 100%|███████████████████████| 1/1 [02:26<00:00, 146.82s/it]\n"
     ]
    },
    {
     "name": "stdout",
     "output_type": "stream",
     "text": [
      "Estimation for 0.01 and 0.18000000000000002 done\n",
      "It took: 146.97002172470093 seconds.\n",
      "[0.4972451154460076, 0.012151568081000185]\n"
     ]
    },
    {
     "name": "stderr",
     "output_type": "stream",
     "text": [
      "Initial filtering of formulas: 100%|██████████████| 2/2 [00:00<00:00, 63.80it/s]\n",
      "Computing chunks: 100%|████████████████████████| 2/2 [00:00<00:00, 94254.02it/s]\n",
      "Splitting the experimental spectrum into chunks: 131072it [00:00, 3589304.44it/s]\n",
      "Deconvolving chunks: 100%|███████████████████████| 1/1 [03:08<00:00, 188.06s/it]\n"
     ]
    },
    {
     "name": "stdout",
     "output_type": "stream",
     "text": [
      "Estimation for 0.01 and 0.19 done\n",
      "It took: 188.2014889717102 seconds.\n",
      "[0.4855522652710074, 0.012099935111000186]\n"
     ]
    },
    {
     "name": "stderr",
     "output_type": "stream",
     "text": [
      "Initial filtering of formulas: 100%|██████████████| 2/2 [00:00<00:00, 64.87it/s]\n",
      "Computing chunks: 100%|████████████████████████| 2/2 [00:00<00:00, 97541.95it/s]\n",
      "Splitting the experimental spectrum into chunks: 131072it [00:00, 3609784.98it/s]\n",
      "Deconvolving chunks: 100%|███████████████████████| 1/1 [02:37<00:00, 157.54s/it]\n"
     ]
    },
    {
     "name": "stdout",
     "output_type": "stream",
     "text": [
      "Estimation for 0.01 and 0.2 done\n",
      "It took: 157.67475485801697 seconds.\n",
      "[0.47445915651200726, 0.012103289277000186]\n"
     ]
    },
    {
     "name": "stderr",
     "output_type": "stream",
     "text": [
      "Initial filtering of formulas: 100%|██████████████| 2/2 [00:00<00:00, 60.23it/s]\n",
      "Computing chunks: 100%|████████████████████████| 2/2 [00:00<00:00, 87381.33it/s]\n",
      "Splitting the experimental spectrum into chunks: 131072it [00:00, 3467550.22it/s]\n",
      "Deconvolving chunks: 100%|███████████████████████| 1/1 [02:31<00:00, 151.33s/it]\n"
     ]
    },
    {
     "name": "stdout",
     "output_type": "stream",
     "text": [
      "Estimation for 0.01 and 0.21000000000000002 done\n",
      "It took: 151.47101068496704 seconds.\n",
      "[0.4627170656820071, 0.012023066569000184]\n"
     ]
    },
    {
     "name": "stderr",
     "output_type": "stream",
     "text": [
      "Initial filtering of formulas: 100%|██████████████| 2/2 [00:00<00:00, 65.09it/s]\n",
      "Computing chunks: 100%|███████████████████████| 2/2 [00:00<00:00, 103563.06it/s]\n",
      "Splitting the experimental spectrum into chunks: 131072it [00:00, 3524979.57it/s]\n",
      "Deconvolving chunks: 100%|███████████████████████| 1/1 [08:25<00:00, 505.17s/it]\n"
     ]
    },
    {
     "name": "stdout",
     "output_type": "stream",
     "text": [
      "Estimation for 0.01 and 0.22 done\n",
      "It took: 505.32753252983093 seconds.\n",
      "[0.45316855359100694, 0.011864558277000182]\n"
     ]
    },
    {
     "name": "stderr",
     "output_type": "stream",
     "text": [
      "Initial filtering of formulas: 100%|██████████████| 2/2 [00:00<00:00, 64.40it/s]\n",
      "Computing chunks: 100%|████████████████████████| 2/2 [00:00<00:00, 97541.95it/s]\n",
      "Splitting the experimental spectrum into chunks: 131072it [00:00, 3484694.22it/s]\n",
      "Deconvolving chunks: 100%|███████████████████████| 1/1 [02:29<00:00, 149.57s/it]\n"
     ]
    },
    {
     "name": "stdout",
     "output_type": "stream",
     "text": [
      "Estimation for 0.01 and 0.23 done\n",
      "It took: 149.7307424545288 seconds.\n",
      "[0.4434791001010068, 0.011694561967000179]\n"
     ]
    },
    {
     "name": "stderr",
     "output_type": "stream",
     "text": [
      "Initial filtering of formulas: 100%|██████████████| 2/2 [00:00<00:00, 64.22it/s]\n",
      "Computing chunks: 100%|████████████████████████| 2/2 [00:00<00:00, 94254.02it/s]\n",
      "Splitting the experimental spectrum into chunks: 131072it [00:00, 3558566.45it/s]\n",
      "Deconvolving chunks: 100%|███████████████████████| 1/1 [03:23<00:00, 203.34s/it]\n"
     ]
    },
    {
     "name": "stdout",
     "output_type": "stream",
     "text": [
      "Estimation for 0.01 and 0.24000000000000002 done\n",
      "It took: 203.49013090133667 seconds.\n",
      "[0.4351442175810067, 0.011511562955000177]\n"
     ]
    },
    {
     "name": "stderr",
     "output_type": "stream",
     "text": [
      "Initial filtering of formulas: 100%|██████████████| 2/2 [00:00<00:00, 64.15it/s]\n",
      "Computing chunks: 100%|████████████████████████| 2/2 [00:00<00:00, 87381.33it/s]\n",
      "Splitting the experimental spectrum into chunks: 131072it [00:00, 3555436.50it/s]\n",
      "Deconvolving chunks: 100%|███████████████████████| 1/1 [02:23<00:00, 144.00s/it]\n"
     ]
    },
    {
     "name": "stdout",
     "output_type": "stream",
     "text": [
      "Estimation for 0.01 and 0.25 done\n",
      "It took: 144.15374445915222 seconds.\n",
      "[0.4248763530830065, 0.011465447604000175]\n"
     ]
    },
    {
     "name": "stderr",
     "output_type": "stream",
     "text": [
      "Initial filtering of formulas: 100%|██████████████| 2/2 [00:00<00:00, 64.45it/s]\n",
      "Computing chunks: 100%|████████████████████████| 2/2 [00:00<00:00, 97541.95it/s]\n",
      "Splitting the experimental spectrum into chunks: 131072it [00:00, 3528124.03it/s]\n",
      "Deconvolving chunks: 100%|███████████████████████| 1/1 [03:36<00:00, 216.04s/it]\n"
     ]
    },
    {
     "name": "stdout",
     "output_type": "stream",
     "text": [
      "Estimation for 0.01 and 0.26 done\n",
      "It took: 216.17141604423523 seconds.\n",
      "[0.4149007870640064, 0.011386200036000176]\n"
     ]
    },
    {
     "name": "stderr",
     "output_type": "stream",
     "text": [
      "Initial filtering of formulas: 100%|██████████████| 2/2 [00:00<00:00, 64.03it/s]\n",
      "Computing chunks: 100%|████████████████████████| 2/2 [00:00<00:00, 90200.09it/s]\n",
      "Splitting the experimental spectrum into chunks: 131072it [00:00, 3494129.25it/s]\n",
      "Deconvolving chunks: 100%|███████████████████████| 1/1 [02:27<00:00, 147.35s/it]\n"
     ]
    },
    {
     "name": "stdout",
     "output_type": "stream",
     "text": [
      "Estimation for 0.01 and 0.27 done\n",
      "It took: 147.49711275100708 seconds.\n",
      "[0.40095033422200616, 0.011390883275000175]\n"
     ]
    },
    {
     "name": "stderr",
     "output_type": "stream",
     "text": [
      "Initial filtering of formulas: 100%|██████████████| 2/2 [00:00<00:00, 64.50it/s]\n",
      "Computing chunks: 100%|████████████████████████| 2/2 [00:00<00:00, 97541.95it/s]\n",
      "Splitting the experimental spectrum into chunks: 131072it [00:00, 3527376.99it/s]\n",
      "Deconvolving chunks: 100%|███████████████████████| 1/1 [02:45<00:00, 165.85s/it]\n"
     ]
    },
    {
     "name": "stdout",
     "output_type": "stream",
     "text": [
      "Estimation for 0.01 and 0.28 done\n",
      "It took: 165.99196815490723 seconds.\n",
      "[0.38934516868500596, 0.011279017755000174]\n"
     ]
    },
    {
     "name": "stderr",
     "output_type": "stream",
     "text": [
      "Initial filtering of formulas: 100%|██████████████| 2/2 [00:00<00:00, 62.72it/s]\n",
      "Computing chunks: 100%|████████████████████████| 2/2 [00:00<00:00, 93206.76it/s]\n",
      "Splitting the experimental spectrum into chunks: 131072it [00:00, 3459999.21it/s]\n",
      "Deconvolving chunks: 100%|███████████████████████| 1/1 [03:20<00:00, 200.18s/it]\n"
     ]
    },
    {
     "name": "stdout",
     "output_type": "stream",
     "text": [
      "Estimation for 0.01 and 0.29000000000000004 done\n",
      "It took: 200.33386874198914 seconds.\n",
      "[0.37540776547000576, 0.011265708087000172]\n"
     ]
    },
    {
     "name": "stderr",
     "output_type": "stream",
     "text": [
      "Initial filtering of formulas: 100%|██████████████| 2/2 [00:00<00:00, 61.83it/s]\n",
      "Computing chunks: 100%|████████████████████████| 2/2 [00:00<00:00, 98689.51it/s]\n",
      "Splitting the experimental spectrum into chunks: 131072it [00:00, 3459454.89it/s]\n",
      "Deconvolving chunks: 100%|███████████████████████| 1/1 [02:52<00:00, 172.80s/it]\n"
     ]
    },
    {
     "name": "stdout",
     "output_type": "stream",
     "text": [
      "Estimation for 0.02 and 0.01 done\n",
      "It took: 172.95387053489685 seconds.\n",
      "[0.8330947636540128, 0.08622385066500132]\n"
     ]
    },
    {
     "name": "stderr",
     "output_type": "stream",
     "text": [
      "Initial filtering of formulas: 100%|██████████████| 2/2 [00:00<00:00, 64.65it/s]\n",
      "Computing chunks: 100%|███████████████████████| 2/2 [00:00<00:00, 101067.57it/s]\n",
      "Splitting the experimental spectrum into chunks: 131072it [00:00, 3542218.25it/s]\n",
      "Deconvolving chunks: 100%|███████████████████████| 1/1 [02:49<00:00, 169.92s/it]\n"
     ]
    },
    {
     "name": "stdout",
     "output_type": "stream",
     "text": [
      "Estimation for 0.02 and 0.02 done\n",
      "It took: 170.05296349525452 seconds.\n",
      "[0.8012450679570123, 0.1038553529450016]\n"
     ]
    },
    {
     "name": "stderr",
     "output_type": "stream",
     "text": [
      "Initial filtering of formulas: 100%|██████████████| 2/2 [00:00<00:00, 63.49it/s]\n",
      "Computing chunks: 100%|████████████████████████| 2/2 [00:00<00:00, 98689.51it/s]\n",
      "Splitting the experimental spectrum into chunks: 131072it [00:00, 3453044.83it/s]\n",
      "Deconvolving chunks: 100%|███████████████████████| 1/1 [02:30<00:00, 150.28s/it]\n"
     ]
    },
    {
     "name": "stdout",
     "output_type": "stream",
     "text": [
      "Estimation for 0.02 and 0.03 done\n",
      "It took: 150.41986298561096 seconds.\n",
      "[0.8033614037500123, 0.08652909667200133]\n"
     ]
    },
    {
     "name": "stderr",
     "output_type": "stream",
     "text": [
      "Initial filtering of formulas: 100%|██████████████| 2/2 [00:00<00:00, 62.31it/s]\n",
      "Computing chunks: 100%|████████████████████████| 2/2 [00:00<00:00, 71697.50it/s]\n",
      "Splitting the experimental spectrum into chunks: 131072it [00:00, 3411708.06it/s]\n",
      "Deconvolving chunks: 100%|███████████████████████| 1/1 [02:11<00:00, 131.66s/it]\n"
     ]
    },
    {
     "name": "stdout",
     "output_type": "stream",
     "text": [
      "Estimation for 0.02 and 0.04 done\n",
      "It took: 131.802250623703 seconds.\n",
      "[0.7911702775760121, 0.08773534883500135]\n"
     ]
    },
    {
     "name": "stderr",
     "output_type": "stream",
     "text": [
      "Initial filtering of formulas: 100%|██████████████| 2/2 [00:00<00:00, 62.35it/s]\n",
      "Computing chunks: 100%|████████████████████████| 2/2 [00:00<00:00, 76260.07it/s]\n",
      "Splitting the experimental spectrum into chunks: 131072it [00:00, 3476408.82it/s]\n",
      "Deconvolving chunks: 100%|███████████████████████| 1/1 [02:10<00:00, 130.35s/it]\n"
     ]
    },
    {
     "name": "stdout",
     "output_type": "stream",
     "text": [
      "Estimation for 0.02 and 0.05 done\n",
      "It took: 130.50220727920532 seconds.\n",
      "[0.779410600867012, 0.08913104749400136]\n"
     ]
    },
    {
     "name": "stderr",
     "output_type": "stream",
     "text": [
      "Initial filtering of formulas: 100%|██████████████| 2/2 [00:00<00:00, 64.22it/s]\n",
      "Computing chunks: 100%|████████████████████████| 2/2 [00:00<00:00, 85598.04it/s]\n",
      "Splitting the experimental spectrum into chunks: 131072it [00:00, 3538980.28it/s]\n",
      "Deconvolving chunks: 100%|███████████████████████| 1/1 [02:26<00:00, 146.45s/it]\n"
     ]
    },
    {
     "name": "stdout",
     "output_type": "stream",
     "text": [
      "Estimation for 0.02 and 0.060000000000000005 done\n",
      "It took: 146.59207963943481 seconds.\n",
      "[0.7723476834290118, 0.08483715804800131]\n"
     ]
    },
    {
     "name": "stderr",
     "output_type": "stream",
     "text": [
      "Initial filtering of formulas: 100%|██████████████| 2/2 [00:00<00:00, 66.76it/s]\n",
      "Computing chunks: 100%|████████████████████████| 2/2 [00:00<00:00, 95325.09it/s]\n",
      "Splitting the experimental spectrum into chunks: 131072it [00:00, 3555965.45it/s]\n",
      "Deconvolving chunks: 100%|███████████████████████| 1/1 [02:16<00:00, 136.01s/it]\n"
     ]
    },
    {
     "name": "stdout",
     "output_type": "stream",
     "text": [
      "Estimation for 0.02 and 0.06999999999999999 done\n",
      "It took: 136.16602540016174 seconds.\n",
      "[0.7633261803940117, 0.07989706347900122]\n"
     ]
    },
    {
     "name": "stderr",
     "output_type": "stream",
     "text": [
      "Initial filtering of formulas: 100%|██████████████| 2/2 [00:00<00:00, 63.61it/s]\n",
      "Computing chunks: 100%|████████████████████████| 2/2 [00:00<00:00, 74235.47it/s]\n",
      "Splitting the experimental spectrum into chunks: 131072it [00:00, 3543314.11it/s]\n",
      "Deconvolving chunks: 100%|███████████████████████| 1/1 [02:20<00:00, 140.12s/it]\n"
     ]
    },
    {
     "name": "stdout",
     "output_type": "stream",
     "text": [
      "Estimation for 0.02 and 0.08 done\n",
      "It took: 140.2610056400299 seconds.\n",
      "[0.7656791783750118, 0.06092856438100094]\n"
     ]
    },
    {
     "name": "stderr",
     "output_type": "stream",
     "text": [
      "Initial filtering of formulas: 100%|██████████████| 2/2 [00:00<00:00, 64.19it/s]\n",
      "Computing chunks: 100%|████████████████████████| 2/2 [00:00<00:00, 98689.51it/s]\n",
      "Splitting the experimental spectrum into chunks: 131072it [00:00, 3563040.78it/s]\n",
      "Deconvolving chunks: 100%|███████████████████████| 1/1 [01:59<00:00, 119.68s/it]\n"
     ]
    },
    {
     "name": "stdout",
     "output_type": "stream",
     "text": [
      "Estimation for 0.02 and 0.09 done\n",
      "It took: 119.82034754753113 seconds.\n",
      "[0.7640566816430117, 0.04783384278600074]\n"
     ]
    },
    {
     "name": "stderr",
     "output_type": "stream",
     "text": [
      "Initial filtering of formulas: 100%|██████████████| 2/2 [00:00<00:00, 63.99it/s]\n",
      "Computing chunks: 100%|████████████████████████| 2/2 [00:00<00:00, 94254.02it/s]\n",
      "Splitting the experimental spectrum into chunks: 131072it [00:00, 3487789.31it/s]\n",
      "Deconvolving chunks: 100%|███████████████████████| 1/1 [02:17<00:00, 137.43s/it]\n"
     ]
    },
    {
     "name": "stdout",
     "output_type": "stream",
     "text": [
      "Estimation for 0.02 and 0.09999999999999999 done\n",
      "It took: 137.5703775882721 seconds.\n",
      "[0.7581271428480116, 0.0457384519040007]\n"
     ]
    },
    {
     "name": "stderr",
     "output_type": "stream",
     "text": [
      "Initial filtering of formulas: 100%|██████████████| 2/2 [00:00<00:00, 63.06it/s]\n",
      "Computing chunks: 100%|████████████████████████| 2/2 [00:00<00:00, 89240.51it/s]\n",
      "Splitting the experimental spectrum into chunks: 131072it [00:00, 3471666.91it/s]\n",
      "Deconvolving chunks: 100%|███████████████████████| 1/1 [02:17<00:00, 137.79s/it]\n"
     ]
    },
    {
     "name": "stdout",
     "output_type": "stream",
     "text": [
      "Estimation for 0.02 and 0.11 done\n",
      "It took: 137.92844223976135 seconds.\n",
      "[0.7530917665090116, 0.04417324491000068]\n"
     ]
    },
    {
     "name": "stderr",
     "output_type": "stream",
     "text": [
      "Initial filtering of formulas: 100%|██████████████| 2/2 [00:00<00:00, 63.36it/s]\n",
      "Computing chunks: 100%|████████████████████████| 2/2 [00:00<00:00, 91180.52it/s]\n",
      "Splitting the experimental spectrum into chunks: 131072it [00:00, 3453587.13it/s]\n",
      "Deconvolving chunks: 100%|███████████████████████| 1/1 [02:29<00:00, 149.76s/it]\n"
     ]
    },
    {
     "name": "stdout",
     "output_type": "stream",
     "text": [
      "Estimation for 0.02 and 0.12 done\n",
      "It took: 149.90339064598083 seconds.\n",
      "[0.7468148521950114, 0.04182580208200064]\n"
     ]
    },
    {
     "name": "stderr",
     "output_type": "stream",
     "text": [
      "Initial filtering of formulas: 100%|██████████████| 2/2 [00:00<00:00, 64.81it/s]\n",
      "Computing chunks: 100%|████████████████████████| 2/2 [00:00<00:00, 93206.76it/s]\n",
      "Splitting the experimental spectrum into chunks: 131072it [00:00, 3580561.38it/s]\n",
      "Deconvolving chunks: 100%|███████████████████████| 1/1 [02:40<00:00, 160.70s/it]\n"
     ]
    },
    {
     "name": "stdout",
     "output_type": "stream",
     "text": [
      "Estimation for 0.02 and 0.13 done\n",
      "It took: 160.83879375457764 seconds.\n",
      "[0.7418276356060113, 0.04208560320000065]\n"
     ]
    },
    {
     "name": "stderr",
     "output_type": "stream",
     "text": [
      "Initial filtering of formulas: 100%|██████████████| 2/2 [00:00<00:00, 61.32it/s]\n",
      "Computing chunks: 100%|████████████████████████| 2/2 [00:00<00:00, 81442.80it/s]\n",
      "Splitting the experimental spectrum into chunks: 131072it [00:00, 3409042.40it/s]\n",
      "Deconvolving chunks: 100%|███████████████████████| 1/1 [02:37<00:00, 157.81s/it]\n"
     ]
    },
    {
     "name": "stdout",
     "output_type": "stream",
     "text": [
      "Estimation for 0.02 and 0.14 done\n",
      "It took: 157.96585369110107 seconds.\n",
      "[0.7411220988280113, 0.042129089325000646]\n"
     ]
    },
    {
     "name": "stderr",
     "output_type": "stream",
     "text": [
      "Initial filtering of formulas: 100%|██████████████| 2/2 [00:00<00:00, 63.29it/s]\n",
      "Computing chunks: 100%|████████████████████████| 2/2 [00:00<00:00, 91180.52it/s]\n",
      "Splitting the experimental spectrum into chunks: 131072it [00:00, 3489316.77it/s]\n",
      "Deconvolving chunks: 100%|███████████████████████| 1/1 [02:25<00:00, 145.38s/it]\n"
     ]
    },
    {
     "name": "stdout",
     "output_type": "stream",
     "text": [
      "Estimation for 0.02 and 0.15000000000000002 done\n",
      "It took: 145.5158519744873 seconds.\n",
      "[0.7403087321760113, 0.04212463955600065]\n"
     ]
    },
    {
     "name": "stderr",
     "output_type": "stream",
     "text": [
      "Initial filtering of formulas: 100%|██████████████| 2/2 [00:00<00:00, 62.98it/s]\n",
      "Computing chunks: 100%|████████████████████████| 2/2 [00:00<00:00, 72315.59it/s]\n",
      "Splitting the experimental spectrum into chunks: 131072it [00:00, 3511448.02it/s]\n",
      "Deconvolving chunks: 100%|███████████████████████| 1/1 [02:28<00:00, 148.74s/it]\n"
     ]
    },
    {
     "name": "stdout",
     "output_type": "stream",
     "text": [
      "Estimation for 0.02 and 0.16 done\n",
      "It took: 148.88207745552063 seconds.\n",
      "[0.7393255022840113, 0.04216294555600065]\n"
     ]
    },
    {
     "name": "stderr",
     "output_type": "stream",
     "text": [
      "Initial filtering of formulas: 100%|██████████████| 2/2 [00:00<00:00, 63.67it/s]\n",
      "Computing chunks: 100%|████████████████████████| 2/2 [00:00<00:00, 87381.33it/s]\n",
      "Splitting the experimental spectrum into chunks: 131072it [00:00, 3485356.99it/s]\n",
      "Deconvolving chunks: 100%|███████████████████████| 1/1 [02:33<00:00, 153.76s/it]\n"
     ]
    },
    {
     "name": "stdout",
     "output_type": "stream",
     "text": [
      "Estimation for 0.02 and 0.17 done\n",
      "It took: 153.90389728546143 seconds.\n",
      "[0.7381390489850114, 0.04241762395300065]\n"
     ]
    },
    {
     "name": "stderr",
     "output_type": "stream",
     "text": [
      "Initial filtering of formulas: 100%|██████████████| 2/2 [00:00<00:00, 64.68it/s]\n",
      "Computing chunks: 100%|████████████████████████| 2/2 [00:00<00:00, 63550.06it/s]\n",
      "Splitting the experimental spectrum into chunks: 131072it [00:00, 3591297.45it/s]\n",
      "Deconvolving chunks: 100%|██████████████████████| 1/1 [21:22<00:00, 1282.15s/it]\n"
     ]
    },
    {
     "name": "stdout",
     "output_type": "stream",
     "text": [
      "Estimation for 0.02 and 0.18000000000000002 done\n",
      "It took: 1282.2873787879944 seconds.\n",
      "[0.7367830951240113, 0.04267027087900065]\n"
     ]
    },
    {
     "name": "stderr",
     "output_type": "stream",
     "text": [
      "Initial filtering of formulas: 100%|██████████████| 2/2 [00:00<00:00, 66.01it/s]\n",
      "Computing chunks: 100%|████████████████████████| 2/2 [00:00<00:00, 53773.13it/s]\n",
      "Splitting the experimental spectrum into chunks: 131072it [00:00, 3588999.82it/s]\n",
      "Deconvolving chunks: 100%|███████████████████████| 1/1 [02:15<00:00, 135.11s/it]\n"
     ]
    },
    {
     "name": "stdout",
     "output_type": "stream",
     "text": [
      "Estimation for 0.02 and 0.19 done\n",
      "It took: 135.2659251689911 seconds.\n",
      "[0.7351218801760112, 0.042959332462000656]\n"
     ]
    },
    {
     "name": "stderr",
     "output_type": "stream",
     "text": [
      "Initial filtering of formulas: 100%|██████████████| 2/2 [00:00<00:00, 64.15it/s]\n",
      "Computing chunks: 100%|████████████████████████| 2/2 [00:00<00:00, 92182.51it/s]\n",
      "Splitting the experimental spectrum into chunks: 131072it [00:00, 3602286.92it/s]\n",
      "Deconvolving chunks: 100%|███████████████████████| 1/1 [02:11<00:00, 131.21s/it]\n"
     ]
    },
    {
     "name": "stdout",
     "output_type": "stream",
     "text": [
      "Estimation for 0.02 and 0.2 done\n",
      "It took: 131.34841680526733 seconds.\n",
      "[0.7332020272840112, 0.04332312296000067]\n"
     ]
    },
    {
     "name": "stderr",
     "output_type": "stream",
     "text": [
      "Initial filtering of formulas: 100%|██████████████| 2/2 [00:00<00:00, 64.29it/s]\n",
      "Computing chunks: 100%|████████████████████████| 2/2 [00:00<00:00, 98689.51it/s]\n",
      "Splitting the experimental spectrum into chunks: 131072it [00:00, 3528848.72it/s]\n",
      "Deconvolving chunks: 100%|███████████████████████| 1/1 [02:32<00:00, 152.72s/it]\n"
     ]
    },
    {
     "name": "stdout",
     "output_type": "stream",
     "text": [
      "Estimation for 0.02 and 0.21000000000000002 done\n",
      "It took: 152.85317492485046 seconds.\n",
      "[0.7308633221880112, 0.04369127381300067]\n"
     ]
    },
    {
     "name": "stderr",
     "output_type": "stream",
     "text": [
      "Initial filtering of formulas: 100%|██████████████| 2/2 [00:00<00:00, 62.83it/s]\n",
      "Computing chunks: 100%|████████████████████████| 2/2 [00:00<00:00, 94254.02it/s]\n",
      "Splitting the experimental spectrum into chunks: 131072it [00:00, 3485843.18it/s]\n",
      "Deconvolving chunks: 100%|███████████████████████| 1/1 [02:16<00:00, 136.32s/it]\n"
     ]
    },
    {
     "name": "stdout",
     "output_type": "stream",
     "text": [
      "Estimation for 0.02 and 0.22 done\n",
      "It took: 136.46437525749207 seconds.\n",
      "[0.7284001303110113, 0.043994119147000674]\n"
     ]
    },
    {
     "name": "stderr",
     "output_type": "stream",
     "text": [
      "Initial filtering of formulas: 100%|██████████████| 2/2 [00:00<00:00, 62.73it/s]\n",
      "Computing chunks: 100%|████████████████████████| 2/2 [00:00<00:00, 83055.52it/s]\n",
      "Splitting the experimental spectrum into chunks: 131072it [00:00, 3517896.86it/s]\n",
      "Deconvolving chunks: 100%|███████████████████████| 1/1 [02:16<00:00, 136.87s/it]\n"
     ]
    },
    {
     "name": "stdout",
     "output_type": "stream",
     "text": [
      "Estimation for 0.02 and 0.23 done\n",
      "It took: 137.01458859443665 seconds.\n",
      "[0.7264743124700112, 0.04420178877800068]\n"
     ]
    },
    {
     "name": "stderr",
     "output_type": "stream",
     "text": [
      "Initial filtering of formulas: 100%|██████████████| 2/2 [00:00<00:00, 63.48it/s]\n",
      "Computing chunks: 100%|████████████████████████| 2/2 [00:00<00:00, 90200.09it/s]\n",
      "Splitting the experimental spectrum into chunks: 131072it [00:00, 3501941.66it/s]\n",
      "Deconvolving chunks: 100%|███████████████████████| 1/1 [02:17<00:00, 137.51s/it]\n"
     ]
    },
    {
     "name": "stdout",
     "output_type": "stream",
     "text": [
      "Estimation for 0.02 and 0.24000000000000002 done\n",
      "It took: 137.65211963653564 seconds.\n",
      "[0.7241492581910111, 0.04433051185800068]\n"
     ]
    },
    {
     "name": "stderr",
     "output_type": "stream",
     "text": [
      "Initial filtering of formulas: 100%|██████████████| 2/2 [00:00<00:00, 63.99it/s]\n",
      "Computing chunks: 100%|████████████████████████| 2/2 [00:00<00:00, 93206.76it/s]\n",
      "Splitting the experimental spectrum into chunks: 131072it [00:00, 3544936.32it/s]\n",
      "Deconvolving chunks: 100%|███████████████████████| 1/1 [02:14<00:00, 134.54s/it]\n"
     ]
    },
    {
     "name": "stdout",
     "output_type": "stream",
     "text": [
      "Estimation for 0.02 and 0.25 done\n",
      "It took: 134.68055057525635 seconds.\n",
      "[0.7215114021550111, 0.04445218435000068]\n"
     ]
    },
    {
     "name": "stderr",
     "output_type": "stream",
     "text": [
      "Initial filtering of formulas: 100%|██████████████| 2/2 [00:00<00:00, 63.20it/s]\n",
      "Computing chunks: 100%|████████████████████████| 2/2 [00:00<00:00, 97541.95it/s]\n",
      "Splitting the experimental spectrum into chunks: 131072it [00:00, 3521502.32it/s]\n",
      "Deconvolving chunks: 100%|███████████████████████| 1/1 [02:11<00:00, 131.20s/it]\n"
     ]
    },
    {
     "name": "stdout",
     "output_type": "stream",
     "text": [
      "Estimation for 0.02 and 0.26 done\n",
      "It took: 131.34950065612793 seconds.\n",
      "[0.721154628036011, 0.04453932101200068]\n"
     ]
    },
    {
     "name": "stderr",
     "output_type": "stream",
     "text": [
      "Initial filtering of formulas: 100%|██████████████| 2/2 [00:00<00:00, 63.48it/s]\n",
      "Computing chunks: 100%|████████████████████████| 2/2 [00:00<00:00, 97541.95it/s]\n",
      "Splitting the experimental spectrum into chunks: 131072it [00:00, 3520284.65it/s]\n",
      "Deconvolving chunks: 100%|██████████████████████| 1/1 [52:40<00:00, 3160.91s/it]\n"
     ]
    },
    {
     "name": "stdout",
     "output_type": "stream",
     "text": [
      "Estimation for 0.02 and 0.27 done\n",
      "It took: 3161.048358440399 seconds.\n",
      "[0.720259367987011, 0.04468300964500069]\n"
     ]
    },
    {
     "name": "stderr",
     "output_type": "stream",
     "text": [
      "Initial filtering of formulas: 100%|██████████████| 2/2 [00:00<00:00, 58.91it/s]\n",
      "Computing chunks: 100%|████████████████████████| 2/2 [00:00<00:00, 52103.16it/s]\n",
      "Splitting the experimental spectrum into chunks: 131072it [00:00, 3180077.01it/s]\n",
      "Deconvolving chunks: 100%|███████████████████████| 1/1 [02:33<00:00, 153.39s/it]\n"
     ]
    },
    {
     "name": "stdout",
     "output_type": "stream",
     "text": [
      "Estimation for 0.02 and 0.28 done\n",
      "It took: 153.54299116134644 seconds.\n",
      "[0.719235941110011, 0.044839823150000686]\n"
     ]
    },
    {
     "name": "stderr",
     "output_type": "stream",
     "text": [
      "Initial filtering of formulas: 100%|██████████████| 2/2 [00:00<00:00, 51.67it/s]\n",
      "Computing chunks: 100%|████████████████████████| 2/2 [00:00<00:00, 29330.80it/s]\n",
      "Splitting the experimental spectrum into chunks: 131072it [00:00, 3277271.94it/s]\n",
      "Deconvolving chunks: 100%|███████████████████████| 1/1 [02:25<00:00, 145.71s/it]\n"
     ]
    },
    {
     "name": "stdout",
     "output_type": "stream",
     "text": [
      "Estimation for 0.02 and 0.29000000000000004 done\n",
      "It took: 145.87711429595947 seconds.\n",
      "[0.718194434068011, 0.044997026169000684]\n"
     ]
    },
    {
     "name": "stderr",
     "output_type": "stream",
     "text": [
      "Initial filtering of formulas: 100%|██████████████| 2/2 [00:00<00:00, 61.26it/s]\n",
      "Computing chunks: 100%|████████████████████████| 2/2 [00:00<00:00, 63072.24it/s]\n",
      "Splitting the experimental spectrum into chunks: 131072it [00:00, 3387949.65it/s]\n",
      "Deconvolving chunks: 100%|███████████████████████| 1/1 [02:08<00:00, 128.29s/it]\n"
     ]
    },
    {
     "name": "stdout",
     "output_type": "stream",
     "text": [
      "Estimation for 0.03 and 0.01 done\n",
      "It took: 128.44106101989746 seconds.\n",
      "[0.8759602211430134, 0.08335030329500127]\n"
     ]
    },
    {
     "name": "stderr",
     "output_type": "stream",
     "text": [
      "Initial filtering of formulas: 100%|██████████████| 2/2 [00:00<00:00, 60.79it/s]\n",
      "Computing chunks: 100%|████████████████████████| 2/2 [00:00<00:00, 76260.07it/s]\n",
      "Splitting the experimental spectrum into chunks: 131072it [00:00, 3430613.50it/s]\n",
      "Deconvolving chunks: 100%|███████████████████████| 1/1 [02:01<00:00, 121.11s/it]\n"
     ]
    },
    {
     "name": "stdout",
     "output_type": "stream",
     "text": [
      "Estimation for 0.03 and 0.02 done\n",
      "It took: 121.28526091575623 seconds.\n",
      "[0.8252598873750127, 0.10444547782500159]\n"
     ]
    },
    {
     "name": "stderr",
     "output_type": "stream",
     "text": [
      "Initial filtering of formulas: 100%|██████████████| 2/2 [00:00<00:00, 56.21it/s]\n",
      "Computing chunks: 100%|████████████████████████| 2/2 [00:00<00:00, 52103.16it/s]\n",
      "Splitting the experimental spectrum into chunks: 131072it [00:00, 2930202.56it/s]\n",
      "Deconvolving chunks: 100%|███████████████████████| 1/1 [02:07<00:00, 127.99s/it]\n"
     ]
    },
    {
     "name": "stdout",
     "output_type": "stream",
     "text": [
      "Estimation for 0.03 and 0.03 done\n",
      "It took: 128.17963361740112 seconds.\n",
      "[0.8158312929100126, 0.10562998654400163]\n"
     ]
    },
    {
     "name": "stderr",
     "output_type": "stream",
     "text": [
      "Initial filtering of formulas: 100%|██████████████| 2/2 [00:00<00:00, 56.32it/s]\n",
      "Computing chunks: 100%|████████████████████████| 2/2 [00:00<00:00, 74898.29it/s]\n",
      "Splitting the experimental spectrum into chunks: 131072it [00:00, 3418029.18it/s]\n",
      "Deconvolving chunks: 100%|███████████████████████| 1/1 [02:48<00:00, 168.61s/it]\n"
     ]
    },
    {
     "name": "stdout",
     "output_type": "stream",
     "text": [
      "Estimation for 0.03 and 0.04 done\n",
      "It took: 168.760657787323 seconds.\n",
      "[0.8135510316650124, 0.10346676768800159]\n"
     ]
    },
    {
     "name": "stderr",
     "output_type": "stream",
     "text": [
      "Initial filtering of formulas: 100%|██████████████| 2/2 [00:00<00:00, 58.82it/s]\n",
      "Computing chunks: 100%|████████████████████████| 2/2 [00:00<00:00, 90200.09it/s]\n",
      "Splitting the experimental spectrum into chunks: 131072it [00:00, 3461742.18it/s]\n",
      "Deconvolving chunks: 100%|███████████████████████| 1/1 [14:14<00:00, 854.90s/it]\n"
     ]
    },
    {
     "name": "stdout",
     "output_type": "stream",
     "text": [
      "Estimation for 0.03 and 0.05 done\n",
      "It took: 855.0484704971313 seconds.\n",
      "[0.8127024908050124, 0.09037602226800139]\n"
     ]
    },
    {
     "name": "stderr",
     "output_type": "stream",
     "text": [
      "Initial filtering of formulas: 100%|██████████████| 2/2 [00:00<00:00, 61.95it/s]\n",
      "Computing chunks: 100%|████████████████████████| 2/2 [00:00<00:00, 55553.70it/s]\n",
      "Splitting the experimental spectrum into chunks: 131072it [00:00, 3113581.89it/s]\n",
      "Deconvolving chunks: 100%|███████████████████████| 1/1 [02:04<00:00, 124.68s/it]\n"
     ]
    },
    {
     "name": "stdout",
     "output_type": "stream",
     "text": [
      "Estimation for 0.03 and 0.060000000000000005 done\n",
      "It took: 124.82526087760925 seconds.\n",
      "[0.8055119117190124, 0.08985278046200137]\n"
     ]
    },
    {
     "name": "stderr",
     "output_type": "stream",
     "text": [
      "Initial filtering of formulas: 100%|██████████████| 2/2 [00:00<00:00, 64.23it/s]\n",
      "Computing chunks: 100%|████████████████████████| 2/2 [00:00<00:00, 91180.52it/s]\n",
      "Splitting the experimental spectrum into chunks: 131072it [00:00, 3516119.38it/s]\n",
      "Deconvolving chunks: 100%|███████████████████████| 1/1 [02:48<00:00, 168.08s/it]\n"
     ]
    },
    {
     "name": "stdout",
     "output_type": "stream",
     "text": [
      "Estimation for 0.03 and 0.06999999999999999 done\n",
      "It took: 168.23621463775635 seconds.\n",
      "[0.8018259923220123, 0.08733562091400134]\n"
     ]
    },
    {
     "name": "stderr",
     "output_type": "stream",
     "text": [
      "Initial filtering of formulas: 100%|██████████████| 2/2 [00:00<00:00, 65.40it/s]\n",
      "Computing chunks: 100%|████████████████████████| 2/2 [00:00<00:00, 91180.52it/s]\n",
      "Splitting the experimental spectrum into chunks: 131072it [00:00, 3558773.77it/s]\n",
      "Deconvolving chunks: 100%|███████████████████████| 1/1 [02:10<00:00, 130.46s/it]\n"
     ]
    },
    {
     "name": "stdout",
     "output_type": "stream",
     "text": [
      "Estimation for 0.03 and 0.08 done\n",
      "It took: 130.60433268547058 seconds.\n",
      "[0.8032565070550123, 0.08248048968900126]\n"
     ]
    },
    {
     "name": "stderr",
     "output_type": "stream",
     "text": [
      "Initial filtering of formulas: 100%|██████████████| 2/2 [00:00<00:00, 63.19it/s]\n",
      "Computing chunks: 100%|████████████████████████| 2/2 [00:00<00:00, 55924.05it/s]\n",
      "Splitting the experimental spectrum into chunks: 131072it [00:00, 3521096.34it/s]\n",
      "Deconvolving chunks: 100%|███████████████████████| 1/1 [02:31<00:00, 151.98s/it]\n"
     ]
    },
    {
     "name": "stdout",
     "output_type": "stream",
     "text": [
      "Estimation for 0.03 and 0.09 done\n",
      "It took: 152.1212558746338 seconds.\n",
      "[0.8028355287380123, 0.0712574895430011]\n"
     ]
    },
    {
     "name": "stderr",
     "output_type": "stream",
     "text": [
      "Initial filtering of formulas: 100%|██████████████| 2/2 [00:00<00:00, 61.61it/s]\n",
      "Computing chunks: 100%|████████████████████████| 2/2 [00:00<00:00, 68759.08it/s]\n",
      "Splitting the experimental spectrum into chunks: 131072it [00:00, 3463377.81it/s]\n",
      "Deconvolving chunks: 100%|███████████████████████| 1/1 [02:10<00:00, 130.22s/it]\n"
     ]
    },
    {
     "name": "stdout",
     "output_type": "stream",
     "text": [
      "Estimation for 0.03 and 0.09999999999999999 done\n",
      "It took: 130.38698530197144 seconds.\n",
      "[0.8120113439970125, 0.0589404330270009]\n"
     ]
    },
    {
     "name": "stderr",
     "output_type": "stream",
     "text": [
      "Initial filtering of formulas: 100%|██████████████| 2/2 [00:00<00:00, 63.31it/s]\n",
      "Computing chunks: 100%|████████████████████████| 2/2 [00:00<00:00, 59918.63it/s]\n",
      "Splitting the experimental spectrum into chunks: 131072it [00:00, 3454802.51it/s]\n",
      "Deconvolving chunks: 100%|███████████████████████| 1/1 [02:08<00:00, 128.62s/it]\n"
     ]
    },
    {
     "name": "stdout",
     "output_type": "stream",
     "text": [
      "Estimation for 0.03 and 0.11 done\n",
      "It took: 128.7631537914276 seconds.\n",
      "[0.8196983800060126, 0.04930377144100075]\n"
     ]
    },
    {
     "name": "stderr",
     "output_type": "stream",
     "text": [
      "Initial filtering of formulas: 100%|██████████████| 2/2 [00:00<00:00, 66.14it/s]\n",
      "Computing chunks: 100%|████████████████████████| 2/2 [00:00<00:00, 65027.97it/s]\n",
      "Splitting the experimental spectrum into chunks: 131072it [00:00, 3596466.14it/s]\n",
      "Deconvolving chunks: 100%|███████████████████████| 1/1 [02:38<00:00, 158.43s/it]\n"
     ]
    },
    {
     "name": "stdout",
     "output_type": "stream",
     "text": [
      "Estimation for 0.03 and 0.12 done\n",
      "It took: 158.5686662197113 seconds.\n",
      "[0.8235856266660126, 0.044017575400000675]\n"
     ]
    },
    {
     "name": "stderr",
     "output_type": "stream",
     "text": [
      "Initial filtering of formulas: 100%|██████████████| 2/2 [00:00<00:00, 65.81it/s]\n",
      "Computing chunks: 100%|████████████████████████| 2/2 [00:00<00:00, 89240.51it/s]\n",
      "Splitting the experimental spectrum into chunks: 131072it [00:00, 3540074.14it/s]\n",
      "Deconvolving chunks: 100%|███████████████████████| 1/1 [02:42<00:00, 162.77s/it]\n"
     ]
    },
    {
     "name": "stdout",
     "output_type": "stream",
     "text": [
      "Estimation for 0.03 and 0.13 done\n",
      "It took: 162.91077494621277 seconds.\n",
      "[0.8250809935160126, 0.04137055492400063]\n"
     ]
    },
    {
     "name": "stderr",
     "output_type": "stream",
     "text": [
      "Initial filtering of formulas: 100%|██████████████| 2/2 [00:00<00:00, 64.59it/s]\n",
      "Computing chunks: 100%|████████████████████████| 2/2 [00:00<00:00, 90200.09it/s]\n",
      "Splitting the experimental spectrum into chunks: 131072it [00:00, 3541739.02it/s]\n",
      "Deconvolving chunks: 100%|███████████████████████| 1/1 [02:16<00:00, 136.89s/it]\n"
     ]
    },
    {
     "name": "stdout",
     "output_type": "stream",
     "text": [
      "Estimation for 0.03 and 0.14 done\n",
      "It took: 137.02500247955322 seconds.\n",
      "[0.8256686145330127, 0.03982006789400061]\n"
     ]
    },
    {
     "name": "stderr",
     "output_type": "stream",
     "text": [
      "Initial filtering of formulas: 100%|██████████████| 2/2 [00:00<00:00, 62.03it/s]\n",
      "Computing chunks: 100%|████████████████████████| 2/2 [00:00<00:00, 45839.39it/s]\n",
      "Splitting the experimental spectrum into chunks: 131072it [00:00, 3396321.78it/s]\n",
      "Deconvolving chunks: 100%|███████████████████████| 1/1 [02:25<00:00, 145.18s/it]\n"
     ]
    },
    {
     "name": "stdout",
     "output_type": "stream",
     "text": [
      "Estimation for 0.03 and 0.15000000000000002 done\n",
      "It took: 145.31642889976501 seconds.\n",
      "[0.8259012677680126, 0.0387694158670006]\n"
     ]
    },
    {
     "name": "stderr",
     "output_type": "stream",
     "text": [
      "Initial filtering of formulas: 100%|██████████████| 2/2 [00:00<00:00, 63.17it/s]\n",
      "Computing chunks: 100%|████████████████████████| 2/2 [00:00<00:00, 90200.09it/s]\n",
      "Splitting the experimental spectrum into chunks: 131072it [00:00, 3471009.34it/s]\n",
      "Deconvolving chunks: 100%|███████████████████████| 1/1 [02:33<00:00, 153.82s/it]\n"
     ]
    },
    {
     "name": "stdout",
     "output_type": "stream",
     "text": [
      "Estimation for 0.03 and 0.16 done\n",
      "It took: 153.98520016670227 seconds.\n",
      "[0.8258185626000126, 0.03863599324200059]\n"
     ]
    },
    {
     "name": "stderr",
     "output_type": "stream",
     "text": [
      "Initial filtering of formulas: 100%|██████████████| 2/2 [00:00<00:00, 64.25it/s]\n",
      "Computing chunks: 100%|████████████████████████| 2/2 [00:00<00:00, 85598.04it/s]\n",
      "Splitting the experimental spectrum into chunks: 131072it [00:00, 3460042.76it/s]\n",
      "Deconvolving chunks: 100%|███████████████████████| 1/1 [02:42<00:00, 162.74s/it]\n"
     ]
    },
    {
     "name": "stdout",
     "output_type": "stream",
     "text": [
      "Estimation for 0.03 and 0.17 done\n",
      "It took: 162.89860033988953 seconds.\n",
      "[0.8257902347630126, 0.03852104651500059]\n"
     ]
    },
    {
     "name": "stderr",
     "output_type": "stream",
     "text": [
      "Initial filtering of formulas: 100%|██████████████| 2/2 [00:00<00:00, 64.42it/s]\n",
      "Computing chunks: 100%|████████████████████████| 2/2 [00:00<00:00, 89240.51it/s]\n",
      "Splitting the experimental spectrum into chunks: 131072it [00:00, 3541305.54it/s]\n",
      "Deconvolving chunks: 100%|███████████████████████| 1/1 [02:20<00:00, 140.59s/it]\n"
     ]
    },
    {
     "name": "stdout",
     "output_type": "stream",
     "text": [
      "Estimation for 0.03 and 0.18000000000000002 done\n",
      "It took: 140.73006939888 seconds.\n",
      "[0.8257554385620126, 0.03841465131600059]\n"
     ]
    },
    {
     "name": "stderr",
     "output_type": "stream",
     "text": [
      "Initial filtering of formulas: 100%|██████████████| 2/2 [00:00<00:00, 64.17it/s]\n",
      "Computing chunks: 100%|████████████████████████| 2/2 [00:00<00:00, 99864.38it/s]\n",
      "Splitting the experimental spectrum into chunks: 131072it [00:00, 3502187.06it/s]\n",
      "Deconvolving chunks: 100%|███████████████████████| 1/1 [02:33<00:00, 153.78s/it]\n"
     ]
    },
    {
     "name": "stdout",
     "output_type": "stream",
     "text": [
      "Estimation for 0.03 and 0.19 done\n",
      "It took: 153.91938710212708 seconds.\n",
      "[0.8254669066350127, 0.03828584683100059]\n"
     ]
    },
    {
     "name": "stderr",
     "output_type": "stream",
     "text": [
      "Initial filtering of formulas: 100%|██████████████| 2/2 [00:00<00:00, 63.18it/s]\n",
      "Computing chunks: 100%|████████████████████████| 2/2 [00:00<00:00, 84733.41it/s]\n",
      "Splitting the experimental spectrum into chunks: 131072it [00:00, 3507818.34it/s]\n",
      "Deconvolving chunks: 100%|███████████████████████| 1/1 [02:33<00:00, 153.80s/it]\n"
     ]
    },
    {
     "name": "stdout",
     "output_type": "stream",
     "text": [
      "Estimation for 0.03 and 0.2 done\n",
      "It took: 153.94307708740234 seconds.\n",
      "[0.8251783958970127, 0.038252929789000585]\n"
     ]
    },
    {
     "name": "stderr",
     "output_type": "stream",
     "text": [
      "Initial filtering of formulas: 100%|██████████████| 2/2 [00:00<00:00, 64.02it/s]\n",
      "Computing chunks: 100%|████████████████████████| 2/2 [00:00<00:00, 84733.41it/s]\n",
      "Splitting the experimental spectrum into chunks: 131072it [00:00, 3487258.33it/s]\n",
      "Deconvolving chunks: 100%|███████████████████████| 1/1 [03:03<00:00, 183.31s/it]\n"
     ]
    },
    {
     "name": "stdout",
     "output_type": "stream",
     "text": [
      "Estimation for 0.03 and 0.21000000000000002 done\n",
      "It took: 183.45292568206787 seconds.\n",
      "[0.8246470540400127, 0.03829693442100059]\n"
     ]
    },
    {
     "name": "stderr",
     "output_type": "stream",
     "text": [
      "Initial filtering of formulas: 100%|██████████████| 2/2 [00:00<00:00, 63.49it/s]\n",
      "Computing chunks: 100%|████████████████████████| 2/2 [00:00<00:00, 96420.78it/s]\n",
      "Splitting the experimental spectrum into chunks: 131072it [00:00, 3463159.64it/s]\n",
      "Deconvolving chunks: 100%|███████████████████████| 1/1 [03:03<00:00, 183.16s/it]\n"
     ]
    },
    {
     "name": "stdout",
     "output_type": "stream",
     "text": [
      "Estimation for 0.03 and 0.22 done\n",
      "It took: 183.30384397506714 seconds.\n",
      "[0.8244342885440127, 0.03834469251400059]\n"
     ]
    },
    {
     "name": "stderr",
     "output_type": "stream",
     "text": [
      "Initial filtering of formulas: 100%|██████████████| 2/2 [00:00<00:00, 63.44it/s]\n",
      "Computing chunks: 100%|████████████████████████| 2/2 [00:00<00:00, 93206.76it/s]\n",
      "Splitting the experimental spectrum into chunks: 131072it [00:00, 3476738.60it/s]\n",
      "Deconvolving chunks: 100%|███████████████████████| 1/1 [02:22<00:00, 142.53s/it]\n"
     ]
    },
    {
     "name": "stdout",
     "output_type": "stream",
     "text": [
      "Estimation for 0.03 and 0.23 done\n",
      "It took: 142.67201495170593 seconds.\n",
      "[0.8239705425150127, 0.03839662531600059]\n"
     ]
    },
    {
     "name": "stderr",
     "output_type": "stream",
     "text": [
      "Initial filtering of formulas: 100%|██████████████| 2/2 [00:00<00:00, 65.03it/s]\n",
      "Computing chunks: 100%|████████████████████████| 2/2 [00:00<00:00, 92182.51it/s]\n",
      "Splitting the experimental spectrum into chunks: 131072it [00:00, 3605145.28it/s]\n",
      "Deconvolving chunks: 100%|███████████████████████| 1/1 [02:53<00:00, 173.40s/it]\n"
     ]
    },
    {
     "name": "stdout",
     "output_type": "stream",
     "text": [
      "Estimation for 0.03 and 0.24000000000000002 done\n",
      "It took: 173.53275871276855 seconds.\n",
      "[0.8236841819770127, 0.03849448551200059]\n"
     ]
    },
    {
     "name": "stderr",
     "output_type": "stream",
     "text": [
      "Initial filtering of formulas: 100%|██████████████| 2/2 [00:00<00:00, 64.42it/s]\n",
      "Computing chunks: 100%|████████████████████████| 2/2 [00:00<00:00, 91180.52it/s]\n",
      "Splitting the experimental spectrum into chunks: 131072it [00:00, 3522901.43it/s]\n",
      "Deconvolving chunks: 100%|███████████████████████| 1/1 [02:27<00:00, 147.88s/it]\n"
     ]
    },
    {
     "name": "stdout",
     "output_type": "stream",
     "text": [
      "Estimation for 0.03 and 0.25 done\n",
      "It took: 148.02070593833923 seconds.\n",
      "[0.8233634069610126, 0.03862495792600059]\n"
     ]
    },
    {
     "name": "stderr",
     "output_type": "stream",
     "text": [
      "Initial filtering of formulas: 100%|██████████████| 2/2 [00:00<00:00, 64.68it/s]\n",
      "Computing chunks: 100%|████████████████████████| 2/2 [00:00<00:00, 95325.09it/s]\n",
      "Splitting the experimental spectrum into chunks: 131072it [00:00, 3481362.10it/s]\n",
      "Deconvolving chunks: 100%|███████████████████████| 1/1 [02:26<00:00, 146.69s/it]\n"
     ]
    },
    {
     "name": "stdout",
     "output_type": "stream",
     "text": [
      "Estimation for 0.03 and 0.26 done\n",
      "It took: 146.85208082199097 seconds.\n",
      "[0.8229997947590126, 0.0387253627150006]\n"
     ]
    },
    {
     "name": "stderr",
     "output_type": "stream",
     "text": [
      "Initial filtering of formulas: 100%|██████████████| 2/2 [00:00<00:00, 57.14it/s]\n",
      "Computing chunks: 100%|████████████████████████| 2/2 [00:00<00:00, 38836.15it/s]\n",
      "Splitting the experimental spectrum into chunks: 131072it [00:00, 3301757.40it/s]\n",
      "Deconvolving chunks: 100%|███████████████████████| 1/1 [02:10<00:00, 130.96s/it]\n"
     ]
    },
    {
     "name": "stdout",
     "output_type": "stream",
     "text": [
      "Estimation for 0.03 and 0.27 done\n",
      "It took: 131.10388374328613 seconds.\n",
      "[0.8228761976490127, 0.0387365124990006]\n"
     ]
    },
    {
     "name": "stderr",
     "output_type": "stream",
     "text": [
      "Initial filtering of formulas: 100%|██████████████| 2/2 [00:00<00:00, 63.90it/s]\n",
      "Computing chunks: 100%|████████████████████████| 2/2 [00:00<00:00, 93206.76it/s]\n",
      "Splitting the experimental spectrum into chunks: 131072it [00:00, 3502901.14it/s]\n",
      "Deconvolving chunks: 100%|███████████████████████| 1/1 [03:09<00:00, 189.16s/it]\n"
     ]
    },
    {
     "name": "stdout",
     "output_type": "stream",
     "text": [
      "Estimation for 0.03 and 0.28 done\n",
      "It took: 189.30224227905273 seconds.\n",
      "[0.8225888394390126, 0.038811859787000594]\n"
     ]
    },
    {
     "name": "stderr",
     "output_type": "stream",
     "text": [
      "Initial filtering of formulas: 100%|██████████████| 2/2 [00:00<00:00, 64.19it/s]\n",
      "Computing chunks: 100%|████████████████████████| 2/2 [00:00<00:00, 92182.51it/s]\n",
      "Splitting the experimental spectrum into chunks: 131072it [00:00, 3499734.63it/s]\n",
      "Deconvolving chunks: 100%|███████████████████████| 1/1 [02:03<00:00, 123.84s/it]\n"
     ]
    },
    {
     "name": "stdout",
     "output_type": "stream",
     "text": [
      "Estimation for 0.03 and 0.29000000000000004 done\n",
      "It took: 123.97361588478088 seconds.\n",
      "[0.8224651535040126, 0.0387927936680006]\n"
     ]
    },
    {
     "name": "stderr",
     "output_type": "stream",
     "text": [
      "Initial filtering of formulas: 100%|██████████████| 2/2 [00:00<00:00, 64.15it/s]\n",
      "Computing chunks: 100%|████████████████████████| 2/2 [00:00<00:00, 95325.09it/s]\n",
      "Splitting the experimental spectrum into chunks: 131072it [00:00, 3485445.38it/s]\n",
      "Deconvolving chunks: 100%|███████████████████████| 1/1 [02:29<00:00, 149.84s/it]\n"
     ]
    },
    {
     "name": "stdout",
     "output_type": "stream",
     "text": [
      "Estimation for 0.04 and 0.01 done\n",
      "It took: 149.98548316955566 seconds.\n",
      "[0.8840633927580136, 0.08433932777700129]\n"
     ]
    },
    {
     "name": "stderr",
     "output_type": "stream",
     "text": [
      "Initial filtering of formulas: 100%|██████████████| 2/2 [00:00<00:00, 66.55it/s]\n",
      "Computing chunks: 100%|███████████████████████| 2/2 [00:00<00:00, 101067.57it/s]\n",
      "Splitting the experimental spectrum into chunks: 131072it [00:00, 3583315.28it/s]\n",
      "Deconvolving chunks: 100%|███████████████████████| 1/1 [01:59<00:00, 119.00s/it]\n"
     ]
    },
    {
     "name": "stdout",
     "output_type": "stream",
     "text": [
      "Estimation for 0.04 and 0.02 done\n",
      "It took: 119.16436314582825 seconds.\n",
      "[0.8352683577410127, 0.10308576820400159]\n"
     ]
    },
    {
     "name": "stderr",
     "output_type": "stream",
     "text": [
      "Initial filtering of formulas: 100%|██████████████| 2/2 [00:00<00:00, 63.45it/s]\n",
      "Computing chunks: 100%|████████████████████████| 2/2 [00:00<00:00, 90200.09it/s]\n",
      "Splitting the experimental spectrum into chunks: 131072it [00:00, 3464250.78it/s]\n",
      "Deconvolving chunks: 100%|███████████████████████| 1/1 [02:09<00:00, 129.05s/it]\n"
     ]
    },
    {
     "name": "stdout",
     "output_type": "stream",
     "text": [
      "Estimation for 0.04 and 0.03 done\n",
      "It took: 129.18643450737 seconds.\n",
      "[0.8268168084620127, 0.10551887140200161]\n"
     ]
    },
    {
     "name": "stderr",
     "output_type": "stream",
     "text": [
      "Initial filtering of formulas: 100%|██████████████| 2/2 [00:00<00:00, 62.65it/s]\n",
      "Computing chunks: 100%|████████████████████████| 2/2 [00:00<00:00, 95325.09it/s]\n",
      "Splitting the experimental spectrum into chunks: 131072it [00:00, 3490579.59it/s]\n",
      "Deconvolving chunks: 100%|███████████████████████| 1/1 [02:09<00:00, 129.31s/it]\n"
     ]
    },
    {
     "name": "stdout",
     "output_type": "stream",
     "text": [
      "Estimation for 0.04 and 0.04 done\n",
      "It took: 129.46559238433838 seconds.\n",
      "[0.8235267875210126, 0.10546327646200161]\n"
     ]
    },
    {
     "name": "stderr",
     "output_type": "stream",
     "text": [
      "Initial filtering of formulas: 100%|██████████████| 2/2 [00:00<00:00, 59.96it/s]\n",
      "Computing chunks: 100%|████████████████████████| 2/2 [00:00<00:00, 95325.09it/s]\n",
      "Splitting the experimental spectrum into chunks: 131072it [00:00, 3450985.62it/s]\n",
      "Deconvolving chunks: 100%|███████████████████████| 1/1 [02:30<00:00, 150.76s/it]\n"
     ]
    },
    {
     "name": "stdout",
     "output_type": "stream",
     "text": [
      "Estimation for 0.04 and 0.05 done\n",
      "It took: 150.90684580802917 seconds.\n",
      "[0.8184925255990125, 0.10526323392500161]\n"
     ]
    },
    {
     "name": "stderr",
     "output_type": "stream",
     "text": [
      "Initial filtering of formulas: 100%|██████████████| 2/2 [00:00<00:00, 64.78it/s]\n",
      "Computing chunks: 100%|████████████████████████| 2/2 [00:00<00:00, 97541.95it/s]\n",
      "Splitting the experimental spectrum into chunks: 131072it [00:00, 3422412.53it/s]\n",
      "Deconvolving chunks: 100%|███████████████████████| 1/1 [02:36<00:00, 156.86s/it]\n"
     ]
    },
    {
     "name": "stdout",
     "output_type": "stream",
     "text": [
      "Estimation for 0.04 and 0.060000000000000005 done\n",
      "It took: 156.9994785785675 seconds.\n",
      "[0.8168931059940125, 0.1042092509210016]\n"
     ]
    },
    {
     "name": "stderr",
     "output_type": "stream",
     "text": [
      "Initial filtering of formulas: 100%|██████████████| 2/2 [00:00<00:00, 63.76it/s]\n",
      "Computing chunks: 100%|████████████████████████| 2/2 [00:00<00:00, 88301.14it/s]\n",
      "Splitting the experimental spectrum into chunks: 131072it [00:00, 3489161.75it/s]\n",
      "Deconvolving chunks: 100%|███████████████████████| 1/1 [02:22<00:00, 142.32s/it]\n"
     ]
    },
    {
     "name": "stdout",
     "output_type": "stream",
     "text": [
      "Estimation for 0.04 and 0.06999999999999999 done\n",
      "It took: 142.45582461357117 seconds.\n",
      "[0.8164427534750125, 0.09970673987800152]\n"
     ]
    },
    {
     "name": "stderr",
     "output_type": "stream",
     "text": [
      "Initial filtering of formulas: 100%|██████████████| 2/2 [00:00<00:00, 66.47it/s]\n",
      "Computing chunks: 100%|████████████████████████| 2/2 [00:00<00:00, 89240.51it/s]\n",
      "Splitting the experimental spectrum into chunks: 131072it [00:00, 3583946.01it/s]\n",
      "Deconvolving chunks: 100%|███████████████████████| 1/1 [02:10<00:00, 130.40s/it]\n"
     ]
    },
    {
     "name": "stdout",
     "output_type": "stream",
     "text": [
      "Estimation for 0.04 and 0.08 done\n",
      "It took: 130.53578519821167 seconds.\n",
      "[0.8185142057900126, 0.0907990646860014]\n"
     ]
    },
    {
     "name": "stderr",
     "output_type": "stream",
     "text": [
      "Initial filtering of formulas: 100%|██████████████| 2/2 [00:00<00:00, 64.93it/s]\n",
      "Computing chunks: 100%|███████████████████████| 2/2 [00:00<00:00, 103563.06it/s]\n",
      "Splitting the experimental spectrum into chunks: 131072it [00:00, 3531795.87it/s]\n",
      "Deconvolving chunks: 100%|███████████████████████| 1/1 [02:35<00:00, 155.79s/it]\n"
     ]
    },
    {
     "name": "stdout",
     "output_type": "stream",
     "text": [
      "Estimation for 0.04 and 0.09 done\n",
      "It took: 155.9469084739685 seconds.\n",
      "[0.8161321601600126, 0.09002318586100137]\n"
     ]
    },
    {
     "name": "stderr",
     "output_type": "stream",
     "text": [
      "Initial filtering of formulas: 100%|██████████████| 2/2 [00:00<00:00, 64.72it/s]\n",
      "Computing chunks: 100%|████████████████████████| 2/2 [00:00<00:00, 92182.51it/s]\n",
      "Splitting the experimental spectrum into chunks: 131072it [00:00, 3552357.96it/s]\n",
      "Deconvolving chunks: 100%|███████████████████████| 1/1 [02:38<00:00, 158.99s/it]\n"
     ]
    },
    {
     "name": "stdout",
     "output_type": "stream",
     "text": [
      "Estimation for 0.04 and 0.09999999999999999 done\n",
      "It took: 159.1475067138672 seconds.\n",
      "[0.8164710025280125, 0.08375849583700128]\n"
     ]
    },
    {
     "name": "stderr",
     "output_type": "stream",
     "text": [
      "Initial filtering of formulas: 100%|██████████████| 2/2 [00:00<00:00, 63.94it/s]\n",
      "Computing chunks: 100%|████████████████████████| 2/2 [00:00<00:00, 95325.09it/s]\n",
      "Splitting the experimental spectrum into chunks: 131072it [00:00, 3528780.77it/s]\n",
      "Deconvolving chunks: 100%|███████████████████████| 1/1 [02:11<00:00, 131.67s/it]\n"
     ]
    },
    {
     "name": "stdout",
     "output_type": "stream",
     "text": [
      "Estimation for 0.04 and 0.11 done\n",
      "It took: 131.80969715118408 seconds.\n",
      "[0.8211696661160125, 0.06600283522700101]\n"
     ]
    },
    {
     "name": "stderr",
     "output_type": "stream",
     "text": [
      "Initial filtering of formulas: 100%|██████████████| 2/2 [00:00<00:00, 62.52it/s]\n",
      "Computing chunks: 100%|████████████████████████| 2/2 [00:00<00:00, 79891.50it/s]\n",
      "Splitting the experimental spectrum into chunks: 131072it [00:00, 3453456.96it/s]\n",
      "Deconvolving chunks: 100%|███████████████████████| 1/1 [02:41<00:00, 161.26s/it]\n"
     ]
    },
    {
     "name": "stdout",
     "output_type": "stream",
     "text": [
      "Estimation for 0.04 and 0.12 done\n",
      "It took: 161.40415239334106 seconds.\n",
      "[0.8248724539140126, 0.056850317476000875]\n"
     ]
    },
    {
     "name": "stderr",
     "output_type": "stream",
     "text": [
      "Initial filtering of formulas: 100%|██████████████| 2/2 [00:00<00:00, 62.81it/s]\n",
      "Computing chunks: 100%|████████████████████████| 2/2 [00:00<00:00, 95325.09it/s]\n",
      "Splitting the experimental spectrum into chunks: 131072it [00:00, 3444326.33it/s]\n",
      "Deconvolving chunks: 100%|███████████████████████| 1/1 [02:08<00:00, 128.99s/it]\n"
     ]
    },
    {
     "name": "stdout",
     "output_type": "stream",
     "text": [
      "Estimation for 0.04 and 0.13 done\n",
      "It took: 129.1359875202179 seconds.\n",
      "[0.8295085009400126, 0.049777284216000764]\n"
     ]
    },
    {
     "name": "stderr",
     "output_type": "stream",
     "text": [
      "Initial filtering of formulas: 100%|██████████████| 2/2 [00:00<00:00, 62.09it/s]\n",
      "Computing chunks: 100%|████████████████████████| 2/2 [00:00<00:00, 83886.08it/s]\n",
      "Splitting the experimental spectrum into chunks: 131072it [00:00, 3445837.55it/s]\n",
      "Deconvolving chunks: 100%|███████████████████████| 1/1 [02:09<00:00, 129.66s/it]\n"
     ]
    },
    {
     "name": "stdout",
     "output_type": "stream",
     "text": [
      "Estimation for 0.04 and 0.14 done\n",
      "It took: 129.80125856399536 seconds.\n",
      "[0.8313768733720127, 0.04600131484700071]\n"
     ]
    },
    {
     "name": "stderr",
     "output_type": "stream",
     "text": [
      "Initial filtering of formulas: 100%|██████████████| 2/2 [00:00<00:00, 62.90it/s]\n",
      "Computing chunks: 100%|████████████████████████| 2/2 [00:00<00:00, 92182.51it/s]\n",
      "Splitting the experimental spectrum into chunks: 131072it [00:00, 3496729.51it/s]\n",
      "Deconvolving chunks: 100%|███████████████████████| 1/1 [02:19<00:00, 139.05s/it]\n"
     ]
    },
    {
     "name": "stdout",
     "output_type": "stream",
     "text": [
      "Estimation for 0.04 and 0.15000000000000002 done\n",
      "It took: 139.19715356826782 seconds.\n",
      "[0.8328693216800128, 0.04207081524100065]\n"
     ]
    },
    {
     "name": "stderr",
     "output_type": "stream",
     "text": [
      "Initial filtering of formulas: 100%|██████████████| 2/2 [00:00<00:00, 64.12it/s]\n",
      "Computing chunks: 100%|████████████████████████| 2/2 [00:00<00:00, 72944.42it/s]\n",
      "Splitting the experimental spectrum into chunks: 131072it [00:00, 3633788.18it/s]\n",
      "Deconvolving chunks: 100%|███████████████████████| 1/1 [02:25<00:00, 145.72s/it]\n"
     ]
    },
    {
     "name": "stdout",
     "output_type": "stream",
     "text": [
      "Estimation for 0.04 and 0.16 done\n",
      "It took: 145.88350129127502 seconds.\n",
      "[0.8333953481420128, 0.040160909551000615]\n"
     ]
    },
    {
     "name": "stderr",
     "output_type": "stream",
     "text": [
      "Initial filtering of formulas: 100%|██████████████| 2/2 [00:00<00:00, 64.47it/s]\n",
      "Computing chunks: 100%|████████████████████████| 2/2 [00:00<00:00, 95325.09it/s]\n",
      "Splitting the experimental spectrum into chunks: 131072it [00:00, 3532930.70it/s]\n",
      "Deconvolving chunks: 100%|███████████████████████| 1/1 [02:13<00:00, 133.59s/it]\n"
     ]
    },
    {
     "name": "stdout",
     "output_type": "stream",
     "text": [
      "Estimation for 0.04 and 0.17 done\n",
      "It took: 133.72989320755005 seconds.\n",
      "[0.8335727048930127, 0.0395652873730006]\n"
     ]
    },
    {
     "name": "stderr",
     "output_type": "stream",
     "text": [
      "Initial filtering of formulas: 100%|██████████████| 2/2 [00:00<00:00, 62.45it/s]\n",
      "Computing chunks: 100%|████████████████████████| 2/2 [00:00<00:00, 71697.50it/s]\n",
      "Splitting the experimental spectrum into chunks: 131072it [00:00, 3488586.08it/s]\n",
      "Deconvolving chunks: 100%|███████████████████████| 1/1 [02:30<00:00, 150.40s/it]\n"
     ]
    },
    {
     "name": "stdout",
     "output_type": "stream",
     "text": [
      "Estimation for 0.04 and 0.18000000000000002 done\n",
      "It took: 150.54321670532227 seconds.\n",
      "[0.8335248301280128, 0.0395283449950006]\n"
     ]
    },
    {
     "name": "stderr",
     "output_type": "stream",
     "text": [
      "Initial filtering of formulas: 100%|██████████████| 2/2 [00:00<00:00, 62.05it/s]\n",
      "Computing chunks: 100%|████████████████████████| 2/2 [00:00<00:00, 92182.51it/s]\n",
      "Splitting the experimental spectrum into chunks: 131072it [00:00, 3517851.84it/s]\n",
      "Deconvolving chunks: 100%|███████████████████████| 1/1 [02:32<00:00, 152.56s/it]\n"
     ]
    },
    {
     "name": "stdout",
     "output_type": "stream",
     "text": [
      "Estimation for 0.04 and 0.19 done\n",
      "It took: 152.70106482505798 seconds.\n",
      "[0.8333940486040128, 0.039458324651000604]\n"
     ]
    },
    {
     "name": "stderr",
     "output_type": "stream",
     "text": [
      "Initial filtering of formulas: 100%|██████████████| 2/2 [00:00<00:00, 63.43it/s]\n",
      "Computing chunks: 100%|████████████████████████| 2/2 [00:00<00:00, 93206.76it/s]\n",
      "Splitting the experimental spectrum into chunks: 131072it [00:00, 3451895.71it/s]\n",
      "Deconvolving chunks: 100%|███████████████████████| 1/1 [02:34<00:00, 154.77s/it]\n"
     ]
    },
    {
     "name": "stdout",
     "output_type": "stream",
     "text": [
      "Estimation for 0.04 and 0.2 done\n",
      "It took: 154.91058659553528 seconds.\n",
      "[0.8333392418820128, 0.0394364558750006]\n"
     ]
    },
    {
     "name": "stderr",
     "output_type": "stream",
     "text": [
      "Initial filtering of formulas: 100%|██████████████| 2/2 [00:00<00:00, 63.57it/s]\n",
      "Computing chunks: 100%|████████████████████████| 2/2 [00:00<00:00, 75573.05it/s]\n",
      "Splitting the experimental spectrum into chunks: 131072it [00:00, 3468687.90it/s]\n",
      "Deconvolving chunks: 100%|███████████████████████| 1/1 [02:32<00:00, 152.91s/it]\n"
     ]
    },
    {
     "name": "stdout",
     "output_type": "stream",
     "text": [
      "Estimation for 0.04 and 0.21000000000000002 done\n",
      "It took: 153.06788396835327 seconds.\n",
      "[0.8332130054910127, 0.0393738460320006]\n"
     ]
    },
    {
     "name": "stderr",
     "output_type": "stream",
     "text": [
      "Initial filtering of formulas: 100%|██████████████| 2/2 [00:00<00:00, 64.82it/s]\n",
      "Computing chunks: 100%|████████████████████████| 2/2 [00:00<00:00, 92182.51it/s]\n",
      "Splitting the experimental spectrum into chunks: 131072it [00:00, 3594326.38it/s]\n",
      "Deconvolving chunks: 100%|███████████████████████| 1/1 [02:30<00:00, 150.64s/it]\n"
     ]
    },
    {
     "name": "stdout",
     "output_type": "stream",
     "text": [
      "Estimation for 0.04 and 0.22 done\n",
      "It took: 150.78401231765747 seconds.\n",
      "[0.8332392501960127, 0.03919689392000061]\n"
     ]
    },
    {
     "name": "stderr",
     "output_type": "stream",
     "text": [
      "Initial filtering of formulas: 100%|██████████████| 2/2 [00:00<00:00, 65.53it/s]\n",
      "Computing chunks: 100%|████████████████████████| 2/2 [00:00<00:00, 86480.49it/s]\n",
      "Splitting the experimental spectrum into chunks: 131072it [00:00, 3524595.38it/s]\n",
      "Deconvolving chunks: 100%|███████████████████████| 1/1 [02:27<00:00, 147.11s/it]\n"
     ]
    },
    {
     "name": "stdout",
     "output_type": "stream",
     "text": [
      "Estimation for 0.04 and 0.23 done\n",
      "It took: 147.24443578720093 seconds.\n",
      "[0.8332814629610128, 0.0391280746360006]\n"
     ]
    },
    {
     "name": "stderr",
     "output_type": "stream",
     "text": [
      "Initial filtering of formulas: 100%|██████████████| 2/2 [00:00<00:00, 64.77it/s]\n",
      "Computing chunks: 100%|████████████████████████| 2/2 [00:00<00:00, 98689.51it/s]\n",
      "Splitting the experimental spectrum into chunks: 131072it [00:00, 3530911.21it/s]\n",
      "Deconvolving chunks: 100%|███████████████████████| 1/1 [02:19<00:00, 139.96s/it]\n"
     ]
    },
    {
     "name": "stdout",
     "output_type": "stream",
     "text": [
      "Estimation for 0.04 and 0.24000000000000002 done\n",
      "It took: 140.1017713546753 seconds.\n",
      "[0.8332929060480128, 0.03909427691500059]\n"
     ]
    },
    {
     "name": "stderr",
     "output_type": "stream",
     "text": [
      "Initial filtering of formulas: 100%|██████████████| 2/2 [00:00<00:00, 65.66it/s]\n",
      "Computing chunks: 100%|████████████████████████| 2/2 [00:00<00:00, 94254.02it/s]\n",
      "Splitting the experimental spectrum into chunks: 131072it [00:00, 3537067.65it/s]\n",
      "Deconvolving chunks: 100%|███████████████████████| 1/1 [02:12<00:00, 132.00s/it]\n"
     ]
    },
    {
     "name": "stdout",
     "output_type": "stream",
     "text": [
      "Estimation for 0.04 and 0.25 done\n",
      "It took: 132.13895988464355 seconds.\n",
      "[0.8331159951390128, 0.0391044218390006]\n"
     ]
    },
    {
     "name": "stderr",
     "output_type": "stream",
     "text": [
      "Initial filtering of formulas: 100%|██████████████| 2/2 [00:00<00:00, 63.43it/s]\n",
      "Computing chunks: 100%|████████████████████████| 2/2 [00:00<00:00, 97541.95it/s]\n",
      "Splitting the experimental spectrum into chunks: 131072it [00:00, 3457931.70it/s]\n",
      "Deconvolving chunks: 100%|███████████████████████| 1/1 [02:35<00:00, 155.21s/it]\n"
     ]
    },
    {
     "name": "stdout",
     "output_type": "stream",
     "text": [
      "Estimation for 0.04 and 0.26 done\n",
      "It took: 155.35088562965393 seconds.\n",
      "[0.8330602380840127, 0.03919090232700061]\n"
     ]
    },
    {
     "name": "stderr",
     "output_type": "stream",
     "text": [
      "Initial filtering of formulas: 100%|██████████████| 2/2 [00:00<00:00, 63.85it/s]\n",
      "Computing chunks: 100%|████████████████████████| 2/2 [00:00<00:00, 88301.14it/s]\n",
      "Splitting the experimental spectrum into chunks: 131072it [00:00, 3487612.30it/s]\n",
      "Deconvolving chunks: 100%|███████████████████████| 1/1 [02:30<00:00, 150.23s/it]\n"
     ]
    },
    {
     "name": "stdout",
     "output_type": "stream",
     "text": [
      "Estimation for 0.04 and 0.27 done\n",
      "It took: 150.36871671676636 seconds.\n",
      "[0.8329547672240127, 0.039283424220000605]\n"
     ]
    },
    {
     "name": "stderr",
     "output_type": "stream",
     "text": [
      "Initial filtering of formulas: 100%|██████████████| 2/2 [00:00<00:00, 64.88it/s]\n",
      "Computing chunks: 100%|████████████████████████| 2/2 [00:00<00:00, 94254.02it/s]\n",
      "Splitting the experimental spectrum into chunks: 131072it [00:00, 3626788.23it/s]\n",
      "Deconvolving chunks: 100%|███████████████████████| 1/1 [02:11<00:00, 131.61s/it]\n"
     ]
    },
    {
     "name": "stdout",
     "output_type": "stream",
     "text": [
      "Estimation for 0.04 and 0.28 done\n",
      "It took: 131.75558304786682 seconds.\n",
      "[0.8325880957160128, 0.039333144207000605]\n"
     ]
    },
    {
     "name": "stderr",
     "output_type": "stream",
     "text": [
      "Initial filtering of formulas: 100%|██████████████| 2/2 [00:00<00:00, 62.53it/s]\n",
      "Computing chunks: 100%|████████████████████████| 2/2 [00:00<00:00, 89240.51it/s]\n",
      "Splitting the experimental spectrum into chunks: 131072it [00:00, 3460434.79it/s]\n",
      "Deconvolving chunks: 100%|███████████████████████| 1/1 [02:33<00:00, 153.09s/it]\n"
     ]
    },
    {
     "name": "stdout",
     "output_type": "stream",
     "text": [
      "Estimation for 0.04 and 0.29000000000000004 done\n",
      "It took: 153.23563766479492 seconds.\n",
      "[0.8325528902660128, 0.039415115877000605]\n"
     ]
    },
    {
     "name": "stderr",
     "output_type": "stream",
     "text": [
      "Initial filtering of formulas: 100%|██████████████| 2/2 [00:00<00:00, 64.36it/s]\n",
      "Computing chunks: 100%|████████████████████████| 2/2 [00:00<00:00, 85598.04it/s]\n",
      "Splitting the experimental spectrum into chunks: 131072it [00:00, 3512726.92it/s]\n",
      "Deconvolving chunks: 100%|███████████████████████| 1/1 [01:54<00:00, 114.95s/it]\n"
     ]
    },
    {
     "name": "stdout",
     "output_type": "stream",
     "text": [
      "Estimation for 0.05 and 0.01 done\n",
      "It took: 115.09057331085205 seconds.\n",
      "[0.8868643834470136, 0.08782616640400134]\n"
     ]
    },
    {
     "name": "stderr",
     "output_type": "stream",
     "text": [
      "Initial filtering of formulas: 100%|██████████████| 2/2 [00:00<00:00, 64.68it/s]\n",
      "Computing chunks: 100%|████████████████████████| 2/2 [00:00<00:00, 91180.52it/s]\n",
      "Splitting the experimental spectrum into chunks: 131072it [00:00, 3564010.93it/s]\n",
      "Deconvolving chunks: 100%|███████████████████████| 1/1 [02:33<00:00, 153.63s/it]\n"
     ]
    },
    {
     "name": "stdout",
     "output_type": "stream",
     "text": [
      "Estimation for 0.05 and 0.02 done\n",
      "It took: 153.76284289360046 seconds.\n",
      "[0.845840682730013, 0.10100678777100155]\n"
     ]
    },
    {
     "name": "stderr",
     "output_type": "stream",
     "text": [
      "Initial filtering of formulas: 100%|██████████████| 2/2 [00:00<00:00, 62.31it/s]\n",
      "Computing chunks: 100%|████████████████████████| 2/2 [00:00<00:00, 89240.51it/s]\n",
      "Splitting the experimental spectrum into chunks: 131072it [00:00, 3457431.52it/s]\n",
      "Deconvolving chunks: 100%|███████████████████████| 1/1 [02:11<00:00, 131.27s/it]\n"
     ]
    },
    {
     "name": "stdout",
     "output_type": "stream",
     "text": [
      "Estimation for 0.05 and 0.03 done\n",
      "It took: 131.43451642990112 seconds.\n",
      "[0.8315562963630128, 0.10554811106100162]\n"
     ]
    },
    {
     "name": "stderr",
     "output_type": "stream",
     "text": [
      "Initial filtering of formulas: 100%|██████████████| 2/2 [00:00<00:00, 64.94it/s]\n",
      "Computing chunks: 100%|████████████████████████| 2/2 [00:00<00:00, 60787.01it/s]\n",
      "Splitting the experimental spectrum into chunks: 131072it [00:00, 3534543.42it/s]\n",
      "Deconvolving chunks: 100%|███████████████████████| 1/1 [02:07<00:00, 127.58s/it]\n"
     ]
    },
    {
     "name": "stdout",
     "output_type": "stream",
     "text": [
      "Estimation for 0.05 and 0.04 done\n",
      "It took: 127.7158715724945 seconds.\n",
      "[0.8299577606360128, 0.1054417397200016]\n"
     ]
    },
    {
     "name": "stderr",
     "output_type": "stream",
     "text": [
      "Initial filtering of formulas: 100%|██████████████| 2/2 [00:00<00:00, 58.00it/s]\n",
      "Computing chunks: 100%|████████████████████████| 2/2 [00:00<00:00, 83886.08it/s]\n",
      "Splitting the experimental spectrum into chunks: 131072it [00:00, 3289370.70it/s]\n",
      "Deconvolving chunks: 100%|███████████████████████| 1/1 [02:42<00:00, 162.44s/it]\n"
     ]
    },
    {
     "name": "stdout",
     "output_type": "stream",
     "text": [
      "Estimation for 0.05 and 0.05 done\n",
      "It took: 162.5848410129547 seconds.\n",
      "[0.8281424176480127, 0.10546224779500162]\n"
     ]
    },
    {
     "name": "stderr",
     "output_type": "stream",
     "text": [
      "Initial filtering of formulas: 100%|██████████████| 2/2 [00:00<00:00, 59.91it/s]\n",
      "Computing chunks: 100%|████████████████████████| 2/2 [00:00<00:00, 91180.52it/s]\n",
      "Splitting the experimental spectrum into chunks: 131072it [00:00, 3690899.66it/s]\n",
      "Deconvolving chunks: 100%|███████████████████████| 1/1 [02:33<00:00, 153.63s/it]\n"
     ]
    },
    {
     "name": "stdout",
     "output_type": "stream",
     "text": [
      "Estimation for 0.05 and 0.060000000000000005 done\n",
      "It took: 153.78102254867554 seconds.\n",
      "[0.8255835393130126, 0.10526450565100161]\n"
     ]
    },
    {
     "name": "stderr",
     "output_type": "stream",
     "text": [
      "Initial filtering of formulas: 100%|██████████████| 2/2 [00:00<00:00, 65.22it/s]\n",
      "Computing chunks: 100%|████████████████████████| 2/2 [00:00<00:00, 97541.95it/s]\n",
      "Splitting the experimental spectrum into chunks: 131072it [00:00, 3567040.27it/s]\n",
      "Deconvolving chunks: 100%|███████████████████████| 1/1 [02:06<00:00, 126.40s/it]\n"
     ]
    },
    {
     "name": "stdout",
     "output_type": "stream",
     "text": [
      "Estimation for 0.05 and 0.06999999999999999 done\n",
      "It took: 126.53530359268188 seconds.\n",
      "[0.8226620378310127, 0.10481841520000161]\n"
     ]
    },
    {
     "name": "stderr",
     "output_type": "stream",
     "text": [
      "Initial filtering of formulas: 100%|██████████████| 2/2 [00:00<00:00, 64.28it/s]\n",
      "Computing chunks: 100%|████████████████████████| 2/2 [00:00<00:00, 87381.33it/s]\n",
      "Splitting the experimental spectrum into chunks: 131072it [00:00, 3592353.47it/s]\n",
      "Deconvolving chunks: 100%|███████████████████████| 1/1 [02:27<00:00, 147.87s/it]\n"
     ]
    },
    {
     "name": "stdout",
     "output_type": "stream",
     "text": [
      "Estimation for 0.05 and 0.08 done\n",
      "It took: 148.00912046432495 seconds.\n",
      "[0.8215801909010125, 0.1045032658670016]\n"
     ]
    },
    {
     "name": "stderr",
     "output_type": "stream",
     "text": [
      "Initial filtering of formulas: 100%|██████████████| 2/2 [00:00<00:00, 64.73it/s]\n",
      "Computing chunks: 100%|███████████████████████| 2/2 [00:00<00:00, 101067.57it/s]\n",
      "Splitting the experimental spectrum into chunks: 131072it [00:00, 3494884.48it/s]\n",
      "Deconvolving chunks: 100%|███████████████████████| 1/1 [02:05<00:00, 125.71s/it]\n"
     ]
    },
    {
     "name": "stdout",
     "output_type": "stream",
     "text": [
      "Estimation for 0.05 and 0.09 done\n",
      "It took: 125.86548352241516 seconds.\n",
      "[0.8217657330480126, 0.10337580587400158]\n"
     ]
    },
    {
     "name": "stderr",
     "output_type": "stream",
     "text": [
      "Initial filtering of formulas: 100%|██████████████| 2/2 [00:00<00:00, 64.63it/s]\n",
      "Computing chunks: 100%|████████████████████████| 2/2 [00:00<00:00, 97541.95it/s]\n",
      "Splitting the experimental spectrum into chunks: 131072it [00:00, 3534157.14it/s]\n",
      "Deconvolving chunks: 100%|███████████████████████| 1/1 [02:10<00:00, 130.53s/it]\n"
     ]
    },
    {
     "name": "stdout",
     "output_type": "stream",
     "text": [
      "Estimation for 0.05 and 0.09999999999999999 done\n",
      "It took: 130.69266533851624 seconds.\n",
      "[0.8214726736540126, 0.10218346632100157]\n"
     ]
    },
    {
     "name": "stderr",
     "output_type": "stream",
     "text": [
      "Initial filtering of formulas: 100%|██████████████| 2/2 [00:00<00:00, 62.27it/s]\n",
      "Computing chunks: 100%|████████████████████████| 2/2 [00:00<00:00, 58254.22it/s]\n",
      "Splitting the experimental spectrum into chunks: 131072it [00:00, 3486196.86it/s]\n",
      "Deconvolving chunks: 100%|███████████████████████| 1/1 [02:30<00:00, 150.26s/it]\n"
     ]
    },
    {
     "name": "stdout",
     "output_type": "stream",
     "text": [
      "Estimation for 0.05 and 0.11 done\n",
      "It took: 150.41265416145325 seconds.\n",
      "[0.8254505089840126, 0.09202429969400142]\n"
     ]
    },
    {
     "name": "stderr",
     "output_type": "stream",
     "text": [
      "Initial filtering of formulas: 100%|██████████████| 2/2 [00:00<00:00, 56.45it/s]\n",
      "Computing chunks: 100%|████████████████████████| 2/2 [00:00<00:00, 88301.14it/s]\n",
      "Splitting the experimental spectrum into chunks: 131072it [00:00, 3406317.58it/s]\n",
      "Deconvolving chunks: 100%|███████████████████████| 1/1 [02:08<00:00, 128.12s/it]\n"
     ]
    },
    {
     "name": "stdout",
     "output_type": "stream",
     "text": [
      "Estimation for 0.05 and 0.12 done\n",
      "It took: 128.2696967124939 seconds.\n",
      "[0.8258050247140126, 0.09034751517500139]\n"
     ]
    },
    {
     "name": "stderr",
     "output_type": "stream",
     "text": [
      "Initial filtering of formulas: 100%|██████████████| 2/2 [00:00<00:00, 62.89it/s]\n",
      "Computing chunks: 100%|████████████████████████| 2/2 [00:00<00:00, 94254.02it/s]\n",
      "Splitting the experimental spectrum into chunks: 131072it [00:00, 3405979.93it/s]\n",
      "Deconvolving chunks: 100%|███████████████████████| 1/1 [02:08<00:00, 128.48s/it]\n"
     ]
    },
    {
     "name": "stdout",
     "output_type": "stream",
     "text": [
      "Estimation for 0.05 and 0.13 done\n",
      "It took: 128.62052822113037 seconds.\n",
      "[0.8275986454260127, 0.08655219381700133]\n"
     ]
    },
    {
     "name": "stderr",
     "output_type": "stream",
     "text": [
      "Initial filtering of formulas: 100%|██████████████| 2/2 [00:00<00:00, 64.76it/s]\n",
      "Computing chunks: 100%|███████████████████████| 2/2 [00:00<00:00, 101067.57it/s]\n",
      "Splitting the experimental spectrum into chunks: 131072it [00:00, 3501607.08it/s]\n",
      "Deconvolving chunks: 100%|███████████████████████| 1/1 [02:50<00:00, 170.66s/it]\n"
     ]
    },
    {
     "name": "stdout",
     "output_type": "stream",
     "text": [
      "Estimation for 0.05 and 0.14 done\n",
      "It took: 170.79822421073914 seconds.\n",
      "[0.8306565450630128, 0.07997157420600122]\n"
     ]
    },
    {
     "name": "stderr",
     "output_type": "stream",
     "text": [
      "Initial filtering of formulas: 100%|██████████████| 2/2 [00:00<00:00, 56.06it/s]\n",
      "Computing chunks: 100%|████████████████████████| 2/2 [00:00<00:00, 64527.75it/s]\n",
      "Splitting the experimental spectrum into chunks: 131072it [00:00, 3418751.87it/s]\n",
      "Deconvolving chunks: 100%|███████████████████████| 1/1 [02:25<00:00, 145.42s/it]\n"
     ]
    },
    {
     "name": "stdout",
     "output_type": "stream",
     "text": [
      "Estimation for 0.05 and 0.15000000000000002 done\n",
      "It took: 145.58564710617065 seconds.\n",
      "[0.8327004504880128, 0.06992856154000107]\n"
     ]
    },
    {
     "name": "stderr",
     "output_type": "stream",
     "text": [
      "Initial filtering of formulas: 100%|██████████████| 2/2 [00:00<00:00, 64.40it/s]\n",
      "Computing chunks: 100%|████████████████████████| 2/2 [00:00<00:00, 88301.14it/s]\n",
      "Splitting the experimental spectrum into chunks: 131072it [00:00, 3608576.56it/s]\n",
      "Deconvolving chunks: 100%|███████████████████████| 1/1 [02:30<00:00, 150.15s/it]\n"
     ]
    },
    {
     "name": "stdout",
     "output_type": "stream",
     "text": [
      "Estimation for 0.05 and 0.16 done\n",
      "It took: 150.29902601242065 seconds.\n",
      "[0.8353720464570128, 0.06221948571300095]\n"
     ]
    },
    {
     "name": "stderr",
     "output_type": "stream",
     "text": [
      "Initial filtering of formulas: 100%|██████████████| 2/2 [00:00<00:00, 64.04it/s]\n",
      "Computing chunks: 100%|████████████████████████| 2/2 [00:00<00:00, 92182.51it/s]\n",
      "Splitting the experimental spectrum into chunks: 131072it [00:00, 3576112.76it/s]\n",
      "Deconvolving chunks: 100%|███████████████████████| 1/1 [02:11<00:00, 131.00s/it]\n"
     ]
    },
    {
     "name": "stdout",
     "output_type": "stream",
     "text": [
      "Estimation for 0.05 and 0.17 done\n",
      "It took: 131.1493570804596 seconds.\n",
      "[0.8383305876040129, 0.05379268791100083]\n"
     ]
    },
    {
     "name": "stderr",
     "output_type": "stream",
     "text": [
      "Initial filtering of formulas: 100%|██████████████| 2/2 [00:00<00:00, 62.40it/s]\n",
      "Computing chunks: 100%|████████████████████████| 2/2 [00:00<00:00, 91180.52it/s]\n",
      "Splitting the experimental spectrum into chunks: 131072it [00:00, 3445902.34it/s]\n",
      "Deconvolving chunks: 100%|███████████████████████| 1/1 [02:34<00:00, 154.83s/it]\n"
     ]
    },
    {
     "name": "stdout",
     "output_type": "stream",
     "text": [
      "Estimation for 0.05 and 0.18000000000000002 done\n",
      "It took: 154.9699945449829 seconds.\n",
      "[0.8408437053230129, 0.046146845214000705]\n"
     ]
    },
    {
     "name": "stderr",
     "output_type": "stream",
     "text": [
      "Initial filtering of formulas: 100%|██████████████| 2/2 [00:00<00:00, 62.25it/s]\n",
      "Computing chunks: 100%|███████████████████████| 2/2 [00:00<00:00, 102300.10it/s]\n",
      "Splitting the experimental spectrum into chunks: 131072it [00:00, 3503191.32it/s]\n",
      "Deconvolving chunks: 100%|███████████████████████| 1/1 [02:29<00:00, 149.74s/it]\n"
     ]
    },
    {
     "name": "stdout",
     "output_type": "stream",
     "text": [
      "Estimation for 0.05 and 0.19 done\n",
      "It took: 149.88065099716187 seconds.\n",
      "[0.8405561739200129, 0.04616970133500071]\n"
     ]
    },
    {
     "name": "stderr",
     "output_type": "stream",
     "text": [
      "Initial filtering of formulas: 100%|██████████████| 2/2 [00:00<00:00, 64.74it/s]\n",
      "Computing chunks: 100%|████████████████████████| 2/2 [00:00<00:00, 98689.51it/s]\n",
      "Splitting the experimental spectrum into chunks: 131072it [00:00, 3567156.00it/s]\n",
      "Deconvolving chunks: 100%|███████████████████████| 1/1 [02:36<00:00, 156.39s/it]\n"
     ]
    },
    {
     "name": "stdout",
     "output_type": "stream",
     "text": [
      "Estimation for 0.05 and 0.2 done\n",
      "It took: 156.52837800979614 seconds.\n",
      "[0.8402341177280129, 0.0458761268410007]\n"
     ]
    },
    {
     "name": "stderr",
     "output_type": "stream",
     "text": [
      "Initial filtering of formulas: 100%|██████████████| 2/2 [00:00<00:00, 65.10it/s]\n",
      "Computing chunks: 100%|████████████████████████| 2/2 [00:00<00:00, 95325.09it/s]\n",
      "Splitting the experimental spectrum into chunks: 131072it [00:00, 3567248.58it/s]\n",
      "Deconvolving chunks: 100%|███████████████████████| 1/1 [02:16<00:00, 136.17s/it]\n"
     ]
    },
    {
     "name": "stdout",
     "output_type": "stream",
     "text": [
      "Estimation for 0.05 and 0.21000000000000002 done\n",
      "It took: 136.30489993095398 seconds.\n",
      "[0.8398433259090129, 0.045476837849000695]\n"
     ]
    },
    {
     "name": "stderr",
     "output_type": "stream",
     "text": [
      "Initial filtering of formulas: 100%|██████████████| 2/2 [00:00<00:00, 64.21it/s]\n",
      "Computing chunks: 100%|████████████████████████| 2/2 [00:00<00:00, 90200.09it/s]\n",
      "Splitting the experimental spectrum into chunks: 131072it [00:00, 3484672.13it/s]\n",
      "Deconvolving chunks: 100%|███████████████████████| 1/1 [02:11<00:00, 131.86s/it]\n"
     ]
    },
    {
     "name": "stdout",
     "output_type": "stream",
     "text": [
      "Estimation for 0.05 and 0.22 done\n",
      "It took: 131.99761319160461 seconds.\n",
      "[0.8395172937550128, 0.0455426765930007]\n"
     ]
    },
    {
     "name": "stderr",
     "output_type": "stream",
     "text": [
      "Initial filtering of formulas: 100%|██████████████| 2/2 [00:00<00:00, 63.17it/s]\n",
      "Computing chunks: 100%|████████████████████████| 2/2 [00:00<00:00, 95325.09it/s]\n",
      "Splitting the experimental spectrum into chunks: 131072it [00:00, 3506475.92it/s]\n",
      "Deconvolving chunks: 100%|███████████████████████| 1/1 [02:30<00:00, 150.06s/it]\n"
     ]
    },
    {
     "name": "stdout",
     "output_type": "stream",
     "text": [
      "Estimation for 0.05 and 0.23 done\n",
      "It took: 150.19960498809814 seconds.\n",
      "[0.8391477645120129, 0.045231885292000694]\n"
     ]
    },
    {
     "name": "stderr",
     "output_type": "stream",
     "text": [
      "Initial filtering of formulas: 100%|██████████████| 2/2 [00:00<00:00, 63.65it/s]\n",
      "Computing chunks: 100%|████████████████████████| 2/2 [00:00<00:00, 86480.49it/s]\n",
      "Splitting the experimental spectrum into chunks: 131072it [00:00, 3496685.03it/s]\n",
      "Deconvolving chunks: 100%|███████████████████████| 1/1 [02:42<00:00, 162.29s/it]\n"
     ]
    },
    {
     "name": "stdout",
     "output_type": "stream",
     "text": [
      "Estimation for 0.05 and 0.24000000000000002 done\n",
      "It took: 162.43185710906982 seconds.\n",
      "[0.8388804063610129, 0.04508526816900069]\n"
     ]
    },
    {
     "name": "stderr",
     "output_type": "stream",
     "text": [
      "Initial filtering of formulas: 100%|██████████████| 2/2 [00:00<00:00, 63.87it/s]\n",
      "Computing chunks: 100%|████████████████████████| 2/2 [00:00<00:00, 93206.76it/s]\n",
      "Splitting the experimental spectrum into chunks: 131072it [00:00, 3507594.53it/s]\n",
      "Deconvolving chunks: 100%|███████████████████████| 1/1 [02:32<00:00, 152.97s/it]\n"
     ]
    },
    {
     "name": "stdout",
     "output_type": "stream",
     "text": [
      "Estimation for 0.05 and 0.25 done\n",
      "It took: 153.10506200790405 seconds.\n",
      "[0.8387800644210128, 0.0450766925890007]\n"
     ]
    },
    {
     "name": "stderr",
     "output_type": "stream",
     "text": [
      "Initial filtering of formulas: 100%|██████████████| 2/2 [00:00<00:00, 62.85it/s]\n",
      "Computing chunks: 100%|████████████████████████| 2/2 [00:00<00:00, 98689.51it/s]\n",
      "Splitting the experimental spectrum into chunks: 131072it [00:00, 3522540.26it/s]\n",
      "Deconvolving chunks: 100%|███████████████████████| 1/1 [02:35<00:00, 155.33s/it]\n"
     ]
    },
    {
     "name": "stdout",
     "output_type": "stream",
     "text": [
      "Estimation for 0.05 and 0.26 done\n",
      "It took: 155.47302198410034 seconds.\n",
      "[0.8384449064260129, 0.04467989195400069]\n"
     ]
    },
    {
     "name": "stderr",
     "output_type": "stream",
     "text": [
      "Initial filtering of formulas: 100%|██████████████| 2/2 [00:00<00:00, 61.78it/s]\n",
      "Computing chunks: 100%|████████████████████████| 2/2 [00:00<00:00, 94254.02it/s]\n",
      "Splitting the experimental spectrum into chunks: 131072it [00:00, 3380491.52it/s]\n",
      "Deconvolving chunks: 100%|███████████████████████| 1/1 [02:26<00:00, 146.38s/it]\n"
     ]
    },
    {
     "name": "stdout",
     "output_type": "stream",
     "text": [
      "Estimation for 0.05 and 0.27 done\n",
      "It took: 146.54603338241577 seconds.\n",
      "[0.8383850247230129, 0.04460010425700068]\n"
     ]
    },
    {
     "name": "stderr",
     "output_type": "stream",
     "text": [
      "Initial filtering of formulas: 100%|██████████████| 2/2 [00:00<00:00, 63.06it/s]\n",
      "Computing chunks: 100%|████████████████████████| 2/2 [00:00<00:00, 40721.40it/s]\n",
      "Splitting the experimental spectrum into chunks: 131072it [00:00, 3470855.94it/s]\n",
      "Deconvolving chunks: 100%|███████████████████████| 1/1 [02:19<00:00, 139.92s/it]\n"
     ]
    },
    {
     "name": "stdout",
     "output_type": "stream",
     "text": [
      "Estimation for 0.05 and 0.28 done\n",
      "It took: 140.06324434280396 seconds.\n",
      "[0.8383470834860128, 0.04441987203600068]\n"
     ]
    },
    {
     "name": "stderr",
     "output_type": "stream",
     "text": [
      "Initial filtering of formulas: 100%|██████████████| 2/2 [00:00<00:00, 56.77it/s]\n",
      "Computing chunks: 100%|████████████████████████| 2/2 [00:00<00:00, 81442.80it/s]\n",
      "Splitting the experimental spectrum into chunks: 131072it [00:00, 3305410.14it/s]\n",
      "Deconvolving chunks: 100%|███████████████████████| 1/1 [02:32<00:00, 152.34s/it]\n"
     ]
    },
    {
     "name": "stdout",
     "output_type": "stream",
     "text": [
      "Estimation for 0.05 and 0.29000000000000004 done\n",
      "It took: 152.48978972434998 seconds.\n",
      "[0.8383242771810129, 0.04453517314100068]\n"
     ]
    },
    {
     "name": "stderr",
     "output_type": "stream",
     "text": [
      "Initial filtering of formulas: 100%|██████████████| 2/2 [00:00<00:00, 59.23it/s]\n",
      "Computing chunks: 100%|████████████████████████| 2/2 [00:00<00:00, 37617.08it/s]\n",
      "Splitting the experimental spectrum into chunks: 131072it [00:00, 3413996.24it/s]\n",
      "Deconvolving chunks: 100%|███████████████████████| 1/1 [01:58<00:00, 118.21s/it]\n"
     ]
    },
    {
     "name": "stdout",
     "output_type": "stream",
     "text": [
      "Estimation for 0.060000000000000005 and 0.01 done\n",
      "It took: 118.35563373565674 seconds.\n",
      "[0.8821369414650135, 0.09553862006000145]\n"
     ]
    },
    {
     "name": "stderr",
     "output_type": "stream",
     "text": [
      "Initial filtering of formulas: 100%|██████████████| 2/2 [00:00<00:00, 64.72it/s]\n",
      "Computing chunks: 100%|███████████████████████| 2/2 [00:00<00:00, 104857.60it/s]\n",
      "Splitting the experimental spectrum into chunks: 131072it [00:00, 3546468.50it/s]\n",
      "Deconvolving chunks: 100%|███████████████████████| 1/1 [02:34<00:00, 154.96s/it]\n"
     ]
    },
    {
     "name": "stdout",
     "output_type": "stream",
     "text": [
      "Estimation for 0.060000000000000005 and 0.02 done\n",
      "It took: 155.09747219085693 seconds.\n",
      "[0.851105689042013, 0.10028543259600153]\n"
     ]
    },
    {
     "name": "stderr",
     "output_type": "stream",
     "text": [
      "Initial filtering of formulas: 100%|██████████████| 2/2 [00:00<00:00, 62.66it/s]\n",
      "Computing chunks: 100%|████████████████████████| 2/2 [00:00<00:00, 93206.76it/s]\n",
      "Splitting the experimental spectrum into chunks: 131072it [00:00, 3471316.17it/s]\n",
      "Deconvolving chunks: 100%|███████████████████████| 1/1 [02:16<00:00, 136.28s/it]\n"
     ]
    },
    {
     "name": "stdout",
     "output_type": "stream",
     "text": [
      "Estimation for 0.060000000000000005 and 0.03 done\n",
      "It took: 136.44272828102112 seconds.\n",
      "[0.8364746785830127, 0.1052505621360016]\n"
     ]
    },
    {
     "name": "stderr",
     "output_type": "stream",
     "text": [
      "Initial filtering of formulas: 100%|██████████████| 2/2 [00:00<00:00, 59.45it/s]\n",
      "Computing chunks: 100%|████████████████████████| 2/2 [00:00<00:00, 67108.86it/s]\n",
      "Splitting the experimental spectrum into chunks: 131072it [00:00, 3358518.02it/s]\n",
      "Deconvolving chunks: 100%|███████████████████████| 1/1 [02:13<00:00, 133.56s/it]\n"
     ]
    },
    {
     "name": "stdout",
     "output_type": "stream",
     "text": [
      "Estimation for 0.060000000000000005 and 0.04 done\n",
      "It took: 133.72630548477173 seconds.\n",
      "[0.8331138749960127, 0.10573660042600162]\n"
     ]
    },
    {
     "name": "stderr",
     "output_type": "stream",
     "text": [
      "Initial filtering of formulas: 100%|██████████████| 2/2 [00:00<00:00, 56.21it/s]\n",
      "Computing chunks: 100%|████████████████████████| 2/2 [00:00<00:00, 84733.41it/s]\n",
      "Splitting the experimental spectrum into chunks: 131072it [00:00, 3257136.68it/s]\n",
      "Deconvolving chunks: 100%|███████████████████████| 1/1 [02:08<00:00, 128.76s/it]\n"
     ]
    },
    {
     "name": "stdout",
     "output_type": "stream",
     "text": [
      "Estimation for 0.060000000000000005 and 0.05 done\n",
      "It took: 128.91355395317078 seconds.\n",
      "[0.8318188969230128, 0.10561416096500162]\n"
     ]
    },
    {
     "name": "stderr",
     "output_type": "stream",
     "text": [
      "Initial filtering of formulas: 100%|██████████████| 2/2 [00:00<00:00, 64.26it/s]\n",
      "Computing chunks: 100%|████████████████████████| 2/2 [00:00<00:00, 98689.51it/s]\n",
      "Splitting the experimental spectrum into chunks: 131072it [00:00, 3459215.44it/s]\n",
      "Deconvolving chunks: 100%|███████████████████████| 1/1 [02:05<00:00, 125.78s/it]\n"
     ]
    },
    {
     "name": "stdout",
     "output_type": "stream",
     "text": [
      "Estimation for 0.060000000000000005 and 0.060000000000000005 done\n",
      "It took: 125.92452383041382 seconds.\n",
      "[0.8311104861820128, 0.10518288683700161]\n"
     ]
    },
    {
     "name": "stderr",
     "output_type": "stream",
     "text": [
      "Initial filtering of formulas: 100%|██████████████| 2/2 [00:00<00:00, 60.83it/s]\n",
      "Computing chunks: 100%|████████████████████████| 2/2 [00:00<00:00, 91180.52it/s]\n",
      "Splitting the experimental spectrum into chunks: 131072it [00:00, 3382925.34it/s]\n",
      "Deconvolving chunks: 100%|███████████████████████| 1/1 [02:09<00:00, 129.91s/it]\n"
     ]
    },
    {
     "name": "stdout",
     "output_type": "stream",
     "text": [
      "Estimation for 0.060000000000000005 and 0.06999999999999999 done\n",
      "It took: 130.07412123680115 seconds.\n",
      "[0.8292149251850126, 0.1051673633640016]\n"
     ]
    },
    {
     "name": "stderr",
     "output_type": "stream",
     "text": [
      "Initial filtering of formulas: 100%|██████████████| 2/2 [00:00<00:00, 64.48it/s]\n",
      "Computing chunks: 100%|████████████████████████| 2/2 [00:00<00:00, 93206.76it/s]\n",
      "Splitting the experimental spectrum into chunks: 131072it [00:00, 3526290.96it/s]\n",
      "Deconvolving chunks: 100%|███████████████████████| 1/1 [02:28<00:00, 148.90s/it]\n"
     ]
    },
    {
     "name": "stdout",
     "output_type": "stream",
     "text": [
      "Estimation for 0.060000000000000005 and 0.08 done\n",
      "It took: 149.03605818748474 seconds.\n",
      "[0.8269836417790126, 0.10517773257700161]\n"
     ]
    },
    {
     "name": "stderr",
     "output_type": "stream",
     "text": [
      "Initial filtering of formulas: 100%|██████████████| 2/2 [00:00<00:00, 62.32it/s]\n",
      "Computing chunks: 100%|███████████████████████| 2/2 [00:00<00:00, 101067.57it/s]\n",
      "Splitting the experimental spectrum into chunks: 131072it [00:00, 3462243.61it/s]\n",
      "Deconvolving chunks: 100%|███████████████████████| 1/1 [02:02<00:00, 122.70s/it]\n"
     ]
    },
    {
     "name": "stdout",
     "output_type": "stream",
     "text": [
      "Estimation for 0.060000000000000005 and 0.09 done\n",
      "It took: 122.84326815605164 seconds.\n",
      "[0.8259129870020127, 0.10506493557900161]\n"
     ]
    },
    {
     "name": "stderr",
     "output_type": "stream",
     "text": [
      "Initial filtering of formulas: 100%|██████████████| 2/2 [00:00<00:00, 64.24it/s]\n",
      "Computing chunks: 100%|████████████████████████| 2/2 [00:00<00:00, 91180.52it/s]\n",
      "Splitting the experimental spectrum into chunks: 131072it [00:00, 3540666.93it/s]\n",
      "Deconvolving chunks: 100%|███████████████████████| 1/1 [02:41<00:00, 161.04s/it]\n"
     ]
    },
    {
     "name": "stdout",
     "output_type": "stream",
     "text": [
      "Estimation for 0.060000000000000005 and 0.09999999999999999 done\n",
      "It took: 161.17750883102417 seconds.\n",
      "[0.8251881702930126, 0.1044814099730016]\n"
     ]
    },
    {
     "name": "stderr",
     "output_type": "stream",
     "text": [
      "Initial filtering of formulas: 100%|██████████████| 2/2 [00:00<00:00, 64.10it/s]\n",
      "Computing chunks: 100%|████████████████████████| 2/2 [00:00<00:00, 98689.51it/s]\n",
      "Splitting the experimental spectrum into chunks: 131072it [00:00, 3496329.22it/s]\n",
      "Deconvolving chunks: 100%|███████████████████████| 1/1 [02:10<00:00, 130.42s/it]\n"
     ]
    },
    {
     "name": "stdout",
     "output_type": "stream",
     "text": [
      "Estimation for 0.060000000000000005 and 0.11 done\n",
      "It took: 130.58115339279175 seconds.\n",
      "[0.8239662748910127, 0.10427212819500159]\n"
     ]
    },
    {
     "name": "stderr",
     "output_type": "stream",
     "text": [
      "Initial filtering of formulas: 100%|██████████████| 2/2 [00:00<00:00, 63.85it/s]\n",
      "Computing chunks: 100%|████████████████████████| 2/2 [00:00<00:00, 96420.78it/s]\n",
      "Splitting the experimental spectrum into chunks: 131072it [00:00, 3502700.28it/s]\n",
      "Deconvolving chunks: 100%|███████████████████████| 1/1 [02:05<00:00, 125.26s/it]\n"
     ]
    },
    {
     "name": "stdout",
     "output_type": "stream",
     "text": [
      "Estimation for 0.060000000000000005 and 0.12 done\n",
      "It took: 125.40313458442688 seconds.\n",
      "[0.8239384141380126, 0.10183049877000155]\n"
     ]
    },
    {
     "name": "stderr",
     "output_type": "stream",
     "text": [
      "Initial filtering of formulas: 100%|██████████████| 2/2 [00:00<00:00, 64.56it/s]\n",
      "Computing chunks: 100%|████████████████████████| 2/2 [00:00<00:00, 88301.14it/s]\n",
      "Splitting the experimental spectrum into chunks: 131072it [00:00, 3464600.10it/s]\n",
      "Deconvolving chunks: 100%|███████████████████████| 1/1 [02:54<00:00, 174.83s/it]\n"
     ]
    },
    {
     "name": "stdout",
     "output_type": "stream",
     "text": [
      "Estimation for 0.060000000000000005 and 0.13 done\n",
      "It took: 174.96755480766296 seconds.\n",
      "[0.8276934304680127, 0.09514840191100146]\n"
     ]
    },
    {
     "name": "stderr",
     "output_type": "stream",
     "text": [
      "Initial filtering of formulas: 100%|██████████████| 2/2 [00:00<00:00, 56.32it/s]\n",
      "Computing chunks: 100%|████████████████████████| 2/2 [00:00<00:00, 90200.09it/s]\n",
      "Splitting the experimental spectrum into chunks: 131072it [00:00, 3383133.52it/s]\n",
      "Deconvolving chunks: 100%|███████████████████████| 1/1 [02:07<00:00, 127.21s/it]\n"
     ]
    },
    {
     "name": "stdout",
     "output_type": "stream",
     "text": [
      "Estimation for 0.060000000000000005 and 0.14 done\n",
      "It took: 127.3589768409729 seconds.\n",
      "[0.8292385888910127, 0.0913649880800014]\n"
     ]
    },
    {
     "name": "stderr",
     "output_type": "stream",
     "text": [
      "Initial filtering of formulas: 100%|██████████████| 2/2 [00:00<00:00, 63.34it/s]\n",
      "Computing chunks: 100%|████████████████████████| 2/2 [00:00<00:00, 98689.51it/s]\n",
      "Splitting the experimental spectrum into chunks: 131072it [00:00, 3480061.87it/s]\n",
      "Deconvolving chunks: 100%|███████████████████████| 1/1 [02:08<00:00, 128.08s/it]\n"
     ]
    },
    {
     "name": "stdout",
     "output_type": "stream",
     "text": [
      "Estimation for 0.060000000000000005 and 0.15000000000000002 done\n",
      "It took: 128.2177128791809 seconds.\n",
      "[0.8295185256990126, 0.09062776286000139]\n"
     ]
    },
    {
     "name": "stderr",
     "output_type": "stream",
     "text": [
      "Initial filtering of formulas: 100%|██████████████| 2/2 [00:00<00:00, 62.66it/s]\n",
      "Computing chunks: 100%|████████████████████████| 2/2 [00:00<00:00, 84733.41it/s]\n",
      "Splitting the experimental spectrum into chunks: 131072it [00:00, 3447436.56it/s]\n",
      "Deconvolving chunks: 100%|███████████████████████| 1/1 [02:10<00:00, 130.84s/it]\n"
     ]
    },
    {
     "name": "stdout",
     "output_type": "stream",
     "text": [
      "Estimation for 0.060000000000000005 and 0.16 done\n",
      "It took: 130.98512434959412 seconds.\n",
      "[0.8305419698620128, 0.08794646320600134]\n"
     ]
    },
    {
     "name": "stderr",
     "output_type": "stream",
     "text": [
      "Initial filtering of formulas: 100%|██████████████| 2/2 [00:00<00:00, 62.31it/s]\n",
      "Computing chunks: 100%|████████████████████████| 2/2 [00:00<00:00, 91180.52it/s]\n",
      "Splitting the experimental spectrum into chunks: 131072it [00:00, 3527263.83it/s]\n",
      "Deconvolving chunks: 100%|███████████████████████| 1/1 [02:32<00:00, 152.47s/it]\n"
     ]
    },
    {
     "name": "stdout",
     "output_type": "stream",
     "text": [
      "Estimation for 0.060000000000000005 and 0.17 done\n",
      "It took: 152.61362838745117 seconds.\n",
      "[0.8337496113320128, 0.08201786044600126]\n"
     ]
    },
    {
     "name": "stderr",
     "output_type": "stream",
     "text": [
      "Initial filtering of formulas: 100%|██████████████| 2/2 [00:00<00:00, 63.48it/s]\n",
      "Computing chunks: 100%|███████████████████████| 2/2 [00:00<00:00, 102300.10it/s]\n",
      "Splitting the experimental spectrum into chunks: 131072it [00:00, 3467528.34it/s]\n",
      "Deconvolving chunks: 100%|███████████████████████| 1/1 [02:13<00:00, 133.85s/it]\n"
     ]
    },
    {
     "name": "stdout",
     "output_type": "stream",
     "text": [
      "Estimation for 0.060000000000000005 and 0.18000000000000002 done\n",
      "It took: 133.9920952320099 seconds.\n",
      "[0.8385404322100128, 0.07427497485900114]\n"
     ]
    },
    {
     "name": "stderr",
     "output_type": "stream",
     "text": [
      "Initial filtering of formulas: 100%|██████████████| 2/2 [00:00<00:00, 62.62it/s]\n",
      "Computing chunks: 100%|████████████████████████| 2/2 [00:00<00:00, 97541.95it/s]\n",
      "Splitting the experimental spectrum into chunks: 131072it [00:00, 3451050.61it/s]\n",
      "Deconvolving chunks: 100%|███████████████████████| 1/1 [02:51<00:00, 171.81s/it]\n"
     ]
    },
    {
     "name": "stdout",
     "output_type": "stream",
     "text": [
      "Estimation for 0.060000000000000005 and 0.19 done\n",
      "It took: 171.95191502571106 seconds.\n",
      "[0.8439224953540129, 0.06283503965800095]\n"
     ]
    },
    {
     "name": "stderr",
     "output_type": "stream",
     "text": [
      "Initial filtering of formulas: 100%|██████████████| 2/2 [00:00<00:00, 66.19it/s]\n",
      "Computing chunks: 100%|████████████████████████| 2/2 [00:00<00:00, 97541.95it/s]\n",
      "Splitting the experimental spectrum into chunks: 131072it [00:00, 3592611.71it/s]\n",
      "Deconvolving chunks: 100%|███████████████████████| 1/1 [02:09<00:00, 129.39s/it]\n"
     ]
    },
    {
     "name": "stdout",
     "output_type": "stream",
     "text": [
      "Estimation for 0.060000000000000005 and 0.2 done\n",
      "It took: 129.52474999427795 seconds.\n",
      "[0.8439196228400129, 0.06277560168900095]\n"
     ]
    },
    {
     "name": "stderr",
     "output_type": "stream",
     "text": [
      "Initial filtering of formulas: 100%|██████████████| 2/2 [00:00<00:00, 63.49it/s]\n",
      "Computing chunks: 100%|████████████████████████| 2/2 [00:00<00:00, 69905.07it/s]\n",
      "Splitting the experimental spectrum into chunks: 131072it [00:00, 3538524.71it/s]\n",
      "Deconvolving chunks: 100%|███████████████████████| 1/1 [02:28<00:00, 148.98s/it]\n"
     ]
    },
    {
     "name": "stdout",
     "output_type": "stream",
     "text": [
      "Estimation for 0.060000000000000005 and 0.21000000000000002 done\n",
      "It took: 149.11732411384583 seconds.\n",
      "[0.8438862308050129, 0.06273712160000096]\n"
     ]
    },
    {
     "name": "stderr",
     "output_type": "stream",
     "text": [
      "Initial filtering of formulas: 100%|██████████████| 2/2 [00:00<00:00, 65.00it/s]\n",
      "Computing chunks: 100%|████████████████████████| 2/2 [00:00<00:00, 89240.51it/s]\n",
      "Splitting the experimental spectrum into chunks: 131072it [00:00, 3545393.55it/s]\n",
      "Deconvolving chunks: 100%|███████████████████████| 1/1 [02:28<00:00, 148.87s/it]\n"
     ]
    },
    {
     "name": "stdout",
     "output_type": "stream",
     "text": [
      "Estimation for 0.060000000000000005 and 0.22 done\n",
      "It took: 149.0377061367035 seconds.\n",
      "[0.8438971882510129, 0.06259954695300096]\n"
     ]
    },
    {
     "name": "stderr",
     "output_type": "stream",
     "text": [
      "Initial filtering of formulas: 100%|██████████████| 2/2 [00:00<00:00, 63.87it/s]\n",
      "Computing chunks: 100%|███████████████████████| 2/2 [00:00<00:00, 103563.06it/s]\n",
      "Splitting the experimental spectrum into chunks: 131072it [00:00, 3485622.17it/s]\n",
      "Deconvolving chunks: 100%|███████████████████████| 1/1 [02:31<00:00, 151.87s/it]\n"
     ]
    },
    {
     "name": "stdout",
     "output_type": "stream",
     "text": [
      "Estimation for 0.060000000000000005 and 0.23 done\n",
      "It took: 152.0065221786499 seconds.\n",
      "[0.8438654087410129, 0.06266271470500095]\n"
     ]
    },
    {
     "name": "stderr",
     "output_type": "stream",
     "text": [
      "Initial filtering of formulas: 100%|██████████████| 2/2 [00:00<00:00, 61.89it/s]\n",
      "Computing chunks: 100%|████████████████████████| 2/2 [00:00<00:00, 83886.08it/s]\n",
      "Splitting the experimental spectrum into chunks: 131072it [00:00, 3424160.48it/s]\n",
      "Deconvolving chunks: 100%|███████████████████████| 1/1 [02:11<00:00, 131.14s/it]\n"
     ]
    },
    {
     "name": "stdout",
     "output_type": "stream",
     "text": [
      "Estimation for 0.060000000000000005 and 0.24000000000000002 done\n",
      "It took: 131.31059670448303 seconds.\n",
      "[0.8437562112950129, 0.06276477238700096]\n"
     ]
    },
    {
     "name": "stderr",
     "output_type": "stream",
     "text": [
      "Initial filtering of formulas: 100%|██████████████| 2/2 [00:00<00:00, 62.78it/s]\n",
      "Computing chunks: 100%|████████████████████████| 2/2 [00:00<00:00, 66052.03it/s]\n",
      "Splitting the experimental spectrum into chunks: 131072it [00:00, 3403913.23it/s]\n",
      "Deconvolving chunks: 100%|███████████████████████| 1/1 [02:35<00:00, 155.50s/it]\n"
     ]
    },
    {
     "name": "stdout",
     "output_type": "stream",
     "text": [
      "Estimation for 0.060000000000000005 and 0.25 done\n",
      "It took: 155.66813445091248 seconds.\n",
      "[0.8437209877960129, 0.06279951950500096]\n"
     ]
    },
    {
     "name": "stderr",
     "output_type": "stream",
     "text": [
      "Initial filtering of formulas: 100%|██████████████| 2/2 [00:00<00:00, 62.21it/s]\n",
      "Computing chunks: 100%|████████████████████████| 2/2 [00:00<00:00, 89240.51it/s]\n",
      "Splitting the experimental spectrum into chunks: 131072it [00:00, 3478102.35it/s]\n",
      "Deconvolving chunks: 100%|███████████████████████| 1/1 [02:28<00:00, 148.24s/it]\n"
     ]
    },
    {
     "name": "stdout",
     "output_type": "stream",
     "text": [
      "Estimation for 0.060000000000000005 and 0.26 done\n",
      "It took: 148.38197946548462 seconds.\n",
      "[0.8436997897040128, 0.06285383827700096]\n"
     ]
    },
    {
     "name": "stderr",
     "output_type": "stream",
     "text": [
      "Initial filtering of formulas: 100%|██████████████| 2/2 [00:00<00:00, 63.03it/s]\n",
      "Computing chunks: 100%|████████████████████████| 2/2 [00:00<00:00, 69327.34it/s]\n",
      "Splitting the experimental spectrum into chunks: 131072it [00:00, 3409232.67it/s]\n",
      "Deconvolving chunks: 100%|███████████████████████| 1/1 [02:08<00:00, 128.41s/it]\n"
     ]
    },
    {
     "name": "stdout",
     "output_type": "stream",
     "text": [
      "Estimation for 0.060000000000000005 and 0.27 done\n",
      "It took: 128.58134245872498 seconds.\n",
      "[0.8435928676690129, 0.06303967729000097]\n"
     ]
    },
    {
     "name": "stderr",
     "output_type": "stream",
     "text": [
      "Initial filtering of formulas: 100%|██████████████| 2/2 [00:00<00:00, 65.39it/s]\n",
      "Computing chunks: 100%|████████████████████████| 2/2 [00:00<00:00, 73584.28it/s]\n",
      "Splitting the experimental spectrum into chunks: 131072it [00:00, 3526992.28it/s]\n",
      "Deconvolving chunks: 100%|███████████████████████| 1/1 [02:25<00:00, 145.06s/it]\n"
     ]
    },
    {
     "name": "stdout",
     "output_type": "stream",
     "text": [
      "Estimation for 0.060000000000000005 and 0.28 done\n",
      "It took: 145.19980192184448 seconds.\n",
      "[0.8436445371390129, 0.06319273791600097]\n"
     ]
    },
    {
     "name": "stderr",
     "output_type": "stream",
     "text": [
      "Initial filtering of formulas: 100%|██████████████| 2/2 [00:00<00:00, 61.30it/s]\n",
      "Computing chunks: 100%|████████████████████████| 2/2 [00:00<00:00, 43240.25it/s]\n",
      "Splitting the experimental spectrum into chunks: 131072it [00:00, 3333873.95it/s]\n",
      "Deconvolving chunks: 100%|███████████████████████| 1/1 [02:18<00:00, 138.71s/it]\n"
     ]
    },
    {
     "name": "stdout",
     "output_type": "stream",
     "text": [
      "Estimation for 0.060000000000000005 and 0.29000000000000004 done\n",
      "It took: 138.86769890785217 seconds.\n",
      "[0.8436589553510129, 0.06342083434100097]\n"
     ]
    },
    {
     "name": "stderr",
     "output_type": "stream",
     "text": [
      "Initial filtering of formulas: 100%|██████████████| 2/2 [00:00<00:00, 64.94it/s]\n",
      "Computing chunks: 100%|████████████████████████| 2/2 [00:00<00:00, 96420.78it/s]\n",
      "Splitting the experimental spectrum into chunks: 131072it [00:00, 3532022.78it/s]\n",
      "Deconvolving chunks: 100%|███████████████████████| 1/1 [01:51<00:00, 111.99s/it]\n"
     ]
    },
    {
     "name": "stdout",
     "output_type": "stream",
     "text": [
      "Estimation for 0.06999999999999999 and 0.01 done\n",
      "It took: 112.1281578540802 seconds.\n",
      "[0.8697424924890134, 0.10992191965400168]\n"
     ]
    },
    {
     "name": "stderr",
     "output_type": "stream",
     "text": [
      "Initial filtering of formulas: 100%|██████████████| 2/2 [00:00<00:00, 61.45it/s]\n",
      "Computing chunks: 100%|████████████████████████| 2/2 [00:00<00:00, 43690.67it/s]\n",
      "Splitting the experimental spectrum into chunks: 131072it [00:00, 3382987.79it/s]\n",
      "Deconvolving chunks: 100%|███████████████████████| 1/1 [02:40<00:00, 160.25s/it]\n"
     ]
    },
    {
     "name": "stdout",
     "output_type": "stream",
     "text": [
      "Estimation for 0.06999999999999999 and 0.02 done\n",
      "It took: 160.411283493042 seconds.\n",
      "[0.8565536822470131, 0.09904562825600151]\n"
     ]
    },
    {
     "name": "stderr",
     "output_type": "stream",
     "text": [
      "Initial filtering of formulas: 100%|██████████████| 2/2 [00:00<00:00, 62.25it/s]\n",
      "Computing chunks: 100%|████████████████████████| 2/2 [00:00<00:00, 95325.09it/s]\n",
      "Splitting the experimental spectrum into chunks: 131072it [00:00, 3596160.30it/s]\n",
      "Deconvolving chunks: 100%|███████████████████████| 1/1 [02:02<00:00, 122.90s/it]\n"
     ]
    },
    {
     "name": "stdout",
     "output_type": "stream",
     "text": [
      "Estimation for 0.06999999999999999 and 0.03 done\n",
      "It took: 123.0385434627533 seconds.\n",
      "[0.8408595949640129, 0.10483610308100161]\n"
     ]
    },
    {
     "name": "stderr",
     "output_type": "stream",
     "text": [
      "Initial filtering of formulas: 100%|██████████████| 2/2 [00:00<00:00, 65.11it/s]\n",
      "Computing chunks: 100%|████████████████████████| 2/2 [00:00<00:00, 99864.38it/s]\n",
      "Splitting the experimental spectrum into chunks: 131072it [00:00, 3542811.75it/s]\n",
      "Deconvolving chunks: 100%|███████████████████████| 1/1 [02:10<00:00, 130.37s/it]\n"
     ]
    },
    {
     "name": "stdout",
     "output_type": "stream",
     "text": [
      "Estimation for 0.06999999999999999 and 0.04 done\n",
      "It took: 130.50330924987793 seconds.\n",
      "[0.8369858905750128, 0.10567078741600162]\n"
     ]
    },
    {
     "name": "stderr",
     "output_type": "stream",
     "text": [
      "Initial filtering of formulas: 100%|██████████████| 2/2 [00:00<00:00, 62.19it/s]\n",
      "Computing chunks: 100%|████████████████████████| 2/2 [00:00<00:00, 57065.36it/s]\n",
      "Splitting the experimental spectrum into chunks: 131072it [00:00, 3470111.05it/s]\n",
      "Deconvolving chunks: 100%|███████████████████████| 1/1 [02:04<00:00, 124.81s/it]\n"
     ]
    },
    {
     "name": "stdout",
     "output_type": "stream",
     "text": [
      "Estimation for 0.06999999999999999 and 0.05 done\n",
      "It took: 124.97308921813965 seconds.\n",
      "[0.8353531261390128, 0.10577100021400163]\n"
     ]
    },
    {
     "name": "stderr",
     "output_type": "stream",
     "text": [
      "Initial filtering of formulas: 100%|██████████████| 2/2 [00:00<00:00, 65.25it/s]\n",
      "Computing chunks: 100%|████████████████████████| 2/2 [00:00<00:00, 65536.00it/s]\n",
      "Splitting the experimental spectrum into chunks: 131072it [00:00, 3583175.15it/s]\n",
      "Deconvolving chunks: 100%|███████████████████████| 1/1 [02:08<00:00, 128.29s/it]\n"
     ]
    },
    {
     "name": "stdout",
     "output_type": "stream",
     "text": [
      "Estimation for 0.06999999999999999 and 0.060000000000000005 done\n",
      "It took: 128.41923999786377 seconds.\n",
      "[0.8342564756480128, 0.10541233055900161]\n"
     ]
    },
    {
     "name": "stderr",
     "output_type": "stream",
     "text": [
      "Initial filtering of formulas: 100%|██████████████| 2/2 [00:00<00:00, 65.18it/s]\n",
      "Computing chunks: 100%|████████████████████████| 2/2 [00:00<00:00, 94254.02it/s]\n",
      "Splitting the experimental spectrum into chunks: 131072it [00:00, 3559096.33it/s]\n",
      "Deconvolving chunks: 100%|███████████████████████| 1/1 [01:57<00:00, 117.62s/it]\n"
     ]
    },
    {
     "name": "stdout",
     "output_type": "stream",
     "text": [
      "Estimation for 0.06999999999999999 and 0.06999999999999999 done\n",
      "It took: 117.77838683128357 seconds.\n",
      "[0.8331699386400128, 0.1052483159210016]\n"
     ]
    },
    {
     "name": "stderr",
     "output_type": "stream",
     "text": [
      "Initial filtering of formulas: 100%|██████████████| 2/2 [00:00<00:00, 64.29it/s]\n",
      "Computing chunks: 100%|████████████████████████| 2/2 [00:00<00:00, 91180.52it/s]\n",
      "Splitting the experimental spectrum into chunks: 131072it [00:00, 3532658.28it/s]\n",
      "Deconvolving chunks: 100%|███████████████████████| 1/1 [02:23<00:00, 143.51s/it]\n"
     ]
    },
    {
     "name": "stdout",
     "output_type": "stream",
     "text": [
      "Estimation for 0.06999999999999999 and 0.08 done\n",
      "It took: 143.66371965408325 seconds.\n",
      "[0.8324102044280127, 0.10516091373800161]\n"
     ]
    },
    {
     "name": "stderr",
     "output_type": "stream",
     "text": [
      "Initial filtering of formulas: 100%|██████████████| 2/2 [00:00<00:00, 64.03it/s]\n",
      "Computing chunks: 100%|███████████████████████| 2/2 [00:00<00:00, 106184.91it/s]\n",
      "Splitting the experimental spectrum into chunks: 131072it [00:00, 3531659.74it/s]\n",
      "Deconvolving chunks: 100%|███████████████████████| 1/1 [02:08<00:00, 128.42s/it]\n"
     ]
    },
    {
     "name": "stdout",
     "output_type": "stream",
     "text": [
      "Estimation for 0.06999999999999999 and 0.09 done\n",
      "It took: 128.55744338035583 seconds.\n",
      "[0.8309665577710128, 0.10524623990800161]\n"
     ]
    },
    {
     "name": "stderr",
     "output_type": "stream",
     "text": [
      "Initial filtering of formulas: 100%|██████████████| 2/2 [00:00<00:00, 63.94it/s]\n",
      "Computing chunks: 100%|████████████████████████| 2/2 [00:00<00:00, 95325.09it/s]\n",
      "Splitting the experimental spectrum into chunks: 131072it [00:00, 3455866.67it/s]\n",
      "Deconvolving chunks: 100%|███████████████████████| 1/1 [02:03<00:00, 123.82s/it]\n"
     ]
    },
    {
     "name": "stdout",
     "output_type": "stream",
     "text": [
      "Estimation for 0.06999999999999999 and 0.09999999999999999 done\n",
      "It took: 123.98764777183533 seconds.\n",
      "[0.8301811660400128, 0.10532728582900161]\n"
     ]
    },
    {
     "name": "stderr",
     "output_type": "stream",
     "text": [
      "Initial filtering of formulas: 100%|██████████████| 2/2 [00:00<00:00, 62.85it/s]\n",
      "Computing chunks: 100%|████████████████████████| 2/2 [00:00<00:00, 86480.49it/s]\n",
      "Splitting the experimental spectrum into chunks: 131072it [00:00, 3498242.55it/s]\n",
      "Deconvolving chunks: 100%|███████████████████████| 1/1 [02:06<00:00, 126.38s/it]\n"
     ]
    },
    {
     "name": "stdout",
     "output_type": "stream",
     "text": [
      "Estimation for 0.06999999999999999 and 0.11 done\n",
      "It took: 126.52054595947266 seconds.\n",
      "[0.8289751305730126, 0.1048689655420016]\n"
     ]
    },
    {
     "name": "stderr",
     "output_type": "stream",
     "text": [
      "Initial filtering of formulas: 100%|██████████████| 2/2 [00:00<00:00, 64.13it/s]\n",
      "Computing chunks: 100%|████████████████████████| 2/2 [00:00<00:00, 90200.09it/s]\n",
      "Splitting the experimental spectrum into chunks: 131072it [00:00, 3467987.70it/s]\n",
      "Deconvolving chunks: 100%|███████████████████████| 1/1 [02:25<00:00, 145.08s/it]\n"
     ]
    },
    {
     "name": "stdout",
     "output_type": "stream",
     "text": [
      "Estimation for 0.06999999999999999 and 0.12 done\n",
      "It took: 145.21955966949463 seconds.\n",
      "[0.8272664048580126, 0.1048268723190016]\n"
     ]
    },
    {
     "name": "stderr",
     "output_type": "stream",
     "text": [
      "Initial filtering of formulas: 100%|██████████████| 2/2 [00:00<00:00, 64.41it/s]\n",
      "Computing chunks: 100%|████████████████████████| 2/2 [00:00<00:00, 98689.51it/s]\n",
      "Splitting the experimental spectrum into chunks: 131072it [00:00, 3553712.78it/s]\n",
      "Deconvolving chunks: 100%|███████████████████████| 1/1 [02:08<00:00, 128.25s/it]\n"
     ]
    },
    {
     "name": "stdout",
     "output_type": "stream",
     "text": [
      "Estimation for 0.06999999999999999 and 0.13 done\n",
      "It took: 128.40807843208313 seconds.\n",
      "[0.8265326939980127, 0.1040820974370016]\n"
     ]
    },
    {
     "name": "stderr",
     "output_type": "stream",
     "text": [
      "Initial filtering of formulas: 100%|██████████████| 2/2 [00:00<00:00, 63.75it/s]\n",
      "Computing chunks: 100%|███████████████████████| 2/2 [00:00<00:00, 103563.06it/s]\n",
      "Splitting the experimental spectrum into chunks: 131072it [00:00, 3525861.26it/s]\n",
      "Deconvolving chunks: 100%|███████████████████████| 1/1 [02:06<00:00, 126.06s/it]\n"
     ]
    },
    {
     "name": "stdout",
     "output_type": "stream",
     "text": [
      "Estimation for 0.06999999999999999 and 0.14 done\n",
      "It took: 126.19694590568542 seconds.\n",
      "[0.8268689504060126, 0.10310307304200159]\n"
     ]
    },
    {
     "name": "stderr",
     "output_type": "stream",
     "text": [
      "Initial filtering of formulas: 100%|██████████████| 2/2 [00:00<00:00, 65.53it/s]\n",
      "Computing chunks: 100%|████████████████████████| 2/2 [00:00<00:00, 96420.78it/s]\n",
      "Splitting the experimental spectrum into chunks: 131072it [00:00, 3554448.03it/s]\n",
      "Deconvolving chunks: 100%|███████████████████████| 1/1 [03:03<00:00, 183.37s/it]\n"
     ]
    },
    {
     "name": "stdout",
     "output_type": "stream",
     "text": [
      "Estimation for 0.06999999999999999 and 0.15000000000000002 done\n",
      "It took: 183.53346347808838 seconds.\n",
      "[0.8280693481330127, 0.10059969046400154]\n"
     ]
    },
    {
     "name": "stderr",
     "output_type": "stream",
     "text": [
      "Initial filtering of formulas: 100%|██████████████| 2/2 [00:00<00:00, 64.38it/s]\n",
      "Computing chunks: 100%|████████████████████████| 2/2 [00:00<00:00, 98689.51it/s]\n",
      "Splitting the experimental spectrum into chunks: 131072it [00:00, 3513198.33it/s]\n",
      "Deconvolving chunks: 100%|███████████████████████| 1/1 [02:12<00:00, 132.29s/it]\n"
     ]
    },
    {
     "name": "stdout",
     "output_type": "stream",
     "text": [
      "Estimation for 0.06999999999999999 and 0.16 done\n",
      "It took: 132.43042254447937 seconds.\n",
      "[0.8301540689340128, 0.09662171156800148]\n"
     ]
    },
    {
     "name": "stderr",
     "output_type": "stream",
     "text": [
      "Initial filtering of formulas: 100%|██████████████| 2/2 [00:00<00:00, 63.32it/s]\n",
      "Computing chunks: 100%|████████████████████████| 2/2 [00:00<00:00, 99864.38it/s]\n",
      "Splitting the experimental spectrum into chunks: 131072it [00:00, 3488431.12it/s]\n",
      "Deconvolving chunks: 100%|███████████████████████| 1/1 [02:37<00:00, 157.90s/it]\n"
     ]
    },
    {
     "name": "stdout",
     "output_type": "stream",
     "text": [
      "Estimation for 0.06999999999999999 and 0.17 done\n",
      "It took: 158.0383334159851 seconds.\n",
      "[0.8333001611420128, 0.0915367775630014]\n"
     ]
    },
    {
     "name": "stderr",
     "output_type": "stream",
     "text": [
      "Initial filtering of formulas: 100%|██████████████| 2/2 [00:00<00:00, 64.07it/s]\n",
      "Computing chunks: 100%|████████████████████████| 2/2 [00:00<00:00, 89240.51it/s]\n",
      "Splitting the experimental spectrum into chunks: 131072it [00:00, 3466172.87it/s]\n",
      "Deconvolving chunks: 100%|███████████████████████| 1/1 [02:09<00:00, 129.37s/it]\n"
     ]
    },
    {
     "name": "stdout",
     "output_type": "stream",
     "text": [
      "Estimation for 0.06999999999999999 and 0.18000000000000002 done\n",
      "It took: 129.5101821422577 seconds.\n",
      "[0.8334916647540128, 0.09075042409400139]\n"
     ]
    },
    {
     "name": "stderr",
     "output_type": "stream",
     "text": [
      "Initial filtering of formulas: 100%|██████████████| 2/2 [00:00<00:00, 64.46it/s]\n",
      "Computing chunks: 100%|████████████████████████| 2/2 [00:00<00:00, 87381.33it/s]\n",
      "Splitting the experimental spectrum into chunks: 131072it [00:00, 3535861.94it/s]\n",
      "Deconvolving chunks: 100%|███████████████████████| 1/1 [02:25<00:00, 145.08s/it]\n"
     ]
    },
    {
     "name": "stdout",
     "output_type": "stream",
     "text": [
      "Estimation for 0.06999999999999999 and 0.19 done\n",
      "It took: 145.24155521392822 seconds.\n",
      "[0.8352088844550127, 0.08777061216700134]\n"
     ]
    },
    {
     "name": "stderr",
     "output_type": "stream",
     "text": [
      "Initial filtering of formulas: 100%|██████████████| 2/2 [00:00<00:00, 61.71it/s]\n",
      "Computing chunks: 100%|████████████████████████| 2/2 [00:00<00:00, 96420.78it/s]\n",
      "Splitting the experimental spectrum into chunks: 131072it [00:00, 3436575.24it/s]\n",
      "Deconvolving chunks: 100%|███████████████████████| 1/1 [02:24<00:00, 144.56s/it]\n"
     ]
    },
    {
     "name": "stdout",
     "output_type": "stream",
     "text": [
      "Estimation for 0.06999999999999999 and 0.2 done\n",
      "It took: 144.71325421333313 seconds.\n",
      "[0.8406195665080128, 0.07523289718500115]\n"
     ]
    },
    {
     "name": "stderr",
     "output_type": "stream",
     "text": [
      "Initial filtering of formulas: 100%|██████████████| 2/2 [00:00<00:00, 63.54it/s]\n",
      "Computing chunks: 100%|███████████████████████| 2/2 [00:00<00:00, 102300.10it/s]\n",
      "Splitting the experimental spectrum into chunks: 131072it [00:00, 3500157.98it/s]\n",
      "Deconvolving chunks: 100%|███████████████████████| 1/1 [02:28<00:00, 148.03s/it]\n"
     ]
    },
    {
     "name": "stdout",
     "output_type": "stream",
     "text": [
      "Estimation for 0.06999999999999999 and 0.21000000000000002 done\n",
      "It took: 148.16712188720703 seconds.\n",
      "[0.8406659281570129, 0.07500674263200115]\n"
     ]
    },
    {
     "name": "stderr",
     "output_type": "stream",
     "text": [
      "Initial filtering of formulas: 100%|██████████████| 2/2 [00:00<00:00, 63.11it/s]\n",
      "Computing chunks: 100%|████████████████████████| 2/2 [00:00<00:00, 94254.02it/s]\n",
      "Splitting the experimental spectrum into chunks: 131072it [00:00, 3501562.48it/s]\n",
      "Deconvolving chunks: 100%|███████████████████████| 1/1 [02:12<00:00, 132.35s/it]\n"
     ]
    },
    {
     "name": "stdout",
     "output_type": "stream",
     "text": [
      "Estimation for 0.06999999999999999 and 0.22 done\n",
      "It took: 132.51847529411316 seconds.\n",
      "[0.8406358081750129, 0.07498481671200115]\n"
     ]
    },
    {
     "name": "stderr",
     "output_type": "stream",
     "text": [
      "Initial filtering of formulas: 100%|██████████████| 2/2 [00:00<00:00, 62.70it/s]\n",
      "Computing chunks: 100%|████████████████████████| 2/2 [00:00<00:00, 88301.14it/s]\n",
      "Splitting the experimental spectrum into chunks: 131072it [00:00, 3379099.37it/s]\n",
      "Deconvolving chunks: 100%|███████████████████████| 1/1 [02:28<00:00, 148.68s/it]\n"
     ]
    },
    {
     "name": "stdout",
     "output_type": "stream",
     "text": [
      "Estimation for 0.06999999999999999 and 0.23 done\n",
      "It took: 148.84559035301208 seconds.\n",
      "[0.8406452425140128, 0.07491723712400115]\n"
     ]
    },
    {
     "name": "stderr",
     "output_type": "stream",
     "text": [
      "Initial filtering of formulas: 100%|██████████████| 2/2 [00:00<00:00, 63.44it/s]\n",
      "Computing chunks: 100%|████████████████████████| 2/2 [00:00<00:00, 89240.51it/s]\n",
      "Splitting the experimental spectrum into chunks: 131072it [00:00, 3459672.59it/s]\n",
      "Deconvolving chunks: 100%|███████████████████████| 1/1 [02:31<00:00, 151.94s/it]\n"
     ]
    },
    {
     "name": "stdout",
     "output_type": "stream",
     "text": [
      "Estimation for 0.06999999999999999 and 0.24000000000000002 done\n",
      "It took: 152.07495045661926 seconds.\n",
      "[0.8405513447490128, 0.07501987076700115]\n"
     ]
    },
    {
     "name": "stderr",
     "output_type": "stream",
     "text": [
      "Initial filtering of formulas: 100%|██████████████| 2/2 [00:00<00:00, 60.74it/s]\n",
      "Computing chunks: 100%|████████████████████████| 2/2 [00:00<00:00, 95325.09it/s]\n",
      "Splitting the experimental spectrum into chunks: 131072it [00:00, 3433077.18it/s]\n",
      "Deconvolving chunks: 100%|███████████████████████| 1/1 [02:33<00:00, 153.66s/it]\n"
     ]
    },
    {
     "name": "stdout",
     "output_type": "stream",
     "text": [
      "Estimation for 0.06999999999999999 and 0.25 done\n",
      "It took: 153.7972550392151 seconds.\n",
      "[0.8405197971590129, 0.07508336017900115]\n"
     ]
    },
    {
     "name": "stderr",
     "output_type": "stream",
     "text": [
      "Initial filtering of formulas: 100%|██████████████| 2/2 [00:00<00:00, 61.78it/s]\n",
      "Computing chunks: 100%|████████████████████████| 2/2 [00:00<00:00, 99864.38it/s]\n",
      "Splitting the experimental spectrum into chunks: 131072it [00:00, 3445081.77it/s]\n",
      "Deconvolving chunks: 100%|███████████████████████| 1/1 [02:11<00:00, 131.46s/it]\n"
     ]
    },
    {
     "name": "stdout",
     "output_type": "stream",
     "text": [
      "Estimation for 0.06999999999999999 and 0.26 done\n",
      "It took: 131.6014528274536 seconds.\n",
      "[0.8403568335360129, 0.07533330402000116]\n"
     ]
    },
    {
     "name": "stderr",
     "output_type": "stream",
     "text": [
      "Initial filtering of formulas: 100%|██████████████| 2/2 [00:00<00:00, 63.56it/s]\n",
      "Computing chunks: 100%|████████████████████████| 2/2 [00:00<00:00, 79891.50it/s]\n",
      "Splitting the experimental spectrum into chunks: 131072it [00:00, 3479775.51it/s]\n",
      "Deconvolving chunks: 100%|███████████████████████| 1/1 [02:17<00:00, 137.58s/it]\n"
     ]
    },
    {
     "name": "stdout",
     "output_type": "stream",
     "text": [
      "Estimation for 0.06999999999999999 and 0.27 done\n",
      "It took: 137.71834325790405 seconds.\n",
      "[0.8403709990320128, 0.07544673234700115]\n"
     ]
    },
    {
     "name": "stderr",
     "output_type": "stream",
     "text": [
      "Initial filtering of formulas: 100%|██████████████| 2/2 [00:00<00:00, 63.41it/s]\n",
      "Computing chunks: 100%|████████████████████████| 2/2 [00:00<00:00, 54827.50it/s]\n",
      "Splitting the experimental spectrum into chunks: 131072it [00:00, 3440575.61it/s]\n",
      "Deconvolving chunks: 100%|███████████████████████| 1/1 [02:15<00:00, 135.84s/it]\n"
     ]
    },
    {
     "name": "stdout",
     "output_type": "stream",
     "text": [
      "Estimation for 0.06999999999999999 and 0.28 done\n",
      "It took: 135.9754343032837 seconds.\n",
      "[0.8404906134010128, 0.07550643729400115]\n"
     ]
    },
    {
     "name": "stderr",
     "output_type": "stream",
     "text": [
      "Initial filtering of formulas: 100%|██████████████| 2/2 [00:00<00:00, 61.74it/s]\n",
      "Computing chunks: 100%|████████████████████████| 2/2 [00:00<00:00, 71697.50it/s]\n",
      "Splitting the experimental spectrum into chunks: 131072it [00:00, 3479995.78it/s]\n",
      "Deconvolving chunks: 100%|███████████████████████| 1/1 [02:38<00:00, 158.03s/it]\n"
     ]
    },
    {
     "name": "stdout",
     "output_type": "stream",
     "text": [
      "Estimation for 0.06999999999999999 and 0.29000000000000004 done\n",
      "It took: 158.17616868019104 seconds.\n",
      "[0.8406405611270129, 0.07564297388500117]\n"
     ]
    },
    {
     "name": "stderr",
     "output_type": "stream",
     "text": [
      "Initial filtering of formulas: 100%|██████████████| 2/2 [00:00<00:00, 59.93it/s]\n",
      "Computing chunks: 100%|████████████████████████| 2/2 [00:00<00:00, 96420.78it/s]\n",
      "Splitting the experimental spectrum into chunks: 131072it [00:00, 3347352.67it/s]\n",
      "Deconvolving chunks: 100%|███████████████████████| 1/1 [02:46<00:00, 166.06s/it]\n"
     ]
    },
    {
     "name": "stdout",
     "output_type": "stream",
     "text": [
      "Estimation for 0.08 and 0.01 done\n",
      "It took: 166.20694184303284 seconds.\n",
      "[0.849595000470013, 0.13250508513000203]\n"
     ]
    },
    {
     "name": "stderr",
     "output_type": "stream",
     "text": [
      "Initial filtering of formulas: 100%|██████████████| 2/2 [00:00<00:00, 56.44it/s]\n",
      "Computing chunks: 100%|████████████████████████| 2/2 [00:00<00:00, 71697.50it/s]\n",
      "Splitting the experimental spectrum into chunks: 131072it [00:00, 3118509.56it/s]\n",
      "Deconvolving chunks: 100%|███████████████████████| 1/1 [02:14<00:00, 134.67s/it]\n"
     ]
    },
    {
     "name": "stdout",
     "output_type": "stream",
     "text": [
      "Estimation for 0.08 and 0.02 done\n",
      "It took: 134.82155466079712 seconds.\n",
      "[0.8596504871840132, 0.09832640699700151]\n"
     ]
    },
    {
     "name": "stderr",
     "output_type": "stream",
     "text": [
      "Initial filtering of formulas: 100%|██████████████| 2/2 [00:00<00:00, 59.98it/s]\n",
      "Computing chunks: 100%|████████████████████████| 2/2 [00:00<00:00, 92182.51it/s]\n",
      "Splitting the experimental spectrum into chunks: 131072it [00:00, 3447609.52it/s]\n",
      "Deconvolving chunks: 100%|███████████████████████| 1/1 [02:11<00:00, 131.54s/it]\n"
     ]
    },
    {
     "name": "stdout",
     "output_type": "stream",
     "text": [
      "Estimation for 0.08 and 0.03 done\n",
      "It took: 131.69102883338928 seconds.\n",
      "[0.845149467061013, 0.10454453607200159]\n"
     ]
    },
    {
     "name": "stderr",
     "output_type": "stream",
     "text": [
      "Initial filtering of formulas: 100%|██████████████| 2/2 [00:00<00:00, 64.96it/s]\n",
      "Computing chunks: 100%|████████████████████████| 2/2 [00:00<00:00, 87381.33it/s]\n",
      "Splitting the experimental spectrum into chunks: 131072it [00:00, 3500893.53it/s]\n",
      "Deconvolving chunks: 100%|███████████████████████| 1/1 [02:06<00:00, 126.90s/it]\n"
     ]
    },
    {
     "name": "stdout",
     "output_type": "stream",
     "text": [
      "Estimation for 0.08 and 0.04 done\n",
      "It took: 127.0358452796936 seconds.\n",
      "[0.8415175080800129, 0.10550901052500161]\n"
     ]
    },
    {
     "name": "stderr",
     "output_type": "stream",
     "text": [
      "Initial filtering of formulas: 100%|██████████████| 2/2 [00:00<00:00, 61.73it/s]\n",
      "Computing chunks: 100%|████████████████████████| 2/2 [00:00<00:00, 48210.39it/s]\n",
      "Splitting the experimental spectrum into chunks: 131072it [00:00, 3446355.98it/s]\n",
      "Deconvolving chunks: 100%|███████████████████████| 1/1 [02:10<00:00, 130.99s/it]\n"
     ]
    },
    {
     "name": "stdout",
     "output_type": "stream",
     "text": [
      "Estimation for 0.08 and 0.05 done\n",
      "It took: 131.13824701309204 seconds.\n",
      "[0.8397485394180129, 0.10566484628900162]\n"
     ]
    },
    {
     "name": "stderr",
     "output_type": "stream",
     "text": [
      "Initial filtering of formulas: 100%|██████████████| 2/2 [00:00<00:00, 50.70it/s]\n",
      "Computing chunks: 100%|████████████████████████| 2/2 [00:00<00:00, 95325.09it/s]\n",
      "Splitting the experimental spectrum into chunks: 131072it [00:00, 3269864.71it/s]\n",
      "Deconvolving chunks: 100%|███████████████████████| 1/1 [02:11<00:00, 131.81s/it]\n"
     ]
    },
    {
     "name": "stdout",
     "output_type": "stream",
     "text": [
      "Estimation for 0.08 and 0.060000000000000005 done\n",
      "It took: 131.99460768699646 seconds.\n",
      "[0.8377462402410129, 0.10560225780700162]\n"
     ]
    },
    {
     "name": "stderr",
     "output_type": "stream",
     "text": [
      "Initial filtering of formulas: 100%|██████████████| 2/2 [00:00<00:00, 61.37it/s]\n",
      "Computing chunks: 100%|████████████████████████| 2/2 [00:00<00:00, 74235.47it/s]\n",
      "Splitting the experimental spectrum into chunks: 131072it [00:00, 3375717.28it/s]\n",
      "Deconvolving chunks: 100%|███████████████████████| 1/1 [02:10<00:00, 130.53s/it]\n"
     ]
    },
    {
     "name": "stdout",
     "output_type": "stream",
     "text": [
      "Estimation for 0.08 and 0.06999999999999999 done\n",
      "It took: 130.67581129074097 seconds.\n",
      "[0.8366625648880127, 0.1054982482300016]\n"
     ]
    },
    {
     "name": "stderr",
     "output_type": "stream",
     "text": [
      "Initial filtering of formulas: 100%|██████████████| 2/2 [00:00<00:00, 59.84it/s]\n",
      "Computing chunks: 100%|████████████████████████| 2/2 [00:00<00:00, 45343.83it/s]\n",
      "Splitting the experimental spectrum into chunks: 131072it [00:00, 3219521.39it/s]\n",
      "Deconvolving chunks: 100%|███████████████████████| 1/1 [02:09<00:00, 129.75s/it]\n"
     ]
    },
    {
     "name": "stdout",
     "output_type": "stream",
     "text": [
      "Estimation for 0.08 and 0.08 done\n",
      "It took: 129.89548635482788 seconds.\n",
      "[0.8356253900840128, 0.10523376997000161]\n"
     ]
    },
    {
     "name": "stderr",
     "output_type": "stream",
     "text": [
      "Initial filtering of formulas: 100%|██████████████| 2/2 [00:00<00:00, 61.53it/s]\n",
      "Computing chunks: 100%|████████████████████████| 2/2 [00:00<00:00, 74898.29it/s]\n",
      "Splitting the experimental spectrum into chunks: 131072it [00:00, 3354460.45it/s]\n",
      "Deconvolving chunks: 100%|███████████████████████| 1/1 [02:41<00:00, 161.25s/it]\n"
     ]
    },
    {
     "name": "stdout",
     "output_type": "stream",
     "text": [
      "Estimation for 0.08 and 0.09 done\n",
      "It took: 161.41829133033752 seconds.\n",
      "[0.8347667347050127, 0.1052833051900016]\n"
     ]
    },
    {
     "name": "stderr",
     "output_type": "stream",
     "text": [
      "Initial filtering of formulas: 100%|██████████████| 2/2 [00:00<00:00, 61.10it/s]\n",
      "Computing chunks: 100%|████████████████████████| 2/2 [00:00<00:00, 93206.76it/s]\n",
      "Splitting the experimental spectrum into chunks: 131072it [00:00, 3411835.10it/s]\n",
      "Deconvolving chunks: 100%|███████████████████████| 1/1 [02:11<00:00, 131.54s/it]\n"
     ]
    },
    {
     "name": "stdout",
     "output_type": "stream",
     "text": [
      "Estimation for 0.08 and 0.09999999999999999 done\n",
      "It took: 131.68093299865723 seconds.\n",
      "[0.8339484214620128, 0.10531091951700161]\n"
     ]
    },
    {
     "name": "stderr",
     "output_type": "stream",
     "text": [
      "Initial filtering of formulas: 100%|██████████████| 2/2 [00:00<00:00, 61.24it/s]\n",
      "Computing chunks: 100%|████████████████████████| 2/2 [00:00<00:00, 74235.47it/s]\n",
      "Splitting the experimental spectrum into chunks: 131072it [00:00, 3446334.38it/s]\n",
      "Deconvolving chunks: 100%|███████████████████████| 1/1 [02:10<00:00, 130.57s/it]\n"
     ]
    },
    {
     "name": "stdout",
     "output_type": "stream",
     "text": [
      "Estimation for 0.08 and 0.11 done\n",
      "It took: 130.71224999427795 seconds.\n",
      "[0.8334068830060127, 0.1052710755030016]\n"
     ]
    },
    {
     "name": "stderr",
     "output_type": "stream",
     "text": [
      "Initial filtering of formulas: 100%|██████████████| 2/2 [00:00<00:00, 62.34it/s]\n",
      "Computing chunks: 100%|████████████████████████| 2/2 [00:00<00:00, 85598.04it/s]\n",
      "Splitting the experimental spectrum into chunks: 131072it [00:00, 3431020.30it/s]\n",
      "Deconvolving chunks: 100%|███████████████████████| 1/1 [02:11<00:00, 131.10s/it]\n"
     ]
    },
    {
     "name": "stdout",
     "output_type": "stream",
     "text": [
      "Estimation for 0.08 and 0.12 done\n",
      "It took: 131.23901343345642 seconds.\n",
      "[0.8314121805090128, 0.10520645933000161]\n"
     ]
    },
    {
     "name": "stderr",
     "output_type": "stream",
     "text": [
      "Initial filtering of formulas: 100%|██████████████| 2/2 [00:00<00:00, 61.57it/s]\n",
      "Computing chunks: 100%|████████████████████████| 2/2 [00:00<00:00, 91180.52it/s]\n",
      "Splitting the experimental spectrum into chunks: 131072it [00:00, 3439972.81it/s]\n",
      "Deconvolving chunks: 100%|███████████████████████| 1/1 [02:11<00:00, 131.44s/it]\n"
     ]
    },
    {
     "name": "stdout",
     "output_type": "stream",
     "text": [
      "Estimation for 0.08 and 0.13 done\n",
      "It took: 131.6070625782013 seconds.\n",
      "[0.8289883127110127, 0.10518493018900162]\n"
     ]
    },
    {
     "name": "stderr",
     "output_type": "stream",
     "text": [
      "Initial filtering of formulas: 100%|██████████████| 2/2 [00:00<00:00, 62.38it/s]\n",
      "Computing chunks: 100%|████████████████████████| 2/2 [00:00<00:00, 98689.51it/s]\n",
      "Splitting the experimental spectrum into chunks: 131072it [00:00, 3450617.39it/s]\n",
      "Deconvolving chunks: 100%|███████████████████████| 1/1 [02:08<00:00, 128.06s/it]\n"
     ]
    },
    {
     "name": "stdout",
     "output_type": "stream",
     "text": [
      "Estimation for 0.08 and 0.14 done\n",
      "It took: 128.19588899612427 seconds.\n",
      "[0.8289175830950126, 0.10464473835000161]\n"
     ]
    },
    {
     "name": "stderr",
     "output_type": "stream",
     "text": [
      "Initial filtering of formulas: 100%|██████████████| 2/2 [00:00<00:00, 60.56it/s]\n",
      "Computing chunks: 100%|████████████████████████| 2/2 [00:00<00:00, 85598.04it/s]\n",
      "Splitting the experimental spectrum into chunks: 131072it [00:00, 3426849.85it/s]\n",
      "Deconvolving chunks: 100%|███████████████████████| 1/1 [02:13<00:00, 133.15s/it]\n"
     ]
    },
    {
     "name": "stdout",
     "output_type": "stream",
     "text": [
      "Estimation for 0.08 and 0.15000000000000002 done\n",
      "It took: 133.28883600234985 seconds.\n",
      "[0.8289467458640126, 0.10420771417300159]\n"
     ]
    },
    {
     "name": "stderr",
     "output_type": "stream",
     "text": [
      "Initial filtering of formulas: 100%|██████████████| 2/2 [00:00<00:00, 60.77it/s]\n",
      "Computing chunks: 100%|████████████████████████| 2/2 [00:00<00:00, 91180.52it/s]\n",
      "Splitting the experimental spectrum into chunks: 131072it [00:00, 3459171.91it/s]\n",
      "Deconvolving chunks: 100%|██████████████████████| 1/1 [25:13<00:00, 1513.47s/it]\n"
     ]
    },
    {
     "name": "stdout",
     "output_type": "stream",
     "text": [
      "Estimation for 0.08 and 0.16 done\n",
      "It took: 1513.636462211609 seconds.\n",
      "[0.8288453786890126, 0.1040734560460016]\n"
     ]
    },
    {
     "name": "stderr",
     "output_type": "stream",
     "text": [
      "Initial filtering of formulas: 100%|██████████████| 2/2 [00:00<00:00, 62.98it/s]\n",
      "Computing chunks: 100%|████████████████████████| 2/2 [00:00<00:00, 89240.51it/s]\n",
      "Splitting the experimental spectrum into chunks: 131072it [00:00, 3563110.06it/s]\n",
      "Deconvolving chunks: 100%|███████████████████████| 1/1 [02:18<00:00, 138.24s/it]\n"
     ]
    },
    {
     "name": "stdout",
     "output_type": "stream",
     "text": [
      "Estimation for 0.08 and 0.17 done\n",
      "It took: 138.37963700294495 seconds.\n",
      "[0.8293153290090126, 0.10308472700500158]\n"
     ]
    },
    {
     "name": "stderr",
     "output_type": "stream",
     "text": [
      "Initial filtering of formulas: 100%|██████████████| 2/2 [00:00<00:00, 60.52it/s]\n",
      "Computing chunks: 100%|████████████████████████| 2/2 [00:00<00:00, 27962.03it/s]\n",
      "Splitting the experimental spectrum into chunks: 131072it [00:00, 3420985.64it/s]\n",
      "Deconvolving chunks: 100%|███████████████████████| 1/1 [02:19<00:00, 139.08s/it]\n"
     ]
    },
    {
     "name": "stdout",
     "output_type": "stream",
     "text": [
      "Estimation for 0.08 and 0.18000000000000002 done\n",
      "It took: 139.2183678150177 seconds.\n",
      "[0.8306219846510128, 0.10063592106900154]\n"
     ]
    },
    {
     "name": "stderr",
     "output_type": "stream",
     "text": [
      "Initial filtering of formulas: 100%|██████████████| 2/2 [00:00<00:00, 63.22it/s]\n",
      "Computing chunks: 100%|████████████████████████| 2/2 [00:00<00:00, 51463.85it/s]\n",
      "Splitting the experimental spectrum into chunks: 131072it [00:00, 3460391.22it/s]\n",
      "Deconvolving chunks: 100%|███████████████████████| 1/1 [02:20<00:00, 140.32s/it]\n"
     ]
    },
    {
     "name": "stdout",
     "output_type": "stream",
     "text": [
      "Estimation for 0.08 and 0.19 done\n",
      "It took: 140.4854896068573 seconds.\n",
      "[0.8345429426450127, 0.09423982323800144]\n"
     ]
    },
    {
     "name": "stderr",
     "output_type": "stream",
     "text": [
      "Initial filtering of formulas: 100%|██████████████| 2/2 [00:00<00:00, 62.89it/s]\n",
      "Computing chunks: 100%|████████████████████████| 2/2 [00:00<00:00, 34100.03it/s]\n",
      "Splitting the experimental spectrum into chunks: 131072it [00:00, 3492886.05it/s]\n",
      "Deconvolving chunks: 100%|███████████████████████| 1/1 [02:41<00:00, 161.42s/it]\n"
     ]
    },
    {
     "name": "stdout",
     "output_type": "stream",
     "text": [
      "Estimation for 0.08 and 0.2 done\n",
      "It took: 161.5886092185974 seconds.\n",
      "[0.8365965408280127, 0.09090271964400139]\n"
     ]
    },
    {
     "name": "stderr",
     "output_type": "stream",
     "text": [
      "Initial filtering of formulas: 100%|██████████████| 2/2 [00:00<00:00, 62.19it/s]\n",
      "Computing chunks: 100%|████████████████████████| 2/2 [00:00<00:00, 91180.52it/s]\n",
      "Splitting the experimental spectrum into chunks: 131072it [00:00, 3507639.29it/s]\n",
      "Deconvolving chunks: 100%|███████████████████████| 1/1 [02:43<00:00, 163.54s/it]\n"
     ]
    },
    {
     "name": "stdout",
     "output_type": "stream",
     "text": [
      "Estimation for 0.08 and 0.21000000000000002 done\n",
      "It took: 163.6808466911316 seconds.\n",
      "[0.8368814176480127, 0.08562375985900132]\n"
     ]
    },
    {
     "name": "stderr",
     "output_type": "stream",
     "text": [
      "Initial filtering of formulas: 100%|██████████████| 2/2 [00:00<00:00, 57.57it/s]\n",
      "Computing chunks: 100%|████████████████████████| 2/2 [00:00<00:00, 93206.76it/s]\n",
      "Splitting the experimental spectrum into chunks: 131072it [00:00, 3524776.17it/s]\n",
      "Deconvolving chunks: 100%|███████████████████████| 1/1 [02:19<00:00, 139.61s/it]\n"
     ]
    },
    {
     "name": "stdout",
     "output_type": "stream",
     "text": [
      "Estimation for 0.08 and 0.22 done\n",
      "It took: 139.77814435958862 seconds.\n",
      "[0.8373862820450129, 0.08438023712300129]\n"
     ]
    },
    {
     "name": "stderr",
     "output_type": "stream",
     "text": [
      "Initial filtering of formulas: 100%|██████████████| 2/2 [00:00<00:00, 55.20it/s]\n",
      "Computing chunks: 100%|████████████████████████| 2/2 [00:00<00:00, 36314.32it/s]\n",
      "Splitting the experimental spectrum into chunks: 131072it [00:00, 3186823.96it/s]\n",
      "Deconvolving chunks: 100%|███████████████████████| 1/1 [02:42<00:00, 162.32s/it]\n"
     ]
    },
    {
     "name": "stdout",
     "output_type": "stream",
     "text": [
      "Estimation for 0.08 and 0.23 done\n",
      "It took: 162.48127794265747 seconds.\n",
      "[0.8374139456290128, 0.08441782697800129]\n"
     ]
    },
    {
     "name": "stderr",
     "output_type": "stream",
     "text": [
      "Initial filtering of formulas: 100%|██████████████| 2/2 [00:00<00:00, 62.86it/s]\n",
      "Computing chunks: 100%|████████████████████████| 2/2 [00:00<00:00, 86480.49it/s]\n",
      "Splitting the experimental spectrum into chunks: 131072it [00:00, 3444434.23it/s]\n",
      "Deconvolving chunks: 100%|███████████████████████| 1/1 [02:40<00:00, 160.07s/it]\n"
     ]
    },
    {
     "name": "stdout",
     "output_type": "stream",
     "text": [
      "Estimation for 0.08 and 0.24000000000000002 done\n",
      "It took: 160.20830917358398 seconds.\n",
      "[0.8374934731950129, 0.0844015451520013]\n"
     ]
    },
    {
     "name": "stderr",
     "output_type": "stream",
     "text": [
      "Initial filtering of formulas: 100%|██████████████| 2/2 [00:00<00:00, 62.15it/s]\n",
      "Computing chunks: 100%|████████████████████████| 2/2 [00:00<00:00, 41527.76it/s]\n",
      "Splitting the experimental spectrum into chunks: 131072it [00:00, 3500336.27it/s]\n",
      "Deconvolving chunks: 100%|███████████████████████| 1/1 [02:09<00:00, 129.97s/it]\n"
     ]
    },
    {
     "name": "stdout",
     "output_type": "stream",
     "text": [
      "Estimation for 0.08 and 0.25 done\n",
      "It took: 130.1324827671051 seconds.\n",
      "[0.8375308327420129, 0.08450160096900129]\n"
     ]
    },
    {
     "name": "stderr",
     "output_type": "stream",
     "text": [
      "Initial filtering of formulas: 100%|██████████████| 2/2 [00:00<00:00, 61.31it/s]\n",
      "Computing chunks: 100%|████████████████████████| 2/2 [00:00<00:00, 42366.71it/s]\n",
      "Splitting the experimental spectrum into chunks: 131072it [00:00, 3351576.94it/s]\n",
      "Deconvolving chunks: 100%|███████████████████████| 1/1 [02:13<00:00, 133.10s/it]\n"
     ]
    },
    {
     "name": "stdout",
     "output_type": "stream",
     "text": [
      "Estimation for 0.08 and 0.26 done\n",
      "It took: 133.23857760429382 seconds.\n",
      "[0.8376867005590128, 0.08451244645400129]\n"
     ]
    },
    {
     "name": "stderr",
     "output_type": "stream",
     "text": [
      "Initial filtering of formulas: 100%|██████████████| 2/2 [00:00<00:00, 60.77it/s]\n",
      "Computing chunks: 100%|████████████████████████| 2/2 [00:00<00:00, 95325.09it/s]\n",
      "Splitting the experimental spectrum into chunks: 131072it [00:00, 3412364.54it/s]\n",
      "Deconvolving chunks: 100%|███████████████████████| 1/1 [02:38<00:00, 158.70s/it]\n"
     ]
    },
    {
     "name": "stdout",
     "output_type": "stream",
     "text": [
      "Estimation for 0.08 and 0.27 done\n",
      "It took: 158.86458945274353 seconds.\n",
      "[0.8378583618600128, 0.08459028504800128]\n"
     ]
    },
    {
     "name": "stderr",
     "output_type": "stream",
     "text": [
      "Initial filtering of formulas: 100%|██████████████| 2/2 [00:00<00:00, 63.06it/s]\n",
      "Computing chunks: 100%|████████████████████████| 2/2 [00:00<00:00, 79891.50it/s]\n",
      "Splitting the experimental spectrum into chunks: 131072it [00:00, 3393784.85it/s]\n",
      "Deconvolving chunks: 100%|███████████████████████| 1/1 [02:14<00:00, 134.73s/it]\n"
     ]
    },
    {
     "name": "stdout",
     "output_type": "stream",
     "text": [
      "Estimation for 0.08 and 0.28 done\n",
      "It took: 134.87503576278687 seconds.\n",
      "[0.8380841268640129, 0.0847200966070013]\n"
     ]
    },
    {
     "name": "stderr",
     "output_type": "stream",
     "text": [
      "Initial filtering of formulas: 100%|██████████████| 2/2 [00:00<00:00, 62.65it/s]\n",
      "Computing chunks: 100%|████████████████████████| 2/2 [00:00<00:00, 44384.17it/s]\n",
      "Splitting the experimental spectrum into chunks: 131072it [00:00, 3580701.31it/s]\n",
      "Deconvolving chunks: 100%|███████████████████████| 1/1 [02:10<00:00, 130.79s/it]\n"
     ]
    },
    {
     "name": "stdout",
     "output_type": "stream",
     "text": [
      "Estimation for 0.08 and 0.29000000000000004 done\n",
      "It took: 130.9298858642578 seconds.\n",
      "[0.8384101029640129, 0.0848570636680013]\n"
     ]
    },
    {
     "name": "stderr",
     "output_type": "stream",
     "text": [
      "Initial filtering of formulas: 100%|██████████████| 2/2 [00:00<00:00, 61.39it/s]\n",
      "Computing chunks: 100%|████████████████████████| 2/2 [00:00<00:00, 96420.78it/s]\n",
      "Splitting the experimental spectrum into chunks: 131072it [00:00, 3469191.34it/s]\n",
      "Deconvolving chunks: 100%|███████████████████████| 1/1 [02:40<00:00, 160.59s/it]\n"
     ]
    },
    {
     "name": "stdout",
     "output_type": "stream",
     "text": [
      "Estimation for 0.09 and 0.01 done\n",
      "It took: 160.75733041763306 seconds.\n",
      "[0.7947039948540122, 0.19083109432600293]\n"
     ]
    },
    {
     "name": "stderr",
     "output_type": "stream",
     "text": [
      "Initial filtering of formulas: 100%|██████████████| 2/2 [00:00<00:00, 60.96it/s]\n",
      "Computing chunks: 100%|████████████████████████| 2/2 [00:00<00:00, 93206.76it/s]\n",
      "Splitting the experimental spectrum into chunks: 131072it [00:00, 3258970.98it/s]\n",
      "Deconvolving chunks: 100%|███████████████████████| 1/1 [02:42<00:00, 162.50s/it]\n"
     ]
    },
    {
     "name": "stdout",
     "output_type": "stream",
     "text": [
      "Estimation for 0.09 and 0.02 done\n",
      "It took: 162.64640426635742 seconds.\n",
      "[0.8632787369710132, 0.0976277785630015]\n"
     ]
    },
    {
     "name": "stderr",
     "output_type": "stream",
     "text": [
      "Initial filtering of formulas: 100%|██████████████| 2/2 [00:00<00:00, 60.24it/s]\n",
      "Computing chunks: 100%|████████████████████████| 2/2 [00:00<00:00, 95325.09it/s]\n",
      "Splitting the experimental spectrum into chunks: 131072it [00:00, 3380512.31it/s]\n",
      "Deconvolving chunks: 100%|███████████████████████| 1/1 [02:44<00:00, 164.59s/it]\n"
     ]
    },
    {
     "name": "stdout",
     "output_type": "stream",
     "text": [
      "Estimation for 0.09 and 0.03 done\n",
      "It took: 164.76120567321777 seconds.\n",
      "[0.851485937789013, 0.1041754178080016]\n"
     ]
    },
    {
     "name": "stderr",
     "output_type": "stream",
     "text": [
      "Initial filtering of formulas: 100%|██████████████| 2/2 [00:00<00:00, 62.05it/s]\n",
      "Computing chunks: 100%|████████████████████████| 2/2 [00:00<00:00, 79137.81it/s]\n",
      "Splitting the experimental spectrum into chunks: 131072it [00:00, 3287403.73it/s]\n",
      "Deconvolving chunks: 100%|███████████████████████| 1/1 [02:13<00:00, 133.92s/it]\n"
     ]
    },
    {
     "name": "stdout",
     "output_type": "stream",
     "text": [
      "Estimation for 0.09 and 0.04 done\n",
      "It took: 134.06601548194885 seconds.\n",
      "[0.844203872553013, 0.10566425741200162]\n"
     ]
    },
    {
     "name": "stderr",
     "output_type": "stream",
     "text": [
      "Initial filtering of formulas: 100%|██████████████| 2/2 [00:00<00:00, 62.24it/s]\n",
      "Computing chunks: 100%|████████████████████████| 2/2 [00:00<00:00, 87381.33it/s]\n",
      "Splitting the experimental spectrum into chunks: 131072it [00:00, 3475397.88it/s]\n",
      "Deconvolving chunks: 100%|███████████████████████| 1/1 [02:09<00:00, 129.15s/it]\n"
     ]
    },
    {
     "name": "stdout",
     "output_type": "stream",
     "text": [
      "Estimation for 0.09 and 0.05 done\n",
      "It took: 129.28655695915222 seconds.\n",
      "[0.8430588454270129, 0.10560432708400162]\n"
     ]
    },
    {
     "name": "stderr",
     "output_type": "stream",
     "text": [
      "Initial filtering of formulas: 100%|██████████████| 2/2 [00:00<00:00, 62.27it/s]\n",
      "Computing chunks: 100%|████████████████████████| 2/2 [00:00<00:00, 95325.09it/s]\n",
      "Splitting the experimental spectrum into chunks: 131072it [00:00, 3439800.61it/s]\n",
      "Deconvolving chunks: 100%|███████████████████████| 1/1 [02:07<00:00, 127.18s/it]\n"
     ]
    },
    {
     "name": "stdout",
     "output_type": "stream",
     "text": [
      "Estimation for 0.09 and 0.060000000000000005 done\n",
      "It took: 127.34835577011108 seconds.\n",
      "[0.8421400554310129, 0.10547886809500161]\n"
     ]
    },
    {
     "name": "stderr",
     "output_type": "stream",
     "text": [
      "Initial filtering of formulas: 100%|██████████████| 2/2 [00:00<00:00, 62.66it/s]\n",
      "Computing chunks: 100%|████████████████████████| 2/2 [00:00<00:00, 83886.08it/s]\n",
      "Splitting the experimental spectrum into chunks: 131072it [00:00, 3448085.24it/s]\n",
      "Deconvolving chunks: 100%|███████████████████████| 1/1 [02:13<00:00, 133.01s/it]\n"
     ]
    },
    {
     "name": "stdout",
     "output_type": "stream",
     "text": [
      "Estimation for 0.09 and 0.06999999999999999 done\n",
      "It took: 133.15386056900024 seconds.\n",
      "[0.8400496539520129, 0.10550226081000161]\n"
     ]
    },
    {
     "name": "stderr",
     "output_type": "stream",
     "text": [
      "Initial filtering of formulas: 100%|██████████████| 2/2 [00:00<00:00, 56.54it/s]\n",
      "Computing chunks: 100%|████████████████████████| 2/2 [00:00<00:00, 96420.78it/s]\n",
      "Splitting the experimental spectrum into chunks: 131072it [00:00, 3125619.37it/s]\n",
      "Deconvolving chunks: 100%|███████████████████████| 1/1 [02:11<00:00, 131.69s/it]\n"
     ]
    },
    {
     "name": "stdout",
     "output_type": "stream",
     "text": [
      "Estimation for 0.09 and 0.08 done\n",
      "It took: 131.85055255889893 seconds.\n",
      "[0.8385522189780129, 0.10548591150300161]\n"
     ]
    },
    {
     "name": "stderr",
     "output_type": "stream",
     "text": [
      "Initial filtering of formulas: 100%|██████████████| 2/2 [00:00<00:00, 60.48it/s]\n",
      "Computing chunks: 100%|████████████████████████| 2/2 [00:00<00:00, 73584.28it/s]\n",
      "Splitting the experimental spectrum into chunks: 131072it [00:00, 3313378.82it/s]\n",
      "Deconvolving chunks: 100%|███████████████████████| 1/1 [02:10<00:00, 130.70s/it]\n"
     ]
    },
    {
     "name": "stdout",
     "output_type": "stream",
     "text": [
      "Estimation for 0.09 and 0.09 done\n",
      "It took: 130.8436794281006 seconds.\n",
      "[0.8374214061080129, 0.10545220169900162]\n"
     ]
    },
    {
     "name": "stderr",
     "output_type": "stream",
     "text": [
      "Initial filtering of formulas: 100%|██████████████| 2/2 [00:00<00:00, 60.60it/s]\n",
      "Computing chunks: 100%|████████████████████████| 2/2 [00:00<00:00, 45590.26it/s]\n",
      "Splitting the experimental spectrum into chunks: 131072it [00:00, 3391419.07it/s]\n",
      "Deconvolving chunks: 100%|███████████████████████| 1/1 [02:15<00:00, 135.56s/it]\n"
     ]
    },
    {
     "name": "stdout",
     "output_type": "stream",
     "text": [
      "Estimation for 0.09 and 0.09999999999999999 done\n",
      "It took: 135.70740413665771 seconds.\n",
      "[0.8367247883180128, 0.10541660113900161]\n"
     ]
    },
    {
     "name": "stderr",
     "output_type": "stream",
     "text": [
      "Initial filtering of formulas: 100%|██████████████| 2/2 [00:00<00:00, 52.08it/s]\n",
      "Computing chunks: 100%|████████████████████████| 2/2 [00:00<00:00, 62137.84it/s]\n",
      "Splitting the experimental spectrum into chunks: 131072it [00:00, 3401028.27it/s]\n",
      "Deconvolving chunks: 100%|███████████████████████| 1/1 [02:15<00:00, 135.65s/it]\n"
     ]
    },
    {
     "name": "stdout",
     "output_type": "stream",
     "text": [
      "Estimation for 0.09 and 0.11 done\n",
      "It took: 135.80500078201294 seconds.\n",
      "[0.8362369563660128, 0.10538021943900161]\n"
     ]
    },
    {
     "name": "stderr",
     "output_type": "stream",
     "text": [
      "Initial filtering of formulas: 100%|██████████████| 2/2 [00:00<00:00, 60.98it/s]\n",
      "Computing chunks: 100%|████████████████████████| 2/2 [00:00<00:00, 71697.50it/s]\n",
      "Splitting the experimental spectrum into chunks: 131072it [00:00, 3384049.82it/s]\n",
      "Deconvolving chunks: 100%|███████████████████████| 1/1 [02:17<00:00, 137.98s/it]\n"
     ]
    },
    {
     "name": "stdout",
     "output_type": "stream",
     "text": [
      "Estimation for 0.09 and 0.12 done\n",
      "It took: 138.1547725200653 seconds.\n",
      "[0.8356479702440127, 0.10548807616600162]\n"
     ]
    },
    {
     "name": "stderr",
     "output_type": "stream",
     "text": [
      "Initial filtering of formulas: 100%|██████████████| 2/2 [00:00<00:00, 44.05it/s]\n",
      "Computing chunks: 100%|████████████████████████| 2/2 [00:00<00:00, 55924.05it/s]\n",
      "Splitting the experimental spectrum into chunks: 131072it [00:00, 2090191.18it/s]\n",
      "Deconvolving chunks: 100%|███████████████████████| 1/1 [02:16<00:00, 136.89s/it]\n"
     ]
    },
    {
     "name": "stdout",
     "output_type": "stream",
     "text": [
      "Estimation for 0.09 and 0.13 done\n",
      "It took: 137.09604501724243 seconds.\n",
      "[0.8347468248070128, 0.10557444236200163]\n"
     ]
    },
    {
     "name": "stderr",
     "output_type": "stream",
     "text": [
      "Initial filtering of formulas: 100%|██████████████| 2/2 [00:00<00:00, 62.15it/s]\n",
      "Computing chunks: 100%|████████████████████████| 2/2 [00:00<00:00, 95325.09it/s]\n",
      "Splitting the experimental spectrum into chunks: 131072it [00:00, 3315237.05it/s]\n",
      "Deconvolving chunks: 100%|███████████████████████| 1/1 [02:18<00:00, 138.79s/it]\n"
     ]
    },
    {
     "name": "stdout",
     "output_type": "stream",
     "text": [
      "Estimation for 0.09 and 0.14 done\n",
      "It took: 138.96677470207214 seconds.\n",
      "[0.8338318981420128, 0.10552414390200161]\n"
     ]
    },
    {
     "name": "stderr",
     "output_type": "stream",
     "text": [
      "Initial filtering of formulas: 100%|██████████████| 2/2 [00:00<00:00, 57.62it/s]\n",
      "Computing chunks: 100%|████████████████████████| 2/2 [00:00<00:00, 51150.05it/s]\n",
      "Splitting the experimental spectrum into chunks: 131072it [00:00, 3056899.23it/s]\n",
      "Deconvolving chunks: 100%|███████████████████████| 1/1 [02:20<00:00, 140.41s/it]\n"
     ]
    },
    {
     "name": "stdout",
     "output_type": "stream",
     "text": [
      "Estimation for 0.09 and 0.15000000000000002 done\n",
      "It took: 140.56678175926208 seconds.\n",
      "[0.8338486061390128, 0.10492207917700161]\n"
     ]
    },
    {
     "name": "stderr",
     "output_type": "stream",
     "text": [
      "Initial filtering of formulas: 100%|██████████████| 2/2 [00:00<00:00, 58.74it/s]\n",
      "Computing chunks: 100%|████████████████████████| 2/2 [00:00<00:00, 83886.08it/s]\n",
      "Splitting the experimental spectrum into chunks: 131072it [00:00, 3365014.10it/s]\n",
      "Deconvolving chunks: 100%|███████████████████████| 1/1 [02:40<00:00, 160.84s/it]\n"
     ]
    },
    {
     "name": "stdout",
     "output_type": "stream",
     "text": [
      "Estimation for 0.09 and 0.16 done\n",
      "It took: 160.98811650276184 seconds.\n",
      "[0.8336399565390128, 0.1047028203680016]\n"
     ]
    },
    {
     "name": "stderr",
     "output_type": "stream",
     "text": [
      "Initial filtering of formulas: 100%|██████████████| 2/2 [00:00<00:00, 61.91it/s]\n",
      "Computing chunks: 100%|████████████████████████| 2/2 [00:00<00:00, 85598.04it/s]\n",
      "Splitting the experimental spectrum into chunks: 131072it [00:00, 3343586.37it/s]\n",
      "Deconvolving chunks: 100%|███████████████████████| 1/1 [02:17<00:00, 137.41s/it]\n"
     ]
    },
    {
     "name": "stdout",
     "output_type": "stream",
     "text": [
      "Estimation for 0.09 and 0.17 done\n",
      "It took: 137.5535306930542 seconds.\n",
      "[0.8334463583760128, 0.1044511454930016]\n"
     ]
    },
    {
     "name": "stderr",
     "output_type": "stream",
     "text": [
      "Initial filtering of formulas: 100%|██████████████| 2/2 [00:00<00:00, 61.30it/s]\n",
      "Computing chunks: 100%|████████████████████████| 2/2 [00:00<00:00, 96420.78it/s]\n",
      "Splitting the experimental spectrum into chunks: 131072it [00:00, 3458062.21it/s]\n",
      "Deconvolving chunks: 100%|███████████████████████| 1/1 [02:12<00:00, 132.71s/it]\n"
     ]
    },
    {
     "name": "stdout",
     "output_type": "stream",
     "text": [
      "Estimation for 0.09 and 0.18000000000000002 done\n",
      "It took: 132.85552048683167 seconds.\n",
      "[0.8332957391340128, 0.1041189364760016]\n"
     ]
    },
    {
     "name": "stderr",
     "output_type": "stream",
     "text": [
      "Initial filtering of formulas: 100%|██████████████| 2/2 [00:00<00:00, 64.96it/s]\n",
      "Computing chunks: 100%|████████████████████████| 2/2 [00:00<00:00, 58254.22it/s]\n",
      "Splitting the experimental spectrum into chunks: 131072it [00:00, 3541556.49it/s]\n",
      "Deconvolving chunks: 100%|███████████████████████| 1/1 [02:28<00:00, 148.21s/it]\n"
     ]
    },
    {
     "name": "stdout",
     "output_type": "stream",
     "text": [
      "Estimation for 0.09 and 0.19 done\n",
      "It took: 148.3483419418335 seconds.\n",
      "[0.8330188946730128, 0.1039739714090016]\n"
     ]
    },
    {
     "name": "stderr",
     "output_type": "stream",
     "text": [
      "Initial filtering of formulas: 100%|██████████████| 2/2 [00:00<00:00, 62.77it/s]\n",
      "Computing chunks: 100%|████████████████████████| 2/2 [00:00<00:00, 61230.72it/s]\n",
      "Splitting the experimental spectrum into chunks: 131072it [00:00, 3441824.94it/s]\n",
      "Deconvolving chunks: 100%|███████████████████████| 1/1 [02:07<00:00, 127.30s/it]\n"
     ]
    },
    {
     "name": "stdout",
     "output_type": "stream",
     "text": [
      "Estimation for 0.09 and 0.2 done\n",
      "It took: 127.44413328170776 seconds.\n",
      "[0.8332937424290128, 0.10296798255800159]\n"
     ]
    },
    {
     "name": "stderr",
     "output_type": "stream",
     "text": [
      "Initial filtering of formulas: 100%|██████████████| 2/2 [00:00<00:00, 64.26it/s]\n",
      "Computing chunks: 100%|████████████████████████| 2/2 [00:00<00:00, 89240.51it/s]\n",
      "Splitting the experimental spectrum into chunks: 131072it [00:00, 3477046.45it/s]\n",
      "Deconvolving chunks: 100%|███████████████████████| 1/1 [02:09<00:00, 129.40s/it]\n"
     ]
    },
    {
     "name": "stdout",
     "output_type": "stream",
     "text": [
      "Estimation for 0.09 and 0.21000000000000002 done\n",
      "It took: 129.54135608673096 seconds.\n",
      "[0.8353120658360128, 0.09898393975300152]\n"
     ]
    },
    {
     "name": "stderr",
     "output_type": "stream",
     "text": [
      "Initial filtering of formulas: 100%|██████████████| 2/2 [00:00<00:00, 62.72it/s]\n",
      "Computing chunks: 100%|████████████████████████| 2/2 [00:00<00:00, 48489.06it/s]\n",
      "Splitting the experimental spectrum into chunks: 131072it [00:00, 3179249.44it/s]\n",
      "Deconvolving chunks: 100%|███████████████████████| 1/1 [02:08<00:00, 128.55s/it]\n"
     ]
    },
    {
     "name": "stdout",
     "output_type": "stream",
     "text": [
      "Estimation for 0.09 and 0.22 done\n",
      "It took: 128.6925344467163 seconds.\n",
      "[0.8373730082470129, 0.0914843556720014]\n"
     ]
    },
    {
     "name": "stderr",
     "output_type": "stream",
     "text": [
      "Initial filtering of formulas: 100%|██████████████| 2/2 [00:00<00:00, 58.65it/s]\n",
      "Computing chunks: 100%|████████████████████████| 2/2 [00:00<00:00, 14926.35it/s]\n",
      "Splitting the experimental spectrum into chunks: 131072it [00:00, 3405684.53it/s]\n",
      "Deconvolving chunks: 100%|███████████████████████| 1/1 [02:05<00:00, 125.75s/it]\n"
     ]
    },
    {
     "name": "stdout",
     "output_type": "stream",
     "text": [
      "Estimation for 0.09 and 0.23 done\n",
      "It took: 125.89556169509888 seconds.\n",
      "[0.8373454059970129, 0.0914274467340014]\n"
     ]
    },
    {
     "name": "stderr",
     "output_type": "stream",
     "text": [
      "Initial filtering of formulas: 100%|██████████████| 2/2 [00:00<00:00, 63.98it/s]\n",
      "Computing chunks: 100%|████████████████████████| 2/2 [00:00<00:00, 81442.80it/s]\n",
      "Splitting the experimental spectrum into chunks: 131072it [00:00, 3503682.50it/s]\n",
      "Deconvolving chunks: 100%|███████████████████████| 1/1 [02:30<00:00, 150.90s/it]\n"
     ]
    },
    {
     "name": "stdout",
     "output_type": "stream",
     "text": [
      "Estimation for 0.09 and 0.24000000000000002 done\n",
      "It took: 151.06545233726501 seconds.\n",
      "[0.8374444588180129, 0.0912006138330014]\n"
     ]
    },
    {
     "name": "stderr",
     "output_type": "stream",
     "text": [
      "Initial filtering of formulas: 100%|██████████████| 2/2 [00:00<00:00, 64.73it/s]\n",
      "Computing chunks: 100%|████████████████████████| 2/2 [00:00<00:00, 79891.50it/s]\n",
      "Splitting the experimental spectrum into chunks: 131072it [00:00, 3518775.01it/s]\n",
      "Deconvolving chunks: 100%|███████████████████████| 1/1 [02:07<00:00, 127.32s/it]\n"
     ]
    },
    {
     "name": "stdout",
     "output_type": "stream",
     "text": [
      "Estimation for 0.09 and 0.25 done\n",
      "It took: 127.48294520378113 seconds.\n",
      "[0.8375616044210129, 0.0910351391170014]\n"
     ]
    },
    {
     "name": "stderr",
     "output_type": "stream",
     "text": [
      "Initial filtering of formulas: 100%|██████████████| 2/2 [00:00<00:00, 61.73it/s]\n",
      "Computing chunks: 100%|████████████████████████| 2/2 [00:00<00:00, 97541.95it/s]\n",
      "Splitting the experimental spectrum into chunks: 131072it [00:00, 3441243.24it/s]\n",
      "Deconvolving chunks: 100%|███████████████████████| 1/1 [02:25<00:00, 145.94s/it]\n"
     ]
    },
    {
     "name": "stdout",
     "output_type": "stream",
     "text": [
      "Estimation for 0.09 and 0.26 done\n",
      "It took: 146.07838034629822 seconds.\n",
      "[0.8378395686930129, 0.09075937747300139]\n"
     ]
    },
    {
     "name": "stderr",
     "output_type": "stream",
     "text": [
      "Initial filtering of formulas: 100%|██████████████| 2/2 [00:00<00:00, 63.96it/s]\n",
      "Computing chunks: 100%|████████████████████████| 2/2 [00:00<00:00, 88301.14it/s]\n",
      "Splitting the experimental spectrum into chunks: 131072it [00:00, 3518347.14it/s]\n",
      "Deconvolving chunks: 100%|███████████████████████| 1/1 [02:29<00:00, 149.30s/it]\n"
     ]
    },
    {
     "name": "stdout",
     "output_type": "stream",
     "text": [
      "Estimation for 0.09 and 0.27 done\n",
      "It took: 149.43929839134216 seconds.\n",
      "[0.8381081075610128, 0.09065762184400139]\n"
     ]
    },
    {
     "name": "stderr",
     "output_type": "stream",
     "text": [
      "Initial filtering of formulas: 100%|██████████████| 2/2 [00:00<00:00, 63.70it/s]\n",
      "Computing chunks: 100%|████████████████████████| 2/2 [00:00<00:00, 91180.52it/s]\n",
      "Splitting the experimental spectrum into chunks: 131072it [00:00, 3507594.53it/s]\n",
      "Deconvolving chunks: 100%|███████████████████████| 1/1 [02:17<00:00, 137.75s/it]\n"
     ]
    },
    {
     "name": "stdout",
     "output_type": "stream",
     "text": [
      "Estimation for 0.09 and 0.28 done\n",
      "It took: 137.88855910301208 seconds.\n",
      "[0.8385623245660129, 0.09042336366600139]\n"
     ]
    },
    {
     "name": "stderr",
     "output_type": "stream",
     "text": [
      "Initial filtering of formulas: 100%|██████████████| 2/2 [00:00<00:00, 63.48it/s]\n",
      "Computing chunks: 100%|████████████████████████| 2/2 [00:00<00:00, 81442.80it/s]\n",
      "Splitting the experimental spectrum into chunks: 131072it [00:00, 3472193.15it/s]\n",
      "Deconvolving chunks: 100%|███████████████████████| 1/1 [02:05<00:00, 125.13s/it]\n"
     ]
    },
    {
     "name": "stdout",
     "output_type": "stream",
     "text": [
      "Estimation for 0.09 and 0.29000000000000004 done\n",
      "It took: 125.26581883430481 seconds.\n",
      "[0.8389362623070129, 0.09030247588700138]\n"
     ]
    },
    {
     "name": "stderr",
     "output_type": "stream",
     "text": [
      "Initial filtering of formulas: 100%|██████████████| 2/2 [00:00<00:00, 57.44it/s]\n",
      "Computing chunks: 100%|████████████████████████| 2/2 [00:00<00:00, 90200.09it/s]\n",
      "Splitting the experimental spectrum into chunks: 131072it [00:00, 3318218.56it/s]\n",
      "Deconvolving chunks: 100%|███████████████████████| 1/1 [01:46<00:00, 106.13s/it]\n"
     ]
    },
    {
     "name": "stdout",
     "output_type": "stream",
     "text": [
      "Estimation for 0.09999999999999999 and 0.01 done\n",
      "It took: 106.27618765830994 seconds.\n",
      "[0.7760371530920119, 0.21242316140900325]\n"
     ]
    },
    {
     "name": "stderr",
     "output_type": "stream",
     "text": [
      "Initial filtering of formulas: 100%|██████████████| 2/2 [00:00<00:00, 62.99it/s]\n",
      "Computing chunks: 100%|████████████████████████| 2/2 [00:00<00:00, 92182.51it/s]\n",
      "Splitting the experimental spectrum into chunks: 131072it [00:00, 3472522.13it/s]\n",
      "Deconvolving chunks: 100%|███████████████████████| 1/1 [02:26<00:00, 146.76s/it]\n"
     ]
    },
    {
     "name": "stdout",
     "output_type": "stream",
     "text": [
      "Estimation for 0.09999999999999999 and 0.02 done\n",
      "It took: 146.9182848930359 seconds.\n",
      "[0.8660428926290134, 0.09728396588600148]\n"
     ]
    },
    {
     "name": "stderr",
     "output_type": "stream",
     "text": [
      "Initial filtering of formulas: 100%|██████████████| 2/2 [00:00<00:00, 63.01it/s]\n",
      "Computing chunks: 100%|████████████████████████| 2/2 [00:00<00:00, 88301.14it/s]\n",
      "Splitting the experimental spectrum into chunks: 131072it [00:00, 3474233.84it/s]\n",
      "Deconvolving chunks: 100%|███████████████████████| 1/1 [02:00<00:00, 120.76s/it]\n"
     ]
    },
    {
     "name": "stdout",
     "output_type": "stream",
     "text": [
      "Estimation for 0.09999999999999999 and 0.03 done\n",
      "It took: 120.90181517601013 seconds.\n",
      "[0.8536919904500131, 0.10414627279000159]\n"
     ]
    },
    {
     "name": "stderr",
     "output_type": "stream",
     "text": [
      "Initial filtering of formulas: 100%|██████████████| 2/2 [00:00<00:00, 63.30it/s]\n",
      "Computing chunks: 100%|████████████████████████| 2/2 [00:00<00:00, 75573.05it/s]\n",
      "Splitting the experimental spectrum into chunks: 131072it [00:00, 3483921.30it/s]\n",
      "Deconvolving chunks: 100%|███████████████████████| 1/1 [01:56<00:00, 116.90s/it]\n"
     ]
    },
    {
     "name": "stdout",
     "output_type": "stream",
     "text": [
      "Estimation for 0.09999999999999999 and 0.04 done\n",
      "It took: 117.03896021842957 seconds.\n",
      "[0.848400178390013, 0.10548128046400161]\n"
     ]
    },
    {
     "name": "stderr",
     "output_type": "stream",
     "text": [
      "Initial filtering of formulas: 100%|██████████████| 2/2 [00:00<00:00, 63.15it/s]\n",
      "Computing chunks: 100%|████████████████████████| 2/2 [00:00<00:00, 83055.52it/s]\n",
      "Splitting the experimental spectrum into chunks: 131072it [00:00, 3509789.09it/s]\n",
      "Deconvolving chunks: 100%|███████████████████████| 1/1 [01:58<00:00, 118.24s/it]\n"
     ]
    },
    {
     "name": "stdout",
     "output_type": "stream",
     "text": [
      "Estimation for 0.09999999999999999 and 0.05 done\n",
      "It took: 118.37454605102539 seconds.\n",
      "[0.845556480596013, 0.10586467866100162]\n"
     ]
    },
    {
     "name": "stderr",
     "output_type": "stream",
     "text": [
      "Initial filtering of formulas: 100%|██████████████| 2/2 [00:00<00:00, 63.28it/s]\n",
      "Computing chunks: 100%|████████████████████████| 2/2 [00:00<00:00, 94254.02it/s]\n",
      "Splitting the experimental spectrum into chunks: 131072it [00:00, 3509968.36it/s]\n",
      "Deconvolving chunks: 100%|███████████████████████| 1/1 [01:55<00:00, 115.60s/it]\n"
     ]
    },
    {
     "name": "stdout",
     "output_type": "stream",
     "text": [
      "Estimation for 0.09999999999999999 and 0.060000000000000005 done\n",
      "It took: 115.74337410926819 seconds.\n",
      "[0.844597037304013, 0.10553033722600162]\n"
     ]
    },
    {
     "name": "stderr",
     "output_type": "stream",
     "text": [
      "Initial filtering of formulas: 100%|██████████████| 2/2 [00:00<00:00, 62.88it/s]\n",
      "Computing chunks: 100%|████████████████████████| 2/2 [00:00<00:00, 89240.51it/s]\n",
      "Splitting the experimental spectrum into chunks: 131072it [00:00, 3482089.76it/s]\n",
      "Deconvolving chunks: 100%|███████████████████████| 1/1 [02:01<00:00, 121.06s/it]\n"
     ]
    },
    {
     "name": "stdout",
     "output_type": "stream",
     "text": [
      "Estimation for 0.09999999999999999 and 0.06999999999999999 done\n",
      "It took: 121.1956536769867 seconds.\n",
      "[0.8441190788940128, 0.10538067915300162]\n"
     ]
    },
    {
     "name": "stderr",
     "output_type": "stream",
     "text": [
      "Initial filtering of formulas: 100%|██████████████| 2/2 [00:00<00:00, 63.11it/s]\n",
      "Computing chunks: 100%|████████████████████████| 2/2 [00:00<00:00, 77672.30it/s]\n",
      "Splitting the experimental spectrum into chunks: 131072it [00:00, 3493063.59it/s]\n",
      "Deconvolving chunks: 100%|███████████████████████| 1/1 [02:03<00:00, 123.30s/it]\n"
     ]
    },
    {
     "name": "stdout",
     "output_type": "stream",
     "text": [
      "Estimation for 0.09999999999999999 and 0.08 done\n",
      "It took: 123.44370245933533 seconds.\n",
      "[0.8422212795000129, 0.10550870794000161]\n"
     ]
    },
    {
     "name": "stderr",
     "output_type": "stream",
     "text": [
      "Initial filtering of formulas: 100%|██████████████| 2/2 [00:00<00:00, 63.07it/s]\n",
      "Computing chunks: 100%|████████████████████████| 2/2 [00:00<00:00, 94254.02it/s]\n",
      "Splitting the experimental spectrum into chunks: 131072it [00:00, 3495217.78it/s]\n",
      "Deconvolving chunks: 100%|███████████████████████| 1/1 [02:01<00:00, 121.80s/it]\n"
     ]
    },
    {
     "name": "stdout",
     "output_type": "stream",
     "text": [
      "Estimation for 0.09999999999999999 and 0.09 done\n",
      "It took: 121.94119715690613 seconds.\n",
      "[0.8421777913600129, 0.10578850810500162]\n"
     ]
    },
    {
     "name": "stderr",
     "output_type": "stream",
     "text": [
      "Initial filtering of formulas: 100%|██████████████| 2/2 [00:00<00:00, 64.58it/s]\n",
      "Computing chunks: 100%|████████████████████████| 2/2 [00:00<00:00, 95325.09it/s]\n",
      "Splitting the experimental spectrum into chunks: 131072it [00:00, 3469038.11it/s]\n",
      "Deconvolving chunks: 100%|███████████████████████| 1/1 [02:02<00:00, 122.71s/it]\n"
     ]
    },
    {
     "name": "stdout",
     "output_type": "stream",
     "text": [
      "Estimation for 0.09999999999999999 and 0.09999999999999999 done\n",
      "It took: 122.85092425346375 seconds.\n",
      "[0.8422365067310129, 0.10584471413100162]\n"
     ]
    },
    {
     "name": "stderr",
     "output_type": "stream",
     "text": [
      "Initial filtering of formulas: 100%|██████████████| 2/2 [00:00<00:00, 63.97it/s]\n",
      "Computing chunks: 100%|████████████████████████| 2/2 [00:00<00:00, 89240.51it/s]\n",
      "Splitting the experimental spectrum into chunks: 131072it [00:00, 3500960.41it/s]\n",
      "Deconvolving chunks: 100%|███████████████████████| 1/1 [02:03<00:00, 123.34s/it]\n"
     ]
    },
    {
     "name": "stdout",
     "output_type": "stream",
     "text": [
      "Estimation for 0.09999999999999999 and 0.11 done\n",
      "It took: 123.47618269920349 seconds.\n",
      "[0.8413281931880129, 0.10571972312100163]\n"
     ]
    },
    {
     "name": "stderr",
     "output_type": "stream",
     "text": [
      "Initial filtering of formulas: 100%|██████████████| 2/2 [00:00<00:00, 63.93it/s]\n",
      "Computing chunks: 100%|████████████████████████| 2/2 [00:00<00:00, 96420.78it/s]\n",
      "Splitting the experimental spectrum into chunks: 131072it [00:00, 3497686.14it/s]\n",
      "Deconvolving chunks: 100%|███████████████████████| 1/1 [01:58<00:00, 118.95s/it]\n"
     ]
    },
    {
     "name": "stdout",
     "output_type": "stream",
     "text": [
      "Estimation for 0.09999999999999999 and 0.12 done\n",
      "It took: 119.10410165786743 seconds.\n",
      "[0.8429180456380129, 0.10589657554700162]\n"
     ]
    },
    {
     "name": "stderr",
     "output_type": "stream",
     "text": [
      "Initial filtering of formulas: 100%|██████████████| 2/2 [00:00<00:00, 63.72it/s]\n",
      "Computing chunks: 100%|████████████████████████| 2/2 [00:00<00:00, 94254.02it/s]\n",
      "Splitting the experimental spectrum into chunks: 131072it [00:00, 3475222.13it/s]\n",
      "Deconvolving chunks: 100%|███████████████████████| 1/1 [02:07<00:00, 127.01s/it]\n"
     ]
    },
    {
     "name": "stdout",
     "output_type": "stream",
     "text": [
      "Estimation for 0.09999999999999999 and 0.13 done\n",
      "It took: 127.1632182598114 seconds.\n",
      "[0.8425251054180128, 0.10595802665800162]\n"
     ]
    },
    {
     "name": "stderr",
     "output_type": "stream",
     "text": [
      "Initial filtering of formulas: 100%|██████████████| 2/2 [00:00<00:00, 63.56it/s]\n",
      "Computing chunks: 100%|████████████████████████| 2/2 [00:00<00:00, 90200.09it/s]\n",
      "Splitting the experimental spectrum into chunks: 131072it [00:00, 3535952.91it/s]\n",
      "Deconvolving chunks: 100%|███████████████████████| 1/1 [02:08<00:00, 128.84s/it]\n"
     ]
    },
    {
     "name": "stdout",
     "output_type": "stream",
     "text": [
      "Estimation for 0.09999999999999999 and 0.14 done\n",
      "It took: 128.99846482276917 seconds.\n",
      "[0.8415684849390129, 0.10604053704500162]\n"
     ]
    },
    {
     "name": "stderr",
     "output_type": "stream",
     "text": [
      "Initial filtering of formulas: 100%|██████████████| 2/2 [00:00<00:00, 63.83it/s]\n",
      "Computing chunks: 100%|████████████████████████| 2/2 [00:00<00:00, 89240.51it/s]\n",
      "Splitting the experimental spectrum into chunks: 131072it [00:00, 3458932.50it/s]\n",
      "Deconvolving chunks: 100%|███████████████████████| 1/1 [02:05<00:00, 125.78s/it]\n"
     ]
    },
    {
     "name": "stdout",
     "output_type": "stream",
     "text": [
      "Estimation for 0.09999999999999999 and 0.15000000000000002 done\n",
      "It took: 125.92529058456421 seconds.\n",
      "[0.8414484524070128, 0.10603306920300162]\n"
     ]
    },
    {
     "name": "stderr",
     "output_type": "stream",
     "text": [
      "Initial filtering of formulas: 100%|██████████████| 2/2 [00:00<00:00, 63.48it/s]\n",
      "Computing chunks: 100%|████████████████████████| 2/2 [00:00<00:00, 87381.33it/s]\n",
      "Splitting the experimental spectrum into chunks: 131072it [00:00, 3465146.03it/s]\n",
      "Deconvolving chunks: 100%|███████████████████████| 1/1 [02:07<00:00, 127.66s/it]\n"
     ]
    },
    {
     "name": "stdout",
     "output_type": "stream",
     "text": [
      "Estimation for 0.09999999999999999 and 0.16 done\n",
      "It took: 127.79725193977356 seconds.\n",
      "[0.8416543471070129, 0.10555132036600162]\n"
     ]
    },
    {
     "name": "stderr",
     "output_type": "stream",
     "text": [
      "Initial filtering of formulas: 100%|██████████████| 2/2 [00:00<00:00, 62.87it/s]\n",
      "Computing chunks: 100%|████████████████████████| 2/2 [00:00<00:00, 86480.49it/s]\n",
      "Splitting the experimental spectrum into chunks: 131072it [00:00, 3484804.66it/s]\n",
      "Deconvolving chunks: 100%|███████████████████████| 1/1 [02:06<00:00, 126.01s/it]\n"
     ]
    },
    {
     "name": "stdout",
     "output_type": "stream",
     "text": [
      "Estimation for 0.09999999999999999 and 0.17 done\n",
      "It took: 126.15053272247314 seconds.\n",
      "[0.8418221212470128, 0.10511376204900161]\n"
     ]
    },
    {
     "name": "stderr",
     "output_type": "stream",
     "text": [
      "Initial filtering of formulas: 100%|██████████████| 2/2 [00:00<00:00, 63.68it/s]\n",
      "Computing chunks: 100%|███████████████████████| 2/2 [00:00<00:00, 103563.06it/s]\n",
      "Splitting the experimental spectrum into chunks: 131072it [00:00, 3490490.94it/s]\n",
      "Deconvolving chunks: 100%|███████████████████████| 1/1 [02:04<00:00, 124.67s/it]\n"
     ]
    },
    {
     "name": "stdout",
     "output_type": "stream",
     "text": [
      "Estimation for 0.09999999999999999 and 0.18000000000000002 done\n",
      "It took: 124.80795502662659 seconds.\n",
      "[0.8417966885880129, 0.10502196902100161]\n"
     ]
    },
    {
     "name": "stderr",
     "output_type": "stream",
     "text": [
      "Initial filtering of formulas: 100%|██████████████| 2/2 [00:00<00:00, 63.77it/s]\n",
      "Computing chunks: 100%|████████████████████████| 2/2 [00:00<00:00, 93206.76it/s]\n",
      "Splitting the experimental spectrum into chunks: 131072it [00:00, 3467572.09it/s]\n",
      "Deconvolving chunks: 100%|███████████████████████| 1/1 [02:11<00:00, 131.41s/it]\n"
     ]
    },
    {
     "name": "stdout",
     "output_type": "stream",
     "text": [
      "Estimation for 0.09999999999999999 and 0.19 done\n",
      "It took: 131.54703307151794 seconds.\n",
      "[0.8418088969140128, 0.10482479667400162]\n"
     ]
    },
    {
     "name": "stderr",
     "output_type": "stream",
     "text": [
      "Initial filtering of formulas: 100%|██████████████| 2/2 [00:00<00:00, 64.02it/s]\n",
      "Computing chunks: 100%|████████████████████████| 2/2 [00:00<00:00, 93206.76it/s]\n",
      "Splitting the experimental spectrum into chunks: 131072it [00:00, 3509296.19it/s]\n",
      "Deconvolving chunks: 100%|███████████████████████| 1/1 [02:12<00:00, 132.98s/it]\n"
     ]
    },
    {
     "name": "stdout",
     "output_type": "stream",
     "text": [
      "Estimation for 0.09999999999999999 and 0.2 done\n",
      "It took: 133.12280106544495 seconds.\n",
      "[0.8418045503540129, 0.10465782347200162]\n"
     ]
    },
    {
     "name": "stderr",
     "output_type": "stream",
     "text": [
      "Initial filtering of formulas: 100%|██████████████| 2/2 [00:00<00:00, 64.75it/s]\n",
      "Computing chunks: 100%|████████████████████████| 2/2 [00:00<00:00, 94254.02it/s]\n",
      "Splitting the experimental spectrum into chunks: 131072it [00:00, 3520352.28it/s]\n",
      "Deconvolving chunks: 100%|███████████████████████| 1/1 [02:10<00:00, 130.95s/it]\n"
     ]
    },
    {
     "name": "stdout",
     "output_type": "stream",
     "text": [
      "Estimation for 0.09999999999999999 and 0.21000000000000002 done\n",
      "It took: 131.0899887084961 seconds.\n",
      "[0.8419295999760129, 0.10434489161600159]\n"
     ]
    },
    {
     "name": "stderr",
     "output_type": "stream",
     "text": [
      "Initial filtering of formulas: 100%|██████████████| 2/2 [00:00<00:00, 64.77it/s]\n",
      "Computing chunks: 100%|████████████████████████| 2/2 [00:00<00:00, 99864.38it/s]\n",
      "Splitting the experimental spectrum into chunks: 131072it [00:00, 3549284.75it/s]\n",
      "Deconvolving chunks: 100%|███████████████████████| 1/1 [02:05<00:00, 125.60s/it]\n"
     ]
    },
    {
     "name": "stdout",
     "output_type": "stream",
     "text": [
      "Estimation for 0.09999999999999999 and 0.22 done\n",
      "It took: 125.73885154724121 seconds.\n",
      "[0.8403198804390128, 0.1042209925600016]\n"
     ]
    },
    {
     "name": "stderr",
     "output_type": "stream",
     "text": [
      "Initial filtering of formulas: 100%|██████████████| 2/2 [00:00<00:00, 65.05it/s]\n",
      "Computing chunks: 100%|████████████████████████| 2/2 [00:00<00:00, 89240.51it/s]\n",
      "Splitting the experimental spectrum into chunks: 131072it [00:00, 3558197.94it/s]\n",
      "Deconvolving chunks: 100%|███████████████████████| 1/1 [02:34<00:00, 154.26s/it]\n"
     ]
    },
    {
     "name": "stdout",
     "output_type": "stream",
     "text": [
      "Estimation for 0.09999999999999999 and 0.23 done\n",
      "It took: 154.40868282318115 seconds.\n",
      "[0.8392995802620129, 0.10322069760200159]\n"
     ]
    },
    {
     "name": "stderr",
     "output_type": "stream",
     "text": [
      "Initial filtering of formulas: 100%|██████████████| 2/2 [00:00<00:00, 62.91it/s]\n",
      "Computing chunks: 100%|████████████████████████| 2/2 [00:00<00:00, 89240.51it/s]\n",
      "Splitting the experimental spectrum into chunks: 131072it [00:00, 3496262.51it/s]\n",
      "Deconvolving chunks: 100%|███████████████████████| 1/1 [02:32<00:00, 152.16s/it]\n"
     ]
    },
    {
     "name": "stdout",
     "output_type": "stream",
     "text": [
      "Estimation for 0.09999999999999999 and 0.24000000000000002 done\n",
      "It took: 152.31422543525696 seconds.\n",
      "[0.8426181599120128, 0.0982453942790015]\n"
     ]
    },
    {
     "name": "stderr",
     "output_type": "stream",
     "text": [
      "Initial filtering of formulas: 100%|██████████████| 2/2 [00:00<00:00, 63.75it/s]\n",
      "Computing chunks: 100%|████████████████████████| 2/2 [00:00<00:00, 81442.80it/s]\n",
      "Splitting the experimental spectrum into chunks: 131072it [00:00, 3526517.17it/s]\n",
      "Deconvolving chunks: 100%|███████████████████████| 1/1 [02:04<00:00, 124.50s/it]\n"
     ]
    },
    {
     "name": "stdout",
     "output_type": "stream",
     "text": [
      "Estimation for 0.09999999999999999 and 0.25 done\n",
      "It took: 124.66067600250244 seconds.\n",
      "[0.845410224546013, 0.09425841661900144]\n"
     ]
    },
    {
     "name": "stderr",
     "output_type": "stream",
     "text": [
      "Initial filtering of formulas: 100%|██████████████| 2/2 [00:00<00:00, 63.14it/s]\n",
      "Computing chunks: 100%|████████████████████████| 2/2 [00:00<00:00, 97541.95it/s]\n",
      "Splitting the experimental spectrum into chunks: 131072it [00:00, 3447933.86it/s]\n",
      "Deconvolving chunks: 100%|███████████████████████| 1/1 [02:23<00:00, 143.78s/it]\n"
     ]
    },
    {
     "name": "stdout",
     "output_type": "stream",
     "text": [
      "Estimation for 0.09999999999999999 and 0.26 done\n",
      "It took: 143.9167137145996 seconds.\n",
      "[0.8461320522620129, 0.09364548682600143]\n"
     ]
    },
    {
     "name": "stderr",
     "output_type": "stream",
     "text": [
      "Initial filtering of formulas: 100%|██████████████| 2/2 [00:00<00:00, 64.30it/s]\n",
      "Computing chunks: 100%|████████████████████████| 2/2 [00:00<00:00, 91180.52it/s]\n",
      "Splitting the experimental spectrum into chunks: 131072it [00:00, 3514276.31it/s]\n",
      "Deconvolving chunks: 100%|███████████████████████| 1/1 [02:09<00:00, 129.86s/it]\n"
     ]
    },
    {
     "name": "stdout",
     "output_type": "stream",
     "text": [
      "Estimation for 0.09999999999999999 and 0.27 done\n",
      "It took: 130.00365591049194 seconds.\n",
      "[0.846543326298013, 0.09366060675100144]\n"
     ]
    },
    {
     "name": "stderr",
     "output_type": "stream",
     "text": [
      "Initial filtering of formulas: 100%|██████████████| 2/2 [00:00<00:00, 61.94it/s]\n",
      "Computing chunks: 100%|████████████████████████| 2/2 [00:00<00:00, 90200.09it/s]\n",
      "Splitting the experimental spectrum into chunks: 131072it [00:00, 3419347.26it/s]\n",
      "Deconvolving chunks: 100%|███████████████████████| 1/1 [02:27<00:00, 147.88s/it]\n"
     ]
    },
    {
     "name": "stdout",
     "output_type": "stream",
     "text": [
      "Estimation for 0.09999999999999999 and 0.28 done\n",
      "It took: 148.02356934547424 seconds.\n",
      "[0.847058100203013, 0.09359629947000143]\n"
     ]
    },
    {
     "name": "stderr",
     "output_type": "stream",
     "text": [
      "Initial filtering of formulas: 100%|██████████████| 2/2 [00:00<00:00, 60.11it/s]\n",
      "Computing chunks: 100%|████████████████████████| 2/2 [00:00<00:00, 89240.51it/s]\n",
      "Splitting the experimental spectrum into chunks: 131072it [00:00, 3651673.63it/s]\n",
      "Deconvolving chunks: 100%|███████████████████████| 1/1 [02:19<00:00, 139.88s/it]\n"
     ]
    },
    {
     "name": "stdout",
     "output_type": "stream",
     "text": [
      "Estimation for 0.09999999999999999 and 0.29000000000000004 done\n",
      "It took: 140.02429103851318 seconds.\n",
      "[0.847645906075013, 0.09339261236600142]\n"
     ]
    },
    {
     "name": "stderr",
     "output_type": "stream",
     "text": [
      "Initial filtering of formulas: 100%|██████████████| 2/2 [00:00<00:00, 64.11it/s]\n",
      "Computing chunks: 100%|████████████████████████| 2/2 [00:00<00:00, 88301.14it/s]\n",
      "Splitting the experimental spectrum into chunks: 131072it [00:00, 3473926.48it/s]\n",
      "Deconvolving chunks: 100%|███████████████████████| 1/1 [02:49<00:00, 169.80s/it]\n"
     ]
    },
    {
     "name": "stdout",
     "output_type": "stream",
     "text": [
      "Estimation for 0.11 and 0.01 done\n",
      "It took: 169.93618273735046 seconds.\n",
      "[0.7589323720310116, 0.23174525798100357]\n"
     ]
    },
    {
     "name": "stderr",
     "output_type": "stream",
     "text": [
      "Initial filtering of formulas: 100%|██████████████| 2/2 [00:00<00:00, 65.06it/s]\n",
      "Computing chunks: 100%|████████████████████████| 2/2 [00:00<00:00, 90200.09it/s]\n",
      "Splitting the experimental spectrum into chunks: 131072it [00:00, 3577392.64it/s]\n",
      "Deconvolving chunks: 100%|███████████████████████| 1/1 [02:19<00:00, 139.36s/it]\n"
     ]
    },
    {
     "name": "stdout",
     "output_type": "stream",
     "text": [
      "Estimation for 0.11 and 0.02 done\n",
      "It took: 139.5093982219696 seconds.\n",
      "[0.8692260986010133, 0.09653832222900148]\n"
     ]
    },
    {
     "name": "stderr",
     "output_type": "stream",
     "text": [
      "Initial filtering of formulas: 100%|██████████████| 2/2 [00:00<00:00, 63.32it/s]\n",
      "Computing chunks: 100%|████████████████████████| 2/2 [00:00<00:00, 95325.09it/s]\n",
      "Splitting the experimental spectrum into chunks: 131072it [00:00, 3515332.47it/s]\n",
      "Deconvolving chunks: 100%|███████████████████████| 1/1 [02:21<00:00, 141.77s/it]\n"
     ]
    },
    {
     "name": "stdout",
     "output_type": "stream",
     "text": [
      "Estimation for 0.11 and 0.03 done\n",
      "It took: 141.91434383392334 seconds.\n",
      "[0.8548220666550131, 0.10472199975300162]\n"
     ]
    },
    {
     "name": "stderr",
     "output_type": "stream",
     "text": [
      "Initial filtering of formulas: 100%|██████████████| 2/2 [00:00<00:00, 56.67it/s]\n",
      "Computing chunks: 100%|████████████████████████| 2/2 [00:00<00:00, 88301.14it/s]\n",
      "Splitting the experimental spectrum into chunks: 131072it [00:00, 3306662.66it/s]\n",
      "Deconvolving chunks: 100%|███████████████████████| 1/1 [02:34<00:00, 154.67s/it]\n"
     ]
    },
    {
     "name": "stdout",
     "output_type": "stream",
     "text": [
      "Estimation for 0.11 and 0.04 done\n",
      "It took: 154.82172465324402 seconds.\n",
      "[0.8529967499880131, 0.10562990708200162]\n"
     ]
    },
    {
     "name": "stderr",
     "output_type": "stream",
     "text": [
      "Initial filtering of formulas: 100%|██████████████| 2/2 [00:00<00:00, 62.59it/s]\n",
      "Computing chunks: 100%|████████████████████████| 2/2 [00:00<00:00, 88301.14it/s]\n",
      "Splitting the experimental spectrum into chunks: 131072it [00:00, 3463508.73it/s]\n",
      "Deconvolving chunks: 100%|███████████████████████| 1/1 [01:58<00:00, 118.62s/it]\n"
     ]
    },
    {
     "name": "stdout",
     "output_type": "stream",
     "text": [
      "Estimation for 0.11 and 0.05 done\n",
      "It took: 118.76110529899597 seconds.\n",
      "[0.849946607373013, 0.10593242226500163]\n"
     ]
    },
    {
     "name": "stderr",
     "output_type": "stream",
     "text": [
      "Initial filtering of formulas: 100%|██████████████| 2/2 [00:00<00:00, 64.59it/s]\n",
      "Computing chunks: 100%|████████████████████████| 2/2 [00:00<00:00, 97541.95it/s]\n",
      "Splitting the experimental spectrum into chunks: 131072it [00:00, 3541077.44it/s]\n",
      "Deconvolving chunks: 100%|███████████████████████| 1/1 [01:59<00:00, 119.87s/it]\n"
     ]
    },
    {
     "name": "stdout",
     "output_type": "stream",
     "text": [
      "Estimation for 0.11 and 0.060000000000000005 done\n",
      "It took: 120.03647994995117 seconds.\n",
      "[0.848387751254013, 0.10586531649200162]\n"
     ]
    },
    {
     "name": "stderr",
     "output_type": "stream",
     "text": [
      "Initial filtering of formulas: 100%|██████████████| 2/2 [00:00<00:00, 63.16it/s]\n",
      "Computing chunks: 100%|████████████████████████| 2/2 [00:00<00:00, 91180.52it/s]\n",
      "Splitting the experimental spectrum into chunks: 131072it [00:00, 3491089.41it/s]\n",
      "Deconvolving chunks: 100%|███████████████████████| 1/1 [02:01<00:00, 121.16s/it]\n"
     ]
    },
    {
     "name": "stdout",
     "output_type": "stream",
     "text": [
      "Estimation for 0.11 and 0.06999999999999999 done\n",
      "It took: 121.29644346237183 seconds.\n",
      "[0.848048264157013, 0.10550782415800161]\n"
     ]
    },
    {
     "name": "stderr",
     "output_type": "stream",
     "text": [
      "Initial filtering of formulas: 100%|██████████████| 2/2 [00:00<00:00, 63.36it/s]\n",
      "Computing chunks: 100%|████████████████████████| 2/2 [00:00<00:00, 90200.09it/s]\n",
      "Splitting the experimental spectrum into chunks: 131072it [00:00, 3476980.48it/s]\n",
      "Deconvolving chunks: 100%|███████████████████████| 1/1 [02:03<00:00, 123.06s/it]\n"
     ]
    },
    {
     "name": "stdout",
     "output_type": "stream",
     "text": [
      "Estimation for 0.11 and 0.08 done\n",
      "It took: 123.22306275367737 seconds.\n",
      "[0.849025462985013, 0.10563804687100162]\n"
     ]
    },
    {
     "name": "stderr",
     "output_type": "stream",
     "text": [
      "Initial filtering of formulas: 100%|██████████████| 2/2 [00:00<00:00, 64.14it/s]\n",
      "Computing chunks: 100%|████████████████████████| 2/2 [00:00<00:00, 81442.80it/s]\n",
      "Splitting the experimental spectrum into chunks: 131072it [00:00, 3504799.33it/s]\n",
      "Deconvolving chunks: 100%|███████████████████████| 1/1 [02:03<00:00, 123.02s/it]\n"
     ]
    },
    {
     "name": "stdout",
     "output_type": "stream",
     "text": [
      "Estimation for 0.11 and 0.09 done\n",
      "It took: 123.16439652442932 seconds.\n",
      "[0.8477798101840129, 0.10579674515000162]\n"
     ]
    },
    {
     "name": "stderr",
     "output_type": "stream",
     "text": [
      "Initial filtering of formulas: 100%|██████████████| 2/2 [00:00<00:00, 63.88it/s]\n",
      "Computing chunks: 100%|████████████████████████| 2/2 [00:00<00:00, 92182.51it/s]\n",
      "Splitting the experimental spectrum into chunks: 131072it [00:00, 3479797.54it/s]\n",
      "Deconvolving chunks: 100%|███████████████████████| 1/1 [02:01<00:00, 121.81s/it]\n"
     ]
    },
    {
     "name": "stdout",
     "output_type": "stream",
     "text": [
      "Estimation for 0.11 and 0.09999999999999999 done\n",
      "It took: 121.94756507873535 seconds.\n",
      "[0.846889390040013, 0.10592287834700162]\n"
     ]
    },
    {
     "name": "stderr",
     "output_type": "stream",
     "text": [
      "Initial filtering of formulas: 100%|██████████████| 2/2 [00:00<00:00, 63.66it/s]\n",
      "Computing chunks: 100%|████████████████████████| 2/2 [00:00<00:00, 94254.02it/s]\n",
      "Splitting the experimental spectrum into chunks: 131072it [00:00, 3529279.15it/s]\n",
      "Deconvolving chunks: 100%|███████████████████████| 1/1 [02:01<00:00, 121.40s/it]\n"
     ]
    },
    {
     "name": "stdout",
     "output_type": "stream",
     "text": [
      "Estimation for 0.11 and 0.11 done\n",
      "It took: 121.53808689117432 seconds.\n",
      "[0.846743909515013, 0.10590081686000162]\n"
     ]
    },
    {
     "name": "stderr",
     "output_type": "stream",
     "text": [
      "Initial filtering of formulas: 100%|██████████████| 2/2 [00:00<00:00, 64.78it/s]\n",
      "Computing chunks: 100%|████████████████████████| 2/2 [00:00<00:00, 90200.09it/s]\n",
      "Splitting the experimental spectrum into chunks: 131072it [00:00, 3513400.40it/s]\n",
      "Deconvolving chunks: 100%|███████████████████████| 1/1 [02:00<00:00, 120.36s/it]\n"
     ]
    },
    {
     "name": "stdout",
     "output_type": "stream",
     "text": [
      "Estimation for 0.11 and 0.12 done\n",
      "It took: 120.49824070930481 seconds.\n",
      "[0.845042885787013, 0.10610386781800163]\n"
     ]
    },
    {
     "name": "stderr",
     "output_type": "stream",
     "text": [
      "Initial filtering of formulas: 100%|██████████████| 2/2 [00:00<00:00, 64.22it/s]\n",
      "Computing chunks: 100%|████████████████████████| 2/2 [00:00<00:00, 63550.06it/s]\n",
      "Splitting the experimental spectrum into chunks: 131072it [00:00, 3577392.64it/s]\n",
      "Deconvolving chunks: 100%|███████████████████████| 1/1 [02:00<00:00, 120.94s/it]\n"
     ]
    },
    {
     "name": "stdout",
     "output_type": "stream",
     "text": [
      "Estimation for 0.11 and 0.13 done\n",
      "It took: 121.08086609840393 seconds.\n",
      "[0.844432671231013, 0.10603976761400162]\n"
     ]
    },
    {
     "name": "stderr",
     "output_type": "stream",
     "text": [
      "Initial filtering of formulas: 100%|██████████████| 2/2 [00:00<00:00, 63.83it/s]\n",
      "Computing chunks: 100%|████████████████████████| 2/2 [00:00<00:00, 92182.51it/s]\n",
      "Splitting the experimental spectrum into chunks: 131072it [00:00, 3444434.23it/s]\n",
      "Deconvolving chunks: 100%|███████████████████████| 1/1 [02:06<00:00, 126.89s/it]\n"
     ]
    },
    {
     "name": "stdout",
     "output_type": "stream",
     "text": [
      "Estimation for 0.11 and 0.14 done\n",
      "It took: 127.05087375640869 seconds.\n",
      "[0.8430225132970128, 0.10616328569400163]\n"
     ]
    },
    {
     "name": "stderr",
     "output_type": "stream",
     "text": [
      "Initial filtering of formulas: 100%|██████████████| 2/2 [00:00<00:00, 63.39it/s]\n",
      "Computing chunks: 100%|████████████████████████| 2/2 [00:00<00:00, 94254.02it/s]\n",
      "Splitting the experimental spectrum into chunks: 131072it [00:00, 3491909.87it/s]\n",
      "Deconvolving chunks: 100%|███████████████████████| 1/1 [02:06<00:00, 126.83s/it]\n"
     ]
    },
    {
     "name": "stdout",
     "output_type": "stream",
     "text": [
      "Estimation for 0.11 and 0.15000000000000002 done\n",
      "It took: 126.99535751342773 seconds.\n",
      "[0.8430169094340129, 0.10611706377900162]\n"
     ]
    },
    {
     "name": "stderr",
     "output_type": "stream",
     "text": [
      "Initial filtering of formulas: 100%|██████████████| 2/2 [00:00<00:00, 64.18it/s]\n",
      "Computing chunks: 100%|████████████████████████| 2/2 [00:00<00:00, 93206.76it/s]\n",
      "Splitting the experimental spectrum into chunks: 131072it [00:00, 3445513.60it/s]\n",
      "Deconvolving chunks: 100%|███████████████████████| 1/1 [02:03<00:00, 123.94s/it]\n"
     ]
    },
    {
     "name": "stdout",
     "output_type": "stream",
     "text": [
      "Estimation for 0.11 and 0.16 done\n",
      "It took: 124.1049153804779 seconds.\n",
      "[0.8429730206630128, 0.10602080117900162]\n"
     ]
    },
    {
     "name": "stderr",
     "output_type": "stream",
     "text": [
      "Initial filtering of formulas: 100%|██████████████| 2/2 [00:00<00:00, 63.87it/s]\n",
      "Computing chunks: 100%|████████████████████████| 2/2 [00:00<00:00, 89240.51it/s]\n",
      "Splitting the experimental spectrum into chunks: 131072it [00:00, 3509027.40it/s]\n",
      "Deconvolving chunks: 100%|███████████████████████| 1/1 [02:06<00:00, 126.90s/it]\n"
     ]
    },
    {
     "name": "stdout",
     "output_type": "stream",
     "text": [
      "Estimation for 0.11 and 0.17 done\n",
      "It took: 127.04014897346497 seconds.\n",
      "[0.8430602721760129, 0.10577706400400162]\n"
     ]
    },
    {
     "name": "stderr",
     "output_type": "stream",
     "text": [
      "Initial filtering of formulas: 100%|██████████████| 2/2 [00:00<00:00, 62.77it/s]\n",
      "Computing chunks: 100%|████████████████████████| 2/2 [00:00<00:00, 35696.20it/s]\n",
      "Splitting the experimental spectrum into chunks: 131072it [00:00, 3461742.18it/s]\n",
      "Deconvolving chunks: 100%|███████████████████████| 1/1 [02:06<00:00, 126.71s/it]\n"
     ]
    },
    {
     "name": "stdout",
     "output_type": "stream",
     "text": [
      "Estimation for 0.11 and 0.18000000000000002 done\n",
      "It took: 126.84692454338074 seconds.\n",
      "[0.8431119690190129, 0.10565298871900163]\n"
     ]
    },
    {
     "name": "stderr",
     "output_type": "stream",
     "text": [
      "Initial filtering of formulas: 100%|██████████████| 2/2 [00:00<00:00, 63.61it/s]\n",
      "Computing chunks: 100%|████████████████████████| 2/2 [00:00<00:00, 90200.09it/s]\n",
      "Splitting the experimental spectrum into chunks: 131072it [00:00, 3559695.50it/s]\n",
      "Deconvolving chunks: 100%|███████████████████████| 1/1 [02:06<00:00, 126.81s/it]\n"
     ]
    },
    {
     "name": "stdout",
     "output_type": "stream",
     "text": [
      "Estimation for 0.11 and 0.19 done\n",
      "It took: 126.94636487960815 seconds.\n",
      "[0.8431485973270129, 0.10545659801100161]\n"
     ]
    },
    {
     "name": "stderr",
     "output_type": "stream",
     "text": [
      "Initial filtering of formulas: 100%|██████████████| 2/2 [00:00<00:00, 64.95it/s]\n",
      "Computing chunks: 100%|███████████████████████| 2/2 [00:00<00:00, 107546.26it/s]\n",
      "Splitting the experimental spectrum into chunks: 131072it [00:00, 3547063.43it/s]\n",
      "Deconvolving chunks: 100%|███████████████████████| 1/1 [02:04<00:00, 124.43s/it]\n"
     ]
    },
    {
     "name": "stdout",
     "output_type": "stream",
     "text": [
      "Estimation for 0.11 and 0.2 done\n",
      "It took: 124.58382868766785 seconds.\n",
      "[0.8432408694720129, 0.10507915518900161]\n"
     ]
    },
    {
     "name": "stderr",
     "output_type": "stream",
     "text": [
      "Initial filtering of formulas: 100%|██████████████| 2/2 [00:00<00:00, 64.22it/s]\n",
      "Computing chunks: 100%|████████████████████████| 2/2 [00:00<00:00, 83886.08it/s]\n",
      "Splitting the experimental spectrum into chunks: 131072it [00:00, 3497930.94it/s]\n",
      "Deconvolving chunks: 100%|███████████████████████| 1/1 [02:10<00:00, 130.70s/it]\n"
     ]
    },
    {
     "name": "stdout",
     "output_type": "stream",
     "text": [
      "Estimation for 0.11 and 0.21000000000000002 done\n",
      "It took: 130.83851218223572 seconds.\n",
      "[0.8432654126100129, 0.10498893757900161]\n"
     ]
    },
    {
     "name": "stderr",
     "output_type": "stream",
     "text": [
      "Initial filtering of formulas: 100%|██████████████| 2/2 [00:00<00:00, 62.58it/s]\n",
      "Computing chunks: 100%|████████████████████████| 2/2 [00:00<00:00, 54827.50it/s]\n",
      "Splitting the experimental spectrum into chunks: 131072it [00:00, 3490357.98it/s]\n",
      "Deconvolving chunks: 100%|███████████████████████| 1/1 [02:06<00:00, 126.94s/it]\n"
     ]
    },
    {
     "name": "stdout",
     "output_type": "stream",
     "text": [
      "Estimation for 0.11 and 0.22 done\n",
      "It took: 127.08100724220276 seconds.\n",
      "[0.8433954406400129, 0.10470373667100161]\n"
     ]
    },
    {
     "name": "stderr",
     "output_type": "stream",
     "text": [
      "Initial filtering of formulas: 100%|██████████████| 2/2 [00:00<00:00, 64.34it/s]\n",
      "Computing chunks: 100%|████████████████████████| 2/2 [00:00<00:00, 87381.33it/s]\n",
      "Splitting the experimental spectrum into chunks: 131072it [00:00, 3493374.34it/s]\n",
      "Deconvolving chunks: 100%|███████████████████████| 1/1 [02:33<00:00, 153.20s/it]\n"
     ]
    },
    {
     "name": "stdout",
     "output_type": "stream",
     "text": [
      "Estimation for 0.11 and 0.23 done\n",
      "It took: 153.33865761756897 seconds.\n",
      "[0.8401497251240129, 0.10472897964900162]\n"
     ]
    },
    {
     "name": "stderr",
     "output_type": "stream",
     "text": [
      "Initial filtering of formulas: 100%|██████████████| 2/2 [00:00<00:00, 63.63it/s]\n",
      "Computing chunks: 100%|████████████████████████| 2/2 [00:00<00:00, 93206.76it/s]\n",
      "Splitting the experimental spectrum into chunks: 131072it [00:00, 3504352.52it/s]\n",
      "Deconvolving chunks: 100%|███████████████████████| 1/1 [02:04<00:00, 124.88s/it]\n"
     ]
    },
    {
     "name": "stdout",
     "output_type": "stream",
     "text": [
      "Estimation for 0.11 and 0.24000000000000002 done\n",
      "It took: 125.04336094856262 seconds.\n",
      "[0.8404272031450128, 0.10456868180800159]\n"
     ]
    },
    {
     "name": "stderr",
     "output_type": "stream",
     "text": [
      "Initial filtering of formulas: 100%|██████████████| 2/2 [00:00<00:00, 63.92it/s]\n",
      "Computing chunks: 100%|████████████████████████| 2/2 [00:00<00:00, 91180.52it/s]\n",
      "Splitting the experimental spectrum into chunks: 131072it [00:00, 3554838.76it/s]\n",
      "Deconvolving chunks: 100%|███████████████████████| 1/1 [02:28<00:00, 148.48s/it]\n"
     ]
    },
    {
     "name": "stdout",
     "output_type": "stream",
     "text": [
      "Estimation for 0.11 and 0.25 done\n",
      "It took: 148.61825728416443 seconds.\n",
      "[0.8412419902920129, 0.1038595759010016]\n"
     ]
    },
    {
     "name": "stderr",
     "output_type": "stream",
     "text": [
      "Initial filtering of formulas: 100%|██████████████| 2/2 [00:00<00:00, 60.15it/s]\n",
      "Computing chunks: 100%|████████████████████████| 2/2 [00:00<00:00, 83055.52it/s]\n",
      "Splitting the experimental spectrum into chunks: 131072it [00:00, 3399072.65it/s]\n",
      "Deconvolving chunks: 100%|███████████████████████| 1/1 [02:29<00:00, 149.21s/it]\n"
     ]
    },
    {
     "name": "stdout",
     "output_type": "stream",
     "text": [
      "Estimation for 0.11 and 0.26 done\n",
      "It took: 149.37016582489014 seconds.\n",
      "[0.8419076778630129, 0.10346213763000159]\n"
     ]
    },
    {
     "name": "stderr",
     "output_type": "stream",
     "text": [
      "Initial filtering of formulas: 100%|██████████████| 2/2 [00:00<00:00, 64.14it/s]\n",
      "Computing chunks: 100%|████████████████████████| 2/2 [00:00<00:00, 91180.52it/s]\n",
      "Splitting the experimental spectrum into chunks: 131072it [00:00, 3535861.94it/s]\n",
      "Deconvolving chunks: 100%|███████████████████████| 1/1 [02:36<00:00, 156.01s/it]\n"
     ]
    },
    {
     "name": "stdout",
     "output_type": "stream",
     "text": [
      "Estimation for 0.11 and 0.27 done\n",
      "It took: 156.14304995536804 seconds.\n",
      "[0.844994337236013, 0.09930686109500153]\n"
     ]
    },
    {
     "name": "stderr",
     "output_type": "stream",
     "text": [
      "Initial filtering of formulas: 100%|██████████████| 2/2 [00:00<00:00, 62.78it/s]\n",
      "Computing chunks: 100%|████████████████████████| 2/2 [00:00<00:00, 61230.72it/s]\n",
      "Splitting the experimental spectrum into chunks: 131072it [00:00, 3510932.24it/s]\n",
      "Deconvolving chunks: 100%|███████████████████████| 1/1 [02:10<00:00, 130.70s/it]\n"
     ]
    },
    {
     "name": "stdout",
     "output_type": "stream",
     "text": [
      "Estimation for 0.11 and 0.28 done\n",
      "It took: 130.86629796028137 seconds.\n",
      "[0.847860540994013, 0.09546545153500145]\n"
     ]
    },
    {
     "name": "stderr",
     "output_type": "stream",
     "text": [
      "Initial filtering of formulas: 100%|██████████████| 2/2 [00:00<00:00, 64.52it/s]\n",
      "Computing chunks: 100%|████████████████████████| 2/2 [00:00<00:00, 59918.63it/s]\n",
      "Splitting the experimental spectrum into chunks: 131072it [00:00, 3525929.10it/s]\n",
      "Deconvolving chunks: 100%|███████████████████████| 1/1 [02:16<00:00, 136.52s/it]\n"
     ]
    },
    {
     "name": "stdout",
     "output_type": "stream",
     "text": [
      "Estimation for 0.11 and 0.29000000000000004 done\n",
      "It took: 136.66052436828613 seconds.\n",
      "[0.8486734374880129, 0.09474257281900146]\n"
     ]
    },
    {
     "name": "stderr",
     "output_type": "stream",
     "text": [
      "Initial filtering of formulas: 100%|██████████████| 2/2 [00:00<00:00, 62.40it/s]\n",
      "Computing chunks: 100%|████████████████████████| 2/2 [00:00<00:00, 80659.69it/s]\n",
      "Splitting the experimental spectrum into chunks: 131072it [00:00, 3248936.62it/s]\n",
      "Deconvolving chunks: 100%|███████████████████████| 1/1 [02:52<00:00, 172.78s/it]\n"
     ]
    },
    {
     "name": "stdout",
     "output_type": "stream",
     "text": [
      "Estimation for 0.12 and 0.01 done\n",
      "It took: 172.9268069267273 seconds.\n",
      "[0.7460427210310114, 0.2467319018490038]\n"
     ]
    },
    {
     "name": "stderr",
     "output_type": "stream",
     "text": [
      "Initial filtering of formulas: 100%|██████████████| 2/2 [00:00<00:00, 63.28it/s]\n",
      "Computing chunks: 100%|████████████████████████| 2/2 [00:00<00:00, 55924.05it/s]\n",
      "Splitting the experimental spectrum into chunks: 131072it [00:00, 3475903.28it/s]\n",
      "Deconvolving chunks: 100%|███████████████████████| 1/1 [02:35<00:00, 155.71s/it]\n"
     ]
    },
    {
     "name": "stdout",
     "output_type": "stream",
     "text": [
      "Estimation for 0.12 and 0.02 done\n",
      "It took: 155.85326981544495 seconds.\n",
      "[0.8710653957920134, 0.09637876440300147]\n"
     ]
    },
    {
     "name": "stderr",
     "output_type": "stream",
     "text": [
      "Initial filtering of formulas: 100%|██████████████| 2/2 [00:00<00:00, 64.18it/s]\n",
      "Computing chunks: 100%|████████████████████████| 2/2 [00:00<00:00, 90200.09it/s]\n",
      "Splitting the experimental spectrum into chunks: 131072it [00:00, 3557691.35it/s]\n",
      "Deconvolving chunks: 100%|███████████████████████| 1/1 [02:34<00:00, 154.19s/it]\n"
     ]
    },
    {
     "name": "stdout",
     "output_type": "stream",
     "text": [
      "Estimation for 0.12 and 0.03 done\n",
      "It took: 154.32984256744385 seconds.\n",
      "[0.8563536460540131, 0.10494204817400161]\n"
     ]
    },
    {
     "name": "stderr",
     "output_type": "stream",
     "text": [
      "Initial filtering of formulas: 100%|██████████████| 2/2 [00:00<00:00, 64.81it/s]\n",
      "Computing chunks: 100%|████████████████████████| 2/2 [00:00<00:00, 92182.51it/s]\n",
      "Splitting the experimental spectrum into chunks: 131072it [00:00, 3522878.85it/s]\n",
      "Deconvolving chunks: 100%|███████████████████████| 1/1 [02:23<00:00, 143.78s/it]\n"
     ]
    },
    {
     "name": "stdout",
     "output_type": "stream",
     "text": [
      "Estimation for 0.12 and 0.04 done\n",
      "It took: 143.91759538650513 seconds.\n",
      "[0.8545949329630131, 0.10597402176900163]\n"
     ]
    },
    {
     "name": "stderr",
     "output_type": "stream",
     "text": [
      "Initial filtering of formulas: 100%|██████████████| 2/2 [00:00<00:00, 63.62it/s]\n",
      "Computing chunks: 100%|████████████████████████| 2/2 [00:00<00:00, 96420.78it/s]\n",
      "Splitting the experimental spectrum into chunks: 131072it [00:00, 3481913.33it/s]\n",
      "Deconvolving chunks: 100%|███████████████████████| 1/1 [01:54<00:00, 114.64s/it]\n"
     ]
    },
    {
     "name": "stdout",
     "output_type": "stream",
     "text": [
      "Estimation for 0.12 and 0.05 done\n",
      "It took: 114.77869868278503 seconds.\n",
      "[0.8539245861840131, 0.10649874498600163]\n"
     ]
    },
    {
     "name": "stderr",
     "output_type": "stream",
     "text": [
      "Initial filtering of formulas: 100%|██████████████| 2/2 [00:00<00:00, 64.02it/s]\n",
      "Computing chunks: 100%|████████████████████████| 2/2 [00:00<00:00, 82241.25it/s]\n",
      "Splitting the experimental spectrum into chunks: 131072it [00:00, 3498398.38it/s]\n",
      "Deconvolving chunks: 100%|███████████████████████| 1/1 [02:30<00:00, 150.53s/it]\n"
     ]
    },
    {
     "name": "stdout",
     "output_type": "stream",
     "text": [
      "Estimation for 0.12 and 0.060000000000000005 done\n",
      "It took: 150.67214465141296 seconds.\n",
      "[0.8532384663590131, 0.10616473664800162]\n"
     ]
    },
    {
     "name": "stderr",
     "output_type": "stream",
     "text": [
      "Initial filtering of formulas: 100%|██████████████| 2/2 [00:00<00:00, 56.75it/s]\n",
      "Computing chunks: 100%|████████████████████████| 2/2 [00:00<00:00, 93206.76it/s]\n",
      "Splitting the experimental spectrum into chunks: 131072it [00:00, 3107861.37it/s]\n",
      "Deconvolving chunks: 100%|███████████████████████| 1/1 [01:58<00:00, 118.61s/it]\n"
     ]
    },
    {
     "name": "stdout",
     "output_type": "stream",
     "text": [
      "Estimation for 0.12 and 0.06999999999999999 done\n",
      "It took: 118.76490831375122 seconds.\n",
      "[0.8522909402620131, 0.10585879005200162]\n"
     ]
    },
    {
     "name": "stderr",
     "output_type": "stream",
     "text": [
      "Initial filtering of formulas: 100%|██████████████| 2/2 [00:00<00:00, 61.85it/s]\n",
      "Computing chunks: 100%|████████████████████████| 2/2 [00:00<00:00, 81442.80it/s]\n",
      "Splitting the experimental spectrum into chunks: 131072it [00:00, 3479445.15it/s]\n",
      "Deconvolving chunks: 100%|███████████████████████| 1/1 [01:59<00:00, 119.31s/it]\n"
     ]
    },
    {
     "name": "stdout",
     "output_type": "stream",
     "text": [
      "Estimation for 0.12 and 0.08 done\n",
      "It took: 119.47876954078674 seconds.\n",
      "[0.850658251694013, 0.10580486718100163]\n"
     ]
    },
    {
     "name": "stderr",
     "output_type": "stream",
     "text": [
      "Initial filtering of formulas: 100%|██████████████| 2/2 [00:00<00:00, 61.51it/s]\n",
      "Computing chunks: 100%|████████████████████████| 2/2 [00:00<00:00, 84733.41it/s]\n",
      "Splitting the experimental spectrum into chunks: 131072it [00:00, 3428196.12it/s]\n",
      "Deconvolving chunks: 100%|███████████████████████| 1/1 [02:00<00:00, 120.74s/it]\n"
     ]
    },
    {
     "name": "stdout",
     "output_type": "stream",
     "text": [
      "Estimation for 0.12 and 0.09 done\n",
      "It took: 120.88795065879822 seconds.\n",
      "[0.849542639014013, 0.10577690988700163]\n"
     ]
    },
    {
     "name": "stderr",
     "output_type": "stream",
     "text": [
      "Initial filtering of formulas: 100%|██████████████| 2/2 [00:00<00:00, 63.38it/s]\n",
      "Computing chunks: 100%|████████████████████████| 2/2 [00:00<00:00, 95325.09it/s]\n",
      "Splitting the experimental spectrum into chunks: 131072it [00:00, 3490225.02it/s]\n",
      "Deconvolving chunks: 100%|███████████████████████| 1/1 [02:04<00:00, 124.00s/it]\n"
     ]
    },
    {
     "name": "stdout",
     "output_type": "stream",
     "text": [
      "Estimation for 0.12 and 0.09999999999999999 done\n",
      "It took: 124.14399933815002 seconds.\n",
      "[0.848818283861013, 0.10587824987600163]\n"
     ]
    },
    {
     "name": "stderr",
     "output_type": "stream",
     "text": [
      "Initial filtering of formulas: 100%|██████████████| 2/2 [00:00<00:00, 64.13it/s]\n",
      "Computing chunks: 100%|████████████████████████| 2/2 [00:00<00:00, 89240.51it/s]\n",
      "Splitting the experimental spectrum into chunks: 131072it [00:00, 3539299.25it/s]\n",
      "Deconvolving chunks: 100%|███████████████████████| 1/1 [02:02<00:00, 122.71s/it]\n"
     ]
    },
    {
     "name": "stdout",
     "output_type": "stream",
     "text": [
      "Estimation for 0.12 and 0.11 done\n",
      "It took: 122.84874486923218 seconds.\n",
      "[0.848509551531013, 0.10592141686100162]\n"
     ]
    },
    {
     "name": "stderr",
     "output_type": "stream",
     "text": [
      "Initial filtering of formulas: 100%|██████████████| 2/2 [00:00<00:00, 64.17it/s]\n",
      "Computing chunks: 100%|████████████████████████| 2/2 [00:00<00:00, 88301.14it/s]\n",
      "Splitting the experimental spectrum into chunks: 131072it [00:00, 3496618.31it/s]\n",
      "Deconvolving chunks: 100%|███████████████████████| 1/1 [02:02<00:00, 122.82s/it]\n"
     ]
    },
    {
     "name": "stdout",
     "output_type": "stream",
     "text": [
      "Estimation for 0.12 and 0.12 done\n",
      "It took: 122.9594030380249 seconds.\n",
      "[0.846867966779013, 0.10616252281300162]\n"
     ]
    },
    {
     "name": "stderr",
     "output_type": "stream",
     "text": [
      "Initial filtering of formulas: 100%|██████████████| 2/2 [00:00<00:00, 65.49it/s]\n",
      "Computing chunks: 100%|████████████████████████| 2/2 [00:00<00:00, 95325.09it/s]\n",
      "Splitting the experimental spectrum into chunks: 131072it [00:00, 3533316.71it/s]\n",
      "Deconvolving chunks: 100%|███████████████████████| 1/1 [01:59<00:00, 119.74s/it]\n"
     ]
    },
    {
     "name": "stdout",
     "output_type": "stream",
     "text": [
      "Estimation for 0.12 and 0.13 done\n",
      "It took: 119.87529110908508 seconds.\n",
      "[0.845994292752013, 0.10625768210500162]\n"
     ]
    },
    {
     "name": "stderr",
     "output_type": "stream",
     "text": [
      "Initial filtering of formulas: 100%|██████████████| 2/2 [00:00<00:00, 63.38it/s]\n",
      "Computing chunks: 100%|████████████████████████| 2/2 [00:00<00:00, 97541.95it/s]\n",
      "Splitting the experimental spectrum into chunks: 131072it [00:00, 3282614.20it/s]\n",
      "Deconvolving chunks: 100%|███████████████████████| 1/1 [01:57<00:00, 117.73s/it]\n"
     ]
    },
    {
     "name": "stdout",
     "output_type": "stream",
     "text": [
      "Estimation for 0.12 and 0.14 done\n",
      "It took: 117.87578248977661 seconds.\n",
      "[0.844856016252013, 0.10624345507200163]\n"
     ]
    },
    {
     "name": "stderr",
     "output_type": "stream",
     "text": [
      "Initial filtering of formulas: 100%|██████████████| 2/2 [00:00<00:00, 56.35it/s]\n",
      "Computing chunks: 100%|████████████████████████| 2/2 [00:00<00:00, 85598.04it/s]\n",
      "Splitting the experimental spectrum into chunks: 131072it [00:00, 3674101.54it/s]\n",
      "Deconvolving chunks: 100%|███████████████████████| 1/1 [02:03<00:00, 123.75s/it]\n"
     ]
    },
    {
     "name": "stdout",
     "output_type": "stream",
     "text": [
      "Estimation for 0.12 and 0.15000000000000002 done\n",
      "It took: 123.89527344703674 seconds.\n",
      "[0.844246441755013, 0.10625216573600163]\n"
     ]
    },
    {
     "name": "stderr",
     "output_type": "stream",
     "text": [
      "Initial filtering of formulas: 100%|██████████████| 2/2 [00:00<00:00, 63.88it/s]\n",
      "Computing chunks: 100%|████████████████████████| 2/2 [00:00<00:00, 76260.07it/s]\n",
      "Splitting the experimental spectrum into chunks: 131072it [00:00, 3560502.41it/s]\n",
      "Deconvolving chunks: 100%|███████████████████████| 1/1 [02:07<00:00, 127.66s/it]\n"
     ]
    },
    {
     "name": "stdout",
     "output_type": "stream",
     "text": [
      "Estimation for 0.12 and 0.16 done\n",
      "It took: 127.79403638839722 seconds.\n",
      "[0.8442003400170128, 0.10618002058500163]\n"
     ]
    },
    {
     "name": "stderr",
     "output_type": "stream",
     "text": [
      "Initial filtering of formulas: 100%|██████████████| 2/2 [00:00<00:00, 64.18it/s]\n",
      "Computing chunks: 100%|███████████████████████| 2/2 [00:00<00:00, 103563.06it/s]\n",
      "Splitting the experimental spectrum into chunks: 131072it [00:00, 3553574.96it/s]\n",
      "Deconvolving chunks: 100%|███████████████████████| 1/1 [01:56<00:00, 116.88s/it]\n"
     ]
    },
    {
     "name": "stdout",
     "output_type": "stream",
     "text": [
      "Estimation for 0.12 and 0.17 done\n",
      "It took: 117.01862454414368 seconds.\n",
      "[0.844223490154013, 0.10604667016000162]\n"
     ]
    },
    {
     "name": "stderr",
     "output_type": "stream",
     "text": [
      "Initial filtering of formulas: 100%|██████████████| 2/2 [00:00<00:00, 64.05it/s]\n",
      "Computing chunks: 100%|████████████████████████| 2/2 [00:00<00:00, 69905.07it/s]\n",
      "Splitting the experimental spectrum into chunks: 131072it [00:00, 3469651.14it/s]\n",
      "Deconvolving chunks: 100%|███████████████████████| 1/1 [02:04<00:00, 124.46s/it]\n"
     ]
    },
    {
     "name": "stdout",
     "output_type": "stream",
     "text": [
      "Estimation for 0.12 and 0.18000000000000002 done\n",
      "It took: 124.59706377983093 seconds.\n",
      "[0.844252625486013, 0.10597671701600163]\n"
     ]
    },
    {
     "name": "stderr",
     "output_type": "stream",
     "text": [
      "Initial filtering of formulas: 100%|██████████████| 2/2 [00:00<00:00, 56.70it/s]\n",
      "Computing chunks: 100%|████████████████████████| 2/2 [00:00<00:00, 41734.37it/s]\n",
      "Splitting the experimental spectrum into chunks: 131072it [00:00, 3158046.05it/s]\n",
      "Deconvolving chunks: 100%|███████████████████████| 1/1 [02:05<00:00, 125.47s/it]\n"
     ]
    },
    {
     "name": "stdout",
     "output_type": "stream",
     "text": [
      "Estimation for 0.12 and 0.19 done\n",
      "It took: 125.63804364204407 seconds.\n",
      "[0.844412199364013, 0.10581760177200163]\n"
     ]
    },
    {
     "name": "stderr",
     "output_type": "stream",
     "text": [
      "Initial filtering of formulas: 100%|██████████████| 2/2 [00:00<00:00, 63.90it/s]\n",
      "Computing chunks: 100%|████████████████████████| 2/2 [00:00<00:00, 71089.90it/s]\n",
      "Splitting the experimental spectrum into chunks: 131072it [00:00, 3557184.91it/s]\n",
      "Deconvolving chunks: 100%|███████████████████████| 1/1 [02:01<00:00, 121.97s/it]\n"
     ]
    },
    {
     "name": "stdout",
     "output_type": "stream",
     "text": [
      "Estimation for 0.12 and 0.2 done\n",
      "It took: 122.10937404632568 seconds.\n",
      "[0.844461110472013, 0.10570268408000162]\n"
     ]
    },
    {
     "name": "stderr",
     "output_type": "stream",
     "text": [
      "Initial filtering of formulas: 100%|██████████████| 2/2 [00:00<00:00, 66.01it/s]\n",
      "Computing chunks: 100%|████████████████████████| 2/2 [00:00<00:00, 79137.81it/s]\n",
      "Splitting the experimental spectrum into chunks: 131072it [00:00, 3576182.54it/s]\n",
      "Deconvolving chunks: 100%|███████████████████████| 1/1 [02:02<00:00, 122.28s/it]\n"
     ]
    },
    {
     "name": "stdout",
     "output_type": "stream",
     "text": [
      "Estimation for 0.12 and 0.21000000000000002 done\n",
      "It took: 122.41594338417053 seconds.\n",
      "[0.8444930293740129, 0.10562021659200162]\n"
     ]
    },
    {
     "name": "stderr",
     "output_type": "stream",
     "text": [
      "Initial filtering of formulas: 100%|██████████████| 2/2 [00:00<00:00, 64.78it/s]\n",
      "Computing chunks: 100%|███████████████████████| 2/2 [00:00<00:00, 104857.60it/s]\n",
      "Splitting the experimental spectrum into chunks: 131072it [00:00, 3322048.34it/s]\n",
      "Deconvolving chunks: 100%|███████████████████████| 1/1 [02:06<00:00, 126.08s/it]\n"
     ]
    },
    {
     "name": "stdout",
     "output_type": "stream",
     "text": [
      "Estimation for 0.12 and 0.22 done\n",
      "It took: 126.24747729301453 seconds.\n",
      "[0.844681228706013, 0.10537589557000161]\n"
     ]
    },
    {
     "name": "stderr",
     "output_type": "stream",
     "text": [
      "Initial filtering of formulas: 100%|██████████████| 2/2 [00:00<00:00, 64.56it/s]\n",
      "Computing chunks: 100%|████████████████████████| 2/2 [00:00<00:00, 98689.51it/s]\n",
      "Splitting the experimental spectrum into chunks: 131072it [00:00, 3531206.05it/s]\n",
      "Deconvolving chunks: 100%|███████████████████████| 1/1 [02:08<00:00, 128.76s/it]\n"
     ]
    },
    {
     "name": "stdout",
     "output_type": "stream",
     "text": [
      "Estimation for 0.12 and 0.23 done\n",
      "It took: 128.89958691596985 seconds.\n",
      "[0.8433290781570129, 0.1052925682990016]\n"
     ]
    },
    {
     "name": "stderr",
     "output_type": "stream",
     "text": [
      "Initial filtering of formulas: 100%|██████████████| 2/2 [00:00<00:00, 58.26it/s]\n",
      "Computing chunks: 100%|████████████████████████| 2/2 [00:00<00:00, 87381.33it/s]\n",
      "Splitting the experimental spectrum into chunks: 131072it [00:00, 3113722.97it/s]\n",
      "Deconvolving chunks: 100%|███████████████████████| 1/1 [02:31<00:00, 151.20s/it]\n"
     ]
    },
    {
     "name": "stdout",
     "output_type": "stream",
     "text": [
      "Estimation for 0.12 and 0.24000000000000002 done\n",
      "It took: 151.36751127243042 seconds.\n",
      "[0.8417826579800128, 0.1052517725350016]\n"
     ]
    },
    {
     "name": "stderr",
     "output_type": "stream",
     "text": [
      "Initial filtering of formulas: 100%|██████████████| 2/2 [00:00<00:00, 63.96it/s]\n",
      "Computing chunks: 100%|████████████████████████| 2/2 [00:00<00:00, 98689.51it/s]\n",
      "Splitting the experimental spectrum into chunks: 131072it [00:00, 3502298.62it/s]\n",
      "Deconvolving chunks: 100%|███████████████████████| 1/1 [02:01<00:00, 121.37s/it]\n"
     ]
    },
    {
     "name": "stdout",
     "output_type": "stream",
     "text": [
      "Estimation for 0.12 and 0.25 done\n",
      "It took: 121.50837326049805 seconds.\n",
      "[0.8421864716210129, 0.10518876697000161]\n"
     ]
    },
    {
     "name": "stderr",
     "output_type": "stream",
     "text": [
      "Initial filtering of formulas: 100%|██████████████| 2/2 [00:00<00:00, 63.79it/s]\n",
      "Computing chunks: 100%|████████████████████████| 2/2 [00:00<00:00, 91180.52it/s]\n",
      "Splitting the experimental spectrum into chunks: 131072it [00:00, 3307697.20it/s]\n",
      "Deconvolving chunks: 100%|███████████████████████| 1/1 [02:04<00:00, 124.68s/it]\n"
     ]
    },
    {
     "name": "stdout",
     "output_type": "stream",
     "text": [
      "Estimation for 0.12 and 0.26 done\n",
      "It took: 124.82424712181091 seconds.\n",
      "[0.8429234930880128, 0.1047792925150016]\n"
     ]
    },
    {
     "name": "stderr",
     "output_type": "stream",
     "text": [
      "Initial filtering of formulas: 100%|██████████████| 2/2 [00:00<00:00, 62.70it/s]\n",
      "Computing chunks: 100%|████████████████████████| 2/2 [00:00<00:00, 96420.78it/s]\n",
      "Splitting the experimental spectrum into chunks: 131072it [00:00, 3491510.68it/s]\n",
      "Deconvolving chunks: 100%|███████████████████████| 1/1 [02:05<00:00, 125.58s/it]\n"
     ]
    },
    {
     "name": "stdout",
     "output_type": "stream",
     "text": [
      "Estimation for 0.12 and 0.27 done\n",
      "It took: 125.71793532371521 seconds.\n",
      "[0.8434350708650129, 0.10464179432600161]\n"
     ]
    },
    {
     "name": "stderr",
     "output_type": "stream",
     "text": [
      "Initial filtering of formulas: 100%|██████████████| 2/2 [00:00<00:00, 63.96it/s]\n",
      "Computing chunks: 100%|████████████████████████| 2/2 [00:00<00:00, 99864.38it/s]\n",
      "Splitting the experimental spectrum into chunks: 131072it [00:00, 3514366.17it/s]\n",
      "Deconvolving chunks: 100%|███████████████████████| 1/1 [02:30<00:00, 150.71s/it]\n"
     ]
    },
    {
     "name": "stdout",
     "output_type": "stream",
     "text": [
      "Estimation for 0.12 and 0.28 done\n",
      "It took: 150.86570358276367 seconds.\n",
      "[0.8440670149140129, 0.1042234278050016]\n"
     ]
    },
    {
     "name": "stderr",
     "output_type": "stream",
     "text": [
      "Initial filtering of formulas: 100%|██████████████| 2/2 [00:00<00:00, 64.77it/s]\n",
      "Computing chunks: 100%|████████████████████████| 2/2 [00:00<00:00, 89240.51it/s]\n",
      "Splitting the experimental spectrum into chunks: 131072it [00:00, 3506431.19it/s]\n",
      "Deconvolving chunks: 100%|███████████████████████| 1/1 [02:06<00:00, 126.92s/it]\n"
     ]
    },
    {
     "name": "stdout",
     "output_type": "stream",
     "text": [
      "Estimation for 0.12 and 0.29000000000000004 done\n",
      "It took: 127.08002042770386 seconds.\n",
      "[0.844743821091013, 0.10357458483600158]\n"
     ]
    },
    {
     "name": "stderr",
     "output_type": "stream",
     "text": [
      "Initial filtering of formulas: 100%|██████████████| 2/2 [00:00<00:00, 58.77it/s]\n",
      "Computing chunks: 100%|████████████████████████| 2/2 [00:00<00:00, 82241.25it/s]\n",
      "Splitting the experimental spectrum into chunks: 131072it [00:00, 3615553.88it/s]\n",
      "Deconvolving chunks: 100%|███████████████████████| 1/1 [01:46<00:00, 106.79s/it]\n"
     ]
    },
    {
     "name": "stdout",
     "output_type": "stream",
     "text": [
      "Estimation for 0.13 and 0.01 done\n",
      "It took: 106.93548154830933 seconds.\n",
      "[0.7348043878610112, 0.259536762234004]\n"
     ]
    },
    {
     "name": "stderr",
     "output_type": "stream",
     "text": [
      "Initial filtering of formulas: 100%|██████████████| 2/2 [00:00<00:00, 63.09it/s]\n",
      "Computing chunks: 100%|████████████████████████| 2/2 [00:00<00:00, 90200.09it/s]\n",
      "Splitting the experimental spectrum into chunks: 131072it [00:00, 3473026.69it/s]\n",
      "Deconvolving chunks: 100%|███████████████████████| 1/1 [02:24<00:00, 144.57s/it]\n"
     ]
    },
    {
     "name": "stdout",
     "output_type": "stream",
     "text": [
      "Estimation for 0.13 and 0.02 done\n",
      "It took: 144.7103624343872 seconds.\n",
      "[0.8728694404750134, 0.09644521539000148]\n"
     ]
    },
    {
     "name": "stderr",
     "output_type": "stream",
     "text": [
      "Initial filtering of formulas: 100%|██████████████| 2/2 [00:00<00:00, 65.03it/s]\n",
      "Computing chunks: 100%|████████████████████████| 2/2 [00:00<00:00, 82241.25it/s]\n",
      "Splitting the experimental spectrum into chunks: 131072it [00:00, 3545988.12it/s]\n",
      "Deconvolving chunks: 100%|███████████████████████| 1/1 [02:24<00:00, 144.05s/it]\n"
     ]
    },
    {
     "name": "stdout",
     "output_type": "stream",
     "text": [
      "Estimation for 0.13 and 0.03 done\n",
      "It took: 144.18989181518555 seconds.\n",
      "[0.8588279767390132, 0.10470269405400161]\n"
     ]
    },
    {
     "name": "stderr",
     "output_type": "stream",
     "text": [
      "Initial filtering of formulas: 100%|██████████████| 2/2 [00:00<00:00, 64.67it/s]\n",
      "Computing chunks: 100%|████████████████████████| 2/2 [00:00<00:00, 95325.09it/s]\n",
      "Splitting the experimental spectrum into chunks: 131072it [00:00, 3553643.87it/s]\n",
      "Deconvolving chunks: 100%|███████████████████████| 1/1 [02:27<00:00, 147.31s/it]\n"
     ]
    },
    {
     "name": "stdout",
     "output_type": "stream",
     "text": [
      "Estimation for 0.13 and 0.04 done\n",
      "It took: 147.46585726737976 seconds.\n",
      "[0.8560580280680131, 0.10653405354200164]\n"
     ]
    },
    {
     "name": "stderr",
     "output_type": "stream",
     "text": [
      "Initial filtering of formulas: 100%|██████████████| 2/2 [00:00<00:00, 51.09it/s]\n",
      "Computing chunks: 100%|████████████████████████| 2/2 [00:00<00:00, 86480.49it/s]\n",
      "Splitting the experimental spectrum into chunks: 131072it [00:00, 3295028.97it/s]\n",
      "Deconvolving chunks: 100%|███████████████████████| 1/1 [01:57<00:00, 117.78s/it]\n"
     ]
    },
    {
     "name": "stdout",
     "output_type": "stream",
     "text": [
      "Estimation for 0.13 and 0.05 done\n",
      "It took: 117.9299213886261 seconds.\n",
      "[0.855472126785013, 0.10677133059000164]\n"
     ]
    },
    {
     "name": "stderr",
     "output_type": "stream",
     "text": [
      "Initial filtering of formulas: 100%|██████████████| 2/2 [00:00<00:00, 62.36it/s]\n",
      "Computing chunks: 100%|████████████████████████| 2/2 [00:00<00:00, 42581.77it/s]\n",
      "Splitting the experimental spectrum into chunks: 131072it [00:00, 3402396.44it/s]\n",
      "Deconvolving chunks: 100%|███████████████████████| 1/1 [02:00<00:00, 120.36s/it]\n"
     ]
    },
    {
     "name": "stdout",
     "output_type": "stream",
     "text": [
      "Estimation for 0.13 and 0.060000000000000005 done\n",
      "It took: 120.52476096153259 seconds.\n",
      "[0.8547887156280131, 0.10662682844600163]\n"
     ]
    },
    {
     "name": "stderr",
     "output_type": "stream",
     "text": [
      "Initial filtering of formulas: 100%|██████████████| 2/2 [00:00<00:00, 62.01it/s]\n",
      "Computing chunks: 100%|████████████████████████| 2/2 [00:00<00:00, 88301.14it/s]\n",
      "Splitting the experimental spectrum into chunks: 131072it [00:00, 3507616.91it/s]\n",
      "Deconvolving chunks: 100%|███████████████████████| 1/1 [02:01<00:00, 121.18s/it]\n"
     ]
    },
    {
     "name": "stdout",
     "output_type": "stream",
     "text": [
      "Estimation for 0.13 and 0.06999999999999999 done\n",
      "It took: 121.32126379013062 seconds.\n",
      "[0.8540785902290131, 0.10604112097300163]\n"
     ]
    },
    {
     "name": "stderr",
     "output_type": "stream",
     "text": [
      "Initial filtering of formulas: 100%|██████████████| 2/2 [00:00<00:00, 64.48it/s]\n",
      "Computing chunks: 100%|███████████████████████| 2/2 [00:00<00:00, 101067.57it/s]\n",
      "Splitting the experimental spectrum into chunks: 131072it [00:00, 3528894.03it/s]\n",
      "Deconvolving chunks: 100%|███████████████████████| 1/1 [02:00<00:00, 120.55s/it]\n"
     ]
    },
    {
     "name": "stdout",
     "output_type": "stream",
     "text": [
      "Estimation for 0.13 and 0.08 done\n",
      "It took: 120.7114531993866 seconds.\n",
      "[0.8525415890490131, 0.10582915133300162]\n"
     ]
    },
    {
     "name": "stderr",
     "output_type": "stream",
     "text": [
      "Initial filtering of formulas: 100%|██████████████| 2/2 [00:00<00:00, 61.40it/s]\n",
      "Computing chunks: 100%|████████████████████████| 2/2 [00:00<00:00, 49056.19it/s]\n",
      "Splitting the experimental spectrum into chunks: 131072it [00:00, 3378891.69it/s]\n",
      "Deconvolving chunks: 100%|███████████████████████| 1/1 [02:00<00:00, 120.10s/it]\n"
     ]
    },
    {
     "name": "stdout",
     "output_type": "stream",
     "text": [
      "Estimation for 0.13 and 0.09 done\n",
      "It took: 120.26198506355286 seconds.\n",
      "[0.851071099410013, 0.10597960204700162]\n"
     ]
    },
    {
     "name": "stderr",
     "output_type": "stream",
     "text": [
      "Initial filtering of formulas: 100%|██████████████| 2/2 [00:00<00:00, 63.00it/s]\n",
      "Computing chunks: 100%|████████████████████████| 2/2 [00:00<00:00, 96420.78it/s]\n",
      "Splitting the experimental spectrum into chunks: 131072it [00:00, 3493551.94it/s]\n",
      "Deconvolving chunks: 100%|███████████████████████| 1/1 [02:00<00:00, 120.70s/it]\n"
     ]
    },
    {
     "name": "stdout",
     "output_type": "stream",
     "text": [
      "Estimation for 0.13 and 0.09999999999999999 done\n",
      "It took: 120.86183571815491 seconds.\n",
      "[0.850331475918013, 0.10589636324500162]\n"
     ]
    },
    {
     "name": "stderr",
     "output_type": "stream",
     "text": [
      "Initial filtering of formulas: 100%|██████████████| 2/2 [00:00<00:00, 61.63it/s]\n",
      "Computing chunks: 100%|████████████████████████| 2/2 [00:00<00:00, 84733.41it/s]\n",
      "Splitting the experimental spectrum into chunks: 131072it [00:00, 3493707.35it/s]\n",
      "Deconvolving chunks: 100%|███████████████████████| 1/1 [02:01<00:00, 121.95s/it]\n"
     ]
    },
    {
     "name": "stdout",
     "output_type": "stream",
     "text": [
      "Estimation for 0.13 and 0.11 done\n",
      "It took: 122.09044241905212 seconds.\n",
      "[0.8499241883950129, 0.10596097712800162]\n"
     ]
    },
    {
     "name": "stderr",
     "output_type": "stream",
     "text": [
      "Initial filtering of formulas: 100%|██████████████| 2/2 [00:00<00:00, 63.89it/s]\n",
      "Computing chunks: 100%|████████████████████████| 2/2 [00:00<00:00, 71089.90it/s]\n",
      "Splitting the experimental spectrum into chunks: 131072it [00:00, 3523352.99it/s]\n",
      "Deconvolving chunks: 100%|███████████████████████| 1/1 [02:00<00:00, 120.37s/it]\n"
     ]
    },
    {
     "name": "stdout",
     "output_type": "stream",
     "text": [
      "Estimation for 0.13 and 0.12 done\n",
      "It took: 120.50598192214966 seconds.\n",
      "[0.849724266623013, 0.10596966273700162]\n"
     ]
    },
    {
     "name": "stderr",
     "output_type": "stream",
     "text": [
      "Initial filtering of formulas: 100%|██████████████| 2/2 [00:00<00:00, 63.81it/s]\n",
      "Computing chunks: 100%|████████████████████████| 2/2 [00:00<00:00, 95325.09it/s]\n",
      "Splitting the experimental spectrum into chunks: 131072it [00:00, 3499534.13it/s]\n",
      "Deconvolving chunks: 100%|███████████████████████| 1/1 [02:01<00:00, 121.05s/it]\n"
     ]
    },
    {
     "name": "stdout",
     "output_type": "stream",
     "text": [
      "Estimation for 0.13 and 0.13 done\n",
      "It took: 121.19066667556763 seconds.\n",
      "[0.847602301574013, 0.10627031243100163]\n"
     ]
    },
    {
     "name": "stderr",
     "output_type": "stream",
     "text": [
      "Initial filtering of formulas: 100%|██████████████| 2/2 [00:00<00:00, 62.29it/s]\n",
      "Computing chunks: 100%|████████████████████████| 2/2 [00:00<00:00, 93206.76it/s]\n",
      "Splitting the experimental spectrum into chunks: 131072it [00:00, 3327074.53it/s]\n",
      "Deconvolving chunks: 100%|███████████████████████| 1/1 [02:21<00:00, 141.94s/it]\n"
     ]
    },
    {
     "name": "stdout",
     "output_type": "stream",
     "text": [
      "Estimation for 0.13 and 0.14 done\n",
      "It took: 142.09079241752625 seconds.\n",
      "[0.846657191284013, 0.10632751597600162]\n"
     ]
    },
    {
     "name": "stderr",
     "output_type": "stream",
     "text": [
      "Initial filtering of formulas: 100%|██████████████| 2/2 [00:00<00:00, 62.15it/s]\n",
      "Computing chunks: 100%|████████████████████████| 2/2 [00:00<00:00, 96420.78it/s]\n",
      "Splitting the experimental spectrum into chunks: 131072it [00:00, 3439649.96it/s]\n",
      "Deconvolving chunks: 100%|███████████████████████| 1/1 [02:21<00:00, 141.40s/it]\n"
     ]
    },
    {
     "name": "stdout",
     "output_type": "stream",
     "text": [
      "Estimation for 0.13 and 0.15000000000000002 done\n",
      "It took: 141.54704976081848 seconds.\n",
      "[0.845482062042013, 0.10642281253900163]\n"
     ]
    },
    {
     "name": "stderr",
     "output_type": "stream",
     "text": [
      "Initial filtering of formulas: 100%|██████████████| 2/2 [00:00<00:00, 64.74it/s]\n",
      "Computing chunks: 100%|████████████████████████| 2/2 [00:00<00:00, 98689.51it/s]\n",
      "Splitting the experimental spectrum into chunks: 131072it [00:00, 3492841.67it/s]\n",
      "Deconvolving chunks: 100%|███████████████████████| 1/1 [02:05<00:00, 125.06s/it]\n"
     ]
    },
    {
     "name": "stdout",
     "output_type": "stream",
     "text": [
      "Estimation for 0.13 and 0.16 done\n",
      "It took: 125.201162815094 seconds.\n",
      "[0.845414867686013, 0.10637625487000163]\n"
     ]
    },
    {
     "name": "stderr",
     "output_type": "stream",
     "text": [
      "Initial filtering of formulas: 100%|██████████████| 2/2 [00:00<00:00, 57.13it/s]\n",
      "Computing chunks: 100%|████████████████████████| 2/2 [00:00<00:00, 89240.51it/s]\n",
      "Splitting the experimental spectrum into chunks: 131072it [00:00, 3146784.35it/s]\n",
      "Deconvolving chunks: 100%|███████████████████████| 1/1 [02:04<00:00, 124.76s/it]\n"
     ]
    },
    {
     "name": "stdout",
     "output_type": "stream",
     "text": [
      "Estimation for 0.13 and 0.17 done\n",
      "It took: 124.93205690383911 seconds.\n",
      "[0.8455389068170129, 0.10618467119000162]\n"
     ]
    },
    {
     "name": "stderr",
     "output_type": "stream",
     "text": [
      "Initial filtering of formulas: 100%|██████████████| 2/2 [00:00<00:00, 62.41it/s]\n",
      "Computing chunks: 100%|████████████████████████| 2/2 [00:00<00:00, 90200.09it/s]\n",
      "Splitting the experimental spectrum into chunks: 131072it [00:00, 3507975.02it/s]\n",
      "Deconvolving chunks: 100%|███████████████████████| 1/1 [02:00<00:00, 120.06s/it]\n"
     ]
    },
    {
     "name": "stdout",
     "output_type": "stream",
     "text": [
      "Estimation for 0.13 and 0.18000000000000002 done\n",
      "It took: 120.22287344932556 seconds.\n",
      "[0.845627065070013, 0.10601493780000162]\n"
     ]
    },
    {
     "name": "stderr",
     "output_type": "stream",
     "text": [
      "Initial filtering of formulas: 100%|██████████████| 2/2 [00:00<00:00, 59.32it/s]\n",
      "Computing chunks: 100%|████████████████████████| 2/2 [00:00<00:00, 13934.56it/s]\n",
      "Splitting the experimental spectrum into chunks: 131072it [00:00, 3168730.99it/s]\n",
      "Deconvolving chunks: 100%|███████████████████████| 1/1 [02:03<00:00, 123.23s/it]\n"
     ]
    },
    {
     "name": "stdout",
     "output_type": "stream",
     "text": [
      "Estimation for 0.13 and 0.19 done\n",
      "It took: 123.37862157821655 seconds.\n",
      "[0.845648557592013, 0.10597133120300162]\n"
     ]
    },
    {
     "name": "stderr",
     "output_type": "stream",
     "text": [
      "Initial filtering of formulas: 100%|██████████████| 2/2 [00:00<00:00, 57.45it/s]\n",
      "Computing chunks: 100%|████████████████████████| 2/2 [00:00<00:00, 86480.49it/s]\n",
      "Splitting the experimental spectrum into chunks: 131072it [00:00, 3043310.68it/s]\n",
      "Deconvolving chunks: 100%|███████████████████████| 1/1 [02:02<00:00, 122.16s/it]\n"
     ]
    },
    {
     "name": "stdout",
     "output_type": "stream",
     "text": [
      "Estimation for 0.13 and 0.2 done\n",
      "It took: 122.3379077911377 seconds.\n",
      "[0.845632280440013, 0.10595921028700163]\n"
     ]
    },
    {
     "name": "stderr",
     "output_type": "stream",
     "text": [
      "Initial filtering of formulas: 100%|██████████████| 2/2 [00:00<00:00, 59.14it/s]\n",
      "Computing chunks: 100%|████████████████████████| 2/2 [00:00<00:00, 72944.42it/s]\n",
      "Splitting the experimental spectrum into chunks: 131072it [00:00, 3293923.39it/s]\n",
      "Deconvolving chunks: 100%|███████████████████████| 1/1 [02:03<00:00, 123.97s/it]\n"
     ]
    },
    {
     "name": "stdout",
     "output_type": "stream",
     "text": [
      "Estimation for 0.13 and 0.21000000000000002 done\n",
      "It took: 124.11154437065125 seconds.\n",
      "[0.845664025479013, 0.10591561684500163]\n"
     ]
    },
    {
     "name": "stderr",
     "output_type": "stream",
     "text": [
      "Initial filtering of formulas: 100%|██████████████| 2/2 [00:00<00:00, 62.69it/s]\n",
      "Computing chunks: 100%|████████████████████████| 2/2 [00:00<00:00, 99864.38it/s]\n",
      "Splitting the experimental spectrum into chunks: 131072it [00:00, 3370832.50it/s]\n",
      "Deconvolving chunks: 100%|███████████████████████| 1/1 [02:04<00:00, 124.85s/it]\n"
     ]
    },
    {
     "name": "stdout",
     "output_type": "stream",
     "text": [
      "Estimation for 0.13 and 0.22 done\n",
      "It took: 124.98982167243958 seconds.\n",
      "[0.845962176282013, 0.10583895318600163]\n"
     ]
    },
    {
     "name": "stderr",
     "output_type": "stream",
     "text": [
      "Initial filtering of formulas: 100%|██████████████| 2/2 [00:00<00:00, 64.38it/s]\n",
      "Computing chunks: 100%|████████████████████████| 2/2 [00:00<00:00, 79891.50it/s]\n",
      "Splitting the experimental spectrum into chunks: 131072it [00:00, 3504955.75it/s]\n",
      "Deconvolving chunks: 100%|███████████████████████| 1/1 [02:03<00:00, 123.95s/it]\n"
     ]
    },
    {
     "name": "stdout",
     "output_type": "stream",
     "text": [
      "Estimation for 0.13 and 0.23 done\n",
      "It took: 124.09085273742676 seconds.\n",
      "[0.846152194654013, 0.10574512188400162]\n"
     ]
    },
    {
     "name": "stderr",
     "output_type": "stream",
     "text": [
      "Initial filtering of formulas: 100%|██████████████| 2/2 [00:00<00:00, 64.25it/s]\n",
      "Computing chunks: 100%|████████████████████████| 2/2 [00:00<00:00, 98689.51it/s]\n",
      "Splitting the experimental spectrum into chunks: 131072it [00:00, 3555781.45it/s]\n",
      "Deconvolving chunks: 100%|███████████████████████| 1/1 [02:06<00:00, 126.84s/it]\n"
     ]
    },
    {
     "name": "stdout",
     "output_type": "stream",
     "text": [
      "Estimation for 0.13 and 0.24000000000000002 done\n",
      "It took: 126.97748351097107 seconds.\n",
      "[0.8432355213820129, 0.10575909538500163]\n"
     ]
    },
    {
     "name": "stderr",
     "output_type": "stream",
     "text": [
      "Initial filtering of formulas: 100%|██████████████| 2/2 [00:00<00:00, 62.59it/s]\n",
      "Computing chunks: 100%|████████████████████████| 2/2 [00:00<00:00, 96420.78it/s]\n",
      "Splitting the experimental spectrum into chunks: 131072it [00:00, 3517986.91it/s]\n",
      "Deconvolving chunks: 100%|███████████████████████| 1/1 [02:09<00:00, 129.63s/it]\n"
     ]
    },
    {
     "name": "stdout",
     "output_type": "stream",
     "text": [
      "Estimation for 0.13 and 0.25 done\n",
      "It took: 129.79246425628662 seconds.\n",
      "[0.8437215032780129, 0.10564481479400162]\n"
     ]
    },
    {
     "name": "stderr",
     "output_type": "stream",
     "text": [
      "Initial filtering of formulas: 100%|██████████████| 2/2 [00:00<00:00, 62.82it/s]\n",
      "Computing chunks: 100%|████████████████████████| 2/2 [00:00<00:00, 50840.05it/s]\n",
      "Splitting the experimental spectrum into chunks: 131072it [00:00, 3574764.05it/s]\n",
      "Deconvolving chunks: 100%|███████████████████████| 1/1 [02:10<00:00, 130.73s/it]\n"
     ]
    },
    {
     "name": "stdout",
     "output_type": "stream",
     "text": [
      "Estimation for 0.13 and 0.26 done\n",
      "It took: 130.8661777973175 seconds.\n",
      "[0.844242591817013, 0.1055063324040016]\n"
     ]
    },
    {
     "name": "stderr",
     "output_type": "stream",
     "text": [
      "Initial filtering of formulas: 100%|██████████████| 2/2 [00:00<00:00, 63.63it/s]\n",
      "Computing chunks: 100%|███████████████████████| 2/2 [00:00<00:00, 101067.57it/s]\n",
      "Splitting the experimental spectrum into chunks: 131072it [00:00, 3536225.84it/s]\n",
      "Deconvolving chunks: 100%|███████████████████████| 1/1 [02:11<00:00, 131.02s/it]\n"
     ]
    },
    {
     "name": "stdout",
     "output_type": "stream",
     "text": [
      "Estimation for 0.13 and 0.27 done\n",
      "It took: 131.15665793418884 seconds.\n",
      "[0.844713114444013, 0.1053262121370016]\n"
     ]
    },
    {
     "name": "stderr",
     "output_type": "stream",
     "text": [
      "Initial filtering of formulas: 100%|██████████████| 2/2 [00:00<00:00, 64.84it/s]\n",
      "Computing chunks: 100%|███████████████████████| 2/2 [00:00<00:00, 101067.57it/s]\n",
      "Splitting the experimental spectrum into chunks: 131072it [00:00, 3533316.71it/s]\n",
      "Deconvolving chunks: 100%|███████████████████████| 1/1 [02:13<00:00, 133.25s/it]\n"
     ]
    },
    {
     "name": "stdout",
     "output_type": "stream",
     "text": [
      "Estimation for 0.13 and 0.28 done\n",
      "It took: 133.41619229316711 seconds.\n",
      "[0.845014291679013, 0.10525537307700161]\n"
     ]
    },
    {
     "name": "stderr",
     "output_type": "stream",
     "text": [
      "Initial filtering of formulas: 100%|██████████████| 2/2 [00:00<00:00, 63.02it/s]\n",
      "Computing chunks: 100%|████████████████████████| 2/2 [00:00<00:00, 88301.14it/s]\n",
      "Splitting the experimental spectrum into chunks: 131072it [00:00, 3504687.62it/s]\n",
      "Deconvolving chunks: 100%|███████████████████████| 1/1 [02:17<00:00, 137.25s/it]\n"
     ]
    },
    {
     "name": "stdout",
     "output_type": "stream",
     "text": [
      "Estimation for 0.13 and 0.29000000000000004 done\n",
      "It took: 137.3860547542572 seconds.\n",
      "[0.845324203021013, 0.10485382594400161]\n"
     ]
    },
    {
     "name": "stderr",
     "output_type": "stream",
     "text": [
      "Initial filtering of formulas: 100%|██████████████| 2/2 [00:00<00:00, 63.61it/s]\n",
      "Computing chunks: 100%|████████████████████████| 2/2 [00:00<00:00, 95325.09it/s]\n",
      "Splitting the experimental spectrum into chunks: 131072it [00:00, 3529823.01it/s]\n",
      "Deconvolving chunks: 100%|███████████████████████| 1/1 [03:04<00:00, 184.49s/it]\n"
     ]
    },
    {
     "name": "stdout",
     "output_type": "stream",
     "text": [
      "Estimation for 0.14 and 0.01 done\n",
      "It took: 184.625506401062 seconds.\n",
      "[0.7358833663400113, 0.259764731037004]\n"
     ]
    },
    {
     "name": "stderr",
     "output_type": "stream",
     "text": [
      "Initial filtering of formulas: 100%|██████████████| 2/2 [00:00<00:00, 63.50it/s]\n",
      "Computing chunks: 100%|████████████████████████| 2/2 [00:00<00:00, 95325.09it/s]\n",
      "Splitting the experimental spectrum into chunks: 131072it [00:00, 3478322.41it/s]\n",
      "Deconvolving chunks: 100%|███████████████████████| 1/1 [02:39<00:00, 159.92s/it]\n"
     ]
    },
    {
     "name": "stdout",
     "output_type": "stream",
     "text": [
      "Estimation for 0.14 and 0.02 done\n",
      "It took: 160.06533002853394 seconds.\n",
      "[0.8744933338690134, 0.09667110521700148]\n"
     ]
    },
    {
     "name": "stderr",
     "output_type": "stream",
     "text": [
      "Initial filtering of formulas: 100%|██████████████| 2/2 [00:00<00:00, 63.25it/s]\n",
      "Computing chunks: 100%|████████████████████████| 2/2 [00:00<00:00, 90200.09it/s]\n",
      "Splitting the experimental spectrum into chunks: 131072it [00:00, 3466282.14it/s]\n",
      "Deconvolving chunks: 100%|███████████████████████| 1/1 [02:35<00:00, 155.26s/it]\n"
     ]
    },
    {
     "name": "stdout",
     "output_type": "stream",
     "text": [
      "Estimation for 0.14 and 0.03 done\n",
      "It took: 155.39550065994263 seconds.\n",
      "[0.8615245113160133, 0.1042056522790016]\n"
     ]
    },
    {
     "name": "stderr",
     "output_type": "stream",
     "text": [
      "Initial filtering of formulas: 100%|██████████████| 2/2 [00:00<00:00, 63.10it/s]\n",
      "Computing chunks: 100%|████████████████████████| 2/2 [00:00<00:00, 92182.51it/s]\n",
      "Splitting the experimental spectrum into chunks: 131072it [00:00, 3487523.80it/s]\n",
      "Deconvolving chunks: 100%|███████████████████████| 1/1 [02:21<00:00, 141.09s/it]\n"
     ]
    },
    {
     "name": "stdout",
     "output_type": "stream",
     "text": [
      "Estimation for 0.14 and 0.04 done\n",
      "It took: 141.23455452919006 seconds.\n",
      "[0.8576319041740131, 0.10668319385700163]\n"
     ]
    },
    {
     "name": "stderr",
     "output_type": "stream",
     "text": [
      "Initial filtering of formulas: 100%|██████████████| 2/2 [00:00<00:00, 63.87it/s]\n",
      "Computing chunks: 100%|████████████████████████| 2/2 [00:00<00:00, 98689.51it/s]\n",
      "Splitting the experimental spectrum into chunks: 131072it [00:00, 3520059.25it/s]\n",
      "Deconvolving chunks: 100%|███████████████████████| 1/1 [01:57<00:00, 117.61s/it]\n"
     ]
    },
    {
     "name": "stdout",
     "output_type": "stream",
     "text": [
      "Estimation for 0.14 and 0.05 done\n",
      "It took: 117.74446415901184 seconds.\n",
      "[0.8567649431880131, 0.10721444003200163]\n"
     ]
    },
    {
     "name": "stderr",
     "output_type": "stream",
     "text": [
      "Initial filtering of formulas: 100%|██████████████| 2/2 [00:00<00:00, 64.62it/s]\n",
      "Computing chunks: 100%|████████████████████████| 2/2 [00:00<00:00, 86480.49it/s]\n",
      "Splitting the experimental spectrum into chunks: 131072it [00:00, 3696806.65it/s]\n",
      "Deconvolving chunks: 100%|███████████████████████| 1/1 [02:30<00:00, 150.50s/it]\n"
     ]
    },
    {
     "name": "stdout",
     "output_type": "stream",
     "text": [
      "Estimation for 0.14 and 0.060000000000000005 done\n",
      "It took: 150.63303446769714 seconds.\n",
      "[0.8563577823460131, 0.10682964650500164]\n"
     ]
    },
    {
     "name": "stderr",
     "output_type": "stream",
     "text": [
      "Initial filtering of formulas: 100%|██████████████| 2/2 [00:00<00:00, 60.96it/s]\n",
      "Computing chunks: 100%|████████████████████████| 2/2 [00:00<00:00, 88301.14it/s]\n",
      "Splitting the experimental spectrum into chunks: 131072it [00:00, 3516434.25it/s]\n",
      "Deconvolving chunks: 100%|███████████████████████| 1/1 [02:19<00:00, 139.24s/it]\n"
     ]
    },
    {
     "name": "stdout",
     "output_type": "stream",
     "text": [
      "Estimation for 0.14 and 0.06999999999999999 done\n",
      "It took: 139.37662720680237 seconds.\n",
      "[0.8556893103510131, 0.10643497076900164]\n"
     ]
    },
    {
     "name": "stderr",
     "output_type": "stream",
     "text": [
      "Initial filtering of formulas: 100%|██████████████| 2/2 [00:00<00:00, 63.16it/s]\n",
      "Computing chunks: 100%|████████████████████████| 2/2 [00:00<00:00, 96420.78it/s]\n",
      "Splitting the experimental spectrum into chunks: 131072it [00:00, 3496596.07it/s]\n",
      "Deconvolving chunks: 100%|███████████████████████| 1/1 [01:57<00:00, 117.94s/it]\n"
     ]
    },
    {
     "name": "stdout",
     "output_type": "stream",
     "text": [
      "Estimation for 0.14 and 0.08 done\n",
      "It took: 118.08082509040833 seconds.\n",
      "[0.8545213261270131, 0.10584550207700162]\n"
     ]
    },
    {
     "name": "stderr",
     "output_type": "stream",
     "text": [
      "Initial filtering of formulas: 100%|██████████████| 2/2 [00:00<00:00, 62.15it/s]\n",
      "Computing chunks: 100%|████████████████████████| 2/2 [00:00<00:00, 88301.14it/s]\n",
      "Splitting the experimental spectrum into chunks: 131072it [00:00, 3408260.42it/s]\n",
      "Deconvolving chunks: 100%|███████████████████████| 1/1 [01:59<00:00, 119.24s/it]\n"
     ]
    },
    {
     "name": "stdout",
     "output_type": "stream",
     "text": [
      "Estimation for 0.14 and 0.09 done\n",
      "It took: 119.3807475566864 seconds.\n",
      "[0.852718137604013, 0.10600306179000163]\n"
     ]
    },
    {
     "name": "stderr",
     "output_type": "stream",
     "text": [
      "Initial filtering of formulas: 100%|██████████████| 2/2 [00:00<00:00, 62.85it/s]\n",
      "Computing chunks: 100%|████████████████████████| 2/2 [00:00<00:00, 99864.38it/s]\n",
      "Splitting the experimental spectrum into chunks: 131072it [00:00, 3511268.60it/s]\n",
      "Deconvolving chunks: 100%|███████████████████████| 1/1 [01:58<00:00, 118.05s/it]\n"
     ]
    },
    {
     "name": "stdout",
     "output_type": "stream",
     "text": [
      "Estimation for 0.14 and 0.09999999999999999 done\n",
      "It took: 118.20232224464417 seconds.\n",
      "[0.8518416470310131, 0.10610788948500162]\n"
     ]
    },
    {
     "name": "stderr",
     "output_type": "stream",
     "text": [
      "Initial filtering of formulas: 100%|██████████████| 2/2 [00:00<00:00, 62.17it/s]\n",
      "Computing chunks: 100%|████████████████████████| 2/2 [00:00<00:00, 94254.02it/s]\n",
      "Splitting the experimental spectrum into chunks: 131072it [00:00, 3448820.69it/s]\n",
      "Deconvolving chunks: 100%|███████████████████████| 1/1 [01:57<00:00, 117.97s/it]\n"
     ]
    },
    {
     "name": "stdout",
     "output_type": "stream",
     "text": [
      "Estimation for 0.14 and 0.11 done\n",
      "It took: 118.11555123329163 seconds.\n",
      "[0.851225579608013, 0.10606257745400162]\n"
     ]
    },
    {
     "name": "stderr",
     "output_type": "stream",
     "text": [
      "Initial filtering of formulas: 100%|██████████████| 2/2 [00:00<00:00, 64.22it/s]\n",
      "Computing chunks: 100%|████████████████████████| 2/2 [00:00<00:00, 92182.51it/s]\n",
      "Splitting the experimental spectrum into chunks: 131072it [00:00, 3532204.33it/s]\n",
      "Deconvolving chunks: 100%|███████████████████████| 1/1 [02:01<00:00, 121.19s/it]\n"
     ]
    },
    {
     "name": "stdout",
     "output_type": "stream",
     "text": [
      "Estimation for 0.14 and 0.12 done\n",
      "It took: 121.32575964927673 seconds.\n",
      "[0.850931572272013, 0.10600549492800163]\n"
     ]
    },
    {
     "name": "stderr",
     "output_type": "stream",
     "text": [
      "Initial filtering of formulas: 100%|██████████████| 2/2 [00:00<00:00, 64.35it/s]\n",
      "Computing chunks: 100%|███████████████████████| 2/2 [00:00<00:00, 101067.57it/s]\n",
      "Splitting the experimental spectrum into chunks: 131072it [00:00, 3535248.02it/s]\n",
      "Deconvolving chunks: 100%|███████████████████████| 1/1 [02:00<00:00, 120.77s/it]\n"
     ]
    },
    {
     "name": "stdout",
     "output_type": "stream",
     "text": [
      "Estimation for 0.14 and 0.13 done\n",
      "It took: 120.90723395347595 seconds.\n",
      "[0.849463063220013, 0.10623469199900162]\n"
     ]
    },
    {
     "name": "stderr",
     "output_type": "stream",
     "text": [
      "Initial filtering of formulas: 100%|██████████████| 2/2 [00:00<00:00, 64.09it/s]\n",
      "Computing chunks: 100%|████████████████████████| 2/2 [00:00<00:00, 91180.52it/s]\n",
      "Splitting the experimental spectrum into chunks: 131072it [00:00, 3539162.54it/s]\n",
      "Deconvolving chunks: 100%|███████████████████████| 1/1 [02:05<00:00, 125.18s/it]\n"
     ]
    },
    {
     "name": "stdout",
     "output_type": "stream",
     "text": [
      "Estimation for 0.14 and 0.14 done\n",
      "It took: 125.31872844696045 seconds.\n",
      "[0.848612796585013, 0.10631000881500162]\n"
     ]
    },
    {
     "name": "stderr",
     "output_type": "stream",
     "text": [
      "Initial filtering of formulas: 100%|██████████████| 2/2 [00:00<00:00, 51.11it/s]\n",
      "Computing chunks: 100%|████████████████████████| 2/2 [00:00<00:00, 88301.14it/s]\n",
      "Splitting the experimental spectrum into chunks: 131072it [00:00, 3526562.41it/s]\n",
      "Deconvolving chunks: 100%|███████████████████████| 1/1 [02:04<00:00, 124.91s/it]\n"
     ]
    },
    {
     "name": "stdout",
     "output_type": "stream",
     "text": [
      "Estimation for 0.14 and 0.15000000000000002 done\n",
      "It took: 125.06646490097046 seconds.\n",
      "[0.847008161766013, 0.10646512092300164]\n"
     ]
    },
    {
     "name": "stderr",
     "output_type": "stream",
     "text": [
      "Initial filtering of formulas: 100%|██████████████| 2/2 [00:00<00:00, 63.31it/s]\n",
      "Computing chunks: 100%|████████████████████████| 2/2 [00:00<00:00, 14242.12it/s]\n",
      "Splitting the experimental spectrum into chunks: 131072it [00:00, 3515782.09it/s]\n",
      "Deconvolving chunks: 100%|███████████████████████| 1/1 [02:03<00:00, 123.22s/it]\n"
     ]
    },
    {
     "name": "stdout",
     "output_type": "stream",
     "text": [
      "Estimation for 0.14 and 0.16 done\n",
      "It took: 123.35910272598267 seconds.\n",
      "[0.846760649444013, 0.10644875388700163]\n"
     ]
    },
    {
     "name": "stderr",
     "output_type": "stream",
     "text": [
      "Initial filtering of formulas: 100%|██████████████| 2/2 [00:00<00:00, 63.69it/s]\n",
      "Computing chunks: 100%|████████████████████████| 2/2 [00:00<00:00, 97541.95it/s]\n",
      "Splitting the experimental spectrum into chunks: 131072it [00:00, 3483810.92it/s]\n",
      "Deconvolving chunks: 100%|███████████████████████| 1/1 [02:04<00:00, 124.57s/it]\n"
     ]
    },
    {
     "name": "stdout",
     "output_type": "stream",
     "text": [
      "Estimation for 0.14 and 0.17 done\n",
      "It took: 124.70514917373657 seconds.\n",
      "[0.846670046672013, 0.10641394626400162]\n"
     ]
    },
    {
     "name": "stderr",
     "output_type": "stream",
     "text": [
      "Initial filtering of formulas: 100%|██████████████| 2/2 [00:00<00:00, 62.02it/s]\n",
      "Computing chunks: 100%|████████████████████████| 2/2 [00:00<00:00, 89240.51it/s]\n",
      "Splitting the experimental spectrum into chunks: 131072it [00:00, 3313278.97it/s]\n",
      "Deconvolving chunks: 100%|███████████████████████| 1/1 [02:03<00:00, 123.39s/it]\n"
     ]
    },
    {
     "name": "stdout",
     "output_type": "stream",
     "text": [
      "Estimation for 0.14 and 0.18000000000000002 done\n",
      "It took: 123.53466391563416 seconds.\n",
      "[0.846808465346013, 0.10617739141800163]\n"
     ]
    },
    {
     "name": "stderr",
     "output_type": "stream",
     "text": [
      "Initial filtering of formulas: 100%|██████████████| 2/2 [00:00<00:00, 63.84it/s]\n",
      "Computing chunks: 100%|████████████████████████| 2/2 [00:00<00:00, 91180.52it/s]\n",
      "Splitting the experimental spectrum into chunks: 131072it [00:00, 3517739.29it/s]\n",
      "Deconvolving chunks: 100%|███████████████████████| 1/1 [02:02<00:00, 122.17s/it]\n"
     ]
    },
    {
     "name": "stdout",
     "output_type": "stream",
     "text": [
      "Estimation for 0.14 and 0.19 done\n",
      "It took: 122.31266856193542 seconds.\n",
      "[0.846932904927013, 0.10605009197100163]\n"
     ]
    },
    {
     "name": "stderr",
     "output_type": "stream",
     "text": [
      "Initial filtering of formulas: 100%|██████████████| 2/2 [00:00<00:00, 64.95it/s]\n",
      "Computing chunks: 100%|████████████████████████| 2/2 [00:00<00:00, 88301.14it/s]\n",
      "Splitting the experimental spectrum into chunks: 131072it [00:00, 3524007.96it/s]\n",
      "Deconvolving chunks: 100%|███████████████████████| 1/1 [02:01<00:00, 121.62s/it]\n"
     ]
    },
    {
     "name": "stdout",
     "output_type": "stream",
     "text": [
      "Estimation for 0.14 and 0.2 done\n",
      "It took: 121.78596448898315 seconds.\n",
      "[0.847070656204013, 0.10598245685500163]\n"
     ]
    },
    {
     "name": "stderr",
     "output_type": "stream",
     "text": [
      "Initial filtering of formulas: 100%|██████████████| 2/2 [00:00<00:00, 64.16it/s]\n",
      "Computing chunks: 100%|███████████████████████| 2/2 [00:00<00:00, 104857.60it/s]\n",
      "Splitting the experimental spectrum into chunks: 131072it [00:00, 3521457.21it/s]\n",
      "Deconvolving chunks: 100%|███████████████████████| 1/1 [02:00<00:00, 120.82s/it]\n"
     ]
    },
    {
     "name": "stdout",
     "output_type": "stream",
     "text": [
      "Estimation for 0.14 and 0.21000000000000002 done\n",
      "It took: 120.97977113723755 seconds.\n",
      "[0.847167807795013, 0.10598994136900163]\n"
     ]
    },
    {
     "name": "stderr",
     "output_type": "stream",
     "text": [
      "Initial filtering of formulas: 100%|██████████████| 2/2 [00:00<00:00, 65.10it/s]\n",
      "Computing chunks: 100%|████████████████████████| 2/2 [00:00<00:00, 90200.09it/s]\n",
      "Splitting the experimental spectrum into chunks: 131072it [00:00, 3542560.63it/s]\n",
      "Deconvolving chunks: 100%|███████████████████████| 1/1 [01:56<00:00, 116.94s/it]\n"
     ]
    },
    {
     "name": "stdout",
     "output_type": "stream",
     "text": [
      "Estimation for 0.14 and 0.22 done\n",
      "It took: 117.10607838630676 seconds.\n",
      "[0.847364979306013, 0.10600204994500162]\n"
     ]
    },
    {
     "name": "stderr",
     "output_type": "stream",
     "text": [
      "Initial filtering of formulas: 100%|██████████████| 2/2 [00:00<00:00, 64.24it/s]\n",
      "Computing chunks: 100%|████████████████████████| 2/2 [00:00<00:00, 99864.38it/s]\n",
      "Splitting the experimental spectrum into chunks: 131072it [00:00, 3496440.40it/s]\n",
      "Deconvolving chunks: 100%|███████████████████████| 1/1 [01:58<00:00, 118.75s/it]\n"
     ]
    },
    {
     "name": "stdout",
     "output_type": "stream",
     "text": [
      "Estimation for 0.14 and 0.23 done\n",
      "It took: 118.89272785186768 seconds.\n",
      "[0.847667848789013, 0.10597819229900163]\n"
     ]
    },
    {
     "name": "stderr",
     "output_type": "stream",
     "text": [
      "Initial filtering of formulas: 100%|██████████████| 2/2 [00:00<00:00, 64.50it/s]\n",
      "Computing chunks: 100%|████████████████████████| 2/2 [00:00<00:00, 94254.02it/s]\n",
      "Splitting the experimental spectrum into chunks: 131072it [00:00, 3502120.13it/s]\n",
      "Deconvolving chunks: 100%|███████████████████████| 1/1 [02:04<00:00, 124.38s/it]\n"
     ]
    },
    {
     "name": "stdout",
     "output_type": "stream",
     "text": [
      "Estimation for 0.14 and 0.24000000000000002 done\n",
      "It took: 124.53938722610474 seconds.\n",
      "[0.846682581852013, 0.10615355629600162]\n"
     ]
    },
    {
     "name": "stderr",
     "output_type": "stream",
     "text": [
      "Initial filtering of formulas: 100%|██████████████| 2/2 [00:00<00:00, 64.08it/s]\n",
      "Computing chunks: 100%|████████████████████████| 2/2 [00:00<00:00, 93206.76it/s]\n",
      "Splitting the experimental spectrum into chunks: 131072it [00:00, 3521231.66it/s]\n",
      "Deconvolving chunks: 100%|███████████████████████| 1/1 [02:01<00:00, 121.20s/it]\n"
     ]
    },
    {
     "name": "stdout",
     "output_type": "stream",
     "text": [
      "Estimation for 0.14 and 0.25 done\n",
      "It took: 121.36926603317261 seconds.\n",
      "[0.8450189675900129, 0.10638434085900163]\n"
     ]
    },
    {
     "name": "stderr",
     "output_type": "stream",
     "text": [
      "Initial filtering of formulas: 100%|██████████████| 2/2 [00:00<00:00, 58.93it/s]\n",
      "Computing chunks: 100%|████████████████████████| 2/2 [00:00<00:00, 81442.80it/s]\n",
      "Splitting the experimental spectrum into chunks: 131072it [00:00, 3460347.66it/s]\n",
      "Deconvolving chunks: 100%|███████████████████████| 1/1 [02:10<00:00, 130.41s/it]\n"
     ]
    },
    {
     "name": "stdout",
     "output_type": "stream",
     "text": [
      "Estimation for 0.14 and 0.26 done\n",
      "It took: 130.55335021018982 seconds.\n",
      "[0.845448690637013, 0.10619285916900162]\n"
     ]
    },
    {
     "name": "stderr",
     "output_type": "stream",
     "text": [
      "Initial filtering of formulas: 100%|██████████████| 2/2 [00:00<00:00, 65.29it/s]\n",
      "Computing chunks: 100%|████████████████████████| 2/2 [00:00<00:00, 93206.76it/s]\n",
      "Splitting the experimental spectrum into chunks: 131072it [00:00, 3534657.04it/s]\n",
      "Deconvolving chunks: 100%|███████████████████████| 1/1 [02:09<00:00, 129.21s/it]\n"
     ]
    },
    {
     "name": "stdout",
     "output_type": "stream",
     "text": [
      "Estimation for 0.14 and 0.27 done\n",
      "It took: 129.34364652633667 seconds.\n",
      "[0.845960083893013, 0.10578616709700163]\n"
     ]
    },
    {
     "name": "stderr",
     "output_type": "stream",
     "text": [
      "Initial filtering of formulas: 100%|██████████████| 2/2 [00:00<00:00, 61.61it/s]\n",
      "Computing chunks: 100%|████████████████████████| 2/2 [00:00<00:00, 33554.43it/s]\n",
      "Splitting the experimental spectrum into chunks: 131072it [00:00, 3392360.80it/s]\n",
      "Deconvolving chunks: 100%|███████████████████████| 1/1 [02:10<00:00, 130.60s/it]\n"
     ]
    },
    {
     "name": "stdout",
     "output_type": "stream",
     "text": [
      "Estimation for 0.14 and 0.28 done\n",
      "It took: 130.7610068321228 seconds.\n",
      "[0.846111049370013, 0.10564859663600162]\n"
     ]
    },
    {
     "name": "stderr",
     "output_type": "stream",
     "text": [
      "Initial filtering of formulas: 100%|██████████████| 2/2 [00:00<00:00, 64.25it/s]\n",
      "Computing chunks: 100%|████████████████████████| 2/2 [00:00<00:00, 54120.05it/s]\n",
      "Splitting the experimental spectrum into chunks: 131072it [00:00, 3536316.83it/s]\n",
      "Deconvolving chunks: 100%|███████████████████████| 1/1 [02:07<00:00, 127.12s/it]\n"
     ]
    },
    {
     "name": "stdout",
     "output_type": "stream",
     "text": [
      "Estimation for 0.14 and 0.29000000000000004 done\n",
      "It took: 127.25596880912781 seconds.\n",
      "[0.846233858083013, 0.10545082315600161]\n"
     ]
    },
    {
     "name": "stderr",
     "output_type": "stream",
     "text": [
      "Initial filtering of formulas: 100%|██████████████| 2/2 [00:00<00:00, 63.33it/s]\n",
      "Computing chunks: 100%|████████████████████████| 2/2 [00:00<00:00, 86480.49it/s]\n",
      "Splitting the experimental spectrum into chunks: 131072it [00:00, 3497129.90it/s]\n",
      "Deconvolving chunks: 100%|███████████████████████| 1/1 [01:46<00:00, 106.79s/it]\n"
     ]
    },
    {
     "name": "stdout",
     "output_type": "stream",
     "text": [
      "Estimation for 0.15000000000000002 and 0.01 done\n",
      "It took: 106.93003487586975 seconds.\n",
      "[0.7338882556050113, 0.262630752339004]\n"
     ]
    },
    {
     "name": "stderr",
     "output_type": "stream",
     "text": [
      "Initial filtering of formulas: 100%|██████████████| 2/2 [00:00<00:00, 63.18it/s]\n",
      "Computing chunks: 100%|████████████████████████| 2/2 [00:00<00:00, 91180.52it/s]\n",
      "Splitting the experimental spectrum into chunks: 131072it [00:00, 3468928.66it/s]\n",
      "Deconvolving chunks: 100%|███████████████████████| 1/1 [02:32<00:00, 152.56s/it]\n"
     ]
    },
    {
     "name": "stdout",
     "output_type": "stream",
     "text": [
      "Estimation for 0.15000000000000002 and 0.02 done\n",
      "It took: 152.70438981056213 seconds.\n",
      "[0.8759227002640134, 0.09702815019000148]\n"
     ]
    },
    {
     "name": "stderr",
     "output_type": "stream",
     "text": [
      "Initial filtering of formulas: 100%|██████████████| 2/2 [00:00<00:00, 63.92it/s]\n",
      "Computing chunks: 100%|████████████████████████| 2/2 [00:00<00:00, 93206.76it/s]\n",
      "Splitting the experimental spectrum into chunks: 131072it [00:00, 3529913.66it/s]\n",
      "Deconvolving chunks: 100%|███████████████████████| 1/1 [02:32<00:00, 152.16s/it]\n"
     ]
    },
    {
     "name": "stdout",
     "output_type": "stream",
     "text": [
      "Estimation for 0.15000000000000002 and 0.03 done\n",
      "It took: 152.29590487480164 seconds.\n",
      "[0.8642998397140133, 0.10352625216300158]\n"
     ]
    },
    {
     "name": "stderr",
     "output_type": "stream",
     "text": [
      "Initial filtering of formulas: 100%|██████████████| 2/2 [00:00<00:00, 64.57it/s]\n",
      "Computing chunks: 100%|████████████████████████| 2/2 [00:00<00:00, 44620.26it/s]\n",
      "Splitting the experimental spectrum into chunks: 131072it [00:00, 3524459.81it/s]\n",
      "Deconvolving chunks: 100%|███████████████████████| 1/1 [02:30<00:00, 150.16s/it]\n"
     ]
    },
    {
     "name": "stdout",
     "output_type": "stream",
     "text": [
      "Estimation for 0.15000000000000002 and 0.04 done\n",
      "It took: 150.31576943397522 seconds.\n",
      "[0.8591609965470132, 0.10697816351300164]\n"
     ]
    },
    {
     "name": "stderr",
     "output_type": "stream",
     "text": [
      "Initial filtering of formulas: 100%|██████████████| 2/2 [00:00<00:00, 64.71it/s]\n",
      "Computing chunks: 100%|████████████████████████| 2/2 [00:00<00:00, 89240.51it/s]\n",
      "Splitting the experimental spectrum into chunks: 131072it [00:00, 3494995.57it/s]\n",
      "Deconvolving chunks: 100%|███████████████████████| 1/1 [01:58<00:00, 118.76s/it]\n"
     ]
    },
    {
     "name": "stdout",
     "output_type": "stream",
     "text": [
      "Estimation for 0.15000000000000002 and 0.05 done\n",
      "It took: 118.92478346824646 seconds.\n",
      "[0.8581035946380131, 0.10750428407400166]\n"
     ]
    },
    {
     "name": "stderr",
     "output_type": "stream",
     "text": [
      "Initial filtering of formulas: 100%|██████████████| 2/2 [00:00<00:00, 64.20it/s]\n",
      "Computing chunks: 100%|████████████████████████| 2/2 [00:00<00:00, 87381.33it/s]\n",
      "Splitting the experimental spectrum into chunks: 131072it [00:00, 3529551.06it/s]\n",
      "Deconvolving chunks: 100%|███████████████████████| 1/1 [01:58<00:00, 118.14s/it]\n"
     ]
    },
    {
     "name": "stdout",
     "output_type": "stream",
     "text": [
      "Estimation for 0.15000000000000002 and 0.060000000000000005 done\n",
      "It took: 118.27648067474365 seconds.\n",
      "[0.8577686040950131, 0.10718525007800164]\n"
     ]
    },
    {
     "name": "stderr",
     "output_type": "stream",
     "text": [
      "Initial filtering of formulas: 100%|██████████████| 2/2 [00:00<00:00, 63.17it/s]\n",
      "Computing chunks: 100%|████████████████████████| 2/2 [00:00<00:00, 94254.02it/s]\n",
      "Splitting the experimental spectrum into chunks: 131072it [00:00, 3522969.16it/s]\n",
      "Deconvolving chunks: 100%|███████████████████████| 1/1 [01:59<00:00, 119.06s/it]\n"
     ]
    },
    {
     "name": "stdout",
     "output_type": "stream",
     "text": [
      "Estimation for 0.15000000000000002 and 0.06999999999999999 done\n",
      "It took: 119.1950352191925 seconds.\n",
      "[0.8573463895120131, 0.10647980376500164]\n"
     ]
    },
    {
     "name": "stderr",
     "output_type": "stream",
     "text": [
      "Initial filtering of formulas: 100%|██████████████| 2/2 [00:00<00:00, 63.94it/s]\n",
      "Computing chunks: 100%|████████████████████████| 2/2 [00:00<00:00, 76959.71it/s]\n",
      "Splitting the experimental spectrum into chunks: 131072it [00:00, 3535975.65it/s]\n",
      "Deconvolving chunks: 100%|███████████████████████| 1/1 [02:24<00:00, 144.43s/it]\n"
     ]
    },
    {
     "name": "stdout",
     "output_type": "stream",
     "text": [
      "Estimation for 0.15000000000000002 and 0.08 done\n",
      "It took: 144.58466053009033 seconds.\n",
      "[0.8561728084490131, 0.10632317907700162]\n"
     ]
    },
    {
     "name": "stderr",
     "output_type": "stream",
     "text": [
      "Initial filtering of formulas: 100%|██████████████| 2/2 [00:00<00:00, 58.75it/s]\n",
      "Computing chunks: 100%|████████████████████████| 2/2 [00:00<00:00, 43919.41it/s]\n",
      "Splitting the experimental spectrum into chunks: 131072it [00:00, 3115046.20it/s]\n",
      "Deconvolving chunks: 100%|███████████████████████| 1/1 [02:01<00:00, 121.21s/it]\n"
     ]
    },
    {
     "name": "stdout",
     "output_type": "stream",
     "text": [
      "Estimation for 0.15000000000000002 and 0.09 done\n",
      "It took: 121.37161087989807 seconds.\n",
      "[0.8545660772730131, 0.10609089319500162]\n"
     ]
    },
    {
     "name": "stderr",
     "output_type": "stream",
     "text": [
      "Initial filtering of formulas: 100%|██████████████| 2/2 [00:00<00:00, 54.72it/s]\n",
      "Computing chunks: 100%|████████████████████████| 2/2 [00:00<00:00, 83886.08it/s]\n",
      "Splitting the experimental spectrum into chunks: 131072it [00:00, 3304674.97it/s]\n",
      "Deconvolving chunks: 100%|███████████████████████| 1/1 [01:56<00:00, 116.83s/it]\n"
     ]
    },
    {
     "name": "stdout",
     "output_type": "stream",
     "text": [
      "Estimation for 0.15000000000000002 and 0.09999999999999999 done\n",
      "It took: 116.99699926376343 seconds.\n",
      "[0.8533455354150131, 0.10615066775500162]\n"
     ]
    },
    {
     "name": "stderr",
     "output_type": "stream",
     "text": [
      "Initial filtering of formulas: 100%|██████████████| 2/2 [00:00<00:00, 62.95it/s]\n",
      "Computing chunks: 100%|████████████████████████| 2/2 [00:00<00:00, 83055.52it/s]\n",
      "Splitting the experimental spectrum into chunks: 131072it [00:00, 3491776.79it/s]\n",
      "Deconvolving chunks: 100%|███████████████████████| 1/1 [02:18<00:00, 138.89s/it]\n"
     ]
    },
    {
     "name": "stdout",
     "output_type": "stream",
     "text": [
      "Estimation for 0.15000000000000002 and 0.11 done\n",
      "It took: 139.0527696609497 seconds.\n",
      "[0.852802995404013, 0.10620323139100163]\n"
     ]
    },
    {
     "name": "stderr",
     "output_type": "stream",
     "text": [
      "Initial filtering of formulas: 100%|██████████████| 2/2 [00:00<00:00, 65.55it/s]\n",
      "Computing chunks: 100%|███████████████████████| 2/2 [00:00<00:00, 101067.57it/s]\n",
      "Splitting the experimental spectrum into chunks: 131072it [00:00, 3592494.32it/s]\n",
      "Deconvolving chunks: 100%|███████████████████████| 1/1 [01:59<00:00, 119.52s/it]\n"
     ]
    },
    {
     "name": "stdout",
     "output_type": "stream",
     "text": [
      "Estimation for 0.15000000000000002 and 0.12 done\n",
      "It took: 119.67638897895813 seconds.\n",
      "[0.8523697369780131, 0.10611368130800163]\n"
     ]
    },
    {
     "name": "stderr",
     "output_type": "stream",
     "text": [
      "Initial filtering of formulas: 100%|██████████████| 2/2 [00:00<00:00, 60.54it/s]\n",
      "Computing chunks: 100%|████████████████████████| 2/2 [00:00<00:00, 90200.09it/s]\n",
      "Splitting the experimental spectrum into chunks: 131072it [00:00, 3454607.12it/s]\n",
      "Deconvolving chunks: 100%|███████████████████████| 1/1 [01:56<00:00, 116.23s/it]\n"
     ]
    },
    {
     "name": "stdout",
     "output_type": "stream",
     "text": [
      "Estimation for 0.15000000000000002 and 0.13 done\n",
      "It took: 116.38747239112854 seconds.\n",
      "[0.851586831373013, 0.10611486743500162]\n"
     ]
    },
    {
     "name": "stderr",
     "output_type": "stream",
     "text": [
      "Initial filtering of formulas: 100%|██████████████| 2/2 [00:00<00:00, 63.95it/s]\n",
      "Computing chunks: 100%|████████████████████████| 2/2 [00:00<00:00, 15141.89it/s]\n",
      "Splitting the experimental spectrum into chunks: 131072it [00:00, 3509609.84it/s]\n",
      "Deconvolving chunks: 100%|███████████████████████| 1/1 [02:03<00:00, 123.51s/it]\n"
     ]
    },
    {
     "name": "stdout",
     "output_type": "stream",
     "text": [
      "Estimation for 0.15000000000000002 and 0.14 done\n",
      "It took: 123.64565372467041 seconds.\n",
      "[0.850232121647013, 0.10631170823200162]\n"
     ]
    },
    {
     "name": "stderr",
     "output_type": "stream",
     "text": [
      "Initial filtering of formulas: 100%|██████████████| 2/2 [00:00<00:00, 64.31it/s]\n",
      "Computing chunks: 100%|████████████████████████| 2/2 [00:00<00:00, 61680.94it/s]\n",
      "Splitting the experimental spectrum into chunks: 131072it [00:00, 3532953.41it/s]\n",
      "Deconvolving chunks: 100%|███████████████████████| 1/1 [02:02<00:00, 122.15s/it]\n"
     ]
    },
    {
     "name": "stdout",
     "output_type": "stream",
     "text": [
      "Estimation for 0.15000000000000002 and 0.15000000000000002 done\n",
      "It took: 122.31210589408875 seconds.\n",
      "[0.848753001384013, 0.10651627566200164]\n"
     ]
    },
    {
     "name": "stderr",
     "output_type": "stream",
     "text": [
      "Initial filtering of formulas: 100%|██████████████| 2/2 [00:00<00:00, 56.35it/s]\n",
      "Computing chunks: 100%|████████████████████████| 2/2 [00:00<00:00, 89240.51it/s]\n",
      "Splitting the experimental spectrum into chunks: 131072it [00:00, 3167106.31it/s]\n",
      "Deconvolving chunks: 100%|███████████████████████| 1/1 [02:03<00:00, 124.00s/it]\n"
     ]
    },
    {
     "name": "stdout",
     "output_type": "stream",
     "text": [
      "Estimation for 0.15000000000000002 and 0.16 done\n",
      "It took: 124.16413378715515 seconds.\n",
      "[0.848017466889013, 0.10655195143600164]\n"
     ]
    },
    {
     "name": "stderr",
     "output_type": "stream",
     "text": [
      "Initial filtering of formulas: 100%|██████████████| 2/2 [00:00<00:00, 62.42it/s]\n",
      "Computing chunks: 100%|████████████████████████| 2/2 [00:00<00:00, 86480.49it/s]\n",
      "Splitting the experimental spectrum into chunks: 131072it [00:00, 3477684.31it/s]\n",
      "Deconvolving chunks: 100%|███████████████████████| 1/1 [02:03<00:00, 123.38s/it]\n"
     ]
    },
    {
     "name": "stdout",
     "output_type": "stream",
     "text": [
      "Estimation for 0.15000000000000002 and 0.17 done\n",
      "It took: 123.52811622619629 seconds.\n",
      "[0.848023607393013, 0.10649365447000164]\n"
     ]
    },
    {
     "name": "stderr",
     "output_type": "stream",
     "text": [
      "Initial filtering of formulas: 100%|██████████████| 2/2 [00:00<00:00, 64.79it/s]\n",
      "Computing chunks: 100%|████████████████████████| 2/2 [00:00<00:00, 90200.09it/s]\n",
      "Splitting the experimental spectrum into chunks: 131072it [00:00, 3534929.78it/s]\n",
      "Deconvolving chunks: 100%|███████████████████████| 1/1 [02:02<00:00, 122.90s/it]\n"
     ]
    },
    {
     "name": "stdout",
     "output_type": "stream",
     "text": [
      "Estimation for 0.15000000000000002 and 0.18000000000000002 done\n",
      "It took: 123.0609655380249 seconds.\n",
      "[0.848122185003013, 0.10639804217800163]\n"
     ]
    },
    {
     "name": "stderr",
     "output_type": "stream",
     "text": [
      "Initial filtering of formulas: 100%|██████████████| 2/2 [00:00<00:00, 64.31it/s]\n",
      "Computing chunks: 100%|████████████████████████| 2/2 [00:00<00:00, 79137.81it/s]\n",
      "Splitting the experimental spectrum into chunks: 131072it [00:00, 3536157.60it/s]\n",
      "Deconvolving chunks: 100%|███████████████████████| 1/1 [02:19<00:00, 139.44s/it]\n"
     ]
    },
    {
     "name": "stdout",
     "output_type": "stream",
     "text": [
      "Estimation for 0.15000000000000002 and 0.19 done\n",
      "It took: 139.58144903182983 seconds.\n",
      "[0.848349619707013, 0.10617957937300163]\n"
     ]
    },
    {
     "name": "stderr",
     "output_type": "stream",
     "text": [
      "Initial filtering of formulas: 100%|██████████████| 2/2 [00:00<00:00, 64.54it/s]\n",
      "Computing chunks: 100%|████████████████████████| 2/2 [00:00<00:00, 98689.51it/s]\n",
      "Splitting the experimental spectrum into chunks: 131072it [00:00, 3525499.49it/s]\n",
      "Deconvolving chunks: 100%|███████████████████████| 1/1 [02:22<00:00, 142.82s/it]\n"
     ]
    },
    {
     "name": "stdout",
     "output_type": "stream",
     "text": [
      "Estimation for 0.15000000000000002 and 0.2 done\n",
      "It took: 142.96691179275513 seconds.\n",
      "[0.848550151127013, 0.10608708079600163]\n"
     ]
    },
    {
     "name": "stderr",
     "output_type": "stream",
     "text": [
      "Initial filtering of formulas: 100%|██████████████| 2/2 [00:00<00:00, 64.89it/s]\n",
      "Computing chunks: 100%|███████████████████████| 2/2 [00:00<00:00, 102300.10it/s]\n",
      "Splitting the experimental spectrum into chunks: 131072it [00:00, 3570422.56it/s]\n",
      "Deconvolving chunks: 100%|███████████████████████| 1/1 [02:01<00:00, 121.97s/it]\n"
     ]
    },
    {
     "name": "stdout",
     "output_type": "stream",
     "text": [
      "Estimation for 0.15000000000000002 and 0.21000000000000002 done\n",
      "It took: 122.13319516181946 seconds.\n",
      "[0.848755750874013, 0.10605953713800162]\n"
     ]
    },
    {
     "name": "stderr",
     "output_type": "stream",
     "text": [
      "Initial filtering of formulas: 100%|██████████████| 2/2 [00:00<00:00, 64.62it/s]\n",
      "Computing chunks: 100%|████████████████████████| 2/2 [00:00<00:00, 92182.51it/s]\n",
      "Splitting the experimental spectrum into chunks: 131072it [00:00, 3567711.59it/s]\n",
      "Deconvolving chunks: 100%|███████████████████████| 1/1 [01:57<00:00, 117.56s/it]\n"
     ]
    },
    {
     "name": "stdout",
     "output_type": "stream",
     "text": [
      "Estimation for 0.15000000000000002 and 0.22 done\n",
      "It took: 117.69241261482239 seconds.\n",
      "[0.848936821609013, 0.10607948451500163]\n"
     ]
    },
    {
     "name": "stderr",
     "output_type": "stream",
     "text": [
      "Initial filtering of formulas: 100%|██████████████| 2/2 [00:00<00:00, 63.61it/s]\n",
      "Computing chunks: 100%|████████████████████████| 2/2 [00:00<00:00, 94254.02it/s]\n",
      "Splitting the experimental spectrum into chunks: 131072it [00:00, 3512771.81it/s]\n",
      "Deconvolving chunks: 100%|███████████████████████| 1/1 [02:00<00:00, 120.98s/it]\n"
     ]
    },
    {
     "name": "stdout",
     "output_type": "stream",
     "text": [
      "Estimation for 0.15000000000000002 and 0.23 done\n",
      "It took: 121.12258744239807 seconds.\n",
      "[0.849282704527013, 0.10612369685600162]\n"
     ]
    },
    {
     "name": "stderr",
     "output_type": "stream",
     "text": [
      "Initial filtering of formulas: 100%|██████████████| 2/2 [00:00<00:00, 63.70it/s]\n",
      "Computing chunks: 100%|████████████████████████| 2/2 [00:00<00:00, 88301.14it/s]\n",
      "Splitting the experimental spectrum into chunks: 131072it [00:00, 3539322.04it/s]\n",
      "Deconvolving chunks: 100%|███████████████████████| 1/1 [02:00<00:00, 120.34s/it]\n"
     ]
    },
    {
     "name": "stdout",
     "output_type": "stream",
     "text": [
      "Estimation for 0.15000000000000002 and 0.24000000000000002 done\n",
      "It took: 120.50404334068298 seconds.\n",
      "[0.849207971899013, 0.10617013565600163]\n"
     ]
    },
    {
     "name": "stderr",
     "output_type": "stream",
     "text": [
      "Initial filtering of formulas: 100%|██████████████| 2/2 [00:00<00:00, 65.00it/s]\n",
      "Computing chunks: 100%|████████████████████████| 2/2 [00:00<00:00, 96420.78it/s]\n",
      "Splitting the experimental spectrum into chunks: 131072it [00:00, 3571884.02it/s]\n",
      "Deconvolving chunks: 100%|███████████████████████| 1/1 [01:59<00:00, 119.94s/it]\n"
     ]
    },
    {
     "name": "stdout",
     "output_type": "stream",
     "text": [
      "Estimation for 0.15000000000000002 and 0.25 done\n",
      "It took: 120.07748365402222 seconds.\n",
      "[0.846428041454013, 0.10658312629800164]\n"
     ]
    },
    {
     "name": "stderr",
     "output_type": "stream",
     "text": [
      "Initial filtering of formulas: 100%|██████████████| 2/2 [00:00<00:00, 64.11it/s]\n",
      "Computing chunks: 100%|████████████████████████| 2/2 [00:00<00:00, 96420.78it/s]\n",
      "Splitting the experimental spectrum into chunks: 131072it [00:00, 3517469.20it/s]\n",
      "Deconvolving chunks: 100%|███████████████████████| 1/1 [01:58<00:00, 118.55s/it]\n"
     ]
    },
    {
     "name": "stdout",
     "output_type": "stream",
     "text": [
      "Estimation for 0.15000000000000002 and 0.26 done\n",
      "It took: 118.71565318107605 seconds.\n",
      "[0.846671592316013, 0.10651780888000163]\n"
     ]
    },
    {
     "name": "stderr",
     "output_type": "stream",
     "text": [
      "Initial filtering of formulas: 100%|██████████████| 2/2 [00:00<00:00, 65.64it/s]\n",
      "Computing chunks: 100%|████████████████████████| 2/2 [00:00<00:00, 93206.76it/s]\n",
      "Splitting the experimental spectrum into chunks: 131072it [00:00, 3557898.57it/s]\n",
      "Deconvolving chunks: 100%|███████████████████████| 1/1 [02:00<00:00, 120.33s/it]\n"
     ]
    },
    {
     "name": "stdout",
     "output_type": "stream",
     "text": [
      "Estimation for 0.15000000000000002 and 0.27 done\n",
      "It took: 120.46906423568726 seconds.\n",
      "[0.846841742040013, 0.10638382857400162]\n"
     ]
    },
    {
     "name": "stderr",
     "output_type": "stream",
     "text": [
      "Initial filtering of formulas: 100%|██████████████| 2/2 [00:00<00:00, 65.07it/s]\n",
      "Computing chunks: 100%|████████████████████████| 2/2 [00:00<00:00, 93206.76it/s]\n",
      "Splitting the experimental spectrum into chunks: 131072it [00:00, 3567271.73it/s]\n",
      "Deconvolving chunks: 100%|███████████████████████| 1/1 [02:10<00:00, 130.04s/it]\n"
     ]
    },
    {
     "name": "stdout",
     "output_type": "stream",
     "text": [
      "Estimation for 0.15000000000000002 and 0.28 done\n",
      "It took: 130.17605209350586 seconds.\n",
      "[0.846877360437013, 0.10627852809400162]\n"
     ]
    },
    {
     "name": "stderr",
     "output_type": "stream",
     "text": [
      "Initial filtering of formulas: 100%|██████████████| 2/2 [00:00<00:00, 60.11it/s]\n",
      "Computing chunks: 100%|████████████████████████| 2/2 [00:00<00:00, 75573.05it/s]\n",
      "Splitting the experimental spectrum into chunks: 131072it [00:00, 3495706.73it/s]\n",
      "Deconvolving chunks: 100%|███████████████████████| 1/1 [02:09<00:00, 129.72s/it]\n"
     ]
    },
    {
     "name": "stdout",
     "output_type": "stream",
     "text": [
      "Estimation for 0.15000000000000002 and 0.29000000000000004 done\n",
      "It took: 129.88601446151733 seconds.\n",
      "[0.846976183716013, 0.10605325828900163]\n"
     ]
    },
    {
     "name": "stderr",
     "output_type": "stream",
     "text": [
      "Initial filtering of formulas: 100%|██████████████| 2/2 [00:00<00:00, 64.91it/s]\n",
      "Computing chunks: 100%|████████████████████████| 2/2 [00:00<00:00, 91180.52it/s]\n",
      "Splitting the experimental spectrum into chunks: 131072it [00:00, 3514366.17it/s]\n",
      "Deconvolving chunks: 100%|███████████████████████| 1/1 [01:48<00:00, 108.47s/it]\n"
     ]
    },
    {
     "name": "stdout",
     "output_type": "stream",
     "text": [
      "Estimation for 0.16 and 0.01 done\n",
      "It took: 108.60336828231812 seconds.\n",
      "[0.7406723943680114, 0.25653061909300395]\n"
     ]
    },
    {
     "name": "stderr",
     "output_type": "stream",
     "text": [
      "Initial filtering of formulas: 100%|██████████████| 2/2 [00:00<00:00, 63.00it/s]\n",
      "Computing chunks: 100%|████████████████████████| 2/2 [00:00<00:00, 96420.78it/s]\n",
      "Splitting the experimental spectrum into chunks: 131072it [00:00, 3468666.01it/s]\n",
      "Deconvolving chunks: 100%|███████████████████████| 1/1 [01:51<00:00, 111.83s/it]\n"
     ]
    },
    {
     "name": "stdout",
     "output_type": "stream",
     "text": [
      "Estimation for 0.16 and 0.02 done\n",
      "It took: 111.96714448928833 seconds.\n",
      "[0.8771956959790135, 0.0975402634410015]\n"
     ]
    },
    {
     "name": "stderr",
     "output_type": "stream",
     "text": [
      "Initial filtering of formulas: 100%|██████████████| 2/2 [00:00<00:00, 63.99it/s]\n",
      "Computing chunks: 100%|███████████████████████| 2/2 [00:00<00:00, 101067.57it/s]\n",
      "Splitting the experimental spectrum into chunks: 131072it [00:00, 3543953.68it/s]\n",
      "Deconvolving chunks: 100%|███████████████████████| 1/1 [02:28<00:00, 148.33s/it]\n"
     ]
    },
    {
     "name": "stdout",
     "output_type": "stream",
     "text": [
      "Estimation for 0.16 and 0.03 done\n",
      "It took: 148.4642469882965 seconds.\n",
      "[0.8666602161030134, 0.10311572597600158]\n"
     ]
    },
    {
     "name": "stderr",
     "output_type": "stream",
     "text": [
      "Initial filtering of formulas: 100%|██████████████| 2/2 [00:00<00:00, 66.54it/s]\n",
      "Computing chunks: 100%|████████████████████████| 2/2 [00:00<00:00, 49344.75it/s]\n",
      "Splitting the experimental spectrum into chunks: 131072it [00:00, 3583712.38it/s]\n",
      "Deconvolving chunks: 100%|███████████████████████| 1/1 [01:59<00:00, 119.95s/it]\n"
     ]
    },
    {
     "name": "stdout",
     "output_type": "stream",
     "text": [
      "Estimation for 0.16 and 0.04 done\n",
      "It took: 120.08019733428955 seconds.\n",
      "[0.8604766531000132, 0.10715912515800163]\n"
     ]
    },
    {
     "name": "stderr",
     "output_type": "stream",
     "text": [
      "Initial filtering of formulas: 100%|██████████████| 2/2 [00:00<00:00, 64.83it/s]\n",
      "Computing chunks: 100%|████████████████████████| 2/2 [00:00<00:00, 92182.51it/s]\n",
      "Splitting the experimental spectrum into chunks: 131072it [00:00, 3545302.09it/s]\n",
      "Deconvolving chunks: 100%|███████████████████████| 1/1 [01:59<00:00, 119.43s/it]\n"
     ]
    },
    {
     "name": "stdout",
     "output_type": "stream",
     "text": [
      "Estimation for 0.16 and 0.05 done\n",
      "It took: 119.56557393074036 seconds.\n",
      "[0.8591676059010133, 0.10779882203400165]\n"
     ]
    },
    {
     "name": "stderr",
     "output_type": "stream",
     "text": [
      "Initial filtering of formulas: 100%|██████████████| 2/2 [00:00<00:00, 62.29it/s]\n",
      "Computing chunks: 100%|███████████████████████| 2/2 [00:00<00:00, 101067.57it/s]\n",
      "Splitting the experimental spectrum into chunks: 131072it [00:00, 3567757.89it/s]\n",
      "Deconvolving chunks: 100%|███████████████████████| 1/1 [02:17<00:00, 137.93s/it]\n"
     ]
    },
    {
     "name": "stdout",
     "output_type": "stream",
     "text": [
      "Estimation for 0.16 and 0.060000000000000005 done\n",
      "It took: 138.08935594558716 seconds.\n",
      "[0.8589892530640132, 0.10744044244600165]\n"
     ]
    },
    {
     "name": "stderr",
     "output_type": "stream",
     "text": [
      "Initial filtering of formulas: 100%|██████████████| 2/2 [00:00<00:00, 64.76it/s]\n",
      "Computing chunks: 100%|████████████████████████| 2/2 [00:00<00:00, 95325.09it/s]\n",
      "Splitting the experimental spectrum into chunks: 131072it [00:00, 3542948.75it/s]\n",
      "Deconvolving chunks: 100%|███████████████████████| 1/1 [02:22<00:00, 142.87s/it]\n"
     ]
    },
    {
     "name": "stdout",
     "output_type": "stream",
     "text": [
      "Estimation for 0.16 and 0.06999999999999999 done\n",
      "It took: 143.00262475013733 seconds.\n",
      "[0.8586196904640131, 0.10697680080500163]\n"
     ]
    },
    {
     "name": "stderr",
     "output_type": "stream",
     "text": [
      "Initial filtering of formulas: 100%|██████████████| 2/2 [00:00<00:00, 64.46it/s]\n",
      "Computing chunks: 100%|████████████████████████| 2/2 [00:00<00:00, 96420.78it/s]\n",
      "Splitting the experimental spectrum into chunks: 131072it [00:00, 3542263.89it/s]\n",
      "Deconvolving chunks: 100%|███████████████████████| 1/1 [01:55<00:00, 115.77s/it]\n"
     ]
    },
    {
     "name": "stdout",
     "output_type": "stream",
     "text": [
      "Estimation for 0.16 and 0.08 done\n",
      "It took: 115.92441749572754 seconds.\n",
      "[0.8579439399500131, 0.10631750361900162]\n"
     ]
    },
    {
     "name": "stderr",
     "output_type": "stream",
     "text": [
      "Initial filtering of formulas: 100%|██████████████| 2/2 [00:00<00:00, 56.17it/s]\n",
      "Computing chunks: 100%|████████████████████████| 2/2 [00:00<00:00, 62137.84it/s]\n",
      "Splitting the experimental spectrum into chunks: 131072it [00:00, 3468797.33it/s]\n",
      "Deconvolving chunks: 100%|███████████████████████| 1/1 [01:59<00:00, 119.07s/it]\n"
     ]
    },
    {
     "name": "stdout",
     "output_type": "stream",
     "text": [
      "Estimation for 0.16 and 0.09 done\n",
      "It took: 119.24435043334961 seconds.\n",
      "[0.8561610208290131, 0.10640354878000162]\n"
     ]
    },
    {
     "name": "stderr",
     "output_type": "stream",
     "text": [
      "Initial filtering of formulas: 100%|██████████████| 2/2 [00:00<00:00, 65.41it/s]\n",
      "Computing chunks: 100%|████████████████████████| 2/2 [00:00<00:00, 76959.71it/s]\n",
      "Splitting the experimental spectrum into chunks: 131072it [00:00, 3541624.94it/s]\n",
      "Deconvolving chunks: 100%|███████████████████████| 1/1 [02:00<00:00, 120.79s/it]\n"
     ]
    },
    {
     "name": "stdout",
     "output_type": "stream",
     "text": [
      "Estimation for 0.16 and 0.09999999999999999 done\n",
      "It took: 120.92455005645752 seconds.\n",
      "[0.8546920791660131, 0.10626359006700162]\n"
     ]
    },
    {
     "name": "stderr",
     "output_type": "stream",
     "text": [
      "Initial filtering of formulas: 100%|██████████████| 2/2 [00:00<00:00, 63.20it/s]\n",
      "Computing chunks: 100%|████████████████████████| 2/2 [00:00<00:00, 87381.33it/s]\n",
      "Splitting the experimental spectrum into chunks: 131072it [00:00, 3508243.66it/s]\n",
      "Deconvolving chunks: 100%|███████████████████████| 1/1 [01:52<00:00, 112.17s/it]\n"
     ]
    },
    {
     "name": "stdout",
     "output_type": "stream",
     "text": [
      "Estimation for 0.16 and 0.11 done\n",
      "It took: 112.33132100105286 seconds.\n",
      "[0.8542519044900131, 0.10623057932100162]\n"
     ]
    },
    {
     "name": "stderr",
     "output_type": "stream",
     "text": [
      "Initial filtering of formulas: 100%|██████████████| 2/2 [00:00<00:00, 63.52it/s]\n",
      "Computing chunks: 100%|████████████████████████| 2/2 [00:00<00:00, 88301.14it/s]\n",
      "Splitting the experimental spectrum into chunks: 131072it [00:00, 3535498.11it/s]\n",
      "Deconvolving chunks: 100%|███████████████████████| 1/1 [01:59<00:00, 119.29s/it]\n"
     ]
    },
    {
     "name": "stdout",
     "output_type": "stream",
     "text": [
      "Estimation for 0.16 and 0.12 done\n",
      "It took: 119.43771696090698 seconds.\n",
      "[0.8538101068910131, 0.10627130355900162]\n"
     ]
    },
    {
     "name": "stderr",
     "output_type": "stream",
     "text": [
      "Initial filtering of formulas: 100%|██████████████| 2/2 [00:00<00:00, 64.52it/s]\n",
      "Computing chunks: 100%|████████████████████████| 2/2 [00:00<00:00, 91180.52it/s]\n",
      "Splitting the experimental spectrum into chunks: 131072it [00:00, 3472039.65it/s]\n",
      "Deconvolving chunks: 100%|███████████████████████| 1/1 [01:58<00:00, 118.08s/it]\n"
     ]
    },
    {
     "name": "stdout",
     "output_type": "stream",
     "text": [
      "Estimation for 0.16 and 0.13 done\n",
      "It took: 118.21535444259644 seconds.\n",
      "[0.8535969702070131, 0.10617225684700163]\n"
     ]
    },
    {
     "name": "stderr",
     "output_type": "stream",
     "text": [
      "Initial filtering of formulas: 100%|██████████████| 2/2 [00:00<00:00, 63.57it/s]\n",
      "Computing chunks: 100%|████████████████████████| 2/2 [00:00<00:00, 95325.09it/s]\n",
      "Splitting the experimental spectrum into chunks: 131072it [00:00, 3488342.58it/s]\n",
      "Deconvolving chunks: 100%|███████████████████████| 1/1 [02:02<00:00, 122.02s/it]\n"
     ]
    },
    {
     "name": "stdout",
     "output_type": "stream",
     "text": [
      "Estimation for 0.16 and 0.14 done\n",
      "It took: 122.16153311729431 seconds.\n",
      "[0.8521046181000131, 0.10623339491800163]\n"
     ]
    },
    {
     "name": "stderr",
     "output_type": "stream",
     "text": [
      "Initial filtering of formulas: 100%|██████████████| 2/2 [00:00<00:00, 63.53it/s]\n",
      "Computing chunks: 100%|███████████████████████| 2/2 [00:00<00:00, 103563.06it/s]\n",
      "Splitting the experimental spectrum into chunks: 131072it [00:00, 3500447.71it/s]\n",
      "Deconvolving chunks: 100%|███████████████████████| 1/1 [01:59<00:00, 119.37s/it]\n"
     ]
    },
    {
     "name": "stdout",
     "output_type": "stream",
     "text": [
      "Estimation for 0.16 and 0.15000000000000002 done\n",
      "It took: 119.51291275024414 seconds.\n",
      "[0.851204266553013, 0.10635574101000163]\n"
     ]
    },
    {
     "name": "stderr",
     "output_type": "stream",
     "text": [
      "Initial filtering of formulas: 100%|██████████████| 2/2 [00:00<00:00, 63.00it/s]\n",
      "Computing chunks: 100%|████████████████████████| 2/2 [00:00<00:00, 87381.33it/s]\n",
      "Splitting the experimental spectrum into chunks: 131072it [00:00, 3490535.27it/s]\n",
      "Deconvolving chunks: 100%|███████████████████████| 1/1 [02:03<00:00, 123.15s/it]\n"
     ]
    },
    {
     "name": "stdout",
     "output_type": "stream",
     "text": [
      "Estimation for 0.16 and 0.16 done\n",
      "It took: 123.29138684272766 seconds.\n",
      "[0.849204946480013, 0.10666674094600163]\n"
     ]
    },
    {
     "name": "stderr",
     "output_type": "stream",
     "text": [
      "Initial filtering of formulas: 100%|██████████████| 2/2 [00:00<00:00, 60.14it/s]\n",
      "Computing chunks: 100%|████████████████████████| 2/2 [00:00<00:00, 46091.25it/s]\n",
      "Splitting the experimental spectrum into chunks: 131072it [00:00, 3333307.95it/s]\n",
      "Deconvolving chunks: 100%|███████████████████████| 1/1 [02:00<00:00, 120.62s/it]\n"
     ]
    },
    {
     "name": "stdout",
     "output_type": "stream",
     "text": [
      "Estimation for 0.16 and 0.17 done\n",
      "It took: 120.79316425323486 seconds.\n",
      "[0.849218324873013, 0.10658424360700164]\n"
     ]
    },
    {
     "name": "stderr",
     "output_type": "stream",
     "text": [
      "Initial filtering of formulas: 100%|██████████████| 2/2 [00:00<00:00, 58.99it/s]\n",
      "Computing chunks: 100%|████████████████████████| 2/2 [00:00<00:00, 77672.30it/s]\n",
      "Splitting the experimental spectrum into chunks: 131072it [00:00, 3095227.93it/s]\n",
      "Deconvolving chunks: 100%|███████████████████████| 1/1 [02:01<00:00, 121.20s/it]\n"
     ]
    },
    {
     "name": "stdout",
     "output_type": "stream",
     "text": [
      "Estimation for 0.16 and 0.18000000000000002 done\n",
      "It took: 121.36553716659546 seconds.\n",
      "[0.8492715224240129, 0.10654155892700164]\n"
     ]
    },
    {
     "name": "stderr",
     "output_type": "stream",
     "text": [
      "Initial filtering of formulas: 100%|██████████████| 2/2 [00:00<00:00, 64.50it/s]\n",
      "Computing chunks: 100%|████████████████████████| 2/2 [00:00<00:00, 98689.51it/s]\n",
      "Splitting the experimental spectrum into chunks: 131072it [00:00, 3506789.06it/s]\n",
      "Deconvolving chunks: 100%|███████████████████████| 1/1 [02:15<00:00, 135.05s/it]\n"
     ]
    },
    {
     "name": "stdout",
     "output_type": "stream",
     "text": [
      "Estimation for 0.16 and 0.19 done\n",
      "It took: 135.1922574043274 seconds.\n",
      "[0.849490034962013, 0.10640456807500162]\n"
     ]
    },
    {
     "name": "stderr",
     "output_type": "stream",
     "text": [
      "Initial filtering of formulas: 100%|██████████████| 2/2 [00:00<00:00, 64.26it/s]\n",
      "Computing chunks: 100%|████████████████████████| 2/2 [00:00<00:00, 97541.95it/s]\n",
      "Splitting the experimental spectrum into chunks: 131072it [00:00, 3528531.63it/s]\n",
      "Deconvolving chunks: 100%|███████████████████████| 1/1 [01:58<00:00, 118.49s/it]\n"
     ]
    },
    {
     "name": "stdout",
     "output_type": "stream",
     "text": [
      "Estimation for 0.16 and 0.2 done\n",
      "It took: 118.63154602050781 seconds.\n",
      "[0.849876436019013, 0.10620925678300162]\n"
     ]
    },
    {
     "name": "stderr",
     "output_type": "stream",
     "text": [
      "Initial filtering of formulas: 100%|██████████████| 2/2 [00:00<00:00, 55.13it/s]\n",
      "Computing chunks: 100%|████████████████████████| 2/2 [00:00<00:00, 90200.09it/s]\n",
      "Splitting the experimental spectrum into chunks: 131072it [00:00, 3480744.92it/s]\n",
      "Deconvolving chunks: 100%|███████████████████████| 1/1 [02:00<00:00, 120.92s/it]\n"
     ]
    },
    {
     "name": "stdout",
     "output_type": "stream",
     "text": [
      "Estimation for 0.16 and 0.21000000000000002 done\n",
      "It took: 121.0684745311737 seconds.\n",
      "[0.850176121312013, 0.10618357402600162]\n"
     ]
    },
    {
     "name": "stderr",
     "output_type": "stream",
     "text": [
      "Initial filtering of formulas: 100%|██████████████| 2/2 [00:00<00:00, 64.97it/s]\n",
      "Computing chunks: 100%|████████████████████████| 2/2 [00:00<00:00, 62601.55it/s]\n",
      "Splitting the experimental spectrum into chunks: 131072it [00:00, 3521141.45it/s]\n",
      "Deconvolving chunks: 100%|███████████████████████| 1/1 [01:59<00:00, 119.86s/it]\n"
     ]
    },
    {
     "name": "stdout",
     "output_type": "stream",
     "text": [
      "Estimation for 0.16 and 0.22 done\n",
      "It took: 119.99959802627563 seconds.\n",
      "[0.850481754850013, 0.10618283129000163]\n"
     ]
    },
    {
     "name": "stderr",
     "output_type": "stream",
     "text": [
      "Initial filtering of formulas: 100%|██████████████| 2/2 [00:00<00:00, 65.14it/s]\n",
      "Computing chunks: 100%|████████████████████████| 2/2 [00:00<00:00, 99864.38it/s]\n",
      "Splitting the experimental spectrum into chunks: 131072it [00:00, 3531841.25it/s]\n",
      "Deconvolving chunks: 100%|███████████████████████| 1/1 [01:57<00:00, 117.17s/it]\n"
     ]
    },
    {
     "name": "stdout",
     "output_type": "stream",
     "text": [
      "Estimation for 0.16 and 0.23 done\n",
      "It took: 117.30998373031616 seconds.\n",
      "[0.850791862396013, 0.10618662193800163]\n"
     ]
    },
    {
     "name": "stderr",
     "output_type": "stream",
     "text": [
      "Initial filtering of formulas: 100%|██████████████| 2/2 [00:00<00:00, 64.47it/s]\n",
      "Computing chunks: 100%|████████████████████████| 2/2 [00:00<00:00, 99864.38it/s]\n",
      "Splitting the experimental spectrum into chunks: 131072it [00:00, 3509632.24it/s]\n",
      "Deconvolving chunks: 100%|███████████████████████| 1/1 [02:00<00:00, 120.35s/it]\n"
     ]
    },
    {
     "name": "stdout",
     "output_type": "stream",
     "text": [
      "Estimation for 0.16 and 0.24000000000000002 done\n",
      "It took: 120.48431587219238 seconds.\n",
      "[0.850985089522013, 0.10622897259900162]\n"
     ]
    },
    {
     "name": "stderr",
     "output_type": "stream",
     "text": [
      "Initial filtering of formulas: 100%|██████████████| 2/2 [00:00<00:00, 64.30it/s]\n",
      "Computing chunks: 100%|████████████████████████| 2/2 [00:00<00:00, 91180.52it/s]\n",
      "Splitting the experimental spectrum into chunks: 131072it [00:00, 3580118.35it/s]\n",
      "Deconvolving chunks: 100%|███████████████████████| 1/1 [01:59<00:00, 119.25s/it]\n"
     ]
    },
    {
     "name": "stdout",
     "output_type": "stream",
     "text": [
      "Estimation for 0.16 and 0.25 done\n",
      "It took: 119.38964319229126 seconds.\n",
      "[0.849893105025013, 0.10642408281800163]\n"
     ]
    },
    {
     "name": "stderr",
     "output_type": "stream",
     "text": [
      "Initial filtering of formulas: 100%|██████████████| 2/2 [00:00<00:00, 64.56it/s]\n",
      "Computing chunks: 100%|████████████████████████| 2/2 [00:00<00:00, 93206.76it/s]\n",
      "Splitting the experimental spectrum into chunks: 131072it [00:00, 3532703.68it/s]\n",
      "Deconvolving chunks: 100%|███████████████████████| 1/1 [02:05<00:00, 125.33s/it]\n"
     ]
    },
    {
     "name": "stdout",
     "output_type": "stream",
     "text": [
      "Estimation for 0.16 and 0.26 done\n",
      "It took: 125.47216463088989 seconds.\n",
      "[0.848070028701013, 0.10662792156300163]\n"
     ]
    },
    {
     "name": "stderr",
     "output_type": "stream",
     "text": [
      "Initial filtering of formulas: 100%|██████████████| 2/2 [00:00<00:00, 63.95it/s]\n",
      "Computing chunks: 100%|████████████████████████| 2/2 [00:00<00:00, 95325.09it/s]\n",
      "Splitting the experimental spectrum into chunks: 131072it [00:00, 3554379.09it/s]\n",
      "Deconvolving chunks: 100%|███████████████████████| 1/1 [02:07<00:00, 127.61s/it]\n"
     ]
    },
    {
     "name": "stdout",
     "output_type": "stream",
     "text": [
      "Estimation for 0.16 and 0.27 done\n",
      "It took: 127.74893712997437 seconds.\n",
      "[0.848063607793013, 0.10651755687000164]\n"
     ]
    },
    {
     "name": "stderr",
     "output_type": "stream",
     "text": [
      "Initial filtering of formulas: 100%|██████████████| 2/2 [00:00<00:00, 61.21it/s]\n",
      "Computing chunks: 100%|████████████████████████| 2/2 [00:00<00:00, 69905.07it/s]\n",
      "Splitting the experimental spectrum into chunks: 131072it [00:00, 3399472.01it/s]\n",
      "Deconvolving chunks: 100%|███████████████████████| 1/1 [02:04<00:00, 124.06s/it]\n"
     ]
    },
    {
     "name": "stdout",
     "output_type": "stream",
     "text": [
      "Estimation for 0.16 and 0.28 done\n",
      "It took: 124.19886112213135 seconds.\n",
      "[0.8481194424190129, 0.10638119622900162]\n"
     ]
    },
    {
     "name": "stderr",
     "output_type": "stream",
     "text": [
      "Initial filtering of formulas: 100%|██████████████| 2/2 [00:00<00:00, 64.28it/s]\n",
      "Computing chunks: 100%|████████████████████████| 2/2 [00:00<00:00, 76959.71it/s]\n",
      "Splitting the experimental spectrum into chunks: 131072it [00:00, 3504374.85it/s]\n",
      "Deconvolving chunks: 100%|███████████████████████| 1/1 [02:05<00:00, 125.37s/it]\n"
     ]
    },
    {
     "name": "stdout",
     "output_type": "stream",
     "text": [
      "Estimation for 0.16 and 0.29000000000000004 done\n",
      "It took: 125.50416612625122 seconds.\n",
      "[0.848160174989013, 0.10625803827800162]\n"
     ]
    },
    {
     "name": "stderr",
     "output_type": "stream",
     "text": [
      "Initial filtering of formulas: 100%|██████████████| 2/2 [00:00<00:00, 64.74it/s]\n",
      "Computing chunks: 100%|████████████████████████| 2/2 [00:00<00:00, 98689.51it/s]\n",
      "Splitting the experimental spectrum into chunks: 131072it [00:00, 3539618.28it/s]\n",
      "Deconvolving chunks: 100%|███████████████████████| 1/1 [01:49<00:00, 109.42s/it]\n"
     ]
    },
    {
     "name": "stdout",
     "output_type": "stream",
     "text": [
      "Estimation for 0.17 and 0.01 done\n",
      "It took: 109.56166172027588 seconds.\n",
      "[0.7381763679540113, 0.259629472521004]\n"
     ]
    },
    {
     "name": "stderr",
     "output_type": "stream",
     "text": [
      "Initial filtering of formulas: 100%|██████████████| 2/2 [00:00<00:00, 62.88it/s]\n",
      "Computing chunks: 100%|████████████████████████| 2/2 [00:00<00:00, 91180.52it/s]\n",
      "Splitting the experimental spectrum into chunks: 131072it [00:00, 3532567.48it/s]\n",
      "Deconvolving chunks: 100%|███████████████████████| 1/1 [01:56<00:00, 116.90s/it]\n"
     ]
    },
    {
     "name": "stdout",
     "output_type": "stream",
     "text": [
      "Estimation for 0.17 and 0.02 done\n",
      "It took: 117.04156947135925 seconds.\n",
      "[0.8785148106680134, 0.0978909858860015]\n"
     ]
    },
    {
     "name": "stderr",
     "output_type": "stream",
     "text": [
      "Initial filtering of formulas: 100%|██████████████| 2/2 [00:00<00:00, 64.59it/s]\n",
      "Computing chunks: 100%|████████████████████████| 2/2 [00:00<00:00, 66052.03it/s]\n",
      "Splitting the experimental spectrum into chunks: 131072it [00:00, 3545439.27it/s]\n",
      "Deconvolving chunks: 100%|███████████████████████| 1/1 [02:20<00:00, 140.30s/it]\n"
     ]
    },
    {
     "name": "stdout",
     "output_type": "stream",
     "text": [
      "Estimation for 0.17 and 0.03 done\n",
      "It took: 140.44921398162842 seconds.\n",
      "[0.8683635963840133, 0.10283444952300158]\n"
     ]
    },
    {
     "name": "stderr",
     "output_type": "stream",
     "text": [
      "Initial filtering of formulas: 100%|██████████████| 2/2 [00:00<00:00, 62.94it/s]\n",
      "Computing chunks: 100%|████████████████████████| 2/2 [00:00<00:00, 94254.02it/s]\n",
      "Splitting the experimental spectrum into chunks: 131072it [00:00, 3493440.94it/s]\n",
      "Deconvolving chunks: 100%|███████████████████████| 1/1 [02:24<00:00, 144.34s/it]\n"
     ]
    },
    {
     "name": "stdout",
     "output_type": "stream",
     "text": [
      "Estimation for 0.17 and 0.04 done\n",
      "It took: 144.47772359848022 seconds.\n",
      "[0.8617027685340132, 0.10742770356100165]\n"
     ]
    },
    {
     "name": "stderr",
     "output_type": "stream",
     "text": [
      "Initial filtering of formulas: 100%|██████████████| 2/2 [00:00<00:00, 64.48it/s]\n",
      "Computing chunks: 100%|████████████████████████| 2/2 [00:00<00:00, 89240.51it/s]\n",
      "Splitting the experimental spectrum into chunks: 131072it [00:00, 3490845.57it/s]\n",
      "Deconvolving chunks: 100%|███████████████████████| 1/1 [01:56<00:00, 116.89s/it]\n"
     ]
    },
    {
     "name": "stdout",
     "output_type": "stream",
     "text": [
      "Estimation for 0.17 and 0.05 done\n",
      "It took: 117.04280376434326 seconds.\n",
      "[0.8602707908350132, 0.10809441647900166]\n"
     ]
    },
    {
     "name": "stderr",
     "output_type": "stream",
     "text": [
      "Initial filtering of formulas: 100%|██████████████| 2/2 [00:00<00:00, 64.42it/s]\n",
      "Computing chunks: 100%|████████████████████████| 2/2 [00:00<00:00, 94254.02it/s]\n",
      "Splitting the experimental spectrum into chunks: 131072it [00:00, 3513961.83it/s]\n",
      "Deconvolving chunks: 100%|███████████████████████| 1/1 [02:18<00:00, 138.35s/it]\n"
     ]
    },
    {
     "name": "stdout",
     "output_type": "stream",
     "text": [
      "Estimation for 0.17 and 0.060000000000000005 done\n",
      "It took: 138.48907661437988 seconds.\n",
      "[0.8601586251520132, 0.10766673410700166]\n"
     ]
    },
    {
     "name": "stderr",
     "output_type": "stream",
     "text": [
      "Initial filtering of formulas: 100%|██████████████| 2/2 [00:00<00:00, 63.66it/s]\n",
      "Computing chunks: 100%|████████████████████████| 2/2 [00:00<00:00, 90200.09it/s]\n",
      "Splitting the experimental spectrum into chunks: 131072it [00:00, 3535566.32it/s]\n",
      "Deconvolving chunks: 100%|███████████████████████| 1/1 [02:17<00:00, 137.44s/it]\n"
     ]
    },
    {
     "name": "stdout",
     "output_type": "stream",
     "text": [
      "Estimation for 0.17 and 0.06999999999999999 done\n",
      "It took: 137.57498502731323 seconds.\n",
      "[0.8598150932320132, 0.10718975041500164]\n"
     ]
    },
    {
     "name": "stderr",
     "output_type": "stream",
     "text": [
      "Initial filtering of formulas: 100%|██████████████| 2/2 [00:00<00:00, 64.83it/s]\n",
      "Computing chunks: 100%|████████████████████████| 2/2 [00:00<00:00, 88301.14it/s]\n",
      "Splitting the experimental spectrum into chunks: 131072it [00:00, 3519135.41it/s]\n",
      "Deconvolving chunks: 100%|███████████████████████| 1/1 [01:58<00:00, 118.56s/it]\n"
     ]
    },
    {
     "name": "stdout",
     "output_type": "stream",
     "text": [
      "Estimation for 0.17 and 0.08 done\n",
      "It took: 118.69697070121765 seconds.\n",
      "[0.8594158958280133, 0.10675837592000163]\n"
     ]
    },
    {
     "name": "stderr",
     "output_type": "stream",
     "text": [
      "Initial filtering of formulas: 100%|██████████████| 2/2 [00:00<00:00, 62.84it/s]\n",
      "Computing chunks: 100%|████████████████████████| 2/2 [00:00<00:00, 89240.51it/s]\n",
      "Splitting the experimental spectrum into chunks: 131072it [00:00, 3464425.43it/s]\n",
      "Deconvolving chunks: 100%|███████████████████████| 1/1 [01:58<00:00, 118.92s/it]\n"
     ]
    },
    {
     "name": "stdout",
     "output_type": "stream",
     "text": [
      "Estimation for 0.17 and 0.09 done\n",
      "It took: 119.05939102172852 seconds.\n",
      "[0.8581938513280131, 0.10649893565200164]\n"
     ]
    },
    {
     "name": "stderr",
     "output_type": "stream",
     "text": [
      "Initial filtering of formulas: 100%|██████████████| 2/2 [00:00<00:00, 64.46it/s]\n",
      "Computing chunks: 100%|████████████████████████| 2/2 [00:00<00:00, 96420.78it/s]\n",
      "Splitting the experimental spectrum into chunks: 131072it [00:00, 3487922.08it/s]\n",
      "Deconvolving chunks: 100%|███████████████████████| 1/1 [01:58<00:00, 118.41s/it]\n"
     ]
    },
    {
     "name": "stdout",
     "output_type": "stream",
     "text": [
      "Estimation for 0.17 and 0.09999999999999999 done\n",
      "It took: 118.5456154346466 seconds.\n",
      "[0.8563081393240131, 0.10642668784700163]\n"
     ]
    },
    {
     "name": "stderr",
     "output_type": "stream",
     "text": [
      "Initial filtering of formulas: 100%|██████████████| 2/2 [00:00<00:00, 63.66it/s]\n",
      "Computing chunks: 100%|████████████████████████| 2/2 [00:00<00:00, 97541.95it/s]\n",
      "Splitting the experimental spectrum into chunks: 131072it [00:00, 3450898.97it/s]\n",
      "Deconvolving chunks: 100%|███████████████████████| 1/1 [01:59<00:00, 119.20s/it]\n"
     ]
    },
    {
     "name": "stdout",
     "output_type": "stream",
     "text": [
      "Estimation for 0.17 and 0.11 done\n",
      "It took: 119.3627245426178 seconds.\n",
      "[0.8553219951800131, 0.10635143432600162]\n"
     ]
    },
    {
     "name": "stderr",
     "output_type": "stream",
     "text": [
      "Initial filtering of formulas: 100%|██████████████| 2/2 [00:00<00:00, 63.56it/s]\n",
      "Computing chunks: 100%|████████████████████████| 2/2 [00:00<00:00, 92182.51it/s]\n",
      "Splitting the experimental spectrum into chunks: 131072it [00:00, 3536885.60it/s]\n",
      "Deconvolving chunks: 100%|███████████████████████| 1/1 [02:18<00:00, 138.07s/it]\n"
     ]
    },
    {
     "name": "stdout",
     "output_type": "stream",
     "text": [
      "Estimation for 0.17 and 0.12 done\n",
      "It took: 138.21175622940063 seconds.\n",
      "[0.854991392076013, 0.10630540226400162]\n"
     ]
    },
    {
     "name": "stderr",
     "output_type": "stream",
     "text": [
      "Initial filtering of formulas: 100%|██████████████| 2/2 [00:00<00:00, 61.14it/s]\n",
      "Computing chunks: 100%|████████████████████████| 2/2 [00:00<00:00, 44620.26it/s]\n",
      "Splitting the experimental spectrum into chunks: 131072it [00:00, 3660182.92it/s]\n",
      "Deconvolving chunks: 100%|███████████████████████| 1/1 [01:59<00:00, 119.69s/it]\n"
     ]
    },
    {
     "name": "stdout",
     "output_type": "stream",
     "text": [
      "Estimation for 0.17 and 0.13 done\n",
      "It took: 119.8491063117981 seconds.\n",
      "[0.8547675603390131, 0.10629487098800162]\n"
     ]
    },
    {
     "name": "stderr",
     "output_type": "stream",
     "text": [
      "Initial filtering of formulas: 100%|██████████████| 2/2 [00:00<00:00, 64.35it/s]\n",
      "Computing chunks: 100%|████████████████████████| 2/2 [00:00<00:00, 92182.51it/s]\n",
      "Splitting the experimental spectrum into chunks: 131072it [00:00, 3507773.58it/s]\n",
      "Deconvolving chunks: 100%|███████████████████████| 1/1 [02:01<00:00, 121.99s/it]\n"
     ]
    },
    {
     "name": "stdout",
     "output_type": "stream",
     "text": [
      "Estimation for 0.17 and 0.14 done\n",
      "It took: 122.12976408004761 seconds.\n",
      "[0.8534387269880132, 0.10631992370200162]\n"
     ]
    },
    {
     "name": "stderr",
     "output_type": "stream",
     "text": [
      "Initial filtering of formulas: 100%|██████████████| 2/2 [00:00<00:00, 64.17it/s]\n",
      "Computing chunks: 100%|████████████████████████| 2/2 [00:00<00:00, 36157.79it/s]\n",
      "Splitting the experimental spectrum into chunks: 131072it [00:00, 3680225.82it/s]\n",
      "Deconvolving chunks: 100%|███████████████████████| 1/1 [02:00<00:00, 120.49s/it]\n"
     ]
    },
    {
     "name": "stdout",
     "output_type": "stream",
     "text": [
      "Estimation for 0.17 and 0.15000000000000002 done\n",
      "It took: 120.65147686004639 seconds.\n",
      "[0.8528746075230131, 0.10631943600900162]\n"
     ]
    },
    {
     "name": "stderr",
     "output_type": "stream",
     "text": [
      "Initial filtering of formulas: 100%|██████████████| 2/2 [00:00<00:00, 61.42it/s]\n",
      "Computing chunks: 100%|████████████████████████| 2/2 [00:00<00:00, 90200.09it/s]\n",
      "Splitting the experimental spectrum into chunks: 131072it [00:00, 3495373.34it/s]\n",
      "Deconvolving chunks: 100%|███████████████████████| 1/1 [02:11<00:00, 131.79s/it]\n"
     ]
    },
    {
     "name": "stdout",
     "output_type": "stream",
     "text": [
      "Estimation for 0.17 and 0.16 done\n",
      "It took: 131.93354392051697 seconds.\n",
      "[0.850970459272013, 0.10665300584800164]\n"
     ]
    },
    {
     "name": "stderr",
     "output_type": "stream",
     "text": [
      "Initial filtering of formulas: 100%|██████████████| 2/2 [00:00<00:00, 64.79it/s]\n",
      "Computing chunks: 100%|███████████████████████| 2/2 [00:00<00:00, 104857.60it/s]\n",
      "Splitting the experimental spectrum into chunks: 131072it [00:00, 3517761.80it/s]\n",
      "Deconvolving chunks: 100%|███████████████████████| 1/1 [02:01<00:00, 121.06s/it]\n"
     ]
    },
    {
     "name": "stdout",
     "output_type": "stream",
     "text": [
      "Estimation for 0.17 and 0.17 done\n",
      "It took: 121.195805311203 seconds.\n",
      "[0.850460714689013, 0.10668865083300164]\n"
     ]
    },
    {
     "name": "stderr",
     "output_type": "stream",
     "text": [
      "Initial filtering of formulas: 100%|██████████████| 2/2 [00:00<00:00, 64.79it/s]\n",
      "Computing chunks: 100%|████████████████████████| 2/2 [00:00<00:00, 92182.51it/s]\n",
      "Splitting the experimental spectrum into chunks: 131072it [00:00, 3495728.95it/s]\n",
      "Deconvolving chunks: 100%|███████████████████████| 1/1 [02:00<00:00, 120.03s/it]\n"
     ]
    },
    {
     "name": "stdout",
     "output_type": "stream",
     "text": [
      "Estimation for 0.17 and 0.18000000000000002 done\n",
      "It took: 120.16997194290161 seconds.\n",
      "[0.850591723852013, 0.10665282920300163]\n"
     ]
    },
    {
     "name": "stderr",
     "output_type": "stream",
     "text": [
      "Initial filtering of formulas: 100%|██████████████| 2/2 [00:00<00:00, 64.17it/s]\n",
      "Computing chunks: 100%|████████████████████████| 2/2 [00:00<00:00, 95325.09it/s]\n",
      "Splitting the experimental spectrum into chunks: 131072it [00:00, 3488010.59it/s]\n",
      "Deconvolving chunks: 100%|███████████████████████| 1/1 [02:03<00:00, 123.56s/it]\n"
     ]
    },
    {
     "name": "stdout",
     "output_type": "stream",
     "text": [
      "Estimation for 0.17 and 0.19 done\n",
      "It took: 123.69894599914551 seconds.\n",
      "[0.850806223339013, 0.10660754755300164]\n"
     ]
    },
    {
     "name": "stderr",
     "output_type": "stream",
     "text": [
      "Initial filtering of formulas: 100%|██████████████| 2/2 [00:00<00:00, 64.37it/s]\n",
      "Computing chunks: 100%|████████████████████████| 2/2 [00:00<00:00, 95325.09it/s]\n",
      "Splitting the experimental spectrum into chunks: 131072it [00:00, 3501227.97it/s]\n",
      "Deconvolving chunks: 100%|███████████████████████| 1/1 [01:57<00:00, 117.55s/it]\n"
     ]
    },
    {
     "name": "stdout",
     "output_type": "stream",
     "text": [
      "Estimation for 0.17 and 0.2 done\n",
      "It took: 117.688955783844 seconds.\n",
      "[0.851227923836013, 0.10646479347200163]\n"
     ]
    },
    {
     "name": "stderr",
     "output_type": "stream",
     "text": [
      "Initial filtering of formulas: 100%|██████████████| 2/2 [00:00<00:00, 64.21it/s]\n",
      "Computing chunks: 100%|████████████████████████| 2/2 [00:00<00:00, 95325.09it/s]\n",
      "Splitting the experimental spectrum into chunks: 131072it [00:00, 3494662.32it/s]\n",
      "Deconvolving chunks: 100%|███████████████████████| 1/1 [01:58<00:00, 118.75s/it]\n"
     ]
    },
    {
     "name": "stdout",
     "output_type": "stream",
     "text": [
      "Estimation for 0.17 and 0.21000000000000002 done\n",
      "It took: 118.90640568733215 seconds.\n",
      "[0.8516619854600131, 0.10633280374400163]\n"
     ]
    },
    {
     "name": "stderr",
     "output_type": "stream",
     "text": [
      "Initial filtering of formulas: 100%|██████████████| 2/2 [00:00<00:00, 64.90it/s]\n",
      "Computing chunks: 100%|████████████████████████| 2/2 [00:00<00:00, 87381.33it/s]\n",
      "Splitting the experimental spectrum into chunks: 131072it [00:00, 3108898.30it/s]\n",
      "Deconvolving chunks: 100%|███████████████████████| 1/1 [01:56<00:00, 116.98s/it]\n"
     ]
    },
    {
     "name": "stdout",
     "output_type": "stream",
     "text": [
      "Estimation for 0.17 and 0.22 done\n",
      "It took: 117.12055516242981 seconds.\n",
      "[0.851995129969013, 0.10630183011500162]\n"
     ]
    },
    {
     "name": "stderr",
     "output_type": "stream",
     "text": [
      "Initial filtering of formulas: 100%|██████████████| 2/2 [00:00<00:00, 63.76it/s]\n",
      "Computing chunks: 100%|████████████████████████| 2/2 [00:00<00:00, 89240.51it/s]\n",
      "Splitting the experimental spectrum into chunks: 131072it [00:00, 3513804.61it/s]\n",
      "Deconvolving chunks: 100%|███████████████████████| 1/1 [01:57<00:00, 117.34s/it]\n"
     ]
    },
    {
     "name": "stdout",
     "output_type": "stream",
     "text": [
      "Estimation for 0.17 and 0.23 done\n",
      "It took: 117.47615313529968 seconds.\n",
      "[0.852240981610013, 0.10629040527700162]\n"
     ]
    },
    {
     "name": "stderr",
     "output_type": "stream",
     "text": [
      "Initial filtering of formulas: 100%|██████████████| 2/2 [00:00<00:00, 62.50it/s]\n",
      "Computing chunks: 100%|████████████████████████| 2/2 [00:00<00:00, 93206.76it/s]\n",
      "Splitting the experimental spectrum into chunks: 131072it [00:00, 3478652.56it/s]\n",
      "Deconvolving chunks: 100%|███████████████████████| 1/1 [01:58<00:00, 118.44s/it]\n"
     ]
    },
    {
     "name": "stdout",
     "output_type": "stream",
     "text": [
      "Estimation for 0.17 and 0.24000000000000002 done\n",
      "It took: 118.6056637763977 seconds.\n",
      "[0.8524245068890131, 0.10627134835100162]\n"
     ]
    },
    {
     "name": "stderr",
     "output_type": "stream",
     "text": [
      "Initial filtering of formulas: 100%|██████████████| 2/2 [00:00<00:00, 64.09it/s]\n",
      "Computing chunks: 100%|████████████████████████| 2/2 [00:00<00:00, 96420.78it/s]\n",
      "Splitting the experimental spectrum into chunks: 131072it [00:00, 3529664.37it/s]\n",
      "Deconvolving chunks: 100%|███████████████████████| 1/1 [01:59<00:00, 119.96s/it]\n"
     ]
    },
    {
     "name": "stdout",
     "output_type": "stream",
     "text": [
      "Estimation for 0.17 and 0.25 done\n",
      "It took: 120.11888194084167 seconds.\n",
      "[0.8517373873300131, 0.10639192773500163]\n"
     ]
    },
    {
     "name": "stderr",
     "output_type": "stream",
     "text": [
      "Initial filtering of formulas: 100%|██████████████| 2/2 [00:00<00:00, 64.32it/s]\n",
      "Computing chunks: 100%|███████████████████████| 2/2 [00:00<00:00, 103563.06it/s]\n",
      "Splitting the experimental spectrum into chunks: 131072it [00:00, 3507124.63it/s]\n",
      "Deconvolving chunks: 100%|███████████████████████| 1/1 [01:59<00:00, 119.37s/it]\n"
     ]
    },
    {
     "name": "stdout",
     "output_type": "stream",
     "text": [
      "Estimation for 0.17 and 0.26 done\n",
      "It took: 119.50951862335205 seconds.\n",
      "[0.849010566794013, 0.10673748632100163]\n"
     ]
    },
    {
     "name": "stderr",
     "output_type": "stream",
     "text": [
      "Initial filtering of formulas: 100%|██████████████| 2/2 [00:00<00:00, 58.06it/s]\n",
      "Computing chunks: 100%|████████████████████████| 2/2 [00:00<00:00, 91180.52it/s]\n",
      "Splitting the experimental spectrum into chunks: 131072it [00:00, 2937828.32it/s]\n",
      "Deconvolving chunks: 100%|███████████████████████| 1/1 [02:00<00:00, 120.74s/it]\n"
     ]
    },
    {
     "name": "stdout",
     "output_type": "stream",
     "text": [
      "Estimation for 0.17 and 0.27 done\n",
      "It took: 120.9147720336914 seconds.\n",
      "[0.848984536145013, 0.10663263099800163]\n"
     ]
    },
    {
     "name": "stderr",
     "output_type": "stream",
     "text": [
      "Initial filtering of formulas: 100%|██████████████| 2/2 [00:00<00:00, 63.50it/s]\n",
      "Computing chunks: 100%|████████████████████████| 2/2 [00:00<00:00, 92182.51it/s]\n",
      "Splitting the experimental spectrum into chunks: 131072it [00:00, 3528395.75it/s]\n",
      "Deconvolving chunks: 100%|███████████████████████| 1/1 [01:59<00:00, 119.87s/it]\n"
     ]
    },
    {
     "name": "stdout",
     "output_type": "stream",
     "text": [
      "Estimation for 0.17 and 0.28 done\n",
      "It took: 120.00449562072754 seconds.\n",
      "[0.849070481582013, 0.10649578112200164]\n"
     ]
    },
    {
     "name": "stderr",
     "output_type": "stream",
     "text": [
      "Initial filtering of formulas: 100%|██████████████| 2/2 [00:00<00:00, 63.28it/s]\n",
      "Computing chunks: 100%|████████████████████████| 2/2 [00:00<00:00, 94254.02it/s]\n",
      "Splitting the experimental spectrum into chunks: 131072it [00:00, 3441092.46it/s]\n",
      "Deconvolving chunks: 100%|███████████████████████| 1/1 [02:02<00:00, 122.18s/it]\n"
     ]
    },
    {
     "name": "stdout",
     "output_type": "stream",
     "text": [
      "Estimation for 0.17 and 0.29000000000000004 done\n",
      "It took: 122.31597185134888 seconds.\n",
      "[0.849133888423013, 0.10637205162300162]\n"
     ]
    },
    {
     "name": "stderr",
     "output_type": "stream",
     "text": [
      "Initial filtering of formulas: 100%|██████████████| 2/2 [00:00<00:00, 64.61it/s]\n",
      "Computing chunks: 100%|████████████████████████| 2/2 [00:00<00:00, 95325.09it/s]\n",
      "Splitting the experimental spectrum into chunks: 131072it [00:00, 3509206.59it/s]\n",
      "Deconvolving chunks: 100%|███████████████████████| 1/1 [01:45<00:00, 105.75s/it]\n"
     ]
    },
    {
     "name": "stdout",
     "output_type": "stream",
     "text": [
      "Estimation for 0.18000000000000002 and 0.01 done\n",
      "It took: 105.88973641395569 seconds.\n",
      "[0.7355776405620114, 0.262664354452004]\n"
     ]
    },
    {
     "name": "stderr",
     "output_type": "stream",
     "text": [
      "Initial filtering of formulas: 100%|██████████████| 2/2 [00:00<00:00, 63.19it/s]\n",
      "Computing chunks: 100%|████████████████████████| 2/2 [00:00<00:00, 95325.09it/s]\n",
      "Splitting the experimental spectrum into chunks: 131072it [00:00, 3417689.20it/s]\n",
      "Deconvolving chunks: 100%|███████████████████████| 1/1 [02:29<00:00, 149.06s/it]\n"
     ]
    },
    {
     "name": "stdout",
     "output_type": "stream",
     "text": [
      "Estimation for 0.18000000000000002 and 0.02 done\n",
      "It took: 149.20027375221252 seconds.\n",
      "[0.8791921167980135, 0.09843694545300151]\n"
     ]
    },
    {
     "name": "stderr",
     "output_type": "stream",
     "text": [
      "Initial filtering of formulas: 100%|██████████████| 2/2 [00:00<00:00, 65.93it/s]\n",
      "Computing chunks: 100%|████████████████████████| 2/2 [00:00<00:00, 79137.81it/s]\n",
      "Splitting the experimental spectrum into chunks: 131072it [00:00, 3580654.66it/s]\n",
      "Deconvolving chunks: 100%|███████████████████████| 1/1 [02:26<00:00, 146.07s/it]\n"
     ]
    },
    {
     "name": "stdout",
     "output_type": "stream",
     "text": [
      "Estimation for 0.18000000000000002 and 0.03 done\n",
      "It took: 146.20869207382202 seconds.\n",
      "[0.8694617501980133, 0.10293916432500158]\n"
     ]
    },
    {
     "name": "stderr",
     "output_type": "stream",
     "text": [
      "Initial filtering of formulas: 100%|██████████████| 2/2 [00:00<00:00, 64.39it/s]\n",
      "Computing chunks: 100%|████████████████████████| 2/2 [00:00<00:00, 51150.05it/s]\n",
      "Splitting the experimental spectrum into chunks: 131072it [00:00, 3548368.41it/s]\n",
      "Deconvolving chunks: 100%|███████████████████████| 1/1 [01:52<00:00, 112.49s/it]\n"
     ]
    },
    {
     "name": "stdout",
     "output_type": "stream",
     "text": [
      "Estimation for 0.18000000000000002 and 0.04 done\n",
      "It took: 112.628000497818 seconds.\n",
      "[0.8626092374290132, 0.10771769415800166]\n"
     ]
    },
    {
     "name": "stderr",
     "output_type": "stream",
     "text": [
      "Initial filtering of formulas: 100%|██████████████| 2/2 [00:00<00:00, 64.51it/s]\n",
      "Computing chunks: 100%|████████████████████████| 2/2 [00:00<00:00, 94254.02it/s]\n",
      "Splitting the experimental spectrum into chunks: 131072it [00:00, 3450963.96it/s]\n",
      "Deconvolving chunks: 100%|███████████████████████| 1/1 [01:57<00:00, 117.90s/it]\n"
     ]
    },
    {
     "name": "stdout",
     "output_type": "stream",
     "text": [
      "Estimation for 0.18000000000000002 and 0.05 done\n",
      "It took: 118.0362753868103 seconds.\n",
      "[0.8612582578240132, 0.10840364639900167]\n"
     ]
    },
    {
     "name": "stderr",
     "output_type": "stream",
     "text": [
      "Initial filtering of formulas: 100%|██████████████| 2/2 [00:00<00:00, 64.47it/s]\n",
      "Computing chunks: 100%|████████████████████████| 2/2 [00:00<00:00, 99864.38it/s]\n",
      "Splitting the experimental spectrum into chunks: 131072it [00:00, 3513871.99it/s]\n",
      "Deconvolving chunks: 100%|███████████████████████| 1/1 [01:56<00:00, 116.14s/it]\n"
     ]
    },
    {
     "name": "stdout",
     "output_type": "stream",
     "text": [
      "Estimation for 0.18000000000000002 and 0.060000000000000005 done\n",
      "It took: 116.3080108165741 seconds.\n",
      "[0.8611769415010132, 0.10800634445400165]\n"
     ]
    },
    {
     "name": "stderr",
     "output_type": "stream",
     "text": [
      "Initial filtering of formulas: 100%|██████████████| 2/2 [00:00<00:00, 64.37it/s]\n",
      "Computing chunks: 100%|████████████████████████| 2/2 [00:00<00:00, 87381.33it/s]\n",
      "Splitting the experimental spectrum into chunks: 131072it [00:00, 3528078.74it/s]\n",
      "Deconvolving chunks: 100%|███████████████████████| 1/1 [01:55<00:00, 115.16s/it]\n"
     ]
    },
    {
     "name": "stdout",
     "output_type": "stream",
     "text": [
      "Estimation for 0.18000000000000002 and 0.06999999999999999 done\n",
      "It took: 115.3273754119873 seconds.\n",
      "[0.8610848284130133, 0.10743112039000165]\n"
     ]
    },
    {
     "name": "stderr",
     "output_type": "stream",
     "text": [
      "Initial filtering of formulas: 100%|██████████████| 2/2 [00:00<00:00, 64.21it/s]\n",
      "Computing chunks: 100%|████████████████████████| 2/2 [00:00<00:00, 93206.76it/s]\n",
      "Splitting the experimental spectrum into chunks: 131072it [00:00, 3476782.57it/s]\n",
      "Deconvolving chunks: 100%|███████████████████████| 1/1 [02:14<00:00, 134.89s/it]\n"
     ]
    },
    {
     "name": "stdout",
     "output_type": "stream",
     "text": [
      "Estimation for 0.18000000000000002 and 0.08 done\n",
      "It took: 135.03025341033936 seconds.\n",
      "[0.8606523232100132, 0.10690160184400163]\n"
     ]
    },
    {
     "name": "stderr",
     "output_type": "stream",
     "text": [
      "Initial filtering of formulas: 100%|██████████████| 2/2 [00:00<00:00, 64.87it/s]\n",
      "Computing chunks: 100%|████████████████████████| 2/2 [00:00<00:00, 95325.09it/s]\n",
      "Splitting the experimental spectrum into chunks: 131072it [00:00, 3541145.87it/s]\n",
      "Deconvolving chunks: 100%|███████████████████████| 1/1 [02:20<00:00, 140.18s/it]\n"
     ]
    },
    {
     "name": "stdout",
     "output_type": "stream",
     "text": [
      "Estimation for 0.18000000000000002 and 0.09 done\n",
      "It took: 140.33677053451538 seconds.\n",
      "[0.8595273597220132, 0.10685468954800163]\n"
     ]
    },
    {
     "name": "stderr",
     "output_type": "stream",
     "text": [
      "Initial filtering of formulas: 100%|██████████████| 2/2 [00:00<00:00, 65.23it/s]\n",
      "Computing chunks: 100%|████████████████████████| 2/2 [00:00<00:00, 97541.95it/s]\n",
      "Splitting the experimental spectrum into chunks: 131072it [00:00, 3539458.76it/s]\n",
      "Deconvolving chunks: 100%|███████████████████████| 1/1 [02:16<00:00, 136.19s/it]\n"
     ]
    },
    {
     "name": "stdout",
     "output_type": "stream",
     "text": [
      "Estimation for 0.18000000000000002 and 0.09999999999999999 done\n",
      "It took: 136.3279583454132 seconds.\n",
      "[0.8579911080090131, 0.10673067711700164]\n"
     ]
    },
    {
     "name": "stderr",
     "output_type": "stream",
     "text": [
      "Initial filtering of formulas: 100%|██████████████| 2/2 [00:00<00:00, 64.80it/s]\n",
      "Computing chunks: 100%|████████████████████████| 2/2 [00:00<00:00, 92182.51it/s]\n",
      "Splitting the experimental spectrum into chunks: 131072it [00:00, 3509878.72it/s]\n",
      "Deconvolving chunks: 100%|███████████████████████| 1/1 [01:54<00:00, 114.84s/it]\n"
     ]
    },
    {
     "name": "stdout",
     "output_type": "stream",
     "text": [
      "Estimation for 0.18000000000000002 and 0.11 done\n",
      "It took: 114.9888265132904 seconds.\n",
      "[0.8566231137530131, 0.10660682879800164]\n"
     ]
    },
    {
     "name": "stderr",
     "output_type": "stream",
     "text": [
      "Initial filtering of formulas: 100%|██████████████| 2/2 [00:00<00:00, 63.02it/s]\n",
      "Computing chunks: 100%|████████████████████████| 2/2 [00:00<00:00, 91180.52it/s]\n",
      "Splitting the experimental spectrum into chunks: 131072it [00:00, 3528146.67it/s]\n",
      "Deconvolving chunks: 100%|███████████████████████| 1/1 [01:56<00:00, 116.40s/it]\n"
     ]
    },
    {
     "name": "stdout",
     "output_type": "stream",
     "text": [
      "Estimation for 0.18000000000000002 and 0.12 done\n",
      "It took: 116.5432801246643 seconds.\n",
      "[0.8561179819230131, 0.10641903744500163]\n"
     ]
    },
    {
     "name": "stderr",
     "output_type": "stream",
     "text": [
      "Initial filtering of formulas: 100%|██████████████| 2/2 [00:00<00:00, 59.40it/s]\n",
      "Computing chunks: 100%|████████████████████████| 2/2 [00:00<00:00, 99864.38it/s]\n",
      "Splitting the experimental spectrum into chunks: 131072it [00:00, 3510058.00it/s]\n",
      "Deconvolving chunks: 100%|███████████████████████| 1/1 [01:55<00:00, 115.90s/it]\n"
     ]
    },
    {
     "name": "stdout",
     "output_type": "stream",
     "text": [
      "Estimation for 0.18000000000000002 and 0.13 done\n",
      "It took: 116.03680086135864 seconds.\n",
      "[0.8559031017780131, 0.10634832806800162]\n"
     ]
    },
    {
     "name": "stderr",
     "output_type": "stream",
     "text": [
      "Initial filtering of formulas: 100%|██████████████| 2/2 [00:00<00:00, 63.93it/s]\n",
      "Computing chunks: 100%|███████████████████████| 2/2 [00:00<00:00, 101067.57it/s]\n",
      "Splitting the experimental spectrum into chunks: 131072it [00:00, 3489361.06it/s]\n",
      "Deconvolving chunks: 100%|███████████████████████| 1/1 [01:58<00:00, 118.17s/it]\n"
     ]
    },
    {
     "name": "stdout",
     "output_type": "stream",
     "text": [
      "Estimation for 0.18000000000000002 and 0.14 done\n",
      "It took: 118.30829334259033 seconds.\n",
      "[0.8557432053110131, 0.10635503737400162]\n"
     ]
    },
    {
     "name": "stderr",
     "output_type": "stream",
     "text": [
      "Initial filtering of formulas: 100%|██████████████| 2/2 [00:00<00:00, 63.40it/s]\n",
      "Computing chunks: 100%|████████████████████████| 2/2 [00:00<00:00, 93206.76it/s]\n",
      "Splitting the experimental spectrum into chunks: 131072it [00:00, 3438079.66it/s]\n",
      "Deconvolving chunks: 100%|███████████████████████| 1/1 [02:00<00:00, 120.08s/it]\n"
     ]
    },
    {
     "name": "stdout",
     "output_type": "stream",
     "text": [
      "Estimation for 0.18000000000000002 and 0.15000000000000002 done\n",
      "It took: 120.22118759155273 seconds.\n",
      "[0.8542184021870131, 0.10635751813400163]\n"
     ]
    },
    {
     "name": "stderr",
     "output_type": "stream",
     "text": [
      "Initial filtering of formulas: 100%|██████████████| 2/2 [00:00<00:00, 63.23it/s]\n",
      "Computing chunks: 100%|████████████████████████| 2/2 [00:00<00:00, 81442.80it/s]\n",
      "Splitting the experimental spectrum into chunks: 131072it [00:00, 3473136.40it/s]\n",
      "Deconvolving chunks: 100%|███████████████████████| 1/1 [02:02<00:00, 122.07s/it]\n"
     ]
    },
    {
     "name": "stdout",
     "output_type": "stream",
     "text": [
      "Estimation for 0.18000000000000002 and 0.16 done\n",
      "It took: 122.23360538482666 seconds.\n",
      "[0.8537963976620131, 0.10641661524000162]\n"
     ]
    },
    {
     "name": "stderr",
     "output_type": "stream",
     "text": [
      "Initial filtering of formulas: 100%|██████████████| 2/2 [00:00<00:00, 63.97it/s]\n",
      "Computing chunks: 100%|████████████████████████| 2/2 [00:00<00:00, 64035.18it/s]\n",
      "Splitting the experimental spectrum into chunks: 131072it [00:00, 3483391.50it/s]\n",
      "Deconvolving chunks: 100%|███████████████████████| 1/1 [02:00<00:00, 120.11s/it]\n"
     ]
    },
    {
     "name": "stdout",
     "output_type": "stream",
     "text": [
      "Estimation for 0.18000000000000002 and 0.17 done\n",
      "It took: 120.27036499977112 seconds.\n",
      "[0.8517682274870131, 0.10674064466500163]\n"
     ]
    },
    {
     "name": "stderr",
     "output_type": "stream",
     "text": [
      "Initial filtering of formulas: 100%|██████████████| 2/2 [00:00<00:00, 64.59it/s]\n",
      "Computing chunks: 100%|████████████████████████| 2/2 [00:00<00:00, 93206.76it/s]\n",
      "Splitting the experimental spectrum into chunks: 131072it [00:00, 3538570.26it/s]\n",
      "Deconvolving chunks: 100%|███████████████████████| 1/1 [01:59<00:00, 119.69s/it]\n"
     ]
    },
    {
     "name": "stdout",
     "output_type": "stream",
     "text": [
      "Estimation for 0.18000000000000002 and 0.18000000000000002 done\n",
      "It took: 119.82614636421204 seconds.\n",
      "[0.8519632474060131, 0.10671361159000163]\n"
     ]
    },
    {
     "name": "stderr",
     "output_type": "stream",
     "text": [
      "Initial filtering of formulas: 100%|██████████████| 2/2 [00:00<00:00, 62.77it/s]\n",
      "Computing chunks: 100%|████████████████████████| 2/2 [00:00<00:00, 82241.25it/s]\n",
      "Splitting the experimental spectrum into chunks: 131072it [00:00, 3437155.36it/s]\n",
      "Deconvolving chunks: 100%|███████████████████████| 1/1 [02:20<00:00, 140.48s/it]\n"
     ]
    },
    {
     "name": "stdout",
     "output_type": "stream",
     "text": [
      "Estimation for 0.18000000000000002 and 0.19 done\n",
      "It took: 140.62014865875244 seconds.\n",
      "[0.8522428211780131, 0.10672298347200164]\n"
     ]
    },
    {
     "name": "stderr",
     "output_type": "stream",
     "text": [
      "Initial filtering of formulas: 100%|██████████████| 2/2 [00:00<00:00, 63.89it/s]\n",
      "Computing chunks: 100%|████████████████████████| 2/2 [00:00<00:00, 71697.50it/s]\n",
      "Splitting the experimental spectrum into chunks: 131072it [00:00, 3527716.51it/s]\n",
      "Deconvolving chunks: 100%|███████████████████████| 1/1 [02:01<00:00, 121.42s/it]\n"
     ]
    },
    {
     "name": "stdout",
     "output_type": "stream",
     "text": [
      "Estimation for 0.18000000000000002 and 0.2 done\n",
      "It took: 121.55489730834961 seconds.\n",
      "[0.8525757532710131, 0.10671885441700164]\n"
     ]
    },
    {
     "name": "stderr",
     "output_type": "stream",
     "text": [
      "Initial filtering of formulas: 100%|██████████████| 2/2 [00:00<00:00, 63.98it/s]\n",
      "Computing chunks: 100%|████████████████████████| 2/2 [00:00<00:00, 76959.71it/s]\n",
      "Splitting the experimental spectrum into chunks: 131072it [00:00, 3519586.00it/s]\n",
      "Deconvolving chunks: 100%|███████████████████████| 1/1 [02:00<00:00, 120.18s/it]\n"
     ]
    },
    {
     "name": "stdout",
     "output_type": "stream",
     "text": [
      "Estimation for 0.18000000000000002 and 0.21000000000000002 done\n",
      "It took: 120.31436395645142 seconds.\n",
      "[0.8530617831050131, 0.10655750306500164]\n"
     ]
    },
    {
     "name": "stderr",
     "output_type": "stream",
     "text": [
      "Initial filtering of formulas: 100%|██████████████| 2/2 [00:00<00:00, 62.37it/s]\n",
      "Computing chunks: 100%|████████████████████████| 2/2 [00:00<00:00, 70492.50it/s]\n",
      "Splitting the experimental spectrum into chunks: 131072it [00:00, 3531251.41it/s]\n",
      "Deconvolving chunks: 100%|███████████████████████| 1/1 [01:58<00:00, 118.14s/it]\n"
     ]
    },
    {
     "name": "stdout",
     "output_type": "stream",
     "text": [
      "Estimation for 0.18000000000000002 and 0.22 done\n",
      "It took: 118.28965425491333 seconds.\n",
      "[0.8533887543400132, 0.10642780448700162]\n"
     ]
    },
    {
     "name": "stderr",
     "output_type": "stream",
     "text": [
      "Initial filtering of formulas: 100%|██████████████| 2/2 [00:00<00:00, 63.81it/s]\n",
      "Computing chunks: 100%|████████████████████████| 2/2 [00:00<00:00, 94254.02it/s]\n",
      "Splitting the experimental spectrum into chunks: 131072it [00:00, 3518707.45it/s]\n",
      "Deconvolving chunks: 100%|███████████████████████| 1/1 [01:53<00:00, 113.33s/it]\n"
     ]
    },
    {
     "name": "stdout",
     "output_type": "stream",
     "text": [
      "Estimation for 0.18000000000000002 and 0.23 done\n",
      "It took: 113.4953248500824 seconds.\n",
      "[0.8534837951190131, 0.10639884568900163]\n"
     ]
    },
    {
     "name": "stderr",
     "output_type": "stream",
     "text": [
      "Initial filtering of formulas: 100%|██████████████| 2/2 [00:00<00:00, 64.44it/s]\n",
      "Computing chunks: 100%|████████████████████████| 2/2 [00:00<00:00, 94254.02it/s]\n",
      "Splitting the experimental spectrum into chunks: 131072it [00:00, 3485600.07it/s]\n",
      "Deconvolving chunks: 100%|███████████████████████| 1/1 [01:56<00:00, 116.15s/it]\n"
     ]
    },
    {
     "name": "stdout",
     "output_type": "stream",
     "text": [
      "Estimation for 0.18000000000000002 and 0.24000000000000002 done\n",
      "It took: 116.28575563430786 seconds.\n",
      "[0.853453780341013, 0.10635714733500162]\n"
     ]
    },
    {
     "name": "stderr",
     "output_type": "stream",
     "text": [
      "Initial filtering of formulas: 100%|██████████████| 2/2 [00:00<00:00, 64.30it/s]\n",
      "Computing chunks: 100%|████████████████████████| 2/2 [00:00<00:00, 97541.95it/s]\n",
      "Splitting the experimental spectrum into chunks: 131072it [00:00, 3510663.20it/s]\n",
      "Deconvolving chunks: 100%|███████████████████████| 1/1 [01:58<00:00, 118.87s/it]\n"
     ]
    },
    {
     "name": "stdout",
     "output_type": "stream",
     "text": [
      "Estimation for 0.18000000000000002 and 0.25 done\n",
      "It took: 119.00872373580933 seconds.\n",
      "[0.853279684694013, 0.10630101399000162]\n"
     ]
    },
    {
     "name": "stderr",
     "output_type": "stream",
     "text": [
      "Initial filtering of formulas: 100%|██████████████| 2/2 [00:00<00:00, 63.71it/s]\n",
      "Computing chunks: 100%|████████████████████████| 2/2 [00:00<00:00, 94254.02it/s]\n",
      "Splitting the experimental spectrum into chunks: 131072it [00:00, 3520487.54it/s]\n",
      "Deconvolving chunks: 100%|███████████████████████| 1/1 [01:57<00:00, 117.24s/it]\n"
     ]
    },
    {
     "name": "stdout",
     "output_type": "stream",
     "text": [
      "Estimation for 0.18000000000000002 and 0.26 done\n",
      "It took: 117.37614607810974 seconds.\n",
      "[0.8516109683970131, 0.10653111178300163]\n"
     ]
    },
    {
     "name": "stderr",
     "output_type": "stream",
     "text": [
      "Initial filtering of formulas: 100%|██████████████| 2/2 [00:00<00:00, 64.90it/s]\n",
      "Computing chunks: 100%|███████████████████████| 2/2 [00:00<00:00, 101067.57it/s]\n",
      "Splitting the experimental spectrum into chunks: 131072it [00:00, 3490690.41it/s]\n",
      "Deconvolving chunks: 100%|███████████████████████| 1/1 [02:03<00:00, 123.27s/it]\n"
     ]
    },
    {
     "name": "stdout",
     "output_type": "stream",
     "text": [
      "Estimation for 0.18000000000000002 and 0.27 done\n",
      "It took: 123.41310238838196 seconds.\n",
      "[0.849990392173013, 0.10672915132900164]\n"
     ]
    },
    {
     "name": "stderr",
     "output_type": "stream",
     "text": [
      "Initial filtering of formulas: 100%|██████████████| 2/2 [00:00<00:00, 63.61it/s]\n",
      "Computing chunks: 100%|████████████████████████| 2/2 [00:00<00:00, 99864.38it/s]\n",
      "Splitting the experimental spectrum into chunks: 131072it [00:00, 3495151.11it/s]\n",
      "Deconvolving chunks: 100%|███████████████████████| 1/1 [02:00<00:00, 120.02s/it]\n"
     ]
    },
    {
     "name": "stdout",
     "output_type": "stream",
     "text": [
      "Estimation for 0.18000000000000002 and 0.28 done\n",
      "It took: 120.16103506088257 seconds.\n",
      "[0.849982077365013, 0.10662629299700163]\n"
     ]
    },
    {
     "name": "stderr",
     "output_type": "stream",
     "text": [
      "Initial filtering of formulas: 100%|██████████████| 2/2 [00:00<00:00, 63.40it/s]\n",
      "Computing chunks: 100%|████████████████████████| 2/2 [00:00<00:00, 88301.14it/s]\n",
      "Splitting the experimental spectrum into chunks: 131072it [00:00, 3454997.92it/s]\n",
      "Deconvolving chunks: 100%|███████████████████████| 1/1 [01:58<00:00, 118.60s/it]\n"
     ]
    },
    {
     "name": "stdout",
     "output_type": "stream",
     "text": [
      "Estimation for 0.18000000000000002 and 0.29000000000000004 done\n",
      "It took: 118.7388322353363 seconds.\n",
      "[0.850071194712013, 0.10647818478400163]\n"
     ]
    },
    {
     "name": "stderr",
     "output_type": "stream",
     "text": [
      "Initial filtering of formulas: 100%|██████████████| 2/2 [00:00<00:00, 63.02it/s]\n",
      "Computing chunks: 100%|████████████████████████| 2/2 [00:00<00:00, 98689.51it/s]\n",
      "Splitting the experimental spectrum into chunks: 131072it [00:00, 3523533.65it/s]\n",
      "Deconvolving chunks: 100%|███████████████████████| 1/1 [01:54<00:00, 114.31s/it]\n"
     ]
    },
    {
     "name": "stdout",
     "output_type": "stream",
     "text": [
      "Estimation for 0.19 and 0.01 done\n",
      "It took: 114.47187948226929 seconds.\n",
      "[0.7312120217260112, 0.2672722927750041]\n"
     ]
    },
    {
     "name": "stderr",
     "output_type": "stream",
     "text": [
      "Initial filtering of formulas: 100%|██████████████| 2/2 [00:00<00:00, 63.70it/s]\n",
      "Computing chunks: 100%|████████████████████████| 2/2 [00:00<00:00, 91180.52it/s]\n",
      "Splitting the experimental spectrum into chunks: 131072it [00:00, 3448150.12it/s]\n",
      "Deconvolving chunks: 100%|███████████████████████| 1/1 [02:16<00:00, 136.04s/it]\n"
     ]
    },
    {
     "name": "stdout",
     "output_type": "stream",
     "text": [
      "Estimation for 0.19 and 0.02 done\n",
      "It took: 136.18318724632263 seconds.\n",
      "[0.8791826863890134, 0.09971384368000152]\n"
     ]
    },
    {
     "name": "stderr",
     "output_type": "stream",
     "text": [
      "Initial filtering of formulas: 100%|██████████████| 2/2 [00:00<00:00, 62.71it/s]\n",
      "Computing chunks: 100%|████████████████████████| 2/2 [00:00<00:00, 93206.76it/s]\n",
      "Splitting the experimental spectrum into chunks: 131072it [00:00, 3492420.08it/s]\n",
      "Deconvolving chunks: 100%|███████████████████████| 1/1 [01:54<00:00, 114.11s/it]\n"
     ]
    },
    {
     "name": "stdout",
     "output_type": "stream",
     "text": [
      "Estimation for 0.19 and 0.03 done\n",
      "It took: 114.25373721122742 seconds.\n",
      "[0.8704929028300133, 0.10290800717300158]\n"
     ]
    },
    {
     "name": "stderr",
     "output_type": "stream",
     "text": [
      "Initial filtering of formulas: 100%|██████████████| 2/2 [00:00<00:00, 64.68it/s]\n",
      "Computing chunks: 100%|████████████████████████| 2/2 [00:00<00:00, 92182.51it/s]\n",
      "Splitting the experimental spectrum into chunks: 131072it [00:00, 3527580.70it/s]\n",
      "Deconvolving chunks: 100%|███████████████████████| 1/1 [02:28<00:00, 148.46s/it]\n"
     ]
    },
    {
     "name": "stdout",
     "output_type": "stream",
     "text": [
      "Estimation for 0.19 and 0.04 done\n",
      "It took: 148.62641024589539 seconds.\n",
      "[0.8635341338000132, 0.10785545802800166]\n"
     ]
    },
    {
     "name": "stderr",
     "output_type": "stream",
     "text": [
      "Initial filtering of formulas: 100%|██████████████| 2/2 [00:00<00:00, 62.43it/s]\n",
      "Computing chunks: 100%|████████████████████████| 2/2 [00:00<00:00, 87381.33it/s]\n",
      "Splitting the experimental spectrum into chunks: 131072it [00:00, 3460870.47it/s]\n",
      "Deconvolving chunks: 100%|███████████████████████| 1/1 [02:00<00:00, 120.51s/it]\n"
     ]
    },
    {
     "name": "stdout",
     "output_type": "stream",
     "text": [
      "Estimation for 0.19 and 0.05 done\n",
      "It took: 120.64756035804749 seconds.\n",
      "[0.8621410802030132, 0.10861480224200167]\n"
     ]
    },
    {
     "name": "stderr",
     "output_type": "stream",
     "text": [
      "Initial filtering of formulas: 100%|██████████████| 2/2 [00:00<00:00, 64.24it/s]\n",
      "Computing chunks: 100%|████████████████████████| 2/2 [00:00<00:00, 79891.50it/s]\n",
      "Splitting the experimental spectrum into chunks: 131072it [00:00, 3433784.80it/s]\n",
      "Deconvolving chunks: 100%|███████████████████████| 1/1 [01:56<00:00, 116.30s/it]\n"
     ]
    },
    {
     "name": "stdout",
     "output_type": "stream",
     "text": [
      "Estimation for 0.19 and 0.060000000000000005 done\n",
      "It took: 116.44267416000366 seconds.\n",
      "[0.8619863330930132, 0.10833916906700167]\n"
     ]
    },
    {
     "name": "stderr",
     "output_type": "stream",
     "text": [
      "Initial filtering of formulas: 100%|██████████████| 2/2 [00:00<00:00, 61.30it/s]\n",
      "Computing chunks: 100%|████████████████████████| 2/2 [00:00<00:00, 93206.76it/s]\n",
      "Splitting the experimental spectrum into chunks: 131072it [00:00, 3509856.31it/s]\n",
      "Deconvolving chunks: 100%|███████████████████████| 1/1 [02:26<00:00, 146.82s/it]\n"
     ]
    },
    {
     "name": "stdout",
     "output_type": "stream",
     "text": [
      "Estimation for 0.19 and 0.06999999999999999 done\n",
      "It took: 146.95907378196716 seconds.\n",
      "[0.8619996115110132, 0.10771635366000165]\n"
     ]
    },
    {
     "name": "stderr",
     "output_type": "stream",
     "text": [
      "Initial filtering of formulas: 100%|██████████████| 2/2 [00:00<00:00, 64.55it/s]\n",
      "Computing chunks: 100%|████████████████████████| 2/2 [00:00<00:00, 93206.76it/s]\n",
      "Splitting the experimental spectrum into chunks: 131072it [00:00, 3504866.37it/s]\n",
      "Deconvolving chunks: 100%|███████████████████████| 1/1 [02:21<00:00, 141.63s/it]\n"
     ]
    },
    {
     "name": "stdout",
     "output_type": "stream",
     "text": [
      "Estimation for 0.19 and 0.08 done\n",
      "It took: 141.76799511909485 seconds.\n",
      "[0.8618360730420133, 0.10713270201500164]\n"
     ]
    },
    {
     "name": "stderr",
     "output_type": "stream",
     "text": [
      "Initial filtering of formulas: 100%|██████████████| 2/2 [00:00<00:00, 63.59it/s]\n",
      "Computing chunks: 100%|████████████████████████| 2/2 [00:00<00:00, 96420.78it/s]\n",
      "Splitting the experimental spectrum into chunks: 131072it [00:00, 3472412.47it/s]\n",
      "Deconvolving chunks: 100%|███████████████████████| 1/1 [02:18<00:00, 138.92s/it]\n"
     ]
    },
    {
     "name": "stdout",
     "output_type": "stream",
     "text": [
      "Estimation for 0.19 and 0.09 done\n",
      "It took: 139.05941677093506 seconds.\n",
      "[0.8608561856790132, 0.10702233508900164]\n"
     ]
    },
    {
     "name": "stderr",
     "output_type": "stream",
     "text": [
      "Initial filtering of formulas: 100%|██████████████| 2/2 [00:00<00:00, 64.35it/s]\n",
      "Computing chunks: 100%|████████████████████████| 2/2 [00:00<00:00, 93206.76it/s]\n",
      "Splitting the experimental spectrum into chunks: 131072it [00:00, 3555551.48it/s]\n",
      "Deconvolving chunks: 100%|███████████████████████| 1/1 [01:55<00:00, 115.51s/it]\n"
     ]
    },
    {
     "name": "stdout",
     "output_type": "stream",
     "text": [
      "Estimation for 0.19 and 0.09999999999999999 done\n",
      "It took: 115.64239478111267 seconds.\n",
      "[0.8597126798720132, 0.10695229044500164]\n"
     ]
    },
    {
     "name": "stderr",
     "output_type": "stream",
     "text": [
      "Initial filtering of formulas: 100%|██████████████| 2/2 [00:00<00:00, 65.27it/s]\n",
      "Computing chunks: 100%|████████████████████████| 2/2 [00:00<00:00, 98689.51it/s]\n",
      "Splitting the experimental spectrum into chunks: 131072it [00:00, 3477024.46it/s]\n",
      "Deconvolving chunks: 100%|███████████████████████| 1/1 [01:56<00:00, 116.45s/it]\n"
     ]
    },
    {
     "name": "stdout",
     "output_type": "stream",
     "text": [
      "Estimation for 0.19 and 0.11 done\n",
      "It took: 116.58365035057068 seconds.\n",
      "[0.8578623623100131, 0.10699338815400164]\n"
     ]
    },
    {
     "name": "stderr",
     "output_type": "stream",
     "text": [
      "Initial filtering of formulas: 100%|██████████████| 2/2 [00:00<00:00, 63.62it/s]\n",
      "Computing chunks: 100%|████████████████████████| 2/2 [00:00<00:00, 68200.07it/s]\n",
      "Splitting the experimental spectrum into chunks: 131072it [00:00, 3483987.54it/s]\n",
      "Deconvolving chunks: 100%|███████████████████████| 1/1 [01:59<00:00, 119.03s/it]\n"
     ]
    },
    {
     "name": "stdout",
     "output_type": "stream",
     "text": [
      "Estimation for 0.19 and 0.12 done\n",
      "It took: 119.1721932888031 seconds.\n",
      "[0.8572898471870131, 0.10671735213900163]\n"
     ]
    },
    {
     "name": "stderr",
     "output_type": "stream",
     "text": [
      "Initial filtering of formulas: 100%|██████████████| 2/2 [00:00<00:00, 60.26it/s]\n",
      "Computing chunks: 100%|████████████████████████| 2/2 [00:00<00:00, 92182.51it/s]\n",
      "Splitting the experimental spectrum into chunks: 131072it [00:00, 3346272.81it/s]\n",
      "Deconvolving chunks: 100%|███████████████████████| 1/1 [01:58<00:00, 118.17s/it]\n"
     ]
    },
    {
     "name": "stdout",
     "output_type": "stream",
     "text": [
      "Estimation for 0.19 and 0.13 done\n",
      "It took: 118.3354880809784 seconds.\n",
      "[0.857057362948013, 0.10646575803000163]\n"
     ]
    },
    {
     "name": "stderr",
     "output_type": "stream",
     "text": [
      "Initial filtering of formulas: 100%|██████████████| 2/2 [00:00<00:00, 62.47it/s]\n",
      "Computing chunks: 100%|████████████████████████| 2/2 [00:00<00:00, 88301.14it/s]\n",
      "Splitting the experimental spectrum into chunks: 131072it [00:00, 2883133.07it/s]\n",
      "Deconvolving chunks: 100%|███████████████████████| 1/1 [01:59<00:00, 119.97s/it]\n"
     ]
    },
    {
     "name": "stdout",
     "output_type": "stream",
     "text": [
      "Estimation for 0.19 and 0.14 done\n",
      "It took: 120.12087392807007 seconds.\n",
      "[0.8569501101730131, 0.10640552061500162]\n"
     ]
    },
    {
     "name": "stderr",
     "output_type": "stream",
     "text": [
      "Initial filtering of formulas: 100%|██████████████| 2/2 [00:00<00:00, 60.22it/s]\n",
      "Computing chunks: 100%|████████████████████████| 2/2 [00:00<00:00, 67650.06it/s]\n",
      "Splitting the experimental spectrum into chunks: 131072it [00:00, 3352496.67it/s]\n",
      "Deconvolving chunks: 100%|███████████████████████| 1/1 [02:04<00:00, 124.70s/it]\n"
     ]
    },
    {
     "name": "stdout",
     "output_type": "stream",
     "text": [
      "Estimation for 0.19 and 0.15000000000000002 done\n",
      "It took: 124.84105825424194 seconds.\n",
      "[0.8557785819830132, 0.10657331383400163]\n"
     ]
    },
    {
     "name": "stderr",
     "output_type": "stream",
     "text": [
      "Initial filtering of formulas: 100%|██████████████| 2/2 [00:00<00:00, 63.18it/s]\n",
      "Computing chunks: 100%|████████████████████████| 2/2 [00:00<00:00, 95325.09it/s]\n",
      "Splitting the experimental spectrum into chunks: 131072it [00:00, 3469103.78it/s]\n",
      "Deconvolving chunks: 100%|███████████████████████| 1/1 [02:03<00:00, 123.61s/it]\n"
     ]
    },
    {
     "name": "stdout",
     "output_type": "stream",
     "text": [
      "Estimation for 0.19 and 0.16 done\n",
      "It took: 123.77162742614746 seconds.\n",
      "[0.8551892737850131, 0.10643273090200164]\n"
     ]
    },
    {
     "name": "stderr",
     "output_type": "stream",
     "text": [
      "Initial filtering of formulas: 100%|██████████████| 2/2 [00:00<00:00, 63.42it/s]\n",
      "Computing chunks: 100%|████████████████████████| 2/2 [00:00<00:00, 84733.41it/s]\n",
      "Splitting the experimental spectrum into chunks: 131072it [00:00, 3574950.02it/s]\n",
      "Deconvolving chunks: 100%|███████████████████████| 1/1 [02:02<00:00, 122.98s/it]\n"
     ]
    },
    {
     "name": "stdout",
     "output_type": "stream",
     "text": [
      "Estimation for 0.19 and 0.17 done\n",
      "It took: 123.12169623374939 seconds.\n",
      "[0.8535662278840132, 0.10671315912400164]\n"
     ]
    },
    {
     "name": "stderr",
     "output_type": "stream",
     "text": [
      "Initial filtering of formulas: 100%|██████████████| 2/2 [00:00<00:00, 61.86it/s]\n",
      "Computing chunks: 100%|████████████████████████| 2/2 [00:00<00:00, 65027.97it/s]\n",
      "Splitting the experimental spectrum into chunks: 131072it [00:00, 3345214.00it/s]\n",
      "Deconvolving chunks: 100%|███████████████████████| 1/1 [02:04<00:00, 124.61s/it]\n"
     ]
    },
    {
     "name": "stdout",
     "output_type": "stream",
     "text": [
      "Estimation for 0.19 and 0.18000000000000002 done\n",
      "It took: 124.7533769607544 seconds.\n",
      "[0.8533178933730131, 0.10678945319500163]\n"
     ]
    },
    {
     "name": "stderr",
     "output_type": "stream",
     "text": [
      "Initial filtering of formulas: 100%|██████████████| 2/2 [00:00<00:00, 64.38it/s]\n",
      "Computing chunks: 100%|████████████████████████| 2/2 [00:00<00:00, 90200.09it/s]\n",
      "Splitting the experimental spectrum into chunks: 131072it [00:00, 3503749.49it/s]\n",
      "Deconvolving chunks: 100%|███████████████████████| 1/1 [02:04<00:00, 124.03s/it]\n"
     ]
    },
    {
     "name": "stdout",
     "output_type": "stream",
     "text": [
      "Estimation for 0.19 and 0.19 done\n",
      "It took: 124.1660852432251 seconds.\n",
      "[0.8535996454430131, 0.10679095466500164]\n"
     ]
    },
    {
     "name": "stderr",
     "output_type": "stream",
     "text": [
      "Initial filtering of formulas: 100%|██████████████| 2/2 [00:00<00:00, 63.51it/s]\n",
      "Computing chunks: 100%|████████████████████████| 2/2 [00:00<00:00, 96420.78it/s]\n",
      "Splitting the experimental spectrum into chunks: 131072it [00:00, 3465189.72it/s]\n",
      "Deconvolving chunks: 100%|███████████████████████| 1/1 [02:02<00:00, 122.80s/it]\n"
     ]
    },
    {
     "name": "stdout",
     "output_type": "stream",
     "text": [
      "Estimation for 0.19 and 0.2 done\n",
      "It took: 122.94088363647461 seconds.\n",
      "[0.8539111485250132, 0.10682584995400164]\n"
     ]
    },
    {
     "name": "stderr",
     "output_type": "stream",
     "text": [
      "Initial filtering of formulas: 100%|██████████████| 2/2 [00:00<00:00, 64.44it/s]\n",
      "Computing chunks: 100%|████████████████████████| 2/2 [00:00<00:00, 87381.33it/s]\n",
      "Splitting the experimental spectrum into chunks: 131072it [00:00, 3302530.95it/s]\n",
      "Deconvolving chunks: 100%|███████████████████████| 1/1 [02:03<00:00, 123.40s/it]\n"
     ]
    },
    {
     "name": "stdout",
     "output_type": "stream",
     "text": [
      "Estimation for 0.19 and 0.21000000000000002 done\n",
      "It took: 123.57093954086304 seconds.\n",
      "[0.8541881661410131, 0.10682057630400164]\n"
     ]
    },
    {
     "name": "stderr",
     "output_type": "stream",
     "text": [
      "Initial filtering of formulas: 100%|██████████████| 2/2 [00:00<00:00, 62.59it/s]\n",
      "Computing chunks: 100%|████████████████████████| 2/2 [00:00<00:00, 88301.14it/s]\n",
      "Splitting the experimental spectrum into chunks: 131072it [00:00, 3506878.54it/s]\n",
      "Deconvolving chunks: 100%|███████████████████████| 1/1 [01:59<00:00, 119.06s/it]\n"
     ]
    },
    {
     "name": "stdout",
     "output_type": "stream",
     "text": [
      "Estimation for 0.19 and 0.22 done\n",
      "It took: 119.19968700408936 seconds.\n",
      "[0.8544649527960131, 0.10663701598700163]\n"
     ]
    },
    {
     "name": "stderr",
     "output_type": "stream",
     "text": [
      "Initial filtering of formulas: 100%|██████████████| 2/2 [00:00<00:00, 62.90it/s]\n",
      "Computing chunks: 100%|████████████████████████| 2/2 [00:00<00:00, 92182.51it/s]\n",
      "Splitting the experimental spectrum into chunks: 131072it [00:00, 3405600.14it/s]\n",
      "Deconvolving chunks: 100%|███████████████████████| 1/1 [01:58<00:00, 118.55s/it]\n"
     ]
    },
    {
     "name": "stdout",
     "output_type": "stream",
     "text": [
      "Estimation for 0.19 and 0.23 done\n",
      "It took: 118.68711614608765 seconds.\n",
      "[0.8544562376440131, 0.10648954369500163]\n"
     ]
    },
    {
     "name": "stderr",
     "output_type": "stream",
     "text": [
      "Initial filtering of formulas: 100%|██████████████| 2/2 [00:00<00:00, 63.02it/s]\n",
      "Computing chunks: 100%|████████████████████████| 2/2 [00:00<00:00, 93206.76it/s]\n",
      "Splitting the experimental spectrum into chunks: 131072it [00:00, 3423350.23it/s]\n",
      "Deconvolving chunks: 100%|███████████████████████| 1/1 [01:57<00:00, 117.99s/it]\n"
     ]
    },
    {
     "name": "stdout",
     "output_type": "stream",
     "text": [
      "Estimation for 0.19 and 0.24000000000000002 done\n",
      "It took: 118.15344476699829 seconds.\n",
      "[0.8543618448250131, 0.10640972259300162]\n"
     ]
    },
    {
     "name": "stderr",
     "output_type": "stream",
     "text": [
      "Initial filtering of formulas: 100%|██████████████| 2/2 [00:00<00:00, 63.95it/s]\n",
      "Computing chunks: 100%|████████████████████████| 2/2 [00:00<00:00, 90200.09it/s]\n",
      "Splitting the experimental spectrum into chunks: 131072it [00:00, 3504978.09it/s]\n",
      "Deconvolving chunks: 100%|███████████████████████| 1/1 [01:58<00:00, 118.12s/it]\n"
     ]
    },
    {
     "name": "stdout",
     "output_type": "stream",
     "text": [
      "Estimation for 0.19 and 0.25 done\n",
      "It took: 118.25572776794434 seconds.\n",
      "[0.8543133907420131, 0.10631102909600162]\n"
     ]
    },
    {
     "name": "stderr",
     "output_type": "stream",
     "text": [
      "Initial filtering of formulas: 100%|██████████████| 2/2 [00:00<00:00, 64.16it/s]\n",
      "Computing chunks: 100%|████████████████████████| 2/2 [00:00<00:00, 95325.09it/s]\n",
      "Splitting the experimental spectrum into chunks: 131072it [00:00, 3526539.79it/s]\n",
      "Deconvolving chunks: 100%|███████████████████████| 1/1 [01:59<00:00, 119.61s/it]\n"
     ]
    },
    {
     "name": "stdout",
     "output_type": "stream",
     "text": [
      "Estimation for 0.19 and 0.26 done\n",
      "It took: 119.74992871284485 seconds.\n",
      "[0.8531409228540131, 0.10645155471800163]\n"
     ]
    },
    {
     "name": "stderr",
     "output_type": "stream",
     "text": [
      "Initial filtering of formulas: 100%|██████████████| 2/2 [00:00<00:00, 64.86it/s]\n",
      "Computing chunks: 100%|████████████████████████| 2/2 [00:00<00:00, 96420.78it/s]\n",
      "Splitting the experimental spectrum into chunks: 131072it [00:00, 3437628.20it/s]\n",
      "Deconvolving chunks: 100%|███████████████████████| 1/1 [02:03<00:00, 123.12s/it]\n"
     ]
    },
    {
     "name": "stdout",
     "output_type": "stream",
     "text": [
      "Estimation for 0.19 and 0.27 done\n",
      "It took: 123.27805876731873 seconds.\n",
      "[0.850981556314013, 0.10681666326300164]\n"
     ]
    },
    {
     "name": "stderr",
     "output_type": "stream",
     "text": [
      "Initial filtering of formulas: 100%|██████████████| 2/2 [00:00<00:00, 63.98it/s]\n",
      "Computing chunks: 100%|████████████████████████| 2/2 [00:00<00:00, 89240.51it/s]\n",
      "Splitting the experimental spectrum into chunks: 131072it [00:00, 3537181.44it/s]\n",
      "Deconvolving chunks: 100%|███████████████████████| 1/1 [02:01<00:00, 121.00s/it]\n"
     ]
    },
    {
     "name": "stdout",
     "output_type": "stream",
     "text": [
      "Estimation for 0.19 and 0.28 done\n",
      "It took: 121.14543223381042 seconds.\n",
      "[0.850945176443013, 0.10672642964100164]\n"
     ]
    },
    {
     "name": "stderr",
     "output_type": "stream",
     "text": [
      "Initial filtering of formulas: 100%|██████████████| 2/2 [00:00<00:00, 62.97it/s]\n",
      "Computing chunks: 100%|████████████████████████| 2/2 [00:00<00:00, 50840.05it/s]\n",
      "Splitting the experimental spectrum into chunks: 131072it [00:00, 3512053.70it/s]\n",
      "Deconvolving chunks: 100%|███████████████████████| 1/1 [02:16<00:00, 136.00s/it]\n"
     ]
    },
    {
     "name": "stdout",
     "output_type": "stream",
     "text": [
      "Estimation for 0.19 and 0.29000000000000004 done\n",
      "It took: 136.1638104915619 seconds.\n",
      "[0.850996744266013, 0.10662117808500164]\n"
     ]
    },
    {
     "name": "stderr",
     "output_type": "stream",
     "text": [
      "Initial filtering of formulas: 100%|██████████████| 2/2 [00:00<00:00, 64.99it/s]\n",
      "Computing chunks: 100%|████████████████████████| 2/2 [00:00<00:00, 95325.09it/s]\n",
      "Splitting the experimental spectrum into chunks: 131072it [00:00, 3560387.11it/s]\n",
      "Deconvolving chunks: 100%|███████████████████████| 1/1 [01:42<00:00, 102.33s/it]\n"
     ]
    },
    {
     "name": "stdout",
     "output_type": "stream",
     "text": [
      "Estimation for 0.2 and 0.01 done\n",
      "It took: 102.47691297531128 seconds.\n",
      "[0.7310305914520112, 0.2676142846860041]\n"
     ]
    },
    {
     "name": "stderr",
     "output_type": "stream",
     "text": [
      "Initial filtering of formulas: 100%|██████████████| 2/2 [00:00<00:00, 62.91it/s]\n",
      "Computing chunks: 100%|████████████████████████| 2/2 [00:00<00:00, 88301.14it/s]\n",
      "Splitting the experimental spectrum into chunks: 131072it [00:00, 3465976.19it/s]\n",
      "Deconvolving chunks: 100%|███████████████████████| 1/1 [01:55<00:00, 115.83s/it]\n"
     ]
    },
    {
     "name": "stdout",
     "output_type": "stream",
     "text": [
      "Estimation for 0.2 and 0.02 done\n",
      "It took: 116.00106477737427 seconds.\n",
      "[0.8779221859070134, 0.10199101315400157]\n"
     ]
    },
    {
     "name": "stderr",
     "output_type": "stream",
     "text": [
      "Initial filtering of formulas: 100%|██████████████| 2/2 [00:00<00:00, 65.06it/s]\n",
      "Computing chunks: 100%|████████████████████████| 2/2 [00:00<00:00, 16100.98it/s]\n",
      "Splitting the experimental spectrum into chunks: 131072it [00:00, 3622582.10it/s]\n",
      "Deconvolving chunks: 100%|███████████████████████| 1/1 [02:34<00:00, 154.95s/it]\n"
     ]
    },
    {
     "name": "stdout",
     "output_type": "stream",
     "text": [
      "Estimation for 0.2 and 0.03 done\n",
      "It took: 155.10785794258118 seconds.\n",
      "[0.8714040812350133, 0.10295552409800159]\n"
     ]
    },
    {
     "name": "stderr",
     "output_type": "stream",
     "text": [
      "Initial filtering of formulas: 100%|██████████████| 2/2 [00:00<00:00, 62.17it/s]\n",
      "Computing chunks: 100%|████████████████████████| 2/2 [00:00<00:00, 86480.49it/s]\n",
      "Splitting the experimental spectrum into chunks: 131072it [00:00, 3554356.11it/s]\n",
      "Deconvolving chunks: 100%|███████████████████████| 1/1 [02:19<00:00, 139.63s/it]\n"
     ]
    },
    {
     "name": "stdout",
     "output_type": "stream",
     "text": [
      "Estimation for 0.2 and 0.04 done\n",
      "It took: 139.78911232948303 seconds.\n",
      "[0.8647194079500132, 0.10780935179700166]\n"
     ]
    },
    {
     "name": "stderr",
     "output_type": "stream",
     "text": [
      "Initial filtering of formulas: 100%|██████████████| 2/2 [00:00<00:00, 63.52it/s]\n",
      "Computing chunks: 100%|████████████████████████| 2/2 [00:00<00:00, 81442.80it/s]\n",
      "Splitting the experimental spectrum into chunks: 131072it [00:00, 3534861.59it/s]\n",
      "Deconvolving chunks: 100%|███████████████████████| 1/1 [02:08<00:00, 128.23s/it]\n"
     ]
    },
    {
     "name": "stdout",
     "output_type": "stream",
     "text": [
      "Estimation for 0.2 and 0.05 done\n",
      "It took: 128.39344930648804 seconds.\n",
      "[0.8630652645060132, 0.10872490461700167]\n"
     ]
    },
    {
     "name": "stderr",
     "output_type": "stream",
     "text": [
      "Initial filtering of formulas: 100%|██████████████| 2/2 [00:00<00:00, 59.34it/s]\n",
      "Computing chunks: 100%|████████████████████████| 2/2 [00:00<00:00, 41120.63it/s]\n",
      "Splitting the experimental spectrum into chunks: 131072it [00:00, 3323936.41it/s]\n",
      "Deconvolving chunks: 100%|███████████████████████| 1/1 [02:24<00:00, 144.98s/it]\n"
     ]
    },
    {
     "name": "stdout",
     "output_type": "stream",
     "text": [
      "Estimation for 0.2 and 0.060000000000000005 done\n",
      "It took: 145.14491510391235 seconds.\n",
      "[0.8628852746980132, 0.10853434365700167]\n"
     ]
    },
    {
     "name": "stderr",
     "output_type": "stream",
     "text": [
      "Initial filtering of formulas: 100%|██████████████| 2/2 [00:00<00:00, 61.95it/s]\n",
      "Computing chunks: 100%|████████████████████████| 2/2 [00:00<00:00, 15335.66it/s]\n",
      "Splitting the experimental spectrum into chunks: 131072it [00:00, 3565767.78it/s]\n",
      "Deconvolving chunks: 100%|███████████████████████| 1/1 [02:00<00:00, 120.30s/it]\n"
     ]
    },
    {
     "name": "stdout",
     "output_type": "stream",
     "text": [
      "Estimation for 0.2 and 0.06999999999999999 done\n",
      "It took: 120.46373796463013 seconds.\n",
      "[0.8627908332790132, 0.10802437982000165]\n"
     ]
    },
    {
     "name": "stderr",
     "output_type": "stream",
     "text": [
      "Initial filtering of formulas: 100%|██████████████| 2/2 [00:00<00:00, 47.65it/s]\n",
      "Computing chunks: 100%|████████████████████████| 2/2 [00:00<00:00, 66052.03it/s]\n",
      "Splitting the experimental spectrum into chunks: 131072it [00:00, 2733893.02it/s]\n",
      "Deconvolving chunks: 100%|███████████████████████| 1/1 [02:02<00:00, 122.59s/it]\n"
     ]
    },
    {
     "name": "stdout",
     "output_type": "stream",
     "text": [
      "Estimation for 0.2 and 0.08 done\n",
      "It took: 122.79325342178345 seconds.\n",
      "[0.8628761021890132, 0.10735396658700165]\n"
     ]
    },
    {
     "name": "stderr",
     "output_type": "stream",
     "text": [
      "Initial filtering of formulas: 100%|██████████████| 2/2 [00:00<00:00, 58.31it/s]\n",
      "Computing chunks: 100%|███████████████████████| 2/2 [00:00<00:00, 101067.57it/s]\n",
      "Splitting the experimental spectrum into chunks: 131072it [00:00, 3343240.70it/s]\n",
      "Deconvolving chunks: 100%|███████████████████████| 1/1 [02:36<00:00, 156.21s/it]\n"
     ]
    },
    {
     "name": "stdout",
     "output_type": "stream",
     "text": [
      "Estimation for 0.2 and 0.09 done\n",
      "It took: 156.36212015151978 seconds.\n",
      "[0.8621610001410132, 0.10725461291900164]\n"
     ]
    },
    {
     "name": "stderr",
     "output_type": "stream",
     "text": [
      "Initial filtering of formulas: 100%|██████████████| 2/2 [00:00<00:00, 54.84it/s]\n",
      "Computing chunks: 100%|████████████████████████| 2/2 [00:00<00:00, 62137.84it/s]\n",
      "Splitting the experimental spectrum into chunks: 131072it [00:00, 3256673.60it/s]\n",
      "Deconvolving chunks: 100%|███████████████████████| 1/1 [02:35<00:00, 155.95s/it]\n"
     ]
    },
    {
     "name": "stdout",
     "output_type": "stream",
     "text": [
      "Estimation for 0.2 and 0.09999999999999999 done\n",
      "It took: 156.1084020137787 seconds.\n",
      "[0.8611925202940132, 0.10708923459000164]\n"
     ]
    },
    {
     "name": "stderr",
     "output_type": "stream",
     "text": [
      "Initial filtering of formulas: 100%|██████████████| 2/2 [00:00<00:00, 57.71it/s]\n",
      "Computing chunks: 100%|████████████████████████| 2/2 [00:00<00:00, 38304.15it/s]\n",
      "Splitting the experimental spectrum into chunks: 131072it [00:00, 3332277.53it/s]\n",
      "Deconvolving chunks: 100%|███████████████████████| 1/1 [01:56<00:00, 116.91s/it]\n"
     ]
    },
    {
     "name": "stdout",
     "output_type": "stream",
     "text": [
      "Estimation for 0.2 and 0.11 done\n",
      "It took: 117.06474876403809 seconds.\n",
      "[0.8598759877210133, 0.10688846233200164]\n"
     ]
    },
    {
     "name": "stderr",
     "output_type": "stream",
     "text": [
      "Initial filtering of formulas: 100%|██████████████| 2/2 [00:00<00:00, 54.83it/s]\n",
      "Computing chunks: 100%|████████████████████████| 2/2 [00:00<00:00, 33420.75it/s]\n",
      "Splitting the experimental spectrum into chunks: 131072it [00:00, 3309369.76it/s]\n",
      "Deconvolving chunks: 100%|███████████████████████| 1/1 [02:04<00:00, 124.83s/it]\n"
     ]
    },
    {
     "name": "stdout",
     "output_type": "stream",
     "text": [
      "Estimation for 0.2 and 0.12 done\n",
      "It took: 124.98701214790344 seconds.\n",
      "[0.8584049858360131, 0.10701780288200163]\n"
     ]
    },
    {
     "name": "stderr",
     "output_type": "stream",
     "text": [
      "Initial filtering of formulas: 100%|██████████████| 2/2 [00:00<00:00, 56.51it/s]\n",
      "Computing chunks: 100%|████████████████████████| 2/2 [00:00<00:00, 81442.80it/s]\n",
      "Splitting the experimental spectrum into chunks: 131072it [00:00, 3357246.41it/s]\n",
      "Deconvolving chunks: 100%|███████████████████████| 1/1 [02:07<00:00, 127.19s/it]\n"
     ]
    },
    {
     "name": "stdout",
     "output_type": "stream",
     "text": [
      "Estimation for 0.2 and 0.13 done\n",
      "It took: 127.34331512451172 seconds.\n",
      "[0.8580932417210131, 0.10681059327000164]\n"
     ]
    },
    {
     "name": "stderr",
     "output_type": "stream",
     "text": [
      "Initial filtering of formulas: 100%|██████████████| 2/2 [00:00<00:00, 57.35it/s]\n",
      "Computing chunks: 100%|████████████████████████| 2/2 [00:00<00:00, 75573.05it/s]\n",
      "Splitting the experimental spectrum into chunks: 131072it [00:00, 3314677.36it/s]\n",
      "Deconvolving chunks: 100%|███████████████████████| 1/1 [02:08<00:00, 128.03s/it]\n"
     ]
    },
    {
     "name": "stdout",
     "output_type": "stream",
     "text": [
      "Estimation for 0.2 and 0.14 done\n",
      "It took: 128.18521404266357 seconds.\n",
      "[0.8581282471650131, 0.10651754609800164]\n"
     ]
    },
    {
     "name": "stderr",
     "output_type": "stream",
     "text": [
      "Initial filtering of formulas: 100%|██████████████| 2/2 [00:00<00:00, 54.53it/s]\n",
      "Computing chunks: 100%|████████████████████████| 2/2 [00:00<00:00, 51463.85it/s]\n",
      "Splitting the experimental spectrum into chunks: 131072it [00:00, 3308931.55it/s]\n",
      "Deconvolving chunks: 100%|███████████████████████| 1/1 [02:08<00:00, 128.56s/it]\n"
     ]
    },
    {
     "name": "stdout",
     "output_type": "stream",
     "text": [
      "Estimation for 0.2 and 0.15000000000000002 done\n",
      "It took: 128.7452929019928 seconds.\n",
      "[0.857656071061013, 0.10653967657200164]\n"
     ]
    },
    {
     "name": "stderr",
     "output_type": "stream",
     "text": [
      "Initial filtering of formulas: 100%|██████████████| 2/2 [00:00<00:00, 46.52it/s]\n",
      "Computing chunks: 100%|████████████████████████| 2/2 [00:00<00:00, 87381.33it/s]\n",
      "Splitting the experimental spectrum into chunks: 131072it [00:00, 3232469.67it/s]\n",
      "Deconvolving chunks: 100%|███████████████████████| 1/1 [02:09<00:00, 129.39s/it]\n"
     ]
    },
    {
     "name": "stdout",
     "output_type": "stream",
     "text": [
      "Estimation for 0.2 and 0.16 done\n",
      "It took: 129.55433678627014 seconds.\n",
      "[0.8564518804520131, 0.10673007463000164]\n"
     ]
    },
    {
     "name": "stderr",
     "output_type": "stream",
     "text": [
      "Initial filtering of formulas: 100%|██████████████| 2/2 [00:00<00:00, 58.19it/s]\n",
      "Computing chunks: 100%|████████████████████████| 2/2 [00:00<00:00, 76959.71it/s]\n",
      "Splitting the experimental spectrum into chunks: 131072it [00:00, 3315057.13it/s]\n",
      "Deconvolving chunks: 100%|██████████████████████| 1/1 [30:57<00:00, 1857.14s/it]\n"
     ]
    },
    {
     "name": "stdout",
     "output_type": "stream",
     "text": [
      "Estimation for 0.2 and 0.17 done\n",
      "It took: 1857.293788433075 seconds.\n",
      "[0.8563137908660131, 0.10656028276800164]\n"
     ]
    },
    {
     "name": "stderr",
     "output_type": "stream",
     "text": [
      "Initial filtering of formulas: 100%|██████████████| 2/2 [00:00<00:00, 58.42it/s]\n",
      "Computing chunks: 100%|████████████████████████| 2/2 [00:00<00:00, 61680.94it/s]\n",
      "Splitting the experimental spectrum into chunks: 131072it [00:00, 2983619.78it/s]\n",
      "Deconvolving chunks: 100%|███████████████████████| 1/1 [02:04<00:00, 124.78s/it]\n"
     ]
    },
    {
     "name": "stdout",
     "output_type": "stream",
     "text": [
      "Estimation for 0.2 and 0.18000000000000002 done\n",
      "It took: 124.93512487411499 seconds.\n",
      "[0.8547371866130131, 0.10684176196800164]\n"
     ]
    },
    {
     "name": "stderr",
     "output_type": "stream",
     "text": [
      "Initial filtering of formulas: 100%|██████████████| 2/2 [00:00<00:00, 53.34it/s]\n",
      "Computing chunks: 100%|████████████████████████| 2/2 [00:00<00:00, 84733.41it/s]\n",
      "Splitting the experimental spectrum into chunks: 131072it [00:00, 3083595.91it/s]\n",
      "Deconvolving chunks: 100%|███████████████████████| 1/1 [02:08<00:00, 128.04s/it]\n"
     ]
    },
    {
     "name": "stdout",
     "output_type": "stream",
     "text": [
      "Estimation for 0.2 and 0.19 done\n",
      "It took: 128.20258045196533 seconds.\n",
      "[0.8550085337720131, 0.10686070516400163]\n"
     ]
    },
    {
     "name": "stderr",
     "output_type": "stream",
     "text": [
      "Initial filtering of formulas: 100%|██████████████| 2/2 [00:00<00:00, 55.13it/s]\n",
      "Computing chunks: 100%|████████████████████████| 2/2 [00:00<00:00, 79891.50it/s]\n",
      "Splitting the experimental spectrum into chunks: 131072it [00:00, 2910346.98it/s]\n",
      "Deconvolving chunks: 100%|███████████████████████| 1/1 [02:10<00:00, 130.14s/it]\n"
     ]
    },
    {
     "name": "stdout",
     "output_type": "stream",
     "text": [
      "Estimation for 0.2 and 0.2 done\n",
      "It took: 130.30302381515503 seconds.\n",
      "[0.8552251068440131, 0.10688079399200164]\n"
     ]
    },
    {
     "name": "stderr",
     "output_type": "stream",
     "text": [
      "Initial filtering of formulas: 100%|██████████████| 2/2 [00:00<00:00, 58.27it/s]\n",
      "Computing chunks: 100%|████████████████████████| 2/2 [00:00<00:00, 94254.02it/s]\n",
      "Splitting the experimental spectrum into chunks: 131072it [00:00, 3148784.97it/s]\n",
      "Deconvolving chunks: 100%|███████████████████████| 1/1 [02:12<00:00, 132.28s/it]\n"
     ]
    },
    {
     "name": "stdout",
     "output_type": "stream",
     "text": [
      "Estimation for 0.2 and 0.21000000000000002 done\n",
      "It took: 132.4606635570526 seconds.\n",
      "[0.8553767631850131, 0.10688987393400164]\n"
     ]
    },
    {
     "name": "stderr",
     "output_type": "stream",
     "text": [
      "Initial filtering of formulas: 100%|██████████████| 2/2 [00:00<00:00, 52.99it/s]\n",
      "Computing chunks: 100%|████████████████████████| 2/2 [00:00<00:00, 89240.51it/s]\n",
      "Splitting the experimental spectrum into chunks: 131072it [00:00, 3110076.68it/s]\n",
      "Deconvolving chunks: 100%|███████████████████████| 1/1 [02:10<00:00, 130.47s/it]\n"
     ]
    },
    {
     "name": "stdout",
     "output_type": "stream",
     "text": [
      "Estimation for 0.2 and 0.22 done\n",
      "It took: 130.63283967971802 seconds.\n",
      "[0.8553538215920131, 0.10686995113600163]\n"
     ]
    },
    {
     "name": "stderr",
     "output_type": "stream",
     "text": [
      "Initial filtering of formulas: 100%|██████████████| 2/2 [00:00<00:00, 55.79it/s]\n",
      "Computing chunks: 100%|████████████████████████| 2/2 [00:00<00:00, 54120.05it/s]\n",
      "Splitting the experimental spectrum into chunks: 131072it [00:00, 2956439.37it/s]\n",
      "Deconvolving chunks: 100%|███████████████████████| 1/1 [02:08<00:00, 128.80s/it]\n"
     ]
    },
    {
     "name": "stdout",
     "output_type": "stream",
     "text": [
      "Estimation for 0.2 and 0.23 done\n",
      "It took: 128.96616983413696 seconds.\n",
      "[0.8553663193280131, 0.10664029316500163]\n"
     ]
    },
    {
     "name": "stderr",
     "output_type": "stream",
     "text": [
      "Initial filtering of formulas: 100%|██████████████| 2/2 [00:00<00:00, 53.70it/s]\n",
      "Computing chunks: 100%|████████████████████████| 2/2 [00:00<00:00, 83055.52it/s]\n",
      "Splitting the experimental spectrum into chunks: 131072it [00:00, 3106491.57it/s]\n",
      "Deconvolving chunks: 100%|███████████████████████| 1/1 [02:07<00:00, 127.38s/it]\n"
     ]
    },
    {
     "name": "stdout",
     "output_type": "stream",
     "text": [
      "Estimation for 0.2 and 0.24000000000000002 done\n",
      "It took: 127.54167222976685 seconds.\n",
      "[0.8553075716980131, 0.10646041658200164]\n"
     ]
    },
    {
     "name": "stderr",
     "output_type": "stream",
     "text": [
      "Initial filtering of formulas: 100%|██████████████| 2/2 [00:00<00:00, 54.89it/s]\n",
      "Computing chunks: 100%|████████████████████████| 2/2 [00:00<00:00, 46863.73it/s]\n",
      "Splitting the experimental spectrum into chunks: 131072it [00:00, 3006364.37it/s]\n",
      "Deconvolving chunks: 100%|███████████████████████| 1/1 [02:07<00:00, 127.37s/it]\n"
     ]
    },
    {
     "name": "stdout",
     "output_type": "stream",
     "text": [
      "Estimation for 0.2 and 0.25 done\n",
      "It took: 127.55319356918335 seconds.\n",
      "[0.8552351203330131, 0.10637161915000162]\n"
     ]
    },
    {
     "name": "stderr",
     "output_type": "stream",
     "text": [
      "Initial filtering of formulas: 100%|██████████████| 2/2 [00:00<00:00, 54.39it/s]\n",
      "Computing chunks: 100%|████████████████████████| 2/2 [00:00<00:00, 73584.28it/s]\n",
      "Splitting the experimental spectrum into chunks: 131072it [00:00, 3098647.34it/s]\n",
      "Deconvolving chunks: 100%|███████████████████████| 1/1 [02:06<00:00, 126.79s/it]\n"
     ]
    },
    {
     "name": "stdout",
     "output_type": "stream",
     "text": [
      "Estimation for 0.2 and 0.26 done\n",
      "It took: 126.94866108894348 seconds.\n",
      "[0.8548725744220131, 0.10636418391600162]\n"
     ]
    },
    {
     "name": "stderr",
     "output_type": "stream",
     "text": [
      "Initial filtering of formulas: 100%|██████████████| 2/2 [00:00<00:00, 50.66it/s]\n",
      "Computing chunks: 100%|████████████████████████| 2/2 [00:00<00:00, 72315.59it/s]\n",
      "Splitting the experimental spectrum into chunks: 131072it [00:00, 3153824.79it/s]\n",
      "Deconvolving chunks: 100%|███████████████████████| 1/1 [02:13<00:00, 133.32s/it]\n"
     ]
    },
    {
     "name": "stdout",
     "output_type": "stream",
     "text": [
      "Estimation for 0.2 and 0.27 done\n",
      "It took: 133.51323461532593 seconds.\n",
      "[0.8529256905910131, 0.10668348481500163]\n"
     ]
    },
    {
     "name": "stderr",
     "output_type": "stream",
     "text": [
      "Initial filtering of formulas: 100%|██████████████| 2/2 [00:00<00:00, 55.17it/s]\n",
      "Computing chunks: 100%|████████████████████████| 2/2 [00:00<00:00, 77672.30it/s]\n",
      "Splitting the experimental spectrum into chunks: 131072it [00:00, 2868585.54it/s]\n",
      "Deconvolving chunks: 100%|███████████████████████| 1/1 [02:12<00:00, 132.19s/it]\n"
     ]
    },
    {
     "name": "stdout",
     "output_type": "stream",
     "text": [
      "Estimation for 0.2 and 0.28 done\n",
      "It took: 132.3697485923767 seconds.\n",
      "[0.8521018032220131, 0.10680555971100164]\n"
     ]
    },
    {
     "name": "stderr",
     "output_type": "stream",
     "text": [
      "Initial filtering of formulas: 100%|██████████████| 2/2 [00:00<00:00, 53.57it/s]\n",
      "Computing chunks: 100%|█████████████████████████| 2/2 [00:00<00:00, 7163.63it/s]\n",
      "Splitting the experimental spectrum into chunks: 131072it [00:00, 3015053.52it/s]\n",
      "Deconvolving chunks: 100%|███████████████████████| 1/1 [02:09<00:00, 129.07s/it]\n"
     ]
    },
    {
     "name": "stdout",
     "output_type": "stream",
     "text": [
      "Estimation for 0.2 and 0.29000000000000004 done\n",
      "It took: 129.26094555854797 seconds.\n",
      "[0.8520934826780131, 0.10672209205500163]\n"
     ]
    },
    {
     "name": "stderr",
     "output_type": "stream",
     "text": [
      "Initial filtering of formulas: 100%|██████████████| 2/2 [00:00<00:00, 53.05it/s]\n",
      "Computing chunks: 100%|████████████████████████| 2/2 [00:00<00:00, 72944.42it/s]\n",
      "Splitting the experimental spectrum into chunks: 131072it [00:00, 3036268.12it/s]\n",
      "Deconvolving chunks: 100%|███████████████████████| 1/1 [02:01<00:00, 121.52s/it]\n"
     ]
    },
    {
     "name": "stdout",
     "output_type": "stream",
     "text": [
      "Estimation for 0.21000000000000002 and 0.01 done\n",
      "It took: 121.68461227416992 seconds.\n",
      "[0.7299135692830112, 0.2688630574620041]\n"
     ]
    },
    {
     "name": "stderr",
     "output_type": "stream",
     "text": [
      "Initial filtering of formulas: 100%|██████████████| 2/2 [00:00<00:00, 55.65it/s]\n",
      "Computing chunks: 100%|████████████████████████| 2/2 [00:00<00:00, 44384.17it/s]\n",
      "Splitting the experimental spectrum into chunks: 131072it [00:00, 2945430.75it/s]\n",
      "Deconvolving chunks: 100%|███████████████████████| 1/1 [02:28<00:00, 148.52s/it]\n"
     ]
    },
    {
     "name": "stdout",
     "output_type": "stream",
     "text": [
      "Estimation for 0.21000000000000002 and 0.02 done\n",
      "It took: 148.69406700134277 seconds.\n",
      "[0.8758938516830135, 0.1050240798650016]\n"
     ]
    },
    {
     "name": "stderr",
     "output_type": "stream",
     "text": [
      "Initial filtering of formulas: 100%|██████████████| 2/2 [00:00<00:00, 55.68it/s]\n",
      "Computing chunks: 100%|████████████████████████| 2/2 [00:00<00:00, 68759.08it/s]\n",
      "Splitting the experimental spectrum into chunks: 131072it [00:00, 2971990.41it/s]\n",
      "Deconvolving chunks: 100%|███████████████████████| 1/1 [02:51<00:00, 171.63s/it]\n"
     ]
    },
    {
     "name": "stdout",
     "output_type": "stream",
     "text": [
      "Estimation for 0.21000000000000002 and 0.03 done\n",
      "It took: 171.79767990112305 seconds.\n",
      "[0.8724450583180133, 0.10303833175100158]\n"
     ]
    },
    {
     "name": "stderr",
     "output_type": "stream",
     "text": [
      "Initial filtering of formulas: 100%|██████████████| 2/2 [00:00<00:00, 52.47it/s]\n",
      "Computing chunks: 100%|████████████████████████| 2/2 [00:00<00:00, 69905.07it/s]\n",
      "Splitting the experimental spectrum into chunks: 131072it [00:00, 2997904.97it/s]\n",
      "Deconvolving chunks: 100%|███████████████████████| 1/1 [02:32<00:00, 152.66s/it]\n"
     ]
    },
    {
     "name": "stdout",
     "output_type": "stream",
     "text": [
      "Estimation for 0.21000000000000002 and 0.04 done\n",
      "It took: 152.8523600101471 seconds.\n",
      "[0.8657355187700132, 0.10794147296600165]\n"
     ]
    },
    {
     "name": "stderr",
     "output_type": "stream",
     "text": [
      "Initial filtering of formulas: 100%|██████████████| 2/2 [00:00<00:00, 56.45it/s]\n",
      "Computing chunks: 100%|████████████████████████| 2/2 [00:00<00:00, 41943.04it/s]\n",
      "Splitting the experimental spectrum into chunks: 131072it [00:00, 2998706.24it/s]\n",
      "Deconvolving chunks: 100%|███████████████████████| 1/1 [02:40<00:00, 160.79s/it]\n"
     ]
    },
    {
     "name": "stdout",
     "output_type": "stream",
     "text": [
      "Estimation for 0.21000000000000002 and 0.05 done\n",
      "It took: 160.94510340690613 seconds.\n",
      "[0.8642153334190132, 0.10865626671000167]\n"
     ]
    },
    {
     "name": "stderr",
     "output_type": "stream",
     "text": [
      "Initial filtering of formulas: 100%|██████████████| 2/2 [00:00<00:00, 59.84it/s]\n",
      "Computing chunks: 100%|████████████████████████| 2/2 [00:00<00:00, 82241.25it/s]\n",
      "Splitting the experimental spectrum into chunks: 131072it [00:00, 3346843.22it/s]\n",
      "Deconvolving chunks: 100%|███████████████████████| 1/1 [02:03<00:00, 123.89s/it]\n"
     ]
    },
    {
     "name": "stdout",
     "output_type": "stream",
     "text": [
      "Estimation for 0.21000000000000002 and 0.060000000000000005 done\n",
      "It took: 124.05352568626404 seconds.\n",
      "[0.8639855794280132, 0.10862644772500167]\n"
     ]
    },
    {
     "name": "stderr",
     "output_type": "stream",
     "text": [
      "Initial filtering of formulas: 100%|██████████████| 2/2 [00:00<00:00, 59.23it/s]\n",
      "Computing chunks: 100%|████████████████████████| 2/2 [00:00<00:00, 86480.49it/s]\n",
      "Splitting the experimental spectrum into chunks: 131072it [00:00, 3345295.42it/s]\n",
      "Deconvolving chunks: 100%|███████████████████████| 1/1 [02:27<00:00, 147.92s/it]\n"
     ]
    },
    {
     "name": "stdout",
     "output_type": "stream",
     "text": [
      "Estimation for 0.21000000000000002 and 0.06999999999999999 done\n",
      "It took: 148.06843495368958 seconds.\n",
      "[0.8637314965920132, 0.10824819862200166]\n"
     ]
    },
    {
     "name": "stderr",
     "output_type": "stream",
     "text": [
      "Initial filtering of formulas: 100%|██████████████| 2/2 [00:00<00:00, 54.16it/s]\n",
      "Computing chunks: 100%|████████████████████████| 2/2 [00:00<00:00, 36954.22it/s]\n",
      "Splitting the experimental spectrum into chunks: 131072it [00:00, 3315396.99it/s]\n",
      "Deconvolving chunks: 100%|███████████████████████| 1/1 [02:02<00:00, 122.30s/it]\n"
     ]
    },
    {
     "name": "stdout",
     "output_type": "stream",
     "text": [
      "Estimation for 0.21000000000000002 and 0.08 done\n",
      "It took: 122.44827032089233 seconds.\n",
      "[0.8638009074470132, 0.10765535691700165]\n"
     ]
    },
    {
     "name": "stderr",
     "output_type": "stream",
     "text": [
      "Initial filtering of formulas: 100%|██████████████| 2/2 [00:00<00:00, 50.33it/s]\n",
      "Computing chunks: 100%|████████████████████████| 2/2 [00:00<00:00, 62137.84it/s]\n",
      "Splitting the experimental spectrum into chunks: 131072it [00:00, 3274558.57it/s]\n",
      "Deconvolving chunks: 100%|███████████████████████| 1/1 [02:29<00:00, 149.05s/it]\n"
     ]
    },
    {
     "name": "stdout",
     "output_type": "stream",
     "text": [
      "Estimation for 0.21000000000000002 and 0.09 done\n",
      "It took: 149.2134952545166 seconds.\n",
      "[0.8633988741050133, 0.10736016353400166]\n"
     ]
    },
    {
     "name": "stderr",
     "output_type": "stream",
     "text": [
      "Initial filtering of formulas: 100%|██████████████| 2/2 [00:00<00:00, 54.52it/s]\n",
      "Computing chunks: 100%|████████████████████████| 2/2 [00:00<00:00, 64527.75it/s]\n",
      "Splitting the experimental spectrum into chunks: 131072it [00:00, 2962301.78it/s]\n",
      "Deconvolving chunks: 100%|███████████████████████| 1/1 [02:23<00:00, 143.72s/it]\n"
     ]
    },
    {
     "name": "stdout",
     "output_type": "stream",
     "text": [
      "Estimation for 0.21000000000000002 and 0.09999999999999999 done\n",
      "It took: 143.89037227630615 seconds.\n",
      "[0.8623288775430132, 0.10729629179800164]\n"
     ]
    },
    {
     "name": "stderr",
     "output_type": "stream",
     "text": [
      "Initial filtering of formulas: 100%|██████████████| 2/2 [00:00<00:00, 54.12it/s]\n",
      "Computing chunks: 100%|████████████████████████| 2/2 [00:00<00:00, 58254.22it/s]\n",
      "Splitting the experimental spectrum into chunks: 131072it [00:00, 2937624.24it/s]\n",
      "Deconvolving chunks: 100%|███████████████████████| 1/1 [02:20<00:00, 140.50s/it]\n"
     ]
    },
    {
     "name": "stdout",
     "output_type": "stream",
     "text": [
      "Estimation for 0.21000000000000002 and 0.11 done\n",
      "It took: 140.67191123962402 seconds.\n",
      "[0.8612661648190132, 0.10734728921400165]\n"
     ]
    },
    {
     "name": "stderr",
     "output_type": "stream",
     "text": [
      "Initial filtering of formulas: 100%|██████████████| 2/2 [00:00<00:00, 50.63it/s]\n",
      "Computing chunks: 100%|████████████████████████| 2/2 [00:00<00:00, 36314.32it/s]\n",
      "Splitting the experimental spectrum into chunks: 131072it [00:00, 3000522.94it/s]\n",
      "Deconvolving chunks: 100%|███████████████████████| 1/1 [02:09<00:00, 129.10s/it]\n"
     ]
    },
    {
     "name": "stdout",
     "output_type": "stream",
     "text": [
      "Estimation for 0.21000000000000002 and 0.12 done\n",
      "It took: 129.29078674316406 seconds.\n",
      "[0.8599092055460132, 0.10707739166000163]\n"
     ]
    },
    {
     "name": "stderr",
     "output_type": "stream",
     "text": [
      "Initial filtering of formulas: 100%|██████████████| 2/2 [00:00<00:00, 53.72it/s]\n",
      "Computing chunks: 100%|████████████████████████| 2/2 [00:00<00:00, 48489.06it/s]\n",
      "Splitting the experimental spectrum into chunks: 131072it [00:00, 2939713.46it/s]\n",
      "Deconvolving chunks: 100%|███████████████████████| 1/1 [02:04<00:00, 124.51s/it]\n"
     ]
    },
    {
     "name": "stdout",
     "output_type": "stream",
     "text": [
      "Estimation for 0.21000000000000002 and 0.13 done\n",
      "It took: 124.70308184623718 seconds.\n",
      "[0.8592922465260132, 0.10707663399200164]\n"
     ]
    },
    {
     "name": "stderr",
     "output_type": "stream",
     "text": [
      "Initial filtering of formulas: 100%|██████████████| 2/2 [00:00<00:00, 57.88it/s]\n",
      "Computing chunks: 100%|████████████████████████| 2/2 [00:00<00:00, 70492.50it/s]\n",
      "Splitting the experimental spectrum into chunks: 131072it [00:00, 3017105.33it/s]\n",
      "Deconvolving chunks: 100%|███████████████████████| 1/1 [02:10<00:00, 130.98s/it]\n"
     ]
    },
    {
     "name": "stdout",
     "output_type": "stream",
     "text": [
      "Estimation for 0.21000000000000002 and 0.14 done\n",
      "It took: 131.16158628463745 seconds.\n",
      "[0.8592106571150132, 0.10690643772200163]\n"
     ]
    },
    {
     "name": "stderr",
     "output_type": "stream",
     "text": [
      "Initial filtering of formulas: 100%|██████████████| 2/2 [00:00<00:00, 59.43it/s]\n",
      "Computing chunks: 100%|████████████████████████| 2/2 [00:00<00:00, 51463.85it/s]\n",
      "Splitting the experimental spectrum into chunks: 131072it [00:00, 3120952.68it/s]\n",
      "Deconvolving chunks: 100%|███████████████████████| 1/1 [02:12<00:00, 132.54s/it]\n"
     ]
    },
    {
     "name": "stdout",
     "output_type": "stream",
     "text": [
      "Estimation for 0.21000000000000002 and 0.15000000000000002 done\n",
      "It took: 132.69748282432556 seconds.\n",
      "[0.8593253894070132, 0.10661867381800164]\n"
     ]
    },
    {
     "name": "stderr",
     "output_type": "stream",
     "text": [
      "Initial filtering of formulas: 100%|██████████████| 2/2 [00:00<00:00, 55.19it/s]\n",
      "Computing chunks: 100%|████████████████████████| 2/2 [00:00<00:00, 81442.80it/s]\n",
      "Splitting the experimental spectrum into chunks: 131072it [00:00, 2968043.27it/s]\n",
      "Deconvolving chunks: 100%|███████████████████████| 1/1 [02:09<00:00, 129.44s/it]\n"
     ]
    },
    {
     "name": "stdout",
     "output_type": "stream",
     "text": [
      "Estimation for 0.21000000000000002 and 0.16 done\n",
      "It took: 129.59763169288635 seconds.\n",
      "[0.8584880293970131, 0.10670968421700164]\n"
     ]
    },
    {
     "name": "stderr",
     "output_type": "stream",
     "text": [
      "Initial filtering of formulas: 100%|██████████████| 2/2 [00:00<00:00, 53.04it/s]\n",
      "Computing chunks: 100%|████████████████████████| 2/2 [00:00<00:00, 74235.47it/s]\n",
      "Splitting the experimental spectrum into chunks: 131072it [00:00, 2995258.93it/s]\n",
      "Deconvolving chunks: 100%|███████████████████████| 1/1 [02:07<00:00, 127.51s/it]\n"
     ]
    },
    {
     "name": "stdout",
     "output_type": "stream",
     "text": [
      "Estimation for 0.21000000000000002 and 0.17 done\n",
      "It took: 127.68959665298462 seconds.\n",
      "[0.8578013336920131, 0.10683111756600164]\n"
     ]
    },
    {
     "name": "stderr",
     "output_type": "stream",
     "text": [
      "Initial filtering of formulas: 100%|██████████████| 2/2 [00:00<00:00, 56.35it/s]\n",
      "Computing chunks: 100%|████████████████████████| 2/2 [00:00<00:00, 57065.36it/s]\n",
      "Splitting the experimental spectrum into chunks: 131072it [00:00, 2968475.98it/s]\n",
      "Deconvolving chunks: 100%|███████████████████████| 1/1 [02:06<00:00, 127.00s/it]\n"
     ]
    },
    {
     "name": "stdout",
     "output_type": "stream",
     "text": [
      "Estimation for 0.21000000000000002 and 0.18000000000000002 done\n",
      "It took: 127.15715384483337 seconds.\n",
      "[0.8567969257450131, 0.10682970661200164]\n"
     ]
    },
    {
     "name": "stderr",
     "output_type": "stream",
     "text": [
      "Initial filtering of formulas: 100%|██████████████| 2/2 [00:00<00:00, 53.22it/s]\n",
      "Computing chunks: 100%|████████████████████████| 2/2 [00:00<00:00, 39756.44it/s]\n",
      "Splitting the experimental spectrum into chunks: 131072it [00:00, 3164280.78it/s]\n",
      "Deconvolving chunks: 100%|███████████████████████| 1/1 [02:08<00:00, 128.93s/it]\n"
     ]
    },
    {
     "name": "stdout",
     "output_type": "stream",
     "text": [
      "Estimation for 0.21000000000000002 and 0.19 done\n",
      "It took: 129.10982251167297 seconds.\n",
      "[0.8565963303210131, 0.10690142246700164]\n"
     ]
    },
    {
     "name": "stderr",
     "output_type": "stream",
     "text": [
      "Initial filtering of formulas: 100%|██████████████| 2/2 [00:00<00:00, 54.44it/s]\n",
      "Computing chunks: 100%|████████████████████████| 2/2 [00:00<00:00, 57456.22it/s]\n",
      "Splitting the experimental spectrum into chunks: 131072it [00:00, 3161914.87it/s]\n",
      "Deconvolving chunks: 100%|███████████████████████| 1/1 [02:01<00:00, 121.81s/it]\n"
     ]
    },
    {
     "name": "stdout",
     "output_type": "stream",
     "text": [
      "Estimation for 0.21000000000000002 and 0.2 done\n",
      "It took: 121.96593117713928 seconds.\n",
      "[0.8566723690040131, 0.10693162434300164]\n"
     ]
    },
    {
     "name": "stderr",
     "output_type": "stream",
     "text": [
      "Initial filtering of formulas: 100%|██████████████| 2/2 [00:00<00:00, 51.55it/s]\n",
      "Computing chunks: 100%|████████████████████████| 2/2 [00:00<00:00, 88301.14it/s]\n",
      "Splitting the experimental spectrum into chunks: 131072it [00:00, 3117643.00it/s]\n",
      "Deconvolving chunks: 100%|███████████████████████| 1/1 [02:31<00:00, 151.23s/it]\n"
     ]
    },
    {
     "name": "stdout",
     "output_type": "stream",
     "text": [
      "Estimation for 0.21000000000000002 and 0.21000000000000002 done\n",
      "It took: 151.40189814567566 seconds.\n",
      "[0.8565899971870131, 0.10693294665400163]\n"
     ]
    },
    {
     "name": "stderr",
     "output_type": "stream",
     "text": [
      "Initial filtering of formulas: 100%|██████████████| 2/2 [00:00<00:00, 51.76it/s]\n",
      "Computing chunks: 100%|████████████████████████| 2/2 [00:00<00:00, 77672.30it/s]\n",
      "Splitting the experimental spectrum into chunks: 131072it [00:00, 3103405.18it/s]\n",
      "Deconvolving chunks: 100%|███████████████████████| 1/1 [02:08<00:00, 128.84s/it]\n"
     ]
    },
    {
     "name": "stdout",
     "output_type": "stream",
     "text": [
      "Estimation for 0.21000000000000002 and 0.22 done\n",
      "It took: 129.0267298221588 seconds.\n",
      "[0.8564956903960131, 0.10688919248000164]\n"
     ]
    },
    {
     "name": "stderr",
     "output_type": "stream",
     "text": [
      "Initial filtering of formulas: 100%|██████████████| 2/2 [00:00<00:00, 53.04it/s]\n",
      "Computing chunks: 100%|████████████████████████| 2/2 [00:00<00:00, 29026.33it/s]\n",
      "Splitting the experimental spectrum into chunks: 131072it [00:00, 2935114.83it/s]\n",
      "Deconvolving chunks: 100%|███████████████████████| 1/1 [02:06<00:00, 126.37s/it]\n"
     ]
    },
    {
     "name": "stdout",
     "output_type": "stream",
     "text": [
      "Estimation for 0.21000000000000002 and 0.23 done\n",
      "It took: 126.53142237663269 seconds.\n",
      "[0.8563057362710131, 0.10688745955900164]\n"
     ]
    },
    {
     "name": "stderr",
     "output_type": "stream",
     "text": [
      "Initial filtering of formulas: 100%|██████████████| 2/2 [00:00<00:00, 49.52it/s]\n",
      "Computing chunks: 100%|████████████████████████| 2/2 [00:00<00:00, 46603.38it/s]\n",
      "Splitting the experimental spectrum into chunks: 131072it [00:00, 2612560.18it/s]\n",
      "Deconvolving chunks: 100%|███████████████████████| 1/1 [02:24<00:00, 144.41s/it]\n"
     ]
    },
    {
     "name": "stdout",
     "output_type": "stream",
     "text": [
      "Estimation for 0.21000000000000002 and 0.24000000000000002 done\n",
      "It took: 144.6096704006195 seconds.\n",
      "[0.8563369149840131, 0.10658893153100164]\n"
     ]
    },
    {
     "name": "stderr",
     "output_type": "stream",
     "text": [
      "Initial filtering of formulas: 100%|██████████████| 2/2 [00:00<00:00, 53.58it/s]\n",
      "Computing chunks: 100%|████████████████████████| 2/2 [00:00<00:00, 92182.51it/s]\n",
      "Splitting the experimental spectrum into chunks: 131072it [00:00, 2976383.08it/s]\n",
      "Deconvolving chunks: 100%|███████████████████████| 1/1 [02:09<00:00, 129.45s/it]\n"
     ]
    },
    {
     "name": "stdout",
     "output_type": "stream",
     "text": [
      "Estimation for 0.21000000000000002 and 0.25 done\n",
      "It took: 129.61454129219055 seconds.\n",
      "[0.8562983635160131, 0.10646646996800163]\n"
     ]
    },
    {
     "name": "stderr",
     "output_type": "stream",
     "text": [
      "Initial filtering of formulas: 100%|██████████████| 2/2 [00:00<00:00, 51.92it/s]\n",
      "Computing chunks: 100%|████████████████████████| 2/2 [00:00<00:00, 16288.56it/s]\n",
      "Splitting the experimental spectrum into chunks: 131072it [00:00, 3120031.63it/s]\n",
      "Deconvolving chunks: 100%|███████████████████████| 1/1 [02:01<00:00, 121.92s/it]\n"
     ]
    },
    {
     "name": "stdout",
     "output_type": "stream",
     "text": [
      "Estimation for 0.21000000000000002 and 0.26 done\n",
      "It took: 122.10839915275574 seconds.\n",
      "[0.8562182827350131, 0.10638849524400162]\n"
     ]
    },
    {
     "name": "stderr",
     "output_type": "stream",
     "text": [
      "Initial filtering of formulas: 100%|██████████████| 2/2 [00:00<00:00, 63.15it/s]\n",
      "Computing chunks: 100%|████████████████████████| 2/2 [00:00<00:00, 95325.09it/s]\n",
      "Splitting the experimental spectrum into chunks: 131072it [00:00, 3400565.45it/s]\n",
      "Deconvolving chunks: 100%|███████████████████████| 1/1 [02:04<00:00, 124.25s/it]\n"
     ]
    },
    {
     "name": "stdout",
     "output_type": "stream",
     "text": [
      "Estimation for 0.21000000000000002 and 0.27 done\n",
      "It took: 124.41527152061462 seconds.\n",
      "[0.8548837501480131, 0.10656954637900164]\n"
     ]
    },
    {
     "name": "stderr",
     "output_type": "stream",
     "text": [
      "Initial filtering of formulas: 100%|██████████████| 2/2 [00:00<00:00, 61.61it/s]\n",
      "Computing chunks: 100%|████████████████████████| 2/2 [00:00<00:00, 92182.51it/s]\n",
      "Splitting the experimental spectrum into chunks: 131072it [00:00, 3386259.32it/s]\n",
      "Deconvolving chunks: 100%|███████████████████████| 1/1 [02:01<00:00, 121.03s/it]\n"
     ]
    },
    {
     "name": "stdout",
     "output_type": "stream",
     "text": [
      "Estimation for 0.21000000000000002 and 0.28 done\n",
      "It took: 121.17626094818115 seconds.\n",
      "[0.8531861467520131, 0.10682196066100164]\n"
     ]
    },
    {
     "name": "stderr",
     "output_type": "stream",
     "text": [
      "Initial filtering of formulas: 100%|██████████████| 2/2 [00:00<00:00, 61.02it/s]\n",
      "Computing chunks: 100%|████████████████████████| 2/2 [00:00<00:00, 97541.95it/s]\n",
      "Splitting the experimental spectrum into chunks: 131072it [00:00, 3516141.87it/s]\n",
      "Deconvolving chunks: 100%|███████████████████████| 1/1 [02:00<00:00, 120.16s/it]\n"
     ]
    },
    {
     "name": "stdout",
     "output_type": "stream",
     "text": [
      "Estimation for 0.21000000000000002 and 0.29000000000000004 done\n",
      "It took: 120.32094478607178 seconds.\n",
      "[0.8531304765370131, 0.10678256390300164]\n"
     ]
    },
    {
     "name": "stderr",
     "output_type": "stream",
     "text": [
      "Initial filtering of formulas: 100%|██████████████| 2/2 [00:00<00:00, 60.92it/s]\n",
      "Computing chunks: 100%|████████████████████████| 2/2 [00:00<00:00, 91180.52it/s]\n",
      "Splitting the experimental spectrum into chunks: 131072it [00:00, 3396321.78it/s]\n",
      "Deconvolving chunks: 100%|███████████████████████| 1/1 [03:47<00:00, 227.91s/it]\n"
     ]
    },
    {
     "name": "stdout",
     "output_type": "stream",
     "text": [
      "Estimation for 0.22 and 0.01 done\n",
      "It took: 228.06977653503418 seconds.\n",
      "[0.7312926817520112, 0.2675877345540041]\n"
     ]
    },
    {
     "name": "stderr",
     "output_type": "stream",
     "text": [
      "Initial filtering of formulas: 100%|██████████████| 2/2 [00:00<00:00, 62.16it/s]\n",
      "Computing chunks: 100%|████████████████████████| 2/2 [00:00<00:00, 86480.49it/s]\n",
      "Splitting the experimental spectrum into chunks: 131072it [00:00, 3410946.02it/s]\n",
      "Deconvolving chunks: 100%|███████████████████████| 1/1 [02:17<00:00, 137.25s/it]\n"
     ]
    },
    {
     "name": "stdout",
     "output_type": "stream",
     "text": [
      "Estimation for 0.22 and 0.02 done\n",
      "It took: 137.41412448883057 seconds.\n",
      "[0.8734985202420135, 0.10842066465500166]\n"
     ]
    },
    {
     "name": "stderr",
     "output_type": "stream",
     "text": [
      "Initial filtering of formulas: 100%|██████████████| 2/2 [00:00<00:00, 63.72it/s]\n",
      "Computing chunks: 100%|████████████████████████| 2/2 [00:00<00:00, 91180.52it/s]\n",
      "Splitting the experimental spectrum into chunks: 131072it [00:00, 3464600.10it/s]\n",
      "Deconvolving chunks: 100%|███████████████████████| 1/1 [02:27<00:00, 147.42s/it]\n"
     ]
    },
    {
     "name": "stdout",
     "output_type": "stream",
     "text": [
      "Estimation for 0.22 and 0.03 done\n",
      "It took: 147.56223607063293 seconds.\n",
      "[0.8734935776550135, 0.10311678491700159]\n"
     ]
    },
    {
     "name": "stderr",
     "output_type": "stream",
     "text": [
      "Initial filtering of formulas: 100%|██████████████| 2/2 [00:00<00:00, 61.59it/s]\n",
      "Computing chunks: 100%|████████████████████████| 2/2 [00:00<00:00, 54827.50it/s]\n",
      "Splitting the experimental spectrum into chunks: 131072it [00:00, 3404355.88it/s]\n",
      "Deconvolving chunks: 100%|███████████████████████| 1/1 [02:13<00:00, 133.05s/it]\n"
     ]
    },
    {
     "name": "stdout",
     "output_type": "stream",
     "text": [
      "Estimation for 0.22 and 0.04 done\n",
      "It took: 133.2118420600891 seconds.\n",
      "[0.8666944723260134, 0.10811445548100165]\n"
     ]
    },
    {
     "name": "stderr",
     "output_type": "stream",
     "text": [
      "Initial filtering of formulas: 100%|██████████████| 2/2 [00:00<00:00, 63.07it/s]\n",
      "Computing chunks: 100%|████████████████████████| 2/2 [00:00<00:00, 92182.51it/s]\n",
      "Splitting the experimental spectrum into chunks: 131072it [00:00, 3443830.07it/s]\n",
      "Deconvolving chunks: 100%|███████████████████████| 1/1 [02:25<00:00, 145.98s/it]\n"
     ]
    },
    {
     "name": "stdout",
     "output_type": "stream",
     "text": [
      "Estimation for 0.22 and 0.05 done\n",
      "It took: 146.1510591506958 seconds.\n",
      "[0.8653927043560132, 0.10874508674600167]\n"
     ]
    },
    {
     "name": "stderr",
     "output_type": "stream",
     "text": [
      "Initial filtering of formulas: 100%|██████████████| 2/2 [00:00<00:00, 63.82it/s]\n",
      "Computing chunks: 100%|████████████████████████| 2/2 [00:00<00:00, 90200.09it/s]\n",
      "Splitting the experimental spectrum into chunks: 131072it [00:00, 3431898.46it/s]\n",
      "Deconvolving chunks: 100%|███████████████████████| 1/1 [01:52<00:00, 112.36s/it]\n"
     ]
    },
    {
     "name": "stdout",
     "output_type": "stream",
     "text": [
      "Estimation for 0.22 and 0.060000000000000005 done\n",
      "It took: 112.49951505661011 seconds.\n",
      "[0.8650036040970132, 0.10864474135500167]\n"
     ]
    },
    {
     "name": "stderr",
     "output_type": "stream",
     "text": [
      "Initial filtering of formulas: 100%|██████████████| 2/2 [00:00<00:00, 59.94it/s]\n",
      "Computing chunks: 100%|████████████████████████| 2/2 [00:00<00:00, 85598.04it/s]\n",
      "Splitting the experimental spectrum into chunks: 131072it [00:00, 3383300.08it/s]\n",
      "Deconvolving chunks: 100%|███████████████████████| 1/1 [01:55<00:00, 115.54s/it]\n"
     ]
    },
    {
     "name": "stdout",
     "output_type": "stream",
     "text": [
      "Estimation for 0.22 and 0.06999999999999999 done\n",
      "It took: 115.691091299057 seconds.\n",
      "[0.8648302912630133, 0.10832359452600167]\n"
     ]
    },
    {
     "name": "stderr",
     "output_type": "stream",
     "text": [
      "Initial filtering of formulas: 100%|██████████████| 2/2 [00:00<00:00, 61.23it/s]\n",
      "Computing chunks: 100%|████████████████████████| 2/2 [00:00<00:00, 95325.09it/s]\n",
      "Splitting the experimental spectrum into chunks: 131072it [00:00, 3572580.38it/s]\n",
      "Deconvolving chunks: 100%|███████████████████████| 1/1 [02:21<00:00, 141.59s/it]\n"
     ]
    },
    {
     "name": "stdout",
     "output_type": "stream",
     "text": [
      "Estimation for 0.22 and 0.08 done\n",
      "It took: 141.73814988136292 seconds.\n",
      "[0.8646052278060132, 0.10791822356900165]\n"
     ]
    },
    {
     "name": "stderr",
     "output_type": "stream",
     "text": [
      "Initial filtering of formulas: 100%|██████████████| 2/2 [00:00<00:00, 61.94it/s]\n",
      "Computing chunks: 100%|████████████████████████| 2/2 [00:00<00:00, 88301.14it/s]\n",
      "Splitting the experimental spectrum into chunks: 131072it [00:00, 3406085.44it/s]\n",
      "Deconvolving chunks: 100%|███████████████████████| 1/1 [02:15<00:00, 135.76s/it]\n"
     ]
    },
    {
     "name": "stdout",
     "output_type": "stream",
     "text": [
      "Estimation for 0.22 and 0.09 done\n",
      "It took: 135.92018747329712 seconds.\n",
      "[0.8643150617460132, 0.10764419754600166]\n"
     ]
    },
    {
     "name": "stderr",
     "output_type": "stream",
     "text": [
      "Initial filtering of formulas: 100%|██████████████| 2/2 [00:00<00:00, 47.91it/s]\n",
      "Computing chunks: 100%|████████████████████████| 2/2 [00:00<00:00, 77672.30it/s]\n",
      "Splitting the experimental spectrum into chunks: 131072it [00:00, 3333732.43it/s]\n",
      "Deconvolving chunks: 100%|███████████████████████| 1/1 [01:54<00:00, 114.28s/it]\n"
     ]
    },
    {
     "name": "stdout",
     "output_type": "stream",
     "text": [
      "Estimation for 0.22 and 0.09999999999999999 done\n",
      "It took: 114.46587061882019 seconds.\n",
      "[0.8635913667830132, 0.10750190744500165]\n"
     ]
    },
    {
     "name": "stderr",
     "output_type": "stream",
     "text": [
      "Initial filtering of formulas: 100%|██████████████| 2/2 [00:00<00:00, 51.53it/s]\n",
      "Computing chunks: 100%|████████████████████████| 2/2 [00:00<00:00, 85598.04it/s]\n",
      "Splitting the experimental spectrum into chunks: 131072it [00:00, 3178881.77it/s]\n",
      "Deconvolving chunks: 100%|███████████████████████| 1/1 [01:58<00:00, 118.87s/it]\n"
     ]
    },
    {
     "name": "stdout",
     "output_type": "stream",
     "text": [
      "Estimation for 0.22 and 0.11 done\n",
      "It took: 119.0203149318695 seconds.\n",
      "[0.8625655449890132, 0.10748783945700165]\n"
     ]
    },
    {
     "name": "stderr",
     "output_type": "stream",
     "text": [
      "Initial filtering of formulas: 100%|██████████████| 2/2 [00:00<00:00, 62.84it/s]\n",
      "Computing chunks: 100%|████████████████████████| 2/2 [00:00<00:00, 88301.14it/s]\n",
      "Splitting the experimental spectrum into chunks: 131072it [00:00, 3429650.42it/s]\n",
      "Deconvolving chunks: 100%|███████████████████████| 1/1 [01:55<00:00, 115.98s/it]\n"
     ]
    },
    {
     "name": "stdout",
     "output_type": "stream",
     "text": [
      "Estimation for 0.22 and 0.12 done\n",
      "It took: 116.11776900291443 seconds.\n",
      "[0.8616293078270132, 0.10745484576800166]\n"
     ]
    },
    {
     "name": "stderr",
     "output_type": "stream",
     "text": [
      "Initial filtering of formulas: 100%|██████████████| 2/2 [00:00<00:00, 62.87it/s]\n",
      "Computing chunks: 100%|████████████████████████| 2/2 [00:00<00:00, 66576.25it/s]\n",
      "Splitting the experimental spectrum into chunks: 131072it [00:00, 3474782.82it/s]\n",
      "Deconvolving chunks: 100%|███████████████████████| 1/1 [02:00<00:00, 120.51s/it]\n"
     ]
    },
    {
     "name": "stdout",
     "output_type": "stream",
     "text": [
      "Estimation for 0.22 and 0.13 done\n",
      "It took: 120.66503286361694 seconds.\n",
      "[0.8608499866500132, 0.10716696460300164]\n"
     ]
    },
    {
     "name": "stderr",
     "output_type": "stream",
     "text": [
      "Initial filtering of formulas: 100%|██████████████| 2/2 [00:00<00:00, 62.44it/s]\n",
      "Computing chunks: 100%|████████████████████████| 2/2 [00:00<00:00, 94254.02it/s]\n",
      "Splitting the experimental spectrum into chunks: 131072it [00:00, 3414059.84it/s]\n",
      "Deconvolving chunks: 100%|███████████████████████| 1/1 [02:00<00:00, 120.82s/it]\n"
     ]
    },
    {
     "name": "stdout",
     "output_type": "stream",
     "text": [
      "Estimation for 0.22 and 0.14 done\n",
      "It took: 120.97796487808228 seconds.\n",
      "[0.8605094827280132, 0.10717245147700163]\n"
     ]
    },
    {
     "name": "stderr",
     "output_type": "stream",
     "text": [
      "Initial filtering of formulas: 100%|██████████████| 2/2 [00:00<00:00, 62.11it/s]\n",
      "Computing chunks: 100%|████████████████████████| 2/2 [00:00<00:00, 86480.49it/s]\n",
      "Splitting the experimental spectrum into chunks: 131072it [00:00, 3424245.79it/s]\n",
      "Deconvolving chunks: 100%|███████████████████████| 1/1 [02:00<00:00, 120.59s/it]\n"
     ]
    },
    {
     "name": "stdout",
     "output_type": "stream",
     "text": [
      "Estimation for 0.22 and 0.15000000000000002 done\n",
      "It took: 120.76210117340088 seconds.\n",
      "[0.8607169349510132, 0.10702777752800163]\n"
     ]
    },
    {
     "name": "stderr",
     "output_type": "stream",
     "text": [
      "Initial filtering of formulas: 100%|██████████████| 2/2 [00:00<00:00, 57.03it/s]\n",
      "Computing chunks: 100%|████████████████████████| 2/2 [00:00<00:00, 81442.80it/s]\n",
      "Splitting the experimental spectrum into chunks: 131072it [00:00, 3242784.92it/s]\n",
      "Deconvolving chunks: 100%|███████████████████████| 1/1 [02:01<00:00, 121.02s/it]\n"
     ]
    },
    {
     "name": "stdout",
     "output_type": "stream",
     "text": [
      "Estimation for 0.22 and 0.16 done\n",
      "It took: 121.16601014137268 seconds.\n",
      "[0.8601521892400132, 0.10682730899400164]\n"
     ]
    },
    {
     "name": "stderr",
     "output_type": "stream",
     "text": [
      "Initial filtering of formulas: 100%|██████████████| 2/2 [00:00<00:00, 62.79it/s]\n",
      "Computing chunks: 100%|████████████████████████| 2/2 [00:00<00:00, 86480.49it/s]\n",
      "Splitting the experimental spectrum into chunks: 131072it [00:00, 3445384.04it/s]\n",
      "Deconvolving chunks: 100%|███████████████████████| 1/1 [01:59<00:00, 119.23s/it]\n"
     ]
    },
    {
     "name": "stdout",
     "output_type": "stream",
     "text": [
      "Estimation for 0.22 and 0.17 done\n",
      "It took: 119.3731598854065 seconds.\n",
      "[0.8596835281450133, 0.10688043378600164]\n"
     ]
    },
    {
     "name": "stderr",
     "output_type": "stream",
     "text": [
      "Initial filtering of formulas: 100%|██████████████| 2/2 [00:00<00:00, 60.52it/s]\n",
      "Computing chunks: 100%|████████████████████████| 2/2 [00:00<00:00, 84733.41it/s]\n",
      "Splitting the experimental spectrum into chunks: 131072it [00:00, 3364766.96it/s]\n",
      "Deconvolving chunks: 100%|███████████████████████| 1/1 [01:59<00:00, 119.87s/it]\n"
     ]
    },
    {
     "name": "stdout",
     "output_type": "stream",
     "text": [
      "Estimation for 0.22 and 0.18000000000000002 done\n",
      "It took: 120.03564071655273 seconds.\n",
      "[0.8588562258720132, 0.10701161627700163]\n"
     ]
    },
    {
     "name": "stderr",
     "output_type": "stream",
     "text": [
      "Initial filtering of formulas: 100%|██████████████| 2/2 [00:00<00:00, 61.61it/s]\n",
      "Computing chunks: 100%|████████████████████████| 2/2 [00:00<00:00, 91180.52it/s]\n",
      "Splitting the experimental spectrum into chunks: 131072it [00:00, 3405241.53it/s]\n",
      "Deconvolving chunks: 100%|███████████████████████| 1/1 [01:56<00:00, 116.93s/it]\n"
     ]
    },
    {
     "name": "stdout",
     "output_type": "stream",
     "text": [
      "Estimation for 0.22 and 0.19 done\n",
      "It took: 117.07534313201904 seconds.\n",
      "[0.8579657534550131, 0.10697481261600164]\n"
     ]
    },
    {
     "name": "stderr",
     "output_type": "stream",
     "text": [
      "Initial filtering of formulas: 100%|██████████████| 2/2 [00:00<00:00, 59.82it/s]\n",
      "Computing chunks: 100%|████████████████████████| 2/2 [00:00<00:00, 89240.51it/s]\n",
      "Splitting the experimental spectrum into chunks: 131072it [00:00, 3360386.15it/s]\n",
      "Deconvolving chunks: 100%|███████████████████████| 1/1 [02:00<00:00, 120.83s/it]\n"
     ]
    },
    {
     "name": "stdout",
     "output_type": "stream",
     "text": [
      "Estimation for 0.22 and 0.2 done\n",
      "It took: 120.97418594360352 seconds.\n",
      "[0.8578766193010131, 0.10693869102700164]\n"
     ]
    },
    {
     "name": "stderr",
     "output_type": "stream",
     "text": [
      "Initial filtering of formulas: 100%|██████████████| 2/2 [00:00<00:00, 62.12it/s]\n",
      "Computing chunks: 100%|████████████████████████| 2/2 [00:00<00:00, 92182.51it/s]\n",
      "Splitting the experimental spectrum into chunks: 131072it [00:00, 3418666.84it/s]\n",
      "Deconvolving chunks: 100%|███████████████████████| 1/1 [01:59<00:00, 119.99s/it]\n"
     ]
    },
    {
     "name": "stdout",
     "output_type": "stream",
     "text": [
      "Estimation for 0.22 and 0.21000000000000002 done\n",
      "It took: 120.1538918018341 seconds.\n",
      "[0.857706414345013, 0.10693647841900164]\n"
     ]
    },
    {
     "name": "stderr",
     "output_type": "stream",
     "text": [
      "Initial filtering of formulas: 100%|██████████████| 2/2 [00:00<00:00, 61.68it/s]\n",
      "Computing chunks: 100%|████████████████████████| 2/2 [00:00<00:00, 92182.51it/s]\n",
      "Splitting the experimental spectrum into chunks: 131072it [00:00, 3365776.36it/s]\n",
      "Deconvolving chunks: 100%|███████████████████████| 1/1 [02:18<00:00, 138.38s/it]\n"
     ]
    },
    {
     "name": "stdout",
     "output_type": "stream",
     "text": [
      "Estimation for 0.22 and 0.22 done\n",
      "It took: 138.55116176605225 seconds.\n",
      "[0.8575729469650131, 0.10692434095200164]\n"
     ]
    },
    {
     "name": "stderr",
     "output_type": "stream",
     "text": [
      "Initial filtering of formulas: 100%|██████████████| 2/2 [00:00<00:00, 62.95it/s]\n",
      "Computing chunks: 100%|████████████████████████| 2/2 [00:00<00:00, 91180.52it/s]\n",
      "Splitting the experimental spectrum into chunks: 131072it [00:00, 3455779.77it/s]\n",
      "Deconvolving chunks: 100%|███████████████████████| 1/1 [02:00<00:00, 120.91s/it]\n"
     ]
    },
    {
     "name": "stdout",
     "output_type": "stream",
     "text": [
      "Estimation for 0.22 and 0.23 done\n",
      "It took: 121.07483673095703 seconds.\n",
      "[0.857444182858013, 0.10689417285900164]\n"
     ]
    },
    {
     "name": "stderr",
     "output_type": "stream",
     "text": [
      "Initial filtering of formulas: 100%|██████████████| 2/2 [00:00<00:00, 60.08it/s]\n",
      "Computing chunks: 100%|████████████████████████| 2/2 [00:00<00:00, 85598.04it/s]\n",
      "Splitting the experimental spectrum into chunks: 131072it [00:00, 3365446.69it/s]\n",
      "Deconvolving chunks: 100%|███████████████████████| 1/1 [01:58<00:00, 118.96s/it]\n"
     ]
    },
    {
     "name": "stdout",
     "output_type": "stream",
     "text": [
      "Estimation for 0.22 and 0.24000000000000002 done\n",
      "It took: 119.10732507705688 seconds.\n",
      "[0.8573694043100131, 0.10679487801400164]\n"
     ]
    },
    {
     "name": "stderr",
     "output_type": "stream",
     "text": [
      "Initial filtering of formulas: 100%|██████████████| 2/2 [00:00<00:00, 61.82it/s]\n",
      "Computing chunks: 100%|████████████████████████| 2/2 [00:00<00:00, 76260.07it/s]\n",
      "Splitting the experimental spectrum into chunks: 131072it [00:00, 3368932.09it/s]\n",
      "Deconvolving chunks: 100%|███████████████████████| 1/1 [01:59<00:00, 119.21s/it]\n"
     ]
    },
    {
     "name": "stdout",
     "output_type": "stream",
     "text": [
      "Estimation for 0.22 and 0.25 done\n",
      "It took: 119.375492811203 seconds.\n",
      "[0.8573435959480131, 0.10655907644700163]\n"
     ]
    },
    {
     "name": "stderr",
     "output_type": "stream",
     "text": [
      "Initial filtering of formulas: 100%|██████████████| 2/2 [00:00<00:00, 61.42it/s]\n",
      "Computing chunks: 100%|████████████████████████| 2/2 [00:00<00:00, 57456.22it/s]\n",
      "Splitting the experimental spectrum into chunks: 131072it [00:00, 3429500.65it/s]\n",
      "Deconvolving chunks: 100%|███████████████████████| 1/1 [02:00<00:00, 120.50s/it]\n"
     ]
    },
    {
     "name": "stdout",
     "output_type": "stream",
     "text": [
      "Estimation for 0.22 and 0.26 done\n",
      "It took: 120.63786363601685 seconds.\n",
      "[0.8572341370520131, 0.10647628043700164]\n"
     ]
    },
    {
     "name": "stderr",
     "output_type": "stream",
     "text": [
      "Initial filtering of formulas: 100%|██████████████| 2/2 [00:00<00:00, 61.70it/s]\n",
      "Computing chunks: 100%|████████████████████████| 2/2 [00:00<00:00, 87381.33it/s]\n",
      "Splitting the experimental spectrum into chunks: 131072it [00:00, 3433077.18it/s]\n",
      "Deconvolving chunks: 100%|███████████████████████| 1/1 [02:01<00:00, 121.51s/it]\n"
     ]
    },
    {
     "name": "stdout",
     "output_type": "stream",
     "text": [
      "Estimation for 0.22 and 0.27 done\n",
      "It took: 121.64936852455139 seconds.\n",
      "[0.8564932039540131, 0.10650188557900164]\n"
     ]
    },
    {
     "name": "stderr",
     "output_type": "stream",
     "text": [
      "Initial filtering of formulas: 100%|██████████████| 2/2 [00:00<00:00, 62.30it/s]\n",
      "Computing chunks: 100%|████████████████████████| 2/2 [00:00<00:00, 87381.33it/s]\n",
      "Splitting the experimental spectrum into chunks: 131072it [00:00, 3422881.32it/s]\n",
      "Deconvolving chunks: 100%|███████████████████████| 1/1 [02:00<00:00, 120.34s/it]\n"
     ]
    },
    {
     "name": "stdout",
     "output_type": "stream",
     "text": [
      "Estimation for 0.22 and 0.28 done\n",
      "It took: 120.50169372558594 seconds.\n",
      "[0.8544785863160131, 0.10681238353200163]\n"
     ]
    },
    {
     "name": "stderr",
     "output_type": "stream",
     "text": [
      "Initial filtering of formulas: 100%|██████████████| 2/2 [00:00<00:00, 61.04it/s]\n",
      "Computing chunks: 100%|████████████████████████| 2/2 [00:00<00:00, 88301.14it/s]\n",
      "Splitting the experimental spectrum into chunks: 131072it [00:00, 3388033.17it/s]\n",
      "Deconvolving chunks: 100%|███████████████████████| 1/1 [02:02<00:00, 122.26s/it]\n"
     ]
    },
    {
     "name": "stdout",
     "output_type": "stream",
     "text": [
      "Estimation for 0.22 and 0.29000000000000004 done\n",
      "It took: 122.40729904174805 seconds.\n",
      "[0.8540683698440131, 0.10681753702400164]\n"
     ]
    },
    {
     "name": "stderr",
     "output_type": "stream",
     "text": [
      "Initial filtering of formulas: 100%|██████████████| 2/2 [00:00<00:00, 62.14it/s]\n",
      "Computing chunks: 100%|████████████████████████| 2/2 [00:00<00:00, 91180.52it/s]\n",
      "Splitting the experimental spectrum into chunks: 131072it [00:00, 3434406.89it/s]\n",
      "Deconvolving chunks: 100%|███████████████████████| 1/1 [01:42<00:00, 102.12s/it]\n"
     ]
    },
    {
     "name": "stdout",
     "output_type": "stream",
     "text": [
      "Estimation for 0.23 and 0.01 done\n",
      "It took: 102.26717209815979 seconds.\n",
      "[0.7371496771900113, 0.261823560078004]\n"
     ]
    },
    {
     "name": "stderr",
     "output_type": "stream",
     "text": [
      "Initial filtering of formulas: 100%|██████████████| 2/2 [00:00<00:00, 60.89it/s]\n",
      "Computing chunks: 100%|████████████████████████| 2/2 [00:00<00:00, 93206.76it/s]\n",
      "Splitting the experimental spectrum into chunks: 131072it [00:00, 3418177.95it/s]\n",
      "Deconvolving chunks: 100%|███████████████████████| 1/1 [01:54<00:00, 114.02s/it]\n"
     ]
    },
    {
     "name": "stdout",
     "output_type": "stream",
     "text": [
      "Estimation for 0.23 and 0.02 done\n",
      "It took: 114.164710521698 seconds.\n",
      "[0.8714114130920133, 0.11170500798200171]\n"
     ]
    },
    {
     "name": "stderr",
     "output_type": "stream",
     "text": [
      "Initial filtering of formulas: 100%|██████████████| 2/2 [00:00<00:00, 57.97it/s]\n",
      "Computing chunks: 100%|████████████████████████| 2/2 [00:00<00:00, 92182.51it/s]\n",
      "Splitting the experimental spectrum into chunks: 131072it [00:00, 3409232.67it/s]\n",
      "Deconvolving chunks: 100%|███████████████████████| 1/1 [02:15<00:00, 135.67s/it]\n"
     ]
    },
    {
     "name": "stdout",
     "output_type": "stream",
     "text": [
      "Estimation for 0.23 and 0.03 done\n",
      "It took: 135.81914401054382 seconds.\n",
      "[0.8746115017720134, 0.10316068185700158]\n"
     ]
    },
    {
     "name": "stderr",
     "output_type": "stream",
     "text": [
      "Initial filtering of formulas: 100%|██████████████| 2/2 [00:00<00:00, 62.35it/s]\n",
      "Computing chunks: 100%|████████████████████████| 2/2 [00:00<00:00, 68200.07it/s]\n",
      "Splitting the experimental spectrum into chunks: 131072it [00:00, 3302193.71it/s]\n",
      "Deconvolving chunks: 100%|███████████████████████| 1/1 [02:22<00:00, 142.10s/it]\n"
     ]
    },
    {
     "name": "stdout",
     "output_type": "stream",
     "text": [
      "Estimation for 0.23 and 0.04 done\n",
      "It took: 142.27063918113708 seconds.\n",
      "[0.8678149709440133, 0.10822346472700164]\n"
     ]
    },
    {
     "name": "stderr",
     "output_type": "stream",
     "text": [
      "Initial filtering of formulas: 100%|██████████████| 2/2 [00:00<00:00, 55.58it/s]\n",
      "Computing chunks: 100%|████████████████████████| 2/2 [00:00<00:00, 85598.04it/s]\n",
      "Splitting the experimental spectrum into chunks: 131072it [00:00, 2726936.31it/s]\n",
      "Deconvolving chunks: 100%|███████████████████████| 1/1 [02:23<00:00, 143.34s/it]\n"
     ]
    },
    {
     "name": "stdout",
     "output_type": "stream",
     "text": [
      "Estimation for 0.23 and 0.05 done\n",
      "It took: 143.5019702911377 seconds.\n",
      "[0.8665172736290133, 0.10881395205300166]\n"
     ]
    },
    {
     "name": "stderr",
     "output_type": "stream",
     "text": [
      "Initial filtering of formulas: 100%|██████████████| 2/2 [00:00<00:00, 61.97it/s]\n",
      "Computing chunks: 100%|████████████████████████| 2/2 [00:00<00:00, 89240.51it/s]\n",
      "Splitting the experimental spectrum into chunks: 131072it [00:00, 3494173.67it/s]\n",
      "Deconvolving chunks: 100%|███████████████████████| 1/1 [02:25<00:00, 145.73s/it]\n"
     ]
    },
    {
     "name": "stdout",
     "output_type": "stream",
     "text": [
      "Estimation for 0.23 and 0.060000000000000005 done\n",
      "It took: 145.87281894683838 seconds.\n",
      "[0.8659894686840133, 0.10874022409900166]\n"
     ]
    },
    {
     "name": "stderr",
     "output_type": "stream",
     "text": [
      "Initial filtering of formulas: 100%|██████████████| 2/2 [00:00<00:00, 62.64it/s]\n",
      "Computing chunks: 100%|████████████████████████| 2/2 [00:00<00:00, 93206.76it/s]\n",
      "Splitting the experimental spectrum into chunks: 131072it [00:00, 3421603.10it/s]\n",
      "Deconvolving chunks: 100%|███████████████████████| 1/1 [01:53<00:00, 113.25s/it]\n"
     ]
    },
    {
     "name": "stdout",
     "output_type": "stream",
     "text": [
      "Estimation for 0.23 and 0.06999999999999999 done\n",
      "It took: 113.39099097251892 seconds.\n",
      "[0.8659150776370133, 0.10832086323500166]\n"
     ]
    },
    {
     "name": "stderr",
     "output_type": "stream",
     "text": [
      "Initial filtering of formulas: 100%|██████████████| 2/2 [00:00<00:00, 63.94it/s]\n",
      "Computing chunks: 100%|████████████████████████| 2/2 [00:00<00:00, 99864.38it/s]\n",
      "Splitting the experimental spectrum into chunks: 131072it [00:00, 3504866.37it/s]\n",
      "Deconvolving chunks: 100%|███████████████████████| 1/1 [01:53<00:00, 113.72s/it]\n"
     ]
    },
    {
     "name": "stdout",
     "output_type": "stream",
     "text": [
      "Estimation for 0.23 and 0.08 done\n",
      "It took: 113.85417175292969 seconds.\n",
      "[0.8656650843600132, 0.10803546645700166]\n"
     ]
    },
    {
     "name": "stderr",
     "output_type": "stream",
     "text": [
      "Initial filtering of formulas: 100%|██████████████| 2/2 [00:00<00:00, 61.11it/s]\n",
      "Computing chunks: 100%|███████████████████████| 2/2 [00:00<00:00, 102300.10it/s]\n",
      "Splitting the experimental spectrum into chunks: 131072it [00:00, 3426508.11it/s]\n",
      "Deconvolving chunks: 100%|███████████████████████| 1/1 [02:16<00:00, 136.91s/it]\n"
     ]
    },
    {
     "name": "stdout",
     "output_type": "stream",
     "text": [
      "Estimation for 0.23 and 0.09 done\n",
      "It took: 137.07500863075256 seconds.\n",
      "[0.8651642706380133, 0.10798301797700165]\n"
     ]
    },
    {
     "name": "stderr",
     "output_type": "stream",
     "text": [
      "Initial filtering of formulas: 100%|██████████████| 2/2 [00:00<00:00, 63.84it/s]\n",
      "Computing chunks: 100%|████████████████████████| 2/2 [00:00<00:00, 99864.38it/s]\n",
      "Splitting the experimental spectrum into chunks: 131072it [00:00, 3514366.17it/s]\n",
      "Deconvolving chunks: 100%|███████████████████████| 1/1 [01:54<00:00, 114.01s/it]\n"
     ]
    },
    {
     "name": "stdout",
     "output_type": "stream",
     "text": [
      "Estimation for 0.23 and 0.09999999999999999 done\n",
      "It took: 114.15889549255371 seconds.\n",
      "[0.8647601223380132, 0.10777168757400166]\n"
     ]
    },
    {
     "name": "stderr",
     "output_type": "stream",
     "text": [
      "Initial filtering of formulas: 100%|██████████████| 2/2 [00:00<00:00, 63.62it/s]\n",
      "Computing chunks: 100%|████████████████████████| 2/2 [00:00<00:00, 73584.28it/s]\n",
      "Splitting the experimental spectrum into chunks: 131072it [00:00, 3445707.96it/s]\n",
      "Deconvolving chunks: 100%|███████████████████████| 1/1 [01:55<00:00, 115.21s/it]\n"
     ]
    },
    {
     "name": "stdout",
     "output_type": "stream",
     "text": [
      "Estimation for 0.23 and 0.11 done\n",
      "It took: 115.3739972114563 seconds.\n",
      "[0.8638640474490132, 0.10775859423800165]\n"
     ]
    },
    {
     "name": "stderr",
     "output_type": "stream",
     "text": [
      "Initial filtering of formulas: 100%|██████████████| 2/2 [00:00<00:00, 62.94it/s]\n",
      "Computing chunks: 100%|████████████████████████| 2/2 [00:00<00:00, 96420.78it/s]\n",
      "Splitting the experimental spectrum into chunks: 131072it [00:00, 3458453.79it/s]\n",
      "Deconvolving chunks: 100%|███████████████████████| 1/1 [01:56<00:00, 116.13s/it]\n"
     ]
    },
    {
     "name": "stdout",
     "output_type": "stream",
     "text": [
      "Estimation for 0.23 and 0.12 done\n",
      "It took: 116.27115774154663 seconds.\n",
      "[0.8633709579980132, 0.10754634226000165]\n"
     ]
    },
    {
     "name": "stderr",
     "output_type": "stream",
     "text": [
      "Initial filtering of formulas: 100%|██████████████| 2/2 [00:00<00:00, 61.41it/s]\n",
      "Computing chunks: 100%|███████████████████████| 2/2 [00:00<00:00, 106184.91it/s]\n",
      "Splitting the experimental spectrum into chunks: 131072it [00:00, 3454802.51it/s]\n",
      "Deconvolving chunks: 100%|███████████████████████| 1/1 [02:16<00:00, 136.39s/it]\n"
     ]
    },
    {
     "name": "stdout",
     "output_type": "stream",
     "text": [
      "Estimation for 0.23 and 0.13 done\n",
      "It took: 136.5352509021759 seconds.\n",
      "[0.8622180754840132, 0.10756528612000166]\n"
     ]
    },
    {
     "name": "stderr",
     "output_type": "stream",
     "text": [
      "Initial filtering of formulas: 100%|██████████████| 2/2 [00:00<00:00, 63.00it/s]\n",
      "Computing chunks: 100%|████████████████████████| 2/2 [00:00<00:00, 93206.76it/s]\n",
      "Splitting the experimental spectrum into chunks: 131072it [00:00, 3467856.44it/s]\n",
      "Deconvolving chunks: 100%|███████████████████████| 1/1 [01:53<00:00, 113.24s/it]\n"
     ]
    },
    {
     "name": "stdout",
     "output_type": "stream",
     "text": [
      "Estimation for 0.23 and 0.14 done\n",
      "It took: 113.38219356536865 seconds.\n",
      "[0.8619850638790132, 0.10727374659200163]\n"
     ]
    },
    {
     "name": "stderr",
     "output_type": "stream",
     "text": [
      "Initial filtering of formulas: 100%|██████████████| 2/2 [00:00<00:00, 62.70it/s]\n",
      "Computing chunks: 100%|███████████████████████| 2/2 [00:00<00:00, 108942.96it/s]\n",
      "Splitting the experimental spectrum into chunks: 131072it [00:00, 3447587.90it/s]\n",
      "Deconvolving chunks: 100%|███████████████████████| 1/1 [02:02<00:00, 122.44s/it]\n"
     ]
    },
    {
     "name": "stdout",
     "output_type": "stream",
     "text": [
      "Estimation for 0.23 and 0.15000000000000002 done\n",
      "It took: 122.58286786079407 seconds.\n",
      "[0.8620015785530132, 0.10727732980400163]\n"
     ]
    },
    {
     "name": "stderr",
     "output_type": "stream",
     "text": [
      "Initial filtering of formulas: 100%|██████████████| 2/2 [00:00<00:00, 62.97it/s]\n",
      "Computing chunks: 100%|████████████████████████| 2/2 [00:00<00:00, 99864.38it/s]\n",
      "Splitting the experimental spectrum into chunks: 131072it [00:00, 3438402.21it/s]\n",
      "Deconvolving chunks: 100%|███████████████████████| 1/1 [02:02<00:00, 122.32s/it]\n"
     ]
    },
    {
     "name": "stdout",
     "output_type": "stream",
     "text": [
      "Estimation for 0.23 and 0.16 done\n",
      "It took: 122.46391105651855 seconds.\n",
      "[0.8620438170040132, 0.10713198696300164]\n"
     ]
    },
    {
     "name": "stderr",
     "output_type": "stream",
     "text": [
      "Initial filtering of formulas: 100%|██████████████| 2/2 [00:00<00:00, 63.40it/s]\n",
      "Computing chunks: 100%|████████████████████████| 2/2 [00:00<00:00, 94254.02it/s]\n",
      "Splitting the experimental spectrum into chunks: 131072it [00:00, 3359195.23it/s]\n",
      "Deconvolving chunks: 100%|███████████████████████| 1/1 [02:29<00:00, 149.46s/it]\n"
     ]
    },
    {
     "name": "stdout",
     "output_type": "stream",
     "text": [
      "Estimation for 0.23 and 0.17 done\n",
      "It took: 149.59992384910583 seconds.\n",
      "[0.8613262690790132, 0.10701622189200163]\n"
     ]
    },
    {
     "name": "stderr",
     "output_type": "stream",
     "text": [
      "Initial filtering of formulas: 100%|██████████████| 2/2 [00:00<00:00, 61.88it/s]\n",
      "Computing chunks: 100%|████████████████████████| 2/2 [00:00<00:00, 95325.09it/s]\n",
      "Splitting the experimental spectrum into chunks: 131072it [00:00, 3417667.95it/s]\n",
      "Deconvolving chunks: 100%|███████████████████████| 1/1 [02:05<00:00, 125.40s/it]\n"
     ]
    },
    {
     "name": "stdout",
     "output_type": "stream",
     "text": [
      "Estimation for 0.23 and 0.18000000000000002 done\n",
      "It took: 125.5658049583435 seconds.\n",
      "[0.8609721799520133, 0.10696766491200163]\n"
     ]
    },
    {
     "name": "stderr",
     "output_type": "stream",
     "text": [
      "Initial filtering of formulas: 100%|██████████████| 2/2 [00:00<00:00, 62.22it/s]\n",
      "Computing chunks: 100%|████████████████████████| 2/2 [00:00<00:00, 98689.51it/s]\n",
      "Splitting the experimental spectrum into chunks: 131072it [00:00, 3412703.47it/s]\n",
      "Deconvolving chunks: 100%|███████████████████████| 1/1 [02:02<00:00, 122.35s/it]\n"
     ]
    },
    {
     "name": "stdout",
     "output_type": "stream",
     "text": [
      "Estimation for 0.23 and 0.19 done\n",
      "It took: 122.49426770210266 seconds.\n",
      "[0.8592778015620132, 0.10708598050700163]\n"
     ]
    },
    {
     "name": "stderr",
     "output_type": "stream",
     "text": [
      "Initial filtering of formulas: 100%|██████████████| 2/2 [00:00<00:00, 62.63it/s]\n",
      "Computing chunks: 100%|████████████████████████| 2/2 [00:00<00:00, 95325.09it/s]\n",
      "Splitting the experimental spectrum into chunks: 131072it [00:00, 3444628.47it/s]\n",
      "Deconvolving chunks: 100%|███████████████████████| 1/1 [02:01<00:00, 121.77s/it]\n"
     ]
    },
    {
     "name": "stdout",
     "output_type": "stream",
     "text": [
      "Estimation for 0.23 and 0.2 done\n",
      "It took: 121.90879893302917 seconds.\n",
      "[0.8589434915970132, 0.10696449487400164]\n"
     ]
    },
    {
     "name": "stderr",
     "output_type": "stream",
     "text": [
      "Initial filtering of formulas: 100%|██████████████| 2/2 [00:00<00:00, 61.13it/s]\n",
      "Computing chunks: 100%|████████████████████████| 2/2 [00:00<00:00, 45590.26it/s]\n",
      "Splitting the experimental spectrum into chunks: 131072it [00:00, 3422519.06it/s]\n",
      "Deconvolving chunks: 100%|███████████████████████| 1/1 [02:01<00:00, 121.28s/it]\n"
     ]
    },
    {
     "name": "stdout",
     "output_type": "stream",
     "text": [
      "Estimation for 0.23 and 0.21000000000000002 done\n",
      "It took: 121.44281792640686 seconds.\n",
      "[0.8587429458680133, 0.10693909368700164]\n"
     ]
    },
    {
     "name": "stderr",
     "output_type": "stream",
     "text": [
      "Initial filtering of formulas: 100%|██████████████| 2/2 [00:00<00:00, 61.72it/s]\n",
      "Computing chunks: 100%|████████████████████████| 2/2 [00:00<00:00, 96420.78it/s]\n",
      "Splitting the experimental spectrum into chunks: 131072it [00:00, 3478234.38it/s]\n",
      "Deconvolving chunks: 100%|███████████████████████| 1/1 [02:04<00:00, 124.40s/it]\n"
     ]
    },
    {
     "name": "stdout",
     "output_type": "stream",
     "text": [
      "Estimation for 0.23 and 0.22 done\n",
      "It took: 124.54023289680481 seconds.\n",
      "[0.8585670665730131, 0.10693637892000164]\n"
     ]
    },
    {
     "name": "stderr",
     "output_type": "stream",
     "text": [
      "Initial filtering of formulas: 100%|██████████████| 2/2 [00:00<00:00, 62.30it/s]\n",
      "Computing chunks: 100%|████████████████████████| 2/2 [00:00<00:00, 87381.33it/s]\n",
      "Splitting the experimental spectrum into chunks: 131072it [00:00, 3423051.82it/s]\n",
      "Deconvolving chunks: 100%|███████████████████████| 1/1 [02:08<00:00, 128.76s/it]\n"
     ]
    },
    {
     "name": "stdout",
     "output_type": "stream",
     "text": [
      "Estimation for 0.23 and 0.23 done\n",
      "It took: 128.91876792907715 seconds.\n",
      "[0.8584766489080131, 0.10690841817600163]\n"
     ]
    },
    {
     "name": "stderr",
     "output_type": "stream",
     "text": [
      "Initial filtering of formulas: 100%|██████████████| 2/2 [00:00<00:00, 60.42it/s]\n",
      "Computing chunks: 100%|████████████████████████| 2/2 [00:00<00:00, 99864.38it/s]\n",
      "Splitting the experimental spectrum into chunks: 131072it [00:00, 3426337.26it/s]\n",
      "Deconvolving chunks: 100%|███████████████████████| 1/1 [02:07<00:00, 127.61s/it]\n"
     ]
    },
    {
     "name": "stdout",
     "output_type": "stream",
     "text": [
      "Estimation for 0.23 and 0.24000000000000002 done\n",
      "It took: 127.74840641021729 seconds.\n",
      "[0.8583718250530131, 0.10681978997400164]\n"
     ]
    },
    {
     "name": "stderr",
     "output_type": "stream",
     "text": [
      "Initial filtering of formulas: 100%|██████████████| 2/2 [00:00<00:00, 61.91it/s]\n",
      "Computing chunks: 100%|████████████████████████| 2/2 [00:00<00:00, 62137.84it/s]\n",
      "Splitting the experimental spectrum into chunks: 131072it [00:00, 3421155.96it/s]\n",
      "Deconvolving chunks: 100%|███████████████████████| 1/1 [02:03<00:00, 123.09s/it]\n"
     ]
    },
    {
     "name": "stdout",
     "output_type": "stream",
     "text": [
      "Estimation for 0.23 and 0.25 done\n",
      "It took: 123.2588963508606 seconds.\n",
      "[0.8581517968820132, 0.10680228504100164]\n"
     ]
    },
    {
     "name": "stderr",
     "output_type": "stream",
     "text": [
      "Initial filtering of formulas: 100%|██████████████| 2/2 [00:00<00:00, 61.19it/s]\n",
      "Computing chunks: 100%|████████████████████████| 2/2 [00:00<00:00, 54120.05it/s]\n",
      "Splitting the experimental spectrum into chunks: 131072it [00:00, 3468228.36it/s]\n",
      "Deconvolving chunks: 100%|███████████████████████| 1/1 [02:06<00:00, 126.24s/it]\n"
     ]
    },
    {
     "name": "stdout",
     "output_type": "stream",
     "text": [
      "Estimation for 0.23 and 0.26 done\n",
      "It took: 126.39809727668762 seconds.\n",
      "[0.858194250747013, 0.10654232439000164]\n"
     ]
    },
    {
     "name": "stderr",
     "output_type": "stream",
     "text": [
      "Initial filtering of formulas: 100%|██████████████| 2/2 [00:00<00:00, 61.79it/s]\n",
      "Computing chunks: 100%|████████████████████████| 2/2 [00:00<00:00, 76260.07it/s]\n",
      "Splitting the experimental spectrum into chunks: 131072it [00:00, 3427148.93it/s]\n",
      "Deconvolving chunks: 100%|███████████████████████| 1/1 [02:06<00:00, 126.12s/it]\n"
     ]
    },
    {
     "name": "stdout",
     "output_type": "stream",
     "text": [
      "Estimation for 0.23 and 0.27 done\n",
      "It took: 126.26622819900513 seconds.\n",
      "[0.8580147457800131, 0.10647771027400164]\n"
     ]
    },
    {
     "name": "stderr",
     "output_type": "stream",
     "text": [
      "Initial filtering of formulas: 100%|██████████████| 2/2 [00:00<00:00, 57.89it/s]\n",
      "Computing chunks: 100%|████████████████████████| 2/2 [00:00<00:00, 64035.18it/s]\n",
      "Splitting the experimental spectrum into chunks: 131072it [00:00, 3031630.16it/s]\n",
      "Deconvolving chunks: 100%|███████████████████████| 1/1 [02:08<00:00, 128.44s/it]\n"
     ]
    },
    {
     "name": "stdout",
     "output_type": "stream",
     "text": [
      "Estimation for 0.23 and 0.28 done\n",
      "It took: 128.60516142845154 seconds.\n",
      "[0.8562296784980131, 0.10670721019800164]\n"
     ]
    },
    {
     "name": "stderr",
     "output_type": "stream",
     "text": [
      "Initial filtering of formulas: 100%|██████████████| 2/2 [00:00<00:00, 55.08it/s]\n",
      "Computing chunks: 100%|████████████████████████| 2/2 [00:00<00:00, 79891.50it/s]\n",
      "Splitting the experimental spectrum into chunks: 131072it [00:00, 3298844.97it/s]\n",
      "Deconvolving chunks: 100%|███████████████████████| 1/1 [02:08<00:00, 128.14s/it]\n"
     ]
    },
    {
     "name": "stdout",
     "output_type": "stream",
     "text": [
      "Estimation for 0.23 and 0.29000000000000004 done\n",
      "It took: 128.3164303302765 seconds.\n",
      "[0.8548568267480131, 0.10688317115200163]\n"
     ]
    },
    {
     "name": "stderr",
     "output_type": "stream",
     "text": [
      "Initial filtering of formulas: 100%|██████████████| 2/2 [00:00<00:00, 58.94it/s]\n",
      "Computing chunks: 100%|████████████████████████| 2/2 [00:00<00:00, 57456.22it/s]\n",
      "Splitting the experimental spectrum into chunks: 131072it [00:00, 2952660.26it/s]\n",
      "Deconvolving chunks: 100%|███████████████████████| 1/1 [01:46<00:00, 106.15s/it]\n"
     ]
    },
    {
     "name": "stdout",
     "output_type": "stream",
     "text": [
      "Estimation for 0.24000000000000002 and 0.01 done\n",
      "It took: 106.31179428100586 seconds.\n",
      "[0.7448801952610115, 0.25418590869900387]\n"
     ]
    },
    {
     "name": "stderr",
     "output_type": "stream",
     "text": [
      "Initial filtering of formulas: 100%|██████████████| 2/2 [00:00<00:00, 47.92it/s]\n",
      "Computing chunks: 100%|████████████████████████| 2/2 [00:00<00:00, 68759.08it/s]\n",
      "Splitting the experimental spectrum into chunks: 131072it [00:00, 2731339.47it/s]\n",
      "Deconvolving chunks: 100%|███████████████████████| 1/1 [02:55<00:00, 175.19s/it]\n"
     ]
    },
    {
     "name": "stdout",
     "output_type": "stream",
     "text": [
      "Estimation for 0.24000000000000002 and 0.02 done\n",
      "It took: 175.36430525779724 seconds.\n",
      "[0.8720236251300133, 0.11276633782800172]\n"
     ]
    },
    {
     "name": "stderr",
     "output_type": "stream",
     "text": [
      "Initial filtering of formulas: 100%|██████████████| 2/2 [00:00<00:00, 44.09it/s]\n",
      "Computing chunks: 100%|████████████████████████| 2/2 [00:00<00:00, 75573.05it/s]\n",
      "Splitting the experimental spectrum into chunks: 131072it [00:00, 2742361.94it/s]\n",
      "Deconvolving chunks: 100%|███████████████████████| 1/1 [02:19<00:00, 139.32s/it]\n"
     ]
    },
    {
     "name": "stdout",
     "output_type": "stream",
     "text": [
      "Estimation for 0.24000000000000002 and 0.03 done\n",
      "It took: 139.49341368675232 seconds.\n",
      "[0.8757298866140134, 0.10316530186300159]\n"
     ]
    },
    {
     "name": "stderr",
     "output_type": "stream",
     "text": [
      "Initial filtering of formulas: 100%|██████████████| 2/2 [00:00<00:00, 56.18it/s]\n",
      "Computing chunks: 100%|████████████████████████| 2/2 [00:00<00:00, 60787.01it/s]\n",
      "Splitting the experimental spectrum into chunks: 131072it [00:00, 3292108.69it/s]\n",
      "Deconvolving chunks: 100%|███████████████████████| 1/1 [02:36<00:00, 156.05s/it]\n"
     ]
    },
    {
     "name": "stdout",
     "output_type": "stream",
     "text": [
      "Estimation for 0.24000000000000002 and 0.04 done\n",
      "It took: 156.20848035812378 seconds.\n",
      "[0.8689961490740133, 0.10835417044900167]\n"
     ]
    },
    {
     "name": "stderr",
     "output_type": "stream",
     "text": [
      "Initial filtering of formulas: 100%|██████████████| 2/2 [00:00<00:00, 54.95it/s]\n",
      "Computing chunks: 100%|████████████████████████| 2/2 [00:00<00:00, 43919.41it/s]\n",
      "Splitting the experimental spectrum into chunks: 131072it [00:00, 3073046.99it/s]\n",
      "Deconvolving chunks: 100%|███████████████████████| 1/1 [02:39<00:00, 159.99s/it]\n"
     ]
    },
    {
     "name": "stdout",
     "output_type": "stream",
     "text": [
      "Estimation for 0.24000000000000002 and 0.05 done\n",
      "It took: 160.14838862419128 seconds.\n",
      "[0.8676787672410133, 0.10886661840800166]\n"
     ]
    },
    {
     "name": "stderr",
     "output_type": "stream",
     "text": [
      "Initial filtering of formulas: 100%|██████████████| 2/2 [00:00<00:00, 54.40it/s]\n",
      "Computing chunks: 100%|████████████████████████| 2/2 [00:00<00:00, 83886.08it/s]\n",
      "Splitting the experimental spectrum into chunks: 131072it [00:00, 3085724.79it/s]\n",
      "Deconvolving chunks: 100%|███████████████████████| 1/1 [01:56<00:00, 116.92s/it]\n"
     ]
    },
    {
     "name": "stdout",
     "output_type": "stream",
     "text": [
      "Estimation for 0.24000000000000002 and 0.060000000000000005 done\n",
      "It took: 117.07513976097107 seconds.\n",
      "[0.8670660113150134, 0.10884661849700167]\n"
     ]
    },
    {
     "name": "stderr",
     "output_type": "stream",
     "text": [
      "Initial filtering of formulas: 100%|██████████████| 2/2 [00:00<00:00, 56.45it/s]\n",
      "Computing chunks: 100%|████████████████████████| 2/2 [00:00<00:00, 86480.49it/s]\n",
      "Splitting the experimental spectrum into chunks: 131072it [00:00, 3235208.90it/s]\n",
      "Deconvolving chunks: 100%|███████████████████████| 1/1 [02:23<00:00, 143.00s/it]\n"
     ]
    },
    {
     "name": "stdout",
     "output_type": "stream",
     "text": [
      "Estimation for 0.24000000000000002 and 0.06999999999999999 done\n",
      "It took: 143.1571843624115 seconds.\n",
      "[0.8670471811380133, 0.10842184801400166]\n"
     ]
    },
    {
     "name": "stderr",
     "output_type": "stream",
     "text": [
      "Initial filtering of formulas: 100%|██████████████| 2/2 [00:00<00:00, 55.50it/s]\n",
      "Computing chunks: 100%|████████████████████████| 2/2 [00:00<00:00, 81442.80it/s]\n",
      "Splitting the experimental spectrum into chunks: 131072it [00:00, 2997757.85it/s]\n",
      "Deconvolving chunks: 100%|███████████████████████| 1/1 [01:57<00:00, 117.69s/it]\n"
     ]
    },
    {
     "name": "stdout",
     "output_type": "stream",
     "text": [
      "Estimation for 0.24000000000000002 and 0.08 done\n",
      "It took: 117.87931776046753 seconds.\n",
      "[0.8668770421760134, 0.10801877285400165]\n"
     ]
    },
    {
     "name": "stderr",
     "output_type": "stream",
     "text": [
      "Initial filtering of formulas: 100%|██████████████| 2/2 [00:00<00:00, 54.79it/s]\n",
      "Computing chunks: 100%|████████████████████████| 2/2 [00:00<00:00, 39945.75it/s]\n",
      "Splitting the experimental spectrum into chunks: 131072it [00:00, 3191745.46it/s]\n",
      "Deconvolving chunks: 100%|███████████████████████| 1/1 [02:29<00:00, 149.65s/it]\n"
     ]
    },
    {
     "name": "stdout",
     "output_type": "stream",
     "text": [
      "Estimation for 0.24000000000000002 and 0.09 done\n",
      "It took: 149.8089702129364 seconds.\n",
      "[0.8662569140860134, 0.10817008038200165]\n"
     ]
    },
    {
     "name": "stderr",
     "output_type": "stream",
     "text": [
      "Initial filtering of formulas: 100%|██████████████| 2/2 [00:00<00:00, 53.10it/s]\n",
      "Computing chunks: 100%|███████████████████████| 2/2 [00:00<00:00, 101067.57it/s]\n",
      "Splitting the experimental spectrum into chunks: 131072it [00:00, 3102196.85it/s]\n",
      "Deconvolving chunks: 100%|███████████████████████| 1/1 [02:25<00:00, 145.14s/it]\n"
     ]
    },
    {
     "name": "stdout",
     "output_type": "stream",
     "text": [
      "Estimation for 0.24000000000000002 and 0.09999999999999999 done\n",
      "It took: 145.30678987503052 seconds.\n",
      "[0.8657699608110132, 0.10808553509800164]\n"
     ]
    },
    {
     "name": "stderr",
     "output_type": "stream",
     "text": [
      "Initial filtering of formulas: 100%|██████████████| 2/2 [00:00<00:00, 49.59it/s]\n",
      "Computing chunks: 100%|█████████████████████████| 2/2 [00:00<00:00, 7674.85it/s]\n",
      "Splitting the experimental spectrum into chunks: 131072it [00:00, 3139416.69it/s]\n",
      "Deconvolving chunks: 100%|███████████████████████| 1/1 [02:29<00:00, 149.08s/it]\n"
     ]
    },
    {
     "name": "stdout",
     "output_type": "stream",
     "text": [
      "Estimation for 0.24000000000000002 and 0.11 done\n",
      "It took: 149.235445022583 seconds.\n",
      "[0.8651351780670132, 0.10799981689300166]\n"
     ]
    },
    {
     "name": "stderr",
     "output_type": "stream",
     "text": [
      "Initial filtering of formulas: 100%|██████████████| 2/2 [00:00<00:00, 63.30it/s]\n",
      "Computing chunks: 100%|████████████████████████| 2/2 [00:00<00:00, 86480.49it/s]\n",
      "Splitting the experimental spectrum into chunks: 131072it [00:00, 3451028.95it/s]\n",
      "Deconvolving chunks: 100%|███████████████████████| 1/1 [02:27<00:00, 147.36s/it]\n"
     ]
    },
    {
     "name": "stdout",
     "output_type": "stream",
     "text": [
      "Estimation for 0.24000000000000002 and 0.12 done\n",
      "It took: 147.52091097831726 seconds.\n",
      "[0.8645365611260132, 0.10785980115700165]\n"
     ]
    },
    {
     "name": "stderr",
     "output_type": "stream",
     "text": [
      "Initial filtering of formulas: 100%|██████████████| 2/2 [00:00<00:00, 63.29it/s]\n",
      "Computing chunks: 100%|████████████████████████| 2/2 [00:00<00:00, 69905.07it/s]\n",
      "Splitting the experimental spectrum into chunks: 131072it [00:00, 3421560.51it/s]\n",
      "Deconvolving chunks: 100%|███████████████████████| 1/1 [02:03<00:00, 123.22s/it]\n"
     ]
    },
    {
     "name": "stdout",
     "output_type": "stream",
     "text": [
      "Estimation for 0.24000000000000002 and 0.13 done\n",
      "It took: 123.36441254615784 seconds.\n",
      "[0.8639415042870132, 0.10769498043000165]\n"
     ]
    },
    {
     "name": "stderr",
     "output_type": "stream",
     "text": [
      "Initial filtering of formulas: 100%|██████████████| 2/2 [00:00<00:00, 61.61it/s]\n",
      "Computing chunks: 100%|████████████████████████| 2/2 [00:00<00:00, 59918.63it/s]\n",
      "Splitting the experimental spectrum into chunks: 131072it [00:00, 3381011.27it/s]\n",
      "Deconvolving chunks: 100%|███████████████████████| 1/1 [02:03<00:00, 123.18s/it]\n"
     ]
    },
    {
     "name": "stdout",
     "output_type": "stream",
     "text": [
      "Estimation for 0.24000000000000002 and 0.14 done\n",
      "It took: 123.3248279094696 seconds.\n",
      "[0.8634322133730132, 0.10763409599500165]\n"
     ]
    },
    {
     "name": "stderr",
     "output_type": "stream",
     "text": [
      "Initial filtering of formulas: 100%|██████████████| 2/2 [00:00<00:00, 62.40it/s]\n",
      "Computing chunks: 100%|███████████████████████| 2/2 [00:00<00:00, 101067.57it/s]\n",
      "Splitting the experimental spectrum into chunks: 131072it [00:00, 3445427.23it/s]\n",
      "Deconvolving chunks: 100%|███████████████████████| 1/1 [02:03<00:00, 123.94s/it]\n"
     ]
    },
    {
     "name": "stdout",
     "output_type": "stream",
     "text": [
      "Estimation for 0.24000000000000002 and 0.15000000000000002 done\n",
      "It took: 124.083003282547 seconds.\n",
      "[0.8635414237510132, 0.10736630297900165]\n"
     ]
    },
    {
     "name": "stderr",
     "output_type": "stream",
     "text": [
      "Initial filtering of formulas: 100%|██████████████| 2/2 [00:00<00:00, 61.93it/s]\n",
      "Computing chunks: 100%|███████████████████████| 2/2 [00:00<00:00, 103563.06it/s]\n",
      "Splitting the experimental spectrum into chunks: 131072it [00:00, 3473487.50it/s]\n",
      "Deconvolving chunks: 100%|███████████████████████| 1/1 [02:03<00:00, 123.38s/it]\n"
     ]
    },
    {
     "name": "stdout",
     "output_type": "stream",
     "text": [
      "Estimation for 0.24000000000000002 and 0.16 done\n",
      "It took: 123.54451036453247 seconds.\n",
      "[0.8635149805640132, 0.10736537666200165]\n"
     ]
    },
    {
     "name": "stderr",
     "output_type": "stream",
     "text": [
      "Initial filtering of formulas: 100%|██████████████| 2/2 [00:00<00:00, 59.14it/s]\n",
      "Computing chunks: 100%|████████████████████████| 2/2 [00:00<00:00, 26800.66it/s]\n",
      "Splitting the experimental spectrum into chunks: 131072it [00:00, 3357041.40it/s]\n",
      "Deconvolving chunks: 100%|███████████████████████| 1/1 [02:01<00:00, 121.71s/it]\n"
     ]
    },
    {
     "name": "stdout",
     "output_type": "stream",
     "text": [
      "Estimation for 0.24000000000000002 and 0.17 done\n",
      "It took: 121.85137248039246 seconds.\n",
      "[0.8625766789370132, 0.10718994169600164]\n"
     ]
    },
    {
     "name": "stderr",
     "output_type": "stream",
     "text": [
      "Initial filtering of formulas: 100%|██████████████| 2/2 [00:00<00:00, 63.58it/s]\n",
      "Computing chunks: 100%|████████████████████████| 2/2 [00:00<00:00, 72944.42it/s]\n",
      "Splitting the experimental spectrum into chunks: 131072it [00:00, 3473750.88it/s]\n",
      "Deconvolving chunks: 100%|███████████████████████| 1/1 [02:03<00:00, 123.36s/it]\n"
     ]
    },
    {
     "name": "stdout",
     "output_type": "stream",
     "text": [
      "Estimation for 0.24000000000000002 and 0.18000000000000002 done\n",
      "It took: 123.50409293174744 seconds.\n",
      "[0.8620972628870132, 0.10709652097300164]\n"
     ]
    },
    {
     "name": "stderr",
     "output_type": "stream",
     "text": [
      "Initial filtering of formulas: 100%|██████████████| 2/2 [00:00<00:00, 59.56it/s]\n",
      "Computing chunks: 100%|████████████████████████| 2/2 [00:00<00:00, 97541.95it/s]\n",
      "Splitting the experimental spectrum into chunks: 131072it [00:00, 3424203.14it/s]\n",
      "Deconvolving chunks: 100%|███████████████████████| 1/1 [02:04<00:00, 124.13s/it]\n"
     ]
    },
    {
     "name": "stdout",
     "output_type": "stream",
     "text": [
      "Estimation for 0.24000000000000002 and 0.19 done\n",
      "It took: 124.2703697681427 seconds.\n",
      "[0.8603545120960132, 0.10721078320600164]\n"
     ]
    },
    {
     "name": "stderr",
     "output_type": "stream",
     "text": [
      "Initial filtering of formulas: 100%|██████████████| 2/2 [00:00<00:00, 60.18it/s]\n",
      "Computing chunks: 100%|████████████████████████| 2/2 [00:00<00:00, 61680.94it/s]\n",
      "Splitting the experimental spectrum into chunks: 131072it [00:00, 3490003.45it/s]\n",
      "Deconvolving chunks: 100%|███████████████████████| 1/1 [02:01<00:00, 121.56s/it]\n"
     ]
    },
    {
     "name": "stdout",
     "output_type": "stream",
     "text": [
      "Estimation for 0.24000000000000002 and 0.2 done\n",
      "It took: 121.71808457374573 seconds.\n",
      "[0.8597974350970132, 0.10706730840900164]\n"
     ]
    },
    {
     "name": "stderr",
     "output_type": "stream",
     "text": [
      "Initial filtering of formulas: 100%|██████████████| 2/2 [00:00<00:00, 61.78it/s]\n",
      "Computing chunks: 100%|████████████████████████| 2/2 [00:00<00:00, 91180.52it/s]\n",
      "Splitting the experimental spectrum into chunks: 131072it [00:00, 3456105.65it/s]\n",
      "Deconvolving chunks: 100%|███████████████████████| 1/1 [02:05<00:00, 125.19s/it]\n"
     ]
    },
    {
     "name": "stdout",
     "output_type": "stream",
     "text": [
      "Estimation for 0.24000000000000002 and 0.21000000000000002 done\n",
      "It took: 125.33744215965271 seconds.\n",
      "[0.8596692869910132, 0.10696339742000163]\n"
     ]
    },
    {
     "name": "stderr",
     "output_type": "stream",
     "text": [
      "Initial filtering of formulas: 100%|██████████████| 2/2 [00:00<00:00, 56.71it/s]\n",
      "Computing chunks: 100%|████████████████████████| 2/2 [00:00<00:00, 83886.08it/s]\n",
      "Splitting the experimental spectrum into chunks: 131072it [00:00, 3152486.49it/s]\n",
      "Deconvolving chunks: 100%|███████████████████████| 1/1 [02:25<00:00, 145.31s/it]\n"
     ]
    },
    {
     "name": "stdout",
     "output_type": "stream",
     "text": [
      "Estimation for 0.24000000000000002 and 0.22 done\n",
      "It took: 145.48864936828613 seconds.\n",
      "[0.8595032786830132, 0.10694235902400163]\n"
     ]
    },
    {
     "name": "stderr",
     "output_type": "stream",
     "text": [
      "Initial filtering of formulas: 100%|██████████████| 2/2 [00:00<00:00, 56.29it/s]\n",
      "Computing chunks: 100%|████████████████████████| 2/2 [00:00<00:00, 87381.33it/s]\n",
      "Splitting the experimental spectrum into chunks: 131072it [00:00, 3215303.54it/s]\n",
      "Deconvolving chunks: 100%|███████████████████████| 1/1 [02:07<00:00, 127.77s/it]\n"
     ]
    },
    {
     "name": "stdout",
     "output_type": "stream",
     "text": [
      "Estimation for 0.24000000000000002 and 0.23 done\n",
      "It took: 127.95366096496582 seconds.\n",
      "[0.8594341350030132, 0.10687877938000163]\n"
     ]
    },
    {
     "name": "stderr",
     "output_type": "stream",
     "text": [
      "Initial filtering of formulas: 100%|██████████████| 2/2 [00:00<00:00, 53.43it/s]\n",
      "Computing chunks: 100%|████████████████████████| 2/2 [00:00<00:00, 67108.86it/s]\n",
      "Splitting the experimental spectrum into chunks: 131072it [00:00, 2738632.44it/s]\n",
      "Deconvolving chunks: 100%|███████████████████████| 1/1 [02:05<00:00, 125.52s/it]\n"
     ]
    },
    {
     "name": "stdout",
     "output_type": "stream",
     "text": [
      "Estimation for 0.24000000000000002 and 0.24000000000000002 done\n",
      "It took: 125.68470573425293 seconds.\n",
      "[0.8593018918550133, 0.10685136010600164]\n"
     ]
    },
    {
     "name": "stderr",
     "output_type": "stream",
     "text": [
      "Initial filtering of formulas: 100%|██████████████| 2/2 [00:00<00:00, 56.62it/s]\n",
      "Computing chunks: 100%|████████████████████████| 2/2 [00:00<00:00, 54120.05it/s]\n",
      "Splitting the experimental spectrum into chunks: 131072it [00:00, 3053028.64it/s]\n",
      "Deconvolving chunks: 100%|███████████████████████| 1/1 [02:02<00:00, 122.44s/it]\n"
     ]
    },
    {
     "name": "stdout",
     "output_type": "stream",
     "text": [
      "Estimation for 0.24000000000000002 and 0.25 done\n",
      "It took: 122.60179829597473 seconds.\n",
      "[0.8591472048770132, 0.10680674034400164]\n"
     ]
    },
    {
     "name": "stderr",
     "output_type": "stream",
     "text": [
      "Initial filtering of formulas: 100%|██████████████| 2/2 [00:00<00:00, 52.36it/s]\n",
      "Computing chunks: 100%|████████████████████████| 2/2 [00:00<00:00, 25266.89it/s]\n",
      "Splitting the experimental spectrum into chunks: 131072it [00:00, 3000735.86it/s]\n",
      "Deconvolving chunks: 100%|███████████████████████| 1/1 [02:30<00:00, 150.60s/it]\n"
     ]
    },
    {
     "name": "stdout",
     "output_type": "stream",
     "text": [
      "Estimation for 0.24000000000000002 and 0.26 done\n",
      "It took: 150.76896810531616 seconds.\n",
      "[0.8589804074700133, 0.10677333514300164]\n"
     ]
    },
    {
     "name": "stderr",
     "output_type": "stream",
     "text": [
      "Initial filtering of formulas: 100%|██████████████| 2/2 [00:00<00:00, 52.74it/s]\n",
      "Computing chunks: 100%|████████████████████████| 2/2 [00:00<00:00, 79137.81it/s]\n",
      "Splitting the experimental spectrum into chunks: 131072it [00:00, 3101514.29it/s]\n",
      "Deconvolving chunks: 100%|███████████████████████| 1/1 [02:07<00:00, 127.62s/it]\n"
     ]
    },
    {
     "name": "stdout",
     "output_type": "stream",
     "text": [
      "Estimation for 0.24000000000000002 and 0.27 done\n",
      "It took: 127.80872654914856 seconds.\n",
      "[0.8590025506270133, 0.10652423129400164]\n"
     ]
    },
    {
     "name": "stderr",
     "output_type": "stream",
     "text": [
      "Initial filtering of formulas: 100%|██████████████| 2/2 [00:00<00:00, 59.02it/s]\n",
      "Computing chunks: 100%|████████████████████████| 2/2 [00:00<00:00, 55553.70it/s]\n",
      "Splitting the experimental spectrum into chunks: 131072it [00:00, 2975948.06it/s]\n",
      "Deconvolving chunks: 100%|███████████████████████| 1/1 [02:06<00:00, 126.43s/it]\n"
     ]
    },
    {
     "name": "stdout",
     "output_type": "stream",
     "text": [
      "Estimation for 0.24000000000000002 and 0.28 done\n",
      "It took: 126.59284210205078 seconds.\n",
      "[0.8578114782750131, 0.10663002555800163]\n"
     ]
    },
    {
     "name": "stderr",
     "output_type": "stream",
     "text": [
      "Initial filtering of formulas: 100%|██████████████| 2/2 [00:00<00:00, 53.80it/s]\n",
      "Computing chunks: 100%|████████████████████████| 2/2 [00:00<00:00, 81442.80it/s]\n",
      "Splitting the experimental spectrum into chunks: 131072it [00:00, 2928485.59it/s]\n",
      "Deconvolving chunks: 100%|███████████████████████| 1/1 [02:08<00:00, 128.74s/it]\n"
     ]
    },
    {
     "name": "stdout",
     "output_type": "stream",
     "text": [
      "Estimation for 0.24000000000000002 and 0.29000000000000004 done\n",
      "It took: 128.90187072753906 seconds.\n",
      "[0.8557519338500131, 0.10689808239900164]\n"
     ]
    },
    {
     "name": "stderr",
     "output_type": "stream",
     "text": [
      "Initial filtering of formulas: 100%|██████████████| 2/2 [00:00<00:00, 50.49it/s]\n",
      "Computing chunks: 100%|████████████████████████| 2/2 [00:00<00:00, 27869.13it/s]\n",
      "Splitting the experimental spectrum into chunks: 131072it [00:00, 2919791.24it/s]\n",
      "Deconvolving chunks: 100%|███████████████████████| 1/1 [02:55<00:00, 175.95s/it]\n"
     ]
    },
    {
     "name": "stdout",
     "output_type": "stream",
     "text": [
      "Estimation for 0.25 and 0.01 done\n",
      "It took: 176.11149501800537 seconds.\n",
      "[0.7477844681140114, 0.25135080865900383]\n"
     ]
    },
    {
     "name": "stderr",
     "output_type": "stream",
     "text": [
      "Initial filtering of formulas: 100%|██████████████| 2/2 [00:00<00:00, 54.82it/s]\n",
      "Computing chunks: 100%|████████████████████████| 2/2 [00:00<00:00, 83055.52it/s]\n",
      "Splitting the experimental spectrum into chunks: 131072it [00:00, 3063781.79it/s]\n",
      "Deconvolving chunks: 100%|███████████████████████| 1/1 [02:00<00:00, 120.11s/it]\n"
     ]
    },
    {
     "name": "stdout",
     "output_type": "stream",
     "text": [
      "Estimation for 0.25 and 0.02 done\n",
      "It took: 120.26812744140625 seconds.\n",
      "[0.8697157120020134, 0.1166637781350018]\n"
     ]
    },
    {
     "name": "stderr",
     "output_type": "stream",
     "text": [
      "Initial filtering of formulas: 100%|██████████████| 2/2 [00:00<00:00, 56.48it/s]\n",
      "Computing chunks: 100%|████████████████████████| 2/2 [00:00<00:00, 37786.52it/s]\n",
      "Splitting the experimental spectrum into chunks: 131072it [00:00, 2951170.33it/s]\n",
      "Deconvolving chunks: 100%|███████████████████████| 1/1 [01:58<00:00, 118.31s/it]\n"
     ]
    },
    {
     "name": "stdout",
     "output_type": "stream",
     "text": [
      "Estimation for 0.25 and 0.03 done\n",
      "It took: 118.49722051620483 seconds.\n",
      "[0.8774047141100134, 0.10282743452800158]\n"
     ]
    },
    {
     "name": "stderr",
     "output_type": "stream",
     "text": [
      "Initial filtering of formulas: 100%|██████████████| 2/2 [00:00<00:00, 60.51it/s]\n",
      "Computing chunks: 100%|████████████████████████| 2/2 [00:00<00:00, 83055.52it/s]\n",
      "Splitting the experimental spectrum into chunks: 131072it [00:00, 3199733.51it/s]\n",
      "Deconvolving chunks: 100%|███████████████████████| 1/1 [02:18<00:00, 138.03s/it]\n"
     ]
    },
    {
     "name": "stdout",
     "output_type": "stream",
     "text": [
      "Estimation for 0.25 and 0.04 done\n",
      "It took: 138.206711769104 seconds.\n",
      "[0.8701641163370133, 0.10850486965000167]\n"
     ]
    },
    {
     "name": "stderr",
     "output_type": "stream",
     "text": [
      "Initial filtering of formulas: 100%|██████████████| 2/2 [00:00<00:00, 56.02it/s]\n",
      "Computing chunks: 100%|████████████████████████| 2/2 [00:00<00:00, 50840.05it/s]\n",
      "Splitting the experimental spectrum into chunks: 131072it [00:00, 3088967.01it/s]\n",
      "Deconvolving chunks: 100%|███████████████████████| 1/1 [02:17<00:00, 137.04s/it]\n"
     ]
    },
    {
     "name": "stdout",
     "output_type": "stream",
     "text": [
      "Estimation for 0.25 and 0.05 done\n",
      "It took: 137.22275304794312 seconds.\n",
      "[0.8688701276880133, 0.10889873533000166]\n"
     ]
    },
    {
     "name": "stderr",
     "output_type": "stream",
     "text": [
      "Initial filtering of formulas: 100%|██████████████| 2/2 [00:00<00:00, 58.04it/s]\n",
      "Computing chunks: 100%|████████████████████████| 2/2 [00:00<00:00, 92182.51it/s]\n",
      "Splitting the experimental spectrum into chunks: 131072it [00:00, 2993220.41it/s]\n",
      "Deconvolving chunks: 100%|███████████████████████| 1/1 [06:11<00:00, 371.05s/it]\n"
     ]
    },
    {
     "name": "stdout",
     "output_type": "stream",
     "text": [
      "Estimation for 0.25 and 0.060000000000000005 done\n",
      "It took: 371.2083933353424 seconds.\n",
      "[0.8681321043140133, 0.10892938651300167]\n"
     ]
    },
    {
     "name": "stderr",
     "output_type": "stream",
     "text": [
      "Initial filtering of formulas: 100%|██████████████| 2/2 [00:00<00:00, 57.46it/s]\n",
      "Computing chunks: 100%|████████████████████████| 2/2 [00:00<00:00, 51463.85it/s]\n",
      "Splitting the experimental spectrum into chunks: 131072it [00:00, 2227734.30it/s]\n",
      "Deconvolving chunks: 100%|███████████████████████| 1/1 [01:51<00:00, 111.46s/it]\n"
     ]
    },
    {
     "name": "stdout",
     "output_type": "stream",
     "text": [
      "Estimation for 0.25 and 0.06999999999999999 done\n",
      "It took: 111.64658427238464 seconds.\n",
      "[0.8682029895260133, 0.10852628437700167]\n"
     ]
    },
    {
     "name": "stderr",
     "output_type": "stream",
     "text": [
      "Initial filtering of formulas: 100%|██████████████| 2/2 [00:00<00:00, 64.08it/s]\n",
      "Computing chunks: 100%|████████████████████████| 2/2 [00:00<00:00, 90200.09it/s]\n",
      "Splitting the experimental spectrum into chunks: 131072it [00:00, 3531342.15it/s]\n",
      "Deconvolving chunks: 100%|███████████████████████| 1/1 [02:16<00:00, 136.06s/it]\n"
     ]
    },
    {
     "name": "stdout",
     "output_type": "stream",
     "text": [
      "Estimation for 0.25 and 0.08 done\n",
      "It took: 136.22187542915344 seconds.\n",
      "[0.8679832505960133, 0.10817997506400165]\n"
     ]
    },
    {
     "name": "stderr",
     "output_type": "stream",
     "text": [
      "Initial filtering of formulas: 100%|██████████████| 2/2 [00:00<00:00, 65.28it/s]\n",
      "Computing chunks: 100%|███████████████████████| 2/2 [00:00<00:00, 103563.06it/s]\n",
      "Splitting the experimental spectrum into chunks: 131072it [00:00, 3550041.09it/s]\n",
      "Deconvolving chunks: 100%|███████████████████████| 1/1 [01:57<00:00, 117.67s/it]\n"
     ]
    },
    {
     "name": "stdout",
     "output_type": "stream",
     "text": [
      "Estimation for 0.25 and 0.09 done\n",
      "It took: 117.8233540058136 seconds.\n",
      "[0.8675233968180133, 0.10813920801100164]\n"
     ]
    },
    {
     "name": "stderr",
     "output_type": "stream",
     "text": [
      "Initial filtering of formulas: 100%|██████████████| 2/2 [00:00<00:00, 61.05it/s]\n",
      "Computing chunks: 100%|████████████████████████| 2/2 [00:00<00:00, 49636.73it/s]\n",
      "Splitting the experimental spectrum into chunks: 131072it [00:00, 3331833.22it/s]\n",
      "Deconvolving chunks: 100%|███████████████████████| 1/1 [02:16<00:00, 136.25s/it]\n"
     ]
    },
    {
     "name": "stdout",
     "output_type": "stream",
     "text": [
      "Estimation for 0.25 and 0.09999999999999999 done\n",
      "It took: 136.39280152320862 seconds.\n",
      "[0.8669777676440134, 0.10829719028700166]\n"
     ]
    },
    {
     "name": "stderr",
     "output_type": "stream",
     "text": [
      "Initial filtering of formulas: 100%|██████████████| 2/2 [00:00<00:00, 63.63it/s]\n",
      "Computing chunks: 100%|████████████████████████| 2/2 [00:00<00:00, 99864.38it/s]\n",
      "Splitting the experimental spectrum into chunks: 131072it [00:00, 3491377.64it/s]\n",
      "Deconvolving chunks: 100%|███████████████████████| 1/1 [02:20<00:00, 140.60s/it]\n"
     ]
    },
    {
     "name": "stdout",
     "output_type": "stream",
     "text": [
      "Estimation for 0.25 and 0.11 done\n",
      "It took: 140.7562494277954 seconds.\n",
      "[0.8663296123330133, 0.10832067770800166]\n"
     ]
    },
    {
     "name": "stderr",
     "output_type": "stream",
     "text": [
      "Initial filtering of formulas: 100%|██████████████| 2/2 [00:00<00:00, 65.51it/s]\n",
      "Computing chunks: 100%|████████████████████████| 2/2 [00:00<00:00, 92182.51it/s]\n",
      "Splitting the experimental spectrum into chunks: 131072it [00:00, 3584039.47it/s]\n",
      "Deconvolving chunks: 100%|███████████████████████| 1/1 [01:44<00:00, 104.74s/it]\n"
     ]
    },
    {
     "name": "stdout",
     "output_type": "stream",
     "text": [
      "Estimation for 0.25 and 0.12 done\n",
      "It took: 104.87839460372925 seconds.\n",
      "[0.8660449974400133, 0.10803569893200166]\n"
     ]
    },
    {
     "name": "stderr",
     "output_type": "stream",
     "text": [
      "Initial filtering of formulas: 100%|██████████████| 2/2 [00:00<00:00, 64.52it/s]\n",
      "Computing chunks: 100%|████████████████████████| 2/2 [00:00<00:00, 95325.09it/s]\n",
      "Splitting the experimental spectrum into chunks: 131072it [00:00, 3505313.32it/s]\n",
      "Deconvolving chunks: 100%|███████████████████████| 1/1 [01:53<00:00, 113.30s/it]\n"
     ]
    },
    {
     "name": "stdout",
     "output_type": "stream",
     "text": [
      "Estimation for 0.25 and 0.13 done\n",
      "It took: 113.44158053398132 seconds.\n",
      "[0.8657511381250133, 0.10785730488900165]\n"
     ]
    },
    {
     "name": "stderr",
     "output_type": "stream",
     "text": [
      "Initial filtering of formulas: 100%|██████████████| 2/2 [00:00<00:00, 63.75it/s]\n",
      "Computing chunks: 100%|████████████████████████| 2/2 [00:00<00:00, 97541.95it/s]\n",
      "Splitting the experimental spectrum into chunks: 131072it [00:00, 3507684.05it/s]\n",
      "Deconvolving chunks: 100%|███████████████████████| 1/1 [02:11<00:00, 131.76s/it]\n"
     ]
    },
    {
     "name": "stdout",
     "output_type": "stream",
     "text": [
      "Estimation for 0.25 and 0.14 done\n",
      "It took: 131.89800691604614 seconds.\n",
      "[0.8649291399230132, 0.10791296267900165]\n"
     ]
    },
    {
     "name": "stderr",
     "output_type": "stream",
     "text": [
      "Initial filtering of formulas: 100%|██████████████| 2/2 [00:00<00:00, 61.63it/s]\n",
      "Computing chunks: 100%|████████████████████████| 2/2 [00:00<00:00, 89240.51it/s]\n",
      "Splitting the experimental spectrum into chunks: 131072it [00:00, 3318318.70it/s]\n",
      "Deconvolving chunks: 100%|███████████████████████| 1/1 [01:57<00:00, 117.99s/it]\n"
     ]
    },
    {
     "name": "stdout",
     "output_type": "stream",
     "text": [
      "Estimation for 0.25 and 0.15000000000000002 done\n",
      "It took: 118.162770986557 seconds.\n",
      "[0.8647625726910132, 0.10770486696900165]\n"
     ]
    },
    {
     "name": "stderr",
     "output_type": "stream",
     "text": [
      "Initial filtering of formulas: 100%|██████████████| 2/2 [00:00<00:00, 62.96it/s]\n",
      "Computing chunks: 100%|████████████████████████| 2/2 [00:00<00:00, 91180.52it/s]\n",
      "Splitting the experimental spectrum into chunks: 131072it [00:00, 3504754.65it/s]\n",
      "Deconvolving chunks: 100%|███████████████████████| 1/1 [01:58<00:00, 118.92s/it]\n"
     ]
    },
    {
     "name": "stdout",
     "output_type": "stream",
     "text": [
      "Estimation for 0.25 and 0.16 done\n",
      "It took: 119.06027340888977 seconds.\n",
      "[0.8648784347460132, 0.10742720857000165]\n"
     ]
    },
    {
     "name": "stderr",
     "output_type": "stream",
     "text": [
      "Initial filtering of formulas: 100%|██████████████| 2/2 [00:00<00:00, 63.83it/s]\n",
      "Computing chunks: 100%|████████████████████████| 2/2 [00:00<00:00, 96420.78it/s]\n",
      "Splitting the experimental spectrum into chunks: 131072it [00:00, 3507124.63it/s]\n",
      "Deconvolving chunks: 100%|███████████████████████| 1/1 [02:19<00:00, 139.57s/it]\n"
     ]
    },
    {
     "name": "stdout",
     "output_type": "stream",
     "text": [
      "Estimation for 0.25 and 0.17 done\n",
      "It took: 139.70995545387268 seconds.\n",
      "[0.8640322144980133, 0.10742850464300165]\n"
     ]
    },
    {
     "name": "stderr",
     "output_type": "stream",
     "text": [
      "Initial filtering of formulas: 100%|██████████████| 2/2 [00:00<00:00, 65.66it/s]\n",
      "Computing chunks: 100%|████████████████████████| 2/2 [00:00<00:00, 99864.38it/s]\n",
      "Splitting the experimental spectrum into chunks: 131072it [00:00, 3542514.97it/s]\n",
      "Deconvolving chunks: 100%|███████████████████████| 1/1 [01:57<00:00, 117.70s/it]\n"
     ]
    },
    {
     "name": "stdout",
     "output_type": "stream",
     "text": [
      "Estimation for 0.25 and 0.18000000000000002 done\n",
      "It took: 117.83614897727966 seconds.\n",
      "[0.8629016311070132, 0.10722486153500163]\n"
     ]
    },
    {
     "name": "stderr",
     "output_type": "stream",
     "text": [
      "Initial filtering of formulas: 100%|██████████████| 2/2 [00:00<00:00, 63.08it/s]\n",
      "Computing chunks: 100%|████████████████████████| 2/2 [00:00<00:00, 41120.63it/s]\n",
      "Splitting the experimental spectrum into chunks: 131072it [00:00, 3579722.05it/s]\n",
      "Deconvolving chunks: 100%|███████████████████████| 1/1 [01:55<00:00, 115.75s/it]\n"
     ]
    },
    {
     "name": "stdout",
     "output_type": "stream",
     "text": [
      "Estimation for 0.25 and 0.19 done\n",
      "It took: 115.88843274116516 seconds.\n",
      "[0.8623739542710133, 0.10710604743200164]\n"
     ]
    },
    {
     "name": "stderr",
     "output_type": "stream",
     "text": [
      "Initial filtering of formulas: 100%|██████████████| 2/2 [00:00<00:00, 64.75it/s]\n",
      "Computing chunks: 100%|███████████████████████| 2/2 [00:00<00:00, 102300.10it/s]\n",
      "Splitting the experimental spectrum into chunks: 131072it [00:00, 3553161.55it/s]\n",
      "Deconvolving chunks: 100%|███████████████████████| 1/1 [01:57<00:00, 117.27s/it]\n"
     ]
    },
    {
     "name": "stdout",
     "output_type": "stream",
     "text": [
      "Estimation for 0.25 and 0.2 done\n",
      "It took: 117.40863871574402 seconds.\n",
      "[0.8605250401380132, 0.10724812656900164]\n"
     ]
    },
    {
     "name": "stderr",
     "output_type": "stream",
     "text": [
      "Initial filtering of formulas: 100%|██████████████| 2/2 [00:00<00:00, 62.58it/s]\n",
      "Computing chunks: 100%|███████████████████████| 2/2 [00:00<00:00, 102300.10it/s]\n",
      "Splitting the experimental spectrum into chunks: 131072it [00:00, 3525725.59it/s]\n",
      "Deconvolving chunks: 100%|███████████████████████| 1/1 [01:55<00:00, 115.26s/it]\n"
     ]
    },
    {
     "name": "stdout",
     "output_type": "stream",
     "text": [
      "Estimation for 0.25 and 0.21000000000000002 done\n",
      "It took: 115.40455341339111 seconds.\n",
      "[0.8603758299940132, 0.10701994488100164]\n"
     ]
    },
    {
     "name": "stderr",
     "output_type": "stream",
     "text": [
      "Initial filtering of formulas: 100%|██████████████| 2/2 [00:00<00:00, 62.59it/s]\n",
      "Computing chunks: 100%|████████████████████████| 2/2 [00:00<00:00, 96420.78it/s]\n",
      "Splitting the experimental spectrum into chunks: 131072it [00:00, 3423392.87it/s]\n",
      "Deconvolving chunks: 100%|███████████████████████| 1/1 [01:57<00:00, 117.76s/it]\n"
     ]
    },
    {
     "name": "stdout",
     "output_type": "stream",
     "text": [
      "Estimation for 0.25 and 0.22 done\n",
      "It took: 117.89843130111694 seconds.\n",
      "[0.8602127300060132, 0.10696332912100164]\n"
     ]
    },
    {
     "name": "stderr",
     "output_type": "stream",
     "text": [
      "Initial filtering of formulas: 100%|██████████████| 2/2 [00:00<00:00, 62.17it/s]\n",
      "Computing chunks: 100%|████████████████████████| 2/2 [00:00<00:00, 93206.76it/s]\n",
      "Splitting the experimental spectrum into chunks: 131072it [00:00, 3502209.37it/s]\n",
      "Deconvolving chunks: 100%|███████████████████████| 1/1 [01:58<00:00, 118.41s/it]\n"
     ]
    },
    {
     "name": "stdout",
     "output_type": "stream",
     "text": [
      "Estimation for 0.25 and 0.23 done\n",
      "It took: 118.57248616218567 seconds.\n",
      "[0.8601265336790133, 0.10689118389600163]\n"
     ]
    },
    {
     "name": "stderr",
     "output_type": "stream",
     "text": [
      "Initial filtering of formulas: 100%|██████████████| 2/2 [00:00<00:00, 65.31it/s]\n",
      "Computing chunks: 100%|████████████████████████| 2/2 [00:00<00:00, 97541.95it/s]\n",
      "Splitting the experimental spectrum into chunks: 131072it [00:00, 3508266.04it/s]\n",
      "Deconvolving chunks: 100%|███████████████████████| 1/1 [02:03<00:00, 123.55s/it]\n"
     ]
    },
    {
     "name": "stdout",
     "output_type": "stream",
     "text": [
      "Estimation for 0.25 and 0.24000000000000002 done\n",
      "It took: 123.71031856536865 seconds.\n",
      "[0.8600380857830132, 0.10685050931500163]\n"
     ]
    },
    {
     "name": "stderr",
     "output_type": "stream",
     "text": [
      "Initial filtering of formulas: 100%|██████████████| 2/2 [00:00<00:00, 63.08it/s]\n",
      "Computing chunks: 100%|████████████████████████| 2/2 [00:00<00:00, 50231.19it/s]\n",
      "Splitting the experimental spectrum into chunks: 131072it [00:00, 3520171.95it/s]\n",
      "Deconvolving chunks: 100%|███████████████████████| 1/1 [02:02<00:00, 122.53s/it]\n"
     ]
    },
    {
     "name": "stdout",
     "output_type": "stream",
     "text": [
      "Estimation for 0.25 and 0.25 done\n",
      "It took: 122.67005777359009 seconds.\n",
      "[0.8598453038320132, 0.10684908078300163]\n"
     ]
    },
    {
     "name": "stderr",
     "output_type": "stream",
     "text": [
      "Initial filtering of formulas: 100%|██████████████| 2/2 [00:00<00:00, 62.79it/s]\n",
      "Computing chunks: 100%|████████████████████████| 2/2 [00:00<00:00, 95325.09it/s]\n",
      "Splitting the experimental spectrum into chunks: 131072it [00:00, 3511649.89it/s]\n",
      "Deconvolving chunks: 100%|███████████████████████| 1/1 [02:20<00:00, 140.17s/it]\n"
     ]
    },
    {
     "name": "stdout",
     "output_type": "stream",
     "text": [
      "Estimation for 0.25 and 0.26 done\n",
      "It took: 140.30968856811523 seconds.\n",
      "[0.8596376696550132, 0.10680603351800164]\n"
     ]
    },
    {
     "name": "stderr",
     "output_type": "stream",
     "text": [
      "Initial filtering of formulas: 100%|██████████████| 2/2 [00:00<00:00, 61.07it/s]\n",
      "Computing chunks: 100%|████████████████████████| 2/2 [00:00<00:00, 94254.02it/s]\n",
      "Splitting the experimental spectrum into chunks: 131072it [00:00, 3123381.87it/s]\n",
      "Deconvolving chunks: 100%|███████████████████████| 1/1 [02:03<00:00, 123.15s/it]\n"
     ]
    },
    {
     "name": "stdout",
     "output_type": "stream",
     "text": [
      "Estimation for 0.25 and 0.27 done\n",
      "It took: 123.29928922653198 seconds.\n",
      "[0.8595348530330132, 0.10674904806500164]\n"
     ]
    },
    {
     "name": "stderr",
     "output_type": "stream",
     "text": [
      "Initial filtering of formulas: 100%|██████████████| 2/2 [00:00<00:00, 67.10it/s]\n",
      "Computing chunks: 100%|████████████████████████| 2/2 [00:00<00:00, 58661.59it/s]\n",
      "Splitting the experimental spectrum into chunks: 131072it [00:00, 3506968.02it/s]\n",
      "Deconvolving chunks: 100%|███████████████████████| 1/1 [02:00<00:00, 120.74s/it]\n"
     ]
    },
    {
     "name": "stdout",
     "output_type": "stream",
     "text": [
      "Estimation for 0.25 and 0.28 done\n",
      "It took: 120.89630389213562 seconds.\n",
      "[0.8594305590440132, 0.10654025431600164]\n"
     ]
    },
    {
     "name": "stderr",
     "output_type": "stream",
     "text": [
      "Initial filtering of formulas: 100%|██████████████| 2/2 [00:00<00:00, 64.07it/s]\n",
      "Computing chunks: 100%|████████████████████████| 2/2 [00:00<00:00, 46091.25it/s]\n",
      "Splitting the experimental spectrum into chunks: 131072it [00:00, 3500269.41it/s]\n",
      "Deconvolving chunks: 100%|███████████████████████| 1/1 [02:16<00:00, 136.19s/it]\n"
     ]
    },
    {
     "name": "stdout",
     "output_type": "stream",
     "text": [
      "Estimation for 0.25 and 0.29000000000000004 done\n",
      "It took: 136.3295397758484 seconds.\n",
      "[0.8572018578450131, 0.10681031396600164]\n"
     ]
    },
    {
     "name": "stderr",
     "output_type": "stream",
     "text": [
      "Initial filtering of formulas: 100%|██████████████| 2/2 [00:00<00:00, 64.07it/s]\n",
      "Computing chunks: 100%|████████████████████████| 2/2 [00:00<00:00, 93206.76it/s]\n",
      "Splitting the experimental spectrum into chunks: 131072it [00:00, 3500269.41it/s]\n",
      "Deconvolving chunks: 100%|███████████████████████| 1/1 [03:57<00:00, 237.28s/it]\n"
     ]
    },
    {
     "name": "stdout",
     "output_type": "stream",
     "text": [
      "Estimation for 0.26 and 0.01 done\n",
      "It took: 237.44491410255432 seconds.\n",
      "[0.7549671099280115, 0.24424945945700374]\n"
     ]
    },
    {
     "name": "stderr",
     "output_type": "stream",
     "text": [
      "Initial filtering of formulas: 100%|██████████████| 2/2 [00:00<00:00, 65.09it/s]\n",
      "Computing chunks: 100%|████████████████████████| 2/2 [00:00<00:00, 84733.41it/s]\n",
      "Splitting the experimental spectrum into chunks: 131072it [00:00, 3515040.27it/s]\n",
      "Deconvolving chunks: 100%|███████████████████████| 1/1 [02:48<00:00, 168.16s/it]\n"
     ]
    },
    {
     "name": "stdout",
     "output_type": "stream",
     "text": [
      "Estimation for 0.26 and 0.02 done\n",
      "It took: 168.29638671875 seconds.\n",
      "[0.8667581137730134, 0.12085119330700185]\n"
     ]
    },
    {
     "name": "stderr",
     "output_type": "stream",
     "text": [
      "Initial filtering of formulas: 100%|██████████████| 2/2 [00:00<00:00, 64.53it/s]\n",
      "Computing chunks: 100%|████████████████████████| 2/2 [00:00<00:00, 93206.76it/s]\n",
      "Splitting the experimental spectrum into chunks: 131072it [00:00, 3507505.02it/s]\n",
      "Deconvolving chunks: 100%|███████████████████████| 1/1 [01:50<00:00, 110.35s/it]\n"
     ]
    },
    {
     "name": "stdout",
     "output_type": "stream",
     "text": [
      "Estimation for 0.26 and 0.03 done\n",
      "It took: 110.49371910095215 seconds.\n",
      "[0.8793055207430134, 0.10227307665600156]\n"
     ]
    },
    {
     "name": "stderr",
     "output_type": "stream",
     "text": [
      "Initial filtering of formulas: 100%|██████████████| 2/2 [00:00<00:00, 61.61it/s]\n",
      "Computing chunks: 100%|████████████████████████| 2/2 [00:00<00:00, 43240.25it/s]\n",
      "Splitting the experimental spectrum into chunks: 131072it [00:00, 3339199.66it/s]\n",
      "Deconvolving chunks: 100%|███████████████████████| 1/1 [02:10<00:00, 130.97s/it]\n"
     ]
    },
    {
     "name": "stdout",
     "output_type": "stream",
     "text": [
      "Estimation for 0.26 and 0.04 done\n",
      "It took: 131.10991287231445 seconds.\n",
      "[0.8712112341390134, 0.10876530353900167]\n"
     ]
    },
    {
     "name": "stderr",
     "output_type": "stream",
     "text": [
      "Initial filtering of formulas: 100%|██████████████| 2/2 [00:00<00:00, 60.70it/s]\n",
      "Computing chunks: 100%|████████████████████████| 2/2 [00:00<00:00, 92182.51it/s]\n",
      "Splitting the experimental spectrum into chunks: 131072it [00:00, 3479665.39it/s]\n",
      "Deconvolving chunks: 100%|███████████████████████| 1/1 [01:50<00:00, 110.34s/it]\n"
     ]
    },
    {
     "name": "stdout",
     "output_type": "stream",
     "text": [
      "Estimation for 0.26 and 0.05 done\n",
      "It took: 110.48406529426575 seconds.\n",
      "[0.8701549260290133, 0.10890762008800167]\n"
     ]
    },
    {
     "name": "stderr",
     "output_type": "stream",
     "text": [
      "Initial filtering of formulas: 100%|██████████████| 2/2 [00:00<00:00, 50.95it/s]\n",
      "Computing chunks: 100%|████████████████████████| 2/2 [00:00<00:00, 93206.76it/s]\n",
      "Splitting the experimental spectrum into chunks: 131072it [00:00, 3439413.25it/s]\n",
      "Deconvolving chunks: 100%|███████████████████████| 1/1 [02:14<00:00, 134.98s/it]\n"
     ]
    },
    {
     "name": "stdout",
     "output_type": "stream",
     "text": [
      "Estimation for 0.26 and 0.060000000000000005 done\n",
      "It took: 135.1497039794922 seconds.\n",
      "[0.8692887398530134, 0.10899163163000167]\n"
     ]
    },
    {
     "name": "stderr",
     "output_type": "stream",
     "text": [
      "Initial filtering of formulas: 100%|██████████████| 2/2 [00:00<00:00, 63.79it/s]\n",
      "Computing chunks: 100%|████████████████████████| 2/2 [00:00<00:00, 89240.51it/s]\n",
      "Splitting the experimental spectrum into chunks: 131072it [00:00, 3516614.20it/s]\n",
      "Deconvolving chunks: 100%|███████████████████████| 1/1 [02:21<00:00, 141.32s/it]\n"
     ]
    },
    {
     "name": "stdout",
     "output_type": "stream",
     "text": [
      "Estimation for 0.26 and 0.06999999999999999 done\n",
      "It took: 141.459792137146 seconds.\n",
      "[0.8694147008130133, 0.10860984717900167]\n"
     ]
    },
    {
     "name": "stderr",
     "output_type": "stream",
     "text": [
      "Initial filtering of formulas: 100%|██████████████| 2/2 [00:00<00:00, 64.47it/s]\n",
      "Computing chunks: 100%|████████████████████████| 2/2 [00:00<00:00, 86480.49it/s]\n",
      "Splitting the experimental spectrum into chunks: 131072it [00:00, 3445923.94it/s]\n",
      "Deconvolving chunks: 100%|███████████████████████| 1/1 [02:22<00:00, 142.63s/it]\n"
     ]
    },
    {
     "name": "stdout",
     "output_type": "stream",
     "text": [
      "Estimation for 0.26 and 0.08 done\n",
      "It took: 142.77296662330627 seconds.\n",
      "[0.8691516387780133, 0.10831692436100167]\n"
     ]
    },
    {
     "name": "stderr",
     "output_type": "stream",
     "text": [
      "Initial filtering of formulas: 100%|██████████████| 2/2 [00:00<00:00, 64.24it/s]\n",
      "Computing chunks: 100%|████████████████████████| 2/2 [00:00<00:00, 83055.52it/s]\n",
      "Splitting the experimental spectrum into chunks: 131072it [00:00, 3537181.44it/s]\n",
      "Deconvolving chunks: 100%|███████████████████████| 1/1 [02:12<00:00, 132.66s/it]\n"
     ]
    },
    {
     "name": "stdout",
     "output_type": "stream",
     "text": [
      "Estimation for 0.26 and 0.09 done\n",
      "It took: 132.7945864200592 seconds.\n",
      "[0.8687176530670133, 0.10829153439000166]\n"
     ]
    },
    {
     "name": "stderr",
     "output_type": "stream",
     "text": [
      "Initial filtering of formulas: 100%|██████████████| 2/2 [00:00<00:00, 64.25it/s]\n",
      "Computing chunks: 100%|████████████████████████| 2/2 [00:00<00:00, 94254.02it/s]\n",
      "Splitting the experimental spectrum into chunks: 131072it [00:00, 3466260.29it/s]\n",
      "Deconvolving chunks: 100%|███████████████████████| 1/1 [01:42<00:00, 102.48s/it]\n"
     ]
    },
    {
     "name": "stdout",
     "output_type": "stream",
     "text": [
      "Estimation for 0.26 and 0.09999999999999999 done\n",
      "It took: 102.61827635765076 seconds.\n",
      "[0.8682126365280133, 0.10838437934700167]\n"
     ]
    },
    {
     "name": "stderr",
     "output_type": "stream",
     "text": [
      "Initial filtering of formulas: 100%|██████████████| 2/2 [00:00<00:00, 63.92it/s]\n",
      "Computing chunks: 100%|████████████████████████| 2/2 [00:00<00:00, 91180.52it/s]\n",
      "Splitting the experimental spectrum into chunks: 131072it [00:00, 3522969.16it/s]\n",
      "Deconvolving chunks: 100%|███████████████████████| 1/1 [01:56<00:00, 116.86s/it]\n"
     ]
    },
    {
     "name": "stdout",
     "output_type": "stream",
     "text": [
      "Estimation for 0.26 and 0.11 done\n",
      "It took: 117.00153875350952 seconds.\n",
      "[0.8677094933340134, 0.10854518519600166]\n"
     ]
    },
    {
     "name": "stderr",
     "output_type": "stream",
     "text": [
      "Initial filtering of formulas: 100%|██████████████| 2/2 [00:00<00:00, 64.02it/s]\n",
      "Computing chunks: 100%|████████████████████████| 2/2 [00:00<00:00, 54120.05it/s]\n",
      "Splitting the experimental spectrum into chunks: 131072it [00:00, 3492641.95it/s]\n",
      "Deconvolving chunks: 100%|███████████████████████| 1/1 [01:54<00:00, 114.48s/it]\n"
     ]
    },
    {
     "name": "stdout",
     "output_type": "stream",
     "text": [
      "Estimation for 0.26 and 0.12 done\n",
      "It took: 114.64555716514587 seconds.\n",
      "[0.8673751814460133, 0.10835127697000166]\n"
     ]
    },
    {
     "name": "stderr",
     "output_type": "stream",
     "text": [
      "Initial filtering of formulas: 100%|██████████████| 2/2 [00:00<00:00, 64.82it/s]\n",
      "Computing chunks: 100%|████████████████████████| 2/2 [00:00<00:00, 15087.42it/s]\n",
      "Splitting the experimental spectrum into chunks: 131072it [00:00, 3485180.23it/s]\n",
      "Deconvolving chunks: 100%|███████████████████████| 1/1 [02:18<00:00, 138.31s/it]\n"
     ]
    },
    {
     "name": "stdout",
     "output_type": "stream",
     "text": [
      "Estimation for 0.26 and 0.13 done\n",
      "It took: 138.44968056678772 seconds.\n",
      "[0.8669869751160133, 0.10815449061500165]\n"
     ]
    },
    {
     "name": "stderr",
     "output_type": "stream",
     "text": [
      "Initial filtering of formulas: 100%|██████████████| 2/2 [00:00<00:00, 64.70it/s]\n",
      "Computing chunks: 100%|████████████████████████| 2/2 [00:00<00:00, 61230.72it/s]\n",
      "Splitting the experimental spectrum into chunks: 131072it [00:00, 3539116.98it/s]\n",
      "Deconvolving chunks: 100%|███████████████████████| 1/1 [01:57<00:00, 117.52s/it]\n"
     ]
    },
    {
     "name": "stdout",
     "output_type": "stream",
     "text": [
      "Estimation for 0.26 and 0.14 done\n",
      "It took: 117.68254661560059 seconds.\n",
      "[0.8663471524720133, 0.10802444582900166]\n"
     ]
    },
    {
     "name": "stderr",
     "output_type": "stream",
     "text": [
      "Initial filtering of formulas: 100%|██████████████| 2/2 [00:00<00:00, 63.33it/s]\n",
      "Computing chunks: 100%|████████████████████████| 2/2 [00:00<00:00, 15335.66it/s]\n",
      "Splitting the experimental spectrum into chunks: 131072it [00:00, 3471579.22it/s]\n",
      "Deconvolving chunks: 100%|███████████████████████| 1/1 [01:55<00:00, 115.19s/it]\n"
     ]
    },
    {
     "name": "stdout",
     "output_type": "stream",
     "text": [
      "Estimation for 0.26 and 0.15000000000000002 done\n",
      "It took: 115.32819724082947 seconds.\n",
      "[0.8658306680290132, 0.10801950620700165]\n"
     ]
    },
    {
     "name": "stderr",
     "output_type": "stream",
     "text": [
      "Initial filtering of formulas: 100%|██████████████| 2/2 [00:00<00:00, 63.60it/s]\n",
      "Computing chunks: 100%|████████████████████████| 2/2 [00:00<00:00, 58661.59it/s]\n",
      "Splitting the experimental spectrum into chunks: 131072it [00:00, 3517829.33it/s]\n",
      "Deconvolving chunks: 100%|███████████████████████| 1/1 [02:13<00:00, 133.32s/it]\n"
     ]
    },
    {
     "name": "stdout",
     "output_type": "stream",
     "text": [
      "Estimation for 0.26 and 0.16 done\n",
      "It took: 133.46891713142395 seconds.\n",
      "[0.8655476106140132, 0.10773400000600165]\n"
     ]
    },
    {
     "name": "stderr",
     "output_type": "stream",
     "text": [
      "Initial filtering of formulas: 100%|██████████████| 2/2 [00:00<00:00, 62.40it/s]\n",
      "Computing chunks: 100%|████████████████████████| 2/2 [00:00<00:00, 94254.02it/s]\n",
      "Splitting the experimental spectrum into chunks: 131072it [00:00, 3485688.47it/s]\n",
      "Deconvolving chunks: 100%|███████████████████████| 1/1 [01:56<00:00, 116.25s/it]\n"
     ]
    },
    {
     "name": "stdout",
     "output_type": "stream",
     "text": [
      "Estimation for 0.26 and 0.17 done\n",
      "It took: 116.41090631484985 seconds.\n",
      "[0.8653388515730132, 0.10741410194900165]\n"
     ]
    },
    {
     "name": "stderr",
     "output_type": "stream",
     "text": [
      "Initial filtering of formulas: 100%|██████████████| 2/2 [00:00<00:00, 63.60it/s]\n",
      "Computing chunks: 100%|████████████████████████| 2/2 [00:00<00:00, 92182.51it/s]\n",
      "Splitting the experimental spectrum into chunks: 131072it [00:00, 3503213.64it/s]\n",
      "Deconvolving chunks: 100%|███████████████████████| 1/1 [02:15<00:00, 135.58s/it]\n"
     ]
    },
    {
     "name": "stdout",
     "output_type": "stream",
     "text": [
      "Estimation for 0.26 and 0.18000000000000002 done\n",
      "It took: 135.72121691703796 seconds.\n",
      "[0.8636122349120132, 0.10752761604700165]\n"
     ]
    },
    {
     "name": "stderr",
     "output_type": "stream",
     "text": [
      "Initial filtering of formulas: 100%|██████████████| 2/2 [00:00<00:00, 63.93it/s]\n",
      "Computing chunks: 100%|████████████████████████| 2/2 [00:00<00:00, 88301.14it/s]\n",
      "Splitting the experimental spectrum into chunks: 131072it [00:00, 3503258.29it/s]\n",
      "Deconvolving chunks: 100%|███████████████████████| 1/1 [01:55<00:00, 115.36s/it]\n"
     ]
    },
    {
     "name": "stdout",
     "output_type": "stream",
     "text": [
      "Estimation for 0.26 and 0.19 done\n",
      "It took: 115.50353455543518 seconds.\n",
      "[0.8631317807850132, 0.10725642835600163]\n"
     ]
    },
    {
     "name": "stderr",
     "output_type": "stream",
     "text": [
      "Initial filtering of formulas: 100%|██████████████| 2/2 [00:00<00:00, 63.20it/s]\n",
      "Computing chunks: 100%|████████████████████████| 2/2 [00:00<00:00, 90200.09it/s]\n",
      "Splitting the experimental spectrum into chunks: 131072it [00:00, 3449166.90it/s]\n",
      "Deconvolving chunks: 100%|███████████████████████| 1/1 [01:55<00:00, 115.61s/it]\n"
     ]
    },
    {
     "name": "stdout",
     "output_type": "stream",
     "text": [
      "Estimation for 0.26 and 0.2 done\n",
      "It took: 115.74869155883789 seconds.\n",
      "[0.8614383053370133, 0.10730325576000163]\n"
     ]
    },
    {
     "name": "stderr",
     "output_type": "stream",
     "text": [
      "Initial filtering of formulas: 100%|██████████████| 2/2 [00:00<00:00, 64.09it/s]\n",
      "Computing chunks: 100%|████████████████████████| 2/2 [00:00<00:00, 40920.04it/s]\n",
      "Splitting the experimental spectrum into chunks: 131072it [00:00, 3614151.51it/s]\n",
      "Deconvolving chunks: 100%|███████████████████████| 1/1 [01:56<00:00, 116.07s/it]\n"
     ]
    },
    {
     "name": "stdout",
     "output_type": "stream",
     "text": [
      "Estimation for 0.26 and 0.21000000000000002 done\n",
      "It took: 116.20753979682922 seconds.\n",
      "[0.8609066676490132, 0.10726797849200163]\n"
     ]
    },
    {
     "name": "stderr",
     "output_type": "stream",
     "text": [
      "Initial filtering of formulas: 100%|██████████████| 2/2 [00:00<00:00, 62.96it/s]\n",
      "Computing chunks: 100%|████████████████████████| 2/2 [00:00<00:00, 83055.52it/s]\n",
      "Splitting the experimental spectrum into chunks: 131072it [00:00, 3491022.90it/s]\n",
      "Deconvolving chunks: 100%|███████████████████████| 1/1 [01:56<00:00, 116.35s/it]\n"
     ]
    },
    {
     "name": "stdout",
     "output_type": "stream",
     "text": [
      "Estimation for 0.26 and 0.22 done\n",
      "It took: 116.48882794380188 seconds.\n",
      "[0.8609178711890132, 0.10703225999600163]\n"
     ]
    },
    {
     "name": "stderr",
     "output_type": "stream",
     "text": [
      "Initial filtering of formulas: 100%|██████████████| 2/2 [00:00<00:00, 64.75it/s]\n",
      "Computing chunks: 100%|████████████████████████| 2/2 [00:00<00:00, 90200.09it/s]\n",
      "Splitting the experimental spectrum into chunks: 131072it [00:00, 3507147.00it/s]\n",
      "Deconvolving chunks: 100%|███████████████████████| 1/1 [01:55<00:00, 115.62s/it]\n"
     ]
    },
    {
     "name": "stdout",
     "output_type": "stream",
     "text": [
      "Estimation for 0.26 and 0.23 done\n",
      "It took: 115.76235222816467 seconds.\n",
      "[0.8608548466600132, 0.10689860964600163]\n"
     ]
    },
    {
     "name": "stderr",
     "output_type": "stream",
     "text": [
      "Initial filtering of formulas: 100%|██████████████| 2/2 [00:00<00:00, 64.93it/s]\n",
      "Computing chunks: 100%|████████████████████████| 2/2 [00:00<00:00, 15827.56it/s]\n",
      "Splitting the experimental spectrum into chunks: 131072it [00:00, 3502499.44it/s]\n",
      "Deconvolving chunks: 100%|███████████████████████| 1/1 [01:58<00:00, 118.34s/it]\n"
     ]
    },
    {
     "name": "stdout",
     "output_type": "stream",
     "text": [
      "Estimation for 0.26 and 0.24000000000000002 done\n",
      "It took: 118.50460863113403 seconds.\n",
      "[0.8607385230700132, 0.10687597784300164]\n"
     ]
    },
    {
     "name": "stderr",
     "output_type": "stream",
     "text": [
      "Initial filtering of formulas: 100%|██████████████| 2/2 [00:00<00:00, 63.36it/s]\n",
      "Computing chunks: 100%|████████████████████████| 2/2 [00:00<00:00, 85598.04it/s]\n",
      "Splitting the experimental spectrum into chunks: 131072it [00:00, 3490136.39it/s]\n",
      "Deconvolving chunks: 100%|███████████████████████| 1/1 [02:03<00:00, 123.16s/it]\n"
     ]
    },
    {
     "name": "stdout",
     "output_type": "stream",
     "text": [
      "Estimation for 0.26 and 0.25 done\n",
      "It took: 123.3267605304718 seconds.\n",
      "[0.8605972199820132, 0.10684539979800163]\n"
     ]
    },
    {
     "name": "stderr",
     "output_type": "stream",
     "text": [
      "Initial filtering of formulas: 100%|██████████████| 2/2 [00:00<00:00, 65.42it/s]\n",
      "Computing chunks: 100%|████████████████████████| 2/2 [00:00<00:00, 93206.76it/s]\n",
      "Splitting the experimental spectrum into chunks: 131072it [00:00, 3526924.40it/s]\n",
      "Deconvolving chunks: 100%|███████████████████████| 1/1 [02:18<00:00, 138.89s/it]\n"
     ]
    },
    {
     "name": "stdout",
     "output_type": "stream",
     "text": [
      "Estimation for 0.26 and 0.26 done\n",
      "It took: 139.03191232681274 seconds.\n",
      "[0.8604250842930132, 0.10683969875300164]\n"
     ]
    },
    {
     "name": "stderr",
     "output_type": "stream",
     "text": [
      "Initial filtering of formulas: 100%|██████████████| 2/2 [00:00<00:00, 64.14it/s]\n",
      "Computing chunks: 100%|████████████████████████| 2/2 [00:00<00:00, 93206.76it/s]\n",
      "Splitting the experimental spectrum into chunks: 131072it [00:00, 3604530.70it/s]\n",
      "Deconvolving chunks: 100%|███████████████████████| 1/1 [01:54<00:00, 114.54s/it]\n"
     ]
    },
    {
     "name": "stdout",
     "output_type": "stream",
     "text": [
      "Estimation for 0.26 and 0.27 done\n",
      "It took: 114.68084836006165 seconds.\n",
      "[0.8602897478950132, 0.10677561528400163]\n"
     ]
    },
    {
     "name": "stderr",
     "output_type": "stream",
     "text": [
      "Initial filtering of formulas: 100%|██████████████| 2/2 [00:00<00:00, 63.81it/s]\n",
      "Computing chunks: 100%|████████████████████████| 2/2 [00:00<00:00, 93206.76it/s]\n",
      "Splitting the experimental spectrum into chunks: 131072it [00:00, 3488431.12it/s]\n",
      "Deconvolving chunks: 100%|███████████████████████| 1/1 [02:13<00:00, 133.49s/it]\n"
     ]
    },
    {
     "name": "stdout",
     "output_type": "stream",
     "text": [
      "Estimation for 0.26 and 0.28 done\n",
      "It took: 133.63212251663208 seconds.\n",
      "[0.8601676862870132, 0.10671606894900164]\n"
     ]
    },
    {
     "name": "stderr",
     "output_type": "stream",
     "text": [
      "Initial filtering of formulas: 100%|██████████████| 2/2 [00:00<00:00, 56.22it/s]\n",
      "Computing chunks: 100%|████████████████████████| 2/2 [00:00<00:00, 98689.51it/s]\n",
      "Splitting the experimental spectrum into chunks: 131072it [00:00, 3615149.69it/s]\n",
      "Deconvolving chunks: 100%|███████████████████████| 1/1 [01:59<00:00, 119.08s/it]\n"
     ]
    },
    {
     "name": "stdout",
     "output_type": "stream",
     "text": [
      "Estimation for 0.26 and 0.29000000000000004 done\n",
      "It took: 119.22698020935059 seconds.\n",
      "[0.8587242334800133, 0.10675205842200164]\n"
     ]
    },
    {
     "name": "stderr",
     "output_type": "stream",
     "text": [
      "Initial filtering of formulas: 100%|██████████████| 2/2 [00:00<00:00, 64.41it/s]\n",
      "Computing chunks: 100%|████████████████████████| 2/2 [00:00<00:00, 94254.02it/s]\n",
      "Splitting the experimental spectrum into chunks: 131072it [00:00, 3489804.06it/s]\n",
      "Deconvolving chunks: 100%|███████████████████████| 1/1 [01:55<00:00, 115.50s/it]\n"
     ]
    },
    {
     "name": "stdout",
     "output_type": "stream",
     "text": [
      "Estimation for 0.27 and 0.01 done\n",
      "It took: 115.6560583114624 seconds.\n",
      "[0.7621006869470116, 0.23717022004500363]\n"
     ]
    },
    {
     "name": "stderr",
     "output_type": "stream",
     "text": [
      "Initial filtering of formulas: 100%|██████████████| 2/2 [00:00<00:00, 63.93it/s]\n",
      "Computing chunks: 100%|████████████████████████| 2/2 [00:00<00:00, 80659.69it/s]\n",
      "Splitting the experimental spectrum into chunks: 131072it [00:00, 3538433.60it/s]\n",
      "Deconvolving chunks: 100%|███████████████████████| 1/1 [02:14<00:00, 134.44s/it]\n"
     ]
    },
    {
     "name": "stdout",
     "output_type": "stream",
     "text": [
      "Estimation for 0.27 and 0.02 done\n",
      "It took: 134.57464575767517 seconds.\n",
      "[0.8627038346150132, 0.12572110732200192]\n"
     ]
    },
    {
     "name": "stderr",
     "output_type": "stream",
     "text": [
      "Initial filtering of formulas: 100%|██████████████| 2/2 [00:00<00:00, 63.62it/s]\n",
      "Computing chunks: 100%|████████████████████████| 2/2 [00:00<00:00, 75573.05it/s]\n",
      "Splitting the experimental spectrum into chunks: 131072it [00:00, 3480304.21it/s]\n",
      "Deconvolving chunks: 100%|███████████████████████| 1/1 [02:26<00:00, 146.88s/it]\n"
     ]
    },
    {
     "name": "stdout",
     "output_type": "stream",
     "text": [
      "Estimation for 0.27 and 0.03 done\n",
      "It took: 147.01867413520813 seconds.\n",
      "[0.8812723605060135, 0.10162633481500155]\n"
     ]
    },
    {
     "name": "stderr",
     "output_type": "stream",
     "text": [
      "Initial filtering of formulas: 100%|██████████████| 2/2 [00:00<00:00, 63.84it/s]\n",
      "Computing chunks: 100%|████████████████████████| 2/2 [00:00<00:00, 90200.09it/s]\n",
      "Splitting the experimental spectrum into chunks: 131072it [00:00, 3482552.98it/s]\n",
      "Deconvolving chunks: 100%|███████████████████████| 1/1 [02:13<00:00, 133.11s/it]\n"
     ]
    },
    {
     "name": "stdout",
     "output_type": "stream",
     "text": [
      "Estimation for 0.27 and 0.04 done\n",
      "It took: 133.2509536743164 seconds.\n",
      "[0.8723323503090133, 0.10894674311000166]\n"
     ]
    },
    {
     "name": "stderr",
     "output_type": "stream",
     "text": [
      "Initial filtering of formulas: 100%|██████████████| 2/2 [00:00<00:00, 61.79it/s]\n",
      "Computing chunks: 100%|████████████████████████| 2/2 [00:00<00:00, 92182.51it/s]\n",
      "Splitting the experimental spectrum into chunks: 131072it [00:00, 3471316.17it/s]\n",
      "Deconvolving chunks: 100%|███████████████████████| 1/1 [02:19<00:00, 139.28s/it]\n"
     ]
    },
    {
     "name": "stdout",
     "output_type": "stream",
     "text": [
      "Estimation for 0.27 and 0.05 done\n",
      "It took: 139.4260184764862 seconds.\n",
      "[0.8713944605430133, 0.10896829744400166]\n"
     ]
    },
    {
     "name": "stderr",
     "output_type": "stream",
     "text": [
      "Initial filtering of formulas: 100%|██████████████| 2/2 [00:00<00:00, 64.59it/s]\n",
      "Computing chunks: 100%|████████████████████████| 2/2 [00:00<00:00, 98689.51it/s]\n",
      "Splitting the experimental spectrum into chunks: 131072it [00:00, 3525612.54it/s]\n",
      "Deconvolving chunks: 100%|███████████████████████| 1/1 [02:15<00:00, 135.13s/it]\n"
     ]
    },
    {
     "name": "stdout",
     "output_type": "stream",
     "text": [
      "Estimation for 0.27 and 0.060000000000000005 done\n",
      "It took: 135.26984548568726 seconds.\n",
      "[0.8703119173670133, 0.10906485692600167]\n"
     ]
    },
    {
     "name": "stderr",
     "output_type": "stream",
     "text": [
      "Initial filtering of formulas: 100%|██████████████| 2/2 [00:00<00:00, 62.73it/s]\n",
      "Computing chunks: 100%|████████████████████████| 2/2 [00:00<00:00, 92182.51it/s]\n",
      "Splitting the experimental spectrum into chunks: 131072it [00:00, 3482376.50it/s]\n",
      "Deconvolving chunks: 100%|███████████████████████| 1/1 [01:48<00:00, 108.56s/it]\n"
     ]
    },
    {
     "name": "stdout",
     "output_type": "stream",
     "text": [
      "Estimation for 0.27 and 0.06999999999999999 done\n",
      "It took: 108.70101428031921 seconds.\n",
      "[0.8705088926410133, 0.10870166064800167]\n"
     ]
    },
    {
     "name": "stderr",
     "output_type": "stream",
     "text": [
      "Initial filtering of formulas: 100%|██████████████| 2/2 [00:00<00:00, 63.75it/s]\n",
      "Computing chunks: 100%|████████████████████████| 2/2 [00:00<00:00, 95325.09it/s]\n",
      "Splitting the experimental spectrum into chunks: 131072it [00:00, 3491311.12it/s]\n",
      "Deconvolving chunks: 100%|███████████████████████| 1/1 [01:48<00:00, 108.78s/it]\n"
     ]
    },
    {
     "name": "stdout",
     "output_type": "stream",
     "text": [
      "Estimation for 0.27 and 0.08 done\n",
      "It took: 108.92254614830017 seconds.\n",
      "[0.8704585005630133, 0.10840220174600167]\n"
     ]
    },
    {
     "name": "stderr",
     "output_type": "stream",
     "text": [
      "Initial filtering of formulas: 100%|██████████████| 2/2 [00:00<00:00, 63.55it/s]\n",
      "Computing chunks: 100%|████████████████████████| 2/2 [00:00<00:00, 93206.76it/s]\n",
      "Splitting the experimental spectrum into chunks: 131072it [00:00, 3477684.31it/s]\n",
      "Deconvolving chunks: 100%|███████████████████████| 1/1 [02:12<00:00, 132.79s/it]\n"
     ]
    },
    {
     "name": "stdout",
     "output_type": "stream",
     "text": [
      "Estimation for 0.27 and 0.09 done\n",
      "It took: 132.93225622177124 seconds.\n",
      "[0.8700179151520133, 0.10841347369500166]\n"
     ]
    },
    {
     "name": "stderr",
     "output_type": "stream",
     "text": [
      "Initial filtering of formulas: 100%|██████████████| 2/2 [00:00<00:00, 64.91it/s]\n",
      "Computing chunks: 100%|████████████████████████| 2/2 [00:00<00:00, 64527.75it/s]\n",
      "Splitting the experimental spectrum into chunks: 131072it [00:00, 2955708.20it/s]\n",
      "Deconvolving chunks: 100%|███████████████████████| 1/1 [02:12<00:00, 132.13s/it]\n"
     ]
    },
    {
     "name": "stdout",
     "output_type": "stream",
     "text": [
      "Estimation for 0.27 and 0.09999999999999999 done\n",
      "It took: 132.27919626235962 seconds.\n",
      "[0.8695385951340133, 0.10848775711300167]\n"
     ]
    },
    {
     "name": "stderr",
     "output_type": "stream",
     "text": [
      "Initial filtering of formulas: 100%|██████████████| 2/2 [00:00<00:00, 64.61it/s]\n",
      "Computing chunks: 100%|████████████████████████| 2/2 [00:00<00:00, 96420.78it/s]\n",
      "Splitting the experimental spectrum into chunks: 131072it [00:00, 3513422.85it/s]\n",
      "Deconvolving chunks: 100%|███████████████████████| 1/1 [02:10<00:00, 130.75s/it]\n"
     ]
    },
    {
     "name": "stdout",
     "output_type": "stream",
     "text": [
      "Estimation for 0.27 and 0.11 done\n",
      "It took: 130.88607549667358 seconds.\n",
      "[0.8691278000910133, 0.10865696529400166]\n"
     ]
    },
    {
     "name": "stderr",
     "output_type": "stream",
     "text": [
      "Initial filtering of formulas: 100%|██████████████| 2/2 [00:00<00:00, 64.07it/s]\n",
      "Computing chunks: 100%|████████████████████████| 2/2 [00:00<00:00, 78398.21it/s]\n",
      "Splitting the experimental spectrum into chunks: 131072it [00:00, 3532703.68it/s]\n",
      "Deconvolving chunks: 100%|███████████████████████| 1/1 [02:16<00:00, 136.97s/it]\n"
     ]
    },
    {
     "name": "stdout",
     "output_type": "stream",
     "text": [
      "Estimation for 0.27 and 0.12 done\n",
      "It took: 137.1136908531189 seconds.\n",
      "[0.8685406780570133, 0.10869335597500167]\n"
     ]
    },
    {
     "name": "stderr",
     "output_type": "stream",
     "text": [
      "Initial filtering of formulas: 100%|██████████████| 2/2 [00:00<00:00, 63.57it/s]\n",
      "Computing chunks: 100%|████████████████████████| 2/2 [00:00<00:00, 87381.33it/s]\n",
      "Splitting the experimental spectrum into chunks: 131072it [00:00, 3486417.95it/s]\n",
      "Deconvolving chunks: 100%|███████████████████████| 1/1 [01:53<00:00, 113.93s/it]\n"
     ]
    },
    {
     "name": "stdout",
     "output_type": "stream",
     "text": [
      "Estimation for 0.27 and 0.13 done\n",
      "It took: 114.07038235664368 seconds.\n",
      "[0.8682676582070133, 0.10842067095700167]\n"
     ]
    },
    {
     "name": "stderr",
     "output_type": "stream",
     "text": [
      "Initial filtering of formulas: 100%|██████████████| 2/2 [00:00<00:00, 51.49it/s]\n",
      "Computing chunks: 100%|████████████████████████| 2/2 [00:00<00:00, 40920.04it/s]\n",
      "Splitting the experimental spectrum into chunks: 131072it [00:00, 3470702.55it/s]\n",
      "Deconvolving chunks: 100%|███████████████████████| 1/1 [02:12<00:00, 132.14s/it]\n"
     ]
    },
    {
     "name": "stdout",
     "output_type": "stream",
     "text": [
      "Estimation for 0.27 and 0.14 done\n",
      "It took: 132.29605841636658 seconds.\n",
      "[0.8676003191940134, 0.10826380467500167]\n"
     ]
    },
    {
     "name": "stderr",
     "output_type": "stream",
     "text": [
      "Initial filtering of formulas: 100%|██████████████| 2/2 [00:00<00:00, 63.43it/s]\n",
      "Computing chunks: 100%|████████████████████████| 2/2 [00:00<00:00, 15505.74it/s]\n",
      "Splitting the experimental spectrum into chunks: 131072it [00:00, 3502655.64it/s]\n",
      "Deconvolving chunks: 100%|███████████████████████| 1/1 [01:53<00:00, 113.27s/it]\n"
     ]
    },
    {
     "name": "stdout",
     "output_type": "stream",
     "text": [
      "Estimation for 0.27 and 0.15000000000000002 done\n",
      "It took: 113.4290599822998 seconds.\n",
      "[0.8667839339290133, 0.10805616451100165]\n"
     ]
    },
    {
     "name": "stderr",
     "output_type": "stream",
     "text": [
      "Initial filtering of formulas: 100%|██████████████| 2/2 [00:00<00:00, 55.06it/s]\n",
      "Computing chunks: 100%|████████████████████████| 2/2 [00:00<00:00, 83055.52it/s]\n",
      "Splitting the experimental spectrum into chunks: 131072it [00:00, 2879478.60it/s]\n",
      "Deconvolving chunks: 100%|███████████████████████| 1/1 [01:54<00:00, 114.24s/it]\n"
     ]
    },
    {
     "name": "stdout",
     "output_type": "stream",
     "text": [
      "Estimation for 0.27 and 0.16 done\n",
      "It took: 114.40031099319458 seconds.\n",
      "[0.8661963879700133, 0.10802103384300166]\n"
     ]
    },
    {
     "name": "stderr",
     "output_type": "stream",
     "text": [
      "Initial filtering of formulas: 100%|██████████████| 2/2 [00:00<00:00, 63.49it/s]\n",
      "Computing chunks: 100%|████████████████████████| 2/2 [00:00<00:00, 76959.71it/s]\n",
      "Splitting the experimental spectrum into chunks: 131072it [00:00, 3472916.99it/s]\n",
      "Deconvolving chunks: 100%|███████████████████████| 1/1 [01:55<00:00, 115.16s/it]\n"
     ]
    },
    {
     "name": "stdout",
     "output_type": "stream",
     "text": [
      "Estimation for 0.27 and 0.17 done\n",
      "It took: 115.29667353630066 seconds.\n",
      "[0.8660612420610133, 0.10767039542100165]\n"
     ]
    },
    {
     "name": "stderr",
     "output_type": "stream",
     "text": [
      "Initial filtering of formulas: 100%|██████████████| 2/2 [00:00<00:00, 63.84it/s]\n",
      "Computing chunks: 100%|████████████████████████| 2/2 [00:00<00:00, 96420.78it/s]\n",
      "Splitting the experimental spectrum into chunks: 131072it [00:00, 3541328.36it/s]\n",
      "Deconvolving chunks: 100%|███████████████████████| 1/1 [01:54<00:00, 114.38s/it]\n"
     ]
    },
    {
     "name": "stdout",
     "output_type": "stream",
     "text": [
      "Estimation for 0.27 and 0.18000000000000002 done\n",
      "It took: 114.52240252494812 seconds.\n",
      "[0.8649287109940133, 0.10753868072100164]\n"
     ]
    },
    {
     "name": "stderr",
     "output_type": "stream",
     "text": [
      "Initial filtering of formulas: 100%|██████████████| 2/2 [00:00<00:00, 63.43it/s]\n",
      "Computing chunks: 100%|████████████████████████| 2/2 [00:00<00:00, 83886.08it/s]\n",
      "Splitting the experimental spectrum into chunks: 131072it [00:00, 3526155.26it/s]\n",
      "Deconvolving chunks: 100%|███████████████████████| 1/1 [01:57<00:00, 117.36s/it]\n"
     ]
    },
    {
     "name": "stdout",
     "output_type": "stream",
     "text": [
      "Estimation for 0.27 and 0.19 done\n",
      "It took: 117.49563884735107 seconds.\n",
      "[0.8638182274950132, 0.10745071641100165]\n"
     ]
    },
    {
     "name": "stderr",
     "output_type": "stream",
     "text": [
      "Initial filtering of formulas: 100%|██████████████| 2/2 [00:00<00:00, 63.17it/s]\n",
      "Computing chunks: 100%|████████████████████████| 2/2 [00:00<00:00, 86480.49it/s]\n",
      "Splitting the experimental spectrum into chunks: 131072it [00:00, 3511515.31it/s]\n",
      "Deconvolving chunks: 100%|███████████████████████| 1/1 [01:55<00:00, 115.87s/it]\n"
     ]
    },
    {
     "name": "stdout",
     "output_type": "stream",
     "text": [
      "Estimation for 0.27 and 0.2 done\n",
      "It took: 116.00624895095825 seconds.\n",
      "[0.8632771164910132, 0.10732508077900164]\n"
     ]
    },
    {
     "name": "stderr",
     "output_type": "stream",
     "text": [
      "Initial filtering of formulas: 100%|██████████████| 2/2 [00:00<00:00, 64.33it/s]\n",
      "Computing chunks: 100%|████████████████████████| 2/2 [00:00<00:00, 93206.76it/s]\n",
      "Splitting the experimental spectrum into chunks: 131072it [00:00, 3500559.15it/s]\n",
      "Deconvolving chunks: 100%|███████████████████████| 1/1 [01:54<00:00, 114.30s/it]\n"
     ]
    },
    {
     "name": "stdout",
     "output_type": "stream",
     "text": [
      "Estimation for 0.27 and 0.21000000000000002 done\n",
      "It took: 114.46250295639038 seconds.\n",
      "[0.8615356510020132, 0.10735151780700165]\n"
     ]
    },
    {
     "name": "stderr",
     "output_type": "stream",
     "text": [
      "Initial filtering of formulas: 100%|██████████████| 2/2 [00:00<00:00, 63.81it/s]\n",
      "Computing chunks: 100%|████████████████████████| 2/2 [00:00<00:00, 91180.52it/s]\n",
      "Splitting the experimental spectrum into chunks: 131072it [00:00, 3462810.62it/s]\n",
      "Deconvolving chunks: 100%|███████████████████████| 1/1 [01:55<00:00, 115.49s/it]\n"
     ]
    },
    {
     "name": "stdout",
     "output_type": "stream",
     "text": [
      "Estimation for 0.27 and 0.22 done\n",
      "It took: 115.62616515159607 seconds.\n",
      "[0.8615265951780132, 0.10720622299900164]\n"
     ]
    },
    {
     "name": "stderr",
     "output_type": "stream",
     "text": [
      "Initial filtering of formulas: 100%|██████████████| 2/2 [00:00<00:00, 63.71it/s]\n",
      "Computing chunks: 100%|████████████████████████| 2/2 [00:00<00:00, 95325.09it/s]\n",
      "Splitting the experimental spectrum into chunks: 131072it [00:00, 3469563.55it/s]\n",
      "Deconvolving chunks: 100%|███████████████████████| 1/1 [01:57<00:00, 117.77s/it]\n"
     ]
    },
    {
     "name": "stdout",
     "output_type": "stream",
     "text": [
      "Estimation for 0.27 and 0.23 done\n",
      "It took: 117.90639233589172 seconds.\n",
      "[0.8615231712580133, 0.10700635832400164]\n"
     ]
    },
    {
     "name": "stderr",
     "output_type": "stream",
     "text": [
      "Initial filtering of formulas: 100%|██████████████| 2/2 [00:00<00:00, 63.54it/s]\n",
      "Computing chunks: 100%|████████████████████████| 2/2 [00:00<00:00, 92182.51it/s]\n",
      "Splitting the experimental spectrum into chunks: 131072it [00:00, 3473904.53it/s]\n",
      "Deconvolving chunks: 100%|███████████████████████| 1/1 [01:57<00:00, 117.91s/it]\n"
     ]
    },
    {
     "name": "stdout",
     "output_type": "stream",
     "text": [
      "Estimation for 0.27 and 0.24000000000000002 done\n",
      "It took: 118.05395674705505 seconds.\n",
      "[0.8614482330950132, 0.10689617688800164]\n"
     ]
    },
    {
     "name": "stderr",
     "output_type": "stream",
     "text": [
      "Initial filtering of formulas: 100%|██████████████| 2/2 [00:00<00:00, 51.03it/s]\n",
      "Computing chunks: 100%|████████████████████████| 2/2 [00:00<00:00, 88301.14it/s]\n",
      "Splitting the experimental spectrum into chunks: 131072it [00:00, 3466194.72it/s]\n",
      "Deconvolving chunks: 100%|███████████████████████| 1/1 [01:59<00:00, 119.98s/it]\n"
     ]
    },
    {
     "name": "stdout",
     "output_type": "stream",
     "text": [
      "Estimation for 0.27 and 0.25 done\n",
      "It took: 120.15355920791626 seconds.\n",
      "[0.8613645299390132, 0.10686491095400164]\n"
     ]
    },
    {
     "name": "stderr",
     "output_type": "stream",
     "text": [
      "Initial filtering of formulas: 100%|██████████████| 2/2 [00:00<00:00, 60.97it/s]\n",
      "Computing chunks: 100%|████████████████████████| 2/2 [00:00<00:00, 89240.51it/s]\n",
      "Splitting the experimental spectrum into chunks: 131072it [00:00, 3418518.03it/s]\n",
      "Deconvolving chunks: 100%|███████████████████████| 1/1 [01:58<00:00, 118.27s/it]\n"
     ]
    },
    {
     "name": "stdout",
     "output_type": "stream",
     "text": [
      "Estimation for 0.27 and 0.26 done\n",
      "It took: 118.40762519836426 seconds.\n",
      "[0.8611998346880132, 0.10683628269100164]\n"
     ]
    },
    {
     "name": "stderr",
     "output_type": "stream",
     "text": [
      "Initial filtering of formulas: 100%|██████████████| 2/2 [00:00<00:00, 60.65it/s]\n",
      "Computing chunks: 100%|████████████████████████| 2/2 [00:00<00:00, 56679.78it/s]\n",
      "Splitting the experimental spectrum into chunks: 131072it [00:00, 3453804.10it/s]\n",
      "Deconvolving chunks: 100%|███████████████████████| 1/1 [02:17<00:00, 137.21s/it]\n"
     ]
    },
    {
     "name": "stdout",
     "output_type": "stream",
     "text": [
      "Estimation for 0.27 and 0.27 done\n",
      "It took: 137.36447191238403 seconds.\n",
      "[0.8609777509480132, 0.10682821555800164]\n"
     ]
    },
    {
     "name": "stderr",
     "output_type": "stream",
     "text": [
      "Initial filtering of formulas: 100%|██████████████| 2/2 [00:00<00:00, 62.94it/s]\n",
      "Computing chunks: 100%|████████████████████████| 2/2 [00:00<00:00, 95325.09it/s]\n",
      "Splitting the experimental spectrum into chunks: 131072it [00:00, 3490734.74it/s]\n",
      "Deconvolving chunks: 100%|███████████████████████| 1/1 [01:56<00:00, 116.98s/it]\n"
     ]
    },
    {
     "name": "stdout",
     "output_type": "stream",
     "text": [
      "Estimation for 0.27 and 0.28 done\n",
      "It took: 117.11932373046875 seconds.\n",
      "[0.8608518063930132, 0.10678087789100164]\n"
     ]
    },
    {
     "name": "stderr",
     "output_type": "stream",
     "text": [
      "Initial filtering of formulas: 100%|██████████████| 2/2 [00:00<00:00, 63.58it/s]\n",
      "Computing chunks: 100%|███████████████████████| 2/2 [00:00<00:00, 102300.10it/s]\n",
      "Splitting the experimental spectrum into chunks: 131072it [00:00, 3468819.22it/s]\n",
      "Deconvolving chunks: 100%|███████████████████████| 1/1 [02:01<00:00, 121.19s/it]\n"
     ]
    },
    {
     "name": "stdout",
     "output_type": "stream",
     "text": [
      "Estimation for 0.27 and 0.29000000000000004 done\n",
      "It took: 121.33378624916077 seconds.\n",
      "[0.8605980899670133, 0.10670687167700164]\n"
     ]
    },
    {
     "name": "stderr",
     "output_type": "stream",
     "text": [
      "Initial filtering of formulas: 100%|██████████████| 2/2 [00:00<00:00, 60.76it/s]\n",
      "Computing chunks: 100%|████████████████████████| 2/2 [00:00<00:00, 96420.78it/s]\n",
      "Splitting the experimental spectrum into chunks: 131072it [00:00, 3491333.29it/s]\n",
      "Deconvolving chunks: 100%|███████████████████████| 1/1 [01:51<00:00, 111.37s/it]\n"
     ]
    },
    {
     "name": "stdout",
     "output_type": "stream",
     "text": [
      "Estimation for 0.28 and 0.01 done\n",
      "It took: 111.50926756858826 seconds.\n",
      "[0.7615544100410117, 0.23775854951100364]\n"
     ]
    },
    {
     "name": "stderr",
     "output_type": "stream",
     "text": [
      "Initial filtering of formulas: 100%|██████████████| 2/2 [00:00<00:00, 63.56it/s]\n",
      "Computing chunks: 100%|████████████████████████| 2/2 [00:00<00:00, 64527.75it/s]\n",
      "Splitting the experimental spectrum into chunks: 131072it [00:00, 3486616.95it/s]\n",
      "Deconvolving chunks: 100%|███████████████████████| 1/1 [02:15<00:00, 135.17s/it]\n"
     ]
    },
    {
     "name": "stdout",
     "output_type": "stream",
     "text": [
      "Estimation for 0.28 and 0.02 done\n",
      "It took: 135.31098008155823 seconds.\n",
      "[0.8543861692650131, 0.13490288758400204]\n"
     ]
    },
    {
     "name": "stderr",
     "output_type": "stream",
     "text": [
      "Initial filtering of formulas: 100%|██████████████| 2/2 [00:00<00:00, 62.83it/s]\n",
      "Computing chunks: 100%|████████████████████████| 2/2 [00:00<00:00, 81442.80it/s]\n",
      "Splitting the experimental spectrum into chunks: 131072it [00:00, 3485688.47it/s]\n",
      "Deconvolving chunks: 100%|███████████████████████| 1/1 [01:47<00:00, 107.69s/it]\n"
     ]
    },
    {
     "name": "stdout",
     "output_type": "stream",
     "text": [
      "Estimation for 0.28 and 0.03 done\n",
      "It took: 107.86210179328918 seconds.\n",
      "[0.8833609029720135, 0.10083561657600154]\n"
     ]
    },
    {
     "name": "stderr",
     "output_type": "stream",
     "text": [
      "Initial filtering of formulas: 100%|██████████████| 2/2 [00:00<00:00, 54.21it/s]\n",
      "Computing chunks: 100%|████████████████████████| 2/2 [00:00<00:00, 83055.52it/s]\n",
      "Splitting the experimental spectrum into chunks: 131072it [00:00, 2869319.17it/s]\n",
      "Deconvolving chunks: 100%|███████████████████████| 1/1 [01:49<00:00, 109.75s/it]\n"
     ]
    },
    {
     "name": "stdout",
     "output_type": "stream",
     "text": [
      "Estimation for 0.28 and 0.04 done\n",
      "It took: 109.91064310073853 seconds.\n",
      "[0.8733848906590135, 0.10897633935700167]\n"
     ]
    },
    {
     "name": "stderr",
     "output_type": "stream",
     "text": [
      "Initial filtering of formulas: 100%|██████████████| 2/2 [00:00<00:00, 63.81it/s]\n",
      "Computing chunks: 100%|████████████████████████| 2/2 [00:00<00:00, 89240.51it/s]\n",
      "Splitting the experimental spectrum into chunks: 131072it [00:00, 3488497.53it/s]\n",
      "Deconvolving chunks: 100%|███████████████████████| 1/1 [01:51<00:00, 111.73s/it]\n"
     ]
    },
    {
     "name": "stdout",
     "output_type": "stream",
     "text": [
      "Estimation for 0.28 and 0.05 done\n",
      "It took: 111.87000966072083 seconds.\n",
      "[0.8725588853580133, 0.10899677025900166]\n"
     ]
    },
    {
     "name": "stderr",
     "output_type": "stream",
     "text": [
      "Initial filtering of formulas: 100%|██████████████| 2/2 [00:00<00:00, 51.19it/s]\n",
      "Computing chunks: 100%|████████████████████████| 2/2 [00:00<00:00, 89240.51it/s]\n",
      "Splitting the experimental spectrum into chunks: 131072it [00:00, 2917590.88it/s]\n",
      "Deconvolving chunks: 100%|███████████████████████| 1/1 [02:12<00:00, 132.79s/it]\n"
     ]
    },
    {
     "name": "stdout",
     "output_type": "stream",
     "text": [
      "Estimation for 0.28 and 0.060000000000000005 done\n",
      "It took: 132.9522213935852 seconds.\n",
      "[0.8713877688520133, 0.10919417887800167]\n"
     ]
    },
    {
     "name": "stderr",
     "output_type": "stream",
     "text": [
      "Initial filtering of formulas: 100%|██████████████| 2/2 [00:00<00:00, 62.89it/s]\n",
      "Computing chunks: 100%|████████████████████████| 2/2 [00:00<00:00, 78398.21it/s]\n",
      "Splitting the experimental spectrum into chunks: 131072it [00:00, 3499110.92it/s]\n",
      "Deconvolving chunks: 100%|███████████████████████| 1/1 [01:48<00:00, 108.55s/it]\n"
     ]
    },
    {
     "name": "stdout",
     "output_type": "stream",
     "text": [
      "Estimation for 0.28 and 0.06999999999999999 done\n",
      "It took: 108.69464588165283 seconds.\n",
      "[0.8715847052140133, 0.10879933443800166]\n"
     ]
    },
    {
     "name": "stderr",
     "output_type": "stream",
     "text": [
      "Initial filtering of formulas: 100%|██████████████| 2/2 [00:00<00:00, 64.58it/s]\n",
      "Computing chunks: 100%|████████████████████████| 2/2 [00:00<00:00, 91180.52it/s]\n",
      "Splitting the experimental spectrum into chunks: 131072it [00:00, 3505760.38it/s]\n",
      "Deconvolving chunks: 100%|███████████████████████| 1/1 [02:17<00:00, 137.10s/it]\n"
     ]
    },
    {
     "name": "stdout",
     "output_type": "stream",
     "text": [
      "Estimation for 0.28 and 0.08 done\n",
      "It took: 137.24075198173523 seconds.\n",
      "[0.8716212705410133, 0.10851882227000166]\n"
     ]
    },
    {
     "name": "stderr",
     "output_type": "stream",
     "text": [
      "Initial filtering of formulas: 100%|██████████████| 2/2 [00:00<00:00, 63.26it/s]\n",
      "Computing chunks: 100%|████████████████████████| 2/2 [00:00<00:00, 11765.23it/s]\n",
      "Splitting the experimental spectrum into chunks: 131072it [00:00, 3415905.39it/s]\n",
      "Deconvolving chunks: 100%|███████████████████████| 1/1 [01:48<00:00, 108.02s/it]\n"
     ]
    },
    {
     "name": "stdout",
     "output_type": "stream",
     "text": [
      "Estimation for 0.28 and 0.09 done\n",
      "It took: 108.19072413444519 seconds.\n",
      "[0.8714625205540133, 0.10849991949800167]\n"
     ]
    },
    {
     "name": "stderr",
     "output_type": "stream",
     "text": [
      "Initial filtering of formulas: 100%|██████████████| 2/2 [00:00<00:00, 63.80it/s]\n",
      "Computing chunks: 100%|████████████████████████| 2/2 [00:00<00:00, 98689.51it/s]\n",
      "Splitting the experimental spectrum into chunks: 131072it [00:00, 3481560.52it/s]\n",
      "Deconvolving chunks: 100%|███████████████████████| 1/1 [02:12<00:00, 132.55s/it]\n"
     ]
    },
    {
     "name": "stdout",
     "output_type": "stream",
     "text": [
      "Estimation for 0.28 and 0.09999999999999999 done\n",
      "It took: 132.7022840976715 seconds.\n",
      "[0.8708842063400133, 0.10860784897700167]\n"
     ]
    },
    {
     "name": "stderr",
     "output_type": "stream",
     "text": [
      "Initial filtering of formulas: 100%|██████████████| 2/2 [00:00<00:00, 64.94it/s]\n",
      "Computing chunks: 100%|████████████████████████| 2/2 [00:00<00:00, 71089.90it/s]\n",
      "Splitting the experimental spectrum into chunks: 131072it [00:00, 3491133.75it/s]\n",
      "Deconvolving chunks: 100%|███████████████████████| 1/1 [01:49<00:00, 109.70s/it]\n"
     ]
    },
    {
     "name": "stdout",
     "output_type": "stream",
     "text": [
      "Estimation for 0.28 and 0.11 done\n",
      "It took: 109.83772683143616 seconds.\n",
      "[0.8704387392230133, 0.10865821465800167]\n"
     ]
    },
    {
     "name": "stderr",
     "output_type": "stream",
     "text": [
      "Initial filtering of formulas: 100%|██████████████| 2/2 [00:00<00:00, 64.47it/s]\n",
      "Computing chunks: 100%|████████████████████████| 2/2 [00:00<00:00, 96420.78it/s]\n",
      "Splitting the experimental spectrum into chunks: 131072it [00:00, 3508557.11it/s]\n",
      "Deconvolving chunks: 100%|███████████████████████| 1/1 [01:55<00:00, 115.33s/it]\n"
     ]
    },
    {
     "name": "stdout",
     "output_type": "stream",
     "text": [
      "Estimation for 0.28 and 0.12 done\n",
      "It took: 115.46902203559875 seconds.\n",
      "[0.8698072535620133, 0.10886293112900167]\n"
     ]
    },
    {
     "name": "stderr",
     "output_type": "stream",
     "text": [
      "Initial filtering of formulas: 100%|██████████████| 2/2 [00:00<00:00, 64.70it/s]\n",
      "Computing chunks: 100%|███████████████████████| 2/2 [00:00<00:00, 102300.10it/s]\n",
      "Splitting the experimental spectrum into chunks: 131072it [00:00, 3505134.52it/s]\n",
      "Deconvolving chunks: 100%|███████████████████████| 1/1 [01:53<00:00, 113.40s/it]\n"
     ]
    },
    {
     "name": "stdout",
     "output_type": "stream",
     "text": [
      "Estimation for 0.28 and 0.13 done\n",
      "It took: 113.5375828742981 seconds.\n",
      "[0.8692972949370134, 0.10871554842300167]\n"
     ]
    },
    {
     "name": "stderr",
     "output_type": "stream",
     "text": [
      "Initial filtering of formulas: 100%|██████████████| 2/2 [00:00<00:00, 63.19it/s]\n",
      "Computing chunks: 100%|████████████████████████| 2/2 [00:00<00:00, 96420.78it/s]\n",
      "Splitting the experimental spectrum into chunks: 131072it [00:00, 3488873.89it/s]\n",
      "Deconvolving chunks: 100%|███████████████████████| 1/1 [01:54<00:00, 114.40s/it]\n"
     ]
    },
    {
     "name": "stdout",
     "output_type": "stream",
     "text": [
      "Estimation for 0.28 and 0.14 done\n",
      "It took: 114.5433406829834 seconds.\n",
      "[0.8685436088140133, 0.10840856348800167]\n"
     ]
    },
    {
     "name": "stderr",
     "output_type": "stream",
     "text": [
      "Initial filtering of formulas: 100%|██████████████| 2/2 [00:00<00:00, 63.19it/s]\n",
      "Computing chunks: 100%|████████████████████████| 2/2 [00:00<00:00, 94254.02it/s]\n",
      "Splitting the experimental spectrum into chunks: 131072it [00:00, 3479423.13it/s]\n",
      "Deconvolving chunks: 100%|███████████████████████| 1/1 [02:13<00:00, 133.83s/it]\n"
     ]
    },
    {
     "name": "stdout",
     "output_type": "stream",
     "text": [
      "Estimation for 0.28 and 0.15000000000000002 done\n",
      "It took: 133.96598362922668 seconds.\n",
      "[0.8676981661600133, 0.10821144834200165]\n"
     ]
    },
    {
     "name": "stderr",
     "output_type": "stream",
     "text": [
      "Initial filtering of formulas: 100%|██████████████| 2/2 [00:00<00:00, 63.73it/s]\n",
      "Computing chunks: 100%|████████████████████████| 2/2 [00:00<00:00, 95325.09it/s]\n",
      "Splitting the experimental spectrum into chunks: 131072it [00:00, 3457648.97it/s]\n",
      "Deconvolving chunks: 100%|███████████████████████| 1/1 [01:54<00:00, 114.17s/it]\n"
     ]
    },
    {
     "name": "stdout",
     "output_type": "stream",
     "text": [
      "Estimation for 0.28 and 0.16 done\n",
      "It took: 114.31477236747742 seconds.\n",
      "[0.8670763809880133, 0.10805250938000165]\n"
     ]
    },
    {
     "name": "stderr",
     "output_type": "stream",
     "text": [
      "Initial filtering of formulas: 100%|██████████████| 2/2 [00:00<00:00, 67.67it/s]\n",
      "Computing chunks: 100%|████████████████████████| 2/2 [00:00<00:00, 89240.51it/s]\n",
      "Splitting the experimental spectrum into chunks: 131072it [00:00, 3603136.87it/s]\n",
      "Deconvolving chunks: 100%|███████████████████████| 1/1 [01:56<00:00, 116.09s/it]\n"
     ]
    },
    {
     "name": "stdout",
     "output_type": "stream",
     "text": [
      "Estimation for 0.28 and 0.17 done\n",
      "It took: 116.22980833053589 seconds.\n",
      "[0.8666793907810133, 0.10797876366000166]\n"
     ]
    },
    {
     "name": "stderr",
     "output_type": "stream",
     "text": [
      "Initial filtering of formulas: 100%|██████████████| 2/2 [00:00<00:00, 62.12it/s]\n",
      "Computing chunks: 100%|████████████████████████| 2/2 [00:00<00:00, 91180.52it/s]\n",
      "Splitting the experimental spectrum into chunks: 131072it [00:00, 3473948.44it/s]\n",
      "Deconvolving chunks: 100%|███████████████████████| 1/1 [01:54<00:00, 114.75s/it]\n"
     ]
    },
    {
     "name": "stdout",
     "output_type": "stream",
     "text": [
      "Estimation for 0.28 and 0.18000000000000002 done\n",
      "It took: 114.88898038864136 seconds.\n",
      "[0.8664343724100133, 0.10758992183500166]\n"
     ]
    },
    {
     "name": "stderr",
     "output_type": "stream",
     "text": [
      "Initial filtering of formulas: 100%|██████████████| 2/2 [00:00<00:00, 63.60it/s]\n",
      "Computing chunks: 100%|████████████████████████| 2/2 [00:00<00:00, 92182.51it/s]\n",
      "Splitting the experimental spectrum into chunks: 131072it [00:00, 3503615.51it/s]\n",
      "Deconvolving chunks: 100%|███████████████████████| 1/1 [01:57<00:00, 117.21s/it]\n"
     ]
    },
    {
     "name": "stdout",
     "output_type": "stream",
     "text": [
      "Estimation for 0.28 and 0.19 done\n",
      "It took: 117.35516452789307 seconds.\n",
      "[0.8646901635760132, 0.10767738145000165]\n"
     ]
    },
    {
     "name": "stderr",
     "output_type": "stream",
     "text": [
      "Initial filtering of formulas: 100%|██████████████| 2/2 [00:00<00:00, 61.95it/s]\n",
      "Computing chunks: 100%|████████████████████████| 2/2 [00:00<00:00, 89240.51it/s]\n",
      "Splitting the experimental spectrum into chunks: 131072it [00:00, 3480127.96it/s]\n",
      "Deconvolving chunks: 100%|███████████████████████| 1/1 [01:57<00:00, 117.12s/it]\n"
     ]
    },
    {
     "name": "stdout",
     "output_type": "stream",
     "text": [
      "Estimation for 0.28 and 0.2 done\n",
      "It took: 117.27602982521057 seconds.\n",
      "[0.8641542161240132, 0.10746718510600164]\n"
     ]
    },
    {
     "name": "stderr",
     "output_type": "stream",
     "text": [
      "Initial filtering of formulas: 100%|██████████████| 2/2 [00:00<00:00, 63.51it/s]\n",
      "Computing chunks: 100%|████████████████████████| 2/2 [00:00<00:00, 76959.71it/s]\n",
      "Splitting the experimental spectrum into chunks: 131072it [00:00, 3504978.09it/s]\n",
      "Deconvolving chunks: 100%|███████████████████████| 1/1 [01:56<00:00, 116.87s/it]\n"
     ]
    },
    {
     "name": "stdout",
     "output_type": "stream",
     "text": [
      "Estimation for 0.28 and 0.21000000000000002 done\n",
      "It took: 117.0059142112732 seconds.\n",
      "[0.8626487476690132, 0.10743978982500166]\n"
     ]
    },
    {
     "name": "stderr",
     "output_type": "stream",
     "text": [
      "Initial filtering of formulas: 100%|██████████████| 2/2 [00:00<00:00, 64.67it/s]\n",
      "Computing chunks: 100%|████████████████████████| 2/2 [00:00<00:00, 91180.52it/s]\n",
      "Splitting the experimental spectrum into chunks: 131072it [00:00, 3524233.87it/s]\n",
      "Deconvolving chunks: 100%|███████████████████████| 1/1 [01:58<00:00, 118.26s/it]\n"
     ]
    },
    {
     "name": "stdout",
     "output_type": "stream",
     "text": [
      "Estimation for 0.28 and 0.22 done\n",
      "It took: 118.39872884750366 seconds.\n",
      "[0.8621557598570132, 0.10729786602600164]\n"
     ]
    },
    {
     "name": "stderr",
     "output_type": "stream",
     "text": [
      "Initial filtering of formulas: 100%|██████████████| 2/2 [00:00<00:00, 62.73it/s]\n",
      "Computing chunks: 100%|████████████████████████| 2/2 [00:00<00:00, 90200.09it/s]\n",
      "Splitting the experimental spectrum into chunks: 131072it [00:00, 3423115.76it/s]\n",
      "Deconvolving chunks: 100%|███████████████████████| 1/1 [01:55<00:00, 115.20s/it]\n"
     ]
    },
    {
     "name": "stdout",
     "output_type": "stream",
     "text": [
      "Estimation for 0.28 and 0.23 done\n",
      "It took: 115.3696973323822 seconds.\n",
      "[0.8621048903060132, 0.10721341969300163]\n"
     ]
    },
    {
     "name": "stderr",
     "output_type": "stream",
     "text": [
      "Initial filtering of formulas: 100%|██████████████| 2/2 [00:00<00:00, 63.91it/s]\n",
      "Computing chunks: 100%|████████████████████████| 2/2 [00:00<00:00, 85598.04it/s]\n",
      "Splitting the experimental spectrum into chunks: 131072it [00:00, 3451874.03it/s]\n",
      "Deconvolving chunks: 100%|███████████████████████| 1/1 [02:00<00:00, 120.95s/it]\n"
     ]
    },
    {
     "name": "stdout",
     "output_type": "stream",
     "text": [
      "Estimation for 0.28 and 0.24000000000000002 done\n",
      "It took: 121.11597514152527 seconds.\n",
      "[0.8621248603300132, 0.10702125455600164]\n"
     ]
    },
    {
     "name": "stderr",
     "output_type": "stream",
     "text": [
      "Initial filtering of formulas: 100%|██████████████| 2/2 [00:00<00:00, 65.15it/s]\n",
      "Computing chunks: 100%|████████████████████████| 2/2 [00:00<00:00, 97541.95it/s]\n",
      "Splitting the experimental spectrum into chunks: 131072it [00:00, 3534816.13it/s]\n",
      "Deconvolving chunks: 100%|███████████████████████| 1/1 [01:55<00:00, 115.09s/it]\n"
     ]
    },
    {
     "name": "stdout",
     "output_type": "stream",
     "text": [
      "Estimation for 0.28 and 0.25 done\n",
      "It took: 115.23399329185486 seconds.\n",
      "[0.8621200936860132, 0.10690489223100164]\n"
     ]
    },
    {
     "name": "stderr",
     "output_type": "stream",
     "text": [
      "Initial filtering of formulas: 100%|██████████████| 2/2 [00:00<00:00, 64.41it/s]\n",
      "Computing chunks: 100%|████████████████████████| 2/2 [00:00<00:00, 91180.52it/s]\n",
      "Splitting the experimental spectrum into chunks: 131072it [00:00, 3521321.88it/s]\n",
      "Deconvolving chunks: 100%|███████████████████████| 1/1 [01:58<00:00, 118.69s/it]\n"
     ]
    },
    {
     "name": "stdout",
     "output_type": "stream",
     "text": [
      "Estimation for 0.28 and 0.26 done\n",
      "It took: 118.83002305030823 seconds.\n",
      "[0.8620034464820132, 0.10686856575400164]\n"
     ]
    },
    {
     "name": "stderr",
     "output_type": "stream",
     "text": [
      "Initial filtering of formulas: 100%|██████████████| 2/2 [00:00<00:00, 64.48it/s]\n",
      "Computing chunks: 100%|████████████████████████| 2/2 [00:00<00:00, 88301.14it/s]\n",
      "Splitting the experimental spectrum into chunks: 131072it [00:00, 3473311.94it/s]\n",
      "Deconvolving chunks: 100%|███████████████████████| 1/1 [01:59<00:00, 119.76s/it]\n"
     ]
    },
    {
     "name": "stdout",
     "output_type": "stream",
     "text": [
      "Estimation for 0.28 and 0.27 done\n",
      "It took: 119.90156316757202 seconds.\n",
      "[0.8618664057640132, 0.10682355168600163]\n"
     ]
    },
    {
     "name": "stderr",
     "output_type": "stream",
     "text": [
      "Initial filtering of formulas: 100%|██████████████| 2/2 [00:00<00:00, 64.49it/s]\n",
      "Computing chunks: 100%|████████████████████████| 2/2 [00:00<00:00, 79137.81it/s]\n",
      "Splitting the experimental spectrum into chunks: 131072it [00:00, 3513333.04it/s]\n",
      "Deconvolving chunks: 100%|███████████████████████| 1/1 [01:59<00:00, 119.18s/it]\n"
     ]
    },
    {
     "name": "stdout",
     "output_type": "stream",
     "text": [
      "Estimation for 0.28 and 0.28 done\n",
      "It took: 119.31521821022034 seconds.\n",
      "[0.8616778323800132, 0.10682249962100164]\n"
     ]
    },
    {
     "name": "stderr",
     "output_type": "stream",
     "text": [
      "Initial filtering of formulas: 100%|██████████████| 2/2 [00:00<00:00, 64.55it/s]\n",
      "Computing chunks: 100%|████████████████████████| 2/2 [00:00<00:00, 99864.38it/s]\n",
      "Splitting the experimental spectrum into chunks: 131072it [00:00, 3539846.20it/s]\n",
      "Deconvolving chunks: 100%|███████████████████████| 1/1 [02:01<00:00, 121.65s/it]\n"
     ]
    },
    {
     "name": "stdout",
     "output_type": "stream",
     "text": [
      "Estimation for 0.28 and 0.29000000000000004 done\n",
      "It took: 121.8155825138092 seconds.\n",
      "[0.8615499706050133, 0.10677276646100163]\n"
     ]
    },
    {
     "name": "stderr",
     "output_type": "stream",
     "text": [
      "Initial filtering of formulas: 100%|██████████████| 2/2 [00:00<00:00, 63.25it/s]\n",
      "Computing chunks: 100%|████████████████████████| 2/2 [00:00<00:00, 86480.49it/s]\n",
      "Splitting the experimental spectrum into chunks: 131072it [00:00, 3519653.60it/s]\n",
      "Deconvolving chunks: 100%|███████████████████████| 1/1 [01:52<00:00, 112.52s/it]\n"
     ]
    },
    {
     "name": "stdout",
     "output_type": "stream",
     "text": [
      "Estimation for 0.29000000000000004 and 0.01 done\n",
      "It took: 112.65701842308044 seconds.\n",
      "[0.7635968719540116, 0.2357642117050036]\n"
     ]
    },
    {
     "name": "stderr",
     "output_type": "stream",
     "text": [
      "Initial filtering of formulas: 100%|██████████████| 2/2 [00:00<00:00, 63.74it/s]\n",
      "Computing chunks: 100%|████████████████████████| 2/2 [00:00<00:00, 85598.04it/s]\n",
      "Splitting the experimental spectrum into chunks: 131072it [00:00, 3497641.63it/s]\n",
      "Deconvolving chunks: 100%|███████████████████████| 1/1 [01:50<00:00, 110.02s/it]\n"
     ]
    },
    {
     "name": "stdout",
     "output_type": "stream",
     "text": [
      "Estimation for 0.29000000000000004 and 0.02 done\n",
      "It took: 110.1643385887146 seconds.\n",
      "[0.849305680068013, 0.14086398106300216]\n"
     ]
    },
    {
     "name": "stderr",
     "output_type": "stream",
     "text": [
      "Initial filtering of formulas: 100%|██████████████| 2/2 [00:00<00:00, 61.46it/s]\n",
      "Computing chunks: 100%|████████████████████████| 2/2 [00:00<00:00, 40136.88it/s]\n",
      "Splitting the experimental spectrum into chunks: 131072it [00:00, 3430035.59it/s]\n",
      "Deconvolving chunks: 100%|███████████████████████| 1/1 [02:29<00:00, 149.97s/it]\n"
     ]
    },
    {
     "name": "stdout",
     "output_type": "stream",
     "text": [
      "Estimation for 0.29000000000000004 and 0.03 done\n",
      "It took: 150.13385486602783 seconds.\n",
      "[0.8851186402850135, 0.10022677936100154]\n"
     ]
    },
    {
     "name": "stderr",
     "output_type": "stream",
     "text": [
      "Initial filtering of formulas: 100%|██████████████| 2/2 [00:00<00:00, 65.14it/s]\n",
      "Computing chunks: 100%|████████████████████████| 2/2 [00:00<00:00, 91180.52it/s]\n",
      "Splitting the experimental spectrum into chunks: 131072it [00:00, 3538160.33it/s]\n",
      "Deconvolving chunks: 100%|███████████████████████| 1/1 [01:53<00:00, 113.07s/it]\n"
     ]
    },
    {
     "name": "stdout",
     "output_type": "stream",
     "text": [
      "Estimation for 0.29000000000000004 and 0.04 done\n",
      "It took: 113.21063113212585 seconds.\n",
      "[0.8743270795450134, 0.10895401411900167]\n"
     ]
    },
    {
     "name": "stderr",
     "output_type": "stream",
     "text": [
      "Initial filtering of formulas: 100%|██████████████| 2/2 [00:00<00:00, 63.66it/s]\n",
      "Computing chunks: 100%|████████████████████████| 2/2 [00:00<00:00, 95325.09it/s]\n",
      "Splitting the experimental spectrum into chunks: 131072it [00:00, 3478740.60it/s]\n",
      "Deconvolving chunks: 100%|████████████████████████| 1/1 [01:38<00:00, 98.09s/it]\n"
     ]
    },
    {
     "name": "stdout",
     "output_type": "stream",
     "text": [
      "Estimation for 0.29000000000000004 and 0.05 done\n",
      "It took: 98.26060891151428 seconds.\n",
      "[0.8736559386520134, 0.10905792179900166]\n"
     ]
    },
    {
     "name": "stderr",
     "output_type": "stream",
     "text": [
      "Initial filtering of formulas: 100%|██████████████| 2/2 [00:00<00:00, 62.32it/s]\n",
      "Computing chunks: 100%|████████████████████████| 2/2 [00:00<00:00, 98689.51it/s]\n",
      "Splitting the experimental spectrum into chunks: 131072it [00:00, 3500782.06it/s]\n",
      "Deconvolving chunks: 100%|███████████████████████| 1/1 [02:15<00:00, 135.92s/it]\n"
     ]
    },
    {
     "name": "stdout",
     "output_type": "stream",
     "text": [
      "Estimation for 0.29000000000000004 and 0.060000000000000005 done\n",
      "It took: 136.05638241767883 seconds.\n",
      "[0.8725372313780133, 0.10925089739900168]\n"
     ]
    },
    {
     "name": "stderr",
     "output_type": "stream",
     "text": [
      "Initial filtering of formulas: 100%|██████████████| 2/2 [00:00<00:00, 60.98it/s]\n",
      "Computing chunks: 100%|████████████████████████| 2/2 [00:00<00:00, 82241.25it/s]\n",
      "Splitting the experimental spectrum into chunks: 131072it [00:00, 3446961.03it/s]\n",
      "Deconvolving chunks: 100%|████████████████████████| 1/1 [01:39<00:00, 99.62s/it]\n"
     ]
    },
    {
     "name": "stdout",
     "output_type": "stream",
     "text": [
      "Estimation for 0.29000000000000004 and 0.06999999999999999 done\n",
      "It took: 99.75808024406433 seconds.\n",
      "[0.8725543394160133, 0.10898207309600166]\n"
     ]
    },
    {
     "name": "stderr",
     "output_type": "stream",
     "text": [
      "Initial filtering of formulas: 100%|██████████████| 2/2 [00:00<00:00, 63.99it/s]\n",
      "Computing chunks: 100%|████████████████████████| 2/2 [00:00<00:00, 92182.51it/s]\n",
      "Splitting the experimental spectrum into chunks: 131072it [00:00, 3498977.30it/s]\n",
      "Deconvolving chunks: 100%|███████████████████████| 1/1 [02:14<00:00, 134.76s/it]\n"
     ]
    },
    {
     "name": "stdout",
     "output_type": "stream",
     "text": [
      "Estimation for 0.29000000000000004 and 0.08 done\n",
      "It took: 134.9261019229889 seconds.\n",
      "[0.8727973298540134, 0.10863000282600166]\n"
     ]
    },
    {
     "name": "stderr",
     "output_type": "stream",
     "text": [
      "Initial filtering of formulas: 100%|██████████████| 2/2 [00:00<00:00, 63.69it/s]\n",
      "Computing chunks: 100%|████████████████████████| 2/2 [00:00<00:00, 94254.02it/s]\n",
      "Splitting the experimental spectrum into chunks: 131072it [00:00, 3500692.90it/s]\n",
      "Deconvolving chunks: 100%|███████████████████████| 1/1 [01:49<00:00, 109.16s/it]\n"
     ]
    },
    {
     "name": "stdout",
     "output_type": "stream",
     "text": [
      "Estimation for 0.29000000000000004 and 0.09 done\n",
      "It took: 109.29399228096008 seconds.\n",
      "[0.8726262672940133, 0.10863507578000167]\n"
     ]
    },
    {
     "name": "stderr",
     "output_type": "stream",
     "text": [
      "Initial filtering of formulas: 100%|██████████████| 2/2 [00:00<00:00, 62.39it/s]\n",
      "Computing chunks: 100%|████████████████████████| 2/2 [00:00<00:00, 97541.95it/s]\n",
      "Splitting the experimental spectrum into chunks: 131072it [00:00, 3450335.86it/s]\n",
      "Deconvolving chunks: 100%|███████████████████████| 1/1 [02:11<00:00, 131.54s/it]\n"
     ]
    },
    {
     "name": "stdout",
     "output_type": "stream",
     "text": [
      "Estimation for 0.29000000000000004 and 0.09999999999999999 done\n",
      "It took: 131.71139192581177 seconds.\n",
      "[0.8722428674510133, 0.10870261956700167]\n"
     ]
    },
    {
     "name": "stderr",
     "output_type": "stream",
     "text": [
      "Initial filtering of formulas: 100%|██████████████| 2/2 [00:00<00:00, 64.00it/s]\n",
      "Computing chunks: 100%|████████████████████████| 2/2 [00:00<00:00, 92182.51it/s]\n",
      "Splitting the experimental spectrum into chunks: 131072it [00:00, 2729495.19it/s]\n",
      "Deconvolving chunks: 100%|███████████████████████| 1/1 [02:20<00:00, 140.86s/it]\n"
     ]
    },
    {
     "name": "stdout",
     "output_type": "stream",
     "text": [
      "Estimation for 0.29000000000000004 and 0.11 done\n",
      "It took: 141.02625274658203 seconds.\n",
      "[0.8715763246940134, 0.10878686982400167]\n"
     ]
    },
    {
     "name": "stderr",
     "output_type": "stream",
     "text": [
      "Initial filtering of formulas: 100%|██████████████| 2/2 [00:00<00:00, 63.95it/s]\n",
      "Computing chunks: 100%|████████████████████████| 2/2 [00:00<00:00, 95325.09it/s]\n",
      "Splitting the experimental spectrum into chunks: 131072it [00:00, 3527263.83it/s]\n",
      "Deconvolving chunks: 100%|███████████████████████| 1/1 [02:13<00:00, 133.78s/it]\n"
     ]
    },
    {
     "name": "stdout",
     "output_type": "stream",
     "text": [
      "Estimation for 0.29000000000000004 and 0.12 done\n",
      "It took: 133.91621851921082 seconds.\n",
      "[0.8709759098400133, 0.10886530104500167]\n"
     ]
    },
    {
     "name": "stderr",
     "output_type": "stream",
     "text": [
      "Initial filtering of formulas: 100%|██████████████| 2/2 [00:00<00:00, 63.42it/s]\n",
      "Computing chunks: 100%|████████████████████████| 2/2 [00:00<00:00, 90200.09it/s]\n",
      "Splitting the experimental spectrum into chunks: 131072it [00:00, 3521096.34it/s]\n",
      "Deconvolving chunks: 100%|███████████████████████| 1/1 [01:52<00:00, 112.25s/it]\n"
     ]
    },
    {
     "name": "stdout",
     "output_type": "stream",
     "text": [
      "Estimation for 0.29000000000000004 and 0.13 done\n",
      "It took: 112.40744948387146 seconds.\n",
      "[0.8700536108850133, 0.10890069179800166]\n"
     ]
    },
    {
     "name": "stderr",
     "output_type": "stream",
     "text": [
      "Initial filtering of formulas: 100%|██████████████| 2/2 [00:00<00:00, 63.50it/s]\n",
      "Computing chunks: 100%|████████████████████████| 2/2 [00:00<00:00, 92182.51it/s]\n",
      "Splitting the experimental spectrum into chunks: 131072it [00:00, 3486329.51it/s]\n",
      "Deconvolving chunks: 100%|███████████████████████| 1/1 [01:53<00:00, 113.46s/it]\n"
     ]
    },
    {
     "name": "stdout",
     "output_type": "stream",
     "text": [
      "Estimation for 0.29000000000000004 and 0.14 done\n",
      "It took: 113.60194706916809 seconds.\n",
      "[0.8694123880060133, 0.10864079912000167]\n"
     ]
    },
    {
     "name": "stderr",
     "output_type": "stream",
     "text": [
      "Initial filtering of formulas: 100%|██████████████| 2/2 [00:00<00:00, 61.27it/s]\n",
      "Computing chunks: 100%|████████████████████████| 2/2 [00:00<00:00, 89240.51it/s]\n",
      "Splitting the experimental spectrum into chunks: 131072it [00:00, 3432498.43it/s]\n",
      "Deconvolving chunks: 100%|███████████████████████| 1/1 [01:55<00:00, 115.54s/it]\n"
     ]
    },
    {
     "name": "stdout",
     "output_type": "stream",
     "text": [
      "Estimation for 0.29000000000000004 and 0.15000000000000002 done\n",
      "It took: 115.69937467575073 seconds.\n",
      "[0.8685089686390133, 0.10838870171800166]\n"
     ]
    },
    {
     "name": "stderr",
     "output_type": "stream",
     "text": [
      "Initial filtering of formulas: 100%|██████████████| 2/2 [00:00<00:00, 64.04it/s]\n",
      "Computing chunks: 100%|████████████████████████| 2/2 [00:00<00:00, 89240.51it/s]\n",
      "Splitting the experimental spectrum into chunks: 131072it [00:00, 3508064.56it/s]\n",
      "Deconvolving chunks: 100%|███████████████████████| 1/1 [01:54<00:00, 114.40s/it]\n"
     ]
    },
    {
     "name": "stdout",
     "output_type": "stream",
     "text": [
      "Estimation for 0.29000000000000004 and 0.16 done\n",
      "It took: 114.53856563568115 seconds.\n",
      "[0.8679772889960133, 0.10815785435600166]\n"
     ]
    },
    {
     "name": "stderr",
     "output_type": "stream",
     "text": [
      "Initial filtering of formulas: 100%|██████████████| 2/2 [00:00<00:00, 64.09it/s]\n",
      "Computing chunks: 100%|████████████████████████| 2/2 [00:00<00:00, 98689.51it/s]\n",
      "Splitting the experimental spectrum into chunks: 131072it [00:00, 3512794.26it/s]\n",
      "Deconvolving chunks: 100%|███████████████████████| 1/1 [01:54<00:00, 114.92s/it]\n"
     ]
    },
    {
     "name": "stdout",
     "output_type": "stream",
     "text": [
      "Estimation for 0.29000000000000004 and 0.17 done\n",
      "It took: 115.0617744922638 seconds.\n",
      "[0.8674950463810133, 0.10807352804200165]\n"
     ]
    },
    {
     "name": "stderr",
     "output_type": "stream",
     "text": [
      "Initial filtering of formulas: 100%|██████████████| 2/2 [00:00<00:00, 64.14it/s]\n",
      "Computing chunks: 100%|████████████████████████| 2/2 [00:00<00:00, 95325.09it/s]\n",
      "Splitting the experimental spectrum into chunks: 131072it [00:00, 3466872.34it/s]\n",
      "Deconvolving chunks: 100%|███████████████████████| 1/1 [01:55<00:00, 115.83s/it]\n"
     ]
    },
    {
     "name": "stdout",
     "output_type": "stream",
     "text": [
      "Estimation for 0.29000000000000004 and 0.18000000000000002 done\n",
      "It took: 115.97315812110901 seconds.\n",
      "[0.8672594121300133, 0.10796708400500166]\n"
     ]
    },
    {
     "name": "stderr",
     "output_type": "stream",
     "text": [
      "Initial filtering of formulas: 100%|██████████████| 2/2 [00:00<00:00, 62.83it/s]\n",
      "Computing chunks: 100%|████████████████████████| 2/2 [00:00<00:00, 40524.68it/s]\n",
      "Splitting the experimental spectrum into chunks: 131072it [00:00, 3621746.81it/s]\n",
      "Deconvolving chunks: 100%|███████████████████████| 1/1 [01:52<00:00, 112.09s/it]\n"
     ]
    },
    {
     "name": "stdout",
     "output_type": "stream",
     "text": [
      "Estimation for 0.29000000000000004 and 0.19 done\n",
      "It took: 112.25151038169861 seconds.\n",
      "[0.8659634040460134, 0.10762509961500165]\n"
     ]
    },
    {
     "name": "stderr",
     "output_type": "stream",
     "text": [
      "Initial filtering of formulas: 100%|██████████████| 2/2 [00:00<00:00, 63.97it/s]\n",
      "Computing chunks: 100%|████████████████████████| 2/2 [00:00<00:00, 89240.51it/s]\n",
      "Splitting the experimental spectrum into chunks: 131072it [00:00, 3516321.79it/s]\n",
      "Deconvolving chunks: 100%|███████████████████████| 1/1 [01:54<00:00, 114.75s/it]\n"
     ]
    },
    {
     "name": "stdout",
     "output_type": "stream",
     "text": [
      "Estimation for 0.29000000000000004 and 0.2 done\n",
      "It took: 114.90918254852295 seconds.\n",
      "[0.8648980406470133, 0.10776733407100166]\n"
     ]
    },
    {
     "name": "stderr",
     "output_type": "stream",
     "text": [
      "Initial filtering of formulas: 100%|██████████████| 2/2 [00:00<00:00, 63.69it/s]\n",
      "Computing chunks: 100%|████████████████████████| 2/2 [00:00<00:00, 97541.95it/s]\n",
      "Splitting the experimental spectrum into chunks: 131072it [00:00, 3505536.83it/s]\n",
      "Deconvolving chunks: 100%|███████████████████████| 1/1 [01:56<00:00, 116.05s/it]\n"
     ]
    },
    {
     "name": "stdout",
     "output_type": "stream",
     "text": [
      "Estimation for 0.29000000000000004 and 0.21000000000000002 done\n",
      "It took: 116.21684551239014 seconds.\n",
      "[0.8643313683430132, 0.10747018190900165]\n"
     ]
    },
    {
     "name": "stderr",
     "output_type": "stream",
     "text": [
      "Initial filtering of formulas: 100%|██████████████| 2/2 [00:00<00:00, 54.96it/s]\n",
      "Computing chunks: 100%|████████████████████████| 2/2 [00:00<00:00, 62601.55it/s]\n",
      "Splitting the experimental spectrum into chunks: 131072it [00:00, 2896882.17it/s]\n",
      "Deconvolving chunks: 100%|███████████████████████| 1/1 [01:53<00:00, 113.42s/it]\n"
     ]
    },
    {
     "name": "stdout",
     "output_type": "stream",
     "text": [
      "Estimation for 0.29000000000000004 and 0.22 done\n",
      "It took: 113.57331109046936 seconds.\n",
      "[0.8628316770360133, 0.10743638281600165]\n"
     ]
    },
    {
     "name": "stderr",
     "output_type": "stream",
     "text": [
      "Initial filtering of formulas: 100%|██████████████| 2/2 [00:00<00:00, 64.07it/s]\n",
      "Computing chunks: 100%|████████████████████████| 2/2 [00:00<00:00, 92182.51it/s]\n",
      "Splitting the experimental spectrum into chunks: 131072it [00:00, 3510125.23it/s]\n",
      "Deconvolving chunks: 100%|███████████████████████| 1/1 [01:59<00:00, 119.48s/it]\n"
     ]
    },
    {
     "name": "stdout",
     "output_type": "stream",
     "text": [
      "Estimation for 0.29000000000000004 and 0.23 done\n",
      "It took: 119.64769983291626 seconds.\n",
      "[0.8627435409760132, 0.10728489581600163]\n"
     ]
    },
    {
     "name": "stderr",
     "output_type": "stream",
     "text": [
      "Initial filtering of formulas: 100%|██████████████| 2/2 [00:00<00:00, 62.11it/s]\n",
      "Computing chunks: 100%|████████████████████████| 2/2 [00:00<00:00, 97541.95it/s]\n",
      "Splitting the experimental spectrum into chunks: 131072it [00:00, 3517559.23it/s]\n",
      "Deconvolving chunks: 100%|███████████████████████| 1/1 [01:55<00:00, 115.94s/it]\n"
     ]
    },
    {
     "name": "stdout",
     "output_type": "stream",
     "text": [
      "Estimation for 0.29000000000000004 and 0.24000000000000002 done\n",
      "It took: 116.08616232872009 seconds.\n",
      "[0.8626286707120132, 0.10721980805600163]\n"
     ]
    },
    {
     "name": "stderr",
     "output_type": "stream",
     "text": [
      "Initial filtering of formulas: 100%|██████████████| 2/2 [00:00<00:00, 63.81it/s]\n",
      "Computing chunks: 100%|████████████████████████| 2/2 [00:00<00:00, 97541.95it/s]\n",
      "Splitting the experimental spectrum into chunks: 131072it [00:00, 3486727.51it/s]\n",
      "Deconvolving chunks: 100%|███████████████████████| 1/1 [01:59<00:00, 119.43s/it]\n"
     ]
    },
    {
     "name": "stdout",
     "output_type": "stream",
     "text": [
      "Estimation for 0.29000000000000004 and 0.25 done\n",
      "It took: 119.5935320854187 seconds.\n",
      "[0.8626731803680132, 0.10704801241100163]\n"
     ]
    },
    {
     "name": "stderr",
     "output_type": "stream",
     "text": [
      "Initial filtering of formulas: 100%|██████████████| 2/2 [00:00<00:00, 62.65it/s]\n",
      "Computing chunks: 100%|████████████████████████| 2/2 [00:00<00:00, 92182.51it/s]\n",
      "Splitting the experimental spectrum into chunks: 131072it [00:00, 3216037.10it/s]\n",
      "Deconvolving chunks: 100%|███████████████████████| 1/1 [01:57<00:00, 117.98s/it]\n"
     ]
    },
    {
     "name": "stdout",
     "output_type": "stream",
     "text": [
      "Estimation for 0.29000000000000004 and 0.26 done\n",
      "It took: 118.14523220062256 seconds.\n",
      "[0.8626855140350133, 0.10691938502800163]\n"
     ]
    },
    {
     "name": "stderr",
     "output_type": "stream",
     "text": [
      "Initial filtering of formulas: 100%|██████████████| 2/2 [00:00<00:00, 62.33it/s]\n",
      "Computing chunks: 100%|████████████████████████| 2/2 [00:00<00:00, 82241.25it/s]\n",
      "Splitting the experimental spectrum into chunks: 131072it [00:00, 3437563.71it/s]\n",
      "Deconvolving chunks: 100%|███████████████████████| 1/1 [02:01<00:00, 121.02s/it]\n"
     ]
    },
    {
     "name": "stdout",
     "output_type": "stream",
     "text": [
      "Estimation for 0.29000000000000004 and 0.27 done\n",
      "It took: 121.15795278549194 seconds.\n",
      "[0.8626015470990133, 0.10686060096100164]\n"
     ]
    },
    {
     "name": "stderr",
     "output_type": "stream",
     "text": [
      "Initial filtering of formulas: 100%|██████████████| 2/2 [00:00<00:00, 64.16it/s]\n",
      "Computing chunks: 100%|████████████████████████| 2/2 [00:00<00:00, 90200.09it/s]\n",
      "Splitting the experimental spectrum into chunks: 131072it [00:00, 3514141.52it/s]\n",
      "Deconvolving chunks: 100%|███████████████████████| 1/1 [01:59<00:00, 119.40s/it]\n"
     ]
    },
    {
     "name": "stdout",
     "output_type": "stream",
     "text": [
      "Estimation for 0.29000000000000004 and 0.28 done\n",
      "It took: 119.54565000534058 seconds.\n",
      "[0.8623965097920132, 0.10683406137300164]\n"
     ]
    },
    {
     "name": "stderr",
     "output_type": "stream",
     "text": [
      "Initial filtering of formulas: 100%|██████████████| 2/2 [00:00<00:00, 51.74it/s]\n",
      "Computing chunks: 100%|████████████████████████| 2/2 [00:00<00:00, 89240.51it/s]\n",
      "Splitting the experimental spectrum into chunks: 131072it [00:00, 2913941.26it/s]\n",
      "Deconvolving chunks: 100%|███████████████████████| 1/1 [02:00<00:00, 120.61s/it]"
     ]
    },
    {
     "name": "stdout",
     "output_type": "stream",
     "text": [
      "Estimation for 0.29000000000000004 and 0.29000000000000004 done\n",
      "It took: 120.77412366867065 seconds.\n",
      "[0.8622436341560132, 0.10682540671400163]\n"
     ]
    },
    {
     "name": "stderr",
     "output_type": "stream",
     "text": [
      "\n"
     ]
    }
   ],
   "source": [
    "# list_of_estimation_results = []\n",
    "# for kappa in np.arange(start=lower_limit, stop=upper_limit, step=step):\n",
    "#     fixed_kappa = []\n",
    "#     for kappa_prime in np.arange(start=lower_limit, stop=upper_limit, step=step):\n",
    "#         start = time.time()\n",
    "#         estimation = estimate_proportions(mix, [comp0, comp1], \n",
    "#                                    MTD=kappa, MTD_th=kappa_prime, verbose=False, solver=pulp.GUROBI(msg=False))\n",
    "#         end = time.time()\n",
    "#         fixed_kappa.append(estimation['proportions'])\n",
    "#         print('Estimation for '+str(kappa)+' and '+str(kappa_prime)+' done')\n",
    "#         print('It took: '+str(end-start)+' seconds.')\n",
    "#         print(estimation['proportions'])\n",
    "#     list_of_estimation_results.append(fixed_kappa)"
   ]
  },
  {
   "cell_type": "code",
   "execution_count": 50,
   "id": "6c45b5ed",
   "metadata": {},
   "outputs": [],
   "source": [
    "# list_of_dataframes_with_results = []\n",
    "# for component_number in range(len([comp0, comp1])):\n",
    "#     results_for_component = pd.DataFrame(columns=np.arange(start=lower_limit, stop=upper_limit, step=step),\n",
    "#                                    index=np.arange(start=lower_limit, stop=upper_limit, step=step))\n",
    "#     for i in range(results_for_component.shape[0]):\n",
    "#         for j in range(results_for_component.shape[1]):\n",
    "#             results_for_component.iloc[i,j] = list_of_estimation_results[i][j][component_number]\n",
    "    \n",
    "#     list_of_dataframes_with_results.append(results_for_component)"
   ]
  },
  {
   "cell_type": "code",
   "execution_count": 53,
   "id": "4172352c",
   "metadata": {},
   "outputs": [],
   "source": [
    "# with open('results_for_different_kappas.pkl', 'wb') as f:\n",
    "#     pickle.dump(list_of_dataframes_with_results, f)"
   ]
  },
  {
   "cell_type": "markdown",
   "id": "04a447ef",
   "metadata": {},
   "source": [
    "#### Molar proportions"
   ]
  },
  {
   "cell_type": "code",
   "execution_count": 33,
   "id": "a9e597ca",
   "metadata": {},
   "outputs": [],
   "source": [
    "with open('results_for_different_kappas.pkl', 'rb') as f:\n",
    "    list_of_dataframes_with_results = pickle.load(f)\n",
    "#first coordinate: kappa,\n",
    "#second coordinate: kappa_prime"
   ]
  },
  {
   "cell_type": "code",
   "execution_count": 34,
   "id": "5b3bc36d",
   "metadata": {},
   "outputs": [],
   "source": [
    "temp = []\n",
    "for nr_of_component, df in enumerate(list_of_dataframes_with_results):\n",
    "    temp.append(df/protons[nr_of_component])\n",
    "temp2 = []\n",
    "for df in temp:\n",
    "    temp2.append(df/sum(temp))\n",
    "list_of_dataframes_with_results = temp2\n",
    "del(temp)\n",
    "del(temp2)"
   ]
  },
  {
   "cell_type": "code",
   "execution_count": 35,
   "id": "8e7a5c96",
   "metadata": {},
   "outputs": [],
   "source": [
    "dataframes_ready_for_heatmap = []\n",
    "for i, df in enumerate(list_of_dataframes_with_results):\n",
    "    preprocessed_df = abs(df - molar_proportions[i])\n",
    "    dataframes_ready_for_heatmap.append(preprocessed_df)"
   ]
  },
  {
   "cell_type": "code",
   "execution_count": 36,
   "id": "1e803683",
   "metadata": {},
   "outputs": [],
   "source": [
    "all_components_results_molar = sum(dataframes_ready_for_heatmap)"
   ]
  },
  {
   "cell_type": "markdown",
   "id": "77e8900a",
   "metadata": {},
   "source": [
    "#### Visible proportions"
   ]
  },
  {
   "cell_type": "code",
   "execution_count": 37,
   "id": "5df664ed",
   "metadata": {},
   "outputs": [],
   "source": [
    "with open('results_for_different_kappas.pkl', 'rb') as f:\n",
    "    list_of_dataframes_with_results = pickle.load(f)\n",
    "#first coordinate: kappa,\n",
    "#second coordinate: kappa_prime"
   ]
  },
  {
   "cell_type": "code",
   "execution_count": 38,
   "id": "505f4d3b",
   "metadata": {},
   "outputs": [],
   "source": [
    "dataframes_ready_for_heatmap = []\n",
    "for i, df in enumerate(list_of_dataframes_with_results):\n",
    "    preprocessed_df = abs(df - real_visible_proportions[i])\n",
    "    dataframes_ready_for_heatmap.append(preprocessed_df)"
   ]
  },
  {
   "cell_type": "code",
   "execution_count": 39,
   "id": "6761d082",
   "metadata": {},
   "outputs": [],
   "source": [
    "all_components_results_vis = sum(dataframes_ready_for_heatmap)"
   ]
  },
  {
   "cell_type": "markdown",
   "id": "00724665",
   "metadata": {},
   "source": [
    "#### Both together"
   ]
  },
  {
   "cell_type": "code",
   "execution_count": 40,
   "id": "25404ff1",
   "metadata": {},
   "outputs": [],
   "source": [
    "all_components_results_both = all_components_results_vis + all_components_results_molar"
   ]
  },
  {
   "cell_type": "code",
   "execution_count": 41,
   "id": "337f1c8e",
   "metadata": {},
   "outputs": [],
   "source": [
    "all_components_results_both = all_components_results_both.apply(pd.to_numeric, errors = 'coerce', axis=0)"
   ]
  },
  {
   "cell_type": "code",
   "execution_count": 59,
   "id": "d0a527cd",
   "metadata": {},
   "outputs": [
    {
     "data": {
      "text/plain": [
       "0.0200961758635283"
      ]
     },
     "execution_count": 59,
     "metadata": {},
     "output_type": "execute_result"
    }
   ],
   "source": [
    "all_components_results_both.min().min()"
   ]
  },
  {
   "cell_type": "code",
   "execution_count": 66,
   "id": "fd34e6af",
   "metadata": {},
   "outputs": [
    {
     "data": {
      "text/plain": [
       "0.0200961758635283"
      ]
     },
     "execution_count": 66,
     "metadata": {},
     "output_type": "execute_result"
    }
   ],
   "source": [
    "all_components_results_both[0.04][0.30]"
   ]
  },
  {
   "cell_type": "markdown",
   "id": "159afe20",
   "metadata": {},
   "source": [
    "### Saving preprocessed spectra"
   ]
  },
  {
   "cell_type": "code",
   "execution_count": 44,
   "id": "9fef8099",
   "metadata": {},
   "outputs": [],
   "source": [
    "# for i, sp in enumerate(spectra_and_mixture):\n",
    "#     try:\n",
    "#         np.savetxt('preprocessed_'+str(names[i])+'.csv', np.array(sp.confs), delimiter=',')\n",
    "#     except IndexError:\n",
    "#         np.savetxt('preprocessed_mix.csv', np.array(sp.confs), delimiter=',')"
   ]
  }
 ],
 "metadata": {
  "kernelspec": {
   "display_name": "Python 3 (ipykernel)",
   "language": "python",
   "name": "python3"
  },
  "language_info": {
   "codemirror_mode": {
    "name": "ipython",
    "version": 3
   },
   "file_extension": ".py",
   "mimetype": "text/x-python",
   "name": "python",
   "nbconvert_exporter": "python",
   "pygments_lexer": "ipython3",
   "version": "3.10.12"
  }
 },
 "nbformat": 4,
 "nbformat_minor": 5
}
