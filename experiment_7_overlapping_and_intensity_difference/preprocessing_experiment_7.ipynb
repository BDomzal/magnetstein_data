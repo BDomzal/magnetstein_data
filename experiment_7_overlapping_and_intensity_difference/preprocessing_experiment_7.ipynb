{
 "cells": [
  {
   "cell_type": "markdown",
   "id": "c0dda7bc",
   "metadata": {},
   "source": [
    "### Settings and imports"
   ]
  },
  {
   "cell_type": "code",
   "execution_count": 1,
   "id": "6490deb8",
   "metadata": {},
   "outputs": [],
   "source": [
    "%matplotlib notebook"
   ]
  },
  {
   "cell_type": "code",
   "execution_count": 2,
   "id": "18168f35",
   "metadata": {},
   "outputs": [],
   "source": [
    "import masserstein "
   ]
  },
  {
   "cell_type": "code",
   "execution_count": 3,
   "id": "547dfce4",
   "metadata": {},
   "outputs": [],
   "source": [
    "import os\n",
    "\n",
    "from masserstein import Spectrum, NMRSpectrum, estimate_proportions\n",
    "\n",
    "from matplotlib import pyplot as plt\n",
    "\n",
    "import numpy as np\n",
    "\n",
    "import pulp\n",
    "\n",
    "import pickle\n",
    "\n",
    "import seaborn as sns\n",
    "from textwrap import wrap\n",
    "\n",
    "import pandas as pd"
   ]
  },
  {
   "cell_type": "markdown",
   "id": "0a43c3c3",
   "metadata": {},
   "source": [
    "### Loading the data"
   ]
  },
  {
   "cell_type": "code",
   "execution_count": 4,
   "id": "d3dc96a1",
   "metadata": {},
   "outputs": [],
   "source": [
    "official_names = ['Benzyl_benzoate', 'm Anisaldehyde']"
   ]
  },
  {
   "cell_type": "code",
   "execution_count": 5,
   "id": "b83dd525",
   "metadata": {},
   "outputs": [
    {
     "data": {
      "text/plain": [
       "'/home/basia/Documents/spectroscopy/new_magnetstein_data/experiment_3_overlapping_and_intensity_difference'"
      ]
     },
     "execution_count": 5,
     "metadata": {},
     "output_type": "execute_result"
    }
   ],
   "source": [
    "os.getcwd()"
   ]
  },
  {
   "cell_type": "code",
   "execution_count": 6,
   "id": "1872b8e9",
   "metadata": {},
   "outputs": [],
   "source": [
    "mix = np.loadtxt(os.getcwd()+'/m_anisaldehyde_benzylbenzoate_nakrywajace_sie_I_dyzy_zakres+intensywnosci_pikow.csv', skiprows=0, usecols=range(2), \n",
    "                      delimiter='\\t',dtype=float)\n",
    "ppm = mix[:,0]\n",
    "mix = mix[:,1]\n",
    "\n",
    "comp = np.loadtxt(os.getcwd()+'/library.csv', skiprows=1, usecols=[0, 2, 4],\n",
    "                      delimiter='\\t',dtype=float)\n",
    "ppm_components = comp[:,0]\n",
    "components = comp[:,1:]"
   ]
  },
  {
   "cell_type": "code",
   "execution_count": 7,
   "id": "68d81855",
   "metadata": {},
   "outputs": [],
   "source": [
    "components_ints = []\n",
    "names = []\n",
    "for i in range(components.shape[1]):\n",
    "    components_ints.append(components[:,i])\n",
    "    names.append('comp'+str(i))"
   ]
  },
  {
   "cell_type": "code",
   "execution_count": 8,
   "id": "d54f971c",
   "metadata": {},
   "outputs": [],
   "source": [
    "spectra = []\n",
    "for comp_ints in components_ints:\n",
    "    spectra.append(NMRSpectrum(confs=list(zip(ppm_components, comp_ints))))"
   ]
  },
  {
   "cell_type": "code",
   "execution_count": 9,
   "id": "19aa278a",
   "metadata": {},
   "outputs": [],
   "source": [
    "mix = NMRSpectrum(confs=list(zip(ppm,mix)))"
   ]
  },
  {
   "cell_type": "code",
   "execution_count": 10,
   "id": "1f2c6229",
   "metadata": {},
   "outputs": [
    {
     "data": {
      "application/javascript": [
       "/* Put everything inside the global mpl namespace */\n",
       "/* global mpl */\n",
       "window.mpl = {};\n",
       "\n",
       "mpl.get_websocket_type = function () {\n",
       "    if (typeof WebSocket !== 'undefined') {\n",
       "        return WebSocket;\n",
       "    } else if (typeof MozWebSocket !== 'undefined') {\n",
       "        return MozWebSocket;\n",
       "    } else {\n",
       "        alert(\n",
       "            'Your browser does not have WebSocket support. ' +\n",
       "                'Please try Chrome, Safari or Firefox ≥ 6. ' +\n",
       "                'Firefox 4 and 5 are also supported but you ' +\n",
       "                'have to enable WebSockets in about:config.'\n",
       "        );\n",
       "    }\n",
       "};\n",
       "\n",
       "mpl.figure = function (figure_id, websocket, ondownload, parent_element) {\n",
       "    this.id = figure_id;\n",
       "\n",
       "    this.ws = websocket;\n",
       "\n",
       "    this.supports_binary = this.ws.binaryType !== undefined;\n",
       "\n",
       "    if (!this.supports_binary) {\n",
       "        var warnings = document.getElementById('mpl-warnings');\n",
       "        if (warnings) {\n",
       "            warnings.style.display = 'block';\n",
       "            warnings.textContent =\n",
       "                'This browser does not support binary websocket messages. ' +\n",
       "                'Performance may be slow.';\n",
       "        }\n",
       "    }\n",
       "\n",
       "    this.imageObj = new Image();\n",
       "\n",
       "    this.context = undefined;\n",
       "    this.message = undefined;\n",
       "    this.canvas = undefined;\n",
       "    this.rubberband_canvas = undefined;\n",
       "    this.rubberband_context = undefined;\n",
       "    this.format_dropdown = undefined;\n",
       "\n",
       "    this.image_mode = 'full';\n",
       "\n",
       "    this.root = document.createElement('div');\n",
       "    this.root.setAttribute('style', 'display: inline-block');\n",
       "    this._root_extra_style(this.root);\n",
       "\n",
       "    parent_element.appendChild(this.root);\n",
       "\n",
       "    this._init_header(this);\n",
       "    this._init_canvas(this);\n",
       "    this._init_toolbar(this);\n",
       "\n",
       "    var fig = this;\n",
       "\n",
       "    this.waiting = false;\n",
       "\n",
       "    this.ws.onopen = function () {\n",
       "        fig.send_message('supports_binary', { value: fig.supports_binary });\n",
       "        fig.send_message('send_image_mode', {});\n",
       "        if (fig.ratio !== 1) {\n",
       "            fig.send_message('set_device_pixel_ratio', {\n",
       "                device_pixel_ratio: fig.ratio,\n",
       "            });\n",
       "        }\n",
       "        fig.send_message('refresh', {});\n",
       "    };\n",
       "\n",
       "    this.imageObj.onload = function () {\n",
       "        if (fig.image_mode === 'full') {\n",
       "            // Full images could contain transparency (where diff images\n",
       "            // almost always do), so we need to clear the canvas so that\n",
       "            // there is no ghosting.\n",
       "            fig.context.clearRect(0, 0, fig.canvas.width, fig.canvas.height);\n",
       "        }\n",
       "        fig.context.drawImage(fig.imageObj, 0, 0);\n",
       "    };\n",
       "\n",
       "    this.imageObj.onunload = function () {\n",
       "        fig.ws.close();\n",
       "    };\n",
       "\n",
       "    this.ws.onmessage = this._make_on_message_function(this);\n",
       "\n",
       "    this.ondownload = ondownload;\n",
       "};\n",
       "\n",
       "mpl.figure.prototype._init_header = function () {\n",
       "    var titlebar = document.createElement('div');\n",
       "    titlebar.classList =\n",
       "        'ui-dialog-titlebar ui-widget-header ui-corner-all ui-helper-clearfix';\n",
       "    var titletext = document.createElement('div');\n",
       "    titletext.classList = 'ui-dialog-title';\n",
       "    titletext.setAttribute(\n",
       "        'style',\n",
       "        'width: 100%; text-align: center; padding: 3px;'\n",
       "    );\n",
       "    titlebar.appendChild(titletext);\n",
       "    this.root.appendChild(titlebar);\n",
       "    this.header = titletext;\n",
       "};\n",
       "\n",
       "mpl.figure.prototype._canvas_extra_style = function (_canvas_div) {};\n",
       "\n",
       "mpl.figure.prototype._root_extra_style = function (_canvas_div) {};\n",
       "\n",
       "mpl.figure.prototype._init_canvas = function () {\n",
       "    var fig = this;\n",
       "\n",
       "    var canvas_div = (this.canvas_div = document.createElement('div'));\n",
       "    canvas_div.setAttribute('tabindex', '0');\n",
       "    canvas_div.setAttribute(\n",
       "        'style',\n",
       "        'border: 1px solid #ddd;' +\n",
       "            'box-sizing: content-box;' +\n",
       "            'clear: both;' +\n",
       "            'min-height: 1px;' +\n",
       "            'min-width: 1px;' +\n",
       "            'outline: 0;' +\n",
       "            'overflow: hidden;' +\n",
       "            'position: relative;' +\n",
       "            'resize: both;' +\n",
       "            'z-index: 2;'\n",
       "    );\n",
       "\n",
       "    function on_keyboard_event_closure(name) {\n",
       "        return function (event) {\n",
       "            return fig.key_event(event, name);\n",
       "        };\n",
       "    }\n",
       "\n",
       "    canvas_div.addEventListener(\n",
       "        'keydown',\n",
       "        on_keyboard_event_closure('key_press')\n",
       "    );\n",
       "    canvas_div.addEventListener(\n",
       "        'keyup',\n",
       "        on_keyboard_event_closure('key_release')\n",
       "    );\n",
       "\n",
       "    this._canvas_extra_style(canvas_div);\n",
       "    this.root.appendChild(canvas_div);\n",
       "\n",
       "    var canvas = (this.canvas = document.createElement('canvas'));\n",
       "    canvas.classList.add('mpl-canvas');\n",
       "    canvas.setAttribute(\n",
       "        'style',\n",
       "        'box-sizing: content-box;' +\n",
       "            'pointer-events: none;' +\n",
       "            'position: relative;' +\n",
       "            'z-index: 0;'\n",
       "    );\n",
       "\n",
       "    this.context = canvas.getContext('2d');\n",
       "\n",
       "    var backingStore =\n",
       "        this.context.backingStorePixelRatio ||\n",
       "        this.context.webkitBackingStorePixelRatio ||\n",
       "        this.context.mozBackingStorePixelRatio ||\n",
       "        this.context.msBackingStorePixelRatio ||\n",
       "        this.context.oBackingStorePixelRatio ||\n",
       "        this.context.backingStorePixelRatio ||\n",
       "        1;\n",
       "\n",
       "    this.ratio = (window.devicePixelRatio || 1) / backingStore;\n",
       "\n",
       "    var rubberband_canvas = (this.rubberband_canvas = document.createElement(\n",
       "        'canvas'\n",
       "    ));\n",
       "    rubberband_canvas.setAttribute(\n",
       "        'style',\n",
       "        'box-sizing: content-box;' +\n",
       "            'left: 0;' +\n",
       "            'pointer-events: none;' +\n",
       "            'position: absolute;' +\n",
       "            'top: 0;' +\n",
       "            'z-index: 1;'\n",
       "    );\n",
       "\n",
       "    // Apply a ponyfill if ResizeObserver is not implemented by browser.\n",
       "    if (this.ResizeObserver === undefined) {\n",
       "        if (window.ResizeObserver !== undefined) {\n",
       "            this.ResizeObserver = window.ResizeObserver;\n",
       "        } else {\n",
       "            var obs = _JSXTOOLS_RESIZE_OBSERVER({});\n",
       "            this.ResizeObserver = obs.ResizeObserver;\n",
       "        }\n",
       "    }\n",
       "\n",
       "    this.resizeObserverInstance = new this.ResizeObserver(function (entries) {\n",
       "        var nentries = entries.length;\n",
       "        for (var i = 0; i < nentries; i++) {\n",
       "            var entry = entries[i];\n",
       "            var width, height;\n",
       "            if (entry.contentBoxSize) {\n",
       "                if (entry.contentBoxSize instanceof Array) {\n",
       "                    // Chrome 84 implements new version of spec.\n",
       "                    width = entry.contentBoxSize[0].inlineSize;\n",
       "                    height = entry.contentBoxSize[0].blockSize;\n",
       "                } else {\n",
       "                    // Firefox implements old version of spec.\n",
       "                    width = entry.contentBoxSize.inlineSize;\n",
       "                    height = entry.contentBoxSize.blockSize;\n",
       "                }\n",
       "            } else {\n",
       "                // Chrome <84 implements even older version of spec.\n",
       "                width = entry.contentRect.width;\n",
       "                height = entry.contentRect.height;\n",
       "            }\n",
       "\n",
       "            // Keep the size of the canvas and rubber band canvas in sync with\n",
       "            // the canvas container.\n",
       "            if (entry.devicePixelContentBoxSize) {\n",
       "                // Chrome 84 implements new version of spec.\n",
       "                canvas.setAttribute(\n",
       "                    'width',\n",
       "                    entry.devicePixelContentBoxSize[0].inlineSize\n",
       "                );\n",
       "                canvas.setAttribute(\n",
       "                    'height',\n",
       "                    entry.devicePixelContentBoxSize[0].blockSize\n",
       "                );\n",
       "            } else {\n",
       "                canvas.setAttribute('width', width * fig.ratio);\n",
       "                canvas.setAttribute('height', height * fig.ratio);\n",
       "            }\n",
       "            /* This rescales the canvas back to display pixels, so that it\n",
       "             * appears correct on HiDPI screens. */\n",
       "            canvas.style.width = width + 'px';\n",
       "            canvas.style.height = height + 'px';\n",
       "\n",
       "            rubberband_canvas.setAttribute('width', width);\n",
       "            rubberband_canvas.setAttribute('height', height);\n",
       "\n",
       "            // And update the size in Python. We ignore the initial 0/0 size\n",
       "            // that occurs as the element is placed into the DOM, which should\n",
       "            // otherwise not happen due to the minimum size styling.\n",
       "            if (fig.ws.readyState == 1 && width != 0 && height != 0) {\n",
       "                fig.request_resize(width, height);\n",
       "            }\n",
       "        }\n",
       "    });\n",
       "    this.resizeObserverInstance.observe(canvas_div);\n",
       "\n",
       "    function on_mouse_event_closure(name) {\n",
       "        /* User Agent sniffing is bad, but WebKit is busted:\n",
       "         * https://bugs.webkit.org/show_bug.cgi?id=144526\n",
       "         * https://bugs.webkit.org/show_bug.cgi?id=181818\n",
       "         * The worst that happens here is that they get an extra browser\n",
       "         * selection when dragging, if this check fails to catch them.\n",
       "         */\n",
       "        var UA = navigator.userAgent;\n",
       "        var isWebKit = /AppleWebKit/.test(UA) && !/Chrome/.test(UA);\n",
       "        if(isWebKit) {\n",
       "            return function (event) {\n",
       "                /* This prevents the web browser from automatically changing to\n",
       "                 * the text insertion cursor when the button is pressed. We\n",
       "                 * want to control all of the cursor setting manually through\n",
       "                 * the 'cursor' event from matplotlib */\n",
       "                event.preventDefault()\n",
       "                return fig.mouse_event(event, name);\n",
       "            };\n",
       "        } else {\n",
       "            return function (event) {\n",
       "                return fig.mouse_event(event, name);\n",
       "            };\n",
       "        }\n",
       "    }\n",
       "\n",
       "    canvas_div.addEventListener(\n",
       "        'mousedown',\n",
       "        on_mouse_event_closure('button_press')\n",
       "    );\n",
       "    canvas_div.addEventListener(\n",
       "        'mouseup',\n",
       "        on_mouse_event_closure('button_release')\n",
       "    );\n",
       "    canvas_div.addEventListener(\n",
       "        'dblclick',\n",
       "        on_mouse_event_closure('dblclick')\n",
       "    );\n",
       "    // Throttle sequential mouse events to 1 every 20ms.\n",
       "    canvas_div.addEventListener(\n",
       "        'mousemove',\n",
       "        on_mouse_event_closure('motion_notify')\n",
       "    );\n",
       "\n",
       "    canvas_div.addEventListener(\n",
       "        'mouseenter',\n",
       "        on_mouse_event_closure('figure_enter')\n",
       "    );\n",
       "    canvas_div.addEventListener(\n",
       "        'mouseleave',\n",
       "        on_mouse_event_closure('figure_leave')\n",
       "    );\n",
       "\n",
       "    canvas_div.addEventListener('wheel', function (event) {\n",
       "        if (event.deltaY < 0) {\n",
       "            event.step = 1;\n",
       "        } else {\n",
       "            event.step = -1;\n",
       "        }\n",
       "        on_mouse_event_closure('scroll')(event);\n",
       "    });\n",
       "\n",
       "    canvas_div.appendChild(canvas);\n",
       "    canvas_div.appendChild(rubberband_canvas);\n",
       "\n",
       "    this.rubberband_context = rubberband_canvas.getContext('2d');\n",
       "    this.rubberband_context.strokeStyle = '#000000';\n",
       "\n",
       "    this._resize_canvas = function (width, height, forward) {\n",
       "        if (forward) {\n",
       "            canvas_div.style.width = width + 'px';\n",
       "            canvas_div.style.height = height + 'px';\n",
       "        }\n",
       "    };\n",
       "\n",
       "    // Disable right mouse context menu.\n",
       "    canvas_div.addEventListener('contextmenu', function (_e) {\n",
       "        event.preventDefault();\n",
       "        return false;\n",
       "    });\n",
       "\n",
       "    function set_focus() {\n",
       "        canvas.focus();\n",
       "        canvas_div.focus();\n",
       "    }\n",
       "\n",
       "    window.setTimeout(set_focus, 100);\n",
       "};\n",
       "\n",
       "mpl.figure.prototype._init_toolbar = function () {\n",
       "    var fig = this;\n",
       "\n",
       "    var toolbar = document.createElement('div');\n",
       "    toolbar.classList = 'mpl-toolbar';\n",
       "    this.root.appendChild(toolbar);\n",
       "\n",
       "    function on_click_closure(name) {\n",
       "        return function (_event) {\n",
       "            return fig.toolbar_button_onclick(name);\n",
       "        };\n",
       "    }\n",
       "\n",
       "    function on_mouseover_closure(tooltip) {\n",
       "        return function (event) {\n",
       "            if (!event.currentTarget.disabled) {\n",
       "                return fig.toolbar_button_onmouseover(tooltip);\n",
       "            }\n",
       "        };\n",
       "    }\n",
       "\n",
       "    fig.buttons = {};\n",
       "    var buttonGroup = document.createElement('div');\n",
       "    buttonGroup.classList = 'mpl-button-group';\n",
       "    for (var toolbar_ind in mpl.toolbar_items) {\n",
       "        var name = mpl.toolbar_items[toolbar_ind][0];\n",
       "        var tooltip = mpl.toolbar_items[toolbar_ind][1];\n",
       "        var image = mpl.toolbar_items[toolbar_ind][2];\n",
       "        var method_name = mpl.toolbar_items[toolbar_ind][3];\n",
       "\n",
       "        if (!name) {\n",
       "            /* Instead of a spacer, we start a new button group. */\n",
       "            if (buttonGroup.hasChildNodes()) {\n",
       "                toolbar.appendChild(buttonGroup);\n",
       "            }\n",
       "            buttonGroup = document.createElement('div');\n",
       "            buttonGroup.classList = 'mpl-button-group';\n",
       "            continue;\n",
       "        }\n",
       "\n",
       "        var button = (fig.buttons[name] = document.createElement('button'));\n",
       "        button.classList = 'mpl-widget';\n",
       "        button.setAttribute('role', 'button');\n",
       "        button.setAttribute('aria-disabled', 'false');\n",
       "        button.addEventListener('click', on_click_closure(method_name));\n",
       "        button.addEventListener('mouseover', on_mouseover_closure(tooltip));\n",
       "\n",
       "        var icon_img = document.createElement('img');\n",
       "        icon_img.src = '_images/' + image + '.png';\n",
       "        icon_img.srcset = '_images/' + image + '_large.png 2x';\n",
       "        icon_img.alt = tooltip;\n",
       "        button.appendChild(icon_img);\n",
       "\n",
       "        buttonGroup.appendChild(button);\n",
       "    }\n",
       "\n",
       "    if (buttonGroup.hasChildNodes()) {\n",
       "        toolbar.appendChild(buttonGroup);\n",
       "    }\n",
       "\n",
       "    var fmt_picker = document.createElement('select');\n",
       "    fmt_picker.classList = 'mpl-widget';\n",
       "    toolbar.appendChild(fmt_picker);\n",
       "    this.format_dropdown = fmt_picker;\n",
       "\n",
       "    for (var ind in mpl.extensions) {\n",
       "        var fmt = mpl.extensions[ind];\n",
       "        var option = document.createElement('option');\n",
       "        option.selected = fmt === mpl.default_extension;\n",
       "        option.innerHTML = fmt;\n",
       "        fmt_picker.appendChild(option);\n",
       "    }\n",
       "\n",
       "    var status_bar = document.createElement('span');\n",
       "    status_bar.classList = 'mpl-message';\n",
       "    toolbar.appendChild(status_bar);\n",
       "    this.message = status_bar;\n",
       "};\n",
       "\n",
       "mpl.figure.prototype.request_resize = function (x_pixels, y_pixels) {\n",
       "    // Request matplotlib to resize the figure. Matplotlib will then trigger a resize in the client,\n",
       "    // which will in turn request a refresh of the image.\n",
       "    this.send_message('resize', { width: x_pixels, height: y_pixels });\n",
       "};\n",
       "\n",
       "mpl.figure.prototype.send_message = function (type, properties) {\n",
       "    properties['type'] = type;\n",
       "    properties['figure_id'] = this.id;\n",
       "    this.ws.send(JSON.stringify(properties));\n",
       "};\n",
       "\n",
       "mpl.figure.prototype.send_draw_message = function () {\n",
       "    if (!this.waiting) {\n",
       "        this.waiting = true;\n",
       "        this.ws.send(JSON.stringify({ type: 'draw', figure_id: this.id }));\n",
       "    }\n",
       "};\n",
       "\n",
       "mpl.figure.prototype.handle_save = function (fig, _msg) {\n",
       "    var format_dropdown = fig.format_dropdown;\n",
       "    var format = format_dropdown.options[format_dropdown.selectedIndex].value;\n",
       "    fig.ondownload(fig, format);\n",
       "};\n",
       "\n",
       "mpl.figure.prototype.handle_resize = function (fig, msg) {\n",
       "    var size = msg['size'];\n",
       "    if (size[0] !== fig.canvas.width || size[1] !== fig.canvas.height) {\n",
       "        fig._resize_canvas(size[0], size[1], msg['forward']);\n",
       "        fig.send_message('refresh', {});\n",
       "    }\n",
       "};\n",
       "\n",
       "mpl.figure.prototype.handle_rubberband = function (fig, msg) {\n",
       "    var x0 = msg['x0'] / fig.ratio;\n",
       "    var y0 = (fig.canvas.height - msg['y0']) / fig.ratio;\n",
       "    var x1 = msg['x1'] / fig.ratio;\n",
       "    var y1 = (fig.canvas.height - msg['y1']) / fig.ratio;\n",
       "    x0 = Math.floor(x0) + 0.5;\n",
       "    y0 = Math.floor(y0) + 0.5;\n",
       "    x1 = Math.floor(x1) + 0.5;\n",
       "    y1 = Math.floor(y1) + 0.5;\n",
       "    var min_x = Math.min(x0, x1);\n",
       "    var min_y = Math.min(y0, y1);\n",
       "    var width = Math.abs(x1 - x0);\n",
       "    var height = Math.abs(y1 - y0);\n",
       "\n",
       "    fig.rubberband_context.clearRect(\n",
       "        0,\n",
       "        0,\n",
       "        fig.canvas.width / fig.ratio,\n",
       "        fig.canvas.height / fig.ratio\n",
       "    );\n",
       "\n",
       "    fig.rubberband_context.strokeRect(min_x, min_y, width, height);\n",
       "};\n",
       "\n",
       "mpl.figure.prototype.handle_figure_label = function (fig, msg) {\n",
       "    // Updates the figure title.\n",
       "    fig.header.textContent = msg['label'];\n",
       "};\n",
       "\n",
       "mpl.figure.prototype.handle_cursor = function (fig, msg) {\n",
       "    fig.canvas_div.style.cursor = msg['cursor'];\n",
       "};\n",
       "\n",
       "mpl.figure.prototype.handle_message = function (fig, msg) {\n",
       "    fig.message.textContent = msg['message'];\n",
       "};\n",
       "\n",
       "mpl.figure.prototype.handle_draw = function (fig, _msg) {\n",
       "    // Request the server to send over a new figure.\n",
       "    fig.send_draw_message();\n",
       "};\n",
       "\n",
       "mpl.figure.prototype.handle_image_mode = function (fig, msg) {\n",
       "    fig.image_mode = msg['mode'];\n",
       "};\n",
       "\n",
       "mpl.figure.prototype.handle_history_buttons = function (fig, msg) {\n",
       "    for (var key in msg) {\n",
       "        if (!(key in fig.buttons)) {\n",
       "            continue;\n",
       "        }\n",
       "        fig.buttons[key].disabled = !msg[key];\n",
       "        fig.buttons[key].setAttribute('aria-disabled', !msg[key]);\n",
       "    }\n",
       "};\n",
       "\n",
       "mpl.figure.prototype.handle_navigate_mode = function (fig, msg) {\n",
       "    if (msg['mode'] === 'PAN') {\n",
       "        fig.buttons['Pan'].classList.add('active');\n",
       "        fig.buttons['Zoom'].classList.remove('active');\n",
       "    } else if (msg['mode'] === 'ZOOM') {\n",
       "        fig.buttons['Pan'].classList.remove('active');\n",
       "        fig.buttons['Zoom'].classList.add('active');\n",
       "    } else {\n",
       "        fig.buttons['Pan'].classList.remove('active');\n",
       "        fig.buttons['Zoom'].classList.remove('active');\n",
       "    }\n",
       "};\n",
       "\n",
       "mpl.figure.prototype.updated_canvas_event = function () {\n",
       "    // Called whenever the canvas gets updated.\n",
       "    this.send_message('ack', {});\n",
       "};\n",
       "\n",
       "// A function to construct a web socket function for onmessage handling.\n",
       "// Called in the figure constructor.\n",
       "mpl.figure.prototype._make_on_message_function = function (fig) {\n",
       "    return function socket_on_message(evt) {\n",
       "        if (evt.data instanceof Blob) {\n",
       "            var img = evt.data;\n",
       "            if (img.type !== 'image/png') {\n",
       "                /* FIXME: We get \"Resource interpreted as Image but\n",
       "                 * transferred with MIME type text/plain:\" errors on\n",
       "                 * Chrome.  But how to set the MIME type?  It doesn't seem\n",
       "                 * to be part of the websocket stream */\n",
       "                img.type = 'image/png';\n",
       "            }\n",
       "\n",
       "            /* Free the memory for the previous frames */\n",
       "            if (fig.imageObj.src) {\n",
       "                (window.URL || window.webkitURL).revokeObjectURL(\n",
       "                    fig.imageObj.src\n",
       "                );\n",
       "            }\n",
       "\n",
       "            fig.imageObj.src = (window.URL || window.webkitURL).createObjectURL(\n",
       "                img\n",
       "            );\n",
       "            fig.updated_canvas_event();\n",
       "            fig.waiting = false;\n",
       "            return;\n",
       "        } else if (\n",
       "            typeof evt.data === 'string' &&\n",
       "            evt.data.slice(0, 21) === 'data:image/png;base64'\n",
       "        ) {\n",
       "            fig.imageObj.src = evt.data;\n",
       "            fig.updated_canvas_event();\n",
       "            fig.waiting = false;\n",
       "            return;\n",
       "        }\n",
       "\n",
       "        var msg = JSON.parse(evt.data);\n",
       "        var msg_type = msg['type'];\n",
       "\n",
       "        // Call the  \"handle_{type}\" callback, which takes\n",
       "        // the figure and JSON message as its only arguments.\n",
       "        try {\n",
       "            var callback = fig['handle_' + msg_type];\n",
       "        } catch (e) {\n",
       "            console.log(\n",
       "                \"No handler for the '\" + msg_type + \"' message type: \",\n",
       "                msg\n",
       "            );\n",
       "            return;\n",
       "        }\n",
       "\n",
       "        if (callback) {\n",
       "            try {\n",
       "                // console.log(\"Handling '\" + msg_type + \"' message: \", msg);\n",
       "                callback(fig, msg);\n",
       "            } catch (e) {\n",
       "                console.log(\n",
       "                    \"Exception inside the 'handler_\" + msg_type + \"' callback:\",\n",
       "                    e,\n",
       "                    e.stack,\n",
       "                    msg\n",
       "                );\n",
       "            }\n",
       "        }\n",
       "    };\n",
       "};\n",
       "\n",
       "\n",
       "/*\n",
       " * return a copy of an object with only non-object keys\n",
       " * we need this to avoid circular references\n",
       " * https://stackoverflow.com/a/24161582/3208463\n",
       " */\n",
       "function simpleKeys(original) {\n",
       "    return Object.keys(original).reduce(function (obj, key) {\n",
       "        if (typeof original[key] !== 'object') {\n",
       "            obj[key] = original[key];\n",
       "        }\n",
       "        return obj;\n",
       "    }, {});\n",
       "}\n",
       "\n",
       "mpl.figure.prototype.mouse_event = function (event, name) {\n",
       "    if (name === 'button_press') {\n",
       "        this.canvas.focus();\n",
       "        this.canvas_div.focus();\n",
       "    }\n",
       "\n",
       "    // from https://stackoverflow.com/q/1114465\n",
       "    var boundingRect = this.canvas.getBoundingClientRect();\n",
       "    var x = (event.clientX - boundingRect.left) * this.ratio;\n",
       "    var y = (event.clientY - boundingRect.top) * this.ratio;\n",
       "\n",
       "    this.send_message(name, {\n",
       "        x: x,\n",
       "        y: y,\n",
       "        button: event.button,\n",
       "        step: event.step,\n",
       "        guiEvent: simpleKeys(event),\n",
       "    });\n",
       "\n",
       "    return false;\n",
       "};\n",
       "\n",
       "mpl.figure.prototype._key_event_extra = function (_event, _name) {\n",
       "    // Handle any extra behaviour associated with a key event\n",
       "};\n",
       "\n",
       "mpl.figure.prototype.key_event = function (event, name) {\n",
       "    // Prevent repeat events\n",
       "    if (name === 'key_press') {\n",
       "        if (event.key === this._key) {\n",
       "            return;\n",
       "        } else {\n",
       "            this._key = event.key;\n",
       "        }\n",
       "    }\n",
       "    if (name === 'key_release') {\n",
       "        this._key = null;\n",
       "    }\n",
       "\n",
       "    var value = '';\n",
       "    if (event.ctrlKey && event.key !== 'Control') {\n",
       "        value += 'ctrl+';\n",
       "    }\n",
       "    else if (event.altKey && event.key !== 'Alt') {\n",
       "        value += 'alt+';\n",
       "    }\n",
       "    else if (event.shiftKey && event.key !== 'Shift') {\n",
       "        value += 'shift+';\n",
       "    }\n",
       "\n",
       "    value += 'k' + event.key;\n",
       "\n",
       "    this._key_event_extra(event, name);\n",
       "\n",
       "    this.send_message(name, { key: value, guiEvent: simpleKeys(event) });\n",
       "    return false;\n",
       "};\n",
       "\n",
       "mpl.figure.prototype.toolbar_button_onclick = function (name) {\n",
       "    if (name === 'download') {\n",
       "        this.handle_save(this, null);\n",
       "    } else {\n",
       "        this.send_message('toolbar_button', { name: name });\n",
       "    }\n",
       "};\n",
       "\n",
       "mpl.figure.prototype.toolbar_button_onmouseover = function (tooltip) {\n",
       "    this.message.textContent = tooltip;\n",
       "};\n",
       "\n",
       "///////////////// REMAINING CONTENT GENERATED BY embed_js.py /////////////////\n",
       "// prettier-ignore\n",
       "var _JSXTOOLS_RESIZE_OBSERVER=function(A){var t,i=new WeakMap,n=new WeakMap,a=new WeakMap,r=new WeakMap,o=new Set;function s(e){if(!(this instanceof s))throw new TypeError(\"Constructor requires 'new' operator\");i.set(this,e)}function h(){throw new TypeError(\"Function is not a constructor\")}function c(e,t,i,n){e=0 in arguments?Number(arguments[0]):0,t=1 in arguments?Number(arguments[1]):0,i=2 in arguments?Number(arguments[2]):0,n=3 in arguments?Number(arguments[3]):0,this.right=(this.x=this.left=e)+(this.width=i),this.bottom=(this.y=this.top=t)+(this.height=n),Object.freeze(this)}function d(){t=requestAnimationFrame(d);var s=new WeakMap,p=new Set;o.forEach((function(t){r.get(t).forEach((function(i){var r=t instanceof window.SVGElement,o=a.get(t),d=r?0:parseFloat(o.paddingTop),f=r?0:parseFloat(o.paddingRight),l=r?0:parseFloat(o.paddingBottom),u=r?0:parseFloat(o.paddingLeft),g=r?0:parseFloat(o.borderTopWidth),m=r?0:parseFloat(o.borderRightWidth),w=r?0:parseFloat(o.borderBottomWidth),b=u+f,F=d+l,v=(r?0:parseFloat(o.borderLeftWidth))+m,W=g+w,y=r?0:t.offsetHeight-W-t.clientHeight,E=r?0:t.offsetWidth-v-t.clientWidth,R=b+v,z=F+W,M=r?t.width:parseFloat(o.width)-R-E,O=r?t.height:parseFloat(o.height)-z-y;if(n.has(t)){var k=n.get(t);if(k[0]===M&&k[1]===O)return}n.set(t,[M,O]);var S=Object.create(h.prototype);S.target=t,S.contentRect=new c(u,d,M,O),s.has(i)||(s.set(i,[]),p.add(i)),s.get(i).push(S)}))})),p.forEach((function(e){i.get(e).call(e,s.get(e),e)}))}return s.prototype.observe=function(i){if(i instanceof window.Element){r.has(i)||(r.set(i,new Set),o.add(i),a.set(i,window.getComputedStyle(i)));var n=r.get(i);n.has(this)||n.add(this),cancelAnimationFrame(t),t=requestAnimationFrame(d)}},s.prototype.unobserve=function(i){if(i instanceof window.Element&&r.has(i)){var n=r.get(i);n.has(this)&&(n.delete(this),n.size||(r.delete(i),o.delete(i))),n.size||r.delete(i),o.size||cancelAnimationFrame(t)}},A.DOMRectReadOnly=c,A.ResizeObserver=s,A.ResizeObserverEntry=h,A}; // eslint-disable-line\n",
       "mpl.toolbar_items = [[\"Home\", \"Reset original view\", \"fa fa-home\", \"home\"], [\"Back\", \"Back to previous view\", \"fa fa-arrow-left\", \"back\"], [\"Forward\", \"Forward to next view\", \"fa fa-arrow-right\", \"forward\"], [\"\", \"\", \"\", \"\"], [\"Pan\", \"Left button pans, Right button zooms\\nx/y fixes axis, CTRL fixes aspect\", \"fa fa-arrows\", \"pan\"], [\"Zoom\", \"Zoom to rectangle\\nx/y fixes axis\", \"fa fa-square-o\", \"zoom\"], [\"\", \"\", \"\", \"\"], [\"Download\", \"Download plot\", \"fa fa-floppy-o\", \"download\"]];\n",
       "\n",
       "mpl.extensions = [\"eps\", \"jpeg\", \"pgf\", \"pdf\", \"png\", \"ps\", \"raw\", \"svg\", \"tif\", \"webp\"];\n",
       "\n",
       "mpl.default_extension = \"png\";/* global mpl */\n",
       "\n",
       "var comm_websocket_adapter = function (comm) {\n",
       "    // Create a \"websocket\"-like object which calls the given IPython comm\n",
       "    // object with the appropriate methods. Currently this is a non binary\n",
       "    // socket, so there is still some room for performance tuning.\n",
       "    var ws = {};\n",
       "\n",
       "    ws.binaryType = comm.kernel.ws.binaryType;\n",
       "    ws.readyState = comm.kernel.ws.readyState;\n",
       "    function updateReadyState(_event) {\n",
       "        if (comm.kernel.ws) {\n",
       "            ws.readyState = comm.kernel.ws.readyState;\n",
       "        } else {\n",
       "            ws.readyState = 3; // Closed state.\n",
       "        }\n",
       "    }\n",
       "    comm.kernel.ws.addEventListener('open', updateReadyState);\n",
       "    comm.kernel.ws.addEventListener('close', updateReadyState);\n",
       "    comm.kernel.ws.addEventListener('error', updateReadyState);\n",
       "\n",
       "    ws.close = function () {\n",
       "        comm.close();\n",
       "    };\n",
       "    ws.send = function (m) {\n",
       "        //console.log('sending', m);\n",
       "        comm.send(m);\n",
       "    };\n",
       "    // Register the callback with on_msg.\n",
       "    comm.on_msg(function (msg) {\n",
       "        //console.log('receiving', msg['content']['data'], msg);\n",
       "        var data = msg['content']['data'];\n",
       "        if (data['blob'] !== undefined) {\n",
       "            data = {\n",
       "                data: new Blob(msg['buffers'], { type: data['blob'] }),\n",
       "            };\n",
       "        }\n",
       "        // Pass the mpl event to the overridden (by mpl) onmessage function.\n",
       "        ws.onmessage(data);\n",
       "    });\n",
       "    return ws;\n",
       "};\n",
       "\n",
       "mpl.mpl_figure_comm = function (comm, msg) {\n",
       "    // This is the function which gets called when the mpl process\n",
       "    // starts-up an IPython Comm through the \"matplotlib\" channel.\n",
       "\n",
       "    var id = msg.content.data.id;\n",
       "    // Get hold of the div created by the display call when the Comm\n",
       "    // socket was opened in Python.\n",
       "    var element = document.getElementById(id);\n",
       "    var ws_proxy = comm_websocket_adapter(comm);\n",
       "\n",
       "    function ondownload(figure, _format) {\n",
       "        window.open(figure.canvas.toDataURL());\n",
       "    }\n",
       "\n",
       "    var fig = new mpl.figure(id, ws_proxy, ondownload, element);\n",
       "\n",
       "    // Call onopen now - mpl needs it, as it is assuming we've passed it a real\n",
       "    // web socket which is closed, not our websocket->open comm proxy.\n",
       "    ws_proxy.onopen();\n",
       "\n",
       "    fig.parent_element = element;\n",
       "    fig.cell_info = mpl.find_output_cell(\"<div id='\" + id + \"'></div>\");\n",
       "    if (!fig.cell_info) {\n",
       "        console.error('Failed to find cell for figure', id, fig);\n",
       "        return;\n",
       "    }\n",
       "    fig.cell_info[0].output_area.element.on(\n",
       "        'cleared',\n",
       "        { fig: fig },\n",
       "        fig._remove_fig_handler\n",
       "    );\n",
       "};\n",
       "\n",
       "mpl.figure.prototype.handle_close = function (fig, msg) {\n",
       "    var width = fig.canvas.width / fig.ratio;\n",
       "    fig.cell_info[0].output_area.element.off(\n",
       "        'cleared',\n",
       "        fig._remove_fig_handler\n",
       "    );\n",
       "    fig.resizeObserverInstance.unobserve(fig.canvas_div);\n",
       "\n",
       "    // Update the output cell to use the data from the current canvas.\n",
       "    fig.push_to_output();\n",
       "    var dataURL = fig.canvas.toDataURL();\n",
       "    // Re-enable the keyboard manager in IPython - without this line, in FF,\n",
       "    // the notebook keyboard shortcuts fail.\n",
       "    IPython.keyboard_manager.enable();\n",
       "    fig.parent_element.innerHTML =\n",
       "        '<img src=\"' + dataURL + '\" width=\"' + width + '\">';\n",
       "    fig.close_ws(fig, msg);\n",
       "};\n",
       "\n",
       "mpl.figure.prototype.close_ws = function (fig, msg) {\n",
       "    fig.send_message('closing', msg);\n",
       "    // fig.ws.close()\n",
       "};\n",
       "\n",
       "mpl.figure.prototype.push_to_output = function (_remove_interactive) {\n",
       "    // Turn the data on the canvas into data in the output cell.\n",
       "    var width = this.canvas.width / this.ratio;\n",
       "    var dataURL = this.canvas.toDataURL();\n",
       "    this.cell_info[1]['text/html'] =\n",
       "        '<img src=\"' + dataURL + '\" width=\"' + width + '\">';\n",
       "};\n",
       "\n",
       "mpl.figure.prototype.updated_canvas_event = function () {\n",
       "    // Tell IPython that the notebook contents must change.\n",
       "    IPython.notebook.set_dirty(true);\n",
       "    this.send_message('ack', {});\n",
       "    var fig = this;\n",
       "    // Wait a second, then push the new image to the DOM so\n",
       "    // that it is saved nicely (might be nice to debounce this).\n",
       "    setTimeout(function () {\n",
       "        fig.push_to_output();\n",
       "    }, 1000);\n",
       "};\n",
       "\n",
       "mpl.figure.prototype._init_toolbar = function () {\n",
       "    var fig = this;\n",
       "\n",
       "    var toolbar = document.createElement('div');\n",
       "    toolbar.classList = 'btn-toolbar';\n",
       "    this.root.appendChild(toolbar);\n",
       "\n",
       "    function on_click_closure(name) {\n",
       "        return function (_event) {\n",
       "            return fig.toolbar_button_onclick(name);\n",
       "        };\n",
       "    }\n",
       "\n",
       "    function on_mouseover_closure(tooltip) {\n",
       "        return function (event) {\n",
       "            if (!event.currentTarget.disabled) {\n",
       "                return fig.toolbar_button_onmouseover(tooltip);\n",
       "            }\n",
       "        };\n",
       "    }\n",
       "\n",
       "    fig.buttons = {};\n",
       "    var buttonGroup = document.createElement('div');\n",
       "    buttonGroup.classList = 'btn-group';\n",
       "    var button;\n",
       "    for (var toolbar_ind in mpl.toolbar_items) {\n",
       "        var name = mpl.toolbar_items[toolbar_ind][0];\n",
       "        var tooltip = mpl.toolbar_items[toolbar_ind][1];\n",
       "        var image = mpl.toolbar_items[toolbar_ind][2];\n",
       "        var method_name = mpl.toolbar_items[toolbar_ind][3];\n",
       "\n",
       "        if (!name) {\n",
       "            /* Instead of a spacer, we start a new button group. */\n",
       "            if (buttonGroup.hasChildNodes()) {\n",
       "                toolbar.appendChild(buttonGroup);\n",
       "            }\n",
       "            buttonGroup = document.createElement('div');\n",
       "            buttonGroup.classList = 'btn-group';\n",
       "            continue;\n",
       "        }\n",
       "\n",
       "        button = fig.buttons[name] = document.createElement('button');\n",
       "        button.classList = 'btn btn-default';\n",
       "        button.href = '#';\n",
       "        button.title = name;\n",
       "        button.innerHTML = '<i class=\"fa ' + image + ' fa-lg\"></i>';\n",
       "        button.addEventListener('click', on_click_closure(method_name));\n",
       "        button.addEventListener('mouseover', on_mouseover_closure(tooltip));\n",
       "        buttonGroup.appendChild(button);\n",
       "    }\n",
       "\n",
       "    if (buttonGroup.hasChildNodes()) {\n",
       "        toolbar.appendChild(buttonGroup);\n",
       "    }\n",
       "\n",
       "    // Add the status bar.\n",
       "    var status_bar = document.createElement('span');\n",
       "    status_bar.classList = 'mpl-message pull-right';\n",
       "    toolbar.appendChild(status_bar);\n",
       "    this.message = status_bar;\n",
       "\n",
       "    // Add the close button to the window.\n",
       "    var buttongrp = document.createElement('div');\n",
       "    buttongrp.classList = 'btn-group inline pull-right';\n",
       "    button = document.createElement('button');\n",
       "    button.classList = 'btn btn-mini btn-primary';\n",
       "    button.href = '#';\n",
       "    button.title = 'Stop Interaction';\n",
       "    button.innerHTML = '<i class=\"fa fa-power-off icon-remove icon-large\"></i>';\n",
       "    button.addEventListener('click', function (_evt) {\n",
       "        fig.handle_close(fig, {});\n",
       "    });\n",
       "    button.addEventListener(\n",
       "        'mouseover',\n",
       "        on_mouseover_closure('Stop Interaction')\n",
       "    );\n",
       "    buttongrp.appendChild(button);\n",
       "    var titlebar = this.root.querySelector('.ui-dialog-titlebar');\n",
       "    titlebar.insertBefore(buttongrp, titlebar.firstChild);\n",
       "};\n",
       "\n",
       "mpl.figure.prototype._remove_fig_handler = function (event) {\n",
       "    var fig = event.data.fig;\n",
       "    if (event.target !== this) {\n",
       "        // Ignore bubbled events from children.\n",
       "        return;\n",
       "    }\n",
       "    fig.close_ws(fig, {});\n",
       "};\n",
       "\n",
       "mpl.figure.prototype._root_extra_style = function (el) {\n",
       "    el.style.boxSizing = 'content-box'; // override notebook setting of border-box.\n",
       "};\n",
       "\n",
       "mpl.figure.prototype._canvas_extra_style = function (el) {\n",
       "    // this is important to make the div 'focusable\n",
       "    el.setAttribute('tabindex', 0);\n",
       "    // reach out to IPython and tell the keyboard manager to turn it's self\n",
       "    // off when our div gets focus\n",
       "\n",
       "    // location in version 3\n",
       "    if (IPython.notebook.keyboard_manager) {\n",
       "        IPython.notebook.keyboard_manager.register_events(el);\n",
       "    } else {\n",
       "        // location in version 2\n",
       "        IPython.keyboard_manager.register_events(el);\n",
       "    }\n",
       "};\n",
       "\n",
       "mpl.figure.prototype._key_event_extra = function (event, _name) {\n",
       "    // Check for shift+enter\n",
       "    if (event.shiftKey && event.which === 13) {\n",
       "        this.canvas_div.blur();\n",
       "        // select the cell after this one\n",
       "        var index = IPython.notebook.find_cell_index(this.cell_info[0]);\n",
       "        IPython.notebook.select(index + 1);\n",
       "    }\n",
       "};\n",
       "\n",
       "mpl.figure.prototype.handle_save = function (fig, _msg) {\n",
       "    fig.ondownload(fig, null);\n",
       "};\n",
       "\n",
       "mpl.find_output_cell = function (html_output) {\n",
       "    // Return the cell and output element which can be found *uniquely* in the notebook.\n",
       "    // Note - this is a bit hacky, but it is done because the \"notebook_saving.Notebook\"\n",
       "    // IPython event is triggered only after the cells have been serialised, which for\n",
       "    // our purposes (turning an active figure into a static one), is too late.\n",
       "    var cells = IPython.notebook.get_cells();\n",
       "    var ncells = cells.length;\n",
       "    for (var i = 0; i < ncells; i++) {\n",
       "        var cell = cells[i];\n",
       "        if (cell.cell_type === 'code') {\n",
       "            for (var j = 0; j < cell.output_area.outputs.length; j++) {\n",
       "                var data = cell.output_area.outputs[j];\n",
       "                if (data.data) {\n",
       "                    // IPython >= 3 moved mimebundle to data attribute of output\n",
       "                    data = data.data;\n",
       "                }\n",
       "                if (data['text/html'] === html_output) {\n",
       "                    return [cell, data, j];\n",
       "                }\n",
       "            }\n",
       "        }\n",
       "    }\n",
       "};\n",
       "\n",
       "// Register the function which deals with the matplotlib target/channel.\n",
       "// The kernel may be null if the page has been refreshed.\n",
       "if (IPython.notebook.kernel !== null) {\n",
       "    IPython.notebook.kernel.comm_manager.register_target(\n",
       "        'matplotlib',\n",
       "        mpl.mpl_figure_comm\n",
       "    );\n",
       "}\n"
      ],
      "text/plain": [
       "<IPython.core.display.Javascript object>"
      ]
     },
     "metadata": {},
     "output_type": "display_data"
    },
    {
     "data": {
      "text/html": [
       "<img src=\"data:image/png;base64,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\" width=\"640\">"
      ],
      "text/plain": [
       "<IPython.core.display.HTML object>"
      ]
     },
     "metadata": {},
     "output_type": "display_data"
    }
   ],
   "source": [
    "mix.plot(profile=True)\n",
    "spectra[0].plot(profile=True)\n",
    "spectra[1].plot(profile=True)"
   ]
  },
  {
   "cell_type": "markdown",
   "id": "17b48f56",
   "metadata": {},
   "source": [
    "### Ground truth"
   ]
  },
  {
   "cell_type": "code",
   "execution_count": 11,
   "id": "fba9b85c",
   "metadata": {},
   "outputs": [],
   "source": [
    "protons = [12, 8]\n",
    "mass_proportions = [0.8914, 0.1086]\n",
    "molar_masses = [212.25, 136.15]"
   ]
  },
  {
   "cell_type": "code",
   "execution_count": 12,
   "id": "442f7255",
   "metadata": {},
   "outputs": [
    {
     "data": {
      "text/plain": [
       "[0.8403875207510383, 0.1596124792489616]"
      ]
     },
     "execution_count": 12,
     "metadata": {},
     "output_type": "execute_result"
    }
   ],
   "source": [
    "molar_proportions = [mass_prop/mol_mass for mass_prop, mol_mass in zip(mass_proportions, molar_masses)]\n",
    "molar_proportions = [mol_prop/sum(molar_proportions) for mol_prop in molar_proportions]\n",
    "molar_proportions"
   ]
  },
  {
   "cell_type": "code",
   "execution_count": 13,
   "id": "8702815b",
   "metadata": {},
   "outputs": [
    {
     "data": {
      "text/plain": [
       "[0.8876121810260892, 0.1123878189739109]"
      ]
     },
     "execution_count": 13,
     "metadata": {},
     "output_type": "execute_result"
    }
   ],
   "source": [
    "real_visible_proportions = [prot*prop for prot, prop in zip(protons, molar_proportions)]\n",
    "real_visible_proportions = [prop/sum(real_visible_proportions) for prop in real_visible_proportions]\n",
    "real_visible_proportions"
   ]
  },
  {
   "cell_type": "markdown",
   "id": "8f15b9b2",
   "metadata": {},
   "source": [
    "### Preprocessing"
   ]
  },
  {
   "cell_type": "code",
   "execution_count": 14,
   "id": "88c18cb9",
   "metadata": {},
   "outputs": [],
   "source": [
    "def make_nonnegative(spectrum):\n",
    "    confs = np.array(spectrum.confs)\n",
    "    neg = confs[:,1]<0\n",
    "    confs[:,1][neg]=0\n",
    "    new_confs = list(zip(confs[:,0],confs[:,1]))\n",
    "    result = NMRSpectrum(confs=new_confs)\n",
    "    return(result)"
   ]
  },
  {
   "cell_type": "code",
   "execution_count": 15,
   "id": "f04d69ce",
   "metadata": {},
   "outputs": [],
   "source": [
    "def common_mass_axis(list_of_spectra):\n",
    "    all_mz = set()\n",
    "    for sp in list_of_spectra:\n",
    "        mz_set = set(np.array(sp.confs, np.dtype('float'))[:,0])\n",
    "        all_mz = all_mz.union(mz_set)\n",
    "    all_mz = np.array(sorted(all_mz))\n",
    "    return all_mz"
   ]
  },
  {
   "cell_type": "code",
   "execution_count": 16,
   "id": "bf723195",
   "metadata": {},
   "outputs": [],
   "source": [
    "spectra_and_mixture = spectra + [mix]"
   ]
  },
  {
   "cell_type": "code",
   "execution_count": 18,
   "id": "e7181f9e",
   "metadata": {},
   "outputs": [],
   "source": [
    "preprocessed_spectra = []\n",
    "for sp in spectra_and_mixture:\n",
    "    sp2 = make_nonnegative(sp)\n",
    "    sp2.sort_confs()\n",
    "    sp2.merge_confs()\n",
    "    sp2.normalize()\n",
    "    preprocessed_spectra.append(sp2)"
   ]
  },
  {
   "cell_type": "code",
   "execution_count": 19,
   "id": "01ffe3c0",
   "metadata": {},
   "outputs": [],
   "source": [
    "spectra_and_mixture = preprocessed_spectra\n",
    "spectra = spectra_and_mixture[:-1]\n",
    "mix = preprocessed_spectra[-1]\n",
    "del(preprocessed_spectra)"
   ]
  },
  {
   "cell_type": "code",
   "execution_count": 20,
   "id": "1b91ab40",
   "metadata": {},
   "outputs": [],
   "source": [
    "cma = common_mass_axis(spectra_and_mixture)"
   ]
  },
  {
   "cell_type": "code",
   "execution_count": 21,
   "id": "5924da86",
   "metadata": {},
   "outputs": [],
   "source": [
    "preprocessed_spectra = []\n",
    "for sp in spectra_and_mixture:\n",
    "    preprocessed_spectra.append(sp.resample(cma))"
   ]
  },
  {
   "cell_type": "code",
   "execution_count": 22,
   "id": "eb8e429b",
   "metadata": {},
   "outputs": [],
   "source": [
    "spectra_and_mixture = preprocessed_spectra\n",
    "del(preprocessed_spectra)"
   ]
  },
  {
   "cell_type": "code",
   "execution_count": 23,
   "id": "25d7fb75",
   "metadata": {},
   "outputs": [],
   "source": [
    "preprocessed_spectra = []\n",
    "for sp in spectra_and_mixture:\n",
    "    sp = make_nonnegative(sp)\n",
    "    sp.sort_confs()\n",
    "    sp.merge_confs()\n",
    "    sp.normalize()\n",
    "    preprocessed_spectra.append(sp)"
   ]
  },
  {
   "cell_type": "code",
   "execution_count": 24,
   "id": "dc3d4186",
   "metadata": {},
   "outputs": [],
   "source": [
    "spectra_and_mixture = preprocessed_spectra\n",
    "spectra = spectra_and_mixture[:-1]\n",
    "mix = preprocessed_spectra[-1]\n",
    "del(preprocessed_spectra)"
   ]
  },
  {
   "cell_type": "code",
   "execution_count": 25,
   "id": "24a6fd3f",
   "metadata": {},
   "outputs": [],
   "source": [
    "for i, sp in enumerate(spectra):\n",
    "    sp.protons = protons[i]"
   ]
  },
  {
   "cell_type": "code",
   "execution_count": 26,
   "id": "3f202d1a",
   "metadata": {},
   "outputs": [],
   "source": [
    "for i, name in enumerate(names):\n",
    "    globals()[name] = spectra[i]"
   ]
  },
  {
   "cell_type": "code",
   "execution_count": 27,
   "id": "eb41084e",
   "metadata": {},
   "outputs": [],
   "source": [
    "components_ints = []\n",
    "for spectrum in spectra:\n",
    "    components_ints.append(np.array(spectrum.confs)[:,1])#.reshape(-1,1))"
   ]
  },
  {
   "cell_type": "code",
   "execution_count": 28,
   "id": "620b113f",
   "metadata": {},
   "outputs": [],
   "source": [
    "ppm = np.array(mix.confs)[:,0]\n",
    "mix_ints = np.array(mix.confs)[:,1]"
   ]
  },
  {
   "cell_type": "code",
   "execution_count": 29,
   "id": "e47868e7",
   "metadata": {},
   "outputs": [],
   "source": [
    "# mix.plot(profile=True)\n",
    "# comp0.plot(profile=True)\n",
    "# comp1.plot(profile=True) "
   ]
  },
  {
   "cell_type": "markdown",
   "id": "b109921c",
   "metadata": {},
   "source": [
    "### Finding best kappa"
   ]
  },
  {
   "cell_type": "code",
   "execution_count": 30,
   "id": "38906d6a",
   "metadata": {},
   "outputs": [],
   "source": [
    "import time\n",
    "import pandas as pd\n",
    "import pulp"
   ]
  },
  {
   "cell_type": "code",
   "execution_count": 31,
   "id": "80604968",
   "metadata": {},
   "outputs": [],
   "source": [
    "lower_limit = 0.01\n",
    "upper_limit = 0.3\n",
    "step = 0.01"
   ]
  },
  {
   "cell_type": "code",
   "execution_count": 49,
   "id": "aa3f1fac",
   "metadata": {},
   "outputs": [
    {
     "name": "stderr",
     "output_type": "stream",
     "text": [
      "Initial filtering of formulas: 100%|██████████████| 2/2 [00:00<00:00, 62.04it/s]\n",
      "Computing chunks: 100%|████████████████████████| 2/2 [00:00<00:00, 28149.69it/s]\n",
      "Splitting the experimental spectrum into chunks: 131072it [00:00, 3232906.87it/s]\n",
      "Deconvolving chunks: 100%|███████████████████████| 1/1 [02:30<00:00, 150.29s/it]\n"
     ]
    },
    {
     "name": "stdout",
     "output_type": "stream",
     "text": [
      "Estimation for 0.01 and 0.01 done\n",
      "It took: 150.44320917129517 seconds.\n",
      "[0.7131499470590109, 0.061583023606000944]\n"
     ]
    },
    {
     "name": "stderr",
     "output_type": "stream",
     "text": [
      "Initial filtering of formulas: 100%|██████████████| 2/2 [00:00<00:00, 58.44it/s]\n",
      "Computing chunks: 100%|████████████████████████| 2/2 [00:00<00:00, 89240.51it/s]\n",
      "Splitting the experimental spectrum into chunks: 131072it [00:00, 3159734.08it/s]\n",
      "Deconvolving chunks: 100%|███████████████████████| 1/1 [02:38<00:00, 158.09s/it]\n"
     ]
    },
    {
     "name": "stdout",
     "output_type": "stream",
     "text": [
      "Estimation for 0.01 and 0.02 done\n",
      "It took: 158.23815989494324 seconds.\n",
      "[0.6818430517780104, 0.03988604873600061]\n"
     ]
    },
    {
     "name": "stderr",
     "output_type": "stream",
     "text": [
      "Initial filtering of formulas: 100%|██████████████| 2/2 [00:00<00:00, 63.18it/s]\n",
      "Computing chunks: 100%|████████████████████████| 2/2 [00:00<00:00, 86480.49it/s]\n",
      "Splitting the experimental spectrum into chunks: 131072it [00:00, 3440360.30it/s]\n",
      "Deconvolving chunks: 100%|███████████████████████| 1/1 [02:32<00:00, 152.74s/it]\n"
     ]
    },
    {
     "name": "stdout",
     "output_type": "stream",
     "text": [
      "Estimation for 0.01 and 0.03 done\n",
      "It took: 152.88273572921753 seconds.\n",
      "[0.6756350670660103, 0.03570759514600055]\n"
     ]
    },
    {
     "name": "stderr",
     "output_type": "stream",
     "text": [
      "Initial filtering of formulas: 100%|██████████████| 2/2 [00:00<00:00, 61.45it/s]\n",
      "Computing chunks: 100%|████████████████████████| 2/2 [00:00<00:00, 87381.33it/s]\n",
      "Splitting the experimental spectrum into chunks: 131072it [00:00, 3470395.83it/s]\n",
      "Deconvolving chunks: 100%|███████████████████████| 1/1 [02:46<00:00, 166.32s/it]\n"
     ]
    },
    {
     "name": "stdout",
     "output_type": "stream",
     "text": [
      "Estimation for 0.01 and 0.04 done\n",
      "It took: 166.4679479598999 seconds.\n",
      "[0.6736811395120104, 0.02936411848600045]\n"
     ]
    },
    {
     "name": "stderr",
     "output_type": "stream",
     "text": [
      "Initial filtering of formulas: 100%|██████████████| 2/2 [00:00<00:00, 60.98it/s]\n",
      "Computing chunks: 100%|████████████████████████| 2/2 [00:00<00:00, 77672.30it/s]\n",
      "Splitting the experimental spectrum into chunks: 131072it [00:00, 3534747.95it/s]\n",
      "Deconvolving chunks: 100%|███████████████████████| 1/1 [02:48<00:00, 168.88s/it]\n"
     ]
    },
    {
     "name": "stdout",
     "output_type": "stream",
     "text": [
      "Estimation for 0.01 and 0.05 done\n",
      "It took: 169.0271077156067 seconds.\n",
      "[0.6648899683840103, 0.023161998115000353]\n"
     ]
    },
    {
     "name": "stderr",
     "output_type": "stream",
     "text": [
      "Initial filtering of formulas: 100%|██████████████| 2/2 [00:00<00:00, 64.08it/s]\n",
      "Computing chunks: 100%|████████████████████████| 2/2 [00:00<00:00, 91180.52it/s]\n",
      "Splitting the experimental spectrum into chunks: 131072it [00:00, 3490779.07it/s]\n",
      "Deconvolving chunks: 100%|███████████████████████| 1/1 [02:36<00:00, 156.85s/it]\n"
     ]
    },
    {
     "name": "stdout",
     "output_type": "stream",
     "text": [
      "Estimation for 0.01 and 0.060000000000000005 done\n",
      "It took: 157.00356912612915 seconds.\n",
      "[0.65299448930501, 0.019674234804000303]\n"
     ]
    },
    {
     "name": "stderr",
     "output_type": "stream",
     "text": [
      "Initial filtering of formulas: 100%|██████████████| 2/2 [00:00<00:00, 65.03it/s]\n",
      "Computing chunks: 100%|████████████████████████| 2/2 [00:00<00:00, 95325.09it/s]\n",
      "Splitting the experimental spectrum into chunks: 131072it [00:00, 3662841.05it/s]\n",
      "Deconvolving chunks: 100%|███████████████████████| 1/1 [02:25<00:00, 145.54s/it]\n"
     ]
    },
    {
     "name": "stdout",
     "output_type": "stream",
     "text": [
      "Estimation for 0.01 and 0.06999999999999999 done\n",
      "It took: 145.67477202415466 seconds.\n",
      "[0.6417060171550099, 0.018272143282000282]\n"
     ]
    },
    {
     "name": "stderr",
     "output_type": "stream",
     "text": [
      "Initial filtering of formulas: 100%|██████████████| 2/2 [00:00<00:00, 65.36it/s]\n",
      "Computing chunks: 100%|████████████████████████| 2/2 [00:00<00:00, 94254.02it/s]\n",
      "Splitting the experimental spectrum into chunks: 131072it [00:00, 3623155.09it/s]\n",
      "Deconvolving chunks: 100%|███████████████████████| 1/1 [02:41<00:00, 161.09s/it]\n"
     ]
    },
    {
     "name": "stdout",
     "output_type": "stream",
     "text": [
      "Estimation for 0.01 and 0.08 done\n",
      "It took: 161.2395842075348 seconds.\n",
      "[0.6308872284800097, 0.01697428194800026]\n"
     ]
    },
    {
     "name": "stderr",
     "output_type": "stream",
     "text": [
      "Initial filtering of formulas: 100%|██████████████| 2/2 [00:00<00:00, 64.11it/s]\n",
      "Computing chunks: 100%|████████████████████████| 2/2 [00:00<00:00, 92182.51it/s]\n",
      "Splitting the experimental spectrum into chunks: 131072it [00:00, 3590617.23it/s]\n",
      "Deconvolving chunks: 100%|███████████████████████| 1/1 [02:34<00:00, 154.95s/it]\n"
     ]
    },
    {
     "name": "stdout",
     "output_type": "stream",
     "text": [
      "Estimation for 0.01 and 0.09 done\n",
      "It took: 155.0872483253479 seconds.\n",
      "[0.6209603634900095, 0.015835508742000244]\n"
     ]
    },
    {
     "name": "stderr",
     "output_type": "stream",
     "text": [
      "Initial filtering of formulas: 100%|██████████████| 2/2 [00:00<00:00, 65.17it/s]\n",
      "Computing chunks: 100%|████████████████████████| 2/2 [00:00<00:00, 92182.51it/s]\n",
      "Splitting the experimental spectrum into chunks: 131072it [00:00, 3539686.66it/s]\n",
      "Deconvolving chunks: 100%|███████████████████████| 1/1 [02:43<00:00, 163.95s/it]\n"
     ]
    },
    {
     "name": "stdout",
     "output_type": "stream",
     "text": [
      "Estimation for 0.01 and 0.09999999999999999 done\n",
      "It took: 164.09250330924988 seconds.\n",
      "[0.6125844686020094, 0.014761612802000225]\n"
     ]
    },
    {
     "name": "stderr",
     "output_type": "stream",
     "text": [
      "Initial filtering of formulas: 100%|██████████████| 2/2 [00:00<00:00, 62.80it/s]\n",
      "Computing chunks: 100%|████████████████████████| 2/2 [00:00<00:00, 69905.07it/s]\n",
      "Splitting the experimental spectrum into chunks: 131072it [00:00, 3519924.02it/s]\n",
      "Deconvolving chunks: 100%|███████████████████████| 1/1 [14:37<00:00, 877.70s/it]\n"
     ]
    },
    {
     "name": "stdout",
     "output_type": "stream",
     "text": [
      "Estimation for 0.01 and 0.11 done\n",
      "It took: 877.8355631828308 seconds.\n",
      "[0.5978096598140091, 0.014075572377000216]\n"
     ]
    },
    {
     "name": "stderr",
     "output_type": "stream",
     "text": [
      "Initial filtering of formulas: 100%|██████████████| 2/2 [00:00<00:00, 63.16it/s]\n",
      "Computing chunks: 100%|████████████████████████| 2/2 [00:00<00:00, 79137.81it/s]\n",
      "Splitting the experimental spectrum into chunks: 131072it [00:00, 3567919.98it/s]\n",
      "Deconvolving chunks: 100%|███████████████████████| 1/1 [02:43<00:00, 163.89s/it]\n"
     ]
    },
    {
     "name": "stdout",
     "output_type": "stream",
     "text": [
      "Estimation for 0.01 and 0.12 done\n",
      "It took: 164.0304205417633 seconds.\n",
      "[0.5828511027170089, 0.013434241440000206]\n"
     ]
    },
    {
     "name": "stderr",
     "output_type": "stream",
     "text": [
      "Initial filtering of formulas: 100%|██████████████| 2/2 [00:00<00:00, 60.42it/s]\n",
      "Computing chunks: 100%|████████████████████████| 2/2 [00:00<00:00, 70492.50it/s]\n",
      "Splitting the experimental spectrum into chunks: 131072it [00:00, 3046785.12it/s]\n",
      "Deconvolving chunks: 100%|███████████████████████| 1/1 [03:49<00:00, 229.68s/it]\n"
     ]
    },
    {
     "name": "stdout",
     "output_type": "stream",
     "text": [
      "Estimation for 0.01 and 0.13 done\n",
      "It took: 229.84480595588684 seconds.\n",
      "[0.5679465599010086, 0.012898453444000198]\n"
     ]
    },
    {
     "name": "stderr",
     "output_type": "stream",
     "text": [
      "Initial filtering of formulas: 100%|██████████████| 2/2 [00:00<00:00, 63.25it/s]\n",
      "Computing chunks: 100%|████████████████████████| 2/2 [00:00<00:00, 46863.73it/s]\n",
      "Splitting the experimental spectrum into chunks: 131072it [00:00, 3555896.44it/s]\n",
      "Deconvolving chunks: 100%|███████████████████████| 1/1 [03:00<00:00, 180.08s/it]\n"
     ]
    },
    {
     "name": "stdout",
     "output_type": "stream",
     "text": [
      "Estimation for 0.01 and 0.14 done\n",
      "It took: 180.2343249320984 seconds.\n",
      "[0.5512881064570084, 0.012747086864000196]\n"
     ]
    },
    {
     "name": "stderr",
     "output_type": "stream",
     "text": [
      "Initial filtering of formulas: 100%|██████████████| 2/2 [00:00<00:00, 59.86it/s]\n",
      "Computing chunks: 100%|████████████████████████| 2/2 [00:00<00:00, 87381.33it/s]\n",
      "Splitting the experimental spectrum into chunks: 131072it [00:00, 3466413.28it/s]\n",
      "Deconvolving chunks: 100%|███████████████████████| 1/1 [02:51<00:00, 171.03s/it]\n"
     ]
    },
    {
     "name": "stdout",
     "output_type": "stream",
     "text": [
      "Estimation for 0.01 and 0.15000000000000002 done\n",
      "It took: 171.18220281600952 seconds.\n",
      "[0.5385447016460082, 0.012553689273000192]\n"
     ]
    },
    {
     "name": "stderr",
     "output_type": "stream",
     "text": [
      "Initial filtering of formulas: 100%|██████████████| 2/2 [00:00<00:00, 59.01it/s]\n",
      "Computing chunks: 100%|████████████████████████| 2/2 [00:00<00:00, 69905.07it/s]\n",
      "Splitting the experimental spectrum into chunks: 131072it [00:00, 3451440.61it/s]\n",
      "Deconvolving chunks: 100%|███████████████████████| 1/1 [03:03<00:00, 183.02s/it]\n"
     ]
    },
    {
     "name": "stdout",
     "output_type": "stream",
     "text": [
      "Estimation for 0.01 and 0.16 done\n",
      "It took: 183.186265707016 seconds.\n",
      "[0.523265957659008, 0.01232645291700019]\n"
     ]
    },
    {
     "name": "stderr",
     "output_type": "stream",
     "text": [
      "Initial filtering of formulas: 100%|██████████████| 2/2 [00:00<00:00, 51.59it/s]\n",
      "Computing chunks: 100%|████████████████████████| 2/2 [00:00<00:00, 64527.75it/s]\n",
      "Splitting the experimental spectrum into chunks: 131072it [00:00, 3062194.70it/s]\n",
      "Deconvolving chunks: 100%|███████████████████████| 1/1 [05:55<00:00, 355.40s/it]\n"
     ]
    },
    {
     "name": "stdout",
     "output_type": "stream",
     "text": [
      "Estimation for 0.01 and 0.17 done\n",
      "It took: 355.5725543498993 seconds.\n",
      "[0.5100928432560078, 0.012221787074000188]\n"
     ]
    },
    {
     "name": "stderr",
     "output_type": "stream",
     "text": [
      "Initial filtering of formulas: 100%|██████████████| 2/2 [00:00<00:00, 63.30it/s]\n",
      "Computing chunks: 100%|████████████████████████| 2/2 [00:00<00:00, 99864.38it/s]\n",
      "Splitting the experimental spectrum into chunks: 131072it [00:00, 3542309.54it/s]\n",
      "Deconvolving chunks: 100%|███████████████████████| 1/1 [02:26<00:00, 146.82s/it]\n"
     ]
    },
    {
     "name": "stdout",
     "output_type": "stream",
     "text": [
      "Estimation for 0.01 and 0.18000000000000002 done\n",
      "It took: 146.97002172470093 seconds.\n",
      "[0.4972451154460076, 0.012151568081000185]\n"
     ]
    },
    {
     "name": "stderr",
     "output_type": "stream",
     "text": [
      "Initial filtering of formulas: 100%|██████████████| 2/2 [00:00<00:00, 63.80it/s]\n",
      "Computing chunks: 100%|████████████████████████| 2/2 [00:00<00:00, 94254.02it/s]\n",
      "Splitting the experimental spectrum into chunks: 131072it [00:00, 3589304.44it/s]\n",
      "Deconvolving chunks: 100%|███████████████████████| 1/1 [03:08<00:00, 188.06s/it]\n"
     ]
    },
    {
     "name": "stdout",
     "output_type": "stream",
     "text": [
      "Estimation for 0.01 and 0.19 done\n",
      "It took: 188.2014889717102 seconds.\n",
      "[0.4855522652710074, 0.012099935111000186]\n"
     ]
    },
    {
     "name": "stderr",
     "output_type": "stream",
     "text": [
      "Initial filtering of formulas: 100%|██████████████| 2/2 [00:00<00:00, 64.87it/s]\n",
      "Computing chunks: 100%|████████████████████████| 2/2 [00:00<00:00, 97541.95it/s]\n",
      "Splitting the experimental spectrum into chunks: 131072it [00:00, 3609784.98it/s]\n",
      "Deconvolving chunks: 100%|███████████████████████| 1/1 [02:37<00:00, 157.54s/it]\n"
     ]
    },
    {
     "name": "stdout",
     "output_type": "stream",
     "text": [
      "Estimation for 0.01 and 0.2 done\n",
      "It took: 157.67475485801697 seconds.\n",
      "[0.47445915651200726, 0.012103289277000186]\n"
     ]
    },
    {
     "name": "stderr",
     "output_type": "stream",
     "text": [
      "Initial filtering of formulas: 100%|██████████████| 2/2 [00:00<00:00, 60.23it/s]\n",
      "Computing chunks: 100%|████████████████████████| 2/2 [00:00<00:00, 87381.33it/s]\n",
      "Splitting the experimental spectrum into chunks: 131072it [00:00, 3467550.22it/s]\n",
      "Deconvolving chunks: 100%|███████████████████████| 1/1 [02:31<00:00, 151.33s/it]\n"
     ]
    },
    {
     "name": "stdout",
     "output_type": "stream",
     "text": [
      "Estimation for 0.01 and 0.21000000000000002 done\n",
      "It took: 151.47101068496704 seconds.\n",
      "[0.4627170656820071, 0.012023066569000184]\n"
     ]
    },
    {
     "name": "stderr",
     "output_type": "stream",
     "text": [
      "Initial filtering of formulas: 100%|██████████████| 2/2 [00:00<00:00, 65.09it/s]\n",
      "Computing chunks: 100%|███████████████████████| 2/2 [00:00<00:00, 103563.06it/s]\n",
      "Splitting the experimental spectrum into chunks: 131072it [00:00, 3524979.57it/s]\n",
      "Deconvolving chunks: 100%|███████████████████████| 1/1 [08:25<00:00, 505.17s/it]\n"
     ]
    },
    {
     "name": "stdout",
     "output_type": "stream",
     "text": [
      "Estimation for 0.01 and 0.22 done\n",
      "It took: 505.32753252983093 seconds.\n",
      "[0.45316855359100694, 0.011864558277000182]\n"
     ]
    },
    {
     "name": "stderr",
     "output_type": "stream",
     "text": [
      "Initial filtering of formulas: 100%|██████████████| 2/2 [00:00<00:00, 64.40it/s]\n",
      "Computing chunks: 100%|████████████████████████| 2/2 [00:00<00:00, 97541.95it/s]\n",
      "Splitting the experimental spectrum into chunks: 131072it [00:00, 3484694.22it/s]\n",
      "Deconvolving chunks: 100%|███████████████████████| 1/1 [02:29<00:00, 149.57s/it]\n"
     ]
    },
    {
     "name": "stdout",
     "output_type": "stream",
     "text": [
      "Estimation for 0.01 and 0.23 done\n",
      "It took: 149.7307424545288 seconds.\n",
      "[0.4434791001010068, 0.011694561967000179]\n"
     ]
    },
    {
     "name": "stderr",
     "output_type": "stream",
     "text": [
      "Initial filtering of formulas: 100%|██████████████| 2/2 [00:00<00:00, 64.22it/s]\n",
      "Computing chunks: 100%|████████████████████████| 2/2 [00:00<00:00, 94254.02it/s]\n",
      "Splitting the experimental spectrum into chunks: 131072it [00:00, 3558566.45it/s]\n",
      "Deconvolving chunks: 100%|███████████████████████| 1/1 [03:23<00:00, 203.34s/it]\n"
     ]
    },
    {
     "name": "stdout",
     "output_type": "stream",
     "text": [
      "Estimation for 0.01 and 0.24000000000000002 done\n",
      "It took: 203.49013090133667 seconds.\n",
      "[0.4351442175810067, 0.011511562955000177]\n"
     ]
    },
    {
     "name": "stderr",
     "output_type": "stream",
     "text": [
      "Initial filtering of formulas: 100%|██████████████| 2/2 [00:00<00:00, 64.15it/s]\n",
      "Computing chunks: 100%|████████████████████████| 2/2 [00:00<00:00, 87381.33it/s]\n",
      "Splitting the experimental spectrum into chunks: 131072it [00:00, 3555436.50it/s]\n",
      "Deconvolving chunks: 100%|███████████████████████| 1/1 [02:23<00:00, 144.00s/it]\n"
     ]
    },
    {
     "name": "stdout",
     "output_type": "stream",
     "text": [
      "Estimation for 0.01 and 0.25 done\n",
      "It took: 144.15374445915222 seconds.\n",
      "[0.4248763530830065, 0.011465447604000175]\n"
     ]
    },
    {
     "name": "stderr",
     "output_type": "stream",
     "text": [
      "Initial filtering of formulas: 100%|██████████████| 2/2 [00:00<00:00, 64.45it/s]\n",
      "Computing chunks: 100%|████████████████████████| 2/2 [00:00<00:00, 97541.95it/s]\n",
      "Splitting the experimental spectrum into chunks: 131072it [00:00, 3528124.03it/s]\n",
      "Deconvolving chunks: 100%|███████████████████████| 1/1 [03:36<00:00, 216.04s/it]\n"
     ]
    },
    {
     "name": "stdout",
     "output_type": "stream",
     "text": [
      "Estimation for 0.01 and 0.26 done\n",
      "It took: 216.17141604423523 seconds.\n",
      "[0.4149007870640064, 0.011386200036000176]\n"
     ]
    },
    {
     "name": "stderr",
     "output_type": "stream",
     "text": [
      "Initial filtering of formulas: 100%|██████████████| 2/2 [00:00<00:00, 64.03it/s]\n",
      "Computing chunks: 100%|████████████████████████| 2/2 [00:00<00:00, 90200.09it/s]\n",
      "Splitting the experimental spectrum into chunks: 131072it [00:00, 3494129.25it/s]\n",
      "Deconvolving chunks: 100%|███████████████████████| 1/1 [02:27<00:00, 147.35s/it]\n"
     ]
    },
    {
     "name": "stdout",
     "output_type": "stream",
     "text": [
      "Estimation for 0.01 and 0.27 done\n",
      "It took: 147.49711275100708 seconds.\n",
      "[0.40095033422200616, 0.011390883275000175]\n"
     ]
    },
    {
     "name": "stderr",
     "output_type": "stream",
     "text": [
      "Initial filtering of formulas: 100%|██████████████| 2/2 [00:00<00:00, 64.50it/s]\n",
      "Computing chunks: 100%|████████████████████████| 2/2 [00:00<00:00, 97541.95it/s]\n",
      "Splitting the experimental spectrum into chunks: 131072it [00:00, 3527376.99it/s]\n",
      "Deconvolving chunks: 100%|███████████████████████| 1/1 [02:45<00:00, 165.85s/it]\n"
     ]
    },
    {
     "name": "stdout",
     "output_type": "stream",
     "text": [
      "Estimation for 0.01 and 0.28 done\n",
      "It took: 165.99196815490723 seconds.\n",
      "[0.38934516868500596, 0.011279017755000174]\n"
     ]
    },
    {
     "name": "stderr",
     "output_type": "stream",
     "text": [
      "Initial filtering of formulas: 100%|██████████████| 2/2 [00:00<00:00, 62.72it/s]\n",
      "Computing chunks: 100%|████████████████████████| 2/2 [00:00<00:00, 93206.76it/s]\n",
      "Splitting the experimental spectrum into chunks: 131072it [00:00, 3459999.21it/s]\n",
      "Deconvolving chunks: 100%|███████████████████████| 1/1 [03:20<00:00, 200.18s/it]\n"
     ]
    },
    {
     "name": "stdout",
     "output_type": "stream",
     "text": [
      "Estimation for 0.01 and 0.29000000000000004 done\n",
      "It took: 200.33386874198914 seconds.\n",
      "[0.37540776547000576, 0.011265708087000172]\n"
     ]
    },
    {
     "name": "stderr",
     "output_type": "stream",
     "text": [
      "Initial filtering of formulas: 100%|██████████████| 2/2 [00:00<00:00, 61.83it/s]\n",
      "Computing chunks: 100%|████████████████████████| 2/2 [00:00<00:00, 98689.51it/s]\n",
      "Splitting the experimental spectrum into chunks: 131072it [00:00, 3459454.89it/s]\n",
      "Deconvolving chunks: 100%|███████████████████████| 1/1 [02:52<00:00, 172.80s/it]\n"
     ]
    },
    {
     "name": "stdout",
     "output_type": "stream",
     "text": [
      "Estimation for 0.02 and 0.01 done\n",
      "It took: 172.95387053489685 seconds.\n",
      "[0.8330947636540128, 0.08622385066500132]\n"
     ]
    },
    {
     "name": "stderr",
     "output_type": "stream",
     "text": [
      "Initial filtering of formulas: 100%|██████████████| 2/2 [00:00<00:00, 64.65it/s]\n",
      "Computing chunks: 100%|███████████████████████| 2/2 [00:00<00:00, 101067.57it/s]\n",
      "Splitting the experimental spectrum into chunks: 131072it [00:00, 3542218.25it/s]\n",
      "Deconvolving chunks: 100%|███████████████████████| 1/1 [02:49<00:00, 169.92s/it]\n"
     ]
    },
    {
     "name": "stdout",
     "output_type": "stream",
     "text": [
      "Estimation for 0.02 and 0.02 done\n",
      "It took: 170.05296349525452 seconds.\n",
      "[0.8012450679570123, 0.1038553529450016]\n"
     ]
    },
    {
     "name": "stderr",
     "output_type": "stream",
     "text": [
      "Initial filtering of formulas: 100%|██████████████| 2/2 [00:00<00:00, 63.49it/s]\n",
      "Computing chunks: 100%|████████████████████████| 2/2 [00:00<00:00, 98689.51it/s]\n",
      "Splitting the experimental spectrum into chunks: 131072it [00:00, 3453044.83it/s]\n",
      "Deconvolving chunks: 100%|███████████████████████| 1/1 [02:30<00:00, 150.28s/it]\n"
     ]
    },
    {
     "name": "stdout",
     "output_type": "stream",
     "text": [
      "Estimation for 0.02 and 0.03 done\n",
      "It took: 150.41986298561096 seconds.\n",
      "[0.8033614037500123, 0.08652909667200133]\n"
     ]
    },
    {
     "name": "stderr",
     "output_type": "stream",
     "text": [
      "Initial filtering of formulas: 100%|██████████████| 2/2 [00:00<00:00, 62.31it/s]\n",
      "Computing chunks: 100%|████████████████████████| 2/2 [00:00<00:00, 71697.50it/s]\n",
      "Splitting the experimental spectrum into chunks: 131072it [00:00, 3411708.06it/s]\n",
      "Deconvolving chunks: 100%|███████████████████████| 1/1 [02:11<00:00, 131.66s/it]\n"
     ]
    },
    {
     "name": "stdout",
     "output_type": "stream",
     "text": [
      "Estimation for 0.02 and 0.04 done\n",
      "It took: 131.802250623703 seconds.\n",
      "[0.7911702775760121, 0.08773534883500135]\n"
     ]
    },
    {
     "name": "stderr",
     "output_type": "stream",
     "text": [
      "Initial filtering of formulas: 100%|██████████████| 2/2 [00:00<00:00, 62.35it/s]\n",
      "Computing chunks: 100%|████████████████████████| 2/2 [00:00<00:00, 76260.07it/s]\n",
      "Splitting the experimental spectrum into chunks: 131072it [00:00, 3476408.82it/s]\n",
      "Deconvolving chunks: 100%|███████████████████████| 1/1 [02:10<00:00, 130.35s/it]\n"
     ]
    },
    {
     "name": "stdout",
     "output_type": "stream",
     "text": [
      "Estimation for 0.02 and 0.05 done\n",
      "It took: 130.50220727920532 seconds.\n",
      "[0.779410600867012, 0.08913104749400136]\n"
     ]
    },
    {
     "name": "stderr",
     "output_type": "stream",
     "text": [
      "Initial filtering of formulas: 100%|██████████████| 2/2 [00:00<00:00, 64.22it/s]\n",
      "Computing chunks: 100%|████████████████████████| 2/2 [00:00<00:00, 85598.04it/s]\n",
      "Splitting the experimental spectrum into chunks: 131072it [00:00, 3538980.28it/s]\n",
      "Deconvolving chunks: 100%|███████████████████████| 1/1 [02:26<00:00, 146.45s/it]\n"
     ]
    },
    {
     "name": "stdout",
     "output_type": "stream",
     "text": [
      "Estimation for 0.02 and 0.060000000000000005 done\n",
      "It took: 146.59207963943481 seconds.\n",
      "[0.7723476834290118, 0.08483715804800131]\n"
     ]
    },
    {
     "name": "stderr",
     "output_type": "stream",
     "text": [
      "Initial filtering of formulas: 100%|██████████████| 2/2 [00:00<00:00, 66.76it/s]\n",
      "Computing chunks: 100%|████████████████████████| 2/2 [00:00<00:00, 95325.09it/s]\n",
      "Splitting the experimental spectrum into chunks: 131072it [00:00, 3555965.45it/s]\n",
      "Deconvolving chunks: 100%|███████████████████████| 1/1 [02:16<00:00, 136.01s/it]\n"
     ]
    },
    {
     "name": "stdout",
     "output_type": "stream",
     "text": [
      "Estimation for 0.02 and 0.06999999999999999 done\n",
      "It took: 136.16602540016174 seconds.\n",
      "[0.7633261803940117, 0.07989706347900122]\n"
     ]
    },
    {
     "name": "stderr",
     "output_type": "stream",
     "text": [
      "Initial filtering of formulas: 100%|██████████████| 2/2 [00:00<00:00, 63.61it/s]\n",
      "Computing chunks: 100%|████████████████████████| 2/2 [00:00<00:00, 74235.47it/s]\n",
      "Splitting the experimental spectrum into chunks: 131072it [00:00, 3543314.11it/s]\n",
      "Deconvolving chunks: 100%|███████████████████████| 1/1 [02:20<00:00, 140.12s/it]\n"
     ]
    },
    {
     "name": "stdout",
     "output_type": "stream",
     "text": [
      "Estimation for 0.02 and 0.08 done\n",
      "It took: 140.2610056400299 seconds.\n",
      "[0.7656791783750118, 0.06092856438100094]\n"
     ]
    },
    {
     "name": "stderr",
     "output_type": "stream",
     "text": [
      "Initial filtering of formulas: 100%|██████████████| 2/2 [00:00<00:00, 64.19it/s]\n",
      "Computing chunks: 100%|████████████████████████| 2/2 [00:00<00:00, 98689.51it/s]\n",
      "Splitting the experimental spectrum into chunks: 131072it [00:00, 3563040.78it/s]\n",
      "Deconvolving chunks: 100%|███████████████████████| 1/1 [01:59<00:00, 119.68s/it]\n"
     ]
    },
    {
     "name": "stdout",
     "output_type": "stream",
     "text": [
      "Estimation for 0.02 and 0.09 done\n",
      "It took: 119.82034754753113 seconds.\n",
      "[0.7640566816430117, 0.04783384278600074]\n"
     ]
    },
    {
     "name": "stderr",
     "output_type": "stream",
     "text": [
      "Initial filtering of formulas: 100%|██████████████| 2/2 [00:00<00:00, 63.99it/s]\n",
      "Computing chunks: 100%|████████████████████████| 2/2 [00:00<00:00, 94254.02it/s]\n",
      "Splitting the experimental spectrum into chunks: 131072it [00:00, 3487789.31it/s]\n",
      "Deconvolving chunks: 100%|███████████████████████| 1/1 [02:17<00:00, 137.43s/it]\n"
     ]
    },
    {
     "name": "stdout",
     "output_type": "stream",
     "text": [
      "Estimation for 0.02 and 0.09999999999999999 done\n",
      "It took: 137.5703775882721 seconds.\n",
      "[0.7581271428480116, 0.0457384519040007]\n"
     ]
    },
    {
     "name": "stderr",
     "output_type": "stream",
     "text": [
      "Initial filtering of formulas: 100%|██████████████| 2/2 [00:00<00:00, 63.06it/s]\n",
      "Computing chunks: 100%|████████████████████████| 2/2 [00:00<00:00, 89240.51it/s]\n",
      "Splitting the experimental spectrum into chunks: 131072it [00:00, 3471666.91it/s]\n",
      "Deconvolving chunks: 100%|███████████████████████| 1/1 [02:17<00:00, 137.79s/it]\n"
     ]
    },
    {
     "name": "stdout",
     "output_type": "stream",
     "text": [
      "Estimation for 0.02 and 0.11 done\n",
      "It took: 137.92844223976135 seconds.\n",
      "[0.7530917665090116, 0.04417324491000068]\n"
     ]
    },
    {
     "name": "stderr",
     "output_type": "stream",
     "text": [
      "Initial filtering of formulas: 100%|██████████████| 2/2 [00:00<00:00, 63.36it/s]\n",
      "Computing chunks: 100%|████████████████████████| 2/2 [00:00<00:00, 91180.52it/s]\n",
      "Splitting the experimental spectrum into chunks: 131072it [00:00, 3453587.13it/s]\n",
      "Deconvolving chunks: 100%|███████████████████████| 1/1 [02:29<00:00, 149.76s/it]\n"
     ]
    },
    {
     "name": "stdout",
     "output_type": "stream",
     "text": [
      "Estimation for 0.02 and 0.12 done\n",
      "It took: 149.90339064598083 seconds.\n",
      "[0.7468148521950114, 0.04182580208200064]\n"
     ]
    },
    {
     "name": "stderr",
     "output_type": "stream",
     "text": [
      "Initial filtering of formulas: 100%|██████████████| 2/2 [00:00<00:00, 64.81it/s]\n",
      "Computing chunks: 100%|████████████████████████| 2/2 [00:00<00:00, 93206.76it/s]\n",
      "Splitting the experimental spectrum into chunks: 131072it [00:00, 3580561.38it/s]\n",
      "Deconvolving chunks: 100%|███████████████████████| 1/1 [02:40<00:00, 160.70s/it]\n"
     ]
    },
    {
     "name": "stdout",
     "output_type": "stream",
     "text": [
      "Estimation for 0.02 and 0.13 done\n",
      "It took: 160.83879375457764 seconds.\n",
      "[0.7418276356060113, 0.04208560320000065]\n"
     ]
    },
    {
     "name": "stderr",
     "output_type": "stream",
     "text": [
      "Initial filtering of formulas: 100%|██████████████| 2/2 [00:00<00:00, 61.32it/s]\n",
      "Computing chunks: 100%|████████████████████████| 2/2 [00:00<00:00, 81442.80it/s]\n",
      "Splitting the experimental spectrum into chunks: 131072it [00:00, 3409042.40it/s]\n",
      "Deconvolving chunks: 100%|███████████████████████| 1/1 [02:37<00:00, 157.81s/it]\n"
     ]
    },
    {
     "name": "stdout",
     "output_type": "stream",
     "text": [
      "Estimation for 0.02 and 0.14 done\n",
      "It took: 157.96585369110107 seconds.\n",
      "[0.7411220988280113, 0.042129089325000646]\n"
     ]
    },
    {
     "name": "stderr",
     "output_type": "stream",
     "text": [
      "Initial filtering of formulas: 100%|██████████████| 2/2 [00:00<00:00, 63.29it/s]\n",
      "Computing chunks: 100%|████████████████████████| 2/2 [00:00<00:00, 91180.52it/s]\n",
      "Splitting the experimental spectrum into chunks: 131072it [00:00, 3489316.77it/s]\n",
      "Deconvolving chunks: 100%|███████████████████████| 1/1 [02:25<00:00, 145.38s/it]\n"
     ]
    },
    {
     "name": "stdout",
     "output_type": "stream",
     "text": [
      "Estimation for 0.02 and 0.15000000000000002 done\n",
      "It took: 145.5158519744873 seconds.\n",
      "[0.7403087321760113, 0.04212463955600065]\n"
     ]
    },
    {
     "name": "stderr",
     "output_type": "stream",
     "text": [
      "Initial filtering of formulas: 100%|██████████████| 2/2 [00:00<00:00, 62.98it/s]\n",
      "Computing chunks: 100%|████████████████████████| 2/2 [00:00<00:00, 72315.59it/s]\n",
      "Splitting the experimental spectrum into chunks: 131072it [00:00, 3511448.02it/s]\n",
      "Deconvolving chunks: 100%|███████████████████████| 1/1 [02:28<00:00, 148.74s/it]\n"
     ]
    },
    {
     "name": "stdout",
     "output_type": "stream",
     "text": [
      "Estimation for 0.02 and 0.16 done\n",
      "It took: 148.88207745552063 seconds.\n",
      "[0.7393255022840113, 0.04216294555600065]\n"
     ]
    },
    {
     "name": "stderr",
     "output_type": "stream",
     "text": [
      "Initial filtering of formulas: 100%|██████████████| 2/2 [00:00<00:00, 63.67it/s]\n",
      "Computing chunks: 100%|████████████████████████| 2/2 [00:00<00:00, 87381.33it/s]\n",
      "Splitting the experimental spectrum into chunks: 131072it [00:00, 3485356.99it/s]\n",
      "Deconvolving chunks: 100%|███████████████████████| 1/1 [02:33<00:00, 153.76s/it]\n"
     ]
    },
    {
     "name": "stdout",
     "output_type": "stream",
     "text": [
      "Estimation for 0.02 and 0.17 done\n",
      "It took: 153.90389728546143 seconds.\n",
      "[0.7381390489850114, 0.04241762395300065]\n"
     ]
    },
    {
     "name": "stderr",
     "output_type": "stream",
     "text": [
      "Initial filtering of formulas: 100%|██████████████| 2/2 [00:00<00:00, 64.68it/s]\n",
      "Computing chunks: 100%|████████████████████████| 2/2 [00:00<00:00, 63550.06it/s]\n",
      "Splitting the experimental spectrum into chunks: 131072it [00:00, 3591297.45it/s]\n",
      "Deconvolving chunks: 100%|██████████████████████| 1/1 [21:22<00:00, 1282.15s/it]\n"
     ]
    },
    {
     "name": "stdout",
     "output_type": "stream",
     "text": [
      "Estimation for 0.02 and 0.18000000000000002 done\n",
      "It took: 1282.2873787879944 seconds.\n",
      "[0.7367830951240113, 0.04267027087900065]\n"
     ]
    },
    {
     "name": "stderr",
     "output_type": "stream",
     "text": [
      "Initial filtering of formulas: 100%|██████████████| 2/2 [00:00<00:00, 66.01it/s]\n",
      "Computing chunks: 100%|████████████████████████| 2/2 [00:00<00:00, 53773.13it/s]\n",
      "Splitting the experimental spectrum into chunks: 131072it [00:00, 3588999.82it/s]\n",
      "Deconvolving chunks: 100%|███████████████████████| 1/1 [02:15<00:00, 135.11s/it]\n"
     ]
    },
    {
     "name": "stdout",
     "output_type": "stream",
     "text": [
      "Estimation for 0.02 and 0.19 done\n",
      "It took: 135.2659251689911 seconds.\n",
      "[0.7351218801760112, 0.042959332462000656]\n"
     ]
    },
    {
     "name": "stderr",
     "output_type": "stream",
     "text": [
      "Initial filtering of formulas: 100%|██████████████| 2/2 [00:00<00:00, 64.15it/s]\n",
      "Computing chunks: 100%|████████████████████████| 2/2 [00:00<00:00, 92182.51it/s]\n",
      "Splitting the experimental spectrum into chunks: 131072it [00:00, 3602286.92it/s]\n",
      "Deconvolving chunks: 100%|███████████████████████| 1/1 [02:11<00:00, 131.21s/it]\n"
     ]
    },
    {
     "name": "stdout",
     "output_type": "stream",
     "text": [
      "Estimation for 0.02 and 0.2 done\n",
      "It took: 131.34841680526733 seconds.\n",
      "[0.7332020272840112, 0.04332312296000067]\n"
     ]
    },
    {
     "name": "stderr",
     "output_type": "stream",
     "text": [
      "Initial filtering of formulas: 100%|██████████████| 2/2 [00:00<00:00, 64.29it/s]\n",
      "Computing chunks: 100%|████████████████████████| 2/2 [00:00<00:00, 98689.51it/s]\n",
      "Splitting the experimental spectrum into chunks: 131072it [00:00, 3528848.72it/s]\n",
      "Deconvolving chunks: 100%|███████████████████████| 1/1 [02:32<00:00, 152.72s/it]\n"
     ]
    },
    {
     "name": "stdout",
     "output_type": "stream",
     "text": [
      "Estimation for 0.02 and 0.21000000000000002 done\n",
      "It took: 152.85317492485046 seconds.\n",
      "[0.7308633221880112, 0.04369127381300067]\n"
     ]
    },
    {
     "name": "stderr",
     "output_type": "stream",
     "text": [
      "Initial filtering of formulas: 100%|██████████████| 2/2 [00:00<00:00, 62.83it/s]\n",
      "Computing chunks: 100%|████████████████████████| 2/2 [00:00<00:00, 94254.02it/s]\n",
      "Splitting the experimental spectrum into chunks: 131072it [00:00, 3485843.18it/s]\n",
      "Deconvolving chunks: 100%|███████████████████████| 1/1 [02:16<00:00, 136.32s/it]\n"
     ]
    },
    {
     "name": "stdout",
     "output_type": "stream",
     "text": [
      "Estimation for 0.02 and 0.22 done\n",
      "It took: 136.46437525749207 seconds.\n",
      "[0.7284001303110113, 0.043994119147000674]\n"
     ]
    },
    {
     "name": "stderr",
     "output_type": "stream",
     "text": [
      "Initial filtering of formulas: 100%|██████████████| 2/2 [00:00<00:00, 62.73it/s]\n",
      "Computing chunks: 100%|████████████████████████| 2/2 [00:00<00:00, 83055.52it/s]\n",
      "Splitting the experimental spectrum into chunks: 131072it [00:00, 3517896.86it/s]\n",
      "Deconvolving chunks: 100%|███████████████████████| 1/1 [02:16<00:00, 136.87s/it]\n"
     ]
    },
    {
     "name": "stdout",
     "output_type": "stream",
     "text": [
      "Estimation for 0.02 and 0.23 done\n",
      "It took: 137.01458859443665 seconds.\n",
      "[0.7264743124700112, 0.04420178877800068]\n"
     ]
    },
    {
     "name": "stderr",
     "output_type": "stream",
     "text": [
      "Initial filtering of formulas: 100%|██████████████| 2/2 [00:00<00:00, 63.48it/s]\n",
      "Computing chunks: 100%|████████████████████████| 2/2 [00:00<00:00, 90200.09it/s]\n",
      "Splitting the experimental spectrum into chunks: 131072it [00:00, 3501941.66it/s]\n",
      "Deconvolving chunks: 100%|███████████████████████| 1/1 [02:17<00:00, 137.51s/it]\n"
     ]
    },
    {
     "name": "stdout",
     "output_type": "stream",
     "text": [
      "Estimation for 0.02 and 0.24000000000000002 done\n",
      "It took: 137.65211963653564 seconds.\n",
      "[0.7241492581910111, 0.04433051185800068]\n"
     ]
    },
    {
     "name": "stderr",
     "output_type": "stream",
     "text": [
      "Initial filtering of formulas: 100%|██████████████| 2/2 [00:00<00:00, 63.99it/s]\n",
      "Computing chunks: 100%|████████████████████████| 2/2 [00:00<00:00, 93206.76it/s]\n",
      "Splitting the experimental spectrum into chunks: 131072it [00:00, 3544936.32it/s]\n",
      "Deconvolving chunks: 100%|███████████████████████| 1/1 [02:14<00:00, 134.54s/it]\n"
     ]
    },
    {
     "name": "stdout",
     "output_type": "stream",
     "text": [
      "Estimation for 0.02 and 0.25 done\n",
      "It took: 134.68055057525635 seconds.\n",
      "[0.7215114021550111, 0.04445218435000068]\n"
     ]
    },
    {
     "name": "stderr",
     "output_type": "stream",
     "text": [
      "Initial filtering of formulas: 100%|██████████████| 2/2 [00:00<00:00, 63.20it/s]\n",
      "Computing chunks: 100%|████████████████████████| 2/2 [00:00<00:00, 97541.95it/s]\n",
      "Splitting the experimental spectrum into chunks: 131072it [00:00, 3521502.32it/s]\n",
      "Deconvolving chunks: 100%|███████████████████████| 1/1 [02:11<00:00, 131.20s/it]\n"
     ]
    },
    {
     "name": "stdout",
     "output_type": "stream",
     "text": [
      "Estimation for 0.02 and 0.26 done\n",
      "It took: 131.34950065612793 seconds.\n",
      "[0.721154628036011, 0.04453932101200068]\n"
     ]
    },
    {
     "name": "stderr",
     "output_type": "stream",
     "text": [
      "Initial filtering of formulas: 100%|██████████████| 2/2 [00:00<00:00, 63.48it/s]\n",
      "Computing chunks: 100%|████████████████████████| 2/2 [00:00<00:00, 97541.95it/s]\n",
      "Splitting the experimental spectrum into chunks: 131072it [00:00, 3520284.65it/s]\n",
      "Deconvolving chunks: 100%|██████████████████████| 1/1 [52:40<00:00, 3160.91s/it]\n"
     ]
    },
    {
     "name": "stdout",
     "output_type": "stream",
     "text": [
      "Estimation for 0.02 and 0.27 done\n",
      "It took: 3161.048358440399 seconds.\n",
      "[0.720259367987011, 0.04468300964500069]\n"
     ]
    },
    {
     "name": "stderr",
     "output_type": "stream",
     "text": [
      "Initial filtering of formulas: 100%|██████████████| 2/2 [00:00<00:00, 58.91it/s]\n",
      "Computing chunks: 100%|████████████████████████| 2/2 [00:00<00:00, 52103.16it/s]\n",
      "Splitting the experimental spectrum into chunks: 131072it [00:00, 3180077.01it/s]\n",
      "Deconvolving chunks: 100%|███████████████████████| 1/1 [02:33<00:00, 153.39s/it]\n"
     ]
    },
    {
     "name": "stdout",
     "output_type": "stream",
     "text": [
      "Estimation for 0.02 and 0.28 done\n",
      "It took: 153.54299116134644 seconds.\n",
      "[0.719235941110011, 0.044839823150000686]\n"
     ]
    },
    {
     "name": "stderr",
     "output_type": "stream",
     "text": [
      "Initial filtering of formulas: 100%|██████████████| 2/2 [00:00<00:00, 51.67it/s]\n",
      "Computing chunks: 100%|████████████████████████| 2/2 [00:00<00:00, 29330.80it/s]\n",
      "Splitting the experimental spectrum into chunks: 131072it [00:00, 3277271.94it/s]\n",
      "Deconvolving chunks: 100%|███████████████████████| 1/1 [02:25<00:00, 145.71s/it]\n"
     ]
    },
    {
     "name": "stdout",
     "output_type": "stream",
     "text": [
      "Estimation for 0.02 and 0.29000000000000004 done\n",
      "It took: 145.87711429595947 seconds.\n",
      "[0.718194434068011, 0.044997026169000684]\n"
     ]
    },
    {
     "name": "stderr",
     "output_type": "stream",
     "text": [
      "Initial filtering of formulas: 100%|██████████████| 2/2 [00:00<00:00, 61.26it/s]\n",
      "Computing chunks: 100%|████████████████████████| 2/2 [00:00<00:00, 63072.24it/s]\n",
      "Splitting the experimental spectrum into chunks: 131072it [00:00, 3387949.65it/s]\n",
      "Deconvolving chunks: 100%|███████████████████████| 1/1 [02:08<00:00, 128.29s/it]\n"
     ]
    },
    {
     "name": "stdout",
     "output_type": "stream",
     "text": [
      "Estimation for 0.03 and 0.01 done\n",
      "It took: 128.44106101989746 seconds.\n",
      "[0.8759602211430134, 0.08335030329500127]\n"
     ]
    },
    {
     "name": "stderr",
     "output_type": "stream",
     "text": [
      "Initial filtering of formulas: 100%|██████████████| 2/2 [00:00<00:00, 60.79it/s]\n",
      "Computing chunks: 100%|████████████████████████| 2/2 [00:00<00:00, 76260.07it/s]\n",
      "Splitting the experimental spectrum into chunks: 131072it [00:00, 3430613.50it/s]\n",
      "Deconvolving chunks: 100%|███████████████████████| 1/1 [02:01<00:00, 121.11s/it]\n"
     ]
    },
    {
     "name": "stdout",
     "output_type": "stream",
     "text": [
      "Estimation for 0.03 and 0.02 done\n",
      "It took: 121.28526091575623 seconds.\n",
      "[0.8252598873750127, 0.10444547782500159]\n"
     ]
    },
    {
     "name": "stderr",
     "output_type": "stream",
     "text": [
      "Initial filtering of formulas: 100%|██████████████| 2/2 [00:00<00:00, 56.21it/s]\n",
      "Computing chunks: 100%|████████████████████████| 2/2 [00:00<00:00, 52103.16it/s]\n",
      "Splitting the experimental spectrum into chunks: 131072it [00:00, 2930202.56it/s]\n",
      "Deconvolving chunks: 100%|███████████████████████| 1/1 [02:07<00:00, 127.99s/it]\n"
     ]
    },
    {
     "name": "stdout",
     "output_type": "stream",
     "text": [
      "Estimation for 0.03 and 0.03 done\n",
      "It took: 128.17963361740112 seconds.\n",
      "[0.8158312929100126, 0.10562998654400163]\n"
     ]
    },
    {
     "name": "stderr",
     "output_type": "stream",
     "text": [
      "Initial filtering of formulas: 100%|██████████████| 2/2 [00:00<00:00, 56.32it/s]\n",
      "Computing chunks: 100%|████████████████████████| 2/2 [00:00<00:00, 74898.29it/s]\n",
      "Splitting the experimental spectrum into chunks: 131072it [00:00, 3418029.18it/s]\n",
      "Deconvolving chunks: 100%|███████████████████████| 1/1 [02:48<00:00, 168.61s/it]\n"
     ]
    },
    {
     "name": "stdout",
     "output_type": "stream",
     "text": [
      "Estimation for 0.03 and 0.04 done\n",
      "It took: 168.760657787323 seconds.\n",
      "[0.8135510316650124, 0.10346676768800159]\n"
     ]
    },
    {
     "name": "stderr",
     "output_type": "stream",
     "text": [
      "Initial filtering of formulas: 100%|██████████████| 2/2 [00:00<00:00, 58.82it/s]\n",
      "Computing chunks: 100%|████████████████████████| 2/2 [00:00<00:00, 90200.09it/s]\n",
      "Splitting the experimental spectrum into chunks: 131072it [00:00, 3461742.18it/s]\n",
      "Deconvolving chunks: 100%|███████████████████████| 1/1 [14:14<00:00, 854.90s/it]\n"
     ]
    },
    {
     "name": "stdout",
     "output_type": "stream",
     "text": [
      "Estimation for 0.03 and 0.05 done\n",
      "It took: 855.0484704971313 seconds.\n",
      "[0.8127024908050124, 0.09037602226800139]\n"
     ]
    },
    {
     "name": "stderr",
     "output_type": "stream",
     "text": [
      "Initial filtering of formulas: 100%|██████████████| 2/2 [00:00<00:00, 61.95it/s]\n",
      "Computing chunks: 100%|████████████████████████| 2/2 [00:00<00:00, 55553.70it/s]\n",
      "Splitting the experimental spectrum into chunks: 131072it [00:00, 3113581.89it/s]\n",
      "Deconvolving chunks: 100%|███████████████████████| 1/1 [02:04<00:00, 124.68s/it]\n"
     ]
    },
    {
     "name": "stdout",
     "output_type": "stream",
     "text": [
      "Estimation for 0.03 and 0.060000000000000005 done\n",
      "It took: 124.82526087760925 seconds.\n",
      "[0.8055119117190124, 0.08985278046200137]\n"
     ]
    },
    {
     "name": "stderr",
     "output_type": "stream",
     "text": [
      "Initial filtering of formulas: 100%|██████████████| 2/2 [00:00<00:00, 64.23it/s]\n",
      "Computing chunks: 100%|████████████████████████| 2/2 [00:00<00:00, 91180.52it/s]\n",
      "Splitting the experimental spectrum into chunks: 131072it [00:00, 3516119.38it/s]\n",
      "Deconvolving chunks: 100%|███████████████████████| 1/1 [02:48<00:00, 168.08s/it]\n"
     ]
    },
    {
     "name": "stdout",
     "output_type": "stream",
     "text": [
      "Estimation for 0.03 and 0.06999999999999999 done\n",
      "It took: 168.23621463775635 seconds.\n",
      "[0.8018259923220123, 0.08733562091400134]\n"
     ]
    },
    {
     "name": "stderr",
     "output_type": "stream",
     "text": [
      "Initial filtering of formulas: 100%|██████████████| 2/2 [00:00<00:00, 65.40it/s]\n",
      "Computing chunks: 100%|████████████████████████| 2/2 [00:00<00:00, 91180.52it/s]\n",
      "Splitting the experimental spectrum into chunks: 131072it [00:00, 3558773.77it/s]\n",
      "Deconvolving chunks: 100%|███████████████████████| 1/1 [02:10<00:00, 130.46s/it]\n"
     ]
    },
    {
     "name": "stdout",
     "output_type": "stream",
     "text": [
      "Estimation for 0.03 and 0.08 done\n",
      "It took: 130.60433268547058 seconds.\n",
      "[0.8032565070550123, 0.08248048968900126]\n"
     ]
    },
    {
     "name": "stderr",
     "output_type": "stream",
     "text": [
      "Initial filtering of formulas: 100%|██████████████| 2/2 [00:00<00:00, 63.19it/s]\n",
      "Computing chunks: 100%|████████████████████████| 2/2 [00:00<00:00, 55924.05it/s]\n",
      "Splitting the experimental spectrum into chunks: 131072it [00:00, 3521096.34it/s]\n",
      "Deconvolving chunks: 100%|███████████████████████| 1/1 [02:31<00:00, 151.98s/it]\n"
     ]
    },
    {
     "name": "stdout",
     "output_type": "stream",
     "text": [
      "Estimation for 0.03 and 0.09 done\n",
      "It took: 152.1212558746338 seconds.\n",
      "[0.8028355287380123, 0.0712574895430011]\n"
     ]
    },
    {
     "name": "stderr",
     "output_type": "stream",
     "text": [
      "Initial filtering of formulas: 100%|██████████████| 2/2 [00:00<00:00, 61.61it/s]\n",
      "Computing chunks: 100%|████████████████████████| 2/2 [00:00<00:00, 68759.08it/s]\n",
      "Splitting the experimental spectrum into chunks: 131072it [00:00, 3463377.81it/s]\n",
      "Deconvolving chunks: 100%|███████████████████████| 1/1 [02:10<00:00, 130.22s/it]\n"
     ]
    },
    {
     "name": "stdout",
     "output_type": "stream",
     "text": [
      "Estimation for 0.03 and 0.09999999999999999 done\n",
      "It took: 130.38698530197144 seconds.\n",
      "[0.8120113439970125, 0.0589404330270009]\n"
     ]
    },
    {
     "name": "stderr",
     "output_type": "stream",
     "text": [
      "Initial filtering of formulas: 100%|██████████████| 2/2 [00:00<00:00, 63.31it/s]\n",
      "Computing chunks: 100%|████████████████████████| 2/2 [00:00<00:00, 59918.63it/s]\n",
      "Splitting the experimental spectrum into chunks: 131072it [00:00, 3454802.51it/s]\n",
      "Deconvolving chunks: 100%|███████████████████████| 1/1 [02:08<00:00, 128.62s/it]\n"
     ]
    },
    {
     "name": "stdout",
     "output_type": "stream",
     "text": [
      "Estimation for 0.03 and 0.11 done\n",
      "It took: 128.7631537914276 seconds.\n",
      "[0.8196983800060126, 0.04930377144100075]\n"
     ]
    },
    {
     "name": "stderr",
     "output_type": "stream",
     "text": [
      "Initial filtering of formulas: 100%|██████████████| 2/2 [00:00<00:00, 66.14it/s]\n",
      "Computing chunks: 100%|████████████████████████| 2/2 [00:00<00:00, 65027.97it/s]\n",
      "Splitting the experimental spectrum into chunks: 131072it [00:00, 3596466.14it/s]\n",
      "Deconvolving chunks: 100%|███████████████████████| 1/1 [02:38<00:00, 158.43s/it]\n"
     ]
    },
    {
     "name": "stdout",
     "output_type": "stream",
     "text": [
      "Estimation for 0.03 and 0.12 done\n",
      "It took: 158.5686662197113 seconds.\n",
      "[0.8235856266660126, 0.044017575400000675]\n"
     ]
    },
    {
     "name": "stderr",
     "output_type": "stream",
     "text": [
      "Initial filtering of formulas: 100%|██████████████| 2/2 [00:00<00:00, 65.81it/s]\n",
      "Computing chunks: 100%|████████████████████████| 2/2 [00:00<00:00, 89240.51it/s]\n",
      "Splitting the experimental spectrum into chunks: 131072it [00:00, 3540074.14it/s]\n",
      "Deconvolving chunks: 100%|███████████████████████| 1/1 [02:42<00:00, 162.77s/it]\n"
     ]
    },
    {
     "name": "stdout",
     "output_type": "stream",
     "text": [
      "Estimation for 0.03 and 0.13 done\n",
      "It took: 162.91077494621277 seconds.\n",
      "[0.8250809935160126, 0.04137055492400063]\n"
     ]
    },
    {
     "name": "stderr",
     "output_type": "stream",
     "text": [
      "Initial filtering of formulas: 100%|██████████████| 2/2 [00:00<00:00, 64.59it/s]\n",
      "Computing chunks: 100%|████████████████████████| 2/2 [00:00<00:00, 90200.09it/s]\n",
      "Splitting the experimental spectrum into chunks: 131072it [00:00, 3541739.02it/s]\n",
      "Deconvolving chunks: 100%|███████████████████████| 1/1 [02:16<00:00, 136.89s/it]\n"
     ]
    },
    {
     "name": "stdout",
     "output_type": "stream",
     "text": [
      "Estimation for 0.03 and 0.14 done\n",
      "It took: 137.02500247955322 seconds.\n",
      "[0.8256686145330127, 0.03982006789400061]\n"
     ]
    },
    {
     "name": "stderr",
     "output_type": "stream",
     "text": [
      "Initial filtering of formulas: 100%|██████████████| 2/2 [00:00<00:00, 62.03it/s]\n",
      "Computing chunks: 100%|████████████████████████| 2/2 [00:00<00:00, 45839.39it/s]\n",
      "Splitting the experimental spectrum into chunks: 131072it [00:00, 3396321.78it/s]\n",
      "Deconvolving chunks: 100%|███████████████████████| 1/1 [02:25<00:00, 145.18s/it]\n"
     ]
    },
    {
     "name": "stdout",
     "output_type": "stream",
     "text": [
      "Estimation for 0.03 and 0.15000000000000002 done\n",
      "It took: 145.31642889976501 seconds.\n",
      "[0.8259012677680126, 0.0387694158670006]\n"
     ]
    },
    {
     "name": "stderr",
     "output_type": "stream",
     "text": [
      "Initial filtering of formulas: 100%|██████████████| 2/2 [00:00<00:00, 63.17it/s]\n",
      "Computing chunks: 100%|████████████████████████| 2/2 [00:00<00:00, 90200.09it/s]\n",
      "Splitting the experimental spectrum into chunks: 131072it [00:00, 3471009.34it/s]\n",
      "Deconvolving chunks: 100%|███████████████████████| 1/1 [02:33<00:00, 153.82s/it]\n"
     ]
    },
    {
     "name": "stdout",
     "output_type": "stream",
     "text": [
      "Estimation for 0.03 and 0.16 done\n",
      "It took: 153.98520016670227 seconds.\n",
      "[0.8258185626000126, 0.03863599324200059]\n"
     ]
    },
    {
     "name": "stderr",
     "output_type": "stream",
     "text": [
      "Initial filtering of formulas: 100%|██████████████| 2/2 [00:00<00:00, 64.25it/s]\n",
      "Computing chunks: 100%|████████████████████████| 2/2 [00:00<00:00, 85598.04it/s]\n",
      "Splitting the experimental spectrum into chunks: 131072it [00:00, 3460042.76it/s]\n",
      "Deconvolving chunks: 100%|███████████████████████| 1/1 [02:42<00:00, 162.74s/it]\n"
     ]
    },
    {
     "name": "stdout",
     "output_type": "stream",
     "text": [
      "Estimation for 0.03 and 0.17 done\n",
      "It took: 162.89860033988953 seconds.\n",
      "[0.8257902347630126, 0.03852104651500059]\n"
     ]
    },
    {
     "name": "stderr",
     "output_type": "stream",
     "text": [
      "Initial filtering of formulas: 100%|██████████████| 2/2 [00:00<00:00, 64.42it/s]\n",
      "Computing chunks: 100%|████████████████████████| 2/2 [00:00<00:00, 89240.51it/s]\n",
      "Splitting the experimental spectrum into chunks: 131072it [00:00, 3541305.54it/s]\n",
      "Deconvolving chunks: 100%|███████████████████████| 1/1 [02:20<00:00, 140.59s/it]\n"
     ]
    },
    {
     "name": "stdout",
     "output_type": "stream",
     "text": [
      "Estimation for 0.03 and 0.18000000000000002 done\n",
      "It took: 140.73006939888 seconds.\n",
      "[0.8257554385620126, 0.03841465131600059]\n"
     ]
    },
    {
     "name": "stderr",
     "output_type": "stream",
     "text": [
      "Initial filtering of formulas: 100%|██████████████| 2/2 [00:00<00:00, 64.17it/s]\n",
      "Computing chunks: 100%|████████████████████████| 2/2 [00:00<00:00, 99864.38it/s]\n",
      "Splitting the experimental spectrum into chunks: 131072it [00:00, 3502187.06it/s]\n",
      "Deconvolving chunks: 100%|███████████████████████| 1/1 [02:33<00:00, 153.78s/it]\n"
     ]
    },
    {
     "name": "stdout",
     "output_type": "stream",
     "text": [
      "Estimation for 0.03 and 0.19 done\n",
      "It took: 153.91938710212708 seconds.\n",
      "[0.8254669066350127, 0.03828584683100059]\n"
     ]
    },
    {
     "name": "stderr",
     "output_type": "stream",
     "text": [
      "Initial filtering of formulas: 100%|██████████████| 2/2 [00:00<00:00, 63.18it/s]\n",
      "Computing chunks: 100%|████████████████████████| 2/2 [00:00<00:00, 84733.41it/s]\n",
      "Splitting the experimental spectrum into chunks: 131072it [00:00, 3507818.34it/s]\n",
      "Deconvolving chunks: 100%|███████████████████████| 1/1 [02:33<00:00, 153.80s/it]\n"
     ]
    },
    {
     "name": "stdout",
     "output_type": "stream",
     "text": [
      "Estimation for 0.03 and 0.2 done\n",
      "It took: 153.94307708740234 seconds.\n",
      "[0.8251783958970127, 0.038252929789000585]\n"
     ]
    },
    {
     "name": "stderr",
     "output_type": "stream",
     "text": [
      "Initial filtering of formulas: 100%|██████████████| 2/2 [00:00<00:00, 64.02it/s]\n",
      "Computing chunks: 100%|████████████████████████| 2/2 [00:00<00:00, 84733.41it/s]\n",
      "Splitting the experimental spectrum into chunks: 131072it [00:00, 3487258.33it/s]\n",
      "Deconvolving chunks: 100%|███████████████████████| 1/1 [03:03<00:00, 183.31s/it]\n"
     ]
    },
    {
     "name": "stdout",
     "output_type": "stream",
     "text": [
      "Estimation for 0.03 and 0.21000000000000002 done\n",
      "It took: 183.45292568206787 seconds.\n",
      "[0.8246470540400127, 0.03829693442100059]\n"
     ]
    },
    {
     "name": "stderr",
     "output_type": "stream",
     "text": [
      "Initial filtering of formulas: 100%|██████████████| 2/2 [00:00<00:00, 63.49it/s]\n",
      "Computing chunks: 100%|████████████████████████| 2/2 [00:00<00:00, 96420.78it/s]\n",
      "Splitting the experimental spectrum into chunks: 131072it [00:00, 3463159.64it/s]\n",
      "Deconvolving chunks: 100%|███████████████████████| 1/1 [03:03<00:00, 183.16s/it]\n"
     ]
    },
    {
     "name": "stdout",
     "output_type": "stream",
     "text": [
      "Estimation for 0.03 and 0.22 done\n",
      "It took: 183.30384397506714 seconds.\n",
      "[0.8244342885440127, 0.03834469251400059]\n"
     ]
    },
    {
     "name": "stderr",
     "output_type": "stream",
     "text": [
      "Initial filtering of formulas: 100%|██████████████| 2/2 [00:00<00:00, 63.44it/s]\n",
      "Computing chunks: 100%|████████████████████████| 2/2 [00:00<00:00, 93206.76it/s]\n",
      "Splitting the experimental spectrum into chunks: 131072it [00:00, 3476738.60it/s]\n",
      "Deconvolving chunks: 100%|███████████████████████| 1/1 [02:22<00:00, 142.53s/it]\n"
     ]
    },
    {
     "name": "stdout",
     "output_type": "stream",
     "text": [
      "Estimation for 0.03 and 0.23 done\n",
      "It took: 142.67201495170593 seconds.\n",
      "[0.8239705425150127, 0.03839662531600059]\n"
     ]
    },
    {
     "name": "stderr",
     "output_type": "stream",
     "text": [
      "Initial filtering of formulas: 100%|██████████████| 2/2 [00:00<00:00, 65.03it/s]\n",
      "Computing chunks: 100%|████████████████████████| 2/2 [00:00<00:00, 92182.51it/s]\n",
      "Splitting the experimental spectrum into chunks: 131072it [00:00, 3605145.28it/s]\n",
      "Deconvolving chunks: 100%|███████████████████████| 1/1 [02:53<00:00, 173.40s/it]\n"
     ]
    },
    {
     "name": "stdout",
     "output_type": "stream",
     "text": [
      "Estimation for 0.03 and 0.24000000000000002 done\n",
      "It took: 173.53275871276855 seconds.\n",
      "[0.8236841819770127, 0.03849448551200059]\n"
     ]
    },
    {
     "name": "stderr",
     "output_type": "stream",
     "text": [
      "Initial filtering of formulas: 100%|██████████████| 2/2 [00:00<00:00, 64.42it/s]\n",
      "Computing chunks: 100%|████████████████████████| 2/2 [00:00<00:00, 91180.52it/s]\n",
      "Splitting the experimental spectrum into chunks: 131072it [00:00, 3522901.43it/s]\n",
      "Deconvolving chunks: 100%|███████████████████████| 1/1 [02:27<00:00, 147.88s/it]\n"
     ]
    },
    {
     "name": "stdout",
     "output_type": "stream",
     "text": [
      "Estimation for 0.03 and 0.25 done\n",
      "It took: 148.02070593833923 seconds.\n",
      "[0.8233634069610126, 0.03862495792600059]\n"
     ]
    },
    {
     "name": "stderr",
     "output_type": "stream",
     "text": [
      "Initial filtering of formulas: 100%|██████████████| 2/2 [00:00<00:00, 64.68it/s]\n",
      "Computing chunks: 100%|████████████████████████| 2/2 [00:00<00:00, 95325.09it/s]\n",
      "Splitting the experimental spectrum into chunks: 131072it [00:00, 3481362.10it/s]\n",
      "Deconvolving chunks: 100%|███████████████████████| 1/1 [02:26<00:00, 146.69s/it]\n"
     ]
    },
    {
     "name": "stdout",
     "output_type": "stream",
     "text": [
      "Estimation for 0.03 and 0.26 done\n",
      "It took: 146.85208082199097 seconds.\n",
      "[0.8229997947590126, 0.0387253627150006]\n"
     ]
    },
    {
     "name": "stderr",
     "output_type": "stream",
     "text": [
      "Initial filtering of formulas: 100%|██████████████| 2/2 [00:00<00:00, 57.14it/s]\n",
      "Computing chunks: 100%|████████████████████████| 2/2 [00:00<00:00, 38836.15it/s]\n",
      "Splitting the experimental spectrum into chunks: 131072it [00:00, 3301757.40it/s]\n",
      "Deconvolving chunks: 100%|███████████████████████| 1/1 [02:10<00:00, 130.96s/it]\n"
     ]
    },
    {
     "name": "stdout",
     "output_type": "stream",
     "text": [
      "Estimation for 0.03 and 0.27 done\n",
      "It took: 131.10388374328613 seconds.\n",
      "[0.8228761976490127, 0.0387365124990006]\n"
     ]
    },
    {
     "name": "stderr",
     "output_type": "stream",
     "text": [
      "Initial filtering of formulas: 100%|██████████████| 2/2 [00:00<00:00, 63.90it/s]\n",
      "Computing chunks: 100%|████████████████████████| 2/2 [00:00<00:00, 93206.76it/s]\n",
      "Splitting the experimental spectrum into chunks: 131072it [00:00, 3502901.14it/s]\n",
      "Deconvolving chunks: 100%|███████████████████████| 1/1 [03:09<00:00, 189.16s/it]\n"
     ]
    },
    {
     "name": "stdout",
     "output_type": "stream",
     "text": [
      "Estimation for 0.03 and 0.28 done\n",
      "It took: 189.30224227905273 seconds.\n",
      "[0.8225888394390126, 0.038811859787000594]\n"
     ]
    },
    {
     "name": "stderr",
     "output_type": "stream",
     "text": [
      "Initial filtering of formulas: 100%|██████████████| 2/2 [00:00<00:00, 64.19it/s]\n",
      "Computing chunks: 100%|████████████████████████| 2/2 [00:00<00:00, 92182.51it/s]\n",
      "Splitting the experimental spectrum into chunks: 131072it [00:00, 3499734.63it/s]\n",
      "Deconvolving chunks: 100%|███████████████████████| 1/1 [02:03<00:00, 123.84s/it]\n"
     ]
    },
    {
     "name": "stdout",
     "output_type": "stream",
     "text": [
      "Estimation for 0.03 and 0.29000000000000004 done\n",
      "It took: 123.97361588478088 seconds.\n",
      "[0.8224651535040126, 0.0387927936680006]\n"
     ]
    },
    {
     "name": "stderr",
     "output_type": "stream",
     "text": [
      "Initial filtering of formulas: 100%|██████████████| 2/2 [00:00<00:00, 64.15it/s]\n",
      "Computing chunks: 100%|████████████████████████| 2/2 [00:00<00:00, 95325.09it/s]\n",
      "Splitting the experimental spectrum into chunks: 131072it [00:00, 3485445.38it/s]\n",
      "Deconvolving chunks: 100%|███████████████████████| 1/1 [02:29<00:00, 149.84s/it]\n"
     ]
    },
    {
     "name": "stdout",
     "output_type": "stream",
     "text": [
      "Estimation for 0.04 and 0.01 done\n",
      "It took: 149.98548316955566 seconds.\n",
      "[0.8840633927580136, 0.08433932777700129]\n"
     ]
    },
    {
     "name": "stderr",
     "output_type": "stream",
     "text": [
      "Initial filtering of formulas: 100%|██████████████| 2/2 [00:00<00:00, 66.55it/s]\n",
      "Computing chunks: 100%|███████████████████████| 2/2 [00:00<00:00, 101067.57it/s]\n",
      "Splitting the experimental spectrum into chunks: 131072it [00:00, 3583315.28it/s]\n",
      "Deconvolving chunks: 100%|███████████████████████| 1/1 [01:59<00:00, 119.00s/it]\n"
     ]
    },
    {
     "name": "stdout",
     "output_type": "stream",
     "text": [
      "Estimation for 0.04 and 0.02 done\n",
      "It took: 119.16436314582825 seconds.\n",
      "[0.8352683577410127, 0.10308576820400159]\n"
     ]
    },
    {
     "name": "stderr",
     "output_type": "stream",
     "text": [
      "Initial filtering of formulas: 100%|██████████████| 2/2 [00:00<00:00, 63.45it/s]\n",
      "Computing chunks: 100%|████████████████████████| 2/2 [00:00<00:00, 90200.09it/s]\n",
      "Splitting the experimental spectrum into chunks: 131072it [00:00, 3464250.78it/s]\n",
      "Deconvolving chunks: 100%|███████████████████████| 1/1 [02:09<00:00, 129.05s/it]\n"
     ]
    },
    {
     "name": "stdout",
     "output_type": "stream",
     "text": [
      "Estimation for 0.04 and 0.03 done\n",
      "It took: 129.18643450737 seconds.\n",
      "[0.8268168084620127, 0.10551887140200161]\n"
     ]
    },
    {
     "name": "stderr",
     "output_type": "stream",
     "text": [
      "Initial filtering of formulas: 100%|██████████████| 2/2 [00:00<00:00, 62.65it/s]\n",
      "Computing chunks: 100%|████████████████████████| 2/2 [00:00<00:00, 95325.09it/s]\n",
      "Splitting the experimental spectrum into chunks: 131072it [00:00, 3490579.59it/s]\n",
      "Deconvolving chunks: 100%|███████████████████████| 1/1 [02:09<00:00, 129.31s/it]\n"
     ]
    },
    {
     "name": "stdout",
     "output_type": "stream",
     "text": [
      "Estimation for 0.04 and 0.04 done\n",
      "It took: 129.46559238433838 seconds.\n",
      "[0.8235267875210126, 0.10546327646200161]\n"
     ]
    },
    {
     "name": "stderr",
     "output_type": "stream",
     "text": [
      "Initial filtering of formulas: 100%|██████████████| 2/2 [00:00<00:00, 59.96it/s]\n",
      "Computing chunks: 100%|████████████████████████| 2/2 [00:00<00:00, 95325.09it/s]\n",
      "Splitting the experimental spectrum into chunks: 131072it [00:00, 3450985.62it/s]\n",
      "Deconvolving chunks: 100%|███████████████████████| 1/1 [02:30<00:00, 150.76s/it]\n"
     ]
    },
    {
     "name": "stdout",
     "output_type": "stream",
     "text": [
      "Estimation for 0.04 and 0.05 done\n",
      "It took: 150.90684580802917 seconds.\n",
      "[0.8184925255990125, 0.10526323392500161]\n"
     ]
    },
    {
     "name": "stderr",
     "output_type": "stream",
     "text": [
      "Initial filtering of formulas: 100%|██████████████| 2/2 [00:00<00:00, 64.78it/s]\n",
      "Computing chunks: 100%|████████████████████████| 2/2 [00:00<00:00, 97541.95it/s]\n",
      "Splitting the experimental spectrum into chunks: 131072it [00:00, 3422412.53it/s]\n",
      "Deconvolving chunks: 100%|███████████████████████| 1/1 [02:36<00:00, 156.86s/it]\n"
     ]
    },
    {
     "name": "stdout",
     "output_type": "stream",
     "text": [
      "Estimation for 0.04 and 0.060000000000000005 done\n",
      "It took: 156.9994785785675 seconds.\n",
      "[0.8168931059940125, 0.1042092509210016]\n"
     ]
    },
    {
     "name": "stderr",
     "output_type": "stream",
     "text": [
      "Initial filtering of formulas: 100%|██████████████| 2/2 [00:00<00:00, 63.76it/s]\n",
      "Computing chunks: 100%|████████████████████████| 2/2 [00:00<00:00, 88301.14it/s]\n",
      "Splitting the experimental spectrum into chunks: 131072it [00:00, 3489161.75it/s]\n",
      "Deconvolving chunks: 100%|███████████████████████| 1/1 [02:22<00:00, 142.32s/it]\n"
     ]
    },
    {
     "name": "stdout",
     "output_type": "stream",
     "text": [
      "Estimation for 0.04 and 0.06999999999999999 done\n",
      "It took: 142.45582461357117 seconds.\n",
      "[0.8164427534750125, 0.09970673987800152]\n"
     ]
    },
    {
     "name": "stderr",
     "output_type": "stream",
     "text": [
      "Initial filtering of formulas: 100%|██████████████| 2/2 [00:00<00:00, 66.47it/s]\n",
      "Computing chunks: 100%|████████████████████████| 2/2 [00:00<00:00, 89240.51it/s]\n",
      "Splitting the experimental spectrum into chunks: 131072it [00:00, 3583946.01it/s]\n",
      "Deconvolving chunks: 100%|███████████████████████| 1/1 [02:10<00:00, 130.40s/it]\n"
     ]
    },
    {
     "name": "stdout",
     "output_type": "stream",
     "text": [
      "Estimation for 0.04 and 0.08 done\n",
      "It took: 130.53578519821167 seconds.\n",
      "[0.8185142057900126, 0.0907990646860014]\n"
     ]
    },
    {
     "name": "stderr",
     "output_type": "stream",
     "text": [
      "Initial filtering of formulas: 100%|██████████████| 2/2 [00:00<00:00, 64.93it/s]\n",
      "Computing chunks: 100%|███████████████████████| 2/2 [00:00<00:00, 103563.06it/s]\n",
      "Splitting the experimental spectrum into chunks: 131072it [00:00, 3531795.87it/s]\n",
      "Deconvolving chunks: 100%|███████████████████████| 1/1 [02:35<00:00, 155.79s/it]\n"
     ]
    },
    {
     "name": "stdout",
     "output_type": "stream",
     "text": [
      "Estimation for 0.04 and 0.09 done\n",
      "It took: 155.9469084739685 seconds.\n",
      "[0.8161321601600126, 0.09002318586100137]\n"
     ]
    },
    {
     "name": "stderr",
     "output_type": "stream",
     "text": [
      "Initial filtering of formulas: 100%|██████████████| 2/2 [00:00<00:00, 64.72it/s]\n",
      "Computing chunks: 100%|████████████████████████| 2/2 [00:00<00:00, 92182.51it/s]\n",
      "Splitting the experimental spectrum into chunks: 131072it [00:00, 3552357.96it/s]\n",
      "Deconvolving chunks: 100%|███████████████████████| 1/1 [02:38<00:00, 158.99s/it]\n"
     ]
    },
    {
     "name": "stdout",
     "output_type": "stream",
     "text": [
      "Estimation for 0.04 and 0.09999999999999999 done\n",
      "It took: 159.1475067138672 seconds.\n",
      "[0.8164710025280125, 0.08375849583700128]\n"
     ]
    },
    {
     "name": "stderr",
     "output_type": "stream",
     "text": [
      "Initial filtering of formulas: 100%|██████████████| 2/2 [00:00<00:00, 63.94it/s]\n",
      "Computing chunks: 100%|████████████████████████| 2/2 [00:00<00:00, 95325.09it/s]\n",
      "Splitting the experimental spectrum into chunks: 131072it [00:00, 3528780.77it/s]\n",
      "Deconvolving chunks: 100%|███████████████████████| 1/1 [02:11<00:00, 131.67s/it]\n"
     ]
    },
    {
     "name": "stdout",
     "output_type": "stream",
     "text": [
      "Estimation for 0.04 and 0.11 done\n",
      "It took: 131.80969715118408 seconds.\n",
      "[0.8211696661160125, 0.06600283522700101]\n"
     ]
    },
    {
     "name": "stderr",
     "output_type": "stream",
     "text": [
      "Initial filtering of formulas: 100%|██████████████| 2/2 [00:00<00:00, 62.52it/s]\n",
      "Computing chunks: 100%|████████████████████████| 2/2 [00:00<00:00, 79891.50it/s]\n",
      "Splitting the experimental spectrum into chunks: 131072it [00:00, 3453456.96it/s]\n",
      "Deconvolving chunks: 100%|███████████████████████| 1/1 [02:41<00:00, 161.26s/it]\n"
     ]
    },
    {
     "name": "stdout",
     "output_type": "stream",
     "text": [
      "Estimation for 0.04 and 0.12 done\n",
      "It took: 161.40415239334106 seconds.\n",
      "[0.8248724539140126, 0.056850317476000875]\n"
     ]
    },
    {
     "name": "stderr",
     "output_type": "stream",
     "text": [
      "Initial filtering of formulas: 100%|██████████████| 2/2 [00:00<00:00, 62.81it/s]\n",
      "Computing chunks: 100%|████████████████████████| 2/2 [00:00<00:00, 95325.09it/s]\n",
      "Splitting the experimental spectrum into chunks: 131072it [00:00, 3444326.33it/s]\n",
      "Deconvolving chunks: 100%|███████████████████████| 1/1 [02:08<00:00, 128.99s/it]\n"
     ]
    },
    {
     "name": "stdout",
     "output_type": "stream",
     "text": [
      "Estimation for 0.04 and 0.13 done\n",
      "It took: 129.1359875202179 seconds.\n",
      "[0.8295085009400126, 0.049777284216000764]\n"
     ]
    },
    {
     "name": "stderr",
     "output_type": "stream",
     "text": [
      "Initial filtering of formulas: 100%|██████████████| 2/2 [00:00<00:00, 62.09it/s]\n",
      "Computing chunks: 100%|████████████████████████| 2/2 [00:00<00:00, 83886.08it/s]\n",
      "Splitting the experimental spectrum into chunks: 131072it [00:00, 3445837.55it/s]\n",
      "Deconvolving chunks: 100%|███████████████████████| 1/1 [02:09<00:00, 129.66s/it]\n"
     ]
    },
    {
     "name": "stdout",
     "output_type": "stream",
     "text": [
      "Estimation for 0.04 and 0.14 done\n",
      "It took: 129.80125856399536 seconds.\n",
      "[0.8313768733720127, 0.04600131484700071]\n"
     ]
    },
    {
     "name": "stderr",
     "output_type": "stream",
     "text": [
      "Initial filtering of formulas: 100%|██████████████| 2/2 [00:00<00:00, 62.90it/s]\n",
      "Computing chunks: 100%|████████████████████████| 2/2 [00:00<00:00, 92182.51it/s]\n",
      "Splitting the experimental spectrum into chunks: 131072it [00:00, 3496729.51it/s]\n",
      "Deconvolving chunks: 100%|███████████████████████| 1/1 [02:19<00:00, 139.05s/it]\n"
     ]
    },
    {
     "name": "stdout",
     "output_type": "stream",
     "text": [
      "Estimation for 0.04 and 0.15000000000000002 done\n",
      "It took: 139.19715356826782 seconds.\n",
      "[0.8328693216800128, 0.04207081524100065]\n"
     ]
    },
    {
     "name": "stderr",
     "output_type": "stream",
     "text": [
      "Initial filtering of formulas: 100%|██████████████| 2/2 [00:00<00:00, 64.12it/s]\n",
      "Computing chunks: 100%|████████████████████████| 2/2 [00:00<00:00, 72944.42it/s]\n",
      "Splitting the experimental spectrum into chunks: 131072it [00:00, 3633788.18it/s]\n",
      "Deconvolving chunks: 100%|███████████████████████| 1/1 [02:25<00:00, 145.72s/it]\n"
     ]
    },
    {
     "name": "stdout",
     "output_type": "stream",
     "text": [
      "Estimation for 0.04 and 0.16 done\n",
      "It took: 145.88350129127502 seconds.\n",
      "[0.8333953481420128, 0.040160909551000615]\n"
     ]
    },
    {
     "name": "stderr",
     "output_type": "stream",
     "text": [
      "Initial filtering of formulas: 100%|██████████████| 2/2 [00:00<00:00, 64.47it/s]\n",
      "Computing chunks: 100%|████████████████████████| 2/2 [00:00<00:00, 95325.09it/s]\n",
      "Splitting the experimental spectrum into chunks: 131072it [00:00, 3532930.70it/s]\n",
      "Deconvolving chunks: 100%|███████████████████████| 1/1 [02:13<00:00, 133.59s/it]\n"
     ]
    },
    {
     "name": "stdout",
     "output_type": "stream",
     "text": [
      "Estimation for 0.04 and 0.17 done\n",
      "It took: 133.72989320755005 seconds.\n",
      "[0.8335727048930127, 0.0395652873730006]\n"
     ]
    },
    {
     "name": "stderr",
     "output_type": "stream",
     "text": [
      "Initial filtering of formulas: 100%|██████████████| 2/2 [00:00<00:00, 62.45it/s]\n",
      "Computing chunks: 100%|████████████████████████| 2/2 [00:00<00:00, 71697.50it/s]\n",
      "Splitting the experimental spectrum into chunks: 131072it [00:00, 3488586.08it/s]\n",
      "Deconvolving chunks: 100%|███████████████████████| 1/1 [02:30<00:00, 150.40s/it]\n"
     ]
    },
    {
     "name": "stdout",
     "output_type": "stream",
     "text": [
      "Estimation for 0.04 and 0.18000000000000002 done\n",
      "It took: 150.54321670532227 seconds.\n",
      "[0.8335248301280128, 0.0395283449950006]\n"
     ]
    },
    {
     "name": "stderr",
     "output_type": "stream",
     "text": [
      "Initial filtering of formulas: 100%|██████████████| 2/2 [00:00<00:00, 62.05it/s]\n",
      "Computing chunks: 100%|████████████████████████| 2/2 [00:00<00:00, 92182.51it/s]\n",
      "Splitting the experimental spectrum into chunks: 131072it [00:00, 3517851.84it/s]\n",
      "Deconvolving chunks: 100%|███████████████████████| 1/1 [02:32<00:00, 152.56s/it]\n"
     ]
    },
    {
     "name": "stdout",
     "output_type": "stream",
     "text": [
      "Estimation for 0.04 and 0.19 done\n",
      "It took: 152.70106482505798 seconds.\n",
      "[0.8333940486040128, 0.039458324651000604]\n"
     ]
    },
    {
     "name": "stderr",
     "output_type": "stream",
     "text": [
      "Initial filtering of formulas: 100%|██████████████| 2/2 [00:00<00:00, 63.43it/s]\n",
      "Computing chunks: 100%|████████████████████████| 2/2 [00:00<00:00, 93206.76it/s]\n",
      "Splitting the experimental spectrum into chunks: 131072it [00:00, 3451895.71it/s]\n",
      "Deconvolving chunks: 100%|███████████████████████| 1/1 [02:34<00:00, 154.77s/it]\n"
     ]
    },
    {
     "name": "stdout",
     "output_type": "stream",
     "text": [
      "Estimation for 0.04 and 0.2 done\n",
      "It took: 154.91058659553528 seconds.\n",
      "[0.8333392418820128, 0.0394364558750006]\n"
     ]
    },
    {
     "name": "stderr",
     "output_type": "stream",
     "text": [
      "Initial filtering of formulas: 100%|██████████████| 2/2 [00:00<00:00, 63.57it/s]\n",
      "Computing chunks: 100%|████████████████████████| 2/2 [00:00<00:00, 75573.05it/s]\n",
      "Splitting the experimental spectrum into chunks: 131072it [00:00, 3468687.90it/s]\n",
      "Deconvolving chunks: 100%|███████████████████████| 1/1 [02:32<00:00, 152.91s/it]\n"
     ]
    },
    {
     "name": "stdout",
     "output_type": "stream",
     "text": [
      "Estimation for 0.04 and 0.21000000000000002 done\n",
      "It took: 153.06788396835327 seconds.\n",
      "[0.8332130054910127, 0.0393738460320006]\n"
     ]
    },
    {
     "name": "stderr",
     "output_type": "stream",
     "text": [
      "Initial filtering of formulas: 100%|██████████████| 2/2 [00:00<00:00, 64.82it/s]\n",
      "Computing chunks: 100%|████████████████████████| 2/2 [00:00<00:00, 92182.51it/s]\n",
      "Splitting the experimental spectrum into chunks: 131072it [00:00, 3594326.38it/s]\n",
      "Deconvolving chunks: 100%|███████████████████████| 1/1 [02:30<00:00, 150.64s/it]\n"
     ]
    },
    {
     "name": "stdout",
     "output_type": "stream",
     "text": [
      "Estimation for 0.04 and 0.22 done\n",
      "It took: 150.78401231765747 seconds.\n",
      "[0.8332392501960127, 0.03919689392000061]\n"
     ]
    },
    {
     "name": "stderr",
     "output_type": "stream",
     "text": [
      "Initial filtering of formulas: 100%|██████████████| 2/2 [00:00<00:00, 65.53it/s]\n",
      "Computing chunks: 100%|████████████████████████| 2/2 [00:00<00:00, 86480.49it/s]\n",
      "Splitting the experimental spectrum into chunks: 131072it [00:00, 3524595.38it/s]\n",
      "Deconvolving chunks: 100%|███████████████████████| 1/1 [02:27<00:00, 147.11s/it]\n"
     ]
    },
    {
     "name": "stdout",
     "output_type": "stream",
     "text": [
      "Estimation for 0.04 and 0.23 done\n",
      "It took: 147.24443578720093 seconds.\n",
      "[0.8332814629610128, 0.0391280746360006]\n"
     ]
    },
    {
     "name": "stderr",
     "output_type": "stream",
     "text": [
      "Initial filtering of formulas: 100%|██████████████| 2/2 [00:00<00:00, 64.77it/s]\n",
      "Computing chunks: 100%|████████████████████████| 2/2 [00:00<00:00, 98689.51it/s]\n",
      "Splitting the experimental spectrum into chunks: 131072it [00:00, 3530911.21it/s]\n",
      "Deconvolving chunks: 100%|███████████████████████| 1/1 [02:19<00:00, 139.96s/it]\n"
     ]
    },
    {
     "name": "stdout",
     "output_type": "stream",
     "text": [
      "Estimation for 0.04 and 0.24000000000000002 done\n",
      "It took: 140.1017713546753 seconds.\n",
      "[0.8332929060480128, 0.03909427691500059]\n"
     ]
    },
    {
     "name": "stderr",
     "output_type": "stream",
     "text": [
      "Initial filtering of formulas: 100%|██████████████| 2/2 [00:00<00:00, 65.66it/s]\n",
      "Computing chunks: 100%|████████████████████████| 2/2 [00:00<00:00, 94254.02it/s]\n",
      "Splitting the experimental spectrum into chunks: 131072it [00:00, 3537067.65it/s]\n",
      "Deconvolving chunks: 100%|███████████████████████| 1/1 [02:12<00:00, 132.00s/it]\n"
     ]
    },
    {
     "name": "stdout",
     "output_type": "stream",
     "text": [
      "Estimation for 0.04 and 0.25 done\n",
      "It took: 132.13895988464355 seconds.\n",
      "[0.8331159951390128, 0.0391044218390006]\n"
     ]
    },
    {
     "name": "stderr",
     "output_type": "stream",
     "text": [
      "Initial filtering of formulas: 100%|██████████████| 2/2 [00:00<00:00, 63.43it/s]\n",
      "Computing chunks: 100%|████████████████████████| 2/2 [00:00<00:00, 97541.95it/s]\n",
      "Splitting the experimental spectrum into chunks: 131072it [00:00, 3457931.70it/s]\n",
      "Deconvolving chunks: 100%|███████████████████████| 1/1 [02:35<00:00, 155.21s/it]\n"
     ]
    },
    {
     "name": "stdout",
     "output_type": "stream",
     "text": [
      "Estimation for 0.04 and 0.26 done\n",
      "It took: 155.35088562965393 seconds.\n",
      "[0.8330602380840127, 0.03919090232700061]\n"
     ]
    },
    {
     "name": "stderr",
     "output_type": "stream",
     "text": [
      "Initial filtering of formulas: 100%|██████████████| 2/2 [00:00<00:00, 63.85it/s]\n",
      "Computing chunks: 100%|████████████████████████| 2/2 [00:00<00:00, 88301.14it/s]\n",
      "Splitting the experimental spectrum into chunks: 131072it [00:00, 3487612.30it/s]\n",
      "Deconvolving chunks: 100%|███████████████████████| 1/1 [02:30<00:00, 150.23s/it]\n"
     ]
    },
    {
     "name": "stdout",
     "output_type": "stream",
     "text": [
      "Estimation for 0.04 and 0.27 done\n",
      "It took: 150.36871671676636 seconds.\n",
      "[0.8329547672240127, 0.039283424220000605]\n"
     ]
    },
    {
     "name": "stderr",
     "output_type": "stream",
     "text": [
      "Initial filtering of formulas: 100%|██████████████| 2/2 [00:00<00:00, 64.88it/s]\n",
      "Computing chunks: 100%|████████████████████████| 2/2 [00:00<00:00, 94254.02it/s]\n",
      "Splitting the experimental spectrum into chunks: 131072it [00:00, 3626788.23it/s]\n",
      "Deconvolving chunks: 100%|███████████████████████| 1/1 [02:11<00:00, 131.61s/it]\n"
     ]
    },
    {
     "name": "stdout",
     "output_type": "stream",
     "text": [
      "Estimation for 0.04 and 0.28 done\n",
      "It took: 131.75558304786682 seconds.\n",
      "[0.8325880957160128, 0.039333144207000605]\n"
     ]
    },
    {
     "name": "stderr",
     "output_type": "stream",
     "text": [
      "Initial filtering of formulas: 100%|██████████████| 2/2 [00:00<00:00, 62.53it/s]\n",
      "Computing chunks: 100%|████████████████████████| 2/2 [00:00<00:00, 89240.51it/s]\n",
      "Splitting the experimental spectrum into chunks: 131072it [00:00, 3460434.79it/s]\n",
      "Deconvolving chunks: 100%|███████████████████████| 1/1 [02:33<00:00, 153.09s/it]\n"
     ]
    },
    {
     "name": "stdout",
     "output_type": "stream",
     "text": [
      "Estimation for 0.04 and 0.29000000000000004 done\n",
      "It took: 153.23563766479492 seconds.\n",
      "[0.8325528902660128, 0.039415115877000605]\n"
     ]
    },
    {
     "name": "stderr",
     "output_type": "stream",
     "text": [
      "Initial filtering of formulas: 100%|██████████████| 2/2 [00:00<00:00, 64.36it/s]\n",
      "Computing chunks: 100%|████████████████████████| 2/2 [00:00<00:00, 85598.04it/s]\n",
      "Splitting the experimental spectrum into chunks: 131072it [00:00, 3512726.92it/s]\n",
      "Deconvolving chunks: 100%|███████████████████████| 1/1 [01:54<00:00, 114.95s/it]\n"
     ]
    },
    {
     "name": "stdout",
     "output_type": "stream",
     "text": [
      "Estimation for 0.05 and 0.01 done\n",
      "It took: 115.09057331085205 seconds.\n",
      "[0.8868643834470136, 0.08782616640400134]\n"
     ]
    },
    {
     "name": "stderr",
     "output_type": "stream",
     "text": [
      "Initial filtering of formulas: 100%|██████████████| 2/2 [00:00<00:00, 64.68it/s]\n",
      "Computing chunks: 100%|████████████████████████| 2/2 [00:00<00:00, 91180.52it/s]\n",
      "Splitting the experimental spectrum into chunks: 131072it [00:00, 3564010.93it/s]\n",
      "Deconvolving chunks: 100%|███████████████████████| 1/1 [02:33<00:00, 153.63s/it]\n"
     ]
    },
    {
     "name": "stdout",
     "output_type": "stream",
     "text": [
      "Estimation for 0.05 and 0.02 done\n",
      "It took: 153.76284289360046 seconds.\n",
      "[0.845840682730013, 0.10100678777100155]\n"
     ]
    },
    {
     "name": "stderr",
     "output_type": "stream",
     "text": [
      "Initial filtering of formulas: 100%|██████████████| 2/2 [00:00<00:00, 62.31it/s]\n",
      "Computing chunks: 100%|████████████████████████| 2/2 [00:00<00:00, 89240.51it/s]\n",
      "Splitting the experimental spectrum into chunks: 131072it [00:00, 3457431.52it/s]\n",
      "Deconvolving chunks: 100%|███████████████████████| 1/1 [02:11<00:00, 131.27s/it]\n"
     ]
    },
    {
     "name": "stdout",
     "output_type": "stream",
     "text": [
      "Estimation for 0.05 and 0.03 done\n",
      "It took: 131.43451642990112 seconds.\n",
      "[0.8315562963630128, 0.10554811106100162]\n"
     ]
    },
    {
     "name": "stderr",
     "output_type": "stream",
     "text": [
      "Initial filtering of formulas: 100%|██████████████| 2/2 [00:00<00:00, 64.94it/s]\n",
      "Computing chunks: 100%|████████████████████████| 2/2 [00:00<00:00, 60787.01it/s]\n",
      "Splitting the experimental spectrum into chunks: 131072it [00:00, 3534543.42it/s]\n",
      "Deconvolving chunks: 100%|███████████████████████| 1/1 [02:07<00:00, 127.58s/it]\n"
     ]
    },
    {
     "name": "stdout",
     "output_type": "stream",
     "text": [
      "Estimation for 0.05 and 0.04 done\n",
      "It took: 127.7158715724945 seconds.\n",
      "[0.8299577606360128, 0.1054417397200016]\n"
     ]
    },
    {
     "name": "stderr",
     "output_type": "stream",
     "text": [
      "Initial filtering of formulas: 100%|██████████████| 2/2 [00:00<00:00, 58.00it/s]\n",
      "Computing chunks: 100%|████████████████████████| 2/2 [00:00<00:00, 83886.08it/s]\n",
      "Splitting the experimental spectrum into chunks: 131072it [00:00, 3289370.70it/s]\n",
      "Deconvolving chunks: 100%|███████████████████████| 1/1 [02:42<00:00, 162.44s/it]\n"
     ]
    },
    {
     "name": "stdout",
     "output_type": "stream",
     "text": [
      "Estimation for 0.05 and 0.05 done\n",
      "It took: 162.5848410129547 seconds.\n",
      "[0.8281424176480127, 0.10546224779500162]\n"
     ]
    },
    {
     "name": "stderr",
     "output_type": "stream",
     "text": [
      "Initial filtering of formulas: 100%|██████████████| 2/2 [00:00<00:00, 59.91it/s]\n",
      "Computing chunks: 100%|████████████████████████| 2/2 [00:00<00:00, 91180.52it/s]\n",
      "Splitting the experimental spectrum into chunks: 131072it [00:00, 3690899.66it/s]\n",
      "Deconvolving chunks: 100%|███████████████████████| 1/1 [02:33<00:00, 153.63s/it]\n"
     ]
    },
    {
     "name": "stdout",
     "output_type": "stream",
     "text": [
      "Estimation for 0.05 and 0.060000000000000005 done\n",
      "It took: 153.78102254867554 seconds.\n",
      "[0.8255835393130126, 0.10526450565100161]\n"
     ]
    },
    {
     "name": "stderr",
     "output_type": "stream",
     "text": [
      "Initial filtering of formulas: 100%|██████████████| 2/2 [00:00<00:00, 65.22it/s]\n",
      "Computing chunks: 100%|████████████████████████| 2/2 [00:00<00:00, 97541.95it/s]\n",
      "Splitting the experimental spectrum into chunks: 131072it [00:00, 3567040.27it/s]\n",
      "Deconvolving chunks: 100%|███████████████████████| 1/1 [02:06<00:00, 126.40s/it]\n"
     ]
    },
    {
     "name": "stdout",
     "output_type": "stream",
     "text": [
      "Estimation for 0.05 and 0.06999999999999999 done\n",
      "It took: 126.53530359268188 seconds.\n",
      "[0.8226620378310127, 0.10481841520000161]\n"
     ]
    },
    {
     "name": "stderr",
     "output_type": "stream",
     "text": [
      "Initial filtering of formulas: 100%|██████████████| 2/2 [00:00<00:00, 64.28it/s]\n",
      "Computing chunks: 100%|████████████████████████| 2/2 [00:00<00:00, 87381.33it/s]\n",
      "Splitting the experimental spectrum into chunks: 131072it [00:00, 3592353.47it/s]\n",
      "Deconvolving chunks: 100%|███████████████████████| 1/1 [02:27<00:00, 147.87s/it]\n"
     ]
    },
    {
     "name": "stdout",
     "output_type": "stream",
     "text": [
      "Estimation for 0.05 and 0.08 done\n",
      "It took: 148.00912046432495 seconds.\n",
      "[0.8215801909010125, 0.1045032658670016]\n"
     ]
    },
    {
     "name": "stderr",
     "output_type": "stream",
     "text": [
      "Initial filtering of formulas: 100%|██████████████| 2/2 [00:00<00:00, 64.73it/s]\n",
      "Computing chunks: 100%|███████████████████████| 2/2 [00:00<00:00, 101067.57it/s]\n",
      "Splitting the experimental spectrum into chunks: 131072it [00:00, 3494884.48it/s]\n",
      "Deconvolving chunks: 100%|███████████████████████| 1/1 [02:05<00:00, 125.71s/it]\n"
     ]
    },
    {
     "name": "stdout",
     "output_type": "stream",
     "text": [
      "Estimation for 0.05 and 0.09 done\n",
      "It took: 125.86548352241516 seconds.\n",
      "[0.8217657330480126, 0.10337580587400158]\n"
     ]
    },
    {
     "name": "stderr",
     "output_type": "stream",
     "text": [
      "Initial filtering of formulas: 100%|██████████████| 2/2 [00:00<00:00, 64.63it/s]\n",
      "Computing chunks: 100%|████████████████████████| 2/2 [00:00<00:00, 97541.95it/s]\n",
      "Splitting the experimental spectrum into chunks: 131072it [00:00, 3534157.14it/s]\n",
      "Deconvolving chunks: 100%|███████████████████████| 1/1 [02:10<00:00, 130.53s/it]\n"
     ]
    },
    {
     "name": "stdout",
     "output_type": "stream",
     "text": [
      "Estimation for 0.05 and 0.09999999999999999 done\n",
      "It took: 130.69266533851624 seconds.\n",
      "[0.8214726736540126, 0.10218346632100157]\n"
     ]
    },
    {
     "name": "stderr",
     "output_type": "stream",
     "text": [
      "Initial filtering of formulas: 100%|██████████████| 2/2 [00:00<00:00, 62.27it/s]\n",
      "Computing chunks: 100%|████████████████████████| 2/2 [00:00<00:00, 58254.22it/s]\n",
      "Splitting the experimental spectrum into chunks: 131072it [00:00, 3486196.86it/s]\n",
      "Deconvolving chunks: 100%|███████████████████████| 1/1 [02:30<00:00, 150.26s/it]\n"
     ]
    },
    {
     "name": "stdout",
     "output_type": "stream",
     "text": [
      "Estimation for 0.05 and 0.11 done\n",
      "It took: 150.41265416145325 seconds.\n",
      "[0.8254505089840126, 0.09202429969400142]\n"
     ]
    },
    {
     "name": "stderr",
     "output_type": "stream",
     "text": [
      "Initial filtering of formulas: 100%|██████████████| 2/2 [00:00<00:00, 56.45it/s]\n",
      "Computing chunks: 100%|████████████████████████| 2/2 [00:00<00:00, 88301.14it/s]\n",
      "Splitting the experimental spectrum into chunks: 131072it [00:00, 3406317.58it/s]\n",
      "Deconvolving chunks: 100%|███████████████████████| 1/1 [02:08<00:00, 128.12s/it]\n"
     ]
    },
    {
     "name": "stdout",
     "output_type": "stream",
     "text": [
      "Estimation for 0.05 and 0.12 done\n",
      "It took: 128.2696967124939 seconds.\n",
      "[0.8258050247140126, 0.09034751517500139]\n"
     ]
    },
    {
     "name": "stderr",
     "output_type": "stream",
     "text": [
      "Initial filtering of formulas: 100%|██████████████| 2/2 [00:00<00:00, 62.89it/s]\n",
      "Computing chunks: 100%|████████████████████████| 2/2 [00:00<00:00, 94254.02it/s]\n",
      "Splitting the experimental spectrum into chunks: 131072it [00:00, 3405979.93it/s]\n",
      "Deconvolving chunks: 100%|███████████████████████| 1/1 [02:08<00:00, 128.48s/it]\n"
     ]
    },
    {
     "name": "stdout",
     "output_type": "stream",
     "text": [
      "Estimation for 0.05 and 0.13 done\n",
      "It took: 128.62052822113037 seconds.\n",
      "[0.8275986454260127, 0.08655219381700133]\n"
     ]
    },
    {
     "name": "stderr",
     "output_type": "stream",
     "text": [
      "Initial filtering of formulas: 100%|██████████████| 2/2 [00:00<00:00, 64.76it/s]\n",
      "Computing chunks: 100%|███████████████████████| 2/2 [00:00<00:00, 101067.57it/s]\n",
      "Splitting the experimental spectrum into chunks: 131072it [00:00, 3501607.08it/s]\n",
      "Deconvolving chunks: 100%|███████████████████████| 1/1 [02:50<00:00, 170.66s/it]\n"
     ]
    },
    {
     "name": "stdout",
     "output_type": "stream",
     "text": [
      "Estimation for 0.05 and 0.14 done\n",
      "It took: 170.79822421073914 seconds.\n",
      "[0.8306565450630128, 0.07997157420600122]\n"
     ]
    },
    {
     "name": "stderr",
     "output_type": "stream",
     "text": [
      "Initial filtering of formulas: 100%|██████████████| 2/2 [00:00<00:00, 56.06it/s]\n",
      "Computing chunks: 100%|████████████████████████| 2/2 [00:00<00:00, 64527.75it/s]\n",
      "Splitting the experimental spectrum into chunks: 131072it [00:00, 3418751.87it/s]\n",
      "Deconvolving chunks: 100%|███████████████████████| 1/1 [02:25<00:00, 145.42s/it]\n"
     ]
    },
    {
     "name": "stdout",
     "output_type": "stream",
     "text": [
      "Estimation for 0.05 and 0.15000000000000002 done\n",
      "It took: 145.58564710617065 seconds.\n",
      "[0.8327004504880128, 0.06992856154000107]\n"
     ]
    },
    {
     "name": "stderr",
     "output_type": "stream",
     "text": [
      "Initial filtering of formulas: 100%|██████████████| 2/2 [00:00<00:00, 64.40it/s]\n",
      "Computing chunks: 100%|████████████████████████| 2/2 [00:00<00:00, 88301.14it/s]\n",
      "Splitting the experimental spectrum into chunks: 131072it [00:00, 3608576.56it/s]\n",
      "Deconvolving chunks: 100%|███████████████████████| 1/1 [02:30<00:00, 150.15s/it]\n"
     ]
    },
    {
     "name": "stdout",
     "output_type": "stream",
     "text": [
      "Estimation for 0.05 and 0.16 done\n",
      "It took: 150.29902601242065 seconds.\n",
      "[0.8353720464570128, 0.06221948571300095]\n"
     ]
    },
    {
     "name": "stderr",
     "output_type": "stream",
     "text": [
      "Initial filtering of formulas: 100%|██████████████| 2/2 [00:00<00:00, 64.04it/s]\n",
      "Computing chunks: 100%|████████████████████████| 2/2 [00:00<00:00, 92182.51it/s]\n",
      "Splitting the experimental spectrum into chunks: 131072it [00:00, 3576112.76it/s]\n",
      "Deconvolving chunks: 100%|███████████████████████| 1/1 [02:11<00:00, 131.00s/it]\n"
     ]
    },
    {
     "name": "stdout",
     "output_type": "stream",
     "text": [
      "Estimation for 0.05 and 0.17 done\n",
      "It took: 131.1493570804596 seconds.\n",
      "[0.8383305876040129, 0.05379268791100083]\n"
     ]
    },
    {
     "name": "stderr",
     "output_type": "stream",
     "text": [
      "Initial filtering of formulas: 100%|██████████████| 2/2 [00:00<00:00, 62.40it/s]\n",
      "Computing chunks: 100%|████████████████████████| 2/2 [00:00<00:00, 91180.52it/s]\n",
      "Splitting the experimental spectrum into chunks: 131072it [00:00, 3445902.34it/s]\n",
      "Deconvolving chunks: 100%|███████████████████████| 1/1 [02:34<00:00, 154.83s/it]\n"
     ]
    },
    {
     "name": "stdout",
     "output_type": "stream",
     "text": [
      "Estimation for 0.05 and 0.18000000000000002 done\n",
      "It took: 154.9699945449829 seconds.\n",
      "[0.8408437053230129, 0.046146845214000705]\n"
     ]
    },
    {
     "name": "stderr",
     "output_type": "stream",
     "text": [
      "Initial filtering of formulas: 100%|██████████████| 2/2 [00:00<00:00, 62.25it/s]\n",
      "Computing chunks: 100%|███████████████████████| 2/2 [00:00<00:00, 102300.10it/s]\n",
      "Splitting the experimental spectrum into chunks: 131072it [00:00, 3503191.32it/s]\n",
      "Deconvolving chunks: 100%|███████████████████████| 1/1 [02:29<00:00, 149.74s/it]\n"
     ]
    },
    {
     "name": "stdout",
     "output_type": "stream",
     "text": [
      "Estimation for 0.05 and 0.19 done\n",
      "It took: 149.88065099716187 seconds.\n",
      "[0.8405561739200129, 0.04616970133500071]\n"
     ]
    },
    {
     "name": "stderr",
     "output_type": "stream",
     "text": [
      "Initial filtering of formulas: 100%|██████████████| 2/2 [00:00<00:00, 64.74it/s]\n",
      "Computing chunks: 100%|████████████████████████| 2/2 [00:00<00:00, 98689.51it/s]\n",
      "Splitting the experimental spectrum into chunks: 131072it [00:00, 3567156.00it/s]\n",
      "Deconvolving chunks: 100%|███████████████████████| 1/1 [02:36<00:00, 156.39s/it]\n"
     ]
    },
    {
     "name": "stdout",
     "output_type": "stream",
     "text": [
      "Estimation for 0.05 and 0.2 done\n",
      "It took: 156.52837800979614 seconds.\n",
      "[0.8402341177280129, 0.0458761268410007]\n"
     ]
    },
    {
     "name": "stderr",
     "output_type": "stream",
     "text": [
      "Initial filtering of formulas: 100%|██████████████| 2/2 [00:00<00:00, 65.10it/s]\n",
      "Computing chunks: 100%|████████████████████████| 2/2 [00:00<00:00, 95325.09it/s]\n",
      "Splitting the experimental spectrum into chunks: 131072it [00:00, 3567248.58it/s]\n",
      "Deconvolving chunks: 100%|███████████████████████| 1/1 [02:16<00:00, 136.17s/it]\n"
     ]
    },
    {
     "name": "stdout",
     "output_type": "stream",
     "text": [
      "Estimation for 0.05 and 0.21000000000000002 done\n",
      "It took: 136.30489993095398 seconds.\n",
      "[0.8398433259090129, 0.045476837849000695]\n"
     ]
    },
    {
     "name": "stderr",
     "output_type": "stream",
     "text": [
      "Initial filtering of formulas: 100%|██████████████| 2/2 [00:00<00:00, 64.21it/s]\n",
      "Computing chunks: 100%|████████████████████████| 2/2 [00:00<00:00, 90200.09it/s]\n",
      "Splitting the experimental spectrum into chunks: 131072it [00:00, 3484672.13it/s]\n",
      "Deconvolving chunks: 100%|███████████████████████| 1/1 [02:11<00:00, 131.86s/it]\n"
     ]
    },
    {
     "name": "stdout",
     "output_type": "stream",
     "text": [
      "Estimation for 0.05 and 0.22 done\n",
      "It took: 131.99761319160461 seconds.\n",
      "[0.8395172937550128, 0.0455426765930007]\n"
     ]
    },
    {
     "name": "stderr",
     "output_type": "stream",
     "text": [
      "Initial filtering of formulas: 100%|██████████████| 2/2 [00:00<00:00, 63.17it/s]\n",
      "Computing chunks: 100%|████████████████████████| 2/2 [00:00<00:00, 95325.09it/s]\n",
      "Splitting the experimental spectrum into chunks: 131072it [00:00, 3506475.92it/s]\n",
      "Deconvolving chunks: 100%|███████████████████████| 1/1 [02:30<00:00, 150.06s/it]\n"
     ]
    },
    {
     "name": "stdout",
     "output_type": "stream",
     "text": [
      "Estimation for 0.05 and 0.23 done\n",
      "It took: 150.19960498809814 seconds.\n",
      "[0.8391477645120129, 0.045231885292000694]\n"
     ]
    },
    {
     "name": "stderr",
     "output_type": "stream",
     "text": [
      "Initial filtering of formulas: 100%|██████████████| 2/2 [00:00<00:00, 63.65it/s]\n",
      "Computing chunks: 100%|████████████████████████| 2/2 [00:00<00:00, 86480.49it/s]\n",
      "Splitting the experimental spectrum into chunks: 131072it [00:00, 3496685.03it/s]\n",
      "Deconvolving chunks: 100%|███████████████████████| 1/1 [02:42<00:00, 162.29s/it]\n"
     ]
    },
    {
     "name": "stdout",
     "output_type": "stream",
     "text": [
      "Estimation for 0.05 and 0.24000000000000002 done\n",
      "It took: 162.43185710906982 seconds.\n",
      "[0.8388804063610129, 0.04508526816900069]\n"
     ]
    },
    {
     "name": "stderr",
     "output_type": "stream",
     "text": [
      "Initial filtering of formulas: 100%|██████████████| 2/2 [00:00<00:00, 63.87it/s]\n",
      "Computing chunks: 100%|████████████████████████| 2/2 [00:00<00:00, 93206.76it/s]\n",
      "Splitting the experimental spectrum into chunks: 131072it [00:00, 3507594.53it/s]\n",
      "Deconvolving chunks: 100%|███████████████████████| 1/1 [02:32<00:00, 152.97s/it]\n"
     ]
    },
    {
     "name": "stdout",
     "output_type": "stream",
     "text": [
      "Estimation for 0.05 and 0.25 done\n",
      "It took: 153.10506200790405 seconds.\n",
      "[0.8387800644210128, 0.0450766925890007]\n"
     ]
    },
    {
     "name": "stderr",
     "output_type": "stream",
     "text": [
      "Initial filtering of formulas: 100%|██████████████| 2/2 [00:00<00:00, 62.85it/s]\n",
      "Computing chunks: 100%|████████████████████████| 2/2 [00:00<00:00, 98689.51it/s]\n",
      "Splitting the experimental spectrum into chunks: 131072it [00:00, 3522540.26it/s]\n",
      "Deconvolving chunks: 100%|███████████████████████| 1/1 [02:35<00:00, 155.33s/it]\n"
     ]
    },
    {
     "name": "stdout",
     "output_type": "stream",
     "text": [
      "Estimation for 0.05 and 0.26 done\n",
      "It took: 155.47302198410034 seconds.\n",
      "[0.8384449064260129, 0.04467989195400069]\n"
     ]
    },
    {
     "name": "stderr",
     "output_type": "stream",
     "text": [
      "Initial filtering of formulas: 100%|██████████████| 2/2 [00:00<00:00, 61.78it/s]\n",
      "Computing chunks: 100%|████████████████████████| 2/2 [00:00<00:00, 94254.02it/s]\n",
      "Splitting the experimental spectrum into chunks: 131072it [00:00, 3380491.52it/s]\n",
      "Deconvolving chunks: 100%|███████████████████████| 1/1 [02:26<00:00, 146.38s/it]\n"
     ]
    },
    {
     "name": "stdout",
     "output_type": "stream",
     "text": [
      "Estimation for 0.05 and 0.27 done\n",
      "It took: 146.54603338241577 seconds.\n",
      "[0.8383850247230129, 0.04460010425700068]\n"
     ]
    },
    {
     "name": "stderr",
     "output_type": "stream",
     "text": [
      "Initial filtering of formulas: 100%|██████████████| 2/2 [00:00<00:00, 63.06it/s]\n",
      "Computing chunks: 100%|████████████████████████| 2/2 [00:00<00:00, 40721.40it/s]\n",
      "Splitting the experimental spectrum into chunks: 131072it [00:00, 3470855.94it/s]\n",
      "Deconvolving chunks: 100%|███████████████████████| 1/1 [02:19<00:00, 139.92s/it]\n"
     ]
    },
    {
     "name": "stdout",
     "output_type": "stream",
     "text": [
      "Estimation for 0.05 and 0.28 done\n",
      "It took: 140.06324434280396 seconds.\n",
      "[0.8383470834860128, 0.04441987203600068]\n"
     ]
    },
    {
     "name": "stderr",
     "output_type": "stream",
     "text": [
      "Initial filtering of formulas: 100%|██████████████| 2/2 [00:00<00:00, 56.77it/s]\n",
      "Computing chunks: 100%|████████████████████████| 2/2 [00:00<00:00, 81442.80it/s]\n",
      "Splitting the experimental spectrum into chunks: 131072it [00:00, 3305410.14it/s]\n",
      "Deconvolving chunks: 100%|███████████████████████| 1/1 [02:32<00:00, 152.34s/it]\n"
     ]
    },
    {
     "name": "stdout",
     "output_type": "stream",
     "text": [
      "Estimation for 0.05 and 0.29000000000000004 done\n",
      "It took: 152.48978972434998 seconds.\n",
      "[0.8383242771810129, 0.04453517314100068]\n"
     ]
    },
    {
     "name": "stderr",
     "output_type": "stream",
     "text": [
      "Initial filtering of formulas: 100%|██████████████| 2/2 [00:00<00:00, 59.23it/s]\n",
      "Computing chunks: 100%|████████████████████████| 2/2 [00:00<00:00, 37617.08it/s]\n",
      "Splitting the experimental spectrum into chunks: 131072it [00:00, 3413996.24it/s]\n",
      "Deconvolving chunks: 100%|███████████████████████| 1/1 [01:58<00:00, 118.21s/it]\n"
     ]
    },
    {
     "name": "stdout",
     "output_type": "stream",
     "text": [
      "Estimation for 0.060000000000000005 and 0.01 done\n",
      "It took: 118.35563373565674 seconds.\n",
      "[0.8821369414650135, 0.09553862006000145]\n"
     ]
    },
    {
     "name": "stderr",
     "output_type": "stream",
     "text": [
      "Initial filtering of formulas: 100%|██████████████| 2/2 [00:00<00:00, 64.72it/s]\n",
      "Computing chunks: 100%|███████████████████████| 2/2 [00:00<00:00, 104857.60it/s]\n",
      "Splitting the experimental spectrum into chunks: 131072it [00:00, 3546468.50it/s]\n",
      "Deconvolving chunks: 100%|███████████████████████| 1/1 [02:34<00:00, 154.96s/it]\n"
     ]
    },
    {
     "name": "stdout",
     "output_type": "stream",
     "text": [
      "Estimation for 0.060000000000000005 and 0.02 done\n",
      "It took: 155.09747219085693 seconds.\n",
      "[0.851105689042013, 0.10028543259600153]\n"
     ]
    },
    {
     "name": "stderr",
     "output_type": "stream",
     "text": [
      "Initial filtering of formulas: 100%|██████████████| 2/2 [00:00<00:00, 62.66it/s]\n",
      "Computing chunks: 100%|████████████████████████| 2/2 [00:00<00:00, 93206.76it/s]\n",
      "Splitting the experimental spectrum into chunks: 131072it [00:00, 3471316.17it/s]\n",
      "Deconvolving chunks: 100%|███████████████████████| 1/1 [02:16<00:00, 136.28s/it]\n"
     ]
    },
    {
     "name": "stdout",
     "output_type": "stream",
     "text": [
      "Estimation for 0.060000000000000005 and 0.03 done\n",
      "It took: 136.44272828102112 seconds.\n",
      "[0.8364746785830127, 0.1052505621360016]\n"
     ]
    },
    {
     "name": "stderr",
     "output_type": "stream",
     "text": [
      "Initial filtering of formulas: 100%|██████████████| 2/2 [00:00<00:00, 59.45it/s]\n",
      "Computing chunks: 100%|████████████████████████| 2/2 [00:00<00:00, 67108.86it/s]\n",
      "Splitting the experimental spectrum into chunks: 131072it [00:00, 3358518.02it/s]\n",
      "Deconvolving chunks: 100%|███████████████████████| 1/1 [02:13<00:00, 133.56s/it]\n"
     ]
    },
    {
     "name": "stdout",
     "output_type": "stream",
     "text": [
      "Estimation for 0.060000000000000005 and 0.04 done\n",
      "It took: 133.72630548477173 seconds.\n",
      "[0.8331138749960127, 0.10573660042600162]\n"
     ]
    },
    {
     "name": "stderr",
     "output_type": "stream",
     "text": [
      "Initial filtering of formulas: 100%|██████████████| 2/2 [00:00<00:00, 56.21it/s]\n",
      "Computing chunks: 100%|████████████████████████| 2/2 [00:00<00:00, 84733.41it/s]\n",
      "Splitting the experimental spectrum into chunks: 131072it [00:00, 3257136.68it/s]\n",
      "Deconvolving chunks: 100%|███████████████████████| 1/1 [02:08<00:00, 128.76s/it]\n"
     ]
    },
    {
     "name": "stdout",
     "output_type": "stream",
     "text": [
      "Estimation for 0.060000000000000005 and 0.05 done\n",
      "It took: 128.91355395317078 seconds.\n",
      "[0.8318188969230128, 0.10561416096500162]\n"
     ]
    },
    {
     "name": "stderr",
     "output_type": "stream",
     "text": [
      "Initial filtering of formulas: 100%|██████████████| 2/2 [00:00<00:00, 64.26it/s]\n",
      "Computing chunks: 100%|████████████████████████| 2/2 [00:00<00:00, 98689.51it/s]\n",
      "Splitting the experimental spectrum into chunks: 131072it [00:00, 3459215.44it/s]\n",
      "Deconvolving chunks: 100%|███████████████████████| 1/1 [02:05<00:00, 125.78s/it]\n"
     ]
    },
    {
     "name": "stdout",
     "output_type": "stream",
     "text": [
      "Estimation for 0.060000000000000005 and 0.060000000000000005 done\n",
      "It took: 125.92452383041382 seconds.\n",
      "[0.8311104861820128, 0.10518288683700161]\n"
     ]
    },
    {
     "name": "stderr",
     "output_type": "stream",
     "text": [
      "Initial filtering of formulas: 100%|██████████████| 2/2 [00:00<00:00, 60.83it/s]\n",
      "Computing chunks: 100%|████████████████████████| 2/2 [00:00<00:00, 91180.52it/s]\n",
      "Splitting the experimental spectrum into chunks: 131072it [00:00, 3382925.34it/s]\n",
      "Deconvolving chunks: 100%|███████████████████████| 1/1 [02:09<00:00, 129.91s/it]\n"
     ]
    },
    {
     "name": "stdout",
     "output_type": "stream",
     "text": [
      "Estimation for 0.060000000000000005 and 0.06999999999999999 done\n",
      "It took: 130.07412123680115 seconds.\n",
      "[0.8292149251850126, 0.1051673633640016]\n"
     ]
    },
    {
     "name": "stderr",
     "output_type": "stream",
     "text": [
      "Initial filtering of formulas: 100%|██████████████| 2/2 [00:00<00:00, 64.48it/s]\n",
      "Computing chunks: 100%|████████████████████████| 2/2 [00:00<00:00, 93206.76it/s]\n",
      "Splitting the experimental spectrum into chunks: 131072it [00:00, 3526290.96it/s]\n",
      "Deconvolving chunks: 100%|███████████████████████| 1/1 [02:28<00:00, 148.90s/it]\n"
     ]
    },
    {
     "name": "stdout",
     "output_type": "stream",
     "text": [
      "Estimation for 0.060000000000000005 and 0.08 done\n",
      "It took: 149.03605818748474 seconds.\n",
      "[0.8269836417790126, 0.10517773257700161]\n"
     ]
    },
    {
     "name": "stderr",
     "output_type": "stream",
     "text": [
      "Initial filtering of formulas: 100%|██████████████| 2/2 [00:00<00:00, 62.32it/s]\n",
      "Computing chunks: 100%|███████████████████████| 2/2 [00:00<00:00, 101067.57it/s]\n",
      "Splitting the experimental spectrum into chunks: 131072it [00:00, 3462243.61it/s]\n",
      "Deconvolving chunks: 100%|███████████████████████| 1/1 [02:02<00:00, 122.70s/it]\n"
     ]
    },
    {
     "name": "stdout",
     "output_type": "stream",
     "text": [
      "Estimation for 0.060000000000000005 and 0.09 done\n",
      "It took: 122.84326815605164 seconds.\n",
      "[0.8259129870020127, 0.10506493557900161]\n"
     ]
    },
    {
     "name": "stderr",
     "output_type": "stream",
     "text": [
      "Initial filtering of formulas: 100%|██████████████| 2/2 [00:00<00:00, 64.24it/s]\n",
      "Computing chunks: 100%|████████████████████████| 2/2 [00:00<00:00, 91180.52it/s]\n",
      "Splitting the experimental spectrum into chunks: 131072it [00:00, 3540666.93it/s]\n",
      "Deconvolving chunks: 100%|███████████████████████| 1/1 [02:41<00:00, 161.04s/it]\n"
     ]
    },
    {
     "name": "stdout",
     "output_type": "stream",
     "text": [
      "Estimation for 0.060000000000000005 and 0.09999999999999999 done\n",
      "It took: 161.17750883102417 seconds.\n",
      "[0.8251881702930126, 0.1044814099730016]\n"
     ]
    },
    {
     "name": "stderr",
     "output_type": "stream",
     "text": [
      "Initial filtering of formulas: 100%|██████████████| 2/2 [00:00<00:00, 64.10it/s]\n",
      "Computing chunks: 100%|████████████████████████| 2/2 [00:00<00:00, 98689.51it/s]\n",
      "Splitting the experimental spectrum into chunks: 131072it [00:00, 3496329.22it/s]\n",
      "Deconvolving chunks: 100%|███████████████████████| 1/1 [02:10<00:00, 130.42s/it]\n"
     ]
    },
    {
     "name": "stdout",
     "output_type": "stream",
     "text": [
      "Estimation for 0.060000000000000005 and 0.11 done\n",
      "It took: 130.58115339279175 seconds.\n",
      "[0.8239662748910127, 0.10427212819500159]\n"
     ]
    },
    {
     "name": "stderr",
     "output_type": "stream",
     "text": [
      "Initial filtering of formulas: 100%|██████████████| 2/2 [00:00<00:00, 63.85it/s]\n",
      "Computing chunks: 100%|████████████████████████| 2/2 [00:00<00:00, 96420.78it/s]\n",
      "Splitting the experimental spectrum into chunks: 131072it [00:00, 3502700.28it/s]\n",
      "Deconvolving chunks: 100%|███████████████████████| 1/1 [02:05<00:00, 125.26s/it]\n"
     ]
    },
    {
     "name": "stdout",
     "output_type": "stream",
     "text": [
      "Estimation for 0.060000000000000005 and 0.12 done\n",
      "It took: 125.40313458442688 seconds.\n",
      "[0.8239384141380126, 0.10183049877000155]\n"
     ]
    },
    {
     "name": "stderr",
     "output_type": "stream",
     "text": [
      "Initial filtering of formulas: 100%|██████████████| 2/2 [00:00<00:00, 64.56it/s]\n",
      "Computing chunks: 100%|████████████████████████| 2/2 [00:00<00:00, 88301.14it/s]\n",
      "Splitting the experimental spectrum into chunks: 131072it [00:00, 3464600.10it/s]\n",
      "Deconvolving chunks: 100%|███████████████████████| 1/1 [02:54<00:00, 174.83s/it]\n"
     ]
    },
    {
     "name": "stdout",
     "output_type": "stream",
     "text": [
      "Estimation for 0.060000000000000005 and 0.13 done\n",
      "It took: 174.96755480766296 seconds.\n",
      "[0.8276934304680127, 0.09514840191100146]\n"
     ]
    },
    {
     "name": "stderr",
     "output_type": "stream",
     "text": [
      "Initial filtering of formulas: 100%|██████████████| 2/2 [00:00<00:00, 56.32it/s]\n",
      "Computing chunks: 100%|████████████████████████| 2/2 [00:00<00:00, 90200.09it/s]\n",
      "Splitting the experimental spectrum into chunks: 131072it [00:00, 3383133.52it/s]\n",
      "Deconvolving chunks: 100%|███████████████████████| 1/1 [02:07<00:00, 127.21s/it]\n"
     ]
    },
    {
     "name": "stdout",
     "output_type": "stream",
     "text": [
      "Estimation for 0.060000000000000005 and 0.14 done\n",
      "It took: 127.3589768409729 seconds.\n",
      "[0.8292385888910127, 0.0913649880800014]\n"
     ]
    },
    {
     "name": "stderr",
     "output_type": "stream",
     "text": [
      "Initial filtering of formulas: 100%|██████████████| 2/2 [00:00<00:00, 63.34it/s]\n",
      "Computing chunks: 100%|████████████████████████| 2/2 [00:00<00:00, 98689.51it/s]\n",
      "Splitting the experimental spectrum into chunks: 131072it [00:00, 3480061.87it/s]\n",
      "Deconvolving chunks: 100%|███████████████████████| 1/1 [02:08<00:00, 128.08s/it]\n"
     ]
    },
    {
     "name": "stdout",
     "output_type": "stream",
     "text": [
      "Estimation for 0.060000000000000005 and 0.15000000000000002 done\n",
      "It took: 128.2177128791809 seconds.\n",
      "[0.8295185256990126, 0.09062776286000139]\n"
     ]
    },
    {
     "name": "stderr",
     "output_type": "stream",
     "text": [
      "Initial filtering of formulas: 100%|██████████████| 2/2 [00:00<00:00, 62.66it/s]\n",
      "Computing chunks: 100%|████████████████████████| 2/2 [00:00<00:00, 84733.41it/s]\n",
      "Splitting the experimental spectrum into chunks: 131072it [00:00, 3447436.56it/s]\n",
      "Deconvolving chunks: 100%|███████████████████████| 1/1 [02:10<00:00, 130.84s/it]\n"
     ]
    },
    {
     "name": "stdout",
     "output_type": "stream",
     "text": [
      "Estimation for 0.060000000000000005 and 0.16 done\n",
      "It took: 130.98512434959412 seconds.\n",
      "[0.8305419698620128, 0.08794646320600134]\n"
     ]
    },
    {
     "name": "stderr",
     "output_type": "stream",
     "text": [
      "Initial filtering of formulas: 100%|██████████████| 2/2 [00:00<00:00, 62.31it/s]\n",
      "Computing chunks: 100%|████████████████████████| 2/2 [00:00<00:00, 91180.52it/s]\n",
      "Splitting the experimental spectrum into chunks: 131072it [00:00, 3527263.83it/s]\n",
      "Deconvolving chunks: 100%|███████████████████████| 1/1 [02:32<00:00, 152.47s/it]\n"
     ]
    },
    {
     "name": "stdout",
     "output_type": "stream",
     "text": [
      "Estimation for 0.060000000000000005 and 0.17 done\n",
      "It took: 152.61362838745117 seconds.\n",
      "[0.8337496113320128, 0.08201786044600126]\n"
     ]
    },
    {
     "name": "stderr",
     "output_type": "stream",
     "text": [
      "Initial filtering of formulas: 100%|██████████████| 2/2 [00:00<00:00, 63.48it/s]\n",
      "Computing chunks: 100%|███████████████████████| 2/2 [00:00<00:00, 102300.10it/s]\n",
      "Splitting the experimental spectrum into chunks: 131072it [00:00, 3467528.34it/s]\n",
      "Deconvolving chunks: 100%|███████████████████████| 1/1 [02:13<00:00, 133.85s/it]\n"
     ]
    },
    {
     "name": "stdout",
     "output_type": "stream",
     "text": [
      "Estimation for 0.060000000000000005 and 0.18000000000000002 done\n",
      "It took: 133.9920952320099 seconds.\n",
      "[0.8385404322100128, 0.07427497485900114]\n"
     ]
    },
    {
     "name": "stderr",
     "output_type": "stream",
     "text": [
      "Initial filtering of formulas: 100%|██████████████| 2/2 [00:00<00:00, 62.62it/s]\n",
      "Computing chunks: 100%|████████████████████████| 2/2 [00:00<00:00, 97541.95it/s]\n",
      "Splitting the experimental spectrum into chunks: 131072it [00:00, 3451050.61it/s]\n",
      "Deconvolving chunks: 100%|███████████████████████| 1/1 [02:51<00:00, 171.81s/it]\n"
     ]
    },
    {
     "name": "stdout",
     "output_type": "stream",
     "text": [
      "Estimation for 0.060000000000000005 and 0.19 done\n",
      "It took: 171.95191502571106 seconds.\n",
      "[0.8439224953540129, 0.06283503965800095]\n"
     ]
    },
    {
     "name": "stderr",
     "output_type": "stream",
     "text": [
      "Initial filtering of formulas: 100%|██████████████| 2/2 [00:00<00:00, 66.19it/s]\n",
      "Computing chunks: 100%|████████████████████████| 2/2 [00:00<00:00, 97541.95it/s]\n",
      "Splitting the experimental spectrum into chunks: 131072it [00:00, 3592611.71it/s]\n",
      "Deconvolving chunks: 100%|███████████████████████| 1/1 [02:09<00:00, 129.39s/it]\n"
     ]
    },
    {
     "name": "stdout",
     "output_type": "stream",
     "text": [
      "Estimation for 0.060000000000000005 and 0.2 done\n",
      "It took: 129.52474999427795 seconds.\n",
      "[0.8439196228400129, 0.06277560168900095]\n"
     ]
    },
    {
     "name": "stderr",
     "output_type": "stream",
     "text": [
      "Initial filtering of formulas: 100%|██████████████| 2/2 [00:00<00:00, 63.49it/s]\n",
      "Computing chunks: 100%|████████████████████████| 2/2 [00:00<00:00, 69905.07it/s]\n",
      "Splitting the experimental spectrum into chunks: 131072it [00:00, 3538524.71it/s]\n",
      "Deconvolving chunks: 100%|███████████████████████| 1/1 [02:28<00:00, 148.98s/it]\n"
     ]
    },
    {
     "name": "stdout",
     "output_type": "stream",
     "text": [
      "Estimation for 0.060000000000000005 and 0.21000000000000002 done\n",
      "It took: 149.11732411384583 seconds.\n",
      "[0.8438862308050129, 0.06273712160000096]\n"
     ]
    },
    {
     "name": "stderr",
     "output_type": "stream",
     "text": [
      "Initial filtering of formulas: 100%|██████████████| 2/2 [00:00<00:00, 65.00it/s]\n",
      "Computing chunks: 100%|████████████████████████| 2/2 [00:00<00:00, 89240.51it/s]\n",
      "Splitting the experimental spectrum into chunks: 131072it [00:00, 3545393.55it/s]\n",
      "Deconvolving chunks: 100%|███████████████████████| 1/1 [02:28<00:00, 148.87s/it]\n"
     ]
    },
    {
     "name": "stdout",
     "output_type": "stream",
     "text": [
      "Estimation for 0.060000000000000005 and 0.22 done\n",
      "It took: 149.0377061367035 seconds.\n",
      "[0.8438971882510129, 0.06259954695300096]\n"
     ]
    },
    {
     "name": "stderr",
     "output_type": "stream",
     "text": [
      "Initial filtering of formulas: 100%|██████████████| 2/2 [00:00<00:00, 63.87it/s]\n",
      "Computing chunks: 100%|███████████████████████| 2/2 [00:00<00:00, 103563.06it/s]\n",
      "Splitting the experimental spectrum into chunks: 131072it [00:00, 3485622.17it/s]\n",
      "Deconvolving chunks: 100%|███████████████████████| 1/1 [02:31<00:00, 151.87s/it]\n"
     ]
    },
    {
     "name": "stdout",
     "output_type": "stream",
     "text": [
      "Estimation for 0.060000000000000005 and 0.23 done\n",
      "It took: 152.0065221786499 seconds.\n",
      "[0.8438654087410129, 0.06266271470500095]\n"
     ]
    },
    {
     "name": "stderr",
     "output_type": "stream",
     "text": [
      "Initial filtering of formulas: 100%|██████████████| 2/2 [00:00<00:00, 61.89it/s]\n",
      "Computing chunks: 100%|████████████████████████| 2/2 [00:00<00:00, 83886.08it/s]\n",
      "Splitting the experimental spectrum into chunks: 131072it [00:00, 3424160.48it/s]\n",
      "Deconvolving chunks: 100%|███████████████████████| 1/1 [02:11<00:00, 131.14s/it]\n"
     ]
    },
    {
     "name": "stdout",
     "output_type": "stream",
     "text": [
      "Estimation for 0.060000000000000005 and 0.24000000000000002 done\n",
      "It took: 131.31059670448303 seconds.\n",
      "[0.8437562112950129, 0.06276477238700096]\n"
     ]
    },
    {
     "name": "stderr",
     "output_type": "stream",
     "text": [
      "Initial filtering of formulas: 100%|██████████████| 2/2 [00:00<00:00, 62.78it/s]\n",
      "Computing chunks: 100%|████████████████████████| 2/2 [00:00<00:00, 66052.03it/s]\n",
      "Splitting the experimental spectrum into chunks: 131072it [00:00, 3403913.23it/s]\n",
      "Deconvolving chunks: 100%|███████████████████████| 1/1 [02:35<00:00, 155.50s/it]\n"
     ]
    },
    {
     "name": "stdout",
     "output_type": "stream",
     "text": [
      "Estimation for 0.060000000000000005 and 0.25 done\n",
      "It took: 155.66813445091248 seconds.\n",
      "[0.8437209877960129, 0.06279951950500096]\n"
     ]
    },
    {
     "name": "stderr",
     "output_type": "stream",
     "text": [
      "Initial filtering of formulas: 100%|██████████████| 2/2 [00:00<00:00, 62.21it/s]\n",
      "Computing chunks: 100%|████████████████████████| 2/2 [00:00<00:00, 89240.51it/s]\n",
      "Splitting the experimental spectrum into chunks: 131072it [00:00, 3478102.35it/s]\n",
      "Deconvolving chunks: 100%|███████████████████████| 1/1 [02:28<00:00, 148.24s/it]\n"
     ]
    },
    {
     "name": "stdout",
     "output_type": "stream",
     "text": [
      "Estimation for 0.060000000000000005 and 0.26 done\n",
      "It took: 148.38197946548462 seconds.\n",
      "[0.8436997897040128, 0.06285383827700096]\n"
     ]
    },
    {
     "name": "stderr",
     "output_type": "stream",
     "text": [
      "Initial filtering of formulas: 100%|██████████████| 2/2 [00:00<00:00, 63.03it/s]\n",
      "Computing chunks: 100%|████████████████████████| 2/2 [00:00<00:00, 69327.34it/s]\n",
      "Splitting the experimental spectrum into chunks: 131072it [00:00, 3409232.67it/s]\n",
      "Deconvolving chunks: 100%|███████████████████████| 1/1 [02:08<00:00, 128.41s/it]\n"
     ]
    },
    {
     "name": "stdout",
     "output_type": "stream",
     "text": [
      "Estimation for 0.060000000000000005 and 0.27 done\n",
      "It took: 128.58134245872498 seconds.\n",
      "[0.8435928676690129, 0.06303967729000097]\n"
     ]
    },
    {
     "name": "stderr",
     "output_type": "stream",
     "text": [
      "Initial filtering of formulas: 100%|██████████████| 2/2 [00:00<00:00, 65.39it/s]\n",
      "Computing chunks: 100%|████████████████████████| 2/2 [00:00<00:00, 73584.28it/s]\n",
      "Splitting the experimental spectrum into chunks: 131072it [00:00, 3526992.28it/s]\n",
      "Deconvolving chunks: 100%|███████████████████████| 1/1 [02:25<00:00, 145.06s/it]\n"
     ]
    },
    {
     "name": "stdout",
     "output_type": "stream",
     "text": [
      "Estimation for 0.060000000000000005 and 0.28 done\n",
      "It took: 145.19980192184448 seconds.\n",
      "[0.8436445371390129, 0.06319273791600097]\n"
     ]
    },
    {
     "name": "stderr",
     "output_type": "stream",
     "text": [
      "Initial filtering of formulas: 100%|██████████████| 2/2 [00:00<00:00, 61.30it/s]\n",
      "Computing chunks: 100%|████████████████████████| 2/2 [00:00<00:00, 43240.25it/s]\n",
      "Splitting the experimental spectrum into chunks: 131072it [00:00, 3333873.95it/s]\n",
      "Deconvolving chunks: 100%|███████████████████████| 1/1 [02:18<00:00, 138.71s/it]\n"
     ]
    },
    {
     "name": "stdout",
     "output_type": "stream",
     "text": [
      "Estimation for 0.060000000000000005 and 0.29000000000000004 done\n",
      "It took: 138.86769890785217 seconds.\n",
      "[0.8436589553510129, 0.06342083434100097]\n"
     ]
    },
    {
     "name": "stderr",
     "output_type": "stream",
     "text": [
      "Initial filtering of formulas: 100%|██████████████| 2/2 [00:00<00:00, 64.94it/s]\n",
      "Computing chunks: 100%|████████████████████████| 2/2 [00:00<00:00, 96420.78it/s]\n",
      "Splitting the experimental spectrum into chunks: 131072it [00:00, 3532022.78it/s]\n",
      "Deconvolving chunks: 100%|███████████████████████| 1/1 [01:51<00:00, 111.99s/it]\n"
     ]
    },
    {
     "name": "stdout",
     "output_type": "stream",
     "text": [
      "Estimation for 0.06999999999999999 and 0.01 done\n",
      "It took: 112.1281578540802 seconds.\n",
      "[0.8697424924890134, 0.10992191965400168]\n"
     ]
    },
    {
     "name": "stderr",
     "output_type": "stream",
     "text": [
      "Initial filtering of formulas: 100%|██████████████| 2/2 [00:00<00:00, 61.45it/s]\n",
      "Computing chunks: 100%|████████████████████████| 2/2 [00:00<00:00, 43690.67it/s]\n",
      "Splitting the experimental spectrum into chunks: 131072it [00:00, 3382987.79it/s]\n",
      "Deconvolving chunks: 100%|███████████████████████| 1/1 [02:40<00:00, 160.25s/it]\n"
     ]
    },
    {
     "name": "stdout",
     "output_type": "stream",
     "text": [
      "Estimation for 0.06999999999999999 and 0.02 done\n",
      "It took: 160.411283493042 seconds.\n",
      "[0.8565536822470131, 0.09904562825600151]\n"
     ]
    },
    {
     "name": "stderr",
     "output_type": "stream",
     "text": [
      "Initial filtering of formulas: 100%|██████████████| 2/2 [00:00<00:00, 62.25it/s]\n",
      "Computing chunks: 100%|████████████████████████| 2/2 [00:00<00:00, 95325.09it/s]\n",
      "Splitting the experimental spectrum into chunks: 131072it [00:00, 3596160.30it/s]\n",
      "Deconvolving chunks: 100%|███████████████████████| 1/1 [02:02<00:00, 122.90s/it]\n"
     ]
    },
    {
     "name": "stdout",
     "output_type": "stream",
     "text": [
      "Estimation for 0.06999999999999999 and 0.03 done\n",
      "It took: 123.0385434627533 seconds.\n",
      "[0.8408595949640129, 0.10483610308100161]\n"
     ]
    },
    {
     "name": "stderr",
     "output_type": "stream",
     "text": [
      "Initial filtering of formulas: 100%|██████████████| 2/2 [00:00<00:00, 65.11it/s]\n",
      "Computing chunks: 100%|████████████████████████| 2/2 [00:00<00:00, 99864.38it/s]\n",
      "Splitting the experimental spectrum into chunks: 131072it [00:00, 3542811.75it/s]\n",
      "Deconvolving chunks: 100%|███████████████████████| 1/1 [02:10<00:00, 130.37s/it]\n"
     ]
    },
    {
     "name": "stdout",
     "output_type": "stream",
     "text": [
      "Estimation for 0.06999999999999999 and 0.04 done\n",
      "It took: 130.50330924987793 seconds.\n",
      "[0.8369858905750128, 0.10567078741600162]\n"
     ]
    },
    {
     "name": "stderr",
     "output_type": "stream",
     "text": [
      "Initial filtering of formulas: 100%|██████████████| 2/2 [00:00<00:00, 62.19it/s]\n",
      "Computing chunks: 100%|████████████████████████| 2/2 [00:00<00:00, 57065.36it/s]\n",
      "Splitting the experimental spectrum into chunks: 131072it [00:00, 3470111.05it/s]\n",
      "Deconvolving chunks: 100%|███████████████████████| 1/1 [02:04<00:00, 124.81s/it]\n"
     ]
    },
    {
     "name": "stdout",
     "output_type": "stream",
     "text": [
      "Estimation for 0.06999999999999999 and 0.05 done\n",
      "It took: 124.97308921813965 seconds.\n",
      "[0.8353531261390128, 0.10577100021400163]\n"
     ]
    },
    {
     "name": "stderr",
     "output_type": "stream",
     "text": [
      "Initial filtering of formulas: 100%|██████████████| 2/2 [00:00<00:00, 65.25it/s]\n",
      "Computing chunks: 100%|████████████████████████| 2/2 [00:00<00:00, 65536.00it/s]\n",
      "Splitting the experimental spectrum into chunks: 131072it [00:00, 3583175.15it/s]\n",
      "Deconvolving chunks: 100%|███████████████████████| 1/1 [02:08<00:00, 128.29s/it]\n"
     ]
    },
    {
     "name": "stdout",
     "output_type": "stream",
     "text": [
      "Estimation for 0.06999999999999999 and 0.060000000000000005 done\n",
      "It took: 128.41923999786377 seconds.\n",
      "[0.8342564756480128, 0.10541233055900161]\n"
     ]
    },
    {
     "name": "stderr",
     "output_type": "stream",
     "text": [
      "Initial filtering of formulas: 100%|██████████████| 2/2 [00:00<00:00, 65.18it/s]\n",
      "Computing chunks: 100%|████████████████████████| 2/2 [00:00<00:00, 94254.02it/s]\n",
      "Splitting the experimental spectrum into chunks: 131072it [00:00, 3559096.33it/s]\n",
      "Deconvolving chunks: 100%|███████████████████████| 1/1 [01:57<00:00, 117.62s/it]\n"
     ]
    },
    {
     "name": "stdout",
     "output_type": "stream",
     "text": [
      "Estimation for 0.06999999999999999 and 0.06999999999999999 done\n",
      "It took: 117.77838683128357 seconds.\n",
      "[0.8331699386400128, 0.1052483159210016]\n"
     ]
    },
    {
     "name": "stderr",
     "output_type": "stream",
     "text": [
      "Initial filtering of formulas: 100%|██████████████| 2/2 [00:00<00:00, 64.29it/s]\n",
      "Computing chunks: 100%|████████████████████████| 2/2 [00:00<00:00, 91180.52it/s]\n",
      "Splitting the experimental spectrum into chunks: 131072it [00:00, 3532658.28it/s]\n",
      "Deconvolving chunks: 100%|███████████████████████| 1/1 [02:23<00:00, 143.51s/it]\n"
     ]
    },
    {
     "name": "stdout",
     "output_type": "stream",
     "text": [
      "Estimation for 0.06999999999999999 and 0.08 done\n",
      "It took: 143.66371965408325 seconds.\n",
      "[0.8324102044280127, 0.10516091373800161]\n"
     ]
    },
    {
     "name": "stderr",
     "output_type": "stream",
     "text": [
      "Initial filtering of formulas: 100%|██████████████| 2/2 [00:00<00:00, 64.03it/s]\n",
      "Computing chunks: 100%|███████████████████████| 2/2 [00:00<00:00, 106184.91it/s]\n",
      "Splitting the experimental spectrum into chunks: 131072it [00:00, 3531659.74it/s]\n",
      "Deconvolving chunks: 100%|███████████████████████| 1/1 [02:08<00:00, 128.42s/it]\n"
     ]
    },
    {
     "name": "stdout",
     "output_type": "stream",
     "text": [
      "Estimation for 0.06999999999999999 and 0.09 done\n",
      "It took: 128.55744338035583 seconds.\n",
      "[0.8309665577710128, 0.10524623990800161]\n"
     ]
    },
    {
     "name": "stderr",
     "output_type": "stream",
     "text": [
      "Initial filtering of formulas: 100%|██████████████| 2/2 [00:00<00:00, 63.94it/s]\n",
      "Computing chunks: 100%|████████████████████████| 2/2 [00:00<00:00, 95325.09it/s]\n",
      "Splitting the experimental spectrum into chunks: 131072it [00:00, 3455866.67it/s]\n",
      "Deconvolving chunks: 100%|███████████████████████| 1/1 [02:03<00:00, 123.82s/it]\n"
     ]
    },
    {
     "name": "stdout",
     "output_type": "stream",
     "text": [
      "Estimation for 0.06999999999999999 and 0.09999999999999999 done\n",
      "It took: 123.98764777183533 seconds.\n",
      "[0.8301811660400128, 0.10532728582900161]\n"
     ]
    },
    {
     "name": "stderr",
     "output_type": "stream",
     "text": [
      "Initial filtering of formulas: 100%|██████████████| 2/2 [00:00<00:00, 62.85it/s]\n",
      "Computing chunks: 100%|████████████████████████| 2/2 [00:00<00:00, 86480.49it/s]\n",
      "Splitting the experimental spectrum into chunks: 131072it [00:00, 3498242.55it/s]\n",
      "Deconvolving chunks: 100%|███████████████████████| 1/1 [02:06<00:00, 126.38s/it]\n"
     ]
    },
    {
     "name": "stdout",
     "output_type": "stream",
     "text": [
      "Estimation for 0.06999999999999999 and 0.11 done\n",
      "It took: 126.52054595947266 seconds.\n",
      "[0.8289751305730126, 0.1048689655420016]\n"
     ]
    },
    {
     "name": "stderr",
     "output_type": "stream",
     "text": [
      "Initial filtering of formulas: 100%|██████████████| 2/2 [00:00<00:00, 64.13it/s]\n",
      "Computing chunks: 100%|████████████████████████| 2/2 [00:00<00:00, 90200.09it/s]\n",
      "Splitting the experimental spectrum into chunks: 131072it [00:00, 3467987.70it/s]\n",
      "Deconvolving chunks: 100%|███████████████████████| 1/1 [02:25<00:00, 145.08s/it]\n"
     ]
    },
    {
     "name": "stdout",
     "output_type": "stream",
     "text": [
      "Estimation for 0.06999999999999999 and 0.12 done\n",
      "It took: 145.21955966949463 seconds.\n",
      "[0.8272664048580126, 0.1048268723190016]\n"
     ]
    },
    {
     "name": "stderr",
     "output_type": "stream",
     "text": [
      "Initial filtering of formulas: 100%|██████████████| 2/2 [00:00<00:00, 64.41it/s]\n",
      "Computing chunks: 100%|████████████████████████| 2/2 [00:00<00:00, 98689.51it/s]\n",
      "Splitting the experimental spectrum into chunks: 131072it [00:00, 3553712.78it/s]\n",
      "Deconvolving chunks: 100%|███████████████████████| 1/1 [02:08<00:00, 128.25s/it]\n"
     ]
    },
    {
     "name": "stdout",
     "output_type": "stream",
     "text": [
      "Estimation for 0.06999999999999999 and 0.13 done\n",
      "It took: 128.40807843208313 seconds.\n",
      "[0.8265326939980127, 0.1040820974370016]\n"
     ]
    },
    {
     "name": "stderr",
     "output_type": "stream",
     "text": [
      "Initial filtering of formulas: 100%|██████████████| 2/2 [00:00<00:00, 63.75it/s]\n",
      "Computing chunks: 100%|███████████████████████| 2/2 [00:00<00:00, 103563.06it/s]\n",
      "Splitting the experimental spectrum into chunks: 131072it [00:00, 3525861.26it/s]\n",
      "Deconvolving chunks: 100%|███████████████████████| 1/1 [02:06<00:00, 126.06s/it]\n"
     ]
    },
    {
     "name": "stdout",
     "output_type": "stream",
     "text": [
      "Estimation for 0.06999999999999999 and 0.14 done\n",
      "It took: 126.19694590568542 seconds.\n",
      "[0.8268689504060126, 0.10310307304200159]\n"
     ]
    },
    {
     "name": "stderr",
     "output_type": "stream",
     "text": [
      "Initial filtering of formulas: 100%|██████████████| 2/2 [00:00<00:00, 65.53it/s]\n",
      "Computing chunks: 100%|████████████████████████| 2/2 [00:00<00:00, 96420.78it/s]\n",
      "Splitting the experimental spectrum into chunks: 131072it [00:00, 3554448.03it/s]\n",
      "Deconvolving chunks: 100%|███████████████████████| 1/1 [03:03<00:00, 183.37s/it]\n"
     ]
    },
    {
     "name": "stdout",
     "output_type": "stream",
     "text": [
      "Estimation for 0.06999999999999999 and 0.15000000000000002 done\n",
      "It took: 183.53346347808838 seconds.\n",
      "[0.8280693481330127, 0.10059969046400154]\n"
     ]
    },
    {
     "name": "stderr",
     "output_type": "stream",
     "text": [
      "Initial filtering of formulas: 100%|██████████████| 2/2 [00:00<00:00, 64.38it/s]\n",
      "Computing chunks: 100%|████████████████████████| 2/2 [00:00<00:00, 98689.51it/s]\n",
      "Splitting the experimental spectrum into chunks: 131072it [00:00, 3513198.33it/s]\n",
      "Deconvolving chunks: 100%|███████████████████████| 1/1 [02:12<00:00, 132.29s/it]\n"
     ]
    },
    {
     "name": "stdout",
     "output_type": "stream",
     "text": [
      "Estimation for 0.06999999999999999 and 0.16 done\n",
      "It took: 132.43042254447937 seconds.\n",
      "[0.8301540689340128, 0.09662171156800148]\n"
     ]
    },
    {
     "name": "stderr",
     "output_type": "stream",
     "text": [
      "Initial filtering of formulas: 100%|██████████████| 2/2 [00:00<00:00, 63.32it/s]\n",
      "Computing chunks: 100%|████████████████████████| 2/2 [00:00<00:00, 99864.38it/s]\n",
      "Splitting the experimental spectrum into chunks: 131072it [00:00, 3488431.12it/s]\n",
      "Deconvolving chunks: 100%|███████████████████████| 1/1 [02:37<00:00, 157.90s/it]\n"
     ]
    },
    {
     "name": "stdout",
     "output_type": "stream",
     "text": [
      "Estimation for 0.06999999999999999 and 0.17 done\n",
      "It took: 158.0383334159851 seconds.\n",
      "[0.8333001611420128, 0.0915367775630014]\n"
     ]
    },
    {
     "name": "stderr",
     "output_type": "stream",
     "text": [
      "Initial filtering of formulas: 100%|██████████████| 2/2 [00:00<00:00, 64.07it/s]\n",
      "Computing chunks: 100%|████████████████████████| 2/2 [00:00<00:00, 89240.51it/s]\n",
      "Splitting the experimental spectrum into chunks: 131072it [00:00, 3466172.87it/s]\n",
      "Deconvolving chunks: 100%|███████████████████████| 1/1 [02:09<00:00, 129.37s/it]\n"
     ]
    },
    {
     "name": "stdout",
     "output_type": "stream",
     "text": [
      "Estimation for 0.06999999999999999 and 0.18000000000000002 done\n",
      "It took: 129.5101821422577 seconds.\n",
      "[0.8334916647540128, 0.09075042409400139]\n"
     ]
    },
    {
     "name": "stderr",
     "output_type": "stream",
     "text": [
      "Initial filtering of formulas: 100%|██████████████| 2/2 [00:00<00:00, 64.46it/s]\n",
      "Computing chunks: 100%|████████████████████████| 2/2 [00:00<00:00, 87381.33it/s]\n",
      "Splitting the experimental spectrum into chunks: 131072it [00:00, 3535861.94it/s]\n",
      "Deconvolving chunks: 100%|███████████████████████| 1/1 [02:25<00:00, 145.08s/it]\n"
     ]
    },
    {
     "name": "stdout",
     "output_type": "stream",
     "text": [
      "Estimation for 0.06999999999999999 and 0.19 done\n",
      "It took: 145.24155521392822 seconds.\n",
      "[0.8352088844550127, 0.08777061216700134]\n"
     ]
    },
    {
     "name": "stderr",
     "output_type": "stream",
     "text": [
      "Initial filtering of formulas: 100%|██████████████| 2/2 [00:00<00:00, 61.71it/s]\n",
      "Computing chunks: 100%|████████████████████████| 2/2 [00:00<00:00, 96420.78it/s]\n",
      "Splitting the experimental spectrum into chunks: 131072it [00:00, 3436575.24it/s]\n",
      "Deconvolving chunks: 100%|███████████████████████| 1/1 [02:24<00:00, 144.56s/it]\n"
     ]
    },
    {
     "name": "stdout",
     "output_type": "stream",
     "text": [
      "Estimation for 0.06999999999999999 and 0.2 done\n",
      "It took: 144.71325421333313 seconds.\n",
      "[0.8406195665080128, 0.07523289718500115]\n"
     ]
    },
    {
     "name": "stderr",
     "output_type": "stream",
     "text": [
      "Initial filtering of formulas: 100%|██████████████| 2/2 [00:00<00:00, 63.54it/s]\n",
      "Computing chunks: 100%|███████████████████████| 2/2 [00:00<00:00, 102300.10it/s]\n",
      "Splitting the experimental spectrum into chunks: 131072it [00:00, 3500157.98it/s]\n",
      "Deconvolving chunks: 100%|███████████████████████| 1/1 [02:28<00:00, 148.03s/it]\n"
     ]
    },
    {
     "name": "stdout",
     "output_type": "stream",
     "text": [
      "Estimation for 0.06999999999999999 and 0.21000000000000002 done\n",
      "It took: 148.16712188720703 seconds.\n",
      "[0.8406659281570129, 0.07500674263200115]\n"
     ]
    },
    {
     "name": "stderr",
     "output_type": "stream",
     "text": [
      "Initial filtering of formulas: 100%|██████████████| 2/2 [00:00<00:00, 63.11it/s]\n",
      "Computing chunks: 100%|████████████████████████| 2/2 [00:00<00:00, 94254.02it/s]\n",
      "Splitting the experimental spectrum into chunks: 131072it [00:00, 3501562.48it/s]\n",
      "Deconvolving chunks: 100%|███████████████████████| 1/1 [02:12<00:00, 132.35s/it]\n"
     ]
    },
    {
     "name": "stdout",
     "output_type": "stream",
     "text": [
      "Estimation for 0.06999999999999999 and 0.22 done\n",
      "It took: 132.51847529411316 seconds.\n",
      "[0.8406358081750129, 0.07498481671200115]\n"
     ]
    },
    {
     "name": "stderr",
     "output_type": "stream",
     "text": [
      "Initial filtering of formulas: 100%|██████████████| 2/2 [00:00<00:00, 62.70it/s]\n",
      "Computing chunks: 100%|████████████████████████| 2/2 [00:00<00:00, 88301.14it/s]\n",
      "Splitting the experimental spectrum into chunks: 131072it [00:00, 3379099.37it/s]\n",
      "Deconvolving chunks: 100%|███████████████████████| 1/1 [02:28<00:00, 148.68s/it]\n"
     ]
    },
    {
     "name": "stdout",
     "output_type": "stream",
     "text": [
      "Estimation for 0.06999999999999999 and 0.23 done\n",
      "It took: 148.84559035301208 seconds.\n",
      "[0.8406452425140128, 0.07491723712400115]\n"
     ]
    },
    {
     "name": "stderr",
     "output_type": "stream",
     "text": [
      "Initial filtering of formulas: 100%|██████████████| 2/2 [00:00<00:00, 63.44it/s]\n",
      "Computing chunks: 100%|████████████████████████| 2/2 [00:00<00:00, 89240.51it/s]\n",
      "Splitting the experimental spectrum into chunks: 131072it [00:00, 3459672.59it/s]\n",
      "Deconvolving chunks: 100%|███████████████████████| 1/1 [02:31<00:00, 151.94s/it]\n"
     ]
    },
    {
     "name": "stdout",
     "output_type": "stream",
     "text": [
      "Estimation for 0.06999999999999999 and 0.24000000000000002 done\n",
      "It took: 152.07495045661926 seconds.\n",
      "[0.8405513447490128, 0.07501987076700115]\n"
     ]
    },
    {
     "name": "stderr",
     "output_type": "stream",
     "text": [
      "Initial filtering of formulas: 100%|██████████████| 2/2 [00:00<00:00, 60.74it/s]\n",
      "Computing chunks: 100%|████████████████████████| 2/2 [00:00<00:00, 95325.09it/s]\n",
      "Splitting the experimental spectrum into chunks: 131072it [00:00, 3433077.18it/s]\n",
      "Deconvolving chunks: 100%|███████████████████████| 1/1 [02:33<00:00, 153.66s/it]\n"
     ]
    },
    {
     "name": "stdout",
     "output_type": "stream",
     "text": [
      "Estimation for 0.06999999999999999 and 0.25 done\n",
      "It took: 153.7972550392151 seconds.\n",
      "[0.8405197971590129, 0.07508336017900115]\n"
     ]
    },
    {
     "name": "stderr",
     "output_type": "stream",
     "text": [
      "Initial filtering of formulas: 100%|██████████████| 2/2 [00:00<00:00, 61.78it/s]\n",
      "Computing chunks: 100%|████████████████████████| 2/2 [00:00<00:00, 99864.38it/s]\n",
      "Splitting the experimental spectrum into chunks: 131072it [00:00, 3445081.77it/s]\n",
      "Deconvolving chunks: 100%|███████████████████████| 1/1 [02:11<00:00, 131.46s/it]\n"
     ]
    },
    {
     "name": "stdout",
     "output_type": "stream",
     "text": [
      "Estimation for 0.06999999999999999 and 0.26 done\n",
      "It took: 131.6014528274536 seconds.\n",
      "[0.8403568335360129, 0.07533330402000116]\n"
     ]
    },
    {
     "name": "stderr",
     "output_type": "stream",
     "text": [
      "Initial filtering of formulas: 100%|██████████████| 2/2 [00:00<00:00, 63.56it/s]\n",
      "Computing chunks: 100%|████████████████████████| 2/2 [00:00<00:00, 79891.50it/s]\n",
      "Splitting the experimental spectrum into chunks: 131072it [00:00, 3479775.51it/s]\n",
      "Deconvolving chunks: 100%|███████████████████████| 1/1 [02:17<00:00, 137.58s/it]\n"
     ]
    },
    {
     "name": "stdout",
     "output_type": "stream",
     "text": [
      "Estimation for 0.06999999999999999 and 0.27 done\n",
      "It took: 137.71834325790405 seconds.\n",
      "[0.8403709990320128, 0.07544673234700115]\n"
     ]
    },
    {
     "name": "stderr",
     "output_type": "stream",
     "text": [
      "Initial filtering of formulas: 100%|██████████████| 2/2 [00:00<00:00, 63.41it/s]\n",
      "Computing chunks: 100%|████████████████████████| 2/2 [00:00<00:00, 54827.50it/s]\n",
      "Splitting the experimental spectrum into chunks: 131072it [00:00, 3440575.61it/s]\n",
      "Deconvolving chunks: 100%|███████████████████████| 1/1 [02:15<00:00, 135.84s/it]\n"
     ]
    },
    {
     "name": "stdout",
     "output_type": "stream",
     "text": [
      "Estimation for 0.06999999999999999 and 0.28 done\n",
      "It took: 135.9754343032837 seconds.\n",
      "[0.8404906134010128, 0.07550643729400115]\n"
     ]
    },
    {
     "name": "stderr",
     "output_type": "stream",
     "text": [
      "Initial filtering of formulas: 100%|██████████████| 2/2 [00:00<00:00, 61.74it/s]\n",
      "Computing chunks: 100%|████████████████████████| 2/2 [00:00<00:00, 71697.50it/s]\n",
      "Splitting the experimental spectrum into chunks: 131072it [00:00, 3479995.78it/s]\n",
      "Deconvolving chunks: 100%|███████████████████████| 1/1 [02:38<00:00, 158.03s/it]\n"
     ]
    },
    {
     "name": "stdout",
     "output_type": "stream",
     "text": [
      "Estimation for 0.06999999999999999 and 0.29000000000000004 done\n",
      "It took: 158.17616868019104 seconds.\n",
      "[0.8406405611270129, 0.07564297388500117]\n"
     ]
    },
    {
     "name": "stderr",
     "output_type": "stream",
     "text": [
      "Initial filtering of formulas: 100%|██████████████| 2/2 [00:00<00:00, 59.93it/s]\n",
      "Computing chunks: 100%|████████████████████████| 2/2 [00:00<00:00, 96420.78it/s]\n",
      "Splitting the experimental spectrum into chunks: 131072it [00:00, 3347352.67it/s]\n",
      "Deconvolving chunks: 100%|███████████████████████| 1/1 [02:46<00:00, 166.06s/it]\n"
     ]
    },
    {
     "name": "stdout",
     "output_type": "stream",
     "text": [
      "Estimation for 0.08 and 0.01 done\n",
      "It took: 166.20694184303284 seconds.\n",
      "[0.849595000470013, 0.13250508513000203]\n"
     ]
    },
    {
     "name": "stderr",
     "output_type": "stream",
     "text": [
      "Initial filtering of formulas: 100%|██████████████| 2/2 [00:00<00:00, 56.44it/s]\n",
      "Computing chunks: 100%|████████████████████████| 2/2 [00:00<00:00, 71697.50it/s]\n",
      "Splitting the experimental spectrum into chunks: 131072it [00:00, 3118509.56it/s]\n",
      "Deconvolving chunks: 100%|███████████████████████| 1/1 [02:14<00:00, 134.67s/it]\n"
     ]
    },
    {
     "name": "stdout",
     "output_type": "stream",
     "text": [
      "Estimation for 0.08 and 0.02 done\n",
      "It took: 134.82155466079712 seconds.\n",
      "[0.8596504871840132, 0.09832640699700151]\n"
     ]
    },
    {
     "name": "stderr",
     "output_type": "stream",
     "text": [
      "Initial filtering of formulas: 100%|██████████████| 2/2 [00:00<00:00, 59.98it/s]\n",
      "Computing chunks: 100%|████████████████████████| 2/2 [00:00<00:00, 92182.51it/s]\n",
      "Splitting the experimental spectrum into chunks: 131072it [00:00, 3447609.52it/s]\n",
      "Deconvolving chunks: 100%|███████████████████████| 1/1 [02:11<00:00, 131.54s/it]\n"
     ]
    },
    {
     "name": "stdout",
     "output_type": "stream",
     "text": [
      "Estimation for 0.08 and 0.03 done\n",
      "It took: 131.69102883338928 seconds.\n",
      "[0.845149467061013, 0.10454453607200159]\n"
     ]
    },
    {
     "name": "stderr",
     "output_type": "stream",
     "text": [
      "Initial filtering of formulas: 100%|██████████████| 2/2 [00:00<00:00, 64.96it/s]\n",
      "Computing chunks: 100%|████████████████████████| 2/2 [00:00<00:00, 87381.33it/s]\n",
      "Splitting the experimental spectrum into chunks: 131072it [00:00, 3500893.53it/s]\n",
      "Deconvolving chunks: 100%|███████████████████████| 1/1 [02:06<00:00, 126.90s/it]\n"
     ]
    },
    {
     "name": "stdout",
     "output_type": "stream",
     "text": [
      "Estimation for 0.08 and 0.04 done\n",
      "It took: 127.0358452796936 seconds.\n",
      "[0.8415175080800129, 0.10550901052500161]\n"
     ]
    },
    {
     "name": "stderr",
     "output_type": "stream",
     "text": [
      "Initial filtering of formulas: 100%|██████████████| 2/2 [00:00<00:00, 61.73it/s]\n",
      "Computing chunks: 100%|████████████████████████| 2/2 [00:00<00:00, 48210.39it/s]\n",
      "Splitting the experimental spectrum into chunks: 131072it [00:00, 3446355.98it/s]\n",
      "Deconvolving chunks: 100%|███████████████████████| 1/1 [02:10<00:00, 130.99s/it]\n"
     ]
    },
    {
     "name": "stdout",
     "output_type": "stream",
     "text": [
      "Estimation for 0.08 and 0.05 done\n",
      "It took: 131.13824701309204 seconds.\n",
      "[0.8397485394180129, 0.10566484628900162]\n"
     ]
    },
    {
     "name": "stderr",
     "output_type": "stream",
     "text": [
      "Initial filtering of formulas: 100%|██████████████| 2/2 [00:00<00:00, 50.70it/s]\n",
      "Computing chunks: 100%|████████████████████████| 2/2 [00:00<00:00, 95325.09it/s]\n",
      "Splitting the experimental spectrum into chunks: 131072it [00:00, 3269864.71it/s]\n",
      "Deconvolving chunks: 100%|███████████████████████| 1/1 [02:11<00:00, 131.81s/it]\n"
     ]
    },
    {
     "name": "stdout",
     "output_type": "stream",
     "text": [
      "Estimation for 0.08 and 0.060000000000000005 done\n",
      "It took: 131.99460768699646 seconds.\n",
      "[0.8377462402410129, 0.10560225780700162]\n"
     ]
    },
    {
     "name": "stderr",
     "output_type": "stream",
     "text": [
      "Initial filtering of formulas: 100%|██████████████| 2/2 [00:00<00:00, 61.37it/s]\n",
      "Computing chunks: 100%|████████████████████████| 2/2 [00:00<00:00, 74235.47it/s]\n",
      "Splitting the experimental spectrum into chunks: 131072it [00:00, 3375717.28it/s]\n",
      "Deconvolving chunks: 100%|███████████████████████| 1/1 [02:10<00:00, 130.53s/it]\n"
     ]
    },
    {
     "name": "stdout",
     "output_type": "stream",
     "text": [
      "Estimation for 0.08 and 0.06999999999999999 done\n",
      "It took: 130.67581129074097 seconds.\n",
      "[0.8366625648880127, 0.1054982482300016]\n"
     ]
    },
    {
     "name": "stderr",
     "output_type": "stream",
     "text": [
      "Initial filtering of formulas: 100%|██████████████| 2/2 [00:00<00:00, 59.84it/s]\n",
      "Computing chunks: 100%|████████████████████████| 2/2 [00:00<00:00, 45343.83it/s]\n",
      "Splitting the experimental spectrum into chunks: 131072it [00:00, 3219521.39it/s]\n",
      "Deconvolving chunks: 100%|███████████████████████| 1/1 [02:09<00:00, 129.75s/it]\n"
     ]
    },
    {
     "name": "stdout",
     "output_type": "stream",
     "text": [
      "Estimation for 0.08 and 0.08 done\n",
      "It took: 129.89548635482788 seconds.\n",
      "[0.8356253900840128, 0.10523376997000161]\n"
     ]
    },
    {
     "name": "stderr",
     "output_type": "stream",
     "text": [
      "Initial filtering of formulas: 100%|██████████████| 2/2 [00:00<00:00, 61.53it/s]\n",
      "Computing chunks: 100%|████████████████████████| 2/2 [00:00<00:00, 74898.29it/s]\n",
      "Splitting the experimental spectrum into chunks: 131072it [00:00, 3354460.45it/s]\n",
      "Deconvolving chunks: 100%|███████████████████████| 1/1 [02:41<00:00, 161.25s/it]\n"
     ]
    },
    {
     "name": "stdout",
     "output_type": "stream",
     "text": [
      "Estimation for 0.08 and 0.09 done\n",
      "It took: 161.41829133033752 seconds.\n",
      "[0.8347667347050127, 0.1052833051900016]\n"
     ]
    },
    {
     "name": "stderr",
     "output_type": "stream",
     "text": [
      "Initial filtering of formulas: 100%|██████████████| 2/2 [00:00<00:00, 61.10it/s]\n",
      "Computing chunks: 100%|████████████████████████| 2/2 [00:00<00:00, 93206.76it/s]\n",
      "Splitting the experimental spectrum into chunks: 131072it [00:00, 3411835.10it/s]\n",
      "Deconvolving chunks: 100%|███████████████████████| 1/1 [02:11<00:00, 131.54s/it]\n"
     ]
    },
    {
     "name": "stdout",
     "output_type": "stream",
     "text": [
      "Estimation for 0.08 and 0.09999999999999999 done\n",
      "It took: 131.68093299865723 seconds.\n",
      "[0.8339484214620128, 0.10531091951700161]\n"
     ]
    },
    {
     "name": "stderr",
     "output_type": "stream",
     "text": [
      "Initial filtering of formulas: 100%|██████████████| 2/2 [00:00<00:00, 61.24it/s]\n",
      "Computing chunks: 100%|████████████████████████| 2/2 [00:00<00:00, 74235.47it/s]\n",
      "Splitting the experimental spectrum into chunks: 131072it [00:00, 3446334.38it/s]\n",
      "Deconvolving chunks: 100%|███████████████████████| 1/1 [02:10<00:00, 130.57s/it]\n"
     ]
    },
    {
     "name": "stdout",
     "output_type": "stream",
     "text": [
      "Estimation for 0.08 and 0.11 done\n",
      "It took: 130.71224999427795 seconds.\n",
      "[0.8334068830060127, 0.1052710755030016]\n"
     ]
    },
    {
     "name": "stderr",
     "output_type": "stream",
     "text": [
      "Initial filtering of formulas: 100%|██████████████| 2/2 [00:00<00:00, 62.34it/s]\n",
      "Computing chunks: 100%|████████████████████████| 2/2 [00:00<00:00, 85598.04it/s]\n",
      "Splitting the experimental spectrum into chunks: 131072it [00:00, 3431020.30it/s]\n",
      "Deconvolving chunks: 100%|███████████████████████| 1/1 [02:11<00:00, 131.10s/it]\n"
     ]
    },
    {
     "name": "stdout",
     "output_type": "stream",
     "text": [
      "Estimation for 0.08 and 0.12 done\n",
      "It took: 131.23901343345642 seconds.\n",
      "[0.8314121805090128, 0.10520645933000161]\n"
     ]
    },
    {
     "name": "stderr",
     "output_type": "stream",
     "text": [
      "Initial filtering of formulas: 100%|██████████████| 2/2 [00:00<00:00, 61.57it/s]\n",
      "Computing chunks: 100%|████████████████████████| 2/2 [00:00<00:00, 91180.52it/s]\n",
      "Splitting the experimental spectrum into chunks: 131072it [00:00, 3439972.81it/s]\n",
      "Deconvolving chunks: 100%|███████████████████████| 1/1 [02:11<00:00, 131.44s/it]\n"
     ]
    },
    {
     "name": "stdout",
     "output_type": "stream",
     "text": [
      "Estimation for 0.08 and 0.13 done\n",
      "It took: 131.6070625782013 seconds.\n",
      "[0.8289883127110127, 0.10518493018900162]\n"
     ]
    },
    {
     "name": "stderr",
     "output_type": "stream",
     "text": [
      "Initial filtering of formulas: 100%|██████████████| 2/2 [00:00<00:00, 62.38it/s]\n",
      "Computing chunks: 100%|████████████████████████| 2/2 [00:00<00:00, 98689.51it/s]\n",
      "Splitting the experimental spectrum into chunks: 131072it [00:00, 3450617.39it/s]\n",
      "Deconvolving chunks: 100%|███████████████████████| 1/1 [02:08<00:00, 128.06s/it]\n"
     ]
    },
    {
     "name": "stdout",
     "output_type": "stream",
     "text": [
      "Estimation for 0.08 and 0.14 done\n",
      "It took: 128.19588899612427 seconds.\n",
      "[0.8289175830950126, 0.10464473835000161]\n"
     ]
    },
    {
     "name": "stderr",
     "output_type": "stream",
     "text": [
      "Initial filtering of formulas: 100%|██████████████| 2/2 [00:00<00:00, 60.56it/s]\n",
      "Computing chunks: 100%|████████████████████████| 2/2 [00:00<00:00, 85598.04it/s]\n",
      "Splitting the experimental spectrum into chunks: 131072it [00:00, 3426849.85it/s]\n",
      "Deconvolving chunks: 100%|███████████████████████| 1/1 [02:13<00:00, 133.15s/it]\n"
     ]
    },
    {
     "name": "stdout",
     "output_type": "stream",
     "text": [
      "Estimation for 0.08 and 0.15000000000000002 done\n",
      "It took: 133.28883600234985 seconds.\n",
      "[0.8289467458640126, 0.10420771417300159]\n"
     ]
    },
    {
     "name": "stderr",
     "output_type": "stream",
     "text": [
      "Initial filtering of formulas: 100%|██████████████| 2/2 [00:00<00:00, 60.77it/s]\n",
      "Computing chunks: 100%|████████████████████████| 2/2 [00:00<00:00, 91180.52it/s]\n",
      "Splitting the experimental spectrum into chunks: 131072it [00:00, 3459171.91it/s]\n",
      "Deconvolving chunks: 100%|██████████████████████| 1/1 [25:13<00:00, 1513.47s/it]\n"
     ]
    },
    {
     "name": "stdout",
     "output_type": "stream",
     "text": [
      "Estimation for 0.08 and 0.16 done\n",
      "It took: 1513.636462211609 seconds.\n",
      "[0.8288453786890126, 0.1040734560460016]\n"
     ]
    },
    {
     "name": "stderr",
     "output_type": "stream",
     "text": [
      "Initial filtering of formulas: 100%|██████████████| 2/2 [00:00<00:00, 62.98it/s]\n",
      "Computing chunks: 100%|████████████████████████| 2/2 [00:00<00:00, 89240.51it/s]\n",
      "Splitting the experimental spectrum into chunks: 131072it [00:00, 3563110.06it/s]\n",
      "Deconvolving chunks: 100%|███████████████████████| 1/1 [02:18<00:00, 138.24s/it]\n"
     ]
    },
    {
     "name": "stdout",
     "output_type": "stream",
     "text": [
      "Estimation for 0.08 and 0.17 done\n",
      "It took: 138.37963700294495 seconds.\n",
      "[0.8293153290090126, 0.10308472700500158]\n"
     ]
    },
    {
     "name": "stderr",
     "output_type": "stream",
     "text": [
      "Initial filtering of formulas: 100%|██████████████| 2/2 [00:00<00:00, 60.52it/s]\n",
      "Computing chunks: 100%|████████████████████████| 2/2 [00:00<00:00, 27962.03it/s]\n",
      "Splitting the experimental spectrum into chunks: 131072it [00:00, 3420985.64it/s]\n",
      "Deconvolving chunks: 100%|███████████████████████| 1/1 [02:19<00:00, 139.08s/it]\n"
     ]
    },
    {
     "name": "stdout",
     "output_type": "stream",
     "text": [
      "Estimation for 0.08 and 0.18000000000000002 done\n",
      "It took: 139.2183678150177 seconds.\n",
      "[0.8306219846510128, 0.10063592106900154]\n"
     ]
    },
    {
     "name": "stderr",
     "output_type": "stream",
     "text": [
      "Initial filtering of formulas: 100%|██████████████| 2/2 [00:00<00:00, 63.22it/s]\n",
      "Computing chunks: 100%|████████████████████████| 2/2 [00:00<00:00, 51463.85it/s]\n",
      "Splitting the experimental spectrum into chunks: 131072it [00:00, 3460391.22it/s]\n",
      "Deconvolving chunks: 100%|███████████████████████| 1/1 [02:20<00:00, 140.32s/it]\n"
     ]
    },
    {
     "name": "stdout",
     "output_type": "stream",
     "text": [
      "Estimation for 0.08 and 0.19 done\n",
      "It took: 140.4854896068573 seconds.\n",
      "[0.8345429426450127, 0.09423982323800144]\n"
     ]
    },
    {
     "name": "stderr",
     "output_type": "stream",
     "text": [
      "Initial filtering of formulas: 100%|██████████████| 2/2 [00:00<00:00, 62.89it/s]\n",
      "Computing chunks: 100%|████████████████████████| 2/2 [00:00<00:00, 34100.03it/s]\n",
      "Splitting the experimental spectrum into chunks: 131072it [00:00, 3492886.05it/s]\n",
      "Deconvolving chunks: 100%|███████████████████████| 1/1 [02:41<00:00, 161.42s/it]\n"
     ]
    },
    {
     "name": "stdout",
     "output_type": "stream",
     "text": [
      "Estimation for 0.08 and 0.2 done\n",
      "It took: 161.5886092185974 seconds.\n",
      "[0.8365965408280127, 0.09090271964400139]\n"
     ]
    },
    {
     "name": "stderr",
     "output_type": "stream",
     "text": [
      "Initial filtering of formulas: 100%|██████████████| 2/2 [00:00<00:00, 62.19it/s]\n",
      "Computing chunks: 100%|████████████████████████| 2/2 [00:00<00:00, 91180.52it/s]\n",
      "Splitting the experimental spectrum into chunks: 131072it [00:00, 3507639.29it/s]\n",
      "Deconvolving chunks: 100%|███████████████████████| 1/1 [02:43<00:00, 163.54s/it]\n"
     ]
    },
    {
     "name": "stdout",
     "output_type": "stream",
     "text": [
      "Estimation for 0.08 and 0.21000000000000002 done\n",
      "It took: 163.6808466911316 seconds.\n",
      "[0.8368814176480127, 0.08562375985900132]\n"
     ]
    },
    {
     "name": "stderr",
     "output_type": "stream",
     "text": [
      "Initial filtering of formulas: 100%|██████████████| 2/2 [00:00<00:00, 57.57it/s]\n",
      "Computing chunks: 100%|████████████████████████| 2/2 [00:00<00:00, 93206.76it/s]\n",
      "Splitting the experimental spectrum into chunks: 131072it [00:00, 3524776.17it/s]\n",
      "Deconvolving chunks: 100%|███████████████████████| 1/1 [02:19<00:00, 139.61s/it]\n"
     ]
    },
    {
     "name": "stdout",
     "output_type": "stream",
     "text": [
      "Estimation for 0.08 and 0.22 done\n",
      "It took: 139.77814435958862 seconds.\n",
      "[0.8373862820450129, 0.08438023712300129]\n"
     ]
    },
    {
     "name": "stderr",
     "output_type": "stream",
     "text": [
      "Initial filtering of formulas: 100%|██████████████| 2/2 [00:00<00:00, 55.20it/s]\n",
      "Computing chunks: 100%|████████████████████████| 2/2 [00:00<00:00, 36314.32it/s]\n",
      "Splitting the experimental spectrum into chunks: 131072it [00:00, 3186823.96it/s]\n",
      "Deconvolving chunks: 100%|███████████████████████| 1/1 [02:42<00:00, 162.32s/it]\n"
     ]
    },
    {
     "name": "stdout",
     "output_type": "stream",
     "text": [
      "Estimation for 0.08 and 0.23 done\n",
      "It took: 162.48127794265747 seconds.\n",
      "[0.8374139456290128, 0.08441782697800129]\n"
     ]
    },
    {
     "name": "stderr",
     "output_type": "stream",
     "text": [
      "Initial filtering of formulas: 100%|██████████████| 2/2 [00:00<00:00, 62.86it/s]\n",
      "Computing chunks: 100%|████████████████████████| 2/2 [00:00<00:00, 86480.49it/s]\n",
      "Splitting the experimental spectrum into chunks: 131072it [00:00, 3444434.23it/s]\n",
      "Deconvolving chunks: 100%|███████████████████████| 1/1 [02:40<00:00, 160.07s/it]\n"
     ]
    },
    {
     "name": "stdout",
     "output_type": "stream",
     "text": [
      "Estimation for 0.08 and 0.24000000000000002 done\n",
      "It took: 160.20830917358398 seconds.\n",
      "[0.8374934731950129, 0.0844015451520013]\n"
     ]
    },
    {
     "name": "stderr",
     "output_type": "stream",
     "text": [
      "Initial filtering of formulas: 100%|██████████████| 2/2 [00:00<00:00, 62.15it/s]\n",
      "Computing chunks: 100%|████████████████████████| 2/2 [00:00<00:00, 41527.76it/s]\n",
      "Splitting the experimental spectrum into chunks: 131072it [00:00, 3500336.27it/s]\n",
      "Deconvolving chunks: 100%|███████████████████████| 1/1 [02:09<00:00, 129.97s/it]\n"
     ]
    },
    {
     "name": "stdout",
     "output_type": "stream",
     "text": [
      "Estimation for 0.08 and 0.25 done\n",
      "It took: 130.1324827671051 seconds.\n",
      "[0.8375308327420129, 0.08450160096900129]\n"
     ]
    },
    {
     "name": "stderr",
     "output_type": "stream",
     "text": [
      "Initial filtering of formulas: 100%|██████████████| 2/2 [00:00<00:00, 61.31it/s]\n",
      "Computing chunks: 100%|████████████████████████| 2/2 [00:00<00:00, 42366.71it/s]\n",
      "Splitting the experimental spectrum into chunks: 131072it [00:00, 3351576.94it/s]\n",
      "Deconvolving chunks: 100%|███████████████████████| 1/1 [02:13<00:00, 133.10s/it]\n"
     ]
    },
    {
     "name": "stdout",
     "output_type": "stream",
     "text": [
      "Estimation for 0.08 and 0.26 done\n",
      "It took: 133.23857760429382 seconds.\n",
      "[0.8376867005590128, 0.08451244645400129]\n"
     ]
    },
    {
     "name": "stderr",
     "output_type": "stream",
     "text": [
      "Initial filtering of formulas: 100%|██████████████| 2/2 [00:00<00:00, 60.77it/s]\n",
      "Computing chunks: 100%|████████████████████████| 2/2 [00:00<00:00, 95325.09it/s]\n",
      "Splitting the experimental spectrum into chunks: 131072it [00:00, 3412364.54it/s]\n",
      "Deconvolving chunks: 100%|███████████████████████| 1/1 [02:38<00:00, 158.70s/it]\n"
     ]
    },
    {
     "name": "stdout",
     "output_type": "stream",
     "text": [
      "Estimation for 0.08 and 0.27 done\n",
      "It took: 158.86458945274353 seconds.\n",
      "[0.8378583618600128, 0.08459028504800128]\n"
     ]
    },
    {
     "name": "stderr",
     "output_type": "stream",
     "text": [
      "Initial filtering of formulas: 100%|██████████████| 2/2 [00:00<00:00, 63.06it/s]\n",
      "Computing chunks: 100%|████████████████████████| 2/2 [00:00<00:00, 79891.50it/s]\n",
      "Splitting the experimental spectrum into chunks: 131072it [00:00, 3393784.85it/s]\n",
      "Deconvolving chunks: 100%|███████████████████████| 1/1 [02:14<00:00, 134.73s/it]\n"
     ]
    },
    {
     "name": "stdout",
     "output_type": "stream",
     "text": [
      "Estimation for 0.08 and 0.28 done\n",
      "It took: 134.87503576278687 seconds.\n",
      "[0.8380841268640129, 0.0847200966070013]\n"
     ]
    },
    {
     "name": "stderr",
     "output_type": "stream",
     "text": [
      "Initial filtering of formulas: 100%|██████████████| 2/2 [00:00<00:00, 62.65it/s]\n",
      "Computing chunks: 100%|████████████████████████| 2/2 [00:00<00:00, 44384.17it/s]\n",
      "Splitting the experimental spectrum into chunks: 131072it [00:00, 3580701.31it/s]\n",
      "Deconvolving chunks: 100%|███████████████████████| 1/1 [02:10<00:00, 130.79s/it]\n"
     ]
    },
    {
     "name": "stdout",
     "output_type": "stream",
     "text": [
      "Estimation for 0.08 and 0.29000000000000004 done\n",
      "It took: 130.9298858642578 seconds.\n",
      "[0.8384101029640129, 0.0848570636680013]\n"
     ]
    },
    {
     "name": "stderr",
     "output_type": "stream",
     "text": [
      "Initial filtering of formulas: 100%|██████████████| 2/2 [00:00<00:00, 61.39it/s]\n",
      "Computing chunks: 100%|████████████████████████| 2/2 [00:00<00:00, 96420.78it/s]\n",
      "Splitting the experimental spectrum into chunks: 131072it [00:00, 3469191.34it/s]\n",
      "Deconvolving chunks: 100%|███████████████████████| 1/1 [02:40<00:00, 160.59s/it]\n"
     ]
    },
    {
     "name": "stdout",
     "output_type": "stream",
     "text": [
      "Estimation for 0.09 and 0.01 done\n",
      "It took: 160.75733041763306 seconds.\n",
      "[0.7947039948540122, 0.19083109432600293]\n"
     ]
    },
    {
     "name": "stderr",
     "output_type": "stream",
     "text": [
      "Initial filtering of formulas: 100%|██████████████| 2/2 [00:00<00:00, 60.96it/s]\n",
      "Computing chunks: 100%|████████████████████████| 2/2 [00:00<00:00, 93206.76it/s]\n",
      "Splitting the experimental spectrum into chunks: 131072it [00:00, 3258970.98it/s]\n",
      "Deconvolving chunks: 100%|███████████████████████| 1/1 [02:42<00:00, 162.50s/it]\n"
     ]
    },
    {
     "name": "stdout",
     "output_type": "stream",
     "text": [
      "Estimation for 0.09 and 0.02 done\n",
      "It took: 162.64640426635742 seconds.\n",
      "[0.8632787369710132, 0.0976277785630015]\n"
     ]
    },
    {
     "name": "stderr",
     "output_type": "stream",
     "text": [
      "Initial filtering of formulas: 100%|██████████████| 2/2 [00:00<00:00, 60.24it/s]\n",
      "Computing chunks: 100%|████████████████████████| 2/2 [00:00<00:00, 95325.09it/s]\n",
      "Splitting the experimental spectrum into chunks: 131072it [00:00, 3380512.31it/s]\n",
      "Deconvolving chunks: 100%|███████████████████████| 1/1 [02:44<00:00, 164.59s/it]\n"
     ]
    },
    {
     "name": "stdout",
     "output_type": "stream",
     "text": [
      "Estimation for 0.09 and 0.03 done\n",
      "It took: 164.76120567321777 seconds.\n",
      "[0.851485937789013, 0.1041754178080016]\n"
     ]
    },
    {
     "name": "stderr",
     "output_type": "stream",
     "text": [
      "Initial filtering of formulas: 100%|██████████████| 2/2 [00:00<00:00, 62.05it/s]\n",
      "Computing chunks: 100%|████████████████████████| 2/2 [00:00<00:00, 79137.81it/s]\n",
      "Splitting the experimental spectrum into chunks: 131072it [00:00, 3287403.73it/s]\n",
      "Deconvolving chunks: 100%|███████████████████████| 1/1 [02:13<00:00, 133.92s/it]\n"
     ]
    },
    {
     "name": "stdout",
     "output_type": "stream",
     "text": [
      "Estimation for 0.09 and 0.04 done\n",
      "It took: 134.06601548194885 seconds.\n",
      "[0.844203872553013, 0.10566425741200162]\n"
     ]
    },
    {
     "name": "stderr",
     "output_type": "stream",
     "text": [
      "Initial filtering of formulas: 100%|██████████████| 2/2 [00:00<00:00, 62.24it/s]\n",
      "Computing chunks: 100%|████████████████████████| 2/2 [00:00<00:00, 87381.33it/s]\n",
      "Splitting the experimental spectrum into chunks: 131072it [00:00, 3475397.88it/s]\n",
      "Deconvolving chunks: 100%|███████████████████████| 1/1 [02:09<00:00, 129.15s/it]\n"
     ]
    },
    {
     "name": "stdout",
     "output_type": "stream",
     "text": [
      "Estimation for 0.09 and 0.05 done\n",
      "It took: 129.28655695915222 seconds.\n",
      "[0.8430588454270129, 0.10560432708400162]\n"
     ]
    },
    {
     "name": "stderr",
     "output_type": "stream",
     "text": [
      "Initial filtering of formulas: 100%|██████████████| 2/2 [00:00<00:00, 62.27it/s]\n",
      "Computing chunks: 100%|████████████████████████| 2/2 [00:00<00:00, 95325.09it/s]\n",
      "Splitting the experimental spectrum into chunks: 131072it [00:00, 3439800.61it/s]\n",
      "Deconvolving chunks: 100%|███████████████████████| 1/1 [02:07<00:00, 127.18s/it]\n"
     ]
    },
    {
     "name": "stdout",
     "output_type": "stream",
     "text": [
      "Estimation for 0.09 and 0.060000000000000005 done\n",
      "It took: 127.34835577011108 seconds.\n",
      "[0.8421400554310129, 0.10547886809500161]\n"
     ]
    },
    {
     "name": "stderr",
     "output_type": "stream",
     "text": [
      "Initial filtering of formulas: 100%|██████████████| 2/2 [00:00<00:00, 62.66it/s]\n",
      "Computing chunks: 100%|████████████████████████| 2/2 [00:00<00:00, 83886.08it/s]\n",
      "Splitting the experimental spectrum into chunks: 131072it [00:00, 3448085.24it/s]\n",
      "Deconvolving chunks: 100%|███████████████████████| 1/1 [02:13<00:00, 133.01s/it]\n"
     ]
    },
    {
     "name": "stdout",
     "output_type": "stream",
     "text": [
      "Estimation for 0.09 and 0.06999999999999999 done\n",
      "It took: 133.15386056900024 seconds.\n",
      "[0.8400496539520129, 0.10550226081000161]\n"
     ]
    },
    {
     "name": "stderr",
     "output_type": "stream",
     "text": [
      "Initial filtering of formulas: 100%|██████████████| 2/2 [00:00<00:00, 56.54it/s]\n",
      "Computing chunks: 100%|████████████████████████| 2/2 [00:00<00:00, 96420.78it/s]\n",
      "Splitting the experimental spectrum into chunks: 131072it [00:00, 3125619.37it/s]\n",
      "Deconvolving chunks: 100%|███████████████████████| 1/1 [02:11<00:00, 131.69s/it]\n"
     ]
    },
    {
     "name": "stdout",
     "output_type": "stream",
     "text": [
      "Estimation for 0.09 and 0.08 done\n",
      "It took: 131.85055255889893 seconds.\n",
      "[0.8385522189780129, 0.10548591150300161]\n"
     ]
    },
    {
     "name": "stderr",
     "output_type": "stream",
     "text": [
      "Initial filtering of formulas: 100%|██████████████| 2/2 [00:00<00:00, 60.48it/s]\n",
      "Computing chunks: 100%|████████████████████████| 2/2 [00:00<00:00, 73584.28it/s]\n",
      "Splitting the experimental spectrum into chunks: 131072it [00:00, 3313378.82it/s]\n",
      "Deconvolving chunks: 100%|███████████████████████| 1/1 [02:10<00:00, 130.70s/it]\n"
     ]
    },
    {
     "name": "stdout",
     "output_type": "stream",
     "text": [
      "Estimation for 0.09 and 0.09 done\n",
      "It took: 130.8436794281006 seconds.\n",
      "[0.8374214061080129, 0.10545220169900162]\n"
     ]
    },
    {
     "name": "stderr",
     "output_type": "stream",
     "text": [
      "Initial filtering of formulas: 100%|██████████████| 2/2 [00:00<00:00, 60.60it/s]\n",
      "Computing chunks: 100%|████████████████████████| 2/2 [00:00<00:00, 45590.26it/s]\n",
      "Splitting the experimental spectrum into chunks: 131072it [00:00, 3391419.07it/s]\n",
      "Deconvolving chunks: 100%|███████████████████████| 1/1 [02:15<00:00, 135.56s/it]\n"
     ]
    },
    {
     "name": "stdout",
     "output_type": "stream",
     "text": [
      "Estimation for 0.09 and 0.09999999999999999 done\n",
      "It took: 135.70740413665771 seconds.\n",
      "[0.8367247883180128, 0.10541660113900161]\n"
     ]
    },
    {
     "name": "stderr",
     "output_type": "stream",
     "text": [
      "Initial filtering of formulas: 100%|██████████████| 2/2 [00:00<00:00, 52.08it/s]\n",
      "Computing chunks: 100%|████████████████████████| 2/2 [00:00<00:00, 62137.84it/s]\n",
      "Splitting the experimental spectrum into chunks: 131072it [00:00, 3401028.27it/s]\n",
      "Deconvolving chunks: 100%|███████████████████████| 1/1 [02:15<00:00, 135.65s/it]\n"
     ]
    },
    {
     "name": "stdout",
     "output_type": "stream",
     "text": [
      "Estimation for 0.09 and 0.11 done\n",
      "It took: 135.80500078201294 seconds.\n",
      "[0.8362369563660128, 0.10538021943900161]\n"
     ]
    },
    {
     "name": "stderr",
     "output_type": "stream",
     "text": [
      "Initial filtering of formulas: 100%|██████████████| 2/2 [00:00<00:00, 60.98it/s]\n",
      "Computing chunks: 100%|████████████████████████| 2/2 [00:00<00:00, 71697.50it/s]\n",
      "Splitting the experimental spectrum into chunks: 131072it [00:00, 3384049.82it/s]\n",
      "Deconvolving chunks: 100%|███████████████████████| 1/1 [02:17<00:00, 137.98s/it]\n"
     ]
    },
    {
     "name": "stdout",
     "output_type": "stream",
     "text": [
      "Estimation for 0.09 and 0.12 done\n",
      "It took: 138.1547725200653 seconds.\n",
      "[0.8356479702440127, 0.10548807616600162]\n"
     ]
    },
    {
     "name": "stderr",
     "output_type": "stream",
     "text": [
      "Initial filtering of formulas: 100%|██████████████| 2/2 [00:00<00:00, 44.05it/s]\n",
      "Computing chunks: 100%|████████████████████████| 2/2 [00:00<00:00, 55924.05it/s]\n",
      "Splitting the experimental spectrum into chunks: 131072it [00:00, 2090191.18it/s]\n",
      "Deconvolving chunks: 100%|███████████████████████| 1/1 [02:16<00:00, 136.89s/it]\n"
     ]
    },
    {
     "name": "stdout",
     "output_type": "stream",
     "text": [
      "Estimation for 0.09 and 0.13 done\n",
      "It took: 137.09604501724243 seconds.\n",
      "[0.8347468248070128, 0.10557444236200163]\n"
     ]
    },
    {
     "name": "stderr",
     "output_type": "stream",
     "text": [
      "Initial filtering of formulas: 100%|██████████████| 2/2 [00:00<00:00, 62.15it/s]\n",
      "Computing chunks: 100%|████████████████████████| 2/2 [00:00<00:00, 95325.09it/s]\n",
      "Splitting the experimental spectrum into chunks: 131072it [00:00, 3315237.05it/s]\n",
      "Deconvolving chunks: 100%|███████████████████████| 1/1 [02:18<00:00, 138.79s/it]\n"
     ]
    },
    {
     "name": "stdout",
     "output_type": "stream",
     "text": [
      "Estimation for 0.09 and 0.14 done\n",
      "It took: 138.96677470207214 seconds.\n",
      "[0.8338318981420128, 0.10552414390200161]\n"
     ]
    },
    {
     "name": "stderr",
     "output_type": "stream",
     "text": [
      "Initial filtering of formulas: 100%|██████████████| 2/2 [00:00<00:00, 57.62it/s]\n",
      "Computing chunks: 100%|████████████████████████| 2/2 [00:00<00:00, 51150.05it/s]\n",
      "Splitting the experimental spectrum into chunks: 131072it [00:00, 3056899.23it/s]\n",
      "Deconvolving chunks: 100%|███████████████████████| 1/1 [02:20<00:00, 140.41s/it]\n"
     ]
    },
    {
     "name": "stdout",
     "output_type": "stream",
     "text": [
      "Estimation for 0.09 and 0.15000000000000002 done\n",
      "It took: 140.56678175926208 seconds.\n",
      "[0.8338486061390128, 0.10492207917700161]\n"
     ]
    },
    {
     "name": "stderr",
     "output_type": "stream",
     "text": [
      "Initial filtering of formulas: 100%|██████████████| 2/2 [00:00<00:00, 58.74it/s]\n",
      "Computing chunks: 100%|████████████████████████| 2/2 [00:00<00:00, 83886.08it/s]\n",
      "Splitting the experimental spectrum into chunks: 131072it [00:00, 3365014.10it/s]\n",
      "Deconvolving chunks: 100%|███████████████████████| 1/1 [02:40<00:00, 160.84s/it]\n"
     ]
    },
    {
     "name": "stdout",
     "output_type": "stream",
     "text": [
      "Estimation for 0.09 and 0.16 done\n",
      "It took: 160.98811650276184 seconds.\n",
      "[0.8336399565390128, 0.1047028203680016]\n"
     ]
    },
    {
     "name": "stderr",
     "output_type": "stream",
     "text": [
      "Initial filtering of formulas: 100%|██████████████| 2/2 [00:00<00:00, 61.91it/s]\n",
      "Computing chunks: 100%|████████████████████████| 2/2 [00:00<00:00, 85598.04it/s]\n",
      "Splitting the experimental spectrum into chunks: 131072it [00:00, 3343586.37it/s]\n",
      "Deconvolving chunks: 100%|███████████████████████| 1/1 [02:17<00:00, 137.41s/it]\n"
     ]
    },
    {
     "name": "stdout",
     "output_type": "stream",
     "text": [
      "Estimation for 0.09 and 0.17 done\n",
      "It took: 137.5535306930542 seconds.\n",
      "[0.8334463583760128, 0.1044511454930016]\n"
     ]
    },
    {
     "name": "stderr",
     "output_type": "stream",
     "text": [
      "Initial filtering of formulas: 100%|██████████████| 2/2 [00:00<00:00, 61.30it/s]\n",
      "Computing chunks: 100%|████████████████████████| 2/2 [00:00<00:00, 96420.78it/s]\n",
      "Splitting the experimental spectrum into chunks: 131072it [00:00, 3458062.21it/s]\n",
      "Deconvolving chunks: 100%|███████████████████████| 1/1 [02:12<00:00, 132.71s/it]\n"
     ]
    },
    {
     "name": "stdout",
     "output_type": "stream",
     "text": [
      "Estimation for 0.09 and 0.18000000000000002 done\n",
      "It took: 132.85552048683167 seconds.\n",
      "[0.8332957391340128, 0.1041189364760016]\n"
     ]
    },
    {
     "name": "stderr",
     "output_type": "stream",
     "text": [
      "Initial filtering of formulas: 100%|██████████████| 2/2 [00:00<00:00, 64.96it/s]\n",
      "Computing chunks: 100%|████████████████████████| 2/2 [00:00<00:00, 58254.22it/s]\n",
      "Splitting the experimental spectrum into chunks: 131072it [00:00, 3541556.49it/s]\n",
      "Deconvolving chunks: 100%|███████████████████████| 1/1 [02:28<00:00, 148.21s/it]\n"
     ]
    },
    {
     "name": "stdout",
     "output_type": "stream",
     "text": [
      "Estimation for 0.09 and 0.19 done\n",
      "It took: 148.3483419418335 seconds.\n",
      "[0.8330188946730128, 0.1039739714090016]\n"
     ]
    },
    {
     "name": "stderr",
     "output_type": "stream",
     "text": [
      "Initial filtering of formulas: 100%|██████████████| 2/2 [00:00<00:00, 62.77it/s]\n",
      "Computing chunks: 100%|████████████████████████| 2/2 [00:00<00:00, 61230.72it/s]\n",
      "Splitting the experimental spectrum into chunks: 131072it [00:00, 3441824.94it/s]\n",
      "Deconvolving chunks: 100%|███████████████████████| 1/1 [02:07<00:00, 127.30s/it]\n"
     ]
    },
    {
     "name": "stdout",
     "output_type": "stream",
     "text": [
      "Estimation for 0.09 and 0.2 done\n",
      "It took: 127.44413328170776 seconds.\n",
      "[0.8332937424290128, 0.10296798255800159]\n"
     ]
    },
    {
     "name": "stderr",
     "output_type": "stream",
     "text": [
      "Initial filtering of formulas: 100%|██████████████| 2/2 [00:00<00:00, 64.26it/s]\n",
      "Computing chunks: 100%|████████████████████████| 2/2 [00:00<00:00, 89240.51it/s]\n",
      "Splitting the experimental spectrum into chunks: 131072it [00:00, 3477046.45it/s]\n",
      "Deconvolving chunks: 100%|███████████████████████| 1/1 [02:09<00:00, 129.40s/it]\n"
     ]
    },
    {
     "name": "stdout",
     "output_type": "stream",
     "text": [
      "Estimation for 0.09 and 0.21000000000000002 done\n",
      "It took: 129.54135608673096 seconds.\n",
      "[0.8353120658360128, 0.09898393975300152]\n"
     ]
    },
    {
     "name": "stderr",
     "output_type": "stream",
     "text": [
      "Initial filtering of formulas: 100%|██████████████| 2/2 [00:00<00:00, 62.72it/s]\n",
      "Computing chunks: 100%|████████████████████████| 2/2 [00:00<00:00, 48489.06it/s]\n",
      "Splitting the experimental spectrum into chunks: 131072it [00:00, 3179249.44it/s]\n",
      "Deconvolving chunks: 100%|███████████████████████| 1/1 [02:08<00:00, 128.55s/it]\n"
     ]
    },
    {
     "name": "stdout",
     "output_type": "stream",
     "text": [
      "Estimation for 0.09 and 0.22 done\n",
      "It took: 128.6925344467163 seconds.\n",
      "[0.8373730082470129, 0.0914843556720014]\n"
     ]
    },
    {
     "name": "stderr",
     "output_type": "stream",
     "text": [
      "Initial filtering of formulas: 100%|██████████████| 2/2 [00:00<00:00, 58.65it/s]\n",
      "Computing chunks: 100%|████████████████████████| 2/2 [00:00<00:00, 14926.35it/s]\n",
      "Splitting the experimental spectrum into chunks: 131072it [00:00, 3405684.53it/s]\n",
      "Deconvolving chunks: 100%|███████████████████████| 1/1 [02:05<00:00, 125.75s/it]\n"
     ]
    },
    {
     "name": "stdout",
     "output_type": "stream",
     "text": [
      "Estimation for 0.09 and 0.23 done\n",
      "It took: 125.89556169509888 seconds.\n",
      "[0.8373454059970129, 0.0914274467340014]\n"
     ]
    },
    {
     "name": "stderr",
     "output_type": "stream",
     "text": [
      "Initial filtering of formulas: 100%|██████████████| 2/2 [00:00<00:00, 63.98it/s]\n",
      "Computing chunks: 100%|████████████████████████| 2/2 [00:00<00:00, 81442.80it/s]\n",
      "Splitting the experimental spectrum into chunks: 131072it [00:00, 3503682.50it/s]\n",
      "Deconvolving chunks: 100%|███████████████████████| 1/1 [02:30<00:00, 150.90s/it]\n"
     ]
    },
    {
     "name": "stdout",
     "output_type": "stream",
     "text": [
      "Estimation for 0.09 and 0.24000000000000002 done\n",
      "It took: 151.06545233726501 seconds.\n",
      "[0.8374444588180129, 0.0912006138330014]\n"
     ]
    },
    {
     "name": "stderr",
     "output_type": "stream",
     "text": [
      "Initial filtering of formulas: 100%|██████████████| 2/2 [00:00<00:00, 64.73it/s]\n",
      "Computing chunks: 100%|████████████████████████| 2/2 [00:00<00:00, 79891.50it/s]\n",
      "Splitting the experimental spectrum into chunks: 131072it [00:00, 3518775.01it/s]\n",
      "Deconvolving chunks: 100%|███████████████████████| 1/1 [02:07<00:00, 127.32s/it]\n"
     ]
    },
    {
     "name": "stdout",
     "output_type": "stream",
     "text": [
      "Estimation for 0.09 and 0.25 done\n",
      "It took: 127.48294520378113 seconds.\n",
      "[0.8375616044210129, 0.0910351391170014]\n"
     ]
    },
    {
     "name": "stderr",
     "output_type": "stream",
     "text": [
      "Initial filtering of formulas: 100%|██████████████| 2/2 [00:00<00:00, 61.73it/s]\n",
      "Computing chunks: 100%|████████████████████████| 2/2 [00:00<00:00, 97541.95it/s]\n",
      "Splitting the experimental spectrum into chunks: 131072it [00:00, 3441243.24it/s]\n",
      "Deconvolving chunks: 100%|███████████████████████| 1/1 [02:25<00:00, 145.94s/it]\n"
     ]
    },
    {
     "name": "stdout",
     "output_type": "stream",
     "text": [
      "Estimation for 0.09 and 0.26 done\n",
      "It took: 146.07838034629822 seconds.\n",
      "[0.8378395686930129, 0.09075937747300139]\n"
     ]
    },
    {
     "name": "stderr",
     "output_type": "stream",
     "text": [
      "Initial filtering of formulas: 100%|██████████████| 2/2 [00:00<00:00, 63.96it/s]\n",
      "Computing chunks: 100%|████████████████████████| 2/2 [00:00<00:00, 88301.14it/s]\n",
      "Splitting the experimental spectrum into chunks: 131072it [00:00, 3518347.14it/s]\n",
      "Deconvolving chunks: 100%|███████████████████████| 1/1 [02:29<00:00, 149.30s/it]\n"
     ]
    },
    {
     "name": "stdout",
     "output_type": "stream",
     "text": [
      "Estimation for 0.09 and 0.27 done\n",
      "It took: 149.43929839134216 seconds.\n",
      "[0.8381081075610128, 0.09065762184400139]\n"
     ]
    },
    {
     "name": "stderr",
     "output_type": "stream",
     "text": [
      "Initial filtering of formulas: 100%|██████████████| 2/2 [00:00<00:00, 63.70it/s]\n",
      "Computing chunks: 100%|████████████████████████| 2/2 [00:00<00:00, 91180.52it/s]\n",
      "Splitting the experimental spectrum into chunks: 131072it [00:00, 3507594.53it/s]\n",
      "Deconvolving chunks: 100%|███████████████████████| 1/1 [02:17<00:00, 137.75s/it]\n"
     ]
    },
    {
     "name": "stdout",
     "output_type": "stream",
     "text": [
      "Estimation for 0.09 and 0.28 done\n",
      "It took: 137.88855910301208 seconds.\n",
      "[0.8385623245660129, 0.09042336366600139]\n"
     ]
    },
    {
     "name": "stderr",
     "output_type": "stream",
     "text": [
      "Initial filtering of formulas: 100%|██████████████| 2/2 [00:00<00:00, 63.48it/s]\n",
      "Computing chunks: 100%|████████████████████████| 2/2 [00:00<00:00, 81442.80it/s]\n",
      "Splitting the experimental spectrum into chunks: 131072it [00:00, 3472193.15it/s]\n",
      "Deconvolving chunks: 100%|███████████████████████| 1/1 [02:05<00:00, 125.13s/it]\n"
     ]
    },
    {
     "name": "stdout",
     "output_type": "stream",
     "text": [
      "Estimation for 0.09 and 0.29000000000000004 done\n",
      "It took: 125.26581883430481 seconds.\n",
      "[0.8389362623070129, 0.09030247588700138]\n"
     ]
    },
    {
     "name": "stderr",
     "output_type": "stream",
     "text": [
      "Initial filtering of formulas: 100%|██████████████| 2/2 [00:00<00:00, 57.44it/s]\n",
      "Computing chunks: 100%|████████████████████████| 2/2 [00:00<00:00, 90200.09it/s]\n",
      "Splitting the experimental spectrum into chunks: 131072it [00:00, 3318218.56it/s]\n",
      "Deconvolving chunks: 100%|███████████████████████| 1/1 [01:46<00:00, 106.13s/it]\n"
     ]
    },
    {
     "name": "stdout",
     "output_type": "stream",
     "text": [
      "Estimation for 0.09999999999999999 and 0.01 done\n",
      "It took: 106.27618765830994 seconds.\n",
      "[0.7760371530920119, 0.21242316140900325]\n"
     ]
    },
    {
     "name": "stderr",
     "output_type": "stream",
     "text": [
      "Initial filtering of formulas: 100%|██████████████| 2/2 [00:00<00:00, 62.99it/s]\n",
      "Computing chunks: 100%|████████████████████████| 2/2 [00:00<00:00, 92182.51it/s]\n",
      "Splitting the experimental spectrum into chunks: 131072it [00:00, 3472522.13it/s]\n",
      "Deconvolving chunks: 100%|███████████████████████| 1/1 [02:26<00:00, 146.76s/it]\n"
     ]
    },
    {
     "name": "stdout",
     "output_type": "stream",
     "text": [
      "Estimation for 0.09999999999999999 and 0.02 done\n",
      "It took: 146.9182848930359 seconds.\n",
      "[0.8660428926290134, 0.09728396588600148]\n"
     ]
    },
    {
     "name": "stderr",
     "output_type": "stream",
     "text": [
      "Initial filtering of formulas: 100%|██████████████| 2/2 [00:00<00:00, 63.01it/s]\n",
      "Computing chunks: 100%|████████████████████████| 2/2 [00:00<00:00, 88301.14it/s]\n",
      "Splitting the experimental spectrum into chunks: 131072it [00:00, 3474233.84it/s]\n",
      "Deconvolving chunks: 100%|███████████████████████| 1/1 [02:00<00:00, 120.76s/it]\n"
     ]
    },
    {
     "name": "stdout",
     "output_type": "stream",
     "text": [
      "Estimation for 0.09999999999999999 and 0.03 done\n",
      "It took: 120.90181517601013 seconds.\n",
      "[0.8536919904500131, 0.10414627279000159]\n"
     ]
    },
    {
     "name": "stderr",
     "output_type": "stream",
     "text": [
      "Initial filtering of formulas: 100%|██████████████| 2/2 [00:00<00:00, 63.30it/s]\n",
      "Computing chunks: 100%|████████████████████████| 2/2 [00:00<00:00, 75573.05it/s]\n",
      "Splitting the experimental spectrum into chunks: 131072it [00:00, 3483921.30it/s]\n",
      "Deconvolving chunks: 100%|███████████████████████| 1/1 [01:56<00:00, 116.90s/it]\n"
     ]
    },
    {
     "name": "stdout",
     "output_type": "stream",
     "text": [
      "Estimation for 0.09999999999999999 and 0.04 done\n",
      "It took: 117.03896021842957 seconds.\n",
      "[0.848400178390013, 0.10548128046400161]\n"
     ]
    },
    {
     "name": "stderr",
     "output_type": "stream",
     "text": [
      "Initial filtering of formulas: 100%|██████████████| 2/2 [00:00<00:00, 63.15it/s]\n",
      "Computing chunks: 100%|████████████████████████| 2/2 [00:00<00:00, 83055.52it/s]\n",
      "Splitting the experimental spectrum into chunks: 131072it [00:00, 3509789.09it/s]\n",
      "Deconvolving chunks: 100%|███████████████████████| 1/1 [01:58<00:00, 118.24s/it]\n"
     ]
    },
    {
     "name": "stdout",
     "output_type": "stream",
     "text": [
      "Estimation for 0.09999999999999999 and 0.05 done\n",
      "It took: 118.37454605102539 seconds.\n",
      "[0.845556480596013, 0.10586467866100162]\n"
     ]
    },
    {
     "name": "stderr",
     "output_type": "stream",
     "text": [
      "Initial filtering of formulas: 100%|██████████████| 2/2 [00:00<00:00, 63.28it/s]\n",
      "Computing chunks: 100%|████████████████████████| 2/2 [00:00<00:00, 94254.02it/s]\n",
      "Splitting the experimental spectrum into chunks: 131072it [00:00, 3509968.36it/s]\n",
      "Deconvolving chunks: 100%|███████████████████████| 1/1 [01:55<00:00, 115.60s/it]\n"
     ]
    },
    {
     "name": "stdout",
     "output_type": "stream",
     "text": [
      "Estimation for 0.09999999999999999 and 0.060000000000000005 done\n",
      "It took: 115.74337410926819 seconds.\n",
      "[0.844597037304013, 0.10553033722600162]\n"
     ]
    },
    {
     "name": "stderr",
     "output_type": "stream",
     "text": [
      "Initial filtering of formulas: 100%|██████████████| 2/2 [00:00<00:00, 62.88it/s]\n",
      "Computing chunks: 100%|████████████████████████| 2/2 [00:00<00:00, 89240.51it/s]\n",
      "Splitting the experimental spectrum into chunks: 131072it [00:00, 3482089.76it/s]\n",
      "Deconvolving chunks: 100%|███████████████████████| 1/1 [02:01<00:00, 121.06s/it]\n"
     ]
    },
    {
     "name": "stdout",
     "output_type": "stream",
     "text": [
      "Estimation for 0.09999999999999999 and 0.06999999999999999 done\n",
      "It took: 121.1956536769867 seconds.\n",
      "[0.8441190788940128, 0.10538067915300162]\n"
     ]
    },
    {
     "name": "stderr",
     "output_type": "stream",
     "text": [
      "Initial filtering of formulas: 100%|██████████████| 2/2 [00:00<00:00, 63.11it/s]\n",
      "Computing chunks: 100%|████████████████████████| 2/2 [00:00<00:00, 77672.30it/s]\n",
      "Splitting the experimental spectrum into chunks: 131072it [00:00, 3493063.59it/s]\n",
      "Deconvolving chunks: 100%|███████████████████████| 1/1 [02:03<00:00, 123.30s/it]\n"
     ]
    },
    {
     "name": "stdout",
     "output_type": "stream",
     "text": [
      "Estimation for 0.09999999999999999 and 0.08 done\n",
      "It took: 123.44370245933533 seconds.\n",
      "[0.8422212795000129, 0.10550870794000161]\n"
     ]
    },
    {
     "name": "stderr",
     "output_type": "stream",
     "text": [
      "Initial filtering of formulas: 100%|██████████████| 2/2 [00:00<00:00, 63.07it/s]\n",
      "Computing chunks: 100%|████████████████████████| 2/2 [00:00<00:00, 94254.02it/s]\n",
      "Splitting the experimental spectrum into chunks: 131072it [00:00, 3495217.78it/s]\n",
      "Deconvolving chunks: 100%|███████████████████████| 1/1 [02:01<00:00, 121.80s/it]\n"
     ]
    },
    {
     "name": "stdout",
     "output_type": "stream",
     "text": [
      "Estimation for 0.09999999999999999 and 0.09 done\n",
      "It took: 121.94119715690613 seconds.\n",
      "[0.8421777913600129, 0.10578850810500162]\n"
     ]
    },
    {
     "name": "stderr",
     "output_type": "stream",
     "text": [
      "Initial filtering of formulas: 100%|██████████████| 2/2 [00:00<00:00, 64.58it/s]\n",
      "Computing chunks: 100%|████████████████████████| 2/2 [00:00<00:00, 95325.09it/s]\n",
      "Splitting the experimental spectrum into chunks: 131072it [00:00, 3469038.11it/s]\n",
      "Deconvolving chunks: 100%|███████████████████████| 1/1 [02:02<00:00, 122.71s/it]\n"
     ]
    },
    {
     "name": "stdout",
     "output_type": "stream",
     "text": [
      "Estimation for 0.09999999999999999 and 0.09999999999999999 done\n",
      "It took: 122.85092425346375 seconds.\n",
      "[0.8422365067310129, 0.10584471413100162]\n"
     ]
    },
    {
     "name": "stderr",
     "output_type": "stream",
     "text": [
      "Initial filtering of formulas: 100%|██████████████| 2/2 [00:00<00:00, 63.97it/s]\n",
      "Computing chunks: 100%|████████████████████████| 2/2 [00:00<00:00, 89240.51it/s]\n",
      "Splitting the experimental spectrum into chunks: 131072it [00:00, 3500960.41it/s]\n",
      "Deconvolving chunks: 100%|███████████████████████| 1/1 [02:03<00:00, 123.34s/it]\n"
     ]
    },
    {
     "name": "stdout",
     "output_type": "stream",
     "text": [
      "Estimation for 0.09999999999999999 and 0.11 done\n",
      "It took: 123.47618269920349 seconds.\n",
      "[0.8413281931880129, 0.10571972312100163]\n"
     ]
    },
    {
     "name": "stderr",
     "output_type": "stream",
     "text": [
      "Initial filtering of formulas: 100%|██████████████| 2/2 [00:00<00:00, 63.93it/s]\n",
      "Computing chunks: 100%|████████████████████████| 2/2 [00:00<00:00, 96420.78it/s]\n",
      "Splitting the experimental spectrum into chunks: 131072it [00:00, 3497686.14it/s]\n",
      "Deconvolving chunks: 100%|███████████████████████| 1/1 [01:58<00:00, 118.95s/it]\n"
     ]
    },
    {
     "name": "stdout",
     "output_type": "stream",
     "text": [
      "Estimation for 0.09999999999999999 and 0.12 done\n",
      "It took: 119.10410165786743 seconds.\n",
      "[0.8429180456380129, 0.10589657554700162]\n"
     ]
    },
    {
     "name": "stderr",
     "output_type": "stream",
     "text": [
      "Initial filtering of formulas: 100%|██████████████| 2/2 [00:00<00:00, 63.72it/s]\n",
      "Computing chunks: 100%|████████████████████████| 2/2 [00:00<00:00, 94254.02it/s]\n",
      "Splitting the experimental spectrum into chunks: 131072it [00:00, 3475222.13it/s]\n",
      "Deconvolving chunks: 100%|███████████████████████| 1/1 [02:07<00:00, 127.01s/it]\n"
     ]
    },
    {
     "name": "stdout",
     "output_type": "stream",
     "text": [
      "Estimation for 0.09999999999999999 and 0.13 done\n",
      "It took: 127.1632182598114 seconds.\n",
      "[0.8425251054180128, 0.10595802665800162]\n"
     ]
    },
    {
     "name": "stderr",
     "output_type": "stream",
     "text": [
      "Initial filtering of formulas: 100%|██████████████| 2/2 [00:00<00:00, 63.56it/s]\n",
      "Computing chunks: 100%|████████████████████████| 2/2 [00:00<00:00, 90200.09it/s]\n",
      "Splitting the experimental spectrum into chunks: 131072it [00:00, 3535952.91it/s]\n",
      "Deconvolving chunks: 100%|███████████████████████| 1/1 [02:08<00:00, 128.84s/it]\n"
     ]
    },
    {
     "name": "stdout",
     "output_type": "stream",
     "text": [
      "Estimation for 0.09999999999999999 and 0.14 done\n",
      "It took: 128.99846482276917 seconds.\n",
      "[0.8415684849390129, 0.10604053704500162]\n"
     ]
    },
    {
     "name": "stderr",
     "output_type": "stream",
     "text": [
      "Initial filtering of formulas: 100%|██████████████| 2/2 [00:00<00:00, 63.83it/s]\n",
      "Computing chunks: 100%|████████████████████████| 2/2 [00:00<00:00, 89240.51it/s]\n",
      "Splitting the experimental spectrum into chunks: 131072it [00:00, 3458932.50it/s]\n",
      "Deconvolving chunks: 100%|███████████████████████| 1/1 [02:05<00:00, 125.78s/it]\n"
     ]
    },
    {
     "name": "stdout",
     "output_type": "stream",
     "text": [
      "Estimation for 0.09999999999999999 and 0.15000000000000002 done\n",
      "It took: 125.92529058456421 seconds.\n",
      "[0.8414484524070128, 0.10603306920300162]\n"
     ]
    },
    {
     "name": "stderr",
     "output_type": "stream",
     "text": [
      "Initial filtering of formulas: 100%|██████████████| 2/2 [00:00<00:00, 63.48it/s]\n",
      "Computing chunks: 100%|████████████████████████| 2/2 [00:00<00:00, 87381.33it/s]\n",
      "Splitting the experimental spectrum into chunks: 131072it [00:00, 3465146.03it/s]\n",
      "Deconvolving chunks: 100%|███████████████████████| 1/1 [02:07<00:00, 127.66s/it]\n"
     ]
    },
    {
     "name": "stdout",
     "output_type": "stream",
     "text": [
      "Estimation for 0.09999999999999999 and 0.16 done\n",
      "It took: 127.79725193977356 seconds.\n",
      "[0.8416543471070129, 0.10555132036600162]\n"
     ]
    },
    {
     "name": "stderr",
     "output_type": "stream",
     "text": [
      "Initial filtering of formulas: 100%|██████████████| 2/2 [00:00<00:00, 62.87it/s]\n",
      "Computing chunks: 100%|████████████████████████| 2/2 [00:00<00:00, 86480.49it/s]\n",
      "Splitting the experimental spectrum into chunks: 131072it [00:00, 3484804.66it/s]\n",
      "Deconvolving chunks: 100%|███████████████████████| 1/1 [02:06<00:00, 126.01s/it]\n"
     ]
    },
    {
     "name": "stdout",
     "output_type": "stream",
     "text": [
      "Estimation for 0.09999999999999999 and 0.17 done\n",
      "It took: 126.15053272247314 seconds.\n",
      "[0.8418221212470128, 0.10511376204900161]\n"
     ]
    },
    {
     "name": "stderr",
     "output_type": "stream",
     "text": [
      "Initial filtering of formulas: 100%|██████████████| 2/2 [00:00<00:00, 63.68it/s]\n",
      "Computing chunks: 100%|███████████████████████| 2/2 [00:00<00:00, 103563.06it/s]\n",
      "Splitting the experimental spectrum into chunks: 131072it [00:00, 3490490.94it/s]\n",
      "Deconvolving chunks: 100%|███████████████████████| 1/1 [02:04<00:00, 124.67s/it]\n"
     ]
    },
    {
     "name": "stdout",
     "output_type": "stream",
     "text": [
      "Estimation for 0.09999999999999999 and 0.18000000000000002 done\n",
      "It took: 124.80795502662659 seconds.\n",
      "[0.8417966885880129, 0.10502196902100161]\n"
     ]
    },
    {
     "name": "stderr",
     "output_type": "stream",
     "text": [
      "Initial filtering of formulas: 100%|██████████████| 2/2 [00:00<00:00, 63.77it/s]\n",
      "Computing chunks: 100%|████████████████████████| 2/2 [00:00<00:00, 93206.76it/s]\n",
      "Splitting the experimental spectrum into chunks: 131072it [00:00, 3467572.09it/s]\n",
      "Deconvolving chunks: 100%|███████████████████████| 1/1 [02:11<00:00, 131.41s/it]\n"
     ]
    },
    {
     "name": "stdout",
     "output_type": "stream",
     "text": [
      "Estimation for 0.09999999999999999 and 0.19 done\n",
      "It took: 131.54703307151794 seconds.\n",
      "[0.8418088969140128, 0.10482479667400162]\n"
     ]
    },
    {
     "name": "stderr",
     "output_type": "stream",
     "text": [
      "Initial filtering of formulas: 100%|██████████████| 2/2 [00:00<00:00, 64.02it/s]\n",
      "Computing chunks: 100%|████████████████████████| 2/2 [00:00<00:00, 93206.76it/s]\n",
      "Splitting the experimental spectrum into chunks: 131072it [00:00, 3509296.19it/s]\n",
      "Deconvolving chunks: 100%|███████████████████████| 1/1 [02:12<00:00, 132.98s/it]\n"
     ]
    },
    {
     "name": "stdout",
     "output_type": "stream",
     "text": [
      "Estimation for 0.09999999999999999 and 0.2 done\n",
      "It took: 133.12280106544495 seconds.\n",
      "[0.8418045503540129, 0.10465782347200162]\n"
     ]
    },
    {
     "name": "stderr",
     "output_type": "stream",
     "text": [
      "Initial filtering of formulas: 100%|██████████████| 2/2 [00:00<00:00, 64.75it/s]\n",
      "Computing chunks: 100%|████████████████████████| 2/2 [00:00<00:00, 94254.02it/s]\n",
      "Splitting the experimental spectrum into chunks: 131072it [00:00, 3520352.28it/s]\n",
      "Deconvolving chunks: 100%|███████████████████████| 1/1 [02:10<00:00, 130.95s/it]\n"
     ]
    },
    {
     "name": "stdout",
     "output_type": "stream",
     "text": [
      "Estimation for 0.09999999999999999 and 0.21000000000000002 done\n",
      "It took: 131.0899887084961 seconds.\n",
      "[0.8419295999760129, 0.10434489161600159]\n"
     ]
    },
    {
     "name": "stderr",
     "output_type": "stream",
     "text": [
      "Initial filtering of formulas: 100%|██████████████| 2/2 [00:00<00:00, 64.77it/s]\n",
      "Computing chunks: 100%|████████████████████████| 2/2 [00:00<00:00, 99864.38it/s]\n",
      "Splitting the experimental spectrum into chunks: 131072it [00:00, 3549284.75it/s]\n",
      "Deconvolving chunks: 100%|███████████████████████| 1/1 [02:05<00:00, 125.60s/it]\n"
     ]
    },
    {
     "name": "stdout",
     "output_type": "stream",
     "text": [
      "Estimation for 0.09999999999999999 and 0.22 done\n",
      "It took: 125.73885154724121 seconds.\n",
      "[0.8403198804390128, 0.1042209925600016]\n"
     ]
    },
    {
     "name": "stderr",
     "output_type": "stream",
     "text": [
      "Initial filtering of formulas: 100%|██████████████| 2/2 [00:00<00:00, 65.05it/s]\n",
      "Computing chunks: 100%|████████████████████████| 2/2 [00:00<00:00, 89240.51it/s]\n",
      "Splitting the experimental spectrum into chunks: 131072it [00:00, 3558197.94it/s]\n",
      "Deconvolving chunks: 100%|███████████████████████| 1/1 [02:34<00:00, 154.26s/it]\n"
     ]
    },
    {
     "name": "stdout",
     "output_type": "stream",
     "text": [
      "Estimation for 0.09999999999999999 and 0.23 done\n",
      "It took: 154.40868282318115 seconds.\n",
      "[0.8392995802620129, 0.10322069760200159]\n"
     ]
    },
    {
     "name": "stderr",
     "output_type": "stream",
     "text": [
      "Initial filtering of formulas: 100%|██████████████| 2/2 [00:00<00:00, 62.91it/s]\n",
      "Computing chunks: 100%|████████████████████████| 2/2 [00:00<00:00, 89240.51it/s]\n",
      "Splitting the experimental spectrum into chunks: 131072it [00:00, 3496262.51it/s]\n",
      "Deconvolving chunks: 100%|███████████████████████| 1/1 [02:32<00:00, 152.16s/it]\n"
     ]
    },
    {
     "name": "stdout",
     "output_type": "stream",
     "text": [
      "Estimation for 0.09999999999999999 and 0.24000000000000002 done\n",
      "It took: 152.31422543525696 seconds.\n",
      "[0.8426181599120128, 0.0982453942790015]\n"
     ]
    },
    {
     "name": "stderr",
     "output_type": "stream",
     "text": [
      "Initial filtering of formulas: 100%|██████████████| 2/2 [00:00<00:00, 63.75it/s]\n",
      "Computing chunks: 100%|████████████████████████| 2/2 [00:00<00:00, 81442.80it/s]\n",
      "Splitting the experimental spectrum into chunks: 131072it [00:00, 3526517.17it/s]\n",
      "Deconvolving chunks: 100%|███████████████████████| 1/1 [02:04<00:00, 124.50s/it]\n"
     ]
    },
    {
     "name": "stdout",
     "output_type": "stream",
     "text": [
      "Estimation for 0.09999999999999999 and 0.25 done\n",
      "It took: 124.66067600250244 seconds.\n",
      "[0.845410224546013, 0.09425841661900144]\n"
     ]
    },
    {
     "name": "stderr",
     "output_type": "stream",
     "text": [
      "Initial filtering of formulas: 100%|██████████████| 2/2 [00:00<00:00, 63.14it/s]\n",
      "Computing chunks: 100%|████████████████████████| 2/2 [00:00<00:00, 97541.95it/s]\n",
      "Splitting the experimental spectrum into chunks: 131072it [00:00, 3447933.86it/s]\n",
      "Deconvolving chunks: 100%|███████████████████████| 1/1 [02:23<00:00, 143.78s/it]\n"
     ]
    },
    {
     "name": "stdout",
     "output_type": "stream",
     "text": [
      "Estimation for 0.09999999999999999 and 0.26 done\n",
      "It took: 143.9167137145996 seconds.\n",
      "[0.8461320522620129, 0.09364548682600143]\n"
     ]
    },
    {
     "name": "stderr",
     "output_type": "stream",
     "text": [
      "Initial filtering of formulas: 100%|██████████████| 2/2 [00:00<00:00, 64.30it/s]\n",
      "Computing chunks: 100%|████████████████████████| 2/2 [00:00<00:00, 91180.52it/s]\n",
      "Splitting the experimental spectrum into chunks: 131072it [00:00, 3514276.31it/s]\n",
      "Deconvolving chunks: 100%|███████████████████████| 1/1 [02:09<00:00, 129.86s/it]\n"
     ]
    },
    {
     "name": "stdout",
     "output_type": "stream",
     "text": [
      "Estimation for 0.09999999999999999 and 0.27 done\n",
      "It took: 130.00365591049194 seconds.\n",
      "[0.846543326298013, 0.09366060675100144]\n"
     ]
    },
    {
     "name": "stderr",
     "output_type": "stream",
     "text": [
      "Initial filtering of formulas: 100%|██████████████| 2/2 [00:00<00:00, 61.94it/s]\n",
      "Computing chunks: 100%|████████████████████████| 2/2 [00:00<00:00, 90200.09it/s]\n",
      "Splitting the experimental spectrum into chunks: 131072it [00:00, 3419347.26it/s]\n",
      "Deconvolving chunks: 100%|███████████████████████| 1/1 [02:27<00:00, 147.88s/it]\n"
     ]
    },
    {
     "name": "stdout",
     "output_type": "stream",
     "text": [
      "Estimation for 0.09999999999999999 and 0.28 done\n",
      "It took: 148.02356934547424 seconds.\n",
      "[0.847058100203013, 0.09359629947000143]\n"
     ]
    },
    {
     "name": "stderr",
     "output_type": "stream",
     "text": [
      "Initial filtering of formulas: 100%|██████████████| 2/2 [00:00<00:00, 60.11it/s]\n",
      "Computing chunks: 100%|████████████████████████| 2/2 [00:00<00:00, 89240.51it/s]\n",
      "Splitting the experimental spectrum into chunks: 131072it [00:00, 3651673.63it/s]\n",
      "Deconvolving chunks: 100%|███████████████████████| 1/1 [02:19<00:00, 139.88s/it]\n"
     ]
    },
    {
     "name": "stdout",
     "output_type": "stream",
     "text": [
      "Estimation for 0.09999999999999999 and 0.29000000000000004 done\n",
      "It took: 140.02429103851318 seconds.\n",
      "[0.847645906075013, 0.09339261236600142]\n"
     ]
    },
    {
     "name": "stderr",
     "output_type": "stream",
     "text": [
      "Initial filtering of formulas: 100%|██████████████| 2/2 [00:00<00:00, 64.11it/s]\n",
      "Computing chunks: 100%|████████████████████████| 2/2 [00:00<00:00, 88301.14it/s]\n",
      "Splitting the experimental spectrum into chunks: 131072it [00:00, 3473926.48it/s]\n",
      "Deconvolving chunks: 100%|███████████████████████| 1/1 [02:49<00:00, 169.80s/it]\n"
     ]
    },
    {
     "name": "stdout",
     "output_type": "stream",
     "text": [
      "Estimation for 0.11 and 0.01 done\n",
      "It took: 169.93618273735046 seconds.\n",
      "[0.7589323720310116, 0.23174525798100357]\n"
     ]
    },
    {
     "name": "stderr",
     "output_type": "stream",
     "text": [
      "Initial filtering of formulas: 100%|██████████████| 2/2 [00:00<00:00, 65.06it/s]\n",
      "Computing chunks: 100%|████████████████████████| 2/2 [00:00<00:00, 90200.09it/s]\n",
      "Splitting the experimental spectrum into chunks: 131072it [00:00, 3577392.64it/s]\n",
      "Deconvolving chunks: 100%|███████████████████████| 1/1 [02:19<00:00, 139.36s/it]\n"
     ]
    },
    {
     "name": "stdout",
     "output_type": "stream",
     "text": [
      "Estimation for 0.11 and 0.02 done\n",
      "It took: 139.5093982219696 seconds.\n",
      "[0.8692260986010133, 0.09653832222900148]\n"
     ]
    },
    {
     "name": "stderr",
     "output_type": "stream",
     "text": [
      "Initial filtering of formulas: 100%|██████████████| 2/2 [00:00<00:00, 63.32it/s]\n",
      "Computing chunks: 100%|████████████████████████| 2/2 [00:00<00:00, 95325.09it/s]\n",
      "Splitting the experimental spectrum into chunks: 131072it [00:00, 3515332.47it/s]\n",
      "Deconvolving chunks: 100%|███████████████████████| 1/1 [02:21<00:00, 141.77s/it]\n"
     ]
    },
    {
     "name": "stdout",
     "output_type": "stream",
     "text": [
      "Estimation for 0.11 and 0.03 done\n",
      "It took: 141.91434383392334 seconds.\n",
      "[0.8548220666550131, 0.10472199975300162]\n"
     ]
    },
    {
     "name": "stderr",
     "output_type": "stream",
     "text": [
      "Initial filtering of formulas: 100%|██████████████| 2/2 [00:00<00:00, 56.67it/s]\n",
      "Computing chunks: 100%|████████████████████████| 2/2 [00:00<00:00, 88301.14it/s]\n",
      "Splitting the experimental spectrum into chunks: 131072it [00:00, 3306662.66it/s]\n",
      "Deconvolving chunks: 100%|███████████████████████| 1/1 [02:34<00:00, 154.67s/it]\n"
     ]
    },
    {
     "name": "stdout",
     "output_type": "stream",
     "text": [
      "Estimation for 0.11 and 0.04 done\n",
      "It took: 154.82172465324402 seconds.\n",
      "[0.8529967499880131, 0.10562990708200162]\n"
     ]
    },
    {
     "name": "stderr",
     "output_type": "stream",
     "text": [
      "Initial filtering of formulas: 100%|██████████████| 2/2 [00:00<00:00, 62.59it/s]\n",
      "Computing chunks: 100%|████████████████████████| 2/2 [00:00<00:00, 88301.14it/s]\n",
      "Splitting the experimental spectrum into chunks: 131072it [00:00, 3463508.73it/s]\n",
      "Deconvolving chunks: 100%|███████████████████████| 1/1 [01:58<00:00, 118.62s/it]\n"
     ]
    },
    {
     "name": "stdout",
     "output_type": "stream",
     "text": [
      "Estimation for 0.11 and 0.05 done\n",
      "It took: 118.76110529899597 seconds.\n",
      "[0.849946607373013, 0.10593242226500163]\n"
     ]
    },
    {
     "name": "stderr",
     "output_type": "stream",
     "text": [
      "Initial filtering of formulas: 100%|██████████████| 2/2 [00:00<00:00, 64.59it/s]\n",
      "Computing chunks: 100%|████████████████████████| 2/2 [00:00<00:00, 97541.95it/s]\n",
      "Splitting the experimental spectrum into chunks: 131072it [00:00, 3541077.44it/s]\n",
      "Deconvolving chunks: 100%|███████████████████████| 1/1 [01:59<00:00, 119.87s/it]\n"
     ]
    },
    {
     "name": "stdout",
     "output_type": "stream",
     "text": [
      "Estimation for 0.11 and 0.060000000000000005 done\n",
      "It took: 120.03647994995117 seconds.\n",
      "[0.848387751254013, 0.10586531649200162]\n"
     ]
    },
    {
     "name": "stderr",
     "output_type": "stream",
     "text": [
      "Initial filtering of formulas: 100%|██████████████| 2/2 [00:00<00:00, 63.16it/s]\n",
      "Computing chunks: 100%|████████████████████████| 2/2 [00:00<00:00, 91180.52it/s]\n",
      "Splitting the experimental spectrum into chunks: 131072it [00:00, 3491089.41it/s]\n",
      "Deconvolving chunks: 100%|███████████████████████| 1/1 [02:01<00:00, 121.16s/it]\n"
     ]
    },
    {
     "name": "stdout",
     "output_type": "stream",
     "text": [
      "Estimation for 0.11 and 0.06999999999999999 done\n",
      "It took: 121.29644346237183 seconds.\n",
      "[0.848048264157013, 0.10550782415800161]\n"
     ]
    },
    {
     "name": "stderr",
     "output_type": "stream",
     "text": [
      "Initial filtering of formulas: 100%|██████████████| 2/2 [00:00<00:00, 63.36it/s]\n",
      "Computing chunks: 100%|████████████████████████| 2/2 [00:00<00:00, 90200.09it/s]\n",
      "Splitting the experimental spectrum into chunks: 131072it [00:00, 3476980.48it/s]\n",
      "Deconvolving chunks: 100%|███████████████████████| 1/1 [02:03<00:00, 123.06s/it]\n"
     ]
    },
    {
     "name": "stdout",
     "output_type": "stream",
     "text": [
      "Estimation for 0.11 and 0.08 done\n",
      "It took: 123.22306275367737 seconds.\n",
      "[0.849025462985013, 0.10563804687100162]\n"
     ]
    },
    {
     "name": "stderr",
     "output_type": "stream",
     "text": [
      "Initial filtering of formulas: 100%|██████████████| 2/2 [00:00<00:00, 64.14it/s]\n",
      "Computing chunks: 100%|████████████████████████| 2/2 [00:00<00:00, 81442.80it/s]\n",
      "Splitting the experimental spectrum into chunks: 131072it [00:00, 3504799.33it/s]\n",
      "Deconvolving chunks: 100%|███████████████████████| 1/1 [02:03<00:00, 123.02s/it]\n"
     ]
    },
    {
     "name": "stdout",
     "output_type": "stream",
     "text": [
      "Estimation for 0.11 and 0.09 done\n",
      "It took: 123.16439652442932 seconds.\n",
      "[0.8477798101840129, 0.10579674515000162]\n"
     ]
    },
    {
     "name": "stderr",
     "output_type": "stream",
     "text": [
      "Initial filtering of formulas: 100%|██████████████| 2/2 [00:00<00:00, 63.88it/s]\n",
      "Computing chunks: 100%|████████████████████████| 2/2 [00:00<00:00, 92182.51it/s]\n",
      "Splitting the experimental spectrum into chunks: 131072it [00:00, 3479797.54it/s]\n",
      "Deconvolving chunks: 100%|███████████████████████| 1/1 [02:01<00:00, 121.81s/it]\n"
     ]
    },
    {
     "name": "stdout",
     "output_type": "stream",
     "text": [
      "Estimation for 0.11 and 0.09999999999999999 done\n",
      "It took: 121.94756507873535 seconds.\n",
      "[0.846889390040013, 0.10592287834700162]\n"
     ]
    },
    {
     "name": "stderr",
     "output_type": "stream",
     "text": [
      "Initial filtering of formulas: 100%|██████████████| 2/2 [00:00<00:00, 63.66it/s]\n",
      "Computing chunks: 100%|████████████████████████| 2/2 [00:00<00:00, 94254.02it/s]\n",
      "Splitting the experimental spectrum into chunks: 131072it [00:00, 3529279.15it/s]\n",
      "Deconvolving chunks: 100%|███████████████████████| 1/1 [02:01<00:00, 121.40s/it]\n"
     ]
    },
    {
     "name": "stdout",
     "output_type": "stream",
     "text": [
      "Estimation for 0.11 and 0.11 done\n",
      "It took: 121.53808689117432 seconds.\n",
      "[0.846743909515013, 0.10590081686000162]\n"
     ]
    },
    {
     "name": "stderr",
     "output_type": "stream",
     "text": [
      "Initial filtering of formulas: 100%|██████████████| 2/2 [00:00<00:00, 64.78it/s]\n",
      "Computing chunks: 100%|████████████████████████| 2/2 [00:00<00:00, 90200.09it/s]\n",
      "Splitting the experimental spectrum into chunks: 131072it [00:00, 3513400.40it/s]\n",
      "Deconvolving chunks: 100%|███████████████████████| 1/1 [02:00<00:00, 120.36s/it]\n"
     ]
    },
    {
     "name": "stdout",
     "output_type": "stream",
     "text": [
      "Estimation for 0.11 and 0.12 done\n",
      "It took: 120.49824070930481 seconds.\n",
      "[0.845042885787013, 0.10610386781800163]\n"
     ]
    },
    {
     "name": "stderr",
     "output_type": "stream",
     "text": [
      "Initial filtering of formulas: 100%|██████████████| 2/2 [00:00<00:00, 64.22it/s]\n",
      "Computing chunks: 100%|████████████████████████| 2/2 [00:00<00:00, 63550.06it/s]\n",
      "Splitting the experimental spectrum into chunks: 131072it [00:00, 3577392.64it/s]\n",
      "Deconvolving chunks: 100%|███████████████████████| 1/1 [02:00<00:00, 120.94s/it]\n"
     ]
    },
    {
     "name": "stdout",
     "output_type": "stream",
     "text": [
      "Estimation for 0.11 and 0.13 done\n",
      "It took: 121.08086609840393 seconds.\n",
      "[0.844432671231013, 0.10603976761400162]\n"
     ]
    },
    {
     "name": "stderr",
     "output_type": "stream",
     "text": [
      "Initial filtering of formulas: 100%|██████████████| 2/2 [00:00<00:00, 63.83it/s]\n",
      "Computing chunks: 100%|████████████████████████| 2/2 [00:00<00:00, 92182.51it/s]\n",
      "Splitting the experimental spectrum into chunks: 131072it [00:00, 3444434.23it/s]\n",
      "Deconvolving chunks: 100%|███████████████████████| 1/1 [02:06<00:00, 126.89s/it]\n"
     ]
    },
    {
     "name": "stdout",
     "output_type": "stream",
     "text": [
      "Estimation for 0.11 and 0.14 done\n",
      "It took: 127.05087375640869 seconds.\n",
      "[0.8430225132970128, 0.10616328569400163]\n"
     ]
    },
    {
     "name": "stderr",
     "output_type": "stream",
     "text": [
      "Initial filtering of formulas: 100%|██████████████| 2/2 [00:00<00:00, 63.39it/s]\n",
      "Computing chunks: 100%|████████████████████████| 2/2 [00:00<00:00, 94254.02it/s]\n",
      "Splitting the experimental spectrum into chunks: 131072it [00:00, 3491909.87it/s]\n",
      "Deconvolving chunks: 100%|███████████████████████| 1/1 [02:06<00:00, 126.83s/it]\n"
     ]
    },
    {
     "name": "stdout",
     "output_type": "stream",
     "text": [
      "Estimation for 0.11 and 0.15000000000000002 done\n",
      "It took: 126.99535751342773 seconds.\n",
      "[0.8430169094340129, 0.10611706377900162]\n"
     ]
    },
    {
     "name": "stderr",
     "output_type": "stream",
     "text": [
      "Initial filtering of formulas: 100%|██████████████| 2/2 [00:00<00:00, 64.18it/s]\n",
      "Computing chunks: 100%|████████████████████████| 2/2 [00:00<00:00, 93206.76it/s]\n",
      "Splitting the experimental spectrum into chunks: 131072it [00:00, 3445513.60it/s]\n",
      "Deconvolving chunks: 100%|███████████████████████| 1/1 [02:03<00:00, 123.94s/it]\n"
     ]
    },
    {
     "name": "stdout",
     "output_type": "stream",
     "text": [
      "Estimation for 0.11 and 0.16 done\n",
      "It took: 124.1049153804779 seconds.\n",
      "[0.8429730206630128, 0.10602080117900162]\n"
     ]
    },
    {
     "name": "stderr",
     "output_type": "stream",
     "text": [
      "Initial filtering of formulas: 100%|██████████████| 2/2 [00:00<00:00, 63.87it/s]\n",
      "Computing chunks: 100%|████████████████████████| 2/2 [00:00<00:00, 89240.51it/s]\n",
      "Splitting the experimental spectrum into chunks: 131072it [00:00, 3509027.40it/s]\n",
      "Deconvolving chunks: 100%|███████████████████████| 1/1 [02:06<00:00, 126.90s/it]\n"
     ]
    },
    {
     "name": "stdout",
     "output_type": "stream",
     "text": [
      "Estimation for 0.11 and 0.17 done\n",
      "It took: 127.04014897346497 seconds.\n",
      "[0.8430602721760129, 0.10577706400400162]\n"
     ]
    },
    {
     "name": "stderr",
     "output_type": "stream",
     "text": [
      "Initial filtering of formulas: 100%|██████████████| 2/2 [00:00<00:00, 62.77it/s]\n",
      "Computing chunks: 100%|████████████████████████| 2/2 [00:00<00:00, 35696.20it/s]\n",
      "Splitting the experimental spectrum into chunks: 131072it [00:00, 3461742.18it/s]\n",
      "Deconvolving chunks: 100%|███████████████████████| 1/1 [02:06<00:00, 126.71s/it]\n"
     ]
    },
    {
     "name": "stdout",
     "output_type": "stream",
     "text": [
      "Estimation for 0.11 and 0.18000000000000002 done\n",
      "It took: 126.84692454338074 seconds.\n",
      "[0.8431119690190129, 0.10565298871900163]\n"
     ]
    },
    {
     "name": "stderr",
     "output_type": "stream",
     "text": [
      "Initial filtering of formulas: 100%|██████████████| 2/2 [00:00<00:00, 63.61it/s]\n",
      "Computing chunks: 100%|████████████████████████| 2/2 [00:00<00:00, 90200.09it/s]\n",
      "Splitting the experimental spectrum into chunks: 131072it [00:00, 3559695.50it/s]\n",
      "Deconvolving chunks: 100%|███████████████████████| 1/1 [02:06<00:00, 126.81s/it]\n"
     ]
    },
    {
     "name": "stdout",
     "output_type": "stream",
     "text": [
      "Estimation for 0.11 and 0.19 done\n",
      "It took: 126.94636487960815 seconds.\n",
      "[0.8431485973270129, 0.10545659801100161]\n"
     ]
    },
    {
     "name": "stderr",
     "output_type": "stream",
     "text": [
      "Initial filtering of formulas: 100%|██████████████| 2/2 [00:00<00:00, 64.95it/s]\n",
      "Computing chunks: 100%|███████████████████████| 2/2 [00:00<00:00, 107546.26it/s]\n",
      "Splitting the experimental spectrum into chunks: 131072it [00:00, 3547063.43it/s]\n",
      "Deconvolving chunks: 100%|███████████████████████| 1/1 [02:04<00:00, 124.43s/it]\n"
     ]
    },
    {
     "name": "stdout",
     "output_type": "stream",
     "text": [
      "Estimation for 0.11 and 0.2 done\n",
      "It took: 124.58382868766785 seconds.\n",
      "[0.8432408694720129, 0.10507915518900161]\n"
     ]
    },
    {
     "name": "stderr",
     "output_type": "stream",
     "text": [
      "Initial filtering of formulas: 100%|██████████████| 2/2 [00:00<00:00, 64.22it/s]\n",
      "Computing chunks: 100%|████████████████████████| 2/2 [00:00<00:00, 83886.08it/s]\n",
      "Splitting the experimental spectrum into chunks: 131072it [00:00, 3497930.94it/s]\n",
      "Deconvolving chunks: 100%|███████████████████████| 1/1 [02:10<00:00, 130.70s/it]\n"
     ]
    },
    {
     "name": "stdout",
     "output_type": "stream",
     "text": [
      "Estimation for 0.11 and 0.21000000000000002 done\n",
      "It took: 130.83851218223572 seconds.\n",
      "[0.8432654126100129, 0.10498893757900161]\n"
     ]
    },
    {
     "name": "stderr",
     "output_type": "stream",
     "text": [
      "Initial filtering of formulas: 100%|██████████████| 2/2 [00:00<00:00, 62.58it/s]\n",
      "Computing chunks: 100%|████████████████████████| 2/2 [00:00<00:00, 54827.50it/s]\n",
      "Splitting the experimental spectrum into chunks: 131072it [00:00, 3490357.98it/s]\n",
      "Deconvolving chunks: 100%|███████████████████████| 1/1 [02:06<00:00, 126.94s/it]\n"
     ]
    },
    {
     "name": "stdout",
     "output_type": "stream",
     "text": [
      "Estimation for 0.11 and 0.22 done\n",
      "It took: 127.08100724220276 seconds.\n",
      "[0.8433954406400129, 0.10470373667100161]\n"
     ]
    },
    {
     "name": "stderr",
     "output_type": "stream",
     "text": [
      "Initial filtering of formulas: 100%|██████████████| 2/2 [00:00<00:00, 64.34it/s]\n",
      "Computing chunks: 100%|████████████████████████| 2/2 [00:00<00:00, 87381.33it/s]\n",
      "Splitting the experimental spectrum into chunks: 131072it [00:00, 3493374.34it/s]\n",
      "Deconvolving chunks: 100%|███████████████████████| 1/1 [02:33<00:00, 153.20s/it]\n"
     ]
    },
    {
     "name": "stdout",
     "output_type": "stream",
     "text": [
      "Estimation for 0.11 and 0.23 done\n",
      "It took: 153.33865761756897 seconds.\n",
      "[0.8401497251240129, 0.10472897964900162]\n"
     ]
    },
    {
     "name": "stderr",
     "output_type": "stream",
     "text": [
      "Initial filtering of formulas: 100%|██████████████| 2/2 [00:00<00:00, 63.63it/s]\n",
      "Computing chunks: 100%|████████████████████████| 2/2 [00:00<00:00, 93206.76it/s]\n",
      "Splitting the experimental spectrum into chunks: 131072it [00:00, 3504352.52it/s]\n",
      "Deconvolving chunks: 100%|███████████████████████| 1/1 [02:04<00:00, 124.88s/it]\n"
     ]
    },
    {
     "name": "stdout",
     "output_type": "stream",
     "text": [
      "Estimation for 0.11 and 0.24000000000000002 done\n",
      "It took: 125.04336094856262 seconds.\n",
      "[0.8404272031450128, 0.10456868180800159]\n"
     ]
    },
    {
     "name": "stderr",
     "output_type": "stream",
     "text": [
      "Initial filtering of formulas: 100%|██████████████| 2/2 [00:00<00:00, 63.92it/s]\n",
      "Computing chunks: 100%|████████████████████████| 2/2 [00:00<00:00, 91180.52it/s]\n",
      "Splitting the experimental spectrum into chunks: 131072it [00:00, 3554838.76it/s]\n",
      "Deconvolving chunks: 100%|███████████████████████| 1/1 [02:28<00:00, 148.48s/it]\n"
     ]
    },
    {
     "name": "stdout",
     "output_type": "stream",
     "text": [
      "Estimation for 0.11 and 0.25 done\n",
      "It took: 148.61825728416443 seconds.\n",
      "[0.8412419902920129, 0.1038595759010016]\n"
     ]
    },
    {
     "name": "stderr",
     "output_type": "stream",
     "text": [
      "Initial filtering of formulas: 100%|██████████████| 2/2 [00:00<00:00, 60.15it/s]\n",
      "Computing chunks: 100%|████████████████████████| 2/2 [00:00<00:00, 83055.52it/s]\n",
      "Splitting the experimental spectrum into chunks: 131072it [00:00, 3399072.65it/s]\n",
      "Deconvolving chunks: 100%|███████████████████████| 1/1 [02:29<00:00, 149.21s/it]\n"
     ]
    },
    {
     "name": "stdout",
     "output_type": "stream",
     "text": [
      "Estimation for 0.11 and 0.26 done\n",
      "It took: 149.37016582489014 seconds.\n",
      "[0.8419076778630129, 0.10346213763000159]\n"
     ]
    },
    {
     "name": "stderr",
     "output_type": "stream",
     "text": [
      "Initial filtering of formulas: 100%|██████████████| 2/2 [00:00<00:00, 64.14it/s]\n",
      "Computing chunks: 100%|████████████████████████| 2/2 [00:00<00:00, 91180.52it/s]\n",
      "Splitting the experimental spectrum into chunks: 131072it [00:00, 3535861.94it/s]\n",
      "Deconvolving chunks: 100%|███████████████████████| 1/1 [02:36<00:00, 156.01s/it]\n"
     ]
    },
    {
     "name": "stdout",
     "output_type": "stream",
     "text": [
      "Estimation for 0.11 and 0.27 done\n",
      "It took: 156.14304995536804 seconds.\n",
      "[0.844994337236013, 0.09930686109500153]\n"
     ]
    },
    {
     "name": "stderr",
     "output_type": "stream",
     "text": [
      "Initial filtering of formulas: 100%|██████████████| 2/2 [00:00<00:00, 62.78it/s]\n",
      "Computing chunks: 100%|████████████████████████| 2/2 [00:00<00:00, 61230.72it/s]\n",
      "Splitting the experimental spectrum into chunks: 131072it [00:00, 3510932.24it/s]\n",
      "Deconvolving chunks: 100%|███████████████████████| 1/1 [02:10<00:00, 130.70s/it]\n"
     ]
    },
    {
     "name": "stdout",
     "output_type": "stream",
     "text": [
      "Estimation for 0.11 and 0.28 done\n",
      "It took: 130.86629796028137 seconds.\n",
      "[0.847860540994013, 0.09546545153500145]\n"
     ]
    },
    {
     "name": "stderr",
     "output_type": "stream",
     "text": [
      "Initial filtering of formulas: 100%|██████████████| 2/2 [00:00<00:00, 64.52it/s]\n",
      "Computing chunks: 100%|████████████████████████| 2/2 [00:00<00:00, 59918.63it/s]\n",
      "Splitting the experimental spectrum into chunks: 131072it [00:00, 3525929.10it/s]\n",
      "Deconvolving chunks: 100%|███████████████████████| 1/1 [02:16<00:00, 136.52s/it]\n"
     ]
    },
    {
     "name": "stdout",
     "output_type": "stream",
     "text": [
      "Estimation for 0.11 and 0.29000000000000004 done\n",
      "It took: 136.66052436828613 seconds.\n",
      "[0.8486734374880129, 0.09474257281900146]\n"
     ]
    },
    {
     "name": "stderr",
     "output_type": "stream",
     "text": [
      "Initial filtering of formulas: 100%|██████████████| 2/2 [00:00<00:00, 62.40it/s]\n",
      "Computing chunks: 100%|████████████████████████| 2/2 [00:00<00:00, 80659.69it/s]\n",
      "Splitting the experimental spectrum into chunks: 131072it [00:00, 3248936.62it/s]\n",
      "Deconvolving chunks: 100%|███████████████████████| 1/1 [02:52<00:00, 172.78s/it]\n"
     ]
    },
    {
     "name": "stdout",
     "output_type": "stream",
     "text": [
      "Estimation for 0.12 and 0.01 done\n",
      "It took: 172.9268069267273 seconds.\n",
      "[0.7460427210310114, 0.2467319018490038]\n"
     ]
    },
    {
     "name": "stderr",
     "output_type": "stream",
     "text": [
      "Initial filtering of formulas: 100%|██████████████| 2/2 [00:00<00:00, 63.28it/s]\n",
      "Computing chunks: 100%|████████████████████████| 2/2 [00:00<00:00, 55924.05it/s]\n",
      "Splitting the experimental spectrum into chunks: 131072it [00:00, 3475903.28it/s]\n",
      "Deconvolving chunks: 100%|███████████████████████| 1/1 [02:35<00:00, 155.71s/it]\n"
     ]
    },
    {
     "name": "stdout",
     "output_type": "stream",
     "text": [
      "Estimation for 0.12 and 0.02 done\n",
      "It took: 155.85326981544495 seconds.\n",
      "[0.8710653957920134, 0.09637876440300147]\n"
     ]
    },
    {
     "name": "stderr",
     "output_type": "stream",
     "text": [
      "Initial filtering of formulas: 100%|██████████████| 2/2 [00:00<00:00, 64.18it/s]\n",
      "Computing chunks: 100%|████████████████████████| 2/2 [00:00<00:00, 90200.09it/s]\n",
      "Splitting the experimental spectrum into chunks: 131072it [00:00, 3557691.35it/s]\n",
      "Deconvolving chunks: 100%|███████████████████████| 1/1 [02:34<00:00, 154.19s/it]\n"
     ]
    },
    {
     "name": "stdout",
     "output_type": "stream",
     "text": [
      "Estimation for 0.12 and 0.03 done\n",
      "It took: 154.32984256744385 seconds.\n",
      "[0.8563536460540131, 0.10494204817400161]\n"
     ]
    },
    {
     "name": "stderr",
     "output_type": "stream",
     "text": [
      "Initial filtering of formulas: 100%|██████████████| 2/2 [00:00<00:00, 64.81it/s]\n",
      "Computing chunks: 100%|████████████████████████| 2/2 [00:00<00:00, 92182.51it/s]\n",
      "Splitting the experimental spectrum into chunks: 131072it [00:00, 3522878.85it/s]\n",
      "Deconvolving chunks: 100%|███████████████████████| 1/1 [02:23<00:00, 143.78s/it]\n"
     ]
    },
    {
     "name": "stdout",
     "output_type": "stream",
     "text": [
      "Estimation for 0.12 and 0.04 done\n",
      "It took: 143.91759538650513 seconds.\n",
      "[0.8545949329630131, 0.10597402176900163]\n"
     ]
    },
    {
     "name": "stderr",
     "output_type": "stream",
     "text": [
      "Initial filtering of formulas: 100%|██████████████| 2/2 [00:00<00:00, 63.62it/s]\n",
      "Computing chunks: 100%|████████████████████████| 2/2 [00:00<00:00, 96420.78it/s]\n",
      "Splitting the experimental spectrum into chunks: 131072it [00:00, 3481913.33it/s]\n",
      "Deconvolving chunks: 100%|███████████████████████| 1/1 [01:54<00:00, 114.64s/it]\n"
     ]
    },
    {
     "name": "stdout",
     "output_type": "stream",
     "text": [
      "Estimation for 0.12 and 0.05 done\n",
      "It took: 114.77869868278503 seconds.\n",
      "[0.8539245861840131, 0.10649874498600163]\n"
     ]
    },
    {
     "name": "stderr",
     "output_type": "stream",
     "text": [
      "Initial filtering of formulas: 100%|██████████████| 2/2 [00:00<00:00, 64.02it/s]\n",
      "Computing chunks: 100%|████████████████████████| 2/2 [00:00<00:00, 82241.25it/s]\n",
      "Splitting the experimental spectrum into chunks: 131072it [00:00, 3498398.38it/s]\n",
      "Deconvolving chunks: 100%|███████████████████████| 1/1 [02:30<00:00, 150.53s/it]\n"
     ]
    },
    {
     "name": "stdout",
     "output_type": "stream",
     "text": [
      "Estimation for 0.12 and 0.060000000000000005 done\n",
      "It took: 150.67214465141296 seconds.\n",
      "[0.8532384663590131, 0.10616473664800162]\n"
     ]
    },
    {
     "name": "stderr",
     "output_type": "stream",
     "text": [
      "Initial filtering of formulas: 100%|██████████████| 2/2 [00:00<00:00, 56.75it/s]\n",
      "Computing chunks: 100%|████████████████████████| 2/2 [00:00<00:00, 93206.76it/s]\n",
      "Splitting the experimental spectrum into chunks: 131072it [00:00, 3107861.37it/s]\n",
      "Deconvolving chunks: 100%|███████████████████████| 1/1 [01:58<00:00, 118.61s/it]\n"
     ]
    },
    {
     "name": "stdout",
     "output_type": "stream",
     "text": [
      "Estimation for 0.12 and 0.06999999999999999 done\n",
      "It took: 118.76490831375122 seconds.\n",
      "[0.8522909402620131, 0.10585879005200162]\n"
     ]
    },
    {
     "name": "stderr",
     "output_type": "stream",
     "text": [
      "Initial filtering of formulas: 100%|██████████████| 2/2 [00:00<00:00, 61.85it/s]\n",
      "Computing chunks: 100%|████████████████████████| 2/2 [00:00<00:00, 81442.80it/s]\n",
      "Splitting the experimental spectrum into chunks: 131072it [00:00, 3479445.15it/s]\n",
      "Deconvolving chunks: 100%|███████████████████████| 1/1 [01:59<00:00, 119.31s/it]\n"
     ]
    },
    {
     "name": "stdout",
     "output_type": "stream",
     "text": [
      "Estimation for 0.12 and 0.08 done\n",
      "It took: 119.47876954078674 seconds.\n",
      "[0.850658251694013, 0.10580486718100163]\n"
     ]
    },
    {
     "name": "stderr",
     "output_type": "stream",
     "text": [
      "Initial filtering of formulas: 100%|██████████████| 2/2 [00:00<00:00, 61.51it/s]\n",
      "Computing chunks: 100%|████████████████████████| 2/2 [00:00<00:00, 84733.41it/s]\n",
      "Splitting the experimental spectrum into chunks: 131072it [00:00, 3428196.12it/s]\n",
      "Deconvolving chunks: 100%|███████████████████████| 1/1 [02:00<00:00, 120.74s/it]\n"
     ]
    },
    {
     "name": "stdout",
     "output_type": "stream",
     "text": [
      "Estimation for 0.12 and 0.09 done\n",
      "It took: 120.88795065879822 seconds.\n",
      "[0.849542639014013, 0.10577690988700163]\n"
     ]
    },
    {
     "name": "stderr",
     "output_type": "stream",
     "text": [
      "Initial filtering of formulas: 100%|██████████████| 2/2 [00:00<00:00, 63.38it/s]\n",
      "Computing chunks: 100%|████████████████████████| 2/2 [00:00<00:00, 95325.09it/s]\n",
      "Splitting the experimental spectrum into chunks: 131072it [00:00, 3490225.02it/s]\n",
      "Deconvolving chunks: 100%|███████████████████████| 1/1 [02:04<00:00, 124.00s/it]\n"
     ]
    },
    {
     "name": "stdout",
     "output_type": "stream",
     "text": [
      "Estimation for 0.12 and 0.09999999999999999 done\n",
      "It took: 124.14399933815002 seconds.\n",
      "[0.848818283861013, 0.10587824987600163]\n"
     ]
    },
    {
     "name": "stderr",
     "output_type": "stream",
     "text": [
      "Initial filtering of formulas: 100%|██████████████| 2/2 [00:00<00:00, 64.13it/s]\n",
      "Computing chunks: 100%|████████████████████████| 2/2 [00:00<00:00, 89240.51it/s]\n",
      "Splitting the experimental spectrum into chunks: 131072it [00:00, 3539299.25it/s]\n",
      "Deconvolving chunks: 100%|███████████████████████| 1/1 [02:02<00:00, 122.71s/it]\n"
     ]
    },
    {
     "name": "stdout",
     "output_type": "stream",
     "text": [
      "Estimation for 0.12 and 0.11 done\n",
      "It took: 122.84874486923218 seconds.\n",
      "[0.848509551531013, 0.10592141686100162]\n"
     ]
    },
    {
     "name": "stderr",
     "output_type": "stream",
     "text": [
      "Initial filtering of formulas: 100%|██████████████| 2/2 [00:00<00:00, 64.17it/s]\n",
      "Computing chunks: 100%|████████████████████████| 2/2 [00:00<00:00, 88301.14it/s]\n",
      "Splitting the experimental spectrum into chunks: 131072it [00:00, 3496618.31it/s]\n",
      "Deconvolving chunks: 100%|███████████████████████| 1/1 [02:02<00:00, 122.82s/it]\n"
     ]
    },
    {
     "name": "stdout",
     "output_type": "stream",
     "text": [
      "Estimation for 0.12 and 0.12 done\n",
      "It took: 122.9594030380249 seconds.\n",
      "[0.846867966779013, 0.10616252281300162]\n"
     ]
    },
    {
     "name": "stderr",
     "output_type": "stream",
     "text": [
      "Initial filtering of formulas: 100%|██████████████| 2/2 [00:00<00:00, 65.49it/s]\n",
      "Computing chunks: 100%|████████████████████████| 2/2 [00:00<00:00, 95325.09it/s]\n",
      "Splitting the experimental spectrum into chunks: 131072it [00:00, 3533316.71it/s]\n",
      "Deconvolving chunks: 100%|███████████████████████| 1/1 [01:59<00:00, 119.74s/it]\n"
     ]
    },
    {
     "name": "stdout",
     "output_type": "stream",
     "text": [
      "Estimation for 0.12 and 0.13 done\n",
      "It took: 119.87529110908508 seconds.\n",
      "[0.845994292752013, 0.10625768210500162]\n"
     ]
    },
    {
     "name": "stderr",
     "output_type": "stream",
     "text": [
      "Initial filtering of formulas: 100%|██████████████| 2/2 [00:00<00:00, 63.38it/s]\n",
      "Computing chunks: 100%|████████████████████████| 2/2 [00:00<00:00, 97541.95it/s]\n",
      "Splitting the experimental spectrum into chunks: 131072it [00:00, 3282614.20it/s]\n",
      "Deconvolving chunks: 100%|███████████████████████| 1/1 [01:57<00:00, 117.73s/it]\n"
     ]
    },
    {
     "name": "stdout",
     "output_type": "stream",
     "text": [
      "Estimation for 0.12 and 0.14 done\n",
      "It took: 117.87578248977661 seconds.\n",
      "[0.844856016252013, 0.10624345507200163]\n"
     ]
    },
    {
     "name": "stderr",
     "output_type": "stream",
     "text": [
      "Initial filtering of formulas: 100%|██████████████| 2/2 [00:00<00:00, 56.35it/s]\n",
      "Computing chunks: 100%|████████████████████████| 2/2 [00:00<00:00, 85598.04it/s]\n",
      "Splitting the experimental spectrum into chunks: 131072it [00:00, 3674101.54it/s]\n",
      "Deconvolving chunks: 100%|███████████████████████| 1/1 [02:03<00:00, 123.75s/it]\n"
     ]
    },
    {
     "name": "stdout",
     "output_type": "stream",
     "text": [
      "Estimation for 0.12 and 0.15000000000000002 done\n",
      "It took: 123.89527344703674 seconds.\n",
      "[0.844246441755013, 0.10625216573600163]\n"
     ]
    },
    {
     "name": "stderr",
     "output_type": "stream",
     "text": [
      "Initial filtering of formulas: 100%|██████████████| 2/2 [00:00<00:00, 63.88it/s]\n",
      "Computing chunks: 100%|████████████████████████| 2/2 [00:00<00:00, 76260.07it/s]\n",
      "Splitting the experimental spectrum into chunks: 131072it [00:00, 3560502.41it/s]\n",
      "Deconvolving chunks: 100%|███████████████████████| 1/1 [02:07<00:00, 127.66s/it]\n"
     ]
    },
    {
     "name": "stdout",
     "output_type": "stream",
     "text": [
      "Estimation for 0.12 and 0.16 done\n",
      "It took: 127.79403638839722 seconds.\n",
      "[0.8442003400170128, 0.10618002058500163]\n"
     ]
    },
    {
     "name": "stderr",
     "output_type": "stream",
     "text": [
      "Initial filtering of formulas: 100%|██████████████| 2/2 [00:00<00:00, 64.18it/s]\n",
      "Computing chunks: 100%|███████████████████████| 2/2 [00:00<00:00, 103563.06it/s]\n",
      "Splitting the experimental spectrum into chunks: 131072it [00:00, 3553574.96it/s]\n",
      "Deconvolving chunks: 100%|███████████████████████| 1/1 [01:56<00:00, 116.88s/it]\n"
     ]
    },
    {
     "name": "stdout",
     "output_type": "stream",
     "text": [
      "Estimation for 0.12 and 0.17 done\n",
      "It took: 117.01862454414368 seconds.\n",
      "[0.844223490154013, 0.10604667016000162]\n"
     ]
    },
    {
     "name": "stderr",
     "output_type": "stream",
     "text": [
      "Initial filtering of formulas: 100%|██████████████| 2/2 [00:00<00:00, 64.05it/s]\n",
      "Computing chunks: 100%|████████████████████████| 2/2 [00:00<00:00, 69905.07it/s]\n",
      "Splitting the experimental spectrum into chunks: 131072it [00:00, 3469651.14it/s]\n",
      "Deconvolving chunks: 100%|███████████████████████| 1/1 [02:04<00:00, 124.46s/it]\n"
     ]
    },
    {
     "name": "stdout",
     "output_type": "stream",
     "text": [
      "Estimation for 0.12 and 0.18000000000000002 done\n",
      "It took: 124.59706377983093 seconds.\n",
      "[0.844252625486013, 0.10597671701600163]\n"
     ]
    },
    {
     "name": "stderr",
     "output_type": "stream",
     "text": [
      "Initial filtering of formulas: 100%|██████████████| 2/2 [00:00<00:00, 56.70it/s]\n",
      "Computing chunks: 100%|████████████████████████| 2/2 [00:00<00:00, 41734.37it/s]\n",
      "Splitting the experimental spectrum into chunks: 131072it [00:00, 3158046.05it/s]\n",
      "Deconvolving chunks: 100%|███████████████████████| 1/1 [02:05<00:00, 125.47s/it]\n"
     ]
    },
    {
     "name": "stdout",
     "output_type": "stream",
     "text": [
      "Estimation for 0.12 and 0.19 done\n",
      "It took: 125.63804364204407 seconds.\n",
      "[0.844412199364013, 0.10581760177200163]\n"
     ]
    },
    {
     "name": "stderr",
     "output_type": "stream",
     "text": [
      "Initial filtering of formulas: 100%|██████████████| 2/2 [00:00<00:00, 63.90it/s]\n",
      "Computing chunks: 100%|████████████████████████| 2/2 [00:00<00:00, 71089.90it/s]\n",
      "Splitting the experimental spectrum into chunks: 131072it [00:00, 3557184.91it/s]\n",
      "Deconvolving chunks: 100%|███████████████████████| 1/1 [02:01<00:00, 121.97s/it]\n"
     ]
    },
    {
     "name": "stdout",
     "output_type": "stream",
     "text": [
      "Estimation for 0.12 and 0.2 done\n",
      "It took: 122.10937404632568 seconds.\n",
      "[0.844461110472013, 0.10570268408000162]\n"
     ]
    },
    {
     "name": "stderr",
     "output_type": "stream",
     "text": [
      "Initial filtering of formulas: 100%|██████████████| 2/2 [00:00<00:00, 66.01it/s]\n",
      "Computing chunks: 100%|████████████████████████| 2/2 [00:00<00:00, 79137.81it/s]\n",
      "Splitting the experimental spectrum into chunks: 131072it [00:00, 3576182.54it/s]\n",
      "Deconvolving chunks: 100%|███████████████████████| 1/1 [02:02<00:00, 122.28s/it]\n"
     ]
    },
    {
     "name": "stdout",
     "output_type": "stream",
     "text": [
      "Estimation for 0.12 and 0.21000000000000002 done\n",
      "It took: 122.41594338417053 seconds.\n",
      "[0.8444930293740129, 0.10562021659200162]\n"
     ]
    },
    {
     "name": "stderr",
     "output_type": "stream",
     "text": [
      "Initial filtering of formulas: 100%|██████████████| 2/2 [00:00<00:00, 64.78it/s]\n",
      "Computing chunks: 100%|███████████████████████| 2/2 [00:00<00:00, 104857.60it/s]\n",
      "Splitting the experimental spectrum into chunks: 131072it [00:00, 3322048.34it/s]\n",
      "Deconvolving chunks: 100%|███████████████████████| 1/1 [02:06<00:00, 126.08s/it]\n"
     ]
    },
    {
     "name": "stdout",
     "output_type": "stream",
     "text": [
      "Estimation for 0.12 and 0.22 done\n",
      "It took: 126.24747729301453 seconds.\n",
      "[0.844681228706013, 0.10537589557000161]\n"
     ]
    },
    {
     "name": "stderr",
     "output_type": "stream",
     "text": [
      "Initial filtering of formulas: 100%|██████████████| 2/2 [00:00<00:00, 64.56it/s]\n",
      "Computing chunks: 100%|████████████████████████| 2/2 [00:00<00:00, 98689.51it/s]\n",
      "Splitting the experimental spectrum into chunks: 131072it [00:00, 3531206.05it/s]\n",
      "Deconvolving chunks: 100%|███████████████████████| 1/1 [02:08<00:00, 128.76s/it]\n"
     ]
    },
    {
     "name": "stdout",
     "output_type": "stream",
     "text": [
      "Estimation for 0.12 and 0.23 done\n",
      "It took: 128.89958691596985 seconds.\n",
      "[0.8433290781570129, 0.1052925682990016]\n"
     ]
    },
    {
     "name": "stderr",
     "output_type": "stream",
     "text": [
      "Initial filtering of formulas: 100%|██████████████| 2/2 [00:00<00:00, 58.26it/s]\n",
      "Computing chunks: 100%|████████████████████████| 2/2 [00:00<00:00, 87381.33it/s]\n",
      "Splitting the experimental spectrum into chunks: 131072it [00:00, 3113722.97it/s]\n",
      "Deconvolving chunks: 100%|███████████████████████| 1/1 [02:31<00:00, 151.20s/it]\n"
     ]
    },
    {
     "name": "stdout",
     "output_type": "stream",
     "text": [
      "Estimation for 0.12 and 0.24000000000000002 done\n",
      "It took: 151.36751127243042 seconds.\n",
      "[0.8417826579800128, 0.1052517725350016]\n"
     ]
    },
    {
     "name": "stderr",
     "output_type": "stream",
     "text": [
      "Initial filtering of formulas: 100%|██████████████| 2/2 [00:00<00:00, 63.96it/s]\n",
      "Computing chunks: 100%|████████████████████████| 2/2 [00:00<00:00, 98689.51it/s]\n",
      "Splitting the experimental spectrum into chunks: 131072it [00:00, 3502298.62it/s]\n",
      "Deconvolving chunks: 100%|███████████████████████| 1/1 [02:01<00:00, 121.37s/it]\n"
     ]
    },
    {
     "name": "stdout",
     "output_type": "stream",
     "text": [
      "Estimation for 0.12 and 0.25 done\n",
      "It took: 121.50837326049805 seconds.\n",
      "[0.8421864716210129, 0.10518876697000161]\n"
     ]
    },
    {
     "name": "stderr",
     "output_type": "stream",
     "text": [
      "Initial filtering of formulas: 100%|██████████████| 2/2 [00:00<00:00, 63.79it/s]\n",
      "Computing chunks: 100%|████████████████████████| 2/2 [00:00<00:00, 91180.52it/s]\n",
      "Splitting the experimental spectrum into chunks: 131072it [00:00, 3307697.20it/s]\n",
      "Deconvolving chunks: 100%|███████████████████████| 1/1 [02:04<00:00, 124.68s/it]\n"
     ]
    },
    {
     "name": "stdout",
     "output_type": "stream",
     "text": [
      "Estimation for 0.12 and 0.26 done\n",
      "It took: 124.82424712181091 seconds.\n",
      "[0.8429234930880128, 0.1047792925150016]\n"
     ]
    },
    {
     "name": "stderr",
     "output_type": "stream",
     "text": [
      "Initial filtering of formulas: 100%|██████████████| 2/2 [00:00<00:00, 62.70it/s]\n",
      "Computing chunks: 100%|████████████████████████| 2/2 [00:00<00:00, 96420.78it/s]\n",
      "Splitting the experimental spectrum into chunks: 131072it [00:00, 3491510.68it/s]\n",
      "Deconvolving chunks: 100%|███████████████████████| 1/1 [02:05<00:00, 125.58s/it]\n"
     ]
    },
    {
     "name": "stdout",
     "output_type": "stream",
     "text": [
      "Estimation for 0.12 and 0.27 done\n",
      "It took: 125.71793532371521 seconds.\n",
      "[0.8434350708650129, 0.10464179432600161]\n"
     ]
    },
    {
     "name": "stderr",
     "output_type": "stream",
     "text": [
      "Initial filtering of formulas: 100%|██████████████| 2/2 [00:00<00:00, 63.96it/s]\n",
      "Computing chunks: 100%|████████████████████████| 2/2 [00:00<00:00, 99864.38it/s]\n",
      "Splitting the experimental spectrum into chunks: 131072it [00:00, 3514366.17it/s]\n",
      "Deconvolving chunks: 100%|███████████████████████| 1/1 [02:30<00:00, 150.71s/it]\n"
     ]
    },
    {
     "name": "stdout",
     "output_type": "stream",
     "text": [
      "Estimation for 0.12 and 0.28 done\n",
      "It took: 150.86570358276367 seconds.\n",
      "[0.8440670149140129, 0.1042234278050016]\n"
     ]
    },
    {
     "name": "stderr",
     "output_type": "stream",
     "text": [
      "Initial filtering of formulas: 100%|██████████████| 2/2 [00:00<00:00, 64.77it/s]\n",
      "Computing chunks: 100%|████████████████████████| 2/2 [00:00<00:00, 89240.51it/s]\n",
      "Splitting the experimental spectrum into chunks: 131072it [00:00, 3506431.19it/s]\n",
      "Deconvolving chunks: 100%|███████████████████████| 1/1 [02:06<00:00, 126.92s/it]\n"
     ]
    },
    {
     "name": "stdout",
     "output_type": "stream",
     "text": [
      "Estimation for 0.12 and 0.29000000000000004 done\n",
      "It took: 127.08002042770386 seconds.\n",
      "[0.844743821091013, 0.10357458483600158]\n"
     ]
    },
    {
     "name": "stderr",
     "output_type": "stream",
     "text": [
      "Initial filtering of formulas: 100%|██████████████| 2/2 [00:00<00:00, 58.77it/s]\n",
      "Computing chunks: 100%|████████████████████████| 2/2 [00:00<00:00, 82241.25it/s]\n",
      "Splitting the experimental spectrum into chunks: 131072it [00:00, 3615553.88it/s]\n",
      "Deconvolving chunks: 100%|███████████████████████| 1/1 [01:46<00:00, 106.79s/it]\n"
     ]
    },
    {
     "name": "stdout",
     "output_type": "stream",
     "text": [
      "Estimation for 0.13 and 0.01 done\n",
      "It took: 106.93548154830933 seconds.\n",
      "[0.7348043878610112, 0.259536762234004]\n"
     ]
    },
    {
     "name": "stderr",
     "output_type": "stream",
     "text": [
      "Initial filtering of formulas: 100%|██████████████| 2/2 [00:00<00:00, 63.09it/s]\n",
      "Computing chunks: 100%|████████████████████████| 2/2 [00:00<00:00, 90200.09it/s]\n",
      "Splitting the experimental spectrum into chunks: 131072it [00:00, 3473026.69it/s]\n",
      "Deconvolving chunks: 100%|███████████████████████| 1/1 [02:24<00:00, 144.57s/it]\n"
     ]
    },
    {
     "name": "stdout",
     "output_type": "stream",
     "text": [
      "Estimation for 0.13 and 0.02 done\n",
      "It took: 144.7103624343872 seconds.\n",
      "[0.8728694404750134, 0.09644521539000148]\n"
     ]
    },
    {
     "name": "stderr",
     "output_type": "stream",
     "text": [
      "Initial filtering of formulas: 100%|██████████████| 2/2 [00:00<00:00, 65.03it/s]\n",
      "Computing chunks: 100%|████████████████████████| 2/2 [00:00<00:00, 82241.25it/s]\n",
      "Splitting the experimental spectrum into chunks: 131072it [00:00, 3545988.12it/s]\n",
      "Deconvolving chunks: 100%|███████████████████████| 1/1 [02:24<00:00, 144.05s/it]\n"
     ]
    },
    {
     "name": "stdout",
     "output_type": "stream",
     "text": [
      "Estimation for 0.13 and 0.03 done\n",
      "It took: 144.18989181518555 seconds.\n",
      "[0.8588279767390132, 0.10470269405400161]\n"
     ]
    },
    {
     "name": "stderr",
     "output_type": "stream",
     "text": [
      "Initial filtering of formulas: 100%|██████████████| 2/2 [00:00<00:00, 64.67it/s]\n",
      "Computing chunks: 100%|████████████████████████| 2/2 [00:00<00:00, 95325.09it/s]\n",
      "Splitting the experimental spectrum into chunks: 131072it [00:00, 3553643.87it/s]\n",
      "Deconvolving chunks: 100%|███████████████████████| 1/1 [02:27<00:00, 147.31s/it]\n"
     ]
    },
    {
     "name": "stdout",
     "output_type": "stream",
     "text": [
      "Estimation for 0.13 and 0.04 done\n",
      "It took: 147.46585726737976 seconds.\n",
      "[0.8560580280680131, 0.10653405354200164]\n"
     ]
    },
    {
     "name": "stderr",
     "output_type": "stream",
     "text": [
      "Initial filtering of formulas: 100%|██████████████| 2/2 [00:00<00:00, 51.09it/s]\n",
      "Computing chunks: 100%|████████████████████████| 2/2 [00:00<00:00, 86480.49it/s]\n",
      "Splitting the experimental spectrum into chunks: 131072it [00:00, 3295028.97it/s]\n",
      "Deconvolving chunks: 100%|███████████████████████| 1/1 [01:57<00:00, 117.78s/it]\n"
     ]
    },
    {
     "name": "stdout",
     "output_type": "stream",
     "text": [
      "Estimation for 0.13 and 0.05 done\n",
      "It took: 117.9299213886261 seconds.\n",
      "[0.855472126785013, 0.10677133059000164]\n"
     ]
    },
    {
     "name": "stderr",
     "output_type": "stream",
     "text": [
      "Initial filtering of formulas: 100%|██████████████| 2/2 [00:00<00:00, 62.36it/s]\n",
      "Computing chunks: 100%|████████████████████████| 2/2 [00:00<00:00, 42581.77it/s]\n",
      "Splitting the experimental spectrum into chunks: 131072it [00:00, 3402396.44it/s]\n",
      "Deconvolving chunks: 100%|███████████████████████| 1/1 [02:00<00:00, 120.36s/it]\n"
     ]
    },
    {
     "name": "stdout",
     "output_type": "stream",
     "text": [
      "Estimation for 0.13 and 0.060000000000000005 done\n",
      "It took: 120.52476096153259 seconds.\n",
      "[0.8547887156280131, 0.10662682844600163]\n"
     ]
    },
    {
     "name": "stderr",
     "output_type": "stream",
     "text": [
      "Initial filtering of formulas: 100%|██████████████| 2/2 [00:00<00:00, 62.01it/s]\n",
      "Computing chunks: 100%|████████████████████████| 2/2 [00:00<00:00, 88301.14it/s]\n",
      "Splitting the experimental spectrum into chunks: 131072it [00:00, 3507616.91it/s]\n",
      "Deconvolving chunks: 100%|███████████████████████| 1/1 [02:01<00:00, 121.18s/it]\n"
     ]
    },
    {
     "name": "stdout",
     "output_type": "stream",
     "text": [
      "Estimation for 0.13 and 0.06999999999999999 done\n",
      "It took: 121.32126379013062 seconds.\n",
      "[0.8540785902290131, 0.10604112097300163]\n"
     ]
    },
    {
     "name": "stderr",
     "output_type": "stream",
     "text": [
      "Initial filtering of formulas: 100%|██████████████| 2/2 [00:00<00:00, 64.48it/s]\n",
      "Computing chunks: 100%|███████████████████████| 2/2 [00:00<00:00, 101067.57it/s]\n",
      "Splitting the experimental spectrum into chunks: 131072it [00:00, 3528894.03it/s]\n",
      "Deconvolving chunks: 100%|███████████████████████| 1/1 [02:00<00:00, 120.55s/it]\n"
     ]
    },
    {
     "name": "stdout",
     "output_type": "stream",
     "text": [
      "Estimation for 0.13 and 0.08 done\n",
      "It took: 120.7114531993866 seconds.\n",
      "[0.8525415890490131, 0.10582915133300162]\n"
     ]
    },
    {
     "name": "stderr",
     "output_type": "stream",
     "text": [
      "Initial filtering of formulas: 100%|██████████████| 2/2 [00:00<00:00, 61.40it/s]\n",
      "Computing chunks: 100%|████████████████████████| 2/2 [00:00<00:00, 49056.19it/s]\n",
      "Splitting the experimental spectrum into chunks: 131072it [00:00, 3378891.69it/s]\n",
      "Deconvolving chunks: 100%|███████████████████████| 1/1 [02:00<00:00, 120.10s/it]\n"
     ]
    },
    {
     "name": "stdout",
     "output_type": "stream",
     "text": [
      "Estimation for 0.13 and 0.09 done\n",
      "It took: 120.26198506355286 seconds.\n",
      "[0.851071099410013, 0.10597960204700162]\n"
     ]
    },
    {
     "name": "stderr",
     "output_type": "stream",
     "text": [
      "Initial filtering of formulas: 100%|██████████████| 2/2 [00:00<00:00, 63.00it/s]\n",
      "Computing chunks: 100%|████████████████████████| 2/2 [00:00<00:00, 96420.78it/s]\n",
      "Splitting the experimental spectrum into chunks: 131072it [00:00, 3493551.94it/s]\n",
      "Deconvolving chunks: 100%|███████████████████████| 1/1 [02:00<00:00, 120.70s/it]\n"
     ]
    },
    {
     "name": "stdout",
     "output_type": "stream",
     "text": [
      "Estimation for 0.13 and 0.09999999999999999 done\n",
      "It took: 120.86183571815491 seconds.\n",
      "[0.850331475918013, 0.10589636324500162]\n"
     ]
    },
    {
     "name": "stderr",
     "output_type": "stream",
     "text": [
      "Initial filtering of formulas: 100%|██████████████| 2/2 [00:00<00:00, 61.63it/s]\n",
      "Computing chunks: 100%|████████████████████████| 2/2 [00:00<00:00, 84733.41it/s]\n",
      "Splitting the experimental spectrum into chunks: 131072it [00:00, 3493707.35it/s]\n",
      "Deconvolving chunks: 100%|███████████████████████| 1/1 [02:01<00:00, 121.95s/it]\n"
     ]
    },
    {
     "name": "stdout",
     "output_type": "stream",
     "text": [
      "Estimation for 0.13 and 0.11 done\n",
      "It took: 122.09044241905212 seconds.\n",
      "[0.8499241883950129, 0.10596097712800162]\n"
     ]
    },
    {
     "name": "stderr",
     "output_type": "stream",
     "text": [
      "Initial filtering of formulas: 100%|██████████████| 2/2 [00:00<00:00, 63.89it/s]\n",
      "Computing chunks: 100%|████████████████████████| 2/2 [00:00<00:00, 71089.90it/s]\n",
      "Splitting the experimental spectrum into chunks: 131072it [00:00, 3523352.99it/s]\n",
      "Deconvolving chunks: 100%|███████████████████████| 1/1 [02:00<00:00, 120.37s/it]\n"
     ]
    },
    {
     "name": "stdout",
     "output_type": "stream",
     "text": [
      "Estimation for 0.13 and 0.12 done\n",
      "It took: 120.50598192214966 seconds.\n",
      "[0.849724266623013, 0.10596966273700162]\n"
     ]
    },
    {
     "name": "stderr",
     "output_type": "stream",
     "text": [
      "Initial filtering of formulas: 100%|██████████████| 2/2 [00:00<00:00, 63.81it/s]\n",
      "Computing chunks: 100%|████████████████████████| 2/2 [00:00<00:00, 95325.09it/s]\n",
      "Splitting the experimental spectrum into chunks: 131072it [00:00, 3499534.13it/s]\n",
      "Deconvolving chunks: 100%|███████████████████████| 1/1 [02:01<00:00, 121.05s/it]\n"
     ]
    },
    {
     "name": "stdout",
     "output_type": "stream",
     "text": [
      "Estimation for 0.13 and 0.13 done\n",
      "It took: 121.19066667556763 seconds.\n",
      "[0.847602301574013, 0.10627031243100163]\n"
     ]
    },
    {
     "name": "stderr",
     "output_type": "stream",
     "text": [
      "Initial filtering of formulas: 100%|██████████████| 2/2 [00:00<00:00, 62.29it/s]\n",
      "Computing chunks: 100%|████████████████████████| 2/2 [00:00<00:00, 93206.76it/s]\n",
      "Splitting the experimental spectrum into chunks: 131072it [00:00, 3327074.53it/s]\n",
      "Deconvolving chunks: 100%|███████████████████████| 1/1 [02:21<00:00, 141.94s/it]\n"
     ]
    },
    {
     "name": "stdout",
     "output_type": "stream",
     "text": [
      "Estimation for 0.13 and 0.14 done\n",
      "It took: 142.09079241752625 seconds.\n",
      "[0.846657191284013, 0.10632751597600162]\n"
     ]
    },
    {
     "name": "stderr",
     "output_type": "stream",
     "text": [
      "Initial filtering of formulas: 100%|██████████████| 2/2 [00:00<00:00, 62.15it/s]\n",
      "Computing chunks: 100%|████████████████████████| 2/2 [00:00<00:00, 96420.78it/s]\n",
      "Splitting the experimental spectrum into chunks: 131072it [00:00, 3439649.96it/s]\n",
      "Deconvolving chunks: 100%|███████████████████████| 1/1 [02:21<00:00, 141.40s/it]\n"
     ]
    },
    {
     "name": "stdout",
     "output_type": "stream",
     "text": [
      "Estimation for 0.13 and 0.15000000000000002 done\n",
      "It took: 141.54704976081848 seconds.\n",
      "[0.845482062042013, 0.10642281253900163]\n"
     ]
    },
    {
     "name": "stderr",
     "output_type": "stream",
     "text": [
      "Initial filtering of formulas: 100%|██████████████| 2/2 [00:00<00:00, 64.74it/s]\n",
      "Computing chunks: 100%|████████████████████████| 2/2 [00:00<00:00, 98689.51it/s]\n",
      "Splitting the experimental spectrum into chunks: 131072it [00:00, 3492841.67it/s]\n",
      "Deconvolving chunks: 100%|███████████████████████| 1/1 [02:05<00:00, 125.06s/it]\n"
     ]
    },
    {
     "name": "stdout",
     "output_type": "stream",
     "text": [
      "Estimation for 0.13 and 0.16 done\n",
      "It took: 125.201162815094 seconds.\n",
      "[0.845414867686013, 0.10637625487000163]\n"
     ]
    },
    {
     "name": "stderr",
     "output_type": "stream",
     "text": [
      "Initial filtering of formulas: 100%|██████████████| 2/2 [00:00<00:00, 57.13it/s]\n",
      "Computing chunks: 100%|████████████████████████| 2/2 [00:00<00:00, 89240.51it/s]\n",
      "Splitting the experimental spectrum into chunks: 131072it [00:00, 3146784.35it/s]\n",
      "Deconvolving chunks: 100%|███████████████████████| 1/1 [02:04<00:00, 124.76s/it]\n"
     ]
    },
    {
     "name": "stdout",
     "output_type": "stream",
     "text": [
      "Estimation for 0.13 and 0.17 done\n",
      "It took: 124.93205690383911 seconds.\n",
      "[0.8455389068170129, 0.10618467119000162]\n"
     ]
    },
    {
     "name": "stderr",
     "output_type": "stream",
     "text": [
      "Initial filtering of formulas: 100%|██████████████| 2/2 [00:00<00:00, 62.41it/s]\n",
      "Computing chunks: 100%|████████████████████████| 2/2 [00:00<00:00, 90200.09it/s]\n",
      "Splitting the experimental spectrum into chunks: 131072it [00:00, 3507975.02it/s]\n",
      "Deconvolving chunks: 100%|███████████████████████| 1/1 [02:00<00:00, 120.06s/it]\n"
     ]
    },
    {
     "name": "stdout",
     "output_type": "stream",
     "text": [
      "Estimation for 0.13 and 0.18000000000000002 done\n",
      "It took: 120.22287344932556 seconds.\n",
      "[0.845627065070013, 0.10601493780000162]\n"
     ]
    },
    {
     "name": "stderr",
     "output_type": "stream",
     "text": [
      "Initial filtering of formulas: 100%|██████████████| 2/2 [00:00<00:00, 59.32it/s]\n",
      "Computing chunks: 100%|████████████████████████| 2/2 [00:00<00:00, 13934.56it/s]\n",
      "Splitting the experimental spectrum into chunks: 131072it [00:00, 3168730.99it/s]\n",
      "Deconvolving chunks: 100%|███████████████████████| 1/1 [02:03<00:00, 123.23s/it]\n"
     ]
    },
    {
     "name": "stdout",
     "output_type": "stream",
     "text": [
      "Estimation for 0.13 and 0.19 done\n",
      "It took: 123.37862157821655 seconds.\n",
      "[0.845648557592013, 0.10597133120300162]\n"
     ]
    },
    {
     "name": "stderr",
     "output_type": "stream",
     "text": [
      "Initial filtering of formulas: 100%|██████████████| 2/2 [00:00<00:00, 57.45it/s]\n",
      "Computing chunks: 100%|████████████████████████| 2/2 [00:00<00:00, 86480.49it/s]\n",
      "Splitting the experimental spectrum into chunks: 131072it [00:00, 3043310.68it/s]\n",
      "Deconvolving chunks: 100%|███████████████████████| 1/1 [02:02<00:00, 122.16s/it]\n"
     ]
    },
    {
     "name": "stdout",
     "output_type": "stream",
     "text": [
      "Estimation for 0.13 and 0.2 done\n",
      "It took: 122.3379077911377 seconds.\n",
      "[0.845632280440013, 0.10595921028700163]\n"
     ]
    },
    {
     "name": "stderr",
     "output_type": "stream",
     "text": [
      "Initial filtering of formulas: 100%|██████████████| 2/2 [00:00<00:00, 59.14it/s]\n",
      "Computing chunks: 100%|████████████████████████| 2/2 [00:00<00:00, 72944.42it/s]\n",
      "Splitting the experimental spectrum into chunks: 131072it [00:00, 3293923.39it/s]\n",
      "Deconvolving chunks: 100%|███████████████████████| 1/1 [02:03<00:00, 123.97s/it]\n"
     ]
    },
    {
     "name": "stdout",
     "output_type": "stream",
     "text": [
      "Estimation for 0.13 and 0.21000000000000002 done\n",
      "It took: 124.11154437065125 seconds.\n",
      "[0.845664025479013, 0.10591561684500163]\n"
     ]
    },
    {
     "name": "stderr",
     "output_type": "stream",
     "text": [
      "Initial filtering of formulas: 100%|██████████████| 2/2 [00:00<00:00, 62.69it/s]\n",
      "Computing chunks: 100%|████████████████████████| 2/2 [00:00<00:00, 99864.38it/s]\n",
      "Splitting the experimental spectrum into chunks: 131072it [00:00, 3370832.50it/s]\n",
      "Deconvolving chunks: 100%|███████████████████████| 1/1 [02:04<00:00, 124.85s/it]\n"
     ]
    },
    {
     "name": "stdout",
     "output_type": "stream",
     "text": [
      "Estimation for 0.13 and 0.22 done\n",
      "It took: 124.98982167243958 seconds.\n",
      "[0.845962176282013, 0.10583895318600163]\n"
     ]
    },
    {
     "name": "stderr",
     "output_type": "stream",
     "text": [
      "Initial filtering of formulas: 100%|██████████████| 2/2 [00:00<00:00, 64.38it/s]\n",
      "Computing chunks: 100%|████████████████████████| 2/2 [00:00<00:00, 79891.50it/s]\n",
      "Splitting the experimental spectrum into chunks: 131072it [00:00, 3504955.75it/s]\n",
      "Deconvolving chunks: 100%|███████████████████████| 1/1 [02:03<00:00, 123.95s/it]\n"
     ]
    },
    {
     "name": "stdout",
     "output_type": "stream",
     "text": [
      "Estimation for 0.13 and 0.23 done\n",
      "It took: 124.09085273742676 seconds.\n",
      "[0.846152194654013, 0.10574512188400162]\n"
     ]
    },
    {
     "name": "stderr",
     "output_type": "stream",
     "text": [
      "Initial filtering of formulas: 100%|██████████████| 2/2 [00:00<00:00, 64.25it/s]\n",
      "Computing chunks: 100%|████████████████████████| 2/2 [00:00<00:00, 98689.51it/s]\n",
      "Splitting the experimental spectrum into chunks: 131072it [00:00, 3555781.45it/s]\n",
      "Deconvolving chunks: 100%|███████████████████████| 1/1 [02:06<00:00, 126.84s/it]\n"
     ]
    },
    {
     "name": "stdout",
     "output_type": "stream",
     "text": [
      "Estimation for 0.13 and 0.24000000000000002 done\n",
      "It took: 126.97748351097107 seconds.\n",
      "[0.8432355213820129, 0.10575909538500163]\n"
     ]
    },
    {
     "name": "stderr",
     "output_type": "stream",
     "text": [
      "Initial filtering of formulas: 100%|██████████████| 2/2 [00:00<00:00, 62.59it/s]\n",
      "Computing chunks: 100%|████████████████████████| 2/2 [00:00<00:00, 96420.78it/s]\n",
      "Splitting the experimental spectrum into chunks: 131072it [00:00, 3517986.91it/s]\n",
      "Deconvolving chunks: 100%|███████████████████████| 1/1 [02:09<00:00, 129.63s/it]\n"
     ]
    },
    {
     "name": "stdout",
     "output_type": "stream",
     "text": [
      "Estimation for 0.13 and 0.25 done\n",
      "It took: 129.79246425628662 seconds.\n",
      "[0.8437215032780129, 0.10564481479400162]\n"
     ]
    },
    {
     "name": "stderr",
     "output_type": "stream",
     "text": [
      "Initial filtering of formulas: 100%|██████████████| 2/2 [00:00<00:00, 62.82it/s]\n",
      "Computing chunks: 100%|████████████████████████| 2/2 [00:00<00:00, 50840.05it/s]\n",
      "Splitting the experimental spectrum into chunks: 131072it [00:00, 3574764.05it/s]\n",
      "Deconvolving chunks: 100%|███████████████████████| 1/1 [02:10<00:00, 130.73s/it]\n"
     ]
    },
    {
     "name": "stdout",
     "output_type": "stream",
     "text": [
      "Estimation for 0.13 and 0.26 done\n",
      "It took: 130.8661777973175 seconds.\n",
      "[0.844242591817013, 0.1055063324040016]\n"
     ]
    },
    {
     "name": "stderr",
     "output_type": "stream",
     "text": [
      "Initial filtering of formulas: 100%|██████████████| 2/2 [00:00<00:00, 63.63it/s]\n",
      "Computing chunks: 100%|███████████████████████| 2/2 [00:00<00:00, 101067.57it/s]\n",
      "Splitting the experimental spectrum into chunks: 131072it [00:00, 3536225.84it/s]\n",
      "Deconvolving chunks: 100%|███████████████████████| 1/1 [02:11<00:00, 131.02s/it]\n"
     ]
    },
    {
     "name": "stdout",
     "output_type": "stream",
     "text": [
      "Estimation for 0.13 and 0.27 done\n",
      "It took: 131.15665793418884 seconds.\n",
      "[0.844713114444013, 0.1053262121370016]\n"
     ]
    },
    {
     "name": "stderr",
     "output_type": "stream",
     "text": [
      "Initial filtering of formulas: 100%|██████████████| 2/2 [00:00<00:00, 64.84it/s]\n",
      "Computing chunks: 100%|███████████████████████| 2/2 [00:00<00:00, 101067.57it/s]\n",
      "Splitting the experimental spectrum into chunks: 131072it [00:00, 3533316.71it/s]\n",
      "Deconvolving chunks: 100%|███████████████████████| 1/1 [02:13<00:00, 133.25s/it]\n"
     ]
    },
    {
     "name": "stdout",
     "output_type": "stream",
     "text": [
      "Estimation for 0.13 and 0.28 done\n",
      "It took: 133.41619229316711 seconds.\n",
      "[0.845014291679013, 0.10525537307700161]\n"
     ]
    },
    {
     "name": "stderr",
     "output_type": "stream",
     "text": [
      "Initial filtering of formulas: 100%|██████████████| 2/2 [00:00<00:00, 63.02it/s]\n",
      "Computing chunks: 100%|████████████████████████| 2/2 [00:00<00:00, 88301.14it/s]\n",
      "Splitting the experimental spectrum into chunks: 131072it [00:00, 3504687.62it/s]\n",
      "Deconvolving chunks: 100%|███████████████████████| 1/1 [02:17<00:00, 137.25s/it]\n"
     ]
    },
    {
     "name": "stdout",
     "output_type": "stream",
     "text": [
      "Estimation for 0.13 and 0.29000000000000004 done\n",
      "It took: 137.3860547542572 seconds.\n",
      "[0.845324203021013, 0.10485382594400161]\n"
     ]
    },
    {
     "name": "stderr",
     "output_type": "stream",
     "text": [
      "Initial filtering of formulas: 100%|██████████████| 2/2 [00:00<00:00, 63.61it/s]\n",
      "Computing chunks: 100%|████████████████████████| 2/2 [00:00<00:00, 95325.09it/s]\n",
      "Splitting the experimental spectrum into chunks: 131072it [00:00, 3529823.01it/s]\n",
      "Deconvolving chunks: 100%|███████████████████████| 1/1 [03:04<00:00, 184.49s/it]\n"
     ]
    },
    {
     "name": "stdout",
     "output_type": "stream",
     "text": [
      "Estimation for 0.14 and 0.01 done\n",
      "It took: 184.625506401062 seconds.\n",
      "[0.7358833663400113, 0.259764731037004]\n"
     ]
    },
    {
     "name": "stderr",
     "output_type": "stream",
     "text": [
      "Initial filtering of formulas: 100%|██████████████| 2/2 [00:00<00:00, 63.50it/s]\n",
      "Computing chunks: 100%|████████████████████████| 2/2 [00:00<00:00, 95325.09it/s]\n",
      "Splitting the experimental spectrum into chunks: 131072it [00:00, 3478322.41it/s]\n",
      "Deconvolving chunks: 100%|███████████████████████| 1/1 [02:39<00:00, 159.92s/it]\n"
     ]
    },
    {
     "name": "stdout",
     "output_type": "stream",
     "text": [
      "Estimation for 0.14 and 0.02 done\n",
      "It took: 160.06533002853394 seconds.\n",
      "[0.8744933338690134, 0.09667110521700148]\n"
     ]
    },
    {
     "name": "stderr",
     "output_type": "stream",
     "text": [
      "Initial filtering of formulas: 100%|██████████████| 2/2 [00:00<00:00, 63.25it/s]\n",
      "Computing chunks: 100%|████████████████████████| 2/2 [00:00<00:00, 90200.09it/s]\n",
      "Splitting the experimental spectrum into chunks: 131072it [00:00, 3466282.14it/s]\n",
      "Deconvolving chunks: 100%|███████████████████████| 1/1 [02:35<00:00, 155.26s/it]\n"
     ]
    },
    {
     "name": "stdout",
     "output_type": "stream",
     "text": [
      "Estimation for 0.14 and 0.03 done\n",
      "It took: 155.39550065994263 seconds.\n",
      "[0.8615245113160133, 0.1042056522790016]\n"
     ]
    },
    {
     "name": "stderr",
     "output_type": "stream",
     "text": [
      "Initial filtering of formulas: 100%|██████████████| 2/2 [00:00<00:00, 63.10it/s]\n",
      "Computing chunks: 100%|████████████████████████| 2/2 [00:00<00:00, 92182.51it/s]\n",
      "Splitting the experimental spectrum into chunks: 131072it [00:00, 3487523.80it/s]\n",
      "Deconvolving chunks: 100%|███████████████████████| 1/1 [02:21<00:00, 141.09s/it]\n"
     ]
    },
    {
     "name": "stdout",
     "output_type": "stream",
     "text": [
      "Estimation for 0.14 and 0.04 done\n",
      "It took: 141.23455452919006 seconds.\n",
      "[0.8576319041740131, 0.10668319385700163]\n"
     ]
    },
    {
     "name": "stderr",
     "output_type": "stream",
     "text": [
      "Initial filtering of formulas: 100%|██████████████| 2/2 [00:00<00:00, 63.87it/s]\n",
      "Computing chunks: 100%|████████████████████████| 2/2 [00:00<00:00, 98689.51it/s]\n",
      "Splitting the experimental spectrum into chunks: 131072it [00:00, 3520059.25it/s]\n",
      "Deconvolving chunks: 100%|███████████████████████| 1/1 [01:57<00:00, 117.61s/it]\n"
     ]
    },
    {
     "name": "stdout",
     "output_type": "stream",
     "text": [
      "Estimation for 0.14 and 0.05 done\n",
      "It took: 117.74446415901184 seconds.\n",
      "[0.8567649431880131, 0.10721444003200163]\n"
     ]
    },
    {
     "name": "stderr",
     "output_type": "stream",
     "text": [
      "Initial filtering of formulas: 100%|██████████████| 2/2 [00:00<00:00, 64.62it/s]\n",
      "Computing chunks: 100%|████████████████████████| 2/2 [00:00<00:00, 86480.49it/s]\n",
      "Splitting the experimental spectrum into chunks: 131072it [00:00, 3696806.65it/s]\n",
      "Deconvolving chunks: 100%|███████████████████████| 1/1 [02:30<00:00, 150.50s/it]\n"
     ]
    },
    {
     "name": "stdout",
     "output_type": "stream",
     "text": [
      "Estimation for 0.14 and 0.060000000000000005 done\n",
      "It took: 150.63303446769714 seconds.\n",
      "[0.8563577823460131, 0.10682964650500164]\n"
     ]
    },
    {
     "name": "stderr",
     "output_type": "stream",
     "text": [
      "Initial filtering of formulas: 100%|██████████████| 2/2 [00:00<00:00, 60.96it/s]\n",
      "Computing chunks: 100%|████████████████████████| 2/2 [00:00<00:00, 88301.14it/s]\n",
      "Splitting the experimental spectrum into chunks: 131072it [00:00, 3516434.25it/s]\n",
      "Deconvolving chunks: 100%|███████████████████████| 1/1 [02:19<00:00, 139.24s/it]\n"
     ]
    },
    {
     "name": "stdout",
     "output_type": "stream",
     "text": [
      "Estimation for 0.14 and 0.06999999999999999 done\n",
      "It took: 139.37662720680237 seconds.\n",
      "[0.8556893103510131, 0.10643497076900164]\n"
     ]
    },
    {
     "name": "stderr",
     "output_type": "stream",
     "text": [
      "Initial filtering of formulas: 100%|██████████████| 2/2 [00:00<00:00, 63.16it/s]\n",
      "Computing chunks: 100%|████████████████████████| 2/2 [00:00<00:00, 96420.78it/s]\n",
      "Splitting the experimental spectrum into chunks: 131072it [00:00, 3496596.07it/s]\n",
      "Deconvolving chunks: 100%|███████████████████████| 1/1 [01:57<00:00, 117.94s/it]\n"
     ]
    },
    {
     "name": "stdout",
     "output_type": "stream",
     "text": [
      "Estimation for 0.14 and 0.08 done\n",
      "It took: 118.08082509040833 seconds.\n",
      "[0.8545213261270131, 0.10584550207700162]\n"
     ]
    },
    {
     "name": "stderr",
     "output_type": "stream",
     "text": [
      "Initial filtering of formulas: 100%|██████████████| 2/2 [00:00<00:00, 62.15it/s]\n",
      "Computing chunks: 100%|████████████████████████| 2/2 [00:00<00:00, 88301.14it/s]\n",
      "Splitting the experimental spectrum into chunks: 131072it [00:00, 3408260.42it/s]\n",
      "Deconvolving chunks: 100%|███████████████████████| 1/1 [01:59<00:00, 119.24s/it]\n"
     ]
    },
    {
     "name": "stdout",
     "output_type": "stream",
     "text": [
      "Estimation for 0.14 and 0.09 done\n",
      "It took: 119.3807475566864 seconds.\n",
      "[0.852718137604013, 0.10600306179000163]\n"
     ]
    },
    {
     "name": "stderr",
     "output_type": "stream",
     "text": [
      "Initial filtering of formulas: 100%|██████████████| 2/2 [00:00<00:00, 62.85it/s]\n",
      "Computing chunks: 100%|████████████████████████| 2/2 [00:00<00:00, 99864.38it/s]\n",
      "Splitting the experimental spectrum into chunks: 131072it [00:00, 3511268.60it/s]\n",
      "Deconvolving chunks: 100%|███████████████████████| 1/1 [01:58<00:00, 118.05s/it]\n"
     ]
    },
    {
     "name": "stdout",
     "output_type": "stream",
     "text": [
      "Estimation for 0.14 and 0.09999999999999999 done\n",
      "It took: 118.20232224464417 seconds.\n",
      "[0.8518416470310131, 0.10610788948500162]\n"
     ]
    },
    {
     "name": "stderr",
     "output_type": "stream",
     "text": [
      "Initial filtering of formulas: 100%|██████████████| 2/2 [00:00<00:00, 62.17it/s]\n",
      "Computing chunks: 100%|████████████████████████| 2/2 [00:00<00:00, 94254.02it/s]\n",
      "Splitting the experimental spectrum into chunks: 131072it [00:00, 3448820.69it/s]\n",
      "Deconvolving chunks: 100%|███████████████████████| 1/1 [01:57<00:00, 117.97s/it]\n"
     ]
    },
    {
     "name": "stdout",
     "output_type": "stream",
     "text": [
      "Estimation for 0.14 and 0.11 done\n",
      "It took: 118.11555123329163 seconds.\n",
      "[0.851225579608013, 0.10606257745400162]\n"
     ]
    },
    {
     "name": "stderr",
     "output_type": "stream",
     "text": [
      "Initial filtering of formulas: 100%|██████████████| 2/2 [00:00<00:00, 64.22it/s]\n",
      "Computing chunks: 100%|████████████████████████| 2/2 [00:00<00:00, 92182.51it/s]\n",
      "Splitting the experimental spectrum into chunks: 131072it [00:00, 3532204.33it/s]\n",
      "Deconvolving chunks: 100%|███████████████████████| 1/1 [02:01<00:00, 121.19s/it]\n"
     ]
    },
    {
     "name": "stdout",
     "output_type": "stream",
     "text": [
      "Estimation for 0.14 and 0.12 done\n",
      "It took: 121.32575964927673 seconds.\n",
      "[0.850931572272013, 0.10600549492800163]\n"
     ]
    },
    {
     "name": "stderr",
     "output_type": "stream",
     "text": [
      "Initial filtering of formulas: 100%|██████████████| 2/2 [00:00<00:00, 64.35it/s]\n",
      "Computing chunks: 100%|███████████████████████| 2/2 [00:00<00:00, 101067.57it/s]\n",
      "Splitting the experimental spectrum into chunks: 131072it [00:00, 3535248.02it/s]\n",
      "Deconvolving chunks: 100%|███████████████████████| 1/1 [02:00<00:00, 120.77s/it]\n"
     ]
    },
    {
     "name": "stdout",
     "output_type": "stream",
     "text": [
      "Estimation for 0.14 and 0.13 done\n",
      "It took: 120.90723395347595 seconds.\n",
      "[0.849463063220013, 0.10623469199900162]\n"
     ]
    },
    {
     "name": "stderr",
     "output_type": "stream",
     "text": [
      "Initial filtering of formulas: 100%|██████████████| 2/2 [00:00<00:00, 64.09it/s]\n",
      "Computing chunks: 100%|████████████████████████| 2/2 [00:00<00:00, 91180.52it/s]\n",
      "Splitting the experimental spectrum into chunks: 131072it [00:00, 3539162.54it/s]\n",
      "Deconvolving chunks: 100%|███████████████████████| 1/1 [02:05<00:00, 125.18s/it]\n"
     ]
    },
    {
     "name": "stdout",
     "output_type": "stream",
     "text": [
      "Estimation for 0.14 and 0.14 done\n",
      "It took: 125.31872844696045 seconds.\n",
      "[0.848612796585013, 0.10631000881500162]\n"
     ]
    },
    {
     "name": "stderr",
     "output_type": "stream",
     "text": [
      "Initial filtering of formulas: 100%|██████████████| 2/2 [00:00<00:00, 51.11it/s]\n",
      "Computing chunks: 100%|████████████████████████| 2/2 [00:00<00:00, 88301.14it/s]\n",
      "Splitting the experimental spectrum into chunks: 131072it [00:00, 3526562.41it/s]\n",
      "Deconvolving chunks: 100%|███████████████████████| 1/1 [02:04<00:00, 124.91s/it]\n"
     ]
    },
    {
     "name": "stdout",
     "output_type": "stream",
     "text": [
      "Estimation for 0.14 and 0.15000000000000002 done\n",
      "It took: 125.06646490097046 seconds.\n",
      "[0.847008161766013, 0.10646512092300164]\n"
     ]
    },
    {
     "name": "stderr",
     "output_type": "stream",
     "text": [
      "Initial filtering of formulas: 100%|██████████████| 2/2 [00:00<00:00, 63.31it/s]\n",
      "Computing chunks: 100%|████████████████████████| 2/2 [00:00<00:00, 14242.12it/s]\n",
      "Splitting the experimental spectrum into chunks: 131072it [00:00, 3515782.09it/s]\n",
      "Deconvolving chunks: 100%|███████████████████████| 1/1 [02:03<00:00, 123.22s/it]\n"
     ]
    },
    {
     "name": "stdout",
     "output_type": "stream",
     "text": [
      "Estimation for 0.14 and 0.16 done\n",
      "It took: 123.35910272598267 seconds.\n",
      "[0.846760649444013, 0.10644875388700163]\n"
     ]
    },
    {
     "name": "stderr",
     "output_type": "stream",
     "text": [
      "Initial filtering of formulas: 100%|██████████████| 2/2 [00:00<00:00, 63.69it/s]\n",
      "Computing chunks: 100%|████████████████████████| 2/2 [00:00<00:00, 97541.95it/s]\n",
      "Splitting the experimental spectrum into chunks: 131072it [00:00, 3483810.92it/s]\n",
      "Deconvolving chunks: 100%|███████████████████████| 1/1 [02:04<00:00, 124.57s/it]\n"
     ]
    },
    {
     "name": "stdout",
     "output_type": "stream",
     "text": [
      "Estimation for 0.14 and 0.17 done\n",
      "It took: 124.70514917373657 seconds.\n",
      "[0.846670046672013, 0.10641394626400162]\n"
     ]
    },
    {
     "name": "stderr",
     "output_type": "stream",
     "text": [
      "Initial filtering of formulas: 100%|██████████████| 2/2 [00:00<00:00, 62.02it/s]\n",
      "Computing chunks: 100%|████████████████████████| 2/2 [00:00<00:00, 89240.51it/s]\n",
      "Splitting the experimental spectrum into chunks: 131072it [00:00, 3313278.97it/s]\n",
      "Deconvolving chunks: 100%|███████████████████████| 1/1 [02:03<00:00, 123.39s/it]\n"
     ]
    },
    {
     "name": "stdout",
     "output_type": "stream",
     "text": [
      "Estimation for 0.14 and 0.18000000000000002 done\n",
      "It took: 123.53466391563416 seconds.\n",
      "[0.846808465346013, 0.10617739141800163]\n"
     ]
    },
    {
     "name": "stderr",
     "output_type": "stream",
     "text": [
      "Initial filtering of formulas: 100%|██████████████| 2/2 [00:00<00:00, 63.84it/s]\n",
      "Computing chunks: 100%|████████████████████████| 2/2 [00:00<00:00, 91180.52it/s]\n",
      "Splitting the experimental spectrum into chunks: 131072it [00:00, 3517739.29it/s]\n",
      "Deconvolving chunks: 100%|███████████████████████| 1/1 [02:02<00:00, 122.17s/it]\n"
     ]
    },
    {
     "name": "stdout",
     "output_type": "stream",
     "text": [
      "Estimation for 0.14 and 0.19 done\n",
      "It took: 122.31266856193542 seconds.\n",
      "[0.846932904927013, 0.10605009197100163]\n"
     ]
    },
    {
     "name": "stderr",
     "output_type": "stream",
     "text": [
      "Initial filtering of formulas: 100%|██████████████| 2/2 [00:00<00:00, 64.95it/s]\n",
      "Computing chunks: 100%|████████████████████████| 2/2 [00:00<00:00, 88301.14it/s]\n",
      "Splitting the experimental spectrum into chunks: 131072it [00:00, 3524007.96it/s]\n",
      "Deconvolving chunks: 100%|███████████████████████| 1/1 [02:01<00:00, 121.62s/it]\n"
     ]
    },
    {
     "name": "stdout",
     "output_type": "stream",
     "text": [
      "Estimation for 0.14 and 0.2 done\n",
      "It took: 121.78596448898315 seconds.\n",
      "[0.847070656204013, 0.10598245685500163]\n"
     ]
    },
    {
     "name": "stderr",
     "output_type": "stream",
     "text": [
      "Initial filtering of formulas: 100%|██████████████| 2/2 [00:00<00:00, 64.16it/s]\n",
      "Computing chunks: 100%|███████████████████████| 2/2 [00:00<00:00, 104857.60it/s]\n",
      "Splitting the experimental spectrum into chunks: 131072it [00:00, 3521457.21it/s]\n",
      "Deconvolving chunks: 100%|███████████████████████| 1/1 [02:00<00:00, 120.82s/it]\n"
     ]
    },
    {
     "name": "stdout",
     "output_type": "stream",
     "text": [
      "Estimation for 0.14 and 0.21000000000000002 done\n",
      "It took: 120.97977113723755 seconds.\n",
      "[0.847167807795013, 0.10598994136900163]\n"
     ]
    },
    {
     "name": "stderr",
     "output_type": "stream",
     "text": [
      "Initial filtering of formulas: 100%|██████████████| 2/2 [00:00<00:00, 65.10it/s]\n",
      "Computing chunks: 100%|████████████████████████| 2/2 [00:00<00:00, 90200.09it/s]\n",
      "Splitting the experimental spectrum into chunks: 131072it [00:00, 3542560.63it/s]\n",
      "Deconvolving chunks: 100%|███████████████████████| 1/1 [01:56<00:00, 116.94s/it]\n"
     ]
    },
    {
     "name": "stdout",
     "output_type": "stream",
     "text": [
      "Estimation for 0.14 and 0.22 done\n",
      "It took: 117.10607838630676 seconds.\n",
      "[0.847364979306013, 0.10600204994500162]\n"
     ]
    },
    {
     "name": "stderr",
     "output_type": "stream",
     "text": [
      "Initial filtering of formulas: 100%|██████████████| 2/2 [00:00<00:00, 64.24it/s]\n",
      "Computing chunks: 100%|████████████████████████| 2/2 [00:00<00:00, 99864.38it/s]\n",
      "Splitting the experimental spectrum into chunks: 131072it [00:00, 3496440.40it/s]\n",
      "Deconvolving chunks: 100%|███████████████████████| 1/1 [01:58<00:00, 118.75s/it]\n"
     ]
    },
    {
     "name": "stdout",
     "output_type": "stream",
     "text": [
      "Estimation for 0.14 and 0.23 done\n",
      "It took: 118.89272785186768 seconds.\n",
      "[0.847667848789013, 0.10597819229900163]\n"
     ]
    },
    {
     "name": "stderr",
     "output_type": "stream",
     "text": [
      "Initial filtering of formulas: 100%|██████████████| 2/2 [00:00<00:00, 64.50it/s]\n",
      "Computing chunks: 100%|████████████████████████| 2/2 [00:00<00:00, 94254.02it/s]\n",
      "Splitting the experimental spectrum into chunks: 131072it [00:00, 3502120.13it/s]\n",
      "Deconvolving chunks: 100%|███████████████████████| 1/1 [02:04<00:00, 124.38s/it]\n"
     ]
    },
    {
     "name": "stdout",
     "output_type": "stream",
     "text": [
      "Estimation for 0.14 and 0.24000000000000002 done\n",
      "It took: 124.53938722610474 seconds.\n",
      "[0.846682581852013, 0.10615355629600162]\n"
     ]
    },
    {
     "name": "stderr",
     "output_type": "stream",
     "text": [
      "Initial filtering of formulas: 100%|██████████████| 2/2 [00:00<00:00, 64.08it/s]\n",
      "Computing chunks: 100%|████████████████████████| 2/2 [00:00<00:00, 93206.76it/s]\n",
      "Splitting the experimental spectrum into chunks: 131072it [00:00, 3521231.66it/s]\n",
      "Deconvolving chunks: 100%|███████████████████████| 1/1 [02:01<00:00, 121.20s/it]\n"
     ]
    },
    {
     "name": "stdout",
     "output_type": "stream",
     "text": [
      "Estimation for 0.14 and 0.25 done\n",
      "It took: 121.36926603317261 seconds.\n",
      "[0.8450189675900129, 0.10638434085900163]\n"
     ]
    },
    {
     "name": "stderr",
     "output_type": "stream",
     "text": [
      "Initial filtering of formulas: 100%|██████████████| 2/2 [00:00<00:00, 58.93it/s]\n",
      "Computing chunks: 100%|████████████████████████| 2/2 [00:00<00:00, 81442.80it/s]\n",
      "Splitting the experimental spectrum into chunks: 131072it [00:00, 3460347.66it/s]\n",
      "Deconvolving chunks: 100%|███████████████████████| 1/1 [02:10<00:00, 130.41s/it]\n"
     ]
    },
    {
     "name": "stdout",
     "output_type": "stream",
     "text": [
      "Estimation for 0.14 and 0.26 done\n",
      "It took: 130.55335021018982 seconds.\n",
      "[0.845448690637013, 0.10619285916900162]\n"
     ]
    },
    {
     "name": "stderr",
     "output_type": "stream",
     "text": [
      "Initial filtering of formulas: 100%|██████████████| 2/2 [00:00<00:00, 65.29it/s]\n",
      "Computing chunks: 100%|████████████████████████| 2/2 [00:00<00:00, 93206.76it/s]\n",
      "Splitting the experimental spectrum into chunks: 131072it [00:00, 3534657.04it/s]\n",
      "Deconvolving chunks: 100%|███████████████████████| 1/1 [02:09<00:00, 129.21s/it]\n"
     ]
    },
    {
     "name": "stdout",
     "output_type": "stream",
     "text": [
      "Estimation for 0.14 and 0.27 done\n",
      "It took: 129.34364652633667 seconds.\n",
      "[0.845960083893013, 0.10578616709700163]\n"
     ]
    },
    {
     "name": "stderr",
     "output_type": "stream",
     "text": [
      "Initial filtering of formulas: 100%|██████████████| 2/2 [00:00<00:00, 61.61it/s]\n",
      "Computing chunks: 100%|████████████████████████| 2/2 [00:00<00:00, 33554.43it/s]\n",
      "Splitting the experimental spectrum into chunks: 131072it [00:00, 3392360.80it/s]\n",
      "Deconvolving chunks: 100%|███████████████████████| 1/1 [02:10<00:00, 130.60s/it]\n"
     ]
    },
    {
     "name": "stdout",
     "output_type": "stream",
     "text": [
      "Estimation for 0.14 and 0.28 done\n",
      "It took: 130.7610068321228 seconds.\n",
      "[0.846111049370013, 0.10564859663600162]\n"
     ]
    },
    {
     "name": "stderr",
     "output_type": "stream",
     "text": [
      "Initial filtering of formulas: 100%|██████████████| 2/2 [00:00<00:00, 64.25it/s]\n",
      "Computing chunks: 100%|████████████████████████| 2/2 [00:00<00:00, 54120.05it/s]\n",
      "Splitting the experimental spectrum into chunks: 131072it [00:00, 3536316.83it/s]\n",
      "Deconvolving chunks: 100%|███████████████████████| 1/1 [02:07<00:00, 127.12s/it]\n"
     ]
    },
    {
     "name": "stdout",
     "output_type": "stream",
     "text": [
      "Estimation for 0.14 and 0.29000000000000004 done\n",
      "It took: 127.25596880912781 seconds.\n",
      "[0.846233858083013, 0.10545082315600161]\n"
     ]
    },
    {
     "name": "stderr",
     "output_type": "stream",
     "text": [
      "Initial filtering of formulas: 100%|██████████████| 2/2 [00:00<00:00, 63.33it/s]\n",
      "Computing chunks: 100%|████████████████████████| 2/2 [00:00<00:00, 86480.49it/s]\n",
      "Splitting the experimental spectrum into chunks: 131072it [00:00, 3497129.90it/s]\n",
      "Deconvolving chunks: 100%|███████████████████████| 1/1 [01:46<00:00, 106.79s/it]\n"
     ]
    },
    {
     "name": "stdout",
     "output_type": "stream",
     "text": [
      "Estimation for 0.15000000000000002 and 0.01 done\n",
      "It took: 106.93003487586975 seconds.\n",
      "[0.7338882556050113, 0.262630752339004]\n"
     ]
    },
    {
     "name": "stderr",
     "output_type": "stream",
     "text": [
      "Initial filtering of formulas: 100%|██████████████| 2/2 [00:00<00:00, 63.18it/s]\n",
      "Computing chunks: 100%|████████████████████████| 2/2 [00:00<00:00, 91180.52it/s]\n",
      "Splitting the experimental spectrum into chunks: 131072it [00:00, 3468928.66it/s]\n",
      "Deconvolving chunks: 100%|███████████████████████| 1/1 [02:32<00:00, 152.56s/it]\n"
     ]
    },
    {
     "name": "stdout",
     "output_type": "stream",
     "text": [
      "Estimation for 0.15000000000000002 and 0.02 done\n",
      "It took: 152.70438981056213 seconds.\n",
      "[0.8759227002640134, 0.09702815019000148]\n"
     ]
    },
    {
     "name": "stderr",
     "output_type": "stream",
     "text": [
      "Initial filtering of formulas: 100%|██████████████| 2/2 [00:00<00:00, 63.92it/s]\n",
      "Computing chunks: 100%|████████████████████████| 2/2 [00:00<00:00, 93206.76it/s]\n",
      "Splitting the experimental spectrum into chunks: 131072it [00:00, 3529913.66it/s]\n",
      "Deconvolving chunks: 100%|███████████████████████| 1/1 [02:32<00:00, 152.16s/it]\n"
     ]
    },
    {
     "name": "stdout",
     "output_type": "stream",
     "text": [
      "Estimation for 0.15000000000000002 and 0.03 done\n",
      "It took: 152.29590487480164 seconds.\n",
      "[0.8642998397140133, 0.10352625216300158]\n"
     ]
    },
    {
     "name": "stderr",
     "output_type": "stream",
     "text": [
      "Initial filtering of formulas: 100%|██████████████| 2/2 [00:00<00:00, 64.57it/s]\n",
      "Computing chunks: 100%|████████████████████████| 2/2 [00:00<00:00, 44620.26it/s]\n",
      "Splitting the experimental spectrum into chunks: 131072it [00:00, 3524459.81it/s]\n",
      "Deconvolving chunks: 100%|███████████████████████| 1/1 [02:30<00:00, 150.16s/it]\n"
     ]
    },
    {
     "name": "stdout",
     "output_type": "stream",
     "text": [
      "Estimation for 0.15000000000000002 and 0.04 done\n",
      "It took: 150.31576943397522 seconds.\n",
      "[0.8591609965470132, 0.10697816351300164]\n"
     ]
    },
    {
     "name": "stderr",
     "output_type": "stream",
     "text": [
      "Initial filtering of formulas: 100%|██████████████| 2/2 [00:00<00:00, 64.71it/s]\n",
      "Computing chunks: 100%|████████████████████████| 2/2 [00:00<00:00, 89240.51it/s]\n",
      "Splitting the experimental spectrum into chunks: 131072it [00:00, 3494995.57it/s]\n",
      "Deconvolving chunks: 100%|███████████████████████| 1/1 [01:58<00:00, 118.76s/it]\n"
     ]
    },
    {
     "name": "stdout",
     "output_type": "stream",
     "text": [
      "Estimation for 0.15000000000000002 and 0.05 done\n",
      "It took: 118.92478346824646 seconds.\n",
      "[0.8581035946380131, 0.10750428407400166]\n"
     ]
    },
    {
     "name": "stderr",
     "output_type": "stream",
     "text": [
      "Initial filtering of formulas: 100%|██████████████| 2/2 [00:00<00:00, 64.20it/s]\n",
      "Computing chunks: 100%|████████████████████████| 2/2 [00:00<00:00, 87381.33it/s]\n",
      "Splitting the experimental spectrum into chunks: 131072it [00:00, 3529551.06it/s]\n",
      "Deconvolving chunks: 100%|███████████████████████| 1/1 [01:58<00:00, 118.14s/it]\n"
     ]
    },
    {
     "name": "stdout",
     "output_type": "stream",
     "text": [
      "Estimation for 0.15000000000000002 and 0.060000000000000005 done\n",
      "It took: 118.27648067474365 seconds.\n",
      "[0.8577686040950131, 0.10718525007800164]\n"
     ]
    },
    {
     "name": "stderr",
     "output_type": "stream",
     "text": [
      "Initial filtering of formulas: 100%|██████████████| 2/2 [00:00<00:00, 63.17it/s]\n",
      "Computing chunks: 100%|████████████████████████| 2/2 [00:00<00:00, 94254.02it/s]\n",
      "Splitting the experimental spectrum into chunks: 131072it [00:00, 3522969.16it/s]\n",
      "Deconvolving chunks: 100%|███████████████████████| 1/1 [01:59<00:00, 119.06s/it]\n"
     ]
    },
    {
     "name": "stdout",
     "output_type": "stream",
     "text": [
      "Estimation for 0.15000000000000002 and 0.06999999999999999 done\n",
      "It took: 119.1950352191925 seconds.\n",
      "[0.8573463895120131, 0.10647980376500164]\n"
     ]
    },
    {
     "name": "stderr",
     "output_type": "stream",
     "text": [
      "Initial filtering of formulas: 100%|██████████████| 2/2 [00:00<00:00, 63.94it/s]\n",
      "Computing chunks: 100%|████████████████████████| 2/2 [00:00<00:00, 76959.71it/s]\n",
      "Splitting the experimental spectrum into chunks: 131072it [00:00, 3535975.65it/s]\n",
      "Deconvolving chunks: 100%|███████████████████████| 1/1 [02:24<00:00, 144.43s/it]\n"
     ]
    },
    {
     "name": "stdout",
     "output_type": "stream",
     "text": [
      "Estimation for 0.15000000000000002 and 0.08 done\n",
      "It took: 144.58466053009033 seconds.\n",
      "[0.8561728084490131, 0.10632317907700162]\n"
     ]
    },
    {
     "name": "stderr",
     "output_type": "stream",
     "text": [
      "Initial filtering of formulas: 100%|██████████████| 2/2 [00:00<00:00, 58.75it/s]\n",
      "Computing chunks: 100%|████████████████████████| 2/2 [00:00<00:00, 43919.41it/s]\n",
      "Splitting the experimental spectrum into chunks: 131072it [00:00, 3115046.20it/s]\n",
      "Deconvolving chunks: 100%|███████████████████████| 1/1 [02:01<00:00, 121.21s/it]\n"
     ]
    },
    {
     "name": "stdout",
     "output_type": "stream",
     "text": [
      "Estimation for 0.15000000000000002 and 0.09 done\n",
      "It took: 121.37161087989807 seconds.\n",
      "[0.8545660772730131, 0.10609089319500162]\n"
     ]
    },
    {
     "name": "stderr",
     "output_type": "stream",
     "text": [
      "Initial filtering of formulas: 100%|██████████████| 2/2 [00:00<00:00, 54.72it/s]\n",
      "Computing chunks: 100%|████████████████████████| 2/2 [00:00<00:00, 83886.08it/s]\n",
      "Splitting the experimental spectrum into chunks: 131072it [00:00, 3304674.97it/s]\n",
      "Deconvolving chunks: 100%|███████████████████████| 1/1 [01:56<00:00, 116.83s/it]\n"
     ]
    },
    {
     "name": "stdout",
     "output_type": "stream",
     "text": [
      "Estimation for 0.15000000000000002 and 0.09999999999999999 done\n",
      "It took: 116.99699926376343 seconds.\n",
      "[0.8533455354150131, 0.10615066775500162]\n"
     ]
    },
    {
     "name": "stderr",
     "output_type": "stream",
     "text": [
      "Initial filtering of formulas: 100%|██████████████| 2/2 [00:00<00:00, 62.95it/s]\n",
      "Computing chunks: 100%|████████████████████████| 2/2 [00:00<00:00, 83055.52it/s]\n",
      "Splitting the experimental spectrum into chunks: 131072it [00:00, 3491776.79it/s]\n",
      "Deconvolving chunks: 100%|███████████████████████| 1/1 [02:18<00:00, 138.89s/it]\n"
     ]
    },
    {
     "name": "stdout",
     "output_type": "stream",
     "text": [
      "Estimation for 0.15000000000000002 and 0.11 done\n",
      "It took: 139.0527696609497 seconds.\n",
      "[0.852802995404013, 0.10620323139100163]\n"
     ]
    },
    {
     "name": "stderr",
     "output_type": "stream",
     "text": [
      "Initial filtering of formulas: 100%|██████████████| 2/2 [00:00<00:00, 65.55it/s]\n",
      "Computing chunks: 100%|███████████████████████| 2/2 [00:00<00:00, 101067.57it/s]\n",
      "Splitting the experimental spectrum into chunks: 131072it [00:00, 3592494.32it/s]\n",
      "Deconvolving chunks: 100%|███████████████████████| 1/1 [01:59<00:00, 119.52s/it]\n"
     ]
    },
    {
     "name": "stdout",
     "output_type": "stream",
     "text": [
      "Estimation for 0.15000000000000002 and 0.12 done\n",
      "It took: 119.67638897895813 seconds.\n",
      "[0.8523697369780131, 0.10611368130800163]\n"
     ]
    },
    {
     "name": "stderr",
     "output_type": "stream",
     "text": [
      "Initial filtering of formulas: 100%|██████████████| 2/2 [00:00<00:00, 60.54it/s]\n",
      "Computing chunks: 100%|████████████████████████| 2/2 [00:00<00:00, 90200.09it/s]\n",
      "Splitting the experimental spectrum into chunks: 131072it [00:00, 3454607.12it/s]\n",
      "Deconvolving chunks: 100%|███████████████████████| 1/1 [01:56<00:00, 116.23s/it]\n"
     ]
    },
    {
     "name": "stdout",
     "output_type": "stream",
     "text": [
      "Estimation for 0.15000000000000002 and 0.13 done\n",
      "It took: 116.38747239112854 seconds.\n",
      "[0.851586831373013, 0.10611486743500162]\n"
     ]
    },
    {
     "name": "stderr",
     "output_type": "stream",
     "text": [
      "Initial filtering of formulas: 100%|██████████████| 2/2 [00:00<00:00, 63.95it/s]\n",
      "Computing chunks: 100%|████████████████████████| 2/2 [00:00<00:00, 15141.89it/s]\n",
      "Splitting the experimental spectrum into chunks: 131072it [00:00, 3509609.84it/s]\n",
      "Deconvolving chunks: 100%|███████████████████████| 1/1 [02:03<00:00, 123.51s/it]\n"
     ]
    },
    {
     "name": "stdout",
     "output_type": "stream",
     "text": [
      "Estimation for 0.15000000000000002 and 0.14 done\n",
      "It took: 123.64565372467041 seconds.\n",
      "[0.850232121647013, 0.10631170823200162]\n"
     ]
    },
    {
     "name": "stderr",
     "output_type": "stream",
     "text": [
      "Initial filtering of formulas: 100%|██████████████| 2/2 [00:00<00:00, 64.31it/s]\n",
      "Computing chunks: 100%|████████████████████████| 2/2 [00:00<00:00, 61680.94it/s]\n",
      "Splitting the experimental spectrum into chunks: 131072it [00:00, 3532953.41it/s]\n",
      "Deconvolving chunks: 100%|███████████████████████| 1/1 [02:02<00:00, 122.15s/it]\n"
     ]
    },
    {
     "name": "stdout",
     "output_type": "stream",
     "text": [
      "Estimation for 0.15000000000000002 and 0.15000000000000002 done\n",
      "It took: 122.31210589408875 seconds.\n",
      "[0.848753001384013, 0.10651627566200164]\n"
     ]
    },
    {
     "name": "stderr",
     "output_type": "stream",
     "text": [
      "Initial filtering of formulas: 100%|██████████████| 2/2 [00:00<00:00, 56.35it/s]\n",
      "Computing chunks: 100%|████████████████████████| 2/2 [00:00<00:00, 89240.51it/s]\n",
      "Splitting the experimental spectrum into chunks: 131072it [00:00, 3167106.31it/s]\n",
      "Deconvolving chunks: 100%|███████████████████████| 1/1 [02:03<00:00, 124.00s/it]\n"
     ]
    },
    {
     "name": "stdout",
     "output_type": "stream",
     "text": [
      "Estimation for 0.15000000000000002 and 0.16 done\n",
      "It took: 124.16413378715515 seconds.\n",
      "[0.848017466889013, 0.10655195143600164]\n"
     ]
    },
    {
     "name": "stderr",
     "output_type": "stream",
     "text": [
      "Initial filtering of formulas: 100%|██████████████| 2/2 [00:00<00:00, 62.42it/s]\n",
      "Computing chunks: 100%|████████████████████████| 2/2 [00:00<00:00, 86480.49it/s]\n",
      "Splitting the experimental spectrum into chunks: 131072it [00:00, 3477684.31it/s]\n",
      "Deconvolving chunks: 100%|███████████████████████| 1/1 [02:03<00:00, 123.38s/it]\n"
     ]
    },
    {
     "name": "stdout",
     "output_type": "stream",
     "text": [
      "Estimation for 0.15000000000000002 and 0.17 done\n",
      "It took: 123.52811622619629 seconds.\n",
      "[0.848023607393013, 0.10649365447000164]\n"
     ]
    },
    {
     "name": "stderr",
     "output_type": "stream",
     "text": [
      "Initial filtering of formulas: 100%|██████████████| 2/2 [00:00<00:00, 64.79it/s]\n",
      "Computing chunks: 100%|████████████████████████| 2/2 [00:00<00:00, 90200.09it/s]\n",
      "Splitting the experimental spectrum into chunks: 131072it [00:00, 3534929.78it/s]\n",
      "Deconvolving chunks: 100%|███████████████████████| 1/1 [02:02<00:00, 122.90s/it]\n"
     ]
    },
    {
     "name": "stdout",
     "output_type": "stream",
     "text": [
      "Estimation for 0.15000000000000002 and 0.18000000000000002 done\n",
      "It took: 123.0609655380249 seconds.\n",
      "[0.848122185003013, 0.10639804217800163]\n"
     ]
    },
    {
     "name": "stderr",
     "output_type": "stream",
     "text": [
      "Initial filtering of formulas: 100%|██████████████| 2/2 [00:00<00:00, 64.31it/s]\n",
      "Computing chunks: 100%|████████████████████████| 2/2 [00:00<00:00, 79137.81it/s]\n",
      "Splitting the experimental spectrum into chunks: 131072it [00:00, 3536157.60it/s]\n",
      "Deconvolving chunks: 100%|███████████████████████| 1/1 [02:19<00:00, 139.44s/it]\n"
     ]
    },
    {
     "name": "stdout",
     "output_type": "stream",
     "text": [
      "Estimation for 0.15000000000000002 and 0.19 done\n",
      "It took: 139.58144903182983 seconds.\n",
      "[0.848349619707013, 0.10617957937300163]\n"
     ]
    },
    {
     "name": "stderr",
     "output_type": "stream",
     "text": [
      "Initial filtering of formulas: 100%|██████████████| 2/2 [00:00<00:00, 64.54it/s]\n",
      "Computing chunks: 100%|████████████████████████| 2/2 [00:00<00:00, 98689.51it/s]\n",
      "Splitting the experimental spectrum into chunks: 131072it [00:00, 3525499.49it/s]\n",
      "Deconvolving chunks: 100%|███████████████████████| 1/1 [02:22<00:00, 142.82s/it]\n"
     ]
    },
    {
     "name": "stdout",
     "output_type": "stream",
     "text": [
      "Estimation for 0.15000000000000002 and 0.2 done\n",
      "It took: 142.96691179275513 seconds.\n",
      "[0.848550151127013, 0.10608708079600163]\n"
     ]
    },
    {
     "name": "stderr",
     "output_type": "stream",
     "text": [
      "Initial filtering of formulas: 100%|██████████████| 2/2 [00:00<00:00, 64.89it/s]\n",
      "Computing chunks: 100%|███████████████████████| 2/2 [00:00<00:00, 102300.10it/s]\n",
      "Splitting the experimental spectrum into chunks: 131072it [00:00, 3570422.56it/s]\n",
      "Deconvolving chunks: 100%|███████████████████████| 1/1 [02:01<00:00, 121.97s/it]\n"
     ]
    },
    {
     "name": "stdout",
     "output_type": "stream",
     "text": [
      "Estimation for 0.15000000000000002 and 0.21000000000000002 done\n",
      "It took: 122.13319516181946 seconds.\n",
      "[0.848755750874013, 0.10605953713800162]\n"
     ]
    },
    {
     "name": "stderr",
     "output_type": "stream",
     "text": [
      "Initial filtering of formulas: 100%|██████████████| 2/2 [00:00<00:00, 64.62it/s]\n",
      "Computing chunks: 100%|████████████████████████| 2/2 [00:00<00:00, 92182.51it/s]\n",
      "Splitting the experimental spectrum into chunks: 131072it [00:00, 3567711.59it/s]\n",
      "Deconvolving chunks: 100%|███████████████████████| 1/1 [01:57<00:00, 117.56s/it]\n"
     ]
    },
    {
     "name": "stdout",
     "output_type": "stream",
     "text": [
      "Estimation for 0.15000000000000002 and 0.22 done\n",
      "It took: 117.69241261482239 seconds.\n",
      "[0.848936821609013, 0.10607948451500163]\n"
     ]
    },
    {
     "name": "stderr",
     "output_type": "stream",
     "text": [
      "Initial filtering of formulas: 100%|██████████████| 2/2 [00:00<00:00, 63.61it/s]\n",
      "Computing chunks: 100%|████████████████████████| 2/2 [00:00<00:00, 94254.02it/s]\n",
      "Splitting the experimental spectrum into chunks: 131072it [00:00, 3512771.81it/s]\n",
      "Deconvolving chunks: 100%|███████████████████████| 1/1 [02:00<00:00, 120.98s/it]\n"
     ]
    },
    {
     "name": "stdout",
     "output_type": "stream",
     "text": [
      "Estimation for 0.15000000000000002 and 0.23 done\n",
      "It took: 121.12258744239807 seconds.\n",
      "[0.849282704527013, 0.10612369685600162]\n"
     ]
    },
    {
     "name": "stderr",
     "output_type": "stream",
     "text": [
      "Initial filtering of formulas: 100%|██████████████| 2/2 [00:00<00:00, 63.70it/s]\n",
      "Computing chunks: 100%|████████████████████████| 2/2 [00:00<00:00, 88301.14it/s]\n",
      "Splitting the experimental spectrum into chunks: 131072it [00:00, 3539322.04it/s]\n",
      "Deconvolving chunks: 100%|███████████████████████| 1/1 [02:00<00:00, 120.34s/it]\n"
     ]
    },
    {
     "name": "stdout",
     "output_type": "stream",
     "text": [
      "Estimation for 0.15000000000000002 and 0.24000000000000002 done\n",
      "It took: 120.50404334068298 seconds.\n",
      "[0.849207971899013, 0.10617013565600163]\n"
     ]
    },
    {
     "name": "stderr",
     "output_type": "stream",
     "text": [
      "Initial filtering of formulas: 100%|██████████████| 2/2 [00:00<00:00, 65.00it/s]\n",
      "Computing chunks: 100%|████████████████████████| 2/2 [00:00<00:00, 96420.78it/s]\n",
      "Splitting the experimental spectrum into chunks: 131072it [00:00, 3571884.02it/s]\n",
      "Deconvolving chunks: 100%|███████████████████████| 1/1 [01:59<00:00, 119.94s/it]\n"
     ]
    },
    {
     "name": "stdout",
     "output_type": "stream",
     "text": [
      "Estimation for 0.15000000000000002 and 0.25 done\n",
      "It took: 120.07748365402222 seconds.\n",
      "[0.846428041454013, 0.10658312629800164]\n"
     ]
    },
    {
     "name": "stderr",
     "output_type": "stream",
     "text": [
      "Initial filtering of formulas: 100%|██████████████| 2/2 [00:00<00:00, 64.11it/s]\n",
      "Computing chunks: 100%|████████████████████████| 2/2 [00:00<00:00, 96420.78it/s]\n",
      "Splitting the experimental spectrum into chunks: 131072it [00:00, 3517469.20it/s]\n",
      "Deconvolving chunks: 100%|███████████████████████| 1/1 [01:58<00:00, 118.55s/it]\n"
     ]
    },
    {
     "name": "stdout",
     "output_type": "stream",
     "text": [
      "Estimation for 0.15000000000000002 and 0.26 done\n",
      "It took: 118.71565318107605 seconds.\n",
      "[0.846671592316013, 0.10651780888000163]\n"
     ]
    },
    {
     "name": "stderr",
     "output_type": "stream",
     "text": [
      "Initial filtering of formulas: 100%|██████████████| 2/2 [00:00<00:00, 65.64it/s]\n",
      "Computing chunks: 100%|████████████████████████| 2/2 [00:00<00:00, 93206.76it/s]\n",
      "Splitting the experimental spectrum into chunks: 131072it [00:00, 3557898.57it/s]\n",
      "Deconvolving chunks: 100%|███████████████████████| 1/1 [02:00<00:00, 120.33s/it]\n"
     ]
    },
    {
     "name": "stdout",
     "output_type": "stream",
     "text": [
      "Estimation for 0.15000000000000002 and 0.27 done\n",
      "It took: 120.46906423568726 seconds.\n",
      "[0.846841742040013, 0.10638382857400162]\n"
     ]
    },
    {
     "name": "stderr",
     "output_type": "stream",
     "text": [
      "Initial filtering of formulas: 100%|██████████████| 2/2 [00:00<00:00, 65.07it/s]\n",
      "Computing chunks: 100%|████████████████████████| 2/2 [00:00<00:00, 93206.76it/s]\n",
      "Splitting the experimental spectrum into chunks: 131072it [00:00, 3567271.73it/s]\n",
      "Deconvolving chunks: 100%|███████████████████████| 1/1 [02:10<00:00, 130.04s/it]\n"
     ]
    },
    {
     "name": "stdout",
     "output_type": "stream",
     "text": [
      "Estimation for 0.15000000000000002 and 0.28 done\n",
      "It took: 130.17605209350586 seconds.\n",
      "[0.846877360437013, 0.10627852809400162]\n"
     ]
    },
    {
     "name": "stderr",
     "output_type": "stream",
     "text": [
      "Initial filtering of formulas: 100%|██████████████| 2/2 [00:00<00:00, 60.11it/s]\n",
      "Computing chunks: 100%|████████████████████████| 2/2 [00:00<00:00, 75573.05it/s]\n",
      "Splitting the experimental spectrum into chunks: 131072it [00:00, 3495706.73it/s]\n",
      "Deconvolving chunks: 100%|███████████████████████| 1/1 [02:09<00:00, 129.72s/it]\n"
     ]
    },
    {
     "name": "stdout",
     "output_type": "stream",
     "text": [
      "Estimation for 0.15000000000000002 and 0.29000000000000004 done\n",
      "It took: 129.88601446151733 seconds.\n",
      "[0.846976183716013, 0.10605325828900163]\n"
     ]
    },
    {
     "name": "stderr",
     "output_type": "stream",
     "text": [
      "Initial filtering of formulas: 100%|██████████████| 2/2 [00:00<00:00, 64.91it/s]\n",
      "Computing chunks: 100%|████████████████████████| 2/2 [00:00<00:00, 91180.52it/s]\n",
      "Splitting the experimental spectrum into chunks: 131072it [00:00, 3514366.17it/s]\n",
      "Deconvolving chunks: 100%|███████████████████████| 1/1 [01:48<00:00, 108.47s/it]\n"
     ]
    },
    {
     "name": "stdout",
     "output_type": "stream",
     "text": [
      "Estimation for 0.16 and 0.01 done\n",
      "It took: 108.60336828231812 seconds.\n",
      "[0.7406723943680114, 0.25653061909300395]\n"
     ]
    },
    {
     "name": "stderr",
     "output_type": "stream",
     "text": [
      "Initial filtering of formulas: 100%|██████████████| 2/2 [00:00<00:00, 63.00it/s]\n",
      "Computing chunks: 100%|████████████████████████| 2/2 [00:00<00:00, 96420.78it/s]\n",
      "Splitting the experimental spectrum into chunks: 131072it [00:00, 3468666.01it/s]\n",
      "Deconvolving chunks: 100%|███████████████████████| 1/1 [01:51<00:00, 111.83s/it]\n"
     ]
    },
    {
     "name": "stdout",
     "output_type": "stream",
     "text": [
      "Estimation for 0.16 and 0.02 done\n",
      "It took: 111.96714448928833 seconds.\n",
      "[0.8771956959790135, 0.0975402634410015]\n"
     ]
    },
    {
     "name": "stderr",
     "output_type": "stream",
     "text": [
      "Initial filtering of formulas: 100%|██████████████| 2/2 [00:00<00:00, 63.99it/s]\n",
      "Computing chunks: 100%|███████████████████████| 2/2 [00:00<00:00, 101067.57it/s]\n",
      "Splitting the experimental spectrum into chunks: 131072it [00:00, 3543953.68it/s]\n",
      "Deconvolving chunks: 100%|███████████████████████| 1/1 [02:28<00:00, 148.33s/it]\n"
     ]
    },
    {
     "name": "stdout",
     "output_type": "stream",
     "text": [
      "Estimation for 0.16 and 0.03 done\n",
      "It took: 148.4642469882965 seconds.\n",
      "[0.8666602161030134, 0.10311572597600158]\n"
     ]
    },
    {
     "name": "stderr",
     "output_type": "stream",
     "text": [
      "Initial filtering of formulas: 100%|██████████████| 2/2 [00:00<00:00, 66.54it/s]\n",
      "Computing chunks: 100%|████████████████████████| 2/2 [00:00<00:00, 49344.75it/s]\n",
      "Splitting the experimental spectrum into chunks: 131072it [00:00, 3583712.38it/s]\n",
      "Deconvolving chunks: 100%|███████████████████████| 1/1 [01:59<00:00, 119.95s/it]\n"
     ]
    },
    {
     "name": "stdout",
     "output_type": "stream",
     "text": [
      "Estimation for 0.16 and 0.04 done\n",
      "It took: 120.08019733428955 seconds.\n",
      "[0.8604766531000132, 0.10715912515800163]\n"
     ]
    },
    {
     "name": "stderr",
     "output_type": "stream",
     "text": [
      "Initial filtering of formulas: 100%|██████████████| 2/2 [00:00<00:00, 64.83it/s]\n",
      "Computing chunks: 100%|████████████████████████| 2/2 [00:00<00:00, 92182.51it/s]\n",
      "Splitting the experimental spectrum into chunks: 131072it [00:00, 3545302.09it/s]\n",
      "Deconvolving chunks: 100%|███████████████████████| 1/1 [01:59<00:00, 119.43s/it]\n"
     ]
    },
    {
     "name": "stdout",
     "output_type": "stream",
     "text": [
      "Estimation for 0.16 and 0.05 done\n",
      "It took: 119.56557393074036 seconds.\n",
      "[0.8591676059010133, 0.10779882203400165]\n"
     ]
    },
    {
     "name": "stderr",
     "output_type": "stream",
     "text": [
      "Initial filtering of formulas: 100%|██████████████| 2/2 [00:00<00:00, 62.29it/s]\n",
      "Computing chunks: 100%|███████████████████████| 2/2 [00:00<00:00, 101067.57it/s]\n",
      "Splitting the experimental spectrum into chunks: 131072it [00:00, 3567757.89it/s]\n",
      "Deconvolving chunks: 100%|███████████████████████| 1/1 [02:17<00:00, 137.93s/it]\n"
     ]
    },
    {
     "name": "stdout",
     "output_type": "stream",
     "text": [
      "Estimation for 0.16 and 0.060000000000000005 done\n",
      "It took: 138.08935594558716 seconds.\n",
      "[0.8589892530640132, 0.10744044244600165]\n"
     ]
    },
    {
     "name": "stderr",
     "output_type": "stream",
     "text": [
      "Initial filtering of formulas: 100%|██████████████| 2/2 [00:00<00:00, 64.76it/s]\n",
      "Computing chunks: 100%|████████████████████████| 2/2 [00:00<00:00, 95325.09it/s]\n",
      "Splitting the experimental spectrum into chunks: 131072it [00:00, 3542948.75it/s]\n",
      "Deconvolving chunks: 100%|███████████████████████| 1/1 [02:22<00:00, 142.87s/it]\n"
     ]
    },
    {
     "name": "stdout",
     "output_type": "stream",
     "text": [
      "Estimation for 0.16 and 0.06999999999999999 done\n",
      "It took: 143.00262475013733 seconds.\n",
      "[0.8586196904640131, 0.10697680080500163]\n"
     ]
    },
    {
     "name": "stderr",
     "output_type": "stream",
     "text": [
      "Initial filtering of formulas: 100%|██████████████| 2/2 [00:00<00:00, 64.46it/s]\n",
      "Computing chunks: 100%|████████████████████████| 2/2 [00:00<00:00, 96420.78it/s]\n",
      "Splitting the experimental spectrum into chunks: 131072it [00:00, 3542263.89it/s]\n",
      "Deconvolving chunks: 100%|███████████████████████| 1/1 [01:55<00:00, 115.77s/it]\n"
     ]
    },
    {
     "name": "stdout",
     "output_type": "stream",
     "text": [
      "Estimation for 0.16 and 0.08 done\n",
      "It took: 115.92441749572754 seconds.\n",
      "[0.8579439399500131, 0.10631750361900162]\n"
     ]
    },
    {
     "name": "stderr",
     "output_type": "stream",
     "text": [
      "Initial filtering of formulas: 100%|██████████████| 2/2 [00:00<00:00, 56.17it/s]\n",
      "Computing chunks: 100%|████████████████████████| 2/2 [00:00<00:00, 62137.84it/s]\n",
      "Splitting the experimental spectrum into chunks: 131072it [00:00, 3468797.33it/s]\n",
      "Deconvolving chunks: 100%|███████████████████████| 1/1 [01:59<00:00, 119.07s/it]\n"
     ]
    },
    {
     "name": "stdout",
     "output_type": "stream",
     "text": [
      "Estimation for 0.16 and 0.09 done\n",
      "It took: 119.24435043334961 seconds.\n",
      "[0.8561610208290131, 0.10640354878000162]\n"
     ]
    },
    {
     "name": "stderr",
     "output_type": "stream",
     "text": [
      "Initial filtering of formulas: 100%|██████████████| 2/2 [00:00<00:00, 65.41it/s]\n",
      "Computing chunks: 100%|████████████████████████| 2/2 [00:00<00:00, 76959.71it/s]\n",
      "Splitting the experimental spectrum into chunks: 131072it [00:00, 3541624.94it/s]\n",
      "Deconvolving chunks: 100%|███████████████████████| 1/1 [02:00<00:00, 120.79s/it]\n"
     ]
    },
    {
     "name": "stdout",
     "output_type": "stream",
     "text": [
      "Estimation for 0.16 and 0.09999999999999999 done\n",
      "It took: 120.92455005645752 seconds.\n",
      "[0.8546920791660131, 0.10626359006700162]\n"
     ]
    },
    {
     "name": "stderr",
     "output_type": "stream",
     "text": [
      "Initial filtering of formulas: 100%|██████████████| 2/2 [00:00<00:00, 63.20it/s]\n",
      "Computing chunks: 100%|████████████████████████| 2/2 [00:00<00:00, 87381.33it/s]\n",
      "Splitting the experimental spectrum into chunks: 131072it [00:00, 3508243.66it/s]\n",
      "Deconvolving chunks: 100%|███████████████████████| 1/1 [01:52<00:00, 112.17s/it]\n"
     ]
    },
    {
     "name": "stdout",
     "output_type": "stream",
     "text": [
      "Estimation for 0.16 and 0.11 done\n",
      "It took: 112.33132100105286 seconds.\n",
      "[0.8542519044900131, 0.10623057932100162]\n"
     ]
    },
    {
     "name": "stderr",
     "output_type": "stream",
     "text": [
      "Initial filtering of formulas: 100%|██████████████| 2/2 [00:00<00:00, 63.52it/s]\n",
      "Computing chunks: 100%|████████████████████████| 2/2 [00:00<00:00, 88301.14it/s]\n",
      "Splitting the experimental spectrum into chunks: 131072it [00:00, 3535498.11it/s]\n",
      "Deconvolving chunks: 100%|███████████████████████| 1/1 [01:59<00:00, 119.29s/it]\n"
     ]
    },
    {
     "name": "stdout",
     "output_type": "stream",
     "text": [
      "Estimation for 0.16 and 0.12 done\n",
      "It took: 119.43771696090698 seconds.\n",
      "[0.8538101068910131, 0.10627130355900162]\n"
     ]
    },
    {
     "name": "stderr",
     "output_type": "stream",
     "text": [
      "Initial filtering of formulas: 100%|██████████████| 2/2 [00:00<00:00, 64.52it/s]\n",
      "Computing chunks: 100%|████████████████████████| 2/2 [00:00<00:00, 91180.52it/s]\n",
      "Splitting the experimental spectrum into chunks: 131072it [00:00, 3472039.65it/s]\n",
      "Deconvolving chunks: 100%|███████████████████████| 1/1 [01:58<00:00, 118.08s/it]\n"
     ]
    },
    {
     "name": "stdout",
     "output_type": "stream",
     "text": [
      "Estimation for 0.16 and 0.13 done\n",
      "It took: 118.21535444259644 seconds.\n",
      "[0.8535969702070131, 0.10617225684700163]\n"
     ]
    },
    {
     "name": "stderr",
     "output_type": "stream",
     "text": [
      "Initial filtering of formulas: 100%|██████████████| 2/2 [00:00<00:00, 63.57it/s]\n",
      "Computing chunks: 100%|████████████████████████| 2/2 [00:00<00:00, 95325.09it/s]\n",
      "Splitting the experimental spectrum into chunks: 131072it [00:00, 3488342.58it/s]\n",
      "Deconvolving chunks: 100%|███████████████████████| 1/1 [02:02<00:00, 122.02s/it]\n"
     ]
    },
    {
     "name": "stdout",
     "output_type": "stream",
     "text": [
      "Estimation for 0.16 and 0.14 done\n",
      "It took: 122.16153311729431 seconds.\n",
      "[0.8521046181000131, 0.10623339491800163]\n"
     ]
    },
    {
     "name": "stderr",
     "output_type": "stream",
     "text": [
      "Initial filtering of formulas: 100%|██████████████| 2/2 [00:00<00:00, 63.53it/s]\n",
      "Computing chunks: 100%|███████████████████████| 2/2 [00:00<00:00, 103563.06it/s]\n",
      "Splitting the experimental spectrum into chunks: 131072it [00:00, 3500447.71it/s]\n",
      "Deconvolving chunks: 100%|███████████████████████| 1/1 [01:59<00:00, 119.37s/it]\n"
     ]
    },
    {
     "name": "stdout",
     "output_type": "stream",
     "text": [
      "Estimation for 0.16 and 0.15000000000000002 done\n",
      "It took: 119.51291275024414 seconds.\n",
      "[0.851204266553013, 0.10635574101000163]\n"
     ]
    },
    {
     "name": "stderr",
     "output_type": "stream",
     "text": [
      "Initial filtering of formulas: 100%|██████████████| 2/2 [00:00<00:00, 63.00it/s]\n",
      "Computing chunks: 100%|████████████████████████| 2/2 [00:00<00:00, 87381.33it/s]\n",
      "Splitting the experimental spectrum into chunks: 131072it [00:00, 3490535.27it/s]\n",
      "Deconvolving chunks: 100%|███████████████████████| 1/1 [02:03<00:00, 123.15s/it]\n"
     ]
    },
    {
     "name": "stdout",
     "output_type": "stream",
     "text": [
      "Estimation for 0.16 and 0.16 done\n",
      "It took: 123.29138684272766 seconds.\n",
      "[0.849204946480013, 0.10666674094600163]\n"
     ]
    },
    {
     "name": "stderr",
     "output_type": "stream",
     "text": [
      "Initial filtering of formulas: 100%|██████████████| 2/2 [00:00<00:00, 60.14it/s]\n",
      "Computing chunks: 100%|████████████████████████| 2/2 [00:00<00:00, 46091.25it/s]\n",
      "Splitting the experimental spectrum into chunks: 131072it [00:00, 3333307.95it/s]\n",
      "Deconvolving chunks: 100%|███████████████████████| 1/1 [02:00<00:00, 120.62s/it]\n"
     ]
    },
    {
     "name": "stdout",
     "output_type": "stream",
     "text": [
      "Estimation for 0.16 and 0.17 done\n",
      "It took: 120.79316425323486 seconds.\n",
      "[0.849218324873013, 0.10658424360700164]\n"
     ]
    },
    {
     "name": "stderr",
     "output_type": "stream",
     "text": [
      "Initial filtering of formulas: 100%|██████████████| 2/2 [00:00<00:00, 58.99it/s]\n",
      "Computing chunks: 100%|████████████████████████| 2/2 [00:00<00:00, 77672.30it/s]\n",
      "Splitting the experimental spectrum into chunks: 131072it [00:00, 3095227.93it/s]\n",
      "Deconvolving chunks: 100%|███████████████████████| 1/1 [02:01<00:00, 121.20s/it]\n"
     ]
    },
    {
     "name": "stdout",
     "output_type": "stream",
     "text": [
      "Estimation for 0.16 and 0.18000000000000002 done\n",
      "It took: 121.36553716659546 seconds.\n",
      "[0.8492715224240129, 0.10654155892700164]\n"
     ]
    },
    {
     "name": "stderr",
     "output_type": "stream",
     "text": [
      "Initial filtering of formulas: 100%|██████████████| 2/2 [00:00<00:00, 64.50it/s]\n",
      "Computing chunks: 100%|████████████████████████| 2/2 [00:00<00:00, 98689.51it/s]\n",
      "Splitting the experimental spectrum into chunks: 131072it [00:00, 3506789.06it/s]\n",
      "Deconvolving chunks: 100%|███████████████████████| 1/1 [02:15<00:00, 135.05s/it]\n"
     ]
    },
    {
     "name": "stdout",
     "output_type": "stream",
     "text": [
      "Estimation for 0.16 and 0.19 done\n",
      "It took: 135.1922574043274 seconds.\n",
      "[0.849490034962013, 0.10640456807500162]\n"
     ]
    },
    {
     "name": "stderr",
     "output_type": "stream",
     "text": [
      "Initial filtering of formulas: 100%|██████████████| 2/2 [00:00<00:00, 64.26it/s]\n",
      "Computing chunks: 100%|████████████████████████| 2/2 [00:00<00:00, 97541.95it/s]\n",
      "Splitting the experimental spectrum into chunks: 131072it [00:00, 3528531.63it/s]\n",
      "Deconvolving chunks: 100%|███████████████████████| 1/1 [01:58<00:00, 118.49s/it]\n"
     ]
    },
    {
     "name": "stdout",
     "output_type": "stream",
     "text": [
      "Estimation for 0.16 and 0.2 done\n",
      "It took: 118.63154602050781 seconds.\n",
      "[0.849876436019013, 0.10620925678300162]\n"
     ]
    },
    {
     "name": "stderr",
     "output_type": "stream",
     "text": [
      "Initial filtering of formulas: 100%|██████████████| 2/2 [00:00<00:00, 55.13it/s]\n",
      "Computing chunks: 100%|████████████████████████| 2/2 [00:00<00:00, 90200.09it/s]\n",
      "Splitting the experimental spectrum into chunks: 131072it [00:00, 3480744.92it/s]\n",
      "Deconvolving chunks: 100%|███████████████████████| 1/1 [02:00<00:00, 120.92s/it]\n"
     ]
    },
    {
     "name": "stdout",
     "output_type": "stream",
     "text": [
      "Estimation for 0.16 and 0.21000000000000002 done\n",
      "It took: 121.0684745311737 seconds.\n",
      "[0.850176121312013, 0.10618357402600162]\n"
     ]
    },
    {
     "name": "stderr",
     "output_type": "stream",
     "text": [
      "Initial filtering of formulas: 100%|██████████████| 2/2 [00:00<00:00, 64.97it/s]\n",
      "Computing chunks: 100%|████████████████████████| 2/2 [00:00<00:00, 62601.55it/s]\n",
      "Splitting the experimental spectrum into chunks: 131072it [00:00, 3521141.45it/s]\n",
      "Deconvolving chunks: 100%|███████████████████████| 1/1 [01:59<00:00, 119.86s/it]\n"
     ]
    },
    {
     "name": "stdout",
     "output_type": "stream",
     "text": [
      "Estimation for 0.16 and 0.22 done\n",
      "It took: 119.99959802627563 seconds.\n",
      "[0.850481754850013, 0.10618283129000163]\n"
     ]
    },
    {
     "name": "stderr",
     "output_type": "stream",
     "text": [
      "Initial filtering of formulas: 100%|██████████████| 2/2 [00:00<00:00, 65.14it/s]\n",
      "Computing chunks: 100%|████████████████████████| 2/2 [00:00<00:00, 99864.38it/s]\n",
      "Splitting the experimental spectrum into chunks: 131072it [00:00, 3531841.25it/s]\n",
      "Deconvolving chunks: 100%|███████████████████████| 1/1 [01:57<00:00, 117.17s/it]\n"
     ]
    },
    {
     "name": "stdout",
     "output_type": "stream",
     "text": [
      "Estimation for 0.16 and 0.23 done\n",
      "It took: 117.30998373031616 seconds.\n",
      "[0.850791862396013, 0.10618662193800163]\n"
     ]
    },
    {
     "name": "stderr",
     "output_type": "stream",
     "text": [
      "Initial filtering of formulas: 100%|██████████████| 2/2 [00:00<00:00, 64.47it/s]\n",
      "Computing chunks: 100%|████████████████████████| 2/2 [00:00<00:00, 99864.38it/s]\n",
      "Splitting the experimental spectrum into chunks: 131072it [00:00, 3509632.24it/s]\n",
      "Deconvolving chunks: 100%|███████████████████████| 1/1 [02:00<00:00, 120.35s/it]\n"
     ]
    },
    {
     "name": "stdout",
     "output_type": "stream",
     "text": [
      "Estimation for 0.16 and 0.24000000000000002 done\n",
      "It took: 120.48431587219238 seconds.\n",
      "[0.850985089522013, 0.10622897259900162]\n"
     ]
    },
    {
     "name": "stderr",
     "output_type": "stream",
     "text": [
      "Initial filtering of formulas: 100%|██████████████| 2/2 [00:00<00:00, 64.30it/s]\n",
      "Computing chunks: 100%|████████████████████████| 2/2 [00:00<00:00, 91180.52it/s]\n",
      "Splitting the experimental spectrum into chunks: 131072it [00:00, 3580118.35it/s]\n",
      "Deconvolving chunks: 100%|███████████████████████| 1/1 [01:59<00:00, 119.25s/it]\n"
     ]
    },
    {
     "name": "stdout",
     "output_type": "stream",
     "text": [
      "Estimation for 0.16 and 0.25 done\n",
      "It took: 119.38964319229126 seconds.\n",
      "[0.849893105025013, 0.10642408281800163]\n"
     ]
    },
    {
     "name": "stderr",
     "output_type": "stream",
     "text": [
      "Initial filtering of formulas: 100%|██████████████| 2/2 [00:00<00:00, 64.56it/s]\n",
      "Computing chunks: 100%|████████████████████████| 2/2 [00:00<00:00, 93206.76it/s]\n",
      "Splitting the experimental spectrum into chunks: 131072it [00:00, 3532703.68it/s]\n",
      "Deconvolving chunks: 100%|███████████████████████| 1/1 [02:05<00:00, 125.33s/it]\n"
     ]
    },
    {
     "name": "stdout",
     "output_type": "stream",
     "text": [
      "Estimation for 0.16 and 0.26 done\n",
      "It took: 125.47216463088989 seconds.\n",
      "[0.848070028701013, 0.10662792156300163]\n"
     ]
    },
    {
     "name": "stderr",
     "output_type": "stream",
     "text": [
      "Initial filtering of formulas: 100%|██████████████| 2/2 [00:00<00:00, 63.95it/s]\n",
      "Computing chunks: 100%|████████████████████████| 2/2 [00:00<00:00, 95325.09it/s]\n",
      "Splitting the experimental spectrum into chunks: 131072it [00:00, 3554379.09it/s]\n",
      "Deconvolving chunks: 100%|███████████████████████| 1/1 [02:07<00:00, 127.61s/it]\n"
     ]
    },
    {
     "name": "stdout",
     "output_type": "stream",
     "text": [
      "Estimation for 0.16 and 0.27 done\n",
      "It took: 127.74893712997437 seconds.\n",
      "[0.848063607793013, 0.10651755687000164]\n"
     ]
    },
    {
     "name": "stderr",
     "output_type": "stream",
     "text": [
      "Initial filtering of formulas: 100%|██████████████| 2/2 [00:00<00:00, 61.21it/s]\n",
      "Computing chunks: 100%|████████████████████████| 2/2 [00:00<00:00, 69905.07it/s]\n",
      "Splitting the experimental spectrum into chunks: 131072it [00:00, 3399472.01it/s]\n",
      "Deconvolving chunks: 100%|███████████████████████| 1/1 [02:04<00:00, 124.06s/it]\n"
     ]
    },
    {
     "name": "stdout",
     "output_type": "stream",
     "text": [
      "Estimation for 0.16 and 0.28 done\n",
      "It took: 124.19886112213135 seconds.\n",
      "[0.8481194424190129, 0.10638119622900162]\n"
     ]
    },
    {
     "name": "stderr",
     "output_type": "stream",
     "text": [
      "Initial filtering of formulas: 100%|██████████████| 2/2 [00:00<00:00, 64.28it/s]\n",
      "Computing chunks: 100%|████████████████████████| 2/2 [00:00<00:00, 76959.71it/s]\n",
      "Splitting the experimental spectrum into chunks: 131072it [00:00, 3504374.85it/s]\n",
      "Deconvolving chunks: 100%|███████████████████████| 1/1 [02:05<00:00, 125.37s/it]\n"
     ]
    },
    {
     "name": "stdout",
     "output_type": "stream",
     "text": [
      "Estimation for 0.16 and 0.29000000000000004 done\n",
      "It took: 125.50416612625122 seconds.\n",
      "[0.848160174989013, 0.10625803827800162]\n"
     ]
    },
    {
     "name": "stderr",
     "output_type": "stream",
     "text": [
      "Initial filtering of formulas: 100%|██████████████| 2/2 [00:00<00:00, 64.74it/s]\n",
      "Computing chunks: 100%|████████████████████████| 2/2 [00:00<00:00, 98689.51it/s]\n",
      "Splitting the experimental spectrum into chunks: 131072it [00:00, 3539618.28it/s]\n",
      "Deconvolving chunks: 100%|███████████████████████| 1/1 [01:49<00:00, 109.42s/it]\n"
     ]
    },
    {
     "name": "stdout",
     "output_type": "stream",
     "text": [
      "Estimation for 0.17 and 0.01 done\n",
      "It took: 109.56166172027588 seconds.\n",
      "[0.7381763679540113, 0.259629472521004]\n"
     ]
    },
    {
     "name": "stderr",
     "output_type": "stream",
     "text": [
      "Initial filtering of formulas: 100%|██████████████| 2/2 [00:00<00:00, 62.88it/s]\n",
      "Computing chunks: 100%|████████████████████████| 2/2 [00:00<00:00, 91180.52it/s]\n",
      "Splitting the experimental spectrum into chunks: 131072it [00:00, 3532567.48it/s]\n",
      "Deconvolving chunks: 100%|███████████████████████| 1/1 [01:56<00:00, 116.90s/it]\n"
     ]
    },
    {
     "name": "stdout",
     "output_type": "stream",
     "text": [
      "Estimation for 0.17 and 0.02 done\n",
      "It took: 117.04156947135925 seconds.\n",
      "[0.8785148106680134, 0.0978909858860015]\n"
     ]
    },
    {
     "name": "stderr",
     "output_type": "stream",
     "text": [
      "Initial filtering of formulas: 100%|██████████████| 2/2 [00:00<00:00, 64.59it/s]\n",
      "Computing chunks: 100%|████████████████████████| 2/2 [00:00<00:00, 66052.03it/s]\n",
      "Splitting the experimental spectrum into chunks: 131072it [00:00, 3545439.27it/s]\n",
      "Deconvolving chunks: 100%|███████████████████████| 1/1 [02:20<00:00, 140.30s/it]\n"
     ]
    },
    {
     "name": "stdout",
     "output_type": "stream",
     "text": [
      "Estimation for 0.17 and 0.03 done\n",
      "It took: 140.44921398162842 seconds.\n",
      "[0.8683635963840133, 0.10283444952300158]\n"
     ]
    },
    {
     "name": "stderr",
     "output_type": "stream",
     "text": [
      "Initial filtering of formulas: 100%|██████████████| 2/2 [00:00<00:00, 62.94it/s]\n",
      "Computing chunks: 100%|████████████████████████| 2/2 [00:00<00:00, 94254.02it/s]\n",
      "Splitting the experimental spectrum into chunks: 131072it [00:00, 3493440.94it/s]\n",
      "Deconvolving chunks: 100%|███████████████████████| 1/1 [02:24<00:00, 144.34s/it]\n"
     ]
    },
    {
     "name": "stdout",
     "output_type": "stream",
     "text": [
      "Estimation for 0.17 and 0.04 done\n",
      "It took: 144.47772359848022 seconds.\n",
      "[0.8617027685340132, 0.10742770356100165]\n"
     ]
    },
    {
     "name": "stderr",
     "output_type": "stream",
     "text": [
      "Initial filtering of formulas: 100%|██████████████| 2/2 [00:00<00:00, 64.48it/s]\n",
      "Computing chunks: 100%|████████████████████████| 2/2 [00:00<00:00, 89240.51it/s]\n",
      "Splitting the experimental spectrum into chunks: 131072it [00:00, 3490845.57it/s]\n",
      "Deconvolving chunks: 100%|███████████████████████| 1/1 [01:56<00:00, 116.89s/it]\n"
     ]
    },
    {
     "name": "stdout",
     "output_type": "stream",
     "text": [
      "Estimation for 0.17 and 0.05 done\n",
      "It took: 117.04280376434326 seconds.\n",
      "[0.8602707908350132, 0.10809441647900166]\n"
     ]
    },
    {
     "name": "stderr",
     "output_type": "stream",
     "text": [
      "Initial filtering of formulas: 100%|██████████████| 2/2 [00:00<00:00, 64.42it/s]\n",
      "Computing chunks: 100%|████████████████████████| 2/2 [00:00<00:00, 94254.02it/s]\n",
      "Splitting the experimental spectrum into chunks: 131072it [00:00, 3513961.83it/s]\n",
      "Deconvolving chunks: 100%|███████████████████████| 1/1 [02:18<00:00, 138.35s/it]\n"
     ]
    },
    {
     "name": "stdout",
     "output_type": "stream",
     "text": [
      "Estimation for 0.17 and 0.060000000000000005 done\n",
      "It took: 138.48907661437988 seconds.\n",
      "[0.8601586251520132, 0.10766673410700166]\n"
     ]
    },
    {
     "name": "stderr",
     "output_type": "stream",
     "text": [
      "Initial filtering of formulas: 100%|██████████████| 2/2 [00:00<00:00, 63.66it/s]\n",
      "Computing chunks: 100%|████████████████████████| 2/2 [00:00<00:00, 90200.09it/s]\n",
      "Splitting the experimental spectrum into chunks: 131072it [00:00, 3535566.32it/s]\n",
      "Deconvolving chunks: 100%|███████████████████████| 1/1 [02:17<00:00, 137.44s/it]\n"
     ]
    },
    {
     "name": "stdout",
     "output_type": "stream",
     "text": [
      "Estimation for 0.17 and 0.06999999999999999 done\n",
      "It took: 137.57498502731323 seconds.\n",
      "[0.8598150932320132, 0.10718975041500164]\n"
     ]
    },
    {
     "name": "stderr",
     "output_type": "stream",
     "text": [
      "Initial filtering of formulas: 100%|██████████████| 2/2 [00:00<00:00, 64.83it/s]\n",
      "Computing chunks: 100%|████████████████████████| 2/2 [00:00<00:00, 88301.14it/s]\n",
      "Splitting the experimental spectrum into chunks: 131072it [00:00, 3519135.41it/s]\n",
      "Deconvolving chunks: 100%|███████████████████████| 1/1 [01:58<00:00, 118.56s/it]\n"
     ]
    },
    {
     "name": "stdout",
     "output_type": "stream",
     "text": [
      "Estimation for 0.17 and 0.08 done\n",
      "It took: 118.69697070121765 seconds.\n",
      "[0.8594158958280133, 0.10675837592000163]\n"
     ]
    },
    {
     "name": "stderr",
     "output_type": "stream",
     "text": [
      "Initial filtering of formulas: 100%|██████████████| 2/2 [00:00<00:00, 62.84it/s]\n",
      "Computing chunks: 100%|████████████████████████| 2/2 [00:00<00:00, 89240.51it/s]\n",
      "Splitting the experimental spectrum into chunks: 131072it [00:00, 3464425.43it/s]\n",
      "Deconvolving chunks: 100%|███████████████████████| 1/1 [01:58<00:00, 118.92s/it]\n"
     ]
    },
    {
     "name": "stdout",
     "output_type": "stream",
     "text": [
      "Estimation for 0.17 and 0.09 done\n",
      "It took: 119.05939102172852 seconds.\n",
      "[0.8581938513280131, 0.10649893565200164]\n"
     ]
    },
    {
     "name": "stderr",
     "output_type": "stream",
     "text": [
      "Initial filtering of formulas: 100%|██████████████| 2/2 [00:00<00:00, 64.46it/s]\n",
      "Computing chunks: 100%|████████████████████████| 2/2 [00:00<00:00, 96420.78it/s]\n",
      "Splitting the experimental spectrum into chunks: 131072it [00:00, 3487922.08it/s]\n",
      "Deconvolving chunks: 100%|███████████████████████| 1/1 [01:58<00:00, 118.41s/it]\n"
     ]
    },
    {
     "name": "stdout",
     "output_type": "stream",
     "text": [
      "Estimation for 0.17 and 0.09999999999999999 done\n",
      "It took: 118.5456154346466 seconds.\n",
      "[0.8563081393240131, 0.10642668784700163]\n"
     ]
    },
    {
     "name": "stderr",
     "output_type": "stream",
     "text": [
      "Initial filtering of formulas: 100%|██████████████| 2/2 [00:00<00:00, 63.66it/s]\n",
      "Computing chunks: 100%|████████████████████████| 2/2 [00:00<00:00, 97541.95it/s]\n",
      "Splitting the experimental spectrum into chunks: 131072it [00:00, 3450898.97it/s]\n",
      "Deconvolving chunks: 100%|███████████████████████| 1/1 [01:59<00:00, 119.20s/it]\n"
     ]
    },
    {
     "name": "stdout",
     "output_type": "stream",
     "text": [
      "Estimation for 0.17 and 0.11 done\n",
      "It took: 119.3627245426178 seconds.\n",
      "[0.8553219951800131, 0.10635143432600162]\n"
     ]
    },
    {
     "name": "stderr",
     "output_type": "stream",
     "text": [
      "Initial filtering of formulas: 100%|██████████████| 2/2 [00:00<00:00, 63.56it/s]\n",
      "Computing chunks: 100%|████████████████████████| 2/2 [00:00<00:00, 92182.51it/s]\n",
      "Splitting the experimental spectrum into chunks: 131072it [00:00, 3536885.60it/s]\n",
      "Deconvolving chunks: 100%|███████████████████████| 1/1 [02:18<00:00, 138.07s/it]\n"
     ]
    },
    {
     "name": "stdout",
     "output_type": "stream",
     "text": [
      "Estimation for 0.17 and 0.12 done\n",
      "It took: 138.21175622940063 seconds.\n",
      "[0.854991392076013, 0.10630540226400162]\n"
     ]
    },
    {
     "name": "stderr",
     "output_type": "stream",
     "text": [
      "Initial filtering of formulas: 100%|██████████████| 2/2 [00:00<00:00, 61.14it/s]\n",
      "Computing chunks: 100%|████████████████████████| 2/2 [00:00<00:00, 44620.26it/s]\n",
      "Splitting the experimental spectrum into chunks: 131072it [00:00, 3660182.92it/s]\n",
      "Deconvolving chunks: 100%|███████████████████████| 1/1 [01:59<00:00, 119.69s/it]\n"
     ]
    },
    {
     "name": "stdout",
     "output_type": "stream",
     "text": [
      "Estimation for 0.17 and 0.13 done\n",
      "It took: 119.8491063117981 seconds.\n",
      "[0.8547675603390131, 0.10629487098800162]\n"
     ]
    },
    {
     "name": "stderr",
     "output_type": "stream",
     "text": [
      "Initial filtering of formulas: 100%|██████████████| 2/2 [00:00<00:00, 64.35it/s]\n",
      "Computing chunks: 100%|████████████████████████| 2/2 [00:00<00:00, 92182.51it/s]\n",
      "Splitting the experimental spectrum into chunks: 131072it [00:00, 3507773.58it/s]\n",
      "Deconvolving chunks: 100%|███████████████████████| 1/1 [02:01<00:00, 121.99s/it]\n"
     ]
    },
    {
     "name": "stdout",
     "output_type": "stream",
     "text": [
      "Estimation for 0.17 and 0.14 done\n",
      "It took: 122.12976408004761 seconds.\n",
      "[0.8534387269880132, 0.10631992370200162]\n"
     ]
    },
    {
     "name": "stderr",
     "output_type": "stream",
     "text": [
      "Initial filtering of formulas: 100%|██████████████| 2/2 [00:00<00:00, 64.17it/s]\n",
      "Computing chunks: 100%|████████████████████████| 2/2 [00:00<00:00, 36157.79it/s]\n",
      "Splitting the experimental spectrum into chunks: 131072it [00:00, 3680225.82it/s]\n",
      "Deconvolving chunks: 100%|███████████████████████| 1/1 [02:00<00:00, 120.49s/it]\n"
     ]
    },
    {
     "name": "stdout",
     "output_type": "stream",
     "text": [
      "Estimation for 0.17 and 0.15000000000000002 done\n",
      "It took: 120.65147686004639 seconds.\n",
      "[0.8528746075230131, 0.10631943600900162]\n"
     ]
    },
    {
     "name": "stderr",
     "output_type": "stream",
     "text": [
      "Initial filtering of formulas: 100%|██████████████| 2/2 [00:00<00:00, 61.42it/s]\n",
      "Computing chunks: 100%|████████████████████████| 2/2 [00:00<00:00, 90200.09it/s]\n",
      "Splitting the experimental spectrum into chunks: 131072it [00:00, 3495373.34it/s]\n",
      "Deconvolving chunks: 100%|███████████████████████| 1/1 [02:11<00:00, 131.79s/it]\n"
     ]
    },
    {
     "name": "stdout",
     "output_type": "stream",
     "text": [
      "Estimation for 0.17 and 0.16 done\n",
      "It took: 131.93354392051697 seconds.\n",
      "[0.850970459272013, 0.10665300584800164]\n"
     ]
    },
    {
     "name": "stderr",
     "output_type": "stream",
     "text": [
      "Initial filtering of formulas: 100%|██████████████| 2/2 [00:00<00:00, 64.79it/s]\n",
      "Computing chunks: 100%|███████████████████████| 2/2 [00:00<00:00, 104857.60it/s]\n",
      "Splitting the experimental spectrum into chunks: 131072it [00:00, 3517761.80it/s]\n",
      "Deconvolving chunks: 100%|███████████████████████| 1/1 [02:01<00:00, 121.06s/it]\n"
     ]
    },
    {
     "name": "stdout",
     "output_type": "stream",
     "text": [
      "Estimation for 0.17 and 0.17 done\n",
      "It took: 121.195805311203 seconds.\n",
      "[0.850460714689013, 0.10668865083300164]\n"
     ]
    },
    {
     "name": "stderr",
     "output_type": "stream",
     "text": [
      "Initial filtering of formulas: 100%|██████████████| 2/2 [00:00<00:00, 64.79it/s]\n",
      "Computing chunks: 100%|████████████████████████| 2/2 [00:00<00:00, 92182.51it/s]\n",
      "Splitting the experimental spectrum into chunks: 131072it [00:00, 3495728.95it/s]\n",
      "Deconvolving chunks: 100%|███████████████████████| 1/1 [02:00<00:00, 120.03s/it]\n"
     ]
    },
    {
     "name": "stdout",
     "output_type": "stream",
     "text": [
      "Estimation for 0.17 and 0.18000000000000002 done\n",
      "It took: 120.16997194290161 seconds.\n",
      "[0.850591723852013, 0.10665282920300163]\n"
     ]
    },
    {
     "name": "stderr",
     "output_type": "stream",
     "text": [
      "Initial filtering of formulas: 100%|██████████████| 2/2 [00:00<00:00, 64.17it/s]\n",
      "Computing chunks: 100%|████████████████████████| 2/2 [00:00<00:00, 95325.09it/s]\n",
      "Splitting the experimental spectrum into chunks: 131072it [00:00, 3488010.59it/s]\n",
      "Deconvolving chunks: 100%|███████████████████████| 1/1 [02:03<00:00, 123.56s/it]\n"
     ]
    },
    {
     "name": "stdout",
     "output_type": "stream",
     "text": [
      "Estimation for 0.17 and 0.19 done\n",
      "It took: 123.69894599914551 seconds.\n",
      "[0.850806223339013, 0.10660754755300164]\n"
     ]
    },
    {
     "name": "stderr",
     "output_type": "stream",
     "text": [
      "Initial filtering of formulas: 100%|██████████████| 2/2 [00:00<00:00, 64.37it/s]\n",
      "Computing chunks: 100%|████████████████████████| 2/2 [00:00<00:00, 95325.09it/s]\n",
      "Splitting the experimental spectrum into chunks: 131072it [00:00, 3501227.97it/s]\n",
      "Deconvolving chunks: 100%|███████████████████████| 1/1 [01:57<00:00, 117.55s/it]\n"
     ]
    },
    {
     "name": "stdout",
     "output_type": "stream",
     "text": [
      "Estimation for 0.17 and 0.2 done\n",
      "It took: 117.688955783844 seconds.\n",
      "[0.851227923836013, 0.10646479347200163]\n"
     ]
    },
    {
     "name": "stderr",
     "output_type": "stream",
     "text": [
      "Initial filtering of formulas: 100%|██████████████| 2/2 [00:00<00:00, 64.21it/s]\n",
      "Computing chunks: 100%|████████████████████████| 2/2 [00:00<00:00, 95325.09it/s]\n",
      "Splitting the experimental spectrum into chunks: 131072it [00:00, 3494662.32it/s]\n",
      "Deconvolving chunks: 100%|███████████████████████| 1/1 [01:58<00:00, 118.75s/it]\n"
     ]
    },
    {
     "name": "stdout",
     "output_type": "stream",
     "text": [
      "Estimation for 0.17 and 0.21000000000000002 done\n",
      "It took: 118.90640568733215 seconds.\n",
      "[0.8516619854600131, 0.10633280374400163]\n"
     ]
    },
    {
     "name": "stderr",
     "output_type": "stream",
     "text": [
      "Initial filtering of formulas: 100%|██████████████| 2/2 [00:00<00:00, 64.90it/s]\n",
      "Computing chunks: 100%|████████████████████████| 2/2 [00:00<00:00, 87381.33it/s]\n",
      "Splitting the experimental spectrum into chunks: 131072it [00:00, 3108898.30it/s]\n",
      "Deconvolving chunks: 100%|███████████████████████| 1/1 [01:56<00:00, 116.98s/it]\n"
     ]
    },
    {
     "name": "stdout",
     "output_type": "stream",
     "text": [
      "Estimation for 0.17 and 0.22 done\n",
      "It took: 117.12055516242981 seconds.\n",
      "[0.851995129969013, 0.10630183011500162]\n"
     ]
    },
    {
     "name": "stderr",
     "output_type": "stream",
     "text": [
      "Initial filtering of formulas: 100%|██████████████| 2/2 [00:00<00:00, 63.76it/s]\n",
      "Computing chunks: 100%|████████████████████████| 2/2 [00:00<00:00, 89240.51it/s]\n",
      "Splitting the experimental spectrum into chunks: 131072it [00:00, 3513804.61it/s]\n",
      "Deconvolving chunks: 100%|███████████████████████| 1/1 [01:57<00:00, 117.34s/it]\n"
     ]
    },
    {
     "name": "stdout",
     "output_type": "stream",
     "text": [
      "Estimation for 0.17 and 0.23 done\n",
      "It took: 117.47615313529968 seconds.\n",
      "[0.852240981610013, 0.10629040527700162]\n"
     ]
    },
    {
     "name": "stderr",
     "output_type": "stream",
     "text": [
      "Initial filtering of formulas: 100%|██████████████| 2/2 [00:00<00:00, 62.50it/s]\n",
      "Computing chunks: 100%|████████████████████████| 2/2 [00:00<00:00, 93206.76it/s]\n",
      "Splitting the experimental spectrum into chunks: 131072it [00:00, 3478652.56it/s]\n",
      "Deconvolving chunks: 100%|███████████████████████| 1/1 [01:58<00:00, 118.44s/it]\n"
     ]
    },
    {
     "name": "stdout",
     "output_type": "stream",
     "text": [
      "Estimation for 0.17 and 0.24000000000000002 done\n",
      "It took: 118.6056637763977 seconds.\n",
      "[0.8524245068890131, 0.10627134835100162]\n"
     ]
    },
    {
     "name": "stderr",
     "output_type": "stream",
     "text": [
      "Initial filtering of formulas: 100%|██████████████| 2/2 [00:00<00:00, 64.09it/s]\n",
      "Computing chunks: 100%|████████████████████████| 2/2 [00:00<00:00, 96420.78it/s]\n",
      "Splitting the experimental spectrum into chunks: 131072it [00:00, 3529664.37it/s]\n",
      "Deconvolving chunks: 100%|███████████████████████| 1/1 [01:59<00:00, 119.96s/it]\n"
     ]
    },
    {
     "name": "stdout",
     "output_type": "stream",
     "text": [
      "Estimation for 0.17 and 0.25 done\n",
      "It took: 120.11888194084167 seconds.\n",
      "[0.8517373873300131, 0.10639192773500163]\n"
     ]
    },
    {
     "name": "stderr",
     "output_type": "stream",
     "text": [
      "Initial filtering of formulas: 100%|██████████████| 2/2 [00:00<00:00, 64.32it/s]\n",
      "Computing chunks: 100%|███████████████████████| 2/2 [00:00<00:00, 103563.06it/s]\n",
      "Splitting the experimental spectrum into chunks: 131072it [00:00, 3507124.63it/s]\n",
      "Deconvolving chunks: 100%|███████████████████████| 1/1 [01:59<00:00, 119.37s/it]\n"
     ]
    },
    {
     "name": "stdout",
     "output_type": "stream",
     "text": [
      "Estimation for 0.17 and 0.26 done\n",
      "It took: 119.50951862335205 seconds.\n",
      "[0.849010566794013, 0.10673748632100163]\n"
     ]
    },
    {
     "name": "stderr",
     "output_type": "stream",
     "text": [
      "Initial filtering of formulas: 100%|██████████████| 2/2 [00:00<00:00, 58.06it/s]\n",
      "Computing chunks: 100%|████████████████████████| 2/2 [00:00<00:00, 91180.52it/s]\n",
      "Splitting the experimental spectrum into chunks: 131072it [00:00, 2937828.32it/s]\n",
      "Deconvolving chunks: 100%|███████████████████████| 1/1 [02:00<00:00, 120.74s/it]\n"
     ]
    },
    {
     "name": "stdout",
     "output_type": "stream",
     "text": [
      "Estimation for 0.17 and 0.27 done\n",
      "It took: 120.9147720336914 seconds.\n",
      "[0.848984536145013, 0.10663263099800163]\n"
     ]
    },
    {
     "name": "stderr",
     "output_type": "stream",
     "text": [
      "Initial filtering of formulas: 100%|██████████████| 2/2 [00:00<00:00, 63.50it/s]\n",
      "Computing chunks: 100%|████████████████████████| 2/2 [00:00<00:00, 92182.51it/s]\n",
      "Splitting the experimental spectrum into chunks: 131072it [00:00, 3528395.75it/s]\n",
      "Deconvolving chunks: 100%|███████████████████████| 1/1 [01:59<00:00, 119.87s/it]\n"
     ]
    },
    {
     "name": "stdout",
     "output_type": "stream",
     "text": [
      "Estimation for 0.17 and 0.28 done\n",
      "It took: 120.00449562072754 seconds.\n",
      "[0.849070481582013, 0.10649578112200164]\n"
     ]
    },
    {
     "name": "stderr",
     "output_type": "stream",
     "text": [
      "Initial filtering of formulas: 100%|██████████████| 2/2 [00:00<00:00, 63.28it/s]\n",
      "Computing chunks: 100%|████████████████████████| 2/2 [00:00<00:00, 94254.02it/s]\n",
      "Splitting the experimental spectrum into chunks: 131072it [00:00, 3441092.46it/s]\n",
      "Deconvolving chunks: 100%|███████████████████████| 1/1 [02:02<00:00, 122.18s/it]\n"
     ]
    },
    {
     "name": "stdout",
     "output_type": "stream",
     "text": [
      "Estimation for 0.17 and 0.29000000000000004 done\n",
      "It took: 122.31597185134888 seconds.\n",
      "[0.849133888423013, 0.10637205162300162]\n"
     ]
    },
    {
     "name": "stderr",
     "output_type": "stream",
     "text": [
      "Initial filtering of formulas: 100%|██████████████| 2/2 [00:00<00:00, 64.61it/s]\n",
      "Computing chunks: 100%|████████████████████████| 2/2 [00:00<00:00, 95325.09it/s]\n",
      "Splitting the experimental spectrum into chunks: 131072it [00:00, 3509206.59it/s]\n",
      "Deconvolving chunks: 100%|███████████████████████| 1/1 [01:45<00:00, 105.75s/it]\n"
     ]
    },
    {
     "name": "stdout",
     "output_type": "stream",
     "text": [
      "Estimation for 0.18000000000000002 and 0.01 done\n",
      "It took: 105.88973641395569 seconds.\n",
      "[0.7355776405620114, 0.262664354452004]\n"
     ]
    },
    {
     "name": "stderr",
     "output_type": "stream",
     "text": [
      "Initial filtering of formulas: 100%|██████████████| 2/2 [00:00<00:00, 63.19it/s]\n",
      "Computing chunks: 100%|████████████████████████| 2/2 [00:00<00:00, 95325.09it/s]\n",
      "Splitting the experimental spectrum into chunks: 131072it [00:00, 3417689.20it/s]\n",
      "Deconvolving chunks: 100%|███████████████████████| 1/1 [02:29<00:00, 149.06s/it]\n"
     ]
    },
    {
     "name": "stdout",
     "output_type": "stream",
     "text": [
      "Estimation for 0.18000000000000002 and 0.02 done\n",
      "It took: 149.20027375221252 seconds.\n",
      "[0.8791921167980135, 0.09843694545300151]\n"
     ]
    },
    {
     "name": "stderr",
     "output_type": "stream",
     "text": [
      "Initial filtering of formulas: 100%|██████████████| 2/2 [00:00<00:00, 65.93it/s]\n",
      "Computing chunks: 100%|████████████████████████| 2/2 [00:00<00:00, 79137.81it/s]\n",
      "Splitting the experimental spectrum into chunks: 131072it [00:00, 3580654.66it/s]\n",
      "Deconvolving chunks: 100%|███████████████████████| 1/1 [02:26<00:00, 146.07s/it]\n"
     ]
    },
    {
     "name": "stdout",
     "output_type": "stream",
     "text": [
      "Estimation for 0.18000000000000002 and 0.03 done\n",
      "It took: 146.20869207382202 seconds.\n",
      "[0.8694617501980133, 0.10293916432500158]\n"
     ]
    },
    {
     "name": "stderr",
     "output_type": "stream",
     "text": [
      "Initial filtering of formulas: 100%|██████████████| 2/2 [00:00<00:00, 64.39it/s]\n",
      "Computing chunks: 100%|████████████████████████| 2/2 [00:00<00:00, 51150.05it/s]\n",
      "Splitting the experimental spectrum into chunks: 131072it [00:00, 3548368.41it/s]\n",
      "Deconvolving chunks: 100%|███████████████████████| 1/1 [01:52<00:00, 112.49s/it]\n"
     ]
    },
    {
     "name": "stdout",
     "output_type": "stream",
     "text": [
      "Estimation for 0.18000000000000002 and 0.04 done\n",
      "It took: 112.628000497818 seconds.\n",
      "[0.8626092374290132, 0.10771769415800166]\n"
     ]
    },
    {
     "name": "stderr",
     "output_type": "stream",
     "text": [
      "Initial filtering of formulas: 100%|██████████████| 2/2 [00:00<00:00, 64.51it/s]\n",
      "Computing chunks: 100%|████████████████████████| 2/2 [00:00<00:00, 94254.02it/s]\n",
      "Splitting the experimental spectrum into chunks: 131072it [00:00, 3450963.96it/s]\n",
      "Deconvolving chunks: 100%|███████████████████████| 1/1 [01:57<00:00, 117.90s/it]\n"
     ]
    },
    {
     "name": "stdout",
     "output_type": "stream",
     "text": [
      "Estimation for 0.18000000000000002 and 0.05 done\n",
      "It took: 118.0362753868103 seconds.\n",
      "[0.8612582578240132, 0.10840364639900167]\n"
     ]
    },
    {
     "name": "stderr",
     "output_type": "stream",
     "text": [
      "Initial filtering of formulas: 100%|██████████████| 2/2 [00:00<00:00, 64.47it/s]\n",
      "Computing chunks: 100%|████████████████████████| 2/2 [00:00<00:00, 99864.38it/s]\n",
      "Splitting the experimental spectrum into chunks: 131072it [00:00, 3513871.99it/s]\n",
      "Deconvolving chunks: 100%|███████████████████████| 1/1 [01:56<00:00, 116.14s/it]\n"
     ]
    },
    {
     "name": "stdout",
     "output_type": "stream",
     "text": [
      "Estimation for 0.18000000000000002 and 0.060000000000000005 done\n",
      "It took: 116.3080108165741 seconds.\n",
      "[0.8611769415010132, 0.10800634445400165]\n"
     ]
    },
    {
     "name": "stderr",
     "output_type": "stream",
     "text": [
      "Initial filtering of formulas: 100%|██████████████| 2/2 [00:00<00:00, 64.37it/s]\n",
      "Computing chunks: 100%|████████████████████████| 2/2 [00:00<00:00, 87381.33it/s]\n",
      "Splitting the experimental spectrum into chunks: 131072it [00:00, 3528078.74it/s]\n",
      "Deconvolving chunks: 100%|███████████████████████| 1/1 [01:55<00:00, 115.16s/it]\n"
     ]
    },
    {
     "name": "stdout",
     "output_type": "stream",
     "text": [
      "Estimation for 0.18000000000000002 and 0.06999999999999999 done\n",
      "It took: 115.3273754119873 seconds.\n",
      "[0.8610848284130133, 0.10743112039000165]\n"
     ]
    },
    {
     "name": "stderr",
     "output_type": "stream",
     "text": [
      "Initial filtering of formulas: 100%|██████████████| 2/2 [00:00<00:00, 64.21it/s]\n",
      "Computing chunks: 100%|████████████████████████| 2/2 [00:00<00:00, 93206.76it/s]\n",
      "Splitting the experimental spectrum into chunks: 131072it [00:00, 3476782.57it/s]\n",
      "Deconvolving chunks: 100%|███████████████████████| 1/1 [02:14<00:00, 134.89s/it]\n"
     ]
    },
    {
     "name": "stdout",
     "output_type": "stream",
     "text": [
      "Estimation for 0.18000000000000002 and 0.08 done\n",
      "It took: 135.03025341033936 seconds.\n",
      "[0.8606523232100132, 0.10690160184400163]\n"
     ]
    },
    {
     "name": "stderr",
     "output_type": "stream",
     "text": [
      "Initial filtering of formulas: 100%|██████████████| 2/2 [00:00<00:00, 64.87it/s]\n",
      "Computing chunks: 100%|████████████████████████| 2/2 [00:00<00:00, 95325.09it/s]\n",
      "Splitting the experimental spectrum into chunks: 131072it [00:00, 3541145.87it/s]\n",
      "Deconvolving chunks: 100%|███████████████████████| 1/1 [02:20<00:00, 140.18s/it]\n"
     ]
    },
    {
     "name": "stdout",
     "output_type": "stream",
     "text": [
      "Estimation for 0.18000000000000002 and 0.09 done\n",
      "It took: 140.33677053451538 seconds.\n",
      "[0.8595273597220132, 0.10685468954800163]\n"
     ]
    },
    {
     "name": "stderr",
     "output_type": "stream",
     "text": [
      "Initial filtering of formulas: 100%|██████████████| 2/2 [00:00<00:00, 65.23it/s]\n",
      "Computing chunks: 100%|████████████████████████| 2/2 [00:00<00:00, 97541.95it/s]\n",
      "Splitting the experimental spectrum into chunks: 131072it [00:00, 3539458.76it/s]\n",
      "Deconvolving chunks: 100%|███████████████████████| 1/1 [02:16<00:00, 136.19s/it]\n"
     ]
    },
    {
     "name": "stdout",
     "output_type": "stream",
     "text": [
      "Estimation for 0.18000000000000002 and 0.09999999999999999 done\n",
      "It took: 136.3279583454132 seconds.\n",
      "[0.8579911080090131, 0.10673067711700164]\n"
     ]
    },
    {
     "name": "stderr",
     "output_type": "stream",
     "text": [
      "Initial filtering of formulas: 100%|██████████████| 2/2 [00:00<00:00, 64.80it/s]\n",
      "Computing chunks: 100%|████████████████████████| 2/2 [00:00<00:00, 92182.51it/s]\n",
      "Splitting the experimental spectrum into chunks: 131072it [00:00, 3509878.72it/s]\n",
      "Deconvolving chunks: 100%|███████████████████████| 1/1 [01:54<00:00, 114.84s/it]\n"
     ]
    },
    {
     "name": "stdout",
     "output_type": "stream",
     "text": [
      "Estimation for 0.18000000000000002 and 0.11 done\n",
      "It took: 114.9888265132904 seconds.\n",
      "[0.8566231137530131, 0.10660682879800164]\n"
     ]
    },
    {
     "name": "stderr",
     "output_type": "stream",
     "text": [
      "Initial filtering of formulas: 100%|██████████████| 2/2 [00:00<00:00, 63.02it/s]\n",
      "Computing chunks: 100%|████████████████████████| 2/2 [00:00<00:00, 91180.52it/s]\n",
      "Splitting the experimental spectrum into chunks: 131072it [00:00, 3528146.67it/s]\n",
      "Deconvolving chunks: 100%|███████████████████████| 1/1 [01:56<00:00, 116.40s/it]\n"
     ]
    },
    {
     "name": "stdout",
     "output_type": "stream",
     "text": [
      "Estimation for 0.18000000000000002 and 0.12 done\n",
      "It took: 116.5432801246643 seconds.\n",
      "[0.8561179819230131, 0.10641903744500163]\n"
     ]
    },
    {
     "name": "stderr",
     "output_type": "stream",
     "text": [
      "Initial filtering of formulas: 100%|██████████████| 2/2 [00:00<00:00, 59.40it/s]\n",
      "Computing chunks: 100%|████████████████████████| 2/2 [00:00<00:00, 99864.38it/s]\n",
      "Splitting the experimental spectrum into chunks: 131072it [00:00, 3510058.00it/s]\n",
      "Deconvolving chunks: 100%|███████████████████████| 1/1 [01:55<00:00, 115.90s/it]\n"
     ]
    },
    {
     "name": "stdout",
     "output_type": "stream",
     "text": [
      "Estimation for 0.18000000000000002 and 0.13 done\n",
      "It took: 116.03680086135864 seconds.\n",
      "[0.8559031017780131, 0.10634832806800162]\n"
     ]
    },
    {
     "name": "stderr",
     "output_type": "stream",
     "text": [
      "Initial filtering of formulas: 100%|██████████████| 2/2 [00:00<00:00, 63.93it/s]\n",
      "Computing chunks: 100%|███████████████████████| 2/2 [00:00<00:00, 101067.57it/s]\n",
      "Splitting the experimental spectrum into chunks: 131072it [00:00, 3489361.06it/s]\n",
      "Deconvolving chunks: 100%|███████████████████████| 1/1 [01:58<00:00, 118.17s/it]\n"
     ]
    },
    {
     "name": "stdout",
     "output_type": "stream",
     "text": [
      "Estimation for 0.18000000000000002 and 0.14 done\n",
      "It took: 118.30829334259033 seconds.\n",
      "[0.8557432053110131, 0.10635503737400162]\n"
     ]
    },
    {
     "name": "stderr",
     "output_type": "stream",
     "text": [
      "Initial filtering of formulas: 100%|██████████████| 2/2 [00:00<00:00, 63.40it/s]\n",
      "Computing chunks: 100%|████████████████████████| 2/2 [00:00<00:00, 93206.76it/s]\n",
      "Splitting the experimental spectrum into chunks: 131072it [00:00, 3438079.66it/s]\n",
      "Deconvolving chunks: 100%|███████████████████████| 1/1 [02:00<00:00, 120.08s/it]\n"
     ]
    },
    {
     "name": "stdout",
     "output_type": "stream",
     "text": [
      "Estimation for 0.18000000000000002 and 0.15000000000000002 done\n",
      "It took: 120.22118759155273 seconds.\n",
      "[0.8542184021870131, 0.10635751813400163]\n"
     ]
    },
    {
     "name": "stderr",
     "output_type": "stream",
     "text": [
      "Initial filtering of formulas: 100%|██████████████| 2/2 [00:00<00:00, 63.23it/s]\n",
      "Computing chunks: 100%|████████████████████████| 2/2 [00:00<00:00, 81442.80it/s]\n",
      "Splitting the experimental spectrum into chunks: 131072it [00:00, 3473136.40it/s]\n",
      "Deconvolving chunks: 100%|███████████████████████| 1/1 [02:02<00:00, 122.07s/it]\n"
     ]
    },
    {
     "name": "stdout",
     "output_type": "stream",
     "text": [
      "Estimation for 0.18000000000000002 and 0.16 done\n",
      "It took: 122.23360538482666 seconds.\n",
      "[0.8537963976620131, 0.10641661524000162]\n"
     ]
    },
    {
     "name": "stderr",
     "output_type": "stream",
     "text": [
      "Initial filtering of formulas: 100%|██████████████| 2/2 [00:00<00:00, 63.97it/s]\n",
      "Computing chunks: 100%|████████████████████████| 2/2 [00:00<00:00, 64035.18it/s]\n",
      "Splitting the experimental spectrum into chunks: 131072it [00:00, 3483391.50it/s]\n",
      "Deconvolving chunks: 100%|███████████████████████| 1/1 [02:00<00:00, 120.11s/it]\n"
     ]
    },
    {
     "name": "stdout",
     "output_type": "stream",
     "text": [
      "Estimation for 0.18000000000000002 and 0.17 done\n",
      "It took: 120.27036499977112 seconds.\n",
      "[0.8517682274870131, 0.10674064466500163]\n"
     ]
    },
    {
     "name": "stderr",
     "output_type": "stream",
     "text": [
      "Initial filtering of formulas: 100%|██████████████| 2/2 [00:00<00:00, 64.59it/s]\n",
      "Computing chunks: 100%|████████████████████████| 2/2 [00:00<00:00, 93206.76it/s]\n",
      "Splitting the experimental spectrum into chunks: 131072it [00:00, 3538570.26it/s]\n",
      "Deconvolving chunks: 100%|███████████████████████| 1/1 [01:59<00:00, 119.69s/it]\n"
     ]
    },
    {
     "name": "stdout",
     "output_type": "stream",
     "text": [
      "Estimation for 0.18000000000000002 and 0.18000000000000002 done\n",
      "It took: 119.82614636421204 seconds.\n",
      "[0.8519632474060131, 0.10671361159000163]\n"
     ]
    },
    {
     "name": "stderr",
     "output_type": "stream",
     "text": [
      "Initial filtering of formulas: 100%|██████████████| 2/2 [00:00<00:00, 62.77it/s]\n",
      "Computing chunks: 100%|████████████████████████| 2/2 [00:00<00:00, 82241.25it/s]\n",
      "Splitting the experimental spectrum into chunks: 131072it [00:00, 3437155.36it/s]\n",
      "Deconvolving chunks: 100%|███████████████████████| 1/1 [02:20<00:00, 140.48s/it]\n"
     ]
    },
    {
     "name": "stdout",
     "output_type": "stream",
     "text": [
      "Estimation for 0.18000000000000002 and 0.19 done\n",
      "It took: 140.62014865875244 seconds.\n",
      "[0.8522428211780131, 0.10672298347200164]\n"
     ]
    },
    {
     "name": "stderr",
     "output_type": "stream",
     "text": [
      "Initial filtering of formulas: 100%|██████████████| 2/2 [00:00<00:00, 63.89it/s]\n",
      "Computing chunks: 100%|████████████████████████| 2/2 [00:00<00:00, 71697.50it/s]\n",
      "Splitting the experimental spectrum into chunks: 131072it [00:00, 3527716.51it/s]\n",
      "Deconvolving chunks: 100%|███████████████████████| 1/1 [02:01<00:00, 121.42s/it]\n"
     ]
    },
    {
     "name": "stdout",
     "output_type": "stream",
     "text": [
      "Estimation for 0.18000000000000002 and 0.2 done\n",
      "It took: 121.55489730834961 seconds.\n",
      "[0.8525757532710131, 0.10671885441700164]\n"
     ]
    },
    {
     "name": "stderr",
     "output_type": "stream",
     "text": [
      "Initial filtering of formulas: 100%|██████████████| 2/2 [00:00<00:00, 63.98it/s]\n",
      "Computing chunks: 100%|████████████████████████| 2/2 [00:00<00:00, 76959.71it/s]\n",
      "Splitting the experimental spectrum into chunks: 131072it [00:00, 3519586.00it/s]\n",
      "Deconvolving chunks: 100%|███████████████████████| 1/1 [02:00<00:00, 120.18s/it]\n"
     ]
    },
    {
     "name": "stdout",
     "output_type": "stream",
     "text": [
      "Estimation for 0.18000000000000002 and 0.21000000000000002 done\n",
      "It took: 120.31436395645142 seconds.\n",
      "[0.8530617831050131, 0.10655750306500164]\n"
     ]
    },
    {
     "name": "stderr",
     "output_type": "stream",
     "text": [
      "Initial filtering of formulas: 100%|██████████████| 2/2 [00:00<00:00, 62.37it/s]\n",
      "Computing chunks: 100%|████████████████████████| 2/2 [00:00<00:00, 70492.50it/s]\n",
      "Splitting the experimental spectrum into chunks: 131072it [00:00, 3531251.41it/s]\n",
      "Deconvolving chunks: 100%|███████████████████████| 1/1 [01:58<00:00, 118.14s/it]\n"
     ]
    },
    {
     "name": "stdout",
     "output_type": "stream",
     "text": [
      "Estimation for 0.18000000000000002 and 0.22 done\n",
      "It took: 118.28965425491333 seconds.\n",
      "[0.8533887543400132, 0.10642780448700162]\n"
     ]
    },
    {
     "name": "stderr",
     "output_type": "stream",
     "text": [
      "Initial filtering of formulas: 100%|██████████████| 2/2 [00:00<00:00, 63.81it/s]\n",
      "Computing chunks: 100%|████████████████████████| 2/2 [00:00<00:00, 94254.02it/s]\n",
      "Splitting the experimental spectrum into chunks: 131072it [00:00, 3518707.45it/s]\n",
      "Deconvolving chunks: 100%|███████████████████████| 1/1 [01:53<00:00, 113.33s/it]\n"
     ]
    },
    {
     "name": "stdout",
     "output_type": "stream",
     "text": [
      "Estimation for 0.18000000000000002 and 0.23 done\n",
      "It took: 113.4953248500824 seconds.\n",
      "[0.8534837951190131, 0.10639884568900163]\n"
     ]
    },
    {
     "name": "stderr",
     "output_type": "stream",
     "text": [
      "Initial filtering of formulas: 100%|██████████████| 2/2 [00:00<00:00, 64.44it/s]\n",
      "Computing chunks: 100%|████████████████████████| 2/2 [00:00<00:00, 94254.02it/s]\n",
      "Splitting the experimental spectrum into chunks: 131072it [00:00, 3485600.07it/s]\n",
      "Deconvolving chunks: 100%|███████████████████████| 1/1 [01:56<00:00, 116.15s/it]\n"
     ]
    },
    {
     "name": "stdout",
     "output_type": "stream",
     "text": [
      "Estimation for 0.18000000000000002 and 0.24000000000000002 done\n",
      "It took: 116.28575563430786 seconds.\n",
      "[0.853453780341013, 0.10635714733500162]\n"
     ]
    },
    {
     "name": "stderr",
     "output_type": "stream",
     "text": [
      "Initial filtering of formulas: 100%|██████████████| 2/2 [00:00<00:00, 64.30it/s]\n",
      "Computing chunks: 100%|████████████████████████| 2/2 [00:00<00:00, 97541.95it/s]\n",
      "Splitting the experimental spectrum into chunks: 131072it [00:00, 3510663.20it/s]\n",
      "Deconvolving chunks: 100%|███████████████████████| 1/1 [01:58<00:00, 118.87s/it]\n"
     ]
    },
    {
     "name": "stdout",
     "output_type": "stream",
     "text": [
      "Estimation for 0.18000000000000002 and 0.25 done\n",
      "It took: 119.00872373580933 seconds.\n",
      "[0.853279684694013, 0.10630101399000162]\n"
     ]
    },
    {
     "name": "stderr",
     "output_type": "stream",
     "text": [
      "Initial filtering of formulas: 100%|██████████████| 2/2 [00:00<00:00, 63.71it/s]\n",
      "Computing chunks: 100%|████████████████████████| 2/2 [00:00<00:00, 94254.02it/s]\n",
      "Splitting the experimental spectrum into chunks: 131072it [00:00, 3520487.54it/s]\n",
      "Deconvolving chunks: 100%|███████████████████████| 1/1 [01:57<00:00, 117.24s/it]\n"
     ]
    },
    {
     "name": "stdout",
     "output_type": "stream",
     "text": [
      "Estimation for 0.18000000000000002 and 0.26 done\n",
      "It took: 117.37614607810974 seconds.\n",
      "[0.8516109683970131, 0.10653111178300163]\n"
     ]
    },
    {
     "name": "stderr",
     "output_type": "stream",
     "text": [
      "Initial filtering of formulas: 100%|██████████████| 2/2 [00:00<00:00, 64.90it/s]\n",
      "Computing chunks: 100%|███████████████████████| 2/2 [00:00<00:00, 101067.57it/s]\n",
      "Splitting the experimental spectrum into chunks: 131072it [00:00, 3490690.41it/s]\n",
      "Deconvolving chunks: 100%|███████████████████████| 1/1 [02:03<00:00, 123.27s/it]\n"
     ]
    },
    {
     "name": "stdout",
     "output_type": "stream",
     "text": [
      "Estimation for 0.18000000000000002 and 0.27 done\n",
      "It took: 123.41310238838196 seconds.\n",
      "[0.849990392173013, 0.10672915132900164]\n"
     ]
    },
    {
     "name": "stderr",
     "output_type": "stream",
     "text": [
      "Initial filtering of formulas: 100%|██████████████| 2/2 [00:00<00:00, 63.61it/s]\n",
      "Computing chunks: 100%|████████████████████████| 2/2 [00:00<00:00, 99864.38it/s]\n",
      "Splitting the experimental spectrum into chunks: 131072it [00:00, 3495151.11it/s]\n",
      "Deconvolving chunks: 100%|███████████████████████| 1/1 [02:00<00:00, 120.02s/it]\n"
     ]
    },
    {
     "name": "stdout",
     "output_type": "stream",
     "text": [
      "Estimation for 0.18000000000000002 and 0.28 done\n",
      "It took: 120.16103506088257 seconds.\n",
      "[0.849982077365013, 0.10662629299700163]\n"
     ]
    },
    {
     "name": "stderr",
     "output_type": "stream",
     "text": [
      "Initial filtering of formulas: 100%|██████████████| 2/2 [00:00<00:00, 63.40it/s]\n",
      "Computing chunks: 100%|████████████████████████| 2/2 [00:00<00:00, 88301.14it/s]\n",
      "Splitting the experimental spectrum into chunks: 131072it [00:00, 3454997.92it/s]\n",
      "Deconvolving chunks: 100%|███████████████████████| 1/1 [01:58<00:00, 118.60s/it]\n"
     ]
    },
    {
     "name": "stdout",
     "output_type": "stream",
     "text": [
      "Estimation for 0.18000000000000002 and 0.29000000000000004 done\n",
      "It took: 118.7388322353363 seconds.\n",
      "[0.850071194712013, 0.10647818478400163]\n"
     ]
    },
    {
     "name": "stderr",
     "output_type": "stream",
     "text": [
      "Initial filtering of formulas: 100%|██████████████| 2/2 [00:00<00:00, 63.02it/s]\n",
      "Computing chunks: 100%|████████████████████████| 2/2 [00:00<00:00, 98689.51it/s]\n",
      "Splitting the experimental spectrum into chunks: 131072it [00:00, 3523533.65it/s]\n",
      "Deconvolving chunks: 100%|███████████████████████| 1/1 [01:54<00:00, 114.31s/it]\n"
     ]
    },
    {
     "name": "stdout",
     "output_type": "stream",
     "text": [
      "Estimation for 0.19 and 0.01 done\n",
      "It took: 114.47187948226929 seconds.\n",
      "[0.7312120217260112, 0.2672722927750041]\n"
     ]
    },
    {
     "name": "stderr",
     "output_type": "stream",
     "text": [
      "Initial filtering of formulas: 100%|██████████████| 2/2 [00:00<00:00, 63.70it/s]\n",
      "Computing chunks: 100%|████████████████████████| 2/2 [00:00<00:00, 91180.52it/s]\n",
      "Splitting the experimental spectrum into chunks: 131072it [00:00, 3448150.12it/s]\n",
      "Deconvolving chunks: 100%|███████████████████████| 1/1 [02:16<00:00, 136.04s/it]\n"
     ]
    },
    {
     "name": "stdout",
     "output_type": "stream",
     "text": [
      "Estimation for 0.19 and 0.02 done\n",
      "It took: 136.18318724632263 seconds.\n",
      "[0.8791826863890134, 0.09971384368000152]\n"
     ]
    },
    {
     "name": "stderr",
     "output_type": "stream",
     "text": [
      "Initial filtering of formulas: 100%|██████████████| 2/2 [00:00<00:00, 62.71it/s]\n",
      "Computing chunks: 100%|████████████████████████| 2/2 [00:00<00:00, 93206.76it/s]\n",
      "Splitting the experimental spectrum into chunks: 131072it [00:00, 3492420.08it/s]\n",
      "Deconvolving chunks: 100%|███████████████████████| 1/1 [01:54<00:00, 114.11s/it]\n"
     ]
    },
    {
     "name": "stdout",
     "output_type": "stream",
     "text": [
      "Estimation for 0.19 and 0.03 done\n",
      "It took: 114.25373721122742 seconds.\n",
      "[0.8704929028300133, 0.10290800717300158]\n"
     ]
    },
    {
     "name": "stderr",
     "output_type": "stream",
     "text": [
      "Initial filtering of formulas: 100%|██████████████| 2/2 [00:00<00:00, 64.68it/s]\n",
      "Computing chunks: 100%|████████████████████████| 2/2 [00:00<00:00, 92182.51it/s]\n",
      "Splitting the experimental spectrum into chunks: 131072it [00:00, 3527580.70it/s]\n",
      "Deconvolving chunks: 100%|███████████████████████| 1/1 [02:28<00:00, 148.46s/it]\n"
     ]
    },
    {
     "name": "stdout",
     "output_type": "stream",
     "text": [
      "Estimation for 0.19 and 0.04 done\n",
      "It took: 148.62641024589539 seconds.\n",
      "[0.8635341338000132, 0.10785545802800166]\n"
     ]
    },
    {
     "name": "stderr",
     "output_type": "stream",
     "text": [
      "Initial filtering of formulas: 100%|██████████████| 2/2 [00:00<00:00, 62.43it/s]\n",
      "Computing chunks: 100%|████████████████████████| 2/2 [00:00<00:00, 87381.33it/s]\n",
      "Splitting the experimental spectrum into chunks: 131072it [00:00, 3460870.47it/s]\n",
      "Deconvolving chunks: 100%|███████████████████████| 1/1 [02:00<00:00, 120.51s/it]\n"
     ]
    },
    {
     "name": "stdout",
     "output_type": "stream",
     "text": [
      "Estimation for 0.19 and 0.05 done\n",
      "It took: 120.64756035804749 seconds.\n",
      "[0.8621410802030132, 0.10861480224200167]\n"
     ]
    },
    {
     "name": "stderr",
     "output_type": "stream",
     "text": [
      "Initial filtering of formulas: 100%|██████████████| 2/2 [00:00<00:00, 64.24it/s]\n",
      "Computing chunks: 100%|████████████████████████| 2/2 [00:00<00:00, 79891.50it/s]\n",
      "Splitting the experimental spectrum into chunks: 131072it [00:00, 3433784.80it/s]\n",
      "Deconvolving chunks: 100%|███████████████████████| 1/1 [01:56<00:00, 116.30s/it]\n"
     ]
    },
    {
     "name": "stdout",
     "output_type": "stream",
     "text": [
      "Estimation for 0.19 and 0.060000000000000005 done\n",
      "It took: 116.44267416000366 seconds.\n",
      "[0.8619863330930132, 0.10833916906700167]\n"
     ]
    },
    {
     "name": "stderr",
     "output_type": "stream",
     "text": [
      "Initial filtering of formulas: 100%|██████████████| 2/2 [00:00<00:00, 61.30it/s]\n",
      "Computing chunks: 100%|████████████████████████| 2/2 [00:00<00:00, 93206.76it/s]\n",
      "Splitting the experimental spectrum into chunks: 131072it [00:00, 3509856.31it/s]\n",
      "Deconvolving chunks: 100%|███████████████████████| 1/1 [02:26<00:00, 146.82s/it]\n"
     ]
    },
    {
     "name": "stdout",
     "output_type": "stream",
     "text": [
      "Estimation for 0.19 and 0.06999999999999999 done\n",
      "It took: 146.95907378196716 seconds.\n",
      "[0.8619996115110132, 0.10771635366000165]\n"
     ]
    },
    {
     "name": "stderr",
     "output_type": "stream",
     "text": [
      "Initial filtering of formulas: 100%|██████████████| 2/2 [00:00<00:00, 64.55it/s]\n",
      "Computing chunks: 100%|████████████████████████| 2/2 [00:00<00:00, 93206.76it/s]\n",
      "Splitting the experimental spectrum into chunks: 131072it [00:00, 3504866.37it/s]\n",
      "Deconvolving chunks: 100%|███████████████████████| 1/1 [02:21<00:00, 141.63s/it]\n"
     ]
    },
    {
     "name": "stdout",
     "output_type": "stream",
     "text": [
      "Estimation for 0.19 and 0.08 done\n",
      "It took: 141.76799511909485 seconds.\n",
      "[0.8618360730420133, 0.10713270201500164]\n"
     ]
    },
    {
     "name": "stderr",
     "output_type": "stream",
     "text": [
      "Initial filtering of formulas: 100%|██████████████| 2/2 [00:00<00:00, 63.59it/s]\n",
      "Computing chunks: 100%|████████████████████████| 2/2 [00:00<00:00, 96420.78it/s]\n",
      "Splitting the experimental spectrum into chunks: 131072it [00:00, 3472412.47it/s]\n",
      "Deconvolving chunks: 100%|███████████████████████| 1/1 [02:18<00:00, 138.92s/it]\n"
     ]
    },
    {
     "name": "stdout",
     "output_type": "stream",
     "text": [
      "Estimation for 0.19 and 0.09 done\n",
      "It took: 139.05941677093506 seconds.\n",
      "[0.8608561856790132, 0.10702233508900164]\n"
     ]
    },
    {
     "name": "stderr",
     "output_type": "stream",
     "text": [
      "Initial filtering of formulas: 100%|██████████████| 2/2 [00:00<00:00, 64.35it/s]\n",
      "Computing chunks: 100%|████████████████████████| 2/2 [00:00<00:00, 93206.76it/s]\n",
      "Splitting the experimental spectrum into chunks: 131072it [00:00, 3555551.48it/s]\n",
      "Deconvolving chunks: 100%|███████████████████████| 1/1 [01:55<00:00, 115.51s/it]\n"
     ]
    },
    {
     "name": "stdout",
     "output_type": "stream",
     "text": [
      "Estimation for 0.19 and 0.09999999999999999 done\n",
      "It took: 115.64239478111267 seconds.\n",
      "[0.8597126798720132, 0.10695229044500164]\n"
     ]
    },
    {
     "name": "stderr",
     "output_type": "stream",
     "text": [
      "Initial filtering of formulas: 100%|██████████████| 2/2 [00:00<00:00, 65.27it/s]\n",
      "Computing chunks: 100%|████████████████████████| 2/2 [00:00<00:00, 98689.51it/s]\n",
      "Splitting the experimental spectrum into chunks: 131072it [00:00, 3477024.46it/s]\n",
      "Deconvolving chunks: 100%|███████████████████████| 1/1 [01:56<00:00, 116.45s/it]\n"
     ]
    },
    {
     "name": "stdout",
     "output_type": "stream",
     "text": [
      "Estimation for 0.19 and 0.11 done\n",
      "It took: 116.58365035057068 seconds.\n",
      "[0.8578623623100131, 0.10699338815400164]\n"
     ]
    },
    {
     "name": "stderr",
     "output_type": "stream",
     "text": [
      "Initial filtering of formulas: 100%|██████████████| 2/2 [00:00<00:00, 63.62it/s]\n",
      "Computing chunks: 100%|████████████████████████| 2/2 [00:00<00:00, 68200.07it/s]\n",
      "Splitting the experimental spectrum into chunks: 131072it [00:00, 3483987.54it/s]\n",
      "Deconvolving chunks: 100%|███████████████████████| 1/1 [01:59<00:00, 119.03s/it]\n"
     ]
    },
    {
     "name": "stdout",
     "output_type": "stream",
     "text": [
      "Estimation for 0.19 and 0.12 done\n",
      "It took: 119.1721932888031 seconds.\n",
      "[0.8572898471870131, 0.10671735213900163]\n"
     ]
    },
    {
     "name": "stderr",
     "output_type": "stream",
     "text": [
      "Initial filtering of formulas: 100%|██████████████| 2/2 [00:00<00:00, 60.26it/s]\n",
      "Computing chunks: 100%|████████████████████████| 2/2 [00:00<00:00, 92182.51it/s]\n",
      "Splitting the experimental spectrum into chunks: 131072it [00:00, 3346272.81it/s]\n",
      "Deconvolving chunks: 100%|███████████████████████| 1/1 [01:58<00:00, 118.17s/it]\n"
     ]
    },
    {
     "name": "stdout",
     "output_type": "stream",
     "text": [
      "Estimation for 0.19 and 0.13 done\n",
      "It took: 118.3354880809784 seconds.\n",
      "[0.857057362948013, 0.10646575803000163]\n"
     ]
    },
    {
     "name": "stderr",
     "output_type": "stream",
     "text": [
      "Initial filtering of formulas: 100%|██████████████| 2/2 [00:00<00:00, 62.47it/s]\n",
      "Computing chunks: 100%|████████████████████████| 2/2 [00:00<00:00, 88301.14it/s]\n",
      "Splitting the experimental spectrum into chunks: 131072it [00:00, 2883133.07it/s]\n",
      "Deconvolving chunks: 100%|███████████████████████| 1/1 [01:59<00:00, 119.97s/it]\n"
     ]
    },
    {
     "name": "stdout",
     "output_type": "stream",
     "text": [
      "Estimation for 0.19 and 0.14 done\n",
      "It took: 120.12087392807007 seconds.\n",
      "[0.8569501101730131, 0.10640552061500162]\n"
     ]
    },
    {
     "name": "stderr",
     "output_type": "stream",
     "text": [
      "Initial filtering of formulas: 100%|██████████████| 2/2 [00:00<00:00, 60.22it/s]\n",
      "Computing chunks: 100%|████████████████████████| 2/2 [00:00<00:00, 67650.06it/s]\n",
      "Splitting the experimental spectrum into chunks: 131072it [00:00, 3352496.67it/s]\n",
      "Deconvolving chunks: 100%|███████████████████████| 1/1 [02:04<00:00, 124.70s/it]\n"
     ]
    },
    {
     "name": "stdout",
     "output_type": "stream",
     "text": [
      "Estimation for 0.19 and 0.15000000000000002 done\n",
      "It took: 124.84105825424194 seconds.\n",
      "[0.8557785819830132, 0.10657331383400163]\n"
     ]
    },
    {
     "name": "stderr",
     "output_type": "stream",
     "text": [
      "Initial filtering of formulas: 100%|██████████████| 2/2 [00:00<00:00, 63.18it/s]\n",
      "Computing chunks: 100%|████████████████████████| 2/2 [00:00<00:00, 95325.09it/s]\n",
      "Splitting the experimental spectrum into chunks: 131072it [00:00, 3469103.78it/s]\n",
      "Deconvolving chunks: 100%|███████████████████████| 1/1 [02:03<00:00, 123.61s/it]\n"
     ]
    },
    {
     "name": "stdout",
     "output_type": "stream",
     "text": [
      "Estimation for 0.19 and 0.16 done\n",
      "It took: 123.77162742614746 seconds.\n",
      "[0.8551892737850131, 0.10643273090200164]\n"
     ]
    },
    {
     "name": "stderr",
     "output_type": "stream",
     "text": [
      "Initial filtering of formulas: 100%|██████████████| 2/2 [00:00<00:00, 63.42it/s]\n",
      "Computing chunks: 100%|████████████████████████| 2/2 [00:00<00:00, 84733.41it/s]\n",
      "Splitting the experimental spectrum into chunks: 131072it [00:00, 3574950.02it/s]\n",
      "Deconvolving chunks: 100%|███████████████████████| 1/1 [02:02<00:00, 122.98s/it]\n"
     ]
    },
    {
     "name": "stdout",
     "output_type": "stream",
     "text": [
      "Estimation for 0.19 and 0.17 done\n",
      "It took: 123.12169623374939 seconds.\n",
      "[0.8535662278840132, 0.10671315912400164]\n"
     ]
    },
    {
     "name": "stderr",
     "output_type": "stream",
     "text": [
      "Initial filtering of formulas: 100%|██████████████| 2/2 [00:00<00:00, 61.86it/s]\n",
      "Computing chunks: 100%|████████████████████████| 2/2 [00:00<00:00, 65027.97it/s]\n",
      "Splitting the experimental spectrum into chunks: 131072it [00:00, 3345214.00it/s]\n",
      "Deconvolving chunks: 100%|███████████████████████| 1/1 [02:04<00:00, 124.61s/it]\n"
     ]
    },
    {
     "name": "stdout",
     "output_type": "stream",
     "text": [
      "Estimation for 0.19 and 0.18000000000000002 done\n",
      "It took: 124.7533769607544 seconds.\n",
      "[0.8533178933730131, 0.10678945319500163]\n"
     ]
    },
    {
     "name": "stderr",
     "output_type": "stream",
     "text": [
      "Initial filtering of formulas: 100%|██████████████| 2/2 [00:00<00:00, 64.38it/s]\n",
      "Computing chunks: 100%|████████████████████████| 2/2 [00:00<00:00, 90200.09it/s]\n",
      "Splitting the experimental spectrum into chunks: 131072it [00:00, 3503749.49it/s]\n",
      "Deconvolving chunks: 100%|███████████████████████| 1/1 [02:04<00:00, 124.03s/it]\n"
     ]
    },
    {
     "name": "stdout",
     "output_type": "stream",
     "text": [
      "Estimation for 0.19 and 0.19 done\n",
      "It took: 124.1660852432251 seconds.\n",
      "[0.8535996454430131, 0.10679095466500164]\n"
     ]
    },
    {
     "name": "stderr",
     "output_type": "stream",
     "text": [
      "Initial filtering of formulas: 100%|██████████████| 2/2 [00:00<00:00, 63.51it/s]\n",
      "Computing chunks: 100%|████████████████████████| 2/2 [00:00<00:00, 96420.78it/s]\n",
      "Splitting the experimental spectrum into chunks: 131072it [00:00, 3465189.72it/s]\n",
      "Deconvolving chunks: 100%|███████████████████████| 1/1 [02:02<00:00, 122.80s/it]\n"
     ]
    },
    {
     "name": "stdout",
     "output_type": "stream",
     "text": [
      "Estimation for 0.19 and 0.2 done\n",
      "It took: 122.94088363647461 seconds.\n",
      "[0.8539111485250132, 0.10682584995400164]\n"
     ]
    },
    {
     "name": "stderr",
     "output_type": "stream",
     "text": [
      "Initial filtering of formulas: 100%|██████████████| 2/2 [00:00<00:00, 64.44it/s]\n",
      "Computing chunks: 100%|████████████████████████| 2/2 [00:00<00:00, 87381.33it/s]\n",
      "Splitting the experimental spectrum into chunks: 131072it [00:00, 3302530.95it/s]\n",
      "Deconvolving chunks: 100%|███████████████████████| 1/1 [02:03<00:00, 123.40s/it]\n"
     ]
    },
    {
     "name": "stdout",
     "output_type": "stream",
     "text": [
      "Estimation for 0.19 and 0.21000000000000002 done\n",
      "It took: 123.57093954086304 seconds.\n",
      "[0.8541881661410131, 0.10682057630400164]\n"
     ]
    },
    {
     "name": "stderr",
     "output_type": "stream",
     "text": [
      "Initial filtering of formulas: 100%|██████████████| 2/2 [00:00<00:00, 62.59it/s]\n",
      "Computing chunks: 100%|████████████████████████| 2/2 [00:00<00:00, 88301.14it/s]\n",
      "Splitting the experimental spectrum into chunks: 131072it [00:00, 3506878.54it/s]\n",
      "Deconvolving chunks: 100%|███████████████████████| 1/1 [01:59<00:00, 119.06s/it]\n"
     ]
    },
    {
     "name": "stdout",
     "output_type": "stream",
     "text": [
      "Estimation for 0.19 and 0.22 done\n",
      "It took: 119.19968700408936 seconds.\n",
      "[0.8544649527960131, 0.10663701598700163]\n"
     ]
    },
    {
     "name": "stderr",
     "output_type": "stream",
     "text": [
      "Initial filtering of formulas: 100%|██████████████| 2/2 [00:00<00:00, 62.90it/s]\n",
      "Computing chunks: 100%|████████████████████████| 2/2 [00:00<00:00, 92182.51it/s]\n",
      "Splitting the experimental spectrum into chunks: 131072it [00:00, 3405600.14it/s]\n",
      "Deconvolving chunks: 100%|███████████████████████| 1/1 [01:58<00:00, 118.55s/it]\n"
     ]
    },
    {
     "name": "stdout",
     "output_type": "stream",
     "text": [
      "Estimation for 0.19 and 0.23 done\n",
      "It took: 118.68711614608765 seconds.\n",
      "[0.8544562376440131, 0.10648954369500163]\n"
     ]
    },
    {
     "name": "stderr",
     "output_type": "stream",
     "text": [
      "Initial filtering of formulas: 100%|██████████████| 2/2 [00:00<00:00, 63.02it/s]\n",
      "Computing chunks: 100%|████████████████████████| 2/2 [00:00<00:00, 93206.76it/s]\n",
      "Splitting the experimental spectrum into chunks: 131072it [00:00, 3423350.23it/s]\n",
      "Deconvolving chunks: 100%|███████████████████████| 1/1 [01:57<00:00, 117.99s/it]\n"
     ]
    },
    {
     "name": "stdout",
     "output_type": "stream",
     "text": [
      "Estimation for 0.19 and 0.24000000000000002 done\n",
      "It took: 118.15344476699829 seconds.\n",
      "[0.8543618448250131, 0.10640972259300162]\n"
     ]
    },
    {
     "name": "stderr",
     "output_type": "stream",
     "text": [
      "Initial filtering of formulas: 100%|██████████████| 2/2 [00:00<00:00, 63.95it/s]\n",
      "Computing chunks: 100%|████████████████████████| 2/2 [00:00<00:00, 90200.09it/s]\n",
      "Splitting the experimental spectrum into chunks: 131072it [00:00, 3504978.09it/s]\n",
      "Deconvolving chunks: 100%|███████████████████████| 1/1 [01:58<00:00, 118.12s/it]\n"
     ]
    },
    {
     "name": "stdout",
     "output_type": "stream",
     "text": [
      "Estimation for 0.19 and 0.25 done\n",
      "It took: 118.25572776794434 seconds.\n",
      "[0.8543133907420131, 0.10631102909600162]\n"
     ]
    },
    {
     "name": "stderr",
     "output_type": "stream",
     "text": [
      "Initial filtering of formulas: 100%|██████████████| 2/2 [00:00<00:00, 64.16it/s]\n",
      "Computing chunks: 100%|████████████████████████| 2/2 [00:00<00:00, 95325.09it/s]\n",
      "Splitting the experimental spectrum into chunks: 131072it [00:00, 3526539.79it/s]\n",
      "Deconvolving chunks: 100%|███████████████████████| 1/1 [01:59<00:00, 119.61s/it]\n"
     ]
    },
    {
     "name": "stdout",
     "output_type": "stream",
     "text": [
      "Estimation for 0.19 and 0.26 done\n",
      "It took: 119.74992871284485 seconds.\n",
      "[0.8531409228540131, 0.10645155471800163]\n"
     ]
    },
    {
     "name": "stderr",
     "output_type": "stream",
     "text": [
      "Initial filtering of formulas: 100%|██████████████| 2/2 [00:00<00:00, 64.86it/s]\n",
      "Computing chunks: 100%|████████████████████████| 2/2 [00:00<00:00, 96420.78it/s]\n",
      "Splitting the experimental spectrum into chunks: 131072it [00:00, 3437628.20it/s]\n",
      "Deconvolving chunks: 100%|███████████████████████| 1/1 [02:03<00:00, 123.12s/it]\n"
     ]
    },
    {
     "name": "stdout",
     "output_type": "stream",
     "text": [
      "Estimation for 0.19 and 0.27 done\n",
      "It took: 123.27805876731873 seconds.\n",
      "[0.850981556314013, 0.10681666326300164]\n"
     ]
    },
    {
     "name": "stderr",
     "output_type": "stream",
     "text": [
      "Initial filtering of formulas: 100%|██████████████| 2/2 [00:00<00:00, 63.98it/s]\n",
      "Computing chunks: 100%|████████████████████████| 2/2 [00:00<00:00, 89240.51it/s]\n",
      "Splitting the experimental spectrum into chunks: 131072it [00:00, 3537181.44it/s]\n",
      "Deconvolving chunks: 100%|███████████████████████| 1/1 [02:01<00:00, 121.00s/it]\n"
     ]
    },
    {
     "name": "stdout",
     "output_type": "stream",
     "text": [
      "Estimation for 0.19 and 0.28 done\n",
      "It took: 121.14543223381042 seconds.\n",
      "[0.850945176443013, 0.10672642964100164]\n"
     ]
    },
    {
     "name": "stderr",
     "output_type": "stream",
     "text": [
      "Initial filtering of formulas: 100%|██████████████| 2/2 [00:00<00:00, 62.97it/s]\n",
      "Computing chunks: 100%|████████████████████████| 2/2 [00:00<00:00, 50840.05it/s]\n",
      "Splitting the experimental spectrum into chunks: 131072it [00:00, 3512053.70it/s]\n",
      "Deconvolving chunks: 100%|███████████████████████| 1/1 [02:16<00:00, 136.00s/it]\n"
     ]
    },
    {
     "name": "stdout",
     "output_type": "stream",
     "text": [
      "Estimation for 0.19 and 0.29000000000000004 done\n",
      "It took: 136.1638104915619 seconds.\n",
      "[0.850996744266013, 0.10662117808500164]\n"
     ]
    },
    {
     "name": "stderr",
     "output_type": "stream",
     "text": [
      "Initial filtering of formulas: 100%|██████████████| 2/2 [00:00<00:00, 64.99it/s]\n",
      "Computing chunks: 100%|████████████████████████| 2/2 [00:00<00:00, 95325.09it/s]\n",
      "Splitting the experimental spectrum into chunks: 131072it [00:00, 3560387.11it/s]\n",
      "Deconvolving chunks: 100%|███████████████████████| 1/1 [01:42<00:00, 102.33s/it]\n"
     ]
    },
    {
     "name": "stdout",
     "output_type": "stream",
     "text": [
      "Estimation for 0.2 and 0.01 done\n",
      "It took: 102.47691297531128 seconds.\n",
      "[0.7310305914520112, 0.2676142846860041]\n"
     ]
    },
    {
     "name": "stderr",
     "output_type": "stream",
     "text": [
      "Initial filtering of formulas: 100%|██████████████| 2/2 [00:00<00:00, 62.91it/s]\n",
      "Computing chunks: 100%|████████████████████████| 2/2 [00:00<00:00, 88301.14it/s]\n",
      "Splitting the experimental spectrum into chunks: 131072it [00:00, 3465976.19it/s]\n",
      "Deconvolving chunks: 100%|███████████████████████| 1/1 [01:55<00:00, 115.83s/it]\n"
     ]
    },
    {
     "name": "stdout",
     "output_type": "stream",
     "text": [
      "Estimation for 0.2 and 0.02 done\n",
      "It took: 116.00106477737427 seconds.\n",
      "[0.8779221859070134, 0.10199101315400157]\n"
     ]
    },
    {
     "name": "stderr",
     "output_type": "stream",
     "text": [
      "Initial filtering of formulas: 100%|██████████████| 2/2 [00:00<00:00, 65.06it/s]\n",
      "Computing chunks: 100%|████████████████████████| 2/2 [00:00<00:00, 16100.98it/s]\n",
      "Splitting the experimental spectrum into chunks: 131072it [00:00, 3622582.10it/s]\n",
      "Deconvolving chunks: 100%|███████████████████████| 1/1 [02:34<00:00, 154.95s/it]\n"
     ]
    },
    {
     "name": "stdout",
     "output_type": "stream",
     "text": [
      "Estimation for 0.2 and 0.03 done\n",
      "It took: 155.10785794258118 seconds.\n",
      "[0.8714040812350133, 0.10295552409800159]\n"
     ]
    },
    {
     "name": "stderr",
     "output_type": "stream",
     "text": [
      "Initial filtering of formulas: 100%|██████████████| 2/2 [00:00<00:00, 62.17it/s]\n",
      "Computing chunks: 100%|████████████████████████| 2/2 [00:00<00:00, 86480.49it/s]\n",
      "Splitting the experimental spectrum into chunks: 131072it [00:00, 3554356.11it/s]\n",
      "Deconvolving chunks: 100%|███████████████████████| 1/1 [02:19<00:00, 139.63s/it]\n"
     ]
    },
    {
     "name": "stdout",
     "output_type": "stream",
     "text": [
      "Estimation for 0.2 and 0.04 done\n",
      "It took: 139.78911232948303 seconds.\n",
      "[0.8647194079500132, 0.10780935179700166]\n"
     ]
    },
    {
     "name": "stderr",
     "output_type": "stream",
     "text": [
      "Initial filtering of formulas: 100%|██████████████| 2/2 [00:00<00:00, 63.52it/s]\n",
      "Computing chunks: 100%|████████████████████████| 2/2 [00:00<00:00, 81442.80it/s]\n",
      "Splitting the experimental spectrum into chunks: 131072it [00:00, 3534861.59it/s]\n",
      "Deconvolving chunks: 100%|███████████████████████| 1/1 [02:08<00:00, 128.23s/it]\n"
     ]
    },
    {
     "name": "stdout",
     "output_type": "stream",
     "text": [
      "Estimation for 0.2 and 0.05 done\n",
      "It took: 128.39344930648804 seconds.\n",
      "[0.8630652645060132, 0.10872490461700167]\n"
     ]
    },
    {
     "name": "stderr",
     "output_type": "stream",
     "text": [
      "Initial filtering of formulas: 100%|██████████████| 2/2 [00:00<00:00, 59.34it/s]\n",
      "Computing chunks: 100%|████████████████████████| 2/2 [00:00<00:00, 41120.63it/s]\n",
      "Splitting the experimental spectrum into chunks: 131072it [00:00, 3323936.41it/s]\n",
      "Deconvolving chunks: 100%|███████████████████████| 1/1 [02:24<00:00, 144.98s/it]\n"
     ]
    },
    {
     "name": "stdout",
     "output_type": "stream",
     "text": [
      "Estimation for 0.2 and 0.060000000000000005 done\n",
      "It took: 145.14491510391235 seconds.\n",
      "[0.8628852746980132, 0.10853434365700167]\n"
     ]
    },
    {
     "name": "stderr",
     "output_type": "stream",
     "text": [
      "Initial filtering of formulas: 100%|██████████████| 2/2 [00:00<00:00, 61.95it/s]\n",
      "Computing chunks: 100%|████████████████████████| 2/2 [00:00<00:00, 15335.66it/s]\n",
      "Splitting the experimental spectrum into chunks: 131072it [00:00, 3565767.78it/s]\n",
      "Deconvolving chunks: 100%|███████████████████████| 1/1 [02:00<00:00, 120.30s/it]\n"
     ]
    },
    {
     "name": "stdout",
     "output_type": "stream",
     "text": [
      "Estimation for 0.2 and 0.06999999999999999 done\n",
      "It took: 120.46373796463013 seconds.\n",
      "[0.8627908332790132, 0.10802437982000165]\n"
     ]
    },
    {
     "name": "stderr",
     "output_type": "stream",
     "text": [
      "Initial filtering of formulas: 100%|██████████████| 2/2 [00:00<00:00, 47.65it/s]\n",
      "Computing chunks: 100%|████████████████████████| 2/2 [00:00<00:00, 66052.03it/s]\n",
      "Splitting the experimental spectrum into chunks: 131072it [00:00, 2733893.02it/s]\n",
      "Deconvolving chunks: 100%|███████████████████████| 1/1 [02:02<00:00, 122.59s/it]\n"
     ]
    },
    {
     "name": "stdout",
     "output_type": "stream",
     "text": [
      "Estimation for 0.2 and 0.08 done\n",
      "It took: 122.79325342178345 seconds.\n",
      "[0.8628761021890132, 0.10735396658700165]\n"
     ]
    },
    {
     "name": "stderr",
     "output_type": "stream",
     "text": [
      "Initial filtering of formulas: 100%|██████████████| 2/2 [00:00<00:00, 58.31it/s]\n",
      "Computing chunks: 100%|███████████████████████| 2/2 [00:00<00:00, 101067.57it/s]\n",
      "Splitting the experimental spectrum into chunks: 131072it [00:00, 3343240.70it/s]\n",
      "Deconvolving chunks: 100%|███████████████████████| 1/1 [02:36<00:00, 156.21s/it]\n"
     ]
    },
    {
     "name": "stdout",
     "output_type": "stream",
     "text": [
      "Estimation for 0.2 and 0.09 done\n",
      "It took: 156.36212015151978 seconds.\n",
      "[0.8621610001410132, 0.10725461291900164]\n"
     ]
    },
    {
     "name": "stderr",
     "output_type": "stream",
     "text": [
      "Initial filtering of formulas: 100%|██████████████| 2/2 [00:00<00:00, 54.84it/s]\n",
      "Computing chunks: 100%|████████████████████████| 2/2 [00:00<00:00, 62137.84it/s]\n",
      "Splitting the experimental spectrum into chunks: 131072it [00:00, 3256673.60it/s]\n",
      "Deconvolving chunks: 100%|███████████████████████| 1/1 [02:35<00:00, 155.95s/it]\n"
     ]
    },
    {
     "name": "stdout",
     "output_type": "stream",
     "text": [
      "Estimation for 0.2 and 0.09999999999999999 done\n",
      "It took: 156.1084020137787 seconds.\n",
      "[0.8611925202940132, 0.10708923459000164]\n"
     ]
    },
    {
     "name": "stderr",
     "output_type": "stream",
     "text": [
      "Initial filtering of formulas: 100%|██████████████| 2/2 [00:00<00:00, 57.71it/s]\n",
      "Computing chunks: 100%|████████████████████████| 2/2 [00:00<00:00, 38304.15it/s]\n",
      "Splitting the experimental spectrum into chunks: 131072it [00:00, 3332277.53it/s]\n",
      "Deconvolving chunks: 100%|███████████████████████| 1/1 [01:56<00:00, 116.91s/it]\n"
     ]
    },
    {
     "name": "stdout",
     "output_type": "stream",
     "text": [
      "Estimation for 0.2 and 0.11 done\n",
      "It took: 117.06474876403809 seconds.\n",
      "[0.8598759877210133, 0.10688846233200164]\n"
     ]
    },
    {
     "name": "stderr",
     "output_type": "stream",
     "text": [
      "Initial filtering of formulas: 100%|██████████████| 2/2 [00:00<00:00, 54.83it/s]\n",
      "Computing chunks: 100%|████████████████████████| 2/2 [00:00<00:00, 33420.75it/s]\n",
      "Splitting the experimental spectrum into chunks: 131072it [00:00, 3309369.76it/s]\n",
      "Deconvolving chunks: 100%|███████████████████████| 1/1 [02:04<00:00, 124.83s/it]\n"
     ]
    },
    {
     "name": "stdout",
     "output_type": "stream",
     "text": [
      "Estimation for 0.2 and 0.12 done\n",
      "It took: 124.98701214790344 seconds.\n",
      "[0.8584049858360131, 0.10701780288200163]\n"
     ]
    },
    {
     "name": "stderr",
     "output_type": "stream",
     "text": [
      "Initial filtering of formulas: 100%|██████████████| 2/2 [00:00<00:00, 56.51it/s]\n",
      "Computing chunks: 100%|████████████████████████| 2/2 [00:00<00:00, 81442.80it/s]\n",
      "Splitting the experimental spectrum into chunks: 131072it [00:00, 3357246.41it/s]\n",
      "Deconvolving chunks: 100%|███████████████████████| 1/1 [02:07<00:00, 127.19s/it]\n"
     ]
    },
    {
     "name": "stdout",
     "output_type": "stream",
     "text": [
      "Estimation for 0.2 and 0.13 done\n",
      "It took: 127.34331512451172 seconds.\n",
      "[0.8580932417210131, 0.10681059327000164]\n"
     ]
    },
    {
     "name": "stderr",
     "output_type": "stream",
     "text": [
      "Initial filtering of formulas: 100%|██████████████| 2/2 [00:00<00:00, 57.35it/s]\n",
      "Computing chunks: 100%|████████████████████████| 2/2 [00:00<00:00, 75573.05it/s]\n",
      "Splitting the experimental spectrum into chunks: 131072it [00:00, 3314677.36it/s]\n",
      "Deconvolving chunks: 100%|███████████████████████| 1/1 [02:08<00:00, 128.03s/it]\n"
     ]
    },
    {
     "name": "stdout",
     "output_type": "stream",
     "text": [
      "Estimation for 0.2 and 0.14 done\n",
      "It took: 128.18521404266357 seconds.\n",
      "[0.8581282471650131, 0.10651754609800164]\n"
     ]
    },
    {
     "name": "stderr",
     "output_type": "stream",
     "text": [
      "Initial filtering of formulas: 100%|██████████████| 2/2 [00:00<00:00, 54.53it/s]\n",
      "Computing chunks: 100%|████████████████████████| 2/2 [00:00<00:00, 51463.85it/s]\n",
      "Splitting the experimental spectrum into chunks: 131072it [00:00, 3308931.55it/s]\n",
      "Deconvolving chunks: 100%|███████████████████████| 1/1 [02:08<00:00, 128.56s/it]\n"
     ]
    },
    {
     "name": "stdout",
     "output_type": "stream",
     "text": [
      "Estimation for 0.2 and 0.15000000000000002 done\n",
      "It took: 128.7452929019928 seconds.\n",
      "[0.857656071061013, 0.10653967657200164]\n"
     ]
    },
    {
     "name": "stderr",
     "output_type": "stream",
     "text": [
      "Initial filtering of formulas: 100%|██████████████| 2/2 [00:00<00:00, 46.52it/s]\n",
      "Computing chunks: 100%|████████████████████████| 2/2 [00:00<00:00, 87381.33it/s]\n",
      "Splitting the experimental spectrum into chunks: 131072it [00:00, 3232469.67it/s]\n",
      "Deconvolving chunks: 100%|███████████████████████| 1/1 [02:09<00:00, 129.39s/it]\n"
     ]
    },
    {
     "name": "stdout",
     "output_type": "stream",
     "text": [
      "Estimation for 0.2 and 0.16 done\n",
      "It took: 129.55433678627014 seconds.\n",
      "[0.8564518804520131, 0.10673007463000164]\n"
     ]
    },
    {
     "name": "stderr",
     "output_type": "stream",
     "text": [
      "Initial filtering of formulas: 100%|██████████████| 2/2 [00:00<00:00, 58.19it/s]\n",
      "Computing chunks: 100%|████████████████████████| 2/2 [00:00<00:00, 76959.71it/s]\n",
      "Splitting the experimental spectrum into chunks: 131072it [00:00, 3315057.13it/s]\n",
      "Deconvolving chunks: 100%|██████████████████████| 1/1 [30:57<00:00, 1857.14s/it]\n"
     ]
    },
    {
     "name": "stdout",
     "output_type": "stream",
     "text": [
      "Estimation for 0.2 and 0.17 done\n",
      "It took: 1857.293788433075 seconds.\n",
      "[0.8563137908660131, 0.10656028276800164]\n"
     ]
    },
    {
     "name": "stderr",
     "output_type": "stream",
     "text": [
      "Initial filtering of formulas: 100%|██████████████| 2/2 [00:00<00:00, 58.42it/s]\n",
      "Computing chunks: 100%|████████████████████████| 2/2 [00:00<00:00, 61680.94it/s]\n",
      "Splitting the experimental spectrum into chunks: 131072it [00:00, 2983619.78it/s]\n",
      "Deconvolving chunks: 100%|███████████████████████| 1/1 [02:04<00:00, 124.78s/it]\n"
     ]
    },
    {
     "name": "stdout",
     "output_type": "stream",
     "text": [
      "Estimation for 0.2 and 0.18000000000000002 done\n",
      "It took: 124.93512487411499 seconds.\n",
      "[0.8547371866130131, 0.10684176196800164]\n"
     ]
    },
    {
     "name": "stderr",
     "output_type": "stream",
     "text": [
      "Initial filtering of formulas: 100%|██████████████| 2/2 [00:00<00:00, 53.34it/s]\n",
      "Computing chunks: 100%|████████████████████████| 2/2 [00:00<00:00, 84733.41it/s]\n",
      "Splitting the experimental spectrum into chunks: 131072it [00:00, 3083595.91it/s]\n",
      "Deconvolving chunks: 100%|███████████████████████| 1/1 [02:08<00:00, 128.04s/it]\n"
     ]
    },
    {
     "name": "stdout",
     "output_type": "stream",
     "text": [
      "Estimation for 0.2 and 0.19 done\n",
      "It took: 128.20258045196533 seconds.\n",
      "[0.8550085337720131, 0.10686070516400163]\n"
     ]
    },
    {
     "name": "stderr",
     "output_type": "stream",
     "text": [
      "Initial filtering of formulas: 100%|██████████████| 2/2 [00:00<00:00, 55.13it/s]\n",
      "Computing chunks: 100%|████████████████████████| 2/2 [00:00<00:00, 79891.50it/s]\n",
      "Splitting the experimental spectrum into chunks: 131072it [00:00, 2910346.98it/s]\n",
      "Deconvolving chunks: 100%|███████████████████████| 1/1 [02:10<00:00, 130.14s/it]\n"
     ]
    },
    {
     "name": "stdout",
     "output_type": "stream",
     "text": [
      "Estimation for 0.2 and 0.2 done\n",
      "It took: 130.30302381515503 seconds.\n",
      "[0.8552251068440131, 0.10688079399200164]\n"
     ]
    },
    {
     "name": "stderr",
     "output_type": "stream",
     "text": [
      "Initial filtering of formulas: 100%|██████████████| 2/2 [00:00<00:00, 58.27it/s]\n",
      "Computing chunks: 100%|████████████████████████| 2/2 [00:00<00:00, 94254.02it/s]\n",
      "Splitting the experimental spectrum into chunks: 131072it [00:00, 3148784.97it/s]\n",
      "Deconvolving chunks: 100%|███████████████████████| 1/1 [02:12<00:00, 132.28s/it]\n"
     ]
    },
    {
     "name": "stdout",
     "output_type": "stream",
     "text": [
      "Estimation for 0.2 and 0.21000000000000002 done\n",
      "It took: 132.4606635570526 seconds.\n",
      "[0.8553767631850131, 0.10688987393400164]\n"
     ]
    },
    {
     "name": "stderr",
     "output_type": "stream",
     "text": [
      "Initial filtering of formulas: 100%|██████████████| 2/2 [00:00<00:00, 52.99it/s]\n",
      "Computing chunks: 100%|████████████████████████| 2/2 [00:00<00:00, 89240.51it/s]\n",
      "Splitting the experimental spectrum into chunks: 131072it [00:00, 3110076.68it/s]\n",
      "Deconvolving chunks: 100%|███████████████████████| 1/1 [02:10<00:00, 130.47s/it]\n"
     ]
    },
    {
     "name": "stdout",
     "output_type": "stream",
     "text": [
      "Estimation for 0.2 and 0.22 done\n",
      "It took: 130.63283967971802 seconds.\n",
      "[0.8553538215920131, 0.10686995113600163]\n"
     ]
    },
    {
     "name": "stderr",
     "output_type": "stream",
     "text": [
      "Initial filtering of formulas: 100%|██████████████| 2/2 [00:00<00:00, 55.79it/s]\n",
      "Computing chunks: 100%|████████████████████████| 2/2 [00:00<00:00, 54120.05it/s]\n",
      "Splitting the experimental spectrum into chunks: 131072it [00:00, 2956439.37it/s]\n",
      "Deconvolving chunks: 100%|███████████████████████| 1/1 [02:08<00:00, 128.80s/it]\n"
     ]
    },
    {
     "name": "stdout",
     "output_type": "stream",
     "text": [
      "Estimation for 0.2 and 0.23 done\n",
      "It took: 128.96616983413696 seconds.\n",
      "[0.8553663193280131, 0.10664029316500163]\n"
     ]
    },
    {
     "name": "stderr",
     "output_type": "stream",
     "text": [
      "Initial filtering of formulas: 100%|██████████████| 2/2 [00:00<00:00, 53.70it/s]\n",
      "Computing chunks: 100%|████████████████████████| 2/2 [00:00<00:00, 83055.52it/s]\n",
      "Splitting the experimental spectrum into chunks: 131072it [00:00, 3106491.57it/s]\n",
      "Deconvolving chunks: 100%|███████████████████████| 1/1 [02:07<00:00, 127.38s/it]\n"
     ]
    },
    {
     "name": "stdout",
     "output_type": "stream",
     "text": [
      "Estimation for 0.2 and 0.24000000000000002 done\n",
      "It took: 127.54167222976685 seconds.\n",
      "[0.8553075716980131, 0.10646041658200164]\n"
     ]
    },
    {
     "name": "stderr",
     "output_type": "stream",
     "text": [
      "Initial filtering of formulas: 100%|██████████████| 2/2 [00:00<00:00, 54.89it/s]\n",
      "Computing chunks: 100%|████████████████████████| 2/2 [00:00<00:00, 46863.73it/s]\n",
      "Splitting the experimental spectrum into chunks: 131072it [00:00, 3006364.37it/s]\n",
      "Deconvolving chunks: 100%|███████████████████████| 1/1 [02:07<00:00, 127.37s/it]\n"
     ]
    },
    {
     "name": "stdout",
     "output_type": "stream",
     "text": [
      "Estimation for 0.2 and 0.25 done\n",
      "It took: 127.55319356918335 seconds.\n",
      "[0.8552351203330131, 0.10637161915000162]\n"
     ]
    },
    {
     "name": "stderr",
     "output_type": "stream",
     "text": [
      "Initial filtering of formulas: 100%|██████████████| 2/2 [00:00<00:00, 54.39it/s]\n",
      "Computing chunks: 100%|████████████████████████| 2/2 [00:00<00:00, 73584.28it/s]\n",
      "Splitting the experimental spectrum into chunks: 131072it [00:00, 3098647.34it/s]\n",
      "Deconvolving chunks: 100%|███████████████████████| 1/1 [02:06<00:00, 126.79s/it]\n"
     ]
    },
    {
     "name": "stdout",
     "output_type": "stream",
     "text": [
      "Estimation for 0.2 and 0.26 done\n",
      "It took: 126.94866108894348 seconds.\n",
      "[0.8548725744220131, 0.10636418391600162]\n"
     ]
    },
    {
     "name": "stderr",
     "output_type": "stream",
     "text": [
      "Initial filtering of formulas: 100%|██████████████| 2/2 [00:00<00:00, 50.66it/s]\n",
      "Computing chunks: 100%|████████████████████████| 2/2 [00:00<00:00, 72315.59it/s]\n",
      "Splitting the experimental spectrum into chunks: 131072it [00:00, 3153824.79it/s]\n",
      "Deconvolving chunks: 100%|███████████████████████| 1/1 [02:13<00:00, 133.32s/it]\n"
     ]
    },
    {
     "name": "stdout",
     "output_type": "stream",
     "text": [
      "Estimation for 0.2 and 0.27 done\n",
      "It took: 133.51323461532593 seconds.\n",
      "[0.8529256905910131, 0.10668348481500163]\n"
     ]
    },
    {
     "name": "stderr",
     "output_type": "stream",
     "text": [
      "Initial filtering of formulas: 100%|██████████████| 2/2 [00:00<00:00, 55.17it/s]\n",
      "Computing chunks: 100%|████████████████████████| 2/2 [00:00<00:00, 77672.30it/s]\n",
      "Splitting the experimental spectrum into chunks: 131072it [00:00, 2868585.54it/s]\n",
      "Deconvolving chunks: 100%|███████████████████████| 1/1 [02:12<00:00, 132.19s/it]\n"
     ]
    },
    {
     "name": "stdout",
     "output_type": "stream",
     "text": [
      "Estimation for 0.2 and 0.28 done\n",
      "It took: 132.3697485923767 seconds.\n",
      "[0.8521018032220131, 0.10680555971100164]\n"
     ]
    },
    {
     "name": "stderr",
     "output_type": "stream",
     "text": [
      "Initial filtering of formulas: 100%|██████████████| 2/2 [00:00<00:00, 53.57it/s]\n",
      "Computing chunks: 100%|█████████████████████████| 2/2 [00:00<00:00, 7163.63it/s]\n",
      "Splitting the experimental spectrum into chunks: 131072it [00:00, 3015053.52it/s]\n",
      "Deconvolving chunks: 100%|███████████████████████| 1/1 [02:09<00:00, 129.07s/it]\n"
     ]
    },
    {
     "name": "stdout",
     "output_type": "stream",
     "text": [
      "Estimation for 0.2 and 0.29000000000000004 done\n",
      "It took: 129.26094555854797 seconds.\n",
      "[0.8520934826780131, 0.10672209205500163]\n"
     ]
    },
    {
     "name": "stderr",
     "output_type": "stream",
     "text": [
      "Initial filtering of formulas: 100%|██████████████| 2/2 [00:00<00:00, 53.05it/s]\n",
      "Computing chunks: 100%|████████████████████████| 2/2 [00:00<00:00, 72944.42it/s]\n",
      "Splitting the experimental spectrum into chunks: 131072it [00:00, 3036268.12it/s]\n",
      "Deconvolving chunks: 100%|███████████████████████| 1/1 [02:01<00:00, 121.52s/it]\n"
     ]
    },
    {
     "name": "stdout",
     "output_type": "stream",
     "text": [
      "Estimation for 0.21000000000000002 and 0.01 done\n",
      "It took: 121.68461227416992 seconds.\n",
      "[0.7299135692830112, 0.2688630574620041]\n"
     ]
    },
    {
     "name": "stderr",
     "output_type": "stream",
     "text": [
      "Initial filtering of formulas: 100%|██████████████| 2/2 [00:00<00:00, 55.65it/s]\n",
      "Computing chunks: 100%|████████████████████████| 2/2 [00:00<00:00, 44384.17it/s]\n",
      "Splitting the experimental spectrum into chunks: 131072it [00:00, 2945430.75it/s]\n",
      "Deconvolving chunks: 100%|███████████████████████| 1/1 [02:28<00:00, 148.52s/it]\n"
     ]
    },
    {
     "name": "stdout",
     "output_type": "stream",
     "text": [
      "Estimation for 0.21000000000000002 and 0.02 done\n",
      "It took: 148.69406700134277 seconds.\n",
      "[0.8758938516830135, 0.1050240798650016]\n"
     ]
    },
    {
     "name": "stderr",
     "output_type": "stream",
     "text": [
      "Initial filtering of formulas: 100%|██████████████| 2/2 [00:00<00:00, 55.68it/s]\n",
      "Computing chunks: 100%|████████████████████████| 2/2 [00:00<00:00, 68759.08it/s]\n",
      "Splitting the experimental spectrum into chunks: 131072it [00:00, 2971990.41it/s]\n",
      "Deconvolving chunks: 100%|███████████████████████| 1/1 [02:51<00:00, 171.63s/it]\n"
     ]
    },
    {
     "name": "stdout",
     "output_type": "stream",
     "text": [
      "Estimation for 0.21000000000000002 and 0.03 done\n",
      "It took: 171.79767990112305 seconds.\n",
      "[0.8724450583180133, 0.10303833175100158]\n"
     ]
    },
    {
     "name": "stderr",
     "output_type": "stream",
     "text": [
      "Initial filtering of formulas: 100%|██████████████| 2/2 [00:00<00:00, 52.47it/s]\n",
      "Computing chunks: 100%|████████████████████████| 2/2 [00:00<00:00, 69905.07it/s]\n",
      "Splitting the experimental spectrum into chunks: 131072it [00:00, 2997904.97it/s]\n",
      "Deconvolving chunks: 100%|███████████████████████| 1/1 [02:32<00:00, 152.66s/it]\n"
     ]
    },
    {
     "name": "stdout",
     "output_type": "stream",
     "text": [
      "Estimation for 0.21000000000000002 and 0.04 done\n",
      "It took: 152.8523600101471 seconds.\n",
      "[0.8657355187700132, 0.10794147296600165]\n"
     ]
    },
    {
     "name": "stderr",
     "output_type": "stream",
     "text": [
      "Initial filtering of formulas: 100%|██████████████| 2/2 [00:00<00:00, 56.45it/s]\n",
      "Computing chunks: 100%|████████████████████████| 2/2 [00:00<00:00, 41943.04it/s]\n",
      "Splitting the experimental spectrum into chunks: 131072it [00:00, 2998706.24it/s]\n",
      "Deconvolving chunks: 100%|███████████████████████| 1/1 [02:40<00:00, 160.79s/it]\n"
     ]
    },
    {
     "name": "stdout",
     "output_type": "stream",
     "text": [
      "Estimation for 0.21000000000000002 and 0.05 done\n",
      "It took: 160.94510340690613 seconds.\n",
      "[0.8642153334190132, 0.10865626671000167]\n"
     ]
    },
    {
     "name": "stderr",
     "output_type": "stream",
     "text": [
      "Initial filtering of formulas: 100%|██████████████| 2/2 [00:00<00:00, 59.84it/s]\n",
      "Computing chunks: 100%|████████████████████████| 2/2 [00:00<00:00, 82241.25it/s]\n",
      "Splitting the experimental spectrum into chunks: 131072it [00:00, 3346843.22it/s]\n",
      "Deconvolving chunks: 100%|███████████████████████| 1/1 [02:03<00:00, 123.89s/it]\n"
     ]
    },
    {
     "name": "stdout",
     "output_type": "stream",
     "text": [
      "Estimation for 0.21000000000000002 and 0.060000000000000005 done\n",
      "It took: 124.05352568626404 seconds.\n",
      "[0.8639855794280132, 0.10862644772500167]\n"
     ]
    },
    {
     "name": "stderr",
     "output_type": "stream",
     "text": [
      "Initial filtering of formulas: 100%|██████████████| 2/2 [00:00<00:00, 59.23it/s]\n",
      "Computing chunks: 100%|████████████████████████| 2/2 [00:00<00:00, 86480.49it/s]\n",
      "Splitting the experimental spectrum into chunks: 131072it [00:00, 3345295.42it/s]\n",
      "Deconvolving chunks: 100%|███████████████████████| 1/1 [02:27<00:00, 147.92s/it]\n"
     ]
    },
    {
     "name": "stdout",
     "output_type": "stream",
     "text": [
      "Estimation for 0.21000000000000002 and 0.06999999999999999 done\n",
      "It took: 148.06843495368958 seconds.\n",
      "[0.8637314965920132, 0.10824819862200166]\n"
     ]
    },
    {
     "name": "stderr",
     "output_type": "stream",
     "text": [
      "Initial filtering of formulas: 100%|██████████████| 2/2 [00:00<00:00, 54.16it/s]\n",
      "Computing chunks: 100%|████████████████████████| 2/2 [00:00<00:00, 36954.22it/s]\n",
      "Splitting the experimental spectrum into chunks: 131072it [00:00, 3315396.99it/s]\n",
      "Deconvolving chunks: 100%|███████████████████████| 1/1 [02:02<00:00, 122.30s/it]\n"
     ]
    },
    {
     "name": "stdout",
     "output_type": "stream",
     "text": [
      "Estimation for 0.21000000000000002 and 0.08 done\n",
      "It took: 122.44827032089233 seconds.\n",
      "[0.8638009074470132, 0.10765535691700165]\n"
     ]
    },
    {
     "name": "stderr",
     "output_type": "stream",
     "text": [
      "Initial filtering of formulas: 100%|██████████████| 2/2 [00:00<00:00, 50.33it/s]\n",
      "Computing chunks: 100%|████████████████████████| 2/2 [00:00<00:00, 62137.84it/s]\n",
      "Splitting the experimental spectrum into chunks: 131072it [00:00, 3274558.57it/s]\n",
      "Deconvolving chunks: 100%|███████████████████████| 1/1 [02:29<00:00, 149.05s/it]\n"
     ]
    },
    {
     "name": "stdout",
     "output_type": "stream",
     "text": [
      "Estimation for 0.21000000000000002 and 0.09 done\n",
      "It took: 149.2134952545166 seconds.\n",
      "[0.8633988741050133, 0.10736016353400166]\n"
     ]
    },
    {
     "name": "stderr",
     "output_type": "stream",
     "text": [
      "Initial filtering of formulas: 100%|██████████████| 2/2 [00:00<00:00, 54.52it/s]\n",
      "Computing chunks: 100%|████████████████████████| 2/2 [00:00<00:00, 64527.75it/s]\n",
      "Splitting the experimental spectrum into chunks: 131072it [00:00, 2962301.78it/s]\n",
      "Deconvolving chunks: 100%|███████████████████████| 1/1 [02:23<00:00, 143.72s/it]\n"
     ]
    },
    {
     "name": "stdout",
     "output_type": "stream",
     "text": [
      "Estimation for 0.21000000000000002 and 0.09999999999999999 done\n",
      "It took: 143.89037227630615 seconds.\n",
      "[0.8623288775430132, 0.10729629179800164]\n"
     ]
    },
    {
     "name": "stderr",
     "output_type": "stream",
     "text": [
      "Initial filtering of formulas: 100%|██████████████| 2/2 [00:00<00:00, 54.12it/s]\n",
      "Computing chunks: 100%|████████████████████████| 2/2 [00:00<00:00, 58254.22it/s]\n",
      "Splitting the experimental spectrum into chunks: 131072it [00:00, 2937624.24it/s]\n",
      "Deconvolving chunks: 100%|███████████████████████| 1/1 [02:20<00:00, 140.50s/it]\n"
     ]
    },
    {
     "name": "stdout",
     "output_type": "stream",
     "text": [
      "Estimation for 0.21000000000000002 and 0.11 done\n",
      "It took: 140.67191123962402 seconds.\n",
      "[0.8612661648190132, 0.10734728921400165]\n"
     ]
    },
    {
     "name": "stderr",
     "output_type": "stream",
     "text": [
      "Initial filtering of formulas: 100%|██████████████| 2/2 [00:00<00:00, 50.63it/s]\n",
      "Computing chunks: 100%|████████████████████████| 2/2 [00:00<00:00, 36314.32it/s]\n",
      "Splitting the experimental spectrum into chunks: 131072it [00:00, 3000522.94it/s]\n",
      "Deconvolving chunks: 100%|███████████████████████| 1/1 [02:09<00:00, 129.10s/it]\n"
     ]
    },
    {
     "name": "stdout",
     "output_type": "stream",
     "text": [
      "Estimation for 0.21000000000000002 and 0.12 done\n",
      "It took: 129.29078674316406 seconds.\n",
      "[0.8599092055460132, 0.10707739166000163]\n"
     ]
    },
    {
     "name": "stderr",
     "output_type": "stream",
     "text": [
      "Initial filtering of formulas: 100%|██████████████| 2/2 [00:00<00:00, 53.72it/s]\n",
      "Computing chunks: 100%|████████████████████████| 2/2 [00:00<00:00, 48489.06it/s]\n",
      "Splitting the experimental spectrum into chunks: 131072it [00:00, 2939713.46it/s]\n",
      "Deconvolving chunks: 100%|███████████████████████| 1/1 [02:04<00:00, 124.51s/it]\n"
     ]
    },
    {
     "name": "stdout",
     "output_type": "stream",
     "text": [
      "Estimation for 0.21000000000000002 and 0.13 done\n",
      "It took: 124.70308184623718 seconds.\n",
      "[0.8592922465260132, 0.10707663399200164]\n"
     ]
    },
    {
     "name": "stderr",
     "output_type": "stream",
     "text": [
      "Initial filtering of formulas: 100%|██████████████| 2/2 [00:00<00:00, 57.88it/s]\n",
      "Computing chunks: 100%|████████████████████████| 2/2 [00:00<00:00, 70492.50it/s]\n",
      "Splitting the experimental spectrum into chunks: 131072it [00:00, 3017105.33it/s]\n",
      "Deconvolving chunks: 100%|███████████████████████| 1/1 [02:10<00:00, 130.98s/it]\n"
     ]
    },
    {
     "name": "stdout",
     "output_type": "stream",
     "text": [
      "Estimation for 0.21000000000000002 and 0.14 done\n",
      "It took: 131.16158628463745 seconds.\n",
      "[0.8592106571150132, 0.10690643772200163]\n"
     ]
    },
    {
     "name": "stderr",
     "output_type": "stream",
     "text": [
      "Initial filtering of formulas: 100%|██████████████| 2/2 [00:00<00:00, 59.43it/s]\n",
      "Computing chunks: 100%|████████████████████████| 2/2 [00:00<00:00, 51463.85it/s]\n",
      "Splitting the experimental spectrum into chunks: 131072it [00:00, 3120952.68it/s]\n",
      "Deconvolving chunks: 100%|███████████████████████| 1/1 [02:12<00:00, 132.54s/it]\n"
     ]
    },
    {
     "name": "stdout",
     "output_type": "stream",
     "text": [
      "Estimation for 0.21000000000000002 and 0.15000000000000002 done\n",
      "It took: 132.69748282432556 seconds.\n",
      "[0.8593253894070132, 0.10661867381800164]\n"
     ]
    },
    {
     "name": "stderr",
     "output_type": "stream",
     "text": [
      "Initial filtering of formulas: 100%|██████████████| 2/2 [00:00<00:00, 55.19it/s]\n",
      "Computing chunks: 100%|████████████████████████| 2/2 [00:00<00:00, 81442.80it/s]\n",
      "Splitting the experimental spectrum into chunks: 131072it [00:00, 2968043.27it/s]\n",
      "Deconvolving chunks: 100%|███████████████████████| 1/1 [02:09<00:00, 129.44s/it]\n"
     ]
    },
    {
     "name": "stdout",
     "output_type": "stream",
     "text": [
      "Estimation for 0.21000000000000002 and 0.16 done\n",
      "It took: 129.59763169288635 seconds.\n",
      "[0.8584880293970131, 0.10670968421700164]\n"
     ]
    },
    {
     "name": "stderr",
     "output_type": "stream",
     "text": [
      "Initial filtering of formulas: 100%|██████████████| 2/2 [00:00<00:00, 53.04it/s]\n",
      "Computing chunks: 100%|████████████████████████| 2/2 [00:00<00:00, 74235.47it/s]\n",
      "Splitting the experimental spectrum into chunks: 131072it [00:00, 2995258.93it/s]\n",
      "Deconvolving chunks: 100%|███████████████████████| 1/1 [02:07<00:00, 127.51s/it]\n"
     ]
    },
    {
     "name": "stdout",
     "output_type": "stream",
     "text": [
      "Estimation for 0.21000000000000002 and 0.17 done\n",
      "It took: 127.68959665298462 seconds.\n",
      "[0.8578013336920131, 0.10683111756600164]\n"
     ]
    },
    {
     "name": "stderr",
     "output_type": "stream",
     "text": [
      "Initial filtering of formulas: 100%|██████████████| 2/2 [00:00<00:00, 56.35it/s]\n",
      "Computing chunks: 100%|████████████████████████| 2/2 [00:00<00:00, 57065.36it/s]\n",
      "Splitting the experimental spectrum into chunks: 131072it [00:00, 2968475.98it/s]\n",
      "Deconvolving chunks: 100%|███████████████████████| 1/1 [02:06<00:00, 127.00s/it]\n"
     ]
    },
    {
     "name": "stdout",
     "output_type": "stream",
     "text": [
      "Estimation for 0.21000000000000002 and 0.18000000000000002 done\n",
      "It took: 127.15715384483337 seconds.\n",
      "[0.8567969257450131, 0.10682970661200164]\n"
     ]
    },
    {
     "name": "stderr",
     "output_type": "stream",
     "text": [
      "Initial filtering of formulas: 100%|██████████████| 2/2 [00:00<00:00, 53.22it/s]\n",
      "Computing chunks: 100%|████████████████████████| 2/2 [00:00<00:00, 39756.44it/s]\n",
      "Splitting the experimental spectrum into chunks: 131072it [00:00, 3164280.78it/s]\n",
      "Deconvolving chunks: 100%|███████████████████████| 1/1 [02:08<00:00, 128.93s/it]\n"
     ]
    },
    {
     "name": "stdout",
     "output_type": "stream",
     "text": [
      "Estimation for 0.21000000000000002 and 0.19 done\n",
      "It took: 129.10982251167297 seconds.\n",
      "[0.8565963303210131, 0.10690142246700164]\n"
     ]
    },
    {
     "name": "stderr",
     "output_type": "stream",
     "text": [
      "Initial filtering of formulas: 100%|██████████████| 2/2 [00:00<00:00, 54.44it/s]\n",
      "Computing chunks: 100%|████████████████████████| 2/2 [00:00<00:00, 57456.22it/s]\n",
      "Splitting the experimental spectrum into chunks: 131072it [00:00, 3161914.87it/s]\n",
      "Deconvolving chunks: 100%|███████████████████████| 1/1 [02:01<00:00, 121.81s/it]\n"
     ]
    },
    {
     "name": "stdout",
     "output_type": "stream",
     "text": [
      "Estimation for 0.21000000000000002 and 0.2 done\n",
      "It took: 121.96593117713928 seconds.\n",
      "[0.8566723690040131, 0.10693162434300164]\n"
     ]
    },
    {
     "name": "stderr",
     "output_type": "stream",
     "text": [
      "Initial filtering of formulas: 100%|██████████████| 2/2 [00:00<00:00, 51.55it/s]\n",
      "Computing chunks: 100%|████████████████████████| 2/2 [00:00<00:00, 88301.14it/s]\n",
      "Splitting the experimental spectrum into chunks: 131072it [00:00, 3117643.00it/s]\n",
      "Deconvolving chunks: 100%|███████████████████████| 1/1 [02:31<00:00, 151.23s/it]\n"
     ]
    },
    {
     "name": "stdout",
     "output_type": "stream",
     "text": [
      "Estimation for 0.21000000000000002 and 0.21000000000000002 done\n",
      "It took: 151.40189814567566 seconds.\n",
      "[0.8565899971870131, 0.10693294665400163]\n"
     ]
    },
    {
     "name": "stderr",
     "output_type": "stream",
     "text": [
      "Initial filtering of formulas: 100%|██████████████| 2/2 [00:00<00:00, 51.76it/s]\n",
      "Computing chunks: 100%|████████████████████████| 2/2 [00:00<00:00, 77672.30it/s]\n",
      "Splitting the experimental spectrum into chunks: 131072it [00:00, 3103405.18it/s]\n",
      "Deconvolving chunks: 100%|███████████████████████| 1/1 [02:08<00:00, 128.84s/it]\n"
     ]
    },
    {
     "name": "stdout",
     "output_type": "stream",
     "text": [
      "Estimation for 0.21000000000000002 and 0.22 done\n",
      "It took: 129.0267298221588 seconds.\n",
      "[0.8564956903960131, 0.10688919248000164]\n"
     ]
    },
    {
     "name": "stderr",
     "output_type": "stream",
     "text": [
      "Initial filtering of formulas: 100%|██████████████| 2/2 [00:00<00:00, 53.04it/s]\n",
      "Computing chunks: 100%|████████████████████████| 2/2 [00:00<00:00, 29026.33it/s]\n",
      "Splitting the experimental spectrum into chunks: 131072it [00:00, 2935114.83it/s]\n",
      "Deconvolving chunks: 100%|███████████████████████| 1/1 [02:06<00:00, 126.37s/it]\n"
     ]
    },
    {
     "name": "stdout",
     "output_type": "stream",
     "text": [
      "Estimation for 0.21000000000000002 and 0.23 done\n",
      "It took: 126.53142237663269 seconds.\n",
      "[0.8563057362710131, 0.10688745955900164]\n"
     ]
    },
    {
     "name": "stderr",
     "output_type": "stream",
     "text": [
      "Initial filtering of formulas: 100%|██████████████| 2/2 [00:00<00:00, 49.52it/s]\n",
      "Computing chunks: 100%|████████████████████████| 2/2 [00:00<00:00, 46603.38it/s]\n",
      "Splitting the experimental spectrum into chunks: 131072it [00:00, 2612560.18it/s]\n",
      "Deconvolving chunks: 100%|███████████████████████| 1/1 [02:24<00:00, 144.41s/it]\n"
     ]
    },
    {
     "name": "stdout",
     "output_type": "stream",
     "text": [
      "Estimation for 0.21000000000000002 and 0.24000000000000002 done\n",
      "It took: 144.6096704006195 seconds.\n",
      "[0.8563369149840131, 0.10658893153100164]\n"
     ]
    },
    {
     "name": "stderr",
     "output_type": "stream",
     "text": [
      "Initial filtering of formulas: 100%|██████████████| 2/2 [00:00<00:00, 53.58it/s]\n",
      "Computing chunks: 100%|████████████████████████| 2/2 [00:00<00:00, 92182.51it/s]\n",
      "Splitting the experimental spectrum into chunks: 131072it [00:00, 2976383.08it/s]\n",
      "Deconvolving chunks: 100%|███████████████████████| 1/1 [02:09<00:00, 129.45s/it]\n"
     ]
    },
    {
     "name": "stdout",
     "output_type": "stream",
     "text": [
      "Estimation for 0.21000000000000002 and 0.25 done\n",
      "It took: 129.61454129219055 seconds.\n",
      "[0.8562983635160131, 0.10646646996800163]\n"
     ]
    },
    {
     "name": "stderr",
     "output_type": "stream",
     "text": [
      "Initial filtering of formulas: 100%|██████████████| 2/2 [00:00<00:00, 51.92it/s]\n",
      "Computing chunks: 100%|████████████████████████| 2/2 [00:00<00:00, 16288.56it/s]\n",
      "Splitting the experimental spectrum into chunks: 131072it [00:00, 3120031.63it/s]\n",
      "Deconvolving chunks: 100%|███████████████████████| 1/1 [02:01<00:00, 121.92s/it]\n"
     ]
    },
    {
     "name": "stdout",
     "output_type": "stream",
     "text": [
      "Estimation for 0.21000000000000002 and 0.26 done\n",
      "It took: 122.10839915275574 seconds.\n",
      "[0.8562182827350131, 0.10638849524400162]\n"
     ]
    },
    {
     "name": "stderr",
     "output_type": "stream",
     "text": [
      "Initial filtering of formulas: 100%|██████████████| 2/2 [00:00<00:00, 63.15it/s]\n",
      "Computing chunks: 100%|████████████████████████| 2/2 [00:00<00:00, 95325.09it/s]\n",
      "Splitting the experimental spectrum into chunks: 131072it [00:00, 3400565.45it/s]\n",
      "Deconvolving chunks: 100%|███████████████████████| 1/1 [02:04<00:00, 124.25s/it]\n"
     ]
    },
    {
     "name": "stdout",
     "output_type": "stream",
     "text": [
      "Estimation for 0.21000000000000002 and 0.27 done\n",
      "It took: 124.41527152061462 seconds.\n",
      "[0.8548837501480131, 0.10656954637900164]\n"
     ]
    },
    {
     "name": "stderr",
     "output_type": "stream",
     "text": [
      "Initial filtering of formulas: 100%|██████████████| 2/2 [00:00<00:00, 61.61it/s]\n",
      "Computing chunks: 100%|████████████████████████| 2/2 [00:00<00:00, 92182.51it/s]\n",
      "Splitting the experimental spectrum into chunks: 131072it [00:00, 3386259.32it/s]\n",
      "Deconvolving chunks: 100%|███████████████████████| 1/1 [02:01<00:00, 121.03s/it]\n"
     ]
    },
    {
     "name": "stdout",
     "output_type": "stream",
     "text": [
      "Estimation for 0.21000000000000002 and 0.28 done\n",
      "It took: 121.17626094818115 seconds.\n",
      "[0.8531861467520131, 0.10682196066100164]\n"
     ]
    },
    {
     "name": "stderr",
     "output_type": "stream",
     "text": [
      "Initial filtering of formulas: 100%|██████████████| 2/2 [00:00<00:00, 61.02it/s]\n",
      "Computing chunks: 100%|████████████████████████| 2/2 [00:00<00:00, 97541.95it/s]\n",
      "Splitting the experimental spectrum into chunks: 131072it [00:00, 3516141.87it/s]\n",
      "Deconvolving chunks: 100%|███████████████████████| 1/1 [02:00<00:00, 120.16s/it]\n"
     ]
    },
    {
     "name": "stdout",
     "output_type": "stream",
     "text": [
      "Estimation for 0.21000000000000002 and 0.29000000000000004 done\n",
      "It took: 120.32094478607178 seconds.\n",
      "[0.8531304765370131, 0.10678256390300164]\n"
     ]
    },
    {
     "name": "stderr",
     "output_type": "stream",
     "text": [
      "Initial filtering of formulas: 100%|██████████████| 2/2 [00:00<00:00, 60.92it/s]\n",
      "Computing chunks: 100%|████████████████████████| 2/2 [00:00<00:00, 91180.52it/s]\n",
      "Splitting the experimental spectrum into chunks: 131072it [00:00, 3396321.78it/s]\n",
      "Deconvolving chunks: 100%|███████████████████████| 1/1 [03:47<00:00, 227.91s/it]\n"
     ]
    },
    {
     "name": "stdout",
     "output_type": "stream",
     "text": [
      "Estimation for 0.22 and 0.01 done\n",
      "It took: 228.06977653503418 seconds.\n",
      "[0.7312926817520112, 0.2675877345540041]\n"
     ]
    },
    {
     "name": "stderr",
     "output_type": "stream",
     "text": [
      "Initial filtering of formulas: 100%|██████████████| 2/2 [00:00<00:00, 62.16it/s]\n",
      "Computing chunks: 100%|████████████████████████| 2/2 [00:00<00:00, 86480.49it/s]\n",
      "Splitting the experimental spectrum into chunks: 131072it [00:00, 3410946.02it/s]\n",
      "Deconvolving chunks: 100%|███████████████████████| 1/1 [02:17<00:00, 137.25s/it]\n"
     ]
    },
    {
     "name": "stdout",
     "output_type": "stream",
     "text": [
      "Estimation for 0.22 and 0.02 done\n",
      "It took: 137.41412448883057 seconds.\n",
      "[0.8734985202420135, 0.10842066465500166]\n"
     ]
    },
    {
     "name": "stderr",
     "output_type": "stream",
     "text": [
      "Initial filtering of formulas: 100%|██████████████| 2/2 [00:00<00:00, 63.72it/s]\n",
      "Computing chunks: 100%|████████████████████████| 2/2 [00:00<00:00, 91180.52it/s]\n",
      "Splitting the experimental spectrum into chunks: 131072it [00:00, 3464600.10it/s]\n",
      "Deconvolving chunks: 100%|███████████████████████| 1/1 [02:27<00:00, 147.42s/it]\n"
     ]
    },
    {
     "name": "stdout",
     "output_type": "stream",
     "text": [
      "Estimation for 0.22 and 0.03 done\n",
      "It took: 147.56223607063293 seconds.\n",
      "[0.8734935776550135, 0.10311678491700159]\n"
     ]
    },
    {
     "name": "stderr",
     "output_type": "stream",
     "text": [
      "Initial filtering of formulas: 100%|██████████████| 2/2 [00:00<00:00, 61.59it/s]\n",
      "Computing chunks: 100%|████████████████████████| 2/2 [00:00<00:00, 54827.50it/s]\n",
      "Splitting the experimental spectrum into chunks: 131072it [00:00, 3404355.88it/s]\n",
      "Deconvolving chunks: 100%|███████████████████████| 1/1 [02:13<00:00, 133.05s/it]\n"
     ]
    },
    {
     "name": "stdout",
     "output_type": "stream",
     "text": [
      "Estimation for 0.22 and 0.04 done\n",
      "It took: 133.2118420600891 seconds.\n",
      "[0.8666944723260134, 0.10811445548100165]\n"
     ]
    },
    {
     "name": "stderr",
     "output_type": "stream",
     "text": [
      "Initial filtering of formulas: 100%|██████████████| 2/2 [00:00<00:00, 63.07it/s]\n",
      "Computing chunks: 100%|████████████████████████| 2/2 [00:00<00:00, 92182.51it/s]\n",
      "Splitting the experimental spectrum into chunks: 131072it [00:00, 3443830.07it/s]\n",
      "Deconvolving chunks: 100%|███████████████████████| 1/1 [02:25<00:00, 145.98s/it]\n"
     ]
    },
    {
     "name": "stdout",
     "output_type": "stream",
     "text": [
      "Estimation for 0.22 and 0.05 done\n",
      "It took: 146.1510591506958 seconds.\n",
      "[0.8653927043560132, 0.10874508674600167]\n"
     ]
    },
    {
     "name": "stderr",
     "output_type": "stream",
     "text": [
      "Initial filtering of formulas: 100%|██████████████| 2/2 [00:00<00:00, 63.82it/s]\n",
      "Computing chunks: 100%|████████████████████████| 2/2 [00:00<00:00, 90200.09it/s]\n",
      "Splitting the experimental spectrum into chunks: 131072it [00:00, 3431898.46it/s]\n",
      "Deconvolving chunks: 100%|███████████████████████| 1/1 [01:52<00:00, 112.36s/it]\n"
     ]
    },
    {
     "name": "stdout",
     "output_type": "stream",
     "text": [
      "Estimation for 0.22 and 0.060000000000000005 done\n",
      "It took: 112.49951505661011 seconds.\n",
      "[0.8650036040970132, 0.10864474135500167]\n"
     ]
    },
    {
     "name": "stderr",
     "output_type": "stream",
     "text": [
      "Initial filtering of formulas: 100%|██████████████| 2/2 [00:00<00:00, 59.94it/s]\n",
      "Computing chunks: 100%|████████████████████████| 2/2 [00:00<00:00, 85598.04it/s]\n",
      "Splitting the experimental spectrum into chunks: 131072it [00:00, 3383300.08it/s]\n",
      "Deconvolving chunks: 100%|███████████████████████| 1/1 [01:55<00:00, 115.54s/it]\n"
     ]
    },
    {
     "name": "stdout",
     "output_type": "stream",
     "text": [
      "Estimation for 0.22 and 0.06999999999999999 done\n",
      "It took: 115.691091299057 seconds.\n",
      "[0.8648302912630133, 0.10832359452600167]\n"
     ]
    },
    {
     "name": "stderr",
     "output_type": "stream",
     "text": [
      "Initial filtering of formulas: 100%|██████████████| 2/2 [00:00<00:00, 61.23it/s]\n",
      "Computing chunks: 100%|████████████████████████| 2/2 [00:00<00:00, 95325.09it/s]\n",
      "Splitting the experimental spectrum into chunks: 131072it [00:00, 3572580.38it/s]\n",
      "Deconvolving chunks: 100%|███████████████████████| 1/1 [02:21<00:00, 141.59s/it]\n"
     ]
    },
    {
     "name": "stdout",
     "output_type": "stream",
     "text": [
      "Estimation for 0.22 and 0.08 done\n",
      "It took: 141.73814988136292 seconds.\n",
      "[0.8646052278060132, 0.10791822356900165]\n"
     ]
    },
    {
     "name": "stderr",
     "output_type": "stream",
     "text": [
      "Initial filtering of formulas: 100%|██████████████| 2/2 [00:00<00:00, 61.94it/s]\n",
      "Computing chunks: 100%|████████████████████████| 2/2 [00:00<00:00, 88301.14it/s]\n",
      "Splitting the experimental spectrum into chunks: 131072it [00:00, 3406085.44it/s]\n",
      "Deconvolving chunks: 100%|███████████████████████| 1/1 [02:15<00:00, 135.76s/it]\n"
     ]
    },
    {
     "name": "stdout",
     "output_type": "stream",
     "text": [
      "Estimation for 0.22 and 0.09 done\n",
      "It took: 135.92018747329712 seconds.\n",
      "[0.8643150617460132, 0.10764419754600166]\n"
     ]
    },
    {
     "name": "stderr",
     "output_type": "stream",
     "text": [
      "Initial filtering of formulas: 100%|██████████████| 2/2 [00:00<00:00, 47.91it/s]\n",
      "Computing chunks: 100%|████████████████████████| 2/2 [00:00<00:00, 77672.30it/s]\n",
      "Splitting the experimental spectrum into chunks: 131072it [00:00, 3333732.43it/s]\n",
      "Deconvolving chunks: 100%|███████████████████████| 1/1 [01:54<00:00, 114.28s/it]\n"
     ]
    },
    {
     "name": "stdout",
     "output_type": "stream",
     "text": [
      "Estimation for 0.22 and 0.09999999999999999 done\n",
      "It took: 114.46587061882019 seconds.\n",
      "[0.8635913667830132, 0.10750190744500165]\n"
     ]
    },
    {
     "name": "stderr",
     "output_type": "stream",
     "text": [
      "Initial filtering of formulas: 100%|██████████████| 2/2 [00:00<00:00, 51.53it/s]\n",
      "Computing chunks: 100%|████████████████████████| 2/2 [00:00<00:00, 85598.04it/s]\n",
      "Splitting the experimental spectrum into chunks: 131072it [00:00, 3178881.77it/s]\n",
      "Deconvolving chunks: 100%|███████████████████████| 1/1 [01:58<00:00, 118.87s/it]\n"
     ]
    },
    {
     "name": "stdout",
     "output_type": "stream",
     "text": [
      "Estimation for 0.22 and 0.11 done\n",
      "It took: 119.0203149318695 seconds.\n",
      "[0.8625655449890132, 0.10748783945700165]\n"
     ]
    },
    {
     "name": "stderr",
     "output_type": "stream",
     "text": [
      "Initial filtering of formulas: 100%|██████████████| 2/2 [00:00<00:00, 62.84it/s]\n",
      "Computing chunks: 100%|████████████████████████| 2/2 [00:00<00:00, 88301.14it/s]\n",
      "Splitting the experimental spectrum into chunks: 131072it [00:00, 3429650.42it/s]\n",
      "Deconvolving chunks: 100%|███████████████████████| 1/1 [01:55<00:00, 115.98s/it]\n"
     ]
    },
    {
     "name": "stdout",
     "output_type": "stream",
     "text": [
      "Estimation for 0.22 and 0.12 done\n",
      "It took: 116.11776900291443 seconds.\n",
      "[0.8616293078270132, 0.10745484576800166]\n"
     ]
    },
    {
     "name": "stderr",
     "output_type": "stream",
     "text": [
      "Initial filtering of formulas: 100%|██████████████| 2/2 [00:00<00:00, 62.87it/s]\n",
      "Computing chunks: 100%|████████████████████████| 2/2 [00:00<00:00, 66576.25it/s]\n",
      "Splitting the experimental spectrum into chunks: 131072it [00:00, 3474782.82it/s]\n",
      "Deconvolving chunks: 100%|███████████████████████| 1/1 [02:00<00:00, 120.51s/it]\n"
     ]
    },
    {
     "name": "stdout",
     "output_type": "stream",
     "text": [
      "Estimation for 0.22 and 0.13 done\n",
      "It took: 120.66503286361694 seconds.\n",
      "[0.8608499866500132, 0.10716696460300164]\n"
     ]
    },
    {
     "name": "stderr",
     "output_type": "stream",
     "text": [
      "Initial filtering of formulas: 100%|██████████████| 2/2 [00:00<00:00, 62.44it/s]\n",
      "Computing chunks: 100%|████████████████████████| 2/2 [00:00<00:00, 94254.02it/s]\n",
      "Splitting the experimental spectrum into chunks: 131072it [00:00, 3414059.84it/s]\n",
      "Deconvolving chunks: 100%|███████████████████████| 1/1 [02:00<00:00, 120.82s/it]\n"
     ]
    },
    {
     "name": "stdout",
     "output_type": "stream",
     "text": [
      "Estimation for 0.22 and 0.14 done\n",
      "It took: 120.97796487808228 seconds.\n",
      "[0.8605094827280132, 0.10717245147700163]\n"
     ]
    },
    {
     "name": "stderr",
     "output_type": "stream",
     "text": [
      "Initial filtering of formulas: 100%|██████████████| 2/2 [00:00<00:00, 62.11it/s]\n",
      "Computing chunks: 100%|████████████████████████| 2/2 [00:00<00:00, 86480.49it/s]\n",
      "Splitting the experimental spectrum into chunks: 131072it [00:00, 3424245.79it/s]\n",
      "Deconvolving chunks: 100%|███████████████████████| 1/1 [02:00<00:00, 120.59s/it]\n"
     ]
    },
    {
     "name": "stdout",
     "output_type": "stream",
     "text": [
      "Estimation for 0.22 and 0.15000000000000002 done\n",
      "It took: 120.76210117340088 seconds.\n",
      "[0.8607169349510132, 0.10702777752800163]\n"
     ]
    },
    {
     "name": "stderr",
     "output_type": "stream",
     "text": [
      "Initial filtering of formulas: 100%|██████████████| 2/2 [00:00<00:00, 57.03it/s]\n",
      "Computing chunks: 100%|████████████████████████| 2/2 [00:00<00:00, 81442.80it/s]\n",
      "Splitting the experimental spectrum into chunks: 131072it [00:00, 3242784.92it/s]\n",
      "Deconvolving chunks: 100%|███████████████████████| 1/1 [02:01<00:00, 121.02s/it]\n"
     ]
    },
    {
     "name": "stdout",
     "output_type": "stream",
     "text": [
      "Estimation for 0.22 and 0.16 done\n",
      "It took: 121.16601014137268 seconds.\n",
      "[0.8601521892400132, 0.10682730899400164]\n"
     ]
    },
    {
     "name": "stderr",
     "output_type": "stream",
     "text": [
      "Initial filtering of formulas: 100%|██████████████| 2/2 [00:00<00:00, 62.79it/s]\n",
      "Computing chunks: 100%|████████████████████████| 2/2 [00:00<00:00, 86480.49it/s]\n",
      "Splitting the experimental spectrum into chunks: 131072it [00:00, 3445384.04it/s]\n",
      "Deconvolving chunks: 100%|███████████████████████| 1/1 [01:59<00:00, 119.23s/it]\n"
     ]
    },
    {
     "name": "stdout",
     "output_type": "stream",
     "text": [
      "Estimation for 0.22 and 0.17 done\n",
      "It took: 119.3731598854065 seconds.\n",
      "[0.8596835281450133, 0.10688043378600164]\n"
     ]
    },
    {
     "name": "stderr",
     "output_type": "stream",
     "text": [
      "Initial filtering of formulas: 100%|██████████████| 2/2 [00:00<00:00, 60.52it/s]\n",
      "Computing chunks: 100%|████████████████████████| 2/2 [00:00<00:00, 84733.41it/s]\n",
      "Splitting the experimental spectrum into chunks: 131072it [00:00, 3364766.96it/s]\n",
      "Deconvolving chunks: 100%|███████████████████████| 1/1 [01:59<00:00, 119.87s/it]\n"
     ]
    },
    {
     "name": "stdout",
     "output_type": "stream",
     "text": [
      "Estimation for 0.22 and 0.18000000000000002 done\n",
      "It took: 120.03564071655273 seconds.\n",
      "[0.8588562258720132, 0.10701161627700163]\n"
     ]
    },
    {
     "name": "stderr",
     "output_type": "stream",
     "text": [
      "Initial filtering of formulas: 100%|██████████████| 2/2 [00:00<00:00, 61.61it/s]\n",
      "Computing chunks: 100%|████████████████████████| 2/2 [00:00<00:00, 91180.52it/s]\n",
      "Splitting the experimental spectrum into chunks: 131072it [00:00, 3405241.53it/s]\n",
      "Deconvolving chunks: 100%|███████████████████████| 1/1 [01:56<00:00, 116.93s/it]\n"
     ]
    },
    {
     "name": "stdout",
     "output_type": "stream",
     "text": [
      "Estimation for 0.22 and 0.19 done\n",
      "It took: 117.07534313201904 seconds.\n",
      "[0.8579657534550131, 0.10697481261600164]\n"
     ]
    },
    {
     "name": "stderr",
     "output_type": "stream",
     "text": [
      "Initial filtering of formulas: 100%|██████████████| 2/2 [00:00<00:00, 59.82it/s]\n",
      "Computing chunks: 100%|████████████████████████| 2/2 [00:00<00:00, 89240.51it/s]\n",
      "Splitting the experimental spectrum into chunks: 131072it [00:00, 3360386.15it/s]\n",
      "Deconvolving chunks: 100%|███████████████████████| 1/1 [02:00<00:00, 120.83s/it]\n"
     ]
    },
    {
     "name": "stdout",
     "output_type": "stream",
     "text": [
      "Estimation for 0.22 and 0.2 done\n",
      "It took: 120.97418594360352 seconds.\n",
      "[0.8578766193010131, 0.10693869102700164]\n"
     ]
    },
    {
     "name": "stderr",
     "output_type": "stream",
     "text": [
      "Initial filtering of formulas: 100%|██████████████| 2/2 [00:00<00:00, 62.12it/s]\n",
      "Computing chunks: 100%|████████████████████████| 2/2 [00:00<00:00, 92182.51it/s]\n",
      "Splitting the experimental spectrum into chunks: 131072it [00:00, 3418666.84it/s]\n",
      "Deconvolving chunks: 100%|███████████████████████| 1/1 [01:59<00:00, 119.99s/it]\n"
     ]
    },
    {
     "name": "stdout",
     "output_type": "stream",
     "text": [
      "Estimation for 0.22 and 0.21000000000000002 done\n",
      "It took: 120.1538918018341 seconds.\n",
      "[0.857706414345013, 0.10693647841900164]\n"
     ]
    },
    {
     "name": "stderr",
     "output_type": "stream",
     "text": [
      "Initial filtering of formulas: 100%|██████████████| 2/2 [00:00<00:00, 61.68it/s]\n",
      "Computing chunks: 100%|████████████████████████| 2/2 [00:00<00:00, 92182.51it/s]\n",
      "Splitting the experimental spectrum into chunks: 131072it [00:00, 3365776.36it/s]\n",
      "Deconvolving chunks: 100%|███████████████████████| 1/1 [02:18<00:00, 138.38s/it]\n"
     ]
    },
    {
     "name": "stdout",
     "output_type": "stream",
     "text": [
      "Estimation for 0.22 and 0.22 done\n",
      "It took: 138.55116176605225 seconds.\n",
      "[0.8575729469650131, 0.10692434095200164]\n"
     ]
    },
    {
     "name": "stderr",
     "output_type": "stream",
     "text": [
      "Initial filtering of formulas: 100%|██████████████| 2/2 [00:00<00:00, 62.95it/s]\n",
      "Computing chunks: 100%|████████████████████████| 2/2 [00:00<00:00, 91180.52it/s]\n",
      "Splitting the experimental spectrum into chunks: 131072it [00:00, 3455779.77it/s]\n",
      "Deconvolving chunks: 100%|███████████████████████| 1/1 [02:00<00:00, 120.91s/it]\n"
     ]
    },
    {
     "name": "stdout",
     "output_type": "stream",
     "text": [
      "Estimation for 0.22 and 0.23 done\n",
      "It took: 121.07483673095703 seconds.\n",
      "[0.857444182858013, 0.10689417285900164]\n"
     ]
    },
    {
     "name": "stderr",
     "output_type": "stream",
     "text": [
      "Initial filtering of formulas: 100%|██████████████| 2/2 [00:00<00:00, 60.08it/s]\n",
      "Computing chunks: 100%|████████████████████████| 2/2 [00:00<00:00, 85598.04it/s]\n",
      "Splitting the experimental spectrum into chunks: 131072it [00:00, 3365446.69it/s]\n",
      "Deconvolving chunks: 100%|███████████████████████| 1/1 [01:58<00:00, 118.96s/it]\n"
     ]
    },
    {
     "name": "stdout",
     "output_type": "stream",
     "text": [
      "Estimation for 0.22 and 0.24000000000000002 done\n",
      "It took: 119.10732507705688 seconds.\n",
      "[0.8573694043100131, 0.10679487801400164]\n"
     ]
    },
    {
     "name": "stderr",
     "output_type": "stream",
     "text": [
      "Initial filtering of formulas: 100%|██████████████| 2/2 [00:00<00:00, 61.82it/s]\n",
      "Computing chunks: 100%|████████████████████████| 2/2 [00:00<00:00, 76260.07it/s]\n",
      "Splitting the experimental spectrum into chunks: 131072it [00:00, 3368932.09it/s]\n",
      "Deconvolving chunks: 100%|███████████████████████| 1/1 [01:59<00:00, 119.21s/it]\n"
     ]
    },
    {
     "name": "stdout",
     "output_type": "stream",
     "text": [
      "Estimation for 0.22 and 0.25 done\n",
      "It took: 119.375492811203 seconds.\n",
      "[0.8573435959480131, 0.10655907644700163]\n"
     ]
    },
    {
     "name": "stderr",
     "output_type": "stream",
     "text": [
      "Initial filtering of formulas: 100%|██████████████| 2/2 [00:00<00:00, 61.42it/s]\n",
      "Computing chunks: 100%|████████████████████████| 2/2 [00:00<00:00, 57456.22it/s]\n",
      "Splitting the experimental spectrum into chunks: 131072it [00:00, 3429500.65it/s]\n",
      "Deconvolving chunks: 100%|███████████████████████| 1/1 [02:00<00:00, 120.50s/it]\n"
     ]
    },
    {
     "name": "stdout",
     "output_type": "stream",
     "text": [
      "Estimation for 0.22 and 0.26 done\n",
      "It took: 120.63786363601685 seconds.\n",
      "[0.8572341370520131, 0.10647628043700164]\n"
     ]
    },
    {
     "name": "stderr",
     "output_type": "stream",
     "text": [
      "Initial filtering of formulas: 100%|██████████████| 2/2 [00:00<00:00, 61.70it/s]\n",
      "Computing chunks: 100%|████████████████████████| 2/2 [00:00<00:00, 87381.33it/s]\n",
      "Splitting the experimental spectrum into chunks: 131072it [00:00, 3433077.18it/s]\n",
      "Deconvolving chunks: 100%|███████████████████████| 1/1 [02:01<00:00, 121.51s/it]\n"
     ]
    },
    {
     "name": "stdout",
     "output_type": "stream",
     "text": [
      "Estimation for 0.22 and 0.27 done\n",
      "It took: 121.64936852455139 seconds.\n",
      "[0.8564932039540131, 0.10650188557900164]\n"
     ]
    },
    {
     "name": "stderr",
     "output_type": "stream",
     "text": [
      "Initial filtering of formulas: 100%|██████████████| 2/2 [00:00<00:00, 62.30it/s]\n",
      "Computing chunks: 100%|████████████████████████| 2/2 [00:00<00:00, 87381.33it/s]\n",
      "Splitting the experimental spectrum into chunks: 131072it [00:00, 3422881.32it/s]\n",
      "Deconvolving chunks: 100%|███████████████████████| 1/1 [02:00<00:00, 120.34s/it]\n"
     ]
    },
    {
     "name": "stdout",
     "output_type": "stream",
     "text": [
      "Estimation for 0.22 and 0.28 done\n",
      "It took: 120.50169372558594 seconds.\n",
      "[0.8544785863160131, 0.10681238353200163]\n"
     ]
    },
    {
     "name": "stderr",
     "output_type": "stream",
     "text": [
      "Initial filtering of formulas: 100%|██████████████| 2/2 [00:00<00:00, 61.04it/s]\n",
      "Computing chunks: 100%|████████████████████████| 2/2 [00:00<00:00, 88301.14it/s]\n",
      "Splitting the experimental spectrum into chunks: 131072it [00:00, 3388033.17it/s]\n",
      "Deconvolving chunks: 100%|███████████████████████| 1/1 [02:02<00:00, 122.26s/it]\n"
     ]
    },
    {
     "name": "stdout",
     "output_type": "stream",
     "text": [
      "Estimation for 0.22 and 0.29000000000000004 done\n",
      "It took: 122.40729904174805 seconds.\n",
      "[0.8540683698440131, 0.10681753702400164]\n"
     ]
    },
    {
     "name": "stderr",
     "output_type": "stream",
     "text": [
      "Initial filtering of formulas: 100%|██████████████| 2/2 [00:00<00:00, 62.14it/s]\n",
      "Computing chunks: 100%|████████████████████████| 2/2 [00:00<00:00, 91180.52it/s]\n",
      "Splitting the experimental spectrum into chunks: 131072it [00:00, 3434406.89it/s]\n",
      "Deconvolving chunks: 100%|███████████████████████| 1/1 [01:42<00:00, 102.12s/it]\n"
     ]
    },
    {
     "name": "stdout",
     "output_type": "stream",
     "text": [
      "Estimation for 0.23 and 0.01 done\n",
      "It took: 102.26717209815979 seconds.\n",
      "[0.7371496771900113, 0.261823560078004]\n"
     ]
    },
    {
     "name": "stderr",
     "output_type": "stream",
     "text": [
      "Initial filtering of formulas: 100%|██████████████| 2/2 [00:00<00:00, 60.89it/s]\n",
      "Computing chunks: 100%|████████████████████████| 2/2 [00:00<00:00, 93206.76it/s]\n",
      "Splitting the experimental spectrum into chunks: 131072it [00:00, 3418177.95it/s]\n",
      "Deconvolving chunks: 100%|███████████████████████| 1/1 [01:54<00:00, 114.02s/it]\n"
     ]
    },
    {
     "name": "stdout",
     "output_type": "stream",
     "text": [
      "Estimation for 0.23 and 0.02 done\n",
      "It took: 114.164710521698 seconds.\n",
      "[0.8714114130920133, 0.11170500798200171]\n"
     ]
    },
    {
     "name": "stderr",
     "output_type": "stream",
     "text": [
      "Initial filtering of formulas: 100%|██████████████| 2/2 [00:00<00:00, 57.97it/s]\n",
      "Computing chunks: 100%|████████████████████████| 2/2 [00:00<00:00, 92182.51it/s]\n",
      "Splitting the experimental spectrum into chunks: 131072it [00:00, 3409232.67it/s]\n",
      "Deconvolving chunks: 100%|███████████████████████| 1/1 [02:15<00:00, 135.67s/it]\n"
     ]
    },
    {
     "name": "stdout",
     "output_type": "stream",
     "text": [
      "Estimation for 0.23 and 0.03 done\n",
      "It took: 135.81914401054382 seconds.\n",
      "[0.8746115017720134, 0.10316068185700158]\n"
     ]
    },
    {
     "name": "stderr",
     "output_type": "stream",
     "text": [
      "Initial filtering of formulas: 100%|██████████████| 2/2 [00:00<00:00, 62.35it/s]\n",
      "Computing chunks: 100%|████████████████████████| 2/2 [00:00<00:00, 68200.07it/s]\n",
      "Splitting the experimental spectrum into chunks: 131072it [00:00, 3302193.71it/s]\n",
      "Deconvolving chunks: 100%|███████████████████████| 1/1 [02:22<00:00, 142.10s/it]\n"
     ]
    },
    {
     "name": "stdout",
     "output_type": "stream",
     "text": [
      "Estimation for 0.23 and 0.04 done\n",
      "It took: 142.27063918113708 seconds.\n",
      "[0.8678149709440133, 0.10822346472700164]\n"
     ]
    },
    {
     "name": "stderr",
     "output_type": "stream",
     "text": [
      "Initial filtering of formulas: 100%|██████████████| 2/2 [00:00<00:00, 55.58it/s]\n",
      "Computing chunks: 100%|████████████████████████| 2/2 [00:00<00:00, 85598.04it/s]\n",
      "Splitting the experimental spectrum into chunks: 131072it [00:00, 2726936.31it/s]\n",
      "Deconvolving chunks: 100%|███████████████████████| 1/1 [02:23<00:00, 143.34s/it]\n"
     ]
    },
    {
     "name": "stdout",
     "output_type": "stream",
     "text": [
      "Estimation for 0.23 and 0.05 done\n",
      "It took: 143.5019702911377 seconds.\n",
      "[0.8665172736290133, 0.10881395205300166]\n"
     ]
    },
    {
     "name": "stderr",
     "output_type": "stream",
     "text": [
      "Initial filtering of formulas: 100%|██████████████| 2/2 [00:00<00:00, 61.97it/s]\n",
      "Computing chunks: 100%|████████████████████████| 2/2 [00:00<00:00, 89240.51it/s]\n",
      "Splitting the experimental spectrum into chunks: 131072it [00:00, 3494173.67it/s]\n",
      "Deconvolving chunks: 100%|███████████████████████| 1/1 [02:25<00:00, 145.73s/it]\n"
     ]
    },
    {
     "name": "stdout",
     "output_type": "stream",
     "text": [
      "Estimation for 0.23 and 0.060000000000000005 done\n",
      "It took: 145.87281894683838 seconds.\n",
      "[0.8659894686840133, 0.10874022409900166]\n"
     ]
    },
    {
     "name": "stderr",
     "output_type": "stream",
     "text": [
      "Initial filtering of formulas: 100%|██████████████| 2/2 [00:00<00:00, 62.64it/s]\n",
      "Computing chunks: 100%|████████████████████████| 2/2 [00:00<00:00, 93206.76it/s]\n",
      "Splitting the experimental spectrum into chunks: 131072it [00:00, 3421603.10it/s]\n",
      "Deconvolving chunks: 100%|███████████████████████| 1/1 [01:53<00:00, 113.25s/it]\n"
     ]
    },
    {
     "name": "stdout",
     "output_type": "stream",
     "text": [
      "Estimation for 0.23 and 0.06999999999999999 done\n",
      "It took: 113.39099097251892 seconds.\n",
      "[0.8659150776370133, 0.10832086323500166]\n"
     ]
    },
    {
     "name": "stderr",
     "output_type": "stream",
     "text": [
      "Initial filtering of formulas: 100%|██████████████| 2/2 [00:00<00:00, 63.94it/s]\n",
      "Computing chunks: 100%|████████████████████████| 2/2 [00:00<00:00, 99864.38it/s]\n",
      "Splitting the experimental spectrum into chunks: 131072it [00:00, 3504866.37it/s]\n",
      "Deconvolving chunks: 100%|███████████████████████| 1/1 [01:53<00:00, 113.72s/it]\n"
     ]
    },
    {
     "name": "stdout",
     "output_type": "stream",
     "text": [
      "Estimation for 0.23 and 0.08 done\n",
      "It took: 113.85417175292969 seconds.\n",
      "[0.8656650843600132, 0.10803546645700166]\n"
     ]
    },
    {
     "name": "stderr",
     "output_type": "stream",
     "text": [
      "Initial filtering of formulas: 100%|██████████████| 2/2 [00:00<00:00, 61.11it/s]\n",
      "Computing chunks: 100%|███████████████████████| 2/2 [00:00<00:00, 102300.10it/s]\n",
      "Splitting the experimental spectrum into chunks: 131072it [00:00, 3426508.11it/s]\n",
      "Deconvolving chunks: 100%|███████████████████████| 1/1 [02:16<00:00, 136.91s/it]\n"
     ]
    },
    {
     "name": "stdout",
     "output_type": "stream",
     "text": [
      "Estimation for 0.23 and 0.09 done\n",
      "It took: 137.07500863075256 seconds.\n",
      "[0.8651642706380133, 0.10798301797700165]\n"
     ]
    },
    {
     "name": "stderr",
     "output_type": "stream",
     "text": [
      "Initial filtering of formulas: 100%|██████████████| 2/2 [00:00<00:00, 63.84it/s]\n",
      "Computing chunks: 100%|████████████████████████| 2/2 [00:00<00:00, 99864.38it/s]\n",
      "Splitting the experimental spectrum into chunks: 131072it [00:00, 3514366.17it/s]\n",
      "Deconvolving chunks: 100%|███████████████████████| 1/1 [01:54<00:00, 114.01s/it]\n"
     ]
    },
    {
     "name": "stdout",
     "output_type": "stream",
     "text": [
      "Estimation for 0.23 and 0.09999999999999999 done\n",
      "It took: 114.15889549255371 seconds.\n",
      "[0.8647601223380132, 0.10777168757400166]\n"
     ]
    },
    {
     "name": "stderr",
     "output_type": "stream",
     "text": [
      "Initial filtering of formulas: 100%|██████████████| 2/2 [00:00<00:00, 63.62it/s]\n",
      "Computing chunks: 100%|████████████████████████| 2/2 [00:00<00:00, 73584.28it/s]\n",
      "Splitting the experimental spectrum into chunks: 131072it [00:00, 3445707.96it/s]\n",
      "Deconvolving chunks: 100%|███████████████████████| 1/1 [01:55<00:00, 115.21s/it]\n"
     ]
    },
    {
     "name": "stdout",
     "output_type": "stream",
     "text": [
      "Estimation for 0.23 and 0.11 done\n",
      "It took: 115.3739972114563 seconds.\n",
      "[0.8638640474490132, 0.10775859423800165]\n"
     ]
    },
    {
     "name": "stderr",
     "output_type": "stream",
     "text": [
      "Initial filtering of formulas: 100%|██████████████| 2/2 [00:00<00:00, 62.94it/s]\n",
      "Computing chunks: 100%|████████████████████████| 2/2 [00:00<00:00, 96420.78it/s]\n",
      "Splitting the experimental spectrum into chunks: 131072it [00:00, 3458453.79it/s]\n",
      "Deconvolving chunks: 100%|███████████████████████| 1/1 [01:56<00:00, 116.13s/it]\n"
     ]
    },
    {
     "name": "stdout",
     "output_type": "stream",
     "text": [
      "Estimation for 0.23 and 0.12 done\n",
      "It took: 116.27115774154663 seconds.\n",
      "[0.8633709579980132, 0.10754634226000165]\n"
     ]
    },
    {
     "name": "stderr",
     "output_type": "stream",
     "text": [
      "Initial filtering of formulas: 100%|██████████████| 2/2 [00:00<00:00, 61.41it/s]\n",
      "Computing chunks: 100%|███████████████████████| 2/2 [00:00<00:00, 106184.91it/s]\n",
      "Splitting the experimental spectrum into chunks: 131072it [00:00, 3454802.51it/s]\n",
      "Deconvolving chunks: 100%|███████████████████████| 1/1 [02:16<00:00, 136.39s/it]\n"
     ]
    },
    {
     "name": "stdout",
     "output_type": "stream",
     "text": [
      "Estimation for 0.23 and 0.13 done\n",
      "It took: 136.5352509021759 seconds.\n",
      "[0.8622180754840132, 0.10756528612000166]\n"
     ]
    },
    {
     "name": "stderr",
     "output_type": "stream",
     "text": [
      "Initial filtering of formulas: 100%|██████████████| 2/2 [00:00<00:00, 63.00it/s]\n",
      "Computing chunks: 100%|████████████████████████| 2/2 [00:00<00:00, 93206.76it/s]\n",
      "Splitting the experimental spectrum into chunks: 131072it [00:00, 3467856.44it/s]\n",
      "Deconvolving chunks: 100%|███████████████████████| 1/1 [01:53<00:00, 113.24s/it]\n"
     ]
    },
    {
     "name": "stdout",
     "output_type": "stream",
     "text": [
      "Estimation for 0.23 and 0.14 done\n",
      "It took: 113.38219356536865 seconds.\n",
      "[0.8619850638790132, 0.10727374659200163]\n"
     ]
    },
    {
     "name": "stderr",
     "output_type": "stream",
     "text": [
      "Initial filtering of formulas: 100%|██████████████| 2/2 [00:00<00:00, 62.70it/s]\n",
      "Computing chunks: 100%|███████████████████████| 2/2 [00:00<00:00, 108942.96it/s]\n",
      "Splitting the experimental spectrum into chunks: 131072it [00:00, 3447587.90it/s]\n",
      "Deconvolving chunks: 100%|███████████████████████| 1/1 [02:02<00:00, 122.44s/it]\n"
     ]
    },
    {
     "name": "stdout",
     "output_type": "stream",
     "text": [
      "Estimation for 0.23 and 0.15000000000000002 done\n",
      "It took: 122.58286786079407 seconds.\n",
      "[0.8620015785530132, 0.10727732980400163]\n"
     ]
    },
    {
     "name": "stderr",
     "output_type": "stream",
     "text": [
      "Initial filtering of formulas: 100%|██████████████| 2/2 [00:00<00:00, 62.97it/s]\n",
      "Computing chunks: 100%|████████████████████████| 2/2 [00:00<00:00, 99864.38it/s]\n",
      "Splitting the experimental spectrum into chunks: 131072it [00:00, 3438402.21it/s]\n",
      "Deconvolving chunks: 100%|███████████████████████| 1/1 [02:02<00:00, 122.32s/it]\n"
     ]
    },
    {
     "name": "stdout",
     "output_type": "stream",
     "text": [
      "Estimation for 0.23 and 0.16 done\n",
      "It took: 122.46391105651855 seconds.\n",
      "[0.8620438170040132, 0.10713198696300164]\n"
     ]
    },
    {
     "name": "stderr",
     "output_type": "stream",
     "text": [
      "Initial filtering of formulas: 100%|██████████████| 2/2 [00:00<00:00, 63.40it/s]\n",
      "Computing chunks: 100%|████████████████████████| 2/2 [00:00<00:00, 94254.02it/s]\n",
      "Splitting the experimental spectrum into chunks: 131072it [00:00, 3359195.23it/s]\n",
      "Deconvolving chunks: 100%|███████████████████████| 1/1 [02:29<00:00, 149.46s/it]\n"
     ]
    },
    {
     "name": "stdout",
     "output_type": "stream",
     "text": [
      "Estimation for 0.23 and 0.17 done\n",
      "It took: 149.59992384910583 seconds.\n",
      "[0.8613262690790132, 0.10701622189200163]\n"
     ]
    },
    {
     "name": "stderr",
     "output_type": "stream",
     "text": [
      "Initial filtering of formulas: 100%|██████████████| 2/2 [00:00<00:00, 61.88it/s]\n",
      "Computing chunks: 100%|████████████████████████| 2/2 [00:00<00:00, 95325.09it/s]\n",
      "Splitting the experimental spectrum into chunks: 131072it [00:00, 3417667.95it/s]\n",
      "Deconvolving chunks: 100%|███████████████████████| 1/1 [02:05<00:00, 125.40s/it]\n"
     ]
    },
    {
     "name": "stdout",
     "output_type": "stream",
     "text": [
      "Estimation for 0.23 and 0.18000000000000002 done\n",
      "It took: 125.5658049583435 seconds.\n",
      "[0.8609721799520133, 0.10696766491200163]\n"
     ]
    },
    {
     "name": "stderr",
     "output_type": "stream",
     "text": [
      "Initial filtering of formulas: 100%|██████████████| 2/2 [00:00<00:00, 62.22it/s]\n",
      "Computing chunks: 100%|████████████████████████| 2/2 [00:00<00:00, 98689.51it/s]\n",
      "Splitting the experimental spectrum into chunks: 131072it [00:00, 3412703.47it/s]\n",
      "Deconvolving chunks: 100%|███████████████████████| 1/1 [02:02<00:00, 122.35s/it]\n"
     ]
    },
    {
     "name": "stdout",
     "output_type": "stream",
     "text": [
      "Estimation for 0.23 and 0.19 done\n",
      "It took: 122.49426770210266 seconds.\n",
      "[0.8592778015620132, 0.10708598050700163]\n"
     ]
    },
    {
     "name": "stderr",
     "output_type": "stream",
     "text": [
      "Initial filtering of formulas: 100%|██████████████| 2/2 [00:00<00:00, 62.63it/s]\n",
      "Computing chunks: 100%|████████████████████████| 2/2 [00:00<00:00, 95325.09it/s]\n",
      "Splitting the experimental spectrum into chunks: 131072it [00:00, 3444628.47it/s]\n",
      "Deconvolving chunks: 100%|███████████████████████| 1/1 [02:01<00:00, 121.77s/it]\n"
     ]
    },
    {
     "name": "stdout",
     "output_type": "stream",
     "text": [
      "Estimation for 0.23 and 0.2 done\n",
      "It took: 121.90879893302917 seconds.\n",
      "[0.8589434915970132, 0.10696449487400164]\n"
     ]
    },
    {
     "name": "stderr",
     "output_type": "stream",
     "text": [
      "Initial filtering of formulas: 100%|██████████████| 2/2 [00:00<00:00, 61.13it/s]\n",
      "Computing chunks: 100%|████████████████████████| 2/2 [00:00<00:00, 45590.26it/s]\n",
      "Splitting the experimental spectrum into chunks: 131072it [00:00, 3422519.06it/s]\n",
      "Deconvolving chunks: 100%|███████████████████████| 1/1 [02:01<00:00, 121.28s/it]\n"
     ]
    },
    {
     "name": "stdout",
     "output_type": "stream",
     "text": [
      "Estimation for 0.23 and 0.21000000000000002 done\n",
      "It took: 121.44281792640686 seconds.\n",
      "[0.8587429458680133, 0.10693909368700164]\n"
     ]
    },
    {
     "name": "stderr",
     "output_type": "stream",
     "text": [
      "Initial filtering of formulas: 100%|██████████████| 2/2 [00:00<00:00, 61.72it/s]\n",
      "Computing chunks: 100%|████████████████████████| 2/2 [00:00<00:00, 96420.78it/s]\n",
      "Splitting the experimental spectrum into chunks: 131072it [00:00, 3478234.38it/s]\n",
      "Deconvolving chunks: 100%|███████████████████████| 1/1 [02:04<00:00, 124.40s/it]\n"
     ]
    },
    {
     "name": "stdout",
     "output_type": "stream",
     "text": [
      "Estimation for 0.23 and 0.22 done\n",
      "It took: 124.54023289680481 seconds.\n",
      "[0.8585670665730131, 0.10693637892000164]\n"
     ]
    },
    {
     "name": "stderr",
     "output_type": "stream",
     "text": [
      "Initial filtering of formulas: 100%|██████████████| 2/2 [00:00<00:00, 62.30it/s]\n",
      "Computing chunks: 100%|████████████████████████| 2/2 [00:00<00:00, 87381.33it/s]\n",
      "Splitting the experimental spectrum into chunks: 131072it [00:00, 3423051.82it/s]\n",
      "Deconvolving chunks: 100%|███████████████████████| 1/1 [02:08<00:00, 128.76s/it]\n"
     ]
    },
    {
     "name": "stdout",
     "output_type": "stream",
     "text": [
      "Estimation for 0.23 and 0.23 done\n",
      "It took: 128.91876792907715 seconds.\n",
      "[0.8584766489080131, 0.10690841817600163]\n"
     ]
    },
    {
     "name": "stderr",
     "output_type": "stream",
     "text": [
      "Initial filtering of formulas: 100%|██████████████| 2/2 [00:00<00:00, 60.42it/s]\n",
      "Computing chunks: 100%|████████████████████████| 2/2 [00:00<00:00, 99864.38it/s]\n",
      "Splitting the experimental spectrum into chunks: 131072it [00:00, 3426337.26it/s]\n",
      "Deconvolving chunks: 100%|███████████████████████| 1/1 [02:07<00:00, 127.61s/it]\n"
     ]
    },
    {
     "name": "stdout",
     "output_type": "stream",
     "text": [
      "Estimation for 0.23 and 0.24000000000000002 done\n",
      "It took: 127.74840641021729 seconds.\n",
      "[0.8583718250530131, 0.10681978997400164]\n"
     ]
    },
    {
     "name": "stderr",
     "output_type": "stream",
     "text": [
      "Initial filtering of formulas: 100%|██████████████| 2/2 [00:00<00:00, 61.91it/s]\n",
      "Computing chunks: 100%|████████████████████████| 2/2 [00:00<00:00, 62137.84it/s]\n",
      "Splitting the experimental spectrum into chunks: 131072it [00:00, 3421155.96it/s]\n",
      "Deconvolving chunks: 100%|███████████████████████| 1/1 [02:03<00:00, 123.09s/it]\n"
     ]
    },
    {
     "name": "stdout",
     "output_type": "stream",
     "text": [
      "Estimation for 0.23 and 0.25 done\n",
      "It took: 123.2588963508606 seconds.\n",
      "[0.8581517968820132, 0.10680228504100164]\n"
     ]
    },
    {
     "name": "stderr",
     "output_type": "stream",
     "text": [
      "Initial filtering of formulas: 100%|██████████████| 2/2 [00:00<00:00, 61.19it/s]\n",
      "Computing chunks: 100%|████████████████████████| 2/2 [00:00<00:00, 54120.05it/s]\n",
      "Splitting the experimental spectrum into chunks: 131072it [00:00, 3468228.36it/s]\n",
      "Deconvolving chunks: 100%|███████████████████████| 1/1 [02:06<00:00, 126.24s/it]\n"
     ]
    },
    {
     "name": "stdout",
     "output_type": "stream",
     "text": [
      "Estimation for 0.23 and 0.26 done\n",
      "It took: 126.39809727668762 seconds.\n",
      "[0.858194250747013, 0.10654232439000164]\n"
     ]
    },
    {
     "name": "stderr",
     "output_type": "stream",
     "text": [
      "Initial filtering of formulas: 100%|██████████████| 2/2 [00:00<00:00, 61.79it/s]\n",
      "Computing chunks: 100%|████████████████████████| 2/2 [00:00<00:00, 76260.07it/s]\n",
      "Splitting the experimental spectrum into chunks: 131072it [00:00, 3427148.93it/s]\n",
      "Deconvolving chunks: 100%|███████████████████████| 1/1 [02:06<00:00, 126.12s/it]\n"
     ]
    },
    {
     "name": "stdout",
     "output_type": "stream",
     "text": [
      "Estimation for 0.23 and 0.27 done\n",
      "It took: 126.26622819900513 seconds.\n",
      "[0.8580147457800131, 0.10647771027400164]\n"
     ]
    },
    {
     "name": "stderr",
     "output_type": "stream",
     "text": [
      "Initial filtering of formulas: 100%|██████████████| 2/2 [00:00<00:00, 57.89it/s]\n",
      "Computing chunks: 100%|████████████████████████| 2/2 [00:00<00:00, 64035.18it/s]\n",
      "Splitting the experimental spectrum into chunks: 131072it [00:00, 3031630.16it/s]\n",
      "Deconvolving chunks: 100%|███████████████████████| 1/1 [02:08<00:00, 128.44s/it]\n"
     ]
    },
    {
     "name": "stdout",
     "output_type": "stream",
     "text": [
      "Estimation for 0.23 and 0.28 done\n",
      "It took: 128.60516142845154 seconds.\n",
      "[0.8562296784980131, 0.10670721019800164]\n"
     ]
    },
    {
     "name": "stderr",
     "output_type": "stream",
     "text": [
      "Initial filtering of formulas: 100%|██████████████| 2/2 [00:00<00:00, 55.08it/s]\n",
      "Computing chunks: 100%|████████████████████████| 2/2 [00:00<00:00, 79891.50it/s]\n",
      "Splitting the experimental spectrum into chunks: 131072it [00:00, 3298844.97it/s]\n",
      "Deconvolving chunks: 100%|███████████████████████| 1/1 [02:08<00:00, 128.14s/it]\n"
     ]
    },
    {
     "name": "stdout",
     "output_type": "stream",
     "text": [
      "Estimation for 0.23 and 0.29000000000000004 done\n",
      "It took: 128.3164303302765 seconds.\n",
      "[0.8548568267480131, 0.10688317115200163]\n"
     ]
    },
    {
     "name": "stderr",
     "output_type": "stream",
     "text": [
      "Initial filtering of formulas: 100%|██████████████| 2/2 [00:00<00:00, 58.94it/s]\n",
      "Computing chunks: 100%|████████████████████████| 2/2 [00:00<00:00, 57456.22it/s]\n",
      "Splitting the experimental spectrum into chunks: 131072it [00:00, 2952660.26it/s]\n",
      "Deconvolving chunks: 100%|███████████████████████| 1/1 [01:46<00:00, 106.15s/it]\n"
     ]
    },
    {
     "name": "stdout",
     "output_type": "stream",
     "text": [
      "Estimation for 0.24000000000000002 and 0.01 done\n",
      "It took: 106.31179428100586 seconds.\n",
      "[0.7448801952610115, 0.25418590869900387]\n"
     ]
    },
    {
     "name": "stderr",
     "output_type": "stream",
     "text": [
      "Initial filtering of formulas: 100%|██████████████| 2/2 [00:00<00:00, 47.92it/s]\n",
      "Computing chunks: 100%|████████████████████████| 2/2 [00:00<00:00, 68759.08it/s]\n",
      "Splitting the experimental spectrum into chunks: 131072it [00:00, 2731339.47it/s]\n",
      "Deconvolving chunks: 100%|███████████████████████| 1/1 [02:55<00:00, 175.19s/it]\n"
     ]
    },
    {
     "name": "stdout",
     "output_type": "stream",
     "text": [
      "Estimation for 0.24000000000000002 and 0.02 done\n",
      "It took: 175.36430525779724 seconds.\n",
      "[0.8720236251300133, 0.11276633782800172]\n"
     ]
    },
    {
     "name": "stderr",
     "output_type": "stream",
     "text": [
      "Initial filtering of formulas: 100%|██████████████| 2/2 [00:00<00:00, 44.09it/s]\n",
      "Computing chunks: 100%|████████████████████████| 2/2 [00:00<00:00, 75573.05it/s]\n",
      "Splitting the experimental spectrum into chunks: 131072it [00:00, 2742361.94it/s]\n",
      "Deconvolving chunks: 100%|███████████████████████| 1/1 [02:19<00:00, 139.32s/it]\n"
     ]
    },
    {
     "name": "stdout",
     "output_type": "stream",
     "text": [
      "Estimation for 0.24000000000000002 and 0.03 done\n",
      "It took: 139.49341368675232 seconds.\n",
      "[0.8757298866140134, 0.10316530186300159]\n"
     ]
    },
    {
     "name": "stderr",
     "output_type": "stream",
     "text": [
      "Initial filtering of formulas: 100%|██████████████| 2/2 [00:00<00:00, 56.18it/s]\n",
      "Computing chunks: 100%|████████████████████████| 2/2 [00:00<00:00, 60787.01it/s]\n",
      "Splitting the experimental spectrum into chunks: 131072it [00:00, 3292108.69it/s]\n",
      "Deconvolving chunks: 100%|███████████████████████| 1/1 [02:36<00:00, 156.05s/it]\n"
     ]
    },
    {
     "name": "stdout",
     "output_type": "stream",
     "text": [
      "Estimation for 0.24000000000000002 and 0.04 done\n",
      "It took: 156.20848035812378 seconds.\n",
      "[0.8689961490740133, 0.10835417044900167]\n"
     ]
    },
    {
     "name": "stderr",
     "output_type": "stream",
     "text": [
      "Initial filtering of formulas: 100%|██████████████| 2/2 [00:00<00:00, 54.95it/s]\n",
      "Computing chunks: 100%|████████████████████████| 2/2 [00:00<00:00, 43919.41it/s]\n",
      "Splitting the experimental spectrum into chunks: 131072it [00:00, 3073046.99it/s]\n",
      "Deconvolving chunks: 100%|███████████████████████| 1/1 [02:39<00:00, 159.99s/it]\n"
     ]
    },
    {
     "name": "stdout",
     "output_type": "stream",
     "text": [
      "Estimation for 0.24000000000000002 and 0.05 done\n",
      "It took: 160.14838862419128 seconds.\n",
      "[0.8676787672410133, 0.10886661840800166]\n"
     ]
    },
    {
     "name": "stderr",
     "output_type": "stream",
     "text": [
      "Initial filtering of formulas: 100%|██████████████| 2/2 [00:00<00:00, 54.40it/s]\n",
      "Computing chunks: 100%|████████████████████████| 2/2 [00:00<00:00, 83886.08it/s]\n",
      "Splitting the experimental spectrum into chunks: 131072it [00:00, 3085724.79it/s]\n",
      "Deconvolving chunks: 100%|███████████████████████| 1/1 [01:56<00:00, 116.92s/it]\n"
     ]
    },
    {
     "name": "stdout",
     "output_type": "stream",
     "text": [
      "Estimation for 0.24000000000000002 and 0.060000000000000005 done\n",
      "It took: 117.07513976097107 seconds.\n",
      "[0.8670660113150134, 0.10884661849700167]\n"
     ]
    },
    {
     "name": "stderr",
     "output_type": "stream",
     "text": [
      "Initial filtering of formulas: 100%|██████████████| 2/2 [00:00<00:00, 56.45it/s]\n",
      "Computing chunks: 100%|████████████████████████| 2/2 [00:00<00:00, 86480.49it/s]\n",
      "Splitting the experimental spectrum into chunks: 131072it [00:00, 3235208.90it/s]\n",
      "Deconvolving chunks: 100%|███████████████████████| 1/1 [02:23<00:00, 143.00s/it]\n"
     ]
    },
    {
     "name": "stdout",
     "output_type": "stream",
     "text": [
      "Estimation for 0.24000000000000002 and 0.06999999999999999 done\n",
      "It took: 143.1571843624115 seconds.\n",
      "[0.8670471811380133, 0.10842184801400166]\n"
     ]
    },
    {
     "name": "stderr",
     "output_type": "stream",
     "text": [
      "Initial filtering of formulas: 100%|██████████████| 2/2 [00:00<00:00, 55.50it/s]\n",
      "Computing chunks: 100%|████████████████████████| 2/2 [00:00<00:00, 81442.80it/s]\n",
      "Splitting the experimental spectrum into chunks: 131072it [00:00, 2997757.85it/s]\n",
      "Deconvolving chunks: 100%|███████████████████████| 1/1 [01:57<00:00, 117.69s/it]\n"
     ]
    },
    {
     "name": "stdout",
     "output_type": "stream",
     "text": [
      "Estimation for 0.24000000000000002 and 0.08 done\n",
      "It took: 117.87931776046753 seconds.\n",
      "[0.8668770421760134, 0.10801877285400165]\n"
     ]
    },
    {
     "name": "stderr",
     "output_type": "stream",
     "text": [
      "Initial filtering of formulas: 100%|██████████████| 2/2 [00:00<00:00, 54.79it/s]\n",
      "Computing chunks: 100%|████████████████████████| 2/2 [00:00<00:00, 39945.75it/s]\n",
      "Splitting the experimental spectrum into chunks: 131072it [00:00, 3191745.46it/s]\n",
      "Deconvolving chunks: 100%|███████████████████████| 1/1 [02:29<00:00, 149.65s/it]\n"
     ]
    },
    {
     "name": "stdout",
     "output_type": "stream",
     "text": [
      "Estimation for 0.24000000000000002 and 0.09 done\n",
      "It took: 149.8089702129364 seconds.\n",
      "[0.8662569140860134, 0.10817008038200165]\n"
     ]
    },
    {
     "name": "stderr",
     "output_type": "stream",
     "text": [
      "Initial filtering of formulas: 100%|██████████████| 2/2 [00:00<00:00, 53.10it/s]\n",
      "Computing chunks: 100%|███████████████████████| 2/2 [00:00<00:00, 101067.57it/s]\n",
      "Splitting the experimental spectrum into chunks: 131072it [00:00, 3102196.85it/s]\n",
      "Deconvolving chunks: 100%|███████████████████████| 1/1 [02:25<00:00, 145.14s/it]\n"
     ]
    },
    {
     "name": "stdout",
     "output_type": "stream",
     "text": [
      "Estimation for 0.24000000000000002 and 0.09999999999999999 done\n",
      "It took: 145.30678987503052 seconds.\n",
      "[0.8657699608110132, 0.10808553509800164]\n"
     ]
    },
    {
     "name": "stderr",
     "output_type": "stream",
     "text": [
      "Initial filtering of formulas: 100%|██████████████| 2/2 [00:00<00:00, 49.59it/s]\n",
      "Computing chunks: 100%|█████████████████████████| 2/2 [00:00<00:00, 7674.85it/s]\n",
      "Splitting the experimental spectrum into chunks: 131072it [00:00, 3139416.69it/s]\n",
      "Deconvolving chunks: 100%|███████████████████████| 1/1 [02:29<00:00, 149.08s/it]\n"
     ]
    },
    {
     "name": "stdout",
     "output_type": "stream",
     "text": [
      "Estimation for 0.24000000000000002 and 0.11 done\n",
      "It took: 149.235445022583 seconds.\n",
      "[0.8651351780670132, 0.10799981689300166]\n"
     ]
    },
    {
     "name": "stderr",
     "output_type": "stream",
     "text": [
      "Initial filtering of formulas: 100%|██████████████| 2/2 [00:00<00:00, 63.30it/s]\n",
      "Computing chunks: 100%|████████████████████████| 2/2 [00:00<00:00, 86480.49it/s]\n",
      "Splitting the experimental spectrum into chunks: 131072it [00:00, 3451028.95it/s]\n",
      "Deconvolving chunks: 100%|███████████████████████| 1/1 [02:27<00:00, 147.36s/it]\n"
     ]
    },
    {
     "name": "stdout",
     "output_type": "stream",
     "text": [
      "Estimation for 0.24000000000000002 and 0.12 done\n",
      "It took: 147.52091097831726 seconds.\n",
      "[0.8645365611260132, 0.10785980115700165]\n"
     ]
    },
    {
     "name": "stderr",
     "output_type": "stream",
     "text": [
      "Initial filtering of formulas: 100%|██████████████| 2/2 [00:00<00:00, 63.29it/s]\n",
      "Computing chunks: 100%|████████████████████████| 2/2 [00:00<00:00, 69905.07it/s]\n",
      "Splitting the experimental spectrum into chunks: 131072it [00:00, 3421560.51it/s]\n",
      "Deconvolving chunks: 100%|███████████████████████| 1/1 [02:03<00:00, 123.22s/it]\n"
     ]
    },
    {
     "name": "stdout",
     "output_type": "stream",
     "text": [
      "Estimation for 0.24000000000000002 and 0.13 done\n",
      "It took: 123.36441254615784 seconds.\n",
      "[0.8639415042870132, 0.10769498043000165]\n"
     ]
    },
    {
     "name": "stderr",
     "output_type": "stream",
     "text": [
      "Initial filtering of formulas: 100%|██████████████| 2/2 [00:00<00:00, 61.61it/s]\n",
      "Computing chunks: 100%|████████████████████████| 2/2 [00:00<00:00, 59918.63it/s]\n",
      "Splitting the experimental spectrum into chunks: 131072it [00:00, 3381011.27it/s]\n",
      "Deconvolving chunks: 100%|███████████████████████| 1/1 [02:03<00:00, 123.18s/it]\n"
     ]
    },
    {
     "name": "stdout",
     "output_type": "stream",
     "text": [
      "Estimation for 0.24000000000000002 and 0.14 done\n",
      "It took: 123.3248279094696 seconds.\n",
      "[0.8634322133730132, 0.10763409599500165]\n"
     ]
    },
    {
     "name": "stderr",
     "output_type": "stream",
     "text": [
      "Initial filtering of formulas: 100%|██████████████| 2/2 [00:00<00:00, 62.40it/s]\n",
      "Computing chunks: 100%|███████████████████████| 2/2 [00:00<00:00, 101067.57it/s]\n",
      "Splitting the experimental spectrum into chunks: 131072it [00:00, 3445427.23it/s]\n",
      "Deconvolving chunks: 100%|███████████████████████| 1/1 [02:03<00:00, 123.94s/it]\n"
     ]
    },
    {
     "name": "stdout",
     "output_type": "stream",
     "text": [
      "Estimation for 0.24000000000000002 and 0.15000000000000002 done\n",
      "It took: 124.083003282547 seconds.\n",
      "[0.8635414237510132, 0.10736630297900165]\n"
     ]
    },
    {
     "name": "stderr",
     "output_type": "stream",
     "text": [
      "Initial filtering of formulas: 100%|██████████████| 2/2 [00:00<00:00, 61.93it/s]\n",
      "Computing chunks: 100%|███████████████████████| 2/2 [00:00<00:00, 103563.06it/s]\n",
      "Splitting the experimental spectrum into chunks: 131072it [00:00, 3473487.50it/s]\n",
      "Deconvolving chunks: 100%|███████████████████████| 1/1 [02:03<00:00, 123.38s/it]\n"
     ]
    },
    {
     "name": "stdout",
     "output_type": "stream",
     "text": [
      "Estimation for 0.24000000000000002 and 0.16 done\n",
      "It took: 123.54451036453247 seconds.\n",
      "[0.8635149805640132, 0.10736537666200165]\n"
     ]
    },
    {
     "name": "stderr",
     "output_type": "stream",
     "text": [
      "Initial filtering of formulas: 100%|██████████████| 2/2 [00:00<00:00, 59.14it/s]\n",
      "Computing chunks: 100%|████████████████████████| 2/2 [00:00<00:00, 26800.66it/s]\n",
      "Splitting the experimental spectrum into chunks: 131072it [00:00, 3357041.40it/s]\n",
      "Deconvolving chunks: 100%|███████████████████████| 1/1 [02:01<00:00, 121.71s/it]\n"
     ]
    },
    {
     "name": "stdout",
     "output_type": "stream",
     "text": [
      "Estimation for 0.24000000000000002 and 0.17 done\n",
      "It took: 121.85137248039246 seconds.\n",
      "[0.8625766789370132, 0.10718994169600164]\n"
     ]
    },
    {
     "name": "stderr",
     "output_type": "stream",
     "text": [
      "Initial filtering of formulas: 100%|██████████████| 2/2 [00:00<00:00, 63.58it/s]\n",
      "Computing chunks: 100%|████████████████████████| 2/2 [00:00<00:00, 72944.42it/s]\n",
      "Splitting the experimental spectrum into chunks: 131072it [00:00, 3473750.88it/s]\n",
      "Deconvolving chunks: 100%|███████████████████████| 1/1 [02:03<00:00, 123.36s/it]\n"
     ]
    },
    {
     "name": "stdout",
     "output_type": "stream",
     "text": [
      "Estimation for 0.24000000000000002 and 0.18000000000000002 done\n",
      "It took: 123.50409293174744 seconds.\n",
      "[0.8620972628870132, 0.10709652097300164]\n"
     ]
    },
    {
     "name": "stderr",
     "output_type": "stream",
     "text": [
      "Initial filtering of formulas: 100%|██████████████| 2/2 [00:00<00:00, 59.56it/s]\n",
      "Computing chunks: 100%|████████████████████████| 2/2 [00:00<00:00, 97541.95it/s]\n",
      "Splitting the experimental spectrum into chunks: 131072it [00:00, 3424203.14it/s]\n",
      "Deconvolving chunks: 100%|███████████████████████| 1/1 [02:04<00:00, 124.13s/it]\n"
     ]
    },
    {
     "name": "stdout",
     "output_type": "stream",
     "text": [
      "Estimation for 0.24000000000000002 and 0.19 done\n",
      "It took: 124.2703697681427 seconds.\n",
      "[0.8603545120960132, 0.10721078320600164]\n"
     ]
    },
    {
     "name": "stderr",
     "output_type": "stream",
     "text": [
      "Initial filtering of formulas: 100%|██████████████| 2/2 [00:00<00:00, 60.18it/s]\n",
      "Computing chunks: 100%|████████████████████████| 2/2 [00:00<00:00, 61680.94it/s]\n",
      "Splitting the experimental spectrum into chunks: 131072it [00:00, 3490003.45it/s]\n",
      "Deconvolving chunks: 100%|███████████████████████| 1/1 [02:01<00:00, 121.56s/it]\n"
     ]
    },
    {
     "name": "stdout",
     "output_type": "stream",
     "text": [
      "Estimation for 0.24000000000000002 and 0.2 done\n",
      "It took: 121.71808457374573 seconds.\n",
      "[0.8597974350970132, 0.10706730840900164]\n"
     ]
    },
    {
     "name": "stderr",
     "output_type": "stream",
     "text": [
      "Initial filtering of formulas: 100%|██████████████| 2/2 [00:00<00:00, 61.78it/s]\n",
      "Computing chunks: 100%|████████████████████████| 2/2 [00:00<00:00, 91180.52it/s]\n",
      "Splitting the experimental spectrum into chunks: 131072it [00:00, 3456105.65it/s]\n",
      "Deconvolving chunks: 100%|███████████████████████| 1/1 [02:05<00:00, 125.19s/it]\n"
     ]
    },
    {
     "name": "stdout",
     "output_type": "stream",
     "text": [
      "Estimation for 0.24000000000000002 and 0.21000000000000002 done\n",
      "It took: 125.33744215965271 seconds.\n",
      "[0.8596692869910132, 0.10696339742000163]\n"
     ]
    },
    {
     "name": "stderr",
     "output_type": "stream",
     "text": [
      "Initial filtering of formulas: 100%|██████████████| 2/2 [00:00<00:00, 56.71it/s]\n",
      "Computing chunks: 100%|████████████████████████| 2/2 [00:00<00:00, 83886.08it/s]\n",
      "Splitting the experimental spectrum into chunks: 131072it [00:00, 3152486.49it/s]\n",
      "Deconvolving chunks: 100%|███████████████████████| 1/1 [02:25<00:00, 145.31s/it]\n"
     ]
    },
    {
     "name": "stdout",
     "output_type": "stream",
     "text": [
      "Estimation for 0.24000000000000002 and 0.22 done\n",
      "It took: 145.48864936828613 seconds.\n",
      "[0.8595032786830132, 0.10694235902400163]\n"
     ]
    },
    {
     "name": "stderr",
     "output_type": "stream",
     "text": [
      "Initial filtering of formulas: 100%|██████████████| 2/2 [00:00<00:00, 56.29it/s]\n",
      "Computing chunks: 100%|████████████████████████| 2/2 [00:00<00:00, 87381.33it/s]\n",
      "Splitting the experimental spectrum into chunks: 131072it [00:00, 3215303.54it/s]\n",
      "Deconvolving chunks: 100%|███████████████████████| 1/1 [02:07<00:00, 127.77s/it]\n"
     ]
    },
    {
     "name": "stdout",
     "output_type": "stream",
     "text": [
      "Estimation for 0.24000000000000002 and 0.23 done\n",
      "It took: 127.95366096496582 seconds.\n",
      "[0.8594341350030132, 0.10687877938000163]\n"
     ]
    },
    {
     "name": "stderr",
     "output_type": "stream",
     "text": [
      "Initial filtering of formulas: 100%|██████████████| 2/2 [00:00<00:00, 53.43it/s]\n",
      "Computing chunks: 100%|████████████████████████| 2/2 [00:00<00:00, 67108.86it/s]\n",
      "Splitting the experimental spectrum into chunks: 131072it [00:00, 2738632.44it/s]\n",
      "Deconvolving chunks: 100%|███████████████████████| 1/1 [02:05<00:00, 125.52s/it]\n"
     ]
    },
    {
     "name": "stdout",
     "output_type": "stream",
     "text": [
      "Estimation for 0.24000000000000002 and 0.24000000000000002 done\n",
      "It took: 125.68470573425293 seconds.\n",
      "[0.8593018918550133, 0.10685136010600164]\n"
     ]
    },
    {
     "name": "stderr",
     "output_type": "stream",
     "text": [
      "Initial filtering of formulas: 100%|██████████████| 2/2 [00:00<00:00, 56.62it/s]\n",
      "Computing chunks: 100%|████████████████████████| 2/2 [00:00<00:00, 54120.05it/s]\n",
      "Splitting the experimental spectrum into chunks: 131072it [00:00, 3053028.64it/s]\n",
      "Deconvolving chunks: 100%|███████████████████████| 1/1 [02:02<00:00, 122.44s/it]\n"
     ]
    },
    {
     "name": "stdout",
     "output_type": "stream",
     "text": [
      "Estimation for 0.24000000000000002 and 0.25 done\n",
      "It took: 122.60179829597473 seconds.\n",
      "[0.8591472048770132, 0.10680674034400164]\n"
     ]
    },
    {
     "name": "stderr",
     "output_type": "stream",
     "text": [
      "Initial filtering of formulas: 100%|██████████████| 2/2 [00:00<00:00, 52.36it/s]\n",
      "Computing chunks: 100%|████████████████████████| 2/2 [00:00<00:00, 25266.89it/s]\n",
      "Splitting the experimental spectrum into chunks: 131072it [00:00, 3000735.86it/s]\n",
      "Deconvolving chunks: 100%|███████████████████████| 1/1 [02:30<00:00, 150.60s/it]\n"
     ]
    },
    {
     "name": "stdout",
     "output_type": "stream",
     "text": [
      "Estimation for 0.24000000000000002 and 0.26 done\n",
      "It took: 150.76896810531616 seconds.\n",
      "[0.8589804074700133, 0.10677333514300164]\n"
     ]
    },
    {
     "name": "stderr",
     "output_type": "stream",
     "text": [
      "Initial filtering of formulas: 100%|██████████████| 2/2 [00:00<00:00, 52.74it/s]\n",
      "Computing chunks: 100%|████████████████████████| 2/2 [00:00<00:00, 79137.81it/s]\n",
      "Splitting the experimental spectrum into chunks: 131072it [00:00, 3101514.29it/s]\n",
      "Deconvolving chunks: 100%|███████████████████████| 1/1 [02:07<00:00, 127.62s/it]\n"
     ]
    },
    {
     "name": "stdout",
     "output_type": "stream",
     "text": [
      "Estimation for 0.24000000000000002 and 0.27 done\n",
      "It took: 127.80872654914856 seconds.\n",
      "[0.8590025506270133, 0.10652423129400164]\n"
     ]
    },
    {
     "name": "stderr",
     "output_type": "stream",
     "text": [
      "Initial filtering of formulas: 100%|██████████████| 2/2 [00:00<00:00, 59.02it/s]\n",
      "Computing chunks: 100%|████████████████████████| 2/2 [00:00<00:00, 55553.70it/s]\n",
      "Splitting the experimental spectrum into chunks: 131072it [00:00, 2975948.06it/s]\n",
      "Deconvolving chunks: 100%|███████████████████████| 1/1 [02:06<00:00, 126.43s/it]\n"
     ]
    },
    {
     "name": "stdout",
     "output_type": "stream",
     "text": [
      "Estimation for 0.24000000000000002 and 0.28 done\n",
      "It took: 126.59284210205078 seconds.\n",
      "[0.8578114782750131, 0.10663002555800163]\n"
     ]
    },
    {
     "name": "stderr",
     "output_type": "stream",
     "text": [
      "Initial filtering of formulas: 100%|██████████████| 2/2 [00:00<00:00, 53.80it/s]\n",
      "Computing chunks: 100%|████████████████████████| 2/2 [00:00<00:00, 81442.80it/s]\n",
      "Splitting the experimental spectrum into chunks: 131072it [00:00, 2928485.59it/s]\n",
      "Deconvolving chunks: 100%|███████████████████████| 1/1 [02:08<00:00, 128.74s/it]\n"
     ]
    },
    {
     "name": "stdout",
     "output_type": "stream",
     "text": [
      "Estimation for 0.24000000000000002 and 0.29000000000000004 done\n",
      "It took: 128.90187072753906 seconds.\n",
      "[0.8557519338500131, 0.10689808239900164]\n"
     ]
    },
    {
     "name": "stderr",
     "output_type": "stream",
     "text": [
      "Initial filtering of formulas: 100%|██████████████| 2/2 [00:00<00:00, 50.49it/s]\n",
      "Computing chunks: 100%|████████████████████████| 2/2 [00:00<00:00, 27869.13it/s]\n",
      "Splitting the experimental spectrum into chunks: 131072it [00:00, 2919791.24it/s]\n",
      "Deconvolving chunks: 100%|███████████████████████| 1/1 [02:55<00:00, 175.95s/it]\n"
     ]
    },
    {
     "name": "stdout",
     "output_type": "stream",
     "text": [
      "Estimation for 0.25 and 0.01 done\n",
      "It took: 176.11149501800537 seconds.\n",
      "[0.7477844681140114, 0.25135080865900383]\n"
     ]
    },
    {
     "name": "stderr",
     "output_type": "stream",
     "text": [
      "Initial filtering of formulas: 100%|██████████████| 2/2 [00:00<00:00, 54.82it/s]\n",
      "Computing chunks: 100%|████████████████████████| 2/2 [00:00<00:00, 83055.52it/s]\n",
      "Splitting the experimental spectrum into chunks: 131072it [00:00, 3063781.79it/s]\n",
      "Deconvolving chunks: 100%|███████████████████████| 1/1 [02:00<00:00, 120.11s/it]\n"
     ]
    },
    {
     "name": "stdout",
     "output_type": "stream",
     "text": [
      "Estimation for 0.25 and 0.02 done\n",
      "It took: 120.26812744140625 seconds.\n",
      "[0.8697157120020134, 0.1166637781350018]\n"
     ]
    },
    {
     "name": "stderr",
     "output_type": "stream",
     "text": [
      "Initial filtering of formulas: 100%|██████████████| 2/2 [00:00<00:00, 56.48it/s]\n",
      "Computing chunks: 100%|████████████████████████| 2/2 [00:00<00:00, 37786.52it/s]\n",
      "Splitting the experimental spectrum into chunks: 131072it [00:00, 2951170.33it/s]\n",
      "Deconvolving chunks: 100%|███████████████████████| 1/1 [01:58<00:00, 118.31s/it]\n"
     ]
    },
    {
     "name": "stdout",
     "output_type": "stream",
     "text": [
      "Estimation for 0.25 and 0.03 done\n",
      "It took: 118.49722051620483 seconds.\n",
      "[0.8774047141100134, 0.10282743452800158]\n"
     ]
    },
    {
     "name": "stderr",
     "output_type": "stream",
     "text": [
      "Initial filtering of formulas: 100%|██████████████| 2/2 [00:00<00:00, 60.51it/s]\n",
      "Computing chunks: 100%|████████████████████████| 2/2 [00:00<00:00, 83055.52it/s]\n",
      "Splitting the experimental spectrum into chunks: 131072it [00:00, 3199733.51it/s]\n",
      "Deconvolving chunks: 100%|███████████████████████| 1/1 [02:18<00:00, 138.03s/it]\n"
     ]
    },
    {
     "name": "stdout",
     "output_type": "stream",
     "text": [
      "Estimation for 0.25 and 0.04 done\n",
      "It took: 138.206711769104 seconds.\n",
      "[0.8701641163370133, 0.10850486965000167]\n"
     ]
    },
    {
     "name": "stderr",
     "output_type": "stream",
     "text": [
      "Initial filtering of formulas: 100%|██████████████| 2/2 [00:00<00:00, 56.02it/s]\n",
      "Computing chunks: 100%|████████████████████████| 2/2 [00:00<00:00, 50840.05it/s]\n",
      "Splitting the experimental spectrum into chunks: 131072it [00:00, 3088967.01it/s]\n",
      "Deconvolving chunks: 100%|███████████████████████| 1/1 [02:17<00:00, 137.04s/it]\n"
     ]
    },
    {
     "name": "stdout",
     "output_type": "stream",
     "text": [
      "Estimation for 0.25 and 0.05 done\n",
      "It took: 137.22275304794312 seconds.\n",
      "[0.8688701276880133, 0.10889873533000166]\n"
     ]
    },
    {
     "name": "stderr",
     "output_type": "stream",
     "text": [
      "Initial filtering of formulas: 100%|██████████████| 2/2 [00:00<00:00, 58.04it/s]\n",
      "Computing chunks: 100%|████████████████████████| 2/2 [00:00<00:00, 92182.51it/s]\n",
      "Splitting the experimental spectrum into chunks: 131072it [00:00, 2993220.41it/s]\n",
      "Deconvolving chunks: 100%|███████████████████████| 1/1 [06:11<00:00, 371.05s/it]\n"
     ]
    },
    {
     "name": "stdout",
     "output_type": "stream",
     "text": [
      "Estimation for 0.25 and 0.060000000000000005 done\n",
      "It took: 371.2083933353424 seconds.\n",
      "[0.8681321043140133, 0.10892938651300167]\n"
     ]
    },
    {
     "name": "stderr",
     "output_type": "stream",
     "text": [
      "Initial filtering of formulas: 100%|██████████████| 2/2 [00:00<00:00, 57.46it/s]\n",
      "Computing chunks: 100%|████████████████████████| 2/2 [00:00<00:00, 51463.85it/s]\n",
      "Splitting the experimental spectrum into chunks: 131072it [00:00, 2227734.30it/s]\n",
      "Deconvolving chunks: 100%|███████████████████████| 1/1 [01:51<00:00, 111.46s/it]\n"
     ]
    },
    {
     "name": "stdout",
     "output_type": "stream",
     "text": [
      "Estimation for 0.25 and 0.06999999999999999 done\n",
      "It took: 111.64658427238464 seconds.\n",
      "[0.8682029895260133, 0.10852628437700167]\n"
     ]
    },
    {
     "name": "stderr",
     "output_type": "stream",
     "text": [
      "Initial filtering of formulas: 100%|██████████████| 2/2 [00:00<00:00, 64.08it/s]\n",
      "Computing chunks: 100%|████████████████████████| 2/2 [00:00<00:00, 90200.09it/s]\n",
      "Splitting the experimental spectrum into chunks: 131072it [00:00, 3531342.15it/s]\n",
      "Deconvolving chunks: 100%|███████████████████████| 1/1 [02:16<00:00, 136.06s/it]\n"
     ]
    },
    {
     "name": "stdout",
     "output_type": "stream",
     "text": [
      "Estimation for 0.25 and 0.08 done\n",
      "It took: 136.22187542915344 seconds.\n",
      "[0.8679832505960133, 0.10817997506400165]\n"
     ]
    },
    {
     "name": "stderr",
     "output_type": "stream",
     "text": [
      "Initial filtering of formulas: 100%|██████████████| 2/2 [00:00<00:00, 65.28it/s]\n",
      "Computing chunks: 100%|███████████████████████| 2/2 [00:00<00:00, 103563.06it/s]\n",
      "Splitting the experimental spectrum into chunks: 131072it [00:00, 3550041.09it/s]\n",
      "Deconvolving chunks: 100%|███████████████████████| 1/1 [01:57<00:00, 117.67s/it]\n"
     ]
    },
    {
     "name": "stdout",
     "output_type": "stream",
     "text": [
      "Estimation for 0.25 and 0.09 done\n",
      "It took: 117.8233540058136 seconds.\n",
      "[0.8675233968180133, 0.10813920801100164]\n"
     ]
    },
    {
     "name": "stderr",
     "output_type": "stream",
     "text": [
      "Initial filtering of formulas: 100%|██████████████| 2/2 [00:00<00:00, 61.05it/s]\n",
      "Computing chunks: 100%|████████████████████████| 2/2 [00:00<00:00, 49636.73it/s]\n",
      "Splitting the experimental spectrum into chunks: 131072it [00:00, 3331833.22it/s]\n",
      "Deconvolving chunks: 100%|███████████████████████| 1/1 [02:16<00:00, 136.25s/it]\n"
     ]
    },
    {
     "name": "stdout",
     "output_type": "stream",
     "text": [
      "Estimation for 0.25 and 0.09999999999999999 done\n",
      "It took: 136.39280152320862 seconds.\n",
      "[0.8669777676440134, 0.10829719028700166]\n"
     ]
    },
    {
     "name": "stderr",
     "output_type": "stream",
     "text": [
      "Initial filtering of formulas: 100%|██████████████| 2/2 [00:00<00:00, 63.63it/s]\n",
      "Computing chunks: 100%|████████████████████████| 2/2 [00:00<00:00, 99864.38it/s]\n",
      "Splitting the experimental spectrum into chunks: 131072it [00:00, 3491377.64it/s]\n",
      "Deconvolving chunks: 100%|███████████████████████| 1/1 [02:20<00:00, 140.60s/it]\n"
     ]
    },
    {
     "name": "stdout",
     "output_type": "stream",
     "text": [
      "Estimation for 0.25 and 0.11 done\n",
      "It took: 140.7562494277954 seconds.\n",
      "[0.8663296123330133, 0.10832067770800166]\n"
     ]
    },
    {
     "name": "stderr",
     "output_type": "stream",
     "text": [
      "Initial filtering of formulas: 100%|██████████████| 2/2 [00:00<00:00, 65.51it/s]\n",
      "Computing chunks: 100%|████████████████████████| 2/2 [00:00<00:00, 92182.51it/s]\n",
      "Splitting the experimental spectrum into chunks: 131072it [00:00, 3584039.47it/s]\n",
      "Deconvolving chunks: 100%|███████████████████████| 1/1 [01:44<00:00, 104.74s/it]\n"
     ]
    },
    {
     "name": "stdout",
     "output_type": "stream",
     "text": [
      "Estimation for 0.25 and 0.12 done\n",
      "It took: 104.87839460372925 seconds.\n",
      "[0.8660449974400133, 0.10803569893200166]\n"
     ]
    },
    {
     "name": "stderr",
     "output_type": "stream",
     "text": [
      "Initial filtering of formulas: 100%|██████████████| 2/2 [00:00<00:00, 64.52it/s]\n",
      "Computing chunks: 100%|████████████████████████| 2/2 [00:00<00:00, 95325.09it/s]\n",
      "Splitting the experimental spectrum into chunks: 131072it [00:00, 3505313.32it/s]\n",
      "Deconvolving chunks: 100%|███████████████████████| 1/1 [01:53<00:00, 113.30s/it]\n"
     ]
    },
    {
     "name": "stdout",
     "output_type": "stream",
     "text": [
      "Estimation for 0.25 and 0.13 done\n",
      "It took: 113.44158053398132 seconds.\n",
      "[0.8657511381250133, 0.10785730488900165]\n"
     ]
    },
    {
     "name": "stderr",
     "output_type": "stream",
     "text": [
      "Initial filtering of formulas: 100%|██████████████| 2/2 [00:00<00:00, 63.75it/s]\n",
      "Computing chunks: 100%|████████████████████████| 2/2 [00:00<00:00, 97541.95it/s]\n",
      "Splitting the experimental spectrum into chunks: 131072it [00:00, 3507684.05it/s]\n",
      "Deconvolving chunks: 100%|███████████████████████| 1/1 [02:11<00:00, 131.76s/it]\n"
     ]
    },
    {
     "name": "stdout",
     "output_type": "stream",
     "text": [
      "Estimation for 0.25 and 0.14 done\n",
      "It took: 131.89800691604614 seconds.\n",
      "[0.8649291399230132, 0.10791296267900165]\n"
     ]
    },
    {
     "name": "stderr",
     "output_type": "stream",
     "text": [
      "Initial filtering of formulas: 100%|██████████████| 2/2 [00:00<00:00, 61.63it/s]\n",
      "Computing chunks: 100%|████████████████████████| 2/2 [00:00<00:00, 89240.51it/s]\n",
      "Splitting the experimental spectrum into chunks: 131072it [00:00, 3318318.70it/s]\n",
      "Deconvolving chunks: 100%|███████████████████████| 1/1 [01:57<00:00, 117.99s/it]\n"
     ]
    },
    {
     "name": "stdout",
     "output_type": "stream",
     "text": [
      "Estimation for 0.25 and 0.15000000000000002 done\n",
      "It took: 118.162770986557 seconds.\n",
      "[0.8647625726910132, 0.10770486696900165]\n"
     ]
    },
    {
     "name": "stderr",
     "output_type": "stream",
     "text": [
      "Initial filtering of formulas: 100%|██████████████| 2/2 [00:00<00:00, 62.96it/s]\n",
      "Computing chunks: 100%|████████████████████████| 2/2 [00:00<00:00, 91180.52it/s]\n",
      "Splitting the experimental spectrum into chunks: 131072it [00:00, 3504754.65it/s]\n",
      "Deconvolving chunks: 100%|███████████████████████| 1/1 [01:58<00:00, 118.92s/it]\n"
     ]
    },
    {
     "name": "stdout",
     "output_type": "stream",
     "text": [
      "Estimation for 0.25 and 0.16 done\n",
      "It took: 119.06027340888977 seconds.\n",
      "[0.8648784347460132, 0.10742720857000165]\n"
     ]
    },
    {
     "name": "stderr",
     "output_type": "stream",
     "text": [
      "Initial filtering of formulas: 100%|██████████████| 2/2 [00:00<00:00, 63.83it/s]\n",
      "Computing chunks: 100%|████████████████████████| 2/2 [00:00<00:00, 96420.78it/s]\n",
      "Splitting the experimental spectrum into chunks: 131072it [00:00, 3507124.63it/s]\n",
      "Deconvolving chunks: 100%|███████████████████████| 1/1 [02:19<00:00, 139.57s/it]\n"
     ]
    },
    {
     "name": "stdout",
     "output_type": "stream",
     "text": [
      "Estimation for 0.25 and 0.17 done\n",
      "It took: 139.70995545387268 seconds.\n",
      "[0.8640322144980133, 0.10742850464300165]\n"
     ]
    },
    {
     "name": "stderr",
     "output_type": "stream",
     "text": [
      "Initial filtering of formulas: 100%|██████████████| 2/2 [00:00<00:00, 65.66it/s]\n",
      "Computing chunks: 100%|████████████████████████| 2/2 [00:00<00:00, 99864.38it/s]\n",
      "Splitting the experimental spectrum into chunks: 131072it [00:00, 3542514.97it/s]\n",
      "Deconvolving chunks: 100%|███████████████████████| 1/1 [01:57<00:00, 117.70s/it]\n"
     ]
    },
    {
     "name": "stdout",
     "output_type": "stream",
     "text": [
      "Estimation for 0.25 and 0.18000000000000002 done\n",
      "It took: 117.83614897727966 seconds.\n",
      "[0.8629016311070132, 0.10722486153500163]\n"
     ]
    },
    {
     "name": "stderr",
     "output_type": "stream",
     "text": [
      "Initial filtering of formulas: 100%|██████████████| 2/2 [00:00<00:00, 63.08it/s]\n",
      "Computing chunks: 100%|████████████████████████| 2/2 [00:00<00:00, 41120.63it/s]\n",
      "Splitting the experimental spectrum into chunks: 131072it [00:00, 3579722.05it/s]\n",
      "Deconvolving chunks: 100%|███████████████████████| 1/1 [01:55<00:00, 115.75s/it]\n"
     ]
    },
    {
     "name": "stdout",
     "output_type": "stream",
     "text": [
      "Estimation for 0.25 and 0.19 done\n",
      "It took: 115.88843274116516 seconds.\n",
      "[0.8623739542710133, 0.10710604743200164]\n"
     ]
    },
    {
     "name": "stderr",
     "output_type": "stream",
     "text": [
      "Initial filtering of formulas: 100%|██████████████| 2/2 [00:00<00:00, 64.75it/s]\n",
      "Computing chunks: 100%|███████████████████████| 2/2 [00:00<00:00, 102300.10it/s]\n",
      "Splitting the experimental spectrum into chunks: 131072it [00:00, 3553161.55it/s]\n",
      "Deconvolving chunks: 100%|███████████████████████| 1/1 [01:57<00:00, 117.27s/it]\n"
     ]
    },
    {
     "name": "stdout",
     "output_type": "stream",
     "text": [
      "Estimation for 0.25 and 0.2 done\n",
      "It took: 117.40863871574402 seconds.\n",
      "[0.8605250401380132, 0.10724812656900164]\n"
     ]
    },
    {
     "name": "stderr",
     "output_type": "stream",
     "text": [
      "Initial filtering of formulas: 100%|██████████████| 2/2 [00:00<00:00, 62.58it/s]\n",
      "Computing chunks: 100%|███████████████████████| 2/2 [00:00<00:00, 102300.10it/s]\n",
      "Splitting the experimental spectrum into chunks: 131072it [00:00, 3525725.59it/s]\n",
      "Deconvolving chunks: 100%|███████████████████████| 1/1 [01:55<00:00, 115.26s/it]\n"
     ]
    },
    {
     "name": "stdout",
     "output_type": "stream",
     "text": [
      "Estimation for 0.25 and 0.21000000000000002 done\n",
      "It took: 115.40455341339111 seconds.\n",
      "[0.8603758299940132, 0.10701994488100164]\n"
     ]
    },
    {
     "name": "stderr",
     "output_type": "stream",
     "text": [
      "Initial filtering of formulas: 100%|██████████████| 2/2 [00:00<00:00, 62.59it/s]\n",
      "Computing chunks: 100%|████████████████████████| 2/2 [00:00<00:00, 96420.78it/s]\n",
      "Splitting the experimental spectrum into chunks: 131072it [00:00, 3423392.87it/s]\n",
      "Deconvolving chunks: 100%|███████████████████████| 1/1 [01:57<00:00, 117.76s/it]\n"
     ]
    },
    {
     "name": "stdout",
     "output_type": "stream",
     "text": [
      "Estimation for 0.25 and 0.22 done\n",
      "It took: 117.89843130111694 seconds.\n",
      "[0.8602127300060132, 0.10696332912100164]\n"
     ]
    },
    {
     "name": "stderr",
     "output_type": "stream",
     "text": [
      "Initial filtering of formulas: 100%|██████████████| 2/2 [00:00<00:00, 62.17it/s]\n",
      "Computing chunks: 100%|████████████████████████| 2/2 [00:00<00:00, 93206.76it/s]\n",
      "Splitting the experimental spectrum into chunks: 131072it [00:00, 3502209.37it/s]\n",
      "Deconvolving chunks: 100%|███████████████████████| 1/1 [01:58<00:00, 118.41s/it]\n"
     ]
    },
    {
     "name": "stdout",
     "output_type": "stream",
     "text": [
      "Estimation for 0.25 and 0.23 done\n",
      "It took: 118.57248616218567 seconds.\n",
      "[0.8601265336790133, 0.10689118389600163]\n"
     ]
    },
    {
     "name": "stderr",
     "output_type": "stream",
     "text": [
      "Initial filtering of formulas: 100%|██████████████| 2/2 [00:00<00:00, 65.31it/s]\n",
      "Computing chunks: 100%|████████████████████████| 2/2 [00:00<00:00, 97541.95it/s]\n",
      "Splitting the experimental spectrum into chunks: 131072it [00:00, 3508266.04it/s]\n",
      "Deconvolving chunks: 100%|███████████████████████| 1/1 [02:03<00:00, 123.55s/it]\n"
     ]
    },
    {
     "name": "stdout",
     "output_type": "stream",
     "text": [
      "Estimation for 0.25 and 0.24000000000000002 done\n",
      "It took: 123.71031856536865 seconds.\n",
      "[0.8600380857830132, 0.10685050931500163]\n"
     ]
    },
    {
     "name": "stderr",
     "output_type": "stream",
     "text": [
      "Initial filtering of formulas: 100%|██████████████| 2/2 [00:00<00:00, 63.08it/s]\n",
      "Computing chunks: 100%|████████████████████████| 2/2 [00:00<00:00, 50231.19it/s]\n",
      "Splitting the experimental spectrum into chunks: 131072it [00:00, 3520171.95it/s]\n",
      "Deconvolving chunks: 100%|███████████████████████| 1/1 [02:02<00:00, 122.53s/it]\n"
     ]
    },
    {
     "name": "stdout",
     "output_type": "stream",
     "text": [
      "Estimation for 0.25 and 0.25 done\n",
      "It took: 122.67005777359009 seconds.\n",
      "[0.8598453038320132, 0.10684908078300163]\n"
     ]
    },
    {
     "name": "stderr",
     "output_type": "stream",
     "text": [
      "Initial filtering of formulas: 100%|██████████████| 2/2 [00:00<00:00, 62.79it/s]\n",
      "Computing chunks: 100%|████████████████████████| 2/2 [00:00<00:00, 95325.09it/s]\n",
      "Splitting the experimental spectrum into chunks: 131072it [00:00, 3511649.89it/s]\n",
      "Deconvolving chunks: 100%|███████████████████████| 1/1 [02:20<00:00, 140.17s/it]\n"
     ]
    },
    {
     "name": "stdout",
     "output_type": "stream",
     "text": [
      "Estimation for 0.25 and 0.26 done\n",
      "It took: 140.30968856811523 seconds.\n",
      "[0.8596376696550132, 0.10680603351800164]\n"
     ]
    },
    {
     "name": "stderr",
     "output_type": "stream",
     "text": [
      "Initial filtering of formulas: 100%|██████████████| 2/2 [00:00<00:00, 61.07it/s]\n",
      "Computing chunks: 100%|████████████████████████| 2/2 [00:00<00:00, 94254.02it/s]\n",
      "Splitting the experimental spectrum into chunks: 131072it [00:00, 3123381.87it/s]\n",
      "Deconvolving chunks: 100%|███████████████████████| 1/1 [02:03<00:00, 123.15s/it]\n"
     ]
    },
    {
     "name": "stdout",
     "output_type": "stream",
     "text": [
      "Estimation for 0.25 and 0.27 done\n",
      "It took: 123.29928922653198 seconds.\n",
      "[0.8595348530330132, 0.10674904806500164]\n"
     ]
    },
    {
     "name": "stderr",
     "output_type": "stream",
     "text": [
      "Initial filtering of formulas: 100%|██████████████| 2/2 [00:00<00:00, 67.10it/s]\n",
      "Computing chunks: 100%|████████████████████████| 2/2 [00:00<00:00, 58661.59it/s]\n",
      "Splitting the experimental spectrum into chunks: 131072it [00:00, 3506968.02it/s]\n",
      "Deconvolving chunks: 100%|███████████████████████| 1/1 [02:00<00:00, 120.74s/it]\n"
     ]
    },
    {
     "name": "stdout",
     "output_type": "stream",
     "text": [
      "Estimation for 0.25 and 0.28 done\n",
      "It took: 120.89630389213562 seconds.\n",
      "[0.8594305590440132, 0.10654025431600164]\n"
     ]
    },
    {
     "name": "stderr",
     "output_type": "stream",
     "text": [
      "Initial filtering of formulas: 100%|██████████████| 2/2 [00:00<00:00, 64.07it/s]\n",
      "Computing chunks: 100%|████████████████████████| 2/2 [00:00<00:00, 46091.25it/s]\n",
      "Splitting the experimental spectrum into chunks: 131072it [00:00, 3500269.41it/s]\n",
      "Deconvolving chunks: 100%|███████████████████████| 1/1 [02:16<00:00, 136.19s/it]\n"
     ]
    },
    {
     "name": "stdout",
     "output_type": "stream",
     "text": [
      "Estimation for 0.25 and 0.29000000000000004 done\n",
      "It took: 136.3295397758484 seconds.\n",
      "[0.8572018578450131, 0.10681031396600164]\n"
     ]
    },
    {
     "name": "stderr",
     "output_type": "stream",
     "text": [
      "Initial filtering of formulas: 100%|██████████████| 2/2 [00:00<00:00, 64.07it/s]\n",
      "Computing chunks: 100%|████████████████████████| 2/2 [00:00<00:00, 93206.76it/s]\n",
      "Splitting the experimental spectrum into chunks: 131072it [00:00, 3500269.41it/s]\n",
      "Deconvolving chunks: 100%|███████████████████████| 1/1 [03:57<00:00, 237.28s/it]\n"
     ]
    },
    {
     "name": "stdout",
     "output_type": "stream",
     "text": [
      "Estimation for 0.26 and 0.01 done\n",
      "It took: 237.44491410255432 seconds.\n",
      "[0.7549671099280115, 0.24424945945700374]\n"
     ]
    },
    {
     "name": "stderr",
     "output_type": "stream",
     "text": [
      "Initial filtering of formulas: 100%|██████████████| 2/2 [00:00<00:00, 65.09it/s]\n",
      "Computing chunks: 100%|████████████████████████| 2/2 [00:00<00:00, 84733.41it/s]\n",
      "Splitting the experimental spectrum into chunks: 131072it [00:00, 3515040.27it/s]\n",
      "Deconvolving chunks: 100%|███████████████████████| 1/1 [02:48<00:00, 168.16s/it]\n"
     ]
    },
    {
     "name": "stdout",
     "output_type": "stream",
     "text": [
      "Estimation for 0.26 and 0.02 done\n",
      "It took: 168.29638671875 seconds.\n",
      "[0.8667581137730134, 0.12085119330700185]\n"
     ]
    },
    {
     "name": "stderr",
     "output_type": "stream",
     "text": [
      "Initial filtering of formulas: 100%|██████████████| 2/2 [00:00<00:00, 64.53it/s]\n",
      "Computing chunks: 100%|████████████████████████| 2/2 [00:00<00:00, 93206.76it/s]\n",
      "Splitting the experimental spectrum into chunks: 131072it [00:00, 3507505.02it/s]\n",
      "Deconvolving chunks: 100%|███████████████████████| 1/1 [01:50<00:00, 110.35s/it]\n"
     ]
    },
    {
     "name": "stdout",
     "output_type": "stream",
     "text": [
      "Estimation for 0.26 and 0.03 done\n",
      "It took: 110.49371910095215 seconds.\n",
      "[0.8793055207430134, 0.10227307665600156]\n"
     ]
    },
    {
     "name": "stderr",
     "output_type": "stream",
     "text": [
      "Initial filtering of formulas: 100%|██████████████| 2/2 [00:00<00:00, 61.61it/s]\n",
      "Computing chunks: 100%|████████████████████████| 2/2 [00:00<00:00, 43240.25it/s]\n",
      "Splitting the experimental spectrum into chunks: 131072it [00:00, 3339199.66it/s]\n",
      "Deconvolving chunks: 100%|███████████████████████| 1/1 [02:10<00:00, 130.97s/it]\n"
     ]
    },
    {
     "name": "stdout",
     "output_type": "stream",
     "text": [
      "Estimation for 0.26 and 0.04 done\n",
      "It took: 131.10991287231445 seconds.\n",
      "[0.8712112341390134, 0.10876530353900167]\n"
     ]
    },
    {
     "name": "stderr",
     "output_type": "stream",
     "text": [
      "Initial filtering of formulas: 100%|██████████████| 2/2 [00:00<00:00, 60.70it/s]\n",
      "Computing chunks: 100%|████████████████████████| 2/2 [00:00<00:00, 92182.51it/s]\n",
      "Splitting the experimental spectrum into chunks: 131072it [00:00, 3479665.39it/s]\n",
      "Deconvolving chunks: 100%|███████████████████████| 1/1 [01:50<00:00, 110.34s/it]\n"
     ]
    },
    {
     "name": "stdout",
     "output_type": "stream",
     "text": [
      "Estimation for 0.26 and 0.05 done\n",
      "It took: 110.48406529426575 seconds.\n",
      "[0.8701549260290133, 0.10890762008800167]\n"
     ]
    },
    {
     "name": "stderr",
     "output_type": "stream",
     "text": [
      "Initial filtering of formulas: 100%|██████████████| 2/2 [00:00<00:00, 50.95it/s]\n",
      "Computing chunks: 100%|████████████████████████| 2/2 [00:00<00:00, 93206.76it/s]\n",
      "Splitting the experimental spectrum into chunks: 131072it [00:00, 3439413.25it/s]\n",
      "Deconvolving chunks: 100%|███████████████████████| 1/1 [02:14<00:00, 134.98s/it]\n"
     ]
    },
    {
     "name": "stdout",
     "output_type": "stream",
     "text": [
      "Estimation for 0.26 and 0.060000000000000005 done\n",
      "It took: 135.1497039794922 seconds.\n",
      "[0.8692887398530134, 0.10899163163000167]\n"
     ]
    },
    {
     "name": "stderr",
     "output_type": "stream",
     "text": [
      "Initial filtering of formulas: 100%|██████████████| 2/2 [00:00<00:00, 63.79it/s]\n",
      "Computing chunks: 100%|████████████████████████| 2/2 [00:00<00:00, 89240.51it/s]\n",
      "Splitting the experimental spectrum into chunks: 131072it [00:00, 3516614.20it/s]\n",
      "Deconvolving chunks: 100%|███████████████████████| 1/1 [02:21<00:00, 141.32s/it]\n"
     ]
    },
    {
     "name": "stdout",
     "output_type": "stream",
     "text": [
      "Estimation for 0.26 and 0.06999999999999999 done\n",
      "It took: 141.459792137146 seconds.\n",
      "[0.8694147008130133, 0.10860984717900167]\n"
     ]
    },
    {
     "name": "stderr",
     "output_type": "stream",
     "text": [
      "Initial filtering of formulas: 100%|██████████████| 2/2 [00:00<00:00, 64.47it/s]\n",
      "Computing chunks: 100%|████████████████████████| 2/2 [00:00<00:00, 86480.49it/s]\n",
      "Splitting the experimental spectrum into chunks: 131072it [00:00, 3445923.94it/s]\n",
      "Deconvolving chunks: 100%|███████████████████████| 1/1 [02:22<00:00, 142.63s/it]\n"
     ]
    },
    {
     "name": "stdout",
     "output_type": "stream",
     "text": [
      "Estimation for 0.26 and 0.08 done\n",
      "It took: 142.77296662330627 seconds.\n",
      "[0.8691516387780133, 0.10831692436100167]\n"
     ]
    },
    {
     "name": "stderr",
     "output_type": "stream",
     "text": [
      "Initial filtering of formulas: 100%|██████████████| 2/2 [00:00<00:00, 64.24it/s]\n",
      "Computing chunks: 100%|████████████████████████| 2/2 [00:00<00:00, 83055.52it/s]\n",
      "Splitting the experimental spectrum into chunks: 131072it [00:00, 3537181.44it/s]\n",
      "Deconvolving chunks: 100%|███████████████████████| 1/1 [02:12<00:00, 132.66s/it]\n"
     ]
    },
    {
     "name": "stdout",
     "output_type": "stream",
     "text": [
      "Estimation for 0.26 and 0.09 done\n",
      "It took: 132.7945864200592 seconds.\n",
      "[0.8687176530670133, 0.10829153439000166]\n"
     ]
    },
    {
     "name": "stderr",
     "output_type": "stream",
     "text": [
      "Initial filtering of formulas: 100%|██████████████| 2/2 [00:00<00:00, 64.25it/s]\n",
      "Computing chunks: 100%|████████████████████████| 2/2 [00:00<00:00, 94254.02it/s]\n",
      "Splitting the experimental spectrum into chunks: 131072it [00:00, 3466260.29it/s]\n",
      "Deconvolving chunks: 100%|███████████████████████| 1/1 [01:42<00:00, 102.48s/it]\n"
     ]
    },
    {
     "name": "stdout",
     "output_type": "stream",
     "text": [
      "Estimation for 0.26 and 0.09999999999999999 done\n",
      "It took: 102.61827635765076 seconds.\n",
      "[0.8682126365280133, 0.10838437934700167]\n"
     ]
    },
    {
     "name": "stderr",
     "output_type": "stream",
     "text": [
      "Initial filtering of formulas: 100%|██████████████| 2/2 [00:00<00:00, 63.92it/s]\n",
      "Computing chunks: 100%|████████████████████████| 2/2 [00:00<00:00, 91180.52it/s]\n",
      "Splitting the experimental spectrum into chunks: 131072it [00:00, 3522969.16it/s]\n",
      "Deconvolving chunks: 100%|███████████████████████| 1/1 [01:56<00:00, 116.86s/it]\n"
     ]
    },
    {
     "name": "stdout",
     "output_type": "stream",
     "text": [
      "Estimation for 0.26 and 0.11 done\n",
      "It took: 117.00153875350952 seconds.\n",
      "[0.8677094933340134, 0.10854518519600166]\n"
     ]
    },
    {
     "name": "stderr",
     "output_type": "stream",
     "text": [
      "Initial filtering of formulas: 100%|██████████████| 2/2 [00:00<00:00, 64.02it/s]\n",
      "Computing chunks: 100%|████████████████████████| 2/2 [00:00<00:00, 54120.05it/s]\n",
      "Splitting the experimental spectrum into chunks: 131072it [00:00, 3492641.95it/s]\n",
      "Deconvolving chunks: 100%|███████████████████████| 1/1 [01:54<00:00, 114.48s/it]\n"
     ]
    },
    {
     "name": "stdout",
     "output_type": "stream",
     "text": [
      "Estimation for 0.26 and 0.12 done\n",
      "It took: 114.64555716514587 seconds.\n",
      "[0.8673751814460133, 0.10835127697000166]\n"
     ]
    },
    {
     "name": "stderr",
     "output_type": "stream",
     "text": [
      "Initial filtering of formulas: 100%|██████████████| 2/2 [00:00<00:00, 64.82it/s]\n",
      "Computing chunks: 100%|████████████████████████| 2/2 [00:00<00:00, 15087.42it/s]\n",
      "Splitting the experimental spectrum into chunks: 131072it [00:00, 3485180.23it/s]\n",
      "Deconvolving chunks: 100%|███████████████████████| 1/1 [02:18<00:00, 138.31s/it]\n"
     ]
    },
    {
     "name": "stdout",
     "output_type": "stream",
     "text": [
      "Estimation for 0.26 and 0.13 done\n",
      "It took: 138.44968056678772 seconds.\n",
      "[0.8669869751160133, 0.10815449061500165]\n"
     ]
    },
    {
     "name": "stderr",
     "output_type": "stream",
     "text": [
      "Initial filtering of formulas: 100%|██████████████| 2/2 [00:00<00:00, 64.70it/s]\n",
      "Computing chunks: 100%|████████████████████████| 2/2 [00:00<00:00, 61230.72it/s]\n",
      "Splitting the experimental spectrum into chunks: 131072it [00:00, 3539116.98it/s]\n",
      "Deconvolving chunks: 100%|███████████████████████| 1/1 [01:57<00:00, 117.52s/it]\n"
     ]
    },
    {
     "name": "stdout",
     "output_type": "stream",
     "text": [
      "Estimation for 0.26 and 0.14 done\n",
      "It took: 117.68254661560059 seconds.\n",
      "[0.8663471524720133, 0.10802444582900166]\n"
     ]
    },
    {
     "name": "stderr",
     "output_type": "stream",
     "text": [
      "Initial filtering of formulas: 100%|██████████████| 2/2 [00:00<00:00, 63.33it/s]\n",
      "Computing chunks: 100%|████████████████████████| 2/2 [00:00<00:00, 15335.66it/s]\n",
      "Splitting the experimental spectrum into chunks: 131072it [00:00, 3471579.22it/s]\n",
      "Deconvolving chunks: 100%|███████████████████████| 1/1 [01:55<00:00, 115.19s/it]\n"
     ]
    },
    {
     "name": "stdout",
     "output_type": "stream",
     "text": [
      "Estimation for 0.26 and 0.15000000000000002 done\n",
      "It took: 115.32819724082947 seconds.\n",
      "[0.8658306680290132, 0.10801950620700165]\n"
     ]
    },
    {
     "name": "stderr",
     "output_type": "stream",
     "text": [
      "Initial filtering of formulas: 100%|██████████████| 2/2 [00:00<00:00, 63.60it/s]\n",
      "Computing chunks: 100%|████████████████████████| 2/2 [00:00<00:00, 58661.59it/s]\n",
      "Splitting the experimental spectrum into chunks: 131072it [00:00, 3517829.33it/s]\n",
      "Deconvolving chunks: 100%|███████████████████████| 1/1 [02:13<00:00, 133.32s/it]\n"
     ]
    },
    {
     "name": "stdout",
     "output_type": "stream",
     "text": [
      "Estimation for 0.26 and 0.16 done\n",
      "It took: 133.46891713142395 seconds.\n",
      "[0.8655476106140132, 0.10773400000600165]\n"
     ]
    },
    {
     "name": "stderr",
     "output_type": "stream",
     "text": [
      "Initial filtering of formulas: 100%|██████████████| 2/2 [00:00<00:00, 62.40it/s]\n",
      "Computing chunks: 100%|████████████████████████| 2/2 [00:00<00:00, 94254.02it/s]\n",
      "Splitting the experimental spectrum into chunks: 131072it [00:00, 3485688.47it/s]\n",
      "Deconvolving chunks: 100%|███████████████████████| 1/1 [01:56<00:00, 116.25s/it]\n"
     ]
    },
    {
     "name": "stdout",
     "output_type": "stream",
     "text": [
      "Estimation for 0.26 and 0.17 done\n",
      "It took: 116.41090631484985 seconds.\n",
      "[0.8653388515730132, 0.10741410194900165]\n"
     ]
    },
    {
     "name": "stderr",
     "output_type": "stream",
     "text": [
      "Initial filtering of formulas: 100%|██████████████| 2/2 [00:00<00:00, 63.60it/s]\n",
      "Computing chunks: 100%|████████████████████████| 2/2 [00:00<00:00, 92182.51it/s]\n",
      "Splitting the experimental spectrum into chunks: 131072it [00:00, 3503213.64it/s]\n",
      "Deconvolving chunks: 100%|███████████████████████| 1/1 [02:15<00:00, 135.58s/it]\n"
     ]
    },
    {
     "name": "stdout",
     "output_type": "stream",
     "text": [
      "Estimation for 0.26 and 0.18000000000000002 done\n",
      "It took: 135.72121691703796 seconds.\n",
      "[0.8636122349120132, 0.10752761604700165]\n"
     ]
    },
    {
     "name": "stderr",
     "output_type": "stream",
     "text": [
      "Initial filtering of formulas: 100%|██████████████| 2/2 [00:00<00:00, 63.93it/s]\n",
      "Computing chunks: 100%|████████████████████████| 2/2 [00:00<00:00, 88301.14it/s]\n",
      "Splitting the experimental spectrum into chunks: 131072it [00:00, 3503258.29it/s]\n",
      "Deconvolving chunks: 100%|███████████████████████| 1/1 [01:55<00:00, 115.36s/it]\n"
     ]
    },
    {
     "name": "stdout",
     "output_type": "stream",
     "text": [
      "Estimation for 0.26 and 0.19 done\n",
      "It took: 115.50353455543518 seconds.\n",
      "[0.8631317807850132, 0.10725642835600163]\n"
     ]
    },
    {
     "name": "stderr",
     "output_type": "stream",
     "text": [
      "Initial filtering of formulas: 100%|██████████████| 2/2 [00:00<00:00, 63.20it/s]\n",
      "Computing chunks: 100%|████████████████████████| 2/2 [00:00<00:00, 90200.09it/s]\n",
      "Splitting the experimental spectrum into chunks: 131072it [00:00, 3449166.90it/s]\n",
      "Deconvolving chunks: 100%|███████████████████████| 1/1 [01:55<00:00, 115.61s/it]\n"
     ]
    },
    {
     "name": "stdout",
     "output_type": "stream",
     "text": [
      "Estimation for 0.26 and 0.2 done\n",
      "It took: 115.74869155883789 seconds.\n",
      "[0.8614383053370133, 0.10730325576000163]\n"
     ]
    },
    {
     "name": "stderr",
     "output_type": "stream",
     "text": [
      "Initial filtering of formulas: 100%|██████████████| 2/2 [00:00<00:00, 64.09it/s]\n",
      "Computing chunks: 100%|████████████████████████| 2/2 [00:00<00:00, 40920.04it/s]\n",
      "Splitting the experimental spectrum into chunks: 131072it [00:00, 3614151.51it/s]\n",
      "Deconvolving chunks: 100%|███████████████████████| 1/1 [01:56<00:00, 116.07s/it]\n"
     ]
    },
    {
     "name": "stdout",
     "output_type": "stream",
     "text": [
      "Estimation for 0.26 and 0.21000000000000002 done\n",
      "It took: 116.20753979682922 seconds.\n",
      "[0.8609066676490132, 0.10726797849200163]\n"
     ]
    },
    {
     "name": "stderr",
     "output_type": "stream",
     "text": [
      "Initial filtering of formulas: 100%|██████████████| 2/2 [00:00<00:00, 62.96it/s]\n",
      "Computing chunks: 100%|████████████████████████| 2/2 [00:00<00:00, 83055.52it/s]\n",
      "Splitting the experimental spectrum into chunks: 131072it [00:00, 3491022.90it/s]\n",
      "Deconvolving chunks: 100%|███████████████████████| 1/1 [01:56<00:00, 116.35s/it]\n"
     ]
    },
    {
     "name": "stdout",
     "output_type": "stream",
     "text": [
      "Estimation for 0.26 and 0.22 done\n",
      "It took: 116.48882794380188 seconds.\n",
      "[0.8609178711890132, 0.10703225999600163]\n"
     ]
    },
    {
     "name": "stderr",
     "output_type": "stream",
     "text": [
      "Initial filtering of formulas: 100%|██████████████| 2/2 [00:00<00:00, 64.75it/s]\n",
      "Computing chunks: 100%|████████████████████████| 2/2 [00:00<00:00, 90200.09it/s]\n",
      "Splitting the experimental spectrum into chunks: 131072it [00:00, 3507147.00it/s]\n",
      "Deconvolving chunks: 100%|███████████████████████| 1/1 [01:55<00:00, 115.62s/it]\n"
     ]
    },
    {
     "name": "stdout",
     "output_type": "stream",
     "text": [
      "Estimation for 0.26 and 0.23 done\n",
      "It took: 115.76235222816467 seconds.\n",
      "[0.8608548466600132, 0.10689860964600163]\n"
     ]
    },
    {
     "name": "stderr",
     "output_type": "stream",
     "text": [
      "Initial filtering of formulas: 100%|██████████████| 2/2 [00:00<00:00, 64.93it/s]\n",
      "Computing chunks: 100%|████████████████████████| 2/2 [00:00<00:00, 15827.56it/s]\n",
      "Splitting the experimental spectrum into chunks: 131072it [00:00, 3502499.44it/s]\n",
      "Deconvolving chunks: 100%|███████████████████████| 1/1 [01:58<00:00, 118.34s/it]\n"
     ]
    },
    {
     "name": "stdout",
     "output_type": "stream",
     "text": [
      "Estimation for 0.26 and 0.24000000000000002 done\n",
      "It took: 118.50460863113403 seconds.\n",
      "[0.8607385230700132, 0.10687597784300164]\n"
     ]
    },
    {
     "name": "stderr",
     "output_type": "stream",
     "text": [
      "Initial filtering of formulas: 100%|██████████████| 2/2 [00:00<00:00, 63.36it/s]\n",
      "Computing chunks: 100%|████████████████████████| 2/2 [00:00<00:00, 85598.04it/s]\n",
      "Splitting the experimental spectrum into chunks: 131072it [00:00, 3490136.39it/s]\n",
      "Deconvolving chunks: 100%|███████████████████████| 1/1 [02:03<00:00, 123.16s/it]\n"
     ]
    },
    {
     "name": "stdout",
     "output_type": "stream",
     "text": [
      "Estimation for 0.26 and 0.25 done\n",
      "It took: 123.3267605304718 seconds.\n",
      "[0.8605972199820132, 0.10684539979800163]\n"
     ]
    },
    {
     "name": "stderr",
     "output_type": "stream",
     "text": [
      "Initial filtering of formulas: 100%|██████████████| 2/2 [00:00<00:00, 65.42it/s]\n",
      "Computing chunks: 100%|████████████████████████| 2/2 [00:00<00:00, 93206.76it/s]\n",
      "Splitting the experimental spectrum into chunks: 131072it [00:00, 3526924.40it/s]\n",
      "Deconvolving chunks: 100%|███████████████████████| 1/1 [02:18<00:00, 138.89s/it]\n"
     ]
    },
    {
     "name": "stdout",
     "output_type": "stream",
     "text": [
      "Estimation for 0.26 and 0.26 done\n",
      "It took: 139.03191232681274 seconds.\n",
      "[0.8604250842930132, 0.10683969875300164]\n"
     ]
    },
    {
     "name": "stderr",
     "output_type": "stream",
     "text": [
      "Initial filtering of formulas: 100%|██████████████| 2/2 [00:00<00:00, 64.14it/s]\n",
      "Computing chunks: 100%|████████████████████████| 2/2 [00:00<00:00, 93206.76it/s]\n",
      "Splitting the experimental spectrum into chunks: 131072it [00:00, 3604530.70it/s]\n",
      "Deconvolving chunks: 100%|███████████████████████| 1/1 [01:54<00:00, 114.54s/it]\n"
     ]
    },
    {
     "name": "stdout",
     "output_type": "stream",
     "text": [
      "Estimation for 0.26 and 0.27 done\n",
      "It took: 114.68084836006165 seconds.\n",
      "[0.8602897478950132, 0.10677561528400163]\n"
     ]
    },
    {
     "name": "stderr",
     "output_type": "stream",
     "text": [
      "Initial filtering of formulas: 100%|██████████████| 2/2 [00:00<00:00, 63.81it/s]\n",
      "Computing chunks: 100%|████████████████████████| 2/2 [00:00<00:00, 93206.76it/s]\n",
      "Splitting the experimental spectrum into chunks: 131072it [00:00, 3488431.12it/s]\n",
      "Deconvolving chunks: 100%|███████████████████████| 1/1 [02:13<00:00, 133.49s/it]\n"
     ]
    },
    {
     "name": "stdout",
     "output_type": "stream",
     "text": [
      "Estimation for 0.26 and 0.28 done\n",
      "It took: 133.63212251663208 seconds.\n",
      "[0.8601676862870132, 0.10671606894900164]\n"
     ]
    },
    {
     "name": "stderr",
     "output_type": "stream",
     "text": [
      "Initial filtering of formulas: 100%|██████████████| 2/2 [00:00<00:00, 56.22it/s]\n",
      "Computing chunks: 100%|████████████████████████| 2/2 [00:00<00:00, 98689.51it/s]\n",
      "Splitting the experimental spectrum into chunks: 131072it [00:00, 3615149.69it/s]\n",
      "Deconvolving chunks: 100%|███████████████████████| 1/1 [01:59<00:00, 119.08s/it]\n"
     ]
    },
    {
     "name": "stdout",
     "output_type": "stream",
     "text": [
      "Estimation for 0.26 and 0.29000000000000004 done\n",
      "It took: 119.22698020935059 seconds.\n",
      "[0.8587242334800133, 0.10675205842200164]\n"
     ]
    },
    {
     "name": "stderr",
     "output_type": "stream",
     "text": [
      "Initial filtering of formulas: 100%|██████████████| 2/2 [00:00<00:00, 64.41it/s]\n",
      "Computing chunks: 100%|████████████████████████| 2/2 [00:00<00:00, 94254.02it/s]\n",
      "Splitting the experimental spectrum into chunks: 131072it [00:00, 3489804.06it/s]\n",
      "Deconvolving chunks: 100%|███████████████████████| 1/1 [01:55<00:00, 115.50s/it]\n"
     ]
    },
    {
     "name": "stdout",
     "output_type": "stream",
     "text": [
      "Estimation for 0.27 and 0.01 done\n",
      "It took: 115.6560583114624 seconds.\n",
      "[0.7621006869470116, 0.23717022004500363]\n"
     ]
    },
    {
     "name": "stderr",
     "output_type": "stream",
     "text": [
      "Initial filtering of formulas: 100%|██████████████| 2/2 [00:00<00:00, 63.93it/s]\n",
      "Computing chunks: 100%|████████████████████████| 2/2 [00:00<00:00, 80659.69it/s]\n",
      "Splitting the experimental spectrum into chunks: 131072it [00:00, 3538433.60it/s]\n",
      "Deconvolving chunks: 100%|███████████████████████| 1/1 [02:14<00:00, 134.44s/it]\n"
     ]
    },
    {
     "name": "stdout",
     "output_type": "stream",
     "text": [
      "Estimation for 0.27 and 0.02 done\n",
      "It took: 134.57464575767517 seconds.\n",
      "[0.8627038346150132, 0.12572110732200192]\n"
     ]
    },
    {
     "name": "stderr",
     "output_type": "stream",
     "text": [
      "Initial filtering of formulas: 100%|██████████████| 2/2 [00:00<00:00, 63.62it/s]\n",
      "Computing chunks: 100%|████████████████████████| 2/2 [00:00<00:00, 75573.05it/s]\n",
      "Splitting the experimental spectrum into chunks: 131072it [00:00, 3480304.21it/s]\n",
      "Deconvolving chunks: 100%|███████████████████████| 1/1 [02:26<00:00, 146.88s/it]\n"
     ]
    },
    {
     "name": "stdout",
     "output_type": "stream",
     "text": [
      "Estimation for 0.27 and 0.03 done\n",
      "It took: 147.01867413520813 seconds.\n",
      "[0.8812723605060135, 0.10162633481500155]\n"
     ]
    },
    {
     "name": "stderr",
     "output_type": "stream",
     "text": [
      "Initial filtering of formulas: 100%|██████████████| 2/2 [00:00<00:00, 63.84it/s]\n",
      "Computing chunks: 100%|████████████████████████| 2/2 [00:00<00:00, 90200.09it/s]\n",
      "Splitting the experimental spectrum into chunks: 131072it [00:00, 3482552.98it/s]\n",
      "Deconvolving chunks: 100%|███████████████████████| 1/1 [02:13<00:00, 133.11s/it]\n"
     ]
    },
    {
     "name": "stdout",
     "output_type": "stream",
     "text": [
      "Estimation for 0.27 and 0.04 done\n",
      "It took: 133.2509536743164 seconds.\n",
      "[0.8723323503090133, 0.10894674311000166]\n"
     ]
    },
    {
     "name": "stderr",
     "output_type": "stream",
     "text": [
      "Initial filtering of formulas: 100%|██████████████| 2/2 [00:00<00:00, 61.79it/s]\n",
      "Computing chunks: 100%|████████████████████████| 2/2 [00:00<00:00, 92182.51it/s]\n",
      "Splitting the experimental spectrum into chunks: 131072it [00:00, 3471316.17it/s]\n",
      "Deconvolving chunks: 100%|███████████████████████| 1/1 [02:19<00:00, 139.28s/it]\n"
     ]
    },
    {
     "name": "stdout",
     "output_type": "stream",
     "text": [
      "Estimation for 0.27 and 0.05 done\n",
      "It took: 139.4260184764862 seconds.\n",
      "[0.8713944605430133, 0.10896829744400166]\n"
     ]
    },
    {
     "name": "stderr",
     "output_type": "stream",
     "text": [
      "Initial filtering of formulas: 100%|██████████████| 2/2 [00:00<00:00, 64.59it/s]\n",
      "Computing chunks: 100%|████████████████████████| 2/2 [00:00<00:00, 98689.51it/s]\n",
      "Splitting the experimental spectrum into chunks: 131072it [00:00, 3525612.54it/s]\n",
      "Deconvolving chunks: 100%|███████████████████████| 1/1 [02:15<00:00, 135.13s/it]\n"
     ]
    },
    {
     "name": "stdout",
     "output_type": "stream",
     "text": [
      "Estimation for 0.27 and 0.060000000000000005 done\n",
      "It took: 135.26984548568726 seconds.\n",
      "[0.8703119173670133, 0.10906485692600167]\n"
     ]
    },
    {
     "name": "stderr",
     "output_type": "stream",
     "text": [
      "Initial filtering of formulas: 100%|██████████████| 2/2 [00:00<00:00, 62.73it/s]\n",
      "Computing chunks: 100%|████████████████████████| 2/2 [00:00<00:00, 92182.51it/s]\n",
      "Splitting the experimental spectrum into chunks: 131072it [00:00, 3482376.50it/s]\n",
      "Deconvolving chunks: 100%|███████████████████████| 1/1 [01:48<00:00, 108.56s/it]\n"
     ]
    },
    {
     "name": "stdout",
     "output_type": "stream",
     "text": [
      "Estimation for 0.27 and 0.06999999999999999 done\n",
      "It took: 108.70101428031921 seconds.\n",
      "[0.8705088926410133, 0.10870166064800167]\n"
     ]
    },
    {
     "name": "stderr",
     "output_type": "stream",
     "text": [
      "Initial filtering of formulas: 100%|██████████████| 2/2 [00:00<00:00, 63.75it/s]\n",
      "Computing chunks: 100%|████████████████████████| 2/2 [00:00<00:00, 95325.09it/s]\n",
      "Splitting the experimental spectrum into chunks: 131072it [00:00, 3491311.12it/s]\n",
      "Deconvolving chunks: 100%|███████████████████████| 1/1 [01:48<00:00, 108.78s/it]\n"
     ]
    },
    {
     "name": "stdout",
     "output_type": "stream",
     "text": [
      "Estimation for 0.27 and 0.08 done\n",
      "It took: 108.92254614830017 seconds.\n",
      "[0.8704585005630133, 0.10840220174600167]\n"
     ]
    },
    {
     "name": "stderr",
     "output_type": "stream",
     "text": [
      "Initial filtering of formulas: 100%|██████████████| 2/2 [00:00<00:00, 63.55it/s]\n",
      "Computing chunks: 100%|████████████████████████| 2/2 [00:00<00:00, 93206.76it/s]\n",
      "Splitting the experimental spectrum into chunks: 131072it [00:00, 3477684.31it/s]\n",
      "Deconvolving chunks: 100%|███████████████████████| 1/1 [02:12<00:00, 132.79s/it]\n"
     ]
    },
    {
     "name": "stdout",
     "output_type": "stream",
     "text": [
      "Estimation for 0.27 and 0.09 done\n",
      "It took: 132.93225622177124 seconds.\n",
      "[0.8700179151520133, 0.10841347369500166]\n"
     ]
    },
    {
     "name": "stderr",
     "output_type": "stream",
     "text": [
      "Initial filtering of formulas: 100%|██████████████| 2/2 [00:00<00:00, 64.91it/s]\n",
      "Computing chunks: 100%|████████████████████████| 2/2 [00:00<00:00, 64527.75it/s]\n",
      "Splitting the experimental spectrum into chunks: 131072it [00:00, 2955708.20it/s]\n",
      "Deconvolving chunks: 100%|███████████████████████| 1/1 [02:12<00:00, 132.13s/it]\n"
     ]
    },
    {
     "name": "stdout",
     "output_type": "stream",
     "text": [
      "Estimation for 0.27 and 0.09999999999999999 done\n",
      "It took: 132.27919626235962 seconds.\n",
      "[0.8695385951340133, 0.10848775711300167]\n"
     ]
    },
    {
     "name": "stderr",
     "output_type": "stream",
     "text": [
      "Initial filtering of formulas: 100%|██████████████| 2/2 [00:00<00:00, 64.61it/s]\n",
      "Computing chunks: 100%|████████████████████████| 2/2 [00:00<00:00, 96420.78it/s]\n",
      "Splitting the experimental spectrum into chunks: 131072it [00:00, 3513422.85it/s]\n",
      "Deconvolving chunks: 100%|███████████████████████| 1/1 [02:10<00:00, 130.75s/it]\n"
     ]
    },
    {
     "name": "stdout",
     "output_type": "stream",
     "text": [
      "Estimation for 0.27 and 0.11 done\n",
      "It took: 130.88607549667358 seconds.\n",
      "[0.8691278000910133, 0.10865696529400166]\n"
     ]
    },
    {
     "name": "stderr",
     "output_type": "stream",
     "text": [
      "Initial filtering of formulas: 100%|██████████████| 2/2 [00:00<00:00, 64.07it/s]\n",
      "Computing chunks: 100%|████████████████████████| 2/2 [00:00<00:00, 78398.21it/s]\n",
      "Splitting the experimental spectrum into chunks: 131072it [00:00, 3532703.68it/s]\n",
      "Deconvolving chunks: 100%|███████████████████████| 1/1 [02:16<00:00, 136.97s/it]\n"
     ]
    },
    {
     "name": "stdout",
     "output_type": "stream",
     "text": [
      "Estimation for 0.27 and 0.12 done\n",
      "It took: 137.1136908531189 seconds.\n",
      "[0.8685406780570133, 0.10869335597500167]\n"
     ]
    },
    {
     "name": "stderr",
     "output_type": "stream",
     "text": [
      "Initial filtering of formulas: 100%|██████████████| 2/2 [00:00<00:00, 63.57it/s]\n",
      "Computing chunks: 100%|████████████████████████| 2/2 [00:00<00:00, 87381.33it/s]\n",
      "Splitting the experimental spectrum into chunks: 131072it [00:00, 3486417.95it/s]\n",
      "Deconvolving chunks: 100%|███████████████████████| 1/1 [01:53<00:00, 113.93s/it]\n"
     ]
    },
    {
     "name": "stdout",
     "output_type": "stream",
     "text": [
      "Estimation for 0.27 and 0.13 done\n",
      "It took: 114.07038235664368 seconds.\n",
      "[0.8682676582070133, 0.10842067095700167]\n"
     ]
    },
    {
     "name": "stderr",
     "output_type": "stream",
     "text": [
      "Initial filtering of formulas: 100%|██████████████| 2/2 [00:00<00:00, 51.49it/s]\n",
      "Computing chunks: 100%|████████████████████████| 2/2 [00:00<00:00, 40920.04it/s]\n",
      "Splitting the experimental spectrum into chunks: 131072it [00:00, 3470702.55it/s]\n",
      "Deconvolving chunks: 100%|███████████████████████| 1/1 [02:12<00:00, 132.14s/it]\n"
     ]
    },
    {
     "name": "stdout",
     "output_type": "stream",
     "text": [
      "Estimation for 0.27 and 0.14 done\n",
      "It took: 132.29605841636658 seconds.\n",
      "[0.8676003191940134, 0.10826380467500167]\n"
     ]
    },
    {
     "name": "stderr",
     "output_type": "stream",
     "text": [
      "Initial filtering of formulas: 100%|██████████████| 2/2 [00:00<00:00, 63.43it/s]\n",
      "Computing chunks: 100%|████████████████████████| 2/2 [00:00<00:00, 15505.74it/s]\n",
      "Splitting the experimental spectrum into chunks: 131072it [00:00, 3502655.64it/s]\n",
      "Deconvolving chunks: 100%|███████████████████████| 1/1 [01:53<00:00, 113.27s/it]\n"
     ]
    },
    {
     "name": "stdout",
     "output_type": "stream",
     "text": [
      "Estimation for 0.27 and 0.15000000000000002 done\n",
      "It took: 113.4290599822998 seconds.\n",
      "[0.8667839339290133, 0.10805616451100165]\n"
     ]
    },
    {
     "name": "stderr",
     "output_type": "stream",
     "text": [
      "Initial filtering of formulas: 100%|██████████████| 2/2 [00:00<00:00, 55.06it/s]\n",
      "Computing chunks: 100%|████████████████████████| 2/2 [00:00<00:00, 83055.52it/s]\n",
      "Splitting the experimental spectrum into chunks: 131072it [00:00, 2879478.60it/s]\n",
      "Deconvolving chunks: 100%|███████████████████████| 1/1 [01:54<00:00, 114.24s/it]\n"
     ]
    },
    {
     "name": "stdout",
     "output_type": "stream",
     "text": [
      "Estimation for 0.27 and 0.16 done\n",
      "It took: 114.40031099319458 seconds.\n",
      "[0.8661963879700133, 0.10802103384300166]\n"
     ]
    },
    {
     "name": "stderr",
     "output_type": "stream",
     "text": [
      "Initial filtering of formulas: 100%|██████████████| 2/2 [00:00<00:00, 63.49it/s]\n",
      "Computing chunks: 100%|████████████████████████| 2/2 [00:00<00:00, 76959.71it/s]\n",
      "Splitting the experimental spectrum into chunks: 131072it [00:00, 3472916.99it/s]\n",
      "Deconvolving chunks: 100%|███████████████████████| 1/1 [01:55<00:00, 115.16s/it]\n"
     ]
    },
    {
     "name": "stdout",
     "output_type": "stream",
     "text": [
      "Estimation for 0.27 and 0.17 done\n",
      "It took: 115.29667353630066 seconds.\n",
      "[0.8660612420610133, 0.10767039542100165]\n"
     ]
    },
    {
     "name": "stderr",
     "output_type": "stream",
     "text": [
      "Initial filtering of formulas: 100%|██████████████| 2/2 [00:00<00:00, 63.84it/s]\n",
      "Computing chunks: 100%|████████████████████████| 2/2 [00:00<00:00, 96420.78it/s]\n",
      "Splitting the experimental spectrum into chunks: 131072it [00:00, 3541328.36it/s]\n",
      "Deconvolving chunks: 100%|███████████████████████| 1/1 [01:54<00:00, 114.38s/it]\n"
     ]
    },
    {
     "name": "stdout",
     "output_type": "stream",
     "text": [
      "Estimation for 0.27 and 0.18000000000000002 done\n",
      "It took: 114.52240252494812 seconds.\n",
      "[0.8649287109940133, 0.10753868072100164]\n"
     ]
    },
    {
     "name": "stderr",
     "output_type": "stream",
     "text": [
      "Initial filtering of formulas: 100%|██████████████| 2/2 [00:00<00:00, 63.43it/s]\n",
      "Computing chunks: 100%|████████████████████████| 2/2 [00:00<00:00, 83886.08it/s]\n",
      "Splitting the experimental spectrum into chunks: 131072it [00:00, 3526155.26it/s]\n",
      "Deconvolving chunks: 100%|███████████████████████| 1/1 [01:57<00:00, 117.36s/it]\n"
     ]
    },
    {
     "name": "stdout",
     "output_type": "stream",
     "text": [
      "Estimation for 0.27 and 0.19 done\n",
      "It took: 117.49563884735107 seconds.\n",
      "[0.8638182274950132, 0.10745071641100165]\n"
     ]
    },
    {
     "name": "stderr",
     "output_type": "stream",
     "text": [
      "Initial filtering of formulas: 100%|██████████████| 2/2 [00:00<00:00, 63.17it/s]\n",
      "Computing chunks: 100%|████████████████████████| 2/2 [00:00<00:00, 86480.49it/s]\n",
      "Splitting the experimental spectrum into chunks: 131072it [00:00, 3511515.31it/s]\n",
      "Deconvolving chunks: 100%|███████████████████████| 1/1 [01:55<00:00, 115.87s/it]\n"
     ]
    },
    {
     "name": "stdout",
     "output_type": "stream",
     "text": [
      "Estimation for 0.27 and 0.2 done\n",
      "It took: 116.00624895095825 seconds.\n",
      "[0.8632771164910132, 0.10732508077900164]\n"
     ]
    },
    {
     "name": "stderr",
     "output_type": "stream",
     "text": [
      "Initial filtering of formulas: 100%|██████████████| 2/2 [00:00<00:00, 64.33it/s]\n",
      "Computing chunks: 100%|████████████████████████| 2/2 [00:00<00:00, 93206.76it/s]\n",
      "Splitting the experimental spectrum into chunks: 131072it [00:00, 3500559.15it/s]\n",
      "Deconvolving chunks: 100%|███████████████████████| 1/1 [01:54<00:00, 114.30s/it]\n"
     ]
    },
    {
     "name": "stdout",
     "output_type": "stream",
     "text": [
      "Estimation for 0.27 and 0.21000000000000002 done\n",
      "It took: 114.46250295639038 seconds.\n",
      "[0.8615356510020132, 0.10735151780700165]\n"
     ]
    },
    {
     "name": "stderr",
     "output_type": "stream",
     "text": [
      "Initial filtering of formulas: 100%|██████████████| 2/2 [00:00<00:00, 63.81it/s]\n",
      "Computing chunks: 100%|████████████████████████| 2/2 [00:00<00:00, 91180.52it/s]\n",
      "Splitting the experimental spectrum into chunks: 131072it [00:00, 3462810.62it/s]\n",
      "Deconvolving chunks: 100%|███████████████████████| 1/1 [01:55<00:00, 115.49s/it]\n"
     ]
    },
    {
     "name": "stdout",
     "output_type": "stream",
     "text": [
      "Estimation for 0.27 and 0.22 done\n",
      "It took: 115.62616515159607 seconds.\n",
      "[0.8615265951780132, 0.10720622299900164]\n"
     ]
    },
    {
     "name": "stderr",
     "output_type": "stream",
     "text": [
      "Initial filtering of formulas: 100%|██████████████| 2/2 [00:00<00:00, 63.71it/s]\n",
      "Computing chunks: 100%|████████████████████████| 2/2 [00:00<00:00, 95325.09it/s]\n",
      "Splitting the experimental spectrum into chunks: 131072it [00:00, 3469563.55it/s]\n",
      "Deconvolving chunks: 100%|███████████████████████| 1/1 [01:57<00:00, 117.77s/it]\n"
     ]
    },
    {
     "name": "stdout",
     "output_type": "stream",
     "text": [
      "Estimation for 0.27 and 0.23 done\n",
      "It took: 117.90639233589172 seconds.\n",
      "[0.8615231712580133, 0.10700635832400164]\n"
     ]
    },
    {
     "name": "stderr",
     "output_type": "stream",
     "text": [
      "Initial filtering of formulas: 100%|██████████████| 2/2 [00:00<00:00, 63.54it/s]\n",
      "Computing chunks: 100%|████████████████████████| 2/2 [00:00<00:00, 92182.51it/s]\n",
      "Splitting the experimental spectrum into chunks: 131072it [00:00, 3473904.53it/s]\n",
      "Deconvolving chunks: 100%|███████████████████████| 1/1 [01:57<00:00, 117.91s/it]\n"
     ]
    },
    {
     "name": "stdout",
     "output_type": "stream",
     "text": [
      "Estimation for 0.27 and 0.24000000000000002 done\n",
      "It took: 118.05395674705505 seconds.\n",
      "[0.8614482330950132, 0.10689617688800164]\n"
     ]
    },
    {
     "name": "stderr",
     "output_type": "stream",
     "text": [
      "Initial filtering of formulas: 100%|██████████████| 2/2 [00:00<00:00, 51.03it/s]\n",
      "Computing chunks: 100%|████████████████████████| 2/2 [00:00<00:00, 88301.14it/s]\n",
      "Splitting the experimental spectrum into chunks: 131072it [00:00, 3466194.72it/s]\n",
      "Deconvolving chunks: 100%|███████████████████████| 1/1 [01:59<00:00, 119.98s/it]\n"
     ]
    },
    {
     "name": "stdout",
     "output_type": "stream",
     "text": [
      "Estimation for 0.27 and 0.25 done\n",
      "It took: 120.15355920791626 seconds.\n",
      "[0.8613645299390132, 0.10686491095400164]\n"
     ]
    },
    {
     "name": "stderr",
     "output_type": "stream",
     "text": [
      "Initial filtering of formulas: 100%|██████████████| 2/2 [00:00<00:00, 60.97it/s]\n",
      "Computing chunks: 100%|████████████████████████| 2/2 [00:00<00:00, 89240.51it/s]\n",
      "Splitting the experimental spectrum into chunks: 131072it [00:00, 3418518.03it/s]\n",
      "Deconvolving chunks: 100%|███████████████████████| 1/1 [01:58<00:00, 118.27s/it]\n"
     ]
    },
    {
     "name": "stdout",
     "output_type": "stream",
     "text": [
      "Estimation for 0.27 and 0.26 done\n",
      "It took: 118.40762519836426 seconds.\n",
      "[0.8611998346880132, 0.10683628269100164]\n"
     ]
    },
    {
     "name": "stderr",
     "output_type": "stream",
     "text": [
      "Initial filtering of formulas: 100%|██████████████| 2/2 [00:00<00:00, 60.65it/s]\n",
      "Computing chunks: 100%|████████████████████████| 2/2 [00:00<00:00, 56679.78it/s]\n",
      "Splitting the experimental spectrum into chunks: 131072it [00:00, 3453804.10it/s]\n",
      "Deconvolving chunks: 100%|███████████████████████| 1/1 [02:17<00:00, 137.21s/it]\n"
     ]
    },
    {
     "name": "stdout",
     "output_type": "stream",
     "text": [
      "Estimation for 0.27 and 0.27 done\n",
      "It took: 137.36447191238403 seconds.\n",
      "[0.8609777509480132, 0.10682821555800164]\n"
     ]
    },
    {
     "name": "stderr",
     "output_type": "stream",
     "text": [
      "Initial filtering of formulas: 100%|██████████████| 2/2 [00:00<00:00, 62.94it/s]\n",
      "Computing chunks: 100%|████████████████████████| 2/2 [00:00<00:00, 95325.09it/s]\n",
      "Splitting the experimental spectrum into chunks: 131072it [00:00, 3490734.74it/s]\n",
      "Deconvolving chunks: 100%|███████████████████████| 1/1 [01:56<00:00, 116.98s/it]\n"
     ]
    },
    {
     "name": "stdout",
     "output_type": "stream",
     "text": [
      "Estimation for 0.27 and 0.28 done\n",
      "It took: 117.11932373046875 seconds.\n",
      "[0.8608518063930132, 0.10678087789100164]\n"
     ]
    },
    {
     "name": "stderr",
     "output_type": "stream",
     "text": [
      "Initial filtering of formulas: 100%|██████████████| 2/2 [00:00<00:00, 63.58it/s]\n",
      "Computing chunks: 100%|███████████████████████| 2/2 [00:00<00:00, 102300.10it/s]\n",
      "Splitting the experimental spectrum into chunks: 131072it [00:00, 3468819.22it/s]\n",
      "Deconvolving chunks: 100%|███████████████████████| 1/1 [02:01<00:00, 121.19s/it]\n"
     ]
    },
    {
     "name": "stdout",
     "output_type": "stream",
     "text": [
      "Estimation for 0.27 and 0.29000000000000004 done\n",
      "It took: 121.33378624916077 seconds.\n",
      "[0.8605980899670133, 0.10670687167700164]\n"
     ]
    },
    {
     "name": "stderr",
     "output_type": "stream",
     "text": [
      "Initial filtering of formulas: 100%|██████████████| 2/2 [00:00<00:00, 60.76it/s]\n",
      "Computing chunks: 100%|████████████████████████| 2/2 [00:00<00:00, 96420.78it/s]\n",
      "Splitting the experimental spectrum into chunks: 131072it [00:00, 3491333.29it/s]\n",
      "Deconvolving chunks: 100%|███████████████████████| 1/1 [01:51<00:00, 111.37s/it]\n"
     ]
    },
    {
     "name": "stdout",
     "output_type": "stream",
     "text": [
      "Estimation for 0.28 and 0.01 done\n",
      "It took: 111.50926756858826 seconds.\n",
      "[0.7615544100410117, 0.23775854951100364]\n"
     ]
    },
    {
     "name": "stderr",
     "output_type": "stream",
     "text": [
      "Initial filtering of formulas: 100%|██████████████| 2/2 [00:00<00:00, 63.56it/s]\n",
      "Computing chunks: 100%|████████████████████████| 2/2 [00:00<00:00, 64527.75it/s]\n",
      "Splitting the experimental spectrum into chunks: 131072it [00:00, 3486616.95it/s]\n",
      "Deconvolving chunks: 100%|███████████████████████| 1/1 [02:15<00:00, 135.17s/it]\n"
     ]
    },
    {
     "name": "stdout",
     "output_type": "stream",
     "text": [
      "Estimation for 0.28 and 0.02 done\n",
      "It took: 135.31098008155823 seconds.\n",
      "[0.8543861692650131, 0.13490288758400204]\n"
     ]
    },
    {
     "name": "stderr",
     "output_type": "stream",
     "text": [
      "Initial filtering of formulas: 100%|██████████████| 2/2 [00:00<00:00, 62.83it/s]\n",
      "Computing chunks: 100%|████████████████████████| 2/2 [00:00<00:00, 81442.80it/s]\n",
      "Splitting the experimental spectrum into chunks: 131072it [00:00, 3485688.47it/s]\n",
      "Deconvolving chunks: 100%|███████████████████████| 1/1 [01:47<00:00, 107.69s/it]\n"
     ]
    },
    {
     "name": "stdout",
     "output_type": "stream",
     "text": [
      "Estimation for 0.28 and 0.03 done\n",
      "It took: 107.86210179328918 seconds.\n",
      "[0.8833609029720135, 0.10083561657600154]\n"
     ]
    },
    {
     "name": "stderr",
     "output_type": "stream",
     "text": [
      "Initial filtering of formulas: 100%|██████████████| 2/2 [00:00<00:00, 54.21it/s]\n",
      "Computing chunks: 100%|████████████████████████| 2/2 [00:00<00:00, 83055.52it/s]\n",
      "Splitting the experimental spectrum into chunks: 131072it [00:00, 2869319.17it/s]\n",
      "Deconvolving chunks: 100%|███████████████████████| 1/1 [01:49<00:00, 109.75s/it]\n"
     ]
    },
    {
     "name": "stdout",
     "output_type": "stream",
     "text": [
      "Estimation for 0.28 and 0.04 done\n",
      "It took: 109.91064310073853 seconds.\n",
      "[0.8733848906590135, 0.10897633935700167]\n"
     ]
    },
    {
     "name": "stderr",
     "output_type": "stream",
     "text": [
      "Initial filtering of formulas: 100%|██████████████| 2/2 [00:00<00:00, 63.81it/s]\n",
      "Computing chunks: 100%|████████████████████████| 2/2 [00:00<00:00, 89240.51it/s]\n",
      "Splitting the experimental spectrum into chunks: 131072it [00:00, 3488497.53it/s]\n",
      "Deconvolving chunks: 100%|███████████████████████| 1/1 [01:51<00:00, 111.73s/it]\n"
     ]
    },
    {
     "name": "stdout",
     "output_type": "stream",
     "text": [
      "Estimation for 0.28 and 0.05 done\n",
      "It took: 111.87000966072083 seconds.\n",
      "[0.8725588853580133, 0.10899677025900166]\n"
     ]
    },
    {
     "name": "stderr",
     "output_type": "stream",
     "text": [
      "Initial filtering of formulas: 100%|██████████████| 2/2 [00:00<00:00, 51.19it/s]\n",
      "Computing chunks: 100%|████████████████████████| 2/2 [00:00<00:00, 89240.51it/s]\n",
      "Splitting the experimental spectrum into chunks: 131072it [00:00, 2917590.88it/s]\n",
      "Deconvolving chunks: 100%|███████████████████████| 1/1 [02:12<00:00, 132.79s/it]\n"
     ]
    },
    {
     "name": "stdout",
     "output_type": "stream",
     "text": [
      "Estimation for 0.28 and 0.060000000000000005 done\n",
      "It took: 132.9522213935852 seconds.\n",
      "[0.8713877688520133, 0.10919417887800167]\n"
     ]
    },
    {
     "name": "stderr",
     "output_type": "stream",
     "text": [
      "Initial filtering of formulas: 100%|██████████████| 2/2 [00:00<00:00, 62.89it/s]\n",
      "Computing chunks: 100%|████████████████████████| 2/2 [00:00<00:00, 78398.21it/s]\n",
      "Splitting the experimental spectrum into chunks: 131072it [00:00, 3499110.92it/s]\n",
      "Deconvolving chunks: 100%|███████████████████████| 1/1 [01:48<00:00, 108.55s/it]\n"
     ]
    },
    {
     "name": "stdout",
     "output_type": "stream",
     "text": [
      "Estimation for 0.28 and 0.06999999999999999 done\n",
      "It took: 108.69464588165283 seconds.\n",
      "[0.8715847052140133, 0.10879933443800166]\n"
     ]
    },
    {
     "name": "stderr",
     "output_type": "stream",
     "text": [
      "Initial filtering of formulas: 100%|██████████████| 2/2 [00:00<00:00, 64.58it/s]\n",
      "Computing chunks: 100%|████████████████████████| 2/2 [00:00<00:00, 91180.52it/s]\n",
      "Splitting the experimental spectrum into chunks: 131072it [00:00, 3505760.38it/s]\n",
      "Deconvolving chunks: 100%|███████████████████████| 1/1 [02:17<00:00, 137.10s/it]\n"
     ]
    },
    {
     "name": "stdout",
     "output_type": "stream",
     "text": [
      "Estimation for 0.28 and 0.08 done\n",
      "It took: 137.24075198173523 seconds.\n",
      "[0.8716212705410133, 0.10851882227000166]\n"
     ]
    },
    {
     "name": "stderr",
     "output_type": "stream",
     "text": [
      "Initial filtering of formulas: 100%|██████████████| 2/2 [00:00<00:00, 63.26it/s]\n",
      "Computing chunks: 100%|████████████████████████| 2/2 [00:00<00:00, 11765.23it/s]\n",
      "Splitting the experimental spectrum into chunks: 131072it [00:00, 3415905.39it/s]\n",
      "Deconvolving chunks: 100%|███████████████████████| 1/1 [01:48<00:00, 108.02s/it]\n"
     ]
    },
    {
     "name": "stdout",
     "output_type": "stream",
     "text": [
      "Estimation for 0.28 and 0.09 done\n",
      "It took: 108.19072413444519 seconds.\n",
      "[0.8714625205540133, 0.10849991949800167]\n"
     ]
    },
    {
     "name": "stderr",
     "output_type": "stream",
     "text": [
      "Initial filtering of formulas: 100%|██████████████| 2/2 [00:00<00:00, 63.80it/s]\n",
      "Computing chunks: 100%|████████████████████████| 2/2 [00:00<00:00, 98689.51it/s]\n",
      "Splitting the experimental spectrum into chunks: 131072it [00:00, 3481560.52it/s]\n",
      "Deconvolving chunks: 100%|███████████████████████| 1/1 [02:12<00:00, 132.55s/it]\n"
     ]
    },
    {
     "name": "stdout",
     "output_type": "stream",
     "text": [
      "Estimation for 0.28 and 0.09999999999999999 done\n",
      "It took: 132.7022840976715 seconds.\n",
      "[0.8708842063400133, 0.10860784897700167]\n"
     ]
    },
    {
     "name": "stderr",
     "output_type": "stream",
     "text": [
      "Initial filtering of formulas: 100%|██████████████| 2/2 [00:00<00:00, 64.94it/s]\n",
      "Computing chunks: 100%|████████████████████████| 2/2 [00:00<00:00, 71089.90it/s]\n",
      "Splitting the experimental spectrum into chunks: 131072it [00:00, 3491133.75it/s]\n",
      "Deconvolving chunks: 100%|███████████████████████| 1/1 [01:49<00:00, 109.70s/it]\n"
     ]
    },
    {
     "name": "stdout",
     "output_type": "stream",
     "text": [
      "Estimation for 0.28 and 0.11 done\n",
      "It took: 109.83772683143616 seconds.\n",
      "[0.8704387392230133, 0.10865821465800167]\n"
     ]
    },
    {
     "name": "stderr",
     "output_type": "stream",
     "text": [
      "Initial filtering of formulas: 100%|██████████████| 2/2 [00:00<00:00, 64.47it/s]\n",
      "Computing chunks: 100%|████████████████████████| 2/2 [00:00<00:00, 96420.78it/s]\n",
      "Splitting the experimental spectrum into chunks: 131072it [00:00, 3508557.11it/s]\n",
      "Deconvolving chunks: 100%|███████████████████████| 1/1 [01:55<00:00, 115.33s/it]\n"
     ]
    },
    {
     "name": "stdout",
     "output_type": "stream",
     "text": [
      "Estimation for 0.28 and 0.12 done\n",
      "It took: 115.46902203559875 seconds.\n",
      "[0.8698072535620133, 0.10886293112900167]\n"
     ]
    },
    {
     "name": "stderr",
     "output_type": "stream",
     "text": [
      "Initial filtering of formulas: 100%|██████████████| 2/2 [00:00<00:00, 64.70it/s]\n",
      "Computing chunks: 100%|███████████████████████| 2/2 [00:00<00:00, 102300.10it/s]\n",
      "Splitting the experimental spectrum into chunks: 131072it [00:00, 3505134.52it/s]\n",
      "Deconvolving chunks: 100%|███████████████████████| 1/1 [01:53<00:00, 113.40s/it]\n"
     ]
    },
    {
     "name": "stdout",
     "output_type": "stream",
     "text": [
      "Estimation for 0.28 and 0.13 done\n",
      "It took: 113.5375828742981 seconds.\n",
      "[0.8692972949370134, 0.10871554842300167]\n"
     ]
    },
    {
     "name": "stderr",
     "output_type": "stream",
     "text": [
      "Initial filtering of formulas: 100%|██████████████| 2/2 [00:00<00:00, 63.19it/s]\n",
      "Computing chunks: 100%|████████████████████████| 2/2 [00:00<00:00, 96420.78it/s]\n",
      "Splitting the experimental spectrum into chunks: 131072it [00:00, 3488873.89it/s]\n",
      "Deconvolving chunks: 100%|███████████████████████| 1/1 [01:54<00:00, 114.40s/it]\n"
     ]
    },
    {
     "name": "stdout",
     "output_type": "stream",
     "text": [
      "Estimation for 0.28 and 0.14 done\n",
      "It took: 114.5433406829834 seconds.\n",
      "[0.8685436088140133, 0.10840856348800167]\n"
     ]
    },
    {
     "name": "stderr",
     "output_type": "stream",
     "text": [
      "Initial filtering of formulas: 100%|██████████████| 2/2 [00:00<00:00, 63.19it/s]\n",
      "Computing chunks: 100%|████████████████████████| 2/2 [00:00<00:00, 94254.02it/s]\n",
      "Splitting the experimental spectrum into chunks: 131072it [00:00, 3479423.13it/s]\n",
      "Deconvolving chunks: 100%|███████████████████████| 1/1 [02:13<00:00, 133.83s/it]\n"
     ]
    },
    {
     "name": "stdout",
     "output_type": "stream",
     "text": [
      "Estimation for 0.28 and 0.15000000000000002 done\n",
      "It took: 133.96598362922668 seconds.\n",
      "[0.8676981661600133, 0.10821144834200165]\n"
     ]
    },
    {
     "name": "stderr",
     "output_type": "stream",
     "text": [
      "Initial filtering of formulas: 100%|██████████████| 2/2 [00:00<00:00, 63.73it/s]\n",
      "Computing chunks: 100%|████████████████████████| 2/2 [00:00<00:00, 95325.09it/s]\n",
      "Splitting the experimental spectrum into chunks: 131072it [00:00, 3457648.97it/s]\n",
      "Deconvolving chunks: 100%|███████████████████████| 1/1 [01:54<00:00, 114.17s/it]\n"
     ]
    },
    {
     "name": "stdout",
     "output_type": "stream",
     "text": [
      "Estimation for 0.28 and 0.16 done\n",
      "It took: 114.31477236747742 seconds.\n",
      "[0.8670763809880133, 0.10805250938000165]\n"
     ]
    },
    {
     "name": "stderr",
     "output_type": "stream",
     "text": [
      "Initial filtering of formulas: 100%|██████████████| 2/2 [00:00<00:00, 67.67it/s]\n",
      "Computing chunks: 100%|████████████████████████| 2/2 [00:00<00:00, 89240.51it/s]\n",
      "Splitting the experimental spectrum into chunks: 131072it [00:00, 3603136.87it/s]\n",
      "Deconvolving chunks: 100%|███████████████████████| 1/1 [01:56<00:00, 116.09s/it]\n"
     ]
    },
    {
     "name": "stdout",
     "output_type": "stream",
     "text": [
      "Estimation for 0.28 and 0.17 done\n",
      "It took: 116.22980833053589 seconds.\n",
      "[0.8666793907810133, 0.10797876366000166]\n"
     ]
    },
    {
     "name": "stderr",
     "output_type": "stream",
     "text": [
      "Initial filtering of formulas: 100%|██████████████| 2/2 [00:00<00:00, 62.12it/s]\n",
      "Computing chunks: 100%|████████████████████████| 2/2 [00:00<00:00, 91180.52it/s]\n",
      "Splitting the experimental spectrum into chunks: 131072it [00:00, 3473948.44it/s]\n",
      "Deconvolving chunks: 100%|███████████████████████| 1/1 [01:54<00:00, 114.75s/it]\n"
     ]
    },
    {
     "name": "stdout",
     "output_type": "stream",
     "text": [
      "Estimation for 0.28 and 0.18000000000000002 done\n",
      "It took: 114.88898038864136 seconds.\n",
      "[0.8664343724100133, 0.10758992183500166]\n"
     ]
    },
    {
     "name": "stderr",
     "output_type": "stream",
     "text": [
      "Initial filtering of formulas: 100%|██████████████| 2/2 [00:00<00:00, 63.60it/s]\n",
      "Computing chunks: 100%|████████████████████████| 2/2 [00:00<00:00, 92182.51it/s]\n",
      "Splitting the experimental spectrum into chunks: 131072it [00:00, 3503615.51it/s]\n",
      "Deconvolving chunks: 100%|███████████████████████| 1/1 [01:57<00:00, 117.21s/it]\n"
     ]
    },
    {
     "name": "stdout",
     "output_type": "stream",
     "text": [
      "Estimation for 0.28 and 0.19 done\n",
      "It took: 117.35516452789307 seconds.\n",
      "[0.8646901635760132, 0.10767738145000165]\n"
     ]
    },
    {
     "name": "stderr",
     "output_type": "stream",
     "text": [
      "Initial filtering of formulas: 100%|██████████████| 2/2 [00:00<00:00, 61.95it/s]\n",
      "Computing chunks: 100%|████████████████████████| 2/2 [00:00<00:00, 89240.51it/s]\n",
      "Splitting the experimental spectrum into chunks: 131072it [00:00, 3480127.96it/s]\n",
      "Deconvolving chunks: 100%|███████████████████████| 1/1 [01:57<00:00, 117.12s/it]\n"
     ]
    },
    {
     "name": "stdout",
     "output_type": "stream",
     "text": [
      "Estimation for 0.28 and 0.2 done\n",
      "It took: 117.27602982521057 seconds.\n",
      "[0.8641542161240132, 0.10746718510600164]\n"
     ]
    },
    {
     "name": "stderr",
     "output_type": "stream",
     "text": [
      "Initial filtering of formulas: 100%|██████████████| 2/2 [00:00<00:00, 63.51it/s]\n",
      "Computing chunks: 100%|████████████████████████| 2/2 [00:00<00:00, 76959.71it/s]\n",
      "Splitting the experimental spectrum into chunks: 131072it [00:00, 3504978.09it/s]\n",
      "Deconvolving chunks: 100%|███████████████████████| 1/1 [01:56<00:00, 116.87s/it]\n"
     ]
    },
    {
     "name": "stdout",
     "output_type": "stream",
     "text": [
      "Estimation for 0.28 and 0.21000000000000002 done\n",
      "It took: 117.0059142112732 seconds.\n",
      "[0.8626487476690132, 0.10743978982500166]\n"
     ]
    },
    {
     "name": "stderr",
     "output_type": "stream",
     "text": [
      "Initial filtering of formulas: 100%|██████████████| 2/2 [00:00<00:00, 64.67it/s]\n",
      "Computing chunks: 100%|████████████████████████| 2/2 [00:00<00:00, 91180.52it/s]\n",
      "Splitting the experimental spectrum into chunks: 131072it [00:00, 3524233.87it/s]\n",
      "Deconvolving chunks: 100%|███████████████████████| 1/1 [01:58<00:00, 118.26s/it]\n"
     ]
    },
    {
     "name": "stdout",
     "output_type": "stream",
     "text": [
      "Estimation for 0.28 and 0.22 done\n",
      "It took: 118.39872884750366 seconds.\n",
      "[0.8621557598570132, 0.10729786602600164]\n"
     ]
    },
    {
     "name": "stderr",
     "output_type": "stream",
     "text": [
      "Initial filtering of formulas: 100%|██████████████| 2/2 [00:00<00:00, 62.73it/s]\n",
      "Computing chunks: 100%|████████████████████████| 2/2 [00:00<00:00, 90200.09it/s]\n",
      "Splitting the experimental spectrum into chunks: 131072it [00:00, 3423115.76it/s]\n",
      "Deconvolving chunks: 100%|███████████████████████| 1/1 [01:55<00:00, 115.20s/it]\n"
     ]
    },
    {
     "name": "stdout",
     "output_type": "stream",
     "text": [
      "Estimation for 0.28 and 0.23 done\n",
      "It took: 115.3696973323822 seconds.\n",
      "[0.8621048903060132, 0.10721341969300163]\n"
     ]
    },
    {
     "name": "stderr",
     "output_type": "stream",
     "text": [
      "Initial filtering of formulas: 100%|██████████████| 2/2 [00:00<00:00, 63.91it/s]\n",
      "Computing chunks: 100%|████████████████████████| 2/2 [00:00<00:00, 85598.04it/s]\n",
      "Splitting the experimental spectrum into chunks: 131072it [00:00, 3451874.03it/s]\n",
      "Deconvolving chunks: 100%|███████████████████████| 1/1 [02:00<00:00, 120.95s/it]\n"
     ]
    },
    {
     "name": "stdout",
     "output_type": "stream",
     "text": [
      "Estimation for 0.28 and 0.24000000000000002 done\n",
      "It took: 121.11597514152527 seconds.\n",
      "[0.8621248603300132, 0.10702125455600164]\n"
     ]
    },
    {
     "name": "stderr",
     "output_type": "stream",
     "text": [
      "Initial filtering of formulas: 100%|██████████████| 2/2 [00:00<00:00, 65.15it/s]\n",
      "Computing chunks: 100%|████████████████████████| 2/2 [00:00<00:00, 97541.95it/s]\n",
      "Splitting the experimental spectrum into chunks: 131072it [00:00, 3534816.13it/s]\n",
      "Deconvolving chunks: 100%|███████████████████████| 1/1 [01:55<00:00, 115.09s/it]\n"
     ]
    },
    {
     "name": "stdout",
     "output_type": "stream",
     "text": [
      "Estimation for 0.28 and 0.25 done\n",
      "It took: 115.23399329185486 seconds.\n",
      "[0.8621200936860132, 0.10690489223100164]\n"
     ]
    },
    {
     "name": "stderr",
     "output_type": "stream",
     "text": [
      "Initial filtering of formulas: 100%|██████████████| 2/2 [00:00<00:00, 64.41it/s]\n",
      "Computing chunks: 100%|████████████████████████| 2/2 [00:00<00:00, 91180.52it/s]\n",
      "Splitting the experimental spectrum into chunks: 131072it [00:00, 3521321.88it/s]\n",
      "Deconvolving chunks: 100%|███████████████████████| 1/1 [01:58<00:00, 118.69s/it]\n"
     ]
    },
    {
     "name": "stdout",
     "output_type": "stream",
     "text": [
      "Estimation for 0.28 and 0.26 done\n",
      "It took: 118.83002305030823 seconds.\n",
      "[0.8620034464820132, 0.10686856575400164]\n"
     ]
    },
    {
     "name": "stderr",
     "output_type": "stream",
     "text": [
      "Initial filtering of formulas: 100%|██████████████| 2/2 [00:00<00:00, 64.48it/s]\n",
      "Computing chunks: 100%|████████████████████████| 2/2 [00:00<00:00, 88301.14it/s]\n",
      "Splitting the experimental spectrum into chunks: 131072it [00:00, 3473311.94it/s]\n",
      "Deconvolving chunks: 100%|███████████████████████| 1/1 [01:59<00:00, 119.76s/it]\n"
     ]
    },
    {
     "name": "stdout",
     "output_type": "stream",
     "text": [
      "Estimation for 0.28 and 0.27 done\n",
      "It took: 119.90156316757202 seconds.\n",
      "[0.8618664057640132, 0.10682355168600163]\n"
     ]
    },
    {
     "name": "stderr",
     "output_type": "stream",
     "text": [
      "Initial filtering of formulas: 100%|██████████████| 2/2 [00:00<00:00, 64.49it/s]\n",
      "Computing chunks: 100%|████████████████████████| 2/2 [00:00<00:00, 79137.81it/s]\n",
      "Splitting the experimental spectrum into chunks: 131072it [00:00, 3513333.04it/s]\n",
      "Deconvolving chunks: 100%|███████████████████████| 1/1 [01:59<00:00, 119.18s/it]\n"
     ]
    },
    {
     "name": "stdout",
     "output_type": "stream",
     "text": [
      "Estimation for 0.28 and 0.28 done\n",
      "It took: 119.31521821022034 seconds.\n",
      "[0.8616778323800132, 0.10682249962100164]\n"
     ]
    },
    {
     "name": "stderr",
     "output_type": "stream",
     "text": [
      "Initial filtering of formulas: 100%|██████████████| 2/2 [00:00<00:00, 64.55it/s]\n",
      "Computing chunks: 100%|████████████████████████| 2/2 [00:00<00:00, 99864.38it/s]\n",
      "Splitting the experimental spectrum into chunks: 131072it [00:00, 3539846.20it/s]\n",
      "Deconvolving chunks: 100%|███████████████████████| 1/1 [02:01<00:00, 121.65s/it]\n"
     ]
    },
    {
     "name": "stdout",
     "output_type": "stream",
     "text": [
      "Estimation for 0.28 and 0.29000000000000004 done\n",
      "It took: 121.8155825138092 seconds.\n",
      "[0.8615499706050133, 0.10677276646100163]\n"
     ]
    },
    {
     "name": "stderr",
     "output_type": "stream",
     "text": [
      "Initial filtering of formulas: 100%|██████████████| 2/2 [00:00<00:00, 63.25it/s]\n",
      "Computing chunks: 100%|████████████████████████| 2/2 [00:00<00:00, 86480.49it/s]\n",
      "Splitting the experimental spectrum into chunks: 131072it [00:00, 3519653.60it/s]\n",
      "Deconvolving chunks: 100%|███████████████████████| 1/1 [01:52<00:00, 112.52s/it]\n"
     ]
    },
    {
     "name": "stdout",
     "output_type": "stream",
     "text": [
      "Estimation for 0.29000000000000004 and 0.01 done\n",
      "It took: 112.65701842308044 seconds.\n",
      "[0.7635968719540116, 0.2357642117050036]\n"
     ]
    },
    {
     "name": "stderr",
     "output_type": "stream",
     "text": [
      "Initial filtering of formulas: 100%|██████████████| 2/2 [00:00<00:00, 63.74it/s]\n",
      "Computing chunks: 100%|████████████████████████| 2/2 [00:00<00:00, 85598.04it/s]\n",
      "Splitting the experimental spectrum into chunks: 131072it [00:00, 3497641.63it/s]\n",
      "Deconvolving chunks: 100%|███████████████████████| 1/1 [01:50<00:00, 110.02s/it]\n"
     ]
    },
    {
     "name": "stdout",
     "output_type": "stream",
     "text": [
      "Estimation for 0.29000000000000004 and 0.02 done\n",
      "It took: 110.1643385887146 seconds.\n",
      "[0.849305680068013, 0.14086398106300216]\n"
     ]
    },
    {
     "name": "stderr",
     "output_type": "stream",
     "text": [
      "Initial filtering of formulas: 100%|██████████████| 2/2 [00:00<00:00, 61.46it/s]\n",
      "Computing chunks: 100%|████████████████████████| 2/2 [00:00<00:00, 40136.88it/s]\n",
      "Splitting the experimental spectrum into chunks: 131072it [00:00, 3430035.59it/s]\n",
      "Deconvolving chunks: 100%|███████████████████████| 1/1 [02:29<00:00, 149.97s/it]\n"
     ]
    },
    {
     "name": "stdout",
     "output_type": "stream",
     "text": [
      "Estimation for 0.29000000000000004 and 0.03 done\n",
      "It took: 150.13385486602783 seconds.\n",
      "[0.8851186402850135, 0.10022677936100154]\n"
     ]
    },
    {
     "name": "stderr",
     "output_type": "stream",
     "text": [
      "Initial filtering of formulas: 100%|██████████████| 2/2 [00:00<00:00, 65.14it/s]\n",
      "Computing chunks: 100%|████████████████████████| 2/2 [00:00<00:00, 91180.52it/s]\n",
      "Splitting the experimental spectrum into chunks: 131072it [00:00, 3538160.33it/s]\n",
      "Deconvolving chunks: 100%|███████████████████████| 1/1 [01:53<00:00, 113.07s/it]\n"
     ]
    },
    {
     "name": "stdout",
     "output_type": "stream",
     "text": [
      "Estimation for 0.29000000000000004 and 0.04 done\n",
      "It took: 113.21063113212585 seconds.\n",
      "[0.8743270795450134, 0.10895401411900167]\n"
     ]
    },
    {
     "name": "stderr",
     "output_type": "stream",
     "text": [
      "Initial filtering of formulas: 100%|██████████████| 2/2 [00:00<00:00, 63.66it/s]\n",
      "Computing chunks: 100%|████████████████████████| 2/2 [00:00<00:00, 95325.09it/s]\n",
      "Splitting the experimental spectrum into chunks: 131072it [00:00, 3478740.60it/s]\n",
      "Deconvolving chunks: 100%|████████████████████████| 1/1 [01:38<00:00, 98.09s/it]\n"
     ]
    },
    {
     "name": "stdout",
     "output_type": "stream",
     "text": [
      "Estimation for 0.29000000000000004 and 0.05 done\n",
      "It took: 98.26060891151428 seconds.\n",
      "[0.8736559386520134, 0.10905792179900166]\n"
     ]
    },
    {
     "name": "stderr",
     "output_type": "stream",
     "text": [
      "Initial filtering of formulas: 100%|██████████████| 2/2 [00:00<00:00, 62.32it/s]\n",
      "Computing chunks: 100%|████████████████████████| 2/2 [00:00<00:00, 98689.51it/s]\n",
      "Splitting the experimental spectrum into chunks: 131072it [00:00, 3500782.06it/s]\n",
      "Deconvolving chunks: 100%|███████████████████████| 1/1 [02:15<00:00, 135.92s/it]\n"
     ]
    },
    {
     "name": "stdout",
     "output_type": "stream",
     "text": [
      "Estimation for 0.29000000000000004 and 0.060000000000000005 done\n",
      "It took: 136.05638241767883 seconds.\n",
      "[0.8725372313780133, 0.10925089739900168]\n"
     ]
    },
    {
     "name": "stderr",
     "output_type": "stream",
     "text": [
      "Initial filtering of formulas: 100%|██████████████| 2/2 [00:00<00:00, 60.98it/s]\n",
      "Computing chunks: 100%|████████████████████████| 2/2 [00:00<00:00, 82241.25it/s]\n",
      "Splitting the experimental spectrum into chunks: 131072it [00:00, 3446961.03it/s]\n",
      "Deconvolving chunks: 100%|████████████████████████| 1/1 [01:39<00:00, 99.62s/it]\n"
     ]
    },
    {
     "name": "stdout",
     "output_type": "stream",
     "text": [
      "Estimation for 0.29000000000000004 and 0.06999999999999999 done\n",
      "It took: 99.75808024406433 seconds.\n",
      "[0.8725543394160133, 0.10898207309600166]\n"
     ]
    },
    {
     "name": "stderr",
     "output_type": "stream",
     "text": [
      "Initial filtering of formulas: 100%|██████████████| 2/2 [00:00<00:00, 63.99it/s]\n",
      "Computing chunks: 100%|████████████████████████| 2/2 [00:00<00:00, 92182.51it/s]\n",
      "Splitting the experimental spectrum into chunks: 131072it [00:00, 3498977.30it/s]\n",
      "Deconvolving chunks: 100%|███████████████████████| 1/1 [02:14<00:00, 134.76s/it]\n"
     ]
    },
    {
     "name": "stdout",
     "output_type": "stream",
     "text": [
      "Estimation for 0.29000000000000004 and 0.08 done\n",
      "It took: 134.9261019229889 seconds.\n",
      "[0.8727973298540134, 0.10863000282600166]\n"
     ]
    },
    {
     "name": "stderr",
     "output_type": "stream",
     "text": [
      "Initial filtering of formulas: 100%|██████████████| 2/2 [00:00<00:00, 63.69it/s]\n",
      "Computing chunks: 100%|████████████████████████| 2/2 [00:00<00:00, 94254.02it/s]\n",
      "Splitting the experimental spectrum into chunks: 131072it [00:00, 3500692.90it/s]\n",
      "Deconvolving chunks: 100%|███████████████████████| 1/1 [01:49<00:00, 109.16s/it]\n"
     ]
    },
    {
     "name": "stdout",
     "output_type": "stream",
     "text": [
      "Estimation for 0.29000000000000004 and 0.09 done\n",
      "It took: 109.29399228096008 seconds.\n",
      "[0.8726262672940133, 0.10863507578000167]\n"
     ]
    },
    {
     "name": "stderr",
     "output_type": "stream",
     "text": [
      "Initial filtering of formulas: 100%|██████████████| 2/2 [00:00<00:00, 62.39it/s]\n",
      "Computing chunks: 100%|████████████████████████| 2/2 [00:00<00:00, 97541.95it/s]\n",
      "Splitting the experimental spectrum into chunks: 131072it [00:00, 3450335.86it/s]\n",
      "Deconvolving chunks: 100%|███████████████████████| 1/1 [02:11<00:00, 131.54s/it]\n"
     ]
    },
    {
     "name": "stdout",
     "output_type": "stream",
     "text": [
      "Estimation for 0.29000000000000004 and 0.09999999999999999 done\n",
      "It took: 131.71139192581177 seconds.\n",
      "[0.8722428674510133, 0.10870261956700167]\n"
     ]
    },
    {
     "name": "stderr",
     "output_type": "stream",
     "text": [
      "Initial filtering of formulas: 100%|██████████████| 2/2 [00:00<00:00, 64.00it/s]\n",
      "Computing chunks: 100%|████████████████████████| 2/2 [00:00<00:00, 92182.51it/s]\n",
      "Splitting the experimental spectrum into chunks: 131072it [00:00, 2729495.19it/s]\n",
      "Deconvolving chunks: 100%|███████████████████████| 1/1 [02:20<00:00, 140.86s/it]\n"
     ]
    },
    {
     "name": "stdout",
     "output_type": "stream",
     "text": [
      "Estimation for 0.29000000000000004 and 0.11 done\n",
      "It took: 141.02625274658203 seconds.\n",
      "[0.8715763246940134, 0.10878686982400167]\n"
     ]
    },
    {
     "name": "stderr",
     "output_type": "stream",
     "text": [
      "Initial filtering of formulas: 100%|██████████████| 2/2 [00:00<00:00, 63.95it/s]\n",
      "Computing chunks: 100%|████████████████████████| 2/2 [00:00<00:00, 95325.09it/s]\n",
      "Splitting the experimental spectrum into chunks: 131072it [00:00, 3527263.83it/s]\n",
      "Deconvolving chunks: 100%|███████████████████████| 1/1 [02:13<00:00, 133.78s/it]\n"
     ]
    },
    {
     "name": "stdout",
     "output_type": "stream",
     "text": [
      "Estimation for 0.29000000000000004 and 0.12 done\n",
      "It took: 133.91621851921082 seconds.\n",
      "[0.8709759098400133, 0.10886530104500167]\n"
     ]
    },
    {
     "name": "stderr",
     "output_type": "stream",
     "text": [
      "Initial filtering of formulas: 100%|██████████████| 2/2 [00:00<00:00, 63.42it/s]\n",
      "Computing chunks: 100%|████████████████████████| 2/2 [00:00<00:00, 90200.09it/s]\n",
      "Splitting the experimental spectrum into chunks: 131072it [00:00, 3521096.34it/s]\n",
      "Deconvolving chunks: 100%|███████████████████████| 1/1 [01:52<00:00, 112.25s/it]\n"
     ]
    },
    {
     "name": "stdout",
     "output_type": "stream",
     "text": [
      "Estimation for 0.29000000000000004 and 0.13 done\n",
      "It took: 112.40744948387146 seconds.\n",
      "[0.8700536108850133, 0.10890069179800166]\n"
     ]
    },
    {
     "name": "stderr",
     "output_type": "stream",
     "text": [
      "Initial filtering of formulas: 100%|██████████████| 2/2 [00:00<00:00, 63.50it/s]\n",
      "Computing chunks: 100%|████████████████████████| 2/2 [00:00<00:00, 92182.51it/s]\n",
      "Splitting the experimental spectrum into chunks: 131072it [00:00, 3486329.51it/s]\n",
      "Deconvolving chunks: 100%|███████████████████████| 1/1 [01:53<00:00, 113.46s/it]\n"
     ]
    },
    {
     "name": "stdout",
     "output_type": "stream",
     "text": [
      "Estimation for 0.29000000000000004 and 0.14 done\n",
      "It took: 113.60194706916809 seconds.\n",
      "[0.8694123880060133, 0.10864079912000167]\n"
     ]
    },
    {
     "name": "stderr",
     "output_type": "stream",
     "text": [
      "Initial filtering of formulas: 100%|██████████████| 2/2 [00:00<00:00, 61.27it/s]\n",
      "Computing chunks: 100%|████████████████████████| 2/2 [00:00<00:00, 89240.51it/s]\n",
      "Splitting the experimental spectrum into chunks: 131072it [00:00, 3432498.43it/s]\n",
      "Deconvolving chunks: 100%|███████████████████████| 1/1 [01:55<00:00, 115.54s/it]\n"
     ]
    },
    {
     "name": "stdout",
     "output_type": "stream",
     "text": [
      "Estimation for 0.29000000000000004 and 0.15000000000000002 done\n",
      "It took: 115.69937467575073 seconds.\n",
      "[0.8685089686390133, 0.10838870171800166]\n"
     ]
    },
    {
     "name": "stderr",
     "output_type": "stream",
     "text": [
      "Initial filtering of formulas: 100%|██████████████| 2/2 [00:00<00:00, 64.04it/s]\n",
      "Computing chunks: 100%|████████████████████████| 2/2 [00:00<00:00, 89240.51it/s]\n",
      "Splitting the experimental spectrum into chunks: 131072it [00:00, 3508064.56it/s]\n",
      "Deconvolving chunks: 100%|███████████████████████| 1/1 [01:54<00:00, 114.40s/it]\n"
     ]
    },
    {
     "name": "stdout",
     "output_type": "stream",
     "text": [
      "Estimation for 0.29000000000000004 and 0.16 done\n",
      "It took: 114.53856563568115 seconds.\n",
      "[0.8679772889960133, 0.10815785435600166]\n"
     ]
    },
    {
     "name": "stderr",
     "output_type": "stream",
     "text": [
      "Initial filtering of formulas: 100%|██████████████| 2/2 [00:00<00:00, 64.09it/s]\n",
      "Computing chunks: 100%|████████████████████████| 2/2 [00:00<00:00, 98689.51it/s]\n",
      "Splitting the experimental spectrum into chunks: 131072it [00:00, 3512794.26it/s]\n",
      "Deconvolving chunks: 100%|███████████████████████| 1/1 [01:54<00:00, 114.92s/it]\n"
     ]
    },
    {
     "name": "stdout",
     "output_type": "stream",
     "text": [
      "Estimation for 0.29000000000000004 and 0.17 done\n",
      "It took: 115.0617744922638 seconds.\n",
      "[0.8674950463810133, 0.10807352804200165]\n"
     ]
    },
    {
     "name": "stderr",
     "output_type": "stream",
     "text": [
      "Initial filtering of formulas: 100%|██████████████| 2/2 [00:00<00:00, 64.14it/s]\n",
      "Computing chunks: 100%|████████████████████████| 2/2 [00:00<00:00, 95325.09it/s]\n",
      "Splitting the experimental spectrum into chunks: 131072it [00:00, 3466872.34it/s]\n",
      "Deconvolving chunks: 100%|███████████████████████| 1/1 [01:55<00:00, 115.83s/it]\n"
     ]
    },
    {
     "name": "stdout",
     "output_type": "stream",
     "text": [
      "Estimation for 0.29000000000000004 and 0.18000000000000002 done\n",
      "It took: 115.97315812110901 seconds.\n",
      "[0.8672594121300133, 0.10796708400500166]\n"
     ]
    },
    {
     "name": "stderr",
     "output_type": "stream",
     "text": [
      "Initial filtering of formulas: 100%|██████████████| 2/2 [00:00<00:00, 62.83it/s]\n",
      "Computing chunks: 100%|████████████████████████| 2/2 [00:00<00:00, 40524.68it/s]\n",
      "Splitting the experimental spectrum into chunks: 131072it [00:00, 3621746.81it/s]\n",
      "Deconvolving chunks: 100%|███████████████████████| 1/1 [01:52<00:00, 112.09s/it]\n"
     ]
    },
    {
     "name": "stdout",
     "output_type": "stream",
     "text": [
      "Estimation for 0.29000000000000004 and 0.19 done\n",
      "It took: 112.25151038169861 seconds.\n",
      "[0.8659634040460134, 0.10762509961500165]\n"
     ]
    },
    {
     "name": "stderr",
     "output_type": "stream",
     "text": [
      "Initial filtering of formulas: 100%|██████████████| 2/2 [00:00<00:00, 63.97it/s]\n",
      "Computing chunks: 100%|████████████████████████| 2/2 [00:00<00:00, 89240.51it/s]\n",
      "Splitting the experimental spectrum into chunks: 131072it [00:00, 3516321.79it/s]\n",
      "Deconvolving chunks: 100%|███████████████████████| 1/1 [01:54<00:00, 114.75s/it]\n"
     ]
    },
    {
     "name": "stdout",
     "output_type": "stream",
     "text": [
      "Estimation for 0.29000000000000004 and 0.2 done\n",
      "It took: 114.90918254852295 seconds.\n",
      "[0.8648980406470133, 0.10776733407100166]\n"
     ]
    },
    {
     "name": "stderr",
     "output_type": "stream",
     "text": [
      "Initial filtering of formulas: 100%|██████████████| 2/2 [00:00<00:00, 63.69it/s]\n",
      "Computing chunks: 100%|████████████████████████| 2/2 [00:00<00:00, 97541.95it/s]\n",
      "Splitting the experimental spectrum into chunks: 131072it [00:00, 3505536.83it/s]\n",
      "Deconvolving chunks: 100%|███████████████████████| 1/1 [01:56<00:00, 116.05s/it]\n"
     ]
    },
    {
     "name": "stdout",
     "output_type": "stream",
     "text": [
      "Estimation for 0.29000000000000004 and 0.21000000000000002 done\n",
      "It took: 116.21684551239014 seconds.\n",
      "[0.8643313683430132, 0.10747018190900165]\n"
     ]
    },
    {
     "name": "stderr",
     "output_type": "stream",
     "text": [
      "Initial filtering of formulas: 100%|██████████████| 2/2 [00:00<00:00, 54.96it/s]\n",
      "Computing chunks: 100%|████████████████████████| 2/2 [00:00<00:00, 62601.55it/s]\n",
      "Splitting the experimental spectrum into chunks: 131072it [00:00, 2896882.17it/s]\n",
      "Deconvolving chunks: 100%|███████████████████████| 1/1 [01:53<00:00, 113.42s/it]\n"
     ]
    },
    {
     "name": "stdout",
     "output_type": "stream",
     "text": [
      "Estimation for 0.29000000000000004 and 0.22 done\n",
      "It took: 113.57331109046936 seconds.\n",
      "[0.8628316770360133, 0.10743638281600165]\n"
     ]
    },
    {
     "name": "stderr",
     "output_type": "stream",
     "text": [
      "Initial filtering of formulas: 100%|██████████████| 2/2 [00:00<00:00, 64.07it/s]\n",
      "Computing chunks: 100%|████████████████████████| 2/2 [00:00<00:00, 92182.51it/s]\n",
      "Splitting the experimental spectrum into chunks: 131072it [00:00, 3510125.23it/s]\n",
      "Deconvolving chunks: 100%|███████████████████████| 1/1 [01:59<00:00, 119.48s/it]\n"
     ]
    },
    {
     "name": "stdout",
     "output_type": "stream",
     "text": [
      "Estimation for 0.29000000000000004 and 0.23 done\n",
      "It took: 119.64769983291626 seconds.\n",
      "[0.8627435409760132, 0.10728489581600163]\n"
     ]
    },
    {
     "name": "stderr",
     "output_type": "stream",
     "text": [
      "Initial filtering of formulas: 100%|██████████████| 2/2 [00:00<00:00, 62.11it/s]\n",
      "Computing chunks: 100%|████████████████████████| 2/2 [00:00<00:00, 97541.95it/s]\n",
      "Splitting the experimental spectrum into chunks: 131072it [00:00, 3517559.23it/s]\n",
      "Deconvolving chunks: 100%|███████████████████████| 1/1 [01:55<00:00, 115.94s/it]\n"
     ]
    },
    {
     "name": "stdout",
     "output_type": "stream",
     "text": [
      "Estimation for 0.29000000000000004 and 0.24000000000000002 done\n",
      "It took: 116.08616232872009 seconds.\n",
      "[0.8626286707120132, 0.10721980805600163]\n"
     ]
    },
    {
     "name": "stderr",
     "output_type": "stream",
     "text": [
      "Initial filtering of formulas: 100%|██████████████| 2/2 [00:00<00:00, 63.81it/s]\n",
      "Computing chunks: 100%|████████████████████████| 2/2 [00:00<00:00, 97541.95it/s]\n",
      "Splitting the experimental spectrum into chunks: 131072it [00:00, 3486727.51it/s]\n",
      "Deconvolving chunks: 100%|███████████████████████| 1/1 [01:59<00:00, 119.43s/it]\n"
     ]
    },
    {
     "name": "stdout",
     "output_type": "stream",
     "text": [
      "Estimation for 0.29000000000000004 and 0.25 done\n",
      "It took: 119.5935320854187 seconds.\n",
      "[0.8626731803680132, 0.10704801241100163]\n"
     ]
    },
    {
     "name": "stderr",
     "output_type": "stream",
     "text": [
      "Initial filtering of formulas: 100%|██████████████| 2/2 [00:00<00:00, 62.65it/s]\n",
      "Computing chunks: 100%|████████████████████████| 2/2 [00:00<00:00, 92182.51it/s]\n",
      "Splitting the experimental spectrum into chunks: 131072it [00:00, 3216037.10it/s]\n",
      "Deconvolving chunks: 100%|███████████████████████| 1/1 [01:57<00:00, 117.98s/it]\n"
     ]
    },
    {
     "name": "stdout",
     "output_type": "stream",
     "text": [
      "Estimation for 0.29000000000000004 and 0.26 done\n",
      "It took: 118.14523220062256 seconds.\n",
      "[0.8626855140350133, 0.10691938502800163]\n"
     ]
    },
    {
     "name": "stderr",
     "output_type": "stream",
     "text": [
      "Initial filtering of formulas: 100%|██████████████| 2/2 [00:00<00:00, 62.33it/s]\n",
      "Computing chunks: 100%|████████████████████████| 2/2 [00:00<00:00, 82241.25it/s]\n",
      "Splitting the experimental spectrum into chunks: 131072it [00:00, 3437563.71it/s]\n",
      "Deconvolving chunks: 100%|███████████████████████| 1/1 [02:01<00:00, 121.02s/it]\n"
     ]
    },
    {
     "name": "stdout",
     "output_type": "stream",
     "text": [
      "Estimation for 0.29000000000000004 and 0.27 done\n",
      "It took: 121.15795278549194 seconds.\n",
      "[0.8626015470990133, 0.10686060096100164]\n"
     ]
    },
    {
     "name": "stderr",
     "output_type": "stream",
     "text": [
      "Initial filtering of formulas: 100%|██████████████| 2/2 [00:00<00:00, 64.16it/s]\n",
      "Computing chunks: 100%|████████████████████████| 2/2 [00:00<00:00, 90200.09it/s]\n",
      "Splitting the experimental spectrum into chunks: 131072it [00:00, 3514141.52it/s]\n",
      "Deconvolving chunks: 100%|███████████████████████| 1/1 [01:59<00:00, 119.40s/it]\n"
     ]
    },
    {
     "name": "stdout",
     "output_type": "stream",
     "text": [
      "Estimation for 0.29000000000000004 and 0.28 done\n",
      "It took: 119.54565000534058 seconds.\n",
      "[0.8623965097920132, 0.10683406137300164]\n"
     ]
    },
    {
     "name": "stderr",
     "output_type": "stream",
     "text": [
      "Initial filtering of formulas: 100%|██████████████| 2/2 [00:00<00:00, 51.74it/s]\n",
      "Computing chunks: 100%|████████████████████████| 2/2 [00:00<00:00, 89240.51it/s]\n",
      "Splitting the experimental spectrum into chunks: 131072it [00:00, 2913941.26it/s]\n",
      "Deconvolving chunks: 100%|███████████████████████| 1/1 [02:00<00:00, 120.61s/it]"
     ]
    },
    {
     "name": "stdout",
     "output_type": "stream",
     "text": [
      "Estimation for 0.29000000000000004 and 0.29000000000000004 done\n",
      "It took: 120.77412366867065 seconds.\n",
      "[0.8622436341560132, 0.10682540671400163]\n"
     ]
    },
    {
     "name": "stderr",
     "output_type": "stream",
     "text": [
      "\n"
     ]
    }
   ],
   "source": [
    "# list_of_estimation_results = []\n",
    "# for kappa in np.arange(start=lower_limit, stop=upper_limit, step=step):\n",
    "#     fixed_kappa = []\n",
    "#     for kappa_prime in np.arange(start=lower_limit, stop=upper_limit, step=step):\n",
    "#         start = time.time()\n",
    "#         estimation = estimate_proportions(mix, [comp0, comp1], \n",
    "#                                    MTD=kappa, MTD_th=kappa_prime, verbose=False, solver=pulp.GUROBI(msg=False))\n",
    "#         end = time.time()\n",
    "#         fixed_kappa.append(estimation['proportions'])\n",
    "#         print('Estimation for '+str(kappa)+' and '+str(kappa_prime)+' done')\n",
    "#         print('It took: '+str(end-start)+' seconds.')\n",
    "#         print(estimation['proportions'])\n",
    "#     list_of_estimation_results.append(fixed_kappa)"
   ]
  },
  {
   "cell_type": "code",
   "execution_count": 50,
   "id": "6c45b5ed",
   "metadata": {},
   "outputs": [],
   "source": [
    "# list_of_dataframes_with_results = []\n",
    "# for component_number in range(len([comp0, comp1])):\n",
    "#     results_for_component = pd.DataFrame(columns=np.arange(start=lower_limit, stop=upper_limit, step=step),\n",
    "#                                    index=np.arange(start=lower_limit, stop=upper_limit, step=step))\n",
    "#     for i in range(results_for_component.shape[0]):\n",
    "#         for j in range(results_for_component.shape[1]):\n",
    "#             results_for_component.iloc[i,j] = list_of_estimation_results[i][j][component_number]\n",
    "    \n",
    "#     list_of_dataframes_with_results.append(results_for_component)"
   ]
  },
  {
   "cell_type": "code",
   "execution_count": 53,
   "id": "4172352c",
   "metadata": {},
   "outputs": [],
   "source": [
    "# with open('results_for_different_kappas.pkl', 'wb') as f:\n",
    "#     pickle.dump(list_of_dataframes_with_results, f)"
   ]
  },
  {
   "cell_type": "markdown",
   "id": "04a447ef",
   "metadata": {},
   "source": [
    "#### Molar proportions"
   ]
  },
  {
   "cell_type": "code",
   "execution_count": 32,
   "id": "a9e597ca",
   "metadata": {},
   "outputs": [],
   "source": [
    "with open('results_for_different_kappas.pkl', 'rb') as f:\n",
    "    list_of_dataframes_with_results = pickle.load(f)\n",
    "#first coordinate: kappa,\n",
    "#second coordinate: kappa_prime"
   ]
  },
  {
   "cell_type": "code",
   "execution_count": 33,
   "id": "5b3bc36d",
   "metadata": {},
   "outputs": [],
   "source": [
    "temp = []\n",
    "for nr_of_component, df in enumerate(list_of_dataframes_with_results):\n",
    "    temp.append(df/protons[nr_of_component])\n",
    "temp2 = []\n",
    "for df in temp:\n",
    "    temp2.append(df/sum(temp))\n",
    "list_of_dataframes_with_results = temp2\n",
    "del(temp)\n",
    "del(temp2)"
   ]
  },
  {
   "cell_type": "code",
   "execution_count": 34,
   "id": "8e7a5c96",
   "metadata": {},
   "outputs": [],
   "source": [
    "dataframes_ready_for_heatmap = []\n",
    "for i, df in enumerate(list_of_dataframes_with_results):\n",
    "    preprocessed_df = abs(df - molar_proportions[i])\n",
    "    dataframes_ready_for_heatmap.append(preprocessed_df)"
   ]
  },
  {
   "cell_type": "code",
   "execution_count": 35,
   "id": "1e803683",
   "metadata": {},
   "outputs": [],
   "source": [
    "all_components_results_molar = sum(dataframes_ready_for_heatmap)"
   ]
  },
  {
   "cell_type": "markdown",
   "id": "77e8900a",
   "metadata": {},
   "source": [
    "#### Visible proportions"
   ]
  },
  {
   "cell_type": "code",
   "execution_count": 36,
   "id": "5df664ed",
   "metadata": {},
   "outputs": [],
   "source": [
    "with open('results_for_different_kappas.pkl', 'rb') as f:\n",
    "    list_of_dataframes_with_results = pickle.load(f)\n",
    "#first coordinate: kappa,\n",
    "#second coordinate: kappa_prime"
   ]
  },
  {
   "cell_type": "code",
   "execution_count": 37,
   "id": "505f4d3b",
   "metadata": {},
   "outputs": [],
   "source": [
    "dataframes_ready_for_heatmap = []\n",
    "for i, df in enumerate(list_of_dataframes_with_results):\n",
    "    preprocessed_df = abs(df - real_visible_proportions[i])\n",
    "    dataframes_ready_for_heatmap.append(preprocessed_df)"
   ]
  },
  {
   "cell_type": "code",
   "execution_count": 38,
   "id": "6761d082",
   "metadata": {},
   "outputs": [],
   "source": [
    "all_components_results_vis = sum(dataframes_ready_for_heatmap)"
   ]
  },
  {
   "cell_type": "markdown",
   "id": "00724665",
   "metadata": {},
   "source": [
    "#### Both together"
   ]
  },
  {
   "cell_type": "code",
   "execution_count": 39,
   "id": "25404ff1",
   "metadata": {},
   "outputs": [],
   "source": [
    "all_components_results_both = all_components_results_vis + all_components_results_molar"
   ]
  },
  {
   "cell_type": "code",
   "execution_count": 40,
   "id": "337f1c8e",
   "metadata": {},
   "outputs": [],
   "source": [
    "all_components_results_both = all_components_results_both.apply(pd.to_numeric, errors = 'coerce', axis=0)"
   ]
  },
  {
   "cell_type": "code",
   "execution_count": 41,
   "id": "fd59161f",
   "metadata": {},
   "outputs": [
    {
     "data": {
      "text/plain": [
       "0.02020438273277607"
      ]
     },
     "execution_count": 41,
     "metadata": {},
     "output_type": "execute_result"
    }
   ],
   "source": [
    "all_components_results_both.min().min()"
   ]
  },
  {
   "cell_type": "code",
   "execution_count": 42,
   "id": "fd34e6af",
   "metadata": {},
   "outputs": [
    {
     "data": {
      "text/plain": [
       "0.02020438273277607"
      ]
     },
     "execution_count": 42,
     "metadata": {},
     "output_type": "execute_result"
    }
   ],
   "source": [
    "all_components_results_both[0.02][0.23]"
   ]
  },
  {
   "cell_type": "markdown",
   "id": "159afe20",
   "metadata": {},
   "source": [
    "### Saving preprocessed spectra"
   ]
  },
  {
   "cell_type": "code",
   "execution_count": 44,
   "id": "9fef8099",
   "metadata": {},
   "outputs": [],
   "source": [
    "# for i, sp in enumerate(spectra_and_mixture):\n",
    "#     try:\n",
    "#         np.savetxt('preprocessed_'+str(names[i])+'.csv', np.array(sp.confs), delimiter=',')\n",
    "#     except IndexError:\n",
    "#         np.savetxt('preprocessed_mix.csv', np.array(sp.confs), delimiter=',')"
   ]
  }
 ],
 "metadata": {
  "kernelspec": {
   "display_name": "Python 3 (ipykernel)",
   "language": "python",
   "name": "python3"
  },
  "language_info": {
   "codemirror_mode": {
    "name": "ipython",
    "version": 3
   },
   "file_extension": ".py",
   "mimetype": "text/x-python",
   "name": "python",
   "nbconvert_exporter": "python",
   "pygments_lexer": "ipython3",
   "version": "3.10.6"
  }
 },
 "nbformat": 4,
 "nbformat_minor": 5
}
