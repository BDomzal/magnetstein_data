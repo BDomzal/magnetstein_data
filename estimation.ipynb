{
 "cells": [
  {
   "cell_type": "markdown",
   "id": "2278c778",
   "metadata": {},
   "source": [
    "### Settings & imports"
   ]
  },
  {
   "cell_type": "code",
   "execution_count": 1,
   "id": "52249722",
   "metadata": {},
   "outputs": [],
   "source": [
    "%matplotlib notebook"
   ]
  },
  {
   "cell_type": "code",
   "execution_count": 2,
   "id": "6af4ae0a",
   "metadata": {},
   "outputs": [],
   "source": [
    "import masserstein "
   ]
  },
  {
   "cell_type": "code",
   "execution_count": 3,
   "id": "55f0baff",
   "metadata": {},
   "outputs": [],
   "source": [
    "import os\n",
    "\n",
    "from masserstein import Spectrum, NMRSpectrum\n",
    "from masserstein import estimate_proportions\n",
    "\n",
    "from matplotlib import pyplot as plt\n",
    "\n",
    "import numpy as np\n",
    "\n",
    "import pulp\n",
    "\n",
    "import pickle\n",
    "\n",
    "import seaborn as sns\n",
    "from textwrap import wrap\n",
    "\n",
    "from pathlib import Path\n",
    "\n",
    "import pandas as pd\n",
    "\n",
    "import time"
   ]
  },
  {
   "cell_type": "code",
   "execution_count": 4,
   "id": "87bb9eea",
   "metadata": {},
   "outputs": [],
   "source": [
    "nr_of_experiment = 9"
   ]
  },
  {
   "cell_type": "markdown",
   "id": "e7c66ece",
   "metadata": {},
   "source": [
    "### Experiments data"
   ]
  },
  {
   "cell_type": "code",
   "execution_count": 5,
   "id": "8ac155e9",
   "metadata": {},
   "outputs": [],
   "source": [
    "components_dictionary = {'experiment_1': ['Pinene', 'Benzyl benzoate'],\n",
    "                        'experiment_2': ['Pinene', 'Limonene'],\n",
    "                        'experiment_7': ['Benzyl benzoate', 'm Anisaldehyde'],\n",
    "                        'experiment_3': ['Isopropyl myristate', 'Benzyl benzoate', 'Alpha pinene', 'Limonene'],\n",
    "                        'experiment_6': ['Pinene', 'Benzyl benzoate'],\n",
    "                        'experiment_5': ['Lactate', 'Alanine', 'Creatine', 'Creatinine', 'Choline chloride'],\n",
    "                        'experiment_9': ['Lactate', 'Alanine', 'Creatine', 'Creatinine', 'Choline chloride'],\n",
    "                        'experiment_4': ['Lactate', 'Alanine', 'Creatine', 'Creatinine', 'Choline chloride'],\n",
    "                        'experiment_8': ['Benzyl benzoate', 'm Anisaldehyde']}"
   ]
  },
  {
   "cell_type": "code",
   "execution_count": 6,
   "id": "dbafb3dd",
   "metadata": {},
   "outputs": [],
   "source": [
    "protons_dictionary = {'experiment_1': [16, 12],\n",
    "                        'experiment_2': [16, 16],\n",
    "                        'experiment_7': [12, 8],\n",
    "                        'experiment_3': [34, 12, 16, 16],\n",
    "                        'experiment_6': [16, 12],\n",
    "                        'experiment_5': [4, 4, 5, 5, 13],\n",
    "                        'experiment_9': [4, 4, 5, 5, 13],\n",
    "                        'experiment_4': [4, 4, 5, 5, 13],\n",
    "                        'experiment_8': [12, 8]}"
   ]
  },
  {
   "cell_type": "code",
   "execution_count": 7,
   "id": "703c5272",
   "metadata": {},
   "outputs": [],
   "source": [
    "ground_truth_molar_proportions = {'experiment_1': [0.09088457406472417, 0.9091154259352758],\n",
    "                                    'experiment_2': [0.505, 0.495],\n",
    "                                    'experiment_7': [0.8403875207510383, 0.1596124792489616],\n",
    "                                    'experiment_3': [0.7264578344443725, 0.10578603326645526, 0.081968804608116, 0.08578732768105625],\n",
    "                                    'experiment_6': [0.3865, 0.6135],\n",
    "                                    'experiment_5': [0.3022, 0.2240, 0.1253, 0.2028, 0.1457],\n",
    "                                    'experiment_9': [0.3022, 0.2240, 0.1253, 0.2028, 0.1457],\n",
    "                                    'experiment_4': [0.3022, 0.2240, 0.1253, 0.2028, 0.1457],\n",
    "                                    'experiment_8': [0.3702, 0.6298]}"
   ]
  },
  {
   "cell_type": "code",
   "execution_count": 8,
   "id": "2f07ffaf",
   "metadata": {},
   "outputs": [],
   "source": [
    "experiments_folders = {'experiment_1': 'experiment_1_intensity_difference',\n",
    "                        'experiment_6': 'experiment_6_miniperfumes',\n",
    "                        'experiment_5': 'experiment_5_metabolites',\n",
    "                         'experiment_7': 'experiment_7_overlapping_and_intensity_difference',\n",
    "                         'experiment_9': 'experiment_9_and_4_shim',\n",
    "                       'experiment_4': 'experiment_9_and_4_shim',\n",
    "                        'experiment_8': 'experiment_8_different_solvents',\n",
    "                        'experiment_3': 'experiment_3_perfumes_and_absent_components',\n",
    "                         'experiment_2': 'experiment_2_overlapping'}"
   ]
  },
  {
   "cell_type": "code",
   "execution_count": 9,
   "id": "5c15336b",
   "metadata": {},
   "outputs": [],
   "source": [
    "best_kappa_mix = [0.09, 0.05, 0.37, 0.11, 0.03, 0.06, 0.23, 0.2, 0.05]"
   ]
  },
  {
   "cell_type": "code",
   "execution_count": 10,
   "id": "53eb8b54",
   "metadata": {},
   "outputs": [],
   "source": [
    "best_kappa_model = [0.08, 0.01, 0.24, 0.02, 0.09, 0.2, 0.02, 0.29, 0.02]"
   ]
  },
  {
   "cell_type": "markdown",
   "id": "e84eddc3",
   "metadata": {},
   "source": [
    "### Loading the data"
   ]
  },
  {
   "cell_type": "code",
   "execution_count": 11,
   "id": "a16bd1b8",
   "metadata": {},
   "outputs": [],
   "source": [
    "if (nr_of_experiment != 9 and nr_of_experiment != 4):\n",
    "    filename = experiments_folders['experiment_' + str(nr_of_experiment)] + '/preprocessed_mix.csv'\n",
    "    mix = np.loadtxt(filename, delimiter=',')\n",
    "else:\n",
    "    filename = experiments_folders['experiment_' + str(nr_of_experiment)] + '/preprocessed_exp'+str(nr_of_experiment)+'_mix.csv'\n",
    "    mix = np.loadtxt(filename, delimiter=',')"
   ]
  },
  {
   "cell_type": "code",
   "execution_count": 12,
   "id": "67c8aeb3",
   "metadata": {},
   "outputs": [],
   "source": [
    "how_many_components = len(components_dictionary['experiment_'+str(nr_of_experiment)])\n",
    "names = ['comp' + str(i) for i in range(how_many_components)]"
   ]
  },
  {
   "cell_type": "code",
   "execution_count": 13,
   "id": "4d402de1",
   "metadata": {},
   "outputs": [],
   "source": [
    "spectra = []\n",
    "for i in range(how_many_components):\n",
    "    if (nr_of_experiment != 9 and nr_of_experiment != 4):\n",
    "        filename = experiments_folders['experiment_' + str(nr_of_experiment)] + \\\n",
    "                    '/preprocessed_comp' + str(i) + '.csv'\n",
    "        spectra.append(np.loadtxt(filename, delimiter=','))\n",
    "    else:\n",
    "        filename = experiments_folders['experiment_' + str(nr_of_experiment)] + \\\n",
    "                    '/preprocessed_exp'+str(nr_of_experiment)+ '_comp'+ str(i) + '.csv'\n",
    "        spectra.append(np.loadtxt(filename, delimiter=','))"
   ]
  },
  {
   "cell_type": "code",
   "execution_count": 14,
   "id": "f68d15b6",
   "metadata": {},
   "outputs": [],
   "source": [
    "spectra2 = []\n",
    "names = []\n",
    "for i in range(len(spectra)):\n",
    "    spectra2.append(NMRSpectrum(confs=list(zip(spectra[i][:,0], spectra[i][:,1])), \n",
    "                                protons=protons_dictionary['experiment_'+str(nr_of_experiment)][i]))\n",
    "    names.append('comp'+str(i))\n",
    "\n",
    "spectra = spectra2\n",
    "del(spectra2)\n",
    "mix = NMRSpectrum(confs=list(zip(mix[:,0], mix[:,1])))"
   ]
  },
  {
   "cell_type": "code",
   "execution_count": 15,
   "id": "066513a3",
   "metadata": {},
   "outputs": [],
   "source": [
    "for i, name in enumerate(names):\n",
    "    globals()[name] = spectra[i]"
   ]
  },
  {
   "cell_type": "code",
   "execution_count": 16,
   "id": "ac6d46ac",
   "metadata": {},
   "outputs": [],
   "source": [
    "# mix.plot(profile=True)\n",
    "# for sp in spectra:\n",
    "#     sp.plot(profile=True)"
   ]
  },
  {
   "cell_type": "markdown",
   "id": "ab9cc65b",
   "metadata": {},
   "source": [
    "### Estimation with default kappas"
   ]
  },
  {
   "cell_type": "code",
   "execution_count": 17,
   "id": "fa502e5c",
   "metadata": {},
   "outputs": [],
   "source": [
    "default_MTD = 0.25\n",
    "default_MTD_th = 0.22"
   ]
  },
  {
   "cell_type": "code",
   "execution_count": 18,
   "id": "b555024a",
   "metadata": {},
   "outputs": [
    {
     "name": "stdout",
     "output_type": "stream",
     "text": [
      "Set parameter Username\n",
      "Academic license - for non-commercial use only - expires 2023-11-10\n",
      "Removed components' spectra due to no matching peaks in mixture's spectrum: []\n",
      "Envelope bounds: [(0.827366, 4.1272, 0), (0.827366, 4.1272, 1), (0.827366, 4.1272, 2), (0.827366, 4.1272, 3), (0.827366, 4.1272, 4)]\n",
      "Number of chunks: 1\n",
      "ChunkIDs: [0, 0, 0, 0, 0]\n",
      "Chunk bounds: [(0.577366, 4.3772)]\n",
      "Ion currents in chunks: [1.0000000000000013]\n",
      "Deconvolving chunk 0\n"
     ]
    },
    {
     "name": "stderr",
     "output_type": "stream",
     "text": [
      "/home/basia/.local/lib/python3.10/site-packages/pulp/pulp.py:1352: UserWarning: Spaces are not permitted in the name. Converted to '_'\n",
      "  warnings.warn(\"Spaces are not permitted in the name. Converted to '_'\")\n"
     ]
    },
    {
     "name": "stdout",
     "output_type": "stream",
     "text": [
      "Chunk %i deconvolution status: Optimal\n",
      "Signal proportion in mixture's spectrum: 1.0\n",
      "Noise proportion in mixture's spectrum: 0.0\n",
      "Total explanation: 1.0\n",
      "Noise proportion in combination of components' spectra: 0.012982665978\n"
     ]
    }
   ],
   "source": [
    "start_vis = time.time()\n",
    "estimation_vis = estimate_proportions(mix, spectra,\n",
    "                                        MTD=default_MTD, \n",
    "                                        MTD_th=default_MTD_th,\n",
    "                                        verbose=True, solver=pulp.GUROBI(msg=False), \n",
    "                                        what_to_compare='area')\n",
    "stop_vis = time.time()"
   ]
  },
  {
   "cell_type": "code",
   "execution_count": 19,
   "id": "aaa68541",
   "metadata": {},
   "outputs": [
    {
     "data": {
      "text/plain": [
       "[0.2277171004750003,\n",
       " 0.15221241158600018,\n",
       " 0.11933757262300015,\n",
       " 0.17611442219200021,\n",
       " 0.32461849312400043]"
      ]
     },
     "execution_count": 19,
     "metadata": {},
     "output_type": "execute_result"
    }
   ],
   "source": [
    "estimation_vis['proportions']"
   ]
  },
  {
   "cell_type": "code",
   "execution_count": 20,
   "id": "ffacb9e2",
   "metadata": {},
   "outputs": [
    {
     "data": {
      "text/plain": [
       "0.012982665978000017"
      ]
     },
     "execution_count": 20,
     "metadata": {},
     "output_type": "execute_result"
    }
   ],
   "source": [
    "estimation_vis['proportion_of_noise_in_components']"
   ]
  },
  {
   "cell_type": "code",
   "execution_count": 21,
   "id": "33b21a28",
   "metadata": {},
   "outputs": [
    {
     "data": {
      "text/plain": [
       "-1.3322676295501878e-15"
      ]
     },
     "execution_count": 21,
     "metadata": {},
     "output_type": "execute_result"
    }
   ],
   "source": [
    "1 - sum(estimation_vis['proportions'])"
   ]
  },
  {
   "cell_type": "code",
   "execution_count": 22,
   "id": "405bd6cb",
   "metadata": {},
   "outputs": [
    {
     "name": "stdout",
     "output_type": "stream",
     "text": [
      "Estimation took 13.998878955841064 seconds.\n"
     ]
    }
   ],
   "source": [
    "print('Estimation took '+ str(stop_vis-start_vis) + ' seconds.')"
   ]
  },
  {
   "cell_type": "code",
   "execution_count": 23,
   "id": "3114bfae",
   "metadata": {},
   "outputs": [
    {
     "name": "stdout",
     "output_type": "stream",
     "text": [
      "Removed components' spectra due to no matching peaks in mixture's spectrum: []\n",
      "Envelope bounds: [(0.827366, 4.1272, 0), (0.827366, 4.1272, 1), (0.827366, 4.1272, 2), (0.827366, 4.1272, 3), (0.827366, 4.1272, 4)]\n",
      "Number of chunks: 1\n",
      "ChunkIDs: [0, 0, 0, 0, 0]\n",
      "Chunk bounds: [(0.577366, 4.3772)]\n",
      "Ion currents in chunks: [1.0000000000000013]\n",
      "Deconvolving chunk 0\n",
      "Chunk %i deconvolution status: Optimal\n",
      "Signal proportion in mixture's spectrum: 1.0\n",
      "Noise proportion in mixture's spectrum: 0.0\n",
      "Total explanation: 1.0\n",
      "Noise proportion in combination of components' spectra: 0.012982665978\n"
     ]
    }
   ],
   "source": [
    "start_con = time.time()\n",
    "estimation_molar = estimate_proportions(mix, spectra,\n",
    "                                        MTD=default_MTD, \n",
    "                                        MTD_th=default_MTD_th,\n",
    "                                        verbose=True, solver=pulp.GUROBI(msg=False), \n",
    "                                        what_to_compare='concentration')\n",
    "stop_con = time.time()"
   ]
  },
  {
   "cell_type": "code",
   "execution_count": 24,
   "id": "6395dac8",
   "metadata": {},
   "outputs": [
    {
     "data": {
      "text/plain": [
       "{'proportions': [0.317963496481261,\n",
       "  0.21253560007032826,\n",
       "  0.13330572635483312,\n",
       "  0.19672815908559507,\n",
       "  0.13946701800798247],\n",
       " 'Wasserstein distance': 0.007880003982626255}"
      ]
     },
     "execution_count": 24,
     "metadata": {},
     "output_type": "execute_result"
    }
   ],
   "source": [
    "estimation_molar"
   ]
  },
  {
   "cell_type": "code",
   "execution_count": 25,
   "id": "463a640c",
   "metadata": {},
   "outputs": [
    {
     "name": "stdout",
     "output_type": "stream",
     "text": [
      "Estimation took 13.341654539108276 seconds.\n"
     ]
    }
   ],
   "source": [
    "print('Estimation took '+ str(stop_con-start_con) + ' seconds.')"
   ]
  },
  {
   "cell_type": "code",
   "execution_count": 26,
   "id": "2e48d69e",
   "metadata": {},
   "outputs": [],
   "source": [
    "# #MTD = 0.25, MTD_th = 0.22\n",
    "\n",
    "# #1: 'Pinene', 'Benzyl benzoate'\n",
    "# 0.0937, 0.9063\n",
    "\n",
    "# #2: 'Pinene', 'Limonene'\n",
    "# 0.5240, 0.4760\n",
    "\n",
    "# #3: 'Isopropyl myristate', 'Benzyl benzoate', 'Alpha pinene', 'Limonene'\n",
    "# 0.7511, 0.1059, 0.0809, 0.0621\n",
    "\n",
    "# #4: 'Lactate', 'Alanine', 'Creatine', 'Creatinine', 'Choline chloride'\n",
    "# 0.3165, 0.2137, 0.1341, 0.1960, 0.1397\n",
    "\n",
    "# #5: 'Lactate', 'Alanine', 'Creatine', 'Creatinine', 'Choline chloride'\n",
    "# 0.3180, 0.2113, 0.1293, 0.2018, 0.1397\n",
    "\n",
    "# #6: 'Pinene', 'Benzyl benzoate'\n",
    "# 0.3931, 0.6069\n",
    "\n",
    "# #7: 'Benzyl benzoate', 'm Anisaldehyde'\n",
    "# 0.8428, 0.1572\n",
    "\n",
    "# #8: 'Benzyl benzoate', 'm Anisaldehyde'\n",
    "# 0.3762, 0.6238\n",
    "\n",
    "# #9: Lactate', 'Alanine', 'Creatine', 'Creatinine', 'Choline chloride'\n",
    "# 0.3180, 0.2125, 0.1333, 0.1967, 0.1395"
   ]
  },
  {
   "cell_type": "markdown",
   "id": "e81953cc",
   "metadata": {},
   "source": [
    "#### Saving results of estimation with default parameters"
   ]
  },
  {
   "cell_type": "code",
   "execution_count": 27,
   "id": "b013e53e",
   "metadata": {},
   "outputs": [
    {
     "data": {
      "text/html": [
       "<div>\n",
       "<style scoped>\n",
       "    .dataframe tbody tr th:only-of-type {\n",
       "        vertical-align: middle;\n",
       "    }\n",
       "\n",
       "    .dataframe tbody tr th {\n",
       "        vertical-align: top;\n",
       "    }\n",
       "\n",
       "    .dataframe thead th {\n",
       "        text-align: right;\n",
       "    }\n",
       "</style>\n",
       "<table border=\"1\" class=\"dataframe\">\n",
       "  <thead>\n",
       "    <tr style=\"text-align: right;\">\n",
       "      <th></th>\n",
       "      <th>Lactate</th>\n",
       "      <th>Alanine</th>\n",
       "      <th>Creatine</th>\n",
       "      <th>Creatinine</th>\n",
       "      <th>Choline chloride</th>\n",
       "    </tr>\n",
       "  </thead>\n",
       "  <tbody>\n",
       "    <tr>\n",
       "      <th>0</th>\n",
       "      <td>0.227717</td>\n",
       "      <td>0.152212</td>\n",
       "      <td>0.119338</td>\n",
       "      <td>0.176114</td>\n",
       "      <td>0.324618</td>\n",
       "    </tr>\n",
       "  </tbody>\n",
       "</table>\n",
       "</div>"
      ],
      "text/plain": [
       "    Lactate   Alanine  Creatine  Creatinine  Choline chloride\n",
       "0  0.227717  0.152212  0.119338    0.176114          0.324618"
      ]
     },
     "execution_count": 27,
     "metadata": {},
     "output_type": "execute_result"
    }
   ],
   "source": [
    "res_vis = pd.DataFrame(np.array(estimation_vis['proportions']).reshape(1,-1), \n",
    "             columns = components_dictionary['experiment_'+str(nr_of_experiment)])\n",
    "res_vis"
   ]
  },
  {
   "cell_type": "code",
   "execution_count": 28,
   "id": "6335e47a",
   "metadata": {},
   "outputs": [
    {
     "data": {
      "text/html": [
       "<div>\n",
       "<style scoped>\n",
       "    .dataframe tbody tr th:only-of-type {\n",
       "        vertical-align: middle;\n",
       "    }\n",
       "\n",
       "    .dataframe tbody tr th {\n",
       "        vertical-align: top;\n",
       "    }\n",
       "\n",
       "    .dataframe thead th {\n",
       "        text-align: right;\n",
       "    }\n",
       "</style>\n",
       "<table border=\"1\" class=\"dataframe\">\n",
       "  <thead>\n",
       "    <tr style=\"text-align: right;\">\n",
       "      <th></th>\n",
       "      <th>Lactate</th>\n",
       "      <th>Alanine</th>\n",
       "      <th>Creatine</th>\n",
       "      <th>Creatinine</th>\n",
       "      <th>Choline chloride</th>\n",
       "    </tr>\n",
       "  </thead>\n",
       "  <tbody>\n",
       "    <tr>\n",
       "      <th>0</th>\n",
       "      <td>0.317963</td>\n",
       "      <td>0.212536</td>\n",
       "      <td>0.133306</td>\n",
       "      <td>0.196728</td>\n",
       "      <td>0.139467</td>\n",
       "    </tr>\n",
       "  </tbody>\n",
       "</table>\n",
       "</div>"
      ],
      "text/plain": [
       "    Lactate   Alanine  Creatine  Creatinine  Choline chloride\n",
       "0  0.317963  0.212536  0.133306    0.196728          0.139467"
      ]
     },
     "execution_count": 28,
     "metadata": {},
     "output_type": "execute_result"
    }
   ],
   "source": [
    "res_con = pd.DataFrame(np.array(estimation_molar['proportions']).reshape(1,-1), \n",
    "             columns = components_dictionary['experiment_'+str(nr_of_experiment)])\n",
    "res_con"
   ]
  },
  {
   "cell_type": "code",
   "execution_count": 29,
   "id": "86e782c9",
   "metadata": {},
   "outputs": [],
   "source": [
    "# if (nr_of_experiment != 9 and nr_of_experiment != 4):\n",
    "#     res_vis.to_csv(experiments_folders['experiment_' + str(nr_of_experiment)]+\n",
    "#                    '/results_area_default_parameters.csv')\n",
    "# else:\n",
    "#     res_vis.to_csv(experiments_folders['experiment_' + str(nr_of_experiment)]+\n",
    "#                    '/results_area__default_parameters_exp'+str(nr_of_experiment)+'.csv')"
   ]
  },
  {
   "cell_type": "code",
   "execution_count": 30,
   "id": "61b26555",
   "metadata": {},
   "outputs": [],
   "source": [
    "# if (nr_of_experiment != 9 and nr_of_experiment != 4):\n",
    "#     res_con.to_csv(experiments_folders['experiment_' + str(nr_of_experiment)]+\n",
    "#                '/results_concentration_default_parameters.csv')\n",
    "# else:\n",
    "#     res_con.to_csv(experiments_folders['experiment_' + str(nr_of_experiment)]+\n",
    "#                '/results_concentration_default_parameters_exp'+str(nr_of_experiment)+'.csv')"
   ]
  },
  {
   "cell_type": "code",
   "execution_count": 31,
   "id": "f136050f",
   "metadata": {},
   "outputs": [],
   "source": [
    "# comp_noise = np.array(estimation_vis['proportion_of_noise_in_theoretical']).reshape(-1)\n",
    "# if (nr_of_experiment != 9 and nr_of_experiment != 4):\n",
    "#     np.savetxt(experiments_folders['experiment_' + \\\n",
    "#                                     str(nr_of_experiment)] + \\\n",
    "#                                     '/proportion_of_noise_in_comp'+ \\\n",
    "#                                     '_default_parameters.csv',\n",
    "#                                       comp_noise)\n",
    "# else:\n",
    "#     np.savetxt(experiments_folders['experiment_' + \\\n",
    "#                                     str(nr_of_experiment)] + \\\n",
    "#                                     '/proportion_of_noise_in_comp'+ \\\n",
    "#                                     '_exp' + str(nr_of_experiment) + \\\n",
    "#                                     '_default_parameters.csv',\n",
    "#                                       comp_noise)"
   ]
  },
  {
   "cell_type": "code",
   "execution_count": 32,
   "id": "053f2e6a",
   "metadata": {},
   "outputs": [],
   "source": [
    "# mix_noise = np.array(1 - sum(estimation_vis['proportions'])).reshape(-1)\n",
    "# if (nr_of_experiment != 9 and nr_of_experiment != 4):\n",
    "#     np.savetxt(experiments_folders['experiment_' + \\\n",
    "#                                     str(nr_of_experiment)] + \\\n",
    "#                                     '/proportion_of_noise_in_mix'+ \\\n",
    "#                                     '_default_parameters.csv',\n",
    "#                                       mix_noise)\n",
    "# else:\n",
    "#     np.savetxt(experiments_folders['experiment_' + \\\n",
    "#                                     str(nr_of_experiment)] + \\\n",
    "#                                     '/proportion_of_noise_in_mix'+ \\\n",
    "#                                     '_exp' + str(nr_of_experiment) + \\\n",
    "#                                     '_default_parameters.csv',\n",
    "#                                       mix_noise)"
   ]
  },
  {
   "cell_type": "markdown",
   "id": "31df385c",
   "metadata": {},
   "source": [
    "### Estimation with optimal kappas"
   ]
  },
  {
   "cell_type": "code",
   "execution_count": 33,
   "id": "d44ebf2f",
   "metadata": {},
   "outputs": [
    {
     "name": "stdout",
     "output_type": "stream",
     "text": [
      "Removed components' spectra due to no matching peaks in mixture's spectrum: []\n",
      "Envelope bounds: [(0.827366, 4.1272, 0), (0.827366, 4.1272, 1), (0.827366, 4.1272, 2), (0.827366, 4.1272, 3), (0.827366, 4.1272, 4)]\n",
      "Number of chunks: 1\n",
      "ChunkIDs: [0, 0, 0, 0, 0]\n",
      "Chunk bounds: [(0.777366, 4.1772)]\n",
      "Ion currents in chunks: [1.0000000000000013]\n",
      "Deconvolving chunk 0\n"
     ]
    },
    {
     "name": "stderr",
     "output_type": "stream",
     "text": [
      "/home/basia/.local/lib/python3.10/site-packages/pulp/pulp.py:1352: UserWarning: Spaces are not permitted in the name. Converted to '_'\n",
      "  warnings.warn(\"Spaces are not permitted in the name. Converted to '_'\")\n"
     ]
    },
    {
     "name": "stdout",
     "output_type": "stream",
     "text": [
      "Chunk %i deconvolution status: Optimal\n",
      "Signal proportion in mixture's spectrum: 1.0\n",
      "Noise proportion in mixture's spectrum: 0.0\n",
      "Total explanation: 1.0\n",
      "Noise proportion in combination of components' spectra: 0.027127614012\n"
     ]
    }
   ],
   "source": [
    "start_vis_opt = time.time()\n",
    "estimation_vis_opt = estimate_proportions(mix, spectra,\n",
    "                                        MTD=best_kappa_mix[nr_of_experiment-1], \n",
    "                                        MTD_th=best_kappa_model[nr_of_experiment-1],\n",
    "                                        verbose=True, solver=pulp.GUROBI(msg=False), \n",
    "                                        what_to_compare='area')\n",
    "stop_vis_opt = time.time()"
   ]
  },
  {
   "cell_type": "code",
   "execution_count": 34,
   "id": "7c07657a",
   "metadata": {},
   "outputs": [
    {
     "name": "stdout",
     "output_type": "stream",
     "text": [
      "Estimation took 14.968475818634033 seconds.\n"
     ]
    }
   ],
   "source": [
    "print('Estimation took '+ str(stop_vis_opt-start_vis_opt) + ' seconds.')"
   ]
  },
  {
   "cell_type": "code",
   "execution_count": 35,
   "id": "c58f7242",
   "metadata": {},
   "outputs": [
    {
     "data": {
      "text/plain": [
       "[0.2274974749980003,\n",
       " 0.1505718363740002,\n",
       " 0.11728689957200016,\n",
       " 0.17735592181800025,\n",
       " 0.32728786723800046]"
      ]
     },
     "execution_count": 35,
     "metadata": {},
     "output_type": "execute_result"
    }
   ],
   "source": [
    "estimation_vis_opt['proportions']"
   ]
  },
  {
   "cell_type": "code",
   "execution_count": 36,
   "id": "f463c3dd",
   "metadata": {},
   "outputs": [
    {
     "data": {
      "text/plain": [
       "0.027127614012000034"
      ]
     },
     "execution_count": 36,
     "metadata": {},
     "output_type": "execute_result"
    }
   ],
   "source": [
    "estimation_vis_opt['proportion_of_noise_in_components']"
   ]
  },
  {
   "cell_type": "code",
   "execution_count": 37,
   "id": "ca73a54f",
   "metadata": {},
   "outputs": [
    {
     "name": "stdout",
     "output_type": "stream",
     "text": [
      "Removed components' spectra due to no matching peaks in mixture's spectrum: []\n",
      "Envelope bounds: [(0.827366, 4.1272, 0), (0.827366, 4.1272, 1), (0.827366, 4.1272, 2), (0.827366, 4.1272, 3), (0.827366, 4.1272, 4)]\n",
      "Number of chunks: 1\n",
      "ChunkIDs: [0, 0, 0, 0, 0]\n",
      "Chunk bounds: [(0.777366, 4.1772)]\n",
      "Ion currents in chunks: [1.0000000000000013]\n",
      "Deconvolving chunk 0\n",
      "Chunk %i deconvolution status: Optimal\n",
      "Signal proportion in mixture's spectrum: 1.0\n",
      "Noise proportion in mixture's spectrum: 0.0\n",
      "Total explanation: 1.0\n",
      "Noise proportion in combination of components' spectra: 0.027127614012\n"
     ]
    }
   ],
   "source": [
    "start_con_opt = time.time()\n",
    "estimation_molar_opt = estimate_proportions(mix, spectra,\n",
    "                                        MTD=best_kappa_mix[nr_of_experiment-1], \n",
    "                                        MTD_th=best_kappa_model[nr_of_experiment-1],\n",
    "                                        verbose=True, solver=pulp.GUROBI(msg=False), \n",
    "                                        what_to_compare='concentration')\n",
    "stop_con_opt = time.time()"
   ]
  },
  {
   "cell_type": "code",
   "execution_count": 38,
   "id": "655ff1b5",
   "metadata": {},
   "outputs": [
    {
     "name": "stdout",
     "output_type": "stream",
     "text": [
      "Estimation took 14.434666872024536 seconds.\n"
     ]
    }
   ],
   "source": [
    "print('Estimation took '+ str(stop_con_opt-start_con_opt) + ' seconds.')"
   ]
  },
  {
   "cell_type": "code",
   "execution_count": 39,
   "id": "354693e3",
   "metadata": {},
   "outputs": [
    {
     "data": {
      "text/plain": [
       "[0.3184065028416952,\n",
       " 0.21074102842995854,\n",
       " 0.1313242233468972,\n",
       " 0.19858252519006975,\n",
       " 0.14094572019137933]"
      ]
     },
     "execution_count": 39,
     "metadata": {},
     "output_type": "execute_result"
    }
   ],
   "source": [
    "estimation_molar_opt['proportions']"
   ]
  },
  {
   "cell_type": "markdown",
   "id": "304c1464",
   "metadata": {},
   "source": [
    "### Saving estimation results"
   ]
  },
  {
   "cell_type": "code",
   "execution_count": 40,
   "id": "54ac2c19",
   "metadata": {},
   "outputs": [
    {
     "data": {
      "text/html": [
       "<div>\n",
       "<style scoped>\n",
       "    .dataframe tbody tr th:only-of-type {\n",
       "        vertical-align: middle;\n",
       "    }\n",
       "\n",
       "    .dataframe tbody tr th {\n",
       "        vertical-align: top;\n",
       "    }\n",
       "\n",
       "    .dataframe thead th {\n",
       "        text-align: right;\n",
       "    }\n",
       "</style>\n",
       "<table border=\"1\" class=\"dataframe\">\n",
       "  <thead>\n",
       "    <tr style=\"text-align: right;\">\n",
       "      <th></th>\n",
       "      <th>Lactate</th>\n",
       "      <th>Alanine</th>\n",
       "      <th>Creatine</th>\n",
       "      <th>Creatinine</th>\n",
       "      <th>Choline chloride</th>\n",
       "    </tr>\n",
       "  </thead>\n",
       "  <tbody>\n",
       "    <tr>\n",
       "      <th>0</th>\n",
       "      <td>0.227497</td>\n",
       "      <td>0.150572</td>\n",
       "      <td>0.117287</td>\n",
       "      <td>0.177356</td>\n",
       "      <td>0.327288</td>\n",
       "    </tr>\n",
       "  </tbody>\n",
       "</table>\n",
       "</div>"
      ],
      "text/plain": [
       "    Lactate   Alanine  Creatine  Creatinine  Choline chloride\n",
       "0  0.227497  0.150572  0.117287    0.177356          0.327288"
      ]
     },
     "execution_count": 40,
     "metadata": {},
     "output_type": "execute_result"
    }
   ],
   "source": [
    "res_vis_opt = pd.DataFrame(np.array(estimation_vis_opt['proportions']).reshape(1,-1), \n",
    "             columns = components_dictionary['experiment_'+str(nr_of_experiment)])\n",
    "res_vis_opt"
   ]
  },
  {
   "cell_type": "code",
   "execution_count": 41,
   "id": "f7dbc5be",
   "metadata": {},
   "outputs": [
    {
     "data": {
      "text/html": [
       "<div>\n",
       "<style scoped>\n",
       "    .dataframe tbody tr th:only-of-type {\n",
       "        vertical-align: middle;\n",
       "    }\n",
       "\n",
       "    .dataframe tbody tr th {\n",
       "        vertical-align: top;\n",
       "    }\n",
       "\n",
       "    .dataframe thead th {\n",
       "        text-align: right;\n",
       "    }\n",
       "</style>\n",
       "<table border=\"1\" class=\"dataframe\">\n",
       "  <thead>\n",
       "    <tr style=\"text-align: right;\">\n",
       "      <th></th>\n",
       "      <th>Lactate</th>\n",
       "      <th>Alanine</th>\n",
       "      <th>Creatine</th>\n",
       "      <th>Creatinine</th>\n",
       "      <th>Choline chloride</th>\n",
       "    </tr>\n",
       "  </thead>\n",
       "  <tbody>\n",
       "    <tr>\n",
       "      <th>0</th>\n",
       "      <td>0.318407</td>\n",
       "      <td>0.210741</td>\n",
       "      <td>0.131324</td>\n",
       "      <td>0.198583</td>\n",
       "      <td>0.140946</td>\n",
       "    </tr>\n",
       "  </tbody>\n",
       "</table>\n",
       "</div>"
      ],
      "text/plain": [
       "    Lactate   Alanine  Creatine  Creatinine  Choline chloride\n",
       "0  0.318407  0.210741  0.131324    0.198583          0.140946"
      ]
     },
     "execution_count": 41,
     "metadata": {},
     "output_type": "execute_result"
    }
   ],
   "source": [
    "res_con_opt = pd.DataFrame(np.array(estimation_molar_opt['proportions']).reshape(1,-1), \n",
    "             columns = components_dictionary['experiment_'+str(nr_of_experiment)])\n",
    "res_con_opt"
   ]
  },
  {
   "cell_type": "code",
   "execution_count": 42,
   "id": "a2cfc1d2",
   "metadata": {},
   "outputs": [],
   "source": [
    "# if (nr_of_experiment != 9 and nr_of_experiment != 4):\n",
    "#     res_vis_opt.to_csv(experiments_folders['experiment_' + str(nr_of_experiment)]+\n",
    "#                    '/results_area.csv')\n",
    "# else:\n",
    "#     res_vis_opt.to_csv(experiments_folders['experiment_' + str(nr_of_experiment)]+\n",
    "#                    '/results_area_exp'+str(nr_of_experiment)+'.csv')"
   ]
  },
  {
   "cell_type": "code",
   "execution_count": 43,
   "id": "15c18f10",
   "metadata": {},
   "outputs": [],
   "source": [
    "# if (nr_of_experiment != 9 and nr_of_experiment != 4):\n",
    "#     res_con_opt.to_csv(experiments_folders['experiment_' + str(nr_of_experiment)]+\n",
    "#                '/results_concentration.csv')\n",
    "# else:\n",
    "#     res_con_opt.to_csv(experiments_folders['experiment_' + str(nr_of_experiment)]+\n",
    "#                '/results_concentration_exp'+str(nr_of_experiment)+'.csv')"
   ]
  }
 ],
 "metadata": {
  "kernelspec": {
   "display_name": "Python 3 (ipykernel)",
   "language": "python",
   "name": "python3"
  },
  "language_info": {
   "codemirror_mode": {
    "name": "ipython",
    "version": 3
   },
   "file_extension": ".py",
   "mimetype": "text/x-python",
   "name": "python",
   "nbconvert_exporter": "python",
   "pygments_lexer": "ipython3",
   "version": "3.10.12"
  }
 },
 "nbformat": 4,
 "nbformat_minor": 5
}
