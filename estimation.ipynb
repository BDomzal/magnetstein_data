{
 "cells": [
  {
   "cell_type": "markdown",
   "id": "2278c778",
   "metadata": {},
   "source": [
    "### Settings & imports"
   ]
  },
  {
   "cell_type": "code",
   "execution_count": 1,
   "id": "52249722",
   "metadata": {},
   "outputs": [],
   "source": [
    "%matplotlib notebook"
   ]
  },
  {
   "cell_type": "code",
   "execution_count": 2,
   "id": "6af4ae0a",
   "metadata": {},
   "outputs": [],
   "source": [
    "import sys\n",
    "mypath = \"/home/basia/Documents/spectroscopy/wassersteinms\"\n",
    "sys.path.insert(0, mypath)\n",
    "import masserstein "
   ]
  },
  {
   "cell_type": "code",
   "execution_count": 3,
   "id": "55f0baff",
   "metadata": {},
   "outputs": [],
   "source": [
    "import os\n",
    "\n",
    "from masserstein import Spectrum, NMRSpectrum\n",
    "from masserstein import estimate_proportions\n",
    "\n",
    "from matplotlib import pyplot as plt\n",
    "\n",
    "import numpy as np\n",
    "\n",
    "import pulp\n",
    "\n",
    "import pickle\n",
    "\n",
    "import seaborn as sns\n",
    "from textwrap import wrap\n",
    "\n",
    "from pathlib import Path\n",
    "\n",
    "import pandas as pd\n",
    "\n",
    "import time"
   ]
  },
  {
   "cell_type": "code",
   "execution_count": 4,
   "id": "87bb9eea",
   "metadata": {},
   "outputs": [],
   "source": [
    "nr_of_experiment = 9"
   ]
  },
  {
   "cell_type": "markdown",
   "id": "e7c66ece",
   "metadata": {},
   "source": [
    "### Experiments data"
   ]
  },
  {
   "cell_type": "code",
   "execution_count": 5,
   "id": "a808defa",
   "metadata": {},
   "outputs": [],
   "source": [
    "components_dictionary = {'experiment_2': ['Pinene', 'Benzyl benzoate'],\n",
    "                        'experiment_3': ['Pinene', 'Limonene'],\n",
    "                        'experiment_4': ['Benzyl benzoate', 'm Anisaldehyde'],\n",
    "                        'experiment_5': ['Isopropyl myristate', 'Benzyl benzoate', 'Alpha pinene', 'Limonene'],\n",
    "                        'experiment_1': ['Pinene', 'Benzyl benzoate'],\n",
    "                        'experiment_8': ['Lactate', 'Alanine', 'Creatine', 'Creatinine', 'Choline chloride'],\n",
    "                        'experiment_6': ['Lactate', 'Alanine', 'Creatine', 'Creatinine', 'Choline chloride'],\n",
    "                        'experiment_7': ['Lactate', 'Alanine', 'Creatine', 'Creatinine', 'Choline chloride'],\n",
    "                        'experiment_9': ['Benzyl benzoate', 'm Anisaldehyde']}"
   ]
  },
  {
   "cell_type": "code",
   "execution_count": 6,
   "id": "f4e9fdec",
   "metadata": {},
   "outputs": [],
   "source": [
    "protons_dictionary = {'experiment_2': [16, 12],\n",
    "                        'experiment_3': [16, 16],\n",
    "                        'experiment_4': [12, 8],\n",
    "                        'experiment_5': [34, 12, 16, 16],\n",
    "                        'experiment_1': [16, 12],\n",
    "                        'experiment_8': [4, 4, 5, 5, 13],\n",
    "                        'experiment_6': [4, 4, 5, 5, 13],\n",
    "                        'experiment_7': [4, 4, 5, 5, 13],\n",
    "                        'experiment_9': [12, 8]}"
   ]
  },
  {
   "cell_type": "code",
   "execution_count": 7,
   "id": "19fd49cf",
   "metadata": {},
   "outputs": [],
   "source": [
    "ground_truth_molar_proportions = {'experiment_2': [0.09088457406472417, 0.9091154259352758],\n",
    "                                    'experiment_3': [0.505, 0.495],\n",
    "                                    'experiment_4': [0.8403875207510383, 0.1596124792489616],\n",
    "                                    'experiment_5': [0.7264578344443725, 0.10578603326645526, 0.081968804608116, 0.08578732768105625],\n",
    "                                    'experiment_1': [0.3865, 0.6135],\n",
    "                                    'experiment_8': [0.3022, 0.2240, 0.1253, 0.2028, 0.1457],\n",
    "                                    'experiment_6': [0.3022, 0.2240, 0.1253, 0.2028, 0.1457],\n",
    "                                    'experiment_7': [0.3022, 0.2240, 0.1253, 0.2028, 0.1457],\n",
    "                                    'experiment_9': [0.3702, 0.6298]}"
   ]
  },
  {
   "cell_type": "code",
   "execution_count": 8,
   "id": "6280f16d",
   "metadata": {},
   "outputs": [],
   "source": [
    "experiments_folders = {'experiment_2': 'experiment_2_intensity_difference',\n",
    "                        'experiment_1': 'experiment_1_miniperfumes',\n",
    "                        'experiment_8': 'experiment_8_metabolites',\n",
    "                         'experiment_4': 'experiment_4_overlapping_and_intensity_difference',\n",
    "                         'experiment_6': 'experiment_6_and_7_shim',\n",
    "                       'experiment_7': 'experiment_6_and_7_shim',\n",
    "                        'experiment_9': 'experiment_9_different_solvents',\n",
    "                        'experiment_5': 'experiment_5_perfumes_and_absent_components',\n",
    "                         'experiment_3': 'experiment_3_overlapping'}"
   ]
  },
  {
   "cell_type": "code",
   "execution_count": 9,
   "id": "5c15336b",
   "metadata": {},
   "outputs": [],
   "source": [
    "#best_kappa_mix = [0.09, 0.05, 0.23, 0.37, 0.06, 0.03, 0.05, 0.11, 0.2]\n",
    "best_kappa_mix = [0.06, 0.09, 0.05, 0.23, 0.37, 0.05, 0.11, 0.03, 0.2]"
   ]
  },
  {
   "cell_type": "code",
   "execution_count": 10,
   "id": "53eb8b54",
   "metadata": {},
   "outputs": [],
   "source": [
    "#best_kappa_model = [0.08, 0.01, 0.02, 0.24, 0.2, 0.09, 0.02, 0.02, 0.29]\n",
    "best_kappa_model = [0.2, 0.08, 0.01, 0.02, 0.24, 0.02, 0.02, 0.09, 0.29]"
   ]
  },
  {
   "cell_type": "markdown",
   "id": "e84eddc3",
   "metadata": {},
   "source": [
    "### Loading the data"
   ]
  },
  {
   "cell_type": "code",
   "execution_count": 11,
   "id": "a16bd1b8",
   "metadata": {},
   "outputs": [],
   "source": [
    "if (nr_of_experiment != 6 and nr_of_experiment != 7):\n",
    "    filename = experiments_folders['experiment_' + str(nr_of_experiment)] + '/preprocessed_mix.csv'\n",
    "    mix = np.loadtxt(filename, delimiter=',')\n",
    "else:\n",
    "    filename = experiments_folders['experiment_' + str(nr_of_experiment)] + '/preprocessed_exp'+str(nr_of_experiment)+'_mix.csv'\n",
    "    mix = np.loadtxt(filename, delimiter=',')"
   ]
  },
  {
   "cell_type": "code",
   "execution_count": 12,
   "id": "67c8aeb3",
   "metadata": {},
   "outputs": [],
   "source": [
    "how_many_components = len(components_dictionary['experiment_'+str(nr_of_experiment)])\n",
    "names = ['comp' + str(i) for i in range(how_many_components)]"
   ]
  },
  {
   "cell_type": "code",
   "execution_count": 13,
   "id": "4d402de1",
   "metadata": {},
   "outputs": [],
   "source": [
    "spectra = []\n",
    "for i in range(how_many_components):\n",
    "    if (nr_of_experiment != 6 and nr_of_experiment != 7):\n",
    "        filename = experiments_folders['experiment_' + str(nr_of_experiment)] + \\\n",
    "                    '/preprocessed_comp' + str(i) + '.csv'\n",
    "        spectra.append(np.loadtxt(filename, delimiter=','))\n",
    "    else:\n",
    "        filename = experiments_folders['experiment_' + str(nr_of_experiment)] + \\\n",
    "                    '/preprocessed_exp'+str(nr_of_experiment)+ '_comp'+ str(i) + '.csv'\n",
    "        spectra.append(np.loadtxt(filename, delimiter=','))"
   ]
  },
  {
   "cell_type": "code",
   "execution_count": 14,
   "id": "f68d15b6",
   "metadata": {},
   "outputs": [],
   "source": [
    "spectra2 = []\n",
    "names = []\n",
    "for i in range(len(spectra)):\n",
    "    spectra2.append(NMRSpectrum(confs=list(zip(spectra[i][:,0], spectra[i][:,1])), \n",
    "                                protons=protons_dictionary['experiment_'+str(nr_of_experiment)][i]))\n",
    "    names.append('comp'+str(i))\n",
    "\n",
    "spectra = spectra2\n",
    "del(spectra2)\n",
    "mix = NMRSpectrum(confs=list(zip(mix[:,0], mix[:,1])))"
   ]
  },
  {
   "cell_type": "code",
   "execution_count": 15,
   "id": "066513a3",
   "metadata": {},
   "outputs": [],
   "source": [
    "for i, name in enumerate(names):\n",
    "    globals()[name] = spectra[i]"
   ]
  },
  {
   "cell_type": "code",
   "execution_count": 16,
   "id": "56905c27",
   "metadata": {},
   "outputs": [],
   "source": [
    "# mix.plot(profile=True)\n",
    "# for sp in spectra:\n",
    "#     sp.plot(profile=True)"
   ]
  },
  {
   "cell_type": "markdown",
   "id": "31df385c",
   "metadata": {},
   "source": [
    "### Estimation"
   ]
  },
  {
   "cell_type": "code",
   "execution_count": 17,
   "id": "d44ebf2f",
   "metadata": {},
   "outputs": [
    {
     "name": "stdout",
     "output_type": "stream",
     "text": [
      "Set parameter Username\n",
      "Academic license - for non-commercial use only - expires 2023-11-10\n"
     ]
    },
    {
     "name": "stderr",
     "output_type": "stream",
     "text": [
      "Initial filtering of formulas: 100%|████████████| 2/2 [00:00<00:00, 58.24it/s]\n"
     ]
    },
    {
     "name": "stdout",
     "output_type": "stream",
     "text": [
      "Removed theoretical spectra due to no matching experimental peaks: []\n",
      "Envelope bounds: [(3.5000299999999998, 11.99995, 0), (3.5000299999999998, 11.99995, 1)]\n"
     ]
    },
    {
     "name": "stderr",
     "output_type": "stream",
     "text": [
      "Computing chunks: 100%|██████████████████████| 2/2 [00:00<00:00, 79891.50it/s]\n"
     ]
    },
    {
     "name": "stdout",
     "output_type": "stream",
     "text": [
      "Number of chunks: 1\n",
      "ChunkIDs: [0, 0]\n",
      "Chunk bounds: [(3.2100299999999997, 12.28995)]\n"
     ]
    },
    {
     "name": "stderr",
     "output_type": "stream",
     "text": [
      "Splitting the experimental spectrum into chunks: 139577it [00:00, 3449093.11it/s]\n"
     ]
    },
    {
     "name": "stdout",
     "output_type": "stream",
     "text": [
      "Ion currents in chunks: [0.9999999999999973]\n"
     ]
    },
    {
     "name": "stderr",
     "output_type": "stream",
     "text": [
      "\r",
      "Deconvolving chunks:   0%|                              | 0/1 [00:00<?, ?it/s]"
     ]
    },
    {
     "name": "stdout",
     "output_type": "stream",
     "text": [
      "Deconvolving chunk 0\n"
     ]
    },
    {
     "name": "stderr",
     "output_type": "stream",
     "text": [
      "/home/basia/.local/lib/python3.10/site-packages/pulp/pulp.py:1352: UserWarning: Spaces are not permitted in the name. Converted to '_'\n",
      "  warnings.warn(\"Spaces are not permitted in the name. Converted to '_'\")\n",
      "Deconvolving chunks: 100%|█████████████████████| 1/1 [03:12<00:00, 192.63s/it]"
     ]
    },
    {
     "name": "stdout",
     "output_type": "stream",
     "text": [
      "Chunk %i deconvolution status: Optimal\n",
      "Signal proportion in experimental spectrum: 0.9298597180920001\n",
      "Noise proportion in experimental spectrum: 0.07014029297699982\n",
      "Total explanation: 1.000000011069\n",
      "Noise proportion in combination of theoretical spectra: 0.008558474193\n"
     ]
    },
    {
     "name": "stderr",
     "output_type": "stream",
     "text": [
      "\n"
     ]
    }
   ],
   "source": [
    "start_vis = time.time()\n",
    "estimation_vis = estimate_proportions(mix, spectra,\n",
    "                                        MTD=best_kappa_mix[nr_of_experiment-1], \n",
    "                                        MTD_th=best_kappa_model[nr_of_experiment-1],\n",
    "                                        verbose=True, solver=pulp.GUROBI(msg=False), \n",
    "                                        what_to_compare='area')\n",
    "stop_vis = time.time()"
   ]
  },
  {
   "cell_type": "code",
   "execution_count": 18,
   "id": "7c07657a",
   "metadata": {},
   "outputs": [
    {
     "name": "stdout",
     "output_type": "stream",
     "text": [
      "Estimation took 192.77701354026794 seconds.\n"
     ]
    }
   ],
   "source": [
    "print('Estimation took '+ str(stop_vis-start_vis) + ' seconds.')"
   ]
  },
  {
   "cell_type": "code",
   "execution_count": 19,
   "id": "c58f7242",
   "metadata": {},
   "outputs": [
    {
     "data": {
      "text/plain": [
       "[0.43970247519399885, 0.49015724289799867]"
      ]
     },
     "execution_count": 19,
     "metadata": {},
     "output_type": "execute_result"
    }
   ],
   "source": [
    "estimation_vis['proportions']"
   ]
  },
  {
   "cell_type": "code",
   "execution_count": 20,
   "id": "f463c3dd",
   "metadata": {},
   "outputs": [
    {
     "data": {
      "text/plain": [
       "0.008558474192999977"
      ]
     },
     "execution_count": 20,
     "metadata": {},
     "output_type": "execute_result"
    }
   ],
   "source": [
    "estimation_vis['proportion_of_noise_in_theoretical']"
   ]
  },
  {
   "cell_type": "code",
   "execution_count": 21,
   "id": "ca73a54f",
   "metadata": {},
   "outputs": [
    {
     "name": "stderr",
     "output_type": "stream",
     "text": [
      "Initial filtering of formulas: 100%|████████████| 2/2 [00:00<00:00, 56.17it/s]\n"
     ]
    },
    {
     "name": "stdout",
     "output_type": "stream",
     "text": [
      "Removed theoretical spectra due to no matching experimental peaks: []\n",
      "Envelope bounds: [(3.5000299999999998, 11.99995, 0), (3.5000299999999998, 11.99995, 1)]\n"
     ]
    },
    {
     "name": "stderr",
     "output_type": "stream",
     "text": [
      "Computing chunks: 100%|██████████████████████| 2/2 [00:00<00:00, 66576.25it/s]\n"
     ]
    },
    {
     "name": "stdout",
     "output_type": "stream",
     "text": [
      "Number of chunks: 1\n",
      "ChunkIDs: [0, 0]\n",
      "Chunk bounds: [(3.2100299999999997, 12.28995)]\n"
     ]
    },
    {
     "name": "stderr",
     "output_type": "stream",
     "text": [
      "Splitting the experimental spectrum into chunks: 139577it [00:00, 3421776.79it/s]\n"
     ]
    },
    {
     "name": "stdout",
     "output_type": "stream",
     "text": [
      "Ion currents in chunks: [0.9999999999999973]\n"
     ]
    },
    {
     "name": "stderr",
     "output_type": "stream",
     "text": [
      "\r",
      "Deconvolving chunks:   0%|                              | 0/1 [00:00<?, ?it/s]"
     ]
    },
    {
     "name": "stdout",
     "output_type": "stream",
     "text": [
      "Deconvolving chunk 0\n"
     ]
    },
    {
     "name": "stderr",
     "output_type": "stream",
     "text": [
      "Deconvolving chunks: 100%|█████████████████████| 1/1 [03:13<00:00, 193.37s/it]"
     ]
    },
    {
     "name": "stdout",
     "output_type": "stream",
     "text": [
      "Chunk %i deconvolution status: Optimal\n",
      "Signal proportion in experimental spectrum: 0.9298597180920001\n",
      "Noise proportion in experimental spectrum: 0.07014029297699982\n",
      "Total explanation: 1.000000011069\n",
      "Noise proportion in combination of theoretical spectra: 0.008558474193\n"
     ]
    },
    {
     "name": "stderr",
     "output_type": "stream",
     "text": [
      "\n"
     ]
    }
   ],
   "source": [
    "start_con = time.time()\n",
    "estimation_molar = estimate_proportions(mix, spectra,\n",
    "                                        MTD=best_kappa_mix[nr_of_experiment-1], \n",
    "                                        MTD_th=best_kappa_model[nr_of_experiment-1],\n",
    "                                        verbose=True, solver=pulp.GUROBI(msg=False), \n",
    "                                        what_to_compare='concentration')\n",
    "stop_con = time.time()"
   ]
  },
  {
   "cell_type": "code",
   "execution_count": 22,
   "id": "655ff1b5",
   "metadata": {},
   "outputs": [
    {
     "name": "stdout",
     "output_type": "stream",
     "text": [
      "Estimation took 193.52244234085083 seconds.\n"
     ]
    }
   ],
   "source": [
    "print('Estimation took '+ str(stop_con-start_con) + ' seconds.')"
   ]
  },
  {
   "cell_type": "code",
   "execution_count": 23,
   "id": "354693e3",
   "metadata": {},
   "outputs": [
    {
     "data": {
      "text/plain": [
       "[0.37423451120488055, 0.6257654887951195]"
      ]
     },
     "execution_count": 23,
     "metadata": {},
     "output_type": "execute_result"
    }
   ],
   "source": [
    "estimation_molar['proportions']"
   ]
  },
  {
   "cell_type": "markdown",
   "id": "304c1464",
   "metadata": {},
   "source": [
    "### Saving estimation results"
   ]
  },
  {
   "cell_type": "code",
   "execution_count": 24,
   "id": "54ac2c19",
   "metadata": {},
   "outputs": [
    {
     "data": {
      "text/html": [
       "<div>\n",
       "<style scoped>\n",
       "    .dataframe tbody tr th:only-of-type {\n",
       "        vertical-align: middle;\n",
       "    }\n",
       "\n",
       "    .dataframe tbody tr th {\n",
       "        vertical-align: top;\n",
       "    }\n",
       "\n",
       "    .dataframe thead th {\n",
       "        text-align: right;\n",
       "    }\n",
       "</style>\n",
       "<table border=\"1\" class=\"dataframe\">\n",
       "  <thead>\n",
       "    <tr style=\"text-align: right;\">\n",
       "      <th></th>\n",
       "      <th>Benzyl benzoate</th>\n",
       "      <th>m Anisaldehyde</th>\n",
       "    </tr>\n",
       "  </thead>\n",
       "  <tbody>\n",
       "    <tr>\n",
       "      <th>0</th>\n",
       "      <td>0.439702</td>\n",
       "      <td>0.490157</td>\n",
       "    </tr>\n",
       "  </tbody>\n",
       "</table>\n",
       "</div>"
      ],
      "text/plain": [
       "   Benzyl benzoate  m Anisaldehyde\n",
       "0         0.439702        0.490157"
      ]
     },
     "execution_count": 24,
     "metadata": {},
     "output_type": "execute_result"
    }
   ],
   "source": [
    "res_vis = pd.DataFrame(np.array(estimation_vis['proportions']).reshape(1,-1), \n",
    "             columns = components_dictionary['experiment_'+str(nr_of_experiment)])\n",
    "res_vis"
   ]
  },
  {
   "cell_type": "code",
   "execution_count": 25,
   "id": "f7dbc5be",
   "metadata": {},
   "outputs": [
    {
     "data": {
      "text/html": [
       "<div>\n",
       "<style scoped>\n",
       "    .dataframe tbody tr th:only-of-type {\n",
       "        vertical-align: middle;\n",
       "    }\n",
       "\n",
       "    .dataframe tbody tr th {\n",
       "        vertical-align: top;\n",
       "    }\n",
       "\n",
       "    .dataframe thead th {\n",
       "        text-align: right;\n",
       "    }\n",
       "</style>\n",
       "<table border=\"1\" class=\"dataframe\">\n",
       "  <thead>\n",
       "    <tr style=\"text-align: right;\">\n",
       "      <th></th>\n",
       "      <th>Benzyl benzoate</th>\n",
       "      <th>m Anisaldehyde</th>\n",
       "    </tr>\n",
       "  </thead>\n",
       "  <tbody>\n",
       "    <tr>\n",
       "      <th>0</th>\n",
       "      <td>0.374235</td>\n",
       "      <td>0.625765</td>\n",
       "    </tr>\n",
       "  </tbody>\n",
       "</table>\n",
       "</div>"
      ],
      "text/plain": [
       "   Benzyl benzoate  m Anisaldehyde\n",
       "0         0.374235        0.625765"
      ]
     },
     "execution_count": 25,
     "metadata": {},
     "output_type": "execute_result"
    }
   ],
   "source": [
    "res_con = pd.DataFrame(np.array(estimation_molar['proportions']).reshape(1,-1), \n",
    "             columns = components_dictionary['experiment_'+str(nr_of_experiment)])\n",
    "res_con"
   ]
  },
  {
   "cell_type": "code",
   "execution_count": 26,
   "id": "a2cfc1d2",
   "metadata": {},
   "outputs": [],
   "source": [
    "# if (nr_of_experiment != 6 and nr_of_experiment != 7):\n",
    "#     res_vis.to_csv(experiments_folders['experiment_' + str(nr_of_experiment)]+\n",
    "#                    '/results_area.csv')\n",
    "# else:\n",
    "#     res_vis.to_csv(experiments_folders['experiment_' + str(nr_of_experiment)]+\n",
    "#                    '/results_area_exp'+str(nr_of_experiment)+'.csv')"
   ]
  },
  {
   "cell_type": "code",
   "execution_count": 27,
   "id": "15c18f10",
   "metadata": {},
   "outputs": [],
   "source": [
    "# if (nr_of_experiment != 6 and nr_of_experiment != 7):\n",
    "#     res_con.to_csv(experiments_folders['experiment_' + str(nr_of_experiment)]+\n",
    "#                '/results_concentration.csv')\n",
    "# else:\n",
    "#     res_con.to_csv(experiments_folders['experiment_' + str(nr_of_experiment)]+\n",
    "#                '/results_concentration_exp'+str(nr_of_experiment)+'.csv')"
   ]
  },
  {
   "cell_type": "markdown",
   "id": "cee5a55b",
   "metadata": {},
   "source": [
    "### Mixture vs linear combination of components (noise removed)"
   ]
  },
  {
   "cell_type": "code",
   "execution_count": 26,
   "id": "b35a6293",
   "metadata": {},
   "outputs": [],
   "source": [
    "ignore_negative = False"
   ]
  },
  {
   "cell_type": "code",
   "execution_count": 27,
   "id": "5c4477be",
   "metadata": {},
   "outputs": [],
   "source": [
    "def make_nonnegative(ints):\n",
    "    res_ints = ints\n",
    "    for col_nr in range(ints.shape[1]):\n",
    "        neg = ints[:,col_nr]<0\n",
    "        res_ints[:,col_nr][neg]=0\n",
    "    return(res_ints)"
   ]
  },
  {
   "cell_type": "markdown",
   "id": "7b3e6bac",
   "metadata": {},
   "source": [
    "#### Mix"
   ]
  },
  {
   "cell_type": "code",
   "execution_count": 28,
   "id": "d938786b",
   "metadata": {},
   "outputs": [],
   "source": [
    "ppm = np.array(mix.confs)[:,0]\n",
    "mix_ints = np.array(mix.confs)[:,1]"
   ]
  },
  {
   "cell_type": "code",
   "execution_count": 29,
   "id": "e49f6542",
   "metadata": {},
   "outputs": [],
   "source": [
    "mix_without_noise = NMRSpectrum(confs = list(zip(ppm, mix_ints - np.array(estimation_vis['noise']))))\n",
    "mix_without_noise = np.array(mix_without_noise.confs)[:,1]"
   ]
  },
  {
   "cell_type": "code",
   "execution_count": 30,
   "id": "41218d82",
   "metadata": {},
   "outputs": [],
   "source": [
    "if ignore_negative:\n",
    "    mix_without_noise = make_nonnegative(mix_without_noise.reshape(-1,1))"
   ]
  },
  {
   "cell_type": "code",
   "execution_count": 31,
   "id": "58ba1cea",
   "metadata": {},
   "outputs": [],
   "source": [
    "mix_without_noise = mix_without_noise/sum(mix_without_noise)"
   ]
  },
  {
   "cell_type": "markdown",
   "id": "a062a05d",
   "metadata": {},
   "source": [
    "#### Components"
   ]
  },
  {
   "cell_type": "code",
   "execution_count": 32,
   "id": "bff9eece",
   "metadata": {},
   "outputs": [],
   "source": [
    "components_ints = []\n",
    "for spectrum in spectra:\n",
    "    components_ints.append(np.array(spectrum.confs)[:,1])#.reshape(-1,1))"
   ]
  },
  {
   "cell_type": "code",
   "execution_count": 35,
   "id": "86e0b53a",
   "metadata": {},
   "outputs": [],
   "source": [
    "p = estimation_vis['proportions']\n",
    "p = np.array(p).reshape(len(p),1)"
   ]
  },
  {
   "cell_type": "code",
   "execution_count": 36,
   "id": "ec7c6d91",
   "metadata": {},
   "outputs": [],
   "source": [
    "names_components_up_to = ['sum_up_to_'+str(i+1) for i in range(len(spectra))]"
   ]
  },
  {
   "cell_type": "code",
   "execution_count": 37,
   "id": "cee5adc5",
   "metadata": {},
   "outputs": [],
   "source": [
    "components = [comp.reshape(-1,1) for comp in components_ints]\n",
    "components_no_scaling = np.concatenate(components, axis=1)\n",
    "components_scaled = components_no_scaling*p[:,0]"
   ]
  },
  {
   "cell_type": "code",
   "execution_count": 38,
   "id": "06ef63df",
   "metadata": {},
   "outputs": [
    {
     "name": "stderr",
     "output_type": "stream",
     "text": [
      "/tmp/ipykernel_87069/2062537961.py:1: RuntimeWarning: invalid value encountered in divide\n",
      "  proportions_point_by_point = (components_scaled/np.sum(components_scaled, axis=1).reshape(-1,1))\n"
     ]
    }
   ],
   "source": [
    "proportions_point_by_point = (components_scaled/np.sum(components_scaled, axis=1).reshape(-1,1))\n",
    "proportions_point_by_point = np.nan_to_num(proportions_point_by_point)\n",
    "noise_in_ref = np.array(estimation_vis['noise_in_theoretical']).reshape(-1,1)\n",
    "noise_split_for_components = proportions_point_by_point*noise_in_ref"
   ]
  },
  {
   "cell_type": "code",
   "execution_count": 39,
   "id": "d06e7972",
   "metadata": {},
   "outputs": [
    {
     "data": {
      "text/plain": [
       "True"
      ]
     },
     "execution_count": 39,
     "metadata": {},
     "output_type": "execute_result"
    }
   ],
   "source": [
    "(np.round(components_scaled-noise_split_for_components, decimals=5)>=0).all()"
   ]
  },
  {
   "cell_type": "code",
   "execution_count": 40,
   "id": "c3a37fa7",
   "metadata": {},
   "outputs": [],
   "source": [
    "X = components_scaled - noise_split_for_components"
   ]
  },
  {
   "cell_type": "code",
   "execution_count": 41,
   "id": "c7c5a100",
   "metadata": {},
   "outputs": [
    {
     "data": {
      "text/plain": [
       "True"
      ]
     },
     "execution_count": 41,
     "metadata": {},
     "output_type": "execute_result"
    }
   ],
   "source": [
    "(np.sum(X[:,:1], axis=1)==X[:,0]).all()"
   ]
  },
  {
   "cell_type": "code",
   "execution_count": 42,
   "id": "24612df2",
   "metadata": {},
   "outputs": [],
   "source": [
    "if ignore_negative:\n",
    "    X = make_nonnegative(X)"
   ]
  },
  {
   "cell_type": "code",
   "execution_count": 43,
   "id": "4116e7a4",
   "metadata": {},
   "outputs": [],
   "source": [
    "for i, name in enumerate(names_components_up_to):\n",
    "    #not_normalized = np.sum(X[:,:(i+1)], axis=1)\n",
    "    \n",
    "    globals()[name] = np.sum(X[:,:(i+1)], axis=1)"
   ]
  },
  {
   "cell_type": "code",
   "execution_count": 44,
   "id": "4cc24789",
   "metadata": {},
   "outputs": [],
   "source": [
    "xlims_lower = [1.55, 1.55, 1.6, 7.3, 4.4, 3.55, 3.55, 3.55, 9.1]\n",
    "xlims_upper = [2.4, 2.45, 2.4, 7.6, 7.8, 4.05, 4.05, 4.05, 10.1]\n",
    "ylims_lower = [-0.00005, -0.00005, -0.00005, -0.00005, -0.000025, -0.00005, -0.00005, -0.00005, -0.00005]\n",
    "ylims_upper = [0.0016, 0.00045, 0.0025, 0.0026, 0.00016, 0.0016, 0.0016, 0.0011, 0.0014]"
   ]
  },
  {
   "cell_type": "code",
   "execution_count": 45,
   "id": "b4281800",
   "metadata": {},
   "outputs": [
    {
     "data": {
      "application/javascript": [
       "/* Put everything inside the global mpl namespace */\n",
       "/* global mpl */\n",
       "window.mpl = {};\n",
       "\n",
       "mpl.get_websocket_type = function () {\n",
       "    if (typeof WebSocket !== 'undefined') {\n",
       "        return WebSocket;\n",
       "    } else if (typeof MozWebSocket !== 'undefined') {\n",
       "        return MozWebSocket;\n",
       "    } else {\n",
       "        alert(\n",
       "            'Your browser does not have WebSocket support. ' +\n",
       "                'Please try Chrome, Safari or Firefox ≥ 6. ' +\n",
       "                'Firefox 4 and 5 are also supported but you ' +\n",
       "                'have to enable WebSockets in about:config.'\n",
       "        );\n",
       "    }\n",
       "};\n",
       "\n",
       "mpl.figure = function (figure_id, websocket, ondownload, parent_element) {\n",
       "    this.id = figure_id;\n",
       "\n",
       "    this.ws = websocket;\n",
       "\n",
       "    this.supports_binary = this.ws.binaryType !== undefined;\n",
       "\n",
       "    if (!this.supports_binary) {\n",
       "        var warnings = document.getElementById('mpl-warnings');\n",
       "        if (warnings) {\n",
       "            warnings.style.display = 'block';\n",
       "            warnings.textContent =\n",
       "                'This browser does not support binary websocket messages. ' +\n",
       "                'Performance may be slow.';\n",
       "        }\n",
       "    }\n",
       "\n",
       "    this.imageObj = new Image();\n",
       "\n",
       "    this.context = undefined;\n",
       "    this.message = undefined;\n",
       "    this.canvas = undefined;\n",
       "    this.rubberband_canvas = undefined;\n",
       "    this.rubberband_context = undefined;\n",
       "    this.format_dropdown = undefined;\n",
       "\n",
       "    this.image_mode = 'full';\n",
       "\n",
       "    this.root = document.createElement('div');\n",
       "    this.root.setAttribute('style', 'display: inline-block');\n",
       "    this._root_extra_style(this.root);\n",
       "\n",
       "    parent_element.appendChild(this.root);\n",
       "\n",
       "    this._init_header(this);\n",
       "    this._init_canvas(this);\n",
       "    this._init_toolbar(this);\n",
       "\n",
       "    var fig = this;\n",
       "\n",
       "    this.waiting = false;\n",
       "\n",
       "    this.ws.onopen = function () {\n",
       "        fig.send_message('supports_binary', { value: fig.supports_binary });\n",
       "        fig.send_message('send_image_mode', {});\n",
       "        if (fig.ratio !== 1) {\n",
       "            fig.send_message('set_device_pixel_ratio', {\n",
       "                device_pixel_ratio: fig.ratio,\n",
       "            });\n",
       "        }\n",
       "        fig.send_message('refresh', {});\n",
       "    };\n",
       "\n",
       "    this.imageObj.onload = function () {\n",
       "        if (fig.image_mode === 'full') {\n",
       "            // Full images could contain transparency (where diff images\n",
       "            // almost always do), so we need to clear the canvas so that\n",
       "            // there is no ghosting.\n",
       "            fig.context.clearRect(0, 0, fig.canvas.width, fig.canvas.height);\n",
       "        }\n",
       "        fig.context.drawImage(fig.imageObj, 0, 0);\n",
       "    };\n",
       "\n",
       "    this.imageObj.onunload = function () {\n",
       "        fig.ws.close();\n",
       "    };\n",
       "\n",
       "    this.ws.onmessage = this._make_on_message_function(this);\n",
       "\n",
       "    this.ondownload = ondownload;\n",
       "};\n",
       "\n",
       "mpl.figure.prototype._init_header = function () {\n",
       "    var titlebar = document.createElement('div');\n",
       "    titlebar.classList =\n",
       "        'ui-dialog-titlebar ui-widget-header ui-corner-all ui-helper-clearfix';\n",
       "    var titletext = document.createElement('div');\n",
       "    titletext.classList = 'ui-dialog-title';\n",
       "    titletext.setAttribute(\n",
       "        'style',\n",
       "        'width: 100%; text-align: center; padding: 3px;'\n",
       "    );\n",
       "    titlebar.appendChild(titletext);\n",
       "    this.root.appendChild(titlebar);\n",
       "    this.header = titletext;\n",
       "};\n",
       "\n",
       "mpl.figure.prototype._canvas_extra_style = function (_canvas_div) {};\n",
       "\n",
       "mpl.figure.prototype._root_extra_style = function (_canvas_div) {};\n",
       "\n",
       "mpl.figure.prototype._init_canvas = function () {\n",
       "    var fig = this;\n",
       "\n",
       "    var canvas_div = (this.canvas_div = document.createElement('div'));\n",
       "    canvas_div.setAttribute('tabindex', '0');\n",
       "    canvas_div.setAttribute(\n",
       "        'style',\n",
       "        'border: 1px solid #ddd;' +\n",
       "            'box-sizing: content-box;' +\n",
       "            'clear: both;' +\n",
       "            'min-height: 1px;' +\n",
       "            'min-width: 1px;' +\n",
       "            'outline: 0;' +\n",
       "            'overflow: hidden;' +\n",
       "            'position: relative;' +\n",
       "            'resize: both;' +\n",
       "            'z-index: 2;'\n",
       "    );\n",
       "\n",
       "    function on_keyboard_event_closure(name) {\n",
       "        return function (event) {\n",
       "            return fig.key_event(event, name);\n",
       "        };\n",
       "    }\n",
       "\n",
       "    canvas_div.addEventListener(\n",
       "        'keydown',\n",
       "        on_keyboard_event_closure('key_press')\n",
       "    );\n",
       "    canvas_div.addEventListener(\n",
       "        'keyup',\n",
       "        on_keyboard_event_closure('key_release')\n",
       "    );\n",
       "\n",
       "    this._canvas_extra_style(canvas_div);\n",
       "    this.root.appendChild(canvas_div);\n",
       "\n",
       "    var canvas = (this.canvas = document.createElement('canvas'));\n",
       "    canvas.classList.add('mpl-canvas');\n",
       "    canvas.setAttribute(\n",
       "        'style',\n",
       "        'box-sizing: content-box;' +\n",
       "            'pointer-events: none;' +\n",
       "            'position: relative;' +\n",
       "            'z-index: 0;'\n",
       "    );\n",
       "\n",
       "    this.context = canvas.getContext('2d');\n",
       "\n",
       "    var backingStore =\n",
       "        this.context.backingStorePixelRatio ||\n",
       "        this.context.webkitBackingStorePixelRatio ||\n",
       "        this.context.mozBackingStorePixelRatio ||\n",
       "        this.context.msBackingStorePixelRatio ||\n",
       "        this.context.oBackingStorePixelRatio ||\n",
       "        this.context.backingStorePixelRatio ||\n",
       "        1;\n",
       "\n",
       "    this.ratio = (window.devicePixelRatio || 1) / backingStore;\n",
       "\n",
       "    var rubberband_canvas = (this.rubberband_canvas = document.createElement(\n",
       "        'canvas'\n",
       "    ));\n",
       "    rubberband_canvas.setAttribute(\n",
       "        'style',\n",
       "        'box-sizing: content-box;' +\n",
       "            'left: 0;' +\n",
       "            'pointer-events: none;' +\n",
       "            'position: absolute;' +\n",
       "            'top: 0;' +\n",
       "            'z-index: 1;'\n",
       "    );\n",
       "\n",
       "    // Apply a ponyfill if ResizeObserver is not implemented by browser.\n",
       "    if (this.ResizeObserver === undefined) {\n",
       "        if (window.ResizeObserver !== undefined) {\n",
       "            this.ResizeObserver = window.ResizeObserver;\n",
       "        } else {\n",
       "            var obs = _JSXTOOLS_RESIZE_OBSERVER({});\n",
       "            this.ResizeObserver = obs.ResizeObserver;\n",
       "        }\n",
       "    }\n",
       "\n",
       "    this.resizeObserverInstance = new this.ResizeObserver(function (entries) {\n",
       "        var nentries = entries.length;\n",
       "        for (var i = 0; i < nentries; i++) {\n",
       "            var entry = entries[i];\n",
       "            var width, height;\n",
       "            if (entry.contentBoxSize) {\n",
       "                if (entry.contentBoxSize instanceof Array) {\n",
       "                    // Chrome 84 implements new version of spec.\n",
       "                    width = entry.contentBoxSize[0].inlineSize;\n",
       "                    height = entry.contentBoxSize[0].blockSize;\n",
       "                } else {\n",
       "                    // Firefox implements old version of spec.\n",
       "                    width = entry.contentBoxSize.inlineSize;\n",
       "                    height = entry.contentBoxSize.blockSize;\n",
       "                }\n",
       "            } else {\n",
       "                // Chrome <84 implements even older version of spec.\n",
       "                width = entry.contentRect.width;\n",
       "                height = entry.contentRect.height;\n",
       "            }\n",
       "\n",
       "            // Keep the size of the canvas and rubber band canvas in sync with\n",
       "            // the canvas container.\n",
       "            if (entry.devicePixelContentBoxSize) {\n",
       "                // Chrome 84 implements new version of spec.\n",
       "                canvas.setAttribute(\n",
       "                    'width',\n",
       "                    entry.devicePixelContentBoxSize[0].inlineSize\n",
       "                );\n",
       "                canvas.setAttribute(\n",
       "                    'height',\n",
       "                    entry.devicePixelContentBoxSize[0].blockSize\n",
       "                );\n",
       "            } else {\n",
       "                canvas.setAttribute('width', width * fig.ratio);\n",
       "                canvas.setAttribute('height', height * fig.ratio);\n",
       "            }\n",
       "            /* This rescales the canvas back to display pixels, so that it\n",
       "             * appears correct on HiDPI screens. */\n",
       "            canvas.style.width = width + 'px';\n",
       "            canvas.style.height = height + 'px';\n",
       "\n",
       "            rubberband_canvas.setAttribute('width', width);\n",
       "            rubberband_canvas.setAttribute('height', height);\n",
       "\n",
       "            // And update the size in Python. We ignore the initial 0/0 size\n",
       "            // that occurs as the element is placed into the DOM, which should\n",
       "            // otherwise not happen due to the minimum size styling.\n",
       "            if (fig.ws.readyState == 1 && width != 0 && height != 0) {\n",
       "                fig.request_resize(width, height);\n",
       "            }\n",
       "        }\n",
       "    });\n",
       "    this.resizeObserverInstance.observe(canvas_div);\n",
       "\n",
       "    function on_mouse_event_closure(name) {\n",
       "        /* User Agent sniffing is bad, but WebKit is busted:\n",
       "         * https://bugs.webkit.org/show_bug.cgi?id=144526\n",
       "         * https://bugs.webkit.org/show_bug.cgi?id=181818\n",
       "         * The worst that happens here is that they get an extra browser\n",
       "         * selection when dragging, if this check fails to catch them.\n",
       "         */\n",
       "        var UA = navigator.userAgent;\n",
       "        var isWebKit = /AppleWebKit/.test(UA) && !/Chrome/.test(UA);\n",
       "        if(isWebKit) {\n",
       "            return function (event) {\n",
       "                /* This prevents the web browser from automatically changing to\n",
       "                 * the text insertion cursor when the button is pressed. We\n",
       "                 * want to control all of the cursor setting manually through\n",
       "                 * the 'cursor' event from matplotlib */\n",
       "                event.preventDefault()\n",
       "                return fig.mouse_event(event, name);\n",
       "            };\n",
       "        } else {\n",
       "            return function (event) {\n",
       "                return fig.mouse_event(event, name);\n",
       "            };\n",
       "        }\n",
       "    }\n",
       "\n",
       "    canvas_div.addEventListener(\n",
       "        'mousedown',\n",
       "        on_mouse_event_closure('button_press')\n",
       "    );\n",
       "    canvas_div.addEventListener(\n",
       "        'mouseup',\n",
       "        on_mouse_event_closure('button_release')\n",
       "    );\n",
       "    canvas_div.addEventListener(\n",
       "        'dblclick',\n",
       "        on_mouse_event_closure('dblclick')\n",
       "    );\n",
       "    // Throttle sequential mouse events to 1 every 20ms.\n",
       "    canvas_div.addEventListener(\n",
       "        'mousemove',\n",
       "        on_mouse_event_closure('motion_notify')\n",
       "    );\n",
       "\n",
       "    canvas_div.addEventListener(\n",
       "        'mouseenter',\n",
       "        on_mouse_event_closure('figure_enter')\n",
       "    );\n",
       "    canvas_div.addEventListener(\n",
       "        'mouseleave',\n",
       "        on_mouse_event_closure('figure_leave')\n",
       "    );\n",
       "\n",
       "    canvas_div.addEventListener('wheel', function (event) {\n",
       "        if (event.deltaY < 0) {\n",
       "            event.step = 1;\n",
       "        } else {\n",
       "            event.step = -1;\n",
       "        }\n",
       "        on_mouse_event_closure('scroll')(event);\n",
       "    });\n",
       "\n",
       "    canvas_div.appendChild(canvas);\n",
       "    canvas_div.appendChild(rubberband_canvas);\n",
       "\n",
       "    this.rubberband_context = rubberband_canvas.getContext('2d');\n",
       "    this.rubberband_context.strokeStyle = '#000000';\n",
       "\n",
       "    this._resize_canvas = function (width, height, forward) {\n",
       "        if (forward) {\n",
       "            canvas_div.style.width = width + 'px';\n",
       "            canvas_div.style.height = height + 'px';\n",
       "        }\n",
       "    };\n",
       "\n",
       "    // Disable right mouse context menu.\n",
       "    canvas_div.addEventListener('contextmenu', function (_e) {\n",
       "        event.preventDefault();\n",
       "        return false;\n",
       "    });\n",
       "\n",
       "    function set_focus() {\n",
       "        canvas.focus();\n",
       "        canvas_div.focus();\n",
       "    }\n",
       "\n",
       "    window.setTimeout(set_focus, 100);\n",
       "};\n",
       "\n",
       "mpl.figure.prototype._init_toolbar = function () {\n",
       "    var fig = this;\n",
       "\n",
       "    var toolbar = document.createElement('div');\n",
       "    toolbar.classList = 'mpl-toolbar';\n",
       "    this.root.appendChild(toolbar);\n",
       "\n",
       "    function on_click_closure(name) {\n",
       "        return function (_event) {\n",
       "            return fig.toolbar_button_onclick(name);\n",
       "        };\n",
       "    }\n",
       "\n",
       "    function on_mouseover_closure(tooltip) {\n",
       "        return function (event) {\n",
       "            if (!event.currentTarget.disabled) {\n",
       "                return fig.toolbar_button_onmouseover(tooltip);\n",
       "            }\n",
       "        };\n",
       "    }\n",
       "\n",
       "    fig.buttons = {};\n",
       "    var buttonGroup = document.createElement('div');\n",
       "    buttonGroup.classList = 'mpl-button-group';\n",
       "    for (var toolbar_ind in mpl.toolbar_items) {\n",
       "        var name = mpl.toolbar_items[toolbar_ind][0];\n",
       "        var tooltip = mpl.toolbar_items[toolbar_ind][1];\n",
       "        var image = mpl.toolbar_items[toolbar_ind][2];\n",
       "        var method_name = mpl.toolbar_items[toolbar_ind][3];\n",
       "\n",
       "        if (!name) {\n",
       "            /* Instead of a spacer, we start a new button group. */\n",
       "            if (buttonGroup.hasChildNodes()) {\n",
       "                toolbar.appendChild(buttonGroup);\n",
       "            }\n",
       "            buttonGroup = document.createElement('div');\n",
       "            buttonGroup.classList = 'mpl-button-group';\n",
       "            continue;\n",
       "        }\n",
       "\n",
       "        var button = (fig.buttons[name] = document.createElement('button'));\n",
       "        button.classList = 'mpl-widget';\n",
       "        button.setAttribute('role', 'button');\n",
       "        button.setAttribute('aria-disabled', 'false');\n",
       "        button.addEventListener('click', on_click_closure(method_name));\n",
       "        button.addEventListener('mouseover', on_mouseover_closure(tooltip));\n",
       "\n",
       "        var icon_img = document.createElement('img');\n",
       "        icon_img.src = '_images/' + image + '.png';\n",
       "        icon_img.srcset = '_images/' + image + '_large.png 2x';\n",
       "        icon_img.alt = tooltip;\n",
       "        button.appendChild(icon_img);\n",
       "\n",
       "        buttonGroup.appendChild(button);\n",
       "    }\n",
       "\n",
       "    if (buttonGroup.hasChildNodes()) {\n",
       "        toolbar.appendChild(buttonGroup);\n",
       "    }\n",
       "\n",
       "    var fmt_picker = document.createElement('select');\n",
       "    fmt_picker.classList = 'mpl-widget';\n",
       "    toolbar.appendChild(fmt_picker);\n",
       "    this.format_dropdown = fmt_picker;\n",
       "\n",
       "    for (var ind in mpl.extensions) {\n",
       "        var fmt = mpl.extensions[ind];\n",
       "        var option = document.createElement('option');\n",
       "        option.selected = fmt === mpl.default_extension;\n",
       "        option.innerHTML = fmt;\n",
       "        fmt_picker.appendChild(option);\n",
       "    }\n",
       "\n",
       "    var status_bar = document.createElement('span');\n",
       "    status_bar.classList = 'mpl-message';\n",
       "    toolbar.appendChild(status_bar);\n",
       "    this.message = status_bar;\n",
       "};\n",
       "\n",
       "mpl.figure.prototype.request_resize = function (x_pixels, y_pixels) {\n",
       "    // Request matplotlib to resize the figure. Matplotlib will then trigger a resize in the client,\n",
       "    // which will in turn request a refresh of the image.\n",
       "    this.send_message('resize', { width: x_pixels, height: y_pixels });\n",
       "};\n",
       "\n",
       "mpl.figure.prototype.send_message = function (type, properties) {\n",
       "    properties['type'] = type;\n",
       "    properties['figure_id'] = this.id;\n",
       "    this.ws.send(JSON.stringify(properties));\n",
       "};\n",
       "\n",
       "mpl.figure.prototype.send_draw_message = function () {\n",
       "    if (!this.waiting) {\n",
       "        this.waiting = true;\n",
       "        this.ws.send(JSON.stringify({ type: 'draw', figure_id: this.id }));\n",
       "    }\n",
       "};\n",
       "\n",
       "mpl.figure.prototype.handle_save = function (fig, _msg) {\n",
       "    var format_dropdown = fig.format_dropdown;\n",
       "    var format = format_dropdown.options[format_dropdown.selectedIndex].value;\n",
       "    fig.ondownload(fig, format);\n",
       "};\n",
       "\n",
       "mpl.figure.prototype.handle_resize = function (fig, msg) {\n",
       "    var size = msg['size'];\n",
       "    if (size[0] !== fig.canvas.width || size[1] !== fig.canvas.height) {\n",
       "        fig._resize_canvas(size[0], size[1], msg['forward']);\n",
       "        fig.send_message('refresh', {});\n",
       "    }\n",
       "};\n",
       "\n",
       "mpl.figure.prototype.handle_rubberband = function (fig, msg) {\n",
       "    var x0 = msg['x0'] / fig.ratio;\n",
       "    var y0 = (fig.canvas.height - msg['y0']) / fig.ratio;\n",
       "    var x1 = msg['x1'] / fig.ratio;\n",
       "    var y1 = (fig.canvas.height - msg['y1']) / fig.ratio;\n",
       "    x0 = Math.floor(x0) + 0.5;\n",
       "    y0 = Math.floor(y0) + 0.5;\n",
       "    x1 = Math.floor(x1) + 0.5;\n",
       "    y1 = Math.floor(y1) + 0.5;\n",
       "    var min_x = Math.min(x0, x1);\n",
       "    var min_y = Math.min(y0, y1);\n",
       "    var width = Math.abs(x1 - x0);\n",
       "    var height = Math.abs(y1 - y0);\n",
       "\n",
       "    fig.rubberband_context.clearRect(\n",
       "        0,\n",
       "        0,\n",
       "        fig.canvas.width / fig.ratio,\n",
       "        fig.canvas.height / fig.ratio\n",
       "    );\n",
       "\n",
       "    fig.rubberband_context.strokeRect(min_x, min_y, width, height);\n",
       "};\n",
       "\n",
       "mpl.figure.prototype.handle_figure_label = function (fig, msg) {\n",
       "    // Updates the figure title.\n",
       "    fig.header.textContent = msg['label'];\n",
       "};\n",
       "\n",
       "mpl.figure.prototype.handle_cursor = function (fig, msg) {\n",
       "    fig.canvas_div.style.cursor = msg['cursor'];\n",
       "};\n",
       "\n",
       "mpl.figure.prototype.handle_message = function (fig, msg) {\n",
       "    fig.message.textContent = msg['message'];\n",
       "};\n",
       "\n",
       "mpl.figure.prototype.handle_draw = function (fig, _msg) {\n",
       "    // Request the server to send over a new figure.\n",
       "    fig.send_draw_message();\n",
       "};\n",
       "\n",
       "mpl.figure.prototype.handle_image_mode = function (fig, msg) {\n",
       "    fig.image_mode = msg['mode'];\n",
       "};\n",
       "\n",
       "mpl.figure.prototype.handle_history_buttons = function (fig, msg) {\n",
       "    for (var key in msg) {\n",
       "        if (!(key in fig.buttons)) {\n",
       "            continue;\n",
       "        }\n",
       "        fig.buttons[key].disabled = !msg[key];\n",
       "        fig.buttons[key].setAttribute('aria-disabled', !msg[key]);\n",
       "    }\n",
       "};\n",
       "\n",
       "mpl.figure.prototype.handle_navigate_mode = function (fig, msg) {\n",
       "    if (msg['mode'] === 'PAN') {\n",
       "        fig.buttons['Pan'].classList.add('active');\n",
       "        fig.buttons['Zoom'].classList.remove('active');\n",
       "    } else if (msg['mode'] === 'ZOOM') {\n",
       "        fig.buttons['Pan'].classList.remove('active');\n",
       "        fig.buttons['Zoom'].classList.add('active');\n",
       "    } else {\n",
       "        fig.buttons['Pan'].classList.remove('active');\n",
       "        fig.buttons['Zoom'].classList.remove('active');\n",
       "    }\n",
       "};\n",
       "\n",
       "mpl.figure.prototype.updated_canvas_event = function () {\n",
       "    // Called whenever the canvas gets updated.\n",
       "    this.send_message('ack', {});\n",
       "};\n",
       "\n",
       "// A function to construct a web socket function for onmessage handling.\n",
       "// Called in the figure constructor.\n",
       "mpl.figure.prototype._make_on_message_function = function (fig) {\n",
       "    return function socket_on_message(evt) {\n",
       "        if (evt.data instanceof Blob) {\n",
       "            var img = evt.data;\n",
       "            if (img.type !== 'image/png') {\n",
       "                /* FIXME: We get \"Resource interpreted as Image but\n",
       "                 * transferred with MIME type text/plain:\" errors on\n",
       "                 * Chrome.  But how to set the MIME type?  It doesn't seem\n",
       "                 * to be part of the websocket stream */\n",
       "                img.type = 'image/png';\n",
       "            }\n",
       "\n",
       "            /* Free the memory for the previous frames */\n",
       "            if (fig.imageObj.src) {\n",
       "                (window.URL || window.webkitURL).revokeObjectURL(\n",
       "                    fig.imageObj.src\n",
       "                );\n",
       "            }\n",
       "\n",
       "            fig.imageObj.src = (window.URL || window.webkitURL).createObjectURL(\n",
       "                img\n",
       "            );\n",
       "            fig.updated_canvas_event();\n",
       "            fig.waiting = false;\n",
       "            return;\n",
       "        } else if (\n",
       "            typeof evt.data === 'string' &&\n",
       "            evt.data.slice(0, 21) === 'data:image/png;base64'\n",
       "        ) {\n",
       "            fig.imageObj.src = evt.data;\n",
       "            fig.updated_canvas_event();\n",
       "            fig.waiting = false;\n",
       "            return;\n",
       "        }\n",
       "\n",
       "        var msg = JSON.parse(evt.data);\n",
       "        var msg_type = msg['type'];\n",
       "\n",
       "        // Call the  \"handle_{type}\" callback, which takes\n",
       "        // the figure and JSON message as its only arguments.\n",
       "        try {\n",
       "            var callback = fig['handle_' + msg_type];\n",
       "        } catch (e) {\n",
       "            console.log(\n",
       "                \"No handler for the '\" + msg_type + \"' message type: \",\n",
       "                msg\n",
       "            );\n",
       "            return;\n",
       "        }\n",
       "\n",
       "        if (callback) {\n",
       "            try {\n",
       "                // console.log(\"Handling '\" + msg_type + \"' message: \", msg);\n",
       "                callback(fig, msg);\n",
       "            } catch (e) {\n",
       "                console.log(\n",
       "                    \"Exception inside the 'handler_\" + msg_type + \"' callback:\",\n",
       "                    e,\n",
       "                    e.stack,\n",
       "                    msg\n",
       "                );\n",
       "            }\n",
       "        }\n",
       "    };\n",
       "};\n",
       "\n",
       "\n",
       "/*\n",
       " * return a copy of an object with only non-object keys\n",
       " * we need this to avoid circular references\n",
       " * https://stackoverflow.com/a/24161582/3208463\n",
       " */\n",
       "function simpleKeys(original) {\n",
       "    return Object.keys(original).reduce(function (obj, key) {\n",
       "        if (typeof original[key] !== 'object') {\n",
       "            obj[key] = original[key];\n",
       "        }\n",
       "        return obj;\n",
       "    }, {});\n",
       "}\n",
       "\n",
       "mpl.figure.prototype.mouse_event = function (event, name) {\n",
       "    if (name === 'button_press') {\n",
       "        this.canvas.focus();\n",
       "        this.canvas_div.focus();\n",
       "    }\n",
       "\n",
       "    // from https://stackoverflow.com/q/1114465\n",
       "    var boundingRect = this.canvas.getBoundingClientRect();\n",
       "    var x = (event.clientX - boundingRect.left) * this.ratio;\n",
       "    var y = (event.clientY - boundingRect.top) * this.ratio;\n",
       "\n",
       "    this.send_message(name, {\n",
       "        x: x,\n",
       "        y: y,\n",
       "        button: event.button,\n",
       "        step: event.step,\n",
       "        guiEvent: simpleKeys(event),\n",
       "    });\n",
       "\n",
       "    return false;\n",
       "};\n",
       "\n",
       "mpl.figure.prototype._key_event_extra = function (_event, _name) {\n",
       "    // Handle any extra behaviour associated with a key event\n",
       "};\n",
       "\n",
       "mpl.figure.prototype.key_event = function (event, name) {\n",
       "    // Prevent repeat events\n",
       "    if (name === 'key_press') {\n",
       "        if (event.key === this._key) {\n",
       "            return;\n",
       "        } else {\n",
       "            this._key = event.key;\n",
       "        }\n",
       "    }\n",
       "    if (name === 'key_release') {\n",
       "        this._key = null;\n",
       "    }\n",
       "\n",
       "    var value = '';\n",
       "    if (event.ctrlKey && event.key !== 'Control') {\n",
       "        value += 'ctrl+';\n",
       "    }\n",
       "    else if (event.altKey && event.key !== 'Alt') {\n",
       "        value += 'alt+';\n",
       "    }\n",
       "    else if (event.shiftKey && event.key !== 'Shift') {\n",
       "        value += 'shift+';\n",
       "    }\n",
       "\n",
       "    value += 'k' + event.key;\n",
       "\n",
       "    this._key_event_extra(event, name);\n",
       "\n",
       "    this.send_message(name, { key: value, guiEvent: simpleKeys(event) });\n",
       "    return false;\n",
       "};\n",
       "\n",
       "mpl.figure.prototype.toolbar_button_onclick = function (name) {\n",
       "    if (name === 'download') {\n",
       "        this.handle_save(this, null);\n",
       "    } else {\n",
       "        this.send_message('toolbar_button', { name: name });\n",
       "    }\n",
       "};\n",
       "\n",
       "mpl.figure.prototype.toolbar_button_onmouseover = function (tooltip) {\n",
       "    this.message.textContent = tooltip;\n",
       "};\n",
       "\n",
       "///////////////// REMAINING CONTENT GENERATED BY embed_js.py /////////////////\n",
       "// prettier-ignore\n",
       "var _JSXTOOLS_RESIZE_OBSERVER=function(A){var t,i=new WeakMap,n=new WeakMap,a=new WeakMap,r=new WeakMap,o=new Set;function s(e){if(!(this instanceof s))throw new TypeError(\"Constructor requires 'new' operator\");i.set(this,e)}function h(){throw new TypeError(\"Function is not a constructor\")}function c(e,t,i,n){e=0 in arguments?Number(arguments[0]):0,t=1 in arguments?Number(arguments[1]):0,i=2 in arguments?Number(arguments[2]):0,n=3 in arguments?Number(arguments[3]):0,this.right=(this.x=this.left=e)+(this.width=i),this.bottom=(this.y=this.top=t)+(this.height=n),Object.freeze(this)}function d(){t=requestAnimationFrame(d);var s=new WeakMap,p=new Set;o.forEach((function(t){r.get(t).forEach((function(i){var r=t instanceof window.SVGElement,o=a.get(t),d=r?0:parseFloat(o.paddingTop),f=r?0:parseFloat(o.paddingRight),l=r?0:parseFloat(o.paddingBottom),u=r?0:parseFloat(o.paddingLeft),g=r?0:parseFloat(o.borderTopWidth),m=r?0:parseFloat(o.borderRightWidth),w=r?0:parseFloat(o.borderBottomWidth),b=u+f,F=d+l,v=(r?0:parseFloat(o.borderLeftWidth))+m,W=g+w,y=r?0:t.offsetHeight-W-t.clientHeight,E=r?0:t.offsetWidth-v-t.clientWidth,R=b+v,z=F+W,M=r?t.width:parseFloat(o.width)-R-E,O=r?t.height:parseFloat(o.height)-z-y;if(n.has(t)){var k=n.get(t);if(k[0]===M&&k[1]===O)return}n.set(t,[M,O]);var S=Object.create(h.prototype);S.target=t,S.contentRect=new c(u,d,M,O),s.has(i)||(s.set(i,[]),p.add(i)),s.get(i).push(S)}))})),p.forEach((function(e){i.get(e).call(e,s.get(e),e)}))}return s.prototype.observe=function(i){if(i instanceof window.Element){r.has(i)||(r.set(i,new Set),o.add(i),a.set(i,window.getComputedStyle(i)));var n=r.get(i);n.has(this)||n.add(this),cancelAnimationFrame(t),t=requestAnimationFrame(d)}},s.prototype.unobserve=function(i){if(i instanceof window.Element&&r.has(i)){var n=r.get(i);n.has(this)&&(n.delete(this),n.size||(r.delete(i),o.delete(i))),n.size||r.delete(i),o.size||cancelAnimationFrame(t)}},A.DOMRectReadOnly=c,A.ResizeObserver=s,A.ResizeObserverEntry=h,A}; // eslint-disable-line\n",
       "mpl.toolbar_items = [[\"Home\", \"Reset original view\", \"fa fa-home\", \"home\"], [\"Back\", \"Back to previous view\", \"fa fa-arrow-left\", \"back\"], [\"Forward\", \"Forward to next view\", \"fa fa-arrow-right\", \"forward\"], [\"\", \"\", \"\", \"\"], [\"Pan\", \"Left button pans, Right button zooms\\nx/y fixes axis, CTRL fixes aspect\", \"fa fa-arrows\", \"pan\"], [\"Zoom\", \"Zoom to rectangle\\nx/y fixes axis\", \"fa fa-square-o\", \"zoom\"], [\"\", \"\", \"\", \"\"], [\"Download\", \"Download plot\", \"fa fa-floppy-o\", \"download\"]];\n",
       "\n",
       "mpl.extensions = [\"eps\", \"jpeg\", \"pgf\", \"pdf\", \"png\", \"ps\", \"raw\", \"svg\", \"tif\", \"webp\"];\n",
       "\n",
       "mpl.default_extension = \"png\";/* global mpl */\n",
       "\n",
       "var comm_websocket_adapter = function (comm) {\n",
       "    // Create a \"websocket\"-like object which calls the given IPython comm\n",
       "    // object with the appropriate methods. Currently this is a non binary\n",
       "    // socket, so there is still some room for performance tuning.\n",
       "    var ws = {};\n",
       "\n",
       "    ws.binaryType = comm.kernel.ws.binaryType;\n",
       "    ws.readyState = comm.kernel.ws.readyState;\n",
       "    function updateReadyState(_event) {\n",
       "        if (comm.kernel.ws) {\n",
       "            ws.readyState = comm.kernel.ws.readyState;\n",
       "        } else {\n",
       "            ws.readyState = 3; // Closed state.\n",
       "        }\n",
       "    }\n",
       "    comm.kernel.ws.addEventListener('open', updateReadyState);\n",
       "    comm.kernel.ws.addEventListener('close', updateReadyState);\n",
       "    comm.kernel.ws.addEventListener('error', updateReadyState);\n",
       "\n",
       "    ws.close = function () {\n",
       "        comm.close();\n",
       "    };\n",
       "    ws.send = function (m) {\n",
       "        //console.log('sending', m);\n",
       "        comm.send(m);\n",
       "    };\n",
       "    // Register the callback with on_msg.\n",
       "    comm.on_msg(function (msg) {\n",
       "        //console.log('receiving', msg['content']['data'], msg);\n",
       "        var data = msg['content']['data'];\n",
       "        if (data['blob'] !== undefined) {\n",
       "            data = {\n",
       "                data: new Blob(msg['buffers'], { type: data['blob'] }),\n",
       "            };\n",
       "        }\n",
       "        // Pass the mpl event to the overridden (by mpl) onmessage function.\n",
       "        ws.onmessage(data);\n",
       "    });\n",
       "    return ws;\n",
       "};\n",
       "\n",
       "mpl.mpl_figure_comm = function (comm, msg) {\n",
       "    // This is the function which gets called when the mpl process\n",
       "    // starts-up an IPython Comm through the \"matplotlib\" channel.\n",
       "\n",
       "    var id = msg.content.data.id;\n",
       "    // Get hold of the div created by the display call when the Comm\n",
       "    // socket was opened in Python.\n",
       "    var element = document.getElementById(id);\n",
       "    var ws_proxy = comm_websocket_adapter(comm);\n",
       "\n",
       "    function ondownload(figure, _format) {\n",
       "        window.open(figure.canvas.toDataURL());\n",
       "    }\n",
       "\n",
       "    var fig = new mpl.figure(id, ws_proxy, ondownload, element);\n",
       "\n",
       "    // Call onopen now - mpl needs it, as it is assuming we've passed it a real\n",
       "    // web socket which is closed, not our websocket->open comm proxy.\n",
       "    ws_proxy.onopen();\n",
       "\n",
       "    fig.parent_element = element;\n",
       "    fig.cell_info = mpl.find_output_cell(\"<div id='\" + id + \"'></div>\");\n",
       "    if (!fig.cell_info) {\n",
       "        console.error('Failed to find cell for figure', id, fig);\n",
       "        return;\n",
       "    }\n",
       "    fig.cell_info[0].output_area.element.on(\n",
       "        'cleared',\n",
       "        { fig: fig },\n",
       "        fig._remove_fig_handler\n",
       "    );\n",
       "};\n",
       "\n",
       "mpl.figure.prototype.handle_close = function (fig, msg) {\n",
       "    var width = fig.canvas.width / fig.ratio;\n",
       "    fig.cell_info[0].output_area.element.off(\n",
       "        'cleared',\n",
       "        fig._remove_fig_handler\n",
       "    );\n",
       "    fig.resizeObserverInstance.unobserve(fig.canvas_div);\n",
       "\n",
       "    // Update the output cell to use the data from the current canvas.\n",
       "    fig.push_to_output();\n",
       "    var dataURL = fig.canvas.toDataURL();\n",
       "    // Re-enable the keyboard manager in IPython - without this line, in FF,\n",
       "    // the notebook keyboard shortcuts fail.\n",
       "    IPython.keyboard_manager.enable();\n",
       "    fig.parent_element.innerHTML =\n",
       "        '<img src=\"' + dataURL + '\" width=\"' + width + '\">';\n",
       "    fig.close_ws(fig, msg);\n",
       "};\n",
       "\n",
       "mpl.figure.prototype.close_ws = function (fig, msg) {\n",
       "    fig.send_message('closing', msg);\n",
       "    // fig.ws.close()\n",
       "};\n",
       "\n",
       "mpl.figure.prototype.push_to_output = function (_remove_interactive) {\n",
       "    // Turn the data on the canvas into data in the output cell.\n",
       "    var width = this.canvas.width / this.ratio;\n",
       "    var dataURL = this.canvas.toDataURL();\n",
       "    this.cell_info[1]['text/html'] =\n",
       "        '<img src=\"' + dataURL + '\" width=\"' + width + '\">';\n",
       "};\n",
       "\n",
       "mpl.figure.prototype.updated_canvas_event = function () {\n",
       "    // Tell IPython that the notebook contents must change.\n",
       "    IPython.notebook.set_dirty(true);\n",
       "    this.send_message('ack', {});\n",
       "    var fig = this;\n",
       "    // Wait a second, then push the new image to the DOM so\n",
       "    // that it is saved nicely (might be nice to debounce this).\n",
       "    setTimeout(function () {\n",
       "        fig.push_to_output();\n",
       "    }, 1000);\n",
       "};\n",
       "\n",
       "mpl.figure.prototype._init_toolbar = function () {\n",
       "    var fig = this;\n",
       "\n",
       "    var toolbar = document.createElement('div');\n",
       "    toolbar.classList = 'btn-toolbar';\n",
       "    this.root.appendChild(toolbar);\n",
       "\n",
       "    function on_click_closure(name) {\n",
       "        return function (_event) {\n",
       "            return fig.toolbar_button_onclick(name);\n",
       "        };\n",
       "    }\n",
       "\n",
       "    function on_mouseover_closure(tooltip) {\n",
       "        return function (event) {\n",
       "            if (!event.currentTarget.disabled) {\n",
       "                return fig.toolbar_button_onmouseover(tooltip);\n",
       "            }\n",
       "        };\n",
       "    }\n",
       "\n",
       "    fig.buttons = {};\n",
       "    var buttonGroup = document.createElement('div');\n",
       "    buttonGroup.classList = 'btn-group';\n",
       "    var button;\n",
       "    for (var toolbar_ind in mpl.toolbar_items) {\n",
       "        var name = mpl.toolbar_items[toolbar_ind][0];\n",
       "        var tooltip = mpl.toolbar_items[toolbar_ind][1];\n",
       "        var image = mpl.toolbar_items[toolbar_ind][2];\n",
       "        var method_name = mpl.toolbar_items[toolbar_ind][3];\n",
       "\n",
       "        if (!name) {\n",
       "            /* Instead of a spacer, we start a new button group. */\n",
       "            if (buttonGroup.hasChildNodes()) {\n",
       "                toolbar.appendChild(buttonGroup);\n",
       "            }\n",
       "            buttonGroup = document.createElement('div');\n",
       "            buttonGroup.classList = 'btn-group';\n",
       "            continue;\n",
       "        }\n",
       "\n",
       "        button = fig.buttons[name] = document.createElement('button');\n",
       "        button.classList = 'btn btn-default';\n",
       "        button.href = '#';\n",
       "        button.title = name;\n",
       "        button.innerHTML = '<i class=\"fa ' + image + ' fa-lg\"></i>';\n",
       "        button.addEventListener('click', on_click_closure(method_name));\n",
       "        button.addEventListener('mouseover', on_mouseover_closure(tooltip));\n",
       "        buttonGroup.appendChild(button);\n",
       "    }\n",
       "\n",
       "    if (buttonGroup.hasChildNodes()) {\n",
       "        toolbar.appendChild(buttonGroup);\n",
       "    }\n",
       "\n",
       "    // Add the status bar.\n",
       "    var status_bar = document.createElement('span');\n",
       "    status_bar.classList = 'mpl-message pull-right';\n",
       "    toolbar.appendChild(status_bar);\n",
       "    this.message = status_bar;\n",
       "\n",
       "    // Add the close button to the window.\n",
       "    var buttongrp = document.createElement('div');\n",
       "    buttongrp.classList = 'btn-group inline pull-right';\n",
       "    button = document.createElement('button');\n",
       "    button.classList = 'btn btn-mini btn-primary';\n",
       "    button.href = '#';\n",
       "    button.title = 'Stop Interaction';\n",
       "    button.innerHTML = '<i class=\"fa fa-power-off icon-remove icon-large\"></i>';\n",
       "    button.addEventListener('click', function (_evt) {\n",
       "        fig.handle_close(fig, {});\n",
       "    });\n",
       "    button.addEventListener(\n",
       "        'mouseover',\n",
       "        on_mouseover_closure('Stop Interaction')\n",
       "    );\n",
       "    buttongrp.appendChild(button);\n",
       "    var titlebar = this.root.querySelector('.ui-dialog-titlebar');\n",
       "    titlebar.insertBefore(buttongrp, titlebar.firstChild);\n",
       "};\n",
       "\n",
       "mpl.figure.prototype._remove_fig_handler = function (event) {\n",
       "    var fig = event.data.fig;\n",
       "    if (event.target !== this) {\n",
       "        // Ignore bubbled events from children.\n",
       "        return;\n",
       "    }\n",
       "    fig.close_ws(fig, {});\n",
       "};\n",
       "\n",
       "mpl.figure.prototype._root_extra_style = function (el) {\n",
       "    el.style.boxSizing = 'content-box'; // override notebook setting of border-box.\n",
       "};\n",
       "\n",
       "mpl.figure.prototype._canvas_extra_style = function (el) {\n",
       "    // this is important to make the div 'focusable\n",
       "    el.setAttribute('tabindex', 0);\n",
       "    // reach out to IPython and tell the keyboard manager to turn it's self\n",
       "    // off when our div gets focus\n",
       "\n",
       "    // location in version 3\n",
       "    if (IPython.notebook.keyboard_manager) {\n",
       "        IPython.notebook.keyboard_manager.register_events(el);\n",
       "    } else {\n",
       "        // location in version 2\n",
       "        IPython.keyboard_manager.register_events(el);\n",
       "    }\n",
       "};\n",
       "\n",
       "mpl.figure.prototype._key_event_extra = function (event, _name) {\n",
       "    // Check for shift+enter\n",
       "    if (event.shiftKey && event.which === 13) {\n",
       "        this.canvas_div.blur();\n",
       "        // select the cell after this one\n",
       "        var index = IPython.notebook.find_cell_index(this.cell_info[0]);\n",
       "        IPython.notebook.select(index + 1);\n",
       "    }\n",
       "};\n",
       "\n",
       "mpl.figure.prototype.handle_save = function (fig, _msg) {\n",
       "    fig.ondownload(fig, null);\n",
       "};\n",
       "\n",
       "mpl.find_output_cell = function (html_output) {\n",
       "    // Return the cell and output element which can be found *uniquely* in the notebook.\n",
       "    // Note - this is a bit hacky, but it is done because the \"notebook_saving.Notebook\"\n",
       "    // IPython event is triggered only after the cells have been serialised, which for\n",
       "    // our purposes (turning an active figure into a static one), is too late.\n",
       "    var cells = IPython.notebook.get_cells();\n",
       "    var ncells = cells.length;\n",
       "    for (var i = 0; i < ncells; i++) {\n",
       "        var cell = cells[i];\n",
       "        if (cell.cell_type === 'code') {\n",
       "            for (var j = 0; j < cell.output_area.outputs.length; j++) {\n",
       "                var data = cell.output_area.outputs[j];\n",
       "                if (data.data) {\n",
       "                    // IPython >= 3 moved mimebundle to data attribute of output\n",
       "                    data = data.data;\n",
       "                }\n",
       "                if (data['text/html'] === html_output) {\n",
       "                    return [cell, data, j];\n",
       "                }\n",
       "            }\n",
       "        }\n",
       "    }\n",
       "};\n",
       "\n",
       "// Register the function which deals with the matplotlib target/channel.\n",
       "// The kernel may be null if the page has been refreshed.\n",
       "if (IPython.notebook.kernel !== null) {\n",
       "    IPython.notebook.kernel.comm_manager.register_target(\n",
       "        'matplotlib',\n",
       "        mpl.mpl_figure_comm\n",
       "    );\n",
       "}\n"
      ],
      "text/plain": [
       "<IPython.core.display.Javascript object>"
      ]
     },
     "metadata": {},
     "output_type": "display_data"
    },
    {
     "data": {
      "text/html": [
       "<img src=\"data:image/png;base64,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\" width=\"900\">"
      ],
      "text/plain": [
       "<IPython.core.display.HTML object>"
      ]
     },
     "metadata": {},
     "output_type": "display_data"
    }
   ],
   "source": [
    "colors = ['blue', 'orange', 'green', 'red', 'pink']\n",
    "fig, ax = plt.subplots()\n",
    "fig.set_size_inches(9, 4, forward=True)\n",
    "\n",
    "ax.set_xlim(xlims_lower[nr_of_experiment-1], xlims_upper[nr_of_experiment-1])\n",
    "ax.set_ylim(None, ylims_upper[nr_of_experiment-1])\n",
    "\n",
    "\n",
    "plt.xlabel('ppm', fontsize=15, labelpad=5)\n",
    "plt.ylabel('Relative intensity', fontsize=15, labelpad=10)\n",
    "\n",
    "for i, name in enumerate(names_components_up_to):\n",
    "    ax.plot(ppm, globals()[name], alpha=1.0, color = colors[i], \n",
    "            label=components_dictionary['experiment_'+str(nr_of_experiment)][i])\n",
    "    if i==0:\n",
    "        ax.fill_between(ppm, 0, globals()[name], color=colors[0], alpha=1.0)\n",
    "    else:\n",
    "        predecessor = name[:-1]+str(i)\n",
    "        ax.fill_between(ppm, globals()[predecessor] , globals()[name], color=colors[i], alpha=1.0)\n",
    "ax.plot(ppm, mix_without_noise, color='black', alpha=1.0, label='Mixture', linewidth=0.5)\n",
    "ax.legend(prop={'size': 12}, loc='upper right')\n",
    "plt.tight_layout()\n",
    "plt.savefig(os.getcwd()+'/spectra_visualisation/experiment'+str(nr_of_experiment)+'.jpg', dpi=300)"
   ]
  },
  {
   "cell_type": "code",
   "execution_count": 46,
   "id": "c5f29582",
   "metadata": {},
   "outputs": [
    {
     "data": {
      "text/plain": [
       "0.008558474192999977"
      ]
     },
     "execution_count": 46,
     "metadata": {},
     "output_type": "execute_result"
    }
   ],
   "source": [
    "estimation_vis['proportion_of_noise_in_theoretical']"
   ]
  },
  {
   "cell_type": "code",
   "execution_count": 47,
   "id": "06f95f58",
   "metadata": {},
   "outputs": [
    {
     "data": {
      "text/plain": [
       "0.07014028190800248"
      ]
     },
     "execution_count": 47,
     "metadata": {},
     "output_type": "execute_result"
    }
   ],
   "source": [
    "1-sum(estimation_vis['proportions'])"
   ]
  },
  {
   "cell_type": "code",
   "execution_count": 48,
   "id": "18220dfc",
   "metadata": {},
   "outputs": [
    {
     "data": {
      "text/plain": [
       "[0.43970247519399885, 0.49015724289799867]"
      ]
     },
     "execution_count": 48,
     "metadata": {},
     "output_type": "execute_result"
    }
   ],
   "source": [
    "estimation_vis['proportions']"
   ]
  },
  {
   "cell_type": "code",
   "execution_count": null,
   "id": "8c3969b2",
   "metadata": {},
   "outputs": [],
   "source": []
  }
 ],
 "metadata": {
  "kernelspec": {
   "display_name": "Python 3 (ipykernel)",
   "language": "python",
   "name": "python3"
  },
  "language_info": {
   "codemirror_mode": {
    "name": "ipython",
    "version": 3
   },
   "file_extension": ".py",
   "mimetype": "text/x-python",
   "name": "python",
   "nbconvert_exporter": "python",
   "pygments_lexer": "ipython3",
   "version": "3.10.6"
  }
 },
 "nbformat": 4,
 "nbformat_minor": 5
}
