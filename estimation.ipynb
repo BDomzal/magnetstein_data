{
 "cells": [
  {
   "cell_type": "markdown",
   "id": "2278c778",
   "metadata": {},
   "source": [
    "### Settings & imports"
   ]
  },
  {
   "cell_type": "code",
   "execution_count": 1,
   "id": "52249722",
   "metadata": {},
   "outputs": [],
   "source": [
    "%matplotlib notebook"
   ]
  },
  {
   "cell_type": "code",
   "execution_count": 2,
   "id": "6af4ae0a",
   "metadata": {},
   "outputs": [],
   "source": [
    "import sys\n",
    "mypath = \"/home/basia/Documents/spectroscopy/wassersteinms\"\n",
    "sys.path.insert(0, mypath)\n",
    "import masserstein "
   ]
  },
  {
   "cell_type": "code",
   "execution_count": 3,
   "id": "55f0baff",
   "metadata": {},
   "outputs": [],
   "source": [
    "import os\n",
    "\n",
    "from masserstein import Spectrum, NMRSpectrum\n",
    "from masserstein import estimate_proportions\n",
    "\n",
    "from matplotlib import pyplot as plt\n",
    "\n",
    "import numpy as np\n",
    "\n",
    "import pulp\n",
    "\n",
    "import pickle\n",
    "\n",
    "import seaborn as sns\n",
    "from textwrap import wrap\n",
    "\n",
    "from pathlib import Path\n",
    "\n",
    "import pandas as pd\n",
    "\n",
    "import time"
   ]
  },
  {
   "cell_type": "code",
   "execution_count": 4,
   "id": "87bb9eea",
   "metadata": {},
   "outputs": [],
   "source": [
    "nr_of_experiment = 2"
   ]
  },
  {
   "cell_type": "markdown",
   "id": "e7c66ece",
   "metadata": {},
   "source": [
    "### Experiments data"
   ]
  },
  {
   "cell_type": "code",
   "execution_count": 5,
   "id": "8ac155e9",
   "metadata": {},
   "outputs": [],
   "source": [
    "components_dictionary = {'experiment_1': ['Pinene', 'Benzyl benzoate'],\n",
    "                        'experiment_2': ['Pinene', 'Limonene'],\n",
    "                        'experiment_7': ['Benzyl benzoate', 'm Anisaldehyde'],\n",
    "                        'experiment_3': ['Isopropyl myristate', 'Benzyl benzoate', 'Alpha pinene', 'Limonene'],\n",
    "                        'experiment_6': ['Pinene', 'Benzyl benzoate'],\n",
    "                        'experiment_5': ['Lactate', 'Alanine', 'Creatine', 'Creatinine', 'Choline chloride'],\n",
    "                        'experiment_9': ['Lactate', 'Alanine', 'Creatine', 'Creatinine', 'Choline chloride'],\n",
    "                        'experiment_4': ['Lactate', 'Alanine', 'Creatine', 'Creatinine', 'Choline chloride'],\n",
    "                        'experiment_8': ['Benzyl benzoate', 'm Anisaldehyde']}"
   ]
  },
  {
   "cell_type": "code",
   "execution_count": 6,
   "id": "dbafb3dd",
   "metadata": {},
   "outputs": [],
   "source": [
    "protons_dictionary = {'experiment_1': [16, 12],\n",
    "                        'experiment_2': [16, 16],\n",
    "                        'experiment_7': [12, 8],\n",
    "                        'experiment_3': [34, 12, 16, 16],\n",
    "                        'experiment_6': [16, 12],\n",
    "                        'experiment_5': [4, 4, 5, 5, 13],\n",
    "                        'experiment_9': [4, 4, 5, 5, 13],\n",
    "                        'experiment_4': [4, 4, 5, 5, 13],\n",
    "                        'experiment_8': [12, 8]}"
   ]
  },
  {
   "cell_type": "code",
   "execution_count": 7,
   "id": "703c5272",
   "metadata": {},
   "outputs": [],
   "source": [
    "ground_truth_molar_proportions = {'experiment_1': [0.09088457406472417, 0.9091154259352758],\n",
    "                                    'experiment_2': [0.505, 0.495],\n",
    "                                    'experiment_7': [0.8403875207510383, 0.1596124792489616],\n",
    "                                    'experiment_3': [0.7264578344443725, 0.10578603326645526, 0.081968804608116, 0.08578732768105625],\n",
    "                                    'experiment_6': [0.3865, 0.6135],\n",
    "                                    'experiment_5': [0.3022, 0.2240, 0.1253, 0.2028, 0.1457],\n",
    "                                    'experiment_9': [0.3022, 0.2240, 0.1253, 0.2028, 0.1457],\n",
    "                                    'experiment_4': [0.3022, 0.2240, 0.1253, 0.2028, 0.1457],\n",
    "                                    'experiment_8': [0.3702, 0.6298]}"
   ]
  },
  {
   "cell_type": "code",
   "execution_count": 8,
   "id": "2f07ffaf",
   "metadata": {},
   "outputs": [],
   "source": [
    "experiments_folders = {'experiment_1': 'experiment_1_intensity_difference',\n",
    "                        'experiment_6': 'experiment_6_miniperfumes',\n",
    "                        'experiment_5': 'experiment_5_metabolites',\n",
    "                         'experiment_7': 'experiment_7_overlapping_and_intensity_difference',\n",
    "                         'experiment_9': 'experiment_9_and_4_shim',\n",
    "                       'experiment_4': 'experiment_9_and_4_shim',\n",
    "                        'experiment_8': 'experiment_8_different_solvents',\n",
    "                        'experiment_3': 'experiment_3_perfumes_and_absent_components',\n",
    "                         'experiment_2': 'experiment_2_overlapping'}"
   ]
  },
  {
   "cell_type": "code",
   "execution_count": 9,
   "id": "5c15336b",
   "metadata": {},
   "outputs": [],
   "source": [
    "best_kappa_mix = [0.09, 0.05, 0.37, 0.11, 0.03, 0.06, 0.23, 0.2, 0.05]"
   ]
  },
  {
   "cell_type": "code",
   "execution_count": 10,
   "id": "53eb8b54",
   "metadata": {},
   "outputs": [],
   "source": [
    "best_kappa_model = [0.08, 0.01, 0.24, 0.02, 0.09, 0.2, 0.02, 0.29, 0.02]"
   ]
  },
  {
   "cell_type": "markdown",
   "id": "e84eddc3",
   "metadata": {},
   "source": [
    "### Loading the data"
   ]
  },
  {
   "cell_type": "code",
   "execution_count": 11,
   "id": "a16bd1b8",
   "metadata": {},
   "outputs": [],
   "source": [
    "if (nr_of_experiment != 9 and nr_of_experiment != 4):\n",
    "    filename = experiments_folders['experiment_' + str(nr_of_experiment)] + '/preprocessed_mix.csv'\n",
    "    mix = np.loadtxt(filename, delimiter=',')\n",
    "else:\n",
    "    filename = experiments_folders['experiment_' + str(nr_of_experiment)] + '/preprocessed_exp'+str(nr_of_experiment)+'_mix.csv'\n",
    "    mix = np.loadtxt(filename, delimiter=',')"
   ]
  },
  {
   "cell_type": "code",
   "execution_count": 12,
   "id": "67c8aeb3",
   "metadata": {},
   "outputs": [],
   "source": [
    "how_many_components = len(components_dictionary['experiment_'+str(nr_of_experiment)])\n",
    "names = ['comp' + str(i) for i in range(how_many_components)]"
   ]
  },
  {
   "cell_type": "code",
   "execution_count": 13,
   "id": "4d402de1",
   "metadata": {},
   "outputs": [],
   "source": [
    "spectra = []\n",
    "for i in range(how_many_components):\n",
    "    if (nr_of_experiment != 9 and nr_of_experiment != 4):\n",
    "        filename = experiments_folders['experiment_' + str(nr_of_experiment)] + \\\n",
    "                    '/preprocessed_comp' + str(i) + '.csv'\n",
    "        spectra.append(np.loadtxt(filename, delimiter=','))\n",
    "    else:\n",
    "        filename = experiments_folders['experiment_' + str(nr_of_experiment)] + \\\n",
    "                    '/preprocessed_exp'+str(nr_of_experiment)+ '_comp'+ str(i) + '.csv'\n",
    "        spectra.append(np.loadtxt(filename, delimiter=','))"
   ]
  },
  {
   "cell_type": "code",
   "execution_count": 14,
   "id": "f68d15b6",
   "metadata": {},
   "outputs": [],
   "source": [
    "spectra2 = []\n",
    "names = []\n",
    "for i in range(len(spectra)):\n",
    "    spectra2.append(NMRSpectrum(confs=list(zip(spectra[i][:,0], spectra[i][:,1])), \n",
    "                                protons=protons_dictionary['experiment_'+str(nr_of_experiment)][i]))\n",
    "    names.append('comp'+str(i))\n",
    "\n",
    "spectra = spectra2\n",
    "del(spectra2)\n",
    "mix = NMRSpectrum(confs=list(zip(mix[:,0], mix[:,1])))"
   ]
  },
  {
   "cell_type": "code",
   "execution_count": 15,
   "id": "066513a3",
   "metadata": {},
   "outputs": [],
   "source": [
    "for i, name in enumerate(names):\n",
    "    globals()[name] = spectra[i]"
   ]
  },
  {
   "cell_type": "code",
   "execution_count": 16,
   "id": "56905c27",
   "metadata": {},
   "outputs": [],
   "source": [
    "# mix.plot(profile=True)\n",
    "# for sp in spectra:\n",
    "#     sp.plot(profile=True)"
   ]
  },
  {
   "cell_type": "markdown",
   "id": "7a2b065d",
   "metadata": {},
   "source": [
    "### Estimation with default kappas"
   ]
  },
  {
   "cell_type": "code",
   "execution_count": 17,
   "id": "063f1c79",
   "metadata": {},
   "outputs": [],
   "source": [
    "# start_con = time.time()\n",
    "# estimation_molar = estimate_proportions(mix, spectra,\n",
    "#                                         MTD=0.25, \n",
    "#                                         MTD_th=0.25,\n",
    "#                                         verbose=True, solver=pulp.GUROBI(msg=False), \n",
    "#                                         what_to_compare='concentration')\n",
    "# stop_con = time.time()"
   ]
  },
  {
   "cell_type": "code",
   "execution_count": 18,
   "id": "754f5a71",
   "metadata": {},
   "outputs": [],
   "source": [
    "#estimation_molar['proportions']"
   ]
  },
  {
   "cell_type": "code",
   "execution_count": 19,
   "id": "bc7fbff3",
   "metadata": {},
   "outputs": [],
   "source": [
    "# #MTD = 0.25, MTD_th = 0.25\n",
    "\n",
    "# #1: 'Pinene', 'Benzyl benzoate'\n",
    "# 0.0936, 0.9064\n",
    "\n",
    "# #2: 'Pinene', 'Limonene'\n",
    "# 0.5236, 0.4764\n",
    "\n",
    "# #3: 'Isopropyl myristate', 'Benzyl benzoate', 'Alpha pinene', 'Limonene'\n",
    "# 0.7474, 0.1071, 0.0903, 0.0551\n",
    "\n",
    "# #4: 'Lactate', 'Alanine', 'Creatine', 'Creatinine', 'Choline chloride'\n",
    "# 0.3165, 0.2137, 0.1342, 0.1957, 0.1398\n",
    "\n",
    "# #5: 'Lactate', 'Alanine', 'Creatine', 'Creatinine', 'Choline chloride'\n",
    "# 0.3179, 0.2113, 0.1293, 0.2018, 0.1397\n",
    "\n",
    "# #6: 'Pinene', 'Benzyl benzoate'\n",
    "# 0.3930, 0.6070\n",
    "\n",
    "# #7: 'Benzyl benzoate', 'm Anisaldehyde'\n",
    "# 0.8429, 0.1571\n",
    "\n",
    "# #8: 'Benzyl benzoate', 'm Anisaldehyde'\n",
    "# 0.3761, 0.6239\n",
    "\n",
    "# #9: Lactate', 'Alanine', 'Creatine', 'Creatinine', 'Choline chloride'\n",
    "# 0.3180, 0.2125, 0.1335, 0.1965, 0.1395"
   ]
  },
  {
   "cell_type": "code",
   "execution_count": 20,
   "id": "d08ad642",
   "metadata": {},
   "outputs": [],
   "source": [
    "# #MTD = 0.25, MTD_th = 0.22\n",
    "\n",
    "# #1: 'Pinene', 'Benzyl benzoate'\n",
    "# 0.0937, 0.9063\n",
    "\n",
    "# #2: 'Pinene', 'Limonene'\n",
    "# 0.5240, 0.4760\n",
    "\n",
    "# #3: 'Isopropyl myristate', 'Benzyl benzoate', 'Alpha pinene', 'Limonene'\n",
    "# 0.7511, 0.1059, 0.0809, 0.0621\n",
    "\n",
    "# #4: 'Lactate', 'Alanine', 'Creatine', 'Creatinine', 'Choline chloride'\n",
    "# 0.3165, 0.2137, 0.1341, 0.1960, 0.1397\n",
    "\n",
    "# #5: 'Lactate', 'Alanine', 'Creatine', 'Creatinine', 'Choline chloride'\n",
    "# 0.3180, 0.2113, 0.1293, 0.2018, 0.1397\n",
    "\n",
    "# #6: 'Pinene', 'Benzyl benzoate'\n",
    "# 0.3931, 0.6069\n",
    "\n",
    "# #7: 'Benzyl benzoate', 'm Anisaldehyde'\n",
    "# 0.8428, 0.1572\n",
    "\n",
    "# #8: 'Benzyl benzoate', 'm Anisaldehyde'\n",
    "# 0.3762, 0.6238\n",
    "\n",
    "# #9: Lactate', 'Alanine', 'Creatine', 'Creatinine', 'Choline chloride'\n",
    "# 0.3180, 0.2125, 0.1333, 0.1967, 0.1395"
   ]
  },
  {
   "cell_type": "markdown",
   "id": "31df385c",
   "metadata": {},
   "source": [
    "### Estimation"
   ]
  },
  {
   "cell_type": "code",
   "execution_count": 21,
   "id": "d44ebf2f",
   "metadata": {},
   "outputs": [
    {
     "name": "stdout",
     "output_type": "stream",
     "text": [
      "Set parameter Username\n",
      "Academic license - for non-commercial use only - expires 2023-11-10\n"
     ]
    },
    {
     "name": "stderr",
     "output_type": "stream",
     "text": [
      "Initial filtering of formulas: 100%|██████████████| 2/2 [00:00<00:00, 63.37it/s]\n"
     ]
    },
    {
     "name": "stdout",
     "output_type": "stream",
     "text": [
      "Removed theoretical spectra due to no matching experimental peaks: []\n",
      "Envelope bounds: [(-1.97165, 13.9718, 0), (-1.97165, 13.9718, 1)]\n"
     ]
    },
    {
     "name": "stderr",
     "output_type": "stream",
     "text": [
      "Computing chunks: 100%|████████████████████████| 2/2 [00:00<00:00, 86480.49it/s]\n"
     ]
    },
    {
     "name": "stdout",
     "output_type": "stream",
     "text": [
      "Number of chunks: 1\n",
      "ChunkIDs: [0, 0]\n",
      "Chunk bounds: [(-2.0616499999999998, 14.0618)]\n"
     ]
    },
    {
     "name": "stderr",
     "output_type": "stream",
     "text": [
      "Splitting the experimental spectrum into chunks: 131072it [00:00, 3644556.35it/s]\n"
     ]
    },
    {
     "name": "stdout",
     "output_type": "stream",
     "text": [
      "Ion currents in chunks: [1.0000000000000042]\n"
     ]
    },
    {
     "name": "stderr",
     "output_type": "stream",
     "text": [
      "\r",
      "Deconvolving chunks:   0%|                                | 0/1 [00:00<?, ?it/s]"
     ]
    },
    {
     "name": "stdout",
     "output_type": "stream",
     "text": [
      "Deconvolving chunk 0\n"
     ]
    },
    {
     "name": "stderr",
     "output_type": "stream",
     "text": [
      "/home/basia/.local/lib/python3.10/site-packages/pulp/pulp.py:1352: UserWarning: Spaces are not permitted in the name. Converted to '_'\n",
      "  warnings.warn(\"Spaces are not permitted in the name. Converted to '_'\")\n",
      "Deconvolving chunks: 100%|███████████████████████| 1/1 [02:47<00:00, 167.99s/it]"
     ]
    },
    {
     "name": "stdout",
     "output_type": "stream",
     "text": [
      "Chunk %i deconvolution status: Optimal\n",
      "Signal proportion in experimental spectrum: 0.9891180058439999\n",
      "Noise proportion in experimental spectrum: 0.010881994155000015\n",
      "Total explanation: 0.9999999999989999\n",
      "Noise proportion in combination of theoretical spectra: 0.021767335575\n"
     ]
    },
    {
     "name": "stderr",
     "output_type": "stream",
     "text": [
      "\n"
     ]
    }
   ],
   "source": [
    "start_vis = time.time()\n",
    "estimation_vis = estimate_proportions(mix, spectra,\n",
    "                                        MTD=best_kappa_mix[nr_of_experiment-1], \n",
    "                                        MTD_th=best_kappa_model[nr_of_experiment-1],\n",
    "                                        verbose=True, solver=pulp.GUROBI(msg=False), \n",
    "                                        what_to_compare='area')\n",
    "stop_vis = time.time()"
   ]
  },
  {
   "cell_type": "code",
   "execution_count": 22,
   "id": "7c07657a",
   "metadata": {},
   "outputs": [
    {
     "name": "stdout",
     "output_type": "stream",
     "text": [
      "Estimation took 168.102774143219 seconds.\n"
     ]
    }
   ],
   "source": [
    "print('Estimation took '+ str(stop_vis-start_vis) + ' seconds.')"
   ]
  },
  {
   "cell_type": "code",
   "execution_count": 23,
   "id": "c58f7242",
   "metadata": {},
   "outputs": [
    {
     "data": {
      "text/plain": [
       "[0.11641497594500048, 0.8727030298990036]"
      ]
     },
     "execution_count": 23,
     "metadata": {},
     "output_type": "execute_result"
    }
   ],
   "source": [
    "estimation_vis['proportions']"
   ]
  },
  {
   "cell_type": "code",
   "execution_count": 24,
   "id": "f463c3dd",
   "metadata": {},
   "outputs": [
    {
     "data": {
      "text/plain": [
       "0.02176733557500009"
      ]
     },
     "execution_count": 24,
     "metadata": {},
     "output_type": "execute_result"
    }
   ],
   "source": [
    "estimation_vis['proportion_of_noise_in_theoretical']"
   ]
  },
  {
   "cell_type": "code",
   "execution_count": 25,
   "id": "ca73a54f",
   "metadata": {},
   "outputs": [
    {
     "name": "stderr",
     "output_type": "stream",
     "text": [
      "Initial filtering of formulas: 100%|██████████████| 2/2 [00:00<00:00, 62.84it/s]\n"
     ]
    },
    {
     "name": "stdout",
     "output_type": "stream",
     "text": [
      "Removed theoretical spectra due to no matching experimental peaks: []\n",
      "Envelope bounds: [(-1.97165, 13.9718, 0), (-1.97165, 13.9718, 1)]\n"
     ]
    },
    {
     "name": "stderr",
     "output_type": "stream",
     "text": [
      "Computing chunks: 100%|████████████████████████| 2/2 [00:00<00:00, 92182.51it/s]\n"
     ]
    },
    {
     "name": "stdout",
     "output_type": "stream",
     "text": [
      "Number of chunks: 1\n",
      "ChunkIDs: [0, 0]\n",
      "Chunk bounds: [(-2.0616499999999998, 14.0618)]\n"
     ]
    },
    {
     "name": "stderr",
     "output_type": "stream",
     "text": [
      "Splitting the experimental spectrum into chunks: 131072it [00:00, 3607866.11it/s]\n"
     ]
    },
    {
     "name": "stdout",
     "output_type": "stream",
     "text": [
      "Ion currents in chunks: [1.0000000000000042]\n"
     ]
    },
    {
     "name": "stderr",
     "output_type": "stream",
     "text": [
      "\r",
      "Deconvolving chunks:   0%|                                | 0/1 [00:00<?, ?it/s]"
     ]
    },
    {
     "name": "stdout",
     "output_type": "stream",
     "text": [
      "Deconvolving chunk 0\n"
     ]
    },
    {
     "name": "stderr",
     "output_type": "stream",
     "text": [
      "Deconvolving chunks: 100%|███████████████████████| 1/1 [02:47<00:00, 167.32s/it]"
     ]
    },
    {
     "name": "stdout",
     "output_type": "stream",
     "text": [
      "Chunk %i deconvolution status: Optimal\n",
      "Signal proportion in experimental spectrum: 0.9891180058439999\n",
      "Noise proportion in experimental spectrum: 0.010881994155000015\n",
      "Total explanation: 0.9999999999989999\n",
      "Noise proportion in combination of theoretical spectra: 0.021767335575\n"
     ]
    },
    {
     "name": "stderr",
     "output_type": "stream",
     "text": [
      "\n"
     ]
    }
   ],
   "source": [
    "start_con = time.time()\n",
    "estimation_molar = estimate_proportions(mix, spectra,\n",
    "                                        MTD=best_kappa_mix[nr_of_experiment-1], \n",
    "                                        MTD_th=best_kappa_model[nr_of_experiment-1],\n",
    "                                        verbose=True, solver=pulp.GUROBI(msg=False), \n",
    "                                        what_to_compare='concentration')\n",
    "stop_con = time.time()"
   ]
  },
  {
   "cell_type": "code",
   "execution_count": 26,
   "id": "655ff1b5",
   "metadata": {},
   "outputs": [
    {
     "name": "stdout",
     "output_type": "stream",
     "text": [
      "Estimation took 167.4535562992096 seconds.\n"
     ]
    }
   ],
   "source": [
    "print('Estimation took '+ str(stop_con-start_con) + ' seconds.')"
   ]
  },
  {
   "cell_type": "code",
   "execution_count": 27,
   "id": "354693e3",
   "metadata": {},
   "outputs": [
    {
     "data": {
      "text/plain": [
       "[0.09094784882652851, 0.9090521511734716]"
      ]
     },
     "execution_count": 27,
     "metadata": {},
     "output_type": "execute_result"
    }
   ],
   "source": [
    "estimation_molar['proportions']"
   ]
  },
  {
   "cell_type": "markdown",
   "id": "304c1464",
   "metadata": {},
   "source": [
    "### Saving estimation results"
   ]
  },
  {
   "cell_type": "code",
   "execution_count": 28,
   "id": "54ac2c19",
   "metadata": {},
   "outputs": [
    {
     "data": {
      "text/html": [
       "<div>\n",
       "<style scoped>\n",
       "    .dataframe tbody tr th:only-of-type {\n",
       "        vertical-align: middle;\n",
       "    }\n",
       "\n",
       "    .dataframe tbody tr th {\n",
       "        vertical-align: top;\n",
       "    }\n",
       "\n",
       "    .dataframe thead th {\n",
       "        text-align: right;\n",
       "    }\n",
       "</style>\n",
       "<table border=\"1\" class=\"dataframe\">\n",
       "  <thead>\n",
       "    <tr style=\"text-align: right;\">\n",
       "      <th></th>\n",
       "      <th>Pinene</th>\n",
       "      <th>Benzyl benzoate</th>\n",
       "    </tr>\n",
       "  </thead>\n",
       "  <tbody>\n",
       "    <tr>\n",
       "      <th>0</th>\n",
       "      <td>0.116415</td>\n",
       "      <td>0.872703</td>\n",
       "    </tr>\n",
       "  </tbody>\n",
       "</table>\n",
       "</div>"
      ],
      "text/plain": [
       "     Pinene  Benzyl benzoate\n",
       "0  0.116415         0.872703"
      ]
     },
     "execution_count": 28,
     "metadata": {},
     "output_type": "execute_result"
    }
   ],
   "source": [
    "res_vis = pd.DataFrame(np.array(estimation_vis['proportions']).reshape(1,-1), \n",
    "             columns = components_dictionary['experiment_'+str(nr_of_experiment)])\n",
    "res_vis"
   ]
  },
  {
   "cell_type": "code",
   "execution_count": 29,
   "id": "f7dbc5be",
   "metadata": {},
   "outputs": [
    {
     "data": {
      "text/html": [
       "<div>\n",
       "<style scoped>\n",
       "    .dataframe tbody tr th:only-of-type {\n",
       "        vertical-align: middle;\n",
       "    }\n",
       "\n",
       "    .dataframe tbody tr th {\n",
       "        vertical-align: top;\n",
       "    }\n",
       "\n",
       "    .dataframe thead th {\n",
       "        text-align: right;\n",
       "    }\n",
       "</style>\n",
       "<table border=\"1\" class=\"dataframe\">\n",
       "  <thead>\n",
       "    <tr style=\"text-align: right;\">\n",
       "      <th></th>\n",
       "      <th>Pinene</th>\n",
       "      <th>Benzyl benzoate</th>\n",
       "    </tr>\n",
       "  </thead>\n",
       "  <tbody>\n",
       "    <tr>\n",
       "      <th>0</th>\n",
       "      <td>0.090948</td>\n",
       "      <td>0.909052</td>\n",
       "    </tr>\n",
       "  </tbody>\n",
       "</table>\n",
       "</div>"
      ],
      "text/plain": [
       "     Pinene  Benzyl benzoate\n",
       "0  0.090948         0.909052"
      ]
     },
     "execution_count": 29,
     "metadata": {},
     "output_type": "execute_result"
    }
   ],
   "source": [
    "res_con = pd.DataFrame(np.array(estimation_molar['proportions']).reshape(1,-1), \n",
    "             columns = components_dictionary['experiment_'+str(nr_of_experiment)])\n",
    "res_con"
   ]
  },
  {
   "cell_type": "code",
   "execution_count": 30,
   "id": "a2cfc1d2",
   "metadata": {},
   "outputs": [],
   "source": [
    "# if (nr_of_experiment != 9 and nr_of_experiment != 4):\n",
    "#     res_vis.to_csv(experiments_folders['experiment_' + str(nr_of_experiment)]+\n",
    "#                    '/results_area.csv')\n",
    "# else:\n",
    "#     res_vis.to_csv(experiments_folders['experiment_' + str(nr_of_experiment)]+\n",
    "#                    '/results_area_exp'+str(nr_of_experiment)+'.csv')"
   ]
  },
  {
   "cell_type": "code",
   "execution_count": 31,
   "id": "15c18f10",
   "metadata": {},
   "outputs": [],
   "source": [
    "# if (nr_of_experiment != 9 and nr_of_experiment != 4):\n",
    "#     res_con.to_csv(experiments_folders['experiment_' + str(nr_of_experiment)]+\n",
    "#                '/results_concentration.csv')\n",
    "# else:\n",
    "#     res_con.to_csv(experiments_folders['experiment_' + str(nr_of_experiment)]+\n",
    "#                '/results_concentration_exp'+str(nr_of_experiment)+'.csv')"
   ]
  },
  {
   "cell_type": "markdown",
   "id": "cee5a55b",
   "metadata": {},
   "source": [
    "### Mixture vs linear combination of components (noise removed)"
   ]
  },
  {
   "cell_type": "code",
   "execution_count": 32,
   "id": "b35a6293",
   "metadata": {},
   "outputs": [],
   "source": [
    "ignore_negative = False"
   ]
  },
  {
   "cell_type": "code",
   "execution_count": 33,
   "id": "5c4477be",
   "metadata": {},
   "outputs": [],
   "source": [
    "def make_nonnegative(ints):\n",
    "    res_ints = ints\n",
    "    for col_nr in range(ints.shape[1]):\n",
    "        neg = ints[:,col_nr]<0\n",
    "        res_ints[:,col_nr][neg]=0\n",
    "    return(res_ints)"
   ]
  },
  {
   "cell_type": "markdown",
   "id": "7b3e6bac",
   "metadata": {},
   "source": [
    "#### Mix"
   ]
  },
  {
   "cell_type": "code",
   "execution_count": 34,
   "id": "d938786b",
   "metadata": {},
   "outputs": [],
   "source": [
    "ppm = np.array(mix.confs)[:,0]\n",
    "mix_ints = np.array(mix.confs)[:,1]"
   ]
  },
  {
   "cell_type": "code",
   "execution_count": 35,
   "id": "e49f6542",
   "metadata": {},
   "outputs": [],
   "source": [
    "mix_without_noise = NMRSpectrum(confs = list(zip(ppm, mix_ints - np.array(estimation_vis['noise']))))\n",
    "mix_without_noise = np.array(mix_without_noise.confs)[:,1]"
   ]
  },
  {
   "cell_type": "code",
   "execution_count": 36,
   "id": "41218d82",
   "metadata": {},
   "outputs": [],
   "source": [
    "if ignore_negative:\n",
    "    mix_without_noise = make_nonnegative(mix_without_noise.reshape(-1,1))"
   ]
  },
  {
   "cell_type": "code",
   "execution_count": 37,
   "id": "58ba1cea",
   "metadata": {},
   "outputs": [],
   "source": [
    "mix_without_noise = mix_without_noise/sum(mix_without_noise)"
   ]
  },
  {
   "cell_type": "markdown",
   "id": "a062a05d",
   "metadata": {},
   "source": [
    "#### Components"
   ]
  },
  {
   "cell_type": "code",
   "execution_count": 38,
   "id": "bff9eece",
   "metadata": {},
   "outputs": [],
   "source": [
    "components_ints = []\n",
    "for spectrum in spectra:\n",
    "    components_ints.append(np.array(spectrum.confs)[:,1])#.reshape(-1,1))"
   ]
  },
  {
   "cell_type": "code",
   "execution_count": 39,
   "id": "86e0b53a",
   "metadata": {},
   "outputs": [],
   "source": [
    "p = estimation_vis['proportions']\n",
    "p = np.array(p).reshape(len(p),1)"
   ]
  },
  {
   "cell_type": "code",
   "execution_count": 40,
   "id": "ec7c6d91",
   "metadata": {},
   "outputs": [],
   "source": [
    "names_components_up_to = ['sum_up_to_'+str(i+1) for i in range(len(spectra))]"
   ]
  },
  {
   "cell_type": "code",
   "execution_count": 41,
   "id": "cee5adc5",
   "metadata": {},
   "outputs": [],
   "source": [
    "components = [comp.reshape(-1,1) for comp in components_ints]\n",
    "components_no_scaling = np.concatenate(components, axis=1)\n",
    "components_scaled = components_no_scaling*p[:,0]"
   ]
  },
  {
   "cell_type": "code",
   "execution_count": 42,
   "id": "06ef63df",
   "metadata": {},
   "outputs": [
    {
     "name": "stderr",
     "output_type": "stream",
     "text": [
      "/tmp/ipykernel_39742/2062537961.py:1: RuntimeWarning: invalid value encountered in divide\n",
      "  proportions_point_by_point = (components_scaled/np.sum(components_scaled, axis=1).reshape(-1,1))\n"
     ]
    }
   ],
   "source": [
    "proportions_point_by_point = (components_scaled/np.sum(components_scaled, axis=1).reshape(-1,1))\n",
    "proportions_point_by_point = np.nan_to_num(proportions_point_by_point)\n",
    "noise_in_ref = np.array(estimation_vis['noise_in_theoretical']).reshape(-1,1)\n",
    "noise_split_for_components = proportions_point_by_point*noise_in_ref"
   ]
  },
  {
   "cell_type": "code",
   "execution_count": 43,
   "id": "d06e7972",
   "metadata": {},
   "outputs": [
    {
     "data": {
      "text/plain": [
       "True"
      ]
     },
     "execution_count": 43,
     "metadata": {},
     "output_type": "execute_result"
    }
   ],
   "source": [
    "(np.round(components_scaled-noise_split_for_components, decimals=5)>=0).all()"
   ]
  },
  {
   "cell_type": "code",
   "execution_count": 44,
   "id": "c3a37fa7",
   "metadata": {},
   "outputs": [],
   "source": [
    "X = components_scaled - noise_split_for_components"
   ]
  },
  {
   "cell_type": "code",
   "execution_count": 45,
   "id": "c7c5a100",
   "metadata": {},
   "outputs": [
    {
     "data": {
      "text/plain": [
       "True"
      ]
     },
     "execution_count": 45,
     "metadata": {},
     "output_type": "execute_result"
    }
   ],
   "source": [
    "(np.sum(X[:,:1], axis=1)==X[:,0]).all()"
   ]
  },
  {
   "cell_type": "code",
   "execution_count": 46,
   "id": "24612df2",
   "metadata": {},
   "outputs": [],
   "source": [
    "if ignore_negative:\n",
    "    X = make_nonnegative(X)"
   ]
  },
  {
   "cell_type": "code",
   "execution_count": 47,
   "id": "4116e7a4",
   "metadata": {},
   "outputs": [],
   "source": [
    "for i, name in enumerate(names_components_up_to):\n",
    "    #not_normalized = np.sum(X[:,:(i+1)], axis=1)\n",
    "    \n",
    "    globals()[name] = np.sum(X[:,:(i+1)], axis=1)"
   ]
  },
  {
   "cell_type": "code",
   "execution_count": 48,
   "id": "4cc24789",
   "metadata": {},
   "outputs": [],
   "source": [
    "xlims_lower = [1.55, 1.6, 4.4, 3.55, 3.55, 1.55, 7.3, 9.1, 3.55]\n",
    "xlims_upper = [2.45, 2.4, 7.8, 4.05, 4.05, 2.4, 7.6, 10.1, 4.05]\n",
    "ylims_lower = [-0.00005, -0.00005, -0.000025, -0.00005, -0.00005, -0.00005, -0.00005, -0.00005, -0.00005]\n",
    "ylims_upper = [0.00045, 0.0025, 0.00016, 0.0016, 0.0011, 0.0016, 0.0026, 0.0014, 0.0016]"
   ]
  },
  {
   "cell_type": "code",
   "execution_count": 49,
   "id": "b4281800",
   "metadata": {},
   "outputs": [
    {
     "data": {
      "application/javascript": [
       "/* Put everything inside the global mpl namespace */\n",
       "/* global mpl */\n",
       "window.mpl = {};\n",
       "\n",
       "mpl.get_websocket_type = function () {\n",
       "    if (typeof WebSocket !== 'undefined') {\n",
       "        return WebSocket;\n",
       "    } else if (typeof MozWebSocket !== 'undefined') {\n",
       "        return MozWebSocket;\n",
       "    } else {\n",
       "        alert(\n",
       "            'Your browser does not have WebSocket support. ' +\n",
       "                'Please try Chrome, Safari or Firefox ≥ 6. ' +\n",
       "                'Firefox 4 and 5 are also supported but you ' +\n",
       "                'have to enable WebSockets in about:config.'\n",
       "        );\n",
       "    }\n",
       "};\n",
       "\n",
       "mpl.figure = function (figure_id, websocket, ondownload, parent_element) {\n",
       "    this.id = figure_id;\n",
       "\n",
       "    this.ws = websocket;\n",
       "\n",
       "    this.supports_binary = this.ws.binaryType !== undefined;\n",
       "\n",
       "    if (!this.supports_binary) {\n",
       "        var warnings = document.getElementById('mpl-warnings');\n",
       "        if (warnings) {\n",
       "            warnings.style.display = 'block';\n",
       "            warnings.textContent =\n",
       "                'This browser does not support binary websocket messages. ' +\n",
       "                'Performance may be slow.';\n",
       "        }\n",
       "    }\n",
       "\n",
       "    this.imageObj = new Image();\n",
       "\n",
       "    this.context = undefined;\n",
       "    this.message = undefined;\n",
       "    this.canvas = undefined;\n",
       "    this.rubberband_canvas = undefined;\n",
       "    this.rubberband_context = undefined;\n",
       "    this.format_dropdown = undefined;\n",
       "\n",
       "    this.image_mode = 'full';\n",
       "\n",
       "    this.root = document.createElement('div');\n",
       "    this.root.setAttribute('style', 'display: inline-block');\n",
       "    this._root_extra_style(this.root);\n",
       "\n",
       "    parent_element.appendChild(this.root);\n",
       "\n",
       "    this._init_header(this);\n",
       "    this._init_canvas(this);\n",
       "    this._init_toolbar(this);\n",
       "\n",
       "    var fig = this;\n",
       "\n",
       "    this.waiting = false;\n",
       "\n",
       "    this.ws.onopen = function () {\n",
       "        fig.send_message('supports_binary', { value: fig.supports_binary });\n",
       "        fig.send_message('send_image_mode', {});\n",
       "        if (fig.ratio !== 1) {\n",
       "            fig.send_message('set_device_pixel_ratio', {\n",
       "                device_pixel_ratio: fig.ratio,\n",
       "            });\n",
       "        }\n",
       "        fig.send_message('refresh', {});\n",
       "    };\n",
       "\n",
       "    this.imageObj.onload = function () {\n",
       "        if (fig.image_mode === 'full') {\n",
       "            // Full images could contain transparency (where diff images\n",
       "            // almost always do), so we need to clear the canvas so that\n",
       "            // there is no ghosting.\n",
       "            fig.context.clearRect(0, 0, fig.canvas.width, fig.canvas.height);\n",
       "        }\n",
       "        fig.context.drawImage(fig.imageObj, 0, 0);\n",
       "    };\n",
       "\n",
       "    this.imageObj.onunload = function () {\n",
       "        fig.ws.close();\n",
       "    };\n",
       "\n",
       "    this.ws.onmessage = this._make_on_message_function(this);\n",
       "\n",
       "    this.ondownload = ondownload;\n",
       "};\n",
       "\n",
       "mpl.figure.prototype._init_header = function () {\n",
       "    var titlebar = document.createElement('div');\n",
       "    titlebar.classList =\n",
       "        'ui-dialog-titlebar ui-widget-header ui-corner-all ui-helper-clearfix';\n",
       "    var titletext = document.createElement('div');\n",
       "    titletext.classList = 'ui-dialog-title';\n",
       "    titletext.setAttribute(\n",
       "        'style',\n",
       "        'width: 100%; text-align: center; padding: 3px;'\n",
       "    );\n",
       "    titlebar.appendChild(titletext);\n",
       "    this.root.appendChild(titlebar);\n",
       "    this.header = titletext;\n",
       "};\n",
       "\n",
       "mpl.figure.prototype._canvas_extra_style = function (_canvas_div) {};\n",
       "\n",
       "mpl.figure.prototype._root_extra_style = function (_canvas_div) {};\n",
       "\n",
       "mpl.figure.prototype._init_canvas = function () {\n",
       "    var fig = this;\n",
       "\n",
       "    var canvas_div = (this.canvas_div = document.createElement('div'));\n",
       "    canvas_div.setAttribute('tabindex', '0');\n",
       "    canvas_div.setAttribute(\n",
       "        'style',\n",
       "        'border: 1px solid #ddd;' +\n",
       "            'box-sizing: content-box;' +\n",
       "            'clear: both;' +\n",
       "            'min-height: 1px;' +\n",
       "            'min-width: 1px;' +\n",
       "            'outline: 0;' +\n",
       "            'overflow: hidden;' +\n",
       "            'position: relative;' +\n",
       "            'resize: both;' +\n",
       "            'z-index: 2;'\n",
       "    );\n",
       "\n",
       "    function on_keyboard_event_closure(name) {\n",
       "        return function (event) {\n",
       "            return fig.key_event(event, name);\n",
       "        };\n",
       "    }\n",
       "\n",
       "    canvas_div.addEventListener(\n",
       "        'keydown',\n",
       "        on_keyboard_event_closure('key_press')\n",
       "    );\n",
       "    canvas_div.addEventListener(\n",
       "        'keyup',\n",
       "        on_keyboard_event_closure('key_release')\n",
       "    );\n",
       "\n",
       "    this._canvas_extra_style(canvas_div);\n",
       "    this.root.appendChild(canvas_div);\n",
       "\n",
       "    var canvas = (this.canvas = document.createElement('canvas'));\n",
       "    canvas.classList.add('mpl-canvas');\n",
       "    canvas.setAttribute(\n",
       "        'style',\n",
       "        'box-sizing: content-box;' +\n",
       "            'pointer-events: none;' +\n",
       "            'position: relative;' +\n",
       "            'z-index: 0;'\n",
       "    );\n",
       "\n",
       "    this.context = canvas.getContext('2d');\n",
       "\n",
       "    var backingStore =\n",
       "        this.context.backingStorePixelRatio ||\n",
       "        this.context.webkitBackingStorePixelRatio ||\n",
       "        this.context.mozBackingStorePixelRatio ||\n",
       "        this.context.msBackingStorePixelRatio ||\n",
       "        this.context.oBackingStorePixelRatio ||\n",
       "        this.context.backingStorePixelRatio ||\n",
       "        1;\n",
       "\n",
       "    this.ratio = (window.devicePixelRatio || 1) / backingStore;\n",
       "\n",
       "    var rubberband_canvas = (this.rubberband_canvas = document.createElement(\n",
       "        'canvas'\n",
       "    ));\n",
       "    rubberband_canvas.setAttribute(\n",
       "        'style',\n",
       "        'box-sizing: content-box;' +\n",
       "            'left: 0;' +\n",
       "            'pointer-events: none;' +\n",
       "            'position: absolute;' +\n",
       "            'top: 0;' +\n",
       "            'z-index: 1;'\n",
       "    );\n",
       "\n",
       "    // Apply a ponyfill if ResizeObserver is not implemented by browser.\n",
       "    if (this.ResizeObserver === undefined) {\n",
       "        if (window.ResizeObserver !== undefined) {\n",
       "            this.ResizeObserver = window.ResizeObserver;\n",
       "        } else {\n",
       "            var obs = _JSXTOOLS_RESIZE_OBSERVER({});\n",
       "            this.ResizeObserver = obs.ResizeObserver;\n",
       "        }\n",
       "    }\n",
       "\n",
       "    this.resizeObserverInstance = new this.ResizeObserver(function (entries) {\n",
       "        var nentries = entries.length;\n",
       "        for (var i = 0; i < nentries; i++) {\n",
       "            var entry = entries[i];\n",
       "            var width, height;\n",
       "            if (entry.contentBoxSize) {\n",
       "                if (entry.contentBoxSize instanceof Array) {\n",
       "                    // Chrome 84 implements new version of spec.\n",
       "                    width = entry.contentBoxSize[0].inlineSize;\n",
       "                    height = entry.contentBoxSize[0].blockSize;\n",
       "                } else {\n",
       "                    // Firefox implements old version of spec.\n",
       "                    width = entry.contentBoxSize.inlineSize;\n",
       "                    height = entry.contentBoxSize.blockSize;\n",
       "                }\n",
       "            } else {\n",
       "                // Chrome <84 implements even older version of spec.\n",
       "                width = entry.contentRect.width;\n",
       "                height = entry.contentRect.height;\n",
       "            }\n",
       "\n",
       "            // Keep the size of the canvas and rubber band canvas in sync with\n",
       "            // the canvas container.\n",
       "            if (entry.devicePixelContentBoxSize) {\n",
       "                // Chrome 84 implements new version of spec.\n",
       "                canvas.setAttribute(\n",
       "                    'width',\n",
       "                    entry.devicePixelContentBoxSize[0].inlineSize\n",
       "                );\n",
       "                canvas.setAttribute(\n",
       "                    'height',\n",
       "                    entry.devicePixelContentBoxSize[0].blockSize\n",
       "                );\n",
       "            } else {\n",
       "                canvas.setAttribute('width', width * fig.ratio);\n",
       "                canvas.setAttribute('height', height * fig.ratio);\n",
       "            }\n",
       "            /* This rescales the canvas back to display pixels, so that it\n",
       "             * appears correct on HiDPI screens. */\n",
       "            canvas.style.width = width + 'px';\n",
       "            canvas.style.height = height + 'px';\n",
       "\n",
       "            rubberband_canvas.setAttribute('width', width);\n",
       "            rubberband_canvas.setAttribute('height', height);\n",
       "\n",
       "            // And update the size in Python. We ignore the initial 0/0 size\n",
       "            // that occurs as the element is placed into the DOM, which should\n",
       "            // otherwise not happen due to the minimum size styling.\n",
       "            if (fig.ws.readyState == 1 && width != 0 && height != 0) {\n",
       "                fig.request_resize(width, height);\n",
       "            }\n",
       "        }\n",
       "    });\n",
       "    this.resizeObserverInstance.observe(canvas_div);\n",
       "\n",
       "    function on_mouse_event_closure(name) {\n",
       "        /* User Agent sniffing is bad, but WebKit is busted:\n",
       "         * https://bugs.webkit.org/show_bug.cgi?id=144526\n",
       "         * https://bugs.webkit.org/show_bug.cgi?id=181818\n",
       "         * The worst that happens here is that they get an extra browser\n",
       "         * selection when dragging, if this check fails to catch them.\n",
       "         */\n",
       "        var UA = navigator.userAgent;\n",
       "        var isWebKit = /AppleWebKit/.test(UA) && !/Chrome/.test(UA);\n",
       "        if(isWebKit) {\n",
       "            return function (event) {\n",
       "                /* This prevents the web browser from automatically changing to\n",
       "                 * the text insertion cursor when the button is pressed. We\n",
       "                 * want to control all of the cursor setting manually through\n",
       "                 * the 'cursor' event from matplotlib */\n",
       "                event.preventDefault()\n",
       "                return fig.mouse_event(event, name);\n",
       "            };\n",
       "        } else {\n",
       "            return function (event) {\n",
       "                return fig.mouse_event(event, name);\n",
       "            };\n",
       "        }\n",
       "    }\n",
       "\n",
       "    canvas_div.addEventListener(\n",
       "        'mousedown',\n",
       "        on_mouse_event_closure('button_press')\n",
       "    );\n",
       "    canvas_div.addEventListener(\n",
       "        'mouseup',\n",
       "        on_mouse_event_closure('button_release')\n",
       "    );\n",
       "    canvas_div.addEventListener(\n",
       "        'dblclick',\n",
       "        on_mouse_event_closure('dblclick')\n",
       "    );\n",
       "    // Throttle sequential mouse events to 1 every 20ms.\n",
       "    canvas_div.addEventListener(\n",
       "        'mousemove',\n",
       "        on_mouse_event_closure('motion_notify')\n",
       "    );\n",
       "\n",
       "    canvas_div.addEventListener(\n",
       "        'mouseenter',\n",
       "        on_mouse_event_closure('figure_enter')\n",
       "    );\n",
       "    canvas_div.addEventListener(\n",
       "        'mouseleave',\n",
       "        on_mouse_event_closure('figure_leave')\n",
       "    );\n",
       "\n",
       "    canvas_div.addEventListener('wheel', function (event) {\n",
       "        if (event.deltaY < 0) {\n",
       "            event.step = 1;\n",
       "        } else {\n",
       "            event.step = -1;\n",
       "        }\n",
       "        on_mouse_event_closure('scroll')(event);\n",
       "    });\n",
       "\n",
       "    canvas_div.appendChild(canvas);\n",
       "    canvas_div.appendChild(rubberband_canvas);\n",
       "\n",
       "    this.rubberband_context = rubberband_canvas.getContext('2d');\n",
       "    this.rubberband_context.strokeStyle = '#000000';\n",
       "\n",
       "    this._resize_canvas = function (width, height, forward) {\n",
       "        if (forward) {\n",
       "            canvas_div.style.width = width + 'px';\n",
       "            canvas_div.style.height = height + 'px';\n",
       "        }\n",
       "    };\n",
       "\n",
       "    // Disable right mouse context menu.\n",
       "    canvas_div.addEventListener('contextmenu', function (_e) {\n",
       "        event.preventDefault();\n",
       "        return false;\n",
       "    });\n",
       "\n",
       "    function set_focus() {\n",
       "        canvas.focus();\n",
       "        canvas_div.focus();\n",
       "    }\n",
       "\n",
       "    window.setTimeout(set_focus, 100);\n",
       "};\n",
       "\n",
       "mpl.figure.prototype._init_toolbar = function () {\n",
       "    var fig = this;\n",
       "\n",
       "    var toolbar = document.createElement('div');\n",
       "    toolbar.classList = 'mpl-toolbar';\n",
       "    this.root.appendChild(toolbar);\n",
       "\n",
       "    function on_click_closure(name) {\n",
       "        return function (_event) {\n",
       "            return fig.toolbar_button_onclick(name);\n",
       "        };\n",
       "    }\n",
       "\n",
       "    function on_mouseover_closure(tooltip) {\n",
       "        return function (event) {\n",
       "            if (!event.currentTarget.disabled) {\n",
       "                return fig.toolbar_button_onmouseover(tooltip);\n",
       "            }\n",
       "        };\n",
       "    }\n",
       "\n",
       "    fig.buttons = {};\n",
       "    var buttonGroup = document.createElement('div');\n",
       "    buttonGroup.classList = 'mpl-button-group';\n",
       "    for (var toolbar_ind in mpl.toolbar_items) {\n",
       "        var name = mpl.toolbar_items[toolbar_ind][0];\n",
       "        var tooltip = mpl.toolbar_items[toolbar_ind][1];\n",
       "        var image = mpl.toolbar_items[toolbar_ind][2];\n",
       "        var method_name = mpl.toolbar_items[toolbar_ind][3];\n",
       "\n",
       "        if (!name) {\n",
       "            /* Instead of a spacer, we start a new button group. */\n",
       "            if (buttonGroup.hasChildNodes()) {\n",
       "                toolbar.appendChild(buttonGroup);\n",
       "            }\n",
       "            buttonGroup = document.createElement('div');\n",
       "            buttonGroup.classList = 'mpl-button-group';\n",
       "            continue;\n",
       "        }\n",
       "\n",
       "        var button = (fig.buttons[name] = document.createElement('button'));\n",
       "        button.classList = 'mpl-widget';\n",
       "        button.setAttribute('role', 'button');\n",
       "        button.setAttribute('aria-disabled', 'false');\n",
       "        button.addEventListener('click', on_click_closure(method_name));\n",
       "        button.addEventListener('mouseover', on_mouseover_closure(tooltip));\n",
       "\n",
       "        var icon_img = document.createElement('img');\n",
       "        icon_img.src = '_images/' + image + '.png';\n",
       "        icon_img.srcset = '_images/' + image + '_large.png 2x';\n",
       "        icon_img.alt = tooltip;\n",
       "        button.appendChild(icon_img);\n",
       "\n",
       "        buttonGroup.appendChild(button);\n",
       "    }\n",
       "\n",
       "    if (buttonGroup.hasChildNodes()) {\n",
       "        toolbar.appendChild(buttonGroup);\n",
       "    }\n",
       "\n",
       "    var fmt_picker = document.createElement('select');\n",
       "    fmt_picker.classList = 'mpl-widget';\n",
       "    toolbar.appendChild(fmt_picker);\n",
       "    this.format_dropdown = fmt_picker;\n",
       "\n",
       "    for (var ind in mpl.extensions) {\n",
       "        var fmt = mpl.extensions[ind];\n",
       "        var option = document.createElement('option');\n",
       "        option.selected = fmt === mpl.default_extension;\n",
       "        option.innerHTML = fmt;\n",
       "        fmt_picker.appendChild(option);\n",
       "    }\n",
       "\n",
       "    var status_bar = document.createElement('span');\n",
       "    status_bar.classList = 'mpl-message';\n",
       "    toolbar.appendChild(status_bar);\n",
       "    this.message = status_bar;\n",
       "};\n",
       "\n",
       "mpl.figure.prototype.request_resize = function (x_pixels, y_pixels) {\n",
       "    // Request matplotlib to resize the figure. Matplotlib will then trigger a resize in the client,\n",
       "    // which will in turn request a refresh of the image.\n",
       "    this.send_message('resize', { width: x_pixels, height: y_pixels });\n",
       "};\n",
       "\n",
       "mpl.figure.prototype.send_message = function (type, properties) {\n",
       "    properties['type'] = type;\n",
       "    properties['figure_id'] = this.id;\n",
       "    this.ws.send(JSON.stringify(properties));\n",
       "};\n",
       "\n",
       "mpl.figure.prototype.send_draw_message = function () {\n",
       "    if (!this.waiting) {\n",
       "        this.waiting = true;\n",
       "        this.ws.send(JSON.stringify({ type: 'draw', figure_id: this.id }));\n",
       "    }\n",
       "};\n",
       "\n",
       "mpl.figure.prototype.handle_save = function (fig, _msg) {\n",
       "    var format_dropdown = fig.format_dropdown;\n",
       "    var format = format_dropdown.options[format_dropdown.selectedIndex].value;\n",
       "    fig.ondownload(fig, format);\n",
       "};\n",
       "\n",
       "mpl.figure.prototype.handle_resize = function (fig, msg) {\n",
       "    var size = msg['size'];\n",
       "    if (size[0] !== fig.canvas.width || size[1] !== fig.canvas.height) {\n",
       "        fig._resize_canvas(size[0], size[1], msg['forward']);\n",
       "        fig.send_message('refresh', {});\n",
       "    }\n",
       "};\n",
       "\n",
       "mpl.figure.prototype.handle_rubberband = function (fig, msg) {\n",
       "    var x0 = msg['x0'] / fig.ratio;\n",
       "    var y0 = (fig.canvas.height - msg['y0']) / fig.ratio;\n",
       "    var x1 = msg['x1'] / fig.ratio;\n",
       "    var y1 = (fig.canvas.height - msg['y1']) / fig.ratio;\n",
       "    x0 = Math.floor(x0) + 0.5;\n",
       "    y0 = Math.floor(y0) + 0.5;\n",
       "    x1 = Math.floor(x1) + 0.5;\n",
       "    y1 = Math.floor(y1) + 0.5;\n",
       "    var min_x = Math.min(x0, x1);\n",
       "    var min_y = Math.min(y0, y1);\n",
       "    var width = Math.abs(x1 - x0);\n",
       "    var height = Math.abs(y1 - y0);\n",
       "\n",
       "    fig.rubberband_context.clearRect(\n",
       "        0,\n",
       "        0,\n",
       "        fig.canvas.width / fig.ratio,\n",
       "        fig.canvas.height / fig.ratio\n",
       "    );\n",
       "\n",
       "    fig.rubberband_context.strokeRect(min_x, min_y, width, height);\n",
       "};\n",
       "\n",
       "mpl.figure.prototype.handle_figure_label = function (fig, msg) {\n",
       "    // Updates the figure title.\n",
       "    fig.header.textContent = msg['label'];\n",
       "};\n",
       "\n",
       "mpl.figure.prototype.handle_cursor = function (fig, msg) {\n",
       "    fig.canvas_div.style.cursor = msg['cursor'];\n",
       "};\n",
       "\n",
       "mpl.figure.prototype.handle_message = function (fig, msg) {\n",
       "    fig.message.textContent = msg['message'];\n",
       "};\n",
       "\n",
       "mpl.figure.prototype.handle_draw = function (fig, _msg) {\n",
       "    // Request the server to send over a new figure.\n",
       "    fig.send_draw_message();\n",
       "};\n",
       "\n",
       "mpl.figure.prototype.handle_image_mode = function (fig, msg) {\n",
       "    fig.image_mode = msg['mode'];\n",
       "};\n",
       "\n",
       "mpl.figure.prototype.handle_history_buttons = function (fig, msg) {\n",
       "    for (var key in msg) {\n",
       "        if (!(key in fig.buttons)) {\n",
       "            continue;\n",
       "        }\n",
       "        fig.buttons[key].disabled = !msg[key];\n",
       "        fig.buttons[key].setAttribute('aria-disabled', !msg[key]);\n",
       "    }\n",
       "};\n",
       "\n",
       "mpl.figure.prototype.handle_navigate_mode = function (fig, msg) {\n",
       "    if (msg['mode'] === 'PAN') {\n",
       "        fig.buttons['Pan'].classList.add('active');\n",
       "        fig.buttons['Zoom'].classList.remove('active');\n",
       "    } else if (msg['mode'] === 'ZOOM') {\n",
       "        fig.buttons['Pan'].classList.remove('active');\n",
       "        fig.buttons['Zoom'].classList.add('active');\n",
       "    } else {\n",
       "        fig.buttons['Pan'].classList.remove('active');\n",
       "        fig.buttons['Zoom'].classList.remove('active');\n",
       "    }\n",
       "};\n",
       "\n",
       "mpl.figure.prototype.updated_canvas_event = function () {\n",
       "    // Called whenever the canvas gets updated.\n",
       "    this.send_message('ack', {});\n",
       "};\n",
       "\n",
       "// A function to construct a web socket function for onmessage handling.\n",
       "// Called in the figure constructor.\n",
       "mpl.figure.prototype._make_on_message_function = function (fig) {\n",
       "    return function socket_on_message(evt) {\n",
       "        if (evt.data instanceof Blob) {\n",
       "            var img = evt.data;\n",
       "            if (img.type !== 'image/png') {\n",
       "                /* FIXME: We get \"Resource interpreted as Image but\n",
       "                 * transferred with MIME type text/plain:\" errors on\n",
       "                 * Chrome.  But how to set the MIME type?  It doesn't seem\n",
       "                 * to be part of the websocket stream */\n",
       "                img.type = 'image/png';\n",
       "            }\n",
       "\n",
       "            /* Free the memory for the previous frames */\n",
       "            if (fig.imageObj.src) {\n",
       "                (window.URL || window.webkitURL).revokeObjectURL(\n",
       "                    fig.imageObj.src\n",
       "                );\n",
       "            }\n",
       "\n",
       "            fig.imageObj.src = (window.URL || window.webkitURL).createObjectURL(\n",
       "                img\n",
       "            );\n",
       "            fig.updated_canvas_event();\n",
       "            fig.waiting = false;\n",
       "            return;\n",
       "        } else if (\n",
       "            typeof evt.data === 'string' &&\n",
       "            evt.data.slice(0, 21) === 'data:image/png;base64'\n",
       "        ) {\n",
       "            fig.imageObj.src = evt.data;\n",
       "            fig.updated_canvas_event();\n",
       "            fig.waiting = false;\n",
       "            return;\n",
       "        }\n",
       "\n",
       "        var msg = JSON.parse(evt.data);\n",
       "        var msg_type = msg['type'];\n",
       "\n",
       "        // Call the  \"handle_{type}\" callback, which takes\n",
       "        // the figure and JSON message as its only arguments.\n",
       "        try {\n",
       "            var callback = fig['handle_' + msg_type];\n",
       "        } catch (e) {\n",
       "            console.log(\n",
       "                \"No handler for the '\" + msg_type + \"' message type: \",\n",
       "                msg\n",
       "            );\n",
       "            return;\n",
       "        }\n",
       "\n",
       "        if (callback) {\n",
       "            try {\n",
       "                // console.log(\"Handling '\" + msg_type + \"' message: \", msg);\n",
       "                callback(fig, msg);\n",
       "            } catch (e) {\n",
       "                console.log(\n",
       "                    \"Exception inside the 'handler_\" + msg_type + \"' callback:\",\n",
       "                    e,\n",
       "                    e.stack,\n",
       "                    msg\n",
       "                );\n",
       "            }\n",
       "        }\n",
       "    };\n",
       "};\n",
       "\n",
       "\n",
       "/*\n",
       " * return a copy of an object with only non-object keys\n",
       " * we need this to avoid circular references\n",
       " * https://stackoverflow.com/a/24161582/3208463\n",
       " */\n",
       "function simpleKeys(original) {\n",
       "    return Object.keys(original).reduce(function (obj, key) {\n",
       "        if (typeof original[key] !== 'object') {\n",
       "            obj[key] = original[key];\n",
       "        }\n",
       "        return obj;\n",
       "    }, {});\n",
       "}\n",
       "\n",
       "mpl.figure.prototype.mouse_event = function (event, name) {\n",
       "    if (name === 'button_press') {\n",
       "        this.canvas.focus();\n",
       "        this.canvas_div.focus();\n",
       "    }\n",
       "\n",
       "    // from https://stackoverflow.com/q/1114465\n",
       "    var boundingRect = this.canvas.getBoundingClientRect();\n",
       "    var x = (event.clientX - boundingRect.left) * this.ratio;\n",
       "    var y = (event.clientY - boundingRect.top) * this.ratio;\n",
       "\n",
       "    this.send_message(name, {\n",
       "        x: x,\n",
       "        y: y,\n",
       "        button: event.button,\n",
       "        step: event.step,\n",
       "        guiEvent: simpleKeys(event),\n",
       "    });\n",
       "\n",
       "    return false;\n",
       "};\n",
       "\n",
       "mpl.figure.prototype._key_event_extra = function (_event, _name) {\n",
       "    // Handle any extra behaviour associated with a key event\n",
       "};\n",
       "\n",
       "mpl.figure.prototype.key_event = function (event, name) {\n",
       "    // Prevent repeat events\n",
       "    if (name === 'key_press') {\n",
       "        if (event.key === this._key) {\n",
       "            return;\n",
       "        } else {\n",
       "            this._key = event.key;\n",
       "        }\n",
       "    }\n",
       "    if (name === 'key_release') {\n",
       "        this._key = null;\n",
       "    }\n",
       "\n",
       "    var value = '';\n",
       "    if (event.ctrlKey && event.key !== 'Control') {\n",
       "        value += 'ctrl+';\n",
       "    }\n",
       "    else if (event.altKey && event.key !== 'Alt') {\n",
       "        value += 'alt+';\n",
       "    }\n",
       "    else if (event.shiftKey && event.key !== 'Shift') {\n",
       "        value += 'shift+';\n",
       "    }\n",
       "\n",
       "    value += 'k' + event.key;\n",
       "\n",
       "    this._key_event_extra(event, name);\n",
       "\n",
       "    this.send_message(name, { key: value, guiEvent: simpleKeys(event) });\n",
       "    return false;\n",
       "};\n",
       "\n",
       "mpl.figure.prototype.toolbar_button_onclick = function (name) {\n",
       "    if (name === 'download') {\n",
       "        this.handle_save(this, null);\n",
       "    } else {\n",
       "        this.send_message('toolbar_button', { name: name });\n",
       "    }\n",
       "};\n",
       "\n",
       "mpl.figure.prototype.toolbar_button_onmouseover = function (tooltip) {\n",
       "    this.message.textContent = tooltip;\n",
       "};\n",
       "\n",
       "///////////////// REMAINING CONTENT GENERATED BY embed_js.py /////////////////\n",
       "// prettier-ignore\n",
       "var _JSXTOOLS_RESIZE_OBSERVER=function(A){var t,i=new WeakMap,n=new WeakMap,a=new WeakMap,r=new WeakMap,o=new Set;function s(e){if(!(this instanceof s))throw new TypeError(\"Constructor requires 'new' operator\");i.set(this,e)}function h(){throw new TypeError(\"Function is not a constructor\")}function c(e,t,i,n){e=0 in arguments?Number(arguments[0]):0,t=1 in arguments?Number(arguments[1]):0,i=2 in arguments?Number(arguments[2]):0,n=3 in arguments?Number(arguments[3]):0,this.right=(this.x=this.left=e)+(this.width=i),this.bottom=(this.y=this.top=t)+(this.height=n),Object.freeze(this)}function d(){t=requestAnimationFrame(d);var s=new WeakMap,p=new Set;o.forEach((function(t){r.get(t).forEach((function(i){var r=t instanceof window.SVGElement,o=a.get(t),d=r?0:parseFloat(o.paddingTop),f=r?0:parseFloat(o.paddingRight),l=r?0:parseFloat(o.paddingBottom),u=r?0:parseFloat(o.paddingLeft),g=r?0:parseFloat(o.borderTopWidth),m=r?0:parseFloat(o.borderRightWidth),w=r?0:parseFloat(o.borderBottomWidth),b=u+f,F=d+l,v=(r?0:parseFloat(o.borderLeftWidth))+m,W=g+w,y=r?0:t.offsetHeight-W-t.clientHeight,E=r?0:t.offsetWidth-v-t.clientWidth,R=b+v,z=F+W,M=r?t.width:parseFloat(o.width)-R-E,O=r?t.height:parseFloat(o.height)-z-y;if(n.has(t)){var k=n.get(t);if(k[0]===M&&k[1]===O)return}n.set(t,[M,O]);var S=Object.create(h.prototype);S.target=t,S.contentRect=new c(u,d,M,O),s.has(i)||(s.set(i,[]),p.add(i)),s.get(i).push(S)}))})),p.forEach((function(e){i.get(e).call(e,s.get(e),e)}))}return s.prototype.observe=function(i){if(i instanceof window.Element){r.has(i)||(r.set(i,new Set),o.add(i),a.set(i,window.getComputedStyle(i)));var n=r.get(i);n.has(this)||n.add(this),cancelAnimationFrame(t),t=requestAnimationFrame(d)}},s.prototype.unobserve=function(i){if(i instanceof window.Element&&r.has(i)){var n=r.get(i);n.has(this)&&(n.delete(this),n.size||(r.delete(i),o.delete(i))),n.size||r.delete(i),o.size||cancelAnimationFrame(t)}},A.DOMRectReadOnly=c,A.ResizeObserver=s,A.ResizeObserverEntry=h,A}; // eslint-disable-line\n",
       "mpl.toolbar_items = [[\"Home\", \"Reset original view\", \"fa fa-home\", \"home\"], [\"Back\", \"Back to previous view\", \"fa fa-arrow-left\", \"back\"], [\"Forward\", \"Forward to next view\", \"fa fa-arrow-right\", \"forward\"], [\"\", \"\", \"\", \"\"], [\"Pan\", \"Left button pans, Right button zooms\\nx/y fixes axis, CTRL fixes aspect\", \"fa fa-arrows\", \"pan\"], [\"Zoom\", \"Zoom to rectangle\\nx/y fixes axis\", \"fa fa-square-o\", \"zoom\"], [\"\", \"\", \"\", \"\"], [\"Download\", \"Download plot\", \"fa fa-floppy-o\", \"download\"]];\n",
       "\n",
       "mpl.extensions = [\"eps\", \"jpeg\", \"pgf\", \"pdf\", \"png\", \"ps\", \"raw\", \"svg\", \"tif\", \"webp\"];\n",
       "\n",
       "mpl.default_extension = \"png\";/* global mpl */\n",
       "\n",
       "var comm_websocket_adapter = function (comm) {\n",
       "    // Create a \"websocket\"-like object which calls the given IPython comm\n",
       "    // object with the appropriate methods. Currently this is a non binary\n",
       "    // socket, so there is still some room for performance tuning.\n",
       "    var ws = {};\n",
       "\n",
       "    ws.binaryType = comm.kernel.ws.binaryType;\n",
       "    ws.readyState = comm.kernel.ws.readyState;\n",
       "    function updateReadyState(_event) {\n",
       "        if (comm.kernel.ws) {\n",
       "            ws.readyState = comm.kernel.ws.readyState;\n",
       "        } else {\n",
       "            ws.readyState = 3; // Closed state.\n",
       "        }\n",
       "    }\n",
       "    comm.kernel.ws.addEventListener('open', updateReadyState);\n",
       "    comm.kernel.ws.addEventListener('close', updateReadyState);\n",
       "    comm.kernel.ws.addEventListener('error', updateReadyState);\n",
       "\n",
       "    ws.close = function () {\n",
       "        comm.close();\n",
       "    };\n",
       "    ws.send = function (m) {\n",
       "        //console.log('sending', m);\n",
       "        comm.send(m);\n",
       "    };\n",
       "    // Register the callback with on_msg.\n",
       "    comm.on_msg(function (msg) {\n",
       "        //console.log('receiving', msg['content']['data'], msg);\n",
       "        var data = msg['content']['data'];\n",
       "        if (data['blob'] !== undefined) {\n",
       "            data = {\n",
       "                data: new Blob(msg['buffers'], { type: data['blob'] }),\n",
       "            };\n",
       "        }\n",
       "        // Pass the mpl event to the overridden (by mpl) onmessage function.\n",
       "        ws.onmessage(data);\n",
       "    });\n",
       "    return ws;\n",
       "};\n",
       "\n",
       "mpl.mpl_figure_comm = function (comm, msg) {\n",
       "    // This is the function which gets called when the mpl process\n",
       "    // starts-up an IPython Comm through the \"matplotlib\" channel.\n",
       "\n",
       "    var id = msg.content.data.id;\n",
       "    // Get hold of the div created by the display call when the Comm\n",
       "    // socket was opened in Python.\n",
       "    var element = document.getElementById(id);\n",
       "    var ws_proxy = comm_websocket_adapter(comm);\n",
       "\n",
       "    function ondownload(figure, _format) {\n",
       "        window.open(figure.canvas.toDataURL());\n",
       "    }\n",
       "\n",
       "    var fig = new mpl.figure(id, ws_proxy, ondownload, element);\n",
       "\n",
       "    // Call onopen now - mpl needs it, as it is assuming we've passed it a real\n",
       "    // web socket which is closed, not our websocket->open comm proxy.\n",
       "    ws_proxy.onopen();\n",
       "\n",
       "    fig.parent_element = element;\n",
       "    fig.cell_info = mpl.find_output_cell(\"<div id='\" + id + \"'></div>\");\n",
       "    if (!fig.cell_info) {\n",
       "        console.error('Failed to find cell for figure', id, fig);\n",
       "        return;\n",
       "    }\n",
       "    fig.cell_info[0].output_area.element.on(\n",
       "        'cleared',\n",
       "        { fig: fig },\n",
       "        fig._remove_fig_handler\n",
       "    );\n",
       "};\n",
       "\n",
       "mpl.figure.prototype.handle_close = function (fig, msg) {\n",
       "    var width = fig.canvas.width / fig.ratio;\n",
       "    fig.cell_info[0].output_area.element.off(\n",
       "        'cleared',\n",
       "        fig._remove_fig_handler\n",
       "    );\n",
       "    fig.resizeObserverInstance.unobserve(fig.canvas_div);\n",
       "\n",
       "    // Update the output cell to use the data from the current canvas.\n",
       "    fig.push_to_output();\n",
       "    var dataURL = fig.canvas.toDataURL();\n",
       "    // Re-enable the keyboard manager in IPython - without this line, in FF,\n",
       "    // the notebook keyboard shortcuts fail.\n",
       "    IPython.keyboard_manager.enable();\n",
       "    fig.parent_element.innerHTML =\n",
       "        '<img src=\"' + dataURL + '\" width=\"' + width + '\">';\n",
       "    fig.close_ws(fig, msg);\n",
       "};\n",
       "\n",
       "mpl.figure.prototype.close_ws = function (fig, msg) {\n",
       "    fig.send_message('closing', msg);\n",
       "    // fig.ws.close()\n",
       "};\n",
       "\n",
       "mpl.figure.prototype.push_to_output = function (_remove_interactive) {\n",
       "    // Turn the data on the canvas into data in the output cell.\n",
       "    var width = this.canvas.width / this.ratio;\n",
       "    var dataURL = this.canvas.toDataURL();\n",
       "    this.cell_info[1]['text/html'] =\n",
       "        '<img src=\"' + dataURL + '\" width=\"' + width + '\">';\n",
       "};\n",
       "\n",
       "mpl.figure.prototype.updated_canvas_event = function () {\n",
       "    // Tell IPython that the notebook contents must change.\n",
       "    IPython.notebook.set_dirty(true);\n",
       "    this.send_message('ack', {});\n",
       "    var fig = this;\n",
       "    // Wait a second, then push the new image to the DOM so\n",
       "    // that it is saved nicely (might be nice to debounce this).\n",
       "    setTimeout(function () {\n",
       "        fig.push_to_output();\n",
       "    }, 1000);\n",
       "};\n",
       "\n",
       "mpl.figure.prototype._init_toolbar = function () {\n",
       "    var fig = this;\n",
       "\n",
       "    var toolbar = document.createElement('div');\n",
       "    toolbar.classList = 'btn-toolbar';\n",
       "    this.root.appendChild(toolbar);\n",
       "\n",
       "    function on_click_closure(name) {\n",
       "        return function (_event) {\n",
       "            return fig.toolbar_button_onclick(name);\n",
       "        };\n",
       "    }\n",
       "\n",
       "    function on_mouseover_closure(tooltip) {\n",
       "        return function (event) {\n",
       "            if (!event.currentTarget.disabled) {\n",
       "                return fig.toolbar_button_onmouseover(tooltip);\n",
       "            }\n",
       "        };\n",
       "    }\n",
       "\n",
       "    fig.buttons = {};\n",
       "    var buttonGroup = document.createElement('div');\n",
       "    buttonGroup.classList = 'btn-group';\n",
       "    var button;\n",
       "    for (var toolbar_ind in mpl.toolbar_items) {\n",
       "        var name = mpl.toolbar_items[toolbar_ind][0];\n",
       "        var tooltip = mpl.toolbar_items[toolbar_ind][1];\n",
       "        var image = mpl.toolbar_items[toolbar_ind][2];\n",
       "        var method_name = mpl.toolbar_items[toolbar_ind][3];\n",
       "\n",
       "        if (!name) {\n",
       "            /* Instead of a spacer, we start a new button group. */\n",
       "            if (buttonGroup.hasChildNodes()) {\n",
       "                toolbar.appendChild(buttonGroup);\n",
       "            }\n",
       "            buttonGroup = document.createElement('div');\n",
       "            buttonGroup.classList = 'btn-group';\n",
       "            continue;\n",
       "        }\n",
       "\n",
       "        button = fig.buttons[name] = document.createElement('button');\n",
       "        button.classList = 'btn btn-default';\n",
       "        button.href = '#';\n",
       "        button.title = name;\n",
       "        button.innerHTML = '<i class=\"fa ' + image + ' fa-lg\"></i>';\n",
       "        button.addEventListener('click', on_click_closure(method_name));\n",
       "        button.addEventListener('mouseover', on_mouseover_closure(tooltip));\n",
       "        buttonGroup.appendChild(button);\n",
       "    }\n",
       "\n",
       "    if (buttonGroup.hasChildNodes()) {\n",
       "        toolbar.appendChild(buttonGroup);\n",
       "    }\n",
       "\n",
       "    // Add the status bar.\n",
       "    var status_bar = document.createElement('span');\n",
       "    status_bar.classList = 'mpl-message pull-right';\n",
       "    toolbar.appendChild(status_bar);\n",
       "    this.message = status_bar;\n",
       "\n",
       "    // Add the close button to the window.\n",
       "    var buttongrp = document.createElement('div');\n",
       "    buttongrp.classList = 'btn-group inline pull-right';\n",
       "    button = document.createElement('button');\n",
       "    button.classList = 'btn btn-mini btn-primary';\n",
       "    button.href = '#';\n",
       "    button.title = 'Stop Interaction';\n",
       "    button.innerHTML = '<i class=\"fa fa-power-off icon-remove icon-large\"></i>';\n",
       "    button.addEventListener('click', function (_evt) {\n",
       "        fig.handle_close(fig, {});\n",
       "    });\n",
       "    button.addEventListener(\n",
       "        'mouseover',\n",
       "        on_mouseover_closure('Stop Interaction')\n",
       "    );\n",
       "    buttongrp.appendChild(button);\n",
       "    var titlebar = this.root.querySelector('.ui-dialog-titlebar');\n",
       "    titlebar.insertBefore(buttongrp, titlebar.firstChild);\n",
       "};\n",
       "\n",
       "mpl.figure.prototype._remove_fig_handler = function (event) {\n",
       "    var fig = event.data.fig;\n",
       "    if (event.target !== this) {\n",
       "        // Ignore bubbled events from children.\n",
       "        return;\n",
       "    }\n",
       "    fig.close_ws(fig, {});\n",
       "};\n",
       "\n",
       "mpl.figure.prototype._root_extra_style = function (el) {\n",
       "    el.style.boxSizing = 'content-box'; // override notebook setting of border-box.\n",
       "};\n",
       "\n",
       "mpl.figure.prototype._canvas_extra_style = function (el) {\n",
       "    // this is important to make the div 'focusable\n",
       "    el.setAttribute('tabindex', 0);\n",
       "    // reach out to IPython and tell the keyboard manager to turn it's self\n",
       "    // off when our div gets focus\n",
       "\n",
       "    // location in version 3\n",
       "    if (IPython.notebook.keyboard_manager) {\n",
       "        IPython.notebook.keyboard_manager.register_events(el);\n",
       "    } else {\n",
       "        // location in version 2\n",
       "        IPython.keyboard_manager.register_events(el);\n",
       "    }\n",
       "};\n",
       "\n",
       "mpl.figure.prototype._key_event_extra = function (event, _name) {\n",
       "    // Check for shift+enter\n",
       "    if (event.shiftKey && event.which === 13) {\n",
       "        this.canvas_div.blur();\n",
       "        // select the cell after this one\n",
       "        var index = IPython.notebook.find_cell_index(this.cell_info[0]);\n",
       "        IPython.notebook.select(index + 1);\n",
       "    }\n",
       "};\n",
       "\n",
       "mpl.figure.prototype.handle_save = function (fig, _msg) {\n",
       "    fig.ondownload(fig, null);\n",
       "};\n",
       "\n",
       "mpl.find_output_cell = function (html_output) {\n",
       "    // Return the cell and output element which can be found *uniquely* in the notebook.\n",
       "    // Note - this is a bit hacky, but it is done because the \"notebook_saving.Notebook\"\n",
       "    // IPython event is triggered only after the cells have been serialised, which for\n",
       "    // our purposes (turning an active figure into a static one), is too late.\n",
       "    var cells = IPython.notebook.get_cells();\n",
       "    var ncells = cells.length;\n",
       "    for (var i = 0; i < ncells; i++) {\n",
       "        var cell = cells[i];\n",
       "        if (cell.cell_type === 'code') {\n",
       "            for (var j = 0; j < cell.output_area.outputs.length; j++) {\n",
       "                var data = cell.output_area.outputs[j];\n",
       "                if (data.data) {\n",
       "                    // IPython >= 3 moved mimebundle to data attribute of output\n",
       "                    data = data.data;\n",
       "                }\n",
       "                if (data['text/html'] === html_output) {\n",
       "                    return [cell, data, j];\n",
       "                }\n",
       "            }\n",
       "        }\n",
       "    }\n",
       "};\n",
       "\n",
       "// Register the function which deals with the matplotlib target/channel.\n",
       "// The kernel may be null if the page has been refreshed.\n",
       "if (IPython.notebook.kernel !== null) {\n",
       "    IPython.notebook.kernel.comm_manager.register_target(\n",
       "        'matplotlib',\n",
       "        mpl.mpl_figure_comm\n",
       "    );\n",
       "}\n"
      ],
      "text/plain": [
       "<IPython.core.display.Javascript object>"
      ]
     },
     "metadata": {},
     "output_type": "display_data"
    },
    {
     "data": {
      "text/html": [
       "<img src=\"data:image/png;base64,iVBORw0KGgoAAAANSUhEUgAABGUAAAH0CAYAAACU6JAfAAAAAXNSR0IArs4c6QAAIABJREFUeF7s3Xd0VNX+/vGHXqVIE5EaCE16RzpBAUEEaSIiVUB6uYggiCAgICCgUqUIIiBFem8JvYbeEjqhl0jvvzU7vwtqkku+k4mzw7xnrbucIXP2fs7rM//cZ82cE+Pp06dPxQMBBBBAAAEEEEAAAQQQQAABBBBA4F8ViEEp8696sxkCCCCAAAIIIIAAAggggAACCCBgBChl+CAggAACCCCAAAIIIIAAAggggAACbhCglHEDOlsigAACCCCAAAIIIIAAAggggAAClDJ8BhBAAAEEEEAAAQQQQAABBBBAAAE3CFDKuAGdLRFAAAEEEEAAAQQQQAABBBBAAAFKGT4DCCCAAAIIIIAAAggggAACCCCAgBsEKGXcgM6WCCCAAAIIIIAAAggggAACCCCAAKUMnwEEEEAAAQQQQAABBBBAAAEEEEDADQKUMm5AZ0sEEEAAAQQQQAABBBBAAAEEEECAUobPAAIIIIAAAggggAACCCCAAAIIIOAGAUoZN6CzJQIIIIAAAggggAACCCCAAAIIIEApw2cAAQQQQAABBBBAAAEEEEAAAQQQcIMApYwb0NkSAQQQQAABBBBAAAEEEEAAAQQQoJThM4AAAggggAACCCCAAAIIIIAAAgi4QYBSxg3obIkAAggggAACCCCAAAIIIIAAAghQyvAZQAABBBBAAAEEEEAAAQQQQAABBNwgQCnjBnS2RAABBBBAAAEEEEAAAQQQQAABBChl+AwggAACCCCAAAIIIIAAAggggAACbhCglHEDOlsigAACCCCAAAIIIIAAAggggAAClDJ8BhBAAAEEEEAAAQQQQAABBBBAAAE3CFDKuAGdLRFAAAEEEEAAAQQQQAABBBBAAAFKGT4DCCCAAAIIIIAAAggggAACCCCAgBsEKGXcgM6WCCCAAAIIIIAAAggggAACCCCAAKUMnwEEEEAAAQQQQAABBBBAAAEEEEDADQKUMm5AZ0sEEEAAAQQQQAABBBBAAAEEEECAUobPAAIIIIAAAggggAACCCCAAAIIIOAGAUoZN6CzJQIIIIAAAggggAACCCCAAAIIIEApw2cAAQQQQAABBBBAAAEEEEAAAQQQcIMApYwb0NkSAQQQQAABBBBAAAEEEEAAAQQQoJThM4AAAggggAACCCCAAAIIIIAAAgi4QYBSxg3obIkAAggggAACCCCAAAIIIIAAAghQyvAZQAABBBBAAAEEEEAAAQQQQAABBNwgQCnjBnS2RAABBBBAAAEEEEAAAQQQQAABBChl+AwggAACCCCAAAIIIIAAAggggAACbhCglHEDOlsigAACCCCAAAIIIIAAAggggAAClDJ8BhBAAAEEEEAAAQQQQAABBBBAAAE3CFDKuAGdLRFAAAEEEEAAAQQQQAABBBBAAAFKGT4DCCCAAAIIIIAAAggggAACCCCAgBsEKGXcgM6WCCCAAAIIIIAAAggggAACCCCAAKUMnwEEEEAAAQQQQAABBBBAAAEEEEDADQKUMm5AZ0sEEEAAAQQQQAABBBBAAAEEEECAUobPAAIIIIAAAggggAACCCCAAAIIIOAGAUoZN6CzJQIIIIAAAggggAACCCCAAAIIIEApw2cAAQQQQAABBBBAAAEEEEAAAQQQcIMApYwb0NkSAQQQQAABBBBAAAEEEEAAAQQQoJThM4AAAggggAACCCCAAAIIIIAAAgi4QYBSxg3obIkAAggggAACCCCAAAIIIIAAAghQyvAZQAABBBBAAAEEEEAAAQQQQAABBNwgQCnjBnS2RAABBBBAAAEEEEAAAQQQQAABBChl+AwggAACCCCAAAIIIIAAAggggAACbhCglHEDOlsigAACCCCAAAIIIIAAAggggAAClDJ8BhBAAAEEEEAAAQQQQAABBBBAAAE3CFDKuAGdLRFAAAEEEEAAAQQQQAABBBBAAAFKGT4DCCCAAAIIIIAAAggggAACCCCAgBsEKGXcgM6WCCCAAAIIIIAAAggggAACCCCAAKUMnwEEEEAAAQQQQAABBBBAAAEEEEDADQKUMm5AZ0sEEEAAAQQQQAABBBBAAAEEEECAUobPAAIIIIAAAggggAACCCCAAAIIIOAGAUoZN6CzJQIIIIAAAggggAACCCCAAAIIIEApw2cAAQQQQAABBBBAAAEEEEAAAQQQcIMApYwb0NkSAQQQQAABBBBAAAEEEEAAAQQQoJThM4AAAggggAACCCCAAAIIIIAAAgi4QYBSxg3obIkAAggggAACCCCAAAIIIIAAAghQyvAZQAABBBBAAAEEEEAAAQQQQAABBNwgQCnjBnS2RAABBBBAAAEEEEAAAQQQQAABBChl+AwggAACCCCAAAIIIIAAAggggAACbhCglHEDOlsigAACCCCAAAIIIIAAAggggAAClDJ8BhBAAAEEEEAAAQQQQAABBBBAAAE3CFDKuAGdLRFAAAEEEEAAAQQQQAABBBBAAAFKGT4DCCCAAAIIIIAAAggggAACCCCAgBsEKGXcgM6WCCCAAAIIIIAAAggggAACCCCAAKUMnwEEEEAAAQQQQAABBBBAAAEEEEDADQKUMm5AZ0sEEEAAAQQQQAABBBBAAAEEEECAUobPAAIIIIAAAggggAACCCCAAAIIIOAGAUoZN6CzJQIIIIAAAggggAACCCCAAAIIIEApw2cAAQQQQAABBBBAAAEEEEAAAQQQcIMApYwb0NkSAQQQQAABBBBAAAEEEEAAAQQQoJThM4AAAggggAACCCCAAAIIIIAAAgi4QYBSxg3obIkAAggggAACCCCAAAIIIBC+wPfff6/Tp09r2LBhMCHwUgtQyrzU4+XkEEAAAQQQQAABBBBAAIHoJ1CwYEEdP35cN27ciH7hSYzA/0GAUub/gMVbEUAAAQQQQAABBBBAAAEEol4ge/bsunnzpoKCgqJ+M3ZAwI0ClDJuxGdrBBBAAAEEEEAAAQQQQACB0AIZM2ZUrFixzLdleCDwMgtQyrzM0+XcEEAAAQQQQAABBBBAAIFoKOAoZWLHjq3AwMBomJ7ICERcgFIm4la8EwEEEEAAAQQQQAABBBBA4F8QoJT5F5DZwgoBShkrxkAIBBBAAAEEEEAAAQQQQACB/wpkypRJMWPG5OdLfCReegFKmZd+xJwgAggggAACCCCAAAIIIBC9BChlote8SOu8AKWM83YciQACCCCAAAIIIIAAAgggEAUClDJRgMqSVgpQylg5FkIhgAACCCCAAAIIIIAAAp4rkDlzZnPyJ06c8FwEztwjBChlPGLMnCQCCCCAAAIIIIAAAgggEH0EKGWiz6xIGjkBSpnI+XE0AggggAACCCCAAAIIIICAiwUoZVwMynLWClDKWDsagiGAAAIIIIAAAggggAACnimQJUsWPXnyRCdPnvRMAM7aYwQoZTxm1JwoAggggAACCCCAAAIIIBA9BChlosecSBl5AUqZyBuyAgIIIIAAAggggAACCCCAgAsFKGVciMlSVgtQylg9HsIhgAACCCCAAAIIIIAAAp4n4OXlpUePHunUqVOed/KcsUcJUMp41Lg5WQQQQAABBBBAAAEEEEDAfgFKGftnRELXCFDKuMaRVRBAAAEEEEAAAQQQQAABBFwkkDVrVj18+JBvyrjIk2XsFaCUsXc2JEMAAQQQQAABBBBAAAEEPFIgW7Zsun//vk6fPu2R589Je44ApYznzJozRQABBBBAAAEEEEAAAQSihQClTLQYEyFdIEAp4wJElkAAAQQQQAABBBBAAAEEEIicQNu2bZUyZUr16dNHlDKRs+To6CNAKRN9ZkVSBBBAAAEEEEAAAQQQQOClFUiWLJkct8LetWuXvL29de/ePX6+9NJOmxP7rwClDJ8FBBBAAAEEEEAAAQQQQAABtwskTZpUjgv87ty505Qyd+/e1ZkzZ9yeiwAIRKUApUxU6rI2AggggAACCCCAAAIIIIBAhASSJEliypgdO3ZQykRIjDe9DAKUMi/DFDkHBBBAAAEEEEAAAQQQQCCaC7zyyivKkSOHtm/fruzZs+vOnTt8Uyaaz5T4LxaglHmxEe9AAAEEEEAAAQQQQAABBBCIYoFEiRIpT5482rJliyllbt++rbNnz0bxriyPgHsFKGXc68/uCCCAAAIIIIAAAggggAACkuLHj6+CBQtq06ZNlDJ8IjxGgFLGY0bNiSKAAAIIIIAAAggggAAC9grEiRNHxYsXl5+fn/kZ061bt/imjL3jIpmLBChlXATJMggggAACCCCAAAIIIIAAAs4LxIoVS6VLl9a6detMKXPz5k2dO3fO+QU5EoFoIEApEw2GREQEEEAAAQQQQAABBBBA4GUXiBEjhsqXL681a9ZQyrzsw+b8nglQyvBhQAABBBBAAAEEEEAAAQQQcLuAo5Tx8fHRypUrlTNnTv355598U8btUyFAVAtQykS1MOsjgAACCCCAAAIIIIAAAgi8UMBRyrzzzjtatmyZKWWCg4MVFBT0wuN4AwLRWYBSJjpPj+wIIIAAAggggAACCCCAwEsi4ChlqlSpoiVLlphS5saNGzp//vxLcnacBgJhC1DK8MlAAAEEEEAAAQQQQAABBBBwu4CjlKlWrZoWLlzIz5fcPg0C/FsClDL/ljT7IIAAAggggAACCCCAAAIIhCvgKGXee+89zZ8/X9mzZ9edO3d05swZxBB4qQUoZV7q8XJyCCCAAAIIIIAAAggggED0EHCUMjVr1tTcuXOVLVs2PXjwQKdOnYoe4UmJgJMClDJOwnEYAggggAACCCCAAAIIIICA6wQcpUzt2rX1+++/K0uWLHr69KlOnDjhug1YCQELBShlLBwKkRBAAAEEEEAAAQQQQAABTxNwlDJ169bVzJkzlTlzZnP6lDKe9inwvPOllPG8mXPGCCCAAAIIIIAAAggggIB1Ao5Spk6dOpo1a5b5pozjcfz4cetyEggBVwpQyrhSk7UQQAABBBBAAAEEEEAAAQScEnCUMrVq1dKcOXMoZZwS5KDoKEApEx2nRmYEEEAAAQQQQAABBBBA4CUTcJQy77//vubNm0cp85LNltMJX4BShk8HAggggAACCCCAAAIIIICA2wX+ektsLvTr9nEQ4F8SoJT5l6DZBgEEEEAAAQQQQAABBBBA4H98YyBGDFWrVk0LFy7kQr98UDxGgFLGY0bNiSKAAAIIIIAAAggggAAC9go4vilTtWpVLV682JQyjtdc6NfeeZHMNQKUMq5xZBUEEEAAAQQQQAABBBBAAIFICDhKmMqVK2vp0qVcUyYSjhwavQQoZaLXvEiLAAIIIIAAAggggAACCLyUAo5S5u2339by5cujVSmzd3IHxbh1XNmb/Kq4iZK8lLPhpKJOgFIm6mxZGQEEEEAAAQQQQAABBBBAIIICjlLGx8dHK1eujDalzIltG5Q5oLQ5w123O6hgi+8jeLa8DYEQAUoZPgkIIIAAAggggAACCCCAAAJuF3CUMhUqVNDq1atNKeN4HRAQYP5r68Nv0gSVjtfCxDt6KY+8O+61NSq5LBWglLF0MMRCAAEEEEAAAQQQQAABBDxF4OnTp4oTJ45Kly6ttWvXmlImVqxYOnTokGLHjm0tg+/Po1UmwWcm38Hz+ZWry25rsxLMTgFKGTvnQioEEEAAAQQQQAABBBBAwGMEHj16pMSJE6tYsWJav369uftS3LhxtW/fPvNfWx/rx/+gsonamXj7gwrqza47bY1KLksFKGUsHQyxEEAAAQQQQAABBBBAAAFPEbh//75Spkyp/Pnzy8/Pz5QyCRIk0K5duxQ/fnxrGdZP+EllE7Yx+Q4E5VfurnxTxtphWRqMUsbSwRALAQQQQAABBBBAAAEEEPAUgTt37uiNN95Qzpw5tXHjRvPzpYQJE2rbtm3mv7Y+fCeOU5n4LU28Q+fzKGcXrilj66xszUUpY+tkyIUAAggggAACCCCAAAIIeIjAzZs3lTVrVlPGbNq0SV5eXubnTI7njv/a+vCb/LNKx21u4h29mEPenQ7ZGpVclgpQylg6GGIhgAACCCCAAAIIIIAAAp4iEBwcrNy5cytdunTavHmzvL29TRnj6+urJEmSWMvgN3mCSscNuftS4KWs8up4zNqsBLNTgFLGzrmQCgEEEEAAAQQQQAABBBDwGIFr166pYMGCSpUqlSllcuXKZUoZx+2xkydPbq2D78QxKhO/tcl34nIWZe4QaG1WgtkpQClj51xIhQACCCCAAAIIIIAAAgh4jMDly5f11ltvmSLGUcrky5fPPF++fLlSpEhhrcP68aNUNlF7k+/01QzK8NkR6ekTKba918GxFtNDg1HKeOjgOW0EEEAAAQQQQAABBBBAwBaBCxcuqGLFiooTJ44pZQoVKqRXXnlFixYtMt+esfWxdvRQlU/a1cS7cSeZHjyKp4Rxb+li4QPyypvR1tjkskiAUsaiYRAFAQQQQAABBBBAAAEEEPBEgXPnzundd9/VkydPTClTvHhx802ZP/74Q2nSpLGWZPWogaqYokeofBtPvae3vphvbW6C2SNAKWPPLEiCAAIIIIAAAggggAACCHikwJkzZ1SrVi3dvXvXlDKlSpUypczs2bOVNm1aa01Wff+1fFL3CZVv/9m8erPbHmtzE8weAUoZe2ZBEgQQQAABBBBAAAEEEEDAIwVOnjypDz/8UI67MDlKmXLlyplSZsaMGeaOTLY+Vg3tKZ+0A0LFO3P1DaVvd8bW2OSySIBSxqJhEAUBBBBAAAEEEEAAAQQQ8ESBwMBANWnSRJcuXTKljI+Pjyllpk6dqgwZMlhLsmpIN/mkGxIq3+17CZWo6W1rcxPMHgFKGXtmQRIEEEAAAQQQQAABBBBAwCMFjh49qtatW8vxM6ZNmzapSpUqppSZNGmSMmXKZK3JykGdVCn992Hna/DU2twEs0eAUsaeWZAEAQQQQAABBBBAAAEEEPBIgUOHDqlTp04KCAgwpUz16tVNKTN+/HhlyZLFWpOVA9uqUsYfKWWsnZD9wShl7J8RCRFAAAEEEEAAAQQQQACBl1rgwIED+vzzz3Xw4EFTytSsWdPcEvunn35S1qxZrT33lQNaqVKmsZQy1k7I/mCUMvbPiIQIIIAAAggggAACCCCAwEstsHfvXvXq1Uv79u3Thg0bVLduXfNNmZEjR8rb29vac1/Zv7kqZf6ZUsbaCdkfjFLG/hmREAEEEEAAAQQQQAABBBB4qQV2796tfv36yd/fX76+vmrQoIEpZYYNG6YcOXJYe+6rvmksnyxTKGWsnZD9wShl7J8RCRFAAAEEEEAAAQQQQACBl1pg586dGjhwoHbt2qV169apUaNGppQZPHiwcuXKZe25r+73kSp6TQ8734dPpBgxrM1OMDsEKGXsmAMpEEAAAQQQQAABBBBAAAGPFdi2bZuGDh2q7du3a/Xq1WrWrJkpZfr37688efJY67KmX31V8JoZZr4ndR8pZuxY1mYnmB0ClDJ2zIEUCCCAAAIIIIAAAggggIDHCmzZssVcP8bx35UrV6ply5amlPn666+VL18+a13W9v1A5bPODTPfww/uK068uNZmJ5gdApQydsyBFAgggAACCCCAAAIIIICAxwo47rjkuNOS47/Lly9XmzZtTCnjuPhvgQIFrHVZ1/d9lcs6P8x8d9+7owSJE1ibnWB2CFDK2DEHUiCAAAIIIIAAAggggAACHivguOPSuHHjzJ2Xli5dqg4dOphbYnfv3l2FChWy1sW3bzWVybo4zHy3qv6pxMlesTY7wewQoJSxYw6kQAABBBBAAAEEEEAAAQQ8VmD9+vWaNGmSufPS4sWL1bVrV/NNGcd/ixQpYq2Lb98qKpN1WZj5gt++rqQpk1mbnWB2CFDK2DEHUiCAAAIIIIAAAggggAACHiuwdu1aTZs2TY7/Lly40HxDxlHKdOzYUcWKFbPWZUO/SirltSrMfNcrXFHy11JYm51gdghQytgxB1IggAACCCCAAAIIIIAAAh4r4Ljj0owZM8ydl/744w9zLRlHKeO4tkzJkiWtddnUr4JKeq0NM9/lMheV6o3U1mYnmB0ClDJ2zIEUCCCAAAIIIIAAAggggIDHCjjuuDR79mxz56W5c+eauy45ShnHXZhKlSplrcuWb8qqeBbfMPNdLBmkNJnSWpudYHYIUMrYMQdSIIAAAggggAACCCCAAAIeK+C445LjGzKO/zrKmf79+5tSplmzZipTpoy1Ltv6v6WimTeFme980dNKmzW9tdkJZocApYwdcyAFAggggAACCCCAAAIIIOCxAkuWLDEX+HXceWnWrFkaNGiQKWU++eQTlStXzlqXHQOKq3CmrWHmO1vohN7Insna7ASzQ4BSxo45kAIBBBBAAAEEEEAAAQQQ8FiBRYsWacWKFeYivzNnztSwYcNMKdOgQQNVqFDBWpfdA4uoQMYdYeY7nT9AGXJ5WZudYHYIUMrYMQdSIIAAAggggAACCCCAAAIeK7BgwQKtWbNGjv9Onz5dI0eONKVM3bp15ePjY62L/7eFlD/DrjDznXjziDLn9bY2O8HsEKCUsWMOpEAAAQQQQAABBBBAAAEEPFbAcT0ZX19fc12ZqVOnavTo0aaUqVmzpt555x1rXfYNyq886feEmS8w50F5FchpbXaC2SFAKWPHHEiBAAIIIIAAAggggAACCHisgOOOS5s2bdK8efM0adIkTZgwwZQy1atXV5UqVax1OTA4j3K/sT/MfMey7VW2InmszU4wOwQoZeyYAykQQAABBBBAAAEEEEAAAY8V+P3337V9+3ZTyowZM8Z8W8ZRyjgKmXfffddal4NDcitXuoNh5juSZbeyF89vbXaC2SFAKWPHHEiBAAIIIIAAAggggAACCHisgOPivv7+/qaUGTFihLnYr6OUqVSpkvm2jK2PI0NzKHvaI2HGO5Rph3KWLGRrdHJZIkApY8kgiIEAAggggAACCCCAAAIIeKrAb7/9pv3795tSZsiQIea/jlKmfPnyqlGjhrUsR4dml3fao2HmO/DGVuUuU9Ta7ASzQ4BSxo45kAIBBBBAAAEEEEAAAQQQ8FiBX3/9VYcPHzZlTP/+/bVkyRJTypQqVcpc7NfWR8DwrMqaJjDMePvSblSe8iVtjU4uSwQoZSwZBDEQQAABBBBAAAEEEEAAAU8V+OWXXxQYGGhKmd69e2v16tWmlClevLg++OADa1mOf59FWVKfCDPf3tS+yutT2trsBLNDgFLGjjmQAgEEEEAAAQQQQAABBBDwWIHJkyfr9OnTctyF6fPPP9eGDRtMKVOoUCHVrVvXWpdTIzMpY8pTYebzT7lW+d8uZ212gtkhQCljxxxIgQACCCCAAAIIIIAAAgh4rMDEiRMVFBRkSplOnTpp27ZtppTJly+f6tevb63L6ZEZlCHlmTDz7U6+SgWqVLQ2O8HsEKCUsWMOpEAAAQQQQAABBBBAAAEEPFZgwoQJunTpkill2rRpY+7E5ChlcufOrQYNGljrcvaHN/TGq+fCzLczyXIVqva2tdkJZocApYwdcyAFAggggAACCCCAAAIIIOCxAuPGjdO1a9fMNWWaN2+ugwcPmlIme/bsatiwobUu539Mq7TJL4SZb0fixSr8XlVrsxPMDgFKGTvmQAoEEEAAAQQQQAABBBBAwGMFRo8erZs3b5pSplGjRuaiv4kSJZKXl5d5bevj4ug0SpP0UpjxtiVYoKI1q9sanVyWCFDKWDIIYiCAAAIIIIAAAggggAACnirw448/6t69e+bnS/Xq1dPZs2fNN2UyZMigxo0bW8tyeUwqpUpyJcx8W+PNU7EP3rc2O8HsEKCUsWMOpEAAAQQQQAABBBBAAAEEPFZg1KhRevTokSll3n//fV2+fNmUMmnTplWzZs2sdbk6LoVSJL4WZr4tcWareB17b+dtLaqHBaOU8bCBc7oIIIAAAggggAACCCCAgG0CI0aMMJEcpUzVqlUVHBxsSplUqVKpRYsWtsV9lufG+GRKlig4zHybYs5Uyfr23s7bWlQPC0Yp42ED53QRQAABBBBAAAEEEEAAAdsEhg8frtixY5tSxsfHR3fv3jWlTPLkydWyZUvb4j7LEzwhqZIm/DPMfBufTtVbH9l7kWJrUT0sGKWMhw2c00UAAQQQQAABBBBAAAEEbBP47rvvlCBBAnOh39KlS+vx48emlHnllVfUunVr2+I+y3NrYmIljn87zHwbHk1UqUZNrM1OMDsEKGXsmAMpEEAAAQQQQAABBBBAAAGPFRg8eLCSJElivilTrFgxxYoVy5QyjqKmTZs21rrcnZxACeLeCzOf771xKtPU3p9eWYvqYcEoZTxs4JwuAggggAACCCCAAAIIIGCbwLfffqtXX33VlDL58+c3t8N2lDKOnzS1a9fOtrjP8jz4Ja7ixn4YZr51t35UuU8/szY7wewQoJSxYw6kQAABBBBAAAEEEEAAAQQ8VmDAgAFKnTq1KWVy5sxpChpHKfP06VN17NjRWpdHU2MrdqzHYeZb8+f3qtCqg7XZCWaHAKWMHXMgBQIIIIAAAggggAACCCDgsQL9+vVTunTpTCnj5eWl1157zZQyDx8+VOfOne11mR4j3Gxrrg9RhTZd7c1OMisEKGWsGAMhEEAAAQQQQAABBBBAAAHPFfj666+VKVMmzZkzR+nTp1eGDBlMKeO4C1PXrnYWG08eP1HMmbHCHdrqqwNVsV13zx0qZx4hAUqZCDHxJgQQQAABBBBAAAEEEEAAgagS+Oqrr5Q1a1ZTyqRJk8Y8d5QyN2/eVLdu3aJq20it+/D+Q8WZEzfcNVZd6iefjl9Gag8OfvkFKGVe/hlzhggggAACCCCAAAIIIICA1QK9evVSjhw5zM+XkiVLply5cplS5vr16+re3c5vm9y/c1/x/ogfruvKC1+pUuc+VrsTzv0ClDLunwEJEEAAAQQQQAABBBBAAAGPFujZs6fefPNNU8rkP3QGAAAgAElEQVQ4boNdsGBBcwemy5cvq0ePHlba3PnzjhIuShR+KRPUQ5W69rcyO6HsEaCUsWcWJEEAAQQQQAABBBBAAAEEPFLA8W2YAgUKmFImZsyYKlGihPmmTFBQkL780s6fAN28flOvLE0SfilztpsqdRvkkfPkpCMuQCkTcSveiQACCCCAAAIIIIAAAgggEAUCjuvGFC1a1FxT5tGjRypbtqwpZU6dOiXH9WZsfARfvqGkK5OHG23Fmc56+/OhNkYnk0UClDIWDYMoCCCAAAIIIIAAAggggIAnCjjusFSyZElTyty5c0eVKlUypUxgYKAcd2ay8XH9wjUlX5Mi/FLmdAe93f17G6OTySIBShmLhkEUBBBAAAEEEEAAAQQQQMATBTp37qwyZcqYUubGjRt69913TSlz5MgR9evXz0qSK+cuK+X61OGXMifb6u0eo6zMTih7BChl7JkFSRBAAAEEEEAAAQQQQAABjxTo2LGjKlSoYEqZixcvqlatWqaUOXDggPr3t/NiuZdOXVDqjWnDL2VOtNLbPUd75Dw56YgLUMpE3Ip3IoAAAggggAACCCCAAAIIRIFAu3bt9M4775gL/TquI/Phhx+aUmbPnj0aOHBgFOwY+SUvnDin1za/Ee5CK483V6Uvx0d+I1Z4qQUoZV7q8XJyCCCAAAIIIIAAAggggID9Am3atFG1atXMN2WOHTumxo0bm1ti79y5U4MG2XkHo6CAM3p9W4bwS5nAJqrUa6L9+CR0qwCljFv52RwBBBBAAAEEEEAAAQQQQKB169Z6//33TSnj+MnSp59+ar4ps3nzZn333XdWAp09fFJv7Mr8P0qZRqrUa4qV2QlljwCljD2zIAkCCCCAAAIIIIAAAggg4JECLVu2VO3atU0ps3v3brVt29aUMn5+fho2bJiVJqcOBCrjnqzhZlsV8JF8ek+zMjuh7BGglLFnFiRBAAEEEEAAAQQQQAABBDxSoHnz5uY6Mo5SZsuWLerSpYspZdauXavvv7fzttIn9x1Vpn3Zw53X6oB6qth7hkfOk5OOuAClTMSteCcCCCCAAAIIIIAAAggggEAUCDRt2lSNGjUyF/p1FDE9evQwpczKlSs1cuTIKNgx8kse9z+sLAdzhrvQmoA6qtB7VuQ3YoWXWoBS5qUeLyeHAAIIIIAAAggggAACCNgv4Liwr6OY+eOPP7Ro0SL169fPlDJLly7VDz/8YOUJBOw8oKxH3jTZAi9mkVea47oYnFppkl4y/7YmoJYq9J5jZXZC2SNAKWPPLEiCAAIIIIAAAggggAACCHikgONbMo6L+y5cuFAzZszQ0KFDzd2XHK9/+uknK02Obtsr74B8JlvnaUN1/sZr2n2igPYPzqPYsR5rXUANlev9h5XZCWWPAKWMPbMgCQIIIIAAAggggAACCCDgkQINGzbUZ599psWLF2vixIn68ccfTSnj+DnT2LFjrTQ5snm3sp8oaLK1mfyDflrZxjy/Oym+4se9r/UB1VS290IrsxPKHgFKGXtmQRIEEEAAAQQQQAABBBBAwCMFHBf57dChg/m50qhRo0wx4/j50syZMzV+/HgrTQ5t3KmcpwqbbK0mjtbY1a3M81sTEylRvDvyDaiiMr2XWJmdUPYIUMrYMwuSIIAAAggggAACCCCAAAIeKVCvXj117dpVy5Yt04ABA8xdmOLHj69ff/1VP//8s5UmB3y3KffZYiZbiwnjNGFtC/M8eEISJUlwU34B76h072VWZieUPQKUMvbMgiQIIIAAAggggAACCCCAgEcK1KlTR927dzd3W/riiy+0YsUKxYkTR1OmTNGkSZOsNNm3drPynC9psjUd97MmrW9qnl8fl0zJEgVrQ6CPSvVaaWV2QtkjQCljzyxIggACCCCAAAIIIIAAAgh4pMAHH3ygL7/8UqtXr9Z//vMfrVu3TjFixDDfknEUMzY+9q7eqLwXS5lojcdO0hTfxub5lbEplCLxNW0KrKCSvVbbGJ1MFglQylg0DKIggAACCCCAAAIIIIAAAp4oULNmTfXp00dr165Vp06dtHHjRj158sRc5Hfq1KlWkuxZ6at8l8uabB+P/kXTNnxsnl/8KbVSJ72sLcfLqPiX663MTih7BChl7JkFSRBAAAEEEEAAAQQQQAABjxR477331L9/f61fv17t2rXTtm3b9PDhQ3MXJsd1ZWx87F62VgWuVTDRGvz4q37b1MA8D/oxrdImu6CtJ0qpWE8/G6OTySIBShmLhkEUBBBAAAEEEEAAAQQQQMATBapVq6bBgwfL19dXrVu3lr+/v+7evavvv/9eM2bMsJJk15JVKnijkslWb9QMzdpSzzw/Oyqd0r0apO0nSqhIz01WZieUPQKUMvbMgiQIIIAAAggggAACCCCAgEcKVK1aVcOGDTM/W2revLkOHDig27dva8iQIZo1a5aVJjsXrVChP98x2eqMmKXZ2+qY56dGZFCGlGe042QxFe6xxcrshLJHgFLGnlmQBAEEEEAAAQQQQAABBBDwSIHKlStr5MiR2rx5sxo3bqxjx44pODhYAwcO1OzZs6002b5gqYrcqmqy1Ro+R/N21DLPT3yfSZlSndKuU0VU8IttVmYnlD0ClDL2zIIkCCCAAAIIIIAAAggggIBHClSqVEmjR4/W1q1b1bBhQ508eVLXrl1T3759NW/ePCtNts1bpKJ3q5tsNYb9oQU7a5jnAcO85JXmuPxPF1T+7jutzE4oewQoZeyZBUkQQAABBBBAAAEEEEAAAY8UqFixoiZMmGAu8Fu/fn0FBQXp8uXL6tWrl+bPn2+lydY581Xs/vsmW7XvFmrx7mrm+ZHvvOWd9pj2nsmnvJ/7W5mdUPYIUMrYMwuSIIAAAggggAACCCCAAAIeKVC+fHlNnjxZO3bsUO3atU0hc+HCBXXv3l2LFi2y0mTL7Hkq/iDkJ0tVBy/W0j0hP2U6NCSHcrx+RPvP5tGb3fZamZ1Q9ghQytgzC5IggAACCCCAAAIIIIAAAh4pULZsWU2bNk27d+9WjRo1dOPGDfNtmS5dumjJkiVWmmyeNVslHoVc3Pedb5dpxb6Qi/4eGJRLud44pIPncivXf/ZbmZ1Q9ghQytgzC5IggAACCCCAAAIIIIAAAh4pULp0aXPr671798pxJ6Y7d+7o9OnT6tChg5YtW2alyabfZqrk0/omm8+AlVp9wMc83zswj/Jk2K/DQTmUo+shK7MTyh4BShl7ZkESBBBAAAEEEEAAAQQQQMAjBUqWLKk5c+bo6NGjKleunB4+fGgu9tu6dWutXLnSSpON06frLX1kspXvv0brDpY3z3cPyK/8Gffo2IVsytb5qJXZCWWPAKWMPbMgCQIIIIAAAggggAACCCDgkQLFixfXggULzLdjihQpoqdPn+r48eNq0aKFVq9ebaXJxmnT9FbMj022sv3WyfdwWfN85zcFVTDzbgVe9JJXpwArsxPKHgFKGXtmQRIEEEAAAQQQQAABBBBAwCMFihYtaq4dc+nSJeXOnduUMo5vyjRu3Fjr1q2z0mTDL1NUKnZjk63U137aeLSUeb6tX2EVybJTJy5nUuYOJ6zMTih7BChl7JkFSRBAAAEEEEAAAQQQQAABjxQoXLiwVqxYocSJE6tly5aaNGmSzpw5o48++ki+vr5WmvhNmajScZqZbCW+2qQtASXM881fF1fxrFt16koGZWx/ysrshLJHgFLGnlmQBAEEEEAAAQQQQAABBBDwSIGCBQtqzZo1SpYs2bPzP3funOrVq6cNGzZYaeI3abxKx/vUZCvaa6u2Hy9qnm/8qqRKem/W2Wvp9Ebbs1ZmJ5Q9ApQy9syCJAgggAACCCCAAAIIIICARwrky5dPfn5+SpIkybPzv3DhgmrWrKnNmzdbaeI7cazKxG9lshX+crt2nihsnvv2Kq3SOTbo/PXXlLbNeSuzE8oeAUoZe2ZBEgQQQAABBBBAAAEEEEDAIwXy5MmjLVu2KFGiRM/O33F9merVq2vr1q1Wmqyf8JPKJmxjshXosUv+pwqY52t7llO5XOt1MTi10rS+aGV2QtkjQCljzyxIggACCCCAAAIIIIAAAgh4pIDj4r47duxQggQJnp3/lStXVLlyZfPvNj7Wjx+lsonam2h5u+/RvjN5zfNVPSqoYu61unIzhVK2vGJjdDJZJEApY9EwiIIAAggggAACCCCAAAIIeKJAzpw55e/vr3jx4j07/evXr6tixYratWuXlSTrxw5X2Vc6m2y5u+3XwXO5zfMV3SupUp5Vun47mZK3uG5ldkLZI0ApY88sSIIAAggggAACCCCAAAIIeKSAt7e3Dhw4oDhx4jw7/+DgYJUtW9aUNTY+1v40ROWTdTPRcv7noA4H5TTPl3SrrCr5liv4zitK2vxPG6OTySIBShmLhkEUBBBAAAEEEEAAAQQQQMATBbJmzaojR44oVqxYz07/1q1bKlGihPbt22clyZofBqrCqz1MNu8uR3Tsgrd5vqjru3q3wBLdvp9QiZrctjI7oewRoJSxZxYkQQABBBBAAAEEEEAAAQQ8UiBLliwKDAxUjBgxnp3/nTt3VKRIEfMNGhsfq0f0VcVUX5loXp0CdPySl3k+v/N7eq/QQt17GE/xP7lnY3QyWSRAKWPRMIiCAAIIIIAAAggggAACCHiigKOUOX78+N9O/f79+3LcKvvw4cNWkqwe3lsV0/Qz2TJ1OKFTVzKZ53M7vq+aRebr4aPYitPooZXZCWWPAKWMPbMgCQIIIIAAAggggAACCCDgkQJhlTIPHz6U465MR48etdJk1dCe8kk7wGTL0P6UzlzNYJ7Pal9HdYrN1pMnMRSz4RMrsxPKHgFKGXtmQRIEEEAAAQQQQAABBBBAwCMFwiplHj9+rOzZsysgIMBKk1XffS6f1webbOnanlXQ9XTm+W9t66t+iZnm+dP6jxUjZkwr8xPKDgFKGTvmQAoEEEAAAQQQQAABBBBAwGMFwiplnj59Kse/nzhxwkqXlYO7qNIbw0y2NK0v6NKfaczzaZ99pI/emm6eP6r9QLHjPr+jlJUnQii3ClDKuJWfzRFAAAEEEEAAAQQQQAABBMIqZRwqmTNntraUWfVte/lkGGWGl7LlZV29ldI8n9zyE31S5hfz/P77dxUvYXwGjEC4ApQyfDgQQAABBBBAAAEEEEAAAQTcKhAtS5mBn8kn42jjlqzFdQXfSWaeT2jRVM3KTTLPb797U4mSJnarLZvbLUApY/d8SIcAAggggAACCCCAAAIIvPQC0bKUGfCpfDKNN7NJ3PSmbt8PKV/GNmuhTytMMM//fOeGkqRI+tLPjxN0XoBSxnk7jkQAAQQQQAABBBBAAAEEEHCBQHQsZVb3b6qKmUO+EZOg8R3de5jAPP+h8WdqUynkGzQ3Kl5VsjSvukCIJV5WAUqZl3WynBcCCCCAAAIIIIAAAgggEE0EomUp883HqphlmhGO0+iBHj0OuaDviI/bq33lkGvNXCl7SSnTpYomUyCmOwQoZdyhzp4IIIAAAggggAACCCCAAALPBKJjKbOmXwNV8PrNnEPMho/19GnIra+/+6izulQdbp5feitIqTOmZdIIhCtAKcOHAwEEEEAAAQQQQAABBBBAwK0C4ZUy4f27W8P+/83X9qur8l6/68mTGIr18ZNnkb6t/7k+rz7YvD5f/IzSZnnDhrhRn+HKdsmvlpSxnlTwu6jf7yXZgVLmJRkkp4EAAggggAACCCCAAAIIRFeB8G59bXMps65fLZXzmqcHj+Io3icPntH3q9NDX74/0Lw+V/ik0nlnjK5j+b/l/i2O9PRRyDENnv7fjvXgd1PKePDwOXUEEEAAAQQQQAABBBBAwAaB6FjKrO9XQ2W9FujO/QRK1PTOM8avan2lPh/0Na9P5w9QhlxeNhBHfYbpMZ7vQSkTYW9KmQhT8UYEEEAAAQQQQAABBBBAAIGoEIiO15Tx7VdNZbwW6+a9xErS7OYzlp41+umbur3N65N5jihTHu+oILNvTUoZp2ZCKeMUGwchgAACCCCAAAIIIIAAAgi4SiA6ljIb+lVWKa/lunE7qZJ/euMZxX/eHaTBDbqb18dzHlSWAjldxWT3OpQyTs2HUsYpNg5CAAEEEEAAAQQQQAABBBBwhcDTp0+VNWtWBQYGhlrO5mvKbOz3tt7yWqmrt15VypZXn2XvVHmohn3c1bw+5r1P2Qq/6Qom+9eglHFqRpQyTrFxEAIIIIAAAggggAACCCCAgCsEHj16pJw5c+rYsWPRqpTZ/E0FlciyVpeCUynNZ5eeZW9baZRGNW5vXh/JslvZi+d3BZP9a/y1lPnwiRTjL9eYsT+92xJSyriNno0RQAABBBBAAAEEEEAAAQQePHigvHnz6vDhw2GWMo5v0MSw8P/gb+1fRsUy++n89df0etvzz7K3rDhGY5q2Nq8PZdqhnCULecaQKWWcmjOljFNsHIQAAggggAACCCCAAAIIIOAKgXv37qlgwYI6ePBgqOUcP2s6cuSIYsWK5YqtXLrGtv6lVDTzRp29lk7p2519tnbz8uM1vvmn5vWBN7Yqd5miLt3X2sUoZZwaDaWMU2wchAACCCCAAAIIIIAAAggg4AqBO3fuqGjRotq/f3+o5by9vXXgwAHFiRPHFVu5dI2dA0qoUKYtOnUlgzJ1OPVs7SZlJ2rip83M631pNypP+ZIu3dfaxShlnBoNpYxTbByEAAIIIIAAAggggAACCCDgCoFbt26pZMmS2rt3b6jlHNea8ff3V7x48VyxlUvX2P1tERXIsEPHL2WWV6fjz9b+uNQv+qX1J+b13tS+yutT2qX7WrsYpYxTo6GUcYqNgxBAAAEEEEAAAQQQQAABBFwhEBwcrLJly5ry5Z+P3Llza/v27UqYMKErtnLpGnsGFVK+9LsUcMFL2boEPFu7Qclf9Wubhua1f8q1yv92OZfua+1ifytlHksxYlob1aZglDI2TYMsCCCAAAIIIIAAAggggICHCVy/fl0+Pj7auXNnqDN3XAB406ZNSpw4sXUq+wbnV5439uhIkLdy/OfIs3z1is/QjHYfmte7kq1SwaoVrcseJYEoZZxipZRxio2DEEAAAQQQQAABBBBAAAEEXCFw9epVVa5c2Xwj5p+P/Pnza/369UqaNKkrtnLpGgeHvKlc6Q7o4Nmcyv3584sUf1B0tmZ3qGP22plkmQpVe8el+1q7GKWMU6OhlHGKjYMQQAABBBBAAAEEEEAAAQRcIXD58mVVq1ZNW7duDbVcoUKFtGrVKiVPntwVW7l0jcPf5VKO1w9p/5ncytP9+UWK3y88T/M61TJ77Ui8WIXfq+rSfa1djFLGqdFQyjjFxkEIIIAAAggggAACCCCAAAKuELhw4YJq1qypzZs3h1quSJEiWrZsmVKkSOGKrVy6xtFh2eX92lHtOZVX+XvsebZ29YILtKBLDfN6W4IFKlqzukv3tXYxShmnRkMp4xQbByGAAAIIIIAAAggggAACCLhCICgoSHXq1NHGjRtDLVesWDEtXLhQqVOndsVWLl0j8Pus8kodqF0nCqjQl7uerV01/2It/k8183pr3LkqVrumS/e1crEnj6UZsZ9Hq/9IihnLyqi2haKUsW0i5EEAAQQQQAABBBBAAAEEPEjg7NmzatCggXx9fUOdteNW2XPnztVrr71mncjJEZmVKdVJbT9eSEV77XiW7+08y7W8e2Xzekvs31W8bm3rsrs80ON70swElDJOwFLKOIHGIQgggAACCCCAAAIIIIAAAq4ROH36tBo1aqR169aFWrBUqVKaOXOm0qVL55rNXLjK6VEZlCHFGW0JKKoSXz2/Hk7F3Ku0qkcls9PmmDNUon49F+5q6VIPb0q/J6GUcWI8lDJOoHEIAggggAACCCCAAAIIIICAawROnjyppk2bas2aNaEWLFeunKZMmaKMGTO6ZjMXrhL0Yzq9njxIG4+WUKmvNz1buVyutVrbs4J5vUnTVLLBRy7c1dKl7l+V5qSklHFiPJQyTqBxCAIIIIAAAggggAACCCCAgGsEAgMD1bJlS3OXpX8+fHx8NHbsWHl5eblmMxeucuGn1/RasovyO1xKZfr5PVu5VHY/+fUuY15vfDJFbzVs5MJdLV3q7gVpXlpKGSfGQynjBBqHIIAAAggggAACCCCAAAIIuEbg2LFjatu2rZYvXx5qwSpVquj7779X9uzZXbOZC1e5PCaVUiW5onUHy6p8/+c/vSqRbZM29XnL7LTh0USVatTEhbtautTt09L8v3ybqf5DKeZfLvxraWwbYlHK2DAFMiCAAAIIIIAAAggggAACHipw5MgRdezYUUuXLg0lUL16dX377bfKnTu3dTrXxydX8kQ3tHp/BfkMXP0sX1Gvrdrat7h57Xd/vEo3aW5ddpcHuhkgLcz2fFlKmQgTU8pEmIo3IoAAAggggAACCCCAAAIIuFrg0KFD6tq1qxYvXhxq6Zo1a6pPnz7Kly+fq7eN9HrBE5IqacI/tWJfJb3z7Ypn6xXMtFM7+xc2r33vjVaZpq0ivZf1CwQfkhbnopRxYlCUMk6gcQgCCCCAAAIIIIAAAggggIBrBA4cOKDu3btr4cKFoRasU6eO+VuhQoVcs5kLV7k9KZESxbujpf6VVXXI82/55MvoL/8BBUJKmTs/qEzzNi7c1dKlru+RluanlHFiPJQyTqBxCAIIIIAAAggggAACCCCAgGsE9u7dq169emn+/PmhFvzwww/NT5uKFSvmms1cuMr9KfEUL84DLdpdVdW/e/4tnzfT79O+b/OandbfGqGyn7Z34a6WLnV1h7S8CKWME+OhlHECjUMQQAABBBBAAAEEEEAAAQRcI+Dv76++fftq7ty5oRb8+OOP1apVK731VsiFc216PJoaW7FjPdb8He/p/eHPC6Ucrx/SoSEhP+VZf3OoyrbsbFPsqMlyeZO08i8zqv9AihknavZ6yVallHnJBsrpIIAAAggggAACCCCAAALRSWDXrl0aMGCAZs+eHSp2kyZN1LhxY5UtW9aqU3r65KlizIhpMs3ZVlO1RzwvlLK9dlRHh4bcLWrdjW9V7rPPrcoeJWEurpdWl3u+NKVMhJkpZSJMxRsRQAABBBBAAAEEEEAAAQRcLbBjxw4NHjxYs2bNCrV0ixYtVL9+fVWsWNHV20ZqvccPHynW7yHfBJm1pbbqjfr92XpZUgcqcHhW83rt1W9Uvl3PSO0VLQ4+v1Ja+zaljBPDopRxAo1DEEAAAQQQQAABBBBAAAEEXCOwdetWDR8+XDNmzAi1YOvWrVWjRg1VrlzZNZu5aJX7d+4r3h/xzWrTN9bXRz/99mzljClP6uSIzOb16ktfqWLHPi7a1eJlzi2W1lejlHFiRJQyTqBxCAIIIIAAAggggAACCCCAgGsENm/erFGjRmn69OmhFmzXrp3eeecdVa9eXY8ePVKsWLFcs2kkV7kdfFuJFic2q/zi11CfjJn6bMV0r57V2VHpQ0qZC1+oYucBkdwtGhx+5g/Jr+bzoPXuS7HiRoPg7o9IKeP+GZAAAQQQQAABBBBAAAEEEPBYgY0bN2rMmDGaOvV5sfFfjM6dO6tUqVL64IMPdO/ePcWLF88Kpz+vBivJ8mQmy8R1jdVs/KRnuV5Ldl7nf3w9pJQJ6qqKXYdYkTlKQ5yaJW2sRynjBDKljBNoHIIAAggggAACCCCAAAIIIOAaAT8/P02YMEFTpkwJtWC3bt2UK1cuOS74e+vWLSVKlMg1m0ZylesXrin5mhRmlbFrWqjVz+OerZgqySVdGp3GvF51pqN8Ph8eyd2iweEnfpU2N6SUcWJUlDJOoHEIAggggAACCCCAAAIIIICAawTWr1+vyZMna9Kk5982+e/KPXr0UOrUqdWpUycFBwcrSZIkrtk0kqtcPntJqXxDipcfV7RW2yk/PVsxeaJrujYupLBZdbqNfLr/EMndosHhgZOkrU0pZZwYFaWME2gcggACCCCAAAIIIIAAAggg4BqBNWvW6Ndff9XPP/8casHevXsrRowY6tu3r65evapXX33VNZtGcpWLJ4OUZlM6s8r3y9qr09QRz1ZMkiBYwRNCftq06lRL+XwxJpK7RYPDj42VtreilHFiVJQyTqBxCAIIIIAAAggggAACCCCAgGsEVq1aZW6HPW7c858A/Xfl/5YxI0eO1MWLF823Zmx4BAWc0evbMpgoQxZ1UbffvnsWK1G8W7o18ZWQUuZEM/n0nGBD5KjNcOQHaWe7v5Qy96RYdlz/J2pPPPKrU8pE3pAVEEAAAQQQQAABBBBAAAEEnBRYsWKF5s6day72+8/HgAEDdPjwYXMR4KCgIKVNm9bJXVx72JlDJ5R+dxaz6ID53dVz1sBnG8SLc0/3JicIKWWOfyKfLye7dnMbVzs0TNrdhVLGidlQyjiBxiEIIIAAAggggAACCCCAAAKuEVi2bJkWLFign356fl2W/648dOhQOX7etGTJEp0+fVrp04fcatrdj1P7jynjXm8T4+u5vdRnTt9nkWLGeKzH02Kb12sCP1SFXqFv9e3u/C7f/+Agyb87pYwTsJQyTqBxCAIIIIAAAggggAACCCCAgGsEHIWL438//BD6griOf5s2bZq2bt2qEydOKFOmTK7ZNJKrHPc/rCwHc5pVeszsp4ELvvzbio+nxlTMmE+1LrC2yvX6PZK7RYPD9/WV9n1FKePEqChlnEDjEAQQQAABBBBAAAEEEEAAAdcILFy4UCtXrpTjujH/fDhulT1o0CAFBATo2LFjypo1q2s2jeQqx3bsV7ajecwqXX8doqFLuv5txXuT4ylenAdaH1hDZXv9EcndosHhe3pKBwZQyjgxKkoZJ9A4BAEEEEAAAQQQQAABBBBAwDUC8+fP17p16zR8+PBQCzquJdO+fXvduHFDhw4dUo4cOVyzaSRXObLFX9mPFyAndsMAACAASURBVDCrtJsyQj+saP+3FW/+nFiJ49+Wb2BVlem1OJK7RYPDd3WRDg/7SylzV4oVPxoEd39EShn3z4AECCCAAAIIIIAAAggggIDHCsybN08bNmyQ4/ox/3w47spUr14988/79+9X7ty5rXA6tHGncp4qbLK0mjhaY1f/5XbQkq6PS6ZkiYK1IfBtleq13IrMURpiexvp2F+uCVSPUiai3pQyEZXifQgggAACCCCAAAIIIIAAAi4XmDNnjrZs2aIhQ4aEWttxAeAaNWqYf/f391e+fPlcvr8zC+5fv1VvnituDm0+frx+Xtf8b8tcGp1SqZJc1ebj5VXiyzXObBG9jtnSXDr+8/PMlDIRnh+lTISpeCMCCCCAAAIIIIAAAggggICrBRzfhtm5c6e5dsw/H8uXL1flypUVN25cbd68WQULFnT19k6tt2/NRuW5UMoc22TsRE32bfK3dYJ+TKu0yS5o64nSKtbT16k9otVBmxpKJ3+llHFiaJQyTqBxCAIIIIAAAggggAACCCCAgGsEZsyYoT179mjgwIGhFnRca6Z8+fJKlSqVFi1apKJFi7pm00iu4r9infJfKW9W+Xj0L5q24eO/rXh6ZHqlT3FWO06WUOEemyK5WzQ4fENd6fRf7jLFN2UiPDRKmQhT8UYEEEAAAQQQQAABBBBAAAFXC0yfPl0HDx7UN998E2ppx8+aSpQooWzZsmnKlCnmuQ2PHQuWqvCtqiZK7RG/a8622n+Ldfz7TMqc6pR2nSqsgl9styFy1GZYX0M6t+D5HnXvSLETRO2eL8nqlDIvySA5DQQQQAABBBBAAAEEEEAgOgpMmzZNR48eVd++fUPF3717t/nJUpEiRcyFgEuXLm3FKW6dPVfFHnxgslQdvFhL94QUNP99HBmaTd6vBWjPmQLK9/kuKzJHaYi1laXzf7mgMaVMhLkpZSJMxRsRQAABBBBAAAEEEEAAAQRcLfDLL7/o+PHj6tOnT6ilAwICzLdkfHx81KNHD/NTJhsem6b/qpJqaKKU779G6w7+PdfBwTmVM91hHTj7pnJ322dD5KjNsLqCdHHt8z0oZSLsTSkTYSreiAACCCCAAAIIIIAAAggg4GqBSZMm6cyZM+rdu3eopa9cuWKuJ1O7dm21bNnSlDM2PPwmT1DpuC1MlOJfbdbWgJA7Mf33sXdgHuXJsF+Hg3IoR9dDNkSO2gwrS0mXN1LKOKFMKeMEGocggAACCCCAAAIIIIAAAgi4RuDnn3/W+fPn9eWXX4Za8NGjR4oTJ46aNWtmihnHnZhsePiOH6UyidqbKPm+8Nfe03+/VffO/gVUMJO/jl3Iqmydj9kQOWozLC8mXd1GKeOEMqWME2gcggACCCCAAAIIIIAAAggg4BqBMWPGKDg4WJ9//nmYCzrKGsffHYXMu+++65pNI7nKup8GqVyy7mYV7y5HdOyC999W3Na3iIp47dDJy5mUqcOJSO4WDQ5fUkC64f+XUua2FDthNAju/oiUMu6fAQkQQAABBBBAAAEEEEAAAY8VGDVqlB4+fKjOnTuHa9CxY0dzPZkaNWpY4bRmeA9VSBNyC+/07U7r7LX0f8vl27uUSmffqKDrafV6myArMkdpiEW5pT8PUso4gUwp4wQahyCAAAIIIIAAAggggAACCLhGYNiwYeYnSu3atQt3wa5du6pkyZKqVauWazaN5CqrB7VTxfQ/mFVStrysq7dS/m3FFd0rqVKeVbp2K7le/fRaJHeLBocv9JZu/uVnWnX5pkxEp0YpE1Ep3ocAAggggAACCCCAAAIIIOAygQcPHihevHj69ttvlTRpUrVq1Srctbt3725ujV23bl2X7R+Zhfz6v6/Smefr4aPYStDkrh4/if235RZ0qa7qBRfp7oP4StD4bmS2ih7Hzs8s3T75PCulTITnRikTYSreiAACCCCAAAIIIIAAAggg4CqBY8eOydvbW/369VPatGnNxXzDe/Ts2VO5c+dWgwYNXLV9pNbZM6iQ8qXfpVNXMihTh1Oh1prZrq7qFv/d/PuTeo8VM1bMSO1n/cHz0kt3z1LKODEoShkn0DgEAQQQQAABBBBAAAEEEEAgcgL79u1T3rx5za2wvby81KhRo3AX/Oqrr5Q1a1Z9/PHHkdvURUdfH59cyRPdkN/hUirTzy/UqhM/bawmZaeYf79T7ZYSJknkop0tXWbua9K9i38pZW5JsV/yc3bRKChlXATJMggggAACCCCAAAIIIIAAAhEX2LVrlwoVKqQvvvhCefLk0YcffhjuwX379lX69OnVpEmTiG8QRe+8f+ee4v2RwKw+1a+hGo2ZGmqnEY3aqf07IdecuVruklK8niqK0liy7OyU0oOrlDJOjINSxgk0DkEAAQQQQAABBBBAAAEEEIicwNatW1W8eHE5LuJbrFgx1a5dO9wFBwwYoNSpU6t58+aR29QFR186dV6pN75uVhqyqKu6/TYk1Kp9a3+pXjX7m38/V/ik0nlndMHOFi/xezLpYTCljBMjopRxAo1DEEAAAQQQQAABBBBAAAEEIifg5+enMmXKqG3btvLx8fmft7seNGjQCy8GHLk0ET86cOcBeR150xzQedp3Gr60S6iD27/zvUY06mT+/UjmXcpeokDEN4iO75yZWHp8m1LGidlRyjiBxiEIIIAAAggggAACCCCAAAKRE1izZo0qVqxofpLk+JZM1apVw11w6NChih8/vtq0aRO5TV1w9N5Vfsp7qYxZ6ZMxk/WL3yehVq1VZI7mdAz55s/2hAtV5P1qLtjZ4iVmJJCe3KOUcWJElDJOoHEIAggggAACCCCAAAIIIIBA5ASWL1+uypUrq06dOmrRooUqVaoU7oIjRowwf+vQoUPkNnXB0dvmLVDRuzXMSjWG/aEFO0Oe//VR1GurtvYtbv5p/a2RKvtpOxfsbPESv8WRnj56HrDOTSlOYosD2xONUsaeWZAEAQQQQAABBBBAAAEEEPAYgUWLFql69eqqUqWKunXrpnLlyoV77j/88IPu37+vLl1C/1To3wbbOG2q3ooZcqeosv3Wyfdw2VARkia8oatjUyhWzCfacLyKSn255N+O+e/uN91xy++nlDJOqFPKOIHGIQgggAACCCCAAAIIIIAAApETmDt3rj744AOVLl1aAwcO1FtvvRXugmPGjNGff/5pyht3P9aPG6WyidubGPl77NaeU/nDjLR7QD7lz7hXZ66mV/p2p90dO+r2f/JYmhH77+vzTZkIe1PKRJiKNyKAAAIIIIAAAggggAACCLhKYObMmapfv74KFCggR+lStGjRcJceP368Ll++rB49erhqe6fXWTWsp3xeG2COz9zxuE5ezhzmWiu/8JHPm6t15WYKpWx5xen9rD/w0V1pVkJKGScHRSnjJByHIYAAAggggAACCCCAAAIIOC8wbdo0ffzxx/L29taMGTNMORPeY9KkSTp79qx69erl/IYuOnJl/09VKfN4s1ryFtd0407yMFde0KWaqhdcrD/vvqIkzf500e4WLvPwT+n3pJQyTo6GUsZJOA5DAAEEEEAAAQQQQAABBBBwXsBRtDRt2lSvv/66li1bpjx58oS72C+//KLAwEB9/fXXzm/ooiPXfP2BKmSba1aL1fCRnjyNFebKM9vVVd3iv+vBoziK2+iBi3a3cJl7V6S5qf5RyvwpxXnFwrD2RaKUsW8mJEIAAQQQQAABBBBAAAEEXnqBsWPHqlWrVkqSJIm2bt2qHDlyhHvO06dP14EDB9S/f3+3u/h97aPS2Vbr5t3EStL8Zrh5Jn7aRE3KTjZ/f1znkWLFCbu8cfsJRTbA3fPSvNcpZZx0pJRxEo7DEEAAAQQQQAABBBBAAAEEnBdw3FGpXbt2ihkzpo4ePSovL69wF5s1a5Z27dqlb7/91vkNXXTk9m+Kq0iWrTp37XW90e5cuKv+8EkbtXn7J/P3O9VuKWGSRC5KYNkyt09J8zNRyjg5FkoZJ+E4DAEEEEAAAQQQQAABBBBAwHmB4cOHq3PnzmaBU6dOKUOGDOEuNmfOHG3evFnfffed8xu66Mh9g/IoT/r9OhyUXTn/czjcVQfV76Zu1YeYv1+vcEXJX0vhogSWLfPnMWmRN6WMk2OhlHESjsMQQAABBBBAAAEEEEAAAQScFxgyZIh69uyphw8fKigoSGnTpg13sfnz52vdunVyFDnufgQO95JXmuPacbyQivTaEW6cr2r1UZ8PQq6Bc774GaXN8oa7o0fN/sEHpcW5KWWc1KWUcRKOwxBAAAEEEEAAAQQQQAABBJwXGDhwoAYPHqwbN26Y212nTJky3MUWLVqk5cuXa9SoUc5v6KIjL45OozRJL2ntgXKqMGBtuKt2qzZIgz7sbv5+Kt8xZcyd1UUJLFvmur+09B93zqoTLMVJYllQO+NQytg5F1IhgAACCCCAAAIIIIAAAi+1QL9+/eS42O+5c+dMMZM06T9uq/yXs3fcnWnBggX66aeQa7S483FnUkIljHdXC3ZWU41hC8ON0v6dERrRqKP5e4D3PmUt/KY7Y0fd3le3S8uL/n19SpkIe1PKRJiKNyKAAAIIIIAAAggggAACCLhK4KuvvtJvv/2mY8eO6cGDB4oTJ064S69atUqOi/2OGzfOVds7tc6TR48Vc1Zsc+xvm+qpwY8zwl3n0wpjNbZZK/P3gxm2K1epwk7taf1BlzdKK0tRyjg5KEoZJ+E4DAEEEEAAAQQQQAABBBBAwHkBx/VklixZIn9/fz19+vR/LrR27VpNnTpVEydOdH5DFxx5/849xfsjgVlpsm8jNRk7JdxVPy71i35p/Yn5+97UvsrrU9oFCSxc4uI6aXV5ShknR0Mp4yQchyGAAAIIIIAAAggggAACCDgv0L17d23YsEEbN258YSnj5+enCRMmaMqU8EsQ55NE/Mib12/qlaUh10oZu7qFWk0M/5s7dYrN0qz29cx7dyVboYJVK0V8o+j0zvMrpLXvUMo4OTNKGSfhOAwBBBBAAAEEEEAAAQQQQMB5ga5du2r//v3mAr4v+qbMpk2b9OOPP+rXX391fkMXHHn9wjUlXxNya+uRy9uqwy/hX3i4esEFWtClhnnvtgQLVLRmdRcksHCJc4uk9f84t9o3pLjhXyPIwrNwWyRKGbfRszECCCCAAAIIIIAAAggg4LkCHTt21MmTJ+W43fWLSplt27Zp2LBhmjEj/Gu4/BuSl09fUKoNIbfuHrK4i7pN/y7cbSvlWaEV3UO+QbI51kyVqFf334j47+9xZp7kV+vv+1LKRHgOlDIRpuKNCCCAAAIIIIAAAggggAACrhJo27atKWMcd1R6USmzc+dOOW6hPXv2bFdt79Q6QQFn9Pq2DObYfvN6qvfsb8Jdp1R2P/n1LmP+vvHJFL3VsJFTe1p/0KmZ0sb6lDJODopSxkk4DkMAAQQQQAABBBBAAAEEEHBeoFWrVqpVq5ZKly6tBAlCLp4b3mPPnj3q06eP5s2b5/yGLjjy9MHjyuDvZVbqOaufBsz/MtxVC2fZru39Qm4V7Xt3jMo0a+mCBBYucWKatPljShknR0Mp4yQchyGAAAIIIIAAAggggAACCDgv0Lx5czVo0EAVKlR44SIHDhyQ48LACxcufOF7o/INJ/YcVuYDOc0WXX8drKFL/hPudm+m36d93+Y1f18bPFTlW3eOymjuWztworS1GaWMkxOglHESjsMQQAABBBBAAAEEEEAAAQScF2jcuLGaNm2qMmVCfuLzvx6HDx9Wp06dtHTp0he9NUr/fmz7PmU7FlK0tP9lhEYtbx/ufl5pAhQwLJv5++pLfVSx41dRms1tix8bI21v/Y9S5roUN5nbIkWnjSllotO0yIoAAggggAACCCCAAAIIvCQCDRs21GeffaaSJUu+8IwCAgLMe1esWPHC90blGw5t2qWcJwuZLVpP/EljVv+jjPjL5ulePauzo9Kbf1l5rpsq/WdQVEZz39pHRkk7/1FO1aaUiehAKGUiKsX7EEAAAQQQQAABBBBAAAEEXCZQv359de7cWUWLhlx35X89Tpw4oWbNmmnNmjUvemuU/v3A+i3Kfa6E2aP5+PH6eV3zcPdLkfiKroxNFVLKnGqrSl+Ef/vsKA0d1YsfGirt7vr3XShlIqxOKRNhKt6IAAIIIIAAAggggAACCCDgKoHatWurR48eKliw4AuXPHPmjBzfrFm/fv0L3xuVb9i7yk95L4X83KrR6CmauiH8OyoljHdbtycmDilljjdVpS9/jspo7lv7wLfSni8oZZycAKWMk3AchgACCCCAAAIIIIAAAggg4LzA+++/r759+ypv3pBrtPyvR1BQkOrUqaONGze+6K1R+vfdS1erwHUfs8eHP0zXjM0fhrtfrJiP9GhqHPP31YEfqmKv6VGazW2L7+sr7fvH9XL4pkyEx0EpE2Eq3ogAAggggAACCCCAAAIIIOAqgWrVqmnw4MHKlSvXC5e8dOmSqlevrq1bt77wvVH5hp0Ll6nQzSpmi9ojftecbbX/53YPpsRRnNiPtDagpsr3nhuV0dy3tn9P6eCAv+9f+5oUN7n7MkWjnSllotGwiIoAAggggAACCCCAAAIIvCwClStX1siRI+Xt7f3CU7p27Zrefvtt7dix44Xvjco3bJu3UEXvvme2qDHsDy3YWeN/bvfnz6/olfi35BtQRWV6L4nKaO5be2dn6chwShknJ0Ap4yQchyGAAAIIIIAAAggggAACCDgv4OPjo3HjxilLliwvXCQ4OFhly5aVv7//C98blW/Y8vscFX8Y8u2YKoOXaNmekG/NhPe4NDqlUiW5qk2B5VWyl3svUhxlLts+kwJGU8o4CUwp4yQchyGAAAIIIIAAAggggAAC/4+964Cq6mjCnxUVFEVFxYJUFRs2RBREwN41MZbYNbaosfeS2GI01tiN3Vhi7wUEERFB7KKiIMWODbGBCP+Zvf9D+rvvUd7DzJzjEd6b3Z397mXv3dmZbxgB9RFwdHTEli1bUKFCBaWdvH//Hra2trhx44ZS3axU8N6xE3bxEo+My9zTcLsl8cukJQ+Xl0VZg8fwfdAQNlO8stI0zfXt0w8I3shOGTWvADtl1ASOmzECjAAjwAgwAowAI8AIMAKMACPACKiPQKNGjbB7924YGRkp7eTTp0+oVasWbt++rVQ3KxXOb9uKhrmlikuNZ3nA807jdIcLWmwCU8MQXAmtg1qTNJt6lWW4nO8OhO5gp4yaALNTRk3guBkjwAgwAowAI8AIMAKMACPACDACjID6CFDky6FDh2BoaKi0k9jYWEEIHBgYqFQ3KxXObf4b9vkGiCEazPCGz/0G6Q53Z0ElVDIKxI3wGqg+4VpWmqa5vj07Aw+TkRh3fgnoGGjOphw0MjtlctDFYlMZAUaAEWAEGAFGgBFgBBgBRoAR+FYQqFu3Lk6dOgUDA+Wb9/j4eJiZmSE4OFij0/fcsBoOBYYIG+pO9YP/g7rp2nNzflVULReAgEdWsBp3S6O2Z9ngHq2Bx8lIjNkpIxtudsrIhooVGQFGgBFgBBgBRoARYAQYAUaAEWAEMgsBa2treHp6okiRIrK6JEJgjTtl1i2Dg+5IYW/NSVdxPaxmurZfmWsNa+NrCHxiCcsxd2XNM8cpubkAz9ySms1OGdmXkZ0ysqFiRUaAEWAEGAFGgBFgBBgBRoARYAQYgcxCoFq1arh48SJ0dXVldWliYoIHDx7I0s0qJY9VC+CoP150bzX+Fm4/skp3KL9ZdVHX1B/Bz01h+ktQVpml2X5POwAR59gpo+ZVYKeMmsBxM0aAEWAEGAFGgBFgBBgBRoARYAQYAfURqFy5Mq5duwYdHR1ZnWhDpMyZZbPgVGK6sNd89D0EPTNP13bvmQ3QwMIHYS/Ko8KIMFnzzHFKJ22BlxfZKaPmhWOnjJrAcTNGgBFgBBgBRoARYAQYAUaAEWAEGAH1EbCwsMCdO3eQJ08eWZ1og1PGbfFUOJeaI+w1HhmCsBfG6dp+dpoDHCqfw+PXZWA07LGseeY4peO1gddXkjllXgA6xXPcVDRhMDtlNIE6j8kIMAKMACPACDACjAAjwAgwAozAfxwBcrIEBQUhV65cspDQCqfMwnFwNloo7DUa9ghP3qRfztt1shOcq7rjeWRJGA55LmueOU7paDUgMhmJcWd2ysi9juyUkYsU6zECjAAjwAgwAowAI8AIMAKMACPACGQaAqo6WVTVzzRDE3Xk9sdIOJdbJj4xHPIMEW/TL+d9fHwLtKh5Eq/fF0Wxga+zwiTN93nYEoi6l9QOdsrIvi7slJENFSsyAowAI8AIMAKMACPACDACjAAjwAhkFgKqOllU1c8sOxP34zpvCFyMV4uPig18hTcfiqU7zKExbdG29hFEfdJD4X5RWWGS5vs8aAK8D2GnjJpXgp0yagLHzRgBRoARYAQYAUaAEWAEGAFGgBFgBNRHQFUni6rpTupblnZLt7kD4Fzxb6Gg1y8K76P10h3m35Gd8Z3NPkR/zg+d3tFZYZLm+9xfFviYjC+HI2VkXxd2ysiGihUZAUaAEWAEGAFGgBFgBBgBRoARYAQyCwFVnTKWlpYICAhA3rx5M8sElftxm90LzqZbRTud3p8QE5t+5ah/hnVFN7tdiIvLhVzdvyBXbnn8OSobpskGe0sC0S+SWtApAihQQpNW5Zix2SmTYy4VG8oIMAKMACPACDACjAAjwAgwAozAt4OAqk4ZKysr+Pv7o2DBghoDwX12NzQx3SnGz/3jF8TH507Xlo2DeqOPwxahE/vdZ+TNrzmHUpaB9q8+8PktO2XUBJidMmoCx80YAUaAEWAEGAFGgBFgBBgBRoARYATUR0BVp0zNmjXh5eWFwoULqz9oBlt6zPoOjmZ78SUuN/L2/KK0tzX9B+Inp/VC72O7DyiopzmHklJj1VXYVQj48pGdMmrix04ZNYHjZowAI8AIMAKMACPACDACjAAjwAgwAuojoKpTpk6dOnB1dUWxYumT66pvkfKWZ2e1R2OzQ/gUo4OCfT8pbbC89zD83Gyl0Its9gb6JfSVtslxCjvyAfGx7JRR88KxU0ZN4LgZI8AIMAKMACPACDACjAAjwAgwAoyAegjEx8fDzMwMwcHBsjuoX78+Dh8+DEPD9MtQy+5QDcVzs1rB3uy4qKZUpL/yakoLu4/BmNaLxEgvHSNQ3Ogb41mJjwd2pJLCxZwysu8udsrIhooVGQFGgBFgBBgBRoARYAQYAUaAEWAEMgOBL1++oHLlyrh3757s7ho1aoTdu3fDyMhIdpvMVjw/uxkamp7G6/dFYfDTa6Xdz+kyCZPb/y70njZ4hNImmrNdqbHqKHz5BOxKJSWr03OgQEl1evzPtWGnzH/ukvOEGQFGgBFgBBgBRoARYAQYAUaAEdAsAtHR0bC2tsbt27dlG+Lo6IjNmzfD2NhYdpvMVvSZ0wS2Jh6IeFsChkMilHY/reOv+O27mULvYZ0QlKukOduVGquOQsxrYI9BypbslJGNJjtlZEPFiowAI8AIMAKMACPACDACjAAjwAgwApmBwPv372Fra4sbN27I7q5p06ZYvXq1SHvSlPjOtYdNRS88fl0aZX9+otSM8W1+x/xuk4ReSPVAVKxuobRNjlL4+ATYn0r0DztlZF9GdsrIhooVGQFGgBFgBBgBRoARYAQYAUaAEWAEMgOByMhIUOTLlStXZHfXsmVLLF68WKQ9aUouzW2AuhV9EPayHIxHhCs145cWi7G452ihd7/yLZjXtlLaJkcpvAsGDqXiJGOnjOzLyE4Z2VCxIiPACDACjAAjwAgwAowAI8AIMAKMQGYg8PLlS7Ro0QJ+fn6yu2vXrh3mzp2LatWqyW6T2YpXfq+HWhUu4cHzijAd9UBp98Oa/oW/+gwXendNr6CSrbXSNjlK4c0t4Fgq16PTM6CA5giZcxKG7JTJSVeLbWUEGAFGgBFgBBgBRoARYAQYAUbgG0Dg2bNn6NChAy5cuCB7Np06dcK0adNQq1Yt2W0yW/H6/FqoUf4q7j01h+UY5STFA5usxdoBg4QZAeV9YWVfL7NN0mx/Ly8BJ1OZEztlZF8XdsrIhooVGQFGgBFgBBgBRoARYAQYAUaAEWAEMgOBR48eoWvXrjh37pzs7n744QeMHTsW9eppzrFxa0F1VC17E7cfVYbVeOUkxX0cNmLjoH5ijtdLeaGGc0PZ880Ris+9AFf7lKayU0b25WOnjGyoWJERYAQYAUaAEWAEGAFGgBFgBBgBRiAzEAgNDUWfPn3g7u4uu7sePXpg2LBhsLOzk90msxXv/lkFlcrcwY3waqgxUTlJcY+G27BtaE9hxtXi7rBu7pjZJmm2vyenAfdm7JTJwFVgp0wGwOOmjAAjwAgwAowAI8AIqIvA/v374erqihUrVqjbBbdjBBgBRiDHIhAUFITBgwfj9OnTsufQu3dv9O/fHw4ODrLbZLbi/cUWMC91H1dCaqL2lKtKu/++/m7sHvGD0PMvchJ12qTiwFDaixYrPDwEeLZnp0wGLhE7ZTIAHjdlBBgBRoARYAQYAUZAXQTatGmDo0ePIj4+Xt0uuB0jwAgwAjkWgbt37+KXX37B8ePHZc9hwIAB6N69O5ycnGS3yWzFkKUmqFgyBH7BdWAz7ZLS7jvU3Y/9ozoJPb9CR1CvQ2ulbXKUQuhu4LzkdEoiHZ8CBUvlqKloylh2ymgKeR6XEWAEGAFGgBFgBP6zCMTGxsLc3Bz0f3h4OHLlyqW1WHz5HAuvLRsQ++ElGvQeiUJFCmmtrWwYI8AI5BwEbt26hQkTJuDIkSOyjabImo4dO6J58+ay22S2Yvjy8ihf/CF87tVHg5k+SrtvZX0UR8e1EXo++ffB9ruOStvkKIXgzYBPH3bKZOCisVMmA+BxU0aAEWAEGAFGgBFgBFRF4MmTJzAyMhKlYB8/fgxPT0/o6+urwleMywAAIABJREFU2k226Z+Z3QNOpv+I8dyDvkeTabuzbWweiBFgBL5dBK5du4YZM2bgwIEDsic5fPhwsXa2bq25aJMnK8ugTNGn8LrbEPa/eSm1vWn1Uzg1UXIieefeBbuuXZS2yVEK91YDfkPYKZOBi8ZOmQyAx00ZAUaAEWAEGAFGgBFQFQHagCxevBjLli0TVURWrlwJCwsLVbvJFv3IF29Q8Jgh8uf9LMb7GFMAub5/jQK6BbJlfB6EEWAEvl0ELl++jLlz52LPnj2yJzlq1Cg0btxYlNLWlESsKYmShV/AI6AxmszxUGpG4yoe8JjaROidj9uKhj/+qLRNjlK4vQi4MoadMhm4aOyUyQB43JQRYAQYAUaAEWAEGAFVEVi0aBHy5MmDkSNHio3FzJkzYW1trWo32aJ/5fgZ1HrtnGSsQPNrsLSpkS3j8yCMACPw7SLg6+sLWg937twpe5Ljx48X5bC///572W0yW/HNuqIoqhsJ15vOaDrPVWn3DSy84T1TKoN97vMG2Pfuq7RNjlK4MQu4MZ2dMhm4aOyUyQB43JQRYAQYAUaAEWAEGAFVERg9ejQaNWqETp06gcq7Dh06FA0bSi/s2ibua5aiSeFfkph1Ic9uNPhBcxsibcOI7WEEGAH1EPD29haRgtu2bZPdwbRp01C5cmWxdmpK3m3Qg16B9zh+rTla/XFCqRl1TC7h0ux6Qs/z02o49BuktE2OUrgyDri9MBWnzBOgYOkcNRVNGctOGU0hz+MyAowAI8AIMAKMwH8SgT59+qBv374iBP+nn34SJ75NmzbVSixOzx2KphVXJbHN/e0iNBk8SivtZaMYAUYg5yBAfFobNmzApk2bZBs9e/ZslClTRpTF1pREb9aBTr4YHL7cBu3+PKzUjOrlr+P67zWF3tn3y9B44HClbXKUgu9g4P4adspk4KKxUyYD4HFTRoARYAQYAUaAEWAEVEWgbdu2mDdvHqpVqwZt4EdIz/6zv7VFY/OklVFOhY1Es4lLVJ026zMCjAAjkASBM2fO4J9//sH69etlI7NgwQLo6uqKCENNSdy23MidOx77/Tqg05L9Ss2oVOYO7iysIvQ8IhfAcchYpW1ylML5bkBoKiloHTlSRu51ZKeMXKRYjxFgBBgBRoARYAQYgUxAgFKV/v33X1GBaerUqahSpYpGQ/HTm9KlubaoW/EinkUaopT+c6Hqer8rXKbvyAQkuAtGgBH4LyNw6tQp7Nu3D6tXr5YNw/Lly/H582dQGqgmJC72C3LvziuG3uXzPbouV16NzqRkMIKXmIk2Z17MgtOIqZowPevG9GgDPD6asn92ysjGnJ0ysqH6thVDQ0PRuXNnXLp06dueKM+OEWAEGAFGgBHQMAJWVlbieVuoUCERMVO8eHGRxqSNcntBVVQpG4Cb4VVRrng4ihZ6C6/7Lmg0/bQ2mss2MQKMQA5C4NixY6B/f/31l2yr165di5cvX2LSpEmy22SmYvSHT9A5UFB0ue18d/RcuV1p92UNHuLh8vJCz+3pZDiPnqO0TY5SOO0ARJxjp0wGLho7ZTIA3rfU9ODBg6ICRFxcHHLlyvUtTY3nwggwAowAI8AIaBUCJiYmCA4OFs/bpUuXimcvpTFpo4Qtq4AKJcJx4Z4tSus/hYlhCK6G1Yb1RH9tNJdtYgQYgRyEwKFDh0ApTEuWyE+H3LJli1g/qWqdJuTdmyjoHSsiht54tg/6rd2o1IySRZ7j+apSQs/10Wi4jPtTaZscpXC8FvD6aipOmcdAwTI5aiqaMpadMppCXsvGpVzOgQMH4unTpyhVSlo0WBgBRoARYAQYAUYg8xEgp8yDBw9Ex/T8pWcvpTFpo7xeVwzFdN/gxPVmMCr6BDUq3EDgU0tYjr6rjeayTYwAI5CDEKDUpfPnz+PPP+U7KXbt2oUrV67g999/18hM3zx7haJuxcXYa9wGYvCGtUrt0C/0Bm/WFRN6rmFD4TJxhdI2OUrhsCUQdS+lyR3ZKSP3OrJTRi5S37gekWaNHz8ed+7cQaVKlb7x2fL0GAFGgBFgBBgBzSGQ2CmzY8cOXL9+XaQxaZvEfYlD/I58yJM7Drt8uqBC8TA0sPBB+MtyKD88XNvMZXsYAUYghyFA69+NGzcwd+5c2ZYfOHAAZ8+exeLFi2W3yUzFiPBnKHlOKvO8/OTPGLFludLuC+b/gA8bdYWeW0h/OE+WT2ystHNtUNhfDvj4iJ0yGbgW7JTJAHja2JQWqK5du4pScarI5MmTxQuhv78/ateurUpT1mUEGAFGgBFgBBgBmQhQqpKFhQWCgoJECwrfd3V1xbJly2T2kH1qb1++RZGT+mLAVa6DYGoYjOY1TuPVu2Iw+OlV9hnCIzECjMA3iQCVwiZeyxkzZsie34kTJ0C0C6tWrZLdJjMVnwQ/RBkfiR9mwZExGL9jodLu8+SORezWfELPLbgnnKduUdomRynsKQ7EpPJM4EgZ2ZeRnTKyocoZipSfvnPnTvzwww8qGTxkyBDBfr5nzx7Y29ur1JaVGQFGgBFgBBgBRkAeAu/fv0f9+vVx8+ZN6QXdzQ10WqxKSVh5I2Vc61FgGMpeMhYd/bZ/KqqWDUBnm32Iic2H/L1iMj4A98AIMAL/aQTWrFmD169fY+LEibJxcHd3x9atW7FhwwbZbTJT8eGdByh32VR0OfvAZEz7Vw5pbzy+bM0jymifCeoCp2m7MtMkzfe1Sxf48iGlHeyUkX1t2CkjGyrtV6TTtzx58ohwvl9++UUlg7t3746AgACRn9miRQuV2ma38sd3HxHkfx0W9ayhU0gnu4fn8RgBRoARYAQYAbUReP78Odq2bYuLFy+KPnx8fATZLzlmtE0Cfa/D8n5NYdaILUtgbXwV/RpvEr9Hd/jEz2Btu2BsDyOQwxCgCMEvX76oRHR+4cIFUa1p+3blVY+yAo6QG4GoeEOiepi6+zfMOThN1jCfNulAJ18MPII6wHHaflltcozSjrxA/JeU5nZ4BBQyyjHT0KSh7JTRJPqZPDZ5mg0MDDB27FgQR4wqQpWXPn78KEpyUmns7JDXT18hX4H80Cuqp9Jw52a3hr3pMVx80Bj1p3io1JaVGQFGgBFgBBgBTSJABL/9+/cXFUdIiE9hypQpIo1J2+S6qxdqPJeiZ/us2Yga5a9hdCupSspLxwgUNyqhbSazPYwAI5CDEKD9iq6uLoYOHSrb6suXL2POnDnYu3ev7DaZqRjkfwtmd6uJLsduX4A/j42V1f3bvwujcIF38AxqBYdpR2W1yRFKX2KAXWkckrNTRvYlZKeMbKi0X/HevXuwtLQUVZTWrlXOBJ54Rk2bNhVVl5o1a4ZevXpl+WRvnfWFcZATIj/oQ6fjFZQoayhrzM/Rn5Fvb/4EXT6pkwUbKzECjAAjwAhoCQK3bt3ChAkTcOTIEWERlXal5zalMWmb+B06jnrvWgmzOi3eC6uytzC7y3Txe3itYJSvYqJtJrM9jAAjkIMQIOcK7T8GDBgg2+rka6jshpmkeNfnKioF1xK9/bxpGVacHi6r55drDGCg9xrng5qi4bRTstrkCKXoV8BeqRpVCmGnjOxLyE4Z2VBpv6Kfnx86deokOGH++ecflQxu2LChyHEn8kHil8lq8ZrTFo1MpBfS8182oWHP3rKGDL0VBONr5gm6j+qGoqxlBVltWYkRYAQYAUaAEdA0Ar6+vqL8K5V1JaFy2BStSmlM2ibeO3bBLr6rMKvpvFOoUvY2lvUaKX4PNLsKy/pSahMLI8AIMALqIDB9+nSx9+jZs6fs5kSSPmjQIEGQrgkJOHcRVuG2YuiB69divftAWWY8XVkKpfSfwye4MWynfkOR/u/DgIMS91gKYaeMrHuDlNgpIxsq7Vf08PAQqUtGRkYqh0FbW1uLqk158+YVfWS1PF5hBKNiT8Qwrs9nwuUXeazrl4+5ovabpgnmBZT3hZV9vaw2l/tnBBgBRoARYAQyBYHkJJVRUVGws7MTaUzaJuc2roe9jrThsJ1xAVWMbmPjoH7i9+uG51DDpZG2mcz2MAKMQA5CgKIG69Spgy5dusi2+uHDh+jWrRvOnTsnu01mKl4/fRY1IhxFlz1XbcE2L3kOpfDl5VDO4BF8H9jBZsr5zDRJs329uQUck9K5Ugg7ZWRfG3bKyIZK+xWPHj2KlStX4tOnTyqHQVPaEy2M4eHhmDlzZpZP9vW6Yiim+0aMcyqoH5pN+1vWmN47dsIuvluCrm/Bw7Dp2EZWW1ZiBBgBRoARYAQ0jQA9q48fPy6IKkmI5JKewYoS2Zq2L/H4Hqv+hKO+dFBTdfxNESmzZ+T34nc/vWOo166lNpnLtjACjEAOQ4AKkzRp0gTt27eXbfmrV69AtAv+/v6y22Sm4uWjJ1E7UiqK8v3S3djjK62JyiR4iQlMSobgcmg91J7kq0w953z/4iJwSoocSiEdHgKFyuacuWjQUnbKaBD8zB569+7d4kWPqigpqjrIHcPU1BR//PGHaKcqSbDcMRLrvf27CIoUjBIfnb3XCo1nyCO8Ort+FRoX+koG5hW7EY169VHHBG7zH0aATqa9vLzQsiVvKP7DtwFPnRHQCAL0rKbNxPz58xPGNzExAREAa5u4LZoC59JzhVkVRoSistEdnJrYXPzunXsX7LrKP93WtrmxPYwAI6B5BIgygRwyqlR+jY6ORs2aNXHnzh2NTMB330HYfOogxm678BCOXGkry467f1rAsvR9XAu3Rs0JV2S1yRFKT92AMy6pm8pOGdmXkJ0ysqHSfsWNGzfi7t27OHz4MIgESxUhp8yKFStEW4q2yUpJTtbrH1IfdSbLy6V3XfwrXEp9jeTxiFoCx0FSfjsLIyAXgb///luQysXExCBfvnxym7EeI8AIMAIZRoCe1RSVSlwKCqFnMBH+apu4zhsCF+PVwqyiA1+L9KULv9qJ38/FrId9n/7aZjLbwwgwAjkIgX79+gk+GYqWkSvx8fGgNVNTjuwLu3ahwZevXFuuN7/SKqQ3h5vzq6JquQAEPKoKq3E35U5X+/XC9gJe36VuJztlZF8/dsrIhkr7FSkUmlKXyKmi6ssdLW6bNm0CbVY3b96cpZONCHuGkl6lE8a4+6QSKo2R5+0+PfdnNK24IqGt65NJcBkjneKxMALpIRAbGys4k0hGjBiB5cuX4/bt26hcuTIDxwgwAoxAtiFAByAfP35Mwt9Gz2BKX8qVK1e22SFnoDOze8DJVCockLfnZxEpc3N+dfG7e+RCNBkyRk43rMMIMAKMQKoI9OjRA8OGDRO8WqqIJqMLz2/bjIa5pSh9+9884XXXXpbpl+fUQq2KV3H/mTnMR92T1SZHKN1fD/imQXbMThnZl5CdMrKh0n5FCoXW19cXIdGqeI8/f/6MqlWrYseOHZg3bx727NmTpZMNvnoHpgFVEsZ4+LIcyg0PlzWm26zucDbbkaB7+sEgNJ0ineKxMAJpIbBu3Trxd3H//n2h0qZNG7x58wZTpkzR2hSm+Lg45MqdW9jr989KfAk9jLKtf0f5GlzthO90RiAnI0CpwoULF05S6dDKykqkNBUsWFCrpnZ2Vjs0NjuMD9EFodvvAyqUCEXo0orCRtcnk+EyZo5W2cvGMAKMQM5C4LvvvsOkSZME2a8qokmnzLmNa2CvM1iYW2+aLy4Fyys44j3TFg0sLiL8ZXmUHx6mynS1WzfgD+DqhNRtZKeM7GvHThnZUGm/oqKsHP2vilMmMjISjo6OwikzatQowUuTlXLL0xdVH9ZPGOLNe30UHSiR/ioTz99aw8H8WIKa2/0f4Dx9p7Jm/P1/HIHBgwdjzZo1IAckRcvUrl1bnMrY2NigV69eWoUOOWO857VF9dLncDPfApg2bI6SF8yQJ3ccrodbo8a3lIesVcizMYxA9iAwY8YMmJmZJVl76tWrJ569JUqUyB4jZI5yYbYTGpi6I+JtCRgOiUAx3Vd4tba4aO0aMhguk1fJ7InVGAFGgBFIiUC7du0wZ84cVK8uReDJlUqVKomKdfnz55fbJNP0PNcthYPuL6K/6hOv42a4PNvPTHFEE6uzeB5ZEoZDnmeaPRrvyH80cHdx6mZ0CAcKldO4iTnBAHbK5ISrJNPGMWPGoGHDhqKKEqVlKFI1lDV//Pgxvv/+e+zcuRMURujp6amsSYa+9z96GnUimyX0EReXC7m6xyZEBaTX+cU59qhv4pWg4nm/JRymf3XSZMgwbpwEAcrZfffunTjRzelCucqBgYG4cOECKlSogIoVK4L+XohThv7XJrl9zhtVwhsKkwKfWOCZwVjY6wxKMDGqRSQKGxTRJpPZFkaAEVABgbFjx6JBgwbo3LlzQqvGjRtjy5YtMDY2VqGnrFe9PM8GtY39EBJhDJNfQpAvTwxituiIgd2Cf4Tz1K1ZbwSPwAgwAt8sAs2bNxfp5FSBThWhyJrTp0/DwMBAlWaZouux6nc46k8SfVmMDsT9Zxay+j02vgVa1jyJyA9FoD8gUlabHKF0vgcQKqW5phB2ysi+hOyUkQ2V9itSNEDHjh0xceJEeHh4iFQmOUIpHUOHDhVOmewoMXdh9140iE1KCPWuZST0iinfaF6bXws1y19NmJZPsD1sp2atE0kOht+iDm0QevfuLdJ85N5L2ooD8cZUq1YNVHqxfv36qFKlijiZuXz5cpIKKNpgv/uqP9Hk/yVoyR7XwC5wsdydYFpQpZswq1NVG0zNkTa8fPkShQoVEqmalL6moyNtMFkYgexCILVqI61atcLChQtBaUzaJAELq8HK6BYCHlVB1fEBwrRPm3Sgky8GHvfbw3H6AW0yl21hBBiBHIYAReoTl6WqDmkHBwds374d5cuXz/YZn1k6HU4lZ4lxKQ3p4St5Nuwb1QEd6x7E59i8yNfrc7bbnWUDnmkOPD2VevfslJENOztlZEOl/YrEXj5o0CDhlNm1axfKlpVXF/7atWugcGpqkx0l5rw2b0CjfEkrNjytH4rSZhWUgnxvkSUsSn8lx7oaVhvWE/2VtmMF5QgQES45Yiidh6KsaJNAG9ipU6eibVt55f6Uj5K5GlGvo1BIVwd58udH6K0gPDh/HFVbdUHJcoZJBqLc465du6JGjRqwt7cXP//222/Ytm0bNmzYkLlGZbC3xMSa1FX05/xiA6QQ/yInUKeNVJKWRTUEiAidODvIQXfz5k0ROWVra6taJ9mkHfclHp8/REKncNFsGpGHyWwEiNC3e/fuKFasWJKuaY0dOHCgWIsUQtGqFOVat27dzDYjQ/09WGoCk5IhuBRcG/WmSc/al2sMYKD3GueDXNBw2ukM9c+NGQFG4L+NAEUN7t+/H6VLfy0AIgcRekf9888/xSFbdovbgjFwLrtIDFty8HO8iCopy4R/hnVDNzuJcuHL95+RJ59UfCLHy4l6wKtLqU+DnTKyLy87ZWRDpf2KnTp1EhvoyZMnY+nSpaB8Szni7e0tymHTBjU7Ssx5rFkMx8Kjk5gWXPk6TGsrz8l8vMIIRsWeJLRVpXKTHCz+yzonTpwQpLdUrvXHH3+Eubk5fv31V9y5c0dEFWibnFq6AC7FJyD0ZUV8sdsPgytNxEYh6LkZKgy5jXw6Uqlr2ohbW1tj5MiRePv2rSi7SCfSxL1E5HJUBl6b5MIsBzQwO5emSe6RS9FkyAhtMjnH2HL27FksXrxYOByJd4vCpfv27atV9sfHxcN10VTUKbJK3M8XH7VD/bEHAC2ryqNVoGmhMcRfRVwHBw4cQPv27ZNYSGlLFKVF3FYK6dOnj7gXKY1Jm+T5KkMY6kfg3J1GcJglrUvhy8uhnMEj+IU0QL3J3tpkLtvCCDACOQwBWgfd3NxSOK+VTYMc2ePHjwfxcWW3uP0+GM4V1ohhC/d/i3ef5KX5rx/YD/0dN4p271q9hV5Ree2ye34qj3fIHHgXlHozdsrIhpOdMrKh0n5FystctmyZeNlThcnc1dVVRMlQhZrsYDM/s3gKnEolLWN9y+gcqjo2Ugry27+LoEjBqAQ9VSo3Ke38P65AD7e4uDjBR0TOmFmzZol/5OQ7cuSIVqHzPvID4vcaQq/A+1TtulLMFbVaOksbiPBwwZVE8yMiTWdnZ3h5eYlTaSKYu3jxolbNLfDPSrAsE5imTSeDh6L51K9l4bXKeC03hta4Z8+eCec1rXmXLl3CggULtMpqn937YBv7lWuEjLtv7A7zho5aZScbkz4C169fF5GnFImX3PHXokWLFAcnVBK2devWwmGoTfJhYyEU0vmIk9ebocX8k8K0uwstYVnmHhOPa9OFYlsYgRyKAFV/9fPzE2nFqsiAAQNE1LOLi4sqzTJF98yc3nAy2SL6ytcrBrFfpENAZbKs13AMb/6XUItweJYiqltZe639fq8hEB2RunntwwBdeeldWju/bDKMnTLZBHR2DNOoUSPBC0Mbjn79+oHyLeXIwYMH4e7ujiVLlohImeDgYDnN1NZxnTcELsZJy1hfLnwYtdu2SbfPuNgvyL07aajf6/dFUWzga7Vt4YZfESA+IXLqUaoSRcoQjwxxH1DKD5HkapNcOnwadaO+kkUnt801bChcJkqOC9p4//777yIyhv426AFOqVojRowAcc0oymRrw/zi44GoDUkdj8ntOhPYDk4zD2qDuTnOBnLE1apVS7zI0aZZGx2O52c1RUMz1yTYuj0cDufxy3Ic3v9Fg798+SLuLzokoeg8SpNMTiZOaUv//PNPEi4ExYkvnf5qQuI+x+Bz9Efo6H3loouNiUXePdJmY59fR3Resk/8fGVuTVgbX0fgUwtYjtauZ4MmsOMxGQFGQH0EKCr77t27yJMnj0qdjBs3TnAEUknt7Bb32V3QxPRffInLjbw9YwHkkmXCnC6TMLn970L3YZ0QlKukXcTusiaRmtIuXeDLh9Sbs1NGNqzslJENlfYrKkIAaeNJp2106iZHqBQ2lZWbO3euCOe/desW8uWT5/WV039yHffZXdHEdFeSj31yb4Nt1x7pdhf54g30TyXNzRdkWT1jOLRfnQuRrA1FSZGDgshw//rrL8G5QScYdE/QBrZAgQKZMErmdOG2cCycjf5MszO/Bw1Qb4oUVk9pWeR4pBQsSg2gzRLxNnTp0iVbIsNUmfGr51EwcE2f8No3uAFspnLKgCq4KnQpbYSiCOn6U1qbtjkcv8TGIXJDCZG25BtUD+al7ouf/UNsUGeydkV0qYP/f6HNvXv3xJpJUTLEkUAVQohUPLHQs5oiVBNXDaHoRCK6pDSm7JQPryMQsnckrArtAB1yvKh+Cha2UjpAZMQb6J+WnrmbPXuizxrpZNh7ZgM0sPBB+MtyKD88PDvN5bEYAUbgG0NA3Qh9WlcNDQ0FP1d2i+esdnAwO4z30YWg1y/1iO3UbJrUbi7m/jBFfBVsdRum1pWz2/TMHy8+DthBB+bxqffNThnZmLNTRjZU2q9IHDLkXJk2bZrIVf/hhx9kGb1+/XoR0k9pT3SKTFEzRYtmHbnkuVmtYW+WtIy1V/QKNOo7NF17HwWGoeyllF7l6A4foVNIexwGskDXMiUqfW1jY4OAgABxL1C6Uv/+EhlzmzZthMOONrDaIud+awp7c1dxShH83BQWpe8j+LkJXr4rjnqmlxDxtgRKDpZCKYkriSJ9aNNDpbDt7OxElAyRyxFBHFVgIvJXbZC7fndR6Z70kBYbnuIPE8x68LwiTAxD+HQ6AxeKNsrEK6NY32jNvHr1qvZc/4s3UClI+jubf3gc6ptfhGMVT7z9WBh6vV8jd17VThIzABU3VRMBKtFKkTKvXr3C7Nmz8fDhQ6xatSpJb3TfkaM7ceUvSqOj8H1KY8pOuTK/PmqV900Y8lxwa9hPldJVH98Ph5GvRMD/16lhGL5ZCrt3neQM52pn8PKdAYr/9DI7zeWxGAFG4BtDQF2nzMqVK/H+/XtQxEx2y/lZzdDQ7DRevSuG4oNeyR5+qMsKrOj7s9C/Y3IZlRvUkt1WaxU/vQD2pUN0zE4Z2ZeOnTKyodJ+RcXCRi+CZcqUSdhUE8kg5bUXL148YRIUYq0IFSTiS/qZNqqUAqVK5SZ1UPGdaw+bil5Jmp59/SsaD5uebnf3/G7A4p60YfkYUwAF838SP790fI7iRvKYz9Wx97/Qhpx5FEGQGncMhd5ThRpNhdWnhn/wElOYGj7AjfBqsJvpjUaVvOAdaIc/uo3DIOd1osnzhk9gaFxaELsq7m+KkCAHFG2cqIwiRc5QxSlVSzFm1T3hc9Adtu+dRPcz987A9I6/IXfuePg/qI0XUcXRvMZpcZrNKXuqX4H4+HgRGRUSEpLQmDiFKG3k9evXWlFhzHPtUjjo/SLsc57rCpeqrpj0/1BnLoWu+jXXRAt61pITmAjSx44di+XLl4tnamKh+5DShHMlIm8mx01UVJS4H7NLUjvoCH1RAcYjQoUJ9/1vwfxuNfHznAOTMPVfiQvuwOh2aF/nsFQZrnd0dpnL4zACjMA3iIC6tAmUAkoR3XRomN1ycY4D6pucw5M3pWE07GvxEWV29HHYiI2D+gm1G6XPo7qTnbIm2v/9m5vAsXQKtbBTRvY1ZKeMbKi0X1HhlKHKS7QBoTSUmJgYcRp38uRJNGsmcXBQ1RFaBEmHhMhcqXw28dBQage9RFL4dVbJ9fm1UaP8FTyLNEQp/ediGPfHw9FkbPqcCdfdvFDjmVRC9N5TcxEdQRJeKxjlq5hklbn/iX4pvYfY74lTJrmsXbsWz58/F3ws2iDRHz4h7z5d5Mkdh72+nfDd0r0JZvVrvB5//ySFsl4xOINaLZqICDBKw6LStFSKduvWrYJThhw1mmTvTw1Lt7+3w7ngj+Ir2pQblwhBK+tjmL5nFsa2Woh+/2ft/9DmHQoV0dWGy5EjbDh16hSKFCmC0aNHg6rNKYSiCrdv3y7WxKdPn6JUqVIanc+FeS3QwPhZBRMLAAAgAElEQVSk2OwWHfgGjaucxYkJLYVNnp/WwKHfTxq1jwdXjgBVdqPIO4p4oXRQ4uUiJ3BiSe1kmCL6iFeBnsfZJT579sM2plOS4Sj6ED/EIE++PLjp4YNqjxuI70dvW4jFx8eIn7cN7Y4eDXeIn2M6RSN/gfzZZTKPwwgwAt8QArQPMTMzU4vLkgo3UPVMipjJbvGfa4s6FS8iNKICKv4iObHlyA+2O7FzeDehernoadRulf0kxXLsVEnnyWnAPW2OR7QPBXSliEuW9BFgp8w3dIcovM1///03Hj9+LNKY6LSOUjTI0fLzz1LIHEVDEJkrcSqQw4bILymCgDaoVFab2lEaU2ry6NEjES6YEafN/cUWgivhRlg1VK9wUwzjEdoDjpO2pXs1/A4eRb33Ehmwe0BjNLE6K34ONL8GSxvtSa3JibcURZPkzp1bEFMmF0r3oBQ3cmZog9z3uwbze9bClMm7ZmPeISk/l6SBhTe8ZzYUP5999xca/zQMP/30k7i3icj42LFjgl9mzRqplCH9TVAZcLn8S1k9/+OLF6BlKemkvMq4ANx5XCVhyMntZ2NOl2ni95Dqd1GxetY5TrN6ntnZ/4cPH6Crqyv4PcjpvGnTpoThyUHTsGFDcR9Ur15d3CuakKcPnuLRzo6oY+wjhic+mfrTfaFf6A1erTEQ0VJ3nlaDYXdPGJROyqulCXt5zLQRIPLoatWqCScwpTDRuuPv75+kQWpOmcSE+4mViaTc0dFRpDtRfxMnTsw0+M8snQGnkr+J/g5fboO2taW0pReNn6FEWUP4Hz2NOpHSy3bPlZux7Xwv8fOqvoMx2EVaQ9+4vEJRQ74nM+2icEeMwH8IgejoaFhbW4uqn6rKhQsXxEEi8WJmt1yfb40a5a8h8IkFKo2VT3bers5BHBzdQXrOFzwEm45ts9v0zB/vwVbggvRsSFXYKSMbc3bKyIZKuxXp5J+cL0QyuHv3bvESOH/+fMGfQC90M2fOxIwZM8QkVqxYITYhlOtOETJDhw4VThranPbs2RODBg0SaUypCVV0ioiIUGsBVfT3eIURjIo9gXdgA1gbXxXlNr0etEajKSnLLl/YtRf5ghYipiLl2eeBHbqLbrZ59cCPjbaLn2+U9kJ1J2kjzqIeAsOHDxebB0rnSC4UQUCf+/p+5R1Qb5TMaeWz6x/YfpFIodssPIyjV75W7Spa6DVerzMQ37k96AvnKRvSdTRSZZRy5cqJKDFtkGO/DUMrc+nUp+jA14j88JXb6cdGW7F1iPTgu2LghlotpDQnlvQRoM0u/du7dy82b96MDh2kFyKFfP78WXBxUQWHChUq4MCBA1nKqZXc2vi4ePjMbYIGppKTmWT8jt+x4MgE8bP3TFs0sJBIfqnaTdEf/GBY9muFHL7+2oUARcZQyjCVvaY0YeKPSVzhje43Kysr8axOLGfOnBH8V5T+lFgoxYmc5fQdcSFlZrW4M7N7wMn0HzHclN3k9JWiIe9Z3oBF3Wrw+XcfbD9L5dlb/XEEx69JxQPmdZ2AiW3/ED8/tgmDkblU7jQ25gsu/LMF+vnDULx8BRjZdEIuHb5XtesOZWsYAe1BgFKHqSJmcse1HAvp0HnUqFGgiJnslnuLLGFR+h6uhtZErclXZQ/ftPopnJrYXHq2594Fu65dZLfVWsWAP4Cr0vtKqsJOGdmXjp0ysqHSbsW3b9+Cymxeu3ZNLFCKkD7aiBBXCDlcKK2JhNI5KAeTCC6J+JJSOoi9nNoPHjxYbFrohTI1oRLCNBZF4qgrb/+WSv6euuGCmhWuixQm3xAH2Ew+i7DboShRtoRIzaDNyou1hihZ5AU+RBeEb/Q8OBaR+BbmHx6PCf9/KfQvfBx12qZur7o2/tfa0f3x559/is1CcqHwUiLIJQ4EVUsWZgWOHovHwLHUItG18cgQhL1ISv78bKUhDPUjcCmkAepO9hal4SlFhThkkgtFzNBLQWaePmdkzm7T28O58iHBmVSoL5UX/Fpm0dHKHe5TJEfM+bjNaPhjOicTGTHiG2mrSOGkNZF4OugeT8zhkXiapEvpJhQ5Q+ulXJL0zIDK4++/4VhwgOiKrvvykz9j0q7fERcvkfrWNL4Ct8kuKK4nkQn6hjqgxogTKKCrHeTUmYHBt9QHkfzSRoFKtZIk50uIjIwUXFb0/E0sfn5++OOPP/Dvv/8mfPzx40dRXYQia+gQhbivrly5kmlw+cxxhK3JWUFWOXzzcmwfJqVOXinmilotneG1ZRMa5e0rPrP/zRNed6X04XGt5+OP7lLEzv3Kt2BeW3punF0wEI3Lrk+w7/KT5qg95kSm2csdMQKMwLeFAK1r3bp1w7lz51SeGB0Y0n7Fx0eKMM1OefhXeZQzeAjvQFs0/PWC7KEbVTqHc9MdhL5X7CY06tVbdlutVbw4GAiSIidTFXbKyL507JSRDZV2Kz558gRU7pU2FbS4rVu3ThCY0qaTHDR0wkYnbSQUok8cC5Tm5OzsnCSSgFjM6WWSTo1TEwUXDXEwqCNxsV+QezeVTgP2X2qPGuVvwKxUMK6F18KrEoPRpOAg3H9mjtJ9r+D9myiU8jZKGMbtQW84m2wWvw/fvAzLe48QP1/I+y8adEndXnVs/C+2UVb2mviIlixZkqrTJrvx8pnrDNuKZxD1UQ9FBrxN4rggW3x+tUF9cz9BwFZm6JN0Kyzt378fnp6eggxYG8R3dgPYmEqlZiuMSFpq1rzUPdDpDMmZiOlwGvmrNpistTbcunVLpGEWK1YMYWFhSSrdpGU0RSmQLkUWZodEPAiB3tkqgrScHM/VJtzEgwjTFEMXLvgW52c0RPXyUrrn5dD6sB53nqsxZcdFUnEMWiv/+uuvhBRfCwsLEVmaN6/03KMDDUqnPH/+fJKe6dSXeOBOnPjqxCDCYIpqJU4aimSk6Bp1n72pTePmHzVQrdwN3H1siZ83/4XTk6RUJa+4bWj0Yw+cXbccjXWl56z15Cu4FiqljQ5ssgZrBwwWP98qdxFVHWyA+Hg8W106gSdOMd771u+gq8/8VyreRqzOCPwnEKA1jiK1ifdSVaHUJzpYprUzu+XVWgMY6L2G200nuMxzkz28tfEVXJlbW+h7fvgLDgOyt9qebENVUXRvATxJ5/qxU0Y2muyUkQ2VZhXJI0ynvGkRUSYmFKQTOCr/SxvOOXPmiDx0eikkPg0S8izTYta7d29RupNe9qjyg7m5OZSlc1DEBHGPUNSEOhL5IhL6p6SUjM2ePWFd8SpqVriBe08tgFy5YVHqrvjuPHZAz7Asaj6XPMokAU+qw6rMDfFzx8X7sH+URFB47vMG2PeWTvMUEvMpBpf+bAPDQg+Qr9kJGFc1U8fc/0QbCqen1Lf0wuIpuoocN3TPaFrClhmjQokwXA2tgVqTr6UwZ+uQHxNS2yKbvYF1Pes0NzLkxKQNFLH4a1qIdzt4iZnkpAytAetkcyuQ7yM+biokzDwT1A1O0zRvs6YxS298io4ix4wqlRkoR52cj8mr5WTVPN3/GIIm5VaL7n/ZsghLT45Kc6gyRR/Dc5oDzEsHCZ07JfeictOkJK1ZZSf3Kx+BevXqiWdtyZJSRUAbGxvxe4kSJcTv5FihqCw6GEksxNfWpUuXJM4aLy8vrF69WpD0U5pl//79U1Rtkm9ZSs2QpRVRsWQofIPqYuD69bg2T3K6uD77FS6jpsNjxVw4FpM4u0x/CUpwGHaz+wf/DJNSSK8Uc0Otlk6ICHuCkl5fD1EUo90qdwFVHWwzYia3ZQQYgW8UgcT7FXWmqG45bXXGStwmerMOdPLF4KB/W3RYdEh2dyYlg8V7Hon7y9/QZLjEE5ij5Wg1IPJW2lNoHwLoJo1oz9HzzULj2SmTheBmZte0adbX108zTI9IAImgl7gTaHNNaUiurq6i2gjltG/cuDGhLRFbUoljWszoFK5BgwbCgUNEmLQhUeSwJ7efQvwpUoZE3dO6x/fCYOQn/XEuPzkMtSteQcNK3nj8uozgmVHIwcBxKGlZK4FDJrkt9ab5wm+Wjfj47LulaPyTdJqnkIt7D6J+tMQdceZ+FzhNT1qSNDOvTU7vizYJxINA90taQqcYFGmlabLf95HvoXtUT5i552JnfL9sTwqTf25GUVQSYbF/MTd0+XkggoKkjWxyofu4b9++ovIUnVC3atUqzRSXrL7OkW/ikW+/ruBYSuv05cmK0ihd9Bn8QuxQb3LSk/asti+n9U8cWrTG9enTR7bplMpGqSW0nmaHBCyoCquyASIyynhkKOLjc6c7bMWSD/BgibQGX3jYGQ3Gp7z/s8NuHiNtBCgyJiAgAPny5RNKlApMZJQKcvy0NiGUFkxcbonvveSRfERGTY7kwoULZ8oleL2uGIrpvsHpG87ouWobnq4sI/o9GfwTmk9dA48lk+Bo+Lv4rOTg53gRJTma2tY+hENj2oufL+ocQP3O7XH19HlYR0hcdIk537w+rUCjfkMzxV7uhBFgBL4tBGg9I55LOkRRR+gZT4fEaaUmq9Onsjax0THIu1dHqG0/3w0/rpR/QFZc7wVerJHWUbeHv8B5vHZEaSubc7rf/1sM+PwmbRV2ysiGl50ysqHSrCK96FHVo7S4XOiElyos0Yn/s2fPBNEg5VkScS9tOslJQ2GCJOSkGTt2LOhkjsL06UWP2uvp6YmUJkqFSq38MVUxoVM/qtpE4YKKcGxVkLl36SYsAqV69jP3TUd9M1+0rJky5/zErU7QMbJBk2IpK01QudjK4+4kbE7cX/6KJsOnJzHDdeEkuBhJL5NvPuij6IB0FgxVJvAN6hIHETnz6EQ2LaHS6uQYJDI2SoXTlAR4nIXVY0cxfOISrYntqWNyCZdm1xMf7Q+dhLn7ToP4GlITIsimzRI5NIns99KlS6hTp45Gpnf7+htUuSlVMaEosj5rtqSww29WHdQ1vYywF+VRYUSYRuzMKYNSnjqFRdvZ2alkMkUDkhMvq/mT3rx4D73j+sib5wsOXGqHjosPyrLz7kJLWJa5hwcRFWEyUr00UlkDsZJaCCQ/uaUqTCNGjBAHISSUtkSRqYp0YsUgcXFxIlo1cRTq2rVr8eLFC1BFJxInJydRCU9xOKKWgf9v9OlDLAockBxHuy50QY+V2xGzOb+o9HUmsAOcZu6Hx4KhcCy7SugU6PMR0Z8LiJ+T8FvFb0PDHj3gvX0r7HJJPFfdV2xPiKRxCxsC54nZX7I2I9hwW0aAEcgeBOgwkIqT0FqnjlStWlW83xUqJEURZ4dEPn8FfdfiYqhVroMwdGPa787J7cmfNxrRm6V19ExIbzhN/loNMjtsz/QxvkQDu6T5pCnslJENOztlZEOlWUUiKS1QoECKig0Kq2hho5B74pIh5wmFUFPoviK/nUrBKqJb6KWRPNNHjx4V/9MLHkXXUFoSLY60MSXCweSiIOQipwxt5BXh2In1iJzXY9kU5PoQglo/rYB+iaSlMm+cOY/qT6XTtJ83LYOdpTe62+1MMdaF+3Z4l6c6mpqkJI+KeFsCVuMDELHaULRzffgLXJJ5m91/64gm5gfE988iDVFqyDPNXkAtHn3evHni5FVRMj0tU6k0K91blOKmKfFY/isci0t8H7Wn+ONKiJSbm1jy5YlB5Hp9wdOx82I9bA4sni47f40aNfDmzRtRLplKM1JqgSbE++hV2EVKpegn7ZyD3w9LG7HE8u/IzvjOZp/4KLSKP4ytawG5vpIBa8JubR2T1kBa44goVRWhjS9xcZEjPCvF94gnbN42FkOM3LwYy05JJObKZPPgnuhlL/GDvW/xHLoG0qkbi+YRUESTJo4kpXWVIvDoHwmlLREBP91jySW5Q4fSjykNSlGqnQioKfpVQSKckRk/Cn6Bsj7SvbPs5M8YuWU5IlaXQInCL3EhyB4NpnnCc143OBjvxOfYvMjfOyaBv6uuqV9CpKrnx1Vw6D8Y7kumoonhHNGfxehABPxhhXx5Y3H2fls0ni4/vD8jc+K2jAAjkLMQOHToEKjyHEXpqyMU+U/7Fqokm13y5H4oyvhWFMP9fmg8Ju2ar9LQHzcWQIH80fAMbg+HqdI+JcfK20DgSKX0zWenjOzLy04Z2VBpVpFObyk8L620IVrYKAWDKiwlfjEkEiwiMiXCS3K8UIlOqrBDoYJUbYccOYlfBCmFg6Im6CQvuShSpKgiRGIiw8R6l4+5ovabpuKjM2ED4TQxqffb79Bx1HsnvZx+t3QXGlp6Y1RLqSpUYgl6ZorwKCs4mqcskx0SYSwiZT5tkqqPuD3oA+cpG5O095vbAPUqSozsMbH5kLfHJ+TOk35qgGavsOZGp6iq6dOnK40QoUgtcmBcvnxZpNJpQm4usEa1stcQ9UkPxQa+xpc4iTwzuXhOs4d9ZS94BOTGilsd8O/+vWmaS/xLVBKZiLLpHicnlSbk7IYNaFygvxi62e8ncfqGRLqZWIY3W4plvb9u3s897gv7sUlL6GrCdm0ckyrVhISEqBzWPGbMGLHpJX6PrJQTi+ejRSkpEtBm2kX4BUvpmMqkR8Ot2DZUiki4qrcH1u2kksUsmkeAno0UaUfpSwqhtZWi8X78UapsRClJRMa/aJFUQS6xmJmZiYhWRZQWEf9SOl3Hjh2FGjl4KB2qTZs2GZ7srQt3UfVBZdHPxJ1zMP/wZCiisG6EV0f1CdfhPbcV7CoeF9WZig+Sqn+RJCEdfzELTiOmwnVWT7iYSc7CQn3f4/4ic5GS7PfAFvWmyK9OkuGJcQeMACOQLgLEI0jR8LRWZfVzTtml2Llzp3jvUoX7LXGftBbOnz8fFDGTXRJ0+RbM7lQTw437Zz4WHh2v0tDPV5UUVWV9HjjBdop8kmCVBsku5cfHAQ9pT5emsFNG9tVgp4xsqDSnSCkWlDpC/6fllNmxY4fYWCoWNkWepaIcJy2+FE1DBL+dOnUSaU4DBgwQn5GOot+0Qqtp9mfPnsWmTZtAL56JS34mRsb1zylwKTNXfBQSUREVk4XXe+/YCbv4buJ7l7mnUaPCNSz6cWwKcD/F6ODGo1qoZ5Ky1J1/cG3UnXZJhFrTSZxHUCc4Tku66aYqNRal7yX0+6rJCxiUkcINWb4iQA9nigggXhkFB0J6+NCDnLiHlEXVZAXGDy5dhEmglAKwz68DOi/Zn+Yw39v8jQ2DBuD0DWD7lfrY46G8ZCJtlCiENrt5cyi6zG1ef7iYfHUsJuZvSDxJ4xIhCF5sKlIMSOgE+1OrJyj8fxLRrMA9J/ZJ5OZUWU6d8sHksCaCVdoMU5WcrEpjOjOzHZwsDwunceH+UYiJlXLUlUk5g3CEL68g1M6E9ofTpK8liJW15e+zFoHEVRAVI9EJMEWhUgoTCaUtUfrv7NmzUxhDz2mqtGRgYCC+69Gjh+D7Iq4ZEnIgV6hQQaQkZ1QuHvFG/bcNRTf9167HhrP9cX5mA9hZ+ODhy7IoN/whLs2zR11jL/F7+REPE4ZMzIvgGjYcLhOX4dxvzWBvfhpvPxaG/oC3uDqvJmpWuI7ApxawHC2lTrMwAoyA5hEgRwjtGajS4MCBA4VTpEmTJqBIvOyW9CgT5NhCzm6iZ1CskXLaZFQnwNMHVg8biG4GrFuLvz0GqtTlgyUSwfqVMBvUmnhRpbZap3z3L8B/ePpmtXsA6EmRRSzpI8BOmRxwhyg4YqKiotLMnaQ8c9KjKjkkFNFAETL0kkf8CFRhaeXKlcKhQvwZ9GJIYX+k4+joCCIfJKHFmTbeFHmTXOiEjzYr1Efbtm3RsmXLFDoev7WDo/lh8XnoiwowHhGaRMdzw1o4FBgkPiOyXsvSgdg+TDpBTC4v3xmguN7X0znF98eutkDrBcfxaq1EUng+qCkaTktayUJRrk7R5p7lDVjUlTzbLF8R+PfffwXBLT0Y5cjFixdFhBWFi2a3eM/rADtjiXejzhQ/XA6pm6YJudAMjSp5oLPNZ7yIKoJf/32ltHywgvTXw8Mjy6ZGfzvkGE3My3PpwGHU/dAuYcyb4VVRfaJU+jg1+aX5YizuNTrhK6/8p9HoO5csszkndkw55pSCSfe3qvLy5UtR6YaiEydMmKASUbDcseLigLDl0otZwMMqqDrha2SFnD5ClhjDuGSYSM2MdfFHWYtycpqxThYjQM4WOrCg9F6FbNmyRfDEKMqsU9oSOQ0nTZqUwprElRDpS0o/Jq444oEjoWf4u3fvMH68aiezqU3bfdthNMktrTsdFu3HQf8OODSmLdrWPiLKsxfs/R43F9ZG9XJXce+JOSzHfj3kyJM7FrFbJT6aM8Hd4DT1H1ydVwfWxpcR/NwEZqOC4TrJGc7VzuBFlAFKDHqZxchz94wAIyAXATqwWLBggXD+UnQ9HczRe93du3fV4oqUO25qerS+0eEgpWWqI8QbR6nnmRE9KHf8qydcYf1Kygj4YflO7PZRzZl1c35VVC0XgNuPrVBlbDpVi+QapEk93yHAfSWcOuyUkX2F2CkjGyrNKRI3DG0OqDoDneISv0xyoeoOlJpEL4QkLi4umDVrFkaOHAlfX18Q6SWd1BEnCHnIiXuGImQov33o0KHidI4kNDQUvXr1ElExyUXh0SZOGYrcoVO85HJ5Xj3UNr4kPn73SRd6faOScF6cXbUAjfWlF8pKY+/AuEQoTk1srhK4a9wGYvCGtQhfXg7lDB7B94EdbKZ8rUQT8zEa+fcnJZ66XPQ0arfijWtioOlBSE47OjWhlDY5QhsC4uqgEuvZKa+evIDeaSPkz/sZfkF1YTM9deJeySaKIjFGycJRsDF7g1EtgeL2J2HdMmU6UOI5EJkxhcBS1FBmCUWiUdohvQSRUElbSg+MiIhISKs5M7sHnEwl9n5yZHZYtA9XQ9MnG65v7gOfX6WTmsPhc9F2QsoNXmbM4dPbV/j45hWKVTDPjO6ypQ+6rzds2ICnT5+CKjCpK5T6RI5n2mCTgyYzxffYBdi8kQiIN3v2Qp81m1Xqfn63cRjfZqFoQ87rJ+b7Uc3JQaU+WDnzESByfdrk0DNWIUeOHAFVr6PNBwmlLRFJviJyJrEVXbt2FZsTItQnobRj4lsoVkziZiMnIz3PaUOVUTm5ahOa60sRN/a/ecLrrj3W9h+AgU6Sgz6q5Vs821Qb5qXu41poDVhPvpZkyMj1RVCkYBS8gpqj0bQTUJTX9guuC5tpftg6pAd+bCSta7Gdo5FXJ39GTeb2jAAjkEEEyEH83XffiTT0xELv80RK3rp16wyOoFpzSj2idHiKdlFH6JCZ0kOpqEl2ie++/bD51EkM13rBERy7qhpmF3+zgY2ZH0JfGMN4REh2mZ0145y2ByK80u+bnTKysWenjGyoNKdIJ/eUNhQZGSm4P+hFLbkQD0bx4sUTCAF79+6NunXrCqfL4cOHxQsgOWqIF0TBm0EpThQxQ2S/lM5EQptuKpFNqVDJhV4EdXV1RfUlSnUhD3VyCV5iClPDrxVB3jZ/jSLFv1br8Vg6FY4lJTLA0kOfoJT+M1ybZ50uuBQ5UK38V2/ymO0LsOjYWNxdaAHLMvdxPbwmakyQIn1IngQ/RBmfpI6rc583wr63/NK4mrva2Tcy8QLRyS79r4rQqS1FVhUsKHH6pCZxsbHInSdPppHQem1ai0b5pQirnqs2Y5uXxKmRukQAaIniek3w8t1CvFgN+D/vh2bTlEcD0eabImYyq7wiVVMhRyhVTVNwPRFxJ0UaKTb6t/6ojqrlbgqHTMWRSSPL0pphMd1XeLVWSsc7dqsbWs2RX5IxrT6/fP4C9yXjke/TfZh/v0hEFhXysIZ+oUh4f14Ju95DVLlNNKJL6SO0PlLUYGZU0iIn+MSJE0WapyJaIaMTc1+/HjZ5RkJX54PoquGvXvAOlNJI5Iquzju4TXZGfXNf0YQiG67obEDD7l3ldsF6WYAAOV8oojRxJbvkjhqKRE3rUIMOSNq1ayd4Y0iSl3tVvAvQ+0BG5eiC+WhdVuI0shp/C7cfWWF6x1/x63cSkXpozfvI52EveGEu3LOF3cykvDBhy8qjfPGHuBRii1oTLuDTFl1xTx+/1hyt/jiBuV0mYlJ7iQDziW04yphyNFdGrxm3ZwTURYDoD+h5Ru9748aNS8ElQ+nbVMyByPGzUzLqVCEnd1r7kayah/f2zbDLJe0nHGadxbk7qh2IuE1uAqeqHngRVRwlBr3IKjOzp999ZYBPT9Mfi50ysq8FO2VkQ6U5xT179oDSRl6/fg06SSPnSnJJ/qJHuefEp0CM5OR0oagZIyMj4ZShxZlO42rXri2cNaRHp3skqVWPUIxFZTkpLYpSMCgXNbVTaKp6o1/obYJ59y2vw7yuVAKbJHGJTSIDzJ83Bm/Wfa3QJFKeSiQt9bvi9FAMa/q1pKbzXFecueWMy3NqoVbFqwh6ZgazUfcTxrjtfRlVQpJGGpx6PBXNxs7S3EXMwMgUVUEVjyjcna5hZgldS3LaEUeMKkKkkwqSOGr3JTYOV48ehmHxGJSs1RYXF3WFvckh+IQ4o/aoIyigK48rIz0bPH5tA0eLo/gSlxvFB71E5If0ynKT157ul004NbEimlZ/guDnpjD9JUjpNCkK6NixY6LiSUaFnDFUzSl//vwi8oz+9ihijT6jcFvafMV9iUPMtkIokC8aJ641R8s/UpaHT8uOF2uKi/Q+73t2sJvxNVJMXbs91q+CY6GhovmNh9Z4Fm0NFzNp8/cyygD6fZ8hb/7UiZXVHTOz21GVGooyIC6YzCKjJp6hR48eCT6PjIrvYXdBhE5lsEn+vdgZXZZRipXqFbRy5YrDH13HY2ybP0VfH2MK4F2TuyhpLPHNsGQ/AuRs9ff3F8STCqGTabovybFHQifCHTp0SHC8JLaSnqkUwUqHKvQsJqcMRWwphKJmKXUpMzZOh2aOQjtLqeJJqSFP8fxtKfR3XI/1AyV+hBulz6NCcEvxPHe96fz/3lcAACAASURBVIym8yT7E2z5wwpWZW8j4LEVSnTzgeHZIuKrTZ690HfNZgx2XolV/aRKdreN/VClYdrpptl/pXhERuC/hQAd3NJBBb37E3VBcqH1hnjUqDgIHURkVzWjjKYfUVQsVYalA+vsEs91i+GgK6VbVZtwA7ceqkaNcGB0O7SvcxifPuugQO9P2WV25o8T+wHYrff/6PR0umenjGzs2SkjGyrNKdKpG0XJUB46OVJSI+OiMr5UclMRekglNylEkXLQiSiQ+qCyv7QxVIT6UQ4mneTTBlTBRUOzTH46p5g5vUzShpwiZdzd3VOUsPvw9gMKHdFNApSf7lHUa/+Vmfvs3K5oXHFXkhKb8du/bkj+vfgdvq+/J0kf/dauQ2/7rWhcxRNv3uuj7PBH+BCtC/epjeFYxRPPI0vCcMjzhDaXDp1A3XdJ+W5OBfVBs2lJKzRp7oqmPzJFalCUE4W7UzgpPbQoXYgcMsRPkBlCm0zaGBD3hqpCGweK8lCQTSYuP568rzPPJsNplBQZpbbEx+PZ6tIopf8cV0NroFayMPqU/VIqCDnpZmH70G7o3lAquf65QyTyFZI2DmkJ3d90ckN/ZxkVcqRSdBk5vajMclxcHIhImyIuiLeE/uYeBoah3CVjMdSCI2Mxfof8tAS/WXVR19QfDyIqwiQZobY6tvvPtUWdimmTzt01u4pK9Wuq03WWtyG+LYqQobWN+LAoPSSzhCrpUBUccmBmREICHqKQZ20YFqFILmDYxuVY6UqbVtUdMontmNJ+FmZ3kV5IL73uh7rDlEeEZWQe3DZtBMiBR3/bifli6N6kTRBFqJKQw5DSkWmNTy6UVkxRXuT0pme+g4MDrl37mjb0/PlzwZ1AKUwZlaNTe6K1lVQtKV+vGMR+yYe2tQ/h0Jj24jOf/Ptg86mzIBXff6k9Oi1OWrrV59f6IlIr/GU5vLNxQ5Ugifdmxp4Z+G3/THSoux/7R0kh/r4FD8GmY9uMmsztGQFGQA0E6ICoevXqwmGcmM8ueVe05lCxENpr0FqUHUJpR4MGDVKbqPfAgQOgCEJ1S2qrM0f3xePRpJT0rmY07BGevFHtsHTL4J7oaS+tvbGdPyGvTsYPLtWZR4bbvPAFTtVX3k27YEDPRLkea4CdMjngJlBEudBCSelDFOKcXGjzThVx7OwkngJywNDPdDpHm3ly0nh7ewunjOKUjljX6eWONoeJy+LR4k26hQsXTjIM6VDYIzllaMFO7iAICwhGhatmSdq4Ry5CkyESzw2J95wWsDM5maTEpuf0RrCvJJ30913zN+Z0mSpCphXSdN4pUInOPg6bcPRqa9wMlyJvDoxuj/Z1DgkHT94fY5Art7S58dq6BY3y9E5ix9l7LdF4xrEccLUBKslLqWgbN24E8REQqTLl/9J1obLmmVENhnhN6N5Q8ByoAgxFbpFzYfHixbh11gdVH0ncJqnJ/afmMBt1D7kysO+MCH2Ekuel0PdVroMwdKMSUjFQVROK/hmAoS4rsKLvz6Lt/YrnYG4nVTFJSxRpfhTFklEhQk+KciK+HipXT+lexOFD1VMohJh4J/yPuqFOpBT51nv1Jmw5l/S+Tc+G7UO7o3vDHSJ66FP7j9AtrD5nQ8zHT8j1b2FRzSwtOfP2LzgNlk6+tU0oLJtOAemezGwhZ5qiih1V0VFXzs5qj8ZmEoH6n8dGYez2lCWR1embImao/DCljT58VQ7lfg5XpxtukwkIKFJ8Ez+jk0efUpUTOt2lw4/kQqTrlP5Eawet9XSgouB7I13ijSPHI5H3Z1TOTG8Fp8rHEfVRD0UGRInuEnNVeUQugKP+OPH5Js/e6LsmacrUyYnN0Kz6aUR+KILbJQ/C9n2TJOtY4r7OfVoN+35S+ikLI8AIZC8CxAd58+ZNWc9Her+ndxY6jChQICk3Y1ZYTe+3FMVTrZpq0SYKW2ivQtkA9A6QXeI+rw+aGEs8cAX6fET0Z9VwWtZrOIY3l2gDXjpGoLhRiewyPXPHub8O8P1JeZ/slFGO0f812CkjGyrNKRJZLxGFvnjxQoTR00l+ciFCSsqtpFz11ITy2ul7eqmjNCTaHBLb+tixY8ViTQSnCqFqTJSznpzcktKm6GWRFu3UQqivu51HjWdJN70nQ4ah+eSvnCWX5tmhrvEFhL0oD+ORUppSEys3HBzTAWEvKqDBzAtwneQiSLAUUmVcAO48Tjmvv3/qi36NpRdFIiUsXExyInmsXADHokmrU/iH1EOdyRk/Xczqu4A2gBRJQRtMCoWnl3JygFFUCpUyp+ulcLxlxBZKxaAKM0Q8q6oEBgYKxyA5dU7O7IPmlklJSiPelsDtR1XgUOWc6Pqe5U1Y1P16f6k63qWDh1D3vXR622PFNvzjnZJgOmmf9JD4jmqXoIGFN7xnSqG6Xh8WotGAMekOTxV7yPFJkWcZFXLwUIQMhQTb2tqKfintoFChQuJUiHibPNauhKOeNJbdzPO4cE9yqsqRie3mYt4PUrW1O+a3Udmmspxmqerc8b6EyiH10m3vFtgZzjOTRrGpPWAmN6QoPoogyKoKDJRuRutn4nVSlSm8evoahU6UQYH80YI0tfaUy4iLz6NKF+nqru43CIOc1wqdKMdAFDayyLS+uSP5CNABB90jdEiSWMipR04WcupR2ig5tZMfepA+bYRojacUStpskPNWwfem6I+cORRNmVHxnW0LG9OLSbisyhcPQ9gyKXLvbFhvNK4gre0Lj47GuH+kNDmF7Pj5B3RtIFXhO/NxM5wKSg5lOkRxvdkUxiVCELJUcjy5PZsC51EpS4BndA7cnhFgBJQjQGnZxB8plxeNDmxpT0HvnFkt9C60a9cutdOlUnNeZ7XNXnPaopHJEbyPLgS9fu9VHm5ah1/x2/cSd9eDaoEwqZFDn9fnvgPC9yqfPztllGP0fw12ysiGSnOKiigYOnVPLW2ILKNNH0U/lCpVKlVDKaSaym3q6emJxZlO6ym9gtpRiV7ivVAI8dZQuD59l1jIkUMbceKkoTSp5CHUF3bvQYPY75O08bjXDo4zpDLGJLcWVEfVsjdx+1ElWI2/k/B5vjwxiI3Li/j43EmqNpBC3p6f8SUuZTrC3B8mYlI7KXf/YZ0QlKskvUy6zh8Bl/JSpQsqz0knyPefmcE8Ee+M5q5m+iNTRAyFrtNLOQk54kqUkLzodNpB/ARz5mQwHYhKoHboIMZJLYReGTbk2KNNRsCtILzbWlakFd17ao6ak67BqmwA7j6phDom/vCYKp2cnn44Dk3H/6Gs2zS/P7N4IpxKSde58tjbuPtEmfOBSDIpYqIKiBD17foiIgTfM7gjHKbuS9cOil6hdAEivMuokCOV0gap3CRt6okbgkpOklDaIPFDeP45Ek0rrhGfGQ55hoi3hrKH7VRvL/b+Qs4nwDvvQdh1UT+6x3PDGjgUkKofnA9sgIaWEqnn1ZCaKFwwCmalgnHncSVUHvv1b1a2odmgSHnwFI2k+FvJ7CEpZY+q3g0YMECtrs+sXQsnPSlSoP/addhwVr1+0hq8WfWTODlRIoe9FLcQdX9M3/mo1iS4kVIEKFqVNjPJK5gQef6+fftQpkyZNNODqXNKdSKnOzlsSZ/IN5NHf9EpNjntybmbEQlcZAnL0vdwPaw6ak6SUqvy5vmM6E06Yr0MfGYFy1JSqfahG//CKpFq91UWdh+NMa2lyDTXcHrmLhM/Vx1/EwGPqkIn3yd82iSRwZ8J/hFOU7dmxFxuywgwAmogQCnqxBFDz0e5Qhx4VNGVIuyzWihChvYidGiljlBVWnt7+yRpnur0o0obv7mNUK/ieTx+XQZlf36sSlOh299xHdYPlCJMbhp5o5pj2tHmKneenQ32lgSiZRAVs1NG9lVhp4xsqDSn2KxZMxGeR06ZtML0yANOL3KJnSuJLVaEUFOUC5W9VujRBjt5OgxFwZBnnXLfE4uZmZkoF0x9pRZC7bF2KRz1fknS5lJIfdSd7JPw2YOlpjAp+QCKspmpodq29gEcGtNRfOV5pxEaz5IiLpLLz82WYXnvkeLj2xX9UcVO4gHxmPU9HM32iLSms3caw6WaG16/L4piA19r7iLKHJlS1QwMDFKN1KDKMvTCT5WPMirkKKD7Rd3wVLo/xvaZhB+KdRamzD88DhN3fnW85M71BU9WloZhkRe4/8wcZiMDE9LLVLXde7YL7EzdRIn1IgPeCsdd+kLlvSkqigjIgHuLzGFeKgi3H1dBlbHSJiMtodNpSulKXNJWVXsV+nSirUg3oxcHIshWOE0pZJeu9fsjY9HQ1A1vPxaG/oBIlfhFqpW/gRu/1xDDnX42C01HTVXXVLjO6gkXMynHmXKkZ38/FSaGDzBg3Xos6D4WneodEGlSUS0iUbSEhKu2CFWMI+ciVRLLKiFnNEUPkkNbHfGZ3Ri2pp6C2I/4r6I+ps9tpOoYtAF+sboE9Aq8x9WHtrAen7RSjqr9sb56CBA/AkVtJSfSpHKzFPVIn5NDO71IF0UFOIpk1dHRSVHlkJy9FD1J/agrnz8DURsNYKD3GmdvO8Bx9tmErp6uLCUc7YmlzcLDOHqlTZLPhv6vvfOAjqpo+/g/m94TEiAEQi+hd0SKgFQLAuqrolJUUFFEsACifKAiTQQs2F9AsCDoq4hUAem99xZaQhJISO/J7n7nP5clm5Cyu6nAM+fkiMm9M3N/0595Ss8vMG+oFoHxQOi9aBWk9Tnf4TGIS9Gc98d86wtf9zjsON8dHd7L6SjY1rrLe0JACFhOYPDgwSqoAH1MWpqosU3hL321WBsIwtIyTM/l58PS0nwKCk5iaR7WPnfi46ZopC6Xg9Fo7ElrX8cjrZdj+Rv91Xv73JejTT/bL9SsLry4Xki+BCyvaVluIpSxjBNPAEb2aEnlmgCdjlLKTZ8ydIhliuJgXmmTz4OCPmTMmDEqPC9NkApKVJmm9gx9m5gnc7XpvEIHb5g5Gt2raVGcLkTVQK2Kl26JehPzrbYR3HC8G3pM3ZhnNegjgTaXwYGn8OL33+JCVE4/NaaXnmy/BEteG6j+94DPP2j1oOabY9dHXdC+1hZExlXGP8d6YlAn7SBFvxsu7tbZfpZ2x+CNKtXV8/I3wLrw7/TlQ6GKrYnO3Hg4oNmarYlmT1WTIvFBP02jJy8P9AteHIqhXTT19+PVdqPxfe1sKi58XlUE+objwMUWaP3uwULy4HRGlfnsiCUr3noID7dchfRMJzg8nQR7R8d886Dgiyq7O3cW7VBLDSdqpjGyWV6JWkoUbLaPmor6VU7jRFhDNB5XsMAodz4ujqlIXajdlm849wS6/9+vNvHlS0dnNkfTakcQdr0qgkaF5cjHXPi532cDWj94v83llMSLvNXjIdVWgYkldcrMzFSq37x1pL8na9KZI9dQ50gV2OsM2HKyM7pM2WLN6xY/u2ZcL/Ru9o8SRqf3jYaHr7fF78qDxUOA5nPUssvtH4GRQXipwb/TDDi/eYG14K0v/SMwH2rc5Na6oYCH5qN5RVCx9CsiwzMRsEnTjv19zwA8/mm2BuHR6U3QJOh4jqxaTDiIw5da5Phdv9Z/4s83tMsTRv5ydUpT/3V7jqHeNSdiZz6pi3oBITga1gxNx2Y7LLa0nvKcEBACthHg0Y7m2PRTRSf1DBttTfrqq6+UZj7X1fwue63JL69nKfzhvFhUc0xz89Ci1smS90M/D0KQXxh2n2uH9pPyD46QX17mZvU7Dd/j3metdyNgST1L9JmTs4GDFmrkPhICeNh+iVCi31HOMhehTDlrkLyqY5pwKFDhoZwaDuaJky8nNpq2FEeiGdTGjRtvhslmnjRZor8aasowcdNJPzU0hzKlzVMeRZfaf6hDwYbj96NP83XK5tJtSJLSkkhNTIHrCk1F8cdtz2DQV7bdOpvK69l0HdaN763+d4fdEnQY+KT694mPm6BR1eNKiv3HvgGY0G+a+r25iVNxcCruPHiQpz+fgoQljKZFMxgutrYmqsRzwc3tq8Ca/D6a8imS9kzEtKcSVfSN6qPoHyinN9/WtfZh3xTNT8ney/ej7bj1sNbj77XQaFTaqoWn/mn703j2y8KcuVEbikKDbGHI/w2YjPcf18IZn29wCLVb5x9BqLg2CYUJCqgWzGc+bPodktLTcCysF/rMWGtNE6hnQz+vhmoVruDApTZo9Y71kbSYR2JsElz/9lFhmv8++BD6zvo7Rz2aVT+Mw9O0A9mGyPHo/oY2nspLoo8sCokZdrgkE4XZ1KT64YecPpQKK3Pt1NHoXVMTVg/5agEWbRta2Cs2/X14t2/w7TDNBG1z/DR0GTHepnzkJdsJMBw7/UYxoqF5opCF6zbNRumbiP7C8kvUqKHw5tNPP1U/uf3E0ecMTYutufnOXdbJAxFoeEqLGPL52lcxalG237c143qjd7Ockcb8XopGTFJOYWS7Orux+4OcJs5nIuqhwVtnbha3c3J7tK+3G2ExVVFtZE5hr+2U5U0hIAQKI0DzIzoJX7JkiU2mQdwL8fKI+/zVq1crrb3iTuHh4Woe47palERN2bVr11p9YWJrmYnzPeHpkoS1R2zbt9ULOIMzn2jR6jbHTUGXVzTfgLdVWtkUiLfwYleEMhY3rQhlLEZVNg/mVs3Ly8kf1ffzEtbYWmPe4n3wwQcqCoQpUWBA0xlTCGWqUPOQQt8YprRvage0qbkTV2IC8ffBh286nozvcR3elSrg0tHTqHFU8wfywf/ew6TfP7S1iuq9VjX3Y/9HWljRzcmfoctwTZU6Yl4VVPGNxI4z9+KHrYPxzQsj1O+PVtmBpt3Kr+0mTdNCQ0ML9GfC6FnckHNzz8MoI/pYm6gJxXwYltXW9Mlro7B91+f43xg6gXwTb/88K4+sjNg2qeNN/yQ7o0fg3lFfWlXknuX/oF1yL/XOS//9Ct9u1A6d+SfexjI8cLYfoxzCO/336DCo4FsJOuKkwMTXV1PBtyZxvNrZ2alQ9NRIMg+Na54Ptd6aNG6Cqm4ROBMBvP3wIExcZn248+2TOqBD/Z24Gl8JlV6+aq3MC0aDEfv+XoO2SVrY+lGL5uDztTlNEKm5RtMYargxbTrXH0GPzECdFvWtQVMiz3LTyUMsfWwUFOqzOArnJpVjj+OHh29L0v6/16Bl3IPKR0dEXADqjAlBakbRfIHkV66bczJCPwtS7URn224DL8Ld2zY7fUu+TZ65lUB+N7Z0jk6zJjpsp1+pKVPyd3pLMzma4vEwxShLuc2LadbEW286Erc17Vl3GO2iNUHrmMWfYO6aN25mNXfQ63i9j+Yfhikl3RXuypllTqF7Ra9ruPZVTh92aw/3Qp+Z2cLl5W/0xSOt/1Zaik6D0mw2YbX1O+U9IXA3EggLCwOjvHFd9PYumsYkgx60aNECdP5b3Gnbtm3qgrCokZPy01As7vqq+TAuDm6rtL3h/E3P4YXv5ltdjI9bLGK/q6DeW39xOHpM0Jz03zYpMQRYkX32K7TeIpQpFJHpARHKWIyqbB7k4fmee+65qT1BIQg3bA4O2Y5vqfr3/PPPK1XD4kg8TNLZIB2RmhKdnzLq019/aSFdOUEzRDZNNEwpZE5d1KkcgkOXmmHx1sH45Nm31J/O1j2Ieu1a4NCa9WgRoz3/zLxF+HnHoCJVN8AnAhHztNu+9WGj0WPsHKQlp8HpDzd1CFq2+zEs2Pw8Vo19SD2z034p7n0yp5+cIlWgmF6maQS1k+iMjYtUYTa8dAZJoRmdNzO0qrWJbffYY4+hTx/NMai1afN/v0Q73atoPA44PM0NtUZfwvWkvEP6BQeewPZJnW4e6HdgMTo8/azFRa7/dCp6VNRuEVpOOIBDl1oW8u4KADwUZN/8VvC4juvfaPXbeHEI7p+QM7Rr7gyHDh0K+oag4NGaZDJxobYTQ9JzM1NQHrMmfoCmmZNw5DJNCB7H7pBl1hSnnp3/4nN47kYEsugu1+BfNecNfUEZntlzBO57HkDVCtmO6uq+cRYhV29dbL8f/jxe6LrgZnah14NQafgFOLsUXwQhaz+egi0KR6iaXRT/GtaUy6g51FSg0K4wle7IC1dgv64FKnpGw2CwQ6/pa7DhuCZgLKk06dFJmPzYByr7zeHD0eWt22yzV1JgSiHfgnwbmLRZebHBaCMDB2pmt3mlyMhI5YifvuT+/jun1hqf52UJ+9/cuXNt/qqtS1ais0HzEfOfT5fitz3Z6+KgTguxaMRzN/M+caUhGo/Ny7TSiOhv/OHnEXPz2bmrR2HMj5pWGNNXz7+El29EBYvpFo0KVawz/bP5A+VFIXAXE2CwDgoqnn3W8r1WfrguX76s9orU9MstIC4qYgavoI9L7meLkmjOmZepZ1HyzO/di4cOo+YJTaA9fslUzFjxjg3FGBH/vTe8XBOxPaQnOk7MqZloQ4al+8rOIcAFKy4RRShjcfuIUMZiVGXzIE1VeEikwy0mhtj9/vvvcxxCaI5Cnwr0NVJcif4TqDFjivBAYQxvpekElWnGjBnw8vJSt9SmxEnG2y0B64/djy/WvXbT3nyf2x9o078/ti9egI72z6vHu3y4CVtOdSlSdelMNm2hCxwdsrApZAC6TvwfQg6eRJ2TdPQKvP+/iVi2+wkcm9FU/f+m+JnoOuLtIpVZEi+//fbb6kaU4VQZ4cqSZAqdzQhY1mp08CBLIRAjgVibzu3eg9pn2yuhV58ZgNH4IdYdLdjBbJvau7F1YhcVDpjRsGqNOgc7XWHOerWabXr/EXSttwIZWY7weD4JmfrsKGF5152aOEkAcoZEv/yZZgN8LKwZmhTi24ARk+hbhmHDrUk0+eO7PFBRHZcCNobAzS9tWfAd7nN+EbvOAn0/uQ/RidnONi0td1jXb/HdcC2qzwGf9Wj1oOWCpAPT2qFVjWyTp4L8nVT2jsTm97qgQWC2acIGu3/RfWBXS6ta7M9ROBIYGIg33si+5S/2QvLIcOrUqSoyDudkc/NN80f1mVk4OrsDWgRpfKf/NRbv/KpFECvJRG2Z4zMao2bFS6qYva5/oe2AviVZpOR9gwCFhLyk2L9/f55M6KONpktXr15FpUoFR1mjCVRwcLAyS86deFnCNcMUoc+WBtj03Tx0dR+pXm03cTf2ns/W/GpY9QROzGx8M9tfdjyJp+ctybOYPR+0Rds6+27+beAXP2HJzuxw4K/3mYO5g7TxebLGXjTsqGm2ShICQqBkCPByltECKbil1m5xpCFDhuDBBx/Ek09qLgKKI/GCg3MizxJduhTtLEBzfq7FFM6UdDqyajmaxWlOegfM+R1/7rMtbPjxmY3QqOpJnIoIRvCb1jsLLunvzDf/+BPAyiYArHBHK0IZi5tLhDIWoyqbB6l+yElr2TLtFp0q0P369VOmRKbESDGUYvOwUFyJkZc4YZrCYlMYQ+e/PAgx0ScGD52mcJ3J8UlwX+mp/rZo67OYvfpNHJqqaTVsTpyNLi+Nwb9zxqPbjdDGtUafx8UoOmQtWgr7vKq66d9/8R60nrALe/5YgXapmifzxz9dhn+O9kT89z7q/zdcHIbuE74rWoHF/DY38tSE4ka7sJv33EXTNIbmbNb40mC0LZNjNVsW7B1TuqNDbc1Bc6f3R2L7mesAfi6UyhdDX8WrPTXTpf2ef6F138IPika9HpHfVEMVn0grvNzTjwZvMZ7KUacVbz2Mh1uuVBGEEnpchW9A3po9fIk31dR2Yf+2JsQyxwudctMRpyVp40fP4v5aPyE9E3B7rgYMxgtWRV9iGS1rHsCBjzRB3vrw8ejxlmX+Xi4dO4caR7KdRX/37wsYv2TGLX4jzL+DQtBODbZh80RNEPPXsSF4ZGrBWkeWcLD2Gc5DjF4VGxur2qgkbN0LqxM3fxSQ5+fXY+OXs3G/j+YEb9vpjujy4WYYjKWjVdSx3lZsmthN+QiiGZPrY0fhUTGgsE+SvxeRwIkTJ5SwhAKVvFJGRoaKxsaoJkVJ7P9NmzYFTaJsTZs+GYWuVbQLlsojInEtwdwMyYgLc2vdFOw9OmcZ/tiXd+SW2c+OxpgHsjVjKr58DdGJ2dp6vZutwZpx2l5lp91PuHdgtsDG1rrLe0JACORNgOcAakHz0iC3s/GiMKN2Pte6LVu2qOigRU004eQ5ZvLkyUrQY8te1LwOv/76qxKGF8XXoqXftGvhXLR3GqMeb/Xufhy8qEV9tTatHd8TvZquR2KaBzyGJtwepp2MC7T2HiDGSv+Ffc8BnnkHbLGW253+vAhlynkL08EWtVRod8lkEoIwkpIplYSUeNq0acoW1SR55m00/daYwmRTs4MReEwaPBcOn0Kt4w1Vld7//f8wZ80YxH2n2V3+c2E4er77LXZN7Yn2Nder0MYM/1sch5T9U1qhVa2DoDlF0GuX8e+8mejmq/lKaf7OIRy53Bxx32kaPNtDeqDjxH/KVYuzXWn/+9FHH1ldLx4CKJDhwdTSxNsJ+iTgom1tunziHKof0g7ym050QbePKJyhj555AAq+Aa1T+RzOzKqvNGx2n++Ie94rvM7HNvyLJle1SD+zV43Bmz/NtqDKDNFNLZl7cjz7TMfF+PGVwep3W1PnofMLBd+o0F8ShaGMdGapaUzLli2VQ7zCzM9YB/pyufh5HRUe/sK1mqg9piqAxTciR1nwmTceob+Xq19WRkWvaBXpLGjEaTg6Z5s25pfThnkz0f3GOOkzYzXWHrHUlM2Iy59VV1pHrHeN185DZ188t3GWfjXNN2jWQdXnskp0Kkg7+Ly0E1XbflZHhRSPT/FC/TfP5Dr0lnytP3riHUzoN10VdDB+MFqOsM45ccnX8M4rgRES2SdsMSm1lgZ9PHBuskZobF7G1ikPoXPtVbdESzI906nBFnw37EXsCWmHod8shNGYt8Zf7UohODSthXJ6ueLAw3jkE5qPZqdaFc/j/FxtM74pegK6jrJ+nbOWInqE2AAAIABJREFUjTwvBO5GAtSa5oUQAzi0basFWCjORF9X1MinBo65+wRbyuB5gkIjul0ojsS98OjRo5Upc0mnzTOHoks1bT2t8OJ1xCbbJqT6dPBrGNVbM7OPaHseVeoV/ZK6RL89KxXY8QwQlu1r1OLyRChjMSoRyliMqmwe5ETIqEomm0sKQTgxmjvGMkVryB06syg1pqkSJ/cFCzQ/EvSNQQECw/gy0UaeWhqMxkSng7uW/ob2WZpd+qNzfscf+x69KQzZEdINHSZuRNgXWqSYgxdboFWhoY0tq/2S157Ak+01LaKUh+Kx77NncF+dv1UEKO/h8cqp5qmPGyizi1PhwQh+q3ypCdIZG7WQbL3V4OJLh5B5qbnnRZB9haFUbbE13jhzJO6vRgEMlH+Mf44y8tUaANSWyFu93bwOppsB/u5SszOo0ST/sN482B6Y2Rmtq29XWbDdTkdoTqLzT1Sn5AHgFICcZk50rMYwhh4uyQiPDUTl4SGwdyo4PDqd9dKM6cMPC3dIHRUVpcbIkSNHLOq4h//6Fc2TNG2e+ZuG4oXveFNNlVDrbcC/GzYMw7ppAgpLtcH2fNQJ7WptV048K7wUg/RMy0PFzxs6Aq/0/FqVdyToGJp1zjZ1sOjji/gQfSLxlo0282WVqK1A8xLOf7k3qGd2H0L9EE1L8JsNw/Hy/NL360KtppMfN0T9KmcRnegH/xevAXaWmQyWFdPbvVwKCa9cuQKGvy7pZPJX9eijtqnOH53RHE2Djihz0jpjiha1kYKXtnX24o+9A24xL7XXZSFlgRucHDKx7UJfdHpX80knSQgIgeIjQBcGvCQtbg2Z3DV87bXXlIYezxq2OhqnxiAjynGv5O5ePI7oac7PswnNxgszDS0q9ROzmqNR4BFcjg5CjdcZddS29Hi7pVj2umYOttd5Kdo+Vv78Xd78MposbekPJGrRd61OIpSxGJkIZSxGVTYPMsIO1Z1Nh2g6/m3evLk6DJhU/ug4kAIU+rIorkRnsryNo5ohnXtRAEPhkLmPjKefflr5u6FDwo2z38H9AdrNrMlZ6IGPWqBlzcMqHKb/M7vhsrqa+vvPO57CM/N+KZaqju4zG3MGaWYCp4K2wvvof5S5y+FLzdBiAiPxAKvG9sEDzdciLcMZ9gOTLNIkKJbKFZIJfQvQBIIhsG1V32TYQ0bGssRRGrVkKJShmicFadak9JRUJP9YVTnspYZEnTdCbtye0n8LtWQoCCk4mUdB+uf88+j5Xv6aDtt++A6dHLUQxxuPd0X3qYU5sTbwLhYAo0CtyrMicwa9jtE3oorsSJ2ODi8UHH2KpmU036PqbkG+YVgYQ9ySL0PYFpYuHToIn31dlfYWfeU0GXcMZyNPA6BTz28Ke/2Wv/t7RuHItGYq4hhTWPBmVGt1X775JFxPgMtKf3VQsoxtzqy6NNyETe91U79cE/Yu+ozNP5KM1R9TyAsUBtPfFfuwp6dmLllWiVqD3Jh27tw5RxX+nT0O3QK0kPUdJm/HzrMdyqSK5toy4Y23IbB5xzKpx91SKB21c20uyIlvcbGglgyFQDRdtjYZsrKQttgLbs6pWH+sO3pOW29tFlY9f/aTuqgbEIITVxqj0dsWhlC1qgR5WAjcPgToJ5Iabvn5I7P2S7j3oA+ZP//8U62NJZkYzIAXtnSVQAGNNT5mGF6bfip5eXXy5El1uVyciS4eeIFGbRlLtJVtKTs5Lg4OyyvD2THD5nDYpnKD/C7j8mc11P/uDn0Q94zL2+zVlnoW2zvRuzTtmKSiCe4hQhmLm0SEMhajKpsHBwwYAE5m5g5g6Qmdkw+1JOgjhOYVnOhtPdjn92WDBw9W9qk1a9ZUzjSpnm2eaKpBTR7ac+6Y0gsdav+D5HQ3eL6QqA7si0Y8i0GdflKvHNWPRVN77aDyn09/xW97nigWoB3rb8O2SdqhaEvos7gv6Ef17683vIgR87UD7of/eRfv9df87Zypdxz12xbNpr9YKs46fv21ulm1RBMjvzIZ5Yd9Y9euXahYMf/IOxQs0A/HihUr1A2/tWnXz/PRHloo6YnL3seUP81vg3noJGvNoXL+yYgzn9RHvYBzSMt0RlznswioHXTL49FhkXBYHQwf93ilydF43PFC/A/pAbAPJACgWmnezpI9XRNwYU4t+HnGICbJF85PXIC7T8HhItn/R44cqcJLFpTo64mO8B55RPNnlF+iBtCZOY3RoIqmsZXNMvGGLxwKZwo3P8qdf/u6O7Hzfe3wfySsLZqN3ZNvHXYsWYoOBu2G5pX58/DVBuuc4/H2+9pXlZSA7mxkfdQdfarU7KEpjOaNIG3byzotXrxY3fZ9/PHHOapyclZjNAw8gavxFVHl1ch8TT9Kuv7UhDgyvbkqZmv48+j8VtmZe5X0t5aH/DlX0M9XmzYl78yW6z5vm3lDXrlyzrDUhbG4cOg4ap2gVh4wdfl4vLvUMj9UheWb39/XjO2N3s3XKQG04bEEuLhbrpVna5nynhAobwSoIcIgHdRyo4njc889B15+HjhwQF28FrR/y+tbKCChj0dGRqVw1pbADbYyot89XkZwHbakXPpM5CUuBdc0n+fayfmruBMtCOjugWeSkkj7l3yF1gZtv/Ti91/ju3+1IAu2pu2TOqBD/Z3I1Dsgo/c5uFfShDRlnpIuAoffAS4VrgFvUV1FKGMRJj4kQhmLUZXNg5y46OzXXM2P5iqMvEB/BlTXmzVrlk0+Qgr7Ik72nEipgUONmNxScaoMUptm6a9L4bXxfgT6Rqhw2C1vaKgMvW8+FrykHeRNKTbZBwGvRCIjy7mw4i36u4tjKqK+rqjMUsxT+0k7sftce/WrB5qvuhkWe0fml+gwJDtilEWFlNBD1HCiiUyzZs2KVAJvSuiThjcl1GjKndhODHE+ffp05cDW2pQUm4D4nxuhqu8VpW1U9bUruRzC/gaAvgQK91vxTIfF+PFVzbfLkbBWqPbsalQIzBmJZNv0J9CpumaSNvaXafj4bzrvLSjRPw7tXOmTpeA0ru80TH9qgnpow5Ux6P52wX5q6LSTGwiOufxSQkKCcvBL7Q36YSoo7V+xFq0TNf8t/9s7AI/N/d3Mue+QGz56uNBb76fF5MyYeV8K3oMarW61KzfoDcosrE2NHaoOVV4NR2Sc9VG4Fr40BEPu06K9baGPnudGlIpghuOFoeAnTpxYWFOX+N+pSUU/W7z1M2lSXTlzGVX3aRurpbv+gyc/X1ri9ci/ACPOza6LOpXP42p8JVR6MRx29qXjbLgMP7rMiqbzXfr3KmwOKK4K0r8czSatdfC/6b/z0dVVW5cf+vhvrDr0UHFVKc98xj48HTMGamFjj1bejKbd89fiK9GKSOZ3PQEGqBg3bpzS8nj99ddLjQc13LmXpnZnaGio0lg2ha2mKWxWVhYYNcmSRIHIvHnzlHZu//791d6vqD5eLCk39zO8kOXFLC+i+E28QM5LU4farQxMQq1SXlyVZKKwmnWgoIvRYVk2LywZTINrNIVhPDdR+5/zJn8/ZcoUFRGPWucFXmwbDQj5tCHqVDqD5DQ3BLwaiaS0omnrPnnvL1gyUnN+HhEfBP8B/4NjQMkL9fNtg2tbgaMfANc20vFh8TVV37OAZ93iy+8OzkmEMuW4cSlFZ/hibvrNEw/Z9KfAaD10EksP5iXlX4EONalySDMqTmS5E6XS0z6cgq2j9sLBHvjyn5fx6kLNKTHD6EZ+mfPA98OWwRj6TeGHd2ua5b8vPofnu2RHgdl59h50mLzz5sHWwyURMd9UUKGzd13sgfYTytbZLxcOLgh0zEbNleJIVCnlDQwXagrKzBNN2yhcMPdDZGmZ8RGhCP2xH5pUPahe+XztSIxapEXtyE7UVOHNK52s3ar5Yv4kHdNun9QR99bbpX4dHlsFCc1/R3AnOgwGTm3fjeBLmjDtaGhjtHjnsAUOoXvyzhdA4c7tnB3TQHX6IL8rSgsnttMZVK2nmdXllTjWKDQjvxo1ct5icHzyporseUNOXycFJTqu3zetA9rW3AmDwQ4N3jqNc1fN/eqEM74agHQAywFYd6PcutY+7JuiMdhxoQ86vLs6R3X2r1gJn5DXUadSiPr9v8e74v5CzcLy/qK6lc/i1Kxg2Ou0hXvL+X5o/9ZSOLkUFrLc0p6X93Pc+HFTbYoKV7Tciv42I1IMGzYM1F5k2jRvGrr6akK/vrP+xN8H+xW9kCLkMOvpN/HmQ5rg0dqQ6UUo9q57lYJZaq7S3Le0UlJSktKS5NxUt67lG97tH/VBx1prkaW3R6UR12x2VGnpdzavcehmJMYNoa+i+zjNuaUkIVBaBHg4p39Emhfz8ooCEgbLeOKJWzW2KeikFkpgYGCxVY9CGD8/P6UVzQsFXrbSKS/NHantRsEGNeJ79OhRYJnc7/fs2RODn3oSbTyvwaNCfbR87Hm4eHoVW12hzwC2PgZErgW8GyO9/iSErJwNP+fziK01G8G9NGbcGzFUNgVKDHLAfSbPChRs8G+m/3JP+ttvv6mf4tbmz+ujGQGPghmuy9RMonYO2dNkn/2AZp/Xrl1T2v/0xUiBFr+Bmj/cxzGQAC9Mc5tAhaz5GnVitAvdhVsG47liOMdwP7xl4n3o1EDznZiR5QRDh6XIqNRNXT5RE5fCOvaVYnXenHhOM0mydwNSQoHwVcD13bb7jCms94lQpjBCN/8uQhmLUZX+g4zwQTW8vKI5cNLjrRwP+IWZVpR0zZ/s0hSR145hQBvgv5u+x7Ew3vhrJhh/jOmP/m14wIQyGWk09hiuxhffYsd83Z2T8MvIgWgadBT7zrfGS/O/vSW0747J994UBJwI+AeN7i948SspZpcvXwbNwriJpmTezc2t2Iri7QBvX8ydvaWmpiohDQUH1vocCtu7Fm6HBqKCe6yq48nwBmg14SDSMl3zqPP8G0IZ+jgoWMujgsd1/P3WQ7i33u4bC5EjdqVOR3CfgYj7vRvqB2gHm07vb8b2M4XdqtLx2EC6Siu0XFOlh9y3AAtf0rz+b7/QGx3eWV2glsePP/6oNnK0WTZtKri409ksNZBo3mSJffjev/5B26Reqtw1h3vjgZl0kpxXmgQg+kZUK+u6x7ZJHdCxPgWSwF6P1Wj7iCYs2PztHHRye+umEIVjsf2kXcr8yNY0qvdcTH/qHbg6paksdl7ojlZjVsLZrXi04HLXixsnjhuGFS6Lm8G8OHHM0ZyK/oTs9ED0wgYqMtX1xApKo8waB8q2tkNB7wUHnsTJjzVzzf2X2qPVuB2lotFUEt+SV57cXHOzSif0JX0LW9A38caYh47Sjgi2Zs0adejg/EQz48LS1Qth8NpcT43ZnWfb37i8KOytov49O2IbnU7bP3ICvlVyakcWtQR5v3ACnD+pdU3NAfYVanZRs7Ywf2mF51y+n+A++t1331VrB4UyNPejZgQvMil8oUCd2hJcUy5duqQCIXA9P3ToEFxcrLsYMZHg/oAHamrBUKOSAhdyZxn0/0KXA/QTyT0ZtUy4pj38UB9MHP8Gnn3+1RzCi5SUFMyZPRtffPYZYMjCm30bYGTXg3Bx5OUNEJfijZR60xHY6XnAPvtSJCMlGYeW/4qs9BTUaNsFgcHBsLMvxJegQY+M9Y/AKTpvv3ws73JMXcT4DUfTR1+FvbM7o34A6dfxxOARqFGjJnr37q20kDg3kx/Ntvbu3Wv1/tPWXkWWNCWlAIztzuAo4eHhyjzM1dX1piYj126OCa4f1GSi4IzPsk0uXLigzLJ4/mK/yYy/jLTfmsDTNRGJqR4IfvsUwmMZMbMoiT4QI+Ggu4Lq/lPg4RIHnR1QtzJw4KIOQYEV0bBpa9xz30OY+8U3aNu2nRLIUdvdKmfGhkwgYh0QtQ24sgKg014wKEYpJhHKWAxbhDIWoyqZBw16I65HxiPuahRcdDFwrVAV7n6V4OLmhBdfHK4mON7GFpo4MdpZb/JQaL65H0i+DJz9Bsbru5Hl1hDnLrqhvn4WDl40YNluP8z8m34tjgOYy7tiMOrNgpeGwsMlHhN+nY695xmqmM5hi6b2Z229uwRvwqaJml8QainsD++FoEdmISC4iVpTMtPSkBIXg7QUPaDToUJlbzi5eeRZjF4PpKdra5Gbq9HiQw4XX06qNCOi2mlxJWNGEvQpUXDwrom9+/YpqTrDpHMBmjb1I3Tv1BpP938G4SeOICPhKjyr1Id/nUbITEtCyvUoIO0KkB6PuHgjUuNj4WBMgLfdObQNWqdCWDP9e6IL/vPpb7ie5J9Ptfkcv4naGa8BoPPl/IVvDvaZmPPsaIzs9WWe+f2xrx8enfOnBYheveGLpWAtFfOMeDuxb0obtKqpaf/svDIADQd9BZ+AvH0zcINFp640S6CHf27odu7cqXxHFKbympkUhWsXwxB65ACapo2Cu0uKKrPVu/tx8GKrfL6PmkcU3gwFMMgCBtmPtK+7A9sndVLtRv9Ou6MGwzkrDB1r0omw1vd/2TkQ7y2bUoifHsuK5aF/1dsPolali+qFA5fbwePeD1C7fVc4OBevcIbCaQqi8w05bMgC7OxLZx40wzN96jT8uew3TH7AEX2aaILGT9e8htGLP7MM4i1P0b8QN9f58bsG4AKN1ADQsSNt8/PTUNJj+Zhe6BS8EQ46ICKxKfSBj8LLIwPuGUfg4KiDzr0K7H0bwjGgLez9W2i3Z8YsQJe9gU9LTkXclVDoEy7A0c0bjp6V4OJdES4eHrBDFrLSkhBzLRHx1+JgiN4HnYMjdJ7V1Q2uZ+UgeFXMb96wAFFWKjLSUpGYYEBqYjLSk5JglxEFT19nPDliIjp16oJflizG6NdH4/G+PeDn4wydkyfs7B2QnumMjMSrCAsNQ3JKMgIDa8DRrTKc3Dzh5a3jVF8s6cUXX1S33HndvBdLAbkzMWSp9SclIR5r/lqCsZNn4auvv0av3oyIdyMZjchIjkHo2VCkxiYgNvQ8AmKmo15lTeg96Msf8ON2zZS0pNO7/aZgyhOayeHZq/WRXH8OGnfvBkeXvAT8ltWGF1I03aYZFx3mt2jeHOfOHMP/TfoA1aprZrzm2yI+z1twCiHoX423+jyo5WXya1kNbHzKaEByYgYcnBzh7FJy5oR0zs9xfPj4ScWIaxY1Gu5p0xonjpzAmZBzCL8aCXsHe7VXoFCzWrVqSjOUGlglbYanT76K+EvHEBtnh6zESKSkO8LgXBUVqlZB5SA/uHl53jqX69OAzATAyQ/Q2SuBBr+NB2k6z+UBm0IA+ljkQZxaZDxw85ncZuJc1+mT7/3331fO/OkXjlqYFNxQgEKhCi9dmN9LL72k8qOWC82HON65z6L2BS9IN27cCJpGOTs7K4EOL8FoqkSu8bExeHfYU6jhlQG9Q0UsWLMDdRs1xZbN2+BsTMboQU8j6vReNHT/DG//bMCZSBfUrhGMs6FXkZqWgaTUNDzWFpj6RDI8XPJf3q4nVcCRxEEw6LzhnLIPwf674e95PUcnjYwLQIhhEKq174sqjdvByfXGGmPQIyXiKEJXjEMDL8vCSkfEVYFz7X7wTV8Du+SLCE+piEXHWmLF5gt4pHUddK8VhZRMB0R5PozeL4yBh7cbjBlxSIuNQGqmG5B2DTp9POwzIuAUtRL2GZHQOTpCFzwK8GkCOHgCzv55fzAFDRzcZkIo83nv0X4D8O/mTfhm/Cj4Z52Dm90VOOpSkaF3QyLqwegWBG/3JPhWrYEqjZojI2IfjEmXcNGuEVp0GwIHfRw2/bsBL70+EV2bBmHXvq14taceL3UHxi+ZihkrNHNM6xLPPe8BoENfHwA8X1CzmSG1H8fkx+biyfZf4mKUEb2aqmPIzZSRBfx52Be7Lnlhxc5IvPd8Wwwe2B92Ln6amVHyJcArWIuwqE8HdLwU18F4bRuMFxZBp+eeouBEzfFrCZUQGVcZTg4ZaBJ0XAWDsCXRfxj3n77u8drr3dYBAT2AxDNau3nVLzgaJL9JLXCXNI0enTNg7wJkJQEZcYC9K+BWDXANBJx8i7bnMxphTIlAXHSi0vR283CEndr/OAEuldU8U5qpWIUy+6Z1hIdTLNydEpGe5YKkdC8kZVZChtFdQTWykxjt4IBk2CNFqc8ajA4wwAH2SIe7U5IaZFl2Psiyc4Pe6AY9XNQBw14fB2dDOHydw+DkkIbolGpI0leBo30m7IyZMBgAvdEZaekOMBr0sDNmwMkxAy5OmXDUZcDZPgFujklIz3JGWpYnwmKdEZsKVPWrAGcnHfRwA/0tJCRGwZiViECfJNjrrmDR1kykZhjxXn876HS+iEvxw57zDth3PhqO9uno0dgeXYJjkaF3RJbBBQaDPVIzdfh6fSJOR6ShdS1HDOnETmMPV6dkRMbxhsqAhVvScDUhC3YwoGFV4MdXAH9PrR8eDQW2nLTHJ6upaVIfKVmV4GCXjireYep7Heyz4KDLgr29Xv1XZ2eAwahDeFxVJGf4ICXTCw66dNjbZcHVMQk6O27gdOoZ9QNHZOmd4OseBXenZDg7pCEh3QcJaRWQnuUOOzsjMoyeSDYGwcnRAGddLJARD1/ny6hTMf+QaP0++QN/HeDBnIcFaiLQHIPSfB7YtUMbQBMQLgS8KWP0my4A1lJnAQAPAXzf5BclwEz7gXnQPwMnNB72u9NtLw0nAFDQQ7t4qnDSNGkjAG72aMbDSYVhiiPRu2k4ht+/H4G+NJsBUjOAID97VPd3AIzpiEsB7HVAtQpABQ8gMc0DWXoHxYOM+WOv09/8rx30SM0Esgzu0OudER5fDbGplZQZl70uE+6OsbgUlYbrifE4GZ6JX3Yk4s2HauCeelVUf0jOqqDGA9vEwzEaOrtMOOlSka5n33eCAU7QG+xh1LkgMd0XRn0WfF1C4e0cBReHVNCfjpdrgvrhGOGkGpfii+NXdPhqfSIc7bMwrGsyehbmf7eAGUdv0OGTVW9g/JIZFjgsTQVA+1iaA7EN2J5ceNgGbHMuPvS5Qs0b/j4Y3Rol4sP/zEPtiqmo4qtVZPe5dugxbX0h9ro0m6H3foZsZx+wzmymTuVz2D+ltYqAZEqh16shIc0XiRn+SNFXRBZcVXs7OuiRZdBj85ELSE5Nh6+7Par7uaJOZTewD3BRrOF3FoE+4bgQVUtpR3CsuzqlopJX1C10LTuw8+DNsUAoD9z4Lxdy/pAh+zr9KJED/5sFsC7QY1jXBRj9wCJ4uwLebri5kWP/GPL1wmJzsq19mBGBvuex8q1uqO4fipR0IDKeWnE6pGd5I0PvjYwsX0DnASdHe9jrHGEwct4D/D0cobM3qDmQY8wORm2+gh56oz0y9S5ISNXjbPh5XE3QY8GmBCwe2QCerh4q9G6m0QVezjFqvFR0v4JqPiGq/aKSqyPL4Ijw1FYw2DnCjqXZ2akyjHBQsxHnWa4TsHNQgirT2mQ06tVaxBtJnTFdta8dMqFDJijMc7BLg5tjAlwdEuHhFA9350RUcI/BT9uNeP8PoH4A5w9v/LD1Q2RksZ04z7ENM244oqZQjnMTnXLzh2OB8yVNyhgFh/Mr/87naBLItqcfKI4tRjhjKHJu7mj2xrmU0WzO3RhrdODN/LgRN23C7OFob4+GVc/BaDSoOe/+xkBNf2oYav2jsjdQsyJQwx9wdQI45mmWFpXoj4xMJ7g7xyI+JRUHLgLrj2nt27Uh0LoWb/Xs4OdpVPNm7pSQAsQma3NpcnpFRMRXU1p2OtUOdvByiUd1v4tYc8Qbe0LsUc3fG5FxOrg4OqFjAw/Uq3Re7QkqeMQgPkWbr5PSgeuJwKlw4Lt/gXZ1gFnP6BB2HZj3jwH/2wd0bgA0q649dzUe2Hpaq4OnC3AhSvveV3qQgycy9fQ7AITGVkZEHBCfEgV/DzfU8HdRfsq8XeMQHl9dzb+nr9rh2KUIJKVEo4ZfCro0TEdlb1f8vscRP2xNxJJRdZGR5anMLfmjzgw6bUzq+MVcR3TZfZ3ruIdzIgxGO7XOsB9qa4xmEsj5IyHNC6kZ7mCIc1enFLVWuzmlKCam5/jsuUjgP58BDQOd0K6OD7zd03D0ciJWHzaCG3q2c7vaQOdgqAPesbDWaDuRN7WMqkEhTegNf1ZcS/OSVLFO1N7jfEYBG/suN9xxN95npENtnQWoOWf+o0YcalW8ik4NUlHFB2oN9ve0x+XrAYhNdkJaZha83YzwcnOCr5sjvDw84OhWA46uNXE1wQXRcYnISE+EXWYE7I3XEJOUgDUHw9Gqph6znuGakYGzV7U2nvk38HQHOzjojEjLBJwc7BCdaIdNJ41oUIX7UEfsOJOOGhW9cSU2DZ0aBaJj40BU9nFB9Uq+SkuB8wH3lHTMnpFlRJY+C3ZG7dKLPGNTdIhPNSAlNUk96+7qDDdHA/x58IYzEpKB+KRUJKcbkJKWAX1GPJx013DwQhyOhXJ/zD2FNtb0BkcYYI9KXg6oXVGPegFsYyNiUzxw/pojopIAVxd3eFCQ6O4GH1fOYonIMjghy+is+k9KaiKi4xORlGqAwZAAvSENqRl6NW7qV7HHwA4+aF6jJvw9olHDn/NNznQlxhnLD7gg7LoTjobqceJKKvQGO9Sr4opWNQAfdztUcHdCFV9nZGbp4OiQDgd7Xzg5OKOSZyj0BgckpxsRl+yEpHQdktLskZbloPYuzk48nGUgI8sV/u72CPS6jgru0ahagfvD7MTxejwMaFMboLJlfIoXopMqwtMlEclpLkpLwd8zFmkZQOh11tcLn69LxGP3Bqt9WGxSBs5GxMLJwQGVfb3g7+OJBtWD0LJ+fUCfAiPNcvTJ0BlS1XyuQwYcdSnwconDigOxWHckAcN6BqNWQGW1tqw+GInUTO7/M7Bu/0U4O+rwUr/74e9XG79t3IT9p04pcxj2lrpVK6JPm/rQ641ITUtF3creaFz5Oqp5nVa+Fs3T1OWAj5tIR3CZAAAgAElEQVTWTy/MvfU8uf8CEBGrzWEUwrg4ajzM097zbfDDliGgyfJzXWxzB5Ca4YLYZF81R3Gu8XLNPrhfiQlE96nrUaviRQxo+z+cv1YbZyPr4q2HPkHToGO3+HAsYAup/sR+rs5+9pwPLU8pGa6ITqyk3o1NqwQnJ6CSZyR8na+oel9Pr40EYx3o05KRkOIKd4doBHqGwME+CXqDxs/aRIGCSRhxJgJYdxS4vxEwYC7wXr/7MPSbjQWY1HOd5lzJUN9cw3lpeJVxGBl3FgCF4Ly05DzK9TvnRTov1V68/1t0brBNRazLK12LB16er61lD7YAHmwOtL9hBX8iDNh5Dth5FtgTwnUX8PMAxvWFEvTEJANnI2th3/kOOBpaFxFxFxCVaAAFbHHJNzbgqtAsONj7o35ATdSpnAg7uxNw0CUgqIIv3JzScCriLK4nJcHfMxgxSak4G3kU9rpayDI0QFTCJmTqj6J743vwaNsVag3mnqN2JTscDTWqebVNXU8YnIMBo543hTDYcV/mBFeEIzEpDGkZPNdq33g2UhsD/OH6zz0F9y5VfbWzWoCPIzw8KsJg5wm90REZRi+kGgOQhkpIRSAM9l7qLMVx6qKLhkPWNejSr8AxKxxuumjo9VcQej1d5evkADg78EwHONkD1f0dAV0NXEnvhBi0UWcBV4c4uCAaejjCTueo1uYOr+YM9mBtnzN/vliFMtX9OXEDnq5AFlW5E4FM7nvtgMRU4Kl7gS94+WuWuHHZex7YfkZb7O6po20MuUHk5on5PD1PaxhTMlBDwQnwctV+uOFig12JhVqE2eh8xvRjb6eJBThImV9UorZ4873TEVojcJLkZtPXXcs7PlVr+KH3AemZjOajdSxuBploqsNOs2AL1GaO/+ZhnO+mZGgbn8fbAd/+C5y8wsM/sOMMUKsS0KYW8EJXoMkN9xs/bgOm/KltdLmBDPABOtUHnmwPNMrf3UVR2r1Y36Xz13eXTcHsVW+Zt+yNgwEP39zkhd04SJpsX/cBoK8DRomhTxCaE3ESo+NTTlg8yPPwwb9xZqVjUgpjaNPJTQUjQXFS483g1hsHGi4qNHfh73gI2n/jXUolKOA5gqAKy1G/ylY0DYpWC935a0DIVa2tfdy1tqbAJjGNG1xOJNonccCyT7CvJKRqbc7/chCzr/5zQ3CelKblx7626hDwy06gY32gXgAw8F6gml+xoi/RzE5H1MPri+Zi7RFbnLNxxPGAyDalwITCuZgbG3keVtm2VKPcBRfHK/DzOIwMfQKc7KsgPLYBjOo9LhLUXmG7sk9wAePvmC8PqIy4NOfGIcF6FIyA9OcbAxAcWDp+ICiEnr3qDYxbMsNCUysyZL+nwJIHINMhyPRvLvwcWxxjvBnRbkfY92v4H0aA92kkp2ephSwzyxFRiRWRkcUJhQcqvksBD28B+MP3TP81/Zu8ebhiW5j/8HcUBLFNuAFxhoPOCbUrXYC/Z7KavzifpmdBbaA5J/PfPFRzjueY4fjgGDLNt/x/uqPh+OJG4nqS9h7n9R5NgIqewLOdssej9a1d8m9wbVmysylGLRqB2GQKRtjnyYj9lWOA/Z4CF27cKHTjIZdtwHmMpif3A6CpEduBXGmSx1tLzm9s4zoAnsonuhjLoPYMBZ/8oSZi9oavUdXjmP7UeLSsuQmHLyUh9Lq2TnEOi4wDLkZrGyC2F2/ouJ5xLWPfoYYND9GNqmobOx6q/zmmHaDORGp5qAPsDcQslf/mnMoNYUySlg8T113+jptlrtc8iAUHAt0ba2txRS8gKgHYckrbGDGxLlznuS9gnry8qO6nzactclnsZGYBKw8Bl6K15/jD9dbPTDHzyGUKcLTNNhPry37Gb6Rw6txVbQ3o1EDrx2xXfi//3qOxtpbz79vOAJejgXvqApMe1f5elolja90RbQ/Bf7esCTzcUtvn8JB38JK2Ji3b7aoEbkYjTWe5m6cJI9dW9jNqD9I/jUn7iv9PgQ0PUyZBIjdj7G/sz+y/zINRvuiwnvML12vTD0+TmpDHw+US3nxwMBoGbkF4nCYw41zANmW/YD/iuOe+0fyH9Sdb9kf2AfYdzgePtAKaVr+V+MUoTXjIfsP8OY+wHzSpBtTlNsAscb1evI1CHa3PsO25j2Of4L6VebAvc4OuN2p9gX2FdeLcxR8KJLm/5bzFvs73TPtL9W3su46Ao4O2v+3S8NbDIuc/9inWnT+cLx3ttUMHxxu/gWzIjHsRcyEoy2M/5bMsl8GtWC5/OG5sVaDmN3Gs7DkPJKcBoTHAlRjtO8iH9eA+iXXhXluV7ay1EdvK2VGbF8iFeyf+m4z5bawv2ZEjv/NYmPZ3XlDuO6+1NzkzL3475wbOQ0wsj2tM8+rAmw9qe+rbKc1cobXjocvABs39mEq8NLl8vTrqBZzNIXDl38JiquLn7QPxy86n1TMxSdkbya6NNuCp9r/ioZarUK3CFZUX9xqnwoPx14G+2B3SHr2aroW/ZzS6NdqU50WROb+Qq7XRd9ZfOBneOE+sfh7R+GLoSDze7jclZKEQ42hoUzSpdkyFijalqEQ/+LjGK1+OZZ2iEvyRkuGmLjB93SlIti5RgPXy/PuwaCv3olxMOAfyzMKRwI7JH/6bQS+4cDG6Jfdu1M5nRM7NN7SfLYv8aq/LQN9Wf+PJ9kuVtmeATyR6N9M0mDKzHBRTjsU1R7Q5nWOG63aDKsC9dYF762nrEoXxu8554pUFtXAmIhlpmVWhN3AvwvMV94v032g+iZr2DNyDUGDPS27uZVhvrhc8t/HdvjfWCX4jhfSP3XiegiT+rT5qVRyBYd1+V3M15+OwGG2t5/y67bQ2D3DeM+0XOK45v3Ie47xF2UGtitrZif/mPMD5hTIGzjv8fu4hmC/P7qY9COdszi0st2qF7LmIsgauKzz/c49BARXLC/Cm4Fqbi7h/4NrJOZP1Ox0OXE0AWtXU9p48H7Jszo1cW/gc67Z0V/GZgxWrUMa6bn57Px0REYFvvvlGqTVaEhLu9v5aqb0QuDMJyDi+M9tVvuruIiDj+O5qb/naO4+AjOE7r03li+4+AjKOi9bmIpSxkR+dRNHulmFwGQ5XkhAQArcfARnHt1+bSY2FQG4CMo6lTwiB25uAjOHbu/2k9kKABGQcF60fiFDGRn7S8WwEJ68JgXJEQMZxOWoMqYoQsJGAjGMbwclrQqCcEJAxXE4aQqohBIpAQMZxEeDRCM5IT1WSrCYgHc9qZPKCECh3BGQcl7smkQoJAasJyDi2Gpm8IATKFQEZw+WqOaQyQsAmAjKObcJ28yURytjITzqejeDkNSFQjgjIOC5HjSFVEQI2EpBxbCM4eU0IlBMCMobLSUNINYRAEQjIOC4CPNGUsR2edDzb2cmbQqC8EJBxXF5aQuohBGwnIOPYdnbyphAoDwRkDJeHVpA6CIGiEZBxXDR+oiljIz/xMG0jOHlNCJQjAjKOy1FjSFWEgI0EZBzbCE5eEwLlhICM4XLSEFINIVAEAjKOiwBPNGWKBk/eFgJCQAgIASEgBISAEBACQkAICAEhIASEgK0ERFPGVnLynhAQAkJACAgBISAEhIAQEAJCQAgIASEgBIpAQIQyRYAnrwoBISAEhIAQEAJCQAgIASEgBISAEBACQsBWAiKUsZWcvCcEhIAQEAJCQAgIASEgBISAEBACQkAICIEiEBChTBHgyatCQAgIASEgBISAEBACQkAICAEhIASEgBCwlYAIZWwlJ+8JASEgBISAEBACQkAICAEhIASEgBAQAkKgCAREKGMGb9++ffjxxx+xceNGXLhwAe7u7mjcuDHeeecd9OjRw2rMXbp0wZYtW/DMM8+ofCUJASFQsgSKMoZTUlKwaNEi/PXXXzhy5AhiYmJQs2ZNPPzww5gwYQJ8fHxKtvKSuxAQAopAUcaxCeGxY8cwduxYbNu2Tf2qU6dOmDlzJpo0aSKUhYAQKAUCSUlJmDVrFvbv36/GdGRkJIYMGYKFCxdaXPqSJUvw6aef4tSpUzAajahbty5efPFFDBs2DDqdzuJ85EEhIARsI1Ac45glL126FJ9//jkOHz4Mg8GA2rVr44UXXsDrr79uW8XuwLdEKGPWqI8//jg2b96Mxx57DK1atQI74oIFC8DN3ZdffokRI0ZY3AUWL16snk9OThahjMXU5EEhUDQCRRnDHOfNmjVD586d0bt3b1SqVEltJr///nslnOG/vby8ilZBeVsICIFCCRRlHDPzs2fPom3btqhQoQJee+01Vd5nn32GuLg47NmzB/Xq1Su0DvKAEBACRSNw8eJF1KpVC1WqVEHr1q3x999/WyWUmT59uroU5Xr8yCOPKKHM77//jn///RdvvvmmEvhIEgJCoGQJFHUcs3Ycr3PnzgXX9q5du8LOzg4hISHQ6/WYPXt2yX7AbZS7CGXMGmv79u1o06YNnJ2db/42NTUVLVq0QFRUFK5duwYHB4dCm5cbv+DgYIwePVotKKIpUygyeUAIFAuBoozh6OhohIeHK8GMeZo/f76S5n/yySd44403iqWekokQEAL5EyjKOGau3PitWbMGJ0+eRFBQkCooNDQUDRs2xAMPPIBly5YJfiEgBEqYQHp6OriuVq1aFVlZWXB0dLRKKFO5cmVUr15dCVJ5iGPiDTsvTXlQ5F5bkhAQAiVLoKjjmMLYvn37Kk30QYMGlWxlb/PcRShjQQNSwkdJHjd11apVK/SNkSNHYt26dUrDhgIeEcoUikweEAIlSsDaMWxemcTERKUhQ8EMtWYkCQEhUDYELBnH1HD18/PDU089hR9++CFHRWk68euvv+L69evKPFmSEBACpUPAFqGMq6srunfvrjRszBM1Z44ePaouUSQJASFQegRsGcf33XefshqhtjkT99Senp6lV+nbqCQRyljQWAMHDsRvv/2G2NhYeHh4FPjGgQMHlNr0ihUr8OCDDyrpvghlLIAsjwiBEiRgzRjOXY3Tp08rzbfx48dj2rRpJVhLyVoICIGCCFgyjnfu3IkOHTrgq6++wssvv5wjO/7ulVdeAZ9p3769wBYCQqCUCNhymOMeeu3atcpMqV+/fsp8iVpu7777Lr744gurXAqU0mdKMULgjiZg7TjmJYm3t7caqwEBAZgzZ47y1+jr66suOqdOnao06CRpBEQoU0hPoPozzZfo7JO2rAUlqlVyM0hfFHQWqgCLUEbGmhAoUwLWjOG8Kjp48GDlqPvgwYNo3rx5mX6LFC4E7lYClo5jrtM0X+IaTJVp88Tf8XDHSxb6jpMkBIRA6RCw9jDHWlET5tlnn1U+ZEzJxcUF3333nfq9JCEgBEqXgLXj+NChQ2jZsiUqVqyIzMxMvPfee8pHI9dimjOJ0kLO9hOhTAH9OT4+Hvfee69aGOgtukaNGgX2/m+//RajRo3C8ePHUadOHRHKlO5cIaUJgVsIWDuGc2fAMf3SSy8p/1CU8EsSAkKg9AlYM47pZJ+CVN6w9+rVK0dlaVZM0wc+I4e60m9HKfHuJWDtYY6kOO7pl5GREak1w0MdD3KMkPrLL78o4askISAESo+AteOY0Q8ZPIOJ47Zbt243K8s1+KefflJn5kaNGpXeR5TjkkQok0/j0MEvN290MLZ69eocHSmvV+jMrEGDBko1+sMPP7z5iGjKlOPeL1W7owlYO4Zzw/jzzz/Vpq9Pnz7gvy1x8n1HA5WPEwJlQMDacSyaMmXQSFKkECiEgLWHOWqe33PPPSp6E0PpmhJNmBjenmbF9PNIvzOShIAQKB0C1o5j+pFhAB36Y+V4NU///POPujixNrpx6Xxp2ZQiQpk8uGdkZKjwexs2bFBqzlR3LiwxzjpNHLZu3Qo3N7ebj3NB6d+/v7plZ3hOCalbGEn5uxAoOgFbxrB5qbxR5xzATSGjuMjGr+htIjkIAWsJ2DKOxaeMtZTleSFQ8gSsPcxt3rxZhc6lY+4nnngiRwUZCfGtt97C3r171YFPkhAQAqVDwNpxHBkZiSpVqqB169bYt29fjkoyGE7Tpk3x0UcfYcKECaXzAeW8FBHK5GogdjjejtNRr8nezZI2pOBl+fLlBT768ccfq4VEkhAQAiVHwNYxbKoRN4MMm9u4cWMlmBVBasm1leQsBPIjYOs4Liz60pIlS1T0pcKc9kvLCAEhUHwErD3M0Tzp6aefxs8//ww6+DZPM2bMUI73xWF38bWP5CQELCFg7ThmnkFBQeB7EREROYqgFQrNEukjatiwYZYUf8c/I0IZsyamuiQXAUrmv/76a+VLIq9Eu9aQkBDlUZoSQKbdu3ff0uH4+wEDBqBLly7KJ0WTJk1Qt27dO75TyQcKgbIiUJQxbBrHPXr0UI7IKJyhdpskISAESpdAUccxnfjSp8ypU6eU2jQTVacbNmyozJILc9pful8rpQmBO59AQYe5vPbUdKzfqlUrZT7Mw5spMR9qx9B8KSoqSoSrd37XkS8sRwSsHces+rhx4zBz5kz88ccfynKEiWaItEJZtWoVzp07p/bckiT6Uo4+8MYbbygzI8ZUHz58+C39o2fPnqhcuTIuXryo7FyHDBmChQsXFtiPxKeMDDMhUHoEijKGL126pLzEJyYmqtDXDN9nnjj2OQdIEgJCoGQJFGUcs2Y8sLVr1w5+fn7K+T7TZ599pjRk6CeO/t8kCQEhUPIEGLo6Li4OFLROmjRJrbGPPvqoKpgmws2aNct3T82opytXrlQXm3yHB0JTJETmNXny5JL/AClBCAgBFYLe1nEcGxurBKkMmvPaa68pAQytUegagBpv3G9L0giIpoxZT6D9Km/H80sMy8dnRCgjw0cIlE8CRRnDmzZtKtChNzeGfEaSEBACJUugKOPYVLMjR46oGzpGf2Cic1CaPfAQKEkICIHSIcADGC888koLFizA0KFD891Tp6enKyegdCVw/vx50McUo7SMGDFCzB1Kp/mkFCGgCBRlHPN9mi4xkho1YxhVjVYjI0eOVGNZUjYBEcpIbxACQkAICAEhIASEgBAQAkJACAgBISAEhEAZEBChTBlAlyKFgBAQAkJACAgBISAEhIAQEAJCQAgIASEgQhnpA0JACAgBISAEhIAQEAJCQAgIASEgBISAECgDAiKUKQPoUqQQEAJCQAgIASEgBISAEBACQkAICAEhIAREKCN9QAgIASEgBISAEBACQkAICAEhIASEgBAQAmVAQIQyZQBdihQCQkAICAEhIASEgBAQAkJACAgBISAEhIAIZaQPCAEhIASEgBAQAkJACAgBISAEhIAQEAJCoAwIiFCmDKBLkUJACAgBISAEhIAQEAJCQAgIASEgBISAEBChjPQBISAEhIAQEAJCQAgIASEgBISAEBACQkAIlAEBEcqUAXQpUggIASEgBISAEBACQkAICAEhIASEgBAQAiKUkT4gBISAEBACQkAICAEhIASEgBAQAkJACAiBMiAgQpkygC5FCgEhIASEgBAQAkJACAgBISAEhIAQEAJCQIQy0geEgBAQAkJACAgBISAEhIAQEAJCQAgIASFQBgREKFMG0KVIISAEhIAQEAJlSeDixYv48MMPcezYMRw/fhzJycmYNGkSJk+efEu1+GytWrXU7/N7xvylTZs2oVu3bupXCxYswNChQ8vyU6VsISAEhIAQEAJCQAiUawIilCnXzSOVEwJCQAgIASFQ/AQoOHnqqafQsmVLGAwGrFu3ToQyxY9ZchQCQkAICAEhIASEQKEERChTKCJ5QAgIASEgBITAnUXAaDTCzs5OfdTChQvx3HPPiVDmzmpi+RohIASEgBAQAkLgNiEgQpnbpKGkmkJACAgBISAESoKACGVKgqrkKQSEgBAQAkJACAgBywiIUMYyTvKUEBACQkAICIE7koAIZe7IZpWPEgJCQAgIASEgBG4TAiKUuU0aSqopBISAEBACQqAkCNxuQhlTfcmCZlghISGYPn268otz9epV+Pv7o1evXpg4ceJNB8W5udWsWROXLl1SJlv8mT9/Pr7//nucPHkSer0ejRs3xrBhw/DCCy/cNPMyzyN3HUJDQ1UdVq1ahcjISAQEBKB///6qDhUqVFCvpqam4osvvsBPP/2k6uzg4IDOnTtjypQpaNasWUk0reQpBISAEBACQkAI3AYERChzGzSSVFEICAEhIASEQEkRuJ2FMrt27ULv3r0RHx9/Cx53d3clJLnvvvtu+Zu5UOb06dNYsmRJnngHDBiApUuXKgFKfkKZ/fv3KyHQ9evXb8mDwpbNmzcrQc+DDz6IPXv23PKMh4eHeqZVq1Yl1cSSrxAQAkJACAgBIVCOCYhQphw3jlRNCAgBISAEhEBJE7idhTIUrmRkZGDmzJno3r07srKysHLlSrzzzjuIjY2Fr68vTpw4oTRXzJNJKMP/MuQ3w3a//vrrCAoKwrlz5zBt2jQsX75cvTJ+/Hj1//kJZZiHq6srpk6dig4dOiAtLU1p3rz//vs33z916pQSvFAr5uGHH1bPU7PnlVdeQUJCAtq1a4fdu3eXdFNL/kJACAgBISAEhEA5JCBCmXLYKFIlISAEhIAQEAKlRcAaoQyFHRMmTCiwalu3blVaIUwLFixQAo/iTOamQ56enjh48CDq1KmTowhqpFBAQg0VCj7mzZuXp1CGvxwxYgS+/PLLHH+nWRTNj/766y+lJUNTp8DAwJvPmNehVq1aoLYMBUDmafDgwVi8eLF6n5Gudu7cidatW+d4hiZTw4cPV7+j6VRwcHBxopK8hIAQEAJCQAgIgduAgAhlboNGkioKASEgBISAEChuAvRvwkQNjR9//BEPPPDATWHKyJEjbxZHTRIKHmxJJS2UoZCIGip5pSFDhmDRokXw8vJSpkXmJkgmTRlqrERERMDb2/uWLM6fP4+6desqvzXUxHn77bfzFMpQK4YhxXMnauxQK4aJdaEgJ3dKTExUZbOMH374ARTkSBICQkAICAEhIATuLgIilLm72lu+VggIASEgBISAIkDtjfwShQSmVJ6FMhQo0fQnr/Tnn3+CPmGYqE3TokWLm4+ZhDIURNHvTH6J7xw+fBj9+vUD8zMlc02ZsLAwVK1a9ZYsqPnSqFEj9XsKvZ555pk8i6lcuTKuXbuGGTNmYOzYsdI7hYAQEAJCQAgIgbuMgAhl7rIGl88VAkJACAgBIWANAXOhDCMVTZ48ucDXN23ahG7duqlnSlpThg5+qQmTV6Ifl4YNG6o/UaBCwYopmYQyY8aMwezZs/P9nqeeegq//vqrEuhQsJOXUIZ+bOzt7W/Jw5zb+vXrlc+bvJKpLuRKvpKEgBAQAkJACAiBu4uACGXurvaWrxUCQkAICAEhYBWB8iyUyU8gwg+kBgsd9zLl1lQxCULee+89fPjhh/nyYFjs//73v8qM6ezZs3kKZcy1iswzMuf277//omvXrgUKZSwReFnVcPKwEBACQkAICAEhcFsQEKHMbdFMUkkhIASEgBAQAmVDoDwLZcqDpowIZcqmX0qpQkAICAEhIATuFAIilLlTWlK+QwgIASEgBIRACRAoz0KZ8uBTRoQyJdDpJEshIASEgBAQAncRARHK3EWNLZ8qBISAEBACQsBaAuVZKFNQ9CWG4mZEo5KOviRCGWt7lDwvBISAEBACQkAImBMQoYz0ByEgBISAEBACQiBfAuVZKOPp6akc8NapUydH/ffs2YOOHTuCPmdeeeUVzJs3L8ffTT5l+MsRI0bgyy+/zPF3CloYuWn58uUqlPalS5cQGBh48xnz6EsilJHBIwSEgBAQAkJACBSFgAhlikJP3hUCQkAICAEhcIcTKG6hjLX55cZrLhChcCUzM1OFk2Z0I71ej5UrV2L8+PGIjY2Fj48PGJo6ICAgT6EM32d9qFUzevRo5Rj43LlzmDp1qhLIMDGvadOm5XhfhDJ3eKeXzxMCQkAICAEhUIoERChTirClKCEgBISAEBACtxsBa4UohYXEtja/goQyO3fuRO/evZGQkHALVnd3dyWg6dKlyy1/M2nK/N///R9Onz6twl7nlfr3749ly5YpbRnzJEKZ260XS32FgBAQAkJACJRfAiKUKb9tIzUTAkJACAgBIVDmBKwVohQmlNm2bRs6d+6svmv16tXo06ePVd+YWyDCUNXUZFm/fj2uXr0Kf39/JahhuOvatWvnmbdJKMMw1Pz59ttvMX/+fJw6dUpp2zRu3BjDhw/HCy+8ADs7u1vyEKGMVU0mDwsBISAEhIAQEAIFEBChjHQPISAEhIAQEAJCoNQIUAjywQcfoFOnTti6davV5VoiECksU3OhzOTJkwt7XP4uBISAEBACQkAICIESIyBCmRJDKxkLASEgBISAEBACuQnQAe+OHTuwZcuWmxoz1lASoYw1tORZISAEhIAQEAJCoLwTEKFMeW8hqZ8QEAJCQAgIgTuEAH2/+Pn5oUePHsp0yZYkQhlbqMk7QkAICAEhIASEQHklIEKZ8toyUi8hIASEgBAQAkLgFgIilJFOIQSEgBAQAkJACNxJBEQocye1pnyLEBACQkAICIE7nIAIZe7wBpbPEwJCQAgIASFwlxEQocxd1uDyuUJACAgBISAEbmcCIpS5nVtP6i4EhIAQEAJCQAjkJiBCGekTQkAICAEhIASEgBAQAkJACAgBISAEhIAQKAMCIpQpA+hSpBAQAkJACAgBISAEhIAQEAJCQAgIASEgBEQoI31ACAgBISAEhIAQEAJCQAgIASEgBISAEBACZUBAhDJlAF2KFAJCQAgIASEgBISAEBACQkAICAEhIASEgAhlpA8IASEgBISAEBACQkAICAEhIASEgBAQAkKgDAiIUKYMoEuRQkAICAEhIASEgBAQAkJACAgBISAEhIAQEKGM9AEhIASEgBAQAkJACAgBISAEhIAQEAJCQAiUAQERypQBdClSCAgBISAEhIAQEAJCQAgIAXWT12wAAAEoSURBVCEgBISAEBACIpSRPiAEhIAQEAJCQAgIASEgBISAEBACQkAICIEyICBCmTKALkUKASEgBISAEBACQkAICAEhIASEgBAQAkJAhDLSB4SAEBACQkAICAEhIASEgBAQAkJACAgBIVAGBEQoUwbQpUghIASEgBAQAkJACAgBISAEhIAQEAJCQAiIUEb6gBAQAkJACAgBISAEhIAQEAJCQAgIASEgBMqAgAhlygC6FCkEhIAQEAJCQAgIASEgBISAEBACQkAICAERykgfEAJCQAgIASEgBISAEBACQkAICAEhIASEQBkQEKFMGUCXIoWAEBACQkAICAEhIASEgBAQAkJACAgBISBCGekDQkAICAEhIASEgBAQAkJACAgBISAEhIAQKAMC/w8fF+56//z0uAAAAABJRU5ErkJggg==\" width=\"900\">"
      ],
      "text/plain": [
       "<IPython.core.display.HTML object>"
      ]
     },
     "metadata": {},
     "output_type": "display_data"
    }
   ],
   "source": [
    "colors = ['blue', 'orange', 'green', 'red', 'pink']\n",
    "fig, ax = plt.subplots()\n",
    "fig.set_size_inches(9, 4, forward=True)\n",
    "\n",
    "ax.set_xlim(xlims_lower[nr_of_experiment-1], xlims_upper[nr_of_experiment-1])\n",
    "ax.set_ylim(None, ylims_upper[nr_of_experiment-1])\n",
    "ax.get_yaxis().set_visible(False)\n",
    "\n",
    "ax.spines['top'].set_visible(False)\n",
    "ax.spines['right'].set_visible(False)\n",
    "ax.spines['bottom'].set_visible(False)\n",
    "ax.spines['left'].set_visible(False)\n",
    "\n",
    "\n",
    "plt.xlabel(chr(0x00b9)+'H, ppm', fontsize=15, labelpad=5)\n",
    "#plt.ylabel('Relative intensity', fontsize=15, labelpad=10)\n",
    "\n",
    "for i, name in enumerate(names_components_up_to):\n",
    "    ax.plot(ppm, globals()[name], alpha=1.0, color = colors[i], \n",
    "            label=components_dictionary['experiment_'+str(nr_of_experiment)][i])\n",
    "    if i==0:\n",
    "        ax.fill_between(ppm, 0, globals()[name], color=colors[0], alpha=1.0)\n",
    "    else:\n",
    "        predecessor = name[:-1]+str(i)\n",
    "        ax.fill_between(ppm, globals()[predecessor] , globals()[name], color=colors[i], alpha=1.0)\n",
    "ax.plot(ppm, mix_without_noise, color='black', alpha=1.0, label='Mixture', linewidth=0.5)\n",
    "#ax.legend(prop={'size': 12}, loc='upper right')\n",
    "ax.invert_xaxis()\n",
    "plt.tight_layout()\n",
    "plt.savefig(os.getcwd()+'/spectra_visualisation/experiment'+str(nr_of_experiment)+'.jpg', dpi=300)"
   ]
  },
  {
   "cell_type": "code",
   "execution_count": 50,
   "id": "c5f29582",
   "metadata": {},
   "outputs": [
    {
     "data": {
      "text/plain": [
       "0.02176733557500009"
      ]
     },
     "execution_count": 50,
     "metadata": {},
     "output_type": "execute_result"
    }
   ],
   "source": [
    "estimation_vis['proportion_of_noise_in_theoretical']"
   ]
  },
  {
   "cell_type": "code",
   "execution_count": 51,
   "id": "06f95f58",
   "metadata": {},
   "outputs": [
    {
     "data": {
      "text/plain": [
       "0.010881994155995889"
      ]
     },
     "execution_count": 51,
     "metadata": {},
     "output_type": "execute_result"
    }
   ],
   "source": [
    "1-sum(estimation_vis['proportions'])"
   ]
  },
  {
   "cell_type": "code",
   "execution_count": 52,
   "id": "18220dfc",
   "metadata": {},
   "outputs": [
    {
     "data": {
      "text/plain": [
       "[0.11641497594500048, 0.8727030298990036]"
      ]
     },
     "execution_count": 52,
     "metadata": {},
     "output_type": "execute_result"
    }
   ],
   "source": [
    "estimation_vis['proportions']"
   ]
  },
  {
   "cell_type": "code",
   "execution_count": null,
   "id": "8c3969b2",
   "metadata": {},
   "outputs": [],
   "source": []
  }
 ],
 "metadata": {
  "kernelspec": {
   "display_name": "Python 3 (ipykernel)",
   "language": "python",
   "name": "python3"
  },
  "language_info": {
   "codemirror_mode": {
    "name": "ipython",
    "version": 3
   },
   "file_extension": ".py",
   "mimetype": "text/x-python",
   "name": "python",
   "nbconvert_exporter": "python",
   "pygments_lexer": "ipython3",
   "version": "3.10.6"
  }
 },
 "nbformat": 4,
 "nbformat_minor": 5
}
