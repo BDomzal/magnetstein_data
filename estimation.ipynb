{
 "cells": [
  {
   "cell_type": "markdown",
   "id": "2278c778",
   "metadata": {},
   "source": [
    "### Settings & imports"
   ]
  },
  {
   "cell_type": "code",
   "execution_count": 1,
   "id": "52249722",
   "metadata": {},
   "outputs": [],
   "source": [
    "%matplotlib notebook"
   ]
  },
  {
   "cell_type": "code",
   "execution_count": 2,
   "id": "6af4ae0a",
   "metadata": {},
   "outputs": [],
   "source": [
    "import sys\n",
    "mypath = \"/home/basia/Documents/spectroscopy/wassersteinms\"\n",
    "sys.path.insert(0, mypath)\n",
    "import masserstein "
   ]
  },
  {
   "cell_type": "code",
   "execution_count": 3,
   "id": "55f0baff",
   "metadata": {},
   "outputs": [],
   "source": [
    "import os\n",
    "\n",
    "from masserstein import Spectrum, NMRSpectrum\n",
    "from masserstein import estimate_proportions\n",
    "\n",
    "from matplotlib import pyplot as plt\n",
    "\n",
    "import numpy as np\n",
    "\n",
    "import pulp\n",
    "\n",
    "import pickle\n",
    "\n",
    "import seaborn as sns\n",
    "from textwrap import wrap\n",
    "\n",
    "from pathlib import Path\n",
    "\n",
    "import pandas as pd\n",
    "\n",
    "import time"
   ]
  },
  {
   "cell_type": "code",
   "execution_count": 4,
   "id": "87bb9eea",
   "metadata": {},
   "outputs": [],
   "source": [
    "nr_of_experiment = 9"
   ]
  },
  {
   "cell_type": "markdown",
   "id": "e7c66ece",
   "metadata": {},
   "source": [
    "### Experiments data"
   ]
  },
  {
   "cell_type": "code",
   "execution_count": 5,
   "id": "8ac155e9",
   "metadata": {},
   "outputs": [],
   "source": [
    "components_dictionary = {'experiment_1': ['Pinene', 'Benzyl benzoate'],\n",
    "                        'experiment_2': ['Pinene', 'Limonene'],\n",
    "                        'experiment_7': ['Benzyl benzoate', 'm Anisaldehyde'],\n",
    "                        'experiment_3': ['Isopropyl myristate', 'Benzyl benzoate', 'Alpha pinene', 'Limonene'],\n",
    "                        'experiment_6': ['Pinene', 'Benzyl benzoate'],\n",
    "                        'experiment_5': ['Lactate', 'Alanine', 'Creatine', 'Creatinine', 'Choline chloride'],\n",
    "                        'experiment_9': ['Lactate', 'Alanine', 'Creatine', 'Creatinine', 'Choline chloride'],\n",
    "                        'experiment_4': ['Lactate', 'Alanine', 'Creatine', 'Creatinine', 'Choline chloride'],\n",
    "                        'experiment_8': ['Benzyl benzoate', 'm Anisaldehyde']}"
   ]
  },
  {
   "cell_type": "code",
   "execution_count": 6,
   "id": "dbafb3dd",
   "metadata": {},
   "outputs": [],
   "source": [
    "protons_dictionary = {'experiment_1': [16, 12],\n",
    "                        'experiment_2': [16, 16],\n",
    "                        'experiment_7': [12, 8],\n",
    "                        'experiment_3': [34, 12, 16, 16],\n",
    "                        'experiment_6': [16, 12],\n",
    "                        'experiment_5': [4, 4, 5, 5, 13],\n",
    "                        'experiment_9': [4, 4, 5, 5, 13],\n",
    "                        'experiment_4': [4, 4, 5, 5, 13],\n",
    "                        'experiment_8': [12, 8]}"
   ]
  },
  {
   "cell_type": "code",
   "execution_count": 7,
   "id": "703c5272",
   "metadata": {},
   "outputs": [],
   "source": [
    "ground_truth_molar_proportions = {'experiment_1': [0.09088457406472417, 0.9091154259352758],\n",
    "                                    'experiment_2': [0.505, 0.495],\n",
    "                                    'experiment_7': [0.8403875207510383, 0.1596124792489616],\n",
    "                                    'experiment_3': [0.7264578344443725, 0.10578603326645526, 0.081968804608116, 0.08578732768105625],\n",
    "                                    'experiment_6': [0.3865, 0.6135],\n",
    "                                    'experiment_5': [0.3022, 0.2240, 0.1253, 0.2028, 0.1457],\n",
    "                                    'experiment_9': [0.3022, 0.2240, 0.1253, 0.2028, 0.1457],\n",
    "                                    'experiment_4': [0.3022, 0.2240, 0.1253, 0.2028, 0.1457],\n",
    "                                    'experiment_8': [0.3702, 0.6298]}"
   ]
  },
  {
   "cell_type": "code",
   "execution_count": 8,
   "id": "2f07ffaf",
   "metadata": {},
   "outputs": [],
   "source": [
    "experiments_folders = {'experiment_1': 'experiment_1_intensity_difference',\n",
    "                        'experiment_6': 'experiment_6_miniperfumes',\n",
    "                        'experiment_5': 'experiment_5_metabolites',\n",
    "                         'experiment_7': 'experiment_7_overlapping_and_intensity_difference',\n",
    "                         'experiment_9': 'experiment_9_and_4_shim',\n",
    "                       'experiment_4': 'experiment_9_and_4_shim',\n",
    "                        'experiment_8': 'experiment_8_different_solvents',\n",
    "                        'experiment_3': 'experiment_3_perfumes_and_absent_components',\n",
    "                         'experiment_2': 'experiment_2_overlapping'}"
   ]
  },
  {
   "cell_type": "code",
   "execution_count": 9,
   "id": "5c15336b",
   "metadata": {},
   "outputs": [],
   "source": [
    "best_kappa_mix = [0.09, 0.05, 0.37, 0.11, 0.03, 0.06, 0.23, 0.2, 0.05]"
   ]
  },
  {
   "cell_type": "code",
   "execution_count": 10,
   "id": "53eb8b54",
   "metadata": {},
   "outputs": [],
   "source": [
    "best_kappa_model = [0.08, 0.01, 0.24, 0.02, 0.09, 0.2, 0.02, 0.29, 0.02]"
   ]
  },
  {
   "cell_type": "markdown",
   "id": "e84eddc3",
   "metadata": {},
   "source": [
    "### Loading the data"
   ]
  },
  {
   "cell_type": "code",
   "execution_count": 11,
   "id": "a16bd1b8",
   "metadata": {},
   "outputs": [],
   "source": [
    "if (nr_of_experiment != 9 and nr_of_experiment != 4):\n",
    "    filename = experiments_folders['experiment_' + str(nr_of_experiment)] + '/preprocessed_mix.csv'\n",
    "    mix = np.loadtxt(filename, delimiter=',')\n",
    "else:\n",
    "    filename = experiments_folders['experiment_' + str(nr_of_experiment)] + '/preprocessed_exp'+str(nr_of_experiment)+'_mix.csv'\n",
    "    mix = np.loadtxt(filename, delimiter=',')"
   ]
  },
  {
   "cell_type": "code",
   "execution_count": 12,
   "id": "67c8aeb3",
   "metadata": {},
   "outputs": [],
   "source": [
    "how_many_components = len(components_dictionary['experiment_'+str(nr_of_experiment)])\n",
    "names = ['comp' + str(i) for i in range(how_many_components)]"
   ]
  },
  {
   "cell_type": "code",
   "execution_count": 13,
   "id": "4d402de1",
   "metadata": {},
   "outputs": [],
   "source": [
    "spectra = []\n",
    "for i in range(how_many_components):\n",
    "    if (nr_of_experiment != 9 and nr_of_experiment != 4):\n",
    "        filename = experiments_folders['experiment_' + str(nr_of_experiment)] + \\\n",
    "                    '/preprocessed_comp' + str(i) + '.csv'\n",
    "        spectra.append(np.loadtxt(filename, delimiter=','))\n",
    "    else:\n",
    "        filename = experiments_folders['experiment_' + str(nr_of_experiment)] + \\\n",
    "                    '/preprocessed_exp'+str(nr_of_experiment)+ '_comp'+ str(i) + '.csv'\n",
    "        spectra.append(np.loadtxt(filename, delimiter=','))"
   ]
  },
  {
   "cell_type": "code",
   "execution_count": 14,
   "id": "f68d15b6",
   "metadata": {},
   "outputs": [],
   "source": [
    "spectra2 = []\n",
    "names = []\n",
    "for i in range(len(spectra)):\n",
    "    spectra2.append(NMRSpectrum(confs=list(zip(spectra[i][:,0], spectra[i][:,1])), \n",
    "                                protons=protons_dictionary['experiment_'+str(nr_of_experiment)][i]))\n",
    "    names.append('comp'+str(i))\n",
    "\n",
    "spectra = spectra2\n",
    "del(spectra2)\n",
    "mix = NMRSpectrum(confs=list(zip(mix[:,0], mix[:,1])))"
   ]
  },
  {
   "cell_type": "code",
   "execution_count": 15,
   "id": "066513a3",
   "metadata": {},
   "outputs": [],
   "source": [
    "for i, name in enumerate(names):\n",
    "    globals()[name] = spectra[i]"
   ]
  },
  {
   "cell_type": "code",
   "execution_count": 16,
   "id": "56905c27",
   "metadata": {},
   "outputs": [],
   "source": [
    "# mix.plot(profile=True)\n",
    "# for sp in spectra:\n",
    "#     sp.plot(profile=True)"
   ]
  },
  {
   "cell_type": "markdown",
   "id": "31df385c",
   "metadata": {},
   "source": [
    "### Estimation"
   ]
  },
  {
   "cell_type": "code",
   "execution_count": 17,
   "id": "d44ebf2f",
   "metadata": {},
   "outputs": [
    {
     "name": "stdout",
     "output_type": "stream",
     "text": [
      "Set parameter Username\n",
      "Academic license - for non-commercial use only - expires 2023-11-10\n"
     ]
    },
    {
     "name": "stderr",
     "output_type": "stream",
     "text": [
      "Initial filtering of formulas: 100%|█████████████| 5/5 [00:00<00:00, 272.59it/s]\n"
     ]
    },
    {
     "name": "stdout",
     "output_type": "stream",
     "text": [
      "Removed theoretical spectra due to no matching experimental peaks: []\n",
      "Envelope bounds: [(0.827366, 4.1272, 0), (0.827366, 4.1272, 1), (0.827366, 4.1272, 2), (0.827366, 4.1272, 3), (0.827366, 4.1272, 4)]\n"
     ]
    },
    {
     "name": "stderr",
     "output_type": "stream",
     "text": [
      "Computing chunks: 100%|███████████████████████| 5/5 [00:00<00:00, 140748.46it/s]\n"
     ]
    },
    {
     "name": "stdout",
     "output_type": "stream",
     "text": [
      "Number of chunks: 1\n",
      "ChunkIDs: [0, 0, 0, 0, 0]\n",
      "Chunk bounds: [(0.777366, 4.1772)]\n"
     ]
    },
    {
     "name": "stderr",
     "output_type": "stream",
     "text": [
      "Splitting the experimental spectrum into chunks: 27129it [00:00, 3251157.84it/s]\n"
     ]
    },
    {
     "name": "stdout",
     "output_type": "stream",
     "text": [
      "Ion currents in chunks: [1.0000000000000013]\n"
     ]
    },
    {
     "name": "stderr",
     "output_type": "stream",
     "text": [
      "\r",
      "Deconvolving chunks:   0%|                                | 0/1 [00:00<?, ?it/s]"
     ]
    },
    {
     "name": "stdout",
     "output_type": "stream",
     "text": [
      "Deconvolving chunk 0\n"
     ]
    },
    {
     "name": "stderr",
     "output_type": "stream",
     "text": [
      "/home/basia/.local/lib/python3.10/site-packages/pulp/pulp.py:1352: UserWarning: Spaces are not permitted in the name. Converted to '_'\n",
      "  warnings.warn(\"Spaces are not permitted in the name. Converted to '_'\")\n",
      "Deconvolving chunks: 100%|████████████████████████| 1/1 [00:14<00:00, 14.47s/it]"
     ]
    },
    {
     "name": "stdout",
     "output_type": "stream",
     "text": [
      "Chunk %i deconvolution status: Optimal\n",
      "Signal proportion in experimental spectrum: 1.0\n",
      "Noise proportion in experimental spectrum: 0.0\n",
      "Total explanation: 1.0\n",
      "Noise proportion in combination of theoretical spectra: 0.027127614012\n"
     ]
    },
    {
     "name": "stderr",
     "output_type": "stream",
     "text": [
      "\n"
     ]
    }
   ],
   "source": [
    "start_vis = time.time()\n",
    "estimation_vis = estimate_proportions(mix, spectra,\n",
    "                                        MTD=best_kappa_mix[nr_of_experiment-1], \n",
    "                                        MTD_th=best_kappa_model[nr_of_experiment-1],\n",
    "                                        verbose=True, solver=pulp.GUROBI(msg=False), \n",
    "                                        what_to_compare='area')\n",
    "stop_vis = time.time()"
   ]
  },
  {
   "cell_type": "code",
   "execution_count": 18,
   "id": "7c07657a",
   "metadata": {},
   "outputs": [
    {
     "name": "stdout",
     "output_type": "stream",
     "text": [
      "Estimation took 14.525003910064697 seconds.\n"
     ]
    }
   ],
   "source": [
    "print('Estimation took '+ str(stop_vis-start_vis) + ' seconds.')"
   ]
  },
  {
   "cell_type": "code",
   "execution_count": 19,
   "id": "c58f7242",
   "metadata": {},
   "outputs": [
    {
     "data": {
      "text/plain": [
       "[0.2274974749980003,\n",
       " 0.1505718363740002,\n",
       " 0.11728689957200016,\n",
       " 0.17735592181800025,\n",
       " 0.32728786723800046]"
      ]
     },
     "execution_count": 19,
     "metadata": {},
     "output_type": "execute_result"
    }
   ],
   "source": [
    "estimation_vis['proportions']"
   ]
  },
  {
   "cell_type": "code",
   "execution_count": 20,
   "id": "f463c3dd",
   "metadata": {},
   "outputs": [
    {
     "data": {
      "text/plain": [
       "0.027127614012000034"
      ]
     },
     "execution_count": 20,
     "metadata": {},
     "output_type": "execute_result"
    }
   ],
   "source": [
    "estimation_vis['proportion_of_noise_in_theoretical']"
   ]
  },
  {
   "cell_type": "code",
   "execution_count": 21,
   "id": "ca73a54f",
   "metadata": {},
   "outputs": [
    {
     "name": "stderr",
     "output_type": "stream",
     "text": [
      "Initial filtering of formulas: 100%|█████████████| 5/5 [00:00<00:00, 260.67it/s]\n"
     ]
    },
    {
     "name": "stdout",
     "output_type": "stream",
     "text": [
      "Removed theoretical spectra due to no matching experimental peaks: []\n",
      "Envelope bounds: [(0.827366, 4.1272, 0), (0.827366, 4.1272, 1), (0.827366, 4.1272, 2), (0.827366, 4.1272, 3), (0.827366, 4.1272, 4)]\n"
     ]
    },
    {
     "name": "stderr",
     "output_type": "stream",
     "text": [
      "Computing chunks: 100%|███████████████████████| 5/5 [00:00<00:00, 162569.92it/s]\n"
     ]
    },
    {
     "name": "stdout",
     "output_type": "stream",
     "text": [
      "Number of chunks: 1\n",
      "ChunkIDs: [0, 0, 0, 0, 0]\n",
      "Chunk bounds: [(0.777366, 4.1772)]\n"
     ]
    },
    {
     "name": "stderr",
     "output_type": "stream",
     "text": [
      "Splitting the experimental spectrum into chunks: 27129it [00:00, 3242172.13it/s]\n"
     ]
    },
    {
     "name": "stdout",
     "output_type": "stream",
     "text": [
      "Ion currents in chunks: [1.0000000000000013]\n"
     ]
    },
    {
     "name": "stderr",
     "output_type": "stream",
     "text": [
      "\r",
      "Deconvolving chunks:   0%|                                | 0/1 [00:00<?, ?it/s]"
     ]
    },
    {
     "name": "stdout",
     "output_type": "stream",
     "text": [
      "Deconvolving chunk 0\n"
     ]
    },
    {
     "name": "stderr",
     "output_type": "stream",
     "text": [
      "Deconvolving chunks: 100%|████████████████████████| 1/1 [00:14<00:00, 14.68s/it]"
     ]
    },
    {
     "name": "stdout",
     "output_type": "stream",
     "text": [
      "Chunk %i deconvolution status: Optimal\n",
      "Signal proportion in experimental spectrum: 1.0\n",
      "Noise proportion in experimental spectrum: 0.0\n",
      "Total explanation: 1.0\n",
      "Noise proportion in combination of theoretical spectra: 0.027127614012\n"
     ]
    },
    {
     "name": "stderr",
     "output_type": "stream",
     "text": [
      "\n"
     ]
    }
   ],
   "source": [
    "start_con = time.time()\n",
    "estimation_molar = estimate_proportions(mix, spectra,\n",
    "                                        MTD=best_kappa_mix[nr_of_experiment-1], \n",
    "                                        MTD_th=best_kappa_model[nr_of_experiment-1],\n",
    "                                        verbose=True, solver=pulp.GUROBI(msg=False), \n",
    "                                        what_to_compare='concentration')\n",
    "stop_con = time.time()"
   ]
  },
  {
   "cell_type": "code",
   "execution_count": 22,
   "id": "655ff1b5",
   "metadata": {},
   "outputs": [
    {
     "name": "stdout",
     "output_type": "stream",
     "text": [
      "Estimation took 14.729461431503296 seconds.\n"
     ]
    }
   ],
   "source": [
    "print('Estimation took '+ str(stop_con-start_con) + ' seconds.')"
   ]
  },
  {
   "cell_type": "code",
   "execution_count": 23,
   "id": "354693e3",
   "metadata": {},
   "outputs": [
    {
     "data": {
      "text/plain": [
       "[0.3184065028416952,\n",
       " 0.21074102842995854,\n",
       " 0.1313242233468972,\n",
       " 0.19858252519006975,\n",
       " 0.14094572019137933]"
      ]
     },
     "execution_count": 23,
     "metadata": {},
     "output_type": "execute_result"
    }
   ],
   "source": [
    "estimation_molar['proportions']"
   ]
  },
  {
   "cell_type": "markdown",
   "id": "304c1464",
   "metadata": {},
   "source": [
    "### Saving estimation results"
   ]
  },
  {
   "cell_type": "code",
   "execution_count": 24,
   "id": "54ac2c19",
   "metadata": {},
   "outputs": [
    {
     "data": {
      "text/html": [
       "<div>\n",
       "<style scoped>\n",
       "    .dataframe tbody tr th:only-of-type {\n",
       "        vertical-align: middle;\n",
       "    }\n",
       "\n",
       "    .dataframe tbody tr th {\n",
       "        vertical-align: top;\n",
       "    }\n",
       "\n",
       "    .dataframe thead th {\n",
       "        text-align: right;\n",
       "    }\n",
       "</style>\n",
       "<table border=\"1\" class=\"dataframe\">\n",
       "  <thead>\n",
       "    <tr style=\"text-align: right;\">\n",
       "      <th></th>\n",
       "      <th>Lactate</th>\n",
       "      <th>Alanine</th>\n",
       "      <th>Creatine</th>\n",
       "      <th>Creatinine</th>\n",
       "      <th>Choline chloride</th>\n",
       "    </tr>\n",
       "  </thead>\n",
       "  <tbody>\n",
       "    <tr>\n",
       "      <th>0</th>\n",
       "      <td>0.227497</td>\n",
       "      <td>0.150572</td>\n",
       "      <td>0.117287</td>\n",
       "      <td>0.177356</td>\n",
       "      <td>0.327288</td>\n",
       "    </tr>\n",
       "  </tbody>\n",
       "</table>\n",
       "</div>"
      ],
      "text/plain": [
       "    Lactate   Alanine  Creatine  Creatinine  Choline chloride\n",
       "0  0.227497  0.150572  0.117287    0.177356          0.327288"
      ]
     },
     "execution_count": 24,
     "metadata": {},
     "output_type": "execute_result"
    }
   ],
   "source": [
    "res_vis = pd.DataFrame(np.array(estimation_vis['proportions']).reshape(1,-1), \n",
    "             columns = components_dictionary['experiment_'+str(nr_of_experiment)])\n",
    "res_vis"
   ]
  },
  {
   "cell_type": "code",
   "execution_count": 25,
   "id": "f7dbc5be",
   "metadata": {},
   "outputs": [
    {
     "data": {
      "text/html": [
       "<div>\n",
       "<style scoped>\n",
       "    .dataframe tbody tr th:only-of-type {\n",
       "        vertical-align: middle;\n",
       "    }\n",
       "\n",
       "    .dataframe tbody tr th {\n",
       "        vertical-align: top;\n",
       "    }\n",
       "\n",
       "    .dataframe thead th {\n",
       "        text-align: right;\n",
       "    }\n",
       "</style>\n",
       "<table border=\"1\" class=\"dataframe\">\n",
       "  <thead>\n",
       "    <tr style=\"text-align: right;\">\n",
       "      <th></th>\n",
       "      <th>Lactate</th>\n",
       "      <th>Alanine</th>\n",
       "      <th>Creatine</th>\n",
       "      <th>Creatinine</th>\n",
       "      <th>Choline chloride</th>\n",
       "    </tr>\n",
       "  </thead>\n",
       "  <tbody>\n",
       "    <tr>\n",
       "      <th>0</th>\n",
       "      <td>0.318407</td>\n",
       "      <td>0.210741</td>\n",
       "      <td>0.131324</td>\n",
       "      <td>0.198583</td>\n",
       "      <td>0.140946</td>\n",
       "    </tr>\n",
       "  </tbody>\n",
       "</table>\n",
       "</div>"
      ],
      "text/plain": [
       "    Lactate   Alanine  Creatine  Creatinine  Choline chloride\n",
       "0  0.318407  0.210741  0.131324    0.198583          0.140946"
      ]
     },
     "execution_count": 25,
     "metadata": {},
     "output_type": "execute_result"
    }
   ],
   "source": [
    "res_con = pd.DataFrame(np.array(estimation_molar['proportions']).reshape(1,-1), \n",
    "             columns = components_dictionary['experiment_'+str(nr_of_experiment)])\n",
    "res_con"
   ]
  },
  {
   "cell_type": "code",
   "execution_count": 26,
   "id": "a2cfc1d2",
   "metadata": {},
   "outputs": [],
   "source": [
    "if (nr_of_experiment != 9 and nr_of_experiment != 4):\n",
    "    res_vis.to_csv(experiments_folders['experiment_' + str(nr_of_experiment)]+\n",
    "                   '/results_area.csv')\n",
    "else:\n",
    "    res_vis.to_csv(experiments_folders['experiment_' + str(nr_of_experiment)]+\n",
    "                   '/results_area_exp'+str(nr_of_experiment)+'.csv')"
   ]
  },
  {
   "cell_type": "code",
   "execution_count": 27,
   "id": "15c18f10",
   "metadata": {},
   "outputs": [],
   "source": [
    "if (nr_of_experiment != 9 and nr_of_experiment != 4):\n",
    "    res_con.to_csv(experiments_folders['experiment_' + str(nr_of_experiment)]+\n",
    "               '/results_concentration.csv')\n",
    "else:\n",
    "    res_con.to_csv(experiments_folders['experiment_' + str(nr_of_experiment)]+\n",
    "               '/results_concentration_exp'+str(nr_of_experiment)+'.csv')"
   ]
  },
  {
   "cell_type": "markdown",
   "id": "cee5a55b",
   "metadata": {},
   "source": [
    "### Mixture vs linear combination of components (noise removed)"
   ]
  },
  {
   "cell_type": "code",
   "execution_count": 28,
   "id": "b35a6293",
   "metadata": {},
   "outputs": [],
   "source": [
    "ignore_negative = False"
   ]
  },
  {
   "cell_type": "code",
   "execution_count": 29,
   "id": "5c4477be",
   "metadata": {},
   "outputs": [],
   "source": [
    "def make_nonnegative(ints):\n",
    "    res_ints = ints\n",
    "    for col_nr in range(ints.shape[1]):\n",
    "        neg = ints[:,col_nr]<0\n",
    "        res_ints[:,col_nr][neg]=0\n",
    "    return(res_ints)"
   ]
  },
  {
   "cell_type": "markdown",
   "id": "7b3e6bac",
   "metadata": {},
   "source": [
    "#### Mix"
   ]
  },
  {
   "cell_type": "code",
   "execution_count": 30,
   "id": "d938786b",
   "metadata": {},
   "outputs": [],
   "source": [
    "ppm = np.array(mix.confs)[:,0]\n",
    "mix_ints = np.array(mix.confs)[:,1]"
   ]
  },
  {
   "cell_type": "code",
   "execution_count": 31,
   "id": "e49f6542",
   "metadata": {},
   "outputs": [],
   "source": [
    "mix_without_noise = NMRSpectrum(confs = list(zip(ppm, mix_ints - np.array(estimation_vis['noise']))))\n",
    "mix_without_noise = np.array(mix_without_noise.confs)[:,1]"
   ]
  },
  {
   "cell_type": "code",
   "execution_count": 32,
   "id": "41218d82",
   "metadata": {},
   "outputs": [],
   "source": [
    "if ignore_negative:\n",
    "    mix_without_noise = make_nonnegative(mix_without_noise.reshape(-1,1))"
   ]
  },
  {
   "cell_type": "code",
   "execution_count": 33,
   "id": "58ba1cea",
   "metadata": {},
   "outputs": [],
   "source": [
    "mix_without_noise = mix_without_noise/sum(mix_without_noise)"
   ]
  },
  {
   "cell_type": "markdown",
   "id": "a062a05d",
   "metadata": {},
   "source": [
    "#### Components"
   ]
  },
  {
   "cell_type": "code",
   "execution_count": 34,
   "id": "bff9eece",
   "metadata": {},
   "outputs": [],
   "source": [
    "components_ints = []\n",
    "for spectrum in spectra:\n",
    "    components_ints.append(np.array(spectrum.confs)[:,1])#.reshape(-1,1))"
   ]
  },
  {
   "cell_type": "code",
   "execution_count": 35,
   "id": "86e0b53a",
   "metadata": {},
   "outputs": [],
   "source": [
    "p = estimation_vis['proportions']\n",
    "p = np.array(p).reshape(len(p),1)"
   ]
  },
  {
   "cell_type": "code",
   "execution_count": 36,
   "id": "ec7c6d91",
   "metadata": {},
   "outputs": [],
   "source": [
    "names_components_up_to = ['sum_up_to_'+str(i+1) for i in range(len(spectra))]"
   ]
  },
  {
   "cell_type": "code",
   "execution_count": 37,
   "id": "cee5adc5",
   "metadata": {},
   "outputs": [],
   "source": [
    "components = [comp.reshape(-1,1) for comp in components_ints]\n",
    "components_no_scaling = np.concatenate(components, axis=1)\n",
    "components_scaled = components_no_scaling*p[:,0]"
   ]
  },
  {
   "cell_type": "code",
   "execution_count": 38,
   "id": "06ef63df",
   "metadata": {},
   "outputs": [
    {
     "name": "stderr",
     "output_type": "stream",
     "text": [
      "/tmp/ipykernel_28468/2062537961.py:1: RuntimeWarning: invalid value encountered in divide\n",
      "  proportions_point_by_point = (components_scaled/np.sum(components_scaled, axis=1).reshape(-1,1))\n"
     ]
    }
   ],
   "source": [
    "proportions_point_by_point = (components_scaled/np.sum(components_scaled, axis=1).reshape(-1,1))\n",
    "proportions_point_by_point = np.nan_to_num(proportions_point_by_point)\n",
    "noise_in_ref = np.array(estimation_vis['noise_in_theoretical']).reshape(-1,1)\n",
    "noise_split_for_components = proportions_point_by_point*noise_in_ref"
   ]
  },
  {
   "cell_type": "code",
   "execution_count": 39,
   "id": "d06e7972",
   "metadata": {},
   "outputs": [
    {
     "data": {
      "text/plain": [
       "True"
      ]
     },
     "execution_count": 39,
     "metadata": {},
     "output_type": "execute_result"
    }
   ],
   "source": [
    "(np.round(components_scaled-noise_split_for_components, decimals=5)>=0).all()"
   ]
  },
  {
   "cell_type": "code",
   "execution_count": 40,
   "id": "c3a37fa7",
   "metadata": {},
   "outputs": [],
   "source": [
    "X = components_scaled - noise_split_for_components"
   ]
  },
  {
   "cell_type": "code",
   "execution_count": 41,
   "id": "c7c5a100",
   "metadata": {},
   "outputs": [
    {
     "data": {
      "text/plain": [
       "True"
      ]
     },
     "execution_count": 41,
     "metadata": {},
     "output_type": "execute_result"
    }
   ],
   "source": [
    "(np.sum(X[:,:1], axis=1)==X[:,0]).all()"
   ]
  },
  {
   "cell_type": "code",
   "execution_count": 42,
   "id": "24612df2",
   "metadata": {},
   "outputs": [],
   "source": [
    "if ignore_negative:\n",
    "    X = make_nonnegative(X)"
   ]
  },
  {
   "cell_type": "code",
   "execution_count": 43,
   "id": "4116e7a4",
   "metadata": {},
   "outputs": [],
   "source": [
    "for i, name in enumerate(names_components_up_to):\n",
    "    #not_normalized = np.sum(X[:,:(i+1)], axis=1)\n",
    "    \n",
    "    globals()[name] = np.sum(X[:,:(i+1)], axis=1)"
   ]
  },
  {
   "cell_type": "code",
   "execution_count": 44,
   "id": "4cc24789",
   "metadata": {},
   "outputs": [],
   "source": [
    "xlims_lower = [1.55, 1.6, 4.4, 3.55, 3.55, 1.55, 7.3, 9.1, 3.55]\n",
    "xlims_upper = [2.45, 2.4, 7.8, 4.05, 4.05, 2.4, 7.6, 10.1, 4.05]\n",
    "ylims_lower = [-0.00005, -0.00005, -0.000025, -0.00005, -0.00005, -0.00005, -0.00005, -0.00005, -0.00005]\n",
    "ylims_upper = [0.00045, 0.0025, 0.00016, 0.0016, 0.0011, 0.0016, 0.0026, 0.0014, 0.0016]"
   ]
  },
  {
   "cell_type": "code",
   "execution_count": 45,
   "id": "b4281800",
   "metadata": {},
   "outputs": [
    {
     "data": {
      "application/javascript": [
       "/* Put everything inside the global mpl namespace */\n",
       "/* global mpl */\n",
       "window.mpl = {};\n",
       "\n",
       "mpl.get_websocket_type = function () {\n",
       "    if (typeof WebSocket !== 'undefined') {\n",
       "        return WebSocket;\n",
       "    } else if (typeof MozWebSocket !== 'undefined') {\n",
       "        return MozWebSocket;\n",
       "    } else {\n",
       "        alert(\n",
       "            'Your browser does not have WebSocket support. ' +\n",
       "                'Please try Chrome, Safari or Firefox ≥ 6. ' +\n",
       "                'Firefox 4 and 5 are also supported but you ' +\n",
       "                'have to enable WebSockets in about:config.'\n",
       "        );\n",
       "    }\n",
       "};\n",
       "\n",
       "mpl.figure = function (figure_id, websocket, ondownload, parent_element) {\n",
       "    this.id = figure_id;\n",
       "\n",
       "    this.ws = websocket;\n",
       "\n",
       "    this.supports_binary = this.ws.binaryType !== undefined;\n",
       "\n",
       "    if (!this.supports_binary) {\n",
       "        var warnings = document.getElementById('mpl-warnings');\n",
       "        if (warnings) {\n",
       "            warnings.style.display = 'block';\n",
       "            warnings.textContent =\n",
       "                'This browser does not support binary websocket messages. ' +\n",
       "                'Performance may be slow.';\n",
       "        }\n",
       "    }\n",
       "\n",
       "    this.imageObj = new Image();\n",
       "\n",
       "    this.context = undefined;\n",
       "    this.message = undefined;\n",
       "    this.canvas = undefined;\n",
       "    this.rubberband_canvas = undefined;\n",
       "    this.rubberband_context = undefined;\n",
       "    this.format_dropdown = undefined;\n",
       "\n",
       "    this.image_mode = 'full';\n",
       "\n",
       "    this.root = document.createElement('div');\n",
       "    this.root.setAttribute('style', 'display: inline-block');\n",
       "    this._root_extra_style(this.root);\n",
       "\n",
       "    parent_element.appendChild(this.root);\n",
       "\n",
       "    this._init_header(this);\n",
       "    this._init_canvas(this);\n",
       "    this._init_toolbar(this);\n",
       "\n",
       "    var fig = this;\n",
       "\n",
       "    this.waiting = false;\n",
       "\n",
       "    this.ws.onopen = function () {\n",
       "        fig.send_message('supports_binary', { value: fig.supports_binary });\n",
       "        fig.send_message('send_image_mode', {});\n",
       "        if (fig.ratio !== 1) {\n",
       "            fig.send_message('set_device_pixel_ratio', {\n",
       "                device_pixel_ratio: fig.ratio,\n",
       "            });\n",
       "        }\n",
       "        fig.send_message('refresh', {});\n",
       "    };\n",
       "\n",
       "    this.imageObj.onload = function () {\n",
       "        if (fig.image_mode === 'full') {\n",
       "            // Full images could contain transparency (where diff images\n",
       "            // almost always do), so we need to clear the canvas so that\n",
       "            // there is no ghosting.\n",
       "            fig.context.clearRect(0, 0, fig.canvas.width, fig.canvas.height);\n",
       "        }\n",
       "        fig.context.drawImage(fig.imageObj, 0, 0);\n",
       "    };\n",
       "\n",
       "    this.imageObj.onunload = function () {\n",
       "        fig.ws.close();\n",
       "    };\n",
       "\n",
       "    this.ws.onmessage = this._make_on_message_function(this);\n",
       "\n",
       "    this.ondownload = ondownload;\n",
       "};\n",
       "\n",
       "mpl.figure.prototype._init_header = function () {\n",
       "    var titlebar = document.createElement('div');\n",
       "    titlebar.classList =\n",
       "        'ui-dialog-titlebar ui-widget-header ui-corner-all ui-helper-clearfix';\n",
       "    var titletext = document.createElement('div');\n",
       "    titletext.classList = 'ui-dialog-title';\n",
       "    titletext.setAttribute(\n",
       "        'style',\n",
       "        'width: 100%; text-align: center; padding: 3px;'\n",
       "    );\n",
       "    titlebar.appendChild(titletext);\n",
       "    this.root.appendChild(titlebar);\n",
       "    this.header = titletext;\n",
       "};\n",
       "\n",
       "mpl.figure.prototype._canvas_extra_style = function (_canvas_div) {};\n",
       "\n",
       "mpl.figure.prototype._root_extra_style = function (_canvas_div) {};\n",
       "\n",
       "mpl.figure.prototype._init_canvas = function () {\n",
       "    var fig = this;\n",
       "\n",
       "    var canvas_div = (this.canvas_div = document.createElement('div'));\n",
       "    canvas_div.setAttribute('tabindex', '0');\n",
       "    canvas_div.setAttribute(\n",
       "        'style',\n",
       "        'border: 1px solid #ddd;' +\n",
       "            'box-sizing: content-box;' +\n",
       "            'clear: both;' +\n",
       "            'min-height: 1px;' +\n",
       "            'min-width: 1px;' +\n",
       "            'outline: 0;' +\n",
       "            'overflow: hidden;' +\n",
       "            'position: relative;' +\n",
       "            'resize: both;' +\n",
       "            'z-index: 2;'\n",
       "    );\n",
       "\n",
       "    function on_keyboard_event_closure(name) {\n",
       "        return function (event) {\n",
       "            return fig.key_event(event, name);\n",
       "        };\n",
       "    }\n",
       "\n",
       "    canvas_div.addEventListener(\n",
       "        'keydown',\n",
       "        on_keyboard_event_closure('key_press')\n",
       "    );\n",
       "    canvas_div.addEventListener(\n",
       "        'keyup',\n",
       "        on_keyboard_event_closure('key_release')\n",
       "    );\n",
       "\n",
       "    this._canvas_extra_style(canvas_div);\n",
       "    this.root.appendChild(canvas_div);\n",
       "\n",
       "    var canvas = (this.canvas = document.createElement('canvas'));\n",
       "    canvas.classList.add('mpl-canvas');\n",
       "    canvas.setAttribute(\n",
       "        'style',\n",
       "        'box-sizing: content-box;' +\n",
       "            'pointer-events: none;' +\n",
       "            'position: relative;' +\n",
       "            'z-index: 0;'\n",
       "    );\n",
       "\n",
       "    this.context = canvas.getContext('2d');\n",
       "\n",
       "    var backingStore =\n",
       "        this.context.backingStorePixelRatio ||\n",
       "        this.context.webkitBackingStorePixelRatio ||\n",
       "        this.context.mozBackingStorePixelRatio ||\n",
       "        this.context.msBackingStorePixelRatio ||\n",
       "        this.context.oBackingStorePixelRatio ||\n",
       "        this.context.backingStorePixelRatio ||\n",
       "        1;\n",
       "\n",
       "    this.ratio = (window.devicePixelRatio || 1) / backingStore;\n",
       "\n",
       "    var rubberband_canvas = (this.rubberband_canvas = document.createElement(\n",
       "        'canvas'\n",
       "    ));\n",
       "    rubberband_canvas.setAttribute(\n",
       "        'style',\n",
       "        'box-sizing: content-box;' +\n",
       "            'left: 0;' +\n",
       "            'pointer-events: none;' +\n",
       "            'position: absolute;' +\n",
       "            'top: 0;' +\n",
       "            'z-index: 1;'\n",
       "    );\n",
       "\n",
       "    // Apply a ponyfill if ResizeObserver is not implemented by browser.\n",
       "    if (this.ResizeObserver === undefined) {\n",
       "        if (window.ResizeObserver !== undefined) {\n",
       "            this.ResizeObserver = window.ResizeObserver;\n",
       "        } else {\n",
       "            var obs = _JSXTOOLS_RESIZE_OBSERVER({});\n",
       "            this.ResizeObserver = obs.ResizeObserver;\n",
       "        }\n",
       "    }\n",
       "\n",
       "    this.resizeObserverInstance = new this.ResizeObserver(function (entries) {\n",
       "        var nentries = entries.length;\n",
       "        for (var i = 0; i < nentries; i++) {\n",
       "            var entry = entries[i];\n",
       "            var width, height;\n",
       "            if (entry.contentBoxSize) {\n",
       "                if (entry.contentBoxSize instanceof Array) {\n",
       "                    // Chrome 84 implements new version of spec.\n",
       "                    width = entry.contentBoxSize[0].inlineSize;\n",
       "                    height = entry.contentBoxSize[0].blockSize;\n",
       "                } else {\n",
       "                    // Firefox implements old version of spec.\n",
       "                    width = entry.contentBoxSize.inlineSize;\n",
       "                    height = entry.contentBoxSize.blockSize;\n",
       "                }\n",
       "            } else {\n",
       "                // Chrome <84 implements even older version of spec.\n",
       "                width = entry.contentRect.width;\n",
       "                height = entry.contentRect.height;\n",
       "            }\n",
       "\n",
       "            // Keep the size of the canvas and rubber band canvas in sync with\n",
       "            // the canvas container.\n",
       "            if (entry.devicePixelContentBoxSize) {\n",
       "                // Chrome 84 implements new version of spec.\n",
       "                canvas.setAttribute(\n",
       "                    'width',\n",
       "                    entry.devicePixelContentBoxSize[0].inlineSize\n",
       "                );\n",
       "                canvas.setAttribute(\n",
       "                    'height',\n",
       "                    entry.devicePixelContentBoxSize[0].blockSize\n",
       "                );\n",
       "            } else {\n",
       "                canvas.setAttribute('width', width * fig.ratio);\n",
       "                canvas.setAttribute('height', height * fig.ratio);\n",
       "            }\n",
       "            /* This rescales the canvas back to display pixels, so that it\n",
       "             * appears correct on HiDPI screens. */\n",
       "            canvas.style.width = width + 'px';\n",
       "            canvas.style.height = height + 'px';\n",
       "\n",
       "            rubberband_canvas.setAttribute('width', width);\n",
       "            rubberband_canvas.setAttribute('height', height);\n",
       "\n",
       "            // And update the size in Python. We ignore the initial 0/0 size\n",
       "            // that occurs as the element is placed into the DOM, which should\n",
       "            // otherwise not happen due to the minimum size styling.\n",
       "            if (fig.ws.readyState == 1 && width != 0 && height != 0) {\n",
       "                fig.request_resize(width, height);\n",
       "            }\n",
       "        }\n",
       "    });\n",
       "    this.resizeObserverInstance.observe(canvas_div);\n",
       "\n",
       "    function on_mouse_event_closure(name) {\n",
       "        /* User Agent sniffing is bad, but WebKit is busted:\n",
       "         * https://bugs.webkit.org/show_bug.cgi?id=144526\n",
       "         * https://bugs.webkit.org/show_bug.cgi?id=181818\n",
       "         * The worst that happens here is that they get an extra browser\n",
       "         * selection when dragging, if this check fails to catch them.\n",
       "         */\n",
       "        var UA = navigator.userAgent;\n",
       "        var isWebKit = /AppleWebKit/.test(UA) && !/Chrome/.test(UA);\n",
       "        if(isWebKit) {\n",
       "            return function (event) {\n",
       "                /* This prevents the web browser from automatically changing to\n",
       "                 * the text insertion cursor when the button is pressed. We\n",
       "                 * want to control all of the cursor setting manually through\n",
       "                 * the 'cursor' event from matplotlib */\n",
       "                event.preventDefault()\n",
       "                return fig.mouse_event(event, name);\n",
       "            };\n",
       "        } else {\n",
       "            return function (event) {\n",
       "                return fig.mouse_event(event, name);\n",
       "            };\n",
       "        }\n",
       "    }\n",
       "\n",
       "    canvas_div.addEventListener(\n",
       "        'mousedown',\n",
       "        on_mouse_event_closure('button_press')\n",
       "    );\n",
       "    canvas_div.addEventListener(\n",
       "        'mouseup',\n",
       "        on_mouse_event_closure('button_release')\n",
       "    );\n",
       "    canvas_div.addEventListener(\n",
       "        'dblclick',\n",
       "        on_mouse_event_closure('dblclick')\n",
       "    );\n",
       "    // Throttle sequential mouse events to 1 every 20ms.\n",
       "    canvas_div.addEventListener(\n",
       "        'mousemove',\n",
       "        on_mouse_event_closure('motion_notify')\n",
       "    );\n",
       "\n",
       "    canvas_div.addEventListener(\n",
       "        'mouseenter',\n",
       "        on_mouse_event_closure('figure_enter')\n",
       "    );\n",
       "    canvas_div.addEventListener(\n",
       "        'mouseleave',\n",
       "        on_mouse_event_closure('figure_leave')\n",
       "    );\n",
       "\n",
       "    canvas_div.addEventListener('wheel', function (event) {\n",
       "        if (event.deltaY < 0) {\n",
       "            event.step = 1;\n",
       "        } else {\n",
       "            event.step = -1;\n",
       "        }\n",
       "        on_mouse_event_closure('scroll')(event);\n",
       "    });\n",
       "\n",
       "    canvas_div.appendChild(canvas);\n",
       "    canvas_div.appendChild(rubberband_canvas);\n",
       "\n",
       "    this.rubberband_context = rubberband_canvas.getContext('2d');\n",
       "    this.rubberband_context.strokeStyle = '#000000';\n",
       "\n",
       "    this._resize_canvas = function (width, height, forward) {\n",
       "        if (forward) {\n",
       "            canvas_div.style.width = width + 'px';\n",
       "            canvas_div.style.height = height + 'px';\n",
       "        }\n",
       "    };\n",
       "\n",
       "    // Disable right mouse context menu.\n",
       "    canvas_div.addEventListener('contextmenu', function (_e) {\n",
       "        event.preventDefault();\n",
       "        return false;\n",
       "    });\n",
       "\n",
       "    function set_focus() {\n",
       "        canvas.focus();\n",
       "        canvas_div.focus();\n",
       "    }\n",
       "\n",
       "    window.setTimeout(set_focus, 100);\n",
       "};\n",
       "\n",
       "mpl.figure.prototype._init_toolbar = function () {\n",
       "    var fig = this;\n",
       "\n",
       "    var toolbar = document.createElement('div');\n",
       "    toolbar.classList = 'mpl-toolbar';\n",
       "    this.root.appendChild(toolbar);\n",
       "\n",
       "    function on_click_closure(name) {\n",
       "        return function (_event) {\n",
       "            return fig.toolbar_button_onclick(name);\n",
       "        };\n",
       "    }\n",
       "\n",
       "    function on_mouseover_closure(tooltip) {\n",
       "        return function (event) {\n",
       "            if (!event.currentTarget.disabled) {\n",
       "                return fig.toolbar_button_onmouseover(tooltip);\n",
       "            }\n",
       "        };\n",
       "    }\n",
       "\n",
       "    fig.buttons = {};\n",
       "    var buttonGroup = document.createElement('div');\n",
       "    buttonGroup.classList = 'mpl-button-group';\n",
       "    for (var toolbar_ind in mpl.toolbar_items) {\n",
       "        var name = mpl.toolbar_items[toolbar_ind][0];\n",
       "        var tooltip = mpl.toolbar_items[toolbar_ind][1];\n",
       "        var image = mpl.toolbar_items[toolbar_ind][2];\n",
       "        var method_name = mpl.toolbar_items[toolbar_ind][3];\n",
       "\n",
       "        if (!name) {\n",
       "            /* Instead of a spacer, we start a new button group. */\n",
       "            if (buttonGroup.hasChildNodes()) {\n",
       "                toolbar.appendChild(buttonGroup);\n",
       "            }\n",
       "            buttonGroup = document.createElement('div');\n",
       "            buttonGroup.classList = 'mpl-button-group';\n",
       "            continue;\n",
       "        }\n",
       "\n",
       "        var button = (fig.buttons[name] = document.createElement('button'));\n",
       "        button.classList = 'mpl-widget';\n",
       "        button.setAttribute('role', 'button');\n",
       "        button.setAttribute('aria-disabled', 'false');\n",
       "        button.addEventListener('click', on_click_closure(method_name));\n",
       "        button.addEventListener('mouseover', on_mouseover_closure(tooltip));\n",
       "\n",
       "        var icon_img = document.createElement('img');\n",
       "        icon_img.src = '_images/' + image + '.png';\n",
       "        icon_img.srcset = '_images/' + image + '_large.png 2x';\n",
       "        icon_img.alt = tooltip;\n",
       "        button.appendChild(icon_img);\n",
       "\n",
       "        buttonGroup.appendChild(button);\n",
       "    }\n",
       "\n",
       "    if (buttonGroup.hasChildNodes()) {\n",
       "        toolbar.appendChild(buttonGroup);\n",
       "    }\n",
       "\n",
       "    var fmt_picker = document.createElement('select');\n",
       "    fmt_picker.classList = 'mpl-widget';\n",
       "    toolbar.appendChild(fmt_picker);\n",
       "    this.format_dropdown = fmt_picker;\n",
       "\n",
       "    for (var ind in mpl.extensions) {\n",
       "        var fmt = mpl.extensions[ind];\n",
       "        var option = document.createElement('option');\n",
       "        option.selected = fmt === mpl.default_extension;\n",
       "        option.innerHTML = fmt;\n",
       "        fmt_picker.appendChild(option);\n",
       "    }\n",
       "\n",
       "    var status_bar = document.createElement('span');\n",
       "    status_bar.classList = 'mpl-message';\n",
       "    toolbar.appendChild(status_bar);\n",
       "    this.message = status_bar;\n",
       "};\n",
       "\n",
       "mpl.figure.prototype.request_resize = function (x_pixels, y_pixels) {\n",
       "    // Request matplotlib to resize the figure. Matplotlib will then trigger a resize in the client,\n",
       "    // which will in turn request a refresh of the image.\n",
       "    this.send_message('resize', { width: x_pixels, height: y_pixels });\n",
       "};\n",
       "\n",
       "mpl.figure.prototype.send_message = function (type, properties) {\n",
       "    properties['type'] = type;\n",
       "    properties['figure_id'] = this.id;\n",
       "    this.ws.send(JSON.stringify(properties));\n",
       "};\n",
       "\n",
       "mpl.figure.prototype.send_draw_message = function () {\n",
       "    if (!this.waiting) {\n",
       "        this.waiting = true;\n",
       "        this.ws.send(JSON.stringify({ type: 'draw', figure_id: this.id }));\n",
       "    }\n",
       "};\n",
       "\n",
       "mpl.figure.prototype.handle_save = function (fig, _msg) {\n",
       "    var format_dropdown = fig.format_dropdown;\n",
       "    var format = format_dropdown.options[format_dropdown.selectedIndex].value;\n",
       "    fig.ondownload(fig, format);\n",
       "};\n",
       "\n",
       "mpl.figure.prototype.handle_resize = function (fig, msg) {\n",
       "    var size = msg['size'];\n",
       "    if (size[0] !== fig.canvas.width || size[1] !== fig.canvas.height) {\n",
       "        fig._resize_canvas(size[0], size[1], msg['forward']);\n",
       "        fig.send_message('refresh', {});\n",
       "    }\n",
       "};\n",
       "\n",
       "mpl.figure.prototype.handle_rubberband = function (fig, msg) {\n",
       "    var x0 = msg['x0'] / fig.ratio;\n",
       "    var y0 = (fig.canvas.height - msg['y0']) / fig.ratio;\n",
       "    var x1 = msg['x1'] / fig.ratio;\n",
       "    var y1 = (fig.canvas.height - msg['y1']) / fig.ratio;\n",
       "    x0 = Math.floor(x0) + 0.5;\n",
       "    y0 = Math.floor(y0) + 0.5;\n",
       "    x1 = Math.floor(x1) + 0.5;\n",
       "    y1 = Math.floor(y1) + 0.5;\n",
       "    var min_x = Math.min(x0, x1);\n",
       "    var min_y = Math.min(y0, y1);\n",
       "    var width = Math.abs(x1 - x0);\n",
       "    var height = Math.abs(y1 - y0);\n",
       "\n",
       "    fig.rubberband_context.clearRect(\n",
       "        0,\n",
       "        0,\n",
       "        fig.canvas.width / fig.ratio,\n",
       "        fig.canvas.height / fig.ratio\n",
       "    );\n",
       "\n",
       "    fig.rubberband_context.strokeRect(min_x, min_y, width, height);\n",
       "};\n",
       "\n",
       "mpl.figure.prototype.handle_figure_label = function (fig, msg) {\n",
       "    // Updates the figure title.\n",
       "    fig.header.textContent = msg['label'];\n",
       "};\n",
       "\n",
       "mpl.figure.prototype.handle_cursor = function (fig, msg) {\n",
       "    fig.canvas_div.style.cursor = msg['cursor'];\n",
       "};\n",
       "\n",
       "mpl.figure.prototype.handle_message = function (fig, msg) {\n",
       "    fig.message.textContent = msg['message'];\n",
       "};\n",
       "\n",
       "mpl.figure.prototype.handle_draw = function (fig, _msg) {\n",
       "    // Request the server to send over a new figure.\n",
       "    fig.send_draw_message();\n",
       "};\n",
       "\n",
       "mpl.figure.prototype.handle_image_mode = function (fig, msg) {\n",
       "    fig.image_mode = msg['mode'];\n",
       "};\n",
       "\n",
       "mpl.figure.prototype.handle_history_buttons = function (fig, msg) {\n",
       "    for (var key in msg) {\n",
       "        if (!(key in fig.buttons)) {\n",
       "            continue;\n",
       "        }\n",
       "        fig.buttons[key].disabled = !msg[key];\n",
       "        fig.buttons[key].setAttribute('aria-disabled', !msg[key]);\n",
       "    }\n",
       "};\n",
       "\n",
       "mpl.figure.prototype.handle_navigate_mode = function (fig, msg) {\n",
       "    if (msg['mode'] === 'PAN') {\n",
       "        fig.buttons['Pan'].classList.add('active');\n",
       "        fig.buttons['Zoom'].classList.remove('active');\n",
       "    } else if (msg['mode'] === 'ZOOM') {\n",
       "        fig.buttons['Pan'].classList.remove('active');\n",
       "        fig.buttons['Zoom'].classList.add('active');\n",
       "    } else {\n",
       "        fig.buttons['Pan'].classList.remove('active');\n",
       "        fig.buttons['Zoom'].classList.remove('active');\n",
       "    }\n",
       "};\n",
       "\n",
       "mpl.figure.prototype.updated_canvas_event = function () {\n",
       "    // Called whenever the canvas gets updated.\n",
       "    this.send_message('ack', {});\n",
       "};\n",
       "\n",
       "// A function to construct a web socket function for onmessage handling.\n",
       "// Called in the figure constructor.\n",
       "mpl.figure.prototype._make_on_message_function = function (fig) {\n",
       "    return function socket_on_message(evt) {\n",
       "        if (evt.data instanceof Blob) {\n",
       "            var img = evt.data;\n",
       "            if (img.type !== 'image/png') {\n",
       "                /* FIXME: We get \"Resource interpreted as Image but\n",
       "                 * transferred with MIME type text/plain:\" errors on\n",
       "                 * Chrome.  But how to set the MIME type?  It doesn't seem\n",
       "                 * to be part of the websocket stream */\n",
       "                img.type = 'image/png';\n",
       "            }\n",
       "\n",
       "            /* Free the memory for the previous frames */\n",
       "            if (fig.imageObj.src) {\n",
       "                (window.URL || window.webkitURL).revokeObjectURL(\n",
       "                    fig.imageObj.src\n",
       "                );\n",
       "            }\n",
       "\n",
       "            fig.imageObj.src = (window.URL || window.webkitURL).createObjectURL(\n",
       "                img\n",
       "            );\n",
       "            fig.updated_canvas_event();\n",
       "            fig.waiting = false;\n",
       "            return;\n",
       "        } else if (\n",
       "            typeof evt.data === 'string' &&\n",
       "            evt.data.slice(0, 21) === 'data:image/png;base64'\n",
       "        ) {\n",
       "            fig.imageObj.src = evt.data;\n",
       "            fig.updated_canvas_event();\n",
       "            fig.waiting = false;\n",
       "            return;\n",
       "        }\n",
       "\n",
       "        var msg = JSON.parse(evt.data);\n",
       "        var msg_type = msg['type'];\n",
       "\n",
       "        // Call the  \"handle_{type}\" callback, which takes\n",
       "        // the figure and JSON message as its only arguments.\n",
       "        try {\n",
       "            var callback = fig['handle_' + msg_type];\n",
       "        } catch (e) {\n",
       "            console.log(\n",
       "                \"No handler for the '\" + msg_type + \"' message type: \",\n",
       "                msg\n",
       "            );\n",
       "            return;\n",
       "        }\n",
       "\n",
       "        if (callback) {\n",
       "            try {\n",
       "                // console.log(\"Handling '\" + msg_type + \"' message: \", msg);\n",
       "                callback(fig, msg);\n",
       "            } catch (e) {\n",
       "                console.log(\n",
       "                    \"Exception inside the 'handler_\" + msg_type + \"' callback:\",\n",
       "                    e,\n",
       "                    e.stack,\n",
       "                    msg\n",
       "                );\n",
       "            }\n",
       "        }\n",
       "    };\n",
       "};\n",
       "\n",
       "\n",
       "/*\n",
       " * return a copy of an object with only non-object keys\n",
       " * we need this to avoid circular references\n",
       " * https://stackoverflow.com/a/24161582/3208463\n",
       " */\n",
       "function simpleKeys(original) {\n",
       "    return Object.keys(original).reduce(function (obj, key) {\n",
       "        if (typeof original[key] !== 'object') {\n",
       "            obj[key] = original[key];\n",
       "        }\n",
       "        return obj;\n",
       "    }, {});\n",
       "}\n",
       "\n",
       "mpl.figure.prototype.mouse_event = function (event, name) {\n",
       "    if (name === 'button_press') {\n",
       "        this.canvas.focus();\n",
       "        this.canvas_div.focus();\n",
       "    }\n",
       "\n",
       "    // from https://stackoverflow.com/q/1114465\n",
       "    var boundingRect = this.canvas.getBoundingClientRect();\n",
       "    var x = (event.clientX - boundingRect.left) * this.ratio;\n",
       "    var y = (event.clientY - boundingRect.top) * this.ratio;\n",
       "\n",
       "    this.send_message(name, {\n",
       "        x: x,\n",
       "        y: y,\n",
       "        button: event.button,\n",
       "        step: event.step,\n",
       "        guiEvent: simpleKeys(event),\n",
       "    });\n",
       "\n",
       "    return false;\n",
       "};\n",
       "\n",
       "mpl.figure.prototype._key_event_extra = function (_event, _name) {\n",
       "    // Handle any extra behaviour associated with a key event\n",
       "};\n",
       "\n",
       "mpl.figure.prototype.key_event = function (event, name) {\n",
       "    // Prevent repeat events\n",
       "    if (name === 'key_press') {\n",
       "        if (event.key === this._key) {\n",
       "            return;\n",
       "        } else {\n",
       "            this._key = event.key;\n",
       "        }\n",
       "    }\n",
       "    if (name === 'key_release') {\n",
       "        this._key = null;\n",
       "    }\n",
       "\n",
       "    var value = '';\n",
       "    if (event.ctrlKey && event.key !== 'Control') {\n",
       "        value += 'ctrl+';\n",
       "    }\n",
       "    else if (event.altKey && event.key !== 'Alt') {\n",
       "        value += 'alt+';\n",
       "    }\n",
       "    else if (event.shiftKey && event.key !== 'Shift') {\n",
       "        value += 'shift+';\n",
       "    }\n",
       "\n",
       "    value += 'k' + event.key;\n",
       "\n",
       "    this._key_event_extra(event, name);\n",
       "\n",
       "    this.send_message(name, { key: value, guiEvent: simpleKeys(event) });\n",
       "    return false;\n",
       "};\n",
       "\n",
       "mpl.figure.prototype.toolbar_button_onclick = function (name) {\n",
       "    if (name === 'download') {\n",
       "        this.handle_save(this, null);\n",
       "    } else {\n",
       "        this.send_message('toolbar_button', { name: name });\n",
       "    }\n",
       "};\n",
       "\n",
       "mpl.figure.prototype.toolbar_button_onmouseover = function (tooltip) {\n",
       "    this.message.textContent = tooltip;\n",
       "};\n",
       "\n",
       "///////////////// REMAINING CONTENT GENERATED BY embed_js.py /////////////////\n",
       "// prettier-ignore\n",
       "var _JSXTOOLS_RESIZE_OBSERVER=function(A){var t,i=new WeakMap,n=new WeakMap,a=new WeakMap,r=new WeakMap,o=new Set;function s(e){if(!(this instanceof s))throw new TypeError(\"Constructor requires 'new' operator\");i.set(this,e)}function h(){throw new TypeError(\"Function is not a constructor\")}function c(e,t,i,n){e=0 in arguments?Number(arguments[0]):0,t=1 in arguments?Number(arguments[1]):0,i=2 in arguments?Number(arguments[2]):0,n=3 in arguments?Number(arguments[3]):0,this.right=(this.x=this.left=e)+(this.width=i),this.bottom=(this.y=this.top=t)+(this.height=n),Object.freeze(this)}function d(){t=requestAnimationFrame(d);var s=new WeakMap,p=new Set;o.forEach((function(t){r.get(t).forEach((function(i){var r=t instanceof window.SVGElement,o=a.get(t),d=r?0:parseFloat(o.paddingTop),f=r?0:parseFloat(o.paddingRight),l=r?0:parseFloat(o.paddingBottom),u=r?0:parseFloat(o.paddingLeft),g=r?0:parseFloat(o.borderTopWidth),m=r?0:parseFloat(o.borderRightWidth),w=r?0:parseFloat(o.borderBottomWidth),b=u+f,F=d+l,v=(r?0:parseFloat(o.borderLeftWidth))+m,W=g+w,y=r?0:t.offsetHeight-W-t.clientHeight,E=r?0:t.offsetWidth-v-t.clientWidth,R=b+v,z=F+W,M=r?t.width:parseFloat(o.width)-R-E,O=r?t.height:parseFloat(o.height)-z-y;if(n.has(t)){var k=n.get(t);if(k[0]===M&&k[1]===O)return}n.set(t,[M,O]);var S=Object.create(h.prototype);S.target=t,S.contentRect=new c(u,d,M,O),s.has(i)||(s.set(i,[]),p.add(i)),s.get(i).push(S)}))})),p.forEach((function(e){i.get(e).call(e,s.get(e),e)}))}return s.prototype.observe=function(i){if(i instanceof window.Element){r.has(i)||(r.set(i,new Set),o.add(i),a.set(i,window.getComputedStyle(i)));var n=r.get(i);n.has(this)||n.add(this),cancelAnimationFrame(t),t=requestAnimationFrame(d)}},s.prototype.unobserve=function(i){if(i instanceof window.Element&&r.has(i)){var n=r.get(i);n.has(this)&&(n.delete(this),n.size||(r.delete(i),o.delete(i))),n.size||r.delete(i),o.size||cancelAnimationFrame(t)}},A.DOMRectReadOnly=c,A.ResizeObserver=s,A.ResizeObserverEntry=h,A}; // eslint-disable-line\n",
       "mpl.toolbar_items = [[\"Home\", \"Reset original view\", \"fa fa-home\", \"home\"], [\"Back\", \"Back to previous view\", \"fa fa-arrow-left\", \"back\"], [\"Forward\", \"Forward to next view\", \"fa fa-arrow-right\", \"forward\"], [\"\", \"\", \"\", \"\"], [\"Pan\", \"Left button pans, Right button zooms\\nx/y fixes axis, CTRL fixes aspect\", \"fa fa-arrows\", \"pan\"], [\"Zoom\", \"Zoom to rectangle\\nx/y fixes axis\", \"fa fa-square-o\", \"zoom\"], [\"\", \"\", \"\", \"\"], [\"Download\", \"Download plot\", \"fa fa-floppy-o\", \"download\"]];\n",
       "\n",
       "mpl.extensions = [\"eps\", \"jpeg\", \"pgf\", \"pdf\", \"png\", \"ps\", \"raw\", \"svg\", \"tif\", \"webp\"];\n",
       "\n",
       "mpl.default_extension = \"png\";/* global mpl */\n",
       "\n",
       "var comm_websocket_adapter = function (comm) {\n",
       "    // Create a \"websocket\"-like object which calls the given IPython comm\n",
       "    // object with the appropriate methods. Currently this is a non binary\n",
       "    // socket, so there is still some room for performance tuning.\n",
       "    var ws = {};\n",
       "\n",
       "    ws.binaryType = comm.kernel.ws.binaryType;\n",
       "    ws.readyState = comm.kernel.ws.readyState;\n",
       "    function updateReadyState(_event) {\n",
       "        if (comm.kernel.ws) {\n",
       "            ws.readyState = comm.kernel.ws.readyState;\n",
       "        } else {\n",
       "            ws.readyState = 3; // Closed state.\n",
       "        }\n",
       "    }\n",
       "    comm.kernel.ws.addEventListener('open', updateReadyState);\n",
       "    comm.kernel.ws.addEventListener('close', updateReadyState);\n",
       "    comm.kernel.ws.addEventListener('error', updateReadyState);\n",
       "\n",
       "    ws.close = function () {\n",
       "        comm.close();\n",
       "    };\n",
       "    ws.send = function (m) {\n",
       "        //console.log('sending', m);\n",
       "        comm.send(m);\n",
       "    };\n",
       "    // Register the callback with on_msg.\n",
       "    comm.on_msg(function (msg) {\n",
       "        //console.log('receiving', msg['content']['data'], msg);\n",
       "        var data = msg['content']['data'];\n",
       "        if (data['blob'] !== undefined) {\n",
       "            data = {\n",
       "                data: new Blob(msg['buffers'], { type: data['blob'] }),\n",
       "            };\n",
       "        }\n",
       "        // Pass the mpl event to the overridden (by mpl) onmessage function.\n",
       "        ws.onmessage(data);\n",
       "    });\n",
       "    return ws;\n",
       "};\n",
       "\n",
       "mpl.mpl_figure_comm = function (comm, msg) {\n",
       "    // This is the function which gets called when the mpl process\n",
       "    // starts-up an IPython Comm through the \"matplotlib\" channel.\n",
       "\n",
       "    var id = msg.content.data.id;\n",
       "    // Get hold of the div created by the display call when the Comm\n",
       "    // socket was opened in Python.\n",
       "    var element = document.getElementById(id);\n",
       "    var ws_proxy = comm_websocket_adapter(comm);\n",
       "\n",
       "    function ondownload(figure, _format) {\n",
       "        window.open(figure.canvas.toDataURL());\n",
       "    }\n",
       "\n",
       "    var fig = new mpl.figure(id, ws_proxy, ondownload, element);\n",
       "\n",
       "    // Call onopen now - mpl needs it, as it is assuming we've passed it a real\n",
       "    // web socket which is closed, not our websocket->open comm proxy.\n",
       "    ws_proxy.onopen();\n",
       "\n",
       "    fig.parent_element = element;\n",
       "    fig.cell_info = mpl.find_output_cell(\"<div id='\" + id + \"'></div>\");\n",
       "    if (!fig.cell_info) {\n",
       "        console.error('Failed to find cell for figure', id, fig);\n",
       "        return;\n",
       "    }\n",
       "    fig.cell_info[0].output_area.element.on(\n",
       "        'cleared',\n",
       "        { fig: fig },\n",
       "        fig._remove_fig_handler\n",
       "    );\n",
       "};\n",
       "\n",
       "mpl.figure.prototype.handle_close = function (fig, msg) {\n",
       "    var width = fig.canvas.width / fig.ratio;\n",
       "    fig.cell_info[0].output_area.element.off(\n",
       "        'cleared',\n",
       "        fig._remove_fig_handler\n",
       "    );\n",
       "    fig.resizeObserverInstance.unobserve(fig.canvas_div);\n",
       "\n",
       "    // Update the output cell to use the data from the current canvas.\n",
       "    fig.push_to_output();\n",
       "    var dataURL = fig.canvas.toDataURL();\n",
       "    // Re-enable the keyboard manager in IPython - without this line, in FF,\n",
       "    // the notebook keyboard shortcuts fail.\n",
       "    IPython.keyboard_manager.enable();\n",
       "    fig.parent_element.innerHTML =\n",
       "        '<img src=\"' + dataURL + '\" width=\"' + width + '\">';\n",
       "    fig.close_ws(fig, msg);\n",
       "};\n",
       "\n",
       "mpl.figure.prototype.close_ws = function (fig, msg) {\n",
       "    fig.send_message('closing', msg);\n",
       "    // fig.ws.close()\n",
       "};\n",
       "\n",
       "mpl.figure.prototype.push_to_output = function (_remove_interactive) {\n",
       "    // Turn the data on the canvas into data in the output cell.\n",
       "    var width = this.canvas.width / this.ratio;\n",
       "    var dataURL = this.canvas.toDataURL();\n",
       "    this.cell_info[1]['text/html'] =\n",
       "        '<img src=\"' + dataURL + '\" width=\"' + width + '\">';\n",
       "};\n",
       "\n",
       "mpl.figure.prototype.updated_canvas_event = function () {\n",
       "    // Tell IPython that the notebook contents must change.\n",
       "    IPython.notebook.set_dirty(true);\n",
       "    this.send_message('ack', {});\n",
       "    var fig = this;\n",
       "    // Wait a second, then push the new image to the DOM so\n",
       "    // that it is saved nicely (might be nice to debounce this).\n",
       "    setTimeout(function () {\n",
       "        fig.push_to_output();\n",
       "    }, 1000);\n",
       "};\n",
       "\n",
       "mpl.figure.prototype._init_toolbar = function () {\n",
       "    var fig = this;\n",
       "\n",
       "    var toolbar = document.createElement('div');\n",
       "    toolbar.classList = 'btn-toolbar';\n",
       "    this.root.appendChild(toolbar);\n",
       "\n",
       "    function on_click_closure(name) {\n",
       "        return function (_event) {\n",
       "            return fig.toolbar_button_onclick(name);\n",
       "        };\n",
       "    }\n",
       "\n",
       "    function on_mouseover_closure(tooltip) {\n",
       "        return function (event) {\n",
       "            if (!event.currentTarget.disabled) {\n",
       "                return fig.toolbar_button_onmouseover(tooltip);\n",
       "            }\n",
       "        };\n",
       "    }\n",
       "\n",
       "    fig.buttons = {};\n",
       "    var buttonGroup = document.createElement('div');\n",
       "    buttonGroup.classList = 'btn-group';\n",
       "    var button;\n",
       "    for (var toolbar_ind in mpl.toolbar_items) {\n",
       "        var name = mpl.toolbar_items[toolbar_ind][0];\n",
       "        var tooltip = mpl.toolbar_items[toolbar_ind][1];\n",
       "        var image = mpl.toolbar_items[toolbar_ind][2];\n",
       "        var method_name = mpl.toolbar_items[toolbar_ind][3];\n",
       "\n",
       "        if (!name) {\n",
       "            /* Instead of a spacer, we start a new button group. */\n",
       "            if (buttonGroup.hasChildNodes()) {\n",
       "                toolbar.appendChild(buttonGroup);\n",
       "            }\n",
       "            buttonGroup = document.createElement('div');\n",
       "            buttonGroup.classList = 'btn-group';\n",
       "            continue;\n",
       "        }\n",
       "\n",
       "        button = fig.buttons[name] = document.createElement('button');\n",
       "        button.classList = 'btn btn-default';\n",
       "        button.href = '#';\n",
       "        button.title = name;\n",
       "        button.innerHTML = '<i class=\"fa ' + image + ' fa-lg\"></i>';\n",
       "        button.addEventListener('click', on_click_closure(method_name));\n",
       "        button.addEventListener('mouseover', on_mouseover_closure(tooltip));\n",
       "        buttonGroup.appendChild(button);\n",
       "    }\n",
       "\n",
       "    if (buttonGroup.hasChildNodes()) {\n",
       "        toolbar.appendChild(buttonGroup);\n",
       "    }\n",
       "\n",
       "    // Add the status bar.\n",
       "    var status_bar = document.createElement('span');\n",
       "    status_bar.classList = 'mpl-message pull-right';\n",
       "    toolbar.appendChild(status_bar);\n",
       "    this.message = status_bar;\n",
       "\n",
       "    // Add the close button to the window.\n",
       "    var buttongrp = document.createElement('div');\n",
       "    buttongrp.classList = 'btn-group inline pull-right';\n",
       "    button = document.createElement('button');\n",
       "    button.classList = 'btn btn-mini btn-primary';\n",
       "    button.href = '#';\n",
       "    button.title = 'Stop Interaction';\n",
       "    button.innerHTML = '<i class=\"fa fa-power-off icon-remove icon-large\"></i>';\n",
       "    button.addEventListener('click', function (_evt) {\n",
       "        fig.handle_close(fig, {});\n",
       "    });\n",
       "    button.addEventListener(\n",
       "        'mouseover',\n",
       "        on_mouseover_closure('Stop Interaction')\n",
       "    );\n",
       "    buttongrp.appendChild(button);\n",
       "    var titlebar = this.root.querySelector('.ui-dialog-titlebar');\n",
       "    titlebar.insertBefore(buttongrp, titlebar.firstChild);\n",
       "};\n",
       "\n",
       "mpl.figure.prototype._remove_fig_handler = function (event) {\n",
       "    var fig = event.data.fig;\n",
       "    if (event.target !== this) {\n",
       "        // Ignore bubbled events from children.\n",
       "        return;\n",
       "    }\n",
       "    fig.close_ws(fig, {});\n",
       "};\n",
       "\n",
       "mpl.figure.prototype._root_extra_style = function (el) {\n",
       "    el.style.boxSizing = 'content-box'; // override notebook setting of border-box.\n",
       "};\n",
       "\n",
       "mpl.figure.prototype._canvas_extra_style = function (el) {\n",
       "    // this is important to make the div 'focusable\n",
       "    el.setAttribute('tabindex', 0);\n",
       "    // reach out to IPython and tell the keyboard manager to turn it's self\n",
       "    // off when our div gets focus\n",
       "\n",
       "    // location in version 3\n",
       "    if (IPython.notebook.keyboard_manager) {\n",
       "        IPython.notebook.keyboard_manager.register_events(el);\n",
       "    } else {\n",
       "        // location in version 2\n",
       "        IPython.keyboard_manager.register_events(el);\n",
       "    }\n",
       "};\n",
       "\n",
       "mpl.figure.prototype._key_event_extra = function (event, _name) {\n",
       "    // Check for shift+enter\n",
       "    if (event.shiftKey && event.which === 13) {\n",
       "        this.canvas_div.blur();\n",
       "        // select the cell after this one\n",
       "        var index = IPython.notebook.find_cell_index(this.cell_info[0]);\n",
       "        IPython.notebook.select(index + 1);\n",
       "    }\n",
       "};\n",
       "\n",
       "mpl.figure.prototype.handle_save = function (fig, _msg) {\n",
       "    fig.ondownload(fig, null);\n",
       "};\n",
       "\n",
       "mpl.find_output_cell = function (html_output) {\n",
       "    // Return the cell and output element which can be found *uniquely* in the notebook.\n",
       "    // Note - this is a bit hacky, but it is done because the \"notebook_saving.Notebook\"\n",
       "    // IPython event is triggered only after the cells have been serialised, which for\n",
       "    // our purposes (turning an active figure into a static one), is too late.\n",
       "    var cells = IPython.notebook.get_cells();\n",
       "    var ncells = cells.length;\n",
       "    for (var i = 0; i < ncells; i++) {\n",
       "        var cell = cells[i];\n",
       "        if (cell.cell_type === 'code') {\n",
       "            for (var j = 0; j < cell.output_area.outputs.length; j++) {\n",
       "                var data = cell.output_area.outputs[j];\n",
       "                if (data.data) {\n",
       "                    // IPython >= 3 moved mimebundle to data attribute of output\n",
       "                    data = data.data;\n",
       "                }\n",
       "                if (data['text/html'] === html_output) {\n",
       "                    return [cell, data, j];\n",
       "                }\n",
       "            }\n",
       "        }\n",
       "    }\n",
       "};\n",
       "\n",
       "// Register the function which deals with the matplotlib target/channel.\n",
       "// The kernel may be null if the page has been refreshed.\n",
       "if (IPython.notebook.kernel !== null) {\n",
       "    IPython.notebook.kernel.comm_manager.register_target(\n",
       "        'matplotlib',\n",
       "        mpl.mpl_figure_comm\n",
       "    );\n",
       "}\n"
      ],
      "text/plain": [
       "<IPython.core.display.Javascript object>"
      ]
     },
     "metadata": {},
     "output_type": "display_data"
    },
    {
     "data": {
      "text/html": [
       "<img src=\"data:image/png;base64,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\" width=\"900\">"
      ],
      "text/plain": [
       "<IPython.core.display.HTML object>"
      ]
     },
     "metadata": {},
     "output_type": "display_data"
    }
   ],
   "source": [
    "colors = ['blue', 'orange', 'green', 'red', 'pink']\n",
    "fig, ax = plt.subplots()\n",
    "fig.set_size_inches(9, 4, forward=True)\n",
    "\n",
    "ax.set_xlim(xlims_lower[nr_of_experiment-1], xlims_upper[nr_of_experiment-1])\n",
    "ax.set_ylim(None, ylims_upper[nr_of_experiment-1])\n",
    "\n",
    "\n",
    "plt.xlabel('ppm', fontsize=15, labelpad=5)\n",
    "plt.ylabel('Relative intensity', fontsize=15, labelpad=10)\n",
    "\n",
    "for i, name in enumerate(names_components_up_to):\n",
    "    ax.plot(ppm, globals()[name], alpha=1.0, color = colors[i], \n",
    "            label=components_dictionary['experiment_'+str(nr_of_experiment)][i])\n",
    "    if i==0:\n",
    "        ax.fill_between(ppm, 0, globals()[name], color=colors[0], alpha=1.0)\n",
    "    else:\n",
    "        predecessor = name[:-1]+str(i)\n",
    "        ax.fill_between(ppm, globals()[predecessor] , globals()[name], color=colors[i], alpha=1.0)\n",
    "ax.plot(ppm, mix_without_noise, color='black', alpha=1.0, label='Mixture', linewidth=0.5)\n",
    "ax.legend(prop={'size': 12}, loc='upper right')\n",
    "plt.tight_layout()\n",
    "plt.savefig(os.getcwd()+'/spectra_visualisation/experiment'+str(nr_of_experiment)+'.jpg', dpi=300)"
   ]
  },
  {
   "cell_type": "code",
   "execution_count": 46,
   "id": "c5f29582",
   "metadata": {},
   "outputs": [
    {
     "data": {
      "text/plain": [
       "0.027127614012000034"
      ]
     },
     "execution_count": 46,
     "metadata": {},
     "output_type": "execute_result"
    }
   ],
   "source": [
    "estimation_vis['proportion_of_noise_in_theoretical']"
   ]
  },
  {
   "cell_type": "code",
   "execution_count": 47,
   "id": "06f95f58",
   "metadata": {},
   "outputs": [
    {
     "data": {
      "text/plain": [
       "-1.3322676295501878e-15"
      ]
     },
     "execution_count": 47,
     "metadata": {},
     "output_type": "execute_result"
    }
   ],
   "source": [
    "1-sum(estimation_vis['proportions'])"
   ]
  },
  {
   "cell_type": "code",
   "execution_count": 48,
   "id": "18220dfc",
   "metadata": {},
   "outputs": [
    {
     "data": {
      "text/plain": [
       "[0.2274974749980003,\n",
       " 0.1505718363740002,\n",
       " 0.11728689957200016,\n",
       " 0.17735592181800025,\n",
       " 0.32728786723800046]"
      ]
     },
     "execution_count": 48,
     "metadata": {},
     "output_type": "execute_result"
    }
   ],
   "source": [
    "estimation_vis['proportions']"
   ]
  },
  {
   "cell_type": "code",
   "execution_count": null,
   "id": "8c3969b2",
   "metadata": {},
   "outputs": [],
   "source": []
  }
 ],
 "metadata": {
  "kernelspec": {
   "display_name": "Python 3 (ipykernel)",
   "language": "python",
   "name": "python3"
  },
  "language_info": {
   "codemirror_mode": {
    "name": "ipython",
    "version": 3
   },
   "file_extension": ".py",
   "mimetype": "text/x-python",
   "name": "python",
   "nbconvert_exporter": "python",
   "pygments_lexer": "ipython3",
   "version": "3.10.6"
  }
 },
 "nbformat": 4,
 "nbformat_minor": 5
}
