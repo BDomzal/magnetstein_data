{
 "cells": [
  {
   "cell_type": "markdown",
   "id": "2278c778",
   "metadata": {},
   "source": [
    "### Settings & imports"
   ]
  },
  {
   "cell_type": "code",
   "execution_count": 1,
   "id": "52249722",
   "metadata": {},
   "outputs": [],
   "source": [
    "%matplotlib notebook"
   ]
  },
  {
   "cell_type": "code",
   "execution_count": 2,
   "id": "6af4ae0a",
   "metadata": {},
   "outputs": [],
   "source": [
    "import sys\n",
    "mypath = \"/home/basia/Documents/spectroscopy/wassersteinms\"\n",
    "sys.path.insert(0, mypath)\n",
    "import masserstein "
   ]
  },
  {
   "cell_type": "code",
   "execution_count": 3,
   "id": "55f0baff",
   "metadata": {},
   "outputs": [],
   "source": [
    "import os\n",
    "\n",
    "from masserstein import Spectrum, NMRSpectrum\n",
    "from masserstein import estimate_proportions\n",
    "\n",
    "from matplotlib import pyplot as plt\n",
    "\n",
    "import numpy as np\n",
    "\n",
    "import pulp\n",
    "\n",
    "import pickle\n",
    "\n",
    "import seaborn as sns\n",
    "from textwrap import wrap\n",
    "\n",
    "from pathlib import Path\n",
    "\n",
    "import pandas as pd\n",
    "\n",
    "import time"
   ]
  },
  {
   "cell_type": "code",
   "execution_count": 4,
   "id": "87bb9eea",
   "metadata": {},
   "outputs": [],
   "source": [
    "nr_of_experiment = 4"
   ]
  },
  {
   "cell_type": "markdown",
   "id": "e7c66ece",
   "metadata": {},
   "source": [
    "### Experiments data"
   ]
  },
  {
   "cell_type": "code",
   "execution_count": 5,
   "id": "8ac155e9",
   "metadata": {},
   "outputs": [],
   "source": [
    "components_dictionary = {'experiment_1': ['Pinene', 'Benzyl benzoate'],\n",
    "                        'experiment_2': ['Pinene', 'Limonene'],\n",
    "                        'experiment_7': ['Benzyl benzoate', 'm Anisaldehyde'],\n",
    "                        'experiment_3': ['Isopropyl myristate', 'Benzyl benzoate', 'Alpha pinene', 'Limonene'],\n",
    "                        'experiment_6': ['Pinene', 'Benzyl benzoate'],\n",
    "                        'experiment_5': ['Lactate', 'Alanine', 'Creatine', 'Creatinine', 'Choline chloride'],\n",
    "                        'experiment_9': ['Lactate', 'Alanine', 'Creatine', 'Creatinine', 'Choline chloride'],\n",
    "                        'experiment_4': ['Lactate', 'Alanine', 'Creatine', 'Creatinine', 'Choline chloride'],\n",
    "                        'experiment_8': ['Benzyl benzoate', 'm Anisaldehyde']}"
   ]
  },
  {
   "cell_type": "code",
   "execution_count": 6,
   "id": "dbafb3dd",
   "metadata": {},
   "outputs": [],
   "source": [
    "protons_dictionary = {'experiment_1': [16, 12],\n",
    "                        'experiment_2': [16, 16],\n",
    "                        'experiment_7': [12, 8],\n",
    "                        'experiment_3': [34, 12, 16, 16],\n",
    "                        'experiment_6': [16, 12],\n",
    "                        'experiment_5': [4, 4, 5, 5, 13],\n",
    "                        'experiment_9': [4, 4, 5, 5, 13],\n",
    "                        'experiment_4': [4, 4, 5, 5, 13],\n",
    "                        'experiment_8': [12, 8]}"
   ]
  },
  {
   "cell_type": "code",
   "execution_count": 7,
   "id": "703c5272",
   "metadata": {},
   "outputs": [],
   "source": [
    "ground_truth_molar_proportions = {'experiment_1': [0.09088457406472417, 0.9091154259352758],\n",
    "                                    'experiment_2': [0.505, 0.495],\n",
    "                                    'experiment_7': [0.8403875207510383, 0.1596124792489616],\n",
    "                                    'experiment_3': [0.7264578344443725, 0.10578603326645526, 0.081968804608116, 0.08578732768105625],\n",
    "                                    'experiment_6': [0.3865, 0.6135],\n",
    "                                    'experiment_5': [0.3022, 0.2240, 0.1253, 0.2028, 0.1457],\n",
    "                                    'experiment_9': [0.3022, 0.2240, 0.1253, 0.2028, 0.1457],\n",
    "                                    'experiment_4': [0.3022, 0.2240, 0.1253, 0.2028, 0.1457],\n",
    "                                    'experiment_8': [0.3702, 0.6298]}"
   ]
  },
  {
   "cell_type": "code",
   "execution_count": 8,
   "id": "2f07ffaf",
   "metadata": {},
   "outputs": [],
   "source": [
    "experiments_folders = {'experiment_1': 'experiment_1_intensity_difference',\n",
    "                        'experiment_6': 'experiment_6_miniperfumes',\n",
    "                        'experiment_5': 'experiment_5_metabolites',\n",
    "                         'experiment_7': 'experiment_7_overlapping_and_intensity_difference',\n",
    "                         'experiment_9': 'experiment_9_and_4_shim',\n",
    "                       'experiment_4': 'experiment_9_and_4_shim',\n",
    "                        'experiment_8': 'experiment_8_different_solvents',\n",
    "                        'experiment_3': 'experiment_3_perfumes_and_absent_components',\n",
    "                         'experiment_2': 'experiment_2_overlapping'}"
   ]
  },
  {
   "cell_type": "code",
   "execution_count": 9,
   "id": "5c15336b",
   "metadata": {},
   "outputs": [],
   "source": [
    "best_kappa_mix = [0.09, 0.05, 0.37, 0.11, 0.03, 0.06, 0.23, 0.2, 0.05]"
   ]
  },
  {
   "cell_type": "code",
   "execution_count": 10,
   "id": "53eb8b54",
   "metadata": {},
   "outputs": [],
   "source": [
    "best_kappa_model = [0.08, 0.01, 0.24, 0.02, 0.09, 0.2, 0.02, 0.29, 0.02]"
   ]
  },
  {
   "cell_type": "markdown",
   "id": "e84eddc3",
   "metadata": {},
   "source": [
    "### Loading the data"
   ]
  },
  {
   "cell_type": "code",
   "execution_count": 11,
   "id": "a16bd1b8",
   "metadata": {},
   "outputs": [],
   "source": [
    "if (nr_of_experiment != 9 and nr_of_experiment != 4):\n",
    "    filename = experiments_folders['experiment_' + str(nr_of_experiment)] + '/preprocessed_mix.csv'\n",
    "    mix = np.loadtxt(filename, delimiter=',')\n",
    "else:\n",
    "    filename = experiments_folders['experiment_' + str(nr_of_experiment)] + '/preprocessed_exp'+str(nr_of_experiment)+'_mix.csv'\n",
    "    mix = np.loadtxt(filename, delimiter=',')"
   ]
  },
  {
   "cell_type": "code",
   "execution_count": 12,
   "id": "67c8aeb3",
   "metadata": {},
   "outputs": [],
   "source": [
    "how_many_components = len(components_dictionary['experiment_'+str(nr_of_experiment)])\n",
    "names = ['comp' + str(i) for i in range(how_many_components)]"
   ]
  },
  {
   "cell_type": "code",
   "execution_count": 13,
   "id": "4d402de1",
   "metadata": {},
   "outputs": [],
   "source": [
    "spectra = []\n",
    "for i in range(how_many_components):\n",
    "    if (nr_of_experiment != 9 and nr_of_experiment != 4):\n",
    "        filename = experiments_folders['experiment_' + str(nr_of_experiment)] + \\\n",
    "                    '/preprocessed_comp' + str(i) + '.csv'\n",
    "        spectra.append(np.loadtxt(filename, delimiter=','))\n",
    "    else:\n",
    "        filename = experiments_folders['experiment_' + str(nr_of_experiment)] + \\\n",
    "                    '/preprocessed_exp'+str(nr_of_experiment)+ '_comp'+ str(i) + '.csv'\n",
    "        spectra.append(np.loadtxt(filename, delimiter=','))"
   ]
  },
  {
   "cell_type": "code",
   "execution_count": 14,
   "id": "f68d15b6",
   "metadata": {},
   "outputs": [],
   "source": [
    "spectra2 = []\n",
    "names = []\n",
    "for i in range(len(spectra)):\n",
    "    spectra2.append(NMRSpectrum(confs=list(zip(spectra[i][:,0], spectra[i][:,1])), \n",
    "                                protons=protons_dictionary['experiment_'+str(nr_of_experiment)][i]))\n",
    "    names.append('comp'+str(i))\n",
    "\n",
    "spectra = spectra2\n",
    "del(spectra2)\n",
    "mix = NMRSpectrum(confs=list(zip(mix[:,0], mix[:,1])))"
   ]
  },
  {
   "cell_type": "code",
   "execution_count": 15,
   "id": "066513a3",
   "metadata": {},
   "outputs": [],
   "source": [
    "for i, name in enumerate(names):\n",
    "    globals()[name] = spectra[i]"
   ]
  },
  {
   "cell_type": "code",
   "execution_count": 16,
   "id": "56905c27",
   "metadata": {},
   "outputs": [],
   "source": [
    "# mix.plot(profile=True)\n",
    "# for sp in spectra:\n",
    "#     sp.plot(profile=True)"
   ]
  },
  {
   "cell_type": "markdown",
   "id": "ab9cc65b",
   "metadata": {},
   "source": [
    "### Estimation with default kappas"
   ]
  },
  {
   "cell_type": "code",
   "execution_count": 17,
   "id": "fa502e5c",
   "metadata": {},
   "outputs": [],
   "source": [
    "default_MTD = 0.25\n",
    "default_MTD_th = 0.22"
   ]
  },
  {
   "cell_type": "code",
   "execution_count": 18,
   "id": "b555024a",
   "metadata": {},
   "outputs": [
    {
     "name": "stdout",
     "output_type": "stream",
     "text": [
      "Set parameter Username\n",
      "Academic license - for non-commercial use only - expires 2023-11-10\n"
     ]
    },
    {
     "name": "stderr",
     "output_type": "stream",
     "text": [
      "Initial filtering of formulas: 100%|█████████████| 5/5 [00:00<00:00, 301.21it/s]\n"
     ]
    },
    {
     "name": "stdout",
     "output_type": "stream",
     "text": [
      "Removed theoretical spectra due to no matching experimental peaks: []\n",
      "Envelope bounds: [(0.827366, 4.1272, 0), (0.827366, 4.1272, 1), (0.827366, 4.1272, 2), (0.827366, 4.1272, 3), (0.827366, 4.1272, 4)]\n"
     ]
    },
    {
     "name": "stderr",
     "output_type": "stream",
     "text": [
      "Computing chunks: 100%|███████████████████████| 5/5 [00:00<00:00, 158875.15it/s]\n"
     ]
    },
    {
     "name": "stdout",
     "output_type": "stream",
     "text": [
      "Number of chunks: 1\n",
      "ChunkIDs: [0, 0, 0, 0, 0]\n",
      "Chunk bounds: [(0.577366, 4.3772)]\n"
     ]
    },
    {
     "name": "stderr",
     "output_type": "stream",
     "text": [
      "Splitting the experimental spectrum into chunks: 27129it [00:00, 3621722.36it/s]\n"
     ]
    },
    {
     "name": "stdout",
     "output_type": "stream",
     "text": [
      "Ion currents in chunks: [0.9999999999999996]\n"
     ]
    },
    {
     "name": "stderr",
     "output_type": "stream",
     "text": [
      "\r",
      "Deconvolving chunks:   0%|                                | 0/1 [00:00<?, ?it/s]"
     ]
    },
    {
     "name": "stdout",
     "output_type": "stream",
     "text": [
      "Deconvolving chunk 0\n"
     ]
    },
    {
     "name": "stderr",
     "output_type": "stream",
     "text": [
      "/home/basia/.local/lib/python3.10/site-packages/pulp/pulp.py:1352: UserWarning: Spaces are not permitted in the name. Converted to '_'\n",
      "  warnings.warn(\"Spaces are not permitted in the name. Converted to '_'\")\n",
      "Deconvolving chunks: 100%|████████████████████████| 1/1 [00:11<00:00, 11.77s/it]"
     ]
    },
    {
     "name": "stdout",
     "output_type": "stream",
     "text": [
      "Chunk %i deconvolution status: Optimal\n",
      "Signal proportion in experimental spectrum: 0.9999999999989999\n",
      "Noise proportion in experimental spectrum: 0.0\n",
      "Total explanation: 0.9999999999989999\n",
      "Noise proportion in combination of theoretical spectra: 0.011912657052\n"
     ]
    },
    {
     "name": "stderr",
     "output_type": "stream",
     "text": [
      "\n"
     ]
    }
   ],
   "source": [
    "start_vis = time.time()\n",
    "estimation_vis = estimate_proportions(mix, spectra,\n",
    "                                        MTD=default_MTD, \n",
    "                                        MTD_th=default_MTD_th,\n",
    "                                        verbose=True, solver=pulp.GUROBI(msg=False), \n",
    "                                        what_to_compare='area')\n",
    "stop_vis = time.time()"
   ]
  },
  {
   "cell_type": "code",
   "execution_count": 19,
   "id": "aaa68541",
   "metadata": {},
   "outputs": [
    {
     "data": {
      "text/plain": [
       "[0.2265471089679999,\n",
       " 0.15298961754799995,\n",
       " 0.11999727273699995,\n",
       " 0.17538533193999992,\n",
       " 0.32508066880599984]"
      ]
     },
     "execution_count": 19,
     "metadata": {},
     "output_type": "execute_result"
    }
   ],
   "source": [
    "estimation_vis['proportions']"
   ]
  },
  {
   "cell_type": "code",
   "execution_count": 20,
   "id": "ffacb9e2",
   "metadata": {},
   "outputs": [
    {
     "data": {
      "text/plain": [
       "0.011912657051999995"
      ]
     },
     "execution_count": 20,
     "metadata": {},
     "output_type": "execute_result"
    }
   ],
   "source": [
    "estimation_vis['proportion_of_noise_in_theoretical']"
   ]
  },
  {
   "cell_type": "code",
   "execution_count": 21,
   "id": "405bd6cb",
   "metadata": {},
   "outputs": [
    {
     "name": "stdout",
     "output_type": "stream",
     "text": [
      "Estimation took 11.812743425369263 seconds.\n"
     ]
    }
   ],
   "source": [
    "print('Estimation took '+ str(stop_vis-start_vis) + ' seconds.')"
   ]
  },
  {
   "cell_type": "code",
   "execution_count": 22,
   "id": "3114bfae",
   "metadata": {},
   "outputs": [
    {
     "name": "stderr",
     "output_type": "stream",
     "text": [
      "Initial filtering of formulas: 100%|█████████████| 5/5 [00:00<00:00, 309.85it/s]\n"
     ]
    },
    {
     "name": "stdout",
     "output_type": "stream",
     "text": [
      "Removed theoretical spectra due to no matching experimental peaks: []\n",
      "Envelope bounds: [(0.827366, 4.1272, 0), (0.827366, 4.1272, 1), (0.827366, 4.1272, 2), (0.827366, 4.1272, 3), (0.827366, 4.1272, 4)]\n"
     ]
    },
    {
     "name": "stderr",
     "output_type": "stream",
     "text": [
      "Computing chunks: 100%|███████████████████████| 5/5 [00:00<00:00, 225500.22it/s]\n"
     ]
    },
    {
     "name": "stdout",
     "output_type": "stream",
     "text": [
      "Number of chunks: 1\n",
      "ChunkIDs: [0, 0, 0, 0, 0]\n",
      "Chunk bounds: [(0.577366, 4.3772)]\n"
     ]
    },
    {
     "name": "stderr",
     "output_type": "stream",
     "text": [
      "Splitting the experimental spectrum into chunks: 27129it [00:00, 3287319.39it/s]\n"
     ]
    },
    {
     "name": "stdout",
     "output_type": "stream",
     "text": [
      "Ion currents in chunks: [0.9999999999999996]\n"
     ]
    },
    {
     "name": "stderr",
     "output_type": "stream",
     "text": [
      "\r",
      "Deconvolving chunks:   0%|                                | 0/1 [00:00<?, ?it/s]"
     ]
    },
    {
     "name": "stdout",
     "output_type": "stream",
     "text": [
      "Deconvolving chunk 0\n"
     ]
    },
    {
     "name": "stderr",
     "output_type": "stream",
     "text": [
      "Deconvolving chunks: 100%|████████████████████████| 1/1 [00:11<00:00, 11.83s/it]"
     ]
    },
    {
     "name": "stdout",
     "output_type": "stream",
     "text": [
      "Chunk %i deconvolution status: Optimal\n",
      "Signal proportion in experimental spectrum: 0.9999999999989999\n",
      "Noise proportion in experimental spectrum: 0.0\n",
      "Total explanation: 0.9999999999989999\n",
      "Noise proportion in combination of theoretical spectra: 0.011912657052\n"
     ]
    },
    {
     "name": "stderr",
     "output_type": "stream",
     "text": [
      "\n"
     ]
    }
   ],
   "source": [
    "start_con = time.time()\n",
    "estimation_molar = estimate_proportions(mix, spectra,\n",
    "                                        MTD=default_MTD, \n",
    "                                        MTD_th=default_MTD_th,\n",
    "                                        verbose=True, solver=pulp.GUROBI(msg=False), \n",
    "                                        what_to_compare='concentration')\n",
    "stop_con = time.time()"
   ]
  },
  {
   "cell_type": "code",
   "execution_count": 23,
   "id": "6395dac8",
   "metadata": {},
   "outputs": [
    {
     "data": {
      "text/plain": [
       "{'proportions': [0.31646508240060195,\n",
       "  0.2137121596665495,\n",
       "  0.13409995643749736,\n",
       "  0.19599749924714838,\n",
       "  0.1397253022482028],\n",
       " 'Wasserstein distance': 0.007426284959879875}"
      ]
     },
     "execution_count": 23,
     "metadata": {},
     "output_type": "execute_result"
    }
   ],
   "source": [
    "estimation_molar"
   ]
  },
  {
   "cell_type": "code",
   "execution_count": 24,
   "id": "463a640c",
   "metadata": {},
   "outputs": [
    {
     "name": "stdout",
     "output_type": "stream",
     "text": [
      "Estimation took 11.868464469909668 seconds.\n"
     ]
    }
   ],
   "source": [
    "print('Estimation took '+ str(stop_con-start_con) + ' seconds.')"
   ]
  },
  {
   "cell_type": "code",
   "execution_count": 25,
   "id": "2e48d69e",
   "metadata": {},
   "outputs": [],
   "source": [
    "# #MTD = 0.25, MTD_th = 0.22\n",
    "\n",
    "# #1: 'Pinene', 'Benzyl benzoate'\n",
    "# 0.0937, 0.9063\n",
    "\n",
    "# #2: 'Pinene', 'Limonene'\n",
    "# 0.5240, 0.4760\n",
    "\n",
    "# #3: 'Isopropyl myristate', 'Benzyl benzoate', 'Alpha pinene', 'Limonene'\n",
    "# 0.7511, 0.1059, 0.0809, 0.0621\n",
    "\n",
    "# #4: 'Lactate', 'Alanine', 'Creatine', 'Creatinine', 'Choline chloride'\n",
    "# 0.3165, 0.2137, 0.1341, 0.1960, 0.1397\n",
    "\n",
    "# #5: 'Lactate', 'Alanine', 'Creatine', 'Creatinine', 'Choline chloride'\n",
    "# 0.3180, 0.2113, 0.1293, 0.2018, 0.1397\n",
    "\n",
    "# #6: 'Pinene', 'Benzyl benzoate'\n",
    "# 0.3931, 0.6069\n",
    "\n",
    "# #7: 'Benzyl benzoate', 'm Anisaldehyde'\n",
    "# 0.8428, 0.1572\n",
    "\n",
    "# #8: 'Benzyl benzoate', 'm Anisaldehyde'\n",
    "# 0.3762, 0.6238\n",
    "\n",
    "# #9: Lactate', 'Alanine', 'Creatine', 'Creatinine', 'Choline chloride'\n",
    "# 0.3180, 0.2125, 0.1333, 0.1967, 0.1395"
   ]
  },
  {
   "cell_type": "markdown",
   "id": "e81953cc",
   "metadata": {},
   "source": [
    "#### Saving results of estimation with default parameters"
   ]
  },
  {
   "cell_type": "code",
   "execution_count": 26,
   "id": "b013e53e",
   "metadata": {},
   "outputs": [
    {
     "data": {
      "text/html": [
       "<div>\n",
       "<style scoped>\n",
       "    .dataframe tbody tr th:only-of-type {\n",
       "        vertical-align: middle;\n",
       "    }\n",
       "\n",
       "    .dataframe tbody tr th {\n",
       "        vertical-align: top;\n",
       "    }\n",
       "\n",
       "    .dataframe thead th {\n",
       "        text-align: right;\n",
       "    }\n",
       "</style>\n",
       "<table border=\"1\" class=\"dataframe\">\n",
       "  <thead>\n",
       "    <tr style=\"text-align: right;\">\n",
       "      <th></th>\n",
       "      <th>Lactate</th>\n",
       "      <th>Alanine</th>\n",
       "      <th>Creatine</th>\n",
       "      <th>Creatinine</th>\n",
       "      <th>Choline chloride</th>\n",
       "    </tr>\n",
       "  </thead>\n",
       "  <tbody>\n",
       "    <tr>\n",
       "      <th>0</th>\n",
       "      <td>0.226547</td>\n",
       "      <td>0.15299</td>\n",
       "      <td>0.119997</td>\n",
       "      <td>0.175385</td>\n",
       "      <td>0.325081</td>\n",
       "    </tr>\n",
       "  </tbody>\n",
       "</table>\n",
       "</div>"
      ],
      "text/plain": [
       "    Lactate  Alanine  Creatine  Creatinine  Choline chloride\n",
       "0  0.226547  0.15299  0.119997    0.175385          0.325081"
      ]
     },
     "execution_count": 26,
     "metadata": {},
     "output_type": "execute_result"
    }
   ],
   "source": [
    "res_vis = pd.DataFrame(np.array(estimation_vis['proportions']).reshape(1,-1), \n",
    "             columns = components_dictionary['experiment_'+str(nr_of_experiment)])\n",
    "res_vis"
   ]
  },
  {
   "cell_type": "code",
   "execution_count": 27,
   "id": "6335e47a",
   "metadata": {},
   "outputs": [
    {
     "data": {
      "text/html": [
       "<div>\n",
       "<style scoped>\n",
       "    .dataframe tbody tr th:only-of-type {\n",
       "        vertical-align: middle;\n",
       "    }\n",
       "\n",
       "    .dataframe tbody tr th {\n",
       "        vertical-align: top;\n",
       "    }\n",
       "\n",
       "    .dataframe thead th {\n",
       "        text-align: right;\n",
       "    }\n",
       "</style>\n",
       "<table border=\"1\" class=\"dataframe\">\n",
       "  <thead>\n",
       "    <tr style=\"text-align: right;\">\n",
       "      <th></th>\n",
       "      <th>Lactate</th>\n",
       "      <th>Alanine</th>\n",
       "      <th>Creatine</th>\n",
       "      <th>Creatinine</th>\n",
       "      <th>Choline chloride</th>\n",
       "    </tr>\n",
       "  </thead>\n",
       "  <tbody>\n",
       "    <tr>\n",
       "      <th>0</th>\n",
       "      <td>0.316465</td>\n",
       "      <td>0.213712</td>\n",
       "      <td>0.1341</td>\n",
       "      <td>0.195997</td>\n",
       "      <td>0.139725</td>\n",
       "    </tr>\n",
       "  </tbody>\n",
       "</table>\n",
       "</div>"
      ],
      "text/plain": [
       "    Lactate   Alanine  Creatine  Creatinine  Choline chloride\n",
       "0  0.316465  0.213712    0.1341    0.195997          0.139725"
      ]
     },
     "execution_count": 27,
     "metadata": {},
     "output_type": "execute_result"
    }
   ],
   "source": [
    "res_con = pd.DataFrame(np.array(estimation_molar['proportions']).reshape(1,-1), \n",
    "             columns = components_dictionary['experiment_'+str(nr_of_experiment)])\n",
    "res_con"
   ]
  },
  {
   "cell_type": "code",
   "execution_count": 28,
   "id": "86e782c9",
   "metadata": {},
   "outputs": [],
   "source": [
    "if (nr_of_experiment != 9 and nr_of_experiment != 4):\n",
    "    res_vis.to_csv(experiments_folders['experiment_' + str(nr_of_experiment)]+\n",
    "                   '/results_area_default_parameters.csv')\n",
    "else:\n",
    "    res_vis.to_csv(experiments_folders['experiment_' + str(nr_of_experiment)]+\n",
    "                   '/results_area__default_parameters_exp'+str(nr_of_experiment)+'.csv')"
   ]
  },
  {
   "cell_type": "code",
   "execution_count": 29,
   "id": "61b26555",
   "metadata": {},
   "outputs": [],
   "source": [
    "if (nr_of_experiment != 9 and nr_of_experiment != 4):\n",
    "    res_con.to_csv(experiments_folders['experiment_' + str(nr_of_experiment)]+\n",
    "               '/results_concentration_default_parameters.csv')\n",
    "else:\n",
    "    res_con.to_csv(experiments_folders['experiment_' + str(nr_of_experiment)]+\n",
    "               '/results_concentration_default_parameters_exp'+str(nr_of_experiment)+'.csv')"
   ]
  },
  {
   "cell_type": "markdown",
   "id": "31df385c",
   "metadata": {},
   "source": [
    "### Estimation"
   ]
  },
  {
   "cell_type": "code",
   "execution_count": 30,
   "id": "d44ebf2f",
   "metadata": {},
   "outputs": [
    {
     "name": "stderr",
     "output_type": "stream",
     "text": [
      "Initial filtering of formulas: 100%|█████████████| 5/5 [00:00<00:00, 293.41it/s]\n"
     ]
    },
    {
     "name": "stdout",
     "output_type": "stream",
     "text": [
      "Removed theoretical spectra due to no matching experimental peaks: []\n",
      "Envelope bounds: [(0.827366, 4.1272, 0), (0.827366, 4.1272, 1), (0.827366, 4.1272, 2), (0.827366, 4.1272, 3), (0.827366, 4.1272, 4)]\n"
     ]
    },
    {
     "name": "stderr",
     "output_type": "stream",
     "text": [
      "Computing chunks: 100%|███████████████████████| 5/5 [00:00<00:00, 201649.23it/s]\n"
     ]
    },
    {
     "name": "stdout",
     "output_type": "stream",
     "text": [
      "Number of chunks: 1\n",
      "ChunkIDs: [0, 0, 0, 0, 0]\n",
      "Chunk bounds: [(0.7173660000000001, 4.2372000000000005)]\n"
     ]
    },
    {
     "name": "stderr",
     "output_type": "stream",
     "text": [
      "Splitting the experimental spectrum into chunks: 27129it [00:00, 3523371.21it/s]\n"
     ]
    },
    {
     "name": "stdout",
     "output_type": "stream",
     "text": [
      "Ion currents in chunks: [0.9999999999999996]\n"
     ]
    },
    {
     "name": "stderr",
     "output_type": "stream",
     "text": [
      "\r",
      "Deconvolving chunks:   0%|                                | 0/1 [00:00<?, ?it/s]"
     ]
    },
    {
     "name": "stdout",
     "output_type": "stream",
     "text": [
      "Deconvolving chunk 0\n"
     ]
    },
    {
     "name": "stderr",
     "output_type": "stream",
     "text": [
      "/home/basia/.local/lib/python3.10/site-packages/pulp/pulp.py:1352: UserWarning: Spaces are not permitted in the name. Converted to '_'\n",
      "  warnings.warn(\"Spaces are not permitted in the name. Converted to '_'\")\n",
      "Deconvolving chunks: 100%|████████████████████████| 1/1 [00:12<00:00, 12.49s/it]"
     ]
    },
    {
     "name": "stdout",
     "output_type": "stream",
     "text": [
      "Chunk %i deconvolution status: Optimal\n",
      "Signal proportion in experimental spectrum: 1.0\n",
      "Noise proportion in experimental spectrum: 0.0\n",
      "Total explanation: 1.0\n",
      "Noise proportion in combination of theoretical spectra: 0.024876849655\n"
     ]
    },
    {
     "name": "stderr",
     "output_type": "stream",
     "text": [
      "\n"
     ]
    }
   ],
   "source": [
    "start_vis_opt = time.time()\n",
    "estimation_vis_opt = estimate_proportions(mix, spectra,\n",
    "                                        MTD=best_kappa_mix[nr_of_experiment-1], \n",
    "                                        MTD_th=best_kappa_model[nr_of_experiment-1],\n",
    "                                        verbose=True, solver=pulp.GUROBI(msg=False), \n",
    "                                        what_to_compare='area')\n",
    "stop_vis_opt = time.time()"
   ]
  },
  {
   "cell_type": "code",
   "execution_count": 31,
   "id": "7c07657a",
   "metadata": {},
   "outputs": [
    {
     "name": "stdout",
     "output_type": "stream",
     "text": [
      "Estimation took 12.530721187591553 seconds.\n"
     ]
    }
   ],
   "source": [
    "print('Estimation took '+ str(stop_vis_opt-start_vis_opt) + ' seconds.')"
   ]
  },
  {
   "cell_type": "code",
   "execution_count": 32,
   "id": "c58f7242",
   "metadata": {},
   "outputs": [
    {
     "data": {
      "text/plain": [
       "[0.2270910174379999,\n",
       " 0.15151028702799996,\n",
       " 0.11802824755399995,\n",
       " 0.17649071481599993,\n",
       " 0.3268797331639998]"
      ]
     },
     "execution_count": 32,
     "metadata": {},
     "output_type": "execute_result"
    }
   ],
   "source": [
    "estimation_vis_opt['proportions']"
   ]
  },
  {
   "cell_type": "code",
   "execution_count": 33,
   "id": "f463c3dd",
   "metadata": {},
   "outputs": [
    {
     "data": {
      "text/plain": [
       "0.02487684965499999"
      ]
     },
     "execution_count": 33,
     "metadata": {},
     "output_type": "execute_result"
    }
   ],
   "source": [
    "estimation_vis_opt['proportion_of_noise_in_theoretical']"
   ]
  },
  {
   "cell_type": "code",
   "execution_count": 34,
   "id": "ca73a54f",
   "metadata": {},
   "outputs": [
    {
     "name": "stderr",
     "output_type": "stream",
     "text": [
      "Initial filtering of formulas: 100%|█████████████| 5/5 [00:00<00:00, 301.73it/s]\n"
     ]
    },
    {
     "name": "stdout",
     "output_type": "stream",
     "text": [
      "Removed theoretical spectra due to no matching experimental peaks: []\n",
      "Envelope bounds: [(0.827366, 4.1272, 0), (0.827366, 4.1272, 1), (0.827366, 4.1272, 2), (0.827366, 4.1272, 3), (0.827366, 4.1272, 4)]\n"
     ]
    },
    {
     "name": "stderr",
     "output_type": "stream",
     "text": [
      "Computing chunks: 100%|███████████████████████| 5/5 [00:00<00:00, 218453.33it/s]\n"
     ]
    },
    {
     "name": "stdout",
     "output_type": "stream",
     "text": [
      "Number of chunks: 1\n",
      "ChunkIDs: [0, 0, 0, 0, 0]\n",
      "Chunk bounds: [(0.7173660000000001, 4.2372000000000005)]\n"
     ]
    },
    {
     "name": "stderr",
     "output_type": "stream",
     "text": [
      "Splitting the experimental spectrum into chunks: 27129it [00:00, 3015350.68it/s]\n"
     ]
    },
    {
     "name": "stdout",
     "output_type": "stream",
     "text": [
      "Ion currents in chunks: [0.9999999999999996]\n"
     ]
    },
    {
     "name": "stderr",
     "output_type": "stream",
     "text": [
      "\r",
      "Deconvolving chunks:   0%|                                | 0/1 [00:00<?, ?it/s]"
     ]
    },
    {
     "name": "stdout",
     "output_type": "stream",
     "text": [
      "Deconvolving chunk 0\n"
     ]
    },
    {
     "name": "stderr",
     "output_type": "stream",
     "text": [
      "Deconvolving chunks: 100%|████████████████████████| 1/1 [00:12<00:00, 12.61s/it]"
     ]
    },
    {
     "name": "stdout",
     "output_type": "stream",
     "text": [
      "Chunk %i deconvolution status: Optimal\n",
      "Signal proportion in experimental spectrum: 1.0\n",
      "Noise proportion in experimental spectrum: 0.0\n",
      "Total explanation: 1.0\n",
      "Noise proportion in combination of theoretical spectra: 0.024876849655\n"
     ]
    },
    {
     "name": "stderr",
     "output_type": "stream",
     "text": [
      "\n"
     ]
    }
   ],
   "source": [
    "start_con_opt = time.time()\n",
    "estimation_molar_opt = estimate_proportions(mix, spectra,\n",
    "                                        MTD=best_kappa_mix[nr_of_experiment-1], \n",
    "                                        MTD_th=best_kappa_model[nr_of_experiment-1],\n",
    "                                        verbose=True, solver=pulp.GUROBI(msg=False), \n",
    "                                        what_to_compare='concentration')\n",
    "stop_con_opt = time.time()"
   ]
  },
  {
   "cell_type": "code",
   "execution_count": 35,
   "id": "655ff1b5",
   "metadata": {},
   "outputs": [
    {
     "name": "stdout",
     "output_type": "stream",
     "text": [
      "Estimation took 12.65693187713623 seconds.\n"
     ]
    }
   ],
   "source": [
    "print('Estimation took '+ str(stop_con_opt-start_con_opt) + ' seconds.')"
   ]
  },
  {
   "cell_type": "code",
   "execution_count": 36,
   "id": "354693e3",
   "metadata": {},
   "outputs": [
    {
     "data": {
      "text/plain": [
       "[0.31770096865088626,\n",
       " 0.21196331538085228,\n",
       " 0.13209747879635073,\n",
       " 0.197528802988393,\n",
       " 0.14070943418351764]"
      ]
     },
     "execution_count": 36,
     "metadata": {},
     "output_type": "execute_result"
    }
   ],
   "source": [
    "estimation_molar_opt['proportions']"
   ]
  },
  {
   "cell_type": "markdown",
   "id": "304c1464",
   "metadata": {},
   "source": [
    "### Saving estimation results"
   ]
  },
  {
   "cell_type": "code",
   "execution_count": 37,
   "id": "54ac2c19",
   "metadata": {},
   "outputs": [
    {
     "data": {
      "text/html": [
       "<div>\n",
       "<style scoped>\n",
       "    .dataframe tbody tr th:only-of-type {\n",
       "        vertical-align: middle;\n",
       "    }\n",
       "\n",
       "    .dataframe tbody tr th {\n",
       "        vertical-align: top;\n",
       "    }\n",
       "\n",
       "    .dataframe thead th {\n",
       "        text-align: right;\n",
       "    }\n",
       "</style>\n",
       "<table border=\"1\" class=\"dataframe\">\n",
       "  <thead>\n",
       "    <tr style=\"text-align: right;\">\n",
       "      <th></th>\n",
       "      <th>Lactate</th>\n",
       "      <th>Alanine</th>\n",
       "      <th>Creatine</th>\n",
       "      <th>Creatinine</th>\n",
       "      <th>Choline chloride</th>\n",
       "    </tr>\n",
       "  </thead>\n",
       "  <tbody>\n",
       "    <tr>\n",
       "      <th>0</th>\n",
       "      <td>0.227091</td>\n",
       "      <td>0.15151</td>\n",
       "      <td>0.118028</td>\n",
       "      <td>0.176491</td>\n",
       "      <td>0.32688</td>\n",
       "    </tr>\n",
       "  </tbody>\n",
       "</table>\n",
       "</div>"
      ],
      "text/plain": [
       "    Lactate  Alanine  Creatine  Creatinine  Choline chloride\n",
       "0  0.227091  0.15151  0.118028    0.176491           0.32688"
      ]
     },
     "execution_count": 37,
     "metadata": {},
     "output_type": "execute_result"
    }
   ],
   "source": [
    "res_vis_opt = pd.DataFrame(np.array(estimation_vis_opt['proportions']).reshape(1,-1), \n",
    "             columns = components_dictionary['experiment_'+str(nr_of_experiment)])\n",
    "res_vis_opt"
   ]
  },
  {
   "cell_type": "code",
   "execution_count": 38,
   "id": "f7dbc5be",
   "metadata": {},
   "outputs": [
    {
     "data": {
      "text/html": [
       "<div>\n",
       "<style scoped>\n",
       "    .dataframe tbody tr th:only-of-type {\n",
       "        vertical-align: middle;\n",
       "    }\n",
       "\n",
       "    .dataframe tbody tr th {\n",
       "        vertical-align: top;\n",
       "    }\n",
       "\n",
       "    .dataframe thead th {\n",
       "        text-align: right;\n",
       "    }\n",
       "</style>\n",
       "<table border=\"1\" class=\"dataframe\">\n",
       "  <thead>\n",
       "    <tr style=\"text-align: right;\">\n",
       "      <th></th>\n",
       "      <th>Lactate</th>\n",
       "      <th>Alanine</th>\n",
       "      <th>Creatine</th>\n",
       "      <th>Creatinine</th>\n",
       "      <th>Choline chloride</th>\n",
       "    </tr>\n",
       "  </thead>\n",
       "  <tbody>\n",
       "    <tr>\n",
       "      <th>0</th>\n",
       "      <td>0.317701</td>\n",
       "      <td>0.211963</td>\n",
       "      <td>0.132097</td>\n",
       "      <td>0.197529</td>\n",
       "      <td>0.140709</td>\n",
       "    </tr>\n",
       "  </tbody>\n",
       "</table>\n",
       "</div>"
      ],
      "text/plain": [
       "    Lactate   Alanine  Creatine  Creatinine  Choline chloride\n",
       "0  0.317701  0.211963  0.132097    0.197529          0.140709"
      ]
     },
     "execution_count": 38,
     "metadata": {},
     "output_type": "execute_result"
    }
   ],
   "source": [
    "res_con_opt = pd.DataFrame(np.array(estimation_molar_opt['proportions']).reshape(1,-1), \n",
    "             columns = components_dictionary['experiment_'+str(nr_of_experiment)])\n",
    "res_con_opt"
   ]
  },
  {
   "cell_type": "code",
   "execution_count": 39,
   "id": "a2cfc1d2",
   "metadata": {},
   "outputs": [],
   "source": [
    "if (nr_of_experiment != 9 and nr_of_experiment != 4):\n",
    "    res_vis_opt.to_csv(experiments_folders['experiment_' + str(nr_of_experiment)]+\n",
    "                   '/results_area.csv')\n",
    "else:\n",
    "    res_vis_opt.to_csv(experiments_folders['experiment_' + str(nr_of_experiment)]+\n",
    "                   '/results_area_exp'+str(nr_of_experiment)+'.csv')"
   ]
  },
  {
   "cell_type": "code",
   "execution_count": 40,
   "id": "15c18f10",
   "metadata": {},
   "outputs": [],
   "source": [
    "if (nr_of_experiment != 9 and nr_of_experiment != 4):\n",
    "    res_con_opt.to_csv(experiments_folders['experiment_' + str(nr_of_experiment)]+\n",
    "               '/results_concentration.csv')\n",
    "else:\n",
    "    res_con_opt.to_csv(experiments_folders['experiment_' + str(nr_of_experiment)]+\n",
    "               '/results_concentration_exp'+str(nr_of_experiment)+'.csv')"
   ]
  },
  {
   "cell_type": "markdown",
   "id": "cee5a55b",
   "metadata": {},
   "source": [
    "### Mixture vs linear combination of components (noise removed)"
   ]
  },
  {
   "cell_type": "code",
   "execution_count": 41,
   "id": "b35a6293",
   "metadata": {},
   "outputs": [],
   "source": [
    "ignore_negative = False"
   ]
  },
  {
   "cell_type": "code",
   "execution_count": 42,
   "id": "5c4477be",
   "metadata": {},
   "outputs": [],
   "source": [
    "def make_nonnegative(ints):\n",
    "    res_ints = ints\n",
    "    for col_nr in range(ints.shape[1]):\n",
    "        neg = ints[:,col_nr]<0\n",
    "        res_ints[:,col_nr][neg]=0\n",
    "    return(res_ints)"
   ]
  },
  {
   "cell_type": "markdown",
   "id": "7b3e6bac",
   "metadata": {},
   "source": [
    "#### Mix"
   ]
  },
  {
   "cell_type": "code",
   "execution_count": 43,
   "id": "d938786b",
   "metadata": {},
   "outputs": [],
   "source": [
    "ppm = np.array(mix.confs)[:,0]\n",
    "mix_ints = np.array(mix.confs)[:,1]"
   ]
  },
  {
   "cell_type": "code",
   "execution_count": 44,
   "id": "e49f6542",
   "metadata": {},
   "outputs": [],
   "source": [
    "mix_without_noise = NMRSpectrum(confs = list(zip(ppm, mix_ints - np.array(estimation_vis['noise']))))\n",
    "mix_without_noise = np.array(mix_without_noise.confs)[:,1]"
   ]
  },
  {
   "cell_type": "code",
   "execution_count": 45,
   "id": "41218d82",
   "metadata": {},
   "outputs": [],
   "source": [
    "if ignore_negative:\n",
    "    mix_without_noise = make_nonnegative(mix_without_noise.reshape(-1,1))"
   ]
  },
  {
   "cell_type": "code",
   "execution_count": 46,
   "id": "58ba1cea",
   "metadata": {},
   "outputs": [],
   "source": [
    "mix_without_noise = mix_without_noise/sum(mix_without_noise)"
   ]
  },
  {
   "cell_type": "code",
   "execution_count": 47,
   "id": "0fdd347c",
   "metadata": {},
   "outputs": [
    {
     "name": "stdout",
     "output_type": "stream",
     "text": [
      "Is there a lot of negative signal in mixture (intensity below -0.0001)?\n",
      "0\n"
     ]
    }
   ],
   "source": [
    "thr = -1e-4\n",
    "print('Is there a lot of negative signal in mixture (intensity below '+str(thr)+')?')\n",
    "print(sum(mix_without_noise[mix_without_noise<thr]))"
   ]
  },
  {
   "cell_type": "markdown",
   "id": "a062a05d",
   "metadata": {},
   "source": [
    "#### Components"
   ]
  },
  {
   "cell_type": "code",
   "execution_count": 48,
   "id": "bff9eece",
   "metadata": {},
   "outputs": [],
   "source": [
    "components_ints = []\n",
    "for spectrum in spectra:\n",
    "    components_ints.append(np.array(spectrum.confs)[:,1])#.reshape(-1,1))"
   ]
  },
  {
   "cell_type": "code",
   "execution_count": 49,
   "id": "fe65533e",
   "metadata": {},
   "outputs": [
    {
     "name": "stdout",
     "output_type": "stream",
     "text": [
      "Is there a lot of negative signal in mixture (intensity below -0.0001)?\n",
      "Component 0:\n",
      "0\n",
      "Is there a lot of negative signal in mixture (intensity below -0.0001)?\n",
      "Component 1:\n",
      "0\n",
      "Is there a lot of negative signal in mixture (intensity below -0.0001)?\n",
      "Component 2:\n",
      "0\n",
      "Is there a lot of negative signal in mixture (intensity below -0.0001)?\n",
      "Component 3:\n",
      "0\n",
      "Is there a lot of negative signal in mixture (intensity below -0.0001)?\n",
      "Component 4:\n",
      "0\n"
     ]
    }
   ],
   "source": [
    "thr = -1e-4\n",
    "for i, arr in enumerate(components_ints):\n",
    "    print('Is there a lot of negative signal in mixture (intensity below '+str(thr)+')?')\n",
    "    print('Component '+str(i)+':')\n",
    "    print(sum(arr[arr<thr]))"
   ]
  },
  {
   "cell_type": "code",
   "execution_count": 50,
   "id": "86e0b53a",
   "metadata": {},
   "outputs": [],
   "source": [
    "p = estimation_vis['proportions']\n",
    "p = np.array(p).reshape(len(p),1)"
   ]
  },
  {
   "cell_type": "code",
   "execution_count": 51,
   "id": "ec7c6d91",
   "metadata": {},
   "outputs": [],
   "source": [
    "names_components_up_to = ['sum_up_to_'+str(i+1) for i in range(len(spectra))]"
   ]
  },
  {
   "cell_type": "code",
   "execution_count": 52,
   "id": "cee5adc5",
   "metadata": {},
   "outputs": [],
   "source": [
    "components = [comp.reshape(-1,1) for comp in components_ints]\n",
    "components_no_scaling = np.concatenate(components, axis=1)\n",
    "components_scaled = components_no_scaling*p[:,0]"
   ]
  },
  {
   "cell_type": "code",
   "execution_count": 53,
   "id": "06ef63df",
   "metadata": {},
   "outputs": [
    {
     "name": "stderr",
     "output_type": "stream",
     "text": [
      "/tmp/ipykernel_16647/2062537961.py:1: RuntimeWarning: invalid value encountered in divide\n",
      "  proportions_point_by_point = (components_scaled/np.sum(components_scaled, axis=1).reshape(-1,1))\n"
     ]
    }
   ],
   "source": [
    "proportions_point_by_point = (components_scaled/np.sum(components_scaled, axis=1).reshape(-1,1))\n",
    "proportions_point_by_point = np.nan_to_num(proportions_point_by_point)\n",
    "noise_in_ref = np.array(estimation_vis['noise_in_theoretical']).reshape(-1,1)\n",
    "noise_split_for_components = proportions_point_by_point*noise_in_ref"
   ]
  },
  {
   "cell_type": "code",
   "execution_count": 54,
   "id": "d06e7972",
   "metadata": {},
   "outputs": [
    {
     "data": {
      "text/plain": [
       "True"
      ]
     },
     "execution_count": 54,
     "metadata": {},
     "output_type": "execute_result"
    }
   ],
   "source": [
    "(np.round(components_scaled-noise_split_for_components, decimals=5)>=0).all()"
   ]
  },
  {
   "cell_type": "code",
   "execution_count": 55,
   "id": "c3a37fa7",
   "metadata": {},
   "outputs": [],
   "source": [
    "X = components_scaled - noise_split_for_components"
   ]
  },
  {
   "cell_type": "code",
   "execution_count": 56,
   "id": "c7c5a100",
   "metadata": {},
   "outputs": [
    {
     "data": {
      "text/plain": [
       "True"
      ]
     },
     "execution_count": 56,
     "metadata": {},
     "output_type": "execute_result"
    }
   ],
   "source": [
    "(np.sum(X[:,:1], axis=1)==X[:,0]).all()"
   ]
  },
  {
   "cell_type": "code",
   "execution_count": 57,
   "id": "24612df2",
   "metadata": {},
   "outputs": [],
   "source": [
    "if ignore_negative:\n",
    "    X = make_nonnegative(X)"
   ]
  },
  {
   "cell_type": "code",
   "execution_count": 58,
   "id": "4116e7a4",
   "metadata": {},
   "outputs": [],
   "source": [
    "for i, name in enumerate(names_components_up_to):\n",
    "    #not_normalized = np.sum(X[:,:(i+1)], axis=1)\n",
    "    \n",
    "    globals()[name] = np.sum(X[:,:(i+1)], axis=1)"
   ]
  },
  {
   "cell_type": "code",
   "execution_count": 59,
   "id": "4cc24789",
   "metadata": {},
   "outputs": [],
   "source": [
    "xlims_lower = [1.55, 1.6, 4.4, 3.55, 3.55, 1.55, 7.3, 9.1, 3.55]\n",
    "xlims_upper = [2.45, 2.4, 7.8, 4.05, 4.05, 2.4, 7.6, 10.1, 4.05]\n",
    "ylims_lower = [-0.00005, -0.00005, -0.000025, -0.00005, -0.00005, -0.00005, -0.00005, -0.00005, -0.00005]\n",
    "ylims_upper = [0.00045, 0.0025, 0.00016, 0.0016, 0.0011, 0.0016, 0.0026, 0.0014, 0.0016]"
   ]
  },
  {
   "cell_type": "code",
   "execution_count": 60,
   "id": "b4281800",
   "metadata": {},
   "outputs": [
    {
     "data": {
      "application/javascript": [
       "/* Put everything inside the global mpl namespace */\n",
       "/* global mpl */\n",
       "window.mpl = {};\n",
       "\n",
       "mpl.get_websocket_type = function () {\n",
       "    if (typeof WebSocket !== 'undefined') {\n",
       "        return WebSocket;\n",
       "    } else if (typeof MozWebSocket !== 'undefined') {\n",
       "        return MozWebSocket;\n",
       "    } else {\n",
       "        alert(\n",
       "            'Your browser does not have WebSocket support. ' +\n",
       "                'Please try Chrome, Safari or Firefox ≥ 6. ' +\n",
       "                'Firefox 4 and 5 are also supported but you ' +\n",
       "                'have to enable WebSockets in about:config.'\n",
       "        );\n",
       "    }\n",
       "};\n",
       "\n",
       "mpl.figure = function (figure_id, websocket, ondownload, parent_element) {\n",
       "    this.id = figure_id;\n",
       "\n",
       "    this.ws = websocket;\n",
       "\n",
       "    this.supports_binary = this.ws.binaryType !== undefined;\n",
       "\n",
       "    if (!this.supports_binary) {\n",
       "        var warnings = document.getElementById('mpl-warnings');\n",
       "        if (warnings) {\n",
       "            warnings.style.display = 'block';\n",
       "            warnings.textContent =\n",
       "                'This browser does not support binary websocket messages. ' +\n",
       "                'Performance may be slow.';\n",
       "        }\n",
       "    }\n",
       "\n",
       "    this.imageObj = new Image();\n",
       "\n",
       "    this.context = undefined;\n",
       "    this.message = undefined;\n",
       "    this.canvas = undefined;\n",
       "    this.rubberband_canvas = undefined;\n",
       "    this.rubberband_context = undefined;\n",
       "    this.format_dropdown = undefined;\n",
       "\n",
       "    this.image_mode = 'full';\n",
       "\n",
       "    this.root = document.createElement('div');\n",
       "    this.root.setAttribute('style', 'display: inline-block');\n",
       "    this._root_extra_style(this.root);\n",
       "\n",
       "    parent_element.appendChild(this.root);\n",
       "\n",
       "    this._init_header(this);\n",
       "    this._init_canvas(this);\n",
       "    this._init_toolbar(this);\n",
       "\n",
       "    var fig = this;\n",
       "\n",
       "    this.waiting = false;\n",
       "\n",
       "    this.ws.onopen = function () {\n",
       "        fig.send_message('supports_binary', { value: fig.supports_binary });\n",
       "        fig.send_message('send_image_mode', {});\n",
       "        if (fig.ratio !== 1) {\n",
       "            fig.send_message('set_device_pixel_ratio', {\n",
       "                device_pixel_ratio: fig.ratio,\n",
       "            });\n",
       "        }\n",
       "        fig.send_message('refresh', {});\n",
       "    };\n",
       "\n",
       "    this.imageObj.onload = function () {\n",
       "        if (fig.image_mode === 'full') {\n",
       "            // Full images could contain transparency (where diff images\n",
       "            // almost always do), so we need to clear the canvas so that\n",
       "            // there is no ghosting.\n",
       "            fig.context.clearRect(0, 0, fig.canvas.width, fig.canvas.height);\n",
       "        }\n",
       "        fig.context.drawImage(fig.imageObj, 0, 0);\n",
       "    };\n",
       "\n",
       "    this.imageObj.onunload = function () {\n",
       "        fig.ws.close();\n",
       "    };\n",
       "\n",
       "    this.ws.onmessage = this._make_on_message_function(this);\n",
       "\n",
       "    this.ondownload = ondownload;\n",
       "};\n",
       "\n",
       "mpl.figure.prototype._init_header = function () {\n",
       "    var titlebar = document.createElement('div');\n",
       "    titlebar.classList =\n",
       "        'ui-dialog-titlebar ui-widget-header ui-corner-all ui-helper-clearfix';\n",
       "    var titletext = document.createElement('div');\n",
       "    titletext.classList = 'ui-dialog-title';\n",
       "    titletext.setAttribute(\n",
       "        'style',\n",
       "        'width: 100%; text-align: center; padding: 3px;'\n",
       "    );\n",
       "    titlebar.appendChild(titletext);\n",
       "    this.root.appendChild(titlebar);\n",
       "    this.header = titletext;\n",
       "};\n",
       "\n",
       "mpl.figure.prototype._canvas_extra_style = function (_canvas_div) {};\n",
       "\n",
       "mpl.figure.prototype._root_extra_style = function (_canvas_div) {};\n",
       "\n",
       "mpl.figure.prototype._init_canvas = function () {\n",
       "    var fig = this;\n",
       "\n",
       "    var canvas_div = (this.canvas_div = document.createElement('div'));\n",
       "    canvas_div.setAttribute('tabindex', '0');\n",
       "    canvas_div.setAttribute(\n",
       "        'style',\n",
       "        'border: 1px solid #ddd;' +\n",
       "            'box-sizing: content-box;' +\n",
       "            'clear: both;' +\n",
       "            'min-height: 1px;' +\n",
       "            'min-width: 1px;' +\n",
       "            'outline: 0;' +\n",
       "            'overflow: hidden;' +\n",
       "            'position: relative;' +\n",
       "            'resize: both;' +\n",
       "            'z-index: 2;'\n",
       "    );\n",
       "\n",
       "    function on_keyboard_event_closure(name) {\n",
       "        return function (event) {\n",
       "            return fig.key_event(event, name);\n",
       "        };\n",
       "    }\n",
       "\n",
       "    canvas_div.addEventListener(\n",
       "        'keydown',\n",
       "        on_keyboard_event_closure('key_press')\n",
       "    );\n",
       "    canvas_div.addEventListener(\n",
       "        'keyup',\n",
       "        on_keyboard_event_closure('key_release')\n",
       "    );\n",
       "\n",
       "    this._canvas_extra_style(canvas_div);\n",
       "    this.root.appendChild(canvas_div);\n",
       "\n",
       "    var canvas = (this.canvas = document.createElement('canvas'));\n",
       "    canvas.classList.add('mpl-canvas');\n",
       "    canvas.setAttribute(\n",
       "        'style',\n",
       "        'box-sizing: content-box;' +\n",
       "            'pointer-events: none;' +\n",
       "            'position: relative;' +\n",
       "            'z-index: 0;'\n",
       "    );\n",
       "\n",
       "    this.context = canvas.getContext('2d');\n",
       "\n",
       "    var backingStore =\n",
       "        this.context.backingStorePixelRatio ||\n",
       "        this.context.webkitBackingStorePixelRatio ||\n",
       "        this.context.mozBackingStorePixelRatio ||\n",
       "        this.context.msBackingStorePixelRatio ||\n",
       "        this.context.oBackingStorePixelRatio ||\n",
       "        this.context.backingStorePixelRatio ||\n",
       "        1;\n",
       "\n",
       "    this.ratio = (window.devicePixelRatio || 1) / backingStore;\n",
       "\n",
       "    var rubberband_canvas = (this.rubberband_canvas = document.createElement(\n",
       "        'canvas'\n",
       "    ));\n",
       "    rubberband_canvas.setAttribute(\n",
       "        'style',\n",
       "        'box-sizing: content-box;' +\n",
       "            'left: 0;' +\n",
       "            'pointer-events: none;' +\n",
       "            'position: absolute;' +\n",
       "            'top: 0;' +\n",
       "            'z-index: 1;'\n",
       "    );\n",
       "\n",
       "    // Apply a ponyfill if ResizeObserver is not implemented by browser.\n",
       "    if (this.ResizeObserver === undefined) {\n",
       "        if (window.ResizeObserver !== undefined) {\n",
       "            this.ResizeObserver = window.ResizeObserver;\n",
       "        } else {\n",
       "            var obs = _JSXTOOLS_RESIZE_OBSERVER({});\n",
       "            this.ResizeObserver = obs.ResizeObserver;\n",
       "        }\n",
       "    }\n",
       "\n",
       "    this.resizeObserverInstance = new this.ResizeObserver(function (entries) {\n",
       "        var nentries = entries.length;\n",
       "        for (var i = 0; i < nentries; i++) {\n",
       "            var entry = entries[i];\n",
       "            var width, height;\n",
       "            if (entry.contentBoxSize) {\n",
       "                if (entry.contentBoxSize instanceof Array) {\n",
       "                    // Chrome 84 implements new version of spec.\n",
       "                    width = entry.contentBoxSize[0].inlineSize;\n",
       "                    height = entry.contentBoxSize[0].blockSize;\n",
       "                } else {\n",
       "                    // Firefox implements old version of spec.\n",
       "                    width = entry.contentBoxSize.inlineSize;\n",
       "                    height = entry.contentBoxSize.blockSize;\n",
       "                }\n",
       "            } else {\n",
       "                // Chrome <84 implements even older version of spec.\n",
       "                width = entry.contentRect.width;\n",
       "                height = entry.contentRect.height;\n",
       "            }\n",
       "\n",
       "            // Keep the size of the canvas and rubber band canvas in sync with\n",
       "            // the canvas container.\n",
       "            if (entry.devicePixelContentBoxSize) {\n",
       "                // Chrome 84 implements new version of spec.\n",
       "                canvas.setAttribute(\n",
       "                    'width',\n",
       "                    entry.devicePixelContentBoxSize[0].inlineSize\n",
       "                );\n",
       "                canvas.setAttribute(\n",
       "                    'height',\n",
       "                    entry.devicePixelContentBoxSize[0].blockSize\n",
       "                );\n",
       "            } else {\n",
       "                canvas.setAttribute('width', width * fig.ratio);\n",
       "                canvas.setAttribute('height', height * fig.ratio);\n",
       "            }\n",
       "            /* This rescales the canvas back to display pixels, so that it\n",
       "             * appears correct on HiDPI screens. */\n",
       "            canvas.style.width = width + 'px';\n",
       "            canvas.style.height = height + 'px';\n",
       "\n",
       "            rubberband_canvas.setAttribute('width', width);\n",
       "            rubberband_canvas.setAttribute('height', height);\n",
       "\n",
       "            // And update the size in Python. We ignore the initial 0/0 size\n",
       "            // that occurs as the element is placed into the DOM, which should\n",
       "            // otherwise not happen due to the minimum size styling.\n",
       "            if (fig.ws.readyState == 1 && width != 0 && height != 0) {\n",
       "                fig.request_resize(width, height);\n",
       "            }\n",
       "        }\n",
       "    });\n",
       "    this.resizeObserverInstance.observe(canvas_div);\n",
       "\n",
       "    function on_mouse_event_closure(name) {\n",
       "        /* User Agent sniffing is bad, but WebKit is busted:\n",
       "         * https://bugs.webkit.org/show_bug.cgi?id=144526\n",
       "         * https://bugs.webkit.org/show_bug.cgi?id=181818\n",
       "         * The worst that happens here is that they get an extra browser\n",
       "         * selection when dragging, if this check fails to catch them.\n",
       "         */\n",
       "        var UA = navigator.userAgent;\n",
       "        var isWebKit = /AppleWebKit/.test(UA) && !/Chrome/.test(UA);\n",
       "        if(isWebKit) {\n",
       "            return function (event) {\n",
       "                /* This prevents the web browser from automatically changing to\n",
       "                 * the text insertion cursor when the button is pressed. We\n",
       "                 * want to control all of the cursor setting manually through\n",
       "                 * the 'cursor' event from matplotlib */\n",
       "                event.preventDefault()\n",
       "                return fig.mouse_event(event, name);\n",
       "            };\n",
       "        } else {\n",
       "            return function (event) {\n",
       "                return fig.mouse_event(event, name);\n",
       "            };\n",
       "        }\n",
       "    }\n",
       "\n",
       "    canvas_div.addEventListener(\n",
       "        'mousedown',\n",
       "        on_mouse_event_closure('button_press')\n",
       "    );\n",
       "    canvas_div.addEventListener(\n",
       "        'mouseup',\n",
       "        on_mouse_event_closure('button_release')\n",
       "    );\n",
       "    canvas_div.addEventListener(\n",
       "        'dblclick',\n",
       "        on_mouse_event_closure('dblclick')\n",
       "    );\n",
       "    // Throttle sequential mouse events to 1 every 20ms.\n",
       "    canvas_div.addEventListener(\n",
       "        'mousemove',\n",
       "        on_mouse_event_closure('motion_notify')\n",
       "    );\n",
       "\n",
       "    canvas_div.addEventListener(\n",
       "        'mouseenter',\n",
       "        on_mouse_event_closure('figure_enter')\n",
       "    );\n",
       "    canvas_div.addEventListener(\n",
       "        'mouseleave',\n",
       "        on_mouse_event_closure('figure_leave')\n",
       "    );\n",
       "\n",
       "    canvas_div.addEventListener('wheel', function (event) {\n",
       "        if (event.deltaY < 0) {\n",
       "            event.step = 1;\n",
       "        } else {\n",
       "            event.step = -1;\n",
       "        }\n",
       "        on_mouse_event_closure('scroll')(event);\n",
       "    });\n",
       "\n",
       "    canvas_div.appendChild(canvas);\n",
       "    canvas_div.appendChild(rubberband_canvas);\n",
       "\n",
       "    this.rubberband_context = rubberband_canvas.getContext('2d');\n",
       "    this.rubberband_context.strokeStyle = '#000000';\n",
       "\n",
       "    this._resize_canvas = function (width, height, forward) {\n",
       "        if (forward) {\n",
       "            canvas_div.style.width = width + 'px';\n",
       "            canvas_div.style.height = height + 'px';\n",
       "        }\n",
       "    };\n",
       "\n",
       "    // Disable right mouse context menu.\n",
       "    canvas_div.addEventListener('contextmenu', function (_e) {\n",
       "        event.preventDefault();\n",
       "        return false;\n",
       "    });\n",
       "\n",
       "    function set_focus() {\n",
       "        canvas.focus();\n",
       "        canvas_div.focus();\n",
       "    }\n",
       "\n",
       "    window.setTimeout(set_focus, 100);\n",
       "};\n",
       "\n",
       "mpl.figure.prototype._init_toolbar = function () {\n",
       "    var fig = this;\n",
       "\n",
       "    var toolbar = document.createElement('div');\n",
       "    toolbar.classList = 'mpl-toolbar';\n",
       "    this.root.appendChild(toolbar);\n",
       "\n",
       "    function on_click_closure(name) {\n",
       "        return function (_event) {\n",
       "            return fig.toolbar_button_onclick(name);\n",
       "        };\n",
       "    }\n",
       "\n",
       "    function on_mouseover_closure(tooltip) {\n",
       "        return function (event) {\n",
       "            if (!event.currentTarget.disabled) {\n",
       "                return fig.toolbar_button_onmouseover(tooltip);\n",
       "            }\n",
       "        };\n",
       "    }\n",
       "\n",
       "    fig.buttons = {};\n",
       "    var buttonGroup = document.createElement('div');\n",
       "    buttonGroup.classList = 'mpl-button-group';\n",
       "    for (var toolbar_ind in mpl.toolbar_items) {\n",
       "        var name = mpl.toolbar_items[toolbar_ind][0];\n",
       "        var tooltip = mpl.toolbar_items[toolbar_ind][1];\n",
       "        var image = mpl.toolbar_items[toolbar_ind][2];\n",
       "        var method_name = mpl.toolbar_items[toolbar_ind][3];\n",
       "\n",
       "        if (!name) {\n",
       "            /* Instead of a spacer, we start a new button group. */\n",
       "            if (buttonGroup.hasChildNodes()) {\n",
       "                toolbar.appendChild(buttonGroup);\n",
       "            }\n",
       "            buttonGroup = document.createElement('div');\n",
       "            buttonGroup.classList = 'mpl-button-group';\n",
       "            continue;\n",
       "        }\n",
       "\n",
       "        var button = (fig.buttons[name] = document.createElement('button'));\n",
       "        button.classList = 'mpl-widget';\n",
       "        button.setAttribute('role', 'button');\n",
       "        button.setAttribute('aria-disabled', 'false');\n",
       "        button.addEventListener('click', on_click_closure(method_name));\n",
       "        button.addEventListener('mouseover', on_mouseover_closure(tooltip));\n",
       "\n",
       "        var icon_img = document.createElement('img');\n",
       "        icon_img.src = '_images/' + image + '.png';\n",
       "        icon_img.srcset = '_images/' + image + '_large.png 2x';\n",
       "        icon_img.alt = tooltip;\n",
       "        button.appendChild(icon_img);\n",
       "\n",
       "        buttonGroup.appendChild(button);\n",
       "    }\n",
       "\n",
       "    if (buttonGroup.hasChildNodes()) {\n",
       "        toolbar.appendChild(buttonGroup);\n",
       "    }\n",
       "\n",
       "    var fmt_picker = document.createElement('select');\n",
       "    fmt_picker.classList = 'mpl-widget';\n",
       "    toolbar.appendChild(fmt_picker);\n",
       "    this.format_dropdown = fmt_picker;\n",
       "\n",
       "    for (var ind in mpl.extensions) {\n",
       "        var fmt = mpl.extensions[ind];\n",
       "        var option = document.createElement('option');\n",
       "        option.selected = fmt === mpl.default_extension;\n",
       "        option.innerHTML = fmt;\n",
       "        fmt_picker.appendChild(option);\n",
       "    }\n",
       "\n",
       "    var status_bar = document.createElement('span');\n",
       "    status_bar.classList = 'mpl-message';\n",
       "    toolbar.appendChild(status_bar);\n",
       "    this.message = status_bar;\n",
       "};\n",
       "\n",
       "mpl.figure.prototype.request_resize = function (x_pixels, y_pixels) {\n",
       "    // Request matplotlib to resize the figure. Matplotlib will then trigger a resize in the client,\n",
       "    // which will in turn request a refresh of the image.\n",
       "    this.send_message('resize', { width: x_pixels, height: y_pixels });\n",
       "};\n",
       "\n",
       "mpl.figure.prototype.send_message = function (type, properties) {\n",
       "    properties['type'] = type;\n",
       "    properties['figure_id'] = this.id;\n",
       "    this.ws.send(JSON.stringify(properties));\n",
       "};\n",
       "\n",
       "mpl.figure.prototype.send_draw_message = function () {\n",
       "    if (!this.waiting) {\n",
       "        this.waiting = true;\n",
       "        this.ws.send(JSON.stringify({ type: 'draw', figure_id: this.id }));\n",
       "    }\n",
       "};\n",
       "\n",
       "mpl.figure.prototype.handle_save = function (fig, _msg) {\n",
       "    var format_dropdown = fig.format_dropdown;\n",
       "    var format = format_dropdown.options[format_dropdown.selectedIndex].value;\n",
       "    fig.ondownload(fig, format);\n",
       "};\n",
       "\n",
       "mpl.figure.prototype.handle_resize = function (fig, msg) {\n",
       "    var size = msg['size'];\n",
       "    if (size[0] !== fig.canvas.width || size[1] !== fig.canvas.height) {\n",
       "        fig._resize_canvas(size[0], size[1], msg['forward']);\n",
       "        fig.send_message('refresh', {});\n",
       "    }\n",
       "};\n",
       "\n",
       "mpl.figure.prototype.handle_rubberband = function (fig, msg) {\n",
       "    var x0 = msg['x0'] / fig.ratio;\n",
       "    var y0 = (fig.canvas.height - msg['y0']) / fig.ratio;\n",
       "    var x1 = msg['x1'] / fig.ratio;\n",
       "    var y1 = (fig.canvas.height - msg['y1']) / fig.ratio;\n",
       "    x0 = Math.floor(x0) + 0.5;\n",
       "    y0 = Math.floor(y0) + 0.5;\n",
       "    x1 = Math.floor(x1) + 0.5;\n",
       "    y1 = Math.floor(y1) + 0.5;\n",
       "    var min_x = Math.min(x0, x1);\n",
       "    var min_y = Math.min(y0, y1);\n",
       "    var width = Math.abs(x1 - x0);\n",
       "    var height = Math.abs(y1 - y0);\n",
       "\n",
       "    fig.rubberband_context.clearRect(\n",
       "        0,\n",
       "        0,\n",
       "        fig.canvas.width / fig.ratio,\n",
       "        fig.canvas.height / fig.ratio\n",
       "    );\n",
       "\n",
       "    fig.rubberband_context.strokeRect(min_x, min_y, width, height);\n",
       "};\n",
       "\n",
       "mpl.figure.prototype.handle_figure_label = function (fig, msg) {\n",
       "    // Updates the figure title.\n",
       "    fig.header.textContent = msg['label'];\n",
       "};\n",
       "\n",
       "mpl.figure.prototype.handle_cursor = function (fig, msg) {\n",
       "    fig.canvas_div.style.cursor = msg['cursor'];\n",
       "};\n",
       "\n",
       "mpl.figure.prototype.handle_message = function (fig, msg) {\n",
       "    fig.message.textContent = msg['message'];\n",
       "};\n",
       "\n",
       "mpl.figure.prototype.handle_draw = function (fig, _msg) {\n",
       "    // Request the server to send over a new figure.\n",
       "    fig.send_draw_message();\n",
       "};\n",
       "\n",
       "mpl.figure.prototype.handle_image_mode = function (fig, msg) {\n",
       "    fig.image_mode = msg['mode'];\n",
       "};\n",
       "\n",
       "mpl.figure.prototype.handle_history_buttons = function (fig, msg) {\n",
       "    for (var key in msg) {\n",
       "        if (!(key in fig.buttons)) {\n",
       "            continue;\n",
       "        }\n",
       "        fig.buttons[key].disabled = !msg[key];\n",
       "        fig.buttons[key].setAttribute('aria-disabled', !msg[key]);\n",
       "    }\n",
       "};\n",
       "\n",
       "mpl.figure.prototype.handle_navigate_mode = function (fig, msg) {\n",
       "    if (msg['mode'] === 'PAN') {\n",
       "        fig.buttons['Pan'].classList.add('active');\n",
       "        fig.buttons['Zoom'].classList.remove('active');\n",
       "    } else if (msg['mode'] === 'ZOOM') {\n",
       "        fig.buttons['Pan'].classList.remove('active');\n",
       "        fig.buttons['Zoom'].classList.add('active');\n",
       "    } else {\n",
       "        fig.buttons['Pan'].classList.remove('active');\n",
       "        fig.buttons['Zoom'].classList.remove('active');\n",
       "    }\n",
       "};\n",
       "\n",
       "mpl.figure.prototype.updated_canvas_event = function () {\n",
       "    // Called whenever the canvas gets updated.\n",
       "    this.send_message('ack', {});\n",
       "};\n",
       "\n",
       "// A function to construct a web socket function for onmessage handling.\n",
       "// Called in the figure constructor.\n",
       "mpl.figure.prototype._make_on_message_function = function (fig) {\n",
       "    return function socket_on_message(evt) {\n",
       "        if (evt.data instanceof Blob) {\n",
       "            var img = evt.data;\n",
       "            if (img.type !== 'image/png') {\n",
       "                /* FIXME: We get \"Resource interpreted as Image but\n",
       "                 * transferred with MIME type text/plain:\" errors on\n",
       "                 * Chrome.  But how to set the MIME type?  It doesn't seem\n",
       "                 * to be part of the websocket stream */\n",
       "                img.type = 'image/png';\n",
       "            }\n",
       "\n",
       "            /* Free the memory for the previous frames */\n",
       "            if (fig.imageObj.src) {\n",
       "                (window.URL || window.webkitURL).revokeObjectURL(\n",
       "                    fig.imageObj.src\n",
       "                );\n",
       "            }\n",
       "\n",
       "            fig.imageObj.src = (window.URL || window.webkitURL).createObjectURL(\n",
       "                img\n",
       "            );\n",
       "            fig.updated_canvas_event();\n",
       "            fig.waiting = false;\n",
       "            return;\n",
       "        } else if (\n",
       "            typeof evt.data === 'string' &&\n",
       "            evt.data.slice(0, 21) === 'data:image/png;base64'\n",
       "        ) {\n",
       "            fig.imageObj.src = evt.data;\n",
       "            fig.updated_canvas_event();\n",
       "            fig.waiting = false;\n",
       "            return;\n",
       "        }\n",
       "\n",
       "        var msg = JSON.parse(evt.data);\n",
       "        var msg_type = msg['type'];\n",
       "\n",
       "        // Call the  \"handle_{type}\" callback, which takes\n",
       "        // the figure and JSON message as its only arguments.\n",
       "        try {\n",
       "            var callback = fig['handle_' + msg_type];\n",
       "        } catch (e) {\n",
       "            console.log(\n",
       "                \"No handler for the '\" + msg_type + \"' message type: \",\n",
       "                msg\n",
       "            );\n",
       "            return;\n",
       "        }\n",
       "\n",
       "        if (callback) {\n",
       "            try {\n",
       "                // console.log(\"Handling '\" + msg_type + \"' message: \", msg);\n",
       "                callback(fig, msg);\n",
       "            } catch (e) {\n",
       "                console.log(\n",
       "                    \"Exception inside the 'handler_\" + msg_type + \"' callback:\",\n",
       "                    e,\n",
       "                    e.stack,\n",
       "                    msg\n",
       "                );\n",
       "            }\n",
       "        }\n",
       "    };\n",
       "};\n",
       "\n",
       "\n",
       "/*\n",
       " * return a copy of an object with only non-object keys\n",
       " * we need this to avoid circular references\n",
       " * https://stackoverflow.com/a/24161582/3208463\n",
       " */\n",
       "function simpleKeys(original) {\n",
       "    return Object.keys(original).reduce(function (obj, key) {\n",
       "        if (typeof original[key] !== 'object') {\n",
       "            obj[key] = original[key];\n",
       "        }\n",
       "        return obj;\n",
       "    }, {});\n",
       "}\n",
       "\n",
       "mpl.figure.prototype.mouse_event = function (event, name) {\n",
       "    if (name === 'button_press') {\n",
       "        this.canvas.focus();\n",
       "        this.canvas_div.focus();\n",
       "    }\n",
       "\n",
       "    // from https://stackoverflow.com/q/1114465\n",
       "    var boundingRect = this.canvas.getBoundingClientRect();\n",
       "    var x = (event.clientX - boundingRect.left) * this.ratio;\n",
       "    var y = (event.clientY - boundingRect.top) * this.ratio;\n",
       "\n",
       "    this.send_message(name, {\n",
       "        x: x,\n",
       "        y: y,\n",
       "        button: event.button,\n",
       "        step: event.step,\n",
       "        guiEvent: simpleKeys(event),\n",
       "    });\n",
       "\n",
       "    return false;\n",
       "};\n",
       "\n",
       "mpl.figure.prototype._key_event_extra = function (_event, _name) {\n",
       "    // Handle any extra behaviour associated with a key event\n",
       "};\n",
       "\n",
       "mpl.figure.prototype.key_event = function (event, name) {\n",
       "    // Prevent repeat events\n",
       "    if (name === 'key_press') {\n",
       "        if (event.key === this._key) {\n",
       "            return;\n",
       "        } else {\n",
       "            this._key = event.key;\n",
       "        }\n",
       "    }\n",
       "    if (name === 'key_release') {\n",
       "        this._key = null;\n",
       "    }\n",
       "\n",
       "    var value = '';\n",
       "    if (event.ctrlKey && event.key !== 'Control') {\n",
       "        value += 'ctrl+';\n",
       "    }\n",
       "    else if (event.altKey && event.key !== 'Alt') {\n",
       "        value += 'alt+';\n",
       "    }\n",
       "    else if (event.shiftKey && event.key !== 'Shift') {\n",
       "        value += 'shift+';\n",
       "    }\n",
       "\n",
       "    value += 'k' + event.key;\n",
       "\n",
       "    this._key_event_extra(event, name);\n",
       "\n",
       "    this.send_message(name, { key: value, guiEvent: simpleKeys(event) });\n",
       "    return false;\n",
       "};\n",
       "\n",
       "mpl.figure.prototype.toolbar_button_onclick = function (name) {\n",
       "    if (name === 'download') {\n",
       "        this.handle_save(this, null);\n",
       "    } else {\n",
       "        this.send_message('toolbar_button', { name: name });\n",
       "    }\n",
       "};\n",
       "\n",
       "mpl.figure.prototype.toolbar_button_onmouseover = function (tooltip) {\n",
       "    this.message.textContent = tooltip;\n",
       "};\n",
       "\n",
       "///////////////// REMAINING CONTENT GENERATED BY embed_js.py /////////////////\n",
       "// prettier-ignore\n",
       "var _JSXTOOLS_RESIZE_OBSERVER=function(A){var t,i=new WeakMap,n=new WeakMap,a=new WeakMap,r=new WeakMap,o=new Set;function s(e){if(!(this instanceof s))throw new TypeError(\"Constructor requires 'new' operator\");i.set(this,e)}function h(){throw new TypeError(\"Function is not a constructor\")}function c(e,t,i,n){e=0 in arguments?Number(arguments[0]):0,t=1 in arguments?Number(arguments[1]):0,i=2 in arguments?Number(arguments[2]):0,n=3 in arguments?Number(arguments[3]):0,this.right=(this.x=this.left=e)+(this.width=i),this.bottom=(this.y=this.top=t)+(this.height=n),Object.freeze(this)}function d(){t=requestAnimationFrame(d);var s=new WeakMap,p=new Set;o.forEach((function(t){r.get(t).forEach((function(i){var r=t instanceof window.SVGElement,o=a.get(t),d=r?0:parseFloat(o.paddingTop),f=r?0:parseFloat(o.paddingRight),l=r?0:parseFloat(o.paddingBottom),u=r?0:parseFloat(o.paddingLeft),g=r?0:parseFloat(o.borderTopWidth),m=r?0:parseFloat(o.borderRightWidth),w=r?0:parseFloat(o.borderBottomWidth),b=u+f,F=d+l,v=(r?0:parseFloat(o.borderLeftWidth))+m,W=g+w,y=r?0:t.offsetHeight-W-t.clientHeight,E=r?0:t.offsetWidth-v-t.clientWidth,R=b+v,z=F+W,M=r?t.width:parseFloat(o.width)-R-E,O=r?t.height:parseFloat(o.height)-z-y;if(n.has(t)){var k=n.get(t);if(k[0]===M&&k[1]===O)return}n.set(t,[M,O]);var S=Object.create(h.prototype);S.target=t,S.contentRect=new c(u,d,M,O),s.has(i)||(s.set(i,[]),p.add(i)),s.get(i).push(S)}))})),p.forEach((function(e){i.get(e).call(e,s.get(e),e)}))}return s.prototype.observe=function(i){if(i instanceof window.Element){r.has(i)||(r.set(i,new Set),o.add(i),a.set(i,window.getComputedStyle(i)));var n=r.get(i);n.has(this)||n.add(this),cancelAnimationFrame(t),t=requestAnimationFrame(d)}},s.prototype.unobserve=function(i){if(i instanceof window.Element&&r.has(i)){var n=r.get(i);n.has(this)&&(n.delete(this),n.size||(r.delete(i),o.delete(i))),n.size||r.delete(i),o.size||cancelAnimationFrame(t)}},A.DOMRectReadOnly=c,A.ResizeObserver=s,A.ResizeObserverEntry=h,A}; // eslint-disable-line\n",
       "mpl.toolbar_items = [[\"Home\", \"Reset original view\", \"fa fa-home\", \"home\"], [\"Back\", \"Back to previous view\", \"fa fa-arrow-left\", \"back\"], [\"Forward\", \"Forward to next view\", \"fa fa-arrow-right\", \"forward\"], [\"\", \"\", \"\", \"\"], [\"Pan\", \"Left button pans, Right button zooms\\nx/y fixes axis, CTRL fixes aspect\", \"fa fa-arrows\", \"pan\"], [\"Zoom\", \"Zoom to rectangle\\nx/y fixes axis\", \"fa fa-square-o\", \"zoom\"], [\"\", \"\", \"\", \"\"], [\"Download\", \"Download plot\", \"fa fa-floppy-o\", \"download\"]];\n",
       "\n",
       "mpl.extensions = [\"eps\", \"jpeg\", \"pgf\", \"pdf\", \"png\", \"ps\", \"raw\", \"svg\", \"tif\", \"webp\"];\n",
       "\n",
       "mpl.default_extension = \"png\";/* global mpl */\n",
       "\n",
       "var comm_websocket_adapter = function (comm) {\n",
       "    // Create a \"websocket\"-like object which calls the given IPython comm\n",
       "    // object with the appropriate methods. Currently this is a non binary\n",
       "    // socket, so there is still some room for performance tuning.\n",
       "    var ws = {};\n",
       "\n",
       "    ws.binaryType = comm.kernel.ws.binaryType;\n",
       "    ws.readyState = comm.kernel.ws.readyState;\n",
       "    function updateReadyState(_event) {\n",
       "        if (comm.kernel.ws) {\n",
       "            ws.readyState = comm.kernel.ws.readyState;\n",
       "        } else {\n",
       "            ws.readyState = 3; // Closed state.\n",
       "        }\n",
       "    }\n",
       "    comm.kernel.ws.addEventListener('open', updateReadyState);\n",
       "    comm.kernel.ws.addEventListener('close', updateReadyState);\n",
       "    comm.kernel.ws.addEventListener('error', updateReadyState);\n",
       "\n",
       "    ws.close = function () {\n",
       "        comm.close();\n",
       "    };\n",
       "    ws.send = function (m) {\n",
       "        //console.log('sending', m);\n",
       "        comm.send(m);\n",
       "    };\n",
       "    // Register the callback with on_msg.\n",
       "    comm.on_msg(function (msg) {\n",
       "        //console.log('receiving', msg['content']['data'], msg);\n",
       "        var data = msg['content']['data'];\n",
       "        if (data['blob'] !== undefined) {\n",
       "            data = {\n",
       "                data: new Blob(msg['buffers'], { type: data['blob'] }),\n",
       "            };\n",
       "        }\n",
       "        // Pass the mpl event to the overridden (by mpl) onmessage function.\n",
       "        ws.onmessage(data);\n",
       "    });\n",
       "    return ws;\n",
       "};\n",
       "\n",
       "mpl.mpl_figure_comm = function (comm, msg) {\n",
       "    // This is the function which gets called when the mpl process\n",
       "    // starts-up an IPython Comm through the \"matplotlib\" channel.\n",
       "\n",
       "    var id = msg.content.data.id;\n",
       "    // Get hold of the div created by the display call when the Comm\n",
       "    // socket was opened in Python.\n",
       "    var element = document.getElementById(id);\n",
       "    var ws_proxy = comm_websocket_adapter(comm);\n",
       "\n",
       "    function ondownload(figure, _format) {\n",
       "        window.open(figure.canvas.toDataURL());\n",
       "    }\n",
       "\n",
       "    var fig = new mpl.figure(id, ws_proxy, ondownload, element);\n",
       "\n",
       "    // Call onopen now - mpl needs it, as it is assuming we've passed it a real\n",
       "    // web socket which is closed, not our websocket->open comm proxy.\n",
       "    ws_proxy.onopen();\n",
       "\n",
       "    fig.parent_element = element;\n",
       "    fig.cell_info = mpl.find_output_cell(\"<div id='\" + id + \"'></div>\");\n",
       "    if (!fig.cell_info) {\n",
       "        console.error('Failed to find cell for figure', id, fig);\n",
       "        return;\n",
       "    }\n",
       "    fig.cell_info[0].output_area.element.on(\n",
       "        'cleared',\n",
       "        { fig: fig },\n",
       "        fig._remove_fig_handler\n",
       "    );\n",
       "};\n",
       "\n",
       "mpl.figure.prototype.handle_close = function (fig, msg) {\n",
       "    var width = fig.canvas.width / fig.ratio;\n",
       "    fig.cell_info[0].output_area.element.off(\n",
       "        'cleared',\n",
       "        fig._remove_fig_handler\n",
       "    );\n",
       "    fig.resizeObserverInstance.unobserve(fig.canvas_div);\n",
       "\n",
       "    // Update the output cell to use the data from the current canvas.\n",
       "    fig.push_to_output();\n",
       "    var dataURL = fig.canvas.toDataURL();\n",
       "    // Re-enable the keyboard manager in IPython - without this line, in FF,\n",
       "    // the notebook keyboard shortcuts fail.\n",
       "    IPython.keyboard_manager.enable();\n",
       "    fig.parent_element.innerHTML =\n",
       "        '<img src=\"' + dataURL + '\" width=\"' + width + '\">';\n",
       "    fig.close_ws(fig, msg);\n",
       "};\n",
       "\n",
       "mpl.figure.prototype.close_ws = function (fig, msg) {\n",
       "    fig.send_message('closing', msg);\n",
       "    // fig.ws.close()\n",
       "};\n",
       "\n",
       "mpl.figure.prototype.push_to_output = function (_remove_interactive) {\n",
       "    // Turn the data on the canvas into data in the output cell.\n",
       "    var width = this.canvas.width / this.ratio;\n",
       "    var dataURL = this.canvas.toDataURL();\n",
       "    this.cell_info[1]['text/html'] =\n",
       "        '<img src=\"' + dataURL + '\" width=\"' + width + '\">';\n",
       "};\n",
       "\n",
       "mpl.figure.prototype.updated_canvas_event = function () {\n",
       "    // Tell IPython that the notebook contents must change.\n",
       "    IPython.notebook.set_dirty(true);\n",
       "    this.send_message('ack', {});\n",
       "    var fig = this;\n",
       "    // Wait a second, then push the new image to the DOM so\n",
       "    // that it is saved nicely (might be nice to debounce this).\n",
       "    setTimeout(function () {\n",
       "        fig.push_to_output();\n",
       "    }, 1000);\n",
       "};\n",
       "\n",
       "mpl.figure.prototype._init_toolbar = function () {\n",
       "    var fig = this;\n",
       "\n",
       "    var toolbar = document.createElement('div');\n",
       "    toolbar.classList = 'btn-toolbar';\n",
       "    this.root.appendChild(toolbar);\n",
       "\n",
       "    function on_click_closure(name) {\n",
       "        return function (_event) {\n",
       "            return fig.toolbar_button_onclick(name);\n",
       "        };\n",
       "    }\n",
       "\n",
       "    function on_mouseover_closure(tooltip) {\n",
       "        return function (event) {\n",
       "            if (!event.currentTarget.disabled) {\n",
       "                return fig.toolbar_button_onmouseover(tooltip);\n",
       "            }\n",
       "        };\n",
       "    }\n",
       "\n",
       "    fig.buttons = {};\n",
       "    var buttonGroup = document.createElement('div');\n",
       "    buttonGroup.classList = 'btn-group';\n",
       "    var button;\n",
       "    for (var toolbar_ind in mpl.toolbar_items) {\n",
       "        var name = mpl.toolbar_items[toolbar_ind][0];\n",
       "        var tooltip = mpl.toolbar_items[toolbar_ind][1];\n",
       "        var image = mpl.toolbar_items[toolbar_ind][2];\n",
       "        var method_name = mpl.toolbar_items[toolbar_ind][3];\n",
       "\n",
       "        if (!name) {\n",
       "            /* Instead of a spacer, we start a new button group. */\n",
       "            if (buttonGroup.hasChildNodes()) {\n",
       "                toolbar.appendChild(buttonGroup);\n",
       "            }\n",
       "            buttonGroup = document.createElement('div');\n",
       "            buttonGroup.classList = 'btn-group';\n",
       "            continue;\n",
       "        }\n",
       "\n",
       "        button = fig.buttons[name] = document.createElement('button');\n",
       "        button.classList = 'btn btn-default';\n",
       "        button.href = '#';\n",
       "        button.title = name;\n",
       "        button.innerHTML = '<i class=\"fa ' + image + ' fa-lg\"></i>';\n",
       "        button.addEventListener('click', on_click_closure(method_name));\n",
       "        button.addEventListener('mouseover', on_mouseover_closure(tooltip));\n",
       "        buttonGroup.appendChild(button);\n",
       "    }\n",
       "\n",
       "    if (buttonGroup.hasChildNodes()) {\n",
       "        toolbar.appendChild(buttonGroup);\n",
       "    }\n",
       "\n",
       "    // Add the status bar.\n",
       "    var status_bar = document.createElement('span');\n",
       "    status_bar.classList = 'mpl-message pull-right';\n",
       "    toolbar.appendChild(status_bar);\n",
       "    this.message = status_bar;\n",
       "\n",
       "    // Add the close button to the window.\n",
       "    var buttongrp = document.createElement('div');\n",
       "    buttongrp.classList = 'btn-group inline pull-right';\n",
       "    button = document.createElement('button');\n",
       "    button.classList = 'btn btn-mini btn-primary';\n",
       "    button.href = '#';\n",
       "    button.title = 'Stop Interaction';\n",
       "    button.innerHTML = '<i class=\"fa fa-power-off icon-remove icon-large\"></i>';\n",
       "    button.addEventListener('click', function (_evt) {\n",
       "        fig.handle_close(fig, {});\n",
       "    });\n",
       "    button.addEventListener(\n",
       "        'mouseover',\n",
       "        on_mouseover_closure('Stop Interaction')\n",
       "    );\n",
       "    buttongrp.appendChild(button);\n",
       "    var titlebar = this.root.querySelector('.ui-dialog-titlebar');\n",
       "    titlebar.insertBefore(buttongrp, titlebar.firstChild);\n",
       "};\n",
       "\n",
       "mpl.figure.prototype._remove_fig_handler = function (event) {\n",
       "    var fig = event.data.fig;\n",
       "    if (event.target !== this) {\n",
       "        // Ignore bubbled events from children.\n",
       "        return;\n",
       "    }\n",
       "    fig.close_ws(fig, {});\n",
       "};\n",
       "\n",
       "mpl.figure.prototype._root_extra_style = function (el) {\n",
       "    el.style.boxSizing = 'content-box'; // override notebook setting of border-box.\n",
       "};\n",
       "\n",
       "mpl.figure.prototype._canvas_extra_style = function (el) {\n",
       "    // this is important to make the div 'focusable\n",
       "    el.setAttribute('tabindex', 0);\n",
       "    // reach out to IPython and tell the keyboard manager to turn it's self\n",
       "    // off when our div gets focus\n",
       "\n",
       "    // location in version 3\n",
       "    if (IPython.notebook.keyboard_manager) {\n",
       "        IPython.notebook.keyboard_manager.register_events(el);\n",
       "    } else {\n",
       "        // location in version 2\n",
       "        IPython.keyboard_manager.register_events(el);\n",
       "    }\n",
       "};\n",
       "\n",
       "mpl.figure.prototype._key_event_extra = function (event, _name) {\n",
       "    // Check for shift+enter\n",
       "    if (event.shiftKey && event.which === 13) {\n",
       "        this.canvas_div.blur();\n",
       "        // select the cell after this one\n",
       "        var index = IPython.notebook.find_cell_index(this.cell_info[0]);\n",
       "        IPython.notebook.select(index + 1);\n",
       "    }\n",
       "};\n",
       "\n",
       "mpl.figure.prototype.handle_save = function (fig, _msg) {\n",
       "    fig.ondownload(fig, null);\n",
       "};\n",
       "\n",
       "mpl.find_output_cell = function (html_output) {\n",
       "    // Return the cell and output element which can be found *uniquely* in the notebook.\n",
       "    // Note - this is a bit hacky, but it is done because the \"notebook_saving.Notebook\"\n",
       "    // IPython event is triggered only after the cells have been serialised, which for\n",
       "    // our purposes (turning an active figure into a static one), is too late.\n",
       "    var cells = IPython.notebook.get_cells();\n",
       "    var ncells = cells.length;\n",
       "    for (var i = 0; i < ncells; i++) {\n",
       "        var cell = cells[i];\n",
       "        if (cell.cell_type === 'code') {\n",
       "            for (var j = 0; j < cell.output_area.outputs.length; j++) {\n",
       "                var data = cell.output_area.outputs[j];\n",
       "                if (data.data) {\n",
       "                    // IPython >= 3 moved mimebundle to data attribute of output\n",
       "                    data = data.data;\n",
       "                }\n",
       "                if (data['text/html'] === html_output) {\n",
       "                    return [cell, data, j];\n",
       "                }\n",
       "            }\n",
       "        }\n",
       "    }\n",
       "};\n",
       "\n",
       "// Register the function which deals with the matplotlib target/channel.\n",
       "// The kernel may be null if the page has been refreshed.\n",
       "if (IPython.notebook.kernel !== null) {\n",
       "    IPython.notebook.kernel.comm_manager.register_target(\n",
       "        'matplotlib',\n",
       "        mpl.mpl_figure_comm\n",
       "    );\n",
       "}\n"
      ],
      "text/plain": [
       "<IPython.core.display.Javascript object>"
      ]
     },
     "metadata": {},
     "output_type": "display_data"
    },
    {
     "data": {
      "text/html": [
       "<img src=\"data:image/png;base64,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\" width=\"900\">"
      ],
      "text/plain": [
       "<IPython.core.display.HTML object>"
      ]
     },
     "metadata": {},
     "output_type": "display_data"
    }
   ],
   "source": [
    "colors = ['blue', 'orange', 'green', 'red', 'pink']\n",
    "fig, ax = plt.subplots()\n",
    "fig.set_size_inches(9, 4, forward=True)\n",
    "\n",
    "ax.set_xlim(xlims_lower[nr_of_experiment-1], xlims_upper[nr_of_experiment-1])\n",
    "ax.set_ylim(None, ylims_upper[nr_of_experiment-1])\n",
    "ax.get_yaxis().set_visible(False)\n",
    "\n",
    "ax.spines['top'].set_visible(False)\n",
    "ax.spines['right'].set_visible(False)\n",
    "ax.spines['bottom'].set_visible(False)\n",
    "ax.spines['left'].set_visible(False)\n",
    "\n",
    "\n",
    "plt.xlabel(chr(0x00b9)+'H, ppm', fontsize=15, labelpad=5)\n",
    "#plt.ylabel('Relative intensity', fontsize=15, labelpad=10)\n",
    "\n",
    "for i, name in enumerate(names_components_up_to):\n",
    "    ax.plot(ppm, globals()[name], alpha=1.0, color = colors[i], \n",
    "            label=components_dictionary['experiment_'+str(nr_of_experiment)][i])\n",
    "    if i==0:\n",
    "        ax.fill_between(ppm, 0, globals()[name], color=colors[0], alpha=1.0)\n",
    "    else:\n",
    "        predecessor = name[:-1]+str(i)\n",
    "        ax.fill_between(ppm, globals()[predecessor] , globals()[name], color=colors[i], alpha=1.0)\n",
    "ax.plot(ppm, mix_without_noise, color='black', alpha=1.0, label='Mixture', linewidth=0.5)\n",
    "#ax.legend(prop={'size': 12}, loc='upper right')\n",
    "ax.invert_xaxis()\n",
    "plt.tight_layout()\n",
    "plt.savefig(os.getcwd()+'/spectra_visualisation/experiment'+str(nr_of_experiment)+'.jpg', dpi=300)"
   ]
  },
  {
   "cell_type": "code",
   "execution_count": 61,
   "id": "c5f29582",
   "metadata": {},
   "outputs": [
    {
     "data": {
      "text/plain": [
       "0.011912657051999995"
      ]
     },
     "execution_count": 61,
     "metadata": {},
     "output_type": "execute_result"
    }
   ],
   "source": [
    "estimation_vis['proportion_of_noise_in_theoretical']"
   ]
  },
  {
   "cell_type": "code",
   "execution_count": 62,
   "id": "06f95f58",
   "metadata": {},
   "outputs": [
    {
     "data": {
      "text/plain": [
       "1.0004219674897286e-12"
      ]
     },
     "execution_count": 62,
     "metadata": {},
     "output_type": "execute_result"
    }
   ],
   "source": [
    "1-sum(estimation_vis['proportions'])"
   ]
  },
  {
   "cell_type": "code",
   "execution_count": null,
   "id": "0cf1ca0b",
   "metadata": {},
   "outputs": [],
   "source": []
  }
 ],
 "metadata": {
  "kernelspec": {
   "display_name": "Python 3 (ipykernel)",
   "language": "python",
   "name": "python3"
  },
  "language_info": {
   "codemirror_mode": {
    "name": "ipython",
    "version": 3
   },
   "file_extension": ".py",
   "mimetype": "text/x-python",
   "name": "python",
   "nbconvert_exporter": "python",
   "pygments_lexer": "ipython3",
   "version": "3.10.6"
  }
 },
 "nbformat": 4,
 "nbformat_minor": 5
}
