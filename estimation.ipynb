{
 "cells": [
  {
   "cell_type": "markdown",
   "id": "2278c778",
   "metadata": {},
   "source": [
    "### Settings & imports"
   ]
  },
  {
   "cell_type": "code",
   "execution_count": 1,
   "id": "52249722",
   "metadata": {},
   "outputs": [],
   "source": [
    "%matplotlib notebook"
   ]
  },
  {
   "cell_type": "code",
   "execution_count": 2,
   "id": "6af4ae0a",
   "metadata": {},
   "outputs": [],
   "source": [
    "import sys\n",
    "mypath = \"/home/basia/Documents/spectroscopy/wassersteinms\"\n",
    "sys.path.insert(0, mypath)\n",
    "import masserstein "
   ]
  },
  {
   "cell_type": "code",
   "execution_count": 3,
   "id": "55f0baff",
   "metadata": {},
   "outputs": [],
   "source": [
    "import os\n",
    "\n",
    "from masserstein import Spectrum, NMRSpectrum\n",
    "from masserstein import estimate_proportions\n",
    "\n",
    "from matplotlib import pyplot as plt\n",
    "\n",
    "import numpy as np\n",
    "\n",
    "import pulp\n",
    "\n",
    "import pickle\n",
    "\n",
    "import seaborn as sns\n",
    "from textwrap import wrap\n",
    "\n",
    "from pathlib import Path\n",
    "\n",
    "import pandas as pd\n",
    "\n",
    "import time"
   ]
  },
  {
   "cell_type": "code",
   "execution_count": 4,
   "id": "87bb9eea",
   "metadata": {},
   "outputs": [],
   "source": [
    "nr_of_experiment = 9"
   ]
  },
  {
   "cell_type": "markdown",
   "id": "e7c66ece",
   "metadata": {},
   "source": [
    "### Experiments data"
   ]
  },
  {
   "cell_type": "code",
   "execution_count": 5,
   "id": "8ac155e9",
   "metadata": {},
   "outputs": [],
   "source": [
    "components_dictionary = {'experiment_1': ['Pinene', 'Benzyl benzoate'],\n",
    "                        'experiment_2': ['Pinene', 'Limonene'],\n",
    "                        'experiment_7': ['Benzyl benzoate', 'm Anisaldehyde'],\n",
    "                        'experiment_3': ['Isopropyl myristate', 'Benzyl benzoate', 'Alpha pinene', 'Limonene'],\n",
    "                        'experiment_6': ['Pinene', 'Benzyl benzoate'],\n",
    "                        'experiment_5': ['Lactate', 'Alanine', 'Creatine', 'Creatinine', 'Choline chloride'],\n",
    "                        'experiment_9': ['Lactate', 'Alanine', 'Creatine', 'Creatinine', 'Choline chloride'],\n",
    "                        'experiment_4': ['Lactate', 'Alanine', 'Creatine', 'Creatinine', 'Choline chloride'],\n",
    "                        'experiment_8': ['Benzyl benzoate', 'm Anisaldehyde']}"
   ]
  },
  {
   "cell_type": "code",
   "execution_count": 6,
   "id": "dbafb3dd",
   "metadata": {},
   "outputs": [],
   "source": [
    "protons_dictionary = {'experiment_1': [16, 12],\n",
    "                        'experiment_2': [16, 16],\n",
    "                        'experiment_7': [12, 8],\n",
    "                        'experiment_3': [34, 12, 16, 16],\n",
    "                        'experiment_6': [16, 12],\n",
    "                        'experiment_5': [4, 4, 5, 5, 13],\n",
    "                        'experiment_9': [4, 4, 5, 5, 13],\n",
    "                        'experiment_4': [4, 4, 5, 5, 13],\n",
    "                        'experiment_8': [12, 8]}"
   ]
  },
  {
   "cell_type": "code",
   "execution_count": 7,
   "id": "703c5272",
   "metadata": {},
   "outputs": [],
   "source": [
    "ground_truth_molar_proportions = {'experiment_1': [0.09088457406472417, 0.9091154259352758],\n",
    "                                    'experiment_2': [0.505, 0.495],\n",
    "                                    'experiment_7': [0.8403875207510383, 0.1596124792489616],\n",
    "                                    'experiment_3': [0.7264578344443725, 0.10578603326645526, 0.081968804608116, 0.08578732768105625],\n",
    "                                    'experiment_6': [0.3865, 0.6135],\n",
    "                                    'experiment_5': [0.3022, 0.2240, 0.1253, 0.2028, 0.1457],\n",
    "                                    'experiment_9': [0.3022, 0.2240, 0.1253, 0.2028, 0.1457],\n",
    "                                    'experiment_4': [0.3022, 0.2240, 0.1253, 0.2028, 0.1457],\n",
    "                                    'experiment_8': [0.3702, 0.6298]}"
   ]
  },
  {
   "cell_type": "code",
   "execution_count": 8,
   "id": "2f07ffaf",
   "metadata": {},
   "outputs": [],
   "source": [
    "experiments_folders = {'experiment_1': 'experiment_1_intensity_difference',\n",
    "                        'experiment_6': 'experiment_6_miniperfumes',\n",
    "                        'experiment_5': 'experiment_5_metabolites',\n",
    "                         'experiment_7': 'experiment_7_overlapping_and_intensity_difference',\n",
    "                         'experiment_9': 'experiment_9_and_4_shim',\n",
    "                       'experiment_4': 'experiment_9_and_4_shim',\n",
    "                        'experiment_8': 'experiment_8_different_solvents',\n",
    "                        'experiment_3': 'experiment_3_perfumes_and_absent_components',\n",
    "                         'experiment_2': 'experiment_2_overlapping'}"
   ]
  },
  {
   "cell_type": "code",
   "execution_count": 9,
   "id": "5c15336b",
   "metadata": {},
   "outputs": [],
   "source": [
    "best_kappa_mix = [0.09, 0.05, 0.37, 0.11, 0.03, 0.06, 0.23, 0.2, 0.05]"
   ]
  },
  {
   "cell_type": "code",
   "execution_count": 10,
   "id": "53eb8b54",
   "metadata": {},
   "outputs": [],
   "source": [
    "best_kappa_model = [0.08, 0.01, 0.24, 0.02, 0.09, 0.2, 0.02, 0.29, 0.02]"
   ]
  },
  {
   "cell_type": "markdown",
   "id": "e84eddc3",
   "metadata": {},
   "source": [
    "### Loading the data"
   ]
  },
  {
   "cell_type": "code",
   "execution_count": 11,
   "id": "a16bd1b8",
   "metadata": {},
   "outputs": [],
   "source": [
    "if (nr_of_experiment != 9 and nr_of_experiment != 4):\n",
    "    filename = experiments_folders['experiment_' + str(nr_of_experiment)] + '/preprocessed_mix.csv'\n",
    "    mix = np.loadtxt(filename, delimiter=',')\n",
    "else:\n",
    "    filename = experiments_folders['experiment_' + str(nr_of_experiment)] + '/preprocessed_exp'+str(nr_of_experiment)+'_mix.csv'\n",
    "    mix = np.loadtxt(filename, delimiter=',')"
   ]
  },
  {
   "cell_type": "code",
   "execution_count": 12,
   "id": "67c8aeb3",
   "metadata": {},
   "outputs": [],
   "source": [
    "how_many_components = len(components_dictionary['experiment_'+str(nr_of_experiment)])\n",
    "names = ['comp' + str(i) for i in range(how_many_components)]"
   ]
  },
  {
   "cell_type": "code",
   "execution_count": 13,
   "id": "4d402de1",
   "metadata": {},
   "outputs": [],
   "source": [
    "spectra = []\n",
    "for i in range(how_many_components):\n",
    "    if (nr_of_experiment != 9 and nr_of_experiment != 4):\n",
    "        filename = experiments_folders['experiment_' + str(nr_of_experiment)] + \\\n",
    "                    '/preprocessed_comp' + str(i) + '.csv'\n",
    "        spectra.append(np.loadtxt(filename, delimiter=','))\n",
    "    else:\n",
    "        filename = experiments_folders['experiment_' + str(nr_of_experiment)] + \\\n",
    "                    '/preprocessed_exp'+str(nr_of_experiment)+ '_comp'+ str(i) + '.csv'\n",
    "        spectra.append(np.loadtxt(filename, delimiter=','))"
   ]
  },
  {
   "cell_type": "code",
   "execution_count": 14,
   "id": "f68d15b6",
   "metadata": {},
   "outputs": [],
   "source": [
    "spectra2 = []\n",
    "names = []\n",
    "for i in range(len(spectra)):\n",
    "    spectra2.append(NMRSpectrum(confs=list(zip(spectra[i][:,0], spectra[i][:,1])), \n",
    "                                protons=protons_dictionary['experiment_'+str(nr_of_experiment)][i]))\n",
    "    names.append('comp'+str(i))\n",
    "\n",
    "spectra = spectra2\n",
    "del(spectra2)\n",
    "mix = NMRSpectrum(confs=list(zip(mix[:,0], mix[:,1])))"
   ]
  },
  {
   "cell_type": "code",
   "execution_count": 15,
   "id": "066513a3",
   "metadata": {},
   "outputs": [],
   "source": [
    "for i, name in enumerate(names):\n",
    "    globals()[name] = spectra[i]"
   ]
  },
  {
   "cell_type": "code",
   "execution_count": 16,
   "id": "ac6d46ac",
   "metadata": {},
   "outputs": [],
   "source": [
    "# mix.plot(profile=True)\n",
    "# for sp in spectra:\n",
    "#     sp.plot(profile=True)"
   ]
  },
  {
   "cell_type": "markdown",
   "id": "ab9cc65b",
   "metadata": {},
   "source": [
    "### Estimation with default kappas"
   ]
  },
  {
   "cell_type": "code",
   "execution_count": 17,
   "id": "fa502e5c",
   "metadata": {},
   "outputs": [],
   "source": [
    "default_MTD = 0.25\n",
    "default_MTD_th = 0.22"
   ]
  },
  {
   "cell_type": "code",
   "execution_count": 18,
   "id": "b555024a",
   "metadata": {},
   "outputs": [
    {
     "name": "stdout",
     "output_type": "stream",
     "text": [
      "Set parameter Username\n",
      "Academic license - for non-commercial use only - expires 2023-11-10\n"
     ]
    },
    {
     "name": "stderr",
     "output_type": "stream",
     "text": [
      "Initial filtering of formulas: 100%|█████████████| 5/5 [00:00<00:00, 144.44it/s]\n"
     ]
    },
    {
     "name": "stdout",
     "output_type": "stream",
     "text": [
      "Removed theoretical spectra due to no matching experimental peaks: []\n",
      "Envelope bounds: [(0.827366, 4.1272, 0), (0.827366, 4.1272, 1), (0.827366, 4.1272, 2), (0.827366, 4.1272, 3), (0.827366, 4.1272, 4)]\n"
     ]
    },
    {
     "name": "stderr",
     "output_type": "stream",
     "text": [
      "Computing chunks: 100%|███████████████████████| 5/5 [00:00<00:00, 114598.47it/s]\n"
     ]
    },
    {
     "name": "stdout",
     "output_type": "stream",
     "text": [
      "Number of chunks: 1\n",
      "ChunkIDs: [0, 0, 0, 0, 0]\n",
      "Chunk bounds: [(0.577366, 4.3772)]\n"
     ]
    },
    {
     "name": "stderr",
     "output_type": "stream",
     "text": [
      "Splitting the experimental spectrum into chunks: 27129it [00:00, 1518520.19it/s]\n"
     ]
    },
    {
     "name": "stdout",
     "output_type": "stream",
     "text": [
      "Ion currents in chunks: [1.0000000000000013]\n"
     ]
    },
    {
     "name": "stderr",
     "output_type": "stream",
     "text": [
      "\r",
      "Deconvolving chunks:   0%|                                | 0/1 [00:00<?, ?it/s]"
     ]
    },
    {
     "name": "stdout",
     "output_type": "stream",
     "text": [
      "Deconvolving chunk 0\n"
     ]
    },
    {
     "name": "stderr",
     "output_type": "stream",
     "text": [
      "/home/basia/.local/lib/python3.10/site-packages/pulp/pulp.py:1352: UserWarning: Spaces are not permitted in the name. Converted to '_'\n",
      "  warnings.warn(\"Spaces are not permitted in the name. Converted to '_'\")\n",
      "Deconvolving chunks: 100%|████████████████████████| 1/1 [00:20<00:00, 20.68s/it]"
     ]
    },
    {
     "name": "stdout",
     "output_type": "stream",
     "text": [
      "Chunk %i deconvolution status: Optimal\n",
      "Signal proportion in experimental spectrum: 1.0\n",
      "Noise proportion in experimental spectrum: 0.0\n",
      "Total explanation: 1.0\n",
      "Noise proportion in combination of theoretical spectra: 0.012982665978\n"
     ]
    },
    {
     "name": "stderr",
     "output_type": "stream",
     "text": [
      "\n"
     ]
    }
   ],
   "source": [
    "start_vis = time.time()\n",
    "estimation_vis = estimate_proportions(mix, spectra,\n",
    "                                        MTD=default_MTD, \n",
    "                                        MTD_th=default_MTD_th,\n",
    "                                        verbose=True, solver=pulp.GUROBI(msg=False), \n",
    "                                        what_to_compare='area')\n",
    "stop_vis = time.time()"
   ]
  },
  {
   "cell_type": "code",
   "execution_count": 19,
   "id": "aaa68541",
   "metadata": {},
   "outputs": [
    {
     "data": {
      "text/plain": [
       "[0.2277171004750003,\n",
       " 0.15221241158600018,\n",
       " 0.11933757262300015,\n",
       " 0.17611442219200021,\n",
       " 0.32461849312400043]"
      ]
     },
     "execution_count": 19,
     "metadata": {},
     "output_type": "execute_result"
    }
   ],
   "source": [
    "estimation_vis['proportions']"
   ]
  },
  {
   "cell_type": "code",
   "execution_count": 20,
   "id": "ffacb9e2",
   "metadata": {},
   "outputs": [
    {
     "data": {
      "text/plain": [
       "0.012982665978000017"
      ]
     },
     "execution_count": 20,
     "metadata": {},
     "output_type": "execute_result"
    }
   ],
   "source": [
    "estimation_vis['proportion_of_noise_in_theoretical']"
   ]
  },
  {
   "cell_type": "code",
   "execution_count": 21,
   "id": "33b21a28",
   "metadata": {},
   "outputs": [
    {
     "data": {
      "text/plain": [
       "-1.3322676295501878e-15"
      ]
     },
     "execution_count": 21,
     "metadata": {},
     "output_type": "execute_result"
    }
   ],
   "source": [
    "1 - sum(estimation_vis['proportions'])"
   ]
  },
  {
   "cell_type": "code",
   "execution_count": 24,
   "id": "405bd6cb",
   "metadata": {},
   "outputs": [
    {
     "name": "stdout",
     "output_type": "stream",
     "text": [
      "Estimation took 265.95554876327515 seconds.\n"
     ]
    }
   ],
   "source": [
    "print('Estimation took '+ str(stop_vis-start_vis) + ' seconds.')"
   ]
  },
  {
   "cell_type": "code",
   "execution_count": 18,
   "id": "3114bfae",
   "metadata": {},
   "outputs": [
    {
     "name": "stdout",
     "output_type": "stream",
     "text": [
      "Set parameter Username\n",
      "Academic license - for non-commercial use only - expires 2023-11-10\n"
     ]
    },
    {
     "name": "stderr",
     "output_type": "stream",
     "text": [
      "Initial filtering of formulas: 100%|██████████████| 2/2 [00:00<00:00, 64.33it/s]\n"
     ]
    },
    {
     "name": "stdout",
     "output_type": "stream",
     "text": [
      "Removed theoretical spectra due to no matching experimental peaks: []\n",
      "Envelope bounds: [(-1.97165, 13.9718, 0), (-1.97165, 13.9718, 1)]\n"
     ]
    },
    {
     "name": "stderr",
     "output_type": "stream",
     "text": [
      "Computing chunks: 100%|████████████████████████| 2/2 [00:00<00:00, 93206.76it/s]\n"
     ]
    },
    {
     "name": "stdout",
     "output_type": "stream",
     "text": [
      "Number of chunks: 1\n",
      "ChunkIDs: [0, 0]\n",
      "Chunk bounds: [(-2.22165, 14.2218)]\n"
     ]
    },
    {
     "name": "stderr",
     "output_type": "stream",
     "text": [
      "Splitting the experimental spectrum into chunks: 131072it [00:00, 3747253.50it/s]\n"
     ]
    },
    {
     "name": "stdout",
     "output_type": "stream",
     "text": [
      "Ion currents in chunks: [1.0000000000000042]\n"
     ]
    },
    {
     "name": "stderr",
     "output_type": "stream",
     "text": [
      "\r",
      "Deconvolving chunks:   0%|                                | 0/1 [00:00<?, ?it/s]"
     ]
    },
    {
     "name": "stdout",
     "output_type": "stream",
     "text": [
      "Deconvolving chunk 0\n"
     ]
    },
    {
     "name": "stderr",
     "output_type": "stream",
     "text": [
      "/home/basia/.local/lib/python3.10/site-packages/pulp/pulp.py:1352: UserWarning: Spaces are not permitted in the name. Converted to '_'\n",
      "  warnings.warn(\"Spaces are not permitted in the name. Converted to '_'\")\n",
      "Deconvolving chunks: 100%|███████████████████████| 1/1 [02:50<00:00, 170.42s/it]"
     ]
    },
    {
     "name": "stdout",
     "output_type": "stream",
     "text": [
      "Chunk %i deconvolution status: Optimal\n",
      "Signal proportion in experimental spectrum: 0.9898630249\n",
      "Noise proportion in experimental spectrum: 0.010136975092999989\n",
      "Total explanation: 0.999999999993\n",
      "Noise proportion in combination of theoretical spectra: 0.013677671283\n"
     ]
    },
    {
     "name": "stderr",
     "output_type": "stream",
     "text": [
      "\n"
     ]
    }
   ],
   "source": [
    "start_con = time.time()\n",
    "estimation_molar = estimate_proportions(mix, spectra,\n",
    "                                        MTD=default_MTD, \n",
    "                                        MTD_th=default_MTD_th,\n",
    "                                        verbose=True, solver=pulp.GUROBI(msg=False), \n",
    "                                        what_to_compare='concentration')\n",
    "stop_con = time.time()"
   ]
  },
  {
   "cell_type": "code",
   "execution_count": 19,
   "id": "6395dac8",
   "metadata": {},
   "outputs": [
    {
     "data": {
      "text/plain": [
       "{'proportions': [0.0936759579726857, 0.9063240420273143],\n",
       " 'Wasserstein distance': 0.020144494451744988}"
      ]
     },
     "execution_count": 19,
     "metadata": {},
     "output_type": "execute_result"
    }
   ],
   "source": [
    "estimation_molar"
   ]
  },
  {
   "cell_type": "code",
   "execution_count": 20,
   "id": "463a640c",
   "metadata": {},
   "outputs": [
    {
     "name": "stdout",
     "output_type": "stream",
     "text": [
      "Estimation took 170.53412175178528 seconds.\n"
     ]
    }
   ],
   "source": [
    "print('Estimation took '+ str(stop_con-start_con) + ' seconds.')"
   ]
  },
  {
   "cell_type": "code",
   "execution_count": 25,
   "id": "2e48d69e",
   "metadata": {},
   "outputs": [],
   "source": [
    "# #MTD = 0.25, MTD_th = 0.22\n",
    "\n",
    "# #1: 'Pinene', 'Benzyl benzoate'\n",
    "# 0.0937, 0.9063\n",
    "\n",
    "# #2: 'Pinene', 'Limonene'\n",
    "# 0.5240, 0.4760\n",
    "\n",
    "# #3: 'Isopropyl myristate', 'Benzyl benzoate', 'Alpha pinene', 'Limonene'\n",
    "# 0.7511, 0.1059, 0.0809, 0.0621\n",
    "\n",
    "# #4: 'Lactate', 'Alanine', 'Creatine', 'Creatinine', 'Choline chloride'\n",
    "# 0.3165, 0.2137, 0.1341, 0.1960, 0.1397\n",
    "\n",
    "# #5: 'Lactate', 'Alanine', 'Creatine', 'Creatinine', 'Choline chloride'\n",
    "# 0.3180, 0.2113, 0.1293, 0.2018, 0.1397\n",
    "\n",
    "# #6: 'Pinene', 'Benzyl benzoate'\n",
    "# 0.3931, 0.6069\n",
    "\n",
    "# #7: 'Benzyl benzoate', 'm Anisaldehyde'\n",
    "# 0.8428, 0.1572\n",
    "\n",
    "# #8: 'Benzyl benzoate', 'm Anisaldehyde'\n",
    "# 0.3762, 0.6238\n",
    "\n",
    "# #9: Lactate', 'Alanine', 'Creatine', 'Creatinine', 'Choline chloride'\n",
    "# 0.3180, 0.2125, 0.1333, 0.1967, 0.1395"
   ]
  },
  {
   "cell_type": "markdown",
   "id": "e81953cc",
   "metadata": {},
   "source": [
    "#### Saving results of estimation with default parameters"
   ]
  },
  {
   "cell_type": "code",
   "execution_count": 26,
   "id": "b013e53e",
   "metadata": {},
   "outputs": [
    {
     "data": {
      "text/html": [
       "<div>\n",
       "<style scoped>\n",
       "    .dataframe tbody tr th:only-of-type {\n",
       "        vertical-align: middle;\n",
       "    }\n",
       "\n",
       "    .dataframe tbody tr th {\n",
       "        vertical-align: top;\n",
       "    }\n",
       "\n",
       "    .dataframe thead th {\n",
       "        text-align: right;\n",
       "    }\n",
       "</style>\n",
       "<table border=\"1\" class=\"dataframe\">\n",
       "  <thead>\n",
       "    <tr style=\"text-align: right;\">\n",
       "      <th></th>\n",
       "      <th>Lactate</th>\n",
       "      <th>Alanine</th>\n",
       "      <th>Creatine</th>\n",
       "      <th>Creatinine</th>\n",
       "      <th>Choline chloride</th>\n",
       "    </tr>\n",
       "  </thead>\n",
       "  <tbody>\n",
       "    <tr>\n",
       "      <th>0</th>\n",
       "      <td>0.227601</td>\n",
       "      <td>0.151269</td>\n",
       "      <td>0.115668</td>\n",
       "      <td>0.180571</td>\n",
       "      <td>0.324891</td>\n",
       "    </tr>\n",
       "  </tbody>\n",
       "</table>\n",
       "</div>"
      ],
      "text/plain": [
       "    Lactate   Alanine  Creatine  Creatinine  Choline chloride\n",
       "0  0.227601  0.151269  0.115668    0.180571          0.324891"
      ]
     },
     "execution_count": 26,
     "metadata": {},
     "output_type": "execute_result"
    }
   ],
   "source": [
    "res_vis = pd.DataFrame(np.array(estimation_vis['proportions']).reshape(1,-1), \n",
    "             columns = components_dictionary['experiment_'+str(nr_of_experiment)])\n",
    "res_vis"
   ]
  },
  {
   "cell_type": "code",
   "execution_count": 27,
   "id": "6335e47a",
   "metadata": {},
   "outputs": [
    {
     "data": {
      "text/html": [
       "<div>\n",
       "<style scoped>\n",
       "    .dataframe tbody tr th:only-of-type {\n",
       "        vertical-align: middle;\n",
       "    }\n",
       "\n",
       "    .dataframe tbody tr th {\n",
       "        vertical-align: top;\n",
       "    }\n",
       "\n",
       "    .dataframe thead th {\n",
       "        text-align: right;\n",
       "    }\n",
       "</style>\n",
       "<table border=\"1\" class=\"dataframe\">\n",
       "  <thead>\n",
       "    <tr style=\"text-align: right;\">\n",
       "      <th></th>\n",
       "      <th>Lactate</th>\n",
       "      <th>Alanine</th>\n",
       "      <th>Creatine</th>\n",
       "      <th>Creatinine</th>\n",
       "      <th>Choline chloride</th>\n",
       "    </tr>\n",
       "  </thead>\n",
       "  <tbody>\n",
       "    <tr>\n",
       "      <th>0</th>\n",
       "      <td>0.317956</td>\n",
       "      <td>0.21132</td>\n",
       "      <td>0.129269</td>\n",
       "      <td>0.201804</td>\n",
       "      <td>0.139652</td>\n",
       "    </tr>\n",
       "  </tbody>\n",
       "</table>\n",
       "</div>"
      ],
      "text/plain": [
       "    Lactate  Alanine  Creatine  Creatinine  Choline chloride\n",
       "0  0.317956  0.21132  0.129269    0.201804          0.139652"
      ]
     },
     "execution_count": 27,
     "metadata": {},
     "output_type": "execute_result"
    }
   ],
   "source": [
    "res_con = pd.DataFrame(np.array(estimation_molar['proportions']).reshape(1,-1), \n",
    "             columns = components_dictionary['experiment_'+str(nr_of_experiment)])\n",
    "res_con"
   ]
  },
  {
   "cell_type": "code",
   "execution_count": 28,
   "id": "86e782c9",
   "metadata": {},
   "outputs": [],
   "source": [
    "# if (nr_of_experiment != 9 and nr_of_experiment != 4):\n",
    "#     res_vis.to_csv(experiments_folders['experiment_' + str(nr_of_experiment)]+\n",
    "#                    '/results_area_default_parameters.csv')\n",
    "# else:\n",
    "#     res_vis.to_csv(experiments_folders['experiment_' + str(nr_of_experiment)]+\n",
    "#                    '/results_area__default_parameters_exp'+str(nr_of_experiment)+'.csv')"
   ]
  },
  {
   "cell_type": "code",
   "execution_count": 29,
   "id": "61b26555",
   "metadata": {},
   "outputs": [],
   "source": [
    "# if (nr_of_experiment != 9 and nr_of_experiment != 4):\n",
    "#     res_con.to_csv(experiments_folders['experiment_' + str(nr_of_experiment)]+\n",
    "#                '/results_concentration_default_parameters.csv')\n",
    "# else:\n",
    "#     res_con.to_csv(experiments_folders['experiment_' + str(nr_of_experiment)]+\n",
    "#                '/results_concentration_default_parameters_exp'+str(nr_of_experiment)+'.csv')"
   ]
  },
  {
   "cell_type": "code",
   "execution_count": 22,
   "id": "f136050f",
   "metadata": {},
   "outputs": [],
   "source": [
    "# comp_noise = np.array(estimation_vis['proportion_of_noise_in_theoretical']).reshape(-1)\n",
    "# if (nr_of_experiment != 9 and nr_of_experiment != 4):\n",
    "#     np.savetxt(experiments_folders['experiment_' + \\\n",
    "#                                     str(nr_of_experiment)] + \\\n",
    "#                                     '/proportion_of_noise_in_comp'+ \\\n",
    "#                                     '_default_parameters.csv',\n",
    "#                                       comp_noise)\n",
    "# else:\n",
    "#     np.savetxt(experiments_folders['experiment_' + \\\n",
    "#                                     str(nr_of_experiment)] + \\\n",
    "#                                     '/proportion_of_noise_in_comp'+ \\\n",
    "#                                     '_exp' + str(nr_of_experiment) + \\\n",
    "#                                     '_default_parameters.csv',\n",
    "#                                       comp_noise)"
   ]
  },
  {
   "cell_type": "code",
   "execution_count": 23,
   "id": "053f2e6a",
   "metadata": {},
   "outputs": [],
   "source": [
    "# mix_noise = np.array(1 - sum(estimation_vis['proportions'])).reshape(-1)\n",
    "# if (nr_of_experiment != 9 and nr_of_experiment != 4):\n",
    "#     np.savetxt(experiments_folders['experiment_' + \\\n",
    "#                                     str(nr_of_experiment)] + \\\n",
    "#                                     '/proportion_of_noise_in_mix'+ \\\n",
    "#                                     '_default_parameters.csv',\n",
    "#                                       mix_noise)\n",
    "# else:\n",
    "#     np.savetxt(experiments_folders['experiment_' + \\\n",
    "#                                     str(nr_of_experiment)] + \\\n",
    "#                                     '/proportion_of_noise_in_mix'+ \\\n",
    "#                                     '_exp' + str(nr_of_experiment) + \\\n",
    "#                                     '_default_parameters.csv',\n",
    "#                                       comp_noise)"
   ]
  },
  {
   "cell_type": "markdown",
   "id": "31df385c",
   "metadata": {},
   "source": [
    "### Estimation"
   ]
  },
  {
   "cell_type": "code",
   "execution_count": 30,
   "id": "d44ebf2f",
   "metadata": {},
   "outputs": [
    {
     "name": "stderr",
     "output_type": "stream",
     "text": [
      "Initial filtering of formulas: 100%|█████████████| 5/5 [00:00<00:00, 144.11it/s]\n"
     ]
    },
    {
     "name": "stdout",
     "output_type": "stream",
     "text": [
      "Removed theoretical spectra due to no matching experimental peaks: []\n",
      "Envelope bounds: [(0.80732, 4.107280000000001, 0), (0.80732, 4.107280000000001, 1), (0.80732, 4.107280000000001, 2), (0.80732, 4.107280000000001, 3), (0.80732, 4.107280000000001, 4)]\n"
     ]
    },
    {
     "name": "stderr",
     "output_type": "stream",
     "text": [
      "Computing chunks: 100%|███████████████████████| 5/5 [00:00<00:00, 209715.20it/s]\n"
     ]
    },
    {
     "name": "stdout",
     "output_type": "stream",
     "text": [
      "Number of chunks: 1\n",
      "ChunkIDs: [0, 0, 0, 0, 0]\n",
      "Chunk bounds: [(0.7173200000000001, 4.197280000000001)]\n"
     ]
    },
    {
     "name": "stderr",
     "output_type": "stream",
     "text": [
      "Splitting the experimental spectrum into chunks: 54259it [00:00, 3259646.51it/s]\n"
     ]
    },
    {
     "name": "stdout",
     "output_type": "stream",
     "text": [
      "Ion currents in chunks: [0.9999999999999941]\n"
     ]
    },
    {
     "name": "stderr",
     "output_type": "stream",
     "text": [
      "\r",
      "Deconvolving chunks:   0%|                                | 0/1 [00:00<?, ?it/s]"
     ]
    },
    {
     "name": "stdout",
     "output_type": "stream",
     "text": [
      "Deconvolving chunk 0\n"
     ]
    },
    {
     "name": "stderr",
     "output_type": "stream",
     "text": [
      "/home/basia/.local/lib/python3.10/site-packages/pulp/pulp.py:1352: UserWarning: Spaces are not permitted in the name. Converted to '_'\n",
      "  warnings.warn(\"Spaces are not permitted in the name. Converted to '_'\")\n",
      "Deconvolving chunks: 100%|████████████████████████| 1/1 [00:45<00:00, 45.65s/it]"
     ]
    },
    {
     "name": "stdout",
     "output_type": "stream",
     "text": [
      "Chunk %i deconvolution status: Optimal\n",
      "Signal proportion in experimental spectrum: 0.986165643791\n",
      "Noise proportion in experimental spectrum: 0.013834356208999995\n",
      "Total explanation: 1.0\n",
      "Noise proportion in combination of theoretical spectra: 0.015281259506\n"
     ]
    },
    {
     "name": "stderr",
     "output_type": "stream",
     "text": [
      "\n"
     ]
    }
   ],
   "source": [
    "start_vis_opt = time.time()\n",
    "estimation_vis_opt = estimate_proportions(mix, spectra,\n",
    "                                        MTD=best_kappa_mix[nr_of_experiment-1], \n",
    "                                        MTD_th=best_kappa_model[nr_of_experiment-1],\n",
    "                                        verbose=True, solver=pulp.GUROBI(msg=False), \n",
    "                                        what_to_compare='area')\n",
    "stop_vis_opt = time.time()"
   ]
  },
  {
   "cell_type": "code",
   "execution_count": 31,
   "id": "7c07657a",
   "metadata": {},
   "outputs": [
    {
     "name": "stdout",
     "output_type": "stream",
     "text": [
      "Estimation took 45.731362104415894 seconds.\n"
     ]
    }
   ],
   "source": [
    "print('Estimation took '+ str(stop_vis_opt-start_vis_opt) + ' seconds.')"
   ]
  },
  {
   "cell_type": "code",
   "execution_count": 32,
   "id": "c58f7242",
   "metadata": {},
   "outputs": [
    {
     "data": {
      "text/plain": [
       "[0.2147787636609987,\n",
       " 0.1514447914439991,\n",
       " 0.11514143271199932,\n",
       " 0.17965840774699895,\n",
       " 0.3251422482269981]"
      ]
     },
     "execution_count": 32,
     "metadata": {},
     "output_type": "execute_result"
    }
   ],
   "source": [
    "estimation_vis_opt['proportions']"
   ]
  },
  {
   "cell_type": "code",
   "execution_count": 33,
   "id": "f463c3dd",
   "metadata": {},
   "outputs": [
    {
     "data": {
      "text/plain": [
       "0.01528125950599991"
      ]
     },
     "execution_count": 33,
     "metadata": {},
     "output_type": "execute_result"
    }
   ],
   "source": [
    "estimation_vis_opt['proportion_of_noise_in_theoretical']"
   ]
  },
  {
   "cell_type": "code",
   "execution_count": 34,
   "id": "ca73a54f",
   "metadata": {},
   "outputs": [
    {
     "name": "stderr",
     "output_type": "stream",
     "text": [
      "Initial filtering of formulas: 100%|█████████████| 5/5 [00:00<00:00, 138.08it/s]\n"
     ]
    },
    {
     "name": "stdout",
     "output_type": "stream",
     "text": [
      "Removed theoretical spectra due to no matching experimental peaks: []\n",
      "Envelope bounds: [(0.80732, 4.107280000000001, 0), (0.80732, 4.107280000000001, 1), (0.80732, 4.107280000000001, 2), (0.80732, 4.107280000000001, 3), (0.80732, 4.107280000000001, 4)]\n"
     ]
    },
    {
     "name": "stderr",
     "output_type": "stream",
     "text": [
      "Computing chunks: 100%|███████████████████████| 5/5 [00:00<00:00, 207638.81it/s]\n"
     ]
    },
    {
     "name": "stdout",
     "output_type": "stream",
     "text": [
      "Number of chunks: 1\n",
      "ChunkIDs: [0, 0, 0, 0, 0]\n",
      "Chunk bounds: [(0.7173200000000001, 4.197280000000001)]\n"
     ]
    },
    {
     "name": "stderr",
     "output_type": "stream",
     "text": [
      "Splitting the experimental spectrum into chunks: 54259it [00:00, 3130467.70it/s]\n"
     ]
    },
    {
     "name": "stdout",
     "output_type": "stream",
     "text": [
      "Ion currents in chunks: [0.9999999999999941]\n"
     ]
    },
    {
     "name": "stderr",
     "output_type": "stream",
     "text": [
      "\r",
      "Deconvolving chunks:   0%|                                | 0/1 [00:00<?, ?it/s]"
     ]
    },
    {
     "name": "stdout",
     "output_type": "stream",
     "text": [
      "Deconvolving chunk 0\n"
     ]
    },
    {
     "name": "stderr",
     "output_type": "stream",
     "text": [
      "Deconvolving chunks: 100%|████████████████████████| 1/1 [00:45<00:00, 45.17s/it]"
     ]
    },
    {
     "name": "stdout",
     "output_type": "stream",
     "text": [
      "Chunk %i deconvolution status: Optimal\n",
      "Signal proportion in experimental spectrum: 0.986165643791\n",
      "Noise proportion in experimental spectrum: 0.013834356208999995\n",
      "Total explanation: 1.0\n",
      "Noise proportion in combination of theoretical spectra: 0.015281259506\n"
     ]
    },
    {
     "name": "stderr",
     "output_type": "stream",
     "text": [
      "\n"
     ]
    }
   ],
   "source": [
    "start_con_opt = time.time()\n",
    "estimation_molar_opt = estimate_proportions(mix, spectra,\n",
    "                                        MTD=best_kappa_mix[nr_of_experiment-1], \n",
    "                                        MTD_th=best_kappa_model[nr_of_experiment-1],\n",
    "                                        verbose=True, solver=pulp.GUROBI(msg=False), \n",
    "                                        what_to_compare='concentration')\n",
    "stop_con_opt = time.time()"
   ]
  },
  {
   "cell_type": "code",
   "execution_count": 35,
   "id": "655ff1b5",
   "metadata": {},
   "outputs": [
    {
     "name": "stdout",
     "output_type": "stream",
     "text": [
      "Estimation took 45.25510573387146 seconds.\n"
     ]
    }
   ],
   "source": [
    "print('Estimation took '+ str(stop_con_opt-start_con_opt) + ' seconds.')"
   ]
  },
  {
   "cell_type": "code",
   "execution_count": 36,
   "id": "354693e3",
   "metadata": {},
   "outputs": [
    {
     "data": {
      "text/plain": [
       "[0.3059059426202505,\n",
       " 0.21570038346401188,\n",
       " 0.1311952742739669,\n",
       " 0.20470766712576569,\n",
       " 0.14249073251600508]"
      ]
     },
     "execution_count": 36,
     "metadata": {},
     "output_type": "execute_result"
    }
   ],
   "source": [
    "estimation_molar_opt['proportions']"
   ]
  },
  {
   "cell_type": "markdown",
   "id": "304c1464",
   "metadata": {},
   "source": [
    "### Saving estimation results"
   ]
  },
  {
   "cell_type": "code",
   "execution_count": 37,
   "id": "54ac2c19",
   "metadata": {},
   "outputs": [
    {
     "data": {
      "text/html": [
       "<div>\n",
       "<style scoped>\n",
       "    .dataframe tbody tr th:only-of-type {\n",
       "        vertical-align: middle;\n",
       "    }\n",
       "\n",
       "    .dataframe tbody tr th {\n",
       "        vertical-align: top;\n",
       "    }\n",
       "\n",
       "    .dataframe thead th {\n",
       "        text-align: right;\n",
       "    }\n",
       "</style>\n",
       "<table border=\"1\" class=\"dataframe\">\n",
       "  <thead>\n",
       "    <tr style=\"text-align: right;\">\n",
       "      <th></th>\n",
       "      <th>Lactate</th>\n",
       "      <th>Alanine</th>\n",
       "      <th>Creatine</th>\n",
       "      <th>Creatinine</th>\n",
       "      <th>Choline chloride</th>\n",
       "    </tr>\n",
       "  </thead>\n",
       "  <tbody>\n",
       "    <tr>\n",
       "      <th>0</th>\n",
       "      <td>0.214779</td>\n",
       "      <td>0.151445</td>\n",
       "      <td>0.115141</td>\n",
       "      <td>0.179658</td>\n",
       "      <td>0.325142</td>\n",
       "    </tr>\n",
       "  </tbody>\n",
       "</table>\n",
       "</div>"
      ],
      "text/plain": [
       "    Lactate   Alanine  Creatine  Creatinine  Choline chloride\n",
       "0  0.214779  0.151445  0.115141    0.179658          0.325142"
      ]
     },
     "execution_count": 37,
     "metadata": {},
     "output_type": "execute_result"
    }
   ],
   "source": [
    "res_vis_opt = pd.DataFrame(np.array(estimation_vis_opt['proportions']).reshape(1,-1), \n",
    "             columns = components_dictionary['experiment_'+str(nr_of_experiment)])\n",
    "res_vis_opt"
   ]
  },
  {
   "cell_type": "code",
   "execution_count": 38,
   "id": "f7dbc5be",
   "metadata": {},
   "outputs": [
    {
     "data": {
      "text/html": [
       "<div>\n",
       "<style scoped>\n",
       "    .dataframe tbody tr th:only-of-type {\n",
       "        vertical-align: middle;\n",
       "    }\n",
       "\n",
       "    .dataframe tbody tr th {\n",
       "        vertical-align: top;\n",
       "    }\n",
       "\n",
       "    .dataframe thead th {\n",
       "        text-align: right;\n",
       "    }\n",
       "</style>\n",
       "<table border=\"1\" class=\"dataframe\">\n",
       "  <thead>\n",
       "    <tr style=\"text-align: right;\">\n",
       "      <th></th>\n",
       "      <th>Lactate</th>\n",
       "      <th>Alanine</th>\n",
       "      <th>Creatine</th>\n",
       "      <th>Creatinine</th>\n",
       "      <th>Choline chloride</th>\n",
       "    </tr>\n",
       "  </thead>\n",
       "  <tbody>\n",
       "    <tr>\n",
       "      <th>0</th>\n",
       "      <td>0.305906</td>\n",
       "      <td>0.2157</td>\n",
       "      <td>0.131195</td>\n",
       "      <td>0.204708</td>\n",
       "      <td>0.142491</td>\n",
       "    </tr>\n",
       "  </tbody>\n",
       "</table>\n",
       "</div>"
      ],
      "text/plain": [
       "    Lactate  Alanine  Creatine  Creatinine  Choline chloride\n",
       "0  0.305906   0.2157  0.131195    0.204708          0.142491"
      ]
     },
     "execution_count": 38,
     "metadata": {},
     "output_type": "execute_result"
    }
   ],
   "source": [
    "res_con_opt = pd.DataFrame(np.array(estimation_molar_opt['proportions']).reshape(1,-1), \n",
    "             columns = components_dictionary['experiment_'+str(nr_of_experiment)])\n",
    "res_con_opt"
   ]
  },
  {
   "cell_type": "code",
   "execution_count": 39,
   "id": "a2cfc1d2",
   "metadata": {},
   "outputs": [],
   "source": [
    "# if (nr_of_experiment != 9 and nr_of_experiment != 4):\n",
    "#     res_vis_opt.to_csv(experiments_folders['experiment_' + str(nr_of_experiment)]+\n",
    "#                    '/results_area.csv')\n",
    "# else:\n",
    "#     res_vis_opt.to_csv(experiments_folders['experiment_' + str(nr_of_experiment)]+\n",
    "#                    '/results_area_exp'+str(nr_of_experiment)+'.csv')"
   ]
  },
  {
   "cell_type": "code",
   "execution_count": 40,
   "id": "15c18f10",
   "metadata": {},
   "outputs": [],
   "source": [
    "# if (nr_of_experiment != 9 and nr_of_experiment != 4):\n",
    "#     res_con_opt.to_csv(experiments_folders['experiment_' + str(nr_of_experiment)]+\n",
    "#                '/results_concentration.csv')\n",
    "# else:\n",
    "#     res_con_opt.to_csv(experiments_folders['experiment_' + str(nr_of_experiment)]+\n",
    "#                '/results_concentration_exp'+str(nr_of_experiment)+'.csv')"
   ]
  },
  {
   "cell_type": "markdown",
   "id": "cee5a55b",
   "metadata": {},
   "source": [
    "### Mixture vs linear combination of components (noise removed)"
   ]
  },
  {
   "cell_type": "code",
   "execution_count": 41,
   "id": "b35a6293",
   "metadata": {},
   "outputs": [],
   "source": [
    "ignore_negative = False"
   ]
  },
  {
   "cell_type": "code",
   "execution_count": 42,
   "id": "5c4477be",
   "metadata": {},
   "outputs": [],
   "source": [
    "def make_nonnegative(ints):\n",
    "    res_ints = ints\n",
    "    for col_nr in range(ints.shape[1]):\n",
    "        neg = ints[:,col_nr]<0\n",
    "        res_ints[:,col_nr][neg]=0\n",
    "    return(res_ints)"
   ]
  },
  {
   "cell_type": "markdown",
   "id": "7b3e6bac",
   "metadata": {},
   "source": [
    "#### Mix"
   ]
  },
  {
   "cell_type": "code",
   "execution_count": 43,
   "id": "d938786b",
   "metadata": {},
   "outputs": [],
   "source": [
    "ppm = np.array(mix.confs)[:,0]\n",
    "mix_ints = np.array(mix.confs)[:,1]"
   ]
  },
  {
   "cell_type": "code",
   "execution_count": 44,
   "id": "e49f6542",
   "metadata": {},
   "outputs": [],
   "source": [
    "mix_without_noise = NMRSpectrum(confs = list(zip(ppm, mix_ints - np.array(estimation_vis['noise']))))\n",
    "mix_without_noise = np.array(mix_without_noise.confs)[:,1]"
   ]
  },
  {
   "cell_type": "code",
   "execution_count": 45,
   "id": "41218d82",
   "metadata": {},
   "outputs": [],
   "source": [
    "if ignore_negative:\n",
    "    mix_without_noise = make_nonnegative(mix_without_noise.reshape(-1,1))"
   ]
  },
  {
   "cell_type": "code",
   "execution_count": 46,
   "id": "58ba1cea",
   "metadata": {},
   "outputs": [],
   "source": [
    "mix_without_noise = mix_without_noise/sum(mix_without_noise)"
   ]
  },
  {
   "cell_type": "code",
   "execution_count": 47,
   "id": "0fdd347c",
   "metadata": {},
   "outputs": [
    {
     "name": "stdout",
     "output_type": "stream",
     "text": [
      "Is there a lot of negative signal in mixture (intensity below -0.0001)?\n",
      "0\n"
     ]
    }
   ],
   "source": [
    "thr = -1e-4\n",
    "print('Is there a lot of negative signal in mixture (intensity below '+str(thr)+')?')\n",
    "print(sum(mix_without_noise[mix_without_noise<thr]))"
   ]
  },
  {
   "cell_type": "markdown",
   "id": "a062a05d",
   "metadata": {},
   "source": [
    "#### Components"
   ]
  },
  {
   "cell_type": "code",
   "execution_count": 48,
   "id": "bff9eece",
   "metadata": {},
   "outputs": [],
   "source": [
    "components_ints = []\n",
    "for spectrum in spectra:\n",
    "    components_ints.append(np.array(spectrum.confs)[:,1])#.reshape(-1,1))"
   ]
  },
  {
   "cell_type": "code",
   "execution_count": 49,
   "id": "fe65533e",
   "metadata": {},
   "outputs": [
    {
     "name": "stdout",
     "output_type": "stream",
     "text": [
      "Is there a lot of negative signal in mixture (intensity below -0.0001)?\n",
      "Component 0:\n",
      "0\n",
      "Is there a lot of negative signal in mixture (intensity below -0.0001)?\n",
      "Component 1:\n",
      "0\n",
      "Is there a lot of negative signal in mixture (intensity below -0.0001)?\n",
      "Component 2:\n",
      "0\n",
      "Is there a lot of negative signal in mixture (intensity below -0.0001)?\n",
      "Component 3:\n",
      "0\n",
      "Is there a lot of negative signal in mixture (intensity below -0.0001)?\n",
      "Component 4:\n",
      "0\n"
     ]
    }
   ],
   "source": [
    "thr = -1e-4\n",
    "for i, arr in enumerate(components_ints):\n",
    "    print('Is there a lot of negative signal in mixture (intensity below '+str(thr)+')?')\n",
    "    print('Component '+str(i)+':')\n",
    "    print(sum(arr[arr<thr]))"
   ]
  },
  {
   "cell_type": "code",
   "execution_count": 50,
   "id": "86e0b53a",
   "metadata": {},
   "outputs": [],
   "source": [
    "p = estimation_vis['proportions']\n",
    "p = np.array(p).reshape(len(p),1)"
   ]
  },
  {
   "cell_type": "code",
   "execution_count": 51,
   "id": "ec7c6d91",
   "metadata": {},
   "outputs": [],
   "source": [
    "names_components_up_to = ['sum_up_to_'+str(i+1) for i in range(len(spectra))]"
   ]
  },
  {
   "cell_type": "code",
   "execution_count": 52,
   "id": "cee5adc5",
   "metadata": {},
   "outputs": [],
   "source": [
    "components = [comp.reshape(-1,1) for comp in components_ints]\n",
    "components_no_scaling = np.concatenate(components, axis=1)\n",
    "components_scaled = components_no_scaling*p[:,0]"
   ]
  },
  {
   "cell_type": "code",
   "execution_count": 53,
   "id": "06ef63df",
   "metadata": {},
   "outputs": [
    {
     "name": "stderr",
     "output_type": "stream",
     "text": [
      "/tmp/ipykernel_21646/2062537961.py:1: RuntimeWarning: invalid value encountered in divide\n",
      "  proportions_point_by_point = (components_scaled/np.sum(components_scaled, axis=1).reshape(-1,1))\n"
     ]
    }
   ],
   "source": [
    "proportions_point_by_point = (components_scaled/np.sum(components_scaled, axis=1).reshape(-1,1))\n",
    "proportions_point_by_point = np.nan_to_num(proportions_point_by_point)\n",
    "noise_in_ref = np.array(estimation_vis['noise_in_theoretical']).reshape(-1,1)\n",
    "noise_split_for_components = proportions_point_by_point*noise_in_ref"
   ]
  },
  {
   "cell_type": "code",
   "execution_count": 54,
   "id": "d06e7972",
   "metadata": {},
   "outputs": [
    {
     "data": {
      "text/plain": [
       "True"
      ]
     },
     "execution_count": 54,
     "metadata": {},
     "output_type": "execute_result"
    }
   ],
   "source": [
    "(np.round(components_scaled-noise_split_for_components, decimals=5)>=0).all()"
   ]
  },
  {
   "cell_type": "code",
   "execution_count": 55,
   "id": "c3a37fa7",
   "metadata": {},
   "outputs": [],
   "source": [
    "X = components_scaled - noise_split_for_components"
   ]
  },
  {
   "cell_type": "code",
   "execution_count": 56,
   "id": "c7c5a100",
   "metadata": {},
   "outputs": [
    {
     "data": {
      "text/plain": [
       "True"
      ]
     },
     "execution_count": 56,
     "metadata": {},
     "output_type": "execute_result"
    }
   ],
   "source": [
    "(np.sum(X[:,:1], axis=1)==X[:,0]).all()"
   ]
  },
  {
   "cell_type": "code",
   "execution_count": 57,
   "id": "24612df2",
   "metadata": {},
   "outputs": [],
   "source": [
    "if ignore_negative:\n",
    "    X = make_nonnegative(X)"
   ]
  },
  {
   "cell_type": "code",
   "execution_count": 58,
   "id": "4116e7a4",
   "metadata": {},
   "outputs": [],
   "source": [
    "for i, name in enumerate(names_components_up_to):\n",
    "    #not_normalized = np.sum(X[:,:(i+1)], axis=1)\n",
    "    \n",
    "    globals()[name] = np.sum(X[:,:(i+1)], axis=1)"
   ]
  },
  {
   "cell_type": "code",
   "execution_count": 59,
   "id": "4cc24789",
   "metadata": {},
   "outputs": [],
   "source": [
    "xlims_lower = [1.55, 1.6, 4.4, 3.55, 3.55, 1.55, 7.3, 9.1, 3.55]\n",
    "xlims_upper = [2.45, 2.4, 7.8, 4.05, 4.05, 2.4, 7.6, 10.1, 4.05]\n",
    "ylims_lower = [-0.00005, -0.00005, -0.000025, -0.00005, -0.00005, -0.00005, -0.00005, -0.00005, -0.00005]\n",
    "ylims_upper = [0.00045, 0.0025, 0.00016, 0.0016, 0.0011, 0.0016, 0.0026, 0.0014, 0.0016]"
   ]
  },
  {
   "cell_type": "code",
   "execution_count": 60,
   "id": "b4281800",
   "metadata": {},
   "outputs": [
    {
     "data": {
      "application/javascript": [
       "/* Put everything inside the global mpl namespace */\n",
       "/* global mpl */\n",
       "window.mpl = {};\n",
       "\n",
       "mpl.get_websocket_type = function () {\n",
       "    if (typeof WebSocket !== 'undefined') {\n",
       "        return WebSocket;\n",
       "    } else if (typeof MozWebSocket !== 'undefined') {\n",
       "        return MozWebSocket;\n",
       "    } else {\n",
       "        alert(\n",
       "            'Your browser does not have WebSocket support. ' +\n",
       "                'Please try Chrome, Safari or Firefox ≥ 6. ' +\n",
       "                'Firefox 4 and 5 are also supported but you ' +\n",
       "                'have to enable WebSockets in about:config.'\n",
       "        );\n",
       "    }\n",
       "};\n",
       "\n",
       "mpl.figure = function (figure_id, websocket, ondownload, parent_element) {\n",
       "    this.id = figure_id;\n",
       "\n",
       "    this.ws = websocket;\n",
       "\n",
       "    this.supports_binary = this.ws.binaryType !== undefined;\n",
       "\n",
       "    if (!this.supports_binary) {\n",
       "        var warnings = document.getElementById('mpl-warnings');\n",
       "        if (warnings) {\n",
       "            warnings.style.display = 'block';\n",
       "            warnings.textContent =\n",
       "                'This browser does not support binary websocket messages. ' +\n",
       "                'Performance may be slow.';\n",
       "        }\n",
       "    }\n",
       "\n",
       "    this.imageObj = new Image();\n",
       "\n",
       "    this.context = undefined;\n",
       "    this.message = undefined;\n",
       "    this.canvas = undefined;\n",
       "    this.rubberband_canvas = undefined;\n",
       "    this.rubberband_context = undefined;\n",
       "    this.format_dropdown = undefined;\n",
       "\n",
       "    this.image_mode = 'full';\n",
       "\n",
       "    this.root = document.createElement('div');\n",
       "    this.root.setAttribute('style', 'display: inline-block');\n",
       "    this._root_extra_style(this.root);\n",
       "\n",
       "    parent_element.appendChild(this.root);\n",
       "\n",
       "    this._init_header(this);\n",
       "    this._init_canvas(this);\n",
       "    this._init_toolbar(this);\n",
       "\n",
       "    var fig = this;\n",
       "\n",
       "    this.waiting = false;\n",
       "\n",
       "    this.ws.onopen = function () {\n",
       "        fig.send_message('supports_binary', { value: fig.supports_binary });\n",
       "        fig.send_message('send_image_mode', {});\n",
       "        if (fig.ratio !== 1) {\n",
       "            fig.send_message('set_device_pixel_ratio', {\n",
       "                device_pixel_ratio: fig.ratio,\n",
       "            });\n",
       "        }\n",
       "        fig.send_message('refresh', {});\n",
       "    };\n",
       "\n",
       "    this.imageObj.onload = function () {\n",
       "        if (fig.image_mode === 'full') {\n",
       "            // Full images could contain transparency (where diff images\n",
       "            // almost always do), so we need to clear the canvas so that\n",
       "            // there is no ghosting.\n",
       "            fig.context.clearRect(0, 0, fig.canvas.width, fig.canvas.height);\n",
       "        }\n",
       "        fig.context.drawImage(fig.imageObj, 0, 0);\n",
       "    };\n",
       "\n",
       "    this.imageObj.onunload = function () {\n",
       "        fig.ws.close();\n",
       "    };\n",
       "\n",
       "    this.ws.onmessage = this._make_on_message_function(this);\n",
       "\n",
       "    this.ondownload = ondownload;\n",
       "};\n",
       "\n",
       "mpl.figure.prototype._init_header = function () {\n",
       "    var titlebar = document.createElement('div');\n",
       "    titlebar.classList =\n",
       "        'ui-dialog-titlebar ui-widget-header ui-corner-all ui-helper-clearfix';\n",
       "    var titletext = document.createElement('div');\n",
       "    titletext.classList = 'ui-dialog-title';\n",
       "    titletext.setAttribute(\n",
       "        'style',\n",
       "        'width: 100%; text-align: center; padding: 3px;'\n",
       "    );\n",
       "    titlebar.appendChild(titletext);\n",
       "    this.root.appendChild(titlebar);\n",
       "    this.header = titletext;\n",
       "};\n",
       "\n",
       "mpl.figure.prototype._canvas_extra_style = function (_canvas_div) {};\n",
       "\n",
       "mpl.figure.prototype._root_extra_style = function (_canvas_div) {};\n",
       "\n",
       "mpl.figure.prototype._init_canvas = function () {\n",
       "    var fig = this;\n",
       "\n",
       "    var canvas_div = (this.canvas_div = document.createElement('div'));\n",
       "    canvas_div.setAttribute('tabindex', '0');\n",
       "    canvas_div.setAttribute(\n",
       "        'style',\n",
       "        'border: 1px solid #ddd;' +\n",
       "            'box-sizing: content-box;' +\n",
       "            'clear: both;' +\n",
       "            'min-height: 1px;' +\n",
       "            'min-width: 1px;' +\n",
       "            'outline: 0;' +\n",
       "            'overflow: hidden;' +\n",
       "            'position: relative;' +\n",
       "            'resize: both;' +\n",
       "            'z-index: 2;'\n",
       "    );\n",
       "\n",
       "    function on_keyboard_event_closure(name) {\n",
       "        return function (event) {\n",
       "            return fig.key_event(event, name);\n",
       "        };\n",
       "    }\n",
       "\n",
       "    canvas_div.addEventListener(\n",
       "        'keydown',\n",
       "        on_keyboard_event_closure('key_press')\n",
       "    );\n",
       "    canvas_div.addEventListener(\n",
       "        'keyup',\n",
       "        on_keyboard_event_closure('key_release')\n",
       "    );\n",
       "\n",
       "    this._canvas_extra_style(canvas_div);\n",
       "    this.root.appendChild(canvas_div);\n",
       "\n",
       "    var canvas = (this.canvas = document.createElement('canvas'));\n",
       "    canvas.classList.add('mpl-canvas');\n",
       "    canvas.setAttribute(\n",
       "        'style',\n",
       "        'box-sizing: content-box;' +\n",
       "            'pointer-events: none;' +\n",
       "            'position: relative;' +\n",
       "            'z-index: 0;'\n",
       "    );\n",
       "\n",
       "    this.context = canvas.getContext('2d');\n",
       "\n",
       "    var backingStore =\n",
       "        this.context.backingStorePixelRatio ||\n",
       "        this.context.webkitBackingStorePixelRatio ||\n",
       "        this.context.mozBackingStorePixelRatio ||\n",
       "        this.context.msBackingStorePixelRatio ||\n",
       "        this.context.oBackingStorePixelRatio ||\n",
       "        this.context.backingStorePixelRatio ||\n",
       "        1;\n",
       "\n",
       "    this.ratio = (window.devicePixelRatio || 1) / backingStore;\n",
       "\n",
       "    var rubberband_canvas = (this.rubberband_canvas = document.createElement(\n",
       "        'canvas'\n",
       "    ));\n",
       "    rubberband_canvas.setAttribute(\n",
       "        'style',\n",
       "        'box-sizing: content-box;' +\n",
       "            'left: 0;' +\n",
       "            'pointer-events: none;' +\n",
       "            'position: absolute;' +\n",
       "            'top: 0;' +\n",
       "            'z-index: 1;'\n",
       "    );\n",
       "\n",
       "    // Apply a ponyfill if ResizeObserver is not implemented by browser.\n",
       "    if (this.ResizeObserver === undefined) {\n",
       "        if (window.ResizeObserver !== undefined) {\n",
       "            this.ResizeObserver = window.ResizeObserver;\n",
       "        } else {\n",
       "            var obs = _JSXTOOLS_RESIZE_OBSERVER({});\n",
       "            this.ResizeObserver = obs.ResizeObserver;\n",
       "        }\n",
       "    }\n",
       "\n",
       "    this.resizeObserverInstance = new this.ResizeObserver(function (entries) {\n",
       "        var nentries = entries.length;\n",
       "        for (var i = 0; i < nentries; i++) {\n",
       "            var entry = entries[i];\n",
       "            var width, height;\n",
       "            if (entry.contentBoxSize) {\n",
       "                if (entry.contentBoxSize instanceof Array) {\n",
       "                    // Chrome 84 implements new version of spec.\n",
       "                    width = entry.contentBoxSize[0].inlineSize;\n",
       "                    height = entry.contentBoxSize[0].blockSize;\n",
       "                } else {\n",
       "                    // Firefox implements old version of spec.\n",
       "                    width = entry.contentBoxSize.inlineSize;\n",
       "                    height = entry.contentBoxSize.blockSize;\n",
       "                }\n",
       "            } else {\n",
       "                // Chrome <84 implements even older version of spec.\n",
       "                width = entry.contentRect.width;\n",
       "                height = entry.contentRect.height;\n",
       "            }\n",
       "\n",
       "            // Keep the size of the canvas and rubber band canvas in sync with\n",
       "            // the canvas container.\n",
       "            if (entry.devicePixelContentBoxSize) {\n",
       "                // Chrome 84 implements new version of spec.\n",
       "                canvas.setAttribute(\n",
       "                    'width',\n",
       "                    entry.devicePixelContentBoxSize[0].inlineSize\n",
       "                );\n",
       "                canvas.setAttribute(\n",
       "                    'height',\n",
       "                    entry.devicePixelContentBoxSize[0].blockSize\n",
       "                );\n",
       "            } else {\n",
       "                canvas.setAttribute('width', width * fig.ratio);\n",
       "                canvas.setAttribute('height', height * fig.ratio);\n",
       "            }\n",
       "            /* This rescales the canvas back to display pixels, so that it\n",
       "             * appears correct on HiDPI screens. */\n",
       "            canvas.style.width = width + 'px';\n",
       "            canvas.style.height = height + 'px';\n",
       "\n",
       "            rubberband_canvas.setAttribute('width', width);\n",
       "            rubberband_canvas.setAttribute('height', height);\n",
       "\n",
       "            // And update the size in Python. We ignore the initial 0/0 size\n",
       "            // that occurs as the element is placed into the DOM, which should\n",
       "            // otherwise not happen due to the minimum size styling.\n",
       "            if (fig.ws.readyState == 1 && width != 0 && height != 0) {\n",
       "                fig.request_resize(width, height);\n",
       "            }\n",
       "        }\n",
       "    });\n",
       "    this.resizeObserverInstance.observe(canvas_div);\n",
       "\n",
       "    function on_mouse_event_closure(name) {\n",
       "        /* User Agent sniffing is bad, but WebKit is busted:\n",
       "         * https://bugs.webkit.org/show_bug.cgi?id=144526\n",
       "         * https://bugs.webkit.org/show_bug.cgi?id=181818\n",
       "         * The worst that happens here is that they get an extra browser\n",
       "         * selection when dragging, if this check fails to catch them.\n",
       "         */\n",
       "        var UA = navigator.userAgent;\n",
       "        var isWebKit = /AppleWebKit/.test(UA) && !/Chrome/.test(UA);\n",
       "        if(isWebKit) {\n",
       "            return function (event) {\n",
       "                /* This prevents the web browser from automatically changing to\n",
       "                 * the text insertion cursor when the button is pressed. We\n",
       "                 * want to control all of the cursor setting manually through\n",
       "                 * the 'cursor' event from matplotlib */\n",
       "                event.preventDefault()\n",
       "                return fig.mouse_event(event, name);\n",
       "            };\n",
       "        } else {\n",
       "            return function (event) {\n",
       "                return fig.mouse_event(event, name);\n",
       "            };\n",
       "        }\n",
       "    }\n",
       "\n",
       "    canvas_div.addEventListener(\n",
       "        'mousedown',\n",
       "        on_mouse_event_closure('button_press')\n",
       "    );\n",
       "    canvas_div.addEventListener(\n",
       "        'mouseup',\n",
       "        on_mouse_event_closure('button_release')\n",
       "    );\n",
       "    canvas_div.addEventListener(\n",
       "        'dblclick',\n",
       "        on_mouse_event_closure('dblclick')\n",
       "    );\n",
       "    // Throttle sequential mouse events to 1 every 20ms.\n",
       "    canvas_div.addEventListener(\n",
       "        'mousemove',\n",
       "        on_mouse_event_closure('motion_notify')\n",
       "    );\n",
       "\n",
       "    canvas_div.addEventListener(\n",
       "        'mouseenter',\n",
       "        on_mouse_event_closure('figure_enter')\n",
       "    );\n",
       "    canvas_div.addEventListener(\n",
       "        'mouseleave',\n",
       "        on_mouse_event_closure('figure_leave')\n",
       "    );\n",
       "\n",
       "    canvas_div.addEventListener('wheel', function (event) {\n",
       "        if (event.deltaY < 0) {\n",
       "            event.step = 1;\n",
       "        } else {\n",
       "            event.step = -1;\n",
       "        }\n",
       "        on_mouse_event_closure('scroll')(event);\n",
       "    });\n",
       "\n",
       "    canvas_div.appendChild(canvas);\n",
       "    canvas_div.appendChild(rubberband_canvas);\n",
       "\n",
       "    this.rubberband_context = rubberband_canvas.getContext('2d');\n",
       "    this.rubberband_context.strokeStyle = '#000000';\n",
       "\n",
       "    this._resize_canvas = function (width, height, forward) {\n",
       "        if (forward) {\n",
       "            canvas_div.style.width = width + 'px';\n",
       "            canvas_div.style.height = height + 'px';\n",
       "        }\n",
       "    };\n",
       "\n",
       "    // Disable right mouse context menu.\n",
       "    canvas_div.addEventListener('contextmenu', function (_e) {\n",
       "        event.preventDefault();\n",
       "        return false;\n",
       "    });\n",
       "\n",
       "    function set_focus() {\n",
       "        canvas.focus();\n",
       "        canvas_div.focus();\n",
       "    }\n",
       "\n",
       "    window.setTimeout(set_focus, 100);\n",
       "};\n",
       "\n",
       "mpl.figure.prototype._init_toolbar = function () {\n",
       "    var fig = this;\n",
       "\n",
       "    var toolbar = document.createElement('div');\n",
       "    toolbar.classList = 'mpl-toolbar';\n",
       "    this.root.appendChild(toolbar);\n",
       "\n",
       "    function on_click_closure(name) {\n",
       "        return function (_event) {\n",
       "            return fig.toolbar_button_onclick(name);\n",
       "        };\n",
       "    }\n",
       "\n",
       "    function on_mouseover_closure(tooltip) {\n",
       "        return function (event) {\n",
       "            if (!event.currentTarget.disabled) {\n",
       "                return fig.toolbar_button_onmouseover(tooltip);\n",
       "            }\n",
       "        };\n",
       "    }\n",
       "\n",
       "    fig.buttons = {};\n",
       "    var buttonGroup = document.createElement('div');\n",
       "    buttonGroup.classList = 'mpl-button-group';\n",
       "    for (var toolbar_ind in mpl.toolbar_items) {\n",
       "        var name = mpl.toolbar_items[toolbar_ind][0];\n",
       "        var tooltip = mpl.toolbar_items[toolbar_ind][1];\n",
       "        var image = mpl.toolbar_items[toolbar_ind][2];\n",
       "        var method_name = mpl.toolbar_items[toolbar_ind][3];\n",
       "\n",
       "        if (!name) {\n",
       "            /* Instead of a spacer, we start a new button group. */\n",
       "            if (buttonGroup.hasChildNodes()) {\n",
       "                toolbar.appendChild(buttonGroup);\n",
       "            }\n",
       "            buttonGroup = document.createElement('div');\n",
       "            buttonGroup.classList = 'mpl-button-group';\n",
       "            continue;\n",
       "        }\n",
       "\n",
       "        var button = (fig.buttons[name] = document.createElement('button'));\n",
       "        button.classList = 'mpl-widget';\n",
       "        button.setAttribute('role', 'button');\n",
       "        button.setAttribute('aria-disabled', 'false');\n",
       "        button.addEventListener('click', on_click_closure(method_name));\n",
       "        button.addEventListener('mouseover', on_mouseover_closure(tooltip));\n",
       "\n",
       "        var icon_img = document.createElement('img');\n",
       "        icon_img.src = '_images/' + image + '.png';\n",
       "        icon_img.srcset = '_images/' + image + '_large.png 2x';\n",
       "        icon_img.alt = tooltip;\n",
       "        button.appendChild(icon_img);\n",
       "\n",
       "        buttonGroup.appendChild(button);\n",
       "    }\n",
       "\n",
       "    if (buttonGroup.hasChildNodes()) {\n",
       "        toolbar.appendChild(buttonGroup);\n",
       "    }\n",
       "\n",
       "    var fmt_picker = document.createElement('select');\n",
       "    fmt_picker.classList = 'mpl-widget';\n",
       "    toolbar.appendChild(fmt_picker);\n",
       "    this.format_dropdown = fmt_picker;\n",
       "\n",
       "    for (var ind in mpl.extensions) {\n",
       "        var fmt = mpl.extensions[ind];\n",
       "        var option = document.createElement('option');\n",
       "        option.selected = fmt === mpl.default_extension;\n",
       "        option.innerHTML = fmt;\n",
       "        fmt_picker.appendChild(option);\n",
       "    }\n",
       "\n",
       "    var status_bar = document.createElement('span');\n",
       "    status_bar.classList = 'mpl-message';\n",
       "    toolbar.appendChild(status_bar);\n",
       "    this.message = status_bar;\n",
       "};\n",
       "\n",
       "mpl.figure.prototype.request_resize = function (x_pixels, y_pixels) {\n",
       "    // Request matplotlib to resize the figure. Matplotlib will then trigger a resize in the client,\n",
       "    // which will in turn request a refresh of the image.\n",
       "    this.send_message('resize', { width: x_pixels, height: y_pixels });\n",
       "};\n",
       "\n",
       "mpl.figure.prototype.send_message = function (type, properties) {\n",
       "    properties['type'] = type;\n",
       "    properties['figure_id'] = this.id;\n",
       "    this.ws.send(JSON.stringify(properties));\n",
       "};\n",
       "\n",
       "mpl.figure.prototype.send_draw_message = function () {\n",
       "    if (!this.waiting) {\n",
       "        this.waiting = true;\n",
       "        this.ws.send(JSON.stringify({ type: 'draw', figure_id: this.id }));\n",
       "    }\n",
       "};\n",
       "\n",
       "mpl.figure.prototype.handle_save = function (fig, _msg) {\n",
       "    var format_dropdown = fig.format_dropdown;\n",
       "    var format = format_dropdown.options[format_dropdown.selectedIndex].value;\n",
       "    fig.ondownload(fig, format);\n",
       "};\n",
       "\n",
       "mpl.figure.prototype.handle_resize = function (fig, msg) {\n",
       "    var size = msg['size'];\n",
       "    if (size[0] !== fig.canvas.width || size[1] !== fig.canvas.height) {\n",
       "        fig._resize_canvas(size[0], size[1], msg['forward']);\n",
       "        fig.send_message('refresh', {});\n",
       "    }\n",
       "};\n",
       "\n",
       "mpl.figure.prototype.handle_rubberband = function (fig, msg) {\n",
       "    var x0 = msg['x0'] / fig.ratio;\n",
       "    var y0 = (fig.canvas.height - msg['y0']) / fig.ratio;\n",
       "    var x1 = msg['x1'] / fig.ratio;\n",
       "    var y1 = (fig.canvas.height - msg['y1']) / fig.ratio;\n",
       "    x0 = Math.floor(x0) + 0.5;\n",
       "    y0 = Math.floor(y0) + 0.5;\n",
       "    x1 = Math.floor(x1) + 0.5;\n",
       "    y1 = Math.floor(y1) + 0.5;\n",
       "    var min_x = Math.min(x0, x1);\n",
       "    var min_y = Math.min(y0, y1);\n",
       "    var width = Math.abs(x1 - x0);\n",
       "    var height = Math.abs(y1 - y0);\n",
       "\n",
       "    fig.rubberband_context.clearRect(\n",
       "        0,\n",
       "        0,\n",
       "        fig.canvas.width / fig.ratio,\n",
       "        fig.canvas.height / fig.ratio\n",
       "    );\n",
       "\n",
       "    fig.rubberband_context.strokeRect(min_x, min_y, width, height);\n",
       "};\n",
       "\n",
       "mpl.figure.prototype.handle_figure_label = function (fig, msg) {\n",
       "    // Updates the figure title.\n",
       "    fig.header.textContent = msg['label'];\n",
       "};\n",
       "\n",
       "mpl.figure.prototype.handle_cursor = function (fig, msg) {\n",
       "    fig.canvas_div.style.cursor = msg['cursor'];\n",
       "};\n",
       "\n",
       "mpl.figure.prototype.handle_message = function (fig, msg) {\n",
       "    fig.message.textContent = msg['message'];\n",
       "};\n",
       "\n",
       "mpl.figure.prototype.handle_draw = function (fig, _msg) {\n",
       "    // Request the server to send over a new figure.\n",
       "    fig.send_draw_message();\n",
       "};\n",
       "\n",
       "mpl.figure.prototype.handle_image_mode = function (fig, msg) {\n",
       "    fig.image_mode = msg['mode'];\n",
       "};\n",
       "\n",
       "mpl.figure.prototype.handle_history_buttons = function (fig, msg) {\n",
       "    for (var key in msg) {\n",
       "        if (!(key in fig.buttons)) {\n",
       "            continue;\n",
       "        }\n",
       "        fig.buttons[key].disabled = !msg[key];\n",
       "        fig.buttons[key].setAttribute('aria-disabled', !msg[key]);\n",
       "    }\n",
       "};\n",
       "\n",
       "mpl.figure.prototype.handle_navigate_mode = function (fig, msg) {\n",
       "    if (msg['mode'] === 'PAN') {\n",
       "        fig.buttons['Pan'].classList.add('active');\n",
       "        fig.buttons['Zoom'].classList.remove('active');\n",
       "    } else if (msg['mode'] === 'ZOOM') {\n",
       "        fig.buttons['Pan'].classList.remove('active');\n",
       "        fig.buttons['Zoom'].classList.add('active');\n",
       "    } else {\n",
       "        fig.buttons['Pan'].classList.remove('active');\n",
       "        fig.buttons['Zoom'].classList.remove('active');\n",
       "    }\n",
       "};\n",
       "\n",
       "mpl.figure.prototype.updated_canvas_event = function () {\n",
       "    // Called whenever the canvas gets updated.\n",
       "    this.send_message('ack', {});\n",
       "};\n",
       "\n",
       "// A function to construct a web socket function for onmessage handling.\n",
       "// Called in the figure constructor.\n",
       "mpl.figure.prototype._make_on_message_function = function (fig) {\n",
       "    return function socket_on_message(evt) {\n",
       "        if (evt.data instanceof Blob) {\n",
       "            var img = evt.data;\n",
       "            if (img.type !== 'image/png') {\n",
       "                /* FIXME: We get \"Resource interpreted as Image but\n",
       "                 * transferred with MIME type text/plain:\" errors on\n",
       "                 * Chrome.  But how to set the MIME type?  It doesn't seem\n",
       "                 * to be part of the websocket stream */\n",
       "                img.type = 'image/png';\n",
       "            }\n",
       "\n",
       "            /* Free the memory for the previous frames */\n",
       "            if (fig.imageObj.src) {\n",
       "                (window.URL || window.webkitURL).revokeObjectURL(\n",
       "                    fig.imageObj.src\n",
       "                );\n",
       "            }\n",
       "\n",
       "            fig.imageObj.src = (window.URL || window.webkitURL).createObjectURL(\n",
       "                img\n",
       "            );\n",
       "            fig.updated_canvas_event();\n",
       "            fig.waiting = false;\n",
       "            return;\n",
       "        } else if (\n",
       "            typeof evt.data === 'string' &&\n",
       "            evt.data.slice(0, 21) === 'data:image/png;base64'\n",
       "        ) {\n",
       "            fig.imageObj.src = evt.data;\n",
       "            fig.updated_canvas_event();\n",
       "            fig.waiting = false;\n",
       "            return;\n",
       "        }\n",
       "\n",
       "        var msg = JSON.parse(evt.data);\n",
       "        var msg_type = msg['type'];\n",
       "\n",
       "        // Call the  \"handle_{type}\" callback, which takes\n",
       "        // the figure and JSON message as its only arguments.\n",
       "        try {\n",
       "            var callback = fig['handle_' + msg_type];\n",
       "        } catch (e) {\n",
       "            console.log(\n",
       "                \"No handler for the '\" + msg_type + \"' message type: \",\n",
       "                msg\n",
       "            );\n",
       "            return;\n",
       "        }\n",
       "\n",
       "        if (callback) {\n",
       "            try {\n",
       "                // console.log(\"Handling '\" + msg_type + \"' message: \", msg);\n",
       "                callback(fig, msg);\n",
       "            } catch (e) {\n",
       "                console.log(\n",
       "                    \"Exception inside the 'handler_\" + msg_type + \"' callback:\",\n",
       "                    e,\n",
       "                    e.stack,\n",
       "                    msg\n",
       "                );\n",
       "            }\n",
       "        }\n",
       "    };\n",
       "};\n",
       "\n",
       "\n",
       "/*\n",
       " * return a copy of an object with only non-object keys\n",
       " * we need this to avoid circular references\n",
       " * https://stackoverflow.com/a/24161582/3208463\n",
       " */\n",
       "function simpleKeys(original) {\n",
       "    return Object.keys(original).reduce(function (obj, key) {\n",
       "        if (typeof original[key] !== 'object') {\n",
       "            obj[key] = original[key];\n",
       "        }\n",
       "        return obj;\n",
       "    }, {});\n",
       "}\n",
       "\n",
       "mpl.figure.prototype.mouse_event = function (event, name) {\n",
       "    if (name === 'button_press') {\n",
       "        this.canvas.focus();\n",
       "        this.canvas_div.focus();\n",
       "    }\n",
       "\n",
       "    // from https://stackoverflow.com/q/1114465\n",
       "    var boundingRect = this.canvas.getBoundingClientRect();\n",
       "    var x = (event.clientX - boundingRect.left) * this.ratio;\n",
       "    var y = (event.clientY - boundingRect.top) * this.ratio;\n",
       "\n",
       "    this.send_message(name, {\n",
       "        x: x,\n",
       "        y: y,\n",
       "        button: event.button,\n",
       "        step: event.step,\n",
       "        guiEvent: simpleKeys(event),\n",
       "    });\n",
       "\n",
       "    return false;\n",
       "};\n",
       "\n",
       "mpl.figure.prototype._key_event_extra = function (_event, _name) {\n",
       "    // Handle any extra behaviour associated with a key event\n",
       "};\n",
       "\n",
       "mpl.figure.prototype.key_event = function (event, name) {\n",
       "    // Prevent repeat events\n",
       "    if (name === 'key_press') {\n",
       "        if (event.key === this._key) {\n",
       "            return;\n",
       "        } else {\n",
       "            this._key = event.key;\n",
       "        }\n",
       "    }\n",
       "    if (name === 'key_release') {\n",
       "        this._key = null;\n",
       "    }\n",
       "\n",
       "    var value = '';\n",
       "    if (event.ctrlKey && event.key !== 'Control') {\n",
       "        value += 'ctrl+';\n",
       "    }\n",
       "    else if (event.altKey && event.key !== 'Alt') {\n",
       "        value += 'alt+';\n",
       "    }\n",
       "    else if (event.shiftKey && event.key !== 'Shift') {\n",
       "        value += 'shift+';\n",
       "    }\n",
       "\n",
       "    value += 'k' + event.key;\n",
       "\n",
       "    this._key_event_extra(event, name);\n",
       "\n",
       "    this.send_message(name, { key: value, guiEvent: simpleKeys(event) });\n",
       "    return false;\n",
       "};\n",
       "\n",
       "mpl.figure.prototype.toolbar_button_onclick = function (name) {\n",
       "    if (name === 'download') {\n",
       "        this.handle_save(this, null);\n",
       "    } else {\n",
       "        this.send_message('toolbar_button', { name: name });\n",
       "    }\n",
       "};\n",
       "\n",
       "mpl.figure.prototype.toolbar_button_onmouseover = function (tooltip) {\n",
       "    this.message.textContent = tooltip;\n",
       "};\n",
       "\n",
       "///////////////// REMAINING CONTENT GENERATED BY embed_js.py /////////////////\n",
       "// prettier-ignore\n",
       "var _JSXTOOLS_RESIZE_OBSERVER=function(A){var t,i=new WeakMap,n=new WeakMap,a=new WeakMap,r=new WeakMap,o=new Set;function s(e){if(!(this instanceof s))throw new TypeError(\"Constructor requires 'new' operator\");i.set(this,e)}function h(){throw new TypeError(\"Function is not a constructor\")}function c(e,t,i,n){e=0 in arguments?Number(arguments[0]):0,t=1 in arguments?Number(arguments[1]):0,i=2 in arguments?Number(arguments[2]):0,n=3 in arguments?Number(arguments[3]):0,this.right=(this.x=this.left=e)+(this.width=i),this.bottom=(this.y=this.top=t)+(this.height=n),Object.freeze(this)}function d(){t=requestAnimationFrame(d);var s=new WeakMap,p=new Set;o.forEach((function(t){r.get(t).forEach((function(i){var r=t instanceof window.SVGElement,o=a.get(t),d=r?0:parseFloat(o.paddingTop),f=r?0:parseFloat(o.paddingRight),l=r?0:parseFloat(o.paddingBottom),u=r?0:parseFloat(o.paddingLeft),g=r?0:parseFloat(o.borderTopWidth),m=r?0:parseFloat(o.borderRightWidth),w=r?0:parseFloat(o.borderBottomWidth),b=u+f,F=d+l,v=(r?0:parseFloat(o.borderLeftWidth))+m,W=g+w,y=r?0:t.offsetHeight-W-t.clientHeight,E=r?0:t.offsetWidth-v-t.clientWidth,R=b+v,z=F+W,M=r?t.width:parseFloat(o.width)-R-E,O=r?t.height:parseFloat(o.height)-z-y;if(n.has(t)){var k=n.get(t);if(k[0]===M&&k[1]===O)return}n.set(t,[M,O]);var S=Object.create(h.prototype);S.target=t,S.contentRect=new c(u,d,M,O),s.has(i)||(s.set(i,[]),p.add(i)),s.get(i).push(S)}))})),p.forEach((function(e){i.get(e).call(e,s.get(e),e)}))}return s.prototype.observe=function(i){if(i instanceof window.Element){r.has(i)||(r.set(i,new Set),o.add(i),a.set(i,window.getComputedStyle(i)));var n=r.get(i);n.has(this)||n.add(this),cancelAnimationFrame(t),t=requestAnimationFrame(d)}},s.prototype.unobserve=function(i){if(i instanceof window.Element&&r.has(i)){var n=r.get(i);n.has(this)&&(n.delete(this),n.size||(r.delete(i),o.delete(i))),n.size||r.delete(i),o.size||cancelAnimationFrame(t)}},A.DOMRectReadOnly=c,A.ResizeObserver=s,A.ResizeObserverEntry=h,A}; // eslint-disable-line\n",
       "mpl.toolbar_items = [[\"Home\", \"Reset original view\", \"fa fa-home\", \"home\"], [\"Back\", \"Back to previous view\", \"fa fa-arrow-left\", \"back\"], [\"Forward\", \"Forward to next view\", \"fa fa-arrow-right\", \"forward\"], [\"\", \"\", \"\", \"\"], [\"Pan\", \"Left button pans, Right button zooms\\nx/y fixes axis, CTRL fixes aspect\", \"fa fa-arrows\", \"pan\"], [\"Zoom\", \"Zoom to rectangle\\nx/y fixes axis\", \"fa fa-square-o\", \"zoom\"], [\"\", \"\", \"\", \"\"], [\"Download\", \"Download plot\", \"fa fa-floppy-o\", \"download\"]];\n",
       "\n",
       "mpl.extensions = [\"eps\", \"jpeg\", \"pgf\", \"pdf\", \"png\", \"ps\", \"raw\", \"svg\", \"tif\", \"webp\"];\n",
       "\n",
       "mpl.default_extension = \"png\";/* global mpl */\n",
       "\n",
       "var comm_websocket_adapter = function (comm) {\n",
       "    // Create a \"websocket\"-like object which calls the given IPython comm\n",
       "    // object with the appropriate methods. Currently this is a non binary\n",
       "    // socket, so there is still some room for performance tuning.\n",
       "    var ws = {};\n",
       "\n",
       "    ws.binaryType = comm.kernel.ws.binaryType;\n",
       "    ws.readyState = comm.kernel.ws.readyState;\n",
       "    function updateReadyState(_event) {\n",
       "        if (comm.kernel.ws) {\n",
       "            ws.readyState = comm.kernel.ws.readyState;\n",
       "        } else {\n",
       "            ws.readyState = 3; // Closed state.\n",
       "        }\n",
       "    }\n",
       "    comm.kernel.ws.addEventListener('open', updateReadyState);\n",
       "    comm.kernel.ws.addEventListener('close', updateReadyState);\n",
       "    comm.kernel.ws.addEventListener('error', updateReadyState);\n",
       "\n",
       "    ws.close = function () {\n",
       "        comm.close();\n",
       "    };\n",
       "    ws.send = function (m) {\n",
       "        //console.log('sending', m);\n",
       "        comm.send(m);\n",
       "    };\n",
       "    // Register the callback with on_msg.\n",
       "    comm.on_msg(function (msg) {\n",
       "        //console.log('receiving', msg['content']['data'], msg);\n",
       "        var data = msg['content']['data'];\n",
       "        if (data['blob'] !== undefined) {\n",
       "            data = {\n",
       "                data: new Blob(msg['buffers'], { type: data['blob'] }),\n",
       "            };\n",
       "        }\n",
       "        // Pass the mpl event to the overridden (by mpl) onmessage function.\n",
       "        ws.onmessage(data);\n",
       "    });\n",
       "    return ws;\n",
       "};\n",
       "\n",
       "mpl.mpl_figure_comm = function (comm, msg) {\n",
       "    // This is the function which gets called when the mpl process\n",
       "    // starts-up an IPython Comm through the \"matplotlib\" channel.\n",
       "\n",
       "    var id = msg.content.data.id;\n",
       "    // Get hold of the div created by the display call when the Comm\n",
       "    // socket was opened in Python.\n",
       "    var element = document.getElementById(id);\n",
       "    var ws_proxy = comm_websocket_adapter(comm);\n",
       "\n",
       "    function ondownload(figure, _format) {\n",
       "        window.open(figure.canvas.toDataURL());\n",
       "    }\n",
       "\n",
       "    var fig = new mpl.figure(id, ws_proxy, ondownload, element);\n",
       "\n",
       "    // Call onopen now - mpl needs it, as it is assuming we've passed it a real\n",
       "    // web socket which is closed, not our websocket->open comm proxy.\n",
       "    ws_proxy.onopen();\n",
       "\n",
       "    fig.parent_element = element;\n",
       "    fig.cell_info = mpl.find_output_cell(\"<div id='\" + id + \"'></div>\");\n",
       "    if (!fig.cell_info) {\n",
       "        console.error('Failed to find cell for figure', id, fig);\n",
       "        return;\n",
       "    }\n",
       "    fig.cell_info[0].output_area.element.on(\n",
       "        'cleared',\n",
       "        { fig: fig },\n",
       "        fig._remove_fig_handler\n",
       "    );\n",
       "};\n",
       "\n",
       "mpl.figure.prototype.handle_close = function (fig, msg) {\n",
       "    var width = fig.canvas.width / fig.ratio;\n",
       "    fig.cell_info[0].output_area.element.off(\n",
       "        'cleared',\n",
       "        fig._remove_fig_handler\n",
       "    );\n",
       "    fig.resizeObserverInstance.unobserve(fig.canvas_div);\n",
       "\n",
       "    // Update the output cell to use the data from the current canvas.\n",
       "    fig.push_to_output();\n",
       "    var dataURL = fig.canvas.toDataURL();\n",
       "    // Re-enable the keyboard manager in IPython - without this line, in FF,\n",
       "    // the notebook keyboard shortcuts fail.\n",
       "    IPython.keyboard_manager.enable();\n",
       "    fig.parent_element.innerHTML =\n",
       "        '<img src=\"' + dataURL + '\" width=\"' + width + '\">';\n",
       "    fig.close_ws(fig, msg);\n",
       "};\n",
       "\n",
       "mpl.figure.prototype.close_ws = function (fig, msg) {\n",
       "    fig.send_message('closing', msg);\n",
       "    // fig.ws.close()\n",
       "};\n",
       "\n",
       "mpl.figure.prototype.push_to_output = function (_remove_interactive) {\n",
       "    // Turn the data on the canvas into data in the output cell.\n",
       "    var width = this.canvas.width / this.ratio;\n",
       "    var dataURL = this.canvas.toDataURL();\n",
       "    this.cell_info[1]['text/html'] =\n",
       "        '<img src=\"' + dataURL + '\" width=\"' + width + '\">';\n",
       "};\n",
       "\n",
       "mpl.figure.prototype.updated_canvas_event = function () {\n",
       "    // Tell IPython that the notebook contents must change.\n",
       "    IPython.notebook.set_dirty(true);\n",
       "    this.send_message('ack', {});\n",
       "    var fig = this;\n",
       "    // Wait a second, then push the new image to the DOM so\n",
       "    // that it is saved nicely (might be nice to debounce this).\n",
       "    setTimeout(function () {\n",
       "        fig.push_to_output();\n",
       "    }, 1000);\n",
       "};\n",
       "\n",
       "mpl.figure.prototype._init_toolbar = function () {\n",
       "    var fig = this;\n",
       "\n",
       "    var toolbar = document.createElement('div');\n",
       "    toolbar.classList = 'btn-toolbar';\n",
       "    this.root.appendChild(toolbar);\n",
       "\n",
       "    function on_click_closure(name) {\n",
       "        return function (_event) {\n",
       "            return fig.toolbar_button_onclick(name);\n",
       "        };\n",
       "    }\n",
       "\n",
       "    function on_mouseover_closure(tooltip) {\n",
       "        return function (event) {\n",
       "            if (!event.currentTarget.disabled) {\n",
       "                return fig.toolbar_button_onmouseover(tooltip);\n",
       "            }\n",
       "        };\n",
       "    }\n",
       "\n",
       "    fig.buttons = {};\n",
       "    var buttonGroup = document.createElement('div');\n",
       "    buttonGroup.classList = 'btn-group';\n",
       "    var button;\n",
       "    for (var toolbar_ind in mpl.toolbar_items) {\n",
       "        var name = mpl.toolbar_items[toolbar_ind][0];\n",
       "        var tooltip = mpl.toolbar_items[toolbar_ind][1];\n",
       "        var image = mpl.toolbar_items[toolbar_ind][2];\n",
       "        var method_name = mpl.toolbar_items[toolbar_ind][3];\n",
       "\n",
       "        if (!name) {\n",
       "            /* Instead of a spacer, we start a new button group. */\n",
       "            if (buttonGroup.hasChildNodes()) {\n",
       "                toolbar.appendChild(buttonGroup);\n",
       "            }\n",
       "            buttonGroup = document.createElement('div');\n",
       "            buttonGroup.classList = 'btn-group';\n",
       "            continue;\n",
       "        }\n",
       "\n",
       "        button = fig.buttons[name] = document.createElement('button');\n",
       "        button.classList = 'btn btn-default';\n",
       "        button.href = '#';\n",
       "        button.title = name;\n",
       "        button.innerHTML = '<i class=\"fa ' + image + ' fa-lg\"></i>';\n",
       "        button.addEventListener('click', on_click_closure(method_name));\n",
       "        button.addEventListener('mouseover', on_mouseover_closure(tooltip));\n",
       "        buttonGroup.appendChild(button);\n",
       "    }\n",
       "\n",
       "    if (buttonGroup.hasChildNodes()) {\n",
       "        toolbar.appendChild(buttonGroup);\n",
       "    }\n",
       "\n",
       "    // Add the status bar.\n",
       "    var status_bar = document.createElement('span');\n",
       "    status_bar.classList = 'mpl-message pull-right';\n",
       "    toolbar.appendChild(status_bar);\n",
       "    this.message = status_bar;\n",
       "\n",
       "    // Add the close button to the window.\n",
       "    var buttongrp = document.createElement('div');\n",
       "    buttongrp.classList = 'btn-group inline pull-right';\n",
       "    button = document.createElement('button');\n",
       "    button.classList = 'btn btn-mini btn-primary';\n",
       "    button.href = '#';\n",
       "    button.title = 'Stop Interaction';\n",
       "    button.innerHTML = '<i class=\"fa fa-power-off icon-remove icon-large\"></i>';\n",
       "    button.addEventListener('click', function (_evt) {\n",
       "        fig.handle_close(fig, {});\n",
       "    });\n",
       "    button.addEventListener(\n",
       "        'mouseover',\n",
       "        on_mouseover_closure('Stop Interaction')\n",
       "    );\n",
       "    buttongrp.appendChild(button);\n",
       "    var titlebar = this.root.querySelector('.ui-dialog-titlebar');\n",
       "    titlebar.insertBefore(buttongrp, titlebar.firstChild);\n",
       "};\n",
       "\n",
       "mpl.figure.prototype._remove_fig_handler = function (event) {\n",
       "    var fig = event.data.fig;\n",
       "    if (event.target !== this) {\n",
       "        // Ignore bubbled events from children.\n",
       "        return;\n",
       "    }\n",
       "    fig.close_ws(fig, {});\n",
       "};\n",
       "\n",
       "mpl.figure.prototype._root_extra_style = function (el) {\n",
       "    el.style.boxSizing = 'content-box'; // override notebook setting of border-box.\n",
       "};\n",
       "\n",
       "mpl.figure.prototype._canvas_extra_style = function (el) {\n",
       "    // this is important to make the div 'focusable\n",
       "    el.setAttribute('tabindex', 0);\n",
       "    // reach out to IPython and tell the keyboard manager to turn it's self\n",
       "    // off when our div gets focus\n",
       "\n",
       "    // location in version 3\n",
       "    if (IPython.notebook.keyboard_manager) {\n",
       "        IPython.notebook.keyboard_manager.register_events(el);\n",
       "    } else {\n",
       "        // location in version 2\n",
       "        IPython.keyboard_manager.register_events(el);\n",
       "    }\n",
       "};\n",
       "\n",
       "mpl.figure.prototype._key_event_extra = function (event, _name) {\n",
       "    // Check for shift+enter\n",
       "    if (event.shiftKey && event.which === 13) {\n",
       "        this.canvas_div.blur();\n",
       "        // select the cell after this one\n",
       "        var index = IPython.notebook.find_cell_index(this.cell_info[0]);\n",
       "        IPython.notebook.select(index + 1);\n",
       "    }\n",
       "};\n",
       "\n",
       "mpl.figure.prototype.handle_save = function (fig, _msg) {\n",
       "    fig.ondownload(fig, null);\n",
       "};\n",
       "\n",
       "mpl.find_output_cell = function (html_output) {\n",
       "    // Return the cell and output element which can be found *uniquely* in the notebook.\n",
       "    // Note - this is a bit hacky, but it is done because the \"notebook_saving.Notebook\"\n",
       "    // IPython event is triggered only after the cells have been serialised, which for\n",
       "    // our purposes (turning an active figure into a static one), is too late.\n",
       "    var cells = IPython.notebook.get_cells();\n",
       "    var ncells = cells.length;\n",
       "    for (var i = 0; i < ncells; i++) {\n",
       "        var cell = cells[i];\n",
       "        if (cell.cell_type === 'code') {\n",
       "            for (var j = 0; j < cell.output_area.outputs.length; j++) {\n",
       "                var data = cell.output_area.outputs[j];\n",
       "                if (data.data) {\n",
       "                    // IPython >= 3 moved mimebundle to data attribute of output\n",
       "                    data = data.data;\n",
       "                }\n",
       "                if (data['text/html'] === html_output) {\n",
       "                    return [cell, data, j];\n",
       "                }\n",
       "            }\n",
       "        }\n",
       "    }\n",
       "};\n",
       "\n",
       "// Register the function which deals with the matplotlib target/channel.\n",
       "// The kernel may be null if the page has been refreshed.\n",
       "if (IPython.notebook.kernel !== null) {\n",
       "    IPython.notebook.kernel.comm_manager.register_target(\n",
       "        'matplotlib',\n",
       "        mpl.mpl_figure_comm\n",
       "    );\n",
       "}\n"
      ],
      "text/plain": [
       "<IPython.core.display.Javascript object>"
      ]
     },
     "metadata": {},
     "output_type": "display_data"
    },
    {
     "data": {
      "text/html": [
       "<img src=\"data:image/png;base64,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\" width=\"900\">"
      ],
      "text/plain": [
       "<IPython.core.display.HTML object>"
      ]
     },
     "metadata": {},
     "output_type": "display_data"
    }
   ],
   "source": [
    "colors = ['blue', 'orange', 'green', 'red', 'pink']\n",
    "fig, ax = plt.subplots()\n",
    "fig.set_size_inches(9, 4, forward=True)\n",
    "\n",
    "ax.set_xlim(xlims_lower[nr_of_experiment-1], xlims_upper[nr_of_experiment-1])\n",
    "ax.set_ylim(None, ylims_upper[nr_of_experiment-1])\n",
    "ax.get_yaxis().set_visible(False)\n",
    "\n",
    "ax.spines['top'].set_visible(False)\n",
    "ax.spines['right'].set_visible(False)\n",
    "ax.spines['bottom'].set_visible(False)\n",
    "ax.spines['left'].set_visible(False)\n",
    "\n",
    "\n",
    "plt.xlabel(chr(0x00b9)+'H, ppm', fontsize=15, labelpad=5)\n",
    "#plt.ylabel('Relative intensity', fontsize=15, labelpad=10)\n",
    "\n",
    "for i, name in enumerate(names_components_up_to):\n",
    "    ax.plot(ppm, globals()[name], alpha=1.0, color = colors[i], \n",
    "            label=components_dictionary['experiment_'+str(nr_of_experiment)][i])\n",
    "    if i==0:\n",
    "        ax.fill_between(ppm, 0, globals()[name], color=colors[0], alpha=1.0)\n",
    "    else:\n",
    "        predecessor = name[:-1]+str(i)\n",
    "        ax.fill_between(ppm, globals()[predecessor] , globals()[name], color=colors[i], alpha=1.0)\n",
    "ax.plot(ppm, mix_without_noise, color='black', alpha=1.0, label='Mixture', linewidth=0.5)\n",
    "ax.legend(prop={'size': 12}, loc='upper right')\n",
    "ax.invert_xaxis()\n",
    "plt.tight_layout()\n",
    "#plt.savefig(os.getcwd()+'/spectra_visualisation/experiment'+str(nr_of_experiment)+'.jpg', dpi=300)"
   ]
  },
  {
   "cell_type": "code",
   "execution_count": 61,
   "id": "c5f29582",
   "metadata": {},
   "outputs": [
    {
     "data": {
      "text/plain": [
       "0.013973605410999918"
      ]
     },
     "execution_count": 61,
     "metadata": {},
     "output_type": "execute_result"
    }
   ],
   "source": [
    "estimation_vis['proportion_of_noise_in_theoretical']"
   ]
  },
  {
   "cell_type": "code",
   "execution_count": 62,
   "id": "06f95f58",
   "metadata": {},
   "outputs": [
    {
     "data": {
      "text/plain": [
       "-9.940936962493652e-13"
      ]
     },
     "execution_count": 62,
     "metadata": {},
     "output_type": "execute_result"
    }
   ],
   "source": [
    "1-sum(estimation_vis['proportions'])"
   ]
  },
  {
   "cell_type": "code",
   "execution_count": null,
   "id": "0cf1ca0b",
   "metadata": {},
   "outputs": [],
   "source": []
  }
 ],
 "metadata": {
  "kernelspec": {
   "display_name": "Python 3 (ipykernel)",
   "language": "python",
   "name": "python3"
  },
  "language_info": {
   "codemirror_mode": {
    "name": "ipython",
    "version": 3
   },
   "file_extension": ".py",
   "mimetype": "text/x-python",
   "name": "python",
   "nbconvert_exporter": "python",
   "pygments_lexer": "ipython3",
   "version": "3.10.6"
  }
 },
 "nbformat": 4,
 "nbformat_minor": 5
}
