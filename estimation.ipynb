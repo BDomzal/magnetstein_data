{
 "cells": [
  {
   "cell_type": "markdown",
   "id": "2278c778",
   "metadata": {},
   "source": [
    "### Settings & imports"
   ]
  },
  {
   "cell_type": "code",
   "execution_count": 1,
   "id": "52249722",
   "metadata": {},
   "outputs": [],
   "source": [
    "%matplotlib notebook"
   ]
  },
  {
   "cell_type": "code",
   "execution_count": 2,
   "id": "6af4ae0a",
   "metadata": {},
   "outputs": [],
   "source": [
    "import masserstein "
   ]
  },
  {
   "cell_type": "code",
   "execution_count": 3,
   "id": "55f0baff",
   "metadata": {},
   "outputs": [],
   "source": [
    "import os\n",
    "\n",
    "from masserstein import Spectrum, NMRSpectrum\n",
    "from masserstein import estimate_proportions\n",
    "\n",
    "from matplotlib import pyplot as plt\n",
    "\n",
    "import numpy as np\n",
    "\n",
    "import pulp\n",
    "\n",
    "import pickle\n",
    "\n",
    "import seaborn as sns\n",
    "from textwrap import wrap\n",
    "\n",
    "from pathlib import Path\n",
    "\n",
    "import pandas as pd\n",
    "\n",
    "import time"
   ]
  },
  {
   "cell_type": "code",
   "execution_count": 4,
   "id": "87bb9eea",
   "metadata": {},
   "outputs": [],
   "source": [
    "nr_of_experiment = 9"
   ]
  },
  {
   "cell_type": "markdown",
   "id": "e7c66ece",
   "metadata": {},
   "source": [
    "### Experiments data"
   ]
  },
  {
   "cell_type": "code",
   "execution_count": 5,
   "id": "8ac155e9",
   "metadata": {},
   "outputs": [],
   "source": [
    "components_dictionary = {'experiment_1': ['Pinene', 'Benzyl benzoate'],\n",
    "                        'experiment_2': ['Pinene', 'Limonene'],\n",
    "                        'experiment_7': ['Benzyl benzoate', 'm Anisaldehyde'],\n",
    "                        'experiment_3': ['Isopropyl myristate', 'Benzyl benzoate', 'Alpha pinene', 'Limonene'],\n",
    "                        'experiment_6': ['Pinene', 'Benzyl benzoate'],\n",
    "                        'experiment_5': ['Lactate', 'Alanine', 'Creatine', 'Creatinine', 'Choline chloride'],\n",
    "                        'experiment_9': ['Lactate', 'Alanine', 'Creatine', 'Creatinine', 'Choline chloride'],\n",
    "                        'experiment_4': ['Lactate', 'Alanine', 'Creatine', 'Creatinine', 'Choline chloride'],\n",
    "                        'experiment_8': ['Benzyl benzoate', 'm Anisaldehyde']}"
   ]
  },
  {
   "cell_type": "code",
   "execution_count": 6,
   "id": "dbafb3dd",
   "metadata": {},
   "outputs": [],
   "source": [
    "protons_dictionary = {'experiment_1': [16, 12],\n",
    "                        'experiment_2': [16, 16],\n",
    "                        'experiment_7': [12, 8],\n",
    "                        'experiment_3': [34, 12, 16, 16],\n",
    "                        'experiment_6': [16, 12],\n",
    "                        'experiment_5': [4, 4, 5, 5, 13],\n",
    "                        'experiment_9': [4, 4, 5, 5, 13],\n",
    "                        'experiment_4': [4, 4, 5, 5, 13],\n",
    "                        'experiment_8': [12, 8]}"
   ]
  },
  {
   "cell_type": "code",
   "execution_count": 7,
   "id": "703c5272",
   "metadata": {},
   "outputs": [],
   "source": [
    "ground_truth_molar_proportions = {'experiment_1': [0.09088457406472417, 0.9091154259352758],\n",
    "                                    'experiment_2': [0.505, 0.495],\n",
    "                                    'experiment_7': [0.8403875207510383, 0.1596124792489616],\n",
    "                                    'experiment_3': [0.7264578344443725, 0.10578603326645526, 0.081968804608116, 0.08578732768105625],\n",
    "                                    'experiment_6': [0.3865, 0.6135],\n",
    "                                    'experiment_5': [0.3022, 0.2240, 0.1253, 0.2028, 0.1457],\n",
    "                                    'experiment_9': [0.3022, 0.2240, 0.1253, 0.2028, 0.1457],\n",
    "                                    'experiment_4': [0.3022, 0.2240, 0.1253, 0.2028, 0.1457],\n",
    "                                    'experiment_8': [0.3702, 0.6298]}"
   ]
  },
  {
   "cell_type": "code",
   "execution_count": 8,
   "id": "2f07ffaf",
   "metadata": {},
   "outputs": [],
   "source": [
    "experiments_folders = {'experiment_1': 'experiment_1_intensity_difference',\n",
    "                        'experiment_6': 'experiment_6_miniperfumes',\n",
    "                        'experiment_5': 'experiment_5_metabolites',\n",
    "                         'experiment_7': 'experiment_7_overlapping_and_intensity_difference',\n",
    "                         'experiment_9': 'experiment_9_and_4_shim',\n",
    "                       'experiment_4': 'experiment_9_and_4_shim',\n",
    "                        'experiment_8': 'experiment_8_different_solvents',\n",
    "                        'experiment_3': 'experiment_3_perfumes_and_absent_components',\n",
    "                         'experiment_2': 'experiment_2_overlapping'}"
   ]
  },
  {
   "cell_type": "code",
   "execution_count": 9,
   "id": "5c15336b",
   "metadata": {},
   "outputs": [],
   "source": [
    "best_kappa_mix = [0.09, 0.05, 0.37, 0.11, 0.03, 0.06, 0.23, 0.2, 0.05]"
   ]
  },
  {
   "cell_type": "code",
   "execution_count": 10,
   "id": "53eb8b54",
   "metadata": {},
   "outputs": [],
   "source": [
    "best_kappa_model = [0.08, 0.01, 0.24, 0.02, 0.09, 0.2, 0.02, 0.29, 0.02]"
   ]
  },
  {
   "cell_type": "markdown",
   "id": "e84eddc3",
   "metadata": {},
   "source": [
    "### Loading the data"
   ]
  },
  {
   "cell_type": "code",
   "execution_count": 11,
   "id": "a16bd1b8",
   "metadata": {},
   "outputs": [],
   "source": [
    "if (nr_of_experiment != 9 and nr_of_experiment != 4):\n",
    "    filename = experiments_folders['experiment_' + str(nr_of_experiment)] + '/preprocessed_mix.csv'\n",
    "    mix = np.loadtxt(filename, delimiter=',')\n",
    "else:\n",
    "    filename = experiments_folders['experiment_' + str(nr_of_experiment)] + '/preprocessed_exp'+str(nr_of_experiment)+'_mix.csv'\n",
    "    mix = np.loadtxt(filename, delimiter=',')"
   ]
  },
  {
   "cell_type": "code",
   "execution_count": 12,
   "id": "67c8aeb3",
   "metadata": {},
   "outputs": [],
   "source": [
    "how_many_components = len(components_dictionary['experiment_'+str(nr_of_experiment)])\n",
    "names = ['comp' + str(i) for i in range(how_many_components)]"
   ]
  },
  {
   "cell_type": "code",
   "execution_count": 13,
   "id": "4d402de1",
   "metadata": {},
   "outputs": [],
   "source": [
    "spectra = []\n",
    "for i in range(how_many_components):\n",
    "    if (nr_of_experiment != 9 and nr_of_experiment != 4):\n",
    "        filename = experiments_folders['experiment_' + str(nr_of_experiment)] + \\\n",
    "                    '/preprocessed_comp' + str(i) + '.csv'\n",
    "        spectra.append(np.loadtxt(filename, delimiter=','))\n",
    "    else:\n",
    "        filename = experiments_folders['experiment_' + str(nr_of_experiment)] + \\\n",
    "                    '/preprocessed_exp'+str(nr_of_experiment)+ '_comp'+ str(i) + '.csv'\n",
    "        spectra.append(np.loadtxt(filename, delimiter=','))"
   ]
  },
  {
   "cell_type": "code",
   "execution_count": 14,
   "id": "f68d15b6",
   "metadata": {},
   "outputs": [],
   "source": [
    "spectra2 = []\n",
    "names = []\n",
    "for i in range(len(spectra)):\n",
    "    spectra2.append(NMRSpectrum(confs=list(zip(spectra[i][:,0], spectra[i][:,1])), \n",
    "                                protons=protons_dictionary['experiment_'+str(nr_of_experiment)][i]))\n",
    "    names.append('comp'+str(i))\n",
    "\n",
    "spectra = spectra2\n",
    "del(spectra2)\n",
    "mix = NMRSpectrum(confs=list(zip(mix[:,0], mix[:,1])))"
   ]
  },
  {
   "cell_type": "code",
   "execution_count": 15,
   "id": "066513a3",
   "metadata": {},
   "outputs": [],
   "source": [
    "for i, name in enumerate(names):\n",
    "    globals()[name] = spectra[i]"
   ]
  },
  {
   "cell_type": "code",
   "execution_count": 16,
   "id": "ac6d46ac",
   "metadata": {},
   "outputs": [],
   "source": [
    "# mix.plot(profile=True)\n",
    "# for sp in spectra:\n",
    "#     sp.plot(profile=True)"
   ]
  },
  {
   "cell_type": "markdown",
   "id": "ab9cc65b",
   "metadata": {},
   "source": [
    "### Estimation with default kappas"
   ]
  },
  {
   "cell_type": "code",
   "execution_count": 17,
   "id": "fa502e5c",
   "metadata": {},
   "outputs": [],
   "source": [
    "default_MTD = 0.25\n",
    "default_MTD_th = 0.22"
   ]
  },
  {
   "cell_type": "code",
   "execution_count": 18,
   "id": "b555024a",
   "metadata": {},
   "outputs": [
    {
     "name": "stdout",
     "output_type": "stream",
     "text": [
      "Set parameter Username\n",
      "Academic license - for non-commercial use only - expires 2023-11-10\n"
     ]
    },
    {
     "name": "stderr",
     "output_type": "stream",
     "text": [
      "Initial filtering of formulas: 100%|█████████████| 5/5 [00:00<00:00, 283.56it/s]\n"
     ]
    },
    {
     "name": "stdout",
     "output_type": "stream",
     "text": [
      "Removed theoretical spectra due to no matching experimental peaks: []\n",
      "Envelope bounds: [(0.827366, 4.1272, 0), (0.827366, 4.1272, 1), (0.827366, 4.1272, 2), (0.827366, 4.1272, 3), (0.827366, 4.1272, 4)]\n"
     ]
    },
    {
     "name": "stderr",
     "output_type": "stream",
     "text": [
      "Computing chunks: 100%|███████████████████████| 5/5 [00:00<00:00, 180788.97it/s]\n"
     ]
    },
    {
     "name": "stdout",
     "output_type": "stream",
     "text": [
      "Number of chunks: 1\n",
      "ChunkIDs: [0, 0, 0, 0, 0]\n",
      "Chunk bounds: [(0.577366, 4.3772)]\n"
     ]
    },
    {
     "name": "stderr",
     "output_type": "stream",
     "text": [
      "Splitting the experimental spectrum into chunks: 27129it [00:00, 3155323.42it/s]\n"
     ]
    },
    {
     "name": "stdout",
     "output_type": "stream",
     "text": [
      "Ion currents in chunks: [1.0000000000000013]\n"
     ]
    },
    {
     "name": "stderr",
     "output_type": "stream",
     "text": [
      "\r",
      "Deconvolving chunks:   0%|                                | 0/1 [00:00<?, ?it/s]"
     ]
    },
    {
     "name": "stdout",
     "output_type": "stream",
     "text": [
      "Deconvolving chunk 0\n"
     ]
    },
    {
     "name": "stderr",
     "output_type": "stream",
     "text": [
      "/home/basia/.local/lib/python3.10/site-packages/pulp/pulp.py:1352: UserWarning: Spaces are not permitted in the name. Converted to '_'\n",
      "  warnings.warn(\"Spaces are not permitted in the name. Converted to '_'\")\n",
      "Deconvolving chunks: 100%|████████████████████████| 1/1 [00:13<00:00, 13.80s/it]"
     ]
    },
    {
     "name": "stdout",
     "output_type": "stream",
     "text": [
      "Chunk %i deconvolution status: Optimal\n",
      "Signal proportion in experimental spectrum: 1.0\n",
      "Noise proportion in experimental spectrum: 0.0\n",
      "Total explanation: 1.0\n",
      "Noise proportion in combination of theoretical spectra: 0.012982665978\n"
     ]
    },
    {
     "name": "stderr",
     "output_type": "stream",
     "text": [
      "\n"
     ]
    }
   ],
   "source": [
    "start_vis = time.time()\n",
    "estimation_vis = estimate_proportions(mix, spectra,\n",
    "                                        MTD=default_MTD, \n",
    "                                        MTD_th=default_MTD_th,\n",
    "                                        verbose=True, solver=pulp.GUROBI(msg=False), \n",
    "                                        what_to_compare='area')\n",
    "stop_vis = time.time()"
   ]
  },
  {
   "cell_type": "code",
   "execution_count": 19,
   "id": "aaa68541",
   "metadata": {},
   "outputs": [
    {
     "data": {
      "text/plain": [
       "[0.2277171004750003,\n",
       " 0.15221241158600018,\n",
       " 0.11933757262300015,\n",
       " 0.17611442219200021,\n",
       " 0.32461849312400043]"
      ]
     },
     "execution_count": 19,
     "metadata": {},
     "output_type": "execute_result"
    }
   ],
   "source": [
    "estimation_vis['proportions']"
   ]
  },
  {
   "cell_type": "code",
   "execution_count": 20,
   "id": "ffacb9e2",
   "metadata": {},
   "outputs": [
    {
     "data": {
      "text/plain": [
       "0.012982665978000017"
      ]
     },
     "execution_count": 20,
     "metadata": {},
     "output_type": "execute_result"
    }
   ],
   "source": [
    "estimation_vis['proportion_of_noise_in_theoretical']"
   ]
  },
  {
   "cell_type": "code",
   "execution_count": 21,
   "id": "33b21a28",
   "metadata": {},
   "outputs": [
    {
     "data": {
      "text/plain": [
       "-1.3322676295501878e-15"
      ]
     },
     "execution_count": 21,
     "metadata": {},
     "output_type": "execute_result"
    }
   ],
   "source": [
    "1 - sum(estimation_vis['proportions'])"
   ]
  },
  {
   "cell_type": "code",
   "execution_count": 22,
   "id": "405bd6cb",
   "metadata": {},
   "outputs": [
    {
     "name": "stdout",
     "output_type": "stream",
     "text": [
      "Estimation took 13.84929871559143 seconds.\n"
     ]
    }
   ],
   "source": [
    "print('Estimation took '+ str(stop_vis-start_vis) + ' seconds.')"
   ]
  },
  {
   "cell_type": "code",
   "execution_count": 18,
   "id": "3114bfae",
   "metadata": {},
   "outputs": [
    {
     "name": "stdout",
     "output_type": "stream",
     "text": [
      "Set parameter Username\n",
      "Academic license - for non-commercial use only - expires 2023-11-10\n"
     ]
    },
    {
     "name": "stderr",
     "output_type": "stream",
     "text": [
      "Initial filtering of formulas: 100%|██████████████| 2/2 [00:00<00:00, 64.33it/s]\n"
     ]
    },
    {
     "name": "stdout",
     "output_type": "stream",
     "text": [
      "Removed theoretical spectra due to no matching experimental peaks: []\n",
      "Envelope bounds: [(-1.97165, 13.9718, 0), (-1.97165, 13.9718, 1)]\n"
     ]
    },
    {
     "name": "stderr",
     "output_type": "stream",
     "text": [
      "Computing chunks: 100%|████████████████████████| 2/2 [00:00<00:00, 93206.76it/s]\n"
     ]
    },
    {
     "name": "stdout",
     "output_type": "stream",
     "text": [
      "Number of chunks: 1\n",
      "ChunkIDs: [0, 0]\n",
      "Chunk bounds: [(-2.22165, 14.2218)]\n"
     ]
    },
    {
     "name": "stderr",
     "output_type": "stream",
     "text": [
      "Splitting the experimental spectrum into chunks: 131072it [00:00, 3747253.50it/s]\n"
     ]
    },
    {
     "name": "stdout",
     "output_type": "stream",
     "text": [
      "Ion currents in chunks: [1.0000000000000042]\n"
     ]
    },
    {
     "name": "stderr",
     "output_type": "stream",
     "text": [
      "\r",
      "Deconvolving chunks:   0%|                                | 0/1 [00:00<?, ?it/s]"
     ]
    },
    {
     "name": "stdout",
     "output_type": "stream",
     "text": [
      "Deconvolving chunk 0\n"
     ]
    },
    {
     "name": "stderr",
     "output_type": "stream",
     "text": [
      "/home/basia/.local/lib/python3.10/site-packages/pulp/pulp.py:1352: UserWarning: Spaces are not permitted in the name. Converted to '_'\n",
      "  warnings.warn(\"Spaces are not permitted in the name. Converted to '_'\")\n",
      "Deconvolving chunks: 100%|███████████████████████| 1/1 [02:50<00:00, 170.42s/it]"
     ]
    },
    {
     "name": "stdout",
     "output_type": "stream",
     "text": [
      "Chunk %i deconvolution status: Optimal\n",
      "Signal proportion in experimental spectrum: 0.9898630249\n",
      "Noise proportion in experimental spectrum: 0.010136975092999989\n",
      "Total explanation: 0.999999999993\n",
      "Noise proportion in combination of theoretical spectra: 0.013677671283\n"
     ]
    },
    {
     "name": "stderr",
     "output_type": "stream",
     "text": [
      "\n"
     ]
    }
   ],
   "source": [
    "start_con = time.time()\n",
    "estimation_molar = estimate_proportions(mix, spectra,\n",
    "                                        MTD=default_MTD, \n",
    "                                        MTD_th=default_MTD_th,\n",
    "                                        verbose=True, solver=pulp.GUROBI(msg=False), \n",
    "                                        what_to_compare='concentration')\n",
    "stop_con = time.time()"
   ]
  },
  {
   "cell_type": "code",
   "execution_count": 19,
   "id": "6395dac8",
   "metadata": {},
   "outputs": [
    {
     "data": {
      "text/plain": [
       "{'proportions': [0.0936759579726857, 0.9063240420273143],\n",
       " 'Wasserstein distance': 0.020144494451744988}"
      ]
     },
     "execution_count": 19,
     "metadata": {},
     "output_type": "execute_result"
    }
   ],
   "source": [
    "estimation_molar"
   ]
  },
  {
   "cell_type": "code",
   "execution_count": 20,
   "id": "463a640c",
   "metadata": {},
   "outputs": [
    {
     "name": "stdout",
     "output_type": "stream",
     "text": [
      "Estimation took 170.53412175178528 seconds.\n"
     ]
    }
   ],
   "source": [
    "print('Estimation took '+ str(stop_con-start_con) + ' seconds.')"
   ]
  },
  {
   "cell_type": "code",
   "execution_count": 25,
   "id": "2e48d69e",
   "metadata": {},
   "outputs": [],
   "source": [
    "# #MTD = 0.25, MTD_th = 0.22\n",
    "\n",
    "# #1: 'Pinene', 'Benzyl benzoate'\n",
    "# 0.0937, 0.9063\n",
    "\n",
    "# #2: 'Pinene', 'Limonene'\n",
    "# 0.5240, 0.4760\n",
    "\n",
    "# #3: 'Isopropyl myristate', 'Benzyl benzoate', 'Alpha pinene', 'Limonene'\n",
    "# 0.7511, 0.1059, 0.0809, 0.0621\n",
    "\n",
    "# #4: 'Lactate', 'Alanine', 'Creatine', 'Creatinine', 'Choline chloride'\n",
    "# 0.3165, 0.2137, 0.1341, 0.1960, 0.1397\n",
    "\n",
    "# #5: 'Lactate', 'Alanine', 'Creatine', 'Creatinine', 'Choline chloride'\n",
    "# 0.3180, 0.2113, 0.1293, 0.2018, 0.1397\n",
    "\n",
    "# #6: 'Pinene', 'Benzyl benzoate'\n",
    "# 0.3931, 0.6069\n",
    "\n",
    "# #7: 'Benzyl benzoate', 'm Anisaldehyde'\n",
    "# 0.8428, 0.1572\n",
    "\n",
    "# #8: 'Benzyl benzoate', 'm Anisaldehyde'\n",
    "# 0.3762, 0.6238\n",
    "\n",
    "# #9: Lactate', 'Alanine', 'Creatine', 'Creatinine', 'Choline chloride'\n",
    "# 0.3180, 0.2125, 0.1333, 0.1967, 0.1395"
   ]
  },
  {
   "cell_type": "markdown",
   "id": "e81953cc",
   "metadata": {},
   "source": [
    "#### Saving results of estimation with default parameters"
   ]
  },
  {
   "cell_type": "code",
   "execution_count": 26,
   "id": "b013e53e",
   "metadata": {},
   "outputs": [
    {
     "data": {
      "text/html": [
       "<div>\n",
       "<style scoped>\n",
       "    .dataframe tbody tr th:only-of-type {\n",
       "        vertical-align: middle;\n",
       "    }\n",
       "\n",
       "    .dataframe tbody tr th {\n",
       "        vertical-align: top;\n",
       "    }\n",
       "\n",
       "    .dataframe thead th {\n",
       "        text-align: right;\n",
       "    }\n",
       "</style>\n",
       "<table border=\"1\" class=\"dataframe\">\n",
       "  <thead>\n",
       "    <tr style=\"text-align: right;\">\n",
       "      <th></th>\n",
       "      <th>Lactate</th>\n",
       "      <th>Alanine</th>\n",
       "      <th>Creatine</th>\n",
       "      <th>Creatinine</th>\n",
       "      <th>Choline chloride</th>\n",
       "    </tr>\n",
       "  </thead>\n",
       "  <tbody>\n",
       "    <tr>\n",
       "      <th>0</th>\n",
       "      <td>0.227601</td>\n",
       "      <td>0.151269</td>\n",
       "      <td>0.115668</td>\n",
       "      <td>0.180571</td>\n",
       "      <td>0.324891</td>\n",
       "    </tr>\n",
       "  </tbody>\n",
       "</table>\n",
       "</div>"
      ],
      "text/plain": [
       "    Lactate   Alanine  Creatine  Creatinine  Choline chloride\n",
       "0  0.227601  0.151269  0.115668    0.180571          0.324891"
      ]
     },
     "execution_count": 26,
     "metadata": {},
     "output_type": "execute_result"
    }
   ],
   "source": [
    "res_vis = pd.DataFrame(np.array(estimation_vis['proportions']).reshape(1,-1), \n",
    "             columns = components_dictionary['experiment_'+str(nr_of_experiment)])\n",
    "res_vis"
   ]
  },
  {
   "cell_type": "code",
   "execution_count": 27,
   "id": "6335e47a",
   "metadata": {},
   "outputs": [
    {
     "data": {
      "text/html": [
       "<div>\n",
       "<style scoped>\n",
       "    .dataframe tbody tr th:only-of-type {\n",
       "        vertical-align: middle;\n",
       "    }\n",
       "\n",
       "    .dataframe tbody tr th {\n",
       "        vertical-align: top;\n",
       "    }\n",
       "\n",
       "    .dataframe thead th {\n",
       "        text-align: right;\n",
       "    }\n",
       "</style>\n",
       "<table border=\"1\" class=\"dataframe\">\n",
       "  <thead>\n",
       "    <tr style=\"text-align: right;\">\n",
       "      <th></th>\n",
       "      <th>Lactate</th>\n",
       "      <th>Alanine</th>\n",
       "      <th>Creatine</th>\n",
       "      <th>Creatinine</th>\n",
       "      <th>Choline chloride</th>\n",
       "    </tr>\n",
       "  </thead>\n",
       "  <tbody>\n",
       "    <tr>\n",
       "      <th>0</th>\n",
       "      <td>0.317956</td>\n",
       "      <td>0.21132</td>\n",
       "      <td>0.129269</td>\n",
       "      <td>0.201804</td>\n",
       "      <td>0.139652</td>\n",
       "    </tr>\n",
       "  </tbody>\n",
       "</table>\n",
       "</div>"
      ],
      "text/plain": [
       "    Lactate  Alanine  Creatine  Creatinine  Choline chloride\n",
       "0  0.317956  0.21132  0.129269    0.201804          0.139652"
      ]
     },
     "execution_count": 27,
     "metadata": {},
     "output_type": "execute_result"
    }
   ],
   "source": [
    "res_con = pd.DataFrame(np.array(estimation_molar['proportions']).reshape(1,-1), \n",
    "             columns = components_dictionary['experiment_'+str(nr_of_experiment)])\n",
    "res_con"
   ]
  },
  {
   "cell_type": "code",
   "execution_count": 28,
   "id": "86e782c9",
   "metadata": {},
   "outputs": [],
   "source": [
    "# if (nr_of_experiment != 9 and nr_of_experiment != 4):\n",
    "#     res_vis.to_csv(experiments_folders['experiment_' + str(nr_of_experiment)]+\n",
    "#                    '/results_area_default_parameters.csv')\n",
    "# else:\n",
    "#     res_vis.to_csv(experiments_folders['experiment_' + str(nr_of_experiment)]+\n",
    "#                    '/results_area__default_parameters_exp'+str(nr_of_experiment)+'.csv')"
   ]
  },
  {
   "cell_type": "code",
   "execution_count": 29,
   "id": "61b26555",
   "metadata": {},
   "outputs": [],
   "source": [
    "# if (nr_of_experiment != 9 and nr_of_experiment != 4):\n",
    "#     res_con.to_csv(experiments_folders['experiment_' + str(nr_of_experiment)]+\n",
    "#                '/results_concentration_default_parameters.csv')\n",
    "# else:\n",
    "#     res_con.to_csv(experiments_folders['experiment_' + str(nr_of_experiment)]+\n",
    "#                '/results_concentration_default_parameters_exp'+str(nr_of_experiment)+'.csv')"
   ]
  },
  {
   "cell_type": "code",
   "execution_count": 23,
   "id": "f136050f",
   "metadata": {},
   "outputs": [],
   "source": [
    "# comp_noise = np.array(estimation_vis['proportion_of_noise_in_theoretical']).reshape(-1)\n",
    "# if (nr_of_experiment != 9 and nr_of_experiment != 4):\n",
    "#     np.savetxt(experiments_folders['experiment_' + \\\n",
    "#                                     str(nr_of_experiment)] + \\\n",
    "#                                     '/proportion_of_noise_in_comp'+ \\\n",
    "#                                     '_default_parameters.csv',\n",
    "#                                       comp_noise)\n",
    "# else:\n",
    "#     np.savetxt(experiments_folders['experiment_' + \\\n",
    "#                                     str(nr_of_experiment)] + \\\n",
    "#                                     '/proportion_of_noise_in_comp'+ \\\n",
    "#                                     '_exp' + str(nr_of_experiment) + \\\n",
    "#                                     '_default_parameters.csv',\n",
    "#                                       comp_noise)"
   ]
  },
  {
   "cell_type": "code",
   "execution_count": 24,
   "id": "053f2e6a",
   "metadata": {},
   "outputs": [],
   "source": [
    "# mix_noise = np.array(1 - sum(estimation_vis['proportions'])).reshape(-1)\n",
    "# if (nr_of_experiment != 9 and nr_of_experiment != 4):\n",
    "#     np.savetxt(experiments_folders['experiment_' + \\\n",
    "#                                     str(nr_of_experiment)] + \\\n",
    "#                                     '/proportion_of_noise_in_mix'+ \\\n",
    "#                                     '_default_parameters.csv',\n",
    "#                                       mix_noise)\n",
    "# else:\n",
    "#     np.savetxt(experiments_folders['experiment_' + \\\n",
    "#                                     str(nr_of_experiment)] + \\\n",
    "#                                     '/proportion_of_noise_in_mix'+ \\\n",
    "#                                     '_exp' + str(nr_of_experiment) + \\\n",
    "#                                     '_default_parameters.csv',\n",
    "#                                       mix_noise)"
   ]
  },
  {
   "cell_type": "markdown",
   "id": "31df385c",
   "metadata": {},
   "source": [
    "### Estimation with optimal kappas"
   ]
  },
  {
   "cell_type": "code",
   "execution_count": 30,
   "id": "d44ebf2f",
   "metadata": {},
   "outputs": [
    {
     "name": "stderr",
     "output_type": "stream",
     "text": [
      "Initial filtering of formulas: 100%|█████████████| 5/5 [00:00<00:00, 144.11it/s]\n"
     ]
    },
    {
     "name": "stdout",
     "output_type": "stream",
     "text": [
      "Removed theoretical spectra due to no matching experimental peaks: []\n",
      "Envelope bounds: [(0.80732, 4.107280000000001, 0), (0.80732, 4.107280000000001, 1), (0.80732, 4.107280000000001, 2), (0.80732, 4.107280000000001, 3), (0.80732, 4.107280000000001, 4)]\n"
     ]
    },
    {
     "name": "stderr",
     "output_type": "stream",
     "text": [
      "Computing chunks: 100%|███████████████████████| 5/5 [00:00<00:00, 209715.20it/s]\n"
     ]
    },
    {
     "name": "stdout",
     "output_type": "stream",
     "text": [
      "Number of chunks: 1\n",
      "ChunkIDs: [0, 0, 0, 0, 0]\n",
      "Chunk bounds: [(0.7173200000000001, 4.197280000000001)]\n"
     ]
    },
    {
     "name": "stderr",
     "output_type": "stream",
     "text": [
      "Splitting the experimental spectrum into chunks: 54259it [00:00, 3259646.51it/s]\n"
     ]
    },
    {
     "name": "stdout",
     "output_type": "stream",
     "text": [
      "Ion currents in chunks: [0.9999999999999941]\n"
     ]
    },
    {
     "name": "stderr",
     "output_type": "stream",
     "text": [
      "\r",
      "Deconvolving chunks:   0%|                                | 0/1 [00:00<?, ?it/s]"
     ]
    },
    {
     "name": "stdout",
     "output_type": "stream",
     "text": [
      "Deconvolving chunk 0\n"
     ]
    },
    {
     "name": "stderr",
     "output_type": "stream",
     "text": [
      "/home/basia/.local/lib/python3.10/site-packages/pulp/pulp.py:1352: UserWarning: Spaces are not permitted in the name. Converted to '_'\n",
      "  warnings.warn(\"Spaces are not permitted in the name. Converted to '_'\")\n",
      "Deconvolving chunks: 100%|████████████████████████| 1/1 [00:45<00:00, 45.65s/it]"
     ]
    },
    {
     "name": "stdout",
     "output_type": "stream",
     "text": [
      "Chunk %i deconvolution status: Optimal\n",
      "Signal proportion in experimental spectrum: 0.986165643791\n",
      "Noise proportion in experimental spectrum: 0.013834356208999995\n",
      "Total explanation: 1.0\n",
      "Noise proportion in combination of theoretical spectra: 0.015281259506\n"
     ]
    },
    {
     "name": "stderr",
     "output_type": "stream",
     "text": [
      "\n"
     ]
    }
   ],
   "source": [
    "start_vis_opt = time.time()\n",
    "estimation_vis_opt = estimate_proportions(mix, spectra,\n",
    "                                        MTD=best_kappa_mix[nr_of_experiment-1], \n",
    "                                        MTD_th=best_kappa_model[nr_of_experiment-1],\n",
    "                                        verbose=True, solver=pulp.GUROBI(msg=False), \n",
    "                                        what_to_compare='area')\n",
    "stop_vis_opt = time.time()"
   ]
  },
  {
   "cell_type": "code",
   "execution_count": 31,
   "id": "7c07657a",
   "metadata": {},
   "outputs": [
    {
     "name": "stdout",
     "output_type": "stream",
     "text": [
      "Estimation took 45.731362104415894 seconds.\n"
     ]
    }
   ],
   "source": [
    "print('Estimation took '+ str(stop_vis_opt-start_vis_opt) + ' seconds.')"
   ]
  },
  {
   "cell_type": "code",
   "execution_count": 32,
   "id": "c58f7242",
   "metadata": {},
   "outputs": [
    {
     "data": {
      "text/plain": [
       "[0.2147787636609987,\n",
       " 0.1514447914439991,\n",
       " 0.11514143271199932,\n",
       " 0.17965840774699895,\n",
       " 0.3251422482269981]"
      ]
     },
     "execution_count": 32,
     "metadata": {},
     "output_type": "execute_result"
    }
   ],
   "source": [
    "estimation_vis_opt['proportions']"
   ]
  },
  {
   "cell_type": "code",
   "execution_count": 33,
   "id": "f463c3dd",
   "metadata": {},
   "outputs": [
    {
     "data": {
      "text/plain": [
       "0.01528125950599991"
      ]
     },
     "execution_count": 33,
     "metadata": {},
     "output_type": "execute_result"
    }
   ],
   "source": [
    "estimation_vis_opt['proportion_of_noise_in_theoretical']"
   ]
  },
  {
   "cell_type": "code",
   "execution_count": 34,
   "id": "ca73a54f",
   "metadata": {},
   "outputs": [
    {
     "name": "stderr",
     "output_type": "stream",
     "text": [
      "Initial filtering of formulas: 100%|█████████████| 5/5 [00:00<00:00, 138.08it/s]\n"
     ]
    },
    {
     "name": "stdout",
     "output_type": "stream",
     "text": [
      "Removed theoretical spectra due to no matching experimental peaks: []\n",
      "Envelope bounds: [(0.80732, 4.107280000000001, 0), (0.80732, 4.107280000000001, 1), (0.80732, 4.107280000000001, 2), (0.80732, 4.107280000000001, 3), (0.80732, 4.107280000000001, 4)]\n"
     ]
    },
    {
     "name": "stderr",
     "output_type": "stream",
     "text": [
      "Computing chunks: 100%|███████████████████████| 5/5 [00:00<00:00, 207638.81it/s]\n"
     ]
    },
    {
     "name": "stdout",
     "output_type": "stream",
     "text": [
      "Number of chunks: 1\n",
      "ChunkIDs: [0, 0, 0, 0, 0]\n",
      "Chunk bounds: [(0.7173200000000001, 4.197280000000001)]\n"
     ]
    },
    {
     "name": "stderr",
     "output_type": "stream",
     "text": [
      "Splitting the experimental spectrum into chunks: 54259it [00:00, 3130467.70it/s]\n"
     ]
    },
    {
     "name": "stdout",
     "output_type": "stream",
     "text": [
      "Ion currents in chunks: [0.9999999999999941]\n"
     ]
    },
    {
     "name": "stderr",
     "output_type": "stream",
     "text": [
      "\r",
      "Deconvolving chunks:   0%|                                | 0/1 [00:00<?, ?it/s]"
     ]
    },
    {
     "name": "stdout",
     "output_type": "stream",
     "text": [
      "Deconvolving chunk 0\n"
     ]
    },
    {
     "name": "stderr",
     "output_type": "stream",
     "text": [
      "Deconvolving chunks: 100%|████████████████████████| 1/1 [00:45<00:00, 45.17s/it]"
     ]
    },
    {
     "name": "stdout",
     "output_type": "stream",
     "text": [
      "Chunk %i deconvolution status: Optimal\n",
      "Signal proportion in experimental spectrum: 0.986165643791\n",
      "Noise proportion in experimental spectrum: 0.013834356208999995\n",
      "Total explanation: 1.0\n",
      "Noise proportion in combination of theoretical spectra: 0.015281259506\n"
     ]
    },
    {
     "name": "stderr",
     "output_type": "stream",
     "text": [
      "\n"
     ]
    }
   ],
   "source": [
    "start_con_opt = time.time()\n",
    "estimation_molar_opt = estimate_proportions(mix, spectra,\n",
    "                                        MTD=best_kappa_mix[nr_of_experiment-1], \n",
    "                                        MTD_th=best_kappa_model[nr_of_experiment-1],\n",
    "                                        verbose=True, solver=pulp.GUROBI(msg=False), \n",
    "                                        what_to_compare='concentration')\n",
    "stop_con_opt = time.time()"
   ]
  },
  {
   "cell_type": "code",
   "execution_count": 35,
   "id": "655ff1b5",
   "metadata": {},
   "outputs": [
    {
     "name": "stdout",
     "output_type": "stream",
     "text": [
      "Estimation took 45.25510573387146 seconds.\n"
     ]
    }
   ],
   "source": [
    "print('Estimation took '+ str(stop_con_opt-start_con_opt) + ' seconds.')"
   ]
  },
  {
   "cell_type": "code",
   "execution_count": 36,
   "id": "354693e3",
   "metadata": {},
   "outputs": [
    {
     "data": {
      "text/plain": [
       "[0.3059059426202505,\n",
       " 0.21570038346401188,\n",
       " 0.1311952742739669,\n",
       " 0.20470766712576569,\n",
       " 0.14249073251600508]"
      ]
     },
     "execution_count": 36,
     "metadata": {},
     "output_type": "execute_result"
    }
   ],
   "source": [
    "estimation_molar_opt['proportions']"
   ]
  },
  {
   "cell_type": "markdown",
   "id": "304c1464",
   "metadata": {},
   "source": [
    "### Saving estimation results"
   ]
  },
  {
   "cell_type": "code",
   "execution_count": 37,
   "id": "54ac2c19",
   "metadata": {},
   "outputs": [
    {
     "data": {
      "text/html": [
       "<div>\n",
       "<style scoped>\n",
       "    .dataframe tbody tr th:only-of-type {\n",
       "        vertical-align: middle;\n",
       "    }\n",
       "\n",
       "    .dataframe tbody tr th {\n",
       "        vertical-align: top;\n",
       "    }\n",
       "\n",
       "    .dataframe thead th {\n",
       "        text-align: right;\n",
       "    }\n",
       "</style>\n",
       "<table border=\"1\" class=\"dataframe\">\n",
       "  <thead>\n",
       "    <tr style=\"text-align: right;\">\n",
       "      <th></th>\n",
       "      <th>Lactate</th>\n",
       "      <th>Alanine</th>\n",
       "      <th>Creatine</th>\n",
       "      <th>Creatinine</th>\n",
       "      <th>Choline chloride</th>\n",
       "    </tr>\n",
       "  </thead>\n",
       "  <tbody>\n",
       "    <tr>\n",
       "      <th>0</th>\n",
       "      <td>0.214779</td>\n",
       "      <td>0.151445</td>\n",
       "      <td>0.115141</td>\n",
       "      <td>0.179658</td>\n",
       "      <td>0.325142</td>\n",
       "    </tr>\n",
       "  </tbody>\n",
       "</table>\n",
       "</div>"
      ],
      "text/plain": [
       "    Lactate   Alanine  Creatine  Creatinine  Choline chloride\n",
       "0  0.214779  0.151445  0.115141    0.179658          0.325142"
      ]
     },
     "execution_count": 37,
     "metadata": {},
     "output_type": "execute_result"
    }
   ],
   "source": [
    "res_vis_opt = pd.DataFrame(np.array(estimation_vis_opt['proportions']).reshape(1,-1), \n",
    "             columns = components_dictionary['experiment_'+str(nr_of_experiment)])\n",
    "res_vis_opt"
   ]
  },
  {
   "cell_type": "code",
   "execution_count": 38,
   "id": "f7dbc5be",
   "metadata": {},
   "outputs": [
    {
     "data": {
      "text/html": [
       "<div>\n",
       "<style scoped>\n",
       "    .dataframe tbody tr th:only-of-type {\n",
       "        vertical-align: middle;\n",
       "    }\n",
       "\n",
       "    .dataframe tbody tr th {\n",
       "        vertical-align: top;\n",
       "    }\n",
       "\n",
       "    .dataframe thead th {\n",
       "        text-align: right;\n",
       "    }\n",
       "</style>\n",
       "<table border=\"1\" class=\"dataframe\">\n",
       "  <thead>\n",
       "    <tr style=\"text-align: right;\">\n",
       "      <th></th>\n",
       "      <th>Lactate</th>\n",
       "      <th>Alanine</th>\n",
       "      <th>Creatine</th>\n",
       "      <th>Creatinine</th>\n",
       "      <th>Choline chloride</th>\n",
       "    </tr>\n",
       "  </thead>\n",
       "  <tbody>\n",
       "    <tr>\n",
       "      <th>0</th>\n",
       "      <td>0.305906</td>\n",
       "      <td>0.2157</td>\n",
       "      <td>0.131195</td>\n",
       "      <td>0.204708</td>\n",
       "      <td>0.142491</td>\n",
       "    </tr>\n",
       "  </tbody>\n",
       "</table>\n",
       "</div>"
      ],
      "text/plain": [
       "    Lactate  Alanine  Creatine  Creatinine  Choline chloride\n",
       "0  0.305906   0.2157  0.131195    0.204708          0.142491"
      ]
     },
     "execution_count": 38,
     "metadata": {},
     "output_type": "execute_result"
    }
   ],
   "source": [
    "res_con_opt = pd.DataFrame(np.array(estimation_molar_opt['proportions']).reshape(1,-1), \n",
    "             columns = components_dictionary['experiment_'+str(nr_of_experiment)])\n",
    "res_con_opt"
   ]
  },
  {
   "cell_type": "code",
   "execution_count": 39,
   "id": "a2cfc1d2",
   "metadata": {},
   "outputs": [],
   "source": [
    "# if (nr_of_experiment != 9 and nr_of_experiment != 4):\n",
    "#     res_vis_opt.to_csv(experiments_folders['experiment_' + str(nr_of_experiment)]+\n",
    "#                    '/results_area.csv')\n",
    "# else:\n",
    "#     res_vis_opt.to_csv(experiments_folders['experiment_' + str(nr_of_experiment)]+\n",
    "#                    '/results_area_exp'+str(nr_of_experiment)+'.csv')"
   ]
  },
  {
   "cell_type": "code",
   "execution_count": 40,
   "id": "15c18f10",
   "metadata": {},
   "outputs": [],
   "source": [
    "# if (nr_of_experiment != 9 and nr_of_experiment != 4):\n",
    "#     res_con_opt.to_csv(experiments_folders['experiment_' + str(nr_of_experiment)]+\n",
    "#                '/results_concentration.csv')\n",
    "# else:\n",
    "#     res_con_opt.to_csv(experiments_folders['experiment_' + str(nr_of_experiment)]+\n",
    "#                '/results_concentration_exp'+str(nr_of_experiment)+'.csv')"
   ]
  },
  {
   "cell_type": "markdown",
   "id": "cee5a55b",
   "metadata": {},
   "source": [
    "### Mixture vs linear combination of components (noise removed)"
   ]
  },
  {
   "cell_type": "code",
   "execution_count": 23,
   "id": "b35a6293",
   "metadata": {},
   "outputs": [],
   "source": [
    "ignore_negative = False"
   ]
  },
  {
   "cell_type": "code",
   "execution_count": 24,
   "id": "5c4477be",
   "metadata": {},
   "outputs": [],
   "source": [
    "def make_nonnegative(ints):\n",
    "    res_ints = ints\n",
    "    for col_nr in range(ints.shape[1]):\n",
    "        neg = ints[:,col_nr]<0\n",
    "        res_ints[:,col_nr][neg]=0\n",
    "    return(res_ints)"
   ]
  },
  {
   "cell_type": "markdown",
   "id": "7b3e6bac",
   "metadata": {},
   "source": [
    "#### Mix"
   ]
  },
  {
   "cell_type": "code",
   "execution_count": 25,
   "id": "d938786b",
   "metadata": {},
   "outputs": [],
   "source": [
    "ppm = np.array(mix.confs)[:,0]\n",
    "mix_ints = np.array(mix.confs)[:,1]"
   ]
  },
  {
   "cell_type": "code",
   "execution_count": 26,
   "id": "e49f6542",
   "metadata": {},
   "outputs": [],
   "source": [
    "mix_without_noise = NMRSpectrum(confs = list(zip(ppm, mix_ints - np.array(estimation_vis['noise']))))\n",
    "mix_without_noise = np.array(mix_without_noise.confs)[:,1]"
   ]
  },
  {
   "cell_type": "code",
   "execution_count": 27,
   "id": "41218d82",
   "metadata": {},
   "outputs": [],
   "source": [
    "if ignore_negative:\n",
    "    mix_without_noise = make_nonnegative(mix_without_noise.reshape(-1,1))"
   ]
  },
  {
   "cell_type": "code",
   "execution_count": 28,
   "id": "58ba1cea",
   "metadata": {},
   "outputs": [],
   "source": [
    "mix_without_noise = mix_without_noise/sum(mix_without_noise)"
   ]
  },
  {
   "cell_type": "code",
   "execution_count": 29,
   "id": "0fdd347c",
   "metadata": {},
   "outputs": [
    {
     "name": "stdout",
     "output_type": "stream",
     "text": [
      "Is there a lot of negative signal in mixture (intensity below -0.0001)?\n",
      "0\n"
     ]
    }
   ],
   "source": [
    "thr = -1e-4\n",
    "print('Is there a lot of negative signal in mixture (intensity below '+str(thr)+')?')\n",
    "print(sum(mix_without_noise[mix_without_noise<thr]))"
   ]
  },
  {
   "cell_type": "markdown",
   "id": "a062a05d",
   "metadata": {},
   "source": [
    "#### Components"
   ]
  },
  {
   "cell_type": "code",
   "execution_count": 30,
   "id": "bff9eece",
   "metadata": {},
   "outputs": [],
   "source": [
    "components_ints = []\n",
    "for spectrum in spectra:\n",
    "    components_ints.append(np.array(spectrum.confs)[:,1])#.reshape(-1,1))"
   ]
  },
  {
   "cell_type": "code",
   "execution_count": 31,
   "id": "fe65533e",
   "metadata": {},
   "outputs": [
    {
     "name": "stdout",
     "output_type": "stream",
     "text": [
      "Is there a lot of negative signal in mixture (intensity below -0.0001)?\n",
      "Component 0:\n",
      "0\n",
      "Is there a lot of negative signal in mixture (intensity below -0.0001)?\n",
      "Component 1:\n",
      "0\n",
      "Is there a lot of negative signal in mixture (intensity below -0.0001)?\n",
      "Component 2:\n",
      "0\n",
      "Is there a lot of negative signal in mixture (intensity below -0.0001)?\n",
      "Component 3:\n",
      "0\n",
      "Is there a lot of negative signal in mixture (intensity below -0.0001)?\n",
      "Component 4:\n",
      "0\n"
     ]
    }
   ],
   "source": [
    "thr = -1e-4\n",
    "for i, arr in enumerate(components_ints):\n",
    "    print('Is there a lot of negative signal in mixture (intensity below '+str(thr)+')?')\n",
    "    print('Component '+str(i)+':')\n",
    "    print(sum(arr[arr<thr]))"
   ]
  },
  {
   "cell_type": "code",
   "execution_count": 32,
   "id": "86e0b53a",
   "metadata": {},
   "outputs": [],
   "source": [
    "p = estimation_vis['proportions']\n",
    "p = np.array(p).reshape(len(p),1)"
   ]
  },
  {
   "cell_type": "code",
   "execution_count": 33,
   "id": "ec7c6d91",
   "metadata": {},
   "outputs": [],
   "source": [
    "names_components_up_to = ['sum_up_to_'+str(i+1) for i in range(len(spectra))]"
   ]
  },
  {
   "cell_type": "code",
   "execution_count": 34,
   "id": "cee5adc5",
   "metadata": {},
   "outputs": [],
   "source": [
    "components = [comp.reshape(-1,1) for comp in components_ints]\n",
    "components_no_scaling = np.concatenate(components, axis=1)\n",
    "components_scaled = components_no_scaling*p[:,0]"
   ]
  },
  {
   "cell_type": "code",
   "execution_count": 35,
   "id": "06ef63df",
   "metadata": {},
   "outputs": [
    {
     "name": "stderr",
     "output_type": "stream",
     "text": [
      "/tmp/ipykernel_193431/2062537961.py:1: RuntimeWarning: invalid value encountered in divide\n",
      "  proportions_point_by_point = (components_scaled/np.sum(components_scaled, axis=1).reshape(-1,1))\n"
     ]
    }
   ],
   "source": [
    "proportions_point_by_point = (components_scaled/np.sum(components_scaled, axis=1).reshape(-1,1))\n",
    "proportions_point_by_point = np.nan_to_num(proportions_point_by_point)\n",
    "noise_in_ref = np.array(estimation_vis['noise_in_theoretical']).reshape(-1,1)\n",
    "noise_split_for_components = proportions_point_by_point*noise_in_ref"
   ]
  },
  {
   "cell_type": "code",
   "execution_count": 36,
   "id": "d06e7972",
   "metadata": {},
   "outputs": [
    {
     "data": {
      "text/plain": [
       "True"
      ]
     },
     "execution_count": 36,
     "metadata": {},
     "output_type": "execute_result"
    }
   ],
   "source": [
    "(np.round(components_scaled-noise_split_for_components, decimals=5)>=0).all()"
   ]
  },
  {
   "cell_type": "code",
   "execution_count": 37,
   "id": "c3a37fa7",
   "metadata": {},
   "outputs": [],
   "source": [
    "X = components_scaled - noise_split_for_components"
   ]
  },
  {
   "cell_type": "code",
   "execution_count": 38,
   "id": "c7c5a100",
   "metadata": {},
   "outputs": [
    {
     "data": {
      "text/plain": [
       "True"
      ]
     },
     "execution_count": 38,
     "metadata": {},
     "output_type": "execute_result"
    }
   ],
   "source": [
    "(np.sum(X[:,:1], axis=1)==X[:,0]).all()"
   ]
  },
  {
   "cell_type": "code",
   "execution_count": 39,
   "id": "24612df2",
   "metadata": {},
   "outputs": [],
   "source": [
    "if ignore_negative:\n",
    "    X = make_nonnegative(X)"
   ]
  },
  {
   "cell_type": "code",
   "execution_count": 40,
   "id": "4116e7a4",
   "metadata": {},
   "outputs": [],
   "source": [
    "for i, name in enumerate(names_components_up_to):\n",
    "    #not_normalized = np.sum(X[:,:(i+1)], axis=1)\n",
    "    \n",
    "    globals()[name] = np.sum(X[:,:(i+1)], axis=1)"
   ]
  },
  {
   "cell_type": "code",
   "execution_count": 41,
   "id": "4cc24789",
   "metadata": {},
   "outputs": [],
   "source": [
    "xlims_lower = [1.55, 1.6, 4.4, 3.55, 3.55, 1.55, 7.3, 9.1, 3.55]\n",
    "xlims_upper = [2.45, 2.4, 7.8, 4.05, 4.05, 2.4, 7.6, 10.1, 4.05]\n",
    "ylims_lower = [-0.00005, -0.00005, -0.000025, -0.00005, -0.00005, -0.00005, -0.00005, -0.00005, -0.00005]\n",
    "ylims_upper = [0.00045, 0.0025, 0.00016, 0.0016, 0.0011, 0.0016, 0.0026, 0.0014, 0.0016]"
   ]
  },
  {
   "cell_type": "code",
   "execution_count": 45,
   "id": "b4281800",
   "metadata": {},
   "outputs": [
    {
     "data": {
      "application/javascript": [
       "/* Put everything inside the global mpl namespace */\n",
       "/* global mpl */\n",
       "window.mpl = {};\n",
       "\n",
       "mpl.get_websocket_type = function () {\n",
       "    if (typeof WebSocket !== 'undefined') {\n",
       "        return WebSocket;\n",
       "    } else if (typeof MozWebSocket !== 'undefined') {\n",
       "        return MozWebSocket;\n",
       "    } else {\n",
       "        alert(\n",
       "            'Your browser does not have WebSocket support. ' +\n",
       "                'Please try Chrome, Safari or Firefox ≥ 6. ' +\n",
       "                'Firefox 4 and 5 are also supported but you ' +\n",
       "                'have to enable WebSockets in about:config.'\n",
       "        );\n",
       "    }\n",
       "};\n",
       "\n",
       "mpl.figure = function (figure_id, websocket, ondownload, parent_element) {\n",
       "    this.id = figure_id;\n",
       "\n",
       "    this.ws = websocket;\n",
       "\n",
       "    this.supports_binary = this.ws.binaryType !== undefined;\n",
       "\n",
       "    if (!this.supports_binary) {\n",
       "        var warnings = document.getElementById('mpl-warnings');\n",
       "        if (warnings) {\n",
       "            warnings.style.display = 'block';\n",
       "            warnings.textContent =\n",
       "                'This browser does not support binary websocket messages. ' +\n",
       "                'Performance may be slow.';\n",
       "        }\n",
       "    }\n",
       "\n",
       "    this.imageObj = new Image();\n",
       "\n",
       "    this.context = undefined;\n",
       "    this.message = undefined;\n",
       "    this.canvas = undefined;\n",
       "    this.rubberband_canvas = undefined;\n",
       "    this.rubberband_context = undefined;\n",
       "    this.format_dropdown = undefined;\n",
       "\n",
       "    this.image_mode = 'full';\n",
       "\n",
       "    this.root = document.createElement('div');\n",
       "    this.root.setAttribute('style', 'display: inline-block');\n",
       "    this._root_extra_style(this.root);\n",
       "\n",
       "    parent_element.appendChild(this.root);\n",
       "\n",
       "    this._init_header(this);\n",
       "    this._init_canvas(this);\n",
       "    this._init_toolbar(this);\n",
       "\n",
       "    var fig = this;\n",
       "\n",
       "    this.waiting = false;\n",
       "\n",
       "    this.ws.onopen = function () {\n",
       "        fig.send_message('supports_binary', { value: fig.supports_binary });\n",
       "        fig.send_message('send_image_mode', {});\n",
       "        if (fig.ratio !== 1) {\n",
       "            fig.send_message('set_device_pixel_ratio', {\n",
       "                device_pixel_ratio: fig.ratio,\n",
       "            });\n",
       "        }\n",
       "        fig.send_message('refresh', {});\n",
       "    };\n",
       "\n",
       "    this.imageObj.onload = function () {\n",
       "        if (fig.image_mode === 'full') {\n",
       "            // Full images could contain transparency (where diff images\n",
       "            // almost always do), so we need to clear the canvas so that\n",
       "            // there is no ghosting.\n",
       "            fig.context.clearRect(0, 0, fig.canvas.width, fig.canvas.height);\n",
       "        }\n",
       "        fig.context.drawImage(fig.imageObj, 0, 0);\n",
       "    };\n",
       "\n",
       "    this.imageObj.onunload = function () {\n",
       "        fig.ws.close();\n",
       "    };\n",
       "\n",
       "    this.ws.onmessage = this._make_on_message_function(this);\n",
       "\n",
       "    this.ondownload = ondownload;\n",
       "};\n",
       "\n",
       "mpl.figure.prototype._init_header = function () {\n",
       "    var titlebar = document.createElement('div');\n",
       "    titlebar.classList =\n",
       "        'ui-dialog-titlebar ui-widget-header ui-corner-all ui-helper-clearfix';\n",
       "    var titletext = document.createElement('div');\n",
       "    titletext.classList = 'ui-dialog-title';\n",
       "    titletext.setAttribute(\n",
       "        'style',\n",
       "        'width: 100%; text-align: center; padding: 3px;'\n",
       "    );\n",
       "    titlebar.appendChild(titletext);\n",
       "    this.root.appendChild(titlebar);\n",
       "    this.header = titletext;\n",
       "};\n",
       "\n",
       "mpl.figure.prototype._canvas_extra_style = function (_canvas_div) {};\n",
       "\n",
       "mpl.figure.prototype._root_extra_style = function (_canvas_div) {};\n",
       "\n",
       "mpl.figure.prototype._init_canvas = function () {\n",
       "    var fig = this;\n",
       "\n",
       "    var canvas_div = (this.canvas_div = document.createElement('div'));\n",
       "    canvas_div.setAttribute('tabindex', '0');\n",
       "    canvas_div.setAttribute(\n",
       "        'style',\n",
       "        'border: 1px solid #ddd;' +\n",
       "            'box-sizing: content-box;' +\n",
       "            'clear: both;' +\n",
       "            'min-height: 1px;' +\n",
       "            'min-width: 1px;' +\n",
       "            'outline: 0;' +\n",
       "            'overflow: hidden;' +\n",
       "            'position: relative;' +\n",
       "            'resize: both;' +\n",
       "            'z-index: 2;'\n",
       "    );\n",
       "\n",
       "    function on_keyboard_event_closure(name) {\n",
       "        return function (event) {\n",
       "            return fig.key_event(event, name);\n",
       "        };\n",
       "    }\n",
       "\n",
       "    canvas_div.addEventListener(\n",
       "        'keydown',\n",
       "        on_keyboard_event_closure('key_press')\n",
       "    );\n",
       "    canvas_div.addEventListener(\n",
       "        'keyup',\n",
       "        on_keyboard_event_closure('key_release')\n",
       "    );\n",
       "\n",
       "    this._canvas_extra_style(canvas_div);\n",
       "    this.root.appendChild(canvas_div);\n",
       "\n",
       "    var canvas = (this.canvas = document.createElement('canvas'));\n",
       "    canvas.classList.add('mpl-canvas');\n",
       "    canvas.setAttribute(\n",
       "        'style',\n",
       "        'box-sizing: content-box;' +\n",
       "            'pointer-events: none;' +\n",
       "            'position: relative;' +\n",
       "            'z-index: 0;'\n",
       "    );\n",
       "\n",
       "    this.context = canvas.getContext('2d');\n",
       "\n",
       "    var backingStore =\n",
       "        this.context.backingStorePixelRatio ||\n",
       "        this.context.webkitBackingStorePixelRatio ||\n",
       "        this.context.mozBackingStorePixelRatio ||\n",
       "        this.context.msBackingStorePixelRatio ||\n",
       "        this.context.oBackingStorePixelRatio ||\n",
       "        this.context.backingStorePixelRatio ||\n",
       "        1;\n",
       "\n",
       "    this.ratio = (window.devicePixelRatio || 1) / backingStore;\n",
       "\n",
       "    var rubberband_canvas = (this.rubberband_canvas = document.createElement(\n",
       "        'canvas'\n",
       "    ));\n",
       "    rubberband_canvas.setAttribute(\n",
       "        'style',\n",
       "        'box-sizing: content-box;' +\n",
       "            'left: 0;' +\n",
       "            'pointer-events: none;' +\n",
       "            'position: absolute;' +\n",
       "            'top: 0;' +\n",
       "            'z-index: 1;'\n",
       "    );\n",
       "\n",
       "    // Apply a ponyfill if ResizeObserver is not implemented by browser.\n",
       "    if (this.ResizeObserver === undefined) {\n",
       "        if (window.ResizeObserver !== undefined) {\n",
       "            this.ResizeObserver = window.ResizeObserver;\n",
       "        } else {\n",
       "            var obs = _JSXTOOLS_RESIZE_OBSERVER({});\n",
       "            this.ResizeObserver = obs.ResizeObserver;\n",
       "        }\n",
       "    }\n",
       "\n",
       "    this.resizeObserverInstance = new this.ResizeObserver(function (entries) {\n",
       "        var nentries = entries.length;\n",
       "        for (var i = 0; i < nentries; i++) {\n",
       "            var entry = entries[i];\n",
       "            var width, height;\n",
       "            if (entry.contentBoxSize) {\n",
       "                if (entry.contentBoxSize instanceof Array) {\n",
       "                    // Chrome 84 implements new version of spec.\n",
       "                    width = entry.contentBoxSize[0].inlineSize;\n",
       "                    height = entry.contentBoxSize[0].blockSize;\n",
       "                } else {\n",
       "                    // Firefox implements old version of spec.\n",
       "                    width = entry.contentBoxSize.inlineSize;\n",
       "                    height = entry.contentBoxSize.blockSize;\n",
       "                }\n",
       "            } else {\n",
       "                // Chrome <84 implements even older version of spec.\n",
       "                width = entry.contentRect.width;\n",
       "                height = entry.contentRect.height;\n",
       "            }\n",
       "\n",
       "            // Keep the size of the canvas and rubber band canvas in sync with\n",
       "            // the canvas container.\n",
       "            if (entry.devicePixelContentBoxSize) {\n",
       "                // Chrome 84 implements new version of spec.\n",
       "                canvas.setAttribute(\n",
       "                    'width',\n",
       "                    entry.devicePixelContentBoxSize[0].inlineSize\n",
       "                );\n",
       "                canvas.setAttribute(\n",
       "                    'height',\n",
       "                    entry.devicePixelContentBoxSize[0].blockSize\n",
       "                );\n",
       "            } else {\n",
       "                canvas.setAttribute('width', width * fig.ratio);\n",
       "                canvas.setAttribute('height', height * fig.ratio);\n",
       "            }\n",
       "            /* This rescales the canvas back to display pixels, so that it\n",
       "             * appears correct on HiDPI screens. */\n",
       "            canvas.style.width = width + 'px';\n",
       "            canvas.style.height = height + 'px';\n",
       "\n",
       "            rubberband_canvas.setAttribute('width', width);\n",
       "            rubberband_canvas.setAttribute('height', height);\n",
       "\n",
       "            // And update the size in Python. We ignore the initial 0/0 size\n",
       "            // that occurs as the element is placed into the DOM, which should\n",
       "            // otherwise not happen due to the minimum size styling.\n",
       "            if (fig.ws.readyState == 1 && width != 0 && height != 0) {\n",
       "                fig.request_resize(width, height);\n",
       "            }\n",
       "        }\n",
       "    });\n",
       "    this.resizeObserverInstance.observe(canvas_div);\n",
       "\n",
       "    function on_mouse_event_closure(name) {\n",
       "        /* User Agent sniffing is bad, but WebKit is busted:\n",
       "         * https://bugs.webkit.org/show_bug.cgi?id=144526\n",
       "         * https://bugs.webkit.org/show_bug.cgi?id=181818\n",
       "         * The worst that happens here is that they get an extra browser\n",
       "         * selection when dragging, if this check fails to catch them.\n",
       "         */\n",
       "        var UA = navigator.userAgent;\n",
       "        var isWebKit = /AppleWebKit/.test(UA) && !/Chrome/.test(UA);\n",
       "        if(isWebKit) {\n",
       "            return function (event) {\n",
       "                /* This prevents the web browser from automatically changing to\n",
       "                 * the text insertion cursor when the button is pressed. We\n",
       "                 * want to control all of the cursor setting manually through\n",
       "                 * the 'cursor' event from matplotlib */\n",
       "                event.preventDefault()\n",
       "                return fig.mouse_event(event, name);\n",
       "            };\n",
       "        } else {\n",
       "            return function (event) {\n",
       "                return fig.mouse_event(event, name);\n",
       "            };\n",
       "        }\n",
       "    }\n",
       "\n",
       "    canvas_div.addEventListener(\n",
       "        'mousedown',\n",
       "        on_mouse_event_closure('button_press')\n",
       "    );\n",
       "    canvas_div.addEventListener(\n",
       "        'mouseup',\n",
       "        on_mouse_event_closure('button_release')\n",
       "    );\n",
       "    canvas_div.addEventListener(\n",
       "        'dblclick',\n",
       "        on_mouse_event_closure('dblclick')\n",
       "    );\n",
       "    // Throttle sequential mouse events to 1 every 20ms.\n",
       "    canvas_div.addEventListener(\n",
       "        'mousemove',\n",
       "        on_mouse_event_closure('motion_notify')\n",
       "    );\n",
       "\n",
       "    canvas_div.addEventListener(\n",
       "        'mouseenter',\n",
       "        on_mouse_event_closure('figure_enter')\n",
       "    );\n",
       "    canvas_div.addEventListener(\n",
       "        'mouseleave',\n",
       "        on_mouse_event_closure('figure_leave')\n",
       "    );\n",
       "\n",
       "    canvas_div.addEventListener('wheel', function (event) {\n",
       "        if (event.deltaY < 0) {\n",
       "            event.step = 1;\n",
       "        } else {\n",
       "            event.step = -1;\n",
       "        }\n",
       "        on_mouse_event_closure('scroll')(event);\n",
       "    });\n",
       "\n",
       "    canvas_div.appendChild(canvas);\n",
       "    canvas_div.appendChild(rubberband_canvas);\n",
       "\n",
       "    this.rubberband_context = rubberband_canvas.getContext('2d');\n",
       "    this.rubberband_context.strokeStyle = '#000000';\n",
       "\n",
       "    this._resize_canvas = function (width, height, forward) {\n",
       "        if (forward) {\n",
       "            canvas_div.style.width = width + 'px';\n",
       "            canvas_div.style.height = height + 'px';\n",
       "        }\n",
       "    };\n",
       "\n",
       "    // Disable right mouse context menu.\n",
       "    canvas_div.addEventListener('contextmenu', function (_e) {\n",
       "        event.preventDefault();\n",
       "        return false;\n",
       "    });\n",
       "\n",
       "    function set_focus() {\n",
       "        canvas.focus();\n",
       "        canvas_div.focus();\n",
       "    }\n",
       "\n",
       "    window.setTimeout(set_focus, 100);\n",
       "};\n",
       "\n",
       "mpl.figure.prototype._init_toolbar = function () {\n",
       "    var fig = this;\n",
       "\n",
       "    var toolbar = document.createElement('div');\n",
       "    toolbar.classList = 'mpl-toolbar';\n",
       "    this.root.appendChild(toolbar);\n",
       "\n",
       "    function on_click_closure(name) {\n",
       "        return function (_event) {\n",
       "            return fig.toolbar_button_onclick(name);\n",
       "        };\n",
       "    }\n",
       "\n",
       "    function on_mouseover_closure(tooltip) {\n",
       "        return function (event) {\n",
       "            if (!event.currentTarget.disabled) {\n",
       "                return fig.toolbar_button_onmouseover(tooltip);\n",
       "            }\n",
       "        };\n",
       "    }\n",
       "\n",
       "    fig.buttons = {};\n",
       "    var buttonGroup = document.createElement('div');\n",
       "    buttonGroup.classList = 'mpl-button-group';\n",
       "    for (var toolbar_ind in mpl.toolbar_items) {\n",
       "        var name = mpl.toolbar_items[toolbar_ind][0];\n",
       "        var tooltip = mpl.toolbar_items[toolbar_ind][1];\n",
       "        var image = mpl.toolbar_items[toolbar_ind][2];\n",
       "        var method_name = mpl.toolbar_items[toolbar_ind][3];\n",
       "\n",
       "        if (!name) {\n",
       "            /* Instead of a spacer, we start a new button group. */\n",
       "            if (buttonGroup.hasChildNodes()) {\n",
       "                toolbar.appendChild(buttonGroup);\n",
       "            }\n",
       "            buttonGroup = document.createElement('div');\n",
       "            buttonGroup.classList = 'mpl-button-group';\n",
       "            continue;\n",
       "        }\n",
       "\n",
       "        var button = (fig.buttons[name] = document.createElement('button'));\n",
       "        button.classList = 'mpl-widget';\n",
       "        button.setAttribute('role', 'button');\n",
       "        button.setAttribute('aria-disabled', 'false');\n",
       "        button.addEventListener('click', on_click_closure(method_name));\n",
       "        button.addEventListener('mouseover', on_mouseover_closure(tooltip));\n",
       "\n",
       "        var icon_img = document.createElement('img');\n",
       "        icon_img.src = '_images/' + image + '.png';\n",
       "        icon_img.srcset = '_images/' + image + '_large.png 2x';\n",
       "        icon_img.alt = tooltip;\n",
       "        button.appendChild(icon_img);\n",
       "\n",
       "        buttonGroup.appendChild(button);\n",
       "    }\n",
       "\n",
       "    if (buttonGroup.hasChildNodes()) {\n",
       "        toolbar.appendChild(buttonGroup);\n",
       "    }\n",
       "\n",
       "    var fmt_picker = document.createElement('select');\n",
       "    fmt_picker.classList = 'mpl-widget';\n",
       "    toolbar.appendChild(fmt_picker);\n",
       "    this.format_dropdown = fmt_picker;\n",
       "\n",
       "    for (var ind in mpl.extensions) {\n",
       "        var fmt = mpl.extensions[ind];\n",
       "        var option = document.createElement('option');\n",
       "        option.selected = fmt === mpl.default_extension;\n",
       "        option.innerHTML = fmt;\n",
       "        fmt_picker.appendChild(option);\n",
       "    }\n",
       "\n",
       "    var status_bar = document.createElement('span');\n",
       "    status_bar.classList = 'mpl-message';\n",
       "    toolbar.appendChild(status_bar);\n",
       "    this.message = status_bar;\n",
       "};\n",
       "\n",
       "mpl.figure.prototype.request_resize = function (x_pixels, y_pixels) {\n",
       "    // Request matplotlib to resize the figure. Matplotlib will then trigger a resize in the client,\n",
       "    // which will in turn request a refresh of the image.\n",
       "    this.send_message('resize', { width: x_pixels, height: y_pixels });\n",
       "};\n",
       "\n",
       "mpl.figure.prototype.send_message = function (type, properties) {\n",
       "    properties['type'] = type;\n",
       "    properties['figure_id'] = this.id;\n",
       "    this.ws.send(JSON.stringify(properties));\n",
       "};\n",
       "\n",
       "mpl.figure.prototype.send_draw_message = function () {\n",
       "    if (!this.waiting) {\n",
       "        this.waiting = true;\n",
       "        this.ws.send(JSON.stringify({ type: 'draw', figure_id: this.id }));\n",
       "    }\n",
       "};\n",
       "\n",
       "mpl.figure.prototype.handle_save = function (fig, _msg) {\n",
       "    var format_dropdown = fig.format_dropdown;\n",
       "    var format = format_dropdown.options[format_dropdown.selectedIndex].value;\n",
       "    fig.ondownload(fig, format);\n",
       "};\n",
       "\n",
       "mpl.figure.prototype.handle_resize = function (fig, msg) {\n",
       "    var size = msg['size'];\n",
       "    if (size[0] !== fig.canvas.width || size[1] !== fig.canvas.height) {\n",
       "        fig._resize_canvas(size[0], size[1], msg['forward']);\n",
       "        fig.send_message('refresh', {});\n",
       "    }\n",
       "};\n",
       "\n",
       "mpl.figure.prototype.handle_rubberband = function (fig, msg) {\n",
       "    var x0 = msg['x0'] / fig.ratio;\n",
       "    var y0 = (fig.canvas.height - msg['y0']) / fig.ratio;\n",
       "    var x1 = msg['x1'] / fig.ratio;\n",
       "    var y1 = (fig.canvas.height - msg['y1']) / fig.ratio;\n",
       "    x0 = Math.floor(x0) + 0.5;\n",
       "    y0 = Math.floor(y0) + 0.5;\n",
       "    x1 = Math.floor(x1) + 0.5;\n",
       "    y1 = Math.floor(y1) + 0.5;\n",
       "    var min_x = Math.min(x0, x1);\n",
       "    var min_y = Math.min(y0, y1);\n",
       "    var width = Math.abs(x1 - x0);\n",
       "    var height = Math.abs(y1 - y0);\n",
       "\n",
       "    fig.rubberband_context.clearRect(\n",
       "        0,\n",
       "        0,\n",
       "        fig.canvas.width / fig.ratio,\n",
       "        fig.canvas.height / fig.ratio\n",
       "    );\n",
       "\n",
       "    fig.rubberband_context.strokeRect(min_x, min_y, width, height);\n",
       "};\n",
       "\n",
       "mpl.figure.prototype.handle_figure_label = function (fig, msg) {\n",
       "    // Updates the figure title.\n",
       "    fig.header.textContent = msg['label'];\n",
       "};\n",
       "\n",
       "mpl.figure.prototype.handle_cursor = function (fig, msg) {\n",
       "    fig.canvas_div.style.cursor = msg['cursor'];\n",
       "};\n",
       "\n",
       "mpl.figure.prototype.handle_message = function (fig, msg) {\n",
       "    fig.message.textContent = msg['message'];\n",
       "};\n",
       "\n",
       "mpl.figure.prototype.handle_draw = function (fig, _msg) {\n",
       "    // Request the server to send over a new figure.\n",
       "    fig.send_draw_message();\n",
       "};\n",
       "\n",
       "mpl.figure.prototype.handle_image_mode = function (fig, msg) {\n",
       "    fig.image_mode = msg['mode'];\n",
       "};\n",
       "\n",
       "mpl.figure.prototype.handle_history_buttons = function (fig, msg) {\n",
       "    for (var key in msg) {\n",
       "        if (!(key in fig.buttons)) {\n",
       "            continue;\n",
       "        }\n",
       "        fig.buttons[key].disabled = !msg[key];\n",
       "        fig.buttons[key].setAttribute('aria-disabled', !msg[key]);\n",
       "    }\n",
       "};\n",
       "\n",
       "mpl.figure.prototype.handle_navigate_mode = function (fig, msg) {\n",
       "    if (msg['mode'] === 'PAN') {\n",
       "        fig.buttons['Pan'].classList.add('active');\n",
       "        fig.buttons['Zoom'].classList.remove('active');\n",
       "    } else if (msg['mode'] === 'ZOOM') {\n",
       "        fig.buttons['Pan'].classList.remove('active');\n",
       "        fig.buttons['Zoom'].classList.add('active');\n",
       "    } else {\n",
       "        fig.buttons['Pan'].classList.remove('active');\n",
       "        fig.buttons['Zoom'].classList.remove('active');\n",
       "    }\n",
       "};\n",
       "\n",
       "mpl.figure.prototype.updated_canvas_event = function () {\n",
       "    // Called whenever the canvas gets updated.\n",
       "    this.send_message('ack', {});\n",
       "};\n",
       "\n",
       "// A function to construct a web socket function for onmessage handling.\n",
       "// Called in the figure constructor.\n",
       "mpl.figure.prototype._make_on_message_function = function (fig) {\n",
       "    return function socket_on_message(evt) {\n",
       "        if (evt.data instanceof Blob) {\n",
       "            var img = evt.data;\n",
       "            if (img.type !== 'image/png') {\n",
       "                /* FIXME: We get \"Resource interpreted as Image but\n",
       "                 * transferred with MIME type text/plain:\" errors on\n",
       "                 * Chrome.  But how to set the MIME type?  It doesn't seem\n",
       "                 * to be part of the websocket stream */\n",
       "                img.type = 'image/png';\n",
       "            }\n",
       "\n",
       "            /* Free the memory for the previous frames */\n",
       "            if (fig.imageObj.src) {\n",
       "                (window.URL || window.webkitURL).revokeObjectURL(\n",
       "                    fig.imageObj.src\n",
       "                );\n",
       "            }\n",
       "\n",
       "            fig.imageObj.src = (window.URL || window.webkitURL).createObjectURL(\n",
       "                img\n",
       "            );\n",
       "            fig.updated_canvas_event();\n",
       "            fig.waiting = false;\n",
       "            return;\n",
       "        } else if (\n",
       "            typeof evt.data === 'string' &&\n",
       "            evt.data.slice(0, 21) === 'data:image/png;base64'\n",
       "        ) {\n",
       "            fig.imageObj.src = evt.data;\n",
       "            fig.updated_canvas_event();\n",
       "            fig.waiting = false;\n",
       "            return;\n",
       "        }\n",
       "\n",
       "        var msg = JSON.parse(evt.data);\n",
       "        var msg_type = msg['type'];\n",
       "\n",
       "        // Call the  \"handle_{type}\" callback, which takes\n",
       "        // the figure and JSON message as its only arguments.\n",
       "        try {\n",
       "            var callback = fig['handle_' + msg_type];\n",
       "        } catch (e) {\n",
       "            console.log(\n",
       "                \"No handler for the '\" + msg_type + \"' message type: \",\n",
       "                msg\n",
       "            );\n",
       "            return;\n",
       "        }\n",
       "\n",
       "        if (callback) {\n",
       "            try {\n",
       "                // console.log(\"Handling '\" + msg_type + \"' message: \", msg);\n",
       "                callback(fig, msg);\n",
       "            } catch (e) {\n",
       "                console.log(\n",
       "                    \"Exception inside the 'handler_\" + msg_type + \"' callback:\",\n",
       "                    e,\n",
       "                    e.stack,\n",
       "                    msg\n",
       "                );\n",
       "            }\n",
       "        }\n",
       "    };\n",
       "};\n",
       "\n",
       "\n",
       "/*\n",
       " * return a copy of an object with only non-object keys\n",
       " * we need this to avoid circular references\n",
       " * https://stackoverflow.com/a/24161582/3208463\n",
       " */\n",
       "function simpleKeys(original) {\n",
       "    return Object.keys(original).reduce(function (obj, key) {\n",
       "        if (typeof original[key] !== 'object') {\n",
       "            obj[key] = original[key];\n",
       "        }\n",
       "        return obj;\n",
       "    }, {});\n",
       "}\n",
       "\n",
       "mpl.figure.prototype.mouse_event = function (event, name) {\n",
       "    if (name === 'button_press') {\n",
       "        this.canvas.focus();\n",
       "        this.canvas_div.focus();\n",
       "    }\n",
       "\n",
       "    // from https://stackoverflow.com/q/1114465\n",
       "    var boundingRect = this.canvas.getBoundingClientRect();\n",
       "    var x = (event.clientX - boundingRect.left) * this.ratio;\n",
       "    var y = (event.clientY - boundingRect.top) * this.ratio;\n",
       "\n",
       "    this.send_message(name, {\n",
       "        x: x,\n",
       "        y: y,\n",
       "        button: event.button,\n",
       "        step: event.step,\n",
       "        guiEvent: simpleKeys(event),\n",
       "    });\n",
       "\n",
       "    return false;\n",
       "};\n",
       "\n",
       "mpl.figure.prototype._key_event_extra = function (_event, _name) {\n",
       "    // Handle any extra behaviour associated with a key event\n",
       "};\n",
       "\n",
       "mpl.figure.prototype.key_event = function (event, name) {\n",
       "    // Prevent repeat events\n",
       "    if (name === 'key_press') {\n",
       "        if (event.key === this._key) {\n",
       "            return;\n",
       "        } else {\n",
       "            this._key = event.key;\n",
       "        }\n",
       "    }\n",
       "    if (name === 'key_release') {\n",
       "        this._key = null;\n",
       "    }\n",
       "\n",
       "    var value = '';\n",
       "    if (event.ctrlKey && event.key !== 'Control') {\n",
       "        value += 'ctrl+';\n",
       "    }\n",
       "    else if (event.altKey && event.key !== 'Alt') {\n",
       "        value += 'alt+';\n",
       "    }\n",
       "    else if (event.shiftKey && event.key !== 'Shift') {\n",
       "        value += 'shift+';\n",
       "    }\n",
       "\n",
       "    value += 'k' + event.key;\n",
       "\n",
       "    this._key_event_extra(event, name);\n",
       "\n",
       "    this.send_message(name, { key: value, guiEvent: simpleKeys(event) });\n",
       "    return false;\n",
       "};\n",
       "\n",
       "mpl.figure.prototype.toolbar_button_onclick = function (name) {\n",
       "    if (name === 'download') {\n",
       "        this.handle_save(this, null);\n",
       "    } else {\n",
       "        this.send_message('toolbar_button', { name: name });\n",
       "    }\n",
       "};\n",
       "\n",
       "mpl.figure.prototype.toolbar_button_onmouseover = function (tooltip) {\n",
       "    this.message.textContent = tooltip;\n",
       "};\n",
       "\n",
       "///////////////// REMAINING CONTENT GENERATED BY embed_js.py /////////////////\n",
       "// prettier-ignore\n",
       "var _JSXTOOLS_RESIZE_OBSERVER=function(A){var t,i=new WeakMap,n=new WeakMap,a=new WeakMap,r=new WeakMap,o=new Set;function s(e){if(!(this instanceof s))throw new TypeError(\"Constructor requires 'new' operator\");i.set(this,e)}function h(){throw new TypeError(\"Function is not a constructor\")}function c(e,t,i,n){e=0 in arguments?Number(arguments[0]):0,t=1 in arguments?Number(arguments[1]):0,i=2 in arguments?Number(arguments[2]):0,n=3 in arguments?Number(arguments[3]):0,this.right=(this.x=this.left=e)+(this.width=i),this.bottom=(this.y=this.top=t)+(this.height=n),Object.freeze(this)}function d(){t=requestAnimationFrame(d);var s=new WeakMap,p=new Set;o.forEach((function(t){r.get(t).forEach((function(i){var r=t instanceof window.SVGElement,o=a.get(t),d=r?0:parseFloat(o.paddingTop),f=r?0:parseFloat(o.paddingRight),l=r?0:parseFloat(o.paddingBottom),u=r?0:parseFloat(o.paddingLeft),g=r?0:parseFloat(o.borderTopWidth),m=r?0:parseFloat(o.borderRightWidth),w=r?0:parseFloat(o.borderBottomWidth),b=u+f,F=d+l,v=(r?0:parseFloat(o.borderLeftWidth))+m,W=g+w,y=r?0:t.offsetHeight-W-t.clientHeight,E=r?0:t.offsetWidth-v-t.clientWidth,R=b+v,z=F+W,M=r?t.width:parseFloat(o.width)-R-E,O=r?t.height:parseFloat(o.height)-z-y;if(n.has(t)){var k=n.get(t);if(k[0]===M&&k[1]===O)return}n.set(t,[M,O]);var S=Object.create(h.prototype);S.target=t,S.contentRect=new c(u,d,M,O),s.has(i)||(s.set(i,[]),p.add(i)),s.get(i).push(S)}))})),p.forEach((function(e){i.get(e).call(e,s.get(e),e)}))}return s.prototype.observe=function(i){if(i instanceof window.Element){r.has(i)||(r.set(i,new Set),o.add(i),a.set(i,window.getComputedStyle(i)));var n=r.get(i);n.has(this)||n.add(this),cancelAnimationFrame(t),t=requestAnimationFrame(d)}},s.prototype.unobserve=function(i){if(i instanceof window.Element&&r.has(i)){var n=r.get(i);n.has(this)&&(n.delete(this),n.size||(r.delete(i),o.delete(i))),n.size||r.delete(i),o.size||cancelAnimationFrame(t)}},A.DOMRectReadOnly=c,A.ResizeObserver=s,A.ResizeObserverEntry=h,A}; // eslint-disable-line\n",
       "mpl.toolbar_items = [[\"Home\", \"Reset original view\", \"fa fa-home\", \"home\"], [\"Back\", \"Back to previous view\", \"fa fa-arrow-left\", \"back\"], [\"Forward\", \"Forward to next view\", \"fa fa-arrow-right\", \"forward\"], [\"\", \"\", \"\", \"\"], [\"Pan\", \"Left button pans, Right button zooms\\nx/y fixes axis, CTRL fixes aspect\", \"fa fa-arrows\", \"pan\"], [\"Zoom\", \"Zoom to rectangle\\nx/y fixes axis\", \"fa fa-square-o\", \"zoom\"], [\"\", \"\", \"\", \"\"], [\"Download\", \"Download plot\", \"fa fa-floppy-o\", \"download\"]];\n",
       "\n",
       "mpl.extensions = [\"eps\", \"jpeg\", \"pgf\", \"pdf\", \"png\", \"ps\", \"raw\", \"svg\", \"tif\", \"webp\"];\n",
       "\n",
       "mpl.default_extension = \"png\";/* global mpl */\n",
       "\n",
       "var comm_websocket_adapter = function (comm) {\n",
       "    // Create a \"websocket\"-like object which calls the given IPython comm\n",
       "    // object with the appropriate methods. Currently this is a non binary\n",
       "    // socket, so there is still some room for performance tuning.\n",
       "    var ws = {};\n",
       "\n",
       "    ws.binaryType = comm.kernel.ws.binaryType;\n",
       "    ws.readyState = comm.kernel.ws.readyState;\n",
       "    function updateReadyState(_event) {\n",
       "        if (comm.kernel.ws) {\n",
       "            ws.readyState = comm.kernel.ws.readyState;\n",
       "        } else {\n",
       "            ws.readyState = 3; // Closed state.\n",
       "        }\n",
       "    }\n",
       "    comm.kernel.ws.addEventListener('open', updateReadyState);\n",
       "    comm.kernel.ws.addEventListener('close', updateReadyState);\n",
       "    comm.kernel.ws.addEventListener('error', updateReadyState);\n",
       "\n",
       "    ws.close = function () {\n",
       "        comm.close();\n",
       "    };\n",
       "    ws.send = function (m) {\n",
       "        //console.log('sending', m);\n",
       "        comm.send(m);\n",
       "    };\n",
       "    // Register the callback with on_msg.\n",
       "    comm.on_msg(function (msg) {\n",
       "        //console.log('receiving', msg['content']['data'], msg);\n",
       "        var data = msg['content']['data'];\n",
       "        if (data['blob'] !== undefined) {\n",
       "            data = {\n",
       "                data: new Blob(msg['buffers'], { type: data['blob'] }),\n",
       "            };\n",
       "        }\n",
       "        // Pass the mpl event to the overridden (by mpl) onmessage function.\n",
       "        ws.onmessage(data);\n",
       "    });\n",
       "    return ws;\n",
       "};\n",
       "\n",
       "mpl.mpl_figure_comm = function (comm, msg) {\n",
       "    // This is the function which gets called when the mpl process\n",
       "    // starts-up an IPython Comm through the \"matplotlib\" channel.\n",
       "\n",
       "    var id = msg.content.data.id;\n",
       "    // Get hold of the div created by the display call when the Comm\n",
       "    // socket was opened in Python.\n",
       "    var element = document.getElementById(id);\n",
       "    var ws_proxy = comm_websocket_adapter(comm);\n",
       "\n",
       "    function ondownload(figure, _format) {\n",
       "        window.open(figure.canvas.toDataURL());\n",
       "    }\n",
       "\n",
       "    var fig = new mpl.figure(id, ws_proxy, ondownload, element);\n",
       "\n",
       "    // Call onopen now - mpl needs it, as it is assuming we've passed it a real\n",
       "    // web socket which is closed, not our websocket->open comm proxy.\n",
       "    ws_proxy.onopen();\n",
       "\n",
       "    fig.parent_element = element;\n",
       "    fig.cell_info = mpl.find_output_cell(\"<div id='\" + id + \"'></div>\");\n",
       "    if (!fig.cell_info) {\n",
       "        console.error('Failed to find cell for figure', id, fig);\n",
       "        return;\n",
       "    }\n",
       "    fig.cell_info[0].output_area.element.on(\n",
       "        'cleared',\n",
       "        { fig: fig },\n",
       "        fig._remove_fig_handler\n",
       "    );\n",
       "};\n",
       "\n",
       "mpl.figure.prototype.handle_close = function (fig, msg) {\n",
       "    var width = fig.canvas.width / fig.ratio;\n",
       "    fig.cell_info[0].output_area.element.off(\n",
       "        'cleared',\n",
       "        fig._remove_fig_handler\n",
       "    );\n",
       "    fig.resizeObserverInstance.unobserve(fig.canvas_div);\n",
       "\n",
       "    // Update the output cell to use the data from the current canvas.\n",
       "    fig.push_to_output();\n",
       "    var dataURL = fig.canvas.toDataURL();\n",
       "    // Re-enable the keyboard manager in IPython - without this line, in FF,\n",
       "    // the notebook keyboard shortcuts fail.\n",
       "    IPython.keyboard_manager.enable();\n",
       "    fig.parent_element.innerHTML =\n",
       "        '<img src=\"' + dataURL + '\" width=\"' + width + '\">';\n",
       "    fig.close_ws(fig, msg);\n",
       "};\n",
       "\n",
       "mpl.figure.prototype.close_ws = function (fig, msg) {\n",
       "    fig.send_message('closing', msg);\n",
       "    // fig.ws.close()\n",
       "};\n",
       "\n",
       "mpl.figure.prototype.push_to_output = function (_remove_interactive) {\n",
       "    // Turn the data on the canvas into data in the output cell.\n",
       "    var width = this.canvas.width / this.ratio;\n",
       "    var dataURL = this.canvas.toDataURL();\n",
       "    this.cell_info[1]['text/html'] =\n",
       "        '<img src=\"' + dataURL + '\" width=\"' + width + '\">';\n",
       "};\n",
       "\n",
       "mpl.figure.prototype.updated_canvas_event = function () {\n",
       "    // Tell IPython that the notebook contents must change.\n",
       "    IPython.notebook.set_dirty(true);\n",
       "    this.send_message('ack', {});\n",
       "    var fig = this;\n",
       "    // Wait a second, then push the new image to the DOM so\n",
       "    // that it is saved nicely (might be nice to debounce this).\n",
       "    setTimeout(function () {\n",
       "        fig.push_to_output();\n",
       "    }, 1000);\n",
       "};\n",
       "\n",
       "mpl.figure.prototype._init_toolbar = function () {\n",
       "    var fig = this;\n",
       "\n",
       "    var toolbar = document.createElement('div');\n",
       "    toolbar.classList = 'btn-toolbar';\n",
       "    this.root.appendChild(toolbar);\n",
       "\n",
       "    function on_click_closure(name) {\n",
       "        return function (_event) {\n",
       "            return fig.toolbar_button_onclick(name);\n",
       "        };\n",
       "    }\n",
       "\n",
       "    function on_mouseover_closure(tooltip) {\n",
       "        return function (event) {\n",
       "            if (!event.currentTarget.disabled) {\n",
       "                return fig.toolbar_button_onmouseover(tooltip);\n",
       "            }\n",
       "        };\n",
       "    }\n",
       "\n",
       "    fig.buttons = {};\n",
       "    var buttonGroup = document.createElement('div');\n",
       "    buttonGroup.classList = 'btn-group';\n",
       "    var button;\n",
       "    for (var toolbar_ind in mpl.toolbar_items) {\n",
       "        var name = mpl.toolbar_items[toolbar_ind][0];\n",
       "        var tooltip = mpl.toolbar_items[toolbar_ind][1];\n",
       "        var image = mpl.toolbar_items[toolbar_ind][2];\n",
       "        var method_name = mpl.toolbar_items[toolbar_ind][3];\n",
       "\n",
       "        if (!name) {\n",
       "            /* Instead of a spacer, we start a new button group. */\n",
       "            if (buttonGroup.hasChildNodes()) {\n",
       "                toolbar.appendChild(buttonGroup);\n",
       "            }\n",
       "            buttonGroup = document.createElement('div');\n",
       "            buttonGroup.classList = 'btn-group';\n",
       "            continue;\n",
       "        }\n",
       "\n",
       "        button = fig.buttons[name] = document.createElement('button');\n",
       "        button.classList = 'btn btn-default';\n",
       "        button.href = '#';\n",
       "        button.title = name;\n",
       "        button.innerHTML = '<i class=\"fa ' + image + ' fa-lg\"></i>';\n",
       "        button.addEventListener('click', on_click_closure(method_name));\n",
       "        button.addEventListener('mouseover', on_mouseover_closure(tooltip));\n",
       "        buttonGroup.appendChild(button);\n",
       "    }\n",
       "\n",
       "    if (buttonGroup.hasChildNodes()) {\n",
       "        toolbar.appendChild(buttonGroup);\n",
       "    }\n",
       "\n",
       "    // Add the status bar.\n",
       "    var status_bar = document.createElement('span');\n",
       "    status_bar.classList = 'mpl-message pull-right';\n",
       "    toolbar.appendChild(status_bar);\n",
       "    this.message = status_bar;\n",
       "\n",
       "    // Add the close button to the window.\n",
       "    var buttongrp = document.createElement('div');\n",
       "    buttongrp.classList = 'btn-group inline pull-right';\n",
       "    button = document.createElement('button');\n",
       "    button.classList = 'btn btn-mini btn-primary';\n",
       "    button.href = '#';\n",
       "    button.title = 'Stop Interaction';\n",
       "    button.innerHTML = '<i class=\"fa fa-power-off icon-remove icon-large\"></i>';\n",
       "    button.addEventListener('click', function (_evt) {\n",
       "        fig.handle_close(fig, {});\n",
       "    });\n",
       "    button.addEventListener(\n",
       "        'mouseover',\n",
       "        on_mouseover_closure('Stop Interaction')\n",
       "    );\n",
       "    buttongrp.appendChild(button);\n",
       "    var titlebar = this.root.querySelector('.ui-dialog-titlebar');\n",
       "    titlebar.insertBefore(buttongrp, titlebar.firstChild);\n",
       "};\n",
       "\n",
       "mpl.figure.prototype._remove_fig_handler = function (event) {\n",
       "    var fig = event.data.fig;\n",
       "    if (event.target !== this) {\n",
       "        // Ignore bubbled events from children.\n",
       "        return;\n",
       "    }\n",
       "    fig.close_ws(fig, {});\n",
       "};\n",
       "\n",
       "mpl.figure.prototype._root_extra_style = function (el) {\n",
       "    el.style.boxSizing = 'content-box'; // override notebook setting of border-box.\n",
       "};\n",
       "\n",
       "mpl.figure.prototype._canvas_extra_style = function (el) {\n",
       "    // this is important to make the div 'focusable\n",
       "    el.setAttribute('tabindex', 0);\n",
       "    // reach out to IPython and tell the keyboard manager to turn it's self\n",
       "    // off when our div gets focus\n",
       "\n",
       "    // location in version 3\n",
       "    if (IPython.notebook.keyboard_manager) {\n",
       "        IPython.notebook.keyboard_manager.register_events(el);\n",
       "    } else {\n",
       "        // location in version 2\n",
       "        IPython.keyboard_manager.register_events(el);\n",
       "    }\n",
       "};\n",
       "\n",
       "mpl.figure.prototype._key_event_extra = function (event, _name) {\n",
       "    // Check for shift+enter\n",
       "    if (event.shiftKey && event.which === 13) {\n",
       "        this.canvas_div.blur();\n",
       "        // select the cell after this one\n",
       "        var index = IPython.notebook.find_cell_index(this.cell_info[0]);\n",
       "        IPython.notebook.select(index + 1);\n",
       "    }\n",
       "};\n",
       "\n",
       "mpl.figure.prototype.handle_save = function (fig, _msg) {\n",
       "    fig.ondownload(fig, null);\n",
       "};\n",
       "\n",
       "mpl.find_output_cell = function (html_output) {\n",
       "    // Return the cell and output element which can be found *uniquely* in the notebook.\n",
       "    // Note - this is a bit hacky, but it is done because the \"notebook_saving.Notebook\"\n",
       "    // IPython event is triggered only after the cells have been serialised, which for\n",
       "    // our purposes (turning an active figure into a static one), is too late.\n",
       "    var cells = IPython.notebook.get_cells();\n",
       "    var ncells = cells.length;\n",
       "    for (var i = 0; i < ncells; i++) {\n",
       "        var cell = cells[i];\n",
       "        if (cell.cell_type === 'code') {\n",
       "            for (var j = 0; j < cell.output_area.outputs.length; j++) {\n",
       "                var data = cell.output_area.outputs[j];\n",
       "                if (data.data) {\n",
       "                    // IPython >= 3 moved mimebundle to data attribute of output\n",
       "                    data = data.data;\n",
       "                }\n",
       "                if (data['text/html'] === html_output) {\n",
       "                    return [cell, data, j];\n",
       "                }\n",
       "            }\n",
       "        }\n",
       "    }\n",
       "};\n",
       "\n",
       "// Register the function which deals with the matplotlib target/channel.\n",
       "// The kernel may be null if the page has been refreshed.\n",
       "if (IPython.notebook.kernel !== null) {\n",
       "    IPython.notebook.kernel.comm_manager.register_target(\n",
       "        'matplotlib',\n",
       "        mpl.mpl_figure_comm\n",
       "    );\n",
       "}\n"
      ],
      "text/plain": [
       "<IPython.core.display.Javascript object>"
      ]
     },
     "metadata": {},
     "output_type": "display_data"
    },
    {
     "data": {
      "text/html": [
       "<img src=\"data:image/png;base64,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\" width=\"900\">"
      ],
      "text/plain": [
       "<IPython.core.display.HTML object>"
      ]
     },
     "metadata": {},
     "output_type": "display_data"
    }
   ],
   "source": [
    "colors = ['blue', 'orange', 'green', 'red', 'pink']\n",
    "fig, ax = plt.subplots()\n",
    "fig.set_size_inches(9, 4, forward=True)\n",
    "\n",
    "ax.set_xlim(xlims_lower[nr_of_experiment-1], xlims_upper[nr_of_experiment-1])\n",
    "ax.set_ylim(None, ylims_upper[nr_of_experiment-1])\n",
    "ax.get_yaxis().set_visible(False)\n",
    "\n",
    "ax.spines['top'].set_visible(False)\n",
    "ax.spines['right'].set_visible(False)\n",
    "ax.spines['bottom'].set_visible(False)\n",
    "ax.spines['left'].set_visible(False)\n",
    "\n",
    "\n",
    "plt.xlabel(chr(0x00b9)+'H, ppm', fontsize=15, labelpad=5)\n",
    "#plt.ylabel('Relative intensity', fontsize=15, labelpad=10)\n",
    "\n",
    "for i, name in enumerate(names_components_up_to):\n",
    "    ax.plot(ppm, globals()[name], alpha=1.0, color = colors[i], \n",
    "            label=components_dictionary['experiment_'+str(nr_of_experiment)][i])\n",
    "    if i==0:\n",
    "        ax.fill_between(ppm, 0, globals()[name], color=colors[0], alpha=1.0)\n",
    "    else:\n",
    "        predecessor = name[:-1]+str(i)\n",
    "        ax.fill_between(ppm, globals()[predecessor] , globals()[name], color=colors[i], alpha=1.0)\n",
    "ax.plot(ppm, mix_without_noise, color='black', alpha=1.0, label='Mixture', linewidth=0.5)\n",
    "ax.legend(prop={'size': 12}, loc='upper left')\n",
    "ax.invert_xaxis()\n",
    "plt.tight_layout()\n",
    "plt.savefig(os.getcwd()+'/spectra_visualisation/experiment'+str(nr_of_experiment)+'.jpg', dpi=300)"
   ]
  },
  {
   "cell_type": "code",
   "execution_count": 43,
   "id": "c5f29582",
   "metadata": {},
   "outputs": [
    {
     "data": {
      "text/plain": [
       "0.012982665978000017"
      ]
     },
     "execution_count": 43,
     "metadata": {},
     "output_type": "execute_result"
    }
   ],
   "source": [
    "estimation_vis['proportion_of_noise_in_theoretical']"
   ]
  },
  {
   "cell_type": "code",
   "execution_count": 44,
   "id": "06f95f58",
   "metadata": {},
   "outputs": [
    {
     "data": {
      "text/plain": [
       "-1.3322676295501878e-15"
      ]
     },
     "execution_count": 44,
     "metadata": {},
     "output_type": "execute_result"
    }
   ],
   "source": [
    "1-sum(estimation_vis['proportions'])"
   ]
  },
  {
   "cell_type": "code",
   "execution_count": null,
   "id": "0cf1ca0b",
   "metadata": {},
   "outputs": [],
   "source": []
  }
 ],
 "metadata": {
  "kernelspec": {
   "display_name": "Python 3 (ipykernel)",
   "language": "python",
   "name": "python3"
  },
  "language_info": {
   "codemirror_mode": {
    "name": "ipython",
    "version": 3
   },
   "file_extension": ".py",
   "mimetype": "text/x-python",
   "name": "python",
   "nbconvert_exporter": "python",
   "pygments_lexer": "ipython3",
   "version": "3.10.6"
  }
 },
 "nbformat": 4,
 "nbformat_minor": 5
}
