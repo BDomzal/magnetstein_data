{
 "cells": [
  {
   "cell_type": "markdown",
   "id": "c0dda7bc",
   "metadata": {},
   "source": [
    "### Settings and imports"
   ]
  },
  {
   "cell_type": "code",
   "execution_count": 1,
   "id": "6490deb8",
   "metadata": {},
   "outputs": [],
   "source": [
    "%matplotlib notebook"
   ]
  },
  {
   "cell_type": "code",
   "execution_count": 2,
   "id": "18168f35",
   "metadata": {},
   "outputs": [],
   "source": [
    "import masserstein "
   ]
  },
  {
   "cell_type": "code",
   "execution_count": 3,
   "id": "547dfce4",
   "metadata": {},
   "outputs": [],
   "source": [
    "import os\n",
    "\n",
    "from masserstein import Spectrum, NMRSpectrum, estimate_proportions\n",
    "\n",
    "from matplotlib import pyplot as plt\n",
    "\n",
    "import numpy as np\n",
    "\n",
    "import pulp\n",
    "\n",
    "import pickle\n",
    "\n",
    "import seaborn as sns\n",
    "from textwrap import wrap"
   ]
  },
  {
   "cell_type": "markdown",
   "id": "0a43c3c3",
   "metadata": {},
   "source": [
    "### Loading the data"
   ]
  },
  {
   "cell_type": "code",
   "execution_count": 4,
   "id": "d3dc96a1",
   "metadata": {},
   "outputs": [],
   "source": [
    "official_names = ['Pinene', 'Limonene']"
   ]
  },
  {
   "cell_type": "code",
   "execution_count": 5,
   "id": "1872b8e9",
   "metadata": {},
   "outputs": [],
   "source": [
    "mix = np.loadtxt(os.getcwd()+'/limonene_pinene_nakrywajace_sie.csv', skiprows=0, usecols=range(2), \n",
    "                      delimiter='\\t',dtype=float)\n",
    "ppm = mix[:,0]\n",
    "mix = mix[:,1]\n",
    "\n",
    "comp = np.loadtxt(os.getcwd()+'/library.csv', skiprows=1, usecols=[0, 1, 3],\n",
    "                      delimiter='\\t',dtype=float)\n",
    "ppm_components = comp[:,0]\n",
    "components = comp[:,1:]"
   ]
  },
  {
   "cell_type": "code",
   "execution_count": 6,
   "id": "68d81855",
   "metadata": {},
   "outputs": [],
   "source": [
    "components_ints = []\n",
    "names = []\n",
    "for i in range(components.shape[1]):\n",
    "    components_ints.append(components[:,i])\n",
    "    names.append('comp'+str(i))"
   ]
  },
  {
   "cell_type": "code",
   "execution_count": 7,
   "id": "d54f971c",
   "metadata": {},
   "outputs": [],
   "source": [
    "spectra = []\n",
    "for comp_ints in components_ints:\n",
    "    spectra.append(NMRSpectrum(confs=list(zip(ppm_components, comp_ints))))"
   ]
  },
  {
   "cell_type": "code",
   "execution_count": 8,
   "id": "19aa278a",
   "metadata": {},
   "outputs": [],
   "source": [
    "mix = NMRSpectrum(confs=list(zip(ppm,mix)))"
   ]
  },
  {
   "cell_type": "code",
   "execution_count": 9,
   "id": "1f2c6229",
   "metadata": {},
   "outputs": [],
   "source": [
    "# mix.plot(profile=True)\n",
    "# spectra[0].plot(profile=True)\n",
    "# spectra[1].plot(profile=True)"
   ]
  },
  {
   "cell_type": "markdown",
   "id": "4feb05aa",
   "metadata": {},
   "source": [
    "### Ground truth"
   ]
  },
  {
   "cell_type": "code",
   "execution_count": 10,
   "id": "f6ae0713",
   "metadata": {},
   "outputs": [],
   "source": [
    "protons = [16, 16]\n",
    "molar_masses = [136.24, 136.24]\n",
    "mass_proportions = [0.505, 0.495]"
   ]
  },
  {
   "cell_type": "code",
   "execution_count": 11,
   "id": "bee03378",
   "metadata": {},
   "outputs": [
    {
     "data": {
      "text/plain": [
       "[0.505, 0.495]"
      ]
     },
     "execution_count": 11,
     "metadata": {},
     "output_type": "execute_result"
    }
   ],
   "source": [
    "molar_proportions = [mass_prop/mol_mass for mass_prop, mol_mass in zip(mass_proportions, molar_masses)]\n",
    "molar_proportions = [mol_prop/sum(molar_proportions) for mol_prop in molar_proportions]\n",
    "molar_proportions"
   ]
  },
  {
   "cell_type": "code",
   "execution_count": 12,
   "id": "af2f3b94",
   "metadata": {},
   "outputs": [],
   "source": [
    "real_visible_proportions = [prot*prop for prot, prop in zip(protons, molar_proportions)]\n",
    "real_visible_proportions = [prop/sum(real_visible_proportions) for prop in real_visible_proportions]"
   ]
  },
  {
   "cell_type": "code",
   "execution_count": 13,
   "id": "ccf26c92",
   "metadata": {},
   "outputs": [
    {
     "data": {
      "text/plain": [
       "[0.505, 0.495]"
      ]
     },
     "execution_count": 13,
     "metadata": {},
     "output_type": "execute_result"
    }
   ],
   "source": [
    "real_visible_proportions"
   ]
  },
  {
   "cell_type": "markdown",
   "id": "8f15b9b2",
   "metadata": {},
   "source": [
    "### Preprocessing"
   ]
  },
  {
   "cell_type": "code",
   "execution_count": 14,
   "id": "6ba2cbdd",
   "metadata": {},
   "outputs": [],
   "source": [
    "def shift(list_of_spectra, epsilon=0.001):\n",
    "    res = list_of_spectra\n",
    "    shifted_unique = []\n",
    "    old_confs = [np.array(sp.confs) for sp in list_of_spectra]\n",
    "    min_of_min = min([min(old_conf[:,0]) for old_conf in old_confs])\n",
    "    if min_of_min<0:\n",
    "        return (min_of_min - epsilon)*(-1)\n",
    "    else:\n",
    "        return(0)"
   ]
  },
  {
   "cell_type": "code",
   "execution_count": 15,
   "id": "88c18cb9",
   "metadata": {},
   "outputs": [],
   "source": [
    "def make_nonnegative(spectrum):\n",
    "    confs = np.array(spectrum.confs)\n",
    "    neg = confs[:,1]<0\n",
    "    confs[:,1][neg]=0\n",
    "    new_confs = list(zip(confs[:,0],confs[:,1]))\n",
    "    result = NMRSpectrum(confs=new_confs)\n",
    "    return(result)"
   ]
  },
  {
   "cell_type": "code",
   "execution_count": 16,
   "id": "f04d69ce",
   "metadata": {},
   "outputs": [],
   "source": [
    "def common_mass_axis(list_of_spectra):\n",
    "    all_mz = set()\n",
    "    for sp in list_of_spectra:\n",
    "        mz_set = set(np.array(sp.confs, np.dtype('float'))[:,0])\n",
    "        all_mz = all_mz.union(mz_set)\n",
    "    all_mz = np.array(sorted(all_mz))\n",
    "    return all_mz"
   ]
  },
  {
   "cell_type": "code",
   "execution_count": 17,
   "id": "bf723195",
   "metadata": {},
   "outputs": [],
   "source": [
    "spectra_and_mixture = spectra + [mix]"
   ]
  },
  {
   "cell_type": "code",
   "execution_count": 18,
   "id": "1dc8376f",
   "metadata": {},
   "outputs": [
    {
     "data": {
      "text/plain": [
       "1.9726499999999998"
      ]
     },
     "execution_count": 18,
     "metadata": {},
     "output_type": "execute_result"
    }
   ],
   "source": [
    "shift_coef = shift(spectra_and_mixture)\n",
    "shift_coef"
   ]
  },
  {
   "cell_type": "code",
   "execution_count": 19,
   "id": "e7181f9e",
   "metadata": {},
   "outputs": [],
   "source": [
    "preprocessed_spectra = []\n",
    "for sp in spectra_and_mixture:\n",
    "    sp2 = make_nonnegative(sp)\n",
    "    sp2.sort_confs()\n",
    "    sp2.merge_confs()\n",
    "    sp2.normalize()\n",
    "    preprocessed_spectra.append(sp2)"
   ]
  },
  {
   "cell_type": "code",
   "execution_count": 20,
   "id": "01ffe3c0",
   "metadata": {},
   "outputs": [],
   "source": [
    "spectra_and_mixture = preprocessed_spectra\n",
    "spectra = spectra_and_mixture[:-1]\n",
    "mix = preprocessed_spectra[-1]\n",
    "del(preprocessed_spectra)"
   ]
  },
  {
   "cell_type": "code",
   "execution_count": 21,
   "id": "1b91ab40",
   "metadata": {},
   "outputs": [],
   "source": [
    "cma = common_mass_axis(spectra_and_mixture)"
   ]
  },
  {
   "cell_type": "code",
   "execution_count": 22,
   "id": "5924da86",
   "metadata": {},
   "outputs": [],
   "source": [
    "preprocessed_spectra = []\n",
    "for sp in spectra_and_mixture:\n",
    "    preprocessed_spectra.append(sp.resample(cma))"
   ]
  },
  {
   "cell_type": "code",
   "execution_count": 23,
   "id": "eb8e429b",
   "metadata": {},
   "outputs": [],
   "source": [
    "spectra_and_mixture = preprocessed_spectra\n",
    "del(preprocessed_spectra)"
   ]
  },
  {
   "cell_type": "code",
   "execution_count": 24,
   "id": "25d7fb75",
   "metadata": {},
   "outputs": [],
   "source": [
    "preprocessed_spectra = []\n",
    "for sp in spectra_and_mixture:\n",
    "    sp = make_nonnegative(sp)\n",
    "    sp.sort_confs()\n",
    "    sp.merge_confs()\n",
    "    sp.normalize()\n",
    "    preprocessed_spectra.append(sp)"
   ]
  },
  {
   "cell_type": "code",
   "execution_count": 25,
   "id": "dc3d4186",
   "metadata": {},
   "outputs": [],
   "source": [
    "spectra_and_mixture = preprocessed_spectra\n",
    "spectra = spectra_and_mixture[:-1]\n",
    "mix = preprocessed_spectra[-1]\n",
    "del(preprocessed_spectra)"
   ]
  },
  {
   "cell_type": "code",
   "execution_count": 26,
   "id": "3f202d1a",
   "metadata": {},
   "outputs": [],
   "source": [
    "for i, name in enumerate(names):\n",
    "    globals()[name] = spectra[i]"
   ]
  },
  {
   "cell_type": "code",
   "execution_count": 27,
   "id": "e47868e7",
   "metadata": {},
   "outputs": [
    {
     "data": {
      "application/javascript": [
       "/* Put everything inside the global mpl namespace */\n",
       "/* global mpl */\n",
       "window.mpl = {};\n",
       "\n",
       "mpl.get_websocket_type = function () {\n",
       "    if (typeof WebSocket !== 'undefined') {\n",
       "        return WebSocket;\n",
       "    } else if (typeof MozWebSocket !== 'undefined') {\n",
       "        return MozWebSocket;\n",
       "    } else {\n",
       "        alert(\n",
       "            'Your browser does not have WebSocket support. ' +\n",
       "                'Please try Chrome, Safari or Firefox ≥ 6. ' +\n",
       "                'Firefox 4 and 5 are also supported but you ' +\n",
       "                'have to enable WebSockets in about:config.'\n",
       "        );\n",
       "    }\n",
       "};\n",
       "\n",
       "mpl.figure = function (figure_id, websocket, ondownload, parent_element) {\n",
       "    this.id = figure_id;\n",
       "\n",
       "    this.ws = websocket;\n",
       "\n",
       "    this.supports_binary = this.ws.binaryType !== undefined;\n",
       "\n",
       "    if (!this.supports_binary) {\n",
       "        var warnings = document.getElementById('mpl-warnings');\n",
       "        if (warnings) {\n",
       "            warnings.style.display = 'block';\n",
       "            warnings.textContent =\n",
       "                'This browser does not support binary websocket messages. ' +\n",
       "                'Performance may be slow.';\n",
       "        }\n",
       "    }\n",
       "\n",
       "    this.imageObj = new Image();\n",
       "\n",
       "    this.context = undefined;\n",
       "    this.message = undefined;\n",
       "    this.canvas = undefined;\n",
       "    this.rubberband_canvas = undefined;\n",
       "    this.rubberband_context = undefined;\n",
       "    this.format_dropdown = undefined;\n",
       "\n",
       "    this.image_mode = 'full';\n",
       "\n",
       "    this.root = document.createElement('div');\n",
       "    this.root.setAttribute('style', 'display: inline-block');\n",
       "    this._root_extra_style(this.root);\n",
       "\n",
       "    parent_element.appendChild(this.root);\n",
       "\n",
       "    this._init_header(this);\n",
       "    this._init_canvas(this);\n",
       "    this._init_toolbar(this);\n",
       "\n",
       "    var fig = this;\n",
       "\n",
       "    this.waiting = false;\n",
       "\n",
       "    this.ws.onopen = function () {\n",
       "        fig.send_message('supports_binary', { value: fig.supports_binary });\n",
       "        fig.send_message('send_image_mode', {});\n",
       "        if (fig.ratio !== 1) {\n",
       "            fig.send_message('set_device_pixel_ratio', {\n",
       "                device_pixel_ratio: fig.ratio,\n",
       "            });\n",
       "        }\n",
       "        fig.send_message('refresh', {});\n",
       "    };\n",
       "\n",
       "    this.imageObj.onload = function () {\n",
       "        if (fig.image_mode === 'full') {\n",
       "            // Full images could contain transparency (where diff images\n",
       "            // almost always do), so we need to clear the canvas so that\n",
       "            // there is no ghosting.\n",
       "            fig.context.clearRect(0, 0, fig.canvas.width, fig.canvas.height);\n",
       "        }\n",
       "        fig.context.drawImage(fig.imageObj, 0, 0);\n",
       "    };\n",
       "\n",
       "    this.imageObj.onunload = function () {\n",
       "        fig.ws.close();\n",
       "    };\n",
       "\n",
       "    this.ws.onmessage = this._make_on_message_function(this);\n",
       "\n",
       "    this.ondownload = ondownload;\n",
       "};\n",
       "\n",
       "mpl.figure.prototype._init_header = function () {\n",
       "    var titlebar = document.createElement('div');\n",
       "    titlebar.classList =\n",
       "        'ui-dialog-titlebar ui-widget-header ui-corner-all ui-helper-clearfix';\n",
       "    var titletext = document.createElement('div');\n",
       "    titletext.classList = 'ui-dialog-title';\n",
       "    titletext.setAttribute(\n",
       "        'style',\n",
       "        'width: 100%; text-align: center; padding: 3px;'\n",
       "    );\n",
       "    titlebar.appendChild(titletext);\n",
       "    this.root.appendChild(titlebar);\n",
       "    this.header = titletext;\n",
       "};\n",
       "\n",
       "mpl.figure.prototype._canvas_extra_style = function (_canvas_div) {};\n",
       "\n",
       "mpl.figure.prototype._root_extra_style = function (_canvas_div) {};\n",
       "\n",
       "mpl.figure.prototype._init_canvas = function () {\n",
       "    var fig = this;\n",
       "\n",
       "    var canvas_div = (this.canvas_div = document.createElement('div'));\n",
       "    canvas_div.setAttribute('tabindex', '0');\n",
       "    canvas_div.setAttribute(\n",
       "        'style',\n",
       "        'border: 1px solid #ddd;' +\n",
       "            'box-sizing: content-box;' +\n",
       "            'clear: both;' +\n",
       "            'min-height: 1px;' +\n",
       "            'min-width: 1px;' +\n",
       "            'outline: 0;' +\n",
       "            'overflow: hidden;' +\n",
       "            'position: relative;' +\n",
       "            'resize: both;' +\n",
       "            'z-index: 2;'\n",
       "    );\n",
       "\n",
       "    function on_keyboard_event_closure(name) {\n",
       "        return function (event) {\n",
       "            return fig.key_event(event, name);\n",
       "        };\n",
       "    }\n",
       "\n",
       "    canvas_div.addEventListener(\n",
       "        'keydown',\n",
       "        on_keyboard_event_closure('key_press')\n",
       "    );\n",
       "    canvas_div.addEventListener(\n",
       "        'keyup',\n",
       "        on_keyboard_event_closure('key_release')\n",
       "    );\n",
       "\n",
       "    this._canvas_extra_style(canvas_div);\n",
       "    this.root.appendChild(canvas_div);\n",
       "\n",
       "    var canvas = (this.canvas = document.createElement('canvas'));\n",
       "    canvas.classList.add('mpl-canvas');\n",
       "    canvas.setAttribute(\n",
       "        'style',\n",
       "        'box-sizing: content-box;' +\n",
       "            'pointer-events: none;' +\n",
       "            'position: relative;' +\n",
       "            'z-index: 0;'\n",
       "    );\n",
       "\n",
       "    this.context = canvas.getContext('2d');\n",
       "\n",
       "    var backingStore =\n",
       "        this.context.backingStorePixelRatio ||\n",
       "        this.context.webkitBackingStorePixelRatio ||\n",
       "        this.context.mozBackingStorePixelRatio ||\n",
       "        this.context.msBackingStorePixelRatio ||\n",
       "        this.context.oBackingStorePixelRatio ||\n",
       "        this.context.backingStorePixelRatio ||\n",
       "        1;\n",
       "\n",
       "    this.ratio = (window.devicePixelRatio || 1) / backingStore;\n",
       "\n",
       "    var rubberband_canvas = (this.rubberband_canvas = document.createElement(\n",
       "        'canvas'\n",
       "    ));\n",
       "    rubberband_canvas.setAttribute(\n",
       "        'style',\n",
       "        'box-sizing: content-box;' +\n",
       "            'left: 0;' +\n",
       "            'pointer-events: none;' +\n",
       "            'position: absolute;' +\n",
       "            'top: 0;' +\n",
       "            'z-index: 1;'\n",
       "    );\n",
       "\n",
       "    // Apply a ponyfill if ResizeObserver is not implemented by browser.\n",
       "    if (this.ResizeObserver === undefined) {\n",
       "        if (window.ResizeObserver !== undefined) {\n",
       "            this.ResizeObserver = window.ResizeObserver;\n",
       "        } else {\n",
       "            var obs = _JSXTOOLS_RESIZE_OBSERVER({});\n",
       "            this.ResizeObserver = obs.ResizeObserver;\n",
       "        }\n",
       "    }\n",
       "\n",
       "    this.resizeObserverInstance = new this.ResizeObserver(function (entries) {\n",
       "        var nentries = entries.length;\n",
       "        for (var i = 0; i < nentries; i++) {\n",
       "            var entry = entries[i];\n",
       "            var width, height;\n",
       "            if (entry.contentBoxSize) {\n",
       "                if (entry.contentBoxSize instanceof Array) {\n",
       "                    // Chrome 84 implements new version of spec.\n",
       "                    width = entry.contentBoxSize[0].inlineSize;\n",
       "                    height = entry.contentBoxSize[0].blockSize;\n",
       "                } else {\n",
       "                    // Firefox implements old version of spec.\n",
       "                    width = entry.contentBoxSize.inlineSize;\n",
       "                    height = entry.contentBoxSize.blockSize;\n",
       "                }\n",
       "            } else {\n",
       "                // Chrome <84 implements even older version of spec.\n",
       "                width = entry.contentRect.width;\n",
       "                height = entry.contentRect.height;\n",
       "            }\n",
       "\n",
       "            // Keep the size of the canvas and rubber band canvas in sync with\n",
       "            // the canvas container.\n",
       "            if (entry.devicePixelContentBoxSize) {\n",
       "                // Chrome 84 implements new version of spec.\n",
       "                canvas.setAttribute(\n",
       "                    'width',\n",
       "                    entry.devicePixelContentBoxSize[0].inlineSize\n",
       "                );\n",
       "                canvas.setAttribute(\n",
       "                    'height',\n",
       "                    entry.devicePixelContentBoxSize[0].blockSize\n",
       "                );\n",
       "            } else {\n",
       "                canvas.setAttribute('width', width * fig.ratio);\n",
       "                canvas.setAttribute('height', height * fig.ratio);\n",
       "            }\n",
       "            /* This rescales the canvas back to display pixels, so that it\n",
       "             * appears correct on HiDPI screens. */\n",
       "            canvas.style.width = width + 'px';\n",
       "            canvas.style.height = height + 'px';\n",
       "\n",
       "            rubberband_canvas.setAttribute('width', width);\n",
       "            rubberband_canvas.setAttribute('height', height);\n",
       "\n",
       "            // And update the size in Python. We ignore the initial 0/0 size\n",
       "            // that occurs as the element is placed into the DOM, which should\n",
       "            // otherwise not happen due to the minimum size styling.\n",
       "            if (fig.ws.readyState == 1 && width != 0 && height != 0) {\n",
       "                fig.request_resize(width, height);\n",
       "            }\n",
       "        }\n",
       "    });\n",
       "    this.resizeObserverInstance.observe(canvas_div);\n",
       "\n",
       "    function on_mouse_event_closure(name) {\n",
       "        /* User Agent sniffing is bad, but WebKit is busted:\n",
       "         * https://bugs.webkit.org/show_bug.cgi?id=144526\n",
       "         * https://bugs.webkit.org/show_bug.cgi?id=181818\n",
       "         * The worst that happens here is that they get an extra browser\n",
       "         * selection when dragging, if this check fails to catch them.\n",
       "         */\n",
       "        var UA = navigator.userAgent;\n",
       "        var isWebKit = /AppleWebKit/.test(UA) && !/Chrome/.test(UA);\n",
       "        if(isWebKit) {\n",
       "            return function (event) {\n",
       "                /* This prevents the web browser from automatically changing to\n",
       "                 * the text insertion cursor when the button is pressed. We\n",
       "                 * want to control all of the cursor setting manually through\n",
       "                 * the 'cursor' event from matplotlib */\n",
       "                event.preventDefault()\n",
       "                return fig.mouse_event(event, name);\n",
       "            };\n",
       "        } else {\n",
       "            return function (event) {\n",
       "                return fig.mouse_event(event, name);\n",
       "            };\n",
       "        }\n",
       "    }\n",
       "\n",
       "    canvas_div.addEventListener(\n",
       "        'mousedown',\n",
       "        on_mouse_event_closure('button_press')\n",
       "    );\n",
       "    canvas_div.addEventListener(\n",
       "        'mouseup',\n",
       "        on_mouse_event_closure('button_release')\n",
       "    );\n",
       "    canvas_div.addEventListener(\n",
       "        'dblclick',\n",
       "        on_mouse_event_closure('dblclick')\n",
       "    );\n",
       "    // Throttle sequential mouse events to 1 every 20ms.\n",
       "    canvas_div.addEventListener(\n",
       "        'mousemove',\n",
       "        on_mouse_event_closure('motion_notify')\n",
       "    );\n",
       "\n",
       "    canvas_div.addEventListener(\n",
       "        'mouseenter',\n",
       "        on_mouse_event_closure('figure_enter')\n",
       "    );\n",
       "    canvas_div.addEventListener(\n",
       "        'mouseleave',\n",
       "        on_mouse_event_closure('figure_leave')\n",
       "    );\n",
       "\n",
       "    canvas_div.addEventListener('wheel', function (event) {\n",
       "        if (event.deltaY < 0) {\n",
       "            event.step = 1;\n",
       "        } else {\n",
       "            event.step = -1;\n",
       "        }\n",
       "        on_mouse_event_closure('scroll')(event);\n",
       "    });\n",
       "\n",
       "    canvas_div.appendChild(canvas);\n",
       "    canvas_div.appendChild(rubberband_canvas);\n",
       "\n",
       "    this.rubberband_context = rubberband_canvas.getContext('2d');\n",
       "    this.rubberband_context.strokeStyle = '#000000';\n",
       "\n",
       "    this._resize_canvas = function (width, height, forward) {\n",
       "        if (forward) {\n",
       "            canvas_div.style.width = width + 'px';\n",
       "            canvas_div.style.height = height + 'px';\n",
       "        }\n",
       "    };\n",
       "\n",
       "    // Disable right mouse context menu.\n",
       "    canvas_div.addEventListener('contextmenu', function (_e) {\n",
       "        event.preventDefault();\n",
       "        return false;\n",
       "    });\n",
       "\n",
       "    function set_focus() {\n",
       "        canvas.focus();\n",
       "        canvas_div.focus();\n",
       "    }\n",
       "\n",
       "    window.setTimeout(set_focus, 100);\n",
       "};\n",
       "\n",
       "mpl.figure.prototype._init_toolbar = function () {\n",
       "    var fig = this;\n",
       "\n",
       "    var toolbar = document.createElement('div');\n",
       "    toolbar.classList = 'mpl-toolbar';\n",
       "    this.root.appendChild(toolbar);\n",
       "\n",
       "    function on_click_closure(name) {\n",
       "        return function (_event) {\n",
       "            return fig.toolbar_button_onclick(name);\n",
       "        };\n",
       "    }\n",
       "\n",
       "    function on_mouseover_closure(tooltip) {\n",
       "        return function (event) {\n",
       "            if (!event.currentTarget.disabled) {\n",
       "                return fig.toolbar_button_onmouseover(tooltip);\n",
       "            }\n",
       "        };\n",
       "    }\n",
       "\n",
       "    fig.buttons = {};\n",
       "    var buttonGroup = document.createElement('div');\n",
       "    buttonGroup.classList = 'mpl-button-group';\n",
       "    for (var toolbar_ind in mpl.toolbar_items) {\n",
       "        var name = mpl.toolbar_items[toolbar_ind][0];\n",
       "        var tooltip = mpl.toolbar_items[toolbar_ind][1];\n",
       "        var image = mpl.toolbar_items[toolbar_ind][2];\n",
       "        var method_name = mpl.toolbar_items[toolbar_ind][3];\n",
       "\n",
       "        if (!name) {\n",
       "            /* Instead of a spacer, we start a new button group. */\n",
       "            if (buttonGroup.hasChildNodes()) {\n",
       "                toolbar.appendChild(buttonGroup);\n",
       "            }\n",
       "            buttonGroup = document.createElement('div');\n",
       "            buttonGroup.classList = 'mpl-button-group';\n",
       "            continue;\n",
       "        }\n",
       "\n",
       "        var button = (fig.buttons[name] = document.createElement('button'));\n",
       "        button.classList = 'mpl-widget';\n",
       "        button.setAttribute('role', 'button');\n",
       "        button.setAttribute('aria-disabled', 'false');\n",
       "        button.addEventListener('click', on_click_closure(method_name));\n",
       "        button.addEventListener('mouseover', on_mouseover_closure(tooltip));\n",
       "\n",
       "        var icon_img = document.createElement('img');\n",
       "        icon_img.src = '_images/' + image + '.png';\n",
       "        icon_img.srcset = '_images/' + image + '_large.png 2x';\n",
       "        icon_img.alt = tooltip;\n",
       "        button.appendChild(icon_img);\n",
       "\n",
       "        buttonGroup.appendChild(button);\n",
       "    }\n",
       "\n",
       "    if (buttonGroup.hasChildNodes()) {\n",
       "        toolbar.appendChild(buttonGroup);\n",
       "    }\n",
       "\n",
       "    var fmt_picker = document.createElement('select');\n",
       "    fmt_picker.classList = 'mpl-widget';\n",
       "    toolbar.appendChild(fmt_picker);\n",
       "    this.format_dropdown = fmt_picker;\n",
       "\n",
       "    for (var ind in mpl.extensions) {\n",
       "        var fmt = mpl.extensions[ind];\n",
       "        var option = document.createElement('option');\n",
       "        option.selected = fmt === mpl.default_extension;\n",
       "        option.innerHTML = fmt;\n",
       "        fmt_picker.appendChild(option);\n",
       "    }\n",
       "\n",
       "    var status_bar = document.createElement('span');\n",
       "    status_bar.classList = 'mpl-message';\n",
       "    toolbar.appendChild(status_bar);\n",
       "    this.message = status_bar;\n",
       "};\n",
       "\n",
       "mpl.figure.prototype.request_resize = function (x_pixels, y_pixels) {\n",
       "    // Request matplotlib to resize the figure. Matplotlib will then trigger a resize in the client,\n",
       "    // which will in turn request a refresh of the image.\n",
       "    this.send_message('resize', { width: x_pixels, height: y_pixels });\n",
       "};\n",
       "\n",
       "mpl.figure.prototype.send_message = function (type, properties) {\n",
       "    properties['type'] = type;\n",
       "    properties['figure_id'] = this.id;\n",
       "    this.ws.send(JSON.stringify(properties));\n",
       "};\n",
       "\n",
       "mpl.figure.prototype.send_draw_message = function () {\n",
       "    if (!this.waiting) {\n",
       "        this.waiting = true;\n",
       "        this.ws.send(JSON.stringify({ type: 'draw', figure_id: this.id }));\n",
       "    }\n",
       "};\n",
       "\n",
       "mpl.figure.prototype.handle_save = function (fig, _msg) {\n",
       "    var format_dropdown = fig.format_dropdown;\n",
       "    var format = format_dropdown.options[format_dropdown.selectedIndex].value;\n",
       "    fig.ondownload(fig, format);\n",
       "};\n",
       "\n",
       "mpl.figure.prototype.handle_resize = function (fig, msg) {\n",
       "    var size = msg['size'];\n",
       "    if (size[0] !== fig.canvas.width || size[1] !== fig.canvas.height) {\n",
       "        fig._resize_canvas(size[0], size[1], msg['forward']);\n",
       "        fig.send_message('refresh', {});\n",
       "    }\n",
       "};\n",
       "\n",
       "mpl.figure.prototype.handle_rubberband = function (fig, msg) {\n",
       "    var x0 = msg['x0'] / fig.ratio;\n",
       "    var y0 = (fig.canvas.height - msg['y0']) / fig.ratio;\n",
       "    var x1 = msg['x1'] / fig.ratio;\n",
       "    var y1 = (fig.canvas.height - msg['y1']) / fig.ratio;\n",
       "    x0 = Math.floor(x0) + 0.5;\n",
       "    y0 = Math.floor(y0) + 0.5;\n",
       "    x1 = Math.floor(x1) + 0.5;\n",
       "    y1 = Math.floor(y1) + 0.5;\n",
       "    var min_x = Math.min(x0, x1);\n",
       "    var min_y = Math.min(y0, y1);\n",
       "    var width = Math.abs(x1 - x0);\n",
       "    var height = Math.abs(y1 - y0);\n",
       "\n",
       "    fig.rubberband_context.clearRect(\n",
       "        0,\n",
       "        0,\n",
       "        fig.canvas.width / fig.ratio,\n",
       "        fig.canvas.height / fig.ratio\n",
       "    );\n",
       "\n",
       "    fig.rubberband_context.strokeRect(min_x, min_y, width, height);\n",
       "};\n",
       "\n",
       "mpl.figure.prototype.handle_figure_label = function (fig, msg) {\n",
       "    // Updates the figure title.\n",
       "    fig.header.textContent = msg['label'];\n",
       "};\n",
       "\n",
       "mpl.figure.prototype.handle_cursor = function (fig, msg) {\n",
       "    fig.canvas_div.style.cursor = msg['cursor'];\n",
       "};\n",
       "\n",
       "mpl.figure.prototype.handle_message = function (fig, msg) {\n",
       "    fig.message.textContent = msg['message'];\n",
       "};\n",
       "\n",
       "mpl.figure.prototype.handle_draw = function (fig, _msg) {\n",
       "    // Request the server to send over a new figure.\n",
       "    fig.send_draw_message();\n",
       "};\n",
       "\n",
       "mpl.figure.prototype.handle_image_mode = function (fig, msg) {\n",
       "    fig.image_mode = msg['mode'];\n",
       "};\n",
       "\n",
       "mpl.figure.prototype.handle_history_buttons = function (fig, msg) {\n",
       "    for (var key in msg) {\n",
       "        if (!(key in fig.buttons)) {\n",
       "            continue;\n",
       "        }\n",
       "        fig.buttons[key].disabled = !msg[key];\n",
       "        fig.buttons[key].setAttribute('aria-disabled', !msg[key]);\n",
       "    }\n",
       "};\n",
       "\n",
       "mpl.figure.prototype.handle_navigate_mode = function (fig, msg) {\n",
       "    if (msg['mode'] === 'PAN') {\n",
       "        fig.buttons['Pan'].classList.add('active');\n",
       "        fig.buttons['Zoom'].classList.remove('active');\n",
       "    } else if (msg['mode'] === 'ZOOM') {\n",
       "        fig.buttons['Pan'].classList.remove('active');\n",
       "        fig.buttons['Zoom'].classList.add('active');\n",
       "    } else {\n",
       "        fig.buttons['Pan'].classList.remove('active');\n",
       "        fig.buttons['Zoom'].classList.remove('active');\n",
       "    }\n",
       "};\n",
       "\n",
       "mpl.figure.prototype.updated_canvas_event = function () {\n",
       "    // Called whenever the canvas gets updated.\n",
       "    this.send_message('ack', {});\n",
       "};\n",
       "\n",
       "// A function to construct a web socket function for onmessage handling.\n",
       "// Called in the figure constructor.\n",
       "mpl.figure.prototype._make_on_message_function = function (fig) {\n",
       "    return function socket_on_message(evt) {\n",
       "        if (evt.data instanceof Blob) {\n",
       "            var img = evt.data;\n",
       "            if (img.type !== 'image/png') {\n",
       "                /* FIXME: We get \"Resource interpreted as Image but\n",
       "                 * transferred with MIME type text/plain:\" errors on\n",
       "                 * Chrome.  But how to set the MIME type?  It doesn't seem\n",
       "                 * to be part of the websocket stream */\n",
       "                img.type = 'image/png';\n",
       "            }\n",
       "\n",
       "            /* Free the memory for the previous frames */\n",
       "            if (fig.imageObj.src) {\n",
       "                (window.URL || window.webkitURL).revokeObjectURL(\n",
       "                    fig.imageObj.src\n",
       "                );\n",
       "            }\n",
       "\n",
       "            fig.imageObj.src = (window.URL || window.webkitURL).createObjectURL(\n",
       "                img\n",
       "            );\n",
       "            fig.updated_canvas_event();\n",
       "            fig.waiting = false;\n",
       "            return;\n",
       "        } else if (\n",
       "            typeof evt.data === 'string' &&\n",
       "            evt.data.slice(0, 21) === 'data:image/png;base64'\n",
       "        ) {\n",
       "            fig.imageObj.src = evt.data;\n",
       "            fig.updated_canvas_event();\n",
       "            fig.waiting = false;\n",
       "            return;\n",
       "        }\n",
       "\n",
       "        var msg = JSON.parse(evt.data);\n",
       "        var msg_type = msg['type'];\n",
       "\n",
       "        // Call the  \"handle_{type}\" callback, which takes\n",
       "        // the figure and JSON message as its only arguments.\n",
       "        try {\n",
       "            var callback = fig['handle_' + msg_type];\n",
       "        } catch (e) {\n",
       "            console.log(\n",
       "                \"No handler for the '\" + msg_type + \"' message type: \",\n",
       "                msg\n",
       "            );\n",
       "            return;\n",
       "        }\n",
       "\n",
       "        if (callback) {\n",
       "            try {\n",
       "                // console.log(\"Handling '\" + msg_type + \"' message: \", msg);\n",
       "                callback(fig, msg);\n",
       "            } catch (e) {\n",
       "                console.log(\n",
       "                    \"Exception inside the 'handler_\" + msg_type + \"' callback:\",\n",
       "                    e,\n",
       "                    e.stack,\n",
       "                    msg\n",
       "                );\n",
       "            }\n",
       "        }\n",
       "    };\n",
       "};\n",
       "\n",
       "\n",
       "/*\n",
       " * return a copy of an object with only non-object keys\n",
       " * we need this to avoid circular references\n",
       " * https://stackoverflow.com/a/24161582/3208463\n",
       " */\n",
       "function simpleKeys(original) {\n",
       "    return Object.keys(original).reduce(function (obj, key) {\n",
       "        if (typeof original[key] !== 'object') {\n",
       "            obj[key] = original[key];\n",
       "        }\n",
       "        return obj;\n",
       "    }, {});\n",
       "}\n",
       "\n",
       "mpl.figure.prototype.mouse_event = function (event, name) {\n",
       "    if (name === 'button_press') {\n",
       "        this.canvas.focus();\n",
       "        this.canvas_div.focus();\n",
       "    }\n",
       "\n",
       "    // from https://stackoverflow.com/q/1114465\n",
       "    var boundingRect = this.canvas.getBoundingClientRect();\n",
       "    var x = (event.clientX - boundingRect.left) * this.ratio;\n",
       "    var y = (event.clientY - boundingRect.top) * this.ratio;\n",
       "\n",
       "    this.send_message(name, {\n",
       "        x: x,\n",
       "        y: y,\n",
       "        button: event.button,\n",
       "        step: event.step,\n",
       "        guiEvent: simpleKeys(event),\n",
       "    });\n",
       "\n",
       "    return false;\n",
       "};\n",
       "\n",
       "mpl.figure.prototype._key_event_extra = function (_event, _name) {\n",
       "    // Handle any extra behaviour associated with a key event\n",
       "};\n",
       "\n",
       "mpl.figure.prototype.key_event = function (event, name) {\n",
       "    // Prevent repeat events\n",
       "    if (name === 'key_press') {\n",
       "        if (event.key === this._key) {\n",
       "            return;\n",
       "        } else {\n",
       "            this._key = event.key;\n",
       "        }\n",
       "    }\n",
       "    if (name === 'key_release') {\n",
       "        this._key = null;\n",
       "    }\n",
       "\n",
       "    var value = '';\n",
       "    if (event.ctrlKey && event.key !== 'Control') {\n",
       "        value += 'ctrl+';\n",
       "    }\n",
       "    else if (event.altKey && event.key !== 'Alt') {\n",
       "        value += 'alt+';\n",
       "    }\n",
       "    else if (event.shiftKey && event.key !== 'Shift') {\n",
       "        value += 'shift+';\n",
       "    }\n",
       "\n",
       "    value += 'k' + event.key;\n",
       "\n",
       "    this._key_event_extra(event, name);\n",
       "\n",
       "    this.send_message(name, { key: value, guiEvent: simpleKeys(event) });\n",
       "    return false;\n",
       "};\n",
       "\n",
       "mpl.figure.prototype.toolbar_button_onclick = function (name) {\n",
       "    if (name === 'download') {\n",
       "        this.handle_save(this, null);\n",
       "    } else {\n",
       "        this.send_message('toolbar_button', { name: name });\n",
       "    }\n",
       "};\n",
       "\n",
       "mpl.figure.prototype.toolbar_button_onmouseover = function (tooltip) {\n",
       "    this.message.textContent = tooltip;\n",
       "};\n",
       "\n",
       "///////////////// REMAINING CONTENT GENERATED BY embed_js.py /////////////////\n",
       "// prettier-ignore\n",
       "var _JSXTOOLS_RESIZE_OBSERVER=function(A){var t,i=new WeakMap,n=new WeakMap,a=new WeakMap,r=new WeakMap,o=new Set;function s(e){if(!(this instanceof s))throw new TypeError(\"Constructor requires 'new' operator\");i.set(this,e)}function h(){throw new TypeError(\"Function is not a constructor\")}function c(e,t,i,n){e=0 in arguments?Number(arguments[0]):0,t=1 in arguments?Number(arguments[1]):0,i=2 in arguments?Number(arguments[2]):0,n=3 in arguments?Number(arguments[3]):0,this.right=(this.x=this.left=e)+(this.width=i),this.bottom=(this.y=this.top=t)+(this.height=n),Object.freeze(this)}function d(){t=requestAnimationFrame(d);var s=new WeakMap,p=new Set;o.forEach((function(t){r.get(t).forEach((function(i){var r=t instanceof window.SVGElement,o=a.get(t),d=r?0:parseFloat(o.paddingTop),f=r?0:parseFloat(o.paddingRight),l=r?0:parseFloat(o.paddingBottom),u=r?0:parseFloat(o.paddingLeft),g=r?0:parseFloat(o.borderTopWidth),m=r?0:parseFloat(o.borderRightWidth),w=r?0:parseFloat(o.borderBottomWidth),b=u+f,F=d+l,v=(r?0:parseFloat(o.borderLeftWidth))+m,W=g+w,y=r?0:t.offsetHeight-W-t.clientHeight,E=r?0:t.offsetWidth-v-t.clientWidth,R=b+v,z=F+W,M=r?t.width:parseFloat(o.width)-R-E,O=r?t.height:parseFloat(o.height)-z-y;if(n.has(t)){var k=n.get(t);if(k[0]===M&&k[1]===O)return}n.set(t,[M,O]);var S=Object.create(h.prototype);S.target=t,S.contentRect=new c(u,d,M,O),s.has(i)||(s.set(i,[]),p.add(i)),s.get(i).push(S)}))})),p.forEach((function(e){i.get(e).call(e,s.get(e),e)}))}return s.prototype.observe=function(i){if(i instanceof window.Element){r.has(i)||(r.set(i,new Set),o.add(i),a.set(i,window.getComputedStyle(i)));var n=r.get(i);n.has(this)||n.add(this),cancelAnimationFrame(t),t=requestAnimationFrame(d)}},s.prototype.unobserve=function(i){if(i instanceof window.Element&&r.has(i)){var n=r.get(i);n.has(this)&&(n.delete(this),n.size||(r.delete(i),o.delete(i))),n.size||r.delete(i),o.size||cancelAnimationFrame(t)}},A.DOMRectReadOnly=c,A.ResizeObserver=s,A.ResizeObserverEntry=h,A}; // eslint-disable-line\n",
       "mpl.toolbar_items = [[\"Home\", \"Reset original view\", \"fa fa-home\", \"home\"], [\"Back\", \"Back to previous view\", \"fa fa-arrow-left\", \"back\"], [\"Forward\", \"Forward to next view\", \"fa fa-arrow-right\", \"forward\"], [\"\", \"\", \"\", \"\"], [\"Pan\", \"Left button pans, Right button zooms\\nx/y fixes axis, CTRL fixes aspect\", \"fa fa-arrows\", \"pan\"], [\"Zoom\", \"Zoom to rectangle\\nx/y fixes axis\", \"fa fa-square-o\", \"zoom\"], [\"\", \"\", \"\", \"\"], [\"Download\", \"Download plot\", \"fa fa-floppy-o\", \"download\"]];\n",
       "\n",
       "mpl.extensions = [\"eps\", \"jpeg\", \"pgf\", \"pdf\", \"png\", \"ps\", \"raw\", \"svg\", \"tif\", \"webp\"];\n",
       "\n",
       "mpl.default_extension = \"png\";/* global mpl */\n",
       "\n",
       "var comm_websocket_adapter = function (comm) {\n",
       "    // Create a \"websocket\"-like object which calls the given IPython comm\n",
       "    // object with the appropriate methods. Currently this is a non binary\n",
       "    // socket, so there is still some room for performance tuning.\n",
       "    var ws = {};\n",
       "\n",
       "    ws.binaryType = comm.kernel.ws.binaryType;\n",
       "    ws.readyState = comm.kernel.ws.readyState;\n",
       "    function updateReadyState(_event) {\n",
       "        if (comm.kernel.ws) {\n",
       "            ws.readyState = comm.kernel.ws.readyState;\n",
       "        } else {\n",
       "            ws.readyState = 3; // Closed state.\n",
       "        }\n",
       "    }\n",
       "    comm.kernel.ws.addEventListener('open', updateReadyState);\n",
       "    comm.kernel.ws.addEventListener('close', updateReadyState);\n",
       "    comm.kernel.ws.addEventListener('error', updateReadyState);\n",
       "\n",
       "    ws.close = function () {\n",
       "        comm.close();\n",
       "    };\n",
       "    ws.send = function (m) {\n",
       "        //console.log('sending', m);\n",
       "        comm.send(m);\n",
       "    };\n",
       "    // Register the callback with on_msg.\n",
       "    comm.on_msg(function (msg) {\n",
       "        //console.log('receiving', msg['content']['data'], msg);\n",
       "        var data = msg['content']['data'];\n",
       "        if (data['blob'] !== undefined) {\n",
       "            data = {\n",
       "                data: new Blob(msg['buffers'], { type: data['blob'] }),\n",
       "            };\n",
       "        }\n",
       "        // Pass the mpl event to the overridden (by mpl) onmessage function.\n",
       "        ws.onmessage(data);\n",
       "    });\n",
       "    return ws;\n",
       "};\n",
       "\n",
       "mpl.mpl_figure_comm = function (comm, msg) {\n",
       "    // This is the function which gets called when the mpl process\n",
       "    // starts-up an IPython Comm through the \"matplotlib\" channel.\n",
       "\n",
       "    var id = msg.content.data.id;\n",
       "    // Get hold of the div created by the display call when the Comm\n",
       "    // socket was opened in Python.\n",
       "    var element = document.getElementById(id);\n",
       "    var ws_proxy = comm_websocket_adapter(comm);\n",
       "\n",
       "    function ondownload(figure, _format) {\n",
       "        window.open(figure.canvas.toDataURL());\n",
       "    }\n",
       "\n",
       "    var fig = new mpl.figure(id, ws_proxy, ondownload, element);\n",
       "\n",
       "    // Call onopen now - mpl needs it, as it is assuming we've passed it a real\n",
       "    // web socket which is closed, not our websocket->open comm proxy.\n",
       "    ws_proxy.onopen();\n",
       "\n",
       "    fig.parent_element = element;\n",
       "    fig.cell_info = mpl.find_output_cell(\"<div id='\" + id + \"'></div>\");\n",
       "    if (!fig.cell_info) {\n",
       "        console.error('Failed to find cell for figure', id, fig);\n",
       "        return;\n",
       "    }\n",
       "    fig.cell_info[0].output_area.element.on(\n",
       "        'cleared',\n",
       "        { fig: fig },\n",
       "        fig._remove_fig_handler\n",
       "    );\n",
       "};\n",
       "\n",
       "mpl.figure.prototype.handle_close = function (fig, msg) {\n",
       "    var width = fig.canvas.width / fig.ratio;\n",
       "    fig.cell_info[0].output_area.element.off(\n",
       "        'cleared',\n",
       "        fig._remove_fig_handler\n",
       "    );\n",
       "    fig.resizeObserverInstance.unobserve(fig.canvas_div);\n",
       "\n",
       "    // Update the output cell to use the data from the current canvas.\n",
       "    fig.push_to_output();\n",
       "    var dataURL = fig.canvas.toDataURL();\n",
       "    // Re-enable the keyboard manager in IPython - without this line, in FF,\n",
       "    // the notebook keyboard shortcuts fail.\n",
       "    IPython.keyboard_manager.enable();\n",
       "    fig.parent_element.innerHTML =\n",
       "        '<img src=\"' + dataURL + '\" width=\"' + width + '\">';\n",
       "    fig.close_ws(fig, msg);\n",
       "};\n",
       "\n",
       "mpl.figure.prototype.close_ws = function (fig, msg) {\n",
       "    fig.send_message('closing', msg);\n",
       "    // fig.ws.close()\n",
       "};\n",
       "\n",
       "mpl.figure.prototype.push_to_output = function (_remove_interactive) {\n",
       "    // Turn the data on the canvas into data in the output cell.\n",
       "    var width = this.canvas.width / this.ratio;\n",
       "    var dataURL = this.canvas.toDataURL();\n",
       "    this.cell_info[1]['text/html'] =\n",
       "        '<img src=\"' + dataURL + '\" width=\"' + width + '\">';\n",
       "};\n",
       "\n",
       "mpl.figure.prototype.updated_canvas_event = function () {\n",
       "    // Tell IPython that the notebook contents must change.\n",
       "    IPython.notebook.set_dirty(true);\n",
       "    this.send_message('ack', {});\n",
       "    var fig = this;\n",
       "    // Wait a second, then push the new image to the DOM so\n",
       "    // that it is saved nicely (might be nice to debounce this).\n",
       "    setTimeout(function () {\n",
       "        fig.push_to_output();\n",
       "    }, 1000);\n",
       "};\n",
       "\n",
       "mpl.figure.prototype._init_toolbar = function () {\n",
       "    var fig = this;\n",
       "\n",
       "    var toolbar = document.createElement('div');\n",
       "    toolbar.classList = 'btn-toolbar';\n",
       "    this.root.appendChild(toolbar);\n",
       "\n",
       "    function on_click_closure(name) {\n",
       "        return function (_event) {\n",
       "            return fig.toolbar_button_onclick(name);\n",
       "        };\n",
       "    }\n",
       "\n",
       "    function on_mouseover_closure(tooltip) {\n",
       "        return function (event) {\n",
       "            if (!event.currentTarget.disabled) {\n",
       "                return fig.toolbar_button_onmouseover(tooltip);\n",
       "            }\n",
       "        };\n",
       "    }\n",
       "\n",
       "    fig.buttons = {};\n",
       "    var buttonGroup = document.createElement('div');\n",
       "    buttonGroup.classList = 'btn-group';\n",
       "    var button;\n",
       "    for (var toolbar_ind in mpl.toolbar_items) {\n",
       "        var name = mpl.toolbar_items[toolbar_ind][0];\n",
       "        var tooltip = mpl.toolbar_items[toolbar_ind][1];\n",
       "        var image = mpl.toolbar_items[toolbar_ind][2];\n",
       "        var method_name = mpl.toolbar_items[toolbar_ind][3];\n",
       "\n",
       "        if (!name) {\n",
       "            /* Instead of a spacer, we start a new button group. */\n",
       "            if (buttonGroup.hasChildNodes()) {\n",
       "                toolbar.appendChild(buttonGroup);\n",
       "            }\n",
       "            buttonGroup = document.createElement('div');\n",
       "            buttonGroup.classList = 'btn-group';\n",
       "            continue;\n",
       "        }\n",
       "\n",
       "        button = fig.buttons[name] = document.createElement('button');\n",
       "        button.classList = 'btn btn-default';\n",
       "        button.href = '#';\n",
       "        button.title = name;\n",
       "        button.innerHTML = '<i class=\"fa ' + image + ' fa-lg\"></i>';\n",
       "        button.addEventListener('click', on_click_closure(method_name));\n",
       "        button.addEventListener('mouseover', on_mouseover_closure(tooltip));\n",
       "        buttonGroup.appendChild(button);\n",
       "    }\n",
       "\n",
       "    if (buttonGroup.hasChildNodes()) {\n",
       "        toolbar.appendChild(buttonGroup);\n",
       "    }\n",
       "\n",
       "    // Add the status bar.\n",
       "    var status_bar = document.createElement('span');\n",
       "    status_bar.classList = 'mpl-message pull-right';\n",
       "    toolbar.appendChild(status_bar);\n",
       "    this.message = status_bar;\n",
       "\n",
       "    // Add the close button to the window.\n",
       "    var buttongrp = document.createElement('div');\n",
       "    buttongrp.classList = 'btn-group inline pull-right';\n",
       "    button = document.createElement('button');\n",
       "    button.classList = 'btn btn-mini btn-primary';\n",
       "    button.href = '#';\n",
       "    button.title = 'Stop Interaction';\n",
       "    button.innerHTML = '<i class=\"fa fa-power-off icon-remove icon-large\"></i>';\n",
       "    button.addEventListener('click', function (_evt) {\n",
       "        fig.handle_close(fig, {});\n",
       "    });\n",
       "    button.addEventListener(\n",
       "        'mouseover',\n",
       "        on_mouseover_closure('Stop Interaction')\n",
       "    );\n",
       "    buttongrp.appendChild(button);\n",
       "    var titlebar = this.root.querySelector('.ui-dialog-titlebar');\n",
       "    titlebar.insertBefore(buttongrp, titlebar.firstChild);\n",
       "};\n",
       "\n",
       "mpl.figure.prototype._remove_fig_handler = function (event) {\n",
       "    var fig = event.data.fig;\n",
       "    if (event.target !== this) {\n",
       "        // Ignore bubbled events from children.\n",
       "        return;\n",
       "    }\n",
       "    fig.close_ws(fig, {});\n",
       "};\n",
       "\n",
       "mpl.figure.prototype._root_extra_style = function (el) {\n",
       "    el.style.boxSizing = 'content-box'; // override notebook setting of border-box.\n",
       "};\n",
       "\n",
       "mpl.figure.prototype._canvas_extra_style = function (el) {\n",
       "    // this is important to make the div 'focusable\n",
       "    el.setAttribute('tabindex', 0);\n",
       "    // reach out to IPython and tell the keyboard manager to turn it's self\n",
       "    // off when our div gets focus\n",
       "\n",
       "    // location in version 3\n",
       "    if (IPython.notebook.keyboard_manager) {\n",
       "        IPython.notebook.keyboard_manager.register_events(el);\n",
       "    } else {\n",
       "        // location in version 2\n",
       "        IPython.keyboard_manager.register_events(el);\n",
       "    }\n",
       "};\n",
       "\n",
       "mpl.figure.prototype._key_event_extra = function (event, _name) {\n",
       "    // Check for shift+enter\n",
       "    if (event.shiftKey && event.which === 13) {\n",
       "        this.canvas_div.blur();\n",
       "        // select the cell after this one\n",
       "        var index = IPython.notebook.find_cell_index(this.cell_info[0]);\n",
       "        IPython.notebook.select(index + 1);\n",
       "    }\n",
       "};\n",
       "\n",
       "mpl.figure.prototype.handle_save = function (fig, _msg) {\n",
       "    fig.ondownload(fig, null);\n",
       "};\n",
       "\n",
       "mpl.find_output_cell = function (html_output) {\n",
       "    // Return the cell and output element which can be found *uniquely* in the notebook.\n",
       "    // Note - this is a bit hacky, but it is done because the \"notebook_saving.Notebook\"\n",
       "    // IPython event is triggered only after the cells have been serialised, which for\n",
       "    // our purposes (turning an active figure into a static one), is too late.\n",
       "    var cells = IPython.notebook.get_cells();\n",
       "    var ncells = cells.length;\n",
       "    for (var i = 0; i < ncells; i++) {\n",
       "        var cell = cells[i];\n",
       "        if (cell.cell_type === 'code') {\n",
       "            for (var j = 0; j < cell.output_area.outputs.length; j++) {\n",
       "                var data = cell.output_area.outputs[j];\n",
       "                if (data.data) {\n",
       "                    // IPython >= 3 moved mimebundle to data attribute of output\n",
       "                    data = data.data;\n",
       "                }\n",
       "                if (data['text/html'] === html_output) {\n",
       "                    return [cell, data, j];\n",
       "                }\n",
       "            }\n",
       "        }\n",
       "    }\n",
       "};\n",
       "\n",
       "// Register the function which deals with the matplotlib target/channel.\n",
       "// The kernel may be null if the page has been refreshed.\n",
       "if (IPython.notebook.kernel !== null) {\n",
       "    IPython.notebook.kernel.comm_manager.register_target(\n",
       "        'matplotlib',\n",
       "        mpl.mpl_figure_comm\n",
       "    );\n",
       "}\n"
      ],
      "text/plain": [
       "<IPython.core.display.Javascript object>"
      ]
     },
     "metadata": {},
     "output_type": "display_data"
    },
    {
     "data": {
      "text/html": [
       "<img src=\"data:image/png;base64,iVBORw0KGgoAAAANSUhEUgAAAyAAAAJYCAYAAACadoJwAAAAAXNSR0IArs4c6QAAIABJREFUeF7s3Qu0VWXV//F5BEHuNwEJUC4CohwQDCRAESsIk1DBRDlyUQolFcs4KFBAcQl8y5BMMQoQTBDIRDMgLTMuiqLcDJBrIYIEilwVOPCOZ52LBzhwzt5zsvd69vruMRr1Htae+1mfOcd/PL//2nuttBMnTpwQXggggAACCCCAAAIIIIBAAgTSCCAJUOYjEEAAAQQQQAABBBBAIBAggDAICCCAAAIIIIAAAgggkDABAkjCqPkgBBBAAAEEEEAAAQQQIIAwAwgggAACCCCAAAIIIJAwAQJIwqj5IAQQQAABBBBAAAEEECCAMAMIIIAAAggggAACCCCQMAECSMKo+SAEEEAAAQQQQAABBBAggDADCCCAAAIIIIAAAgggkDABAkjCqPkgBBBAAAEEEEAAAQQQIIAwAwgggAACCCCAAAIIIJAwAQJIwqj5IAQQQAABBBBAAAEEECCAMAMIIIAAAggggAACCCCQMAECSMKo+SAEEEAAAQQQQAABBBAggDADCCCAAAIIIIAAAgggkDABAkjCqPkgBBBAAAEEEEAAAQQQIIAwAwgggAACCCCAAAIIIJAwAQJIwqj5IAQQQAABBBBAAAEEECCAMAMIIIAAAggggAACCCCQMAECSMKo+SAEEEAAAQQQQAABBBAggDADCCCAAAIIIIAAAgggkDABAkjCqPkgBBBAAAEEEEAAAQQQIIAwAwgggAACCCCAAAIIIJAwAQJIwqj5IAQQQAABBBBAAAEEECCAMAMIIIAAAggggAACCCCQMAECSMKo+SAEEEAAAQQQQAABBBAggDADCCCAAAIIIIAAAgggkDABAkjCqPkgBBBAAAEEEEAAAQQQIIAwAwgggAACCCCAAAIIIJAwAQJIwqj5IAQQQAABBBBAAAEEECCAMAMIIIAAAggggAACCCCQMAECSMKo+SAEEEAAAQQQQAABBBAggDADCCCAAAIIIIAAAgggkDABAkjCqPkgBBBAAAEEEEAAAQQQIIAwAwgggAACCCCAAAIIIJAwAQJIwqj5IAQQQAABBBBAAAEEECCAMAMIIIAAAggggAACCCCQMAECSMKo+SAEEEAAAQQQQAABBBAggDADCCCAAAIIIIAAAgggkDABAkjCqPkgBBBAAAEEEEAAAQQQIIAwAwgggAACCCCAAAIIIJAwAQJIwqj5IAQQQAABBBBAAAEEECCAMAMIIIAAAggggAACCCCQMAECSMKo+SAEEEAAAQQQQAABBBAggDADCCCAAAIIIIAAAgggkDABAkjCqPkgBBBAAAEEEEAAAQQQIIAwAwgggAACCCCAAAIIIJAwAQJIwqj5IAQQQAABBBBAAAEEECCAMAMIIIAAAggggAACCCCQMAECSMKo+SAEEEAAAQQQQAABBBAggDADCCCAAAIIIIAAAgggkDABAkjCqPkgBBBAAAEEEEAAAQQQIIAwAwgggAACCCCAAAIIIJAwAQJIwqj5IAQQQAABBBBAAAEEECCAMAMIIIAAAggggAACCCCQMAECSMKo+SAEEEAAAQQQQAABBBAggDADCCCAAAIIIIAAAgggkDABAkjCqPkgBBBAAAEEEEAAAQQQIIAwAwgggAACCCCAAAIIIJAwAQJIwqj5IAQQQAABBBBAAAEEECCAMAMIIIAAAggggAACCCCQMAECSMKo+SAEEEAAAQQQQAABBBAggDADCCCAAAIIIIAAAgggkDABAkjCqPkgBBBAAAEEEEAAAQQQIIAwAwgggAACCCCAAAIIIJAwAQJIwqj5IAQQQAABBBBAAAEEECCAMAMIIIAAAggggAACCCCQMAECSMKo+SAEEEAAAQQQQAABBBAggDADCCCAAAIIIIAAAgggkDABAkjCqPkgBBBAAAEEEEAAAQQQIIAwAwgggAACCCCAAAIIIJAwAQJIwqgL/6Ddu3fLggULpE6dOlKqVKnC38ARCCCAAAIIIIAAAgkVOHz4sGzdulU6deokF154YUI/O1U+jAASok4+++yzkpGREaIVsRQEEEAAAQQQQACBggRmzJghPXv2BCcOAQJIHGjn6i2LFy+Wdu3aiRvoxo0bn6uPoS4CCCCAAAIIIIBAnAJr164N/j+MFy1aJG3bto2zSrTfRgAJUf/fffddueqqq2T58uXSokWLEK2MpSCAAAIIIIAAAgg4AfZr+jkggOgNzSow0GaUFEIAAQQQQAABBM6JAPs1PSsBRG9oVoGBNqOkEAIIIIAAAgggcE4E2K/pWQkgekOzCgy0GSWFEEAAAQQQQACBcyLAfk3PSgDRG5pVYKDNKCmEAAIIIIAAAgicEwH2a3pWAoje0KwCA21GSSEEEEAAAQQQQOCcCLBf07MSQPSGZhUYaDNKCiGAAAIIIIAAAudEgP2anpUAojc0q8BAm1FSCAEEEEAAAQQQOCcC7Nf0rAQQvaFZBQbajJJCCCCAAAIIIIDAORFgv6ZnJYDoDc0qMNBmlBRCAAEEEEAAAQTOiQD7NT0rAURvaFaBgTajpBACCCCAAAIIIHBOBNiv6VkJIHpDswoMtBklhRBAAAEEEEAAgXMiwH5Nzxr6AJKVlSWPPvqoTJ48WbZt2ya1a9eWfv36yaBBg6RYsWKFCqxZs0YyMzNl0aJFwbHt2rWT8ePHS5MmTU57byzHujc///zzMnHiRFm5cqUcP35c6tWrJ3fffbcMHDiw0HUVdAADHRcbb0IAAQQQQAABBBImwH5NTx36ADJgwAB58sknpW/fvtKmTRtZvHixTJ06Vdzfn3jiibMKbNiwQVq2bCmVK1eW+++/Pzj28ccfl71798qyZcukQYMGee+P5Vj3poceekh+/etfS/fu3eW6666TtLQ02bRpk7jA9Ktf/SquzjDQcbHxJgQQQAABBBBAIGEC7Nf01KEOIKtXr5ZmzZoF4WHChAl5Z+uuMOReeUhPTz+jggsH8+fPl7Vr1wZXTtzLXUVp3LixdO7cWWbPnp333liOffnll6VLly7yzDPPyJ133qnvQk4FBtqMkkIIIIAAAggggMA5EWC/pmcNdQAZOnSojBkzRjZv3ix169bNO9stW7YEX3dy/z5q1KgCFQ4cOCBVqlSRHj16yLRp0046pnfv3jJr1izZs2ePlClTRmI51hW69tpr5eDBg7J8+fKg7v79+6VcuXLqbjDQakIKIIAAAggggAAC51SA/ZqeN9QBpFOnTsHvK3bu3HnamVavXl2aN28eXOEo6LV06dLgK1vu61v33HPPSYe4v7mvcLljWrduHfx3UY91YaVChQpy7733ykUXXSSPPfaYfPLJJ1KpUqXg9x8uMJ1//vlxdYaBjouNNyGAAAIIIIAAAgkTYL+mpw51AHFfrypRokTelYb8p9uiRQs5evSouK9pFfSaO3du8PuMefPmBV+Xyv9yf+vatavMmTNHunXrJrEcu2LFiiD4VK1aNfj8YcOGSZ06dYLPcV/J6tmzp8yYMaPQzuzYsUPcf/K/3FfFMjIygvN158cLAQQQQAABBBBAIFwCBBB9P0IdQOrXry/uSseSJUtOO1N3xWLXrl2ycePGAhWmT58uvXr1kgULFkjHjh1POmbhwoXirq64Y9yGP5Zj3d20rrnmmqDe3//+d+nQoUNebVfr2Weflffff18uv/zys3ZnxIgRMnLkyAKPIYDoB9u7CitniayZK3L7cyLnFX53N+/OjwUjgAACCCCQIgIEEH0jQx1AwngFxIWDr371q1KrVq3gB+35X3/729+CsPPb3/42+IrW2V5cAdEPb0pVGFEh+3TuXSpS/ezhNaXOm5NBAAEEEEDAMwECiL5hoQ4gYfwNiPs9So0aNeSqq66Sd95556QOuOeIuNA0evRoGTJkSMzdYaBjJkudN+QGkAFvilRrnDrnxZkggAACCCCQYgLs1/QNDXUAcZv4sWPHnvEuWO7f3Wa/oFdhd7aaOXNmcBessmXLFnoXrPzHus9yt/Q9duzYab/h+Otf/yo33HCD/O53vwselhjri4GOVSyFjieApFAzORUEEEAAgVQWYL+m726oA4i7A5b7wfeZngPifhDetGnT4Mfg7iGA7u5U7upE7sv9wNz9BmTdunXBV6bcK/c5IO7qivvxeTzHDh48OHia+gsvvCA33XRTUOLEiRPBD9tfeeWV4Hcp7ofpsb4Y6FjFUuh4AkgKNZNTQQABBBBIZQH2a/ruhjqAuNNzt9CdNGlS8CT0tm3bBk9CnzJlivTv31+eeuqpQGDr1q3Bc0Lc8z3cU9JzX+vXr5dWrVoFzwN54IEHgj+7J6G7Kx/uSeiNGjWK69hPP/00+B3IRx99FIQjFzZeeuml4JbADz/8cHDVJp4XAx2PWoq8hwCSIo3kNBBAAAEEUl2A/Zq+w6EPIO6rTu5qw+TJk2X79u1Ss2bN4OtNmZmZUrx48bMGEPePq1atEnfFwt29yr3atWsn48aNC66cnPqK5Vj3I/JHHnkkuOLx2WefyaWXXir33XdfoT8+P1vLGGj9QHtbgQDibetYOAIIIIBAtATYr+n7HfoAoj9Ffyow0P70ynylBBBzUgoigAACCCBwLgTYr+lVCSB6Q7MKDLQZpX+FCCD+9YwVI4AAAghEUoD9mr7tBBC9oVkFBtqM0r9CBBD/esaKEUAAAQQiKcB+Td92Aoje0KwCA21G6V8hAoh/PWPFCCCAAAKRFGC/pm87AURvaFaBgTaj9K8QAcS/nrFiBBBAAIFICrBf07edAKI3NKvAQJtR+leIAOJfz1gxAggggEAkBdiv6dtOANEbmlVgoM0o/StEAPGvZ6wYAQQQQCCSAuzX9G0ngOgNzSow0GaU/hUigPjXM1aMAAIIIBBJAfZr+rYTQPSGZhUYaDNK/woRQPzrGStGAAEEEIikAPs1fdsJIHpDswoMtBmlf4XyAshbItUu82/9rBgBBBBAAIGICLBf0zeaAKI3NKvAQJtR+leIAOJfz1gxAggggEAkBdiv6dtOANEbmlVgoM0o/Suk+QrWh8tFXh8j0m2ySKlK/p07K0YAAQQQQMAjAfZr+mYRQPSGZhUYaDNK/wppAsiYmiJHDoh0GCrSPtO/c2fFCCCAAAIIeCTAfk3fLAKI3tCsAgNtRulfIU0A+XlVkawjItc9InLdw/6dOytGAAEEEEDAIwH2a/pmEUD0hmYVGGgzSv8KEUD86xkrRgABBBCIpAD7NX3bCSB6Q7MKDLQZpX+FCCD+9YwVI4AAAghEUoD9mr7tBBC9oVkFBtqM0r9CBBD/esaKEUAAAQQiKcB+Td92Aoje0KwCA21G6V8hAoh/PWPFCCCAAAKRFGC/pm87AURvaFaBgTaj9K8QAcS/nrFiBBBAAIFICrBf07edAKI3NKvAQJtR+leIAOJfz1gxAggggEAkBdiv6dtOANEbmlVgoM0o/SukCSA/u1Dk+FFuw+tf11kxAggggICHAuzX9E0jgOgNzSow0GaU/hUigPjXM1aMAAIIIBBJAfZr+rYTQPSGZhUYaDNK/wqZBJAhItcN9u/cWTECCCCAAAIeCbBf0zeLAKI3NKvAQJtR+lcoL4C8JVLtstjWn/cVLAJIbHAcjQACCCCAQOwC7NdiNzv1HQQQvaFZBQbajNK/QgQQ/3rGihFAAAEEIinAfk3fdgKI3tCsAgNtRulfIQKIfz1jxQgggAACkRRgv6ZvOwFEb2hWgYE2o/SvkEkAeUTkuof9O3dWjAACCCCAgEcC7Nf0zSKA6A3NKjDQZpT+FdIEkJ9XFck6wm14/es6K0YAAQQQ8FCA/Zq+aQQQvaFZBQbajNK/QpoAwnNA/Os3K0YAAQQQ8FaA/Zq+dQQQvaFZBQbajNK/Qia34eUrWP41nhUjgAACCPgmwH5N3zECiN7QrAIDbUbpXyECiH89Y8UIIIAAApEUYL+mbzsBRG9oVoGBNqP0rxABxL+esWIEEEAAgUgKsF/Tt50Aojc0q8BAm1H6V8gkgPAgQv8az4oRQAABBHwTYL+m7xgBRG9oVoGBNqP0rxABxL+esWIEEEAAgUgKsF/Tt50Aojc0q8BAm1H6V4gA4l/PWDECCCCAQCQF2K/p204A0RuaVWCgzSj9K0QA8a9nrBgBBBBAIJIC7Nf0bSeA6A3NKjDQZpT+FSKA+NczVowAAgggEEkB9mv6thNA9IZmFRhoM0r/CqkeRFhF5Pgxkev4Ebp/jWfFCCCAAAK+CbBf03eMAKI3NKvAQJtR+leIAOJfz1gxAggggEAkBdiv6dtOANEbmlVgoM0o/StEAPGvZ6wYAQQQQCCSAuzX9G0ngOgNzSow0GaU/hUigPjXM1aMAAIIIBBJAfZr+rYTQPSGZhUYaDNK/woRQPzrGStGAAEEEIikAPs1fdsJIHpDswoMtBmlf4VUAeRCkeNH+RG6f11nxQgggAACHgqwX9M3jQCiNzSrwECbUfpXiADiX89YMQIIIIBAJAXYr+nbTgDRG5pVYKDNKP0rRADxr2esGAEEEEAgkgLs1/RtJ4DoDc0qMNBmlP4VUgUQngPiX8NZMQIIIICArwLs1/SdI4DoDc0qMNBmlP4VIoD41zNWjAACCCAQSQH2a/q2E0D0hmYVGGgzSv8K5QWQN0WqNY5t/T/jCkhsYByNAAIIIIBA/ALs1+K3y30nAURvaFaBgTaj9K8QAcS/nrFiBBBAAIFICrBf07edAKI3NKvAQJtR+leIAOJfz1gxAggggEAkBdiv6dtOANEbmlVgoM0o/StEAPGvZ6wYAQQQQCCSAuzX9G0ngOgNzSow0GaU/hWyCCAdhoq0z/Tv3FkxAggggAACHgmwX9M3iwCiNzSrwECbUfpXyOIuWAQQ//rOihFAAAEEvBNgv6ZvGQFEb2hWgYE2o/SvkCaAjKwsciJLhADiX99ZMQIIIICAdwLs1/QtI4DoDc0qMNBmlP4VIoD41zNWjAACCCAQSQH2a/q2E0D0hmYVGGgzSv8KEUD86xkrRgABBBCIpAD7NX3bCSB6Q7MKDLQZpX+FLALIdUNErhvs37mzYgQQQAABBDwSYL+mbxYBRG9oVoGBNqP0r5AmgPAkdP/6zYoRQAABBLwVYL+mb13oA0hWVpY8+uijMnnyZNm2bZvUrl1b+vXrJ4MGDZJixYoVKrBmzRrJzMyURYsWBce2a9dOxo8fL02aNDntvUU9tk+fPjJt2rQCP9utsVatWoWuq6ADGOi42FLjTQSQ1OgjZ4EAAgggkPIC7Nf0LQ59ABkwYIA8+eST0rdvX2nTpo0sXrxYpk6dKu7vTzzxxFkFNmzYIC1btpTKlSvL/fffHxz7+OOPy969e2XZsmXSoEGDvPfHcmxuAHEh5LzzzjtpDbfccouULl06rs4w0HGxpcabCCCp0UfOAgEEEEAg5QXYr+lbHOoAsnr1amnWrFkQHiZMmJB3tgMHDpSJEyfKypUrJT09/YwK3bt3l/nz58vatWuDKyfu5a5QNG7cWDp37iyzZ8/Oe28sx+YGkKNHj0rx4sX1XcipwECbUfpXiADiX89YMQIIIIBAJAXYr+nbHuoAMnToUBkzZoxs3rxZ6tatm3e2W7ZskXr16on791GjRhWocODAAalSpYr06NHjtK9L9e7dW2bNmiV79uyRMmXKSCzHug/LDSBHjhyRw4cPS9myZU+7EhJPaxjoeNRS5D0WAYTngKTIMHAaCCCAAAJhFmC/pu9OqANIp06dgqscO3fuPO1Mq1evLs2bNw+ucBT0Wrp0afCVLff1rXvuueekQ9zf3Fe43DGtW7cO/ruox+YPIOXKlZP9+/dLqVKlgisq7rcl9evXj7srDHTcdP6/URNAeBCh//3nDBBAAAEEvBFgv6ZvVagDiPt6VYkSJWT58uWnnWmLFi3EfQXKfU2roNfcuXPFfa1q3rx50qVLl5MOcX/r2rWrzJkzR7p16yaxHOsKPfzww3Ls2DG56qqrgvUtWbJEfvOb30j58uXlnXfekUsuuaTQzuzYsUPcf/K/3FfFMjIygvN158crQgIEkAg1m1NFAAEEEPBZgACi716oA4i7muCudLgN/qkvd8Vi165dsnHjxgIVpk+fLr169ZIFCxZIx44dTzpm4cKF4q6uuGPchj+WY89E7q7EuKsg7utd7kfyhb1GjBghI0eOLPAwAkhhein47wSQFGwqp4QAAgggkIoCBBB9V0MdQMJ6BeRM7O6KiLuq8dFHHxXaGa6AFEoUrQMIINHqN2eLAAIIIOCtAAFE37pQB5Cw/gbkTOzuFrwvv/yyuB+nx/NioONRS5H3EEBSpJGcBgIIIIBAqguwX9N3ONQBZMiQITJ27Ngz3gXL/fvo0aMLVCjszlYzZ84M7oLl7mAVy7FnI2/atKl8+umnwa1+43kx0PGopch7CCAp0khOAwEEEEAg1QXYr+k7HOoA4u6A5e50dabngKxYsULcpt/9GH3Tpk1SoUIFqVGjRp6K+4G5+w3IunXr8p5OnvscEHd1xf34PPdV1GMPHjwYvMXdvjf/y93W193yt3///vLUU0/F1RkGOi621HgTASQ1+shZIIAAAgikvAD7NX2LQx1A3Om5W+hOmjQpeBJ627ZtgyehT5ky5aSN/tatW4PnhJz6A/D169dLq1atgueBPPDAA4GWexK6u/LhnoTeqFGjPMGiHutCz/XXXy+33XZb8H53Fyx3G99nn31WLr74YnnrrbeCH87H82Kg41FLkfcQQFKkkZwGAggggECqC7Bf03c49AHE3e7WPV9j8uTJsn37dqlZs6b069dPMjMz855CfqYA4nhWrVolgwcPlkWLFgVa7dq1k3HjxgVXTk59FeVY90yShx56SN5+++3gx+bu6ot7yrq71a97MOKFF14Yd1cY6Ljp/H+jKoBUEjlxXIQHEfo/B5wBAggggEDoBdiv6VsU+gCiP0V/KjDQ/vTKfKUEEHNSCiKAAAIIIHAuBNiv6VUJIHpDswoMtBmlf4VUAaSyyIksroD413VWjAACCCDgoQD7NX3TCCB6Q7MKDLQZpX+FCCD+9YwVI4AAAghEUoD9mr7tBBC9oVkFBtqM0r9CBBD/esaKEUAAAQQiKcB+Td92Aoje0KwCA21G6V8hAoh/PWPFCCCAAAKRFGC/pm87AURvaFaBgTaj9K8QAcS/nrFiBBBAAIFICrBf07edAKI3NKvAQJtR+leIAOJfz1gxAggggEAkBdiv6dtOANEbmlVgoM0o/StEAPGvZ6wYAQQQQCCSAuzX9G0ngOgNzSow0GaU/hUigPjXM1aMAAIIIBBJAfZr+rYTQPSGZhUYaDNK/wrlBpAfLBOp2ii29Y/kOSCxgXE0AggggAAC8QuwX4vfLvedBBC9oVkFBtqM0r9CBBD/esaKEUAAAQQiKcB+Td92Aoje0KwCA21G6V8hAoh/PWPFCCCAAAKRFGC/pm87AURvaFaBgTaj9K8QvwHxr2esGAEEEEAgkgLs1/RtJ4DoDc0qMNBmlP4VIoD41zNWjAACCCAQSQH2a/q2E0D0hmYVGGgzSv8KqQJIJZETx0U6DBVpn+nfubNiBBBAAAEEPBJgv6ZvFgFEb2hWgYE2o/SvEAHEv56xYgQQQACBSAqwX9O3nQCiNzSrwECbUfpXSBVA9Lfhvf3l26V2+doy/trx/tmxYgQQQAABBBIowH5Nj00A0RuaVWCgzSj9K5TkAJI+LT0wW917tX92rBgBBBBAAIEECrBf02MTQPSGZhUYaDNK/woRQPzrGStGAAEEEIikAPs1fdsJIHpDswoMtBmlf4UIIP71jBUjgAACCERSgP2avu0EEL2hWQUG2ozSv0IEEP96xooRQAABBCIpwH5N33YCiN7QrAIDbUbpXyECiH89Y8UIIIAAApEUYL+mbzsBRG9oVoGBNqP0rxABxL+esWIEEEAAgUgKsF/Tt50Aojc0q8BAm1H6V4gA4l/PWDECCCCAQCQF2K/p204A0RuaVWCgzSj9K5QbQH6wTKRqo9jWP1L/HBBuwxsbOUcjgAACCERXgP2avvcEEL2hWQUG2ozSv0IEEP96xooRQAABBCIpwH5N33YCiN7QrAIDbUbpXyECiH89Y8UIIIAAApEUYL+mbzsBRG9oVoGBNqP0rxABxL+esWIEEEAAgUgKsF/Tt50Aojc0q8BAm1H6V0gVQCqJnDgu0mGoSPvMuM6d34DExcabEEAAAQQiKMB+Td90Aoje0KwCA21G6V8h1V2wcgPIMJH2g+I6dwJIXGy8CQEEEEAgggLs1/RNJ4DoDc0qMNBmlP4VMgkgXAHxr/GsGAEEEEDANwH2a/qOEUD0hmYVGGgzSv8KqQIIt+H1r+GsGAEEEEDAVwH2a/rOEUD0hmYVGGgzSv8KEUD86xkrRgABBBCIpAD7NX3bCSB6Q7MKDLQZpX+FCCD+9YwVI4AAAghEUoD9mr7tBBC9oVkFBtqM0r9CBBD/esaKEUAAAQQiKcB+Td92Aoje0KwCA21G6V8hAoh/PWPFCCCAAAKRFGC/pm87AURvaFaBgTaj9K8QAcS/nrFiBBBAAIFICrBf07edAKI3NKvAQJtR+leIAOJfz1gxAggggEAkBdiv6dtOANEbmlVgoM0o/SukehI6t+H1r+GsGAEEEEDAVwH2a/rOEUD0hmYVGGgzSv8KEUD86xkrRgABBBCIpAD7NX3bCSB6Q7MKDLQZpX+FCCD+9YwVI4AAAghEUoD9mr7tBBC9oVkFBtqM0r9CBBD/esaKEUAAAQQiKcB+Td92Aoje0KwCA21G6V8hAoh/PWPFCCCAAAKRFGC/pm87AURvaFaBgTaj9K+QKoBUEjlxXKTDUJH2mXGde/q09OB9q3uvjuv9vAkBBBBAAIGoCLBf03eaAKI3NKvAQJtR+lfIJIAME2k/KK5zJ4DExcabEEAAAQQiKMB+Td90Aoje0KwCA21G6V8hkwDCFRD/Gs+KEUAAAQR8E2C/pu8YAURvaFaBgTbO1uo+AAAgAElEQVSj9K+QKoDwHBD/Gs6KEUAAAQR8FWC/pu8cAURvaFaBgTaj9K8QT0L3r2esGAEEEEAgkgLs1/RtJ4DoDc0qMNBmlP4VIoD41zNWjAACCCAQSQH2a/q2E0D0hmYVGGgzSv8KEUD86xkrRgABBBCIpAD7NX3bCSB6Q7MKDLQZpX+FCCD+9YwVI4AAAghEUoD9mr7tBBC9oVkFBtqM0r9CBBD/esaKEUAAAQQiKcB+Td92Aoje0KwCA21G6V8h7oLlX89YMQIIIIBAJAXYr+nbTgDRG5pVYKDNKP0rRADxr2esGAEEEEAgkgLs1/RtJ4DoDc0qMNBmlP4VIoD41zNWjAACCCAQSQH2a/q2E0D0hmYVGGgzSv8KEUD86xkrRgABBBCIpAD7NX3bCSB6Q7MKDLQZpX+FCCD+9YwVI4AAAghEUoD9mr7tXgSQrKwsefTRR2Xy5Mmybds2qV27tvTr108GDRokxYoVK1RhzZo1kpmZKYsWLQqObdeunYwfP16aNGly2ntjOTb/m9u3by9vvPGG9OzZU2bMmFHomgo6gIGOiy013kQASY0+chYIIIAAAikvwH5N32IvAsiAAQPkySeflL59+0qbNm1k8eLFMnXqVHF/f+KJJ86qsGHDBmnZsqVUrlxZ7r///uDYxx9/XPbu3SvLli2TBg0a5L0/lmPzf+j06dPl3nvvlYMHDxJA9DMZzQqqAFJJ5MRxkQ5DRdpnxuWXPi09eN/q3qvjej9vQgABBBBAICoCBBB9p0MfQFavXi3NmjULwsOECRPyznjgwIEyceJEWblypaSnZ2+eCnp1795d5s+fL2vXrg2unLiXu4rSuHFj6dy5s8yePTvvbbEcm/smF2Quu+wyefDBB+WRRx4hgOhnMpoVTALIMJH2g+LyI4DExcabEEAAAQQiKEAA0Tc99AFk6NChMmbMGNm8ebPUrVs374y3bNki9erVE/fvo0aNKlDiwIEDUqVKFenRo4dMmzbtpGN69+4ts2bNkj179kiZMmUklmPzF7rvvvtk4cKF4r66VbJkSQKIfiajWcEkgHAFJJrDw1kjgAACCCRSgACi1w59AOnUqVNwlWPnzp2nnW316tWlefPmwRWOgl5Lly4NvrLlvr51zz33nHSI+5v7Cpc7pnXr1sF/F/XY3EJuAN3Xu1566SW54YYbJC0tjQCin8loVlAFkMoiJ7L4ClY0J4ezRgABBBBIsAABRA8e+gDivl5VokQJWb58+Wln26JFCzl69Ki4r2kV9Jo7d664r1XNmzdPunTpctIh7m9du3aVOXPmSLdu3SSWY12h48ePB4GlWrVqQX33iiWA7NixQ9x/8r/c18QyMjKCc3XnxitCAgSQCDWbU0UAAQQQ8FmAAKLvXugDSP369cVd6ViyZMlpZ+sCwK5du2Tjxo0FSrgfh/fq1UsWLFggHTt2POkY97Upd3XFHeM2/bEc6wo9/fTT8sADD8j7778vbo2xBpARI0bIyJEjC1w3AUQ/2N5VIIB41zIWjAACCCAQTQECiL7voQ8gYbwCsnv3bmnUqFHwFa6f//zneV3gCoh+ICNbgQAS2dZz4ggggAACfgkQQPT9Cn0ACeNvQNwduNyzPv71r39J6dKl87rgfiR/0003yWOPPRbc9rd8+fIxdYiBjokrtQ7ODSAD3hKpdlls5zaS34DEBsbRCCCAAAIIxC/Afi1+u9x3hj6ADBkyRMaOHXvGu2C5fx89enSBEoXd2WrmzJnBXbDKli1b6F2w8h/rQsaLL754Vn334MQf//jHMXWIgY6JK7UOJoCkVj85GwQQQACBlBVgv6ZvbegDiLsDlrvT1ZmeA7JixQpp2rRp8GP0TZs2SYUKFaRGjRp5Mu4H5u43IOvWrZNatWoFf899Doi7uuJ+fJ77Kuqxb7311mk/IHc1br75ZnFPRHfPBHFPWb/00ktj6hADHRNXah3MV7BSq5+cDQIIIIBAygqwX9O3NvQBxJ2iu4XupEmTgieht23bNngS+pQpU6R///7y1FNPBQpbt24NnhPinu/hnpKe+1q/fr20atUqeB6I+9G4e7knobsrH+5J6O63HPEcWxB9LL8BKej9DLR+oL2tQADxtnUsHAEEEEAgWgLs1/T99iKAHDt2TMaPHy+TJ0+W7du3S82aNaVfv36SmZkpxYsXP2sAcf+4atUqGTx4sCxatCg4tl27djJu3Ljgysmpr1iOPfW9BBD9QEa2AgEksq3nxBFAAAEE/BIggOj75UUA0Z+mHxUYaD/6dE5WSQA5J6wURQABBBBAwFqA/ZpelACiNzSrwECbUfpXiADiX89YMQIIIIBAJAXYr+nbTgDRG5pVYKDNKP0rpAoglUROHBfpMFSkfWZc554+LT143+req+N6P29CAAEEEEAgKgLs1/SdJoDoDc0qMNBmlP4VMgkgw0TaD4rr3AkgcbHxJgQQQACBCAqwX9M3nQCiNzSrwECbUfpXyCSAcAXEv8azYgQQQAAB3wTYr+k7RgDRG5pVYKDNKP0rpAogPAndv4azYgQQQAABXwXYr+k7RwDRG5pVYKDNKP0rRADxr2esGAEEEEAgkgLs1/RtJ4DoDc0qMNBmlP4VIoD41zNWjAACCCAQSQH2a/q2E0D0hmYVGGgzSv8KEUD86xkrRgABBBCIpAD7NX3bCSB6Q7MKDLQZpX+FCCD+9YwVI4AAAghEUoD9mr7tBBC9oVkFBtqM0r9CBBD/esaKEUAAAQQiKcB+Td92Aoje0KwCA21G6V+hvADytkjVhrGtfyR3wYoNjKMRQAABBBCIX4D9Wvx2ue8kgOgNzSow0GaU/hUigPjXM1aMAAIIIBBJAfZr+rYTQPSGZhUYaDNK/wrxFSz/esaKEUAAAQQiKcB+Td92Aoje0KwCA21G6V8hAoh/PWPFCCCAAAKRFGC/pm87AURvaFaBgTaj9K8QAcS/nrFiBBBAAIFICrBf07edAKI3NKvAQJtR+leIAOJfz1gxAggggEAkBdiv6dtOANEbmlVgoM0o/SukCiCVRE4cF+kwVKR9Zlznnj4tPXjf6t6r43o/b0IAAQQQQCAqAuzX9J0mgOgNzSow0GaU/hUyCSDDRNoPiuvcCSBxsfEmBBBAAIEICrBf0zedAKI3NKvAQJtR+lfIJIBwBcS/xrNiBBBAAAHfBNiv6TtGANEbmlVgoM0o/SukCiA8iNC/hrNiBBBAAAFfBdiv6TtHANEbmlVgoM0o/StEAPGvZ6wYAQQQQCCSAuzX9G0ngOgNzSow0GaU/hUigPjXM1aMAAIIIBBJAfZr+rYTQPSGZhUYaDNK/woRQPzrGStGAAEEEIikAPs1fdsJIHpDswoMtBmlf4UIIP71jBUjgAACCERSgP2avu0EEL2hWQUG2ozSv0J5AeRtkaoNY1v/SH6EHhsYRyOAAAIIIBC/APu1+O1y30kA0RuaVWCgzSj9K0QA8a9nrBgBBBBAIJIC7Nf0bSeA6A3NKjDQZpT+FSKA+NczVowAAgggEEkB9mv6thNA9IZmFRhoM0r/ChFA/OsZK0YAAQQQiKQA+zV92wkgekOzCgy0GaV/hQgg/vWMFSOAAAIIRFKA/Zq+7QQQvaFZBQbajNK/QgQQ/3rGihFAAAEEIinAfk3fdgKI3tCsAgNtRulfIdVteCuJnDgu0mGoSPvMuM49fVp68L7VvVfH9X7ehAACCCCAQFQE2K/pO00A0RuaVWCgzSj9K2QSQIaJtB8U17kTQOJi400IIIAAAhEUYL+mbzoBRG9oVoGBNqP0rxABxL+esWIEEEAAgUgKsF/Tt50Aojc0q8BAm1H6V8gkgPAVLP8az4oRQAABBHwTYL+m7xgBRG9oVoGBNqP0r5AqgPAkdP8azooRQAABBHwVYL+m7xwBRG9oVoGBNqP0rxABxL+esWIEEEAAgUgKsF/Tt50Aojc0q8BAm1H6V4gA4l/PWDECCCCAQCQF2K/p204A0RuaVWCgzSj9K0QA8a9nrBgBBBBAIJIC7Nf0bSeA6A3NKjDQZpT+FSKA+NczVowAAgggEEkB9mv6thNA9IZmFRhoM0r/CvEkdP96xooRQAABBCIpwH5N33YCiN7QrAIDbUbpXyECiH89Y8UIIIAAApEUYL+mbzsBRG9oVoGBNqP0r1BOADnwvaVStublsa1/JLfhjQ2MoxFAAAEEEIhfgP1a/Ha57ySA6A3NKjDQZpT+FcoJIPvvXirlahNA/GsgK0YAAQQQiIoA+zV9pwkgekOzCgy0GaV/hQgg/vWMFSOAAAIIRFKA/Zq+7QQQvaFZBQbajNK/QgQQ/3rGihFAAAEEIinAfk3fdgKI3tCsAgNtRulfIVUAqSRy4rhIh6Ei7TPjOvf0aenB+1b3Xh3X+3kTAggggAACURFgv6bvNAFEb2hWgYE2o/SvkEkAGSbSflBc504AiYuNNyGAAAIIRFCA/Zq+6QQQvaFZBQbajNK/QnkBZImUq31FbOsfmXsFhAASGxxHI4AAAgggELsA+7XYzU59BwFEb2hWgYE2o/SvkEkA4StY/jWeFSOAAAII+CbAfk3fMQKI3tCsAgNtRulfIVUA4Tkg/jWcFSOAAAII+CrAfk3fOQKI3tCsAgNtRulfIQKIfz1jxQgggAACkRRgv6ZvOwFEb2hWgYE2o/SvEAHEv56xYgQQQACBSAqwX9O3nQCiNzSrwECbUfpXiADiX89YMQIIIIBAJAXYr+nbTgDRG5pVYKDNKP0rpLoNL78B8a/hrBgBBBBAwFcB9mv6zhFA9IZmFRhoM0r/CikCyImRlSXtRJYcueZhKfH1R+I6d54DEhcbb0IAAQQQiKAA+zV90wkgekOzCgy0GaV/hRQB5OjwynJ+WpasafgDaXLHmLjOnQASFxtvQgABBBCIoAD7NX3TQx9AsrKy5NFHH5XJkyfLtm3bpHbt2tKvXz8ZNGiQFCtWrFCBNWvWSGZmpixatCg4tl27djJ+/Hhp0qTJae8t6rHu/fPmzZMPPvhAPvvsM7nooovk6quvlp/85CeSnp5e6JrOdAADHTed/28kgPjfQ84AAQQQQCASAuzX9G0OfQAZMGCAPPnkk9K3b19p06aNLF68WKZOnSru70888cRZBTZs2CAtW7aUypUry/333x8c+/jjj8vevXtl2bJl0qBBg7z3x3LsrbfeKhUqVJDGjRtLpUqV5MMPP5QpU6bIjh075PXXX5fWrVvH1RkGOi621HgTASQ1+shZIIAAAgikvAD7NX2LQx1AVq9eLc2aNQvCw4QJE/LOduDAgTJx4kRZuXLlWa84dO/eXebPny9r164Nrpy4l7uK4oJD586dZfbs2Xk1Yzm2IPadO3cGn+HqPPfcc3F1hoGOiy013kQASY0+chYIIIAAAikvwH5N3+JQB5ChQ4fKmDFjZPPmzVK3bt28s92yZYvUq1dP3L+PGjWqQIUDBw5IlSpVpEePHjJt2rSTjundu7fMmjVL9uzZI2XKlJFYjj0T+fHjx6VixYrStm1b+etf/xpXZxjouNhS400mAWSANLljbFwe/AYkLjbehAACCCAQQQH2a/qmhzqAdOrUKbjK4a4unPqqXr26NG/ePLjCUdBr6dKlwVe23Ne37rnnnpMOcX9zX+Fyx7ivS8VybP5Cu3fvFhc8PvroI3nsscfkmWeeCf77wQcfjKszDHRcbKnxJgJIavSRs0AAAQQQSHkB9mv6Foc6gLgfdJcoUUKWL19+2pm2aNFCjh49Ku5rWgW95s6dG3wdyv1YvEuXLicd4v7WtWtXmTNnjnTr1k1iOTZ/obS0tLz/s1y5csFXxX72s58V6cfx7vci7j/5X+6rYhkZGcH5uvPjFSEBkwDCXbAiNDGcKgIIIIBAkgQIIHr4UAeQ+vXri7vSsWTJktPO1F3d2LVrl2zcuLFAhenTp0uvXr1kwYIF0rFjx5OOWbhwobirK+4Yt+GP5dj8hV599VU5duxYsAZX42tf+5r84he/kAsuuKDQzowYMUJGjhxZ4HEEkEL5Uu8AAkjq9ZQzQgABBBBISQECiL6toQ4gYb8Ckp/f3Y7Xrffaa6+VGTNmFNoZroAUShStAwgg0eo3Z4sAAggg4K0AAUTfulAHkLD/BuRU/nvvvVeefvppOXjwYJGugpz6fgZaP9DeVjAJIPwI3dv+s3AEEEAAAW8E2K/pWxXqADJkyBAZO3bsGe+C5f599OjRBSoUdmermTNnBnfBKlu2bKF3wcp/7NnI+/TpE9xx6+OPP5Zq1arF3B0GOmay1HlDXgBZIuVqXxHTeR0ZXllKBE9CJ4DEBMfBCCCAAAIIxCHAfi0OtFPeEuoA4u6A5e50dabngKxYsUKaNm0a/Bh906ZNwcMBa9SokXeK7gfm7jcg69atk1q1agV/z30OiLu64n58nvsq6rHu6oZ7udv35n+5uldeeaWUL19e3G2C43kx0PGopch7CCAp0khOAwEEEEAg1QXYr+k7HOoA4k7P3UJ30qRJwZPQ3TM23JPQ3VPH+/fvL0899VQgsHXr1uA5Ie75Hu4p6bmv9evXS6tWrYLngTzwwAPBn92T0N2VD/ck9EaNGsV8rAs9119/vbinobv3uyso7nPcmvbv3y8vvPCC3HjjjXF1hoGOiy013qT4ChZXQFJjBDgLBBBAAAE/BNiv6fsU+gDi7jI1fvx4mTx5smzfvl1q1qwp/fr1k8zMTClevPhZA4j7x1WrVsngwYNl0aJFwbHt2rWTcePGBVdOTn0V5Vj37I+f/vSn8sYbbwRXUw4dOhTcqcvVHTRokFx11VVxd4WBjpvO/zcSQPzvIWeAAAIIIBAJAfZr+jaHPoDoT9GfCgy0P70yXykBxJyUgggggAACCJwLAfZrelUCiN7QrAIDbUbpXyGDAPJ+g3vlip6/iOvc06elB+9b3bvgB3vGVZQ3IYAAAgggkIIC7Nf0TSWA6A3NKjDQZpT+FVIEkC+GV5GSacck3gBy4sQJafpM9lcSCSD+jQ4rRgABBBBIrAD7Nb03AURvaFaBgTaj9K9QMgJI1lGRz7bJiUp1CSD+TQwrRgABBBBIkgD7NT08AURvaFaBgTaj9K9QMgLIc7eLrH9FTvRfJE0X3sEVEP+mhhUjgAACCCRBgP2aHp0Aojc0q8BAm1H6V0gRQHJvwxvzV7ByPvPEzU9L0xWjCCD+TQ0rRgABBBBIggD7NT06AURvaFaBgTaj9K8QAcS/nrFiBBBAAIFICrBf07edAKI3NKvAQJtR+ldIEUDi/hE6V0D8mxNWjAACCCCQdAH2a/oWEED0hmYVGGgzSv8KEUD86xkrRgABBBCIpAD7NX3bCSB6Q7MKDLQZpX+FkhhAjt/8tDTjNyD+zQwrRgABBBBIigD7NT07AURvaFaBgTaj9K9QEgLIoZEV5XBamlTqOkmarfh5YMZzQPwbHVaMAAIIIJBYAfZrem8CiN7QrAIDbUbpX6EkBJDmU5vIsbQ0WXnlTwgg/k0MK0YAAQQQSJIA+zU9PAFEb2hWgYE2o/SvkEkAuUeu6DmuyOeePi09OJYAUmQyDkQAAQQQQEDYr+mHgACiNzSrwECbUfpXSBVALpSSaUfl/QYEEP8az4oRQAABBHwTYL+m7xgBRG9oVoGBNqP0rxABxL+esWIEEEAAgUgKsF/Tt50Aojc0q8BAm1H6V4gA4l/PWDECCCCAQCQF2K/p204A0RuaVWCgzSj9K5TEALLiymFyJbfh9W9mWDECCCCAQFIE2K/p2QkgekOzCgy0GaV/hZIZQJr/RK58j9vw+jc0rBgBBBBAIBkC7Nf06gQQvaFZBQbajNK/QooA8vnwC+UCxY/QuQLi37iwYgQQQACB5AmwX9PbE0D0hmYVGGgzSv8KGQSQfze4Ry6P4za8BBD/xoUVI4AAAggkT4D9mt6eAKI3NKvAQJtR+ldIEUC+GJ59G964AwhfwfJvXlgxAggggEDSBNiv6ekJIHpDswoMtBmlf4UMAki8zwFZQQDxb15YMQIIIIBA0gTYr+npCSB6Q7MKDLQZpX+FCCD+9YwVI4AAAghEUoD9mr7tBBC9oVkFBtqM0r9CBgGEr2D513ZWjAACCCDgnwD7NX3PCCB6Q7MKDLQZpX+FFAEk9y5YBBD/2s6KEUAAAQT8E2C/pu8ZAURvaFaBgTaj9K+QQQDhNyD+tZ0VI4AAAgj4J8B+Td8zAoje0KwCA21G6V+hJAaQ95r/RJrzIEL/ZoYVI4AAAggkRYD9mp6dAKI3NKvAQJtR+lfIIIDE+xUsAoh/48KKEUAAAQSSJ8B+TW9PANEbmlVgoM0o/StkEkD6y+U9xxf53NOnpQfHEkCKTMaBCCCAAAIICPs1/RAQQPSGZhUYaDNK/wopAsjh4VWlVNoR+XcDAoh/jWfFCCCAAAK+CbBf03eMAKI3NKvAQJtR+leIAOJfz1gxAggggEAkBdiv6dtOANEbmlVgoM0o/SuUE0D23b1Uyte+PKb1a6+AvNt8mLR4b1Twmat7r47pszkYAQQQQACBqAmwX9N3nACiNzSrwECbUfpXKC+ALJHyta+Iaf3qAHLlMGmxggASEzoHI4AAAghEVoD9mr71BBC9oVkFBtqM0r9CSfwK1rsEEP/mhRUjgAACCCRNgP2anp4Aojc0q8BAm1H6V8gigFz6fbk849Ein3vuXbCWXzlUrloxOngfX8EqMh8HIoAAAghEVID9mr7xBBC9oVkFBtqM0r9CSQwg71w5VL5KAPFvZlgxAggggEBSBNiv6dkJIHpDswoMtBmlf4UsAkict+F9+8oh0nLFGK6A+Dc1rBgBBBBAIAkC7Nf06AQQvaFZBQbajNK/QkkMIMuaD5FW7xFA/BsaVowAAgggkAwB9mt6dQKI3tCsAgNtRulfIQKIfz1jxQgggAACkRRgv6ZvOwFEb2hWgYE2o/SvkEUAifNH6G9dOUSu5itY/s0MK0YAAQQQSIoA+zU9OwFEb2hWgYE2o/SvkCKAHBpeTUqnfSH/JoD413dWjAACCCDgnQD7NX3LCCB6Q7MKDLQZpX+FFE9C1weQR+TqFWMDM27D69/osGIEEEAAgcQKsF/TexNA9IZmFRhoM0r/ChFA/OsZK0YAAQQQiKQA+zV92wkgekOzCgy0GaV/hQy+grW2wfelcc/YH0T45pWPSGuugPg3M6wYAQQQQCApAuzX9OwEEL2hWQUG2ozSv0IGASTe34C8eeUQac2P0P2bGVaMAAIIIJAUAfZrenYCiN7QrAIDbUbpXyGDALL20u9J44z/K/K5p09LD47922WD5Jvrsq+c8BuQIvNxIAIIIIBARAXYr+kbTwDRG5pVYKDNKP0rpAggB4dXkzJpX0i8AeQvDX4k397wKwKIf1PDihFAAAEEkiDAfk2PTgDRG5pVYKDNKP0rlMwA0vAh+fYHvySA+Dc1rBgBBBBAIAkC7Nf06AQQvaFZBQbajNK/QkkMIC83fEhuJID4NzOsGAEEEEAgKQLs1/TsBBC9oVkFBtqM0r9CigCS+xyQeL+CRQDxb1xYMQIIIIBA8gTYr+ntCSB6Q7MKDLQZpX+FkhpAfiQ3fsBvQPwbGlaMAAIIIJAMAfZrenUCiN7QrAIDbUbpX6G8BxEukfK1r4hp/V/+CP370jgj9ueAvNyQABITOAcjgAACCERagP2avv0EEL2hWQUG2ozSv0IEEP96xooRQAABBCIpwH5N33YCiN7QrAIDbUbpXyHFV7C4AuJfu1kxAggggIC/AuzX9L0jgOgNzSow0GaU/hUyCSDxPYjwpYYPSRfuguXfzLBiBBBAAIGkCLBf07MTQPSGZhUYaDNK/wolMYDMa/BD+c6GxwIznoTu3+iwYgQQQACBxAqwX9N7E0D0hmYVGGgzSv8KmQSQftI4I/uBgkV5pU9LDw4jgBRFi2MQQAABBBDIFmC/pp+E0AeQrKwsefTRR2Xy5Mmybds2qV27tvTr108GDRokxYoVK1RgzZo1kpmZKYsWLQqObdeunYwfP16aNGly2nuLcuyhQ4fkmWeekXnz5smqVavkk08+kTp16siNN94oQ4YMkYoVKxa6pjMdwEDHTef/GxUB5MDw6lI27XNZe2mcAaThD+U7H3AFxP8h4gwQQAABBBIhwH5Nrxz6ADJgwAB58sknpW/fvtKmTRtZvHixTJ06Vdzfn3jiibMKbNiwQVq2bCmVK1eW+++/Pzj28ccfl71798qyZcukQYMGee8v6rEupDRt2lSuueYa6dSpk1SrVk2WL18eBCQXRNz/Ll++fFydYaDjYkuNN+UFkCVSLsbb8BJAUmMEOAsEEEAAAT8E2K/p+xTqALJ69Wpp1qxZEB4mTJiQd7YDBw6UiRMnysqVKyU9PftrJAW9unfvLvPnz5e1a9cGV07cy11Fady4sXTu3Flmz56d97aiHrt792756KOPghCS//WHP/xB7r77bvnlL38pP/rRj+LqDAMdF1tqvMkggKy79HtyWcb/Fdkj9ytYLzb8oXTlCkiR3TgQAQQQQCDaAuzX9P0PdQAZOnSojBkzRjZv3ix169bNO9stW7ZIvXr1xP37qFGjClQ4cOCAVKlSRXr06CHTpk076ZjevXvLrFmzZM+ePVKmTBmJ5dgzke/fvz+48uFCiLsaEs+LgY5HLUXeQwBJkUZyGggggAACqS7Afk3f4VAHEPcVJ3eVY+fOnaedafXq1aV58+bBFY6CXkuXLg2+suW+vnXPPfecdIj7m/sKlzumdevWwX8X9dgzka9fv14uu+wyefjhh2Xs2LFxdYaBjostNd6U9yDCxVK+9um/TzrbSeZ+BWvdpf3ksjh+hP7nhg/KTR/8OvgI7oKVGuPEWSCAAAIInDsB9mt621AHEPf1qhIlSgS/qzj11aJFCzl69Ki4r2kV9Jo7d664r1W5H4t36dLlpEPc37p27Spz5syRbt26SSzHnom8V9WTLbcAACAASURBVK9eMmPGDHnvvfeCr40V9tqxY4e4/+R/ua+KZWRkBOfrzo9XhARyA8hdi6T8xWf+WmFBIvuHXyTl0g4LASRC88KpIoAAAggkTYAAoqcPdQCpX7++uCsdS5YsOe1M3RWLXbt2ycaNGwtUmD59urhQsGDBAunYseNJxyxcuDD4Abk7xm34Yzm2oA97+umnpX///vLggw/KY49l302osNeIESNk5MiRBR5GAClMLwX/nQCSgk3llBBAAAEEUlGAAKLvaqgDiA9XQP785z8HV1q+9a1vifvfxYsXL1JXuAJSJKboHKQIIHl3wap/tzS+81dFNsv9EfoLDX8oN/Mj9CK7cSACCCCAQLQFCCD6/oc6gIT9NyDuSsp3vvMdufrqq4PfopQqVUrVEQZaxef3my0CSJzPASGA+D06rB4BBBBAILEC7Nf03qEOIO7Bfu4H3We6C5b799GjRxeoUNidrWbOnBncBats2bKF3gUr/7G5H/bPf/4zuJXvFVdcIa+99lrcz/7Iv3gGWj/Q3lbICyD/kvIXn3yL58LOSfsckD81+KHcsoEHERbmzL8jgAACCCDgBNiv6ecg1AHE3QHL3enqTM8BWbFiRfA8Dvdj9E2bNkmFChWkRo0aeSruB+buNyDr1q2TWrVqBX/PfQ6Iu7rifnye+4rl2Lfeeku+8Y1vBA8edEHEPejQ4sVAWyh6WsMggMT7I/Q/NXhQbtnAXbA8nRyWjQACCCCQYAH2a3rwUAcQd3ruFrqTJk0KnoTetm3b4EnoU6ZMCX70/dRTTwUCW7duDZ4T4p7v4Z6Snvtyt8Zt1apV8DyQBx54IPizexK6u/LhnoTeqFGjmI/9z3/+E4Qi99wPd3XmoosuOqkL7kfz3/zmN+PqDAMdF1tqvEkRQLR3wZp96UC5dWP2gz65DW9qjBNngQACCCBw7gTYr+ltQx9Ajh07JuPHjw8e7rd9+3apWbOm9OvXTzIzM/N+8H2mAOJ4Vq1aJYMHD5ZFixYFWu3atZNx48ad9iTzoh77+uuvS4cOHc4o3759e3HHxPNioONRS5H3JDOANBgot24ggKTIJHEaCCCAAALnWID9mh449AFEf4r+VGCg/emV+UoJIOakFEQAAQQQQOBcCLBf06sSQPSGZhUYaDNK/wrlBJDP+v5LKlwS24/Q1V/B4gqIf/PCihFAAAEEkibAfk1PTwDRG5pVYKDNKP0rZBJA7pbLMmJ/DshsAoh/88KKEUAAAQSSJsB+TU9PANEbmlVgoM0o/SukCCD7hl8k5dMOy7r6d8tlcTyI8PkGD8h3NzwemPEjdP9GhxUjgAACCCRWgP2a3psAojc0q8BAm1H6Vyg3gPR5QyrUaRbT+vUBZKB8lx+hx2TOwQgggAAC0RVgv6bvPQFEb2hWgYE2o/SvkEUAuTS+r2DNajBQbiOA+DczrBgBBBBAICkC7Nf07AQQvaFZBQbajNK/QkkMIDMvfUB6bOQrWP4NDStGAAEEEEiGAPs1vToBRG9oVoGBNqP0r1ASA8hzlz4gtxNA/JsZVowAAgggkBQB9mt6dgKI3tCsAgNtRulfobwA8k+pUOfKmNaf+xuQ9fXvkkZ3Plbk96ZPSw+OJYAUmYwDEUAAAQQQEPZr+iEggOgNzSow0GaU/hUigPjXM1aMAAIIIBBJAfZr+rYTQPSGZhUYaDNK/woZBJB1cf4I/bn698ntm34TmHEbXv9GhxUjgAACCCRWgP2a3psAojc0q8BAm1H6V4gA4l/PWDECCCCAQCQF2K/p204A0RuaVWCgzSj9K5QbQHq/LhXqNo9p/XnPAYnzCsgfL71f7tg4kSsgMalzMAIIIIBAVAXYr+k7TwDRG5pVYKDNKP0rZBBA4v0R+h8bPCB38CR0/2aGFSOAAAIIJEWA/ZqenQCiNzSrwECbUfpXSPUVrBpSPu2QxBtAZlx6n2Rs5Dcg/g0NK0YAAQQQSIYA+zW9OgFEb2hWgYE2o/SvEAHEv56xYgQQQACBSAqwX9O3nQCiNzSrwECbUfpXSPUVLK6A+NdwVowAAggg4KsA+zV95wggekOzCgy0GaV/hZIYQKbUHSB9t/w2MOM2vP6NDitGAAEEEEisAPs1vTcBRG9oVoGBNqP0r1ASA8j4C/tJ5u7JBJCQT82D/3hQLix1oQxrPSzkK2V5CCCAQGoLsF/T95cAojc0q8BAm1H6V8gkgPSVRnf+usjnnj4tPTh23IV3y+DdvyeAFFkuOQfm9ourVMnx51MRQACBXAH2a/pZIIDoDc0qMNBmlP4Vygsg/5AKdVvEtP7PhteQCsFdsOINIHfJ4N1/IIDEpJ74gwkgiTfnExFAAIGCBNiv6eeCAKI3NKvAQJtR+lcoJ4Ds7fV3qVjvqpjWrw0gv6hylzy8hwASE3oSDiaAJAGdj0QAAQQKEGC/ph8LAoje0KwCA21G6V8hAoh/PUvwigkgCQbn4xBAAIEzCLBf048GAURvaFaBgTaj9K+QIoDsG557G974voI1pspdMoQrIKGfGQJI6FvEAhFAICIC7Nf0jSaA6A3NKjDQZpT+FcoLIK9JxXpfjWn96gBS+S4Z8glfwYoJPQkHE0CSgM5HIoAAAgUIsF/TjwUBRG9oVoGBNqP0r5AigGh/AzKmch8Z8snUwIw7LIV3dAgg4e0NK0MAgWgJsF/T95sAojc0q8BAm1H6VyiJAeTnlfvKTz6ZQgAJ+dQQQELeIJaHAAKREWC/pm81AURvaFaBgTaj9K9QMgNIpT7yk0+5AhL2oSGAhL1DrA8BBKIiwH5N32kCiN7QrAIDbUbpX6HcAHLna1Kxfmy/AdF+BetnlfrITwkgoZ8ZAkjoW8QCEUAgIgLs1/SNJoDoDc0qMNBmlP4VSmIAGVmxjwzfyxWQsA8NASTsHWJ9CCAQFQH2a/pOE0D0hmYVGGgzSv8KGQSQD+r3lYZ3/rrI5567oR1RsbeM2DsteB8/Qi8yX8IPJIAknJwPRAABBAoUYL+mHwwCiN7QrAIDbUbpX6GcAPLpna9JpRi/grV3+FekYtpBIYD41/ZYVkwAiUWLYxFAAIFzJ8B+TW9LANEbmlVgoM0o/SuUF0BelUr1W8a0fm0A+WmFXvKzz57hCkhM6ok/mACSeHM+EQEEEChIgP2afi4IIHpDswoMtBmlf4UMAsj6+vE9CZ0A4se4EED86BOrRACB1Bdgv6bvMQFEb2hWgYE2o/SvUFIDSG/52Wf8BiTsQ0MACXuHWB8CCERFgP2avtMEEL2hWQUG2ozSv0IGAeSDen2kYa8JRT733A3tsAq9ZBRfwSqyW7IOJIAkS57PRQABBE4WYL+mnwgCiN7QrAIDbUbpX6HcAJLxN6l0aauY1v/p8JpSKe2AxBtAhpa/U0bvmx58JnfBiok+oQcTQBLKzYchgAACZxRgv6YfDgKI3tCsAgNtRulfoSQGkCHlM2TMvhkEkJBPDQEk5A1ieQggEBkB9mv6VhNA9IZmFRhoM0r/CikCSN5dsOL8CtYj5TJk7H4CSNiHhgAS9g6xPgQQiIoA+zV9pwkgekOzCgy0GaV/hSwCSJwPIny4XIb8ggAS+pkhgIS+RSwQAQQiIsB+Td9oAoje0KwCA21G6V+h3CehZyyUipdeHdP6tc8BIYDExJ20gwkgSaPngxFAAIGTBNiv6QeCAKI3NKvAQJtR+lco9wpIz4VSqUGcASTOr2Blls2Q8Qf4ClbYh4YAEvYOsT4EEIiKAPs1facJIHpDswoMtBmlf4UUAUR7F6zMsj1l/IFnAzPughXe0SGAhLc3rAwBBKIlwH5N328CiN7QrAIDbUbpXyECiH89S/CKCSAJBufjEEAAgTMIsF/TjwYBRG9oVoGBNqP0r1BOAPmk53yp3OBrMa1fewXkx2V7yv9xBSQm82QcTABJhjqfiQACCJwuwH5NPxUEEL2hWQUG2ozSv0JJDSB3yP8d+GNgxlewwjs6BJDw9oaVIYBAtATYr+n7TQDRG5pVYKDNKP0rlBtA7pgvlRvGewWktzTs9XiRzz13Q/tQmdvllwefI4AUWS45BxJAkuPOpyKAAAKnCrBf088EAURvaFaBgTaj9K+QIoB8MrymVE47IB/Uiy+A/KjM7fIrAkjoZ4YAEvoWsUAEEIiIAPs1faMJIHpDswoMtBmlf4VyAsie2/8qVRq1iWn92gDyYOke8utDM7kCEpN64g8mgCTenE9EAAEEChJgv6afCwKI3tCsAgNtRulfIQKIfz1L8IoJIAkG5+MQQACBMwiwX9OPBgFEb2hWgYE2o/SvUBIDyMDSPWQCV0BCPzMEkNC3iAUigEBEBNiv6RtNANEbmlVgoM0o/SuUzABS6jaZcHhWYMZdsMI7OgSQ8PaGlSGAQLQE2K/p+00A0RuaVWCgzSj9K5QbQHq8IlUuaxvT+r/8DUgvadhrYpHfm7uhvf+C78rEz58ngBRZLjkHEkCS486nIoAAAqcKsF/TzwQBRG9oVoGBNqP0r1BOANnd4xW5MMEB5L6St8pvvphNAAn51BBAQt4glocAApERYL+mbzUBRG9oVoGBNqP0r5BJAInvNrw/KHmrPEEACf3MEEBC3yIWiAACERFgv6ZvNAFEb2hWgYE2o/SvUE4A+d9tr0jVxvF+BSvOAFKiuzxxZA5XQEI+NQSQkDeI5SGAQGQE2K/pW00A0RuaVWCgzSj9K5QXQP4iVRu3i2n9ub8BWV+vtzSK40no95boJk8emUsAiUk98QcTQBJvzicigAACBQmwX9PPRegDSFZWljz66KMyefJk2bZtm9SuXVv69esngwYNkmLFihUqsGbNGsnMzJRFixYFx7Zr107Gjx8vTZo0Oe29RT124cKFMmfOHFm+fLmsXr1ajh49Klu2bJE6deoUup6zHcBAq/j8frNBAPmgbi9p2Dv2H6ETQPwYHQKIH31ilQggkPoC7Nf0PQ59ABkwYIA8+eST0rdvX2nTpo0sXrxYpk6dKu7vTzzxxFkFNmzYIC1btpTKlSvL/fffHxz7+OOPy969e2XZsmXSoEGDvPfHcmyfPn3kueeek/T0dPniiy/EBRcCiH4YI10hJ4Dsuu0vUi3GKyB7hteSKmn7ZX3dXtIojgDS//xbZNLRP3EFJOQDSAAJeYNYHgIIREaAAKJvdagDiLu60KxZsyA8TJgwIe9sBw4cKBMnTpSVK1cGIeBMr+7du8v8+fNl7dq1wZUT93JXURo3biydO3eW2bOz7/zjXrEcu337drnwwgulZMmSMmzYMBk9ejQBRD+L0a6QzABS/BaZdIwAEvYBJICEvUOsDwEEoiJAANF3OtQBZOjQoTJmzBjZvHmz1K1bN+9s3dWGevXqifv3UaNGFahw4MABqVKlivTo0UOmTZt20jG9e/eWWbNmyZ49e6RMmTISy7GnfhgBRD+EVBCR3ADy3Zek2uXXFk7yyWaRCheLFCsu2isg3y9+szx97IXgM3kQYeH0yTqCAJIseT4XAQQQOFmAAKKfiFAHkE6dOgVXOXbu3HnamVavXl2aN28eXOEo6LV06dLgK1vu61v33HPPSYe4v7mvcLljWrduHfx3UY8lgOiHjgoFCMQSQP77psgfOok07SFyyyR1APlesZvkd1l/JoCEfDAJICFvEMtDAIHICBBA9K0OdQBxX68qUaJE8GPvU18tWrQIfvztvqZV0Gvu3LnB16rmzZsnXbp0OekQ97euXbsGPyTv1q2bxHKsVQDZsWOHuP/kf7mvimVkZATn686PV4QEcgLIx7e+JNWvKOQKyIiKInIiG2fEZ3kB5IO6d0rD3r8pMlruhvbuYl3l91kvEkCKLJecAwkgyXHnUxFAAIFTBQgg+pkIdQCpX7++uCsdS5YsOe1M3RWLXbt2ycaNGwtUmD59uvTq1UsWLFggHTt2POkYdxcrd3XFHeM2/LEcaxVARowYISNHjixw7QQQ/WB7VyGmAFLhy9MzCCB3nddV/nCcABL2mSGAhL1DrA8BBKIiQADRdzrUAYQrIPoGU8ETgbwAMk+qX9H+7IvOOTb3Csju4bXlwrR9sr5uhjTqffY7w+UvnLuh7Xved2TK8XlcAQn5qBBAQt4glocAApERIIDoWx3qAMJvQPQNpoInAkkMIHed10X+cPwlAkjIRyU3gKzqtUrS0tJCvlqWhwACCKSuAAFE39tQB5AhQ4bI2LFjz3gXLPfv7ha4Bb0Ku7PVzJkzg7tglS1bttC7YOU/9tTP4i5Y+iGkwpd3wfr4VsUVkDoZ0qhP7FdA+qTdKFNPvEwACfkg5gaQlb1Wynlp54V8tSwPAQQQSF0BAoi+t6EOIO4OWO5OV2d6DsiKFSukadOmwY/RN23aJBUqVJAaNWrkqbgfmLvfgKxbt05q1aoV/D33OSDu6or78XnuK5Zj87MTQPRDSIUvA8jO7vPkoiaxfQUr7za8cQaQ3nKjTBMCSNjnkAAS9g6xPgQQiIoAAUTf6VAHEHd67ha6kyZNCp6E3rZt2+BJ6FOmTJH+/fvLU089FQhs3bo1eE6Ie76He0p67mv9+vXSqlWr4HkgDzzwQPBn9yR0d+XDPQm9UaNGcR27atWq4O5a7vXqq6/KP//5T3nooYekYsWKwX/uu+++uDrDQMfFlhpvyvkK1s5uL8pF6ded/ZxO+Q1IbgBZVydDLovjCkhv+bZMk78En8lzQMI5TidOnJCmzzQNFrfizhVS7Lxi4Vwoq0IAAQQiIMB+Td/k0AeQY8eOyfjx42Xy5MninkBes2ZN6devn2RmZkrx4sXPGkDcP7qwMHjwYFm0aFFwbLt27WTcuHHBlZNTX0U91oUcF4gKel1yySVBIIrnxUDHo5Yi71EEkNwfoccbQO6Ub8t0AkioByl/AHnvzvek+HnZ/28fLwQQQACBxAuwX9Obhz6A6E/RnwoMtD+9Ml9pXgD5s1yU3uHs5c9wF6y4A8iJG2R62ivBZ3IFxLyzJgWPnzguzZ5pFtR698535fzzzjepSxEEEEAAgdgF2K/FbnbqOwggekOzCgy0GaV/hZIYQDJOdJYZaX8lgIR4ak4KIBnvyvnFCCAhbhdLQwCBFBdgv6ZvMAFEb2hWgYE2o/SvUE4A2XHLC1Kj6fUJvQLS83hnefY8AkiYhybreJZcOf3KYInLM5ZLiWIlwrxc1oYAAgiktAD7NX17CSB6Q7MKDLQZpX+FLALIJRlyWd/Yb8PbM6uzPFuMABLmoTl05Ihc/dxVBJAwN4m1IYBAZATYr+lbTQDRG5pVYKDNKP0rlBNAPrrlBflKjFdA/je8tlRN2yfrLukpl/X9bZHPPfe2rrdnfUueKzY/eB8PuSsyX0IP3P/5F9Jm1leDz3wn4x0pWaxkQj+fD0MAAQQQ+FKA/Zp+GgggekOzCgy0GaV/hRIcQPLfVen2rE7yXLEFBJAQT82BLz6Xr81sGazw7Z5vywXFLwjxalkaAgggkNoC7Nf0/SWA6A3NKjDQZpT+FTIIIGsv6SmNi3gFJH8A6XGsk8wsTgAJ89DkDyDLei6TUsVLhXm5rA0BBBBIaQH2a/r2EkD0hmYVGGgzSv8K5QaQm/8kX2n29bOv/5Tb8OZ+BSuWAHL8+AlpNj37WTjfPdZRni++kCsgIZ6a/Z9/Lm1mZV8BeeuOt6T0+aVDvFqWhgACCKS2APs1fX8JIHpDswoMtBmlf4WSGUCOflOeP/9vBJAQT82+w59L2+cJICFuEUtDAIEICbBf0zebAKI3NKvAQJtR+lcoJ4Bsv/lPUjPOKyDrLrlDLuv7ZJHOPev4Cbky5wrIrUe+IbNLvBq8b2WvlXJe2nlFqsFBiRPYe/iQXPP81VwBSRw5n4QAAgicUYD9mn44CCB6Q7MKDLQZpX+F8gLIXKnZ7BtnX/9pX8G6WKqmfSZrL7lDGhcxgBzLOi7NZ2Q/Wbv7kW/IHAJIqGfmk0MHpf3s1sEa37zjTSlzfplQr5fFIYAAAqkswH5N310CiN7QrAIDbUbpX6GcUPHhTXOl1pWJDiBflzklXgvMuAISztHJH0CW3r5UypYoG86FsioEEEAgAgLs1/RNJoDoDc0qMNBmlP4VUgWQ7OeArL34Dml8V9G+gnU067i0yLkCcsOB6+SVsq8TQEI8NbsPHpAOc74WrHDJ7UukXIlyIV4tS0MAAQRSW4D9mr6/BBC9oVkFBtqM0r9CJgGkpzS+q2gPIswfQJpuu1pW1X6LABLiqdl9YL90mNsmWOHi2xdL+RLlQ7xaloYAAgiktgD7NX1/CSB6Q7MKDLQZpX+FcgNI19lSq3nHs6//DLfh/ffFPeXyIgaQI8eOy1XPZv8GpNm2VrKy9rLgf6+4c4UUO6+Yf34pvuJdB/bJ1+e2Dc5yUY9FUqFkhRQ/Y04PAQQQCK8A+zV9bwggekOzCgy0GaV/hRIcQL44liVfffbK7ADyYStZWessAeToYZHziosUO98/1xRZ8c79++SbfyKApEg7OQ0EEPBcgP2avoEEEL2hWQUG2ozSv0KKALJ7eG25MG2fxHIFJH8AafphS1lV6+0zXwFxaytbXeTHH/jnmiIr3rlvn3zzBQJIirST00AAAc8F2K/pG0gA0RuaVWCgzSj9K2QRQC7JkMv7PlGkc//8aJa0/GP2FZAbDrWXV0r/8+wBxP3riM+KVJuD7AV27PtMOr7QLij8r9v+JRUvqGj/IVREAAEEECiSAPu1IjGd9SACiN7QrAIDbUbpX6GcALLtO89L7Radzr7+U34DkncFJM4AcuOha+Xl0m8En/nene9Jcfd1q/yv3M8jgCRtrj7at1c6vXBN8Plv3PaGVLqgUtLWwgcjgAACURdgv6afAAKI3tCsAgNtRulfIUUA2TO8llRJ2y//jjOAfPvQtfIXAkioZ2b73k/lWy9eG6zxn7f9UypfUDm+9f5niUipSiLVGsf3ft6FAAIIICDs1/RDQADRG5pVYKDNKP0rlOAAcvhIlrR6LucrWAevkVfK/Csw4wpIOEfnw72fSuecAPL6d1+XKqWqxLdQrmbF58a7EEAAgXwC7Nf040AA0RuaVWCgzSj9K5SzMfxvl+fl4qti+wpWPFdA8geQ27Kul1nF/k4ACfHU/PfTPfLtedcFKySAhLhRLA0BBCIhwH5N32YCiN7QrAIDbUbpX6G8ADJLLr7qW2df/ym/AYkngBw6ckyufq558Dn3lfqW/ObwfAJIiKfmP5/ukRtzAsg/vvsPubDUhfGtlisg8bnxLgQQQIArIKYzQAAx5dQVI4Do/Lx+tyKAfDK8plROOxDTb0DOFEDevfNdOf+8U573waY16aO19dM90oUAkvQ+sAAEEEDACbBf088BAURvaFaBgTaj9K+QSQC5Uy7v+5sinfvBL45J65nZV0B+UKqTPHF4QfC/CSBF4kv4QVv27JbvvNwh+Ny/3/p3qVq6anxrIEzG58a7EEAAgXwC7Nf040AA0RuaVWCgzSj9K5SzMfzPjbPkkq/G9hWsL6+AFD2AHPjimHwtJ4AMKNVJfnsuAsjWxSIly4rUaOZfP0K24s17/iddX74+WNVrt74m1UpXi2+FBJD43HgXAgggQAAxnQECiCmnrhgBROfn9bvzAshMueSrnc9+Kqf8BkQdQC7oJL/9/BxcAcld55AdIiVKe92eZC9+0+5dctNfvh4s49Xur0r1MtXjWxIBJD433oUAAggQQExngABiyqkrRgDR+Xn97gQHkP2fH5U2s1oEZPde0FGe/Hxh8L9Nv4KVu9n91jiR1vd43Z5kL37D7o/llr98QxdATpwQGZnzBHUeKpnslvL5CCDgsQD7NX3zCCB6Q7MKDLQZpX+FcjbrW789U+q0jO0KyKfDa0qltAPyfp1eckWfiUU69zMGkIx35fxiRj9Czw0g3xgh0u6HRVoXBxUskD+A/K373+SiMhfFTnX8uMjPcp6gXkAA+ejAR5L5RqYMvXqoNK7CgwpjB+YdCCAQFQH2a/pOE0D0hmYVGGgzSv8KJTiA7Pv8qLTNuQJyzwXfkKc+fzX7CggBJJSz88H/dkq3V74ZrC3+AJIl8rOcJ6gXEEBGLBkhczfMldrlassrt7wSSgcWhQACCIRBgP2avgsEEL2hWQUG2ozSv0J5AeSPUqflt8++/lN+A7J3+FekYtpBeb9Ob7miz+NFOvfPDh+Vds9nfwUrngCSdTxLln+8XK6sdqWUKFai4M/kCkiRelGUg9b/b4d0f6VjcOjCbgulRtkaRXnbycdkHRX5ec7zQwoIIKPfHC0z18+UqqWqyt+/m/1gSl4IIIAAAqcLsF/TTwUBRG9oVoGBNqP0r1ASA0j/kt+QSV/EdgVk1rpZMuqtUdKzcU95uFGGyOu/EOk8TqREmS/tCSBmc7j24x3y3fnZAWRBtwXylbJfib32sS9ERuXcPauAAPLLd34pU9+fKuVKlJMlty+JvT7vQAABBCIiwH5N32gCiN7QrAIDbUbpX6GczfqWG/4odVsl4ArIoaPSbnb2FZB4AsiwRcPkxU0vyiXlL5GXV/4r27tMVZFBGwkg52D6/v3xDrktJ4DM7zZfapatGfunHD0sMjrntyMFBJDfvPcbmbRqkpQ4r4Qsv3N57PV5BwIIIBARAfZr+kYTQPSGZhUYaDNK/wolMYB8v+TX5ekvXgvMlmcsP/0rVQXcunXooqEyb9M8qVO+jry08o18oeMzAsg5mL73P/5IeszvFFSOO4AcOSgyJufKSQEB5OlVT8vE97JvYrC69+pzcBaURAABBFJDgP2avo8EEL2hWQUG2ozSv0J5AeRZqdvqxrOv/4y/AekjV/SZUKRz33voiFwz+6rg2P4lr5dJX2R/57/IAeTlO2XenhWnB5CvtBD5/j+y15D3FayRIu0eLNK6OKhggTU7P5TbF2TfHe2vt/xVapWrFTvVF/tFxua8r4AA8rtVv5PH38v+DVGUA8jez/fKf/f/V5pWbRq7ssnPHgAAIABJREFUMe9AAIFICLBf07eZAKI3NKvAQJtR+ldIEUA+G15DKqQdkvfrFD2AfHrwiFw7JzuAfK/k9fK7WALIp/+RIc92kJfKlZG6FerKvBX/PNl7+F6RtDQCiOEUrt7xodyxMDuAuDtUuTtVxfz6fJ/IL3LeV0AAmbx6skx4NzvARjmAtJ/VXj75/BP5+61/l6qlq8bMzBsQQCD1Bdiv6XtMANEbmlVgoM0o/SuUzABS4nr53ZGCr4AcOnJMSo+pku2Zu2n9aIU88sIt8nLZMlKvQj15ccXrJ3v/9BOR84rlCyA8B0Q7kKt2bJOeC2/IDiA3vyK1y8cRQA7vFRl3ycm9zLcwAkg2Rvq09OC/535nrjSs1FDbOt6PAAIpKMB+Td9UAoje0KwCA21G6V+hnACyufOzUu/q2L6CFc8VkE8OHpH2OVdA+pXoIJOPZH9t6p2Md6RksZJ5foePZEmpMTnPjnhovUi5i2Tzhlek65LBwTH1K9SXP6/I+cpV7ruG/U+keAkCiOEUrvxom2T8LTuA/OXmv8jF5S+OvfqhT0TG1yWAFCJHAIl9tHgHAlETYL+m7zgBRG9oVoGBNqP0r1DuFZBvzZC6rbucff2n/AYkngCy58AXct3crwafc/f518nvj2ZfxTgtgHxxTEqNzbkC8oO3Rao2lGF/GyAvfpR956tLK14qL7x3yjMjhuwQKVGar2AZTuGK7f+VO1/Nvjvayze/HNx9LObXwT0ij9Y7YwD5/erfy6/f/XXw71H+ChYBJObJ4g0IRE6A/Zq+5QQQvaFZBQbajNK/QooAsm94DSmfdkjW1OkjTQr4EfrBowdl16Fdwe81cl+7938uHf7UMvg/7zr/OvnDGQLIoS+OSumxOQ+vG/CmSLXGMmTBvfLSzkVfBpCP94p89O6X5o98KFKyHAHEcArf+/C/0us1XQD54rOdUvKxRtmryv2dTr41/mHNH+Sx5Y8RQPgKluHkUgqB1BRgv6bvKwFEb2hWgYE2o/SvUO5XsL41Q+rFeAWksADScU5H2XFwhyzqsUgqlKwQ2Ozaf1i+/qdWOQGkvfzhaPYPyU+9AnLw0GEpM/4i2V68mOz77jRp3LCL3P18X1l2+J3g+AaVGsifXADZnu+5EYP/I1KqIl/BMpzC5R/+R/q8lv3VvJdueknqVKgTc/WDe7ZLmYmXZ78v93c6+apMWTNFfrX8VwSQ3AByw0xpWPWKmJ15AwIIpL4A+zV9jwkgekOzCgy0GaV/hVQB5CIpn3ZY1tTtK016Z3+FJvfl7ubj7urjXvl/vPzx/kPyjT9dHfy9z/nXytSj2c/yODWAfP7ebLngxX6SXjf7Nwfuqznfm9VX3vw8O4AEvwH5376TA0jmFpHSlQkghlP49rYtctffvxNUnHfTvJOuZhX1Yw7s3iZlf9Mk+/Cf7BYpdv5Jb526Zqr8cvkv8/pc1LqpdlzeV7DajpeGl2bfeYwXAgggkF+A/Zp+HgggekOzCgy0GaV/hXICyKZO06X+17I3mmd8nfIbkH3DzxxAxi0bJzPWzghK5b996859h+SbL2QHkN7nXyPTjmb/puPtnm/LBcUvyPvoz9/8vVww/0d5AWRVr1XSf1ZfWfrFl1c8Vh+pJrI9O5AErx+7p6GfEPm/BsH/eaLpbZJ2y9P+9SREK1723y1y9z+y5+LFm14M7j4W6+uzj/8jFZ7MebbFsF0ixb+82YCrxRWQbFECSKyTxfEIRE+A/Zq+5wQQvaFZBQbajNK/QqoAkvMbkAKugOR+/cqB5H+A3c7PDso3/9w6cOpV/Bp55lh2AFl6+1Ipc34ZSXPP8RCRQ0snS+kFD+UFkHHXjJM/vzVTlh55L894xZGqUiz/V7Dc3bL+/aLIXzODY3bU6So1+jzjX09CtOK3/rtZ+v2ja3YA6fqi1KsYewD59KPNUunp5tlnNXSnyPmlTjpDbsNLAAnRyLMUBEItwH5N3x4CiN7QrAIDbUbpXyFVADnzFZDc/9/cUwPIjs8OSMc/fy1wyijWTmZkZf+oPPeVexekw0t+J6UW/jgvgDzS6hEZu2zsSce+daSqlM4fQH74bzmx9iVJm599q959FRpJ+R8u868nIVrxm//ZLN97PTuA/Lnr/7d3JuBRFOkbf2cyCQQicodTTkFWTlFBgogXyIonuKK4IMqCICDqH1ZBH7xR8EAREUXBg11QwJMVEFTuWyAg9yUQghAwSDiSuf7PVz2Tmck96QmZ7n7reTRDT1V11e/7uqberutrNKrYKOzSpaXsRtUPtZ3PMOoIEFc+JI8Pkj/AxI0T1TXuggXM4RSssH2MCUjAKgTYX9NvaQoQ/QwjlgMdOmIojZdRRATIQ2jeV9vFyB+CBcj8HvNRO6G2+upIega6fqMJkN4xSZjhXhGS7s7Gd+LFpBfxx+JJqL5sFFr61oBMuXkKBv44MCTu8qyquDglaBes4Vvg2fE/2H0CREXO4+Rt4xmp9Eq88sBeDFxypypAcQXIsYM7UP1jbdod/DuVBVVp4ob38MHWyeoKBQgFSOl5O+9MAtFPgP01/TaiANHPMGI50KEjhtJ4GWULkE/R6BrtTXe+IccakNNjauAitQi9YAGyoMcC1EqopbINFiD32zvgP56VuW4nndDrpl2DROdJbC8Tp75/78b3MHjx4JC4Hx8pi6sydwWuDdsEz64FFCAR9MLl+3dj0NK7VY5f3f4VGldqHHbuqfu3oeYnmujEU4eAshVC8rj7P2Ow2zmXAsS/CxZHQML2MSYgAasQYH9Nv6UpQPQzjFgOdOiIoTReRj5RsafLJ2jcQXvTHWkBsrDHQtRMqKmyPZx+Gt2+6aA+97J1wExv3gIkeARF4k68YSKG/jQ0pGg/HkxBDbc7cG3or3Dv+hExC7QpWCpwBESXTy7bvxuDfQJk7u1z1fbH4YYje39Drc80m8O/VXJQJq3eeQKei39UVzgCwhGQcP2L8UnASgTYX9NvbQoQ/QwjlgMdOmIojZfRBRAgP/b8ETXK11Bsfj/5F7p/l6Q+/8PWHl94V+diJp3QnAJkQucJePuXsdiPP7Lj/+/QEdR1uQLpa7SAu9UDFCAR9MIle3diyPKeKsc5t89Bk0pNws790O7NqDujk5bOv1VyUC4dPxiBU2XmU4Bkj4CMR5PGt4TNmQlIgATMT4D9Nf02pgDRzzBiOdChI4bSeBn5BMjuLp/g0jBHQDLGJCLBdh5bGjyMFn21g+T8IVhABAuQfcfTccf/rlXR7rG1w5feNbmYbfrnJrT+rHXI9fHXjceIJSNCrn1z+AgaOoMECABXl1fhWPhUIB5HQHT55C97d2KoT4DMvm02mlb2nWgeRq6/79yIev/trKUYsQ8oXyUk9bUf/h/S4xZQgPgEyNyk8biUAiQMD2NUErAOAfbX9NuaAkQ/w4jlQIeOGErjZZQ9AjIdjTvcVXD5c6wBOTumOsrZMrGl4b/Qos/r+QqQ4DUgO/84iZ7ztQMKe6IdZiO3AFlz/xq0+49v0bIv17HXjsXTy54OucfslFQ0zXKGXHN1eQWOhaMoQCLkiT/v2YlhK7QRkOIKkH3b1qPhFzdqJZKzWhKqhZSu09Qn8Gcsp2D5RTsFSIScl9mQgAkJsL+m36gUIPoZRiwHOnTEUBovI/8IyM3TcWlSeALk3JhqiLdlIbnhALTsMz5fAfJW57dwU72b1PfbUk/g3oXa2/C7cTXmInSb3KtqXIXXr3s9+xR1f6b3Nr0Xs3bOCrnHf1OOonlWVsi1Ex2fR5XlYyhAIuSJi3fvwPCV9+gSIHu2rkXj2TdrJXpyF3BRYg4B8jj+jF2krnENCEABEiHnZTYkYEIC7K/pNyoFiH6GEcuBDh0xlMbLSIcAyRxTFWVsTmxu9Aha/fO1fAVIcMcyOSUNvRddr+Le6bkSX9uDTjIH0KlOJzzT7hl0mdOlUJbTj/yBtpmZIfHm1RqKW49oZ0qowClYhXIsKMKiXdvx+Kp/qChf3vYlLqt8Wdj57d68Cpd+5VvT8MQOoIK2IYE/XPfRcJx0LFb/pAABvkp6HY0bdw2bMxOQAAmYnwD7a/ptTAGin2HEcqBDRwyl8TLSIUCyxlRGnM2NzY0GodU/Xw2pe85F5P6O5aZDx/HPn25Qce/wXIlvcgiQ9jU6YHT7p3Hb17cVyrLl+UzMSA0sSpcE82oOwa2p7wbSUoAUyrGgCAt3bcOTq+5VUWbdOgt/q/q3sPPb8esyXPZtdy3d49uAi7UzYfyh88fDcCLmZwoQ3xoQCpCwXYwJSMAyBNhf029qChD9DCOWAx06YiiNl1G2AJmGS5O08x7yDTnWgDjHVEaszY1NjQahdZAAOec6h6tnXB2SzZa7Fqo33+t+P4qHftGm43R3t8H3MRtD4jnOtcaQpM6Y8OuEIrHcsv9gSLzvaw5BdwqQIrErSqQfdmzByDX3q6gz/z4Tl1e7vCjJQuJsX/8Tmn3vm943fCtQsW7I99dPG4Y0OwWIX7RTgITtYkxAApYhwP6aflNTgOhnGLEc6NARQ2m8jHQIEPeYioixebG1/oNo/uDb2XWfv38+RiwN3bFKCYXnTmHV/hQMWKpNx+niaomFjuQQZs70NoitGCpKCoKaS4AkDkL3P7RTtVXgCIgun5y3PRlPre2t8pjR7b9oWb152PltW7MIf/uhh5busWSgUr0cAmQI0uxL1DVOwQK+7vgmGjXyrZkJmzYTkAAJmJkA+2v6rUsBop9hxHKgQ0cMZXRm5HEDB5YBl1wDOMqEltEnQHbdNA1NOoY3AuIZUxF2mzdXR78gAbJ0z+94dIU2Haez83L8EvtbSHmcp1oh9uLN+XJslpmVfTq66rDmGAGZV60/bj0+NZCeAkSXT363bSNGreuj8pjedQba1mgZdn5bVs1HiwXaNC4M2wRUbhAqQKY/ijTbUgoQ/xSsjm+gcaPC10CFbQgmIAESMDwB9tf0mzDqBYjb7cb48eMxdepUHDp0CHXr1kX//v0xYsQIxMTEFEpg69atGDlyJJYvX67iduzYEePGjUPz5rnfIJZU3EIL6YtAhy4qKYPGWz0ZmP8U0H4wcMvYPAXIths+wt86adut5htyTMFCzn/7Es4/MD/XmR3+EZDFO/dh+Oo7VMwkZ1OsiN0Zcrt6Zdvj9/O5DyeUSA6PDT8cPowUhwMP1kpEm/Pn8WnqsZD0C6r0QdcTnwauUYDoctqvf/sVz67vq/J4/4ZPkVS3Tdj5JS+fh5aLtGlcniG/wl61UUge108fhDSb1k5yBASY0+E1NLn072FzZgISIAHzE2B/Tb+No16ADB48GJMnT0a/fv3QoUMHrFixAtOnT4dcnzRpUoEEdu/ejauuugqVK1fG0KFDVdx33nkH6enpWLt2LS699NLs9CUVNxwT0aHDoWXAuF/2A36bCyQ2BwatCK2AT0Rsv+Z1NLvuXuDEbqB227wrWZAA6fIysGcRcN9MfLZ9AcZtfCYkD78A+X7bNjy9Tnsb3i6rEdbE7Q2JV83eFi5bOk45D8Bjd4d8V84VgzWH9qtrV19SD5e4MjH7yNGQOIsr/QM3/vlF4BoFiC6Hnbt1PcZs6KfyeLvTdNzQIB/fKOAum5d+g1Y/aaMoGQNWI6FWs5DYnacPwAnbKnWNAgSY2e4FXH5ZIVti67IqE5MACRiVAPtr+i0X1QJky5YtaNWqlRIPb78dmNv+2GOPYeLEidi8eTNatGiRL4WePXti/vz52L59uxo5kSCjKM2aNUO3bt3w5ZdfZqctqbjhmIgOHQ4t48U9Mb03qhz4HucqN0P8sNVA6mbA7QLqtEXIKIa/ao+uBarlceJ1kADJeuYkzr9SBRU8vilY/rQdhmL4X9Wx+MyHIaAG/5mOQUP2YNbWzXhp88Pqu8bpidhTMXQXK6+rHDzuBMTHnMJXqftxa91a2flUdDqw7PA+9e9OdeqhPLLww+HUkPusqHArkv6aRwESITf9YvMavLipv8rt1fYf4tam7cPOedPPc9B6yUMq3fE+S1GtYauQPK6d1g/pvt3QKECAz64cjdaX9wqbMxOQAAmYnwD7a/ptHNUCZPTo0XjllVewb98+NGgQmK+8f/9+NGzYEPL9Sy+9lCeFjIwMVKlSBb169cInn3wSEqdv376YNWsWTpw4gfLly6Ok4oZrHjp0uMSMFX/p2NvRKXMJUmLro/bozdmi49yTBxD/Rv1CK+O9Zghs7R4BJgSmD7ZocIlKNyrtJO47nRGSx8/l4jEsMfS0a4mw6Obp+GrfHkzaqz07l2R6cbCMLdf9Pc4KSPC48dWxXehaN7Bla62sWCxI0UZMbqldD+diXFhyMCUk/bxK9yHL+S26nTmLsl4vF6EXat2CI3y0dikmbH9Us3Wbt3Bfy5uAzNOA1wOUvTg0saw1OpOW66DB9T/OwpUrBqi4h3p8j7otrg1J1+HjB3A6Rlv3QwECfNz6SVzV6kGdlmNyEiABMxJgf02/VaNagHTt2lWNchw9Gjq9Q6qdmJiINm3aqBGOvMKqVavUlC2ZvvXII4+ERJFrMoVL4rRv3179LYm44ZqHDh0usZKP7/V6YbPl7pyHc2fJw+XxYum4e3BjpnbS9JmWfVE+OVQYy3UPABnLsAPw31XOGI8N+nfwvf0CRK6t+P0Q5iYkoLHTicpuN07ExGBwjerhFDVX3LqZCfgidTuuqR/YsrXV+Ux87jv3o1fNmvitbCy+SElFTZcb5T0eOGSdQsUKeK9SRdx+OgMvpZ2EretYoH4SUK4KvDFlYHu9MdxtH0ZM9ze0TnRWhjYaFF8JsEvtDRak7DFS80JCxnGgfFUgyKf+WvM5YpGFMq3uQfq6Wajc4UGV1/w9q2DzOtG0/GWY+fM7mOH6Jjvzr278COtm90KLs6fRfNRx7boIPY8bJ+e/jMrr3oT34R+BWm0Amx02ewxWfzcV7Tc8qaLu6zYDDdt1h8vjgtdjgy3jKK6d8xgyHNpaoOQ+ybC5MpHhcSKhzEWF1arw791OrXyOuILjShzxB7tvfZ/6t7fEfOLDDR/j6KndePaGwJos/za8k5sPQce2AwuvW14xRAT661C8HKyRSvwiRlo3BhIwFgH21/TbK6oFiEyviouLw4YNG3LV9IorroDT6YRM08orzJkzBzKt6ttvv8Vtt4UepibX7rjjDsyePRs9evRAScUtyDypqamQ/4KDTBV74IEHVH2lfiUdHv2gM3bafZ0X3828QX3tHJN6sosTfD2vOPl+n0feecWVaPnlkef98imzN7sLL6m0SIXlG3zvLLsNFdwelPNNbxI2kt6fR/Df7M/ZcQL3y04TlD5nWimr5O8M6pjGezyI83pxKiYGcR4vYuFVAsXhBeK9Hpy32fBXETZi6J5xBiftdqwsFx+2S911OgMvpJ3EurJl8FDNRJW+W8YZjDt+Qn0enFgNy3Lka/N64c0h2mK9XlUX+SvyoozXiwybHTHwwg0bztltcPnSXOzW4roAdc1lk7+AbPRV0eOFXTqkYod87O4Rluq/QPBCyhRafb9d/DYPtkn2NV+anH4TiBvwGP89/fdJ8HhR1iN31srqF5dum019lnJKpWSFjcSR62L/qi5tzU2aQ+uE13C5cNSRv7ip5vIohg64FVu76BAbkGG3q3zFXxxer2LtfxKEq9xFfKuyyw23TfvsDxXdHpxV5QGqur04Yw/AExtm2mzquZAUUhc/Bfkr32fz8vm8WEPVUaUI+t7f7vhT+G6j2VCEuD9dQJSGPH857JO/nYJ8wVcmZQOfz8nzVdntRZYNOOkI3Es4OGFDpl3zRWEd47tJgIh2wf/E+6+LNfyf/d4ofzUrFT+E/zokv5Y8dxlKIu+C8pSSebJ5hH/34lNkSjMSaOKpikkDfrkgVaMA0Y85qgVIo0aN1EjHypUrc9VURiyOHTuGPXv25Enhs88+Q58+fbBgwQJ06RK6leLChQshoysSRzr8JRW3IPM899xzeP755/OMcsEEyIedscuWlqsMwT8Def0kFPp90O9d4enz/tEpLJ2/0P7dZwMdAO1TUdOHpgugkPRnbcDBOC8SXTbV+fXHDXQqAqMUwdek5+QvgVzP/s7rRTzOq39LfjnzkVv8ViYOVd3aSIJ08M7abdgbp701TnS5kOhy47Tdjkw4cJHXiZ1l8n+j3CQzC/WdTozOcOOic+l4M74/GtQ5ghddW1V+9/51GrMqaG+3RTRMOJaGbXFx+PuZM5hYqaLqSA7/Mx21GtwEHFqNxfYsHHI4cMuZs6jR9TXg8HosPJaK9+SFdRkb4lypOFepISqd3KC6FOviy6JWZjzqeP5UHdksm02JJhfsyLJrHVXpOIsYORkTg/QYrWNW06mJFOk4S2dPuqxHHMCZGBsSnQE7ZPtAkLWlg+fwupUAkVGGvP3Dn0fAS/L36VBfCuQXej3O61T3VB1tmw0HY22I89jUyJUIAvlG7lHWmwUPYtRnu1e7WtabqeornXORBSmOWJT12nHE92K4jtOJcz6xJqJmX1ws2pzPxMay2lbODbI0ASJkRUgI3zh4kGlzoKLbBZfNrsSGdPWybA64vTFw2FyK+x8xdlT0AAkep0pbw+nAcYcN52xSVieOOxwo59G6z8oesoDdDpT1aHUSu2qSIiDMA1sWaFTl/2Ug43hSR0e2CAo8AQE1WRaZKp5LyW0b4pClbOixxaiOap52Uhy1+4c8h9l3D75ToEwSf2cZkSFAolN7XRHrBQ7FaXFqOrV/i59m2b04FGtHdZcIYM1/1J9co6M22L0iMcQmIvk0Av4mUWsPii4I/D7u/1u0lHm0fhHq2wde6uQsWfj/1p5Vl0+Uhp+eKUggJ4Gmnqp4lwLEMI4R1QKEIyCG8SMWlARIgARIgARIgAQsQYAjIPrNHNUChGtA9BuYOZAACZAACZAACZAACUSOAAWIfpZRLUBGjRqFsWPH5rsLlnz/8ssv50mhsJ2tZs6cqXbBSkhIKHQXrOLGDdc8dOhwiTE+CZAACZAACZAACVxYAuyv6ecd1QJEdsCSna7yOwdk06ZNaNmypVqMvnfvXlx88cWoWbNmNhVZYC5rQHbs2IE6deqo6/5zQGR0RRaf+0NJxQ3HRHTocGgxLgmQAAmQAAmQAAlceALsr+lnHtUCRKonW+hOmTJFnYSelJSkTkKfNm0aBg4ciPfff18ROHDggDonRM73kFPS/WHnzp24+uqr1Xkgw4YNU5flJHQZ+ZCT0Js2DRzyVlJxwzERHTocWoxLAiRAAiRAAiRAAheeAPtr+plHvQBxuVwYN24cpk6dipSUFNSuXRv9+/fHyJEj4fBtTZmfABE8ycnJ+Pe//43ly5crWh07dsRrr72mRk5yhpKKW1Qz0aGLSorxSIAESIAESIAESKB0CLC/pp971AsQ/VU0Tg50aOPYiiUlARIgARIgARKwJgH21/TbnQJEP8OI5UCHjhhKZkQCJEACJEACJEACJUKA/TX9WClA9DOMWA506IihZEYkQAIkQAIkQAIkUCIE2F/Tj5UCRD/DiOVAh44YSmZEAiRAAiRAAiRAAiVCgP01/VgpQPQzjFgOdOiIoWRGJEACJEACJEACJFAiBNhf04+VAkQ/w4jlQIeOGEpmRAIkQAIkQAIkQAIlQoD9Nf1YKUD0M4xYDnToiKFkRiRAAiRAAiRAAiRQIgTYX9OPlQJEP8OI5UCHjhhKZkQCJEACJEACJEACJUKA/TX9WClA9DOMWA506IihZEYkQAIkQAIkQAIkUCIE2F/Tj5UCRD/DiOVAh44YSmZEAiRAAiRAAiRAAiVCgP01/VgpQPQzjFgOdOiIoWRGJEACJEACJEACJFAiBNhf04+VAkQ/w4jlQIeOGEpmRAIkQAIkQAIkQAIlQoD9Nf1YKUD0M4xYDnToiKFkRiRAAiRAAiRAAiRQIgTYX9OPlQJEP8OI5bBixQp07NgRn3/+OZo1axaxfJkRCZAACZAACZAACZBAZAhs374dDzzwAJYvX46kpKTIZGqxXChAosjgM2bMUA7NQAIkQAIkQAIkQAIkEN0E5IVx7969o7uQUVo6CpAoMkxaWhoWLFiA+vXrIz4+vkRL5lfvHG3JjZls8nc9ssmbDbnQZ4rTYNNv+DyF6zf0mehoa86dO4cDBw6ga9euqFq1arhmZHwAFCAWdQPOX8zf8GRDNuE2C/QZ+ky4PiPx6Td5UyMXPk98nopDwFhpKECMZa+IlZYNPBv44jgT/YYdpnD9hj7DtoY+Ey4B+kxxiLGtKQ610ktDAVJ67Ev1znxQ2cAXxwHpNxQg4foNfYZtDX0mXAL0meIQY1tTHGqll4YCpPTYl+qd+aCygS+OA9JvKEDC9Rv6DNsa+ky4BOgzxSHGtqY41EovDQVI6bEv1TunpqZiypQpGDhwIGrWrFmqZYm2m5NN/hYhm7zZkAt9pjjtGP2Gz1O4fkOfYVsTrs9Ea3wKkGi1DMtFAiRAAiRAAiRAAiRAAiYkQAFiQqOySiRAAiRAAiRAAiRAAiQQrQQoQKLVMiwXCZAACZAACZAACZAACZiQAAWICY3KKpEACZAACZAACZAACZBAtBKgAIlWy7BcJEACJEACJEACJEACJGBCAhQgJjQqq0QCJEACJEACJEACJEAC0UqAAiRaLXMBy3X27Fl8+umn+Pbbb5GcnIyTJ0+ifv366N69O0aNGoWKFStewNKU3q3cbjfGjx+PqVOn4tChQ6hbty769++PESNGICYmpvQKVop3Xr9+PT7//HP89NNP2L9/P8qXL4/LL78cTz/9NG666aZSLFl03lo43Xjjjapwu3fvRuPGjaOzoBeoVEePHsWLL76I77//HvK5cuXKuPLKKzFp0iRccsklF6gU0XWblJQUPP/881i0aBFkS9XExER06tQJzzzzDJo0aRJdhS2h0mRkZOD111/Hhg0bIG2M+Ebfvn0xffr0XHe0WrtcVDY88yUgAAALbklEQVRWbJuLyianE7FdLqEHWWe2FCA6AZoh+datW9GyZUtce+216Nq1K6pXr65+GKQjLkJEPleoUMEMVS2wDoMHD8bkyZPRr18/dOjQAStWrFA/iHJdOkxWDD179sSSJUvQo0cPXHHFFZAfgGnTpkF85r333sOgQYOsiCXPOjudTvUciXg9c+aM5QWICDDpWJcpU0Y9UyLoT5w4gTVr1uDZZ59Fq1atLOc78nKnefPmyMzMVM9OgwYNsGfPHtXu2Gw2bNmyBXXq1DE9lwMHDqi6yxlUbdu2VQI1PwFitXa5qGys2DYXlU3wA8R2OXqbEwqQ6LXNBStZWloajhw5ojpPweHjjz/Gww8/jDfeeANPPPHEBStPadxIfvilQzR06FC8/fbb2UV47LHHMHHiRGzevBktWrQojaKV6j1FhMkba+lE+sO5c+fQunVrHD9+HMeOHYPD4SjVMkbLzceOHYsJEybg/vvvV3+tPALi9XrRrl07yI//0qVLcdFFF0WLmUq1HCI0pEMto8233XZbdlnmzJkD6VC+9dZbGD58eKmW8ULcXASY/O7Url0bLpcLsbGxeQoQK7bLRWVjxba5qGyCfZjt8oV4oot3DwqQ4nGzRKrTp0+rkQ8RITIaYuYwevRovPLKK9i3b596M+cPMu2oYcOGkO9feuklMyMIq25PPvkk3nzzTfW23wpvbAuDc/DgQTRr1gzvvvsufv/9dzXFxsoCxD/lwd/RPn/+POx2O+Li4gpDaervX331VTV9cd26dUrY+8OqVavUqOuUKVMwYMAAUzPIWbmCBIjV2+WC2OTnJFZpm4vChu1ydDclFCDRbZ9SLd3OnTtx2WWX4amnnoK8RTBzkKlnMsohc5FzBpmj3aZNG8yfP9/MCMKq23333YfZs2fjzz//REJCQlhpzRj5rrvuUvP5pSMp4sPqAmTkyJFqPZWMfkgnctmyZWqKkYyKiHC95pprzOgGhdZp7dq1ikH79u3VGgiZ4ipTsGSEWaY3ijCxwnTXYFAFdSSt3i4XpZOd0+ms0jYXhQ3b5UKbpFKNQAFSqvij++Z9+vRRC5A3btxo+vnaMr1K3s7KepecQdY+yFQSmQ7AAGzfvl1NwZJNCmTqiNXDvHnzcPvtt6u1DfJW+7nnnrO8ALnzzjvxzTffoFq1akps9O7dW63/kFFEWQchHXErTmmUZ0WmYYkoE/HuD7JWZu7cuahSpYrlHqeCOpJWb5eL0skOdhgrtc2FsWG7HP1NCQVI9NsorBLK3GuZJ1mUUNCUiA8++AADBw5U85FlXrLZQ6NGjdRuNCtXrsxVVZkaIWsd5E2l1cOpU6dUh1LWDMmIUb169SyNRKYWya5gN9xwAz788EPFggIEaoe0xYsX47rrrsMvv/yS7SM7duxQi7DvvvtufPHFF5b0ne+++05t4HDzzTerXdLkxYaMFgmXBQsWqJ3mrBQK6khavV0urJMd7CdWa5sLYsN22RgtCAWIMexU5FL6d4koSoKcnQN/mq+//lotiLzlllsgn62wyNjqb9qK4i+y+FymRMjb6x9++AHXX399UZKZOs6YMWPUJgW7du1C1apVKUB81pYF1rKzkawdkzVkwSEpKUmJ+T/++MPUvpFX5WRUSNrWX3/9NWQEaOHCherZeu211yDT16wUOAKSv7WLKkCs2DYXxIbtsjFaEAoQY9ipyKWUecQyN78ooUaNGkpkBAf5IZTpJDJPWdY8xMfHFyUrw8ex+lzjwgyYlZWl/ELeaot/3XHHHYUlMf33suZDNix4/PHH1WihP8gOWLKTmrz5l++teN7FI488ohZUy9t+maoXHKQDLovTxaesFkS0i/Datm1brqrL2g+ZiiXCzUqBa0D0CRCrts35+Q3bZeO0HhQgxrFViZdUznvo1q2bmlIiHU0rLYaUAxdloX1+u2DJ9y+//HKJ2yAabyANvXQapTMpB1bKfH4GYNOmTWpzgoKCTKeRlwJWCx999JE6xFPWO4gYCQ7yckMO4zt8+LDVsKBp06aqzrLBR3CQqbOymYOcxWS1zS4KEiBWb5cLGwGxctucHxu2y8ZpVilAjGOrEi2pLKCVeduyK4sIETmx2EpB1jNIZzK/c0CkUct5TooV+Hg8HnWuxaxZs/D++++HvOm3Qv0LqqPMuf75559zRZk5c6biJZ1v2aI45wiAFbjJGQ+yPki2Jl69enX2NE7Z5UkEyEMPPWT6rb3zsrOMHIqQlzMcgncCk1HFe+65x5LbfRfUybZ6u1wQG6u3zfmxYbtsnF8YChDj2KrESirnFkjnW879kFEAmZoVHGRxtiyYNHvwTxuRU5tlnrp0EuTUb5leI51vKwbZHlQ2IZCpIf/6179yIRC/EP9gCBDgInSNhUxDk00sZBOHXr16qYPn5Jp/tzk5Gd1qQTa56Ny5szrYUw4klEXWsghdNv2Qlz6y42DO9tesjOTMnPT0dEhHWubsy2+QbE4gQaZ7+l/4WLFdLgobq7bNRWGT1zPDdjn6WhIKkOizyQUvkcxVL2hBcX6L1S94QUv4hvJGZdy4cerNrEwRkVN6ZRqJLAq1wkL8vPBKZ0lGxPILMgIgcRgoQPLyAdnGW879kDUP5cqVUy8y5CWHHO5p1ZCcnIwXXngB69evV7vJifAQLrJFsZV2lZPRdnn5lVeQFz8PPvig+sqK7XJR2Fi1bS4KGwoQY7SuFCDGsBNLSQIkQAIkQAIkQAIkQAKmIEABYgozshIkQAIkQAIkQAIkQAIkYAwCFCDGsBNLSQIkQAIkQAIkQAIkQAKmIEABYgozshIkQAIkQAIkQAIkQAIkYAwCFCDGsBNLSQIkQAIkQAIkQAIkQAKmIEABYgozshIkQAIkQAIkQAIkQAIkYAwCFCDGsBNLSQIkQAIkQAIkQAIkQAKmIEABYgozshIkQAIkQAIkQAIkQAIkYAwCFCDGsBNLSQIkQAIkQAIkQAIkQAKmIEABYgozshIkQAIkQAIkQAIkQAIkYAwCFCDGsBNLSQIkQAIkQAIkQAIkQAKmIEABYgozshIkQAIkQAIkQAIkQAIkYAwCFCDGsBNLSQIkQAIkQAIkQAIkQAKmIEABYgozshIkQAIkQAIkQAIkQAIkYAwCFCDGsBNLSQIkQAIkQAIkQAIkQAKmIEABYgozshIkQAIkQAIkQAIkQAIkYAwCFCDGsBNLSQIkQAIkQAIkQAIkQAKmIEABYgozshIkQAIkQAIkQAIkQAIkYAwCFCDGsBNLSQIkQAIkQAIkQAIkQAKmIEABYgozshIkQAIkQAIkQAIkQAIkYAwCFCDGsBNLSQIkQAIkQAIkQAIkQAKmIEABYgozshIkQAIkQAIkQAIkQAIkYAwCFCDGsBNLSQIkQAIkQAIkQAIkQAKmIEABYgozshIkQAIkQAIkQAIkQAIkYAwCFCDGsBNLSQIkQAIkQAIkQAIkQAKmIEABYgozshIkQAIkQAIkQAIkQAIkYAwCFCDGsBNLSQIkQAIkQAIkQAIkQAKmIEABYgozshIkQAIkQAIkQAIkQAIkYAwCFCDGsBNLSQIkQAIkQAIkQAIkQAKmIEABYgozshIkQAIkQAIkQAIkQAIkYAwCFCDGsBNLSQIkQAIkQAIkQAIkQAKmIEABYgozshIkQAIkQAIkQAIkQAIkYAwCFCDGsBNLSQIkQAIkQAIkQAIkQAKmIEABYgozshIkQAIkQAIkQAIkQAIkYAwCFCDGsBNLSQIkQAIkQAIkQAIkQAKmIEABYgozshIkQAIkQAIkQAIkQAIkYAwCFCDGsBNLSQIkQAIkQAIkQAIkQAKmIEABYgozshIkQAIkQAIkQAIkQAIkYAwCFCDGsBNLSQIkQAIkQAIkQAIkQAKmIEABYgozshIkQAIkQAIkQAIkQAIkYAwC/w8SDLq462Ya4AAAAABJRU5ErkJggg==\" width=\"640\">"
      ],
      "text/plain": [
       "<IPython.core.display.HTML object>"
      ]
     },
     "metadata": {},
     "output_type": "display_data"
    }
   ],
   "source": [
    "mix.plot(profile=True)\n",
    "comp0.plot(profile=True)\n",
    "comp1.plot(profile=True) "
   ]
  },
  {
   "cell_type": "markdown",
   "id": "1c3a8ff4",
   "metadata": {},
   "source": [
    "### Removing unnecessary data points"
   ]
  },
  {
   "cell_type": "code",
   "execution_count": 28,
   "id": "d96ec84b",
   "metadata": {},
   "outputs": [],
   "source": [
    "def cut_spectra_to_region(list_of_spectra, lower_bound, upper_bound):\n",
    "    res = []\n",
    "    for sp in list_of_spectra:\n",
    "        ppm = np.array(sp.confs)[:,0]\n",
    "        ints = np.array(sp.confs)[:,1]\n",
    "        ppm_in_region = np.logical_and(ppm>lower_bound, ppm<upper_bound)\n",
    "        new_ppm = ppm[ppm_in_region]\n",
    "        new_ints = ints[ppm_in_region]\n",
    "        res.append(masserstein.NMRSpectrum(confs=list(zip(new_ppm, new_ints))))\n",
    "    return res"
   ]
  },
  {
   "cell_type": "code",
   "execution_count": 29,
   "id": "1b395fcb",
   "metadata": {},
   "outputs": [],
   "source": [
    "#2.5, 9.3\n",
    "preprocessed_spectra = cut_spectra_to_region(spectra_and_mixture, 2.5-shift_coef, 9.3-shift_coef)"
   ]
  },
  {
   "cell_type": "code",
   "execution_count": 30,
   "id": "888355fc",
   "metadata": {},
   "outputs": [],
   "source": [
    "spectra_and_mixture = preprocessed_spectra\n",
    "spectra = spectra_and_mixture[:-1]\n",
    "mix = preprocessed_spectra[-1]\n",
    "del(preprocessed_spectra)"
   ]
  },
  {
   "cell_type": "code",
   "execution_count": 31,
   "id": "e3bd8895",
   "metadata": {},
   "outputs": [],
   "source": [
    "preprocessed_spectra = []\n",
    "for sp in spectra_and_mixture:\n",
    "    sp2 = make_nonnegative(sp)\n",
    "    sp2.sort_confs()\n",
    "    sp2.merge_confs()\n",
    "    sp2.normalize()\n",
    "    preprocessed_spectra.append(sp2)"
   ]
  },
  {
   "cell_type": "code",
   "execution_count": 32,
   "id": "3086b8bb",
   "metadata": {},
   "outputs": [],
   "source": [
    "spectra_and_mixture = preprocessed_spectra\n",
    "spectra = spectra_and_mixture[:-1]\n",
    "mix = preprocessed_spectra[-1]\n",
    "del(preprocessed_spectra)"
   ]
  },
  {
   "cell_type": "code",
   "execution_count": 33,
   "id": "45524112",
   "metadata": {},
   "outputs": [],
   "source": [
    "for i, sp in enumerate(spectra):\n",
    "    sp.protons = protons[i]"
   ]
  },
  {
   "cell_type": "code",
   "execution_count": 34,
   "id": "c1a90356",
   "metadata": {},
   "outputs": [],
   "source": [
    "for i, name in enumerate(names):\n",
    "    globals()[name] = spectra[i]"
   ]
  },
  {
   "cell_type": "code",
   "execution_count": 35,
   "id": "910234c1",
   "metadata": {},
   "outputs": [
    {
     "data": {
      "application/javascript": [
       "/* Put everything inside the global mpl namespace */\n",
       "/* global mpl */\n",
       "window.mpl = {};\n",
       "\n",
       "mpl.get_websocket_type = function () {\n",
       "    if (typeof WebSocket !== 'undefined') {\n",
       "        return WebSocket;\n",
       "    } else if (typeof MozWebSocket !== 'undefined') {\n",
       "        return MozWebSocket;\n",
       "    } else {\n",
       "        alert(\n",
       "            'Your browser does not have WebSocket support. ' +\n",
       "                'Please try Chrome, Safari or Firefox ≥ 6. ' +\n",
       "                'Firefox 4 and 5 are also supported but you ' +\n",
       "                'have to enable WebSockets in about:config.'\n",
       "        );\n",
       "    }\n",
       "};\n",
       "\n",
       "mpl.figure = function (figure_id, websocket, ondownload, parent_element) {\n",
       "    this.id = figure_id;\n",
       "\n",
       "    this.ws = websocket;\n",
       "\n",
       "    this.supports_binary = this.ws.binaryType !== undefined;\n",
       "\n",
       "    if (!this.supports_binary) {\n",
       "        var warnings = document.getElementById('mpl-warnings');\n",
       "        if (warnings) {\n",
       "            warnings.style.display = 'block';\n",
       "            warnings.textContent =\n",
       "                'This browser does not support binary websocket messages. ' +\n",
       "                'Performance may be slow.';\n",
       "        }\n",
       "    }\n",
       "\n",
       "    this.imageObj = new Image();\n",
       "\n",
       "    this.context = undefined;\n",
       "    this.message = undefined;\n",
       "    this.canvas = undefined;\n",
       "    this.rubberband_canvas = undefined;\n",
       "    this.rubberband_context = undefined;\n",
       "    this.format_dropdown = undefined;\n",
       "\n",
       "    this.image_mode = 'full';\n",
       "\n",
       "    this.root = document.createElement('div');\n",
       "    this.root.setAttribute('style', 'display: inline-block');\n",
       "    this._root_extra_style(this.root);\n",
       "\n",
       "    parent_element.appendChild(this.root);\n",
       "\n",
       "    this._init_header(this);\n",
       "    this._init_canvas(this);\n",
       "    this._init_toolbar(this);\n",
       "\n",
       "    var fig = this;\n",
       "\n",
       "    this.waiting = false;\n",
       "\n",
       "    this.ws.onopen = function () {\n",
       "        fig.send_message('supports_binary', { value: fig.supports_binary });\n",
       "        fig.send_message('send_image_mode', {});\n",
       "        if (fig.ratio !== 1) {\n",
       "            fig.send_message('set_device_pixel_ratio', {\n",
       "                device_pixel_ratio: fig.ratio,\n",
       "            });\n",
       "        }\n",
       "        fig.send_message('refresh', {});\n",
       "    };\n",
       "\n",
       "    this.imageObj.onload = function () {\n",
       "        if (fig.image_mode === 'full') {\n",
       "            // Full images could contain transparency (where diff images\n",
       "            // almost always do), so we need to clear the canvas so that\n",
       "            // there is no ghosting.\n",
       "            fig.context.clearRect(0, 0, fig.canvas.width, fig.canvas.height);\n",
       "        }\n",
       "        fig.context.drawImage(fig.imageObj, 0, 0);\n",
       "    };\n",
       "\n",
       "    this.imageObj.onunload = function () {\n",
       "        fig.ws.close();\n",
       "    };\n",
       "\n",
       "    this.ws.onmessage = this._make_on_message_function(this);\n",
       "\n",
       "    this.ondownload = ondownload;\n",
       "};\n",
       "\n",
       "mpl.figure.prototype._init_header = function () {\n",
       "    var titlebar = document.createElement('div');\n",
       "    titlebar.classList =\n",
       "        'ui-dialog-titlebar ui-widget-header ui-corner-all ui-helper-clearfix';\n",
       "    var titletext = document.createElement('div');\n",
       "    titletext.classList = 'ui-dialog-title';\n",
       "    titletext.setAttribute(\n",
       "        'style',\n",
       "        'width: 100%; text-align: center; padding: 3px;'\n",
       "    );\n",
       "    titlebar.appendChild(titletext);\n",
       "    this.root.appendChild(titlebar);\n",
       "    this.header = titletext;\n",
       "};\n",
       "\n",
       "mpl.figure.prototype._canvas_extra_style = function (_canvas_div) {};\n",
       "\n",
       "mpl.figure.prototype._root_extra_style = function (_canvas_div) {};\n",
       "\n",
       "mpl.figure.prototype._init_canvas = function () {\n",
       "    var fig = this;\n",
       "\n",
       "    var canvas_div = (this.canvas_div = document.createElement('div'));\n",
       "    canvas_div.setAttribute('tabindex', '0');\n",
       "    canvas_div.setAttribute(\n",
       "        'style',\n",
       "        'border: 1px solid #ddd;' +\n",
       "            'box-sizing: content-box;' +\n",
       "            'clear: both;' +\n",
       "            'min-height: 1px;' +\n",
       "            'min-width: 1px;' +\n",
       "            'outline: 0;' +\n",
       "            'overflow: hidden;' +\n",
       "            'position: relative;' +\n",
       "            'resize: both;' +\n",
       "            'z-index: 2;'\n",
       "    );\n",
       "\n",
       "    function on_keyboard_event_closure(name) {\n",
       "        return function (event) {\n",
       "            return fig.key_event(event, name);\n",
       "        };\n",
       "    }\n",
       "\n",
       "    canvas_div.addEventListener(\n",
       "        'keydown',\n",
       "        on_keyboard_event_closure('key_press')\n",
       "    );\n",
       "    canvas_div.addEventListener(\n",
       "        'keyup',\n",
       "        on_keyboard_event_closure('key_release')\n",
       "    );\n",
       "\n",
       "    this._canvas_extra_style(canvas_div);\n",
       "    this.root.appendChild(canvas_div);\n",
       "\n",
       "    var canvas = (this.canvas = document.createElement('canvas'));\n",
       "    canvas.classList.add('mpl-canvas');\n",
       "    canvas.setAttribute(\n",
       "        'style',\n",
       "        'box-sizing: content-box;' +\n",
       "            'pointer-events: none;' +\n",
       "            'position: relative;' +\n",
       "            'z-index: 0;'\n",
       "    );\n",
       "\n",
       "    this.context = canvas.getContext('2d');\n",
       "\n",
       "    var backingStore =\n",
       "        this.context.backingStorePixelRatio ||\n",
       "        this.context.webkitBackingStorePixelRatio ||\n",
       "        this.context.mozBackingStorePixelRatio ||\n",
       "        this.context.msBackingStorePixelRatio ||\n",
       "        this.context.oBackingStorePixelRatio ||\n",
       "        this.context.backingStorePixelRatio ||\n",
       "        1;\n",
       "\n",
       "    this.ratio = (window.devicePixelRatio || 1) / backingStore;\n",
       "\n",
       "    var rubberband_canvas = (this.rubberband_canvas = document.createElement(\n",
       "        'canvas'\n",
       "    ));\n",
       "    rubberband_canvas.setAttribute(\n",
       "        'style',\n",
       "        'box-sizing: content-box;' +\n",
       "            'left: 0;' +\n",
       "            'pointer-events: none;' +\n",
       "            'position: absolute;' +\n",
       "            'top: 0;' +\n",
       "            'z-index: 1;'\n",
       "    );\n",
       "\n",
       "    // Apply a ponyfill if ResizeObserver is not implemented by browser.\n",
       "    if (this.ResizeObserver === undefined) {\n",
       "        if (window.ResizeObserver !== undefined) {\n",
       "            this.ResizeObserver = window.ResizeObserver;\n",
       "        } else {\n",
       "            var obs = _JSXTOOLS_RESIZE_OBSERVER({});\n",
       "            this.ResizeObserver = obs.ResizeObserver;\n",
       "        }\n",
       "    }\n",
       "\n",
       "    this.resizeObserverInstance = new this.ResizeObserver(function (entries) {\n",
       "        var nentries = entries.length;\n",
       "        for (var i = 0; i < nentries; i++) {\n",
       "            var entry = entries[i];\n",
       "            var width, height;\n",
       "            if (entry.contentBoxSize) {\n",
       "                if (entry.contentBoxSize instanceof Array) {\n",
       "                    // Chrome 84 implements new version of spec.\n",
       "                    width = entry.contentBoxSize[0].inlineSize;\n",
       "                    height = entry.contentBoxSize[0].blockSize;\n",
       "                } else {\n",
       "                    // Firefox implements old version of spec.\n",
       "                    width = entry.contentBoxSize.inlineSize;\n",
       "                    height = entry.contentBoxSize.blockSize;\n",
       "                }\n",
       "            } else {\n",
       "                // Chrome <84 implements even older version of spec.\n",
       "                width = entry.contentRect.width;\n",
       "                height = entry.contentRect.height;\n",
       "            }\n",
       "\n",
       "            // Keep the size of the canvas and rubber band canvas in sync with\n",
       "            // the canvas container.\n",
       "            if (entry.devicePixelContentBoxSize) {\n",
       "                // Chrome 84 implements new version of spec.\n",
       "                canvas.setAttribute(\n",
       "                    'width',\n",
       "                    entry.devicePixelContentBoxSize[0].inlineSize\n",
       "                );\n",
       "                canvas.setAttribute(\n",
       "                    'height',\n",
       "                    entry.devicePixelContentBoxSize[0].blockSize\n",
       "                );\n",
       "            } else {\n",
       "                canvas.setAttribute('width', width * fig.ratio);\n",
       "                canvas.setAttribute('height', height * fig.ratio);\n",
       "            }\n",
       "            /* This rescales the canvas back to display pixels, so that it\n",
       "             * appears correct on HiDPI screens. */\n",
       "            canvas.style.width = width + 'px';\n",
       "            canvas.style.height = height + 'px';\n",
       "\n",
       "            rubberband_canvas.setAttribute('width', width);\n",
       "            rubberband_canvas.setAttribute('height', height);\n",
       "\n",
       "            // And update the size in Python. We ignore the initial 0/0 size\n",
       "            // that occurs as the element is placed into the DOM, which should\n",
       "            // otherwise not happen due to the minimum size styling.\n",
       "            if (fig.ws.readyState == 1 && width != 0 && height != 0) {\n",
       "                fig.request_resize(width, height);\n",
       "            }\n",
       "        }\n",
       "    });\n",
       "    this.resizeObserverInstance.observe(canvas_div);\n",
       "\n",
       "    function on_mouse_event_closure(name) {\n",
       "        /* User Agent sniffing is bad, but WebKit is busted:\n",
       "         * https://bugs.webkit.org/show_bug.cgi?id=144526\n",
       "         * https://bugs.webkit.org/show_bug.cgi?id=181818\n",
       "         * The worst that happens here is that they get an extra browser\n",
       "         * selection when dragging, if this check fails to catch them.\n",
       "         */\n",
       "        var UA = navigator.userAgent;\n",
       "        var isWebKit = /AppleWebKit/.test(UA) && !/Chrome/.test(UA);\n",
       "        if(isWebKit) {\n",
       "            return function (event) {\n",
       "                /* This prevents the web browser from automatically changing to\n",
       "                 * the text insertion cursor when the button is pressed. We\n",
       "                 * want to control all of the cursor setting manually through\n",
       "                 * the 'cursor' event from matplotlib */\n",
       "                event.preventDefault()\n",
       "                return fig.mouse_event(event, name);\n",
       "            };\n",
       "        } else {\n",
       "            return function (event) {\n",
       "                return fig.mouse_event(event, name);\n",
       "            };\n",
       "        }\n",
       "    }\n",
       "\n",
       "    canvas_div.addEventListener(\n",
       "        'mousedown',\n",
       "        on_mouse_event_closure('button_press')\n",
       "    );\n",
       "    canvas_div.addEventListener(\n",
       "        'mouseup',\n",
       "        on_mouse_event_closure('button_release')\n",
       "    );\n",
       "    canvas_div.addEventListener(\n",
       "        'dblclick',\n",
       "        on_mouse_event_closure('dblclick')\n",
       "    );\n",
       "    // Throttle sequential mouse events to 1 every 20ms.\n",
       "    canvas_div.addEventListener(\n",
       "        'mousemove',\n",
       "        on_mouse_event_closure('motion_notify')\n",
       "    );\n",
       "\n",
       "    canvas_div.addEventListener(\n",
       "        'mouseenter',\n",
       "        on_mouse_event_closure('figure_enter')\n",
       "    );\n",
       "    canvas_div.addEventListener(\n",
       "        'mouseleave',\n",
       "        on_mouse_event_closure('figure_leave')\n",
       "    );\n",
       "\n",
       "    canvas_div.addEventListener('wheel', function (event) {\n",
       "        if (event.deltaY < 0) {\n",
       "            event.step = 1;\n",
       "        } else {\n",
       "            event.step = -1;\n",
       "        }\n",
       "        on_mouse_event_closure('scroll')(event);\n",
       "    });\n",
       "\n",
       "    canvas_div.appendChild(canvas);\n",
       "    canvas_div.appendChild(rubberband_canvas);\n",
       "\n",
       "    this.rubberband_context = rubberband_canvas.getContext('2d');\n",
       "    this.rubberband_context.strokeStyle = '#000000';\n",
       "\n",
       "    this._resize_canvas = function (width, height, forward) {\n",
       "        if (forward) {\n",
       "            canvas_div.style.width = width + 'px';\n",
       "            canvas_div.style.height = height + 'px';\n",
       "        }\n",
       "    };\n",
       "\n",
       "    // Disable right mouse context menu.\n",
       "    canvas_div.addEventListener('contextmenu', function (_e) {\n",
       "        event.preventDefault();\n",
       "        return false;\n",
       "    });\n",
       "\n",
       "    function set_focus() {\n",
       "        canvas.focus();\n",
       "        canvas_div.focus();\n",
       "    }\n",
       "\n",
       "    window.setTimeout(set_focus, 100);\n",
       "};\n",
       "\n",
       "mpl.figure.prototype._init_toolbar = function () {\n",
       "    var fig = this;\n",
       "\n",
       "    var toolbar = document.createElement('div');\n",
       "    toolbar.classList = 'mpl-toolbar';\n",
       "    this.root.appendChild(toolbar);\n",
       "\n",
       "    function on_click_closure(name) {\n",
       "        return function (_event) {\n",
       "            return fig.toolbar_button_onclick(name);\n",
       "        };\n",
       "    }\n",
       "\n",
       "    function on_mouseover_closure(tooltip) {\n",
       "        return function (event) {\n",
       "            if (!event.currentTarget.disabled) {\n",
       "                return fig.toolbar_button_onmouseover(tooltip);\n",
       "            }\n",
       "        };\n",
       "    }\n",
       "\n",
       "    fig.buttons = {};\n",
       "    var buttonGroup = document.createElement('div');\n",
       "    buttonGroup.classList = 'mpl-button-group';\n",
       "    for (var toolbar_ind in mpl.toolbar_items) {\n",
       "        var name = mpl.toolbar_items[toolbar_ind][0];\n",
       "        var tooltip = mpl.toolbar_items[toolbar_ind][1];\n",
       "        var image = mpl.toolbar_items[toolbar_ind][2];\n",
       "        var method_name = mpl.toolbar_items[toolbar_ind][3];\n",
       "\n",
       "        if (!name) {\n",
       "            /* Instead of a spacer, we start a new button group. */\n",
       "            if (buttonGroup.hasChildNodes()) {\n",
       "                toolbar.appendChild(buttonGroup);\n",
       "            }\n",
       "            buttonGroup = document.createElement('div');\n",
       "            buttonGroup.classList = 'mpl-button-group';\n",
       "            continue;\n",
       "        }\n",
       "\n",
       "        var button = (fig.buttons[name] = document.createElement('button'));\n",
       "        button.classList = 'mpl-widget';\n",
       "        button.setAttribute('role', 'button');\n",
       "        button.setAttribute('aria-disabled', 'false');\n",
       "        button.addEventListener('click', on_click_closure(method_name));\n",
       "        button.addEventListener('mouseover', on_mouseover_closure(tooltip));\n",
       "\n",
       "        var icon_img = document.createElement('img');\n",
       "        icon_img.src = '_images/' + image + '.png';\n",
       "        icon_img.srcset = '_images/' + image + '_large.png 2x';\n",
       "        icon_img.alt = tooltip;\n",
       "        button.appendChild(icon_img);\n",
       "\n",
       "        buttonGroup.appendChild(button);\n",
       "    }\n",
       "\n",
       "    if (buttonGroup.hasChildNodes()) {\n",
       "        toolbar.appendChild(buttonGroup);\n",
       "    }\n",
       "\n",
       "    var fmt_picker = document.createElement('select');\n",
       "    fmt_picker.classList = 'mpl-widget';\n",
       "    toolbar.appendChild(fmt_picker);\n",
       "    this.format_dropdown = fmt_picker;\n",
       "\n",
       "    for (var ind in mpl.extensions) {\n",
       "        var fmt = mpl.extensions[ind];\n",
       "        var option = document.createElement('option');\n",
       "        option.selected = fmt === mpl.default_extension;\n",
       "        option.innerHTML = fmt;\n",
       "        fmt_picker.appendChild(option);\n",
       "    }\n",
       "\n",
       "    var status_bar = document.createElement('span');\n",
       "    status_bar.classList = 'mpl-message';\n",
       "    toolbar.appendChild(status_bar);\n",
       "    this.message = status_bar;\n",
       "};\n",
       "\n",
       "mpl.figure.prototype.request_resize = function (x_pixels, y_pixels) {\n",
       "    // Request matplotlib to resize the figure. Matplotlib will then trigger a resize in the client,\n",
       "    // which will in turn request a refresh of the image.\n",
       "    this.send_message('resize', { width: x_pixels, height: y_pixels });\n",
       "};\n",
       "\n",
       "mpl.figure.prototype.send_message = function (type, properties) {\n",
       "    properties['type'] = type;\n",
       "    properties['figure_id'] = this.id;\n",
       "    this.ws.send(JSON.stringify(properties));\n",
       "};\n",
       "\n",
       "mpl.figure.prototype.send_draw_message = function () {\n",
       "    if (!this.waiting) {\n",
       "        this.waiting = true;\n",
       "        this.ws.send(JSON.stringify({ type: 'draw', figure_id: this.id }));\n",
       "    }\n",
       "};\n",
       "\n",
       "mpl.figure.prototype.handle_save = function (fig, _msg) {\n",
       "    var format_dropdown = fig.format_dropdown;\n",
       "    var format = format_dropdown.options[format_dropdown.selectedIndex].value;\n",
       "    fig.ondownload(fig, format);\n",
       "};\n",
       "\n",
       "mpl.figure.prototype.handle_resize = function (fig, msg) {\n",
       "    var size = msg['size'];\n",
       "    if (size[0] !== fig.canvas.width || size[1] !== fig.canvas.height) {\n",
       "        fig._resize_canvas(size[0], size[1], msg['forward']);\n",
       "        fig.send_message('refresh', {});\n",
       "    }\n",
       "};\n",
       "\n",
       "mpl.figure.prototype.handle_rubberband = function (fig, msg) {\n",
       "    var x0 = msg['x0'] / fig.ratio;\n",
       "    var y0 = (fig.canvas.height - msg['y0']) / fig.ratio;\n",
       "    var x1 = msg['x1'] / fig.ratio;\n",
       "    var y1 = (fig.canvas.height - msg['y1']) / fig.ratio;\n",
       "    x0 = Math.floor(x0) + 0.5;\n",
       "    y0 = Math.floor(y0) + 0.5;\n",
       "    x1 = Math.floor(x1) + 0.5;\n",
       "    y1 = Math.floor(y1) + 0.5;\n",
       "    var min_x = Math.min(x0, x1);\n",
       "    var min_y = Math.min(y0, y1);\n",
       "    var width = Math.abs(x1 - x0);\n",
       "    var height = Math.abs(y1 - y0);\n",
       "\n",
       "    fig.rubberband_context.clearRect(\n",
       "        0,\n",
       "        0,\n",
       "        fig.canvas.width / fig.ratio,\n",
       "        fig.canvas.height / fig.ratio\n",
       "    );\n",
       "\n",
       "    fig.rubberband_context.strokeRect(min_x, min_y, width, height);\n",
       "};\n",
       "\n",
       "mpl.figure.prototype.handle_figure_label = function (fig, msg) {\n",
       "    // Updates the figure title.\n",
       "    fig.header.textContent = msg['label'];\n",
       "};\n",
       "\n",
       "mpl.figure.prototype.handle_cursor = function (fig, msg) {\n",
       "    fig.canvas_div.style.cursor = msg['cursor'];\n",
       "};\n",
       "\n",
       "mpl.figure.prototype.handle_message = function (fig, msg) {\n",
       "    fig.message.textContent = msg['message'];\n",
       "};\n",
       "\n",
       "mpl.figure.prototype.handle_draw = function (fig, _msg) {\n",
       "    // Request the server to send over a new figure.\n",
       "    fig.send_draw_message();\n",
       "};\n",
       "\n",
       "mpl.figure.prototype.handle_image_mode = function (fig, msg) {\n",
       "    fig.image_mode = msg['mode'];\n",
       "};\n",
       "\n",
       "mpl.figure.prototype.handle_history_buttons = function (fig, msg) {\n",
       "    for (var key in msg) {\n",
       "        if (!(key in fig.buttons)) {\n",
       "            continue;\n",
       "        }\n",
       "        fig.buttons[key].disabled = !msg[key];\n",
       "        fig.buttons[key].setAttribute('aria-disabled', !msg[key]);\n",
       "    }\n",
       "};\n",
       "\n",
       "mpl.figure.prototype.handle_navigate_mode = function (fig, msg) {\n",
       "    if (msg['mode'] === 'PAN') {\n",
       "        fig.buttons['Pan'].classList.add('active');\n",
       "        fig.buttons['Zoom'].classList.remove('active');\n",
       "    } else if (msg['mode'] === 'ZOOM') {\n",
       "        fig.buttons['Pan'].classList.remove('active');\n",
       "        fig.buttons['Zoom'].classList.add('active');\n",
       "    } else {\n",
       "        fig.buttons['Pan'].classList.remove('active');\n",
       "        fig.buttons['Zoom'].classList.remove('active');\n",
       "    }\n",
       "};\n",
       "\n",
       "mpl.figure.prototype.updated_canvas_event = function () {\n",
       "    // Called whenever the canvas gets updated.\n",
       "    this.send_message('ack', {});\n",
       "};\n",
       "\n",
       "// A function to construct a web socket function for onmessage handling.\n",
       "// Called in the figure constructor.\n",
       "mpl.figure.prototype._make_on_message_function = function (fig) {\n",
       "    return function socket_on_message(evt) {\n",
       "        if (evt.data instanceof Blob) {\n",
       "            var img = evt.data;\n",
       "            if (img.type !== 'image/png') {\n",
       "                /* FIXME: We get \"Resource interpreted as Image but\n",
       "                 * transferred with MIME type text/plain:\" errors on\n",
       "                 * Chrome.  But how to set the MIME type?  It doesn't seem\n",
       "                 * to be part of the websocket stream */\n",
       "                img.type = 'image/png';\n",
       "            }\n",
       "\n",
       "            /* Free the memory for the previous frames */\n",
       "            if (fig.imageObj.src) {\n",
       "                (window.URL || window.webkitURL).revokeObjectURL(\n",
       "                    fig.imageObj.src\n",
       "                );\n",
       "            }\n",
       "\n",
       "            fig.imageObj.src = (window.URL || window.webkitURL).createObjectURL(\n",
       "                img\n",
       "            );\n",
       "            fig.updated_canvas_event();\n",
       "            fig.waiting = false;\n",
       "            return;\n",
       "        } else if (\n",
       "            typeof evt.data === 'string' &&\n",
       "            evt.data.slice(0, 21) === 'data:image/png;base64'\n",
       "        ) {\n",
       "            fig.imageObj.src = evt.data;\n",
       "            fig.updated_canvas_event();\n",
       "            fig.waiting = false;\n",
       "            return;\n",
       "        }\n",
       "\n",
       "        var msg = JSON.parse(evt.data);\n",
       "        var msg_type = msg['type'];\n",
       "\n",
       "        // Call the  \"handle_{type}\" callback, which takes\n",
       "        // the figure and JSON message as its only arguments.\n",
       "        try {\n",
       "            var callback = fig['handle_' + msg_type];\n",
       "        } catch (e) {\n",
       "            console.log(\n",
       "                \"No handler for the '\" + msg_type + \"' message type: \",\n",
       "                msg\n",
       "            );\n",
       "            return;\n",
       "        }\n",
       "\n",
       "        if (callback) {\n",
       "            try {\n",
       "                // console.log(\"Handling '\" + msg_type + \"' message: \", msg);\n",
       "                callback(fig, msg);\n",
       "            } catch (e) {\n",
       "                console.log(\n",
       "                    \"Exception inside the 'handler_\" + msg_type + \"' callback:\",\n",
       "                    e,\n",
       "                    e.stack,\n",
       "                    msg\n",
       "                );\n",
       "            }\n",
       "        }\n",
       "    };\n",
       "};\n",
       "\n",
       "\n",
       "/*\n",
       " * return a copy of an object with only non-object keys\n",
       " * we need this to avoid circular references\n",
       " * https://stackoverflow.com/a/24161582/3208463\n",
       " */\n",
       "function simpleKeys(original) {\n",
       "    return Object.keys(original).reduce(function (obj, key) {\n",
       "        if (typeof original[key] !== 'object') {\n",
       "            obj[key] = original[key];\n",
       "        }\n",
       "        return obj;\n",
       "    }, {});\n",
       "}\n",
       "\n",
       "mpl.figure.prototype.mouse_event = function (event, name) {\n",
       "    if (name === 'button_press') {\n",
       "        this.canvas.focus();\n",
       "        this.canvas_div.focus();\n",
       "    }\n",
       "\n",
       "    // from https://stackoverflow.com/q/1114465\n",
       "    var boundingRect = this.canvas.getBoundingClientRect();\n",
       "    var x = (event.clientX - boundingRect.left) * this.ratio;\n",
       "    var y = (event.clientY - boundingRect.top) * this.ratio;\n",
       "\n",
       "    this.send_message(name, {\n",
       "        x: x,\n",
       "        y: y,\n",
       "        button: event.button,\n",
       "        step: event.step,\n",
       "        guiEvent: simpleKeys(event),\n",
       "    });\n",
       "\n",
       "    return false;\n",
       "};\n",
       "\n",
       "mpl.figure.prototype._key_event_extra = function (_event, _name) {\n",
       "    // Handle any extra behaviour associated with a key event\n",
       "};\n",
       "\n",
       "mpl.figure.prototype.key_event = function (event, name) {\n",
       "    // Prevent repeat events\n",
       "    if (name === 'key_press') {\n",
       "        if (event.key === this._key) {\n",
       "            return;\n",
       "        } else {\n",
       "            this._key = event.key;\n",
       "        }\n",
       "    }\n",
       "    if (name === 'key_release') {\n",
       "        this._key = null;\n",
       "    }\n",
       "\n",
       "    var value = '';\n",
       "    if (event.ctrlKey && event.key !== 'Control') {\n",
       "        value += 'ctrl+';\n",
       "    }\n",
       "    else if (event.altKey && event.key !== 'Alt') {\n",
       "        value += 'alt+';\n",
       "    }\n",
       "    else if (event.shiftKey && event.key !== 'Shift') {\n",
       "        value += 'shift+';\n",
       "    }\n",
       "\n",
       "    value += 'k' + event.key;\n",
       "\n",
       "    this._key_event_extra(event, name);\n",
       "\n",
       "    this.send_message(name, { key: value, guiEvent: simpleKeys(event) });\n",
       "    return false;\n",
       "};\n",
       "\n",
       "mpl.figure.prototype.toolbar_button_onclick = function (name) {\n",
       "    if (name === 'download') {\n",
       "        this.handle_save(this, null);\n",
       "    } else {\n",
       "        this.send_message('toolbar_button', { name: name });\n",
       "    }\n",
       "};\n",
       "\n",
       "mpl.figure.prototype.toolbar_button_onmouseover = function (tooltip) {\n",
       "    this.message.textContent = tooltip;\n",
       "};\n",
       "\n",
       "///////////////// REMAINING CONTENT GENERATED BY embed_js.py /////////////////\n",
       "// prettier-ignore\n",
       "var _JSXTOOLS_RESIZE_OBSERVER=function(A){var t,i=new WeakMap,n=new WeakMap,a=new WeakMap,r=new WeakMap,o=new Set;function s(e){if(!(this instanceof s))throw new TypeError(\"Constructor requires 'new' operator\");i.set(this,e)}function h(){throw new TypeError(\"Function is not a constructor\")}function c(e,t,i,n){e=0 in arguments?Number(arguments[0]):0,t=1 in arguments?Number(arguments[1]):0,i=2 in arguments?Number(arguments[2]):0,n=3 in arguments?Number(arguments[3]):0,this.right=(this.x=this.left=e)+(this.width=i),this.bottom=(this.y=this.top=t)+(this.height=n),Object.freeze(this)}function d(){t=requestAnimationFrame(d);var s=new WeakMap,p=new Set;o.forEach((function(t){r.get(t).forEach((function(i){var r=t instanceof window.SVGElement,o=a.get(t),d=r?0:parseFloat(o.paddingTop),f=r?0:parseFloat(o.paddingRight),l=r?0:parseFloat(o.paddingBottom),u=r?0:parseFloat(o.paddingLeft),g=r?0:parseFloat(o.borderTopWidth),m=r?0:parseFloat(o.borderRightWidth),w=r?0:parseFloat(o.borderBottomWidth),b=u+f,F=d+l,v=(r?0:parseFloat(o.borderLeftWidth))+m,W=g+w,y=r?0:t.offsetHeight-W-t.clientHeight,E=r?0:t.offsetWidth-v-t.clientWidth,R=b+v,z=F+W,M=r?t.width:parseFloat(o.width)-R-E,O=r?t.height:parseFloat(o.height)-z-y;if(n.has(t)){var k=n.get(t);if(k[0]===M&&k[1]===O)return}n.set(t,[M,O]);var S=Object.create(h.prototype);S.target=t,S.contentRect=new c(u,d,M,O),s.has(i)||(s.set(i,[]),p.add(i)),s.get(i).push(S)}))})),p.forEach((function(e){i.get(e).call(e,s.get(e),e)}))}return s.prototype.observe=function(i){if(i instanceof window.Element){r.has(i)||(r.set(i,new Set),o.add(i),a.set(i,window.getComputedStyle(i)));var n=r.get(i);n.has(this)||n.add(this),cancelAnimationFrame(t),t=requestAnimationFrame(d)}},s.prototype.unobserve=function(i){if(i instanceof window.Element&&r.has(i)){var n=r.get(i);n.has(this)&&(n.delete(this),n.size||(r.delete(i),o.delete(i))),n.size||r.delete(i),o.size||cancelAnimationFrame(t)}},A.DOMRectReadOnly=c,A.ResizeObserver=s,A.ResizeObserverEntry=h,A}; // eslint-disable-line\n",
       "mpl.toolbar_items = [[\"Home\", \"Reset original view\", \"fa fa-home\", \"home\"], [\"Back\", \"Back to previous view\", \"fa fa-arrow-left\", \"back\"], [\"Forward\", \"Forward to next view\", \"fa fa-arrow-right\", \"forward\"], [\"\", \"\", \"\", \"\"], [\"Pan\", \"Left button pans, Right button zooms\\nx/y fixes axis, CTRL fixes aspect\", \"fa fa-arrows\", \"pan\"], [\"Zoom\", \"Zoom to rectangle\\nx/y fixes axis\", \"fa fa-square-o\", \"zoom\"], [\"\", \"\", \"\", \"\"], [\"Download\", \"Download plot\", \"fa fa-floppy-o\", \"download\"]];\n",
       "\n",
       "mpl.extensions = [\"eps\", \"jpeg\", \"pgf\", \"pdf\", \"png\", \"ps\", \"raw\", \"svg\", \"tif\", \"webp\"];\n",
       "\n",
       "mpl.default_extension = \"png\";/* global mpl */\n",
       "\n",
       "var comm_websocket_adapter = function (comm) {\n",
       "    // Create a \"websocket\"-like object which calls the given IPython comm\n",
       "    // object with the appropriate methods. Currently this is a non binary\n",
       "    // socket, so there is still some room for performance tuning.\n",
       "    var ws = {};\n",
       "\n",
       "    ws.binaryType = comm.kernel.ws.binaryType;\n",
       "    ws.readyState = comm.kernel.ws.readyState;\n",
       "    function updateReadyState(_event) {\n",
       "        if (comm.kernel.ws) {\n",
       "            ws.readyState = comm.kernel.ws.readyState;\n",
       "        } else {\n",
       "            ws.readyState = 3; // Closed state.\n",
       "        }\n",
       "    }\n",
       "    comm.kernel.ws.addEventListener('open', updateReadyState);\n",
       "    comm.kernel.ws.addEventListener('close', updateReadyState);\n",
       "    comm.kernel.ws.addEventListener('error', updateReadyState);\n",
       "\n",
       "    ws.close = function () {\n",
       "        comm.close();\n",
       "    };\n",
       "    ws.send = function (m) {\n",
       "        //console.log('sending', m);\n",
       "        comm.send(m);\n",
       "    };\n",
       "    // Register the callback with on_msg.\n",
       "    comm.on_msg(function (msg) {\n",
       "        //console.log('receiving', msg['content']['data'], msg);\n",
       "        var data = msg['content']['data'];\n",
       "        if (data['blob'] !== undefined) {\n",
       "            data = {\n",
       "                data: new Blob(msg['buffers'], { type: data['blob'] }),\n",
       "            };\n",
       "        }\n",
       "        // Pass the mpl event to the overridden (by mpl) onmessage function.\n",
       "        ws.onmessage(data);\n",
       "    });\n",
       "    return ws;\n",
       "};\n",
       "\n",
       "mpl.mpl_figure_comm = function (comm, msg) {\n",
       "    // This is the function which gets called when the mpl process\n",
       "    // starts-up an IPython Comm through the \"matplotlib\" channel.\n",
       "\n",
       "    var id = msg.content.data.id;\n",
       "    // Get hold of the div created by the display call when the Comm\n",
       "    // socket was opened in Python.\n",
       "    var element = document.getElementById(id);\n",
       "    var ws_proxy = comm_websocket_adapter(comm);\n",
       "\n",
       "    function ondownload(figure, _format) {\n",
       "        window.open(figure.canvas.toDataURL());\n",
       "    }\n",
       "\n",
       "    var fig = new mpl.figure(id, ws_proxy, ondownload, element);\n",
       "\n",
       "    // Call onopen now - mpl needs it, as it is assuming we've passed it a real\n",
       "    // web socket which is closed, not our websocket->open comm proxy.\n",
       "    ws_proxy.onopen();\n",
       "\n",
       "    fig.parent_element = element;\n",
       "    fig.cell_info = mpl.find_output_cell(\"<div id='\" + id + \"'></div>\");\n",
       "    if (!fig.cell_info) {\n",
       "        console.error('Failed to find cell for figure', id, fig);\n",
       "        return;\n",
       "    }\n",
       "    fig.cell_info[0].output_area.element.on(\n",
       "        'cleared',\n",
       "        { fig: fig },\n",
       "        fig._remove_fig_handler\n",
       "    );\n",
       "};\n",
       "\n",
       "mpl.figure.prototype.handle_close = function (fig, msg) {\n",
       "    var width = fig.canvas.width / fig.ratio;\n",
       "    fig.cell_info[0].output_area.element.off(\n",
       "        'cleared',\n",
       "        fig._remove_fig_handler\n",
       "    );\n",
       "    fig.resizeObserverInstance.unobserve(fig.canvas_div);\n",
       "\n",
       "    // Update the output cell to use the data from the current canvas.\n",
       "    fig.push_to_output();\n",
       "    var dataURL = fig.canvas.toDataURL();\n",
       "    // Re-enable the keyboard manager in IPython - without this line, in FF,\n",
       "    // the notebook keyboard shortcuts fail.\n",
       "    IPython.keyboard_manager.enable();\n",
       "    fig.parent_element.innerHTML =\n",
       "        '<img src=\"' + dataURL + '\" width=\"' + width + '\">';\n",
       "    fig.close_ws(fig, msg);\n",
       "};\n",
       "\n",
       "mpl.figure.prototype.close_ws = function (fig, msg) {\n",
       "    fig.send_message('closing', msg);\n",
       "    // fig.ws.close()\n",
       "};\n",
       "\n",
       "mpl.figure.prototype.push_to_output = function (_remove_interactive) {\n",
       "    // Turn the data on the canvas into data in the output cell.\n",
       "    var width = this.canvas.width / this.ratio;\n",
       "    var dataURL = this.canvas.toDataURL();\n",
       "    this.cell_info[1]['text/html'] =\n",
       "        '<img src=\"' + dataURL + '\" width=\"' + width + '\">';\n",
       "};\n",
       "\n",
       "mpl.figure.prototype.updated_canvas_event = function () {\n",
       "    // Tell IPython that the notebook contents must change.\n",
       "    IPython.notebook.set_dirty(true);\n",
       "    this.send_message('ack', {});\n",
       "    var fig = this;\n",
       "    // Wait a second, then push the new image to the DOM so\n",
       "    // that it is saved nicely (might be nice to debounce this).\n",
       "    setTimeout(function () {\n",
       "        fig.push_to_output();\n",
       "    }, 1000);\n",
       "};\n",
       "\n",
       "mpl.figure.prototype._init_toolbar = function () {\n",
       "    var fig = this;\n",
       "\n",
       "    var toolbar = document.createElement('div');\n",
       "    toolbar.classList = 'btn-toolbar';\n",
       "    this.root.appendChild(toolbar);\n",
       "\n",
       "    function on_click_closure(name) {\n",
       "        return function (_event) {\n",
       "            return fig.toolbar_button_onclick(name);\n",
       "        };\n",
       "    }\n",
       "\n",
       "    function on_mouseover_closure(tooltip) {\n",
       "        return function (event) {\n",
       "            if (!event.currentTarget.disabled) {\n",
       "                return fig.toolbar_button_onmouseover(tooltip);\n",
       "            }\n",
       "        };\n",
       "    }\n",
       "\n",
       "    fig.buttons = {};\n",
       "    var buttonGroup = document.createElement('div');\n",
       "    buttonGroup.classList = 'btn-group';\n",
       "    var button;\n",
       "    for (var toolbar_ind in mpl.toolbar_items) {\n",
       "        var name = mpl.toolbar_items[toolbar_ind][0];\n",
       "        var tooltip = mpl.toolbar_items[toolbar_ind][1];\n",
       "        var image = mpl.toolbar_items[toolbar_ind][2];\n",
       "        var method_name = mpl.toolbar_items[toolbar_ind][3];\n",
       "\n",
       "        if (!name) {\n",
       "            /* Instead of a spacer, we start a new button group. */\n",
       "            if (buttonGroup.hasChildNodes()) {\n",
       "                toolbar.appendChild(buttonGroup);\n",
       "            }\n",
       "            buttonGroup = document.createElement('div');\n",
       "            buttonGroup.classList = 'btn-group';\n",
       "            continue;\n",
       "        }\n",
       "\n",
       "        button = fig.buttons[name] = document.createElement('button');\n",
       "        button.classList = 'btn btn-default';\n",
       "        button.href = '#';\n",
       "        button.title = name;\n",
       "        button.innerHTML = '<i class=\"fa ' + image + ' fa-lg\"></i>';\n",
       "        button.addEventListener('click', on_click_closure(method_name));\n",
       "        button.addEventListener('mouseover', on_mouseover_closure(tooltip));\n",
       "        buttonGroup.appendChild(button);\n",
       "    }\n",
       "\n",
       "    if (buttonGroup.hasChildNodes()) {\n",
       "        toolbar.appendChild(buttonGroup);\n",
       "    }\n",
       "\n",
       "    // Add the status bar.\n",
       "    var status_bar = document.createElement('span');\n",
       "    status_bar.classList = 'mpl-message pull-right';\n",
       "    toolbar.appendChild(status_bar);\n",
       "    this.message = status_bar;\n",
       "\n",
       "    // Add the close button to the window.\n",
       "    var buttongrp = document.createElement('div');\n",
       "    buttongrp.classList = 'btn-group inline pull-right';\n",
       "    button = document.createElement('button');\n",
       "    button.classList = 'btn btn-mini btn-primary';\n",
       "    button.href = '#';\n",
       "    button.title = 'Stop Interaction';\n",
       "    button.innerHTML = '<i class=\"fa fa-power-off icon-remove icon-large\"></i>';\n",
       "    button.addEventListener('click', function (_evt) {\n",
       "        fig.handle_close(fig, {});\n",
       "    });\n",
       "    button.addEventListener(\n",
       "        'mouseover',\n",
       "        on_mouseover_closure('Stop Interaction')\n",
       "    );\n",
       "    buttongrp.appendChild(button);\n",
       "    var titlebar = this.root.querySelector('.ui-dialog-titlebar');\n",
       "    titlebar.insertBefore(buttongrp, titlebar.firstChild);\n",
       "};\n",
       "\n",
       "mpl.figure.prototype._remove_fig_handler = function (event) {\n",
       "    var fig = event.data.fig;\n",
       "    if (event.target !== this) {\n",
       "        // Ignore bubbled events from children.\n",
       "        return;\n",
       "    }\n",
       "    fig.close_ws(fig, {});\n",
       "};\n",
       "\n",
       "mpl.figure.prototype._root_extra_style = function (el) {\n",
       "    el.style.boxSizing = 'content-box'; // override notebook setting of border-box.\n",
       "};\n",
       "\n",
       "mpl.figure.prototype._canvas_extra_style = function (el) {\n",
       "    // this is important to make the div 'focusable\n",
       "    el.setAttribute('tabindex', 0);\n",
       "    // reach out to IPython and tell the keyboard manager to turn it's self\n",
       "    // off when our div gets focus\n",
       "\n",
       "    // location in version 3\n",
       "    if (IPython.notebook.keyboard_manager) {\n",
       "        IPython.notebook.keyboard_manager.register_events(el);\n",
       "    } else {\n",
       "        // location in version 2\n",
       "        IPython.keyboard_manager.register_events(el);\n",
       "    }\n",
       "};\n",
       "\n",
       "mpl.figure.prototype._key_event_extra = function (event, _name) {\n",
       "    // Check for shift+enter\n",
       "    if (event.shiftKey && event.which === 13) {\n",
       "        this.canvas_div.blur();\n",
       "        // select the cell after this one\n",
       "        var index = IPython.notebook.find_cell_index(this.cell_info[0]);\n",
       "        IPython.notebook.select(index + 1);\n",
       "    }\n",
       "};\n",
       "\n",
       "mpl.figure.prototype.handle_save = function (fig, _msg) {\n",
       "    fig.ondownload(fig, null);\n",
       "};\n",
       "\n",
       "mpl.find_output_cell = function (html_output) {\n",
       "    // Return the cell and output element which can be found *uniquely* in the notebook.\n",
       "    // Note - this is a bit hacky, but it is done because the \"notebook_saving.Notebook\"\n",
       "    // IPython event is triggered only after the cells have been serialised, which for\n",
       "    // our purposes (turning an active figure into a static one), is too late.\n",
       "    var cells = IPython.notebook.get_cells();\n",
       "    var ncells = cells.length;\n",
       "    for (var i = 0; i < ncells; i++) {\n",
       "        var cell = cells[i];\n",
       "        if (cell.cell_type === 'code') {\n",
       "            for (var j = 0; j < cell.output_area.outputs.length; j++) {\n",
       "                var data = cell.output_area.outputs[j];\n",
       "                if (data.data) {\n",
       "                    // IPython >= 3 moved mimebundle to data attribute of output\n",
       "                    data = data.data;\n",
       "                }\n",
       "                if (data['text/html'] === html_output) {\n",
       "                    return [cell, data, j];\n",
       "                }\n",
       "            }\n",
       "        }\n",
       "    }\n",
       "};\n",
       "\n",
       "// Register the function which deals with the matplotlib target/channel.\n",
       "// The kernel may be null if the page has been refreshed.\n",
       "if (IPython.notebook.kernel !== null) {\n",
       "    IPython.notebook.kernel.comm_manager.register_target(\n",
       "        'matplotlib',\n",
       "        mpl.mpl_figure_comm\n",
       "    );\n",
       "}\n"
      ],
      "text/plain": [
       "<IPython.core.display.Javascript object>"
      ]
     },
     "metadata": {},
     "output_type": "display_data"
    },
    {
     "data": {
      "text/html": [
       "<img src=\"data:image/png;base64,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\" width=\"2500\">"
      ],
      "text/plain": [
       "<IPython.core.display.HTML object>"
      ]
     },
     "metadata": {},
     "output_type": "display_data"
    },
    {
     "name": "stderr",
     "output_type": "stream",
     "text": [
      "No artists with labels found to put in legend.  Note that artists whose label start with an underscore are ignored when legend() is called with no argument.\n"
     ]
    },
    {
     "data": {
      "text/plain": [
       "<matplotlib.legend.Legend at 0x7f90fae03220>"
      ]
     },
     "execution_count": 35,
     "metadata": {},
     "output_type": "execute_result"
    }
   ],
   "source": [
    "fig, ax = plt.subplots()\n",
    "fig.set_size_inches(25, 4, forward=True)\n",
    "mix.plot(profile=True, color='black')\n",
    "comp0.plot(profile=True)\n",
    "comp1.plot(profile=True) \n",
    "ax.legend()"
   ]
  },
  {
   "cell_type": "markdown",
   "id": "12d050ce",
   "metadata": {},
   "source": [
    "### Finding best values of parameters"
   ]
  },
  {
   "cell_type": "code",
   "execution_count": 36,
   "id": "2720704f",
   "metadata": {},
   "outputs": [],
   "source": [
    "import time\n",
    "import pandas as pd\n",
    "import pulp"
   ]
  },
  {
   "cell_type": "code",
   "execution_count": 37,
   "id": "0cd76c2b",
   "metadata": {},
   "outputs": [],
   "source": [
    "lower_limit = 0.01\n",
    "upper_limit = 0.31\n",
    "step = 0.01"
   ]
  },
  {
   "cell_type": "code",
   "execution_count": 43,
   "id": "9664bfe6",
   "metadata": {},
   "outputs": [
    {
     "name": "stdout",
     "output_type": "stream",
     "text": [
      "Set parameter Username\n",
      "Academic license - for non-commercial use only - expires 2023-11-10\n"
     ]
    },
    {
     "name": "stderr",
     "output_type": "stream",
     "text": [
      "Initial filtering of formulas: 100%|█████████████| 2/2 [00:00<00:00, 134.81it/s]\n",
      "Computing chunks: 100%|████████████████████████| 2/2 [00:00<00:00, 72944.42it/s]\n",
      "Splitting the experimental spectrum into chunks: 55902it [00:00, 2903976.69it/s]\n",
      "Deconvolving chunks:   0%|                                | 0/1 [00:00<?, ?it/s]/home/basia/.local/lib/python3.10/site-packages/pulp/pulp.py:1352: UserWarning: Spaces are not permitted in the name. Converted to '_'\n",
      "  warnings.warn(\"Spaces are not permitted in the name. Converted to '_'\")\n",
      "Deconvolving chunks: 100%|████████████████████████| 1/1 [00:48<00:00, 48.47s/it]\n"
     ]
    },
    {
     "name": "stdout",
     "output_type": "stream",
     "text": [
      "Estimation for 0.01 and 0.01 done\n",
      "It took: 48.55851864814758 seconds.\n",
      "[0.4976234950329988, 0.47235427058499885]\n"
     ]
    },
    {
     "name": "stderr",
     "output_type": "stream",
     "text": [
      "Initial filtering of formulas: 100%|█████████████| 2/2 [00:00<00:00, 120.52it/s]\n",
      "Computing chunks: 100%|████████████████████████| 2/2 [00:00<00:00, 43464.29it/s]\n",
      "Splitting the experimental spectrum into chunks: 55902it [00:00, 2567086.53it/s]\n",
      "Deconvolving chunks: 100%|████████████████████████| 1/1 [00:56<00:00, 56.10s/it]\n"
     ]
    },
    {
     "name": "stdout",
     "output_type": "stream",
     "text": [
      "Estimation for 0.01 and 0.02 done\n",
      "It took: 56.190555572509766 seconds.\n",
      "[0.49303613192099877, 0.46713786222399883]\n"
     ]
    },
    {
     "name": "stderr",
     "output_type": "stream",
     "text": [
      "Initial filtering of formulas: 100%|██████████████| 2/2 [00:00<00:00, 99.72it/s]\n",
      "Computing chunks: 100%|████████████████████████| 2/2 [00:00<00:00, 20763.88it/s]\n",
      "Splitting the experimental spectrum into chunks: 55902it [00:00, 1962338.22it/s]\n",
      "Deconvolving chunks: 100%|████████████████████████| 1/1 [01:17<00:00, 77.88s/it]\n"
     ]
    },
    {
     "name": "stdout",
     "output_type": "stream",
     "text": [
      "Estimation for 0.01 and 0.03 done\n",
      "It took: 77.98936557769775 seconds.\n",
      "[0.4820175488099988, 0.4640866432719989]\n"
     ]
    },
    {
     "name": "stderr",
     "output_type": "stream",
     "text": [
      "Initial filtering of formulas: 100%|█████████████| 2/2 [00:00<00:00, 108.73it/s]\n",
      "Computing chunks: 100%|████████████████████████| 2/2 [00:00<00:00, 14614.30it/s]\n",
      "Splitting the experimental spectrum into chunks: 55902it [00:00, 2324177.34it/s]\n",
      "Deconvolving chunks: 100%|████████████████████████| 1/1 [00:42<00:00, 42.44s/it]\n"
     ]
    },
    {
     "name": "stdout",
     "output_type": "stream",
     "text": [
      "Estimation for 0.01 and 0.04 done\n",
      "It took: 42.52923274040222 seconds.\n",
      "[0.4811351827879988, 0.4609392961069989]\n"
     ]
    },
    {
     "name": "stderr",
     "output_type": "stream",
     "text": [
      "Initial filtering of formulas: 100%|█████████████| 2/2 [00:00<00:00, 119.33it/s]\n",
      "Computing chunks: 100%|████████████████████████| 2/2 [00:00<00:00, 78398.21it/s]\n",
      "Splitting the experimental spectrum into chunks: 55902it [00:00, 2649198.72it/s]\n",
      "Deconvolving chunks: 100%|████████████████████████| 1/1 [00:41<00:00, 41.56s/it]\n"
     ]
    },
    {
     "name": "stdout",
     "output_type": "stream",
     "text": [
      "Estimation for 0.01 and 0.05 done\n",
      "It took: 41.64396643638611 seconds.\n",
      "[0.48100386530499883, 0.45951725748599886]\n"
     ]
    },
    {
     "name": "stderr",
     "output_type": "stream",
     "text": [
      "Initial filtering of formulas: 100%|█████████████| 2/2 [00:00<00:00, 131.08it/s]\n",
      "Computing chunks: 100%|████████████████████████| 2/2 [00:00<00:00, 80659.69it/s]\n",
      "Splitting the experimental spectrum into chunks: 55902it [00:00, 3010425.27it/s]\n",
      "Deconvolving chunks: 100%|████████████████████████| 1/1 [00:40<00:00, 40.81s/it]\n"
     ]
    },
    {
     "name": "stdout",
     "output_type": "stream",
     "text": [
      "Estimation for 0.01 and 0.060000000000000005 done\n",
      "It took: 40.88835263252258 seconds.\n",
      "[0.4810684066409988, 0.45780483419899887]\n"
     ]
    },
    {
     "name": "stderr",
     "output_type": "stream",
     "text": [
      "Initial filtering of formulas: 100%|█████████████| 2/2 [00:00<00:00, 127.16it/s]\n",
      "Computing chunks: 100%|████████████████████████| 2/2 [00:00<00:00, 39568.91it/s]\n",
      "Splitting the experimental spectrum into chunks: 55902it [00:00, 2766346.33it/s]\n",
      "Deconvolving chunks: 100%|████████████████████████| 1/1 [00:47<00:00, 47.38s/it]\n"
     ]
    },
    {
     "name": "stdout",
     "output_type": "stream",
     "text": [
      "Estimation for 0.01 and 0.06999999999999999 done\n",
      "It took: 47.46093726158142 seconds.\n",
      "[0.4793416194369988, 0.4576370483019989]\n"
     ]
    },
    {
     "name": "stderr",
     "output_type": "stream",
     "text": [
      "Initial filtering of formulas: 100%|██████████████| 2/2 [00:00<00:00, 85.50it/s]\n",
      "Computing chunks: 100%|████████████████████████| 2/2 [00:00<00:00, 32513.98it/s]\n",
      "Splitting the experimental spectrum into chunks: 55902it [00:00, 2011806.24it/s]\n",
      "Deconvolving chunks: 100%|████████████████████████| 1/1 [01:17<00:00, 77.38s/it]\n"
     ]
    },
    {
     "name": "stdout",
     "output_type": "stream",
     "text": [
      "Estimation for 0.01 and 0.08 done\n",
      "It took: 77.49682378768921 seconds.\n",
      "[0.47721591475499886, 0.45779831861499887]\n"
     ]
    },
    {
     "name": "stderr",
     "output_type": "stream",
     "text": [
      "Initial filtering of formulas: 100%|█████████████| 2/2 [00:00<00:00, 117.18it/s]\n",
      "Computing chunks: 100%|████████████████████████| 2/2 [00:00<00:00, 63072.24it/s]\n",
      "Splitting the experimental spectrum into chunks: 55902it [00:00, 2496725.43it/s]\n",
      "Deconvolving chunks: 100%|████████████████████████| 1/1 [00:48<00:00, 48.32s/it]\n"
     ]
    },
    {
     "name": "stdout",
     "output_type": "stream",
     "text": [
      "Estimation for 0.01 and 0.09 done\n",
      "It took: 48.40600633621216 seconds.\n",
      "[0.4749618158339988, 0.4581686172639989]\n"
     ]
    },
    {
     "name": "stderr",
     "output_type": "stream",
     "text": [
      "Initial filtering of formulas: 100%|█████████████| 2/2 [00:00<00:00, 137.84it/s]\n",
      "Computing chunks: 100%|████████████████████████| 2/2 [00:00<00:00, 71089.90it/s]\n",
      "Splitting the experimental spectrum into chunks: 55902it [00:00, 2865610.50it/s]\n",
      "Deconvolving chunks: 100%|████████████████████████| 1/1 [00:43<00:00, 43.39s/it]\n"
     ]
    },
    {
     "name": "stdout",
     "output_type": "stream",
     "text": [
      "Estimation for 0.01 and 0.09999999999999999 done\n",
      "It took: 43.46417760848999 seconds.\n",
      "[0.47321297191199885, 0.4580732375659989]\n"
     ]
    },
    {
     "name": "stderr",
     "output_type": "stream",
     "text": [
      "Initial filtering of formulas: 100%|█████████████| 2/2 [00:00<00:00, 132.34it/s]\n",
      "Computing chunks: 100%|████████████████████████| 2/2 [00:00<00:00, 53092.46it/s]\n",
      "Splitting the experimental spectrum into chunks: 55902it [00:00, 2855142.13it/s]\n",
      "Deconvolving chunks: 100%|████████████████████████| 1/1 [00:41<00:00, 41.04s/it]\n"
     ]
    },
    {
     "name": "stdout",
     "output_type": "stream",
     "text": [
      "Estimation for 0.01 and 0.11 done\n",
      "It took: 41.120940923690796 seconds.\n",
      "[0.4718910463189988, 0.4580229529879989]\n"
     ]
    },
    {
     "name": "stderr",
     "output_type": "stream",
     "text": [
      "Initial filtering of formulas: 100%|█████████████| 2/2 [00:00<00:00, 121.51it/s]\n",
      "Computing chunks: 100%|████████████████████████| 2/2 [00:00<00:00, 41734.37it/s]\n",
      "Splitting the experimental spectrum into chunks: 55902it [00:00, 2682784.30it/s]\n",
      "Deconvolving chunks: 100%|████████████████████████| 1/1 [00:46<00:00, 46.51s/it]\n"
     ]
    },
    {
     "name": "stdout",
     "output_type": "stream",
     "text": [
      "Estimation for 0.01 and 0.12 done\n",
      "It took: 46.59464406967163 seconds.\n",
      "[0.47066406733699884, 0.4573935677709989]\n"
     ]
    },
    {
     "name": "stderr",
     "output_type": "stream",
     "text": [
      "Initial filtering of formulas: 100%|█████████████| 2/2 [00:00<00:00, 124.89it/s]\n",
      "Computing chunks: 100%|████████████████████████| 2/2 [00:00<00:00, 68759.08it/s]\n",
      "Splitting the experimental spectrum into chunks: 55902it [00:00, 2599618.40it/s]\n",
      "Deconvolving chunks: 100%|████████████████████████| 1/1 [01:12<00:00, 72.52s/it]\n"
     ]
    },
    {
     "name": "stdout",
     "output_type": "stream",
     "text": [
      "Estimation for 0.01 and 0.13 done\n",
      "It took: 72.60838603973389 seconds.\n",
      "[0.4695076975329988, 0.4569845685449989]\n"
     ]
    },
    {
     "name": "stderr",
     "output_type": "stream",
     "text": [
      "Initial filtering of formulas: 100%|█████████████| 2/2 [00:00<00:00, 121.31it/s]\n",
      "Computing chunks: 100%|████████████████████████| 2/2 [00:00<00:00, 63072.24it/s]\n",
      "Splitting the experimental spectrum into chunks: 55902it [00:00, 2490757.86it/s]\n",
      "Deconvolving chunks: 100%|████████████████████████| 1/1 [00:50<00:00, 50.07s/it]\n"
     ]
    },
    {
     "name": "stdout",
     "output_type": "stream",
     "text": [
      "Estimation for 0.01 and 0.14 done\n",
      "It took: 50.160961389541626 seconds.\n",
      "[0.46869024866299885, 0.4561689972789989]\n"
     ]
    },
    {
     "name": "stderr",
     "output_type": "stream",
     "text": [
      "Initial filtering of formulas: 100%|█████████████| 2/2 [00:00<00:00, 133.51it/s]\n",
      "Computing chunks: 100%|████████████████████████| 2/2 [00:00<00:00, 84733.41it/s]\n",
      "Splitting the experimental spectrum into chunks: 55902it [00:00, 2780848.03it/s]\n",
      "Deconvolving chunks: 100%|████████████████████████| 1/1 [00:40<00:00, 40.78s/it]\n"
     ]
    },
    {
     "name": "stdout",
     "output_type": "stream",
     "text": [
      "Estimation for 0.01 and 0.15000000000000002 done\n",
      "It took: 40.85578465461731 seconds.\n",
      "[0.4678633095759988, 0.4555552778349989]\n"
     ]
    },
    {
     "name": "stderr",
     "output_type": "stream",
     "text": [
      "Initial filtering of formulas: 100%|█████████████| 2/2 [00:00<00:00, 139.46it/s]\n",
      "Computing chunks: 100%|████████████████████████| 2/2 [00:00<00:00, 86480.49it/s]\n",
      "Splitting the experimental spectrum into chunks: 55902it [00:00, 3005909.80it/s]\n",
      "Deconvolving chunks: 100%|████████████████████████| 1/1 [00:39<00:00, 39.19s/it]\n"
     ]
    },
    {
     "name": "stdout",
     "output_type": "stream",
     "text": [
      "Estimation for 0.01 and 0.16 done\n",
      "It took: 39.259541034698486 seconds.\n",
      "[0.46743560954099883, 0.4545706054239989]\n"
     ]
    },
    {
     "name": "stderr",
     "output_type": "stream",
     "text": [
      "Initial filtering of formulas: 100%|█████████████| 2/2 [00:00<00:00, 136.90it/s]\n",
      "Computing chunks: 100%|████████████████████████| 2/2 [00:00<00:00, 69327.34it/s]\n",
      "Splitting the experimental spectrum into chunks: 55902it [00:00, 2638437.01it/s]\n",
      "Deconvolving chunks: 100%|████████████████████████| 1/1 [00:46<00:00, 46.26s/it]\n"
     ]
    },
    {
     "name": "stdout",
     "output_type": "stream",
     "text": [
      "Estimation for 0.01 and 0.17 done\n",
      "It took: 46.33609747886658 seconds.\n",
      "[0.46695836617899883, 0.4535373287789989]\n"
     ]
    },
    {
     "name": "stderr",
     "output_type": "stream",
     "text": [
      "Initial filtering of formulas: 100%|█████████████| 2/2 [00:00<00:00, 114.06it/s]\n",
      "Computing chunks: 100%|████████████████████████| 2/2 [00:00<00:00, 24174.66it/s]\n",
      "Splitting the experimental spectrum into chunks: 55902it [00:00, 2369772.01it/s]\n",
      "Deconvolving chunks: 100%|████████████████████████| 1/1 [01:15<00:00, 75.83s/it]\n"
     ]
    },
    {
     "name": "stdout",
     "output_type": "stream",
     "text": [
      "Estimation for 0.01 and 0.18000000000000002 done\n",
      "It took: 75.93269467353821 seconds.\n",
      "[0.46619356414799884, 0.4522695164589989]\n"
     ]
    },
    {
     "name": "stderr",
     "output_type": "stream",
     "text": [
      "Initial filtering of formulas: 100%|█████████████| 2/2 [00:00<00:00, 114.05it/s]\n",
      "Computing chunks: 100%|████████████████████████| 2/2 [00:00<00:00, 67650.06it/s]\n",
      "Splitting the experimental spectrum into chunks: 55902it [00:00, 2553165.81it/s]\n",
      "Deconvolving chunks: 100%|████████████████████████| 1/1 [00:51<00:00, 52.00s/it]\n"
     ]
    },
    {
     "name": "stdout",
     "output_type": "stream",
     "text": [
      "Estimation for 0.01 and 0.19 done\n",
      "It took: 52.085773229599 seconds.\n",
      "[0.46551506879299887, 0.4509977429669989]\n"
     ]
    },
    {
     "name": "stderr",
     "output_type": "stream",
     "text": [
      "Initial filtering of formulas: 100%|█████████████| 2/2 [00:00<00:00, 136.07it/s]\n",
      "Computing chunks: 100%|████████████████████████| 2/2 [00:00<00:00, 83886.08it/s]\n",
      "Splitting the experimental spectrum into chunks: 55902it [00:00, 2888842.12it/s]\n",
      "Deconvolving chunks: 100%|████████████████████████| 1/1 [00:40<00:00, 40.23s/it]\n"
     ]
    },
    {
     "name": "stdout",
     "output_type": "stream",
     "text": [
      "Estimation for 0.01 and 0.2 done\n",
      "It took: 40.30564546585083 seconds.\n",
      "[0.4647932241149989, 0.4497104512689989]\n"
     ]
    },
    {
     "name": "stderr",
     "output_type": "stream",
     "text": [
      "Initial filtering of formulas: 100%|█████████████| 2/2 [00:00<00:00, 139.63it/s]\n",
      "Computing chunks: 100%|████████████████████████| 2/2 [00:00<00:00, 46863.73it/s]\n",
      "Splitting the experimental spectrum into chunks: 55902it [00:00, 2940836.86it/s]\n",
      "Deconvolving chunks: 100%|████████████████████████| 1/1 [00:44<00:00, 44.53s/it]\n"
     ]
    },
    {
     "name": "stdout",
     "output_type": "stream",
     "text": [
      "Estimation for 0.01 and 0.21000000000000002 done\n",
      "It took: 44.60422325134277 seconds.\n",
      "[0.4637489204219989, 0.44836780527999887]\n"
     ]
    },
    {
     "name": "stderr",
     "output_type": "stream",
     "text": [
      "Initial filtering of formulas: 100%|█████████████| 2/2 [00:00<00:00, 135.62it/s]\n",
      "Computing chunks: 100%|████████████████████████| 2/2 [00:00<00:00, 76959.71it/s]\n",
      "Splitting the experimental spectrum into chunks: 55902it [00:00, 2839238.36it/s]\n",
      "Deconvolving chunks: 100%|████████████████████████| 1/1 [00:50<00:00, 50.44s/it]\n"
     ]
    },
    {
     "name": "stdout",
     "output_type": "stream",
     "text": [
      "Estimation for 0.01 and 0.22 done\n",
      "It took: 50.514183044433594 seconds.\n",
      "[0.4628864117349989, 0.4466691389569989]\n"
     ]
    },
    {
     "name": "stderr",
     "output_type": "stream",
     "text": [
      "Initial filtering of formulas: 100%|█████████████| 2/2 [00:00<00:00, 116.16it/s]\n",
      "Computing chunks: 100%|████████████████████████| 2/2 [00:00<00:00, 51150.05it/s]\n",
      "Splitting the experimental spectrum into chunks: 55902it [00:00, 2377798.78it/s]\n",
      "Deconvolving chunks: 100%|████████████████████████| 1/1 [01:14<00:00, 74.55s/it]\n"
     ]
    },
    {
     "name": "stdout",
     "output_type": "stream",
     "text": [
      "Estimation for 0.01 and 0.23 done\n",
      "It took: 74.6417396068573 seconds.\n",
      "[0.46189250662499887, 0.44537904989799887]\n"
     ]
    },
    {
     "name": "stderr",
     "output_type": "stream",
     "text": [
      "Initial filtering of formulas: 100%|█████████████| 2/2 [00:00<00:00, 125.41it/s]\n",
      "Computing chunks: 100%|████████████████████████| 2/2 [00:00<00:00, 70492.50it/s]\n",
      "Splitting the experimental spectrum into chunks: 55902it [00:00, 2387337.67it/s]\n",
      "Deconvolving chunks: 100%|████████████████████████| 1/1 [00:47<00:00, 47.50s/it]\n"
     ]
    },
    {
     "name": "stdout",
     "output_type": "stream",
     "text": [
      "Estimation for 0.01 and 0.24000000000000002 done\n",
      "It took: 47.59470772743225 seconds.\n",
      "[0.4612577053489989, 0.4434186978769989]\n"
     ]
    },
    {
     "name": "stderr",
     "output_type": "stream",
     "text": [
      "Initial filtering of formulas: 100%|█████████████| 2/2 [00:00<00:00, 131.73it/s]\n",
      "Computing chunks: 100%|████████████████████████| 2/2 [00:00<00:00, 64035.18it/s]\n",
      "Splitting the experimental spectrum into chunks: 55902it [00:00, 2697506.73it/s]\n",
      "Deconvolving chunks: 100%|████████████████████████| 1/1 [00:40<00:00, 40.86s/it]\n"
     ]
    },
    {
     "name": "stdout",
     "output_type": "stream",
     "text": [
      "Estimation for 0.01 and 0.25 done\n",
      "It took: 40.94076108932495 seconds.\n",
      "[0.4605741476289989, 0.44273903331899894]\n"
     ]
    },
    {
     "name": "stderr",
     "output_type": "stream",
     "text": [
      "Initial filtering of formulas: 100%|█████████████| 2/2 [00:00<00:00, 137.38it/s]\n",
      "Computing chunks: 100%|████████████████████████| 2/2 [00:00<00:00, 79891.50it/s]\n",
      "Splitting the experimental spectrum into chunks: 55902it [00:00, 2875803.15it/s]\n",
      "Deconvolving chunks: 100%|████████████████████████| 1/1 [00:39<00:00, 39.25s/it]\n"
     ]
    },
    {
     "name": "stdout",
     "output_type": "stream",
     "text": [
      "Estimation for 0.01 and 0.26 done\n",
      "It took: 39.32799577713013 seconds.\n",
      "[0.4599584392779989, 0.4412523795969989]\n"
     ]
    },
    {
     "name": "stderr",
     "output_type": "stream",
     "text": [
      "Initial filtering of formulas: 100%|█████████████| 2/2 [00:00<00:00, 133.11it/s]\n",
      "Computing chunks: 100%|████████████████████████| 2/2 [00:00<00:00, 64035.18it/s]\n",
      "Splitting the experimental spectrum into chunks: 55902it [00:00, 2840442.20it/s]\n",
      "Deconvolving chunks: 100%|████████████████████████| 1/1 [00:42<00:00, 42.90s/it]\n"
     ]
    },
    {
     "name": "stdout",
     "output_type": "stream",
     "text": [
      "Estimation for 0.01 and 0.27 done\n",
      "It took: 42.98203229904175 seconds.\n",
      "[0.4589943742349989, 0.43984967468999897]\n"
     ]
    },
    {
     "name": "stderr",
     "output_type": "stream",
     "text": [
      "Initial filtering of formulas: 100%|██████████████| 2/2 [00:00<00:00, 82.81it/s]\n",
      "Computing chunks: 100%|████████████████████████| 2/2 [00:00<00:00, 35394.97it/s]\n",
      "Splitting the experimental spectrum into chunks: 55902it [00:00, 1850036.94it/s]\n",
      "Deconvolving chunks: 100%|████████████████████████| 1/1 [01:13<00:00, 73.49s/it]\n"
     ]
    },
    {
     "name": "stdout",
     "output_type": "stream",
     "text": [
      "Estimation for 0.01 and 0.28 done\n",
      "It took: 73.61307954788208 seconds.\n",
      "[0.4580059334809989, 0.4376664857709989]\n"
     ]
    },
    {
     "name": "stderr",
     "output_type": "stream",
     "text": [
      "Initial filtering of formulas: 100%|█████████████| 2/2 [00:00<00:00, 109.03it/s]\n",
      "Computing chunks: 100%|████████████████████████| 2/2 [00:00<00:00, 26051.58it/s]\n",
      "Splitting the experimental spectrum into chunks: 55902it [00:00, 2397835.86it/s]\n",
      "Deconvolving chunks: 100%|████████████████████████| 1/1 [00:57<00:00, 57.64s/it]\n"
     ]
    },
    {
     "name": "stdout",
     "output_type": "stream",
     "text": [
      "Estimation for 0.01 and 0.29000000000000004 done\n",
      "It took: 57.73708176612854 seconds.\n",
      "[0.4571786152589989, 0.43556451183499895]\n"
     ]
    },
    {
     "name": "stderr",
     "output_type": "stream",
     "text": [
      "Initial filtering of formulas: 100%|█████████████| 2/2 [00:00<00:00, 133.70it/s]\n",
      "Computing chunks: 100%|████████████████████████| 2/2 [00:00<00:00, 65027.97it/s]\n",
      "Splitting the experimental spectrum into chunks: 55902it [00:00, 2735524.16it/s]\n",
      "Deconvolving chunks: 100%|████████████████████████| 1/1 [00:46<00:00, 46.68s/it]\n"
     ]
    },
    {
     "name": "stdout",
     "output_type": "stream",
     "text": [
      "Estimation for 0.01 and 0.3 done\n",
      "It took: 46.758872747421265 seconds.\n",
      "[0.45655966822299887, 0.4340046963809989]\n"
     ]
    },
    {
     "name": "stderr",
     "output_type": "stream",
     "text": [
      "Initial filtering of formulas: 100%|█████████████| 2/2 [00:00<00:00, 136.23it/s]\n",
      "Computing chunks: 100%|████████████████████████| 2/2 [00:00<00:00, 84733.41it/s]\n",
      "Splitting the experimental spectrum into chunks: 55902it [00:00, 2811154.73it/s]\n",
      "Deconvolving chunks: 100%|████████████████████████| 1/1 [00:40<00:00, 40.58s/it]\n"
     ]
    },
    {
     "name": "stdout",
     "output_type": "stream",
     "text": [
      "Estimation for 0.02 and 0.01 done\n",
      "It took: 40.65907049179077 seconds.\n",
      "[0.49788085074999877, 0.48599381876799885]\n"
     ]
    },
    {
     "name": "stderr",
     "output_type": "stream",
     "text": [
      "Initial filtering of formulas: 100%|█████████████| 2/2 [00:00<00:00, 142.87it/s]\n",
      "Computing chunks: 100%|████████████████████████| 2/2 [00:00<00:00, 69905.07it/s]\n",
      "Splitting the experimental spectrum into chunks: 55902it [00:00, 2978039.48it/s]\n",
      "Deconvolving chunks: 100%|████████████████████████| 1/1 [00:49<00:00, 49.10s/it]\n"
     ]
    },
    {
     "name": "stdout",
     "output_type": "stream",
     "text": [
      "Estimation for 0.02 and 0.02 done\n",
      "It took: 49.17916703224182 seconds.\n",
      "[0.5041070489009988, 0.47812948593699883]\n"
     ]
    },
    {
     "name": "stderr",
     "output_type": "stream",
     "text": [
      "Initial filtering of formulas: 100%|█████████████| 2/2 [00:00<00:00, 114.03it/s]\n",
      "Computing chunks: 100%|████████████████████████| 2/2 [00:00<00:00, 64035.18it/s]\n",
      "Splitting the experimental spectrum into chunks: 55902it [00:00, 2365420.91it/s]\n",
      "Deconvolving chunks: 100%|████████████████████████| 1/1 [01:13<00:00, 73.58s/it]\n"
     ]
    },
    {
     "name": "stdout",
     "output_type": "stream",
     "text": [
      "Estimation for 0.02 and 0.03 done\n",
      "It took: 73.68257355690002 seconds.\n",
      "[0.5036468334019988, 0.47664848232999885]\n"
     ]
    },
    {
     "name": "stderr",
     "output_type": "stream",
     "text": [
      "Initial filtering of formulas: 100%|█████████████| 2/2 [00:00<00:00, 114.50it/s]\n",
      "Computing chunks: 100%|████████████████████████| 2/2 [00:00<00:00, 54827.50it/s]\n",
      "Splitting the experimental spectrum into chunks: 55902it [00:00, 2342474.47it/s]\n",
      "Deconvolving chunks: 100%|████████████████████████| 1/1 [00:49<00:00, 49.57s/it]\n"
     ]
    },
    {
     "name": "stdout",
     "output_type": "stream",
     "text": [
      "Estimation for 0.02 and 0.04 done\n",
      "It took: 49.66423273086548 seconds.\n",
      "[0.5034656075459988, 0.4760698954609988]\n"
     ]
    },
    {
     "name": "stderr",
     "output_type": "stream",
     "text": [
      "Initial filtering of formulas: 100%|█████████████| 2/2 [00:00<00:00, 124.67it/s]\n",
      "Computing chunks: 100%|████████████████████████| 2/2 [00:00<00:00, 82241.25it/s]\n",
      "Splitting the experimental spectrum into chunks: 55902it [00:00, 2872069.16it/s]\n",
      "Deconvolving chunks: 100%|████████████████████████| 1/1 [00:39<00:00, 39.31s/it]\n"
     ]
    },
    {
     "name": "stdout",
     "output_type": "stream",
     "text": [
      "Estimation for 0.02 and 0.05 done\n",
      "It took: 39.39197778701782 seconds.\n",
      "[0.49981956636699876, 0.4767953820249988]\n"
     ]
    },
    {
     "name": "stderr",
     "output_type": "stream",
     "text": [
      "Initial filtering of formulas: 100%|█████████████| 2/2 [00:00<00:00, 131.89it/s]\n",
      "Computing chunks: 100%|████████████████████████| 2/2 [00:00<00:00, 61680.94it/s]\n",
      "Splitting the experimental spectrum into chunks: 55902it [00:00, 2889660.99it/s]\n",
      "Deconvolving chunks: 100%|████████████████████████| 1/1 [00:40<00:00, 40.48s/it]\n"
     ]
    },
    {
     "name": "stdout",
     "output_type": "stream",
     "text": [
      "Estimation for 0.02 and 0.060000000000000005 done\n",
      "It took: 40.553592681884766 seconds.\n",
      "[0.48818848836299883, 0.47855358378699886]\n"
     ]
    },
    {
     "name": "stderr",
     "output_type": "stream",
     "text": [
      "Initial filtering of formulas: 100%|█████████████| 2/2 [00:00<00:00, 138.88it/s]\n",
      "Computing chunks: 100%|████████████████████████| 2/2 [00:00<00:00, 44620.26it/s]\n",
      "Splitting the experimental spectrum into chunks: 55902it [00:00, 2687581.47it/s]\n",
      "Deconvolving chunks: 100%|████████████████████████| 1/1 [00:39<00:00, 39.44s/it]\n"
     ]
    },
    {
     "name": "stdout",
     "output_type": "stream",
     "text": [
      "Estimation for 0.02 and 0.06999999999999999 done\n",
      "It took: 39.51494884490967 seconds.\n",
      "[0.4825524055439988, 0.4796589740639988]\n"
     ]
    },
    {
     "name": "stderr",
     "output_type": "stream",
     "text": [
      "Initial filtering of formulas: 100%|█████████████| 2/2 [00:00<00:00, 141.98it/s]\n",
      "Computing chunks: 100%|████████████████████████| 2/2 [00:00<00:00, 92182.51it/s]\n",
      "Splitting the experimental spectrum into chunks: 55902it [00:00, 2951052.60it/s]\n",
      "Deconvolving chunks: 100%|████████████████████████| 1/1 [01:11<00:00, 71.86s/it]\n"
     ]
    },
    {
     "name": "stdout",
     "output_type": "stream",
     "text": [
      "Estimation for 0.02 and 0.08 done\n",
      "It took: 71.95171475410461 seconds.\n",
      "[0.48187732640599884, 0.4797331182419988]\n"
     ]
    },
    {
     "name": "stderr",
     "output_type": "stream",
     "text": [
      "Initial filtering of formulas: 100%|█████████████| 2/2 [00:00<00:00, 102.74it/s]\n",
      "Computing chunks: 100%|████████████████████████| 2/2 [00:00<00:00, 10192.72it/s]\n",
      "Splitting the experimental spectrum into chunks: 55902it [00:00, 1739752.93it/s]\n",
      "Deconvolving chunks: 100%|████████████████████████| 1/1 [00:50<00:00, 50.99s/it]\n"
     ]
    },
    {
     "name": "stdout",
     "output_type": "stream",
     "text": [
      "Estimation for 0.02 and 0.09 done\n",
      "It took: 51.13239812850952 seconds.\n",
      "[0.4812490355519988, 0.4797424848249988]\n"
     ]
    },
    {
     "name": "stderr",
     "output_type": "stream",
     "text": [
      "Initial filtering of formulas: 100%|█████████████| 2/2 [00:00<00:00, 130.72it/s]\n",
      "Computing chunks: 100%|████████████████████████| 2/2 [00:00<00:00, 52428.80it/s]\n",
      "Splitting the experimental spectrum into chunks: 55902it [00:00, 2804799.06it/s]\n",
      "Deconvolving chunks: 100%|████████████████████████| 1/1 [00:39<00:00, 39.86s/it]\n"
     ]
    },
    {
     "name": "stdout",
     "output_type": "stream",
     "text": [
      "Estimation for 0.02 and 0.09999999999999999 done\n",
      "It took: 39.942302942276 seconds.\n",
      "[0.48107611724099886, 0.47924366421399883]\n"
     ]
    },
    {
     "name": "stderr",
     "output_type": "stream",
     "text": [
      "Initial filtering of formulas: 100%|█████████████| 2/2 [00:00<00:00, 139.95it/s]\n",
      "Computing chunks: 100%|████████████████████████| 2/2 [00:00<00:00, 73584.28it/s]\n",
      "Splitting the experimental spectrum into chunks: 55902it [00:00, 2914046.16it/s]\n",
      "Deconvolving chunks: 100%|████████████████████████| 1/1 [00:39<00:00, 39.76s/it]\n"
     ]
    },
    {
     "name": "stdout",
     "output_type": "stream",
     "text": [
      "Estimation for 0.02 and 0.11 done\n",
      "It took: 39.837810039520264 seconds.\n",
      "[0.48063235065099885, 0.47864841017099885]\n"
     ]
    },
    {
     "name": "stderr",
     "output_type": "stream",
     "text": [
      "Initial filtering of formulas: 100%|█████████████| 2/2 [00:00<00:00, 135.88it/s]\n",
      "Computing chunks: 100%|████████████████████████| 2/2 [00:00<00:00, 27776.85it/s]\n",
      "Splitting the experimental spectrum into chunks: 55902it [00:00, 2854342.71it/s]\n",
      "Deconvolving chunks: 100%|████████████████████████| 1/1 [00:38<00:00, 38.38s/it]\n"
     ]
    },
    {
     "name": "stdout",
     "output_type": "stream",
     "text": [
      "Estimation for 0.02 and 0.12 done\n",
      "It took: 38.45786762237549 seconds.\n",
      "[0.48008049115799883, 0.47745680949299885]\n"
     ]
    },
    {
     "name": "stderr",
     "output_type": "stream",
     "text": [
      "Initial filtering of formulas: 100%|█████████████| 2/2 [00:00<00:00, 133.44it/s]\n",
      "Computing chunks: 100%|████████████████████████| 2/2 [00:00<00:00, 91180.52it/s]\n",
      "Splitting the experimental spectrum into chunks: 55902it [00:00, 2958350.46it/s]\n",
      "Deconvolving chunks: 100%|████████████████████████| 1/1 [00:54<00:00, 54.28s/it]\n"
     ]
    },
    {
     "name": "stdout",
     "output_type": "stream",
     "text": [
      "Estimation for 0.02 and 0.13 done\n",
      "It took: 54.357526540756226 seconds.\n",
      "[0.4794134619359988, 0.4774228990939988]\n"
     ]
    },
    {
     "name": "stderr",
     "output_type": "stream",
     "text": [
      "Initial filtering of formulas: 100%|█████████████| 2/2 [00:00<00:00, 105.20it/s]\n",
      "Computing chunks: 100%|████████████████████████| 2/2 [00:00<00:00, 34521.02it/s]\n",
      "Splitting the experimental spectrum into chunks: 55902it [00:00, 2171340.03it/s]\n",
      "Deconvolving chunks: 100%|████████████████████████| 1/1 [01:25<00:00, 85.60s/it]\n"
     ]
    },
    {
     "name": "stdout",
     "output_type": "stream",
     "text": [
      "Estimation for 0.02 and 0.14 done\n",
      "It took: 85.70004439353943 seconds.\n",
      "[0.47881197221399885, 0.4773283892399988]\n"
     ]
    },
    {
     "name": "stderr",
     "output_type": "stream",
     "text": [
      "Initial filtering of formulas: 100%|█████████████| 2/2 [00:00<00:00, 134.25it/s]\n",
      "Computing chunks: 100%|████████████████████████| 2/2 [00:00<00:00, 69327.34it/s]\n",
      "Splitting the experimental spectrum into chunks: 55902it [00:00, 2244870.43it/s]\n",
      "Deconvolving chunks: 100%|████████████████████████| 1/1 [00:40<00:00, 40.31s/it]\n"
     ]
    },
    {
     "name": "stdout",
     "output_type": "stream",
     "text": [
      "Estimation for 0.02 and 0.15000000000000002 done\n",
      "It took: 40.39893913269043 seconds.\n",
      "[0.4780772850319988, 0.4772088276129988]\n"
     ]
    },
    {
     "name": "stderr",
     "output_type": "stream",
     "text": [
      "Initial filtering of formulas: 100%|█████████████| 2/2 [00:00<00:00, 131.34it/s]\n",
      "Computing chunks: 100%|████████████████████████| 2/2 [00:00<00:00, 42153.81it/s]\n",
      "Splitting the experimental spectrum into chunks: 55902it [00:00, 2664371.06it/s]\n",
      "Deconvolving chunks: 100%|████████████████████████| 1/1 [00:40<00:00, 40.11s/it]\n"
     ]
    },
    {
     "name": "stdout",
     "output_type": "stream",
     "text": [
      "Estimation for 0.02 and 0.16 done\n",
      "It took: 40.186339378356934 seconds.\n",
      "[0.47739411505499885, 0.47694039755499884]\n"
     ]
    },
    {
     "name": "stderr",
     "output_type": "stream",
     "text": [
      "Initial filtering of formulas: 100%|█████████████| 2/2 [00:00<00:00, 138.45it/s]\n",
      "Computing chunks: 100%|████████████████████████| 2/2 [00:00<00:00, 94254.02it/s]\n",
      "Splitting the experimental spectrum into chunks: 55902it [00:00, 2928824.60it/s]\n",
      "Deconvolving chunks: 100%|████████████████████████| 1/1 [00:40<00:00, 40.18s/it]\n"
     ]
    },
    {
     "name": "stdout",
     "output_type": "stream",
     "text": [
      "Estimation for 0.02 and 0.17 done\n",
      "It took: 40.25687050819397 seconds.\n",
      "[0.47683274700199885, 0.4764472030249988]\n"
     ]
    },
    {
     "name": "stderr",
     "output_type": "stream",
     "text": [
      "Initial filtering of formulas: 100%|█████████████| 2/2 [00:00<00:00, 132.25it/s]\n",
      "Computing chunks: 100%|████████████████████████| 2/2 [00:00<00:00, 93206.76it/s]\n",
      "Splitting the experimental spectrum into chunks: 55902it [00:00, 2892762.63it/s]\n",
      "Deconvolving chunks: 100%|████████████████████████| 1/1 [01:01<00:00, 61.59s/it]\n"
     ]
    },
    {
     "name": "stdout",
     "output_type": "stream",
     "text": [
      "Estimation for 0.02 and 0.18000000000000002 done\n",
      "It took: 61.683003425598145 seconds.\n",
      "[0.4764516531949988, 0.47602594871399884]\n"
     ]
    },
    {
     "name": "stderr",
     "output_type": "stream",
     "text": [
      "Initial filtering of formulas: 100%|██████████████| 2/2 [00:00<00:00, 65.61it/s]\n",
      "Computing chunks: 100%|████████████████████████| 2/2 [00:00<00:00, 36472.21it/s]\n",
      "Splitting the experimental spectrum into chunks: 55902it [00:00, 1521119.88it/s]\n",
      "Deconvolving chunks: 100%|████████████████████████| 1/1 [01:21<00:00, 81.18s/it]\n"
     ]
    },
    {
     "name": "stdout",
     "output_type": "stream",
     "text": [
      "Estimation for 0.02 and 0.19 done\n",
      "It took: 81.32865333557129 seconds.\n",
      "[0.4759627268869988, 0.4759315622249988]\n"
     ]
    },
    {
     "name": "stderr",
     "output_type": "stream",
     "text": [
      "Initial filtering of formulas: 100%|█████████████| 2/2 [00:00<00:00, 136.76it/s]\n",
      "Computing chunks: 100%|████████████████████████| 2/2 [00:00<00:00, 84733.41it/s]\n",
      "Splitting the experimental spectrum into chunks: 55902it [00:00, 2717515.82it/s]\n",
      "Deconvolving chunks: 100%|████████████████████████| 1/1 [00:40<00:00, 40.55s/it]\n"
     ]
    },
    {
     "name": "stdout",
     "output_type": "stream",
     "text": [
      "Estimation for 0.02 and 0.2 done\n",
      "It took: 40.6362943649292 seconds.\n",
      "[0.47554302769699885, 0.47583789187099884]\n"
     ]
    },
    {
     "name": "stderr",
     "output_type": "stream",
     "text": [
      "Initial filtering of formulas: 100%|█████████████| 2/2 [00:00<00:00, 130.00it/s]\n",
      "Computing chunks: 100%|████████████████████████| 2/2 [00:00<00:00, 84733.41it/s]\n",
      "Splitting the experimental spectrum into chunks: 55902it [00:00, 2818216.57it/s]\n",
      "Deconvolving chunks: 100%|████████████████████████| 1/1 [00:39<00:00, 39.05s/it]\n"
     ]
    },
    {
     "name": "stdout",
     "output_type": "stream",
     "text": [
      "Estimation for 0.02 and 0.21000000000000002 done\n",
      "It took: 39.13242435455322 seconds.\n",
      "[0.47513909849099883, 0.47552463581699883]\n"
     ]
    },
    {
     "name": "stderr",
     "output_type": "stream",
     "text": [
      "Initial filtering of formulas: 100%|█████████████| 2/2 [00:00<00:00, 141.11it/s]\n",
      "Computing chunks: 100%|████████████████████████| 2/2 [00:00<00:00, 78398.21it/s]\n",
      "Splitting the experimental spectrum into chunks: 55902it [00:00, 2893583.72it/s]\n",
      "Deconvolving chunks: 100%|████████████████████████| 1/1 [00:39<00:00, 39.12s/it]\n"
     ]
    },
    {
     "name": "stdout",
     "output_type": "stream",
     "text": [
      "Estimation for 0.02 and 0.22 done\n",
      "It took: 39.19059777259827 seconds.\n",
      "[0.47483931621599884, 0.47540943797999885]\n"
     ]
    },
    {
     "name": "stderr",
     "output_type": "stream",
     "text": [
      "Initial filtering of formulas: 100%|█████████████| 2/2 [00:00<00:00, 139.91it/s]\n",
      "Computing chunks: 100%|████████████████████████| 2/2 [00:00<00:00, 39945.75it/s]\n",
      "Splitting the experimental spectrum into chunks: 55902it [00:00, 2896300.19it/s]\n",
      "Deconvolving chunks: 100%|████████████████████████| 1/1 [00:48<00:00, 48.82s/it]\n"
     ]
    },
    {
     "name": "stdout",
     "output_type": "stream",
     "text": [
      "Estimation for 0.02 and 0.23 done\n",
      "It took: 48.901851654052734 seconds.\n",
      "[0.47450991326299885, 0.47520047977599883]\n"
     ]
    },
    {
     "name": "stderr",
     "output_type": "stream",
     "text": [
      "Initial filtering of formulas: 100%|█████████████| 2/2 [00:00<00:00, 111.10it/s]\n",
      "Computing chunks: 100%|████████████████████████| 2/2 [00:00<00:00, 26051.58it/s]\n",
      "Splitting the experimental spectrum into chunks: 55902it [00:00, 2123533.78it/s]\n",
      "Deconvolving chunks: 100%|████████████████████████| 1/1 [01:37<00:00, 97.66s/it]\n"
     ]
    },
    {
     "name": "stdout",
     "output_type": "stream",
     "text": [
      "Estimation for 0.02 and 0.24000000000000002 done\n",
      "It took: 97.75846338272095 seconds.\n",
      "[0.47433172718899885, 0.47499842316499885]\n"
     ]
    },
    {
     "name": "stderr",
     "output_type": "stream",
     "text": [
      "Initial filtering of formulas: 100%|█████████████| 2/2 [00:00<00:00, 139.07it/s]\n",
      "Computing chunks: 100%|████████████████████████| 2/2 [00:00<00:00, 86480.49it/s]\n",
      "Splitting the experimental spectrum into chunks: 55902it [00:00, 2831284.35it/s]\n",
      "Deconvolving chunks: 100%|████████████████████████| 1/1 [00:39<00:00, 39.06s/it]\n"
     ]
    },
    {
     "name": "stdout",
     "output_type": "stream",
     "text": [
      "Estimation for 0.02 and 0.25 done\n",
      "It took: 39.140591621398926 seconds.\n",
      "[0.47423727750499883, 0.4747859189929988]\n"
     ]
    },
    {
     "name": "stderr",
     "output_type": "stream",
     "text": [
      "Initial filtering of formulas: 100%|█████████████| 2/2 [00:00<00:00, 138.37it/s]\n",
      "Computing chunks: 100%|████████████████████████| 2/2 [00:00<00:00, 79137.81it/s]\n",
      "Splitting the experimental spectrum into chunks: 55902it [00:00, 2589140.58it/s]\n",
      "Deconvolving chunks: 100%|████████████████████████| 1/1 [00:39<00:00, 39.00s/it]\n"
     ]
    },
    {
     "name": "stdout",
     "output_type": "stream",
     "text": [
      "Estimation for 0.02 and 0.26 done\n",
      "It took: 39.08223032951355 seconds.\n",
      "[0.47406797823599883, 0.47429299679899883]\n"
     ]
    },
    {
     "name": "stderr",
     "output_type": "stream",
     "text": [
      "Initial filtering of formulas: 100%|█████████████| 2/2 [00:00<00:00, 138.61it/s]\n",
      "Computing chunks: 100%|████████████████████████| 2/2 [00:00<00:00, 52758.54it/s]\n",
      "Splitting the experimental spectrum into chunks: 55902it [00:00, 2870768.07it/s]\n",
      "Deconvolving chunks: 100%|████████████████████████| 1/1 [00:46<00:00, 46.05s/it]\n"
     ]
    },
    {
     "name": "stdout",
     "output_type": "stream",
     "text": [
      "Estimation for 0.02 and 0.27 done\n",
      "It took: 46.123648166656494 seconds.\n",
      "[0.4739393248409988, 0.47360027160199886]\n"
     ]
    },
    {
     "name": "stderr",
     "output_type": "stream",
     "text": [
      "Initial filtering of formulas: 100%|█████████████| 2/2 [00:00<00:00, 144.80it/s]\n",
      "Computing chunks: 100%|████████████████████████| 2/2 [00:00<00:00, 95325.09it/s]\n",
      "Splitting the experimental spectrum into chunks: 55902it [00:00, 3141850.01it/s]\n",
      "Deconvolving chunks: 100%|████████████████████████| 1/1 [01:08<00:00, 68.75s/it]\n"
     ]
    },
    {
     "name": "stdout",
     "output_type": "stream",
     "text": [
      "Estimation for 0.02 and 0.28 done\n",
      "It took: 68.8390257358551 seconds.\n",
      "[0.4736753649939988, 0.47336730109999886]\n"
     ]
    },
    {
     "name": "stderr",
     "output_type": "stream",
     "text": [
      "Initial filtering of formulas: 100%|██████████████| 2/2 [00:00<00:00, 62.51it/s]\n",
      "Computing chunks: 100%|████████████████████████| 2/2 [00:00<00:00, 14488.10it/s]\n",
      "Splitting the experimental spectrum into chunks: 55902it [00:00, 1264152.68it/s]\n",
      "Deconvolving chunks: 100%|████████████████████████| 1/1 [01:26<00:00, 86.77s/it]\n"
     ]
    },
    {
     "name": "stdout",
     "output_type": "stream",
     "text": [
      "Estimation for 0.02 and 0.29000000000000004 done\n",
      "It took: 86.96514940261841 seconds.\n",
      "[0.47359733690999883, 0.47282950817999886]\n"
     ]
    },
    {
     "name": "stderr",
     "output_type": "stream",
     "text": [
      "Initial filtering of formulas: 100%|█████████████| 2/2 [00:00<00:00, 136.52it/s]\n",
      "Computing chunks: 100%|████████████████████████| 2/2 [00:00<00:00, 83055.52it/s]\n",
      "Splitting the experimental spectrum into chunks: 55902it [00:00, 2826369.76it/s]\n",
      "Deconvolving chunks: 100%|████████████████████████| 1/1 [00:39<00:00, 39.47s/it]\n"
     ]
    },
    {
     "name": "stdout",
     "output_type": "stream",
     "text": [
      "Estimation for 0.02 and 0.3 done\n",
      "It took: 39.54943346977234 seconds.\n",
      "[0.47328045878599884, 0.4718563742949988]\n"
     ]
    },
    {
     "name": "stderr",
     "output_type": "stream",
     "text": [
      "Initial filtering of formulas: 100%|█████████████| 2/2 [00:00<00:00, 136.94it/s]\n",
      "Computing chunks: 100%|████████████████████████| 2/2 [00:00<00:00, 72315.59it/s]\n",
      "Splitting the experimental spectrum into chunks: 55902it [00:00, 2926704.22it/s]\n",
      "Deconvolving chunks: 100%|████████████████████████| 1/1 [00:39<00:00, 39.94s/it]\n"
     ]
    },
    {
     "name": "stdout",
     "output_type": "stream",
     "text": [
      "Estimation for 0.03 and 0.01 done\n",
      "It took: 40.01648831367493 seconds.\n",
      "[0.49509945829699875, 0.49247678342099876]\n"
     ]
    },
    {
     "name": "stderr",
     "output_type": "stream",
     "text": [
      "Initial filtering of formulas: 100%|█████████████| 2/2 [00:00<00:00, 135.80it/s]\n",
      "Computing chunks: 100%|████████████████████████| 2/2 [00:00<00:00, 91180.52it/s]\n",
      "Splitting the experimental spectrum into chunks: 55902it [00:00, 2810750.34it/s]\n",
      "Deconvolving chunks: 100%|████████████████████████| 1/1 [00:39<00:00, 39.22s/it]\n"
     ]
    },
    {
     "name": "stdout",
     "output_type": "stream",
     "text": [
      "Estimation for 0.03 and 0.02 done\n",
      "It took: 39.299601316452026 seconds.\n",
      "[0.5070501470209988, 0.4793642326579988]\n"
     ]
    },
    {
     "name": "stderr",
     "output_type": "stream",
     "text": [
      "Initial filtering of formulas: 100%|█████████████| 2/2 [00:00<00:00, 137.99it/s]\n",
      "Computing chunks: 100%|████████████████████████| 2/2 [00:00<00:00, 92182.51it/s]\n",
      "Splitting the experimental spectrum into chunks: 55902it [00:00, 2772889.40it/s]\n",
      "Deconvolving chunks: 100%|████████████████████████| 1/1 [00:45<00:00, 45.41s/it]\n"
     ]
    },
    {
     "name": "stdout",
     "output_type": "stream",
     "text": [
      "Estimation for 0.03 and 0.03 done\n",
      "It took: 45.5018584728241 seconds.\n",
      "[0.5076389539679987, 0.4790259354409988]\n"
     ]
    },
    {
     "name": "stderr",
     "output_type": "stream",
     "text": [
      "Initial filtering of formulas: 100%|██████████████| 2/2 [00:00<00:00, 70.18it/s]\n",
      "Computing chunks: 100%|████████████████████████| 2/2 [00:00<00:00, 55924.05it/s]\n",
      "Splitting the experimental spectrum into chunks: 55902it [00:00, 1960828.44it/s]\n",
      "Deconvolving chunks: 100%|████████████████████████| 1/1 [01:12<00:00, 72.18s/it]\n"
     ]
    },
    {
     "name": "stdout",
     "output_type": "stream",
     "text": [
      "Estimation for 0.03 and 0.04 done\n",
      "It took: 72.30623245239258 seconds.\n",
      "[0.5078440994859987, 0.47825251741799885]\n"
     ]
    },
    {
     "name": "stderr",
     "output_type": "stream",
     "text": [
      "Initial filtering of formulas: 100%|█████████████| 2/2 [00:00<00:00, 123.98it/s]\n",
      "Computing chunks: 100%|████████████████████████| 2/2 [00:00<00:00, 50840.05it/s]\n",
      "Splitting the experimental spectrum into chunks: 55902it [00:00, 1570325.30it/s]\n",
      "Deconvolving chunks: 100%|████████████████████████| 1/1 [00:43<00:00, 43.66s/it]\n"
     ]
    },
    {
     "name": "stdout",
     "output_type": "stream",
     "text": [
      "Estimation for 0.03 and 0.05 done\n",
      "It took: 43.76841974258423 seconds.\n",
      "[0.5072947160049988, 0.4777839370459988]\n"
     ]
    },
    {
     "name": "stderr",
     "output_type": "stream",
     "text": [
      "Initial filtering of formulas: 100%|█████████████| 2/2 [00:00<00:00, 142.88it/s]\n",
      "Computing chunks: 100%|████████████████████████| 2/2 [00:00<00:00, 61230.72it/s]\n",
      "Splitting the experimental spectrum into chunks: 55902it [00:00, 2875274.16it/s]\n",
      "Deconvolving chunks: 100%|████████████████████████| 1/1 [00:41<00:00, 41.20s/it]\n"
     ]
    },
    {
     "name": "stdout",
     "output_type": "stream",
     "text": [
      "Estimation for 0.03 and 0.060000000000000005 done\n",
      "It took: 41.27758049964905 seconds.\n",
      "[0.5052700229129988, 0.47799044873799884]\n"
     ]
    },
    {
     "name": "stderr",
     "output_type": "stream",
     "text": [
      "Initial filtering of formulas: 100%|█████████████| 2/2 [00:00<00:00, 132.59it/s]\n",
      "Computing chunks: 100%|████████████████████████| 2/2 [00:00<00:00, 90200.09it/s]\n",
      "Splitting the experimental spectrum into chunks: 55902it [00:00, 2855559.40it/s]\n",
      "Deconvolving chunks: 100%|████████████████████████| 1/1 [00:39<00:00, 39.93s/it]\n"
     ]
    },
    {
     "name": "stdout",
     "output_type": "stream",
     "text": [
      "Estimation for 0.03 and 0.06999999999999999 done\n",
      "It took: 40.00472044944763 seconds.\n",
      "[0.5046828880309988, 0.4778396997609988]\n"
     ]
    },
    {
     "name": "stderr",
     "output_type": "stream",
     "text": [
      "Initial filtering of formulas: 100%|█████████████| 2/2 [00:00<00:00, 135.83it/s]\n",
      "Computing chunks: 100%|████████████████████████| 2/2 [00:00<00:00, 98689.51it/s]\n",
      "Splitting the experimental spectrum into chunks: 55902it [00:00, 2877038.20it/s]\n",
      "Deconvolving chunks: 100%|████████████████████████| 1/1 [00:47<00:00, 47.66s/it]\n"
     ]
    },
    {
     "name": "stdout",
     "output_type": "stream",
     "text": [
      "Estimation for 0.03 and 0.08 done\n",
      "It took: 47.7397985458374 seconds.\n",
      "[0.5013375625659988, 0.47817523739199885]\n"
     ]
    },
    {
     "name": "stderr",
     "output_type": "stream",
     "text": [
      "Initial filtering of formulas: 100%|█████████████| 2/2 [00:00<00:00, 112.52it/s]\n",
      "Computing chunks: 100%|████████████████████████| 2/2 [00:00<00:00, 53430.62it/s]\n",
      "Splitting the experimental spectrum into chunks: 55902it [00:00, 2444611.08it/s]\n",
      "Deconvolving chunks: 100%|████████████████████████| 1/1 [01:21<00:00, 81.27s/it]\n"
     ]
    },
    {
     "name": "stdout",
     "output_type": "stream",
     "text": [
      "Estimation for 0.03 and 0.09 done\n",
      "It took: 81.36635184288025 seconds.\n",
      "[0.49219228343799876, 0.47936010015599884]\n"
     ]
    },
    {
     "name": "stderr",
     "output_type": "stream",
     "text": [
      "Initial filtering of formulas: 100%|█████████████| 2/2 [00:00<00:00, 125.73it/s]\n",
      "Computing chunks: 100%|████████████████████████| 2/2 [00:00<00:00, 60349.70it/s]\n",
      "Splitting the experimental spectrum into chunks: 55902it [00:00, 2508773.62it/s]\n",
      "Deconvolving chunks: 100%|████████████████████████| 1/1 [00:47<00:00, 47.94s/it]\n"
     ]
    },
    {
     "name": "stdout",
     "output_type": "stream",
     "text": [
      "Estimation for 0.03 and 0.09999999999999999 done\n",
      "It took: 48.03097081184387 seconds.\n",
      "[0.4861224861199988, 0.48011523876199885]\n"
     ]
    },
    {
     "name": "stderr",
     "output_type": "stream",
     "text": [
      "Initial filtering of formulas: 100%|█████████████| 2/2 [00:00<00:00, 135.97it/s]\n",
      "Computing chunks: 100%|████████████████████████| 2/2 [00:00<00:00, 86480.49it/s]\n",
      "Splitting the experimental spectrum into chunks: 55902it [00:00, 2723323.49it/s]\n",
      "Deconvolving chunks: 100%|████████████████████████| 1/1 [00:38<00:00, 38.95s/it]\n"
     ]
    },
    {
     "name": "stdout",
     "output_type": "stream",
     "text": [
      "Estimation for 0.03 and 0.11 done\n",
      "It took: 39.02980947494507 seconds.\n",
      "[0.48597936418099885, 0.4798910960069988]\n"
     ]
    },
    {
     "name": "stderr",
     "output_type": "stream",
     "text": [
      "Initial filtering of formulas: 100%|█████████████| 2/2 [00:00<00:00, 135.07it/s]\n",
      "Computing chunks: 100%|████████████████████████| 2/2 [00:00<00:00, 87381.33it/s]\n",
      "Splitting the experimental spectrum into chunks: 55902it [00:00, 2642421.45it/s]\n",
      "Deconvolving chunks: 100%|████████████████████████| 1/1 [00:39<00:00, 39.84s/it]\n"
     ]
    },
    {
     "name": "stdout",
     "output_type": "stream",
     "text": [
      "Estimation for 0.03 and 0.12 done\n",
      "It took: 39.91620874404907 seconds.\n",
      "[0.48546428922699886, 0.4798242139319988]\n"
     ]
    },
    {
     "name": "stderr",
     "output_type": "stream",
     "text": [
      "Initial filtering of formulas: 100%|█████████████| 2/2 [00:00<00:00, 143.01it/s]\n",
      "Computing chunks: 100%|████████████████████████| 2/2 [00:00<00:00, 90200.09it/s]\n",
      "Splitting the experimental spectrum into chunks: 55902it [00:00, 2953729.26it/s]\n",
      "Deconvolving chunks: 100%|████████████████████████| 1/1 [00:48<00:00, 48.23s/it]\n"
     ]
    },
    {
     "name": "stdout",
     "output_type": "stream",
     "text": [
      "Estimation for 0.03 and 0.13 done\n",
      "It took: 48.30175828933716 seconds.\n",
      "[0.4849358030809988, 0.47986282144299885]\n"
     ]
    },
    {
     "name": "stderr",
     "output_type": "stream",
     "text": [
      "Initial filtering of formulas: 100%|██████████████| 2/2 [00:00<00:00, 68.44it/s]\n",
      "Computing chunks: 100%|████████████████████████| 2/2 [00:00<00:00, 27776.85it/s]\n",
      "Splitting the experimental spectrum into chunks: 55902it [00:00, 1517045.38it/s]\n",
      "Deconvolving chunks: 100%|████████████████████████| 1/1 [01:20<00:00, 80.58s/it]\n"
     ]
    },
    {
     "name": "stdout",
     "output_type": "stream",
     "text": [
      "Estimation for 0.03 and 0.14 done\n",
      "It took: 80.7060067653656 seconds.\n",
      "[0.4845125161059988, 0.4796350764499988]\n"
     ]
    },
    {
     "name": "stderr",
     "output_type": "stream",
     "text": [
      "Initial filtering of formulas: 100%|█████████████| 2/2 [00:00<00:00, 121.43it/s]\n",
      "Computing chunks: 100%|████████████████████████| 2/2 [00:00<00:00, 63072.24it/s]\n",
      "Splitting the experimental spectrum into chunks: 55902it [00:00, 2233068.72it/s]\n",
      "Deconvolving chunks: 100%|████████████████████████| 1/1 [00:42<00:00, 42.01s/it]\n"
     ]
    },
    {
     "name": "stdout",
     "output_type": "stream",
     "text": [
      "Estimation for 0.03 and 0.15000000000000002 done\n",
      "It took: 42.113266468048096 seconds.\n",
      "[0.4847017249439988, 0.4793837002979988]\n"
     ]
    },
    {
     "name": "stderr",
     "output_type": "stream",
     "text": [
      "Initial filtering of formulas: 100%|█████████████| 2/2 [00:00<00:00, 138.58it/s]\n",
      "Computing chunks: 100%|████████████████████████| 2/2 [00:00<00:00, 60349.70it/s]\n",
      "Splitting the experimental spectrum into chunks: 55902it [00:00, 2881528.60it/s]\n",
      "Deconvolving chunks: 100%|████████████████████████| 1/1 [00:50<00:00, 50.15s/it]\n"
     ]
    },
    {
     "name": "stdout",
     "output_type": "stream",
     "text": [
      "Estimation for 0.03 and 0.16 done\n",
      "It took: 50.231568574905396 seconds.\n",
      "[0.48495439655399886, 0.4788242848429988]\n"
     ]
    },
    {
     "name": "stderr",
     "output_type": "stream",
     "text": [
      "Initial filtering of formulas: 100%|█████████████| 2/2 [00:00<00:00, 129.46it/s]\n",
      "Computing chunks: 100%|████████████████████████| 2/2 [00:00<00:00, 36314.32it/s]\n",
      "Splitting the experimental spectrum into chunks: 55902it [00:00, 2708005.89it/s]\n",
      "Deconvolving chunks: 100%|████████████████████████| 1/1 [00:39<00:00, 39.05s/it]\n"
     ]
    },
    {
     "name": "stdout",
     "output_type": "stream",
     "text": [
      "Estimation for 0.03 and 0.17 done\n",
      "It took: 39.125317096710205 seconds.\n",
      "[0.48471837348999885, 0.47859486830399883]\n"
     ]
    },
    {
     "name": "stderr",
     "output_type": "stream",
     "text": [
      "Initial filtering of formulas: 100%|█████████████| 2/2 [00:00<00:00, 135.24it/s]\n",
      "Computing chunks: 100%|████████████████████████| 2/2 [00:00<00:00, 69327.34it/s]\n",
      "Splitting the experimental spectrum into chunks: 55902it [00:00, 2796236.01it/s]\n",
      "Deconvolving chunks: 100%|████████████████████████| 1/1 [00:47<00:00, 47.24s/it]\n"
     ]
    },
    {
     "name": "stdout",
     "output_type": "stream",
     "text": [
      "Estimation for 0.03 and 0.18000000000000002 done\n",
      "It took: 47.32142376899719 seconds.\n",
      "[0.48422121318399886, 0.4781807128519988]\n"
     ]
    },
    {
     "name": "stderr",
     "output_type": "stream",
     "text": [
      "Initial filtering of formulas: 100%|█████████████| 2/2 [00:00<00:00, 123.08it/s]\n",
      "Computing chunks: 100%|████████████████████████| 2/2 [00:00<00:00, 50533.78it/s]\n",
      "Splitting the experimental spectrum into chunks: 55902it [00:00, 2676689.64it/s]\n",
      "Deconvolving chunks: 100%|████████████████████████| 1/1 [01:10<00:00, 70.51s/it]\n"
     ]
    },
    {
     "name": "stdout",
     "output_type": "stream",
     "text": [
      "Estimation for 0.03 and 0.19 done\n",
      "It took: 70.60551476478577 seconds.\n",
      "[0.4835922432579988, 0.47782591348799885]\n"
     ]
    },
    {
     "name": "stderr",
     "output_type": "stream",
     "text": [
      "Initial filtering of formulas: 100%|██████████████| 2/2 [00:00<00:00, 85.52it/s]\n",
      "Computing chunks: 100%|████████████████████████| 2/2 [00:00<00:00, 58254.22it/s]\n",
      "Splitting the experimental spectrum into chunks: 55902it [00:00, 2048506.30it/s]\n",
      "Deconvolving chunks: 100%|████████████████████████| 1/1 [00:40<00:00, 40.11s/it]\n"
     ]
    },
    {
     "name": "stdout",
     "output_type": "stream",
     "text": [
      "Estimation for 0.03 and 0.2 done\n",
      "It took: 40.21498346328735 seconds.\n",
      "[0.48268967709699884, 0.4777410462039988]\n"
     ]
    },
    {
     "name": "stderr",
     "output_type": "stream",
     "text": [
      "Initial filtering of formulas: 100%|█████████████| 2/2 [00:00<00:00, 138.29it/s]\n",
      "Computing chunks: 100%|████████████████████████| 2/2 [00:00<00:00, 93206.76it/s]\n",
      "Splitting the experimental spectrum into chunks: 55902it [00:00, 2952910.88it/s]\n",
      "Deconvolving chunks: 100%|████████████████████████| 1/1 [00:37<00:00, 37.40s/it]\n"
     ]
    },
    {
     "name": "stdout",
     "output_type": "stream",
     "text": [
      "Estimation for 0.03 and 0.21000000000000002 done\n",
      "It took: 37.477381229400635 seconds.\n",
      "[0.4818168357229988, 0.47774924403299884]\n"
     ]
    },
    {
     "name": "stderr",
     "output_type": "stream",
     "text": [
      "Initial filtering of formulas: 100%|█████████████| 2/2 [00:00<00:00, 136.80it/s]\n",
      "Computing chunks: 100%|████████████████████████| 2/2 [00:00<00:00, 66052.03it/s]\n",
      "Splitting the experimental spectrum into chunks: 55902it [00:00, 3023351.54it/s]\n",
      "Deconvolving chunks: 100%|████████████████████████| 1/1 [00:36<00:00, 36.40s/it]\n"
     ]
    },
    {
     "name": "stdout",
     "output_type": "stream",
     "text": [
      "Estimation for 0.03 and 0.22 done\n",
      "It took: 36.47035789489746 seconds.\n",
      "[0.4810828353719988, 0.4777963410339988]\n"
     ]
    },
    {
     "name": "stderr",
     "output_type": "stream",
     "text": [
      "Initial filtering of formulas: 100%|█████████████| 2/2 [00:00<00:00, 143.05it/s]\n",
      "Computing chunks: 100%|████████████████████████| 2/2 [00:00<00:00, 63072.24it/s]\n",
      "Splitting the experimental spectrum into chunks: 55902it [00:00, 3083873.45it/s]\n",
      "Deconvolving chunks: 100%|████████████████████████| 1/1 [00:42<00:00, 42.28s/it]\n"
     ]
    },
    {
     "name": "stdout",
     "output_type": "stream",
     "text": [
      "Estimation for 0.03 and 0.23 done\n",
      "It took: 42.35482907295227 seconds.\n",
      "[0.4802526970039988, 0.4778389172609988]\n"
     ]
    },
    {
     "name": "stderr",
     "output_type": "stream",
     "text": [
      "Initial filtering of formulas: 100%|█████████████| 2/2 [00:00<00:00, 112.30it/s]\n",
      "Computing chunks: 100%|████████████████████████| 2/2 [00:00<00:00, 25890.77it/s]\n",
      "Splitting the experimental spectrum into chunks: 55902it [00:00, 2367331.51it/s]\n",
      "Deconvolving chunks: 100%|████████████████████████| 1/1 [00:41<00:00, 41.21s/it]\n"
     ]
    },
    {
     "name": "stdout",
     "output_type": "stream",
     "text": [
      "Estimation for 0.03 and 0.24000000000000002 done\n",
      "It took: 41.29384517669678 seconds.\n",
      "[0.47955405943999885, 0.47786419299599886]\n"
     ]
    },
    {
     "name": "stderr",
     "output_type": "stream",
     "text": [
      "Initial filtering of formulas: 100%|█████████████| 2/2 [00:00<00:00, 137.93it/s]\n",
      "Computing chunks: 100%|████████████████████████| 2/2 [00:00<00:00, 91180.52it/s]\n",
      "Splitting the experimental spectrum into chunks: 55902it [00:00, 2955404.64it/s]\n",
      "Deconvolving chunks: 100%|████████████████████████| 1/1 [00:36<00:00, 36.17s/it]\n"
     ]
    },
    {
     "name": "stdout",
     "output_type": "stream",
     "text": [
      "Estimation for 0.03 and 0.25 done\n",
      "It took: 36.24899172782898 seconds.\n",
      "[0.4789397399129988, 0.4778915600579988]\n"
     ]
    },
    {
     "name": "stderr",
     "output_type": "stream",
     "text": [
      "Initial filtering of formulas: 100%|█████████████| 2/2 [00:00<00:00, 133.49it/s]\n",
      "Computing chunks: 100%|████████████████████████| 2/2 [00:00<00:00, 80659.69it/s]\n",
      "Splitting the experimental spectrum into chunks: 55902it [00:00, 2973243.50it/s]\n",
      "Deconvolving chunks: 100%|████████████████████████| 1/1 [00:44<00:00, 44.08s/it]\n"
     ]
    },
    {
     "name": "stdout",
     "output_type": "stream",
     "text": [
      "Estimation for 0.03 and 0.26 done\n",
      "It took: 44.15380668640137 seconds.\n",
      "[0.4783185773229988, 0.47786348157499886]\n"
     ]
    },
    {
     "name": "stderr",
     "output_type": "stream",
     "text": [
      "Initial filtering of formulas: 100%|█████████████| 2/2 [00:00<00:00, 134.87it/s]\n",
      "Computing chunks: 100%|████████████████████████| 2/2 [00:00<00:00, 92182.51it/s]\n",
      "Splitting the experimental spectrum into chunks: 55902it [00:00, 2912453.51it/s]\n",
      "Deconvolving chunks: 100%|████████████████████████| 1/1 [00:48<00:00, 48.54s/it]\n"
     ]
    },
    {
     "name": "stdout",
     "output_type": "stream",
     "text": [
      "Estimation for 0.03 and 0.27 done\n",
      "It took: 48.619850158691406 seconds.\n",
      "[0.4777046338279988, 0.4777761750969988]\n"
     ]
    },
    {
     "name": "stderr",
     "output_type": "stream",
     "text": [
      "Initial filtering of formulas: 100%|██████████████| 2/2 [00:00<00:00, 99.96it/s]\n",
      "Computing chunks: 100%|████████████████████████| 2/2 [00:00<00:00, 58661.59it/s]\n",
      "Splitting the experimental spectrum into chunks: 55902it [00:00, 2434786.94it/s]\n",
      "Deconvolving chunks: 100%|████████████████████████| 1/1 [00:44<00:00, 44.71s/it]\n"
     ]
    },
    {
     "name": "stdout",
     "output_type": "stream",
     "text": [
      "Estimation for 0.03 and 0.28 done\n",
      "It took: 44.80702495574951 seconds.\n",
      "[0.47738982123799883, 0.47763697085199885]\n"
     ]
    },
    {
     "name": "stderr",
     "output_type": "stream",
     "text": [
      "Initial filtering of formulas: 100%|█████████████| 2/2 [00:00<00:00, 142.04it/s]\n",
      "Computing chunks: 100%|████████████████████████| 2/2 [00:00<00:00, 90200.09it/s]\n",
      "Splitting the experimental spectrum into chunks: 55902it [00:00, 3050690.65it/s]\n",
      "Deconvolving chunks: 100%|████████████████████████| 1/1 [00:35<00:00, 35.72s/it]\n"
     ]
    },
    {
     "name": "stdout",
     "output_type": "stream",
     "text": [
      "Estimation for 0.03 and 0.29000000000000004 done\n",
      "It took: 35.78881883621216 seconds.\n",
      "[0.47714088763499884, 0.4774810001179988]\n"
     ]
    },
    {
     "name": "stderr",
     "output_type": "stream",
     "text": [
      "Initial filtering of formulas: 100%|█████████████| 2/2 [00:00<00:00, 135.72it/s]\n",
      "Computing chunks: 100%|████████████████████████| 2/2 [00:00<00:00, 77672.30it/s]\n",
      "Splitting the experimental spectrum into chunks: 55902it [00:00, 3000601.25it/s]\n",
      "Deconvolving chunks: 100%|████████████████████████| 1/1 [00:35<00:00, 35.40s/it]\n"
     ]
    },
    {
     "name": "stdout",
     "output_type": "stream",
     "text": [
      "Estimation for 0.03 and 0.3 done\n",
      "It took: 35.47660303115845 seconds.\n",
      "[0.4770320065109988, 0.47728205400799883]\n"
     ]
    },
    {
     "name": "stderr",
     "output_type": "stream",
     "text": [
      "Initial filtering of formulas: 100%|█████████████| 2/2 [00:00<00:00, 143.84it/s]\n",
      "Computing chunks: 100%|████████████████████████| 2/2 [00:00<00:00, 94254.02it/s]\n",
      "Splitting the experimental spectrum into chunks: 55902it [00:00, 3075742.24it/s]\n",
      "Deconvolving chunks: 100%|████████████████████████| 1/1 [00:37<00:00, 37.99s/it]\n"
     ]
    },
    {
     "name": "stdout",
     "output_type": "stream",
     "text": [
      "Estimation for 0.04 and 0.01 done\n",
      "It took: 38.059391260147095 seconds.\n",
      "[0.4981141452509988, 0.49185250670199876]\n"
     ]
    },
    {
     "name": "stderr",
     "output_type": "stream",
     "text": [
      "Initial filtering of formulas: 100%|█████████████| 2/2 [00:00<00:00, 138.92it/s]\n",
      "Computing chunks: 100%|████████████████████████| 2/2 [00:00<00:00, 95325.09it/s]\n",
      "Splitting the experimental spectrum into chunks: 55902it [00:00, 2971058.34it/s]\n",
      "Deconvolving chunks: 100%|████████████████████████| 1/1 [00:44<00:00, 44.66s/it]\n"
     ]
    },
    {
     "name": "stdout",
     "output_type": "stream",
     "text": [
      "Estimation for 0.04 and 0.02 done\n",
      "It took: 44.73858118057251 seconds.\n",
      "[0.5084586386849987, 0.4795172336829988]\n"
     ]
    },
    {
     "name": "stderr",
     "output_type": "stream",
     "text": [
      "Initial filtering of formulas: 100%|█████████████| 2/2 [00:00<00:00, 117.15it/s]\n",
      "Computing chunks: 100%|████████████████████████| 2/2 [00:00<00:00, 50533.78it/s]\n",
      "Splitting the experimental spectrum into chunks: 55902it [00:00, 2320129.65it/s]\n",
      "Deconvolving chunks: 100%|████████████████████████| 1/1 [00:42<00:00, 42.84s/it]\n"
     ]
    },
    {
     "name": "stdout",
     "output_type": "stream",
     "text": [
      "Estimation for 0.04 and 0.03 done\n",
      "It took: 42.93192005157471 seconds.\n",
      "[0.5093301196079988, 0.4791955567019988]\n"
     ]
    },
    {
     "name": "stderr",
     "output_type": "stream",
     "text": [
      "Initial filtering of formulas: 100%|█████████████| 2/2 [00:00<00:00, 141.29it/s]\n",
      "Computing chunks: 100%|████████████████████████| 2/2 [00:00<00:00, 68759.08it/s]\n",
      "Splitting the experimental spectrum into chunks: 55902it [00:00, 2968726.03it/s]\n",
      "Deconvolving chunks: 100%|████████████████████████| 1/1 [00:38<00:00, 38.07s/it]\n"
     ]
    },
    {
     "name": "stdout",
     "output_type": "stream",
     "text": [
      "Estimation for 0.04 and 0.04 done\n",
      "It took: 38.144038915634155 seconds.\n",
      "[0.5093788092159988, 0.4792250331319988]\n"
     ]
    },
    {
     "name": "stderr",
     "output_type": "stream",
     "text": [
      "Initial filtering of formulas: 100%|█████████████| 2/2 [00:00<00:00, 135.03it/s]\n",
      "Computing chunks: 100%|████████████████████████| 2/2 [00:00<00:00, 92182.51it/s]\n",
      "Splitting the experimental spectrum into chunks: 55902it [00:00, 2924404.53it/s]\n",
      "Deconvolving chunks: 100%|████████████████████████| 1/1 [00:39<00:00, 39.89s/it]\n"
     ]
    },
    {
     "name": "stdout",
     "output_type": "stream",
     "text": [
      "Estimation for 0.04 and 0.05 done\n",
      "It took: 39.96487069129944 seconds.\n",
      "[0.5090446654139987, 0.47903126081599884]\n"
     ]
    },
    {
     "name": "stderr",
     "output_type": "stream",
     "text": [
      "Initial filtering of formulas: 100%|█████████████| 2/2 [00:00<00:00, 137.47it/s]\n",
      "Computing chunks: 100%|████████████████████████| 2/2 [00:00<00:00, 57852.47it/s]\n",
      "Splitting the experimental spectrum into chunks: 55902it [00:00, 2869714.00it/s]\n",
      "Deconvolving chunks: 100%|████████████████████████| 1/1 [00:37<00:00, 37.08s/it]\n"
     ]
    },
    {
     "name": "stdout",
     "output_type": "stream",
     "text": [
      "Estimation for 0.04 and 0.060000000000000005 done\n",
      "It took: 37.15052533149719 seconds.\n",
      "[0.5088327444099988, 0.47848188934599883]\n"
     ]
    },
    {
     "name": "stderr",
     "output_type": "stream",
     "text": [
      "Initial filtering of formulas: 100%|█████████████| 2/2 [00:00<00:00, 143.23it/s]\n",
      "Computing chunks: 100%|████████████████████████| 2/2 [00:00<00:00, 94254.02it/s]\n",
      "Splitting the experimental spectrum into chunks: 55902it [00:00, 3023156.63it/s]\n",
      "Deconvolving chunks: 100%|████████████████████████| 1/1 [00:42<00:00, 42.63s/it]\n"
     ]
    },
    {
     "name": "stdout",
     "output_type": "stream",
     "text": [
      "Estimation for 0.04 and 0.06999999999999999 done\n",
      "It took: 42.699716329574585 seconds.\n",
      "[0.5086557439659988, 0.47810505239299883]\n"
     ]
    },
    {
     "name": "stderr",
     "output_type": "stream",
     "text": [
      "Initial filtering of formulas: 100%|█████████████| 2/2 [00:00<00:00, 137.85it/s]\n",
      "Computing chunks: 100%|████████████████████████| 2/2 [00:00<00:00, 44384.17it/s]\n",
      "Splitting the experimental spectrum into chunks: 55902it [00:00, 2898305.07it/s]\n",
      "Deconvolving chunks: 100%|████████████████████████| 1/1 [00:39<00:00, 39.83s/it]\n"
     ]
    },
    {
     "name": "stdout",
     "output_type": "stream",
     "text": [
      "Estimation for 0.04 and 0.08 done\n",
      "It took: 39.90397810935974 seconds.\n",
      "[0.5080697733219988, 0.47798261734099884]\n"
     ]
    },
    {
     "name": "stderr",
     "output_type": "stream",
     "text": [
      "Initial filtering of formulas: 100%|█████████████| 2/2 [00:00<00:00, 143.14it/s]\n",
      "Computing chunks: 100%|████████████████████████| 2/2 [00:00<00:00, 80659.69it/s]\n",
      "Splitting the experimental spectrum into chunks: 55902it [00:00, 2974978.84it/s]\n",
      "Deconvolving chunks: 100%|████████████████████████| 1/1 [00:38<00:00, 38.28s/it]\n"
     ]
    },
    {
     "name": "stdout",
     "output_type": "stream",
     "text": [
      "Estimation for 0.04 and 0.09 done\n",
      "It took: 38.34918475151062 seconds.\n",
      "[0.5060239359259988, 0.47811051452799885]\n"
     ]
    },
    {
     "name": "stderr",
     "output_type": "stream",
     "text": [
      "Initial filtering of formulas: 100%|█████████████| 2/2 [00:00<00:00, 145.19it/s]\n",
      "Computing chunks: 100%|████████████████████████| 2/2 [00:00<00:00, 88301.14it/s]\n",
      "Splitting the experimental spectrum into chunks: 55902it [00:00, 3057453.35it/s]\n",
      "Deconvolving chunks: 100%|████████████████████████| 1/1 [00:37<00:00, 37.28s/it]\n"
     ]
    },
    {
     "name": "stdout",
     "output_type": "stream",
     "text": [
      "Estimation for 0.04 and 0.09999999999999999 done\n",
      "It took: 37.348851680755615 seconds.\n",
      "[0.5052143048279988, 0.4776643514719988]\n"
     ]
    },
    {
     "name": "stderr",
     "output_type": "stream",
     "text": [
      "Initial filtering of formulas: 100%|█████████████| 2/2 [00:00<00:00, 144.73it/s]\n",
      "Computing chunks: 100%|████████████████████████| 2/2 [00:00<00:00, 93206.76it/s]\n",
      "Splitting the experimental spectrum into chunks: 55902it [00:00, 3058729.68it/s]\n",
      "Deconvolving chunks: 100%|████████████████████████| 1/1 [00:48<00:00, 48.23s/it]\n"
     ]
    },
    {
     "name": "stdout",
     "output_type": "stream",
     "text": [
      "Estimation for 0.04 and 0.11 done\n",
      "It took: 48.30617046356201 seconds.\n",
      "[0.5023395148739987, 0.47779535416999885]\n"
     ]
    },
    {
     "name": "stderr",
     "output_type": "stream",
     "text": [
      "Initial filtering of formulas: 100%|██████████████| 2/2 [00:00<00:00, 72.51it/s]\n",
      "Computing chunks: 100%|████████████████████████| 2/2 [00:00<00:00, 38657.18it/s]\n",
      "Splitting the experimental spectrum into chunks: 55902it [00:00, 1741717.29it/s]\n",
      "Deconvolving chunks: 100%|████████████████████████| 1/1 [00:46<00:00, 46.15s/it]\n"
     ]
    },
    {
     "name": "stdout",
     "output_type": "stream",
     "text": [
      "Estimation for 0.04 and 0.12 done\n",
      "It took: 46.2725875377655 seconds.\n",
      "[0.49884753667999876, 0.47859554969499885]\n"
     ]
    },
    {
     "name": "stderr",
     "output_type": "stream",
     "text": [
      "Initial filtering of formulas: 100%|█████████████| 2/2 [00:00<00:00, 143.88it/s]\n",
      "Computing chunks: 100%|███████████████████████| 2/2 [00:00<00:00, 102300.10it/s]\n",
      "Splitting the experimental spectrum into chunks: 55902it [00:00, 3022533.09it/s]\n",
      "Deconvolving chunks: 100%|████████████████████████| 1/1 [00:41<00:00, 41.37s/it]\n"
     ]
    },
    {
     "name": "stdout",
     "output_type": "stream",
     "text": [
      "Estimation for 0.04 and 0.13 done\n",
      "It took: 41.43537187576294 seconds.\n",
      "[0.49328835251499875, 0.4799631106039988]\n"
     ]
    },
    {
     "name": "stderr",
     "output_type": "stream",
     "text": [
      "Initial filtering of formulas: 100%|█████████████| 2/2 [00:00<00:00, 142.19it/s]\n",
      "Computing chunks: 100%|████████████████████████| 2/2 [00:00<00:00, 83886.08it/s]\n",
      "Splitting the experimental spectrum into chunks: 55902it [00:00, 3021676.15it/s]\n",
      "Deconvolving chunks: 100%|████████████████████████| 1/1 [00:37<00:00, 37.31s/it]\n"
     ]
    },
    {
     "name": "stdout",
     "output_type": "stream",
     "text": [
      "Estimation for 0.04 and 0.14 done\n",
      "It took: 37.379868268966675 seconds.\n",
      "[0.49044317669499876, 0.48061759434299883]\n"
     ]
    },
    {
     "name": "stderr",
     "output_type": "stream",
     "text": [
      "Initial filtering of formulas: 100%|█████████████| 2/2 [00:00<00:00, 141.19it/s]\n",
      "Computing chunks: 100%|████████████████████████| 2/2 [00:00<00:00, 99864.38it/s]\n",
      "Splitting the experimental spectrum into chunks: 55902it [00:00, 3053392.14it/s]\n",
      "Deconvolving chunks: 100%|████████████████████████| 1/1 [00:37<00:00, 37.06s/it]\n"
     ]
    },
    {
     "name": "stdout",
     "output_type": "stream",
     "text": [
      "Estimation for 0.04 and 0.15000000000000002 done\n",
      "It took: 37.12919545173645 seconds.\n",
      "[0.4898504053099988, 0.4804651515039988]\n"
     ]
    },
    {
     "name": "stderr",
     "output_type": "stream",
     "text": [
      "Initial filtering of formulas: 100%|█████████████| 2/2 [00:00<00:00, 133.52it/s]\n",
      "Computing chunks: 100%|████████████████████████| 2/2 [00:00<00:00, 97541.95it/s]\n",
      "Splitting the experimental spectrum into chunks: 55902it [00:00, 2896622.22it/s]\n",
      "Deconvolving chunks: 100%|████████████████████████| 1/1 [00:46<00:00, 46.26s/it]\n"
     ]
    },
    {
     "name": "stdout",
     "output_type": "stream",
     "text": [
      "Estimation for 0.04 and 0.16 done\n",
      "It took: 46.33682584762573 seconds.\n",
      "[0.4879982398009988, 0.4804146448869988]\n"
     ]
    },
    {
     "name": "stderr",
     "output_type": "stream",
     "text": [
      "Initial filtering of formulas: 100%|█████████████| 2/2 [00:00<00:00, 116.36it/s]\n",
      "Computing chunks: 100%|████████████████████████| 2/2 [00:00<00:00, 61680.94it/s]\n",
      "Splitting the experimental spectrum into chunks: 55902it [00:00, 2240323.17it/s]\n",
      "Deconvolving chunks: 100%|████████████████████████| 1/1 [00:44<00:00, 44.80s/it]\n"
     ]
    },
    {
     "name": "stdout",
     "output_type": "stream",
     "text": [
      "Estimation for 0.04 and 0.17 done\n",
      "It took: 44.89513611793518 seconds.\n",
      "[0.48618564631399885, 0.48039256290599885]\n"
     ]
    },
    {
     "name": "stderr",
     "output_type": "stream",
     "text": [
      "Initial filtering of formulas: 100%|█████████████| 2/2 [00:00<00:00, 143.66it/s]\n",
      "Computing chunks: 100%|████████████████████████| 2/2 [00:00<00:00, 88301.14it/s]\n",
      "Splitting the experimental spectrum into chunks: 55902it [00:00, 2754128.58it/s]\n",
      "Deconvolving chunks: 100%|████████████████████████| 1/1 [00:36<00:00, 36.49s/it]\n"
     ]
    },
    {
     "name": "stdout",
     "output_type": "stream",
     "text": [
      "Estimation for 0.04 and 0.18000000000000002 done\n",
      "It took: 36.56289839744568 seconds.\n",
      "[0.4856725686219988, 0.48031683275799886]\n"
     ]
    },
    {
     "name": "stderr",
     "output_type": "stream",
     "text": [
      "Initial filtering of formulas: 100%|█████████████| 2/2 [00:00<00:00, 138.73it/s]\n",
      "Computing chunks: 100%|████████████████████████| 2/2 [00:00<00:00, 53773.13it/s]\n",
      "Splitting the experimental spectrum into chunks: 55902it [00:00, 2864140.31it/s]\n",
      "Deconvolving chunks: 100%|████████████████████████| 1/1 [00:36<00:00, 36.91s/it]\n"
     ]
    },
    {
     "name": "stdout",
     "output_type": "stream",
     "text": [
      "Estimation for 0.04 and 0.19 done\n",
      "It took: 36.98255205154419 seconds.\n",
      "[0.48561264501699886, 0.4802260526809988]\n"
     ]
    },
    {
     "name": "stderr",
     "output_type": "stream",
     "text": [
      "Initial filtering of formulas: 100%|█████████████| 2/2 [00:00<00:00, 140.29it/s]\n",
      "Computing chunks: 100%|████████████████████████| 2/2 [00:00<00:00, 91180.52it/s]\n",
      "Splitting the experimental spectrum into chunks: 55902it [00:00, 3005062.25it/s]\n",
      "Deconvolving chunks: 100%|████████████████████████| 1/1 [00:37<00:00, 37.60s/it]\n"
     ]
    },
    {
     "name": "stdout",
     "output_type": "stream",
     "text": [
      "Estimation for 0.04 and 0.2 done\n",
      "It took: 37.671154737472534 seconds.\n",
      "[0.48555764828599884, 0.4801414287799988]\n"
     ]
    },
    {
     "name": "stderr",
     "output_type": "stream",
     "text": [
      "Initial filtering of formulas: 100%|█████████████| 2/2 [00:00<00:00, 142.78it/s]\n",
      "Computing chunks: 100%|████████████████████████| 2/2 [00:00<00:00, 41734.37it/s]\n",
      "Splitting the experimental spectrum into chunks: 55902it [00:00, 3077397.36it/s]\n",
      "Deconvolving chunks: 100%|████████████████████████| 1/1 [00:47<00:00, 47.55s/it]\n"
     ]
    },
    {
     "name": "stdout",
     "output_type": "stream",
     "text": [
      "Estimation for 0.04 and 0.21000000000000002 done\n",
      "It took: 47.6231153011322 seconds.\n",
      "[0.4852455896749988, 0.4801706112129988]\n"
     ]
    },
    {
     "name": "stderr",
     "output_type": "stream",
     "text": [
      "Initial filtering of formulas: 100%|█████████████| 2/2 [00:00<00:00, 120.77it/s]\n",
      "Computing chunks: 100%|████████████████████████| 2/2 [00:00<00:00, 47934.90it/s]\n",
      "Splitting the experimental spectrum into chunks: 55902it [00:00, 2465976.55it/s]\n",
      "Deconvolving chunks: 100%|████████████████████████| 1/1 [00:40<00:00, 40.63s/it]\n"
     ]
    },
    {
     "name": "stdout",
     "output_type": "stream",
     "text": [
      "Estimation for 0.04 and 0.22 done\n",
      "It took: 40.71401858329773 seconds.\n",
      "[0.48496470194999886, 0.4801878164699988]\n"
     ]
    },
    {
     "name": "stderr",
     "output_type": "stream",
     "text": [
      "Initial filtering of formulas: 100%|█████████████| 2/2 [00:00<00:00, 135.97it/s]\n",
      "Computing chunks: 100%|████████████████████████| 2/2 [00:00<00:00, 82241.25it/s]\n",
      "Splitting the experimental spectrum into chunks: 55902it [00:00, 2913213.42it/s]\n",
      "Deconvolving chunks: 100%|████████████████████████| 1/1 [00:36<00:00, 36.97s/it]\n"
     ]
    },
    {
     "name": "stdout",
     "output_type": "stream",
     "text": [
      "Estimation for 0.04 and 0.23 done\n",
      "It took: 37.04193449020386 seconds.\n",
      "[0.4844803438629988, 0.4802246022919988]\n"
     ]
    },
    {
     "name": "stderr",
     "output_type": "stream",
     "text": [
      "Initial filtering of formulas: 100%|█████████████| 2/2 [00:00<00:00, 139.01it/s]\n",
      "Computing chunks: 100%|████████████████████████| 2/2 [00:00<00:00, 86480.49it/s]\n",
      "Splitting the experimental spectrum into chunks: 55902it [00:00, 3087731.54it/s]\n",
      "Deconvolving chunks: 100%|████████████████████████| 1/1 [00:35<00:00, 35.64s/it]\n"
     ]
    },
    {
     "name": "stdout",
     "output_type": "stream",
     "text": [
      "Estimation for 0.04 and 0.24000000000000002 done\n",
      "It took: 35.715598344802856 seconds.\n",
      "[0.48409834172199884, 0.48029370367099883]\n"
     ]
    },
    {
     "name": "stderr",
     "output_type": "stream",
     "text": [
      "Initial filtering of formulas: 100%|█████████████| 2/2 [00:00<00:00, 129.53it/s]\n",
      "Computing chunks: 100%|████████████████████████| 2/2 [00:00<00:00, 38130.04it/s]\n",
      "Splitting the experimental spectrum into chunks: 55902it [00:00, 2785406.90it/s]\n",
      "Deconvolving chunks: 100%|████████████████████████| 1/1 [00:45<00:00, 45.65s/it]\n"
     ]
    },
    {
     "name": "stdout",
     "output_type": "stream",
     "text": [
      "Estimation for 0.04 and 0.25 done\n",
      "It took: 45.72814154624939 seconds.\n",
      "[0.4837737681409988, 0.4803335019269988]\n"
     ]
    },
    {
     "name": "stderr",
     "output_type": "stream",
     "text": [
      "Initial filtering of formulas: 100%|█████████████| 2/2 [00:00<00:00, 141.38it/s]\n",
      "Computing chunks: 100%|████████████████████████| 2/2 [00:00<00:00, 86480.49it/s]\n",
      "Splitting the experimental spectrum into chunks: 55902it [00:00, 3012397.79it/s]\n",
      "Deconvolving chunks: 100%|████████████████████████| 1/1 [00:45<00:00, 45.70s/it]\n"
     ]
    },
    {
     "name": "stdout",
     "output_type": "stream",
     "text": [
      "Estimation for 0.04 and 0.26 done\n",
      "It took: 45.7748498916626 seconds.\n",
      "[0.48336395694699885, 0.4803503212729988]\n"
     ]
    },
    {
     "name": "stderr",
     "output_type": "stream",
     "text": [
      "Initial filtering of formulas: 100%|█████████████| 2/2 [00:00<00:00, 104.02it/s]\n",
      "Computing chunks: 100%|████████████████████████| 2/2 [00:00<00:00, 52758.54it/s]\n",
      "Splitting the experimental spectrum into chunks: 55902it [00:00, 2434458.30it/s]\n",
      "Deconvolving chunks: 100%|████████████████████████| 1/1 [00:38<00:00, 38.11s/it]\n"
     ]
    },
    {
     "name": "stdout",
     "output_type": "stream",
     "text": [
      "Estimation for 0.04 and 0.27 done\n",
      "It took: 38.20340609550476 seconds.\n",
      "[0.48289159227399886, 0.48019650730099883]\n"
     ]
    },
    {
     "name": "stderr",
     "output_type": "stream",
     "text": [
      "Initial filtering of formulas: 100%|█████████████| 2/2 [00:00<00:00, 136.72it/s]\n",
      "Computing chunks: 100%|████████████████████████| 2/2 [00:00<00:00, 87381.33it/s]\n",
      "Splitting the experimental spectrum into chunks: 55902it [00:00, 2987145.12it/s]\n",
      "Deconvolving chunks: 100%|████████████████████████| 1/1 [00:36<00:00, 36.70s/it]\n"
     ]
    },
    {
     "name": "stdout",
     "output_type": "stream",
     "text": [
      "Estimation for 0.04 and 0.28 done\n",
      "It took: 36.77682042121887 seconds.\n",
      "[0.48249496592099883, 0.48009732126099885]\n"
     ]
    },
    {
     "name": "stderr",
     "output_type": "stream",
     "text": [
      "Initial filtering of formulas: 100%|█████████████| 2/2 [00:00<00:00, 141.17it/s]\n",
      "Computing chunks: 100%|████████████████████████| 2/2 [00:00<00:00, 63550.06it/s]\n",
      "Splitting the experimental spectrum into chunks: 55902it [00:00, 2580705.32it/s]\n",
      "Deconvolving chunks: 100%|████████████████████████| 1/1 [00:59<00:00, 59.30s/it]\n"
     ]
    },
    {
     "name": "stdout",
     "output_type": "stream",
     "text": [
      "Estimation for 0.04 and 0.29000000000000004 done\n",
      "It took: 59.376508712768555 seconds.\n",
      "[0.4821748071049988, 0.4799258099709988]\n"
     ]
    },
    {
     "name": "stderr",
     "output_type": "stream",
     "text": [
      "Initial filtering of formulas: 100%|█████████████| 2/2 [00:00<00:00, 145.15it/s]\n",
      "Computing chunks: 100%|████████████████████████| 2/2 [00:00<00:00, 33288.13it/s]\n",
      "Splitting the experimental spectrum into chunks: 55902it [00:00, 2540193.08it/s]\n",
      "Deconvolving chunks: 100%|████████████████████████| 1/1 [00:45<00:00, 45.61s/it]\n"
     ]
    },
    {
     "name": "stdout",
     "output_type": "stream",
     "text": [
      "Estimation for 0.04 and 0.3 done\n",
      "It took: 45.69132375717163 seconds.\n",
      "[0.48164888908899883, 0.4800222540779988]\n"
     ]
    },
    {
     "name": "stderr",
     "output_type": "stream",
     "text": [
      "Initial filtering of formulas: 100%|█████████████| 2/2 [00:00<00:00, 121.47it/s]\n",
      "Computing chunks: 100%|████████████████████████| 2/2 [00:00<00:00, 59074.70it/s]\n",
      "Splitting the experimental spectrum into chunks: 55902it [00:00, 2513291.41it/s]\n",
      "Deconvolving chunks: 100%|████████████████████████| 1/1 [00:42<00:00, 42.97s/it]\n"
     ]
    },
    {
     "name": "stdout",
     "output_type": "stream",
     "text": [
      "Estimation for 0.05 and 0.01 done\n",
      "It took: 43.055022954940796 seconds.\n",
      "[0.4998192564689988, 0.4913159499439988]\n"
     ]
    },
    {
     "name": "stderr",
     "output_type": "stream",
     "text": [
      "Initial filtering of formulas: 100%|█████████████| 2/2 [00:00<00:00, 134.68it/s]\n",
      "Computing chunks: 100%|████████████████████████| 2/2 [00:00<00:00, 79891.50it/s]\n",
      "Splitting the experimental spectrum into chunks: 55902it [00:00, 2956746.31it/s]\n",
      "Deconvolving chunks: 100%|████████████████████████| 1/1 [00:37<00:00, 37.74s/it]\n"
     ]
    },
    {
     "name": "stdout",
     "output_type": "stream",
     "text": [
      "Estimation for 0.05 and 0.02 done\n",
      "It took: 37.81271195411682 seconds.\n",
      "[0.5096603636529988, 0.4795249672729988]\n"
     ]
    },
    {
     "name": "stderr",
     "output_type": "stream",
     "text": [
      "Initial filtering of formulas: 100%|█████████████| 2/2 [00:00<00:00, 143.24it/s]\n",
      "Computing chunks: 100%|████████████████████████| 2/2 [00:00<00:00, 20763.88it/s]\n",
      "Splitting the experimental spectrum into chunks: 55902it [00:00, 2909778.88it/s]\n",
      "Deconvolving chunks: 100%|████████████████████████| 1/1 [00:37<00:00, 37.01s/it]\n"
     ]
    },
    {
     "name": "stdout",
     "output_type": "stream",
     "text": [
      "Estimation for 0.05 and 0.03 done\n",
      "It took: 37.08121991157532 seconds.\n",
      "[0.5104572092619988, 0.47880134674799885]\n"
     ]
    },
    {
     "name": "stderr",
     "output_type": "stream",
     "text": [
      "Initial filtering of formulas: 100%|█████████████| 2/2 [00:00<00:00, 139.40it/s]\n",
      "Computing chunks: 100%|████████████████████████| 2/2 [00:00<00:00, 80659.69it/s]\n",
      "Splitting the experimental spectrum into chunks: 55902it [00:00, 2934102.29it/s]\n",
      "Deconvolving chunks: 100%|████████████████████████| 1/1 [00:37<00:00, 37.10s/it]\n"
     ]
    },
    {
     "name": "stdout",
     "output_type": "stream",
     "text": [
      "Estimation for 0.05 and 0.04 done\n",
      "It took: 37.17718744277954 seconds.\n",
      "[0.5104932446199988, 0.47896389373799886]\n"
     ]
    },
    {
     "name": "stderr",
     "output_type": "stream",
     "text": [
      "Initial filtering of formulas: 100%|█████████████| 2/2 [00:00<00:00, 145.61it/s]\n",
      "Computing chunks: 100%|████████████████████████| 2/2 [00:00<00:00, 98689.51it/s]\n",
      "Splitting the experimental spectrum into chunks: 55902it [00:00, 3059208.58it/s]\n",
      "Deconvolving chunks: 100%|████████████████████████| 1/1 [00:47<00:00, 47.91s/it]\n"
     ]
    },
    {
     "name": "stdout",
     "output_type": "stream",
     "text": [
      "Estimation for 0.05 and 0.05 done\n",
      "It took: 47.982704162597656 seconds.\n",
      "[0.5103326917849987, 0.4791214587789988]\n"
     ]
    },
    {
     "name": "stderr",
     "output_type": "stream",
     "text": [
      "Initial filtering of formulas: 100%|█████████████| 2/2 [00:00<00:00, 101.39it/s]\n",
      "Computing chunks: 100%|████████████████████████| 2/2 [00:00<00:00, 73584.28it/s]\n",
      "Splitting the experimental spectrum into chunks: 55902it [00:00, 2441047.99it/s]\n",
      "Deconvolving chunks: 100%|████████████████████████| 1/1 [00:40<00:00, 40.11s/it]\n"
     ]
    },
    {
     "name": "stdout",
     "output_type": "stream",
     "text": [
      "Estimation for 0.05 and 0.060000000000000005 done\n",
      "It took: 40.20226001739502 seconds.\n",
      "[0.5104745196269987, 0.47886894682299885]\n"
     ]
    },
    {
     "name": "stderr",
     "output_type": "stream",
     "text": [
      "Initial filtering of formulas: 100%|█████████████| 2/2 [00:00<00:00, 135.82it/s]\n",
      "Computing chunks: 100%|████████████████████████| 2/2 [00:00<00:00, 34952.53it/s]\n",
      "Splitting the experimental spectrum into chunks: 55902it [00:00, 2815272.64it/s]\n",
      "Deconvolving chunks: 100%|████████████████████████| 1/1 [00:37<00:00, 37.21s/it]\n"
     ]
    },
    {
     "name": "stdout",
     "output_type": "stream",
     "text": [
      "Estimation for 0.05 and 0.06999999999999999 done\n",
      "It took: 37.28787446022034 seconds.\n",
      "[0.5106277764999988, 0.47842146183299883]\n"
     ]
    },
    {
     "name": "stderr",
     "output_type": "stream",
     "text": [
      "Initial filtering of formulas: 100%|█████████████| 2/2 [00:00<00:00, 132.92it/s]\n",
      "Computing chunks: 100%|████████████████████████| 2/2 [00:00<00:00, 39199.10it/s]\n",
      "Splitting the experimental spectrum into chunks: 55902it [00:00, 2862776.48it/s]\n",
      "Deconvolving chunks: 100%|████████████████████████| 1/1 [00:38<00:00, 38.32s/it]\n"
     ]
    },
    {
     "name": "stdout",
     "output_type": "stream",
     "text": [
      "Estimation for 0.05 and 0.08 done\n",
      "It took: 38.38737750053406 seconds.\n",
      "[0.5099631383359988, 0.4781735598499988]\n"
     ]
    },
    {
     "name": "stderr",
     "output_type": "stream",
     "text": [
      "Initial filtering of formulas: 100%|█████████████| 2/2 [00:00<00:00, 146.79it/s]\n",
      "Computing chunks: 100%|███████████████████████| 2/2 [00:00<00:00, 102300.10it/s]\n",
      "Splitting the experimental spectrum into chunks: 55902it [00:00, 3029210.52it/s]\n",
      "Deconvolving chunks: 100%|████████████████████████| 1/1 [00:39<00:00, 39.22s/it]\n"
     ]
    },
    {
     "name": "stdout",
     "output_type": "stream",
     "text": [
      "Estimation for 0.05 and 0.09 done\n",
      "It took: 39.294371128082275 seconds.\n",
      "[0.5091772663169988, 0.4780399115849988]\n"
     ]
    },
    {
     "name": "stderr",
     "output_type": "stream",
     "text": [
      "Initial filtering of formulas: 100%|██████████████| 2/2 [00:00<00:00, 99.15it/s]\n",
      "Computing chunks: 100%|████████████████████████| 2/2 [00:00<00:00, 28630.06it/s]\n",
      "Splitting the experimental spectrum into chunks: 55902it [00:00, 2178016.24it/s]\n",
      "Deconvolving chunks: 100%|████████████████████████| 1/1 [00:49<00:00, 49.56s/it]\n"
     ]
    },
    {
     "name": "stdout",
     "output_type": "stream",
     "text": [
      "Estimation for 0.05 and 0.09999999999999999 done\n",
      "It took: 49.65819692611694 seconds.\n",
      "[0.5088645852989988, 0.47781074635399884]\n"
     ]
    },
    {
     "name": "stderr",
     "output_type": "stream",
     "text": [
      "Initial filtering of formulas: 100%|█████████████| 2/2 [00:00<00:00, 140.76it/s]\n",
      "Computing chunks: 100%|████████████████████████| 2/2 [00:00<00:00, 66052.03it/s]\n",
      "Splitting the experimental spectrum into chunks: 55902it [00:00, 2815407.86it/s]\n",
      "Deconvolving chunks: 100%|████████████████████████| 1/1 [00:37<00:00, 37.94s/it]\n"
     ]
    },
    {
     "name": "stdout",
     "output_type": "stream",
     "text": [
      "Estimation for 0.05 and 0.11 done\n",
      "It took: 38.012271881103516 seconds.\n",
      "[0.5084048812899988, 0.47748877267299883]\n"
     ]
    },
    {
     "name": "stderr",
     "output_type": "stream",
     "text": [
      "Initial filtering of formulas: 100%|█████████████| 2/2 [00:00<00:00, 140.35it/s]\n",
      "Computing chunks: 100%|████████████████████████| 2/2 [00:00<00:00, 79137.81it/s]\n",
      "Splitting the experimental spectrum into chunks: 55902it [00:00, 2967035.52it/s]\n",
      "Deconvolving chunks: 100%|████████████████████████| 1/1 [00:38<00:00, 38.84s/it]\n"
     ]
    },
    {
     "name": "stdout",
     "output_type": "stream",
     "text": [
      "Estimation for 0.05 and 0.12 done\n",
      "It took: 38.90742230415344 seconds.\n",
      "[0.5062649738959988, 0.47712873073999884]\n"
     ]
    },
    {
     "name": "stderr",
     "output_type": "stream",
     "text": [
      "Initial filtering of formulas: 100%|█████████████| 2/2 [00:00<00:00, 139.39it/s]\n",
      "Computing chunks: 100%|████████████████████████| 2/2 [00:00<00:00, 84733.41it/s]\n",
      "Splitting the experimental spectrum into chunks: 55902it [00:00, 2970681.92it/s]\n",
      "Deconvolving chunks: 100%|████████████████████████| 1/1 [00:37<00:00, 37.58s/it]\n"
     ]
    },
    {
     "name": "stdout",
     "output_type": "stream",
     "text": [
      "Estimation for 0.05 and 0.13 done\n",
      "It took: 37.65161895751953 seconds.\n",
      "[0.5052653265999988, 0.47710235931399886]\n"
     ]
    },
    {
     "name": "stderr",
     "output_type": "stream",
     "text": [
      "Initial filtering of formulas: 100%|█████████████| 2/2 [00:00<00:00, 142.13it/s]\n",
      "Computing chunks: 100%|████████████████████████| 2/2 [00:00<00:00, 91180.52it/s]\n",
      "Splitting the experimental spectrum into chunks: 55902it [00:00, 2975658.44it/s]\n",
      "Deconvolving chunks: 100%|████████████████████████| 1/1 [00:49<00:00, 49.38s/it]\n"
     ]
    },
    {
     "name": "stdout",
     "output_type": "stream",
     "text": [
      "Estimation for 0.05 and 0.14 done\n",
      "It took: 49.455819606781006 seconds.\n",
      "[0.5031665092919988, 0.4776589295229988]\n"
     ]
    },
    {
     "name": "stderr",
     "output_type": "stream",
     "text": [
      "Initial filtering of formulas: 100%|█████████████| 2/2 [00:00<00:00, 130.52it/s]\n",
      "Computing chunks: 100%|████████████████████████| 2/2 [00:00<00:00, 63550.06it/s]\n",
      "Splitting the experimental spectrum into chunks: 55902it [00:00, 2604469.62it/s]\n",
      "Deconvolving chunks: 100%|████████████████████████| 1/1 [00:50<00:00, 50.04s/it]\n"
     ]
    },
    {
     "name": "stdout",
     "output_type": "stream",
     "text": [
      "Estimation for 0.05 and 0.15000000000000002 done\n",
      "It took: 50.12450098991394 seconds.\n",
      "[0.5002977428399987, 0.47835251092299885]\n"
     ]
    },
    {
     "name": "stderr",
     "output_type": "stream",
     "text": [
      "Initial filtering of formulas: 100%|█████████████| 2/2 [00:00<00:00, 141.76it/s]\n",
      "Computing chunks: 100%|████████████████████████| 2/2 [00:00<00:00, 86480.49it/s]\n",
      "Splitting the experimental spectrum into chunks: 55902it [00:00, 2983534.16it/s]\n",
      "Deconvolving chunks: 100%|████████████████████████| 1/1 [00:40<00:00, 40.57s/it]\n"
     ]
    },
    {
     "name": "stdout",
     "output_type": "stream",
     "text": [
      "Estimation for 0.05 and 0.16 done\n",
      "It took: 40.63966202735901 seconds.\n",
      "[0.4951727749599988, 0.4796571821169988]\n"
     ]
    },
    {
     "name": "stderr",
     "output_type": "stream",
     "text": [
      "Initial filtering of formulas: 100%|█████████████| 2/2 [00:00<00:00, 139.08it/s]\n",
      "Computing chunks: 100%|████████████████████████| 2/2 [00:00<00:00, 89240.51it/s]\n",
      "Splitting the experimental spectrum into chunks: 55902it [00:00, 2987259.30it/s]\n",
      "Deconvolving chunks: 100%|████████████████████████| 1/1 [00:42<00:00, 42.35s/it]\n"
     ]
    },
    {
     "name": "stdout",
     "output_type": "stream",
     "text": [
      "Estimation for 0.05 and 0.17 done\n",
      "It took: 42.42010569572449 seconds.\n",
      "[0.4927062670889988, 0.4804665202089988]\n"
     ]
    },
    {
     "name": "stderr",
     "output_type": "stream",
     "text": [
      "Initial filtering of formulas: 100%|█████████████| 2/2 [00:00<00:00, 138.41it/s]\n",
      "Computing chunks: 100%|████████████████████████| 2/2 [00:00<00:00, 93206.76it/s]\n",
      "Splitting the experimental spectrum into chunks: 55902it [00:00, 2864350.24it/s]\n",
      "Deconvolving chunks: 100%|████████████████████████| 1/1 [00:44<00:00, 44.97s/it]\n"
     ]
    },
    {
     "name": "stdout",
     "output_type": "stream",
     "text": [
      "Estimation for 0.05 and 0.18000000000000002 done\n",
      "It took: 45.05417323112488 seconds.\n",
      "[0.4915816519189988, 0.48100743941299884]\n"
     ]
    },
    {
     "name": "stderr",
     "output_type": "stream",
     "text": [
      "Initial filtering of formulas: 100%|█████████████| 2/2 [00:00<00:00, 122.35it/s]\n",
      "Computing chunks: 100%|████████████████████████| 2/2 [00:00<00:00, 30954.27it/s]\n",
      "Splitting the experimental spectrum into chunks: 55902it [00:00, 2253522.31it/s]\n",
      "Deconvolving chunks: 100%|████████████████████████| 1/1 [00:47<00:00, 47.52s/it]\n"
     ]
    },
    {
     "name": "stdout",
     "output_type": "stream",
     "text": [
      "Estimation for 0.05 and 0.19 done\n",
      "It took: 47.61268734931946 seconds.\n",
      "[0.49123429044099876, 0.4811913434869988]\n"
     ]
    },
    {
     "name": "stderr",
     "output_type": "stream",
     "text": [
      "Initial filtering of formulas: 100%|█████████████| 2/2 [00:00<00:00, 135.48it/s]\n",
      "Computing chunks: 100%|████████████████████████| 2/2 [00:00<00:00, 83055.52it/s]\n",
      "Splitting the experimental spectrum into chunks: 55902it [00:00, 2757756.61it/s]\n",
      "Deconvolving chunks: 100%|████████████████████████| 1/1 [00:36<00:00, 36.27s/it]\n"
     ]
    },
    {
     "name": "stdout",
     "output_type": "stream",
     "text": [
      "Estimation for 0.05 and 0.2 done\n",
      "It took: 36.347941875457764 seconds.\n",
      "[0.49066732228299875, 0.48142884446999884]\n"
     ]
    },
    {
     "name": "stderr",
     "output_type": "stream",
     "text": [
      "Initial filtering of formulas: 100%|█████████████| 2/2 [00:00<00:00, 140.10it/s]\n",
      "Computing chunks: 100%|████████████████████████| 2/2 [00:00<00:00, 75573.05it/s]\n",
      "Splitting the experimental spectrum into chunks: 55902it [00:00, 3078771.25it/s]\n",
      "Deconvolving chunks: 100%|████████████████████████| 1/1 [00:36<00:00, 36.53s/it]\n"
     ]
    },
    {
     "name": "stdout",
     "output_type": "stream",
     "text": [
      "Estimation for 0.05 and 0.21000000000000002 done\n",
      "It took: 36.60623621940613 seconds.\n",
      "[0.48984299891799876, 0.48171445937999885]\n"
     ]
    },
    {
     "name": "stderr",
     "output_type": "stream",
     "text": [
      "Initial filtering of formulas: 100%|█████████████| 2/2 [00:00<00:00, 129.84it/s]\n",
      "Computing chunks: 100%|████████████████████████| 2/2 [00:00<00:00, 38836.15it/s]\n",
      "Splitting the experimental spectrum into chunks: 55902it [00:00, 2588797.54it/s]\n",
      "Deconvolving chunks: 100%|████████████████████████| 1/1 [00:37<00:00, 37.73s/it]\n"
     ]
    },
    {
     "name": "stdout",
     "output_type": "stream",
     "text": [
      "Estimation for 0.05 and 0.22 done\n",
      "It took: 37.810320138931274 seconds.\n",
      "[0.48830004550699885, 0.48210619612899885]\n"
     ]
    },
    {
     "name": "stderr",
     "output_type": "stream",
     "text": [
      "Initial filtering of formulas: 100%|█████████████| 2/2 [00:00<00:00, 139.22it/s]\n",
      "Computing chunks: 100%|████████████████████████| 2/2 [00:00<00:00, 94254.02it/s]\n",
      "Splitting the experimental spectrum into chunks: 55902it [00:00, 3051365.58it/s]\n",
      "Deconvolving chunks: 100%|████████████████████████| 1/1 [00:36<00:00, 36.95s/it]\n"
     ]
    },
    {
     "name": "stdout",
     "output_type": "stream",
     "text": [
      "Estimation for 0.05 and 0.23 done\n",
      "It took: 37.03060340881348 seconds.\n",
      "[0.4875561541899988, 0.4822242341499988]\n"
     ]
    },
    {
     "name": "stderr",
     "output_type": "stream",
     "text": [
      "Initial filtering of formulas: 100%|██████████████| 2/2 [00:00<00:00, 86.98it/s]\n",
      "Computing chunks: 100%|████████████████████████| 2/2 [00:00<00:00, 57456.22it/s]\n",
      "Splitting the experimental spectrum into chunks: 55902it [00:00, 2085234.14it/s]\n",
      "Deconvolving chunks: 100%|████████████████████████| 1/1 [00:45<00:00, 45.82s/it]\n"
     ]
    },
    {
     "name": "stdout",
     "output_type": "stream",
     "text": [
      "Estimation for 0.05 and 0.24000000000000002 done\n",
      "It took: 45.937092304229736 seconds.\n",
      "[0.48727471853599885, 0.48215848456899885]\n"
     ]
    },
    {
     "name": "stderr",
     "output_type": "stream",
     "text": [
      "Initial filtering of formulas: 100%|█████████████| 2/2 [00:00<00:00, 143.88it/s]\n",
      "Computing chunks: 100%|████████████████████████| 2/2 [00:00<00:00, 46091.25it/s]\n",
      "Splitting the experimental spectrum into chunks: 55902it [00:00, 2638496.40it/s]\n",
      "Deconvolving chunks: 100%|████████████████████████| 1/1 [00:36<00:00, 36.79s/it]\n"
     ]
    },
    {
     "name": "stdout",
     "output_type": "stream",
     "text": [
      "Estimation for 0.05 and 0.25 done\n",
      "It took: 36.86775183677673 seconds.\n",
      "[0.4872464718319988, 0.48196975939599884]\n"
     ]
    },
    {
     "name": "stderr",
     "output_type": "stream",
     "text": [
      "Initial filtering of formulas: 100%|█████████████| 2/2 [00:00<00:00, 139.34it/s]\n",
      "Computing chunks: 100%|████████████████████████| 2/2 [00:00<00:00, 92182.51it/s]\n",
      "Splitting the experimental spectrum into chunks: 55902it [00:00, 2977661.28it/s]\n",
      "Deconvolving chunks: 100%|████████████████████████| 1/1 [00:37<00:00, 37.61s/it]\n"
     ]
    },
    {
     "name": "stdout",
     "output_type": "stream",
     "text": [
      "Estimation for 0.05 and 0.26 done\n",
      "It took: 37.68419671058655 seconds.\n",
      "[0.48713741254399884, 0.48171435006299884]\n"
     ]
    },
    {
     "name": "stderr",
     "output_type": "stream",
     "text": [
      "Initial filtering of formulas: 100%|█████████████| 2/2 [00:00<00:00, 142.81it/s]\n",
      "Computing chunks: 100%|████████████████████████| 2/2 [00:00<00:00, 99864.38it/s]\n",
      "Splitting the experimental spectrum into chunks: 55902it [00:00, 3046805.74it/s]\n",
      "Deconvolving chunks: 100%|████████████████████████| 1/1 [00:36<00:00, 36.65s/it]\n"
     ]
    },
    {
     "name": "stdout",
     "output_type": "stream",
     "text": [
      "Estimation for 0.05 and 0.27 done\n",
      "It took: 36.72091054916382 seconds.\n",
      "[0.48645238432099885, 0.48179267651499885]\n"
     ]
    },
    {
     "name": "stderr",
     "output_type": "stream",
     "text": [
      "Initial filtering of formulas: 100%|█████████████| 2/2 [00:00<00:00, 147.49it/s]\n",
      "Computing chunks: 100%|████████████████████████| 2/2 [00:00<00:00, 86480.49it/s]\n",
      "Splitting the experimental spectrum into chunks: 55902it [00:00, 2646119.27it/s]\n",
      "Deconvolving chunks: 100%|████████████████████████| 1/1 [00:44<00:00, 44.26s/it]\n"
     ]
    },
    {
     "name": "stdout",
     "output_type": "stream",
     "text": [
      "Estimation for 0.05 and 0.28 done\n",
      "It took: 44.332029581069946 seconds.\n",
      "[0.4858161106839988, 0.4818686762939988]\n"
     ]
    },
    {
     "name": "stderr",
     "output_type": "stream",
     "text": [
      "Initial filtering of formulas: 100%|█████████████| 2/2 [00:00<00:00, 127.62it/s]\n",
      "Computing chunks: 100%|████████████████████████| 2/2 [00:00<00:00, 78398.21it/s]\n",
      "Splitting the experimental spectrum into chunks: 55902it [00:00, 2574584.47it/s]\n",
      "Deconvolving chunks: 100%|████████████████████████| 1/1 [00:45<00:00, 45.12s/it]\n"
     ]
    },
    {
     "name": "stdout",
     "output_type": "stream",
     "text": [
      "Estimation for 0.05 and 0.29000000000000004 done\n",
      "It took: 45.20594620704651 seconds.\n",
      "[0.48510884065099885, 0.48199645541299885]\n"
     ]
    },
    {
     "name": "stderr",
     "output_type": "stream",
     "text": [
      "Initial filtering of formulas: 100%|█████████████| 2/2 [00:00<00:00, 139.06it/s]\n",
      "Computing chunks: 100%|████████████████████████| 2/2 [00:00<00:00, 99864.38it/s]\n",
      "Splitting the experimental spectrum into chunks: 55902it [00:00, 2925207.19it/s]\n",
      "Deconvolving chunks: 100%|████████████████████████| 1/1 [00:36<00:00, 36.28s/it]\n"
     ]
    },
    {
     "name": "stdout",
     "output_type": "stream",
     "text": [
      "Estimation for 0.05 and 0.3 done\n",
      "It took: 36.35424256324768 seconds.\n",
      "[0.48425270183499886, 0.4821186804889988]\n"
     ]
    },
    {
     "name": "stderr",
     "output_type": "stream",
     "text": [
      "Initial filtering of formulas: 100%|█████████████| 2/2 [00:00<00:00, 138.42it/s]\n",
      "Computing chunks: 100%|████████████████████████| 2/2 [00:00<00:00, 93206.76it/s]\n",
      "Splitting the experimental spectrum into chunks: 55902it [00:00, 2903653.03it/s]\n",
      "Deconvolving chunks: 100%|████████████████████████| 1/1 [00:41<00:00, 41.07s/it]\n"
     ]
    },
    {
     "name": "stdout",
     "output_type": "stream",
     "text": [
      "Estimation for 0.060000000000000005 and 0.01 done\n",
      "It took: 41.139392614364624 seconds.\n",
      "[0.5038349900629988, 0.48879699041699876]\n"
     ]
    },
    {
     "name": "stderr",
     "output_type": "stream",
     "text": [
      "Initial filtering of formulas: 100%|█████████████| 2/2 [00:00<00:00, 143.96it/s]\n",
      "Computing chunks: 100%|████████████████████████| 2/2 [00:00<00:00, 37957.50it/s]\n",
      "Splitting the experimental spectrum into chunks: 55902it [00:00, 3098340.06it/s]\n",
      "Deconvolving chunks: 100%|████████████████████████| 1/1 [00:38<00:00, 38.08s/it]\n"
     ]
    },
    {
     "name": "stdout",
     "output_type": "stream",
     "text": [
      "Estimation for 0.060000000000000005 and 0.02 done\n",
      "It took: 38.1488082408905 seconds.\n",
      "[0.5105711095709988, 0.4793822488219988]\n"
     ]
    },
    {
     "name": "stderr",
     "output_type": "stream",
     "text": [
      "Initial filtering of formulas: 100%|█████████████| 2/2 [00:00<00:00, 140.03it/s]\n",
      "Computing chunks: 100%|████████████████████████| 2/2 [00:00<00:00, 62137.84it/s]\n",
      "Splitting the experimental spectrum into chunks: 55902it [00:00, 3050849.43it/s]\n",
      "Deconvolving chunks: 100%|████████████████████████| 1/1 [00:43<00:00, 43.70s/it]\n"
     ]
    },
    {
     "name": "stdout",
     "output_type": "stream",
     "text": [
      "Estimation for 0.060000000000000005 and 0.03 done\n",
      "It took: 43.775121212005615 seconds.\n",
      "[0.5114613370089988, 0.47862205283099885]\n"
     ]
    },
    {
     "name": "stderr",
     "output_type": "stream",
     "text": [
      "Initial filtering of formulas: 100%|█████████████| 2/2 [00:00<00:00, 122.31it/s]\n",
      "Computing chunks: 100%|████████████████████████| 2/2 [00:00<00:00, 54827.50it/s]\n",
      "Splitting the experimental spectrum into chunks: 55902it [00:00, 2480507.61it/s]\n",
      "Deconvolving chunks: 100%|████████████████████████| 1/1 [00:40<00:00, 40.93s/it]\n"
     ]
    },
    {
     "name": "stdout",
     "output_type": "stream",
     "text": [
      "Estimation for 0.060000000000000005 and 0.04 done\n",
      "It took: 41.014400243759155 seconds.\n",
      "[0.5116458889149987, 0.4785920792819988]\n"
     ]
    },
    {
     "name": "stderr",
     "output_type": "stream",
     "text": [
      "Initial filtering of formulas: 100%|█████████████| 2/2 [00:00<00:00, 135.08it/s]\n",
      "Computing chunks: 100%|████████████████████████| 2/2 [00:00<00:00, 83055.52it/s]\n",
      "Splitting the experimental spectrum into chunks: 55902it [00:00, 2914734.44it/s]\n",
      "Deconvolving chunks: 100%|████████████████████████| 1/1 [00:40<00:00, 40.28s/it]\n"
     ]
    },
    {
     "name": "stdout",
     "output_type": "stream",
     "text": [
      "Estimation for 0.060000000000000005 and 0.05 done\n",
      "It took: 40.353782415390015 seconds.\n",
      "[0.5115727733159988, 0.47862231094099883]\n"
     ]
    },
    {
     "name": "stderr",
     "output_type": "stream",
     "text": [
      "Initial filtering of formulas: 100%|█████████████| 2/2 [00:00<00:00, 141.11it/s]\n",
      "Computing chunks: 100%|████████████████████████| 2/2 [00:00<00:00, 84733.41it/s]\n",
      "Splitting the experimental spectrum into chunks: 55902it [00:00, 2919088.96it/s]\n",
      "Deconvolving chunks: 100%|████████████████████████| 1/1 [00:37<00:00, 37.53s/it]\n"
     ]
    },
    {
     "name": "stdout",
     "output_type": "stream",
     "text": [
      "Estimation for 0.060000000000000005 and 0.060000000000000005 done\n",
      "It took: 37.605443239212036 seconds.\n",
      "[0.5117050322669988, 0.4785520562339988]\n"
     ]
    },
    {
     "name": "stderr",
     "output_type": "stream",
     "text": [
      "Initial filtering of formulas: 100%|█████████████| 2/2 [00:00<00:00, 145.03it/s]\n",
      "Computing chunks: 100%|████████████████████████| 2/2 [00:00<00:00, 66576.25it/s]\n",
      "Splitting the experimental spectrum into chunks: 55902it [00:00, 2867467.89it/s]\n",
      "Deconvolving chunks: 100%|████████████████████████| 1/1 [00:36<00:00, 36.33s/it]\n"
     ]
    },
    {
     "name": "stdout",
     "output_type": "stream",
     "text": [
      "Estimation for 0.060000000000000005 and 0.06999999999999999 done\n",
      "It took: 36.39990496635437 seconds.\n",
      "[0.5116685327249988, 0.47845510925999885]\n"
     ]
    },
    {
     "name": "stderr",
     "output_type": "stream",
     "text": [
      "Initial filtering of formulas: 100%|█████████████| 2/2 [00:00<00:00, 144.18it/s]\n",
      "Computing chunks: 100%|████████████████████████| 2/2 [00:00<00:00, 89240.51it/s]\n",
      "Splitting the experimental spectrum into chunks: 55902it [00:00, 2983040.70it/s]\n",
      "Deconvolving chunks: 100%|████████████████████████| 1/1 [00:50<00:00, 50.11s/it]\n"
     ]
    },
    {
     "name": "stdout",
     "output_type": "stream",
     "text": [
      "Estimation for 0.060000000000000005 and 0.08 done\n",
      "It took: 50.184523582458496 seconds.\n",
      "[0.5115049521709988, 0.47846144678599883]\n"
     ]
    },
    {
     "name": "stderr",
     "output_type": "stream",
     "text": [
      "Initial filtering of formulas: 100%|█████████████| 2/2 [00:00<00:00, 110.98it/s]\n",
      "Computing chunks: 100%|████████████████████████| 2/2 [00:00<00:00, 57456.22it/s]\n",
      "Splitting the experimental spectrum into chunks: 55902it [00:00, 2492849.89it/s]\n",
      "Deconvolving chunks: 100%|████████████████████████| 1/1 [00:37<00:00, 37.91s/it]\n"
     ]
    },
    {
     "name": "stdout",
     "output_type": "stream",
     "text": [
      "Estimation for 0.060000000000000005 and 0.09 done\n",
      "It took: 38.00391602516174 seconds.\n",
      "[0.5112458272449988, 0.4784300906069988]\n"
     ]
    },
    {
     "name": "stderr",
     "output_type": "stream",
     "text": [
      "Initial filtering of formulas: 100%|█████████████| 2/2 [00:00<00:00, 137.91it/s]\n",
      "Computing chunks: 100%|████████████████████████| 2/2 [00:00<00:00, 77672.30it/s]\n",
      "Splitting the experimental spectrum into chunks: 55902it [00:00, 2985661.67it/s]\n",
      "Deconvolving chunks: 100%|████████████████████████| 1/1 [00:40<00:00, 40.49s/it]\n"
     ]
    },
    {
     "name": "stdout",
     "output_type": "stream",
     "text": [
      "Estimation for 0.060000000000000005 and 0.09999999999999999 done\n",
      "It took: 40.56242752075195 seconds.\n",
      "[0.5111493855909988, 0.47828119792699886]\n"
     ]
    },
    {
     "name": "stderr",
     "output_type": "stream",
     "text": [
      "Initial filtering of formulas: 100%|█████████████| 2/2 [00:00<00:00, 145.82it/s]\n",
      "Computing chunks: 100%|████████████████████████| 2/2 [00:00<00:00, 96420.78it/s]\n",
      "Splitting the experimental spectrum into chunks: 55902it [00:00, 3019458.13it/s]\n",
      "Deconvolving chunks: 100%|████████████████████████| 1/1 [00:36<00:00, 36.91s/it]\n"
     ]
    },
    {
     "name": "stdout",
     "output_type": "stream",
     "text": [
      "Estimation for 0.060000000000000005 and 0.11 done\n",
      "It took: 36.975276947021484 seconds.\n",
      "[0.5104693836129988, 0.47836678990599885]\n"
     ]
    },
    {
     "name": "stderr",
     "output_type": "stream",
     "text": [
      "Initial filtering of formulas: 100%|█████████████| 2/2 [00:00<00:00, 137.43it/s]\n",
      "Computing chunks: 100%|████████████████████████| 2/2 [00:00<00:00, 90200.09it/s]\n",
      "Splitting the experimental spectrum into chunks: 55902it [00:00, 2929373.47it/s]\n",
      "Deconvolving chunks: 100%|████████████████████████| 1/1 [00:39<00:00, 39.18s/it]\n"
     ]
    },
    {
     "name": "stdout",
     "output_type": "stream",
     "text": [
      "Estimation for 0.060000000000000005 and 0.12 done\n",
      "It took: 39.26231050491333 seconds.\n",
      "[0.5096828775229988, 0.47830459151099886]\n"
     ]
    },
    {
     "name": "stderr",
     "output_type": "stream",
     "text": [
      "Initial filtering of formulas: 100%|█████████████| 2/2 [00:00<00:00, 105.68it/s]\n",
      "Computing chunks: 100%|████████████████████████| 2/2 [00:00<00:00, 74898.29it/s]\n",
      "Splitting the experimental spectrum into chunks: 55902it [00:00, 2180730.68it/s]\n",
      "Deconvolving chunks: 100%|████████████████████████| 1/1 [00:39<00:00, 39.80s/it]\n"
     ]
    },
    {
     "name": "stdout",
     "output_type": "stream",
     "text": [
      "Estimation for 0.060000000000000005 and 0.13 done\n",
      "It took: 39.89502024650574 seconds.\n",
      "[0.5092680211639988, 0.47805479124199884]\n"
     ]
    },
    {
     "name": "stderr",
     "output_type": "stream",
     "text": [
      "Initial filtering of formulas: 100%|█████████████| 2/2 [00:00<00:00, 144.27it/s]\n",
      "Computing chunks: 100%|████████████████████████| 2/2 [00:00<00:00, 85598.04it/s]\n",
      "Splitting the experimental spectrum into chunks: 55902it [00:00, 2939067.43it/s]\n",
      "Deconvolving chunks: 100%|████████████████████████| 1/1 [00:37<00:00, 37.28s/it]\n"
     ]
    },
    {
     "name": "stdout",
     "output_type": "stream",
     "text": [
      "Estimation for 0.060000000000000005 and 0.14 done\n",
      "It took: 37.34659671783447 seconds.\n",
      "[0.5088139974059988, 0.4773417187349988]\n"
     ]
    },
    {
     "name": "stderr",
     "output_type": "stream",
     "text": [
      "Initial filtering of formulas: 100%|█████████████| 2/2 [00:00<00:00, 141.64it/s]\n",
      "Computing chunks: 100%|████████████████████████| 2/2 [00:00<00:00, 93206.76it/s]\n",
      "Splitting the experimental spectrum into chunks: 55902it [00:00, 2945121.80it/s]\n",
      "Deconvolving chunks: 100%|████████████████████████| 1/1 [00:35<00:00, 35.77s/it]\n"
     ]
    },
    {
     "name": "stdout",
     "output_type": "stream",
     "text": [
      "Estimation for 0.060000000000000005 and 0.15000000000000002 done\n",
      "It took: 35.83988618850708 seconds.\n",
      "[0.5066821983679988, 0.47728587629299885]\n"
     ]
    },
    {
     "name": "stderr",
     "output_type": "stream",
     "text": [
      "Initial filtering of formulas: 100%|█████████████| 2/2 [00:00<00:00, 144.74it/s]\n",
      "Computing chunks: 100%|████████████████████████| 2/2 [00:00<00:00, 98689.51it/s]\n",
      "Splitting the experimental spectrum into chunks: 55902it [00:00, 2672357.59it/s]\n",
      "Deconvolving chunks: 100%|████████████████████████| 1/1 [00:38<00:00, 38.09s/it]\n"
     ]
    },
    {
     "name": "stdout",
     "output_type": "stream",
     "text": [
      "Estimation for 0.060000000000000005 and 0.16 done\n",
      "It took: 38.16101574897766 seconds.\n",
      "[0.5056827854729988, 0.47726309257899885]\n"
     ]
    },
    {
     "name": "stderr",
     "output_type": "stream",
     "text": [
      "Initial filtering of formulas: 100%|█████████████| 2/2 [00:00<00:00, 144.51it/s]\n",
      "Computing chunks: 100%|███████████████████████| 2/2 [00:00<00:00, 108942.96it/s]\n",
      "Splitting the experimental spectrum into chunks: 55902it [00:00, 3057533.09it/s]\n",
      "Deconvolving chunks: 100%|████████████████████████| 1/1 [00:42<00:00, 42.79s/it]\n"
     ]
    },
    {
     "name": "stdout",
     "output_type": "stream",
     "text": [
      "Estimation for 0.060000000000000005 and 0.17 done\n",
      "It took: 42.86679553985596 seconds.\n",
      "[0.5030472030149988, 0.4778200238529988]\n"
     ]
    },
    {
     "name": "stderr",
     "output_type": "stream",
     "text": [
      "Initial filtering of formulas: 100%|█████████████| 2/2 [00:00<00:00, 127.03it/s]\n",
      "Computing chunks: 100%|████████████████████████| 2/2 [00:00<00:00, 66576.25it/s]\n",
      "Splitting the experimental spectrum into chunks: 55902it [00:00, 2568464.44it/s]\n",
      "Deconvolving chunks: 100%|████████████████████████| 1/1 [00:44<00:00, 44.81s/it]\n"
     ]
    },
    {
     "name": "stdout",
     "output_type": "stream",
     "text": [
      "Estimation for 0.060000000000000005 and 0.18000000000000002 done\n",
      "It took: 44.8903968334198 seconds.\n",
      "[0.5004765643909987, 0.47840170936299886]\n"
     ]
    },
    {
     "name": "stderr",
     "output_type": "stream",
     "text": [
      "Initial filtering of formulas: 100%|█████████████| 2/2 [00:00<00:00, 139.73it/s]\n",
      "Computing chunks: 100%|████████████████████████| 2/2 [00:00<00:00, 45839.39it/s]\n",
      "Splitting the experimental spectrum into chunks: 55902it [00:00, 2675742.71it/s]\n",
      "Deconvolving chunks: 100%|████████████████████████| 1/1 [00:37<00:00, 37.83s/it]\n"
     ]
    },
    {
     "name": "stdout",
     "output_type": "stream",
     "text": [
      "Estimation for 0.060000000000000005 and 0.19 done\n",
      "It took: 37.90395760536194 seconds.\n",
      "[0.4957334884959988, 0.4796721350809988]\n"
     ]
    },
    {
     "name": "stderr",
     "output_type": "stream",
     "text": [
      "Initial filtering of formulas: 100%|█████████████| 2/2 [00:00<00:00, 133.33it/s]\n",
      "Computing chunks: 100%|████████████████████████| 2/2 [00:00<00:00, 34952.53it/s]\n",
      "Splitting the experimental spectrum into chunks: 55902it [00:00, 2863335.84it/s]\n",
      "Deconvolving chunks: 100%|████████████████████████| 1/1 [00:37<00:00, 37.64s/it]\n"
     ]
    },
    {
     "name": "stdout",
     "output_type": "stream",
     "text": [
      "Estimation for 0.060000000000000005 and 0.2 done\n",
      "It took: 37.72029662132263 seconds.\n",
      "[0.4931777721229988, 0.4804464262159988]\n"
     ]
    },
    {
     "name": "stderr",
     "output_type": "stream",
     "text": [
      "Initial filtering of formulas: 100%|█████████████| 2/2 [00:00<00:00, 136.66it/s]\n",
      "Computing chunks: 100%|████████████████████████| 2/2 [00:00<00:00, 91180.52it/s]\n",
      "Splitting the experimental spectrum into chunks: 55902it [00:00, 2849243.94it/s]\n",
      "Deconvolving chunks: 100%|████████████████████████| 1/1 [00:37<00:00, 37.53s/it]\n"
     ]
    },
    {
     "name": "stdout",
     "output_type": "stream",
     "text": [
      "Estimation for 0.060000000000000005 and 0.21000000000000002 done\n",
      "It took: 37.60037970542908 seconds.\n",
      "[0.4920354473459988, 0.48107612316799886]\n"
     ]
    },
    {
     "name": "stderr",
     "output_type": "stream",
     "text": [
      "Initial filtering of formulas: 100%|█████████████| 2/2 [00:00<00:00, 138.20it/s]\n",
      "Computing chunks: 100%|████████████████████████| 2/2 [00:00<00:00, 99864.38it/s]\n",
      "Splitting the experimental spectrum into chunks: 55902it [00:00, 2740159.66it/s]\n",
      "Deconvolving chunks: 100%|████████████████████████| 1/1 [00:48<00:00, 48.61s/it]\n"
     ]
    },
    {
     "name": "stdout",
     "output_type": "stream",
     "text": [
      "Estimation for 0.060000000000000005 and 0.22 done\n",
      "It took: 48.68805766105652 seconds.\n",
      "[0.4916393099339988, 0.48127882203399885]\n"
     ]
    },
    {
     "name": "stderr",
     "output_type": "stream",
     "text": [
      "Initial filtering of formulas: 100%|█████████████| 2/2 [00:00<00:00, 118.19it/s]\n",
      "Computing chunks: 100%|████████████████████████| 2/2 [00:00<00:00, 69327.34it/s]\n",
      "Splitting the experimental spectrum into chunks: 55902it [00:00, 2572014.46it/s]\n",
      "Deconvolving chunks: 100%|████████████████████████| 1/1 [00:39<00:00, 39.21s/it]\n"
     ]
    },
    {
     "name": "stdout",
     "output_type": "stream",
     "text": [
      "Estimation for 0.060000000000000005 and 0.23 done\n",
      "It took: 39.29561114311218 seconds.\n",
      "[0.4912412578089988, 0.48143009786999885]\n"
     ]
    },
    {
     "name": "stderr",
     "output_type": "stream",
     "text": [
      "Initial filtering of formulas: 100%|█████████████| 2/2 [00:00<00:00, 138.91it/s]\n",
      "Computing chunks: 100%|████████████████████████| 2/2 [00:00<00:00, 88301.14it/s]\n",
      "Splitting the experimental spectrum into chunks: 55902it [00:00, 2987221.24it/s]\n",
      "Deconvolving chunks: 100%|████████████████████████| 1/1 [00:40<00:00, 40.41s/it]\n"
     ]
    },
    {
     "name": "stdout",
     "output_type": "stream",
     "text": [
      "Estimation for 0.060000000000000005 and 0.24000000000000002 done\n",
      "It took: 40.48409461975098 seconds.\n",
      "[0.4904246513599988, 0.48176054546499886]\n"
     ]
    },
    {
     "name": "stderr",
     "output_type": "stream",
     "text": [
      "Initial filtering of formulas: 100%|█████████████| 2/2 [00:00<00:00, 133.61it/s]\n",
      "Computing chunks: 100%|███████████████████████| 2/2 [00:00<00:00, 107546.26it/s]\n",
      "Splitting the experimental spectrum into chunks: 55902it [00:00, 2625173.34it/s]\n",
      "Deconvolving chunks: 100%|████████████████████████| 1/1 [00:37<00:00, 37.64s/it]\n"
     ]
    },
    {
     "name": "stdout",
     "output_type": "stream",
     "text": [
      "Estimation for 0.060000000000000005 and 0.25 done\n",
      "It took: 37.716001749038696 seconds.\n",
      "[0.4894564912229988, 0.4821543667709988]\n"
     ]
    },
    {
     "name": "stderr",
     "output_type": "stream",
     "text": [
      "Initial filtering of formulas: 100%|█████████████| 2/2 [00:00<00:00, 128.54it/s]\n",
      "Computing chunks: 100%|████████████████████████| 2/2 [00:00<00:00, 81442.80it/s]\n",
      "Splitting the experimental spectrum into chunks: 55902it [00:00, 2885180.73it/s]\n",
      "Deconvolving chunks: 100%|████████████████████████| 1/1 [00:38<00:00, 38.02s/it]\n"
     ]
    },
    {
     "name": "stdout",
     "output_type": "stream",
     "text": [
      "Estimation for 0.060000000000000005 and 0.26 done\n",
      "It took: 38.103540897369385 seconds.\n",
      "[0.48850830790399885, 0.48265797188799886]\n"
     ]
    },
    {
     "name": "stderr",
     "output_type": "stream",
     "text": [
      "Initial filtering of formulas: 100%|█████████████| 2/2 [00:00<00:00, 118.26it/s]\n",
      "Computing chunks: 100%|████████████████████████| 2/2 [00:00<00:00, 57456.22it/s]\n",
      "Splitting the experimental spectrum into chunks: 55902it [00:00, 1507942.52it/s]\n",
      "Deconvolving chunks: 100%|████████████████████████| 1/1 [00:46<00:00, 46.22s/it]\n"
     ]
    },
    {
     "name": "stdout",
     "output_type": "stream",
     "text": [
      "Estimation for 0.060000000000000005 and 0.27 done\n",
      "It took: 46.32670450210571 seconds.\n",
      "[0.48816272873999883, 0.48289979243399883]\n"
     ]
    },
    {
     "name": "stderr",
     "output_type": "stream",
     "text": [
      "Initial filtering of formulas: 100%|█████████████| 2/2 [00:00<00:00, 135.64it/s]\n",
      "Computing chunks: 100%|████████████████████████| 2/2 [00:00<00:00, 93206.76it/s]\n",
      "Splitting the experimental spectrum into chunks: 55902it [00:00, 2645193.84it/s]\n",
      "Deconvolving chunks: 100%|████████████████████████| 1/1 [00:44<00:00, 44.41s/it]\n"
     ]
    },
    {
     "name": "stdout",
     "output_type": "stream",
     "text": [
      "Estimation for 0.060000000000000005 and 0.28 done\n",
      "It took: 44.480839014053345 seconds.\n",
      "[0.4879818980719988, 0.48306661870799883]\n"
     ]
    },
    {
     "name": "stderr",
     "output_type": "stream",
     "text": [
      "Initial filtering of formulas: 100%|█████████████| 2/2 [00:00<00:00, 145.21it/s]\n",
      "Computing chunks: 100%|████████████████████████| 2/2 [00:00<00:00, 78398.21it/s]\n",
      "Splitting the experimental spectrum into chunks: 55902it [00:00, 2965309.43it/s]\n",
      "Deconvolving chunks: 100%|████████████████████████| 1/1 [00:36<00:00, 36.08s/it]\n"
     ]
    },
    {
     "name": "stdout",
     "output_type": "stream",
     "text": [
      "Estimation for 0.060000000000000005 and 0.29000000000000004 done\n",
      "It took: 36.150107860565186 seconds.\n",
      "[0.48795600225999886, 0.48313287062099886]\n"
     ]
    },
    {
     "name": "stderr",
     "output_type": "stream",
     "text": [
      "Initial filtering of formulas: 100%|█████████████| 2/2 [00:00<00:00, 135.75it/s]\n",
      "Computing chunks: 100%|████████████████████████| 2/2 [00:00<00:00, 94254.02it/s]\n",
      "Splitting the experimental spectrum into chunks: 55902it [00:00, 2911115.58it/s]\n",
      "Deconvolving chunks: 100%|████████████████████████| 1/1 [00:37<00:00, 37.07s/it]\n"
     ]
    },
    {
     "name": "stdout",
     "output_type": "stream",
     "text": [
      "Estimation for 0.060000000000000005 and 0.3 done\n",
      "It took: 37.14499878883362 seconds.\n",
      "[0.48790972746499883, 0.48315022726299883]\n"
     ]
    },
    {
     "name": "stderr",
     "output_type": "stream",
     "text": [
      "Initial filtering of formulas: 100%|█████████████| 2/2 [00:00<00:00, 146.39it/s]\n",
      "Computing chunks: 100%|███████████████████████| 2/2 [00:00<00:00, 103563.06it/s]\n",
      "Splitting the experimental spectrum into chunks: 55902it [00:00, 2911043.30it/s]\n",
      "Deconvolving chunks: 100%|████████████████████████| 1/1 [00:42<00:00, 42.75s/it]\n"
     ]
    },
    {
     "name": "stdout",
     "output_type": "stream",
     "text": [
      "Estimation for 0.06999999999999999 and 0.01 done\n",
      "It took: 42.82344341278076 seconds.\n",
      "[0.5046451738719988, 0.48939038651599875]\n"
     ]
    },
    {
     "name": "stderr",
     "output_type": "stream",
     "text": [
      "Initial filtering of formulas: 100%|█████████████| 2/2 [00:00<00:00, 119.07it/s]\n",
      "Computing chunks: 100%|████████████████████████| 2/2 [00:00<00:00, 46863.73it/s]\n",
      "Splitting the experimental spectrum into chunks: 55902it [00:00, 2433902.34it/s]\n",
      "Deconvolving chunks: 100%|████████████████████████| 1/1 [00:46<00:00, 46.83s/it]\n"
     ]
    },
    {
     "name": "stdout",
     "output_type": "stream",
     "text": [
      "Estimation for 0.06999999999999999 and 0.02 done\n",
      "It took: 46.92648911476135 seconds.\n",
      "[0.5125927985929988, 0.47897906068299884]\n"
     ]
    },
    {
     "name": "stderr",
     "output_type": "stream",
     "text": [
      "Initial filtering of formulas: 100%|█████████████| 2/2 [00:00<00:00, 141.72it/s]\n",
      "Computing chunks: 100%|████████████████████████| 2/2 [00:00<00:00, 98689.51it/s]\n",
      "Splitting the experimental spectrum into chunks: 55902it [00:00, 3072839.98it/s]\n",
      "Deconvolving chunks: 100%|████████████████████████| 1/1 [00:38<00:00, 38.55s/it]\n"
     ]
    },
    {
     "name": "stdout",
     "output_type": "stream",
     "text": [
      "Estimation for 0.06999999999999999 and 0.03 done\n",
      "It took: 38.624926805496216 seconds.\n",
      "[0.5127417372199988, 0.47815982710699884]\n"
     ]
    },
    {
     "name": "stderr",
     "output_type": "stream",
     "text": [
      "Initial filtering of formulas: 100%|█████████████| 2/2 [00:00<00:00, 138.03it/s]\n",
      "Computing chunks: 100%|████████████████████████| 2/2 [00:00<00:00, 96420.78it/s]\n",
      "Splitting the experimental spectrum into chunks: 55902it [00:00, 2966059.66it/s]\n",
      "Deconvolving chunks: 100%|████████████████████████| 1/1 [00:38<00:00, 38.77s/it]\n"
     ]
    },
    {
     "name": "stdout",
     "output_type": "stream",
     "text": [
      "Estimation for 0.06999999999999999 and 0.04 done\n",
      "It took: 38.84108018875122 seconds.\n",
      "[0.5126354206639988, 0.47817501421499886]\n"
     ]
    },
    {
     "name": "stderr",
     "output_type": "stream",
     "text": [
      "Initial filtering of formulas: 100%|█████████████| 2/2 [00:00<00:00, 142.31it/s]\n",
      "Computing chunks: 100%|███████████████████████| 2/2 [00:00<00:00, 106184.91it/s]\n",
      "Splitting the experimental spectrum into chunks: 55902it [00:00, 3054625.28it/s]\n",
      "Deconvolving chunks: 100%|████████████████████████| 1/1 [00:36<00:00, 36.54s/it]\n"
     ]
    },
    {
     "name": "stdout",
     "output_type": "stream",
     "text": [
      "Estimation for 0.06999999999999999 and 0.05 done\n",
      "It took: 36.60830783843994 seconds.\n",
      "[0.5124542293429988, 0.4783461655099988]\n"
     ]
    },
    {
     "name": "stderr",
     "output_type": "stream",
     "text": [
      "Initial filtering of formulas: 100%|█████████████| 2/2 [00:00<00:00, 139.77it/s]\n",
      "Computing chunks: 100%|████████████████████████| 2/2 [00:00<00:00, 82241.25it/s]\n",
      "Splitting the experimental spectrum into chunks: 55902it [00:00, 3013210.76it/s]\n",
      "Deconvolving chunks: 100%|████████████████████████| 1/1 [00:43<00:00, 43.63s/it]\n"
     ]
    },
    {
     "name": "stdout",
     "output_type": "stream",
     "text": [
      "Estimation for 0.06999999999999999 and 0.060000000000000005 done\n",
      "It took: 43.70418834686279 seconds.\n",
      "[0.5124189685469988, 0.47830006776699885]\n"
     ]
    },
    {
     "name": "stderr",
     "output_type": "stream",
     "text": [
      "Initial filtering of formulas: 100%|█████████████| 2/2 [00:00<00:00, 110.63it/s]\n",
      "Computing chunks: 100%|████████████████████████| 2/2 [00:00<00:00, 49932.19it/s]\n",
      "Splitting the experimental spectrum into chunks: 55902it [00:00, 2364299.87it/s]\n",
      "Deconvolving chunks: 100%|████████████████████████| 1/1 [00:43<00:00, 43.88s/it]\n"
     ]
    },
    {
     "name": "stdout",
     "output_type": "stream",
     "text": [
      "Estimation for 0.06999999999999999 and 0.06999999999999999 done\n",
      "It took: 43.96790051460266 seconds.\n",
      "[0.5124295879739987, 0.47818273379399884]\n"
     ]
    },
    {
     "name": "stderr",
     "output_type": "stream",
     "text": [
      "Initial filtering of formulas: 100%|█████████████| 2/2 [00:00<00:00, 140.81it/s]\n",
      "Computing chunks: 100%|████████████████████████| 2/2 [00:00<00:00, 83886.08it/s]\n",
      "Splitting the experimental spectrum into chunks: 55902it [00:00, 2983572.12it/s]\n",
      "Deconvolving chunks: 100%|████████████████████████| 1/1 [00:38<00:00, 38.90s/it]\n"
     ]
    },
    {
     "name": "stdout",
     "output_type": "stream",
     "text": [
      "Estimation for 0.06999999999999999 and 0.08 done\n",
      "It took: 38.977378129959106 seconds.\n",
      "[0.5121997329909987, 0.47827774810299883]\n"
     ]
    },
    {
     "name": "stderr",
     "output_type": "stream",
     "text": [
      "Initial filtering of formulas: 100%|█████████████| 2/2 [00:00<00:00, 142.18it/s]\n",
      "Computing chunks: 100%|████████████████████████| 2/2 [00:00<00:00, 99864.38it/s]\n",
      "Splitting the experimental spectrum into chunks: 55902it [00:00, 2685519.04it/s]\n",
      "Deconvolving chunks: 100%|████████████████████████| 1/1 [00:38<00:00, 38.95s/it]\n"
     ]
    },
    {
     "name": "stdout",
     "output_type": "stream",
     "text": [
      "Estimation for 0.06999999999999999 and 0.09 done\n",
      "It took: 39.01940989494324 seconds.\n",
      "[0.5121213692399987, 0.4782348961969988]\n"
     ]
    },
    {
     "name": "stderr",
     "output_type": "stream",
     "text": [
      "Initial filtering of formulas: 100%|█████████████| 2/2 [00:00<00:00, 134.33it/s]\n",
      "Computing chunks: 100%|████████████████████████| 2/2 [00:00<00:00, 92182.51it/s]\n",
      "Splitting the experimental spectrum into chunks: 55902it [00:00, 2898878.41it/s]\n",
      "Deconvolving chunks: 100%|████████████████████████| 1/1 [00:39<00:00, 39.35s/it]\n"
     ]
    },
    {
     "name": "stdout",
     "output_type": "stream",
     "text": [
      "Estimation for 0.06999999999999999 and 0.09999999999999999 done\n",
      "It took: 39.41743540763855 seconds.\n",
      "[0.5118967009339987, 0.47834757219299884]\n"
     ]
    },
    {
     "name": "stderr",
     "output_type": "stream",
     "text": [
      "Initial filtering of formulas: 100%|█████████████| 2/2 [00:00<00:00, 137.82it/s]\n",
      "Computing chunks: 100%|████████████████████████| 2/2 [00:00<00:00, 43018.50it/s]\n",
      "Splitting the experimental spectrum into chunks: 55902it [00:00, 2837795.10it/s]\n",
      "Deconvolving chunks: 100%|████████████████████████| 1/1 [00:50<00:00, 50.85s/it]\n"
     ]
    },
    {
     "name": "stdout",
     "output_type": "stream",
     "text": [
      "Estimation for 0.06999999999999999 and 0.11 done\n",
      "It took: 50.9276340007782 seconds.\n",
      "[0.5117046101279987, 0.47834951642499884]\n"
     ]
    },
    {
     "name": "stderr",
     "output_type": "stream",
     "text": [
      "Initial filtering of formulas: 100%|█████████████| 2/2 [00:00<00:00, 114.34it/s]\n",
      "Computing chunks: 100%|████████████████████████| 2/2 [00:00<00:00, 74235.47it/s]\n",
      "Splitting the experimental spectrum into chunks: 55902it [00:00, 2164384.91it/s]\n",
      "Deconvolving chunks: 100%|████████████████████████| 1/1 [00:38<00:00, 38.16s/it]\n"
     ]
    },
    {
     "name": "stdout",
     "output_type": "stream",
     "text": [
      "Estimation for 0.06999999999999999 and 0.12 done\n",
      "It took: 38.251285791397095 seconds.\n",
      "[0.5114395610929988, 0.47824169889999885]\n"
     ]
    },
    {
     "name": "stderr",
     "output_type": "stream",
     "text": [
      "Initial filtering of formulas: 100%|█████████████| 2/2 [00:00<00:00, 141.15it/s]\n",
      "Computing chunks: 100%|████████████████████████| 2/2 [00:00<00:00, 94254.02it/s]\n",
      "Splitting the experimental spectrum into chunks: 55902it [00:00, 2943125.54it/s]\n",
      "Deconvolving chunks: 100%|████████████████████████| 1/1 [00:35<00:00, 35.84s/it]\n"
     ]
    },
    {
     "name": "stdout",
     "output_type": "stream",
     "text": [
      "Estimation for 0.06999999999999999 and 0.13 done\n",
      "It took: 35.91778612136841 seconds.\n",
      "[0.5109670004649988, 0.47822144788699883]\n"
     ]
    },
    {
     "name": "stderr",
     "output_type": "stream",
     "text": [
      "Initial filtering of formulas: 100%|█████████████| 2/2 [00:00<00:00, 141.66it/s]\n",
      "Computing chunks: 100%|████████████████████████| 2/2 [00:00<00:00, 93206.76it/s]\n",
      "Splitting the experimental spectrum into chunks: 55902it [00:00, 3046172.40it/s]\n",
      "Deconvolving chunks: 100%|████████████████████████| 1/1 [00:40<00:00, 40.38s/it]\n"
     ]
    },
    {
     "name": "stdout",
     "output_type": "stream",
     "text": [
      "Estimation for 0.06999999999999999 and 0.14 done\n",
      "It took: 40.45147252082825 seconds.\n",
      "[0.5101547920769988, 0.47822664605399884]\n"
     ]
    },
    {
     "name": "stderr",
     "output_type": "stream",
     "text": [
      "Initial filtering of formulas: 100%|█████████████| 2/2 [00:00<00:00, 142.99it/s]\n",
      "Computing chunks: 100%|███████████████████████| 2/2 [00:00<00:00, 106184.91it/s]\n",
      "Splitting the experimental spectrum into chunks: 55902it [00:00, 2680177.66it/s]\n",
      "Deconvolving chunks: 100%|████████████████████████| 1/1 [00:37<00:00, 37.16s/it]\n"
     ]
    },
    {
     "name": "stdout",
     "output_type": "stream",
     "text": [
      "Estimation for 0.06999999999999999 and 0.15000000000000002 done\n",
      "It took: 37.23432445526123 seconds.\n",
      "[0.5097253620239988, 0.4781168309039988]\n"
     ]
    },
    {
     "name": "stderr",
     "output_type": "stream",
     "text": [
      "Initial filtering of formulas: 100%|██████████████| 2/2 [00:00<00:00, 86.58it/s]\n",
      "Computing chunks: 100%|████████████████████████| 2/2 [00:00<00:00, 30504.03it/s]\n",
      "Splitting the experimental spectrum into chunks: 55902it [00:00, 1836891.24it/s]\n",
      "Deconvolving chunks: 100%|████████████████████████| 1/1 [00:48<00:00, 48.40s/it]\n"
     ]
    },
    {
     "name": "stdout",
     "output_type": "stream",
     "text": [
      "Estimation for 0.06999999999999999 and 0.16 done\n",
      "It took: 48.51151704788208 seconds.\n",
      "[0.5091808527139988, 0.4780634914849988]\n"
     ]
    },
    {
     "name": "stderr",
     "output_type": "stream",
     "text": [
      "Initial filtering of formulas: 100%|█████████████| 2/2 [00:00<00:00, 136.66it/s]\n",
      "Computing chunks: 100%|████████████████████████| 2/2 [00:00<00:00, 51463.85it/s]\n",
      "Splitting the experimental spectrum into chunks: 55902it [00:00, 2812267.40it/s]\n",
      "Deconvolving chunks: 100%|████████████████████████| 1/1 [00:37<00:00, 37.11s/it]\n"
     ]
    },
    {
     "name": "stdout",
     "output_type": "stream",
     "text": [
      "Estimation for 0.06999999999999999 and 0.17 done\n",
      "It took: 37.18897366523743 seconds.\n",
      "[0.5087658499089988, 0.47740271305399884]\n"
     ]
    },
    {
     "name": "stderr",
     "output_type": "stream",
     "text": [
      "Initial filtering of formulas: 100%|█████████████| 2/2 [00:00<00:00, 127.04it/s]\n",
      "Computing chunks: 100%|████████████████████████| 2/2 [00:00<00:00, 41120.63it/s]\n",
      "Splitting the experimental spectrum into chunks: 55902it [00:00, 2931057.97it/s]\n",
      "Deconvolving chunks: 100%|████████████████████████| 1/1 [00:37<00:00, 37.14s/it]\n"
     ]
    },
    {
     "name": "stdout",
     "output_type": "stream",
     "text": [
      "Estimation for 0.06999999999999999 and 0.18000000000000002 done\n",
      "It took: 37.21306562423706 seconds.\n",
      "[0.5068371887759988, 0.4773873045459988]\n"
     ]
    },
    {
     "name": "stderr",
     "output_type": "stream",
     "text": [
      "Initial filtering of formulas: 100%|█████████████| 2/2 [00:00<00:00, 135.67it/s]\n",
      "Computing chunks: 100%|████████████████████████| 2/2 [00:00<00:00, 93206.76it/s]\n",
      "Splitting the experimental spectrum into chunks: 55902it [00:00, 2905668.11it/s]\n",
      "Deconvolving chunks: 100%|████████████████████████| 1/1 [00:37<00:00, 37.56s/it]\n"
     ]
    },
    {
     "name": "stdout",
     "output_type": "stream",
     "text": [
      "Estimation for 0.06999999999999999 and 0.19 done\n",
      "It took: 37.62915301322937 seconds.\n",
      "[0.5059457046439988, 0.47741573493999884]\n"
     ]
    },
    {
     "name": "stderr",
     "output_type": "stream",
     "text": [
      "Initial filtering of formulas: 100%|█████████████| 2/2 [00:00<00:00, 144.35it/s]\n",
      "Computing chunks: 100%|████████████████████████| 2/2 [00:00<00:00, 91180.52it/s]\n",
      "Splitting the experimental spectrum into chunks: 55902it [00:00, 2962237.47it/s]\n",
      "Deconvolving chunks: 100%|████████████████████████| 1/1 [00:38<00:00, 38.66s/it]\n"
     ]
    },
    {
     "name": "stdout",
     "output_type": "stream",
     "text": [
      "Estimation for 0.06999999999999999 and 0.2 done\n",
      "It took: 38.74113917350769 seconds.\n",
      "[0.5033750491679988, 0.4779133553059988]\n"
     ]
    },
    {
     "name": "stderr",
     "output_type": "stream",
     "text": [
      "Initial filtering of formulas: 100%|█████████████| 2/2 [00:00<00:00, 111.54it/s]\n",
      "Computing chunks: 100%|████████████████████████| 2/2 [00:00<00:00, 37282.70it/s]\n",
      "Splitting the experimental spectrum into chunks: 55902it [00:00, 1669205.67it/s]\n",
      "Deconvolving chunks: 100%|████████████████████████| 1/1 [00:44<00:00, 44.83s/it]\n"
     ]
    },
    {
     "name": "stdout",
     "output_type": "stream",
     "text": [
      "Estimation for 0.06999999999999999 and 0.21000000000000002 done\n",
      "It took: 44.933992862701416 seconds.\n",
      "[0.4997982965599988, 0.47867881453999883]\n"
     ]
    },
    {
     "name": "stderr",
     "output_type": "stream",
     "text": [
      "Initial filtering of formulas: 100%|█████████████| 2/2 [00:00<00:00, 142.66it/s]\n",
      "Computing chunks: 100%|████████████████████████| 2/2 [00:00<00:00, 88301.14it/s]\n",
      "Splitting the experimental spectrum into chunks: 55902it [00:00, 2962611.76it/s]\n",
      "Deconvolving chunks: 100%|████████████████████████| 1/1 [00:36<00:00, 36.05s/it]\n"
     ]
    },
    {
     "name": "stdout",
     "output_type": "stream",
     "text": [
      "Estimation for 0.06999999999999999 and 0.22 done\n",
      "It took: 36.12059545516968 seconds.\n",
      "[0.49613962733599876, 0.47978711245899885]\n"
     ]
    },
    {
     "name": "stderr",
     "output_type": "stream",
     "text": [
      "Initial filtering of formulas: 100%|█████████████| 2/2 [00:00<00:00, 143.11it/s]\n",
      "Computing chunks: 100%|████████████████████████| 2/2 [00:00<00:00, 82241.25it/s]\n",
      "Splitting the experimental spectrum into chunks: 55902it [00:00, 2908407.33it/s]\n",
      "Deconvolving chunks: 100%|████████████████████████| 1/1 [00:37<00:00, 37.26s/it]\n"
     ]
    },
    {
     "name": "stdout",
     "output_type": "stream",
     "text": [
      "Estimation for 0.06999999999999999 and 0.23 done\n",
      "It took: 37.33244013786316 seconds.\n",
      "[0.49484422092199876, 0.48036176410299886]\n"
     ]
    },
    {
     "name": "stderr",
     "output_type": "stream",
     "text": [
      "Initial filtering of formulas: 100%|█████████████| 2/2 [00:00<00:00, 143.97it/s]\n",
      "Computing chunks: 100%|████████████████████████| 2/2 [00:00<00:00, 91180.52it/s]\n",
      "Splitting the experimental spectrum into chunks: 55902it [00:00, 2680698.58it/s]\n",
      "Deconvolving chunks: 100%|████████████████████████| 1/1 [00:37<00:00, 37.38s/it]\n"
     ]
    },
    {
     "name": "stdout",
     "output_type": "stream",
     "text": [
      "Estimation for 0.06999999999999999 and 0.24000000000000002 done\n",
      "It took: 37.4565806388855 seconds.\n",
      "[0.4933163975169988, 0.48098370023099885]\n"
     ]
    },
    {
     "name": "stderr",
     "output_type": "stream",
     "text": [
      "Initial filtering of formulas: 100%|█████████████| 2/2 [00:00<00:00, 145.08it/s]\n",
      "Computing chunks: 100%|███████████████████████| 2/2 [00:00<00:00, 101067.57it/s]\n",
      "Splitting the experimental spectrum into chunks: 55902it [00:00, 3063245.26it/s]\n",
      "Deconvolving chunks: 100%|████████████████████████| 1/1 [00:41<00:00, 41.93s/it]\n"
     ]
    },
    {
     "name": "stdout",
     "output_type": "stream",
     "text": [
      "Estimation for 0.06999999999999999 and 0.25 done\n",
      "It took: 42.014893531799316 seconds.\n",
      "[0.49228878979399876, 0.4815281675759988]\n"
     ]
    },
    {
     "name": "stderr",
     "output_type": "stream",
     "text": [
      "Initial filtering of formulas: 100%|██████████████| 2/2 [00:00<00:00, 80.42it/s]\n",
      "Computing chunks: 100%|████████████████████████| 2/2 [00:00<00:00, 27776.85it/s]\n",
      "Splitting the experimental spectrum into chunks: 55902it [00:00, 1721335.41it/s]\n",
      "Deconvolving chunks: 100%|████████████████████████| 1/1 [00:43<00:00, 43.15s/it]\n"
     ]
    },
    {
     "name": "stdout",
     "output_type": "stream",
     "text": [
      "Estimation for 0.06999999999999999 and 0.26 done\n",
      "It took: 43.280534505844116 seconds.\n",
      "[0.4914689332649988, 0.48196392291199885]\n"
     ]
    },
    {
     "name": "stderr",
     "output_type": "stream",
     "text": [
      "Initial filtering of formulas: 100%|█████████████| 2/2 [00:00<00:00, 141.13it/s]\n",
      "Computing chunks: 100%|███████████████████████| 2/2 [00:00<00:00, 102300.10it/s]\n",
      "Splitting the experimental spectrum into chunks: 55902it [00:00, 2700395.98it/s]\n",
      "Deconvolving chunks: 100%|████████████████████████| 1/1 [00:36<00:00, 36.28s/it]\n"
     ]
    },
    {
     "name": "stdout",
     "output_type": "stream",
     "text": [
      "Estimation for 0.06999999999999999 and 0.27 done\n",
      "It took: 36.35268568992615 seconds.\n",
      "[0.49027789177499875, 0.4825169993599988]\n"
     ]
    },
    {
     "name": "stderr",
     "output_type": "stream",
     "text": [
      "Initial filtering of formulas: 100%|█████████████| 2/2 [00:00<00:00, 141.56it/s]\n",
      "Computing chunks: 100%|████████████████████████| 2/2 [00:00<00:00, 92182.51it/s]\n",
      "Splitting the experimental spectrum into chunks: 55902it [00:00, 3118864.32it/s]\n",
      "Deconvolving chunks: 100%|████████████████████████| 1/1 [00:36<00:00, 36.19s/it]\n"
     ]
    },
    {
     "name": "stdout",
     "output_type": "stream",
     "text": [
      "Estimation for 0.06999999999999999 and 0.28 done\n",
      "It took: 36.26220917701721 seconds.\n",
      "[0.48931456202899876, 0.4829682749879988]\n"
     ]
    },
    {
     "name": "stderr",
     "output_type": "stream",
     "text": [
      "Initial filtering of formulas: 100%|█████████████| 2/2 [00:00<00:00, 133.36it/s]\n",
      "Computing chunks: 100%|███████████████████████| 2/2 [00:00<00:00, 102300.10it/s]\n",
      "Splitting the experimental spectrum into chunks: 55902it [00:00, 2929263.68it/s]\n",
      "Deconvolving chunks: 100%|████████████████████████| 1/1 [00:37<00:00, 37.89s/it]\n"
     ]
    },
    {
     "name": "stdout",
     "output_type": "stream",
     "text": [
      "Estimation for 0.06999999999999999 and 0.29000000000000004 done\n",
      "It took: 37.96397662162781 seconds.\n",
      "[0.48849994730799884, 0.4832767320929988]\n"
     ]
    },
    {
     "name": "stderr",
     "output_type": "stream",
     "text": [
      "Initial filtering of formulas: 100%|█████████████| 2/2 [00:00<00:00, 145.24it/s]\n",
      "Computing chunks: 100%|████████████████████████| 2/2 [00:00<00:00, 93206.76it/s]\n",
      "Splitting the experimental spectrum into chunks: 55902it [00:00, 3115714.54it/s]\n",
      "Deconvolving chunks: 100%|████████████████████████| 1/1 [00:42<00:00, 42.43s/it]\n"
     ]
    },
    {
     "name": "stdout",
     "output_type": "stream",
     "text": [
      "Estimation for 0.06999999999999999 and 0.3 done\n",
      "It took: 42.504884243011475 seconds.\n",
      "[0.4880913808319988, 0.4835214840459988]\n"
     ]
    },
    {
     "name": "stderr",
     "output_type": "stream",
     "text": [
      "Initial filtering of formulas: 100%|█████████████| 2/2 [00:00<00:00, 131.02it/s]\n",
      "Computing chunks: 100%|████████████████████████| 2/2 [00:00<00:00, 50533.78it/s]\n",
      "Splitting the experimental spectrum into chunks: 55902it [00:00, 2390672.45it/s]\n",
      "Deconvolving chunks: 100%|████████████████████████| 1/1 [00:44<00:00, 44.53s/it]\n"
     ]
    },
    {
     "name": "stdout",
     "output_type": "stream",
     "text": [
      "Estimation for 0.08 and 0.01 done\n",
      "It took: 44.61907076835632 seconds.\n",
      "[0.5056746358979988, 0.4893503121849988]\n"
     ]
    },
    {
     "name": "stderr",
     "output_type": "stream",
     "text": [
      "Initial filtering of formulas: 100%|█████████████| 2/2 [00:00<00:00, 133.10it/s]\n",
      "Computing chunks: 100%|████████████████████████| 2/2 [00:00<00:00, 42366.71it/s]\n",
      "Splitting the experimental spectrum into chunks: 55902it [00:00, 2773184.57it/s]\n",
      "Deconvolving chunks: 100%|████████████████████████| 1/1 [00:39<00:00, 39.52s/it]\n"
     ]
    },
    {
     "name": "stdout",
     "output_type": "stream",
     "text": [
      "Estimation for 0.08 and 0.02 done\n",
      "It took: 39.59435296058655 seconds.\n",
      "[0.5136622488039988, 0.4790811771049988]\n"
     ]
    },
    {
     "name": "stderr",
     "output_type": "stream",
     "text": [
      "Initial filtering of formulas: 100%|█████████████| 2/2 [00:00<00:00, 136.77it/s]\n",
      "Computing chunks: 100%|████████████████████████| 2/2 [00:00<00:00, 37617.08it/s]\n",
      "Splitting the experimental spectrum into chunks: 55902it [00:00, 2521914.77it/s]\n",
      "Deconvolving chunks: 100%|████████████████████████| 1/1 [00:36<00:00, 36.78s/it]\n"
     ]
    },
    {
     "name": "stdout",
     "output_type": "stream",
     "text": [
      "Estimation for 0.08 and 0.03 done\n",
      "It took: 36.85321283340454 seconds.\n",
      "[0.5149330362269988, 0.4770535348409988]\n"
     ]
    },
    {
     "name": "stderr",
     "output_type": "stream",
     "text": [
      "Initial filtering of formulas: 100%|█████████████| 2/2 [00:00<00:00, 132.19it/s]\n",
      "Computing chunks: 100%|████████████████████████| 2/2 [00:00<00:00, 78398.21it/s]\n",
      "Splitting the experimental spectrum into chunks: 55902it [00:00, 2755909.00it/s]\n",
      "Deconvolving chunks: 100%|████████████████████████| 1/1 [00:38<00:00, 38.69s/it]\n"
     ]
    },
    {
     "name": "stdout",
     "output_type": "stream",
     "text": [
      "Estimation for 0.08 and 0.04 done\n",
      "It took: 38.76723504066467 seconds.\n",
      "[0.5142603658609988, 0.4774651787099988]\n"
     ]
    },
    {
     "name": "stderr",
     "output_type": "stream",
     "text": [
      "Initial filtering of formulas: 100%|█████████████| 2/2 [00:00<00:00, 131.45it/s]\n",
      "Computing chunks: 100%|████████████████████████| 2/2 [00:00<00:00, 33689.19it/s]\n",
      "Splitting the experimental spectrum into chunks: 55902it [00:00, 2710541.63it/s]\n",
      "Deconvolving chunks: 100%|████████████████████████| 1/1 [00:43<00:00, 43.00s/it]\n"
     ]
    },
    {
     "name": "stdout",
     "output_type": "stream",
     "text": [
      "Estimation for 0.08 and 0.05 done\n",
      "It took: 43.08081817626953 seconds.\n",
      "[0.5137772695469988, 0.47780936443999883]\n"
     ]
    },
    {
     "name": "stderr",
     "output_type": "stream",
     "text": [
      "Initial filtering of formulas: 100%|█████████████| 2/2 [00:00<00:00, 126.59it/s]\n",
      "Computing chunks: 100%|████████████████████████| 2/2 [00:00<00:00, 72944.42it/s]\n",
      "Splitting the experimental spectrum into chunks: 55902it [00:00, 2420710.12it/s]\n",
      "Deconvolving chunks: 100%|████████████████████████| 1/1 [00:42<00:00, 42.32s/it]\n"
     ]
    },
    {
     "name": "stdout",
     "output_type": "stream",
     "text": [
      "Estimation for 0.08 and 0.060000000000000005 done\n",
      "It took: 42.40754294395447 seconds.\n",
      "[0.5134166502819988, 0.47791429060999885]\n"
     ]
    },
    {
     "name": "stderr",
     "output_type": "stream",
     "text": [
      "Initial filtering of formulas: 100%|█████████████| 2/2 [00:00<00:00, 139.27it/s]\n",
      "Computing chunks: 100%|████████████████████████| 2/2 [00:00<00:00, 89240.51it/s]\n",
      "Splitting the experimental spectrum into chunks: 55902it [00:00, 3009806.97it/s]\n",
      "Deconvolving chunks: 100%|████████████████████████| 1/1 [00:38<00:00, 38.47s/it]\n"
     ]
    },
    {
     "name": "stdout",
     "output_type": "stream",
     "text": [
      "Estimation for 0.08 and 0.06999999999999999 done\n",
      "It took: 38.542136907577515 seconds.\n",
      "[0.5132412250339988, 0.47793365631499884]\n"
     ]
    },
    {
     "name": "stderr",
     "output_type": "stream",
     "text": [
      "Initial filtering of formulas: 100%|█████████████| 2/2 [00:00<00:00, 135.83it/s]\n",
      "Computing chunks: 100%|████████████████████████| 2/2 [00:00<00:00, 80659.69it/s]\n",
      "Splitting the experimental spectrum into chunks: 55902it [00:00, 2785142.21it/s]\n",
      "Deconvolving chunks: 100%|████████████████████████| 1/1 [00:39<00:00, 39.21s/it]\n"
     ]
    },
    {
     "name": "stdout",
     "output_type": "stream",
     "text": [
      "Estimation for 0.08 and 0.08 done\n",
      "It took: 39.28200340270996 seconds.\n",
      "[0.5128983392269988, 0.4780848488189988]\n"
     ]
    },
    {
     "name": "stderr",
     "output_type": "stream",
     "text": [
      "Initial filtering of formulas: 100%|█████████████| 2/2 [00:00<00:00, 136.00it/s]\n",
      "Computing chunks: 100%|████████████████████████| 2/2 [00:00<00:00, 95325.09it/s]\n",
      "Splitting the experimental spectrum into chunks: 55902it [00:00, 2596825.62it/s]\n",
      "Deconvolving chunks: 100%|████████████████████████| 1/1 [00:39<00:00, 39.24s/it]\n"
     ]
    },
    {
     "name": "stdout",
     "output_type": "stream",
     "text": [
      "Estimation for 0.08 and 0.09 done\n",
      "It took: 39.31808805465698 seconds.\n",
      "[0.5127920351479988, 0.47807334835199883]\n"
     ]
    },
    {
     "name": "stderr",
     "output_type": "stream",
     "text": [
      "Initial filtering of formulas: 100%|█████████████| 2/2 [00:00<00:00, 146.15it/s]\n",
      "Computing chunks: 100%|████████████████████████| 2/2 [00:00<00:00, 83886.08it/s]\n",
      "Splitting the experimental spectrum into chunks: 55902it [00:00, 2994584.56it/s]\n",
      "Deconvolving chunks: 100%|████████████████████████| 1/1 [00:45<00:00, 45.99s/it]\n"
     ]
    },
    {
     "name": "stdout",
     "output_type": "stream",
     "text": [
      "Estimation for 0.08 and 0.09999999999999999 done\n",
      "It took: 46.06463408470154 seconds.\n",
      "[0.5125690461059987, 0.4781785289139988]\n"
     ]
    },
    {
     "name": "stderr",
     "output_type": "stream",
     "text": [
      "Initial filtering of formulas: 100%|█████████████| 2/2 [00:00<00:00, 127.59it/s]\n",
      "Computing chunks: 100%|████████████████████████| 2/2 [00:00<00:00, 50231.19it/s]\n",
      "Splitting the experimental spectrum into chunks: 55902it [00:00, 2606583.24it/s]\n",
      "Deconvolving chunks: 100%|████████████████████████| 1/1 [00:40<00:00, 40.27s/it]\n"
     ]
    },
    {
     "name": "stdout",
     "output_type": "stream",
     "text": [
      "Estimation for 0.08 and 0.11 done\n",
      "It took: 40.35636067390442 seconds.\n",
      "[0.5124076394999988, 0.47823412183799885]\n"
     ]
    },
    {
     "name": "stderr",
     "output_type": "stream",
     "text": [
      "Initial filtering of formulas: 100%|█████████████| 2/2 [00:00<00:00, 143.63it/s]\n",
      "Computing chunks: 100%|████████████████████████| 2/2 [00:00<00:00, 44858.87it/s]\n",
      "Splitting the experimental spectrum into chunks: 55902it [00:00, 2580904.17it/s]\n",
      "Deconvolving chunks: 100%|████████████████████████| 1/1 [00:37<00:00, 37.57s/it]\n"
     ]
    },
    {
     "name": "stdout",
     "output_type": "stream",
     "text": [
      "Estimation for 0.08 and 0.12 done\n",
      "It took: 37.64421510696411 seconds.\n",
      "[0.5123184712419988, 0.47833505582499886]\n"
     ]
    },
    {
     "name": "stderr",
     "output_type": "stream",
     "text": [
      "Initial filtering of formulas: 100%|█████████████| 2/2 [00:00<00:00, 141.42it/s]\n",
      "Computing chunks: 100%|████████████████████████| 2/2 [00:00<00:00, 97541.95it/s]\n",
      "Splitting the experimental spectrum into chunks: 55902it [00:00, 3017592.85it/s]\n",
      "Deconvolving chunks: 100%|████████████████████████| 1/1 [00:36<00:00, 36.27s/it]\n"
     ]
    },
    {
     "name": "stdout",
     "output_type": "stream",
     "text": [
      "Estimation for 0.08 and 0.13 done\n",
      "It took: 36.33955955505371 seconds.\n",
      "[0.5120843636299988, 0.4782654819239988]\n"
     ]
    },
    {
     "name": "stderr",
     "output_type": "stream",
     "text": [
      "Initial filtering of formulas: 100%|█████████████| 2/2 [00:00<00:00, 142.62it/s]\n",
      "Computing chunks: 100%|████████████████████████| 2/2 [00:00<00:00, 50533.78it/s]\n",
      "Splitting the experimental spectrum into chunks: 55902it [00:00, 3131485.57it/s]\n",
      "Deconvolving chunks: 100%|████████████████████████| 1/1 [00:36<00:00, 36.85s/it]\n"
     ]
    },
    {
     "name": "stdout",
     "output_type": "stream",
     "text": [
      "Estimation for 0.08 and 0.14 done\n",
      "It took: 36.91398882865906 seconds.\n",
      "[0.5116581381559988, 0.4781535625289988]\n"
     ]
    },
    {
     "name": "stderr",
     "output_type": "stream",
     "text": [
      "Initial filtering of formulas: 100%|█████████████| 2/2 [00:00<00:00, 144.35it/s]\n",
      "Computing chunks: 100%|████████████████████████| 2/2 [00:00<00:00, 67108.86it/s]\n",
      "Splitting the experimental spectrum into chunks: 55902it [00:00, 2862007.72it/s]\n",
      "Deconvolving chunks: 100%|████████████████████████| 1/1 [00:47<00:00, 47.54s/it]\n"
     ]
    },
    {
     "name": "stdout",
     "output_type": "stream",
     "text": [
      "Estimation for 0.08 and 0.15000000000000002 done\n",
      "It took: 47.61039733886719 seconds.\n",
      "[0.5111250830209988, 0.47811530219099885]\n"
     ]
    },
    {
     "name": "stderr",
     "output_type": "stream",
     "text": [
      "Initial filtering of formulas: 100%|█████████████| 2/2 [00:00<00:00, 137.78it/s]\n",
      "Computing chunks: 100%|████████████████████████| 2/2 [00:00<00:00, 98689.51it/s]\n",
      "Splitting the experimental spectrum into chunks: 55902it [00:00, 3015148.17it/s]\n",
      "Deconvolving chunks: 100%|████████████████████████| 1/1 [00:38<00:00, 38.48s/it]\n"
     ]
    },
    {
     "name": "stdout",
     "output_type": "stream",
     "text": [
      "Estimation for 0.08 and 0.16 done\n",
      "It took: 38.55397081375122 seconds.\n",
      "[0.5102399314429987, 0.47831016127099885]\n"
     ]
    },
    {
     "name": "stderr",
     "output_type": "stream",
     "text": [
      "Initial filtering of formulas: 100%|█████████████| 2/2 [00:00<00:00, 137.36it/s]\n",
      "Computing chunks: 100%|████████████████████████| 2/2 [00:00<00:00, 84733.41it/s]\n",
      "Splitting the experimental spectrum into chunks: 55902it [00:00, 2845613.10it/s]\n",
      "Deconvolving chunks: 100%|████████████████████████| 1/1 [00:36<00:00, 36.34s/it]\n"
     ]
    },
    {
     "name": "stdout",
     "output_type": "stream",
     "text": [
      "Estimation for 0.08 and 0.17 done\n",
      "It took: 36.41530752182007 seconds.\n",
      "[0.5098017239339988, 0.47820538316899885]\n"
     ]
    },
    {
     "name": "stderr",
     "output_type": "stream",
     "text": [
      "Initial filtering of formulas: 100%|█████████████| 2/2 [00:00<00:00, 115.45it/s]\n",
      "Computing chunks: 100%|████████████████████████| 2/2 [00:00<00:00, 35246.25it/s]\n",
      "Splitting the experimental spectrum into chunks: 55902it [00:00, 2986954.86it/s]\n",
      "Deconvolving chunks: 100%|████████████████████████| 1/1 [00:34<00:00, 34.82s/it]\n"
     ]
    },
    {
     "name": "stdout",
     "output_type": "stream",
     "text": [
      "Estimation for 0.08 and 0.18000000000000002 done\n",
      "It took: 34.893232345581055 seconds.\n",
      "[0.5092641829989988, 0.4781779127349988]\n"
     ]
    },
    {
     "name": "stderr",
     "output_type": "stream",
     "text": [
      "Initial filtering of formulas: 100%|█████████████| 2/2 [00:00<00:00, 132.90it/s]\n",
      "Computing chunks: 100%|████████████████████████| 2/2 [00:00<00:00, 42366.71it/s]\n",
      "Splitting the experimental spectrum into chunks: 55902it [00:00, 3033717.81it/s]\n",
      "Deconvolving chunks: 100%|████████████████████████| 1/1 [00:36<00:00, 36.00s/it]\n"
     ]
    },
    {
     "name": "stdout",
     "output_type": "stream",
     "text": [
      "Estimation for 0.08 and 0.19 done\n",
      "It took: 36.073707580566406 seconds.\n",
      "[0.5091192499539988, 0.4776082547159988]\n"
     ]
    },
    {
     "name": "stderr",
     "output_type": "stream",
     "text": [
      "Initial filtering of formulas: 100%|█████████████| 2/2 [00:00<00:00, 119.55it/s]\n",
      "Computing chunks: 100%|████████████████████████| 2/2 [00:00<00:00, 94254.02it/s]\n",
      "Splitting the experimental spectrum into chunks: 55902it [00:00, 3018097.80it/s]\n",
      "Deconvolving chunks: 100%|████████████████████████| 1/1 [00:42<00:00, 42.75s/it]\n"
     ]
    },
    {
     "name": "stdout",
     "output_type": "stream",
     "text": [
      "Estimation for 0.08 and 0.2 done\n",
      "It took: 42.82143497467041 seconds.\n",
      "[0.5086400195899988, 0.47751024232899886]\n"
     ]
    },
    {
     "name": "stderr",
     "output_type": "stream",
     "text": [
      "Initial filtering of formulas: 100%|█████████████| 2/2 [00:00<00:00, 132.45it/s]\n",
      "Computing chunks: 100%|████████████████████████| 2/2 [00:00<00:00, 68759.08it/s]\n",
      "Splitting the experimental spectrum into chunks: 55902it [00:00, 2896049.78it/s]\n",
      "Deconvolving chunks: 100%|████████████████████████| 1/1 [00:37<00:00, 37.20s/it]\n"
     ]
    },
    {
     "name": "stdout",
     "output_type": "stream",
     "text": [
      "Estimation for 0.08 and 0.21000000000000002 done\n",
      "It took: 37.2760329246521 seconds.\n",
      "[0.5072475971269987, 0.47793900457899885]\n"
     ]
    },
    {
     "name": "stderr",
     "output_type": "stream",
     "text": [
      "Initial filtering of formulas: 100%|█████████████| 2/2 [00:00<00:00, 135.17it/s]\n",
      "Computing chunks: 100%|████████████████████████| 2/2 [00:00<00:00, 33689.19it/s]\n",
      "Splitting the experimental spectrum into chunks: 55902it [00:00, 2935130.72it/s]\n",
      "Deconvolving chunks: 100%|████████████████████████| 1/1 [00:43<00:00, 43.24s/it]\n"
     ]
    },
    {
     "name": "stdout",
     "output_type": "stream",
     "text": [
      "Estimation for 0.08 and 0.22 done\n",
      "It took: 43.3153338432312 seconds.\n",
      "[0.5063535790719987, 0.4778701302899988]\n"
     ]
    },
    {
     "name": "stderr",
     "output_type": "stream",
     "text": [
      "Initial filtering of formulas: 100%|█████████████| 2/2 [00:00<00:00, 137.46it/s]\n",
      "Computing chunks: 100%|████████████████████████| 2/2 [00:00<00:00, 88301.14it/s]\n",
      "Splitting the experimental spectrum into chunks: 55902it [00:00, 2859250.55it/s]\n",
      "Deconvolving chunks: 100%|████████████████████████| 1/1 [00:40<00:00, 40.07s/it]\n"
     ]
    },
    {
     "name": "stdout",
     "output_type": "stream",
     "text": [
      "Estimation for 0.08 and 0.23 done\n",
      "It took: 40.14463233947754 seconds.\n",
      "[0.5049644992029988, 0.47802857865599885]\n"
     ]
    },
    {
     "name": "stderr",
     "output_type": "stream",
     "text": [
      "Initial filtering of formulas: 100%|█████████████| 2/2 [00:00<00:00, 144.55it/s]\n",
      "Computing chunks: 100%|████████████████████████| 2/2 [00:00<00:00, 49344.75it/s]\n",
      "Splitting the experimental spectrum into chunks: 55902it [00:00, 2917672.31it/s]\n",
      "Deconvolving chunks: 100%|████████████████████████| 1/1 [00:42<00:00, 43.00s/it]\n"
     ]
    },
    {
     "name": "stdout",
     "output_type": "stream",
     "text": [
      "Estimation for 0.08 and 0.24000000000000002 done\n",
      "It took: 43.07791590690613 seconds.\n",
      "[0.5013215439769988, 0.4788274176149988]\n"
     ]
    },
    {
     "name": "stderr",
     "output_type": "stream",
     "text": [
      "Initial filtering of formulas: 100%|██████████████| 2/2 [00:00<00:00, 63.83it/s]\n",
      "Computing chunks: 100%|████████████████████████| 2/2 [00:00<00:00, 34379.54it/s]\n",
      "Splitting the experimental spectrum into chunks: 55902it [00:00, 1470815.06it/s]\n",
      "Deconvolving chunks: 100%|████████████████████████| 1/1 [00:48<00:00, 48.67s/it]\n"
     ]
    },
    {
     "name": "stdout",
     "output_type": "stream",
     "text": [
      "Estimation for 0.08 and 0.25 done\n",
      "It took: 48.81041145324707 seconds.\n",
      "[0.49847821677499876, 0.47977810916299884]\n"
     ]
    },
    {
     "name": "stderr",
     "output_type": "stream",
     "text": [
      "Initial filtering of formulas: 100%|█████████████| 2/2 [00:00<00:00, 109.48it/s]\n",
      "Computing chunks: 100%|████████████████████████| 2/2 [00:00<00:00, 76959.71it/s]\n",
      "Splitting the experimental spectrum into chunks: 55902it [00:00, 2423061.64it/s]\n",
      "Deconvolving chunks: 100%|████████████████████████| 1/1 [00:51<00:00, 51.30s/it]\n"
     ]
    },
    {
     "name": "stdout",
     "output_type": "stream",
     "text": [
      "Estimation for 0.08 and 0.26 done\n",
      "It took: 51.39766025543213 seconds.\n",
      "[0.4949365424129988, 0.48096613737899885]\n"
     ]
    },
    {
     "name": "stderr",
     "output_type": "stream",
     "text": [
      "Initial filtering of formulas: 100%|█████████████| 2/2 [00:00<00:00, 100.36it/s]\n",
      "Computing chunks: 100%|████████████████████████| 2/2 [00:00<00:00, 37957.50it/s]\n",
      "Splitting the experimental spectrum into chunks: 55902it [00:00, 2400020.29it/s]\n",
      "Deconvolving chunks: 100%|████████████████████████| 1/1 [00:50<00:00, 50.89s/it]\n"
     ]
    },
    {
     "name": "stdout",
     "output_type": "stream",
     "text": [
      "Estimation for 0.08 and 0.27 done\n",
      "It took: 50.98466515541077 seconds.\n",
      "[0.49342476418199877, 0.48184182502999884]\n"
     ]
    },
    {
     "name": "stderr",
     "output_type": "stream",
     "text": [
      "Initial filtering of formulas: 100%|█████████████| 2/2 [00:00<00:00, 124.60it/s]\n",
      "Computing chunks: 100%|████████████████████████| 2/2 [00:00<00:00, 68759.08it/s]\n",
      "Splitting the experimental spectrum into chunks: 55902it [00:00, 2633813.53it/s]\n",
      "Deconvolving chunks: 100%|████████████████████████| 1/1 [00:51<00:00, 51.27s/it]\n"
     ]
    },
    {
     "name": "stdout",
     "output_type": "stream",
     "text": [
      "Estimation for 0.08 and 0.28 done\n",
      "It took: 51.3596978187561 seconds.\n",
      "[0.4928953810979988, 0.48217398671699885]\n"
     ]
    },
    {
     "name": "stderr",
     "output_type": "stream",
     "text": [
      "Initial filtering of formulas: 100%|██████████████| 2/2 [00:00<00:00, 64.56it/s]\n",
      "Computing chunks: 100%|████████████████████████| 2/2 [00:00<00:00, 23899.17it/s]\n",
      "Splitting the experimental spectrum into chunks: 55902it [00:00, 1506963.66it/s]\n",
      "Deconvolving chunks: 100%|████████████████████████| 1/1 [00:56<00:00, 56.88s/it]\n"
     ]
    },
    {
     "name": "stdout",
     "output_type": "stream",
     "text": [
      "Estimation for 0.08 and 0.29000000000000004 done\n",
      "It took: 56.99547219276428 seconds.\n",
      "[0.4923112316199988, 0.48253429528499886]\n"
     ]
    },
    {
     "name": "stderr",
     "output_type": "stream",
     "text": [
      "Initial filtering of formulas: 100%|█████████████| 2/2 [00:00<00:00, 126.37it/s]\n",
      "Computing chunks: 100%|████████████████████████| 2/2 [00:00<00:00, 57456.22it/s]\n",
      "Splitting the experimental spectrum into chunks: 55902it [00:00, 2822661.01it/s]\n",
      "Deconvolving chunks: 100%|████████████████████████| 1/1 [00:48<00:00, 48.62s/it]\n"
     ]
    },
    {
     "name": "stdout",
     "output_type": "stream",
     "text": [
      "Estimation for 0.08 and 0.3 done\n",
      "It took: 48.70318365097046 seconds.\n",
      "[0.4913921609869988, 0.48294992007299886]\n"
     ]
    },
    {
     "name": "stderr",
     "output_type": "stream",
     "text": [
      "Initial filtering of formulas: 100%|█████████████| 2/2 [00:00<00:00, 128.64it/s]\n",
      "Computing chunks: 100%|████████████████████████| 2/2 [00:00<00:00, 34521.02it/s]\n",
      "Splitting the experimental spectrum into chunks: 55902it [00:00, 2744875.17it/s]\n",
      "Deconvolving chunks: 100%|████████████████████████| 1/1 [00:50<00:00, 50.03s/it]\n"
     ]
    },
    {
     "name": "stdout",
     "output_type": "stream",
     "text": [
      "Estimation for 0.09 and 0.01 done\n",
      "It took: 50.11397743225098 seconds.\n",
      "[0.5067005444569987, 0.4887897057659988]\n"
     ]
    },
    {
     "name": "stderr",
     "output_type": "stream",
     "text": [
      "Initial filtering of formulas: 100%|█████████████| 2/2 [00:00<00:00, 133.18it/s]\n",
      "Computing chunks: 100%|████████████████████████| 2/2 [00:00<00:00, 73584.28it/s]\n",
      "Splitting the experimental spectrum into chunks: 55902it [00:00, 2540027.97it/s]\n",
      "Deconvolving chunks: 100%|████████████████████████| 1/1 [00:49<00:00, 49.32s/it]\n"
     ]
    },
    {
     "name": "stdout",
     "output_type": "stream",
     "text": [
      "Estimation for 0.09 and 0.02 done\n",
      "It took: 49.40741586685181 seconds.\n",
      "[0.5133493716629988, 0.4801575622409988]\n"
     ]
    },
    {
     "name": "stderr",
     "output_type": "stream",
     "text": [
      "Initial filtering of formulas: 100%|█████████████| 2/2 [00:00<00:00, 130.67it/s]\n",
      "Computing chunks: 100%|████████████████████████| 2/2 [00:00<00:00, 83886.08it/s]\n",
      "Splitting the experimental spectrum into chunks: 55902it [00:00, 2770595.81it/s]\n",
      "Deconvolving chunks: 100%|████████████████████████| 1/1 [00:45<00:00, 45.90s/it]\n"
     ]
    },
    {
     "name": "stdout",
     "output_type": "stream",
     "text": [
      "Estimation for 0.09 and 0.03 done\n",
      "It took: 45.982933044433594 seconds.\n",
      "[0.5162384150079988, 0.47654688484599883]\n"
     ]
    },
    {
     "name": "stderr",
     "output_type": "stream",
     "text": [
      "Initial filtering of formulas: 100%|█████████████| 2/2 [00:00<00:00, 108.83it/s]\n",
      "Computing chunks: 100%|████████████████████████| 2/2 [00:00<00:00, 57852.47it/s]\n",
      "Splitting the experimental spectrum into chunks: 55902it [00:00, 2556199.79it/s]\n",
      "Deconvolving chunks: 100%|████████████████████████| 1/1 [00:47<00:00, 47.73s/it]\n"
     ]
    },
    {
     "name": "stdout",
     "output_type": "stream",
     "text": [
      "Estimation for 0.09 and 0.04 done\n",
      "It took: 47.81627106666565 seconds.\n",
      "[0.5163962094469988, 0.4765228086819988]\n"
     ]
    },
    {
     "name": "stderr",
     "output_type": "stream",
     "text": [
      "Initial filtering of formulas: 100%|█████████████| 2/2 [00:00<00:00, 131.28it/s]\n",
      "Computing chunks: 100%|████████████████████████| 2/2 [00:00<00:00, 18600.02it/s]\n",
      "Splitting the experimental spectrum into chunks: 55902it [00:00, 2681403.68it/s]\n",
      "Deconvolving chunks: 100%|████████████████████████| 1/1 [00:47<00:00, 47.15s/it]\n"
     ]
    },
    {
     "name": "stdout",
     "output_type": "stream",
     "text": [
      "Estimation for 0.09 and 0.05 done\n",
      "It took: 47.23290777206421 seconds.\n",
      "[0.5159286420179988, 0.47673990716899883]\n"
     ]
    },
    {
     "name": "stderr",
     "output_type": "stream",
     "text": [
      "Initial filtering of formulas: 100%|█████████████| 2/2 [00:00<00:00, 131.25it/s]\n",
      "Computing chunks: 100%|████████████████████████| 2/2 [00:00<00:00, 42799.02it/s]\n",
      "Splitting the experimental spectrum into chunks: 55902it [00:00, 2634731.01it/s]\n",
      "Deconvolving chunks: 100%|████████████████████████| 1/1 [00:46<00:00, 46.75s/it]\n"
     ]
    },
    {
     "name": "stdout",
     "output_type": "stream",
     "text": [
      "Estimation for 0.09 and 0.060000000000000005 done\n",
      "It took: 46.84152555465698 seconds.\n",
      "[0.5152591620979988, 0.47704694365199884]\n"
     ]
    },
    {
     "name": "stderr",
     "output_type": "stream",
     "text": [
      "Initial filtering of formulas: 100%|█████████████| 2/2 [00:00<00:00, 134.21it/s]\n",
      "Computing chunks: 100%|████████████████████████| 2/2 [00:00<00:00, 52103.16it/s]\n",
      "Splitting the experimental spectrum into chunks: 55902it [00:00, 2243324.01it/s]\n",
      "Deconvolving chunks: 100%|████████████████████████| 1/1 [00:51<00:00, 51.95s/it]\n"
     ]
    },
    {
     "name": "stdout",
     "output_type": "stream",
     "text": [
      "Estimation for 0.09 and 0.06999999999999999 done\n",
      "It took: 52.05365586280823 seconds.\n",
      "[0.5144273071929988, 0.47746877708999885]\n"
     ]
    },
    {
     "name": "stderr",
     "output_type": "stream",
     "text": [
      "Initial filtering of formulas: 100%|█████████████| 2/2 [00:00<00:00, 112.94it/s]\n",
      "Computing chunks: 100%|████████████████████████| 2/2 [00:00<00:00, 40920.04it/s]\n",
      "Splitting the experimental spectrum into chunks: 55902it [00:00, 2481951.75it/s]\n",
      "Deconvolving chunks: 100%|████████████████████████| 1/1 [00:50<00:00, 50.75s/it]\n"
     ]
    },
    {
     "name": "stdout",
     "output_type": "stream",
     "text": [
      "Estimation for 0.09 and 0.08 done\n",
      "It took: 50.83256769180298 seconds.\n",
      "[0.5138736717159987, 0.47772314346499883]\n"
     ]
    },
    {
     "name": "stderr",
     "output_type": "stream",
     "text": [
      "Initial filtering of formulas: 100%|█████████████| 2/2 [00:00<00:00, 104.98it/s]\n",
      "Computing chunks: 100%|████████████████████████| 2/2 [00:00<00:00, 59074.70it/s]\n",
      "Splitting the experimental spectrum into chunks: 55902it [00:00, 2660893.84it/s]\n",
      "Deconvolving chunks: 100%|████████████████████████| 1/1 [00:45<00:00, 45.14s/it]\n"
     ]
    },
    {
     "name": "stdout",
     "output_type": "stream",
     "text": [
      "Estimation for 0.09 and 0.09 done\n",
      "It took: 45.22829842567444 seconds.\n",
      "[0.5136381007039987, 0.47784361036899886]\n"
     ]
    },
    {
     "name": "stderr",
     "output_type": "stream",
     "text": [
      "Initial filtering of formulas: 100%|█████████████| 2/2 [00:00<00:00, 127.60it/s]\n",
      "Computing chunks: 100%|████████████████████████| 2/2 [00:00<00:00, 67650.06it/s]\n",
      "Splitting the experimental spectrum into chunks: 55902it [00:00, 2695305.11it/s]\n",
      "Deconvolving chunks: 100%|████████████████████████| 1/1 [00:54<00:00, 54.94s/it]\n"
     ]
    },
    {
     "name": "stdout",
     "output_type": "stream",
     "text": [
      "Estimation for 0.09 and 0.09999999999999999 done\n",
      "It took: 55.02468276023865 seconds.\n",
      "[0.5133401693309988, 0.47794741449999883]\n"
     ]
    },
    {
     "name": "stderr",
     "output_type": "stream",
     "text": [
      "Initial filtering of formulas: 100%|█████████████| 2/2 [00:00<00:00, 130.69it/s]\n",
      "Computing chunks: 100%|████████████████████████| 2/2 [00:00<00:00, 34239.22it/s]\n",
      "Splitting the experimental spectrum into chunks: 55902it [00:00, 2756006.19it/s]\n",
      "Deconvolving chunks: 100%|████████████████████████| 1/1 [00:52<00:00, 52.69s/it]\n"
     ]
    },
    {
     "name": "stdout",
     "output_type": "stream",
     "text": [
      "Estimation for 0.09 and 0.11 done\n",
      "It took: 52.76824903488159 seconds.\n",
      "[0.5131495692629988, 0.47808127588099886]\n"
     ]
    },
    {
     "name": "stderr",
     "output_type": "stream",
     "text": [
      "Initial filtering of formulas: 100%|█████████████| 2/2 [00:00<00:00, 108.79it/s]\n",
      "Computing chunks: 100%|████████████████████████| 2/2 [00:00<00:00, 66052.03it/s]\n",
      "Splitting the experimental spectrum into chunks: 55902it [00:00, 2696545.02it/s]\n",
      "Deconvolving chunks: 100%|████████████████████████| 1/1 [00:52<00:00, 52.36s/it]\n"
     ]
    },
    {
     "name": "stdout",
     "output_type": "stream",
     "text": [
      "Estimation for 0.09 and 0.12 done\n",
      "It took: 52.44980216026306 seconds.\n",
      "[0.5128546711279988, 0.4781511126299988]\n"
     ]
    },
    {
     "name": "stderr",
     "output_type": "stream",
     "text": [
      "Initial filtering of formulas: 100%|█████████████| 2/2 [00:00<00:00, 119.40it/s]\n",
      "Computing chunks: 100%|████████████████████████| 2/2 [00:00<00:00, 71697.50it/s]\n",
      "Splitting the experimental spectrum into chunks: 55902it [00:00, 2508800.46it/s]\n",
      "Deconvolving chunks: 100%|████████████████████████| 1/1 [00:50<00:00, 50.97s/it]\n"
     ]
    },
    {
     "name": "stdout",
     "output_type": "stream",
     "text": [
      "Estimation for 0.09 and 0.13 done\n",
      "It took: 51.056572675704956 seconds.\n",
      "[0.5126574414019988, 0.47817021606699883]\n"
     ]
    },
    {
     "name": "stderr",
     "output_type": "stream",
     "text": [
      "Initial filtering of formulas: 100%|█████████████| 2/2 [00:00<00:00, 116.81it/s]\n",
      "Computing chunks: 100%|████████████████████████| 2/2 [00:00<00:00, 53773.13it/s]\n",
      "Splitting the experimental spectrum into chunks: 55902it [00:00, 2690912.64it/s]\n",
      "Deconvolving chunks: 100%|████████████████████████| 1/1 [00:48<00:00, 48.28s/it]\n"
     ]
    },
    {
     "name": "stdout",
     "output_type": "stream",
     "text": [
      "Estimation for 0.09 and 0.14 done\n",
      "It took: 48.365763425827026 seconds.\n",
      "[0.5124588909399987, 0.47821869706099884]\n"
     ]
    },
    {
     "name": "stderr",
     "output_type": "stream",
     "text": [
      "Initial filtering of formulas: 100%|█████████████| 2/2 [00:00<00:00, 128.82it/s]\n",
      "Computing chunks: 100%|████████████████████████| 2/2 [00:00<00:00, 25266.89it/s]\n",
      "Splitting the experimental spectrum into chunks: 55902it [00:00, 2579569.64it/s]\n",
      "Deconvolving chunks: 100%|████████████████████████| 1/1 [00:46<00:00, 46.53s/it]\n"
     ]
    },
    {
     "name": "stdout",
     "output_type": "stream",
     "text": [
      "Estimation for 0.09 and 0.15000000000000002 done\n",
      "It took: 46.61595344543457 seconds.\n",
      "[0.5121880980589988, 0.4781828764189988]\n"
     ]
    },
    {
     "name": "stderr",
     "output_type": "stream",
     "text": [
      "Initial filtering of formulas: 100%|█████████████| 2/2 [00:00<00:00, 121.49it/s]\n",
      "Computing chunks: 100%|████████████████████████| 2/2 [00:00<00:00, 72315.59it/s]\n",
      "Splitting the experimental spectrum into chunks: 55902it [00:00, 2555642.56it/s]\n",
      "Deconvolving chunks: 100%|████████████████████████| 1/1 [00:48<00:00, 48.86s/it]\n"
     ]
    },
    {
     "name": "stdout",
     "output_type": "stream",
     "text": [
      "Estimation for 0.09 and 0.16 done\n",
      "It took: 48.93744945526123 seconds.\n",
      "[0.5117355489149987, 0.4781578002199988]\n"
     ]
    },
    {
     "name": "stderr",
     "output_type": "stream",
     "text": [
      "Initial filtering of formulas: 100%|█████████████| 2/2 [00:00<00:00, 131.52it/s]\n",
      "Computing chunks: 100%|████████████████████████| 2/2 [00:00<00:00, 44620.26it/s]\n",
      "Splitting the experimental spectrum into chunks: 55902it [00:00, 2800276.87it/s]\n",
      "Deconvolving chunks: 100%|████████████████████████| 1/1 [00:48<00:00, 48.63s/it]\n"
     ]
    },
    {
     "name": "stdout",
     "output_type": "stream",
     "text": [
      "Estimation for 0.09 and 0.17 done\n",
      "It took: 48.70324444770813 seconds.\n",
      "[0.5112219625159988, 0.47814011518899885]\n"
     ]
    },
    {
     "name": "stderr",
     "output_type": "stream",
     "text": [
      "Initial filtering of formulas: 100%|█████████████| 2/2 [00:00<00:00, 134.93it/s]\n",
      "Computing chunks: 100%|████████████████████████| 2/2 [00:00<00:00, 93206.76it/s]\n",
      "Splitting the experimental spectrum into chunks: 55902it [00:00, 2982850.96it/s]\n",
      "Deconvolving chunks: 100%|████████████████████████| 1/1 [00:47<00:00, 47.05s/it]\n"
     ]
    },
    {
     "name": "stdout",
     "output_type": "stream",
     "text": [
      "Estimation for 0.09 and 0.18000000000000002 done\n",
      "It took: 47.12212157249451 seconds.\n",
      "[0.5103833260889987, 0.47826432317699885]\n"
     ]
    },
    {
     "name": "stderr",
     "output_type": "stream",
     "text": [
      "Initial filtering of formulas: 100%|█████████████| 2/2 [00:00<00:00, 115.72it/s]\n",
      "Computing chunks: 100%|████████████████████████| 2/2 [00:00<00:00, 48489.06it/s]\n",
      "Splitting the experimental spectrum into chunks: 55902it [00:00, 2702543.62it/s]\n",
      "Deconvolving chunks: 100%|████████████████████████| 1/1 [00:36<00:00, 36.44s/it]\n"
     ]
    },
    {
     "name": "stdout",
     "output_type": "stream",
     "text": [
      "Estimation for 0.09 and 0.19 done\n",
      "It took: 36.525028228759766 seconds.\n",
      "[0.5098547653209988, 0.47836273004099883]\n"
     ]
    },
    {
     "name": "stderr",
     "output_type": "stream",
     "text": [
      "Initial filtering of formulas: 100%|█████████████| 2/2 [00:00<00:00, 136.92it/s]\n",
      "Computing chunks: 100%|████████████████████████| 2/2 [00:00<00:00, 77672.30it/s]\n",
      "Splitting the experimental spectrum into chunks: 55902it [00:00, 2954697.02it/s]\n",
      "Deconvolving chunks: 100%|████████████████████████| 1/1 [00:35<00:00, 35.74s/it]\n"
     ]
    },
    {
     "name": "stdout",
     "output_type": "stream",
     "text": [
      "Estimation for 0.09 and 0.2 done\n",
      "It took: 35.811036109924316 seconds.\n",
      "[0.5094662315729988, 0.4778578665439988]\n"
     ]
    },
    {
     "name": "stderr",
     "output_type": "stream",
     "text": [
      "Initial filtering of formulas: 100%|█████████████| 2/2 [00:00<00:00, 140.70it/s]\n",
      "Computing chunks: 100%|████████████████████████| 2/2 [00:00<00:00, 84733.41it/s]\n",
      "Splitting the experimental spectrum into chunks: 55902it [00:00, 2915060.57it/s]\n",
      "Deconvolving chunks: 100%|████████████████████████| 1/1 [00:37<00:00, 37.36s/it]\n"
     ]
    },
    {
     "name": "stdout",
     "output_type": "stream",
     "text": [
      "Estimation for 0.09 and 0.21000000000000002 done\n",
      "It took: 37.43445897102356 seconds.\n",
      "[0.5092971896359988, 0.4775186754249988]\n"
     ]
    },
    {
     "name": "stderr",
     "output_type": "stream",
     "text": [
      "Initial filtering of formulas: 100%|█████████████| 2/2 [00:00<00:00, 144.60it/s]\n",
      "Computing chunks: 100%|████████████████████████| 2/2 [00:00<00:00, 93206.76it/s]\n",
      "Splitting the experimental spectrum into chunks: 55902it [00:00, 2643285.33it/s]\n",
      "Deconvolving chunks: 100%|████████████████████████| 1/1 [00:35<00:00, 35.88s/it]\n"
     ]
    },
    {
     "name": "stdout",
     "output_type": "stream",
     "text": [
      "Estimation for 0.09 and 0.22 done\n",
      "It took: 35.953447341918945 seconds.\n",
      "[0.5088934993229988, 0.47752628350399884]\n"
     ]
    },
    {
     "name": "stderr",
     "output_type": "stream",
     "text": [
      "Initial filtering of formulas: 100%|█████████████| 2/2 [00:00<00:00, 142.41it/s]\n",
      "Computing chunks: 100%|████████████████████████| 2/2 [00:00<00:00, 92182.51it/s]\n",
      "Splitting the experimental spectrum into chunks: 55902it [00:00, 3013791.72it/s]\n",
      "Deconvolving chunks: 100%|████████████████████████| 1/1 [00:45<00:00, 45.07s/it]\n"
     ]
    },
    {
     "name": "stdout",
     "output_type": "stream",
     "text": [
      "Estimation for 0.09 and 0.23 done\n",
      "It took: 45.14573264122009 seconds.\n",
      "[0.5084156790729988, 0.47749462396899883]\n"
     ]
    },
    {
     "name": "stderr",
     "output_type": "stream",
     "text": [
      "Initial filtering of formulas: 100%|█████████████| 2/2 [00:00<00:00, 132.42it/s]\n",
      "Computing chunks: 100%|████████████████████████| 2/2 [00:00<00:00, 55553.70it/s]\n",
      "Splitting the experimental spectrum into chunks: 55902it [00:00, 2512348.86it/s]\n",
      "Deconvolving chunks: 100%|████████████████████████| 1/1 [00:50<00:00, 50.75s/it]\n"
     ]
    },
    {
     "name": "stdout",
     "output_type": "stream",
     "text": [
      "Estimation for 0.09 and 0.24000000000000002 done\n",
      "It took: 50.83424186706543 seconds.\n",
      "[0.5072476455749988, 0.47746523716499883]\n"
     ]
    },
    {
     "name": "stderr",
     "output_type": "stream",
     "text": [
      "Initial filtering of formulas: 100%|█████████████| 2/2 [00:00<00:00, 109.47it/s]\n",
      "Computing chunks: 100%|████████████████████████| 2/2 [00:00<00:00, 12965.39it/s]\n",
      "Splitting the experimental spectrum into chunks: 55902it [00:00, 2479301.08it/s]\n",
      "Deconvolving chunks: 100%|████████████████████████| 1/1 [00:45<00:00, 45.68s/it]\n"
     ]
    },
    {
     "name": "stdout",
     "output_type": "stream",
     "text": [
      "Estimation for 0.09 and 0.25 done\n",
      "It took: 45.77275490760803 seconds.\n",
      "[0.5064535010399988, 0.47749103791499886]\n"
     ]
    },
    {
     "name": "stderr",
     "output_type": "stream",
     "text": [
      "Initial filtering of formulas: 100%|█████████████| 2/2 [00:00<00:00, 137.89it/s]\n",
      "Computing chunks: 100%|████████████████████████| 2/2 [00:00<00:00, 50231.19it/s]\n",
      "Splitting the experimental spectrum into chunks: 55902it [00:00, 2791043.50it/s]\n",
      "Deconvolving chunks: 100%|████████████████████████| 1/1 [00:36<00:00, 36.11s/it]\n"
     ]
    },
    {
     "name": "stdout",
     "output_type": "stream",
     "text": [
      "Estimation for 0.09 and 0.26 done\n",
      "It took: 36.18851947784424 seconds.\n",
      "[0.5035294749449988, 0.47813492318699885]\n"
     ]
    },
    {
     "name": "stderr",
     "output_type": "stream",
     "text": [
      "Initial filtering of formulas: 100%|█████████████| 2/2 [00:00<00:00, 140.21it/s]\n",
      "Computing chunks: 100%|████████████████████████| 2/2 [00:00<00:00, 97541.95it/s]\n",
      "Splitting the experimental spectrum into chunks: 55902it [00:00, 3053511.43it/s]\n",
      "Deconvolving chunks: 100%|████████████████████████| 1/1 [00:36<00:00, 36.36s/it]\n"
     ]
    },
    {
     "name": "stdout",
     "output_type": "stream",
     "text": [
      "Estimation for 0.09 and 0.27 done\n",
      "It took: 36.43254089355469 seconds.\n",
      "[0.5018378605469987, 0.47885147967099884]\n"
     ]
    },
    {
     "name": "stderr",
     "output_type": "stream",
     "text": [
      "Initial filtering of formulas: 100%|█████████████| 2/2 [00:00<00:00, 132.27it/s]\n",
      "Computing chunks: 100%|████████████████████████| 2/2 [00:00<00:00, 32017.59it/s]\n",
      "Splitting the experimental spectrum into chunks: 55902it [00:00, 1444839.40it/s]\n",
      "Deconvolving chunks: 100%|████████████████████████| 1/1 [00:37<00:00, 37.67s/it]\n"
     ]
    },
    {
     "name": "stdout",
     "output_type": "stream",
     "text": [
      "Estimation for 0.09 and 0.28 done\n",
      "It took: 37.766589403152466 seconds.\n",
      "[0.4997554152699988, 0.47991505159299885]\n"
     ]
    },
    {
     "name": "stderr",
     "output_type": "stream",
     "text": [
      "Initial filtering of formulas: 100%|█████████████| 2/2 [00:00<00:00, 145.71it/s]\n",
      "Computing chunks: 100%|████████████████████████| 2/2 [00:00<00:00, 98689.51it/s]\n",
      "Splitting the experimental spectrum into chunks: 55902it [00:00, 3072316.55it/s]\n",
      "Deconvolving chunks: 100%|████████████████████████| 1/1 [00:38<00:00, 38.41s/it]\n"
     ]
    },
    {
     "name": "stdout",
     "output_type": "stream",
     "text": [
      "Estimation for 0.09 and 0.29000000000000004 done\n",
      "It took: 38.47761821746826 seconds.\n",
      "[0.49731137649599877, 0.48120038537099885]\n"
     ]
    },
    {
     "name": "stderr",
     "output_type": "stream",
     "text": [
      "Initial filtering of formulas: 100%|█████████████| 2/2 [00:00<00:00, 145.43it/s]\n",
      "Computing chunks: 100%|███████████████████████| 2/2 [00:00<00:00, 106184.91it/s]\n",
      "Splitting the experimental spectrum into chunks: 55902it [00:00, 3035485.19it/s]\n",
      "Deconvolving chunks: 100%|████████████████████████| 1/1 [00:45<00:00, 45.00s/it]\n"
     ]
    },
    {
     "name": "stdout",
     "output_type": "stream",
     "text": [
      "Estimation for 0.09 and 0.3 done\n",
      "It took: 45.07560420036316 seconds.\n",
      "[0.4956418365899988, 0.48200179792299885]\n"
     ]
    },
    {
     "name": "stderr",
     "output_type": "stream",
     "text": [
      "Initial filtering of formulas: 100%|██████████████| 2/2 [00:00<00:00, 99.98it/s]\n",
      "Computing chunks: 100%|████████████████████████| 2/2 [00:00<00:00, 80659.69it/s]\n",
      "Splitting the experimental spectrum into chunks: 55902it [00:00, 2403686.28it/s]\n",
      "Deconvolving chunks: 100%|████████████████████████| 1/1 [00:53<00:00, 53.19s/it]\n"
     ]
    },
    {
     "name": "stdout",
     "output_type": "stream",
     "text": [
      "Estimation for 0.09999999999999999 and 0.01 done\n",
      "It took: 53.28968691825867 seconds.\n",
      "[0.5086041399859987, 0.4878429461389988]\n"
     ]
    },
    {
     "name": "stderr",
     "output_type": "stream",
     "text": [
      "Initial filtering of formulas: 100%|█████████████| 2/2 [00:00<00:00, 128.67it/s]\n",
      "Computing chunks: 100%|████████████████████████| 2/2 [00:00<00:00, 49932.19it/s]\n",
      "Splitting the experimental spectrum into chunks: 55902it [00:00, 2717767.81it/s]\n",
      "Deconvolving chunks: 100%|████████████████████████| 1/1 [00:44<00:00, 44.39s/it]\n"
     ]
    },
    {
     "name": "stdout",
     "output_type": "stream",
     "text": [
      "Estimation for 0.09999999999999999 and 0.02 done\n",
      "It took: 44.47450256347656 seconds.\n",
      "[0.5129810918589988, 0.48125052127799883]\n"
     ]
    },
    {
     "name": "stderr",
     "output_type": "stream",
     "text": [
      "Initial filtering of formulas: 100%|█████████████| 2/2 [00:00<00:00, 139.86it/s]\n",
      "Computing chunks: 100%|████████████████████████| 2/2 [00:00<00:00, 55553.70it/s]\n",
      "Splitting the experimental spectrum into chunks: 55902it [00:00, 2898878.41it/s]\n",
      "Deconvolving chunks: 100%|████████████████████████| 1/1 [00:37<00:00, 37.84s/it]\n"
     ]
    },
    {
     "name": "stdout",
     "output_type": "stream",
     "text": [
      "Estimation for 0.09999999999999999 and 0.03 done\n",
      "It took: 37.91164469718933 seconds.\n",
      "[0.5169880920479988, 0.47638839869199884]\n"
     ]
    },
    {
     "name": "stderr",
     "output_type": "stream",
     "text": [
      "Initial filtering of formulas: 100%|█████████████| 2/2 [00:00<00:00, 139.80it/s]\n",
      "Computing chunks: 100%|████████████████████████| 2/2 [00:00<00:00, 93206.76it/s]\n",
      "Splitting the experimental spectrum into chunks: 55902it [00:00, 2933808.59it/s]\n",
      "Deconvolving chunks: 100%|████████████████████████| 1/1 [00:38<00:00, 38.86s/it]\n"
     ]
    },
    {
     "name": "stdout",
     "output_type": "stream",
     "text": [
      "Estimation for 0.09999999999999999 and 0.04 done\n",
      "It took: 38.93177652359009 seconds.\n",
      "[0.5169411101289988, 0.47632798740899884]\n"
     ]
    },
    {
     "name": "stderr",
     "output_type": "stream",
     "text": [
      "Initial filtering of formulas: 100%|█████████████| 2/2 [00:00<00:00, 140.84it/s]\n",
      "Computing chunks: 100%|████████████████████████| 2/2 [00:00<00:00, 43018.50it/s]\n",
      "Splitting the experimental spectrum into chunks: 55902it [00:00, 2779562.35it/s]\n",
      "Deconvolving chunks: 100%|████████████████████████| 1/1 [00:39<00:00, 39.19s/it]\n"
     ]
    },
    {
     "name": "stdout",
     "output_type": "stream",
     "text": [
      "Estimation for 0.09999999999999999 and 0.05 done\n",
      "It took: 39.27068305015564 seconds.\n",
      "[0.5167934777809988, 0.47637415656899884]\n"
     ]
    },
    {
     "name": "stderr",
     "output_type": "stream",
     "text": [
      "Initial filtering of formulas: 100%|█████████████| 2/2 [00:00<00:00, 117.30it/s]\n",
      "Computing chunks: 100%|████████████████████████| 2/2 [00:00<00:00, 41734.37it/s]\n",
      "Splitting the experimental spectrum into chunks: 55902it [00:00, 2920179.62it/s]\n",
      "Deconvolving chunks: 100%|████████████████████████| 1/1 [00:37<00:00, 37.79s/it]\n"
     ]
    },
    {
     "name": "stdout",
     "output_type": "stream",
     "text": [
      "Estimation for 0.09999999999999999 and 0.060000000000000005 done\n",
      "It took: 37.86671805381775 seconds.\n",
      "[0.5167532541229988, 0.47634327034199886]\n"
     ]
    },
    {
     "name": "stderr",
     "output_type": "stream",
     "text": [
      "Initial filtering of formulas: 100%|█████████████| 2/2 [00:00<00:00, 141.15it/s]\n",
      "Computing chunks: 100%|████████████████████████| 2/2 [00:00<00:00, 58661.59it/s]\n",
      "Splitting the experimental spectrum into chunks: 55902it [00:00, 2962724.06it/s]\n",
      "Deconvolving chunks: 100%|████████████████████████| 1/1 [00:37<00:00, 37.16s/it]\n"
     ]
    },
    {
     "name": "stdout",
     "output_type": "stream",
     "text": [
      "Estimation for 0.09999999999999999 and 0.06999999999999999 done\n",
      "It took: 37.23381996154785 seconds.\n",
      "[0.5165133900969988, 0.4764358322289988]\n"
     ]
    },
    {
     "name": "stderr",
     "output_type": "stream",
     "text": [
      "Initial filtering of formulas: 100%|█████████████| 2/2 [00:00<00:00, 146.77it/s]\n",
      "Computing chunks: 100%|████████████████████████| 2/2 [00:00<00:00, 87381.33it/s]\n",
      "Splitting the experimental spectrum into chunks: 55902it [00:00, 3068577.18it/s]\n",
      "Deconvolving chunks: 100%|████████████████████████| 1/1 [00:46<00:00, 46.55s/it]\n"
     ]
    },
    {
     "name": "stdout",
     "output_type": "stream",
     "text": [
      "Estimation for 0.09999999999999999 and 0.08 done\n",
      "It took: 46.6182701587677 seconds.\n",
      "[0.5158722285639987, 0.4767802076839988]\n"
     ]
    },
    {
     "name": "stderr",
     "output_type": "stream",
     "text": [
      "Initial filtering of formulas: 100%|█████████████| 2/2 [00:00<00:00, 111.88it/s]\n",
      "Computing chunks: 100%|████████████████████████| 2/2 [00:00<00:00, 54120.05it/s]\n",
      "Splitting the experimental spectrum into chunks: 55902it [00:00, 2536236.39it/s]\n",
      "Deconvolving chunks: 100%|████████████████████████| 1/1 [00:50<00:00, 50.79s/it]\n"
     ]
    },
    {
     "name": "stdout",
     "output_type": "stream",
     "text": [
      "Estimation for 0.09999999999999999 and 0.09 done\n",
      "It took: 50.87513041496277 seconds.\n",
      "[0.5148731968009987, 0.47736198053999884]\n"
     ]
    },
    {
     "name": "stderr",
     "output_type": "stream",
     "text": [
      "Initial filtering of formulas: 100%|█████████████| 2/2 [00:00<00:00, 126.55it/s]\n",
      "Computing chunks: 100%|████████████████████████| 2/2 [00:00<00:00, 78398.21it/s]\n",
      "Splitting the experimental spectrum into chunks: 55902it [00:00, 2617378.29it/s]\n",
      "Deconvolving chunks: 100%|████████████████████████| 1/1 [00:53<00:00, 53.77s/it]\n"
     ]
    },
    {
     "name": "stdout",
     "output_type": "stream",
     "text": [
      "Estimation for 0.09999999999999999 and 0.09999999999999999 done\n",
      "It took: 53.85727906227112 seconds.\n",
      "[0.5144712501039987, 0.4775802520579988]\n"
     ]
    },
    {
     "name": "stderr",
     "output_type": "stream",
     "text": [
      "Initial filtering of formulas: 100%|█████████████| 2/2 [00:00<00:00, 117.93it/s]\n",
      "Computing chunks: 100%|████████████████████████| 2/2 [00:00<00:00, 37786.52it/s]\n",
      "Splitting the experimental spectrum into chunks: 55902it [00:00, 2255321.43it/s]\n",
      "Deconvolving chunks: 100%|████████████████████████| 1/1 [00:48<00:00, 48.36s/it]\n"
     ]
    },
    {
     "name": "stdout",
     "output_type": "stream",
     "text": [
      "Estimation for 0.09999999999999999 and 0.11 done\n",
      "It took: 48.44921565055847 seconds.\n",
      "[0.5139279521699988, 0.47779327884399886]\n"
     ]
    },
    {
     "name": "stderr",
     "output_type": "stream",
     "text": [
      "Initial filtering of formulas: 100%|██████████████| 2/2 [00:00<00:00, 96.50it/s]\n",
      "Computing chunks: 100%|████████████████████████| 2/2 [00:00<00:00, 39756.44it/s]\n",
      "Splitting the experimental spectrum into chunks: 55902it [00:00, 1795494.09it/s]\n",
      "Deconvolving chunks: 100%|████████████████████████| 1/1 [00:40<00:00, 40.57s/it]\n"
     ]
    },
    {
     "name": "stdout",
     "output_type": "stream",
     "text": [
      "Estimation for 0.09999999999999999 and 0.12 done\n",
      "It took: 40.67073345184326 seconds.\n",
      "[0.5136052884099988, 0.47788021053799884]\n"
     ]
    },
    {
     "name": "stderr",
     "output_type": "stream",
     "text": [
      "Initial filtering of formulas: 100%|█████████████| 2/2 [00:00<00:00, 137.39it/s]\n",
      "Computing chunks: 100%|████████████████████████| 2/2 [00:00<00:00, 92182.51it/s]\n",
      "Splitting the experimental spectrum into chunks: 55902it [00:00, 2935204.20it/s]\n",
      "Deconvolving chunks: 100%|████████████████████████| 1/1 [00:40<00:00, 40.14s/it]\n"
     ]
    },
    {
     "name": "stdout",
     "output_type": "stream",
     "text": [
      "Estimation for 0.09999999999999999 and 0.13 done\n",
      "It took: 40.21855306625366 seconds.\n",
      "[0.5132543115579988, 0.4779978320139988]\n"
     ]
    },
    {
     "name": "stderr",
     "output_type": "stream",
     "text": [
      "Initial filtering of formulas: 100%|█████████████| 2/2 [00:00<00:00, 121.87it/s]\n",
      "Computing chunks: 100%|████████████████████████| 2/2 [00:00<00:00, 33554.43it/s]\n",
      "Splitting the experimental spectrum into chunks: 55902it [00:00, 2530187.90it/s]\n",
      "Deconvolving chunks: 100%|████████████████████████| 1/1 [00:41<00:00, 41.03s/it]\n"
     ]
    },
    {
     "name": "stdout",
     "output_type": "stream",
     "text": [
      "Estimation for 0.09999999999999999 and 0.14 done\n",
      "It took: 41.10989284515381 seconds.\n",
      "[0.5129721455349988, 0.4780377506779988]\n"
     ]
    },
    {
     "name": "stderr",
     "output_type": "stream",
     "text": [
      "Initial filtering of formulas: 100%|█████████████| 2/2 [00:00<00:00, 141.16it/s]\n",
      "Computing chunks: 100%|████████████████████████| 2/2 [00:00<00:00, 99864.38it/s]\n",
      "Splitting the experimental spectrum into chunks: 55902it [00:00, 3003830.31it/s]\n",
      "Deconvolving chunks: 100%|████████████████████████| 1/1 [00:38<00:00, 38.50s/it]\n"
     ]
    },
    {
     "name": "stdout",
     "output_type": "stream",
     "text": [
      "Estimation for 0.09999999999999999 and 0.15000000000000002 done\n",
      "It took: 38.57020139694214 seconds.\n",
      "[0.5127920544649988, 0.47804274193199886]\n"
     ]
    },
    {
     "name": "stderr",
     "output_type": "stream",
     "text": [
      "Initial filtering of formulas: 100%|█████████████| 2/2 [00:00<00:00, 122.38it/s]\n",
      "Computing chunks: 100%|████████████████████████| 2/2 [00:00<00:00, 72944.42it/s]\n",
      "Splitting the experimental spectrum into chunks: 55902it [00:00, 2715470.11it/s]\n",
      "Deconvolving chunks: 100%|████████████████████████| 1/1 [00:42<00:00, 42.02s/it]\n"
     ]
    },
    {
     "name": "stdout",
     "output_type": "stream",
     "text": [
      "Estimation for 0.09999999999999999 and 0.16 done\n",
      "It took: 42.09632086753845 seconds.\n",
      "[0.5125550072579987, 0.47814036148899886]\n"
     ]
    },
    {
     "name": "stderr",
     "output_type": "stream",
     "text": [
      "Initial filtering of formulas: 100%|█████████████| 2/2 [00:00<00:00, 139.16it/s]\n",
      "Computing chunks: 100%|████████████████████████| 2/2 [00:00<00:00, 80659.69it/s]\n",
      "Splitting the experimental spectrum into chunks: 55902it [00:00, 2882237.03it/s]\n",
      "Deconvolving chunks: 100%|████████████████████████| 1/1 [00:36<00:00, 36.79s/it]\n"
     ]
    },
    {
     "name": "stdout",
     "output_type": "stream",
     "text": [
      "Estimation for 0.09999999999999999 and 0.17 done\n",
      "It took: 36.86471343040466 seconds.\n",
      "[0.5121780909229988, 0.4782124141049988]\n"
     ]
    },
    {
     "name": "stderr",
     "output_type": "stream",
     "text": [
      "Initial filtering of formulas: 100%|█████████████| 2/2 [00:00<00:00, 137.41it/s]\n",
      "Computing chunks: 100%|████████████████████████| 2/2 [00:00<00:00, 71089.90it/s]\n",
      "Splitting the experimental spectrum into chunks: 55902it [00:00, 2869538.39it/s]\n",
      "Deconvolving chunks: 100%|████████████████████████| 1/1 [00:39<00:00, 39.71s/it]\n"
     ]
    },
    {
     "name": "stdout",
     "output_type": "stream",
     "text": [
      "Estimation for 0.09999999999999999 and 0.18000000000000002 done\n",
      "It took: 39.790605306625366 seconds.\n",
      "[0.5117642755059988, 0.47815597764199885]\n"
     ]
    },
    {
     "name": "stderr",
     "output_type": "stream",
     "text": [
      "Initial filtering of formulas: 100%|█████████████| 2/2 [00:00<00:00, 133.47it/s]\n",
      "Computing chunks: 100%|████████████████████████| 2/2 [00:00<00:00, 89240.51it/s]\n",
      "Splitting the experimental spectrum into chunks: 55902it [00:00, 2766248.42it/s]\n",
      "Deconvolving chunks: 100%|████████████████████████| 1/1 [00:38<00:00, 38.29s/it]\n"
     ]
    },
    {
     "name": "stdout",
     "output_type": "stream",
     "text": [
      "Estimation for 0.09999999999999999 and 0.19 done\n",
      "It took: 38.37033128738403 seconds.\n",
      "[0.5113015685449988, 0.47817587444399884]\n"
     ]
    },
    {
     "name": "stderr",
     "output_type": "stream",
     "text": [
      "Initial filtering of formulas: 100%|█████████████| 2/2 [00:00<00:00, 137.02it/s]\n",
      "Computing chunks: 100%|████████████████████████| 2/2 [00:00<00:00, 83055.52it/s]\n",
      "Splitting the experimental spectrum into chunks: 55902it [00:00, 2876579.34it/s]\n",
      "Deconvolving chunks: 100%|████████████████████████| 1/1 [00:36<00:00, 36.07s/it]\n"
     ]
    },
    {
     "name": "stdout",
     "output_type": "stream",
     "text": [
      "Estimation for 0.09999999999999999 and 0.2 done\n",
      "It took: 36.14538836479187 seconds.\n",
      "[0.5105184288389988, 0.47831781724899886]\n"
     ]
    },
    {
     "name": "stderr",
     "output_type": "stream",
     "text": [
      "Initial filtering of formulas: 100%|█████████████| 2/2 [00:00<00:00, 138.04it/s]\n",
      "Computing chunks: 100%|████████████████████████| 2/2 [00:00<00:00, 96420.78it/s]\n",
      "Splitting the experimental spectrum into chunks: 55902it [00:00, 2961414.36it/s]\n",
      "Deconvolving chunks: 100%|████████████████████████| 1/1 [00:35<00:00, 35.77s/it]\n"
     ]
    },
    {
     "name": "stdout",
     "output_type": "stream",
     "text": [
      "Estimation for 0.09999999999999999 and 0.21000000000000002 done\n",
      "It took: 35.84235191345215 seconds.\n",
      "[0.5100901547449987, 0.47808155239199884]\n"
     ]
    },
    {
     "name": "stderr",
     "output_type": "stream",
     "text": [
      "Initial filtering of formulas: 100%|█████████████| 2/2 [00:00<00:00, 136.93it/s]\n",
      "Computing chunks: 100%|████████████████████████| 2/2 [00:00<00:00, 63072.24it/s]\n",
      "Splitting the experimental spectrum into chunks: 55902it [00:00, 2958873.11it/s]\n",
      "Deconvolving chunks: 100%|████████████████████████| 1/1 [00:36<00:00, 36.22s/it]\n"
     ]
    },
    {
     "name": "stdout",
     "output_type": "stream",
     "text": [
      "Estimation for 0.09999999999999999 and 0.22 done\n",
      "It took: 36.29888939857483 seconds.\n",
      "[0.5096352312889988, 0.47769472706899885]\n"
     ]
    },
    {
     "name": "stderr",
     "output_type": "stream",
     "text": [
      "Initial filtering of formulas: 100%|█████████████| 2/2 [00:00<00:00, 111.70it/s]\n",
      "Computing chunks: 100%|████████████████████████| 2/2 [00:00<00:00, 93206.76it/s]\n",
      "Splitting the experimental spectrum into chunks: 55902it [00:00, 2853995.28it/s]\n",
      "Deconvolving chunks: 100%|████████████████████████| 1/1 [00:36<00:00, 36.25s/it]\n"
     ]
    },
    {
     "name": "stdout",
     "output_type": "stream",
     "text": [
      "Estimation for 0.09999999999999999 and 0.23 done\n",
      "It took: 36.32875657081604 seconds.\n",
      "[0.5093631749489987, 0.4775214223279988]\n"
     ]
    },
    {
     "name": "stderr",
     "output_type": "stream",
     "text": [
      "Initial filtering of formulas: 100%|█████████████| 2/2 [00:00<00:00, 142.95it/s]\n",
      "Computing chunks: 100%|███████████████████████| 2/2 [00:00<00:00, 101067.57it/s]\n",
      "Splitting the experimental spectrum into chunks: 55902it [00:00, 2781507.81it/s]\n",
      "Deconvolving chunks: 100%|████████████████████████| 1/1 [00:53<00:00, 53.79s/it]\n"
     ]
    },
    {
     "name": "stdout",
     "output_type": "stream",
     "text": [
      "Estimation for 0.09999999999999999 and 0.24000000000000002 done\n",
      "It took: 53.868813037872314 seconds.\n",
      "[0.5089650224819988, 0.47754976137199884]\n"
     ]
    },
    {
     "name": "stderr",
     "output_type": "stream",
     "text": [
      "Initial filtering of formulas: 100%|██████████████| 2/2 [00:00<00:00, 73.01it/s]\n",
      "Computing chunks: 100%|████████████████████████| 2/2 [00:00<00:00, 21183.35it/s]\n",
      "Splitting the experimental spectrum into chunks: 55902it [00:00, 2346154.44it/s]\n",
      "Deconvolving chunks: 100%|████████████████████████| 1/1 [00:51<00:00, 51.99s/it]\n"
     ]
    },
    {
     "name": "stdout",
     "output_type": "stream",
     "text": [
      "Estimation for 0.09999999999999999 and 0.25 done\n",
      "It took: 52.104514598846436 seconds.\n",
      "[0.5086578556739988, 0.47724119635699885]\n"
     ]
    },
    {
     "name": "stderr",
     "output_type": "stream",
     "text": [
      "Initial filtering of formulas: 100%|█████████████| 2/2 [00:00<00:00, 128.65it/s]\n",
      "Computing chunks: 100%|████████████████████████| 2/2 [00:00<00:00, 67650.06it/s]\n",
      "Splitting the experimental spectrum into chunks: 55902it [00:00, 2585030.07it/s]\n",
      "Deconvolving chunks: 100%|████████████████████████| 1/1 [00:45<00:00, 45.71s/it]\n"
     ]
    },
    {
     "name": "stdout",
     "output_type": "stream",
     "text": [
      "Estimation for 0.09999999999999999 and 0.26 done\n",
      "It took: 45.79884171485901 seconds.\n",
      "[0.5073839116019988, 0.4774197600549988]\n"
     ]
    },
    {
     "name": "stderr",
     "output_type": "stream",
     "text": [
      "Initial filtering of formulas: 100%|█████████████| 2/2 [00:00<00:00, 136.21it/s]\n",
      "Computing chunks: 100%|████████████████████████| 2/2 [00:00<00:00, 84733.41it/s]\n",
      "Splitting the experimental spectrum into chunks: 55902it [00:00, 2843645.94it/s]\n",
      "Deconvolving chunks: 100%|████████████████████████| 1/1 [00:44<00:00, 44.18s/it]\n"
     ]
    },
    {
     "name": "stdout",
     "output_type": "stream",
     "text": [
      "Estimation for 0.09999999999999999 and 0.27 done\n",
      "It took: 44.26274037361145 seconds.\n",
      "[0.5065764865989988, 0.47754161992899885]\n"
     ]
    },
    {
     "name": "stderr",
     "output_type": "stream",
     "text": [
      "Initial filtering of formulas: 100%|█████████████| 2/2 [00:00<00:00, 138.77it/s]\n",
      "Computing chunks: 100%|████████████████████████| 2/2 [00:00<00:00, 70492.50it/s]\n",
      "Splitting the experimental spectrum into chunks: 55902it [00:00, 2794536.34it/s]\n",
      "Deconvolving chunks: 100%|████████████████████████| 1/1 [00:36<00:00, 36.15s/it]\n"
     ]
    },
    {
     "name": "stdout",
     "output_type": "stream",
     "text": [
      "Estimation for 0.09999999999999999 and 0.28 done\n",
      "It took: 36.22390031814575 seconds.\n",
      "[0.5053390402219988, 0.4775557020949988]\n"
     ]
    },
    {
     "name": "stderr",
     "output_type": "stream",
     "text": [
      "Initial filtering of formulas: 100%|█████████████| 2/2 [00:00<00:00, 144.59it/s]\n",
      "Computing chunks: 100%|████████████████████████| 2/2 [00:00<00:00, 82241.25it/s]\n",
      "Splitting the experimental spectrum into chunks: 55902it [00:00, 3005794.20it/s]\n",
      "Deconvolving chunks: 100%|████████████████████████| 1/1 [00:40<00:00, 40.22s/it]\n"
     ]
    },
    {
     "name": "stdout",
     "output_type": "stream",
     "text": [
      "Estimation for 0.09999999999999999 and 0.29000000000000004 done\n",
      "It took: 40.28982973098755 seconds.\n",
      "[0.5031427164779988, 0.4782808972209988]\n"
     ]
    },
    {
     "name": "stderr",
     "output_type": "stream",
     "text": [
      "Initial filtering of formulas: 100%|█████████████| 2/2 [00:00<00:00, 140.30it/s]\n",
      "Computing chunks: 100%|████████████████████████| 2/2 [00:00<00:00, 94254.02it/s]\n",
      "Splitting the experimental spectrum into chunks: 55902it [00:00, 2966284.80it/s]\n",
      "Deconvolving chunks: 100%|████████████████████████| 1/1 [00:35<00:00, 35.83s/it]\n"
     ]
    },
    {
     "name": "stdout",
     "output_type": "stream",
     "text": [
      "Estimation for 0.09999999999999999 and 0.3 done\n",
      "It took: 35.90175008773804 seconds.\n",
      "[0.5014193353239987, 0.47916841908799884]\n"
     ]
    },
    {
     "name": "stderr",
     "output_type": "stream",
     "text": [
      "Initial filtering of formulas: 100%|█████████████| 2/2 [00:00<00:00, 132.57it/s]\n",
      "Computing chunks: 100%|████████████████████████| 2/2 [00:00<00:00, 94254.02it/s]\n",
      "Splitting the experimental spectrum into chunks: 55902it [00:00, 2878203.65it/s]\n",
      "Deconvolving chunks: 100%|████████████████████████| 1/1 [00:38<00:00, 38.74s/it]\n"
     ]
    },
    {
     "name": "stdout",
     "output_type": "stream",
     "text": [
      "Estimation for 0.11 and 0.01 done\n",
      "It took: 38.8171660900116 seconds.\n",
      "[0.5088195309099988, 0.48828954854499884]\n"
     ]
    },
    {
     "name": "stderr",
     "output_type": "stream",
     "text": [
      "Initial filtering of formulas: 100%|█████████████| 2/2 [00:00<00:00, 134.25it/s]\n",
      "Computing chunks: 100%|████████████████████████| 2/2 [00:00<00:00, 93206.76it/s]\n",
      "Splitting the experimental spectrum into chunks: 55902it [00:00, 2821913.64it/s]\n",
      "Deconvolving chunks: 100%|████████████████████████| 1/1 [00:44<00:00, 44.65s/it]\n"
     ]
    },
    {
     "name": "stdout",
     "output_type": "stream",
     "text": [
      "Estimation for 0.11 and 0.02 done\n",
      "It took: 44.721378803253174 seconds.\n",
      "[0.5132984491429988, 0.48155451761499884]\n"
     ]
    },
    {
     "name": "stderr",
     "output_type": "stream",
     "text": [
      "Initial filtering of formulas: 100%|█████████████| 2/2 [00:00<00:00, 126.64it/s]\n",
      "Computing chunks: 100%|████████████████████████| 2/2 [00:00<00:00, 70492.50it/s]\n",
      "Splitting the experimental spectrum into chunks: 55902it [00:00, 2452717.50it/s]\n",
      "Deconvolving chunks: 100%|████████████████████████| 1/1 [00:46<00:00, 46.95s/it]\n"
     ]
    },
    {
     "name": "stdout",
     "output_type": "stream",
     "text": [
      "Estimation for 0.11 and 0.03 done\n",
      "It took: 47.03287982940674 seconds.\n",
      "[0.5175118964409988, 0.47638335488699884]\n"
     ]
    },
    {
     "name": "stderr",
     "output_type": "stream",
     "text": [
      "Initial filtering of formulas: 100%|█████████████| 2/2 [00:00<00:00, 118.37it/s]\n",
      "Computing chunks: 100%|████████████████████████| 2/2 [00:00<00:00, 28244.47it/s]\n",
      "Splitting the experimental spectrum into chunks: 55902it [00:00, 2402011.82it/s]\n",
      "Deconvolving chunks: 100%|████████████████████████| 1/1 [00:46<00:00, 46.54s/it]\n"
     ]
    },
    {
     "name": "stdout",
     "output_type": "stream",
     "text": [
      "Estimation for 0.11 and 0.04 done\n",
      "It took: 46.629910707473755 seconds.\n",
      "[0.5176882529689988, 0.47605867913899885]\n"
     ]
    },
    {
     "name": "stderr",
     "output_type": "stream",
     "text": [
      "Initial filtering of formulas: 100%|█████████████| 2/2 [00:00<00:00, 124.57it/s]\n",
      "Computing chunks: 100%|████████████████████████| 2/2 [00:00<00:00, 79137.81it/s]\n",
      "Splitting the experimental spectrum into chunks: 55902it [00:00, 2646208.86it/s]\n",
      "Deconvolving chunks: 100%|████████████████████████| 1/1 [00:39<00:00, 39.78s/it]\n"
     ]
    },
    {
     "name": "stdout",
     "output_type": "stream",
     "text": [
      "Estimation for 0.11 and 0.05 done\n",
      "It took: 39.860758781433105 seconds.\n",
      "[0.5174995655919988, 0.47611781930099883]\n"
     ]
    },
    {
     "name": "stderr",
     "output_type": "stream",
     "text": [
      "Initial filtering of formulas: 100%|█████████████| 2/2 [00:00<00:00, 135.97it/s]\n",
      "Computing chunks: 100%|████████████████████████| 2/2 [00:00<00:00, 64035.18it/s]\n",
      "Splitting the experimental spectrum into chunks: 55902it [00:00, 2792871.99it/s]\n",
      "Deconvolving chunks: 100%|████████████████████████| 1/1 [00:38<00:00, 38.48s/it]\n"
     ]
    },
    {
     "name": "stdout",
     "output_type": "stream",
     "text": [
      "Estimation for 0.11 and 0.060000000000000005 done\n",
      "It took: 38.561556816101074 seconds.\n",
      "[0.5173641072059988, 0.4761532182109988]\n"
     ]
    },
    {
     "name": "stderr",
     "output_type": "stream",
     "text": [
      "Initial filtering of formulas: 100%|█████████████| 2/2 [00:00<00:00, 143.17it/s]\n",
      "Computing chunks: 100%|████████████████████████| 2/2 [00:00<00:00, 88301.14it/s]\n",
      "Splitting the experimental spectrum into chunks: 55902it [00:00, 2977963.83it/s]\n",
      "Deconvolving chunks: 100%|████████████████████████| 1/1 [00:36<00:00, 36.27s/it]\n"
     ]
    },
    {
     "name": "stdout",
     "output_type": "stream",
     "text": [
      "Estimation for 0.11 and 0.06999999999999999 done\n",
      "It took: 36.34529137611389 seconds.\n",
      "[0.5171483428039988, 0.4762503192829988]\n"
     ]
    },
    {
     "name": "stderr",
     "output_type": "stream",
     "text": [
      "Initial filtering of formulas: 100%|█████████████| 2/2 [00:00<00:00, 142.49it/s]\n",
      "Computing chunks: 100%|████████████████████████| 2/2 [00:00<00:00, 85598.04it/s]\n",
      "Splitting the experimental spectrum into chunks: 55902it [00:00, 2973846.86it/s]\n",
      "Deconvolving chunks: 100%|████████████████████████| 1/1 [00:35<00:00, 35.43s/it]\n"
     ]
    },
    {
     "name": "stdout",
     "output_type": "stream",
     "text": [
      "Estimation for 0.11 and 0.08 done\n",
      "It took: 35.49766516685486 seconds.\n",
      "[0.5171660429799988, 0.47623937225199886]\n"
     ]
    },
    {
     "name": "stderr",
     "output_type": "stream",
     "text": [
      "Initial filtering of formulas: 100%|█████████████| 2/2 [00:00<00:00, 142.39it/s]\n",
      "Computing chunks: 100%|████████████████████████| 2/2 [00:00<00:00, 95325.09it/s]\n",
      "Splitting the experimental spectrum into chunks: 55902it [00:00, 2997149.24it/s]\n",
      "Deconvolving chunks: 100%|████████████████████████| 1/1 [00:36<00:00, 36.78s/it]\n"
     ]
    },
    {
     "name": "stdout",
     "output_type": "stream",
     "text": [
      "Estimation for 0.11 and 0.09 done\n",
      "It took: 36.85051655769348 seconds.\n",
      "[0.5169786072159988, 0.4763376081799988]\n"
     ]
    },
    {
     "name": "stderr",
     "output_type": "stream",
     "text": [
      "Initial filtering of formulas: 100%|█████████████| 2/2 [00:00<00:00, 138.57it/s]\n",
      "Computing chunks: 100%|████████████████████████| 2/2 [00:00<00:00, 92182.51it/s]\n",
      "Splitting the experimental spectrum into chunks: 55902it [00:00, 2884648.29it/s]\n",
      "Deconvolving chunks: 100%|████████████████████████| 1/1 [00:46<00:00, 46.02s/it]\n"
     ]
    },
    {
     "name": "stdout",
     "output_type": "stream",
     "text": [
      "Estimation for 0.11 and 0.09999999999999999 done\n",
      "It took: 46.09930491447449 seconds.\n",
      "[0.5162836636519987, 0.47668530573999884]\n"
     ]
    },
    {
     "name": "stderr",
     "output_type": "stream",
     "text": [
      "Initial filtering of formulas: 100%|█████████████| 2/2 [00:00<00:00, 126.28it/s]\n",
      "Computing chunks: 100%|████████████████████████| 2/2 [00:00<00:00, 60787.01it/s]\n",
      "Splitting the experimental spectrum into chunks: 55902it [00:00, 2623234.90it/s]\n",
      "Deconvolving chunks: 100%|████████████████████████| 1/1 [00:52<00:00, 52.46s/it]\n"
     ]
    },
    {
     "name": "stdout",
     "output_type": "stream",
     "text": [
      "Estimation for 0.11 and 0.11 done\n",
      "It took: 52.55070209503174 seconds.\n",
      "[0.5152757523869987, 0.47718157681299883]\n"
     ]
    },
    {
     "name": "stderr",
     "output_type": "stream",
     "text": [
      "Initial filtering of formulas: 100%|█████████████| 2/2 [00:00<00:00, 115.75it/s]\n",
      "Computing chunks: 100%|████████████████████████| 2/2 [00:00<00:00, 26051.58it/s]\n",
      "Splitting the experimental spectrum into chunks: 55902it [00:00, 2493194.49it/s]\n",
      "Deconvolving chunks: 100%|████████████████████████| 1/1 [00:39<00:00, 39.45s/it]\n"
     ]
    },
    {
     "name": "stdout",
     "output_type": "stream",
     "text": [
      "Estimation for 0.11 and 0.12 done\n",
      "It took: 39.53396463394165 seconds.\n",
      "[0.5146091481999988, 0.47746114092099884]\n"
     ]
    },
    {
     "name": "stderr",
     "output_type": "stream",
     "text": [
      "Initial filtering of formulas: 100%|█████████████| 2/2 [00:00<00:00, 110.55it/s]\n",
      "Computing chunks: 100%|████████████████████████| 2/2 [00:00<00:00, 46603.38it/s]\n",
      "Splitting the experimental spectrum into chunks: 55902it [00:00, 2445069.94it/s]\n",
      "Deconvolving chunks: 100%|████████████████████████| 1/1 [00:39<00:00, 39.46s/it]\n"
     ]
    },
    {
     "name": "stdout",
     "output_type": "stream",
     "text": [
      "Estimation for 0.11 and 0.13 done\n",
      "It took: 39.54639148712158 seconds.\n",
      "[0.5140403543729988, 0.47768294741999884]\n"
     ]
    },
    {
     "name": "stderr",
     "output_type": "stream",
     "text": [
      "Initial filtering of formulas: 100%|█████████████| 2/2 [00:00<00:00, 140.39it/s]\n",
      "Computing chunks: 100%|████████████████████████| 2/2 [00:00<00:00, 68200.07it/s]\n",
      "Splitting the experimental spectrum into chunks: 55902it [00:00, 2813684.81it/s]\n",
      "Deconvolving chunks: 100%|████████████████████████| 1/1 [00:37<00:00, 37.30s/it]\n"
     ]
    },
    {
     "name": "stdout",
     "output_type": "stream",
     "text": [
      "Estimation for 0.11 and 0.14 done\n",
      "It took: 37.37050700187683 seconds.\n",
      "[0.5137164706669988, 0.47777982785499884]\n"
     ]
    },
    {
     "name": "stderr",
     "output_type": "stream",
     "text": [
      "Initial filtering of formulas: 100%|█████████████| 2/2 [00:00<00:00, 143.62it/s]\n",
      "Computing chunks: 100%|████████████████████████| 2/2 [00:00<00:00, 87381.33it/s]\n",
      "Splitting the experimental spectrum into chunks: 55902it [00:00, 3031521.28it/s]\n",
      "Deconvolving chunks: 100%|████████████████████████| 1/1 [00:36<00:00, 36.73s/it]\n"
     ]
    },
    {
     "name": "stdout",
     "output_type": "stream",
     "text": [
      "Estimation for 0.11 and 0.15000000000000002 done\n",
      "It took: 36.796897172927856 seconds.\n",
      "[0.5133721443099988, 0.4778797636139988]\n"
     ]
    },
    {
     "name": "stderr",
     "output_type": "stream",
     "text": [
      "Initial filtering of formulas: 100%|█████████████| 2/2 [00:00<00:00, 142.47it/s]\n",
      "Computing chunks: 100%|████████████████████████| 2/2 [00:00<00:00, 87381.33it/s]\n",
      "Splitting the experimental spectrum into chunks: 55902it [00:00, 3045934.97it/s]\n",
      "Deconvolving chunks: 100%|████████████████████████| 1/1 [00:45<00:00, 45.82s/it]\n"
     ]
    },
    {
     "name": "stdout",
     "output_type": "stream",
     "text": [
      "Estimation for 0.11 and 0.16 done\n",
      "It took: 45.888092041015625 seconds.\n",
      "[0.5130594765739988, 0.4779555316999988]\n"
     ]
    },
    {
     "name": "stderr",
     "output_type": "stream",
     "text": [
      "Initial filtering of formulas: 100%|█████████████| 2/2 [00:00<00:00, 140.57it/s]\n",
      "Computing chunks: 100%|████████████████████████| 2/2 [00:00<00:00, 90200.09it/s]\n",
      "Splitting the experimental spectrum into chunks: 55902it [00:00, 3024521.53it/s]\n",
      "Deconvolving chunks: 100%|████████████████████████| 1/1 [00:42<00:00, 42.39s/it]\n"
     ]
    },
    {
     "name": "stdout",
     "output_type": "stream",
     "text": [
      "Estimation for 0.11 and 0.17 done\n",
      "It took: 42.46797752380371 seconds.\n",
      "[0.5128418956029988, 0.47801749808899885]\n"
     ]
    },
    {
     "name": "stderr",
     "output_type": "stream",
     "text": [
      "Initial filtering of formulas: 100%|█████████████| 2/2 [00:00<00:00, 139.38it/s]\n",
      "Computing chunks: 100%|████████████████████████| 2/2 [00:00<00:00, 91180.52it/s]\n",
      "Splitting the experimental spectrum into chunks: 55902it [00:00, 2580137.36it/s]\n",
      "Deconvolving chunks: 100%|████████████████████████| 1/1 [01:04<00:00, 64.72s/it]\n"
     ]
    },
    {
     "name": "stdout",
     "output_type": "stream",
     "text": [
      "Estimation for 0.11 and 0.18000000000000002 done\n",
      "It took: 64.79687333106995 seconds.\n",
      "[0.5126376650389988, 0.4780969704299988]\n"
     ]
    },
    {
     "name": "stderr",
     "output_type": "stream",
     "text": [
      "Initial filtering of formulas: 100%|█████████████| 2/2 [00:00<00:00, 120.35it/s]\n",
      "Computing chunks: 100%|████████████████████████| 2/2 [00:00<00:00, 51150.05it/s]\n",
      "Splitting the experimental spectrum into chunks: 55902it [00:00, 2639357.72it/s]\n",
      "Deconvolving chunks: 100%|████████████████████████| 1/1 [00:46<00:00, 46.58s/it]\n"
     ]
    },
    {
     "name": "stdout",
     "output_type": "stream",
     "text": [
      "Estimation for 0.11 and 0.19 done\n",
      "It took: 46.67521858215332 seconds.\n",
      "[0.5122596504009987, 0.47819192831999885]\n"
     ]
    },
    {
     "name": "stderr",
     "output_type": "stream",
     "text": [
      "Initial filtering of formulas: 100%|█████████████| 2/2 [00:00<00:00, 123.78it/s]\n",
      "Computing chunks: 100%|████████████████████████| 2/2 [00:00<00:00, 90200.09it/s]\n",
      "Splitting the experimental spectrum into chunks: 55902it [00:00, 2774431.52it/s]\n",
      "Deconvolving chunks: 100%|████████████████████████| 1/1 [00:38<00:00, 38.29s/it]\n"
     ]
    },
    {
     "name": "stdout",
     "output_type": "stream",
     "text": [
      "Estimation for 0.11 and 0.2 done\n",
      "It took: 38.3768572807312 seconds.\n",
      "[0.5118006800309988, 0.4782144069859988]\n"
     ]
    },
    {
     "name": "stderr",
     "output_type": "stream",
     "text": [
      "Initial filtering of formulas: 100%|█████████████| 2/2 [00:00<00:00, 132.70it/s]\n",
      "Computing chunks: 100%|████████████████████████| 2/2 [00:00<00:00, 56299.38it/s]\n",
      "Splitting the experimental spectrum into chunks: 55902it [00:00, 2793570.77it/s]\n",
      "Deconvolving chunks: 100%|████████████████████████| 1/1 [00:36<00:00, 36.56s/it]\n"
     ]
    },
    {
     "name": "stdout",
     "output_type": "stream",
     "text": [
      "Estimation for 0.11 and 0.21000000000000002 done\n",
      "It took: 36.637837648391724 seconds.\n",
      "[0.5113658827039987, 0.47819417463099884]\n"
     ]
    },
    {
     "name": "stderr",
     "output_type": "stream",
     "text": [
      "Initial filtering of formulas: 100%|█████████████| 2/2 [00:00<00:00, 139.73it/s]\n",
      "Computing chunks: 100%|████████████████████████| 2/2 [00:00<00:00, 61230.72it/s]\n",
      "Splitting the experimental spectrum into chunks: 55902it [00:00, 3046805.74it/s]\n",
      "Deconvolving chunks: 100%|████████████████████████| 1/1 [00:36<00:00, 36.53s/it]\n"
     ]
    },
    {
     "name": "stdout",
     "output_type": "stream",
     "text": [
      "Estimation for 0.11 and 0.22 done\n",
      "It took: 36.59712624549866 seconds.\n",
      "[0.5107578326619988, 0.4781357018679988]\n"
     ]
    },
    {
     "name": "stderr",
     "output_type": "stream",
     "text": [
      "Initial filtering of formulas: 100%|█████████████| 2/2 [00:00<00:00, 142.79it/s]\n",
      "Computing chunks: 100%|████████████████████████| 2/2 [00:00<00:00, 58661.59it/s]\n",
      "Splitting the experimental spectrum into chunks: 55902it [00:00, 3017126.89it/s]\n",
      "Deconvolving chunks: 100%|████████████████████████| 1/1 [00:35<00:00, 35.97s/it]\n"
     ]
    },
    {
     "name": "stdout",
     "output_type": "stream",
     "text": [
      "Estimation for 0.11 and 0.23 done\n",
      "It took: 36.03735828399658 seconds.\n",
      "[0.5102076648959988, 0.4777825121789988]\n"
     ]
    },
    {
     "name": "stderr",
     "output_type": "stream",
     "text": [
      "Initial filtering of formulas: 100%|█████████████| 2/2 [00:00<00:00, 140.85it/s]\n",
      "Computing chunks: 100%|████████████████████████| 2/2 [00:00<00:00, 98689.51it/s]\n",
      "Splitting the experimental spectrum into chunks: 55902it [00:00, 2990078.33it/s]\n",
      "Deconvolving chunks: 100%|████████████████████████| 1/1 [00:38<00:00, 38.66s/it]\n"
     ]
    },
    {
     "name": "stdout",
     "output_type": "stream",
     "text": [
      "Estimation for 0.11 and 0.24000000000000002 done\n",
      "It took: 38.72691535949707 seconds.\n",
      "[0.5099876439859988, 0.47750239067999883]\n"
     ]
    },
    {
     "name": "stderr",
     "output_type": "stream",
     "text": [
      "Initial filtering of formulas: 100%|█████████████| 2/2 [00:00<00:00, 144.10it/s]\n",
      "Computing chunks: 100%|███████████████████████| 2/2 [00:00<00:00, 101067.57it/s]\n",
      "Splitting the experimental spectrum into chunks: 55902it [00:00, 2981182.23it/s]\n",
      "Deconvolving chunks: 100%|████████████████████████| 1/1 [00:41<00:00, 41.16s/it]\n"
     ]
    },
    {
     "name": "stdout",
     "output_type": "stream",
     "text": [
      "Estimation for 0.11 and 0.25 done\n",
      "It took: 41.24036145210266 seconds.\n",
      "[0.5095338030059988, 0.47749865056299884]\n"
     ]
    },
    {
     "name": "stderr",
     "output_type": "stream",
     "text": [
      "Initial filtering of formulas: 100%|█████████████| 2/2 [00:00<00:00, 117.85it/s]\n",
      "Computing chunks: 100%|████████████████████████| 2/2 [00:00<00:00, 61230.72it/s]\n",
      "Splitting the experimental spectrum into chunks: 55902it [00:00, 2351896.63it/s]\n",
      "Deconvolving chunks: 100%|████████████████████████| 1/1 [00:46<00:00, 46.02s/it]\n"
     ]
    },
    {
     "name": "stdout",
     "output_type": "stream",
     "text": [
      "Estimation for 0.11 and 0.26 done\n",
      "It took: 46.11060929298401 seconds.\n",
      "[0.5090939928859988, 0.4774150410979988]\n"
     ]
    },
    {
     "name": "stderr",
     "output_type": "stream",
     "text": [
      "Initial filtering of formulas: 100%|█████████████| 2/2 [00:00<00:00, 123.33it/s]\n",
      "Computing chunks: 100%|████████████████████████| 2/2 [00:00<00:00, 50840.05it/s]\n",
      "Splitting the experimental spectrum into chunks: 55902it [00:00, 2602561.63it/s]\n",
      "Deconvolving chunks: 100%|████████████████████████| 1/1 [00:45<00:00, 45.37s/it]\n"
     ]
    },
    {
     "name": "stdout",
     "output_type": "stream",
     "text": [
      "Estimation for 0.11 and 0.27 done\n",
      "It took: 45.458996534347534 seconds.\n",
      "[0.5088796058559988, 0.47705975405799883]\n"
     ]
    },
    {
     "name": "stderr",
     "output_type": "stream",
     "text": [
      "Initial filtering of formulas: 100%|█████████████| 2/2 [00:00<00:00, 136.76it/s]\n",
      "Computing chunks: 100%|████████████████████████| 2/2 [00:00<00:00, 98689.51it/s]\n",
      "Splitting the experimental spectrum into chunks: 55902it [00:00, 2894048.02it/s]\n",
      "Deconvolving chunks: 100%|████████████████████████| 1/1 [00:36<00:00, 36.53s/it]\n"
     ]
    },
    {
     "name": "stdout",
     "output_type": "stream",
     "text": [
      "Estimation for 0.11 and 0.28 done\n",
      "It took: 36.60442018508911 seconds.\n",
      "[0.5076821680399988, 0.47726901203699884]\n"
     ]
    },
    {
     "name": "stderr",
     "output_type": "stream",
     "text": [
      "Initial filtering of formulas: 100%|█████████████| 2/2 [00:00<00:00, 127.57it/s]\n",
      "Computing chunks: 100%|████████████████████████| 2/2 [00:00<00:00, 36314.32it/s]\n",
      "Splitting the experimental spectrum into chunks: 55902it [00:00, 2685303.75it/s]\n",
      "Deconvolving chunks: 100%|████████████████████████| 1/1 [00:39<00:00, 39.73s/it]\n"
     ]
    },
    {
     "name": "stdout",
     "output_type": "stream",
     "text": [
      "Estimation for 0.11 and 0.29000000000000004 done\n",
      "It took: 39.80195355415344 seconds.\n",
      "[0.5068180038529988, 0.47705561138499886]\n"
     ]
    },
    {
     "name": "stderr",
     "output_type": "stream",
     "text": [
      "Initial filtering of formulas: 100%|█████████████| 2/2 [00:00<00:00, 141.21it/s]\n",
      "Computing chunks: 100%|████████████████████████| 2/2 [00:00<00:00, 57852.47it/s]\n",
      "Splitting the experimental spectrum into chunks: 55902it [00:00, 2981712.98it/s]\n",
      "Deconvolving chunks: 100%|████████████████████████| 1/1 [00:34<00:00, 34.74s/it]\n"
     ]
    },
    {
     "name": "stdout",
     "output_type": "stream",
     "text": [
      "Estimation for 0.11 and 0.3 done\n",
      "It took: 34.81172728538513 seconds.\n",
      "[0.5059362624199988, 0.4770999012209988]\n"
     ]
    },
    {
     "name": "stderr",
     "output_type": "stream",
     "text": [
      "Initial filtering of formulas: 100%|█████████████| 2/2 [00:00<00:00, 140.72it/s]\n",
      "Computing chunks: 100%|████████████████████████| 2/2 [00:00<00:00, 61680.94it/s]\n",
      "Splitting the experimental spectrum into chunks: 55902it [00:00, 2931754.30it/s]\n",
      "Deconvolving chunks: 100%|████████████████████████| 1/1 [00:37<00:00, 37.56s/it]\n"
     ]
    },
    {
     "name": "stdout",
     "output_type": "stream",
     "text": [
      "Estimation for 0.12 and 0.01 done\n",
      "It took: 37.629658460617065 seconds.\n",
      "[0.5106052824789988, 0.48697682798599884]\n"
     ]
    },
    {
     "name": "stderr",
     "output_type": "stream",
     "text": [
      "Initial filtering of formulas: 100%|█████████████| 2/2 [00:00<00:00, 140.24it/s]\n",
      "Computing chunks: 100%|████████████████████████| 2/2 [00:00<00:00, 99864.38it/s]\n",
      "Splitting the experimental spectrum into chunks: 55902it [00:00, 3035681.69it/s]\n",
      "Deconvolving chunks: 100%|████████████████████████| 1/1 [00:38<00:00, 38.28s/it]\n"
     ]
    },
    {
     "name": "stdout",
     "output_type": "stream",
     "text": [
      "Estimation for 0.12 and 0.02 done\n",
      "It took: 38.353087425231934 seconds.\n",
      "[0.5140877359559988, 0.48166516869799886]\n"
     ]
    },
    {
     "name": "stderr",
     "output_type": "stream",
     "text": [
      "Initial filtering of formulas: 100%|█████████████| 2/2 [00:00<00:00, 144.78it/s]\n",
      "Computing chunks: 100%|███████████████████████| 2/2 [00:00<00:00, 101067.57it/s]\n",
      "Splitting the experimental spectrum into chunks: 55902it [00:00, 2961227.36it/s]\n",
      "Deconvolving chunks: 100%|████████████████████████| 1/1 [00:45<00:00, 45.40s/it]\n"
     ]
    },
    {
     "name": "stdout",
     "output_type": "stream",
     "text": [
      "Estimation for 0.12 and 0.03 done\n",
      "It took: 45.47730207443237 seconds.\n",
      "[0.5179590776249988, 0.4764191097159988]\n"
     ]
    },
    {
     "name": "stderr",
     "output_type": "stream",
     "text": [
      "Initial filtering of formulas: 100%|█████████████| 2/2 [00:00<00:00, 119.55it/s]\n",
      "Computing chunks: 100%|████████████████████████| 2/2 [00:00<00:00, 69327.34it/s]\n",
      "Splitting the experimental spectrum into chunks: 55902it [00:00, 2619629.99it/s]\n",
      "Deconvolving chunks: 100%|████████████████████████| 1/1 [00:54<00:00, 54.95s/it]\n"
     ]
    },
    {
     "name": "stdout",
     "output_type": "stream",
     "text": [
      "Estimation for 0.12 and 0.04 done\n",
      "It took: 55.041643381118774 seconds.\n",
      "[0.5180993016569988, 0.4760238177969988]\n"
     ]
    },
    {
     "name": "stderr",
     "output_type": "stream",
     "text": [
      "Initial filtering of formulas: 100%|█████████████| 2/2 [00:00<00:00, 131.55it/s]\n",
      "Computing chunks: 100%|████████████████████████| 2/2 [00:00<00:00, 57456.22it/s]\n",
      "Splitting the experimental spectrum into chunks: 55902it [00:00, 2547783.66it/s]\n",
      "Deconvolving chunks: 100%|████████████████████████| 1/1 [00:42<00:00, 42.22s/it]\n"
     ]
    },
    {
     "name": "stdout",
     "output_type": "stream",
     "text": [
      "Estimation for 0.12 and 0.05 done\n",
      "It took: 42.30471968650818 seconds.\n",
      "[0.5179979917999987, 0.4760781128039988]\n"
     ]
    },
    {
     "name": "stderr",
     "output_type": "stream",
     "text": [
      "Initial filtering of formulas: 100%|█████████████| 2/2 [00:00<00:00, 136.64it/s]\n",
      "Computing chunks: 100%|████████████████████████| 2/2 [00:00<00:00, 97541.95it/s]\n",
      "Splitting the experimental spectrum into chunks: 55902it [00:00, 2951758.47it/s]\n",
      "Deconvolving chunks: 100%|████████████████████████| 1/1 [00:37<00:00, 37.75s/it]\n"
     ]
    },
    {
     "name": "stdout",
     "output_type": "stream",
     "text": [
      "Estimation for 0.12 and 0.060000000000000005 done\n",
      "It took: 37.830392360687256 seconds.\n",
      "[0.5179839194649988, 0.47604395090999885]\n"
     ]
    },
    {
     "name": "stderr",
     "output_type": "stream",
     "text": [
      "Initial filtering of formulas: 100%|█████████████| 2/2 [00:00<00:00, 139.15it/s]\n",
      "Computing chunks: 100%|████████████████████████| 2/2 [00:00<00:00, 72315.59it/s]\n",
      "Splitting the experimental spectrum into chunks: 55902it [00:00, 2935314.44it/s]\n",
      "Deconvolving chunks: 100%|████████████████████████| 1/1 [00:38<00:00, 38.36s/it]\n"
     ]
    },
    {
     "name": "stdout",
     "output_type": "stream",
     "text": [
      "Estimation for 0.12 and 0.06999999999999999 done\n",
      "It took: 38.43144083023071 seconds.\n",
      "[0.5180053307329988, 0.47598931999899885]\n"
     ]
    },
    {
     "name": "stderr",
     "output_type": "stream",
     "text": [
      "Initial filtering of formulas: 100%|█████████████| 2/2 [00:00<00:00, 140.88it/s]\n",
      "Computing chunks: 100%|████████████████████████| 2/2 [00:00<00:00, 88301.14it/s]\n",
      "Splitting the experimental spectrum into chunks: 55902it [00:00, 2907325.44it/s]\n",
      "Deconvolving chunks: 100%|████████████████████████| 1/1 [00:37<00:00, 37.61s/it]\n"
     ]
    },
    {
     "name": "stdout",
     "output_type": "stream",
     "text": [
      "Estimation for 0.12 and 0.08 done\n",
      "It took: 37.687119245529175 seconds.\n",
      "[0.5178025091769988, 0.47602543998299884]\n"
     ]
    },
    {
     "name": "stderr",
     "output_type": "stream",
     "text": [
      "Initial filtering of formulas: 100%|█████████████| 2/2 [00:00<00:00, 139.98it/s]\n",
      "Computing chunks: 100%|████████████████████████| 2/2 [00:00<00:00, 98689.51it/s]\n",
      "Splitting the experimental spectrum into chunks: 55902it [00:00, 3084928.39it/s]\n",
      "Deconvolving chunks: 100%|████████████████████████| 1/1 [00:36<00:00, 36.53s/it]\n"
     ]
    },
    {
     "name": "stdout",
     "output_type": "stream",
     "text": [
      "Estimation for 0.12 and 0.09 done\n",
      "It took: 36.603410959243774 seconds.\n",
      "[0.5174608418699987, 0.4761492384809988]\n"
     ]
    },
    {
     "name": "stderr",
     "output_type": "stream",
     "text": [
      "Initial filtering of formulas: 100%|█████████████| 2/2 [00:00<00:00, 144.28it/s]\n",
      "Computing chunks: 100%|███████████████████████| 2/2 [00:00<00:00, 104857.60it/s]\n",
      "Splitting the experimental spectrum into chunks: 55902it [00:00, 3038829.18it/s]\n",
      "Deconvolving chunks: 100%|████████████████████████| 1/1 [00:45<00:00, 45.50s/it]\n"
     ]
    },
    {
     "name": "stdout",
     "output_type": "stream",
     "text": [
      "Estimation for 0.12 and 0.09999999999999999 done\n",
      "It took: 45.57523226737976 seconds.\n",
      "[0.5173229612249988, 0.4761670830829988]\n"
     ]
    },
    {
     "name": "stderr",
     "output_type": "stream",
     "text": [
      "Initial filtering of formulas: 100%|█████████████| 2/2 [00:00<00:00, 119.33it/s]\n",
      "Computing chunks: 100%|████████████████████████| 2/2 [00:00<00:00, 72315.59it/s]\n",
      "Splitting the experimental spectrum into chunks: 55902it [00:00, 2502267.61it/s]\n",
      "Deconvolving chunks: 100%|████████████████████████| 1/1 [00:53<00:00, 53.71s/it]\n"
     ]
    },
    {
     "name": "stdout",
     "output_type": "stream",
     "text": [
      "Estimation for 0.12 and 0.11 done\n",
      "It took: 53.80279850959778 seconds.\n",
      "[0.5170596562189987, 0.47625391632099884]\n"
     ]
    },
    {
     "name": "stderr",
     "output_type": "stream",
     "text": [
      "Initial filtering of formulas: 100%|█████████████| 2/2 [00:00<00:00, 109.86it/s]\n",
      "Computing chunks: 100%|████████████████████████| 2/2 [00:00<00:00, 11881.88it/s]\n",
      "Splitting the experimental spectrum into chunks: 55902it [00:00, 2302427.26it/s]\n",
      "Deconvolving chunks: 100%|████████████████████████| 1/1 [00:42<00:00, 42.90s/it]\n"
     ]
    },
    {
     "name": "stdout",
     "output_type": "stream",
     "text": [
      "Estimation for 0.12 and 0.12 done\n",
      "It took: 42.99129390716553 seconds.\n",
      "[0.5163237949019988, 0.4766194945089988]\n"
     ]
    },
    {
     "name": "stderr",
     "output_type": "stream",
     "text": [
      "Initial filtering of formulas: 100%|█████████████| 2/2 [00:00<00:00, 139.36it/s]\n",
      "Computing chunks: 100%|████████████████████████| 2/2 [00:00<00:00, 79891.50it/s]\n",
      "Splitting the experimental spectrum into chunks: 55902it [00:00, 2901497.12it/s]\n",
      "Deconvolving chunks: 100%|████████████████████████| 1/1 [00:38<00:00, 38.16s/it]\n"
     ]
    },
    {
     "name": "stdout",
     "output_type": "stream",
     "text": [
      "Estimation for 0.12 and 0.13 done\n",
      "It took: 38.23565220832825 seconds.\n",
      "[0.5154724360029987, 0.47702628921199886]\n"
     ]
    },
    {
     "name": "stderr",
     "output_type": "stream",
     "text": [
      "Initial filtering of formulas: 100%|█████████████| 2/2 [00:00<00:00, 138.28it/s]\n",
      "Computing chunks: 100%|████████████████████████| 2/2 [00:00<00:00, 86480.49it/s]\n",
      "Splitting the experimental spectrum into chunks: 55902it [00:00, 2930398.59it/s]\n",
      "Deconvolving chunks: 100%|████████████████████████| 1/1 [00:37<00:00, 37.65s/it]\n"
     ]
    },
    {
     "name": "stdout",
     "output_type": "stream",
     "text": [
      "Estimation for 0.12 and 0.14 done\n",
      "It took: 37.72932839393616 seconds.\n",
      "[0.5147260885059988, 0.4773718023849988]\n"
     ]
    },
    {
     "name": "stderr",
     "output_type": "stream",
     "text": [
      "Initial filtering of formulas: 100%|█████████████| 2/2 [00:00<00:00, 143.63it/s]\n",
      "Computing chunks: 100%|████████████████████████| 2/2 [00:00<00:00, 86480.49it/s]\n",
      "Splitting the experimental spectrum into chunks: 55902it [00:00, 3021442.52it/s]\n",
      "Deconvolving chunks: 100%|████████████████████████| 1/1 [00:56<00:00, 56.52s/it]\n"
     ]
    },
    {
     "name": "stdout",
     "output_type": "stream",
     "text": [
      "Estimation for 0.12 and 0.15000000000000002 done\n",
      "It took: 56.58698868751526 seconds.\n",
      "[0.5141382788539988, 0.47759028933899883]\n"
     ]
    },
    {
     "name": "stderr",
     "output_type": "stream",
     "text": [
      "Initial filtering of formulas: 100%|█████████████| 2/2 [00:00<00:00, 144.25it/s]\n",
      "Computing chunks: 100%|████████████████████████| 2/2 [00:00<00:00, 96420.78it/s]\n",
      "Splitting the experimental spectrum into chunks: 55902it [00:00, 3028467.13it/s]\n",
      "Deconvolving chunks: 100%|████████████████████████| 1/1 [00:49<00:00, 49.87s/it]\n"
     ]
    },
    {
     "name": "stdout",
     "output_type": "stream",
     "text": [
      "Estimation for 0.12 and 0.16 done\n",
      "It took: 49.94399857521057 seconds.\n",
      "[0.5137314260439988, 0.4777479088309988]\n"
     ]
    },
    {
     "name": "stderr",
     "output_type": "stream",
     "text": [
      "Initial filtering of formulas: 100%|█████████████| 2/2 [00:00<00:00, 119.70it/s]\n",
      "Computing chunks: 100%|████████████████████████| 2/2 [00:00<00:00, 39199.10it/s]\n",
      "Splitting the experimental spectrum into chunks: 55902it [00:00, 2366399.71it/s]\n",
      "Deconvolving chunks: 100%|████████████████████████| 1/1 [00:56<00:00, 56.97s/it]\n"
     ]
    },
    {
     "name": "stdout",
     "output_type": "stream",
     "text": [
      "Estimation for 0.12 and 0.17 done\n",
      "It took: 57.0622935295105 seconds.\n",
      "[0.5134422180229988, 0.47780245867899884]\n"
     ]
    },
    {
     "name": "stderr",
     "output_type": "stream",
     "text": [
      "Initial filtering of formulas: 100%|█████████████| 2/2 [00:00<00:00, 129.08it/s]\n",
      "Computing chunks: 100%|████████████████████████| 2/2 [00:00<00:00, 68200.07it/s]\n",
      "Splitting the experimental spectrum into chunks: 55902it [00:00, 2562513.47it/s]\n",
      "Deconvolving chunks: 100%|████████████████████████| 1/1 [00:41<00:00, 41.58s/it]\n"
     ]
    },
    {
     "name": "stdout",
     "output_type": "stream",
     "text": [
      "Estimation for 0.12 and 0.18000000000000002 done\n",
      "It took: 41.66756463050842 seconds.\n",
      "[0.5131458175539988, 0.4779110251009988]\n"
     ]
    },
    {
     "name": "stderr",
     "output_type": "stream",
     "text": [
      "Initial filtering of formulas: 100%|█████████████| 2/2 [00:00<00:00, 135.64it/s]\n",
      "Computing chunks: 100%|████████████████████████| 2/2 [00:00<00:00, 88301.14it/s]\n",
      "Splitting the experimental spectrum into chunks: 55902it [00:00, 2874111.08it/s]\n",
      "Deconvolving chunks: 100%|████████████████████████| 1/1 [00:47<00:00, 47.35s/it]\n"
     ]
    },
    {
     "name": "stdout",
     "output_type": "stream",
     "text": [
      "Estimation for 0.12 and 0.19 done\n",
      "It took: 47.42395257949829 seconds.\n",
      "[0.5129419594799988, 0.47797991105599885]\n"
     ]
    },
    {
     "name": "stderr",
     "output_type": "stream",
     "text": [
      "Initial filtering of formulas: 100%|█████████████| 2/2 [00:00<00:00, 134.20it/s]\n",
      "Computing chunks: 100%|████████████████████████| 2/2 [00:00<00:00, 47393.27it/s]\n",
      "Splitting the experimental spectrum into chunks: 55902it [00:00, 2849520.95it/s]\n",
      "Deconvolving chunks: 100%|████████████████████████| 1/1 [00:41<00:00, 41.43s/it]\n"
     ]
    },
    {
     "name": "stdout",
     "output_type": "stream",
     "text": [
      "Estimation for 0.12 and 0.2 done\n",
      "It took: 41.508689641952515 seconds.\n",
      "[0.5127544725999987, 0.47808235536399885]\n"
     ]
    },
    {
     "name": "stderr",
     "output_type": "stream",
     "text": [
      "Initial filtering of formulas: 100%|█████████████| 2/2 [00:00<00:00, 138.56it/s]\n",
      "Computing chunks: 100%|████████████████████████| 2/2 [00:00<00:00, 90200.09it/s]\n",
      "Splitting the experimental spectrum into chunks: 55902it [00:00, 2964072.39it/s]\n",
      "Deconvolving chunks: 100%|████████████████████████| 1/1 [00:36<00:00, 36.69s/it]\n"
     ]
    },
    {
     "name": "stdout",
     "output_type": "stream",
     "text": [
      "Estimation for 0.12 and 0.21000000000000002 done\n",
      "It took: 36.76497268676758 seconds.\n",
      "[0.5124184304309988, 0.4781773412079988]\n"
     ]
    },
    {
     "name": "stderr",
     "output_type": "stream",
     "text": [
      "Initial filtering of formulas: 100%|█████████████| 2/2 [00:00<00:00, 141.13it/s]\n",
      "Computing chunks: 100%|████████████████████████| 2/2 [00:00<00:00, 95325.09it/s]\n",
      "Splitting the experimental spectrum into chunks: 55902it [00:00, 3045104.25it/s]\n",
      "Deconvolving chunks: 100%|████████████████████████| 1/1 [00:34<00:00, 34.90s/it]\n"
     ]
    },
    {
     "name": "stdout",
     "output_type": "stream",
     "text": [
      "Estimation for 0.12 and 0.22 done\n",
      "It took: 34.968544006347656 seconds.\n",
      "[0.5119679643299988, 0.47817178221499884]\n"
     ]
    },
    {
     "name": "stderr",
     "output_type": "stream",
     "text": [
      "Initial filtering of formulas: 100%|█████████████| 2/2 [00:00<00:00, 141.68it/s]\n",
      "Computing chunks: 100%|███████████████████████| 2/2 [00:00<00:00, 104857.60it/s]\n",
      "Splitting the experimental spectrum into chunks: 55902it [00:00, 3039814.12it/s]\n",
      "Deconvolving chunks: 100%|████████████████████████| 1/1 [00:43<00:00, 43.55s/it]\n"
     ]
    },
    {
     "name": "stdout",
     "output_type": "stream",
     "text": [
      "Estimation for 0.12 and 0.23 done\n",
      "It took: 43.62442326545715 seconds.\n",
      "[0.5116810646879988, 0.47809807812699884]\n"
     ]
    },
    {
     "name": "stderr",
     "output_type": "stream",
     "text": [
      "Initial filtering of formulas: 100%|██████████████| 2/2 [00:00<00:00, 76.02it/s]\n",
      "Computing chunks: 100%|████████████████████████| 2/2 [00:00<00:00, 25343.23it/s]\n",
      "Splitting the experimental spectrum into chunks: 55902it [00:00, 1798703.40it/s]\n",
      "Deconvolving chunks: 100%|████████████████████████| 1/1 [00:47<00:00, 47.75s/it]\n"
     ]
    },
    {
     "name": "stdout",
     "output_type": "stream",
     "text": [
      "Estimation for 0.12 and 0.24000000000000002 done\n",
      "It took: 47.87572240829468 seconds.\n",
      "[0.5111780882409988, 0.4776880716349988]\n"
     ]
    },
    {
     "name": "stderr",
     "output_type": "stream",
     "text": [
      "Initial filtering of formulas: 100%|█████████████| 2/2 [00:00<00:00, 125.69it/s]\n",
      "Computing chunks: 100%|████████████████████████| 2/2 [00:00<00:00, 67650.06it/s]\n",
      "Splitting the experimental spectrum into chunks: 55902it [00:00, 2595876.87it/s]\n",
      "Deconvolving chunks: 100%|████████████████████████| 1/1 [00:47<00:00, 47.22s/it]\n"
     ]
    },
    {
     "name": "stdout",
     "output_type": "stream",
     "text": [
      "Estimation for 0.12 and 0.25 done\n",
      "It took: 47.30456852912903 seconds.\n",
      "[0.5106897941249988, 0.4775304523939988]\n"
     ]
    },
    {
     "name": "stderr",
     "output_type": "stream",
     "text": [
      "Initial filtering of formulas: 100%|█████████████| 2/2 [00:00<00:00, 141.37it/s]\n",
      "Computing chunks: 100%|████████████████████████| 2/2 [00:00<00:00, 82241.25it/s]\n",
      "Splitting the experimental spectrum into chunks: 55902it [00:00, 2969966.97it/s]\n",
      "Deconvolving chunks: 100%|████████████████████████| 1/1 [00:39<00:00, 39.15s/it]\n"
     ]
    },
    {
     "name": "stdout",
     "output_type": "stream",
     "text": [
      "Estimation for 0.12 and 0.26 done\n",
      "It took: 39.22661304473877 seconds.\n",
      "[0.5101014756709987, 0.47755754069999884]\n"
     ]
    },
    {
     "name": "stderr",
     "output_type": "stream",
     "text": [
      "Initial filtering of formulas: 100%|█████████████| 2/2 [00:00<00:00, 137.19it/s]\n",
      "Computing chunks: 100%|████████████████████████| 2/2 [00:00<00:00, 88301.14it/s]\n",
      "Splitting the experimental spectrum into chunks: 55902it [00:00, 2888877.72it/s]\n",
      "Deconvolving chunks: 100%|████████████████████████| 1/1 [00:38<00:00, 38.38s/it]\n"
     ]
    },
    {
     "name": "stdout",
     "output_type": "stream",
     "text": [
      "Estimation for 0.12 and 0.27 done\n",
      "It took: 38.45873975753784 seconds.\n",
      "[0.5098888499629988, 0.4774158502559988]\n"
     ]
    },
    {
     "name": "stderr",
     "output_type": "stream",
     "text": [
      "Initial filtering of formulas: 100%|█████████████| 2/2 [00:00<00:00, 132.22it/s]\n",
      "Computing chunks: 100%|████████████████████████| 2/2 [00:00<00:00, 94254.02it/s]\n",
      "Splitting the experimental spectrum into chunks: 55902it [00:00, 2922800.54it/s]\n",
      "Deconvolving chunks: 100%|████████████████████████| 1/1 [00:34<00:00, 34.87s/it]\n"
     ]
    },
    {
     "name": "stdout",
     "output_type": "stream",
     "text": [
      "Estimation for 0.12 and 0.28 done\n",
      "It took: 34.94019913673401 seconds.\n",
      "[0.5093681518359988, 0.47714739989599886]\n"
     ]
    },
    {
     "name": "stderr",
     "output_type": "stream",
     "text": [
      "Initial filtering of formulas: 100%|█████████████| 2/2 [00:00<00:00, 143.09it/s]\n",
      "Computing chunks: 100%|████████████████████████| 2/2 [00:00<00:00, 83055.52it/s]\n",
      "Splitting the experimental spectrum into chunks: 55902it [00:00, 3079377.77it/s]\n",
      "Deconvolving chunks: 100%|████████████████████████| 1/1 [00:34<00:00, 34.67s/it]\n"
     ]
    },
    {
     "name": "stdout",
     "output_type": "stream",
     "text": [
      "Estimation for 0.12 and 0.29000000000000004 done\n",
      "It took: 34.73857283592224 seconds.\n",
      "[0.5090328119009988, 0.47689877400799885]\n"
     ]
    },
    {
     "name": "stderr",
     "output_type": "stream",
     "text": [
      "Initial filtering of formulas: 100%|█████████████| 2/2 [00:00<00:00, 135.67it/s]\n",
      "Computing chunks: 100%|████████████████████████| 2/2 [00:00<00:00, 94254.02it/s]\n",
      "Splitting the experimental spectrum into chunks: 55902it [00:00, 2987525.73it/s]\n",
      "Deconvolving chunks: 100%|████████████████████████| 1/1 [00:42<00:00, 42.62s/it]\n"
     ]
    },
    {
     "name": "stdout",
     "output_type": "stream",
     "text": [
      "Estimation for 0.12 and 0.3 done\n",
      "It took: 42.69368004798889 seconds.\n",
      "[0.5077333274019987, 0.47714030190799883]\n"
     ]
    },
    {
     "name": "stderr",
     "output_type": "stream",
     "text": [
      "Initial filtering of formulas: 100%|█████████████| 2/2 [00:00<00:00, 122.24it/s]\n",
      "Computing chunks: 100%|████████████████████████| 2/2 [00:00<00:00, 44620.26it/s]\n",
      "Splitting the experimental spectrum into chunks: 55902it [00:00, 2575008.59it/s]\n",
      "Deconvolving chunks: 100%|████████████████████████| 1/1 [00:55<00:00, 55.84s/it]\n"
     ]
    },
    {
     "name": "stdout",
     "output_type": "stream",
     "text": [
      "Estimation for 0.13 and 0.01 done\n",
      "It took: 55.93123745918274 seconds.\n",
      "[0.5119374643169988, 0.4859769930899988]\n"
     ]
    },
    {
     "name": "stderr",
     "output_type": "stream",
     "text": [
      "Initial filtering of formulas: 100%|█████████████| 2/2 [00:00<00:00, 118.70it/s]\n",
      "Computing chunks: 100%|████████████████████████| 2/2 [00:00<00:00, 64035.18it/s]\n",
      "Splitting the experimental spectrum into chunks: 55902it [00:00, 2662283.64it/s]\n",
      "Deconvolving chunks: 100%|████████████████████████| 1/1 [00:40<00:00, 40.63s/it]\n"
     ]
    },
    {
     "name": "stdout",
     "output_type": "stream",
     "text": [
      "Estimation for 0.13 and 0.02 done\n",
      "It took: 40.71329712867737 seconds.\n",
      "[0.5143775114589988, 0.4819258238529988]\n"
     ]
    },
    {
     "name": "stderr",
     "output_type": "stream",
     "text": [
      "Initial filtering of formulas: 100%|█████████████| 2/2 [00:00<00:00, 134.82it/s]\n",
      "Computing chunks: 100%|████████████████████████| 2/2 [00:00<00:00, 95325.09it/s]\n",
      "Splitting the experimental spectrum into chunks: 55902it [00:00, 2880608.17it/s]\n",
      "Deconvolving chunks: 100%|████████████████████████| 1/1 [00:38<00:00, 38.11s/it]\n"
     ]
    },
    {
     "name": "stdout",
     "output_type": "stream",
     "text": [
      "Estimation for 0.13 and 0.03 done\n",
      "It took: 38.18747925758362 seconds.\n",
      "[0.5187211145569988, 0.4765185862099988]\n"
     ]
    },
    {
     "name": "stderr",
     "output_type": "stream",
     "text": [
      "Initial filtering of formulas: 100%|█████████████| 2/2 [00:00<00:00, 141.82it/s]\n",
      "Computing chunks: 100%|████████████████████████| 2/2 [00:00<00:00, 95325.09it/s]\n",
      "Splitting the experimental spectrum into chunks: 55902it [00:00, 2937042.57it/s]\n",
      "Deconvolving chunks: 100%|████████████████████████| 1/1 [00:37<00:00, 37.37s/it]\n"
     ]
    },
    {
     "name": "stdout",
     "output_type": "stream",
     "text": [
      "Estimation for 0.13 and 0.04 done\n",
      "It took: 37.44383692741394 seconds.\n",
      "[0.5188827722069987, 0.47589951461499885]\n"
     ]
    },
    {
     "name": "stderr",
     "output_type": "stream",
     "text": [
      "Initial filtering of formulas: 100%|█████████████| 2/2 [00:00<00:00, 131.36it/s]\n",
      "Computing chunks: 100%|████████████████████████| 2/2 [00:00<00:00, 84733.41it/s]\n",
      "Splitting the experimental spectrum into chunks: 55902it [00:00, 2963135.92it/s]\n",
      "Deconvolving chunks: 100%|████████████████████████| 1/1 [00:38<00:00, 38.42s/it]\n"
     ]
    },
    {
     "name": "stdout",
     "output_type": "stream",
     "text": [
      "Estimation for 0.13 and 0.05 done\n",
      "It took: 38.495322465896606 seconds.\n",
      "[0.5185677036549988, 0.4759594626479988]\n"
     ]
    },
    {
     "name": "stderr",
     "output_type": "stream",
     "text": [
      "Initial filtering of formulas: 100%|█████████████| 2/2 [00:00<00:00, 138.74it/s]\n",
      "Computing chunks: 100%|████████████████████████| 2/2 [00:00<00:00, 90200.09it/s]\n",
      "Splitting the experimental spectrum into chunks: 55902it [00:00, 2978190.78it/s]\n",
      "Deconvolving chunks: 100%|████████████████████████| 1/1 [00:36<00:00, 36.86s/it]\n"
     ]
    },
    {
     "name": "stdout",
     "output_type": "stream",
     "text": [
      "Estimation for 0.13 and 0.060000000000000005 done\n",
      "It took: 36.93755769729614 seconds.\n",
      "[0.5184529509429988, 0.4760290248469988]\n"
     ]
    },
    {
     "name": "stderr",
     "output_type": "stream",
     "text": [
      "Initial filtering of formulas: 100%|█████████████| 2/2 [00:00<00:00, 109.79it/s]\n",
      "Computing chunks: 100%|████████████████████████| 2/2 [00:00<00:00, 84733.41it/s]\n",
      "Splitting the experimental spectrum into chunks: 55902it [00:00, 2871998.80it/s]\n",
      "Deconvolving chunks: 100%|████████████████████████| 1/1 [00:48<00:00, 48.18s/it]\n"
     ]
    },
    {
     "name": "stdout",
     "output_type": "stream",
     "text": [
      "Estimation for 0.13 and 0.06999999999999999 done\n",
      "It took: 48.26500964164734 seconds.\n",
      "[0.5183717413239988, 0.47603601410799884]\n"
     ]
    },
    {
     "name": "stderr",
     "output_type": "stream",
     "text": [
      "Initial filtering of formulas: 100%|█████████████| 2/2 [00:00<00:00, 125.18it/s]\n",
      "Computing chunks: 100%|████████████████████████| 2/2 [00:00<00:00, 79137.81it/s]\n",
      "Splitting the experimental spectrum into chunks: 55902it [00:00, 2496167.25it/s]\n",
      "Deconvolving chunks: 100%|████████████████████████| 1/1 [00:51<00:00, 51.21s/it]\n"
     ]
    },
    {
     "name": "stdout",
     "output_type": "stream",
     "text": [
      "Estimation for 0.13 and 0.08 done\n",
      "It took: 51.2926971912384 seconds.\n",
      "[0.5183295209729988, 0.4759062447779988]\n"
     ]
    },
    {
     "name": "stderr",
     "output_type": "stream",
     "text": [
      "Initial filtering of formulas: 100%|█████████████| 2/2 [00:00<00:00, 143.24it/s]\n",
      "Computing chunks: 100%|████████████████████████| 2/2 [00:00<00:00, 50533.78it/s]\n",
      "Splitting the experimental spectrum into chunks: 55902it [00:00, 3058809.48it/s]\n",
      "Deconvolving chunks: 100%|████████████████████████| 1/1 [00:38<00:00, 38.85s/it]\n"
     ]
    },
    {
     "name": "stdout",
     "output_type": "stream",
     "text": [
      "Estimation for 0.13 and 0.09 done\n",
      "It took: 38.918376445770264 seconds.\n",
      "[0.5182131420789988, 0.4758364057389988]\n"
     ]
    },
    {
     "name": "stderr",
     "output_type": "stream",
     "text": [
      "Initial filtering of formulas: 100%|█████████████| 2/2 [00:00<00:00, 131.04it/s]\n",
      "Computing chunks: 100%|████████████████████████| 2/2 [00:00<00:00, 45100.04it/s]\n",
      "Splitting the experimental spectrum into chunks: 55902it [00:00, 2719722.33it/s]\n",
      "Deconvolving chunks: 100%|████████████████████████| 1/1 [00:37<00:00, 37.26s/it]\n"
     ]
    },
    {
     "name": "stdout",
     "output_type": "stream",
     "text": [
      "Estimation for 0.13 and 0.09999999999999999 done\n",
      "It took: 37.33417224884033 seconds.\n",
      "[0.5179111173939988, 0.4759178249739988]\n"
     ]
    },
    {
     "name": "stderr",
     "output_type": "stream",
     "text": [
      "Initial filtering of formulas: 100%|█████████████| 2/2 [00:00<00:00, 136.62it/s]\n",
      "Computing chunks: 100%|████████████████████████| 2/2 [00:00<00:00, 54827.50it/s]\n",
      "Splitting the experimental spectrum into chunks: 55902it [00:00, 2881564.01it/s]\n",
      "Deconvolving chunks: 100%|████████████████████████| 1/1 [00:36<00:00, 36.57s/it]\n"
     ]
    },
    {
     "name": "stdout",
     "output_type": "stream",
     "text": [
      "Estimation for 0.13 and 0.11 done\n",
      "It took: 36.647181272506714 seconds.\n",
      "[0.5175576155069987, 0.47606020187799886]\n"
     ]
    },
    {
     "name": "stderr",
     "output_type": "stream",
     "text": [
      "Initial filtering of formulas: 100%|█████████████| 2/2 [00:00<00:00, 138.79it/s]\n",
      "Computing chunks: 100%|████████████████████████| 2/2 [00:00<00:00, 57852.47it/s]\n",
      "Splitting the experimental spectrum into chunks: 55902it [00:00, 2982130.14it/s]\n",
      "Deconvolving chunks: 100%|████████████████████████| 1/1 [00:36<00:00, 36.87s/it]\n"
     ]
    },
    {
     "name": "stdout",
     "output_type": "stream",
     "text": [
      "Estimation for 0.13 and 0.12 done\n",
      "It took: 36.93951940536499 seconds.\n",
      "[0.5174186199669988, 0.4760853073379988]\n"
     ]
    },
    {
     "name": "stderr",
     "output_type": "stream",
     "text": [
      "Initial filtering of formulas: 100%|█████████████| 2/2 [00:00<00:00, 141.87it/s]\n",
      "Computing chunks: 100%|████████████████████████| 2/2 [00:00<00:00, 98689.51it/s]\n",
      "Splitting the experimental spectrum into chunks: 55902it [00:00, 2606873.04it/s]\n",
      "Deconvolving chunks: 100%|████████████████████████| 1/1 [00:38<00:00, 38.02s/it]\n"
     ]
    },
    {
     "name": "stdout",
     "output_type": "stream",
     "text": [
      "Estimation for 0.13 and 0.13 done\n",
      "It took: 38.09378981590271 seconds.\n",
      "[0.5170940264739988, 0.47620956339799886]\n"
     ]
    },
    {
     "name": "stderr",
     "output_type": "stream",
     "text": [
      "Initial filtering of formulas: 100%|█████████████| 2/2 [00:00<00:00, 135.88it/s]\n",
      "Computing chunks: 100%|████████████████████████| 2/2 [00:00<00:00, 15279.80it/s]\n",
      "Splitting the experimental spectrum into chunks: 55902it [00:00, 2985623.65it/s]\n",
      "Deconvolving chunks: 100%|████████████████████████| 1/1 [00:43<00:00, 43.64s/it]\n"
     ]
    },
    {
     "name": "stdout",
     "output_type": "stream",
     "text": [
      "Estimation for 0.13 and 0.14 done\n",
      "It took: 43.715250968933105 seconds.\n",
      "[0.5163773191339988, 0.47655690066699885]\n"
     ]
    },
    {
     "name": "stderr",
     "output_type": "stream",
     "text": [
      "Initial filtering of formulas: 100%|█████████████| 2/2 [00:00<00:00, 125.41it/s]\n",
      "Computing chunks: 100%|████████████████████████| 2/2 [00:00<00:00, 65027.97it/s]\n",
      "Splitting the experimental spectrum into chunks: 55902it [00:00, 2583207.36it/s]\n",
      "Deconvolving chunks: 100%|████████████████████████| 1/1 [00:49<00:00, 49.32s/it]\n"
     ]
    },
    {
     "name": "stdout",
     "output_type": "stream",
     "text": [
      "Estimation for 0.13 and 0.15000000000000002 done\n",
      "It took: 49.40425205230713 seconds.\n",
      "[0.5154651242499988, 0.4770073883229988]\n"
     ]
    },
    {
     "name": "stderr",
     "output_type": "stream",
     "text": [
      "Initial filtering of formulas: 100%|█████████████| 2/2 [00:00<00:00, 126.04it/s]\n",
      "Computing chunks: 100%|████████████████████████| 2/2 [00:00<00:00, 76959.71it/s]\n",
      "Splitting the experimental spectrum into chunks: 55902it [00:00, 2538048.35it/s]\n",
      "Deconvolving chunks: 100%|████████████████████████| 1/1 [00:43<00:00, 43.35s/it]\n"
     ]
    },
    {
     "name": "stdout",
     "output_type": "stream",
     "text": [
      "Estimation for 0.13 and 0.16 done\n",
      "It took: 43.43775677680969 seconds.\n",
      "[0.5147565253949988, 0.47732441552899885]\n"
     ]
    },
    {
     "name": "stderr",
     "output_type": "stream",
     "text": [
      "Initial filtering of formulas: 100%|█████████████| 2/2 [00:00<00:00, 132.66it/s]\n",
      "Computing chunks: 100%|████████████████████████| 2/2 [00:00<00:00, 77672.30it/s]\n",
      "Splitting the experimental spectrum into chunks: 55902it [00:00, 2742948.52it/s]\n",
      "Deconvolving chunks: 100%|████████████████████████| 1/1 [00:45<00:00, 45.89s/it]\n"
     ]
    },
    {
     "name": "stdout",
     "output_type": "stream",
     "text": [
      "Estimation for 0.13 and 0.17 done\n",
      "It took: 45.96660923957825 seconds.\n",
      "[0.5142141470769988, 0.47753459176299884]\n"
     ]
    },
    {
     "name": "stderr",
     "output_type": "stream",
     "text": [
      "Initial filtering of formulas: 100%|█████████████| 2/2 [00:00<00:00, 145.63it/s]\n",
      "Computing chunks: 100%|████████████████████████| 2/2 [00:00<00:00, 92182.51it/s]\n",
      "Splitting the experimental spectrum into chunks: 55902it [00:00, 3016505.84it/s]\n",
      "Deconvolving chunks: 100%|████████████████████████| 1/1 [00:37<00:00, 37.43s/it]\n"
     ]
    },
    {
     "name": "stdout",
     "output_type": "stream",
     "text": [
      "Estimation for 0.13 and 0.18000000000000002 done\n",
      "It took: 37.50397491455078 seconds.\n",
      "[0.5138660752249988, 0.47765708007999885]\n"
     ]
    },
    {
     "name": "stderr",
     "output_type": "stream",
     "text": [
      "Initial filtering of formulas: 100%|█████████████| 2/2 [00:00<00:00, 133.77it/s]\n",
      "Computing chunks: 100%|████████████████████████| 2/2 [00:00<00:00, 87381.33it/s]\n",
      "Splitting the experimental spectrum into chunks: 55902it [00:00, 2933331.44it/s]\n",
      "Deconvolving chunks: 100%|████████████████████████| 1/1 [00:36<00:00, 36.62s/it]\n"
     ]
    },
    {
     "name": "stdout",
     "output_type": "stream",
     "text": [
      "Estimation for 0.13 and 0.19 done\n",
      "It took: 36.69485807418823 seconds.\n",
      "[0.5135529028579988, 0.47777716523599884]\n"
     ]
    },
    {
     "name": "stderr",
     "output_type": "stream",
     "text": [
      "Initial filtering of formulas: 100%|█████████████| 2/2 [00:00<00:00, 140.11it/s]\n",
      "Computing chunks: 100%|████████████████████████| 2/2 [00:00<00:00, 97541.95it/s]\n",
      "Splitting the experimental spectrum into chunks: 55902it [00:00, 2939546.44it/s]\n",
      "Deconvolving chunks: 100%|████████████████████████| 1/1 [00:42<00:00, 42.43s/it]\n"
     ]
    },
    {
     "name": "stdout",
     "output_type": "stream",
     "text": [
      "Estimation for 0.13 and 0.2 done\n",
      "It took: 42.49917912483215 seconds.\n",
      "[0.5133249533959988, 0.47785929377099884]\n"
     ]
    },
    {
     "name": "stderr",
     "output_type": "stream",
     "text": [
      "Initial filtering of formulas: 100%|█████████████| 2/2 [00:00<00:00, 143.60it/s]\n",
      "Computing chunks: 100%|████████████████████████| 2/2 [00:00<00:00, 98689.51it/s]\n",
      "Splitting the experimental spectrum into chunks: 55902it [00:00, 3025262.98it/s]\n",
      "Deconvolving chunks: 100%|████████████████████████| 1/1 [00:54<00:00, 54.24s/it]\n"
     ]
    },
    {
     "name": "stdout",
     "output_type": "stream",
     "text": [
      "Estimation for 0.13 and 0.21000000000000002 done\n",
      "It took: 54.30975961685181 seconds.\n",
      "[0.5131185042899988, 0.4779516810189988]\n"
     ]
    },
    {
     "name": "stderr",
     "output_type": "stream",
     "text": [
      "Initial filtering of formulas: 100%|█████████████| 2/2 [00:00<00:00, 122.55it/s]\n",
      "Computing chunks: 100%|████████████████████████| 2/2 [00:00<00:00, 78398.21it/s]\n",
      "Splitting the experimental spectrum into chunks: 55902it [00:00, 2411399.12it/s]\n",
      "Deconvolving chunks: 100%|████████████████████████| 1/1 [00:49<00:00, 49.17s/it]\n"
     ]
    },
    {
     "name": "stdout",
     "output_type": "stream",
     "text": [
      "Estimation for 0.13 and 0.22 done\n",
      "It took: 49.25647258758545 seconds.\n",
      "[0.5129386784479988, 0.4780372929139988]\n"
     ]
    },
    {
     "name": "stderr",
     "output_type": "stream",
     "text": [
      "Initial filtering of formulas: 100%|█████████████| 2/2 [00:00<00:00, 136.42it/s]\n",
      "Computing chunks: 100%|████████████████████████| 2/2 [00:00<00:00, 88301.14it/s]\n",
      "Splitting the experimental spectrum into chunks: 55902it [00:00, 2839410.27it/s]\n",
      "Deconvolving chunks: 100%|████████████████████████| 1/1 [00:38<00:00, 38.58s/it]\n"
     ]
    },
    {
     "name": "stdout",
     "output_type": "stream",
     "text": [
      "Estimation for 0.13 and 0.23 done\n",
      "It took: 38.66006064414978 seconds.\n",
      "[0.5126959188589988, 0.4780915904229988]\n"
     ]
    },
    {
     "name": "stderr",
     "output_type": "stream",
     "text": [
      "Initial filtering of formulas: 100%|█████████████| 2/2 [00:00<00:00, 133.58it/s]\n",
      "Computing chunks: 100%|████████████████████████| 2/2 [00:00<00:00, 94254.02it/s]\n",
      "Splitting the experimental spectrum into chunks: 55902it [00:00, 2788553.96it/s]\n",
      "Deconvolving chunks: 100%|████████████████████████| 1/1 [00:35<00:00, 35.63s/it]\n"
     ]
    },
    {
     "name": "stdout",
     "output_type": "stream",
     "text": [
      "Estimation for 0.13 and 0.24000000000000002 done\n",
      "It took: 35.70607089996338 seconds.\n",
      "[0.5122406560379987, 0.47808934401799885]\n"
     ]
    },
    {
     "name": "stderr",
     "output_type": "stream",
     "text": [
      "Initial filtering of formulas: 100%|█████████████| 2/2 [00:00<00:00, 139.14it/s]\n",
      "Computing chunks: 100%|████████████████████████| 2/2 [00:00<00:00, 89240.51it/s]\n",
      "Splitting the experimental spectrum into chunks: 55902it [00:00, 3001484.71it/s]\n",
      "Deconvolving chunks: 100%|████████████████████████| 1/1 [00:35<00:00, 35.74s/it]\n"
     ]
    },
    {
     "name": "stdout",
     "output_type": "stream",
     "text": [
      "Estimation for 0.13 and 0.25 done\n",
      "It took: 35.81432509422302 seconds.\n",
      "[0.5121092666879988, 0.4776420444669988]\n"
     ]
    },
    {
     "name": "stderr",
     "output_type": "stream",
     "text": [
      "Initial filtering of formulas: 100%|█████████████| 2/2 [00:00<00:00, 130.10it/s]\n",
      "Computing chunks: 100%|████████████████████████| 2/2 [00:00<00:00, 75573.05it/s]\n",
      "Splitting the experimental spectrum into chunks: 55902it [00:00, 2789516.05it/s]\n",
      "Deconvolving chunks: 100%|████████████████████████| 1/1 [00:36<00:00, 36.52s/it]\n"
     ]
    },
    {
     "name": "stdout",
     "output_type": "stream",
     "text": [
      "Estimation for 0.13 and 0.26 done\n",
      "It took: 36.592313051223755 seconds.\n",
      "[0.5116002632759987, 0.47736866812999884]\n"
     ]
    },
    {
     "name": "stderr",
     "output_type": "stream",
     "text": [
      "Initial filtering of formulas: 100%|█████████████| 2/2 [00:00<00:00, 138.65it/s]\n",
      "Computing chunks: 100%|████████████████████████| 2/2 [00:00<00:00, 57456.22it/s]\n",
      "Splitting the experimental spectrum into chunks: 55902it [00:00, 2976640.63it/s]\n",
      "Deconvolving chunks: 100%|████████████████████████| 1/1 [00:40<00:00, 40.92s/it]\n"
     ]
    },
    {
     "name": "stdout",
     "output_type": "stream",
     "text": [
      "Estimation for 0.13 and 0.27 done\n",
      "It took: 40.98988366127014 seconds.\n",
      "[0.5110739120889988, 0.4773681153209988]\n"
     ]
    },
    {
     "name": "stderr",
     "output_type": "stream",
     "text": [
      "Initial filtering of formulas: 100%|█████████████| 2/2 [00:00<00:00, 141.00it/s]\n",
      "Computing chunks: 100%|████████████████████████| 2/2 [00:00<00:00, 86480.49it/s]\n",
      "Splitting the experimental spectrum into chunks: 55902it [00:00, 2951015.46it/s]\n",
      "Deconvolving chunks: 100%|████████████████████████| 1/1 [00:41<00:00, 41.50s/it]\n"
     ]
    },
    {
     "name": "stdout",
     "output_type": "stream",
     "text": [
      "Estimation for 0.13 and 0.28 done\n",
      "It took: 41.57049584388733 seconds.\n",
      "[0.5106294424829988, 0.4773746553589988]\n"
     ]
    },
    {
     "name": "stderr",
     "output_type": "stream",
     "text": [
      "Initial filtering of formulas: 100%|█████████████| 2/2 [00:00<00:00, 111.87it/s]\n",
      "Computing chunks: 100%|████████████████████████| 2/2 [00:00<00:00, 37957.50it/s]\n",
      "Splitting the experimental spectrum into chunks: 55902it [00:00, 2442675.54it/s]\n",
      "Deconvolving chunks: 100%|████████████████████████| 1/1 [00:44<00:00, 44.85s/it]\n"
     ]
    },
    {
     "name": "stdout",
     "output_type": "stream",
     "text": [
      "Estimation for 0.13 and 0.29000000000000004 done\n",
      "It took: 44.93678879737854 seconds.\n",
      "[0.5100091734829988, 0.47720023901999886]\n"
     ]
    },
    {
     "name": "stderr",
     "output_type": "stream",
     "text": [
      "Initial filtering of formulas: 100%|█████████████| 2/2 [00:00<00:00, 123.43it/s]\n",
      "Computing chunks: 100%|████████████████████████| 2/2 [00:00<00:00, 23899.17it/s]\n",
      "Splitting the experimental spectrum into chunks: 55902it [00:00, 2505904.67it/s]\n",
      "Deconvolving chunks: 100%|████████████████████████| 1/1 [00:38<00:00, 38.51s/it]\n"
     ]
    },
    {
     "name": "stdout",
     "output_type": "stream",
     "text": [
      "Estimation for 0.13 and 0.3 done\n",
      "It took: 38.59840631484985 seconds.\n",
      "[0.5096035120209987, 0.4769476092259988]\n"
     ]
    },
    {
     "name": "stderr",
     "output_type": "stream",
     "text": [
      "Initial filtering of formulas: 100%|█████████████| 2/2 [00:00<00:00, 126.37it/s]\n",
      "Computing chunks: 100%|████████████████████████| 2/2 [00:00<00:00, 89240.51it/s]\n",
      "Splitting the experimental spectrum into chunks: 55902it [00:00, 2755779.44it/s]\n",
      "Deconvolving chunks: 100%|████████████████████████| 1/1 [00:39<00:00, 39.32s/it]\n"
     ]
    },
    {
     "name": "stdout",
     "output_type": "stream",
     "text": [
      "Estimation for 0.14 and 0.01 done\n",
      "It took: 39.399173974990845 seconds.\n",
      "[0.5121733106529988, 0.4859334044929988]\n"
     ]
    },
    {
     "name": "stderr",
     "output_type": "stream",
     "text": [
      "Initial filtering of formulas: 100%|█████████████| 2/2 [00:00<00:00, 135.04it/s]\n",
      "Computing chunks: 100%|████████████████████████| 2/2 [00:00<00:00, 89240.51it/s]\n",
      "Splitting the experimental spectrum into chunks: 55902it [00:00, 2911585.52it/s]\n",
      "Deconvolving chunks: 100%|████████████████████████| 1/1 [00:40<00:00, 40.70s/it]\n"
     ]
    },
    {
     "name": "stdout",
     "output_type": "stream",
     "text": [
      "Estimation for 0.14 and 0.02 done\n",
      "It took: 40.775639295578 seconds.\n",
      "[0.5148489356839988, 0.48192435811799883]\n"
     ]
    },
    {
     "name": "stderr",
     "output_type": "stream",
     "text": [
      "Initial filtering of formulas: 100%|█████████████| 2/2 [00:00<00:00, 138.54it/s]\n",
      "Computing chunks: 100%|████████████████████████| 2/2 [00:00<00:00, 88301.14it/s]\n",
      "Splitting the experimental spectrum into chunks: 55902it [00:00, 3072316.55it/s]\n",
      "Deconvolving chunks: 100%|████████████████████████| 1/1 [00:39<00:00, 39.35s/it]\n"
     ]
    },
    {
     "name": "stdout",
     "output_type": "stream",
     "text": [
      "Estimation for 0.14 and 0.03 done\n",
      "It took: 39.42261028289795 seconds.\n",
      "[0.5188514455209988, 0.47675954624499883]\n"
     ]
    },
    {
     "name": "stderr",
     "output_type": "stream",
     "text": [
      "Initial filtering of formulas: 100%|█████████████| 2/2 [00:00<00:00, 141.90it/s]\n",
      "Computing chunks: 100%|████████████████████████| 2/2 [00:00<00:00, 57065.36it/s]\n",
      "Splitting the experimental spectrum into chunks: 55902it [00:00, 2982054.28it/s]\n",
      "Deconvolving chunks: 100%|████████████████████████| 1/1 [00:37<00:00, 37.45s/it]\n"
     ]
    },
    {
     "name": "stdout",
     "output_type": "stream",
     "text": [
      "Estimation for 0.14 and 0.04 done\n",
      "It took: 37.51822090148926 seconds.\n",
      "[0.5196387121069987, 0.47568597568399884]\n"
     ]
    },
    {
     "name": "stderr",
     "output_type": "stream",
     "text": [
      "Initial filtering of formulas: 100%|█████████████| 2/2 [00:00<00:00, 137.84it/s]\n",
      "Computing chunks: 100%|████████████████████████| 2/2 [00:00<00:00, 95325.09it/s]\n",
      "Splitting the experimental spectrum into chunks: 55902it [00:00, 3049222.74it/s]\n",
      "Deconvolving chunks: 100%|████████████████████████| 1/1 [00:38<00:00, 38.68s/it]\n"
     ]
    },
    {
     "name": "stdout",
     "output_type": "stream",
     "text": [
      "Estimation for 0.14 and 0.05 done\n",
      "It took: 38.74978256225586 seconds.\n",
      "[0.5197603612909988, 0.4756300719609988]\n"
     ]
    },
    {
     "name": "stderr",
     "output_type": "stream",
     "text": [
      "Initial filtering of formulas: 100%|█████████████| 2/2 [00:00<00:00, 126.67it/s]\n",
      "Computing chunks: 100%|████████████████████████| 2/2 [00:00<00:00, 78398.21it/s]\n",
      "Splitting the experimental spectrum into chunks: 55902it [00:00, 2556004.73it/s]\n",
      "Deconvolving chunks: 100%|████████████████████████| 1/1 [00:48<00:00, 48.91s/it]\n"
     ]
    },
    {
     "name": "stdout",
     "output_type": "stream",
     "text": [
      "Estimation for 0.14 and 0.060000000000000005 done\n",
      "It took: 48.99001121520996 seconds.\n",
      "[0.5193754031569988, 0.47579864902599883]\n"
     ]
    },
    {
     "name": "stderr",
     "output_type": "stream",
     "text": [
      "Initial filtering of formulas: 100%|█████████████| 2/2 [00:00<00:00, 128.25it/s]\n",
      "Computing chunks: 100%|████████████████████████| 2/2 [00:00<00:00, 84733.41it/s]\n",
      "Splitting the experimental spectrum into chunks: 55902it [00:00, 2610675.44it/s]\n",
      "Deconvolving chunks: 100%|████████████████████████| 1/1 [00:40<00:00, 40.01s/it]\n"
     ]
    },
    {
     "name": "stdout",
     "output_type": "stream",
     "text": [
      "Estimation for 0.14 and 0.06999999999999999 done\n",
      "It took: 40.09209847450256 seconds.\n",
      "[0.5188620636069988, 0.47590390596199883]\n"
     ]
    },
    {
     "name": "stderr",
     "output_type": "stream",
     "text": [
      "Initial filtering of formulas: 100%|█████████████| 2/2 [00:00<00:00, 133.60it/s]\n",
      "Computing chunks: 100%|████████████████████████| 2/2 [00:00<00:00, 92182.51it/s]\n",
      "Splitting the experimental spectrum into chunks: 55902it [00:00, 2765791.59it/s]\n",
      "Deconvolving chunks: 100%|████████████████████████| 1/1 [00:36<00:00, 36.97s/it]\n"
     ]
    },
    {
     "name": "stdout",
     "output_type": "stream",
     "text": [
      "Estimation for 0.14 and 0.08 done\n",
      "It took: 37.0409197807312 seconds.\n",
      "[0.5187077637799988, 0.47587022454199884]\n"
     ]
    },
    {
     "name": "stderr",
     "output_type": "stream",
     "text": [
      "Initial filtering of formulas: 100%|█████████████| 2/2 [00:00<00:00, 139.34it/s]\n",
      "Computing chunks: 100%|████████████████████████| 2/2 [00:00<00:00, 95325.09it/s]\n",
      "Splitting the experimental spectrum into chunks: 55902it [00:00, 2978947.54it/s]\n",
      "Deconvolving chunks: 100%|████████████████████████| 1/1 [00:39<00:00, 39.20s/it]\n"
     ]
    },
    {
     "name": "stdout",
     "output_type": "stream",
     "text": [
      "Estimation for 0.14 and 0.09 done\n",
      "It took: 39.27046751976013 seconds.\n",
      "[0.5185324964289988, 0.47587629356699884]\n"
     ]
    },
    {
     "name": "stderr",
     "output_type": "stream",
     "text": [
      "Initial filtering of formulas: 100%|█████████████| 2/2 [00:00<00:00, 141.48it/s]\n",
      "Computing chunks: 100%|████████████████████████| 2/2 [00:00<00:00, 90200.09it/s]\n",
      "Splitting the experimental spectrum into chunks: 55902it [00:00, 3053829.59it/s]\n",
      "Deconvolving chunks: 100%|████████████████████████| 1/1 [00:37<00:00, 37.58s/it]\n"
     ]
    },
    {
     "name": "stdout",
     "output_type": "stream",
     "text": [
      "Estimation for 0.14 and 0.09999999999999999 done\n",
      "It took: 37.649978160858154 seconds.\n",
      "[0.5184408124039988, 0.47578921869699886]\n"
     ]
    },
    {
     "name": "stderr",
     "output_type": "stream",
     "text": [
      "Initial filtering of formulas: 100%|█████████████| 2/2 [00:00<00:00, 140.06it/s]\n",
      "Computing chunks: 100%|████████████████████████| 2/2 [00:00<00:00, 99864.38it/s]\n",
      "Splitting the experimental spectrum into chunks: 55902it [00:00, 2969816.50it/s]\n",
      "Deconvolving chunks: 100%|████████████████████████| 1/1 [00:36<00:00, 36.95s/it]\n"
     ]
    },
    {
     "name": "stdout",
     "output_type": "stream",
     "text": [
      "Estimation for 0.14 and 0.11 done\n",
      "It took: 37.02375268936157 seconds.\n",
      "[0.5183326894979988, 0.4757465902349988]\n"
     ]
    },
    {
     "name": "stderr",
     "output_type": "stream",
     "text": [
      "Initial filtering of formulas: 100%|█████████████| 2/2 [00:00<00:00, 143.42it/s]\n",
      "Computing chunks: 100%|████████████████████████| 2/2 [00:00<00:00, 97541.95it/s]\n",
      "Splitting the experimental spectrum into chunks: 55902it [00:00, 3054426.32it/s]\n",
      "Deconvolving chunks: 100%|████████████████████████| 1/1 [00:44<00:00, 44.39s/it]\n"
     ]
    },
    {
     "name": "stdout",
     "output_type": "stream",
     "text": [
      "Estimation for 0.14 and 0.12 done\n",
      "It took: 44.46448755264282 seconds.\n",
      "[0.5180160739119988, 0.47582107495899884]\n"
     ]
    },
    {
     "name": "stderr",
     "output_type": "stream",
     "text": [
      "Initial filtering of formulas: 100%|█████████████| 2/2 [00:00<00:00, 126.11it/s]\n",
      "Computing chunks: 100%|████████████████████████| 2/2 [00:00<00:00, 73584.28it/s]\n",
      "Splitting the experimental spectrum into chunks: 55902it [00:00, 2550000.35it/s]\n",
      "Deconvolving chunks: 100%|████████████████████████| 1/1 [00:46<00:00, 46.25s/it]\n"
     ]
    },
    {
     "name": "stdout",
     "output_type": "stream",
     "text": [
      "Estimation for 0.14 and 0.13 done\n",
      "It took: 46.34049153327942 seconds.\n",
      "[0.5176398417839988, 0.47598464806799884]\n"
     ]
    },
    {
     "name": "stderr",
     "output_type": "stream",
     "text": [
      "Initial filtering of formulas: 100%|█████████████| 2/2 [00:00<00:00, 127.51it/s]\n",
      "Computing chunks: 100%|████████████████████████| 2/2 [00:00<00:00, 36954.22it/s]\n",
      "Splitting the experimental spectrum into chunks: 55902it [00:00, 2529942.19it/s]\n",
      "Deconvolving chunks: 100%|████████████████████████| 1/1 [00:41<00:00, 41.85s/it]\n"
     ]
    },
    {
     "name": "stdout",
     "output_type": "stream",
     "text": [
      "Estimation for 0.14 and 0.14 done\n",
      "It took: 41.9408392906189 seconds.\n",
      "[0.5175073701029987, 0.4759866201629988]\n"
     ]
    },
    {
     "name": "stderr",
     "output_type": "stream",
     "text": [
      "Initial filtering of formulas: 100%|█████████████| 2/2 [00:00<00:00, 131.18it/s]\n",
      "Computing chunks: 100%|████████████████████████| 2/2 [00:00<00:00, 80659.69it/s]\n",
      "Splitting the experimental spectrum into chunks: 55902it [00:00, 2864840.21it/s]\n",
      "Deconvolving chunks: 100%|████████████████████████| 1/1 [00:40<00:00, 40.45s/it]\n"
     ]
    },
    {
     "name": "stdout",
     "output_type": "stream",
     "text": [
      "Estimation for 0.14 and 0.15000000000000002 done\n",
      "It took: 40.52779459953308 seconds.\n",
      "[0.5171268329729988, 0.4761854741889988]\n"
     ]
    },
    {
     "name": "stderr",
     "output_type": "stream",
     "text": [
      "Initial filtering of formulas: 100%|█████████████| 2/2 [00:00<00:00, 144.37it/s]\n",
      "Computing chunks: 100%|████████████████████████| 2/2 [00:00<00:00, 98689.51it/s]\n",
      "Splitting the experimental spectrum into chunks: 55902it [00:00, 3004638.66it/s]\n",
      "Deconvolving chunks: 100%|████████████████████████| 1/1 [00:36<00:00, 36.63s/it]\n"
     ]
    },
    {
     "name": "stdout",
     "output_type": "stream",
     "text": [
      "Estimation for 0.14 and 0.16 done\n",
      "It took: 36.69976449012756 seconds.\n",
      "[0.5163538704159988, 0.47656682944299883]\n"
     ]
    },
    {
     "name": "stderr",
     "output_type": "stream",
     "text": [
      "Initial filtering of formulas: 100%|█████████████| 2/2 [00:00<00:00, 137.43it/s]\n",
      "Computing chunks: 100%|████████████████████████| 2/2 [00:00<00:00, 84733.41it/s]\n",
      "Splitting the experimental spectrum into chunks: 55902it [00:00, 2977888.19it/s]\n",
      "Deconvolving chunks: 100%|████████████████████████| 1/1 [00:44<00:00, 44.69s/it]\n"
     ]
    },
    {
     "name": "stdout",
     "output_type": "stream",
     "text": [
      "Estimation for 0.14 and 0.17 done\n",
      "It took: 44.76604509353638 seconds.\n",
      "[0.5154906240909988, 0.4769790833259988]\n"
     ]
    },
    {
     "name": "stderr",
     "output_type": "stream",
     "text": [
      "Initial filtering of formulas: 100%|█████████████| 2/2 [00:00<00:00, 132.12it/s]\n",
      "Computing chunks: 100%|████████████████████████| 2/2 [00:00<00:00, 94254.02it/s]\n",
      "Splitting the experimental spectrum into chunks: 55902it [00:00, 2818419.83it/s]\n",
      "Deconvolving chunks: 100%|████████████████████████| 1/1 [00:38<00:00, 38.79s/it]\n"
     ]
    },
    {
     "name": "stdout",
     "output_type": "stream",
     "text": [
      "Estimation for 0.14 and 0.18000000000000002 done\n",
      "It took: 38.86818170547485 seconds.\n",
      "[0.5148840926059988, 0.47725157829299886]\n"
     ]
    },
    {
     "name": "stderr",
     "output_type": "stream",
     "text": [
      "Initial filtering of formulas: 100%|█████████████| 2/2 [00:00<00:00, 137.59it/s]\n",
      "Computing chunks: 100%|████████████████████████| 2/2 [00:00<00:00, 99864.38it/s]\n",
      "Splitting the experimental spectrum into chunks: 55902it [00:00, 2971623.16it/s]\n",
      "Deconvolving chunks: 100%|████████████████████████| 1/1 [00:55<00:00, 55.90s/it]\n"
     ]
    },
    {
     "name": "stdout",
     "output_type": "stream",
     "text": [
      "Estimation for 0.14 and 0.19 done\n",
      "It took: 55.9750120639801 seconds.\n",
      "[0.5143620056319987, 0.4774851361179988]\n"
     ]
    },
    {
     "name": "stderr",
     "output_type": "stream",
     "text": [
      "Initial filtering of formulas: 100%|█████████████| 2/2 [00:00<00:00, 121.27it/s]\n",
      "Computing chunks: 100%|████████████████████████| 2/2 [00:00<00:00, 48770.98it/s]\n",
      "Splitting the experimental spectrum into chunks: 55902it [00:00, 2414702.03it/s]\n",
      "Deconvolving chunks: 100%|████████████████████████| 1/1 [01:09<00:00, 69.48s/it]\n"
     ]
    },
    {
     "name": "stdout",
     "output_type": "stream",
     "text": [
      "Estimation for 0.14 and 0.2 done\n",
      "It took: 69.56995701789856 seconds.\n",
      "[0.5141249518069988, 0.47757586186199885]\n"
     ]
    },
    {
     "name": "stderr",
     "output_type": "stream",
     "text": [
      "Initial filtering of formulas: 100%|█████████████| 2/2 [00:00<00:00, 125.99it/s]\n",
      "Computing chunks: 100%|████████████████████████| 2/2 [00:00<00:00, 39383.14it/s]\n",
      "Splitting the experimental spectrum into chunks: 55902it [00:00, 2539752.84it/s]\n",
      "Deconvolving chunks: 100%|████████████████████████| 1/1 [00:49<00:00, 49.55s/it]\n"
     ]
    },
    {
     "name": "stdout",
     "output_type": "stream",
     "text": [
      "Estimation for 0.14 and 0.21000000000000002 done\n",
      "It took: 49.63143181800842 seconds.\n",
      "[0.5136957720709988, 0.47775772508799885]\n"
     ]
    },
    {
     "name": "stderr",
     "output_type": "stream",
     "text": [
      "Initial filtering of formulas: 100%|█████████████| 2/2 [00:00<00:00, 138.54it/s]\n",
      "Computing chunks: 100%|████████████████████████| 2/2 [00:00<00:00, 71089.90it/s]\n",
      "Splitting the experimental spectrum into chunks: 55902it [00:00, 2864770.21it/s]\n",
      "Deconvolving chunks: 100%|████████████████████████| 1/1 [00:37<00:00, 37.07s/it]\n"
     ]
    },
    {
     "name": "stdout",
     "output_type": "stream",
     "text": [
      "Estimation for 0.14 and 0.22 done\n",
      "It took: 37.14806771278381 seconds.\n",
      "[0.5135161329059987, 0.47779942739099884]\n"
     ]
    },
    {
     "name": "stderr",
     "output_type": "stream",
     "text": [
      "Initial filtering of formulas: 100%|█████████████| 2/2 [00:00<00:00, 138.73it/s]\n",
      "Computing chunks: 100%|████████████████████████| 2/2 [00:00<00:00, 36792.14it/s]\n",
      "Splitting the experimental spectrum into chunks: 55902it [00:00, 2924623.40it/s]\n",
      "Deconvolving chunks: 100%|████████████████████████| 1/1 [00:46<00:00, 46.16s/it]\n"
     ]
    },
    {
     "name": "stdout",
     "output_type": "stream",
     "text": [
      "Estimation for 0.14 and 0.23 done\n",
      "It took: 46.23717284202576 seconds.\n",
      "[0.5132622313119988, 0.47791500601899883]\n"
     ]
    },
    {
     "name": "stderr",
     "output_type": "stream",
     "text": [
      "Initial filtering of formulas: 100%|█████████████| 2/2 [00:00<00:00, 143.45it/s]\n",
      "Computing chunks: 100%|███████████████████████| 2/2 [00:00<00:00, 106184.91it/s]\n",
      "Splitting the experimental spectrum into chunks: 55902it [00:00, 3053392.14it/s]\n",
      "Deconvolving chunks: 100%|████████████████████████| 1/1 [00:43<00:00, 43.57s/it]\n"
     ]
    },
    {
     "name": "stdout",
     "output_type": "stream",
     "text": [
      "Estimation for 0.14 and 0.24000000000000002 done\n",
      "It took: 43.63889932632446 seconds.\n",
      "[0.5130301916709987, 0.47801101188699885]\n"
     ]
    },
    {
     "name": "stderr",
     "output_type": "stream",
     "text": [
      "Initial filtering of formulas: 100%|█████████████| 2/2 [00:00<00:00, 145.72it/s]\n",
      "Computing chunks: 100%|████████████████████████| 2/2 [00:00<00:00, 75573.05it/s]\n",
      "Splitting the experimental spectrum into chunks: 55902it [00:00, 3019652.56it/s]\n",
      "Deconvolving chunks: 100%|████████████████████████| 1/1 [00:40<00:00, 40.47s/it]\n"
     ]
    },
    {
     "name": "stdout",
     "output_type": "stream",
     "text": [
      "Estimation for 0.14 and 0.25 done\n",
      "It took: 40.545355558395386 seconds.\n",
      "[0.5128626614889987, 0.47796194301399886]\n"
     ]
    },
    {
     "name": "stderr",
     "output_type": "stream",
     "text": [
      "Initial filtering of formulas: 100%|█████████████| 2/2 [00:00<00:00, 120.98it/s]\n",
      "Computing chunks: 100%|████████████████████████| 2/2 [00:00<00:00, 52103.16it/s]\n",
      "Splitting the experimental spectrum into chunks: 55902it [00:00, 2555113.41it/s]\n",
      "Deconvolving chunks: 100%|████████████████████████| 1/1 [00:46<00:00, 46.00s/it]\n"
     ]
    },
    {
     "name": "stdout",
     "output_type": "stream",
     "text": [
      "Estimation for 0.14 and 0.26 done\n",
      "It took: 46.09215593338013 seconds.\n",
      "[0.5125207093309988, 0.47779311651499884]\n"
     ]
    },
    {
     "name": "stderr",
     "output_type": "stream",
     "text": [
      "Initial filtering of formulas: 100%|█████████████| 2/2 [00:00<00:00, 115.19it/s]\n",
      "Computing chunks: 100%|████████████████████████| 2/2 [00:00<00:00, 29852.70it/s]\n",
      "Splitting the experimental spectrum into chunks: 55902it [00:00, 2397394.55it/s]\n",
      "Deconvolving chunks: 100%|████████████████████████| 1/1 [00:41<00:00, 41.21s/it]\n"
     ]
    },
    {
     "name": "stdout",
     "output_type": "stream",
     "text": [
      "Estimation for 0.14 and 0.27 done\n",
      "It took: 41.29327750205994 seconds.\n",
      "[0.5123270373989988, 0.47735077226899886]\n"
     ]
    },
    {
     "name": "stderr",
     "output_type": "stream",
     "text": [
      "Initial filtering of formulas: 100%|█████████████| 2/2 [00:00<00:00, 131.59it/s]\n",
      "Computing chunks: 100%|████████████████████████| 2/2 [00:00<00:00, 49636.73it/s]\n",
      "Splitting the experimental spectrum into chunks: 55902it [00:00, 2703759.02it/s]\n",
      "Deconvolving chunks: 100%|████████████████████████| 1/1 [00:37<00:00, 37.50s/it]\n"
     ]
    },
    {
     "name": "stdout",
     "output_type": "stream",
     "text": [
      "Estimation for 0.14 and 0.28 done\n",
      "It took: 37.57770800590515 seconds.\n",
      "[0.5120489047489988, 0.47714434228499886]\n"
     ]
    },
    {
     "name": "stderr",
     "output_type": "stream",
     "text": [
      "Initial filtering of formulas: 100%|█████████████| 2/2 [00:00<00:00, 144.40it/s]\n",
      "Computing chunks: 100%|████████████████████████| 2/2 [00:00<00:00, 49344.75it/s]\n",
      "Splitting the experimental spectrum into chunks: 55902it [00:00, 3049381.36it/s]\n",
      "Deconvolving chunks: 100%|████████████████████████| 1/1 [00:35<00:00, 35.38s/it]\n"
     ]
    },
    {
     "name": "stdout",
     "output_type": "stream",
     "text": [
      "Estimation for 0.14 and 0.29000000000000004 done\n",
      "It took: 35.45101475715637 seconds.\n",
      "[0.5113846630089988, 0.4772221463429988]\n"
     ]
    },
    {
     "name": "stderr",
     "output_type": "stream",
     "text": [
      "Initial filtering of formulas: 100%|█████████████| 2/2 [00:00<00:00, 141.39it/s]\n",
      "Computing chunks: 100%|████████████████████████| 2/2 [00:00<00:00, 87381.33it/s]\n",
      "Splitting the experimental spectrum into chunks: 55902it [00:00, 3039420.07it/s]\n",
      "Deconvolving chunks: 100%|████████████████████████| 1/1 [00:37<00:00, 37.47s/it]\n"
     ]
    },
    {
     "name": "stdout",
     "output_type": "stream",
     "text": [
      "Estimation for 0.14 and 0.3 done\n",
      "It took: 37.54197096824646 seconds.\n",
      "[0.5109430305379988, 0.47716645847499883]\n"
     ]
    },
    {
     "name": "stderr",
     "output_type": "stream",
     "text": [
      "Initial filtering of formulas: 100%|█████████████| 2/2 [00:00<00:00, 140.69it/s]\n",
      "Computing chunks: 100%|████████████████████████| 2/2 [00:00<00:00, 96420.78it/s]\n",
      "Splitting the experimental spectrum into chunks: 55902it [00:00, 2991031.91it/s]\n",
      "Deconvolving chunks: 100%|████████████████████████| 1/1 [00:40<00:00, 40.38s/it]\n"
     ]
    },
    {
     "name": "stdout",
     "output_type": "stream",
     "text": [
      "Estimation for 0.15000000000000002 and 0.01 done\n",
      "It took: 40.45356798171997 seconds.\n",
      "[0.5124155200729987, 0.4858755760999988]\n"
     ]
    },
    {
     "name": "stderr",
     "output_type": "stream",
     "text": [
      "Initial filtering of formulas: 100%|█████████████| 2/2 [00:00<00:00, 144.47it/s]\n",
      "Computing chunks: 100%|████████████████████████| 2/2 [00:00<00:00, 87381.33it/s]\n",
      "Splitting the experimental spectrum into chunks: 55902it [00:00, 3106056.36it/s]\n",
      "Deconvolving chunks: 100%|████████████████████████| 1/1 [00:47<00:00, 47.03s/it]\n"
     ]
    },
    {
     "name": "stdout",
     "output_type": "stream",
     "text": [
      "Estimation for 0.15000000000000002 and 0.02 done\n",
      "It took: 47.10608530044556 seconds.\n",
      "[0.5150854050799988, 0.48210080658399884]\n"
     ]
    },
    {
     "name": "stderr",
     "output_type": "stream",
     "text": [
      "Initial filtering of formulas: 100%|█████████████| 2/2 [00:00<00:00, 127.27it/s]\n",
      "Computing chunks: 100%|████████████████████████| 2/2 [00:00<00:00, 39016.78it/s]\n",
      "Splitting the experimental spectrum into chunks: 55902it [00:00, 2459458.14it/s]\n",
      "Deconvolving chunks: 100%|████████████████████████| 1/1 [00:50<00:00, 50.45s/it]\n"
     ]
    },
    {
     "name": "stdout",
     "output_type": "stream",
     "text": [
      "Estimation for 0.15000000000000002 and 0.03 done\n",
      "It took: 50.53882169723511 seconds.\n",
      "[0.5189914526919988, 0.4770318067159988]\n"
     ]
    },
    {
     "name": "stderr",
     "output_type": "stream",
     "text": [
      "Initial filtering of formulas: 100%|█████████████| 2/2 [00:00<00:00, 114.91it/s]\n",
      "Computing chunks: 100%|████████████████████████| 2/2 [00:00<00:00, 82241.25it/s]\n",
      "Splitting the experimental spectrum into chunks: 55902it [00:00, 2601060.33it/s]\n",
      "Deconvolving chunks: 100%|████████████████████████| 1/1 [00:45<00:00, 45.47s/it]\n"
     ]
    },
    {
     "name": "stdout",
     "output_type": "stream",
     "text": [
      "Estimation for 0.15000000000000002 and 0.04 done\n",
      "It took: 45.55516743659973 seconds.\n",
      "[0.5201403499119988, 0.47553402324199884]\n"
     ]
    },
    {
     "name": "stderr",
     "output_type": "stream",
     "text": [
      "Initial filtering of formulas: 100%|█████████████| 2/2 [00:00<00:00, 137.20it/s]\n",
      "Computing chunks: 100%|████████████████████████| 2/2 [00:00<00:00, 84733.41it/s]\n",
      "Splitting the experimental spectrum into chunks: 55902it [00:00, 2801749.16it/s]\n",
      "Deconvolving chunks: 100%|████████████████████████| 1/1 [00:38<00:00, 38.97s/it]\n"
     ]
    },
    {
     "name": "stdout",
     "output_type": "stream",
     "text": [
      "Estimation for 0.15000000000000002 and 0.05 done\n",
      "It took: 39.04379153251648 seconds.\n",
      "[0.5201457076329988, 0.47549989175999885]\n"
     ]
    },
    {
     "name": "stderr",
     "output_type": "stream",
     "text": [
      "Initial filtering of formulas: 100%|█████████████| 2/2 [00:00<00:00, 144.13it/s]\n",
      "Computing chunks: 100%|████████████████████████| 2/2 [00:00<00:00, 89240.51it/s]\n",
      "Splitting the experimental spectrum into chunks: 55902it [00:00, 2987411.54it/s]\n",
      "Deconvolving chunks: 100%|████████████████████████| 1/1 [00:36<00:00, 36.18s/it]\n"
     ]
    },
    {
     "name": "stdout",
     "output_type": "stream",
     "text": [
      "Estimation for 0.15000000000000002 and 0.060000000000000005 done\n",
      "It took: 36.250813722610474 seconds.\n",
      "[0.5199835772809988, 0.4755785328289988]\n"
     ]
    },
    {
     "name": "stderr",
     "output_type": "stream",
     "text": [
      "Initial filtering of formulas: 100%|█████████████| 2/2 [00:00<00:00, 140.36it/s]\n",
      "Computing chunks: 100%|████████████████████████| 2/2 [00:00<00:00, 36002.61it/s]\n",
      "Splitting the experimental spectrum into chunks: 55902it [00:00, 3071350.68it/s]\n",
      "Deconvolving chunks: 100%|████████████████████████| 1/1 [00:36<00:00, 36.83s/it]\n"
     ]
    },
    {
     "name": "stdout",
     "output_type": "stream",
     "text": [
      "Estimation for 0.15000000000000002 and 0.06999999999999999 done\n",
      "It took: 36.903422594070435 seconds.\n",
      "[0.5199398896479988, 0.47554862871899883]\n"
     ]
    },
    {
     "name": "stderr",
     "output_type": "stream",
     "text": [
      "Initial filtering of formulas: 100%|█████████████| 2/2 [00:00<00:00, 135.49it/s]\n",
      "Computing chunks: 100%|████████████████████████| 2/2 [00:00<00:00, 60787.01it/s]\n",
      "Splitting the experimental spectrum into chunks: 55902it [00:00, 2897051.70it/s]\n",
      "Deconvolving chunks: 100%|████████████████████████| 1/1 [00:39<00:00, 39.50s/it]\n"
     ]
    },
    {
     "name": "stdout",
     "output_type": "stream",
     "text": [
      "Estimation for 0.15000000000000002 and 0.08 done\n",
      "It took: 39.57220458984375 seconds.\n",
      "[0.5195370785839988, 0.4756206394909988]\n"
     ]
    },
    {
     "name": "stderr",
     "output_type": "stream",
     "text": [
      "Initial filtering of formulas: 100%|█████████████| 2/2 [00:00<00:00, 141.07it/s]\n",
      "Computing chunks: 100%|████████████████████████| 2/2 [00:00<00:00, 98689.51it/s]\n",
      "Splitting the experimental spectrum into chunks: 55902it [00:00, 3078569.13it/s]\n",
      "Deconvolving chunks: 100%|████████████████████████| 1/1 [00:44<00:00, 44.90s/it]\n"
     ]
    },
    {
     "name": "stdout",
     "output_type": "stream",
     "text": [
      "Estimation for 0.15000000000000002 and 0.09 done\n",
      "It took: 44.96743130683899 seconds.\n",
      "[0.5190102258939988, 0.47574841122499884]\n"
     ]
    },
    {
     "name": "stderr",
     "output_type": "stream",
     "text": [
      "Initial filtering of formulas: 100%|█████████████| 2/2 [00:00<00:00, 122.92it/s]\n",
      "Computing chunks: 100%|████████████████████████| 2/2 [00:00<00:00, 53773.13it/s]\n",
      "Splitting the experimental spectrum into chunks: 55902it [00:00, 2498534.60it/s]\n",
      "Deconvolving chunks: 100%|████████████████████████| 1/1 [00:51<00:00, 51.09s/it]\n"
     ]
    },
    {
     "name": "stdout",
     "output_type": "stream",
     "text": [
      "Estimation for 0.15000000000000002 and 0.09999999999999999 done\n",
      "It took: 51.18351650238037 seconds.\n",
      "[0.5188286618209987, 0.4757592486419988]\n"
     ]
    },
    {
     "name": "stderr",
     "output_type": "stream",
     "text": [
      "Initial filtering of formulas: 100%|█████████████| 2/2 [00:00<00:00, 118.03it/s]\n",
      "Computing chunks: 100%|████████████████████████| 2/2 [00:00<00:00, 40329.85it/s]\n",
      "Splitting the experimental spectrum into chunks: 55902it [00:00, 2537251.87it/s]\n",
      "Deconvolving chunks: 100%|████████████████████████| 1/1 [00:41<00:00, 41.88s/it]\n"
     ]
    },
    {
     "name": "stdout",
     "output_type": "stream",
     "text": [
      "Estimation for 0.15000000000000002 and 0.11 done\n",
      "It took: 41.964428424835205 seconds.\n",
      "[0.5186556167469988, 0.4757614319069988]\n"
     ]
    },
    {
     "name": "stderr",
     "output_type": "stream",
     "text": [
      "Initial filtering of formulas: 100%|█████████████| 2/2 [00:00<00:00, 133.97it/s]\n",
      "Computing chunks: 100%|████████████████████████| 2/2 [00:00<00:00, 28149.69it/s]\n",
      "Splitting the experimental spectrum into chunks: 55902it [00:00, 1890002.92it/s]\n",
      "Deconvolving chunks: 100%|████████████████████████| 1/1 [00:38<00:00, 38.26s/it]\n"
     ]
    },
    {
     "name": "stdout",
     "output_type": "stream",
     "text": [
      "Estimation for 0.15000000000000002 and 0.12 done\n",
      "It took: 38.34546113014221 seconds.\n",
      "[0.5185513119329987, 0.4757158965489988]\n"
     ]
    },
    {
     "name": "stderr",
     "output_type": "stream",
     "text": [
      "Initial filtering of formulas: 100%|█████████████| 2/2 [00:00<00:00, 133.57it/s]\n",
      "Computing chunks: 100%|████████████████████████| 2/2 [00:00<00:00, 39568.91it/s]\n",
      "Splitting the experimental spectrum into chunks: 55902it [00:00, 2960031.08it/s]\n",
      "Deconvolving chunks: 100%|████████████████████████| 1/1 [00:36<00:00, 36.69s/it]\n"
     ]
    },
    {
     "name": "stdout",
     "output_type": "stream",
     "text": [
      "Estimation for 0.15000000000000002 and 0.13 done\n",
      "It took: 36.766663551330566 seconds.\n",
      "[0.5183973149779988, 0.47568118771199885]\n"
     ]
    },
    {
     "name": "stderr",
     "output_type": "stream",
     "text": [
      "Initial filtering of formulas: 100%|█████████████| 2/2 [00:00<00:00, 140.70it/s]\n",
      "Computing chunks: 100%|████████████████████████| 2/2 [00:00<00:00, 53773.13it/s]\n",
      "Splitting the experimental spectrum into chunks: 55902it [00:00, 2927946.83it/s]\n",
      "Deconvolving chunks: 100%|████████████████████████| 1/1 [00:37<00:00, 37.93s/it]\n"
     ]
    },
    {
     "name": "stdout",
     "output_type": "stream",
     "text": [
      "Estimation for 0.15000000000000002 and 0.14 done\n",
      "It took: 37.99827170372009 seconds.\n",
      "[0.5181121267649987, 0.4757347253029988]\n"
     ]
    },
    {
     "name": "stderr",
     "output_type": "stream",
     "text": [
      "Initial filtering of formulas: 100%|█████████████| 2/2 [00:00<00:00, 142.39it/s]\n",
      "Computing chunks: 100%|████████████████████████| 2/2 [00:00<00:00, 47934.90it/s]\n",
      "Splitting the experimental spectrum into chunks: 55902it [00:00, 2967448.58it/s]\n",
      "Deconvolving chunks: 100%|████████████████████████| 1/1 [00:36<00:00, 36.04s/it]\n"
     ]
    },
    {
     "name": "stdout",
     "output_type": "stream",
     "text": [
      "Estimation for 0.15000000000000002 and 0.15000000000000002 done\n",
      "It took: 36.11132836341858 seconds.\n",
      "[0.5177186233489988, 0.4759277825009988]\n"
     ]
    },
    {
     "name": "stderr",
     "output_type": "stream",
     "text": [
      "Initial filtering of formulas: 100%|█████████████| 2/2 [00:00<00:00, 136.99it/s]\n",
      "Computing chunks: 100%|████████████████████████| 2/2 [00:00<00:00, 96420.78it/s]\n",
      "Splitting the experimental spectrum into chunks: 55902it [00:00, 2884612.80it/s]\n",
      "Deconvolving chunks: 100%|████████████████████████| 1/1 [00:47<00:00, 47.06s/it]\n"
     ]
    },
    {
     "name": "stdout",
     "output_type": "stream",
     "text": [
      "Estimation for 0.15000000000000002 and 0.16 done\n",
      "It took: 47.1374773979187 seconds.\n",
      "[0.5175810134319988, 0.4759783423219988]\n"
     ]
    },
    {
     "name": "stderr",
     "output_type": "stream",
     "text": [
      "Initial filtering of formulas: 100%|█████████████| 2/2 [00:00<00:00, 114.89it/s]\n",
      "Computing chunks: 100%|████████████████████████| 2/2 [00:00<00:00, 39199.10it/s]\n",
      "Splitting the experimental spectrum into chunks: 55902it [00:00, 2427828.68it/s]\n",
      "Deconvolving chunks: 100%|████████████████████████| 1/1 [00:49<00:00, 49.65s/it]\n"
     ]
    },
    {
     "name": "stdout",
     "output_type": "stream",
     "text": [
      "Estimation for 0.15000000000000002 and 0.17 done\n",
      "It took: 49.7387809753418 seconds.\n",
      "[0.5172180382819987, 0.4761424556589988]\n"
     ]
    },
    {
     "name": "stderr",
     "output_type": "stream",
     "text": [
      "Initial filtering of formulas: 100%|█████████████| 2/2 [00:00<00:00, 128.44it/s]\n",
      "Computing chunks: 100%|████████████████████████| 2/2 [00:00<00:00, 63072.24it/s]\n",
      "Splitting the experimental spectrum into chunks: 55902it [00:00, 2612595.35it/s]\n",
      "Deconvolving chunks: 100%|████████████████████████| 1/1 [00:46<00:00, 46.18s/it]\n"
     ]
    },
    {
     "name": "stdout",
     "output_type": "stream",
     "text": [
      "Estimation for 0.15000000000000002 and 0.18000000000000002 done\n",
      "It took: 46.26691031455994 seconds.\n",
      "[0.5166515539809988, 0.47642781766399883]\n"
     ]
    },
    {
     "name": "stderr",
     "output_type": "stream",
     "text": [
      "Initial filtering of formulas: 100%|█████████████| 2/2 [00:00<00:00, 139.41it/s]\n",
      "Computing chunks: 100%|████████████████████████| 2/2 [00:00<00:00, 48210.39it/s]\n",
      "Splitting the experimental spectrum into chunks: 55902it [00:00, 2851184.18it/s]\n",
      "Deconvolving chunks: 100%|████████████████████████| 1/1 [00:45<00:00, 45.37s/it]\n"
     ]
    },
    {
     "name": "stdout",
     "output_type": "stream",
     "text": [
      "Estimation for 0.15000000000000002 and 0.19 done\n",
      "It took: 45.44269418716431 seconds.\n",
      "[0.5157674493269988, 0.47687954540999883]\n"
     ]
    },
    {
     "name": "stderr",
     "output_type": "stream",
     "text": [
      "Initial filtering of formulas: 100%|█████████████| 2/2 [00:00<00:00, 136.11it/s]\n",
      "Computing chunks: 100%|████████████████████████| 2/2 [00:00<00:00, 91180.52it/s]\n",
      "Splitting the experimental spectrum into chunks: 55902it [00:00, 2925900.75it/s]\n",
      "Deconvolving chunks: 100%|████████████████████████| 1/1 [00:36<00:00, 36.17s/it]\n"
     ]
    },
    {
     "name": "stdout",
     "output_type": "stream",
     "text": [
      "Estimation for 0.15000000000000002 and 0.2 done\n",
      "It took: 36.2363965511322 seconds.\n",
      "[0.5151297108689987, 0.47716319757899883]\n"
     ]
    },
    {
     "name": "stderr",
     "output_type": "stream",
     "text": [
      "Initial filtering of formulas: 100%|█████████████| 2/2 [00:00<00:00, 139.14it/s]\n",
      "Computing chunks: 100%|████████████████████████| 2/2 [00:00<00:00, 56679.78it/s]\n",
      "Splitting the experimental spectrum into chunks: 55902it [00:00, 2974110.92it/s]\n",
      "Deconvolving chunks: 100%|████████████████████████| 1/1 [00:40<00:00, 40.33s/it]\n"
     ]
    },
    {
     "name": "stdout",
     "output_type": "stream",
     "text": [
      "Estimation for 0.15000000000000002 and 0.21000000000000002 done\n",
      "It took: 40.40558195114136 seconds.\n",
      "[0.5145510098929987, 0.47742334413799886]\n"
     ]
    },
    {
     "name": "stderr",
     "output_type": "stream",
     "text": [
      "Initial filtering of formulas: 100%|█████████████| 2/2 [00:00<00:00, 132.67it/s]\n",
      "Computing chunks: 100%|████████████████████████| 2/2 [00:00<00:00, 92182.51it/s]\n",
      "Splitting the experimental spectrum into chunks: 55902it [00:00, 2860227.17it/s]\n",
      "Deconvolving chunks: 100%|████████████████████████| 1/1 [00:47<00:00, 47.62s/it]\n"
     ]
    },
    {
     "name": "stdout",
     "output_type": "stream",
     "text": [
      "Estimation for 0.15000000000000002 and 0.22 done\n",
      "It took: 47.69182276725769 seconds.\n",
      "[0.5142634028279988, 0.47754903677699884]\n"
     ]
    },
    {
     "name": "stderr",
     "output_type": "stream",
     "text": [
      "Initial filtering of formulas: 100%|█████████████| 2/2 [00:00<00:00, 146.46it/s]\n",
      "Computing chunks: 100%|████████████████████████| 2/2 [00:00<00:00, 97541.95it/s]\n",
      "Splitting the experimental spectrum into chunks: 55902it [00:00, 3078245.80it/s]\n",
      "Deconvolving chunks: 100%|████████████████████████| 1/1 [00:43<00:00, 43.86s/it]\n"
     ]
    },
    {
     "name": "stdout",
     "output_type": "stream",
     "text": [
      "Estimation for 0.15000000000000002 and 0.23 done\n",
      "It took: 43.93013596534729 seconds.\n",
      "[0.5138032734509987, 0.4777136718769988]\n"
     ]
    },
    {
     "name": "stderr",
     "output_type": "stream",
     "text": [
      "Initial filtering of formulas: 100%|█████████████| 2/2 [00:00<00:00, 125.97it/s]\n",
      "Computing chunks: 100%|████████████████████████| 2/2 [00:00<00:00, 49344.75it/s]\n",
      "Splitting the experimental spectrum into chunks: 55902it [00:00, 2538488.00it/s]\n",
      "Deconvolving chunks: 100%|████████████████████████| 1/1 [00:59<00:00, 59.17s/it]\n"
     ]
    },
    {
     "name": "stdout",
     "output_type": "stream",
     "text": [
      "Estimation for 0.15000000000000002 and 0.24000000000000002 done\n",
      "It took: 59.257781982421875 seconds.\n",
      "[0.5136260513009988, 0.47776853911999884]\n"
     ]
    },
    {
     "name": "stderr",
     "output_type": "stream",
     "text": [
      "Initial filtering of formulas: 100%|█████████████| 2/2 [00:00<00:00, 137.76it/s]\n",
      "Computing chunks: 100%|████████████████████████| 2/2 [00:00<00:00, 65536.00it/s]\n",
      "Splitting the experimental spectrum into chunks: 55902it [00:00, 2925535.67it/s]\n",
      "Deconvolving chunks: 100%|████████████████████████| 1/1 [00:37<00:00, 37.65s/it]\n"
     ]
    },
    {
     "name": "stdout",
     "output_type": "stream",
     "text": [
      "Estimation for 0.15000000000000002 and 0.25 done\n",
      "It took: 37.72799253463745 seconds.\n",
      "[0.5133732819699988, 0.4778528007969988]\n"
     ]
    },
    {
     "name": "stderr",
     "output_type": "stream",
     "text": [
      "Initial filtering of formulas: 100%|█████████████| 2/2 [00:00<00:00, 134.23it/s]\n",
      "Computing chunks: 100%|████████████████████████| 2/2 [00:00<00:00, 35696.20it/s]\n",
      "Splitting the experimental spectrum into chunks: 55902it [00:00, 2889198.10it/s]\n",
      "Deconvolving chunks: 100%|████████████████████████| 1/1 [00:37<00:00, 37.67s/it]\n"
     ]
    },
    {
     "name": "stdout",
     "output_type": "stream",
     "text": [
      "Estimation for 0.15000000000000002 and 0.26 done\n",
      "It took: 37.74217486381531 seconds.\n",
      "[0.5132622873979987, 0.47780807368899886]\n"
     ]
    },
    {
     "name": "stderr",
     "output_type": "stream",
     "text": [
      "Initial filtering of formulas: 100%|█████████████| 2/2 [00:00<00:00, 142.20it/s]\n",
      "Computing chunks: 100%|███████████████████████| 2/2 [00:00<00:00, 101067.57it/s]\n",
      "Splitting the experimental spectrum into chunks: 55902it [00:00, 3077155.04it/s]\n",
      "Deconvolving chunks: 100%|████████████████████████| 1/1 [00:35<00:00, 35.84s/it]\n"
     ]
    },
    {
     "name": "stdout",
     "output_type": "stream",
     "text": [
      "Estimation for 0.15000000000000002 and 0.27 done\n",
      "It took: 35.90897989273071 seconds.\n",
      "[0.5130500182379988, 0.47772934832599884]\n"
     ]
    },
    {
     "name": "stderr",
     "output_type": "stream",
     "text": [
      "Initial filtering of formulas: 100%|█████████████| 2/2 [00:00<00:00, 142.10it/s]\n",
      "Computing chunks: 100%|████████████████████████| 2/2 [00:00<00:00, 84733.41it/s]\n",
      "Splitting the experimental spectrum into chunks: 55902it [00:00, 3035406.59it/s]\n",
      "Deconvolving chunks: 100%|████████████████████████| 1/1 [00:37<00:00, 37.04s/it]\n"
     ]
    },
    {
     "name": "stdout",
     "output_type": "stream",
     "text": [
      "Estimation for 0.15000000000000002 and 0.28 done\n",
      "It took: 37.11675143241882 seconds.\n",
      "[0.5126101489839988, 0.4776023758449988]\n"
     ]
    },
    {
     "name": "stderr",
     "output_type": "stream",
     "text": [
      "Initial filtering of formulas: 100%|█████████████| 2/2 [00:00<00:00, 140.36it/s]\n",
      "Computing chunks: 100%|████████████████████████| 2/2 [00:00<00:00, 96420.78it/s]\n",
      "Splitting the experimental spectrum into chunks: 55902it [00:00, 3074129.20it/s]\n",
      "Deconvolving chunks: 100%|████████████████████████| 1/1 [00:36<00:00, 36.48s/it]\n"
     ]
    },
    {
     "name": "stdout",
     "output_type": "stream",
     "text": [
      "Estimation for 0.15000000000000002 and 0.29000000000000004 done\n",
      "It took: 36.55189061164856 seconds.\n",
      "[0.5124691118279988, 0.47721346756499883]\n"
     ]
    },
    {
     "name": "stderr",
     "output_type": "stream",
     "text": [
      "Initial filtering of formulas: 100%|█████████████| 2/2 [00:00<00:00, 137.95it/s]\n",
      "Computing chunks: 100%|████████████████████████| 2/2 [00:00<00:00, 85598.04it/s]\n",
      "Splitting the experimental spectrum into chunks: 55902it [00:00, 2822796.94it/s]\n",
      "Deconvolving chunks: 100%|████████████████████████| 1/1 [00:45<00:00, 45.72s/it]\n"
     ]
    },
    {
     "name": "stdout",
     "output_type": "stream",
     "text": [
      "Estimation for 0.15000000000000002 and 0.3 done\n",
      "It took: 45.80498909950256 seconds.\n",
      "[0.5123641236379988, 0.47703049410899884]\n"
     ]
    },
    {
     "name": "stderr",
     "output_type": "stream",
     "text": [
      "Initial filtering of formulas: 100%|█████████████| 2/2 [00:00<00:00, 122.64it/s]\n",
      "Computing chunks: 100%|████████████████████████| 2/2 [00:00<00:00, 34952.53it/s]\n",
      "Splitting the experimental spectrum into chunks: 55902it [00:00, 2538790.34it/s]\n",
      "Deconvolving chunks: 100%|████████████████████████| 1/1 [00:49<00:00, 49.52s/it]\n"
     ]
    },
    {
     "name": "stdout",
     "output_type": "stream",
     "text": [
      "Estimation for 0.16 and 0.01 done\n",
      "It took: 49.60978102684021 seconds.\n",
      "[0.5125696634219988, 0.48585597035699885]\n"
     ]
    },
    {
     "name": "stderr",
     "output_type": "stream",
     "text": [
      "Initial filtering of formulas: 100%|█████████████| 2/2 [00:00<00:00, 122.14it/s]\n",
      "Computing chunks: 100%|████████████████████████| 2/2 [00:00<00:00, 48770.98it/s]\n",
      "Splitting the experimental spectrum into chunks: 55902it [00:00, 2554389.67it/s]\n",
      "Deconvolving chunks: 100%|████████████████████████| 1/1 [00:45<00:00, 45.49s/it]\n"
     ]
    },
    {
     "name": "stdout",
     "output_type": "stream",
     "text": [
      "Estimation for 0.16 and 0.02 done\n",
      "It took: 45.57699990272522 seconds.\n",
      "[0.5158935598229988, 0.4816922226209988]\n"
     ]
    },
    {
     "name": "stderr",
     "output_type": "stream",
     "text": [
      "Initial filtering of formulas: 100%|█████████████| 2/2 [00:00<00:00, 134.88it/s]\n",
      "Computing chunks: 100%|████████████████████████| 2/2 [00:00<00:00, 91180.52it/s]\n",
      "Splitting the experimental spectrum into chunks: 55902it [00:00, 2930252.10it/s]\n",
      "Deconvolving chunks: 100%|████████████████████████| 1/1 [00:38<00:00, 38.43s/it]\n"
     ]
    },
    {
     "name": "stdout",
     "output_type": "stream",
     "text": [
      "Estimation for 0.16 and 0.03 done\n",
      "It took: 38.508392095565796 seconds.\n",
      "[0.5194595879239988, 0.4770414195089988]\n"
     ]
    },
    {
     "name": "stderr",
     "output_type": "stream",
     "text": [
      "Initial filtering of formulas: 100%|█████████████| 2/2 [00:00<00:00, 138.26it/s]\n",
      "Computing chunks: 100%|████████████████████████| 2/2 [00:00<00:00, 97541.95it/s]\n",
      "Splitting the experimental spectrum into chunks: 55902it [00:00, 2949011.20it/s]\n",
      "Deconvolving chunks: 100%|████████████████████████| 1/1 [00:39<00:00, 39.20s/it]\n"
     ]
    },
    {
     "name": "stdout",
     "output_type": "stream",
     "text": [
      "Estimation for 0.16 and 0.04 done\n",
      "It took: 39.27264070510864 seconds.\n",
      "[0.5205203437909988, 0.47544083607099885]\n"
     ]
    },
    {
     "name": "stderr",
     "output_type": "stream",
     "text": [
      "Initial filtering of formulas: 100%|█████████████| 2/2 [00:00<00:00, 136.14it/s]\n",
      "Computing chunks: 100%|████████████████████████| 2/2 [00:00<00:00, 76260.07it/s]\n",
      "Splitting the experimental spectrum into chunks: 55902it [00:00, 2871330.56it/s]\n",
      "Deconvolving chunks: 100%|████████████████████████| 1/1 [00:37<00:00, 37.98s/it]\n"
     ]
    },
    {
     "name": "stdout",
     "output_type": "stream",
     "text": [
      "Estimation for 0.16 and 0.05 done\n",
      "It took: 38.05004644393921 seconds.\n",
      "[0.5207015425469987, 0.4752083149729988]\n"
     ]
    },
    {
     "name": "stderr",
     "output_type": "stream",
     "text": [
      "Initial filtering of formulas: 100%|█████████████| 2/2 [00:00<00:00, 133.99it/s]\n",
      "Computing chunks: 100%|████████████████████████| 2/2 [00:00<00:00, 96420.78it/s]\n",
      "Splitting the experimental spectrum into chunks: 55902it [00:00, 2890337.79it/s]\n",
      "Deconvolving chunks: 100%|████████████████████████| 1/1 [00:38<00:00, 38.72s/it]\n"
     ]
    },
    {
     "name": "stdout",
     "output_type": "stream",
     "text": [
      "Estimation for 0.16 and 0.060000000000000005 done\n",
      "It took: 38.796289682388306 seconds.\n",
      "[0.5204298758529988, 0.47534104786799886]\n"
     ]
    },
    {
     "name": "stderr",
     "output_type": "stream",
     "text": [
      "Initial filtering of formulas: 100%|█████████████| 2/2 [00:00<00:00, 146.80it/s]\n",
      "Computing chunks: 100%|███████████████████████| 2/2 [00:00<00:00, 101067.57it/s]\n",
      "Splitting the experimental spectrum into chunks: 55902it [00:00, 3083549.00it/s]\n",
      "Deconvolving chunks: 100%|████████████████████████| 1/1 [00:43<00:00, 43.53s/it]\n"
     ]
    },
    {
     "name": "stdout",
     "output_type": "stream",
     "text": [
      "Estimation for 0.16 and 0.06999999999999999 done\n",
      "It took: 43.6042160987854 seconds.\n",
      "[0.5202362114929988, 0.4754197373499988]\n"
     ]
    },
    {
     "name": "stderr",
     "output_type": "stream",
     "text": [
      "Initial filtering of formulas: 100%|█████████████| 2/2 [00:00<00:00, 128.33it/s]\n",
      "Computing chunks: 100%|████████████████████████| 2/2 [00:00<00:00, 48770.98it/s]\n",
      "Splitting the experimental spectrum into chunks: 55902it [00:00, 2580307.72it/s]\n",
      "Deconvolving chunks: 100%|████████████████████████| 1/1 [00:52<00:00, 52.11s/it]\n"
     ]
    },
    {
     "name": "stdout",
     "output_type": "stream",
     "text": [
      "Estimation for 0.16 and 0.08 done\n",
      "It took: 52.19237399101257 seconds.\n",
      "[0.5201701197009988, 0.47539368151999883]\n"
     ]
    },
    {
     "name": "stderr",
     "output_type": "stream",
     "text": [
      "Initial filtering of formulas: 100%|█████████████| 2/2 [00:00<00:00, 125.07it/s]\n",
      "Computing chunks: 100%|████████████████████████| 2/2 [00:00<00:00, 12652.50it/s]\n",
      "Splitting the experimental spectrum into chunks: 55902it [00:00, 2573623.65it/s]\n",
      "Deconvolving chunks: 100%|████████████████████████| 1/1 [00:43<00:00, 43.27s/it]\n"
     ]
    },
    {
     "name": "stdout",
     "output_type": "stream",
     "text": [
      "Estimation for 0.16 and 0.09 done\n",
      "It took: 43.35322189331055 seconds.\n",
      "[0.5200957679629988, 0.47538786004899886]\n"
     ]
    },
    {
     "name": "stderr",
     "output_type": "stream",
     "text": [
      "Initial filtering of formulas: 100%|█████████████| 2/2 [00:00<00:00, 131.48it/s]\n",
      "Computing chunks: 100%|████████████████████████| 2/2 [00:00<00:00, 83055.52it/s]\n",
      "Splitting the experimental spectrum into chunks: 55902it [00:00, 2918325.98it/s]\n",
      "Deconvolving chunks: 100%|████████████████████████| 1/1 [00:39<00:00, 39.28s/it]\n"
     ]
    },
    {
     "name": "stdout",
     "output_type": "stream",
     "text": [
      "Estimation for 0.16 and 0.09999999999999999 done\n",
      "It took: 39.353803873062134 seconds.\n",
      "[0.5196418565109988, 0.47548943790599885]\n"
     ]
    },
    {
     "name": "stderr",
     "output_type": "stream",
     "text": [
      "Initial filtering of formulas: 100%|█████████████| 2/2 [00:00<00:00, 141.07it/s]\n",
      "Computing chunks: 100%|███████████████████████| 2/2 [00:00<00:00, 103563.06it/s]\n",
      "Splitting the experimental spectrum into chunks: 55902it [00:00, 2931644.33it/s]\n",
      "Deconvolving chunks: 100%|████████████████████████| 1/1 [00:37<00:00, 37.63s/it]\n"
     ]
    },
    {
     "name": "stdout",
     "output_type": "stream",
     "text": [
      "Estimation for 0.16 and 0.11 done\n",
      "It took: 37.69971251487732 seconds.\n",
      "[0.5191439904299988, 0.4756003011189988]\n"
     ]
    },
    {
     "name": "stderr",
     "output_type": "stream",
     "text": [
      "Initial filtering of formulas: 100%|█████████████| 2/2 [00:00<00:00, 137.79it/s]\n",
      "Computing chunks: 100%|████████████████████████| 2/2 [00:00<00:00, 89240.51it/s]\n",
      "Splitting the experimental spectrum into chunks: 55902it [00:00, 3012320.39it/s]\n",
      "Deconvolving chunks: 100%|████████████████████████| 1/1 [00:37<00:00, 37.23s/it]\n"
     ]
    },
    {
     "name": "stdout",
     "output_type": "stream",
     "text": [
      "Estimation for 0.16 and 0.12 done\n",
      "It took: 37.30281162261963 seconds.\n",
      "[0.5189309115079987, 0.47566361557399883]\n"
     ]
    },
    {
     "name": "stderr",
     "output_type": "stream",
     "text": [
      "Initial filtering of formulas: 100%|█████████████| 2/2 [00:00<00:00, 142.72it/s]\n",
      "Computing chunks: 100%|████████████████████████| 2/2 [00:00<00:00, 67108.86it/s]\n",
      "Splitting the experimental spectrum into chunks: 55902it [00:00, 2989925.81it/s]\n",
      "Deconvolving chunks: 100%|████████████████████████| 1/1 [00:38<00:00, 38.54s/it]\n"
     ]
    },
    {
     "name": "stdout",
     "output_type": "stream",
     "text": [
      "Estimation for 0.16 and 0.13 done\n",
      "It took: 38.615161180496216 seconds.\n",
      "[0.5187699063249988, 0.4756790542289988]\n"
     ]
    },
    {
     "name": "stderr",
     "output_type": "stream",
     "text": [
      "Initial filtering of formulas: 100%|█████████████| 2/2 [00:00<00:00, 145.41it/s]\n",
      "Computing chunks: 100%|████████████████████████| 2/2 [00:00<00:00, 60787.01it/s]\n",
      "Splitting the experimental spectrum into chunks: 55902it [00:00, 2996153.47it/s]\n",
      "Deconvolving chunks: 100%|████████████████████████| 1/1 [00:43<00:00, 43.40s/it]\n"
     ]
    },
    {
     "name": "stdout",
     "output_type": "stream",
     "text": [
      "Estimation for 0.16 and 0.14 done\n",
      "It took: 43.47555947303772 seconds.\n",
      "[0.5186415352809988, 0.4756487998869988]\n"
     ]
    },
    {
     "name": "stderr",
     "output_type": "stream",
     "text": [
      "Initial filtering of formulas: 100%|█████████████| 2/2 [00:00<00:00, 132.42it/s]\n",
      "Computing chunks: 100%|████████████████████████| 2/2 [00:00<00:00, 55188.21it/s]\n",
      "Splitting the experimental spectrum into chunks: 55902it [00:00, 2592002.81it/s]\n",
      "Deconvolving chunks: 100%|████████████████████████| 1/1 [00:47<00:00, 47.54s/it]\n"
     ]
    },
    {
     "name": "stdout",
     "output_type": "stream",
     "text": [
      "Estimation for 0.16 and 0.15000000000000002 done\n",
      "It took: 47.63220930099487 seconds.\n",
      "[0.5184403148009987, 0.47567142080099883]\n"
     ]
    },
    {
     "name": "stderr",
     "output_type": "stream",
     "text": [
      "Initial filtering of formulas: 100%|█████████████| 2/2 [00:00<00:00, 125.23it/s]\n",
      "Computing chunks: 100%|████████████████████████| 2/2 [00:00<00:00, 68759.08it/s]\n",
      "Splitting the experimental spectrum into chunks: 55902it [00:00, 2422786.22it/s]\n",
      "Deconvolving chunks: 100%|████████████████████████| 1/1 [00:39<00:00, 39.25s/it]\n"
     ]
    },
    {
     "name": "stdout",
     "output_type": "stream",
     "text": [
      "Estimation for 0.16 and 0.16 done\n",
      "It took: 39.33222556114197 seconds.\n",
      "[0.5181596929829988, 0.47574385923499884]\n"
     ]
    },
    {
     "name": "stderr",
     "output_type": "stream",
     "text": [
      "Initial filtering of formulas: 100%|█████████████| 2/2 [00:00<00:00, 135.66it/s]\n",
      "Computing chunks: 100%|████████████████████████| 2/2 [00:00<00:00, 26132.74it/s]\n",
      "Splitting the experimental spectrum into chunks: 55902it [00:00, 2779891.90it/s]\n",
      "Deconvolving chunks: 100%|████████████████████████| 1/1 [00:38<00:00, 38.84s/it]\n"
     ]
    },
    {
     "name": "stdout",
     "output_type": "stream",
     "text": [
      "Estimation for 0.16 and 0.17 done\n",
      "It took: 38.91967272758484 seconds.\n",
      "[0.5178690516489988, 0.47590479651999884]\n"
     ]
    },
    {
     "name": "stderr",
     "output_type": "stream",
     "text": [
      "Initial filtering of formulas: 100%|█████████████| 2/2 [00:00<00:00, 130.58it/s]\n",
      "Computing chunks: 100%|████████████████████████| 2/2 [00:00<00:00, 15709.00it/s]\n",
      "Splitting the experimental spectrum into chunks: 55902it [00:00, 2787194.88it/s]\n",
      "Deconvolving chunks: 100%|████████████████████████| 1/1 [00:35<00:00, 35.65s/it]\n"
     ]
    },
    {
     "name": "stdout",
     "output_type": "stream",
     "text": [
      "Estimation for 0.16 and 0.18000000000000002 done\n",
      "It took: 35.720425844192505 seconds.\n",
      "[0.5177389227939988, 0.4759095173869988]\n"
     ]
    },
    {
     "name": "stderr",
     "output_type": "stream",
     "text": [
      "Initial filtering of formulas: 100%|█████████████| 2/2 [00:00<00:00, 132.25it/s]\n",
      "Computing chunks: 100%|████████████████████████| 2/2 [00:00<00:00, 86480.49it/s]\n",
      "Splitting the experimental spectrum into chunks: 55902it [00:00, 3053233.09it/s]\n",
      "Deconvolving chunks: 100%|████████████████████████| 1/1 [00:38<00:00, 38.06s/it]\n"
     ]
    },
    {
     "name": "stdout",
     "output_type": "stream",
     "text": [
      "Estimation for 0.16 and 0.19 done\n",
      "It took: 38.13559079170227 seconds.\n",
      "[0.5173895489699988, 0.4760679436379988]\n"
     ]
    },
    {
     "name": "stderr",
     "output_type": "stream",
     "text": [
      "Initial filtering of formulas: 100%|█████████████| 2/2 [00:00<00:00, 143.10it/s]\n",
      "Computing chunks: 100%|████████████████████████| 2/2 [00:00<00:00, 73584.28it/s]\n",
      "Splitting the experimental spectrum into chunks: 55902it [00:00, 3009382.03it/s]\n",
      "Deconvolving chunks: 100%|████████████████████████| 1/1 [00:42<00:00, 42.28s/it]\n"
     ]
    },
    {
     "name": "stdout",
     "output_type": "stream",
     "text": [
      "Estimation for 0.16 and 0.2 done\n",
      "It took: 42.354459285736084 seconds.\n",
      "[0.5167795283529988, 0.47636902619899885]\n"
     ]
    },
    {
     "name": "stderr",
     "output_type": "stream",
     "text": [
      "Initial filtering of formulas: 100%|█████████████| 2/2 [00:00<00:00, 138.59it/s]\n",
      "Computing chunks: 100%|████████████████████████| 2/2 [00:00<00:00, 39383.14it/s]\n",
      "Splitting the experimental spectrum into chunks: 55902it [00:00, 2944197.27it/s]\n",
      "Deconvolving chunks: 100%|████████████████████████| 1/1 [00:43<00:00, 43.25s/it]\n"
     ]
    },
    {
     "name": "stdout",
     "output_type": "stream",
     "text": [
      "Estimation for 0.16 and 0.21000000000000002 done\n",
      "It took: 43.321566581726074 seconds.\n",
      "[0.5159015766349988, 0.4768224069279988]\n"
     ]
    },
    {
     "name": "stderr",
     "output_type": "stream",
     "text": [
      "Initial filtering of formulas: 100%|█████████████| 2/2 [00:00<00:00, 120.00it/s]\n",
      "Computing chunks: 100%|████████████████████████| 2/2 [00:00<00:00, 71697.50it/s]\n",
      "Splitting the experimental spectrum into chunks: 55902it [00:00, 2626526.07it/s]\n",
      "Deconvolving chunks: 100%|████████████████████████| 1/1 [00:51<00:00, 51.58s/it]\n"
     ]
    },
    {
     "name": "stdout",
     "output_type": "stream",
     "text": [
      "Estimation for 0.16 and 0.22 done\n",
      "It took: 51.67263603210449 seconds.\n",
      "[0.5151925970729988, 0.47716634138299885]\n"
     ]
    },
    {
     "name": "stderr",
     "output_type": "stream",
     "text": [
      "Initial filtering of formulas: 100%|█████████████| 2/2 [00:00<00:00, 116.13it/s]\n",
      "Computing chunks: 100%|████████████████████████| 2/2 [00:00<00:00, 55924.05it/s]\n",
      "Splitting the experimental spectrum into chunks: 55902it [00:00, 2380140.11it/s]\n",
      "Deconvolving chunks: 100%|████████████████████████| 1/1 [00:40<00:00, 40.06s/it]\n"
     ]
    },
    {
     "name": "stdout",
     "output_type": "stream",
     "text": [
      "Estimation for 0.16 and 0.23 done\n",
      "It took: 40.146995306015015 seconds.\n",
      "[0.5146549190429988, 0.47738478999699885]\n"
     ]
    },
    {
     "name": "stderr",
     "output_type": "stream",
     "text": [
      "Initial filtering of formulas: 100%|█████████████| 2/2 [00:00<00:00, 134.54it/s]\n",
      "Computing chunks: 100%|████████████████████████| 2/2 [00:00<00:00, 88301.14it/s]\n",
      "Splitting the experimental spectrum into chunks: 55902it [00:00, 2781309.84it/s]\n",
      "Deconvolving chunks: 100%|████████████████████████| 1/1 [00:40<00:00, 40.64s/it]\n"
     ]
    },
    {
     "name": "stdout",
     "output_type": "stream",
     "text": [
      "Estimation for 0.16 and 0.24000000000000002 done\n",
      "It took: 40.71447944641113 seconds.\n",
      "[0.5143637437709988, 0.47750370014699883]\n"
     ]
    },
    {
     "name": "stderr",
     "output_type": "stream",
     "text": [
      "Initial filtering of formulas: 100%|█████████████| 2/2 [00:00<00:00, 143.00it/s]\n",
      "Computing chunks: 100%|████████████████████████| 2/2 [00:00<00:00, 79891.50it/s]\n",
      "Splitting the experimental spectrum into chunks: 55902it [00:00, 3034817.27it/s]\n",
      "Deconvolving chunks: 100%|████████████████████████| 1/1 [00:46<00:00, 46.57s/it]\n"
     ]
    },
    {
     "name": "stdout",
     "output_type": "stream",
     "text": [
      "Estimation for 0.16 and 0.25 done\n",
      "It took: 46.63477897644043 seconds.\n",
      "[0.5139449809579988, 0.47767007007999884]\n"
     ]
    },
    {
     "name": "stderr",
     "output_type": "stream",
     "text": [
      "Initial filtering of formulas: 100%|█████████████| 2/2 [00:00<00:00, 141.40it/s]\n",
      "Computing chunks: 100%|████████████████████████| 2/2 [00:00<00:00, 91180.52it/s]\n",
      "Splitting the experimental spectrum into chunks: 55902it [00:00, 2994163.92it/s]\n",
      "Deconvolving chunks: 100%|████████████████████████| 1/1 [00:39<00:00, 39.49s/it]\n"
     ]
    },
    {
     "name": "stdout",
     "output_type": "stream",
     "text": [
      "Estimation for 0.16 and 0.26 done\n",
      "It took: 39.566606521606445 seconds.\n",
      "[0.5137809045219988, 0.47762964523699886]\n"
     ]
    },
    {
     "name": "stderr",
     "output_type": "stream",
     "text": [
      "Initial filtering of formulas: 100%|█████████████| 2/2 [00:00<00:00, 141.75it/s]\n",
      "Computing chunks: 100%|████████████████████████| 2/2 [00:00<00:00, 52758.54it/s]\n",
      "Splitting the experimental spectrum into chunks: 55902it [00:00, 2873336.22it/s]\n",
      "Deconvolving chunks: 100%|████████████████████████| 1/1 [00:34<00:00, 34.26s/it]\n"
     ]
    },
    {
     "name": "stdout",
     "output_type": "stream",
     "text": [
      "Estimation for 0.16 and 0.27 done\n",
      "It took: 34.327507972717285 seconds.\n",
      "[0.5135903280049988, 0.47767598502099884]\n"
     ]
    },
    {
     "name": "stderr",
     "output_type": "stream",
     "text": [
      "Initial filtering of formulas: 100%|█████████████| 2/2 [00:00<00:00, 143.66it/s]\n",
      "Computing chunks: 100%|███████████████████████| 2/2 [00:00<00:00, 103563.06it/s]\n",
      "Splitting the experimental spectrum into chunks: 55902it [00:00, 3053988.70it/s]\n",
      "Deconvolving chunks: 100%|████████████████████████| 1/1 [00:41<00:00, 41.79s/it]\n"
     ]
    },
    {
     "name": "stdout",
     "output_type": "stream",
     "text": [
      "Estimation for 0.16 and 0.28 done\n",
      "It took: 41.85998582839966 seconds.\n",
      "[0.5134056976019988, 0.4776775358129988]\n"
     ]
    },
    {
     "name": "stderr",
     "output_type": "stream",
     "text": [
      "Initial filtering of formulas: 100%|█████████████| 2/2 [00:00<00:00, 121.92it/s]\n",
      "Computing chunks: 100%|████████████████████████| 2/2 [00:00<00:00, 47662.55it/s]\n",
      "Splitting the experimental spectrum into chunks: 55902it [00:00, 2498481.35it/s]\n",
      "Deconvolving chunks: 100%|████████████████████████| 1/1 [01:00<00:00, 60.72s/it]\n"
     ]
    },
    {
     "name": "stdout",
     "output_type": "stream",
     "text": [
      "Estimation for 0.16 and 0.29000000000000004 done\n",
      "It took: 60.81009101867676 seconds.\n",
      "[0.5131879274169988, 0.4775206812589988]\n"
     ]
    },
    {
     "name": "stderr",
     "output_type": "stream",
     "text": [
      "Initial filtering of formulas: 100%|█████████████| 2/2 [00:00<00:00, 113.61it/s]\n",
      "Computing chunks: 100%|████████████████████████| 2/2 [00:00<00:00, 24456.58it/s]\n",
      "Splitting the experimental spectrum into chunks: 55902it [00:00, 2165624.34it/s]\n",
      "Deconvolving chunks: 100%|████████████████████████| 1/1 [00:42<00:00, 42.58s/it]\n"
     ]
    },
    {
     "name": "stdout",
     "output_type": "stream",
     "text": [
      "Estimation for 0.16 and 0.3 done\n",
      "It took: 42.67700958251953 seconds.\n",
      "[0.5130300166859988, 0.47723177829799884]\n"
     ]
    },
    {
     "name": "stderr",
     "output_type": "stream",
     "text": [
      "Initial filtering of formulas: 100%|█████████████| 2/2 [00:00<00:00, 129.55it/s]\n",
      "Computing chunks: 100%|████████████████████████| 2/2 [00:00<00:00, 40920.04it/s]\n",
      "Splitting the experimental spectrum into chunks: 55902it [00:00, 2846649.53it/s]\n",
      "Deconvolving chunks: 100%|████████████████████████| 1/1 [00:39<00:00, 39.21s/it]\n"
     ]
    },
    {
     "name": "stdout",
     "output_type": "stream",
     "text": [
      "Estimation for 0.17 and 0.01 done\n",
      "It took: 39.28997588157654 seconds.\n",
      "[0.5126340445749987, 0.48588429142999884]\n"
     ]
    },
    {
     "name": "stderr",
     "output_type": "stream",
     "text": [
      "Initial filtering of formulas: 100%|█████████████| 2/2 [00:00<00:00, 134.23it/s]\n",
      "Computing chunks: 100%|████████████████████████| 2/2 [00:00<00:00, 43018.50it/s]\n",
      "Splitting the experimental spectrum into chunks: 55902it [00:00, 2926083.32it/s]\n",
      "Deconvolving chunks: 100%|████████████████████████| 1/1 [00:39<00:00, 39.33s/it]\n"
     ]
    },
    {
     "name": "stdout",
     "output_type": "stream",
     "text": [
      "Estimation for 0.17 and 0.02 done\n",
      "It took: 39.40682053565979 seconds.\n",
      "[0.5165198289919988, 0.48133871118899885]\n"
     ]
    },
    {
     "name": "stderr",
     "output_type": "stream",
     "text": [
      "Initial filtering of formulas: 100%|█████████████| 2/2 [00:00<00:00, 139.81it/s]\n",
      "Computing chunks: 100%|████████████████████████| 2/2 [00:00<00:00, 78398.21it/s]\n",
      "Splitting the experimental spectrum into chunks: 55902it [00:00, 2883584.00it/s]\n",
      "Deconvolving chunks: 100%|████████████████████████| 1/1 [00:38<00:00, 38.58s/it]\n"
     ]
    },
    {
     "name": "stdout",
     "output_type": "stream",
     "text": [
      "Estimation for 0.17 and 0.03 done\n",
      "It took: 38.65691304206848 seconds.\n",
      "[0.5199400873929988, 0.4769405808039988]\n"
     ]
    },
    {
     "name": "stderr",
     "output_type": "stream",
     "text": [
      "Initial filtering of formulas: 100%|█████████████| 2/2 [00:00<00:00, 132.47it/s]\n",
      "Computing chunks: 100%|████████████████████████| 2/2 [00:00<00:00, 92182.51it/s]\n",
      "Splitting the experimental spectrum into chunks: 55902it [00:00, 2860296.95it/s]\n",
      "Deconvolving chunks: 100%|████████████████████████| 1/1 [00:38<00:00, 38.17s/it]\n"
     ]
    },
    {
     "name": "stdout",
     "output_type": "stream",
     "text": [
      "Estimation for 0.17 and 0.04 done\n",
      "It took: 38.23829483985901 seconds.\n",
      "[0.5209713795749987, 0.47529319583299884]\n"
     ]
    },
    {
     "name": "stderr",
     "output_type": "stream",
     "text": [
      "Initial filtering of formulas: 100%|█████████████| 2/2 [00:00<00:00, 142.57it/s]\n",
      "Computing chunks: 100%|███████████████████████| 2/2 [00:00<00:00, 104857.60it/s]\n",
      "Splitting the experimental spectrum into chunks: 55902it [00:00, 2996536.38it/s]\n",
      "Deconvolving chunks: 100%|████████████████████████| 1/1 [00:42<00:00, 42.92s/it]\n"
     ]
    },
    {
     "name": "stdout",
     "output_type": "stream",
     "text": [
      "Estimation for 0.17 and 0.05 done\n",
      "It took: 42.996663331985474 seconds.\n",
      "[0.5209641542449988, 0.4750895603179988]\n"
     ]
    },
    {
     "name": "stderr",
     "output_type": "stream",
     "text": [
      "Initial filtering of formulas: 100%|█████████████| 2/2 [00:00<00:00, 122.14it/s]\n",
      "Computing chunks: 100%|████████████████████████| 2/2 [00:00<00:00, 72315.59it/s]\n",
      "Splitting the experimental spectrum into chunks: 55902it [00:00, 2692890.57it/s]\n",
      "Deconvolving chunks: 100%|████████████████████████| 1/1 [00:58<00:00, 58.10s/it]\n"
     ]
    },
    {
     "name": "stdout",
     "output_type": "stream",
     "text": [
      "Estimation for 0.17 and 0.060000000000000005 done\n",
      "It took: 58.18541240692139 seconds.\n",
      "[0.5208044198039988, 0.47514670524799885]\n"
     ]
    },
    {
     "name": "stderr",
     "output_type": "stream",
     "text": [
      "Initial filtering of formulas: 100%|█████████████| 2/2 [00:00<00:00, 131.95it/s]\n",
      "Computing chunks: 100%|████████████████████████| 2/2 [00:00<00:00, 80659.69it/s]\n",
      "Splitting the experimental spectrum into chunks: 55902it [00:00, 2819639.98it/s]\n",
      "Deconvolving chunks: 100%|████████████████████████| 1/1 [00:39<00:00, 39.52s/it]\n"
     ]
    },
    {
     "name": "stdout",
     "output_type": "stream",
     "text": [
      "Estimation for 0.17 and 0.06999999999999999 done\n",
      "It took: 39.595543384552 seconds.\n",
      "[0.5208116077599988, 0.47511217521399884]\n"
     ]
    },
    {
     "name": "stderr",
     "output_type": "stream",
     "text": [
      "Initial filtering of formulas: 100%|█████████████| 2/2 [00:00<00:00, 131.39it/s]\n",
      "Computing chunks: 100%|████████████████████████| 2/2 [00:00<00:00, 77672.30it/s]\n",
      "Splitting the experimental spectrum into chunks: 55902it [00:00, 2816456.24it/s]\n",
      "Deconvolving chunks: 100%|████████████████████████| 1/1 [00:40<00:00, 40.36s/it]\n"
     ]
    },
    {
     "name": "stdout",
     "output_type": "stream",
     "text": [
      "Estimation for 0.17 and 0.08 done\n",
      "It took: 40.43529534339905 seconds.\n",
      "[0.5206135564509988, 0.47516428337499883]\n"
     ]
    },
    {
     "name": "stderr",
     "output_type": "stream",
     "text": [
      "Initial filtering of formulas: 100%|█████████████| 2/2 [00:00<00:00, 137.49it/s]\n",
      "Computing chunks: 100%|████████████████████████| 2/2 [00:00<00:00, 93206.76it/s]\n",
      "Splitting the experimental spectrum into chunks: 55902it [00:00, 2917018.94it/s]\n",
      "Deconvolving chunks: 100%|████████████████████████| 1/1 [00:41<00:00, 41.84s/it]\n"
     ]
    },
    {
     "name": "stdout",
     "output_type": "stream",
     "text": [
      "Estimation for 0.17 and 0.09 done\n",
      "It took: 41.91034412384033 seconds.\n",
      "[0.5204421673739987, 0.4752268048569988]\n"
     ]
    },
    {
     "name": "stderr",
     "output_type": "stream",
     "text": [
      "Initial filtering of formulas: 100%|█████████████| 2/2 [00:00<00:00, 142.99it/s]\n",
      "Computing chunks: 100%|████████████████████████| 2/2 [00:00<00:00, 93206.76it/s]\n",
      "Splitting the experimental spectrum into chunks: 55902it [00:00, 2987221.24it/s]\n",
      "Deconvolving chunks: 100%|████████████████████████| 1/1 [00:38<00:00, 38.77s/it]\n"
     ]
    },
    {
     "name": "stdout",
     "output_type": "stream",
     "text": [
      "Estimation for 0.17 and 0.09999999999999999 done\n",
      "It took: 38.84089541435242 seconds.\n",
      "[0.5203442412699988, 0.4752337488269988]\n"
     ]
    },
    {
     "name": "stderr",
     "output_type": "stream",
     "text": [
      "Initial filtering of formulas: 100%|█████████████| 2/2 [00:00<00:00, 139.94it/s]\n",
      "Computing chunks: 100%|███████████████████████| 2/2 [00:00<00:00, 110376.42it/s]\n",
      "Splitting the experimental spectrum into chunks: 55902it [00:00, 2945380.78it/s]\n",
      "Deconvolving chunks: 100%|████████████████████████| 1/1 [00:36<00:00, 36.83s/it]\n"
     ]
    },
    {
     "name": "stdout",
     "output_type": "stream",
     "text": [
      "Estimation for 0.17 and 0.11 done\n",
      "It took: 36.89907503128052 seconds.\n",
      "[0.5202145500869988, 0.4752385545119988]\n"
     ]
    },
    {
     "name": "stderr",
     "output_type": "stream",
     "text": [
      "Initial filtering of formulas: 100%|█████████████| 2/2 [00:00<00:00, 135.91it/s]\n",
      "Computing chunks: 100%|████████████████████████| 2/2 [00:00<00:00, 81442.80it/s]\n",
      "Splitting the experimental spectrum into chunks: 55902it [00:00, 2948492.02it/s]\n",
      "Deconvolving chunks: 100%|████████████████████████| 1/1 [00:49<00:00, 49.74s/it]\n"
     ]
    },
    {
     "name": "stdout",
     "output_type": "stream",
     "text": [
      "Estimation for 0.17 and 0.12 done\n",
      "It took: 49.813634157180786 seconds.\n",
      "[0.5197708264479988, 0.4753634638709988]\n"
     ]
    },
    {
     "name": "stderr",
     "output_type": "stream",
     "text": [
      "Initial filtering of formulas: 100%|█████████████| 2/2 [00:00<00:00, 130.09it/s]\n",
      "Computing chunks: 100%|████████████████████████| 2/2 [00:00<00:00, 64527.75it/s]\n",
      "Splitting the experimental spectrum into chunks: 55902it [00:00, 2620596.19it/s]\n",
      "Deconvolving chunks: 100%|████████████████████████| 1/1 [00:55<00:00, 55.63s/it]\n"
     ]
    },
    {
     "name": "stdout",
     "output_type": "stream",
     "text": [
      "Estimation for 0.17 and 0.13 done\n",
      "It took: 55.7129430770874 seconds.\n",
      "[0.5192574827899987, 0.4755259279119988]\n"
     ]
    },
    {
     "name": "stderr",
     "output_type": "stream",
     "text": [
      "Initial filtering of formulas: 100%|█████████████| 2/2 [00:00<00:00, 121.28it/s]\n",
      "Computing chunks: 100%|████████████████████████| 2/2 [00:00<00:00, 65536.00it/s]\n",
      "Splitting the experimental spectrum into chunks: 55902it [00:00, 2848309.41it/s]\n",
      "Deconvolving chunks: 100%|████████████████████████| 1/1 [00:39<00:00, 39.93s/it]\n"
     ]
    },
    {
     "name": "stdout",
     "output_type": "stream",
     "text": [
      "Estimation for 0.17 and 0.14 done\n",
      "It took: 40.00930714607239 seconds.\n",
      "[0.5190474038759988, 0.47562686185299885]\n"
     ]
    },
    {
     "name": "stderr",
     "output_type": "stream",
     "text": [
      "Initial filtering of formulas: 100%|█████████████| 2/2 [00:00<00:00, 130.35it/s]\n",
      "Computing chunks: 100%|████████████████████████| 2/2 [00:00<00:00, 82241.25it/s]\n",
      "Splitting the experimental spectrum into chunks: 55902it [00:00, 2863580.63it/s]\n",
      "Deconvolving chunks: 100%|████████████████████████| 1/1 [00:36<00:00, 36.82s/it]\n"
     ]
    },
    {
     "name": "stdout",
     "output_type": "stream",
     "text": [
      "Estimation for 0.17 and 0.15000000000000002 done\n",
      "It took: 36.90169715881348 seconds.\n",
      "[0.5188511360859988, 0.4756657111959988]\n"
     ]
    },
    {
     "name": "stderr",
     "output_type": "stream",
     "text": [
      "Initial filtering of formulas: 100%|█████████████| 2/2 [00:00<00:00, 130.50it/s]\n",
      "Computing chunks: 100%|████████████████████████| 2/2 [00:00<00:00, 37282.70it/s]\n",
      "Splitting the experimental spectrum into chunks: 55902it [00:00, 2764552.39it/s]\n",
      "Deconvolving chunks: 100%|████████████████████████| 1/1 [00:37<00:00, 37.29s/it]\n"
     ]
    },
    {
     "name": "stdout",
     "output_type": "stream",
     "text": [
      "Estimation for 0.17 and 0.16 done\n",
      "It took: 37.36761975288391 seconds.\n",
      "[0.5187830036709988, 0.47562294948199885]\n"
     ]
    },
    {
     "name": "stderr",
     "output_type": "stream",
     "text": [
      "Initial filtering of formulas: 100%|█████████████| 2/2 [00:00<00:00, 140.72it/s]\n",
      "Computing chunks: 100%|████████████████████████| 2/2 [00:00<00:00, 95325.09it/s]\n",
      "Splitting the experimental spectrum into chunks: 55902it [00:00, 3021170.00it/s]\n",
      "Deconvolving chunks: 100%|████████████████████████| 1/1 [00:36<00:00, 36.53s/it]\n"
     ]
    },
    {
     "name": "stdout",
     "output_type": "stream",
     "text": [
      "Estimation for 0.17 and 0.17 done\n",
      "It took: 36.60250520706177 seconds.\n",
      "[0.5185484304589988, 0.47564696440899884]\n"
     ]
    },
    {
     "name": "stderr",
     "output_type": "stream",
     "text": [
      "Initial filtering of formulas: 100%|█████████████| 2/2 [00:00<00:00, 141.86it/s]\n",
      "Computing chunks: 100%|████████████████████████| 2/2 [00:00<00:00, 98689.51it/s]\n",
      "Splitting the experimental spectrum into chunks: 55902it [00:00, 2941611.66it/s]\n",
      "Deconvolving chunks: 100%|████████████████████████| 1/1 [00:36<00:00, 36.20s/it]\n"
     ]
    },
    {
     "name": "stdout",
     "output_type": "stream",
     "text": [
      "Estimation for 0.17 and 0.18000000000000002 done\n",
      "It took: 36.2686333656311 seconds.\n",
      "[0.5183230300219988, 0.47566209602599885]\n"
     ]
    },
    {
     "name": "stderr",
     "output_type": "stream",
     "text": [
      "Initial filtering of formulas: 100%|█████████████| 2/2 [00:00<00:00, 139.36it/s]\n",
      "Computing chunks: 100%|████████████████████████| 2/2 [00:00<00:00, 74898.29it/s]\n",
      "Splitting the experimental spectrum into chunks: 55902it [00:00, 2844888.04it/s]\n",
      "Deconvolving chunks: 100%|████████████████████████| 1/1 [00:49<00:00, 49.56s/it]\n"
     ]
    },
    {
     "name": "stdout",
     "output_type": "stream",
     "text": [
      "Estimation for 0.17 and 0.19 done\n",
      "It took: 49.63364934921265 seconds.\n",
      "[0.5179815136529988, 0.47581080271099885]\n"
     ]
    },
    {
     "name": "stderr",
     "output_type": "stream",
     "text": [
      "Initial filtering of formulas: 100%|█████████████| 2/2 [00:00<00:00, 109.17it/s]\n",
      "Computing chunks: 100%|████████████████████████| 2/2 [00:00<00:00, 32140.26it/s]\n",
      "Splitting the experimental spectrum into chunks: 55902it [00:00, 2114304.10it/s]\n",
      "Deconvolving chunks: 100%|████████████████████████| 1/1 [00:51<00:00, 51.15s/it]\n"
     ]
    },
    {
     "name": "stdout",
     "output_type": "stream",
     "text": [
      "Estimation for 0.17 and 0.2 done\n",
      "It took: 51.2505567073822 seconds.\n",
      "[0.5178234782509987, 0.47586164339899883]\n"
     ]
    },
    {
     "name": "stderr",
     "output_type": "stream",
     "text": [
      "Initial filtering of formulas: 100%|█████████████| 2/2 [00:00<00:00, 143.23it/s]\n",
      "Computing chunks: 100%|████████████████████████| 2/2 [00:00<00:00, 84733.41it/s]\n",
      "Splitting the experimental spectrum into chunks: 55902it [00:00, 2996306.62it/s]\n",
      "Deconvolving chunks: 100%|████████████████████████| 1/1 [00:36<00:00, 36.38s/it]\n"
     ]
    },
    {
     "name": "stdout",
     "output_type": "stream",
     "text": [
      "Estimation for 0.17 and 0.21000000000000002 done\n",
      "It took: 36.44902157783508 seconds.\n",
      "[0.5174908340289988, 0.47601073097799884]\n"
     ]
    },
    {
     "name": "stderr",
     "output_type": "stream",
     "text": [
      "Initial filtering of formulas: 100%|█████████████| 2/2 [00:00<00:00, 139.18it/s]\n",
      "Computing chunks: 100%|████████████████████████| 2/2 [00:00<00:00, 88301.14it/s]\n",
      "Splitting the experimental spectrum into chunks: 55902it [00:00, 3009884.24it/s]\n",
      "Deconvolving chunks: 100%|████████████████████████| 1/1 [00:42<00:00, 42.45s/it]\n"
     ]
    },
    {
     "name": "stdout",
     "output_type": "stream",
     "text": [
      "Estimation for 0.17 and 0.22 done\n",
      "It took: 42.52385687828064 seconds.\n",
      "[0.5169219002309988, 0.47632538469599883]\n"
     ]
    },
    {
     "name": "stderr",
     "output_type": "stream",
     "text": [
      "Initial filtering of formulas: 100%|█████████████| 2/2 [00:00<00:00, 140.12it/s]\n",
      "Computing chunks: 100%|████████████████████████| 2/2 [00:00<00:00, 94254.02it/s]\n",
      "Splitting the experimental spectrum into chunks: 55902it [00:00, 2952724.94it/s]\n",
      "Deconvolving chunks: 100%|████████████████████████| 1/1 [00:38<00:00, 38.83s/it]\n"
     ]
    },
    {
     "name": "stdout",
     "output_type": "stream",
     "text": [
      "Estimation for 0.17 and 0.23 done\n",
      "It took: 38.8955135345459 seconds.\n",
      "[0.5161778070549988, 0.47670371099399883]\n"
     ]
    },
    {
     "name": "stderr",
     "output_type": "stream",
     "text": [
      "Initial filtering of formulas: 100%|█████████████| 2/2 [00:00<00:00, 138.69it/s]\n",
      "Computing chunks: 100%|███████████████████████| 2/2 [00:00<00:00, 104857.60it/s]\n",
      "Splitting the experimental spectrum into chunks: 55902it [00:00, 2981675.07it/s]\n",
      "Deconvolving chunks: 100%|████████████████████████| 1/1 [00:43<00:00, 43.50s/it]\n"
     ]
    },
    {
     "name": "stdout",
     "output_type": "stream",
     "text": [
      "Estimation for 0.17 and 0.24000000000000002 done\n",
      "It took: 43.57100582122803 seconds.\n",
      "[0.5153552845999988, 0.4771082263709988]\n"
     ]
    },
    {
     "name": "stderr",
     "output_type": "stream",
     "text": [
      "Initial filtering of formulas: 100%|██████████████| 2/2 [00:00<00:00, 89.97it/s]\n",
      "Computing chunks: 100%|████████████████████████| 2/2 [00:00<00:00, 42153.81it/s]\n",
      "Splitting the experimental spectrum into chunks: 55902it [00:00, 2383018.76it/s]\n",
      "Deconvolving chunks: 100%|████████████████████████| 1/1 [00:52<00:00, 52.92s/it]\n"
     ]
    },
    {
     "name": "stdout",
     "output_type": "stream",
     "text": [
      "Estimation for 0.17 and 0.25 done\n",
      "It took: 53.02088379859924 seconds.\n",
      "[0.5148286934729988, 0.4773298817039988]\n"
     ]
    },
    {
     "name": "stderr",
     "output_type": "stream",
     "text": [
      "Initial filtering of formulas: 100%|█████████████| 2/2 [00:00<00:00, 126.02it/s]\n",
      "Computing chunks: 100%|████████████████████████| 2/2 [00:00<00:00, 30954.27it/s]\n",
      "Splitting the experimental spectrum into chunks: 55902it [00:00, 2571055.55it/s]\n",
      "Deconvolving chunks: 100%|████████████████████████| 1/1 [00:41<00:00, 41.10s/it]\n"
     ]
    },
    {
     "name": "stdout",
     "output_type": "stream",
     "text": [
      "Estimation for 0.17 and 0.26 done\n",
      "It took: 41.18768811225891 seconds.\n",
      "[0.5145646578409988, 0.47739079288599884]\n"
     ]
    },
    {
     "name": "stderr",
     "output_type": "stream",
     "text": [
      "Initial filtering of formulas: 100%|█████████████| 2/2 [00:00<00:00, 133.21it/s]\n",
      "Computing chunks: 100%|████████████████████████| 2/2 [00:00<00:00, 79137.81it/s]\n",
      "Splitting the experimental spectrum into chunks: 55902it [00:00, 2824259.00it/s]\n",
      "Deconvolving chunks: 100%|████████████████████████| 1/1 [00:44<00:00, 44.16s/it]\n"
     ]
    },
    {
     "name": "stdout",
     "output_type": "stream",
     "text": [
      "Estimation for 0.17 and 0.27 done\n",
      "It took: 44.23526191711426 seconds.\n",
      "[0.5143005494459988, 0.47743509799899886]\n"
     ]
    },
    {
     "name": "stderr",
     "output_type": "stream",
     "text": [
      "Initial filtering of formulas: 100%|█████████████| 2/2 [00:00<00:00, 142.32it/s]\n",
      "Computing chunks: 100%|████████████████████████| 2/2 [00:00<00:00, 69327.34it/s]\n",
      "Splitting the experimental spectrum into chunks: 55902it [00:00, 2985281.53it/s]\n",
      "Deconvolving chunks: 100%|████████████████████████| 1/1 [00:46<00:00, 46.94s/it]\n"
     ]
    },
    {
     "name": "stdout",
     "output_type": "stream",
     "text": [
      "Estimation for 0.17 and 0.28 done\n",
      "It took: 47.01043248176575 seconds.\n",
      "[0.5139697024149987, 0.4774957767199988]\n"
     ]
    },
    {
     "name": "stderr",
     "output_type": "stream",
     "text": [
      "Initial filtering of formulas: 100%|█████████████| 2/2 [00:00<00:00, 144.96it/s]\n",
      "Computing chunks: 100%|████████████████████████| 2/2 [00:00<00:00, 93206.76it/s]\n",
      "Splitting the experimental spectrum into chunks: 55902it [00:00, 2997072.62it/s]\n",
      "Deconvolving chunks: 100%|████████████████████████| 1/1 [00:37<00:00, 37.26s/it]\n"
     ]
    },
    {
     "name": "stdout",
     "output_type": "stream",
     "text": [
      "Estimation for 0.17 and 0.29000000000000004 done\n",
      "It took: 37.328852891922 seconds.\n",
      "[0.5138934320659988, 0.47745139110799883]\n"
     ]
    },
    {
     "name": "stderr",
     "output_type": "stream",
     "text": [
      "Initial filtering of formulas: 100%|█████████████| 2/2 [00:00<00:00, 142.70it/s]\n",
      "Computing chunks: 100%|████████████████████████| 2/2 [00:00<00:00, 74898.29it/s]\n",
      "Splitting the experimental spectrum into chunks: 55902it [00:00, 3093189.92it/s]\n",
      "Deconvolving chunks: 100%|████████████████████████| 1/1 [00:34<00:00, 34.69s/it]\n"
     ]
    },
    {
     "name": "stdout",
     "output_type": "stream",
     "text": [
      "Estimation for 0.17 and 0.3 done\n",
      "It took: 34.758734941482544 seconds.\n",
      "[0.5139809225199988, 0.47718052932599886]\n"
     ]
    },
    {
     "name": "stderr",
     "output_type": "stream",
     "text": [
      "Initial filtering of formulas: 100%|█████████████| 2/2 [00:00<00:00, 143.74it/s]\n",
      "Computing chunks: 100%|████████████████████████| 2/2 [00:00<00:00, 46603.38it/s]\n",
      "Splitting the experimental spectrum into chunks: 55902it [00:00, 2852502.28it/s]\n",
      "Deconvolving chunks: 100%|████████████████████████| 1/1 [00:56<00:00, 56.88s/it]\n"
     ]
    },
    {
     "name": "stdout",
     "output_type": "stream",
     "text": [
      "Estimation for 0.18000000000000002 and 0.01 done\n",
      "It took: 56.95388436317444 seconds.\n",
      "[0.5127249201219988, 0.48590270175199884]\n"
     ]
    },
    {
     "name": "stderr",
     "output_type": "stream",
     "text": [
      "Initial filtering of formulas: 100%|█████████████| 2/2 [00:00<00:00, 124.26it/s]\n",
      "Computing chunks: 100%|████████████████████████| 2/2 [00:00<00:00, 68200.07it/s]\n",
      "Splitting the experimental spectrum into chunks: 55902it [00:00, 2447341.32it/s]\n",
      "Deconvolving chunks: 100%|████████████████████████| 1/1 [00:53<00:00, 53.12s/it]\n"
     ]
    },
    {
     "name": "stdout",
     "output_type": "stream",
     "text": [
      "Estimation for 0.18000000000000002 and 0.02 done\n",
      "It took: 53.21719288825989 seconds.\n",
      "[0.5168414389959988, 0.4811670596059988]\n"
     ]
    },
    {
     "name": "stderr",
     "output_type": "stream",
     "text": [
      "Initial filtering of formulas: 100%|█████████████| 2/2 [00:00<00:00, 133.50it/s]\n",
      "Computing chunks: 100%|████████████████████████| 2/2 [00:00<00:00, 35246.25it/s]\n",
      "Splitting the experimental spectrum into chunks: 55902it [00:00, 2677117.50it/s]\n",
      "Deconvolving chunks: 100%|████████████████████████| 1/1 [00:42<00:00, 42.63s/it]\n"
     ]
    },
    {
     "name": "stdout",
     "output_type": "stream",
     "text": [
      "Estimation for 0.18000000000000002 and 0.03 done\n",
      "It took: 42.70891213417053 seconds.\n",
      "[0.5198534104949988, 0.47723558116899883]\n"
     ]
    },
    {
     "name": "stderr",
     "output_type": "stream",
     "text": [
      "Initial filtering of formulas: 100%|█████████████| 2/2 [00:00<00:00, 142.50it/s]\n",
      "Computing chunks: 100%|████████████████████████| 2/2 [00:00<00:00, 81442.80it/s]\n",
      "Splitting the experimental spectrum into chunks: 55902it [00:00, 2982964.80it/s]\n",
      "Deconvolving chunks: 100%|████████████████████████| 1/1 [00:37<00:00, 37.84s/it]\n"
     ]
    },
    {
     "name": "stdout",
     "output_type": "stream",
     "text": [
      "Estimation for 0.18000000000000002 and 0.04 done\n",
      "It took: 37.91761541366577 seconds.\n",
      "[0.5215483106759988, 0.47505690592499883]\n"
     ]
    },
    {
     "name": "stderr",
     "output_type": "stream",
     "text": [
      "Initial filtering of formulas: 100%|█████████████| 2/2 [00:00<00:00, 140.15it/s]\n",
      "Computing chunks: 100%|████████████████████████| 2/2 [00:00<00:00, 52758.54it/s]\n",
      "Splitting the experimental spectrum into chunks: 55902it [00:00, 2711826.96it/s]\n",
      "Deconvolving chunks: 100%|████████████████████████| 1/1 [00:40<00:00, 40.81s/it]\n"
     ]
    },
    {
     "name": "stdout",
     "output_type": "stream",
     "text": [
      "Estimation for 0.18000000000000002 and 0.05 done\n",
      "It took: 40.879435300827026 seconds.\n",
      "[0.5213788508129987, 0.4748671699179988]\n"
     ]
    },
    {
     "name": "stderr",
     "output_type": "stream",
     "text": [
      "Initial filtering of formulas: 100%|█████████████| 2/2 [00:00<00:00, 143.11it/s]\n",
      "Computing chunks: 100%|███████████████████████| 2/2 [00:00<00:00, 101067.57it/s]\n",
      "Splitting the experimental spectrum into chunks: 55902it [00:00, 2962836.37it/s]\n",
      "Deconvolving chunks: 100%|████████████████████████| 1/1 [00:37<00:00, 37.58s/it]\n"
     ]
    },
    {
     "name": "stdout",
     "output_type": "stream",
     "text": [
      "Estimation for 0.18000000000000002 and 0.060000000000000005 done\n",
      "It took: 37.65145802497864 seconds.\n",
      "[0.5211951682279988, 0.4749402203429988]\n"
     ]
    },
    {
     "name": "stderr",
     "output_type": "stream",
     "text": [
      "Initial filtering of formulas: 100%|█████████████| 2/2 [00:00<00:00, 138.82it/s]\n",
      "Computing chunks: 100%|████████████████████████| 2/2 [00:00<00:00, 72315.59it/s]\n",
      "Splitting the experimental spectrum into chunks: 55902it [00:00, 2881528.60it/s]\n",
      "Deconvolving chunks: 100%|████████████████████████| 1/1 [00:48<00:00, 48.57s/it]\n"
     ]
    },
    {
     "name": "stdout",
     "output_type": "stream",
     "text": [
      "Estimation for 0.18000000000000002 and 0.06999999999999999 done\n",
      "It took: 48.64961338043213 seconds.\n",
      "[0.5211381765839987, 0.47494974965099884]\n"
     ]
    },
    {
     "name": "stderr",
     "output_type": "stream",
     "text": [
      "Initial filtering of formulas: 100%|█████████████| 2/2 [00:00<00:00, 125.66it/s]\n",
      "Computing chunks: 100%|████████████████████████| 2/2 [00:00<00:00, 37957.50it/s]\n",
      "Splitting the experimental spectrum into chunks: 55902it [00:00, 2604701.08it/s]\n",
      "Deconvolving chunks: 100%|████████████████████████| 1/1 [00:48<00:00, 48.25s/it]\n"
     ]
    },
    {
     "name": "stdout",
     "output_type": "stream",
     "text": [
      "Estimation for 0.18000000000000002 and 0.08 done\n",
      "It took: 48.339632749557495 seconds.\n",
      "[0.5210009859829988, 0.4749632499079988]\n"
     ]
    },
    {
     "name": "stderr",
     "output_type": "stream",
     "text": [
      "Initial filtering of formulas: 100%|█████████████| 2/2 [00:00<00:00, 131.07it/s]\n",
      "Computing chunks: 100%|████████████████████████| 2/2 [00:00<00:00, 84733.41it/s]\n",
      "Splitting the experimental spectrum into chunks: 55902it [00:00, 2782233.93it/s]\n",
      "Deconvolving chunks: 100%|████████████████████████| 1/1 [00:41<00:00, 41.17s/it]\n"
     ]
    },
    {
     "name": "stdout",
     "output_type": "stream",
     "text": [
      "Estimation for 0.18000000000000002 and 0.09 done\n",
      "It took: 41.247004985809326 seconds.\n",
      "[0.5210305919819987, 0.47490443064599885]\n"
     ]
    },
    {
     "name": "stderr",
     "output_type": "stream",
     "text": [
      "Initial filtering of formulas: 100%|█████████████| 2/2 [00:00<00:00, 121.10it/s]\n",
      "Computing chunks: 100%|████████████████████████| 2/2 [00:00<00:00, 65027.97it/s]\n",
      "Splitting the experimental spectrum into chunks: 55902it [00:00, 2781606.80it/s]\n",
      "Deconvolving chunks: 100%|████████████████████████| 1/1 [00:40<00:00, 40.41s/it]\n"
     ]
    },
    {
     "name": "stdout",
     "output_type": "stream",
     "text": [
      "Estimation for 0.18000000000000002 and 0.09999999999999999 done\n",
      "It took: 40.48512005805969 seconds.\n",
      "[0.5208039422069988, 0.4749790154379988]\n"
     ]
    },
    {
     "name": "stderr",
     "output_type": "stream",
     "text": [
      "Initial filtering of formulas: 100%|█████████████| 2/2 [00:00<00:00, 132.39it/s]\n",
      "Computing chunks: 100%|████████████████████████| 2/2 [00:00<00:00, 69327.34it/s]\n",
      "Splitting the experimental spectrum into chunks: 55902it [00:00, 2886672.60it/s]\n",
      "Deconvolving chunks: 100%|████████████████████████| 1/1 [00:38<00:00, 38.09s/it]\n"
     ]
    },
    {
     "name": "stdout",
     "output_type": "stream",
     "text": [
      "Estimation for 0.18000000000000002 and 0.11 done\n",
      "It took: 38.168880224227905 seconds.\n",
      "[0.5206485614779988, 0.4750491637759988]\n"
     ]
    },
    {
     "name": "stderr",
     "output_type": "stream",
     "text": [
      "Initial filtering of formulas: 100%|█████████████| 2/2 [00:00<00:00, 141.91it/s]\n",
      "Computing chunks: 100%|████████████████████████| 2/2 [00:00<00:00, 67108.86it/s]\n",
      "Splitting the experimental spectrum into chunks: 55902it [00:00, 2989735.19it/s]\n",
      "Deconvolving chunks: 100%|████████████████████████| 1/1 [00:36<00:00, 36.67s/it]\n"
     ]
    },
    {
     "name": "stdout",
     "output_type": "stream",
     "text": [
      "Estimation for 0.18000000000000002 and 0.12 done\n",
      "It took: 36.73655581474304 seconds.\n",
      "[0.5205103572679988, 0.4750920835449988]\n"
     ]
    },
    {
     "name": "stderr",
     "output_type": "stream",
     "text": [
      "Initial filtering of formulas: 100%|█████████████| 2/2 [00:00<00:00, 132.80it/s]\n",
      "Computing chunks: 100%|████████████████████████| 2/2 [00:00<00:00, 66576.25it/s]\n",
      "Splitting the experimental spectrum into chunks: 55902it [00:00, 2920215.99it/s]\n",
      "Deconvolving chunks: 100%|████████████████████████| 1/1 [00:35<00:00, 35.44s/it]\n"
     ]
    },
    {
     "name": "stdout",
     "output_type": "stream",
     "text": [
      "Estimation for 0.18000000000000002 and 0.13 done\n",
      "It took: 35.51140475273132 seconds.\n",
      "[0.5203756405769988, 0.4751347797539988]\n"
     ]
    },
    {
     "name": "stderr",
     "output_type": "stream",
     "text": [
      "Initial filtering of formulas: 100%|█████████████| 2/2 [00:00<00:00, 146.07it/s]\n",
      "Computing chunks: 100%|███████████████████████| 2/2 [00:00<00:00, 102300.10it/s]\n",
      "Splitting the experimental spectrum into chunks: 55902it [00:00, 3007876.41it/s]\n",
      "Deconvolving chunks: 100%|████████████████████████| 1/1 [00:45<00:00, 45.51s/it]\n"
     ]
    },
    {
     "name": "stdout",
     "output_type": "stream",
     "text": [
      "Estimation for 0.18000000000000002 and 0.14 done\n",
      "It took: 45.58347725868225 seconds.\n",
      "[0.5198698748499988, 0.47533102328199883]\n"
     ]
    },
    {
     "name": "stderr",
     "output_type": "stream",
     "text": [
      "Initial filtering of formulas: 100%|█████████████| 2/2 [00:00<00:00, 121.87it/s]\n",
      "Computing chunks: 100%|████████████████████████| 2/2 [00:00<00:00, 50840.05it/s]\n",
      "Splitting the experimental spectrum into chunks: 55902it [00:00, 2326114.17it/s]\n",
      "Deconvolving chunks: 100%|████████████████████████| 1/1 [00:46<00:00, 46.23s/it]\n"
     ]
    },
    {
     "name": "stdout",
     "output_type": "stream",
     "text": [
      "Estimation for 0.18000000000000002 and 0.15000000000000002 done\n",
      "It took: 46.32082438468933 seconds.\n",
      "[0.5193838832049987, 0.4755338072629988]\n"
     ]
    },
    {
     "name": "stderr",
     "output_type": "stream",
     "text": [
      "Initial filtering of formulas: 100%|█████████████| 2/2 [00:00<00:00, 131.05it/s]\n",
      "Computing chunks: 100%|████████████████████████| 2/2 [00:00<00:00, 75573.05it/s]\n",
      "Splitting the experimental spectrum into chunks: 55902it [00:00, 2923748.14it/s]\n",
      "Deconvolving chunks: 100%|████████████████████████| 1/1 [00:38<00:00, 38.77s/it]\n"
     ]
    },
    {
     "name": "stdout",
     "output_type": "stream",
     "text": [
      "Estimation for 0.18000000000000002 and 0.16 done\n",
      "It took: 38.8471577167511 seconds.\n",
      "[0.5191621425019988, 0.47561103442099883]\n"
     ]
    },
    {
     "name": "stderr",
     "output_type": "stream",
     "text": [
      "Initial filtering of formulas: 100%|█████████████| 2/2 [00:00<00:00, 139.52it/s]\n",
      "Computing chunks: 100%|████████████████████████| 2/2 [00:00<00:00, 57456.22it/s]\n",
      "Splitting the experimental spectrum into chunks: 55902it [00:00, 2811559.23it/s]\n",
      "Deconvolving chunks: 100%|████████████████████████| 1/1 [00:39<00:00, 39.92s/it]\n"
     ]
    },
    {
     "name": "stdout",
     "output_type": "stream",
     "text": [
      "Estimation for 0.18000000000000002 and 0.17 done\n",
      "It took: 39.99234652519226 seconds.\n",
      "[0.5189809863729988, 0.47560768688099886]\n"
     ]
    },
    {
     "name": "stderr",
     "output_type": "stream",
     "text": [
      "Initial filtering of formulas: 100%|█████████████| 2/2 [00:00<00:00, 139.76it/s]\n",
      "Computing chunks: 100%|████████████████████████| 2/2 [00:00<00:00, 83886.08it/s]\n",
      "Splitting the experimental spectrum into chunks: 55902it [00:00, 3027841.40it/s]\n",
      "Deconvolving chunks: 100%|████████████████████████| 1/1 [00:36<00:00, 36.71s/it]\n"
     ]
    },
    {
     "name": "stdout",
     "output_type": "stream",
     "text": [
      "Estimation for 0.18000000000000002 and 0.18000000000000002 done\n",
      "It took: 36.77860713005066 seconds.\n",
      "[0.5188921390669988, 0.47554398905199885]\n"
     ]
    },
    {
     "name": "stderr",
     "output_type": "stream",
     "text": [
      "Initial filtering of formulas: 100%|█████████████| 2/2 [00:00<00:00, 144.25it/s]\n",
      "Computing chunks: 100%|████████████████████████| 2/2 [00:00<00:00, 72944.42it/s]\n",
      "Splitting the experimental spectrum into chunks: 55902it [00:00, 3038553.52it/s]\n",
      "Deconvolving chunks: 100%|████████████████████████| 1/1 [00:36<00:00, 36.85s/it]\n"
     ]
    },
    {
     "name": "stdout",
     "output_type": "stream",
     "text": [
      "Estimation for 0.18000000000000002 and 0.19 done\n",
      "It took: 36.923301219940186 seconds.\n",
      "[0.5186768647499987, 0.47552412136399885]\n"
     ]
    },
    {
     "name": "stderr",
     "output_type": "stream",
     "text": [
      "Initial filtering of formulas: 100%|█████████████| 2/2 [00:00<00:00, 139.26it/s]\n",
      "Computing chunks: 100%|████████████████████████| 2/2 [00:00<00:00, 51463.85it/s]\n",
      "Splitting the experimental spectrum into chunks: 55902it [00:00, 2703509.62it/s]\n",
      "Deconvolving chunks: 100%|████████████████████████| 1/1 [00:35<00:00, 35.76s/it]\n"
     ]
    },
    {
     "name": "stdout",
     "output_type": "stream",
     "text": [
      "Estimation for 0.18000000000000002 and 0.2 done\n",
      "It took: 35.8362500667572 seconds.\n",
      "[0.5184036739659987, 0.47560044902399884]\n"
     ]
    },
    {
     "name": "stderr",
     "output_type": "stream",
     "text": [
      "Initial filtering of formulas: 100%|█████████████| 2/2 [00:00<00:00, 137.98it/s]\n",
      "Computing chunks: 100%|████████████████████████| 2/2 [00:00<00:00, 97541.95it/s]\n",
      "Splitting the experimental spectrum into chunks: 55902it [00:00, 2980765.34it/s]\n",
      "Deconvolving chunks: 100%|████████████████████████| 1/1 [00:45<00:00, 45.99s/it]\n"
     ]
    },
    {
     "name": "stdout",
     "output_type": "stream",
     "text": [
      "Estimation for 0.18000000000000002 and 0.21000000000000002 done\n",
      "It took: 46.06253457069397 seconds.\n",
      "[0.5180812422439988, 0.4757829042769988]\n"
     ]
    },
    {
     "name": "stderr",
     "output_type": "stream",
     "text": [
      "Initial filtering of formulas: 100%|█████████████| 2/2 [00:00<00:00, 128.31it/s]\n",
      "Computing chunks: 100%|████████████████████████| 2/2 [00:00<00:00, 62137.84it/s]\n",
      "Splitting the experimental spectrum into chunks: 55902it [00:00, 2553694.15it/s]\n",
      "Deconvolving chunks: 100%|████████████████████████| 1/1 [00:45<00:00, 45.58s/it]\n"
     ]
    },
    {
     "name": "stdout",
     "output_type": "stream",
     "text": [
      "Estimation for 0.18000000000000002 and 0.22 done\n",
      "It took: 45.66994905471802 seconds.\n",
      "[0.5179137363199988, 0.4758458957189988]\n"
     ]
    },
    {
     "name": "stderr",
     "output_type": "stream",
     "text": [
      "Initial filtering of formulas: 100%|█████████████| 2/2 [00:00<00:00, 129.55it/s]\n",
      "Computing chunks: 100%|████████████████████████| 2/2 [00:00<00:00, 94254.02it/s]\n",
      "Splitting the experimental spectrum into chunks: 55902it [00:00, 2771938.74it/s]\n",
      "Deconvolving chunks: 100%|████████████████████████| 1/1 [00:46<00:00, 46.48s/it]\n"
     ]
    },
    {
     "name": "stdout",
     "output_type": "stream",
     "text": [
      "Estimation for 0.18000000000000002 and 0.23 done\n",
      "It took: 46.556283950805664 seconds.\n",
      "[0.5176409634149988, 0.47596260874799884]\n"
     ]
    },
    {
     "name": "stderr",
     "output_type": "stream",
     "text": [
      "Initial filtering of formulas: 100%|█████████████| 2/2 [00:00<00:00, 135.10it/s]\n",
      "Computing chunks: 100%|████████████████████████| 2/2 [00:00<00:00, 83886.08it/s]\n",
      "Splitting the experimental spectrum into chunks: 55902it [00:00, 2882485.06it/s]\n",
      "Deconvolving chunks: 100%|████████████████████████| 1/1 [00:44<00:00, 44.56s/it]\n"
     ]
    },
    {
     "name": "stdout",
     "output_type": "stream",
     "text": [
      "Estimation for 0.18000000000000002 and 0.24000000000000002 done\n",
      "It took: 44.63480305671692 seconds.\n",
      "[0.5170592898679988, 0.47624563526999886]\n"
     ]
    },
    {
     "name": "stderr",
     "output_type": "stream",
     "text": [
      "Initial filtering of formulas: 100%|█████████████| 2/2 [00:00<00:00, 133.44it/s]\n",
      "Computing chunks: 100%|████████████████████████| 2/2 [00:00<00:00, 37786.52it/s]\n",
      "Splitting the experimental spectrum into chunks: 55902it [00:00, 2881245.33it/s]\n",
      "Deconvolving chunks: 100%|████████████████████████| 1/1 [00:39<00:00, 39.43s/it]\n"
     ]
    },
    {
     "name": "stdout",
     "output_type": "stream",
     "text": [
      "Estimation for 0.18000000000000002 and 0.25 done\n",
      "It took: 39.5108277797699 seconds.\n",
      "[0.5161912778969988, 0.47670468505599883]\n"
     ]
    },
    {
     "name": "stderr",
     "output_type": "stream",
     "text": [
      "Initial filtering of formulas: 100%|█████████████| 2/2 [00:00<00:00, 142.42it/s]\n",
      "Computing chunks: 100%|████████████████████████| 2/2 [00:00<00:00, 54827.50it/s]\n",
      "Splitting the experimental spectrum into chunks: 55902it [00:00, 2985813.75it/s]\n",
      "Deconvolving chunks: 100%|████████████████████████| 1/1 [00:41<00:00, 41.29s/it]\n"
     ]
    },
    {
     "name": "stdout",
     "output_type": "stream",
     "text": [
      "Estimation for 0.18000000000000002 and 0.26 done\n",
      "It took: 41.357401609420776 seconds.\n",
      "[0.5153996079399987, 0.47709142950999883]\n"
     ]
    },
    {
     "name": "stderr",
     "output_type": "stream",
     "text": [
      "Initial filtering of formulas: 100%|█████████████| 2/2 [00:00<00:00, 141.92it/s]\n",
      "Computing chunks: 100%|████████████████████████| 2/2 [00:00<00:00, 96420.78it/s]\n",
      "Splitting the experimental spectrum into chunks: 55902it [00:00, 2967223.26it/s]\n",
      "Deconvolving chunks: 100%|████████████████████████| 1/1 [00:43<00:00, 43.78s/it]\n"
     ]
    },
    {
     "name": "stdout",
     "output_type": "stream",
     "text": [
      "Estimation for 0.18000000000000002 and 0.27 done\n",
      "It took: 43.84975004196167 seconds.\n",
      "[0.5150058149139988, 0.4772086568669988]\n"
     ]
    },
    {
     "name": "stderr",
     "output_type": "stream",
     "text": [
      "Initial filtering of formulas: 100%|█████████████| 2/2 [00:00<00:00, 129.65it/s]\n",
      "Computing chunks: 100%|████████████████████████| 2/2 [00:00<00:00, 82241.25it/s]\n",
      "Splitting the experimental spectrum into chunks: 55902it [00:00, 2493300.53it/s]\n",
      "Deconvolving chunks: 100%|████████████████████████| 1/1 [00:47<00:00, 47.46s/it]\n"
     ]
    },
    {
     "name": "stdout",
     "output_type": "stream",
     "text": [
      "Estimation for 0.18000000000000002 and 0.28 done\n",
      "It took: 47.547186851501465 seconds.\n",
      "[0.5147397912199988, 0.47725286020099883]\n"
     ]
    },
    {
     "name": "stderr",
     "output_type": "stream",
     "text": [
      "Initial filtering of formulas: 100%|█████████████| 2/2 [00:00<00:00, 130.00it/s]\n",
      "Computing chunks: 100%|████████████████████████| 2/2 [00:00<00:00, 65536.00it/s]\n",
      "Splitting the experimental spectrum into chunks: 55902it [00:00, 2590714.03it/s]\n",
      "Deconvolving chunks: 100%|████████████████████████| 1/1 [00:50<00:00, 50.44s/it]\n"
     ]
    },
    {
     "name": "stdout",
     "output_type": "stream",
     "text": [
      "Estimation for 0.18000000000000002 and 0.29000000000000004 done\n",
      "It took: 50.5265998840332 seconds.\n",
      "[0.5145925117289988, 0.47719479235699885]\n"
     ]
    },
    {
     "name": "stderr",
     "output_type": "stream",
     "text": [
      "Initial filtering of formulas: 100%|█████████████| 2/2 [00:00<00:00, 130.99it/s]\n",
      "Computing chunks: 100%|████████████████████████| 2/2 [00:00<00:00, 30393.51it/s]\n",
      "Splitting the experimental spectrum into chunks: 55902it [00:00, 2669983.97it/s]\n",
      "Deconvolving chunks: 100%|████████████████████████| 1/1 [00:38<00:00, 38.50s/it]\n"
     ]
    },
    {
     "name": "stdout",
     "output_type": "stream",
     "text": [
      "Estimation for 0.18000000000000002 and 0.3 done\n",
      "It took: 38.57821607589722 seconds.\n",
      "[0.5145687729119988, 0.47702591657599885]\n"
     ]
    },
    {
     "name": "stderr",
     "output_type": "stream",
     "text": [
      "Initial filtering of formulas: 100%|█████████████| 2/2 [00:00<00:00, 141.24it/s]\n",
      "Computing chunks: 100%|████████████████████████| 2/2 [00:00<00:00, 60349.70it/s]\n",
      "Splitting the experimental spectrum into chunks: 55902it [00:00, 2955628.16it/s]\n",
      "Deconvolving chunks: 100%|████████████████████████| 1/1 [00:41<00:00, 41.11s/it]\n"
     ]
    },
    {
     "name": "stdout",
     "output_type": "stream",
     "text": [
      "Estimation for 0.19 and 0.01 done\n",
      "It took: 41.180535316467285 seconds.\n",
      "[0.5127733927219987, 0.48594468106899885]\n"
     ]
    },
    {
     "name": "stderr",
     "output_type": "stream",
     "text": [
      "Initial filtering of formulas: 100%|█████████████| 2/2 [00:00<00:00, 138.88it/s]\n",
      "Computing chunks: 100%|████████████████████████| 2/2 [00:00<00:00, 82241.25it/s]\n",
      "Splitting the experimental spectrum into chunks: 55902it [00:00, 3000332.47it/s]\n",
      "Deconvolving chunks: 100%|████████████████████████| 1/1 [00:37<00:00, 37.66s/it]\n"
     ]
    },
    {
     "name": "stdout",
     "output_type": "stream",
     "text": [
      "Estimation for 0.19 and 0.02 done\n",
      "It took: 37.735976696014404 seconds.\n",
      "[0.5171960406269988, 0.48098775371799884]\n"
     ]
    },
    {
     "name": "stderr",
     "output_type": "stream",
     "text": [
      "Initial filtering of formulas: 100%|█████████████| 2/2 [00:00<00:00, 133.48it/s]\n",
      "Computing chunks: 100%|████████████████████████| 2/2 [00:00<00:00, 43240.25it/s]\n",
      "Splitting the experimental spectrum into chunks: 55902it [00:00, 2634671.80it/s]\n",
      "Deconvolving chunks: 100%|████████████████████████| 1/1 [00:37<00:00, 37.14s/it]\n"
     ]
    },
    {
     "name": "stdout",
     "output_type": "stream",
     "text": [
      "Estimation for 0.19 and 0.03 done\n",
      "It took: 37.222214698791504 seconds.\n",
      "[0.5200300412139988, 0.47749575700999886]\n"
     ]
    },
    {
     "name": "stderr",
     "output_type": "stream",
     "text": [
      "Initial filtering of formulas: 100%|█████████████| 2/2 [00:00<00:00, 142.32it/s]\n",
      "Computing chunks: 100%|████████████████████████| 2/2 [00:00<00:00, 95325.09it/s]\n",
      "Splitting the experimental spectrum into chunks: 55902it [00:00, 2908876.40it/s]\n",
      "Deconvolving chunks: 100%|████████████████████████| 1/1 [00:43<00:00, 43.63s/it]\n"
     ]
    },
    {
     "name": "stdout",
     "output_type": "stream",
     "text": [
      "Estimation for 0.19 and 0.04 done\n",
      "It took: 43.708341121673584 seconds.\n",
      "[0.5217657473869988, 0.47503539004999884]\n"
     ]
    },
    {
     "name": "stderr",
     "output_type": "stream",
     "text": [
      "Initial filtering of formulas: 100%|█████████████| 2/2 [00:00<00:00, 104.95it/s]\n",
      "Computing chunks: 100%|████████████████████████| 2/2 [00:00<00:00, 34807.50it/s]\n",
      "Splitting the experimental spectrum into chunks: 55902it [00:00, 2511380.12it/s]\n",
      "Deconvolving chunks: 100%|████████████████████████| 1/1 [00:59<00:00, 59.20s/it]\n"
     ]
    },
    {
     "name": "stdout",
     "output_type": "stream",
     "text": [
      "Estimation for 0.19 and 0.05 done\n",
      "It took: 59.301645040512085 seconds.\n",
      "[0.5217676172779988, 0.4746642092319988]\n"
     ]
    },
    {
     "name": "stderr",
     "output_type": "stream",
     "text": [
      "Initial filtering of formulas: 100%|█████████████| 2/2 [00:00<00:00, 121.30it/s]\n",
      "Computing chunks: 100%|████████████████████████| 2/2 [00:00<00:00, 77672.30it/s]\n",
      "Splitting the experimental spectrum into chunks: 55902it [00:00, 2276960.25it/s]\n",
      "Deconvolving chunks: 100%|████████████████████████| 1/1 [00:41<00:00, 41.06s/it]\n"
     ]
    },
    {
     "name": "stdout",
     "output_type": "stream",
     "text": [
      "Estimation for 0.19 and 0.060000000000000005 done\n",
      "It took: 41.15151858329773 seconds.\n",
      "[0.5216847597989988, 0.4746930899349988]\n"
     ]
    },
    {
     "name": "stderr",
     "output_type": "stream",
     "text": [
      "Initial filtering of formulas: 100%|█████████████| 2/2 [00:00<00:00, 129.34it/s]\n",
      "Computing chunks: 100%|████████████████████████| 2/2 [00:00<00:00, 57456.22it/s]\n",
      "Splitting the experimental spectrum into chunks: 55902it [00:00, 2823782.81it/s]\n",
      "Deconvolving chunks: 100%|████████████████████████| 1/1 [00:38<00:00, 38.31s/it]\n"
     ]
    },
    {
     "name": "stdout",
     "output_type": "stream",
     "text": [
      "Estimation for 0.19 and 0.06999999999999999 done\n",
      "It took: 38.38937163352966 seconds.\n",
      "[0.5215735397179988, 0.4747102460109988]\n"
     ]
    },
    {
     "name": "stderr",
     "output_type": "stream",
     "text": [
      "Initial filtering of formulas: 100%|█████████████| 2/2 [00:00<00:00, 136.07it/s]\n",
      "Computing chunks: 100%|████████████████████████| 2/2 [00:00<00:00, 74898.29it/s]\n",
      "Splitting the experimental spectrum into chunks: 55902it [00:00, 2852606.39it/s]\n",
      "Deconvolving chunks: 100%|████████████████████████| 1/1 [00:37<00:00, 37.53s/it]\n"
     ]
    },
    {
     "name": "stdout",
     "output_type": "stream",
     "text": [
      "Estimation for 0.19 and 0.08 done\n",
      "It took: 37.60480999946594 seconds.\n",
      "[0.5214479754029988, 0.47471493810199883]\n"
     ]
    },
    {
     "name": "stderr",
     "output_type": "stream",
     "text": [
      "Initial filtering of formulas: 100%|█████████████| 2/2 [00:00<00:00, 136.86it/s]\n",
      "Computing chunks: 100%|████████████████████████| 2/2 [00:00<00:00, 98689.51it/s]\n",
      "Splitting the experimental spectrum into chunks: 55902it [00:00, 2955553.65it/s]\n",
      "Deconvolving chunks: 100%|████████████████████████| 1/1 [00:43<00:00, 43.89s/it]\n"
     ]
    },
    {
     "name": "stdout",
     "output_type": "stream",
     "text": [
      "Estimation for 0.19 and 0.09 done\n",
      "It took: 43.967562675476074 seconds.\n",
      "[0.5213461158699988, 0.47473676191399883]\n"
     ]
    },
    {
     "name": "stderr",
     "output_type": "stream",
     "text": [
      "Initial filtering of formulas: 100%|█████████████| 2/2 [00:00<00:00, 144.85it/s]\n",
      "Computing chunks: 100%|████████████████████████| 2/2 [00:00<00:00, 70492.50it/s]\n",
      "Splitting the experimental spectrum into chunks: 55902it [00:00, 2947417.16it/s]\n",
      "Deconvolving chunks: 100%|████████████████████████| 1/1 [00:37<00:00, 37.57s/it]\n"
     ]
    },
    {
     "name": "stdout",
     "output_type": "stream",
     "text": [
      "Estimation for 0.19 and 0.09999999999999999 done\n",
      "It took: 37.63953185081482 seconds.\n",
      "[0.5212124016759988, 0.47477761393299883]\n"
     ]
    },
    {
     "name": "stderr",
     "output_type": "stream",
     "text": [
      "Initial filtering of formulas: 100%|█████████████| 2/2 [00:00<00:00, 141.31it/s]\n",
      "Computing chunks: 100%|████████████████████████| 2/2 [00:00<00:00, 58254.22it/s]\n",
      "Splitting the experimental spectrum into chunks: 55902it [00:00, 2812301.13it/s]\n",
      "Deconvolving chunks: 100%|████████████████████████| 1/1 [00:46<00:00, 46.11s/it]\n"
     ]
    },
    {
     "name": "stdout",
     "output_type": "stream",
     "text": [
      "Estimation for 0.19 and 0.11 done\n",
      "It took: 46.18627190589905 seconds.\n",
      "[0.5212173434069988, 0.47474168383399884]\n"
     ]
    },
    {
     "name": "stderr",
     "output_type": "stream",
     "text": [
      "Initial filtering of formulas: 100%|█████████████| 2/2 [00:00<00:00, 125.46it/s]\n",
      "Computing chunks: 100%|████████████████████████| 2/2 [00:00<00:00, 55924.05it/s]\n",
      "Splitting the experimental spectrum into chunks: 55902it [00:00, 2733897.47it/s]\n",
      "Deconvolving chunks: 100%|████████████████████████| 1/1 [00:43<00:00, 43.91s/it]\n"
     ]
    },
    {
     "name": "stdout",
     "output_type": "stream",
     "text": [
      "Estimation for 0.19 and 0.12 done\n",
      "It took: 43.992650747299194 seconds.\n",
      "[0.5210456644479988, 0.47482588255299885]\n"
     ]
    },
    {
     "name": "stderr",
     "output_type": "stream",
     "text": [
      "Initial filtering of formulas: 100%|█████████████| 2/2 [00:00<00:00, 140.00it/s]\n",
      "Computing chunks: 100%|████████████████████████| 2/2 [00:00<00:00, 55188.21it/s]\n",
      "Splitting the experimental spectrum into chunks: 55902it [00:00, 2685026.99it/s]\n",
      "Deconvolving chunks: 100%|████████████████████████| 1/1 [00:38<00:00, 38.63s/it]\n"
     ]
    },
    {
     "name": "stdout",
     "output_type": "stream",
     "text": [
      "Estimation for 0.19 and 0.13 done\n",
      "It took: 38.704304218292236 seconds.\n",
      "[0.5208746358589987, 0.47491256456299885]\n"
     ]
    },
    {
     "name": "stderr",
     "output_type": "stream",
     "text": [
      "Initial filtering of formulas: 100%|█████████████| 2/2 [00:00<00:00, 135.70it/s]\n",
      "Computing chunks: 100%|████████████████████████| 2/2 [00:00<00:00, 89240.51it/s]\n",
      "Splitting the experimental spectrum into chunks: 55902it [00:00, 2720164.07it/s]\n",
      "Deconvolving chunks: 100%|████████████████████████| 1/1 [00:38<00:00, 38.22s/it]\n"
     ]
    },
    {
     "name": "stdout",
     "output_type": "stream",
     "text": [
      "Estimation for 0.19 and 0.14 done\n",
      "It took: 38.298558712005615 seconds.\n",
      "[0.5206829069829988, 0.4750635958389988]\n"
     ]
    },
    {
     "name": "stderr",
     "output_type": "stream",
     "text": [
      "Initial filtering of formulas: 100%|█████████████| 2/2 [00:00<00:00, 139.10it/s]\n",
      "Computing chunks: 100%|████████████████████████| 2/2 [00:00<00:00, 78398.21it/s]\n",
      "Splitting the experimental spectrum into chunks: 55902it [00:00, 2227827.97it/s]\n",
      "Deconvolving chunks: 100%|████████████████████████| 1/1 [00:36<00:00, 36.78s/it]\n"
     ]
    },
    {
     "name": "stdout",
     "output_type": "stream",
     "text": [
      "Estimation for 0.19 and 0.15000000000000002 done\n",
      "It took: 36.85850667953491 seconds.\n",
      "[0.5204772828009988, 0.47512155355799884]\n"
     ]
    },
    {
     "name": "stderr",
     "output_type": "stream",
     "text": [
      "Initial filtering of formulas: 100%|█████████████| 2/2 [00:00<00:00, 140.87it/s]\n",
      "Computing chunks: 100%|████████████████████████| 2/2 [00:00<00:00, 89240.51it/s]\n",
      "Splitting the experimental spectrum into chunks: 55902it [00:00, 2930069.01it/s]\n",
      "Deconvolving chunks: 100%|████████████████████████| 1/1 [00:37<00:00, 37.58s/it]\n"
     ]
    },
    {
     "name": "stdout",
     "output_type": "stream",
     "text": [
      "Estimation for 0.19 and 0.16 done\n",
      "It took: 37.65290021896362 seconds.\n",
      "[0.5199808472299988, 0.47530962438299884]\n"
     ]
    },
    {
     "name": "stderr",
     "output_type": "stream",
     "text": [
      "Initial filtering of formulas: 100%|█████████████| 2/2 [00:00<00:00, 116.54it/s]\n",
      "Computing chunks: 100%|████████████████████████| 2/2 [00:00<00:00, 99864.38it/s]\n",
      "Splitting the experimental spectrum into chunks: 55902it [00:00, 2995387.95it/s]\n",
      "Deconvolving chunks: 100%|████████████████████████| 1/1 [00:35<00:00, 35.37s/it]\n"
     ]
    },
    {
     "name": "stdout",
     "output_type": "stream",
     "text": [
      "Estimation for 0.19 and 0.17 done\n",
      "It took: 35.44729781150818 seconds.\n",
      "[0.5194855585729988, 0.4754692449879988]\n"
     ]
    },
    {
     "name": "stderr",
     "output_type": "stream",
     "text": [
      "Initial filtering of formulas: 100%|█████████████| 2/2 [00:00<00:00, 142.99it/s]\n",
      "Computing chunks: 100%|███████████████████████| 2/2 [00:00<00:00, 107546.26it/s]\n",
      "Splitting the experimental spectrum into chunks: 55902it [00:00, 3098790.49it/s]\n",
      "Deconvolving chunks: 100%|████████████████████████| 1/1 [00:46<00:00, 46.52s/it]\n"
     ]
    },
    {
     "name": "stdout",
     "output_type": "stream",
     "text": [
      "Estimation for 0.19 and 0.18000000000000002 done\n",
      "It took: 46.597491979599 seconds.\n",
      "[0.5192647164069988, 0.4755380647549988]\n"
     ]
    },
    {
     "name": "stderr",
     "output_type": "stream",
     "text": [
      "Initial filtering of formulas: 100%|█████████████| 2/2 [00:00<00:00, 122.08it/s]\n",
      "Computing chunks: 100%|████████████████████████| 2/2 [00:00<00:00, 52428.80it/s]\n",
      "Splitting the experimental spectrum into chunks: 55902it [00:00, 2605945.90it/s]\n",
      "Deconvolving chunks: 100%|████████████████████████| 1/1 [00:49<00:00, 49.28s/it]\n"
     ]
    },
    {
     "name": "stdout",
     "output_type": "stream",
     "text": [
      "Estimation for 0.19 and 0.19 done\n",
      "It took: 49.36455273628235 seconds.\n",
      "[0.5190981433639987, 0.4755050654449988]\n"
     ]
    },
    {
     "name": "stderr",
     "output_type": "stream",
     "text": [
      "Initial filtering of formulas: 100%|█████████████| 2/2 [00:00<00:00, 131.43it/s]\n",
      "Computing chunks: 100%|████████████████████████| 2/2 [00:00<00:00, 83055.52it/s]\n",
      "Splitting the experimental spectrum into chunks: 55902it [00:00, 2862252.28it/s]\n",
      "Deconvolving chunks: 100%|████████████████████████| 1/1 [00:37<00:00, 37.16s/it]\n"
     ]
    },
    {
     "name": "stdout",
     "output_type": "stream",
     "text": [
      "Estimation for 0.19 and 0.2 done\n",
      "It took: 37.23448061943054 seconds.\n",
      "[0.5190206915759987, 0.47546342054799884]\n"
     ]
    },
    {
     "name": "stderr",
     "output_type": "stream",
     "text": [
      "Initial filtering of formulas: 100%|█████████████| 2/2 [00:00<00:00, 128.68it/s]\n",
      "Computing chunks: 100%|████████████████████████| 2/2 [00:00<00:00, 39383.14it/s]\n",
      "Splitting the experimental spectrum into chunks: 55902it [00:00, 2583463.52it/s]\n",
      "Deconvolving chunks: 100%|████████████████████████| 1/1 [00:36<00:00, 36.66s/it]\n"
     ]
    },
    {
     "name": "stdout",
     "output_type": "stream",
     "text": [
      "Estimation for 0.19 and 0.21000000000000002 done\n",
      "It took: 36.7387969493866 seconds.\n",
      "[0.5188322342409988, 0.47546739613999883]\n"
     ]
    },
    {
     "name": "stderr",
     "output_type": "stream",
     "text": [
      "Initial filtering of formulas: 100%|█████████████| 2/2 [00:00<00:00, 132.63it/s]\n",
      "Computing chunks: 100%|████████████████████████| 2/2 [00:00<00:00, 47662.55it/s]\n",
      "Splitting the experimental spectrum into chunks: 55902it [00:00, 2947861.83it/s]\n",
      "Deconvolving chunks: 100%|████████████████████████| 1/1 [00:36<00:00, 36.56s/it]\n"
     ]
    },
    {
     "name": "stdout",
     "output_type": "stream",
     "text": [
      "Estimation for 0.19 and 0.22 done\n",
      "It took: 36.6384699344635 seconds.\n",
      "[0.5185032989759988, 0.47557441782599885]\n"
     ]
    },
    {
     "name": "stderr",
     "output_type": "stream",
     "text": [
      "Initial filtering of formulas: 100%|█████████████| 2/2 [00:00<00:00, 134.24it/s]\n",
      "Computing chunks: 100%|████████████████████████| 2/2 [00:00<00:00, 47934.90it/s]\n",
      "Splitting the experimental spectrum into chunks: 55902it [00:00, 2926448.52it/s]\n",
      "Deconvolving chunks: 100%|████████████████████████| 1/1 [00:38<00:00, 38.05s/it]\n"
     ]
    },
    {
     "name": "stdout",
     "output_type": "stream",
     "text": [
      "Estimation for 0.19 and 0.23 done\n",
      "It took: 38.123860359191895 seconds.\n",
      "[0.5181045994879988, 0.47577901451599885]\n"
     ]
    },
    {
     "name": "stderr",
     "output_type": "stream",
     "text": [
      "Initial filtering of formulas: 100%|█████████████| 2/2 [00:00<00:00, 126.10it/s]\n",
      "Computing chunks: 100%|████████████████████████| 2/2 [00:00<00:00, 64527.75it/s]\n",
      "Splitting the experimental spectrum into chunks: 55902it [00:00, 2850075.15it/s]\n",
      "Deconvolving chunks: 100%|████████████████████████| 1/1 [00:41<00:00, 41.48s/it]\n"
     ]
    },
    {
     "name": "stdout",
     "output_type": "stream",
     "text": [
      "Estimation for 0.19 and 0.24000000000000002 done\n",
      "It took: 41.549734354019165 seconds.\n",
      "[0.5179384595389988, 0.47583397400999883]\n"
     ]
    },
    {
     "name": "stderr",
     "output_type": "stream",
     "text": [
      "Initial filtering of formulas: 100%|█████████████| 2/2 [00:00<00:00, 137.16it/s]\n",
      "Computing chunks: 100%|████████████████████████| 2/2 [00:00<00:00, 90200.09it/s]\n",
      "Splitting the experimental spectrum into chunks: 55902it [00:00, 2590570.91it/s]\n",
      "Deconvolving chunks: 100%|████████████████████████| 1/1 [00:51<00:00, 51.08s/it]\n"
     ]
    },
    {
     "name": "stdout",
     "output_type": "stream",
     "text": [
      "Estimation for 0.19 and 0.25 done\n",
      "It took: 51.15686893463135 seconds.\n",
      "[0.5176743793079988, 0.47594565418299883]\n"
     ]
    },
    {
     "name": "stderr",
     "output_type": "stream",
     "text": [
      "Initial filtering of formulas: 100%|█████████████| 2/2 [00:00<00:00, 124.31it/s]\n",
      "Computing chunks: 100%|████████████████████████| 2/2 [00:00<00:00, 53092.46it/s]\n",
      "Splitting the experimental spectrum into chunks: 55902it [00:00, 2414130.21it/s]\n",
      "Deconvolving chunks: 100%|████████████████████████| 1/1 [00:52<00:00, 52.20s/it]\n"
     ]
    },
    {
     "name": "stdout",
     "output_type": "stream",
     "text": [
      "Estimation for 0.19 and 0.26 done\n",
      "It took: 52.29081463813782 seconds.\n",
      "[0.5170500927209988, 0.4762660904939988]\n"
     ]
    },
    {
     "name": "stderr",
     "output_type": "stream",
     "text": [
      "Initial filtering of formulas: 100%|█████████████| 2/2 [00:00<00:00, 136.76it/s]\n",
      "Computing chunks: 100%|████████████████████████| 2/2 [00:00<00:00, 82241.25it/s]\n",
      "Splitting the experimental spectrum into chunks: 55902it [00:00, 2674460.84it/s]\n",
      "Deconvolving chunks: 100%|████████████████████████| 1/1 [00:40<00:00, 40.24s/it]\n"
     ]
    },
    {
     "name": "stdout",
     "output_type": "stream",
     "text": [
      "Estimation for 0.19 and 0.27 done\n",
      "It took: 40.32048940658569 seconds.\n",
      "[0.5161308327939987, 0.47674633507499886]\n"
     ]
    },
    {
     "name": "stderr",
     "output_type": "stream",
     "text": [
      "Initial filtering of formulas: 100%|█████████████| 2/2 [00:00<00:00, 138.97it/s]\n",
      "Computing chunks: 100%|████████████████████████| 2/2 [00:00<00:00, 97541.95it/s]\n",
      "Splitting the experimental spectrum into chunks: 55902it [00:00, 3032815.28it/s]\n",
      "Deconvolving chunks: 100%|████████████████████████| 1/1 [00:39<00:00, 39.95s/it]\n"
     ]
    },
    {
     "name": "stdout",
     "output_type": "stream",
     "text": [
      "Estimation for 0.19 and 0.28 done\n",
      "It took: 40.01993465423584 seconds.\n",
      "[0.5154490384169987, 0.47701481322999884]\n"
     ]
    },
    {
     "name": "stderr",
     "output_type": "stream",
     "text": [
      "Initial filtering of formulas: 100%|█████████████| 2/2 [00:00<00:00, 129.48it/s]\n",
      "Computing chunks: 100%|████████████████████████| 2/2 [00:00<00:00, 51463.85it/s]\n",
      "Splitting the experimental spectrum into chunks: 55902it [00:00, 2955926.25it/s]\n",
      "Deconvolving chunks: 100%|████████████████████████| 1/1 [00:37<00:00, 37.05s/it]\n"
     ]
    },
    {
     "name": "stdout",
     "output_type": "stream",
     "text": [
      "Estimation for 0.19 and 0.29000000000000004 done\n",
      "It took: 37.12207221984863 seconds.\n",
      "[0.5152508779039988, 0.4770018562689988]\n"
     ]
    },
    {
     "name": "stderr",
     "output_type": "stream",
     "text": [
      "Initial filtering of formulas: 100%|█████████████| 2/2 [00:00<00:00, 134.17it/s]\n",
      "Computing chunks: 100%|████████████████████████| 2/2 [00:00<00:00, 78398.21it/s]\n",
      "Splitting the experimental spectrum into chunks: 55902it [00:00, 2312509.69it/s]\n",
      "Deconvolving chunks: 100%|████████████████████████| 1/1 [00:43<00:00, 43.35s/it]\n"
     ]
    },
    {
     "name": "stdout",
     "output_type": "stream",
     "text": [
      "Estimation for 0.19 and 0.3 done\n",
      "It took: 43.423240184783936 seconds.\n",
      "[0.5152183735069987, 0.4768015132499988]\n"
     ]
    },
    {
     "name": "stderr",
     "output_type": "stream",
     "text": [
      "Initial filtering of formulas: 100%|█████████████| 2/2 [00:00<00:00, 144.06it/s]\n",
      "Computing chunks: 100%|███████████████████████| 2/2 [00:00<00:00, 106184.91it/s]\n",
      "Splitting the experimental spectrum into chunks: 55902it [00:00, 3036507.27it/s]\n",
      "Deconvolving chunks: 100%|████████████████████████| 1/1 [00:49<00:00, 49.97s/it]\n"
     ]
    },
    {
     "name": "stdout",
     "output_type": "stream",
     "text": [
      "Estimation for 0.2 and 0.01 done\n",
      "It took: 50.046788692474365 seconds.\n",
      "[0.5128065428699988, 0.48601694543799884]\n"
     ]
    },
    {
     "name": "stderr",
     "output_type": "stream",
     "text": [
      "Initial filtering of formulas: 100%|█████████████| 2/2 [00:00<00:00, 122.44it/s]\n",
      "Computing chunks: 100%|████████████████████████| 2/2 [00:00<00:00, 29537.35it/s]\n",
      "Splitting the experimental spectrum into chunks: 55902it [00:00, 2481478.94it/s]\n",
      "Deconvolving chunks: 100%|████████████████████████| 1/1 [00:53<00:00, 53.01s/it]\n"
     ]
    },
    {
     "name": "stdout",
     "output_type": "stream",
     "text": [
      "Estimation for 0.2 and 0.02 done\n",
      "It took: 53.09907603263855 seconds.\n",
      "[0.5177851615519988, 0.48075080443999885]\n"
     ]
    },
    {
     "name": "stderr",
     "output_type": "stream",
     "text": [
      "Initial filtering of formulas: 100%|█████████████| 2/2 [00:00<00:00, 123.23it/s]\n",
      "Computing chunks: 100%|████████████████████████| 2/2 [00:00<00:00, 46603.38it/s]\n",
      "Splitting the experimental spectrum into chunks: 55902it [00:00, 2570942.79it/s]\n",
      "Deconvolving chunks: 100%|████████████████████████| 1/1 [00:39<00:00, 39.79s/it]\n"
     ]
    },
    {
     "name": "stdout",
     "output_type": "stream",
     "text": [
      "Estimation for 0.2 and 0.03 done\n",
      "It took: 39.874621629714966 seconds.\n",
      "[0.5203180867039988, 0.4776840505769988]\n"
     ]
    },
    {
     "name": "stderr",
     "output_type": "stream",
     "text": [
      "Initial filtering of formulas: 100%|█████████████| 2/2 [00:00<00:00, 130.60it/s]\n",
      "Computing chunks: 100%|████████████████████████| 2/2 [00:00<00:00, 14463.12it/s]\n",
      "Splitting the experimental spectrum into chunks: 55902it [00:00, 2725317.69it/s]\n",
      "Deconvolving chunks: 100%|████████████████████████| 1/1 [00:37<00:00, 37.53s/it]\n"
     ]
    },
    {
     "name": "stdout",
     "output_type": "stream",
     "text": [
      "Estimation for 0.2 and 0.04 done\n",
      "It took: 37.60350275039673 seconds.\n",
      "[0.5219239700229987, 0.47514439909699885]\n"
     ]
    },
    {
     "name": "stderr",
     "output_type": "stream",
     "text": [
      "Initial filtering of formulas: 100%|█████████████| 2/2 [00:00<00:00, 132.45it/s]\n",
      "Computing chunks: 100%|████████████████████████| 2/2 [00:00<00:00, 98689.51it/s]\n",
      "Splitting the experimental spectrum into chunks: 55902it [00:00, 2616093.35it/s]\n",
      "Deconvolving chunks: 100%|████████████████████████| 1/1 [00:36<00:00, 36.83s/it]\n"
     ]
    },
    {
     "name": "stdout",
     "output_type": "stream",
     "text": [
      "Estimation for 0.2 and 0.05 done\n",
      "It took: 36.90368318557739 seconds.\n",
      "[0.5221227296169988, 0.47451694581899884]\n"
     ]
    },
    {
     "name": "stderr",
     "output_type": "stream",
     "text": [
      "Initial filtering of formulas: 100%|█████████████| 2/2 [00:00<00:00, 141.95it/s]\n",
      "Computing chunks: 100%|████████████████████████| 2/2 [00:00<00:00, 86480.49it/s]\n",
      "Splitting the experimental spectrum into chunks: 55902it [00:00, 2932194.27it/s]\n",
      "Deconvolving chunks: 100%|████████████████████████| 1/1 [00:37<00:00, 37.65s/it]\n"
     ]
    },
    {
     "name": "stdout",
     "output_type": "stream",
     "text": [
      "Estimation for 0.2 and 0.060000000000000005 done\n",
      "It took: 37.7219774723053 seconds.\n",
      "[0.5220118075079988, 0.4745171428039988]\n"
     ]
    },
    {
     "name": "stderr",
     "output_type": "stream",
     "text": [
      "Initial filtering of formulas: 100%|█████████████| 2/2 [00:00<00:00, 142.04it/s]\n",
      "Computing chunks: 100%|████████████████████████| 2/2 [00:00<00:00, 58661.59it/s]\n",
      "Splitting the experimental spectrum into chunks: 55902it [00:00, 2970343.21it/s]\n",
      "Deconvolving chunks: 100%|████████████████████████| 1/1 [00:44<00:00, 44.89s/it]\n"
     ]
    },
    {
     "name": "stdout",
     "output_type": "stream",
     "text": [
      "Estimation for 0.2 and 0.06999999999999999 done\n",
      "It took: 44.95654916763306 seconds.\n",
      "[0.5219794585739987, 0.47449241707699885]\n"
     ]
    },
    {
     "name": "stderr",
     "output_type": "stream",
     "text": [
      "Initial filtering of formulas: 100%|█████████████| 2/2 [00:00<00:00, 145.09it/s]\n",
      "Computing chunks: 100%|████████████████████████| 2/2 [00:00<00:00, 98689.51it/s]\n",
      "Splitting the experimental spectrum into chunks: 55902it [00:00, 3097398.67it/s]\n",
      "Deconvolving chunks: 100%|████████████████████████| 1/1 [00:45<00:00, 45.07s/it]\n"
     ]
    },
    {
     "name": "stdout",
     "output_type": "stream",
     "text": [
      "Estimation for 0.2 and 0.08 done\n",
      "It took: 45.14368963241577 seconds.\n",
      "[0.5219727458279988, 0.47442549861199884]\n"
     ]
    },
    {
     "name": "stderr",
     "output_type": "stream",
     "text": [
      "Initial filtering of formulas: 100%|█████████████| 2/2 [00:00<00:00, 121.83it/s]\n",
      "Computing chunks: 100%|████████████████████████| 2/2 [00:00<00:00, 24892.01it/s]\n",
      "Splitting the experimental spectrum into chunks: 55902it [00:00, 2219077.83it/s]\n",
      "Deconvolving chunks: 100%|████████████████████████| 1/1 [00:49<00:00, 49.33s/it]\n"
     ]
    },
    {
     "name": "stdout",
     "output_type": "stream",
     "text": [
      "Estimation for 0.2 and 0.09 done\n",
      "It took: 49.42331624031067 seconds.\n",
      "[0.5218698201719988, 0.47445144067199885]\n"
     ]
    },
    {
     "name": "stderr",
     "output_type": "stream",
     "text": [
      "Initial filtering of formulas: 100%|█████████████| 2/2 [00:00<00:00, 116.17it/s]\n",
      "Computing chunks: 100%|████████████████████████| 2/2 [00:00<00:00, 42153.81it/s]\n",
      "Splitting the experimental spectrum into chunks: 55902it [00:00, 2474329.97it/s]\n",
      "Deconvolving chunks: 100%|████████████████████████| 1/1 [00:41<00:00, 41.20s/it]\n"
     ]
    },
    {
     "name": "stdout",
     "output_type": "stream",
     "text": [
      "Estimation for 0.2 and 0.09999999999999999 done\n",
      "It took: 41.28463697433472 seconds.\n",
      "[0.5216770340189988, 0.4745170019389988]\n"
     ]
    },
    {
     "name": "stderr",
     "output_type": "stream",
     "text": [
      "Initial filtering of formulas: 100%|█████████████| 2/2 [00:00<00:00, 135.34it/s]\n",
      "Computing chunks: 100%|████████████████████████| 2/2 [00:00<00:00, 85598.04it/s]\n",
      "Splitting the experimental spectrum into chunks: 55902it [00:00, 2827221.76it/s]\n",
      "Deconvolving chunks: 100%|████████████████████████| 1/1 [00:41<00:00, 41.09s/it]\n"
     ]
    },
    {
     "name": "stdout",
     "output_type": "stream",
     "text": [
      "Estimation for 0.2 and 0.11 done\n",
      "It took: 41.1699743270874 seconds.\n",
      "[0.5216041981309988, 0.47456404236499883]\n"
     ]
    },
    {
     "name": "stderr",
     "output_type": "stream",
     "text": [
      "Initial filtering of formulas: 100%|█████████████| 2/2 [00:00<00:00, 138.41it/s]\n",
      "Computing chunks: 100%|████████████████████████| 2/2 [00:00<00:00, 88301.14it/s]\n",
      "Splitting the experimental spectrum into chunks: 55902it [00:00, 2955851.72it/s]\n",
      "Deconvolving chunks: 100%|████████████████████████| 1/1 [00:36<00:00, 36.54s/it]\n"
     ]
    },
    {
     "name": "stdout",
     "output_type": "stream",
     "text": [
      "Estimation for 0.2 and 0.12 done\n",
      "It took: 36.60932517051697 seconds.\n",
      "[0.5214648757299988, 0.47461708864999885]\n"
     ]
    },
    {
     "name": "stderr",
     "output_type": "stream",
     "text": [
      "Initial filtering of formulas: 100%|█████████████| 2/2 [00:00<00:00, 134.85it/s]\n",
      "Computing chunks: 100%|████████████████████████| 2/2 [00:00<00:00, 84733.41it/s]\n",
      "Splitting the experimental spectrum into chunks: 55902it [00:00, 2882024.46it/s]\n",
      "Deconvolving chunks: 100%|████████████████████████| 1/1 [00:37<00:00, 37.35s/it]\n"
     ]
    },
    {
     "name": "stdout",
     "output_type": "stream",
     "text": [
      "Estimation for 0.2 and 0.13 done\n",
      "It took: 37.421619176864624 seconds.\n",
      "[0.5214678307819988, 0.47463155522399886]\n"
     ]
    },
    {
     "name": "stderr",
     "output_type": "stream",
     "text": [
      "Initial filtering of formulas: 100%|█████████████| 2/2 [00:00<00:00, 137.59it/s]\n",
      "Computing chunks: 100%|████████████████████████| 2/2 [00:00<00:00, 71089.90it/s]\n",
      "Splitting the experimental spectrum into chunks: 55902it [00:00, 2493512.66it/s]\n",
      "Deconvolving chunks: 100%|████████████████████████| 1/1 [00:37<00:00, 37.85s/it]\n"
     ]
    },
    {
     "name": "stdout",
     "output_type": "stream",
     "text": [
      "Estimation for 0.2 and 0.14 done\n",
      "It took: 37.92921996116638 seconds.\n",
      "[0.5212167959079987, 0.47476655055399886]\n"
     ]
    },
    {
     "name": "stderr",
     "output_type": "stream",
     "text": [
      "Initial filtering of formulas: 100%|█████████████| 2/2 [00:00<00:00, 142.67it/s]\n",
      "Computing chunks: 100%|████████████████████████| 2/2 [00:00<00:00, 87381.33it/s]\n",
      "Splitting the experimental spectrum into chunks: 55902it [00:00, 3062965.15it/s]\n",
      "Deconvolving chunks: 100%|████████████████████████| 1/1 [00:46<00:00, 46.59s/it]\n"
     ]
    },
    {
     "name": "stdout",
     "output_type": "stream",
     "text": [
      "Estimation for 0.2 and 0.15000000000000002 done\n",
      "It took: 46.66480112075806 seconds.\n",
      "[0.5210114149459988, 0.4748822911949988]\n"
     ]
    },
    {
     "name": "stderr",
     "output_type": "stream",
     "text": [
      "Initial filtering of formulas: 100%|█████████████| 2/2 [00:00<00:00, 121.63it/s]\n",
      "Computing chunks: 100%|████████████████████████| 2/2 [00:00<00:00, 80659.69it/s]\n",
      "Splitting the experimental spectrum into chunks: 55902it [00:00, 2646477.67it/s]\n",
      "Deconvolving chunks: 100%|████████████████████████| 1/1 [00:51<00:00, 51.37s/it]\n"
     ]
    },
    {
     "name": "stdout",
     "output_type": "stream",
     "text": [
      "Estimation for 0.2 and 0.16 done\n",
      "It took: 51.459399700164795 seconds.\n",
      "[0.5207988381519988, 0.4749969951599988]\n"
     ]
    },
    {
     "name": "stderr",
     "output_type": "stream",
     "text": [
      "Initial filtering of formulas: 100%|█████████████| 2/2 [00:00<00:00, 134.11it/s]\n",
      "Computing chunks: 100%|████████████████████████| 2/2 [00:00<00:00, 87381.33it/s]\n",
      "Splitting the experimental spectrum into chunks: 55902it [00:00, 2926265.91it/s]\n",
      "Deconvolving chunks: 100%|████████████████████████| 1/1 [00:40<00:00, 40.00s/it]\n"
     ]
    },
    {
     "name": "stdout",
     "output_type": "stream",
     "text": [
      "Estimation for 0.2 and 0.17 done\n",
      "It took: 40.07947754859924 seconds.\n",
      "[0.5205527535099987, 0.47507850914699884]\n"
     ]
    },
    {
     "name": "stderr",
     "output_type": "stream",
     "text": [
      "Initial filtering of formulas: 100%|█████████████| 2/2 [00:00<00:00, 111.54it/s]\n",
      "Computing chunks: 100%|████████████████████████| 2/2 [00:00<00:00, 27962.03it/s]\n",
      "Splitting the experimental spectrum into chunks: 55902it [00:00, 2616735.66it/s]\n",
      "Deconvolving chunks: 100%|████████████████████████| 1/1 [00:41<00:00, 41.81s/it]\n"
     ]
    },
    {
     "name": "stdout",
     "output_type": "stream",
     "text": [
      "Estimation for 0.2 and 0.18000000000000002 done\n",
      "It took: 41.89385414123535 seconds.\n",
      "[0.5200674768619988, 0.4752205766509988]\n"
     ]
    },
    {
     "name": "stderr",
     "output_type": "stream",
     "text": [
      "Initial filtering of formulas: 100%|█████████████| 2/2 [00:00<00:00, 142.16it/s]\n",
      "Computing chunks: 100%|████████████████████████| 2/2 [00:00<00:00, 87381.33it/s]\n",
      "Splitting the experimental spectrum into chunks: 55902it [00:00, 2540798.66it/s]\n",
      "Deconvolving chunks: 100%|████████████████████████| 1/1 [00:36<00:00, 36.25s/it]\n"
     ]
    },
    {
     "name": "stdout",
     "output_type": "stream",
     "text": [
      "Estimation for 0.2 and 0.19 done\n",
      "It took: 36.32544159889221 seconds.\n",
      "[0.5196335005729987, 0.47538237013499884]\n"
     ]
    },
    {
     "name": "stderr",
     "output_type": "stream",
     "text": [
      "Initial filtering of formulas: 100%|█████████████| 2/2 [00:00<00:00, 136.20it/s]\n",
      "Computing chunks: 100%|████████████████████████| 2/2 [00:00<00:00, 86480.49it/s]\n",
      "Splitting the experimental spectrum into chunks: 55902it [00:00, 2944973.84it/s]\n",
      "Deconvolving chunks: 100%|████████████████████████| 1/1 [00:35<00:00, 35.43s/it]\n"
     ]
    },
    {
     "name": "stdout",
     "output_type": "stream",
     "text": [
      "Estimation for 0.2 and 0.2 done\n",
      "It took: 35.49847650527954 seconds.\n",
      "[0.5194202133959988, 0.47541304551499886]\n"
     ]
    },
    {
     "name": "stderr",
     "output_type": "stream",
     "text": [
      "Initial filtering of formulas: 100%|█████████████| 2/2 [00:00<00:00, 143.87it/s]\n",
      "Computing chunks: 100%|███████████████████████| 2/2 [00:00<00:00, 101067.57it/s]\n",
      "Splitting the experimental spectrum into chunks: 55902it [00:00, 3052358.65it/s]\n",
      "Deconvolving chunks: 100%|████████████████████████| 1/1 [00:34<00:00, 34.66s/it]\n"
     ]
    },
    {
     "name": "stdout",
     "output_type": "stream",
     "text": [
      "Estimation for 0.2 and 0.21000000000000002 done\n",
      "It took: 34.72755312919617 seconds.\n",
      "[0.5192056385919988, 0.4754475860399988]\n"
     ]
    },
    {
     "name": "stderr",
     "output_type": "stream",
     "text": [
      "Initial filtering of formulas: 100%|█████████████| 2/2 [00:00<00:00, 143.86it/s]\n",
      "Computing chunks: 100%|████████████████████████| 2/2 [00:00<00:00, 95325.09it/s]\n",
      "Splitting the experimental spectrum into chunks: 55902it [00:00, 3024014.42it/s]\n",
      "Deconvolving chunks: 100%|████████████████████████| 1/1 [00:55<00:00, 55.51s/it]\n"
     ]
    },
    {
     "name": "stdout",
     "output_type": "stream",
     "text": [
      "Estimation for 0.2 and 0.22 done\n",
      "It took: 55.583142042160034 seconds.\n",
      "[0.5190588485429988, 0.4754336055699988]\n"
     ]
    },
    {
     "name": "stderr",
     "output_type": "stream",
     "text": [
      "Initial filtering of formulas: 100%|█████████████| 2/2 [00:00<00:00, 111.71it/s]\n",
      "Computing chunks: 100%|████████████████████████| 2/2 [00:00<00:00, 49056.19it/s]\n",
      "Splitting the experimental spectrum into chunks: 55902it [00:00, 2057512.26it/s]\n",
      "Deconvolving chunks: 100%|████████████████████████| 1/1 [00:45<00:00, 45.77s/it]\n"
     ]
    },
    {
     "name": "stdout",
     "output_type": "stream",
     "text": [
      "Estimation for 0.2 and 0.23 done\n",
      "It took: 45.86279320716858 seconds.\n",
      "[0.5188226036359987, 0.4754807985919988]\n"
     ]
    },
    {
     "name": "stderr",
     "output_type": "stream",
     "text": [
      "Initial filtering of formulas: 100%|█████████████| 2/2 [00:00<00:00, 128.79it/s]\n",
      "Computing chunks: 100%|████████████████████████| 2/2 [00:00<00:00, 78398.21it/s]\n",
      "Splitting the experimental spectrum into chunks: 55902it [00:00, 2707067.94it/s]\n",
      "Deconvolving chunks: 100%|███████████████████████| 1/1 [03:34<00:00, 214.92s/it]\n"
     ]
    },
    {
     "name": "stdout",
     "output_type": "stream",
     "text": [
      "Estimation for 0.2 and 0.24000000000000002 done\n",
      "It took: 215.0090091228485 seconds.\n",
      "[0.5185264820419988, 0.4755736806929988]\n"
     ]
    },
    {
     "name": "stderr",
     "output_type": "stream",
     "text": [
      "Initial filtering of formulas: 100%|██████████████| 2/2 [00:00<00:00, 85.66it/s]\n",
      "Computing chunks: 100%|████████████████████████| 2/2 [00:00<00:00, 63072.24it/s]\n",
      "Splitting the experimental spectrum into chunks: 55902it [00:00, 1693498.75it/s]\n",
      "Deconvolving chunks: 100%|████████████████████████| 1/1 [00:48<00:00, 48.28s/it]\n"
     ]
    },
    {
     "name": "stdout",
     "output_type": "stream",
     "text": [
      "Estimation for 0.2 and 0.25 done\n",
      "It took: 48.4005012512207 seconds.\n",
      "[0.5181359474599988, 0.47576551264699884]\n"
     ]
    },
    {
     "name": "stderr",
     "output_type": "stream",
     "text": [
      "Initial filtering of formulas: 100%|█████████████| 2/2 [00:00<00:00, 118.10it/s]\n",
      "Computing chunks: 100%|████████████████████████| 2/2 [00:00<00:00, 74898.29it/s]\n",
      "Splitting the experimental spectrum into chunks: 55902it [00:00, 2428809.49it/s]\n",
      "Deconvolving chunks: 100%|████████████████████████| 1/1 [00:44<00:00, 44.46s/it]\n"
     ]
    },
    {
     "name": "stdout",
     "output_type": "stream",
     "text": [
      "Estimation for 0.2 and 0.26 done\n",
      "It took: 44.55915832519531 seconds.\n",
      "[0.5179744587609988, 0.4758214243619988]\n"
     ]
    },
    {
     "name": "stderr",
     "output_type": "stream",
     "text": [
      "Initial filtering of formulas: 100%|█████████████| 2/2 [00:00<00:00, 133.23it/s]\n",
      "Computing chunks: 100%|████████████████████████| 2/2 [00:00<00:00, 89240.51it/s]\n",
      "Splitting the experimental spectrum into chunks: 55902it [00:00, 2774300.21it/s]\n",
      "Deconvolving chunks: 100%|████████████████████████| 1/1 [00:43<00:00, 43.08s/it]\n"
     ]
    },
    {
     "name": "stdout",
     "output_type": "stream",
     "text": [
      "Estimation for 0.2 and 0.27 done\n",
      "It took: 43.16659736633301 seconds.\n",
      "[0.5177201783689988, 0.4759364154779988]\n"
     ]
    },
    {
     "name": "stderr",
     "output_type": "stream",
     "text": [
      "Initial filtering of formulas: 100%|█████████████| 2/2 [00:00<00:00, 138.78it/s]\n",
      "Computing chunks: 100%|████████████████████████| 2/2 [00:00<00:00, 77672.30it/s]\n",
      "Splitting the experimental spectrum into chunks: 55902it [00:00, 2976942.97it/s]\n",
      "Deconvolving chunks: 100%|████████████████████████| 1/1 [01:08<00:00, 68.60s/it]\n"
     ]
    },
    {
     "name": "stdout",
     "output_type": "stream",
     "text": [
      "Estimation for 0.2 and 0.28 done\n",
      "It took: 68.67278099060059 seconds.\n",
      "[0.5170850631029987, 0.47623538805099885]\n"
     ]
    },
    {
     "name": "stderr",
     "output_type": "stream",
     "text": [
      "Initial filtering of formulas: 100%|█████████████| 2/2 [00:00<00:00, 133.17it/s]\n",
      "Computing chunks: 100%|████████████████████████| 2/2 [00:00<00:00, 92182.51it/s]\n",
      "Splitting the experimental spectrum into chunks: 55902it [00:00, 2615422.17it/s]\n",
      "Deconvolving chunks: 100%|████████████████████████| 1/1 [00:41<00:00, 41.71s/it]\n"
     ]
    },
    {
     "name": "stdout",
     "output_type": "stream",
     "text": [
      "Estimation for 0.2 and 0.29000000000000004 done\n",
      "It took: 41.7907338142395 seconds.\n",
      "[0.5162688015419988, 0.47660118128299883]\n"
     ]
    },
    {
     "name": "stderr",
     "output_type": "stream",
     "text": [
      "Initial filtering of formulas: 100%|█████████████| 2/2 [00:00<00:00, 145.71it/s]\n",
      "Computing chunks: 100%|████████████████████████| 2/2 [00:00<00:00, 86480.49it/s]\n",
      "Splitting the experimental spectrum into chunks: 55902it [00:00, 3091884.67it/s]\n",
      "Deconvolving chunks: 100%|████████████████████████| 1/1 [00:36<00:00, 36.90s/it]\n"
     ]
    },
    {
     "name": "stdout",
     "output_type": "stream",
     "text": [
      "Estimation for 0.2 and 0.3 done\n",
      "It took: 36.97156095504761 seconds.\n",
      "[0.5161141997749987, 0.4764664806189988]\n"
     ]
    },
    {
     "name": "stderr",
     "output_type": "stream",
     "text": [
      "Initial filtering of formulas: 100%|█████████████| 2/2 [00:00<00:00, 142.83it/s]\n",
      "Computing chunks: 100%|████████████████████████| 2/2 [00:00<00:00, 66052.03it/s]\n",
      "Splitting the experimental spectrum into chunks: 55902it [00:00, 3017981.26it/s]\n",
      "Deconvolving chunks: 100%|████████████████████████| 1/1 [00:48<00:00, 48.89s/it]\n"
     ]
    },
    {
     "name": "stdout",
     "output_type": "stream",
     "text": [
      "Estimation for 0.21000000000000002 and 0.01 done\n",
      "It took: 48.96624255180359 seconds.\n",
      "[0.5128719501299988, 0.4860381480589988]\n"
     ]
    },
    {
     "name": "stderr",
     "output_type": "stream",
     "text": [
      "Initial filtering of formulas: 100%|█████████████| 2/2 [00:00<00:00, 117.52it/s]\n",
      "Computing chunks: 100%|████████████████████████| 2/2 [00:00<00:00, 76959.71it/s]\n",
      "Splitting the experimental spectrum into chunks: 55902it [00:00, 2643672.78it/s]\n",
      "Deconvolving chunks: 100%|████████████████████████| 1/1 [00:50<00:00, 50.20s/it]\n"
     ]
    },
    {
     "name": "stdout",
     "output_type": "stream",
     "text": [
      "Estimation for 0.21000000000000002 and 0.02 done\n",
      "It took: 50.28802227973938 seconds.\n",
      "[0.5178061639069987, 0.48085100053599883]\n"
     ]
    },
    {
     "name": "stderr",
     "output_type": "stream",
     "text": [
      "Initial filtering of formulas: 100%|█████████████| 2/2 [00:00<00:00, 130.69it/s]\n",
      "Computing chunks: 100%|████████████████████████| 2/2 [00:00<00:00, 74898.29it/s]\n",
      "Splitting the experimental spectrum into chunks: 55902it [00:00, 2475087.43it/s]\n",
      "Deconvolving chunks: 100%|████████████████████████| 1/1 [00:53<00:00, 53.22s/it]\n"
     ]
    },
    {
     "name": "stdout",
     "output_type": "stream",
     "text": [
      "Estimation for 0.21000000000000002 and 0.03 done\n",
      "It took: 53.31326365470886 seconds.\n",
      "[0.5203571201209988, 0.4778961705529988]\n"
     ]
    },
    {
     "name": "stderr",
     "output_type": "stream",
     "text": [
      "Initial filtering of formulas: 100%|█████████████| 2/2 [00:00<00:00, 131.11it/s]\n",
      "Computing chunks: 100%|████████████████████████| 2/2 [00:00<00:00, 74235.47it/s]\n",
      "Splitting the experimental spectrum into chunks: 55902it [00:00, 2856533.49it/s]\n",
      "Deconvolving chunks: 100%|████████████████████████| 1/1 [00:52<00:00, 52.35s/it]\n"
     ]
    },
    {
     "name": "stdout",
     "output_type": "stream",
     "text": [
      "Estimation for 0.21000000000000002 and 0.04 done\n",
      "It took: 52.432578563690186 seconds.\n",
      "[0.5224139857959987, 0.4751046227149988]\n"
     ]
    },
    {
     "name": "stderr",
     "output_type": "stream",
     "text": [
      "Initial filtering of formulas: 100%|█████████████| 2/2 [00:00<00:00, 112.99it/s]\n",
      "Computing chunks: 100%|████████████████████████| 2/2 [00:00<00:00, 31418.01it/s]\n",
      "Splitting the experimental spectrum into chunks: 55902it [00:00, 2765367.53it/s]\n",
      "Deconvolving chunks: 100%|████████████████████████| 1/1 [00:49<00:00, 49.99s/it]\n"
     ]
    },
    {
     "name": "stdout",
     "output_type": "stream",
     "text": [
      "Estimation for 0.21000000000000002 and 0.05 done\n",
      "It took: 50.07689332962036 seconds.\n",
      "[0.5224601840509988, 0.4744767173639988]\n"
     ]
    },
    {
     "name": "stderr",
     "output_type": "stream",
     "text": [
      "Initial filtering of formulas: 100%|█████████████| 2/2 [00:00<00:00, 127.89it/s]\n",
      "Computing chunks: 100%|████████████████████████| 2/2 [00:00<00:00, 76260.07it/s]\n",
      "Splitting the experimental spectrum into chunks: 55902it [00:00, 2148538.28it/s]\n",
      "Deconvolving chunks: 100%|████████████████████████| 1/1 [00:53<00:00, 53.40s/it]\n"
     ]
    },
    {
     "name": "stdout",
     "output_type": "stream",
     "text": [
      "Estimation for 0.21000000000000002 and 0.060000000000000005 done\n",
      "It took: 53.484344720840454 seconds.\n",
      "[0.5222921905629988, 0.4743713136989988]\n"
     ]
    },
    {
     "name": "stderr",
     "output_type": "stream",
     "text": [
      "Initial filtering of formulas: 100%|█████████████| 2/2 [00:00<00:00, 129.75it/s]\n",
      "Computing chunks: 100%|████████████████████████| 2/2 [00:00<00:00, 70492.50it/s]\n",
      "Splitting the experimental spectrum into chunks: 55902it [00:00, 2729187.80it/s]\n",
      "Deconvolving chunks: 100%|████████████████████████| 1/1 [00:48<00:00, 48.03s/it]\n"
     ]
    },
    {
     "name": "stdout",
     "output_type": "stream",
     "text": [
      "Estimation for 0.21000000000000002 and 0.06999999999999999 done\n",
      "It took: 48.114052534103394 seconds.\n",
      "[0.5222100898249987, 0.47436697636999886]\n"
     ]
    },
    {
     "name": "stderr",
     "output_type": "stream",
     "text": [
      "Initial filtering of formulas: 100%|█████████████| 2/2 [00:00<00:00, 124.63it/s]\n",
      "Computing chunks: 100%|████████████████████████| 2/2 [00:00<00:00, 67108.86it/s]\n",
      "Splitting the experimental spectrum into chunks: 55902it [00:00, 2734375.70it/s]\n",
      "Deconvolving chunks: 100%|████████████████████████| 1/1 [00:49<00:00, 49.82s/it]\n"
     ]
    },
    {
     "name": "stdout",
     "output_type": "stream",
     "text": [
      "Estimation for 0.21000000000000002 and 0.08 done\n",
      "It took: 49.902371644973755 seconds.\n",
      "[0.5223165595989988, 0.4742552592359988]\n"
     ]
    },
    {
     "name": "stderr",
     "output_type": "stream",
     "text": [
      "Initial filtering of formulas: 100%|█████████████| 2/2 [00:00<00:00, 124.38it/s]\n",
      "Computing chunks: 100%|████████████████████████| 2/2 [00:00<00:00, 30840.47it/s]\n",
      "Splitting the experimental spectrum into chunks: 55902it [00:00, 2469352.75it/s]\n",
      "Deconvolving chunks: 100%|████████████████████████| 1/1 [00:52<00:00, 52.48s/it]\n"
     ]
    },
    {
     "name": "stdout",
     "output_type": "stream",
     "text": [
      "Estimation for 0.21000000000000002 and 0.09 done\n",
      "It took: 52.56252408027649 seconds.\n",
      "[0.5223020514119988, 0.47421312352899886]\n"
     ]
    },
    {
     "name": "stderr",
     "output_type": "stream",
     "text": [
      "Initial filtering of formulas: 100%|█████████████| 2/2 [00:00<00:00, 127.14it/s]\n",
      "Computing chunks: 100%|████████████████████████| 2/2 [00:00<00:00, 72315.59it/s]\n",
      "Splitting the experimental spectrum into chunks: 55902it [00:00, 2039241.79it/s]\n",
      "Deconvolving chunks: 100%|████████████████████████| 1/1 [00:52<00:00, 52.87s/it]\n"
     ]
    },
    {
     "name": "stdout",
     "output_type": "stream",
     "text": [
      "Estimation for 0.21000000000000002 and 0.09999999999999999 done\n",
      "It took: 52.95333194732666 seconds.\n",
      "[0.5222862238669987, 0.4742029712659988]\n"
     ]
    },
    {
     "name": "stderr",
     "output_type": "stream",
     "text": [
      "Initial filtering of formulas: 100%|█████████████| 2/2 [00:00<00:00, 126.54it/s]\n",
      "Computing chunks: 100%|████████████████████████| 2/2 [00:00<00:00, 54120.05it/s]\n",
      "Splitting the experimental spectrum into chunks: 55902it [00:00, 2672022.59it/s]\n",
      "Deconvolving chunks: 100%|████████████████████████| 1/1 [00:55<00:00, 55.16s/it]\n"
     ]
    },
    {
     "name": "stdout",
     "output_type": "stream",
     "text": [
      "Estimation for 0.21000000000000002 and 0.11 done\n",
      "It took: 55.24069261550903 seconds.\n",
      "[0.5221532343319988, 0.47426423392999884]\n"
     ]
    },
    {
     "name": "stderr",
     "output_type": "stream",
     "text": [
      "Initial filtering of formulas: 100%|█████████████| 2/2 [00:00<00:00, 130.31it/s]\n",
      "Computing chunks: 100%|████████████████████████| 2/2 [00:00<00:00, 67108.86it/s]\n",
      "Splitting the experimental spectrum into chunks: 55902it [00:00, 2757335.01it/s]\n",
      "Deconvolving chunks: 100%|████████████████████████| 1/1 [00:52<00:00, 52.33s/it]\n"
     ]
    },
    {
     "name": "stdout",
     "output_type": "stream",
     "text": [
      "Estimation for 0.21000000000000002 and 0.12 done\n",
      "It took: 52.40892052650452 seconds.\n",
      "[0.5220020246299988, 0.4743549087849988]\n"
     ]
    },
    {
     "name": "stderr",
     "output_type": "stream",
     "text": [
      "Initial filtering of formulas: 100%|█████████████| 2/2 [00:00<00:00, 121.47it/s]\n",
      "Computing chunks: 100%|████████████████████████| 2/2 [00:00<00:00, 49056.19it/s]\n",
      "Splitting the experimental spectrum into chunks: 55902it [00:00, 2590513.66it/s]\n",
      "Deconvolving chunks: 100%|████████████████████████| 1/1 [00:48<00:00, 48.89s/it]\n"
     ]
    },
    {
     "name": "stdout",
     "output_type": "stream",
     "text": [
      "Estimation for 0.21000000000000002 and 0.13 done\n",
      "It took: 48.97759294509888 seconds.\n",
      "[0.5218686548409988, 0.47440837605799885]\n"
     ]
    },
    {
     "name": "stderr",
     "output_type": "stream",
     "text": [
      "Initial filtering of formulas: 100%|█████████████| 2/2 [00:00<00:00, 134.80it/s]\n",
      "Computing chunks: 100%|████████████████████████| 2/2 [00:00<00:00, 45590.26it/s]\n",
      "Splitting the experimental spectrum into chunks: 55902it [00:00, 2726934.19it/s]\n",
      "Deconvolving chunks: 100%|████████████████████████| 1/1 [00:59<00:00, 59.53s/it]\n"
     ]
    },
    {
     "name": "stdout",
     "output_type": "stream",
     "text": [
      "Estimation for 0.21000000000000002 and 0.14 done\n",
      "It took: 59.608235359191895 seconds.\n",
      "[0.5216309215899988, 0.4745501922859988]\n"
     ]
    },
    {
     "name": "stderr",
     "output_type": "stream",
     "text": [
      "Initial filtering of formulas: 100%|█████████████| 2/2 [00:00<00:00, 120.82it/s]\n",
      "Computing chunks: 100%|████████████████████████| 2/2 [00:00<00:00, 55188.21it/s]\n",
      "Splitting the experimental spectrum into chunks: 55902it [00:00, 2613498.10it/s]\n",
      "Deconvolving chunks: 100%|████████████████████████| 1/1 [00:45<00:00, 45.10s/it]\n"
     ]
    },
    {
     "name": "stdout",
     "output_type": "stream",
     "text": [
      "Estimation for 0.21000000000000002 and 0.15000000000000002 done\n",
      "It took: 45.18543791770935 seconds.\n",
      "[0.5215373611229988, 0.47459805366799884]\n"
     ]
    },
    {
     "name": "stderr",
     "output_type": "stream",
     "text": [
      "Initial filtering of formulas: 100%|█████████████| 2/2 [00:00<00:00, 118.34it/s]\n",
      "Computing chunks: 100%|████████████████████████| 2/2 [00:00<00:00, 18893.26it/s]\n",
      "Splitting the experimental spectrum into chunks: 55902it [00:00, 2276805.48it/s]\n",
      "Deconvolving chunks: 100%|████████████████████████| 1/1 [00:44<00:00, 44.92s/it]\n"
     ]
    },
    {
     "name": "stdout",
     "output_type": "stream",
     "text": [
      "Estimation for 0.21000000000000002 and 0.16 done\n",
      "It took: 45.00677990913391 seconds.\n",
      "[0.5213178809949988, 0.4747065185839988]\n"
     ]
    },
    {
     "name": "stderr",
     "output_type": "stream",
     "text": [
      "Initial filtering of formulas: 100%|█████████████| 2/2 [00:00<00:00, 126.23it/s]\n",
      "Computing chunks: 100%|████████████████████████| 2/2 [00:00<00:00, 56679.78it/s]\n",
      "Splitting the experimental spectrum into chunks: 55902it [00:00, 2688475.14it/s]\n",
      "Deconvolving chunks: 100%|████████████████████████| 1/1 [00:42<00:00, 42.16s/it]\n"
     ]
    },
    {
     "name": "stdout",
     "output_type": "stream",
     "text": [
      "Estimation for 0.21000000000000002 and 0.17 done\n",
      "It took: 42.24043011665344 seconds.\n",
      "[0.5211058124469988, 0.4748307511409988]\n"
     ]
    },
    {
     "name": "stderr",
     "output_type": "stream",
     "text": [
      "Initial filtering of formulas: 100%|█████████████| 2/2 [00:00<00:00, 143.26it/s]\n",
      "Computing chunks: 100%|████████████████████████| 2/2 [00:00<00:00, 82241.25it/s]\n",
      "Splitting the experimental spectrum into chunks: 55902it [00:00, 2969778.88it/s]\n",
      "Deconvolving chunks: 100%|████████████████████████| 1/1 [00:35<00:00, 35.84s/it]\n"
     ]
    },
    {
     "name": "stdout",
     "output_type": "stream",
     "text": [
      "Estimation for 0.21000000000000002 and 0.18000000000000002 done\n",
      "It took: 35.9130277633667 seconds.\n",
      "[0.5209489746519987, 0.47490710290199883]\n"
     ]
    },
    {
     "name": "stderr",
     "output_type": "stream",
     "text": [
      "Initial filtering of formulas: 100%|█████████████| 2/2 [00:00<00:00, 135.38it/s]\n",
      "Computing chunks: 100%|████████████████████████| 2/2 [00:00<00:00, 13957.75it/s]\n",
      "Splitting the experimental spectrum into chunks: 55902it [00:00, 2835530.08it/s]\n",
      "Deconvolving chunks: 100%|████████████████████████| 1/1 [00:36<00:00, 36.58s/it]\n"
     ]
    },
    {
     "name": "stdout",
     "output_type": "stream",
     "text": [
      "Estimation for 0.21000000000000002 and 0.19 done\n",
      "It took: 36.65443563461304 seconds.\n",
      "[0.5207073095229988, 0.47496588710899884]\n"
     ]
    },
    {
     "name": "stderr",
     "output_type": "stream",
     "text": [
      "Initial filtering of formulas: 100%|█████████████| 2/2 [00:00<00:00, 133.68it/s]\n",
      "Computing chunks: 100%|████████████████████████| 2/2 [00:00<00:00, 37786.52it/s]\n",
      "Splitting the experimental spectrum into chunks: 55902it [00:00, 2941943.84it/s]\n",
      "Deconvolving chunks: 100%|████████████████████████| 1/1 [00:36<00:00, 36.15s/it]\n"
     ]
    },
    {
     "name": "stdout",
     "output_type": "stream",
     "text": [
      "Estimation for 0.21000000000000002 and 0.2 done\n",
      "It took: 36.224541902542114 seconds.\n",
      "[0.5202276694999988, 0.47509448869099885]\n"
     ]
    },
    {
     "name": "stderr",
     "output_type": "stream",
     "text": [
      "Initial filtering of formulas: 100%|█████████████| 2/2 [00:00<00:00, 142.65it/s]\n",
      "Computing chunks: 100%|████████████████████████| 2/2 [00:00<00:00, 44620.26it/s]\n",
      "Splitting the experimental spectrum into chunks: 55902it [00:00, 2910971.01it/s]\n",
      "Deconvolving chunks: 100%|████████████████████████| 1/1 [00:37<00:00, 37.38s/it]\n"
     ]
    },
    {
     "name": "stdout",
     "output_type": "stream",
     "text": [
      "Estimation for 0.21000000000000002 and 0.21000000000000002 done\n",
      "It took: 37.46256351470947 seconds.\n",
      "[0.5196887617239988, 0.4753220379979988]\n"
     ]
    },
    {
     "name": "stderr",
     "output_type": "stream",
     "text": [
      "Initial filtering of formulas: 100%|█████████████| 2/2 [00:00<00:00, 113.32it/s]\n",
      "Computing chunks: 100%|████████████████████████| 2/2 [00:00<00:00, 70492.50it/s]\n",
      "Splitting the experimental spectrum into chunks: 55902it [00:00, 2507485.80it/s]\n",
      "Deconvolving chunks: 100%|████████████████████████| 1/1 [00:49<00:00, 49.44s/it]\n"
     ]
    },
    {
     "name": "stdout",
     "output_type": "stream",
     "text": [
      "Estimation for 0.21000000000000002 and 0.22 done\n",
      "It took: 49.539066791534424 seconds.\n",
      "[0.5194397862159987, 0.4753998369729988]\n"
     ]
    },
    {
     "name": "stderr",
     "output_type": "stream",
     "text": [
      "Initial filtering of formulas: 100%|█████████████| 2/2 [00:00<00:00, 126.31it/s]\n",
      "Computing chunks: 100%|████████████████████████| 2/2 [00:00<00:00, 59493.67it/s]\n",
      "Splitting the experimental spectrum into chunks: 55902it [00:00, 2543692.92it/s]\n",
      "Deconvolving chunks: 100%|████████████████████████| 1/1 [00:39<00:00, 39.36s/it]\n"
     ]
    },
    {
     "name": "stdout",
     "output_type": "stream",
     "text": [
      "Estimation for 0.21000000000000002 and 0.23 done\n",
      "It took: 39.44621539115906 seconds.\n",
      "[0.5192254245339988, 0.47542534026999883]\n"
     ]
    },
    {
     "name": "stderr",
     "output_type": "stream",
     "text": [
      "Initial filtering of formulas: 100%|█████████████| 2/2 [00:00<00:00, 139.83it/s]\n",
      "Computing chunks: 100%|████████████████████████| 2/2 [00:00<00:00, 45590.26it/s]\n",
      "Splitting the experimental spectrum into chunks: 55902it [00:00, 3002368.68it/s]\n",
      "Deconvolving chunks: 100%|████████████████████████| 1/1 [00:36<00:00, 36.10s/it]\n"
     ]
    },
    {
     "name": "stdout",
     "output_type": "stream",
     "text": [
      "Estimation for 0.21000000000000002 and 0.24000000000000002 done\n",
      "It took: 36.17877388000488 seconds.\n",
      "[0.5190915130909988, 0.4754244463949988]\n"
     ]
    },
    {
     "name": "stderr",
     "output_type": "stream",
     "text": [
      "Initial filtering of formulas: 100%|█████████████| 2/2 [00:00<00:00, 139.99it/s]\n",
      "Computing chunks: 100%|████████████████████████| 2/2 [00:00<00:00, 44858.87it/s]\n",
      "Splitting the experimental spectrum into chunks: 55902it [00:00, 2506842.39it/s]\n",
      "Deconvolving chunks: 100%|████████████████████████| 1/1 [00:36<00:00, 36.92s/it]\n"
     ]
    },
    {
     "name": "stdout",
     "output_type": "stream",
     "text": [
      "Estimation for 0.21000000000000002 and 0.25 done\n",
      "It took: 36.991743087768555 seconds.\n",
      "[0.5188279536819987, 0.47549009236799883]\n"
     ]
    },
    {
     "name": "stderr",
     "output_type": "stream",
     "text": [
      "Initial filtering of formulas: 100%|█████████████| 2/2 [00:00<00:00, 137.59it/s]\n",
      "Computing chunks: 100%|████████████████████████| 2/2 [00:00<00:00, 71697.50it/s]\n",
      "Splitting the experimental spectrum into chunks: 55902it [00:00, 2927617.80it/s]\n",
      "Deconvolving chunks: 100%|████████████████████████| 1/1 [00:36<00:00, 36.22s/it]\n"
     ]
    },
    {
     "name": "stdout",
     "output_type": "stream",
     "text": [
      "Estimation for 0.21000000000000002 and 0.26 done\n",
      "It took: 36.2876296043396 seconds.\n",
      "[0.5185581017319988, 0.47556887998799885]\n"
     ]
    },
    {
     "name": "stderr",
     "output_type": "stream",
     "text": [
      "Initial filtering of formulas: 100%|█████████████| 2/2 [00:00<00:00, 127.84it/s]\n",
      "Computing chunks: 100%|████████████████████████| 2/2 [00:00<00:00, 67108.86it/s]\n",
      "Splitting the experimental spectrum into chunks: 55902it [00:00, 2794569.64it/s]\n",
      "Deconvolving chunks: 100%|████████████████████████| 1/1 [00:49<00:00, 49.58s/it]\n"
     ]
    },
    {
     "name": "stdout",
     "output_type": "stream",
     "text": [
      "Estimation for 0.21000000000000002 and 0.27 done\n",
      "It took: 49.658060789108276 seconds.\n",
      "[0.5182044122549988, 0.47574574041499884]\n"
     ]
    },
    {
     "name": "stderr",
     "output_type": "stream",
     "text": [
      "Initial filtering of formulas: 100%|█████████████| 2/2 [00:00<00:00, 127.85it/s]\n",
      "Computing chunks: 100%|████████████████████████| 2/2 [00:00<00:00, 65536.00it/s]\n",
      "Splitting the experimental spectrum into chunks: 55902it [00:00, 2429413.47it/s]\n",
      "Deconvolving chunks: 100%|████████████████████████| 1/1 [00:51<00:00, 51.00s/it]\n"
     ]
    },
    {
     "name": "stdout",
     "output_type": "stream",
     "text": [
      "Estimation for 0.21000000000000002 and 0.28 done\n",
      "It took: 51.1003360748291 seconds.\n",
      "[0.5180630837519988, 0.4757891122499988]\n"
     ]
    },
    {
     "name": "stderr",
     "output_type": "stream",
     "text": [
      "Initial filtering of formulas: 100%|█████████████| 2/2 [00:00<00:00, 124.98it/s]\n",
      "Computing chunks: 100%|████████████████████████| 2/2 [00:00<00:00, 57852.47it/s]\n",
      "Splitting the experimental spectrum into chunks: 55902it [00:00, 2711732.87it/s]\n",
      "Deconvolving chunks: 100%|████████████████████████| 1/1 [00:47<00:00, 47.78s/it]\n"
     ]
    },
    {
     "name": "stdout",
     "output_type": "stream",
     "text": [
      "Estimation for 0.21000000000000002 and 0.29000000000000004 done\n",
      "It took: 47.85802626609802 seconds.\n",
      "[0.5178810367149987, 0.47579531823699883]\n"
     ]
    },
    {
     "name": "stderr",
     "output_type": "stream",
     "text": [
      "Initial filtering of formulas: 100%|█████████████| 2/2 [00:00<00:00, 140.52it/s]\n",
      "Computing chunks: 100%|████████████████████████| 2/2 [00:00<00:00, 90200.09it/s]\n",
      "Splitting the experimental spectrum into chunks: 55902it [00:00, 2550333.19it/s]\n",
      "Deconvolving chunks: 100%|████████████████████████| 1/1 [00:36<00:00, 36.99s/it]\n"
     ]
    },
    {
     "name": "stdout",
     "output_type": "stream",
     "text": [
      "Estimation for 0.21000000000000002 and 0.3 done\n",
      "It took: 37.06848859786987 seconds.\n",
      "[0.5174580783959988, 0.47583836024299886]\n"
     ]
    },
    {
     "name": "stderr",
     "output_type": "stream",
     "text": [
      "Initial filtering of formulas: 100%|█████████████| 2/2 [00:00<00:00, 133.81it/s]\n",
      "Computing chunks: 100%|████████████████████████| 2/2 [00:00<00:00, 40329.85it/s]\n",
      "Splitting the experimental spectrum into chunks: 55902it [00:00, 2965159.43it/s]\n",
      "Deconvolving chunks: 100%|████████████████████████| 1/1 [00:41<00:00, 41.79s/it]\n"
     ]
    },
    {
     "name": "stdout",
     "output_type": "stream",
     "text": [
      "Estimation for 0.22 and 0.01 done\n",
      "It took: 41.86348748207092 seconds.\n",
      "[0.5129707555559988, 0.48602488120599885]\n"
     ]
    },
    {
     "name": "stderr",
     "output_type": "stream",
     "text": [
      "Initial filtering of formulas: 100%|█████████████| 2/2 [00:00<00:00, 142.05it/s]\n",
      "Computing chunks: 100%|████████████████████████| 2/2 [00:00<00:00, 99864.38it/s]\n",
      "Splitting the experimental spectrum into chunks: 55902it [00:00, 2998375.71it/s]\n",
      "Deconvolving chunks: 100%|████████████████████████| 1/1 [00:36<00:00, 36.61s/it]\n"
     ]
    },
    {
     "name": "stdout",
     "output_type": "stream",
     "text": [
      "Estimation for 0.22 and 0.02 done\n",
      "It took: 36.67645239830017 seconds.\n",
      "[0.5178699741669988, 0.4809184699019988]\n"
     ]
    },
    {
     "name": "stderr",
     "output_type": "stream",
     "text": [
      "Initial filtering of formulas: 100%|█████████████| 2/2 [00:00<00:00, 143.66it/s]\n",
      "Computing chunks: 100%|████████████████████████| 2/2 [00:00<00:00, 96420.78it/s]\n",
      "Splitting the experimental spectrum into chunks: 55902it [00:00, 3048945.18it/s]\n",
      "Deconvolving chunks: 100%|████████████████████████| 1/1 [00:44<00:00, 44.68s/it]\n"
     ]
    },
    {
     "name": "stdout",
     "output_type": "stream",
     "text": [
      "Estimation for 0.22 and 0.03 done\n",
      "It took: 44.75877237319946 seconds.\n",
      "[0.5206147347289988, 0.47773487743899884]\n"
     ]
    },
    {
     "name": "stderr",
     "output_type": "stream",
     "text": [
      "Initial filtering of formulas: 100%|██████████████| 2/2 [00:00<00:00, 82.47it/s]\n",
      "Computing chunks: 100%|████████████████████████| 2/2 [00:00<00:00, 36631.48it/s]\n",
      "Splitting the experimental spectrum into chunks: 55902it [00:00, 1964475.57it/s]\n",
      "Deconvolving chunks: 100%|████████████████████████| 1/1 [00:49<00:00, 49.80s/it]\n"
     ]
    },
    {
     "name": "stdout",
     "output_type": "stream",
     "text": [
      "Estimation for 0.22 and 0.04 done\n",
      "It took: 49.91593408584595 seconds.\n",
      "[0.5225903999469987, 0.47509226498199886]\n"
     ]
    },
    {
     "name": "stderr",
     "output_type": "stream",
     "text": [
      "Initial filtering of formulas: 100%|█████████████| 2/2 [00:00<00:00, 115.16it/s]\n",
      "Computing chunks: 100%|████████████████████████| 2/2 [00:00<00:00, 32263.88it/s]\n",
      "Splitting the experimental spectrum into chunks: 55902it [00:00, 2405017.67it/s]\n",
      "Deconvolving chunks: 100%|████████████████████████| 1/1 [00:42<00:00, 42.82s/it]\n"
     ]
    },
    {
     "name": "stdout",
     "output_type": "stream",
     "text": [
      "Estimation for 0.22 and 0.05 done\n",
      "It took: 42.91349792480469 seconds.\n",
      "[0.5228813106439987, 0.47441302252999884]\n"
     ]
    },
    {
     "name": "stderr",
     "output_type": "stream",
     "text": [
      "Initial filtering of formulas: 100%|█████████████| 2/2 [00:00<00:00, 141.05it/s]\n",
      "Computing chunks: 100%|████████████████████████| 2/2 [00:00<00:00, 98689.51it/s]\n",
      "Splitting the experimental spectrum into chunks: 55902it [00:00, 2851184.18it/s]\n",
      "Deconvolving chunks: 100%|████████████████████████| 1/1 [00:39<00:00, 39.89s/it]\n"
     ]
    },
    {
     "name": "stdout",
     "output_type": "stream",
     "text": [
      "Estimation for 0.22 and 0.060000000000000005 done\n",
      "It took: 39.96468687057495 seconds.\n",
      "[0.5227472300829986, 0.4741685212399988]\n"
     ]
    },
    {
     "name": "stderr",
     "output_type": "stream",
     "text": [
      "Initial filtering of formulas: 100%|█████████████| 2/2 [00:00<00:00, 141.75it/s]\n",
      "Computing chunks: 100%|████████████████████████| 2/2 [00:00<00:00, 93206.76it/s]\n",
      "Splitting the experimental spectrum into chunks: 55902it [00:00, 2550666.11it/s]\n",
      "Deconvolving chunks: 100%|████████████████████████| 1/1 [00:38<00:00, 38.10s/it]\n"
     ]
    },
    {
     "name": "stdout",
     "output_type": "stream",
     "text": [
      "Estimation for 0.22 and 0.06999999999999999 done\n",
      "It took: 38.18167734146118 seconds.\n",
      "[0.5226817926139988, 0.47416017367299884]\n"
     ]
    },
    {
     "name": "stderr",
     "output_type": "stream",
     "text": [
      "Initial filtering of formulas: 100%|█████████████| 2/2 [00:00<00:00, 143.67it/s]\n",
      "Computing chunks: 100%|████████████████████████| 2/2 [00:00<00:00, 78398.21it/s]\n",
      "Splitting the experimental spectrum into chunks: 55902it [00:00, 2477650.55it/s]\n",
      "Deconvolving chunks: 100%|████████████████████████| 1/1 [00:37<00:00, 37.95s/it]\n"
     ]
    },
    {
     "name": "stdout",
     "output_type": "stream",
     "text": [
      "Estimation for 0.22 and 0.08 done\n",
      "It took: 38.02318048477173 seconds.\n",
      "[0.5225906729709988, 0.47411095362499883]\n"
     ]
    },
    {
     "name": "stderr",
     "output_type": "stream",
     "text": [
      "Initial filtering of formulas: 100%|█████████████| 2/2 [00:00<00:00, 139.52it/s]\n",
      "Computing chunks: 100%|███████████████████████| 2/2 [00:00<00:00, 106184.91it/s]\n",
      "Splitting the experimental spectrum into chunks: 55902it [00:00, 2903581.12it/s]\n",
      "Deconvolving chunks: 100%|████████████████████████| 1/1 [00:37<00:00, 37.19s/it]\n"
     ]
    },
    {
     "name": "stdout",
     "output_type": "stream",
     "text": [
      "Estimation for 0.22 and 0.09 done\n",
      "It took: 37.26309370994568 seconds.\n",
      "[0.5226033821699988, 0.4740873708489988]\n"
     ]
    },
    {
     "name": "stderr",
     "output_type": "stream",
     "text": [
      "Initial filtering of formulas: 100%|█████████████| 2/2 [00:00<00:00, 145.03it/s]\n",
      "Computing chunks: 100%|████████████████████████| 2/2 [00:00<00:00, 97541.95it/s]\n",
      "Splitting the experimental spectrum into chunks: 55902it [00:00, 3013249.49it/s]\n",
      "Deconvolving chunks: 100%|████████████████████████| 1/1 [00:44<00:00, 44.83s/it]\n"
     ]
    },
    {
     "name": "stdout",
     "output_type": "stream",
     "text": [
      "Estimation for 0.22 and 0.09999999999999999 done\n",
      "It took: 44.906622886657715 seconds.\n",
      "[0.5226551350439987, 0.47402149605599886]\n"
     ]
    },
    {
     "name": "stderr",
     "output_type": "stream",
     "text": [
      "Initial filtering of formulas: 100%|█████████████| 2/2 [00:00<00:00, 105.82it/s]\n",
      "Computing chunks: 100%|████████████████████████| 2/2 [00:00<00:00, 29433.71it/s]\n",
      "Splitting the experimental spectrum into chunks: 55902it [00:00, 2406696.32it/s]\n",
      "Deconvolving chunks: 100%|████████████████████████| 1/1 [00:43<00:00, 43.32s/it]\n"
     ]
    },
    {
     "name": "stdout",
     "output_type": "stream",
     "text": [
      "Estimation for 0.22 and 0.11 done\n",
      "It took: 43.40852427482605 seconds.\n",
      "[0.5226694864979988, 0.47400418910799885]\n"
     ]
    },
    {
     "name": "stderr",
     "output_type": "stream",
     "text": [
      "Initial filtering of formulas: 100%|█████████████| 2/2 [00:00<00:00, 132.61it/s]\n",
      "Computing chunks: 100%|████████████████████████| 2/2 [00:00<00:00, 62137.84it/s]\n",
      "Splitting the experimental spectrum into chunks: 55902it [00:00, 2832207.74it/s]\n",
      "Deconvolving chunks: 100%|████████████████████████| 1/1 [00:37<00:00, 37.79s/it]\n"
     ]
    },
    {
     "name": "stdout",
     "output_type": "stream",
     "text": [
      "Estimation for 0.22 and 0.12 done\n",
      "It took: 37.86185574531555 seconds.\n",
      "[0.5225694283239988, 0.4740336156569988]\n"
     ]
    },
    {
     "name": "stderr",
     "output_type": "stream",
     "text": [
      "Initial filtering of formulas: 100%|█████████████| 2/2 [00:00<00:00, 137.03it/s]\n",
      "Computing chunks: 100%|████████████████████████| 2/2 [00:00<00:00, 88301.14it/s]\n",
      "Splitting the experimental spectrum into chunks: 55902it [00:00, 2948380.79it/s]\n",
      "Deconvolving chunks: 100%|████████████████████████| 1/1 [00:35<00:00, 35.31s/it]\n"
     ]
    },
    {
     "name": "stdout",
     "output_type": "stream",
     "text": [
      "Estimation for 0.22 and 0.13 done\n",
      "It took: 35.38650679588318 seconds.\n",
      "[0.5223971895169988, 0.47411358501799883]\n"
     ]
    },
    {
     "name": "stderr",
     "output_type": "stream",
     "text": [
      "Initial filtering of formulas: 100%|█████████████| 2/2 [00:00<00:00, 138.29it/s]\n",
      "Computing chunks: 100%|████████████████████████| 2/2 [00:00<00:00, 93206.76it/s]\n",
      "Splitting the experimental spectrum into chunks: 55902it [00:00, 2889625.38it/s]\n",
      "Deconvolving chunks: 100%|████████████████████████| 1/1 [00:36<00:00, 36.31s/it]\n"
     ]
    },
    {
     "name": "stdout",
     "output_type": "stream",
     "text": [
      "Estimation for 0.22 and 0.14 done\n",
      "It took: 36.37935423851013 seconds.\n",
      "[0.5221433644069988, 0.47426084823899883]\n"
     ]
    },
    {
     "name": "stderr",
     "output_type": "stream",
     "text": [
      "Initial filtering of formulas: 100%|█████████████| 2/2 [00:00<00:00, 139.81it/s]\n",
      "Computing chunks: 100%|████████████████████████| 2/2 [00:00<00:00, 24036.13it/s]\n",
      "Splitting the experimental spectrum into chunks: 55902it [00:00, 2965496.95it/s]\n",
      "Deconvolving chunks: 100%|████████████████████████| 1/1 [00:36<00:00, 36.45s/it]\n"
     ]
    },
    {
     "name": "stdout",
     "output_type": "stream",
     "text": [
      "Estimation for 0.22 and 0.15000000000000002 done\n",
      "It took: 36.52089309692383 seconds.\n",
      "[0.5219226659199988, 0.47438570507699884]\n"
     ]
    },
    {
     "name": "stderr",
     "output_type": "stream",
     "text": [
      "Initial filtering of formulas: 100%|█████████████| 2/2 [00:00<00:00, 144.69it/s]\n",
      "Computing chunks: 100%|████████████████████████| 2/2 [00:00<00:00, 97541.95it/s]\n",
      "Splitting the experimental spectrum into chunks: 55902it [00:00, 3073283.03it/s]\n",
      "Deconvolving chunks: 100%|████████████████████████| 1/1 [00:56<00:00, 56.06s/it]\n"
     ]
    },
    {
     "name": "stdout",
     "output_type": "stream",
     "text": [
      "Estimation for 0.22 and 0.16 done\n",
      "It took: 56.13909888267517 seconds.\n",
      "[0.5217515901319988, 0.4744933265949988]\n"
     ]
    },
    {
     "name": "stderr",
     "output_type": "stream",
     "text": [
      "Initial filtering of formulas: 100%|█████████████| 2/2 [00:00<00:00, 109.25it/s]\n",
      "Computing chunks: 100%|████████████████████████| 2/2 [00:00<00:00, 56679.78it/s]\n",
      "Splitting the experimental spectrum into chunks: 55902it [00:00, 2211229.98it/s]\n",
      "Deconvolving chunks: 100%|████████████████████████| 1/1 [00:37<00:00, 37.07s/it]\n"
     ]
    },
    {
     "name": "stdout",
     "output_type": "stream",
     "text": [
      "Estimation for 0.22 and 0.17 done\n",
      "It took: 37.1628782749176 seconds.\n",
      "[0.5216751273609987, 0.4745361694549988]\n"
     ]
    },
    {
     "name": "stderr",
     "output_type": "stream",
     "text": [
      "Initial filtering of formulas: 100%|█████████████| 2/2 [00:00<00:00, 144.70it/s]\n",
      "Computing chunks: 100%|████████████████████████| 2/2 [00:00<00:00, 97541.95it/s]\n",
      "Splitting the experimental spectrum into chunks: 55902it [00:00, 3102562.85it/s]\n",
      "Deconvolving chunks: 100%|████████████████████████| 1/1 [00:41<00:00, 41.83s/it]\n"
     ]
    },
    {
     "name": "stdout",
     "output_type": "stream",
     "text": [
      "Estimation for 0.22 and 0.18000000000000002 done\n",
      "It took: 41.89490485191345 seconds.\n",
      "[0.5214791403499988, 0.4746083365509988]\n"
     ]
    },
    {
     "name": "stderr",
     "output_type": "stream",
     "text": [
      "Initial filtering of formulas: 100%|█████████████| 2/2 [00:00<00:00, 150.89it/s]\n",
      "Computing chunks: 100%|████████████████████████| 2/2 [00:00<00:00, 68759.08it/s]\n",
      "Splitting the experimental spectrum into chunks: 55902it [00:00, 3053153.58it/s]\n",
      "Deconvolving chunks: 100%|████████████████████████| 1/1 [00:37<00:00, 37.35s/it]\n"
     ]
    },
    {
     "name": "stdout",
     "output_type": "stream",
     "text": [
      "Estimation for 0.22 and 0.19 done\n",
      "It took: 37.42219138145447 seconds.\n",
      "[0.5212642787749988, 0.47470363563999884]\n"
     ]
    },
    {
     "name": "stderr",
     "output_type": "stream",
     "text": [
      "Initial filtering of formulas: 100%|█████████████| 2/2 [00:00<00:00, 142.66it/s]\n",
      "Computing chunks: 100%|████████████████████████| 2/2 [00:00<00:00, 95325.09it/s]\n",
      "Splitting the experimental spectrum into chunks: 55902it [00:00, 2742884.34it/s]\n",
      "Deconvolving chunks: 100%|████████████████████████| 1/1 [00:36<00:00, 36.95s/it]\n"
     ]
    },
    {
     "name": "stdout",
     "output_type": "stream",
     "text": [
      "Estimation for 0.22 and 0.2 done\n",
      "It took: 37.02539896965027 seconds.\n",
      "[0.5210490687309988, 0.47480843598399886]\n"
     ]
    },
    {
     "name": "stderr",
     "output_type": "stream",
     "text": [
      "Initial filtering of formulas: 100%|█████████████| 2/2 [00:00<00:00, 137.43it/s]\n",
      "Computing chunks: 100%|████████████████████████| 2/2 [00:00<00:00, 68200.07it/s]\n",
      "Splitting the experimental spectrum into chunks: 55902it [00:00, 2882307.89it/s]\n",
      "Deconvolving chunks: 100%|████████████████████████| 1/1 [00:45<00:00, 45.70s/it]\n"
     ]
    },
    {
     "name": "stdout",
     "output_type": "stream",
     "text": [
      "Estimation for 0.22 and 0.21000000000000002 done\n",
      "It took: 45.77462673187256 seconds.\n",
      "[0.5207485096149987, 0.47489831517799885]\n"
     ]
    },
    {
     "name": "stderr",
     "output_type": "stream",
     "text": [
      "Initial filtering of formulas: 100%|█████████████| 2/2 [00:00<00:00, 127.19it/s]\n",
      "Computing chunks: 100%|████████████████████████| 2/2 [00:00<00:00, 51781.53it/s]\n",
      "Splitting the experimental spectrum into chunks: 55902it [00:00, 2280414.93it/s]\n",
      "Deconvolving chunks: 100%|████████████████████████| 1/1 [00:42<00:00, 42.26s/it]\n"
     ]
    },
    {
     "name": "stdout",
     "output_type": "stream",
     "text": [
      "Estimation for 0.22 and 0.22 done\n",
      "It took: 42.35134935379028 seconds.\n",
      "[0.5201923501289988, 0.47509499286299883]\n"
     ]
    },
    {
     "name": "stderr",
     "output_type": "stream",
     "text": [
      "Initial filtering of formulas: 100%|█████████████| 2/2 [00:00<00:00, 143.35it/s]\n",
      "Computing chunks: 100%|████████████████████████| 2/2 [00:00<00:00, 96420.78it/s]\n",
      "Splitting the experimental spectrum into chunks: 55902it [00:00, 3071310.45it/s]\n",
      "Deconvolving chunks: 100%|████████████████████████| 1/1 [00:36<00:00, 36.47s/it]\n"
     ]
    },
    {
     "name": "stdout",
     "output_type": "stream",
     "text": [
      "Estimation for 0.22 and 0.23 done\n",
      "It took: 36.54138731956482 seconds.\n",
      "[0.5197277054749988, 0.4753063260229988]\n"
     ]
    },
    {
     "name": "stderr",
     "output_type": "stream",
     "text": [
      "Initial filtering of formulas: 100%|█████████████| 2/2 [00:00<00:00, 142.70it/s]\n",
      "Computing chunks: 100%|████████████████████████| 2/2 [00:00<00:00, 55188.21it/s]\n",
      "Splitting the experimental spectrum into chunks: 55902it [00:00, 2970531.37it/s]\n",
      "Deconvolving chunks: 100%|████████████████████████| 1/1 [00:36<00:00, 36.64s/it]\n"
     ]
    },
    {
     "name": "stdout",
     "output_type": "stream",
     "text": [
      "Estimation for 0.22 and 0.24000000000000002 done\n",
      "It took: 36.709959983825684 seconds.\n",
      "[0.5194842600889987, 0.47538069182399884]\n"
     ]
    },
    {
     "name": "stderr",
     "output_type": "stream",
     "text": [
      "Initial filtering of formulas: 100%|█████████████| 2/2 [00:00<00:00, 135.18it/s]\n",
      "Computing chunks: 100%|████████████████████████| 2/2 [00:00<00:00, 66576.25it/s]\n",
      "Splitting the experimental spectrum into chunks: 55902it [00:00, 2862986.22it/s]\n",
      "Deconvolving chunks: 100%|████████████████████████| 1/1 [00:35<00:00, 35.20s/it]\n"
     ]
    },
    {
     "name": "stdout",
     "output_type": "stream",
     "text": [
      "Estimation for 0.22 and 0.25 done\n",
      "It took: 35.2687828540802 seconds.\n",
      "[0.5192719427209987, 0.47543799099399886]\n"
     ]
    },
    {
     "name": "stderr",
     "output_type": "stream",
     "text": [
      "Initial filtering of formulas: 100%|█████████████| 2/2 [00:00<00:00, 141.67it/s]\n",
      "Computing chunks: 100%|████████████████████████| 2/2 [00:00<00:00, 93206.76it/s]\n",
      "Splitting the experimental spectrum into chunks: 55902it [00:00, 3033011.44it/s]\n",
      "Deconvolving chunks: 100%|████████████████████████| 1/1 [00:39<00:00, 39.25s/it]\n"
     ]
    },
    {
     "name": "stdout",
     "output_type": "stream",
     "text": [
      "Estimation for 0.22 and 0.26 done\n",
      "It took: 39.329553842544556 seconds.\n",
      "[0.5191423750249988, 0.4754299638339988]\n"
     ]
    },
    {
     "name": "stderr",
     "output_type": "stream",
     "text": [
      "Initial filtering of formulas: 100%|██████████████| 2/2 [00:00<00:00, 94.57it/s]\n",
      "Computing chunks: 100%|████████████████████████| 2/2 [00:00<00:00, 25575.02it/s]\n",
      "Splitting the experimental spectrum into chunks: 55902it [00:00, 1786478.79it/s]\n",
      "Deconvolving chunks: 100%|████████████████████████| 1/1 [00:51<00:00, 51.53s/it]\n"
     ]
    },
    {
     "name": "stdout",
     "output_type": "stream",
     "text": [
      "Estimation for 0.22 and 0.27 done\n",
      "It took: 51.641465187072754 seconds.\n",
      "[0.5189356941569988, 0.47546314996699884]\n"
     ]
    },
    {
     "name": "stderr",
     "output_type": "stream",
     "text": [
      "Initial filtering of formulas: 100%|█████████████| 2/2 [00:00<00:00, 120.62it/s]\n",
      "Computing chunks: 100%|████████████████████████| 2/2 [00:00<00:00, 49636.73it/s]\n",
      "Splitting the experimental spectrum into chunks: 55902it [00:00, 2301365.12it/s]\n",
      "Deconvolving chunks: 100%|████████████████████████| 1/1 [00:48<00:00, 48.14s/it]\n"
     ]
    },
    {
     "name": "stdout",
     "output_type": "stream",
     "text": [
      "Estimation for 0.22 and 0.28 done\n",
      "It took: 48.23181200027466 seconds.\n",
      "[0.5186350628109988, 0.47556263102299884]\n"
     ]
    },
    {
     "name": "stderr",
     "output_type": "stream",
     "text": [
      "Initial filtering of formulas: 100%|█████████████| 2/2 [00:00<00:00, 123.80it/s]\n",
      "Computing chunks: 100%|████████████████████████| 2/2 [00:00<00:00, 40136.88it/s]\n",
      "Splitting the experimental spectrum into chunks: 55902it [00:00, 2617787.40it/s]\n",
      "Deconvolving chunks: 100%|████████████████████████| 1/1 [00:39<00:00, 39.73s/it]\n"
     ]
    },
    {
     "name": "stdout",
     "output_type": "stream",
     "text": [
      "Estimation for 0.22 and 0.29000000000000004 done\n",
      "It took: 39.81087684631348 seconds.\n",
      "[0.5183088814249988, 0.47567114467599886]\n"
     ]
    },
    {
     "name": "stderr",
     "output_type": "stream",
     "text": [
      "Initial filtering of formulas: 100%|█████████████| 2/2 [00:00<00:00, 139.39it/s]\n",
      "Computing chunks: 100%|████████████████████████| 2/2 [00:00<00:00, 63550.06it/s]\n",
      "Splitting the experimental spectrum into chunks: 55902it [00:00, 2954399.18it/s]\n",
      "Deconvolving chunks: 100%|████████████████████████| 1/1 [00:37<00:00, 37.44s/it]\n"
     ]
    },
    {
     "name": "stdout",
     "output_type": "stream",
     "text": [
      "Estimation for 0.22 and 0.3 done\n",
      "It took: 37.512508153915405 seconds.\n",
      "[0.5183522745269987, 0.47543515141899884]\n"
     ]
    },
    {
     "name": "stderr",
     "output_type": "stream",
     "text": [
      "Initial filtering of formulas: 100%|█████████████| 2/2 [00:00<00:00, 139.75it/s]\n",
      "Computing chunks: 100%|████████████████████████| 2/2 [00:00<00:00, 86480.49it/s]\n",
      "Splitting the experimental spectrum into chunks: 55902it [00:00, 3004215.18it/s]\n",
      "Deconvolving chunks: 100%|████████████████████████| 1/1 [00:37<00:00, 37.63s/it]\n"
     ]
    },
    {
     "name": "stdout",
     "output_type": "stream",
     "text": [
      "Estimation for 0.23 and 0.01 done\n",
      "It took: 37.70090198516846 seconds.\n",
      "[0.5130380169299987, 0.4860902758619988]\n"
     ]
    },
    {
     "name": "stderr",
     "output_type": "stream",
     "text": [
      "Initial filtering of formulas: 100%|█████████████| 2/2 [00:00<00:00, 140.08it/s]\n",
      "Computing chunks: 100%|████████████████████████| 2/2 [00:00<00:00, 69905.07it/s]\n",
      "Splitting the experimental spectrum into chunks: 55902it [00:00, 2761947.18it/s]\n",
      "Deconvolving chunks: 100%|████████████████████████| 1/1 [00:36<00:00, 36.03s/it]\n"
     ]
    },
    {
     "name": "stdout",
     "output_type": "stream",
     "text": [
      "Estimation for 0.23 and 0.02 done\n",
      "It took: 36.103935956954956 seconds.\n",
      "[0.5181470537719988, 0.4807978102759988]\n"
     ]
    },
    {
     "name": "stderr",
     "output_type": "stream",
     "text": [
      "Initial filtering of formulas: 100%|█████████████| 2/2 [00:00<00:00, 143.57it/s]\n",
      "Computing chunks: 100%|████████████████████████| 2/2 [00:00<00:00, 94254.02it/s]\n",
      "Splitting the experimental spectrum into chunks: 55902it [00:00, 2959732.17it/s]\n",
      "Deconvolving chunks: 100%|████████████████████████| 1/1 [00:45<00:00, 45.32s/it]\n"
     ]
    },
    {
     "name": "stdout",
     "output_type": "stream",
     "text": [
      "Estimation for 0.23 and 0.03 done\n",
      "It took: 45.38887286186218 seconds.\n",
      "[0.5208995449219987, 0.47755289855599886]\n"
     ]
    },
    {
     "name": "stderr",
     "output_type": "stream",
     "text": [
      "Initial filtering of formulas: 100%|█████████████| 2/2 [00:00<00:00, 133.88it/s]\n",
      "Computing chunks: 100%|████████████████████████| 2/2 [00:00<00:00, 88301.14it/s]\n",
      "Splitting the experimental spectrum into chunks: 55902it [00:00, 2859703.90it/s]\n",
      "Deconvolving chunks: 100%|████████████████████████| 1/1 [00:42<00:00, 42.57s/it]\n"
     ]
    },
    {
     "name": "stdout",
     "output_type": "stream",
     "text": [
      "Estimation for 0.23 and 0.04 done\n",
      "It took: 42.645833253860474 seconds.\n",
      "[0.5227420755239987, 0.4750764870179988]\n"
     ]
    },
    {
     "name": "stderr",
     "output_type": "stream",
     "text": [
      "Initial filtering of formulas: 100%|█████████████| 2/2 [00:00<00:00, 139.26it/s]\n",
      "Computing chunks: 100%|████████████████████████| 2/2 [00:00<00:00, 97541.95it/s]\n",
      "Splitting the experimental spectrum into chunks: 55902it [00:00, 2954399.18it/s]\n",
      "Deconvolving chunks: 100%|████████████████████████| 1/1 [00:36<00:00, 36.96s/it]\n"
     ]
    },
    {
     "name": "stdout",
     "output_type": "stream",
     "text": [
      "Estimation for 0.23 and 0.05 done\n",
      "It took: 37.03248071670532 seconds.\n",
      "[0.5230605898669987, 0.4743786925949988]\n"
     ]
    },
    {
     "name": "stderr",
     "output_type": "stream",
     "text": [
      "Initial filtering of formulas: 100%|█████████████| 2/2 [00:00<00:00, 127.40it/s]\n",
      "Computing chunks: 100%|████████████████████████| 2/2 [00:00<00:00, 69905.07it/s]\n",
      "Splitting the experimental spectrum into chunks: 55902it [00:00, 2882095.31it/s]\n",
      "Deconvolving chunks: 100%|████████████████████████| 1/1 [00:37<00:00, 37.21s/it]\n"
     ]
    },
    {
     "name": "stdout",
     "output_type": "stream",
     "text": [
      "Estimation for 0.23 and 0.060000000000000005 done\n",
      "It took: 37.283583879470825 seconds.\n",
      "[0.5231962376479987, 0.47398614904899883]\n"
     ]
    },
    {
     "name": "stderr",
     "output_type": "stream",
     "text": [
      "Initial filtering of formulas: 100%|█████████████| 2/2 [00:00<00:00, 143.69it/s]\n",
      "Computing chunks: 100%|████████████████████████| 2/2 [00:00<00:00, 42799.02it/s]\n",
      "Splitting the experimental spectrum into chunks: 55902it [00:00, 3039577.67it/s]\n",
      "Deconvolving chunks: 100%|████████████████████████| 1/1 [00:38<00:00, 38.41s/it]\n"
     ]
    },
    {
     "name": "stdout",
     "output_type": "stream",
     "text": [
      "Estimation for 0.23 and 0.06999999999999999 done\n",
      "It took: 38.48390078544617 seconds.\n",
      "[0.5230103567749986, 0.47404997556499884]\n"
     ]
    },
    {
     "name": "stderr",
     "output_type": "stream",
     "text": [
      "Initial filtering of formulas: 100%|█████████████| 2/2 [00:00<00:00, 146.48it/s]\n",
      "Computing chunks: 100%|███████████████████████| 2/2 [00:00<00:00, 101067.57it/s]\n",
      "Splitting the experimental spectrum into chunks: 55902it [00:00, 3038592.90it/s]\n",
      "Deconvolving chunks: 100%|████████████████████████| 1/1 [00:44<00:00, 44.88s/it]\n"
     ]
    },
    {
     "name": "stdout",
     "output_type": "stream",
     "text": [
      "Estimation for 0.23 and 0.08 done\n",
      "It took: 44.9540536403656 seconds.\n",
      "[0.5230038938509987, 0.47398853809099883]\n"
     ]
    },
    {
     "name": "stderr",
     "output_type": "stream",
     "text": [
      "Initial filtering of formulas: 100%|█████████████| 2/2 [00:00<00:00, 127.35it/s]\n",
      "Computing chunks: 100%|████████████████████████| 2/2 [00:00<00:00, 71089.90it/s]\n",
      "Splitting the experimental spectrum into chunks: 55902it [00:00, 2499067.20it/s]\n",
      "Deconvolving chunks: 100%|████████████████████████| 1/1 [00:48<00:00, 48.07s/it]\n"
     ]
    },
    {
     "name": "stdout",
     "output_type": "stream",
     "text": [
      "Estimation for 0.23 and 0.09 done\n",
      "It took: 48.16476631164551 seconds.\n",
      "[0.5230023406589986, 0.47393294080899884]\n"
     ]
    },
    {
     "name": "stderr",
     "output_type": "stream",
     "text": [
      "Initial filtering of formulas: 100%|█████████████| 2/2 [00:00<00:00, 116.01it/s]\n",
      "Computing chunks: 100%|████████████████████████| 2/2 [00:00<00:00, 41734.37it/s]\n",
      "Splitting the experimental spectrum into chunks: 55902it [00:00, 2385394.65it/s]\n",
      "Deconvolving chunks: 100%|████████████████████████| 1/1 [00:53<00:00, 53.82s/it]\n"
     ]
    },
    {
     "name": "stdout",
     "output_type": "stream",
     "text": [
      "Estimation for 0.23 and 0.09999999999999999 done\n",
      "It took: 53.91422200202942 seconds.\n",
      "[0.5229421883619987, 0.47390735508799886]\n"
     ]
    },
    {
     "name": "stderr",
     "output_type": "stream",
     "text": [
      "Initial filtering of formulas: 100%|█████████████| 2/2 [00:00<00:00, 122.07it/s]\n",
      "Computing chunks: 100%|████████████████████████| 2/2 [00:00<00:00, 65027.97it/s]\n",
      "Splitting the experimental spectrum into chunks: 55902it [00:00, 2596595.56it/s]\n",
      "Deconvolving chunks: 100%|████████████████████████| 1/1 [00:58<00:00, 58.71s/it]\n"
     ]
    },
    {
     "name": "stdout",
     "output_type": "stream",
     "text": [
      "Estimation for 0.23 and 0.11 done\n",
      "It took: 58.79603910446167 seconds.\n",
      "[0.5229526722489987, 0.47385371343599886]\n"
     ]
    },
    {
     "name": "stderr",
     "output_type": "stream",
     "text": [
      "Initial filtering of formulas: 100%|█████████████| 2/2 [00:00<00:00, 125.46it/s]\n",
      "Computing chunks: 100%|████████████████████████| 2/2 [00:00<00:00, 35246.25it/s]\n",
      "Splitting the experimental spectrum into chunks: 55902it [00:00, 2609222.83it/s]\n",
      "Deconvolving chunks: 100%|████████████████████████| 1/1 [00:58<00:00, 58.29s/it]\n"
     ]
    },
    {
     "name": "stdout",
     "output_type": "stream",
     "text": [
      "Estimation for 0.23 and 0.12 done\n",
      "It took: 58.378746509552 seconds.\n",
      "[0.5229460226759987, 0.47382294738599884]\n"
     ]
    },
    {
     "name": "stderr",
     "output_type": "stream",
     "text": [
      "Initial filtering of formulas: 100%|█████████████| 2/2 [00:00<00:00, 129.11it/s]\n",
      "Computing chunks: 100%|████████████████████████| 2/2 [00:00<00:00, 34663.67it/s]\n",
      "Splitting the experimental spectrum into chunks: 55902it [00:00, 2577244.60it/s]\n",
      "Deconvolving chunks: 100%|████████████████████████| 1/1 [01:04<00:00, 64.61s/it]\n"
     ]
    },
    {
     "name": "stdout",
     "output_type": "stream",
     "text": [
      "Estimation for 0.23 and 0.13 done\n",
      "It took: 64.69721412658691 seconds.\n",
      "[0.5228826550209986, 0.47383243368899886]\n"
     ]
    },
    {
     "name": "stderr",
     "output_type": "stream",
     "text": [
      "Initial filtering of formulas: 100%|█████████████| 2/2 [00:00<00:00, 108.83it/s]\n",
      "Computing chunks: 100%|████████████████████████| 2/2 [00:00<00:00, 58661.59it/s]\n",
      "Splitting the experimental spectrum into chunks: 55902it [00:00, 2574330.06it/s]\n",
      "Deconvolving chunks: 100%|████████████████████████| 1/1 [00:48<00:00, 48.71s/it]\n"
     ]
    },
    {
     "name": "stdout",
     "output_type": "stream",
     "text": [
      "Estimation for 0.23 and 0.14 done\n",
      "It took: 48.79593253135681 seconds.\n",
      "[0.5226919205999988, 0.4739444297179988]\n"
     ]
    },
    {
     "name": "stderr",
     "output_type": "stream",
     "text": [
      "Initial filtering of formulas: 100%|█████████████| 2/2 [00:00<00:00, 116.78it/s]\n",
      "Computing chunks: 100%|████████████████████████| 2/2 [00:00<00:00, 27147.60it/s]\n",
      "Splitting the experimental spectrum into chunks: 55902it [00:00, 2347987.00it/s]\n",
      "Deconvolving chunks: 100%|████████████████████████| 1/1 [00:44<00:00, 44.53s/it]\n"
     ]
    },
    {
     "name": "stdout",
     "output_type": "stream",
     "text": [
      "Estimation for 0.23 and 0.15000000000000002 done\n",
      "It took: 44.62411403656006 seconds.\n",
      "[0.5225231804629987, 0.4740585528829988]\n"
     ]
    },
    {
     "name": "stderr",
     "output_type": "stream",
     "text": [
      "Initial filtering of formulas: 100%|█████████████| 2/2 [00:00<00:00, 134.91it/s]\n",
      "Computing chunks: 100%|████████████████████████| 2/2 [00:00<00:00, 95325.09it/s]\n",
      "Splitting the experimental spectrum into chunks: 55902it [00:00, 2899165.16it/s]\n",
      "Deconvolving chunks: 100%|████████████████████████| 1/1 [00:40<00:00, 40.93s/it]\n"
     ]
    },
    {
     "name": "stdout",
     "output_type": "stream",
     "text": [
      "Estimation for 0.23 and 0.16 done\n",
      "It took: 41.00595283508301 seconds.\n",
      "[0.5222721627979988, 0.4742066719449988]\n"
     ]
    },
    {
     "name": "stderr",
     "output_type": "stream",
     "text": [
      "Initial filtering of formulas: 100%|█████████████| 2/2 [00:00<00:00, 138.12it/s]\n",
      "Computing chunks: 100%|███████████████████████| 2/2 [00:00<00:00, 102300.10it/s]\n",
      "Splitting the experimental spectrum into chunks: 55902it [00:00, 2967561.25it/s]\n",
      "Deconvolving chunks: 100%|████████████████████████| 1/1 [00:36<00:00, 36.52s/it]\n"
     ]
    },
    {
     "name": "stdout",
     "output_type": "stream",
     "text": [
      "Estimation for 0.23 and 0.17 done\n",
      "It took: 36.59186410903931 seconds.\n",
      "[0.5220575021919988, 0.47432316735299884]\n"
     ]
    },
    {
     "name": "stderr",
     "output_type": "stream",
     "text": [
      "Initial filtering of formulas: 100%|█████████████| 2/2 [00:00<00:00, 134.87it/s]\n",
      "Computing chunks: 100%|████████████████████████| 2/2 [00:00<00:00, 43464.29it/s]\n",
      "Splitting the experimental spectrum into chunks: 55902it [00:00, 2989735.19it/s]\n",
      "Deconvolving chunks: 100%|████████████████████████| 1/1 [00:35<00:00, 35.42s/it]\n"
     ]
    },
    {
     "name": "stdout",
     "output_type": "stream",
     "text": [
      "Estimation for 0.23 and 0.18000000000000002 done\n",
      "It took: 35.49047660827637 seconds.\n",
      "[0.5218683568089988, 0.47439631832799883]\n"
     ]
    },
    {
     "name": "stderr",
     "output_type": "stream",
     "text": [
      "Initial filtering of formulas: 100%|█████████████| 2/2 [00:00<00:00, 146.85it/s]\n",
      "Computing chunks: 100%|███████████████████████| 2/2 [00:00<00:00, 106184.91it/s]\n",
      "Splitting the experimental spectrum into chunks: 55902it [00:00, 3024911.72it/s]\n",
      "Deconvolving chunks: 100%|████████████████████████| 1/1 [00:42<00:00, 42.97s/it]\n"
     ]
    },
    {
     "name": "stdout",
     "output_type": "stream",
     "text": [
      "Estimation for 0.23 and 0.19 done\n",
      "It took: 43.041813135147095 seconds.\n",
      "[0.5217708245059988, 0.47442943781599883]\n"
     ]
    },
    {
     "name": "stderr",
     "output_type": "stream",
     "text": [
      "Initial filtering of formulas: 100%|██████████████| 2/2 [00:00<00:00, 90.40it/s]\n",
      "Computing chunks: 100%|████████████████████████| 2/2 [00:00<00:00, 55924.05it/s]\n",
      "Splitting the experimental spectrum into chunks: 55902it [00:00, 2085976.19it/s]\n",
      "Deconvolving chunks: 100%|████████████████████████| 1/1 [00:51<00:00, 51.46s/it]\n"
     ]
    },
    {
     "name": "stdout",
     "output_type": "stream",
     "text": [
      "Estimation for 0.23 and 0.2 done\n",
      "It took: 51.56899285316467 seconds.\n",
      "[0.5215827798339988, 0.47450632757499883]\n"
     ]
    },
    {
     "name": "stderr",
     "output_type": "stream",
     "text": [
      "Initial filtering of formulas: 100%|█████████████| 2/2 [00:00<00:00, 122.31it/s]\n",
      "Computing chunks: 100%|████████████████████████| 2/2 [00:00<00:00, 49056.19it/s]\n",
      "Splitting the experimental spectrum into chunks: 55902it [00:00, 2438078.22it/s]\n",
      "Deconvolving chunks: 100%|████████████████████████| 1/1 [00:47<00:00, 47.52s/it]\n"
     ]
    },
    {
     "name": "stdout",
     "output_type": "stream",
     "text": [
      "Estimation for 0.23 and 0.21000000000000002 done\n",
      "It took: 47.60528302192688 seconds.\n",
      "[0.5213413682949988, 0.4746371768589988]\n"
     ]
    },
    {
     "name": "stderr",
     "output_type": "stream",
     "text": [
      "Initial filtering of formulas: 100%|█████████████| 2/2 [00:00<00:00, 126.57it/s]\n",
      "Computing chunks: 100%|████████████████████████| 2/2 [00:00<00:00, 65536.00it/s]\n",
      "Splitting the experimental spectrum into chunks: 55902it [00:00, 2752479.69it/s]\n",
      "Deconvolving chunks: 100%|████████████████████████| 1/1 [00:36<00:00, 36.87s/it]\n"
     ]
    },
    {
     "name": "stdout",
     "output_type": "stream",
     "text": [
      "Estimation for 0.23 and 0.22 done\n",
      "It took: 36.944642305374146 seconds.\n",
      "[0.5210941424179988, 0.47476205745999883]\n"
     ]
    },
    {
     "name": "stderr",
     "output_type": "stream",
     "text": [
      "Initial filtering of formulas: 100%|█████████████| 2/2 [00:00<00:00, 117.51it/s]\n",
      "Computing chunks: 100%|████████████████████████| 2/2 [00:00<00:00, 44150.57it/s]\n",
      "Splitting the experimental spectrum into chunks: 55902it [00:00, 2538817.83it/s]\n",
      "Deconvolving chunks: 100%|████████████████████████| 1/1 [00:37<00:00, 37.22s/it]\n"
     ]
    },
    {
     "name": "stdout",
     "output_type": "stream",
     "text": [
      "Estimation for 0.23 and 0.23 done\n",
      "It took: 37.302438259124756 seconds.\n",
      "[0.5207644884299988, 0.47488499242199883]\n"
     ]
    },
    {
     "name": "stderr",
     "output_type": "stream",
     "text": [
      "Initial filtering of formulas: 100%|█████████████| 2/2 [00:00<00:00, 143.94it/s]\n",
      "Computing chunks: 100%|████████████████████████| 2/2 [00:00<00:00, 43690.67it/s]\n",
      "Splitting the experimental spectrum into chunks: 55902it [00:00, 2958723.77it/s]\n",
      "Deconvolving chunks: 100%|████████████████████████| 1/1 [00:36<00:00, 36.29s/it]\n"
     ]
    },
    {
     "name": "stdout",
     "output_type": "stream",
     "text": [
      "Estimation for 0.23 and 0.24000000000000002 done\n",
      "It took: 36.3597252368927 seconds.\n",
      "[0.5202598849319988, 0.47506636604999886]\n"
     ]
    },
    {
     "name": "stderr",
     "output_type": "stream",
     "text": [
      "Initial filtering of formulas: 100%|█████████████| 2/2 [00:00<00:00, 142.48it/s]\n",
      "Computing chunks: 100%|████████████████████████| 2/2 [00:00<00:00, 64035.18it/s]\n",
      "Splitting the experimental spectrum into chunks: 55902it [00:00, 2955441.89it/s]\n",
      "Deconvolving chunks: 100%|████████████████████████| 1/1 [00:36<00:00, 36.28s/it]\n"
     ]
    },
    {
     "name": "stdout",
     "output_type": "stream",
     "text": [
      "Estimation for 0.23 and 0.25 done\n",
      "It took: 36.35414743423462 seconds.\n",
      "[0.5197906841749987, 0.47528791020199884]\n"
     ]
    },
    {
     "name": "stderr",
     "output_type": "stream",
     "text": [
      "Initial filtering of formulas: 100%|█████████████| 2/2 [00:00<00:00, 141.50it/s]\n",
      "Computing chunks: 100%|████████████████████████| 2/2 [00:00<00:00, 66576.25it/s]\n",
      "Splitting the experimental spectrum into chunks: 55902it [00:00, 3011043.82it/s]\n",
      "Deconvolving chunks: 100%|████████████████████████| 1/1 [00:43<00:00, 43.72s/it]\n"
     ]
    },
    {
     "name": "stdout",
     "output_type": "stream",
     "text": [
      "Estimation for 0.23 and 0.26 done\n",
      "It took: 43.79184913635254 seconds.\n",
      "[0.5195623210959988, 0.47536124307499883]\n"
     ]
    },
    {
     "name": "stderr",
     "output_type": "stream",
     "text": [
      "Initial filtering of formulas: 100%|█████████████| 2/2 [00:00<00:00, 122.07it/s]\n",
      "Computing chunks: 100%|████████████████████████| 2/2 [00:00<00:00, 34379.54it/s]\n",
      "Splitting the experimental spectrum into chunks: 55902it [00:00, 2203644.54it/s]\n",
      "Deconvolving chunks: 100%|███████████████████████| 1/1 [02:06<00:00, 126.46s/it]\n"
     ]
    },
    {
     "name": "stdout",
     "output_type": "stream",
     "text": [
      "Estimation for 0.23 and 0.27 done\n",
      "It took: 126.55615496635437 seconds.\n",
      "[0.5193449576329988, 0.47539740506699885]\n"
     ]
    },
    {
     "name": "stderr",
     "output_type": "stream",
     "text": [
      "Initial filtering of formulas: 100%|█████████████| 2/2 [00:00<00:00, 135.23it/s]\n",
      "Computing chunks: 100%|████████████████████████| 2/2 [00:00<00:00, 93206.76it/s]\n",
      "Splitting the experimental spectrum into chunks: 55902it [00:00, 2902143.56it/s]\n",
      "Deconvolving chunks: 100%|████████████████████████| 1/1 [00:43<00:00, 43.41s/it]\n"
     ]
    },
    {
     "name": "stdout",
     "output_type": "stream",
     "text": [
      "Estimation for 0.23 and 0.28 done\n",
      "It took: 43.48437762260437 seconds.\n",
      "[0.5191919787189988, 0.47541842785899885]\n"
     ]
    },
    {
     "name": "stderr",
     "output_type": "stream",
     "text": [
      "Initial filtering of formulas: 100%|█████████████| 2/2 [00:00<00:00, 138.23it/s]\n",
      "Computing chunks: 100%|████████████████████████| 2/2 [00:00<00:00, 89240.51it/s]\n",
      "Splitting the experimental spectrum into chunks: 55902it [00:00, 2929190.49it/s]\n",
      "Deconvolving chunks: 100%|████████████████████████| 1/1 [00:36<00:00, 36.16s/it]\n"
     ]
    },
    {
     "name": "stdout",
     "output_type": "stream",
     "text": [
      "Estimation for 0.23 and 0.29000000000000004 done\n",
      "It took: 36.23675274848938 seconds.\n",
      "[0.5190447775139988, 0.47543274658999884]\n"
     ]
    },
    {
     "name": "stderr",
     "output_type": "stream",
     "text": [
      "Initial filtering of formulas: 100%|█████████████| 2/2 [00:00<00:00, 142.79it/s]\n",
      "Computing chunks: 100%|████████████████████████| 2/2 [00:00<00:00, 99864.38it/s]\n",
      "Splitting the experimental spectrum into chunks: 55902it [00:00, 3017165.72it/s]\n",
      "Deconvolving chunks: 100%|████████████████████████| 1/1 [01:04<00:00, 64.05s/it]\n"
     ]
    },
    {
     "name": "stdout",
     "output_type": "stream",
     "text": [
      "Estimation for 0.23 and 0.3 done\n",
      "It took: 64.13094305992126 seconds.\n",
      "[0.5189151681129988, 0.4752338356909988]\n"
     ]
    },
    {
     "name": "stderr",
     "output_type": "stream",
     "text": [
      "Initial filtering of formulas: 100%|██████████████| 2/2 [00:00<00:00, 73.10it/s]\n",
      "Computing chunks: 100%|████████████████████████| 2/2 [00:00<00:00, 17772.47it/s]\n",
      "Splitting the experimental spectrum into chunks: 55902it [00:00, 1799752.70it/s]\n",
      "Deconvolving chunks: 100%|████████████████████████| 1/1 [01:02<00:00, 62.76s/it]\n"
     ]
    },
    {
     "name": "stdout",
     "output_type": "stream",
     "text": [
      "Estimation for 0.24000000000000002 and 0.01 done\n",
      "It took: 62.886051177978516 seconds.\n",
      "[0.5130098289369988, 0.48622669427599885]\n"
     ]
    },
    {
     "name": "stderr",
     "output_type": "stream",
     "text": [
      "Initial filtering of formulas: 100%|██████████████| 2/2 [00:00<00:00, 74.14it/s]\n",
      "Computing chunks: 100%|████████████████████████| 2/2 [00:00<00:00, 33026.02it/s]\n",
      "Splitting the experimental spectrum into chunks: 55902it [00:00, 1700820.29it/s]\n",
      "Deconvolving chunks: 100%|████████████████████████| 1/1 [00:53<00:00, 53.86s/it]\n"
     ]
    },
    {
     "name": "stdout",
     "output_type": "stream",
     "text": [
      "Estimation for 0.24000000000000002 and 0.02 done\n",
      "It took: 53.96608924865723 seconds.\n",
      "[0.5182499789479987, 0.4807670767669988]\n"
     ]
    },
    {
     "name": "stderr",
     "output_type": "stream",
     "text": [
      "Initial filtering of formulas: 100%|█████████████| 2/2 [00:00<00:00, 121.35it/s]\n",
      "Computing chunks: 100%|████████████████████████| 2/2 [00:00<00:00, 77672.30it/s]\n",
      "Splitting the experimental spectrum into chunks: 55902it [00:00, 2520640.53it/s]\n",
      "Deconvolving chunks: 100%|████████████████████████| 1/1 [00:39<00:00, 39.13s/it]\n"
     ]
    },
    {
     "name": "stdout",
     "output_type": "stream",
     "text": [
      "Estimation for 0.24000000000000002 and 0.03 done\n",
      "It took: 39.214699268341064 seconds.\n",
      "[0.5211276349129987, 0.47741102787199885]\n"
     ]
    },
    {
     "name": "stderr",
     "output_type": "stream",
     "text": [
      "Initial filtering of formulas: 100%|█████████████| 2/2 [00:00<00:00, 134.47it/s]\n",
      "Computing chunks: 100%|████████████████████████| 2/2 [00:00<00:00, 84733.41it/s]\n",
      "Splitting the experimental spectrum into chunks: 55902it [00:00, 2901963.96it/s]\n",
      "Deconvolving chunks: 100%|████████████████████████| 1/1 [00:37<00:00, 37.96s/it]\n"
     ]
    },
    {
     "name": "stdout",
     "output_type": "stream",
     "text": [
      "Estimation for 0.24000000000000002 and 0.04 done\n",
      "It took: 38.0370454788208 seconds.\n",
      "[0.5226375242899988, 0.47529482097099884]\n"
     ]
    },
    {
     "name": "stderr",
     "output_type": "stream",
     "text": [
      "Initial filtering of formulas: 100%|█████████████| 2/2 [00:00<00:00, 135.22it/s]\n",
      "Computing chunks: 100%|████████████████████████| 2/2 [00:00<00:00, 76260.07it/s]\n",
      "Splitting the experimental spectrum into chunks: 55902it [00:00, 2553582.90it/s]\n",
      "Deconvolving chunks: 100%|████████████████████████| 1/1 [00:39<00:00, 39.55s/it]\n"
     ]
    },
    {
     "name": "stdout",
     "output_type": "stream",
     "text": [
      "Estimation for 0.24000000000000002 and 0.05 done\n",
      "It took: 39.62312912940979 seconds.\n",
      "[0.5232286705729987, 0.47432510348699886]\n"
     ]
    },
    {
     "name": "stderr",
     "output_type": "stream",
     "text": [
      "Initial filtering of formulas: 100%|█████████████| 2/2 [00:00<00:00, 121.59it/s]\n",
      "Computing chunks: 100%|████████████████████████| 2/2 [00:00<00:00, 88301.14it/s]\n",
      "Splitting the experimental spectrum into chunks: 55902it [00:00, 2759119.58it/s]\n",
      "Deconvolving chunks: 100%|████████████████████████| 1/1 [00:40<00:00, 40.70s/it]\n"
     ]
    },
    {
     "name": "stdout",
     "output_type": "stream",
     "text": [
      "Estimation for 0.24000000000000002 and 0.060000000000000005 done\n",
      "It took: 40.772215127944946 seconds.\n",
      "[0.5233587073229987, 0.47394976179599885]\n"
     ]
    },
    {
     "name": "stderr",
     "output_type": "stream",
     "text": [
      "Initial filtering of formulas: 100%|█████████████| 2/2 [00:00<00:00, 140.32it/s]\n",
      "Computing chunks: 100%|████████████████████████| 2/2 [00:00<00:00, 94254.02it/s]\n",
      "Splitting the experimental spectrum into chunks: 55902it [00:00, 2998529.09it/s]\n",
      "Deconvolving chunks: 100%|████████████████████████| 1/1 [00:48<00:00, 48.68s/it]\n"
     ]
    },
    {
     "name": "stdout",
     "output_type": "stream",
     "text": [
      "Estimation for 0.24000000000000002 and 0.06999999999999999 done\n",
      "It took: 48.75070786476135 seconds.\n",
      "[0.5233921917899986, 0.4738938186969988]\n"
     ]
    },
    {
     "name": "stderr",
     "output_type": "stream",
     "text": [
      "Initial filtering of formulas: 100%|█████████████| 2/2 [00:00<00:00, 123.73it/s]\n",
      "Computing chunks: 100%|████████████████████████| 2/2 [00:00<00:00, 60349.70it/s]\n",
      "Splitting the experimental spectrum into chunks: 55902it [00:00, 2417839.47it/s]\n",
      "Deconvolving chunks: 100%|████████████████████████| 1/1 [00:55<00:00, 55.68s/it]\n"
     ]
    },
    {
     "name": "stdout",
     "output_type": "stream",
     "text": [
      "Estimation for 0.24000000000000002 and 0.08 done\n",
      "It took: 55.772515535354614 seconds.\n",
      "[0.5234390188679987, 0.47382979774199885]\n"
     ]
    },
    {
     "name": "stderr",
     "output_type": "stream",
     "text": [
      "Initial filtering of formulas: 100%|█████████████| 2/2 [00:00<00:00, 131.43it/s]\n",
      "Computing chunks: 100%|████████████████████████| 2/2 [00:00<00:00, 86480.49it/s]\n",
      "Splitting the experimental spectrum into chunks: 55902it [00:00, 2786764.23it/s]\n",
      "Deconvolving chunks: 100%|████████████████████████| 1/1 [00:38<00:00, 38.02s/it]\n"
     ]
    },
    {
     "name": "stdout",
     "output_type": "stream",
     "text": [
      "Estimation for 0.24000000000000002 and 0.09 done\n",
      "It took: 38.09384512901306 seconds.\n",
      "[0.5234446146319987, 0.47378820690299883]\n"
     ]
    },
    {
     "name": "stderr",
     "output_type": "stream",
     "text": [
      "Initial filtering of formulas: 100%|█████████████| 2/2 [00:00<00:00, 138.98it/s]\n",
      "Computing chunks: 100%|████████████████████████| 2/2 [00:00<00:00, 71697.50it/s]\n",
      "Splitting the experimental spectrum into chunks: 55902it [00:00, 2988668.15it/s]\n",
      "Deconvolving chunks: 100%|████████████████████████| 1/1 [00:38<00:00, 38.09s/it]\n"
     ]
    },
    {
     "name": "stdout",
     "output_type": "stream",
     "text": [
      "Estimation for 0.24000000000000002 and 0.09999999999999999 done\n",
      "It took: 38.16398596763611 seconds.\n",
      "[0.5233039486739987, 0.47378347183299885]\n"
     ]
    },
    {
     "name": "stderr",
     "output_type": "stream",
     "text": [
      "Initial filtering of formulas: 100%|█████████████| 2/2 [00:00<00:00, 134.08it/s]\n",
      "Computing chunks: 100%|████████████████████████| 2/2 [00:00<00:00, 46345.90it/s]\n",
      "Splitting the experimental spectrum into chunks: 55902it [00:00, 2792140.31it/s]\n",
      "Deconvolving chunks: 100%|████████████████████████| 1/1 [00:35<00:00, 35.41s/it]\n"
     ]
    },
    {
     "name": "stdout",
     "output_type": "stream",
     "text": [
      "Estimation for 0.24000000000000002 and 0.11 done\n",
      "It took: 35.484888553619385 seconds.\n",
      "[0.5232717496439987, 0.4737264495929988]\n"
     ]
    },
    {
     "name": "stderr",
     "output_type": "stream",
     "text": [
      "Initial filtering of formulas: 100%|█████████████| 2/2 [00:00<00:00, 140.75it/s]\n",
      "Computing chunks: 100%|████████████████████████| 2/2 [00:00<00:00, 29852.70it/s]\n",
      "Splitting the experimental spectrum into chunks: 55902it [00:00, 3086065.29it/s]\n",
      "Deconvolving chunks: 100%|████████████████████████| 1/1 [00:35<00:00, 35.49s/it]\n"
     ]
    },
    {
     "name": "stdout",
     "output_type": "stream",
     "text": [
      "Estimation for 0.24000000000000002 and 0.12 done\n",
      "It took: 35.55844736099243 seconds.\n",
      "[0.5231783431479987, 0.4737157678619988]\n"
     ]
    },
    {
     "name": "stderr",
     "output_type": "stream",
     "text": [
      "Initial filtering of formulas: 100%|█████████████| 2/2 [00:00<00:00, 146.73it/s]\n",
      "Computing chunks: 100%|███████████████████████| 2/2 [00:00<00:00, 104857.60it/s]\n",
      "Splitting the experimental spectrum into chunks: 55902it [00:00, 2981220.13it/s]\n",
      "Deconvolving chunks: 100%|████████████████████████| 1/1 [00:46<00:00, 46.72s/it]\n"
     ]
    },
    {
     "name": "stdout",
     "output_type": "stream",
     "text": [
      "Estimation for 0.24000000000000002 and 0.13 done\n",
      "It took: 46.79650831222534 seconds.\n",
      "[0.5231577430999986, 0.4736779490299988]\n"
     ]
    },
    {
     "name": "stderr",
     "output_type": "stream",
     "text": [
      "Initial filtering of formulas: 100%|█████████████| 2/2 [00:00<00:00, 118.67it/s]\n",
      "Computing chunks: 100%|████████████████████████| 2/2 [00:00<00:00, 56679.78it/s]\n",
      "Splitting the experimental spectrum into chunks: 55902it [00:00, 2323095.04it/s]\n",
      "Deconvolving chunks: 100%|████████████████████████| 1/1 [00:46<00:00, 46.95s/it]\n"
     ]
    },
    {
     "name": "stdout",
     "output_type": "stream",
     "text": [
      "Estimation for 0.24000000000000002 and 0.14 done\n",
      "It took: 47.04287576675415 seconds.\n",
      "[0.5231060025379987, 0.47374123143099883]\n"
     ]
    },
    {
     "name": "stderr",
     "output_type": "stream",
     "text": [
      "Initial filtering of formulas: 100%|█████████████| 2/2 [00:00<00:00, 128.55it/s]\n",
      "Computing chunks: 100%|████████████████████████| 2/2 [00:00<00:00, 33288.13it/s]\n",
      "Splitting the experimental spectrum into chunks: 55902it [00:00, 2651115.78it/s]\n",
      "Deconvolving chunks: 100%|████████████████████████| 1/1 [00:34<00:00, 34.46s/it]\n"
     ]
    },
    {
     "name": "stdout",
     "output_type": "stream",
     "text": [
      "Estimation for 0.24000000000000002 and 0.15000000000000002 done\n",
      "It took: 34.54399037361145 seconds.\n",
      "[0.5230078484969987, 0.4737833925769988]\n"
     ]
    },
    {
     "name": "stderr",
     "output_type": "stream",
     "text": [
      "Initial filtering of formulas: 100%|█████████████| 2/2 [00:00<00:00, 124.30it/s]\n",
      "Computing chunks: 100%|████████████████████████| 2/2 [00:00<00:00, 49932.19it/s]\n",
      "Splitting the experimental spectrum into chunks: 55902it [00:00, 2835187.21it/s]\n",
      "Deconvolving chunks: 100%|████████████████████████| 1/1 [00:42<00:00, 42.00s/it]\n"
     ]
    },
    {
     "name": "stdout",
     "output_type": "stream",
     "text": [
      "Estimation for 0.24000000000000002 and 0.16 done\n",
      "It took: 42.08089828491211 seconds.\n",
      "[0.5228091654869986, 0.47389592974399886]\n"
     ]
    },
    {
     "name": "stderr",
     "output_type": "stream",
     "text": [
      "Initial filtering of formulas: 100%|█████████████| 2/2 [00:00<00:00, 125.46it/s]\n",
      "Computing chunks: 100%|████████████████████████| 2/2 [00:00<00:00, 51463.85it/s]\n",
      "Splitting the experimental spectrum into chunks: 55902it [00:00, 2710071.69it/s]\n",
      "Deconvolving chunks: 100%|████████████████████████| 1/1 [00:37<00:00, 37.21s/it]\n"
     ]
    },
    {
     "name": "stdout",
     "output_type": "stream",
     "text": [
      "Estimation for 0.24000000000000002 and 0.17 done\n",
      "It took: 37.28639078140259 seconds.\n",
      "[0.5225751033549988, 0.4740193113019988]\n"
     ]
    },
    {
     "name": "stderr",
     "output_type": "stream",
     "text": [
      "Initial filtering of formulas: 100%|█████████████| 2/2 [00:00<00:00, 134.69it/s]\n",
      "Computing chunks: 100%|████████████████████████| 2/2 [00:00<00:00, 65536.00it/s]\n",
      "Splitting the experimental spectrum into chunks: 55902it [00:00, 2876649.93it/s]\n",
      "Deconvolving chunks: 100%|████████████████████████| 1/1 [00:37<00:00, 37.41s/it]\n"
     ]
    },
    {
     "name": "stdout",
     "output_type": "stream",
     "text": [
      "Estimation for 0.24000000000000002 and 0.18000000000000002 done\n",
      "It took: 37.47918128967285 seconds.\n",
      "[0.5223764053449987, 0.47410718556599885]\n"
     ]
    },
    {
     "name": "stderr",
     "output_type": "stream",
     "text": [
      "Initial filtering of formulas: 100%|█████████████| 2/2 [00:00<00:00, 138.49it/s]\n",
      "Computing chunks: 100%|████████████████████████| 2/2 [00:00<00:00, 64527.75it/s]\n",
      "Splitting the experimental spectrum into chunks: 55902it [00:00, 2935277.69it/s]\n",
      "Deconvolving chunks: 100%|████████████████████████| 1/1 [00:42<00:00, 42.40s/it]\n"
     ]
    },
    {
     "name": "stdout",
     "output_type": "stream",
     "text": [
      "Estimation for 0.24000000000000002 and 0.19 done\n",
      "It took: 42.4735164642334 seconds.\n",
      "[0.5221794327969987, 0.47419945818899883]\n"
     ]
    },
    {
     "name": "stderr",
     "output_type": "stream",
     "text": [
      "Initial filtering of formulas: 100%|█████████████| 2/2 [00:00<00:00, 131.11it/s]\n",
      "Computing chunks: 100%|████████████████████████| 2/2 [00:00<00:00, 56299.38it/s]\n",
      "Splitting the experimental spectrum into chunks: 55902it [00:00, 2870803.22it/s]\n",
      "Deconvolving chunks: 100%|████████████████████████| 1/1 [00:37<00:00, 37.66s/it]\n"
     ]
    },
    {
     "name": "stdout",
     "output_type": "stream",
     "text": [
      "Estimation for 0.24000000000000002 and 0.2 done\n",
      "It took: 37.73933529853821 seconds.\n",
      "[0.5219716664119988, 0.4743052594239988]\n"
     ]
    },
    {
     "name": "stderr",
     "output_type": "stream",
     "text": [
      "Initial filtering of formulas: 100%|█████████████| 2/2 [00:00<00:00, 143.36it/s]\n",
      "Computing chunks: 100%|████████████████████████| 2/2 [00:00<00:00, 82241.25it/s]\n",
      "Splitting the experimental spectrum into chunks: 55902it [00:00, 2984939.49it/s]\n",
      "Deconvolving chunks: 100%|████████████████████████| 1/1 [00:38<00:00, 38.33s/it]\n"
     ]
    },
    {
     "name": "stdout",
     "output_type": "stream",
     "text": [
      "Estimation for 0.24000000000000002 and 0.21000000000000002 done\n",
      "It took: 38.4061119556427 seconds.\n",
      "[0.5218406728929987, 0.47436897242399884]\n"
     ]
    },
    {
     "name": "stderr",
     "output_type": "stream",
     "text": [
      "Initial filtering of formulas: 100%|█████████████| 2/2 [00:00<00:00, 142.87it/s]\n",
      "Computing chunks: 100%|████████████████████████| 2/2 [00:00<00:00, 79891.50it/s]\n",
      "Splitting the experimental spectrum into chunks: 55902it [00:00, 3015729.88it/s]\n",
      "Deconvolving chunks: 100%|████████████████████████| 1/1 [00:40<00:00, 40.40s/it]\n"
     ]
    },
    {
     "name": "stdout",
     "output_type": "stream",
     "text": [
      "Estimation for 0.24000000000000002 and 0.22 done\n",
      "It took: 40.465967416763306 seconds.\n",
      "[0.5216553480649988, 0.47445622340099886]\n"
     ]
    },
    {
     "name": "stderr",
     "output_type": "stream",
     "text": [
      "Initial filtering of formulas: 100%|█████████████| 2/2 [00:00<00:00, 144.46it/s]\n",
      "Computing chunks: 100%|███████████████████████| 2/2 [00:00<00:00, 101067.57it/s]\n",
      "Splitting the experimental spectrum into chunks: 55902it [00:00, 3024248.45it/s]\n",
      "Deconvolving chunks: 100%|███████████████████████| 1/1 [03:32<00:00, 212.50s/it]\n"
     ]
    },
    {
     "name": "stdout",
     "output_type": "stream",
     "text": [
      "Estimation for 0.24000000000000002 and 0.23 done\n",
      "It took: 212.56978917121887 seconds.\n",
      "[0.5214445027699988, 0.4745749530619988]\n"
     ]
    },
    {
     "name": "stderr",
     "output_type": "stream",
     "text": [
      "Initial filtering of formulas: 100%|█████████████| 2/2 [00:00<00:00, 140.03it/s]\n",
      "Computing chunks: 100%|████████████████████████| 2/2 [00:00<00:00, 79137.81it/s]\n",
      "Splitting the experimental spectrum into chunks: 55902it [00:00, 2910898.74it/s]\n",
      "Deconvolving chunks: 100%|████████████████████████| 1/1 [00:42<00:00, 42.77s/it]\n"
     ]
    },
    {
     "name": "stdout",
     "output_type": "stream",
     "text": [
      "Estimation for 0.24000000000000002 and 0.24000000000000002 done\n",
      "It took: 42.84558725357056 seconds.\n",
      "[0.5211563389059988, 0.47473812820999883]\n"
     ]
    },
    {
     "name": "stderr",
     "output_type": "stream",
     "text": [
      "Initial filtering of formulas: 100%|█████████████| 2/2 [00:00<00:00, 138.05it/s]\n",
      "Computing chunks: 100%|████████████████████████| 2/2 [00:00<00:00, 91180.52it/s]\n",
      "Splitting the experimental spectrum into chunks: 55902it [00:00, 2921926.38it/s]\n",
      "Deconvolving chunks: 100%|████████████████████████| 1/1 [00:36<00:00, 36.38s/it]\n"
     ]
    },
    {
     "name": "stdout",
     "output_type": "stream",
     "text": [
      "Estimation for 0.24000000000000002 and 0.25 done\n",
      "It took: 36.450058937072754 seconds.\n",
      "[0.5208368433209988, 0.47485446898199885]\n"
     ]
    },
    {
     "name": "stderr",
     "output_type": "stream",
     "text": [
      "Initial filtering of formulas: 100%|█████████████| 2/2 [00:00<00:00, 141.20it/s]\n",
      "Computing chunks: 100%|████████████████████████| 2/2 [00:00<00:00, 89240.51it/s]\n",
      "Splitting the experimental spectrum into chunks: 55902it [00:00, 3064806.84it/s]\n",
      "Deconvolving chunks: 100%|████████████████████████| 1/1 [00:35<00:00, 35.48s/it]\n"
     ]
    },
    {
     "name": "stdout",
     "output_type": "stream",
     "text": [
      "Estimation for 0.24000000000000002 and 0.26 done\n",
      "It took: 35.54539346694946 seconds.\n",
      "[0.5203313542619987, 0.47506174475699886]\n"
     ]
    },
    {
     "name": "stderr",
     "output_type": "stream",
     "text": [
      "Initial filtering of formulas: 100%|█████████████| 2/2 [00:00<00:00, 142.53it/s]\n",
      "Computing chunks: 100%|████████████████████████| 2/2 [00:00<00:00, 97541.95it/s]\n",
      "Splitting the experimental spectrum into chunks: 55902it [00:00, 3028897.47it/s]\n",
      "Deconvolving chunks: 100%|████████████████████████| 1/1 [00:46<00:00, 46.80s/it]\n"
     ]
    },
    {
     "name": "stdout",
     "output_type": "stream",
     "text": [
      "Estimation for 0.24000000000000002 and 0.27 done\n",
      "It took: 46.87328243255615 seconds.\n",
      "[0.5198880926719988, 0.47524363356099886]\n"
     ]
    },
    {
     "name": "stderr",
     "output_type": "stream",
     "text": [
      "Initial filtering of formulas: 100%|█████████████| 2/2 [00:00<00:00, 143.60it/s]\n",
      "Computing chunks: 100%|███████████████████████| 2/2 [00:00<00:00, 103563.06it/s]\n",
      "Splitting the experimental spectrum into chunks: 55902it [00:00, 2974450.48it/s]\n",
      "Deconvolving chunks: 100%|████████████████████████| 1/1 [00:36<00:00, 36.34s/it]\n"
     ]
    },
    {
     "name": "stdout",
     "output_type": "stream",
     "text": [
      "Estimation for 0.24000000000000002 and 0.28 done\n",
      "It took: 36.40828204154968 seconds.\n",
      "[0.5196332506909987, 0.47533754944799883]\n"
     ]
    },
    {
     "name": "stderr",
     "output_type": "stream",
     "text": [
      "Initial filtering of formulas: 100%|█████████████| 2/2 [00:00<00:00, 138.65it/s]\n",
      "Computing chunks: 100%|████████████████████████| 2/2 [00:00<00:00, 79891.50it/s]\n",
      "Splitting the experimental spectrum into chunks: 55902it [00:00, 3011662.63it/s]\n",
      "Deconvolving chunks: 100%|████████████████████████| 1/1 [00:36<00:00, 36.14s/it]\n"
     ]
    },
    {
     "name": "stdout",
     "output_type": "stream",
     "text": [
      "Estimation for 0.24000000000000002 and 0.29000000000000004 done\n",
      "It took: 36.214365005493164 seconds.\n",
      "[0.5194091449409988, 0.47539174076199886]\n"
     ]
    },
    {
     "name": "stderr",
     "output_type": "stream",
     "text": [
      "Initial filtering of formulas: 100%|█████████████| 2/2 [00:00<00:00, 138.38it/s]\n",
      "Computing chunks: 100%|████████████████████████| 2/2 [00:00<00:00, 95325.09it/s]\n",
      "Splitting the experimental spectrum into chunks: 55902it [00:00, 2945565.79it/s]\n",
      "Deconvolving chunks: 100%|████████████████████████| 1/1 [00:37<00:00, 37.10s/it]\n"
     ]
    },
    {
     "name": "stdout",
     "output_type": "stream",
     "text": [
      "Estimation for 0.24000000000000002 and 0.3 done\n",
      "It took: 37.167752265930176 seconds.\n",
      "[0.5193943282639988, 0.47520391787899885]\n"
     ]
    },
    {
     "name": "stderr",
     "output_type": "stream",
     "text": [
      "Initial filtering of formulas: 100%|█████████████| 2/2 [00:00<00:00, 143.23it/s]\n",
      "Computing chunks: 100%|███████████████████████| 2/2 [00:00<00:00, 104857.60it/s]\n",
      "Splitting the experimental spectrum into chunks: 55902it [00:00, 2955851.72it/s]\n",
      "Deconvolving chunks: 100%|████████████████████████| 1/1 [00:43<00:00, 43.83s/it]\n"
     ]
    },
    {
     "name": "stdout",
     "output_type": "stream",
     "text": [
      "Estimation for 0.25 and 0.01 done\n",
      "It took: 43.9114625453949 seconds.\n",
      "[0.5130575698969988, 0.4863117809559988]\n"
     ]
    },
    {
     "name": "stderr",
     "output_type": "stream",
     "text": [
      "Initial filtering of formulas: 100%|█████████████| 2/2 [00:00<00:00, 120.88it/s]\n",
      "Computing chunks: 100%|████████████████████████| 2/2 [00:00<00:00, 41323.19it/s]\n",
      "Splitting the experimental spectrum into chunks: 55902it [00:00, 2293845.27it/s]\n",
      "Deconvolving chunks: 100%|████████████████████████| 1/1 [00:41<00:00, 41.71s/it]\n"
     ]
    },
    {
     "name": "stdout",
     "output_type": "stream",
     "text": [
      "Estimation for 0.25 and 0.02 done\n",
      "It took: 41.80533576011658 seconds.\n",
      "[0.5185347414399988, 0.48061324892199886]\n"
     ]
    },
    {
     "name": "stderr",
     "output_type": "stream",
     "text": [
      "Initial filtering of formulas: 100%|█████████████| 2/2 [00:00<00:00, 140.94it/s]\n",
      "Computing chunks: 100%|████████████████████████| 2/2 [00:00<00:00, 87381.33it/s]\n",
      "Splitting the experimental spectrum into chunks: 55902it [00:00, 2952799.31it/s]\n",
      "Deconvolving chunks: 100%|████████████████████████| 1/1 [00:37<00:00, 37.21s/it]\n"
     ]
    },
    {
     "name": "stdout",
     "output_type": "stream",
     "text": [
      "Estimation for 0.25 and 0.03 done\n",
      "It took: 37.27941632270813 seconds.\n",
      "[0.5213634254009988, 0.47726022217299885]\n"
     ]
    },
    {
     "name": "stderr",
     "output_type": "stream",
     "text": [
      "Initial filtering of formulas: 100%|█████████████| 2/2 [00:00<00:00, 136.86it/s]\n",
      "Computing chunks: 100%|████████████████████████| 2/2 [00:00<00:00, 96420.78it/s]\n",
      "Splitting the experimental spectrum into chunks: 55902it [00:00, 2916619.80it/s]\n",
      "Deconvolving chunks: 100%|████████████████████████| 1/1 [00:37<00:00, 37.25s/it]\n"
     ]
    },
    {
     "name": "stdout",
     "output_type": "stream",
     "text": [
      "Estimation for 0.25 and 0.04 done\n",
      "It took: 37.32153630256653 seconds.\n",
      "[0.5224098386639988, 0.4756518884059988]\n"
     ]
    },
    {
     "name": "stderr",
     "output_type": "stream",
     "text": [
      "Initial filtering of formulas: 100%|█████████████| 2/2 [00:00<00:00, 142.00it/s]\n",
      "Computing chunks: 100%|████████████████████████| 2/2 [00:00<00:00, 93206.76it/s]\n",
      "Splitting the experimental spectrum into chunks: 55902it [00:00, 2530979.95it/s]\n",
      "Deconvolving chunks: 100%|████████████████████████| 1/1 [00:40<00:00, 40.05s/it]\n"
     ]
    },
    {
     "name": "stdout",
     "output_type": "stream",
     "text": [
      "Estimation for 0.25 and 0.05 done\n",
      "It took: 40.11963891983032 seconds.\n",
      "[0.5233504048099986, 0.4743248689919988]\n"
     ]
    },
    {
     "name": "stderr",
     "output_type": "stream",
     "text": [
      "Initial filtering of formulas: 100%|█████████████| 2/2 [00:00<00:00, 141.68it/s]\n",
      "Computing chunks: 100%|████████████████████████| 2/2 [00:00<00:00, 72944.42it/s]\n",
      "Splitting the experimental spectrum into chunks: 55902it [00:00, 2957417.60it/s]\n",
      "Deconvolving chunks: 100%|████████████████████████| 1/1 [00:45<00:00, 45.66s/it]\n"
     ]
    },
    {
     "name": "stdout",
     "output_type": "stream",
     "text": [
      "Estimation for 0.25 and 0.060000000000000005 done\n",
      "It took: 45.73673629760742 seconds.\n",
      "[0.5235567105109986, 0.47389611157399886]\n"
     ]
    },
    {
     "name": "stderr",
     "output_type": "stream",
     "text": [
      "Initial filtering of formulas: 100%|█████████████| 2/2 [00:00<00:00, 128.88it/s]\n",
      "Computing chunks: 100%|████████████████████████| 2/2 [00:00<00:00, 83886.08it/s]\n",
      "Splitting the experimental spectrum into chunks: 55902it [00:00, 2535386.22it/s]\n",
      "Deconvolving chunks: 100%|████████████████████████| 1/1 [00:40<00:00, 40.73s/it]\n"
     ]
    },
    {
     "name": "stdout",
     "output_type": "stream",
     "text": [
      "Estimation for 0.25 and 0.06999999999999999 done\n",
      "It took: 40.81335401535034 seconds.\n",
      "[0.5235608589619987, 0.4738172414519988]\n"
     ]
    },
    {
     "name": "stderr",
     "output_type": "stream",
     "text": [
      "Initial filtering of formulas: 100%|█████████████| 2/2 [00:00<00:00, 140.07it/s]\n",
      "Computing chunks: 100%|████████████████████████| 2/2 [00:00<00:00, 98689.51it/s]\n",
      "Splitting the experimental spectrum into chunks: 55902it [00:00, 2953506.02it/s]\n",
      "Deconvolving chunks: 100%|████████████████████████| 1/1 [00:38<00:00, 38.41s/it]\n"
     ]
    },
    {
     "name": "stdout",
     "output_type": "stream",
     "text": [
      "Estimation for 0.25 and 0.08 done\n",
      "It took: 38.48501515388489 seconds.\n",
      "[0.5236467082319987, 0.47375754202899883]\n"
     ]
    },
    {
     "name": "stderr",
     "output_type": "stream",
     "text": [
      "Initial filtering of formulas: 100%|█████████████| 2/2 [00:00<00:00, 137.50it/s]\n",
      "Computing chunks: 100%|████████████████████████| 2/2 [00:00<00:00, 88301.14it/s]\n",
      "Splitting the experimental spectrum into chunks: 55902it [00:00, 2901748.48it/s]\n",
      "Deconvolving chunks: 100%|████████████████████████| 1/1 [00:40<00:00, 40.56s/it]\n"
     ]
    },
    {
     "name": "stdout",
     "output_type": "stream",
     "text": [
      "Estimation for 0.25 and 0.09 done\n",
      "It took: 40.635186195373535 seconds.\n",
      "[0.5237106706099987, 0.47367842701699886]\n"
     ]
    },
    {
     "name": "stderr",
     "output_type": "stream",
     "text": [
      "Initial filtering of formulas: 100%|█████████████| 2/2 [00:00<00:00, 134.53it/s]\n",
      "Computing chunks: 100%|████████████████████████| 2/2 [00:00<00:00, 98689.51it/s]\n",
      "Splitting the experimental spectrum into chunks: 55902it [00:00, 2953357.21it/s]\n",
      "Deconvolving chunks: 100%|████████████████████████| 1/1 [00:38<00:00, 38.98s/it]\n"
     ]
    },
    {
     "name": "stdout",
     "output_type": "stream",
     "text": [
      "Estimation for 0.25 and 0.09999999999999999 done\n",
      "It took: 39.056902170181274 seconds.\n",
      "[0.5237648962659986, 0.47359150718299886]\n"
     ]
    },
    {
     "name": "stderr",
     "output_type": "stream",
     "text": [
      "Initial filtering of formulas: 100%|█████████████| 2/2 [00:00<00:00, 120.10it/s]\n",
      "Computing chunks: 100%|████████████████████████| 2/2 [00:00<00:00, 36314.32it/s]\n",
      "Splitting the experimental spectrum into chunks: 55902it [00:00, 2710196.99it/s]\n",
      "Deconvolving chunks: 100%|████████████████████████| 1/1 [00:45<00:00, 45.85s/it]\n"
     ]
    },
    {
     "name": "stdout",
     "output_type": "stream",
     "text": [
      "Estimation for 0.25 and 0.11 done\n",
      "It took: 45.93239784240723 seconds.\n",
      "[0.5237031569289987, 0.4735631270769988]\n"
     ]
    },
    {
     "name": "stderr",
     "output_type": "stream",
     "text": [
      "Initial filtering of formulas: 100%|█████████████| 2/2 [00:00<00:00, 128.20it/s]\n",
      "Computing chunks: 100%|████████████████████████| 2/2 [00:00<00:00, 86480.49it/s]\n",
      "Splitting the experimental spectrum into chunks: 55902it [00:00, 2757237.73it/s]\n",
      "Deconvolving chunks: 100%|████████████████████████| 1/1 [00:41<00:00, 41.91s/it]\n"
     ]
    },
    {
     "name": "stdout",
     "output_type": "stream",
     "text": [
      "Estimation for 0.25 and 0.12 done\n",
      "It took: 41.982184171676636 seconds.\n",
      "[0.5235609314559987, 0.4735643754039988]\n"
     ]
    },
    {
     "name": "stderr",
     "output_type": "stream",
     "text": [
      "Initial filtering of formulas: 100%|█████████████| 2/2 [00:00<00:00, 135.94it/s]\n",
      "Computing chunks: 100%|████████████████████████| 2/2 [00:00<00:00, 88301.14it/s]\n",
      "Splitting the experimental spectrum into chunks: 55902it [00:00, 2874357.72it/s]\n",
      "Deconvolving chunks: 100%|████████████████████████| 1/1 [00:43<00:00, 43.21s/it]\n"
     ]
    },
    {
     "name": "stdout",
     "output_type": "stream",
     "text": [
      "Estimation for 0.25 and 0.13 done\n",
      "It took: 43.286776065826416 seconds.\n",
      "[0.5234894450459987, 0.47356076695699884]\n"
     ]
    },
    {
     "name": "stderr",
     "output_type": "stream",
     "text": [
      "Initial filtering of formulas: 100%|█████████████| 2/2 [00:00<00:00, 138.93it/s]\n",
      "Computing chunks: 100%|████████████████████████| 2/2 [00:00<00:00, 89240.51it/s]\n",
      "Splitting the experimental spectrum into chunks: 55902it [00:00, 2962649.19it/s]\n",
      "Deconvolving chunks: 100%|████████████████████████| 1/1 [00:41<00:00, 41.01s/it]\n"
     ]
    },
    {
     "name": "stdout",
     "output_type": "stream",
     "text": [
      "Estimation for 0.25 and 0.14 done\n",
      "It took: 41.084802865982056 seconds.\n",
      "[0.5233536559429987, 0.47361189622199884]\n"
     ]
    },
    {
     "name": "stderr",
     "output_type": "stream",
     "text": [
      "Initial filtering of formulas: 100%|█████████████| 2/2 [00:00<00:00, 135.87it/s]\n",
      "Computing chunks: 100%|███████████████████████| 2/2 [00:00<00:00, 107546.26it/s]\n",
      "Splitting the experimental spectrum into chunks: 55902it [00:00, 2856185.53it/s]\n",
      "Deconvolving chunks: 100%|████████████████████████| 1/1 [00:42<00:00, 42.31s/it]\n"
     ]
    },
    {
     "name": "stdout",
     "output_type": "stream",
     "text": [
      "Estimation for 0.25 and 0.15000000000000002 done\n",
      "It took: 42.39716196060181 seconds.\n",
      "[0.5232476866949987, 0.47364418226199884]\n"
     ]
    },
    {
     "name": "stderr",
     "output_type": "stream",
     "text": [
      "Initial filtering of formulas: 100%|██████████████| 2/2 [00:00<00:00, 84.41it/s]\n",
      "Computing chunks: 100%|████████████████████████| 2/2 [00:00<00:00, 59493.67it/s]\n",
      "Splitting the experimental spectrum into chunks: 55902it [00:00, 1988095.19it/s]\n",
      "Deconvolving chunks: 100%|████████████████████████| 1/1 [00:51<00:00, 51.40s/it]\n"
     ]
    },
    {
     "name": "stdout",
     "output_type": "stream",
     "text": [
      "Estimation for 0.25 and 0.16 done\n",
      "It took: 51.51757597923279 seconds.\n",
      "[0.5231728738349987, 0.47368251008299883]\n"
     ]
    },
    {
     "name": "stderr",
     "output_type": "stream",
     "text": [
      "Initial filtering of formulas: 100%|█████████████| 2/2 [00:00<00:00, 115.19it/s]\n",
      "Computing chunks: 100%|████████████████████████| 2/2 [00:00<00:00, 32388.45it/s]\n",
      "Splitting the experimental spectrum into chunks: 55902it [00:00, 2503924.37it/s]\n",
      "Deconvolving chunks: 100%|████████████████████████| 1/1 [00:52<00:00, 52.24s/it]\n"
     ]
    },
    {
     "name": "stdout",
     "output_type": "stream",
     "text": [
      "Estimation for 0.25 and 0.17 done\n",
      "It took: 52.32980465888977 seconds.\n",
      "[0.5230620757869987, 0.4737382354049988]\n"
     ]
    },
    {
     "name": "stderr",
     "output_type": "stream",
     "text": [
      "Initial filtering of formulas: 100%|█████████████| 2/2 [00:00<00:00, 124.84it/s]\n",
      "Computing chunks: 100%|████████████████████████| 2/2 [00:00<00:00, 50840.05it/s]\n",
      "Splitting the experimental spectrum into chunks: 55902it [00:00, 2493061.94it/s]\n",
      "Deconvolving chunks: 100%|████████████████████████| 1/1 [01:09<00:00, 69.70s/it]\n"
     ]
    },
    {
     "name": "stdout",
     "output_type": "stream",
     "text": [
      "Estimation for 0.25 and 0.18000000000000002 done\n",
      "It took: 69.7943925857544 seconds.\n",
      "[0.5229135154249986, 0.47380060595699885]\n"
     ]
    },
    {
     "name": "stderr",
     "output_type": "stream",
     "text": [
      "Initial filtering of formulas: 100%|█████████████| 2/2 [00:00<00:00, 109.93it/s]\n",
      "Computing chunks: 100%|████████████████████████| 2/2 [00:00<00:00, 28926.23it/s]\n",
      "Splitting the experimental spectrum into chunks: 55902it [00:00, 2277026.59it/s]\n",
      "Deconvolving chunks: 100%|████████████████████████| 1/1 [00:55<00:00, 55.76s/it]\n"
     ]
    },
    {
     "name": "stdout",
     "output_type": "stream",
     "text": [
      "Estimation for 0.25 and 0.19 done\n",
      "It took: 55.85893440246582 seconds.\n",
      "[0.5227159972209988, 0.4738868114159988]\n"
     ]
    },
    {
     "name": "stderr",
     "output_type": "stream",
     "text": [
      "Initial filtering of formulas: 100%|█████████████| 2/2 [00:00<00:00, 122.90it/s]\n",
      "Computing chunks: 100%|████████████████████████| 2/2 [00:00<00:00, 69905.07it/s]\n",
      "Splitting the experimental spectrum into chunks: 55902it [00:00, 1654330.97it/s]\n",
      "Deconvolving chunks: 100%|████████████████████████| 1/1 [00:54<00:00, 54.52s/it]\n"
     ]
    },
    {
     "name": "stdout",
     "output_type": "stream",
     "text": [
      "Estimation for 0.25 and 0.2 done\n",
      "It took: 54.625717639923096 seconds.\n",
      "[0.5224836859059988, 0.4740126215659988]\n"
     ]
    },
    {
     "name": "stderr",
     "output_type": "stream",
     "text": [
      "Initial filtering of formulas: 100%|█████████████| 2/2 [00:00<00:00, 133.31it/s]\n",
      "Computing chunks: 100%|████████████████████████| 2/2 [00:00<00:00, 67108.86it/s]\n",
      "Splitting the experimental spectrum into chunks: 55902it [00:00, 2692148.51it/s]\n",
      "Deconvolving chunks: 100%|████████████████████████| 1/1 [00:38<00:00, 38.34s/it]\n"
     ]
    },
    {
     "name": "stdout",
     "output_type": "stream",
     "text": [
      "Estimation for 0.25 and 0.21000000000000002 done\n",
      "It took: 38.41970634460449 seconds.\n",
      "[0.5222360971859987, 0.4741533455229988]\n"
     ]
    },
    {
     "name": "stderr",
     "output_type": "stream",
     "text": [
      "Initial filtering of formulas: 100%|█████████████| 2/2 [00:00<00:00, 140.33it/s]\n",
      "Computing chunks: 100%|████████████████████████| 2/2 [00:00<00:00, 94254.02it/s]\n",
      "Splitting the experimental spectrum into chunks: 55902it [00:00, 2948603.25it/s]\n",
      "Deconvolving chunks: 100%|████████████████████████| 1/1 [00:40<00:00, 40.50s/it]\n"
     ]
    },
    {
     "name": "stdout",
     "output_type": "stream",
     "text": [
      "Estimation for 0.25 and 0.22 done\n",
      "It took: 40.57022452354431 seconds.\n",
      "[0.5220986426139987, 0.4742249090399988]\n"
     ]
    },
    {
     "name": "stderr",
     "output_type": "stream",
     "text": [
      "Initial filtering of formulas: 100%|█████████████| 2/2 [00:00<00:00, 141.98it/s]\n",
      "Computing chunks: 100%|████████████████████████| 2/2 [00:00<00:00, 22982.49it/s]\n",
      "Splitting the experimental spectrum into chunks: 55902it [00:00, 2832618.33it/s]\n",
      "Deconvolving chunks: 100%|████████████████████████| 1/1 [00:35<00:00, 35.46s/it]\n"
     ]
    },
    {
     "name": "stdout",
     "output_type": "stream",
     "text": [
      "Estimation for 0.25 and 0.23 done\n",
      "It took: 35.53199052810669 seconds.\n",
      "[0.5219526344449987, 0.4742983983729988]\n"
     ]
    },
    {
     "name": "stderr",
     "output_type": "stream",
     "text": [
      "Initial filtering of formulas: 100%|█████████████| 2/2 [00:00<00:00, 127.38it/s]\n",
      "Computing chunks: 100%|████████████████████████| 2/2 [00:00<00:00, 44384.17it/s]\n",
      "Splitting the experimental spectrum into chunks: 55902it [00:00, 2755649.89it/s]\n",
      "Deconvolving chunks: 100%|████████████████████████| 1/1 [00:38<00:00, 38.37s/it]\n"
     ]
    },
    {
     "name": "stdout",
     "output_type": "stream",
     "text": [
      "Estimation for 0.25 and 0.24000000000000002 done\n",
      "It took: 38.440882444381714 seconds.\n",
      "[0.5217292085289987, 0.47442252886499886]\n"
     ]
    },
    {
     "name": "stderr",
     "output_type": "stream",
     "text": [
      "Initial filtering of formulas: 100%|█████████████| 2/2 [00:00<00:00, 136.59it/s]\n",
      "Computing chunks: 100%|███████████████████████| 2/2 [00:00<00:00, 103563.06it/s]\n",
      "Splitting the experimental spectrum into chunks: 55902it [00:00, 2967861.75it/s]\n",
      "Deconvolving chunks: 100%|████████████████████████| 1/1 [00:49<00:00, 49.21s/it]\n"
     ]
    },
    {
     "name": "stdout",
     "output_type": "stream",
     "text": [
      "Estimation for 0.25 and 0.25 done\n",
      "It took: 49.28396987915039 seconds.\n",
      "[0.5214981486559988, 0.47455489611299884]\n"
     ]
    },
    {
     "name": "stderr",
     "output_type": "stream",
     "text": [
      "Initial filtering of formulas: 100%|█████████████| 2/2 [00:00<00:00, 103.56it/s]\n",
      "Computing chunks: 100%|████████████████████████| 2/2 [00:00<00:00, 59074.70it/s]\n",
      "Splitting the experimental spectrum into chunks: 55902it [00:00, 2311916.84it/s]\n",
      "Deconvolving chunks: 100%|████████████████████████| 1/1 [00:54<00:00, 54.24s/it]\n"
     ]
    },
    {
     "name": "stdout",
     "output_type": "stream",
     "text": [
      "Estimation for 0.25 and 0.26 done\n",
      "It took: 54.34473633766174 seconds.\n",
      "[0.5212552028179988, 0.47470505276599884]\n"
     ]
    },
    {
     "name": "stderr",
     "output_type": "stream",
     "text": [
      "Initial filtering of formulas: 100%|█████████████| 2/2 [00:00<00:00, 126.48it/s]\n",
      "Computing chunks: 100%|████████████████████████| 2/2 [00:00<00:00, 35544.95it/s]\n",
      "Splitting the experimental spectrum into chunks: 55902it [00:00, 2633133.24it/s]\n",
      "Deconvolving chunks: 100%|████████████████████████| 1/1 [00:49<00:00, 49.92s/it]\n"
     ]
    },
    {
     "name": "stdout",
     "output_type": "stream",
     "text": [
      "Estimation for 0.25 and 0.27 done\n",
      "It took: 49.998162508010864 seconds.\n",
      "[0.5209412266329988, 0.47482829369699886]\n"
     ]
    },
    {
     "name": "stderr",
     "output_type": "stream",
     "text": [
      "Initial filtering of formulas: 100%|█████████████| 2/2 [00:00<00:00, 127.72it/s]\n",
      "Computing chunks: 100%|████████████████████████| 2/2 [00:00<00:00, 49344.75it/s]\n",
      "Splitting the experimental spectrum into chunks: 55902it [00:00, 2603168.41it/s]\n",
      "Deconvolving chunks: 100%|████████████████████████| 1/1 [00:45<00:00, 45.64s/it]\n"
     ]
    },
    {
     "name": "stdout",
     "output_type": "stream",
     "text": [
      "Estimation for 0.25 and 0.28 done\n",
      "It took: 45.721142053604126 seconds.\n",
      "[0.5205105920989987, 0.4749773571809988]\n"
     ]
    },
    {
     "name": "stderr",
     "output_type": "stream",
     "text": [
      "Initial filtering of formulas: 100%|█████████████| 2/2 [00:00<00:00, 137.70it/s]\n",
      "Computing chunks: 100%|████████████████████████| 2/2 [00:00<00:00, 92182.51it/s]\n",
      "Splitting the experimental spectrum into chunks: 55902it [00:00, 2915423.04it/s]\n",
      "Deconvolving chunks: 100%|████████████████████████| 1/1 [00:38<00:00, 38.20s/it]\n"
     ]
    },
    {
     "name": "stdout",
     "output_type": "stream",
     "text": [
      "Estimation for 0.25 and 0.29000000000000004 done\n",
      "It took: 38.27017164230347 seconds.\n",
      "[0.5199630363459988, 0.4752119502059988]\n"
     ]
    },
    {
     "name": "stderr",
     "output_type": "stream",
     "text": [
      "Initial filtering of formulas: 100%|█████████████| 2/2 [00:00<00:00, 126.79it/s]\n",
      "Computing chunks: 100%|████████████████████████| 2/2 [00:00<00:00, 40721.40it/s]\n",
      "Splitting the experimental spectrum into chunks: 55902it [00:00, 2587312.08it/s]\n",
      "Deconvolving chunks: 100%|████████████████████████| 1/1 [00:38<00:00, 38.11s/it]\n"
     ]
    },
    {
     "name": "stdout",
     "output_type": "stream",
     "text": [
      "Estimation for 0.25 and 0.3 done\n",
      "It took: 38.18884801864624 seconds.\n",
      "[0.5197536185869988, 0.47523299966699883]\n"
     ]
    },
    {
     "name": "stderr",
     "output_type": "stream",
     "text": [
      "Initial filtering of formulas: 100%|█████████████| 2/2 [00:00<00:00, 125.43it/s]\n",
      "Computing chunks: 100%|████████████████████████| 2/2 [00:00<00:00, 57456.22it/s]\n",
      "Splitting the experimental spectrum into chunks: 55902it [00:00, 2797837.60it/s]\n",
      "Deconvolving chunks: 100%|████████████████████████| 1/1 [00:39<00:00, 39.36s/it]\n"
     ]
    },
    {
     "name": "stdout",
     "output_type": "stream",
     "text": [
      "Estimation for 0.26 and 0.01 done\n",
      "It took: 39.431944370269775 seconds.\n",
      "[0.5130964389249988, 0.4863420902869988]\n"
     ]
    },
    {
     "name": "stderr",
     "output_type": "stream",
     "text": [
      "Initial filtering of formulas: 100%|█████████████| 2/2 [00:00<00:00, 131.20it/s]\n",
      "Computing chunks: 100%|███████████████████████| 2/2 [00:00<00:00, 102300.10it/s]\n",
      "Splitting the experimental spectrum into chunks: 55902it [00:00, 2881528.60it/s]\n",
      "Deconvolving chunks: 100%|████████████████████████| 1/1 [00:36<00:00, 36.94s/it]\n"
     ]
    },
    {
     "name": "stdout",
     "output_type": "stream",
     "text": [
      "Estimation for 0.26 and 0.02 done\n",
      "It took: 37.01235008239746 seconds.\n",
      "[0.5186025798259988, 0.48064599496199883]\n"
     ]
    },
    {
     "name": "stderr",
     "output_type": "stream",
     "text": [
      "Initial filtering of formulas: 100%|█████████████| 2/2 [00:00<00:00, 139.36it/s]\n",
      "Computing chunks: 100%|████████████████████████| 2/2 [00:00<00:00, 95325.09it/s]\n",
      "Splitting the experimental spectrum into chunks: 55902it [00:00, 2581984.17it/s]\n",
      "Deconvolving chunks: 100%|████████████████████████| 1/1 [00:51<00:00, 51.58s/it]\n"
     ]
    },
    {
     "name": "stdout",
     "output_type": "stream",
     "text": [
      "Estimation for 0.26 and 0.03 done\n",
      "It took: 51.65580749511719 seconds.\n",
      "[0.5214565303579988, 0.4773046985469988]\n"
     ]
    },
    {
     "name": "stderr",
     "output_type": "stream",
     "text": [
      "Initial filtering of formulas: 100%|█████████████| 2/2 [00:00<00:00, 100.80it/s]\n",
      "Computing chunks: 100%|████████████████████████| 2/2 [00:00<00:00, 52103.16it/s]\n",
      "Splitting the experimental spectrum into chunks: 55902it [00:00, 2210750.45it/s]\n",
      "Deconvolving chunks: 100%|████████████████████████| 1/1 [00:51<00:00, 51.75s/it]\n"
     ]
    },
    {
     "name": "stdout",
     "output_type": "stream",
     "text": [
      "Estimation for 0.26 and 0.04 done\n",
      "It took: 51.84728169441223 seconds.\n",
      "[0.5222870089239988, 0.4759294278149988]\n"
     ]
    },
    {
     "name": "stderr",
     "output_type": "stream",
     "text": [
      "Initial filtering of formulas: 100%|█████████████| 2/2 [00:00<00:00, 120.26it/s]\n",
      "Computing chunks: 100%|████████████████████████| 2/2 [00:00<00:00, 37786.52it/s]\n",
      "Splitting the experimental spectrum into chunks: 55902it [00:00, 2409912.04it/s]\n",
      "Deconvolving chunks: 100%|████████████████████████| 1/1 [00:53<00:00, 53.22s/it]\n"
     ]
    },
    {
     "name": "stdout",
     "output_type": "stream",
     "text": [
      "Estimation for 0.26 and 0.05 done\n",
      "It took: 53.3107373714447 seconds.\n",
      "[0.5233231133789986, 0.4744624264569988]\n"
     ]
    },
    {
     "name": "stderr",
     "output_type": "stream",
     "text": [
      "Initial filtering of formulas: 100%|█████████████| 2/2 [00:00<00:00, 118.14it/s]\n",
      "Computing chunks: 100%|████████████████████████| 2/2 [00:00<00:00, 13148.29it/s]\n",
      "Splitting the experimental spectrum into chunks: 55902it [00:00, 2428407.01it/s]\n",
      "Deconvolving chunks: 100%|████████████████████████| 1/1 [00:43<00:00, 43.77s/it]\n"
     ]
    },
    {
     "name": "stdout",
     "output_type": "stream",
     "text": [
      "Estimation for 0.26 and 0.060000000000000005 done\n",
      "It took: 43.85580563545227 seconds.\n",
      "[0.5237571722969987, 0.47385692055299883]\n"
     ]
    },
    {
     "name": "stderr",
     "output_type": "stream",
     "text": [
      "Initial filtering of formulas: 100%|█████████████| 2/2 [00:00<00:00, 136.36it/s]\n",
      "Computing chunks: 100%|████████████████████████| 2/2 [00:00<00:00, 91180.52it/s]\n",
      "Splitting the experimental spectrum into chunks: 55902it [00:00, 3049857.34it/s]\n",
      "Deconvolving chunks: 100%|████████████████████████| 1/1 [00:40<00:00, 40.31s/it]\n"
     ]
    },
    {
     "name": "stdout",
     "output_type": "stream",
     "text": [
      "Estimation for 0.26 and 0.06999999999999999 done\n",
      "It took: 40.38338327407837 seconds.\n",
      "[0.5238325152059987, 0.47369912969399885]\n"
     ]
    },
    {
     "name": "stderr",
     "output_type": "stream",
     "text": [
      "Initial filtering of formulas: 100%|█████████████| 2/2 [00:00<00:00, 134.52it/s]\n",
      "Computing chunks: 100%|████████████████████████| 2/2 [00:00<00:00, 48770.98it/s]\n",
      "Splitting the experimental spectrum into chunks: 55902it [00:00, 2254345.65it/s]\n",
      "Deconvolving chunks: 100%|████████████████████████| 1/1 [00:36<00:00, 36.31s/it]\n"
     ]
    },
    {
     "name": "stdout",
     "output_type": "stream",
     "text": [
      "Estimation for 0.26 and 0.08 done\n",
      "It took: 36.39240217208862 seconds.\n",
      "[0.5237983629159987, 0.4736696653379988]\n"
     ]
    },
    {
     "name": "stderr",
     "output_type": "stream",
     "text": [
      "Initial filtering of formulas: 100%|█████████████| 2/2 [00:00<00:00, 129.00it/s]\n",
      "Computing chunks: 100%|████████████████████████| 2/2 [00:00<00:00, 88301.14it/s]\n",
      "Splitting the experimental spectrum into chunks: 55902it [00:00, 2799140.24it/s]\n",
      "Deconvolving chunks: 100%|████████████████████████| 1/1 [00:36<00:00, 36.53s/it]\n"
     ]
    },
    {
     "name": "stdout",
     "output_type": "stream",
     "text": [
      "Estimation for 0.26 and 0.09 done\n",
      "It took: 36.60570764541626 seconds.\n",
      "[0.5238250676549987, 0.47363105370899883]\n"
     ]
    },
    {
     "name": "stderr",
     "output_type": "stream",
     "text": [
      "Initial filtering of formulas: 100%|█████████████| 2/2 [00:00<00:00, 136.44it/s]\n",
      "Computing chunks: 100%|████████████████████████| 2/2 [00:00<00:00, 82241.25it/s]\n",
      "Splitting the experimental spectrum into chunks: 55902it [00:00, 2914009.95it/s]\n",
      "Deconvolving chunks: 100%|████████████████████████| 1/1 [00:38<00:00, 38.94s/it]\n"
     ]
    },
    {
     "name": "stdout",
     "output_type": "stream",
     "text": [
      "Estimation for 0.26 and 0.09999999999999999 done\n",
      "It took: 39.01430654525757 seconds.\n",
      "[0.5239407165209987, 0.47350645118199886]\n"
     ]
    },
    {
     "name": "stderr",
     "output_type": "stream",
     "text": [
      "Initial filtering of formulas: 100%|█████████████| 2/2 [00:00<00:00, 134.21it/s]\n",
      "Computing chunks: 100%|████████████████████████| 2/2 [00:00<00:00, 45343.83it/s]\n",
      "Splitting the experimental spectrum into chunks: 55902it [00:00, 2833097.50it/s]\n",
      "Deconvolving chunks: 100%|████████████████████████| 1/1 [00:45<00:00, 46.00s/it]\n"
     ]
    },
    {
     "name": "stdout",
     "output_type": "stream",
     "text": [
      "Estimation for 0.26 and 0.11 done\n",
      "It took: 46.0775511264801 seconds.\n",
      "[0.5240084146049987, 0.47341414679399885]\n"
     ]
    },
    {
     "name": "stderr",
     "output_type": "stream",
     "text": [
      "Initial filtering of formulas: 100%|██████████████| 2/2 [00:00<00:00, 86.84it/s]\n",
      "Computing chunks: 100%|████████████████████████| 2/2 [00:00<00:00, 35246.25it/s]\n",
      "Splitting the experimental spectrum into chunks: 55902it [00:00, 2102096.83it/s]\n",
      "Deconvolving chunks: 100%|████████████████████████| 1/1 [00:47<00:00, 47.97s/it]\n"
     ]
    },
    {
     "name": "stdout",
     "output_type": "stream",
     "text": [
      "Estimation for 0.26 and 0.12 done\n",
      "It took: 48.073668003082275 seconds.\n",
      "[0.5240488091579987, 0.47338991325599883]\n"
     ]
    },
    {
     "name": "stderr",
     "output_type": "stream",
     "text": [
      "Initial filtering of formulas: 100%|█████████████| 2/2 [00:00<00:00, 134.49it/s]\n",
      "Computing chunks: 100%|████████████████████████| 2/2 [00:00<00:00, 98689.51it/s]\n",
      "Splitting the experimental spectrum into chunks: 55902it [00:00, 3002560.92it/s]\n",
      "Deconvolving chunks: 100%|████████████████████████| 1/1 [00:37<00:00, 37.13s/it]\n"
     ]
    },
    {
     "name": "stdout",
     "output_type": "stream",
     "text": [
      "Estimation for 0.26 and 0.13 done\n",
      "It took: 37.20137810707092 seconds.\n",
      "[0.5239650667549987, 0.4733688254619988]\n"
     ]
    },
    {
     "name": "stderr",
     "output_type": "stream",
     "text": [
      "Initial filtering of formulas: 100%|█████████████| 2/2 [00:00<00:00, 141.25it/s]\n",
      "Computing chunks: 100%|████████████████████████| 2/2 [00:00<00:00, 96420.78it/s]\n",
      "Splitting the experimental spectrum into chunks: 55902it [00:00, 2917236.70it/s]\n",
      "Deconvolving chunks: 100%|████████████████████████| 1/1 [00:37<00:00, 37.94s/it]\n"
     ]
    },
    {
     "name": "stdout",
     "output_type": "stream",
     "text": [
      "Estimation for 0.26 and 0.14 done\n",
      "It took: 38.01331186294556 seconds.\n",
      "[0.5237559280449987, 0.4734300277549988]\n"
     ]
    },
    {
     "name": "stderr",
     "output_type": "stream",
     "text": [
      "Initial filtering of formulas: 100%|█████████████| 2/2 [00:00<00:00, 137.88it/s]\n",
      "Computing chunks: 100%|████████████████████████| 2/2 [00:00<00:00, 95325.09it/s]\n",
      "Splitting the experimental spectrum into chunks: 55902it [00:00, 2900276.86it/s]\n",
      "Deconvolving chunks: 100%|████████████████████████| 1/1 [00:36<00:00, 36.71s/it]\n"
     ]
    },
    {
     "name": "stdout",
     "output_type": "stream",
     "text": [
      "Estimation for 0.26 and 0.15000000000000002 done\n",
      "It took: 36.78016257286072 seconds.\n",
      "[0.5235424459459986, 0.4735003102129988]\n"
     ]
    },
    {
     "name": "stderr",
     "output_type": "stream",
     "text": [
      "Initial filtering of formulas: 100%|█████████████| 2/2 [00:00<00:00, 135.75it/s]\n",
      "Computing chunks: 100%|████████████████████████| 2/2 [00:00<00:00, 84733.41it/s]\n",
      "Splitting the experimental spectrum into chunks: 55902it [00:00, 2988439.60it/s]\n",
      "Deconvolving chunks: 100%|████████████████████████| 1/1 [00:36<00:00, 36.14s/it]\n"
     ]
    },
    {
     "name": "stdout",
     "output_type": "stream",
     "text": [
      "Estimation for 0.26 and 0.16 done\n",
      "It took: 36.208465576171875 seconds.\n",
      "[0.5234256502129987, 0.47354822293399884]\n"
     ]
    },
    {
     "name": "stderr",
     "output_type": "stream",
     "text": [
      "Initial filtering of formulas: 100%|█████████████| 2/2 [00:00<00:00, 136.33it/s]\n",
      "Computing chunks: 100%|████████████████████████| 2/2 [00:00<00:00, 99864.38it/s]\n",
      "Splitting the experimental spectrum into chunks: 55902it [00:00, 2908190.89it/s]\n",
      "Deconvolving chunks: 100%|████████████████████████| 1/1 [00:38<00:00, 38.85s/it]\n"
     ]
    },
    {
     "name": "stdout",
     "output_type": "stream",
     "text": [
      "Estimation for 0.26 and 0.17 done\n",
      "It took: 38.922415256500244 seconds.\n",
      "[0.5233080678649986, 0.47359786660399883]\n"
     ]
    },
    {
     "name": "stderr",
     "output_type": "stream",
     "text": [
      "Initial filtering of formulas: 100%|█████████████| 2/2 [00:00<00:00, 144.34it/s]\n",
      "Computing chunks: 100%|████████████████████████| 2/2 [00:00<00:00, 97541.95it/s]\n",
      "Splitting the experimental spectrum into chunks: 55902it [00:00, 3105480.41it/s]\n",
      "Deconvolving chunks: 100%|████████████████████████| 1/1 [00:44<00:00, 44.77s/it]\n"
     ]
    },
    {
     "name": "stdout",
     "output_type": "stream",
     "text": [
      "Estimation for 0.26 and 0.18000000000000002 done\n",
      "It took: 44.84502577781677 seconds.\n",
      "[0.5232879445349987, 0.4735844657289988]\n"
     ]
    },
    {
     "name": "stderr",
     "output_type": "stream",
     "text": [
      "Initial filtering of formulas: 100%|█████████████| 2/2 [00:00<00:00, 128.19it/s]\n",
      "Computing chunks: 100%|████████████████████████| 2/2 [00:00<00:00, 81442.80it/s]\n",
      "Splitting the experimental spectrum into chunks: 55902it [00:00, 2494043.12it/s]\n",
      "Deconvolving chunks: 100%|████████████████████████| 1/1 [00:49<00:00, 49.27s/it]\n"
     ]
    },
    {
     "name": "stdout",
     "output_type": "stream",
     "text": [
      "Estimation for 0.26 and 0.19 done\n",
      "It took: 49.35244369506836 seconds.\n",
      "[0.5232108789029987, 0.47360415494799885]\n"
     ]
    },
    {
     "name": "stderr",
     "output_type": "stream",
     "text": [
      "Initial filtering of formulas: 100%|█████████████| 2/2 [00:00<00:00, 138.48it/s]\n",
      "Computing chunks: 100%|████████████████████████| 2/2 [00:00<00:00, 87381.33it/s]\n",
      "Splitting the experimental spectrum into chunks: 55902it [00:00, 2942497.64it/s]\n",
      "Deconvolving chunks: 100%|████████████████████████| 1/1 [00:43<00:00, 43.21s/it]\n"
     ]
    },
    {
     "name": "stdout",
     "output_type": "stream",
     "text": [
      "Estimation for 0.26 and 0.2 done\n",
      "It took: 43.279194593429565 seconds.\n",
      "[0.5230749664249986, 0.47366853204399884]\n"
     ]
    },
    {
     "name": "stderr",
     "output_type": "stream",
     "text": [
      "Initial filtering of formulas: 100%|█████████████| 2/2 [00:00<00:00, 128.59it/s]\n",
      "Computing chunks: 100%|████████████████████████| 2/2 [00:00<00:00, 41943.04it/s]\n",
      "Splitting the experimental spectrum into chunks: 55902it [00:00, 2589998.59it/s]\n",
      "Deconvolving chunks: 100%|████████████████████████| 1/1 [00:36<00:00, 36.89s/it]\n"
     ]
    },
    {
     "name": "stdout",
     "output_type": "stream",
     "text": [
      "Estimation for 0.26 and 0.21000000000000002 done\n",
      "It took: 36.963937282562256 seconds.\n",
      "[0.5228150162309987, 0.4738213192319988]\n"
     ]
    },
    {
     "name": "stderr",
     "output_type": "stream",
     "text": [
      "Initial filtering of formulas: 100%|█████████████| 2/2 [00:00<00:00, 136.87it/s]\n",
      "Computing chunks: 100%|███████████████████████| 2/2 [00:00<00:00, 101067.57it/s]\n",
      "Splitting the experimental spectrum into chunks: 55902it [00:00, 2981447.58it/s]\n",
      "Deconvolving chunks: 100%|████████████████████████| 1/1 [00:39<00:00, 39.23s/it]\n"
     ]
    },
    {
     "name": "stdout",
     "output_type": "stream",
     "text": [
      "Estimation for 0.26 and 0.22 done\n",
      "It took: 39.30073952674866 seconds.\n",
      "[0.5225968266129988, 0.4739461425609988]\n"
     ]
    },
    {
     "name": "stderr",
     "output_type": "stream",
     "text": [
      "Initial filtering of formulas: 100%|█████████████| 2/2 [00:00<00:00, 140.95it/s]\n",
      "Computing chunks: 100%|████████████████████████| 2/2 [00:00<00:00, 83886.08it/s]\n",
      "Splitting the experimental spectrum into chunks: 55902it [00:00, 2898735.05it/s]\n",
      "Deconvolving chunks: 100%|████████████████████████| 1/1 [00:37<00:00, 37.19s/it]\n"
     ]
    },
    {
     "name": "stdout",
     "output_type": "stream",
     "text": [
      "Estimation for 0.26 and 0.23 done\n",
      "It took: 37.26506757736206 seconds.\n",
      "[0.5223279959389988, 0.47409260273399884]\n"
     ]
    },
    {
     "name": "stderr",
     "output_type": "stream",
     "text": [
      "Initial filtering of formulas: 100%|█████████████| 2/2 [00:00<00:00, 126.93it/s]\n",
      "Computing chunks: 100%|███████████████████████| 2/2 [00:00<00:00, 103563.06it/s]\n",
      "Splitting the experimental spectrum into chunks: 55902it [00:00, 2788454.47it/s]\n",
      "Deconvolving chunks: 100%|████████████████████████| 1/1 [00:36<00:00, 36.72s/it]\n"
     ]
    },
    {
     "name": "stdout",
     "output_type": "stream",
     "text": [
      "Estimation for 0.26 and 0.24000000000000002 done\n",
      "It took: 36.79729771614075 seconds.\n",
      "[0.5221814448339988, 0.47418183668599884]\n"
     ]
    },
    {
     "name": "stderr",
     "output_type": "stream",
     "text": [
      "Initial filtering of formulas: 100%|█████████████| 2/2 [00:00<00:00, 142.97it/s]\n",
      "Computing chunks: 100%|████████████████████████| 2/2 [00:00<00:00, 92182.51it/s]\n",
      "Splitting the experimental spectrum into chunks: 55902it [00:00, 3082251.87it/s]\n",
      "Deconvolving chunks: 100%|████████████████████████| 1/1 [00:46<00:00, 46.22s/it]\n"
     ]
    },
    {
     "name": "stdout",
     "output_type": "stream",
     "text": [
      "Estimation for 0.26 and 0.25 done\n",
      "It took: 46.2991464138031 seconds.\n",
      "[0.5219965098619987, 0.47428861693099883]\n"
     ]
    },
    {
     "name": "stderr",
     "output_type": "stream",
     "text": [
      "Initial filtering of formulas: 100%|█████████████| 2/2 [00:00<00:00, 103.53it/s]\n",
      "Computing chunks: 100%|████████████████████████| 2/2 [00:00<00:00, 53773.13it/s]\n",
      "Splitting the experimental spectrum into chunks: 55902it [00:00, 1703984.58it/s]\n",
      "Deconvolving chunks: 100%|████████████████████████| 1/1 [00:51<00:00, 51.42s/it]\n"
     ]
    },
    {
     "name": "stdout",
     "output_type": "stream",
     "text": [
      "Estimation for 0.26 and 0.26 done\n",
      "It took: 51.53111410140991 seconds.\n",
      "[0.5217685351369987, 0.4744168252859988]\n"
     ]
    },
    {
     "name": "stderr",
     "output_type": "stream",
     "text": [
      "Initial filtering of formulas: 100%|█████████████| 2/2 [00:00<00:00, 113.24it/s]\n",
      "Computing chunks: 100%|████████████████████████| 2/2 [00:00<00:00, 68200.07it/s]\n",
      "Splitting the experimental spectrum into chunks: 55902it [00:00, 2280925.15it/s]\n",
      "Deconvolving chunks: 100%|████████████████████████| 1/1 [00:50<00:00, 50.08s/it]\n"
     ]
    },
    {
     "name": "stdout",
     "output_type": "stream",
     "text": [
      "Estimation for 0.26 and 0.27 done\n",
      "It took: 50.172144174575806 seconds.\n",
      "[0.5214845604919988, 0.4745853171289988]\n"
     ]
    },
    {
     "name": "stderr",
     "output_type": "stream",
     "text": [
      "Initial filtering of formulas: 100%|█████████████| 2/2 [00:00<00:00, 115.26it/s]\n",
      "Computing chunks: 100%|████████████████████████| 2/2 [00:00<00:00, 58254.22it/s]\n",
      "Splitting the experimental spectrum into chunks: 55902it [00:00, 2517906.62it/s]\n",
      "Deconvolving chunks: 100%|████████████████████████| 1/1 [00:53<00:00, 53.07s/it]\n"
     ]
    },
    {
     "name": "stdout",
     "output_type": "stream",
     "text": [
      "Estimation for 0.26 and 0.28 done\n",
      "It took: 53.16033911705017 seconds.\n",
      "[0.5212638006009988, 0.47470095311099886]\n"
     ]
    },
    {
     "name": "stderr",
     "output_type": "stream",
     "text": [
      "Initial filtering of formulas: 100%|█████████████| 2/2 [00:00<00:00, 108.69it/s]\n",
      "Computing chunks: 100%|████████████████████████| 2/2 [00:00<00:00, 67650.06it/s]\n",
      "Splitting the experimental spectrum into chunks: 55902it [00:00, 2270302.02it/s]\n",
      "Deconvolving chunks: 100%|████████████████████████| 1/1 [00:57<00:00, 57.94s/it]\n"
     ]
    },
    {
     "name": "stdout",
     "output_type": "stream",
     "text": [
      "Estimation for 0.26 and 0.29000000000000004 done\n",
      "It took: 58.03477883338928 seconds.\n",
      "[0.5209956515199988, 0.47479474777999886]\n"
     ]
    },
    {
     "name": "stderr",
     "output_type": "stream",
     "text": [
      "Initial filtering of formulas: 100%|█████████████| 2/2 [00:00<00:00, 109.46it/s]\n",
      "Computing chunks: 100%|████████████████████████| 2/2 [00:00<00:00, 29537.35it/s]\n",
      "Splitting the experimental spectrum into chunks: 55902it [00:00, 2358639.38it/s]\n",
      "Deconvolving chunks: 100%|████████████████████████| 1/1 [00:47<00:00, 47.80s/it]\n"
     ]
    },
    {
     "name": "stdout",
     "output_type": "stream",
     "text": [
      "Estimation for 0.26 and 0.3 done\n",
      "It took: 47.89170598983765 seconds.\n",
      "[0.5206776072779988, 0.4748666175219988]\n"
     ]
    },
    {
     "name": "stderr",
     "output_type": "stream",
     "text": [
      "Initial filtering of formulas: 100%|█████████████| 2/2 [00:00<00:00, 136.13it/s]\n",
      "Computing chunks: 100%|████████████████████████| 2/2 [00:00<00:00, 84733.41it/s]\n",
      "Splitting the experimental spectrum into chunks: 55902it [00:00, 2958014.56it/s]\n",
      "Deconvolving chunks: 100%|████████████████████████| 1/1 [00:38<00:00, 38.43s/it]\n"
     ]
    },
    {
     "name": "stdout",
     "output_type": "stream",
     "text": [
      "Estimation for 0.27 and 0.01 done\n",
      "It took: 38.50978136062622 seconds.\n",
      "[0.5131295905789988, 0.4864081906409988]\n"
     ]
    },
    {
     "name": "stderr",
     "output_type": "stream",
     "text": [
      "Initial filtering of formulas: 100%|█████████████| 2/2 [00:00<00:00, 131.99it/s]\n",
      "Computing chunks: 100%|████████████████████████| 2/2 [00:00<00:00, 55553.70it/s]\n",
      "Splitting the experimental spectrum into chunks: 55902it [00:00, 2840029.34it/s]\n",
      "Deconvolving chunks: 100%|████████████████████████| 1/1 [00:40<00:00, 40.51s/it]\n"
     ]
    },
    {
     "name": "stdout",
     "output_type": "stream",
     "text": [
      "Estimation for 0.27 and 0.02 done\n",
      "It took: 40.58627510070801 seconds.\n",
      "[0.5187049622039988, 0.48064761623799884]\n"
     ]
    },
    {
     "name": "stderr",
     "output_type": "stream",
     "text": [
      "Initial filtering of formulas: 100%|█████████████| 2/2 [00:00<00:00, 139.05it/s]\n",
      "Computing chunks: 100%|████████████████████████| 2/2 [00:00<00:00, 82241.25it/s]\n",
      "Splitting the experimental spectrum into chunks: 55902it [00:00, 2990154.59it/s]\n",
      "Deconvolving chunks: 100%|████████████████████████| 1/1 [00:38<00:00, 38.25s/it]\n"
     ]
    },
    {
     "name": "stdout",
     "output_type": "stream",
     "text": [
      "Estimation for 0.27 and 0.03 done\n",
      "It took: 38.32073664665222 seconds.\n",
      "[0.5216269336429987, 0.47730790648199883]\n"
     ]
    },
    {
     "name": "stderr",
     "output_type": "stream",
     "text": [
      "Initial filtering of formulas: 100%|█████████████| 2/2 [00:00<00:00, 120.03it/s]\n",
      "Computing chunks: 100%|████████████████████████| 2/2 [00:00<00:00, 59074.70it/s]\n",
      "Splitting the experimental spectrum into chunks: 55902it [00:00, 2692210.33it/s]\n",
      "Deconvolving chunks: 100%|████████████████████████| 1/1 [00:46<00:00, 46.44s/it]\n"
     ]
    },
    {
     "name": "stdout",
     "output_type": "stream",
     "text": [
      "Estimation for 0.27 and 0.04 done\n",
      "It took: 46.51802039146423 seconds.\n",
      "[0.5220209563789988, 0.47644563859699884]\n"
     ]
    },
    {
     "name": "stderr",
     "output_type": "stream",
     "text": [
      "Initial filtering of formulas: 100%|█████████████| 2/2 [00:00<00:00, 119.04it/s]\n",
      "Computing chunks: 100%|████████████████████████| 2/2 [00:00<00:00, 62601.55it/s]\n",
      "Splitting the experimental spectrum into chunks: 55902it [00:00, 2470705.82it/s]\n",
      "Deconvolving chunks: 100%|████████████████████████| 1/1 [00:51<00:00, 51.06s/it]\n"
     ]
    },
    {
     "name": "stdout",
     "output_type": "stream",
     "text": [
      "Estimation for 0.27 and 0.05 done\n",
      "It took: 51.155898094177246 seconds.\n",
      "[0.5233809610719987, 0.4745377944079988]\n"
     ]
    },
    {
     "name": "stderr",
     "output_type": "stream",
     "text": [
      "Initial filtering of formulas: 100%|█████████████| 2/2 [00:00<00:00, 113.90it/s]\n",
      "Computing chunks: 100%|████████████████████████| 2/2 [00:00<00:00, 57852.47it/s]\n",
      "Splitting the experimental spectrum into chunks: 55902it [00:00, 2124399.59it/s]\n",
      "Deconvolving chunks: 100%|████████████████████████| 1/1 [00:50<00:00, 50.19s/it]\n"
     ]
    },
    {
     "name": "stdout",
     "output_type": "stream",
     "text": [
      "Estimation for 0.27 and 0.060000000000000005 done\n",
      "It took: 50.28638195991516 seconds.\n",
      "[0.5238193186859986, 0.4739520335599988]\n"
     ]
    },
    {
     "name": "stderr",
     "output_type": "stream",
     "text": [
      "Initial filtering of formulas: 100%|█████████████| 2/2 [00:00<00:00, 110.71it/s]\n",
      "Computing chunks: 100%|████████████████████████| 2/2 [00:00<00:00, 37786.52it/s]\n",
      "Splitting the experimental spectrum into chunks: 55902it [00:00, 2483634.33it/s]\n",
      "Deconvolving chunks: 100%|████████████████████████| 1/1 [00:53<00:00, 53.81s/it]\n"
     ]
    },
    {
     "name": "stdout",
     "output_type": "stream",
     "text": [
      "Estimation for 0.27 and 0.06999999999999999 done\n",
      "It took: 53.90795564651489 seconds.\n",
      "[0.5239957361429987, 0.47365037144999883]\n"
     ]
    },
    {
     "name": "stderr",
     "output_type": "stream",
     "text": [
      "Initial filtering of formulas: 100%|█████████████| 2/2 [00:00<00:00, 126.03it/s]\n",
      "Computing chunks: 100%|████████████████████████| 2/2 [00:00<00:00, 81442.80it/s]\n",
      "Splitting the experimental spectrum into chunks: 55902it [00:00, 2602417.20it/s]\n",
      "Deconvolving chunks: 100%|████████████████████████| 1/1 [01:01<00:00, 61.28s/it]\n"
     ]
    },
    {
     "name": "stdout",
     "output_type": "stream",
     "text": [
      "Estimation for 0.27 and 0.08 done\n",
      "It took: 61.365622758865356 seconds.\n",
      "[0.5240527495109987, 0.47355975263499883]\n"
     ]
    },
    {
     "name": "stderr",
     "output_type": "stream",
     "text": [
      "Initial filtering of formulas: 100%|█████████████| 2/2 [00:00<00:00, 116.72it/s]\n",
      "Computing chunks: 100%|████████████████████████| 2/2 [00:00<00:00, 54120.05it/s]\n",
      "Splitting the experimental spectrum into chunks: 55902it [00:00, 2404228.52it/s]\n",
      "Deconvolving chunks: 100%|████████████████████████| 1/1 [00:53<00:00, 53.18s/it]\n"
     ]
    },
    {
     "name": "stdout",
     "output_type": "stream",
     "text": [
      "Estimation for 0.27 and 0.09 done\n",
      "It took: 53.27550387382507 seconds.\n",
      "[0.5240508809279987, 0.47350823829699884]\n"
     ]
    },
    {
     "name": "stderr",
     "output_type": "stream",
     "text": [
      "Initial filtering of formulas: 100%|█████████████| 2/2 [00:00<00:00, 131.09it/s]\n",
      "Computing chunks: 100%|████████████████████████| 2/2 [00:00<00:00, 87381.33it/s]\n",
      "Splitting the experimental spectrum into chunks: 55902it [00:00, 2704538.70it/s]\n",
      "Deconvolving chunks: 100%|████████████████████████| 1/1 [00:37<00:00, 37.89s/it]\n"
     ]
    },
    {
     "name": "stdout",
     "output_type": "stream",
     "text": [
      "Estimation for 0.27 and 0.09999999999999999 done\n",
      "It took: 37.97068929672241 seconds.\n",
      "[0.5240404163689987, 0.4734562935109988]\n"
     ]
    },
    {
     "name": "stderr",
     "output_type": "stream",
     "text": [
      "Initial filtering of formulas: 100%|█████████████| 2/2 [00:00<00:00, 133.52it/s]\n",
      "Computing chunks: 100%|████████████████████████| 2/2 [00:00<00:00, 44150.57it/s]\n",
      "Splitting the experimental spectrum into chunks: 55902it [00:00, 2605859.01it/s]\n",
      "Deconvolving chunks: 100%|████████████████████████| 1/1 [00:39<00:00, 39.94s/it]\n"
     ]
    },
    {
     "name": "stdout",
     "output_type": "stream",
     "text": [
      "Estimation for 0.27 and 0.11 done\n",
      "It took: 40.019835472106934 seconds.\n",
      "[0.5241671532519987, 0.4733669693329988]\n"
     ]
    },
    {
     "name": "stderr",
     "output_type": "stream",
     "text": [
      "Initial filtering of formulas: 100%|█████████████| 2/2 [00:00<00:00, 138.42it/s]\n",
      "Computing chunks: 100%|███████████████████████| 2/2 [00:00<00:00, 103563.06it/s]\n",
      "Splitting the experimental spectrum into chunks: 55902it [00:00, 2843128.72it/s]\n",
      "Deconvolving chunks: 100%|████████████████████████| 1/1 [00:39<00:00, 39.17s/it]\n"
     ]
    },
    {
     "name": "stdout",
     "output_type": "stream",
     "text": [
      "Estimation for 0.27 and 0.12 done\n",
      "It took: 39.247132539749146 seconds.\n",
      "[0.5242322154949987, 0.47328849295899883]\n"
     ]
    },
    {
     "name": "stderr",
     "output_type": "stream",
     "text": [
      "Initial filtering of formulas: 100%|█████████████| 2/2 [00:00<00:00, 138.62it/s]\n",
      "Computing chunks: 100%|████████████████████████| 2/2 [00:00<00:00, 91180.52it/s]\n",
      "Splitting the experimental spectrum into chunks: 55902it [00:00, 2922035.62it/s]\n",
      "Deconvolving chunks: 100%|████████████████████████| 1/1 [00:42<00:00, 42.72s/it]\n"
     ]
    },
    {
     "name": "stdout",
     "output_type": "stream",
     "text": [
      "Estimation for 0.27 and 0.13 done\n",
      "It took: 42.80488872528076 seconds.\n",
      "[0.5242780879189987, 0.4732146445509988]\n"
     ]
    },
    {
     "name": "stderr",
     "output_type": "stream",
     "text": [
      "Initial filtering of formulas: 100%|██████████████| 2/2 [00:00<00:00, 75.72it/s]\n",
      "Computing chunks: 100%|████████████████████████| 2/2 [00:00<00:00, 51463.85it/s]\n",
      "Splitting the experimental spectrum into chunks: 55902it [00:00, 1925515.17it/s]\n",
      "Deconvolving chunks: 100%|████████████████████████| 1/1 [00:57<00:00, 57.82s/it]\n"
     ]
    },
    {
     "name": "stdout",
     "output_type": "stream",
     "text": [
      "Estimation for 0.27 and 0.14 done\n",
      "It took: 57.94411277770996 seconds.\n",
      "[0.5242220534489986, 0.47322666853299883]\n"
     ]
    },
    {
     "name": "stderr",
     "output_type": "stream",
     "text": [
      "Initial filtering of formulas: 100%|█████████████| 2/2 [00:00<00:00, 119.30it/s]\n",
      "Computing chunks: 100%|████████████████████████| 2/2 [00:00<00:00, 70492.50it/s]\n",
      "Splitting the experimental spectrum into chunks: 55902it [00:00, 2406696.32it/s]\n",
      "Deconvolving chunks: 100%|████████████████████████| 1/1 [00:58<00:00, 58.07s/it]\n"
     ]
    },
    {
     "name": "stdout",
     "output_type": "stream",
     "text": [
      "Estimation for 0.27 and 0.15000000000000002 done\n",
      "It took: 58.16819620132446 seconds.\n",
      "[0.5240698503519987, 0.47326283083599885]\n"
     ]
    },
    {
     "name": "stderr",
     "output_type": "stream",
     "text": [
      "Initial filtering of formulas: 100%|█████████████| 2/2 [00:00<00:00, 124.22it/s]\n",
      "Computing chunks: 100%|████████████████████████| 2/2 [00:00<00:00, 61230.72it/s]\n",
      "Splitting the experimental spectrum into chunks: 55902it [00:00, 2471252.67it/s]\n",
      "Deconvolving chunks: 100%|████████████████████████| 1/1 [00:52<00:00, 52.61s/it]\n"
     ]
    },
    {
     "name": "stdout",
     "output_type": "stream",
     "text": [
      "Estimation for 0.27 and 0.16 done\n",
      "It took: 52.69693422317505 seconds.\n",
      "[0.5238856810599987, 0.47331783511899883]\n"
     ]
    },
    {
     "name": "stderr",
     "output_type": "stream",
     "text": [
      "Initial filtering of formulas: 100%|█████████████| 2/2 [00:00<00:00, 122.54it/s]\n",
      "Computing chunks: 100%|████████████████████████| 2/2 [00:00<00:00, 11814.94it/s]\n",
      "Splitting the experimental spectrum into chunks: 55902it [00:00, 2579541.26it/s]\n",
      "Deconvolving chunks: 100%|████████████████████████| 1/1 [00:52<00:00, 52.77s/it]\n"
     ]
    },
    {
     "name": "stdout",
     "output_type": "stream",
     "text": [
      "Estimation for 0.27 and 0.17 done\n",
      "It took: 52.85369944572449 seconds.\n",
      "[0.5236045194489987, 0.47345569369299884]\n"
     ]
    },
    {
     "name": "stderr",
     "output_type": "stream",
     "text": [
      "Initial filtering of formulas: 100%|█████████████| 2/2 [00:00<00:00, 125.40it/s]\n",
      "Computing chunks: 100%|████████████████████████| 2/2 [00:00<00:00, 80659.69it/s]\n",
      "Splitting the experimental spectrum into chunks: 55902it [00:00, 2655529.56it/s]\n",
      "Deconvolving chunks: 100%|████████████████████████| 1/1 [00:54<00:00, 54.36s/it]\n"
     ]
    },
    {
     "name": "stdout",
     "output_type": "stream",
     "text": [
      "Estimation for 0.27 and 0.18000000000000002 done\n",
      "It took: 54.44062161445618 seconds.\n",
      "[0.5235193892649986, 0.47347058489599886]\n"
     ]
    },
    {
     "name": "stderr",
     "output_type": "stream",
     "text": [
      "Initial filtering of formulas: 100%|█████████████| 2/2 [00:00<00:00, 121.59it/s]\n",
      "Computing chunks: 100%|████████████████████████| 2/2 [00:00<00:00, 72315.59it/s]\n",
      "Splitting the experimental spectrum into chunks: 55902it [00:00, 2665522.06it/s]\n",
      "Deconvolving chunks: 100%|████████████████████████| 1/1 [00:39<00:00, 39.12s/it]\n"
     ]
    },
    {
     "name": "stdout",
     "output_type": "stream",
     "text": [
      "Estimation for 0.27 and 0.19 done\n",
      "It took: 39.202346086502075 seconds.\n",
      "[0.5234458209519987, 0.47348146884599884]\n"
     ]
    },
    {
     "name": "stderr",
     "output_type": "stream",
     "text": [
      "Initial filtering of formulas: 100%|█████████████| 2/2 [00:00<00:00, 135.17it/s]\n",
      "Computing chunks: 100%|████████████████████████| 2/2 [00:00<00:00, 91180.52it/s]\n",
      "Splitting the experimental spectrum into chunks: 55902it [00:00, 2808932.02it/s]\n",
      "Deconvolving chunks: 100%|████████████████████████| 1/1 [00:36<00:00, 36.12s/it]\n"
     ]
    },
    {
     "name": "stdout",
     "output_type": "stream",
     "text": [
      "Estimation for 0.27 and 0.2 done\n",
      "It took: 36.19269609451294 seconds.\n",
      "[0.5234305040659987, 0.47347721024199885]\n"
     ]
    },
    {
     "name": "stderr",
     "output_type": "stream",
     "text": [
      "Initial filtering of formulas: 100%|█████████████| 2/2 [00:00<00:00, 142.31it/s]\n",
      "Computing chunks: 100%|████████████████████████| 2/2 [00:00<00:00, 95325.09it/s]\n",
      "Splitting the experimental spectrum into chunks: 55902it [00:00, 2914734.44it/s]\n",
      "Deconvolving chunks: 100%|████████████████████████| 1/1 [00:35<00:00, 35.98s/it]\n"
     ]
    },
    {
     "name": "stdout",
     "output_type": "stream",
     "text": [
      "Estimation for 0.27 and 0.21000000000000002 done\n",
      "It took: 36.04800891876221 seconds.\n",
      "[0.5233253090599986, 0.47352963561499883]\n"
     ]
    },
    {
     "name": "stderr",
     "output_type": "stream",
     "text": [
      "Initial filtering of formulas: 100%|█████████████| 2/2 [00:00<00:00, 140.35it/s]\n",
      "Computing chunks: 100%|████████████████████████| 2/2 [00:00<00:00, 52428.80it/s]\n",
      "Splitting the experimental spectrum into chunks: 55902it [00:00, 2880042.04it/s]\n",
      "Deconvolving chunks: 100%|████████████████████████| 1/1 [00:37<00:00, 37.52s/it]\n"
     ]
    },
    {
     "name": "stdout",
     "output_type": "stream",
     "text": [
      "Estimation for 0.27 and 0.22 done\n",
      "It took: 37.58832931518555 seconds.\n",
      "[0.5231575538779987, 0.47362334503099884]\n"
     ]
    },
    {
     "name": "stderr",
     "output_type": "stream",
     "text": [
      "Initial filtering of formulas: 100%|█████████████| 2/2 [00:00<00:00, 135.96it/s]\n",
      "Computing chunks: 100%|████████████████████████| 2/2 [00:00<00:00, 76959.71it/s]\n",
      "Splitting the experimental spectrum into chunks: 55902it [00:00, 2831284.35it/s]\n",
      "Deconvolving chunks: 100%|████████████████████████| 1/1 [00:49<00:00, 49.74s/it]\n"
     ]
    },
    {
     "name": "stdout",
     "output_type": "stream",
     "text": [
      "Estimation for 0.27 and 0.23 done\n",
      "It took: 49.814486503601074 seconds.\n",
      "[0.5229084868289987, 0.4737605648309988]\n"
     ]
    },
    {
     "name": "stderr",
     "output_type": "stream",
     "text": [
      "Initial filtering of formulas: 100%|█████████████| 2/2 [00:00<00:00, 120.86it/s]\n",
      "Computing chunks: 100%|████████████████████████| 2/2 [00:00<00:00, 30393.51it/s]\n",
      "Splitting the experimental spectrum into chunks: 55902it [00:00, 2298364.79it/s]\n",
      "Deconvolving chunks: 100%|████████████████████████| 1/1 [00:49<00:00, 49.42s/it]\n"
     ]
    },
    {
     "name": "stdout",
     "output_type": "stream",
     "text": [
      "Estimation for 0.27 and 0.24000000000000002 done\n",
      "It took: 49.511953353881836 seconds.\n",
      "[0.5226749199089987, 0.4739050097529988]\n"
     ]
    },
    {
     "name": "stderr",
     "output_type": "stream",
     "text": [
      "Initial filtering of formulas: 100%|█████████████| 2/2 [00:00<00:00, 124.68it/s]\n",
      "Computing chunks: 100%|████████████████████████| 2/2 [00:00<00:00, 60349.70it/s]\n",
      "Splitting the experimental spectrum into chunks: 55902it [00:00, 2564531.46it/s]\n",
      "Deconvolving chunks: 100%|████████████████████████| 1/1 [00:50<00:00, 50.84s/it]\n"
     ]
    },
    {
     "name": "stdout",
     "output_type": "stream",
     "text": [
      "Estimation for 0.27 and 0.25 done\n",
      "It took: 50.92293930053711 seconds.\n",
      "[0.5223738305829988, 0.47407114693799884]\n"
     ]
    },
    {
     "name": "stderr",
     "output_type": "stream",
     "text": [
      "Initial filtering of formulas: 100%|█████████████| 2/2 [00:00<00:00, 123.12it/s]\n",
      "Computing chunks: 100%|████████████████████████| 2/2 [00:00<00:00, 72315.59it/s]\n",
      "Splitting the experimental spectrum into chunks: 55902it [00:00, 2469040.71it/s]\n",
      "Deconvolving chunks: 100%|████████████████████████| 1/1 [01:03<00:00, 63.32s/it]\n"
     ]
    },
    {
     "name": "stdout",
     "output_type": "stream",
     "text": [
      "Estimation for 0.27 and 0.26 done\n",
      "It took: 63.41245436668396 seconds.\n",
      "[0.5221683486809988, 0.47419822276199886]\n"
     ]
    },
    {
     "name": "stderr",
     "output_type": "stream",
     "text": [
      "Initial filtering of formulas: 100%|█████████████| 2/2 [00:00<00:00, 110.99it/s]\n",
      "Computing chunks: 100%|████████████████████████| 2/2 [00:00<00:00, 63550.06it/s]\n",
      "Splitting the experimental spectrum into chunks: 55902it [00:00, 2341117.91it/s]\n",
      "Deconvolving chunks: 100%|████████████████████████| 1/1 [00:57<00:00, 57.67s/it]\n"
     ]
    },
    {
     "name": "stdout",
     "output_type": "stream",
     "text": [
      "Estimation for 0.27 and 0.27 done\n",
      "It took: 57.75642728805542 seconds.\n",
      "[0.5219859650879988, 0.47430949187199883]\n"
     ]
    },
    {
     "name": "stderr",
     "output_type": "stream",
     "text": [
      "Initial filtering of formulas: 100%|█████████████| 2/2 [00:00<00:00, 138.29it/s]\n",
      "Computing chunks: 100%|████████████████████████| 2/2 [00:00<00:00, 94254.02it/s]\n",
      "Splitting the experimental spectrum into chunks: 55902it [00:00, 2905632.10it/s]\n",
      "Deconvolving chunks: 100%|████████████████████████| 1/1 [00:39<00:00, 39.22s/it]\n"
     ]
    },
    {
     "name": "stdout",
     "output_type": "stream",
     "text": [
      "Estimation for 0.27 and 0.28 done\n",
      "It took: 39.29620623588562 seconds.\n",
      "[0.5217565195599988, 0.47442421519199884]\n"
     ]
    },
    {
     "name": "stderr",
     "output_type": "stream",
     "text": [
      "Initial filtering of formulas: 100%|█████████████| 2/2 [00:00<00:00, 138.41it/s]\n",
      "Computing chunks: 100%|████████████████████████| 2/2 [00:00<00:00, 53773.13it/s]\n",
      "Splitting the experimental spectrum into chunks: 55902it [00:00, 2933037.89it/s]\n",
      "Deconvolving chunks: 100%|████████████████████████| 1/1 [00:40<00:00, 40.57s/it]\n"
     ]
    },
    {
     "name": "stdout",
     "output_type": "stream",
     "text": [
      "Estimation for 0.27 and 0.29000000000000004 done\n",
      "It took: 40.64811444282532 seconds.\n",
      "[0.5214959177529987, 0.4745815413089988]\n"
     ]
    },
    {
     "name": "stderr",
     "output_type": "stream",
     "text": [
      "Initial filtering of formulas: 100%|█████████████| 2/2 [00:00<00:00, 136.71it/s]\n",
      "Computing chunks: 100%|███████████████████████| 2/2 [00:00<00:00, 103563.06it/s]\n",
      "Splitting the experimental spectrum into chunks: 55902it [00:00, 2969553.21it/s]\n",
      "Deconvolving chunks: 100%|████████████████████████| 1/1 [00:38<00:00, 38.71s/it]\n"
     ]
    },
    {
     "name": "stdout",
     "output_type": "stream",
     "text": [
      "Estimation for 0.27 and 0.3 done\n",
      "It took: 38.782272815704346 seconds.\n",
      "[0.5213457207419988, 0.47463674952299884]\n"
     ]
    },
    {
     "name": "stderr",
     "output_type": "stream",
     "text": [
      "Initial filtering of formulas: 100%|█████████████| 2/2 [00:00<00:00, 129.95it/s]\n",
      "Computing chunks: 100%|████████████████████████| 2/2 [00:00<00:00, 85598.04it/s]\n",
      "Splitting the experimental spectrum into chunks: 55902it [00:00, 2185955.72it/s]\n",
      "Deconvolving chunks: 100%|████████████████████████| 1/1 [00:53<00:00, 53.86s/it]\n"
     ]
    },
    {
     "name": "stdout",
     "output_type": "stream",
     "text": [
      "Estimation for 0.28 and 0.01 done\n",
      "It took: 53.94032526016235 seconds.\n",
      "[0.5132314076489988, 0.48641090053299885]\n"
     ]
    },
    {
     "name": "stderr",
     "output_type": "stream",
     "text": [
      "Initial filtering of formulas: 100%|█████████████| 2/2 [00:00<00:00, 123.75it/s]\n",
      "Computing chunks: 100%|████████████████████████| 2/2 [00:00<00:00, 48210.39it/s]\n",
      "Splitting the experimental spectrum into chunks: 55902it [00:00, 2227277.74it/s]\n",
      "Deconvolving chunks: 100%|████████████████████████| 1/1 [00:57<00:00, 57.63s/it]\n"
     ]
    },
    {
     "name": "stdout",
     "output_type": "stream",
     "text": [
      "Estimation for 0.28 and 0.02 done\n",
      "It took: 57.72157907485962 seconds.\n",
      "[0.5187928567839988, 0.48068752238499884]\n"
     ]
    },
    {
     "name": "stderr",
     "output_type": "stream",
     "text": [
      "Initial filtering of formulas: 100%|█████████████| 2/2 [00:00<00:00, 124.97it/s]\n",
      "Computing chunks: 100%|████████████████████████| 2/2 [00:00<00:00, 54827.50it/s]\n",
      "Splitting the experimental spectrum into chunks: 55902it [00:00, 2631921.41it/s]\n",
      "Deconvolving chunks: 100%|████████████████████████| 1/1 [00:38<00:00, 38.64s/it]\n"
     ]
    },
    {
     "name": "stdout",
     "output_type": "stream",
     "text": [
      "Estimation for 0.28 and 0.03 done\n",
      "It took: 38.71718788146973 seconds.\n",
      "[0.5217164566429988, 0.4773723021679988]\n"
     ]
    },
    {
     "name": "stderr",
     "output_type": "stream",
     "text": [
      "Initial filtering of formulas: 100%|█████████████| 2/2 [00:00<00:00, 128.11it/s]\n",
      "Computing chunks: 100%|████████████████████████| 2/2 [00:00<00:00, 33026.02it/s]\n",
      "Splitting the experimental spectrum into chunks: 55902it [00:00, 1498967.42it/s]\n",
      "Deconvolving chunks: 100%|████████████████████████| 1/1 [00:37<00:00, 37.57s/it]\n"
     ]
    },
    {
     "name": "stdout",
     "output_type": "stream",
     "text": [
      "Estimation for 0.28 and 0.04 done\n",
      "It took: 37.67069125175476 seconds.\n",
      "[0.5222067334649988, 0.47635974864599884]\n"
     ]
    },
    {
     "name": "stderr",
     "output_type": "stream",
     "text": [
      "Initial filtering of formulas: 100%|█████████████| 2/2 [00:00<00:00, 138.00it/s]\n",
      "Computing chunks: 100%|████████████████████████| 2/2 [00:00<00:00, 93206.76it/s]\n",
      "Splitting the experimental spectrum into chunks: 55902it [00:00, 2795935.92it/s]\n",
      "Deconvolving chunks: 100%|████████████████████████| 1/1 [00:39<00:00, 39.07s/it]\n"
     ]
    },
    {
     "name": "stdout",
     "output_type": "stream",
     "text": [
      "Estimation for 0.28 and 0.05 done\n",
      "It took: 39.14444327354431 seconds.\n",
      "[0.5233938450049986, 0.4746126733109988]\n"
     ]
    },
    {
     "name": "stderr",
     "output_type": "stream",
     "text": [
      "Initial filtering of formulas: 100%|█████████████| 2/2 [00:00<00:00, 135.00it/s]\n",
      "Computing chunks: 100%|████████████████████████| 2/2 [00:00<00:00, 98689.51it/s]\n",
      "Splitting the experimental spectrum into chunks: 55902it [00:00, 2743783.07it/s]\n",
      "Deconvolving chunks: 100%|████████████████████████| 1/1 [00:36<00:00, 36.00s/it]\n"
     ]
    },
    {
     "name": "stdout",
     "output_type": "stream",
     "text": [
      "Estimation for 0.28 and 0.060000000000000005 done\n",
      "It took: 36.07309556007385 seconds.\n",
      "[0.5238085387559986, 0.47405461812999883]\n"
     ]
    },
    {
     "name": "stderr",
     "output_type": "stream",
     "text": [
      "Initial filtering of formulas: 100%|█████████████| 2/2 [00:00<00:00, 135.71it/s]\n",
      "Computing chunks: 100%|████████████████████████| 2/2 [00:00<00:00, 98689.51it/s]\n",
      "Splitting the experimental spectrum into chunks: 55902it [00:00, 2934983.75it/s]\n",
      "Deconvolving chunks: 100%|████████████████████████| 1/1 [00:49<00:00, 49.13s/it]\n"
     ]
    },
    {
     "name": "stdout",
     "output_type": "stream",
     "text": [
      "Estimation for 0.28 and 0.06999999999999999 done\n",
      "It took: 49.20562171936035 seconds.\n",
      "[0.5241022209919987, 0.47362963365599886]\n"
     ]
    },
    {
     "name": "stderr",
     "output_type": "stream",
     "text": [
      "Initial filtering of formulas: 100%|█████████████| 2/2 [00:00<00:00, 118.16it/s]\n",
      "Computing chunks: 100%|████████████████████████| 2/2 [00:00<00:00, 57456.22it/s]\n",
      "Splitting the experimental spectrum into chunks: 55902it [00:00, 2469742.91it/s]\n",
      "Deconvolving chunks: 100%|████████████████████████| 1/1 [00:46<00:00, 46.12s/it]\n"
     ]
    },
    {
     "name": "stdout",
     "output_type": "stream",
     "text": [
      "Estimation for 0.28 and 0.08 done\n",
      "It took: 46.21489095687866 seconds.\n",
      "[0.5241380225369987, 0.47355596844099884]\n"
     ]
    },
    {
     "name": "stderr",
     "output_type": "stream",
     "text": [
      "Initial filtering of formulas: 100%|█████████████| 2/2 [00:00<00:00, 120.60it/s]\n",
      "Computing chunks: 100%|████████████████████████| 2/2 [00:00<00:00, 39383.14it/s]\n",
      "Splitting the experimental spectrum into chunks: 55902it [00:00, 2111143.97it/s]\n",
      "Deconvolving chunks: 100%|████████████████████████| 1/1 [00:56<00:00, 56.69s/it]\n"
     ]
    },
    {
     "name": "stdout",
     "output_type": "stream",
     "text": [
      "Estimation for 0.28 and 0.09 done\n",
      "It took: 56.781506299972534 seconds.\n",
      "[0.5241987449619987, 0.4734595343079988]\n"
     ]
    },
    {
     "name": "stderr",
     "output_type": "stream",
     "text": [
      "Initial filtering of formulas: 100%|█████████████| 2/2 [00:00<00:00, 113.41it/s]\n",
      "Computing chunks: 100%|████████████████████████| 2/2 [00:00<00:00, 70492.50it/s]\n",
      "Splitting the experimental spectrum into chunks: 55902it [00:00, 2369029.76it/s]\n",
      "Deconvolving chunks: 100%|████████████████████████| 1/1 [00:53<00:00, 53.90s/it]\n"
     ]
    },
    {
     "name": "stdout",
     "output_type": "stream",
     "text": [
      "Estimation for 0.28 and 0.09999999999999999 done\n",
      "It took: 53.98798489570618 seconds.\n",
      "[0.5242874408189987, 0.47338673430199885]\n"
     ]
    },
    {
     "name": "stderr",
     "output_type": "stream",
     "text": [
      "Initial filtering of formulas: 100%|█████████████| 2/2 [00:00<00:00, 105.59it/s]\n",
      "Computing chunks: 100%|████████████████████████| 2/2 [00:00<00:00, 45100.04it/s]\n",
      "Splitting the experimental spectrum into chunks: 55902it [00:00, 1942616.96it/s]\n",
      "Deconvolving chunks: 100%|████████████████████████| 1/1 [00:55<00:00, 55.03s/it]\n"
     ]
    },
    {
     "name": "stdout",
     "output_type": "stream",
     "text": [
      "Estimation for 0.28 and 0.11 done\n",
      "It took: 55.133158683776855 seconds.\n",
      "[0.5243429847519987, 0.4732806203639988]\n"
     ]
    },
    {
     "name": "stderr",
     "output_type": "stream",
     "text": [
      "Initial filtering of formulas: 100%|█████████████| 2/2 [00:00<00:00, 116.39it/s]\n",
      "Computing chunks: 100%|████████████████████████| 2/2 [00:00<00:00, 15505.74it/s]\n",
      "Splitting the experimental spectrum into chunks: 55902it [00:00, 2374115.11it/s]\n",
      "Deconvolving chunks: 100%|████████████████████████| 1/1 [00:58<00:00, 58.94s/it]\n"
     ]
    },
    {
     "name": "stdout",
     "output_type": "stream",
     "text": [
      "Estimation for 0.28 and 0.12 done\n",
      "It took: 59.03251934051514 seconds.\n",
      "[0.5243391084129987, 0.47322565062399885]\n"
     ]
    },
    {
     "name": "stderr",
     "output_type": "stream",
     "text": [
      "Initial filtering of formulas: 100%|█████████████| 2/2 [00:00<00:00, 113.73it/s]\n",
      "Computing chunks: 100%|████████████████████████| 2/2 [00:00<00:00, 50231.19it/s]\n",
      "Splitting the experimental spectrum into chunks: 55902it [00:00, 2472790.36it/s]\n",
      "Deconvolving chunks: 100%|████████████████████████| 1/1 [00:43<00:00, 43.01s/it]\n"
     ]
    },
    {
     "name": "stdout",
     "output_type": "stream",
     "text": [
      "Estimation for 0.28 and 0.13 done\n",
      "It took: 43.09589242935181 seconds.\n",
      "[0.5244002704099987, 0.4731412113399988]\n"
     ]
    },
    {
     "name": "stderr",
     "output_type": "stream",
     "text": [
      "Initial filtering of formulas: 100%|█████████████| 2/2 [00:00<00:00, 133.37it/s]\n",
      "Computing chunks: 100%|████████████████████████| 2/2 [00:00<00:00, 89240.51it/s]\n",
      "Splitting the experimental spectrum into chunks: 55902it [00:00, 2564026.66it/s]\n",
      "Deconvolving chunks: 100%|████████████████████████| 1/1 [00:44<00:00, 44.29s/it]\n"
     ]
    },
    {
     "name": "stdout",
     "output_type": "stream",
     "text": [
      "Estimation for 0.28 and 0.14 done\n",
      "It took: 44.373008012771606 seconds.\n",
      "[0.5244006238949986, 0.47313193265799885]\n"
     ]
    },
    {
     "name": "stderr",
     "output_type": "stream",
     "text": [
      "Initial filtering of formulas: 100%|█████████████| 2/2 [00:00<00:00, 124.01it/s]\n",
      "Computing chunks: 100%|████████████████████████| 2/2 [00:00<00:00, 88301.14it/s]\n",
      "Splitting the experimental spectrum into chunks: 55902it [00:00, 2736130.68it/s]\n",
      "Deconvolving chunks: 100%|████████████████████████| 1/1 [00:47<00:00, 47.70s/it]\n"
     ]
    },
    {
     "name": "stdout",
     "output_type": "stream",
     "text": [
      "Estimation for 0.28 and 0.15000000000000002 done\n",
      "It took: 47.77930784225464 seconds.\n",
      "[0.5244140172989986, 0.47309376408599885]\n"
     ]
    },
    {
     "name": "stderr",
     "output_type": "stream",
     "text": [
      "Initial filtering of formulas: 100%|█████████████| 2/2 [00:00<00:00, 138.48it/s]\n",
      "Computing chunks: 100%|████████████████████████| 2/2 [00:00<00:00, 92182.51it/s]\n",
      "Splitting the experimental spectrum into chunks: 55902it [00:00, 2827767.31it/s]\n",
      "Deconvolving chunks: 100%|████████████████████████| 1/1 [00:42<00:00, 42.17s/it]\n"
     ]
    },
    {
     "name": "stdout",
     "output_type": "stream",
     "text": [
      "Estimation for 0.28 and 0.16 done\n",
      "It took: 42.25071692466736 seconds.\n",
      "[0.5243747098059987, 0.4730956300829988]\n"
     ]
    },
    {
     "name": "stderr",
     "output_type": "stream",
     "text": [
      "Initial filtering of formulas: 100%|█████████████| 2/2 [00:00<00:00, 132.27it/s]\n",
      "Computing chunks: 100%|████████████████████████| 2/2 [00:00<00:00, 86480.49it/s]\n",
      "Splitting the experimental spectrum into chunks: 55902it [00:00, 2756168.17it/s]\n",
      "Deconvolving chunks: 100%|████████████████████████| 1/1 [00:36<00:00, 36.94s/it]\n"
     ]
    },
    {
     "name": "stdout",
     "output_type": "stream",
     "text": [
      "Estimation for 0.28 and 0.17 done\n",
      "It took: 37.01597261428833 seconds.\n",
      "[0.5242040282929986, 0.47316712821499884]\n"
     ]
    },
    {
     "name": "stderr",
     "output_type": "stream",
     "text": [
      "Initial filtering of formulas: 100%|█████████████| 2/2 [00:00<00:00, 138.46it/s]\n",
      "Computing chunks: 100%|███████████████████████| 2/2 [00:00<00:00, 102300.10it/s]\n",
      "Splitting the experimental spectrum into chunks: 55902it [00:00, 2897911.04it/s]\n",
      "Deconvolving chunks: 100%|████████████████████████| 1/1 [00:38<00:00, 38.33s/it]\n"
     ]
    },
    {
     "name": "stdout",
     "output_type": "stream",
     "text": [
      "Estimation for 0.28 and 0.18000000000000002 done\n",
      "It took: 38.397098541259766 seconds.\n",
      "[0.5239672484379987, 0.4732726950139988]\n"
     ]
    },
    {
     "name": "stderr",
     "output_type": "stream",
     "text": [
      "Initial filtering of formulas: 100%|█████████████| 2/2 [00:00<00:00, 133.61it/s]\n",
      "Computing chunks: 100%|████████████████████████| 2/2 [00:00<00:00, 92182.51it/s]\n",
      "Splitting the experimental spectrum into chunks: 55902it [00:00, 2621651.04it/s]\n",
      "Deconvolving chunks: 100%|████████████████████████| 1/1 [00:39<00:00, 39.98s/it]\n"
     ]
    },
    {
     "name": "stdout",
     "output_type": "stream",
     "text": [
      "Estimation for 0.28 and 0.19 done\n",
      "It took: 40.07049202919006 seconds.\n",
      "[0.5237479194709986, 0.47335130508999884]\n"
     ]
    },
    {
     "name": "stderr",
     "output_type": "stream",
     "text": [
      "Initial filtering of formulas: 100%|██████████████| 2/2 [00:00<00:00, 66.80it/s]\n",
      "Computing chunks: 100%|████████████████████████| 2/2 [00:00<00:00, 29641.72it/s]\n",
      "Splitting the experimental spectrum into chunks: 55902it [00:00, 1841102.94it/s]\n",
      "Deconvolving chunks: 100%|████████████████████████| 1/1 [00:57<00:00, 57.37s/it]\n"
     ]
    },
    {
     "name": "stdout",
     "output_type": "stream",
     "text": [
      "Estimation for 0.28 and 0.2 done\n",
      "It took: 57.49758315086365 seconds.\n",
      "[0.5236702216989987, 0.4733535018219988]\n"
     ]
    },
    {
     "name": "stderr",
     "output_type": "stream",
     "text": [
      "Initial filtering of formulas: 100%|█████████████| 2/2 [00:00<00:00, 115.18it/s]\n",
      "Computing chunks: 100%|████████████████████████| 2/2 [00:00<00:00, 38130.04it/s]\n",
      "Splitting the experimental spectrum into chunks: 55902it [00:00, 2071143.22it/s]\n",
      "Deconvolving chunks: 100%|████████████████████████| 1/1 [00:52<00:00, 52.54s/it]\n"
     ]
    },
    {
     "name": "stdout",
     "output_type": "stream",
     "text": [
      "Estimation for 0.28 and 0.21000000000000002 done\n",
      "It took: 52.64137554168701 seconds.\n",
      "[0.5235567490099987, 0.47340520044299883]\n"
     ]
    },
    {
     "name": "stderr",
     "output_type": "stream",
     "text": [
      "Initial filtering of formulas: 100%|█████████████| 2/2 [00:00<00:00, 123.20it/s]\n",
      "Computing chunks: 100%|████████████████████████| 2/2 [00:00<00:00, 57456.22it/s]\n",
      "Splitting the experimental spectrum into chunks: 55902it [00:00, 2440539.82it/s]\n",
      "Deconvolving chunks: 100%|████████████████████████| 1/1 [00:52<00:00, 53.00s/it]\n"
     ]
    },
    {
     "name": "stdout",
     "output_type": "stream",
     "text": [
      "Estimation for 0.28 and 0.22 done\n",
      "It took: 53.087249994277954 seconds.\n",
      "[0.5235116570909987, 0.4734301688259988]\n"
     ]
    },
    {
     "name": "stderr",
     "output_type": "stream",
     "text": [
      "Initial filtering of formulas: 100%|█████████████| 2/2 [00:00<00:00, 114.30it/s]\n",
      "Computing chunks: 100%|████████████████████████| 2/2 [00:00<00:00, 49056.19it/s]\n",
      "Splitting the experimental spectrum into chunks: 55902it [00:00, 2461963.13it/s]\n",
      "Deconvolving chunks: 100%|████████████████████████| 1/1 [00:54<00:00, 54.89s/it]\n"
     ]
    },
    {
     "name": "stdout",
     "output_type": "stream",
     "text": [
      "Estimation for 0.28 and 0.23 done\n",
      "It took: 54.98228931427002 seconds.\n",
      "[0.5234290027279986, 0.4734583997979988]\n"
     ]
    },
    {
     "name": "stderr",
     "output_type": "stream",
     "text": [
      "Initial filtering of formulas: 100%|█████████████| 2/2 [00:00<00:00, 113.28it/s]\n",
      "Computing chunks: 100%|████████████████████████| 2/2 [00:00<00:00, 41527.76it/s]\n",
      "Splitting the experimental spectrum into chunks: 55902it [00:00, 1485830.41it/s]\n",
      "Deconvolving chunks: 100%|████████████████████████| 1/1 [00:56<00:00, 56.55s/it]\n"
     ]
    },
    {
     "name": "stdout",
     "output_type": "stream",
     "text": [
      "Estimation for 0.28 and 0.24000000000000002 done\n",
      "It took: 56.6675181388855 seconds.\n",
      "[0.5232303167349986, 0.47357366884599883]\n"
     ]
    },
    {
     "name": "stderr",
     "output_type": "stream",
     "text": [
      "Initial filtering of formulas: 100%|█████████████| 2/2 [00:00<00:00, 116.06it/s]\n",
      "Computing chunks: 100%|████████████████████████| 2/2 [00:00<00:00, 76260.07it/s]\n",
      "Splitting the experimental spectrum into chunks: 55902it [00:00, 2347845.94it/s]\n",
      "Deconvolving chunks: 100%|████████████████████████| 1/1 [00:39<00:00, 39.18s/it]\n"
     ]
    },
    {
     "name": "stdout",
     "output_type": "stream",
     "text": [
      "Estimation for 0.28 and 0.25 done\n",
      "It took: 39.271867990493774 seconds.\n",
      "[0.5229623322969986, 0.4737172838839988]\n"
     ]
    },
    {
     "name": "stderr",
     "output_type": "stream",
     "text": [
      "Initial filtering of formulas: 100%|█████████████| 2/2 [00:00<00:00, 130.17it/s]\n",
      "Computing chunks: 100%|████████████████████████| 2/2 [00:00<00:00, 94254.02it/s]\n",
      "Splitting the experimental spectrum into chunks: 55902it [00:00, 2779990.78it/s]\n",
      "Deconvolving chunks: 100%|████████████████████████| 1/1 [00:40<00:00, 40.93s/it]\n"
     ]
    },
    {
     "name": "stdout",
     "output_type": "stream",
     "text": [
      "Estimation for 0.28 and 0.26 done\n",
      "It took: 41.01413130760193 seconds.\n",
      "[0.5226740077489987, 0.4739010113839988]\n"
     ]
    },
    {
     "name": "stderr",
     "output_type": "stream",
     "text": [
      "Initial filtering of formulas: 100%|█████████████| 2/2 [00:00<00:00, 134.36it/s]\n",
      "Computing chunks: 100%|████████████████████████| 2/2 [00:00<00:00, 85598.04it/s]\n",
      "Splitting the experimental spectrum into chunks: 55902it [00:00, 2889091.29it/s]\n",
      "Deconvolving chunks: 100%|████████████████████████| 1/1 [00:38<00:00, 38.84s/it]\n"
     ]
    },
    {
     "name": "stdout",
     "output_type": "stream",
     "text": [
      "Estimation for 0.28 and 0.27 done\n",
      "It took: 38.9120237827301 seconds.\n",
      "[0.5223447987809988, 0.47410580595499885]\n"
     ]
    },
    {
     "name": "stderr",
     "output_type": "stream",
     "text": [
      "Initial filtering of formulas: 100%|█████████████| 2/2 [00:00<00:00, 136.16it/s]\n",
      "Computing chunks: 100%|████████████████████████| 2/2 [00:00<00:00, 98689.51it/s]\n",
      "Splitting the experimental spectrum into chunks: 55902it [00:00, 2915278.04it/s]\n",
      "Deconvolving chunks: 100%|████████████████████████| 1/1 [00:37<00:00, 37.67s/it]\n"
     ]
    },
    {
     "name": "stdout",
     "output_type": "stream",
     "text": [
      "Estimation for 0.28 and 0.28 done\n",
      "It took: 37.74553036689758 seconds.\n",
      "[0.5221521203049988, 0.4742140402969988]\n"
     ]
    },
    {
     "name": "stderr",
     "output_type": "stream",
     "text": [
      "Initial filtering of formulas: 100%|█████████████| 2/2 [00:00<00:00, 142.10it/s]\n",
      "Computing chunks: 100%|████████████████████████| 2/2 [00:00<00:00, 94254.02it/s]\n",
      "Splitting the experimental spectrum into chunks: 55902it [00:00, 3025536.24it/s]\n",
      "Deconvolving chunks: 100%|████████████████████████| 1/1 [00:45<00:00, 45.73s/it]\n"
     ]
    },
    {
     "name": "stdout",
     "output_type": "stream",
     "text": [
      "Estimation for 0.28 and 0.29000000000000004 done\n",
      "It took: 45.80772614479065 seconds.\n",
      "[0.5219828765489988, 0.47432447483299883]\n"
     ]
    },
    {
     "name": "stderr",
     "output_type": "stream",
     "text": [
      "Initial filtering of formulas: 100%|█████████████| 2/2 [00:00<00:00, 120.25it/s]\n",
      "Computing chunks: 100%|████████████████████████| 2/2 [00:00<00:00, 53430.62it/s]\n",
      "Splitting the experimental spectrum into chunks: 55902it [00:00, 1990948.15it/s]\n",
      "Deconvolving chunks: 100%|████████████████████████| 1/1 [00:54<00:00, 54.52s/it]\n"
     ]
    },
    {
     "name": "stdout",
     "output_type": "stream",
     "text": [
      "Estimation for 0.28 and 0.3 done\n",
      "It took: 54.620686531066895 seconds.\n",
      "[0.5217507909539988, 0.4744403449979988]\n"
     ]
    },
    {
     "name": "stderr",
     "output_type": "stream",
     "text": [
      "Initial filtering of formulas: 100%|█████████████| 2/2 [00:00<00:00, 119.01it/s]\n",
      "Computing chunks: 100%|████████████████████████| 2/2 [00:00<00:00, 54471.48it/s]\n",
      "Splitting the experimental spectrum into chunks: 55902it [00:00, 2088019.58it/s]\n",
      "Deconvolving chunks: 100%|████████████████████████| 1/1 [00:56<00:00, 56.38s/it]\n"
     ]
    },
    {
     "name": "stdout",
     "output_type": "stream",
     "text": [
      "Estimation for 0.29000000000000004 and 0.01 done\n",
      "It took: 56.48272347450256 seconds.\n",
      "[0.5133325976469988, 0.4863936160349988]\n"
     ]
    },
    {
     "name": "stderr",
     "output_type": "stream",
     "text": [
      "Initial filtering of formulas: 100%|█████████████| 2/2 [00:00<00:00, 109.15it/s]\n",
      "Computing chunks: 100%|████████████████████████| 2/2 [00:00<00:00, 68200.07it/s]\n",
      "Splitting the experimental spectrum into chunks: 55902it [00:00, 2123649.18it/s]\n",
      "Deconvolving chunks: 100%|████████████████████████| 1/1 [00:54<00:00, 54.99s/it]\n"
     ]
    },
    {
     "name": "stdout",
     "output_type": "stream",
     "text": [
      "Estimation for 0.29000000000000004 and 0.02 done\n",
      "It took: 55.0961377620697 seconds.\n",
      "[0.5189910581679987, 0.4805981977289988]\n"
     ]
    },
    {
     "name": "stderr",
     "output_type": "stream",
     "text": [
      "Initial filtering of formulas: 100%|█████████████| 2/2 [00:00<00:00, 120.97it/s]\n",
      "Computing chunks: 100%|████████████████████████| 2/2 [00:00<00:00, 54471.48it/s]\n",
      "Splitting the experimental spectrum into chunks: 55902it [00:00, 2324476.87it/s]\n",
      "Deconvolving chunks: 100%|████████████████████████| 1/1 [00:57<00:00, 57.71s/it]\n"
     ]
    },
    {
     "name": "stdout",
     "output_type": "stream",
     "text": [
      "Estimation for 0.29000000000000004 and 0.03 done\n",
      "It took: 57.80075550079346 seconds.\n",
      "[0.5219288269679988, 0.47726234702099884]\n"
     ]
    },
    {
     "name": "stderr",
     "output_type": "stream",
     "text": [
      "Initial filtering of formulas: 100%|█████████████| 2/2 [00:00<00:00, 116.65it/s]\n",
      "Computing chunks: 100%|████████████████████████| 2/2 [00:00<00:00, 46603.38it/s]\n",
      "Splitting the experimental spectrum into chunks: 55902it [00:00, 2279550.28it/s]\n",
      "Deconvolving chunks: 100%|████████████████████████| 1/1 [00:52<00:00, 52.98s/it]\n"
     ]
    },
    {
     "name": "stdout",
     "output_type": "stream",
     "text": [
      "Estimation for 0.29000000000000004 and 0.04 done\n",
      "It took: 53.07516646385193 seconds.\n",
      "[0.5224657393869988, 0.47619836350699885]\n"
     ]
    },
    {
     "name": "stderr",
     "output_type": "stream",
     "text": [
      "Initial filtering of formulas: 100%|██████████████| 2/2 [00:00<00:00, 93.11it/s]\n",
      "Computing chunks: 100%|████████████████████████| 2/2 [00:00<00:00, 51781.53it/s]\n",
      "Splitting the experimental spectrum into chunks: 55902it [00:00, 2404721.68it/s]\n",
      "Deconvolving chunks: 100%|████████████████████████| 1/1 [00:46<00:00, 46.48s/it]\n"
     ]
    },
    {
     "name": "stdout",
     "output_type": "stream",
     "text": [
      "Estimation for 0.29000000000000004 and 0.05 done\n",
      "It took: 46.57505679130554 seconds.\n",
      "[0.5233637837749987, 0.47478728570799883]\n"
     ]
    },
    {
     "name": "stderr",
     "output_type": "stream",
     "text": [
      "Initial filtering of formulas: 100%|█████████████| 2/2 [00:00<00:00, 127.55it/s]\n",
      "Computing chunks: 100%|████████████████████████| 2/2 [00:00<00:00, 81442.80it/s]\n",
      "Splitting the experimental spectrum into chunks: 55902it [00:00, 2770792.26it/s]\n",
      "Deconvolving chunks: 100%|████████████████████████| 1/1 [00:43<00:00, 43.81s/it]\n"
     ]
    },
    {
     "name": "stdout",
     "output_type": "stream",
     "text": [
      "Estimation for 0.29000000000000004 and 0.060000000000000005 done\n",
      "It took: 43.890087842941284 seconds.\n",
      "[0.5238277284839987, 0.47412523144599883]\n"
     ]
    },
    {
     "name": "stderr",
     "output_type": "stream",
     "text": [
      "Initial filtering of formulas: 100%|█████████████| 2/2 [00:00<00:00, 127.24it/s]\n",
      "Computing chunks: 100%|████████████████████████| 2/2 [00:00<00:00, 89240.51it/s]\n",
      "Splitting the experimental spectrum into chunks: 55902it [00:00, 2551582.10it/s]\n",
      "Deconvolving chunks: 100%|████████████████████████| 1/1 [00:41<00:00, 41.51s/it]\n"
     ]
    },
    {
     "name": "stdout",
     "output_type": "stream",
     "text": [
      "Estimation for 0.29000000000000004 and 0.06999999999999999 done\n",
      "It took: 41.596612215042114 seconds.\n",
      "[0.5241118477749986, 0.4736668368779988]\n"
     ]
    },
    {
     "name": "stderr",
     "output_type": "stream",
     "text": [
      "Initial filtering of formulas: 100%|█████████████| 2/2 [00:00<00:00, 124.44it/s]\n",
      "Computing chunks: 100%|████████████████████████| 2/2 [00:00<00:00, 27776.85it/s]\n",
      "Splitting the experimental spectrum into chunks: 55902it [00:00, 2709194.90it/s]\n",
      "Deconvolving chunks: 100%|████████████████████████| 1/1 [00:38<00:00, 38.01s/it]\n"
     ]
    },
    {
     "name": "stdout",
     "output_type": "stream",
     "text": [
      "Estimation for 0.29000000000000004 and 0.08 done\n",
      "It took: 38.088257789611816 seconds.\n",
      "[0.5241949927319987, 0.4735632089349988]\n"
     ]
    },
    {
     "name": "stderr",
     "output_type": "stream",
     "text": [
      "Initial filtering of formulas: 100%|█████████████| 2/2 [00:00<00:00, 134.41it/s]\n",
      "Computing chunks: 100%|████████████████████████| 2/2 [00:00<00:00, 84733.41it/s]\n",
      "Splitting the experimental spectrum into chunks: 55902it [00:00, 2508693.09it/s]\n",
      "Deconvolving chunks: 100%|████████████████████████| 1/1 [00:36<00:00, 36.96s/it]\n"
     ]
    },
    {
     "name": "stdout",
     "output_type": "stream",
     "text": [
      "Estimation for 0.29000000000000004 and 0.09 done\n",
      "It took: 37.03875684738159 seconds.\n",
      "[0.5243262101389987, 0.4734587005009988]\n"
     ]
    },
    {
     "name": "stderr",
     "output_type": "stream",
     "text": [
      "Initial filtering of formulas: 100%|█████████████| 2/2 [00:00<00:00, 139.23it/s]\n",
      "Computing chunks: 100%|████████████████████████| 2/2 [00:00<00:00, 95325.09it/s]\n",
      "Splitting the experimental spectrum into chunks: 55902it [00:00, 2923164.93it/s]\n",
      "Deconvolving chunks: 100%|████████████████████████| 1/1 [00:41<00:00, 41.23s/it]\n"
     ]
    },
    {
     "name": "stdout",
     "output_type": "stream",
     "text": [
      "Estimation for 0.29000000000000004 and 0.09999999999999999 done\n",
      "It took: 41.30593752861023 seconds.\n",
      "[0.5243647837719987, 0.4733773070649988]\n"
     ]
    },
    {
     "name": "stderr",
     "output_type": "stream",
     "text": [
      "Initial filtering of formulas: 100%|█████████████| 2/2 [00:00<00:00, 133.08it/s]\n",
      "Computing chunks: 100%|████████████████████████| 2/2 [00:00<00:00, 91180.52it/s]\n",
      "Splitting the experimental spectrum into chunks: 55902it [00:00, 2883690.39it/s]\n",
      "Deconvolving chunks: 100%|████████████████████████| 1/1 [00:35<00:00, 35.31s/it]\n"
     ]
    },
    {
     "name": "stdout",
     "output_type": "stream",
     "text": [
      "Estimation for 0.29000000000000004 and 0.11 done\n",
      "It took: 35.3803026676178 seconds.\n",
      "[0.5244389684959987, 0.4732650569099988]\n"
     ]
    },
    {
     "name": "stderr",
     "output_type": "stream",
     "text": [
      "Initial filtering of formulas: 100%|█████████████| 2/2 [00:00<00:00, 134.57it/s]\n",
      "Computing chunks: 100%|████████████████████████| 2/2 [00:00<00:00, 64527.75it/s]\n",
      "Splitting the experimental spectrum into chunks: 55902it [00:00, 2813684.81it/s]\n",
      "Deconvolving chunks: 100%|████████████████████████| 1/1 [00:46<00:00, 46.55s/it]\n"
     ]
    },
    {
     "name": "stdout",
     "output_type": "stream",
     "text": [
      "Estimation for 0.29000000000000004 and 0.12 done\n",
      "It took: 46.624746799468994 seconds.\n",
      "[0.5245201044139987, 0.47314979916199884]\n"
     ]
    },
    {
     "name": "stderr",
     "output_type": "stream",
     "text": [
      "Initial filtering of formulas: 100%|█████████████| 2/2 [00:00<00:00, 120.40it/s]\n",
      "Computing chunks: 100%|████████████████████████| 2/2 [00:00<00:00, 82241.25it/s]\n",
      "Splitting the experimental spectrum into chunks: 55902it [00:00, 2514153.79it/s]\n",
      "Deconvolving chunks: 100%|████████████████████████| 1/1 [00:55<00:00, 55.70s/it]\n"
     ]
    },
    {
     "name": "stdout",
     "output_type": "stream",
     "text": [
      "Estimation for 0.29000000000000004 and 0.13 done\n",
      "It took: 55.79098558425903 seconds.\n",
      "[0.5245802353349986, 0.47305112440099883]\n"
     ]
    },
    {
     "name": "stderr",
     "output_type": "stream",
     "text": [
      "Initial filtering of formulas: 100%|█████████████| 2/2 [00:00<00:00, 127.30it/s]\n",
      "Computing chunks: 100%|████████████████████████| 2/2 [00:00<00:00, 64035.18it/s]\n",
      "Splitting the experimental spectrum into chunks: 55902it [00:00, 2494918.89it/s]\n",
      "Deconvolving chunks: 100%|████████████████████████| 1/1 [00:51<00:00, 51.56s/it]\n"
     ]
    },
    {
     "name": "stdout",
     "output_type": "stream",
     "text": [
      "Estimation for 0.29000000000000004 and 0.14 done\n",
      "It took: 51.65241289138794 seconds.\n",
      "[0.5245167846779987, 0.47306462629199886]\n"
     ]
    },
    {
     "name": "stderr",
     "output_type": "stream",
     "text": [
      "Initial filtering of formulas: 100%|█████████████| 2/2 [00:00<00:00, 113.70it/s]\n",
      "Computing chunks: 100%|████████████████████████| 2/2 [00:00<00:00, 71089.90it/s]\n",
      "Splitting the experimental spectrum into chunks: 55902it [00:00, 2138778.25it/s]\n",
      "Deconvolving chunks: 100%|████████████████████████| 1/1 [01:05<00:00, 65.50s/it]\n"
     ]
    },
    {
     "name": "stdout",
     "output_type": "stream",
     "text": [
      "Estimation for 0.29000000000000004 and 0.15000000000000002 done\n",
      "It took: 65.60660004615784 seconds.\n",
      "[0.5245395178729987, 0.47302773359699885]\n"
     ]
    },
    {
     "name": "stderr",
     "output_type": "stream",
     "text": [
      "Initial filtering of formulas: 100%|█████████████| 2/2 [00:00<00:00, 116.30it/s]\n",
      "Computing chunks: 100%|████████████████████████| 2/2 [00:00<00:00, 74235.47it/s]\n",
      "Splitting the experimental spectrum into chunks: 55902it [00:00, 2357358.84it/s]\n",
      "Deconvolving chunks: 100%|████████████████████████| 1/1 [00:55<00:00, 55.21s/it]\n"
     ]
    },
    {
     "name": "stdout",
     "output_type": "stream",
     "text": [
      "Estimation for 0.29000000000000004 and 0.16 done\n",
      "It took: 55.30821871757507 seconds.\n",
      "[0.5245567236939986, 0.47300047114699884]\n"
     ]
    },
    {
     "name": "stderr",
     "output_type": "stream",
     "text": [
      "Initial filtering of formulas: 100%|█████████████| 2/2 [00:00<00:00, 121.28it/s]\n",
      "Computing chunks: 100%|████████████████████████| 2/2 [00:00<00:00, 66576.25it/s]\n",
      "Splitting the experimental spectrum into chunks: 55902it [00:00, 2089713.04it/s]\n",
      "Deconvolving chunks: 100%|████████████████████████| 1/1 [01:01<00:00, 61.10s/it]\n"
     ]
    },
    {
     "name": "stdout",
     "output_type": "stream",
     "text": [
      "Estimation for 0.29000000000000004 and 0.17 done\n",
      "It took: 61.195444107055664 seconds.\n",
      "[0.5245322812819987, 0.47301623567299883]\n"
     ]
    },
    {
     "name": "stderr",
     "output_type": "stream",
     "text": [
      "Initial filtering of formulas: 100%|█████████████| 2/2 [00:00<00:00, 117.74it/s]\n",
      "Computing chunks: 100%|████████████████████████| 2/2 [00:00<00:00, 57456.22it/s]\n",
      "Splitting the experimental spectrum into chunks: 55902it [00:00, 2316256.20it/s]\n",
      "Deconvolving chunks: 100%|████████████████████████| 1/1 [00:49<00:00, 49.18s/it]\n"
     ]
    },
    {
     "name": "stdout",
     "output_type": "stream",
     "text": [
      "Estimation for 0.29000000000000004 and 0.18000000000000002 done\n",
      "It took: 49.26986742019653 seconds.\n",
      "[0.5245053383909987, 0.47301334522699884]\n"
     ]
    },
    {
     "name": "stderr",
     "output_type": "stream",
     "text": [
      "Initial filtering of formulas: 100%|█████████████| 2/2 [00:00<00:00, 135.32it/s]\n",
      "Computing chunks: 100%|████████████████████████| 2/2 [00:00<00:00, 85598.04it/s]\n",
      "Splitting the experimental spectrum into chunks: 55902it [00:00, 2562009.46it/s]\n",
      "Deconvolving chunks: 100%|████████████████████████| 1/1 [00:41<00:00, 41.49s/it]\n"
     ]
    },
    {
     "name": "stdout",
     "output_type": "stream",
     "text": [
      "Estimation for 0.29000000000000004 and 0.19 done\n",
      "It took: 41.56877112388611 seconds.\n",
      "[0.5243405978839987, 0.4730728649379988]\n"
     ]
    },
    {
     "name": "stderr",
     "output_type": "stream",
     "text": [
      "Initial filtering of formulas: 100%|█████████████| 2/2 [00:00<00:00, 136.04it/s]\n",
      "Computing chunks: 100%|████████████████████████| 2/2 [00:00<00:00, 87381.33it/s]\n",
      "Splitting the experimental spectrum into chunks: 55902it [00:00, 3067934.76it/s]\n",
      "Deconvolving chunks: 100%|████████████████████████| 1/1 [00:40<00:00, 40.26s/it]\n"
     ]
    },
    {
     "name": "stdout",
     "output_type": "stream",
     "text": [
      "Estimation for 0.29000000000000004 and 0.2 done\n",
      "It took: 40.32861852645874 seconds.\n",
      "[0.5241015685929986, 0.4731693234759988]\n"
     ]
    },
    {
     "name": "stderr",
     "output_type": "stream",
     "text": [
      "Initial filtering of formulas: 100%|█████████████| 2/2 [00:00<00:00, 133.60it/s]\n",
      "Computing chunks: 100%|████████████████████████| 2/2 [00:00<00:00, 95325.09it/s]\n",
      "Splitting the experimental spectrum into chunks: 55902it [00:00, 2868309.77it/s]\n",
      "Deconvolving chunks: 100%|████████████████████████| 1/1 [00:37<00:00, 37.70s/it]\n"
     ]
    },
    {
     "name": "stdout",
     "output_type": "stream",
     "text": [
      "Estimation for 0.29000000000000004 and 0.21000000000000002 done\n",
      "It took: 37.77316617965698 seconds.\n",
      "[0.5238416472509987, 0.47328854848199886]\n"
     ]
    },
    {
     "name": "stderr",
     "output_type": "stream",
     "text": [
      "Initial filtering of formulas: 100%|█████████████| 2/2 [00:00<00:00, 129.61it/s]\n",
      "Computing chunks: 100%|████████████████████████| 2/2 [00:00<00:00, 89240.51it/s]\n",
      "Splitting the experimental spectrum into chunks: 55902it [00:00, 2740255.74it/s]\n",
      "Deconvolving chunks: 100%|████████████████████████| 1/1 [00:46<00:00, 46.65s/it]\n"
     ]
    },
    {
     "name": "stdout",
     "output_type": "stream",
     "text": [
      "Estimation for 0.29000000000000004 and 0.22 done\n",
      "It took: 46.73066282272339 seconds.\n",
      "[0.5237437815009987, 0.47330824339899885]\n"
     ]
    },
    {
     "name": "stderr",
     "output_type": "stream",
     "text": [
      "Initial filtering of formulas: 100%|█████████████| 2/2 [00:00<00:00, 123.45it/s]\n",
      "Computing chunks: 100%|████████████████████████| 2/2 [00:00<00:00, 79137.81it/s]\n",
      "Splitting the experimental spectrum into chunks: 55902it [00:00, 2587369.18it/s]\n",
      "Deconvolving chunks: 100%|████████████████████████| 1/1 [00:49<00:00, 49.61s/it]\n"
     ]
    },
    {
     "name": "stdout",
     "output_type": "stream",
     "text": [
      "Estimation for 0.29000000000000004 and 0.23 done\n",
      "It took: 49.69699573516846 seconds.\n",
      "[0.5236403320919987, 0.47333576554199885]\n"
     ]
    },
    {
     "name": "stderr",
     "output_type": "stream",
     "text": [
      "Initial filtering of formulas: 100%|█████████████| 2/2 [00:00<00:00, 118.80it/s]\n",
      "Computing chunks: 100%|████████████████████████| 2/2 [00:00<00:00, 59074.70it/s]\n",
      "Splitting the experimental spectrum into chunks: 55902it [00:00, 2309184.56it/s]\n",
      "Deconvolving chunks: 100%|████████████████████████| 1/1 [00:46<00:00, 46.53s/it]\n"
     ]
    },
    {
     "name": "stdout",
     "output_type": "stream",
     "text": [
      "Estimation for 0.29000000000000004 and 0.24000000000000002 done\n",
      "It took: 46.61770725250244 seconds.\n",
      "[0.5235672780799987, 0.47337733583599884]\n"
     ]
    },
    {
     "name": "stderr",
     "output_type": "stream",
     "text": [
      "Initial filtering of formulas: 100%|█████████████| 2/2 [00:00<00:00, 134.54it/s]\n",
      "Computing chunks: 100%|████████████████████████| 2/2 [00:00<00:00, 91180.52it/s]\n",
      "Splitting the experimental spectrum into chunks: 55902it [00:00, 2876897.00it/s]\n",
      "Deconvolving chunks: 100%|████████████████████████| 1/1 [00:40<00:00, 40.05s/it]\n"
     ]
    },
    {
     "name": "stdout",
     "output_type": "stream",
     "text": [
      "Estimation for 0.29000000000000004 and 0.25 done\n",
      "It took: 40.118850231170654 seconds.\n",
      "[0.5234716917079987, 0.47341650536999885]\n"
     ]
    },
    {
     "name": "stderr",
     "output_type": "stream",
     "text": [
      "Initial filtering of formulas: 100%|█████████████| 2/2 [00:00<00:00, 139.21it/s]\n",
      "Computing chunks: 100%|████████████████████████| 2/2 [00:00<00:00, 96420.78it/s]\n",
      "Splitting the experimental spectrum into chunks: 55902it [00:00, 2989811.44it/s]\n",
      "Deconvolving chunks: 100%|████████████████████████| 1/1 [00:37<00:00, 37.01s/it]\n"
     ]
    },
    {
     "name": "stdout",
     "output_type": "stream",
     "text": [
      "Estimation for 0.29000000000000004 and 0.26 done\n",
      "It took: 37.07867980003357 seconds.\n",
      "[0.5232428807569987, 0.47355867730299883]\n"
     ]
    },
    {
     "name": "stderr",
     "output_type": "stream",
     "text": [
      "Initial filtering of formulas: 100%|█████████████| 2/2 [00:00<00:00, 140.45it/s]\n",
      "Computing chunks: 100%|████████████████████████| 2/2 [00:00<00:00, 94254.02it/s]\n",
      "Splitting the experimental spectrum into chunks: 55902it [00:00, 2924185.70it/s]\n",
      "Deconvolving chunks: 100%|████████████████████████| 1/1 [00:40<00:00, 40.96s/it]\n"
     ]
    },
    {
     "name": "stdout",
     "output_type": "stream",
     "text": [
      "Estimation for 0.29000000000000004 and 0.27 done\n",
      "It took: 41.03991937637329 seconds.\n",
      "[0.5229119644589987, 0.47376470840299884]\n"
     ]
    },
    {
     "name": "stderr",
     "output_type": "stream",
     "text": [
      "Initial filtering of formulas: 100%|██████████████| 2/2 [00:00<00:00, 73.50it/s]\n",
      "Computing chunks: 100%|████████████████████████| 2/2 [00:00<00:00, 39945.75it/s]\n",
      "Splitting the experimental spectrum into chunks: 55902it [00:00, 1715767.93it/s]\n",
      "Deconvolving chunks: 100%|████████████████████████| 1/1 [00:49<00:00, 49.85s/it]\n"
     ]
    },
    {
     "name": "stdout",
     "output_type": "stream",
     "text": [
      "Estimation for 0.29000000000000004 and 0.28 done\n",
      "It took: 49.9762806892395 seconds.\n",
      "[0.5226417657079988, 0.47393272959699884]\n"
     ]
    },
    {
     "name": "stderr",
     "output_type": "stream",
     "text": [
      "Initial filtering of formulas: 100%|█████████████| 2/2 [00:00<00:00, 122.41it/s]\n",
      "Computing chunks: 100%|████████████████████████| 2/2 [00:00<00:00, 66576.25it/s]\n",
      "Splitting the experimental spectrum into chunks: 55902it [00:00, 2559101.33it/s]\n",
      "Deconvolving chunks: 100%|████████████████████████| 1/1 [00:46<00:00, 46.90s/it]\n"
     ]
    },
    {
     "name": "stdout",
     "output_type": "stream",
     "text": [
      "Estimation for 0.29000000000000004 and 0.29000000000000004 done\n",
      "It took: 46.97983455657959 seconds.\n",
      "[0.5223928602309987, 0.4740993430189988]\n"
     ]
    },
    {
     "name": "stderr",
     "output_type": "stream",
     "text": [
      "Initial filtering of formulas: 100%|█████████████| 2/2 [00:00<00:00, 127.38it/s]\n",
      "Computing chunks: 100%|████████████████████████| 2/2 [00:00<00:00, 43018.50it/s]\n",
      "Splitting the experimental spectrum into chunks: 55902it [00:00, 2653666.17it/s]\n",
      "Deconvolving chunks: 100%|████████████████████████| 1/1 [00:41<00:00, 41.29s/it]\n"
     ]
    },
    {
     "name": "stdout",
     "output_type": "stream",
     "text": [
      "Estimation for 0.29000000000000004 and 0.3 done\n",
      "It took: 41.37153506278992 seconds.\n",
      "[0.5222846424709988, 0.47415384150199885]\n"
     ]
    },
    {
     "name": "stderr",
     "output_type": "stream",
     "text": [
      "Initial filtering of formulas: 100%|█████████████| 2/2 [00:00<00:00, 133.48it/s]\n",
      "Computing chunks: 100%|████████████████████████| 2/2 [00:00<00:00, 88301.14it/s]\n",
      "Splitting the experimental spectrum into chunks: 55902it [00:00, 2835975.93it/s]\n",
      "Deconvolving chunks: 100%|████████████████████████| 1/1 [00:43<00:00, 43.97s/it]\n"
     ]
    },
    {
     "name": "stdout",
     "output_type": "stream",
     "text": [
      "Estimation for 0.3 and 0.01 done\n",
      "It took: 44.042564392089844 seconds.\n",
      "[0.5133832587279987, 0.48644561527999886]\n"
     ]
    },
    {
     "name": "stderr",
     "output_type": "stream",
     "text": [
      "Initial filtering of formulas: 100%|█████████████| 2/2 [00:00<00:00, 129.16it/s]\n",
      "Computing chunks: 100%|████████████████████████| 2/2 [00:00<00:00, 84733.41it/s]\n",
      "Splitting the experimental spectrum into chunks: 55902it [00:00, 2722849.11it/s]\n",
      "Deconvolving chunks: 100%|████████████████████████| 1/1 [00:38<00:00, 38.45s/it]\n"
     ]
    },
    {
     "name": "stdout",
     "output_type": "stream",
     "text": [
      "Estimation for 0.3 and 0.02 done\n",
      "It took: 38.52498698234558 seconds.\n",
      "[0.5192031085219988, 0.4804911189369988]\n"
     ]
    },
    {
     "name": "stderr",
     "output_type": "stream",
     "text": [
      "Initial filtering of formulas: 100%|█████████████| 2/2 [00:00<00:00, 127.98it/s]\n",
      "Computing chunks: 100%|████████████████████████| 2/2 [00:00<00:00, 51463.85it/s]\n",
      "Splitting the experimental spectrum into chunks: 55902it [00:00, 2523108.85it/s]\n",
      "Deconvolving chunks: 100%|████████████████████████| 1/1 [00:47<00:00, 47.28s/it]\n"
     ]
    },
    {
     "name": "stdout",
     "output_type": "stream",
     "text": [
      "Estimation for 0.3 and 0.03 done\n",
      "It took: 47.36217451095581 seconds.\n",
      "[0.5220647487669988, 0.47720412815499885]\n"
     ]
    },
    {
     "name": "stderr",
     "output_type": "stream",
     "text": [
      "Initial filtering of formulas: 100%|█████████████| 2/2 [00:00<00:00, 123.82it/s]\n",
      "Computing chunks: 100%|████████████████████████| 2/2 [00:00<00:00, 62601.55it/s]\n",
      "Splitting the experimental spectrum into chunks: 55902it [00:00, 2577102.97it/s]\n",
      "Deconvolving chunks: 100%|████████████████████████| 1/1 [00:49<00:00, 49.25s/it]\n"
     ]
    },
    {
     "name": "stdout",
     "output_type": "stream",
     "text": [
      "Estimation for 0.3 and 0.04 done\n",
      "It took: 49.33405327796936 seconds.\n",
      "[0.5227518572929987, 0.47601852508399883]\n"
     ]
    },
    {
     "name": "stderr",
     "output_type": "stream",
     "text": [
      "Initial filtering of formulas: 100%|█████████████| 2/2 [00:00<00:00, 114.80it/s]\n",
      "Computing chunks: 100%|████████████████████████| 2/2 [00:00<00:00, 75573.05it/s]\n",
      "Splitting the experimental spectrum into chunks: 55902it [00:00, 1887644.47it/s]\n",
      "Deconvolving chunks: 100%|████████████████████████| 1/1 [00:41<00:00, 41.32s/it]\n"
     ]
    },
    {
     "name": "stdout",
     "output_type": "stream",
     "text": [
      "Estimation for 0.3 and 0.05 done\n",
      "It took: 41.419647216796875 seconds.\n",
      "[0.5233756933649987, 0.47489017801499883]\n"
     ]
    },
    {
     "name": "stderr",
     "output_type": "stream",
     "text": [
      "Initial filtering of formulas: 100%|█████████████| 2/2 [00:00<00:00, 137.17it/s]\n",
      "Computing chunks: 100%|████████████████████████| 2/2 [00:00<00:00, 65536.00it/s]\n",
      "Splitting the experimental spectrum into chunks: 55902it [00:00, 1526387.97it/s]\n",
      "Deconvolving chunks: 100%|████████████████████████| 1/1 [00:38<00:00, 38.93s/it]\n"
     ]
    },
    {
     "name": "stdout",
     "output_type": "stream",
     "text": [
      "Estimation for 0.3 and 0.060000000000000005 done\n",
      "It took: 39.02873110771179 seconds.\n",
      "[0.5238506613629986, 0.4741827547729988]\n"
     ]
    },
    {
     "name": "stderr",
     "output_type": "stream",
     "text": [
      "Initial filtering of formulas: 100%|█████████████| 2/2 [00:00<00:00, 136.85it/s]\n",
      "Computing chunks: 100%|████████████████████████| 2/2 [00:00<00:00, 95325.09it/s]\n",
      "Splitting the experimental spectrum into chunks: 55902it [00:00, 2866626.51it/s]\n",
      "Deconvolving chunks: 100%|████████████████████████| 1/1 [00:37<00:00, 37.35s/it]\n"
     ]
    },
    {
     "name": "stdout",
     "output_type": "stream",
     "text": [
      "Estimation for 0.3 and 0.06999999999999999 done\n",
      "It took: 37.41990876197815 seconds.\n",
      "[0.5241805690949987, 0.4736853995379988]\n"
     ]
    },
    {
     "name": "stderr",
     "output_type": "stream",
     "text": [
      "Initial filtering of formulas: 100%|█████████████| 2/2 [00:00<00:00, 138.58it/s]\n",
      "Computing chunks: 100%|████████████████████████| 2/2 [00:00<00:00, 94254.02it/s]\n",
      "Splitting the experimental spectrum into chunks: 55902it [00:00, 2920907.18it/s]\n",
      "Deconvolving chunks: 100%|████████████████████████| 1/1 [00:37<00:00, 37.92s/it]\n"
     ]
    },
    {
     "name": "stdout",
     "output_type": "stream",
     "text": [
      "Estimation for 0.3 and 0.08 done\n",
      "It took: 37.98805499076843 seconds.\n",
      "[0.5243210510459987, 0.47354793229899883]\n"
     ]
    },
    {
     "name": "stderr",
     "output_type": "stream",
     "text": [
      "Initial filtering of formulas: 100%|█████████████| 2/2 [00:00<00:00, 129.37it/s]\n",
      "Computing chunks: 100%|████████████████████████| 2/2 [00:00<00:00, 38836.15it/s]\n",
      "Splitting the experimental spectrum into chunks: 55902it [00:00, 2862951.26it/s]\n",
      "Deconvolving chunks: 100%|████████████████████████| 1/1 [00:54<00:00, 54.72s/it]\n"
     ]
    },
    {
     "name": "stdout",
     "output_type": "stream",
     "text": [
      "Estimation for 0.3 and 0.09 done\n",
      "It took: 54.79870581626892 seconds.\n",
      "[0.5243416524369987, 0.4734924909959988]\n"
     ]
    },
    {
     "name": "stderr",
     "output_type": "stream",
     "text": [
      "Initial filtering of formulas: 100%|█████████████| 2/2 [00:00<00:00, 113.35it/s]\n",
      "Computing chunks: 100%|████████████████████████| 2/2 [00:00<00:00, 82241.25it/s]\n",
      "Splitting the experimental spectrum into chunks: 55902it [00:00, 2447136.98it/s]\n",
      "Deconvolving chunks: 100%|████████████████████████| 1/1 [00:38<00:00, 38.45s/it]\n"
     ]
    },
    {
     "name": "stdout",
     "output_type": "stream",
     "text": [
      "Estimation for 0.3 and 0.09999999999999999 done\n",
      "It took: 38.52994918823242 seconds.\n",
      "[0.5244095183989986, 0.4733902861939988]\n"
     ]
    },
    {
     "name": "stderr",
     "output_type": "stream",
     "text": [
      "Initial filtering of formulas: 100%|█████████████| 2/2 [00:00<00:00, 129.45it/s]\n",
      "Computing chunks: 100%|████████████████████████| 2/2 [00:00<00:00, 85598.04it/s]\n",
      "Splitting the experimental spectrum into chunks: 55902it [00:00, 2127869.88it/s]\n",
      "Deconvolving chunks: 100%|████████████████████████| 1/1 [00:37<00:00, 37.01s/it]\n"
     ]
    },
    {
     "name": "stdout",
     "output_type": "stream",
     "text": [
      "Estimation for 0.3 and 0.11 done\n",
      "It took: 37.088184118270874 seconds.\n",
      "[0.5245112363049986, 0.47326040584299883]\n"
     ]
    },
    {
     "name": "stderr",
     "output_type": "stream",
     "text": [
      "Initial filtering of formulas: 100%|█████████████| 2/2 [00:00<00:00, 134.90it/s]\n",
      "Computing chunks: 100%|████████████████████████| 2/2 [00:00<00:00, 55188.21it/s]\n",
      "Splitting the experimental spectrum into chunks: 55902it [00:00, 2892191.71it/s]\n",
      "Deconvolving chunks: 100%|████████████████████████| 1/1 [00:35<00:00, 35.87s/it]\n"
     ]
    },
    {
     "name": "stdout",
     "output_type": "stream",
     "text": [
      "Estimation for 0.3 and 0.12 done\n",
      "It took: 35.93981981277466 seconds.\n",
      "[0.5245871334909986, 0.47314626158499884]\n"
     ]
    },
    {
     "name": "stderr",
     "output_type": "stream",
     "text": [
      "Initial filtering of formulas: 100%|█████████████| 2/2 [00:00<00:00, 140.86it/s]\n",
      "Computing chunks: 100%|████████████████████████| 2/2 [00:00<00:00, 98689.51it/s]\n",
      "Splitting the experimental spectrum into chunks: 55902it [00:00, 2983913.85it/s]\n",
      "Deconvolving chunks: 100%|████████████████████████| 1/1 [00:35<00:00, 35.66s/it]\n"
     ]
    },
    {
     "name": "stdout",
     "output_type": "stream",
     "text": [
      "Estimation for 0.3 and 0.13 done\n",
      "It took: 35.731428384780884 seconds.\n",
      "[0.5246680742139986, 0.47303298706299884]\n"
     ]
    },
    {
     "name": "stderr",
     "output_type": "stream",
     "text": [
      "Initial filtering of formulas: 100%|█████████████| 2/2 [00:00<00:00, 128.98it/s]\n",
      "Computing chunks: 100%|████████████████████████| 2/2 [00:00<00:00, 98689.51it/s]\n",
      "Splitting the experimental spectrum into chunks: 55902it [00:00, 2775416.75it/s]\n",
      "Deconvolving chunks: 100%|████████████████████████| 1/1 [00:46<00:00, 46.73s/it]\n"
     ]
    },
    {
     "name": "stdout",
     "output_type": "stream",
     "text": [
      "Estimation for 0.3 and 0.14 done\n",
      "It took: 46.80914068222046 seconds.\n",
      "[0.5246761564989987, 0.47300680380899884]\n"
     ]
    },
    {
     "name": "stderr",
     "output_type": "stream",
     "text": [
      "Initial filtering of formulas: 100%|█████████████| 2/2 [00:00<00:00, 137.61it/s]\n",
      "Computing chunks: 100%|████████████████████████| 2/2 [00:00<00:00, 80659.69it/s]\n",
      "Splitting the experimental spectrum into chunks: 55902it [00:00, 2931424.42it/s]\n",
      "Deconvolving chunks: 100%|████████████████████████| 1/1 [00:39<00:00, 39.80s/it]\n"
     ]
    },
    {
     "name": "stdout",
     "output_type": "stream",
     "text": [
      "Estimation for 0.3 and 0.15000000000000002 done\n",
      "It took: 39.86830472946167 seconds.\n",
      "[0.5247186430199987, 0.47294104448999885]\n"
     ]
    },
    {
     "name": "stderr",
     "output_type": "stream",
     "text": [
      "Initial filtering of formulas: 100%|█████████████| 2/2 [00:00<00:00, 136.86it/s]\n",
      "Computing chunks: 100%|████████████████████████| 2/2 [00:00<00:00, 87381.33it/s]\n",
      "Splitting the experimental spectrum into chunks: 55902it [00:00, 3007066.32it/s]\n",
      "Deconvolving chunks: 100%|████████████████████████| 1/1 [00:37<00:00, 37.30s/it]\n"
     ]
    },
    {
     "name": "stdout",
     "output_type": "stream",
     "text": [
      "Estimation for 0.3 and 0.16 done\n",
      "It took: 37.375083684921265 seconds.\n",
      "[0.5246748667919987, 0.47294442049099883]\n"
     ]
    },
    {
     "name": "stderr",
     "output_type": "stream",
     "text": [
      "Initial filtering of formulas: 100%|█████████████| 2/2 [00:00<00:00, 125.71it/s]\n",
      "Computing chunks: 100%|████████████████████████| 2/2 [00:00<00:00, 42581.77it/s]\n",
      "Splitting the experimental spectrum into chunks: 55902it [00:00, 2402750.27it/s]\n",
      "Deconvolving chunks: 100%|████████████████████████| 1/1 [00:37<00:00, 37.21s/it]\n"
     ]
    },
    {
     "name": "stdout",
     "output_type": "stream",
     "text": [
      "Estimation for 0.3 and 0.17 done\n",
      "It took: 37.28524732589722 seconds.\n",
      "[0.5246586190719986, 0.47295273876899885]\n"
     ]
    },
    {
     "name": "stderr",
     "output_type": "stream",
     "text": [
      "Initial filtering of formulas: 100%|█████████████| 2/2 [00:00<00:00, 126.23it/s]\n",
      "Computing chunks: 100%|████████████████████████| 2/2 [00:00<00:00, 80659.69it/s]\n",
      "Splitting the experimental spectrum into chunks: 55902it [00:00, 2786565.52it/s]\n",
      "Deconvolving chunks: 100%|████████████████████████| 1/1 [00:42<00:00, 42.40s/it]\n"
     ]
    },
    {
     "name": "stdout",
     "output_type": "stream",
     "text": [
      "Estimation for 0.3 and 0.18000000000000002 done\n",
      "It took: 42.48128628730774 seconds.\n",
      "[0.5246559868349987, 0.47294481401699884]\n"
     ]
    },
    {
     "name": "stderr",
     "output_type": "stream",
     "text": [
      "Initial filtering of formulas: 100%|█████████████| 2/2 [00:00<00:00, 106.68it/s]\n",
      "Computing chunks: 100%|████████████████████████| 2/2 [00:00<00:00, 22133.53it/s]\n",
      "Splitting the experimental spectrum into chunks: 55902it [00:00, 2050441.03it/s]\n",
      "Deconvolving chunks: 100%|████████████████████████| 1/1 [00:51<00:00, 51.38s/it]\n"
     ]
    },
    {
     "name": "stdout",
     "output_type": "stream",
     "text": [
      "Estimation for 0.3 and 0.19 done\n",
      "It took: 51.482600688934326 seconds.\n",
      "[0.5247177394769986, 0.47287229052099883]\n"
     ]
    },
    {
     "name": "stderr",
     "output_type": "stream",
     "text": [
      "Initial filtering of formulas: 100%|█████████████| 2/2 [00:00<00:00, 125.23it/s]\n",
      "Computing chunks: 100%|████████████████████████| 2/2 [00:00<00:00, 68200.07it/s]\n",
      "Splitting the experimental spectrum into chunks: 55902it [00:00, 2451486.58it/s]\n",
      "Deconvolving chunks: 100%|████████████████████████| 1/1 [00:46<00:00, 46.55s/it]\n"
     ]
    },
    {
     "name": "stdout",
     "output_type": "stream",
     "text": [
      "Estimation for 0.3 and 0.2 done\n",
      "It took: 46.64089250564575 seconds.\n",
      "[0.5246305812089986, 0.47291618574199884]\n"
     ]
    },
    {
     "name": "stderr",
     "output_type": "stream",
     "text": [
      "Initial filtering of formulas: 100%|█████████████| 2/2 [00:00<00:00, 132.80it/s]\n",
      "Computing chunks: 100%|████████████████████████| 2/2 [00:00<00:00, 42581.77it/s]\n",
      "Splitting the experimental spectrum into chunks: 55902it [00:00, 2829405.23it/s]\n",
      "Deconvolving chunks: 100%|████████████████████████| 1/1 [00:37<00:00, 37.66s/it]\n"
     ]
    },
    {
     "name": "stdout",
     "output_type": "stream",
     "text": [
      "Estimation for 0.3 and 0.21000000000000002 done\n",
      "It took: 37.74058389663696 seconds.\n",
      "[0.5244277814899987, 0.4730074387159988]\n"
     ]
    },
    {
     "name": "stderr",
     "output_type": "stream",
     "text": [
      "Initial filtering of formulas: 100%|█████████████| 2/2 [00:00<00:00, 136.11it/s]\n",
      "Computing chunks: 100%|████████████████████████| 2/2 [00:00<00:00, 49344.75it/s]\n",
      "Splitting the experimental spectrum into chunks: 55902it [00:00, 2734280.04it/s]\n",
      "Deconvolving chunks: 100%|████████████████████████| 1/1 [00:38<00:00, 38.52s/it]\n"
     ]
    },
    {
     "name": "stdout",
     "output_type": "stream",
     "text": [
      "Estimation for 0.3 and 0.22 done\n",
      "It took: 38.59154176712036 seconds.\n",
      "[0.5241670744309986, 0.4731067329279988]\n"
     ]
    },
    {
     "name": "stderr",
     "output_type": "stream",
     "text": [
      "Initial filtering of formulas: 100%|█████████████| 2/2 [00:00<00:00, 132.99it/s]\n",
      "Computing chunks: 100%|████████████████████████| 2/2 [00:00<00:00, 96420.78it/s]\n",
      "Splitting the experimental spectrum into chunks: 55902it [00:00, 2514747.02it/s]\n",
      "Deconvolving chunks: 100%|████████████████████████| 1/1 [00:36<00:00, 36.38s/it]\n"
     ]
    },
    {
     "name": "stdout",
     "output_type": "stream",
     "text": [
      "Estimation for 0.3 and 0.23 done\n",
      "It took: 36.45642614364624 seconds.\n",
      "[0.5239035840859987, 0.47321126597799884]\n"
     ]
    },
    {
     "name": "stderr",
     "output_type": "stream",
     "text": [
      "Initial filtering of formulas: 100%|█████████████| 2/2 [00:00<00:00, 141.55it/s]\n",
      "Computing chunks: 100%|████████████████████████| 2/2 [00:00<00:00, 97541.95it/s]\n",
      "Splitting the experimental spectrum into chunks: 55902it [00:00, 3012126.90it/s]\n",
      "Deconvolving chunks: 100%|████████████████████████| 1/1 [00:42<00:00, 42.94s/it]\n"
     ]
    },
    {
     "name": "stdout",
     "output_type": "stream",
     "text": [
      "Estimation for 0.3 and 0.24000000000000002 done\n",
      "It took: 43.01115441322327 seconds.\n",
      "[0.5237955678239987, 0.4732529618299988]\n"
     ]
    },
    {
     "name": "stderr",
     "output_type": "stream",
     "text": [
      "Initial filtering of formulas: 100%|█████████████| 2/2 [00:00<00:00, 116.63it/s]\n",
      "Computing chunks: 100%|████████████████████████| 2/2 [00:00<00:00, 45100.04it/s]\n",
      "Splitting the experimental spectrum into chunks: 55902it [00:00, 2571281.11it/s]\n",
      "Deconvolving chunks: 100%|████████████████████████| 1/1 [00:55<00:00, 55.76s/it]\n"
     ]
    },
    {
     "name": "stdout",
     "output_type": "stream",
     "text": [
      "Estimation for 0.3 and 0.25 done\n",
      "It took: 55.85301947593689 seconds.\n",
      "[0.5236792987519987, 0.47330093792399885]\n"
     ]
    },
    {
     "name": "stderr",
     "output_type": "stream",
     "text": [
      "Initial filtering of formulas: 100%|██████████████| 2/2 [00:00<00:00, 93.71it/s]\n",
      "Computing chunks: 100%|████████████████████████| 2/2 [00:00<00:00, 80659.69it/s]\n",
      "Splitting the experimental spectrum into chunks: 55902it [00:00, 2046878.94it/s]\n",
      "Deconvolving chunks: 100%|████████████████████████| 1/1 [00:53<00:00, 53.62s/it]\n"
     ]
    },
    {
     "name": "stdout",
     "output_type": "stream",
     "text": [
      "Estimation for 0.3 and 0.26 done\n",
      "It took: 53.72682166099548 seconds.\n",
      "[0.5236209562909987, 0.47332830860599884]\n"
     ]
    },
    {
     "name": "stderr",
     "output_type": "stream",
     "text": [
      "Initial filtering of formulas: 100%|██████████████| 2/2 [00:00<00:00, 94.43it/s]\n",
      "Computing chunks: 100%|████████████████████████| 2/2 [00:00<00:00, 27235.74it/s]\n",
      "Splitting the experimental spectrum into chunks: 55902it [00:00, 1489256.18it/s]\n",
      "Deconvolving chunks: 100%|████████████████████████| 1/1 [00:52<00:00, 52.79s/it]\n"
     ]
    },
    {
     "name": "stdout",
     "output_type": "stream",
     "text": [
      "Estimation for 0.3 and 0.27 done\n",
      "It took: 52.91186237335205 seconds.\n",
      "[0.5234566447609986, 0.47343985212799883]\n"
     ]
    },
    {
     "name": "stderr",
     "output_type": "stream",
     "text": [
      "Initial filtering of formulas: 100%|█████████████| 2/2 [00:00<00:00, 106.41it/s]\n",
      "Computing chunks: 100%|████████████████████████| 2/2 [00:00<00:00, 44858.87it/s]\n",
      "Splitting the experimental spectrum into chunks: 55902it [00:00, 2143882.36it/s]\n",
      "Deconvolving chunks: 100%|████████████████████████| 1/1 [00:57<00:00, 57.97s/it]\n"
     ]
    },
    {
     "name": "stdout",
     "output_type": "stream",
     "text": [
      "Estimation for 0.3 and 0.28 done\n",
      "It took: 58.065634965896606 seconds.\n",
      "[0.5233356737399987, 0.47355218619399886]\n"
     ]
    },
    {
     "name": "stderr",
     "output_type": "stream",
     "text": [
      "Initial filtering of formulas: 100%|█████████████| 2/2 [00:00<00:00, 117.84it/s]\n",
      "Computing chunks: 100%|████████████████████████| 2/2 [00:00<00:00, 44858.87it/s]\n",
      "Splitting the experimental spectrum into chunks: 55902it [00:00, 2472008.25it/s]\n",
      "Deconvolving chunks: 100%|████████████████████████| 1/1 [00:53<00:00, 53.20s/it]\n"
     ]
    },
    {
     "name": "stdout",
     "output_type": "stream",
     "text": [
      "Estimation for 0.3 and 0.29000000000000004 done\n",
      "It took: 53.287994146347046 seconds.\n",
      "[0.5232182470599986, 0.47363126359099883]\n"
     ]
    },
    {
     "name": "stderr",
     "output_type": "stream",
     "text": [
      "Initial filtering of formulas: 100%|█████████████| 2/2 [00:00<00:00, 116.34it/s]\n",
      "Computing chunks: 100%|████████████████████████| 2/2 [00:00<00:00, 52758.54it/s]\n",
      "Splitting the experimental spectrum into chunks: 55902it [00:00, 2438686.81it/s]\n",
      "Deconvolving chunks: 100%|████████████████████████| 1/1 [00:53<00:00, 53.68s/it]"
     ]
    },
    {
     "name": "stdout",
     "output_type": "stream",
     "text": [
      "Estimation for 0.3 and 0.3 done\n",
      "It took: 53.77345824241638 seconds.\n",
      "[0.5231308217159987, 0.4737064075599988]\n"
     ]
    },
    {
     "name": "stderr",
     "output_type": "stream",
     "text": [
      "\n"
     ]
    }
   ],
   "source": [
    "# list_of_estimation_results = []\n",
    "# for kappa in np.arange(start=lower_limit, stop=upper_limit, step=step):\n",
    "#     fixed_kappa = []\n",
    "#     for kappa_prime in np.arange(start=lower_limit, stop=upper_limit, step=step):\n",
    "#         start = time.time()\n",
    "#         estimation = estimate_proportions(mix, [comp0, comp1], \n",
    "#                                    MTD=kappa, MTD_th=kappa_prime, verbose=False, solver=pulp.GUROBI(msg=False))\n",
    "#         end = time.time()\n",
    "#         fixed_kappa.append(estimation['proportions'])\n",
    "#         print('Estimation for '+str(kappa)+' and '+str(kappa_prime)+' done')\n",
    "#         print('It took: '+str(end-start)+' seconds.')\n",
    "#         print(estimation['proportions'])\n",
    "#     list_of_estimation_results.append(fixed_kappa)"
   ]
  },
  {
   "cell_type": "code",
   "execution_count": 37,
   "id": "10de0cad",
   "metadata": {},
   "outputs": [],
   "source": [
    "# list_of_dataframes_with_results = []\n",
    "# for component_number in range(len([comp0, comp1])):\n",
    "#     results_for_component = pd.DataFrame(columns=np.arange(start=lower_limit, stop=upper_limit, step=step),\n",
    "#                                    index=np.arange(start=lower_limit, stop=upper_limit, step=step))\n",
    "#     for i in range(results_for_component.shape[0]):\n",
    "#         for j in range(results_for_component.shape[1]):\n",
    "#             results_for_component.iloc[i,j] = list_of_estimation_results[i][j][component_number]\n",
    "    \n",
    "#     list_of_dataframes_with_results.append(results_for_component)"
   ]
  },
  {
   "cell_type": "code",
   "execution_count": 39,
   "id": "805e4361",
   "metadata": {},
   "outputs": [],
   "source": [
    "# with open('results_for_different_kappas.pkl', 'wb') as f:\n",
    "#     pickle.dump(list_of_dataframes_with_results, f)"
   ]
  },
  {
   "cell_type": "markdown",
   "id": "2464fc70",
   "metadata": {},
   "source": [
    "#### Molar proportions"
   ]
  },
  {
   "cell_type": "code",
   "execution_count": 38,
   "id": "93ddc206",
   "metadata": {},
   "outputs": [],
   "source": [
    "with open('results_for_different_kappas.pkl', 'rb') as f:\n",
    "    list_of_dataframes_with_results = pickle.load(f)\n",
    "#first coordinate: kappa,\n",
    "#second coordinate: kappa_prime"
   ]
  },
  {
   "cell_type": "code",
   "execution_count": 39,
   "id": "c3492ccd",
   "metadata": {},
   "outputs": [],
   "source": [
    "temp = []\n",
    "for nr_of_component, df in enumerate(list_of_dataframes_with_results):\n",
    "    temp.append(df/protons[nr_of_component])\n",
    "temp2 = []\n",
    "for df in temp:\n",
    "    temp2.append(df/sum(temp))\n",
    "list_of_dataframes_with_results = temp2\n",
    "del(temp)\n",
    "del(temp2)"
   ]
  },
  {
   "cell_type": "code",
   "execution_count": 40,
   "id": "3966b65e",
   "metadata": {},
   "outputs": [],
   "source": [
    "dataframes_ready_for_heatmap = []\n",
    "for i, df in enumerate(list_of_dataframes_with_results):\n",
    "    preprocessed_df = abs(df - molar_proportions[i])\n",
    "    dataframes_ready_for_heatmap.append(preprocessed_df)"
   ]
  },
  {
   "cell_type": "code",
   "execution_count": 41,
   "id": "2c555b86",
   "metadata": {},
   "outputs": [],
   "source": [
    "all_components_results_molar = sum(dataframes_ready_for_heatmap)"
   ]
  },
  {
   "cell_type": "markdown",
   "id": "bc8ae7c8",
   "metadata": {},
   "source": [
    "#### Visible proportions"
   ]
  },
  {
   "cell_type": "code",
   "execution_count": 42,
   "id": "cfce8efc",
   "metadata": {},
   "outputs": [],
   "source": [
    "with open('results_for_different_kappas.pkl', 'rb') as f:\n",
    "    list_of_dataframes_with_results = pickle.load(f)\n",
    "#first coordinate: kappa,\n",
    "#second coordinate: kappa_prime"
   ]
  },
  {
   "cell_type": "code",
   "execution_count": 43,
   "id": "5b6afdc9",
   "metadata": {},
   "outputs": [],
   "source": [
    "dataframes_ready_for_heatmap = []\n",
    "for i, df in enumerate(list_of_dataframes_with_results):\n",
    "    preprocessed_df = abs(df - real_visible_proportions[i])\n",
    "    dataframes_ready_for_heatmap.append(preprocessed_df)"
   ]
  },
  {
   "cell_type": "code",
   "execution_count": 44,
   "id": "708e58f1",
   "metadata": {},
   "outputs": [],
   "source": [
    "all_components_results_vis = sum(dataframes_ready_for_heatmap)"
   ]
  },
  {
   "cell_type": "code",
   "execution_count": 45,
   "id": "15aec47f",
   "metadata": {},
   "outputs": [],
   "source": [
    "all_components_results_vis = all_components_results_vis.apply(pd.to_numeric, errors = 'coerce', axis=0)"
   ]
  },
  {
   "cell_type": "code",
   "execution_count": 46,
   "id": "18654e60",
   "metadata": {},
   "outputs": [
    {
     "data": {
      "text/plain": [
       "0.005964439612002437"
      ]
     },
     "execution_count": 46,
     "metadata": {},
     "output_type": "execute_result"
    }
   ],
   "source": [
    "all_components_results_vis.min().min()"
   ]
  },
  {
   "cell_type": "code",
   "execution_count": 47,
   "id": "abb75624",
   "metadata": {},
   "outputs": [
    {
     "data": {
      "text/plain": [
       "0.005964439612002437"
      ]
     },
     "execution_count": 47,
     "metadata": {},
     "output_type": "execute_result"
    }
   ],
   "source": [
    "all_components_results_vis[0.01][0.06999999999999999]"
   ]
  },
  {
   "cell_type": "markdown",
   "id": "e7821cce",
   "metadata": {},
   "source": [
    "#### Both"
   ]
  },
  {
   "cell_type": "code",
   "execution_count": 48,
   "id": "f6c65347",
   "metadata": {},
   "outputs": [],
   "source": [
    "all_components_results_both = all_components_results_vis + all_components_results_molar"
   ]
  },
  {
   "cell_type": "code",
   "execution_count": 49,
   "id": "be073dae",
   "metadata": {},
   "outputs": [],
   "source": [
    "all_components_results_both = all_components_results_both.apply(pd.to_numeric, errors = 'coerce', axis=0)"
   ]
  },
  {
   "cell_type": "code",
   "execution_count": 50,
   "id": "3fd60f02",
   "metadata": {},
   "outputs": [
    {
     "data": {
      "text/plain": [
       "0.010285432799512939"
      ]
     },
     "execution_count": 50,
     "metadata": {},
     "output_type": "execute_result"
    }
   ],
   "source": [
    "all_components_results_both.min().min()"
   ]
  },
  {
   "cell_type": "code",
   "execution_count": 51,
   "id": "67e7030e",
   "metadata": {},
   "outputs": [
    {
     "data": {
      "text/plain": [
       "0.010285432799512939"
      ]
     },
     "execution_count": 51,
     "metadata": {},
     "output_type": "execute_result"
    }
   ],
   "source": [
    "all_components_results_both[0.01][0.05]"
   ]
  },
  {
   "cell_type": "markdown",
   "id": "9c4518b9",
   "metadata": {},
   "source": [
    "### Saving preprocessed spectra"
   ]
  },
  {
   "cell_type": "code",
   "execution_count": null,
   "id": "888f2bd9",
   "metadata": {},
   "outputs": [],
   "source": [
    "# for i, sp in enumerate(spectra_and_mixture):\n",
    "#     try:\n",
    "#         np.savetxt('preprocessed_'+str(names[i])+'.csv', np.array(sp.confs), delimiter=',')\n",
    "#     except IndexError:\n",
    "#         np.savetxt('preprocessed_mix.csv', np.array(sp.confs), delimiter=',')"
   ]
  }
 ],
 "metadata": {
  "kernelspec": {
   "display_name": "Python 3 (ipykernel)",
   "language": "python",
   "name": "python3"
  },
  "language_info": {
   "codemirror_mode": {
    "name": "ipython",
    "version": 3
   },
   "file_extension": ".py",
   "mimetype": "text/x-python",
   "name": "python",
   "nbconvert_exporter": "python",
   "pygments_lexer": "ipython3",
   "version": "3.10.6"
  }
 },
 "nbformat": 4,
 "nbformat_minor": 5
}
